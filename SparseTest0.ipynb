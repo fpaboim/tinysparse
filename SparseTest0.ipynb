{
 "cells": [
  {
   "cell_type": "code",
   "execution_count": 1,
   "id": "4309590e",
   "metadata": {},
   "outputs": [
    {
     "name": "stdout",
     "output_type": "stream",
     "text": [
      "DEVICE:GPU\n"
     ]
    }
   ],
   "source": [
    "from tinygrad.densetensor import DenseTensor\n",
    "from tinygrad.sparsetensor import SparseTensor\n",
    "import numpy as np\n",
    "\n",
    "%load_ext autoreload\n",
    "%autoreload 2"
   ]
  },
  {
   "cell_type": "code",
   "execution_count": 2,
   "id": "4cb532fa",
   "metadata": {},
   "outputs": [],
   "source": [
    "x_init = np.random.randn(1,3).astype(np.float32)\n",
    "x2_init = np.random.randn(3).astype(np.float32)\n",
    "U_init = np.random.randn(3,3).astype(np.float32)\n",
    "V_init = np.random.randn(3,3).astype(np.float32)\n",
    "W_init = np.random.randn(3,3).astype(np.float32)\n",
    "m_init = np.random.randn(1,3).astype(np.float32)"
   ]
  },
  {
   "cell_type": "code",
   "execution_count": 3,
   "id": "3fb8a745",
   "metadata": {},
   "outputs": [
    {
     "data": {
      "text/plain": [
       "(array([0.03697176], dtype=float32),\n",
       " <DenseTensor <GPUBuffer with shape (1, 3)> with grad <GPUBuffer with shape (1, 3)>>)"
      ]
     },
     "execution_count": 3,
     "metadata": {},
     "output_type": "execute_result"
    }
   ],
   "source": [
    "x = DenseTensor(x_init)\n",
    "W = DenseTensor(W_init)\n",
    "m = DenseTensor(m_init)\n",
    "out = x.dot(W).relu()\n",
    "out = out.logsoftmax()\n",
    "out = out.mul(m).add(m).sum()\n",
    "out.backward()\n",
    "\n",
    "out.cpu().data, x"
   ]
  },
  {
   "cell_type": "code",
   "execution_count": 4,
   "id": "46b0ba5a",
   "metadata": {
    "scrolled": true
   },
   "outputs": [
    {
     "name": "stdout",
     "output_type": "stream",
     "text": [
      "SPARSE!\n"
     ]
    },
    {
     "data": {
      "text/plain": [
       "(array([2.9896617], dtype=float32),\n",
       " <DenseTensor <GPUBuffer with shape (1, 3)> with grad <GPUBuffer with shape (1, 3)>>)"
      ]
     },
     "execution_count": 4,
     "metadata": {},
     "output_type": "execute_result"
    }
   ],
   "source": [
    "x2 = DenseTensor(x2_init)#.gpu()\n",
    "W = SparseTensor(W_init)\n",
    "out = W.dot(x2).relu().sum()\n",
    "\n",
    "out.backward()\n",
    "\n",
    "out.cpu().data, x"
   ]
  },
  {
   "cell_type": "code",
   "execution_count": 5,
   "id": "c3d0659d",
   "metadata": {},
   "outputs": [],
   "source": [
    "import numpy as np\n",
    "import pyopencl as cl\n",
    "\n",
    "mf = cl.mem_flags"
   ]
  },
  {
   "cell_type": "code",
   "execution_count": 6,
   "id": "a0cc978b",
   "metadata": {},
   "outputs": [
    {
     "data": {
      "text/plain": [
       "((16, 16), (16,))"
      ]
     },
     "execution_count": 6,
     "metadata": {},
     "output_type": "execute_result"
    }
   ],
   "source": [
    "dim1 = 16\n",
    "dim2 = 16\n",
    "dim3 = 16\n",
    "\n",
    "ctx = cl.create_some_context()\n",
    "queue = cl.CommandQueue(ctx,\n",
    "        properties=cl.command_queue_properties.PROFILING_ENABLE)\n",
    "\n",
    "sparsity = 0.2\n",
    "\n",
    "a = np.zeros((dim1,dim2))\n",
    "b = np.random.rand(dim3).flatten().astype(np.float32)\n",
    "\n",
    "a.shape, b.shape"
   ]
  },
  {
   "cell_type": "code",
   "execution_count": 7,
   "id": "7ecf7a2b",
   "metadata": {},
   "outputs": [],
   "source": [
    "def fill_sparse(mat, sparsity=0.1):\n",
    "    indices = np.array(range(mat.shape[1]))\n",
    "    nrows = int(mat.shape[1]*sparsity)\n",
    "    for row in range(mat.shape[0]):\n",
    "        lim = nrows #+ int(np.random.random()*3)\n",
    "        mat[row][np.random.permutation(indices)[:lim]] = np.random.random(lim)\n",
    "    return mat\n",
    "\n",
    "a = fill_sparse(a, sparsity)\n",
    "#b = fill_sparse(b, sparsity)"
   ]
  },
  {
   "cell_type": "code",
   "execution_count": 8,
   "id": "b32f0e9a",
   "metadata": {},
   "outputs": [
    {
     "data": {
      "text/plain": [
       "array([[0.        , 0.        , 0.        , 0.22884285, 0.72049601,\n",
       "        0.        , 0.        , 0.        , 0.        , 0.        ,\n",
       "        0.37543965, 0.        , 0.        , 0.        , 0.        ,\n",
       "        0.        ],\n",
       "       [0.        , 0.42571469, 0.        , 0.        , 0.        ,\n",
       "        0.        , 0.        , 0.        , 0.        , 0.        ,\n",
       "        0.        , 0.        , 0.        , 0.12234535, 0.        ,\n",
       "        0.03941203],\n",
       "       [0.        , 0.        , 0.        , 0.6174901 , 0.07481382,\n",
       "        0.        , 0.        , 0.        , 0.        , 0.        ,\n",
       "        0.        , 0.        , 0.37348408, 0.        , 0.        ,\n",
       "        0.        ],\n",
       "       [0.        , 0.25003672, 0.        , 0.        , 0.        ,\n",
       "        0.        , 0.        , 0.        , 0.        , 0.        ,\n",
       "        0.        , 0.        , 0.        , 0.26944973, 0.        ,\n",
       "        0.52407222],\n",
       "       [0.        , 0.92721524, 0.        , 0.        , 0.        ,\n",
       "        0.        , 0.        , 0.        , 0.        , 0.        ,\n",
       "        0.        , 0.62102038, 0.        , 0.80167836, 0.        ,\n",
       "        0.        ],\n",
       "       [0.71759965, 0.07308079, 0.        , 0.        , 0.        ,\n",
       "        0.        , 0.        , 0.        , 0.        , 0.        ,\n",
       "        0.        , 0.        , 0.99252073, 0.        , 0.        ,\n",
       "        0.        ],\n",
       "       [0.        , 0.        , 0.4239849 , 0.        , 0.        ,\n",
       "        0.        , 0.        , 0.        , 0.93722689, 0.        ,\n",
       "        0.        , 0.        , 0.37676591, 0.        , 0.        ,\n",
       "        0.        ],\n",
       "       [0.        , 0.        , 0.        , 0.        , 0.        ,\n",
       "        0.81243615, 0.        , 0.        , 0.        , 0.01329434,\n",
       "        0.        , 0.        , 0.        , 0.        , 0.        ,\n",
       "        0.0506534 ],\n",
       "       [0.        , 0.        , 0.        , 0.        , 0.        ,\n",
       "        0.        , 0.97979208, 0.        , 0.        , 0.        ,\n",
       "        0.69062369, 0.        , 0.        , 0.96958005, 0.        ,\n",
       "        0.        ],\n",
       "       [0.        , 0.90602161, 0.        , 0.03547956, 0.        ,\n",
       "        0.        , 0.        , 0.        , 0.        , 0.        ,\n",
       "        0.        , 0.38911737, 0.        , 0.        , 0.        ,\n",
       "        0.        ],\n",
       "       [0.        , 0.        , 0.19059164, 0.63462295, 0.        ,\n",
       "        0.        , 0.        , 0.        , 0.        , 0.        ,\n",
       "        0.        , 0.77160998, 0.        , 0.        , 0.        ,\n",
       "        0.        ],\n",
       "       [0.        , 0.        , 0.        , 0.        , 0.65560845,\n",
       "        0.        , 0.        , 0.20687285, 0.        , 0.        ,\n",
       "        0.        , 0.        , 0.        , 0.        , 0.23891471,\n",
       "        0.        ],\n",
       "       [0.        , 0.        , 0.        , 0.        , 0.6797731 ,\n",
       "        0.65692951, 0.        , 0.        , 0.        , 0.68571149,\n",
       "        0.        , 0.        , 0.        , 0.        , 0.        ,\n",
       "        0.        ],\n",
       "       [0.        , 0.        , 0.        , 0.05152655, 0.        ,\n",
       "        0.        , 0.        , 0.        , 0.        , 0.        ,\n",
       "        0.        , 0.        , 0.        , 0.        , 0.27620088,\n",
       "        0.18861153],\n",
       "       [0.00584277, 0.        , 0.        , 0.        , 0.09967773,\n",
       "        0.        , 0.        , 0.        , 0.        , 0.        ,\n",
       "        0.        , 0.        , 0.        , 0.        , 0.        ,\n",
       "        0.32449762],\n",
       "       [0.        , 0.        , 0.        , 0.        , 0.        ,\n",
       "        0.        , 0.34357245, 0.28882391, 0.38446019, 0.        ,\n",
       "        0.        , 0.        , 0.        , 0.        , 0.        ,\n",
       "        0.        ]])"
      ]
     },
     "execution_count": 8,
     "metadata": {},
     "output_type": "execute_result"
    }
   ],
   "source": [
    "a"
   ]
  },
  {
   "cell_type": "code",
   "execution_count": 9,
   "id": "d286d740",
   "metadata": {},
   "outputs": [
    {
     "data": {
      "text/plain": [
       "array([0.9134758 , 0.48745564, 0.6517366 , 0.6415785 , 0.6639154 ,\n",
       "       0.9750189 , 0.27635226, 0.44200438, 0.84631807, 0.29869252,\n",
       "       0.435801  , 0.03999306, 0.46944958, 0.06950701, 0.4052567 ,\n",
       "       0.9115287 ], dtype=float32)"
      ]
     },
     "execution_count": 9,
     "metadata": {},
     "output_type": "execute_result"
    }
   ],
   "source": [
    "b"
   ]
  },
  {
   "cell_type": "code",
   "execution_count": 10,
   "id": "45c14776",
   "metadata": {},
   "outputs": [
    {
     "data": {
      "text/plain": [
       "array([ 0.5816005 ,  0.16773574, -1.1323636 ], dtype=float32)"
      ]
     },
     "execution_count": 10,
     "metadata": {},
     "output_type": "execute_result"
    }
   ],
   "source": [
    "x2_init.T"
   ]
  },
  {
   "cell_type": "code",
   "execution_count": 11,
   "id": "6b2b88a2",
   "metadata": {},
   "outputs": [
    {
     "data": {
      "text/plain": [
       "array([0.78878602, 0.25194608, 0.62117036, 0.61831732, 0.53253507,\n",
       "       1.15707201, 1.24639114, 0.84228357, 0.63913486, 0.47997026,\n",
       "       0.56223503, 0.62352903, 1.29664743, 0.31691541, 0.3673037 ,\n",
       "       0.54798406])"
      ]
     },
     "execution_count": 11,
     "metadata": {},
     "output_type": "execute_result"
    }
   ],
   "source": [
    "mult = a.dot(b)\n",
    "mult"
   ]
  },
  {
   "cell_type": "code",
   "execution_count": 12,
   "id": "d33049e0",
   "metadata": {},
   "outputs": [
    {
     "data": {
      "text/plain": [
       "(16,)"
      ]
     },
     "execution_count": 12,
     "metadata": {},
     "output_type": "execute_result"
    }
   ],
   "source": [
    "mult.shape"
   ]
  },
  {
   "cell_type": "code",
   "execution_count": 13,
   "id": "67872651",
   "metadata": {},
   "outputs": [],
   "source": [
    "def to_data(mat):\n",
    "    ellwidth = int(mat.shape[1]/2)\n",
    "    all_rows = []\n",
    "    all_idxs = []\n",
    "    all_nnzs = []\n",
    "    for row in range(mat.shape[0]):\n",
    "        rowdata = []\n",
    "        colidxs = []\n",
    "        all_nnzs.append(0)\n",
    "        for col in range(mat.shape[1]):\n",
    "            val = mat[row][col]\n",
    "            if val != 0:\n",
    "                rowdata.append(val)\n",
    "                colidxs.append(col)\n",
    "                all_nnzs[-1] += 1\n",
    "        rowdata = np.array(rowdata)\n",
    "        rowdata.resize(ellwidth)\n",
    "        all_rows.append(rowdata)\n",
    "        colidxs = np.array(colidxs)\n",
    "        colidxs.resize(ellwidth)\n",
    "        all_idxs.append(colidxs)\n",
    "    all_rows = np.array(all_rows).astype(np.float32).flatten()\n",
    "    all_idxs = np.array(all_idxs).astype(np.uint32).flatten()\n",
    "    all_nnzs = np.array(all_nnzs).astype(np.uint32)\n",
    "    return all_rows, all_idxs, all_nnzs, ellwidth"
   ]
  },
  {
   "cell_type": "code",
   "execution_count": 14,
   "id": "5c9c6134",
   "metadata": {},
   "outputs": [
    {
     "data": {
      "text/plain": [
       "(array([0.22884285, 0.720496  , 0.37543964, 0.        , 0.        ,\n",
       "        0.        , 0.        , 0.        , 0.4257147 , 0.12234534,\n",
       "        0.03941203, 0.        , 0.        , 0.        , 0.        ,\n",
       "        0.        , 0.6174901 , 0.07481382, 0.37348408, 0.        ,\n",
       "        0.        , 0.        , 0.        , 0.        , 0.25003672,\n",
       "        0.26944974, 0.52407223, 0.        , 0.        , 0.        ,\n",
       "        0.        , 0.        , 0.9272152 , 0.6210204 , 0.80167836,\n",
       "        0.        , 0.        , 0.        , 0.        , 0.        ,\n",
       "        0.71759963, 0.07308079, 0.99252075, 0.        , 0.        ,\n",
       "        0.        , 0.        , 0.        , 0.42398492, 0.9372269 ,\n",
       "        0.3767659 , 0.        , 0.        , 0.        , 0.        ,\n",
       "        0.        , 0.81243616, 0.01329434, 0.0506534 , 0.        ,\n",
       "        0.        , 0.        , 0.        , 0.        , 0.97979206,\n",
       "        0.6906237 , 0.96958005, 0.        , 0.        , 0.        ,\n",
       "        0.        , 0.        , 0.9060216 , 0.03547956, 0.38911736,\n",
       "        0.        , 0.        , 0.        , 0.        , 0.        ,\n",
       "        0.19059165, 0.63462293, 0.77160996, 0.        , 0.        ,\n",
       "        0.        , 0.        , 0.        , 0.6556085 , 0.20687285,\n",
       "        0.23891471, 0.        , 0.        , 0.        , 0.        ,\n",
       "        0.        , 0.6797731 , 0.6569295 , 0.6857115 , 0.        ,\n",
       "        0.        , 0.        , 0.        , 0.        , 0.05152655,\n",
       "        0.2762009 , 0.18861154, 0.        , 0.        , 0.        ,\n",
       "        0.        , 0.        , 0.00584277, 0.09967773, 0.3244976 ,\n",
       "        0.        , 0.        , 0.        , 0.        , 0.        ,\n",
       "        0.34357244, 0.2888239 , 0.38446018, 0.        , 0.        ,\n",
       "        0.        , 0.        , 0.        ], dtype=float32),\n",
       " array([ 3,  4, 10,  0,  0,  0,  0,  0,  1, 13, 15,  0,  0,  0,  0,  0,  3,\n",
       "         4, 12,  0,  0,  0,  0,  0,  1, 13, 15,  0,  0,  0,  0,  0,  1, 11,\n",
       "        13,  0,  0,  0,  0,  0,  0,  1, 12,  0,  0,  0,  0,  0,  2,  8, 12,\n",
       "         0,  0,  0,  0,  0,  5,  9, 15,  0,  0,  0,  0,  0,  6, 10, 13,  0,\n",
       "         0,  0,  0,  0,  1,  3, 11,  0,  0,  0,  0,  0,  2,  3, 11,  0,  0,\n",
       "         0,  0,  0,  4,  7, 14,  0,  0,  0,  0,  0,  4,  5,  9,  0,  0,  0,\n",
       "         0,  0,  3, 14, 15,  0,  0,  0,  0,  0,  0,  4, 15,  0,  0,  0,  0,\n",
       "         0,  6,  7,  8,  0,  0,  0,  0,  0], dtype=uint32),\n",
       " array([3, 3, 3, 3, 3, 3, 3, 3, 3, 3, 3, 3, 3, 3, 3, 3], dtype=uint32),\n",
       " 8)"
      ]
     },
     "execution_count": 14,
     "metadata": {},
     "output_type": "execute_result"
    }
   ],
   "source": [
    "adata, acols, annz, ellwa = to_data(a)\n",
    "adata, acols, annz, ellwa"
   ]
  },
  {
   "cell_type": "code",
   "execution_count": 15,
   "id": "fbb29574",
   "metadata": {},
   "outputs": [],
   "source": [
    "#acols = acols.astype(np.uint32)\n",
    "#annz = annz.astype(np.uint32)"
   ]
  },
  {
   "cell_type": "code",
   "execution_count": 16,
   "id": "008c1a26",
   "metadata": {},
   "outputs": [
    {
     "data": {
      "text/plain": [
       "(array([0.22884285, 0.720496  , 0.37543964, 0.        , 0.        ,\n",
       "        0.        , 0.        , 0.        , 0.4257147 , 0.12234534,\n",
       "        0.03941203, 0.        , 0.        , 0.        , 0.        ,\n",
       "        0.        , 0.6174901 , 0.07481382, 0.37348408, 0.        ,\n",
       "        0.        , 0.        , 0.        , 0.        , 0.25003672,\n",
       "        0.26944974, 0.52407223, 0.        , 0.        , 0.        ,\n",
       "        0.        , 0.        , 0.9272152 , 0.6210204 , 0.80167836,\n",
       "        0.        , 0.        , 0.        , 0.        , 0.        ,\n",
       "        0.71759963, 0.07308079, 0.99252075, 0.        , 0.        ,\n",
       "        0.        , 0.        , 0.        , 0.42398492, 0.9372269 ,\n",
       "        0.3767659 , 0.        , 0.        , 0.        , 0.        ,\n",
       "        0.        , 0.81243616, 0.01329434, 0.0506534 , 0.        ,\n",
       "        0.        , 0.        , 0.        , 0.        , 0.97979206,\n",
       "        0.6906237 , 0.96958005, 0.        , 0.        , 0.        ,\n",
       "        0.        , 0.        , 0.9060216 , 0.03547956, 0.38911736,\n",
       "        0.        , 0.        , 0.        , 0.        , 0.        ,\n",
       "        0.19059165, 0.63462293, 0.77160996, 0.        , 0.        ,\n",
       "        0.        , 0.        , 0.        , 0.6556085 , 0.20687285,\n",
       "        0.23891471, 0.        , 0.        , 0.        , 0.        ,\n",
       "        0.        , 0.6797731 , 0.6569295 , 0.6857115 , 0.        ,\n",
       "        0.        , 0.        , 0.        , 0.        , 0.05152655,\n",
       "        0.2762009 , 0.18861154, 0.        , 0.        , 0.        ,\n",
       "        0.        , 0.        , 0.00584277, 0.09967773, 0.3244976 ,\n",
       "        0.        , 0.        , 0.        , 0.        , 0.        ,\n",
       "        0.34357244, 0.2888239 , 0.38446018, 0.        , 0.        ,\n",
       "        0.        , 0.        , 0.        ], dtype=float32),\n",
       " array([ 3,  4, 10,  0,  0,  0,  0,  0,  1, 13, 15,  0,  0,  0,  0,  0,  3,\n",
       "         4, 12,  0,  0,  0,  0,  0,  1, 13, 15,  0,  0,  0,  0,  0,  1, 11,\n",
       "        13,  0,  0,  0,  0,  0,  0,  1, 12,  0,  0,  0,  0,  0,  2,  8, 12,\n",
       "         0,  0,  0,  0,  0,  5,  9, 15,  0,  0,  0,  0,  0,  6, 10, 13,  0,\n",
       "         0,  0,  0,  0,  1,  3, 11,  0,  0,  0,  0,  0,  2,  3, 11,  0,  0,\n",
       "         0,  0,  0,  4,  7, 14,  0,  0,  0,  0,  0,  4,  5,  9,  0,  0,  0,\n",
       "         0,  0,  3, 14, 15,  0,  0,  0,  0,  0,  0,  4, 15,  0,  0,  0,  0,\n",
       "         0,  6,  7,  8,  0,  0,  0,  0,  0], dtype=uint32),\n",
       " array([3, 3, 3, 3, 3, 3, 3, 3, 3, 3, 3, 3, 3, 3, 3, 3], dtype=uint32),\n",
       " array([0.9134758 , 0.48745564, 0.6517366 , 0.6415785 , 0.6639154 ,\n",
       "        0.9750189 , 0.27635226, 0.44200438, 0.84631807, 0.29869252,\n",
       "        0.435801  , 0.03999306, 0.46944958, 0.06950701, 0.4052567 ,\n",
       "        0.9115287 ], dtype=float32))"
      ]
     },
     "execution_count": 16,
     "metadata": {},
     "output_type": "execute_result"
    }
   ],
   "source": [
    "adata, acols, annz, b"
   ]
  },
  {
   "cell_type": "code",
   "execution_count": 17,
   "id": "6e741bf7",
   "metadata": {},
   "outputs": [],
   "source": [
    "adata_buf = cl.Buffer(ctx, mf.READ_WRITE | mf.COPY_HOST_PTR, hostbuf=adata)\n",
    "acols_buf = cl.Buffer(ctx, mf.READ_WRITE | mf.COPY_HOST_PTR, hostbuf=acols)\n",
    "annzs_buf = cl.Buffer(ctx, mf.READ_WRITE | mf.COPY_HOST_PTR, hostbuf=annz)\n",
    "b_buf = cl.Buffer(ctx, mf.READ_WRITE | mf.COPY_HOST_PTR, hostbuf=b)\n",
    "\n",
    "prg = cl.Program(ctx, \"\"\"\n",
    "// Every global_id_0 works on a row\n",
    "__kernel void SpMVNaive(__global  float* matData,     // INPUT MATRIX DATA\n",
    "                        __global  uint*  colIdx,\n",
    "                        __global  uint*  rowNnz,\n",
    "                        uint   ellwidth,\n",
    "                        __global  float* vector_x,    // INPUT\n",
    "                        __global  float* vector_y    // OUTPUT\n",
    "                        ) { // LOCAL SHARED BUFFER\n",
    "  uint gid = get_global_id(0);\n",
    "  \n",
    "  \n",
    "  uint nnz    = rowNnz[gid];\n",
    "  float sum = 0;\n",
    "  for (uint i = 0; i < nnz; i++) {\n",
    "    uint index   = gid * ellwidth + i;\n",
    "    uint col     = colIdx[index];\n",
    "    float aval  = matData[index];\n",
    "    float xval  = vector_x[col];\n",
    "    printf(\"aval, xval: %.2f,%.2f:%i-%i \\\\n\", aval, xval, col, index);\n",
    "    sum  += aval * xval;\n",
    "  }\n",
    "  printf(\"SUM/NNZ: %.2f %i \\\\n\", sum, nnz);\n",
    "  vector_y[gid] = sum;\n",
    "}\"\"\").build()"
   ]
  },
  {
   "cell_type": "code",
   "execution_count": 18,
   "id": "b4c85bcb",
   "metadata": {},
   "outputs": [
    {
     "data": {
      "text/plain": [
       "((16, 16), (16,))"
      ]
     },
     "execution_count": 18,
     "metadata": {},
     "output_type": "execute_result"
    }
   ],
   "source": [
    "a.shape, b.shape"
   ]
  },
  {
   "cell_type": "code",
   "execution_count": 19,
   "id": "c740a4fe",
   "metadata": {},
   "outputs": [
    {
     "data": {
      "text/plain": [
       "array([0., 0., 0., 0., 0., 0., 0., 0., 0., 0., 0., 0., 0., 0., 0., 0.],\n",
       "      dtype=float32)"
      ]
     },
     "execution_count": 19,
     "metadata": {},
     "output_type": "execute_result"
    }
   ],
   "source": [
    "res = np.zeros(a.shape[0]).astype(np.float32)\n",
    "res"
   ]
  },
  {
   "cell_type": "code",
   "execution_count": 20,
   "id": "07aa4d30",
   "metadata": {},
   "outputs": [],
   "source": [
    "rows = a.shape[0]"
   ]
  },
  {
   "cell_type": "code",
   "execution_count": 21,
   "id": "a72195ae",
   "metadata": {},
   "outputs": [
    {
     "data": {
      "text/plain": [
       "array([8], dtype=uint32)"
      ]
     },
     "execution_count": 21,
     "metadata": {},
     "output_type": "execute_result"
    }
   ],
   "source": [
    "ellw = np.array([ellwa]).astype(np.uint32)\n",
    "ellw"
   ]
  },
  {
   "cell_type": "code",
   "execution_count": 22,
   "id": "98da857f",
   "metadata": {},
   "outputs": [],
   "source": [
    "mult = mult.astype(np.float32)"
   ]
  },
  {
   "cell_type": "code",
   "execution_count": 23,
   "id": "def43deb",
   "metadata": {},
   "outputs": [
    {
     "data": {
      "text/plain": [
       "array([0.788786  , 0.2519461 , 0.62117034, 0.6183173 , 0.5325351 ,\n",
       "       1.157072  , 1.2463912 , 0.84228355, 0.6391349 , 0.47997025,\n",
       "       0.56223506, 0.623529  , 1.2966474 , 0.3169154 , 0.3673037 ,\n",
       "       0.54798406], dtype=float32)"
      ]
     },
     "execution_count": 23,
     "metadata": {},
     "output_type": "execute_result"
    }
   ],
   "source": [
    "mult"
   ]
  },
  {
   "cell_type": "code",
   "execution_count": 24,
   "id": "67fcc1a1",
   "metadata": {},
   "outputs": [
    {
     "data": {
      "text/plain": [
       "64"
      ]
     },
     "execution_count": 24,
     "metadata": {},
     "output_type": "execute_result"
    }
   ],
   "source": [
    "mult.nbytes"
   ]
  },
  {
   "cell_type": "code",
   "execution_count": 25,
   "id": "2d6c6f20",
   "metadata": {},
   "outputs": [
    {
     "data": {
      "text/plain": [
       "64"
      ]
     },
     "execution_count": 25,
     "metadata": {},
     "output_type": "execute_result"
    }
   ],
   "source": [
    "len(mult)*4"
   ]
  },
  {
   "cell_type": "code",
   "execution_count": 26,
   "id": "cc7365fc",
   "metadata": {},
   "outputs": [
    {
     "data": {
      "text/plain": [
       "<pyopencl._cl.NannyEvent at 0x7efbc820ff90>"
      ]
     },
     "execution_count": 26,
     "metadata": {},
     "output_type": "execute_result"
    },
    {
     "name": "stdout",
     "output_type": "stream",
     "text": [
      "aval, xval: 0.23,0.64:3-0 \n",
      "aval, xval: 0.43,0.49:1-8 \n",
      "aval, xval: 0.62,0.64:3-16 \n",
      "aval, xval: 0.25,0.49:1-24 \n",
      "aval, xval: 0.93,0.49:1-32 \n",
      "aval, xval: 0.72,0.91:0-40 \n",
      "aval, xval: 0.42,0.65:2-48 \n",
      "aval, xval: 0.81,0.98:5-56 \n",
      "aval, xval: 0.98,0.28:6-64 \n",
      "aval, xval: 0.91,0.49:1-72 \n",
      "aval, xval: 0.19,0.65:2-80 \n",
      "aval, xval: 0.66,0.66:4-88 \n",
      "aval, xval: 0.68,0.66:4-96 \n",
      "aval, xval: 0.05,0.64:3-104 \n",
      "aval, xval: 0.01,0.91:0-112 \n",
      "aval, xval: 0.34,0.28:6-120 \n",
      "aval, xval: 0.72,0.66:4-1 \n",
      "aval, xval: 0.12,0.07:13-9 \n",
      "aval, xval: 0.07,0.66:4-17 \n",
      "aval, xval: 0.27,0.07:13-25 \n",
      "aval, xval: 0.62,0.04:11-33 \n",
      "aval, xval: 0.07,0.49:1-41 \n",
      "aval, xval: 0.94,0.85:8-49 \n",
      "aval, xval: 0.01,0.30:9-57 \n",
      "aval, xval: 0.69,0.44:10-65 \n",
      "aval, xval: 0.04,0.64:3-73 \n",
      "aval, xval: 0.63,0.64:3-81 \n",
      "aval, xval: 0.21,0.44:7-89 \n",
      "aval, xval: 0.66,0.98:5-97 \n",
      "aval, xval: 0.28,0.41:14-105 \n",
      "aval, xval: 0.10,0.66:4-113 \n",
      "aval, xval: 0.29,0.44:7-121 \n",
      "aval, xval: 0.38,0.44:10-2 \n",
      "aval, xval: 0.04,0.91:15-10 \n",
      "aval, xval: 0.37,0.47:12-18 \n",
      "aval, xval: 0.52,0.91:15-26 \n",
      "aval, xval: 0.80,0.07:13-34 \n",
      "aval, xval: 0.99,0.47:12-42 \n",
      "aval, xval: 0.38,0.47:12-50 \n",
      "aval, xval: 0.05,0.91:15-58 \n",
      "aval, xval: 0.97,0.07:13-66 \n",
      "aval, xval: 0.39,0.04:11-74 \n",
      "aval, xval: 0.77,0.04:11-82 \n",
      "aval, xval: 0.24,0.41:14-90 \n",
      "aval, xval: 0.69,0.30:9-98 \n",
      "aval, xval: 0.19,0.91:15-106 \n",
      "aval, xval: 0.32,0.91:15-114 \n",
      "aval, xval: 0.38,0.85:8-122 \n",
      "SUM/NNZ: 0.79 3 \n",
      "SUM/NNZ: 0.25 3 \n",
      "SUM/NNZ: 0.62 3 \n",
      "SUM/NNZ: 0.62 3 \n",
      "SUM/NNZ: 0.53 3 \n",
      "SUM/NNZ: 1.16 3 \n",
      "SUM/NNZ: 1.25 3 \n",
      "SUM/NNZ: 0.84 3 \n",
      "SUM/NNZ: 0.64 3 \n",
      "SUM/NNZ: 0.48 3 \n",
      "SUM/NNZ: 0.56 3 \n",
      "SUM/NNZ: 0.62 3 \n",
      "SUM/NNZ: 1.30 3 \n",
      "SUM/NNZ: 0.32 3 \n",
      "SUM/NNZ: 0.37 3 \n",
      "SUM/NNZ: 0.55 3 \n"
     ]
    }
   ],
   "source": [
    "res_buf = cl.Buffer(ctx, mf.WRITE_ONLY, mult.nbytes)\n",
    "knl = prg.SpMVNaive  # Use this Kernel object for repeated calls\n",
    "knl(queue, [rows,], None, adata_buf, acols_buf, annzs_buf, ellw, b_buf, res_buf)\n",
    "\n",
    "res_np = np.empty_like(a)\n",
    "cl.enqueue_copy(queue, res, res_buf)"
   ]
  },
  {
   "cell_type": "code",
   "execution_count": 27,
   "id": "33d8a584",
   "metadata": {},
   "outputs": [
    {
     "data": {
      "text/plain": [
       "<pyopencl._cl.Buffer at 0x7efbc8c75ea0>"
      ]
     },
     "execution_count": 27,
     "metadata": {},
     "output_type": "execute_result"
    }
   ],
   "source": [
    "res_buf"
   ]
  },
  {
   "cell_type": "code",
   "execution_count": 28,
   "id": "c197fea2",
   "metadata": {},
   "outputs": [
    {
     "data": {
      "text/plain": [
       "array([0.788786  , 0.2519461 , 0.62117034, 0.61831737, 0.532535  ,\n",
       "       1.157072  , 1.2463912 , 0.84228355, 0.6391348 , 0.47997025,\n",
       "       0.56223506, 0.623529  , 1.2966474 , 0.31691542, 0.3673037 ,\n",
       "       0.54798406], dtype=float32)"
      ]
     },
     "execution_count": 28,
     "metadata": {},
     "output_type": "execute_result"
    }
   ],
   "source": [
    "res"
   ]
  },
  {
   "cell_type": "code",
   "execution_count": 29,
   "id": "b20b9da3",
   "metadata": {},
   "outputs": [
    {
     "data": {
      "text/plain": [
       "array([0.788786  , 0.2519461 , 0.62117034, 0.6183173 , 0.5325351 ,\n",
       "       1.157072  , 1.2463912 , 0.84228355, 0.6391349 , 0.47997025,\n",
       "       0.56223506, 0.623529  , 1.2966474 , 0.3169154 , 0.3673037 ,\n",
       "       0.54798406], dtype=float32)"
      ]
     },
     "execution_count": 29,
     "metadata": {},
     "output_type": "execute_result"
    }
   ],
   "source": [
    "mult"
   ]
  },
  {
   "cell_type": "code",
   "execution_count": 30,
   "id": "2a6322f5",
   "metadata": {},
   "outputs": [
    {
     "data": {
      "text/plain": [
       "-2.9802322e-08"
      ]
     },
     "execution_count": 30,
     "metadata": {},
     "output_type": "execute_result"
    }
   ],
   "source": [
    "(res-mult).sum()"
   ]
  },
  {
   "cell_type": "markdown",
   "id": "b3ad7225",
   "metadata": {},
   "source": [
    "## Weight update kernel"
   ]
  },
  {
   "cell_type": "code",
   "execution_count": 31,
   "id": "76e44e2d",
   "metadata": {},
   "outputs": [
    {
     "data": {
      "text/plain": [
       "((16,), (16,))"
      ]
     },
     "execution_count": 31,
     "metadata": {},
     "output_type": "execute_result"
    }
   ],
   "source": [
    "dim = 16\n",
    "topk = 4\n",
    "\n",
    "x = np.random.rand(dim).astype(np.float32)\n",
    "y = np.random.rand(dim).astype(np.float32)\n",
    "x.shape,y.shape"
   ]
  },
  {
   "cell_type": "code",
   "execution_count": 32,
   "id": "75611f3a",
   "metadata": {},
   "outputs": [],
   "source": [
    "x_buf = cl.Buffer(ctx, mf.READ_ONLY | mf.COPY_HOST_PTR, hostbuf=x)\n",
    "y_buf = cl.Buffer(ctx, mf.READ_ONLY | mf.COPY_HOST_PTR, hostbuf=y)\n",
    "x_cp_buf = cl.Buffer(ctx, mf.WRITE_ONLY, x.nbytes)\n",
    "x_idx_buf = cl.Buffer(ctx, mf.WRITE_ONLY, x.nbytes)\n",
    "y_cp_buf = cl.Buffer(ctx, mf.WRITE_ONLY, x.nbytes)\n",
    "y_idx_buf = cl.Buffer(ctx, mf.WRITE_ONLY, x.nbytes)\n",
    "\n",
    "prg = cl.Program(ctx, \"\"\"\n",
    "// Every global_id_0 works on a row\n",
    "__kernel void genwupdate(__global  float* x,     // INPUT MATRIX DATA\n",
    "                         __global  float* y,    // INPUT\n",
    "                         __global  float* xout,    // INPUT\n",
    "                         __global  uint* xoutidx,    // INPUT\n",
    "                         __global  float* yout,    // INPUT\n",
    "                         __global  uint* youtidx    // INPUT\n",
    "                        ) { // LOCAL SHARED BUFFER\n",
    "  uint gid = get_global_id(0);\n",
    "  uint n = get_global_size(0);\n",
    "  \n",
    "  xout[gid] = x[gid];\n",
    "  xoutidx[gid] = gid;\n",
    "  yout[gid] = y[gid];\n",
    "  youtidx[gid] = gid;\n",
    "  \n",
    "  float valx = x[gid];\n",
    "  float valy = y[gid];\n",
    "  uint idx = xoutidx[gid];\n",
    "  uint posx = 0;\n",
    "  uint posy = 0;\n",
    "  for (uint i = 0; i < n; i++) {\n",
    "    float tempval = x[i];\n",
    "    float tempval2 = y[i];\n",
    "    bool smaller = tempval > valx;\n",
    "    bool smaller2 = tempval2 > valy;\n",
    "      \n",
    "    posx += (smaller)?1:0;\n",
    "    posy += (smaller2)?1:0;\n",
    "  }\n",
    "  //printf(\"posx:%i\", posx);\n",
    "  xout[posx] = valx;\n",
    "  xoutidx[posx] = gid;\n",
    "  yout[posy] = valy;\n",
    "  youtidx[posy] = gid;\n",
    "}\"\"\").build()"
   ]
  },
  {
   "cell_type": "code",
   "execution_count": 33,
   "id": "94682965",
   "metadata": {},
   "outputs": [
    {
     "data": {
      "text/plain": [
       "<pyopencl._cl.NannyEvent at 0x7efbc820fe50>"
      ]
     },
     "execution_count": 33,
     "metadata": {},
     "output_type": "execute_result"
    }
   ],
   "source": [
    "knl = prg.genwupdate  # Use this Kernel object for repeated calls\n",
    "knl(queue, [dim,], None, x_buf, y_buf, x_cp_buf, x_idx_buf, y_cp_buf, y_idx_buf)\n",
    "\n",
    "resx = np.zeros(dim).astype(np.float32)\n",
    "resxidx = np.zeros(dim).astype(np.uint32)\n",
    "resy = np.zeros(dim).astype(np.float32)\n",
    "resyidx = np.zeros(dim).astype(np.uint32)\n",
    "\n",
    "cl.enqueue_copy(queue, resx, x_cp_buf)\n",
    "cl.enqueue_copy(queue, resxidx, x_idx_buf)\n",
    "cl.enqueue_copy(queue, resy, y_cp_buf)\n",
    "cl.enqueue_copy(queue, resyidx, y_idx_buf)"
   ]
  },
  {
   "cell_type": "code",
   "execution_count": 34,
   "id": "88725ae2",
   "metadata": {},
   "outputs": [
    {
     "data": {
      "text/plain": [
       "array([0.38436326, 0.6282593 , 0.23239243, 0.84487927, 0.34840786,\n",
       "       0.0562746 , 0.5742207 , 0.1643646 , 0.7778896 , 0.2617748 ,\n",
       "       0.15786238, 0.94446903, 0.43403378, 0.5977317 , 0.28563315,\n",
       "       0.32617348], dtype=float32)"
      ]
     },
     "execution_count": 34,
     "metadata": {},
     "output_type": "execute_result"
    }
   ],
   "source": [
    "x"
   ]
  },
  {
   "cell_type": "code",
   "execution_count": 35,
   "id": "a1f20d07",
   "metadata": {},
   "outputs": [
    {
     "data": {
      "text/plain": [
       "array([0.94446903, 0.84487927, 0.7778896 , 0.6282593 , 0.5977317 ,\n",
       "       0.5742207 , 0.43403378, 0.38436326, 0.34840786, 0.32617348,\n",
       "       0.28563315, 0.2617748 , 0.23239243, 0.1643646 , 0.15786238,\n",
       "       0.0562746 ], dtype=float32)"
      ]
     },
     "execution_count": 35,
     "metadata": {},
     "output_type": "execute_result"
    }
   ],
   "source": [
    "resx"
   ]
  },
  {
   "cell_type": "code",
   "execution_count": 36,
   "id": "c555bd00",
   "metadata": {},
   "outputs": [
    {
     "data": {
      "text/plain": [
       "array([11,  3,  8,  1, 13,  6, 12,  0,  4, 15, 14,  9,  2,  7, 10,  5],\n",
       "      dtype=uint32)"
      ]
     },
     "execution_count": 36,
     "metadata": {},
     "output_type": "execute_result"
    }
   ],
   "source": [
    "resxidx"
   ]
  },
  {
   "cell_type": "code",
   "execution_count": 37,
   "id": "4c150d0f",
   "metadata": {},
   "outputs": [
    {
     "data": {
      "text/plain": [
       "array([0.34142965, 0.912634  , 0.22059757, 0.38525775, 0.5819617 ,\n",
       "       0.17507966, 0.40275997, 0.48376763, 0.7341737 , 0.14274661,\n",
       "       0.5187501 , 0.41498157, 0.20583646, 0.07330994, 0.31233174,\n",
       "       0.910271  ], dtype=float32)"
      ]
     },
     "execution_count": 37,
     "metadata": {},
     "output_type": "execute_result"
    }
   ],
   "source": [
    "y"
   ]
  },
  {
   "cell_type": "code",
   "execution_count": 38,
   "id": "2445b2e5",
   "metadata": {},
   "outputs": [
    {
     "data": {
      "text/plain": [
       "array([0.912634  , 0.910271  , 0.7341737 , 0.5819617 , 0.5187501 ,\n",
       "       0.48376763, 0.41498157, 0.40275997, 0.38525775, 0.34142965,\n",
       "       0.31233174, 0.22059757, 0.20583646, 0.17507966, 0.14274661,\n",
       "       0.07330994], dtype=float32)"
      ]
     },
     "execution_count": 38,
     "metadata": {},
     "output_type": "execute_result"
    }
   ],
   "source": [
    "resy"
   ]
  },
  {
   "cell_type": "code",
   "execution_count": 39,
   "id": "f366fda3",
   "metadata": {},
   "outputs": [
    {
     "data": {
      "text/plain": [
       "array([ 1, 15,  8,  4, 10,  7, 11,  6,  3,  0, 14,  2, 12,  5,  9, 13],\n",
       "      dtype=uint32)"
      ]
     },
     "execution_count": 39,
     "metadata": {},
     "output_type": "execute_result"
    }
   ],
   "source": [
    "resyidx"
   ]
  },
  {
   "cell_type": "markdown",
   "id": "35d27aaf",
   "metadata": {},
   "source": [
    "## Weight update kernel"
   ]
  },
  {
   "cell_type": "markdown",
   "id": "616a26c2",
   "metadata": {},
   "source": [
    "dim = 16\n",
    "topk = 4\n",
    "\n",
    "x = np.random.rand(dim).astype(np.float32)\n",
    "y = np.random.rand(dim).astype(np.float32)\n",
    "x.shape,y.shape"
   ]
  },
  {
   "cell_type": "code",
   "execution_count": 40,
   "id": "63654cb6",
   "metadata": {},
   "outputs": [],
   "source": [
    "x_buf = cl.Buffer(ctx, mf.READ_ONLY | mf.COPY_HOST_PTR, hostbuf=x)\n",
    "y_buf = cl.Buffer(ctx, mf.READ_ONLY | mf.COPY_HOST_PTR, hostbuf=y)\n",
    "x_cp_buf = cl.Buffer(ctx, mf.WRITE_ONLY, 4*topk*topk)\n",
    "x_idx_buf = cl.Buffer(ctx, mf.WRITE_ONLY, 4*topk)\n",
    "y_idx_buf = cl.Buffer(ctx, mf.WRITE_ONLY, 4*topk)\n",
    "\n",
    "prg = cl.Program(ctx, \"\"\"\n",
    "// Every global_id_0 works on a row\n",
    "__kernel void genwupdate2(__global  float* x,     // INPUT MATRIX DATA\n",
    "                             __global  float* y,    // INPUT\n",
    "                             __global  float* xout,    // INPUT\n",
    "                             uint topk,\n",
    "                             __global  uint* xoutidx,    // INPUT\n",
    "                             __global  uint* youtidx    // INPUT\n",
    "                            ) { // LOCAL SHARED BUFFER\n",
    "      uint gid = get_global_id(0);\n",
    "      uint n = get_global_size(0);\n",
    "\n",
    "      xout[gid] = x[gid];\n",
    "      xoutidx[gid] = gid;\n",
    "      youtidx[gid] = gid;\n",
    "\n",
    "      float valx = x[gid];\n",
    "      float valy = y[gid];\n",
    "      uint posx = 0;\n",
    "      uint posy = 0;\n",
    "      for (uint i = 0; i < n; i++) {\n",
    "        float tempval = x[i];\n",
    "        float tempval2 = y[i];\n",
    "        bool larger = tempval > valx;\n",
    "        bool larger2 = tempval2 > valy;\n",
    "\n",
    "        posx += (larger)?1:0;\n",
    "        posy += (larger2)?1:0;\n",
    "      }\n",
    "      //printf(\"posx:%i\", posx);\n",
    "      if (posx < topk) {\n",
    "        xoutidx[posx] = gid;\n",
    "      }\n",
    "      if (posy < topk) {\n",
    "        youtidx[posy] = gid;\n",
    "      }\n",
    "      if (gid < topk) {\n",
    "        uint i = gid;\n",
    "        for (uint j=0; j<topk; j++) {\n",
    "          xout[gid*topk+j] = x[xoutidx[gid]] * y[youtidx[j]];\n",
    "        }\n",
    "      }\n",
    "    }\"\"\").build()"
   ]
  },
  {
   "cell_type": "code",
   "execution_count": 41,
   "id": "bd74c33a",
   "metadata": {},
   "outputs": [
    {
     "data": {
      "text/plain": [
       "<pyopencl._cl.NannyEvent at 0x7efbc821f4f0>"
      ]
     },
     "execution_count": 41,
     "metadata": {},
     "output_type": "execute_result"
    }
   ],
   "source": [
    "knl = prg.genwupdate2  # Use this Kernel object for repeated calls\n",
    "knl(queue, [dim,], None, x_buf, y_buf, x_cp_buf, np.uint32(topk), x_idx_buf, y_idx_buf)\n",
    "\n",
    "resx = np.zeros(dim).astype(np.float32)\n",
    "resxidx = np.zeros(topk).astype(np.uint32)\n",
    "resyidx = np.zeros(topk).astype(np.uint32)\n",
    "\n",
    "cl.enqueue_copy(queue, resx, x_cp_buf)\n",
    "cl.enqueue_copy(queue, resxidx, x_idx_buf)\n",
    "cl.enqueue_copy(queue, resyidx, y_idx_buf)"
   ]
  },
  {
   "cell_type": "code",
   "execution_count": 42,
   "id": "bf01df9d",
   "metadata": {},
   "outputs": [
    {
     "data": {
      "text/plain": [
       "array([0.38436326, 0.6282593 , 0.23239243, 0.84487927, 0.34840786,\n",
       "       0.0562746 , 0.5742207 , 0.1643646 , 0.7778896 , 0.2617748 ,\n",
       "       0.15786238, 0.94446903, 0.43403378, 0.5977317 , 0.28563315,\n",
       "       0.32617348], dtype=float32)"
      ]
     },
     "execution_count": 42,
     "metadata": {},
     "output_type": "execute_result"
    }
   ],
   "source": [
    "x"
   ]
  },
  {
   "cell_type": "code",
   "execution_count": 43,
   "id": "18c69f8d",
   "metadata": {},
   "outputs": [
    {
     "data": {
      "text/plain": [
       "array([0.86195457, 0.85972273, 0.6934043 , 0.54964477, 0.77106553,\n",
       "       0.7690691 , 0.62028813, 0.49168736, 0.7099285 , 0.70809036,\n",
       "       0.5711061 , 0.45270196, 0.5733708 , 0.57188624, 0.46125147,\n",
       "       0.36562285], dtype=float32)"
      ]
     },
     "execution_count": 43,
     "metadata": {},
     "output_type": "execute_result"
    }
   ],
   "source": [
    "resx"
   ]
  },
  {
   "cell_type": "code",
   "execution_count": 44,
   "id": "1728a454",
   "metadata": {},
   "outputs": [
    {
     "data": {
      "text/plain": [
       "array([[0.86195457, 0.85972273, 0.6934043 , 0.54964477],\n",
       "       [0.77106553, 0.7690691 , 0.62028813, 0.49168736],\n",
       "       [0.7099285 , 0.70809036, 0.5711061 , 0.45270196],\n",
       "       [0.5733708 , 0.57188624, 0.46125147, 0.36562285]], dtype=float32)"
      ]
     },
     "execution_count": 44,
     "metadata": {},
     "output_type": "execute_result"
    }
   ],
   "source": [
    "resx.reshape(4,4)"
   ]
  },
  {
   "cell_type": "code",
   "execution_count": 45,
   "id": "da28694a",
   "metadata": {},
   "outputs": [
    {
     "data": {
      "text/plain": [
       "array([11,  3,  8,  1], dtype=uint32)"
      ]
     },
     "execution_count": 45,
     "metadata": {},
     "output_type": "execute_result"
    }
   ],
   "source": [
    "resxidx"
   ]
  },
  {
   "cell_type": "code",
   "execution_count": 46,
   "id": "a36029e5",
   "metadata": {},
   "outputs": [
    {
     "data": {
      "text/plain": [
       "array([ 1, 15,  8,  4], dtype=uint32)"
      ]
     },
     "execution_count": 46,
     "metadata": {},
     "output_type": "execute_result"
    }
   ],
   "source": [
    "resyidx"
   ]
  },
  {
   "cell_type": "code",
   "execution_count": 47,
   "id": "f9fa86c0",
   "metadata": {},
   "outputs": [
    {
     "data": {
      "text/plain": [
       "array([0.13123302, 0.5733708 , 0.0512652 , 0.3254963 , 0.20276003,\n",
       "       0.00985254, 0.23127311, 0.07951427, 0.5711061 , 0.03736747,\n",
       "       0.08189112, 0.39193726, 0.08933998, 0.04381968, 0.0892123 ,\n",
       "       0.29690626], dtype=float32)"
      ]
     },
     "execution_count": 47,
     "metadata": {},
     "output_type": "execute_result"
    }
   ],
   "source": [
    "x*y"
   ]
  },
  {
   "cell_type": "code",
   "execution_count": 48,
   "id": "d1dae681",
   "metadata": {},
   "outputs": [
    {
     "data": {
      "text/plain": [
       "array([[0.1859425 ],\n",
       "       [0.3039315 ],\n",
       "       [0.11242393],\n",
       "       [0.40872523],\n",
       "       [0.16854845],\n",
       "       [0.02722383],\n",
       "       [0.27778938],\n",
       "       [0.07951427],\n",
       "       [0.3763178 ],\n",
       "       [0.12663817],\n",
       "       [0.07636871],\n",
       "       [0.45690355],\n",
       "       [0.20997149],\n",
       "       [0.28916326],\n",
       "       [0.13818008],\n",
       "       [0.15779217]], dtype=float32)"
      ]
     },
     "execution_count": 48,
     "metadata": {},
     "output_type": "execute_result"
    }
   ],
   "source": [
    "x.reshape(dim,1)*y[7]"
   ]
  },
  {
   "cell_type": "code",
   "execution_count": 49,
   "id": "7096d1ef",
   "metadata": {},
   "outputs": [
    {
     "data": {
      "text/plain": [
       "array([0.34142965, 0.912634  , 0.22059757, 0.38525775, 0.5819617 ,\n",
       "       0.17507966, 0.40275997, 0.48376763, 0.7341737 , 0.14274661,\n",
       "       0.5187501 , 0.41498157, 0.20583646, 0.07330994, 0.31233174,\n",
       "       0.910271  ], dtype=float32)"
      ]
     },
     "execution_count": 49,
     "metadata": {},
     "output_type": "execute_result"
    }
   ],
   "source": [
    "y"
   ]
  },
  {
   "cell_type": "code",
   "execution_count": 50,
   "id": "55dbcde7",
   "metadata": {},
   "outputs": [
    {
     "data": {
      "text/plain": [
       "array([0.912634  , 0.910271  , 0.7341737 , 0.5819617 , 0.5187501 ,\n",
       "       0.48376763, 0.41498157, 0.40275997, 0.38525775, 0.34142965,\n",
       "       0.31233174, 0.22059757, 0.20583646, 0.17507966, 0.14274661,\n",
       "       0.07330994], dtype=float32)"
      ]
     },
     "execution_count": 50,
     "metadata": {},
     "output_type": "execute_result"
    }
   ],
   "source": [
    "resy"
   ]
  },
  {
   "cell_type": "code",
   "execution_count": 51,
   "id": "18bcae50",
   "metadata": {},
   "outputs": [
    {
     "data": {
      "text/plain": [
       "array([ 1, 15,  8,  4], dtype=uint32)"
      ]
     },
     "execution_count": 51,
     "metadata": {},
     "output_type": "execute_result"
    }
   ],
   "source": [
    "resyidx"
   ]
  },
  {
   "cell_type": "markdown",
   "id": "6644b755",
   "metadata": {},
   "source": [
    "### update vals"
   ]
  },
  {
   "cell_type": "code",
   "execution_count": 52,
   "id": "7cb03af3",
   "metadata": {},
   "outputs": [],
   "source": [
    "prg = cl.Program(ctx, \"\"\"\n",
    "// Every global_id_0 works on a row\n",
    "__kernel void addvals(__global  float* matData,     // INPUT MATRIX DATA\n",
    "                         __global  uint*  colIdx,\n",
    "                         __global  uint*  rowNnz,\n",
    "                         uint   ellwidth,\n",
    "                         __global  float* updatevals,    // INPUT\n",
    "                         __global  uint* updatexidx,   \n",
    "                         __global  uint* updateyidx   \n",
    "                         ) { // LOCAL SHARED BUFFER\n",
    "      uint gid = get_global_id(0);\n",
    "      uint n = get_global_size(0);\n",
    "      uint row = updateyidx[gid];\n",
    "      \n",
    "      for (uint i=0; i<n; i++) {\n",
    "        float val = updatevals[gid*n+i];\n",
    "        uint col = updatexidx[i];\n",
    "        for (uint i=0; i<rowNnz[row]; i++) {\n",
    "          uint idx = gid*ellwidth+i;\n",
    "          if (colIdx[idx] >= col) {\n",
    "            if (colIdx[idx] == col) {\n",
    "              matData[idx] += val;\n",
    "              printf(\"UPDATE[%i]: %.2f\", idx, val);\n",
    "              break;\n",
    "            } else {\n",
    "              // insert new column\n",
    "              printf(\"INSERT[%i]: %.2f\", idx, val);\n",
    "              for (uint j=rowNnz[row]+1; j>i; j--) {\n",
    "                uint idx2 = gid*ellwidth+j;\n",
    "                matData[idx2] = matData[idx2-1];\n",
    "                colIdx[idx2] = colIdx[idx2-1];\n",
    "              }\n",
    "              matData[idx] = val;\n",
    "              colIdx[idx] = col;\n",
    "              rowNnz[row] += 1;\n",
    "              break;\n",
    "            }\n",
    "          }\n",
    "        }\n",
    "        if (rowNnz[row] >= ellwidth) {\n",
    "          break;\n",
    "        }\n",
    "      }\n",
    "\n",
    "      \n",
    "    }\"\"\").build()"
   ]
  },
  {
   "cell_type": "code",
   "execution_count": 53,
   "id": "0aab86e1",
   "metadata": {},
   "outputs": [
    {
     "name": "stdout",
     "output_type": "stream",
     "text": [
      "INSERT[9]: 0.77INSERT[25]: 0.57INSERT[18]: 0.71UPDATE[0]: 0.86UPDATE[16]: 0.71INSERT[9]: 0.77INSERT[25]: 0.57INSERT[2]: 0.69INSERT[10]: 0.62INSERT[18]: 0.57INSERT[26]: 0.46UPDATE[8]: 0.49UPDATE[24]: 0.37INSERT[0]: 0.55INSERT[16]: 0.45"
     ]
    },
    {
     "data": {
      "text/plain": [
       "<pyopencl._cl.NannyEvent at 0x7efbc823d360>"
      ]
     },
     "execution_count": 53,
     "metadata": {},
     "output_type": "execute_result"
    }
   ],
   "source": [
    "knl = prg.addvals  # Use this Kernel object for repeated calls\n",
    "knl(queue, [topk,], None, adata_buf, acols_buf, annzs_buf, np.uint32(ellw), x_cp_buf, x_idx_buf, y_idx_buf)\n",
    "\n",
    "resa = np.empty_like(adata)\n",
    "resaidx = np.zeros(acols.shape).astype(np.uint32)\n",
    "resannz = np.zeros(annz.shape).astype(np.uint32)\n",
    "\n",
    "cl.enqueue_copy(queue, resa, adata_buf)\n",
    "cl.enqueue_copy(queue, resaidx, acols_buf)\n",
    "cl.enqueue_copy(queue, resannz, annzs_buf)"
   ]
  },
  {
   "cell_type": "code",
   "execution_count": 54,
   "id": "466c61fb",
   "metadata": {},
   "outputs": [
    {
     "data": {
      "text/plain": [
       "array([0.54964477, 1.0885656 , 0.720496  , 0.6934043 , 0.37543964,\n",
       "       0.        , 0.        , 0.        , 0.917402  , 0.7690691 ,\n",
       "       0.62028813, 0.77106553, 0.12234534, 0.03941203, 0.        ,\n",
       "       0.        , 0.45270196, 1.3255805 , 0.07481382, 0.5711061 ,\n",
       "       0.7099285 , 0.37348408, 0.        , 0.        , 0.6156596 ,\n",
       "       0.57188624, 0.46125147, 0.5733708 , 0.26944974, 0.52407223,\n",
       "       0.        , 0.        , 0.9272152 , 0.6210204 , 0.80167836,\n",
       "       0.        , 0.        , 0.        , 0.        , 0.        ,\n",
       "       0.71759963, 0.07308079, 0.99252075, 0.        , 0.        ,\n",
       "       0.        , 0.        , 0.        , 0.42398492, 0.9372269 ,\n",
       "       0.3767659 , 0.        , 0.        , 0.        , 0.        ,\n",
       "       0.        , 0.81243616, 0.01329434, 0.0506534 , 0.        ,\n",
       "       0.        , 0.        , 0.        , 0.        , 0.97979206,\n",
       "       0.6906237 , 0.96958005, 0.        , 0.        , 0.        ,\n",
       "       0.        , 0.        , 0.9060216 , 0.03547956, 0.38911736,\n",
       "       0.        , 0.        , 0.        , 0.        , 0.        ,\n",
       "       0.19059165, 0.63462293, 0.77160996, 0.        , 0.        ,\n",
       "       0.        , 0.        , 0.        , 0.6556085 , 0.20687285,\n",
       "       0.23891471, 0.        , 0.        , 0.        , 0.        ,\n",
       "       0.        , 0.6797731 , 0.6569295 , 0.6857115 , 0.        ,\n",
       "       0.        , 0.        , 0.        , 0.        , 0.05152655,\n",
       "       0.2762009 , 0.18861154, 0.        , 0.        , 0.        ,\n",
       "       0.        , 0.        , 0.00584277, 0.09967773, 0.3244976 ,\n",
       "       0.        , 0.        , 0.        , 0.        , 0.        ,\n",
       "       0.34357244, 0.2888239 , 0.38446018, 0.        , 0.        ,\n",
       "       0.        , 0.        , 0.        ], dtype=float32)"
      ]
     },
     "execution_count": 54,
     "metadata": {},
     "output_type": "execute_result"
    }
   ],
   "source": [
    "resa"
   ]
  },
  {
   "cell_type": "code",
   "execution_count": 55,
   "id": "8793af18",
   "metadata": {},
   "outputs": [
    {
     "data": {
      "text/plain": [
       "array([0.22884285, 0.720496  , 0.37543964, 0.        , 0.        ,\n",
       "       0.        , 0.        , 0.        , 0.4257147 , 0.12234534,\n",
       "       0.03941203, 0.        , 0.        , 0.        , 0.        ,\n",
       "       0.        , 0.6174901 , 0.07481382, 0.37348408, 0.        ,\n",
       "       0.        , 0.        , 0.        , 0.        , 0.25003672,\n",
       "       0.26944974, 0.52407223, 0.        , 0.        , 0.        ,\n",
       "       0.        , 0.        , 0.9272152 , 0.6210204 , 0.80167836,\n",
       "       0.        , 0.        , 0.        , 0.        , 0.        ,\n",
       "       0.71759963, 0.07308079, 0.99252075, 0.        , 0.        ,\n",
       "       0.        , 0.        , 0.        , 0.42398492, 0.9372269 ,\n",
       "       0.3767659 , 0.        , 0.        , 0.        , 0.        ,\n",
       "       0.        , 0.81243616, 0.01329434, 0.0506534 , 0.        ,\n",
       "       0.        , 0.        , 0.        , 0.        , 0.97979206,\n",
       "       0.6906237 , 0.96958005, 0.        , 0.        , 0.        ,\n",
       "       0.        , 0.        , 0.9060216 , 0.03547956, 0.38911736,\n",
       "       0.        , 0.        , 0.        , 0.        , 0.        ,\n",
       "       0.19059165, 0.63462293, 0.77160996, 0.        , 0.        ,\n",
       "       0.        , 0.        , 0.        , 0.6556085 , 0.20687285,\n",
       "       0.23891471, 0.        , 0.        , 0.        , 0.        ,\n",
       "       0.        , 0.6797731 , 0.6569295 , 0.6857115 , 0.        ,\n",
       "       0.        , 0.        , 0.        , 0.        , 0.05152655,\n",
       "       0.2762009 , 0.18861154, 0.        , 0.        , 0.        ,\n",
       "       0.        , 0.        , 0.00584277, 0.09967773, 0.3244976 ,\n",
       "       0.        , 0.        , 0.        , 0.        , 0.        ,\n",
       "       0.34357244, 0.2888239 , 0.38446018, 0.        , 0.        ,\n",
       "       0.        , 0.        , 0.        ], dtype=float32)"
      ]
     },
     "execution_count": 55,
     "metadata": {},
     "output_type": "execute_result"
    }
   ],
   "source": [
    "adata"
   ]
  },
  {
   "cell_type": "code",
   "execution_count": 56,
   "id": "9dd6baf4",
   "metadata": {},
   "outputs": [
    {
     "data": {
      "text/plain": [
       "array([ 3,  4, 10,  0,  0,  0,  0,  0,  1, 13, 15,  0,  0,  0,  0,  0,  3,\n",
       "        4, 12,  0,  0,  0,  0,  0,  1, 13, 15,  0,  0,  0,  0,  0,  1, 11,\n",
       "       13,  0,  0,  0,  0,  0,  0,  1, 12,  0,  0,  0,  0,  0,  2,  8, 12,\n",
       "        0,  0,  0,  0,  0,  5,  9, 15,  0,  0,  0,  0,  0,  6, 10, 13,  0,\n",
       "        0,  0,  0,  0,  1,  3, 11,  0,  0,  0,  0,  0,  2,  3, 11,  0,  0,\n",
       "        0,  0,  0,  4,  7, 14,  0,  0,  0,  0,  0,  4,  5,  9,  0,  0,  0,\n",
       "        0,  0,  3, 14, 15,  0,  0,  0,  0,  0,  0,  4, 15,  0,  0,  0,  0,\n",
       "        0,  6,  7,  8,  0,  0,  0,  0,  0], dtype=uint32)"
      ]
     },
     "execution_count": 56,
     "metadata": {},
     "output_type": "execute_result"
    }
   ],
   "source": [
    "acols"
   ]
  },
  {
   "cell_type": "code",
   "execution_count": 57,
   "id": "5c526051",
   "metadata": {},
   "outputs": [
    {
     "data": {
      "text/plain": [
       "array([ 1,  3,  4,  8, 10,  0,  0,  0,  1,  3,  8, 11, 13, 15,  0,  0,  1,\n",
       "        3,  4,  8, 11, 12,  0,  0,  1,  3,  8, 11, 13, 15,  0,  0,  1, 11,\n",
       "       13,  0,  0,  0,  0,  0,  0,  1, 12,  0,  0,  0,  0,  0,  2,  8, 12,\n",
       "        0,  0,  0,  0,  0,  5,  9, 15,  0,  0,  0,  0,  0,  6, 10, 13,  0,\n",
       "        0,  0,  0,  0,  1,  3, 11,  0,  0,  0,  0,  0,  2,  3, 11,  0,  0,\n",
       "        0,  0,  0,  4,  7, 14,  0,  0,  0,  0,  0,  4,  5,  9,  0,  0,  0,\n",
       "        0,  0,  3, 14, 15,  0,  0,  0,  0,  0,  0,  4, 15,  0,  0,  0,  0,\n",
       "        0,  6,  7,  8,  0,  0,  0,  0,  0], dtype=uint32)"
      ]
     },
     "execution_count": 57,
     "metadata": {},
     "output_type": "execute_result"
    }
   ],
   "source": [
    "resaidx"
   ]
  },
  {
   "cell_type": "code",
   "execution_count": 58,
   "id": "f635a14d",
   "metadata": {},
   "outputs": [
    {
     "data": {
      "text/plain": [
       "array([3, 5, 3, 3, 6, 3, 3, 3, 6, 3, 3, 3, 3, 3, 3, 6], dtype=uint32)"
      ]
     },
     "execution_count": 58,
     "metadata": {},
     "output_type": "execute_result"
    }
   ],
   "source": [
    "resannz"
   ]
  },
  {
   "cell_type": "code",
   "execution_count": 59,
   "id": "e7fcc7fe",
   "metadata": {},
   "outputs": [
    {
     "ename": "NameError",
     "evalue": "name 'asdf' is not defined",
     "output_type": "error",
     "traceback": [
      "\u001b[0;31m---------------------------------------------------------------------------\u001b[0m",
      "\u001b[0;31mNameError\u001b[0m                                 Traceback (most recent call last)",
      "\u001b[0;32m/tmp/ipykernel_6878/2827374946.py\u001b[0m in \u001b[0;36m<module>\u001b[0;34m\u001b[0m\n\u001b[0;32m----> 1\u001b[0;31m \u001b[0masdf\u001b[0m\u001b[0;34m\u001b[0m\u001b[0;34m\u001b[0m\u001b[0m\n\u001b[0m",
      "\u001b[0;31mNameError\u001b[0m: name 'asdf' is not defined"
     ]
    }
   ],
   "source": [
    "asdf"
   ]
  },
  {
   "cell_type": "markdown",
   "id": "7f618bfd",
   "metadata": {},
   "source": [
    "# OTHER"
   ]
  },
  {
   "cell_type": "markdown",
   "id": "28fd6b45",
   "metadata": {},
   "source": [
    "import numpy as np\n",
    "import pyopencl as cl\n",
    "\n",
    "mf = cl.mem_flags"
   ]
  },
  {
   "cell_type": "markdown",
   "id": "ebed13d1",
   "metadata": {},
   "source": [
    "dim = 16\n",
    "topk = 4\n",
    "\n",
    "x = np.random.rand(dim).astype(np.float32)\n",
    "y = np.random.rand(dim).astype(np.float32)\n",
    "x.shape,y.shape"
   ]
  },
  {
   "cell_type": "markdown",
   "id": "444a4a7f",
   "metadata": {},
   "source": [
    "dim1 = 4\n",
    "dim2 = 8\n",
    "dim3 = 1\n",
    "\n",
    "ctx = cl.create_some_context()\n",
    "queue = cl.CommandQueue(ctx,\n",
    "        properties=cl.command_queue_properties.PROFILING_ENABLE)\n",
    "\n",
    "sparsity = 0.2\n",
    "\n",
    "a = np.zeros((dim1,dim2))\n",
    "b = np.random.rand(dim2,dim3).flatten().astype(np.float32)\n",
    "\n",
    "a.shape, b.shape"
   ]
  },
  {
   "cell_type": "code",
   "execution_count": null,
   "id": "e2d4594d",
   "metadata": {},
   "outputs": [],
   "source": [
    "x_buf = cl.Buffer(ctx, mf.READ_ONLY | mf.COPY_HOST_PTR, hostbuf=x)\n",
    "y_buf = cl.Buffer(ctx, mf.READ_ONLY | mf.COPY_HOST_PTR, hostbuf=y)\n",
    "val_out_buf = cl.Buffer(ctx, mf.READ_WRITE, 4*topk*topk)\n",
    "x_idx_buf = cl.Buffer(ctx, mf.READ_WRITE, topk*4)\n",
    "y_idx_buf = cl.Buffer(ctx, mf.READ_WRITE, topk*4)\n",
    "\n",
    "prg = cl.Program(ctx, \"\"\"\n",
    "// Every global_id_0 works on a row\n",
    "__kernel void genwupdate2(__global  float* x,     // INPUT MATRIX DATA\n",
    "                         __global  float* y,    // INPUT\n",
    "                         __global  float* xout,    // INPUT\n",
    "                         uint topk,\n",
    "                         __global  uint* xoutidx,    // INPUT\n",
    "                         __global  uint* youtidx    // INPUT\n",
    "                        ) { // LOCAL SHARED BUFFER\n",
    "  uint gid = get_global_id(0);\n",
    "  uint n = get_global_size(0);\n",
    "  \n",
    "  xout[gid] = x[gid];\n",
    "  xoutidx[gid] = gid;\n",
    "  youtidx[gid] = gid;\n",
    "  \n",
    "  float valx = x[gid];\n",
    "  float valy = y[gid];\n",
    "  uint posx = 0;\n",
    "  uint posy = 0;\n",
    "  for (uint i = 0; i < n; i++) {\n",
    "    float tempval = x[i];\n",
    "    float tempval2 = y[i];\n",
    "    bool larger = tempval > valx;\n",
    "    bool larger2 = tempval2 > valy;\n",
    "      \n",
    "    posx += (larger)?1:0;\n",
    "    posy += (larger2)?1:0;\n",
    "  }\n",
    "  //printf(\"posx:%i\", posx);\n",
    "  if (posx < topk) {\n",
    "    xoutidx[posx] = gid;\n",
    "  }\n",
    "  if (posy < topk) {\n",
    "    youtidx[posy] = gid;\n",
    "  }\n",
    "  if (gid < topk) {\n",
    "    uint i = gid;\n",
    "    for (uint j=0; j<topk; j++) {\n",
    "      xout[gid*topk+j] = x[xoutidx[gid]] * y[youtidx[j]];\n",
    "    }\n",
    "  }\n",
    "}\"\"\").build()"
   ]
  },
  {
   "cell_type": "code",
   "execution_count": null,
   "id": "f45b3b69",
   "metadata": {},
   "outputs": [],
   "source": [
    "knl = prg.genwupdate2  # Use this Kernel object for repeated calls\n",
    "event = knl(queue, [dim,], None, x_buf, y_buf, val_out_buf, np.uint32(topk), x_idx_buf, y_idx_buf)\n",
    "\n",
    "#event.wait()\n",
    "val_out = np.zeros(topk*topk).astype(np.float32)\n",
    "resxidx = np.zeros(topk).astype(np.uint32)\n",
    "resyidx = np.zeros(topk).astype(np.uint32)\n",
    "\n",
    "cl.enqueue_copy(queue, val_out, val_out_buf)\n",
    "cl.enqueue_copy(queue, resxidx, x_idx_buf, wait_for=[event])\n",
    "cl.enqueue_copy(queue, resyidx, y_idx_buf)"
   ]
  },
  {
   "cell_type": "code",
   "execution_count": null,
   "id": "d883394f",
   "metadata": {},
   "outputs": [],
   "source": [
    "val_out"
   ]
  },
  {
   "cell_type": "code",
   "execution_count": null,
   "id": "2335cf69",
   "metadata": {},
   "outputs": [],
   "source": [
    "resxidx"
   ]
  },
  {
   "cell_type": "code",
   "execution_count": null,
   "id": "5e714f2a",
   "metadata": {},
   "outputs": [],
   "source": [
    "resyidx"
   ]
  },
  {
   "cell_type": "code",
   "execution_count": null,
   "id": "02a5c5dd",
   "metadata": {},
   "outputs": [],
   "source": [
    "from __future__ import division\n",
    "\n",
    "KERNEL_CODE = \"\"\"\n",
    "// Thread block size\n",
    "#define BLOCK_SIZE %(block_size)d\n",
    "// Matrix dimensions\n",
    "// (chosen as multiples of the thread block size for simplicity)\n",
    "#define WA %(w_a)d // Matrix A width\n",
    "#define HA %(h_a)d // Matrix A height\n",
    "#define WB %(w_b)d // Matrix B width\n",
    "#define HB WA  // Matrix B height\n",
    "#define WC WB  // Matrix C width\n",
    "#define HC HA  // Matrix C height\n",
    "/*\n",
    " * Copyright 1993-2009 NVIDIA Corporation.  All rights reserved.\n",
    " *\n",
    " * NVIDIA Corporation and its licensors retain all intellectual property and\n",
    " * proprietary rights in and to this software and related documentation.\n",
    " * Any use, reproduction, disclosure, or distribution of this software\n",
    " * and related documentation without an express license agreement from\n",
    " * NVIDIA Corporation is strictly prohibited.\n",
    " *\n",
    " * Please refer to the applicable NVIDIA end user license agreement (EULA)\n",
    " * associated with this source code for terms and conditions that govern\n",
    " * your use of this NVIDIA software.\n",
    " *\n",
    " */\n",
    "/* Matrix multiplication: C = A * B.\n",
    " * Device code.\n",
    " */\n",
    "#define AS(j, i) As[i + j * BLOCK_SIZE]\n",
    "#define BS(j, i) Bs[i + j * BLOCK_SIZE]\n",
    "////////////////////////////////////////////////////////////////////////////////\n",
    "//! Matrix multiplication on the device: C = A * B\n",
    "//! WA is A's width and WB is B's width\n",
    "////////////////////////////////////////////////////////////////////////////////\n",
    "__kernel __attribute__((reqd_work_group_size(16,16,1))) \n",
    "void\n",
    "matrixMul( __global float* C, __global float* A, __global float* B)\n",
    "{\n",
    "    __local float As[BLOCK_SIZE*BLOCK_SIZE];\n",
    "    __local float Bs[BLOCK_SIZE*BLOCK_SIZE];\n",
    "    // Block index\n",
    "    int bx = get_group_id(0);\n",
    "    int by = get_group_id(1);\n",
    "    // Thread index\n",
    "    int tx = get_local_id(0);\n",
    "    int ty = get_local_id(1);\n",
    "    // Index of the first sub-matrix of A processed by the block\n",
    "    int aBegin = WA * BLOCK_SIZE * by;\n",
    "    // Index of the last sub-matrix of A processed by the block\n",
    "    int aEnd   = aBegin + WA - 1;\n",
    "    // Step size used to iterate through the sub-matrices of A\n",
    "    int aStep  = BLOCK_SIZE;\n",
    "    // Index of the first sub-matrix of B processed by the block\n",
    "    int bBegin = BLOCK_SIZE * bx;\n",
    "    // Step size used to iterate through the sub-matrices of B\n",
    "    int bStep  = BLOCK_SIZE * WB;\n",
    "    // Csub is used to store the element of the block sub-matrix\n",
    "    // that is computed by the thread\n",
    "    float Csub = 0.0f;\n",
    "    // Loop over all the sub-matrices of A and B\n",
    "    // required to compute the block sub-matrix\n",
    "    for (int a = aBegin, b = bBegin;\n",
    "             a <= aEnd;\n",
    "             a += aStep, b += bStep) {\n",
    "        // Load the matrices from device memory\n",
    "        // to shared memory; each thread loads\n",
    "        // one element of each matrix\n",
    "        AS(ty, tx) = A[a + WA * ty + tx];\n",
    "        BS(ty, tx) = B[b + WB * ty + tx];\n",
    "        // Synchronize to make sure the matrices are loaded\n",
    "        barrier(CLK_LOCAL_MEM_FENCE);\n",
    "        // Multiply the two matrices together;\n",
    "        // each thread computes one element\n",
    "        // of the block sub-matrix\n",
    "        for (int k = 0; k < BLOCK_SIZE; ++k)\n",
    "            Csub += AS(ty, k) * BS(k, tx);\n",
    "        // Synchronize to make sure that the preceding\n",
    "        // computation is done before loading two new\n",
    "        // sub-matrices of A and B in the next iteration\n",
    "        barrier(CLK_LOCAL_MEM_FENCE);\n",
    "    }\n",
    "    // Write the block sub-matrix to device memory;\n",
    "    // each thread writes one element\n",
    "    C[get_global_id(1) * get_global_size(0) + get_global_id(0)] = Csub;\n",
    "}\n",
    "\"\"\"\n"
   ]
  },
  {
   "cell_type": "code",
   "execution_count": null,
   "id": "c1eb509e",
   "metadata": {},
   "outputs": [],
   "source": []
  },
  {
   "cell_type": "code",
   "execution_count": null,
   "id": "77b4a04e",
   "metadata": {},
   "outputs": [],
   "source": []
  },
  {
   "cell_type": "code",
   "execution_count": null,
   "id": "a0521855",
   "metadata": {},
   "outputs": [],
   "source": []
  },
  {
   "cell_type": "code",
   "execution_count": null,
   "id": "9a61206e",
   "metadata": {},
   "outputs": [],
   "source": []
  },
  {
   "cell_type": "code",
   "execution_count": null,
   "id": "16d754cb",
   "metadata": {},
   "outputs": [],
   "source": []
  },
  {
   "cell_type": "code",
   "execution_count": null,
   "id": "c91d5425",
   "metadata": {},
   "outputs": [],
   "source": []
  },
  {
   "cell_type": "code",
   "execution_count": null,
   "id": "d9f4a6f0",
   "metadata": {},
   "outputs": [],
   "source": []
  },
  {
   "cell_type": "code",
   "execution_count": null,
   "id": "9f708713",
   "metadata": {},
   "outputs": [],
   "source": []
  },
  {
   "cell_type": "code",
   "execution_count": null,
   "id": "e59475d1",
   "metadata": {},
   "outputs": [],
   "source": []
  },
  {
   "cell_type": "code",
   "execution_count": null,
   "id": "3dd6c3a3",
   "metadata": {},
   "outputs": [],
   "source": []
  },
  {
   "cell_type": "code",
   "execution_count": null,
   "id": "7e83b426",
   "metadata": {},
   "outputs": [],
   "source": []
  },
  {
   "cell_type": "code",
   "execution_count": null,
   "id": "af6af470",
   "metadata": {},
   "outputs": [],
   "source": []
  },
  {
   "cell_type": "code",
   "execution_count": null,
   "id": "e2b3a039",
   "metadata": {},
   "outputs": [],
   "source": []
  }
 ],
 "metadata": {
  "kernelspec": {
   "display_name": "Python 3",
   "language": "python",
   "name": "python3"
  },
  "language_info": {
   "codemirror_mode": {
    "name": "ipython",
    "version": 3
   },
   "file_extension": ".py",
   "mimetype": "text/x-python",
   "name": "python",
   "nbconvert_exporter": "python",
   "pygments_lexer": "ipython3",
   "version": "3.8.12"
  }
 },
 "nbformat": 4,
 "nbformat_minor": 5
}
