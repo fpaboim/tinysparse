{
 "cells": [
  {
   "cell_type": "code",
   "execution_count": 1,
   "id": "4309590e",
   "metadata": {},
   "outputs": [
    {
     "name": "stdout",
     "output_type": "stream",
     "text": [
      "DEVICE:GPU\n"
     ]
    }
   ],
   "source": [
    "from tinygrad.densetensor import DenseTensor\n",
    "from tinygrad.sparsetensor import SparseTensor\n",
    "import numpy as np\n",
    "\n",
    "%load_ext autoreload\n",
    "%autoreload 2"
   ]
  },
  {
   "cell_type": "code",
   "execution_count": 2,
   "id": "4cb532fa",
   "metadata": {},
   "outputs": [],
   "source": [
    "x_init = np.random.randn(1,3).astype(np.float32)\n",
    "x2_init = np.random.randn(3).astype(np.float32)\n",
    "U_init = np.random.randn(3,3).astype(np.float32)\n",
    "V_init = np.random.randn(3,3).astype(np.float32)\n",
    "W_init = np.random.randn(3,3).astype(np.float32)\n",
    "m_init = np.random.randn(1,3).astype(np.float32)"
   ]
  },
  {
   "cell_type": "code",
   "execution_count": 3,
   "id": "3fb8a745",
   "metadata": {},
   "outputs": [
    {
     "name": "stdout",
     "output_type": "stream",
     "text": [
      "T/G: <DenseTensor <GPUBuffer with shape (1, 3)> with grad None> <GPUBuffer with shape (1, 3)>\n",
      "T/G: <DenseTensor <GPUBuffer with shape (1, 3)> with grad None> <GPUBuffer with shape (1, 3)>\n",
      "T/G: <DenseTensor <GPUBuffer with shape (1, 3)> with grad None> <GPUBuffer with shape (1, 3)>\n",
      "T/G: <DenseTensor <GPUBuffer with shape (1, 3)> with grad None> <GPUBuffer with shape (1, 3)>\n",
      "T/G: <DenseTensor <GPUBuffer with shape (1, 3)> with grad <GPUBuffer with shape (1, 3)>> <GPUBuffer with shape (1, 3)>\n",
      "T/G: <DenseTensor <GPUBuffer with shape (1, 3)> with grad None> <GPUBuffer with shape (1, 3)>\n",
      "T/G: <DenseTensor <GPUBuffer with shape (1, 1)> with grad None> <GPUBuffer with shape (1, 1)>\n",
      "T/G: <DenseTensor <GPUBuffer with shape (1, 1)> with grad None> <GPUBuffer with shape (1, 1)>\n",
      "T/G: <DenseTensor <GPUBuffer with shape (1, 1)> with grad None> <GPUBuffer with shape (1, 1)>\n",
      "T/G: <DenseTensor <GPUBuffer with shape (1, 1)> with grad None> <GPUBuffer with shape (1, 1)>\n",
      "T/G: <DenseTensor <GPUBuffer with shape (1,)> with grad None> <GPUBuffer with shape (1,)>\n",
      "T/G: <DenseTensor <GPUBuffer with shape (1, 3)> with grad None> <GPUBuffer with shape (1, 3)>\n",
      "T/G: <DenseTensor <GPUBuffer with shape (1, 3)> with grad None> <GPUBuffer with shape (1, 3)>\n",
      "T/G: <DenseTensor <GPUBuffer with shape (1, 3)> with grad <GPUBuffer with shape (1, 3)>> <GPUBuffer with shape (1, 3)>\n",
      "T/G: <DenseTensor <GPUBuffer with shape (1, 1)> with grad <GPUBuffer with shape (1, 1)>> <GPUBuffer with shape (1, 1)>\n",
      "T/G: <DenseTensor <GPUBuffer with shape (1,)> with grad None> <GPUBuffer with shape (1,)>\n",
      "T/G: <DenseTensor <GPUBuffer with shape (1, 3)> with grad <GPUBuffer with shape (1, 3)>> <GPUBuffer with shape (1, 3)>\n",
      "T/G: <DenseTensor <GPUBuffer with shape (1, 3)> with grad None> <GPUBuffer with shape (1, 3)>\n",
      "T/G: <DenseTensor <GPUBuffer with shape (1, 3)> with grad None> <GPUBuffer with shape (1, 3)>\n",
      "T/G: <DenseTensor <GPUBuffer with shape (3, 3)> with grad None> <GPUBuffer with shape (3, 3)>\n"
     ]
    },
    {
     "data": {
      "text/plain": [
       "(array([0.15753908], dtype=float32),\n",
       " <DenseTensor <GPUBuffer with shape (1, 3)> with grad <GPUBuffer with shape (1, 3)>>)"
      ]
     },
     "execution_count": 3,
     "metadata": {},
     "output_type": "execute_result"
    }
   ],
   "source": [
    "x = DenseTensor(x_init)\n",
    "W = DenseTensor(W_init)\n",
    "m = DenseTensor(m_init)\n",
    "out = x.dot(W).relu()\n",
    "out = out.logsoftmax()\n",
    "out = out.mul(m).add(m).sum()\n",
    "out.backward()\n",
    "\n",
    "out.cpu().data, x"
   ]
  },
  {
   "cell_type": "markdown",
   "id": "62d0edbe",
   "metadata": {
    "scrolled": true
   },
   "source": [
    "x2 = DenseTensor(x2_init)#.gpu()\n",
    "W = SparseTensor(W_init)\n",
    "out = W.dot(x2).relu().sum()\n",
    "\n",
    "out.backward()\n",
    "\n",
    "out.cpu().data, x"
   ]
  },
  {
   "cell_type": "code",
   "execution_count": 4,
   "id": "c3d0659d",
   "metadata": {},
   "outputs": [],
   "source": [
    "import numpy as np\n",
    "import pyopencl as cl\n",
    "\n",
    "mf = cl.mem_flags"
   ]
  },
  {
   "cell_type": "code",
   "execution_count": 5,
   "id": "a0cc978b",
   "metadata": {},
   "outputs": [
    {
     "data": {
      "text/plain": [
       "((8, 8), (4, 8))"
      ]
     },
     "execution_count": 5,
     "metadata": {},
     "output_type": "execute_result"
    }
   ],
   "source": [
    "dim1 = 8\n",
    "dim2 = 8\n",
    "dim3 = 8\n",
    "bs = 4\n",
    "\n",
    "ctx = cl.create_some_context()\n",
    "queue = cl.CommandQueue(ctx,\n",
    "        properties=cl.command_queue_properties.PROFILING_ENABLE)\n",
    "\n",
    "sparsity = 0.2\n",
    "\n",
    "a = np.zeros((dim1,dim2))\n",
    "b = np.random.rand(4,dim3).astype(np.float32)\n",
    "\n",
    "a.shape, b.shape"
   ]
  },
  {
   "cell_type": "code",
   "execution_count": 6,
   "id": "7ecf7a2b",
   "metadata": {},
   "outputs": [],
   "source": [
    "def fill_sparse(mat, sparsity=0.1):\n",
    "    indices = np.array(range(mat.shape[1]))\n",
    "    nrows = int(mat.shape[1]*sparsity)\n",
    "    for row in range(mat.shape[0]):\n",
    "        lim = nrows #+ int(np.random.random()*3)\n",
    "        mat[row][np.random.permutation(indices)[:lim]] = np.random.random(lim)\n",
    "    return mat\n",
    "\n",
    "a = fill_sparse(a, 0.9).astype(np.float32)\n",
    "#b = fill_sparse(b, sparsity)"
   ]
  },
  {
   "cell_type": "code",
   "execution_count": 7,
   "id": "b32f0e9a",
   "metadata": {},
   "outputs": [
    {
     "data": {
      "text/plain": [
       "array([[0.        , 0.52328503, 0.85276353, 0.941733  , 0.7301068 ,\n",
       "        0.8106221 , 0.0631992 , 0.51675314],\n",
       "       [0.5375395 , 0.        , 0.68684566, 0.43293473, 0.5705436 ,\n",
       "        0.25251487, 0.61363715, 0.47675598],\n",
       "       [0.        , 0.32384282, 0.5876471 , 0.4220046 , 0.446311  ,\n",
       "        0.01131043, 0.9438752 , 0.48222694],\n",
       "       [0.8779282 , 0.        , 0.3875374 , 0.9887559 , 0.72527486,\n",
       "        0.62135303, 0.4417264 , 0.32487348],\n",
       "       [0.24411957, 0.04483144, 0.844277  , 0.14873913, 0.3800302 ,\n",
       "        0.        , 0.7476068 , 0.9878039 ],\n",
       "       [0.91075796, 0.0012288 , 0.3646228 , 0.24154148, 0.19601001,\n",
       "        0.        , 0.7926516 , 0.88013357],\n",
       "       [0.02267831, 0.12424071, 0.683086  , 0.        , 0.64678925,\n",
       "        0.6833284 , 0.64419883, 0.5820931 ],\n",
       "       [0.50808465, 0.02975472, 0.12269319, 0.9034385 , 0.46145305,\n",
       "        0.24297139, 0.        , 0.77481776]], dtype=float32)"
      ]
     },
     "execution_count": 7,
     "metadata": {},
     "output_type": "execute_result"
    }
   ],
   "source": [
    "a"
   ]
  },
  {
   "cell_type": "code",
   "execution_count": 8,
   "id": "d286d740",
   "metadata": {},
   "outputs": [
    {
     "data": {
      "text/plain": [
       "array([[0.93212026, 0.8944856 , 0.7935633 , 0.87782544, 0.17367436,\n",
       "        0.9549761 , 0.16357593, 0.999538  ],\n",
       "       [0.8284154 , 0.28757167, 0.78423697, 0.07313304, 0.26050532,\n",
       "        0.4531351 , 0.27547118, 0.17851022],\n",
       "       [0.5093762 , 0.3891016 , 0.14989905, 0.84568554, 0.89133835,\n",
       "        0.6859337 , 0.10950577, 0.72377515],\n",
       "       [0.43113735, 0.9447981 , 0.50534743, 0.17087796, 0.19416347,\n",
       "        0.5170911 , 0.5719422 , 0.46454972]], dtype=float32)"
      ]
     },
     "execution_count": 8,
     "metadata": {},
     "output_type": "execute_result"
    }
   ],
   "source": [
    "b"
   ]
  },
  {
   "cell_type": "code",
   "execution_count": 9,
   "id": "45c14776",
   "metadata": {},
   "outputs": [
    {
     "data": {
      "text/plain": [
       "array([-1.1239634 ,  0.5884606 , -0.21550849], dtype=float32)"
      ]
     },
     "execution_count": 9,
     "metadata": {},
     "output_type": "execute_result"
    }
   ],
   "source": [
    "x2_init.T"
   ]
  },
  {
   "cell_type": "code",
   "execution_count": 10,
   "id": "6b2b88a2",
   "metadata": {},
   "outputs": [
    {
     "data": {
      "text/plain": [
       "(8, 4)"
      ]
     },
     "execution_count": 10,
     "metadata": {},
     "output_type": "execute_result"
    }
   ],
   "source": [
    "mult = a.dot(b.T)\n",
    "mult.shape"
   ]
  },
  {
   "cell_type": "code",
   "execution_count": 11,
   "id": "d33049e0",
   "metadata": {},
   "outputs": [
    {
     "data": {
      "text/plain": [
       "(8, 4)"
      ]
     },
     "execution_count": 11,
     "metadata": {},
     "output_type": "execute_result"
    }
   ],
   "source": [
    "mult.shape"
   ]
  },
  {
   "cell_type": "code",
   "execution_count": 12,
   "id": "67872651",
   "metadata": {},
   "outputs": [],
   "source": [
    "def to_data(mat):\n",
    "    all_rows = []\n",
    "    all_idxs = []\n",
    "    all_nnzs = []\n",
    "    for row in range(mat.shape[0]):\n",
    "        rowdata = []\n",
    "        colidxs = []\n",
    "        all_nnzs.append(0)\n",
    "        for col in range(mat.shape[1]):\n",
    "            val = mat[row][col]\n",
    "            if val != 0:\n",
    "                rowdata.append(val)\n",
    "                colidxs.append(col)\n",
    "                all_nnzs[-1] += 1\n",
    "        all_rows.append(rowdata)\n",
    "        all_idxs.append(colidxs)\n",
    "    \n",
    "    ellwidth = int(np.sqrt(np.max(all_nnzs))+1)**2\n",
    "    #all_rows = np.array(all_rows)#.astype(np.float32).flatten()           \n",
    "    for row in range(mat.shape[0]):\n",
    "        #print(row, all_rows)\n",
    "        all_rows[row] = np.array(all_rows[row])\n",
    "        all_rows[row].resize(ellwidth)\n",
    "        all_idxs[row] = np.array(all_idxs[row])\n",
    "        all_idxs[row].resize(ellwidth)\n",
    "        print(all_idxs[row])\n",
    "    all_rows = np.array(all_rows).astype(np.float32).flatten()\n",
    "    print(all_idxs)\n",
    "    all_idxs = np.array(all_idxs).astype(np.uint32).flatten()\n",
    "    all_nnzs = np.array(all_nnzs).astype(np.uint32)\n",
    "    \n",
    "    return all_rows, all_idxs, all_nnzs, ellwidth"
   ]
  },
  {
   "cell_type": "code",
   "execution_count": 13,
   "id": "3cc9dd5d",
   "metadata": {},
   "outputs": [],
   "source": [
    "def to_dense(data, cols, nnzs, ellw, shape):\n",
    "    out = np.zeros(shape)\n",
    "    for row in range(shape[0]):\n",
    "        for icol in range(nnzs[row]):\n",
    "            out[row,cols[row*ellw+icol]] = data[row*ellw+icol]\n",
    "    return out"
   ]
  },
  {
   "cell_type": "code",
   "execution_count": 14,
   "id": "5c9c6134",
   "metadata": {},
   "outputs": [
    {
     "name": "stdout",
     "output_type": "stream",
     "text": [
      "[1 2 3 4 5 6 7 0 0]\n",
      "[0 2 3 4 5 6 7 0 0]\n",
      "[1 2 3 4 5 6 7 0 0]\n",
      "[0 2 3 4 5 6 7 0 0]\n",
      "[0 1 2 3 4 6 7 0 0]\n",
      "[0 1 2 3 4 6 7 0 0]\n",
      "[0 1 2 4 5 6 7 0 0]\n",
      "[0 1 2 3 4 5 7 0 0]\n",
      "[array([1, 2, 3, 4, 5, 6, 7, 0, 0]), array([0, 2, 3, 4, 5, 6, 7, 0, 0]), array([1, 2, 3, 4, 5, 6, 7, 0, 0]), array([0, 2, 3, 4, 5, 6, 7, 0, 0]), array([0, 1, 2, 3, 4, 6, 7, 0, 0]), array([0, 1, 2, 3, 4, 6, 7, 0, 0]), array([0, 1, 2, 4, 5, 6, 7, 0, 0]), array([0, 1, 2, 3, 4, 5, 7, 0, 0])]\n"
     ]
    },
    {
     "data": {
      "text/plain": [
       "(array([0.52328503, 0.85276353, 0.941733  , 0.7301068 , 0.8106221 ,\n",
       "        0.0631992 , 0.51675314, 0.        , 0.        , 0.5375395 ,\n",
       "        0.68684566, 0.43293473, 0.5705436 , 0.25251487, 0.61363715,\n",
       "        0.47675598, 0.        , 0.        , 0.32384282, 0.5876471 ,\n",
       "        0.4220046 , 0.446311  , 0.01131043, 0.9438752 , 0.48222694,\n",
       "        0.        , 0.        , 0.8779282 , 0.3875374 , 0.9887559 ,\n",
       "        0.72527486, 0.62135303, 0.4417264 , 0.32487348, 0.        ,\n",
       "        0.        , 0.24411957, 0.04483144, 0.844277  , 0.14873913,\n",
       "        0.3800302 , 0.7476068 , 0.9878039 , 0.        , 0.        ,\n",
       "        0.91075796, 0.0012288 , 0.3646228 , 0.24154148, 0.19601001,\n",
       "        0.7926516 , 0.88013357, 0.        , 0.        , 0.02267831,\n",
       "        0.12424071, 0.683086  , 0.64678925, 0.6833284 , 0.64419883,\n",
       "        0.5820931 , 0.        , 0.        , 0.50808465, 0.02975472,\n",
       "        0.12269319, 0.9034385 , 0.46145305, 0.24297139, 0.77481776,\n",
       "        0.        , 0.        ], dtype=float32),\n",
       " array([1, 2, 3, 4, 5, 6, 7, 0, 0, 0, 2, 3, 4, 5, 6, 7, 0, 0, 1, 2, 3, 4,\n",
       "        5, 6, 7, 0, 0, 0, 2, 3, 4, 5, 6, 7, 0, 0, 0, 1, 2, 3, 4, 6, 7, 0,\n",
       "        0, 0, 1, 2, 3, 4, 6, 7, 0, 0, 0, 1, 2, 4, 5, 6, 7, 0, 0, 0, 1, 2,\n",
       "        3, 4, 5, 7, 0, 0], dtype=uint32),\n",
       " array([7, 7, 7, 7, 7, 7, 7, 7], dtype=uint32),\n",
       " 9)"
      ]
     },
     "execution_count": 14,
     "metadata": {},
     "output_type": "execute_result"
    }
   ],
   "source": [
    "adata, acols, annz, ellwa = to_data(a)\n",
    "adata, acols, annz, ellwa"
   ]
  },
  {
   "cell_type": "code",
   "execution_count": 15,
   "id": "333f732b",
   "metadata": {},
   "outputs": [
    {
     "name": "stdout",
     "output_type": "stream",
     "text": [
      "[1 3 4 5 6 7 0 0 0]\n",
      "[0 2 4 5 6 7 0 0 0]\n",
      "[0 1 2 3 4 5 6 7 0]\n",
      "[0 1 2 3 4 5 7 0 0]\n",
      "[0 1 2 3 4 5 6 7 0]\n",
      "[0 1 2 3 6 7 0 0 0]\n",
      "[0 1 2 3 4 5 6 0 0]\n",
      "[0 1 2 3 4 5 6 7 0]\n",
      "[array([1, 3, 4, 5, 6, 7, 0, 0, 0]), array([0, 2, 4, 5, 6, 7, 0, 0, 0]), array([0, 1, 2, 3, 4, 5, 6, 7, 0]), array([0, 1, 2, 3, 4, 5, 7, 0, 0]), array([0, 1, 2, 3, 4, 5, 6, 7, 0]), array([0, 1, 2, 3, 6, 7, 0, 0, 0]), array([0, 1, 2, 3, 4, 5, 6, 0, 0]), array([0, 1, 2, 3, 4, 5, 6, 7, 0])]\n"
     ]
    },
    {
     "data": {
      "text/plain": [
       "(array([0.5375395 , 0.8779282 , 0.24411957, 0.91075796, 0.02267831,\n",
       "        0.50808465, 0.        , 0.        , 0.        , 0.52328503,\n",
       "        0.32384282, 0.04483144, 0.0012288 , 0.12424071, 0.02975472,\n",
       "        0.        , 0.        , 0.        , 0.85276353, 0.68684566,\n",
       "        0.5876471 , 0.3875374 , 0.844277  , 0.3646228 , 0.683086  ,\n",
       "        0.12269319, 0.        , 0.941733  , 0.43293473, 0.4220046 ,\n",
       "        0.9887559 , 0.14873913, 0.24154148, 0.9034385 , 0.        ,\n",
       "        0.        , 0.7301068 , 0.5705436 , 0.446311  , 0.72527486,\n",
       "        0.3800302 , 0.19601001, 0.64678925, 0.46145305, 0.        ,\n",
       "        0.8106221 , 0.25251487, 0.01131043, 0.62135303, 0.6833284 ,\n",
       "        0.24297139, 0.        , 0.        , 0.        , 0.0631992 ,\n",
       "        0.61363715, 0.9438752 , 0.4417264 , 0.7476068 , 0.7926516 ,\n",
       "        0.64419883, 0.        , 0.        , 0.51675314, 0.47675598,\n",
       "        0.48222694, 0.32487348, 0.9878039 , 0.88013357, 0.5820931 ,\n",
       "        0.77481776, 0.        ], dtype=float32),\n",
       " array([1, 3, 4, 5, 6, 7, 0, 0, 0, 0, 2, 4, 5, 6, 7, 0, 0, 0, 0, 1, 2, 3,\n",
       "        4, 5, 6, 7, 0, 0, 1, 2, 3, 4, 5, 7, 0, 0, 0, 1, 2, 3, 4, 5, 6, 7,\n",
       "        0, 0, 1, 2, 3, 6, 7, 0, 0, 0, 0, 1, 2, 3, 4, 5, 6, 0, 0, 0, 1, 2,\n",
       "        3, 4, 5, 6, 7, 0], dtype=uint32),\n",
       " array([6, 6, 8, 7, 8, 6, 7, 8], dtype=uint32),\n",
       " 9)"
      ]
     },
     "execution_count": 15,
     "metadata": {},
     "output_type": "execute_result"
    }
   ],
   "source": [
    "adatat, acolst, annzt, ellwat = to_data(a.T)\n",
    "adatat, acolst, annzt, ellwat"
   ]
  },
  {
   "cell_type": "code",
   "execution_count": 16,
   "id": "a21f8921",
   "metadata": {},
   "outputs": [],
   "source": [
    "adense = to_dense(adata, acols, annz, ellwa, a.shape)"
   ]
  },
  {
   "cell_type": "code",
   "execution_count": 17,
   "id": "afddd45e",
   "metadata": {},
   "outputs": [],
   "source": [
    "adenset = to_dense(adatat, acolst, annzt, ellwat, a.T.shape)"
   ]
  },
  {
   "cell_type": "code",
   "execution_count": 18,
   "id": "1c04d184",
   "metadata": {},
   "outputs": [
    {
     "data": {
      "text/plain": [
       "array([[0.        , 0.52328503, 0.85276353, 0.941733  , 0.73010677,\n",
       "        0.8106221 , 0.0631992 , 0.51675314],\n",
       "       [0.53753948, 0.        , 0.68684566, 0.43293473, 0.57054359,\n",
       "        0.25251487, 0.61363715, 0.47675598],\n",
       "       [0.        , 0.32384282, 0.58764708, 0.42200461, 0.446311  ,\n",
       "        0.01131043, 0.94387519, 0.48222694],\n",
       "       [0.8779282 , 0.        , 0.38753739, 0.98875588, 0.72527486,\n",
       "        0.62135303, 0.44172639, 0.32487348],\n",
       "       [0.24411957, 0.04483144, 0.84427702, 0.14873913, 0.38003021,\n",
       "        0.        , 0.74760681, 0.98780388],\n",
       "       [0.91075796, 0.0012288 , 0.3646228 , 0.24154148, 0.19601001,\n",
       "        0.        , 0.79265159, 0.88013357],\n",
       "       [0.02267831, 0.12424071, 0.68308598, 0.        , 0.64678925,\n",
       "        0.68332839, 0.64419883, 0.58209312],\n",
       "       [0.50808465, 0.02975472, 0.12269319, 0.90343851, 0.46145305,\n",
       "        0.24297139, 0.        , 0.77481776]])"
      ]
     },
     "execution_count": 18,
     "metadata": {},
     "output_type": "execute_result"
    }
   ],
   "source": [
    "adense"
   ]
  },
  {
   "cell_type": "code",
   "execution_count": 19,
   "id": "cae2f665",
   "metadata": {},
   "outputs": [
    {
     "data": {
      "text/plain": [
       "array([[ True,  True,  True,  True,  True,  True,  True,  True],\n",
       "       [ True,  True,  True,  True,  True,  True,  True,  True],\n",
       "       [ True,  True,  True,  True,  True,  True,  True,  True],\n",
       "       [ True,  True,  True,  True,  True,  True,  True,  True],\n",
       "       [ True,  True,  True,  True,  True,  True,  True,  True],\n",
       "       [ True,  True,  True,  True,  True,  True,  True,  True],\n",
       "       [ True,  True,  True,  True,  True,  True,  True,  True],\n",
       "       [ True,  True,  True,  True,  True,  True,  True,  True]])"
      ]
     },
     "execution_count": 19,
     "metadata": {},
     "output_type": "execute_result"
    }
   ],
   "source": [
    "adenset.T == adense"
   ]
  },
  {
   "cell_type": "code",
   "execution_count": 20,
   "id": "570652a8",
   "metadata": {},
   "outputs": [
    {
     "data": {
      "text/plain": [
       "array([[0.        , 0.52328503, 0.85276353, 0.941733  , 0.7301068 ,\n",
       "        0.8106221 , 0.0631992 , 0.51675314],\n",
       "       [0.5375395 , 0.        , 0.68684566, 0.43293473, 0.5705436 ,\n",
       "        0.25251487, 0.61363715, 0.47675598],\n",
       "       [0.        , 0.32384282, 0.5876471 , 0.4220046 , 0.446311  ,\n",
       "        0.01131043, 0.9438752 , 0.48222694],\n",
       "       [0.8779282 , 0.        , 0.3875374 , 0.9887559 , 0.72527486,\n",
       "        0.62135303, 0.4417264 , 0.32487348],\n",
       "       [0.24411957, 0.04483144, 0.844277  , 0.14873913, 0.3800302 ,\n",
       "        0.        , 0.7476068 , 0.9878039 ],\n",
       "       [0.91075796, 0.0012288 , 0.3646228 , 0.24154148, 0.19601001,\n",
       "        0.        , 0.7926516 , 0.88013357],\n",
       "       [0.02267831, 0.12424071, 0.683086  , 0.        , 0.64678925,\n",
       "        0.6833284 , 0.64419883, 0.5820931 ],\n",
       "       [0.50808465, 0.02975472, 0.12269319, 0.9034385 , 0.46145305,\n",
       "        0.24297139, 0.        , 0.77481776]], dtype=float32)"
      ]
     },
     "execution_count": 20,
     "metadata": {},
     "output_type": "execute_result"
    }
   ],
   "source": [
    "a"
   ]
  },
  {
   "cell_type": "code",
   "execution_count": 21,
   "id": "b3828f92",
   "metadata": {},
   "outputs": [
    {
     "data": {
      "text/plain": [
       "array([[ True,  True,  True,  True,  True,  True,  True,  True],\n",
       "       [ True,  True,  True,  True,  True,  True,  True,  True],\n",
       "       [ True,  True,  True,  True,  True,  True,  True,  True],\n",
       "       [ True,  True,  True,  True,  True,  True,  True,  True],\n",
       "       [ True,  True,  True,  True,  True,  True,  True,  True],\n",
       "       [ True,  True,  True,  True,  True,  True,  True,  True],\n",
       "       [ True,  True,  True,  True,  True,  True,  True,  True],\n",
       "       [ True,  True,  True,  True,  True,  True,  True,  True]])"
      ]
     },
     "execution_count": 21,
     "metadata": {},
     "output_type": "execute_result"
    }
   ],
   "source": [
    "a == adense"
   ]
  },
  {
   "cell_type": "code",
   "execution_count": 22,
   "id": "d8e29e3c",
   "metadata": {},
   "outputs": [
    {
     "data": {
      "text/plain": [
       "(8, 8)"
      ]
     },
     "execution_count": 22,
     "metadata": {},
     "output_type": "execute_result"
    }
   ],
   "source": [
    "a.shape"
   ]
  },
  {
   "cell_type": "code",
   "execution_count": 23,
   "id": "233fb7fe",
   "metadata": {},
   "outputs": [
    {
     "data": {
      "text/plain": [
       "((72,), (72,), (8,), 9)"
      ]
     },
     "execution_count": 23,
     "metadata": {},
     "output_type": "execute_result"
    }
   ],
   "source": [
    "adata.shape, acols.shape, annz.shape, ellwa"
   ]
  },
  {
   "cell_type": "code",
   "execution_count": 24,
   "id": "fbb29574",
   "metadata": {},
   "outputs": [],
   "source": [
    "#acols = acols.astype(np.uint32)\n",
    "#annz = annz.astype(np.uint32)"
   ]
  },
  {
   "cell_type": "code",
   "execution_count": 25,
   "id": "008c1a26",
   "metadata": {},
   "outputs": [
    {
     "data": {
      "text/plain": [
       "(array([0.52328503, 0.85276353, 0.941733  , 0.7301068 , 0.8106221 ,\n",
       "        0.0631992 , 0.51675314, 0.        , 0.        , 0.5375395 ,\n",
       "        0.68684566, 0.43293473, 0.5705436 , 0.25251487, 0.61363715,\n",
       "        0.47675598, 0.        , 0.        , 0.32384282, 0.5876471 ,\n",
       "        0.4220046 , 0.446311  , 0.01131043, 0.9438752 , 0.48222694,\n",
       "        0.        , 0.        , 0.8779282 , 0.3875374 , 0.9887559 ,\n",
       "        0.72527486, 0.62135303, 0.4417264 , 0.32487348, 0.        ,\n",
       "        0.        , 0.24411957, 0.04483144, 0.844277  , 0.14873913,\n",
       "        0.3800302 , 0.7476068 , 0.9878039 , 0.        , 0.        ,\n",
       "        0.91075796, 0.0012288 , 0.3646228 , 0.24154148, 0.19601001,\n",
       "        0.7926516 , 0.88013357, 0.        , 0.        , 0.02267831,\n",
       "        0.12424071, 0.683086  , 0.64678925, 0.6833284 , 0.64419883,\n",
       "        0.5820931 , 0.        , 0.        , 0.50808465, 0.02975472,\n",
       "        0.12269319, 0.9034385 , 0.46145305, 0.24297139, 0.77481776,\n",
       "        0.        , 0.        ], dtype=float32),\n",
       " array([1, 2, 3, 4, 5, 6, 7, 0, 0, 0, 2, 3, 4, 5, 6, 7, 0, 0, 1, 2, 3, 4,\n",
       "        5, 6, 7, 0, 0, 0, 2, 3, 4, 5, 6, 7, 0, 0, 0, 1, 2, 3, 4, 6, 7, 0,\n",
       "        0, 0, 1, 2, 3, 4, 6, 7, 0, 0, 0, 1, 2, 4, 5, 6, 7, 0, 0, 0, 1, 2,\n",
       "        3, 4, 5, 7, 0, 0], dtype=uint32),\n",
       " array([7, 7, 7, 7, 7, 7, 7, 7], dtype=uint32),\n",
       " array([[0.93212026, 0.8944856 , 0.7935633 , 0.87782544, 0.17367436,\n",
       "         0.9549761 , 0.16357593, 0.999538  ],\n",
       "        [0.8284154 , 0.28757167, 0.78423697, 0.07313304, 0.26050532,\n",
       "         0.4531351 , 0.27547118, 0.17851022],\n",
       "        [0.5093762 , 0.3891016 , 0.14989905, 0.84568554, 0.89133835,\n",
       "         0.6859337 , 0.10950577, 0.72377515],\n",
       "        [0.43113735, 0.9447981 , 0.50534743, 0.17087796, 0.19416347,\n",
       "         0.5170911 , 0.5719422 , 0.46454972]], dtype=float32))"
      ]
     },
     "execution_count": 25,
     "metadata": {},
     "output_type": "execute_result"
    }
   ],
   "source": [
    "adata, acols, annz, b"
   ]
  },
  {
   "cell_type": "code",
   "execution_count": 26,
   "id": "6e741bf7",
   "metadata": {},
   "outputs": [],
   "source": [
    "adata_buf = cl.Buffer(ctx, mf.READ_WRITE | mf.COPY_HOST_PTR, hostbuf=adata)\n",
    "acols_buf = cl.Buffer(ctx, mf.READ_WRITE | mf.COPY_HOST_PTR, hostbuf=acols)\n",
    "annzs_buf = cl.Buffer(ctx, mf.READ_WRITE | mf.COPY_HOST_PTR, hostbuf=annz)\n",
    "adatat_buf = cl.Buffer(ctx, mf.READ_WRITE | mf.COPY_HOST_PTR, hostbuf=adatat)\n",
    "acolst_buf = cl.Buffer(ctx, mf.READ_WRITE | mf.COPY_HOST_PTR, hostbuf=acolst)\n",
    "annzst_buf = cl.Buffer(ctx, mf.READ_WRITE | mf.COPY_HOST_PTR, hostbuf=annzt)\n",
    "b_buf = cl.Buffer(ctx, mf.READ_WRITE | mf.COPY_HOST_PTR, hostbuf=b.T)\n",
    "\n",
    "prg = cl.Program(ctx, \"\"\"\n",
    "// Every global_id_0 works on a row\n",
    "    __kernel void matmul(__global  float* matData,     // INPUT MATRIX DATA\n",
    "                            __global  uint*  colIdx,\n",
    "                            __global  uint*  rowNnz,\n",
    "                            uint   ellwidth,\n",
    "                            __global  float* vector_x,    // INPUT\n",
    "                            __global  float* vector_y    // OUTPUT\n",
    "                            ) { // LOCAL SHARED BUFFER\n",
    "      uint gid = get_global_id(0);\n",
    "      uint nrows = get_global_size(0);\n",
    "      uint gid2 = get_global_id(1);\n",
    "\n",
    "      uint nnz    = rowNnz[gid];\n",
    "      uint baseidx = gid2*nrows;\n",
    "      float sum = 0;\n",
    "      for (uint i = 0; i < nnz; i++) {\n",
    "        uint index   = (gid * ellwidth) + i;\n",
    "        uint col     = colIdx[index];\n",
    "        float aval  = matData[index];\n",
    "        float xval  = vector_x[baseidx+col];\n",
    "        //printf(\"aval, xval: %.2f,%.2f: (%i,%i) \\\\n\", aval, xval, col, index);\n",
    "        sum  += aval * xval;\n",
    "      }\n",
    "      printf(\"SUM/NNZ: %.2f %i \\\\n\", sum, nnz);\n",
    "      vector_y[baseidx+gid] = sum;\n",
    "    }\"\"\").build()"
   ]
  },
  {
   "cell_type": "code",
   "execution_count": 27,
   "id": "b4c85bcb",
   "metadata": {},
   "outputs": [
    {
     "data": {
      "text/plain": [
       "((8, 8), (4, 8))"
      ]
     },
     "execution_count": 27,
     "metadata": {},
     "output_type": "execute_result"
    }
   ],
   "source": [
    "a.shape, b.shape"
   ]
  },
  {
   "cell_type": "code",
   "execution_count": 28,
   "id": "c740a4fe",
   "metadata": {},
   "outputs": [],
   "source": [
    "res = np.zeros(a.shape[0]).astype(np.float32)\n",
    "#res"
   ]
  },
  {
   "cell_type": "code",
   "execution_count": 29,
   "id": "07aa4d30",
   "metadata": {},
   "outputs": [],
   "source": [
    "rows = a.shape[0]"
   ]
  },
  {
   "cell_type": "code",
   "execution_count": 30,
   "id": "98da857f",
   "metadata": {},
   "outputs": [],
   "source": [
    "mult = mult.astype(np.float32)"
   ]
  },
  {
   "cell_type": "code",
   "execution_count": 31,
   "id": "cc7365fc",
   "metadata": {},
   "outputs": [
    {
     "name": "stdout",
     "output_type": "stream",
     "text": [
      "SUM/NNZ: 2.72 7 \n",
      "SUM/NNZ: 1.84 7 \n",
      "SUM/NNZ: 1.43 7 \n",
      "SUM/NNZ: 2.70 7 \n",
      "SUM/NNZ: 1.53 7 \n",
      "SUM/NNZ: 1.62 7 \n",
      "SUM/NNZ: 1.70 7 \n",
      "SUM/NNZ: 2.19 7 \n",
      "SUM/NNZ: 1.92 7 \n",
      "SUM/NNZ: 1.47 7 \n",
      "SUM/NNZ: 1.53 7 \n",
      "SUM/NNZ: 1.61 7 \n",
      "SUM/NNZ: 1.56 7 \n",
      "SUM/NNZ: 1.52 7 \n",
      "SUM/NNZ: 1.59 7 \n",
      "SUM/NNZ: 1.04 7 \n",
      "SUM/NNZ: 1.56 7 \n",
      "SUM/NNZ: 1.53 7 \n",
      "SUM/NNZ: 1.05 7 \n",
      "SUM/NNZ: 1.75 7 \n",
      "SUM/NNZ: 1.37 7 \n",
      "SUM/NNZ: 1.48 7 \n",
      "SUM/NNZ: 1.35 7 \n",
      "SUM/NNZ: 0.96 7 \n",
      "SUM/NNZ: 3.40 7 \n",
      "SUM/NNZ: 2.34 7 \n",
      "SUM/NNZ: 1.85 7 \n",
      "SUM/NNZ: 3.11 7 \n",
      "SUM/NNZ: 2.24 7 \n",
      "SUM/NNZ: 2.39 7 \n",
      "SUM/NNZ: 2.13 7 \n",
      "SUM/NNZ: 2.48 7 \n"
     ]
    },
    {
     "data": {
      "text/plain": [
       "<pyopencl._cl.NannyEvent at 0x7faa88291950>"
      ]
     },
     "execution_count": 31,
     "metadata": {},
     "output_type": "execute_result"
    }
   ],
   "source": [
    "res_buf = cl.Buffer(ctx, mf.WRITE_ONLY, b.nbytes)\n",
    "knl = prg.matmul  # Use this Kernel object for repeated calls\n",
    "knl(queue, [rows,bs], None, adata_buf, acols_buf, annzs_buf, np.uint32(ellwa), b_buf, res_buf)\n",
    "\n",
    "res_np = np.empty_like(b.T)\n",
    "cl.enqueue_copy(queue, res_np, res_buf)"
   ]
  },
  {
   "cell_type": "code",
   "execution_count": 32,
   "id": "33d8a584",
   "metadata": {},
   "outputs": [
    {
     "data": {
      "text/plain": [
       "<pyopencl._cl.Buffer at 0x7faa88276900>"
      ]
     },
     "execution_count": 32,
     "metadata": {},
     "output_type": "execute_result"
    }
   ],
   "source": [
    "res_buf"
   ]
  },
  {
   "cell_type": "code",
   "execution_count": 33,
   "id": "99faec15",
   "metadata": {},
   "outputs": [
    {
     "data": {
      "text/plain": [
       "array([[3.3992476 , 1.5552958 , 2.7155886 , 1.9233913 ],\n",
       "       [2.3432944 , 1.5328158 , 1.8369108 , 1.4666219 ],\n",
       "       [1.8511676 , 1.0523294 , 1.4289346 , 1.5314095 ],\n",
       "       [3.1101434 , 1.753692  , 2.697643  , 1.6089851 ],\n",
       "       [2.2438438 , 1.3693928 , 1.5296862 , 1.5599351 ],\n",
       "       [2.3948452 , 1.4849818 , 1.6218513 , 1.5196328 ],\n",
       "       [2.126435  , 1.3497163 , 1.6993622 , 1.5901372 ],\n",
       "       [2.4772716 , 0.96037614, 2.1915672 , 1.038724  ]], dtype=float32)"
      ]
     },
     "execution_count": 33,
     "metadata": {},
     "output_type": "execute_result"
    }
   ],
   "source": [
    "res_np"
   ]
  },
  {
   "cell_type": "code",
   "execution_count": 34,
   "id": "4da1c066",
   "metadata": {},
   "outputs": [
    {
     "data": {
      "text/plain": [
       "array([[3.3992476 , 1.5552958 , 2.7155886 , 1.9233913 ],\n",
       "       [2.3432944 , 1.5328158 , 1.8369108 , 1.4666219 ],\n",
       "       [1.8511676 , 1.0523294 , 1.4289346 , 1.5314095 ],\n",
       "       [3.1101434 , 1.753692  , 2.697643  , 1.6089851 ],\n",
       "       [2.2438438 , 1.3693928 , 1.5296862 , 1.5599351 ],\n",
       "       [2.3948452 , 1.4849818 , 1.6218513 , 1.5196328 ],\n",
       "       [2.126435  , 1.3497163 , 1.6993622 , 1.5901372 ],\n",
       "       [2.4772716 , 0.96037614, 2.1915672 , 1.038724  ]], dtype=float32)"
      ]
     },
     "execution_count": 34,
     "metadata": {},
     "output_type": "execute_result"
    }
   ],
   "source": [
    "mult"
   ]
  },
  {
   "cell_type": "code",
   "execution_count": 86,
   "id": "cee58b83",
   "metadata": {},
   "outputs": [
    {
     "data": {
      "text/plain": [
       "array([[ True,  True,  True,  True],\n",
       "       [ True,  True,  True,  True],\n",
       "       [ True,  True,  True,  True],\n",
       "       [ True,  True,  True,  True],\n",
       "       [ True,  True,  True,  True],\n",
       "       [ True,  True,  True,  True],\n",
       "       [ True,  True,  True,  True],\n",
       "       [ True,  True,  True,  True]])"
      ]
     },
     "execution_count": 86,
     "metadata": {},
     "output_type": "execute_result"
    }
   ],
   "source": [
    "res_np==mult"
   ]
  },
  {
   "cell_type": "code",
   "execution_count": 35,
   "id": "c197fea2",
   "metadata": {},
   "outputs": [
    {
     "data": {
      "text/plain": [
       "(8, 4)"
      ]
     },
     "execution_count": 35,
     "metadata": {},
     "output_type": "execute_result"
    }
   ],
   "source": [
    "res_np.shape"
   ]
  },
  {
   "cell_type": "code",
   "execution_count": 36,
   "id": "b20b9da3",
   "metadata": {},
   "outputs": [
    {
     "data": {
      "text/plain": [
       "(8, 4)"
      ]
     },
     "execution_count": 36,
     "metadata": {},
     "output_type": "execute_result"
    }
   ],
   "source": [
    "mult.shape"
   ]
  },
  {
   "cell_type": "code",
   "execution_count": 37,
   "id": "2a6322f5",
   "metadata": {},
   "outputs": [
    {
     "data": {
      "text/plain": [
       "0.0"
      ]
     },
     "execution_count": 37,
     "metadata": {},
     "output_type": "execute_result"
    }
   ],
   "source": [
    "(res_np-mult).sum()"
   ]
  },
  {
   "cell_type": "markdown",
   "id": "b3ad7225",
   "metadata": {},
   "source": [
    "## Weight update kernel"
   ]
  },
  {
   "cell_type": "code",
   "execution_count": 38,
   "id": "a5138cee",
   "metadata": {},
   "outputs": [],
   "source": [
    "bs = 4"
   ]
  },
  {
   "cell_type": "code",
   "execution_count": 39,
   "id": "76e44e2d",
   "metadata": {},
   "outputs": [
    {
     "data": {
      "text/plain": [
       "((4, 8), (4, 8), 2)"
      ]
     },
     "execution_count": 39,
     "metadata": {},
     "output_type": "execute_result"
    }
   ],
   "source": [
    "dim = 8\n",
    "topk = 2\n",
    "\n",
    "x = np.random.rand(bs,dim).astype(np.float32)\n",
    "y = np.random.rand(bs,dim).astype(np.float32)\n",
    "x.shape,y.shape, topk"
   ]
  },
  {
   "cell_type": "markdown",
   "id": "de5e3e5e",
   "metadata": {},
   "source": [
    "x_buf = cl.Buffer(ctx, mf.READ_ONLY | mf.COPY_HOST_PTR, hostbuf=x)\n",
    "y_buf = cl.Buffer(ctx, mf.READ_ONLY | mf.COPY_HOST_PTR, hostbuf=y)\n",
    "x_cp_buf = cl.Buffer(ctx, mf.WRITE_ONLY, bs*topk*topk*4)\n",
    "x_idx_buf = cl.Buffer(ctx, mf.WRITE_ONLY, bs*topk*4)\n",
    "y_idx_buf = cl.Buffer(ctx, mf.WRITE_ONLY, bs*topk*4)\n",
    "\n",
    "prg = cl.Program(ctx, \"\"\"\n",
    "    // sorts x and y in ascending order and returns sorted indices\n",
    "    __kernel void genwupdate2(__global  float* x,     // INPUT MATRIX DATA\n",
    "                             __global  float* y,    // INPUT\n",
    "                             __global  float* xout,    // INPUT\n",
    "                             uint topk,\n",
    "                             __global  uint* xoutidx,    // INPUT\n",
    "                             __global  uint* youtidx    // INPUT\n",
    "                            ) { // LOCAL SHARED BUFFER\n",
    "      uint gid = get_global_id(0);\n",
    "      uint n = get_global_size(0);\n",
    "      uint bs = get_global_size(1);\n",
    "      uint gid2 = get_global_id(1);\n",
    "\n",
    "      uint idx = n*gid2+gid;\n",
    "\n",
    "      float valx = x[idx];\n",
    "      float valy = y[idx];\n",
    "      uint posx = 0;\n",
    "      uint posy = 0;\n",
    "      for (uint i = 0; i < n; i++) {\n",
    "        uint idx2 = n*gid2+i;\n",
    "        float tempval = x[idx2];\n",
    "        float tempval2 = y[idx2];\n",
    "        bool larger = tempval > valx;\n",
    "        bool larger2 = tempval2 > valy;\n",
    "\n",
    "        barrier(CLK_GLOBAL_MEM_FENCE);\n",
    "        posx += (larger)?1:0;\n",
    "        posy += (larger2)?1:0;\n",
    "        barrier(CLK_GLOBAL_MEM_FENCE);\n",
    "      }\n",
    "      barrier(CLK_GLOBAL_MEM_FENCE);\n",
    "      //printf(\"posx:%i\", posx);\n",
    "      if (posx < topk) {\n",
    "        xoutidx[posx+topk*gid2] = gid;\n",
    "      }\n",
    "      if (posy < topk) {\n",
    "        youtidx[posy+topk*gid2] = gid;\n",
    "      }\n",
    "      barrier(CLK_GLOBAL_MEM_FENCE);\n",
    "      if (gid < topk) {\n",
    "        for (uint j=0; j<topk; j++) {\n",
    "          float res = x[xoutidx[gid+topk*gid2]+gid2*n] * y[youtidx[j+topk*gid2]+gid2*n];\n",
    "          //printf(\"\\\\nJ:%i  gid:%i\", j, gid);\n",
    "          //printf(\"\\\\nRES:%.2f - %i - %i -  %.2f - %.2f\",res, xoutidx[gid+topk*gid2], youtidx[j+topk*gid2], x[xoutidx[gid+topk*gid2]+gid2*n], y[youtidx[j+topk*gid2]+gid2*n]);\n",
    "          barrier(CLK_GLOBAL_MEM_FENCE);\n",
    "          xout[gid2*topk*topk+j*topk+gid] = res;\n",
    "          barrier(CLK_GLOBAL_MEM_FENCE);\n",
    "          \n",
    "        }\n",
    "      }\n",
    "      barrier(CLK_GLOBAL_MEM_FENCE);\n",
    "    }\"\"\").build()"
   ]
  },
  {
   "cell_type": "code",
   "execution_count": 40,
   "id": "88864470",
   "metadata": {},
   "outputs": [],
   "source": [
    "x_buf = cl.Buffer(ctx, mf.READ_ONLY | mf.COPY_HOST_PTR, hostbuf=x)\n",
    "y_buf = cl.Buffer(ctx, mf.READ_ONLY | mf.COPY_HOST_PTR, hostbuf=y)\n",
    "x_cp_buf = cl.Buffer(ctx, mf.WRITE_ONLY, bs*topk*topk*4)\n",
    "x_idx_buf = cl.Buffer(ctx, mf.WRITE_ONLY, bs*topk*4)\n",
    "y_idx_buf = cl.Buffer(ctx, mf.WRITE_ONLY, bs*topk*4)\n",
    "#x_cp_buft = cl.Buffer(ctx, mf.WRITE_ONLY, bs*topk*topk*4)\n",
    "#x_idx_buft = cl.Buffer(ctx, mf.WRITE_ONLY, bs*topk*4)\n",
    "#y_idx_buft = cl.Buffer(ctx, mf.WRITE_ONLY, bs*topk*4)\n",
    "\n",
    "prg = cl.Program(ctx, \"\"\"\n",
    "    // sorts x and y in ascending order and returns sorted indices\n",
    "    __kernel void genwupdate2(__global  float* x,     // INPUT MATRIX DATA\n",
    "                             __global  float* y,    // INPUT\n",
    "                             __global  float* xout,    // INPUT\n",
    "                             uint topk,\n",
    "                             uint bs,\n",
    "                             __global  uint* xoutidx,    // INPUT\n",
    "                             __global  uint* youtidx    // INPUT\n",
    "                            ) { // LOCAL SHARED BUFFER\n",
    "      uint gid = get_global_id(0);\n",
    "      uint n = get_global_size(0);\n",
    "      //uint bs = get_global_size(1);\n",
    "      //uint gid2 = get_global_id(1);\n",
    "\n",
    "      for (uint gid2=0; gid2<bs; gid2++){\n",
    "        uint idx = n*gid2+gid;\n",
    "\n",
    "        float valx = x[idx];\n",
    "        float valy = y[idx];\n",
    "        uint posx = 0;\n",
    "        uint posy = 0;\n",
    "        for (uint i = 0; i < n; i++) {\n",
    "          uint idx2 = n*gid2+i;\n",
    "          float tempval = x[idx2];\n",
    "          float tempval2 = y[idx2];\n",
    "          bool larger = tempval > valx;\n",
    "          bool larger2 = tempval2 > valy;\n",
    "\n",
    "          posx += (larger)?1:0;\n",
    "          posy += (larger2)?1:0;\n",
    "        }\n",
    "        //printf(\"posx:%i\", posx);\n",
    "        if (posx < topk) {\n",
    "        xoutidx[posx+topk*gid2] = gid;\n",
    "        }\n",
    "        if (posy < topk) {\n",
    "          youtidx[posy+topk*gid2] = gid;\n",
    "        }\n",
    "      }\n",
    "      for (uint gid2=0; gid2<bs; gid2++){\n",
    "        if (gid < topk) {\n",
    "          for (uint j=0; j<topk; j++) {\n",
    "            float res = x[xoutidx[gid+topk*gid2]+gid2*n] * y[youtidx[j+topk*gid2]+gid2*n];\n",
    "            //printf(\"\\\\nJ:%i  gid:%i\", j, gid);\n",
    "            //printf(\"\\\\nRES:%.2f - %i - %i -  %.2f - %.2f\",res, xoutidx[gid+topk*gid2], youtidx[j+topk*gid2], x[xoutidx[gid+topk*gid2]+gid2*n], y[youtidx[j+topk*gid2]+gid2*n]);\n",
    "            //barrier(CLK_GLOBAL_MEM_FENCE);\n",
    "            xout[gid2*topk*topk+j*topk+gid] = res;\n",
    "          }\n",
    "        }\n",
    "      }\n",
    "    }\"\"\").build()"
   ]
  },
  {
   "cell_type": "code",
   "execution_count": 41,
   "id": "94682965",
   "metadata": {},
   "outputs": [
    {
     "data": {
      "text/plain": [
       "<pyopencl._cl.NannyEvent at 0x7faa8829ed10>"
      ]
     },
     "execution_count": 41,
     "metadata": {},
     "output_type": "execute_result"
    }
   ],
   "source": [
    "knl = prg.genwupdate2  # Use this Kernel object for repeated calls\n",
    "evt = knl(queue, [dim], None, x_buf, y_buf, x_cp_buf, np.uint32(topk), np.uint32(bs), x_idx_buf, y_idx_buf)\n",
    "\n",
    "#evt.wait()\n",
    "resx = np.zeros(bs*topk*topk).astype(np.float32)\n",
    "resxidx = np.zeros(bs*topk).astype(np.uint32)\n",
    "resyidx = np.zeros(bs*topk).astype(np.uint32)\n",
    "\n",
    "cl.enqueue_copy(queue, resx, x_cp_buf)\n",
    "cl.enqueue_copy(queue, resxidx, x_idx_buf)\n",
    "cl.enqueue_copy(queue, resyidx, y_idx_buf)"
   ]
  },
  {
   "cell_type": "markdown",
   "id": "771508c3",
   "metadata": {},
   "source": [
    "knl(queue, [dim], None, y_buf, x_buf, x_cp_buft, np.uint32(topk), np.uint32(bs), x_idx_buft, y_idx_buft)\n",
    "\n",
    "#evt.wait()\n",
    "resx = np.zeros(bs*topk*topk).astype(np.float32)\n",
    "resxidx = np.zeros(bs*topk).astype(np.uint32)\n",
    "resyidx = np.zeros(bs*topk).astype(np.uint32)\n",
    "\n",
    "cl.enqueue_copy(queue, resx, x_cp_buf)\n",
    "cl.enqueue_copy(queue, resxidx, x_idx_buf)\n",
    "cl.enqueue_copy(queue, resyidx, y_idx_buf)"
   ]
  },
  {
   "cell_type": "code",
   "execution_count": 42,
   "id": "88725ae2",
   "metadata": {},
   "outputs": [
    {
     "data": {
      "text/plain": [
       "array([[0.7007082 , 0.78030187, 0.81460166, 0.01791268, 0.6809253 ,\n",
       "        0.23861434, 0.36688572, 0.5888133 ],\n",
       "       [0.13344142, 0.31516224, 0.10078434, 0.90952665, 0.12859394,\n",
       "        0.30775154, 0.73491913, 0.6020403 ],\n",
       "       [0.20044023, 0.2932102 , 0.81177634, 0.21738477, 0.6369448 ,\n",
       "        0.692946  , 0.35219213, 0.02217519],\n",
       "       [0.68943363, 0.8550104 , 0.8628079 , 0.19288574, 0.28852978,\n",
       "        0.78029066, 0.5219705 , 0.8287392 ]], dtype=float32)"
      ]
     },
     "execution_count": 42,
     "metadata": {},
     "output_type": "execute_result"
    }
   ],
   "source": [
    "x"
   ]
  },
  {
   "cell_type": "code",
   "execution_count": 43,
   "id": "4c150d0f",
   "metadata": {},
   "outputs": [
    {
     "data": {
      "text/plain": [
       "array([[0.96517766, 0.22530651, 0.89500284, 0.5050394 , 0.6814487 ,\n",
       "        0.6945643 , 0.81712884, 0.02768122],\n",
       "       [0.1881376 , 0.24455145, 0.7569934 , 0.05124188, 0.5786078 ,\n",
       "        0.86848   , 0.9589475 , 0.55534047],\n",
       "       [0.13901085, 0.09989852, 0.13279662, 0.5788994 , 0.8643667 ,\n",
       "        0.2441829 , 0.7013198 , 0.90401286],\n",
       "       [0.6082316 , 0.68015873, 0.20494615, 0.212279  , 0.904701  ,\n",
       "        0.04224334, 0.53773874, 0.942847  ]], dtype=float32)"
      ]
     },
     "execution_count": 43,
     "metadata": {},
     "output_type": "execute_result"
    }
   ],
   "source": [
    "y"
   ]
  },
  {
   "cell_type": "code",
   "execution_count": 44,
   "id": "990b8af7",
   "metadata": {},
   "outputs": [
    {
     "data": {
      "text/plain": [
       "((4, 8), (4, 8))"
      ]
     },
     "execution_count": 44,
     "metadata": {},
     "output_type": "execute_result"
    }
   ],
   "source": [
    "x.shape, y.shape"
   ]
  },
  {
   "cell_type": "code",
   "execution_count": 45,
   "id": "1c18b7bb",
   "metadata": {},
   "outputs": [
    {
     "data": {
      "text/plain": [
       "array([0.78623533, 0.7531299 , 0.7290708 , 0.69837236, 0.87218827,\n",
       "       0.70474887, 0.7899057 , 0.63826257, 0.73385626, 0.6264321 ,\n",
       "       0.70167243, 0.59895945, 0.8134959 , 0.806144  , 0.7805832 ,\n",
       "       0.77352875], dtype=float32)"
      ]
     },
     "execution_count": 45,
     "metadata": {},
     "output_type": "execute_result"
    }
   ],
   "source": [
    "resx"
   ]
  },
  {
   "cell_type": "code",
   "execution_count": 46,
   "id": "58d4154c",
   "metadata": {},
   "outputs": [
    {
     "data": {
      "text/plain": [
       "array([[[0.78623533, 0.7531299 ],\n",
       "        [0.7290708 , 0.69837236]],\n",
       "\n",
       "       [[0.87218827, 0.70474887],\n",
       "        [0.7899057 , 0.63826257]],\n",
       "\n",
       "       [[0.73385626, 0.6264321 ],\n",
       "        [0.70167243, 0.59895945]],\n",
       "\n",
       "       [[0.8134959 , 0.806144  ],\n",
       "        [0.7805832 , 0.77352875]]], dtype=float32)"
      ]
     },
     "execution_count": 46,
     "metadata": {},
     "output_type": "execute_result"
    }
   ],
   "source": [
    "resx.reshape(bs,topk,topk)"
   ]
  },
  {
   "cell_type": "code",
   "execution_count": 47,
   "id": "5cca2876",
   "metadata": {},
   "outputs": [
    {
     "data": {
      "text/plain": [
       "array([2, 1, 3, 6, 2, 5, 2, 1], dtype=uint32)"
      ]
     },
     "execution_count": 47,
     "metadata": {},
     "output_type": "execute_result"
    }
   ],
   "source": [
    "resxidx"
   ]
  },
  {
   "cell_type": "code",
   "execution_count": 48,
   "id": "80deeac2",
   "metadata": {},
   "outputs": [
    {
     "data": {
      "text/plain": [
       "array([0, 2, 6, 5, 7, 4, 7, 4], dtype=uint32)"
      ]
     },
     "execution_count": 48,
     "metadata": {},
     "output_type": "execute_result"
    }
   ],
   "source": [
    "resyidx"
   ]
  },
  {
   "cell_type": "code",
   "execution_count": 49,
   "id": "3020c7d7",
   "metadata": {},
   "outputs": [
    {
     "data": {
      "text/plain": [
       "(8, 8)"
      ]
     },
     "execution_count": 49,
     "metadata": {},
     "output_type": "execute_result"
    }
   ],
   "source": [
    "idx = 1\n",
    "xy0 = x[idx].reshape(dim,1)*y[idx]\n",
    "xy0.shape"
   ]
  },
  {
   "cell_type": "code",
   "execution_count": 50,
   "id": "fc865ccb",
   "metadata": {},
   "outputs": [
    {
     "data": {
      "text/plain": [
       "0.505097"
      ]
     },
     "execution_count": 50,
     "metadata": {},
     "output_type": "execute_result"
    }
   ],
   "source": [
    "xy0[3][7]"
   ]
  },
  {
   "cell_type": "markdown",
   "id": "281f5b07",
   "metadata": {},
   "source": [
    "### update vals add dense"
   ]
  },
  {
   "cell_type": "code",
   "execution_count": 95,
   "id": "9819fe44",
   "metadata": {},
   "outputs": [
    {
     "data": {
      "text/plain": [
       "array([[ 1.0807365 ,  1.20313213,  1.57455516, -2.22959989, -1.41064819,\n",
       "        -0.18065373, -0.49028942, -0.91055222],\n",
       "       [ 0.66621009,  0.69902972,  0.20639654,  0.12547115, -0.07135084,\n",
       "         0.36121905, -0.58889072, -0.68000575],\n",
       "       [ 1.27063674, -0.98910569,  1.62714557, -0.16510102, -0.02893584,\n",
       "         0.5267675 ,  1.05340445, -0.27819108],\n",
       "       [-0.45478888,  0.61715777, -0.57410355, -0.48966723,  1.42577486,\n",
       "         1.20475918,  1.10852877, -1.94279439],\n",
       "       [-1.14225069, -1.02980018, -1.99348521,  0.87215483, -0.37836665,\n",
       "        -0.38715072,  0.1239996 ,  0.39889502],\n",
       "       [-0.28734859,  0.32789885, -1.78896243, -0.57212434,  0.55981111,\n",
       "         0.42809908, -0.00338386, -1.20385249],\n",
       "       [ 0.57072756, -1.88208767,  1.74096982,  0.12021744, -0.66028105,\n",
       "         0.02187457, -0.5204857 ,  0.76994923],\n",
       "       [-1.92552138, -1.62916861,  0.07977981,  0.14730435,  0.65091849,\n",
       "         1.11089586,  1.04600782, -0.33432753]])"
      ]
     },
     "execution_count": 95,
     "metadata": {},
     "output_type": "execute_result"
    }
   ],
   "source": [
    "matadd = np.random.randn(*a.shape)\n",
    "matadd"
   ]
  },
  {
   "cell_type": "code",
   "execution_count": 159,
   "id": "565c198b",
   "metadata": {},
   "outputs": [],
   "source": [
    "a_added = a + matadd"
   ]
  },
  {
   "cell_type": "code",
   "execution_count": 190,
   "id": "ecdf2534",
   "metadata": {},
   "outputs": [],
   "source": [
    "adata_buf = cl.Buffer(ctx, mf.READ_WRITE | mf.COPY_HOST_PTR, hostbuf=adata)\n",
    "acols_buf = cl.Buffer(ctx, mf.READ_WRITE | mf.COPY_HOST_PTR, hostbuf=acols)\n",
    "annzs_buf = cl.Buffer(ctx, mf.READ_WRITE | mf.COPY_HOST_PTR, hostbuf=annz)\n",
    "adatat_buf = cl.Buffer(ctx, mf.READ_WRITE | mf.COPY_HOST_PTR, hostbuf=adatat)\n",
    "acolst_buf = cl.Buffer(ctx, mf.READ_WRITE | mf.COPY_HOST_PTR, hostbuf=acolst)\n",
    "annzst_buf = cl.Buffer(ctx, mf.READ_WRITE | mf.COPY_HOST_PTR, hostbuf=annzt)\n",
    "add_buf = cl.Buffer(ctx, mf.READ_WRITE | mf.COPY_HOST_PTR, hostbuf=matadd)\n",
    "\n",
    "prg = cl.Program(ctx, \"\"\"\n",
    "// Every global_id_0 works on a row\n",
    "    __kernel void matmul(__global  float* matData,     // INPUT MATRIX DATA\n",
    "                            __global  uint*  colIdx,\n",
    "                            __global  uint*  rowNnz,\n",
    "                            uint   ellwidth,\n",
    "                            uint   awidth,\n",
    "                            __global  float* vector_x    // INPUT\n",
    "                            ) { // LOCAL SHARED BUFFER\n",
    "      uint gid = get_global_id(0);\n",
    "      uint nrows = get_global_size(0);\n",
    "\n",
    "      uint nnz    = rowNnz[gid];\n",
    "      uint baseidxs = gid*ellwidth;\n",
    "      uint baseidxd = gid*awidth;\n",
    "      \n",
    "      for (uint i=0; i<awidth; i++) {\n",
    "        float addval = vector_x[baseidxd+i];\n",
    "        if (gid==0)\n",
    "          printf(\"\\\\nADD VAL:%.2f idx:%i/%i  col:%i\", addval, baseidxs+i, baseidxd+i, colIdx[i]);\n",
    "        if (addval == 0) {\n",
    "          continue;\n",
    "        }\n",
    "        if (i == colIdx[i]) {\n",
    "          matData[baseidxs+i] += addval;\n",
    "        } else {\n",
    "          if (i > colIdx[i])\n",
    "            break;\n",
    "          for (uint j=nnz+1; j>i; j--) {\n",
    "            colIdx[j] = colIdx[j-1];\n",
    "            matData[j] = matData[j-1];\n",
    "          }\n",
    "          rowNnz[gid] += 1;\n",
    "          nnz = rowNnz[gid];\n",
    "          matData[baseidxs+i] = addval;\n",
    "          if (nnz >= ellwidth)\n",
    "            break;\n",
    "        }\n",
    "      }\n",
    "    }\"\"\").build()"
   ]
  },
  {
   "cell_type": "code",
   "execution_count": 191,
   "id": "0e4c5ee2",
   "metadata": {},
   "outputs": [
    {
     "data": {
      "text/plain": [
       "((8, 8), (4, 8))"
      ]
     },
     "execution_count": 191,
     "metadata": {},
     "output_type": "execute_result"
    }
   ],
   "source": [
    "a.shape, b.shape"
   ]
  },
  {
   "cell_type": "code",
   "execution_count": 192,
   "id": "9321e460",
   "metadata": {},
   "outputs": [],
   "source": [
    "res = np.zeros(a.shape[0]).astype(np.float32)\n",
    "#res"
   ]
  },
  {
   "cell_type": "code",
   "execution_count": 193,
   "id": "0b942bf6",
   "metadata": {},
   "outputs": [],
   "source": [
    "rows = a.shape[0]"
   ]
  },
  {
   "cell_type": "code",
   "execution_count": 194,
   "id": "ab85a041",
   "metadata": {},
   "outputs": [],
   "source": [
    "mult = mult.astype(np.float32)"
   ]
  },
  {
   "cell_type": "code",
   "execution_count": 195,
   "id": "622fdb4c",
   "metadata": {},
   "outputs": [
    {
     "data": {
      "text/plain": [
       "<pyopencl._cl.Event at 0x7faa60039590>"
      ]
     },
     "execution_count": 195,
     "metadata": {},
     "output_type": "execute_result"
    },
    {
     "name": "stdout",
     "output_type": "stream",
     "text": [
      "\n",
      "ADD VAL:0.93 idx:0/0  col:1\n",
      "ADD VAL:0.89 idx:1/1  col:1\n",
      "ADD VAL:0.79 idx:2/2  col:2\n",
      "ADD VAL:0.88 idx:3/3  col:3\n",
      "ADD VAL:0.17 idx:4/4  col:4\n",
      "ADD VAL:0.95 idx:5/5  col:5\n",
      "ADD VAL:0.16 idx:6/6  col:6\n",
      "ADD VAL:1.00 idx:7/7  col:7"
     ]
    }
   ],
   "source": [
    "res_buf = cl.Buffer(ctx, mf.WRITE_ONLY, b.nbytes)\n",
    "knl = prg.matmul  # Use this Kernel object for repeated calls\n",
    "knl(queue, [rows], None, adata_buf, acols_buf, annzs_buf, np.uint32(ellwa),np.uint32(a.shape[1]), b_buf)"
   ]
  },
  {
   "cell_type": "code",
   "execution_count": 186,
   "id": "04069053",
   "metadata": {},
   "outputs": [
    {
     "data": {
      "text/plain": [
       "1.080736504937086"
      ]
     },
     "execution_count": 186,
     "metadata": {},
     "output_type": "execute_result"
    }
   ],
   "source": [
    "matadd[0][0]"
   ]
  },
  {
   "cell_type": "code",
   "execution_count": 187,
   "id": "65b3001c",
   "metadata": {},
   "outputs": [
    {
     "data": {
      "text/plain": [
       "<pyopencl._cl.NannyEvent at 0x7faa4768aea0>"
      ]
     },
     "execution_count": 187,
     "metadata": {},
     "output_type": "execute_result"
    }
   ],
   "source": [
    "data_res = np.empty_like(adata)\n",
    "cols_res = np.empty_like(acols)\n",
    "nnzs_res = np.empty_like(annz)\n",
    "cl.enqueue_copy(queue, data_res, adata_buf)\n",
    "cl.enqueue_copy(queue, cols_res, acols_buf)\n",
    "cl.enqueue_copy(queue, nnzs_res, annzs_buf)"
   ]
  },
  {
   "cell_type": "code",
   "execution_count": 188,
   "id": "07db0d4a",
   "metadata": {},
   "outputs": [
    {
     "data": {
      "text/plain": [
       "array([[0.00000000e+00, 1.41777062e+00, 1.64632678e+00, 1.81955838e+00,\n",
       "        9.03781116e-01, 1.76559818e+00, 2.26775140e-01, 1.51629114e+00],\n",
       "       [1.78510219e-01, 0.00000000e+00, 9.74417329e-01, 1.21717167e+00,\n",
       "        6.43676639e-01, 5.13020158e-01, 1.06677222e+00, 7.52227187e-01],\n",
       "       [7.23775148e-01, 5.09376228e-01, 9.76748705e-01, 5.71903646e-01,\n",
       "        1.29199648e+00, 9.02648807e-01, 1.62980890e+00, 5.91732681e-01],\n",
       "       [4.64549720e-01, 0.00000000e+00, 1.33233547e+00, 1.49410331e+00,\n",
       "        8.96152854e-01, 8.15516472e-01, 9.58817482e-01, 8.96815658e-01],\n",
       "       [2.44119570e-01, 4.48314399e-02, 8.44277024e-01, 1.48739129e-01,\n",
       "        3.80030215e-01, 0.00000000e+00, 7.47606814e-01, 9.87803876e-01],\n",
       "       [9.10757959e-01, 1.22879690e-03, 3.64622802e-01, 2.41541475e-01,\n",
       "        1.96010008e-01, 0.00000000e+00, 7.92651594e-01, 8.80133569e-01],\n",
       "       [2.26783101e-02, 1.24240711e-01, 6.83085978e-01, 0.00000000e+00,\n",
       "        6.46789253e-01, 6.83328390e-01, 6.44198835e-01, 5.82093120e-01],\n",
       "       [5.08084655e-01, 2.97547150e-02, 1.22693188e-01, 9.03438509e-01,\n",
       "        4.61453050e-01, 2.42971390e-01, 0.00000000e+00, 7.74817765e-01]])"
      ]
     },
     "execution_count": 188,
     "metadata": {},
     "output_type": "execute_result"
    }
   ],
   "source": [
    "adenseadd = to_dense(data_res, cols_res, nnzs_res, ellwa, a.shape)\n",
    "adenseadd"
   ]
  },
  {
   "cell_type": "code",
   "execution_count": 141,
   "id": "28ef09d9",
   "metadata": {},
   "outputs": [
    {
     "data": {
      "text/plain": [
       "array([[0.        , 0.52328503, 0.85276353, 0.941733  , 0.7301068 ,\n",
       "        0.8106221 , 0.0631992 , 0.51675314],\n",
       "       [0.5375395 , 0.        , 0.68684566, 0.43293473, 0.5705436 ,\n",
       "        0.25251487, 0.61363715, 0.47675598],\n",
       "       [0.        , 0.32384282, 0.5876471 , 0.4220046 , 0.446311  ,\n",
       "        0.01131043, 0.9438752 , 0.48222694],\n",
       "       [0.8779282 , 0.        , 0.3875374 , 0.9887559 , 0.72527486,\n",
       "        0.62135303, 0.4417264 , 0.32487348],\n",
       "       [0.24411957, 0.04483144, 0.844277  , 0.14873913, 0.3800302 ,\n",
       "        0.        , 0.7476068 , 0.9878039 ],\n",
       "       [0.91075796, 0.0012288 , 0.3646228 , 0.24154148, 0.19601001,\n",
       "        0.        , 0.7926516 , 0.88013357],\n",
       "       [0.02267831, 0.12424071, 0.683086  , 0.        , 0.64678925,\n",
       "        0.6833284 , 0.64419883, 0.5820931 ],\n",
       "       [0.50808465, 0.02975472, 0.12269319, 0.9034385 , 0.46145305,\n",
       "        0.24297139, 0.        , 0.77481776]], dtype=float32)"
      ]
     },
     "execution_count": 141,
     "metadata": {},
     "output_type": "execute_result"
    }
   ],
   "source": [
    "a"
   ]
  },
  {
   "cell_type": "code",
   "execution_count": 143,
   "id": "926137fb",
   "metadata": {},
   "outputs": [
    {
     "data": {
      "text/plain": [
       "array([[ 1.0807365 ,  1.20313213,  1.57455516, -2.22959989, -1.41064819,\n",
       "        -0.18065373, -0.49028942, -0.91055222],\n",
       "       [ 0.66621009,  0.69902972,  0.20639654,  0.12547115, -0.07135084,\n",
       "         0.36121905, -0.58889072, -0.68000575],\n",
       "       [ 1.27063674, -0.98910569,  1.62714557, -0.16510102, -0.02893584,\n",
       "         0.5267675 ,  1.05340445, -0.27819108],\n",
       "       [-0.45478888,  0.61715777, -0.57410355, -0.48966723,  1.42577486,\n",
       "         1.20475918,  1.10852877, -1.94279439],\n",
       "       [-1.14225069, -1.02980018, -1.99348521,  0.87215483, -0.37836665,\n",
       "        -0.38715072,  0.1239996 ,  0.39889502],\n",
       "       [-0.28734859,  0.32789885, -1.78896243, -0.57212434,  0.55981111,\n",
       "         0.42809908, -0.00338386, -1.20385249],\n",
       "       [ 0.57072756, -1.88208767,  1.74096982,  0.12021744, -0.66028105,\n",
       "         0.02187457, -0.5204857 ,  0.76994923],\n",
       "       [-1.92552138, -1.62916861,  0.07977981,  0.14730435,  0.65091849,\n",
       "         1.11089586,  1.04600782, -0.33432753]])"
      ]
     },
     "execution_count": 143,
     "metadata": {},
     "output_type": "execute_result"
    }
   ],
   "source": [
    "matadd"
   ]
  },
  {
   "cell_type": "code",
   "execution_count": 144,
   "id": "0099f53d",
   "metadata": {},
   "outputs": [
    {
     "data": {
      "text/plain": [
       "array([[ 1.08073650e+00,  1.72641716e+00,  2.42731869e+00,\n",
       "        -1.28786689e+00, -6.80541420e-01,  6.29968368e-01,\n",
       "        -4.27090225e-01, -3.93799079e-01],\n",
       "       [ 1.20374958e+00,  6.99029719e-01,  8.93242197e-01,\n",
       "         5.58405877e-01,  4.99192750e-01,  6.13733917e-01,\n",
       "         2.47464332e-02, -2.03249774e-01],\n",
       "       [ 1.27063674e+00, -6.65262868e-01,  2.21479265e+00,\n",
       "         2.56903588e-01,  4.17375154e-01,  5.38077934e-01,\n",
       "         1.99727965e+00,  2.04035860e-01],\n",
       "       [ 4.23139314e-01,  6.17157771e-01, -1.86566158e-01,\n",
       "         4.99088655e-01,  2.15104972e+00,  1.82611221e+00,\n",
       "         1.55025516e+00, -1.61792091e+00],\n",
       "       [-8.98131118e-01, -9.84968741e-01, -1.14920819e+00,\n",
       "         1.02089396e+00,  1.66356791e-03, -3.87150721e-01,\n",
       "         8.71606410e-01,  1.38669890e+00],\n",
       "       [ 6.23409373e-01,  3.29127643e-01, -1.42433963e+00,\n",
       "        -3.30582868e-01,  7.55821118e-01,  4.28099077e-01,\n",
       "         7.89267733e-01, -3.23718925e-01],\n",
       "       [ 5.93405869e-01, -1.75784696e+00,  2.42405579e+00,\n",
       "         1.20217444e-01, -1.34917983e-02,  7.05202956e-01,\n",
       "         1.23713135e-01,  1.35204235e+00],\n",
       "       [-1.41743672e+00, -1.59941389e+00,  2.02472996e-01,\n",
       "         1.05074286e+00,  1.11237154e+00,  1.35386725e+00,\n",
       "         1.04600782e+00,  4.40490235e-01]])"
      ]
     },
     "execution_count": 144,
     "metadata": {},
     "output_type": "execute_result"
    }
   ],
   "source": [
    "a_added"
   ]
  },
  {
   "cell_type": "code",
   "execution_count": 189,
   "id": "c586c3d1",
   "metadata": {},
   "outputs": [
    {
     "data": {
      "text/plain": [
       "array([[0.00000000e+00, 1.41777062e+00, 1.64632678e+00, 1.81955838e+00,\n",
       "        9.03781116e-01, 1.76559818e+00, 2.26775140e-01, 1.51629114e+00],\n",
       "       [1.78510219e-01, 0.00000000e+00, 9.74417329e-01, 1.21717167e+00,\n",
       "        6.43676639e-01, 5.13020158e-01, 1.06677222e+00, 7.52227187e-01],\n",
       "       [7.23775148e-01, 5.09376228e-01, 9.76748705e-01, 5.71903646e-01,\n",
       "        1.29199648e+00, 9.02648807e-01, 1.62980890e+00, 5.91732681e-01],\n",
       "       [4.64549720e-01, 0.00000000e+00, 1.33233547e+00, 1.49410331e+00,\n",
       "        8.96152854e-01, 8.15516472e-01, 9.58817482e-01, 8.96815658e-01],\n",
       "       [2.44119570e-01, 4.48314399e-02, 8.44277024e-01, 1.48739129e-01,\n",
       "        3.80030215e-01, 0.00000000e+00, 7.47606814e-01, 9.87803876e-01],\n",
       "       [9.10757959e-01, 1.22879690e-03, 3.64622802e-01, 2.41541475e-01,\n",
       "        1.96010008e-01, 0.00000000e+00, 7.92651594e-01, 8.80133569e-01],\n",
       "       [2.26783101e-02, 1.24240711e-01, 6.83085978e-01, 0.00000000e+00,\n",
       "        6.46789253e-01, 6.83328390e-01, 6.44198835e-01, 5.82093120e-01],\n",
       "       [5.08084655e-01, 2.97547150e-02, 1.22693188e-01, 9.03438509e-01,\n",
       "        4.61453050e-01, 2.42971390e-01, 0.00000000e+00, 7.74817765e-01]])"
      ]
     },
     "execution_count": 189,
     "metadata": {},
     "output_type": "execute_result"
    }
   ],
   "source": [
    "adenseadd"
   ]
  },
  {
   "cell_type": "code",
   "execution_count": 145,
   "id": "2aa06b1d",
   "metadata": {},
   "outputs": [
    {
     "data": {
      "text/plain": [
       "array([[False, False, False, False, False, False, False, False],\n",
       "       [False, False, False, False, False, False, False, False],\n",
       "       [False, False, False, False, False, False, False, False],\n",
       "       [False, False, False, False, False, False, False, False],\n",
       "       [False, False, False, False, False, False, False, False],\n",
       "       [False, False, False, False, False, False, False, False],\n",
       "       [False, False, False, False, False, False, False, False],\n",
       "       [False, False, False, False, False, False, False, False]])"
      ]
     },
     "execution_count": 145,
     "metadata": {},
     "output_type": "execute_result"
    }
   ],
   "source": [
    "a_added == res_np"
   ]
  },
  {
   "cell_type": "markdown",
   "id": "6644b755",
   "metadata": {},
   "source": [
    "### update vals"
   ]
  },
  {
   "cell_type": "code",
   "execution_count": 51,
   "id": "73b60325",
   "metadata": {},
   "outputs": [],
   "source": [
    "adata_buf = cl.Buffer(ctx, mf.READ_WRITE | mf.COPY_HOST_PTR, hostbuf=adata)\n",
    "acols_buf = cl.Buffer(ctx, mf.READ_WRITE | mf.COPY_HOST_PTR, hostbuf=acols)\n",
    "annzs_buf = cl.Buffer(ctx, mf.READ_WRITE | mf.COPY_HOST_PTR, hostbuf=annz)"
   ]
  },
  {
   "cell_type": "code",
   "execution_count": 52,
   "id": "7cb03af3",
   "metadata": {},
   "outputs": [],
   "source": [
    "prg = cl.Program(ctx, \"\"\"\n",
    "// Every global_id_0 works on a row\n",
    "    __kernel void addvals(__global  float* matData,     // INPUT MATRIX DATA\n",
    "                         __global  uint*  colIdx,\n",
    "                         __global  uint*  rowNnz,\n",
    "                         float lr,\n",
    "                         uint   ellwidth,\n",
    "                         __global  float* updatevals,    // INPUT\n",
    "                         __global  uint* updatexidx,\n",
    "                         __global  uint* updateyidx\n",
    "                         ) { // LOCAL SHARED BUFFER\n",
    "      uint gid = get_global_id(0);\n",
    "      uint gid2 = get_global_id(1);\n",
    "      uint topk = get_global_size(0);\n",
    "      uint bs = get_global_size(1);\n",
    "      uint baseupdateidx = topk*topk*gid2;\n",
    "      uint baseidxidx = topk*gid2;\n",
    "      uint col = updateyidx[baseidxidx+gid];\n",
    "\n",
    "      for (uint i=0; i<topk; i++) {\n",
    "        float val = updatevals[baseupdateidx+gid*topk+i];\n",
    "        uint row = updatexidx[baseidxidx+i];\n",
    "        for (uint i=0; i<rowNnz[row]; i++) {\n",
    "          uint idx = row*ellwidth+i;\n",
    "          if (colIdx[idx] >= col) {\n",
    "            //printf(\"\\\\nFOUND:%i/%i  - idx:%i\", colIdx[idx], col, idx);\n",
    "            if (colIdx[idx] == col) {\n",
    "              matData[idx] += -val*lr;\n",
    "              printf(\"\\\\nUPDATE[%i,%i]: %f\", row,col, val);\n",
    "              break;\n",
    "            } else {\n",
    "              // insert new column\n",
    "              printf(\"\\\\nINSERT[%i,%i]: %.2f\", row,col, val);\n",
    "              for (uint j=rowNnz[row]+1; j>i; j--) {\n",
    "                uint idx2 = row*ellwidth+j;\n",
    "                matData[idx2] = matData[idx2-1];\n",
    "                colIdx[idx2] = colIdx[idx2-1];\n",
    "              }\n",
    "              matData[idx] = -val*lr;\n",
    "              colIdx[idx] = col;\n",
    "              rowNnz[row] += 1;\n",
    "              break;\n",
    "            }\n",
    "          }\n",
    "        }\n",
    "        if (rowNnz[row] >= ellwidth) {\n",
    "          break;\n",
    "        }\n",
    "      }\n",
    "    }\"\"\").build()"
   ]
  },
  {
   "cell_type": "code",
   "execution_count": 53,
   "id": "0aab86e1",
   "metadata": {},
   "outputs": [
    {
     "data": {
      "text/plain": [
       "<pyopencl._cl.NannyEvent at 0x7faa8829c400>"
      ]
     },
     "execution_count": 53,
     "metadata": {},
     "output_type": "execute_result"
    },
    {
     "name": "stdout",
     "output_type": "stream",
     "text": [
      "\n",
      "UPDATE[2,4]: 0.701672\n",
      "UPDATE[2,4]: 0.780583\n",
      "UPDATE[3,5]: 0.789906\n",
      "INSERT[2,0]: 0.79\n",
      "UPDATE[3,6]: 0.872188\n",
      "UPDATE[2,7]: 0.733856\n",
      "UPDATE[2,7]: 0.813496\n",
      "UPDATE[2,2]: 0.729071\n",
      "UPDATE[6,5]: 0.638263\n",
      "UPDATE[5,4]: 0.598959\n",
      "UPDATE[1,4]: 0.773529\n",
      "UPDATE[1,0]: 0.753130\n",
      "UPDATE[6,6]: 0.704749\n",
      "UPDATE[5,7]: 0.626432\n",
      "UPDATE[1,7]: 0.806144\n",
      "UPDATE[1,2]: 0.698372"
     ]
    }
   ],
   "source": [
    "knl = prg.addvals  # Use this Kernel object for repeated calls\n",
    "knl(queue, [topk,bs], None, adata_buf, acols_buf, annzs_buf, np.float32(1), np.uint32(ellwa), x_cp_buf, x_idx_buf, y_idx_buf)\n",
    "\n",
    "resa = np.empty_like(adata)\n",
    "resaidx = np.zeros(acols.shape).astype(np.uint32)\n",
    "resannz = np.zeros(annz.shape).astype(np.uint32)\n",
    "\n",
    "cl.enqueue_copy(queue, resa, adata_buf)\n",
    "cl.enqueue_copy(queue, resaidx, acols_buf)\n",
    "cl.enqueue_copy(queue, resannz, annzs_buf)"
   ]
  },
  {
   "cell_type": "code",
   "execution_count": 54,
   "id": "d2ff91ba",
   "metadata": {},
   "outputs": [
    {
     "data": {
      "text/plain": [
       "((72,), (72,), (8,), 9, (8, 8))"
      ]
     },
     "execution_count": 54,
     "metadata": {},
     "output_type": "execute_result"
    }
   ],
   "source": [
    "resa.shape, resaidx.shape, resannz.shape, ellwa, a.T.shape"
   ]
  },
  {
   "cell_type": "code",
   "execution_count": 55,
   "id": "190b8546",
   "metadata": {},
   "outputs": [
    {
     "data": {
      "text/plain": [
       "array([[ 0.        ,  0.52328503,  0.85276353,  0.941733  ,  0.73010677,\n",
       "         0.8106221 ,  0.0631992 ,  0.51675314],\n",
       "       [-0.21559042,  0.        , -0.0115267 ,  0.43293473, -0.20298517,\n",
       "         0.25251487,  0.61363715, -0.32938802],\n",
       "       [-0.78623533,  0.32384282, -0.1414237 ,  0.42200461, -0.33427221,\n",
       "         0.01131043,  0.94387519, -1.06512523],\n",
       "       [ 0.8779282 ,  0.        ,  0.38753739,  0.98875588,  0.72527486,\n",
       "        -0.1685527 , -0.43046188,  0.32487348],\n",
       "       [ 0.24411957,  0.04483144,  0.84427702,  0.14873913,  0.38003021,\n",
       "         0.        ,  0.74760681,  0.98780388],\n",
       "       [ 0.91075796,  0.0012288 ,  0.3646228 ,  0.24154148, -0.40294945,\n",
       "         0.        ,  0.79265159,  0.25370145],\n",
       "       [ 0.02267831,  0.12424071,  0.68308598,  0.        ,  0.64678925,\n",
       "         0.04506582, -0.06055003,  0.58209312],\n",
       "       [ 0.50808465,  0.02975472,  0.12269319,  0.90343851,  0.46145305,\n",
       "         0.24297139,  0.        ,  0.77481776]])"
      ]
     },
     "execution_count": 55,
     "metadata": {},
     "output_type": "execute_result"
    }
   ],
   "source": [
    "adenseadd = to_dense(resa, resaidx, resannz, ellwa, a.T.shape)\n",
    "adenseadd"
   ]
  },
  {
   "cell_type": "code",
   "execution_count": 56,
   "id": "3211c6e6",
   "metadata": {},
   "outputs": [
    {
     "data": {
      "text/plain": [
       "array([[ 0.        ,  0.        ,  0.        ,  0.        ,  0.        ,\n",
       "         0.        ,  0.        ,  0.        ],\n",
       "       [-0.7531299 ,  0.        , -0.69837236,  0.        , -0.77352875,\n",
       "         0.        ,  0.        , -0.806144  ],\n",
       "       [-0.78623533,  0.        , -0.72907078,  0.        , -0.7805832 ,\n",
       "         0.        ,  0.        , -1.54735216],\n",
       "       [ 0.        ,  0.        ,  0.        ,  0.        ,  0.        ,\n",
       "        -0.78990573, -0.87218827,  0.        ],\n",
       "       [ 0.        ,  0.        ,  0.        ,  0.        ,  0.        ,\n",
       "         0.        ,  0.        ,  0.        ],\n",
       "       [ 0.        ,  0.        ,  0.        ,  0.        , -0.59895946,\n",
       "         0.        ,  0.        , -0.62643212],\n",
       "       [ 0.        ,  0.        ,  0.        ,  0.        ,  0.        ,\n",
       "        -0.63826257, -0.70474887,  0.        ],\n",
       "       [ 0.        ,  0.        ,  0.        ,  0.        ,  0.        ,\n",
       "         0.        ,  0.        ,  0.        ]])"
      ]
     },
     "execution_count": 56,
     "metadata": {},
     "output_type": "execute_result"
    }
   ],
   "source": [
    "adenseadd - adense"
   ]
  },
  {
   "cell_type": "code",
   "execution_count": 57,
   "id": "f63c469b",
   "metadata": {},
   "outputs": [
    {
     "data": {
      "text/plain": [
       "array([[ True,  True,  True,  True,  True,  True,  True,  True],\n",
       "       [False,  True, False,  True, False,  True,  True, False],\n",
       "       [False,  True, False,  True, False,  True,  True, False],\n",
       "       [ True,  True,  True,  True,  True, False, False,  True],\n",
       "       [ True,  True,  True,  True,  True,  True,  True,  True],\n",
       "       [ True,  True,  True,  True, False,  True,  True, False],\n",
       "       [ True,  True,  True,  True,  True, False, False,  True],\n",
       "       [ True,  True,  True,  True,  True,  True,  True,  True]])"
      ]
     },
     "execution_count": 57,
     "metadata": {},
     "output_type": "execute_result"
    }
   ],
   "source": [
    "adenseadd == adense"
   ]
  },
  {
   "cell_type": "code",
   "execution_count": 58,
   "id": "922fdfb7",
   "metadata": {},
   "outputs": [
    {
     "data": {
      "text/plain": [
       "9"
      ]
     },
     "execution_count": 58,
     "metadata": {},
     "output_type": "execute_result"
    }
   ],
   "source": [
    "ellwa"
   ]
  },
  {
   "cell_type": "code",
   "execution_count": 59,
   "id": "9da55fa5",
   "metadata": {},
   "outputs": [
    {
     "data": {
      "text/plain": [
       "array([[0.52328503, 0.85276353, 0.941733  , 0.7301068 , 0.8106221 ,\n",
       "        0.0631992 , 0.51675314, 0.        , 0.        ],\n",
       "       [0.5375395 , 0.68684566, 0.43293473, 0.5705436 , 0.25251487,\n",
       "        0.61363715, 0.47675598, 0.        , 0.        ],\n",
       "       [0.32384282, 0.5876471 , 0.4220046 , 0.446311  , 0.01131043,\n",
       "        0.9438752 , 0.48222694, 0.        , 0.        ],\n",
       "       [0.8779282 , 0.3875374 , 0.9887559 , 0.72527486, 0.62135303,\n",
       "        0.4417264 , 0.32487348, 0.        , 0.        ],\n",
       "       [0.24411957, 0.04483144, 0.844277  , 0.14873913, 0.3800302 ,\n",
       "        0.7476068 , 0.9878039 , 0.        , 0.        ],\n",
       "       [0.91075796, 0.0012288 , 0.3646228 , 0.24154148, 0.19601001,\n",
       "        0.7926516 , 0.88013357, 0.        , 0.        ],\n",
       "       [0.02267831, 0.12424071, 0.683086  , 0.64678925, 0.6833284 ,\n",
       "        0.64419883, 0.5820931 , 0.        , 0.        ],\n",
       "       [0.50808465, 0.02975472, 0.12269319, 0.9034385 , 0.46145305,\n",
       "        0.24297139, 0.77481776, 0.        , 0.        ]], dtype=float32)"
      ]
     },
     "execution_count": 59,
     "metadata": {},
     "output_type": "execute_result"
    }
   ],
   "source": [
    "adata2 = adata.reshape(-1, ellwa)\n",
    "adata2"
   ]
  },
  {
   "cell_type": "code",
   "execution_count": 60,
   "id": "466c61fb",
   "metadata": {},
   "outputs": [
    {
     "data": {
      "text/plain": [
       "array([[ 0.52328503,  0.85276353,  0.941733  ,  0.7301068 ,  0.8106221 ,\n",
       "         0.0631992 ,  0.51675314,  0.        ,  0.        ],\n",
       "       [-0.21559042, -0.0115267 ,  0.43293473, -0.20298517,  0.25251487,\n",
       "         0.61363715, -0.32938802,  0.        ,  0.        ],\n",
       "       [-0.78623533,  0.32384282, -0.1414237 ,  0.4220046 , -0.3342722 ,\n",
       "         0.01131043,  0.9438752 , -1.0651252 ,  0.        ],\n",
       "       [ 0.8779282 ,  0.3875374 ,  0.9887559 ,  0.72527486, -0.1685527 ,\n",
       "        -0.43046188,  0.32487348,  0.        ,  0.        ],\n",
       "       [ 0.24411957,  0.04483144,  0.844277  ,  0.14873913,  0.3800302 ,\n",
       "         0.7476068 ,  0.9878039 ,  0.        ,  0.        ],\n",
       "       [ 0.91075796,  0.0012288 ,  0.3646228 ,  0.24154148, -0.40294945,\n",
       "         0.7926516 ,  0.25370145,  0.        ,  0.        ],\n",
       "       [ 0.02267831,  0.12424071,  0.683086  ,  0.64678925,  0.04506582,\n",
       "        -0.06055003,  0.5820931 ,  0.        ,  0.        ],\n",
       "       [ 0.50808465,  0.02975472,  0.12269319,  0.9034385 ,  0.46145305,\n",
       "         0.24297139,  0.77481776,  0.        ,  0.        ]],\n",
       "      dtype=float32)"
      ]
     },
     "execution_count": 60,
     "metadata": {},
     "output_type": "execute_result"
    }
   ],
   "source": [
    "resa = resa.reshape(-1, ellwa)\n",
    "resa"
   ]
  },
  {
   "cell_type": "code",
   "execution_count": 61,
   "id": "30f36719",
   "metadata": {},
   "outputs": [
    {
     "data": {
      "text/plain": [
       "array([[ 0.        ,  0.        ,  0.        ,  0.        ,  0.        ,\n",
       "         0.        ,  0.        ,  0.        ,  0.        ],\n",
       "       [-0.7531299 , -0.69837236,  0.        , -0.77352875,  0.        ,\n",
       "         0.        , -0.806144  ,  0.        ,  0.        ],\n",
       "       [-1.1100781 , -0.26380426, -0.5634283 , -0.02430639, -0.34558263,\n",
       "        -0.93256474,  0.46164826, -1.0651252 ,  0.        ],\n",
       "       [ 0.        ,  0.        ,  0.        ,  0.        , -0.7899057 ,\n",
       "        -0.87218827,  0.        ,  0.        ,  0.        ],\n",
       "       [ 0.        ,  0.        ,  0.        ,  0.        ,  0.        ,\n",
       "         0.        ,  0.        ,  0.        ,  0.        ],\n",
       "       [ 0.        ,  0.        ,  0.        ,  0.        , -0.59895945,\n",
       "         0.        , -0.6264321 ,  0.        ,  0.        ],\n",
       "       [ 0.        ,  0.        ,  0.        ,  0.        , -0.63826257,\n",
       "        -0.70474887,  0.        ,  0.        ,  0.        ],\n",
       "       [ 0.        ,  0.        ,  0.        ,  0.        ,  0.        ,\n",
       "         0.        ,  0.        ,  0.        ,  0.        ]],\n",
       "      dtype=float32)"
      ]
     },
     "execution_count": 61,
     "metadata": {},
     "output_type": "execute_result"
    }
   ],
   "source": [
    "resa - adata2"
   ]
  },
  {
   "cell_type": "code",
   "execution_count": 62,
   "id": "9dd6baf4",
   "metadata": {},
   "outputs": [
    {
     "data": {
      "text/plain": [
       "array([1, 2, 3, 4, 5, 6, 7, 0, 0, 0, 2, 3, 4, 5, 6, 7, 0, 0, 1, 2, 3, 4,\n",
       "       5, 6, 7, 0, 0, 0, 2, 3, 4, 5, 6, 7, 0, 0, 0, 1, 2, 3, 4, 6, 7, 0,\n",
       "       0, 0, 1, 2, 3, 4, 6, 7, 0, 0, 0, 1, 2, 4, 5, 6, 7, 0, 0, 0, 1, 2,\n",
       "       3, 4, 5, 7, 0, 0], dtype=uint32)"
      ]
     },
     "execution_count": 62,
     "metadata": {},
     "output_type": "execute_result"
    }
   ],
   "source": [
    "acols"
   ]
  },
  {
   "cell_type": "code",
   "execution_count": 63,
   "id": "5c526051",
   "metadata": {},
   "outputs": [
    {
     "data": {
      "text/plain": [
       "array([1, 2, 3, 4, 5, 6, 7, 0, 0, 0, 2, 3, 4, 5, 6, 7, 0, 0, 0, 1, 2, 3,\n",
       "       4, 5, 6, 7, 0, 0, 2, 3, 4, 5, 6, 7, 0, 0, 0, 1, 2, 3, 4, 6, 7, 0,\n",
       "       0, 0, 1, 2, 3, 4, 6, 7, 0, 0, 0, 1, 2, 4, 5, 6, 7, 0, 0, 0, 1, 2,\n",
       "       3, 4, 5, 7, 0, 0], dtype=uint32)"
      ]
     },
     "execution_count": 63,
     "metadata": {},
     "output_type": "execute_result"
    }
   ],
   "source": [
    "resaidx"
   ]
  },
  {
   "cell_type": "code",
   "execution_count": 64,
   "id": "f635a14d",
   "metadata": {},
   "outputs": [
    {
     "data": {
      "text/plain": [
       "array([7, 7, 8, 7, 7, 7, 7, 7], dtype=uint32)"
      ]
     },
     "execution_count": 64,
     "metadata": {},
     "output_type": "execute_result"
    }
   ],
   "source": [
    "resannz"
   ]
  },
  {
   "cell_type": "code",
   "execution_count": 65,
   "id": "d99713b6",
   "metadata": {},
   "outputs": [
    {
     "data": {
      "text/plain": [
       "array([7, 7, 7, 7, 7, 7, 7, 7], dtype=uint32)"
      ]
     },
     "execution_count": 65,
     "metadata": {},
     "output_type": "execute_result"
    }
   ],
   "source": [
    "annz"
   ]
  },
  {
   "cell_type": "markdown",
   "id": "7c703466",
   "metadata": {},
   "source": [
    "### update vals2"
   ]
  },
  {
   "cell_type": "code",
   "execution_count": 66,
   "id": "ed7e786b",
   "metadata": {},
   "outputs": [],
   "source": [
    "adatat_buf = cl.Buffer(ctx, mf.READ_WRITE | mf.COPY_HOST_PTR, hostbuf=adatat)\n",
    "acolst_buf = cl.Buffer(ctx, mf.READ_WRITE | mf.COPY_HOST_PTR, hostbuf=acolst)\n",
    "annzst_buf = cl.Buffer(ctx, mf.READ_WRITE | mf.COPY_HOST_PTR, hostbuf=annzt)"
   ]
  },
  {
   "cell_type": "code",
   "execution_count": 67,
   "id": "33840479",
   "metadata": {},
   "outputs": [],
   "source": [
    "prg = cl.Program(ctx, \"\"\"\n",
    "// Every global_id_0 works on a row\n",
    "    __kernel void addvals(__global  float* matData,     // INPUT MATRIX DATA\n",
    "                         __global  uint*  colIdx,\n",
    "                         __global  uint*  rowNnz,\n",
    "                         float lr,\n",
    "                         uint   ellwidth,\n",
    "                         __global  float* updatevals,    // INPUT\n",
    "                         __global  uint* updatexidx,\n",
    "                         __global  uint* updateyidx\n",
    "                         ) { // LOCAL SHARED BUFFER\n",
    "      uint gid = get_global_id(0);\n",
    "      uint gid2 = get_global_id(1);\n",
    "      uint topk = get_global_size(0);\n",
    "      uint bs = get_global_size(1);\n",
    "      uint baseupdateidx = topk*topk*gid2;\n",
    "      uint baseidxidx = topk*gid2;\n",
    "      uint row = updateyidx[baseidxidx+gid];\n",
    "\n",
    "      for (uint i=0; i<topk; i++) {\n",
    "        float val = updatevals[baseupdateidx+gid*topk+i];\n",
    "        uint col = updatexidx[baseidxidx+i];\n",
    "        for (uint i=0; i<rowNnz[row]; i++) {\n",
    "          uint idx = row*ellwidth+i;\n",
    "          if (colIdx[idx] >= col) {\n",
    "            //printf(\"\\\\nFOUND:%i/%i  - idx:%i\", colIdx[idx], col, idx);\n",
    "            if (colIdx[idx] == col) {\n",
    "              matData[idx] += -val*lr;\n",
    "              printf(\"\\\\nUPDATE[%i,%i]: %f\", row,col, val);\n",
    "              break;\n",
    "            } else {\n",
    "              // insert new column\n",
    "              printf(\"\\\\nINSERT[%i,%i]: %.2f\", row,col, val);\n",
    "              for (uint j=rowNnz[row]+1; j>i; j--) {\n",
    "                uint idx2 = row*ellwidth+j;\n",
    "                matData[idx2] = matData[idx2-1];\n",
    "                colIdx[idx2] = colIdx[idx2-1];\n",
    "              }\n",
    "              matData[idx] = -val*lr;\n",
    "              colIdx[idx] = col;\n",
    "              rowNnz[row] += 1;\n",
    "              break;\n",
    "            }\n",
    "          }\n",
    "        }\n",
    "        if (rowNnz[row] >= ellwidth) {\n",
    "          break;\n",
    "        }\n",
    "      }\n",
    "    }\"\"\").build()"
   ]
  },
  {
   "cell_type": "code",
   "execution_count": 68,
   "id": "0053ed70",
   "metadata": {},
   "outputs": [
    {
     "name": "stdout",
     "output_type": "stream",
     "text": [
      "\n",
      "UPDATE[7,2]: 0.733856\n",
      "UPDATE[4,2]: 0.701672\n",
      "UPDATE[7,2]: 0.813496\n",
      "UPDATE[4,2]: 0.780583\n",
      "UPDATE[6,3]: 0.872188\n",
      "UPDATE[5,3]: 0.789906\n",
      "INSERT[0,2]: 0.79\n",
      "UPDATE[5,6]: 0.638263\n",
      "UPDATE[7,1]: 0.806144\n",
      "UPDATE[4,1]: 0.773529\n",
      "UPDATE[7,5]: 0.626432\n",
      "UPDATE[4,5]: 0.598959\n",
      "UPDATE[2,2]: 0.729071\n",
      "UPDATE[6,6]: 0.704749\n",
      "UPDATE[0,1]: 0.753130\n",
      "UPDATE[2,1]: 0.698372"
     ]
    },
    {
     "data": {
      "text/plain": [
       "<pyopencl._cl.NannyEvent at 0x7faa882407c0>"
      ]
     },
     "execution_count": 68,
     "metadata": {},
     "output_type": "execute_result"
    }
   ],
   "source": [
    "knl = prg.addvals  # Use this Kernel object for repeated calls\n",
    "knl(queue, [topk,bs], None, adatat_buf, acolst_buf, annzst_buf, np.float32(1), np.uint32(ellwat), x_cp_buf, x_idx_buf, y_idx_buf)\n",
    "\n",
    "resat = np.empty_like(adatat)\n",
    "resaidxt = np.zeros(acolst.shape).astype(np.uint32)\n",
    "resannzt = np.zeros(annzt.shape).astype(np.uint32)\n",
    "\n",
    "cl.enqueue_copy(queue, resat, adatat_buf)\n",
    "cl.enqueue_copy(queue, resaidxt, acolst_buf)\n",
    "cl.enqueue_copy(queue, resannzt, annzst_buf)"
   ]
  },
  {
   "cell_type": "code",
   "execution_count": 69,
   "id": "8f781e72",
   "metadata": {},
   "outputs": [
    {
     "data": {
      "text/plain": [
       "9"
      ]
     },
     "execution_count": 69,
     "metadata": {},
     "output_type": "execute_result"
    }
   ],
   "source": [
    "ellwa"
   ]
  },
  {
   "cell_type": "code",
   "execution_count": 70,
   "id": "1864d3ac",
   "metadata": {},
   "outputs": [
    {
     "data": {
      "text/plain": [
       "((72,), (72,), (8,))"
      ]
     },
     "execution_count": 70,
     "metadata": {},
     "output_type": "execute_result"
    }
   ],
   "source": [
    "resat.shape, resaidxt.shape, resannzt.shape"
   ]
  },
  {
   "cell_type": "code",
   "execution_count": 71,
   "id": "6205962b",
   "metadata": {},
   "outputs": [
    {
     "data": {
      "text/plain": [
       "array([[ 0.        , -0.21559042, -0.78623533,  0.8779282 ,  0.24411957,\n",
       "         0.91075796,  0.02267831,  0.50808465],\n",
       "       [ 0.52328503,  0.        ,  0.32384282,  0.        ,  0.04483144,\n",
       "         0.0012288 ,  0.12424071,  0.02975472],\n",
       "       [ 0.85276353, -0.0115267 , -0.1414237 ,  0.38753739,  0.84427702,\n",
       "         0.3646228 ,  0.68308598,  0.12269319],\n",
       "       [ 0.941733  ,  0.43293473,  0.42200461,  0.98875588,  0.14873913,\n",
       "         0.24154148,  0.        ,  0.90343851],\n",
       "       [ 0.73010677, -0.20298517, -0.33427221,  0.72527486,  0.38003021,\n",
       "        -0.40294945,  0.64678925,  0.46145305],\n",
       "       [ 0.8106221 ,  0.25251487,  0.01131043, -0.1685527 ,  0.        ,\n",
       "         0.        ,  0.04506582,  0.24297139],\n",
       "       [ 0.0631992 ,  0.61363715,  0.94387519, -0.43046188,  0.74760681,\n",
       "         0.79265159, -0.06055003,  0.        ],\n",
       "       [ 0.51675314, -0.32938802, -0.33126894,  0.32487348,  0.98780388,\n",
       "         0.25370145,  0.58209312,  0.77481776]])"
      ]
     },
     "execution_count": 71,
     "metadata": {},
     "output_type": "execute_result"
    }
   ],
   "source": [
    "adenseaddt = to_dense(resat, resaidxt, resannzt, ellwat, a.T.shape)\n",
    "adenseaddt"
   ]
  },
  {
   "cell_type": "code",
   "execution_count": 72,
   "id": "c601a02c",
   "metadata": {},
   "outputs": [
    {
     "data": {
      "text/plain": [
       "array([[ True,  True,  True,  True,  True,  True,  True,  True],\n",
       "       [ True,  True,  True,  True,  True,  True,  True,  True],\n",
       "       [ True,  True,  True,  True,  True,  True,  True, False],\n",
       "       [ True,  True,  True,  True,  True,  True,  True,  True],\n",
       "       [ True,  True,  True,  True,  True,  True,  True,  True],\n",
       "       [ True,  True,  True,  True,  True,  True,  True,  True],\n",
       "       [ True,  True,  True,  True,  True,  True,  True,  True],\n",
       "       [ True,  True,  True,  True,  True,  True,  True,  True]])"
      ]
     },
     "execution_count": 72,
     "metadata": {},
     "output_type": "execute_result"
    }
   ],
   "source": [
    "adenseadd == adenseaddt.T"
   ]
  },
  {
   "cell_type": "code",
   "execution_count": 73,
   "id": "64a4fdb0",
   "metadata": {},
   "outputs": [
    {
     "data": {
      "text/plain": [
       "array([[0.5375395 , 0.8779282 , 0.24411957, 0.91075796, 0.02267831,\n",
       "        0.50808465, 0.        , 0.        , 0.        ],\n",
       "       [0.52328503, 0.32384282, 0.04483144, 0.0012288 , 0.12424071,\n",
       "        0.02975472, 0.        , 0.        , 0.        ],\n",
       "       [0.85276353, 0.68684566, 0.5876471 , 0.3875374 , 0.844277  ,\n",
       "        0.3646228 , 0.683086  , 0.12269319, 0.        ],\n",
       "       [0.941733  , 0.43293473, 0.4220046 , 0.9887559 , 0.14873913,\n",
       "        0.24154148, 0.9034385 , 0.        , 0.        ],\n",
       "       [0.7301068 , 0.5705436 , 0.446311  , 0.72527486, 0.3800302 ,\n",
       "        0.19601001, 0.64678925, 0.46145305, 0.        ],\n",
       "       [0.8106221 , 0.25251487, 0.01131043, 0.62135303, 0.6833284 ,\n",
       "        0.24297139, 0.        , 0.        , 0.        ],\n",
       "       [0.0631992 , 0.61363715, 0.9438752 , 0.4417264 , 0.7476068 ,\n",
       "        0.7926516 , 0.64419883, 0.        , 0.        ],\n",
       "       [0.51675314, 0.47675598, 0.48222694, 0.32487348, 0.9878039 ,\n",
       "        0.88013357, 0.5820931 , 0.77481776, 0.        ]], dtype=float32)"
      ]
     },
     "execution_count": 73,
     "metadata": {},
     "output_type": "execute_result"
    }
   ],
   "source": [
    "adata2t = adatat.reshape(-1, ellwat)\n",
    "adata2t"
   ]
  },
  {
   "cell_type": "code",
   "execution_count": 74,
   "id": "3b8f6062",
   "metadata": {},
   "outputs": [
    {
     "data": {
      "text/plain": [
       "array([[-0.21559042, -0.78623533,  0.8779282 ,  0.24411957,  0.91075796,\n",
       "         0.02267831,  0.50808465,  0.        ,  0.        ],\n",
       "       [ 0.52328503,  0.32384282,  0.04483144,  0.0012288 ,  0.12424071,\n",
       "         0.02975472,  0.        ,  0.        ,  0.        ],\n",
       "       [ 0.85276353, -0.0115267 , -0.1414237 ,  0.3875374 ,  0.844277  ,\n",
       "         0.3646228 ,  0.683086  ,  0.12269319,  0.        ],\n",
       "       [ 0.941733  ,  0.43293473,  0.4220046 ,  0.9887559 ,  0.14873913,\n",
       "         0.24154148,  0.9034385 ,  0.        ,  0.        ],\n",
       "       [ 0.7301068 , -0.20298517, -0.3342722 ,  0.72527486,  0.3800302 ,\n",
       "        -0.40294945,  0.64678925,  0.46145305,  0.        ],\n",
       "       [ 0.8106221 ,  0.25251487,  0.01131043, -0.1685527 ,  0.04506582,\n",
       "         0.24297139,  0.        ,  0.        ,  0.        ],\n",
       "       [ 0.0631992 ,  0.61363715,  0.9438752 , -0.43046188,  0.7476068 ,\n",
       "         0.7926516 , -0.06055003,  0.        ,  0.        ],\n",
       "       [ 0.51675314, -0.32938802, -0.33126894,  0.32487348,  0.9878039 ,\n",
       "         0.25370145,  0.5820931 ,  0.77481776,  0.        ]],\n",
       "      dtype=float32)"
      ]
     },
     "execution_count": 74,
     "metadata": {},
     "output_type": "execute_result"
    }
   ],
   "source": [
    "resat = resat.reshape(-1, ellwat)\n",
    "resat"
   ]
  },
  {
   "cell_type": "code",
   "execution_count": 75,
   "id": "eb51f891",
   "metadata": {},
   "outputs": [
    {
     "data": {
      "text/plain": [
       "array([[-0.7531299 , -1.6641636 ,  0.6338086 , -0.6666384 ,  0.88807964,\n",
       "        -0.48540634,  0.50808465,  0.        ,  0.        ],\n",
       "       [ 0.        ,  0.        ,  0.        ,  0.        ,  0.        ,\n",
       "         0.        ,  0.        ,  0.        ,  0.        ],\n",
       "       [ 0.        , -0.69837236, -0.7290708 ,  0.        ,  0.        ,\n",
       "         0.        ,  0.        ,  0.        ,  0.        ],\n",
       "       [ 0.        ,  0.        ,  0.        ,  0.        ,  0.        ,\n",
       "         0.        ,  0.        ,  0.        ,  0.        ],\n",
       "       [ 0.        , -0.77352875, -0.7805832 ,  0.        ,  0.        ,\n",
       "        -0.59895945,  0.        ,  0.        ,  0.        ],\n",
       "       [ 0.        ,  0.        ,  0.        , -0.7899057 , -0.63826257,\n",
       "         0.        ,  0.        ,  0.        ,  0.        ],\n",
       "       [ 0.        ,  0.        ,  0.        , -0.87218827,  0.        ,\n",
       "         0.        , -0.70474887,  0.        ,  0.        ],\n",
       "       [ 0.        , -0.806144  , -0.8134959 ,  0.        ,  0.        ,\n",
       "        -0.6264321 ,  0.        ,  0.        ,  0.        ]],\n",
       "      dtype=float32)"
      ]
     },
     "execution_count": 75,
     "metadata": {},
     "output_type": "execute_result"
    }
   ],
   "source": [
    "resat - adata2t"
   ]
  },
  {
   "cell_type": "code",
   "execution_count": 76,
   "id": "f7e150fe",
   "metadata": {},
   "outputs": [
    {
     "data": {
      "text/plain": [
       "array([1, 2, 3, 4, 5, 6, 7, 0, 0, 0, 2, 3, 4, 5, 6, 7, 0, 0, 1, 2, 3, 4,\n",
       "       5, 6, 7, 0, 0, 0, 2, 3, 4, 5, 6, 7, 0, 0, 0, 1, 2, 3, 4, 6, 7, 0,\n",
       "       0, 0, 1, 2, 3, 4, 6, 7, 0, 0, 0, 1, 2, 4, 5, 6, 7, 0, 0, 0, 1, 2,\n",
       "       3, 4, 5, 7, 0, 0], dtype=uint32)"
      ]
     },
     "execution_count": 76,
     "metadata": {},
     "output_type": "execute_result"
    }
   ],
   "source": [
    "acols"
   ]
  },
  {
   "cell_type": "code",
   "execution_count": 77,
   "id": "8f1f18f1",
   "metadata": {},
   "outputs": [
    {
     "data": {
      "text/plain": [
       "array([1, 2, 3, 4, 5, 6, 7, 0, 0, 0, 2, 3, 4, 5, 6, 7, 0, 0, 0, 1, 2, 3,\n",
       "       4, 5, 6, 7, 0, 0, 2, 3, 4, 5, 6, 7, 0, 0, 0, 1, 2, 3, 4, 6, 7, 0,\n",
       "       0, 0, 1, 2, 3, 4, 6, 7, 0, 0, 0, 1, 2, 4, 5, 6, 7, 0, 0, 0, 1, 2,\n",
       "       3, 4, 5, 7, 0, 0], dtype=uint32)"
      ]
     },
     "execution_count": 77,
     "metadata": {},
     "output_type": "execute_result"
    }
   ],
   "source": [
    "resaidx"
   ]
  },
  {
   "cell_type": "code",
   "execution_count": 78,
   "id": "bd326e73",
   "metadata": {},
   "outputs": [
    {
     "data": {
      "text/plain": [
       "array([7, 7, 8, 7, 7, 7, 7, 7], dtype=uint32)"
      ]
     },
     "execution_count": 78,
     "metadata": {},
     "output_type": "execute_result"
    }
   ],
   "source": [
    "resannz"
   ]
  },
  {
   "cell_type": "code",
   "execution_count": 79,
   "id": "357413c1",
   "metadata": {},
   "outputs": [
    {
     "data": {
      "text/plain": [
       "array([7, 7, 7, 7, 7, 7, 7, 7], dtype=uint32)"
      ]
     },
     "execution_count": 79,
     "metadata": {},
     "output_type": "execute_result"
    }
   ],
   "source": [
    "annz"
   ]
  },
  {
   "cell_type": "markdown",
   "id": "7f618bfd",
   "metadata": {},
   "source": [
    "# OTHER"
   ]
  },
  {
   "cell_type": "markdown",
   "id": "28fd6b45",
   "metadata": {},
   "source": [
    "import numpy as np\n",
    "import pyopencl as cl\n",
    "\n",
    "mf = cl.mem_flags"
   ]
  },
  {
   "cell_type": "markdown",
   "id": "ebed13d1",
   "metadata": {},
   "source": [
    "dim = 16\n",
    "topk = 4\n",
    "\n",
    "x = np.random.rand(dim).astype(np.float32)\n",
    "y = np.random.rand(dim).astype(np.float32)\n",
    "x.shape,y.shape"
   ]
  },
  {
   "cell_type": "markdown",
   "id": "444a4a7f",
   "metadata": {},
   "source": [
    "dim1 = 4\n",
    "dim2 = 8\n",
    "dim3 = 1\n",
    "\n",
    "ctx = cl.create_some_context()\n",
    "queue = cl.CommandQueue(ctx,\n",
    "        properties=cl.command_queue_properties.PROFILING_ENABLE)\n",
    "\n",
    "sparsity = 0.2\n",
    "\n",
    "a = np.zeros((dim1,dim2))\n",
    "b = np.random.rand(dim2,dim3).flatten().astype(np.float32)\n",
    "\n",
    "a.shape, b.shape"
   ]
  },
  {
   "cell_type": "code",
   "execution_count": 80,
   "id": "e2d4594d",
   "metadata": {},
   "outputs": [],
   "source": [
    "x_buf = cl.Buffer(ctx, mf.READ_ONLY | mf.COPY_HOST_PTR, hostbuf=x)\n",
    "y_buf = cl.Buffer(ctx, mf.READ_ONLY | mf.COPY_HOST_PTR, hostbuf=y)\n",
    "val_out_buf = cl.Buffer(ctx, mf.READ_WRITE, 4*topk*topk)\n",
    "x_idx_buf = cl.Buffer(ctx, mf.READ_WRITE, topk*4)\n",
    "y_idx_buf = cl.Buffer(ctx, mf.READ_WRITE, topk*4)\n",
    "\n",
    "prg = cl.Program(ctx, \"\"\"\n",
    "// Every global_id_0 works on a row\n",
    "__kernel void genwupdate2(__global  float* x,     // INPUT MATRIX DATA\n",
    "                         __global  float* y,    // INPUT\n",
    "                         __global  float* xout,    // INPUT\n",
    "                         uint topk,\n",
    "                         __global  uint* xoutidx,    // INPUT\n",
    "                         __global  uint* youtidx    // INPUT\n",
    "                        ) { // LOCAL SHARED BUFFER\n",
    "  uint gid = get_global_id(0);\n",
    "  uint n = get_global_size(0);\n",
    "  \n",
    "  xout[gid] = x[gid];\n",
    "  xoutidx[gid] = gid;\n",
    "  youtidx[gid] = gid;\n",
    "  \n",
    "  float valx = x[gid];\n",
    "  float valy = y[gid];\n",
    "  uint posx = 0;\n",
    "  uint posy = 0;\n",
    "  for (uint i = 0; i < n; i++) {\n",
    "    float tempval = x[i];\n",
    "    float tempval2 = y[i];\n",
    "    bool larger = tempval > valx;\n",
    "    bool larger2 = tempval2 > valy;\n",
    "      \n",
    "    posx += (larger)?1:0;\n",
    "    posy += (larger2)?1:0;\n",
    "  }\n",
    "  //printf(\"posx:%i\", posx);\n",
    "  if (posx < topk) {\n",
    "    xoutidx[posx] = gid;\n",
    "  }\n",
    "  if (posy < topk) {\n",
    "    youtidx[posy] = gid;\n",
    "  }\n",
    "  if (gid < topk) {\n",
    "    uint i = gid;\n",
    "    for (uint j=0; j<topk; j++) {\n",
    "      xout[gid*topk+j] = x[xoutidx[gid]] * y[youtidx[j]];\n",
    "    }\n",
    "  }\n",
    "}\"\"\").build()"
   ]
  },
  {
   "cell_type": "code",
   "execution_count": 81,
   "id": "f45b3b69",
   "metadata": {},
   "outputs": [
    {
     "data": {
      "text/plain": [
       "<pyopencl._cl.NannyEvent at 0x7faa88240900>"
      ]
     },
     "execution_count": 81,
     "metadata": {},
     "output_type": "execute_result"
    }
   ],
   "source": [
    "knl = prg.genwupdate2  # Use this Kernel object for repeated calls\n",
    "event = knl(queue, [dim,], None, x_buf, y_buf, val_out_buf, np.uint32(topk), x_idx_buf, y_idx_buf)\n",
    "\n",
    "#event.wait()\n",
    "val_out = np.zeros(topk*topk).astype(np.float32)\n",
    "resxidx = np.zeros(topk).astype(np.uint32)\n",
    "resyidx = np.zeros(topk).astype(np.uint32)\n",
    "\n",
    "cl.enqueue_copy(queue, val_out, val_out_buf)\n",
    "cl.enqueue_copy(queue, resxidx, x_idx_buf, wait_for=[event])\n",
    "cl.enqueue_copy(queue, resyidx, y_idx_buf)"
   ]
  },
  {
   "cell_type": "code",
   "execution_count": 82,
   "id": "d883394f",
   "metadata": {},
   "outputs": [
    {
     "data": {
      "text/plain": [
       "array([0.78623533, 0.7290708 , 0.7531299 , 0.69837236], dtype=float32)"
      ]
     },
     "execution_count": 82,
     "metadata": {},
     "output_type": "execute_result"
    }
   ],
   "source": [
    "val_out"
   ]
  },
  {
   "cell_type": "code",
   "execution_count": 83,
   "id": "2335cf69",
   "metadata": {},
   "outputs": [
    {
     "data": {
      "text/plain": [
       "array([2, 1], dtype=uint32)"
      ]
     },
     "execution_count": 83,
     "metadata": {},
     "output_type": "execute_result"
    }
   ],
   "source": [
    "resxidx"
   ]
  },
  {
   "cell_type": "code",
   "execution_count": 84,
   "id": "5e714f2a",
   "metadata": {},
   "outputs": [
    {
     "data": {
      "text/plain": [
       "array([0, 2], dtype=uint32)"
      ]
     },
     "execution_count": 84,
     "metadata": {},
     "output_type": "execute_result"
    }
   ],
   "source": [
    "resyidx"
   ]
  },
  {
   "cell_type": "code",
   "execution_count": 85,
   "id": "f246c208",
   "metadata": {},
   "outputs": [
    {
     "ename": "NameError",
     "evalue": "name 'asdf' is not defined",
     "output_type": "error",
     "traceback": [
      "\u001b[0;31m---------------------------------------------------------------------------\u001b[0m",
      "\u001b[0;31mNameError\u001b[0m                                 Traceback (most recent call last)",
      "\u001b[0;32m/tmp/ipykernel_8500/2827374946.py\u001b[0m in \u001b[0;36m<module>\u001b[0;34m\u001b[0m\n\u001b[0;32m----> 1\u001b[0;31m \u001b[0masdf\u001b[0m\u001b[0;34m\u001b[0m\u001b[0;34m\u001b[0m\u001b[0m\n\u001b[0m",
      "\u001b[0;31mNameError\u001b[0m: name 'asdf' is not defined"
     ]
    }
   ],
   "source": [
    "asdf"
   ]
  },
  {
   "cell_type": "code",
   "execution_count": null,
   "id": "02a5c5dd",
   "metadata": {},
   "outputs": [],
   "source": [
    "from __future__ import division\n",
    "\n",
    "KERNEL_CODE = \"\"\"\n",
    "// Thread block size\n",
    "#define BLOCK_SIZE %(block_size)d\n",
    "// Matrix dimensions\n",
    "// (chosen as multiples of the thread block size for simplicity)\n",
    "#define WA %(w_a)d // Matrix A width\n",
    "#define HA %(h_a)d // Matrix A height\n",
    "#define WB %(w_b)d // Matrix B width\n",
    "#define HB WA  // Matrix B height\n",
    "#define WC WB  // Matrix C width\n",
    "#define HC HA  // Matrix C height\n",
    "/*\n",
    " * Copyright 1993-2009 NVIDIA Corporation.  All rights reserved.\n",
    " *\n",
    " * NVIDIA Corporation and its licensors retain all intellectual property and\n",
    " * proprietary rights in and to this software and related documentation.\n",
    " * Any use, reproduction, disclosure, or distribution of this software\n",
    " * and related documentation without an express license agreement from\n",
    " * NVIDIA Corporation is strictly prohibited.\n",
    " *\n",
    " * Please refer to the applicable NVIDIA end user license agreement (EULA)\n",
    " * associated with this source code for terms and conditions that govern\n",
    " * your use of this NVIDIA software.\n",
    " *\n",
    " */\n",
    "/* Matrix multiplication: C = A * B.\n",
    " * Device code.\n",
    " */\n",
    "#define AS(j, i) As[i + j * BLOCK_SIZE]\n",
    "#define BS(j, i) Bs[i + j * BLOCK_SIZE]\n",
    "////////////////////////////////////////////////////////////////////////////////\n",
    "//! Matrix multiplication on the device: C = A * B\n",
    "//! WA is A's width and WB is B's width\n",
    "////////////////////////////////////////////////////////////////////////////////\n",
    "__kernel __attribute__((reqd_work_group_size(16,16,1))) \n",
    "void\n",
    "matrixMul( __global float* C, __global float* A, __global float* B)\n",
    "{\n",
    "    __local float As[BLOCK_SIZE*BLOCK_SIZE];\n",
    "    __local float Bs[BLOCK_SIZE*BLOCK_SIZE];\n",
    "    // Block index\n",
    "    int bx = get_group_id(0);\n",
    "    int by = get_group_id(1);\n",
    "    // Thread index\n",
    "    int tx = get_local_id(0);\n",
    "    int ty = get_local_id(1);\n",
    "    // Index of the first sub-matrix of A processed by the block\n",
    "    int aBegin = WA * BLOCK_SIZE * by;\n",
    "    // Index of the last sub-matrix of A processed by the block\n",
    "    int aEnd   = aBegin + WA - 1;\n",
    "    // Step size used to iterate through the sub-matrices of A\n",
    "    int aStep  = BLOCK_SIZE;\n",
    "    // Index of the first sub-matrix of B processed by the block\n",
    "    int bBegin = BLOCK_SIZE * bx;\n",
    "    // Step size used to iterate through the sub-matrices of B\n",
    "    int bStep  = BLOCK_SIZE * WB;\n",
    "    // Csub is used to store the element of the block sub-matrix\n",
    "    // that is computed by the thread\n",
    "    float Csub = 0.0f;\n",
    "    // Loop over all the sub-matrices of A and B\n",
    "    // required to compute the block sub-matrix\n",
    "    for (int a = aBegin, b = bBegin;\n",
    "             a <= aEnd;\n",
    "             a += aStep, b += bStep) {\n",
    "        // Load the matrices from device memory\n",
    "        // to shared memory; each thread loads\n",
    "        // one element of each matrix\n",
    "        AS(ty, tx) = A[a + WA * ty + tx];\n",
    "        BS(ty, tx) = B[b + WB * ty + tx];\n",
    "        // Synchronize to make sure the matrices are loaded\n",
    "        barrier(CLK_LOCAL_MEM_FENCE);\n",
    "        // Multiply the two matrices together;\n",
    "        // each thread computes one element\n",
    "        // of the block sub-matrix\n",
    "        for (int k = 0; k < BLOCK_SIZE; ++k)\n",
    "            Csub += AS(ty, k) * BS(k, tx);\n",
    "        // Synchronize to make sure that the preceding\n",
    "        // computation is done before loading two new\n",
    "        // sub-matrices of A and B in the next iteration\n",
    "        barrier(CLK_LOCAL_MEM_FENCE);\n",
    "    }\n",
    "    // Write the block sub-matrix to device memory;\n",
    "    // each thread writes one element\n",
    "    C[get_global_id(1) * get_global_size(0) + get_global_id(0)] = Csub;\n",
    "}\n",
    "\"\"\"\n"
   ]
  },
  {
   "cell_type": "code",
   "execution_count": null,
   "id": "c1eb509e",
   "metadata": {},
   "outputs": [],
   "source": []
  },
  {
   "cell_type": "code",
   "execution_count": null,
   "id": "77b4a04e",
   "metadata": {},
   "outputs": [],
   "source": []
  },
  {
   "cell_type": "code",
   "execution_count": null,
   "id": "a0521855",
   "metadata": {},
   "outputs": [],
   "source": []
  },
  {
   "cell_type": "code",
   "execution_count": null,
   "id": "9a61206e",
   "metadata": {},
   "outputs": [],
   "source": []
  },
  {
   "cell_type": "code",
   "execution_count": null,
   "id": "16d754cb",
   "metadata": {},
   "outputs": [],
   "source": []
  },
  {
   "cell_type": "code",
   "execution_count": null,
   "id": "c91d5425",
   "metadata": {},
   "outputs": [],
   "source": []
  },
  {
   "cell_type": "code",
   "execution_count": null,
   "id": "d9f4a6f0",
   "metadata": {},
   "outputs": [],
   "source": []
  },
  {
   "cell_type": "code",
   "execution_count": null,
   "id": "9f708713",
   "metadata": {},
   "outputs": [],
   "source": []
  },
  {
   "cell_type": "code",
   "execution_count": null,
   "id": "e59475d1",
   "metadata": {},
   "outputs": [],
   "source": []
  },
  {
   "cell_type": "code",
   "execution_count": null,
   "id": "3dd6c3a3",
   "metadata": {},
   "outputs": [],
   "source": []
  },
  {
   "cell_type": "code",
   "execution_count": null,
   "id": "7e83b426",
   "metadata": {},
   "outputs": [],
   "source": []
  },
  {
   "cell_type": "code",
   "execution_count": null,
   "id": "af6af470",
   "metadata": {},
   "outputs": [],
   "source": []
  },
  {
   "cell_type": "code",
   "execution_count": null,
   "id": "e2b3a039",
   "metadata": {},
   "outputs": [],
   "source": []
  }
 ],
 "metadata": {
  "kernelspec": {
   "display_name": "Python 3",
   "language": "python",
   "name": "python3"
  },
  "language_info": {
   "codemirror_mode": {
    "name": "ipython",
    "version": 3
   },
   "file_extension": ".py",
   "mimetype": "text/x-python",
   "name": "python",
   "nbconvert_exporter": "python",
   "pygments_lexer": "ipython3",
   "version": "3.8.12"
  }
 },
 "nbformat": 4,
 "nbformat_minor": 5
}
