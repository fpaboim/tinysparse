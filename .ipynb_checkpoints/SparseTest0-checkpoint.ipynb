{
 "cells": [
  {
   "cell_type": "code",
   "execution_count": 1,
   "id": "4309590e",
   "metadata": {},
   "outputs": [
    {
     "name": "stdout",
     "output_type": "stream",
     "text": [
      "DEVICE:GPU\n"
     ]
    }
   ],
   "source": [
    "from tinygrad.densetensor import DenseTensor\n",
    "from tinygrad.sparsetensor import SparseTensor\n",
    "import numpy as np\n",
    "\n",
    "%load_ext autoreload\n",
    "%autoreload 2"
   ]
  },
  {
   "cell_type": "code",
   "execution_count": 2,
   "id": "4cb532fa",
   "metadata": {},
   "outputs": [],
   "source": [
    "x_init = np.random.randn(1,3).astype(np.float32)\n",
    "x2_init = np.random.randn(3).astype(np.float32)\n",
    "U_init = np.random.randn(3,3).astype(np.float32)\n",
    "V_init = np.random.randn(3,3).astype(np.float32)\n",
    "W_init = np.random.randn(3,3).astype(np.float32)\n",
    "m_init = np.random.randn(1,3).astype(np.float32)"
   ]
  },
  {
   "cell_type": "code",
   "execution_count": 3,
   "id": "3fb8a745",
   "metadata": {},
   "outputs": [
    {
     "data": {
      "text/plain": [
       "(array([-0.98740137], dtype=float32),\n",
       " <DenseTensor <GPUBuffer with shape (1, 3)> with grad <GPUBuffer with shape (1, 3)>>)"
      ]
     },
     "execution_count": 3,
     "metadata": {},
     "output_type": "execute_result"
    }
   ],
   "source": [
    "x = DenseTensor(x_init)\n",
    "W = DenseTensor(W_init)\n",
    "m = DenseTensor(m_init)\n",
    "out = x.dot(W).relu()\n",
    "out = out.logsoftmax()\n",
    "out = out.mul(m).add(m).sum()\n",
    "out.backward()\n",
    "\n",
    "out.cpu().data, x"
   ]
  },
  {
   "cell_type": "code",
   "execution_count": 4,
   "id": "46b0ba5a",
   "metadata": {
    "scrolled": true
   },
   "outputs": [
    {
     "name": "stdout",
     "output_type": "stream",
     "text": [
      "SPARSE!\n"
     ]
    },
    {
     "data": {
      "text/plain": [
       "(array([0.], dtype=float32),\n",
       " <DenseTensor <GPUBuffer with shape (1, 3)> with grad <GPUBuffer with shape (1, 3)>>)"
      ]
     },
     "execution_count": 4,
     "metadata": {},
     "output_type": "execute_result"
    }
   ],
   "source": [
    "x2 = DenseTensor(x2_init)#.gpu()\n",
    "W = SparseTensor(W_init)\n",
    "out = W.dot(x2).relu().sum()\n",
    "\n",
    "out.backward()\n",
    "\n",
    "out.cpu().data, x"
   ]
  },
  {
   "cell_type": "code",
   "execution_count": 5,
   "id": "c3d0659d",
   "metadata": {},
   "outputs": [],
   "source": [
    "import numpy as np\n",
    "import pyopencl as cl\n",
    "\n",
    "mf = cl.mem_flags"
   ]
  },
  {
   "cell_type": "code",
   "execution_count": 6,
   "id": "a0cc978b",
   "metadata": {},
   "outputs": [
    {
     "data": {
      "text/plain": [
       "((16, 16), (16,))"
      ]
     },
     "execution_count": 6,
     "metadata": {},
     "output_type": "execute_result"
    }
   ],
   "source": [
    "dim1 = 16\n",
    "dim2 = 16\n",
    "dim3 = 16\n",
    "\n",
    "ctx = cl.create_some_context()\n",
    "queue = cl.CommandQueue(ctx,\n",
    "        properties=cl.command_queue_properties.PROFILING_ENABLE)\n",
    "\n",
    "sparsity = 0.2\n",
    "\n",
    "a = np.zeros((dim1,dim2))\n",
    "b = np.random.rand(dim3).flatten().astype(np.float32)\n",
    "\n",
    "a.shape, b.shape"
   ]
  },
  {
   "cell_type": "code",
   "execution_count": 7,
   "id": "7ecf7a2b",
   "metadata": {},
   "outputs": [],
   "source": [
    "def fill_sparse(mat, sparsity=0.1):\n",
    "    indices = np.array(range(mat.shape[1]))\n",
    "    nrows = int(mat.shape[1]*sparsity)\n",
    "    for row in range(mat.shape[0]):\n",
    "        lim = nrows #+ int(np.random.random()*3)\n",
    "        mat[row][np.random.permutation(indices)[:lim]] = np.random.random(lim)\n",
    "    return mat\n",
    "\n",
    "a = fill_sparse(a, sparsity)\n",
    "#b = fill_sparse(b, sparsity)"
   ]
  },
  {
   "cell_type": "code",
   "execution_count": 8,
   "id": "b32f0e9a",
   "metadata": {},
   "outputs": [
    {
     "data": {
      "text/plain": [
       "array([[0.43822262, 0.37973466, 0.        , 0.        , 0.        ,\n",
       "        0.        , 0.        , 0.        , 0.        , 0.1661366 ,\n",
       "        0.        , 0.        , 0.        , 0.        , 0.        ,\n",
       "        0.        ],\n",
       "       [0.        , 0.56525006, 0.84172931, 0.        , 0.        ,\n",
       "        0.        , 0.        , 0.        , 0.        , 0.60760348,\n",
       "        0.        , 0.        , 0.        , 0.        , 0.        ,\n",
       "        0.        ],\n",
       "       [0.        , 0.02008005, 0.        , 0.        , 0.        ,\n",
       "        0.        , 0.        , 0.        , 0.        , 0.        ,\n",
       "        0.        , 0.        , 0.90528679, 0.        , 0.        ,\n",
       "        0.7885568 ],\n",
       "       [0.        , 0.        , 0.        , 0.34095666, 0.        ,\n",
       "        0.        , 0.        , 0.        , 0.05633442, 0.        ,\n",
       "        0.        , 0.        , 0.        , 0.        , 0.27243886,\n",
       "        0.        ],\n",
       "       [0.        , 0.        , 0.        , 0.10986728, 0.        ,\n",
       "        0.        , 0.        , 0.        , 0.50412419, 0.        ,\n",
       "        0.        , 0.        , 0.        , 0.15258075, 0.        ,\n",
       "        0.        ],\n",
       "       [0.        , 0.63014412, 0.        , 0.        , 0.        ,\n",
       "        0.        , 0.18120684, 0.        , 0.54749965, 0.        ,\n",
       "        0.        , 0.        , 0.        , 0.        , 0.        ,\n",
       "        0.        ],\n",
       "       [0.        , 0.64924567, 0.        , 0.        , 0.        ,\n",
       "        0.        , 0.        , 0.        , 0.01821784, 0.        ,\n",
       "        0.        , 0.88050214, 0.        , 0.        , 0.        ,\n",
       "        0.        ],\n",
       "       [0.        , 0.        , 0.        , 0.        , 0.        ,\n",
       "        0.        , 0.        , 0.31406753, 0.        , 0.        ,\n",
       "        0.88764178, 0.        , 0.        , 0.        , 0.        ,\n",
       "        0.07287624],\n",
       "       [0.        , 0.        , 0.        , 0.        , 0.        ,\n",
       "        0.        , 0.        , 0.        , 0.        , 0.50737834,\n",
       "        0.67492976, 0.        , 0.48660384, 0.        , 0.        ,\n",
       "        0.        ],\n",
       "       [0.        , 0.        , 0.74239256, 0.        , 0.        ,\n",
       "        0.        , 0.        , 0.        , 0.80713772, 0.        ,\n",
       "        0.75021302, 0.        , 0.        , 0.        , 0.        ,\n",
       "        0.        ],\n",
       "       [0.        , 0.        , 0.        , 0.78237693, 0.        ,\n",
       "        0.        , 0.05443893, 0.        , 0.        , 0.        ,\n",
       "        0.        , 0.        , 0.        , 0.87795891, 0.        ,\n",
       "        0.        ],\n",
       "       [0.        , 0.        , 0.        , 0.        , 0.        ,\n",
       "        0.15350895, 0.52532165, 0.        , 0.        , 0.        ,\n",
       "        0.        , 0.        , 0.45316335, 0.        , 0.        ,\n",
       "        0.        ],\n",
       "       [0.        , 0.        , 0.        , 0.        , 0.        ,\n",
       "        0.89255264, 0.        , 0.        , 0.        , 0.        ,\n",
       "        0.        , 0.        , 0.9833226 , 0.3505609 , 0.        ,\n",
       "        0.        ],\n",
       "       [0.        , 0.        , 0.        , 0.        , 0.        ,\n",
       "        0.        , 0.2687913 , 0.        , 0.        , 0.        ,\n",
       "        0.        , 0.        , 0.25037024, 0.        , 0.87768906,\n",
       "        0.        ],\n",
       "       [0.26179882, 0.        , 0.        , 0.        , 0.        ,\n",
       "        0.91452406, 0.        , 0.55812713, 0.        , 0.        ,\n",
       "        0.        , 0.        , 0.        , 0.        , 0.        ,\n",
       "        0.        ],\n",
       "       [0.22726894, 0.        , 0.        , 0.        , 0.        ,\n",
       "        0.        , 0.        , 0.        , 0.        , 0.        ,\n",
       "        0.        , 0.92724597, 0.91930889, 0.        , 0.        ,\n",
       "        0.        ]])"
      ]
     },
     "execution_count": 8,
     "metadata": {},
     "output_type": "execute_result"
    }
   ],
   "source": [
    "a"
   ]
  },
  {
   "cell_type": "code",
   "execution_count": 9,
   "id": "d286d740",
   "metadata": {},
   "outputs": [
    {
     "data": {
      "text/plain": [
       "array([0.42963892, 0.39450422, 0.6699399 , 0.63570476, 0.87201744,\n",
       "       0.16261412, 0.9468818 , 0.46559107, 0.26869592, 0.8907841 ,\n",
       "       0.07016446, 0.16516262, 0.7793348 , 0.15669295, 0.9211899 ,\n",
       "       0.10484372], dtype=float32)"
      ]
     },
     "execution_count": 9,
     "metadata": {},
     "output_type": "execute_result"
    }
   ],
   "source": [
    "b"
   ]
  },
  {
   "cell_type": "code",
   "execution_count": 10,
   "id": "45c14776",
   "metadata": {},
   "outputs": [
    {
     "data": {
      "text/plain": [
       "array([ 0.5322423, -0.8658378, -1.3279376], dtype=float32)"
      ]
     },
     "execution_count": 10,
     "metadata": {},
     "output_type": "execute_result"
    }
   ],
   "source": [
    "x2_init.T"
   ]
  },
  {
   "cell_type": "code",
   "execution_count": 11,
   "id": "6b2b88a2",
   "metadata": {},
   "outputs": [
    {
     "data": {
      "text/plain": [
       "array([0.48607626, 1.32814507, 0.79611838, 0.48285252, 0.22920759,\n",
       "       0.56728689, 0.40645126, 0.21614857, 0.87854793, 0.76687129,\n",
       "       0.68647794, 0.87554618, 0.96640959, 1.25815412, 0.5210525 ,\n",
       "       0.96723936])"
      ]
     },
     "execution_count": 11,
     "metadata": {},
     "output_type": "execute_result"
    }
   ],
   "source": [
    "mult = a.dot(b)\n",
    "mult"
   ]
  },
  {
   "cell_type": "code",
   "execution_count": 12,
   "id": "d33049e0",
   "metadata": {},
   "outputs": [
    {
     "data": {
      "text/plain": [
       "(16,)"
      ]
     },
     "execution_count": 12,
     "metadata": {},
     "output_type": "execute_result"
    }
   ],
   "source": [
    "mult.shape"
   ]
  },
  {
   "cell_type": "code",
   "execution_count": 13,
   "id": "67872651",
   "metadata": {},
   "outputs": [],
   "source": [
    "def to_data(mat):\n",
    "    ellwidth = int(mat.shape[1]/2)\n",
    "    all_rows = []\n",
    "    all_idxs = []\n",
    "    all_nnzs = []\n",
    "    for row in range(mat.shape[0]):\n",
    "        rowdata = []\n",
    "        colidxs = []\n",
    "        all_nnzs.append(0)\n",
    "        for col in range(mat.shape[1]):\n",
    "            val = mat[row][col]\n",
    "            if val != 0:\n",
    "                rowdata.append(val)\n",
    "                colidxs.append(col)\n",
    "                all_nnzs[-1] += 1\n",
    "        rowdata = np.array(rowdata)\n",
    "        rowdata.resize(ellwidth)\n",
    "        all_rows.append(rowdata)\n",
    "        colidxs = np.array(colidxs)\n",
    "        colidxs.resize(ellwidth)\n",
    "        all_idxs.append(colidxs)\n",
    "    all_rows = np.array(all_rows).astype(np.float32).flatten()\n",
    "    all_idxs = np.array(all_idxs).astype(np.uint32).flatten()\n",
    "    all_nnzs = np.array(all_nnzs).astype(np.uint32)\n",
    "    return all_rows, all_idxs, all_nnzs, ellwidth"
   ]
  },
  {
   "cell_type": "code",
   "execution_count": 14,
   "id": "5c9c6134",
   "metadata": {},
   "outputs": [
    {
     "data": {
      "text/plain": [
       "(array([0.43822262, 0.37973467, 0.16613661, 0.        , 0.        ,\n",
       "        0.        , 0.        , 0.        , 0.56525004, 0.8417293 ,\n",
       "        0.6076035 , 0.        , 0.        , 0.        , 0.        ,\n",
       "        0.        , 0.02008005, 0.9052868 , 0.7885568 , 0.        ,\n",
       "        0.        , 0.        , 0.        , 0.        , 0.34095666,\n",
       "        0.05633442, 0.27243885, 0.        , 0.        , 0.        ,\n",
       "        0.        , 0.        , 0.10986727, 0.50412416, 0.15258075,\n",
       "        0.        , 0.        , 0.        , 0.        , 0.        ,\n",
       "        0.6301441 , 0.18120684, 0.54749966, 0.        , 0.        ,\n",
       "        0.        , 0.        , 0.        , 0.6492457 , 0.01821784,\n",
       "        0.88050216, 0.        , 0.        , 0.        , 0.        ,\n",
       "        0.        , 0.31406754, 0.8876418 , 0.07287624, 0.        ,\n",
       "        0.        , 0.        , 0.        , 0.        , 0.50737834,\n",
       "        0.67492974, 0.48660383, 0.        , 0.        , 0.        ,\n",
       "        0.        , 0.        , 0.74239254, 0.8071377 , 0.750213  ,\n",
       "        0.        , 0.        , 0.        , 0.        , 0.        ,\n",
       "        0.78237695, 0.05443893, 0.8779589 , 0.        , 0.        ,\n",
       "        0.        , 0.        , 0.        , 0.15350895, 0.52532166,\n",
       "        0.45316336, 0.        , 0.        , 0.        , 0.        ,\n",
       "        0.        , 0.8925526 , 0.9833226 , 0.3505609 , 0.        ,\n",
       "        0.        , 0.        , 0.        , 0.        , 0.2687913 ,\n",
       "        0.25037023, 0.87768906, 0.        , 0.        , 0.        ,\n",
       "        0.        , 0.        , 0.26179883, 0.9145241 , 0.5581271 ,\n",
       "        0.        , 0.        , 0.        , 0.        , 0.        ,\n",
       "        0.22726893, 0.927246  , 0.9193089 , 0.        , 0.        ,\n",
       "        0.        , 0.        , 0.        ], dtype=float32),\n",
       " array([ 0,  1,  9,  0,  0,  0,  0,  0,  1,  2,  9,  0,  0,  0,  0,  0,  1,\n",
       "        12, 15,  0,  0,  0,  0,  0,  3,  8, 14,  0,  0,  0,  0,  0,  3,  8,\n",
       "        13,  0,  0,  0,  0,  0,  1,  6,  8,  0,  0,  0,  0,  0,  1,  8, 11,\n",
       "         0,  0,  0,  0,  0,  7, 10, 15,  0,  0,  0,  0,  0,  9, 10, 12,  0,\n",
       "         0,  0,  0,  0,  2,  8, 10,  0,  0,  0,  0,  0,  3,  6, 13,  0,  0,\n",
       "         0,  0,  0,  5,  6, 12,  0,  0,  0,  0,  0,  5, 12, 13,  0,  0,  0,\n",
       "         0,  0,  6, 12, 14,  0,  0,  0,  0,  0,  0,  5,  7,  0,  0,  0,  0,\n",
       "         0,  0, 11, 12,  0,  0,  0,  0,  0], dtype=uint32),\n",
       " array([3, 3, 3, 3, 3, 3, 3, 3, 3, 3, 3, 3, 3, 3, 3, 3], dtype=uint32),\n",
       " 8)"
      ]
     },
     "execution_count": 14,
     "metadata": {},
     "output_type": "execute_result"
    }
   ],
   "source": [
    "adata, acols, annz, ellwa = to_data(a)\n",
    "adata, acols, annz, ellwa"
   ]
  },
  {
   "cell_type": "code",
   "execution_count": 15,
   "id": "fbb29574",
   "metadata": {},
   "outputs": [],
   "source": [
    "#acols = acols.astype(np.uint32)\n",
    "#annz = annz.astype(np.uint32)"
   ]
  },
  {
   "cell_type": "code",
   "execution_count": 16,
   "id": "008c1a26",
   "metadata": {},
   "outputs": [
    {
     "data": {
      "text/plain": [
       "(array([0.43822262, 0.37973467, 0.16613661, 0.        , 0.        ,\n",
       "        0.        , 0.        , 0.        , 0.56525004, 0.8417293 ,\n",
       "        0.6076035 , 0.        , 0.        , 0.        , 0.        ,\n",
       "        0.        , 0.02008005, 0.9052868 , 0.7885568 , 0.        ,\n",
       "        0.        , 0.        , 0.        , 0.        , 0.34095666,\n",
       "        0.05633442, 0.27243885, 0.        , 0.        , 0.        ,\n",
       "        0.        , 0.        , 0.10986727, 0.50412416, 0.15258075,\n",
       "        0.        , 0.        , 0.        , 0.        , 0.        ,\n",
       "        0.6301441 , 0.18120684, 0.54749966, 0.        , 0.        ,\n",
       "        0.        , 0.        , 0.        , 0.6492457 , 0.01821784,\n",
       "        0.88050216, 0.        , 0.        , 0.        , 0.        ,\n",
       "        0.        , 0.31406754, 0.8876418 , 0.07287624, 0.        ,\n",
       "        0.        , 0.        , 0.        , 0.        , 0.50737834,\n",
       "        0.67492974, 0.48660383, 0.        , 0.        , 0.        ,\n",
       "        0.        , 0.        , 0.74239254, 0.8071377 , 0.750213  ,\n",
       "        0.        , 0.        , 0.        , 0.        , 0.        ,\n",
       "        0.78237695, 0.05443893, 0.8779589 , 0.        , 0.        ,\n",
       "        0.        , 0.        , 0.        , 0.15350895, 0.52532166,\n",
       "        0.45316336, 0.        , 0.        , 0.        , 0.        ,\n",
       "        0.        , 0.8925526 , 0.9833226 , 0.3505609 , 0.        ,\n",
       "        0.        , 0.        , 0.        , 0.        , 0.2687913 ,\n",
       "        0.25037023, 0.87768906, 0.        , 0.        , 0.        ,\n",
       "        0.        , 0.        , 0.26179883, 0.9145241 , 0.5581271 ,\n",
       "        0.        , 0.        , 0.        , 0.        , 0.        ,\n",
       "        0.22726893, 0.927246  , 0.9193089 , 0.        , 0.        ,\n",
       "        0.        , 0.        , 0.        ], dtype=float32),\n",
       " array([ 0,  1,  9,  0,  0,  0,  0,  0,  1,  2,  9,  0,  0,  0,  0,  0,  1,\n",
       "        12, 15,  0,  0,  0,  0,  0,  3,  8, 14,  0,  0,  0,  0,  0,  3,  8,\n",
       "        13,  0,  0,  0,  0,  0,  1,  6,  8,  0,  0,  0,  0,  0,  1,  8, 11,\n",
       "         0,  0,  0,  0,  0,  7, 10, 15,  0,  0,  0,  0,  0,  9, 10, 12,  0,\n",
       "         0,  0,  0,  0,  2,  8, 10,  0,  0,  0,  0,  0,  3,  6, 13,  0,  0,\n",
       "         0,  0,  0,  5,  6, 12,  0,  0,  0,  0,  0,  5, 12, 13,  0,  0,  0,\n",
       "         0,  0,  6, 12, 14,  0,  0,  0,  0,  0,  0,  5,  7,  0,  0,  0,  0,\n",
       "         0,  0, 11, 12,  0,  0,  0,  0,  0], dtype=uint32),\n",
       " array([3, 3, 3, 3, 3, 3, 3, 3, 3, 3, 3, 3, 3, 3, 3, 3], dtype=uint32),\n",
       " array([0.42963892, 0.39450422, 0.6699399 , 0.63570476, 0.87201744,\n",
       "        0.16261412, 0.9468818 , 0.46559107, 0.26869592, 0.8907841 ,\n",
       "        0.07016446, 0.16516262, 0.7793348 , 0.15669295, 0.9211899 ,\n",
       "        0.10484372], dtype=float32))"
      ]
     },
     "execution_count": 16,
     "metadata": {},
     "output_type": "execute_result"
    }
   ],
   "source": [
    "adata, acols, annz, b"
   ]
  },
  {
   "cell_type": "code",
   "execution_count": 17,
   "id": "6e741bf7",
   "metadata": {},
   "outputs": [],
   "source": [
    "adata_buf = cl.Buffer(ctx, mf.READ_WRITE | mf.COPY_HOST_PTR, hostbuf=adata)\n",
    "acols_buf = cl.Buffer(ctx, mf.READ_WRITE | mf.COPY_HOST_PTR, hostbuf=acols)\n",
    "annzs_buf = cl.Buffer(ctx, mf.READ_WRITE | mf.COPY_HOST_PTR, hostbuf=annz)\n",
    "b_buf = cl.Buffer(ctx, mf.READ_WRITE | mf.COPY_HOST_PTR, hostbuf=b)\n",
    "\n",
    "prg = cl.Program(ctx, \"\"\"\n",
    "// Every global_id_0 works on a row\n",
    "__kernel void SpMVNaive(__global  float* matData,     // INPUT MATRIX DATA\n",
    "                        __global  uint*  colIdx,\n",
    "                        __global  uint*  rowNnz,\n",
    "                        uint   ellwidth,\n",
    "                        __global  float* vector_x,    // INPUT\n",
    "                        __global  float* vector_y    // OUTPUT\n",
    "                        ) { // LOCAL SHARED BUFFER\n",
    "  uint gid = get_global_id(0);\n",
    "  \n",
    "  \n",
    "  uint nnz    = rowNnz[gid];\n",
    "  float sum = 0;\n",
    "  for (uint i = 0; i < nnz; i++) {\n",
    "    uint index   = gid * ellwidth + i;\n",
    "    uint col     = colIdx[index];\n",
    "    float aval  = matData[index];\n",
    "    float xval  = vector_x[col];\n",
    "    printf(\"aval, xval: %.2f,%.2f:%i-%i \\\\n\", aval, xval, col, index);\n",
    "    sum  += aval * xval;\n",
    "  }\n",
    "  printf(\"SUM/NNZ: %.2f %i \\\\n\", sum, nnz);\n",
    "  vector_y[gid] = sum;\n",
    "}\"\"\").build()"
   ]
  },
  {
   "cell_type": "code",
   "execution_count": 18,
   "id": "b4c85bcb",
   "metadata": {},
   "outputs": [
    {
     "data": {
      "text/plain": [
       "((16, 16), (16,))"
      ]
     },
     "execution_count": 18,
     "metadata": {},
     "output_type": "execute_result"
    }
   ],
   "source": [
    "a.shape, b.shape"
   ]
  },
  {
   "cell_type": "code",
   "execution_count": 19,
   "id": "c740a4fe",
   "metadata": {},
   "outputs": [
    {
     "data": {
      "text/plain": [
       "array([0., 0., 0., 0., 0., 0., 0., 0., 0., 0., 0., 0., 0., 0., 0., 0.],\n",
       "      dtype=float32)"
      ]
     },
     "execution_count": 19,
     "metadata": {},
     "output_type": "execute_result"
    }
   ],
   "source": [
    "res = np.zeros(a.shape[0]).astype(np.float32)\n",
    "res"
   ]
  },
  {
   "cell_type": "code",
   "execution_count": 20,
   "id": "07aa4d30",
   "metadata": {},
   "outputs": [],
   "source": [
    "rows = a.shape[0]"
   ]
  },
  {
   "cell_type": "code",
   "execution_count": 21,
   "id": "a72195ae",
   "metadata": {},
   "outputs": [
    {
     "data": {
      "text/plain": [
       "array([8], dtype=uint32)"
      ]
     },
     "execution_count": 21,
     "metadata": {},
     "output_type": "execute_result"
    }
   ],
   "source": [
    "ellw = np.array([ellwa]).astype(np.uint32)\n",
    "ellw"
   ]
  },
  {
   "cell_type": "code",
   "execution_count": 22,
   "id": "98da857f",
   "metadata": {},
   "outputs": [],
   "source": [
    "mult = mult.astype(np.float32)"
   ]
  },
  {
   "cell_type": "code",
   "execution_count": 23,
   "id": "def43deb",
   "metadata": {},
   "outputs": [
    {
     "data": {
      "text/plain": [
       "array([0.48607627, 1.328145  , 0.7961184 , 0.48285252, 0.22920759,\n",
       "       0.5672869 , 0.40645126, 0.21614857, 0.8785479 , 0.7668713 ,\n",
       "       0.68647796, 0.87554616, 0.96640956, 1.2581542 , 0.5210525 ,\n",
       "       0.9672394 ], dtype=float32)"
      ]
     },
     "execution_count": 23,
     "metadata": {},
     "output_type": "execute_result"
    }
   ],
   "source": [
    "mult"
   ]
  },
  {
   "cell_type": "code",
   "execution_count": 24,
   "id": "67fcc1a1",
   "metadata": {},
   "outputs": [
    {
     "data": {
      "text/plain": [
       "64"
      ]
     },
     "execution_count": 24,
     "metadata": {},
     "output_type": "execute_result"
    }
   ],
   "source": [
    "mult.nbytes"
   ]
  },
  {
   "cell_type": "code",
   "execution_count": 25,
   "id": "2d6c6f20",
   "metadata": {},
   "outputs": [
    {
     "data": {
      "text/plain": [
       "64"
      ]
     },
     "execution_count": 25,
     "metadata": {},
     "output_type": "execute_result"
    }
   ],
   "source": [
    "len(mult)*4"
   ]
  },
  {
   "cell_type": "code",
   "execution_count": 26,
   "id": "cc7365fc",
   "metadata": {},
   "outputs": [
    {
     "data": {
      "text/plain": [
       "<pyopencl._cl.NannyEvent at 0x7f9e0834bea0>"
      ]
     },
     "execution_count": 26,
     "metadata": {},
     "output_type": "execute_result"
    },
    {
     "name": "stdout",
     "output_type": "stream",
     "text": [
      "aval, xval: 0.44,0.43:0-0 \n",
      "aval, xval: 0.57,0.39:1-8 \n",
      "aval, xval: 0.02,0.39:1-16 \n",
      "aval, xval: 0.34,0.64:3-24 \n",
      "aval, xval: 0.11,0.64:3-32 \n",
      "aval, xval: 0.63,0.39:1-40 \n",
      "aval, xval: 0.65,0.39:1-48 \n",
      "aval, xval: 0.31,0.47:7-56 \n",
      "aval, xval: 0.51,0.89:9-64 \n",
      "aval, xval: 0.74,0.67:2-72 \n",
      "aval, xval: 0.78,0.64:3-80 \n",
      "aval, xval: 0.15,0.16:5-88 \n",
      "aval, xval: 0.89,0.16:5-96 \n",
      "aval, xval: 0.27,0.95:6-104 \n",
      "aval, xval: 0.26,0.43:0-112 \n",
      "aval, xval: 0.23,0.43:0-120 \n",
      "aval, xval: 0.38,0.39:1-1 \n",
      "aval, xval: 0.84,0.67:2-9 \n",
      "aval, xval: 0.91,0.78:12-17 \n",
      "aval, xval: 0.06,0.27:8-25 \n",
      "aval, xval: 0.50,0.27:8-33 \n",
      "aval, xval: 0.18,0.95:6-41 \n",
      "aval, xval: 0.02,0.27:8-49 \n",
      "aval, xval: 0.89,0.07:10-57 \n",
      "aval, xval: 0.67,0.07:10-65 \n",
      "aval, xval: 0.81,0.27:8-73 \n",
      "aval, xval: 0.05,0.95:6-81 \n",
      "aval, xval: 0.53,0.95:6-89 \n",
      "aval, xval: 0.98,0.78:12-97 \n",
      "aval, xval: 0.25,0.78:12-105 \n",
      "aval, xval: 0.91,0.16:5-113 \n",
      "aval, xval: 0.93,0.17:11-121 \n",
      "aval, xval: 0.17,0.89:9-2 \n",
      "aval, xval: 0.61,0.89:9-10 \n",
      "aval, xval: 0.79,0.10:15-18 \n",
      "aval, xval: 0.27,0.92:14-26 \n",
      "aval, xval: 0.15,0.16:13-34 \n",
      "aval, xval: 0.55,0.27:8-42 \n",
      "aval, xval: 0.88,0.17:11-50 \n",
      "aval, xval: 0.07,0.10:15-58 \n",
      "aval, xval: 0.49,0.78:12-66 \n",
      "aval, xval: 0.75,0.07:10-74 \n",
      "aval, xval: 0.88,0.16:13-82 \n",
      "aval, xval: 0.45,0.78:12-90 \n",
      "aval, xval: 0.35,0.16:13-98 \n",
      "aval, xval: 0.88,0.92:14-106 \n",
      "aval, xval: 0.56,0.47:7-114 \n",
      "aval, xval: 0.92,0.78:12-122 \n",
      "SUM/NNZ: 0.49 3 \n",
      "SUM/NNZ: 1.33 3 \n",
      "SUM/NNZ: 0.80 3 \n",
      "SUM/NNZ: 0.48 3 \n",
      "SUM/NNZ: 0.23 3 \n",
      "SUM/NNZ: 0.57 3 \n",
      "SUM/NNZ: 0.41 3 \n",
      "SUM/NNZ: 0.22 3 \n",
      "SUM/NNZ: 0.88 3 \n",
      "SUM/NNZ: 0.77 3 \n",
      "SUM/NNZ: 0.69 3 \n",
      "SUM/NNZ: 0.88 3 \n",
      "SUM/NNZ: 0.97 3 \n",
      "SUM/NNZ: 1.26 3 \n",
      "SUM/NNZ: 0.52 3 \n",
      "SUM/NNZ: 0.97 3 \n"
     ]
    }
   ],
   "source": [
    "res_buf = cl.Buffer(ctx, mf.WRITE_ONLY, mult.nbytes)\n",
    "knl = prg.SpMVNaive  # Use this Kernel object for repeated calls\n",
    "knl(queue, [rows,], None, adata_buf, acols_buf, annzs_buf, ellw, b_buf, res_buf)\n",
    "\n",
    "res_np = np.empty_like(a)\n",
    "cl.enqueue_copy(queue, res, res_buf)"
   ]
  },
  {
   "cell_type": "code",
   "execution_count": 27,
   "id": "33d8a584",
   "metadata": {},
   "outputs": [
    {
     "data": {
      "text/plain": [
       "<pyopencl._cl.Buffer at 0x7f9e08347db0>"
      ]
     },
     "execution_count": 27,
     "metadata": {},
     "output_type": "execute_result"
    }
   ],
   "source": [
    "res_buf"
   ]
  },
  {
   "cell_type": "code",
   "execution_count": 28,
   "id": "c197fea2",
   "metadata": {},
   "outputs": [
    {
     "data": {
      "text/plain": [
       "array([0.48607627, 1.328145  , 0.7961184 , 0.48285252, 0.22920759,\n",
       "       0.5672869 , 0.40645126, 0.21614857, 0.8785479 , 0.7668713 ,\n",
       "       0.68647796, 0.8755462 , 0.9664096 , 1.2581542 , 0.5210525 ,\n",
       "       0.9672393 ], dtype=float32)"
      ]
     },
     "execution_count": 28,
     "metadata": {},
     "output_type": "execute_result"
    }
   ],
   "source": [
    "res"
   ]
  },
  {
   "cell_type": "code",
   "execution_count": 29,
   "id": "b20b9da3",
   "metadata": {},
   "outputs": [
    {
     "data": {
      "text/plain": [
       "array([0.48607627, 1.328145  , 0.7961184 , 0.48285252, 0.22920759,\n",
       "       0.5672869 , 0.40645126, 0.21614857, 0.8785479 , 0.7668713 ,\n",
       "       0.68647796, 0.87554616, 0.96640956, 1.2581542 , 0.5210525 ,\n",
       "       0.9672394 ], dtype=float32)"
      ]
     },
     "execution_count": 29,
     "metadata": {},
     "output_type": "execute_result"
    }
   ],
   "source": [
    "mult"
   ]
  },
  {
   "cell_type": "code",
   "execution_count": 30,
   "id": "2a6322f5",
   "metadata": {},
   "outputs": [
    {
     "data": {
      "text/plain": [
       "5.9604645e-08"
      ]
     },
     "execution_count": 30,
     "metadata": {},
     "output_type": "execute_result"
    }
   ],
   "source": [
    "(res-mult).sum()"
   ]
  },
  {
   "cell_type": "markdown",
   "id": "cd2ce8de",
   "metadata": {},
   "source": [
    "## Weight update kernel"
   ]
  },
  {
   "cell_type": "code",
   "execution_count": 31,
   "id": "76e44e2d",
   "metadata": {},
   "outputs": [
    {
     "data": {
      "text/plain": [
       "((16,), (16,))"
      ]
     },
     "execution_count": 31,
     "metadata": {},
     "output_type": "execute_result"
    }
   ],
   "source": [
    "dim = 16\n",
    "topk = 4\n",
    "\n",
    "x = np.random.rand(dim).astype(np.float32)\n",
    "y = np.random.rand(dim).astype(np.float32)\n",
    "x.shape,y.shape"
   ]
  },
  {
   "cell_type": "code",
   "execution_count": 32,
   "id": "75611f3a",
   "metadata": {},
   "outputs": [],
   "source": [
    "x_buf = cl.Buffer(ctx, mf.READ_ONLY | mf.COPY_HOST_PTR, hostbuf=x)\n",
    "y_buf = cl.Buffer(ctx, mf.READ_ONLY | mf.COPY_HOST_PTR, hostbuf=y)\n",
    "x_cp_buf = cl.Buffer(ctx, mf.WRITE_ONLY, x.nbytes)\n",
    "x_idx_buf = cl.Buffer(ctx, mf.WRITE_ONLY, x.nbytes)\n",
    "y_cp_buf = cl.Buffer(ctx, mf.WRITE_ONLY, x.nbytes)\n",
    "y_idx_buf = cl.Buffer(ctx, mf.WRITE_ONLY, x.nbytes)\n",
    "\n",
    "prg = cl.Program(ctx, \"\"\"\n",
    "// Every global_id_0 works on a row\n",
    "__kernel void genwupdate(__global  float* x,     // INPUT MATRIX DATA\n",
    "                         __global  float* y,    // INPUT\n",
    "                         __global  float* xout,    // INPUT\n",
    "                         __global  uint* xoutidx,    // INPUT\n",
    "                         __global  float* yout,    // INPUT\n",
    "                         __global  uint* youtidx    // INPUT\n",
    "                        ) { // LOCAL SHARED BUFFER\n",
    "  uint gid = get_global_id(0);\n",
    "  uint n = get_global_size(0);\n",
    "  \n",
    "  xout[gid] = x[gid];\n",
    "  xoutidx[gid] = gid;\n",
    "  yout[gid] = y[gid];\n",
    "  youtidx[gid] = gid;\n",
    "  \n",
    "  float valx = x[gid];\n",
    "  float valy = y[gid];\n",
    "  uint idx = xoutidx[gid];\n",
    "  uint posx = 0;\n",
    "  uint posy = 0;\n",
    "  for (uint i = 0; i < n; i++) {\n",
    "    float tempval = x[i];\n",
    "    float tempval2 = y[i];\n",
    "    bool smaller = tempval > valx;\n",
    "    bool smaller2 = tempval2 > valy;\n",
    "      \n",
    "    posx += (smaller)?1:0;\n",
    "    posy += (smaller2)?1:0;\n",
    "  }\n",
    "  //printf(\"posx:%i\", posx);\n",
    "  xout[posx] = valx;\n",
    "  xoutidx[posx] = gid;\n",
    "  yout[posy] = valy;\n",
    "  youtidx[posy] = gid;\n",
    "}\"\"\").build()"
   ]
  },
  {
   "cell_type": "code",
   "execution_count": 33,
   "id": "94682965",
   "metadata": {},
   "outputs": [
    {
     "data": {
      "text/plain": [
       "<pyopencl._cl.NannyEvent at 0x7f9e0835be00>"
      ]
     },
     "execution_count": 33,
     "metadata": {},
     "output_type": "execute_result"
    }
   ],
   "source": [
    "knl = prg.genwupdate  # Use this Kernel object for repeated calls\n",
    "knl(queue, [dim,], None, x_buf, y_buf, x_cp_buf, x_idx_buf, y_cp_buf, y_idx_buf)\n",
    "\n",
    "resx = np.zeros(dim).astype(np.float32)\n",
    "resxidx = np.zeros(dim).astype(np.uint32)\n",
    "resy = np.zeros(dim).astype(np.float32)\n",
    "resyidx = np.zeros(dim).astype(np.uint32)\n",
    "\n",
    "cl.enqueue_copy(queue, resx, x_cp_buf)\n",
    "cl.enqueue_copy(queue, resxidx, x_idx_buf)\n",
    "cl.enqueue_copy(queue, resy, y_cp_buf)\n",
    "cl.enqueue_copy(queue, resyidx, y_idx_buf)"
   ]
  },
  {
   "cell_type": "code",
   "execution_count": 34,
   "id": "88725ae2",
   "metadata": {},
   "outputs": [
    {
     "data": {
      "text/plain": [
       "array([0.5950163 , 0.2982488 , 0.01745242, 0.6063014 , 0.6767919 ,\n",
       "       0.95914817, 0.47459555, 0.5290607 , 0.30231854, 0.38119066,\n",
       "       0.24498433, 0.36920288, 0.7471213 , 0.55594313, 0.15097395,\n",
       "       0.35666353], dtype=float32)"
      ]
     },
     "execution_count": 34,
     "metadata": {},
     "output_type": "execute_result"
    }
   ],
   "source": [
    "x"
   ]
  },
  {
   "cell_type": "code",
   "execution_count": 35,
   "id": "a1f20d07",
   "metadata": {},
   "outputs": [
    {
     "data": {
      "text/plain": [
       "array([0.95914817, 0.7471213 , 0.6767919 , 0.6063014 , 0.5950163 ,\n",
       "       0.55594313, 0.5290607 , 0.47459555, 0.38119066, 0.36920288,\n",
       "       0.35666353, 0.30231854, 0.2982488 , 0.24498433, 0.15097395,\n",
       "       0.01745242], dtype=float32)"
      ]
     },
     "execution_count": 35,
     "metadata": {},
     "output_type": "execute_result"
    }
   ],
   "source": [
    "resx"
   ]
  },
  {
   "cell_type": "code",
   "execution_count": 36,
   "id": "c555bd00",
   "metadata": {},
   "outputs": [
    {
     "data": {
      "text/plain": [
       "array([ 5, 12,  4,  3,  0, 13,  7,  6,  9, 11, 15,  8,  1, 10, 14,  2],\n",
       "      dtype=uint32)"
      ]
     },
     "execution_count": 36,
     "metadata": {},
     "output_type": "execute_result"
    }
   ],
   "source": [
    "resxidx"
   ]
  },
  {
   "cell_type": "code",
   "execution_count": 37,
   "id": "4c150d0f",
   "metadata": {},
   "outputs": [
    {
     "data": {
      "text/plain": [
       "array([0.9394472 , 0.8781575 , 0.26565495, 0.5442302 , 0.4061595 ,\n",
       "       0.5926662 , 0.4716764 , 0.36910793, 0.20621972, 0.99004334,\n",
       "       0.86773527, 0.9955587 , 0.1451852 , 0.3479084 , 0.3777773 ,\n",
       "       0.29134816], dtype=float32)"
      ]
     },
     "execution_count": 37,
     "metadata": {},
     "output_type": "execute_result"
    }
   ],
   "source": [
    "y"
   ]
  },
  {
   "cell_type": "code",
   "execution_count": 38,
   "id": "2445b2e5",
   "metadata": {},
   "outputs": [
    {
     "data": {
      "text/plain": [
       "array([0.9955587 , 0.99004334, 0.9394472 , 0.8781575 , 0.86773527,\n",
       "       0.5926662 , 0.5442302 , 0.4716764 , 0.4061595 , 0.3777773 ,\n",
       "       0.36910793, 0.3479084 , 0.29134816, 0.26565495, 0.20621972,\n",
       "       0.1451852 ], dtype=float32)"
      ]
     },
     "execution_count": 38,
     "metadata": {},
     "output_type": "execute_result"
    }
   ],
   "source": [
    "resy"
   ]
  },
  {
   "cell_type": "code",
   "execution_count": 39,
   "id": "f366fda3",
   "metadata": {},
   "outputs": [
    {
     "data": {
      "text/plain": [
       "array([11,  9,  0,  1, 10,  5,  3,  6,  4, 14,  7, 13, 15,  2,  8, 12],\n",
       "      dtype=uint32)"
      ]
     },
     "execution_count": 39,
     "metadata": {},
     "output_type": "execute_result"
    }
   ],
   "source": [
    "resyidx"
   ]
  },
  {
   "cell_type": "markdown",
   "id": "5176de81",
   "metadata": {},
   "source": [
    "## Weight update kernel"
   ]
  },
  {
   "cell_type": "markdown",
   "id": "aae579b3",
   "metadata": {},
   "source": [
    "dim = 16\n",
    "topk = 4\n",
    "\n",
    "x = np.random.rand(dim).astype(np.float32)\n",
    "y = np.random.rand(dim).astype(np.float32)\n",
    "x.shape,y.shape"
   ]
  },
  {
   "cell_type": "code",
   "execution_count": 40,
   "id": "87893353",
   "metadata": {},
   "outputs": [],
   "source": [
    "x_buf = cl.Buffer(ctx, mf.READ_ONLY | mf.COPY_HOST_PTR, hostbuf=x)\n",
    "y_buf = cl.Buffer(ctx, mf.READ_ONLY | mf.COPY_HOST_PTR, hostbuf=y)\n",
    "x_cp_buf = cl.Buffer(ctx, mf.WRITE_ONLY, 4*topk*topk)\n",
    "x_idx_buf = cl.Buffer(ctx, mf.WRITE_ONLY, 4*topk)\n",
    "y_idx_buf = cl.Buffer(ctx, mf.WRITE_ONLY, 4*topk)\n",
    "\n",
    "prg = cl.Program(ctx, \"\"\"\n",
    "// Every global_id_0 works on a row\n",
    "__kernel void genwupdate2(__global  float* x,     // INPUT MATRIX DATA\n",
    "                             __global  float* y,    // INPUT\n",
    "                             __global  float* xout,    // INPUT\n",
    "                             uint topk,\n",
    "                             __global  uint* xoutidx,    // INPUT\n",
    "                             __global  uint* youtidx    // INPUT\n",
    "                            ) { // LOCAL SHARED BUFFER\n",
    "      uint gid = get_global_id(0);\n",
    "      uint n = get_global_size(0);\n",
    "\n",
    "      xout[gid] = x[gid];\n",
    "      xoutidx[gid] = gid;\n",
    "      youtidx[gid] = gid;\n",
    "\n",
    "      float valx = x[gid];\n",
    "      float valy = y[gid];\n",
    "      uint posx = 0;\n",
    "      uint posy = 0;\n",
    "      for (uint i = 0; i < n; i++) {\n",
    "        float tempval = x[i];\n",
    "        float tempval2 = y[i];\n",
    "        bool larger = tempval > valx;\n",
    "        bool larger2 = tempval2 > valy;\n",
    "\n",
    "        posx += (larger)?1:0;\n",
    "        posy += (larger2)?1:0;\n",
    "      }\n",
    "      //printf(\"posx:%i\", posx);\n",
    "      if (posx < topk) {\n",
    "        xoutidx[posx] = gid;\n",
    "      }\n",
    "      if (posy < topk) {\n",
    "        youtidx[posy] = gid;\n",
    "      }\n",
    "      if (gid < topk) {\n",
    "        uint i = gid;\n",
    "        for (uint j=0; j<topk; j++) {\n",
    "          xout[gid*topk+j] = x[xoutidx[gid]] * y[youtidx[j]];\n",
    "        }\n",
    "      }\n",
    "    }\"\"\").build()"
   ]
  },
  {
   "cell_type": "code",
   "execution_count": 41,
   "id": "6491b9e5",
   "metadata": {},
   "outputs": [
    {
     "data": {
      "text/plain": [
       "<pyopencl._cl.NannyEvent at 0x7f9e693b47c0>"
      ]
     },
     "execution_count": 41,
     "metadata": {},
     "output_type": "execute_result"
    }
   ],
   "source": [
    "knl = prg.genwupdate2  # Use this Kernel object for repeated calls\n",
    "knl(queue, [dim,], None, x_buf, y_buf, x_cp_buf, np.uint32(topk), x_idx_buf, y_idx_buf)\n",
    "\n",
    "resx = np.zeros(dim).astype(np.float32)\n",
    "resxidx = np.zeros(topk).astype(np.uint32)\n",
    "resyidx = np.zeros(topk).astype(np.uint32)\n",
    "\n",
    "cl.enqueue_copy(queue, resx, x_cp_buf)\n",
    "cl.enqueue_copy(queue, resxidx, x_idx_buf)\n",
    "cl.enqueue_copy(queue, resyidx, y_idx_buf)"
   ]
  },
  {
   "cell_type": "code",
   "execution_count": 42,
   "id": "8af32b4d",
   "metadata": {},
   "outputs": [
    {
     "data": {
      "text/plain": [
       "array([0.5950163 , 0.2982488 , 0.01745242, 0.6063014 , 0.6767919 ,\n",
       "       0.95914817, 0.47459555, 0.5290607 , 0.30231854, 0.38119066,\n",
       "       0.24498433, 0.36920288, 0.7471213 , 0.55594313, 0.15097395,\n",
       "       0.35666353], dtype=float32)"
      ]
     },
     "execution_count": 42,
     "metadata": {},
     "output_type": "execute_result"
    }
   ],
   "source": [
    "x"
   ]
  },
  {
   "cell_type": "code",
   "execution_count": 43,
   "id": "199913c5",
   "metadata": {},
   "outputs": [
    {
     "data": {
      "text/plain": [
       "array([0.9548883 , 0.94959825, 0.9010691 , 0.8422831 , 0.7438031 ,\n",
       "       0.73968244, 0.701881  , 0.65609014, 0.67378604, 0.6700533 ,\n",
       "       0.63581026, 0.5943299 , 0.60360867, 0.60026467, 0.5695882 ,\n",
       "       0.53242815], dtype=float32)"
      ]
     },
     "execution_count": 43,
     "metadata": {},
     "output_type": "execute_result"
    }
   ],
   "source": [
    "resx"
   ]
  },
  {
   "cell_type": "code",
   "execution_count": 44,
   "id": "f04df83c",
   "metadata": {},
   "outputs": [
    {
     "data": {
      "text/plain": [
       "array([[0.9548883 , 0.94959825, 0.9010691 , 0.8422831 ],\n",
       "       [0.7438031 , 0.73968244, 0.701881  , 0.65609014],\n",
       "       [0.67378604, 0.6700533 , 0.63581026, 0.5943299 ],\n",
       "       [0.60360867, 0.60026467, 0.5695882 , 0.53242815]], dtype=float32)"
      ]
     },
     "execution_count": 44,
     "metadata": {},
     "output_type": "execute_result"
    }
   ],
   "source": [
    "resx.reshape(4,4)"
   ]
  },
  {
   "cell_type": "code",
   "execution_count": 45,
   "id": "dd0e0f80",
   "metadata": {},
   "outputs": [
    {
     "data": {
      "text/plain": [
       "array([ 5, 12,  4,  3], dtype=uint32)"
      ]
     },
     "execution_count": 45,
     "metadata": {},
     "output_type": "execute_result"
    }
   ],
   "source": [
    "resxidx"
   ]
  },
  {
   "cell_type": "code",
   "execution_count": 46,
   "id": "de0c4e17",
   "metadata": {},
   "outputs": [
    {
     "data": {
      "text/plain": [
       "array([11,  9,  0,  1], dtype=uint32)"
      ]
     },
     "execution_count": 46,
     "metadata": {},
     "output_type": "execute_result"
    }
   ],
   "source": [
    "resyidx"
   ]
  },
  {
   "cell_type": "code",
   "execution_count": 47,
   "id": "1e9d9d57",
   "metadata": {},
   "outputs": [
    {
     "data": {
      "text/plain": [
       "array([0.5589864 , 0.26190943, 0.00463632, 0.32996756, 0.27488545,\n",
       "       0.5684547 , 0.22385553, 0.1952805 , 0.06234404, 0.37739527,\n",
       "       0.21258155, 0.36756313, 0.10847095, 0.1934173 , 0.05703453,\n",
       "       0.10391326], dtype=float32)"
      ]
     },
     "execution_count": 47,
     "metadata": {},
     "output_type": "execute_result"
    }
   ],
   "source": [
    "x*y"
   ]
  },
  {
   "cell_type": "code",
   "execution_count": 48,
   "id": "e628901a",
   "metadata": {},
   "outputs": [
    {
     "data": {
      "text/plain": [
       "array([[0.21962523],\n",
       "       [0.11008599],\n",
       "       [0.00644183],\n",
       "       [0.22379066],\n",
       "       [0.24980927],\n",
       "       [0.3540292 ],\n",
       "       [0.17517698],\n",
       "       [0.1952805 ],\n",
       "       [0.11158817],\n",
       "       [0.14070049],\n",
       "       [0.09042566],\n",
       "       [0.13627571],\n",
       "       [0.2757684 ],\n",
       "       [0.20520303],\n",
       "       [0.05572568],\n",
       "       [0.13164733]], dtype=float32)"
      ]
     },
     "execution_count": 48,
     "metadata": {},
     "output_type": "execute_result"
    }
   ],
   "source": [
    "x.reshape(dim,1)*y[7]"
   ]
  },
  {
   "cell_type": "code",
   "execution_count": 49,
   "id": "36c46d26",
   "metadata": {},
   "outputs": [
    {
     "data": {
      "text/plain": [
       "array([0.9394472 , 0.8781575 , 0.26565495, 0.5442302 , 0.4061595 ,\n",
       "       0.5926662 , 0.4716764 , 0.36910793, 0.20621972, 0.99004334,\n",
       "       0.86773527, 0.9955587 , 0.1451852 , 0.3479084 , 0.3777773 ,\n",
       "       0.29134816], dtype=float32)"
      ]
     },
     "execution_count": 49,
     "metadata": {},
     "output_type": "execute_result"
    }
   ],
   "source": [
    "y"
   ]
  },
  {
   "cell_type": "code",
   "execution_count": 50,
   "id": "edd67887",
   "metadata": {},
   "outputs": [
    {
     "data": {
      "text/plain": [
       "array([0.9955587 , 0.99004334, 0.9394472 , 0.8781575 , 0.86773527,\n",
       "       0.5926662 , 0.5442302 , 0.4716764 , 0.4061595 , 0.3777773 ,\n",
       "       0.36910793, 0.3479084 , 0.29134816, 0.26565495, 0.20621972,\n",
       "       0.1451852 ], dtype=float32)"
      ]
     },
     "execution_count": 50,
     "metadata": {},
     "output_type": "execute_result"
    }
   ],
   "source": [
    "resy"
   ]
  },
  {
   "cell_type": "code",
   "execution_count": 51,
   "id": "18d58631",
   "metadata": {},
   "outputs": [
    {
     "data": {
      "text/plain": [
       "array([11,  9,  0,  1], dtype=uint32)"
      ]
     },
     "execution_count": 51,
     "metadata": {},
     "output_type": "execute_result"
    }
   ],
   "source": [
    "resyidx"
   ]
  },
  {
   "cell_type": "markdown",
   "id": "6eca6793",
   "metadata": {},
   "source": [
    "### update vals"
   ]
  },
  {
   "cell_type": "code",
   "execution_count": 58,
   "id": "faeac03a",
   "metadata": {},
   "outputs": [],
   "source": [
    "prg = cl.Program(ctx, \"\"\"\n",
    "// Every global_id_0 works on a row\n",
    "__kernel void addvals(__global  float* matData,     // INPUT MATRIX DATA\n",
    "                         __global  uint*  colIdx,\n",
    "                         __global  uint*  rowNnz,\n",
    "                         uint   ellwidth,\n",
    "                         __global  float* updatevals,    // INPUT\n",
    "                         __global  uint* updatexidx,   \n",
    "                         __global  uint* updateyidx   \n",
    "                         ) { // LOCAL SHARED BUFFER\n",
    "      uint gid = get_global_id(0);\n",
    "      uint n = get_global_size(0);\n",
    "      uint row = updateyidx[gid];\n",
    "      \n",
    "      for (uint i=0; i<n; i++) {\n",
    "        float val = updatevals[gid*n+i];\n",
    "        uint col = updatexidx[i];\n",
    "        for (uint i=0; i<rowNnz[row]; i++) {\n",
    "          uint idx = gid*ellwidth+i;\n",
    "          if (colIdx[idx] >= col) {\n",
    "            if (colIdx[idx] == col) {\n",
    "              matData[idx] += val;\n",
    "              printf(\"UPDATE[%i]: %.2f\", idx, val)\n",
    "              break;\n",
    "            } else {\n",
    "              // insert new column\n",
    "              printf(\"INSERT[%i]: %.2f\", idx, val)\n",
    "              for (uint j=i+1; j<rowNnz[row]+1; j++) {\n",
    "                uint idx2 = gid*ellwidth+j;\n",
    "                matData[idx2] = matData[idx2-1];\n",
    "                colIdx[idx2] = colIdx[idx2-1];\n",
    "              }\n",
    "              matData[idx] = val;\n",
    "              colIdx[idx] = col;\n",
    "              rowNnz[row] += 1;\n",
    "              break;\n",
    "            }\n",
    "          }\n",
    "        }\n",
    "        if (rowNnz[row] >= ellwidth) {\n",
    "          break;\n",
    "        }\n",
    "      }\n",
    "\n",
    "      \n",
    "    }\"\"\").build()"
   ]
  },
  {
   "cell_type": "code",
   "execution_count": 53,
   "id": "ae43668f",
   "metadata": {},
   "outputs": [
    {
     "data": {
      "text/plain": [
       "<pyopencl._cl.NannyEvent at 0x7f9e083565e0>"
      ]
     },
     "execution_count": 53,
     "metadata": {},
     "output_type": "execute_result"
    }
   ],
   "source": [
    "knl = prg.addvals  # Use this Kernel object for repeated calls\n",
    "knl(queue, [topk,], None, adata_buf, acols_buf, annzs_buf, np.uint32(ellw), x_cp_buf, x_idx_buf, y_idx_buf)\n",
    "\n",
    "resa = np.empty_like(adata)\n",
    "resaidx = np.zeros(acols.shape).astype(np.uint32)\n",
    "resannz = np.zeros(annz.shape).astype(np.uint32)\n",
    "\n",
    "cl.enqueue_copy(queue, resa, adata_buf)\n",
    "cl.enqueue_copy(queue, resaidx, acols_buf)\n",
    "cl.enqueue_copy(queue, resannz, annzs_buf)"
   ]
  },
  {
   "cell_type": "code",
   "execution_count": 54,
   "id": "8e4a363d",
   "metadata": {},
   "outputs": [
    {
     "data": {
      "text/plain": [
       "array([0.43822262, 0.37973467, 0.8422831 , 0.9010691 , 0.9010691 ,\n",
       "       0.9010691 , 0.        , 0.        , 0.56525004, 0.8417293 ,\n",
       "       0.65609014, 0.701881  , 0.701881  , 0.701881  , 0.        ,\n",
       "       0.        , 0.02008005, 0.5943299 , 0.63581026, 0.63581026,\n",
       "       0.63581026, 0.63581026, 0.        , 0.        , 0.87338483,\n",
       "       0.5695882 , 0.60360867, 0.60360867, 0.60360867, 0.        ,\n",
       "       0.        , 0.        , 0.10986727, 0.50412416, 0.15258075,\n",
       "       0.        , 0.        , 0.        , 0.        , 0.        ,\n",
       "       0.6301441 , 0.18120684, 0.54749966, 0.        , 0.        ,\n",
       "       0.        , 0.        , 0.        , 0.6492457 , 0.01821784,\n",
       "       0.88050216, 0.        , 0.        , 0.        , 0.        ,\n",
       "       0.        , 0.31406754, 0.8876418 , 0.07287624, 0.        ,\n",
       "       0.        , 0.        , 0.        , 0.        , 0.50737834,\n",
       "       0.67492974, 0.48660383, 0.        , 0.        , 0.        ,\n",
       "       0.        , 0.        , 0.74239254, 0.8071377 , 0.750213  ,\n",
       "       0.        , 0.        , 0.        , 0.        , 0.        ,\n",
       "       0.78237695, 0.05443893, 0.8779589 , 0.        , 0.        ,\n",
       "       0.        , 0.        , 0.        , 0.15350895, 0.52532166,\n",
       "       0.45316336, 0.        , 0.        , 0.        , 0.        ,\n",
       "       0.        , 0.8925526 , 0.9833226 , 0.3505609 , 0.        ,\n",
       "       0.        , 0.        , 0.        , 0.        , 0.2687913 ,\n",
       "       0.25037023, 0.87768906, 0.        , 0.        , 0.        ,\n",
       "       0.        , 0.        , 0.26179883, 0.9145241 , 0.5581271 ,\n",
       "       0.        , 0.        , 0.        , 0.        , 0.        ,\n",
       "       0.22726893, 0.927246  , 0.9193089 , 0.        , 0.        ,\n",
       "       0.        , 0.        , 0.        ], dtype=float32)"
      ]
     },
     "execution_count": 54,
     "metadata": {},
     "output_type": "execute_result"
    }
   ],
   "source": [
    "resa"
   ]
  },
  {
   "cell_type": "code",
   "execution_count": 59,
   "id": "0dc73b90",
   "metadata": {},
   "outputs": [
    {
     "data": {
      "text/plain": [
       "array([[0.43822262, 0.37973466, 0.        , 0.        , 0.        ,\n",
       "        0.        , 0.        , 0.        , 0.        , 0.1661366 ,\n",
       "        0.        , 0.        , 0.        , 0.        , 0.        ,\n",
       "        0.        ],\n",
       "       [0.        , 0.56525006, 0.84172931, 0.        , 0.        ,\n",
       "        0.        , 0.        , 0.        , 0.        , 0.60760348,\n",
       "        0.        , 0.        , 0.        , 0.        , 0.        ,\n",
       "        0.        ],\n",
       "       [0.        , 0.02008005, 0.        , 0.        , 0.        ,\n",
       "        0.        , 0.        , 0.        , 0.        , 0.        ,\n",
       "        0.        , 0.        , 0.90528679, 0.        , 0.        ,\n",
       "        0.7885568 ],\n",
       "       [0.        , 0.        , 0.        , 0.34095666, 0.        ,\n",
       "        0.        , 0.        , 0.        , 0.05633442, 0.        ,\n",
       "        0.        , 0.        , 0.        , 0.        , 0.27243886,\n",
       "        0.        ],\n",
       "       [0.        , 0.        , 0.        , 0.10986728, 0.        ,\n",
       "        0.        , 0.        , 0.        , 0.50412419, 0.        ,\n",
       "        0.        , 0.        , 0.        , 0.15258075, 0.        ,\n",
       "        0.        ],\n",
       "       [0.        , 0.63014412, 0.        , 0.        , 0.        ,\n",
       "        0.        , 0.18120684, 0.        , 0.54749965, 0.        ,\n",
       "        0.        , 0.        , 0.        , 0.        , 0.        ,\n",
       "        0.        ],\n",
       "       [0.        , 0.64924567, 0.        , 0.        , 0.        ,\n",
       "        0.        , 0.        , 0.        , 0.01821784, 0.        ,\n",
       "        0.        , 0.88050214, 0.        , 0.        , 0.        ,\n",
       "        0.        ],\n",
       "       [0.        , 0.        , 0.        , 0.        , 0.        ,\n",
       "        0.        , 0.        , 0.31406753, 0.        , 0.        ,\n",
       "        0.88764178, 0.        , 0.        , 0.        , 0.        ,\n",
       "        0.07287624],\n",
       "       [0.        , 0.        , 0.        , 0.        , 0.        ,\n",
       "        0.        , 0.        , 0.        , 0.        , 0.50737834,\n",
       "        0.67492976, 0.        , 0.48660384, 0.        , 0.        ,\n",
       "        0.        ],\n",
       "       [0.        , 0.        , 0.74239256, 0.        , 0.        ,\n",
       "        0.        , 0.        , 0.        , 0.80713772, 0.        ,\n",
       "        0.75021302, 0.        , 0.        , 0.        , 0.        ,\n",
       "        0.        ],\n",
       "       [0.        , 0.        , 0.        , 0.78237693, 0.        ,\n",
       "        0.        , 0.05443893, 0.        , 0.        , 0.        ,\n",
       "        0.        , 0.        , 0.        , 0.87795891, 0.        ,\n",
       "        0.        ],\n",
       "       [0.        , 0.        , 0.        , 0.        , 0.        ,\n",
       "        0.15350895, 0.52532165, 0.        , 0.        , 0.        ,\n",
       "        0.        , 0.        , 0.45316335, 0.        , 0.        ,\n",
       "        0.        ],\n",
       "       [0.        , 0.        , 0.        , 0.        , 0.        ,\n",
       "        0.89255264, 0.        , 0.        , 0.        , 0.        ,\n",
       "        0.        , 0.        , 0.9833226 , 0.3505609 , 0.        ,\n",
       "        0.        ],\n",
       "       [0.        , 0.        , 0.        , 0.        , 0.        ,\n",
       "        0.        , 0.2687913 , 0.        , 0.        , 0.        ,\n",
       "        0.        , 0.        , 0.25037024, 0.        , 0.87768906,\n",
       "        0.        ],\n",
       "       [0.26179882, 0.        , 0.        , 0.        , 0.        ,\n",
       "        0.91452406, 0.        , 0.55812713, 0.        , 0.        ,\n",
       "        0.        , 0.        , 0.        , 0.        , 0.        ,\n",
       "        0.        ],\n",
       "       [0.22726894, 0.        , 0.        , 0.        , 0.        ,\n",
       "        0.        , 0.        , 0.        , 0.        , 0.        ,\n",
       "        0.        , 0.92724597, 0.91930889, 0.        , 0.        ,\n",
       "        0.        ]])"
      ]
     },
     "execution_count": 59,
     "metadata": {},
     "output_type": "execute_result"
    }
   ],
   "source": [
    "a"
   ]
  },
  {
   "cell_type": "code",
   "execution_count": 60,
   "id": "5b4d427b",
   "metadata": {},
   "outputs": [
    {
     "data": {
      "text/plain": [
       "array([ 0,  1,  9,  0,  0,  0,  0,  0,  1,  2,  9,  0,  0,  0,  0,  0,  1,\n",
       "       12, 15,  0,  0,  0,  0,  0,  3,  8, 14,  0,  0,  0,  0,  0,  3,  8,\n",
       "       13,  0,  0,  0,  0,  0,  1,  6,  8,  0,  0,  0,  0,  0,  1,  8, 11,\n",
       "        0,  0,  0,  0,  0,  7, 10, 15,  0,  0,  0,  0,  0,  9, 10, 12,  0,\n",
       "        0,  0,  0,  0,  2,  8, 10,  0,  0,  0,  0,  0,  3,  6, 13,  0,  0,\n",
       "        0,  0,  0,  5,  6, 12,  0,  0,  0,  0,  0,  5, 12, 13,  0,  0,  0,\n",
       "        0,  0,  6, 12, 14,  0,  0,  0,  0,  0,  0,  5,  7,  0,  0,  0,  0,\n",
       "        0,  0, 11, 12,  0,  0,  0,  0,  0], dtype=uint32)"
      ]
     },
     "execution_count": 60,
     "metadata": {},
     "output_type": "execute_result"
    }
   ],
   "source": [
    "acols"
   ]
  },
  {
   "cell_type": "code",
   "execution_count": 55,
   "id": "0ee0a9fe",
   "metadata": {},
   "outputs": [
    {
     "data": {
      "text/plain": [
       "array([ 0,  1,  3,  4,  4,  4,  0,  0,  1,  2,  3,  4,  4,  4,  0,  0,  1,\n",
       "        3,  4,  4,  4,  4,  0,  0,  3,  4,  5,  5,  5,  0,  0,  0,  3,  8,\n",
       "       13,  0,  0,  0,  0,  0,  1,  6,  8,  0,  0,  0,  0,  0,  1,  8, 11,\n",
       "        0,  0,  0,  0,  0,  7, 10, 15,  0,  0,  0,  0,  0,  9, 10, 12,  0,\n",
       "        0,  0,  0,  0,  2,  8, 10,  0,  0,  0,  0,  0,  3,  6, 13,  0,  0,\n",
       "        0,  0,  0,  5,  6, 12,  0,  0,  0,  0,  0,  5, 12, 13,  0,  0,  0,\n",
       "        0,  0,  6, 12, 14,  0,  0,  0,  0,  0,  0,  5,  7,  0,  0,  0,  0,\n",
       "        0,  0, 11, 12,  0,  0,  0,  0,  0], dtype=uint32)"
      ]
     },
     "execution_count": 55,
     "metadata": {},
     "output_type": "execute_result"
    }
   ],
   "source": [
    "resaidx"
   ]
  },
  {
   "cell_type": "code",
   "execution_count": 56,
   "id": "d85b98d7",
   "metadata": {},
   "outputs": [
    {
     "data": {
      "text/plain": [
       "array([6, 5, 3, 3, 3, 3, 3, 3, 3, 6, 3, 6, 3, 3, 3, 3], dtype=uint32)"
      ]
     },
     "execution_count": 56,
     "metadata": {},
     "output_type": "execute_result"
    }
   ],
   "source": [
    "resannz"
   ]
  },
  {
   "cell_type": "code",
   "execution_count": 57,
   "id": "715872be",
   "metadata": {},
   "outputs": [
    {
     "ename": "NameError",
     "evalue": "name 'asdf' is not defined",
     "output_type": "error",
     "traceback": [
      "\u001b[0;31m---------------------------------------------------------------------------\u001b[0m",
      "\u001b[0;31mNameError\u001b[0m                                 Traceback (most recent call last)",
      "\u001b[0;32m/tmp/ipykernel_6674/2827374946.py\u001b[0m in \u001b[0;36m<module>\u001b[0;34m\u001b[0m\n\u001b[0;32m----> 1\u001b[0;31m \u001b[0masdf\u001b[0m\u001b[0;34m\u001b[0m\u001b[0;34m\u001b[0m\u001b[0m\n\u001b[0m",
      "\u001b[0;31mNameError\u001b[0m: name 'asdf' is not defined"
     ]
    }
   ],
   "source": [
    "asdf"
   ]
  },
  {
   "cell_type": "markdown",
   "id": "7f618bfd",
   "metadata": {},
   "source": [
    "# OTHER"
   ]
  },
  {
   "cell_type": "markdown",
   "id": "28fd6b45",
   "metadata": {},
   "source": [
    "import numpy as np\n",
    "import pyopencl as cl\n",
    "\n",
    "mf = cl.mem_flags"
   ]
  },
  {
   "cell_type": "markdown",
   "id": "ebed13d1",
   "metadata": {},
   "source": [
    "dim = 16\n",
    "topk = 4\n",
    "\n",
    "x = np.random.rand(dim).astype(np.float32)\n",
    "y = np.random.rand(dim).astype(np.float32)\n",
    "x.shape,y.shape"
   ]
  },
  {
   "cell_type": "markdown",
   "id": "444a4a7f",
   "metadata": {},
   "source": [
    "dim1 = 4\n",
    "dim2 = 8\n",
    "dim3 = 1\n",
    "\n",
    "ctx = cl.create_some_context()\n",
    "queue = cl.CommandQueue(ctx,\n",
    "        properties=cl.command_queue_properties.PROFILING_ENABLE)\n",
    "\n",
    "sparsity = 0.2\n",
    "\n",
    "a = np.zeros((dim1,dim2))\n",
    "b = np.random.rand(dim2,dim3).flatten().astype(np.float32)\n",
    "\n",
    "a.shape, b.shape"
   ]
  },
  {
   "cell_type": "code",
   "execution_count": null,
   "id": "e2d4594d",
   "metadata": {},
   "outputs": [],
   "source": [
    "x_buf = cl.Buffer(ctx, mf.READ_ONLY | mf.COPY_HOST_PTR, hostbuf=x)\n",
    "y_buf = cl.Buffer(ctx, mf.READ_ONLY | mf.COPY_HOST_PTR, hostbuf=y)\n",
    "val_out_buf = cl.Buffer(ctx, mf.READ_WRITE, 4*topk*topk)\n",
    "x_idx_buf = cl.Buffer(ctx, mf.READ_WRITE, topk*4)\n",
    "y_idx_buf = cl.Buffer(ctx, mf.READ_WRITE, topk*4)\n",
    "\n",
    "prg = cl.Program(ctx, \"\"\"\n",
    "// Every global_id_0 works on a row\n",
    "__kernel void genwupdate2(__global  float* x,     // INPUT MATRIX DATA\n",
    "                         __global  float* y,    // INPUT\n",
    "                         __global  float* xout,    // INPUT\n",
    "                         uint topk,\n",
    "                         __global  uint* xoutidx,    // INPUT\n",
    "                         __global  uint* youtidx    // INPUT\n",
    "                        ) { // LOCAL SHARED BUFFER\n",
    "  uint gid = get_global_id(0);\n",
    "  uint n = get_global_size(0);\n",
    "  \n",
    "  xout[gid] = x[gid];\n",
    "  xoutidx[gid] = gid;\n",
    "  youtidx[gid] = gid;\n",
    "  \n",
    "  float valx = x[gid];\n",
    "  float valy = y[gid];\n",
    "  uint posx = 0;\n",
    "  uint posy = 0;\n",
    "  for (uint i = 0; i < n; i++) {\n",
    "    float tempval = x[i];\n",
    "    float tempval2 = y[i];\n",
    "    bool larger = tempval > valx;\n",
    "    bool larger2 = tempval2 > valy;\n",
    "      \n",
    "    posx += (larger)?1:0;\n",
    "    posy += (larger2)?1:0;\n",
    "  }\n",
    "  //printf(\"posx:%i\", posx);\n",
    "  if (posx < topk) {\n",
    "    xoutidx[posx] = gid;\n",
    "  }\n",
    "  if (posy < topk) {\n",
    "    youtidx[posy] = gid;\n",
    "  }\n",
    "  if (gid < topk) {\n",
    "    uint i = gid;\n",
    "    for (uint j=0; j<topk; j++) {\n",
    "      xout[gid*topk+j] = x[xoutidx[gid]] * y[youtidx[j]];\n",
    "    }\n",
    "  }\n",
    "}\"\"\").build()"
   ]
  },
  {
   "cell_type": "code",
   "execution_count": null,
   "id": "f45b3b69",
   "metadata": {},
   "outputs": [],
   "source": [
    "knl = prg.genwupdate2  # Use this Kernel object for repeated calls\n",
    "event = knl(queue, [dim,], None, x_buf, y_buf, val_out_buf, np.uint32(topk), x_idx_buf, y_idx_buf)\n",
    "\n",
    "#event.wait()\n",
    "val_out = np.zeros(topk*topk).astype(np.float32)\n",
    "resxidx = np.zeros(topk).astype(np.uint32)\n",
    "resyidx = np.zeros(topk).astype(np.uint32)\n",
    "\n",
    "cl.enqueue_copy(queue, val_out, val_out_buf)\n",
    "cl.enqueue_copy(queue, resxidx, x_idx_buf, wait_for=[event])\n",
    "cl.enqueue_copy(queue, resyidx, y_idx_buf)"
   ]
  },
  {
   "cell_type": "code",
   "execution_count": null,
   "id": "d883394f",
   "metadata": {},
   "outputs": [],
   "source": [
    "val_out"
   ]
  },
  {
   "cell_type": "code",
   "execution_count": null,
   "id": "2335cf69",
   "metadata": {},
   "outputs": [],
   "source": [
    "resxidx"
   ]
  },
  {
   "cell_type": "code",
   "execution_count": null,
   "id": "5e714f2a",
   "metadata": {},
   "outputs": [],
   "source": [
    "resyidx"
   ]
  },
  {
   "cell_type": "code",
   "execution_count": null,
   "id": "02a5c5dd",
   "metadata": {},
   "outputs": [],
   "source": [
    "from __future__ import division\n",
    "\n",
    "KERNEL_CODE = \"\"\"\n",
    "// Thread block size\n",
    "#define BLOCK_SIZE %(block_size)d\n",
    "// Matrix dimensions\n",
    "// (chosen as multiples of the thread block size for simplicity)\n",
    "#define WA %(w_a)d // Matrix A width\n",
    "#define HA %(h_a)d // Matrix A height\n",
    "#define WB %(w_b)d // Matrix B width\n",
    "#define HB WA  // Matrix B height\n",
    "#define WC WB  // Matrix C width\n",
    "#define HC HA  // Matrix C height\n",
    "/*\n",
    " * Copyright 1993-2009 NVIDIA Corporation.  All rights reserved.\n",
    " *\n",
    " * NVIDIA Corporation and its licensors retain all intellectual property and\n",
    " * proprietary rights in and to this software and related documentation.\n",
    " * Any use, reproduction, disclosure, or distribution of this software\n",
    " * and related documentation without an express license agreement from\n",
    " * NVIDIA Corporation is strictly prohibited.\n",
    " *\n",
    " * Please refer to the applicable NVIDIA end user license agreement (EULA)\n",
    " * associated with this source code for terms and conditions that govern\n",
    " * your use of this NVIDIA software.\n",
    " *\n",
    " */\n",
    "/* Matrix multiplication: C = A * B.\n",
    " * Device code.\n",
    " */\n",
    "#define AS(j, i) As[i + j * BLOCK_SIZE]\n",
    "#define BS(j, i) Bs[i + j * BLOCK_SIZE]\n",
    "////////////////////////////////////////////////////////////////////////////////\n",
    "//! Matrix multiplication on the device: C = A * B\n",
    "//! WA is A's width and WB is B's width\n",
    "////////////////////////////////////////////////////////////////////////////////\n",
    "__kernel __attribute__((reqd_work_group_size(16,16,1))) \n",
    "void\n",
    "matrixMul( __global float* C, __global float* A, __global float* B)\n",
    "{\n",
    "    __local float As[BLOCK_SIZE*BLOCK_SIZE];\n",
    "    __local float Bs[BLOCK_SIZE*BLOCK_SIZE];\n",
    "    // Block index\n",
    "    int bx = get_group_id(0);\n",
    "    int by = get_group_id(1);\n",
    "    // Thread index\n",
    "    int tx = get_local_id(0);\n",
    "    int ty = get_local_id(1);\n",
    "    // Index of the first sub-matrix of A processed by the block\n",
    "    int aBegin = WA * BLOCK_SIZE * by;\n",
    "    // Index of the last sub-matrix of A processed by the block\n",
    "    int aEnd   = aBegin + WA - 1;\n",
    "    // Step size used to iterate through the sub-matrices of A\n",
    "    int aStep  = BLOCK_SIZE;\n",
    "    // Index of the first sub-matrix of B processed by the block\n",
    "    int bBegin = BLOCK_SIZE * bx;\n",
    "    // Step size used to iterate through the sub-matrices of B\n",
    "    int bStep  = BLOCK_SIZE * WB;\n",
    "    // Csub is used to store the element of the block sub-matrix\n",
    "    // that is computed by the thread\n",
    "    float Csub = 0.0f;\n",
    "    // Loop over all the sub-matrices of A and B\n",
    "    // required to compute the block sub-matrix\n",
    "    for (int a = aBegin, b = bBegin;\n",
    "             a <= aEnd;\n",
    "             a += aStep, b += bStep) {\n",
    "        // Load the matrices from device memory\n",
    "        // to shared memory; each thread loads\n",
    "        // one element of each matrix\n",
    "        AS(ty, tx) = A[a + WA * ty + tx];\n",
    "        BS(ty, tx) = B[b + WB * ty + tx];\n",
    "        // Synchronize to make sure the matrices are loaded\n",
    "        barrier(CLK_LOCAL_MEM_FENCE);\n",
    "        // Multiply the two matrices together;\n",
    "        // each thread computes one element\n",
    "        // of the block sub-matrix\n",
    "        for (int k = 0; k < BLOCK_SIZE; ++k)\n",
    "            Csub += AS(ty, k) * BS(k, tx);\n",
    "        // Synchronize to make sure that the preceding\n",
    "        // computation is done before loading two new\n",
    "        // sub-matrices of A and B in the next iteration\n",
    "        barrier(CLK_LOCAL_MEM_FENCE);\n",
    "    }\n",
    "    // Write the block sub-matrix to device memory;\n",
    "    // each thread writes one element\n",
    "    C[get_global_id(1) * get_global_size(0) + get_global_id(0)] = Csub;\n",
    "}\n",
    "\"\"\"\n"
   ]
  },
  {
   "cell_type": "code",
   "execution_count": null,
   "id": "c1eb509e",
   "metadata": {},
   "outputs": [],
   "source": []
  },
  {
   "cell_type": "code",
   "execution_count": null,
   "id": "77b4a04e",
   "metadata": {},
   "outputs": [],
   "source": []
  },
  {
   "cell_type": "code",
   "execution_count": null,
   "id": "a0521855",
   "metadata": {},
   "outputs": [],
   "source": []
  },
  {
   "cell_type": "code",
   "execution_count": null,
   "id": "9a61206e",
   "metadata": {},
   "outputs": [],
   "source": []
  },
  {
   "cell_type": "code",
   "execution_count": null,
   "id": "16d754cb",
   "metadata": {},
   "outputs": [],
   "source": []
  },
  {
   "cell_type": "code",
   "execution_count": null,
   "id": "c91d5425",
   "metadata": {},
   "outputs": [],
   "source": []
  },
  {
   "cell_type": "code",
   "execution_count": null,
   "id": "d9f4a6f0",
   "metadata": {},
   "outputs": [],
   "source": []
  },
  {
   "cell_type": "code",
   "execution_count": null,
   "id": "9f708713",
   "metadata": {},
   "outputs": [],
   "source": []
  },
  {
   "cell_type": "code",
   "execution_count": null,
   "id": "e59475d1",
   "metadata": {},
   "outputs": [],
   "source": []
  },
  {
   "cell_type": "code",
   "execution_count": null,
   "id": "3dd6c3a3",
   "metadata": {},
   "outputs": [],
   "source": []
  },
  {
   "cell_type": "code",
   "execution_count": null,
   "id": "7e83b426",
   "metadata": {},
   "outputs": [],
   "source": []
  },
  {
   "cell_type": "code",
   "execution_count": null,
   "id": "af6af470",
   "metadata": {},
   "outputs": [],
   "source": []
  },
  {
   "cell_type": "code",
   "execution_count": null,
   "id": "e2b3a039",
   "metadata": {},
   "outputs": [],
   "source": []
  }
 ],
 "metadata": {
  "kernelspec": {
   "display_name": "Python 3",
   "language": "python",
   "name": "python3"
  },
  "language_info": {
   "codemirror_mode": {
    "name": "ipython",
    "version": 3
   },
   "file_extension": ".py",
   "mimetype": "text/x-python",
   "name": "python",
   "nbconvert_exporter": "python",
   "pygments_lexer": "ipython3",
   "version": "3.8.12"
  }
 },
 "nbformat": 4,
 "nbformat_minor": 5
}
