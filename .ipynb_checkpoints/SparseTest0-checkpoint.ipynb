{
 "cells": [
  {
   "cell_type": "code",
   "execution_count": 2,
   "id": "4309590e",
   "metadata": {},
   "outputs": [
    {
     "name": "stdout",
     "output_type": "stream",
     "text": [
      "DEVICE:GPU\n"
     ]
    }
   ],
   "source": [
    "from tinygrad.densetensor import DenseTensor\n",
    "from tinygrad.sparsetensor import SparseTensor\n",
    "import numpy as np\n",
    "\n",
    "%load_ext autoreload\n",
    "%autoreload 2"
   ]
  },
  {
   "cell_type": "code",
   "execution_count": 3,
   "id": "4cb532fa",
   "metadata": {},
   "outputs": [],
   "source": [
    "x_init = np.random.randn(1,3).astype(np.float32)\n",
    "x2_init = np.random.randn(3).astype(np.float32)\n",
    "U_init = np.random.randn(3,3).astype(np.float32)\n",
    "V_init = np.random.randn(3,3).astype(np.float32)\n",
    "W_init = np.random.randn(3,3).astype(np.float32)\n",
    "m_init = np.random.randn(1,3).astype(np.float32)"
   ]
  },
  {
   "cell_type": "code",
   "execution_count": 4,
   "id": "3fb8a745",
   "metadata": {},
   "outputs": [
    {
     "name": "stdout",
     "output_type": "stream",
     "text": [
      "WEGHT: (3, 3)\n"
     ]
    },
    {
     "data": {
      "text/plain": [
       "(array([-1.2313291], dtype=float32),\n",
       " <DenseTensor <GPUBuffer with shape (1, 3)> with grad <GPUBuffer with shape (1, 3)>>)"
      ]
     },
     "execution_count": 4,
     "metadata": {},
     "output_type": "execute_result"
    }
   ],
   "source": [
    "x = DenseTensor(x_init)\n",
    "W = DenseTensor(W_init)\n",
    "m = DenseTensor(m_init)\n",
    "out = x.dot(W).relu()\n",
    "out = out.logsoftmax()\n",
    "out = out.mul(m).add(m).sum()\n",
    "out.backward()\n",
    "\n",
    "out.cpu().data, x"
   ]
  },
  {
   "cell_type": "code",
   "execution_count": 5,
   "id": "46b0ba5a",
   "metadata": {
    "scrolled": true
   },
   "outputs": [
    {
     "name": "stdout",
     "output_type": "stream",
     "text": [
      "WEGHT: (3,)\n",
      "LEN: <DenseTensor <GPUBuffer with shape (3,)> with grad None>\n",
      "IN: [1.6059462 1.0506015 1.6979358]\n"
     ]
    },
    {
     "data": {
      "text/plain": [
       "(array([0.], dtype=float32),\n",
       " <DenseTensor <GPUBuffer with shape (1, 3)> with grad <GPUBuffer with shape (1, 3)>>)"
      ]
     },
     "execution_count": 5,
     "metadata": {},
     "output_type": "execute_result"
    }
   ],
   "source": [
    "x2 = DenseTensor(x2_init)#.gpu()\n",
    "W = SparseTensor(W_init)\n",
    "out = W.dot(x2).relu().sum()\n",
    "\n",
    "out.backward()\n",
    "\n",
    "out.cpu().data, x"
   ]
  },
  {
   "cell_type": "code",
   "execution_count": 6,
   "id": "c3d0659d",
   "metadata": {},
   "outputs": [],
   "source": [
    "import numpy as np\n",
    "import pyopencl as cl\n",
    "\n",
    "mf = cl.mem_flags"
   ]
  },
  {
   "cell_type": "code",
   "execution_count": 7,
   "id": "a0cc978b",
   "metadata": {},
   "outputs": [
    {
     "data": {
      "text/plain": [
       "((16, 16), (16,))"
      ]
     },
     "execution_count": 7,
     "metadata": {},
     "output_type": "execute_result"
    }
   ],
   "source": [
    "dim1 = 16\n",
    "dim2 = 16\n",
    "dim3 = 16\n",
    "\n",
    "ctx = cl.create_some_context()\n",
    "queue = cl.CommandQueue(ctx,\n",
    "        properties=cl.command_queue_properties.PROFILING_ENABLE)\n",
    "\n",
    "sparsity = 0.2\n",
    "\n",
    "a = np.zeros((dim1,dim2))\n",
    "b = np.random.rand(dim3).flatten().astype(np.float32)\n",
    "\n",
    "a.shape, b.shape"
   ]
  },
  {
   "cell_type": "code",
   "execution_count": 8,
   "id": "7ecf7a2b",
   "metadata": {},
   "outputs": [],
   "source": [
    "def fill_sparse(mat, sparsity=0.1):\n",
    "    indices = np.array(range(mat.shape[1]))\n",
    "    nrows = int(mat.shape[1]*sparsity)\n",
    "    for row in range(mat.shape[0]):\n",
    "        lim = nrows #+ int(np.random.random()*3)\n",
    "        mat[row][np.random.permutation(indices)[:lim]] = np.random.random(lim)\n",
    "    return mat\n",
    "\n",
    "a = fill_sparse(a, 0.9)\n",
    "#b = fill_sparse(b, sparsity)"
   ]
  },
  {
   "cell_type": "code",
   "execution_count": 9,
   "id": "b32f0e9a",
   "metadata": {},
   "outputs": [
    {
     "data": {
      "text/plain": [
       "array([[0.089671  , 0.46753172, 0.948669  , 0.34129092, 0.74417787,\n",
       "        0.69122711, 0.63804678, 0.        , 0.29491877, 0.34991211,\n",
       "        0.7794711 , 0.18475993, 0.        , 0.93957658, 0.34175795,\n",
       "        0.52821682],\n",
       "       [0.72575136, 0.        , 0.9524359 , 0.72599027, 0.11879517,\n",
       "        0.21816276, 0.8774638 , 0.82491681, 0.        , 0.5030116 ,\n",
       "        0.63860112, 0.36748213, 0.25832086, 0.6657449 , 0.7121395 ,\n",
       "        0.70483536],\n",
       "       [0.        , 0.90342965, 0.02956247, 0.2001215 , 0.71826017,\n",
       "        0.79814236, 0.98083828, 0.89859784, 0.35268544, 0.        ,\n",
       "        0.17639911, 0.42795547, 0.75017267, 0.98076097, 0.21757277,\n",
       "        0.51784421],\n",
       "       [0.20730907, 0.83265331, 0.83574098, 0.        , 0.        ,\n",
       "        0.66716611, 0.19827426, 0.09055655, 0.40384339, 0.4818258 ,\n",
       "        0.65648417, 0.61644243, 0.41772161, 0.08420668, 0.92896958,\n",
       "        0.64166572],\n",
       "       [0.18672848, 0.3377082 , 0.        , 0.06564762, 0.63014409,\n",
       "        0.56500672, 0.34885732, 0.05852222, 0.        , 0.4681585 ,\n",
       "        0.01756018, 0.2825504 , 0.92963683, 0.40494892, 0.26215528,\n",
       "        0.41818207],\n",
       "       [0.        , 0.92249491, 0.61349074, 0.67675014, 0.81922041,\n",
       "        0.39698084, 0.97902679, 0.74212063, 0.68729335, 0.97908709,\n",
       "        0.        , 0.24146143, 0.56057504, 0.8813967 , 0.35084888,\n",
       "        0.85866444],\n",
       "       [0.        , 0.37744816, 0.46035504, 0.23473371, 0.41669079,\n",
       "        0.0396657 , 0.18275686, 0.45907151, 0.02111383, 0.18439429,\n",
       "        0.09091071, 0.11885439, 0.18920327, 0.        , 0.63948154,\n",
       "        0.54876348],\n",
       "       [0.67676374, 0.76161575, 0.76389698, 0.35991042, 0.        ,\n",
       "        0.84069632, 0.6364964 , 0.50874198, 0.95465787, 0.32700483,\n",
       "        0.36922475, 0.39783014, 0.23315532, 0.        , 0.51068649,\n",
       "        0.38583728],\n",
       "       [0.8571827 , 0.        , 0.16747528, 0.98164997, 0.49625668,\n",
       "        0.83980482, 0.34353252, 0.1809531 , 0.24657971, 0.70523736,\n",
       "        0.34979958, 0.        , 0.50144531, 0.42999425, 0.15318003,\n",
       "        0.7564023 ],\n",
       "       [0.66205336, 0.82299534, 0.64974073, 0.        , 0.15879216,\n",
       "        0.84384544, 0.11739188, 0.81334818, 0.77363443, 0.94317488,\n",
       "        0.37873648, 0.94737214, 0.05795399, 0.        , 0.09755548,\n",
       "        0.85328701],\n",
       "       [0.        , 0.85665927, 0.20506226, 0.43399354, 0.21357441,\n",
       "        0.51771835, 0.30087037, 0.01817185, 0.08926069, 0.78947371,\n",
       "        0.        , 0.17772578, 0.48548621, 0.00415477, 0.03613115,\n",
       "        0.54720096],\n",
       "       [0.18639891, 0.85284354, 0.        , 0.24810188, 0.55306642,\n",
       "        0.48200509, 0.36282489, 0.3430501 , 0.67136967, 0.81107484,\n",
       "        0.94758846, 0.18351473, 0.77536946, 0.        , 0.17713488,\n",
       "        0.28597107],\n",
       "       [0.        , 0.13052638, 0.4531264 , 0.82053901, 0.35050276,\n",
       "        0.        , 0.78281287, 0.69876446, 0.47237016, 0.81325287,\n",
       "        0.92524978, 0.43357883, 0.21922631, 0.27467954, 0.64040529,\n",
       "        0.67758814],\n",
       "       [0.93540259, 0.55223072, 0.04302345, 0.50827724, 0.30627423,\n",
       "        0.88733875, 0.        , 0.34941228, 0.6669767 , 0.30419072,\n",
       "        0.89992217, 0.00945652, 0.        , 0.20783232, 0.94713954,\n",
       "        0.97985562],\n",
       "       [0.        , 0.16868973, 0.94341119, 0.76969353, 0.3265129 ,\n",
       "        0.25477779, 0.94781927, 0.28160584, 0.01859022, 0.94380981,\n",
       "        0.62730644, 0.976979  , 0.37420162, 0.        , 0.5793002 ,\n",
       "        0.87138708],\n",
       "       [0.        , 0.16126816, 0.03613575, 0.53140562, 0.11087603,\n",
       "        0.        , 0.40218638, 0.62202107, 0.89620785, 0.35882282,\n",
       "        0.29729813, 0.21598016, 0.11949659, 0.08548515, 0.52505049,\n",
       "        0.59225511]])"
      ]
     },
     "execution_count": 9,
     "metadata": {},
     "output_type": "execute_result"
    }
   ],
   "source": [
    "a"
   ]
  },
  {
   "cell_type": "code",
   "execution_count": 10,
   "id": "d286d740",
   "metadata": {},
   "outputs": [
    {
     "data": {
      "text/plain": [
       "array([0.74215895, 0.8010809 , 0.04959606, 0.6146407 , 0.56148374,\n",
       "       0.06110566, 0.07765984, 0.4009042 , 0.30698782, 0.743955  ,\n",
       "       0.35747224, 0.38638905, 0.11459033, 0.66994804, 0.9077079 ,\n",
       "       0.13353543], dtype=float32)"
      ]
     },
     "execution_count": 10,
     "metadata": {},
     "output_type": "execute_result"
    }
   ],
   "source": [
    "b"
   ]
  },
  {
   "cell_type": "code",
   "execution_count": 11,
   "id": "45c14776",
   "metadata": {},
   "outputs": [
    {
     "data": {
      "text/plain": [
       "array([1.6059462, 1.0506015, 1.6979358], dtype=float32)"
      ]
     },
     "execution_count": 11,
     "metadata": {},
     "output_type": "execute_result"
    }
   ],
   "source": [
    "x2_init.T"
   ]
  },
  {
   "cell_type": "code",
   "execution_count": 12,
   "id": "6b2b88a2",
   "metadata": {},
   "outputs": [
    {
     "data": {
      "text/plain": [
       "array([2.91863807, 3.47161395, 3.08302478, 2.94329079, 2.02372348,\n",
       "       4.16370741, 1.8016082 , 3.04008678, 2.98800369, 3.30852846,\n",
       "       1.99306746, 2.98670001, 3.29834637, 3.70362822, 3.03508704,\n",
       "       2.15890867])"
      ]
     },
     "execution_count": 12,
     "metadata": {},
     "output_type": "execute_result"
    }
   ],
   "source": [
    "mult = a.dot(b)\n",
    "mult"
   ]
  },
  {
   "cell_type": "code",
   "execution_count": 13,
   "id": "d33049e0",
   "metadata": {},
   "outputs": [
    {
     "data": {
      "text/plain": [
       "(16,)"
      ]
     },
     "execution_count": 13,
     "metadata": {},
     "output_type": "execute_result"
    }
   ],
   "source": [
    "mult.shape"
   ]
  },
  {
   "cell_type": "code",
   "execution_count": 14,
   "id": "67872651",
   "metadata": {},
   "outputs": [],
   "source": [
    "def to_data(mat):\n",
    "    ellwidth = int(mat.shape[1]/2)\n",
    "    all_rows = []\n",
    "    all_idxs = []\n",
    "    all_nnzs = []\n",
    "    for row in range(mat.shape[0]):\n",
    "        rowdata = []\n",
    "        colidxs = []\n",
    "        all_nnzs.append(0)\n",
    "        for col in range(mat.shape[1]):\n",
    "            val = mat[row][col]\n",
    "            if val != 0:\n",
    "                rowdata.append(val)\n",
    "                colidxs.append(col)\n",
    "                all_nnzs[-1] += 1\n",
    "        rowdata = np.array(rowdata)\n",
    "        rowdata.resize(ellwidth)\n",
    "        all_rows.append(rowdata)\n",
    "        colidxs = np.array(colidxs)\n",
    "        colidxs.resize(ellwidth)\n",
    "        all_idxs.append(colidxs)\n",
    "    all_rows = np.array(all_rows).astype(np.float32).flatten()\n",
    "    all_idxs = np.array(all_idxs).astype(np.uint32).flatten()\n",
    "    all_nnzs = np.array(all_nnzs).astype(np.uint32)\n",
    "    return all_rows, all_idxs, all_nnzs, ellwidth"
   ]
  },
  {
   "cell_type": "code",
   "execution_count": 15,
   "id": "5c9c6134",
   "metadata": {},
   "outputs": [
    {
     "data": {
      "text/plain": [
       "(array([0.089671  , 0.4675317 , 0.948669  , 0.34129092, 0.7441779 ,\n",
       "        0.6912271 , 0.6380468 , 0.29491878, 0.72575134, 0.9524359 ,\n",
       "        0.7259903 , 0.11879517, 0.21816276, 0.8774638 , 0.8249168 ,\n",
       "        0.5030116 , 0.9034296 , 0.02956247, 0.20012149, 0.71826017,\n",
       "        0.7981424 , 0.9808383 , 0.89859784, 0.35268545, 0.20730907,\n",
       "        0.8326533 , 0.835741  , 0.6671661 , 0.19827425, 0.09055655,\n",
       "        0.4038434 , 0.4818258 , 0.18672848, 0.3377082 , 0.06564762,\n",
       "        0.6301441 , 0.56500673, 0.3488573 , 0.05852222, 0.4681585 ,\n",
       "        0.9224949 , 0.61349076, 0.6767501 , 0.8192204 , 0.39698085,\n",
       "        0.9790268 , 0.7421206 , 0.68729335, 0.37744817, 0.46035504,\n",
       "        0.2347337 , 0.4166908 , 0.0396657 , 0.18275686, 0.45907152,\n",
       "        0.02111383, 0.6767637 , 0.76161575, 0.763897  , 0.35991043,\n",
       "        0.84069633, 0.6364964 , 0.508742  , 0.95465785, 0.8571827 ,\n",
       "        0.16747528, 0.98165   , 0.49625668, 0.8398048 , 0.34353253,\n",
       "        0.1809531 , 0.2465797 , 0.66205335, 0.82299536, 0.64974076,\n",
       "        0.15879217, 0.8438454 , 0.11739188, 0.8133482 , 0.77363443,\n",
       "        0.8566593 , 0.20506227, 0.43399355, 0.21357441, 0.5177184 ,\n",
       "        0.30087036, 0.01817185, 0.08926069, 0.18639891, 0.8528435 ,\n",
       "        0.24810188, 0.55306643, 0.4820051 , 0.3628249 , 0.3430501 ,\n",
       "        0.6713697 , 0.13052638, 0.4531264 , 0.820539  , 0.35050276,\n",
       "        0.7828129 , 0.69876444, 0.47237015, 0.81325287, 0.9354026 ,\n",
       "        0.5522307 , 0.04302345, 0.50827724, 0.30627424, 0.88733876,\n",
       "        0.34941226, 0.6669767 , 0.16868973, 0.9434112 , 0.76969355,\n",
       "        0.3265129 , 0.2547778 , 0.9478193 , 0.28160584, 0.01859022,\n",
       "        0.16126816, 0.03613574, 0.5314056 , 0.11087602, 0.40218636,\n",
       "        0.6220211 , 0.89620787, 0.35882282], dtype=float32),\n",
       " array([0, 1, 2, 3, 4, 5, 6, 8, 0, 2, 3, 4, 5, 6, 7, 9, 1, 2, 3, 4, 5, 6,\n",
       "        7, 8, 0, 1, 2, 5, 6, 7, 8, 9, 0, 1, 3, 4, 5, 6, 7, 9, 1, 2, 3, 4,\n",
       "        5, 6, 7, 8, 1, 2, 3, 4, 5, 6, 7, 8, 0, 1, 2, 3, 5, 6, 7, 8, 0, 2,\n",
       "        3, 4, 5, 6, 7, 8, 0, 1, 2, 4, 5, 6, 7, 8, 1, 2, 3, 4, 5, 6, 7, 8,\n",
       "        0, 1, 3, 4, 5, 6, 7, 8, 1, 2, 3, 4, 6, 7, 8, 9, 0, 1, 2, 3, 4, 5,\n",
       "        7, 8, 1, 2, 3, 4, 5, 6, 7, 8, 1, 2, 3, 4, 6, 7, 8, 9], dtype=uint32),\n",
       " array([14, 14, 14, 14, 14, 14, 14, 14, 14, 14, 14, 14, 14, 14, 14, 14],\n",
       "       dtype=uint32),\n",
       " 8)"
      ]
     },
     "execution_count": 15,
     "metadata": {},
     "output_type": "execute_result"
    }
   ],
   "source": [
    "adata, acols, annz, ellwa = to_data(a)\n",
    "adata, acols, annz, ellwa"
   ]
  },
  {
   "cell_type": "code",
   "execution_count": 16,
   "id": "fbb29574",
   "metadata": {},
   "outputs": [],
   "source": [
    "#acols = acols.astype(np.uint32)\n",
    "#annz = annz.astype(np.uint32)"
   ]
  },
  {
   "cell_type": "code",
   "execution_count": 17,
   "id": "008c1a26",
   "metadata": {},
   "outputs": [
    {
     "data": {
      "text/plain": [
       "(array([0.089671  , 0.4675317 , 0.948669  , 0.34129092, 0.7441779 ,\n",
       "        0.6912271 , 0.6380468 , 0.29491878, 0.72575134, 0.9524359 ,\n",
       "        0.7259903 , 0.11879517, 0.21816276, 0.8774638 , 0.8249168 ,\n",
       "        0.5030116 , 0.9034296 , 0.02956247, 0.20012149, 0.71826017,\n",
       "        0.7981424 , 0.9808383 , 0.89859784, 0.35268545, 0.20730907,\n",
       "        0.8326533 , 0.835741  , 0.6671661 , 0.19827425, 0.09055655,\n",
       "        0.4038434 , 0.4818258 , 0.18672848, 0.3377082 , 0.06564762,\n",
       "        0.6301441 , 0.56500673, 0.3488573 , 0.05852222, 0.4681585 ,\n",
       "        0.9224949 , 0.61349076, 0.6767501 , 0.8192204 , 0.39698085,\n",
       "        0.9790268 , 0.7421206 , 0.68729335, 0.37744817, 0.46035504,\n",
       "        0.2347337 , 0.4166908 , 0.0396657 , 0.18275686, 0.45907152,\n",
       "        0.02111383, 0.6767637 , 0.76161575, 0.763897  , 0.35991043,\n",
       "        0.84069633, 0.6364964 , 0.508742  , 0.95465785, 0.8571827 ,\n",
       "        0.16747528, 0.98165   , 0.49625668, 0.8398048 , 0.34353253,\n",
       "        0.1809531 , 0.2465797 , 0.66205335, 0.82299536, 0.64974076,\n",
       "        0.15879217, 0.8438454 , 0.11739188, 0.8133482 , 0.77363443,\n",
       "        0.8566593 , 0.20506227, 0.43399355, 0.21357441, 0.5177184 ,\n",
       "        0.30087036, 0.01817185, 0.08926069, 0.18639891, 0.8528435 ,\n",
       "        0.24810188, 0.55306643, 0.4820051 , 0.3628249 , 0.3430501 ,\n",
       "        0.6713697 , 0.13052638, 0.4531264 , 0.820539  , 0.35050276,\n",
       "        0.7828129 , 0.69876444, 0.47237015, 0.81325287, 0.9354026 ,\n",
       "        0.5522307 , 0.04302345, 0.50827724, 0.30627424, 0.88733876,\n",
       "        0.34941226, 0.6669767 , 0.16868973, 0.9434112 , 0.76969355,\n",
       "        0.3265129 , 0.2547778 , 0.9478193 , 0.28160584, 0.01859022,\n",
       "        0.16126816, 0.03613574, 0.5314056 , 0.11087602, 0.40218636,\n",
       "        0.6220211 , 0.89620787, 0.35882282], dtype=float32),\n",
       " array([0, 1, 2, 3, 4, 5, 6, 8, 0, 2, 3, 4, 5, 6, 7, 9, 1, 2, 3, 4, 5, 6,\n",
       "        7, 8, 0, 1, 2, 5, 6, 7, 8, 9, 0, 1, 3, 4, 5, 6, 7, 9, 1, 2, 3, 4,\n",
       "        5, 6, 7, 8, 1, 2, 3, 4, 5, 6, 7, 8, 0, 1, 2, 3, 5, 6, 7, 8, 0, 2,\n",
       "        3, 4, 5, 6, 7, 8, 0, 1, 2, 4, 5, 6, 7, 8, 1, 2, 3, 4, 5, 6, 7, 8,\n",
       "        0, 1, 3, 4, 5, 6, 7, 8, 1, 2, 3, 4, 6, 7, 8, 9, 0, 1, 2, 3, 4, 5,\n",
       "        7, 8, 1, 2, 3, 4, 5, 6, 7, 8, 1, 2, 3, 4, 6, 7, 8, 9], dtype=uint32),\n",
       " array([14, 14, 14, 14, 14, 14, 14, 14, 14, 14, 14, 14, 14, 14, 14, 14],\n",
       "       dtype=uint32),\n",
       " array([0.74215895, 0.8010809 , 0.04959606, 0.6146407 , 0.56148374,\n",
       "        0.06110566, 0.07765984, 0.4009042 , 0.30698782, 0.743955  ,\n",
       "        0.35747224, 0.38638905, 0.11459033, 0.66994804, 0.9077079 ,\n",
       "        0.13353543], dtype=float32))"
      ]
     },
     "execution_count": 17,
     "metadata": {},
     "output_type": "execute_result"
    }
   ],
   "source": [
    "adata, acols, annz, b"
   ]
  },
  {
   "cell_type": "code",
   "execution_count": 18,
   "id": "6e741bf7",
   "metadata": {},
   "outputs": [],
   "source": [
    "adata_buf = cl.Buffer(ctx, mf.READ_WRITE | mf.COPY_HOST_PTR, hostbuf=adata)\n",
    "acols_buf = cl.Buffer(ctx, mf.READ_WRITE | mf.COPY_HOST_PTR, hostbuf=acols)\n",
    "annzs_buf = cl.Buffer(ctx, mf.READ_WRITE | mf.COPY_HOST_PTR, hostbuf=annz)\n",
    "b_buf = cl.Buffer(ctx, mf.READ_WRITE | mf.COPY_HOST_PTR, hostbuf=b)\n",
    "\n",
    "prg = cl.Program(ctx, \"\"\"\n",
    "// Every global_id_0 works on a row\n",
    "__kernel void SpMVNaive(__global  float* matData,     // INPUT MATRIX DATA\n",
    "                        __global  uint*  colIdx,\n",
    "                        __global  uint*  rowNnz,\n",
    "                        uint   ellwidth,\n",
    "                        __global  float* vector_x,    // INPUT\n",
    "                        __global  float* vector_y    // OUTPUT\n",
    "                        ) { // LOCAL SHARED BUFFER\n",
    "  uint gid = get_global_id(0);\n",
    "  \n",
    "  \n",
    "  uint nnz    = rowNnz[gid];\n",
    "  float sum = 0;\n",
    "  for (uint i = 0; i < nnz; i++) {\n",
    "    uint index   = gid * ellwidth + i;\n",
    "    uint col     = colIdx[index];\n",
    "    float aval  = matData[index];\n",
    "    float xval  = vector_x[col];\n",
    "    printf(\"aval, xval: %.2f,%.2f:%i-%i \\\\n\", aval, xval, col, index);\n",
    "    sum  += aval * xval;\n",
    "  }\n",
    "  printf(\"SUM/NNZ: %.2f %i \\\\n\", sum, nnz);\n",
    "  vector_y[gid] = sum;\n",
    "}\"\"\").build()"
   ]
  },
  {
   "cell_type": "code",
   "execution_count": 19,
   "id": "b4c85bcb",
   "metadata": {},
   "outputs": [
    {
     "data": {
      "text/plain": [
       "((16, 16), (16,))"
      ]
     },
     "execution_count": 19,
     "metadata": {},
     "output_type": "execute_result"
    }
   ],
   "source": [
    "a.shape, b.shape"
   ]
  },
  {
   "cell_type": "code",
   "execution_count": 20,
   "id": "c740a4fe",
   "metadata": {},
   "outputs": [
    {
     "data": {
      "text/plain": [
       "array([0., 0., 0., 0., 0., 0., 0., 0., 0., 0., 0., 0., 0., 0., 0., 0.],\n",
       "      dtype=float32)"
      ]
     },
     "execution_count": 20,
     "metadata": {},
     "output_type": "execute_result"
    }
   ],
   "source": [
    "res = np.zeros(a.shape[0]).astype(np.float32)\n",
    "res"
   ]
  },
  {
   "cell_type": "code",
   "execution_count": 21,
   "id": "07aa4d30",
   "metadata": {},
   "outputs": [],
   "source": [
    "rows = a.shape[0]"
   ]
  },
  {
   "cell_type": "code",
   "execution_count": 22,
   "id": "a72195ae",
   "metadata": {},
   "outputs": [
    {
     "data": {
      "text/plain": [
       "array([8], dtype=uint32)"
      ]
     },
     "execution_count": 22,
     "metadata": {},
     "output_type": "execute_result"
    }
   ],
   "source": [
    "ellw = np.array([ellwa]).astype(np.uint32)\n",
    "ellw"
   ]
  },
  {
   "cell_type": "code",
   "execution_count": 23,
   "id": "98da857f",
   "metadata": {},
   "outputs": [],
   "source": [
    "mult = mult.astype(np.float32)"
   ]
  },
  {
   "cell_type": "code",
   "execution_count": 24,
   "id": "def43deb",
   "metadata": {},
   "outputs": [
    {
     "data": {
      "text/plain": [
       "array([2.918638 , 3.471614 , 3.0830247, 2.9432907, 2.0237234, 4.1637073,\n",
       "       1.8016082, 3.0400867, 2.9880037, 3.3085284, 1.9930675, 2.9867   ,\n",
       "       3.2983463, 3.7036283, 3.035087 , 2.1589086], dtype=float32)"
      ]
     },
     "execution_count": 24,
     "metadata": {},
     "output_type": "execute_result"
    }
   ],
   "source": [
    "mult"
   ]
  },
  {
   "cell_type": "code",
   "execution_count": 25,
   "id": "67fcc1a1",
   "metadata": {},
   "outputs": [
    {
     "data": {
      "text/plain": [
       "64"
      ]
     },
     "execution_count": 25,
     "metadata": {},
     "output_type": "execute_result"
    }
   ],
   "source": [
    "mult.nbytes"
   ]
  },
  {
   "cell_type": "code",
   "execution_count": 26,
   "id": "2d6c6f20",
   "metadata": {},
   "outputs": [
    {
     "data": {
      "text/plain": [
       "64"
      ]
     },
     "execution_count": 26,
     "metadata": {},
     "output_type": "execute_result"
    }
   ],
   "source": [
    "len(mult)*4"
   ]
  },
  {
   "cell_type": "code",
   "execution_count": 27,
   "id": "cc7365fc",
   "metadata": {},
   "outputs": [
    {
     "name": "stdout",
     "output_type": "stream",
     "text": [
      "aval, xval: 0.09,0.74:0-0 \n",
      "aval, xval: 0.73,0.74:0-8 \n",
      "aval, xval: 0.90,0.80:1-16 \n",
      "aval, xval: 0.21,0.74:0-24 \n",
      "aval, xval: 0.19,0.74:0-32 \n",
      "aval, xval: 0.92,0.80:1-40 \n",
      "aval, xval: 0.38,0.80:1-48 \n",
      "aval, xval: 0.68,0.74:0-56 \n",
      "aval, xval: 0.86,0.74:0-64 \n",
      "aval, xval: 0.66,0.74:0-72 \n",
      "aval, xval: 0.86,0.80:1-80 \n",
      "aval, xval: 0.19,0.74:0-88 \n",
      "aval, xval: 0.13,0.80:1-96 \n",
      "aval, xval: 0.94,0.74:0-104 \n",
      "aval, xval: 0.17,0.80:1-112 \n",
      "aval, xval: 0.16,0.80:1-120 \n",
      "aval, xval: 0.47,0.80:1-1 \n",
      "aval, xval: 0.95,0.05:2-9 \n",
      "aval, xval: 0.03,0.05:2-17 \n",
      "aval, xval: 0.83,0.80:1-25 \n",
      "aval, xval: 0.34,0.80:1-33 \n",
      "aval, xval: 0.61,0.05:2-41 \n",
      "aval, xval: 0.46,0.05:2-49 \n",
      "aval, xval: 0.76,0.80:1-57 \n",
      "aval, xval: 0.17,0.05:2-65 \n",
      "aval, xval: 0.82,0.80:1-73 \n",
      "aval, xval: 0.21,0.05:2-81 \n",
      "aval, xval: 0.85,0.80:1-89 \n",
      "aval, xval: 0.45,0.05:2-97 \n",
      "aval, xval: 0.55,0.80:1-105 \n",
      "aval, xval: 0.94,0.05:2-113 \n",
      "aval, xval: 0.04,0.05:2-121 \n",
      "aval, xval: 0.95,0.05:2-2 \n",
      "aval, xval: 0.73,0.61:3-10 \n",
      "aval, xval: 0.20,0.61:3-18 \n",
      "aval, xval: 0.84,0."
     ]
    },
    {
     "data": {
      "text/plain": [
       "<pyopencl._cl.NannyEvent at 0x7fcbac13f090>"
      ]
     },
     "execution_count": 27,
     "metadata": {},
     "output_type": "execute_result"
    },
    {
     "name": "stdout",
     "output_type": "stream",
     "text": [
      "05:2-26 \n",
      "aval, xval: 0.07,0.61:3-34 \n",
      "aval, xval: 0.68,0.61:3-42 \n",
      "aval, xval: 0.23,0.61:3-50 \n",
      "aval, xval: 0.76,0.05:2-58 \n",
      "aval, xval: 0.98,0.61:3-66 \n",
      "aval, xval: 0.65,0.05:2-74 \n",
      "aval, xval: 0.43,0.61:3-82 \n",
      "aval, xval: 0.25,0.61:3-90 \n",
      "aval, xval: 0.82,0.61:3-98 \n",
      "aval, xval: 0.04,0.05:2-106 \n",
      "aval, xval: 0.77,0.61:3-114 \n",
      "aval, xval: 0.53,0.61:3-122 \n",
      "aval, xval: 0.34,0.61:3-3 \n",
      "aval, xval: 0.12,0.56:4-11 \n",
      "aval, xval: 0.72,0.56:4-19 \n",
      "aval, xval: 0.67,0.06:5-27 \n",
      "aval, xval: 0.63,0.56:4-35 \n",
      "aval, xval: 0.82,0.56:4-43 \n",
      "aval, xval: 0.42,0.56:4-51 \n",
      "aval, xval: 0.36,0.61:3-59 \n",
      "aval, xval: 0.50,0.56:4-67 \n",
      "aval, xval: 0.16,0.56:4-75 \n",
      "aval, xval: 0.21,0.56:4-83 \n",
      "aval, xval: 0.55,0.56:4-91 \n",
      "aval, xval: 0.35,0.56:4-99 \n",
      "aval, xval: 0.51,0.61:3-107 \n",
      "aval, xval: 0.33,0.56:4-115 \n",
      "aval, xval: 0.11,0.56:4-123 \n",
      "aval, xval: 0.74,0.56:4-4 \n",
      "aval, xval: 0.22,0.06:5-12 \n",
      "aval, xval: 0.80,0.06:5-20 \n",
      "aval, xval: 0.20,0.08:6-28 \n",
      "aval, xval: 0.57,0.06:5-36 \n",
      "aval, xval: 0.40,0.06:5-44 \n",
      "aval, xval: 0.04,0.06:5-52 \n",
      "aval, xval: 0.84,0.06:5-60 \n",
      "aval, xval: 0.84,0.06:5-68 \n",
      "aval, xval: 0.84,0.06:5-76 \n",
      "aval, xval: 0.52,0.06:5-84 \n",
      "aval, xval: 0.48,0.06:5-92 \n",
      "aval, xval: 0.78,0.08:6-100 \n",
      "aval, xval: 0.31,0.56:4-108 \n",
      "aval, xval: 0.25,0.06:5-116 \n",
      "aval, xval: 0.40,0.08:6-124 \n",
      "aval, xval: 0.69,0.06:5-5 \n",
      "aval, xval: 0.88,0.08:6-13 \n",
      "aval, xval: 0.98,0.08:6-21 \n",
      "aval, xval: 0.09,0.40:7-29 \n",
      "aval, xval: 0.35,0.08:6-37 \n",
      "aval, xval: 0.98,0.08:6-45 \n",
      "aval, xval: 0.18,0.08:6-53 \n",
      "aval, xval: 0.64,0.08:6-61 \n",
      "aval, xval: 0.34,0.08:6-69 \n",
      "aval, xval: 0.12,0.08:6-77 \n",
      "aval, xval: 0.30,0.08:6-85 \n",
      "aval, xval: 0.36,0.08:6-93 \n",
      "aval, xval: 0.70,0.40:7-101 \n",
      "aval, xval: 0.89,0.06:5-109 \n",
      "aval, xval: 0.95,0.08:6-117 \n",
      "aval, xval: 0.62,0.40:7-125 \n",
      "aval, xval: 0.64,0.08:6-6 \n",
      "aval, xval: 0.82,0.40:7-14 \n",
      "aval, xval: 0.90,0.40:7-22 \n",
      "aval, xval: 0.40,0.31:8-30 \n",
      "aval, xval: 0.06,0.40:7-38 \n",
      "aval, xval: 0.74,0.40:7-46 \n",
      "aval, xval: 0.46,0.40:7-54 \n",
      "aval, xval: 0.51,0.40:7-62 \n",
      "aval, xval: 0.18,0.40:7-70 \n",
      "aval, xval: 0.81,0.40:7-78 \n",
      "aval, xval: 0.02,0.40:7-86 \n",
      "aval, xval: 0.34,0.40:7-94 \n",
      "aval, xval: 0.47,0.31:8-102 \n",
      "aval, xval: 0.35,0.40:7-110 \n",
      "aval, xval: 0.28,0.40:7-118 \n",
      "aval, xval: 0.90,0.31:8-126 \n",
      "aval, xval: 0.29,0.31:8-7 \n",
      "aval, xval: 0.50,0.74:9-15 \n",
      "aval, xval: 0.35,0.31:8-23 \n",
      "aval, xval: 0.48,0.74:9-31 \n",
      "aval, xval: 0.47,0.74:9-39 \n",
      "aval, xval: 0.69,0.31:8-47 \n",
      "aval, xval: 0.02,0.31:8-55 \n",
      "aval, xval: 0.95,0.31:8-63 \n",
      "aval, xval: 0.25,0.31:8-71 \n",
      "aval, xval: 0.77,0.31:8-79 \n",
      "aval, xval: 0.09,0.31:8-87 \n",
      "aval, xval: 0.67,0.31:8-95 \n",
      "aval, xval: 0.81,0.74:9-103 \n",
      "aval, xval: 0.67,0.31:8-111 \n",
      "aval, xval: 0.02,0.31:8-119 \n",
      "aval, xval: 0.36,0.74:9-127 \n",
      "aval, xval: 0.73,0.74:0-8 \n",
      "aval, xval: 0.90,0.80:1-16 \n",
      "aval, xval: 0.21,0.74:0-24 \n",
      "aval, xval: 0.19,0.74:0-32 \n",
      "aval, xval: 0.92,0.80:1-40 \n",
      "aval, xval: 0.38,0.80:1-48 \n",
      "aval, xval: 0.68,0.74:0-56 \n",
      "aval, xval: 0.86,0.74:0-64 \n",
      "aval, xval: 0.66,0.74:0-72 \n",
      "aval, xval: 0.86,0.80:1-80 \n",
      "aval, xval: 0.19,0.74:0-88 \n",
      "aval, xval: 0.13,0.80:1-96 \n",
      "aval, xval: 0.94,0.74:0-104 \n",
      "aval, xval: 0.17,0.80:1-112 \n",
      "aval, xval: 0.16,0.80:1-120 \n",
      "aval, xval: 0.00,0.91:14-128 \n",
      "aval, xval: 0.95,0.05:2-9 \n",
      "aval, xval: 0.03,0.05:2-17 \n",
      "aval, xval: 0.83,0.80:1-25 \n",
      "aval, xval: 0.34,0.80:1-33 \n",
      "aval, xval: 0.61,0.05:2-41 \n",
      "aval, xval: 0.46,0.05:2-49 \n",
      "aval, xval: 0.76,0.80:1-57 \n",
      "aval, xval: 0.17,0.05:2-65 \n",
      "aval, xval: 0.82,0.80:1-73 \n",
      "aval, xval: 0.21,0.05:2-81 \n",
      "aval, xval: 0.85,0.80:1-89 \n",
      "aval, xval: 0.45,0.05:2-97 \n",
      "aval, xval: 0.55,0.80:1-105 \n",
      "aval, xval: 0.94,0.05:2-113 \n",
      "aval, xval: 0.04,0.05:2-121 \n",
      "aval, xval: 0.00,0.91:14-129 \n",
      "aval, xval: 0.73,0.61:3-10 \n",
      "aval, xval: 0.20,0.61:3-18 \n",
      "aval, xval: 0.84,0.05:2-26 \n",
      "aval, xval: 0.07,0.61:3-34 \n",
      "aval, xval: 0.68,0.61:3-42 \n",
      "aval, xval: 0.23,0.61:3-50 \n",
      "aval, xval: 0.76,0.05:2-58 \n",
      "aval, xval: 0.98,0.61:3-66 \n",
      "aval, xval: 0.65,0.05:2-74 \n",
      "aval, xval: 0.43,0.61:3-82 \n",
      "aval, xval: 0.25,0.61:3-90 \n",
      "aval, xval: 0.82,0.61:3-98 \n",
      "aval, xval: 0.04,0.05:2-106 \n",
      "aval, xval: 0.77,0.61:3-114 \n",
      "aval, xval: 0.53,0.61:3-122 \n",
      "aval, xval: 0.00,0.91:14-130 \n",
      "aval, xval: 0.12,0.56:4-11 \n",
      "aval, xval: 0.72,0.56:4-19 \n",
      "aval, xval: 0.67,0.06:5-27 \n",
      "aval, xval: 0.63,0.56:4-35 \n",
      "aval, xval: 0.82,0.56:4-43 \n",
      "aval, xval: 0.42,0.56:4-51 \n",
      "aval, xval: 0.36,0.61:3-59 \n",
      "aval, xval: 0.50,0.56:4-67 \n",
      "aval, xval: 0.16,0.56:4-75 \n",
      "aval, xval: 0.21,0.56:4-83 \n",
      "aval, xval: 0.55,0.56:4-91 \n",
      "aval, xval: 0.35,0.56:4-99 \n",
      "aval, xval: 0.51,0.61:3-107 \n",
      "aval, xval: 0.33,0.56:4-115 \n",
      "aval, xval: 0.11,0.56:4-123 \n",
      "aval, xval: 0.00,0.91:14-131 \n",
      "aval, xval: 0.22,0.06:5-12 \n",
      "aval, xval: 0.80,0.06:5-20 \n",
      "aval, xval: 0.20,0.08:6-28 \n",
      "aval, xval: 0.57,0.06:5-36 \n",
      "aval, xval: 0.40,0.06:5-44 \n",
      "aval, xval: 0.04,0.06:5-52 \n",
      "aval, xval: 0.84,0.06:5-60 \n",
      "aval, xval: 0.84,0.06:5-68 \n",
      "aval, xval: 0.84,0.06:5-76 \n",
      "aval, xval: 0.52,0.06:5-84 \n",
      "aval, xval: 0.48,0.06:5-92 \n",
      "aval, xval: 0.78,0.08:6-100 \n",
      "aval, xval: 0.31,0.56:4-108 \n",
      "aval, xval: 0.25,0.06:5-116 \n",
      "aval, xval: 0.40,0.08:6-124 \n",
      "aval, xval: 0.00,0.91:14-132 \n",
      "aval, xval: 0.88,0.08:6-13 \n",
      "aval, xval: 0.98,0.08:6-21 \n",
      "aval, xval: 0.09,0.40:7-29 \n",
      "aval, xval: 0.35,0.08:6-37 \n",
      "aval, xval: 0.98,0.08:6-45 \n",
      "aval, xval: 0.18,0.08:6-53 \n",
      "aval, xval: 0.64,0.08:6-61 \n",
      "aval, xval: 0.34,0.08:6-69 \n",
      "aval, xval: 0.12,0.08:6-77 \n",
      "aval, xval: 0.30,0.08:6-85 \n",
      "aval, xval: 0.36,0.08:6-93 \n",
      "aval, xval: 0.70,0.40:7-101 \n",
      "aval, xval: 0.89,0.06:5-109 \n",
      "aval, xval: 0.95,0.08:6-117 \n",
      "aval, xval: 0.62,0.40:7-125 \n",
      "aval, xval: 0.00,0.91:14-133 \n",
      "SUM/NNZ: 2.48 14 \n",
      "SUM/NNZ: 3.26 14 \n",
      "SUM/NNZ: 2.80 14 \n",
      "SUM/NNZ: 2.30 14 \n",
      "SUM/NNZ: 2.98 14 \n",
      "SUM/NNZ: 2.97 14 \n",
      "SUM/NNZ: 2.38 14 \n",
      "SUM/NNZ: 3.57 14 \n",
      "SUM/NNZ: 3.09 14 \n",
      "SUM/NNZ: 3.03 14 \n",
      "SUM/NNZ: 2.51 14 \n",
      "SUM/NNZ: 2.85 14 \n",
      "SUM/NNZ: 3.60 14 \n",
      "SUM/NNZ: 2.95 14 \n",
      "SUM/NNZ: 1.85 14 \n",
      "SUM/NNZ: 1.34 14 \n"
     ]
    }
   ],
   "source": [
    "res_buf = cl.Buffer(ctx, mf.WRITE_ONLY, mult.nbytes)\n",
    "knl = prg.SpMVNaive  # Use this Kernel object for repeated calls\n",
    "knl(queue, [rows,], None, adata_buf, acols_buf, annzs_buf, ellw, b_buf, res_buf)\n",
    "\n",
    "res_np = np.empty_like(a)\n",
    "cl.enqueue_copy(queue, res, res_buf)"
   ]
  },
  {
   "cell_type": "code",
   "execution_count": 28,
   "id": "33d8a584",
   "metadata": {},
   "outputs": [
    {
     "data": {
      "text/plain": [
       "<pyopencl._cl.Buffer at 0x7fcb6422e8b0>"
      ]
     },
     "execution_count": 28,
     "metadata": {},
     "output_type": "execute_result"
    }
   ],
   "source": [
    "res_buf"
   ]
  },
  {
   "cell_type": "code",
   "execution_count": 29,
   "id": "c197fea2",
   "metadata": {},
   "outputs": [
    {
     "data": {
      "text/plain": [
       "array([2.4783304, 3.2616131, 2.799744 , 2.302127 , 2.9822927, 2.9742126,\n",
       "       2.3828678, 3.5737798, 3.08541  , 3.0343633, 2.5149763, 2.8549328,\n",
       "       3.5964699, 2.9496803, 1.8465844, 1.3425372], dtype=float32)"
      ]
     },
     "execution_count": 29,
     "metadata": {},
     "output_type": "execute_result"
    }
   ],
   "source": [
    "res"
   ]
  },
  {
   "cell_type": "code",
   "execution_count": 30,
   "id": "b20b9da3",
   "metadata": {},
   "outputs": [
    {
     "data": {
      "text/plain": [
       "array([2.918638 , 3.471614 , 3.0830247, 2.9432907, 2.0237234, 4.1637073,\n",
       "       1.8016082, 3.0400867, 2.9880037, 3.3085284, 1.9930675, 2.9867   ,\n",
       "       3.2983463, 3.7036283, 3.035087 , 2.1589086], dtype=float32)"
      ]
     },
     "execution_count": 30,
     "metadata": {},
     "output_type": "execute_result"
    }
   ],
   "source": [
    "mult"
   ]
  },
  {
   "cell_type": "code",
   "execution_count": 31,
   "id": "2a6322f5",
   "metadata": {},
   "outputs": [
    {
     "data": {
      "text/plain": [
       "-2.9380414"
      ]
     },
     "execution_count": 31,
     "metadata": {},
     "output_type": "execute_result"
    }
   ],
   "source": [
    "(res-mult).sum()"
   ]
  },
  {
   "cell_type": "markdown",
   "id": "b3ad7225",
   "metadata": {},
   "source": [
    "## Weight update kernel"
   ]
  },
  {
   "cell_type": "code",
   "execution_count": 31,
   "id": "76e44e2d",
   "metadata": {},
   "outputs": [
    {
     "data": {
      "text/plain": [
       "((16,), (16,))"
      ]
     },
     "execution_count": 31,
     "metadata": {},
     "output_type": "execute_result"
    }
   ],
   "source": [
    "dim = 16\n",
    "topk = 4\n",
    "\n",
    "x = np.random.rand(dim).astype(np.float32)\n",
    "y = np.random.rand(dim).astype(np.float32)\n",
    "x.shape,y.shape"
   ]
  },
  {
   "cell_type": "code",
   "execution_count": 32,
   "id": "75611f3a",
   "metadata": {},
   "outputs": [],
   "source": [
    "x_buf = cl.Buffer(ctx, mf.READ_ONLY | mf.COPY_HOST_PTR, hostbuf=x)\n",
    "y_buf = cl.Buffer(ctx, mf.READ_ONLY | mf.COPY_HOST_PTR, hostbuf=y)\n",
    "x_cp_buf = cl.Buffer(ctx, mf.WRITE_ONLY, x.nbytes)\n",
    "x_idx_buf = cl.Buffer(ctx, mf.WRITE_ONLY, x.nbytes)\n",
    "y_cp_buf = cl.Buffer(ctx, mf.WRITE_ONLY, x.nbytes)\n",
    "y_idx_buf = cl.Buffer(ctx, mf.WRITE_ONLY, x.nbytes)\n",
    "\n",
    "prg = cl.Program(ctx, \"\"\"\n",
    "// Every global_id_0 works on a row\n",
    "__kernel void genwupdate(__global  float* x,     // INPUT MATRIX DATA\n",
    "                         __global  float* y,    // INPUT\n",
    "                         __global  float* xout,    // INPUT\n",
    "                         __global  uint* xoutidx,    // INPUT\n",
    "                         __global  float* yout,    // INPUT\n",
    "                         __global  uint* youtidx    // INPUT\n",
    "                        ) { // LOCAL SHARED BUFFER\n",
    "  uint gid = get_global_id(0);\n",
    "  uint n = get_global_size(0);\n",
    "  \n",
    "  xout[gid] = x[gid];\n",
    "  xoutidx[gid] = gid;\n",
    "  yout[gid] = y[gid];\n",
    "  youtidx[gid] = gid;\n",
    "  \n",
    "  float valx = x[gid];\n",
    "  float valy = y[gid];\n",
    "  uint idx = xoutidx[gid];\n",
    "  uint posx = 0;\n",
    "  uint posy = 0;\n",
    "  for (uint i = 0; i < n; i++) {\n",
    "    float tempval = x[i];\n",
    "    float tempval2 = y[i];\n",
    "    bool smaller = tempval > valx;\n",
    "    bool smaller2 = tempval2 > valy;\n",
    "      \n",
    "    posx += (smaller)?1:0;\n",
    "    posy += (smaller2)?1:0;\n",
    "  }\n",
    "  //printf(\"posx:%i\", posx);\n",
    "  xout[posx] = valx;\n",
    "  xoutidx[posx] = gid;\n",
    "  yout[posy] = valy;\n",
    "  youtidx[posy] = gid;\n",
    "}\"\"\").build()"
   ]
  },
  {
   "cell_type": "code",
   "execution_count": 33,
   "id": "94682965",
   "metadata": {},
   "outputs": [
    {
     "data": {
      "text/plain": [
       "<pyopencl._cl.NannyEvent at 0x7efbc820fe50>"
      ]
     },
     "execution_count": 33,
     "metadata": {},
     "output_type": "execute_result"
    }
   ],
   "source": [
    "knl = prg.genwupdate  # Use this Kernel object for repeated calls\n",
    "knl(queue, [dim,], None, x_buf, y_buf, x_cp_buf, x_idx_buf, y_cp_buf, y_idx_buf)\n",
    "\n",
    "resx = np.zeros(dim).astype(np.float32)\n",
    "resxidx = np.zeros(dim).astype(np.uint32)\n",
    "resy = np.zeros(dim).astype(np.float32)\n",
    "resyidx = np.zeros(dim).astype(np.uint32)\n",
    "\n",
    "cl.enqueue_copy(queue, resx, x_cp_buf)\n",
    "cl.enqueue_copy(queue, resxidx, x_idx_buf)\n",
    "cl.enqueue_copy(queue, resy, y_cp_buf)\n",
    "cl.enqueue_copy(queue, resyidx, y_idx_buf)"
   ]
  },
  {
   "cell_type": "code",
   "execution_count": 34,
   "id": "88725ae2",
   "metadata": {},
   "outputs": [
    {
     "data": {
      "text/plain": [
       "array([0.38436326, 0.6282593 , 0.23239243, 0.84487927, 0.34840786,\n",
       "       0.0562746 , 0.5742207 , 0.1643646 , 0.7778896 , 0.2617748 ,\n",
       "       0.15786238, 0.94446903, 0.43403378, 0.5977317 , 0.28563315,\n",
       "       0.32617348], dtype=float32)"
      ]
     },
     "execution_count": 34,
     "metadata": {},
     "output_type": "execute_result"
    }
   ],
   "source": [
    "x"
   ]
  },
  {
   "cell_type": "code",
   "execution_count": 35,
   "id": "a1f20d07",
   "metadata": {},
   "outputs": [
    {
     "data": {
      "text/plain": [
       "array([0.94446903, 0.84487927, 0.7778896 , 0.6282593 , 0.5977317 ,\n",
       "       0.5742207 , 0.43403378, 0.38436326, 0.34840786, 0.32617348,\n",
       "       0.28563315, 0.2617748 , 0.23239243, 0.1643646 , 0.15786238,\n",
       "       0.0562746 ], dtype=float32)"
      ]
     },
     "execution_count": 35,
     "metadata": {},
     "output_type": "execute_result"
    }
   ],
   "source": [
    "resx"
   ]
  },
  {
   "cell_type": "code",
   "execution_count": 36,
   "id": "c555bd00",
   "metadata": {},
   "outputs": [
    {
     "data": {
      "text/plain": [
       "array([11,  3,  8,  1, 13,  6, 12,  0,  4, 15, 14,  9,  2,  7, 10,  5],\n",
       "      dtype=uint32)"
      ]
     },
     "execution_count": 36,
     "metadata": {},
     "output_type": "execute_result"
    }
   ],
   "source": [
    "resxidx"
   ]
  },
  {
   "cell_type": "code",
   "execution_count": 37,
   "id": "4c150d0f",
   "metadata": {},
   "outputs": [
    {
     "data": {
      "text/plain": [
       "array([0.34142965, 0.912634  , 0.22059757, 0.38525775, 0.5819617 ,\n",
       "       0.17507966, 0.40275997, 0.48376763, 0.7341737 , 0.14274661,\n",
       "       0.5187501 , 0.41498157, 0.20583646, 0.07330994, 0.31233174,\n",
       "       0.910271  ], dtype=float32)"
      ]
     },
     "execution_count": 37,
     "metadata": {},
     "output_type": "execute_result"
    }
   ],
   "source": [
    "y"
   ]
  },
  {
   "cell_type": "code",
   "execution_count": 38,
   "id": "2445b2e5",
   "metadata": {},
   "outputs": [
    {
     "data": {
      "text/plain": [
       "array([0.912634  , 0.910271  , 0.7341737 , 0.5819617 , 0.5187501 ,\n",
       "       0.48376763, 0.41498157, 0.40275997, 0.38525775, 0.34142965,\n",
       "       0.31233174, 0.22059757, 0.20583646, 0.17507966, 0.14274661,\n",
       "       0.07330994], dtype=float32)"
      ]
     },
     "execution_count": 38,
     "metadata": {},
     "output_type": "execute_result"
    }
   ],
   "source": [
    "resy"
   ]
  },
  {
   "cell_type": "code",
   "execution_count": 39,
   "id": "f366fda3",
   "metadata": {},
   "outputs": [
    {
     "data": {
      "text/plain": [
       "array([ 1, 15,  8,  4, 10,  7, 11,  6,  3,  0, 14,  2, 12,  5,  9, 13],\n",
       "      dtype=uint32)"
      ]
     },
     "execution_count": 39,
     "metadata": {},
     "output_type": "execute_result"
    }
   ],
   "source": [
    "resyidx"
   ]
  },
  {
   "cell_type": "markdown",
   "id": "35d27aaf",
   "metadata": {},
   "source": [
    "## Weight update kernel"
   ]
  },
  {
   "cell_type": "markdown",
   "id": "616a26c2",
   "metadata": {},
   "source": [
    "dim = 16\n",
    "topk = 4\n",
    "\n",
    "x = np.random.rand(dim).astype(np.float32)\n",
    "y = np.random.rand(dim).astype(np.float32)\n",
    "x.shape,y.shape"
   ]
  },
  {
   "cell_type": "code",
   "execution_count": 40,
   "id": "63654cb6",
   "metadata": {},
   "outputs": [],
   "source": [
    "x_buf = cl.Buffer(ctx, mf.READ_ONLY | mf.COPY_HOST_PTR, hostbuf=x)\n",
    "y_buf = cl.Buffer(ctx, mf.READ_ONLY | mf.COPY_HOST_PTR, hostbuf=y)\n",
    "x_cp_buf = cl.Buffer(ctx, mf.WRITE_ONLY, 4*topk*topk)\n",
    "x_idx_buf = cl.Buffer(ctx, mf.WRITE_ONLY, 4*topk)\n",
    "y_idx_buf = cl.Buffer(ctx, mf.WRITE_ONLY, 4*topk)\n",
    "\n",
    "prg = cl.Program(ctx, \"\"\"\n",
    "// Every global_id_0 works on a row\n",
    "__kernel void genwupdate2(__global  float* x,     // INPUT MATRIX DATA\n",
    "                             __global  float* y,    // INPUT\n",
    "                             __global  float* xout,    // INPUT\n",
    "                             uint topk,\n",
    "                             __global  uint* xoutidx,    // INPUT\n",
    "                             __global  uint* youtidx    // INPUT\n",
    "                            ) { // LOCAL SHARED BUFFER\n",
    "      uint gid = get_global_id(0);\n",
    "      uint n = get_global_size(0);\n",
    "\n",
    "      xout[gid] = x[gid];\n",
    "      xoutidx[gid] = gid;\n",
    "      youtidx[gid] = gid;\n",
    "\n",
    "      float valx = x[gid];\n",
    "      float valy = y[gid];\n",
    "      uint posx = 0;\n",
    "      uint posy = 0;\n",
    "      for (uint i = 0; i < n; i++) {\n",
    "        float tempval = x[i];\n",
    "        float tempval2 = y[i];\n",
    "        bool larger = tempval > valx;\n",
    "        bool larger2 = tempval2 > valy;\n",
    "\n",
    "        posx += (larger)?1:0;\n",
    "        posy += (larger2)?1:0;\n",
    "      }\n",
    "      //printf(\"posx:%i\", posx);\n",
    "      if (posx < topk) {\n",
    "        xoutidx[posx] = gid;\n",
    "      }\n",
    "      if (posy < topk) {\n",
    "        youtidx[posy] = gid;\n",
    "      }\n",
    "      if (gid < topk) {\n",
    "        uint i = gid;\n",
    "        for (uint j=0; j<topk; j++) {\n",
    "          xout[gid*topk+j] = x[xoutidx[gid]] * y[youtidx[j]];\n",
    "        }\n",
    "      }\n",
    "    }\"\"\").build()"
   ]
  },
  {
   "cell_type": "code",
   "execution_count": 41,
   "id": "bd74c33a",
   "metadata": {},
   "outputs": [
    {
     "data": {
      "text/plain": [
       "<pyopencl._cl.NannyEvent at 0x7efbc821f4f0>"
      ]
     },
     "execution_count": 41,
     "metadata": {},
     "output_type": "execute_result"
    }
   ],
   "source": [
    "knl = prg.genwupdate2  # Use this Kernel object for repeated calls\n",
    "knl(queue, [dim,], None, x_buf, y_buf, x_cp_buf, np.uint32(topk), x_idx_buf, y_idx_buf)\n",
    "\n",
    "resx = np.zeros(dim).astype(np.float32)\n",
    "resxidx = np.zeros(topk).astype(np.uint32)\n",
    "resyidx = np.zeros(topk).astype(np.uint32)\n",
    "\n",
    "cl.enqueue_copy(queue, resx, x_cp_buf)\n",
    "cl.enqueue_copy(queue, resxidx, x_idx_buf)\n",
    "cl.enqueue_copy(queue, resyidx, y_idx_buf)"
   ]
  },
  {
   "cell_type": "code",
   "execution_count": 42,
   "id": "bf01df9d",
   "metadata": {},
   "outputs": [
    {
     "data": {
      "text/plain": [
       "array([0.38436326, 0.6282593 , 0.23239243, 0.84487927, 0.34840786,\n",
       "       0.0562746 , 0.5742207 , 0.1643646 , 0.7778896 , 0.2617748 ,\n",
       "       0.15786238, 0.94446903, 0.43403378, 0.5977317 , 0.28563315,\n",
       "       0.32617348], dtype=float32)"
      ]
     },
     "execution_count": 42,
     "metadata": {},
     "output_type": "execute_result"
    }
   ],
   "source": [
    "x"
   ]
  },
  {
   "cell_type": "code",
   "execution_count": 43,
   "id": "18c69f8d",
   "metadata": {},
   "outputs": [
    {
     "data": {
      "text/plain": [
       "array([0.86195457, 0.85972273, 0.6934043 , 0.54964477, 0.77106553,\n",
       "       0.7690691 , 0.62028813, 0.49168736, 0.7099285 , 0.70809036,\n",
       "       0.5711061 , 0.45270196, 0.5733708 , 0.57188624, 0.46125147,\n",
       "       0.36562285], dtype=float32)"
      ]
     },
     "execution_count": 43,
     "metadata": {},
     "output_type": "execute_result"
    }
   ],
   "source": [
    "resx"
   ]
  },
  {
   "cell_type": "code",
   "execution_count": 44,
   "id": "1728a454",
   "metadata": {},
   "outputs": [
    {
     "data": {
      "text/plain": [
       "array([[0.86195457, 0.85972273, 0.6934043 , 0.54964477],\n",
       "       [0.77106553, 0.7690691 , 0.62028813, 0.49168736],\n",
       "       [0.7099285 , 0.70809036, 0.5711061 , 0.45270196],\n",
       "       [0.5733708 , 0.57188624, 0.46125147, 0.36562285]], dtype=float32)"
      ]
     },
     "execution_count": 44,
     "metadata": {},
     "output_type": "execute_result"
    }
   ],
   "source": [
    "resx.reshape(4,4)"
   ]
  },
  {
   "cell_type": "code",
   "execution_count": 45,
   "id": "da28694a",
   "metadata": {},
   "outputs": [
    {
     "data": {
      "text/plain": [
       "array([11,  3,  8,  1], dtype=uint32)"
      ]
     },
     "execution_count": 45,
     "metadata": {},
     "output_type": "execute_result"
    }
   ],
   "source": [
    "resxidx"
   ]
  },
  {
   "cell_type": "code",
   "execution_count": 46,
   "id": "a36029e5",
   "metadata": {},
   "outputs": [
    {
     "data": {
      "text/plain": [
       "array([ 1, 15,  8,  4], dtype=uint32)"
      ]
     },
     "execution_count": 46,
     "metadata": {},
     "output_type": "execute_result"
    }
   ],
   "source": [
    "resyidx"
   ]
  },
  {
   "cell_type": "code",
   "execution_count": 47,
   "id": "f9fa86c0",
   "metadata": {},
   "outputs": [
    {
     "data": {
      "text/plain": [
       "array([0.13123302, 0.5733708 , 0.0512652 , 0.3254963 , 0.20276003,\n",
       "       0.00985254, 0.23127311, 0.07951427, 0.5711061 , 0.03736747,\n",
       "       0.08189112, 0.39193726, 0.08933998, 0.04381968, 0.0892123 ,\n",
       "       0.29690626], dtype=float32)"
      ]
     },
     "execution_count": 47,
     "metadata": {},
     "output_type": "execute_result"
    }
   ],
   "source": [
    "x*y"
   ]
  },
  {
   "cell_type": "code",
   "execution_count": 48,
   "id": "d1dae681",
   "metadata": {},
   "outputs": [
    {
     "data": {
      "text/plain": [
       "array([[0.1859425 ],\n",
       "       [0.3039315 ],\n",
       "       [0.11242393],\n",
       "       [0.40872523],\n",
       "       [0.16854845],\n",
       "       [0.02722383],\n",
       "       [0.27778938],\n",
       "       [0.07951427],\n",
       "       [0.3763178 ],\n",
       "       [0.12663817],\n",
       "       [0.07636871],\n",
       "       [0.45690355],\n",
       "       [0.20997149],\n",
       "       [0.28916326],\n",
       "       [0.13818008],\n",
       "       [0.15779217]], dtype=float32)"
      ]
     },
     "execution_count": 48,
     "metadata": {},
     "output_type": "execute_result"
    }
   ],
   "source": [
    "x.reshape(dim,1)*y[7]"
   ]
  },
  {
   "cell_type": "code",
   "execution_count": 49,
   "id": "7096d1ef",
   "metadata": {},
   "outputs": [
    {
     "data": {
      "text/plain": [
       "array([0.34142965, 0.912634  , 0.22059757, 0.38525775, 0.5819617 ,\n",
       "       0.17507966, 0.40275997, 0.48376763, 0.7341737 , 0.14274661,\n",
       "       0.5187501 , 0.41498157, 0.20583646, 0.07330994, 0.31233174,\n",
       "       0.910271  ], dtype=float32)"
      ]
     },
     "execution_count": 49,
     "metadata": {},
     "output_type": "execute_result"
    }
   ],
   "source": [
    "y"
   ]
  },
  {
   "cell_type": "code",
   "execution_count": 50,
   "id": "55dbcde7",
   "metadata": {},
   "outputs": [
    {
     "data": {
      "text/plain": [
       "array([0.912634  , 0.910271  , 0.7341737 , 0.5819617 , 0.5187501 ,\n",
       "       0.48376763, 0.41498157, 0.40275997, 0.38525775, 0.34142965,\n",
       "       0.31233174, 0.22059757, 0.20583646, 0.17507966, 0.14274661,\n",
       "       0.07330994], dtype=float32)"
      ]
     },
     "execution_count": 50,
     "metadata": {},
     "output_type": "execute_result"
    }
   ],
   "source": [
    "resy"
   ]
  },
  {
   "cell_type": "code",
   "execution_count": 51,
   "id": "18bcae50",
   "metadata": {},
   "outputs": [
    {
     "data": {
      "text/plain": [
       "array([ 1, 15,  8,  4], dtype=uint32)"
      ]
     },
     "execution_count": 51,
     "metadata": {},
     "output_type": "execute_result"
    }
   ],
   "source": [
    "resyidx"
   ]
  },
  {
   "cell_type": "markdown",
   "id": "6644b755",
   "metadata": {},
   "source": [
    "### update vals"
   ]
  },
  {
   "cell_type": "code",
   "execution_count": 52,
   "id": "7cb03af3",
   "metadata": {},
   "outputs": [],
   "source": [
    "prg = cl.Program(ctx, \"\"\"\n",
    "// Every global_id_0 works on a row\n",
    "__kernel void addvals(__global  float* matData,     // INPUT MATRIX DATA\n",
    "                         __global  uint*  colIdx,\n",
    "                         __global  uint*  rowNnz,\n",
    "                         uint   ellwidth,\n",
    "                         __global  float* updatevals,    // INPUT\n",
    "                         __global  uint* updatexidx,   \n",
    "                         __global  uint* updateyidx   \n",
    "                         ) { // LOCAL SHARED BUFFER\n",
    "      uint gid = get_global_id(0);\n",
    "      uint n = get_global_size(0);\n",
    "      uint row = updateyidx[gid];\n",
    "      \n",
    "      for (uint i=0; i<n; i++) {\n",
    "        float val = updatevals[gid*n+i];\n",
    "        uint col = updatexidx[i];\n",
    "        for (uint i=0; i<rowNnz[row]; i++) {\n",
    "          uint idx = gid*ellwidth+i;\n",
    "          if (colIdx[idx] >= col) {\n",
    "            if (colIdx[idx] == col) {\n",
    "              matData[idx] += val;\n",
    "              printf(\"UPDATE[%i]: %.2f\", idx, val);\n",
    "              break;\n",
    "            } else {\n",
    "              // insert new column\n",
    "              printf(\"INSERT[%i]: %.2f\", idx, val);\n",
    "              for (uint j=rowNnz[row]+1; j>i; j--) {\n",
    "                uint idx2 = gid*ellwidth+j;\n",
    "                matData[idx2] = matData[idx2-1];\n",
    "                colIdx[idx2] = colIdx[idx2-1];\n",
    "              }\n",
    "              matData[idx] = val;\n",
    "              colIdx[idx] = col;\n",
    "              rowNnz[row] += 1;\n",
    "              break;\n",
    "            }\n",
    "          }\n",
    "        }\n",
    "        if (rowNnz[row] >= ellwidth) {\n",
    "          break;\n",
    "        }\n",
    "      }\n",
    "\n",
    "      \n",
    "    }\"\"\").build()"
   ]
  },
  {
   "cell_type": "code",
   "execution_count": 53,
   "id": "0aab86e1",
   "metadata": {},
   "outputs": [
    {
     "name": "stdout",
     "output_type": "stream",
     "text": [
      "INSERT[9]: 0.77INSERT[25]: 0.57INSERT[18]: 0.71UPDATE[0]: 0.86UPDATE[16]: 0.71INSERT[9]: 0.77INSERT[25]: 0.57INSERT[2]: 0.69INSERT[10]: 0.62INSERT[18]: 0.57INSERT[26]: 0.46UPDATE[8]: 0.49UPDATE[24]: 0.37INSERT[0]: 0.55INSERT[16]: 0.45"
     ]
    },
    {
     "data": {
      "text/plain": [
       "<pyopencl._cl.NannyEvent at 0x7efbc823d360>"
      ]
     },
     "execution_count": 53,
     "metadata": {},
     "output_type": "execute_result"
    }
   ],
   "source": [
    "knl = prg.addvals  # Use this Kernel object for repeated calls\n",
    "knl(queue, [topk,], None, adata_buf, acols_buf, annzs_buf, np.uint32(ellw), x_cp_buf, x_idx_buf, y_idx_buf)\n",
    "\n",
    "resa = np.empty_like(adata)\n",
    "resaidx = np.zeros(acols.shape).astype(np.uint32)\n",
    "resannz = np.zeros(annz.shape).astype(np.uint32)\n",
    "\n",
    "cl.enqueue_copy(queue, resa, adata_buf)\n",
    "cl.enqueue_copy(queue, resaidx, acols_buf)\n",
    "cl.enqueue_copy(queue, resannz, annzs_buf)"
   ]
  },
  {
   "cell_type": "code",
   "execution_count": 54,
   "id": "466c61fb",
   "metadata": {},
   "outputs": [
    {
     "data": {
      "text/plain": [
       "array([0.54964477, 1.0885656 , 0.720496  , 0.6934043 , 0.37543964,\n",
       "       0.        , 0.        , 0.        , 0.917402  , 0.7690691 ,\n",
       "       0.62028813, 0.77106553, 0.12234534, 0.03941203, 0.        ,\n",
       "       0.        , 0.45270196, 1.3255805 , 0.07481382, 0.5711061 ,\n",
       "       0.7099285 , 0.37348408, 0.        , 0.        , 0.6156596 ,\n",
       "       0.57188624, 0.46125147, 0.5733708 , 0.26944974, 0.52407223,\n",
       "       0.        , 0.        , 0.9272152 , 0.6210204 , 0.80167836,\n",
       "       0.        , 0.        , 0.        , 0.        , 0.        ,\n",
       "       0.71759963, 0.07308079, 0.99252075, 0.        , 0.        ,\n",
       "       0.        , 0.        , 0.        , 0.42398492, 0.9372269 ,\n",
       "       0.3767659 , 0.        , 0.        , 0.        , 0.        ,\n",
       "       0.        , 0.81243616, 0.01329434, 0.0506534 , 0.        ,\n",
       "       0.        , 0.        , 0.        , 0.        , 0.97979206,\n",
       "       0.6906237 , 0.96958005, 0.        , 0.        , 0.        ,\n",
       "       0.        , 0.        , 0.9060216 , 0.03547956, 0.38911736,\n",
       "       0.        , 0.        , 0.        , 0.        , 0.        ,\n",
       "       0.19059165, 0.63462293, 0.77160996, 0.        , 0.        ,\n",
       "       0.        , 0.        , 0.        , 0.6556085 , 0.20687285,\n",
       "       0.23891471, 0.        , 0.        , 0.        , 0.        ,\n",
       "       0.        , 0.6797731 , 0.6569295 , 0.6857115 , 0.        ,\n",
       "       0.        , 0.        , 0.        , 0.        , 0.05152655,\n",
       "       0.2762009 , 0.18861154, 0.        , 0.        , 0.        ,\n",
       "       0.        , 0.        , 0.00584277, 0.09967773, 0.3244976 ,\n",
       "       0.        , 0.        , 0.        , 0.        , 0.        ,\n",
       "       0.34357244, 0.2888239 , 0.38446018, 0.        , 0.        ,\n",
       "       0.        , 0.        , 0.        ], dtype=float32)"
      ]
     },
     "execution_count": 54,
     "metadata": {},
     "output_type": "execute_result"
    }
   ],
   "source": [
    "resa"
   ]
  },
  {
   "cell_type": "code",
   "execution_count": 55,
   "id": "8793af18",
   "metadata": {},
   "outputs": [
    {
     "data": {
      "text/plain": [
       "array([0.22884285, 0.720496  , 0.37543964, 0.        , 0.        ,\n",
       "       0.        , 0.        , 0.        , 0.4257147 , 0.12234534,\n",
       "       0.03941203, 0.        , 0.        , 0.        , 0.        ,\n",
       "       0.        , 0.6174901 , 0.07481382, 0.37348408, 0.        ,\n",
       "       0.        , 0.        , 0.        , 0.        , 0.25003672,\n",
       "       0.26944974, 0.52407223, 0.        , 0.        , 0.        ,\n",
       "       0.        , 0.        , 0.9272152 , 0.6210204 , 0.80167836,\n",
       "       0.        , 0.        , 0.        , 0.        , 0.        ,\n",
       "       0.71759963, 0.07308079, 0.99252075, 0.        , 0.        ,\n",
       "       0.        , 0.        , 0.        , 0.42398492, 0.9372269 ,\n",
       "       0.3767659 , 0.        , 0.        , 0.        , 0.        ,\n",
       "       0.        , 0.81243616, 0.01329434, 0.0506534 , 0.        ,\n",
       "       0.        , 0.        , 0.        , 0.        , 0.97979206,\n",
       "       0.6906237 , 0.96958005, 0.        , 0.        , 0.        ,\n",
       "       0.        , 0.        , 0.9060216 , 0.03547956, 0.38911736,\n",
       "       0.        , 0.        , 0.        , 0.        , 0.        ,\n",
       "       0.19059165, 0.63462293, 0.77160996, 0.        , 0.        ,\n",
       "       0.        , 0.        , 0.        , 0.6556085 , 0.20687285,\n",
       "       0.23891471, 0.        , 0.        , 0.        , 0.        ,\n",
       "       0.        , 0.6797731 , 0.6569295 , 0.6857115 , 0.        ,\n",
       "       0.        , 0.        , 0.        , 0.        , 0.05152655,\n",
       "       0.2762009 , 0.18861154, 0.        , 0.        , 0.        ,\n",
       "       0.        , 0.        , 0.00584277, 0.09967773, 0.3244976 ,\n",
       "       0.        , 0.        , 0.        , 0.        , 0.        ,\n",
       "       0.34357244, 0.2888239 , 0.38446018, 0.        , 0.        ,\n",
       "       0.        , 0.        , 0.        ], dtype=float32)"
      ]
     },
     "execution_count": 55,
     "metadata": {},
     "output_type": "execute_result"
    }
   ],
   "source": [
    "adata"
   ]
  },
  {
   "cell_type": "code",
   "execution_count": 56,
   "id": "9dd6baf4",
   "metadata": {},
   "outputs": [
    {
     "data": {
      "text/plain": [
       "array([ 3,  4, 10,  0,  0,  0,  0,  0,  1, 13, 15,  0,  0,  0,  0,  0,  3,\n",
       "        4, 12,  0,  0,  0,  0,  0,  1, 13, 15,  0,  0,  0,  0,  0,  1, 11,\n",
       "       13,  0,  0,  0,  0,  0,  0,  1, 12,  0,  0,  0,  0,  0,  2,  8, 12,\n",
       "        0,  0,  0,  0,  0,  5,  9, 15,  0,  0,  0,  0,  0,  6, 10, 13,  0,\n",
       "        0,  0,  0,  0,  1,  3, 11,  0,  0,  0,  0,  0,  2,  3, 11,  0,  0,\n",
       "        0,  0,  0,  4,  7, 14,  0,  0,  0,  0,  0,  4,  5,  9,  0,  0,  0,\n",
       "        0,  0,  3, 14, 15,  0,  0,  0,  0,  0,  0,  4, 15,  0,  0,  0,  0,\n",
       "        0,  6,  7,  8,  0,  0,  0,  0,  0], dtype=uint32)"
      ]
     },
     "execution_count": 56,
     "metadata": {},
     "output_type": "execute_result"
    }
   ],
   "source": [
    "acols"
   ]
  },
  {
   "cell_type": "code",
   "execution_count": 57,
   "id": "5c526051",
   "metadata": {},
   "outputs": [
    {
     "data": {
      "text/plain": [
       "array([ 1,  3,  4,  8, 10,  0,  0,  0,  1,  3,  8, 11, 13, 15,  0,  0,  1,\n",
       "        3,  4,  8, 11, 12,  0,  0,  1,  3,  8, 11, 13, 15,  0,  0,  1, 11,\n",
       "       13,  0,  0,  0,  0,  0,  0,  1, 12,  0,  0,  0,  0,  0,  2,  8, 12,\n",
       "        0,  0,  0,  0,  0,  5,  9, 15,  0,  0,  0,  0,  0,  6, 10, 13,  0,\n",
       "        0,  0,  0,  0,  1,  3, 11,  0,  0,  0,  0,  0,  2,  3, 11,  0,  0,\n",
       "        0,  0,  0,  4,  7, 14,  0,  0,  0,  0,  0,  4,  5,  9,  0,  0,  0,\n",
       "        0,  0,  3, 14, 15,  0,  0,  0,  0,  0,  0,  4, 15,  0,  0,  0,  0,\n",
       "        0,  6,  7,  8,  0,  0,  0,  0,  0], dtype=uint32)"
      ]
     },
     "execution_count": 57,
     "metadata": {},
     "output_type": "execute_result"
    }
   ],
   "source": [
    "resaidx"
   ]
  },
  {
   "cell_type": "code",
   "execution_count": 58,
   "id": "f635a14d",
   "metadata": {},
   "outputs": [
    {
     "data": {
      "text/plain": [
       "array([3, 5, 3, 3, 6, 3, 3, 3, 6, 3, 3, 3, 3, 3, 3, 6], dtype=uint32)"
      ]
     },
     "execution_count": 58,
     "metadata": {},
     "output_type": "execute_result"
    }
   ],
   "source": [
    "resannz"
   ]
  },
  {
   "cell_type": "code",
   "execution_count": 59,
   "id": "e7fcc7fe",
   "metadata": {},
   "outputs": [
    {
     "ename": "NameError",
     "evalue": "name 'asdf' is not defined",
     "output_type": "error",
     "traceback": [
      "\u001b[0;31m---------------------------------------------------------------------------\u001b[0m",
      "\u001b[0;31mNameError\u001b[0m                                 Traceback (most recent call last)",
      "\u001b[0;32m/tmp/ipykernel_6878/2827374946.py\u001b[0m in \u001b[0;36m<module>\u001b[0;34m\u001b[0m\n\u001b[0;32m----> 1\u001b[0;31m \u001b[0masdf\u001b[0m\u001b[0;34m\u001b[0m\u001b[0;34m\u001b[0m\u001b[0m\n\u001b[0m",
      "\u001b[0;31mNameError\u001b[0m: name 'asdf' is not defined"
     ]
    }
   ],
   "source": [
    "asdf"
   ]
  },
  {
   "cell_type": "markdown",
   "id": "7f618bfd",
   "metadata": {},
   "source": [
    "# OTHER"
   ]
  },
  {
   "cell_type": "markdown",
   "id": "28fd6b45",
   "metadata": {},
   "source": [
    "import numpy as np\n",
    "import pyopencl as cl\n",
    "\n",
    "mf = cl.mem_flags"
   ]
  },
  {
   "cell_type": "markdown",
   "id": "ebed13d1",
   "metadata": {},
   "source": [
    "dim = 16\n",
    "topk = 4\n",
    "\n",
    "x = np.random.rand(dim).astype(np.float32)\n",
    "y = np.random.rand(dim).astype(np.float32)\n",
    "x.shape,y.shape"
   ]
  },
  {
   "cell_type": "markdown",
   "id": "444a4a7f",
   "metadata": {},
   "source": [
    "dim1 = 4\n",
    "dim2 = 8\n",
    "dim3 = 1\n",
    "\n",
    "ctx = cl.create_some_context()\n",
    "queue = cl.CommandQueue(ctx,\n",
    "        properties=cl.command_queue_properties.PROFILING_ENABLE)\n",
    "\n",
    "sparsity = 0.2\n",
    "\n",
    "a = np.zeros((dim1,dim2))\n",
    "b = np.random.rand(dim2,dim3).flatten().astype(np.float32)\n",
    "\n",
    "a.shape, b.shape"
   ]
  },
  {
   "cell_type": "code",
   "execution_count": null,
   "id": "e2d4594d",
   "metadata": {},
   "outputs": [],
   "source": [
    "x_buf = cl.Buffer(ctx, mf.READ_ONLY | mf.COPY_HOST_PTR, hostbuf=x)\n",
    "y_buf = cl.Buffer(ctx, mf.READ_ONLY | mf.COPY_HOST_PTR, hostbuf=y)\n",
    "val_out_buf = cl.Buffer(ctx, mf.READ_WRITE, 4*topk*topk)\n",
    "x_idx_buf = cl.Buffer(ctx, mf.READ_WRITE, topk*4)\n",
    "y_idx_buf = cl.Buffer(ctx, mf.READ_WRITE, topk*4)\n",
    "\n",
    "prg = cl.Program(ctx, \"\"\"\n",
    "// Every global_id_0 works on a row\n",
    "__kernel void genwupdate2(__global  float* x,     // INPUT MATRIX DATA\n",
    "                         __global  float* y,    // INPUT\n",
    "                         __global  float* xout,    // INPUT\n",
    "                         uint topk,\n",
    "                         __global  uint* xoutidx,    // INPUT\n",
    "                         __global  uint* youtidx    // INPUT\n",
    "                        ) { // LOCAL SHARED BUFFER\n",
    "  uint gid = get_global_id(0);\n",
    "  uint n = get_global_size(0);\n",
    "  \n",
    "  xout[gid] = x[gid];\n",
    "  xoutidx[gid] = gid;\n",
    "  youtidx[gid] = gid;\n",
    "  \n",
    "  float valx = x[gid];\n",
    "  float valy = y[gid];\n",
    "  uint posx = 0;\n",
    "  uint posy = 0;\n",
    "  for (uint i = 0; i < n; i++) {\n",
    "    float tempval = x[i];\n",
    "    float tempval2 = y[i];\n",
    "    bool larger = tempval > valx;\n",
    "    bool larger2 = tempval2 > valy;\n",
    "      \n",
    "    posx += (larger)?1:0;\n",
    "    posy += (larger2)?1:0;\n",
    "  }\n",
    "  //printf(\"posx:%i\", posx);\n",
    "  if (posx < topk) {\n",
    "    xoutidx[posx] = gid;\n",
    "  }\n",
    "  if (posy < topk) {\n",
    "    youtidx[posy] = gid;\n",
    "  }\n",
    "  if (gid < topk) {\n",
    "    uint i = gid;\n",
    "    for (uint j=0; j<topk; j++) {\n",
    "      xout[gid*topk+j] = x[xoutidx[gid]] * y[youtidx[j]];\n",
    "    }\n",
    "  }\n",
    "}\"\"\").build()"
   ]
  },
  {
   "cell_type": "code",
   "execution_count": null,
   "id": "f45b3b69",
   "metadata": {},
   "outputs": [],
   "source": [
    "knl = prg.genwupdate2  # Use this Kernel object for repeated calls\n",
    "event = knl(queue, [dim,], None, x_buf, y_buf, val_out_buf, np.uint32(topk), x_idx_buf, y_idx_buf)\n",
    "\n",
    "#event.wait()\n",
    "val_out = np.zeros(topk*topk).astype(np.float32)\n",
    "resxidx = np.zeros(topk).astype(np.uint32)\n",
    "resyidx = np.zeros(topk).astype(np.uint32)\n",
    "\n",
    "cl.enqueue_copy(queue, val_out, val_out_buf)\n",
    "cl.enqueue_copy(queue, resxidx, x_idx_buf, wait_for=[event])\n",
    "cl.enqueue_copy(queue, resyidx, y_idx_buf)"
   ]
  },
  {
   "cell_type": "code",
   "execution_count": null,
   "id": "d883394f",
   "metadata": {},
   "outputs": [],
   "source": [
    "val_out"
   ]
  },
  {
   "cell_type": "code",
   "execution_count": null,
   "id": "2335cf69",
   "metadata": {},
   "outputs": [],
   "source": [
    "resxidx"
   ]
  },
  {
   "cell_type": "code",
   "execution_count": null,
   "id": "5e714f2a",
   "metadata": {},
   "outputs": [],
   "source": [
    "resyidx"
   ]
  },
  {
   "cell_type": "code",
   "execution_count": null,
   "id": "02a5c5dd",
   "metadata": {},
   "outputs": [],
   "source": [
    "from __future__ import division\n",
    "\n",
    "KERNEL_CODE = \"\"\"\n",
    "// Thread block size\n",
    "#define BLOCK_SIZE %(block_size)d\n",
    "// Matrix dimensions\n",
    "// (chosen as multiples of the thread block size for simplicity)\n",
    "#define WA %(w_a)d // Matrix A width\n",
    "#define HA %(h_a)d // Matrix A height\n",
    "#define WB %(w_b)d // Matrix B width\n",
    "#define HB WA  // Matrix B height\n",
    "#define WC WB  // Matrix C width\n",
    "#define HC HA  // Matrix C height\n",
    "/*\n",
    " * Copyright 1993-2009 NVIDIA Corporation.  All rights reserved.\n",
    " *\n",
    " * NVIDIA Corporation and its licensors retain all intellectual property and\n",
    " * proprietary rights in and to this software and related documentation.\n",
    " * Any use, reproduction, disclosure, or distribution of this software\n",
    " * and related documentation without an express license agreement from\n",
    " * NVIDIA Corporation is strictly prohibited.\n",
    " *\n",
    " * Please refer to the applicable NVIDIA end user license agreement (EULA)\n",
    " * associated with this source code for terms and conditions that govern\n",
    " * your use of this NVIDIA software.\n",
    " *\n",
    " */\n",
    "/* Matrix multiplication: C = A * B.\n",
    " * Device code.\n",
    " */\n",
    "#define AS(j, i) As[i + j * BLOCK_SIZE]\n",
    "#define BS(j, i) Bs[i + j * BLOCK_SIZE]\n",
    "////////////////////////////////////////////////////////////////////////////////\n",
    "//! Matrix multiplication on the device: C = A * B\n",
    "//! WA is A's width and WB is B's width\n",
    "////////////////////////////////////////////////////////////////////////////////\n",
    "__kernel __attribute__((reqd_work_group_size(16,16,1))) \n",
    "void\n",
    "matrixMul( __global float* C, __global float* A, __global float* B)\n",
    "{\n",
    "    __local float As[BLOCK_SIZE*BLOCK_SIZE];\n",
    "    __local float Bs[BLOCK_SIZE*BLOCK_SIZE];\n",
    "    // Block index\n",
    "    int bx = get_group_id(0);\n",
    "    int by = get_group_id(1);\n",
    "    // Thread index\n",
    "    int tx = get_local_id(0);\n",
    "    int ty = get_local_id(1);\n",
    "    // Index of the first sub-matrix of A processed by the block\n",
    "    int aBegin = WA * BLOCK_SIZE * by;\n",
    "    // Index of the last sub-matrix of A processed by the block\n",
    "    int aEnd   = aBegin + WA - 1;\n",
    "    // Step size used to iterate through the sub-matrices of A\n",
    "    int aStep  = BLOCK_SIZE;\n",
    "    // Index of the first sub-matrix of B processed by the block\n",
    "    int bBegin = BLOCK_SIZE * bx;\n",
    "    // Step size used to iterate through the sub-matrices of B\n",
    "    int bStep  = BLOCK_SIZE * WB;\n",
    "    // Csub is used to store the element of the block sub-matrix\n",
    "    // that is computed by the thread\n",
    "    float Csub = 0.0f;\n",
    "    // Loop over all the sub-matrices of A and B\n",
    "    // required to compute the block sub-matrix\n",
    "    for (int a = aBegin, b = bBegin;\n",
    "             a <= aEnd;\n",
    "             a += aStep, b += bStep) {\n",
    "        // Load the matrices from device memory\n",
    "        // to shared memory; each thread loads\n",
    "        // one element of each matrix\n",
    "        AS(ty, tx) = A[a + WA * ty + tx];\n",
    "        BS(ty, tx) = B[b + WB * ty + tx];\n",
    "        // Synchronize to make sure the matrices are loaded\n",
    "        barrier(CLK_LOCAL_MEM_FENCE);\n",
    "        // Multiply the two matrices together;\n",
    "        // each thread computes one element\n",
    "        // of the block sub-matrix\n",
    "        for (int k = 0; k < BLOCK_SIZE; ++k)\n",
    "            Csub += AS(ty, k) * BS(k, tx);\n",
    "        // Synchronize to make sure that the preceding\n",
    "        // computation is done before loading two new\n",
    "        // sub-matrices of A and B in the next iteration\n",
    "        barrier(CLK_LOCAL_MEM_FENCE);\n",
    "    }\n",
    "    // Write the block sub-matrix to device memory;\n",
    "    // each thread writes one element\n",
    "    C[get_global_id(1) * get_global_size(0) + get_global_id(0)] = Csub;\n",
    "}\n",
    "\"\"\"\n"
   ]
  },
  {
   "cell_type": "code",
   "execution_count": null,
   "id": "c1eb509e",
   "metadata": {},
   "outputs": [],
   "source": []
  },
  {
   "cell_type": "code",
   "execution_count": null,
   "id": "77b4a04e",
   "metadata": {},
   "outputs": [],
   "source": []
  },
  {
   "cell_type": "code",
   "execution_count": null,
   "id": "a0521855",
   "metadata": {},
   "outputs": [],
   "source": []
  },
  {
   "cell_type": "code",
   "execution_count": null,
   "id": "9a61206e",
   "metadata": {},
   "outputs": [],
   "source": []
  },
  {
   "cell_type": "code",
   "execution_count": null,
   "id": "16d754cb",
   "metadata": {},
   "outputs": [],
   "source": []
  },
  {
   "cell_type": "code",
   "execution_count": null,
   "id": "c91d5425",
   "metadata": {},
   "outputs": [],
   "source": []
  },
  {
   "cell_type": "code",
   "execution_count": null,
   "id": "d9f4a6f0",
   "metadata": {},
   "outputs": [],
   "source": []
  },
  {
   "cell_type": "code",
   "execution_count": null,
   "id": "9f708713",
   "metadata": {},
   "outputs": [],
   "source": []
  },
  {
   "cell_type": "code",
   "execution_count": null,
   "id": "e59475d1",
   "metadata": {},
   "outputs": [],
   "source": []
  },
  {
   "cell_type": "code",
   "execution_count": null,
   "id": "3dd6c3a3",
   "metadata": {},
   "outputs": [],
   "source": []
  },
  {
   "cell_type": "code",
   "execution_count": null,
   "id": "7e83b426",
   "metadata": {},
   "outputs": [],
   "source": []
  },
  {
   "cell_type": "code",
   "execution_count": null,
   "id": "af6af470",
   "metadata": {},
   "outputs": [],
   "source": []
  },
  {
   "cell_type": "code",
   "execution_count": null,
   "id": "e2b3a039",
   "metadata": {},
   "outputs": [],
   "source": []
  }
 ],
 "metadata": {
  "kernelspec": {
   "display_name": "Python 3",
   "language": "python",
   "name": "python3"
  },
  "language_info": {
   "codemirror_mode": {
    "name": "ipython",
    "version": 3
   },
   "file_extension": ".py",
   "mimetype": "text/x-python",
   "name": "python",
   "nbconvert_exporter": "python",
   "pygments_lexer": "ipython3",
   "version": "3.8.12"
  }
 },
 "nbformat": 4,
 "nbformat_minor": 5
}
