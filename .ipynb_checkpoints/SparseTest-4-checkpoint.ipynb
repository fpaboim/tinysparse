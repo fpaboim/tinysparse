{
 "cells": [
  {
   "cell_type": "code",
   "execution_count": 1,
   "id": "4309590e",
   "metadata": {},
   "outputs": [
    {
     "name": "stdout",
     "output_type": "stream",
     "text": [
      "DEVICE:GPU\n"
     ]
    }
   ],
   "source": [
    "from tinygrad.densetensor import DenseTensor\n",
    "from tinygrad.sparsetensor import SparseTensor\n",
    "import numpy as np\n",
    "import tinygrad.optim as optim\n",
    "from extra.utils import get_parameters\n",
    "from test.test_mnist import fetch_mnist\n",
    "from tqdm import trange\n",
    "\n",
    "%load_ext autoreload\n",
    "%autoreload 2"
   ]
  },
  {
   "cell_type": "code",
   "execution_count": 2,
   "id": "73101cd9",
   "metadata": {},
   "outputs": [],
   "source": [
    "dim1 = 32\n",
    "dim2 = 784\n",
    "dim3 = 10\n",
    "\n",
    "np.random.seed(9)\n",
    "\n",
    "seedmat = np.random.randn(dim2,dim3).astype(np.float32) / 1000"
   ]
  },
  {
   "cell_type": "code",
   "execution_count": 3,
   "id": "602af5c6",
   "metadata": {},
   "outputs": [
    {
     "data": {
      "text/plain": [
       "(60000, 784)"
      ]
     },
     "execution_count": 3,
     "metadata": {},
     "output_type": "execute_result"
    }
   ],
   "source": [
    "X_train, Y_train, X_test, Y_test = fetch_mnist()\n",
    "X_train.shape"
   ]
  },
  {
   "cell_type": "code",
   "execution_count": 4,
   "id": "d9c197bb",
   "metadata": {},
   "outputs": [
    {
     "name": "stdout",
     "output_type": "stream",
     "text": [
      "warning, (32, 10) isn't float32, it's float64\n"
     ]
    }
   ],
   "source": [
    "x_init = np.random.randn(dim1,dim2).astype(np.float32)\n",
    "x = DenseTensor(x_init)\n",
    "y = DenseTensor(np.random.randn(dim1,dim3))"
   ]
  },
  {
   "cell_type": "code",
   "execution_count": 5,
   "id": "8a9285aa",
   "metadata": {},
   "outputs": [],
   "source": [
    "class MLP:\n",
    "  def __init__(self):\n",
    "    self.W = DenseTensor(seedmat)\n",
    "\n",
    "  def parameters(self):\n",
    "    return get_parameters(self)\n",
    "\n",
    "  def forward(self, x):\n",
    "    out = x.dot(self.W)\n",
    "    out = out.logsoftmax()\n",
    "    #out = out.mul(self.m).add(self.m).sum()\n",
    "    return out"
   ]
  },
  {
   "cell_type": "code",
   "execution_count": 6,
   "id": "a5168e97",
   "metadata": {},
   "outputs": [],
   "source": [
    "class MLP2:\n",
    "  def __init__(self):\n",
    "    self.W = SparseTensor(seedmat)\n",
    "\n",
    "  def parameters(self):\n",
    "    return get_parameters(self)\n",
    "\n",
    "  def forward(self, x):\n",
    "    out = x.dot(self.W)\n",
    "    out = out.logsoftmax()\n",
    "    #out = out.mul(self.m).add(self.m).sum()\n",
    "    return out"
   ]
  },
  {
   "cell_type": "code",
   "execution_count": 7,
   "id": "13c4436e",
   "metadata": {},
   "outputs": [],
   "source": [
    "def loss_fn(y, y_pred):\n",
    "    return ((y-y_pred)**2)**.5"
   ]
  },
  {
   "cell_type": "code",
   "execution_count": 8,
   "id": "dec2b8a6",
   "metadata": {},
   "outputs": [],
   "source": [
    "def sparse_categorical_crossentropy(out, Y):\n",
    "  num_classes = out.shape[-1]\n",
    "  YY = Y.flatten()\n",
    "  y = np.zeros((YY.shape[0], num_classes), np.float32)\n",
    "  # correct loss for NLL, torch NLL loss returns one per row\n",
    "  y[range(y.shape[0]),YY] = -1.0*num_classes\n",
    "  y = y.reshape(list(Y.shape)+[num_classes])\n",
    "  y = DenseTensor(y)\n",
    "  return out.mul(y).mean()"
   ]
  },
  {
   "cell_type": "markdown",
   "id": "3b00810f",
   "metadata": {},
   "source": [
    "### Dense"
   ]
  },
  {
   "cell_type": "code",
   "execution_count": 9,
   "id": "1d2b99f9",
   "metadata": {},
   "outputs": [],
   "source": [
    "model = MLP()"
   ]
  },
  {
   "cell_type": "code",
   "execution_count": 10,
   "id": "5d6f6d16",
   "metadata": {},
   "outputs": [],
   "source": [
    "optimizer = optim.SGD(model.parameters(), lr=.0001)"
   ]
  },
  {
   "cell_type": "code",
   "execution_count": 11,
   "id": "4238b12b",
   "metadata": {},
   "outputs": [
    {
     "data": {
      "text/plain": [
       "((60000, 784), (60000,))"
      ]
     },
     "execution_count": 11,
     "metadata": {},
     "output_type": "execute_result"
    }
   ],
   "source": [
    "X_train.shape, Y_train.shape"
   ]
  },
  {
   "cell_type": "code",
   "execution_count": 12,
   "id": "ac07327e",
   "metadata": {},
   "outputs": [],
   "source": [
    "loss_fn = sparse_categorical_crossentropy"
   ]
  },
  {
   "cell_type": "code",
   "execution_count": 13,
   "id": "1a506d86",
   "metadata": {},
   "outputs": [
    {
     "name": "stderr",
     "output_type": "stream",
     "text": [
      "  1%|█▌                                                                                                                                                    | 19/1875 [00:00<00:19, 94.16it/s]"
     ]
    },
    {
     "name": "stdout",
     "output_type": "stream",
     "text": [
      "LOSS:4.38  ACC:0.03\n",
      "LOSS:39.29  ACC:0.19\n",
      "LOSS:31.43  ACC:0.19\n",
      "LOSS:28.64  ACC:0.69\n",
      "LOSS:37.58  ACC:0.28\n",
      "LOSS:49.48  ACC:0.44\n",
      "LOSS:8.22  ACC:0.59\n",
      "LOSS:13.19  ACC:0.41\n",
      "LOSS:12.42  ACC:0.47\n",
      "LOSS:7.54  ACC:0.75\n",
      "LOSS:6.04  ACC:0.72\n",
      "LOSS:7.32  ACC:0.59\n",
      "LOSS:8.17  ACC:0.62\n",
      "LOSS:10.00  ACC:0.31\n",
      "LOSS:14.23  ACC:0.62\n",
      "LOSS:5.23  ACC:0.59\n",
      "LOSS:13.33  ACC:0.56\n",
      "LOSS:14.40  ACC:0.41\n",
      "LOSS:14.08  ACC:0.53\n",
      "LOSS:23.96  ACC:0.56\n",
      "LOSS:5.58  ACC:0.72\n",
      "LOSS:4.85  ACC:0.78\n",
      "LOSS:7.03  ACC:0.75\n"
     ]
    },
    {
     "name": "stderr",
     "output_type": "stream",
     "text": [
      "  2%|███▏                                                                                                                                                  | 40/1875 [00:00<00:18, 98.09it/s]"
     ]
    },
    {
     "name": "stdout",
     "output_type": "stream",
     "text": [
      "LOSS:2.41  ACC:0.81\n",
      "LOSS:3.54  ACC:0.69\n",
      "LOSS:3.34  ACC:0.75\n",
      "LOSS:6.65  ACC:0.75\n",
      "LOSS:3.66  ACC:0.69\n",
      "LOSS:8.05  ACC:0.72\n",
      "LOSS:3.70  ACC:0.75\n",
      "LOSS:3.78  ACC:0.72\n",
      "LOSS:5.13  ACC:0.78\n",
      "LOSS:8.47  ACC:0.69\n",
      "LOSS:6.55  ACC:0.75\n",
      "LOSS:5.76  ACC:0.75\n",
      "LOSS:7.51  ACC:0.59\n",
      "LOSS:2.66  ACC:0.81\n",
      "LOSS:4.88  ACC:0.81\n",
      "LOSS:8.46  ACC:0.72\n",
      "LOSS:30.91  ACC:0.16\n",
      "LOSS:49.37  ACC:0.25\n",
      "LOSS:39.95  ACC:0.66\n",
      "LOSS:41.52  ACC:0.50\n"
     ]
    },
    {
     "name": "stderr",
     "output_type": "stream",
     "text": [
      "  3%|████▉                                                                                                                                                | 62/1875 [00:00<00:17, 104.70it/s]"
     ]
    },
    {
     "name": "stdout",
     "output_type": "stream",
     "text": [
      "LOSS:30.43  ACC:0.53\n",
      "LOSS:21.05  ACC:0.44\n",
      "LOSS:8.39  ACC:0.62\n",
      "LOSS:4.88  ACC:0.72\n",
      "LOSS:6.48  ACC:0.72\n",
      "LOSS:4.06  ACC:0.88\n",
      "LOSS:4.09  ACC:0.75\n",
      "LOSS:4.78  ACC:0.88\n",
      "LOSS:1.34  ACC:0.91\n",
      "LOSS:3.58  ACC:0.88\n",
      "LOSS:0.05  ACC:0.97\n",
      "LOSS:2.88  ACC:0.91\n",
      "LOSS:1.05  ACC:0.94\n",
      "LOSS:4.36  ACC:0.84\n",
      "LOSS:3.54  ACC:0.84\n",
      "LOSS:2.17  ACC:0.84\n",
      "LOSS:3.00  ACC:0.75\n",
      "LOSS:3.33  ACC:0.88\n",
      "LOSS:4.25  ACC:0.84\n",
      "LOSS:2.00  ACC:0.84\n",
      "LOSS:4.36  ACC:0.78\n",
      "LOSS:3.05  ACC:0.91\n",
      "LOSS:4.26  ACC:0.88\n"
     ]
    },
    {
     "name": "stderr",
     "output_type": "stream",
     "text": [
      "  5%|██████▊                                                                                                                                              | 86/1875 [00:00<00:16, 109.82it/s]"
     ]
    },
    {
     "name": "stdout",
     "output_type": "stream",
     "text": [
      "LOSS:1.99  ACC:0.81\n",
      "LOSS:0.60  ACC:0.97\n",
      "LOSS:4.56  ACC:0.81\n",
      "LOSS:3.74  ACC:0.81\n",
      "LOSS:1.07  ACC:0.91\n",
      "LOSS:2.34  ACC:0.88\n",
      "LOSS:1.51  ACC:0.97\n",
      "LOSS:3.49  ACC:0.88\n",
      "LOSS:1.80  ACC:0.84\n",
      "LOSS:3.73  ACC:0.72\n",
      "LOSS:3.45  ACC:0.78\n",
      "LOSS:0.02  ACC:1.00\n",
      "LOSS:0.36  ACC:0.94\n",
      "LOSS:0.83  ACC:0.91\n",
      "LOSS:0.44  ACC:0.94\n",
      "LOSS:2.88  ACC:0.84\n",
      "LOSS:2.12  ACC:0.88\n",
      "LOSS:6.69  ACC:0.78\n",
      "LOSS:3.78  ACC:0.81\n",
      "LOSS:3.14  ACC:0.88\n",
      "LOSS:2.82  ACC:0.88\n",
      "LOSS:5.53  ACC:0.84\n",
      "LOSS:2.49  ACC:0.78\n"
     ]
    },
    {
     "name": "stderr",
     "output_type": "stream",
     "text": [
      "  6%|████████▌                                                                                                                                           | 108/1875 [00:01<00:16, 109.11it/s]"
     ]
    },
    {
     "name": "stdout",
     "output_type": "stream",
     "text": [
      "LOSS:0.55  ACC:0.91\n",
      "LOSS:2.62  ACC:0.88\n",
      "LOSS:3.07  ACC:0.84\n",
      "LOSS:3.03  ACC:0.78\n",
      "LOSS:3.78  ACC:0.88\n",
      "LOSS:3.90  ACC:0.84\n",
      "LOSS:3.21  ACC:0.81\n",
      "LOSS:2.74  ACC:0.84\n",
      "LOSS:2.29  ACC:0.84\n",
      "LOSS:2.57  ACC:0.84\n",
      "LOSS:1.97  ACC:0.84\n",
      "LOSS:5.79  ACC:0.72\n",
      "LOSS:3.10  ACC:0.88\n",
      "LOSS:3.64  ACC:0.84\n",
      "LOSS:0.62  ACC:0.88\n",
      "LOSS:1.02  ACC:0.91\n",
      "LOSS:4.15  ACC:0.81\n",
      "LOSS:4.78  ACC:0.84\n",
      "LOSS:2.18  ACC:0.84\n",
      "LOSS:0.91  ACC:0.91\n",
      "LOSS:1.56  ACC:0.88\n",
      "LOSS:1.94  ACC:0.81\n"
     ]
    },
    {
     "name": "stderr",
     "output_type": "stream",
     "text": [
      "  7%|██████████▍                                                                                                                                         | 132/1875 [00:01<00:15, 111.56it/s]"
     ]
    },
    {
     "name": "stdout",
     "output_type": "stream",
     "text": [
      "LOSS:2.44  ACC:0.81\n",
      "LOSS:0.55  ACC:0.94\n",
      "LOSS:0.79  ACC:0.91\n",
      "LOSS:3.06  ACC:0.88\n",
      "LOSS:4.60  ACC:0.78\n",
      "LOSS:6.72  ACC:0.91\n",
      "LOSS:2.30  ACC:0.81\n",
      "LOSS:3.12  ACC:0.78\n",
      "LOSS:3.07  ACC:0.78\n",
      "LOSS:1.57  ACC:0.81\n",
      "LOSS:1.65  ACC:0.91\n",
      "LOSS:1.17  ACC:0.81\n",
      "LOSS:1.22  ACC:0.84\n",
      "LOSS:3.86  ACC:0.75\n",
      "LOSS:5.16  ACC:0.78\n",
      "LOSS:5.27  ACC:0.69\n",
      "LOSS:2.60  ACC:0.84\n",
      "LOSS:1.60  ACC:0.91\n",
      "LOSS:5.69  ACC:0.81\n",
      "LOSS:3.71  ACC:0.81\n",
      "LOSS:1.45  ACC:0.94\n",
      "LOSS:1.87  ACC:0.91\n",
      "LOSS:4.42  ACC:0.84\n",
      "LOSS:2.08  ACC:0.84\n"
     ]
    },
    {
     "name": "stderr",
     "output_type": "stream",
     "text": [
      "  8%|████████████▎                                                                                                                                       | 156/1875 [00:01<00:14, 114.78it/s]"
     ]
    },
    {
     "name": "stdout",
     "output_type": "stream",
     "text": [
      "LOSS:1.52  ACC:0.88\n",
      "LOSS:2.46  ACC:0.91\n",
      "LOSS:0.73  ACC:0.94\n",
      "LOSS:0.01  ACC:1.00\n",
      "LOSS:1.99  ACC:0.84\n",
      "LOSS:11.47  ACC:0.62\n",
      "LOSS:5.71  ACC:0.69\n",
      "LOSS:1.16  ACC:0.91\n",
      "LOSS:0.86  ACC:0.94\n",
      "LOSS:2.62  ACC:0.84\n",
      "LOSS:4.14  ACC:0.78\n",
      "LOSS:8.24  ACC:0.69\n",
      "LOSS:13.10  ACC:0.50\n",
      "LOSS:10.44  ACC:0.78\n",
      "LOSS:3.22  ACC:0.81\n",
      "LOSS:4.84  ACC:0.72\n",
      "LOSS:4.75  ACC:0.78\n",
      "LOSS:2.00  ACC:0.88\n",
      "LOSS:1.19  ACC:0.88\n",
      "LOSS:5.67  ACC:0.88\n",
      "LOSS:3.79  ACC:0.91\n",
      "LOSS:3.67  ACC:0.81\n",
      "LOSS:1.31  ACC:0.84\n",
      "LOSS:8.43  ACC:0.66\n"
     ]
    },
    {
     "name": "stderr",
     "output_type": "stream",
     "text": [
      " 10%|██████████████▏                                                                                                                                     | 180/1875 [00:01<00:14, 116.57it/s]"
     ]
    },
    {
     "name": "stdout",
     "output_type": "stream",
     "text": [
      "LOSS:5.72  ACC:0.78\n",
      "LOSS:3.81  ACC:0.84\n",
      "LOSS:11.41  ACC:0.75\n",
      "LOSS:3.40  ACC:0.84\n",
      "LOSS:1.53  ACC:0.94\n",
      "LOSS:1.26  ACC:0.81\n",
      "LOSS:3.66  ACC:0.78\n",
      "LOSS:0.34  ACC:0.94\n",
      "LOSS:2.00  ACC:0.97\n",
      "LOSS:2.51  ACC:0.81\n",
      "LOSS:0.81  ACC:0.91\n",
      "LOSS:0.56  ACC:0.91\n",
      "LOSS:1.57  ACC:0.88\n",
      "LOSS:0.96  ACC:0.88\n",
      "LOSS:5.38  ACC:0.84\n",
      "LOSS:1.93  ACC:0.91\n",
      "LOSS:1.30  ACC:0.91\n",
      "LOSS:3.19  ACC:0.84\n",
      "LOSS:3.49  ACC:0.88\n",
      "LOSS:1.85  ACC:0.81\n",
      "LOSS:3.48  ACC:0.81\n",
      "LOSS:1.14  ACC:0.91\n",
      "LOSS:1.77  ACC:0.84\n",
      "LOSS:4.73  ACC:0.81\n"
     ]
    },
    {
     "name": "stderr",
     "output_type": "stream",
     "text": [
      " 11%|████████████████                                                                                                                                    | 204/1875 [00:01<00:14, 115.76it/s]"
     ]
    },
    {
     "name": "stdout",
     "output_type": "stream",
     "text": [
      "LOSS:0.48  ACC:0.88\n",
      "LOSS:2.89  ACC:0.88\n",
      "LOSS:2.27  ACC:0.94\n",
      "LOSS:3.55  ACC:0.78\n",
      "LOSS:0.04  ACC:0.97\n",
      "LOSS:1.37  ACC:0.97\n",
      "LOSS:2.08  ACC:0.94\n",
      "LOSS:4.58  ACC:0.81\n",
      "LOSS:2.55  ACC:0.88\n",
      "LOSS:1.99  ACC:0.88\n",
      "LOSS:1.29  ACC:0.94\n",
      "LOSS:0.00  ACC:1.00\n",
      "LOSS:2.54  ACC:0.84\n",
      "LOSS:0.83  ACC:0.91\n",
      "LOSS:0.32  ACC:0.94\n",
      "LOSS:1.00  ACC:0.88\n",
      "LOSS:1.12  ACC:0.94\n",
      "LOSS:2.84  ACC:0.84\n",
      "LOSS:1.35  ACC:0.81\n",
      "LOSS:6.06  ACC:0.81\n",
      "LOSS:2.05  ACC:0.88\n",
      "LOSS:1.97  ACC:0.91\n",
      "LOSS:1.45  ACC:0.91\n",
      "LOSS:2.29  ACC:0.91\n"
     ]
    },
    {
     "name": "stderr",
     "output_type": "stream",
     "text": [
      "\r",
      " 12%|█████████████████                                                                                                                                   | 216/1875 [00:01<00:14, 110.74it/s]"
     ]
    },
    {
     "name": "stdout",
     "output_type": "stream",
     "text": [
      "LOSS:2.06  ACC:0.94\n",
      "LOSS:2.16  ACC:0.84\n",
      "LOSS:1.41  ACC:0.88\n",
      "LOSS:1.54  ACC:0.91\n",
      "LOSS:1.64  ACC:0.91\n",
      "LOSS:3.10  ACC:0.81\n",
      "LOSS:3.99  ACC:0.66\n",
      "LOSS:3.02  ACC:0.84\n",
      "LOSS:1.84  ACC:0.78\n",
      "LOSS:5.02  ACC:0.75\n",
      "LOSS:10.48  ACC:0.66\n",
      "LOSS:8.11  ACC:0.75\n",
      "LOSS:12.63  ACC:0.62\n",
      "LOSS:7.76  ACC:0.72\n",
      "LOSS:2.34  ACC:0.88\n",
      "LOSS:1.49  ACC:0.91\n",
      "LOSS:5.19  ACC:0.84\n",
      "LOSS:3.55  ACC:0.81\n",
      "LOSS:3.48  ACC:0.72\n",
      "LOSS:2.33  ACC:0.81\n"
     ]
    },
    {
     "name": "stderr",
     "output_type": "stream",
     "text": [
      " 13%|██████████████████▊                                                                                                                                 | 239/1875 [00:02<00:16, 100.79it/s]"
     ]
    },
    {
     "name": "stdout",
     "output_type": "stream",
     "text": [
      "LOSS:4.48  ACC:0.66\n",
      "LOSS:1.73  ACC:0.84\n",
      "LOSS:2.14  ACC:0.88\n",
      "LOSS:1.02  ACC:0.88\n",
      "LOSS:1.90  ACC:0.84\n",
      "LOSS:1.04  ACC:0.91\n",
      "LOSS:1.29  ACC:0.88\n",
      "LOSS:1.21  ACC:0.88\n",
      "LOSS:3.55  ACC:0.81\n",
      "LOSS:0.00  ACC:1.00\n",
      "LOSS:3.67  ACC:0.81\n",
      "LOSS:4.77  ACC:0.78\n",
      "LOSS:2.76  ACC:0.84\n",
      "LOSS:1.86  ACC:0.84\n",
      "LOSS:2.84  ACC:0.78\n",
      "LOSS:1.53  ACC:0.84\n",
      "LOSS:2.14  ACC:0.84\n",
      "LOSS:2.69  ACC:0.88\n"
     ]
    },
    {
     "name": "stderr",
     "output_type": "stream",
     "text": [
      " 14%|████████████████████▋                                                                                                                                | 260/1875 [00:02<00:16, 96.34it/s]"
     ]
    },
    {
     "name": "stdout",
     "output_type": "stream",
     "text": [
      "LOSS:3.93  ACC:0.72\n",
      "LOSS:5.40  ACC:0.72\n",
      "LOSS:6.58  ACC:0.69\n",
      "LOSS:4.48  ACC:0.78\n",
      "LOSS:6.76  ACC:0.78\n",
      "LOSS:3.18  ACC:0.84\n",
      "LOSS:0.85  ACC:0.91\n",
      "LOSS:2.12  ACC:0.91\n",
      "LOSS:6.39  ACC:0.72\n",
      "LOSS:1.43  ACC:0.88\n",
      "LOSS:0.08  ACC:0.97\n",
      "LOSS:5.73  ACC:0.81\n",
      "LOSS:2.89  ACC:0.84\n",
      "LOSS:1.44  ACC:0.94\n",
      "LOSS:3.28  ACC:0.81\n",
      "LOSS:1.44  ACC:0.88\n",
      "LOSS:1.42  ACC:0.88\n",
      "LOSS:1.96  ACC:0.88\n",
      "LOSS:3.35  ACC:0.81\n",
      "LOSS:5.69  ACC:0.78\n"
     ]
    },
    {
     "name": "stderr",
     "output_type": "stream",
     "text": [
      " 15%|██████████████████████▎                                                                                                                              | 280/1875 [00:02<00:18, 87.71it/s]"
     ]
    },
    {
     "name": "stdout",
     "output_type": "stream",
     "text": [
      "LOSS:4.37  ACC:0.81\n",
      "LOSS:0.84  ACC:0.91\n",
      "LOSS:3.24  ACC:0.94\n",
      "LOSS:1.62  ACC:0.91\n",
      "LOSS:3.82  ACC:0.75\n",
      "LOSS:8.76  ACC:0.75\n",
      "LOSS:9.03  ACC:0.78\n",
      "LOSS:14.53  ACC:0.69\n",
      "LOSS:1.82  ACC:0.81\n",
      "LOSS:5.35  ACC:0.69\n",
      "LOSS:0.66  ACC:0.88\n",
      "LOSS:3.09  ACC:0.75\n",
      "LOSS:4.94  ACC:0.69\n",
      "LOSS:4.20  ACC:0.75\n",
      "LOSS:3.15  ACC:0.84\n",
      "LOSS:2.84  ACC:0.91\n"
     ]
    },
    {
     "name": "stderr",
     "output_type": "stream",
     "text": [
      " 16%|███████████████████████▊                                                                                                                             | 299/1875 [00:02<00:18, 87.06it/s]"
     ]
    },
    {
     "name": "stdout",
     "output_type": "stream",
     "text": [
      "LOSS:2.47  ACC:0.88\n",
      "LOSS:0.00  ACC:1.00\n",
      "LOSS:1.62  ACC:0.91\n",
      "LOSS:4.91  ACC:0.75\n",
      "LOSS:2.95  ACC:0.84\n",
      "LOSS:1.24  ACC:0.94\n",
      "LOSS:0.86  ACC:0.91\n",
      "LOSS:1.97  ACC:0.88\n",
      "LOSS:4.00  ACC:0.81\n",
      "LOSS:1.82  ACC:0.84\n",
      "LOSS:3.98  ACC:0.81\n",
      "LOSS:6.56  ACC:0.69\n",
      "LOSS:13.41  ACC:0.56\n",
      "LOSS:10.74  ACC:0.75\n",
      "LOSS:1.74  ACC:0.81\n",
      "LOSS:6.57  ACC:0.84\n",
      "LOSS:1.09  ACC:0.84\n",
      "LOSS:1.85  ACC:0.88\n"
     ]
    },
    {
     "name": "stderr",
     "output_type": "stream",
     "text": [
      " 17%|█████████████████████████▌                                                                                                                          | 324/1875 [00:03<00:15, 102.65it/s]"
     ]
    },
    {
     "name": "stdout",
     "output_type": "stream",
     "text": [
      "LOSS:2.97  ACC:0.81\n",
      "LOSS:2.58  ACC:0.94\n",
      "LOSS:2.31  ACC:0.88\n",
      "LOSS:1.65  ACC:0.91\n",
      "LOSS:0.01  ACC:1.00\n",
      "LOSS:3.47  ACC:0.75\n",
      "LOSS:10.66  ACC:0.69\n",
      "LOSS:3.01  ACC:0.88\n",
      "LOSS:0.13  ACC:0.94\n",
      "LOSS:2.28  ACC:0.84\n",
      "LOSS:0.20  ACC:0.97\n",
      "LOSS:0.96  ACC:0.91\n",
      "LOSS:2.26  ACC:0.91\n",
      "LOSS:0.47  ACC:0.88\n",
      "LOSS:4.17  ACC:0.81\n",
      "LOSS:4.09  ACC:0.84\n",
      "LOSS:3.03  ACC:0.84\n",
      "LOSS:1.41  ACC:0.94\n",
      "LOSS:2.22  ACC:0.91\n",
      "LOSS:2.49  ACC:0.78\n",
      "LOSS:4.33  ACC:0.69\n",
      "LOSS:5.42  ACC:0.81\n",
      "LOSS:3.23  ACC:0.78\n",
      "LOSS:1.68  ACC:0.84\n",
      "LOSS:1.53  ACC:0.97\n"
     ]
    },
    {
     "name": "stderr",
     "output_type": "stream",
     "text": [
      " 19%|███████████████████████████▍                                                                                                                        | 347/1875 [00:03<00:14, 108.33it/s]"
     ]
    },
    {
     "name": "stdout",
     "output_type": "stream",
     "text": [
      "LOSS:1.37  ACC:0.88\n",
      "LOSS:2.16  ACC:0.94\n",
      "LOSS:1.73  ACC:0.91\n",
      "LOSS:0.99  ACC:0.94\n",
      "LOSS:1.20  ACC:0.88\n",
      "LOSS:0.25  ACC:0.97\n",
      "LOSS:1.13  ACC:0.94\n",
      "LOSS:1.27  ACC:0.88\n",
      "LOSS:1.32  ACC:0.94\n",
      "LOSS:1.60  ACC:0.88\n",
      "LOSS:2.81  ACC:0.88\n",
      "LOSS:3.67  ACC:0.81\n",
      "LOSS:2.82  ACC:0.84\n",
      "LOSS:1.68  ACC:0.88\n",
      "LOSS:0.14  ACC:0.97\n",
      "LOSS:2.31  ACC:0.94\n",
      "LOSS:1.63  ACC:0.97\n",
      "LOSS:1.56  ACC:0.94\n",
      "LOSS:0.07  ACC:0.94\n",
      "LOSS:3.38  ACC:0.84\n",
      "LOSS:3.26  ACC:0.88\n",
      "LOSS:0.55  ACC:0.94\n",
      "LOSS:0.58  ACC:0.91\n"
     ]
    },
    {
     "name": "stderr",
     "output_type": "stream",
     "text": [
      "\r",
      " 19%|████████████████████████████▎                                                                                                                       | 358/1875 [00:03<00:14, 104.22it/s]"
     ]
    },
    {
     "name": "stdout",
     "output_type": "stream",
     "text": [
      "LOSS:2.02  ACC:0.88\n",
      "LOSS:0.83  ACC:0.94\n",
      "LOSS:1.75  ACC:0.81\n",
      "LOSS:4.44  ACC:0.84\n",
      "LOSS:4.94  ACC:0.78\n",
      "LOSS:3.10  ACC:0.78\n",
      "LOSS:0.43  ACC:0.91\n",
      "LOSS:0.23  ACC:0.94\n",
      "LOSS:2.44  ACC:0.88\n",
      "LOSS:0.84  ACC:0.91\n",
      "LOSS:4.11  ACC:0.78\n",
      "LOSS:5.54  ACC:0.81\n",
      "LOSS:3.84  ACC:0.88\n",
      "LOSS:2.52  ACC:0.91\n",
      "LOSS:4.98  ACC:0.88\n",
      "LOSS:5.69  ACC:0.75\n",
      "LOSS:4.02  ACC:0.75\n",
      "LOSS:2.08  ACC:0.94\n",
      "LOSS:6.08  ACC:0.75\n"
     ]
    },
    {
     "name": "stderr",
     "output_type": "stream",
     "text": [
      " 20%|██████████████████████████████▏                                                                                                                      | 380/1875 [00:03<00:15, 99.16it/s]"
     ]
    },
    {
     "name": "stdout",
     "output_type": "stream",
     "text": [
      "LOSS:3.31  ACC:0.81\n",
      "LOSS:3.03  ACC:0.84\n",
      "LOSS:2.58  ACC:0.88\n",
      "LOSS:1.00  ACC:0.84\n",
      "LOSS:1.34  ACC:0.88\n",
      "LOSS:0.99  ACC:0.88\n",
      "LOSS:0.13  ACC:0.97\n",
      "LOSS:1.49  ACC:0.88\n",
      "LOSS:2.34  ACC:0.88\n",
      "LOSS:1.12  ACC:0.91\n",
      "LOSS:2.44  ACC:0.88\n",
      "LOSS:2.74  ACC:0.88\n",
      "LOSS:1.60  ACC:0.88\n",
      "LOSS:1.86  ACC:0.91\n",
      "LOSS:2.91  ACC:0.84\n",
      "LOSS:8.90  ACC:0.72\n",
      "LOSS:1.83  ACC:0.84\n",
      "LOSS:3.51  ACC:0.78\n",
      "LOSS:4.84  ACC:0.75\n",
      "LOSS:1.68  ACC:0.88\n"
     ]
    },
    {
     "name": "stderr",
     "output_type": "stream",
     "text": [
      " 21%|███████████████████████████████▊                                                                                                                     | 400/1875 [00:03<00:15, 92.22it/s]"
     ]
    },
    {
     "name": "stdout",
     "output_type": "stream",
     "text": [
      "LOSS:4.91  ACC:0.81\n",
      "LOSS:0.01  ACC:1.00\n",
      "LOSS:2.84  ACC:0.81\n",
      "LOSS:4.73  ACC:0.78\n",
      "LOSS:5.76  ACC:0.84\n",
      "LOSS:1.38  ACC:0.91\n",
      "LOSS:2.77  ACC:0.88\n",
      "LOSS:6.51  ACC:0.78\n",
      "LOSS:5.41  ACC:0.81\n",
      "LOSS:7.98  ACC:0.72\n",
      "LOSS:5.61  ACC:0.75\n",
      "LOSS:1.74  ACC:0.94\n",
      "LOSS:0.84  ACC:0.88\n",
      "LOSS:3.75  ACC:0.84\n",
      "LOSS:1.07  ACC:0.91\n",
      "LOSS:1.58  ACC:0.91\n",
      "LOSS:2.54  ACC:0.84\n",
      "LOSS:3.22  ACC:0.84\n",
      "LOSS:6.48  ACC:0.81\n"
     ]
    },
    {
     "name": "stderr",
     "output_type": "stream",
     "text": [
      " 23%|█████████████████████████████████▌                                                                                                                   | 422/1875 [00:04<00:14, 98.90it/s]"
     ]
    },
    {
     "name": "stdout",
     "output_type": "stream",
     "text": [
      "LOSS:3.56  ACC:0.81\n",
      "LOSS:5.61  ACC:0.81\n",
      "LOSS:4.33  ACC:0.78\n",
      "LOSS:9.90  ACC:0.56\n",
      "LOSS:9.54  ACC:0.59\n",
      "LOSS:15.85  ACC:0.62\n",
      "LOSS:1.78  ACC:0.84\n",
      "LOSS:5.06  ACC:0.84\n",
      "LOSS:0.51  ACC:0.94\n",
      "LOSS:3.30  ACC:0.94\n",
      "LOSS:1.26  ACC:0.94\n",
      "LOSS:2.23  ACC:0.84\n",
      "LOSS:2.75  ACC:0.84\n",
      "LOSS:3.59  ACC:0.81\n",
      "LOSS:1.57  ACC:0.91\n",
      "LOSS:2.19  ACC:0.97\n",
      "LOSS:0.21  ACC:0.97\n",
      "LOSS:4.62  ACC:0.84\n",
      "LOSS:3.81  ACC:0.88\n",
      "LOSS:0.55  ACC:0.91\n"
     ]
    },
    {
     "name": "stderr",
     "output_type": "stream",
     "text": [
      " 24%|███████████████████████████████████                                                                                                                  | 442/1875 [00:04<00:15, 90.88it/s]"
     ]
    },
    {
     "name": "stdout",
     "output_type": "stream",
     "text": [
      "LOSS:1.28  ACC:0.88\n",
      "LOSS:2.86  ACC:0.88\n",
      "LOSS:2.80  ACC:0.84\n",
      "LOSS:4.21  ACC:0.84\n",
      "LOSS:2.17  ACC:0.91\n",
      "LOSS:1.58  ACC:0.84\n",
      "LOSS:1.19  ACC:0.81\n",
      "LOSS:6.12  ACC:0.81\n",
      "LOSS:0.88  ACC:0.84\n",
      "LOSS:0.88  ACC:0.91\n",
      "LOSS:4.56  ACC:0.75\n",
      "LOSS:6.92  ACC:0.78\n",
      "LOSS:3.82  ACC:0.81\n",
      "LOSS:4.15  ACC:0.81\n",
      "LOSS:10.59  ACC:0.66\n",
      "LOSS:8.28  ACC:0.62\n",
      "LOSS:5.33  ACC:0.75\n",
      "LOSS:5.04  ACC:0.81\n"
     ]
    },
    {
     "name": "stderr",
     "output_type": "stream",
     "text": [
      " 25%|████████████████████████████████████▊                                                                                                                | 464/1875 [00:04<00:14, 99.45it/s]"
     ]
    },
    {
     "name": "stdout",
     "output_type": "stream",
     "text": [
      "LOSS:2.13  ACC:0.78\n",
      "LOSS:6.51  ACC:0.78\n",
      "LOSS:3.66  ACC:0.69\n",
      "LOSS:5.25  ACC:0.75\n",
      "LOSS:4.59  ACC:0.88\n",
      "LOSS:5.45  ACC:0.84\n",
      "LOSS:5.26  ACC:0.69\n",
      "LOSS:1.69  ACC:0.91\n",
      "LOSS:1.92  ACC:0.94\n",
      "LOSS:0.73  ACC:0.97\n",
      "LOSS:2.98  ACC:0.78\n",
      "LOSS:2.55  ACC:0.84\n",
      "LOSS:2.52  ACC:0.88\n",
      "LOSS:1.51  ACC:0.84\n",
      "LOSS:1.97  ACC:0.88\n",
      "LOSS:2.57  ACC:0.78\n",
      "LOSS:5.97  ACC:0.72\n",
      "LOSS:4.69  ACC:0.78\n",
      "LOSS:5.70  ACC:0.75\n",
      "LOSS:5.36  ACC:0.72\n",
      "LOSS:4.76  ACC:0.75\n",
      "LOSS:4.68  ACC:0.78\n"
     ]
    },
    {
     "name": "stderr",
     "output_type": "stream",
     "text": [
      " 26%|██████████████████████████████████████▌                                                                                                             | 488/1875 [00:04<00:12, 107.64it/s]"
     ]
    },
    {
     "name": "stdout",
     "output_type": "stream",
     "text": [
      "LOSS:1.77  ACC:0.88\n",
      "LOSS:3.18  ACC:0.88\n",
      "LOSS:1.77  ACC:0.88\n",
      "LOSS:0.80  ACC:0.88\n",
      "LOSS:0.87  ACC:0.91\n",
      "LOSS:2.13  ACC:0.88\n",
      "LOSS:0.64  ACC:0.94\n",
      "LOSS:5.03  ACC:0.75\n",
      "LOSS:2.11  ACC:0.88\n",
      "LOSS:2.10  ACC:0.78\n",
      "LOSS:2.58  ACC:0.88\n",
      "LOSS:1.94  ACC:0.91\n",
      "LOSS:2.41  ACC:0.81\n",
      "LOSS:0.78  ACC:0.88\n",
      "LOSS:2.15  ACC:0.94\n",
      "LOSS:1.38  ACC:0.88\n",
      "LOSS:2.27  ACC:0.91\n",
      "LOSS:2.31  ACC:0.91\n",
      "LOSS:1.96  ACC:0.84\n",
      "LOSS:3.87  ACC:0.91\n",
      "LOSS:2.19  ACC:0.84\n",
      "LOSS:1.17  ACC:0.91\n",
      "LOSS:1.33  ACC:0.88\n",
      "LOSS:0.30  ACC:0.97\n"
     ]
    },
    {
     "name": "stderr",
     "output_type": "stream",
     "text": [
      " 27%|████████████████████████████████████████▍                                                                                                           | 512/1875 [00:04<00:12, 113.21it/s]"
     ]
    },
    {
     "name": "stdout",
     "output_type": "stream",
     "text": [
      "LOSS:1.06  ACC:0.91\n",
      "LOSS:0.98  ACC:0.88\n",
      "LOSS:3.31  ACC:0.75\n",
      "LOSS:3.13  ACC:0.75\n",
      "LOSS:3.06  ACC:0.81\n",
      "LOSS:2.22  ACC:0.84\n",
      "LOSS:3.40  ACC:0.81\n",
      "LOSS:3.54  ACC:0.78\n",
      "LOSS:0.61  ACC:0.94\n",
      "LOSS:7.60  ACC:0.75\n",
      "LOSS:5.56  ACC:0.72\n",
      "LOSS:4.63  ACC:0.81\n",
      "LOSS:4.54  ACC:0.81\n",
      "LOSS:2.30  ACC:0.78\n",
      "LOSS:1.78  ACC:0.88\n",
      "LOSS:2.72  ACC:0.81\n",
      "LOSS:3.74  ACC:0.81\n",
      "LOSS:3.26  ACC:0.69\n",
      "LOSS:0.24  ACC:0.97\n",
      "LOSS:3.57  ACC:0.84\n",
      "LOSS:3.08  ACC:0.84\n",
      "LOSS:0.88  ACC:0.88\n",
      "LOSS:1.84  ACC:0.94\n",
      "LOSS:0.27  ACC:0.91\n"
     ]
    },
    {
     "name": "stderr",
     "output_type": "stream",
     "text": [
      " 29%|██████████████████████████████████████████▎                                                                                                         | 536/1875 [00:05<00:11, 116.16it/s]"
     ]
    },
    {
     "name": "stdout",
     "output_type": "stream",
     "text": [
      "LOSS:4.31  ACC:0.84\n",
      "LOSS:3.32  ACC:0.81\n",
      "LOSS:3.80  ACC:0.84\n",
      "LOSS:2.18  ACC:0.91\n",
      "LOSS:5.34  ACC:0.88\n",
      "LOSS:1.17  ACC:0.84\n",
      "LOSS:5.21  ACC:0.81\n",
      "LOSS:1.17  ACC:0.91\n",
      "LOSS:3.09  ACC:0.78\n",
      "LOSS:1.60  ACC:0.84\n",
      "LOSS:2.79  ACC:0.78\n",
      "LOSS:4.11  ACC:0.75\n",
      "LOSS:0.78  ACC:0.91\n",
      "LOSS:3.73  ACC:0.78\n",
      "LOSS:1.99  ACC:0.84\n",
      "LOSS:1.64  ACC:0.88\n",
      "LOSS:5.67  ACC:0.81\n",
      "LOSS:1.90  ACC:0.81\n",
      "LOSS:5.71  ACC:0.78\n",
      "LOSS:3.10  ACC:0.88\n",
      "LOSS:1.67  ACC:0.88\n",
      "LOSS:2.07  ACC:0.88\n",
      "LOSS:0.98  ACC:0.88\n",
      "LOSS:2.17  ACC:0.91\n"
     ]
    },
    {
     "name": "stderr",
     "output_type": "stream",
     "text": [
      " 30%|████████████████████████████████████████████▏                                                                                                       | 560/1875 [00:05<00:11, 116.05it/s]"
     ]
    },
    {
     "name": "stdout",
     "output_type": "stream",
     "text": [
      "LOSS:2.11  ACC:0.78\n",
      "LOSS:4.82  ACC:0.84\n",
      "LOSS:1.76  ACC:0.91\n",
      "LOSS:2.00  ACC:0.84\n",
      "LOSS:2.02  ACC:0.88\n",
      "LOSS:0.19  ACC:0.94\n",
      "LOSS:3.32  ACC:0.84\n",
      "LOSS:1.93  ACC:0.94\n",
      "LOSS:2.71  ACC:0.84\n",
      "LOSS:8.30  ACC:0.66\n",
      "LOSS:3.68  ACC:0.88\n",
      "LOSS:5.25  ACC:0.78\n",
      "LOSS:4.09  ACC:0.88\n",
      "LOSS:3.01  ACC:0.81\n",
      "LOSS:3.99  ACC:0.81\n",
      "LOSS:1.23  ACC:0.88\n",
      "LOSS:4.41  ACC:0.81\n",
      "LOSS:4.64  ACC:0.72\n",
      "LOSS:3.87  ACC:0.78\n",
      "LOSS:7.78  ACC:0.66\n",
      "LOSS:2.70  ACC:0.88\n",
      "LOSS:2.40  ACC:0.91\n",
      "LOSS:0.70  ACC:0.91\n",
      "LOSS:1.34  ACC:0.91\n"
     ]
    },
    {
     "name": "stderr",
     "output_type": "stream",
     "text": [
      " 31%|██████████████████████████████████████████████                                                                                                      | 584/1875 [00:05<00:11, 116.91it/s]"
     ]
    },
    {
     "name": "stdout",
     "output_type": "stream",
     "text": [
      "LOSS:3.23  ACC:0.91\n",
      "LOSS:4.33  ACC:0.78\n",
      "LOSS:0.60  ACC:0.94\n",
      "LOSS:1.18  ACC:0.91\n",
      "LOSS:3.54  ACC:0.91\n",
      "LOSS:1.98  ACC:0.88\n",
      "LOSS:1.32  ACC:0.97\n",
      "LOSS:0.67  ACC:0.94\n",
      "LOSS:1.83  ACC:0.91\n",
      "LOSS:0.48  ACC:0.94\n",
      "LOSS:2.57  ACC:0.88\n",
      "LOSS:1.90  ACC:0.94\n",
      "LOSS:2.26  ACC:0.88\n",
      "LOSS:0.67  ACC:0.94\n",
      "LOSS:3.55  ACC:0.81\n",
      "LOSS:1.53  ACC:0.88\n",
      "LOSS:5.33  ACC:0.84\n",
      "LOSS:4.06  ACC:0.88\n",
      "LOSS:0.98  ACC:0.94\n",
      "LOSS:0.39  ACC:0.97\n",
      "LOSS:6.18  ACC:0.88\n",
      "LOSS:1.25  ACC:0.91\n",
      "LOSS:0.55  ACC:0.91\n",
      "LOSS:0.47  ACC:0.91\n"
     ]
    },
    {
     "name": "stderr",
     "output_type": "stream",
     "text": [
      " 32%|███████████████████████████████████████████████▉                                                                                                    | 608/1875 [00:05<00:10, 118.17it/s]"
     ]
    },
    {
     "name": "stdout",
     "output_type": "stream",
     "text": [
      "LOSS:4.10  ACC:0.91\n",
      "LOSS:0.27  ACC:0.97\n",
      "LOSS:1.18  ACC:0.88\n",
      "LOSS:4.60  ACC:0.88\n",
      "LOSS:0.59  ACC:0.94\n",
      "LOSS:1.19  ACC:0.91\n",
      "LOSS:0.38  ACC:0.94\n",
      "LOSS:1.06  ACC:0.94\n",
      "LOSS:1.66  ACC:0.91\n",
      "LOSS:3.81  ACC:0.78\n",
      "LOSS:2.18  ACC:0.84\n",
      "LOSS:2.43  ACC:0.94\n",
      "LOSS:0.96  ACC:0.91\n",
      "LOSS:1.41  ACC:0.84\n",
      "LOSS:0.89  ACC:0.91\n",
      "LOSS:1.69  ACC:0.91\n",
      "LOSS:3.00  ACC:0.94\n",
      "LOSS:3.00  ACC:0.84\n",
      "LOSS:2.89  ACC:0.88\n",
      "LOSS:3.03  ACC:0.84\n",
      "LOSS:1.04  ACC:0.84\n",
      "LOSS:3.49  ACC:0.78\n",
      "LOSS:4.43  ACC:0.78\n",
      "LOSS:3.66  ACC:0.81\n",
      "LOSS:6.93  ACC:0.72\n"
     ]
    },
    {
     "name": "stderr",
     "output_type": "stream",
     "text": [
      " 34%|█████████████████████████████████████████████████▉                                                                                                  | 632/1875 [00:06<00:10, 117.65it/s]"
     ]
    },
    {
     "name": "stdout",
     "output_type": "stream",
     "text": [
      "LOSS:0.81  ACC:0.88\n",
      "LOSS:2.11  ACC:0.94\n",
      "LOSS:1.99  ACC:0.88\n",
      "LOSS:1.16  ACC:0.97\n",
      "LOSS:2.02  ACC:0.88\n",
      "LOSS:1.64  ACC:0.97\n",
      "LOSS:0.10  ACC:0.97\n",
      "LOSS:0.93  ACC:0.94\n",
      "LOSS:0.95  ACC:0.94\n",
      "LOSS:5.24  ACC:0.88\n",
      "LOSS:0.78  ACC:0.91\n",
      "LOSS:0.83  ACC:0.94\n",
      "LOSS:0.95  ACC:0.84\n",
      "LOSS:3.54  ACC:0.78\n",
      "LOSS:7.02  ACC:0.78\n",
      "LOSS:3.10  ACC:0.75\n",
      "LOSS:0.66  ACC:0.84\n",
      "LOSS:4.32  ACC:0.88\n",
      "LOSS:3.27  ACC:0.91\n",
      "LOSS:0.03  ACC:1.00\n",
      "LOSS:7.12  ACC:0.84\n",
      "LOSS:4.73  ACC:0.84\n",
      "LOSS:1.11  ACC:0.94\n",
      "LOSS:0.55  ACC:0.91\n"
     ]
    },
    {
     "name": "stderr",
     "output_type": "stream",
     "text": [
      " 35%|███████████████████████████████████████████████████▊                                                                                                | 656/1875 [00:06<00:10, 118.09it/s]"
     ]
    },
    {
     "name": "stdout",
     "output_type": "stream",
     "text": [
      "LOSS:0.53  ACC:0.91\n",
      "LOSS:2.33  ACC:0.84\n",
      "LOSS:0.24  ACC:0.97\n",
      "LOSS:1.16  ACC:0.94\n",
      "LOSS:0.74  ACC:0.91\n",
      "LOSS:3.93  ACC:0.88\n",
      "LOSS:1.18  ACC:0.94\n",
      "LOSS:2.19  ACC:0.84\n",
      "LOSS:3.84  ACC:0.88\n",
      "LOSS:4.66  ACC:0.75\n",
      "LOSS:3.24  ACC:0.69\n",
      "LOSS:8.94  ACC:0.69\n",
      "LOSS:3.66  ACC:0.94\n",
      "LOSS:4.72  ACC:0.81\n",
      "LOSS:3.03  ACC:0.84\n",
      "LOSS:5.01  ACC:0.84\n",
      "LOSS:3.18  ACC:0.88\n",
      "LOSS:4.72  ACC:0.72\n",
      "LOSS:2.58  ACC:0.84\n",
      "LOSS:6.47  ACC:0.78\n",
      "LOSS:5.15  ACC:0.78\n",
      "LOSS:7.20  ACC:0.78\n",
      "LOSS:5.26  ACC:0.72\n",
      "LOSS:5.52  ACC:0.75\n",
      "LOSS:3.21  ACC:0.88\n"
     ]
    },
    {
     "name": "stderr",
     "output_type": "stream",
     "text": [
      "\r",
      " 36%|████████████████████████████████████████████████████▋                                                                                               | 668/1875 [00:06<00:10, 111.78it/s]"
     ]
    },
    {
     "name": "stdout",
     "output_type": "stream",
     "text": [
      "LOSS:2.32  ACC:0.88\n",
      "LOSS:2.50  ACC:0.88\n",
      "LOSS:2.57  ACC:0.91\n",
      "LOSS:5.38  ACC:0.81\n",
      "LOSS:1.54  ACC:0.91\n",
      "LOSS:0.05  ACC:0.97\n",
      "LOSS:2.47  ACC:0.84\n",
      "LOSS:2.65  ACC:0.88\n",
      "LOSS:2.50  ACC:0.81\n",
      "LOSS:8.89  ACC:0.75\n",
      "LOSS:15.78  ACC:0.53\n",
      "LOSS:4.43  ACC:0.88\n",
      "LOSS:0.66  ACC:0.94\n",
      "LOSS:2.99  ACC:0.88\n",
      "LOSS:5.29  ACC:0.78\n",
      "LOSS:6.78  ACC:0.66\n",
      "LOSS:3.04  ACC:0.88\n",
      "LOSS:1.14  ACC:0.91\n",
      "LOSS:3.45  ACC:0.84\n",
      "LOSS:2.07  ACC:0.81\n"
     ]
    },
    {
     "name": "stderr",
     "output_type": "stream",
     "text": [
      " 37%|██████████████████████████████████████████████████████▌                                                                                             | 691/1875 [00:06<00:11, 103.49it/s]"
     ]
    },
    {
     "name": "stdout",
     "output_type": "stream",
     "text": [
      "LOSS:2.48  ACC:0.84\n",
      "LOSS:0.92  ACC:0.94\n",
      "LOSS:1.56  ACC:0.91\n",
      "LOSS:1.23  ACC:0.94\n",
      "LOSS:0.53  ACC:0.88\n",
      "LOSS:1.81  ACC:0.84\n",
      "LOSS:1.20  ACC:0.91\n",
      "LOSS:3.95  ACC:0.91\n",
      "LOSS:2.23  ACC:0.91\n",
      "LOSS:0.23  ACC:0.94\n",
      "LOSS:1.08  ACC:0.81\n",
      "LOSS:1.50  ACC:0.88\n",
      "LOSS:4.86  ACC:0.84\n",
      "LOSS:2.96  ACC:0.84\n",
      "LOSS:3.11  ACC:0.84\n",
      "LOSS:6.05  ACC:0.88\n",
      "LOSS:0.84  ACC:0.91\n",
      "LOSS:4.00  ACC:0.78\n",
      "LOSS:3.41  ACC:0.75\n",
      "LOSS:0.33  ACC:0.97\n"
     ]
    },
    {
     "name": "stderr",
     "output_type": "stream",
     "text": [
      " 38%|████████████████████████████████████████████████████████▌                                                                                            | 712/1875 [00:06<00:11, 98.22it/s]"
     ]
    },
    {
     "name": "stdout",
     "output_type": "stream",
     "text": [
      "LOSS:1.50  ACC:0.91\n",
      "LOSS:2.25  ACC:0.88\n",
      "LOSS:1.46  ACC:0.91\n",
      "LOSS:3.78  ACC:0.75\n",
      "LOSS:8.10  ACC:0.53\n",
      "LOSS:6.40  ACC:0.69\n",
      "LOSS:3.61  ACC:0.81\n",
      "LOSS:1.92  ACC:0.91\n",
      "LOSS:4.03  ACC:0.84\n",
      "LOSS:2.31  ACC:0.81\n",
      "LOSS:3.71  ACC:0.91\n",
      "LOSS:1.98  ACC:0.84\n",
      "LOSS:2.54  ACC:0.75\n",
      "LOSS:1.89  ACC:0.75\n",
      "LOSS:1.31  ACC:0.84\n",
      "LOSS:0.57  ACC:0.94\n",
      "LOSS:3.67  ACC:0.91\n",
      "LOSS:1.11  ACC:0.91\n",
      "LOSS:0.94  ACC:0.91\n"
     ]
    },
    {
     "name": "stderr",
     "output_type": "stream",
     "text": [
      " 39%|██████████████████████████████████████████████████████████▏                                                                                          | 732/1875 [00:07<00:12, 94.73it/s]"
     ]
    },
    {
     "name": "stdout",
     "output_type": "stream",
     "text": [
      "LOSS:0.02  ACC:0.97\n",
      "LOSS:3.18  ACC:0.84\n",
      "LOSS:4.42  ACC:0.81\n",
      "LOSS:9.90  ACC:0.69\n",
      "LOSS:6.85  ACC:0.75\n",
      "LOSS:3.64  ACC:0.84\n",
      "LOSS:1.78  ACC:0.91\n",
      "LOSS:3.84  ACC:0.88\n",
      "LOSS:0.69  ACC:0.94\n",
      "LOSS:1.05  ACC:0.94\n",
      "LOSS:2.00  ACC:0.91\n",
      "LOSS:2.44  ACC:0.91\n",
      "LOSS:1.31  ACC:0.91\n",
      "LOSS:1.62  ACC:0.84\n",
      "LOSS:1.61  ACC:0.88\n",
      "LOSS:3.56  ACC:0.78\n",
      "LOSS:1.38  ACC:0.88\n",
      "LOSS:2.23  ACC:0.88\n",
      "LOSS:2.29  ACC:0.94\n"
     ]
    },
    {
     "name": "stderr",
     "output_type": "stream",
     "text": [
      " 40%|███████████████████████████████████████████████████████████▊                                                                                         | 752/1875 [00:07<00:12, 89.52it/s]"
     ]
    },
    {
     "name": "stdout",
     "output_type": "stream",
     "text": [
      "LOSS:1.47  ACC:0.91\n",
      "LOSS:2.36  ACC:0.75\n",
      "LOSS:0.48  ACC:0.88\n",
      "LOSS:1.81  ACC:0.84\n",
      "LOSS:4.88  ACC:0.81\n",
      "LOSS:1.90  ACC:0.88\n",
      "LOSS:1.09  ACC:0.91\n",
      "LOSS:3.46  ACC:0.81\n",
      "LOSS:3.31  ACC:0.84\n",
      "LOSS:4.06  ACC:0.84\n",
      "LOSS:3.10  ACC:0.88\n",
      "LOSS:3.66  ACC:0.94\n",
      "LOSS:4.78  ACC:0.78\n",
      "LOSS:2.59  ACC:0.78\n",
      "LOSS:2.98  ACC:0.78\n",
      "LOSS:0.68  ACC:0.88\n",
      "LOSS:1.12  ACC:0.84\n",
      "LOSS:1.63  ACC:0.91\n",
      "LOSS:1.43  ACC:0.88\n"
     ]
    },
    {
     "name": "stderr",
     "output_type": "stream",
     "text": [
      " 41%|█████████████████████████████████████████████████████████████▌                                                                                       | 775/1875 [00:07<00:11, 99.61it/s]"
     ]
    },
    {
     "name": "stdout",
     "output_type": "stream",
     "text": [
      "LOSS:2.78  ACC:0.81\n",
      "LOSS:4.01  ACC:0.81\n",
      "LOSS:7.38  ACC:0.69\n",
      "LOSS:2.45  ACC:0.84\n",
      "LOSS:1.62  ACC:0.91\n",
      "LOSS:2.18  ACC:0.84\n",
      "LOSS:2.28  ACC:0.84\n",
      "LOSS:1.31  ACC:0.91\n",
      "LOSS:3.14  ACC:0.84\n",
      "LOSS:1.77  ACC:0.97\n",
      "LOSS:3.26  ACC:0.78\n",
      "LOSS:3.84  ACC:0.91\n",
      "LOSS:1.02  ACC:0.91\n",
      "LOSS:3.60  ACC:0.75\n",
      "LOSS:4.39  ACC:0.75\n",
      "LOSS:6.87  ACC:0.66\n",
      "LOSS:3.33  ACC:0.78\n",
      "LOSS:3.07  ACC:0.84\n",
      "LOSS:5.68  ACC:0.94\n",
      "LOSS:2.38  ACC:0.78\n",
      "LOSS:1.15  ACC:0.94\n",
      "LOSS:4.36  ACC:0.78\n",
      "LOSS:2.02  ACC:0.91\n"
     ]
    },
    {
     "name": "stderr",
     "output_type": "stream",
     "text": [
      " 43%|███████████████████████████████████████████████████████████████                                                                                     | 799/1875 [00:07<00:10, 106.00it/s]"
     ]
    },
    {
     "name": "stdout",
     "output_type": "stream",
     "text": [
      "LOSS:2.85  ACC:0.88\n",
      "LOSS:5.50  ACC:0.81\n",
      "LOSS:2.08  ACC:0.94\n",
      "LOSS:0.43  ACC:0.97\n",
      "LOSS:0.42  ACC:0.91\n",
      "LOSS:5.01  ACC:0.88\n",
      "LOSS:1.84  ACC:0.88\n",
      "LOSS:1.17  ACC:0.84\n",
      "LOSS:1.96  ACC:0.88\n",
      "LOSS:1.23  ACC:0.88\n",
      "LOSS:1.89  ACC:0.88\n",
      "LOSS:4.14  ACC:0.78\n",
      "LOSS:2.95  ACC:0.84\n",
      "LOSS:0.00  ACC:1.00\n",
      "LOSS:1.94  ACC:0.88\n",
      "LOSS:4.37  ACC:0.78\n",
      "LOSS:4.95  ACC:0.88\n",
      "LOSS:1.96  ACC:0.94\n",
      "LOSS:1.12  ACC:0.91\n",
      "LOSS:3.76  ACC:0.94\n",
      "LOSS:1.43  ACC:0.91\n",
      "LOSS:0.82  ACC:0.94\n",
      "LOSS:0.30  ACC:0.94\n"
     ]
    },
    {
     "name": "stderr",
     "output_type": "stream",
     "text": [
      " 44%|████████████████████████████████████████████████████████████████▉                                                                                   | 822/1875 [00:07<00:09, 107.38it/s]"
     ]
    },
    {
     "name": "stdout",
     "output_type": "stream",
     "text": [
      "LOSS:2.88  ACC:0.94\n",
      "LOSS:1.60  ACC:0.91\n",
      "LOSS:1.44  ACC:0.91\n",
      "LOSS:1.44  ACC:0.94\n",
      "LOSS:2.86  ACC:0.91\n",
      "LOSS:2.97  ACC:0.84\n",
      "LOSS:0.26  ACC:0.91\n",
      "LOSS:1.04  ACC:0.91\n",
      "LOSS:1.46  ACC:0.88\n",
      "LOSS:1.69  ACC:0.91\n",
      "LOSS:1.55  ACC:0.94\n",
      "LOSS:2.81  ACC:0.84\n",
      "LOSS:5.86  ACC:0.66\n",
      "LOSS:0.62  ACC:0.88\n",
      "LOSS:2.17  ACC:0.84\n",
      "LOSS:1.53  ACC:0.88\n",
      "LOSS:1.50  ACC:0.94\n",
      "LOSS:1.85  ACC:0.94\n",
      "LOSS:2.96  ACC:0.81\n",
      "LOSS:2.07  ACC:0.84\n",
      "LOSS:0.29  ACC:0.97\n",
      "LOSS:2.72  ACC:0.84\n"
     ]
    },
    {
     "name": "stderr",
     "output_type": "stream",
     "text": [
      " 45%|██████████████████████████████████████████████████████████████████▋                                                                                 | 845/1875 [00:08<00:09, 109.40it/s]"
     ]
    },
    {
     "name": "stdout",
     "output_type": "stream",
     "text": [
      "LOSS:7.17  ACC:0.88\n",
      "LOSS:0.47  ACC:0.91\n",
      "LOSS:3.52  ACC:0.88\n",
      "LOSS:4.37  ACC:0.81\n",
      "LOSS:1.91  ACC:0.91\n",
      "LOSS:2.12  ACC:0.91\n",
      "LOSS:2.88  ACC:0.88\n",
      "LOSS:1.19  ACC:0.94\n",
      "LOSS:9.15  ACC:0.75\n",
      "LOSS:1.04  ACC:0.91\n",
      "LOSS:2.26  ACC:0.81\n",
      "LOSS:7.11  ACC:0.78\n",
      "LOSS:5.24  ACC:0.78\n",
      "LOSS:1.22  ACC:0.91\n",
      "LOSS:0.31  ACC:0.97\n",
      "LOSS:5.80  ACC:0.72\n",
      "LOSS:6.54  ACC:0.81\n",
      "LOSS:0.58  ACC:0.88\n",
      "LOSS:0.85  ACC:0.91\n",
      "LOSS:0.50  ACC:0.94\n",
      "LOSS:0.69  ACC:0.91\n",
      "LOSS:1.43  ACC:0.91\n",
      "LOSS:1.13  ACC:0.88\n"
     ]
    },
    {
     "name": "stderr",
     "output_type": "stream",
     "text": [
      " 46%|████████████████████████████████████████████████████████████████████▍                                                                               | 867/1875 [00:08<00:09, 109.06it/s]"
     ]
    },
    {
     "name": "stdout",
     "output_type": "stream",
     "text": [
      "LOSS:2.80  ACC:0.75\n",
      "LOSS:5.39  ACC:0.84\n",
      "LOSS:8.62  ACC:0.81\n",
      "LOSS:0.29  ACC:0.94\n",
      "LOSS:2.84  ACC:0.78\n",
      "LOSS:0.95  ACC:0.94\n",
      "LOSS:0.86  ACC:0.91\n",
      "LOSS:2.09  ACC:0.88\n",
      "LOSS:0.24  ACC:0.94\n",
      "LOSS:0.83  ACC:0.91\n",
      "LOSS:3.99  ACC:0.78\n",
      "LOSS:2.40  ACC:0.88\n",
      "LOSS:3.06  ACC:0.81\n",
      "LOSS:4.03  ACC:0.91\n",
      "LOSS:0.74  ACC:0.94\n",
      "LOSS:2.27  ACC:0.81\n",
      "LOSS:4.86  ACC:0.75\n",
      "LOSS:3.90  ACC:0.88\n",
      "LOSS:3.21  ACC:0.88\n",
      "LOSS:2.47  ACC:0.78\n",
      "LOSS:0.88  ACC:0.91\n",
      "LOSS:1.66  ACC:0.88\n",
      "LOSS:2.23  ACC:0.84\n"
     ]
    },
    {
     "name": "stderr",
     "output_type": "stream",
     "text": [
      " 48%|██████████████████████████████████████████████████████████████████████▎                                                                             | 891/1875 [00:08<00:08, 110.64it/s]"
     ]
    },
    {
     "name": "stdout",
     "output_type": "stream",
     "text": [
      "LOSS:1.29  ACC:0.91\n",
      "LOSS:1.50  ACC:0.84\n",
      "LOSS:2.00  ACC:0.88\n",
      "LOSS:3.35  ACC:0.78\n",
      "LOSS:3.46  ACC:0.75\n",
      "LOSS:0.15  ACC:0.97\n",
      "LOSS:1.02  ACC:0.94\n",
      "LOSS:1.41  ACC:0.97\n",
      "LOSS:1.55  ACC:0.94\n",
      "LOSS:4.79  ACC:0.81\n",
      "LOSS:0.94  ACC:0.94\n",
      "LOSS:4.33  ACC:0.84\n",
      "LOSS:2.51  ACC:0.84\n",
      "LOSS:1.70  ACC:0.94\n",
      "LOSS:0.30  ACC:0.94\n",
      "LOSS:0.05  ACC:0.97\n",
      "LOSS:9.67  ACC:0.75\n",
      "LOSS:2.99  ACC:0.88\n",
      "LOSS:2.17  ACC:0.88\n",
      "LOSS:0.03  ACC:1.00\n",
      "LOSS:3.00  ACC:0.91\n",
      "LOSS:2.98  ACC:0.88\n",
      "LOSS:4.66  ACC:0.88\n"
     ]
    },
    {
     "name": "stderr",
     "output_type": "stream",
     "text": [
      " 49%|████████████████████████████████████████████████████████████████████████▏                                                                           | 915/1875 [00:08<00:08, 111.75it/s]"
     ]
    },
    {
     "name": "stdout",
     "output_type": "stream",
     "text": [
      "LOSS:1.13  ACC:0.88\n",
      "LOSS:8.54  ACC:0.72\n",
      "LOSS:7.89  ACC:0.72\n",
      "LOSS:0.15  ACC:0.91\n",
      "LOSS:2.69  ACC:0.84\n",
      "LOSS:0.66  ACC:0.88\n",
      "LOSS:3.24  ACC:0.88\n",
      "LOSS:1.23  ACC:0.88\n",
      "LOSS:2.86  ACC:0.81\n",
      "LOSS:3.12  ACC:0.81\n",
      "LOSS:0.92  ACC:0.91\n",
      "LOSS:4.17  ACC:0.78\n",
      "LOSS:1.77  ACC:0.84\n",
      "LOSS:2.84  ACC:0.75\n",
      "LOSS:1.52  ACC:0.84\n",
      "LOSS:3.92  ACC:0.91\n",
      "LOSS:2.00  ACC:0.78\n",
      "LOSS:3.10  ACC:0.75\n",
      "LOSS:6.54  ACC:0.69\n",
      "LOSS:6.14  ACC:0.69\n",
      "LOSS:3.02  ACC:0.75\n",
      "LOSS:2.82  ACC:0.91\n",
      "LOSS:6.16  ACC:0.78\n"
     ]
    },
    {
     "name": "stderr",
     "output_type": "stream",
     "text": [
      "\r",
      " 49%|█████████████████████████████████████████████████████████████████████████▏                                                                          | 927/1875 [00:08<00:08, 110.57it/s]"
     ]
    },
    {
     "name": "stdout",
     "output_type": "stream",
     "text": [
      "LOSS:2.16  ACC:0.88\n",
      "LOSS:0.66  ACC:0.88\n",
      "LOSS:2.58  ACC:0.84\n",
      "LOSS:2.38  ACC:0.94\n",
      "LOSS:0.81  ACC:0.88\n",
      "LOSS:2.89  ACC:0.91\n",
      "LOSS:1.62  ACC:0.88\n",
      "LOSS:1.52  ACC:0.91\n",
      "LOSS:3.97  ACC:0.78\n",
      "LOSS:0.61  ACC:0.94\n",
      "LOSS:2.48  ACC:0.81\n",
      "LOSS:1.57  ACC:0.91\n",
      "LOSS:3.41  ACC:0.84\n",
      "LOSS:3.10  ACC:0.88\n",
      "LOSS:1.33  ACC:0.88\n",
      "LOSS:1.09  ACC:0.88\n",
      "LOSS:3.30  ACC:0.78\n",
      "LOSS:1.72  ACC:0.88\n",
      "LOSS:1.93  ACC:0.72\n",
      "LOSS:4.02  ACC:0.81\n",
      "LOSS:5.71  ACC:0.84\n",
      "LOSS:1.36  ACC:0.91\n"
     ]
    },
    {
     "name": "stderr",
     "output_type": "stream",
     "text": [
      " 51%|███████████████████████████████████████████████████████████████████████████                                                                         | 951/1875 [00:09<00:08, 108.64it/s]"
     ]
    },
    {
     "name": "stdout",
     "output_type": "stream",
     "text": [
      "LOSS:1.91  ACC:0.78\n",
      "LOSS:2.14  ACC:0.91\n",
      "LOSS:2.24  ACC:0.84\n",
      "LOSS:5.02  ACC:0.88\n",
      "LOSS:4.38  ACC:0.88\n",
      "LOSS:1.49  ACC:0.91\n",
      "LOSS:3.98  ACC:0.75\n",
      "LOSS:3.00  ACC:0.78\n",
      "LOSS:0.48  ACC:0.97\n",
      "LOSS:1.71  ACC:0.94\n",
      "LOSS:1.16  ACC:0.91\n",
      "LOSS:1.50  ACC:0.91\n",
      "LOSS:1.20  ACC:0.84\n",
      "LOSS:3.96  ACC:0.75\n",
      "LOSS:5.73  ACC:0.66\n",
      "LOSS:4.07  ACC:0.78\n",
      "LOSS:4.41  ACC:0.72\n",
      "LOSS:0.77  ACC:0.91\n",
      "LOSS:2.89  ACC:0.84\n",
      "LOSS:3.04  ACC:0.78\n",
      "LOSS:1.42  ACC:0.88\n",
      "LOSS:4.96  ACC:0.84\n",
      "LOSS:3.38  ACC:0.81\n"
     ]
    },
    {
     "name": "stderr",
     "output_type": "stream",
     "text": [
      " 52%|████████████████████████████████████████████████████████████████████████████▉                                                                       | 974/1875 [00:09<00:08, 109.40it/s]"
     ]
    },
    {
     "name": "stdout",
     "output_type": "stream",
     "text": [
      "LOSS:2.24  ACC:0.91\n",
      "LOSS:4.07  ACC:0.81\n",
      "LOSS:2.94  ACC:0.88\n",
      "LOSS:1.42  ACC:0.88\n",
      "LOSS:5.60  ACC:0.88\n",
      "LOSS:1.73  ACC:0.88\n",
      "LOSS:1.52  ACC:0.91\n",
      "LOSS:2.47  ACC:0.91\n",
      "LOSS:0.88  ACC:0.91\n",
      "LOSS:2.36  ACC:0.91\n",
      "LOSS:2.20  ACC:0.88\n",
      "LOSS:6.43  ACC:0.75\n",
      "LOSS:1.48  ACC:0.88\n",
      "LOSS:6.82  ACC:0.84\n",
      "LOSS:1.56  ACC:0.91\n",
      "LOSS:2.03  ACC:0.91\n",
      "LOSS:2.27  ACC:0.78\n",
      "LOSS:9.14  ACC:0.75\n",
      "LOSS:9.24  ACC:0.75\n",
      "LOSS:7.70  ACC:0.62\n",
      "LOSS:6.94  ACC:0.81\n",
      "LOSS:3.85  ACC:0.78\n",
      "LOSS:2.83  ACC:0.88\n"
     ]
    },
    {
     "name": "stderr",
     "output_type": "stream",
     "text": [
      " 53%|██████████████████████████████████████████████████████████████████████████████▊                                                                     | 998/1875 [00:09<00:07, 111.15it/s]"
     ]
    },
    {
     "name": "stdout",
     "output_type": "stream",
     "text": [
      "LOSS:1.71  ACC:0.88\n",
      "LOSS:0.20  ACC:0.94\n",
      "LOSS:2.81  ACC:0.88\n",
      "LOSS:1.62  ACC:0.81\n",
      "LOSS:0.81  ACC:0.94\n",
      "LOSS:4.86  ACC:0.72\n",
      "LOSS:4.70  ACC:0.75\n",
      "LOSS:3.83  ACC:0.84\n",
      "LOSS:3.44  ACC:0.81\n",
      "LOSS:5.79  ACC:0.75\n",
      "LOSS:1.46  ACC:0.91\n",
      "LOSS:2.94  ACC:0.81\n",
      "LOSS:3.34  ACC:0.81\n",
      "LOSS:0.01  ACC:1.00\n",
      "LOSS:3.56  ACC:0.84\n",
      "LOSS:3.89  ACC:0.75\n",
      "LOSS:5.42  ACC:0.75\n",
      "LOSS:3.27  ACC:0.75\n",
      "LOSS:2.30  ACC:0.88\n",
      "LOSS:1.89  ACC:0.81\n",
      "LOSS:5.79  ACC:0.72\n",
      "LOSS:6.99  ACC:0.72\n",
      "LOSS:2.42  ACC:0.88\n"
     ]
    },
    {
     "name": "stderr",
     "output_type": "stream",
     "text": [
      " 55%|████████████████████████████████████████████████████████████████████████████████                                                                   | 1022/1875 [00:09<00:07, 112.40it/s]"
     ]
    },
    {
     "name": "stdout",
     "output_type": "stream",
     "text": [
      "LOSS:3.09  ACC:0.81\n",
      "LOSS:4.69  ACC:0.81\n",
      "LOSS:1.89  ACC:0.84\n",
      "LOSS:6.51  ACC:0.62\n",
      "LOSS:4.21  ACC:0.75\n",
      "LOSS:8.64  ACC:0.66\n",
      "LOSS:5.93  ACC:0.75\n",
      "LOSS:14.67  ACC:0.62\n",
      "LOSS:7.55  ACC:0.62\n",
      "LOSS:1.08  ACC:0.97\n",
      "LOSS:3.60  ACC:0.84\n",
      "LOSS:1.54  ACC:0.91\n",
      "LOSS:1.29  ACC:0.88\n",
      "LOSS:2.98  ACC:0.94\n",
      "LOSS:1.57  ACC:0.91\n",
      "LOSS:2.34  ACC:0.91\n",
      "LOSS:1.05  ACC:0.88\n",
      "LOSS:5.54  ACC:0.81\n",
      "LOSS:2.69  ACC:0.81\n",
      "LOSS:3.37  ACC:0.81\n",
      "LOSS:3.08  ACC:0.84\n",
      "LOSS:3.46  ACC:0.81\n",
      "LOSS:2.36  ACC:0.88\n"
     ]
    },
    {
     "name": "stderr",
     "output_type": "stream",
     "text": [
      " 56%|██████████████████████████████████████████████████████████████████████████████████                                                                 | 1046/1875 [00:09<00:07, 112.69it/s]"
     ]
    },
    {
     "name": "stdout",
     "output_type": "stream",
     "text": [
      "LOSS:2.15  ACC:0.91\n",
      "LOSS:3.75  ACC:0.91\n",
      "LOSS:0.53  ACC:0.91\n",
      "LOSS:2.44  ACC:0.91\n",
      "LOSS:0.63  ACC:0.91\n",
      "LOSS:2.64  ACC:0.88\n",
      "LOSS:1.36  ACC:0.94\n",
      "LOSS:4.09  ACC:0.81\n",
      "LOSS:3.68  ACC:0.88\n",
      "LOSS:1.73  ACC:0.94\n",
      "LOSS:2.82  ACC:0.88\n",
      "LOSS:2.69  ACC:0.81\n",
      "LOSS:4.39  ACC:0.75\n",
      "LOSS:2.08  ACC:0.88\n",
      "LOSS:4.83  ACC:0.75\n",
      "LOSS:2.64  ACC:0.81\n",
      "LOSS:0.25  ACC:0.97\n",
      "LOSS:1.99  ACC:0.88\n",
      "LOSS:1.32  ACC:0.94\n",
      "LOSS:3.29  ACC:0.84\n",
      "LOSS:2.71  ACC:0.84\n",
      "LOSS:0.04  ACC:0.97\n",
      "LOSS:1.10  ACC:0.97\n",
      "LOSS:0.26  ACC:0.91\n"
     ]
    },
    {
     "name": "stderr",
     "output_type": "stream",
     "text": [
      " 57%|███████████████████████████████████████████████████████████████████████████████████▉                                                               | 1070/1875 [00:10<00:07, 113.49it/s]"
     ]
    },
    {
     "name": "stdout",
     "output_type": "stream",
     "text": [
      "LOSS:0.41  ACC:0.94\n",
      "LOSS:3.13  ACC:0.81\n",
      "LOSS:0.32  ACC:0.94\n",
      "LOSS:0.52  ACC:0.94\n",
      "LOSS:0.28  ACC:0.97\n",
      "LOSS:0.81  ACC:0.94\n",
      "LOSS:0.73  ACC:0.97\n",
      "LOSS:1.24  ACC:0.84\n",
      "LOSS:1.29  ACC:0.94\n",
      "LOSS:0.01  ACC:1.00\n",
      "LOSS:3.65  ACC:0.81\n",
      "LOSS:0.65  ACC:0.88\n",
      "LOSS:2.46  ACC:0.94\n",
      "LOSS:0.01  ACC:1.00\n",
      "LOSS:1.76  ACC:0.88\n",
      "LOSS:2.33  ACC:0.88\n",
      "LOSS:2.39  ACC:0.88\n",
      "LOSS:0.47  ACC:0.97\n",
      "LOSS:1.24  ACC:0.88\n",
      "LOSS:0.85  ACC:0.94\n",
      "LOSS:0.44  ACC:0.91\n",
      "LOSS:4.59  ACC:0.88\n",
      "LOSS:4.84  ACC:0.81\n",
      "LOSS:2.32  ACC:0.84\n"
     ]
    },
    {
     "name": "stderr",
     "output_type": "stream",
     "text": [
      " 58%|█████████████████████████████████████████████████████████████████████████████████████▊                                                             | 1094/1875 [00:10<00:06, 114.25it/s]"
     ]
    },
    {
     "name": "stdout",
     "output_type": "stream",
     "text": [
      "LOSS:4.54  ACC:0.88\n",
      "LOSS:3.98  ACC:0.75\n",
      "LOSS:2.27  ACC:0.84\n",
      "LOSS:3.10  ACC:0.84\n",
      "LOSS:1.00  ACC:0.91\n",
      "LOSS:5.71  ACC:0.84\n",
      "LOSS:5.14  ACC:0.72\n",
      "LOSS:3.30  ACC:0.78\n",
      "LOSS:3.21  ACC:0.88\n",
      "LOSS:4.92  ACC:0.84\n",
      "LOSS:5.74  ACC:0.75\n",
      "LOSS:4.03  ACC:0.81\n",
      "LOSS:5.38  ACC:0.78\n",
      "LOSS:2.10  ACC:0.78\n",
      "LOSS:1.32  ACC:0.94\n",
      "LOSS:1.52  ACC:0.88\n",
      "LOSS:0.52  ACC:0.91\n",
      "LOSS:2.65  ACC:0.81\n",
      "LOSS:0.62  ACC:0.94\n",
      "LOSS:1.82  ACC:0.84\n",
      "LOSS:1.55  ACC:0.91\n",
      "LOSS:3.12  ACC:0.81\n",
      "LOSS:2.80  ACC:0.78\n"
     ]
    },
    {
     "name": "stderr",
     "output_type": "stream",
     "text": [
      " 60%|███████████████████████████████████████████████████████████████████████████████████████▋                                                           | 1118/1875 [00:10<00:06, 112.91it/s]"
     ]
    },
    {
     "name": "stdout",
     "output_type": "stream",
     "text": [
      "LOSS:4.18  ACC:0.78\n",
      "LOSS:1.40  ACC:0.91\n",
      "LOSS:1.37  ACC:0.88\n",
      "LOSS:1.44  ACC:0.84\n",
      "LOSS:1.59  ACC:0.94\n",
      "LOSS:4.14  ACC:0.78\n",
      "LOSS:1.56  ACC:0.94\n",
      "LOSS:3.68  ACC:0.78\n",
      "LOSS:2.21  ACC:0.91\n",
      "LOSS:1.66  ACC:0.91\n",
      "LOSS:2.20  ACC:0.84\n",
      "LOSS:2.56  ACC:0.88\n",
      "LOSS:5.51  ACC:0.69\n",
      "LOSS:4.28  ACC:0.84\n",
      "LOSS:2.99  ACC:0.88\n",
      "LOSS:0.64  ACC:0.94\n",
      "LOSS:2.40  ACC:0.84\n",
      "LOSS:3.29  ACC:0.81\n",
      "LOSS:1.32  ACC:0.84\n",
      "LOSS:1.51  ACC:0.94\n",
      "LOSS:2.38  ACC:0.88\n",
      "LOSS:2.73  ACC:0.84\n"
     ]
    },
    {
     "name": "stderr",
     "output_type": "stream",
     "text": [
      " 61%|█████████████████████████████████████████████████████████████████████████████████████████▌                                                         | 1142/1875 [00:10<00:06, 114.00it/s]"
     ]
    },
    {
     "name": "stdout",
     "output_type": "stream",
     "text": [
      "LOSS:1.76  ACC:0.84\n",
      "LOSS:3.87  ACC:0.84\n",
      "LOSS:1.19  ACC:0.91\n",
      "LOSS:1.55  ACC:0.81\n",
      "LOSS:1.96  ACC:0.91\n",
      "LOSS:3.37  ACC:0.88\n",
      "LOSS:2.12  ACC:0.81\n",
      "LOSS:2.64  ACC:0.84\n",
      "LOSS:0.29  ACC:0.88\n",
      "LOSS:1.73  ACC:0.91\n",
      "LOSS:3.32  ACC:0.84\n",
      "LOSS:0.86  ACC:0.97\n",
      "LOSS:0.73  ACC:0.91\n",
      "LOSS:1.10  ACC:0.84\n",
      "LOSS:3.99  ACC:0.84\n",
      "LOSS:2.38  ACC:0.94\n",
      "LOSS:2.57  ACC:0.94\n",
      "LOSS:2.61  ACC:0.81\n",
      "LOSS:1.14  ACC:0.94\n",
      "LOSS:1.63  ACC:0.94\n",
      "LOSS:3.26  ACC:0.81\n",
      "LOSS:0.00  ACC:1.00\n",
      "LOSS:2.27  ACC:0.84\n",
      "LOSS:0.00  ACC:1.00\n"
     ]
    },
    {
     "name": "stderr",
     "output_type": "stream",
     "text": [
      " 62%|███████████████████████████████████████████████████████████████████████████████████████████▍                                                       | 1166/1875 [00:10<00:06, 114.83it/s]"
     ]
    },
    {
     "name": "stdout",
     "output_type": "stream",
     "text": [
      "LOSS:2.08  ACC:0.88\n",
      "LOSS:4.03  ACC:0.81\n",
      "LOSS:4.82  ACC:0.75\n",
      "LOSS:6.79  ACC:0.72\n",
      "LOSS:2.82  ACC:0.81\n",
      "LOSS:3.24  ACC:0.84\n",
      "LOSS:1.25  ACC:0.91\n",
      "LOSS:3.58  ACC:0.84\n",
      "LOSS:0.28  ACC:0.97\n",
      "LOSS:0.03  ACC:0.97\n",
      "LOSS:6.47  ACC:0.81\n",
      "LOSS:5.77  ACC:0.69\n",
      "LOSS:3.94  ACC:0.81\n",
      "LOSS:2.18  ACC:0.84\n",
      "LOSS:5.01  ACC:0.84\n",
      "LOSS:2.18  ACC:0.91\n",
      "LOSS:1.23  ACC:0.88\n",
      "LOSS:8.96  ACC:0.81\n",
      "LOSS:7.91  ACC:0.75\n",
      "LOSS:4.06  ACC:0.78\n",
      "LOSS:7.56  ACC:0.84\n",
      "LOSS:9.71  ACC:0.69\n",
      "LOSS:2.25  ACC:0.81\n"
     ]
    },
    {
     "name": "stderr",
     "output_type": "stream",
     "text": [
      " 63%|█████████████████████████████████████████████████████████████████████████████████████████████▎                                                     | 1190/1875 [00:11<00:05, 114.34it/s]"
     ]
    },
    {
     "name": "stdout",
     "output_type": "stream",
     "text": [
      "LOSS:6.70  ACC:0.75\n",
      "LOSS:2.26  ACC:0.75\n",
      "LOSS:10.78  ACC:0.62\n",
      "LOSS:4.88  ACC:0.81\n",
      "LOSS:3.03  ACC:0.88\n",
      "LOSS:2.09  ACC:0.84\n",
      "LOSS:2.73  ACC:0.78\n",
      "LOSS:2.11  ACC:0.88\n",
      "LOSS:5.54  ACC:0.75\n",
      "LOSS:4.11  ACC:0.88\n",
      "LOSS:2.35  ACC:0.91\n",
      "LOSS:3.59  ACC:0.84\n",
      "LOSS:3.65  ACC:0.94\n",
      "LOSS:4.48  ACC:0.72\n",
      "LOSS:2.32  ACC:0.84\n",
      "LOSS:4.26  ACC:0.78\n",
      "LOSS:5.40  ACC:0.91\n",
      "LOSS:2.94  ACC:0.88\n",
      "LOSS:2.76  ACC:0.81\n",
      "LOSS:2.01  ACC:0.88\n",
      "LOSS:3.53  ACC:0.81\n",
      "LOSS:2.08  ACC:0.88\n",
      "LOSS:0.50  ACC:0.91\n"
     ]
    },
    {
     "name": "stderr",
     "output_type": "stream",
     "text": [
      " 65%|███████████████████████████████████████████████████████████████████████████████████████████████▏                                                   | 1214/1875 [00:11<00:05, 115.74it/s]"
     ]
    },
    {
     "name": "stdout",
     "output_type": "stream",
     "text": [
      "LOSS:2.37  ACC:0.88\n",
      "LOSS:0.28  ACC:0.91\n",
      "LOSS:4.50  ACC:0.72\n",
      "LOSS:0.35  ACC:0.88\n",
      "LOSS:4.15  ACC:0.84\n",
      "LOSS:3.17  ACC:0.78\n",
      "LOSS:2.34  ACC:0.81\n",
      "LOSS:2.36  ACC:0.72\n",
      "LOSS:1.64  ACC:0.88\n",
      "LOSS:1.10  ACC:0.97\n",
      "LOSS:4.11  ACC:0.81\n",
      "LOSS:1.64  ACC:0.91\n",
      "LOSS:4.82  ACC:0.84\n",
      "LOSS:7.66  ACC:0.66\n",
      "LOSS:3.58  ACC:0.91\n",
      "LOSS:4.20  ACC:0.81\n",
      "LOSS:3.29  ACC:0.81\n",
      "LOSS:1.27  ACC:0.91\n",
      "LOSS:4.07  ACC:0.84\n",
      "LOSS:1.67  ACC:0.84\n",
      "LOSS:1.17  ACC:0.97\n",
      "LOSS:0.48  ACC:0.97\n",
      "LOSS:3.13  ACC:0.91\n",
      "LOSS:1.43  ACC:0.88\n",
      "LOSS:1.41  ACC:0.97\n"
     ]
    },
    {
     "name": "stderr",
     "output_type": "stream",
     "text": [
      " 66%|█████████████████████████████████████████████████████████████████████████████████████████████████                                                  | 1238/1875 [00:11<00:05, 116.89it/s]"
     ]
    },
    {
     "name": "stdout",
     "output_type": "stream",
     "text": [
      "LOSS:0.45  ACC:0.94\n",
      "LOSS:2.32  ACC:0.94\n",
      "LOSS:1.56  ACC:0.97\n",
      "LOSS:0.66  ACC:0.91\n",
      "LOSS:1.48  ACC:0.81\n",
      "LOSS:2.65  ACC:0.75\n",
      "LOSS:2.38  ACC:0.97\n",
      "LOSS:2.42  ACC:0.91\n",
      "LOSS:1.81  ACC:0.91\n",
      "LOSS:3.16  ACC:0.84\n",
      "LOSS:7.90  ACC:0.75\n",
      "LOSS:4.20  ACC:0.75\n",
      "LOSS:1.47  ACC:0.91\n",
      "LOSS:9.19  ACC:0.75\n",
      "LOSS:5.63  ACC:0.78\n",
      "LOSS:5.97  ACC:0.81\n",
      "LOSS:0.83  ACC:0.88\n",
      "LOSS:2.44  ACC:0.75\n",
      "LOSS:3.07  ACC:0.91\n",
      "LOSS:2.92  ACC:0.84\n",
      "LOSS:1.76  ACC:0.88\n",
      "LOSS:3.28  ACC:0.81\n",
      "LOSS:5.10  ACC:0.84\n",
      "LOSS:0.49  ACC:0.94\n"
     ]
    },
    {
     "name": "stderr",
     "output_type": "stream",
     "text": [
      " 67%|██████████████████████████████████████████████████████████████████████████████████████████████████▉                                                | 1262/1875 [00:11<00:05, 112.29it/s]"
     ]
    },
    {
     "name": "stdout",
     "output_type": "stream",
     "text": [
      "LOSS:1.59  ACC:0.81\n",
      "LOSS:3.19  ACC:0.84\n",
      "LOSS:0.67  ACC:0.91\n",
      "LOSS:1.43  ACC:0.94\n",
      "LOSS:2.12  ACC:0.91\n",
      "LOSS:1.28  ACC:0.94\n",
      "LOSS:4.34  ACC:0.78\n",
      "LOSS:1.34  ACC:0.91\n",
      "LOSS:2.14  ACC:0.88\n",
      "LOSS:2.64  ACC:0.81\n",
      "LOSS:3.66  ACC:0.78\n",
      "LOSS:0.78  ACC:0.91\n",
      "LOSS:4.17  ACC:0.84\n",
      "LOSS:2.01  ACC:0.84\n",
      "LOSS:0.71  ACC:0.91\n",
      "LOSS:0.84  ACC:0.91\n",
      "LOSS:0.38  ACC:0.94\n",
      "LOSS:1.86  ACC:0.94\n",
      "LOSS:0.86  ACC:0.94\n",
      "LOSS:3.42  ACC:0.91\n",
      "LOSS:1.04  ACC:0.84\n",
      "LOSS:2.98  ACC:0.91\n"
     ]
    },
    {
     "name": "stderr",
     "output_type": "stream",
     "text": [
      "\r",
      " 68%|███████████████████████████████████████████████████████████████████████████████████████████████████▉                                               | 1274/1875 [00:11<00:05, 101.95it/s]"
     ]
    },
    {
     "name": "stdout",
     "output_type": "stream",
     "text": [
      "LOSS:2.89  ACC:0.91\n",
      "LOSS:3.86  ACC:0.78\n",
      "LOSS:4.91  ACC:0.88\n",
      "LOSS:4.98  ACC:0.81\n",
      "LOSS:8.04  ACC:0.62\n",
      "LOSS:4.93  ACC:0.78\n",
      "LOSS:6.71  ACC:0.72\n",
      "LOSS:1.87  ACC:0.91\n",
      "LOSS:2.81  ACC:0.94\n",
      "LOSS:2.42  ACC:0.94\n",
      "LOSS:1.98  ACC:0.91\n",
      "LOSS:2.96  ACC:0.81\n",
      "LOSS:0.65  ACC:0.91\n",
      "LOSS:2.38  ACC:0.84\n",
      "LOSS:2.03  ACC:0.94\n",
      "LOSS:1.67  ACC:0.94\n",
      "LOSS:4.66  ACC:0.81\n"
     ]
    },
    {
     "name": "stderr",
     "output_type": "stream",
     "text": [
      " 69%|██████████████████████████████████████████████████████████████████████████████████████████████████████▏                                             | 1295/1875 [00:12<00:06, 95.18it/s]"
     ]
    },
    {
     "name": "stdout",
     "output_type": "stream",
     "text": [
      "LOSS:4.44  ACC:0.84\n",
      "LOSS:2.48  ACC:0.94\n",
      "LOSS:1.63  ACC:0.88\n",
      "LOSS:3.34  ACC:0.84\n",
      "LOSS:0.38  ACC:0.94\n",
      "LOSS:0.60  ACC:0.94\n",
      "LOSS:2.70  ACC:0.78\n",
      "LOSS:1.69  ACC:0.91\n",
      "LOSS:3.48  ACC:0.88\n",
      "LOSS:3.09  ACC:0.84\n",
      "LOSS:6.49  ACC:0.66\n",
      "LOSS:2.87  ACC:0.78\n",
      "LOSS:3.62  ACC:0.88\n",
      "LOSS:5.96  ACC:0.81\n",
      "LOSS:6.12  ACC:0.84\n",
      "LOSS:1.82  ACC:0.88\n",
      "LOSS:2.68  ACC:0.91\n",
      "LOSS:4.81  ACC:0.75\n",
      "LOSS:3.27  ACC:0.81\n",
      "LOSS:3.25  ACC:0.81\n",
      "LOSS:0.02  ACC:1.00\n"
     ]
    },
    {
     "name": "stderr",
     "output_type": "stream",
     "text": [
      " 70%|███████████████████████████████████████████████████████████████████████████████████████████████████████▍                                           | 1319/1875 [00:12<00:05, 103.97it/s]"
     ]
    },
    {
     "name": "stdout",
     "output_type": "stream",
     "text": [
      "LOSS:0.74  ACC:0.91\n",
      "LOSS:3.15  ACC:0.81\n",
      "LOSS:1.87  ACC:0.88\n",
      "LOSS:2.61  ACC:0.88\n",
      "LOSS:1.69  ACC:0.91\n",
      "LOSS:0.47  ACC:0.88\n",
      "LOSS:0.41  ACC:0.97\n",
      "LOSS:1.88  ACC:0.84\n",
      "LOSS:5.90  ACC:0.75\n",
      "LOSS:2.78  ACC:0.84\n",
      "LOSS:4.32  ACC:0.84\n",
      "LOSS:3.82  ACC:0.88\n",
      "LOSS:2.01  ACC:0.94\n",
      "LOSS:4.95  ACC:0.75\n",
      "LOSS:5.21  ACC:0.69\n",
      "LOSS:1.10  ACC:0.94\n",
      "LOSS:3.50  ACC:0.84\n",
      "LOSS:2.46  ACC:0.84\n",
      "LOSS:2.71  ACC:0.84\n",
      "LOSS:1.38  ACC:0.84\n",
      "LOSS:5.95  ACC:0.75\n",
      "LOSS:8.56  ACC:0.75\n",
      "LOSS:0.77  ACC:0.91\n"
     ]
    },
    {
     "name": "stderr",
     "output_type": "stream",
     "text": [
      " 72%|█████████████████████████████████████████████████████████████████████████████████████████████████████████▏                                         | 1342/1875 [00:12<00:04, 107.14it/s]"
     ]
    },
    {
     "name": "stdout",
     "output_type": "stream",
     "text": [
      "LOSS:2.05  ACC:0.91\n",
      "LOSS:7.17  ACC:0.78\n",
      "LOSS:6.64  ACC:0.84\n",
      "LOSS:10.02  ACC:0.75\n",
      "LOSS:0.78  ACC:0.94\n",
      "LOSS:1.51  ACC:0.91\n",
      "LOSS:1.54  ACC:0.88\n",
      "LOSS:1.88  ACC:0.84\n",
      "LOSS:6.94  ACC:0.69\n",
      "LOSS:4.62  ACC:0.78\n",
      "LOSS:1.64  ACC:0.94\n",
      "LOSS:4.74  ACC:0.84\n",
      "LOSS:1.59  ACC:0.88\n",
      "LOSS:3.99  ACC:0.78\n",
      "LOSS:2.63  ACC:0.91\n",
      "LOSS:4.74  ACC:0.72\n",
      "LOSS:3.15  ACC:0.88\n",
      "LOSS:4.26  ACC:0.81\n",
      "LOSS:1.93  ACC:0.84\n",
      "LOSS:0.62  ACC:0.94\n",
      "LOSS:1.98  ACC:0.88\n",
      "LOSS:1.14  ACC:0.84\n",
      "LOSS:1.12  ACC:0.94\n"
     ]
    },
    {
     "name": "stderr",
     "output_type": "stream",
     "text": [
      " 73%|███████████████████████████████████████████████████████████████████████████████████████████████████████████                                        | 1366/1875 [00:12<00:04, 110.78it/s]"
     ]
    },
    {
     "name": "stdout",
     "output_type": "stream",
     "text": [
      "LOSS:1.01  ACC:0.84\n",
      "LOSS:4.44  ACC:0.84\n",
      "LOSS:6.60  ACC:0.78\n",
      "LOSS:2.26  ACC:0.88\n",
      "LOSS:2.76  ACC:0.81\n",
      "LOSS:2.20  ACC:0.91\n",
      "LOSS:1.17  ACC:0.81\n",
      "LOSS:0.14  ACC:0.97\n",
      "LOSS:1.09  ACC:0.94\n",
      "LOSS:0.82  ACC:0.91\n",
      "LOSS:0.87  ACC:0.94\n",
      "LOSS:1.43  ACC:0.91\n",
      "LOSS:3.66  ACC:0.84\n",
      "LOSS:1.91  ACC:0.88\n",
      "LOSS:0.32  ACC:0.97\n",
      "LOSS:0.88  ACC:0.94\n",
      "LOSS:2.84  ACC:0.88\n",
      "LOSS:1.34  ACC:0.91\n",
      "LOSS:0.30  ACC:0.97\n",
      "LOSS:1.22  ACC:0.91\n",
      "LOSS:3.64  ACC:0.81\n",
      "LOSS:2.98  ACC:0.91\n",
      "LOSS:2.58  ACC:0.88\n"
     ]
    },
    {
     "name": "stderr",
     "output_type": "stream",
     "text": [
      " 74%|████████████████████████████████████████████████████████████████████████████████████████████████████████████▉                                      | 1390/1875 [00:13<00:04, 111.77it/s]"
     ]
    },
    {
     "name": "stdout",
     "output_type": "stream",
     "text": [
      "LOSS:2.22  ACC:0.88\n",
      "LOSS:1.87  ACC:0.91\n",
      "LOSS:4.22  ACC:0.84\n",
      "LOSS:2.62  ACC:0.88\n",
      "LOSS:0.00  ACC:1.00\n",
      "LOSS:1.40  ACC:0.88\n",
      "LOSS:0.70  ACC:0.91\n",
      "LOSS:2.91  ACC:0.81\n",
      "LOSS:1.70  ACC:0.81\n",
      "LOSS:1.46  ACC:0.97\n",
      "LOSS:0.07  ACC:0.97\n",
      "LOSS:2.08  ACC:0.91\n",
      "LOSS:1.65  ACC:0.91\n",
      "LOSS:3.20  ACC:0.78\n",
      "LOSS:2.05  ACC:0.81\n",
      "LOSS:6.85  ACC:0.81\n",
      "LOSS:0.80  ACC:0.88\n",
      "LOSS:3.48  ACC:0.88\n",
      "LOSS:4.49  ACC:0.91\n",
      "LOSS:4.98  ACC:0.78\n",
      "LOSS:0.72  ACC:0.94\n",
      "LOSS:1.17  ACC:0.84\n",
      "LOSS:0.09  ACC:0.97\n"
     ]
    },
    {
     "name": "stderr",
     "output_type": "stream",
     "text": [
      " 75%|██████████████████████████████████████████████████████████████████████████████████████████████████████████████▉                                    | 1415/1875 [00:13<00:04, 114.15it/s]"
     ]
    },
    {
     "name": "stdout",
     "output_type": "stream",
     "text": [
      "LOSS:0.85  ACC:0.88\n",
      "LOSS:1.84  ACC:0.91\n",
      "LOSS:1.90  ACC:0.88\n",
      "LOSS:1.38  ACC:0.88\n",
      "LOSS:4.51  ACC:0.78\n",
      "LOSS:0.24  ACC:0.94\n",
      "LOSS:0.99  ACC:0.88\n",
      "LOSS:2.75  ACC:0.88\n",
      "LOSS:5.82  ACC:0.81\n",
      "LOSS:5.21  ACC:0.69\n",
      "LOSS:1.92  ACC:0.88\n",
      "LOSS:4.14  ACC:0.84\n",
      "LOSS:3.26  ACC:0.91\n",
      "LOSS:4.74  ACC:0.84\n",
      "LOSS:0.92  ACC:0.91\n",
      "LOSS:7.14  ACC:0.84\n",
      "LOSS:4.16  ACC:0.81\n",
      "LOSS:1.53  ACC:0.94\n",
      "LOSS:1.63  ACC:0.91\n",
      "LOSS:1.42  ACC:0.91\n",
      "LOSS:2.57  ACC:0.84\n",
      "LOSS:2.53  ACC:0.81\n",
      "LOSS:0.00  ACC:1.00\n",
      "LOSS:2.32  ACC:0.84\n"
     ]
    },
    {
     "name": "stderr",
     "output_type": "stream",
     "text": [
      " 77%|████████████████████████████████████████████████████████████████████████████████████████████████████████████████▊                                  | 1439/1875 [00:13<00:03, 115.26it/s]"
     ]
    },
    {
     "name": "stdout",
     "output_type": "stream",
     "text": [
      "LOSS:0.95  ACC:0.91\n",
      "LOSS:4.03  ACC:0.78\n",
      "LOSS:5.73  ACC:0.81\n",
      "LOSS:5.37  ACC:0.78\n",
      "LOSS:3.90  ACC:0.75\n",
      "LOSS:1.24  ACC:0.91\n",
      "LOSS:0.34  ACC:0.94\n",
      "LOSS:6.53  ACC:0.75\n",
      "LOSS:7.85  ACC:0.69\n",
      "LOSS:3.59  ACC:0.84\n",
      "LOSS:4.15  ACC:0.88\n",
      "LOSS:3.32  ACC:0.88\n",
      "LOSS:4.38  ACC:0.81\n",
      "LOSS:5.90  ACC:0.81\n",
      "LOSS:0.09  ACC:0.97\n",
      "LOSS:3.71  ACC:0.78\n",
      "LOSS:4.14  ACC:0.88\n",
      "LOSS:1.61  ACC:0.91\n",
      "LOSS:3.82  ACC:0.84\n",
      "LOSS:2.00  ACC:0.88\n",
      "LOSS:2.55  ACC:0.78\n",
      "LOSS:1.29  ACC:0.94\n",
      "LOSS:3.18  ACC:0.88\n",
      "LOSS:4.26  ACC:0.72\n"
     ]
    },
    {
     "name": "stderr",
     "output_type": "stream",
     "text": [
      " 78%|██████████████████████████████████████████████████████████████████████████████████████████████████████████████████▋                                | 1463/1875 [00:13<00:03, 114.87it/s]"
     ]
    },
    {
     "name": "stdout",
     "output_type": "stream",
     "text": [
      "LOSS:1.75  ACC:0.84\n",
      "LOSS:4.42  ACC:0.75\n",
      "LOSS:0.02  ACC:1.00\n",
      "LOSS:8.32  ACC:0.75\n",
      "LOSS:10.61  ACC:0.75\n",
      "LOSS:3.38  ACC:0.88\n",
      "LOSS:1.90  ACC:0.88\n",
      "LOSS:4.26  ACC:0.81\n",
      "LOSS:4.93  ACC:0.72\n",
      "LOSS:3.44  ACC:0.88\n",
      "LOSS:1.45  ACC:0.94\n",
      "LOSS:0.64  ACC:0.94\n",
      "LOSS:0.47  ACC:0.88\n",
      "LOSS:1.77  ACC:0.94\n",
      "LOSS:2.04  ACC:0.84\n",
      "LOSS:2.12  ACC:0.94\n",
      "LOSS:0.33  ACC:0.94\n",
      "LOSS:0.86  ACC:0.88\n",
      "LOSS:5.90  ACC:0.75\n",
      "LOSS:1.79  ACC:0.88\n",
      "LOSS:3.02  ACC:0.97\n",
      "LOSS:0.49  ACC:0.91\n",
      "LOSS:2.10  ACC:0.91\n",
      "LOSS:3.84  ACC:0.84\n"
     ]
    },
    {
     "name": "stderr",
     "output_type": "stream",
     "text": [
      " 79%|████████████████████████████████████████████████████████████████████████████████████████████████████████████████████▌                              | 1487/1875 [00:13<00:03, 115.86it/s]"
     ]
    },
    {
     "name": "stdout",
     "output_type": "stream",
     "text": [
      "LOSS:4.02  ACC:0.91\n",
      "LOSS:1.03  ACC:0.97\n",
      "LOSS:0.86  ACC:0.91\n",
      "LOSS:2.37  ACC:0.84\n",
      "LOSS:0.83  ACC:0.88\n",
      "LOSS:2.12  ACC:0.94\n",
      "LOSS:1.63  ACC:0.94\n",
      "LOSS:0.98  ACC:0.91\n",
      "LOSS:1.25  ACC:0.91\n",
      "LOSS:4.22  ACC:0.88\n",
      "LOSS:3.89  ACC:0.78\n",
      "LOSS:3.62  ACC:0.81\n",
      "LOSS:1.71  ACC:0.84\n",
      "LOSS:2.50  ACC:0.94\n",
      "LOSS:3.27  ACC:0.84\n",
      "LOSS:2.38  ACC:0.81\n",
      "LOSS:3.30  ACC:0.81\n",
      "LOSS:4.65  ACC:0.72\n",
      "LOSS:1.60  ACC:0.84\n",
      "LOSS:0.93  ACC:0.78\n",
      "LOSS:3.43  ACC:0.91\n",
      "LOSS:9.57  ACC:0.75\n",
      "LOSS:5.56  ACC:0.66\n",
      "LOSS:5.46  ACC:0.78\n"
     ]
    },
    {
     "name": "stderr",
     "output_type": "stream",
     "text": [
      " 81%|██████████████████████████████████████████████████████████████████████████████████████████████████████████████████████▍                            | 1511/1875 [00:14<00:03, 116.89it/s]"
     ]
    },
    {
     "name": "stdout",
     "output_type": "stream",
     "text": [
      "LOSS:4.02  ACC:0.88\n",
      "LOSS:7.07  ACC:0.81\n",
      "LOSS:3.89  ACC:0.88\n",
      "LOSS:0.29  ACC:0.94\n",
      "LOSS:2.32  ACC:0.91\n",
      "LOSS:2.29  ACC:0.91\n",
      "LOSS:0.39  ACC:0.94\n",
      "LOSS:5.49  ACC:0.75\n",
      "LOSS:5.88  ACC:0.72\n",
      "LOSS:0.67  ACC:0.91\n",
      "LOSS:2.29  ACC:0.88\n",
      "LOSS:0.37  ACC:0.91\n",
      "LOSS:1.29  ACC:0.84\n",
      "LOSS:7.72  ACC:0.78\n",
      "LOSS:1.45  ACC:0.84\n",
      "LOSS:1.37  ACC:0.91\n",
      "LOSS:3.66  ACC:0.75\n",
      "LOSS:5.90  ACC:0.75\n",
      "LOSS:3.48  ACC:0.84\n",
      "LOSS:0.98  ACC:0.88\n",
      "LOSS:3.32  ACC:0.84\n",
      "LOSS:6.09  ACC:0.66\n",
      "LOSS:2.40  ACC:0.91\n",
      "LOSS:0.05  ACC:0.97\n",
      "LOSS:0.13  ACC:0.97\n"
     ]
    },
    {
     "name": "stderr",
     "output_type": "stream",
     "text": [
      " 82%|████████████████████████████████████████████████████████████████████████████████████████████████████████████████████████▍                          | 1536/1875 [00:14<00:02, 118.90it/s]"
     ]
    },
    {
     "name": "stdout",
     "output_type": "stream",
     "text": [
      "LOSS:1.24  ACC:0.94\n",
      "LOSS:2.36  ACC:0.88\n",
      "LOSS:3.25  ACC:0.81\n",
      "LOSS:3.34  ACC:0.81\n",
      "LOSS:0.17  ACC:0.94\n",
      "LOSS:5.97  ACC:0.78\n",
      "LOSS:3.01  ACC:0.84\n",
      "LOSS:0.56  ACC:0.91\n",
      "LOSS:1.58  ACC:0.91\n",
      "LOSS:0.71  ACC:0.97\n",
      "LOSS:1.34  ACC:0.88\n",
      "LOSS:2.45  ACC:0.84\n",
      "LOSS:2.31  ACC:0.88\n",
      "LOSS:4.76  ACC:0.75\n",
      "LOSS:5.58  ACC:0.66\n",
      "LOSS:5.75  ACC:0.72\n",
      "LOSS:4.10  ACC:0.81\n",
      "LOSS:1.97  ACC:0.84\n",
      "LOSS:4.52  ACC:0.81\n",
      "LOSS:2.81  ACC:0.84\n",
      "LOSS:1.01  ACC:0.91\n",
      "LOSS:1.03  ACC:0.97\n",
      "LOSS:7.90  ACC:0.72\n",
      "LOSS:3.74  ACC:0.78\n",
      "LOSS:0.55  ACC:0.94\n"
     ]
    },
    {
     "name": "stderr",
     "output_type": "stream",
     "text": [
      " 83%|██████████████████████████████████████████████████████████████████████████████████████████████████████████████████████████▎                        | 1560/1875 [00:14<00:02, 116.76it/s]"
     ]
    },
    {
     "name": "stdout",
     "output_type": "stream",
     "text": [
      "LOSS:2.76  ACC:0.97\n",
      "LOSS:0.81  ACC:0.91\n",
      "LOSS:0.44  ACC:0.94\n",
      "LOSS:0.12  ACC:0.97\n",
      "LOSS:3.00  ACC:0.84\n",
      "LOSS:0.26  ACC:0.94\n",
      "LOSS:7.40  ACC:0.75\n",
      "LOSS:3.49  ACC:0.72\n",
      "LOSS:3.20  ACC:0.84\n",
      "LOSS:5.08  ACC:0.91\n",
      "LOSS:4.18  ACC:0.88\n",
      "LOSS:5.60  ACC:0.78\n",
      "LOSS:0.75  ACC:0.94\n",
      "LOSS:0.58  ACC:0.94\n",
      "LOSS:2.61  ACC:0.88\n",
      "LOSS:0.96  ACC:0.88\n",
      "LOSS:0.60  ACC:0.88\n",
      "LOSS:3.88  ACC:0.75\n",
      "LOSS:3.72  ACC:0.94\n",
      "LOSS:7.23  ACC:0.69\n",
      "LOSS:4.78  ACC:0.78\n",
      "LOSS:0.50  ACC:0.94\n",
      "LOSS:2.23  ACC:0.81\n",
      "LOSS:3.25  ACC:0.84\n"
     ]
    },
    {
     "name": "stderr",
     "output_type": "stream",
     "text": [
      " 84%|████████████████████████████████████████████████████████████████████████████████████████████████████████████████████████████▏                      | 1584/1875 [00:14<00:02, 117.91it/s]"
     ]
    },
    {
     "name": "stdout",
     "output_type": "stream",
     "text": [
      "LOSS:3.68  ACC:0.88\n",
      "LOSS:3.60  ACC:0.78\n",
      "LOSS:1.01  ACC:0.94\n",
      "LOSS:2.69  ACC:0.84\n",
      "LOSS:2.73  ACC:0.81\n",
      "LOSS:10.90  ACC:0.78\n",
      "LOSS:1.31  ACC:0.94\n",
      "LOSS:2.28  ACC:0.91\n",
      "LOSS:4.30  ACC:0.78\n",
      "LOSS:6.96  ACC:0.69\n",
      "LOSS:7.04  ACC:0.72\n",
      "LOSS:8.40  ACC:0.78\n",
      "LOSS:3.34  ACC:0.81\n",
      "LOSS:0.85  ACC:0.91\n",
      "LOSS:6.97  ACC:0.91\n",
      "LOSS:1.41  ACC:0.88\n",
      "LOSS:6.16  ACC:0.81\n",
      "LOSS:0.51  ACC:0.94\n",
      "LOSS:4.26  ACC:0.91\n",
      "LOSS:0.08  ACC:0.97\n",
      "LOSS:4.64  ACC:0.88\n",
      "LOSS:1.89  ACC:0.84\n",
      "LOSS:2.40  ACC:0.91\n",
      "LOSS:0.96  ACC:0.94\n"
     ]
    },
    {
     "name": "stderr",
     "output_type": "stream",
     "text": [
      " 86%|██████████████████████████████████████████████████████████████████████████████████████████████████████████████████████████████                     | 1608/1875 [00:14<00:02, 117.60it/s]"
     ]
    },
    {
     "name": "stdout",
     "output_type": "stream",
     "text": [
      "LOSS:2.03  ACC:0.84\n",
      "LOSS:0.71  ACC:0.97\n",
      "LOSS:0.61  ACC:0.88\n",
      "LOSS:1.46  ACC:0.91\n",
      "LOSS:0.04  ACC:0.97\n",
      "LOSS:0.76  ACC:0.94\n",
      "LOSS:0.01  ACC:1.00\n",
      "LOSS:1.29  ACC:0.88\n",
      "LOSS:0.49  ACC:0.97\n",
      "LOSS:0.09  ACC:0.94\n",
      "LOSS:2.65  ACC:0.88\n",
      "LOSS:2.73  ACC:0.81\n",
      "LOSS:4.05  ACC:0.84\n",
      "LOSS:1.18  ACC:0.88\n",
      "LOSS:2.38  ACC:0.81\n",
      "LOSS:2.94  ACC:0.75\n",
      "LOSS:5.31  ACC:0.66\n",
      "LOSS:0.04  ACC:1.00\n",
      "LOSS:1.65  ACC:0.81\n",
      "LOSS:2.61  ACC:0.84\n",
      "LOSS:2.46  ACC:0.91\n",
      "LOSS:0.52  ACC:0.94\n",
      "LOSS:3.96  ACC:0.91\n",
      "LOSS:0.41  ACC:0.94\n"
     ]
    },
    {
     "name": "stderr",
     "output_type": "stream",
     "text": [
      " 87%|███████████████████████████████████████████████████████████████████████████████████████████████████████████████████████████████▉                   | 1632/1875 [00:15<00:02, 116.98it/s]"
     ]
    },
    {
     "name": "stdout",
     "output_type": "stream",
     "text": [
      "LOSS:1.53  ACC:0.94\n",
      "LOSS:0.52  ACC:0.94\n",
      "LOSS:2.44  ACC:0.81\n",
      "LOSS:1.99  ACC:0.94\n",
      "LOSS:3.48  ACC:0.91\n",
      "LOSS:3.66  ACC:0.91\n",
      "LOSS:0.56  ACC:0.97\n",
      "LOSS:0.00  ACC:1.00\n",
      "LOSS:2.41  ACC:0.81\n",
      "LOSS:1.19  ACC:0.91\n",
      "LOSS:0.74  ACC:0.91\n",
      "LOSS:3.35  ACC:0.88\n",
      "LOSS:6.63  ACC:0.78\n",
      "LOSS:3.77  ACC:0.94\n",
      "LOSS:0.63  ACC:0.88\n",
      "LOSS:4.04  ACC:0.78\n",
      "LOSS:2.70  ACC:0.81\n",
      "LOSS:6.35  ACC:0.75\n",
      "LOSS:3.55  ACC:0.72\n",
      "LOSS:1.63  ACC:0.81\n",
      "LOSS:3.49  ACC:0.84\n",
      "LOSS:2.08  ACC:0.88\n",
      "LOSS:0.48  ACC:0.88\n",
      "LOSS:2.22  ACC:0.91\n"
     ]
    },
    {
     "name": "stderr",
     "output_type": "stream",
     "text": [
      " 88%|█████████████████████████████████████████████████████████████████████████████████████████████████████████████████████████████████▊                 | 1656/1875 [00:15<00:01, 116.61it/s]"
     ]
    },
    {
     "name": "stdout",
     "output_type": "stream",
     "text": [
      "LOSS:4.66  ACC:0.91\n",
      "LOSS:3.89  ACC:0.78\n",
      "LOSS:2.32  ACC:0.84\n",
      "LOSS:1.46  ACC:0.84\n",
      "LOSS:1.43  ACC:0.88\n",
      "LOSS:3.80  ACC:0.84\n",
      "LOSS:3.01  ACC:0.94\n",
      "LOSS:2.55  ACC:0.91\n",
      "LOSS:0.32  ACC:0.97\n",
      "LOSS:3.32  ACC:0.88\n",
      "LOSS:3.84  ACC:0.91\n",
      "LOSS:1.81  ACC:0.81\n",
      "LOSS:4.43  ACC:0.75\n",
      "LOSS:3.67  ACC:0.84\n",
      "LOSS:2.18  ACC:0.84\n",
      "LOSS:2.26  ACC:0.78\n",
      "LOSS:7.30  ACC:0.72\n",
      "LOSS:8.24  ACC:0.75\n",
      "LOSS:8.62  ACC:0.75\n",
      "LOSS:11.25  ACC:0.62\n",
      "LOSS:2.84  ACC:0.81\n",
      "LOSS:1.99  ACC:0.81\n",
      "LOSS:0.40  ACC:0.97\n",
      "LOSS:0.80  ACC:0.91\n"
     ]
    },
    {
     "name": "stderr",
     "output_type": "stream",
     "text": [
      " 90%|███████████████████████████████████████████████████████████████████████████████████████████████████████████████████████████████████▋               | 1680/1875 [00:15<00:01, 117.48it/s]"
     ]
    },
    {
     "name": "stdout",
     "output_type": "stream",
     "text": [
      "LOSS:0.76  ACC:0.88\n",
      "LOSS:5.31  ACC:0.78\n",
      "LOSS:5.84  ACC:0.75\n",
      "LOSS:5.59  ACC:0.91\n",
      "LOSS:0.92  ACC:0.91\n",
      "LOSS:0.91  ACC:0.97\n",
      "LOSS:0.01  ACC:1.00\n",
      "LOSS:0.03  ACC:1.00\n",
      "LOSS:0.76  ACC:0.94\n",
      "LOSS:0.01  ACC:1.00\n",
      "LOSS:1.47  ACC:0.88\n",
      "LOSS:3.53  ACC:0.84\n",
      "LOSS:2.03  ACC:0.91\n",
      "LOSS:2.59  ACC:0.88\n",
      "LOSS:5.47  ACC:0.81\n",
      "LOSS:1.71  ACC:0.88\n",
      "LOSS:3.53  ACC:0.81\n",
      "LOSS:2.47  ACC:0.88\n",
      "LOSS:0.02  ACC:1.00\n",
      "LOSS:3.01  ACC:0.88\n",
      "LOSS:0.86  ACC:0.94\n",
      "LOSS:0.88  ACC:0.94\n",
      "LOSS:3.03  ACC:0.81\n",
      "LOSS:1.63  ACC:0.94\n"
     ]
    },
    {
     "name": "stderr",
     "output_type": "stream",
     "text": [
      " 91%|█████████████████████████████████████████████████████████████████████████████████████████████████████████████████████████████████████▋             | 1705/1875 [00:15<00:01, 118.95it/s]"
     ]
    },
    {
     "name": "stdout",
     "output_type": "stream",
     "text": [
      "LOSS:4.42  ACC:0.84\n",
      "LOSS:0.79  ACC:0.94\n",
      "LOSS:5.22  ACC:0.81\n",
      "LOSS:6.36  ACC:0.81\n",
      "LOSS:2.39  ACC:0.84\n",
      "LOSS:2.87  ACC:0.91\n",
      "LOSS:4.62  ACC:0.69\n",
      "LOSS:7.24  ACC:0.75\n",
      "LOSS:1.54  ACC:0.84\n",
      "LOSS:5.57  ACC:0.81\n",
      "LOSS:0.88  ACC:0.94\n",
      "LOSS:1.34  ACC:0.91\n",
      "LOSS:2.47  ACC:0.91\n",
      "LOSS:0.00  ACC:1.00\n",
      "LOSS:0.32  ACC:0.97\n",
      "LOSS:5.05  ACC:0.78\n",
      "LOSS:2.99  ACC:0.81\n",
      "LOSS:1.03  ACC:0.94\n",
      "LOSS:1.83  ACC:0.91\n",
      "LOSS:3.15  ACC:0.91\n",
      "LOSS:5.93  ACC:0.81\n",
      "LOSS:2.59  ACC:0.84\n",
      "LOSS:1.51  ACC:0.91\n",
      "LOSS:0.48  ACC:0.94\n",
      "LOSS:1.19  ACC:0.88\n"
     ]
    },
    {
     "name": "stderr",
     "output_type": "stream",
     "text": [
      " 92%|███████████████████████████████████████████████████████████████████████████████████████████████████████████████████████████████████████▋           | 1730/1875 [00:15<00:01, 119.40it/s]"
     ]
    },
    {
     "name": "stdout",
     "output_type": "stream",
     "text": [
      "LOSS:0.00  ACC:1.00\n",
      "LOSS:0.47  ACC:0.94\n",
      "LOSS:1.66  ACC:0.91\n",
      "LOSS:4.02  ACC:0.88\n",
      "LOSS:0.53  ACC:0.97\n",
      "LOSS:4.18  ACC:0.78\n",
      "LOSS:7.96  ACC:0.72\n",
      "LOSS:3.93  ACC:0.72\n",
      "LOSS:6.40  ACC:0.69\n",
      "LOSS:2.00  ACC:0.81\n",
      "LOSS:1.31  ACC:0.94\n",
      "LOSS:3.30  ACC:0.88\n",
      "LOSS:1.05  ACC:0.91\n",
      "LOSS:4.44  ACC:0.91\n",
      "LOSS:0.80  ACC:0.91\n",
      "LOSS:7.40  ACC:0.78\n",
      "LOSS:6.72  ACC:0.88\n",
      "LOSS:0.75  ACC:0.88\n",
      "LOSS:0.95  ACC:0.94\n",
      "LOSS:1.68  ACC:0.84\n",
      "LOSS:4.91  ACC:0.91\n",
      "LOSS:0.51  ACC:0.84\n",
      "LOSS:0.12  ACC:0.94\n",
      "LOSS:1.28  ACC:0.88\n"
     ]
    },
    {
     "name": "stderr",
     "output_type": "stream",
     "text": [
      " 94%|█████████████████████████████████████████████████████████████████████████████████████████████████████████████████████████████████████████▌         | 1755/1875 [00:16<00:01, 119.56it/s]"
     ]
    },
    {
     "name": "stdout",
     "output_type": "stream",
     "text": [
      "LOSS:0.60  ACC:0.97\n",
      "LOSS:4.46  ACC:0.91\n",
      "LOSS:2.79  ACC:0.84\n",
      "LOSS:0.12  ACC:0.94\n",
      "LOSS:3.08  ACC:0.81\n",
      "LOSS:2.04  ACC:0.91\n",
      "LOSS:1.62  ACC:0.97\n",
      "LOSS:0.24  ACC:0.94\n",
      "LOSS:5.57  ACC:0.81\n",
      "LOSS:1.31  ACC:0.91\n",
      "LOSS:1.52  ACC:0.94\n",
      "LOSS:0.42  ACC:0.94\n",
      "LOSS:1.84  ACC:0.94\n",
      "LOSS:2.93  ACC:0.75\n",
      "LOSS:1.57  ACC:0.97\n",
      "LOSS:0.35  ACC:0.97\n",
      "LOSS:0.16  ACC:0.94\n",
      "LOSS:2.69  ACC:0.88\n",
      "LOSS:0.13  ACC:0.97\n",
      "LOSS:1.95  ACC:0.94\n",
      "LOSS:0.44  ACC:0.94\n",
      "LOSS:1.25  ACC:0.84\n",
      "LOSS:0.46  ACC:0.91\n",
      "LOSS:3.48  ACC:0.84\n",
      "LOSS:1.28  ACC:0.97\n"
     ]
    },
    {
     "name": "stderr",
     "output_type": "stream",
     "text": [
      "\r",
      " 94%|██████████████████████████████████████████████████████████████████████████████████████████████████████████████████████████████████████████▌        | 1767/1875 [00:16<00:00, 114.51it/s]"
     ]
    },
    {
     "name": "stdout",
     "output_type": "stream",
     "text": [
      "LOSS:2.30  ACC:0.88\n",
      "LOSS:2.89  ACC:0.78\n",
      "LOSS:1.45  ACC:0.91\n",
      "LOSS:1.65  ACC:0.91\n",
      "LOSS:3.48  ACC:0.81\n",
      "LOSS:0.87  ACC:0.97\n",
      "LOSS:10.68  ACC:0.75\n",
      "LOSS:3.42  ACC:0.81\n",
      "LOSS:1.31  ACC:0.91\n",
      "LOSS:0.30  ACC:0.94\n",
      "LOSS:1.99  ACC:0.78\n",
      "LOSS:0.95  ACC:0.88\n",
      "LOSS:5.65  ACC:0.78\n",
      "LOSS:0.94  ACC:0.94\n",
      "LOSS:0.46  ACC:0.94\n",
      "LOSS:0.00  ACC:1.00\n",
      "LOSS:0.30  ACC:0.91\n",
      "LOSS:2.40  ACC:0.84\n",
      "LOSS:1.54  ACC:0.97\n",
      "LOSS:1.54  ACC:0.94\n"
     ]
    },
    {
     "name": "stderr",
     "output_type": "stream",
     "text": [
      " 96%|████████████████████████████████████████████████████████████████████████████████████████████████████████████████████████████████████████████▍      | 1791/1875 [00:16<00:00, 109.80it/s]"
     ]
    },
    {
     "name": "stdout",
     "output_type": "stream",
     "text": [
      "LOSS:1.61  ACC:0.94\n",
      "LOSS:2.36  ACC:0.94\n",
      "LOSS:1.77  ACC:0.94\n",
      "LOSS:1.03  ACC:0.94\n",
      "LOSS:1.07  ACC:0.97\n",
      "LOSS:2.24  ACC:0.91\n",
      "LOSS:0.66  ACC:0.91\n",
      "LOSS:0.72  ACC:0.94\n",
      "LOSS:0.40  ACC:0.84\n",
      "LOSS:1.44  ACC:0.94\n",
      "LOSS:1.23  ACC:0.81\n",
      "LOSS:2.70  ACC:0.88\n",
      "LOSS:6.21  ACC:0.62\n",
      "LOSS:21.99  ACC:0.47\n",
      "LOSS:3.84  ACC:0.84\n",
      "LOSS:2.87  ACC:0.81\n",
      "LOSS:2.78  ACC:0.84\n",
      "LOSS:1.39  ACC:0.88\n",
      "LOSS:3.22  ACC:0.84\n",
      "LOSS:4.51  ACC:0.75\n",
      "LOSS:1.61  ACC:0.78\n",
      "LOSS:2.09  ACC:0.84\n",
      "LOSS:2.20  ACC:0.94\n",
      "LOSS:7.87  ACC:0.78\n"
     ]
    },
    {
     "name": "stderr",
     "output_type": "stream",
     "text": [
      " 97%|██████████████████████████████████████████████████████████████████████████████████████████████████████████████████████████████████████████████▎    | 1815/1875 [00:16<00:00, 108.30it/s]"
     ]
    },
    {
     "name": "stdout",
     "output_type": "stream",
     "text": [
      "LOSS:2.26  ACC:0.94\n",
      "LOSS:2.76  ACC:0.84\n",
      "LOSS:5.46  ACC:0.78\n",
      "LOSS:1.81  ACC:0.88\n",
      "LOSS:1.34  ACC:0.94\n",
      "LOSS:1.22  ACC:0.94\n",
      "LOSS:0.68  ACC:0.94\n",
      "LOSS:2.33  ACC:0.88\n",
      "LOSS:0.82  ACC:0.94\n",
      "LOSS:2.06  ACC:0.94\n",
      "LOSS:0.96  ACC:0.88\n",
      "LOSS:0.03  ACC:1.00\n",
      "LOSS:1.90  ACC:0.84\n",
      "LOSS:2.39  ACC:0.88\n",
      "LOSS:1.45  ACC:0.88\n",
      "LOSS:0.22  ACC:0.97\n",
      "LOSS:0.20  ACC:0.97\n",
      "LOSS:0.16  ACC:0.97\n",
      "LOSS:1.67  ACC:0.94\n",
      "LOSS:2.00  ACC:0.94\n",
      "LOSS:2.75  ACC:0.88\n"
     ]
    },
    {
     "name": "stderr",
     "output_type": "stream",
     "text": [
      " 98%|████████████████████████████████████████████████████████████████████████████████████████████████████████████████████████████████████████████████   | 1837/1875 [00:16<00:00, 103.46it/s]"
     ]
    },
    {
     "name": "stdout",
     "output_type": "stream",
     "text": [
      "LOSS:0.23  ACC:0.97\n",
      "LOSS:1.70  ACC:0.91\n",
      "LOSS:2.31  ACC:0.91\n",
      "LOSS:2.14  ACC:0.88\n",
      "LOSS:2.93  ACC:0.84\n",
      "LOSS:2.15  ACC:0.94\n",
      "LOSS:2.13  ACC:0.84\n",
      "LOSS:0.77  ACC:0.97\n",
      "LOSS:0.32  ACC:0.97\n",
      "LOSS:1.34  ACC:0.97\n",
      "LOSS:0.00  ACC:1.00\n",
      "LOSS:0.30  ACC:0.97\n",
      "LOSS:0.68  ACC:0.94\n",
      "LOSS:0.85  ACC:0.88\n",
      "LOSS:2.76  ACC:0.84\n",
      "LOSS:5.36  ACC:0.81\n",
      "LOSS:1.96  ACC:0.94\n",
      "LOSS:0.02  ACC:1.00\n",
      "LOSS:0.00  ACC:1.00\n",
      "LOSS:0.09  ACC:0.97\n"
     ]
    },
    {
     "name": "stderr",
     "output_type": "stream",
     "text": [
      " 99%|█████████████████████████████████████████████████████████████████████████████████████████████████████████████████████████████████████████████████▊ | 1860/1875 [00:17<00:00, 105.29it/s]"
     ]
    },
    {
     "name": "stdout",
     "output_type": "stream",
     "text": [
      "LOSS:0.45  ACC:0.97\n",
      "LOSS:0.29  ACC:0.97\n",
      "LOSS:0.12  ACC:0.97\n",
      "LOSS:0.15  ACC:0.97\n",
      "LOSS:0.10  ACC:0.97\n",
      "LOSS:0.64  ACC:0.94\n",
      "LOSS:0.02  ACC:1.00\n",
      "LOSS:0.34  ACC:0.97\n",
      "LOSS:0.17  ACC:0.97\n",
      "LOSS:3.32  ACC:0.94\n",
      "LOSS:2.34  ACC:0.91\n",
      "LOSS:4.36  ACC:0.84\n",
      "LOSS:5.37  ACC:0.84\n",
      "LOSS:7.13  ACC:0.81\n",
      "LOSS:11.11  ACC:0.81\n",
      "LOSS:3.84  ACC:0.88\n",
      "LOSS:0.46  ACC:0.94\n",
      "LOSS:0.22  ACC:0.97\n",
      "LOSS:0.36  ACC:0.91\n",
      "LOSS:0.64  ACC:0.91\n",
      "LOSS:0.18  ACC:0.97\n",
      "LOSS:1.88  ACC:0.91\n"
     ]
    },
    {
     "name": "stderr",
     "output_type": "stream",
     "text": [
      "100%|███████████████████████████████████████████████████████████████████████████████████████████████████████████████████████████████████████████████████| 1875/1875 [00:17<00:00, 108.48it/s]\n"
     ]
    },
    {
     "name": "stdout",
     "output_type": "stream",
     "text": [
      "LOSS:3.00  ACC:0.91\n",
      "LOSS:12.44  ACC:0.75\n",
      "LOSS:2.70  ACC:0.84\n",
      "LOSS:1.73  ACC:0.94\n",
      "LOSS:0.01  ACC:1.00\n",
      "LOSS:0.00  ACC:1.00\n",
      "LOSS:0.00  ACC:1.00\n",
      "LOSS:4.93  ACC:0.81\n",
      "LOSS:0.47  ACC:0.91\n",
      "LOSS:0.95  ACC:0.94\n"
     ]
    },
    {
     "name": "stderr",
     "output_type": "stream",
     "text": [
      " 12%|█████████████████▎                                                                                                                                    | 36/312 [00:00<00:00, 353.58it/s]"
     ]
    },
    {
     "name": "stdout",
     "output_type": "stream",
     "text": [
      "TEST_LOSS:1.50  TEST_ACC:0.97\n",
      "TEST_LOSS:2.68  TEST_ACC:0.85\n"
     ]
    },
    {
     "name": "stderr",
     "output_type": "stream",
     "text": [
      "\r",
      " 23%|██████████████████████████████████▌                                                                                                                   | 72/312 [00:00<00:00, 354.04it/s]"
     ]
    },
    {
     "name": "stdout",
     "output_type": "stream",
     "text": [
      "TEST_LOSS:4.09  TEST_ACC:0.81\n"
     ]
    },
    {
     "name": "stderr",
     "output_type": "stream",
     "text": [
      "\r",
      " 35%|███████████████████████████████████████████████████▌                                                                                                 | 108/312 [00:00<00:00, 352.10it/s]"
     ]
    },
    {
     "name": "stdout",
     "output_type": "stream",
     "text": [
      "TEST_LOSS:3.40  TEST_ACC:0.83\n",
      "TEST_LOSS:3.49  TEST_ACC:0.83\n"
     ]
    },
    {
     "name": "stderr",
     "output_type": "stream",
     "text": [
      "\r",
      " 46%|████████████████████████████████████████████████████████████████████▊                                                                                | 144/312 [00:00<00:00, 354.99it/s]"
     ]
    },
    {
     "name": "stdout",
     "output_type": "stream",
     "text": [
      "TEST_LOSS:3.61  TEST_ACC:0.83\n"
     ]
    },
    {
     "name": "stderr",
     "output_type": "stream",
     "text": [
      "\r",
      " 58%|█████████████████████████████████████████████████████████████████████████████████████▉                                                               | 180/312 [00:00<00:00, 325.34it/s]"
     ]
    },
    {
     "name": "stdout",
     "output_type": "stream",
     "text": [
      "TEST_LOSS:1.78  TEST_ACC:0.89\n"
     ]
    },
    {
     "name": "stderr",
     "output_type": "stream",
     "text": [
      "\r",
      " 68%|█████████████████████████████████████████████████████████████████████████████████████████████████████▋                                               | 213/312 [00:00<00:00, 294.44it/s]"
     ]
    },
    {
     "name": "stdout",
     "output_type": "stream",
     "text": [
      "TEST_LOSS:1.38  TEST_ACC:0.93\n"
     ]
    },
    {
     "name": "stderr",
     "output_type": "stream",
     "text": [
      " 87%|█████████████████████████████████████████████████████████████████████████████████████████████████████████████████████████████████▉                   | 272/312 [00:00<00:00, 262.13it/s]"
     ]
    },
    {
     "name": "stdout",
     "output_type": "stream",
     "text": [
      "TEST_LOSS:1.97  TEST_ACC:0.93\n"
     ]
    },
    {
     "name": "stderr",
     "output_type": "stream",
     "text": [
      "\r",
      " 96%|██████████████████████████████████████████████████████████████████████████████████████████████████████████████████████████████████████████████▊      | 299/312 [00:01<00:00, 261.52it/s]"
     ]
    },
    {
     "name": "stdout",
     "output_type": "stream",
     "text": [
      "TEST_LOSS:1.21  TEST_ACC:0.95\n"
     ]
    },
    {
     "name": "stderr",
     "output_type": "stream",
     "text": [
      "100%|█████████████████████████████████████████████████████████████████████████████████████████████████████████████████████████████████████████████████████| 312/312 [00:01<00:00, 291.37it/s]\n"
     ]
    }
   ],
   "source": [
    "BS = dim1\n",
    "epochs = 1\n",
    "\n",
    "for epoch in range(epochs):\n",
    "    losses = []\n",
    "    accs = []\n",
    "    for i in trange(int(X_train.shape[0]/BS)):\n",
    "        x = DenseTensor(X_train[i*BS:(i+1)*BS])\n",
    "        y = Y_train[i*BS:(i+1)*BS]\n",
    "        optimizer.zero_grad()\n",
    "        res = model.forward(x)\n",
    "        loss = loss_fn(res, y)\n",
    "        #print(res.cpu().data[:4])\n",
    "        #print(y[:4])\n",
    "        loss.backward()\n",
    "        optimizer.step()\n",
    "        \n",
    "        cat = np.argmax(res.cpu().data, axis=-1)\n",
    "        accuracy = (cat == y).mean()\n",
    "        \n",
    "        losses.append(loss.cpu().data)\n",
    "        accs.append(accuracy)\n",
    "        if i % 1 == 0:\n",
    "            print(\"LOSS:%.2f  ACC:%.2f\" % (np.array(losses).mean(), np.array(accs).mean()))\n",
    "            accs, losses = [], []  \n",
    "            \n",
    "    losses = []\n",
    "    accs = []\n",
    "    for i in trange(int(X_test.shape[0]/BS)):\n",
    "        x = DenseTensor(X_test[i*BS:(i+1)*BS])\n",
    "        y = Y_test[i*BS:(i+1)*BS]\n",
    "        res = model.forward(x)\n",
    "        loss = loss_fn(res, y)\n",
    "        \n",
    "        cat = np.argmax(res.cpu().data, axis=-1)\n",
    "        accuracy = (cat == y).mean()\n",
    "        \n",
    "        losses.append(loss.cpu().data)\n",
    "        accs.append(accuracy)\n",
    "        if i % 32 == 0:\n",
    "            print(\"TEST_LOSS:%.2f  TEST_ACC:%.2f\" % (np.array(losses).mean(), np.array(accs).mean()))\n",
    "            accs, losses = [], []"
   ]
  },
  {
   "cell_type": "code",
   "execution_count": 14,
   "id": "83c586b7",
   "metadata": {},
   "outputs": [
    {
     "data": {
      "text/plain": [
       "[<DenseTensor <GPUBuffer with shape (784, 10)> with grad <GPUBuffer with shape (784, 10)>>,\n",
       " <DenseTensor <GPUBuffer with shape (784, 10)> with grad None>]"
      ]
     },
     "execution_count": 14,
     "metadata": {},
     "output_type": "execute_result"
    }
   ],
   "source": [
    "model.parameters()"
   ]
  },
  {
   "cell_type": "code",
   "execution_count": 15,
   "id": "4641b69d",
   "metadata": {},
   "outputs": [
    {
     "data": {
      "text/plain": [
       "array([[ 0.00000000e+00, -2.79626434e+02, -1.89766403e+02,\n",
       "        -1.85337097e+02, -2.23227997e+02, -1.08916428e+02,\n",
       "        -1.45192490e+02, -2.47611206e+02, -1.48810181e+02,\n",
       "        -2.07967789e+02],\n",
       "       [-2.18757629e-01, -1.05336243e+02, -3.09417057e+01,\n",
       "        -7.73215179e+01, -6.42391052e+01, -4.75491676e+01,\n",
       "        -1.62717819e+00, -9.25289993e+01, -3.92931671e+01,\n",
       "        -4.98421555e+01],\n",
       "       [-2.59525299e-01, -1.45203674e+02, -1.47586060e+00,\n",
       "        -2.73228645e+01, -1.28580261e+02, -4.31444931e+01,\n",
       "        -7.60789566e+01, -6.88039017e+01, -4.62150269e+01,\n",
       "        -4.64716873e+01],\n",
       "       [-6.26183167e+01,  0.00000000e+00, -2.62000351e+01,\n",
       "        -4.95433235e+01, -7.99050140e+01, -8.71161270e+01,\n",
       "        -8.53950348e+01, -1.19562302e+02, -3.10348167e+01,\n",
       "        -8.63125458e+01],\n",
       "       [-1.19111023e+02,  0.00000000e+00, -2.46872978e+01,\n",
       "        -5.81748123e+01, -8.36772308e+01, -1.09548973e+02,\n",
       "        -8.57932205e+01, -9.40537186e+01, -5.28003159e+01,\n",
       "        -9.64844437e+01],\n",
       "       [-5.55745239e+01, -1.54082947e+02, -9.34107971e+01,\n",
       "        -8.40240250e+01, -7.61864395e+01, -4.29942017e+01,\n",
       "        -1.29712631e+02, -2.28881836e-05, -5.21086807e+01,\n",
       "        -1.06119919e+01],\n",
       "       [-9.01229630e+01, -4.88421211e+01, -5.98197708e+01,\n",
       "        -1.69928207e+01, -6.66846161e+01, -6.00080795e+01,\n",
       "        -1.17839767e+02,  0.00000000e+00, -5.45740280e+01,\n",
       "        -1.34762840e+01],\n",
       "       [-9.51574402e+01, -6.17847443e-01, -3.25988617e+01,\n",
       "        -7.74593353e-01, -5.25718460e+01, -2.98615494e+01,\n",
       "        -7.78186798e+01, -1.23440781e+01, -3.61831589e+01,\n",
       "        -2.10426941e+01],\n",
       "       [-1.15531807e+02, -1.30967422e+02, -1.11789925e+02,\n",
       "        -1.28526520e+02,  0.00000000e+00, -1.04125092e+02,\n",
       "        -8.46490555e+01, -4.17903252e+01, -5.93967400e+01,\n",
       "        -2.35190887e+01],\n",
       "       [-1.26908096e+02, -1.05878151e+02, -6.23573074e+01,\n",
       "        -1.32609634e+02, -7.02233582e+01, -8.84406433e+01,\n",
       "         0.00000000e+00, -1.54231766e+02, -7.93158264e+01,\n",
       "        -8.85870514e+01],\n",
       "       [ 0.00000000e+00, -1.23077995e+02, -1.06950226e+02,\n",
       "        -2.54499855e+01, -1.09028107e+02, -4.60650558e+01,\n",
       "        -1.37978271e+02, -4.99093018e+01, -1.15926888e+02,\n",
       "        -7.90892029e+01],\n",
       "       [-4.27738304e+01, -1.84566422e+02, -7.87946320e+01,\n",
       "        -7.47183151e+01, -1.05571411e+02, -4.88941689e+01,\n",
       "        -1.49912659e+02,  0.00000000e+00, -6.34863205e+01,\n",
       "        -2.14006271e+01],\n",
       "       [ 0.00000000e+00, -1.53059784e+02, -7.52819443e+01,\n",
       "        -7.39134598e+01, -1.25535637e+02, -6.83539810e+01,\n",
       "        -8.41687546e+01, -1.60141861e+02, -9.06796799e+01,\n",
       "        -1.27833786e+02],\n",
       "       [-1.10346573e+02, -6.83716125e+01, -6.38479004e+01,\n",
       "         0.00000000e+00, -8.61613693e+01, -6.77697449e+01,\n",
       "        -1.39594391e+02, -1.31220963e+02, -6.99452057e+01,\n",
       "        -8.82455063e+01],\n",
       "       [-4.27266922e+01, -1.32182831e+02, -5.63422928e+01,\n",
       "        -1.35960709e+02, -7.03256073e+01, -5.01391258e+01,\n",
       "         0.00000000e+00, -9.22824554e+01, -1.02279465e+02,\n",
       "        -9.76585922e+01],\n",
       "       [-6.14638557e+01, -5.84028168e+01, -7.06114349e+01,\n",
       "        -2.74458618e+01, -8.03028412e+01, -3.98444672e+01,\n",
       "        -1.06310127e+02, -1.30773758e+02,  0.00000000e+00,\n",
       "        -5.60494614e+01],\n",
       "       [-7.31305771e+01, -1.10287720e+02, -6.40065231e+01,\n",
       "        -6.81066589e+01, -7.68366547e+01, -4.44358444e+01,\n",
       "        -1.39396759e+02,  0.00000000e+00, -5.42297554e+01,\n",
       "        -2.70530434e+01],\n",
       "       [-1.30398315e+02,  0.00000000e+00, -4.75778198e+01,\n",
       "        -5.07923431e+01, -6.86156387e+01, -1.02037323e+02,\n",
       "        -8.95726624e+01, -8.17597656e+01, -5.59365196e+01,\n",
       "        -8.60390167e+01],\n",
       "       [-7.34231186e+01, -6.11173592e+01, -3.77268524e+01,\n",
       "         0.00000000e+00, -1.24936279e+02, -3.19301109e+01,\n",
       "        -6.33379669e+01, -9.17682343e+01, -7.84889145e+01,\n",
       "        -9.48696213e+01],\n",
       "       [-3.99677429e+01, -1.34410187e+02,  0.00000000e+00,\n",
       "        -9.85657959e+01, -1.21525650e+02, -1.26757797e+02,\n",
       "        -1.10475052e+02, -9.21523361e+01, -8.16324158e+01,\n",
       "        -8.63706360e+01],\n",
       "       [-9.96148758e+01, -1.16038315e+02, -1.11000412e+02,\n",
       "        -1.19564392e+02,  0.00000000e+00, -9.82418594e+01,\n",
       "        -7.79166260e+01, -8.02646637e+01, -6.44614563e+01,\n",
       "        -3.59614410e+01],\n",
       "       [-8.24851532e+01, -1.84482010e+02, -1.44639801e+02,\n",
       "        -1.38760773e+02, -4.05458183e+01, -8.48311005e+01,\n",
       "        -1.12507729e+02, -6.99339523e+01, -6.39540482e+01,\n",
       "         0.00000000e+00],\n",
       "       [-9.29752274e+01, -1.20605789e+02, -9.64448166e+01,\n",
       "        -1.50136383e+02,  0.00000000e+00, -1.19924889e+02,\n",
       "        -7.04155121e+01, -9.64468384e+01, -7.73246689e+01,\n",
       "        -5.19683380e+01],\n",
       "       [-4.26024208e+01, -4.12951279e+01, -1.02102776e+01,\n",
       "        -3.81469727e-05, -7.25743866e+01, -4.72905769e+01,\n",
       "        -6.61139221e+01, -7.63526306e+01, -2.28280544e+01,\n",
       "        -3.34169502e+01],\n",
       "       [-7.54507294e+01, -1.16934235e+02, -6.43695450e+01,\n",
       "        -1.34824677e+02, -4.99168091e+01, -9.17013702e+01,\n",
       "         0.00000000e+00, -1.12407410e+02, -6.59511490e+01,\n",
       "        -3.65117836e+01],\n",
       "       [-1.22985184e+02, -9.39167175e+01, -8.35357437e+01,\n",
       "        -1.20561890e+02,  0.00000000e+00, -8.53550110e+01,\n",
       "        -6.39937668e+01, -7.18926392e+01, -7.90700455e+01,\n",
       "        -4.42377205e+01],\n",
       "       [-1.46026581e+02,  0.00000000e+00, -5.15191536e+01,\n",
       "        -6.07251511e+01, -9.54584045e+01, -1.35375092e+02,\n",
       "        -1.21850090e+02, -9.38569794e+01, -7.31912079e+01,\n",
       "        -1.13552773e+02],\n",
       "       [-6.62610397e+01, -2.02337830e+02, -1.36521454e+02,\n",
       "        -1.29190750e+02, -8.46101990e+01, -8.01491852e+01,\n",
       "        -1.58493851e+02,  0.00000000e+00, -8.18035202e+01,\n",
       "        -1.73071518e+01],\n",
       "       [-1.12789612e+01, -1.91914856e+02, -3.03755035e+01,\n",
       "        -1.52587891e-05, -1.50998550e+02, -6.40106659e+01,\n",
       "        -1.15980759e+02, -8.34970856e+01, -4.51124306e+01,\n",
       "        -8.67458801e+01],\n",
       "       [-4.21546936e+01, -1.03064072e+02, -5.36877747e+01,\n",
       "        -9.83894501e+01, -6.54001236e+01, -4.21837616e+01,\n",
       "         0.00000000e+00, -1.24677109e+02, -7.83251572e+01,\n",
       "        -9.58566589e+01],\n",
       "       [-5.92734833e+01, -5.52272377e+01, -1.39731369e+01,\n",
       "        -5.60279694e+01, -8.29698410e+01, -5.74171143e+01,\n",
       "         0.00000000e+00, -5.62728882e+01, -6.47173004e+01,\n",
       "        -4.14556656e+01],\n",
       "       [ 0.00000000e+00, -2.89273529e+02, -2.03182068e+02,\n",
       "        -1.90870071e+02, -2.58374634e+02, -1.29278030e+02,\n",
       "        -2.24525513e+02, -2.17009033e+02, -1.53199951e+02,\n",
       "        -2.02002075e+02]], dtype=float32)"
      ]
     },
     "execution_count": 15,
     "metadata": {},
     "output_type": "execute_result"
    }
   ],
   "source": [
    "res.cpu().data"
   ]
  },
  {
   "cell_type": "code",
   "execution_count": 16,
   "id": "8eb71052",
   "metadata": {},
   "outputs": [
    {
     "data": {
      "text/plain": [
       "array([4.969031], dtype=float32)"
      ]
     },
     "execution_count": 16,
     "metadata": {},
     "output_type": "execute_result"
    }
   ],
   "source": [
    "loss.cpu().data"
   ]
  },
  {
   "cell_type": "code",
   "execution_count": 17,
   "id": "9ac039f6",
   "metadata": {},
   "outputs": [
    {
     "data": {
      "text/plain": [
       "array([[0., 0., 0., ..., 0., 0., 0.],\n",
       "       [0., 0., 0., ..., 0., 0., 0.],\n",
       "       [0., 0., 0., ..., 0., 0., 0.],\n",
       "       ...,\n",
       "       [0., 0., 0., ..., 0., 0., 0.],\n",
       "       [0., 0., 0., ..., 0., 0., 0.],\n",
       "       [0., 0., 0., ..., 0., 0., 0.]], dtype=float32)"
      ]
     },
     "execution_count": 17,
     "metadata": {},
     "output_type": "execute_result"
    }
   ],
   "source": [
    "model.W.grad.cpu().data"
   ]
  },
  {
   "cell_type": "code",
   "execution_count": 18,
   "id": "0075a703",
   "metadata": {},
   "outputs": [
    {
     "data": {
      "text/plain": [
       "array([[ 1.1085547e-06, -2.8954408e-04, -1.1160664e-03, ...,\n",
       "        -4.9087201e-04, -2.4068057e-04, -6.4794743e-04],\n",
       "       [ 6.3589111e-04,  1.7401173e-03,  2.9668221e-04, ...,\n",
       "        -9.0072118e-04, -1.3712501e-04,  1.2975790e-03],\n",
       "       [ 6.7527115e-04,  3.1958120e-05,  9.1814587e-04, ...,\n",
       "         3.2841109e-04, -4.9822475e-04, -2.0917768e-03],\n",
       "       ...,\n",
       "       [ 9.3478512e-04, -1.8844857e-04,  7.9919404e-04, ...,\n",
       "         2.3419906e-04,  1.0647394e-03,  8.2097884e-04],\n",
       "       [-1.4317269e-03,  5.1616301e-04,  5.3125765e-04, ...,\n",
       "         3.0876859e-04,  7.2942115e-04, -1.3654447e-03],\n",
       "       [-3.5375252e-04,  2.5481975e-03,  1.0601099e-03, ...,\n",
       "        -8.8676868e-04, -1.2762052e-03,  1.6803305e-03]], dtype=float32)"
      ]
     },
     "execution_count": 18,
     "metadata": {},
     "output_type": "execute_result"
    }
   ],
   "source": [
    " model.W.cpu().data"
   ]
  },
  {
   "cell_type": "markdown",
   "id": "1f62f27e",
   "metadata": {},
   "source": [
    "### Second"
   ]
  },
  {
   "cell_type": "code",
   "execution_count": 19,
   "id": "31a9604d",
   "metadata": {},
   "outputs": [],
   "source": [
    "model2 = MLP2()"
   ]
  },
  {
   "cell_type": "code",
   "execution_count": 20,
   "id": "0e020858",
   "metadata": {},
   "outputs": [],
   "source": [
    "optimizer2 = optim.SGD(model2.parameters(), lr=.0001)"
   ]
  },
  {
   "cell_type": "code",
   "execution_count": 22,
   "id": "0e613198",
   "metadata": {},
   "outputs": [
    {
     "name": "stderr",
     "output_type": "stream",
     "text": [
      "  1%|█▎                                                                                                                                                    | 17/1875 [00:00<00:22, 82.14it/s]"
     ]
    },
    {
     "name": "stdout",
     "output_type": "stream",
     "text": [
      "LOSS:4.25  ACC:0.06\n",
      "LOSS:3.67  ACC:0.00\n",
      "LOSS:3.69  ACC:0.12\n",
      "LOSS:3.38  ACC:0.19\n",
      "LOSS:3.66  ACC:0.03\n",
      "LOSS:3.29  ACC:0.12\n",
      "LOSS:2.89  ACC:0.19\n",
      "LOSS:3.32  ACC:0.22\n",
      "LOSS:2.96  ACC:0.22\n",
      "LOSS:3.06  ACC:0.12\n",
      "LOSS:3.04  ACC:0.12\n",
      "LOSS:2.81  ACC:0.19\n",
      "LOSS:2.85  ACC:0.22\n",
      "LOSS:2.93  ACC:0.25\n",
      "LOSS:2.66  ACC:0.22\n",
      "LOSS:3.32  ACC:0.12\n",
      "LOSS:3.12  ACC:0.28\n",
      "LOSS:2.71  ACC:0.22\n",
      "LOSS:3.05  ACC:0.22\n"
     ]
    },
    {
     "name": "stderr",
     "output_type": "stream",
     "text": [
      "  2%|██▊                                                                                                                                                   | 35/1875 [00:00<00:21, 86.63it/s]"
     ]
    },
    {
     "name": "stdout",
     "output_type": "stream",
     "text": [
      "LOSS:3.20  ACC:0.19\n",
      "LOSS:3.21  ACC:0.12\n",
      "LOSS:2.89  ACC:0.34\n",
      "LOSS:3.53  ACC:0.16\n",
      "LOSS:3.59  ACC:0.25\n",
      "LOSS:2.81  ACC:0.25\n",
      "LOSS:2.71  ACC:0.19\n",
      "LOSS:3.06  ACC:0.22\n",
      "LOSS:2.93  ACC:0.12\n",
      "LOSS:3.59  ACC:0.12\n",
      "LOSS:2.95  ACC:0.09\n",
      "LOSS:3.16  ACC:0.12\n",
      "LOSS:2.88  ACC:0.22\n",
      "LOSS:2.92  ACC:0.28\n",
      "LOSS:2.45  ACC:0.25\n",
      "LOSS:2.89  ACC:0.22\n",
      "LOSS:3.04  ACC:0.19\n",
      "LOSS:2.66  ACC:0.16\n"
     ]
    },
    {
     "name": "stderr",
     "output_type": "stream",
     "text": [
      "  3%|████▎                                                                                                                                                 | 54/1875 [00:00<00:20, 88.51it/s]"
     ]
    },
    {
     "name": "stdout",
     "output_type": "stream",
     "text": [
      "LOSS:3.26  ACC:0.12\n",
      "LOSS:2.91  ACC:0.19\n",
      "LOSS:3.76  ACC:0.06\n",
      "LOSS:3.45  ACC:0.12\n",
      "LOSS:3.27  ACC:0.09\n",
      "LOSS:3.31  ACC:0.09\n",
      "LOSS:3.23  ACC:0.19\n",
      "LOSS:2.81  ACC:0.22\n",
      "LOSS:2.50  ACC:0.31\n",
      "LOSS:2.66  ACC:0.28\n",
      "LOSS:2.85  ACC:0.22\n",
      "LOSS:3.59  ACC:0.06\n",
      "LOSS:2.71  ACC:0.25\n",
      "LOSS:2.66  ACC:0.34\n",
      "LOSS:2.52  ACC:0.28\n",
      "LOSS:2.07  ACC:0.38\n",
      "LOSS:2.30  ACC:0.28\n",
      "LOSS:2.76  ACC:0.19\n",
      "LOSS:3.29  ACC:0.12\n"
     ]
    },
    {
     "name": "stderr",
     "output_type": "stream",
     "text": [
      "  4%|█████▊                                                                                                                                                | 72/1875 [00:00<00:20, 88.69it/s]"
     ]
    },
    {
     "name": "stdout",
     "output_type": "stream",
     "text": [
      "LOSS:2.05  ACC:0.34\n",
      "LOSS:2.69  ACC:0.25\n",
      "LOSS:2.02  ACC:0.41\n",
      "LOSS:2.47  ACC:0.16\n",
      "LOSS:2.62  ACC:0.28\n",
      "LOSS:2.76  ACC:0.19\n",
      "LOSS:2.88  ACC:0.22\n",
      "LOSS:2.78  ACC:0.09\n",
      "LOSS:2.76  ACC:0.19\n",
      "LOSS:1.82  ACC:0.47\n",
      "LOSS:2.62  ACC:0.34\n",
      "LOSS:3.10  ACC:0.22\n",
      "LOSS:2.75  ACC:0.22\n",
      "LOSS:2.40  ACC:0.34\n",
      "LOSS:3.25  ACC:0.16\n",
      "LOSS:2.52  ACC:0.34\n",
      "LOSS:2.55  ACC:0.22\n",
      "LOSS:2.10  ACC:0.25\n"
     ]
    },
    {
     "name": "stderr",
     "output_type": "stream",
     "text": [
      "  5%|███████▏                                                                                                                                              | 90/1875 [00:01<00:20, 87.92it/s]"
     ]
    },
    {
     "name": "stdout",
     "output_type": "stream",
     "text": [
      "LOSS:2.45  ACC:0.28\n",
      "LOSS:2.29  ACC:0.22\n",
      "LOSS:1.91  ACC:0.28\n",
      "LOSS:2.57  ACC:0.34\n",
      "LOSS:2.38  ACC:0.34\n",
      "LOSS:2.40  ACC:0.31\n",
      "LOSS:2.67  ACC:0.28\n",
      "LOSS:3.03  ACC:0.22\n",
      "LOSS:2.22  ACC:0.34\n",
      "LOSS:3.76  ACC:0.06\n",
      "LOSS:2.20  ACC:0.25\n",
      "LOSS:2.54  ACC:0.31\n",
      "LOSS:2.63  ACC:0.28\n",
      "LOSS:2.72  ACC:0.28\n",
      "LOSS:2.62  ACC:0.16\n",
      "LOSS:2.34  ACC:0.28\n",
      "LOSS:2.42  ACC:0.22\n",
      "LOSS:2.91  ACC:0.25\n"
     ]
    },
    {
     "name": "stderr",
     "output_type": "stream",
     "text": [
      "  6%|████████▋                                                                                                                                            | 109/1875 [00:01<00:19, 88.69it/s]"
     ]
    },
    {
     "name": "stdout",
     "output_type": "stream",
     "text": [
      "LOSS:2.60  ACC:0.25\n",
      "LOSS:2.40  ACC:0.31\n",
      "LOSS:2.56  ACC:0.31\n",
      "LOSS:2.97  ACC:0.12\n",
      "LOSS:2.51  ACC:0.16\n",
      "LOSS:2.10  ACC:0.25\n",
      "LOSS:2.53  ACC:0.31\n",
      "LOSS:2.45  ACC:0.22\n",
      "LOSS:2.46  ACC:0.25\n",
      "LOSS:2.14  ACC:0.25\n",
      "LOSS:2.81  ACC:0.16\n",
      "LOSS:2.33  ACC:0.28\n",
      "LOSS:2.76  ACC:0.25\n",
      "LOSS:2.26  ACC:0.31\n",
      "LOSS:2.16  ACC:0.38\n",
      "LOSS:2.58  ACC:0.12\n",
      "LOSS:2.06  ACC:0.41\n",
      "LOSS:3.26  ACC:0.19\n"
     ]
    },
    {
     "name": "stderr",
     "output_type": "stream",
     "text": [
      "  7%|██████████                                                                                                                                           | 127/1875 [00:01<00:19, 88.91it/s]"
     ]
    },
    {
     "name": "stdout",
     "output_type": "stream",
     "text": [
      "LOSS:2.64  ACC:0.31\n",
      "LOSS:2.43  ACC:0.34\n",
      "LOSS:2.23  ACC:0.41\n",
      "LOSS:2.49  ACC:0.25\n",
      "LOSS:2.55  ACC:0.34\n",
      "LOSS:2.99  ACC:0.19\n",
      "LOSS:2.18  ACC:0.38\n",
      "LOSS:2.91  ACC:0.22\n",
      "LOSS:2.73  ACC:0.31\n",
      "LOSS:2.74  ACC:0.25\n",
      "LOSS:2.95  ACC:0.25\n",
      "LOSS:2.30  ACC:0.31\n",
      "LOSS:2.76  ACC:0.16\n",
      "LOSS:3.02  ACC:0.31\n",
      "LOSS:2.86  ACC:0.25\n",
      "LOSS:2.18  ACC:0.25\n",
      "LOSS:2.99  ACC:0.12\n",
      "LOSS:2.46  ACC:0.34\n"
     ]
    },
    {
     "name": "stderr",
     "output_type": "stream",
     "text": [
      "\r",
      "  7%|██████████▊                                                                                                                                          | 136/1875 [00:01<00:19, 88.56it/s]"
     ]
    },
    {
     "name": "stdout",
     "output_type": "stream",
     "text": [
      "LOSS:2.51  ACC:0.28\n",
      "LOSS:2.05  ACC:0.31\n",
      "LOSS:2.15  ACC:0.31\n",
      "LOSS:1.90  ACC:0.34\n",
      "LOSS:2.78  ACC:0.22\n",
      "LOSS:2.53  ACC:0.09\n",
      "LOSS:2.13  ACC:0.44\n",
      "LOSS:2.24  ACC:0.25\n",
      "LOSS:3.04  ACC:0.19\n",
      "LOSS:1.90  ACC:0.31\n",
      "LOSS:2.52  ACC:0.34\n",
      "LOSS:2.98  ACC:0.12\n",
      "LOSS:2.42  ACC:0.25\n",
      "LOSS:2.65  ACC:0.28\n",
      "LOSS:2.20  ACC:0.34\n",
      "LOSS:2.87  ACC:0.28\n"
     ]
    },
    {
     "name": "stderr",
     "output_type": "stream",
     "text": [
      "  8%|████████████▏                                                                                                                                        | 154/1875 [00:01<00:22, 77.03it/s]"
     ]
    },
    {
     "name": "stdout",
     "output_type": "stream",
     "text": [
      "LOSS:2.56  ACC:0.28\n",
      "LOSS:2.90  ACC:0.25\n",
      "LOSS:2.77  ACC:0.31\n",
      "LOSS:2.80  ACC:0.22\n",
      "LOSS:2.56  ACC:0.34\n",
      "LOSS:2.29  ACC:0.25\n",
      "LOSS:2.63  ACC:0.25\n",
      "LOSS:3.65  ACC:0.22\n",
      "LOSS:2.44  ACC:0.19\n",
      "LOSS:2.33  ACC:0.28\n",
      "LOSS:2.12  ACC:0.41\n",
      "LOSS:2.12  ACC:0.34\n",
      "LOSS:2.01  ACC:0.34\n",
      "LOSS:2.38  ACC:0.25\n",
      "LOSS:2.54  ACC:0.28\n",
      "LOSS:2.33  ACC:0.22\n"
     ]
    },
    {
     "name": "stderr",
     "output_type": "stream",
     "text": [
      "  9%|█████████████▋                                                                                                                                       | 172/1875 [00:02<00:21, 79.82it/s]"
     ]
    },
    {
     "name": "stdout",
     "output_type": "stream",
     "text": [
      "LOSS:2.41  ACC:0.31\n",
      "LOSS:3.02  ACC:0.19\n",
      "LOSS:2.33  ACC:0.28\n",
      "LOSS:2.26  ACC:0.22\n",
      "LOSS:2.44  ACC:0.31\n",
      "LOSS:2.48  ACC:0.28\n",
      "LOSS:2.72  ACC:0.19\n",
      "LOSS:2.73  ACC:0.12\n",
      "LOSS:2.83  ACC:0.12\n",
      "LOSS:2.32  ACC:0.38\n",
      "LOSS:2.53  ACC:0.28\n",
      "LOSS:1.63  ACC:0.41\n",
      "LOSS:2.13  ACC:0.34\n",
      "LOSS:2.66  ACC:0.25\n",
      "LOSS:2.16  ACC:0.34\n",
      "LOSS:2.75  ACC:0.22\n"
     ]
    },
    {
     "name": "stderr",
     "output_type": "stream",
     "text": [
      " 10%|███████████████▏                                                                                                                                     | 191/1875 [00:02<00:20, 80.68it/s]"
     ]
    },
    {
     "name": "stdout",
     "output_type": "stream",
     "text": [
      "LOSS:2.10  ACC:0.28\n",
      "LOSS:2.77  ACC:0.22\n",
      "LOSS:2.34  ACC:0.38\n",
      "LOSS:2.40  ACC:0.31\n",
      "LOSS:2.27  ACC:0.25\n",
      "LOSS:2.23  ACC:0.22\n",
      "LOSS:2.02  ACC:0.41\n",
      "LOSS:2.24  ACC:0.25\n",
      "LOSS:2.25  ACC:0.34\n",
      "LOSS:2.10  ACC:0.41\n",
      "LOSS:2.63  ACC:0.28\n",
      "LOSS:2.75  ACC:0.12\n",
      "LOSS:2.86  ACC:0.25\n",
      "LOSS:2.01  ACC:0.41\n",
      "LOSS:2.22  ACC:0.31\n",
      "LOSS:2.48  ACC:0.34\n",
      "LOSS:2.83  ACC:0.19\n"
     ]
    },
    {
     "name": "stderr",
     "output_type": "stream",
     "text": [
      " 11%|████████████████▋                                                                                                                                    | 210/1875 [00:02<00:19, 85.60it/s]"
     ]
    },
    {
     "name": "stdout",
     "output_type": "stream",
     "text": [
      "LOSS:2.45  ACC:0.34\n",
      "LOSS:2.37  ACC:0.34\n",
      "LOSS:2.54  ACC:0.28\n",
      "LOSS:2.28  ACC:0.31\n",
      "LOSS:2.12  ACC:0.31\n",
      "LOSS:2.30  ACC:0.22\n",
      "LOSS:1.92  ACC:0.44\n",
      "LOSS:2.54  ACC:0.28\n",
      "LOSS:2.45  ACC:0.28\n",
      "LOSS:2.64  ACC:0.12\n",
      "LOSS:2.37  ACC:0.38\n",
      "LOSS:1.89  ACC:0.38\n",
      "LOSS:2.56  ACC:0.31\n",
      "LOSS:1.91  ACC:0.41\n",
      "LOSS:2.13  ACC:0.31\n",
      "LOSS:2.10  ACC:0.41\n",
      "LOSS:1.96  ACC:0.41\n",
      "LOSS:2.10  ACC:0.38\n",
      "LOSS:2.39  ACC:0.31\n"
     ]
    },
    {
     "name": "stderr",
     "output_type": "stream",
     "text": [
      " 12%|██████████████████▏                                                                                                                                  | 229/1875 [00:02<00:18, 88.20it/s]"
     ]
    },
    {
     "name": "stdout",
     "output_type": "stream",
     "text": [
      "LOSS:2.70  ACC:0.22\n",
      "LOSS:2.60  ACC:0.19\n",
      "LOSS:2.39  ACC:0.34\n",
      "LOSS:2.85  ACC:0.16\n",
      "LOSS:2.48  ACC:0.31\n",
      "LOSS:1.87  ACC:0.38\n",
      "LOSS:1.87  ACC:0.53\n",
      "LOSS:1.90  ACC:0.38\n",
      "LOSS:2.03  ACC:0.41\n",
      "LOSS:2.38  ACC:0.28\n",
      "LOSS:2.39  ACC:0.41\n",
      "LOSS:2.30  ACC:0.38\n",
      "LOSS:2.28  ACC:0.19\n",
      "LOSS:2.22  ACC:0.16\n",
      "LOSS:2.42  ACC:0.28\n",
      "LOSS:2.38  ACC:0.22\n",
      "LOSS:2.47  ACC:0.34\n",
      "LOSS:2.25  ACC:0.22\n",
      "LOSS:2.38  ACC:0.28\n"
     ]
    },
    {
     "name": "stderr",
     "output_type": "stream",
     "text": [
      " 13%|███████████████████▋                                                                                                                                 | 247/1875 [00:02<00:18, 87.93it/s]"
     ]
    },
    {
     "name": "stdout",
     "output_type": "stream",
     "text": [
      "LOSS:2.12  ACC:0.28\n",
      "LOSS:2.48  ACC:0.25\n",
      "LOSS:2.65  ACC:0.25\n",
      "LOSS:2.83  ACC:0.25\n",
      "LOSS:2.59  ACC:0.25\n",
      "LOSS:2.16  ACC:0.34\n",
      "LOSS:2.72  ACC:0.12\n",
      "LOSS:2.23  ACC:0.31\n",
      "LOSS:2.73  ACC:0.22\n",
      "LOSS:2.59  ACC:0.19\n",
      "LOSS:2.49  ACC:0.31\n",
      "LOSS:2.64  ACC:0.25\n",
      "LOSS:2.39  ACC:0.19\n",
      "LOSS:2.34  ACC:0.22\n",
      "LOSS:3.16  ACC:0.12\n",
      "LOSS:2.58  ACC:0.31\n",
      "LOSS:2.08  ACC:0.38\n",
      "LOSS:2.32  ACC:0.22\n"
     ]
    },
    {
     "name": "stderr",
     "output_type": "stream",
     "text": [
      " 14%|█████████████████████▏                                                                                                                               | 266/1875 [00:03<00:18, 88.48it/s]"
     ]
    },
    {
     "name": "stdout",
     "output_type": "stream",
     "text": [
      "LOSS:2.67  ACC:0.34\n",
      "LOSS:2.45  ACC:0.34\n",
      "LOSS:2.20  ACC:0.19\n",
      "LOSS:1.71  ACC:0.41\n",
      "LOSS:2.10  ACC:0.53\n",
      "LOSS:2.44  ACC:0.41\n",
      "LOSS:1.99  ACC:0.38\n",
      "LOSS:2.87  ACC:0.16\n",
      "LOSS:2.27  ACC:0.34\n",
      "LOSS:2.46  ACC:0.22\n",
      "LOSS:2.45  ACC:0.31\n",
      "LOSS:2.50  ACC:0.22\n",
      "LOSS:1.89  ACC:0.34\n",
      "LOSS:2.42  ACC:0.28\n",
      "LOSS:2.43  ACC:0.25\n",
      "LOSS:2.57  ACC:0.28\n",
      "LOSS:2.89  ACC:0.22\n",
      "LOSS:2.20  ACC:0.38\n"
     ]
    },
    {
     "name": "stderr",
     "output_type": "stream",
     "text": [
      " 15%|██████████████████████▌                                                                                                                              | 284/1875 [00:03<00:17, 88.57it/s]"
     ]
    },
    {
     "name": "stdout",
     "output_type": "stream",
     "text": [
      "LOSS:2.16  ACC:0.25\n",
      "LOSS:2.36  ACC:0.22\n",
      "LOSS:2.43  ACC:0.19\n",
      "LOSS:2.66  ACC:0.25\n",
      "LOSS:2.70  ACC:0.34\n",
      "LOSS:2.41  ACC:0.25\n",
      "LOSS:2.41  ACC:0.25\n",
      "LOSS:2.35  ACC:0.31\n",
      "LOSS:2.14  ACC:0.25\n",
      "LOSS:2.14  ACC:0.19\n",
      "LOSS:2.71  ACC:0.03\n",
      "LOSS:2.31  ACC:0.34\n",
      "LOSS:3.04  ACC:0.16\n",
      "LOSS:2.28  ACC:0.31\n",
      "LOSS:2.41  ACC:0.38\n",
      "LOSS:2.19  ACC:0.38\n",
      "LOSS:2.92  ACC:0.25\n",
      "LOSS:2.39  ACC:0.28\n",
      "LOSS:2.12  ACC:0.41\n"
     ]
    },
    {
     "name": "stderr",
     "output_type": "stream",
     "text": [
      " 16%|████████████████████████▏                                                                                                                            | 304/1875 [00:03<00:17, 90.84it/s]"
     ]
    },
    {
     "name": "stdout",
     "output_type": "stream",
     "text": [
      "LOSS:2.50  ACC:0.34\n",
      "LOSS:2.49  ACC:0.25\n",
      "LOSS:2.12  ACC:0.41\n",
      "LOSS:2.03  ACC:0.47\n",
      "LOSS:2.58  ACC:0.28\n",
      "LOSS:2.70  ACC:0.22\n",
      "LOSS:2.70  ACC:0.22\n",
      "LOSS:2.55  ACC:0.28\n",
      "LOSS:2.45  ACC:0.34\n",
      "LOSS:1.89  ACC:0.38\n",
      "LOSS:2.24  ACC:0.34\n",
      "LOSS:2.60  ACC:0.28\n",
      "LOSS:2.23  ACC:0.31\n",
      "LOSS:2.49  ACC:0.25\n",
      "LOSS:2.48  ACC:0.19\n",
      "LOSS:2.37  ACC:0.34\n",
      "LOSS:2.56  ACC:0.38\n",
      "LOSS:2.33  ACC:0.31\n",
      "LOSS:2.18  ACC:0.41\n"
     ]
    },
    {
     "name": "stderr",
     "output_type": "stream",
     "text": [
      " 17%|█████████████████████████▋                                                                                                                           | 324/1875 [00:03<00:16, 92.17it/s]"
     ]
    },
    {
     "name": "stdout",
     "output_type": "stream",
     "text": [
      "LOSS:2.60  ACC:0.34\n",
      "LOSS:2.02  ACC:0.50\n",
      "LOSS:2.19  ACC:0.22\n",
      "LOSS:2.46  ACC:0.19\n",
      "LOSS:1.93  ACC:0.41\n",
      "LOSS:1.96  ACC:0.34\n",
      "LOSS:2.56  ACC:0.25\n",
      "LOSS:2.58  ACC:0.31\n",
      "LOSS:2.95  ACC:0.28\n",
      "LOSS:2.47  ACC:0.28\n",
      "LOSS:2.21  ACC:0.25\n",
      "LOSS:1.99  ACC:0.16\n",
      "LOSS:2.17  ACC:0.22\n",
      "LOSS:2.20  ACC:0.31\n",
      "LOSS:2.87  ACC:0.19\n",
      "LOSS:2.71  ACC:0.25\n",
      "LOSS:3.10  ACC:0.19\n",
      "LOSS:2.66  ACC:0.25\n",
      "LOSS:1.97  ACC:0.47\n",
      "LOSS:2.82  ACC:0.22\n"
     ]
    },
    {
     "name": "stderr",
     "output_type": "stream",
     "text": [
      " 18%|███████████████████████████▎                                                                                                                         | 344/1875 [00:03<00:16, 92.00it/s]"
     ]
    },
    {
     "name": "stdout",
     "output_type": "stream",
     "text": [
      "LOSS:2.83  ACC:0.19\n",
      "LOSS:2.30  ACC:0.31\n",
      "LOSS:2.85  ACC:0.19\n",
      "LOSS:2.86  ACC:0.25\n",
      "LOSS:2.48  ACC:0.25\n",
      "LOSS:2.63  ACC:0.12\n",
      "LOSS:2.28  ACC:0.22\n",
      "LOSS:2.74  ACC:0.22\n",
      "LOSS:2.18  ACC:0.47\n",
      "LOSS:2.35  ACC:0.25\n",
      "LOSS:2.68  ACC:0.31\n",
      "LOSS:2.17  ACC:0.38\n",
      "LOSS:2.31  ACC:0.28\n",
      "LOSS:1.78  ACC:0.50\n",
      "LOSS:2.29  ACC:0.38\n",
      "LOSS:1.90  ACC:0.44\n",
      "LOSS:2.01  ACC:0.47\n",
      "LOSS:2.59  ACC:0.22\n",
      "LOSS:2.05  ACC:0.34\n"
     ]
    },
    {
     "name": "stderr",
     "output_type": "stream",
     "text": [
      "\r",
      " 19%|████████████████████████████▏                                                                                                                        | 354/1875 [00:04<00:16, 90.77it/s]"
     ]
    },
    {
     "name": "stdout",
     "output_type": "stream",
     "text": [
      "LOSS:1.88  ACC:0.44\n",
      "LOSS:2.07  ACC:0.34\n",
      "LOSS:2.48  ACC:0.34\n",
      "LOSS:2.47  ACC:0.28\n",
      "LOSS:2.66  ACC:0.25\n",
      "LOSS:2.35  ACC:0.31\n",
      "LOSS:1.75  ACC:0.53\n",
      "LOSS:2.00  ACC:0.47\n",
      "LOSS:2.15  ACC:0.44\n",
      "LOSS:2.14  ACC:0.34\n",
      "LOSS:2.48  ACC:0.28\n",
      "LOSS:2.66  ACC:0.25\n",
      "LOSS:2.20  ACC:0.31\n",
      "LOSS:2.47  ACC:0.31\n",
      "LOSS:2.30  ACC:0.19\n",
      "LOSS:1.97  ACC:0.38\n",
      "LOSS:2.12  ACC:0.34\n",
      "LOSS:1.81  ACC:0.34\n"
     ]
    },
    {
     "name": "stderr",
     "output_type": "stream",
     "text": [
      " 20%|█████████████████████████████▋                                                                                                                       | 373/1875 [00:04<00:17, 84.51it/s]"
     ]
    },
    {
     "name": "stdout",
     "output_type": "stream",
     "text": [
      "LOSS:2.07  ACC:0.38\n",
      "LOSS:2.51  ACC:0.28\n",
      "LOSS:2.21  ACC:0.44\n",
      "LOSS:2.96  ACC:0.12\n",
      "LOSS:2.32  ACC:0.31\n",
      "LOSS:2.09  ACC:0.28\n",
      "LOSS:2.34  ACC:0.22\n",
      "LOSS:2.13  ACC:0.31\n",
      "LOSS:2.32  ACC:0.31\n",
      "LOSS:2.31  ACC:0.31\n",
      "LOSS:2.83  ACC:0.25\n",
      "LOSS:2.10  ACC:0.34\n",
      "LOSS:2.76  ACC:0.19\n",
      "LOSS:2.70  ACC:0.25\n",
      "LOSS:2.07  ACC:0.47\n",
      "LOSS:2.49  ACC:0.34\n"
     ]
    },
    {
     "name": "stderr",
     "output_type": "stream",
     "text": [
      " 21%|███████████████████████████████                                                                                                                      | 391/1875 [00:04<00:18, 78.37it/s]"
     ]
    },
    {
     "name": "stdout",
     "output_type": "stream",
     "text": [
      "LOSS:2.43  ACC:0.28\n",
      "LOSS:1.88  ACC:0.44\n",
      "LOSS:2.22  ACC:0.31\n",
      "LOSS:2.58  ACC:0.31\n",
      "LOSS:2.15  ACC:0.22\n",
      "LOSS:2.61  ACC:0.25\n",
      "LOSS:2.47  ACC:0.16\n",
      "LOSS:2.49  ACC:0.22\n",
      "LOSS:2.56  ACC:0.19\n",
      "LOSS:2.44  ACC:0.22\n",
      "LOSS:2.58  ACC:0.16\n",
      "LOSS:2.76  ACC:0.16\n",
      "LOSS:2.43  ACC:0.41\n",
      "LOSS:2.84  ACC:0.16\n",
      "LOSS:2.07  ACC:0.34\n"
     ]
    },
    {
     "name": "stderr",
     "output_type": "stream",
     "text": [
      " 22%|████████████████████████████████▍                                                                                                                    | 408/1875 [00:04<00:18, 79.28it/s]"
     ]
    },
    {
     "name": "stdout",
     "output_type": "stream",
     "text": [
      "LOSS:2.54  ACC:0.28\n",
      "LOSS:2.74  ACC:0.12\n",
      "LOSS:2.21  ACC:0.31\n",
      "LOSS:2.89  ACC:0.25\n",
      "LOSS:2.52  ACC:0.41\n",
      "LOSS:1.71  ACC:0.44\n",
      "LOSS:2.46  ACC:0.28\n",
      "LOSS:2.37  ACC:0.34\n",
      "LOSS:2.06  ACC:0.31\n",
      "LOSS:2.68  ACC:0.28\n",
      "LOSS:2.61  ACC:0.22\n",
      "LOSS:2.71  ACC:0.19\n",
      "LOSS:2.62  ACC:0.16\n",
      "LOSS:2.94  ACC:0.19\n",
      "LOSS:2.86  ACC:0.16\n",
      "LOSS:3.33  ACC:0.09\n",
      "LOSS:2.69  ACC:0.25\n"
     ]
    },
    {
     "name": "stderr",
     "output_type": "stream",
     "text": [
      " 23%|█████████████████████████████████▉                                                                                                                   | 427/1875 [00:04<00:17, 83.57it/s]"
     ]
    },
    {
     "name": "stdout",
     "output_type": "stream",
     "text": [
      "LOSS:2.56  ACC:0.31\n",
      "LOSS:2.88  ACC:0.19\n",
      "LOSS:2.43  ACC:0.22\n",
      "LOSS:2.22  ACC:0.34\n",
      "LOSS:2.21  ACC:0.34\n",
      "LOSS:2.65  ACC:0.19\n",
      "LOSS:3.13  ACC:0.09\n",
      "LOSS:2.76  ACC:0.19\n",
      "LOSS:2.42  ACC:0.28\n",
      "LOSS:2.47  ACC:0.31\n",
      "LOSS:1.78  ACC:0.47\n",
      "LOSS:2.64  ACC:0.28\n",
      "LOSS:1.95  ACC:0.41\n",
      "LOSS:2.65  ACC:0.25\n",
      "LOSS:3.04  ACC:0.22\n",
      "LOSS:2.69  ACC:0.31\n",
      "LOSS:2.89  ACC:0.25\n",
      "LOSS:2.50  ACC:0.34\n"
     ]
    },
    {
     "name": "stderr",
     "output_type": "stream",
     "text": [
      " 24%|███████████████████████████████████▍                                                                                                                 | 446/1875 [00:05<00:16, 86.82it/s]"
     ]
    },
    {
     "name": "stdout",
     "output_type": "stream",
     "text": [
      "LOSS:2.38  ACC:0.25\n",
      "LOSS:2.66  ACC:0.25\n",
      "LOSS:2.12  ACC:0.28\n",
      "LOSS:2.18  ACC:0.25\n",
      "LOSS:2.27  ACC:0.34\n",
      "LOSS:2.40  ACC:0.25\n",
      "LOSS:1.90  ACC:0.41\n",
      "LOSS:3.16  ACC:0.16\n",
      "LOSS:2.78  ACC:0.31\n",
      "LOSS:2.95  ACC:0.12\n",
      "LOSS:2.51  ACC:0.31\n",
      "LOSS:2.70  ACC:0.25\n",
      "LOSS:2.58  ACC:0.28\n",
      "LOSS:2.27  ACC:0.28\n",
      "LOSS:2.26  ACC:0.38\n",
      "LOSS:2.73  ACC:0.34\n",
      "LOSS:3.05  ACC:0.22\n",
      "LOSS:2.59  ACC:0.28\n",
      "LOSS:2.50  ACC:0.19\n"
     ]
    },
    {
     "name": "stderr",
     "output_type": "stream",
     "text": [
      " 25%|████████████████████████████████████▊                                                                                                                | 464/1875 [00:05<00:16, 86.26it/s]"
     ]
    },
    {
     "name": "stdout",
     "output_type": "stream",
     "text": [
      "LOSS:2.43  ACC:0.34\n",
      "LOSS:2.41  ACC:0.22\n",
      "LOSS:2.99  ACC:0.22\n",
      "LOSS:2.37  ACC:0.31\n",
      "LOSS:2.75  ACC:0.16\n",
      "LOSS:2.29  ACC:0.25\n",
      "LOSS:2.38  ACC:0.28\n",
      "LOSS:3.01  ACC:0.12\n",
      "LOSS:2.43  ACC:0.28\n",
      "LOSS:2.90  ACC:0.19\n",
      "LOSS:3.58  ACC:0.16\n",
      "LOSS:3.12  ACC:0.25\n",
      "LOSS:3.26  ACC:0.25\n",
      "LOSS:2.96  ACC:0.22\n",
      "LOSS:3.26  ACC:0.25\n",
      "LOSS:3.18  ACC:0.12\n",
      "LOSS:3.57  ACC:0.25\n",
      "LOSS:2.59  ACC:0.34\n"
     ]
    },
    {
     "name": "stderr",
     "output_type": "stream",
     "text": [
      " 26%|██████████████████████████████████████▍                                                                                                              | 483/1875 [00:05<00:15, 88.65it/s]"
     ]
    },
    {
     "name": "stdout",
     "output_type": "stream",
     "text": [
      "LOSS:2.09  ACC:0.31\n",
      "LOSS:2.61  ACC:0.25\n",
      "LOSS:2.14  ACC:0.38\n",
      "LOSS:1.88  ACC:0.44\n",
      "LOSS:2.03  ACC:0.41\n",
      "LOSS:2.40  ACC:0.38\n",
      "LOSS:2.16  ACC:0.31\n",
      "LOSS:2.74  ACC:0.19\n",
      "LOSS:2.47  ACC:0.41\n",
      "LOSS:2.39  ACC:0.28\n",
      "LOSS:2.57  ACC:0.22\n",
      "LOSS:2.39  ACC:0.34\n",
      "LOSS:2.27  ACC:0.34\n",
      "LOSS:2.16  ACC:0.31\n",
      "LOSS:2.10  ACC:0.41\n",
      "LOSS:2.79  ACC:0.31\n",
      "LOSS:2.82  ACC:0.25\n",
      "LOSS:2.23  ACC:0.25\n",
      "LOSS:2.45  ACC:0.19\n"
     ]
    },
    {
     "name": "stderr",
     "output_type": "stream",
     "text": [
      " 27%|███████████████████████████████████████▉                                                                                                             | 502/1875 [00:05<00:15, 89.49it/s]"
     ]
    },
    {
     "name": "stdout",
     "output_type": "stream",
     "text": [
      "LOSS:2.31  ACC:0.34\n",
      "LOSS:2.24  ACC:0.41\n",
      "LOSS:2.09  ACC:0.31\n",
      "LOSS:2.08  ACC:0.28\n",
      "LOSS:2.98  ACC:0.28\n",
      "LOSS:2.73  ACC:0.41\n",
      "LOSS:2.48  ACC:0.25\n",
      "LOSS:2.96  ACC:0.22\n",
      "LOSS:2.99  ACC:0.09\n",
      "LOSS:2.94  ACC:0.28\n",
      "LOSS:2.76  ACC:0.19\n",
      "LOSS:2.45  ACC:0.28\n",
      "LOSS:2.42  ACC:0.34\n",
      "LOSS:2.14  ACC:0.25\n",
      "LOSS:1.95  ACC:0.34\n",
      "LOSS:2.18  ACC:0.31\n",
      "LOSS:3.00  ACC:0.25\n",
      "LOSS:3.34  ACC:0.16\n",
      "LOSS:2.50  ACC:0.16\n"
     ]
    },
    {
     "name": "stderr",
     "output_type": "stream",
     "text": [
      " 28%|█████████████████████████████████████████▎                                                                                                           | 520/1875 [00:06<00:15, 88.73it/s]"
     ]
    },
    {
     "name": "stdout",
     "output_type": "stream",
     "text": [
      "LOSS:2.40  ACC:0.25\n",
      "LOSS:2.45  ACC:0.25\n",
      "LOSS:2.76  ACC:0.12\n",
      "LOSS:2.74  ACC:0.25\n",
      "LOSS:2.23  ACC:0.38\n",
      "LOSS:2.59  ACC:0.28\n",
      "LOSS:3.05  ACC:0.25\n",
      "LOSS:2.64  ACC:0.31\n",
      "LOSS:2.80  ACC:0.28\n",
      "LOSS:2.28  ACC:0.34\n",
      "LOSS:2.42  ACC:0.25\n",
      "LOSS:2.10  ACC:0.41\n",
      "LOSS:2.25  ACC:0.47\n",
      "LOSS:2.06  ACC:0.31\n",
      "LOSS:2.87  ACC:0.22\n",
      "LOSS:2.34  ACC:0.28\n",
      "LOSS:2.31  ACC:0.31\n",
      "LOSS:2.64  ACC:0.31\n"
     ]
    },
    {
     "name": "stderr",
     "output_type": "stream",
     "text": [
      " 29%|██████████████████████████████████████████▊                                                                                                          | 539/1875 [00:06<00:14, 89.15it/s]"
     ]
    },
    {
     "name": "stdout",
     "output_type": "stream",
     "text": [
      "LOSS:1.93  ACC:0.38\n",
      "LOSS:2.54  ACC:0.19\n",
      "LOSS:2.78  ACC:0.22\n",
      "LOSS:2.97  ACC:0.12\n",
      "LOSS:2.70  ACC:0.22\n",
      "LOSS:2.78  ACC:0.16\n",
      "LOSS:2.75  ACC:0.19\n",
      "LOSS:2.55  ACC:0.31\n",
      "LOSS:2.17  ACC:0.34\n",
      "LOSS:2.37  ACC:0.28\n",
      "LOSS:2.71  ACC:0.22\n",
      "LOSS:2.28  ACC:0.44\n",
      "LOSS:2.73  ACC:0.16\n",
      "LOSS:2.81  ACC:0.19\n",
      "LOSS:2.72  ACC:0.28\n",
      "LOSS:2.69  ACC:0.34\n",
      "LOSS:2.84  ACC:0.16\n",
      "LOSS:2.69  ACC:0.22\n",
      "LOSS:2.48  ACC:0.25\n"
     ]
    },
    {
     "name": "stderr",
     "output_type": "stream",
     "text": [
      " 30%|████████████████████████████████████████████▍                                                                                                        | 559/1875 [00:06<00:14, 90.34it/s]"
     ]
    },
    {
     "name": "stdout",
     "output_type": "stream",
     "text": [
      "LOSS:2.45  ACC:0.22\n",
      "LOSS:2.77  ACC:0.22\n",
      "LOSS:2.39  ACC:0.19\n",
      "LOSS:2.53  ACC:0.22\n",
      "LOSS:2.23  ACC:0.38\n",
      "LOSS:2.04  ACC:0.34\n",
      "LOSS:2.36  ACC:0.22\n",
      "LOSS:2.68  ACC:0.22\n",
      "LOSS:2.59  ACC:0.19\n",
      "LOSS:2.36  ACC:0.28\n",
      "LOSS:2.97  ACC:0.16\n",
      "LOSS:2.58  ACC:0.28\n",
      "LOSS:2.79  ACC:0.19\n",
      "LOSS:2.37  ACC:0.22\n",
      "LOSS:2.37  ACC:0.19\n",
      "LOSS:2.32  ACC:0.25\n",
      "LOSS:2.57  ACC:0.22\n",
      "LOSS:1.92  ACC:0.41\n",
      "LOSS:2.34  ACC:0.25\n"
     ]
    },
    {
     "name": "stderr",
     "output_type": "stream",
     "text": [
      "\r",
      " 30%|█████████████████████████████████████████████▏                                                                                                       | 569/1875 [00:06<00:14, 90.44it/s]"
     ]
    },
    {
     "name": "stdout",
     "output_type": "stream",
     "text": [
      "LOSS:2.38  ACC:0.31\n",
      "LOSS:1.77  ACC:0.47\n",
      "LOSS:2.45  ACC:0.31\n",
      "LOSS:2.53  ACC:0.16\n",
      "LOSS:2.18  ACC:0.34\n",
      "LOSS:2.01  ACC:0.25\n",
      "LOSS:2.81  ACC:0.16\n",
      "LOSS:2.02  ACC:0.38\n",
      "LOSS:2.16  ACC:0.34\n",
      "LOSS:2.12  ACC:0.31\n",
      "LOSS:2.30  ACC:0.38\n",
      "LOSS:1.77  ACC:0.41\n",
      "LOSS:2.02  ACC:0.31\n",
      "LOSS:2.11  ACC:0.28\n",
      "LOSS:2.87  ACC:0.22\n",
      "LOSS:2.61  ACC:0.25\n",
      "LOSS:2.78  ACC:0.22\n",
      "LOSS:2.72  ACC:0.31\n",
      "LOSS:2.88  ACC:0.16\n"
     ]
    },
    {
     "name": "stderr",
     "output_type": "stream",
     "text": [
      " 31%|██████████████████████████████████████████████▊                                                                                                      | 589/1875 [00:06<00:14, 90.64it/s]"
     ]
    },
    {
     "name": "stdout",
     "output_type": "stream",
     "text": [
      "LOSS:2.63  ACC:0.31\n",
      "LOSS:2.88  ACC:0.25\n",
      "LOSS:2.69  ACC:0.22\n",
      "LOSS:2.74  ACC:0.16\n",
      "LOSS:3.01  ACC:0.16\n",
      "LOSS:2.41  ACC:0.28\n",
      "LOSS:2.51  ACC:0.34\n",
      "LOSS:2.63  ACC:0.28\n",
      "LOSS:2.01  ACC:0.34\n",
      "LOSS:2.26  ACC:0.31\n",
      "LOSS:2.30  ACC:0.22\n",
      "LOSS:2.32  ACC:0.19\n",
      "LOSS:2.24  ACC:0.34\n",
      "LOSS:2.02  ACC:0.28\n",
      "LOSS:1.96  ACC:0.38\n",
      "LOSS:2.51  ACC:0.31\n",
      "LOSS:2.58  ACC:0.34\n",
      "LOSS:2.07  ACC:0.34\n",
      "LOSS:1.83  ACC:0.38\n"
     ]
    },
    {
     "name": "stderr",
     "output_type": "stream",
     "text": [
      " 32%|████████████████████████████████████████████████▍                                                                                                    | 609/1875 [00:07<00:13, 90.75it/s]"
     ]
    },
    {
     "name": "stdout",
     "output_type": "stream",
     "text": [
      "LOSS:2.74  ACC:0.16\n",
      "LOSS:2.05  ACC:0.31\n",
      "LOSS:3.17  ACC:0.22\n",
      "LOSS:2.25  ACC:0.31\n",
      "LOSS:2.32  ACC:0.16\n",
      "LOSS:2.53  ACC:0.22\n",
      "LOSS:2.52  ACC:0.34\n",
      "LOSS:2.85  ACC:0.25\n",
      "LOSS:2.53  ACC:0.38\n",
      "LOSS:2.11  ACC:0.34\n",
      "LOSS:2.51  ACC:0.34\n",
      "LOSS:2.61  ACC:0.16\n",
      "LOSS:2.04  ACC:0.38\n",
      "LOSS:2.43  ACC:0.31\n",
      "LOSS:3.08  ACC:0.16\n",
      "LOSS:2.57  ACC:0.22\n",
      "LOSS:2.49  ACC:0.34\n",
      "LOSS:3.09  ACC:0.28\n",
      "LOSS:2.99  ACC:0.16\n"
     ]
    },
    {
     "name": "stderr",
     "output_type": "stream",
     "text": [
      " 34%|█████████████████████████████████████████████████▉                                                                                                   | 629/1875 [00:07<00:14, 84.98it/s]"
     ]
    },
    {
     "name": "stdout",
     "output_type": "stream",
     "text": [
      "LOSS:2.52  ACC:0.28\n",
      "LOSS:2.51  ACC:0.41\n",
      "LOSS:2.63  ACC:0.34\n",
      "LOSS:2.85  ACC:0.19\n",
      "LOSS:2.86  ACC:0.41\n",
      "LOSS:2.12  ACC:0.38\n",
      "LOSS:2.99  ACC:0.22\n",
      "LOSS:3.09  ACC:0.25\n",
      "LOSS:2.64  ACC:0.38\n",
      "LOSS:3.02  ACC:0.12\n",
      "LOSS:2.56  ACC:0.28\n",
      "LOSS:2.68  ACC:0.28\n",
      "LOSS:3.05  ACC:0.22\n",
      "LOSS:2.20  ACC:0.44\n",
      "LOSS:2.52  ACC:0.16\n"
     ]
    },
    {
     "name": "stderr",
     "output_type": "stream",
     "text": [
      " 35%|███████████████████████████████████████████████████▍                                                                                                 | 647/1875 [00:07<00:14, 84.43it/s]"
     ]
    },
    {
     "name": "stdout",
     "output_type": "stream",
     "text": [
      "LOSS:2.68  ACC:0.28\n",
      "LOSS:2.25  ACC:0.22\n",
      "LOSS:2.20  ACC:0.28\n",
      "LOSS:2.21  ACC:0.31\n",
      "LOSS:2.36  ACC:0.34\n",
      "LOSS:2.55  ACC:0.19\n",
      "LOSS:2.47  ACC:0.28\n",
      "LOSS:2.23  ACC:0.25\n",
      "LOSS:2.17  ACC:0.38\n",
      "LOSS:2.53  ACC:0.25\n",
      "LOSS:2.91  ACC:0.12\n",
      "LOSS:2.27  ACC:0.19\n",
      "LOSS:2.99  ACC:0.25\n",
      "LOSS:1.97  ACC:0.38\n",
      "LOSS:2.45  ACC:0.28\n",
      "LOSS:1.97  ACC:0.31\n",
      "LOSS:2.51  ACC:0.28\n",
      "LOSS:2.04  ACC:0.28\n"
     ]
    },
    {
     "name": "stderr",
     "output_type": "stream",
     "text": [
      " 35%|████████████████████████████████████████████████████▊                                                                                                | 665/1875 [00:07<00:14, 81.37it/s]"
     ]
    },
    {
     "name": "stdout",
     "output_type": "stream",
     "text": [
      "LOSS:1.93  ACC:0.34\n",
      "LOSS:2.16  ACC:0.41\n",
      "LOSS:2.34  ACC:0.34\n",
      "LOSS:2.30  ACC:0.34\n",
      "LOSS:2.52  ACC:0.16\n",
      "LOSS:2.49  ACC:0.22\n",
      "LOSS:1.74  ACC:0.38\n",
      "LOSS:2.51  ACC:0.25\n",
      "LOSS:2.21  ACC:0.38\n",
      "LOSS:2.11  ACC:0.44\n",
      "LOSS:2.44  ACC:0.28\n",
      "LOSS:2.07  ACC:0.31\n",
      "LOSS:1.86  ACC:0.44\n",
      "LOSS:2.81  ACC:0.28\n",
      "LOSS:2.50  ACC:0.25\n",
      "LOSS:2.03  ACC:0.44\n",
      "LOSS:2.85  ACC:0.19\n"
     ]
    },
    {
     "name": "stderr",
     "output_type": "stream",
     "text": [
      " 36%|██████████████████████████████████████████████████████▎                                                                                              | 683/1875 [00:07<00:14, 81.04it/s]"
     ]
    },
    {
     "name": "stdout",
     "output_type": "stream",
     "text": [
      "LOSS:2.77  ACC:0.22\n",
      "LOSS:2.83  ACC:0.31\n",
      "LOSS:2.60  ACC:0.31\n",
      "LOSS:2.85  ACC:0.25\n",
      "LOSS:3.18  ACC:0.12\n",
      "LOSS:2.37  ACC:0.31\n",
      "LOSS:2.51  ACC:0.31\n",
      "LOSS:2.09  ACC:0.31\n",
      "LOSS:2.18  ACC:0.22\n",
      "LOSS:2.15  ACC:0.41\n",
      "LOSS:2.22  ACC:0.22\n",
      "LOSS:2.62  ACC:0.31\n",
      "LOSS:2.10  ACC:0.31\n",
      "LOSS:2.63  ACC:0.16\n",
      "LOSS:2.29  ACC:0.38\n",
      "LOSS:2.77  ACC:0.12\n",
      "LOSS:2.31  ACC:0.31\n"
     ]
    },
    {
     "name": "stderr",
     "output_type": "stream",
     "text": [
      " 37%|███████████████████████████████████████████████████████▊                                                                                             | 702/1875 [00:08<00:13, 85.29it/s]"
     ]
    },
    {
     "name": "stdout",
     "output_type": "stream",
     "text": [
      "LOSS:2.16  ACC:0.28\n",
      "LOSS:2.64  ACC:0.31\n",
      "LOSS:2.37  ACC:0.31\n",
      "LOSS:2.36  ACC:0.41\n",
      "LOSS:1.82  ACC:0.47\n",
      "LOSS:3.26  ACC:0.19\n",
      "LOSS:3.07  ACC:0.31\n",
      "LOSS:3.04  ACC:0.25\n",
      "LOSS:3.46  ACC:0.16\n",
      "LOSS:3.01  ACC:0.19\n",
      "LOSS:2.94  ACC:0.16\n",
      "LOSS:2.14  ACC:0.41\n",
      "LOSS:2.89  ACC:0.28\n",
      "LOSS:2.74  ACC:0.19\n",
      "LOSS:2.50  ACC:0.22\n",
      "LOSS:2.20  ACC:0.38\n",
      "LOSS:2.17  ACC:0.25\n",
      "LOSS:3.18  ACC:0.16\n",
      "LOSS:2.15  ACC:0.19\n"
     ]
    },
    {
     "name": "stderr",
     "output_type": "stream",
     "text": [
      " 38%|█████████████████████████████████████████████████████████▏                                                                                           | 720/1875 [00:08<00:13, 86.49it/s]"
     ]
    },
    {
     "name": "stdout",
     "output_type": "stream",
     "text": [
      "LOSS:2.53  ACC:0.34\n",
      "LOSS:3.16  ACC:0.22\n",
      "LOSS:2.59  ACC:0.22\n",
      "LOSS:2.81  ACC:0.25\n",
      "LOSS:2.64  ACC:0.22\n",
      "LOSS:2.48  ACC:0.22\n",
      "LOSS:2.83  ACC:0.25\n",
      "LOSS:2.67  ACC:0.19\n",
      "LOSS:2.97  ACC:0.22\n",
      "LOSS:2.22  ACC:0.34\n",
      "LOSS:2.43  ACC:0.22\n",
      "LOSS:2.39  ACC:0.31\n",
      "LOSS:2.08  ACC:0.38\n",
      "LOSS:2.07  ACC:0.38\n",
      "LOSS:2.96  ACC:0.25\n",
      "LOSS:2.31  ACC:0.28\n",
      "LOSS:2.10  ACC:0.19\n",
      "LOSS:2.34  ACC:0.31\n",
      "LOSS:2.34  ACC:0.34\n"
     ]
    },
    {
     "name": "stderr",
     "output_type": "stream",
     "text": [
      " 39%|██████████████████████████████████████████████████████████▋                                                                                          | 738/1875 [00:08<00:12, 87.73it/s]"
     ]
    },
    {
     "name": "stdout",
     "output_type": "stream",
     "text": [
      "LOSS:2.82  ACC:0.25\n",
      "LOSS:2.58  ACC:0.25\n",
      "LOSS:2.52  ACC:0.25\n",
      "LOSS:2.48  ACC:0.28\n",
      "LOSS:2.64  ACC:0.25\n",
      "LOSS:3.04  ACC:0.22\n",
      "LOSS:2.01  ACC:0.31\n",
      "LOSS:2.48  ACC:0.28\n",
      "LOSS:2.62  ACC:0.28\n",
      "LOSS:2.47  ACC:0.34\n",
      "LOSS:2.70  ACC:0.28\n",
      "LOSS:2.84  ACC:0.22\n",
      "LOSS:3.14  ACC:0.12\n",
      "LOSS:1.80  ACC:0.56\n",
      "LOSS:2.15  ACC:0.38\n",
      "LOSS:2.65  ACC:0.19\n",
      "LOSS:1.97  ACC:0.41\n",
      "LOSS:2.25  ACC:0.22\n"
     ]
    },
    {
     "name": "stderr",
     "output_type": "stream",
     "text": [
      " 40%|████████████████████████████████████████████████████████████▏                                                                                        | 757/1875 [00:08<00:12, 89.45it/s]"
     ]
    },
    {
     "name": "stdout",
     "output_type": "stream",
     "text": [
      "LOSS:2.23  ACC:0.31\n",
      "LOSS:2.87  ACC:0.22\n",
      "LOSS:2.37  ACC:0.19\n",
      "LOSS:2.22  ACC:0.44\n",
      "LOSS:2.79  ACC:0.22\n",
      "LOSS:2.28  ACC:0.44\n",
      "LOSS:1.89  ACC:0.47\n",
      "LOSS:2.43  ACC:0.19\n",
      "LOSS:2.94  ACC:0.28\n",
      "LOSS:2.96  ACC:0.22\n",
      "LOSS:2.21  ACC:0.28\n",
      "LOSS:2.21  ACC:0.31\n",
      "LOSS:2.11  ACC:0.28\n",
      "LOSS:1.86  ACC:0.50\n",
      "LOSS:1.81  ACC:0.44\n",
      "LOSS:2.37  ACC:0.28\n",
      "LOSS:1.96  ACC:0.31\n",
      "LOSS:2.23  ACC:0.34\n",
      "LOSS:2.59  ACC:0.28\n"
     ]
    },
    {
     "name": "stderr",
     "output_type": "stream",
     "text": [
      " 41%|█████████████████████████████████████████████████████████████▌                                                                                       | 775/1875 [00:08<00:12, 88.35it/s]"
     ]
    },
    {
     "name": "stdout",
     "output_type": "stream",
     "text": [
      "LOSS:2.44  ACC:0.34\n",
      "LOSS:1.91  ACC:0.31\n",
      "LOSS:2.23  ACC:0.31\n",
      "LOSS:2.32  ACC:0.31\n",
      "LOSS:2.65  ACC:0.31\n",
      "LOSS:2.62  ACC:0.25\n",
      "LOSS:2.34  ACC:0.41\n",
      "LOSS:2.13  ACC:0.22\n",
      "LOSS:2.69  ACC:0.16\n",
      "LOSS:2.88  ACC:0.22\n",
      "LOSS:2.94  ACC:0.22\n",
      "LOSS:2.60  ACC:0.28\n",
      "LOSS:2.84  ACC:0.16\n",
      "LOSS:1.98  ACC:0.25\n",
      "LOSS:2.83  ACC:0.22\n",
      "LOSS:2.19  ACC:0.25\n",
      "LOSS:2.60  ACC:0.22\n",
      "LOSS:2.71  ACC:0.12\n"
     ]
    },
    {
     "name": "stderr",
     "output_type": "stream",
     "text": [
      " 42%|███████████████████████████████████████████████████████████████                                                                                      | 793/1875 [00:09<00:12, 88.63it/s]"
     ]
    },
    {
     "name": "stdout",
     "output_type": "stream",
     "text": [
      "LOSS:2.37  ACC:0.38\n",
      "LOSS:2.26  ACC:0.28\n",
      "LOSS:2.13  ACC:0.31\n",
      "LOSS:2.43  ACC:0.28\n",
      "LOSS:2.41  ACC:0.22\n",
      "LOSS:2.81  ACC:0.12\n",
      "LOSS:2.23  ACC:0.41\n",
      "LOSS:2.24  ACC:0.31\n",
      "LOSS:2.22  ACC:0.25\n",
      "LOSS:3.17  ACC:0.28\n",
      "LOSS:2.21  ACC:0.31\n",
      "LOSS:2.68  ACC:0.25\n",
      "LOSS:2.49  ACC:0.28\n",
      "LOSS:2.18  ACC:0.41\n",
      "LOSS:2.65  ACC:0.34\n",
      "LOSS:2.81  ACC:0.25\n",
      "LOSS:2.59  ACC:0.38\n",
      "LOSS:2.81  ACC:0.34\n"
     ]
    },
    {
     "name": "stderr",
     "output_type": "stream",
     "text": [
      " 43%|████████████████████████████████████████████████████████████████▌                                                                                    | 813/1875 [00:09<00:11, 90.05it/s]"
     ]
    },
    {
     "name": "stdout",
     "output_type": "stream",
     "text": [
      "LOSS:2.20  ACC:0.34\n",
      "LOSS:2.50  ACC:0.38\n",
      "LOSS:2.79  ACC:0.28\n",
      "LOSS:2.50  ACC:0.25\n",
      "LOSS:2.45  ACC:0.34\n",
      "LOSS:2.65  ACC:0.31\n",
      "LOSS:2.10  ACC:0.25\n",
      "LOSS:2.28  ACC:0.19\n",
      "LOSS:2.49  ACC:0.31\n",
      "LOSS:2.37  ACC:0.31\n",
      "LOSS:2.27  ACC:0.44\n",
      "LOSS:2.09  ACC:0.31\n",
      "LOSS:2.59  ACC:0.16\n",
      "LOSS:2.58  ACC:0.25\n",
      "LOSS:2.52  ACC:0.25\n",
      "LOSS:2.30  ACC:0.31\n",
      "LOSS:2.43  ACC:0.22\n",
      "LOSS:2.65  ACC:0.28\n",
      "LOSS:2.52  ACC:0.19\n"
     ]
    },
    {
     "name": "stderr",
     "output_type": "stream",
     "text": [
      "\r",
      " 44%|█████████████████████████████████████████████████████████████████▍                                                                                   | 823/1875 [00:09<00:11, 87.87it/s]"
     ]
    },
    {
     "name": "stdout",
     "output_type": "stream",
     "text": [
      "LOSS:3.15  ACC:0.22\n",
      "LOSS:2.47  ACC:0.28\n",
      "LOSS:2.27  ACC:0.41\n",
      "LOSS:2.85  ACC:0.28\n",
      "LOSS:2.19  ACC:0.41\n",
      "LOSS:2.04  ACC:0.41\n",
      "LOSS:2.43  ACC:0.31\n",
      "LOSS:2.45  ACC:0.34\n",
      "LOSS:2.19  ACC:0.25\n",
      "LOSS:2.33  ACC:0.25\n",
      "LOSS:2.27  ACC:0.25\n",
      "LOSS:2.57  ACC:0.34\n",
      "LOSS:2.24  ACC:0.38\n",
      "LOSS:2.96  ACC:0.19\n",
      "LOSS:2.53  ACC:0.31\n",
      "LOSS:2.27  ACC:0.28\n",
      "LOSS:2.51  ACC:0.28\n",
      "LOSS:2.59  ACC:0.28\n"
     ]
    },
    {
     "name": "stderr",
     "output_type": "stream",
     "text": [
      " 45%|██████████████████████████████████████████████████████████████████▉                                                                                  | 842/1875 [00:09<00:11, 88.82it/s]"
     ]
    },
    {
     "name": "stdout",
     "output_type": "stream",
     "text": [
      "LOSS:2.41  ACC:0.28\n",
      "LOSS:2.80  ACC:0.12\n",
      "LOSS:2.85  ACC:0.19\n",
      "LOSS:2.48  ACC:0.31\n",
      "LOSS:2.64  ACC:0.38\n",
      "LOSS:2.41  ACC:0.38\n",
      "LOSS:2.91  ACC:0.19\n",
      "LOSS:1.69  ACC:0.59\n",
      "LOSS:2.42  ACC:0.41\n",
      "LOSS:2.49  ACC:0.25\n",
      "LOSS:2.07  ACC:0.41\n",
      "LOSS:2.36  ACC:0.28\n",
      "LOSS:2.29  ACC:0.41\n",
      "LOSS:2.55  ACC:0.31\n",
      "LOSS:2.54  ACC:0.25\n",
      "LOSS:2.10  ACC:0.31\n",
      "LOSS:2.48  ACC:0.28\n",
      "LOSS:2.73  ACC:0.31\n",
      "LOSS:2.83  ACC:0.16\n"
     ]
    },
    {
     "name": "stderr",
     "output_type": "stream",
     "text": [
      " 46%|████████████████████████████████████████████████████████████████████▍                                                                                | 861/1875 [00:09<00:11, 87.15it/s]"
     ]
    },
    {
     "name": "stdout",
     "output_type": "stream",
     "text": [
      "LOSS:2.71  ACC:0.22\n",
      "LOSS:2.16  ACC:0.38\n",
      "LOSS:2.65  ACC:0.25\n",
      "LOSS:2.42  ACC:0.28\n",
      "LOSS:3.12  ACC:0.22\n",
      "LOSS:2.62  ACC:0.19\n",
      "LOSS:3.12  ACC:0.22\n",
      "LOSS:2.43  ACC:0.34\n",
      "LOSS:3.07  ACC:0.22\n",
      "LOSS:2.88  ACC:0.28\n",
      "LOSS:2.22  ACC:0.25\n",
      "LOSS:2.21  ACC:0.38\n",
      "LOSS:2.49  ACC:0.16\n",
      "LOSS:2.25  ACC:0.28\n",
      "LOSS:2.50  ACC:0.34\n",
      "LOSS:2.13  ACC:0.47\n",
      "LOSS:2.74  ACC:0.12\n"
     ]
    },
    {
     "name": "stderr",
     "output_type": "stream",
     "text": [
      " 47%|█████████████████████████████████████████████████████████████████████▊                                                                               | 879/1875 [00:10<00:11, 84.81it/s]"
     ]
    },
    {
     "name": "stdout",
     "output_type": "stream",
     "text": [
      "LOSS:2.67  ACC:0.22\n",
      "LOSS:2.70  ACC:0.19\n",
      "LOSS:2.27  ACC:0.25\n",
      "LOSS:2.28  ACC:0.25\n",
      "LOSS:2.23  ACC:0.34\n",
      "LOSS:2.41  ACC:0.41\n",
      "LOSS:2.50  ACC:0.28\n",
      "LOSS:2.78  ACC:0.22\n",
      "LOSS:1.92  ACC:0.38\n",
      "LOSS:2.01  ACC:0.44\n",
      "LOSS:2.29  ACC:0.28\n",
      "LOSS:1.87  ACC:0.38\n",
      "LOSS:2.16  ACC:0.41\n",
      "LOSS:3.24  ACC:0.31\n",
      "LOSS:2.22  ACC:0.28\n",
      "LOSS:2.36  ACC:0.31\n",
      "LOSS:2.91  ACC:0.28\n"
     ]
    },
    {
     "name": "stderr",
     "output_type": "stream",
     "text": [
      " 48%|███████████████████████████████████████████████████████████████████████▎                                                                             | 897/1875 [00:10<00:11, 83.66it/s]"
     ]
    },
    {
     "name": "stdout",
     "output_type": "stream",
     "text": [
      "LOSS:2.04  ACC:0.28\n",
      "LOSS:2.13  ACC:0.34\n",
      "LOSS:2.71  ACC:0.22\n",
      "LOSS:2.84  ACC:0.16\n",
      "LOSS:2.35  ACC:0.31\n",
      "LOSS:2.77  ACC:0.25\n",
      "LOSS:2.44  ACC:0.38\n",
      "LOSS:2.67  ACC:0.31\n",
      "LOSS:2.36  ACC:0.28\n",
      "LOSS:2.73  ACC:0.28\n",
      "LOSS:2.47  ACC:0.22\n",
      "LOSS:2.29  ACC:0.25\n",
      "LOSS:2.47  ACC:0.28\n",
      "LOSS:2.65  ACC:0.22\n",
      "LOSS:1.93  ACC:0.44\n",
      "LOSS:2.28  ACC:0.28\n",
      "LOSS:2.01  ACC:0.41\n",
      "LOSS:2.14  ACC:0.34\n"
     ]
    },
    {
     "name": "stderr",
     "output_type": "stream",
     "text": [
      " 49%|████████████████████████████████████████████████████████████████████████▊                                                                            | 917/1875 [00:10<00:10, 87.41it/s]"
     ]
    },
    {
     "name": "stdout",
     "output_type": "stream",
     "text": [
      "LOSS:2.92  ACC:0.19\n",
      "LOSS:2.90  ACC:0.28\n",
      "LOSS:3.19  ACC:0.12\n",
      "LOSS:2.38  ACC:0.31\n",
      "LOSS:2.87  ACC:0.16\n",
      "LOSS:2.24  ACC:0.25\n",
      "LOSS:2.74  ACC:0.25\n",
      "LOSS:2.50  ACC:0.25\n",
      "LOSS:2.39  ACC:0.28\n",
      "LOSS:3.05  ACC:0.12\n",
      "LOSS:2.50  ACC:0.16\n",
      "LOSS:2.75  ACC:0.19\n",
      "LOSS:2.42  ACC:0.34\n",
      "LOSS:2.81  ACC:0.19\n",
      "LOSS:2.22  ACC:0.34\n",
      "LOSS:2.24  ACC:0.28\n",
      "LOSS:2.33  ACC:0.34\n",
      "LOSS:2.22  ACC:0.31\n",
      "LOSS:2.07  ACC:0.31\n"
     ]
    },
    {
     "name": "stderr",
     "output_type": "stream",
     "text": [
      " 50%|██████████████████████████████████████████████████████████████████████████▍                                                                          | 937/1875 [00:10<00:10, 89.90it/s]"
     ]
    },
    {
     "name": "stdout",
     "output_type": "stream",
     "text": [
      "LOSS:2.08  ACC:0.38\n",
      "LOSS:2.43  ACC:0.28\n",
      "LOSS:2.04  ACC:0.31\n",
      "LOSS:2.09  ACC:0.31\n",
      "LOSS:2.23  ACC:0.28\n",
      "LOSS:2.47  ACC:0.22\n",
      "LOSS:2.05  ACC:0.28\n",
      "LOSS:2.35  ACC:0.22\n",
      "LOSS:2.35  ACC:0.22\n",
      "LOSS:2.59  ACC:0.19\n",
      "LOSS:1.82  ACC:0.44\n",
      "LOSS:2.35  ACC:0.16\n",
      "LOSS:2.11  ACC:0.22\n",
      "LOSS:2.10  ACC:0.38\n",
      "LOSS:2.64  ACC:0.16\n",
      "LOSS:2.04  ACC:0.28\n",
      "LOSS:2.33  ACC:0.19\n",
      "LOSS:3.03  ACC:0.12\n",
      "LOSS:2.77  ACC:0.16\n"
     ]
    },
    {
     "name": "stderr",
     "output_type": "stream",
     "text": [
      " 51%|███████████████████████████████████████████████████████████████████████████▉                                                                         | 956/1875 [00:11<00:10, 89.77it/s]"
     ]
    },
    {
     "name": "stdout",
     "output_type": "stream",
     "text": [
      "LOSS:2.43  ACC:0.22\n",
      "LOSS:3.05  ACC:0.22\n",
      "LOSS:2.59  ACC:0.16\n",
      "LOSS:3.08  ACC:0.16\n",
      "LOSS:3.13  ACC:0.28\n",
      "LOSS:2.64  ACC:0.19\n",
      "LOSS:2.08  ACC:0.31\n",
      "LOSS:3.12  ACC:0.22\n",
      "LOSS:2.76  ACC:0.25\n",
      "LOSS:2.42  ACC:0.44\n",
      "LOSS:3.47  ACC:0.16\n",
      "LOSS:2.51  ACC:0.25\n",
      "LOSS:2.55  ACC:0.25\n",
      "LOSS:2.77  ACC:0.12\n",
      "LOSS:2.55  ACC:0.22\n",
      "LOSS:2.05  ACC:0.38\n",
      "LOSS:1.88  ACC:0.41\n",
      "LOSS:2.02  ACC:0.34\n",
      "LOSS:2.23  ACC:0.28\n"
     ]
    },
    {
     "name": "stderr",
     "output_type": "stream",
     "text": [
      " 52%|█████████████████████████████████████████████████████████████████████████████▍                                                                       | 975/1875 [00:11<00:09, 90.14it/s]"
     ]
    },
    {
     "name": "stdout",
     "output_type": "stream",
     "text": [
      "LOSS:2.30  ACC:0.28\n",
      "LOSS:2.53  ACC:0.28\n",
      "LOSS:2.27  ACC:0.25\n",
      "LOSS:1.94  ACC:0.38\n",
      "LOSS:2.71  ACC:0.25\n",
      "LOSS:2.26  ACC:0.41\n",
      "LOSS:2.66  ACC:0.28\n",
      "LOSS:2.47  ACC:0.16\n",
      "LOSS:2.73  ACC:0.25\n",
      "LOSS:2.24  ACC:0.25\n",
      "LOSS:2.24  ACC:0.28\n",
      "LOSS:2.69  ACC:0.34\n",
      "LOSS:2.52  ACC:0.31\n",
      "LOSS:2.35  ACC:0.34\n",
      "LOSS:2.01  ACC:0.31\n",
      "LOSS:1.90  ACC:0.47\n",
      "LOSS:2.21  ACC:0.44\n",
      "LOSS:2.35  ACC:0.31\n",
      "LOSS:2.56  ACC:0.38\n"
     ]
    },
    {
     "name": "stderr",
     "output_type": "stream",
     "text": [
      " 53%|██████████████████████████████████████████████████████████████████████████████▉                                                                      | 994/1875 [00:11<00:09, 89.69it/s]"
     ]
    },
    {
     "name": "stdout",
     "output_type": "stream",
     "text": [
      "LOSS:2.80  ACC:0.19\n",
      "LOSS:2.14  ACC:0.25\n",
      "LOSS:2.40  ACC:0.25\n",
      "LOSS:2.74  ACC:0.16\n",
      "LOSS:2.22  ACC:0.31\n",
      "LOSS:2.74  ACC:0.25\n",
      "LOSS:2.30  ACC:0.31\n",
      "LOSS:2.27  ACC:0.31\n",
      "LOSS:2.72  ACC:0.19\n",
      "LOSS:2.92  ACC:0.28\n",
      "LOSS:2.97  ACC:0.22\n",
      "LOSS:2.75  ACC:0.19\n",
      "LOSS:2.58  ACC:0.25\n",
      "LOSS:2.72  ACC:0.19\n",
      "LOSS:3.15  ACC:0.22\n",
      "LOSS:2.93  ACC:0.28\n",
      "LOSS:2.79  ACC:0.31\n",
      "LOSS:2.46  ACC:0.44\n"
     ]
    },
    {
     "name": "stderr",
     "output_type": "stream",
     "text": [
      " 54%|███████████████████████████████████████████████████████████████████████████████▉                                                                    | 1012/1875 [00:11<00:09, 88.36it/s]"
     ]
    },
    {
     "name": "stdout",
     "output_type": "stream",
     "text": [
      "LOSS:2.89  ACC:0.28\n",
      "LOSS:2.40  ACC:0.31\n",
      "LOSS:2.93  ACC:0.22\n",
      "LOSS:2.64  ACC:0.22\n",
      "LOSS:2.48  ACC:0.12\n",
      "LOSS:2.54  ACC:0.38\n",
      "LOSS:2.18  ACC:0.38\n",
      "LOSS:2.48  ACC:0.28\n",
      "LOSS:2.53  ACC:0.31\n",
      "LOSS:2.21  ACC:0.22\n",
      "LOSS:3.45  ACC:0.16\n",
      "LOSS:2.01  ACC:0.19\n",
      "LOSS:2.42  ACC:0.22\n",
      "LOSS:2.76  ACC:0.22\n",
      "LOSS:3.00  ACC:0.22\n",
      "LOSS:2.05  ACC:0.31\n",
      "LOSS:2.69  ACC:0.22\n",
      "LOSS:3.02  ACC:0.06\n"
     ]
    },
    {
     "name": "stderr",
     "output_type": "stream",
     "text": [
      " 55%|█████████████████████████████████████████████████████████████████████████████████▎                                                                  | 1030/1875 [00:11<00:09, 87.00it/s]"
     ]
    },
    {
     "name": "stdout",
     "output_type": "stream",
     "text": [
      "LOSS:2.06  ACC:0.41\n",
      "LOSS:2.48  ACC:0.38\n",
      "LOSS:2.55  ACC:0.31\n",
      "LOSS:3.00  ACC:0.16\n",
      "LOSS:2.46  ACC:0.25\n",
      "LOSS:2.86  ACC:0.22\n",
      "LOSS:2.90  ACC:0.22\n",
      "LOSS:3.03  ACC:0.16\n",
      "LOSS:2.32  ACC:0.38\n",
      "LOSS:2.57  ACC:0.31\n",
      "LOSS:2.56  ACC:0.28\n",
      "LOSS:2.62  ACC:0.34\n",
      "LOSS:1.87  ACC:0.53\n",
      "LOSS:2.16  ACC:0.38\n",
      "LOSS:2.71  ACC:0.31\n",
      "LOSS:2.44  ACC:0.28\n",
      "LOSS:2.85  ACC:0.19\n",
      "LOSS:2.83  ACC:0.22\n"
     ]
    },
    {
     "name": "stderr",
     "output_type": "stream",
     "text": [
      " 56%|██████████████████████████████████████████████████████████████████████████████████▋                                                                 | 1048/1875 [00:12<00:09, 87.73it/s]"
     ]
    },
    {
     "name": "stdout",
     "output_type": "stream",
     "text": [
      "LOSS:2.79  ACC:0.19\n",
      "LOSS:2.60  ACC:0.31\n",
      "LOSS:1.85  ACC:0.44\n",
      "LOSS:2.33  ACC:0.25\n",
      "LOSS:2.48  ACC:0.31\n",
      "LOSS:2.76  ACC:0.19\n",
      "LOSS:2.35  ACC:0.31\n",
      "LOSS:2.48  ACC:0.34\n",
      "LOSS:2.33  ACC:0.31\n",
      "LOSS:2.39  ACC:0.22\n",
      "LOSS:2.32  ACC:0.31\n",
      "LOSS:3.19  ACC:0.16\n",
      "LOSS:2.71  ACC:0.25\n",
      "LOSS:2.46  ACC:0.25\n",
      "LOSS:3.14  ACC:0.12\n",
      "LOSS:3.33  ACC:0.12\n",
      "LOSS:2.60  ACC:0.25\n",
      "LOSS:2.47  ACC:0.28\n"
     ]
    },
    {
     "name": "stderr",
     "output_type": "stream",
     "text": [
      " 57%|████████████████████████████████████████████████████████████████████████████████████▏                                                               | 1066/1875 [00:12<00:09, 87.11it/s]"
     ]
    },
    {
     "name": "stdout",
     "output_type": "stream",
     "text": [
      "LOSS:2.13  ACC:0.38\n",
      "LOSS:2.40  ACC:0.22\n",
      "LOSS:2.83  ACC:0.22\n",
      "LOSS:2.07  ACC:0.34\n",
      "LOSS:1.77  ACC:0.34\n",
      "LOSS:2.34  ACC:0.38\n",
      "LOSS:3.01  ACC:0.16\n",
      "LOSS:2.23  ACC:0.41\n",
      "LOSS:2.02  ACC:0.50\n",
      "LOSS:1.84  ACC:0.31\n",
      "LOSS:1.60  ACC:0.50\n",
      "LOSS:2.82  ACC:0.19\n",
      "LOSS:1.95  ACC:0.28\n",
      "LOSS:2.26  ACC:0.28\n",
      "LOSS:2.31  ACC:0.25\n",
      "LOSS:2.52  ACC:0.31\n",
      "LOSS:2.89  ACC:0.12\n",
      "LOSS:2.38  ACC:0.34\n"
     ]
    },
    {
     "name": "stderr",
     "output_type": "stream",
     "text": [
      " 58%|█████████████████████████████████████████████████████████████████████████████████████▌                                                              | 1084/1875 [00:12<00:09, 87.15it/s]"
     ]
    },
    {
     "name": "stdout",
     "output_type": "stream",
     "text": [
      "LOSS:2.28  ACC:0.38\n",
      "LOSS:2.23  ACC:0.25\n",
      "LOSS:2.06  ACC:0.31\n",
      "LOSS:2.42  ACC:0.38\n",
      "LOSS:2.38  ACC:0.28\n",
      "LOSS:2.28  ACC:0.31\n",
      "LOSS:2.63  ACC:0.22\n",
      "LOSS:2.17  ACC:0.38\n",
      "LOSS:2.56  ACC:0.22\n",
      "LOSS:2.05  ACC:0.31\n",
      "LOSS:2.34  ACC:0.34\n",
      "LOSS:2.38  ACC:0.19\n",
      "LOSS:2.37  ACC:0.25\n",
      "LOSS:2.31  ACC:0.28\n",
      "LOSS:2.27  ACC:0.38\n",
      "LOSS:1.93  ACC:0.44\n",
      "LOSS:2.49  ACC:0.22\n",
      "LOSS:2.95  ACC:0.19\n"
     ]
    },
    {
     "name": "stderr",
     "output_type": "stream",
     "text": [
      " 59%|███████████████████████████████████████████████████████████████████████████████████████                                                             | 1103/1875 [00:12<00:09, 85.56it/s]"
     ]
    },
    {
     "name": "stdout",
     "output_type": "stream",
     "text": [
      "LOSS:2.38  ACC:0.28\n",
      "LOSS:2.62  ACC:0.19\n",
      "LOSS:2.48  ACC:0.28\n",
      "LOSS:2.41  ACC:0.25\n",
      "LOSS:2.33  ACC:0.34\n",
      "LOSS:2.62  ACC:0.28\n",
      "LOSS:2.43  ACC:0.38\n",
      "LOSS:2.18  ACC:0.41\n",
      "LOSS:2.25  ACC:0.22\n",
      "LOSS:2.37  ACC:0.28\n",
      "LOSS:2.20  ACC:0.31\n",
      "LOSS:2.53  ACC:0.28\n",
      "LOSS:2.10  ACC:0.28\n",
      "LOSS:2.47  ACC:0.25\n",
      "LOSS:2.83  ACC:0.28\n",
      "LOSS:2.42  ACC:0.31\n",
      "LOSS:2.28  ACC:0.34\n"
     ]
    },
    {
     "name": "stderr",
     "output_type": "stream",
     "text": [
      " 60%|████████████████████████████████████████████████████████████████████████████████████████▍                                                           | 1121/1875 [00:12<00:08, 85.29it/s]"
     ]
    },
    {
     "name": "stdout",
     "output_type": "stream",
     "text": [
      "LOSS:2.61  ACC:0.31\n",
      "LOSS:2.59  ACC:0.22\n",
      "LOSS:2.60  ACC:0.28\n",
      "LOSS:2.22  ACC:0.25\n",
      "LOSS:2.61  ACC:0.22\n",
      "LOSS:2.38  ACC:0.25\n",
      "LOSS:2.11  ACC:0.44\n",
      "LOSS:2.31  ACC:0.28\n",
      "LOSS:2.12  ACC:0.31\n",
      "LOSS:2.64  ACC:0.16\n",
      "LOSS:2.33  ACC:0.25\n",
      "LOSS:1.92  ACC:0.41\n",
      "LOSS:2.34  ACC:0.31\n",
      "LOSS:2.16  ACC:0.38\n",
      "LOSS:2.48  ACC:0.25\n",
      "LOSS:2.13  ACC:0.41\n",
      "LOSS:2.23  ACC:0.50\n",
      "LOSS:2.72  ACC:0.34\n"
     ]
    },
    {
     "name": "stderr",
     "output_type": "stream",
     "text": [
      "\r",
      " 60%|█████████████████████████████████████████████████████████████████████████████████████████▏                                                          | 1130/1875 [00:13<00:08, 83.86it/s]"
     ]
    },
    {
     "name": "stdout",
     "output_type": "stream",
     "text": [
      "LOSS:2.95  ACC:0.31\n",
      "LOSS:2.64  ACC:0.22\n",
      "LOSS:2.84  ACC:0.06\n",
      "LOSS:2.89  ACC:0.19\n",
      "LOSS:2.85  ACC:0.25\n",
      "LOSS:2.34  ACC:0.31\n",
      "LOSS:2.47  ACC:0.34\n",
      "LOSS:2.35  ACC:0.22\n",
      "LOSS:2.85  ACC:0.25\n",
      "LOSS:2.42  ACC:0.25\n",
      "LOSS:2.70  ACC:0.22\n",
      "LOSS:2.27  ACC:0.34\n",
      "LOSS:2.73  ACC:0.28\n",
      "LOSS:2.72  ACC:0.19\n",
      "LOSS:2.57  ACC:0.31\n",
      "LOSS:2.22  ACC:0.28\n",
      "LOSS:2.37  ACC:0.19\n",
      "LOSS:2.58  ACC:0.31\n"
     ]
    },
    {
     "name": "stderr",
     "output_type": "stream",
     "text": [
      " 61%|██████████████████████████████████████████████████████████████████████████████████████████▊                                                         | 1150/1875 [00:13<00:08, 88.16it/s]"
     ]
    },
    {
     "name": "stdout",
     "output_type": "stream",
     "text": [
      "LOSS:2.41  ACC:0.47\n",
      "LOSS:2.17  ACC:0.19\n",
      "LOSS:2.62  ACC:0.25\n",
      "LOSS:2.27  ACC:0.22\n",
      "LOSS:2.80  ACC:0.25\n",
      "LOSS:2.17  ACC:0.38\n",
      "LOSS:2.62  ACC:0.19\n",
      "LOSS:2.74  ACC:0.19\n",
      "LOSS:2.12  ACC:0.38\n",
      "LOSS:2.74  ACC:0.25\n",
      "LOSS:2.12  ACC:0.41\n",
      "LOSS:2.55  ACC:0.44\n",
      "LOSS:2.03  ACC:0.31\n",
      "LOSS:2.65  ACC:0.25\n",
      "LOSS:2.65  ACC:0.25\n",
      "LOSS:1.87  ACC:0.41\n",
      "LOSS:2.77  ACC:0.16\n",
      "LOSS:1.87  ACC:0.47\n",
      "LOSS:2.34  ACC:0.31\n"
     ]
    },
    {
     "name": "stderr",
     "output_type": "stream",
     "text": [
      " 62%|████████████████████████████████████████████████████████████████████████████████████████████▎                                                       | 1169/1875 [00:13<00:08, 87.41it/s]"
     ]
    },
    {
     "name": "stdout",
     "output_type": "stream",
     "text": [
      "LOSS:2.75  ACC:0.31\n",
      "LOSS:2.71  ACC:0.25\n",
      "LOSS:2.63  ACC:0.16\n",
      "LOSS:2.59  ACC:0.22\n",
      "LOSS:2.48  ACC:0.31\n",
      "LOSS:2.88  ACC:0.16\n",
      "LOSS:3.40  ACC:0.12\n",
      "LOSS:2.87  ACC:0.22\n",
      "LOSS:2.57  ACC:0.22\n",
      "LOSS:2.82  ACC:0.19\n",
      "LOSS:2.28  ACC:0.31\n",
      "LOSS:2.83  ACC:0.16\n",
      "LOSS:3.17  ACC:0.19\n",
      "LOSS:2.80  ACC:0.22\n",
      "LOSS:2.41  ACC:0.38\n",
      "LOSS:2.49  ACC:0.25\n",
      "LOSS:2.76  ACC:0.22\n"
     ]
    },
    {
     "name": "stderr",
     "output_type": "stream",
     "text": [
      " 63%|█████████████████████████████████████████████████████████████████████████████████████████████▋                                                      | 1187/1875 [00:13<00:08, 85.93it/s]"
     ]
    },
    {
     "name": "stdout",
     "output_type": "stream",
     "text": [
      "LOSS:2.95  ACC:0.25\n",
      "LOSS:1.95  ACC:0.38\n",
      "LOSS:2.37  ACC:0.28\n",
      "LOSS:2.81  ACC:0.16\n",
      "LOSS:2.28  ACC:0.38\n",
      "LOSS:2.84  ACC:0.19\n",
      "LOSS:2.73  ACC:0.28\n",
      "LOSS:2.53  ACC:0.34\n",
      "LOSS:2.52  ACC:0.16\n",
      "LOSS:2.64  ACC:0.19\n",
      "LOSS:2.13  ACC:0.38\n",
      "LOSS:1.91  ACC:0.31\n",
      "LOSS:2.94  ACC:0.28\n",
      "LOSS:2.08  ACC:0.34\n",
      "LOSS:2.84  ACC:0.16\n",
      "LOSS:2.73  ACC:0.28\n",
      "LOSS:2.06  ACC:0.41\n",
      "LOSS:1.75  ACC:0.41\n"
     ]
    },
    {
     "name": "stderr",
     "output_type": "stream",
     "text": [
      " 64%|███████████████████████████████████████████████████████████████████████████████████████████████                                                     | 1205/1875 [00:13<00:07, 84.89it/s]"
     ]
    },
    {
     "name": "stdout",
     "output_type": "stream",
     "text": [
      "LOSS:2.19  ACC:0.41\n",
      "LOSS:1.69  ACC:0.44\n",
      "LOSS:1.86  ACC:0.44\n",
      "LOSS:2.21  ACC:0.38\n",
      "LOSS:2.52  ACC:0.31\n",
      "LOSS:2.74  ACC:0.28\n",
      "LOSS:2.57  ACC:0.19\n",
      "LOSS:2.74  ACC:0.19\n",
      "LOSS:2.27  ACC:0.44\n",
      "LOSS:2.08  ACC:0.44\n",
      "LOSS:2.76  ACC:0.28\n",
      "LOSS:1.91  ACC:0.34\n",
      "LOSS:2.44  ACC:0.31\n",
      "LOSS:2.23  ACC:0.25\n",
      "LOSS:2.87  ACC:0.25\n",
      "LOSS:1.96  ACC:0.44\n",
      "LOSS:2.03  ACC:0.44\n",
      "LOSS:2.32  ACC:0.31\n"
     ]
    },
    {
     "name": "stderr",
     "output_type": "stream",
     "text": [
      " 65%|████████████████████████████████████████████████████████████████████████████████████████████████▌                                                   | 1223/1875 [00:14<00:08, 78.88it/s]"
     ]
    },
    {
     "name": "stdout",
     "output_type": "stream",
     "text": [
      "LOSS:2.07  ACC:0.34\n",
      "LOSS:2.80  ACC:0.19\n",
      "LOSS:2.37  ACC:0.28\n",
      "LOSS:2.79  ACC:0.22\n",
      "LOSS:2.59  ACC:0.25\n",
      "LOSS:2.82  ACC:0.22\n",
      "LOSS:2.36  ACC:0.22\n",
      "LOSS:2.02  ACC:0.34\n",
      "LOSS:2.66  ACC:0.31\n",
      "LOSS:2.28  ACC:0.31\n",
      "LOSS:2.49  ACC:0.22\n",
      "LOSS:2.32  ACC:0.31\n",
      "LOSS:2.37  ACC:0.34\n",
      "LOSS:2.35  ACC:0.31\n",
      "LOSS:2.48  ACC:0.28\n",
      "LOSS:1.94  ACC:0.25\n"
     ]
    },
    {
     "name": "stderr",
     "output_type": "stream",
     "text": [
      " 66%|██████████████████████████████████████████████████████████████████████████████████████████████████                                                  | 1242/1875 [00:14<00:07, 85.09it/s]"
     ]
    },
    {
     "name": "stdout",
     "output_type": "stream",
     "text": [
      "LOSS:2.37  ACC:0.31\n",
      "LOSS:2.41  ACC:0.31\n",
      "LOSS:2.52  ACC:0.31\n",
      "LOSS:3.07  ACC:0.19\n",
      "LOSS:2.26  ACC:0.28\n",
      "LOSS:2.67  ACC:0.28\n",
      "LOSS:2.42  ACC:0.38\n",
      "LOSS:2.28  ACC:0.38\n",
      "LOSS:2.06  ACC:0.28\n",
      "LOSS:2.07  ACC:0.34\n",
      "LOSS:2.35  ACC:0.31\n",
      "LOSS:1.91  ACC:0.34\n",
      "LOSS:2.06  ACC:0.34\n",
      "LOSS:2.28  ACC:0.38\n",
      "LOSS:2.02  ACC:0.34\n",
      "LOSS:2.32  ACC:0.25\n",
      "LOSS:1.65  ACC:0.56\n",
      "LOSS:2.53  ACC:0.25\n",
      "LOSS:2.08  ACC:0.34\n"
     ]
    },
    {
     "name": "stderr",
     "output_type": "stream",
     "text": [
      " 67%|███████████████████████████████████████████████████████████████████████████████████████████████████▌                                                | 1262/1875 [00:14<00:06, 88.85it/s]"
     ]
    },
    {
     "name": "stdout",
     "output_type": "stream",
     "text": [
      "LOSS:2.58  ACC:0.28\n",
      "LOSS:2.52  ACC:0.22\n",
      "LOSS:2.43  ACC:0.41\n",
      "LOSS:2.14  ACC:0.34\n",
      "LOSS:2.66  ACC:0.28\n",
      "LOSS:2.35  ACC:0.31\n",
      "LOSS:2.20  ACC:0.31\n",
      "LOSS:2.00  ACC:0.31\n",
      "LOSS:2.03  ACC:0.38\n",
      "LOSS:2.11  ACC:0.31\n",
      "LOSS:2.17  ACC:0.34\n",
      "LOSS:2.16  ACC:0.22\n",
      "LOSS:2.29  ACC:0.31\n",
      "LOSS:2.30  ACC:0.44\n",
      "LOSS:1.95  ACC:0.31\n",
      "LOSS:2.11  ACC:0.44\n",
      "LOSS:2.08  ACC:0.28\n",
      "LOSS:2.53  ACC:0.22\n",
      "LOSS:3.04  ACC:0.12\n"
     ]
    },
    {
     "name": "stderr",
     "output_type": "stream",
     "text": [
      " 68%|█████████████████████████████████████████████████████████████████████████████████████████████████████                                               | 1280/1875 [00:14<00:06, 87.90it/s]"
     ]
    },
    {
     "name": "stdout",
     "output_type": "stream",
     "text": [
      "LOSS:2.74  ACC:0.22\n",
      "LOSS:2.92  ACC:0.22\n",
      "LOSS:2.15  ACC:0.31\n",
      "LOSS:2.54  ACC:0.19\n",
      "LOSS:2.33  ACC:0.31\n",
      "LOSS:2.80  ACC:0.28\n",
      "LOSS:2.12  ACC:0.22\n",
      "LOSS:1.82  ACC:0.44\n",
      "LOSS:2.45  ACC:0.28\n",
      "LOSS:2.14  ACC:0.38\n",
      "LOSS:2.41  ACC:0.19\n",
      "LOSS:2.35  ACC:0.31\n",
      "LOSS:2.88  ACC:0.22\n",
      "LOSS:2.02  ACC:0.34\n",
      "LOSS:2.72  ACC:0.19\n",
      "LOSS:1.87  ACC:0.38\n",
      "LOSS:2.86  ACC:0.34\n",
      "LOSS:2.63  ACC:0.25\n"
     ]
    },
    {
     "name": "stderr",
     "output_type": "stream",
     "text": [
      " 69%|██████████████████████████████████████████████████████████████████████████████████████████████████████▍                                             | 1298/1875 [00:14<00:06, 86.89it/s]"
     ]
    },
    {
     "name": "stdout",
     "output_type": "stream",
     "text": [
      "LOSS:2.60  ACC:0.25\n",
      "LOSS:2.02  ACC:0.38\n",
      "LOSS:2.64  ACC:0.16\n",
      "LOSS:2.71  ACC:0.19\n",
      "LOSS:2.44  ACC:0.34\n",
      "LOSS:2.23  ACC:0.38\n",
      "LOSS:2.54  ACC:0.16\n",
      "LOSS:2.46  ACC:0.34\n",
      "LOSS:3.18  ACC:0.16\n",
      "LOSS:2.34  ACC:0.28\n",
      "LOSS:2.49  ACC:0.28\n",
      "LOSS:2.32  ACC:0.25\n",
      "LOSS:2.71  ACC:0.19\n",
      "LOSS:2.81  ACC:0.28\n",
      "LOSS:2.14  ACC:0.31\n",
      "LOSS:3.10  ACC:0.16\n",
      "LOSS:2.50  ACC:0.19\n",
      "LOSS:2.51  ACC:0.25\n"
     ]
    },
    {
     "name": "stderr",
     "output_type": "stream",
     "text": [
      " 70%|███████████████████████████████████████████████████████████████████████████████████████████████████████▉                                            | 1316/1875 [00:15<00:06, 85.34it/s]"
     ]
    },
    {
     "name": "stdout",
     "output_type": "stream",
     "text": [
      "LOSS:2.61  ACC:0.25\n",
      "LOSS:2.78  ACC:0.19\n",
      "LOSS:2.79  ACC:0.16\n",
      "LOSS:2.25  ACC:0.47\n",
      "LOSS:2.64  ACC:0.28\n",
      "LOSS:2.36  ACC:0.31\n",
      "LOSS:2.66  ACC:0.25\n",
      "LOSS:2.24  ACC:0.31\n",
      "LOSS:2.28  ACC:0.19\n",
      "LOSS:2.09  ACC:0.28\n",
      "LOSS:2.63  ACC:0.25\n",
      "LOSS:2.53  ACC:0.34\n",
      "LOSS:2.78  ACC:0.25\n",
      "LOSS:2.23  ACC:0.44\n",
      "LOSS:2.63  ACC:0.28\n",
      "LOSS:2.74  ACC:0.12\n",
      "LOSS:2.50  ACC:0.19\n"
     ]
    },
    {
     "name": "stderr",
     "output_type": "stream",
     "text": [
      " 71%|█████████████████████████████████████████████████████████████████████████████████████████████████████████▍                                          | 1335/1875 [00:15<00:06, 86.68it/s]"
     ]
    },
    {
     "name": "stdout",
     "output_type": "stream",
     "text": [
      "LOSS:1.92  ACC:0.38\n",
      "LOSS:2.87  ACC:0.09\n",
      "LOSS:2.60  ACC:0.25\n",
      "LOSS:2.24  ACC:0.25\n",
      "LOSS:2.88  ACC:0.25\n",
      "LOSS:2.45  ACC:0.22\n",
      "LOSS:2.74  ACC:0.28\n",
      "LOSS:2.37  ACC:0.31\n",
      "LOSS:2.23  ACC:0.38\n",
      "LOSS:2.77  ACC:0.28\n",
      "LOSS:2.77  ACC:0.22\n",
      "LOSS:2.69  ACC:0.22\n",
      "LOSS:2.80  ACC:0.25\n",
      "LOSS:2.31  ACC:0.31\n",
      "LOSS:2.37  ACC:0.25\n",
      "LOSS:3.21  ACC:0.16\n",
      "LOSS:2.94  ACC:0.22\n",
      "LOSS:2.79  ACC:0.25\n",
      "LOSS:2.19  ACC:0.38\n"
     ]
    },
    {
     "name": "stderr",
     "output_type": "stream",
     "text": [
      " 72%|██████████████████████████████████████████████████████████████████████████████████████████████████████████▊                                         | 1353/1875 [00:15<00:05, 87.16it/s]"
     ]
    },
    {
     "name": "stdout",
     "output_type": "stream",
     "text": [
      "LOSS:2.55  ACC:0.19\n",
      "LOSS:2.21  ACC:0.28\n",
      "LOSS:1.98  ACC:0.38\n",
      "LOSS:1.72  ACC:0.44\n",
      "LOSS:2.69  ACC:0.19\n",
      "LOSS:2.42  ACC:0.28\n",
      "LOSS:2.73  ACC:0.22\n",
      "LOSS:2.10  ACC:0.34\n",
      "LOSS:2.88  ACC:0.16\n",
      "LOSS:2.89  ACC:0.19\n",
      "LOSS:2.55  ACC:0.22\n",
      "LOSS:2.61  ACC:0.22\n",
      "LOSS:2.28  ACC:0.28\n",
      "LOSS:2.63  ACC:0.25\n",
      "LOSS:3.15  ACC:0.19\n",
      "LOSS:2.37  ACC:0.31\n",
      "LOSS:2.69  ACC:0.22\n",
      "LOSS:2.46  ACC:0.25\n"
     ]
    },
    {
     "name": "stderr",
     "output_type": "stream",
     "text": [
      " 73%|████████████████████████████████████████████████████████████████████████████████████████████████████████████▏                                       | 1371/1875 [00:15<00:05, 84.59it/s]"
     ]
    },
    {
     "name": "stdout",
     "output_type": "stream",
     "text": [
      "LOSS:2.73  ACC:0.28\n",
      "LOSS:2.00  ACC:0.31\n",
      "LOSS:2.27  ACC:0.31\n",
      "LOSS:1.79  ACC:0.41\n",
      "LOSS:2.64  ACC:0.25\n",
      "LOSS:2.70  ACC:0.28\n",
      "LOSS:2.35  ACC:0.34\n",
      "LOSS:1.74  ACC:0.38\n",
      "LOSS:2.57  ACC:0.22\n",
      "LOSS:2.53  ACC:0.16\n",
      "LOSS:2.17  ACC:0.28\n",
      "LOSS:2.21  ACC:0.25\n",
      "LOSS:2.54  ACC:0.28\n",
      "LOSS:2.29  ACC:0.31\n",
      "LOSS:2.40  ACC:0.22\n",
      "LOSS:2.25  ACC:0.34\n",
      "LOSS:2.09  ACC:0.38\n"
     ]
    },
    {
     "name": "stderr",
     "output_type": "stream",
     "text": [
      " 74%|█████████████████████████████████████████████████████████████████████████████████████████████████████████████▋                                      | 1389/1875 [00:16<00:05, 82.53it/s]"
     ]
    },
    {
     "name": "stdout",
     "output_type": "stream",
     "text": [
      "LOSS:2.31  ACC:0.22\n",
      "LOSS:2.86  ACC:0.28\n",
      "LOSS:1.92  ACC:0.41\n",
      "LOSS:2.51  ACC:0.28\n",
      "LOSS:1.97  ACC:0.34\n",
      "LOSS:2.55  ACC:0.25\n",
      "LOSS:2.66  ACC:0.19\n",
      "LOSS:2.36  ACC:0.19\n",
      "LOSS:2.66  ACC:0.19\n",
      "LOSS:2.72  ACC:0.25\n",
      "LOSS:2.61  ACC:0.22\n",
      "LOSS:2.81  ACC:0.12\n",
      "LOSS:2.53  ACC:0.19\n",
      "LOSS:2.78  ACC:0.12\n",
      "LOSS:2.18  ACC:0.31\n",
      "LOSS:2.59  ACC:0.28\n",
      "LOSS:2.25  ACC:0.31\n"
     ]
    },
    {
     "name": "stderr",
     "output_type": "stream",
     "text": [
      "\r",
      " 75%|██████████████████████████████████████████████████████████████████████████████████████████████████████████████▎                                     | 1398/1875 [00:16<00:05, 84.07it/s]"
     ]
    },
    {
     "name": "stdout",
     "output_type": "stream",
     "text": [
      "LOSS:2.08  ACC:0.31\n",
      "LOSS:2.48  ACC:0.31\n",
      "LOSS:2.22  ACC:0.25\n",
      "LOSS:2.67  ACC:0.44\n",
      "LOSS:2.24  ACC:0.31\n",
      "LOSS:2.05  ACC:0.34\n",
      "LOSS:2.42  ACC:0.28\n",
      "LOSS:2.58  ACC:0.31\n",
      "LOSS:2.94  ACC:0.25\n",
      "LOSS:2.48  ACC:0.25\n",
      "LOSS:2.76  ACC:0.19\n",
      "LOSS:2.61  ACC:0.41\n",
      "LOSS:2.22  ACC:0.34\n",
      "LOSS:2.41  ACC:0.31\n",
      "LOSS:2.36  ACC:0.28\n",
      "LOSS:2.83  ACC:0.16\n",
      "LOSS:1.81  ACC:0.38\n",
      "LOSS:2.19  ACC:0.34\n"
     ]
    },
    {
     "name": "stderr",
     "output_type": "stream",
     "text": [
      " 76%|████████████████████████████████████████████████████████████████████████████████████████████████████████████████▋                                   | 1427/1875 [00:16<00:05, 88.04it/s]"
     ]
    },
    {
     "name": "stdout",
     "output_type": "stream",
     "text": [
      "LOSS:1.91  ACC:0.38\n",
      "LOSS:2.33  ACC:0.22\n",
      "LOSS:3.31  ACC:0.16\n",
      "LOSS:2.92  ACC:0.25\n",
      "LOSS:2.61  ACC:0.22\n",
      "LOSS:3.19  ACC:0.19\n",
      "LOSS:2.90  ACC:0.25\n",
      "LOSS:3.48  ACC:0.22\n",
      "LOSS:2.98  ACC:0.31\n",
      "LOSS:2.25  ACC:0.41\n",
      "LOSS:1.95  ACC:0.41\n",
      "LOSS:1.83  ACC:0.41\n",
      "LOSS:2.39  ACC:0.22\n",
      "LOSS:2.65  ACC:0.19\n",
      "LOSS:2.70  ACC:0.25\n",
      "LOSS:2.55  ACC:0.34\n",
      "LOSS:2.41  ACC:0.31\n",
      "LOSS:1.96  ACC:0.50\n",
      "LOSS:3.01  ACC:0.19\n",
      "LOSS:2.80  ACC:0.22\n"
     ]
    },
    {
     "name": "stderr",
     "output_type": "stream",
     "text": [
      " 77%|██████████████████████████████████████████████████████████████████████████████████████████████████████████████████▏                                 | 1446/1875 [00:16<00:04, 89.10it/s]"
     ]
    },
    {
     "name": "stdout",
     "output_type": "stream",
     "text": [
      "LOSS:2.24  ACC:0.34\n",
      "LOSS:2.77  ACC:0.19\n",
      "LOSS:2.75  ACC:0.28\n",
      "LOSS:2.95  ACC:0.22\n",
      "LOSS:1.94  ACC:0.41\n",
      "LOSS:2.78  ACC:0.28\n",
      "LOSS:2.91  ACC:0.09\n",
      "LOSS:2.54  ACC:0.34\n",
      "LOSS:2.04  ACC:0.38\n",
      "LOSS:2.51  ACC:0.25\n",
      "LOSS:1.66  ACC:0.44\n",
      "LOSS:2.86  ACC:0.16\n",
      "LOSS:2.46  ACC:0.16\n",
      "LOSS:2.34  ACC:0.28\n",
      "LOSS:2.11  ACC:0.47\n",
      "LOSS:1.99  ACC:0.25\n",
      "LOSS:2.31  ACC:0.38\n",
      "LOSS:2.31  ACC:0.25\n",
      "LOSS:2.26  ACC:0.28\n"
     ]
    },
    {
     "name": "stderr",
     "output_type": "stream",
     "text": [
      " 78%|███████████████████████████████████████████████████████████████████████████████████████████████████████████████████▋                                | 1465/1875 [00:16<00:04, 90.19it/s]"
     ]
    },
    {
     "name": "stdout",
     "output_type": "stream",
     "text": [
      "LOSS:2.06  ACC:0.38\n",
      "LOSS:2.43  ACC:0.28\n",
      "LOSS:2.11  ACC:0.34\n",
      "LOSS:2.75  ACC:0.31\n",
      "LOSS:2.33  ACC:0.22\n",
      "LOSS:2.29  ACC:0.25\n",
      "LOSS:2.37  ACC:0.38\n",
      "LOSS:2.18  ACC:0.38\n",
      "LOSS:2.67  ACC:0.25\n",
      "LOSS:2.18  ACC:0.28\n",
      "LOSS:2.71  ACC:0.38\n",
      "LOSS:2.20  ACC:0.31\n",
      "LOSS:2.34  ACC:0.31\n",
      "LOSS:2.27  ACC:0.25\n",
      "LOSS:2.30  ACC:0.22\n",
      "LOSS:2.61  ACC:0.25\n",
      "LOSS:2.02  ACC:0.34\n",
      "LOSS:2.39  ACC:0.25\n",
      "LOSS:2.20  ACC:0.41\n"
     ]
    },
    {
     "name": "stderr",
     "output_type": "stream",
     "text": [
      "\r",
      " 79%|████████████████████████████████████████████████████████████████████████████████████████████████████████████████████▍                               | 1475/1875 [00:17<00:04, 89.80it/s]"
     ]
    },
    {
     "name": "stdout",
     "output_type": "stream",
     "text": [
      "LOSS:2.37  ACC:0.31\n",
      "LOSS:2.46  ACC:0.38\n",
      "LOSS:2.40  ACC:0.31\n",
      "LOSS:2.89  ACC:0.19\n",
      "LOSS:3.02  ACC:0.16\n",
      "LOSS:2.09  ACC:0.22\n",
      "LOSS:2.55  ACC:0.25\n",
      "LOSS:2.63  ACC:0.28\n",
      "LOSS:2.63  ACC:0.19\n",
      "LOSS:2.05  ACC:0.44\n",
      "LOSS:3.04  ACC:0.34\n",
      "LOSS:2.36  ACC:0.22\n",
      "LOSS:3.16  ACC:0.25\n",
      "LOSS:2.77  ACC:0.25\n",
      "LOSS:2.44  ACC:0.28\n",
      "LOSS:2.15  ACC:0.31\n",
      "LOSS:2.67  ACC:0.31\n",
      "LOSS:2.19  ACC:0.31\n",
      "LOSS:2.56  ACC:0.25\n"
     ]
    },
    {
     "name": "stderr",
     "output_type": "stream",
     "text": [
      " 80%|██████████████████████████████████████████████████████████████████████████████████████████████████████████████████████                              | 1495/1875 [00:17<00:04, 90.48it/s]"
     ]
    },
    {
     "name": "stdout",
     "output_type": "stream",
     "text": [
      "LOSS:2.76  ACC:0.25\n",
      "LOSS:2.81  ACC:0.22\n",
      "LOSS:3.19  ACC:0.16\n",
      "LOSS:3.30  ACC:0.12\n",
      "LOSS:3.08  ACC:0.25\n",
      "LOSS:2.94  ACC:0.31\n",
      "LOSS:2.60  ACC:0.31\n",
      "LOSS:2.21  ACC:0.34\n",
      "LOSS:2.47  ACC:0.28\n",
      "LOSS:2.45  ACC:0.31\n",
      "LOSS:1.99  ACC:0.41\n",
      "LOSS:2.55  ACC:0.28\n",
      "LOSS:2.32  ACC:0.25\n",
      "LOSS:1.96  ACC:0.31\n",
      "LOSS:3.00  ACC:0.16\n",
      "LOSS:2.27  ACC:0.41\n",
      "LOSS:2.96  ACC:0.31\n",
      "LOSS:2.79  ACC:0.25\n",
      "LOSS:2.72  ACC:0.22\n"
     ]
    },
    {
     "name": "stderr",
     "output_type": "stream",
     "text": [
      " 81%|███████████████████████████████████████████████████████████████████████████████████████████████████████████████████████▌                            | 1515/1875 [00:17<00:03, 91.01it/s]"
     ]
    },
    {
     "name": "stdout",
     "output_type": "stream",
     "text": [
      "LOSS:2.15  ACC:0.34\n",
      "LOSS:2.51  ACC:0.31\n",
      "LOSS:1.83  ACC:0.44\n",
      "LOSS:2.50  ACC:0.22\n",
      "LOSS:2.21  ACC:0.25\n",
      "LOSS:2.44  ACC:0.31\n",
      "LOSS:2.05  ACC:0.34\n",
      "LOSS:2.06  ACC:0.22\n",
      "LOSS:3.00  ACC:0.28\n",
      "LOSS:2.03  ACC:0.31\n",
      "LOSS:2.29  ACC:0.41\n",
      "LOSS:2.37  ACC:0.19\n",
      "LOSS:3.01  ACC:0.09\n",
      "LOSS:2.48  ACC:0.28\n",
      "LOSS:2.75  ACC:0.19\n",
      "LOSS:2.43  ACC:0.28\n",
      "LOSS:2.51  ACC:0.22\n",
      "LOSS:2.92  ACC:0.25\n",
      "LOSS:2.67  ACC:0.25\n"
     ]
    },
    {
     "name": "stderr",
     "output_type": "stream",
     "text": [
      " 82%|█████████████████████████████████████████████████████████████████████████████████████████████████████████████████████████▏                          | 1535/1875 [00:17<00:03, 91.63it/s]"
     ]
    },
    {
     "name": "stdout",
     "output_type": "stream",
     "text": [
      "LOSS:2.35  ACC:0.25\n",
      "LOSS:2.47  ACC:0.25\n",
      "LOSS:2.36  ACC:0.28\n",
      "LOSS:2.10  ACC:0.34\n",
      "LOSS:1.88  ACC:0.38\n",
      "LOSS:2.71  ACC:0.19\n",
      "LOSS:2.05  ACC:0.38\n",
      "LOSS:2.69  ACC:0.16\n",
      "LOSS:2.65  ACC:0.19\n",
      "LOSS:2.67  ACC:0.22\n",
      "LOSS:2.87  ACC:0.16\n",
      "LOSS:1.67  ACC:0.44\n",
      "LOSS:3.00  ACC:0.19\n",
      "LOSS:2.28  ACC:0.38\n",
      "LOSS:2.66  ACC:0.16\n",
      "LOSS:2.50  ACC:0.31\n",
      "LOSS:2.46  ACC:0.31\n",
      "LOSS:2.68  ACC:0.25\n",
      "LOSS:1.82  ACC:0.41\n"
     ]
    },
    {
     "name": "stderr",
     "output_type": "stream",
     "text": [
      " 83%|██████████████████████████████████████████████████████████████████████████████████████████████████████████████████████████▋                         | 1555/1875 [00:17<00:03, 90.43it/s]"
     ]
    },
    {
     "name": "stdout",
     "output_type": "stream",
     "text": [
      "LOSS:2.17  ACC:0.34\n",
      "LOSS:2.76  ACC:0.31\n",
      "LOSS:2.31  ACC:0.47\n",
      "LOSS:3.03  ACC:0.25\n",
      "LOSS:2.89  ACC:0.12\n",
      "LOSS:2.83  ACC:0.22\n",
      "LOSS:2.72  ACC:0.25\n",
      "LOSS:2.98  ACC:0.16\n",
      "LOSS:2.61  ACC:0.22\n",
      "LOSS:2.08  ACC:0.34\n",
      "LOSS:2.68  ACC:0.31\n",
      "LOSS:2.61  ACC:0.28\n",
      "LOSS:2.35  ACC:0.28\n",
      "LOSS:2.22  ACC:0.38\n",
      "LOSS:2.95  ACC:0.28\n",
      "LOSS:2.92  ACC:0.25\n",
      "LOSS:2.54  ACC:0.34\n",
      "LOSS:2.42  ACC:0.31\n"
     ]
    },
    {
     "name": "stderr",
     "output_type": "stream",
     "text": [
      " 84%|████████████████████████████████████████████████████████████████████████████████████████████████████████████████████████████▏                       | 1574/1875 [00:18<00:03, 88.79it/s]"
     ]
    },
    {
     "name": "stdout",
     "output_type": "stream",
     "text": [
      "LOSS:2.88  ACC:0.25\n",
      "LOSS:2.49  ACC:0.38\n",
      "LOSS:2.25  ACC:0.28\n",
      "LOSS:3.88  ACC:0.09\n",
      "LOSS:2.39  ACC:0.31\n",
      "LOSS:2.29  ACC:0.31\n",
      "LOSS:2.61  ACC:0.19\n",
      "LOSS:2.21  ACC:0.25\n",
      "LOSS:3.01  ACC:0.22\n",
      "LOSS:2.38  ACC:0.28\n",
      "LOSS:2.43  ACC:0.28\n",
      "LOSS:2.81  ACC:0.19\n",
      "LOSS:2.44  ACC:0.25\n",
      "LOSS:2.52  ACC:0.28\n",
      "LOSS:2.36  ACC:0.31\n",
      "LOSS:2.62  ACC:0.34\n",
      "LOSS:2.90  ACC:0.12\n",
      "LOSS:2.18  ACC:0.31\n"
     ]
    },
    {
     "name": "stderr",
     "output_type": "stream",
     "text": [
      " 85%|█████████████████████████████████████████████████████████████████████████████████████████████████████████████████████████████▋                      | 1593/1875 [00:18<00:03, 89.60it/s]"
     ]
    },
    {
     "name": "stdout",
     "output_type": "stream",
     "text": [
      "LOSS:2.10  ACC:0.34\n",
      "LOSS:2.79  ACC:0.22\n",
      "LOSS:3.27  ACC:0.28\n",
      "LOSS:2.94  ACC:0.25\n",
      "LOSS:2.85  ACC:0.25\n",
      "LOSS:2.88  ACC:0.31\n",
      "LOSS:2.78  ACC:0.19\n",
      "LOSS:3.11  ACC:0.25\n",
      "LOSS:2.82  ACC:0.22\n",
      "LOSS:2.76  ACC:0.25\n",
      "LOSS:2.52  ACC:0.38\n",
      "LOSS:1.86  ACC:0.38\n",
      "LOSS:2.03  ACC:0.41\n",
      "LOSS:3.00  ACC:0.22\n",
      "LOSS:2.17  ACC:0.41\n",
      "LOSS:2.27  ACC:0.31\n",
      "LOSS:2.49  ACC:0.31\n",
      "LOSS:1.60  ACC:0.53\n",
      "LOSS:2.27  ACC:0.34\n"
     ]
    },
    {
     "name": "stderr",
     "output_type": "stream",
     "text": [
      " 86%|███████████████████████████████████████████████████████████████████████████████████████████████████████████████████████████████▏                    | 1611/1875 [00:18<00:02, 88.98it/s]"
     ]
    },
    {
     "name": "stdout",
     "output_type": "stream",
     "text": [
      "LOSS:2.95  ACC:0.16\n",
      "LOSS:2.47  ACC:0.22\n",
      "LOSS:2.66  ACC:0.22\n",
      "LOSS:2.43  ACC:0.28\n",
      "LOSS:2.45  ACC:0.28\n",
      "LOSS:2.55  ACC:0.22\n",
      "LOSS:2.02  ACC:0.25\n",
      "LOSS:2.94  ACC:0.09\n",
      "LOSS:2.07  ACC:0.31\n",
      "LOSS:2.14  ACC:0.38\n",
      "LOSS:2.54  ACC:0.28\n",
      "LOSS:2.48  ACC:0.25\n",
      "LOSS:2.96  ACC:0.19\n",
      "LOSS:2.56  ACC:0.25\n",
      "LOSS:2.28  ACC:0.38\n",
      "LOSS:2.56  ACC:0.34\n",
      "LOSS:3.13  ACC:0.22\n",
      "LOSS:2.63  ACC:0.22\n"
     ]
    },
    {
     "name": "stderr",
     "output_type": "stream",
     "text": [
      " 87%|████████████████████████████████████████████████████████████████████████████████████████████████████████████████████████████████▋                   | 1630/1875 [00:18<00:02, 89.33it/s]"
     ]
    },
    {
     "name": "stdout",
     "output_type": "stream",
     "text": [
      "LOSS:2.49  ACC:0.28\n",
      "LOSS:1.70  ACC:0.44\n",
      "LOSS:2.27  ACC:0.34\n",
      "LOSS:2.58  ACC:0.34\n",
      "LOSS:2.34  ACC:0.31\n",
      "LOSS:1.72  ACC:0.59\n",
      "LOSS:2.82  ACC:0.31\n",
      "LOSS:2.10  ACC:0.38\n",
      "LOSS:2.33  ACC:0.25\n",
      "LOSS:2.49  ACC:0.31\n",
      "LOSS:2.74  ACC:0.19\n",
      "LOSS:2.11  ACC:0.34\n",
      "LOSS:1.89  ACC:0.47\n",
      "LOSS:2.50  ACC:0.28\n",
      "LOSS:2.75  ACC:0.19\n",
      "LOSS:2.71  ACC:0.22\n",
      "LOSS:3.13  ACC:0.16\n",
      "LOSS:2.21  ACC:0.25\n",
      "LOSS:2.49  ACC:0.31\n"
     ]
    },
    {
     "name": "stderr",
     "output_type": "stream",
     "text": [
      " 88%|██████████████████████████████████████████████████████████████████████████████████████████████████████████████████████████████████▏                 | 1649/1875 [00:18<00:02, 89.99it/s]"
     ]
    },
    {
     "name": "stdout",
     "output_type": "stream",
     "text": [
      "LOSS:2.30  ACC:0.31\n",
      "LOSS:2.33  ACC:0.25\n",
      "LOSS:2.34  ACC:0.25\n",
      "LOSS:2.09  ACC:0.41\n",
      "LOSS:2.67  ACC:0.25\n",
      "LOSS:2.66  ACC:0.22\n",
      "LOSS:2.67  ACC:0.38\n",
      "LOSS:2.14  ACC:0.34\n",
      "LOSS:2.45  ACC:0.31\n",
      "LOSS:2.00  ACC:0.25\n",
      "LOSS:2.42  ACC:0.31\n",
      "LOSS:1.63  ACC:0.41\n",
      "LOSS:2.32  ACC:0.31\n",
      "LOSS:2.75  ACC:0.22\n",
      "LOSS:2.37  ACC:0.25\n",
      "LOSS:2.67  ACC:0.19\n",
      "LOSS:3.06  ACC:0.09\n",
      "LOSS:2.55  ACC:0.22\n",
      "LOSS:2.45  ACC:0.38\n"
     ]
    },
    {
     "name": "stderr",
     "output_type": "stream",
     "text": [
      " 89%|███████████████████████████████████████████████████████████████████████████████████████████████████████████████████████████████████▌                | 1667/1875 [00:19<00:02, 89.30it/s]"
     ]
    },
    {
     "name": "stdout",
     "output_type": "stream",
     "text": [
      "LOSS:2.53  ACC:0.28\n",
      "LOSS:3.06  ACC:0.19\n",
      "LOSS:2.55  ACC:0.28\n",
      "LOSS:2.45  ACC:0.25\n",
      "LOSS:2.53  ACC:0.25\n",
      "LOSS:2.69  ACC:0.34\n",
      "LOSS:2.31  ACC:0.28\n",
      "LOSS:2.18  ACC:0.44\n",
      "LOSS:2.22  ACC:0.28\n",
      "LOSS:2.26  ACC:0.31\n",
      "LOSS:2.58  ACC:0.28\n",
      "LOSS:2.52  ACC:0.28\n",
      "LOSS:2.37  ACC:0.22\n",
      "LOSS:2.80  ACC:0.28\n",
      "LOSS:2.46  ACC:0.31\n",
      "LOSS:1.76  ACC:0.47\n",
      "LOSS:2.47  ACC:0.22\n",
      "LOSS:2.27  ACC:0.38\n"
     ]
    },
    {
     "name": "stderr",
     "output_type": "stream",
     "text": [
      " 90%|█████████████████████████████████████████████████████████████████████████████████████████████████████████████████████████████████████               | 1685/1875 [00:19<00:02, 87.58it/s]"
     ]
    },
    {
     "name": "stdout",
     "output_type": "stream",
     "text": [
      "LOSS:2.49  ACC:0.31\n",
      "LOSS:2.91  ACC:0.25\n",
      "LOSS:2.57  ACC:0.22\n",
      "LOSS:2.11  ACC:0.41\n",
      "LOSS:2.32  ACC:0.31\n",
      "LOSS:2.73  ACC:0.31\n",
      "LOSS:2.98  ACC:0.16\n",
      "LOSS:2.27  ACC:0.31\n",
      "LOSS:2.24  ACC:0.25\n",
      "LOSS:2.90  ACC:0.22\n",
      "LOSS:2.33  ACC:0.22\n",
      "LOSS:1.83  ACC:0.41\n",
      "LOSS:2.22  ACC:0.25\n",
      "LOSS:2.23  ACC:0.38\n",
      "LOSS:1.90  ACC:0.41\n",
      "LOSS:2.08  ACC:0.38\n",
      "LOSS:2.28  ACC:0.25\n",
      "LOSS:2.35  ACC:0.34\n"
     ]
    },
    {
     "name": "stderr",
     "output_type": "stream",
     "text": [
      " 91%|██████████████████████████████████████████████████████████████████████████████████████████████████████████████████████████████████████▌             | 1704/1875 [00:19<00:01, 88.81it/s]"
     ]
    },
    {
     "name": "stdout",
     "output_type": "stream",
     "text": [
      "LOSS:2.53  ACC:0.34\n",
      "LOSS:2.46  ACC:0.31\n",
      "LOSS:2.71  ACC:0.28\n",
      "LOSS:2.66  ACC:0.28\n",
      "LOSS:2.45  ACC:0.31\n",
      "LOSS:2.96  ACC:0.19\n",
      "LOSS:2.28  ACC:0.28\n",
      "LOSS:2.34  ACC:0.28\n",
      "LOSS:2.29  ACC:0.16\n",
      "LOSS:2.27  ACC:0.38\n",
      "LOSS:2.38  ACC:0.34\n",
      "LOSS:2.17  ACC:0.31\n",
      "LOSS:1.81  ACC:0.31\n",
      "LOSS:2.18  ACC:0.34\n",
      "LOSS:3.15  ACC:0.28\n",
      "LOSS:2.63  ACC:0.16\n",
      "LOSS:1.98  ACC:0.34\n",
      "LOSS:2.44  ACC:0.28\n",
      "LOSS:1.86  ACC:0.50\n"
     ]
    },
    {
     "name": "stderr",
     "output_type": "stream",
     "text": [
      " 92%|███████████████████████████████████████████████████████████████████████████████████████████████████████████████████████████████████████▉            | 1722/1875 [00:19<00:01, 88.01it/s]"
     ]
    },
    {
     "name": "stdout",
     "output_type": "stream",
     "text": [
      "LOSS:2.24  ACC:0.44\n",
      "LOSS:2.72  ACC:0.34\n",
      "LOSS:1.80  ACC:0.50\n",
      "LOSS:2.71  ACC:0.25\n",
      "LOSS:1.92  ACC:0.38\n",
      "LOSS:1.90  ACC:0.38\n",
      "LOSS:2.03  ACC:0.38\n",
      "LOSS:1.91  ACC:0.31\n",
      "LOSS:2.63  ACC:0.25\n",
      "LOSS:2.99  ACC:0.19\n",
      "LOSS:2.48  ACC:0.34\n",
      "LOSS:1.83  ACC:0.44\n",
      "LOSS:2.19  ACC:0.44\n",
      "LOSS:2.35  ACC:0.34\n",
      "LOSS:2.31  ACC:0.31\n",
      "LOSS:2.18  ACC:0.25\n",
      "LOSS:2.34  ACC:0.28\n",
      "LOSS:2.60  ACC:0.16\n"
     ]
    },
    {
     "name": "stderr",
     "output_type": "stream",
     "text": [
      " 93%|█████████████████████████████████████████████████████████████████████████████████████████████████████████████████████████████████████████▎          | 1740/1875 [00:19<00:01, 86.90it/s]"
     ]
    },
    {
     "name": "stdout",
     "output_type": "stream",
     "text": [
      "LOSS:2.61  ACC:0.22\n",
      "LOSS:2.42  ACC:0.25\n",
      "LOSS:2.69  ACC:0.31\n",
      "LOSS:2.44  ACC:0.22\n",
      "LOSS:1.90  ACC:0.31\n",
      "LOSS:2.59  ACC:0.19\n",
      "LOSS:2.04  ACC:0.50\n",
      "LOSS:3.34  ACC:0.16\n",
      "LOSS:2.10  ACC:0.34\n",
      "LOSS:2.41  ACC:0.19\n",
      "LOSS:2.57  ACC:0.22\n",
      "LOSS:2.28  ACC:0.38\n",
      "LOSS:1.78  ACC:0.38\n",
      "LOSS:2.19  ACC:0.31\n",
      "LOSS:2.09  ACC:0.28\n",
      "LOSS:2.19  ACC:0.31\n",
      "LOSS:2.56  ACC:0.31\n",
      "LOSS:2.50  ACC:0.22\n"
     ]
    },
    {
     "name": "stderr",
     "output_type": "stream",
     "text": [
      " 94%|██████████████████████████████████████████████████████████████████████████████████████████████████████████████████████████████████████████▊         | 1758/1875 [00:20<00:01, 85.90it/s]"
     ]
    },
    {
     "name": "stdout",
     "output_type": "stream",
     "text": [
      "LOSS:2.54  ACC:0.38\n",
      "LOSS:2.41  ACC:0.34\n",
      "LOSS:2.38  ACC:0.25\n",
      "LOSS:2.57  ACC:0.28\n",
      "LOSS:2.48  ACC:0.16\n",
      "LOSS:2.58  ACC:0.34\n",
      "LOSS:2.46  ACC:0.22\n",
      "LOSS:2.73  ACC:0.31\n",
      "LOSS:2.94  ACC:0.31\n",
      "LOSS:2.74  ACC:0.22\n",
      "LOSS:2.40  ACC:0.34\n",
      "LOSS:2.38  ACC:0.28\n",
      "LOSS:2.88  ACC:0.22\n",
      "LOSS:2.89  ACC:0.25\n",
      "LOSS:2.60  ACC:0.25\n",
      "LOSS:2.34  ACC:0.34\n",
      "LOSS:2.55  ACC:0.19\n",
      "LOSS:2.07  ACC:0.44\n"
     ]
    },
    {
     "name": "stderr",
     "output_type": "stream",
     "text": [
      " 95%|████████████████████████████████████████████████████████████████████████████████████████████████████████████████████████████████████████████▎       | 1777/1875 [00:20<00:01, 88.18it/s]"
     ]
    },
    {
     "name": "stdout",
     "output_type": "stream",
     "text": [
      "LOSS:2.51  ACC:0.16\n",
      "LOSS:1.92  ACC:0.34\n",
      "LOSS:2.10  ACC:0.38\n",
      "LOSS:3.03  ACC:0.19\n",
      "LOSS:3.07  ACC:0.16\n",
      "LOSS:2.36  ACC:0.28\n",
      "LOSS:2.65  ACC:0.38\n",
      "LOSS:2.55  ACC:0.31\n",
      "LOSS:2.36  ACC:0.34\n",
      "LOSS:2.81  ACC:0.28\n",
      "LOSS:2.35  ACC:0.25\n",
      "LOSS:2.05  ACC:0.28\n",
      "LOSS:2.79  ACC:0.19\n",
      "LOSS:2.20  ACC:0.25\n",
      "LOSS:2.78  ACC:0.09\n",
      "LOSS:2.44  ACC:0.25\n",
      "LOSS:3.31  ACC:0.19\n",
      "LOSS:2.70  ACC:0.28\n",
      "LOSS:2.48  ACC:0.47\n"
     ]
    },
    {
     "name": "stderr",
     "output_type": "stream",
     "text": [
      " 96%|█████████████████████████████████████████████████████████████████████████████████████████████████████████████████████████████████████████████▋      | 1795/1875 [00:20<00:00, 86.91it/s]"
     ]
    },
    {
     "name": "stdout",
     "output_type": "stream",
     "text": [
      "LOSS:2.08  ACC:0.44\n",
      "LOSS:1.94  ACC:0.38\n",
      "LOSS:2.45  ACC:0.34\n",
      "LOSS:2.50  ACC:0.25\n",
      "LOSS:2.20  ACC:0.28\n",
      "LOSS:2.16  ACC:0.22\n",
      "LOSS:2.39  ACC:0.25\n",
      "LOSS:2.43  ACC:0.34\n",
      "LOSS:2.83  ACC:0.28\n",
      "LOSS:2.62  ACC:0.34\n",
      "LOSS:2.27  ACC:0.34\n",
      "LOSS:2.56  ACC:0.19\n",
      "LOSS:1.94  ACC:0.38\n",
      "LOSS:2.27  ACC:0.31\n",
      "LOSS:2.16  ACC:0.31\n",
      "LOSS:2.68  ACC:0.31\n",
      "LOSS:2.64  ACC:0.22\n",
      "LOSS:2.84  ACC:0.06\n"
     ]
    },
    {
     "name": "stderr",
     "output_type": "stream",
     "text": [
      " 97%|███████████████████████████████████████████████████████████████████████████████████████████████████████████████████████████████████████████████     | 1813/1875 [00:20<00:00, 86.30it/s]"
     ]
    },
    {
     "name": "stdout",
     "output_type": "stream",
     "text": [
      "LOSS:2.28  ACC:0.25\n",
      "LOSS:2.54  ACC:0.25\n",
      "LOSS:2.63  ACC:0.22\n",
      "LOSS:1.96  ACC:0.41\n",
      "LOSS:2.57  ACC:0.16\n",
      "LOSS:2.50  ACC:0.12\n",
      "LOSS:2.50  ACC:0.28\n",
      "LOSS:2.25  ACC:0.34\n",
      "LOSS:2.97  ACC:0.25\n",
      "LOSS:2.81  ACC:0.28\n",
      "LOSS:2.53  ACC:0.16\n",
      "LOSS:2.49  ACC:0.28\n",
      "LOSS:2.54  ACC:0.28\n",
      "LOSS:1.93  ACC:0.47\n",
      "LOSS:3.02  ACC:0.22\n",
      "LOSS:2.32  ACC:0.19\n",
      "LOSS:2.15  ACC:0.31\n",
      "LOSS:2.13  ACC:0.25\n"
     ]
    },
    {
     "name": "stderr",
     "output_type": "stream",
     "text": [
      " 98%|████████████████████████████████████████████████████████████████████████████████████████████████████████████████████████████████████████████████▌   | 1832/1875 [00:21<00:00, 87.24it/s]"
     ]
    },
    {
     "name": "stdout",
     "output_type": "stream",
     "text": [
      "LOSS:1.89  ACC:0.38\n",
      "LOSS:2.35  ACC:0.34\n",
      "LOSS:2.27  ACC:0.34\n",
      "LOSS:2.88  ACC:0.25\n",
      "LOSS:2.59  ACC:0.19\n",
      "LOSS:2.32  ACC:0.16\n",
      "LOSS:2.43  ACC:0.19\n",
      "LOSS:1.87  ACC:0.38\n",
      "LOSS:1.98  ACC:0.44\n",
      "LOSS:2.67  ACC:0.31\n",
      "LOSS:2.08  ACC:0.41\n",
      "LOSS:2.15  ACC:0.34\n",
      "LOSS:2.08  ACC:0.28\n",
      "LOSS:2.10  ACC:0.44\n",
      "LOSS:2.28  ACC:0.41\n",
      "LOSS:1.84  ACC:0.28\n",
      "LOSS:2.48  ACC:0.16\n",
      "LOSS:1.76  ACC:0.38\n"
     ]
    },
    {
     "name": "stderr",
     "output_type": "stream",
     "text": [
      " 99%|██████████████████████████████████████████████████████████████████████████████████████████████████████████████████████████████████████████████████  | 1850/1875 [00:21<00:00, 86.74it/s]"
     ]
    },
    {
     "name": "stdout",
     "output_type": "stream",
     "text": [
      "LOSS:1.79  ACC:0.44\n",
      "LOSS:2.21  ACC:0.34\n",
      "LOSS:1.62  ACC:0.44\n",
      "LOSS:1.93  ACC:0.31\n",
      "LOSS:2.66  ACC:0.22\n",
      "LOSS:2.35  ACC:0.38\n",
      "LOSS:2.36  ACC:0.38\n",
      "LOSS:1.95  ACC:0.41\n",
      "LOSS:1.87  ACC:0.44\n",
      "LOSS:1.78  ACC:0.28\n",
      "LOSS:2.32  ACC:0.28\n",
      "LOSS:1.86  ACC:0.38\n",
      "LOSS:1.88  ACC:0.28\n",
      "LOSS:2.15  ACC:0.31\n",
      "LOSS:1.68  ACC:0.47\n",
      "LOSS:1.46  ACC:0.59\n",
      "LOSS:2.03  ACC:0.34\n",
      "LOSS:1.60  ACC:0.50\n"
     ]
    },
    {
     "name": "stderr",
     "output_type": "stream",
     "text": [
      "100%|███████████████████████████████████████████████████████████████████████████████████████████████████████████████████████████████████████████████████▍| 1868/1875 [00:21<00:00, 87.47it/s]"
     ]
    },
    {
     "name": "stdout",
     "output_type": "stream",
     "text": [
      "LOSS:2.15  ACC:0.41\n",
      "LOSS:2.22  ACC:0.25\n",
      "LOSS:1.90  ACC:0.44\n",
      "LOSS:2.67  ACC:0.28\n",
      "LOSS:2.79  ACC:0.22\n",
      "LOSS:2.93  ACC:0.25\n",
      "LOSS:2.48  ACC:0.31\n",
      "LOSS:1.98  ACC:0.44\n",
      "LOSS:1.87  ACC:0.38\n",
      "LOSS:2.06  ACC:0.25\n",
      "LOSS:2.03  ACC:0.38\n",
      "LOSS:2.44  ACC:0.34\n",
      "LOSS:2.76  ACC:0.31\n",
      "LOSS:2.13  ACC:0.34\n",
      "LOSS:2.14  ACC:0.19\n",
      "LOSS:2.44  ACC:0.16\n",
      "LOSS:1.95  ACC:0.41\n",
      "LOSS:2.01  ACC:0.22\n"
     ]
    },
    {
     "name": "stderr",
     "output_type": "stream",
     "text": [
      "100%|████████████████████████████████████████████████████████████████████████████████████████████████████████████████████████████████████████████████████| 1875/1875 [00:21<00:00, 87.03it/s]\n"
     ]
    },
    {
     "name": "stdout",
     "output_type": "stream",
     "text": [
      "LOSS:1.64  ACC:0.41\n",
      "LOSS:1.95  ACC:0.25\n",
      "LOSS:2.44  ACC:0.22\n",
      "LOSS:2.28  ACC:0.19\n",
      "LOSS:2.42  ACC:0.19\n"
     ]
    },
    {
     "name": "stderr",
     "output_type": "stream",
     "text": [
      " 10%|██████████████▍                                                                                                                                       | 30/312 [00:00<00:00, 294.43it/s]"
     ]
    },
    {
     "name": "stdout",
     "output_type": "stream",
     "text": [
      "TEST_LOSS:2.17  TEST_ACC:0.31\n",
      "TEST_LOSS:2.57  TEST_ACC:0.29\n"
     ]
    },
    {
     "name": "stderr",
     "output_type": "stream",
     "text": [
      " 39%|██████████████████████████████████████████████████████████▋                                                                                          | 123/312 [00:00<00:00, 305.27it/s]"
     ]
    },
    {
     "name": "stdout",
     "output_type": "stream",
     "text": [
      "TEST_LOSS:2.58  TEST_ACC:0.29\n",
      "TEST_LOSS:2.55  TEST_ACC:0.28\n"
     ]
    },
    {
     "name": "stderr",
     "output_type": "stream",
     "text": [
      "\r",
      " 49%|█████████████████████████████████████████████████████████████████████████▌                                                                           | 154/312 [00:00<00:00, 304.74it/s]"
     ]
    },
    {
     "name": "stdout",
     "output_type": "stream",
     "text": [
      "TEST_LOSS:2.56  TEST_ACC:0.28\n",
      "TEST_LOSS:2.56  TEST_ACC:0.27\n"
     ]
    },
    {
     "name": "stderr",
     "output_type": "stream",
     "text": [
      " 77%|███████████████████████████████████████████████████████████████████████████████████████████████████████████████████                                  | 241/312 [00:00<00:00, 261.71it/s]"
     ]
    },
    {
     "name": "stdout",
     "output_type": "stream",
     "text": [
      "TEST_LOSS:2.49  TEST_ACC:0.30\n",
      "TEST_LOSS:2.25  TEST_ACC:0.30\n"
     ]
    },
    {
     "name": "stderr",
     "output_type": "stream",
     "text": [
      " 95%|████████████████████████████████████████████████████████████████████████████████████████████████████████████████████████████████████████████▉        | 295/312 [00:01<00:00, 256.19it/s]"
     ]
    },
    {
     "name": "stdout",
     "output_type": "stream",
     "text": [
      "TEST_LOSS:2.35  TEST_ACC:0.28\n",
      "TEST_LOSS:2.44  TEST_ACC:0.26\n"
     ]
    },
    {
     "name": "stderr",
     "output_type": "stream",
     "text": [
      "100%|█████████████████████████████████████████████████████████████████████████████████████████████████████████████████████████████████████████████████████| 312/312 [00:01<00:00, 272.81it/s]\n",
      "  1%|█                                                                                                                                                     | 14/1875 [00:00<00:27, 66.68it/s]"
     ]
    },
    {
     "name": "stdout",
     "output_type": "stream",
     "text": [
      "LOSS:2.36  ACC:0.22\n",
      "LOSS:1.99  ACC:0.34\n",
      "LOSS:2.06  ACC:0.31\n",
      "LOSS:1.97  ACC:0.38\n",
      "LOSS:2.24  ACC:0.38\n",
      "LOSS:2.40  ACC:0.22\n",
      "LOSS:1.69  ACC:0.47\n",
      "LOSS:2.38  ACC:0.38\n",
      "LOSS:1.92  ACC:0.47\n",
      "LOSS:1.81  ACC:0.41\n",
      "LOSS:1.91  ACC:0.41\n",
      "LOSS:2.02  ACC:0.41\n",
      "LOSS:2.11  ACC:0.31\n",
      "LOSS:2.11  ACC:0.22\n"
     ]
    },
    {
     "name": "stderr",
     "output_type": "stream",
     "text": [
      "\r",
      "  1%|█▊                                                                                                                                                    | 22/1875 [00:00<00:27, 67.44it/s]"
     ]
    },
    {
     "name": "stdout",
     "output_type": "stream",
     "text": [
      "LOSS:1.82  ACC:0.34\n",
      "LOSS:2.42  ACC:0.38\n",
      "LOSS:2.39  ACC:0.34\n",
      "LOSS:2.09  ACC:0.34\n",
      "LOSS:2.24  ACC:0.31\n",
      "LOSS:2.56  ACC:0.25\n",
      "LOSS:2.52  ACC:0.16\n",
      "LOSS:2.20  ACC:0.47\n",
      "LOSS:2.82  ACC:0.19\n",
      "LOSS:2.82  ACC:0.28\n",
      "LOSS:2.21  ACC:0.28\n",
      "LOSS:2.10  ACC:0.22\n",
      "LOSS:2.31  ACC:0.31\n",
      "LOSS:2.28  ACC:0.25\n"
     ]
    },
    {
     "name": "stderr",
     "output_type": "stream",
     "text": [
      "  2%|██▉                                                                                                                                                   | 37/1875 [00:00<00:26, 68.84it/s]"
     ]
    },
    {
     "name": "stdout",
     "output_type": "stream",
     "text": [
      "LOSS:2.97  ACC:0.19\n",
      "LOSS:2.54  ACC:0.22\n",
      "LOSS:2.62  ACC:0.19\n",
      "LOSS:2.32  ACC:0.34\n",
      "LOSS:2.47  ACC:0.34\n",
      "LOSS:2.00  ACC:0.34\n",
      "LOSS:2.43  ACC:0.28\n",
      "LOSS:2.62  ACC:0.25\n",
      "LOSS:2.30  ACC:0.28\n",
      "LOSS:2.63  ACC:0.22\n",
      "LOSS:2.34  ACC:0.28\n",
      "LOSS:3.17  ACC:0.06\n",
      "LOSS:2.98  ACC:0.12\n",
      "LOSS:2.74  ACC:0.22\n",
      "LOSS:2.89  ACC:0.19\n",
      "LOSS:2.84  ACC:0.19\n"
     ]
    },
    {
     "name": "stderr",
     "output_type": "stream",
     "text": [
      "  3%|████▏                                                                                                                                                 | 52/1875 [00:00<00:26, 68.81it/s]"
     ]
    },
    {
     "name": "stdout",
     "output_type": "stream",
     "text": [
      "LOSS:2.40  ACC:0.28\n",
      "LOSS:2.13  ACC:0.31\n",
      "LOSS:2.26  ACC:0.28\n",
      "LOSS:2.51  ACC:0.34\n",
      "LOSS:3.00  ACC:0.12\n",
      "LOSS:2.39  ACC:0.31\n",
      "LOSS:2.33  ACC:0.38\n",
      "LOSS:2.14  ACC:0.28\n",
      "LOSS:1.76  ACC:0.47\n",
      "LOSS:1.93  ACC:0.38\n",
      "LOSS:2.39  ACC:0.19\n",
      "LOSS:2.69  ACC:0.19\n",
      "LOSS:1.82  ACC:0.41\n",
      "LOSS:2.31  ACC:0.31\n"
     ]
    },
    {
     "name": "stderr",
     "output_type": "stream",
     "text": [
      "  4%|█████▌                                                                                                                                                | 69/1875 [00:00<00:23, 76.78it/s]"
     ]
    },
    {
     "name": "stdout",
     "output_type": "stream",
     "text": [
      "LOSS:1.74  ACC:0.50\n",
      "LOSS:2.16  ACC:0.25\n",
      "LOSS:2.31  ACC:0.31\n",
      "LOSS:2.39  ACC:0.28\n",
      "LOSS:2.54  ACC:0.25\n",
      "LOSS:2.45  ACC:0.16\n",
      "LOSS:2.38  ACC:0.25\n",
      "LOSS:1.56  ACC:0.47\n",
      "LOSS:2.36  ACC:0.38\n",
      "LOSS:2.78  ACC:0.22\n",
      "LOSS:2.47  ACC:0.25\n",
      "LOSS:2.17  ACC:0.34\n",
      "LOSS:2.93  ACC:0.19\n",
      "LOSS:2.29  ACC:0.47\n",
      "LOSS:2.36  ACC:0.25\n",
      "LOSS:1.92  ACC:0.28\n",
      "LOSS:2.23  ACC:0.38\n",
      "LOSS:2.12  ACC:0.31\n",
      "LOSS:1.77  ACC:0.34\n"
     ]
    },
    {
     "name": "stderr",
     "output_type": "stream",
     "text": [
      "  5%|███████                                                                                                                                               | 89/1875 [00:01<00:20, 85.23it/s]"
     ]
    },
    {
     "name": "stdout",
     "output_type": "stream",
     "text": [
      "LOSS:2.39  ACC:0.34\n",
      "LOSS:2.15  ACC:0.38\n",
      "LOSS:2.28  ACC:0.31\n",
      "LOSS:2.47  ACC:0.31\n",
      "LOSS:2.80  ACC:0.28\n",
      "LOSS:2.03  ACC:0.38\n",
      "LOSS:3.46  ACC:0.06\n",
      "LOSS:2.04  ACC:0.28\n",
      "LOSS:2.44  ACC:0.38\n",
      "LOSS:2.44  ACC:0.31\n",
      "LOSS:2.56  ACC:0.31\n",
      "LOSS:2.44  ACC:0.22\n",
      "LOSS:2.21  ACC:0.31\n",
      "LOSS:2.26  ACC:0.31\n",
      "LOSS:2.76  ACC:0.31\n",
      "LOSS:2.43  ACC:0.31\n",
      "LOSS:2.23  ACC:0.34\n",
      "LOSS:2.42  ACC:0.31\n",
      "LOSS:2.83  ACC:0.16\n"
     ]
    },
    {
     "name": "stderr",
     "output_type": "stream",
     "text": [
      "  6%|████████▌                                                                                                                                            | 107/1875 [00:01<00:20, 86.99it/s]"
     ]
    },
    {
     "name": "stdout",
     "output_type": "stream",
     "text": [
      "LOSS:2.36  ACC:0.16\n",
      "LOSS:2.01  ACC:0.31\n",
      "LOSS:2.40  ACC:0.31\n",
      "LOSS:2.31  ACC:0.25\n",
      "LOSS:2.32  ACC:0.28\n",
      "LOSS:2.01  ACC:0.22\n",
      "LOSS:2.69  ACC:0.16\n",
      "LOSS:2.21  ACC:0.31\n",
      "LOSS:2.66  ACC:0.25\n",
      "LOSS:2.15  ACC:0.31\n",
      "LOSS:2.06  ACC:0.38\n",
      "LOSS:2.46  ACC:0.16\n",
      "LOSS:1.98  ACC:0.41\n",
      "LOSS:3.17  ACC:0.19\n",
      "LOSS:2.51  ACC:0.38\n",
      "LOSS:2.31  ACC:0.38\n",
      "LOSS:2.10  ACC:0.44\n",
      "LOSS:2.40  ACC:0.25\n",
      "LOSS:2.44  ACC:0.34\n"
     ]
    },
    {
     "name": "stderr",
     "output_type": "stream",
     "text": [
      "  7%|██████████                                                                                                                                           | 127/1875 [00:01<00:19, 90.03it/s]"
     ]
    },
    {
     "name": "stdout",
     "output_type": "stream",
     "text": [
      "LOSS:2.91  ACC:0.19\n",
      "LOSS:2.11  ACC:0.38\n",
      "LOSS:2.81  ACC:0.31\n",
      "LOSS:2.64  ACC:0.31\n",
      "LOSS:2.67  ACC:0.31\n",
      "LOSS:2.85  ACC:0.25\n",
      "LOSS:2.23  ACC:0.34\n",
      "LOSS:2.66  ACC:0.19\n",
      "LOSS:2.92  ACC:0.31\n",
      "LOSS:2.77  ACC:0.25\n",
      "LOSS:2.10  ACC:0.38\n",
      "LOSS:2.90  ACC:0.12\n",
      "LOSS:2.38  ACC:0.38\n",
      "LOSS:2.46  ACC:0.28\n",
      "LOSS:1.99  ACC:0.41\n",
      "LOSS:2.10  ACC:0.31\n",
      "LOSS:1.85  ACC:0.31\n",
      "LOSS:2.71  ACC:0.25\n"
     ]
    },
    {
     "name": "stderr",
     "output_type": "stream",
     "text": [
      "  8%|███████████▌                                                                                                                                         | 145/1875 [00:01<00:21, 80.89it/s]"
     ]
    },
    {
     "name": "stdout",
     "output_type": "stream",
     "text": [
      "LOSS:2.47  ACC:0.09\n",
      "LOSS:2.08  ACC:0.47\n",
      "LOSS:2.19  ACC:0.25\n",
      "LOSS:3.00  ACC:0.19\n",
      "LOSS:1.85  ACC:0.38\n",
      "LOSS:2.48  ACC:0.34\n",
      "LOSS:2.93  ACC:0.12\n",
      "LOSS:2.36  ACC:0.31\n",
      "LOSS:2.58  ACC:0.28\n",
      "LOSS:2.15  ACC:0.34\n",
      "LOSS:2.80  ACC:0.28\n",
      "LOSS:2.51  ACC:0.34\n",
      "LOSS:2.86  ACC:0.25\n",
      "LOSS:2.71  ACC:0.28\n",
      "LOSS:2.76  ACC:0.22\n"
     ]
    },
    {
     "name": "stderr",
     "output_type": "stream",
     "text": [
      "  9%|████████████▊                                                                                                                                        | 162/1875 [00:02<00:21, 78.52it/s]"
     ]
    },
    {
     "name": "stdout",
     "output_type": "stream",
     "text": [
      "LOSS:2.52  ACC:0.38\n",
      "LOSS:2.25  ACC:0.25\n",
      "LOSS:2.59  ACC:0.25\n",
      "LOSS:3.62  ACC:0.22\n",
      "LOSS:2.40  ACC:0.22\n",
      "LOSS:2.30  ACC:0.31\n",
      "LOSS:2.09  ACC:0.44\n",
      "LOSS:2.08  ACC:0.34\n",
      "LOSS:1.96  ACC:0.34\n",
      "LOSS:2.34  ACC:0.28\n",
      "LOSS:2.51  ACC:0.25\n",
      "LOSS:2.30  ACC:0.22\n",
      "LOSS:2.37  ACC:0.31\n",
      "LOSS:2.97  ACC:0.16\n",
      "LOSS:2.30  ACC:0.28\n",
      "LOSS:2.22  ACC:0.22\n"
     ]
    },
    {
     "name": "stderr",
     "output_type": "stream",
     "text": [
      " 10%|██████████████▎                                                                                                                                      | 180/1875 [00:02<00:21, 79.27it/s]"
     ]
    },
    {
     "name": "stdout",
     "output_type": "stream",
     "text": [
      "LOSS:2.40  ACC:0.28\n",
      "LOSS:2.45  ACC:0.31\n",
      "LOSS:2.68  ACC:0.22\n",
      "LOSS:2.70  ACC:0.12\n",
      "LOSS:2.79  ACC:0.12\n",
      "LOSS:2.30  ACC:0.38\n",
      "LOSS:2.50  ACC:0.28\n",
      "LOSS:1.60  ACC:0.44\n",
      "LOSS:2.10  ACC:0.34\n",
      "LOSS:2.63  ACC:0.28\n",
      "LOSS:2.14  ACC:0.34\n",
      "LOSS:2.73  ACC:0.22\n",
      "LOSS:2.07  ACC:0.28\n",
      "LOSS:2.74  ACC:0.22\n",
      "LOSS:2.32  ACC:0.38\n",
      "LOSS:2.38  ACC:0.31\n",
      "LOSS:2.25  ACC:0.28\n"
     ]
    },
    {
     "name": "stderr",
     "output_type": "stream",
     "text": [
      " 11%|███████████████▉                                                                                                                                     | 200/1875 [00:02<00:19, 86.70it/s]"
     ]
    },
    {
     "name": "stdout",
     "output_type": "stream",
     "text": [
      "LOSS:2.20  ACC:0.22\n",
      "LOSS:1.99  ACC:0.41\n",
      "LOSS:2.22  ACC:0.25\n",
      "LOSS:2.22  ACC:0.34\n",
      "LOSS:2.08  ACC:0.41\n",
      "LOSS:2.61  ACC:0.28\n",
      "LOSS:2.73  ACC:0.16\n",
      "LOSS:2.84  ACC:0.25\n",
      "LOSS:2.00  ACC:0.41\n",
      "LOSS:2.20  ACC:0.31\n",
      "LOSS:2.46  ACC:0.34\n",
      "LOSS:2.80  ACC:0.19\n",
      "LOSS:2.43  ACC:0.34\n",
      "LOSS:2.36  ACC:0.38\n",
      "LOSS:2.52  ACC:0.28\n",
      "LOSS:2.26  ACC:0.31\n",
      "LOSS:2.10  ACC:0.34\n",
      "LOSS:2.28  ACC:0.22\n",
      "LOSS:1.90  ACC:0.47\n"
     ]
    },
    {
     "name": "stderr",
     "output_type": "stream",
     "text": [
      "\r",
      " 11%|████████████████▋                                                                                                                                    | 210/1875 [00:02<00:18, 88.80it/s]"
     ]
    },
    {
     "name": "stdout",
     "output_type": "stream",
     "text": [
      "LOSS:2.52  ACC:0.28\n",
      "LOSS:2.44  ACC:0.28\n",
      "LOSS:2.62  ACC:0.16\n",
      "LOSS:2.35  ACC:0.38\n",
      "LOSS:1.88  ACC:0.38\n",
      "LOSS:2.54  ACC:0.31\n",
      "LOSS:1.90  ACC:0.41\n",
      "LOSS:2.12  ACC:0.31\n",
      "LOSS:2.09  ACC:0.41\n",
      "LOSS:1.95  ACC:0.41\n",
      "LOSS:2.09  ACC:0.38\n",
      "LOSS:2.37  ACC:0.31\n",
      "LOSS:2.69  ACC:0.22\n",
      "LOSS:2.59  ACC:0.19\n",
      "LOSS:2.38  ACC:0.34\n",
      "LOSS:2.84  ACC:0.16\n",
      "LOSS:2.47  ACC:0.31\n",
      "LOSS:1.86  ACC:0.38\n",
      "LOSS:1.86  ACC:0.53\n"
     ]
    },
    {
     "name": "stderr",
     "output_type": "stream",
     "text": [
      " 12%|██████████████████▎                                                                                                                                  | 230/1875 [00:02<00:18, 89.24it/s]"
     ]
    },
    {
     "name": "stdout",
     "output_type": "stream",
     "text": [
      "LOSS:1.89  ACC:0.38\n",
      "LOSS:2.02  ACC:0.41\n",
      "LOSS:2.38  ACC:0.28\n",
      "LOSS:2.38  ACC:0.41\n",
      "LOSS:2.29  ACC:0.38\n",
      "LOSS:2.27  ACC:0.19\n",
      "LOSS:2.21  ACC:0.16\n",
      "LOSS:2.41  ACC:0.28\n",
      "LOSS:2.37  ACC:0.22\n",
      "LOSS:2.46  ACC:0.34\n",
      "LOSS:2.24  ACC:0.22\n",
      "LOSS:2.37  ACC:0.28\n",
      "LOSS:2.11  ACC:0.28\n",
      "LOSS:2.48  ACC:0.25\n",
      "LOSS:2.64  ACC:0.25\n",
      "LOSS:2.83  ACC:0.25\n",
      "LOSS:2.58  ACC:0.25\n",
      "LOSS:2.15  ACC:0.34\n",
      "LOSS:2.72  ACC:0.12\n"
     ]
    },
    {
     "name": "stderr",
     "output_type": "stream",
     "text": [
      " 13%|███████████████████▊                                                                                                                                 | 250/1875 [00:03<00:17, 91.40it/s]"
     ]
    },
    {
     "name": "stdout",
     "output_type": "stream",
     "text": [
      "LOSS:2.22  ACC:0.31\n",
      "LOSS:2.72  ACC:0.22\n",
      "LOSS:2.58  ACC:0.19\n",
      "LOSS:2.49  ACC:0.31\n",
      "LOSS:2.63  ACC:0.25\n",
      "LOSS:2.38  ACC:0.19\n",
      "LOSS:2.34  ACC:0.22\n",
      "LOSS:3.15  ACC:0.12\n",
      "LOSS:2.57  ACC:0.31\n",
      "LOSS:2.08  ACC:0.38\n",
      "LOSS:2.31  ACC:0.25\n",
      "LOSS:2.67  ACC:0.34\n",
      "LOSS:2.44  ACC:0.34\n",
      "LOSS:2.19  ACC:0.19\n",
      "LOSS:1.71  ACC:0.38\n",
      "LOSS:2.09  ACC:0.53\n",
      "LOSS:2.44  ACC:0.41\n",
      "LOSS:1.99  ACC:0.38\n",
      "LOSS:2.87  ACC:0.16\n"
     ]
    },
    {
     "name": "stderr",
     "output_type": "stream",
     "text": [
      " 14%|█████████████████████▍                                                                                                                               | 270/1875 [00:03<00:17, 92.35it/s]"
     ]
    },
    {
     "name": "stdout",
     "output_type": "stream",
     "text": [
      "LOSS:2.27  ACC:0.34\n",
      "LOSS:2.46  ACC:0.22\n",
      "LOSS:2.45  ACC:0.31\n",
      "LOSS:2.49  ACC:0.22\n",
      "LOSS:1.89  ACC:0.34\n",
      "LOSS:2.41  ACC:0.28\n",
      "LOSS:2.43  ACC:0.25\n",
      "LOSS:2.57  ACC:0.28\n",
      "LOSS:2.89  ACC:0.22\n",
      "LOSS:2.20  ACC:0.38\n",
      "LOSS:2.15  ACC:0.25\n",
      "LOSS:2.35  ACC:0.22\n",
      "LOSS:2.43  ACC:0.19\n",
      "LOSS:2.66  ACC:0.25\n",
      "LOSS:2.70  ACC:0.34\n",
      "LOSS:2.41  ACC:0.25\n",
      "LOSS:2.41  ACC:0.25\n",
      "LOSS:2.34  ACC:0.31\n",
      "LOSS:2.13  ACC:0.25\n"
     ]
    },
    {
     "name": "stderr",
     "output_type": "stream",
     "text": [
      " 15%|███████████████████████                                                                                                                              | 290/1875 [00:03<00:16, 93.63it/s]"
     ]
    },
    {
     "name": "stdout",
     "output_type": "stream",
     "text": [
      "LOSS:2.13  ACC:0.19\n",
      "LOSS:2.71  ACC:0.03\n",
      "LOSS:2.31  ACC:0.34\n",
      "LOSS:3.03  ACC:0.16\n",
      "LOSS:2.28  ACC:0.31\n",
      "LOSS:2.40  ACC:0.41\n",
      "LOSS:2.19  ACC:0.38\n",
      "LOSS:2.92  ACC:0.25\n",
      "LOSS:2.39  ACC:0.28\n",
      "LOSS:2.12  ACC:0.41\n",
      "LOSS:2.50  ACC:0.34\n",
      "LOSS:2.48  ACC:0.25\n",
      "LOSS:2.12  ACC:0.41\n",
      "LOSS:2.03  ACC:0.47\n",
      "LOSS:2.57  ACC:0.28\n",
      "LOSS:2.70  ACC:0.22\n",
      "LOSS:2.70  ACC:0.22\n",
      "LOSS:2.55  ACC:0.28\n",
      "LOSS:2.44  ACC:0.34\n"
     ]
    },
    {
     "name": "stderr",
     "output_type": "stream",
     "text": [
      " 17%|████████████████████████▋                                                                                                                            | 310/1875 [00:03<00:17, 90.46it/s]"
     ]
    },
    {
     "name": "stdout",
     "output_type": "stream",
     "text": [
      "LOSS:1.88  ACC:0.38\n",
      "LOSS:2.24  ACC:0.34\n",
      "LOSS:2.59  ACC:0.28\n",
      "LOSS:2.22  ACC:0.31\n",
      "LOSS:2.49  ACC:0.25\n",
      "LOSS:2.48  ACC:0.19\n",
      "LOSS:2.36  ACC:0.34\n",
      "LOSS:2.56  ACC:0.38\n",
      "LOSS:2.33  ACC:0.31\n",
      "LOSS:2.17  ACC:0.41\n",
      "LOSS:2.60  ACC:0.34\n",
      "LOSS:2.02  ACC:0.50\n",
      "LOSS:2.19  ACC:0.22\n",
      "LOSS:2.46  ACC:0.19\n",
      "LOSS:1.93  ACC:0.41\n",
      "LOSS:1.96  ACC:0.34\n",
      "LOSS:2.56  ACC:0.25\n",
      "LOSS:2.57  ACC:0.31\n"
     ]
    },
    {
     "name": "stderr",
     "output_type": "stream",
     "text": [
      " 18%|██████████████████████████▏                                                                                                                          | 330/1875 [00:03<00:17, 88.58it/s]"
     ]
    },
    {
     "name": "stdout",
     "output_type": "stream",
     "text": [
      "LOSS:2.95  ACC:0.28\n",
      "LOSS:2.46  ACC:0.28\n",
      "LOSS:2.21  ACC:0.25\n",
      "LOSS:1.99  ACC:0.16\n",
      "LOSS:2.17  ACC:0.22\n",
      "LOSS:2.20  ACC:0.31\n",
      "LOSS:2.87  ACC:0.19\n",
      "LOSS:2.71  ACC:0.25\n",
      "LOSS:3.10  ACC:0.19\n",
      "LOSS:2.66  ACC:0.25\n",
      "LOSS:1.97  ACC:0.47\n",
      "LOSS:2.82  ACC:0.22\n",
      "LOSS:2.83  ACC:0.19\n",
      "LOSS:2.30  ACC:0.31\n",
      "LOSS:2.84  ACC:0.19\n",
      "LOSS:2.86  ACC:0.25\n",
      "LOSS:2.48  ACC:0.25\n",
      "LOSS:2.63  ACC:0.12\n"
     ]
    },
    {
     "name": "stderr",
     "output_type": "stream",
     "text": [
      " 19%|███████████████████████████▋                                                                                                                         | 349/1875 [00:04<00:17, 89.45it/s]"
     ]
    },
    {
     "name": "stdout",
     "output_type": "stream",
     "text": [
      "LOSS:2.28  ACC:0.22\n",
      "LOSS:2.74  ACC:0.22\n",
      "LOSS:2.18  ACC:0.47\n",
      "LOSS:2.35  ACC:0.25\n",
      "LOSS:2.68  ACC:0.31\n",
      "LOSS:2.17  ACC:0.38\n",
      "LOSS:2.31  ACC:0.28\n",
      "LOSS:1.78  ACC:0.50\n",
      "LOSS:2.29  ACC:0.38\n",
      "LOSS:1.90  ACC:0.44\n",
      "LOSS:2.01  ACC:0.47\n",
      "LOSS:2.59  ACC:0.22\n",
      "LOSS:2.05  ACC:0.34\n",
      "LOSS:1.88  ACC:0.44\n",
      "LOSS:2.07  ACC:0.34\n",
      "LOSS:2.48  ACC:0.34\n",
      "LOSS:2.47  ACC:0.28\n",
      "LOSS:2.66  ACC:0.25\n",
      "LOSS:2.35  ACC:0.31\n"
     ]
    },
    {
     "name": "stderr",
     "output_type": "stream",
     "text": [
      " 20%|█████████████████████████████▏                                                                                                                       | 368/1875 [00:04<00:16, 90.36it/s]"
     ]
    },
    {
     "name": "stdout",
     "output_type": "stream",
     "text": [
      "LOSS:1.75  ACC:0.53\n",
      "LOSS:2.00  ACC:0.47\n",
      "LOSS:2.15  ACC:0.44\n",
      "LOSS:2.14  ACC:0.34\n",
      "LOSS:2.48  ACC:0.28\n",
      "LOSS:2.66  ACC:0.25\n",
      "LOSS:2.20  ACC:0.31\n",
      "LOSS:2.47  ACC:0.31\n",
      "LOSS:2.30  ACC:0.19\n",
      "LOSS:1.97  ACC:0.38\n",
      "LOSS:2.12  ACC:0.34\n",
      "LOSS:1.81  ACC:0.34\n",
      "LOSS:2.07  ACC:0.38\n",
      "LOSS:2.51  ACC:0.28\n",
      "LOSS:2.21  ACC:0.44\n",
      "LOSS:2.96  ACC:0.12\n",
      "LOSS:2.32  ACC:0.31\n",
      "LOSS:2.09  ACC:0.28\n",
      "LOSS:2.34  ACC:0.22\n"
     ]
    },
    {
     "name": "stderr",
     "output_type": "stream",
     "text": [
      " 21%|██████████████████████████████▊                                                                                                                      | 388/1875 [00:04<00:16, 90.66it/s]"
     ]
    },
    {
     "name": "stdout",
     "output_type": "stream",
     "text": [
      "LOSS:2.13  ACC:0.31\n",
      "LOSS:2.32  ACC:0.31\n",
      "LOSS:2.31  ACC:0.31\n",
      "LOSS:2.83  ACC:0.25\n",
      "LOSS:2.10  ACC:0.34\n",
      "LOSS:2.76  ACC:0.19\n",
      "LOSS:2.70  ACC:0.25\n",
      "LOSS:2.07  ACC:0.47\n",
      "LOSS:2.49  ACC:0.34\n",
      "LOSS:2.43  ACC:0.28\n",
      "LOSS:1.88  ACC:0.44\n",
      "LOSS:2.22  ACC:0.31\n",
      "LOSS:2.58  ACC:0.31\n",
      "LOSS:2.15  ACC:0.22\n",
      "LOSS:2.61  ACC:0.25\n",
      "LOSS:2.47  ACC:0.16\n",
      "LOSS:2.49  ACC:0.22\n",
      "LOSS:2.56  ACC:0.19\n",
      "LOSS:2.44  ACC:0.22\n"
     ]
    },
    {
     "name": "stderr",
     "output_type": "stream",
     "text": [
      "\r",
      " 21%|███████████████████████████████▋                                                                                                                     | 398/1875 [00:04<00:17, 86.54it/s]"
     ]
    },
    {
     "name": "stdout",
     "output_type": "stream",
     "text": [
      "LOSS:2.58  ACC:0.16\n",
      "LOSS:2.76  ACC:0.16\n",
      "LOSS:2.43  ACC:0.41\n",
      "LOSS:2.84  ACC:0.16\n",
      "LOSS:2.07  ACC:0.34\n",
      "LOSS:2.54  ACC:0.28\n",
      "LOSS:2.74  ACC:0.12\n",
      "LOSS:2.21  ACC:0.31\n",
      "LOSS:2.89  ACC:0.25\n",
      "LOSS:2.52  ACC:0.41\n",
      "LOSS:1.71  ACC:0.44\n",
      "LOSS:2.46  ACC:0.28\n",
      "LOSS:2.37  ACC:0.34\n",
      "LOSS:2.06  ACC:0.31\n",
      "LOSS:2.68  ACC:0.28\n",
      "LOSS:2.61  ACC:0.22\n",
      "LOSS:2.71  ACC:0.19\n"
     ]
    },
    {
     "name": "stderr",
     "output_type": "stream",
     "text": [
      " 22%|█████████████████████████████████                                                                                                                    | 416/1875 [00:04<00:17, 84.06it/s]"
     ]
    },
    {
     "name": "stdout",
     "output_type": "stream",
     "text": [
      "LOSS:2.62  ACC:0.16\n",
      "LOSS:2.94  ACC:0.19\n",
      "LOSS:2.86  ACC:0.16\n",
      "LOSS:3.33  ACC:0.09\n",
      "LOSS:2.69  ACC:0.25\n",
      "LOSS:2.56  ACC:0.31\n",
      "LOSS:2.88  ACC:0.19\n",
      "LOSS:2.43  ACC:0.22\n",
      "LOSS:2.22  ACC:0.34\n",
      "LOSS:2.21  ACC:0.34\n",
      "LOSS:2.65  ACC:0.19\n",
      "LOSS:3.13  ACC:0.09\n",
      "LOSS:2.76  ACC:0.19\n",
      "LOSS:2.42  ACC:0.28\n",
      "LOSS:2.47  ACC:0.31\n",
      "LOSS:1.78  ACC:0.47\n",
      "LOSS:2.64  ACC:0.28\n"
     ]
    },
    {
     "name": "stderr",
     "output_type": "stream",
     "text": [
      " 23%|██████████████████████████████████▍                                                                                                                  | 434/1875 [00:05<00:17, 84.30it/s]"
     ]
    },
    {
     "name": "stdout",
     "output_type": "stream",
     "text": [
      "LOSS:1.95  ACC:0.41\n",
      "LOSS:2.65  ACC:0.25\n",
      "LOSS:3.04  ACC:0.22\n",
      "LOSS:2.69  ACC:0.31\n",
      "LOSS:2.88  ACC:0.25\n",
      "LOSS:2.50  ACC:0.34\n",
      "LOSS:2.38  ACC:0.25\n",
      "LOSS:2.66  ACC:0.25\n",
      "LOSS:2.12  ACC:0.28\n",
      "LOSS:2.18  ACC:0.25\n",
      "LOSS:2.27  ACC:0.34\n",
      "LOSS:2.40  ACC:0.25\n",
      "LOSS:1.90  ACC:0.41\n",
      "LOSS:3.16  ACC:0.16\n",
      "LOSS:2.78  ACC:0.31\n",
      "LOSS:2.95  ACC:0.12\n",
      "LOSS:2.51  ACC:0.31\n",
      "LOSS:2.70  ACC:0.25\n",
      "LOSS:2.58  ACC:0.28\n"
     ]
    },
    {
     "name": "stderr",
     "output_type": "stream",
     "text": [
      " 24%|████████████████████████████████████                                                                                                                 | 454/1875 [00:05<00:16, 87.49it/s]"
     ]
    },
    {
     "name": "stdout",
     "output_type": "stream",
     "text": [
      "LOSS:2.27  ACC:0.28\n",
      "LOSS:2.26  ACC:0.38\n",
      "LOSS:2.73  ACC:0.34\n",
      "LOSS:3.05  ACC:0.22\n",
      "LOSS:2.59  ACC:0.28\n",
      "LOSS:2.50  ACC:0.19\n",
      "LOSS:2.43  ACC:0.34\n",
      "LOSS:2.41  ACC:0.22\n",
      "LOSS:2.99  ACC:0.22\n",
      "LOSS:2.37  ACC:0.31\n",
      "LOSS:2.75  ACC:0.16\n",
      "LOSS:2.29  ACC:0.25\n",
      "LOSS:2.38  ACC:0.28\n",
      "LOSS:3.01  ACC:0.12\n",
      "LOSS:2.43  ACC:0.28\n",
      "LOSS:2.90  ACC:0.19\n",
      "LOSS:3.58  ACC:0.16\n",
      "LOSS:3.12  ACC:0.25\n"
     ]
    },
    {
     "name": "stderr",
     "output_type": "stream",
     "text": [
      " 25%|█████████████████████████████████████▌                                                                                                               | 472/1875 [00:05<00:16, 87.22it/s]"
     ]
    },
    {
     "name": "stdout",
     "output_type": "stream",
     "text": [
      "LOSS:3.26  ACC:0.25\n",
      "LOSS:2.96  ACC:0.22\n",
      "LOSS:3.26  ACC:0.25\n",
      "LOSS:3.18  ACC:0.12\n",
      "LOSS:3.57  ACC:0.25\n",
      "LOSS:2.59  ACC:0.34\n",
      "LOSS:2.09  ACC:0.31\n",
      "LOSS:2.61  ACC:0.25\n",
      "LOSS:2.14  ACC:0.38\n",
      "LOSS:1.88  ACC:0.44\n",
      "LOSS:2.03  ACC:0.41\n",
      "LOSS:2.40  ACC:0.38\n",
      "LOSS:2.16  ACC:0.31\n",
      "LOSS:2.74  ACC:0.19\n",
      "LOSS:2.47  ACC:0.41\n",
      "LOSS:2.39  ACC:0.28\n",
      "LOSS:2.57  ACC:0.22\n",
      "LOSS:2.39  ACC:0.34\n"
     ]
    },
    {
     "name": "stderr",
     "output_type": "stream",
     "text": [
      " 26%|██████████████████████████████████████▉                                                                                                              | 490/1875 [00:05<00:16, 83.19it/s]"
     ]
    },
    {
     "name": "stdout",
     "output_type": "stream",
     "text": [
      "LOSS:2.27  ACC:0.34\n",
      "LOSS:2.16  ACC:0.31\n",
      "LOSS:2.10  ACC:0.41\n",
      "LOSS:2.79  ACC:0.31\n",
      "LOSS:2.82  ACC:0.25\n",
      "LOSS:2.23  ACC:0.25\n",
      "LOSS:2.45  ACC:0.19\n",
      "LOSS:2.31  ACC:0.34\n",
      "LOSS:2.24  ACC:0.41\n",
      "LOSS:2.09  ACC:0.31\n",
      "LOSS:2.08  ACC:0.28\n",
      "LOSS:2.98  ACC:0.28\n",
      "LOSS:2.73  ACC:0.41\n",
      "LOSS:2.48  ACC:0.25\n",
      "LOSS:2.96  ACC:0.22\n",
      "LOSS:2.99  ACC:0.09\n"
     ]
    },
    {
     "name": "stderr",
     "output_type": "stream",
     "text": [
      " 27%|████████████████████████████████████████▎                                                                                                            | 508/1875 [00:06<00:16, 84.27it/s]"
     ]
    },
    {
     "name": "stdout",
     "output_type": "stream",
     "text": [
      "LOSS:2.94  ACC:0.28\n",
      "LOSS:2.76  ACC:0.19\n",
      "LOSS:2.45  ACC:0.28\n",
      "LOSS:2.42  ACC:0.34\n",
      "LOSS:2.14  ACC:0.25\n",
      "LOSS:1.95  ACC:0.34\n",
      "LOSS:2.18  ACC:0.31\n",
      "LOSS:3.00  ACC:0.25\n",
      "LOSS:3.34  ACC:0.16\n",
      "LOSS:2.50  ACC:0.16\n",
      "LOSS:2.40  ACC:0.25\n",
      "LOSS:2.45  ACC:0.25\n",
      "LOSS:2.76  ACC:0.12\n",
      "LOSS:2.74  ACC:0.25\n",
      "LOSS:2.23  ACC:0.38\n",
      "LOSS:2.59  ACC:0.28\n",
      "LOSS:3.05  ACC:0.25\n",
      "LOSS:2.64  ACC:0.31\n"
     ]
    },
    {
     "name": "stderr",
     "output_type": "stream",
     "text": [
      " 28%|█████████████████████████████████████████▉                                                                                                           | 527/1875 [00:06<00:15, 88.24it/s]"
     ]
    },
    {
     "name": "stdout",
     "output_type": "stream",
     "text": [
      "LOSS:2.80  ACC:0.28\n",
      "LOSS:2.28  ACC:0.34\n",
      "LOSS:2.42  ACC:0.25\n",
      "LOSS:2.10  ACC:0.41\n",
      "LOSS:2.25  ACC:0.47\n",
      "LOSS:2.06  ACC:0.31\n",
      "LOSS:2.87  ACC:0.22\n",
      "LOSS:2.34  ACC:0.28\n",
      "LOSS:2.31  ACC:0.31\n",
      "LOSS:2.64  ACC:0.31\n",
      "LOSS:1.93  ACC:0.38\n",
      "LOSS:2.54  ACC:0.19\n",
      "LOSS:2.78  ACC:0.22\n",
      "LOSS:2.97  ACC:0.12\n",
      "LOSS:2.70  ACC:0.22\n",
      "LOSS:2.78  ACC:0.16\n",
      "LOSS:2.75  ACC:0.19\n",
      "LOSS:2.55  ACC:0.31\n",
      "LOSS:2.17  ACC:0.34\n"
     ]
    },
    {
     "name": "stderr",
     "output_type": "stream",
     "text": [
      " 29%|███████████████████████████████████████████▍                                                                                                         | 546/1875 [00:06<00:14, 90.08it/s]"
     ]
    },
    {
     "name": "stdout",
     "output_type": "stream",
     "text": [
      "LOSS:2.37  ACC:0.28\n",
      "LOSS:2.71  ACC:0.22\n",
      "LOSS:2.28  ACC:0.44\n",
      "LOSS:2.73  ACC:0.16\n",
      "LOSS:2.81  ACC:0.19\n",
      "LOSS:2.72  ACC:0.28\n",
      "LOSS:2.69  ACC:0.34\n",
      "LOSS:2.84  ACC:0.16\n",
      "LOSS:2.69  ACC:0.22\n",
      "LOSS:2.48  ACC:0.25\n",
      "LOSS:2.45  ACC:0.22\n",
      "LOSS:2.77  ACC:0.22\n",
      "LOSS:2.39  ACC:0.19\n",
      "LOSS:2.53  ACC:0.22\n",
      "LOSS:2.23  ACC:0.38\n",
      "LOSS:2.04  ACC:0.34\n",
      "LOSS:2.36  ACC:0.22\n",
      "LOSS:2.68  ACC:0.22\n",
      "LOSS:2.59  ACC:0.19\n"
     ]
    },
    {
     "name": "stderr",
     "output_type": "stream",
     "text": [
      " 30%|████████████████████████████████████████████▉                                                                                                        | 566/1875 [00:06<00:14, 91.79it/s]"
     ]
    },
    {
     "name": "stdout",
     "output_type": "stream",
     "text": [
      "LOSS:2.36  ACC:0.28\n",
      "LOSS:2.97  ACC:0.16\n",
      "LOSS:2.58  ACC:0.28\n",
      "LOSS:2.79  ACC:0.19\n",
      "LOSS:2.37  ACC:0.22\n",
      "LOSS:2.37  ACC:0.19\n",
      "LOSS:2.32  ACC:0.25\n",
      "LOSS:2.57  ACC:0.22\n",
      "LOSS:1.92  ACC:0.41\n",
      "LOSS:2.34  ACC:0.25\n",
      "LOSS:2.38  ACC:0.31\n",
      "LOSS:1.77  ACC:0.47\n",
      "LOSS:2.45  ACC:0.31\n",
      "LOSS:2.53  ACC:0.16\n",
      "LOSS:2.18  ACC:0.34\n",
      "LOSS:2.01  ACC:0.25\n",
      "LOSS:2.81  ACC:0.16\n",
      "LOSS:2.02  ACC:0.38\n",
      "LOSS:2.16  ACC:0.34\n",
      "LOSS:2.12  ACC:0.31\n"
     ]
    },
    {
     "name": "stderr",
     "output_type": "stream",
     "text": [
      " 31%|██████████████████████████████████████████████▌                                                                                                      | 586/1875 [00:06<00:13, 92.19it/s]"
     ]
    },
    {
     "name": "stdout",
     "output_type": "stream",
     "text": [
      "LOSS:2.30  ACC:0.38\n",
      "LOSS:1.77  ACC:0.41\n",
      "LOSS:2.02  ACC:0.31\n",
      "LOSS:2.11  ACC:0.28\n",
      "LOSS:2.87  ACC:0.22\n",
      "LOSS:2.61  ACC:0.25\n",
      "LOSS:2.78  ACC:0.22\n",
      "LOSS:2.72  ACC:0.31\n",
      "LOSS:2.88  ACC:0.16\n",
      "LOSS:2.63  ACC:0.31\n",
      "LOSS:2.88  ACC:0.25\n",
      "LOSS:2.69  ACC:0.22\n",
      "LOSS:2.74  ACC:0.16\n",
      "LOSS:3.01  ACC:0.16\n",
      "LOSS:2.41  ACC:0.28\n",
      "LOSS:2.51  ACC:0.34\n",
      "LOSS:2.63  ACC:0.28\n",
      "LOSS:2.01  ACC:0.34\n",
      "LOSS:2.26  ACC:0.31\n"
     ]
    },
    {
     "name": "stderr",
     "output_type": "stream",
     "text": [
      " 32%|████████████████████████████████████████████████▏                                                                                                    | 606/1875 [00:07<00:13, 92.18it/s]"
     ]
    },
    {
     "name": "stdout",
     "output_type": "stream",
     "text": [
      "LOSS:2.30  ACC:0.22\n",
      "LOSS:2.32  ACC:0.19\n",
      "LOSS:2.24  ACC:0.34\n",
      "LOSS:2.02  ACC:0.28\n",
      "LOSS:1.96  ACC:0.38\n",
      "LOSS:2.51  ACC:0.31\n",
      "LOSS:2.58  ACC:0.34\n",
      "LOSS:2.07  ACC:0.34\n",
      "LOSS:1.83  ACC:0.38\n",
      "LOSS:2.74  ACC:0.16\n",
      "LOSS:2.05  ACC:0.31\n",
      "LOSS:3.17  ACC:0.22\n",
      "LOSS:2.25  ACC:0.31\n",
      "LOSS:2.32  ACC:0.16\n",
      "LOSS:2.53  ACC:0.22\n",
      "LOSS:2.52  ACC:0.34\n",
      "LOSS:2.85  ACC:0.25\n",
      "LOSS:2.53  ACC:0.38\n",
      "LOSS:2.11  ACC:0.34\n"
     ]
    },
    {
     "name": "stderr",
     "output_type": "stream",
     "text": [
      "\r",
      " 33%|████████████████████████████████████████████████▉                                                                                                    | 616/1875 [00:07<00:15, 80.37it/s]"
     ]
    },
    {
     "name": "stdout",
     "output_type": "stream",
     "text": [
      "LOSS:2.51  ACC:0.34\n",
      "LOSS:2.61  ACC:0.16\n",
      "LOSS:2.04  ACC:0.38\n",
      "LOSS:2.43  ACC:0.31\n",
      "LOSS:3.08  ACC:0.16\n",
      "LOSS:2.57  ACC:0.22\n",
      "LOSS:2.49  ACC:0.34\n",
      "LOSS:3.09  ACC:0.28\n",
      "LOSS:2.99  ACC:0.16\n",
      "LOSS:2.52  ACC:0.28\n",
      "LOSS:2.51  ACC:0.41\n",
      "LOSS:2.63  ACC:0.34\n",
      "LOSS:2.85  ACC:0.19\n",
      "LOSS:2.86  ACC:0.41\n"
     ]
    },
    {
     "name": "stderr",
     "output_type": "stream",
     "text": [
      " 34%|██████████████████████████████████████████████████▎                                                                                                  | 633/1875 [00:07<00:16, 73.11it/s]"
     ]
    },
    {
     "name": "stdout",
     "output_type": "stream",
     "text": [
      "LOSS:2.12  ACC:0.38\n",
      "LOSS:2.99  ACC:0.22\n",
      "LOSS:3.09  ACC:0.25\n",
      "LOSS:2.64  ACC:0.38\n",
      "LOSS:3.02  ACC:0.12\n",
      "LOSS:2.56  ACC:0.28\n",
      "LOSS:2.68  ACC:0.28\n",
      "LOSS:3.05  ACC:0.22\n",
      "LOSS:2.20  ACC:0.44\n",
      "LOSS:2.52  ACC:0.16\n",
      "LOSS:2.68  ACC:0.28\n",
      "LOSS:2.25  ACC:0.22\n",
      "LOSS:2.20  ACC:0.28\n",
      "LOSS:2.21  ACC:0.31\n",
      "LOSS:2.36  ACC:0.34\n"
     ]
    },
    {
     "name": "stderr",
     "output_type": "stream",
     "text": [
      " 35%|███████████████████████████████████████████████████▌                                                                                                 | 649/1875 [00:07<00:17, 71.74it/s]"
     ]
    },
    {
     "name": "stdout",
     "output_type": "stream",
     "text": [
      "LOSS:2.55  ACC:0.19\n",
      "LOSS:2.47  ACC:0.28\n",
      "LOSS:2.23  ACC:0.25\n",
      "LOSS:2.17  ACC:0.38\n",
      "LOSS:2.53  ACC:0.25\n",
      "LOSS:2.91  ACC:0.12\n",
      "LOSS:2.27  ACC:0.19\n",
      "LOSS:2.99  ACC:0.25\n",
      "LOSS:1.97  ACC:0.38\n",
      "LOSS:2.45  ACC:0.28\n",
      "LOSS:1.97  ACC:0.31\n",
      "LOSS:2.51  ACC:0.28\n",
      "LOSS:2.04  ACC:0.28\n",
      "LOSS:1.93  ACC:0.34\n"
     ]
    },
    {
     "name": "stderr",
     "output_type": "stream",
     "text": [
      "\r",
      " 35%|████████████████████████████████████████████████████▏                                                                                                | 657/1875 [00:07<00:17, 70.31it/s]"
     ]
    },
    {
     "name": "stdout",
     "output_type": "stream",
     "text": [
      "LOSS:2.16  ACC:0.41\n",
      "LOSS:2.34  ACC:0.34\n",
      "LOSS:2.30  ACC:0.34\n",
      "LOSS:2.52  ACC:0.16\n",
      "LOSS:2.49  ACC:0.22\n",
      "LOSS:1.74  ACC:0.38\n",
      "LOSS:2.51  ACC:0.25\n",
      "LOSS:2.21  ACC:0.38\n",
      "LOSS:2.11  ACC:0.44\n",
      "LOSS:2.44  ACC:0.28\n",
      "LOSS:2.07  ACC:0.31\n",
      "LOSS:1.86  ACC:0.44\n",
      "LOSS:2.81  ACC:0.28\n",
      "LOSS:2.50  ACC:0.25\n"
     ]
    },
    {
     "name": "stderr",
     "output_type": "stream",
     "text": [
      " 36%|█████████████████████████████████████████████████████▍                                                                                               | 673/1875 [00:08<00:17, 68.87it/s]"
     ]
    },
    {
     "name": "stdout",
     "output_type": "stream",
     "text": [
      "LOSS:2.03  ACC:0.44\n",
      "LOSS:2.85  ACC:0.19\n",
      "LOSS:2.77  ACC:0.22\n",
      "LOSS:2.83  ACC:0.31\n",
      "LOSS:2.60  ACC:0.31\n",
      "LOSS:2.85  ACC:0.25\n",
      "LOSS:3.18  ACC:0.12\n",
      "LOSS:2.37  ACC:0.31\n",
      "LOSS:2.51  ACC:0.31\n",
      "LOSS:2.09  ACC:0.31\n",
      "LOSS:2.18  ACC:0.22\n",
      "LOSS:2.15  ACC:0.41\n",
      "LOSS:2.22  ACC:0.22\n",
      "LOSS:2.62  ACC:0.31\n"
     ]
    },
    {
     "name": "stderr",
     "output_type": "stream",
     "text": [
      " 37%|██████████████████████████████████████████████████████▌                                                                                              | 687/1875 [00:08<00:17, 66.65it/s]"
     ]
    },
    {
     "name": "stdout",
     "output_type": "stream",
     "text": [
      "LOSS:2.10  ACC:0.31\n",
      "LOSS:2.63  ACC:0.16\n",
      "LOSS:2.29  ACC:0.38\n",
      "LOSS:2.77  ACC:0.12\n",
      "LOSS:2.31  ACC:0.31\n",
      "LOSS:2.16  ACC:0.28\n",
      "LOSS:2.64  ACC:0.31\n",
      "LOSS:2.37  ACC:0.31\n",
      "LOSS:2.36  ACC:0.41\n",
      "LOSS:1.82  ACC:0.47\n",
      "LOSS:3.26  ACC:0.19\n",
      "LOSS:3.07  ACC:0.31\n",
      "LOSS:3.04  ACC:0.25\n"
     ]
    },
    {
     "name": "stderr",
     "output_type": "stream",
     "text": [
      " 37%|███████████████████████████████████████████████████████▋                                                                                             | 701/1875 [00:08<00:17, 66.45it/s]"
     ]
    },
    {
     "name": "stdout",
     "output_type": "stream",
     "text": [
      "LOSS:3.46  ACC:0.16\n",
      "LOSS:3.01  ACC:0.19\n",
      "LOSS:2.94  ACC:0.16\n",
      "LOSS:2.14  ACC:0.41\n",
      "LOSS:2.89  ACC:0.28\n",
      "LOSS:2.74  ACC:0.19\n",
      "LOSS:2.50  ACC:0.22\n",
      "LOSS:2.20  ACC:0.38\n",
      "LOSS:2.17  ACC:0.25\n",
      "LOSS:3.18  ACC:0.16\n",
      "LOSS:2.15  ACC:0.19\n",
      "LOSS:2.53  ACC:0.34\n",
      "LOSS:3.16  ACC:0.22\n",
      "LOSS:2.59  ACC:0.22\n"
     ]
    },
    {
     "name": "stderr",
     "output_type": "stream",
     "text": [
      " 38%|████████████████████████████████████████████████████████▉                                                                                            | 717/1875 [00:08<00:16, 69.01it/s]"
     ]
    },
    {
     "name": "stdout",
     "output_type": "stream",
     "text": [
      "LOSS:2.81  ACC:0.25\n",
      "LOSS:2.64  ACC:0.22\n",
      "LOSS:2.48  ACC:0.22\n",
      "LOSS:2.83  ACC:0.25\n",
      "LOSS:2.67  ACC:0.19\n",
      "LOSS:2.97  ACC:0.22\n",
      "LOSS:2.22  ACC:0.34\n",
      "LOSS:2.43  ACC:0.22\n",
      "LOSS:2.39  ACC:0.31\n",
      "LOSS:2.08  ACC:0.38\n",
      "LOSS:2.07  ACC:0.38\n",
      "LOSS:2.96  ACC:0.25\n",
      "LOSS:2.31  ACC:0.28\n",
      "LOSS:2.10  ACC:0.19\n",
      "LOSS:2.34  ACC:0.31\n"
     ]
    },
    {
     "name": "stderr",
     "output_type": "stream",
     "text": [
      " 39%|██████████████████████████████████████████████████████████▍                                                                                          | 735/1875 [00:08<00:14, 77.29it/s]"
     ]
    },
    {
     "name": "stdout",
     "output_type": "stream",
     "text": [
      "LOSS:2.34  ACC:0.34\n",
      "LOSS:2.82  ACC:0.25\n",
      "LOSS:2.58  ACC:0.25\n",
      "LOSS:2.52  ACC:0.25\n",
      "LOSS:2.48  ACC:0.28\n",
      "LOSS:2.64  ACC:0.25\n",
      "LOSS:3.04  ACC:0.22\n",
      "LOSS:2.01  ACC:0.31\n",
      "LOSS:2.48  ACC:0.28\n",
      "LOSS:2.62  ACC:0.28\n",
      "LOSS:2.47  ACC:0.34\n",
      "LOSS:2.70  ACC:0.28\n",
      "LOSS:2.84  ACC:0.22\n",
      "LOSS:3.14  ACC:0.12\n",
      "LOSS:1.80  ACC:0.56\n",
      "LOSS:2.15  ACC:0.38\n",
      "LOSS:2.65  ACC:0.19\n",
      "LOSS:1.97  ACC:0.41\n",
      "LOSS:2.25  ACC:0.22\n"
     ]
    },
    {
     "name": "stderr",
     "output_type": "stream",
     "text": [
      " 40%|███████████████████████████████████████████████████████████▊                                                                                         | 753/1875 [00:09<00:13, 81.67it/s]"
     ]
    },
    {
     "name": "stdout",
     "output_type": "stream",
     "text": [
      "LOSS:2.23  ACC:0.31\n",
      "LOSS:2.87  ACC:0.22\n",
      "LOSS:2.37  ACC:0.19\n",
      "LOSS:2.22  ACC:0.44\n",
      "LOSS:2.79  ACC:0.22\n",
      "LOSS:2.28  ACC:0.44\n",
      "LOSS:1.89  ACC:0.47\n",
      "LOSS:2.43  ACC:0.19\n",
      "LOSS:2.94  ACC:0.28\n",
      "LOSS:2.96  ACC:0.22\n",
      "LOSS:2.21  ACC:0.28\n",
      "LOSS:2.21  ACC:0.31\n",
      "LOSS:2.11  ACC:0.28\n",
      "LOSS:1.86  ACC:0.50\n",
      "LOSS:1.81  ACC:0.44\n",
      "LOSS:2.37  ACC:0.28\n",
      "LOSS:1.96  ACC:0.31\n",
      "LOSS:2.23  ACC:0.34\n"
     ]
    },
    {
     "name": "stderr",
     "output_type": "stream",
     "text": [
      " 41%|█████████████████████████████████████████████████████████████▎                                                                                       | 772/1875 [00:09<00:12, 86.31it/s]"
     ]
    },
    {
     "name": "stdout",
     "output_type": "stream",
     "text": [
      "LOSS:2.59  ACC:0.28\n",
      "LOSS:2.44  ACC:0.34\n",
      "LOSS:1.91  ACC:0.31\n",
      "LOSS:2.23  ACC:0.31\n",
      "LOSS:2.32  ACC:0.31\n",
      "LOSS:2.65  ACC:0.31\n",
      "LOSS:2.62  ACC:0.25\n",
      "LOSS:2.34  ACC:0.41\n",
      "LOSS:2.13  ACC:0.22\n",
      "LOSS:2.69  ACC:0.16\n",
      "LOSS:2.88  ACC:0.22\n",
      "LOSS:2.94  ACC:0.22\n",
      "LOSS:2.60  ACC:0.28\n",
      "LOSS:2.84  ACC:0.16\n",
      "LOSS:1.98  ACC:0.25\n",
      "LOSS:2.83  ACC:0.22\n",
      "LOSS:2.19  ACC:0.25\n",
      "LOSS:2.60  ACC:0.22\n",
      "LOSS:2.71  ACC:0.12\n"
     ]
    },
    {
     "name": "stderr",
     "output_type": "stream",
     "text": [
      " 42%|██████████████████████████████████████████████████████████████▊                                                                                      | 791/1875 [00:09<00:12, 88.97it/s]"
     ]
    },
    {
     "name": "stdout",
     "output_type": "stream",
     "text": [
      "LOSS:2.37  ACC:0.38\n",
      "LOSS:2.26  ACC:0.28\n",
      "LOSS:2.13  ACC:0.31\n",
      "LOSS:2.43  ACC:0.28\n",
      "LOSS:2.41  ACC:0.22\n",
      "LOSS:2.81  ACC:0.12\n",
      "LOSS:2.23  ACC:0.41\n",
      "LOSS:2.24  ACC:0.31\n",
      "LOSS:2.22  ACC:0.25\n",
      "LOSS:3.17  ACC:0.28\n",
      "LOSS:2.21  ACC:0.31\n",
      "LOSS:2.68  ACC:0.25\n",
      "LOSS:2.49  ACC:0.28\n",
      "LOSS:2.18  ACC:0.41\n",
      "LOSS:2.65  ACC:0.34\n",
      "LOSS:2.81  ACC:0.25\n",
      "LOSS:2.59  ACC:0.38\n",
      "LOSS:2.81  ACC:0.34\n",
      "LOSS:2.20  ACC:0.34\n"
     ]
    },
    {
     "name": "stderr",
     "output_type": "stream",
     "text": [
      " 43%|████████████████████████████████████████████████████████████████▎                                                                                    | 810/1875 [00:09<00:11, 89.05it/s]"
     ]
    },
    {
     "name": "stdout",
     "output_type": "stream",
     "text": [
      "LOSS:2.50  ACC:0.38\n",
      "LOSS:2.79  ACC:0.28\n",
      "LOSS:2.50  ACC:0.25\n",
      "LOSS:2.45  ACC:0.34\n",
      "LOSS:2.65  ACC:0.31\n",
      "LOSS:2.10  ACC:0.25\n",
      "LOSS:2.28  ACC:0.19\n",
      "LOSS:2.49  ACC:0.31\n",
      "LOSS:2.37  ACC:0.31\n",
      "LOSS:2.27  ACC:0.44\n",
      "LOSS:2.09  ACC:0.31\n",
      "LOSS:2.59  ACC:0.16\n",
      "LOSS:2.58  ACC:0.25\n",
      "LOSS:2.52  ACC:0.25\n",
      "LOSS:2.30  ACC:0.31\n",
      "LOSS:2.43  ACC:0.22\n",
      "LOSS:2.65  ACC:0.28\n",
      "LOSS:2.52  ACC:0.19\n",
      "LOSS:3.15  ACC:0.22\n"
     ]
    },
    {
     "name": "stderr",
     "output_type": "stream",
     "text": [
      " 44%|█████████████████████████████████████████████████████████████████▉                                                                                   | 830/1875 [00:09<00:11, 90.47it/s]"
     ]
    },
    {
     "name": "stdout",
     "output_type": "stream",
     "text": [
      "LOSS:2.47  ACC:0.28\n",
      "LOSS:2.27  ACC:0.41\n",
      "LOSS:2.85  ACC:0.28\n",
      "LOSS:2.19  ACC:0.41\n",
      "LOSS:2.04  ACC:0.41\n",
      "LOSS:2.43  ACC:0.31\n",
      "LOSS:2.45  ACC:0.34\n",
      "LOSS:2.19  ACC:0.25\n",
      "LOSS:2.33  ACC:0.25\n",
      "LOSS:2.27  ACC:0.25\n",
      "LOSS:2.57  ACC:0.34\n",
      "LOSS:2.24  ACC:0.38\n",
      "LOSS:2.96  ACC:0.19\n",
      "LOSS:2.53  ACC:0.31\n",
      "LOSS:2.27  ACC:0.28\n",
      "LOSS:2.51  ACC:0.28\n",
      "LOSS:2.59  ACC:0.28\n",
      "LOSS:2.41  ACC:0.28\n",
      "LOSS:2.80  ACC:0.12\n"
     ]
    },
    {
     "name": "stderr",
     "output_type": "stream",
     "text": [
      " 45%|███████████████████████████████████████████████████████████████████▌                                                                                 | 850/1875 [00:10<00:11, 90.09it/s]"
     ]
    },
    {
     "name": "stdout",
     "output_type": "stream",
     "text": [
      "LOSS:2.85  ACC:0.19\n",
      "LOSS:2.48  ACC:0.31\n",
      "LOSS:2.64  ACC:0.38\n",
      "LOSS:2.41  ACC:0.38\n",
      "LOSS:2.91  ACC:0.19\n",
      "LOSS:1.69  ACC:0.59\n",
      "LOSS:2.42  ACC:0.41\n",
      "LOSS:2.49  ACC:0.25\n",
      "LOSS:2.07  ACC:0.41\n",
      "LOSS:2.36  ACC:0.28\n",
      "LOSS:2.29  ACC:0.41\n",
      "LOSS:2.55  ACC:0.31\n",
      "LOSS:2.54  ACC:0.25\n",
      "LOSS:2.10  ACC:0.31\n",
      "LOSS:2.48  ACC:0.28\n",
      "LOSS:2.73  ACC:0.31\n",
      "LOSS:2.83  ACC:0.16\n",
      "LOSS:2.71  ACC:0.22\n"
     ]
    },
    {
     "name": "stderr",
     "output_type": "stream",
     "text": [
      "\r",
      " 46%|████████████████████████████████████████████████████████████████████▎                                                                                | 860/1875 [00:10<00:11, 87.22it/s]"
     ]
    },
    {
     "name": "stdout",
     "output_type": "stream",
     "text": [
      "LOSS:2.16  ACC:0.38\n",
      "LOSS:2.65  ACC:0.25\n",
      "LOSS:2.42  ACC:0.28\n",
      "LOSS:3.12  ACC:0.22\n",
      "LOSS:2.62  ACC:0.19\n",
      "LOSS:3.12  ACC:0.22\n",
      "LOSS:2.43  ACC:0.34\n",
      "LOSS:3.07  ACC:0.22\n",
      "LOSS:2.88  ACC:0.28\n",
      "LOSS:2.22  ACC:0.25\n",
      "LOSS:2.21  ACC:0.38\n",
      "LOSS:2.49  ACC:0.16\n",
      "LOSS:2.25  ACC:0.28\n",
      "LOSS:2.50  ACC:0.34\n",
      "LOSS:2.13  ACC:0.47\n",
      "LOSS:2.74  ACC:0.12\n",
      "LOSS:2.67  ACC:0.22\n",
      "LOSS:2.70  ACC:0.19\n"
     ]
    },
    {
     "name": "stderr",
     "output_type": "stream",
     "text": [
      " 47%|█████████████████████████████████████████████████████████████████████▉                                                                               | 880/1875 [00:10<00:11, 89.90it/s]"
     ]
    },
    {
     "name": "stdout",
     "output_type": "stream",
     "text": [
      "LOSS:2.27  ACC:0.25\n",
      "LOSS:2.28  ACC:0.25\n",
      "LOSS:2.23  ACC:0.34\n",
      "LOSS:2.41  ACC:0.41\n",
      "LOSS:2.50  ACC:0.28\n",
      "LOSS:2.78  ACC:0.22\n",
      "LOSS:1.92  ACC:0.38\n",
      "LOSS:2.01  ACC:0.44\n",
      "LOSS:2.29  ACC:0.28\n",
      "LOSS:1.87  ACC:0.38\n",
      "LOSS:2.16  ACC:0.41\n",
      "LOSS:3.24  ACC:0.31\n",
      "LOSS:2.22  ACC:0.28\n",
      "LOSS:2.36  ACC:0.31\n",
      "LOSS:2.91  ACC:0.28\n",
      "LOSS:2.04  ACC:0.28\n",
      "LOSS:2.13  ACC:0.34\n",
      "LOSS:2.71  ACC:0.22\n",
      "LOSS:2.84  ACC:0.16\n"
     ]
    },
    {
     "name": "stderr",
     "output_type": "stream",
     "text": [
      " 48%|███████████████████████████████████████████████████████████████████████▌                                                                             | 900/1875 [00:10<00:10, 89.84it/s]"
     ]
    },
    {
     "name": "stdout",
     "output_type": "stream",
     "text": [
      "LOSS:2.35  ACC:0.31\n",
      "LOSS:2.77  ACC:0.25\n",
      "LOSS:2.44  ACC:0.38\n",
      "LOSS:2.67  ACC:0.31\n",
      "LOSS:2.36  ACC:0.28\n",
      "LOSS:2.73  ACC:0.28\n",
      "LOSS:2.47  ACC:0.22\n",
      "LOSS:2.29  ACC:0.25\n",
      "LOSS:2.47  ACC:0.28\n",
      "LOSS:2.65  ACC:0.22\n",
      "LOSS:1.93  ACC:0.44\n",
      "LOSS:2.28  ACC:0.28\n",
      "LOSS:2.01  ACC:0.41\n",
      "LOSS:2.14  ACC:0.34\n",
      "LOSS:2.92  ACC:0.19\n",
      "LOSS:2.90  ACC:0.28\n",
      "LOSS:3.19  ACC:0.12\n",
      "LOSS:2.38  ACC:0.31\n"
     ]
    },
    {
     "name": "stderr",
     "output_type": "stream",
     "text": [
      " 49%|████████████████████████████████████████████████████████████████████████▉                                                                            | 918/1875 [00:11<00:11, 83.62it/s]"
     ]
    },
    {
     "name": "stdout",
     "output_type": "stream",
     "text": [
      "LOSS:2.87  ACC:0.16\n",
      "LOSS:2.24  ACC:0.25\n",
      "LOSS:2.74  ACC:0.25\n",
      "LOSS:2.50  ACC:0.25\n",
      "LOSS:2.39  ACC:0.28\n",
      "LOSS:3.05  ACC:0.12\n",
      "LOSS:2.50  ACC:0.16\n",
      "LOSS:2.75  ACC:0.19\n",
      "LOSS:2.42  ACC:0.34\n",
      "LOSS:2.81  ACC:0.19\n",
      "LOSS:2.22  ACC:0.34\n",
      "LOSS:2.24  ACC:0.28\n",
      "LOSS:2.33  ACC:0.34\n",
      "LOSS:2.22  ACC:0.31\n",
      "LOSS:2.07  ACC:0.31\n",
      "LOSS:2.08  ACC:0.38\n"
     ]
    },
    {
     "name": "stderr",
     "output_type": "stream",
     "text": [
      " 50%|██████████████████████████████████████████████████████████████████████████▍                                                                          | 936/1875 [00:11<00:11, 84.51it/s]"
     ]
    },
    {
     "name": "stdout",
     "output_type": "stream",
     "text": [
      "LOSS:2.43  ACC:0.28\n",
      "LOSS:2.04  ACC:0.31\n",
      "LOSS:2.09  ACC:0.31\n",
      "LOSS:2.23  ACC:0.28\n",
      "LOSS:2.47  ACC:0.22\n",
      "LOSS:2.05  ACC:0.28\n",
      "LOSS:2.35  ACC:0.22\n",
      "LOSS:2.35  ACC:0.22\n",
      "LOSS:2.59  ACC:0.19\n",
      "LOSS:1.82  ACC:0.44\n",
      "LOSS:2.35  ACC:0.16\n",
      "LOSS:2.11  ACC:0.22\n",
      "LOSS:2.10  ACC:0.38\n",
      "LOSS:2.64  ACC:0.16\n",
      "LOSS:2.04  ACC:0.28\n",
      "LOSS:2.33  ACC:0.19\n",
      "LOSS:3.03  ACC:0.12\n",
      "LOSS:2.77  ACC:0.16\n"
     ]
    },
    {
     "name": "stderr",
     "output_type": "stream",
     "text": [
      " 51%|███████████████████████████████████████████████████████████████████████████▉                                                                         | 955/1875 [00:11<00:10, 88.40it/s]"
     ]
    },
    {
     "name": "stdout",
     "output_type": "stream",
     "text": [
      "LOSS:2.43  ACC:0.22\n",
      "LOSS:3.05  ACC:0.22\n",
      "LOSS:2.59  ACC:0.16\n",
      "LOSS:3.08  ACC:0.16\n",
      "LOSS:3.13  ACC:0.28\n",
      "LOSS:2.64  ACC:0.19\n",
      "LOSS:2.08  ACC:0.31\n",
      "LOSS:3.12  ACC:0.22\n",
      "LOSS:2.76  ACC:0.25\n",
      "LOSS:2.42  ACC:0.44\n",
      "LOSS:3.47  ACC:0.16\n",
      "LOSS:2.51  ACC:0.25\n",
      "LOSS:2.55  ACC:0.25\n",
      "LOSS:2.77  ACC:0.12\n",
      "LOSS:2.55  ACC:0.22\n",
      "LOSS:2.05  ACC:0.38\n",
      "LOSS:1.88  ACC:0.41\n",
      "LOSS:2.02  ACC:0.34\n",
      "LOSS:2.23  ACC:0.28\n"
     ]
    },
    {
     "name": "stderr",
     "output_type": "stream",
     "text": [
      " 52%|█████████████████████████████████████████████████████████████████████████████▎                                                                       | 973/1875 [00:11<00:10, 88.32it/s]"
     ]
    },
    {
     "name": "stdout",
     "output_type": "stream",
     "text": [
      "LOSS:2.30  ACC:0.28\n",
      "LOSS:2.53  ACC:0.28\n",
      "LOSS:2.27  ACC:0.25\n",
      "LOSS:1.94  ACC:0.38\n",
      "LOSS:2.71  ACC:0.25\n",
      "LOSS:2.26  ACC:0.41\n",
      "LOSS:2.66  ACC:0.28\n",
      "LOSS:2.47  ACC:0.16\n",
      "LOSS:2.73  ACC:0.25\n",
      "LOSS:2.24  ACC:0.25\n",
      "LOSS:2.24  ACC:0.28\n",
      "LOSS:2.69  ACC:0.34\n",
      "LOSS:2.52  ACC:0.31\n",
      "LOSS:2.35  ACC:0.34\n",
      "LOSS:2.01  ACC:0.31\n",
      "LOSS:1.90  ACC:0.47\n",
      "LOSS:2.21  ACC:0.44\n",
      "LOSS:2.35  ACC:0.31\n"
     ]
    },
    {
     "name": "stderr",
     "output_type": "stream",
     "text": [
      " 53%|██████████████████████████████████████████████████████████████████████████████▊                                                                      | 992/1875 [00:11<00:09, 90.06it/s]"
     ]
    },
    {
     "name": "stdout",
     "output_type": "stream",
     "text": [
      "LOSS:2.56  ACC:0.38\n",
      "LOSS:2.80  ACC:0.19\n",
      "LOSS:2.14  ACC:0.25\n",
      "LOSS:2.40  ACC:0.25\n",
      "LOSS:2.74  ACC:0.16\n",
      "LOSS:2.22  ACC:0.31\n",
      "LOSS:2.74  ACC:0.25\n",
      "LOSS:2.30  ACC:0.31\n",
      "LOSS:2.27  ACC:0.31\n",
      "LOSS:2.72  ACC:0.19\n",
      "LOSS:2.92  ACC:0.28\n",
      "LOSS:2.97  ACC:0.22\n",
      "LOSS:2.75  ACC:0.19\n",
      "LOSS:2.58  ACC:0.25\n",
      "LOSS:2.72  ACC:0.19\n",
      "LOSS:3.15  ACC:0.22\n",
      "LOSS:2.93  ACC:0.28\n",
      "LOSS:2.79  ACC:0.31\n",
      "LOSS:2.46  ACC:0.44\n"
     ]
    },
    {
     "name": "stderr",
     "output_type": "stream",
     "text": [
      " 54%|███████████████████████████████████████████████████████████████████████████████▉                                                                    | 1012/1875 [00:12<00:09, 89.85it/s]"
     ]
    },
    {
     "name": "stdout",
     "output_type": "stream",
     "text": [
      "LOSS:2.89  ACC:0.28\n",
      "LOSS:2.40  ACC:0.31\n",
      "LOSS:2.93  ACC:0.22\n",
      "LOSS:2.64  ACC:0.22\n",
      "LOSS:2.48  ACC:0.12\n",
      "LOSS:2.54  ACC:0.38\n",
      "LOSS:2.18  ACC:0.38\n",
      "LOSS:2.48  ACC:0.28\n",
      "LOSS:2.53  ACC:0.31\n",
      "LOSS:2.21  ACC:0.22\n",
      "LOSS:3.45  ACC:0.16\n",
      "LOSS:2.01  ACC:0.19\n",
      "LOSS:2.42  ACC:0.22\n",
      "LOSS:2.76  ACC:0.22\n",
      "LOSS:3.00  ACC:0.22\n",
      "LOSS:2.05  ACC:0.31\n",
      "LOSS:2.69  ACC:0.22\n",
      "LOSS:3.02  ACC:0.06\n"
     ]
    },
    {
     "name": "stderr",
     "output_type": "stream",
     "text": [
      " 55%|█████████████████████████████████████████████████████████████████████████████████▍                                                                  | 1032/1875 [00:12<00:09, 91.29it/s]"
     ]
    },
    {
     "name": "stdout",
     "output_type": "stream",
     "text": [
      "LOSS:2.06  ACC:0.41\n",
      "LOSS:2.48  ACC:0.38\n",
      "LOSS:2.55  ACC:0.31\n",
      "LOSS:3.00  ACC:0.16\n",
      "LOSS:2.46  ACC:0.25\n",
      "LOSS:2.86  ACC:0.22\n",
      "LOSS:2.90  ACC:0.22\n",
      "LOSS:3.03  ACC:0.16\n",
      "LOSS:2.32  ACC:0.38\n",
      "LOSS:2.57  ACC:0.31\n",
      "LOSS:2.56  ACC:0.28\n",
      "LOSS:2.62  ACC:0.34\n",
      "LOSS:1.87  ACC:0.53\n",
      "LOSS:2.16  ACC:0.38\n",
      "LOSS:2.71  ACC:0.31\n",
      "LOSS:2.44  ACC:0.28\n",
      "LOSS:2.85  ACC:0.19\n",
      "LOSS:2.83  ACC:0.22\n",
      "LOSS:2.79  ACC:0.19\n"
     ]
    },
    {
     "name": "stderr",
     "output_type": "stream",
     "text": [
      " 56%|███████████████████████████████████████████████████████████████████████████████████                                                                 | 1052/1875 [00:12<00:08, 92.68it/s]"
     ]
    },
    {
     "name": "stdout",
     "output_type": "stream",
     "text": [
      "LOSS:2.60  ACC:0.31\n",
      "LOSS:1.85  ACC:0.44\n",
      "LOSS:2.33  ACC:0.25\n",
      "LOSS:2.48  ACC:0.31\n",
      "LOSS:2.76  ACC:0.19\n",
      "LOSS:2.35  ACC:0.31\n",
      "LOSS:2.48  ACC:0.34\n",
      "LOSS:2.33  ACC:0.31\n",
      "LOSS:2.39  ACC:0.22\n",
      "LOSS:2.32  ACC:0.31\n",
      "LOSS:3.19  ACC:0.16\n",
      "LOSS:2.71  ACC:0.25\n",
      "LOSS:2.46  ACC:0.25\n",
      "LOSS:3.14  ACC:0.12\n",
      "LOSS:3.33  ACC:0.12\n",
      "LOSS:2.60  ACC:0.25\n",
      "LOSS:2.47  ACC:0.28\n",
      "LOSS:2.13  ACC:0.38\n",
      "LOSS:2.40  ACC:0.22\n"
     ]
    },
    {
     "name": "stderr",
     "output_type": "stream",
     "text": [
      " 57%|████████████████████████████████████████████████████████████████████████████████████▌                                                               | 1072/1875 [00:12<00:08, 93.24it/s]"
     ]
    },
    {
     "name": "stdout",
     "output_type": "stream",
     "text": [
      "LOSS:2.83  ACC:0.22\n",
      "LOSS:2.07  ACC:0.34\n",
      "LOSS:1.77  ACC:0.34\n",
      "LOSS:2.34  ACC:0.38\n",
      "LOSS:3.01  ACC:0.16\n",
      "LOSS:2.23  ACC:0.41\n",
      "LOSS:2.02  ACC:0.50\n",
      "LOSS:1.84  ACC:0.31\n",
      "LOSS:1.60  ACC:0.50\n",
      "LOSS:2.82  ACC:0.19\n",
      "LOSS:1.95  ACC:0.28\n",
      "LOSS:2.26  ACC:0.28\n",
      "LOSS:2.31  ACC:0.25\n",
      "LOSS:2.52  ACC:0.31\n",
      "LOSS:2.89  ACC:0.12\n",
      "LOSS:2.38  ACC:0.34\n",
      "LOSS:2.28  ACC:0.38\n",
      "LOSS:2.23  ACC:0.25\n",
      "LOSS:2.06  ACC:0.31\n",
      "LOSS:2.42  ACC:0.38\n"
     ]
    },
    {
     "name": "stderr",
     "output_type": "stream",
     "text": [
      " 58%|██████████████████████████████████████████████████████████████████████████████████████▏                                                             | 1092/1875 [00:12<00:08, 94.04it/s]"
     ]
    },
    {
     "name": "stdout",
     "output_type": "stream",
     "text": [
      "LOSS:2.38  ACC:0.28\n",
      "LOSS:2.28  ACC:0.31\n",
      "LOSS:2.63  ACC:0.22\n",
      "LOSS:2.17  ACC:0.38\n",
      "LOSS:2.56  ACC:0.22\n",
      "LOSS:2.05  ACC:0.31\n",
      "LOSS:2.34  ACC:0.34\n",
      "LOSS:2.38  ACC:0.19\n",
      "LOSS:2.37  ACC:0.25\n",
      "LOSS:2.31  ACC:0.28\n",
      "LOSS:2.27  ACC:0.38\n",
      "LOSS:1.93  ACC:0.44\n",
      "LOSS:2.49  ACC:0.22\n",
      "LOSS:2.95  ACC:0.19\n",
      "LOSS:2.38  ACC:0.28\n",
      "LOSS:2.62  ACC:0.19\n",
      "LOSS:2.48  ACC:0.28\n",
      "LOSS:2.41  ACC:0.25\n",
      "LOSS:2.33  ACC:0.34\n",
      "LOSS:2.62  ACC:0.28\n"
     ]
    },
    {
     "name": "stderr",
     "output_type": "stream",
     "text": [
      "\r",
      " 59%|██████████████████████████████████████████████████████████████████████████████████████▉                                                             | 1102/1875 [00:13<00:08, 93.60it/s]"
     ]
    },
    {
     "name": "stdout",
     "output_type": "stream",
     "text": [
      "LOSS:2.43  ACC:0.38\n",
      "LOSS:2.18  ACC:0.41\n",
      "LOSS:2.25  ACC:0.22\n",
      "LOSS:2.37  ACC:0.28\n",
      "LOSS:2.20  ACC:0.31\n",
      "LOSS:2.53  ACC:0.28\n",
      "LOSS:2.10  ACC:0.28\n",
      "LOSS:2.47  ACC:0.25\n",
      "LOSS:2.83  ACC:0.28\n",
      "LOSS:2.42  ACC:0.31\n",
      "LOSS:2.28  ACC:0.34\n",
      "LOSS:2.61  ACC:0.31\n",
      "LOSS:2.59  ACC:0.22\n",
      "LOSS:2.60  ACC:0.28\n",
      "LOSS:2.22  ACC:0.25\n",
      "LOSS:2.61  ACC:0.22\n",
      "LOSS:2.38  ACC:0.25\n",
      "LOSS:2.11  ACC:0.44\n",
      "LOSS:2.31  ACC:0.28\n"
     ]
    },
    {
     "name": "stderr",
     "output_type": "stream",
     "text": [
      " 60%|████████████████████████████████████████████████████████████████████████████████████████▌                                                           | 1122/1875 [00:13<00:08, 91.77it/s]"
     ]
    },
    {
     "name": "stdout",
     "output_type": "stream",
     "text": [
      "LOSS:2.12  ACC:0.31\n",
      "LOSS:2.64  ACC:0.16\n",
      "LOSS:2.33  ACC:0.25\n",
      "LOSS:1.92  ACC:0.41\n",
      "LOSS:2.34  ACC:0.31\n",
      "LOSS:2.16  ACC:0.38\n",
      "LOSS:2.48  ACC:0.25\n",
      "LOSS:2.13  ACC:0.41\n",
      "LOSS:2.23  ACC:0.50\n",
      "LOSS:2.72  ACC:0.34\n",
      "LOSS:2.95  ACC:0.31\n",
      "LOSS:2.64  ACC:0.22\n",
      "LOSS:2.84  ACC:0.06\n",
      "LOSS:2.89  ACC:0.19\n",
      "LOSS:2.85  ACC:0.25\n",
      "LOSS:2.34  ACC:0.31\n",
      "LOSS:2.47  ACC:0.34\n",
      "LOSS:2.35  ACC:0.22\n",
      "LOSS:2.85  ACC:0.25\n"
     ]
    },
    {
     "name": "stderr",
     "output_type": "stream",
     "text": [
      " 61%|██████████████████████████████████████████████████████████████████████████████████████████▏                                                         | 1142/1875 [00:13<00:08, 91.39it/s]"
     ]
    },
    {
     "name": "stdout",
     "output_type": "stream",
     "text": [
      "LOSS:2.42  ACC:0.25\n",
      "LOSS:2.70  ACC:0.22\n",
      "LOSS:2.27  ACC:0.34\n",
      "LOSS:2.73  ACC:0.28\n",
      "LOSS:2.72  ACC:0.19\n",
      "LOSS:2.57  ACC:0.31\n",
      "LOSS:2.22  ACC:0.28\n",
      "LOSS:2.37  ACC:0.19\n",
      "LOSS:2.58  ACC:0.31\n",
      "LOSS:2.41  ACC:0.47\n",
      "LOSS:2.17  ACC:0.19\n",
      "LOSS:2.62  ACC:0.25\n",
      "LOSS:2.27  ACC:0.22\n",
      "LOSS:2.80  ACC:0.25\n",
      "LOSS:2.17  ACC:0.38\n",
      "LOSS:2.62  ACC:0.19\n",
      "LOSS:2.74  ACC:0.19\n",
      "LOSS:2.12  ACC:0.38\n",
      "LOSS:2.74  ACC:0.25\n"
     ]
    },
    {
     "name": "stderr",
     "output_type": "stream",
     "text": [
      " 62%|███████████████████████████████████████████████████████████████████████████████████████████▋                                                        | 1162/1875 [00:13<00:07, 91.69it/s]"
     ]
    },
    {
     "name": "stdout",
     "output_type": "stream",
     "text": [
      "LOSS:2.12  ACC:0.41\n",
      "LOSS:2.55  ACC:0.44\n",
      "LOSS:2.03  ACC:0.31\n",
      "LOSS:2.65  ACC:0.25\n",
      "LOSS:2.65  ACC:0.25\n",
      "LOSS:1.87  ACC:0.41\n",
      "LOSS:2.77  ACC:0.16\n",
      "LOSS:1.87  ACC:0.47\n",
      "LOSS:2.34  ACC:0.31\n",
      "LOSS:2.75  ACC:0.31\n",
      "LOSS:2.71  ACC:0.25\n",
      "LOSS:2.63  ACC:0.16\n",
      "LOSS:2.59  ACC:0.22\n",
      "LOSS:2.48  ACC:0.31\n",
      "LOSS:2.88  ACC:0.16\n",
      "LOSS:3.40  ACC:0.12\n",
      "LOSS:2.87  ACC:0.22\n",
      "LOSS:2.57  ACC:0.22\n",
      "LOSS:2.82  ACC:0.19\n"
     ]
    },
    {
     "name": "stderr",
     "output_type": "stream",
     "text": [
      " 63%|█████████████████████████████████████████████████████████████████████████████████████████████▎                                                      | 1182/1875 [00:13<00:07, 91.19it/s]"
     ]
    },
    {
     "name": "stdout",
     "output_type": "stream",
     "text": [
      "LOSS:2.28  ACC:0.31\n",
      "LOSS:2.83  ACC:0.16\n",
      "LOSS:3.17  ACC:0.19\n",
      "LOSS:2.80  ACC:0.22\n",
      "LOSS:2.41  ACC:0.38\n",
      "LOSS:2.49  ACC:0.25\n",
      "LOSS:2.76  ACC:0.22\n",
      "LOSS:2.95  ACC:0.25\n",
      "LOSS:1.95  ACC:0.38\n",
      "LOSS:2.37  ACC:0.28\n",
      "LOSS:2.81  ACC:0.16\n",
      "LOSS:2.28  ACC:0.38\n",
      "LOSS:2.84  ACC:0.19\n",
      "LOSS:2.73  ACC:0.28\n",
      "LOSS:2.53  ACC:0.34\n",
      "LOSS:2.52  ACC:0.16\n",
      "LOSS:2.64  ACC:0.19\n",
      "LOSS:2.13  ACC:0.38\n",
      "LOSS:1.91  ACC:0.31\n"
     ]
    },
    {
     "name": "stderr",
     "output_type": "stream",
     "text": [
      " 64%|██████████████████████████████████████████████████████████████████████████████████████████████▉                                                     | 1202/1875 [00:14<00:07, 92.70it/s]"
     ]
    },
    {
     "name": "stdout",
     "output_type": "stream",
     "text": [
      "LOSS:2.94  ACC:0.28\n",
      "LOSS:2.08  ACC:0.34\n",
      "LOSS:2.84  ACC:0.16\n",
      "LOSS:2.73  ACC:0.28\n",
      "LOSS:2.06  ACC:0.41\n",
      "LOSS:1.75  ACC:0.41\n",
      "LOSS:2.19  ACC:0.41\n",
      "LOSS:1.69  ACC:0.44\n",
      "LOSS:1.86  ACC:0.44\n",
      "LOSS:2.21  ACC:0.38\n",
      "LOSS:2.52  ACC:0.31\n",
      "LOSS:2.74  ACC:0.28\n",
      "LOSS:2.57  ACC:0.19\n",
      "LOSS:2.74  ACC:0.19\n",
      "LOSS:2.27  ACC:0.44\n",
      "LOSS:2.08  ACC:0.44\n",
      "LOSS:2.76  ACC:0.28\n",
      "LOSS:1.91  ACC:0.34\n",
      "LOSS:2.44  ACC:0.31\n"
     ]
    },
    {
     "name": "stderr",
     "output_type": "stream",
     "text": [
      " 65%|████████████████████████████████████████████████████████████████████████████████████████████████▍                                                   | 1222/1875 [00:14<00:07, 92.96it/s]"
     ]
    },
    {
     "name": "stdout",
     "output_type": "stream",
     "text": [
      "LOSS:2.23  ACC:0.25\n",
      "LOSS:2.87  ACC:0.25\n",
      "LOSS:1.96  ACC:0.44\n",
      "LOSS:2.03  ACC:0.44\n",
      "LOSS:2.32  ACC:0.31\n",
      "LOSS:2.07  ACC:0.34\n",
      "LOSS:2.80  ACC:0.19\n",
      "LOSS:2.37  ACC:0.28\n",
      "LOSS:2.79  ACC:0.22\n",
      "LOSS:2.59  ACC:0.25\n",
      "LOSS:2.82  ACC:0.22\n",
      "LOSS:2.36  ACC:0.22\n",
      "LOSS:2.02  ACC:0.34\n",
      "LOSS:2.66  ACC:0.31\n",
      "LOSS:2.28  ACC:0.31\n",
      "LOSS:2.49  ACC:0.22\n",
      "LOSS:2.32  ACC:0.31\n",
      "LOSS:2.37  ACC:0.34\n",
      "LOSS:2.35  ACC:0.31\n",
      "LOSS:2.48  ACC:0.28\n"
     ]
    },
    {
     "name": "stderr",
     "output_type": "stream",
     "text": [
      " 66%|██████████████████████████████████████████████████████████████████████████████████████████████████                                                  | 1242/1875 [00:14<00:06, 93.84it/s]"
     ]
    },
    {
     "name": "stdout",
     "output_type": "stream",
     "text": [
      "LOSS:1.94  ACC:0.25\n",
      "LOSS:2.37  ACC:0.31\n",
      "LOSS:2.41  ACC:0.31\n",
      "LOSS:2.52  ACC:0.31\n",
      "LOSS:3.07  ACC:0.19\n",
      "LOSS:2.26  ACC:0.28\n",
      "LOSS:2.67  ACC:0.28\n",
      "LOSS:2.42  ACC:0.38\n",
      "LOSS:2.28  ACC:0.38\n",
      "LOSS:2.06  ACC:0.28\n",
      "LOSS:2.07  ACC:0.34\n",
      "LOSS:2.35  ACC:0.31\n",
      "LOSS:1.91  ACC:0.34\n",
      "LOSS:2.06  ACC:0.34\n",
      "LOSS:2.28  ACC:0.38\n",
      "LOSS:2.02  ACC:0.34\n",
      "LOSS:2.32  ACC:0.25\n",
      "LOSS:1.65  ACC:0.56\n",
      "LOSS:2.53  ACC:0.25\n",
      "LOSS:2.08  ACC:0.34\n"
     ]
    },
    {
     "name": "stderr",
     "output_type": "stream",
     "text": [
      " 67%|███████████████████████████████████████████████████████████████████████████████████████████████████▌                                                | 1262/1875 [00:14<00:06, 94.55it/s]"
     ]
    },
    {
     "name": "stdout",
     "output_type": "stream",
     "text": [
      "LOSS:2.58  ACC:0.28\n",
      "LOSS:2.52  ACC:0.22\n",
      "LOSS:2.43  ACC:0.41\n",
      "LOSS:2.14  ACC:0.34\n",
      "LOSS:2.66  ACC:0.28\n",
      "LOSS:2.35  ACC:0.31\n",
      "LOSS:2.20  ACC:0.31\n",
      "LOSS:2.00  ACC:0.31\n",
      "LOSS:2.03  ACC:0.38\n",
      "LOSS:2.11  ACC:0.31\n",
      "LOSS:2.17  ACC:0.34\n",
      "LOSS:2.16  ACC:0.22\n",
      "LOSS:2.29  ACC:0.31\n",
      "LOSS:2.30  ACC:0.44\n",
      "LOSS:1.95  ACC:0.31\n",
      "LOSS:2.11  ACC:0.44\n",
      "LOSS:2.08  ACC:0.28\n",
      "LOSS:2.53  ACC:0.22\n",
      "LOSS:3.04  ACC:0.12\n"
     ]
    },
    {
     "name": "stderr",
     "output_type": "stream",
     "text": [
      " 68%|█████████████████████████████████████████████████████████████████████████████████████████████████████▏                                              | 1282/1875 [00:14<00:06, 93.63it/s]"
     ]
    },
    {
     "name": "stdout",
     "output_type": "stream",
     "text": [
      "LOSS:2.74  ACC:0.22\n",
      "LOSS:2.92  ACC:0.22\n",
      "LOSS:2.15  ACC:0.31\n",
      "LOSS:2.54  ACC:0.19\n",
      "LOSS:2.33  ACC:0.31\n",
      "LOSS:2.80  ACC:0.28\n",
      "LOSS:2.12  ACC:0.22\n",
      "LOSS:1.82  ACC:0.44\n",
      "LOSS:2.45  ACC:0.28\n",
      "LOSS:2.14  ACC:0.38\n",
      "LOSS:2.41  ACC:0.19\n",
      "LOSS:2.35  ACC:0.31\n",
      "LOSS:2.88  ACC:0.22\n",
      "LOSS:2.02  ACC:0.34\n",
      "LOSS:2.72  ACC:0.19\n",
      "LOSS:1.87  ACC:0.38\n",
      "LOSS:2.86  ACC:0.34\n",
      "LOSS:2.63  ACC:0.25\n",
      "LOSS:2.60  ACC:0.25\n"
     ]
    },
    {
     "name": "stderr",
     "output_type": "stream",
     "text": [
      " 69%|██████████████████████████████████████████████████████████████████████████████████████████████████████▊                                             | 1302/1875 [00:15<00:06, 93.21it/s]"
     ]
    },
    {
     "name": "stdout",
     "output_type": "stream",
     "text": [
      "LOSS:2.02  ACC:0.38\n",
      "LOSS:2.64  ACC:0.16\n",
      "LOSS:2.71  ACC:0.19\n",
      "LOSS:2.44  ACC:0.34\n",
      "LOSS:2.23  ACC:0.38\n",
      "LOSS:2.54  ACC:0.16\n",
      "LOSS:2.46  ACC:0.34\n",
      "LOSS:3.18  ACC:0.16\n",
      "LOSS:2.34  ACC:0.28\n",
      "LOSS:2.49  ACC:0.28\n",
      "LOSS:2.32  ACC:0.25\n",
      "LOSS:2.71  ACC:0.19\n",
      "LOSS:2.81  ACC:0.28\n",
      "LOSS:2.14  ACC:0.31\n",
      "LOSS:3.10  ACC:0.16\n",
      "LOSS:2.50  ACC:0.19\n",
      "LOSS:2.51  ACC:0.25\n",
      "LOSS:2.61  ACC:0.25\n",
      "LOSS:2.78  ACC:0.19\n",
      "LOSS:2.79  ACC:0.16\n"
     ]
    },
    {
     "name": "stderr",
     "output_type": "stream",
     "text": [
      " 71%|████████████████████████████████████████████████████████████████████████████████████████████████████████▎                                           | 1322/1875 [00:15<00:05, 92.90it/s]"
     ]
    },
    {
     "name": "stdout",
     "output_type": "stream",
     "text": [
      "LOSS:2.25  ACC:0.47\n",
      "LOSS:2.64  ACC:0.28\n",
      "LOSS:2.36  ACC:0.31\n",
      "LOSS:2.66  ACC:0.25\n",
      "LOSS:2.24  ACC:0.31\n",
      "LOSS:2.28  ACC:0.19\n",
      "LOSS:2.09  ACC:0.28\n",
      "LOSS:2.63  ACC:0.25\n",
      "LOSS:2.53  ACC:0.34\n",
      "LOSS:2.78  ACC:0.25\n",
      "LOSS:2.23  ACC:0.44\n",
      "LOSS:2.63  ACC:0.28\n",
      "LOSS:2.74  ACC:0.12\n",
      "LOSS:2.50  ACC:0.19\n",
      "LOSS:1.92  ACC:0.38\n",
      "LOSS:2.87  ACC:0.09\n",
      "LOSS:2.60  ACC:0.25\n",
      "LOSS:2.24  ACC:0.25\n",
      "LOSS:2.88  ACC:0.25\n"
     ]
    },
    {
     "name": "stderr",
     "output_type": "stream",
     "text": [
      " 72%|█████████████████████████████████████████████████████████████████████████████████████████████████████████▉                                          | 1342/1875 [00:15<00:05, 93.30it/s]"
     ]
    },
    {
     "name": "stdout",
     "output_type": "stream",
     "text": [
      "LOSS:2.45  ACC:0.22\n",
      "LOSS:2.74  ACC:0.28\n",
      "LOSS:2.37  ACC:0.31\n",
      "LOSS:2.23  ACC:0.38\n",
      "LOSS:2.77  ACC:0.28\n",
      "LOSS:2.77  ACC:0.22\n",
      "LOSS:2.69  ACC:0.22\n",
      "LOSS:2.80  ACC:0.25\n",
      "LOSS:2.31  ACC:0.31\n",
      "LOSS:2.37  ACC:0.25\n",
      "LOSS:3.21  ACC:0.16\n",
      "LOSS:2.94  ACC:0.22\n",
      "LOSS:2.79  ACC:0.25\n",
      "LOSS:2.19  ACC:0.38\n",
      "LOSS:2.55  ACC:0.19\n",
      "LOSS:2.21  ACC:0.28\n",
      "LOSS:1.98  ACC:0.38\n",
      "LOSS:1.72  ACC:0.44\n",
      "LOSS:2.69  ACC:0.19\n",
      "LOSS:2.42  ACC:0.28\n"
     ]
    },
    {
     "name": "stderr",
     "output_type": "stream",
     "text": [
      " 73%|███████████████████████████████████████████████████████████████████████████████████████████████████████████▌                                        | 1362/1875 [00:15<00:05, 93.96it/s]"
     ]
    },
    {
     "name": "stdout",
     "output_type": "stream",
     "text": [
      "LOSS:2.73  ACC:0.22\n",
      "LOSS:2.10  ACC:0.34\n",
      "LOSS:2.88  ACC:0.16\n",
      "LOSS:2.89  ACC:0.19\n",
      "LOSS:2.55  ACC:0.22\n",
      "LOSS:2.61  ACC:0.22\n",
      "LOSS:2.28  ACC:0.28\n",
      "LOSS:2.63  ACC:0.25\n",
      "LOSS:3.15  ACC:0.19\n",
      "LOSS:2.37  ACC:0.31\n",
      "LOSS:2.69  ACC:0.22\n",
      "LOSS:2.46  ACC:0.25\n",
      "LOSS:2.73  ACC:0.28\n",
      "LOSS:2.00  ACC:0.31\n",
      "LOSS:2.27  ACC:0.31\n",
      "LOSS:1.79  ACC:0.41\n",
      "LOSS:2.64  ACC:0.25\n",
      "LOSS:2.70  ACC:0.28\n",
      "LOSS:2.35  ACC:0.34\n",
      "LOSS:1.74  ACC:0.38\n"
     ]
    },
    {
     "name": "stderr",
     "output_type": "stream",
     "text": [
      " 74%|█████████████████████████████████████████████████████████████████████████████████████████████████████████████                                       | 1382/1875 [00:16<00:05, 92.56it/s]"
     ]
    },
    {
     "name": "stdout",
     "output_type": "stream",
     "text": [
      "LOSS:2.57  ACC:0.22\n",
      "LOSS:2.53  ACC:0.16\n",
      "LOSS:2.17  ACC:0.28\n",
      "LOSS:2.21  ACC:0.25\n",
      "LOSS:2.54  ACC:0.28\n",
      "LOSS:2.29  ACC:0.31\n",
      "LOSS:2.40  ACC:0.22\n",
      "LOSS:2.25  ACC:0.34\n",
      "LOSS:2.09  ACC:0.38\n",
      "LOSS:2.31  ACC:0.22\n",
      "LOSS:2.86  ACC:0.28\n",
      "LOSS:1.92  ACC:0.41\n",
      "LOSS:2.51  ACC:0.28\n",
      "LOSS:1.97  ACC:0.34\n",
      "LOSS:2.55  ACC:0.25\n",
      "LOSS:2.66  ACC:0.19\n",
      "LOSS:2.36  ACC:0.19\n",
      "LOSS:2.66  ACC:0.19\n",
      "LOSS:2.72  ACC:0.25\n"
     ]
    },
    {
     "name": "stderr",
     "output_type": "stream",
     "text": [
      "\r",
      " 74%|█████████████████████████████████████████████████████████████████████████████████████████████████████████████▉                                      | 1392/1875 [00:16<00:05, 89.49it/s]"
     ]
    },
    {
     "name": "stdout",
     "output_type": "stream",
     "text": [
      "LOSS:2.61  ACC:0.22\n",
      "LOSS:2.81  ACC:0.12\n",
      "LOSS:2.53  ACC:0.19\n",
      "LOSS:2.78  ACC:0.12\n",
      "LOSS:2.18  ACC:0.31\n",
      "LOSS:2.59  ACC:0.28\n",
      "LOSS:2.25  ACC:0.31\n",
      "LOSS:2.08  ACC:0.31\n",
      "LOSS:2.48  ACC:0.31\n",
      "LOSS:2.22  ACC:0.25\n",
      "LOSS:2.67  ACC:0.44\n",
      "LOSS:2.24  ACC:0.31\n",
      "LOSS:2.05  ACC:0.34\n",
      "LOSS:2.42  ACC:0.28\n",
      "LOSS:2.58  ACC:0.31\n",
      "LOSS:2.94  ACC:0.25\n",
      "LOSS:2.48  ACC:0.25\n",
      "LOSS:2.76  ACC:0.19\n"
     ]
    },
    {
     "name": "stderr",
     "output_type": "stream",
     "text": [
      " 75%|███████████████████████████████████████████████████████████████████████████████████████████████████████████████▍                                    | 1412/1875 [00:16<00:05, 91.45it/s]"
     ]
    },
    {
     "name": "stdout",
     "output_type": "stream",
     "text": [
      "LOSS:2.61  ACC:0.41\n",
      "LOSS:2.22  ACC:0.34\n",
      "LOSS:2.41  ACC:0.31\n",
      "LOSS:2.36  ACC:0.28\n",
      "LOSS:2.83  ACC:0.16\n",
      "LOSS:1.81  ACC:0.38\n",
      "LOSS:2.19  ACC:0.34\n",
      "LOSS:1.91  ACC:0.38\n",
      "LOSS:2.33  ACC:0.22\n",
      "LOSS:3.31  ACC:0.16\n",
      "LOSS:2.92  ACC:0.25\n",
      "LOSS:2.61  ACC:0.22\n",
      "LOSS:3.19  ACC:0.19\n",
      "LOSS:2.90  ACC:0.25\n",
      "LOSS:3.48  ACC:0.22\n",
      "LOSS:2.98  ACC:0.31\n",
      "LOSS:2.25  ACC:0.41\n",
      "LOSS:1.95  ACC:0.41\n",
      "LOSS:1.83  ACC:0.41\n",
      "LOSS:2.39  ACC:0.22\n"
     ]
    },
    {
     "name": "stderr",
     "output_type": "stream",
     "text": [
      " 76%|█████████████████████████████████████████████████████████████████████████████████████████████████████████████████                                   | 1432/1875 [00:16<00:04, 92.11it/s]"
     ]
    },
    {
     "name": "stdout",
     "output_type": "stream",
     "text": [
      "LOSS:2.65  ACC:0.19\n",
      "LOSS:2.70  ACC:0.25\n",
      "LOSS:2.55  ACC:0.34\n",
      "LOSS:2.41  ACC:0.31\n",
      "LOSS:1.96  ACC:0.50\n",
      "LOSS:3.01  ACC:0.19\n",
      "LOSS:2.80  ACC:0.22\n",
      "LOSS:2.24  ACC:0.34\n",
      "LOSS:2.77  ACC:0.19\n",
      "LOSS:2.75  ACC:0.28\n",
      "LOSS:2.95  ACC:0.22\n",
      "LOSS:1.94  ACC:0.41\n",
      "LOSS:2.78  ACC:0.28\n",
      "LOSS:2.91  ACC:0.09\n",
      "LOSS:2.54  ACC:0.34\n",
      "LOSS:2.04  ACC:0.38\n",
      "LOSS:2.51  ACC:0.25\n",
      "LOSS:1.66  ACC:0.44\n",
      "LOSS:2.86  ACC:0.16\n"
     ]
    },
    {
     "name": "stderr",
     "output_type": "stream",
     "text": [
      " 77%|██████████████████████████████████████████████████████████████████████████████████████████████████████████████████▌                                 | 1452/1875 [00:16<00:04, 93.41it/s]"
     ]
    },
    {
     "name": "stdout",
     "output_type": "stream",
     "text": [
      "LOSS:2.46  ACC:0.16\n",
      "LOSS:2.34  ACC:0.28\n",
      "LOSS:2.11  ACC:0.47\n",
      "LOSS:1.99  ACC:0.25\n",
      "LOSS:2.31  ACC:0.38\n",
      "LOSS:2.31  ACC:0.25\n",
      "LOSS:2.26  ACC:0.28\n",
      "LOSS:2.06  ACC:0.38\n",
      "LOSS:2.43  ACC:0.28\n",
      "LOSS:2.11  ACC:0.34\n",
      "LOSS:2.75  ACC:0.31\n",
      "LOSS:2.33  ACC:0.22\n",
      "LOSS:2.29  ACC:0.25\n",
      "LOSS:2.37  ACC:0.38\n",
      "LOSS:2.18  ACC:0.38\n",
      "LOSS:2.67  ACC:0.25\n",
      "LOSS:2.18  ACC:0.28\n",
      "LOSS:2.71  ACC:0.38\n",
      "LOSS:2.20  ACC:0.31\n"
     ]
    },
    {
     "name": "stderr",
     "output_type": "stream",
     "text": [
      " 79%|████████████████████████████████████████████████████████████████████████████████████████████████████████████████████▏                               | 1472/1875 [00:17<00:04, 92.52it/s]"
     ]
    },
    {
     "name": "stdout",
     "output_type": "stream",
     "text": [
      "LOSS:2.34  ACC:0.31\n",
      "LOSS:2.27  ACC:0.25\n",
      "LOSS:2.30  ACC:0.22\n",
      "LOSS:2.61  ACC:0.25\n",
      "LOSS:2.02  ACC:0.34\n",
      "LOSS:2.39  ACC:0.25\n",
      "LOSS:2.20  ACC:0.41\n",
      "LOSS:2.37  ACC:0.31\n",
      "LOSS:2.46  ACC:0.38\n",
      "LOSS:2.40  ACC:0.31\n",
      "LOSS:2.89  ACC:0.19\n",
      "LOSS:3.02  ACC:0.16\n",
      "LOSS:2.09  ACC:0.22\n",
      "LOSS:2.55  ACC:0.25\n",
      "LOSS:2.63  ACC:0.28\n",
      "LOSS:2.63  ACC:0.19\n",
      "LOSS:2.05  ACC:0.44\n",
      "LOSS:3.04  ACC:0.34\n",
      "LOSS:2.36  ACC:0.22\n"
     ]
    },
    {
     "name": "stderr",
     "output_type": "stream",
     "text": [
      " 80%|█████████████████████████████████████████████████████████████████████████████████████████████████████████████████████▊                              | 1492/1875 [00:17<00:04, 90.71it/s]"
     ]
    },
    {
     "name": "stdout",
     "output_type": "stream",
     "text": [
      "LOSS:3.16  ACC:0.25\n",
      "LOSS:2.77  ACC:0.25\n",
      "LOSS:2.44  ACC:0.28\n",
      "LOSS:2.15  ACC:0.31\n",
      "LOSS:2.67  ACC:0.31\n",
      "LOSS:2.19  ACC:0.31\n",
      "LOSS:2.56  ACC:0.25\n",
      "LOSS:2.76  ACC:0.25\n",
      "LOSS:2.81  ACC:0.22\n",
      "LOSS:3.19  ACC:0.16\n",
      "LOSS:3.30  ACC:0.12\n",
      "LOSS:3.08  ACC:0.25\n",
      "LOSS:2.94  ACC:0.31\n",
      "LOSS:2.60  ACC:0.31\n",
      "LOSS:2.21  ACC:0.34\n",
      "LOSS:2.47  ACC:0.28\n",
      "LOSS:2.45  ACC:0.31\n",
      "LOSS:1.99  ACC:0.41\n",
      "LOSS:2.55  ACC:0.28\n"
     ]
    },
    {
     "name": "stderr",
     "output_type": "stream",
     "text": [
      " 81%|███████████████████████████████████████████████████████████████████████████████████████████████████████████████████████▎                            | 1512/1875 [00:17<00:03, 91.26it/s]"
     ]
    },
    {
     "name": "stdout",
     "output_type": "stream",
     "text": [
      "LOSS:2.32  ACC:0.25\n",
      "LOSS:1.96  ACC:0.31\n",
      "LOSS:3.00  ACC:0.16\n",
      "LOSS:2.27  ACC:0.41\n",
      "LOSS:2.96  ACC:0.31\n",
      "LOSS:2.79  ACC:0.25\n",
      "LOSS:2.72  ACC:0.22\n",
      "LOSS:2.15  ACC:0.34\n",
      "LOSS:2.51  ACC:0.31\n",
      "LOSS:1.83  ACC:0.44\n",
      "LOSS:2.50  ACC:0.22\n",
      "LOSS:2.21  ACC:0.25\n",
      "LOSS:2.44  ACC:0.31\n",
      "LOSS:2.05  ACC:0.34\n",
      "LOSS:2.06  ACC:0.22\n",
      "LOSS:3.00  ACC:0.28\n",
      "LOSS:2.03  ACC:0.31\n",
      "LOSS:2.29  ACC:0.41\n",
      "LOSS:2.37  ACC:0.19\n"
     ]
    },
    {
     "name": "stderr",
     "output_type": "stream",
     "text": [
      " 82%|████████████████████████████████████████████████████████████████████████████████████████████████████████████████████████▉                           | 1532/1875 [00:17<00:03, 91.64it/s]"
     ]
    },
    {
     "name": "stdout",
     "output_type": "stream",
     "text": [
      "LOSS:3.01  ACC:0.09\n",
      "LOSS:2.48  ACC:0.28\n",
      "LOSS:2.75  ACC:0.19\n",
      "LOSS:2.43  ACC:0.28\n",
      "LOSS:2.51  ACC:0.22\n",
      "LOSS:2.92  ACC:0.25\n",
      "LOSS:2.67  ACC:0.25\n",
      "LOSS:2.35  ACC:0.25\n",
      "LOSS:2.47  ACC:0.25\n",
      "LOSS:2.36  ACC:0.28\n",
      "LOSS:2.10  ACC:0.34\n",
      "LOSS:1.88  ACC:0.38\n",
      "LOSS:2.71  ACC:0.19\n",
      "LOSS:2.05  ACC:0.38\n",
      "LOSS:2.69  ACC:0.16\n",
      "LOSS:2.65  ACC:0.19\n",
      "LOSS:2.67  ACC:0.22\n",
      "LOSS:2.87  ACC:0.16\n",
      "LOSS:1.67  ACC:0.44\n"
     ]
    },
    {
     "name": "stderr",
     "output_type": "stream",
     "text": [
      " 83%|██████████████████████████████████████████████████████████████████████████████████████████████████████████████████████████▌                         | 1552/1875 [00:17<00:03, 91.61it/s]"
     ]
    },
    {
     "name": "stdout",
     "output_type": "stream",
     "text": [
      "LOSS:3.00  ACC:0.19\n",
      "LOSS:2.28  ACC:0.38\n",
      "LOSS:2.66  ACC:0.16\n",
      "LOSS:2.50  ACC:0.31\n",
      "LOSS:2.46  ACC:0.31\n",
      "LOSS:2.68  ACC:0.25\n",
      "LOSS:1.82  ACC:0.41\n",
      "LOSS:2.17  ACC:0.34\n",
      "LOSS:2.76  ACC:0.31\n",
      "LOSS:2.31  ACC:0.47\n",
      "LOSS:3.03  ACC:0.25\n",
      "LOSS:2.89  ACC:0.12\n",
      "LOSS:2.83  ACC:0.22\n",
      "LOSS:2.72  ACC:0.25\n",
      "LOSS:2.98  ACC:0.16\n",
      "LOSS:2.61  ACC:0.22\n",
      "LOSS:2.08  ACC:0.34\n",
      "LOSS:2.68  ACC:0.31\n",
      "LOSS:2.61  ACC:0.28\n"
     ]
    },
    {
     "name": "stderr",
     "output_type": "stream",
     "text": [
      "\r",
      " 83%|███████████████████████████████████████████████████████████████████████████████████████████████████████████████████████████▎                        | 1562/1875 [00:18<00:03, 90.98it/s]"
     ]
    },
    {
     "name": "stdout",
     "output_type": "stream",
     "text": [
      "LOSS:2.35  ACC:0.28\n",
      "LOSS:2.22  ACC:0.38\n",
      "LOSS:2.95  ACC:0.28\n",
      "LOSS:2.92  ACC:0.25\n",
      "LOSS:2.54  ACC:0.34\n",
      "LOSS:2.42  ACC:0.31\n",
      "LOSS:2.88  ACC:0.25\n",
      "LOSS:2.49  ACC:0.38\n",
      "LOSS:2.25  ACC:0.28\n",
      "LOSS:3.88  ACC:0.09\n",
      "LOSS:2.39  ACC:0.31\n",
      "LOSS:2.29  ACC:0.31\n",
      "LOSS:2.61  ACC:0.19\n",
      "LOSS:2.21  ACC:0.25\n",
      "LOSS:3.01  ACC:0.22\n",
      "LOSS:2.38  ACC:0.28\n",
      "LOSS:2.43  ACC:0.28\n",
      "LOSS:2.81  ACC:0.19\n"
     ]
    },
    {
     "name": "stderr",
     "output_type": "stream",
     "text": [
      " 84%|████████████████████████████████████████████████████████████████████████████████████████████████████████████████████████████▊                       | 1582/1875 [00:18<00:03, 90.67it/s]"
     ]
    },
    {
     "name": "stdout",
     "output_type": "stream",
     "text": [
      "LOSS:2.44  ACC:0.25\n",
      "LOSS:2.52  ACC:0.28\n",
      "LOSS:2.36  ACC:0.31\n",
      "LOSS:2.62  ACC:0.34\n",
      "LOSS:2.90  ACC:0.12\n",
      "LOSS:2.18  ACC:0.31\n",
      "LOSS:2.10  ACC:0.34\n",
      "LOSS:2.79  ACC:0.22\n",
      "LOSS:3.27  ACC:0.28\n",
      "LOSS:2.94  ACC:0.25\n",
      "LOSS:2.85  ACC:0.25\n",
      "LOSS:2.88  ACC:0.31\n",
      "LOSS:2.78  ACC:0.19\n",
      "LOSS:3.11  ACC:0.25\n",
      "LOSS:2.82  ACC:0.22\n",
      "LOSS:2.76  ACC:0.25\n",
      "LOSS:2.52  ACC:0.38\n",
      "LOSS:1.86  ACC:0.38\n",
      "LOSS:2.03  ACC:0.41\n"
     ]
    },
    {
     "name": "stderr",
     "output_type": "stream",
     "text": [
      " 85%|██████████████████████████████████████████████████████████████████████████████████████████████████████████████████████████████▍                     | 1602/1875 [00:18<00:03, 89.23it/s]"
     ]
    },
    {
     "name": "stdout",
     "output_type": "stream",
     "text": [
      "LOSS:3.00  ACC:0.22\n",
      "LOSS:2.17  ACC:0.41\n",
      "LOSS:2.27  ACC:0.31\n",
      "LOSS:2.49  ACC:0.31\n",
      "LOSS:1.60  ACC:0.53\n",
      "LOSS:2.27  ACC:0.34\n",
      "LOSS:2.95  ACC:0.16\n",
      "LOSS:2.47  ACC:0.22\n",
      "LOSS:2.66  ACC:0.22\n",
      "LOSS:2.43  ACC:0.28\n",
      "LOSS:2.45  ACC:0.28\n",
      "LOSS:2.55  ACC:0.22\n",
      "LOSS:2.02  ACC:0.25\n",
      "LOSS:2.94  ACC:0.09\n",
      "LOSS:2.07  ACC:0.31\n",
      "LOSS:2.14  ACC:0.38\n",
      "LOSS:2.54  ACC:0.28\n",
      "LOSS:2.48  ACC:0.25\n"
     ]
    },
    {
     "name": "stderr",
     "output_type": "stream",
     "text": [
      " 86%|███████████████████████████████████████████████████████████████████████████████████████████████████████████████████████████████▊                    | 1620/1875 [00:18<00:02, 88.59it/s]"
     ]
    },
    {
     "name": "stdout",
     "output_type": "stream",
     "text": [
      "LOSS:2.96  ACC:0.19\n",
      "LOSS:2.56  ACC:0.25\n",
      "LOSS:2.28  ACC:0.38\n",
      "LOSS:2.56  ACC:0.34\n",
      "LOSS:3.13  ACC:0.22\n",
      "LOSS:2.63  ACC:0.22\n",
      "LOSS:2.49  ACC:0.28\n",
      "LOSS:1.70  ACC:0.44\n",
      "LOSS:2.27  ACC:0.34\n",
      "LOSS:2.58  ACC:0.34\n",
      "LOSS:2.34  ACC:0.31\n",
      "LOSS:1.72  ACC:0.59\n",
      "LOSS:2.82  ACC:0.31\n",
      "LOSS:2.10  ACC:0.38\n",
      "LOSS:2.33  ACC:0.25\n",
      "LOSS:2.49  ACC:0.31\n",
      "LOSS:2.74  ACC:0.19\n",
      "LOSS:2.11  ACC:0.34\n"
     ]
    },
    {
     "name": "stderr",
     "output_type": "stream",
     "text": [
      " 87%|█████████████████████████████████████████████████████████████████████████████████████████████████████████████████████████████████▎                  | 1638/1875 [00:18<00:02, 88.53it/s]"
     ]
    },
    {
     "name": "stdout",
     "output_type": "stream",
     "text": [
      "LOSS:1.89  ACC:0.47\n",
      "LOSS:2.50  ACC:0.28\n",
      "LOSS:2.75  ACC:0.19\n",
      "LOSS:2.71  ACC:0.22\n",
      "LOSS:3.13  ACC:0.16\n",
      "LOSS:2.21  ACC:0.25\n",
      "LOSS:2.49  ACC:0.31\n",
      "LOSS:2.30  ACC:0.31\n",
      "LOSS:2.33  ACC:0.25\n",
      "LOSS:2.34  ACC:0.25\n",
      "LOSS:2.09  ACC:0.41\n",
      "LOSS:2.67  ACC:0.25\n",
      "LOSS:2.66  ACC:0.22\n",
      "LOSS:2.67  ACC:0.38\n",
      "LOSS:2.14  ACC:0.34\n",
      "LOSS:2.45  ACC:0.31\n",
      "LOSS:2.00  ACC:0.25\n"
     ]
    },
    {
     "name": "stderr",
     "output_type": "stream",
     "text": [
      " 88%|██████████████████████████████████████████████████████████████████████████████████████████████████████████████████████████████████▊                 | 1657/1875 [00:19<00:02, 87.50it/s]"
     ]
    },
    {
     "name": "stdout",
     "output_type": "stream",
     "text": [
      "LOSS:2.42  ACC:0.31\n",
      "LOSS:1.63  ACC:0.41\n",
      "LOSS:2.32  ACC:0.31\n",
      "LOSS:2.75  ACC:0.22\n",
      "LOSS:2.37  ACC:0.25\n",
      "LOSS:2.67  ACC:0.19\n",
      "LOSS:3.06  ACC:0.09\n",
      "LOSS:2.55  ACC:0.22\n",
      "LOSS:2.45  ACC:0.38\n",
      "LOSS:2.53  ACC:0.28\n",
      "LOSS:3.06  ACC:0.19\n",
      "LOSS:2.55  ACC:0.28\n",
      "LOSS:2.45  ACC:0.25\n",
      "LOSS:2.53  ACC:0.25\n",
      "LOSS:2.69  ACC:0.34\n",
      "LOSS:2.31  ACC:0.28\n",
      "LOSS:2.18  ACC:0.44\n",
      "LOSS:2.22  ACC:0.28\n",
      "LOSS:2.26  ACC:0.31\n",
      "LOSS:2.58  ACC:0.28\n"
     ]
    },
    {
     "name": "stderr",
     "output_type": "stream",
     "text": [
      " 89%|████████████████████████████████████████████████████████████████████████████████████████████████████████████████████████████████████▎               | 1677/1875 [00:19<00:02, 90.69it/s]"
     ]
    },
    {
     "name": "stdout",
     "output_type": "stream",
     "text": [
      "LOSS:2.52  ACC:0.28\n",
      "LOSS:2.37  ACC:0.22\n",
      "LOSS:2.80  ACC:0.28\n",
      "LOSS:2.46  ACC:0.31\n",
      "LOSS:1.76  ACC:0.47\n",
      "LOSS:2.47  ACC:0.22\n",
      "LOSS:2.27  ACC:0.38\n",
      "LOSS:2.49  ACC:0.31\n",
      "LOSS:2.91  ACC:0.25\n",
      "LOSS:2.57  ACC:0.22\n",
      "LOSS:2.11  ACC:0.41\n",
      "LOSS:2.32  ACC:0.31\n",
      "LOSS:2.73  ACC:0.31\n",
      "LOSS:2.98  ACC:0.16\n",
      "LOSS:2.27  ACC:0.31\n",
      "LOSS:2.24  ACC:0.25\n",
      "LOSS:2.90  ACC:0.22\n",
      "LOSS:2.33  ACC:0.22\n",
      "LOSS:1.83  ACC:0.41\n"
     ]
    },
    {
     "name": "stderr",
     "output_type": "stream",
     "text": [
      " 91%|█████████████████████████████████████████████████████████████████████████████████████████████████████████████████████████████████████▉              | 1697/1875 [00:19<00:01, 90.81it/s]"
     ]
    },
    {
     "name": "stdout",
     "output_type": "stream",
     "text": [
      "LOSS:2.22  ACC:0.25\n",
      "LOSS:2.23  ACC:0.38\n",
      "LOSS:1.90  ACC:0.41\n",
      "LOSS:2.08  ACC:0.38\n",
      "LOSS:2.28  ACC:0.25\n",
      "LOSS:2.35  ACC:0.34\n",
      "LOSS:2.53  ACC:0.34\n",
      "LOSS:2.46  ACC:0.31\n",
      "LOSS:2.71  ACC:0.28\n",
      "LOSS:2.66  ACC:0.28\n",
      "LOSS:2.45  ACC:0.31\n",
      "LOSS:2.96  ACC:0.19\n",
      "LOSS:2.28  ACC:0.28\n",
      "LOSS:2.34  ACC:0.28\n",
      "LOSS:2.29  ACC:0.16\n",
      "LOSS:2.27  ACC:0.38\n",
      "LOSS:2.38  ACC:0.34\n",
      "LOSS:2.17  ACC:0.31\n",
      "LOSS:1.81  ACC:0.31\n"
     ]
    },
    {
     "name": "stderr",
     "output_type": "stream",
     "text": [
      " 92%|███████████████████████████████████████████████████████████████████████████████████████████████████████████████████████████████████████▌            | 1717/1875 [00:19<00:01, 89.99it/s]"
     ]
    },
    {
     "name": "stdout",
     "output_type": "stream",
     "text": [
      "LOSS:2.18  ACC:0.34\n",
      "LOSS:3.15  ACC:0.28\n",
      "LOSS:2.63  ACC:0.16\n",
      "LOSS:1.98  ACC:0.34\n",
      "LOSS:2.44  ACC:0.28\n",
      "LOSS:1.86  ACC:0.50\n",
      "LOSS:2.24  ACC:0.44\n",
      "LOSS:2.72  ACC:0.34\n",
      "LOSS:1.80  ACC:0.50\n",
      "LOSS:2.71  ACC:0.25\n",
      "LOSS:1.92  ACC:0.38\n",
      "LOSS:1.90  ACC:0.38\n",
      "LOSS:2.03  ACC:0.38\n",
      "LOSS:1.91  ACC:0.31\n",
      "LOSS:2.63  ACC:0.25\n",
      "LOSS:2.99  ACC:0.19\n",
      "LOSS:2.48  ACC:0.34\n",
      "LOSS:1.83  ACC:0.44\n",
      "LOSS:2.19  ACC:0.44\n"
     ]
    },
    {
     "name": "stderr",
     "output_type": "stream",
     "text": [
      " 93%|█████████████████████████████████████████████████████████████████████████████████████████████████████████████████████████████████████████           | 1737/1875 [00:19<00:01, 91.29it/s]"
     ]
    },
    {
     "name": "stdout",
     "output_type": "stream",
     "text": [
      "LOSS:2.35  ACC:0.34\n",
      "LOSS:2.31  ACC:0.31\n",
      "LOSS:2.18  ACC:0.25\n",
      "LOSS:2.34  ACC:0.28\n",
      "LOSS:2.60  ACC:0.16\n",
      "LOSS:2.61  ACC:0.22\n",
      "LOSS:2.42  ACC:0.25\n",
      "LOSS:2.69  ACC:0.31\n",
      "LOSS:2.44  ACC:0.22\n",
      "LOSS:1.90  ACC:0.31\n",
      "LOSS:2.59  ACC:0.19\n",
      "LOSS:2.04  ACC:0.50\n",
      "LOSS:3.34  ACC:0.16\n",
      "LOSS:2.10  ACC:0.34\n",
      "LOSS:2.41  ACC:0.19\n",
      "LOSS:2.57  ACC:0.22\n",
      "LOSS:2.28  ACC:0.38\n",
      "LOSS:1.78  ACC:0.38\n",
      "LOSS:2.19  ACC:0.31\n"
     ]
    },
    {
     "name": "stderr",
     "output_type": "stream",
     "text": [
      " 93%|██████████████████████████████████████████████████████████████████████████████████████████████████████████████████████████████████████████          | 1749/1875 [00:20<00:01, 86.94it/s]"
     ]
    },
    {
     "name": "stdout",
     "output_type": "stream",
     "text": [
      "LOSS:2.09  ACC:0.28\n",
      "LOSS:2.19  ACC:0.31\n",
      "LOSS:2.56  ACC:0.31\n",
      "LOSS:2.50  ACC:0.22\n",
      "LOSS:2.54  ACC:0.38\n",
      "LOSS:2.41  ACC:0.34\n",
      "LOSS:2.38  ACC:0.25\n",
      "LOSS:2.57  ACC:0.28\n",
      "LOSS:2.48  ACC:0.16\n",
      "LOSS:2.58  ACC:0.34\n"
     ]
    },
    {
     "name": "stderr",
     "output_type": "stream",
     "text": [
      "\n"
     ]
    },
    {
     "ename": "KeyboardInterrupt",
     "evalue": "",
     "output_type": "error",
     "traceback": [
      "\u001b[0;31m---------------------------------------------------------------------------\u001b[0m",
      "\u001b[0;31mKeyboardInterrupt\u001b[0m                         Traceback (most recent call last)",
      "\u001b[0;32m/tmp/ipykernel_17655/1649058886.py\u001b[0m in \u001b[0;36m<module>\u001b[0;34m\u001b[0m\n\u001b[1;32m     10\u001b[0m         \u001b[0moptimizer2\u001b[0m\u001b[0;34m.\u001b[0m\u001b[0mzero_grad\u001b[0m\u001b[0;34m(\u001b[0m\u001b[0;34m)\u001b[0m\u001b[0;34m\u001b[0m\u001b[0;34m\u001b[0m\u001b[0m\n\u001b[1;32m     11\u001b[0m         \u001b[0mres2\u001b[0m \u001b[0;34m=\u001b[0m \u001b[0mmodel2\u001b[0m\u001b[0;34m.\u001b[0m\u001b[0mforward\u001b[0m\u001b[0;34m(\u001b[0m\u001b[0mx\u001b[0m\u001b[0;34m)\u001b[0m\u001b[0;34m\u001b[0m\u001b[0;34m\u001b[0m\u001b[0m\n\u001b[0;32m---> 12\u001b[0;31m         \u001b[0mloss2\u001b[0m \u001b[0;34m=\u001b[0m \u001b[0mloss_fn\u001b[0m\u001b[0;34m(\u001b[0m\u001b[0mres2\u001b[0m\u001b[0;34m,\u001b[0m \u001b[0my\u001b[0m\u001b[0;34m)\u001b[0m\u001b[0;34m\u001b[0m\u001b[0;34m\u001b[0m\u001b[0m\n\u001b[0m\u001b[1;32m     13\u001b[0m         \u001b[0;31m#print(res2.cpu().data[:4])\u001b[0m\u001b[0;34m\u001b[0m\u001b[0;34m\u001b[0m\u001b[0;34m\u001b[0m\u001b[0m\n\u001b[1;32m     14\u001b[0m         \u001b[0;31m#print(y[:4])\u001b[0m\u001b[0;34m\u001b[0m\u001b[0;34m\u001b[0m\u001b[0;34m\u001b[0m\u001b[0m\n",
      "\u001b[0;31mKeyboardInterrupt\u001b[0m: "
     ]
    }
   ],
   "source": [
    "BS = dim1\n",
    "epochs = 10\n",
    "\n",
    "for epoch in range(epochs):\n",
    "    losses = []\n",
    "    accs = []\n",
    "    for i in trange(int(X_train.shape[0]/BS)):\n",
    "        x = DenseTensor(X_train[i*BS:(i+1)*BS])\n",
    "        y = Y_train[i*BS:(i+1)*BS]\n",
    "        optimizer2.zero_grad()\n",
    "        res2 = model2.forward(x)\n",
    "        loss2 = loss_fn(res2, y)\n",
    "        #print(res2.cpu().data[:4])\n",
    "        #print(y[:4])\n",
    "        loss2.backward()\n",
    "        optimizer2.step()\n",
    "        \n",
    "        cat = np.argmax(res2.cpu().data, axis=-1)\n",
    "        accuracy = (cat == y).mean()\n",
    "        \n",
    "        losses.append(loss2.cpu().data)\n",
    "        accs.append(accuracy)\n",
    "        if i % 1 == 0:\n",
    "            print(\"LOSS:%.2f  ACC:%.2f\" % (np.array(losses).mean(), np.array(accs).mean()))\n",
    "            accs, losses = [], []  \n",
    "            \n",
    "    losses = []\n",
    "    accs = []\n",
    "    for i in trange(int(X_test.shape[0]/BS)):\n",
    "        x = DenseTensor(X_test[i*BS:(i+1)*BS])\n",
    "        y = Y_test[i*BS:(i+1)*BS]\n",
    "        res2 = model2.forward(x)\n",
    "        loss2 = loss_fn(res2, y)\n",
    "        \n",
    "        cat = np.argmax(res2.cpu().data, axis=-1)\n",
    "        accuracy = (cat == y).mean()\n",
    "        \n",
    "        losses.append(loss2.cpu().data)\n",
    "        accs.append(accuracy)\n",
    "        if i % 32 == 0:\n",
    "            print(\"TEST_LOSS:%.2f  TEST_ACC:%.2f\" % (np.array(losses).mean(), np.array(accs).mean()))\n",
    "            accs, losses = [], []"
   ]
  },
  {
   "cell_type": "code",
   "execution_count": null,
   "id": "e8576d40",
   "metadata": {},
   "outputs": [],
   "source": [
    "res2.cpu().data==res.cpu().data"
   ]
  },
  {
   "cell_type": "code",
   "execution_count": null,
   "id": "56fc46b0",
   "metadata": {},
   "outputs": [],
   "source": [
    "res2.cpu().data"
   ]
  },
  {
   "cell_type": "code",
   "execution_count": null,
   "id": "dbd0474e",
   "metadata": {},
   "outputs": [],
   "source": [
    "loss.cpu().data==loss2.cpu().data"
   ]
  },
  {
   "cell_type": "code",
   "execution_count": null,
   "id": "851f4b4f",
   "metadata": {},
   "outputs": [],
   "source": [
    "loss2.cpu().data"
   ]
  },
  {
   "cell_type": "code",
   "execution_count": null,
   "id": "73eb3657",
   "metadata": {},
   "outputs": [],
   "source": [
    "res.grad.cpu().data==res2.grad.cpu().data"
   ]
  },
  {
   "cell_type": "code",
   "execution_count": null,
   "id": "1c6b96e1",
   "metadata": {},
   "outputs": [],
   "source": [
    "res2.grad.cpu().data"
   ]
  },
  {
   "cell_type": "code",
   "execution_count": null,
   "id": "618696f8",
   "metadata": {},
   "outputs": [],
   "source": [
    "model.W.grad, model2.W.grad"
   ]
  },
  {
   "cell_type": "code",
   "execution_count": null,
   "id": "14b8d201",
   "metadata": {},
   "outputs": [],
   "source": [
    "model.W.grad.cpu().data==model2.W.grad.cpu().data"
   ]
  },
  {
   "cell_type": "code",
   "execution_count": null,
   "id": "63481731",
   "metadata": {},
   "outputs": [],
   "source": [
    "model.W.grad.cpu().data"
   ]
  },
  {
   "cell_type": "code",
   "execution_count": null,
   "id": "b44bd79a",
   "metadata": {},
   "outputs": [],
   "source": [
    "model2.W.grad.cpu().data"
   ]
  },
  {
   "cell_type": "code",
   "execution_count": null,
   "id": "04999192",
   "metadata": {},
   "outputs": [],
   "source": [
    "model.W.grad"
   ]
  },
  {
   "cell_type": "code",
   "execution_count": null,
   "id": "74320ed1",
   "metadata": {},
   "outputs": [],
   "source": [
    "model2.W.cpu().data"
   ]
  },
  {
   "cell_type": "code",
   "execution_count": null,
   "id": "d1fe6f08",
   "metadata": {},
   "outputs": [],
   "source": []
  },
  {
   "cell_type": "code",
   "execution_count": null,
   "id": "7a45e9a8",
   "metadata": {},
   "outputs": [],
   "source": []
  },
  {
   "cell_type": "code",
   "execution_count": null,
   "id": "dd35f59d",
   "metadata": {},
   "outputs": [],
   "source": []
  },
  {
   "cell_type": "code",
   "execution_count": null,
   "id": "897a2a7e",
   "metadata": {},
   "outputs": [],
   "source": []
  },
  {
   "cell_type": "code",
   "execution_count": null,
   "id": "07745d92",
   "metadata": {},
   "outputs": [],
   "source": []
  },
  {
   "cell_type": "code",
   "execution_count": null,
   "id": "81962acd",
   "metadata": {},
   "outputs": [],
   "source": []
  },
  {
   "cell_type": "code",
   "execution_count": null,
   "id": "ebfecb5f",
   "metadata": {},
   "outputs": [],
   "source": []
  },
  {
   "cell_type": "code",
   "execution_count": null,
   "id": "4c5b2fec",
   "metadata": {},
   "outputs": [],
   "source": []
  },
  {
   "cell_type": "code",
   "execution_count": null,
   "id": "07f0b1d2",
   "metadata": {},
   "outputs": [],
   "source": []
  },
  {
   "cell_type": "code",
   "execution_count": null,
   "id": "ce7898e2",
   "metadata": {},
   "outputs": [],
   "source": []
  },
  {
   "cell_type": "code",
   "execution_count": null,
   "id": "e14f967b",
   "metadata": {},
   "outputs": [],
   "source": []
  },
  {
   "cell_type": "code",
   "execution_count": null,
   "id": "ce12498e",
   "metadata": {},
   "outputs": [],
   "source": []
  }
 ],
 "metadata": {
  "kernelspec": {
   "display_name": "Python 3",
   "language": "python",
   "name": "python3"
  },
  "language_info": {
   "codemirror_mode": {
    "name": "ipython",
    "version": 3
   },
   "file_extension": ".py",
   "mimetype": "text/x-python",
   "name": "python",
   "nbconvert_exporter": "python",
   "pygments_lexer": "ipython3",
   "version": "3.8.12"
  }
 },
 "nbformat": 4,
 "nbformat_minor": 5
}
