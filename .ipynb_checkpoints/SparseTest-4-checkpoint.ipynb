{
 "cells": [
  {
   "cell_type": "code",
   "execution_count": 1,
   "id": "4309590e",
   "metadata": {},
   "outputs": [
    {
     "name": "stdout",
     "output_type": "stream",
     "text": [
      "DEVICE:GPU\n"
     ]
    }
   ],
   "source": [
    "from tinygrad.densetensor import DenseTensor\n",
    "from tinygrad.sparsetensor import SparseTensor\n",
    "import numpy as np\n",
    "import tinygrad.optim as optim\n",
    "from extra.utils import get_parameters\n",
    "from test.test_mnist import fetch_mnist\n",
    "from tqdm import trange\n",
    "\n",
    "%load_ext autoreload\n",
    "%autoreload 2"
   ]
  },
  {
   "cell_type": "code",
   "execution_count": 2,
   "id": "73101cd9",
   "metadata": {},
   "outputs": [],
   "source": [
    "dim1 = 32\n",
    "dim2 = 784\n",
    "dim3 = 10\n",
    "\n",
    "np.random.seed(9)\n",
    "\n",
    "seedmat = np.random.randn(dim2,dim3).astype(np.float32) / 1000"
   ]
  },
  {
   "cell_type": "code",
   "execution_count": 3,
   "id": "eaae6290",
   "metadata": {},
   "outputs": [
    {
     "data": {
      "text/plain": [
       "(60000, 784)"
      ]
     },
     "execution_count": 3,
     "metadata": {},
     "output_type": "execute_result"
    }
   ],
   "source": [
    "X_train, Y_train, X_test, Y_test = fetch_mnist()\n",
    "X_train.shape"
   ]
  },
  {
   "cell_type": "code",
   "execution_count": 4,
   "id": "d9c197bb",
   "metadata": {},
   "outputs": [
    {
     "name": "stdout",
     "output_type": "stream",
     "text": [
      "warning, (32, 10) isn't float32, it's float64\n"
     ]
    }
   ],
   "source": [
    "x_init = np.random.randn(dim1,dim2).astype(np.float32)\n",
    "x = DenseTensor(x_init)\n",
    "y = DenseTensor(np.random.randn(dim1,dim3))"
   ]
  },
  {
   "cell_type": "code",
   "execution_count": 5,
   "id": "8a9285aa",
   "metadata": {},
   "outputs": [],
   "source": [
    "class MLP:\n",
    "  def __init__(self):\n",
    "    self.W = DenseTensor(seedmat)\n",
    "\n",
    "  def parameters(self):\n",
    "    return get_parameters(self)\n",
    "\n",
    "  def forward(self, x):\n",
    "    out = x.dot(self.W)\n",
    "    out = out.logsoftmax()\n",
    "    #out = out.mul(self.m).add(self.m).sum()\n",
    "    return out"
   ]
  },
  {
   "cell_type": "code",
   "execution_count": 6,
   "id": "a5168e97",
   "metadata": {},
   "outputs": [],
   "source": [
    "class MLP2:\n",
    "  def __init__(self):\n",
    "    self.W = SparseTensor(seedmat)\n",
    "\n",
    "  def parameters(self):\n",
    "    return get_parameters(self)\n",
    "\n",
    "  def forward(self, x):\n",
    "    out = x.dot(self.W)\n",
    "    out = out.logsoftmax()\n",
    "    #out = out.mul(self.m).add(self.m).sum()\n",
    "    return out"
   ]
  },
  {
   "cell_type": "code",
   "execution_count": 7,
   "id": "13c4436e",
   "metadata": {},
   "outputs": [],
   "source": [
    "def loss_fn(y, y_pred):\n",
    "    return ((y-y_pred)**2)**.5"
   ]
  },
  {
   "cell_type": "code",
   "execution_count": 8,
   "id": "ee9cfec0",
   "metadata": {},
   "outputs": [],
   "source": [
    "def sparse_categorical_crossentropy(out, Y):\n",
    "  num_classes = out.shape[-1]\n",
    "  YY = Y.flatten()\n",
    "  y = np.zeros((YY.shape[0], num_classes), np.float32)\n",
    "  # correct loss for NLL, torch NLL loss returns one per row\n",
    "  y[range(y.shape[0]),YY] = -1.0*num_classes\n",
    "  y = y.reshape(list(Y.shape)+[num_classes])\n",
    "  y = DenseTensor(y)\n",
    "  return out.mul(y).mean()"
   ]
  },
  {
   "cell_type": "markdown",
   "id": "3b00810f",
   "metadata": {},
   "source": [
    "### Dense"
   ]
  },
  {
   "cell_type": "code",
   "execution_count": 9,
   "id": "1d2b99f9",
   "metadata": {},
   "outputs": [],
   "source": [
    "model = MLP()"
   ]
  },
  {
   "cell_type": "code",
   "execution_count": 10,
   "id": "5d6f6d16",
   "metadata": {},
   "outputs": [],
   "source": [
    "optimizer = optim.SGD(model.parameters(), lr=.0001)"
   ]
  },
  {
   "cell_type": "code",
   "execution_count": 11,
   "id": "c34ebcd2",
   "metadata": {},
   "outputs": [
    {
     "data": {
      "text/plain": [
       "((60000, 784), (60000,))"
      ]
     },
     "execution_count": 11,
     "metadata": {},
     "output_type": "execute_result"
    }
   ],
   "source": [
    "X_train.shape, Y_train.shape"
   ]
  },
  {
   "cell_type": "code",
   "execution_count": 12,
   "id": "8b8de315",
   "metadata": {},
   "outputs": [],
   "source": [
    "loss_fn = sparse_categorical_crossentropy"
   ]
  },
  {
   "cell_type": "code",
   "execution_count": 13,
   "id": "1a506d86",
   "metadata": {},
   "outputs": [
    {
     "name": "stderr",
     "output_type": "stream",
     "text": [
      "\r",
      "  0%|                                                                                                                                                               | 0/1875 [00:00<?, ?it/s]"
     ]
    },
    {
     "name": "stdout",
     "output_type": "stream",
     "text": [
      "LOSS:2.30  ACC:0.03\n"
     ]
    },
    {
     "name": "stderr",
     "output_type": "stream",
     "text": [
      "  7%|██████████▍                                                                                                                                          | 132/1875 [00:04<01:03, 27.62it/s]"
     ]
    },
    {
     "name": "stdout",
     "output_type": "stream",
     "text": [
      "LOSS:2.30  ACC:0.22\n"
     ]
    },
    {
     "name": "stderr",
     "output_type": "stream",
     "text": [
      " 14%|████████████████████▋                                                                                                                                | 261/1875 [00:09<01:00, 26.80it/s]"
     ]
    },
    {
     "name": "stdout",
     "output_type": "stream",
     "text": [
      "LOSS:2.28  ACC:0.44\n"
     ]
    },
    {
     "name": "stderr",
     "output_type": "stream",
     "text": [
      " 21%|██████████████████████████████▉                                                                                                                      | 390/1875 [00:14<00:53, 27.67it/s]"
     ]
    },
    {
     "name": "stdout",
     "output_type": "stream",
     "text": [
      "LOSS:2.27  ACC:0.54\n"
     ]
    },
    {
     "name": "stderr",
     "output_type": "stream",
     "text": [
      " 28%|█████████████████████████████████████████                                                                                                            | 516/1875 [00:18<00:48, 27.81it/s]"
     ]
    },
    {
     "name": "stdout",
     "output_type": "stream",
     "text": [
      "LOSS:2.26  ACC:0.55\n"
     ]
    },
    {
     "name": "stderr",
     "output_type": "stream",
     "text": [
      " 34%|███████████████████████████████████████████████████▎                                                                                                 | 645/1875 [00:23<00:44, 27.54it/s]"
     ]
    },
    {
     "name": "stdout",
     "output_type": "stream",
     "text": [
      "LOSS:2.24  ACC:0.61\n"
     ]
    },
    {
     "name": "stderr",
     "output_type": "stream",
     "text": [
      " 41%|█████████████████████████████████████████████████████████████▌                                                                                       | 774/1875 [00:28<00:42, 25.81it/s]"
     ]
    },
    {
     "name": "stdout",
     "output_type": "stream",
     "text": [
      "LOSS:2.23  ACC:0.61\n"
     ]
    },
    {
     "name": "stderr",
     "output_type": "stream",
     "text": [
      " 48%|███████████████████████████████████████████████████████████████████████▌                                                                             | 900/1875 [00:32<00:35, 27.32it/s]"
     ]
    },
    {
     "name": "stdout",
     "output_type": "stream",
     "text": [
      "LOSS:2.22  ACC:0.67\n"
     ]
    },
    {
     "name": "stderr",
     "output_type": "stream",
     "text": [
      " 55%|█████████████████████████████████████████████████████████████████████████████████▏                                                                  | 1029/1875 [00:37<00:31, 27.17it/s]"
     ]
    },
    {
     "name": "stdout",
     "output_type": "stream",
     "text": [
      "LOSS:2.21  ACC:0.64\n"
     ]
    },
    {
     "name": "stderr",
     "output_type": "stream",
     "text": [
      " 62%|███████████████████████████████████████████████████████████████████████████████████████████▍                                                        | 1158/1875 [00:42<00:26, 27.11it/s]"
     ]
    },
    {
     "name": "stdout",
     "output_type": "stream",
     "text": [
      "LOSS:2.19  ACC:0.68\n"
     ]
    },
    {
     "name": "stderr",
     "output_type": "stream",
     "text": [
      " 68%|█████████████████████████████████████████████████████████████████████████████████████████████████████▎                                              | 1284/1875 [00:47<00:21, 27.11it/s]"
     ]
    },
    {
     "name": "stdout",
     "output_type": "stream",
     "text": [
      "LOSS:2.18  ACC:0.69\n"
     ]
    },
    {
     "name": "stderr",
     "output_type": "stream",
     "text": [
      " 75%|███████████████████████████████████████████████████████████████████████████████████████████████████████████████▌                                    | 1413/1875 [00:51<00:17, 27.03it/s]"
     ]
    },
    {
     "name": "stdout",
     "output_type": "stream",
     "text": [
      "LOSS:2.17  ACC:0.68\n"
     ]
    },
    {
     "name": "stderr",
     "output_type": "stream",
     "text": [
      " 82%|█████████████████████████████████████████████████████████████████████████████████████████████████████████████████████████▋                          | 1542/1875 [00:56<00:12, 27.36it/s]"
     ]
    },
    {
     "name": "stdout",
     "output_type": "stream",
     "text": [
      "LOSS:2.15  ACC:0.69\n"
     ]
    },
    {
     "name": "stderr",
     "output_type": "stream",
     "text": [
      " 89%|███████████████████████████████████████████████████████████████████████████████████████████████████████████████████████████████████▋                | 1668/1875 [01:01<00:07, 27.13it/s]"
     ]
    },
    {
     "name": "stdout",
     "output_type": "stream",
     "text": [
      "LOSS:2.15  ACC:0.69\n"
     ]
    },
    {
     "name": "stderr",
     "output_type": "stream",
     "text": [
      " 96%|█████████████████████████████████████████████████████████████████████████████████████████████████████████████████████████████████████████████▊      | 1797/1875 [01:05<00:02, 27.25it/s]"
     ]
    },
    {
     "name": "stdout",
     "output_type": "stream",
     "text": [
      "LOSS:2.13  ACC:0.72\n"
     ]
    },
    {
     "name": "stderr",
     "output_type": "stream",
     "text": [
      "100%|████████████████████████████████████████████████████████████████████████████████████████████████████████████████████████████████████████████████████| 1875/1875 [01:08<00:00, 27.24it/s]\n",
      " 21%|███████████████████████████████▋                                                                                                                      | 66/312 [00:00<00:00, 321.84it/s]"
     ]
    },
    {
     "name": "stdout",
     "output_type": "stream",
     "text": [
      "TEST_LOSS:5.12  TEST_ACC:0.81\n",
      "TEST_LOSS:6.61  TEST_ACC:0.70\n",
      "TEST_LOSS:7.92  TEST_ACC:0.67\n"
     ]
    },
    {
     "name": "stderr",
     "output_type": "stream",
     "text": [
      " 42%|██████████████████████████████████████████████████████████████▌                                                                                      | 131/312 [00:00<00:00, 307.10it/s]"
     ]
    },
    {
     "name": "stdout",
     "output_type": "stream",
     "text": [
      "TEST_LOSS:7.82  TEST_ACC:0.70\n",
      "TEST_LOSS:7.05  TEST_ACC:0.68\n",
      "TEST_LOSS:6.60  TEST_ACC:0.69\n"
     ]
    },
    {
     "name": "stderr",
     "output_type": "stream",
     "text": [
      " 77%|██████████████████████████████████████████████████████████████████████████████████████████████████████████████████▌                                  | 240/312 [00:00<00:00, 344.25it/s]"
     ]
    },
    {
     "name": "stdout",
     "output_type": "stream",
     "text": [
      "TEST_LOSS:6.91  TEST_ACC:0.74\n",
      "TEST_LOSS:5.18  TEST_ACC:0.76\n",
      "TEST_LOSS:6.47  TEST_ACC:0.72\n"
     ]
    },
    {
     "name": "stderr",
     "output_type": "stream",
     "text": [
      "100%|█████████████████████████████████████████████████████████████████████████████████████████████████████████████████████████████████████████████████████| 312/312 [00:00<00:00, 336.48it/s]"
     ]
    },
    {
     "name": "stdout",
     "output_type": "stream",
     "text": [
      "TEST_LOSS:5.24  TEST_ACC:0.74\n"
     ]
    },
    {
     "name": "stderr",
     "output_type": "stream",
     "text": [
      "\n"
     ]
    }
   ],
   "source": [
    "BS = dim1\n",
    "epochs = 1\n",
    "\n",
    "for epoch in range(epochs):\n",
    "    losses = []\n",
    "    accs = []\n",
    "    for i in trange(int(X_train.shape[0]/BS)):\n",
    "        x = DenseTensor(X_train[i*BS:(i+1)*BS])/255\n",
    "        y = Y_train[i*BS:(i+1)*BS]\n",
    "        optimizer.zero_grad()\n",
    "        res = model.forward(x)\n",
    "        loss = loss_fn(res, y)\n",
    "        #print(res.cpu().data[:4])\n",
    "        #print(y[:4])\n",
    "        loss.backward()\n",
    "        optimizer.step()\n",
    "        \n",
    "        cat = np.argmax(res.cpu().data, axis=-1)\n",
    "        accuracy = (cat == y).mean()\n",
    "        \n",
    "        losses.append(loss.cpu().data)\n",
    "        accs.append(accuracy)\n",
    "        if i % 128 == 0:\n",
    "            print(\"LOSS:%.2f  ACC:%.2f\" % (np.array(losses).mean(), np.array(accs).mean()))\n",
    "            accs, losses = [], []  \n",
    "            \n",
    "    losses = []\n",
    "    accs = []\n",
    "    for i in trange(int(X_test.shape[0]/BS)):\n",
    "        x = DenseTensor(X_test[i*BS:(i+1)*BS])\n",
    "        y = Y_test[i*BS:(i+1)*BS]\n",
    "        res = model.forward(x)\n",
    "        loss = loss_fn(res, y)\n",
    "        \n",
    "        cat = np.argmax(res.cpu().data, axis=-1)\n",
    "        accuracy = (cat == y).mean()\n",
    "        \n",
    "        losses.append(loss.cpu().data)\n",
    "        accs.append(accuracy)\n",
    "        if i % 32 == 0:\n",
    "            print(\"TEST_LOSS:%.2f  TEST_ACC:%.2f\" % (np.array(losses).mean(), np.array(accs).mean()))\n",
    "            accs, losses = [], []"
   ]
  },
  {
   "cell_type": "code",
   "execution_count": 14,
   "id": "83c586b7",
   "metadata": {},
   "outputs": [
    {
     "data": {
      "text/plain": [
       "[<DenseTensor <GPUBuffer with shape (784, 10)> with grad <GPUBuffer with shape (784, 10)>>,\n",
       " <DenseTensor <GPUBuffer with shape (784, 10)> with grad None>]"
      ]
     },
     "execution_count": 14,
     "metadata": {},
     "output_type": "execute_result"
    }
   ],
   "source": [
    "model.parameters()"
   ]
  },
  {
   "cell_type": "code",
   "execution_count": 15,
   "id": "4641b69d",
   "metadata": {},
   "outputs": [
    {
     "data": {
      "text/plain": [
       "array([[ 0.00000000e+00, -2.17443726e+02, -1.52456787e+02,\n",
       "        -1.28634811e+02, -1.71982361e+02, -1.16445923e+02,\n",
       "        -1.26471375e+02, -1.80743011e+02, -1.27065163e+02,\n",
       "        -1.67365753e+02],\n",
       "       [ 0.00000000e+00, -1.40194092e+02, -6.11183586e+01,\n",
       "        -8.57498093e+01, -8.44008789e+01, -8.70940552e+01,\n",
       "        -4.97926788e+01, -8.89710388e+01, -8.11008606e+01,\n",
       "        -8.14695587e+01],\n",
       "       [ 0.00000000e+00, -1.63500305e+02, -4.63094406e+01,\n",
       "        -6.45426788e+01, -9.67461472e+01, -1.07235107e+02,\n",
       "        -6.92429581e+01, -9.34611130e+01, -5.45257263e+01,\n",
       "        -9.61897430e+01],\n",
       "       [-3.58169518e+01, -2.49962120e+01, -6.99073029e+00,\n",
       "        -2.58131237e+01, -4.54339752e+01, -4.56404152e+01,\n",
       "        -5.12322464e+01, -6.73234024e+01, -9.19342041e-04,\n",
       "        -4.79191322e+01],\n",
       "       [-5.39500122e+01, -9.43679810e-02, -5.76103973e+00,\n",
       "        -2.92863426e+01, -5.53424835e+01, -5.79841576e+01,\n",
       "        -4.88875542e+01, -6.00888329e+01, -2.44296265e+00,\n",
       "        -5.37010498e+01],\n",
       "       [-4.74797058e+01, -1.07364212e+02, -7.31454849e+01,\n",
       "        -7.48919678e+01, -5.35539169e+01, -7.51796799e+01,\n",
       "        -7.87984924e+01,  0.00000000e+00, -4.85482941e+01,\n",
       "        -2.35836525e+01],\n",
       "       [-4.01583023e+01, -1.88649044e+01, -1.44788055e+01,\n",
       "        -1.71095467e+01, -4.15852318e+01, -4.78440666e+01,\n",
       "        -5.43822327e+01, -2.38917351e+00, -9.61894989e-02,\n",
       "        -1.28759680e+01],\n",
       "       [-4.52864799e+01, -2.28901424e+01, -1.58526974e+01,\n",
       "        -5.13477325e-02, -4.69952087e+01, -4.75112610e+01,\n",
       "        -2.85594692e+01, -2.02779732e+01, -2.99470711e+00,\n",
       "        -2.96368828e+01],\n",
       "       [-5.90800591e+01, -9.89205704e+01, -4.52524986e+01,\n",
       "        -6.77974319e+01, -9.45167542e-02, -8.03676453e+01,\n",
       "        -4.77347641e+01, -1.47709808e+01, -2.76536694e+01,\n",
       "        -2.40586090e+00],\n",
       "       [-7.32759705e+01, -8.72286987e+01, -3.67533073e+01,\n",
       "        -7.92424316e+01, -6.37651215e+01, -8.35476303e+01,\n",
       "         0.00000000e+00, -8.19362640e+01, -4.82583847e+01,\n",
       "        -6.33948479e+01],\n",
       "       [ 0.00000000e+00, -1.36111481e+02, -1.19016632e+02,\n",
       "        -7.59760742e+01, -1.27489319e+02, -9.65101318e+01,\n",
       "        -1.21600761e+02, -1.21758858e+02, -8.92261353e+01,\n",
       "        -1.09701645e+02],\n",
       "       [-3.16057129e+01, -1.15881546e+02, -7.89784164e+01,\n",
       "        -6.72300034e+01, -6.41909714e+01, -7.20930634e+01,\n",
       "        -7.96701736e+01,  0.00000000e+00, -5.60635147e+01,\n",
       "        -3.50293121e+01],\n",
       "       [ 0.00000000e+00, -1.37494339e+02, -9.69845123e+01,\n",
       "        -7.36679916e+01, -1.28656906e+02, -8.33302002e+01,\n",
       "        -8.51827850e+01, -1.35126633e+02, -9.42143784e+01,\n",
       "        -1.39485245e+02],\n",
       "       [-4.16750412e+01, -5.27049942e+01, -2.03437214e+01,\n",
       "         0.00000000e+00, -5.72145462e+01, -4.42899704e+01,\n",
       "        -6.53443756e+01, -6.32347107e+01, -1.42434330e+01,\n",
       "        -5.62591324e+01],\n",
       "       [-1.59072876e-03, -1.19191277e+02, -4.32960396e+01,\n",
       "        -8.87157898e+01, -6.38658676e+01, -8.09984970e+01,\n",
       "        -6.44484711e+00, -7.12736664e+01, -7.31425552e+01,\n",
       "        -6.82725220e+01],\n",
       "       [-3.46985664e+01, -6.00139389e+01, -4.58947754e+01,\n",
       "        -2.77316837e+01, -7.33422470e+01, -5.16124687e+01,\n",
       "        -6.82120895e+01, -6.74525681e+01,  0.00000000e+00,\n",
       "        -5.45326385e+01],\n",
       "       [-6.42011261e+01, -8.67169189e+01, -6.53250732e+01,\n",
       "        -7.09557953e+01, -6.29315758e+01, -8.27503738e+01,\n",
       "        -8.64805298e+01,  0.00000000e+00, -4.58771667e+01,\n",
       "        -3.61106873e+01],\n",
       "       [-6.81571045e+01, -3.81469727e-06, -2.20942516e+01,\n",
       "        -3.63081894e+01, -6.06909485e+01, -6.47498322e+01,\n",
       "        -5.94587746e+01, -6.16493187e+01, -1.26725025e+01,\n",
       "        -5.84559021e+01],\n",
       "       [-4.66557884e+00, -5.10176392e+01, -7.44528389e+00,\n",
       "        -1.00479126e-02, -6.92817383e+01, -3.99522400e+01,\n",
       "        -2.08043022e+01, -4.20417747e+01, -3.17657776e+01,\n",
       "        -5.67796631e+01],\n",
       "       [-7.29187393e+00, -7.72678146e+01, -6.82830811e-04,\n",
       "        -7.04491882e+01, -5.37542381e+01, -7.73027954e+01,\n",
       "        -3.84040184e+01, -4.88775978e+01, -3.31653938e+01,\n",
       "        -6.07788925e+01],\n",
       "       [-4.94554672e+01, -9.29742737e+01, -4.76565208e+01,\n",
       "        -6.56080933e+01, -2.08663940e-03, -7.03319626e+01,\n",
       "        -4.94642258e+01, -2.58107090e+01, -2.92484055e+01,\n",
       "        -6.17273712e+00],\n",
       "       [-1.91503639e+01, -8.88900146e+01, -5.25004730e+01,\n",
       "        -6.81589584e+01, -7.66763687e+00, -5.66786728e+01,\n",
       "        -4.71763687e+01, -1.25846939e+01, -1.96676292e+01,\n",
       "        -4.73022461e-04],\n",
       "       [-4.02142906e+01, -7.36299896e+01, -2.87688026e+01,\n",
       "        -6.24184723e+01,  0.00000000e+00, -5.94560738e+01,\n",
       "        -2.81207695e+01, -3.08590088e+01, -2.28473015e+01,\n",
       "        -1.95583019e+01],\n",
       "       [-3.32452278e+01, -6.55736389e+01, -3.24630737e-03,\n",
       "        -2.89259109e+01, -4.27600861e+01, -5.01477432e+01,\n",
       "        -3.36311111e+01, -4.94378700e+01, -5.73151207e+00,\n",
       "        -3.39334793e+01],\n",
       "       [-4.69953423e+01, -4.48779526e+01, -2.71469936e+01,\n",
       "        -5.47257538e+01, -4.64784164e+01, -6.05484123e+01,\n",
       "         0.00000000e+00, -4.83934593e+01, -2.43229504e+01,\n",
       "        -4.94268074e+01],\n",
       "       [-4.23873291e+01, -3.94617386e+01, -2.09125729e+01,\n",
       "        -4.13053741e+01, -2.05596352e+00, -4.77035675e+01,\n",
       "        -1.55596991e+01, -2.07562103e+01, -1.36945724e-01,\n",
       "        -1.12099829e+01],\n",
       "       [-5.79913979e+01, -4.81282806e+00, -5.29380417e+00,\n",
       "        -2.87529869e+01, -4.96580887e+01, -5.79718170e+01,\n",
       "        -5.47973938e+01, -5.60424423e+01, -1.32331848e-02,\n",
       "        -4.92623367e+01],\n",
       "       [-3.49423447e+01, -1.26797150e+02, -8.85671082e+01,\n",
       "        -8.53816986e+01, -5.33866730e+01, -8.10387039e+01,\n",
       "        -7.62389832e+01,  0.00000000e+00, -6.47614746e+01,\n",
       "        -3.32461967e+01],\n",
       "       [ 0.00000000e+00, -1.65069092e+02, -3.71722565e+01,\n",
       "        -3.56508636e+01, -1.04815308e+02, -9.45957718e+01,\n",
       "        -7.27149124e+01, -9.74006195e+01, -5.64190521e+01,\n",
       "        -1.01366417e+02],\n",
       "       [-2.45369759e+01, -4.18985329e+01, -4.84455681e+00,\n",
       "        -3.28573952e+01, -4.46868362e+01, -4.15889244e+01,\n",
       "        -7.90405273e-03, -5.05374527e+01, -2.86314735e+01,\n",
       "        -5.55750008e+01],\n",
       "       [-2.71258812e+01, -5.12504425e+01, -4.22019958e-02,\n",
       "        -3.18088837e+01, -7.15407104e+01, -7.01975937e+01,\n",
       "        -3.18634415e+00, -4.69708099e+01, -3.87270966e+01,\n",
       "        -6.09913940e+01],\n",
       "       [ 0.00000000e+00, -2.61633484e+02, -1.86908966e+02,\n",
       "        -1.53229660e+02, -2.18785446e+02, -1.61813797e+02,\n",
       "        -1.98930557e+02, -1.97506439e+02, -1.52760406e+02,\n",
       "        -1.98275436e+02]], dtype=float32)"
      ]
     },
     "execution_count": 15,
     "metadata": {},
     "output_type": "execute_result"
    }
   ],
   "source": [
    "res.cpu().data"
   ]
  },
  {
   "cell_type": "code",
   "execution_count": 16,
   "id": "8eb71052",
   "metadata": {},
   "outputs": [
    {
     "data": {
      "text/plain": [
       "array([9.882622], dtype=float32)"
      ]
     },
     "execution_count": 16,
     "metadata": {},
     "output_type": "execute_result"
    }
   ],
   "source": [
    "loss.cpu().data"
   ]
  },
  {
   "cell_type": "code",
   "execution_count": 17,
   "id": "44d83871",
   "metadata": {},
   "outputs": [
    {
     "ename": "AttributeError",
     "evalue": "'NoneType' object has no attribute 'cpu'",
     "output_type": "error",
     "traceback": [
      "\u001b[0;31m---------------------------------------------------------------------------\u001b[0m",
      "\u001b[0;31mAttributeError\u001b[0m                            Traceback (most recent call last)",
      "\u001b[0;32m/tmp/ipykernel_9287/2187677922.py\u001b[0m in \u001b[0;36m<module>\u001b[0;34m\u001b[0m\n\u001b[0;32m----> 1\u001b[0;31m \u001b[0mres\u001b[0m\u001b[0;34m.\u001b[0m\u001b[0mgrad\u001b[0m\u001b[0;34m.\u001b[0m\u001b[0mcpu\u001b[0m\u001b[0;34m(\u001b[0m\u001b[0;34m)\u001b[0m\u001b[0;34m.\u001b[0m\u001b[0mdata\u001b[0m\u001b[0;34m\u001b[0m\u001b[0;34m\u001b[0m\u001b[0m\n\u001b[0m",
      "\u001b[0;31mAttributeError\u001b[0m: 'NoneType' object has no attribute 'cpu'"
     ]
    }
   ],
   "source": [
    "res.grad.cpu().data"
   ]
  },
  {
   "cell_type": "code",
   "execution_count": null,
   "id": "9ac039f6",
   "metadata": {},
   "outputs": [],
   "source": [
    "model.W.grad.cpu().data"
   ]
  },
  {
   "cell_type": "markdown",
   "id": "1f62f27e",
   "metadata": {},
   "source": [
    "### Second"
   ]
  },
  {
   "cell_type": "code",
   "execution_count": null,
   "id": "31a9604d",
   "metadata": {},
   "outputs": [],
   "source": [
    "model2 = MLP2()"
   ]
  },
  {
   "cell_type": "code",
   "execution_count": null,
   "id": "0e020858",
   "metadata": {},
   "outputs": [],
   "source": [
    "optimizer2 = optim.SGD(model2.parameters(), lr=.0001)"
   ]
  },
  {
   "cell_type": "code",
   "execution_count": null,
   "id": "915f3185",
   "metadata": {},
   "outputs": [],
   "source": [
    "BS = dim1\n",
    "epochs = 10\n",
    "\n",
    "for epoch in range(epochs):\n",
    "    losses = []\n",
    "    accs = []\n",
    "    for i in trange(int(X_train.shape[0]/BS)):\n",
    "        x = DenseTensor(X_train[i*BS:(i+1)*BS])/255\n",
    "        y = Y_train[i*BS:(i+1)*BS]\n",
    "        optimizer2.zero_grad()\n",
    "        res2 = model2.forward(x)\n",
    "        loss2 = loss_fn(res2, y)\n",
    "        #print(res2.cpu().data[:4])\n",
    "        #print(y[:4])\n",
    "        loss2.backward()\n",
    "        optimizer2.step()\n",
    "        \n",
    "        cat = np.argmax(res2.cpu().data, axis=-1)\n",
    "        accuracy = (cat == y).mean()\n",
    "        \n",
    "        losses.append(loss2.cpu().data)\n",
    "        accs.append(accuracy)\n",
    "        if i % 128 == 0:\n",
    "            print(\"LOSS:%.2f  ACC:%.2f\" % (np.array(losses).mean(), np.array(accs).mean()))\n",
    "            accs, losses = [], []  \n",
    "            \n",
    "    losses = []\n",
    "    accs = []\n",
    "    for i in trange(int(X_test.shape[0]/BS)):\n",
    "        x = DenseTensor(X_test[i*BS:(i+1)*BS])\n",
    "        y = Y_test[i*BS:(i+1)*BS]\n",
    "        res2 = model2.forward(x)\n",
    "        loss2 = loss_fn(res2, y)\n",
    "        \n",
    "        cat = np.argmax(res2.cpu().data, axis=-1)\n",
    "        accuracy = (cat == y).mean()\n",
    "        \n",
    "        losses.append(loss2.cpu().data)\n",
    "        accs.append(accuracy)\n",
    "        if i % 32 == 0:\n",
    "            print(\"TEST_LOSS:%.2f  TEST_ACC:%.2f\" % (np.array(losses).mean(), np.array(accs).mean()))\n",
    "            accs, losses = [], []"
   ]
  },
  {
   "cell_type": "code",
   "execution_count": null,
   "id": "e8576d40",
   "metadata": {},
   "outputs": [],
   "source": [
    "res2.cpu().data==res.cpu().data"
   ]
  },
  {
   "cell_type": "code",
   "execution_count": null,
   "id": "56fc46b0",
   "metadata": {},
   "outputs": [],
   "source": [
    "res2.cpu().data"
   ]
  },
  {
   "cell_type": "code",
   "execution_count": null,
   "id": "dbd0474e",
   "metadata": {},
   "outputs": [],
   "source": [
    "loss.cpu().data==loss2.cpu().data"
   ]
  },
  {
   "cell_type": "code",
   "execution_count": null,
   "id": "851f4b4f",
   "metadata": {},
   "outputs": [],
   "source": [
    "loss2.cpu().data"
   ]
  },
  {
   "cell_type": "code",
   "execution_count": null,
   "id": "73eb3657",
   "metadata": {},
   "outputs": [],
   "source": [
    "res.grad.cpu().data==res2.grad.cpu().data"
   ]
  },
  {
   "cell_type": "code",
   "execution_count": null,
   "id": "1c6b96e1",
   "metadata": {},
   "outputs": [],
   "source": [
    "res2.grad.cpu().data"
   ]
  },
  {
   "cell_type": "code",
   "execution_count": null,
   "id": "618696f8",
   "metadata": {},
   "outputs": [],
   "source": [
    "model.W.grad, model2.W.grad"
   ]
  },
  {
   "cell_type": "code",
   "execution_count": null,
   "id": "14b8d201",
   "metadata": {},
   "outputs": [],
   "source": [
    "model.W.grad.cpu().data==model2.W.grad.cpu().data"
   ]
  },
  {
   "cell_type": "code",
   "execution_count": null,
   "id": "63481731",
   "metadata": {},
   "outputs": [],
   "source": [
    "model.W.grad.cpu().data"
   ]
  },
  {
   "cell_type": "code",
   "execution_count": null,
   "id": "b44bd79a",
   "metadata": {},
   "outputs": [],
   "source": [
    "model2.W.grad.cpu().data"
   ]
  },
  {
   "cell_type": "code",
   "execution_count": null,
   "id": "04999192",
   "metadata": {},
   "outputs": [],
   "source": [
    "model.W.grad"
   ]
  },
  {
   "cell_type": "code",
   "execution_count": null,
   "id": "d1fe6f08",
   "metadata": {},
   "outputs": [],
   "source": []
  },
  {
   "cell_type": "code",
   "execution_count": null,
   "id": "7a45e9a8",
   "metadata": {},
   "outputs": [],
   "source": []
  },
  {
   "cell_type": "code",
   "execution_count": null,
   "id": "dd35f59d",
   "metadata": {},
   "outputs": [],
   "source": []
  },
  {
   "cell_type": "code",
   "execution_count": null,
   "id": "897a2a7e",
   "metadata": {},
   "outputs": [],
   "source": []
  },
  {
   "cell_type": "code",
   "execution_count": null,
   "id": "07745d92",
   "metadata": {},
   "outputs": [],
   "source": []
  },
  {
   "cell_type": "code",
   "execution_count": null,
   "id": "81962acd",
   "metadata": {},
   "outputs": [],
   "source": []
  },
  {
   "cell_type": "code",
   "execution_count": null,
   "id": "ebfecb5f",
   "metadata": {},
   "outputs": [],
   "source": []
  },
  {
   "cell_type": "code",
   "execution_count": null,
   "id": "4c5b2fec",
   "metadata": {},
   "outputs": [],
   "source": []
  },
  {
   "cell_type": "code",
   "execution_count": null,
   "id": "07f0b1d2",
   "metadata": {},
   "outputs": [],
   "source": []
  },
  {
   "cell_type": "code",
   "execution_count": null,
   "id": "ce7898e2",
   "metadata": {},
   "outputs": [],
   "source": []
  },
  {
   "cell_type": "code",
   "execution_count": null,
   "id": "e14f967b",
   "metadata": {},
   "outputs": [],
   "source": []
  },
  {
   "cell_type": "code",
   "execution_count": null,
   "id": "3d9a1438",
   "metadata": {},
   "outputs": [],
   "source": []
  }
 ],
 "metadata": {
  "kernelspec": {
   "display_name": "Python 3",
   "language": "python",
   "name": "python3"
  },
  "language_info": {
   "codemirror_mode": {
    "name": "ipython",
    "version": 3
   },
   "file_extension": ".py",
   "mimetype": "text/x-python",
   "name": "python",
   "nbconvert_exporter": "python",
   "pygments_lexer": "ipython3",
   "version": "3.8.12"
  }
 },
 "nbformat": 4,
 "nbformat_minor": 5
}
