{
 "cells": [
  {
   "cell_type": "code",
   "execution_count": 1,
   "id": "4309590e",
   "metadata": {},
   "outputs": [
    {
     "name": "stdout",
     "output_type": "stream",
     "text": [
      "DEVICE:GPU\n"
     ]
    }
   ],
   "source": [
    "from tinygrad.densetensor import DenseTensor\n",
    "from tinygrad.sparsetensor import SparseTensor\n",
    "import numpy as np\n",
    "\n",
    "%load_ext autoreload\n",
    "%autoreload 2"
   ]
  },
  {
   "cell_type": "code",
   "execution_count": 2,
   "id": "4cb532fa",
   "metadata": {},
   "outputs": [],
   "source": [
    "x_init = np.random.randn(1,3).astype(np.float32)\n",
    "x2_init = np.random.randn(3).astype(np.float32)\n",
    "U_init = np.random.randn(3,3).astype(np.float32)\n",
    "V_init = np.random.randn(3,3).astype(np.float32)\n",
    "W_init = np.random.randn(3,3).astype(np.float32)\n",
    "m_init = np.random.randn(1,3).astype(np.float32)"
   ]
  },
  {
   "cell_type": "code",
   "execution_count": 3,
   "id": "3fb8a745",
   "metadata": {},
   "outputs": [
    {
     "data": {
      "text/plain": [
       "(array([1.3903799], dtype=float32),\n",
       " <DenseTensor <GPUBuffer with shape (1, 3)> with grad <GPUBuffer with shape (1, 3)>>)"
      ]
     },
     "execution_count": 3,
     "metadata": {},
     "output_type": "execute_result"
    }
   ],
   "source": [
    "x = DenseTensor(x_init)\n",
    "W = DenseTensor(W_init)\n",
    "m = DenseTensor(m_init)\n",
    "out = x.dot(W).relu()\n",
    "out = out.logsoftmax()\n",
    "out = out.mul(m).add(m).sum()\n",
    "out.backward()\n",
    "\n",
    "out.cpu().data, x"
   ]
  },
  {
   "cell_type": "code",
   "execution_count": 4,
   "id": "46b0ba5a",
   "metadata": {
    "scrolled": true
   },
   "outputs": [
    {
     "name": "stdout",
     "output_type": "stream",
     "text": [
      "rand: []\n",
      "HAS DATA: [-0.8471908   0.8311165   0.2956943   0.90499836 -0.01803225  1.5666039\n",
      "  0.48040333  1.3179594  -1.3245715 ]\n",
      "aval, xval: -0.85,0.18:0-0 \n",
      "aval, xval: 0.90,0.18:0-3 \n",
      "aval, xval: 0.48,0.18:0-6 \n",
      "aval, xval: 0.83,-1.39:1-1 \n",
      "aval, xval: -0.02,-1.39:1-4 \n",
      "aval, xval: 1.32,-1.39:1-7 \n",
      "aval, xval: 0.30,2.07:2-2 \n",
      "aval, xval: 1.57,2.07:2-5 \n",
      "aval, xval: -1.32,2.07:2-8 \n",
      "SUM/NNZ: -0.69 3 \n",
      "SUM/NNZ: 3.43 3 \n",
      "SUM/NNZ: -4.48 3 \n",
      "aval, xval: -0.85,0.00:0-0 \n",
      "aval, xval: 0.83,0.00:0-3 \n",
      "aval, xval: 0.30,0.00:0-6 \n",
      "aval, xval: 0.90,1.00:1-1 \n",
      "aval, xval: -0.02,1.00:1-4 \n",
      "aval, xval: 1.57,1.00:1-7 \n",
      "aval, xval: 0.48,0.00:2-2 \n",
      "aval, xval: 1.32,0.00:2-5 \n",
      "aval, xval: -1.32,0.00:2-8 \n",
      "SUM/NNZ: 0.90 3 \n",
      "SUM/NNZ: -0.02 3 \n",
      "SUM/NNZ: 1.57 3 \n",
      "SPARSE!\n"
     ]
    },
    {
     "data": {
      "text/plain": [
       "(array([0.      , 3.428204, 0.      ], dtype=float32),\n",
       " <DenseTensor <GPUBuffer with shape (1, 3)> with grad <GPUBuffer with shape (1, 3)>>)"
      ]
     },
     "execution_count": 4,
     "metadata": {},
     "output_type": "execute_result"
    }
   ],
   "source": [
    "x2 = DenseTensor(x2_init)#.gpu()\n",
    "W = SparseTensor(W_init)\n",
    "out = W.dot(x2).relu()\n",
    "\n",
    "out.backward()\n",
    "\n",
    "out.cpu().data, x"
   ]
  },
  {
   "cell_type": "code",
   "execution_count": null,
   "id": "58d663a9",
   "metadata": {},
   "outputs": [],
   "source": []
  },
  {
   "cell_type": "code",
   "execution_count": null,
   "id": "aa07ec67",
   "metadata": {},
   "outputs": [],
   "source": []
  }
 ],
 "metadata": {
  "kernelspec": {
   "display_name": "Python 3",
   "language": "python",
   "name": "python3"
  },
  "language_info": {
   "codemirror_mode": {
    "name": "ipython",
    "version": 3
   },
   "file_extension": ".py",
   "mimetype": "text/x-python",
   "name": "python",
   "nbconvert_exporter": "python",
   "pygments_lexer": "ipython3",
   "version": "3.8.12"
  }
 },
 "nbformat": 4,
 "nbformat_minor": 5
}
