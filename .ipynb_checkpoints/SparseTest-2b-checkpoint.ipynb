{
 "cells": [
  {
   "cell_type": "code",
   "execution_count": 1,
   "id": "4309590e",
   "metadata": {},
   "outputs": [
    {
     "name": "stdout",
     "output_type": "stream",
     "text": [
      "DEVICE:GPU\n"
     ]
    }
   ],
   "source": [
    "from tinygrad.densetensor import DenseTensor\n",
    "from tinygrad.sparsetensor import SparseTensor\n",
    "import numpy as np\n",
    "import tinygrad.optim as optim\n",
    "\n",
    "%load_ext autoreload\n",
    "%autoreload 2"
   ]
  },
  {
   "cell_type": "code",
   "execution_count": 2,
   "id": "4cb532fa",
   "metadata": {},
   "outputs": [],
   "source": [
    "x_init = np.random.randn(3,3).astype(np.float32)\n",
    "x2_init = np.random.randn(3).astype(np.float32)\n",
    "U_init = np.random.randn(3,3).astype(np.float32)\n",
    "V_init = np.random.randn(3,3).astype(np.float32)\n",
    "W_init = np.random.randn(3,3).astype(np.float32)\n",
    "m_init = np.random.randn(1,3).astype(np.float32)"
   ]
  },
  {
   "cell_type": "code",
   "execution_count": 3,
   "id": "31bf141b",
   "metadata": {},
   "outputs": [
    {
     "data": {
      "text/plain": [
       "array([[ 0.9802662 , -0.6181913 ,  1.7663049 ],\n",
       "       [-0.8588263 , -0.35378176,  0.11869863],\n",
       "       [ 0.12076258, -1.4975767 , -0.04233656]], dtype=float32)"
      ]
     },
     "execution_count": 3,
     "metadata": {},
     "output_type": "execute_result"
    }
   ],
   "source": [
    "x_init"
   ]
  },
  {
   "cell_type": "code",
   "execution_count": 4,
   "id": "da4977ad",
   "metadata": {},
   "outputs": [
    {
     "data": {
      "text/plain": [
       "array([[ 0.23711798,  0.8181817 ,  0.45620412],\n",
       "       [ 1.2488874 ,  0.5049768 , -0.81326586],\n",
       "       [-0.20875362, -0.7370445 , -0.28920186]], dtype=float32)"
      ]
     },
     "execution_count": 4,
     "metadata": {},
     "output_type": "execute_result"
    }
   ],
   "source": [
    "W_init"
   ]
  },
  {
   "cell_type": "code",
   "execution_count": 5,
   "id": "3fb8a745",
   "metadata": {},
   "outputs": [
    {
     "name": "stdout",
     "output_type": "stream",
     "text": [
      "GO [[ 0.          0.          0.00807655]\n",
      " [ 0.          0.          0.        ]\n",
      " [ 0.          0.         -0.8233893 ]]\n",
      "IN [[ 0.9802662  -0.6181913   1.7663049 ]\n",
      " [-0.8588263  -0.35378176  0.11869863]\n",
      " [ 0.12076258 -1.4975767  -0.04233656]]\n",
      "OUT [[ 0.          0.         -0.09151745]\n",
      " [ 0.          0.          1.2280958 ]\n",
      " [ 0.          0.          0.04912512]]\n"
     ]
    },
    {
     "data": {
      "text/plain": [
       "(array([-1.3445075], dtype=float32),\n",
       " <DenseTensor <GPUBuffer with shape (3, 3)> with grad <GPUBuffer with shape (3, 3)>>)"
      ]
     },
     "execution_count": 5,
     "metadata": {},
     "output_type": "execute_result"
    }
   ],
   "source": [
    "x = DenseTensor(x_init)\n",
    "W = DenseTensor(W_init)\n",
    "m = DenseTensor(m_init)\n",
    "out = x.dot(W).relu()\n",
    "out = out.logsoftmax()\n",
    "out = out.mul(m).add(m).sum()\n",
    "out.backward()\n",
    "\n",
    "out.cpu().data, x"
   ]
  },
  {
   "cell_type": "code",
   "execution_count": 6,
   "id": "46b0ba5a",
   "metadata": {
    "scrolled": true
   },
   "outputs": [
    {
     "name": "stdout",
     "output_type": "stream",
     "text": [
      "WEIGHT/input: <SparseTensor <GPUBuffer with shape (9,)> with grad None> <GPUBuffer with shape (3, 3)>\n",
      "warning, (3, 3) isn't float32, it's float64\n",
      "\n",
      "mult: 0.24 x 0.00 - 0.00  -- 0/0\n",
      "mult: 1.25 x 0.00 - 0.00  -- 1/1\n",
      "mult: -0.21 x 0.00 - 0.00  -- 2/2GO [[ 0.          0.          0.        ]\n",
      " [ 0.          0.          0.        ]\n",
      " [ 0.95673585  0.         -0.59218407]]\n",
      "IN [[ 0.23711798  1.2488874  -0.20875362]\n",
      " [ 0.8181817   0.5049768  -0.7370445 ]\n",
      " [ 0.45620412 -0.81326586 -0.28920186]]\n",
      "OUT [[0.         0.         0.35047984]\n",
      " [0.         0.         1.2192497 ]\n",
      " [0.         0.         0.6077276 ]]\n"
     ]
    },
    {
     "data": {
      "text/plain": [
       "(array([-0.95321935], dtype=float32),\n",
       " <SparseTensor <GPUBuffer with shape (9,)> with grad <DenseTensor <GPUBuffer with shape (3, 3)> with grad None>>)"
      ]
     },
     "execution_count": 6,
     "metadata": {},
     "output_type": "execute_result"
    }
   ],
   "source": [
    "x = SparseTensor(x_init.T)\n",
    "W = DenseTensor(W_init.T)\n",
    "m = DenseTensor(m_init)\n",
    "out = x.dot(W).relu()\n",
    "out = out.logsoftmax()\n",
    "out = out.mul(m).add(m).sum()\n",
    "out.backward()\n",
    "\n",
    "out.cpu().data, x"
   ]
  },
  {
   "cell_type": "code",
   "execution_count": 7,
   "id": "7d552c4b",
   "metadata": {
    "scrolled": true
   },
   "outputs": [
    {
     "name": "stdout",
     "output_type": "stream",
     "text": [
      "WEIGHT/input: <SparseTensor <GPUBuffer with shape (448,)> with grad None> <GPUBuffer with shape (16, 1)>\n",
      "GO \n",
      "mult: -0.60 x 1.00 - 0.00  -- 0/0[[1.]\n",
      " [0.]\n",
      " [1.]\n",
      " [0.]\n",
      " [1.]\n",
      " [1.]\n",
      " [0.]\n",
      " [1.]\n",
      " [0.]\n",
      " [0.]\n",
      " [1.]\n",
      " [0.]\n",
      " [0.]\n",
      " [0.]\n",
      " [0.]\n",
      " [0.]]\n",
      "IN [[-0.59502834]\n",
      " [-1.1510395 ]\n",
      " [-1.2947898 ]\n",
      " [ 1.50844   ]\n",
      " [ 1.3321176 ]\n",
      " [-1.476301  ]\n",
      " [-0.8573831 ]\n",
      " [ 0.07624959]\n",
      " [ 0.56954724]\n",
      " [ 0.8326062 ]\n",
      " [-1.0634162 ]\n",
      " [ 0.33400133]\n",
      " [-2.0924482 ]\n",
      " [ 1.4527018 ]\n",
      " [ 0.14846586]\n",
      " [ 0.95228714]]\n",
      "OUT [[-0.59502834 -1.1510395  -1.2947898   1.50844     1.3321176  -1.476301\n",
      "  -0.8573831   0.07624959  0.56954724  0.8326062  -1.0634162   0.33400133\n",
      "  -2.0924482   1.4527018   0.14846586  0.95228714]\n",
      " [ 0.          0.          0.          0.          0.          0.\n",
      "   0.          0.          0.          0.          0.          0.\n",
      "   0.          0.          0.          0.        ]\n",
      " [ 0.          0.          0.          0.          0.          0.\n",
      "   0.          0.          0.          0.          0.          0.\n",
      "   0.          0.          0.          0.        ]\n",
      " [ 0.          0.          0.          0.          0.          0.\n",
      "   0.          0.          0.          0.          0.          0.\n",
      "   0.          0.          0.          0.        ]\n",
      " [ 0.          0.          0.          0.          0.          0.\n",
      "   0.          0.          0.          0.          0.          0.\n",
      "   0.          0.          0.          0.        ]\n",
      " [ 0.          0.          0.          0.          0.          0.\n",
      "   0.          0.          0.          0.          0.          0.\n",
      "   0.          0.          0.          0.        ]\n",
      " [ 0.          0.          0.          0.          0.          0.\n",
      "   0.          0.          0.          0.          0.          0.\n",
      "   0.          0.          0.          0.        ]\n",
      " [ 0.          0.          0.          0.          0.          0.\n",
      "   0.          0.          0.          0.          0.          0.\n",
      "   0.          0.          0.          0.        ]\n",
      " [ 0.          0.          0.          0.          0.          0.\n",
      "   0.          0.          0.          0.          0.          0.\n",
      "   0.          0.          0.          0.        ]\n",
      " [ 0.          0.          0.          0.          0.          0.\n",
      "   0.          0.          0.          0.          0.          0.\n",
      "   0.          0.          0.          0.        ]\n",
      " [ 0.          0.          0.          0.          0.          0.\n",
      "   0.          0.          0.          0.          0.          0.\n",
      "   0.          0.          0.          0.        ]\n",
      " [ 0.          0.          0.          0.          0.          0.\n",
      "   0.          0.          0.          0.          0.          0.\n",
      "   0.          0.          0.          0.        ]\n",
      " [ 0.          0.          0.          0.          0.          0.\n",
      "   0.          0.          0.          0.          0.          0.\n",
      "   0.          0.          0.          0.        ]\n",
      " [ 0.          0.          0.          0.          0.          0.\n",
      "   0.          0.          0.          0.          0.          0.\n",
      "   0.          0.          0.          0.        ]\n",
      " [ 0.          0.          0.          0.          0.          0.\n",
      "   0.          0.          0.          0.          0.          0.\n",
      "   0.          0.          0.          0.        ]\n",
      " [ 0.          0.          0.          0.          0.          0.\n",
      "   0.          0.          0.          0.          0.          0.\n",
      "   0.          0.          0.          0.        ]]\n"
     ]
    },
    {
     "data": {
      "text/plain": [
       "(array([[0.21456411],\n",
       "        [0.        ],\n",
       "        [0.04900052],\n",
       "        [0.        ],\n",
       "        [0.24032883],\n",
       "        [0.47886482],\n",
       "        [0.        ],\n",
       "        [0.35146898],\n",
       "        [0.        ],\n",
       "        [0.        ],\n",
       "        [0.46510372],\n",
       "        [0.        ],\n",
       "        [0.        ],\n",
       "        [0.        ],\n",
       "        [0.        ],\n",
       "        [0.        ]], dtype=float32),\n",
       " (16, 1))"
      ]
     },
     "execution_count": 7,
     "metadata": {},
     "output_type": "execute_result"
    }
   ],
   "source": [
    "dim = 16\n",
    "x2 = DenseTensor(np.random.randn(dim,1).astype(np.float32))#.gpu()\n",
    "W = SparseTensor(randinit=(dim,dim), randsparsity=0.2)\n",
    "out = W.dot(x2).relu()\n",
    "\n",
    "out.backward()\n",
    "\n",
    "out.cpu().data, out.cpu().data.shape"
   ]
  },
  {
   "cell_type": "code",
   "execution_count": 8,
   "id": "727b82ef",
   "metadata": {},
   "outputs": [
    {
     "data": {
      "text/plain": [
       "array([[1.],\n",
       "       [1.],\n",
       "       [1.],\n",
       "       [1.],\n",
       "       [1.],\n",
       "       [1.],\n",
       "       [1.],\n",
       "       [1.],\n",
       "       [1.],\n",
       "       [1.],\n",
       "       [1.],\n",
       "       [1.],\n",
       "       [1.],\n",
       "       [1.],\n",
       "       [1.],\n",
       "       [1.]], dtype=float32)"
      ]
     },
     "execution_count": 8,
     "metadata": {},
     "output_type": "execute_result"
    }
   ],
   "source": [
    "out.grad.cpu().data"
   ]
  },
  {
   "cell_type": "code",
   "execution_count": null,
   "id": "58d663a9",
   "metadata": {},
   "outputs": [],
   "source": []
  },
  {
   "cell_type": "code",
   "execution_count": null,
   "id": "aa07ec67",
   "metadata": {},
   "outputs": [],
   "source": []
  },
  {
   "cell_type": "code",
   "execution_count": null,
   "id": "a66e8cb1",
   "metadata": {},
   "outputs": [],
   "source": []
  }
 ],
 "metadata": {
  "kernelspec": {
   "display_name": "Python 3",
   "language": "python",
   "name": "python3"
  },
  "language_info": {
   "codemirror_mode": {
    "name": "ipython",
    "version": 3
   },
   "file_extension": ".py",
   "mimetype": "text/x-python",
   "name": "python",
   "nbconvert_exporter": "python",
   "pygments_lexer": "ipython3",
   "version": "3.8.12"
  }
 },
 "nbformat": 4,
 "nbformat_minor": 5
}
