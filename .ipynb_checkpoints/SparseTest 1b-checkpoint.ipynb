{
 "cells": [
  {
   "cell_type": "code",
   "execution_count": 1,
   "id": "4309590e",
   "metadata": {},
   "outputs": [
    {
     "name": "stdout",
     "output_type": "stream",
     "text": [
      "DEVICE:GPU\n"
     ]
    }
   ],
   "source": [
    "from tinygrad.densetensor import DenseTensor\n",
    "from tinygrad.sparsetensor import SparseTensor\n",
    "import numpy as np\n",
    "\n",
    "%load_ext autoreload\n",
    "%autoreload 2"
   ]
  },
  {
   "cell_type": "code",
   "execution_count": 2,
   "id": "4cb532fa",
   "metadata": {},
   "outputs": [],
   "source": [
    "x_init = np.random.randn(2,6).astype(np.float32)\n",
    "x2_init = np.random.randn(3).astype(np.float32)\n",
    "U_init = np.random.randn(3,3).astype(np.float32)\n",
    "V_init = np.random.randn(3,3).astype(np.float32)\n",
    "W_init = np.random.randn(6,3).astype(np.float32)\n",
    "m_init = np.random.randn(1,3).astype(np.float32)"
   ]
  },
  {
   "cell_type": "markdown",
   "id": "b051fb88",
   "metadata": {},
   "source": [
    "x = DenseTensor(x_init)\n",
    "W = DenseTensor(W_init)\n",
    "m = DenseTensor(m_init)\n",
    "out = x.dot(W).relu()\n",
    "out = out.logsoftmax()\n",
    "out = out.mul(m).add(m).sum()\n",
    "out.backward()\n",
    "\n",
    "out.cpu().data, x"
   ]
  },
  {
   "cell_type": "markdown",
   "id": "62d0edbe",
   "metadata": {
    "scrolled": true
   },
   "source": [
    "x2 = DenseTensor(x2_init)#.gpu()\n",
    "W = SparseTensor(W_init)\n",
    "out = W.dot(x2).relu().sum()\n",
    "\n",
    "out.backward()\n",
    "\n",
    "out.cpu().data, x"
   ]
  },
  {
   "cell_type": "code",
   "execution_count": 3,
   "id": "c3d0659d",
   "metadata": {},
   "outputs": [],
   "source": [
    "import numpy as np\n",
    "import pyopencl as cl\n",
    "\n",
    "mf = cl.mem_flags"
   ]
  },
  {
   "cell_type": "code",
   "execution_count": 4,
   "id": "a0cc978b",
   "metadata": {},
   "outputs": [
    {
     "data": {
      "text/plain": [
       "((8, 16), (16, 5))"
      ]
     },
     "execution_count": 4,
     "metadata": {},
     "output_type": "execute_result"
    }
   ],
   "source": [
    "dim1 = 8\n",
    "dim2 = 16\n",
    "dim3 = 5\n",
    "topkx = 5\n",
    "topky = 8\n",
    "topk  = topkx\n",
    "bs = dim3\n",
    "\n",
    "np.random.seed(9)\n",
    "\n",
    "ctx = cl.create_some_context()\n",
    "queue = cl.CommandQueue(ctx,\n",
    "        properties=cl.command_queue_properties.PROFILING_ENABLE)\n",
    "\n",
    "sparsity = 0.4\n",
    "\n",
    "a = np.zeros((dim1,dim2))\n",
    "b = np.zeros((dim2,dim3)).astype(np.float32)\n",
    "\n",
    "a.shape, b.shape"
   ]
  },
  {
   "cell_type": "code",
   "execution_count": 5,
   "id": "306d8954",
   "metadata": {},
   "outputs": [],
   "source": [
    "x_init = np.random.randn(dim1,dim3).astype(np.float32)\n",
    "w_init = np.random.randn(dim2,dim3).astype(np.float32)"
   ]
  },
  {
   "cell_type": "code",
   "execution_count": 6,
   "id": "31516aaa",
   "metadata": {},
   "outputs": [
    {
     "data": {
      "text/plain": [
       "array([[-6.56452596e-01, -5.62572964e-02, -4.99902606e-01,\n",
       "         4.36419368e-01, -3.75813037e-01],\n",
       "       [-9.23061609e-01,  1.91725028e+00, -1.50302842e-01,\n",
       "        -6.38729751e-01,  8.24770331e-01],\n",
       "       [-1.21083879e+00, -5.03405392e-01, -7.01915681e-01,\n",
       "        -1.97427106e+00, -2.65573215e+00],\n",
       "       [-5.76822497e-02, -6.56186581e-01, -6.61706686e-01,\n",
       "         7.69348443e-01, -8.99004877e-01],\n",
       "       [ 1.69363797e+00, -1.69733524e+00, -2.79337025e+00,\n",
       "        -2.26150647e-01,  3.97428840e-01],\n",
       "       [ 1.65970361e+00, -4.93746817e-01, -3.76097679e-01,\n",
       "        -1.69739768e-01,  2.41710639e+00],\n",
       "       [-1.80884051e+00,  3.39751154e-01, -2.27297600e-02,\n",
       "        -9.59997058e-01, -3.83114427e-01],\n",
       "       [ 1.09529994e-01, -8.55162859e-01,  2.21606664e-04,\n",
       "         6.63855076e-01,  7.49480963e-01],\n",
       "       [-4.65818375e-01, -2.77439266e-01,  3.54995355e-02,\n",
       "         8.48221183e-01,  1.62998557e-01],\n",
       "       [ 1.20862365e+00,  5.02520800e-01, -1.58382213e+00,\n",
       "         1.02303350e+00, -6.53017402e-01],\n",
       "       [ 5.37045121e-01, -7.97706190e-03,  9.24784184e-01,\n",
       "         4.66083325e-02,  1.42019868e-01],\n",
       "       [-1.65366137e+00,  1.36799216e+00,  2.51062457e-02,\n",
       "        -3.95482242e-01,  1.28438759e+00],\n",
       "       [ 5.61277032e-01,  2.39725500e-01,  4.79899108e-01,\n",
       "         6.17529526e-02, -1.07051229e+00],\n",
       "       [-1.27321005e+00,  9.20076132e-01,  1.05491853e+00,\n",
       "         5.40288031e-01,  3.09063524e-01],\n",
       "       [ 9.70861197e-01,  1.15472412e+00,  4.22608823e-01,\n",
       "         9.99208927e-01,  8.83520246e-01],\n",
       "       [-5.30199170e-01,  8.14134836e-01, -1.01988423e+00,\n",
       "        -2.25823689e+00,  6.79954886e-01]], dtype=float32)"
      ]
     },
     "execution_count": 6,
     "metadata": {},
     "output_type": "execute_result"
    }
   ],
   "source": [
    "w_init"
   ]
  },
  {
   "cell_type": "code",
   "execution_count": 7,
   "id": "7ecf7a2b",
   "metadata": {},
   "outputs": [],
   "source": [
    "def fill_sparse(mat, sparsity=0.5):\n",
    "    indices = np.array(range(mat.shape[1]))\n",
    "    nrows = int(mat.shape[1]*sparsity)\n",
    "    for row in range(mat.shape[0]):\n",
    "        lim = nrows #+ int(np.random.random()*3)\n",
    "        mat[row][np.random.permutation(indices)[:lim]] = np.random.random(lim)\n",
    "    return mat\n",
    "\n",
    "a = fill_sparse(a, sparsity).astype(np.float32)\n",
    "b = fill_sparse(b, sparsity).astype(np.float32)"
   ]
  },
  {
   "cell_type": "code",
   "execution_count": 8,
   "id": "b32f0e9a",
   "metadata": {},
   "outputs": [
    {
     "data": {
      "text/plain": [
       "array([[0.        , 0.68347037, 0.8035886 , 0.        , 0.        ,\n",
       "        0.        , 0.        , 0.08023349, 0.8858316 , 0.        ,\n",
       "        0.17861794, 0.        , 0.46201044, 0.        , 0.        ,\n",
       "        0.        ],\n",
       "       [0.9562663 , 0.5531271 , 0.        , 0.        , 0.5375557 ,\n",
       "        0.        , 0.        , 0.        , 0.        , 0.        ,\n",
       "        0.        , 0.20370705, 0.35530138, 0.        , 0.        ,\n",
       "        0.9186601 ],\n",
       "       [0.        , 0.20103766, 0.        , 0.        , 0.        ,\n",
       "        0.74341315, 0.        , 0.        , 0.        , 0.5787496 ,\n",
       "        0.        , 0.05387774, 0.        , 0.5917517 , 0.17797045,\n",
       "        0.        ],\n",
       "       [0.        , 0.        , 0.        , 0.14296253, 0.9103574 ,\n",
       "        0.03242496, 0.        , 0.71459514, 0.        , 0.        ,\n",
       "        0.        , 0.        , 0.7448136 , 0.        , 0.        ,\n",
       "        0.66635793],\n",
       "       [0.        , 0.        , 0.        , 0.59893256, 0.        ,\n",
       "        0.        , 0.        , 0.9217044 , 0.        , 0.16333483,\n",
       "        0.        , 0.17167741, 0.        , 0.        , 0.7605819 ,\n",
       "        0.48675168],\n",
       "       [0.11415514, 0.82574075, 0.        , 0.        , 0.        ,\n",
       "        0.27978534, 0.        , 0.25018668, 0.        , 0.        ,\n",
       "        0.83127654, 0.09929471, 0.        , 0.        , 0.        ,\n",
       "        0.        ],\n",
       "       [0.28872353, 0.04889954, 0.        , 0.6493426 , 0.        ,\n",
       "        0.33329687, 0.        , 0.        , 0.        , 0.        ,\n",
       "        0.        , 0.        , 0.84441024, 0.01120785, 0.        ,\n",
       "        0.        ],\n",
       "       [0.67626965, 0.        , 0.        , 0.35563806, 0.        ,\n",
       "        0.        , 0.69630474, 0.        , 0.6753613 , 0.        ,\n",
       "        0.        , 0.12287189, 0.        , 0.        , 0.        ,\n",
       "        0.09184685]], dtype=float32)"
      ]
     },
     "execution_count": 8,
     "metadata": {},
     "output_type": "execute_result"
    }
   ],
   "source": [
    "a"
   ]
  },
  {
   "cell_type": "code",
   "execution_count": 9,
   "id": "d286d740",
   "metadata": {},
   "outputs": [
    {
     "data": {
      "text/plain": [
       "array([[0.49395892, 0.        , 0.46451807, 0.        , 0.        ],\n",
       "       [0.65864426, 0.        , 0.9786625 , 0.        , 0.        ],\n",
       "       [0.31044865, 0.        , 0.02502257, 0.        , 0.        ],\n",
       "       [0.        , 0.46765924, 0.        , 0.        , 0.03160795],\n",
       "       [0.71082693, 0.        , 0.58997136, 0.        , 0.        ],\n",
       "       [0.        , 0.        , 0.84622455, 0.5916316 , 0.        ],\n",
       "       [0.46450275, 0.        , 0.        , 0.        , 0.9429863 ],\n",
       "       [0.        , 0.34248227, 0.7672639 , 0.        , 0.        ],\n",
       "       [0.        , 0.        , 0.9855889 , 0.        , 0.2535647 ],\n",
       "       [0.        , 0.7705159 , 0.31522992, 0.        , 0.        ],\n",
       "       [0.        , 0.7167741 , 0.        , 0.8238369 , 0.        ],\n",
       "       [0.        , 0.91970533, 0.        , 0.7873889 , 0.        ],\n",
       "       [0.        , 0.        , 0.        , 0.404568  , 0.841323  ],\n",
       "       [0.        , 0.        , 0.674503  , 0.48820347, 0.        ],\n",
       "       [0.18725161, 0.11607183, 0.        , 0.        , 0.        ],\n",
       "       [0.7250254 , 0.        , 0.12346577, 0.        , 0.        ]],\n",
       "      dtype=float32)"
      ]
     },
     "execution_count": 9,
     "metadata": {},
     "output_type": "execute_result"
    }
   ],
   "source": [
    "b"
   ]
  },
  {
   "cell_type": "code",
   "execution_count": 10,
   "id": "45c14776",
   "metadata": {},
   "outputs": [
    {
     "data": {
      "text/plain": [
       "array([-1.6508101 ,  0.20557435, -0.4799411 ], dtype=float32)"
      ]
     },
     "execution_count": 10,
     "metadata": {},
     "output_type": "execute_result"
    }
   ],
   "source": [
    "x2_init.T"
   ]
  },
  {
   "cell_type": "code",
   "execution_count": 11,
   "id": "6b2b88a2",
   "metadata": {},
   "outputs": [
    {
     "data": {
      "text/plain": [
       "(8, 5)"
      ]
     },
     "execution_count": 11,
     "metadata": {},
     "output_type": "execute_result"
    }
   ],
   "source": [
    "mult = a.dot(b)\n",
    "mult.shape"
   ]
  },
  {
   "cell_type": "code",
   "execution_count": 12,
   "id": "d33049e0",
   "metadata": {},
   "outputs": [
    {
     "data": {
      "text/plain": [
       "(8, 5)"
      ]
     },
     "execution_count": 12,
     "metadata": {},
     "output_type": "execute_result"
    }
   ],
   "source": [
    "mult.shape"
   ]
  },
  {
   "cell_type": "code",
   "execution_count": 13,
   "id": "67872651",
   "metadata": {},
   "outputs": [],
   "source": [
    "def to_data(mat):\n",
    "    all_rows = []\n",
    "    all_idxs = []\n",
    "    all_nnzs = []\n",
    "    for row in range(mat.shape[0]):\n",
    "        rowdata = []\n",
    "        colidxs = []\n",
    "        all_nnzs.append(0)\n",
    "        for col in range(mat.shape[1]):\n",
    "            val = mat[row][col]\n",
    "            if val != 0:\n",
    "                rowdata.append(val)\n",
    "                colidxs.append(col)\n",
    "                all_nnzs[-1] += 1\n",
    "        all_rows.append(rowdata)\n",
    "        all_idxs.append(colidxs)\n",
    "    \n",
    "    ellwidth = min(int(np.sqrt(np.max(all_nnzs))+1)**2, mat.shape[1])\n",
    "    ellwidth = mat.shape[1]\n",
    "    #all_rows = np.array(all_rows)#.astype(np.float32).flatten()           \n",
    "    for row in range(mat.shape[0]):\n",
    "        #print(row, all_rows)\n",
    "        all_rows[row] = np.array(all_rows[row])\n",
    "        all_rows[row].resize(ellwidth)\n",
    "        all_idxs[row] = np.array(all_idxs[row])\n",
    "        all_idxs[row].resize(ellwidth)\n",
    "        #print(all_idxs[row])\n",
    "    all_rows = np.array(all_rows)\n",
    "    all_idxs = np.array(all_idxs)\n",
    "    all_nnzs = np.array(all_nnzs)\n",
    "    \n",
    "#     while (not all_rows[:,-1].any()):\n",
    "#         all_rows = all_rows[:,:-1]\n",
    "#         all_idxs = all_idxs[:,:-1]\n",
    "#         ellwidth -= 1\n",
    "        \n",
    "    \n",
    "    all_rows = np.array(all_rows).astype(np.float32).flatten()\n",
    "    all_idxs = np.array(all_idxs).astype(np.uint32).flatten()\n",
    "    \n",
    "    all_nnzs = np.array(all_nnzs).astype(np.uint32)\n",
    "    \n",
    "    \n",
    "    return all_rows, all_idxs, all_nnzs, ellwidth"
   ]
  },
  {
   "cell_type": "code",
   "execution_count": 14,
   "id": "3cc9dd5d",
   "metadata": {},
   "outputs": [],
   "source": [
    "def to_dense(data, cols, nnzs, ellw, shape):\n",
    "    out = np.zeros(shape)\n",
    "    for row in range(shape[0]):\n",
    "        for icol in range(nnzs[row]):\n",
    "            out[row,cols[row*ellw+icol]] = data[row*ellw+icol]\n",
    "    return out"
   ]
  },
  {
   "cell_type": "code",
   "execution_count": 15,
   "id": "cdaa466d",
   "metadata": {},
   "outputs": [
    {
     "data": {
      "text/plain": [
       "(array([-6.56452596e-01, -5.62572964e-02, -4.99902606e-01,  4.36419368e-01,\n",
       "        -3.75813037e-01, -9.23061609e-01,  1.91725028e+00, -1.50302842e-01,\n",
       "        -6.38729751e-01,  8.24770331e-01, -1.21083879e+00, -5.03405392e-01,\n",
       "        -7.01915681e-01, -1.97427106e+00, -2.65573215e+00, -5.76822497e-02,\n",
       "        -6.56186581e-01, -6.61706686e-01,  7.69348443e-01, -8.99004877e-01,\n",
       "         1.69363797e+00, -1.69733524e+00, -2.79337025e+00, -2.26150647e-01,\n",
       "         3.97428840e-01,  1.65970361e+00, -4.93746817e-01, -3.76097679e-01,\n",
       "        -1.69739768e-01,  2.41710639e+00, -1.80884051e+00,  3.39751154e-01,\n",
       "        -2.27297600e-02, -9.59997058e-01, -3.83114427e-01,  1.09529994e-01,\n",
       "        -8.55162859e-01,  2.21606664e-04,  6.63855076e-01,  7.49480963e-01,\n",
       "        -4.65818375e-01, -2.77439266e-01,  3.54995355e-02,  8.48221183e-01,\n",
       "         1.62998557e-01,  1.20862365e+00,  5.02520800e-01, -1.58382213e+00,\n",
       "         1.02303350e+00, -6.53017402e-01,  5.37045121e-01, -7.97706190e-03,\n",
       "         9.24784184e-01,  4.66083325e-02,  1.42019868e-01, -1.65366137e+00,\n",
       "         1.36799216e+00,  2.51062457e-02, -3.95482242e-01,  1.28438759e+00,\n",
       "         5.61277032e-01,  2.39725500e-01,  4.79899108e-01,  6.17529526e-02,\n",
       "        -1.07051229e+00, -1.27321005e+00,  9.20076132e-01,  1.05491853e+00,\n",
       "         5.40288031e-01,  3.09063524e-01,  9.70861197e-01,  1.15472412e+00,\n",
       "         4.22608823e-01,  9.99208927e-01,  8.83520246e-01, -5.30199170e-01,\n",
       "         8.14134836e-01, -1.01988423e+00, -2.25823689e+00,  6.79954886e-01],\n",
       "       dtype=float32),\n",
       " array([0, 1, 2, 3, 4, 0, 1, 2, 3, 4, 0, 1, 2, 3, 4, 0, 1, 2, 3, 4, 0, 1,\n",
       "        2, 3, 4, 0, 1, 2, 3, 4, 0, 1, 2, 3, 4, 0, 1, 2, 3, 4, 0, 1, 2, 3,\n",
       "        4, 0, 1, 2, 3, 4, 0, 1, 2, 3, 4, 0, 1, 2, 3, 4, 0, 1, 2, 3, 4, 0,\n",
       "        1, 2, 3, 4, 0, 1, 2, 3, 4, 0, 1, 2, 3, 4], dtype=uint32),\n",
       " array([5, 5, 5, 5, 5, 5, 5, 5, 5, 5, 5, 5, 5, 5, 5, 5], dtype=uint32),\n",
       " 5)"
      ]
     },
     "execution_count": 15,
     "metadata": {},
     "output_type": "execute_result"
    }
   ],
   "source": [
    "wdata, wcols, wnnz, ellww = to_data(w_init)\n",
    "wdata, wcols, wnnz, ellww"
   ]
  },
  {
   "cell_type": "code",
   "execution_count": 16,
   "id": "cb96ed78",
   "metadata": {},
   "outputs": [
    {
     "data": {
      "text/plain": [
       "(array([-6.56452596e-01, -9.23061609e-01, -1.21083879e+00, -5.76822497e-02,\n",
       "         1.69363797e+00,  1.65970361e+00, -1.80884051e+00,  1.09529994e-01,\n",
       "        -4.65818375e-01,  1.20862365e+00,  5.37045121e-01, -1.65366137e+00,\n",
       "         5.61277032e-01, -1.27321005e+00,  9.70861197e-01, -5.30199170e-01,\n",
       "        -5.62572964e-02,  1.91725028e+00, -5.03405392e-01, -6.56186581e-01,\n",
       "        -1.69733524e+00, -4.93746817e-01,  3.39751154e-01, -8.55162859e-01,\n",
       "        -2.77439266e-01,  5.02520800e-01, -7.97706190e-03,  1.36799216e+00,\n",
       "         2.39725500e-01,  9.20076132e-01,  1.15472412e+00,  8.14134836e-01,\n",
       "        -4.99902606e-01, -1.50302842e-01, -7.01915681e-01, -6.61706686e-01,\n",
       "        -2.79337025e+00, -3.76097679e-01, -2.27297600e-02,  2.21606664e-04,\n",
       "         3.54995355e-02, -1.58382213e+00,  9.24784184e-01,  2.51062457e-02,\n",
       "         4.79899108e-01,  1.05491853e+00,  4.22608823e-01, -1.01988423e+00,\n",
       "         4.36419368e-01, -6.38729751e-01, -1.97427106e+00,  7.69348443e-01,\n",
       "        -2.26150647e-01, -1.69739768e-01, -9.59997058e-01,  6.63855076e-01,\n",
       "         8.48221183e-01,  1.02303350e+00,  4.66083325e-02, -3.95482242e-01,\n",
       "         6.17529526e-02,  5.40288031e-01,  9.99208927e-01, -2.25823689e+00,\n",
       "        -3.75813037e-01,  8.24770331e-01, -2.65573215e+00, -8.99004877e-01,\n",
       "         3.97428840e-01,  2.41710639e+00, -3.83114427e-01,  7.49480963e-01,\n",
       "         1.62998557e-01, -6.53017402e-01,  1.42019868e-01,  1.28438759e+00,\n",
       "        -1.07051229e+00,  3.09063524e-01,  8.83520246e-01,  6.79954886e-01],\n",
       "       dtype=float32),\n",
       " array([ 0,  1,  2,  3,  4,  5,  6,  7,  8,  9, 10, 11, 12, 13, 14, 15,  0,\n",
       "         1,  2,  3,  4,  5,  6,  7,  8,  9, 10, 11, 12, 13, 14, 15,  0,  1,\n",
       "         2,  3,  4,  5,  6,  7,  8,  9, 10, 11, 12, 13, 14, 15,  0,  1,  2,\n",
       "         3,  4,  5,  6,  7,  8,  9, 10, 11, 12, 13, 14, 15,  0,  1,  2,  3,\n",
       "         4,  5,  6,  7,  8,  9, 10, 11, 12, 13, 14, 15], dtype=uint32),\n",
       " array([16, 16, 16, 16, 16], dtype=uint32),\n",
       " 16)"
      ]
     },
     "execution_count": 16,
     "metadata": {},
     "output_type": "execute_result"
    }
   ],
   "source": [
    "wdatat, wcolst, wnnzt, ellwwt = to_data(w_init.T)\n",
    "wdatat, wcolst, wnnzt, ellwwt"
   ]
  },
  {
   "cell_type": "code",
   "execution_count": 17,
   "id": "5c9c6134",
   "metadata": {},
   "outputs": [
    {
     "data": {
      "text/plain": [
       "(array([0.68347037, 0.8035886 , 0.08023349, 0.8858316 , 0.17861794,\n",
       "        0.46201044, 0.        , 0.        , 0.        , 0.        ,\n",
       "        0.        , 0.        , 0.        , 0.        , 0.        ,\n",
       "        0.        , 0.9562663 , 0.5531271 , 0.5375557 , 0.20370705,\n",
       "        0.35530138, 0.9186601 , 0.        , 0.        , 0.        ,\n",
       "        0.        , 0.        , 0.        , 0.        , 0.        ,\n",
       "        0.        , 0.        , 0.20103766, 0.74341315, 0.5787496 ,\n",
       "        0.05387774, 0.5917517 , 0.17797045, 0.        , 0.        ,\n",
       "        0.        , 0.        , 0.        , 0.        , 0.        ,\n",
       "        0.        , 0.        , 0.        , 0.14296253, 0.9103574 ,\n",
       "        0.03242496, 0.71459514, 0.7448136 , 0.66635793, 0.        ,\n",
       "        0.        , 0.        , 0.        , 0.        , 0.        ,\n",
       "        0.        , 0.        , 0.        , 0.        , 0.59893256,\n",
       "        0.9217044 , 0.16333483, 0.17167741, 0.7605819 , 0.48675168,\n",
       "        0.        , 0.        , 0.        , 0.        , 0.        ,\n",
       "        0.        , 0.        , 0.        , 0.        , 0.        ,\n",
       "        0.11415514, 0.82574075, 0.27978534, 0.25018668, 0.83127654,\n",
       "        0.09929471, 0.        , 0.        , 0.        , 0.        ,\n",
       "        0.        , 0.        , 0.        , 0.        , 0.        ,\n",
       "        0.        , 0.28872353, 0.04889954, 0.6493426 , 0.33329687,\n",
       "        0.84441024, 0.01120785, 0.        , 0.        , 0.        ,\n",
       "        0.        , 0.        , 0.        , 0.        , 0.        ,\n",
       "        0.        , 0.        , 0.67626965, 0.35563806, 0.69630474,\n",
       "        0.6753613 , 0.12287189, 0.09184685, 0.        , 0.        ,\n",
       "        0.        , 0.        , 0.        , 0.        , 0.        ,\n",
       "        0.        , 0.        , 0.        ], dtype=float32),\n",
       " array([ 1,  2,  7,  8, 10, 12,  0,  0,  0,  0,  0,  0,  0,  0,  0,  0,  0,\n",
       "         1,  4, 11, 12, 15,  0,  0,  0,  0,  0,  0,  0,  0,  0,  0,  1,  5,\n",
       "         9, 11, 13, 14,  0,  0,  0,  0,  0,  0,  0,  0,  0,  0,  3,  4,  5,\n",
       "         7, 12, 15,  0,  0,  0,  0,  0,  0,  0,  0,  0,  0,  3,  7,  9, 11,\n",
       "        14, 15,  0,  0,  0,  0,  0,  0,  0,  0,  0,  0,  0,  1,  5,  7, 10,\n",
       "        11,  0,  0,  0,  0,  0,  0,  0,  0,  0,  0,  0,  1,  3,  5, 12, 13,\n",
       "         0,  0,  0,  0,  0,  0,  0,  0,  0,  0,  0,  3,  6,  8, 11, 15,  0,\n",
       "         0,  0,  0,  0,  0,  0,  0,  0,  0], dtype=uint32),\n",
       " array([6, 6, 6, 6, 6, 6, 6, 6], dtype=uint32),\n",
       " 16)"
      ]
     },
     "execution_count": 17,
     "metadata": {},
     "output_type": "execute_result"
    }
   ],
   "source": [
    "adata, acols, annz, ellwa = to_data(a)\n",
    "adata, acols, annz, ellwa"
   ]
  },
  {
   "cell_type": "code",
   "execution_count": 18,
   "id": "333f732b",
   "metadata": {},
   "outputs": [
    {
     "data": {
      "text/plain": [
       "(array([0.9562663 , 0.11415514, 0.28872353, 0.67626965, 0.        ,\n",
       "        0.        , 0.        , 0.        , 0.68347037, 0.5531271 ,\n",
       "        0.20103766, 0.82574075, 0.04889954, 0.        , 0.        ,\n",
       "        0.        , 0.8035886 , 0.        , 0.        , 0.        ,\n",
       "        0.        , 0.        , 0.        , 0.        , 0.14296253,\n",
       "        0.59893256, 0.6493426 , 0.35563806, 0.        , 0.        ,\n",
       "        0.        , 0.        , 0.5375557 , 0.9103574 , 0.        ,\n",
       "        0.        , 0.        , 0.        , 0.        , 0.        ,\n",
       "        0.74341315, 0.03242496, 0.27978534, 0.33329687, 0.        ,\n",
       "        0.        , 0.        , 0.        , 0.69630474, 0.        ,\n",
       "        0.        , 0.        , 0.        , 0.        , 0.        ,\n",
       "        0.        , 0.08023349, 0.71459514, 0.9217044 , 0.25018668,\n",
       "        0.        , 0.        , 0.        , 0.        , 0.8858316 ,\n",
       "        0.6753613 , 0.        , 0.        , 0.        , 0.        ,\n",
       "        0.        , 0.        , 0.5787496 , 0.16333483, 0.        ,\n",
       "        0.        , 0.        , 0.        , 0.        , 0.        ,\n",
       "        0.17861794, 0.83127654, 0.        , 0.        , 0.        ,\n",
       "        0.        , 0.        , 0.        , 0.20370705, 0.05387774,\n",
       "        0.17167741, 0.09929471, 0.12287189, 0.        , 0.        ,\n",
       "        0.        , 0.46201044, 0.35530138, 0.7448136 , 0.84441024,\n",
       "        0.        , 0.        , 0.        , 0.        , 0.5917517 ,\n",
       "        0.01120785, 0.        , 0.        , 0.        , 0.        ,\n",
       "        0.        , 0.        , 0.17797045, 0.7605819 , 0.        ,\n",
       "        0.        , 0.        , 0.        , 0.        , 0.        ,\n",
       "        0.9186601 , 0.66635793, 0.48675168, 0.09184685, 0.        ,\n",
       "        0.        , 0.        , 0.        ], dtype=float32),\n",
       " array([1, 5, 6, 7, 0, 0, 0, 0, 0, 1, 2, 5, 6, 0, 0, 0, 0, 0, 0, 0, 0, 0,\n",
       "        0, 0, 3, 4, 6, 7, 0, 0, 0, 0, 1, 3, 0, 0, 0, 0, 0, 0, 2, 3, 5, 6,\n",
       "        0, 0, 0, 0, 7, 0, 0, 0, 0, 0, 0, 0, 0, 3, 4, 5, 0, 0, 0, 0, 0, 7,\n",
       "        0, 0, 0, 0, 0, 0, 2, 4, 0, 0, 0, 0, 0, 0, 0, 5, 0, 0, 0, 0, 0, 0,\n",
       "        1, 2, 4, 5, 7, 0, 0, 0, 0, 1, 3, 6, 0, 0, 0, 0, 2, 6, 0, 0, 0, 0,\n",
       "        0, 0, 2, 4, 0, 0, 0, 0, 0, 0, 1, 3, 4, 7, 0, 0, 0, 0], dtype=uint32),\n",
       " array([4, 5, 1, 4, 2, 4, 1, 4, 2, 2, 2, 5, 4, 2, 2, 4], dtype=uint32),\n",
       " 8)"
      ]
     },
     "execution_count": 18,
     "metadata": {},
     "output_type": "execute_result"
    }
   ],
   "source": [
    "adatat, acolst, annzt, ellwat = to_data(a.T)\n",
    "adatat, acolst, annzt, ellwat"
   ]
  },
  {
   "cell_type": "code",
   "execution_count": 19,
   "id": "3746b3f8",
   "metadata": {},
   "outputs": [
    {
     "data": {
      "text/plain": [
       "(array([0.49395892, 0.46451807, 0.        , 0.        , 0.        ,\n",
       "        0.65864426, 0.9786625 , 0.        , 0.        , 0.        ,\n",
       "        0.31044865, 0.02502257, 0.        , 0.        , 0.        ,\n",
       "        0.46765924, 0.03160795, 0.        , 0.        , 0.        ,\n",
       "        0.71082693, 0.58997136, 0.        , 0.        , 0.        ,\n",
       "        0.84622455, 0.5916316 , 0.        , 0.        , 0.        ,\n",
       "        0.46450275, 0.9429863 , 0.        , 0.        , 0.        ,\n",
       "        0.34248227, 0.7672639 , 0.        , 0.        , 0.        ,\n",
       "        0.9855889 , 0.2535647 , 0.        , 0.        , 0.        ,\n",
       "        0.7705159 , 0.31522992, 0.        , 0.        , 0.        ,\n",
       "        0.7167741 , 0.8238369 , 0.        , 0.        , 0.        ,\n",
       "        0.91970533, 0.7873889 , 0.        , 0.        , 0.        ,\n",
       "        0.404568  , 0.841323  , 0.        , 0.        , 0.        ,\n",
       "        0.674503  , 0.48820347, 0.        , 0.        , 0.        ,\n",
       "        0.18725161, 0.11607183, 0.        , 0.        , 0.        ,\n",
       "        0.7250254 , 0.12346577, 0.        , 0.        , 0.        ],\n",
       "       dtype=float32),\n",
       " array([0, 2, 0, 0, 0, 0, 2, 0, 0, 0, 0, 2, 0, 0, 0, 1, 4, 0, 0, 0, 0, 2,\n",
       "        0, 0, 0, 2, 3, 0, 0, 0, 0, 4, 0, 0, 0, 1, 2, 0, 0, 0, 2, 4, 0, 0,\n",
       "        0, 1, 2, 0, 0, 0, 1, 3, 0, 0, 0, 1, 3, 0, 0, 0, 3, 4, 0, 0, 0, 2,\n",
       "        3, 0, 0, 0, 0, 1, 0, 0, 0, 0, 2, 0, 0, 0], dtype=uint32),\n",
       " array([2, 2, 2, 2, 2, 2, 2, 2, 2, 2, 2, 2, 2, 2, 2, 2], dtype=uint32),\n",
       " 5)"
      ]
     },
     "execution_count": 19,
     "metadata": {},
     "output_type": "execute_result"
    }
   ],
   "source": [
    "bdata, bcols, bnnz, ellwb = to_data(b)\n",
    "bdata, bcols, bnnz, ellwb"
   ]
  },
  {
   "cell_type": "code",
   "execution_count": 20,
   "id": "2456f0d7",
   "metadata": {},
   "outputs": [
    {
     "data": {
      "text/plain": [
       "(array([0.9562663 , 0.11415514, 0.28872353, 0.67626965, 0.        ,\n",
       "        0.        , 0.        , 0.        , 0.68347037, 0.5531271 ,\n",
       "        0.20103766, 0.82574075, 0.04889954, 0.        , 0.        ,\n",
       "        0.        , 0.8035886 , 0.        , 0.        , 0.        ,\n",
       "        0.        , 0.        , 0.        , 0.        , 0.14296253,\n",
       "        0.59893256, 0.6493426 , 0.35563806, 0.        , 0.        ,\n",
       "        0.        , 0.        , 0.5375557 , 0.9103574 , 0.        ,\n",
       "        0.        , 0.        , 0.        , 0.        , 0.        ,\n",
       "        0.74341315, 0.03242496, 0.27978534, 0.33329687, 0.        ,\n",
       "        0.        , 0.        , 0.        , 0.69630474, 0.        ,\n",
       "        0.        , 0.        , 0.        , 0.        , 0.        ,\n",
       "        0.        , 0.08023349, 0.71459514, 0.9217044 , 0.25018668,\n",
       "        0.        , 0.        , 0.        , 0.        , 0.8858316 ,\n",
       "        0.6753613 , 0.        , 0.        , 0.        , 0.        ,\n",
       "        0.        , 0.        , 0.5787496 , 0.16333483, 0.        ,\n",
       "        0.        , 0.        , 0.        , 0.        , 0.        ,\n",
       "        0.17861794, 0.83127654, 0.        , 0.        , 0.        ,\n",
       "        0.        , 0.        , 0.        , 0.20370705, 0.05387774,\n",
       "        0.17167741, 0.09929471, 0.12287189, 0.        , 0.        ,\n",
       "        0.        , 0.46201044, 0.35530138, 0.7448136 , 0.84441024,\n",
       "        0.        , 0.        , 0.        , 0.        , 0.5917517 ,\n",
       "        0.01120785, 0.        , 0.        , 0.        , 0.        ,\n",
       "        0.        , 0.        , 0.17797045, 0.7605819 , 0.        ,\n",
       "        0.        , 0.        , 0.        , 0.        , 0.        ,\n",
       "        0.9186601 , 0.66635793, 0.48675168, 0.09184685, 0.        ,\n",
       "        0.        , 0.        , 0.        ], dtype=float32),\n",
       " array([ 0,  1,  2,  4,  6, 14, 15,  0,  0,  0,  0,  0,  0,  0,  0,  0,  3,\n",
       "         7,  9, 10, 11, 14,  0,  0,  0,  0,  0,  0,  0,  0,  0,  0,  0,  1,\n",
       "         2,  4,  5,  7,  8,  9, 13, 15,  0,  0,  0,  0,  0,  0,  5, 10, 11,\n",
       "        12, 13,  0,  0,  0,  0,  0,  0,  0,  0,  0,  0,  0,  3,  6,  8, 12,\n",
       "         0,  0,  0,  0,  0,  0,  0,  0,  0,  0,  0,  0], dtype=uint32),\n",
       " array([ 7,  6, 10,  5,  4], dtype=uint32),\n",
       " 16)"
      ]
     },
     "execution_count": 20,
     "metadata": {},
     "output_type": "execute_result"
    }
   ],
   "source": [
    "bdatat, bcolst, bnnzt, ellwbt = to_data(b.T)\n",
    "adatat, bcolst, bnnzt, ellwbt"
   ]
  },
  {
   "cell_type": "code",
   "execution_count": 21,
   "id": "a21f8921",
   "metadata": {},
   "outputs": [],
   "source": [
    "adense = to_dense(adata, acols, annz, ellwa, a.shape)"
   ]
  },
  {
   "cell_type": "code",
   "execution_count": 22,
   "id": "afddd45e",
   "metadata": {},
   "outputs": [],
   "source": [
    "adenset = to_dense(adatat, acolst, annzt, ellwat, a.T.shape)"
   ]
  },
  {
   "cell_type": "code",
   "execution_count": 23,
   "id": "265ef0d4",
   "metadata": {},
   "outputs": [],
   "source": [
    "bdense = to_dense(bdata, bcols, bnnz, ellwb, b.shape)"
   ]
  },
  {
   "cell_type": "code",
   "execution_count": 24,
   "id": "409da6b5",
   "metadata": {},
   "outputs": [],
   "source": [
    "bdenset = to_dense(bdatat, bcolst, bnnzt, ellwbt, b.T.shape)"
   ]
  },
  {
   "cell_type": "code",
   "execution_count": 25,
   "id": "1c04d184",
   "metadata": {},
   "outputs": [
    {
     "data": {
      "text/plain": [
       "array([[0.        , 0.68347037, 0.80358863, 0.        , 0.        ,\n",
       "        0.        , 0.        , 0.08023349, 0.88583159, 0.        ,\n",
       "        0.17861794, 0.        , 0.46201044, 0.        , 0.        ,\n",
       "        0.        ],\n",
       "       [0.95626628, 0.55312711, 0.        , 0.        , 0.53755569,\n",
       "        0.        , 0.        , 0.        , 0.        , 0.        ,\n",
       "        0.        , 0.20370705, 0.35530138, 0.        , 0.        ,\n",
       "        0.9186601 ],\n",
       "       [0.        , 0.20103766, 0.        , 0.        , 0.        ,\n",
       "        0.74341315, 0.        , 0.        , 0.        , 0.5787496 ,\n",
       "        0.        , 0.05387774, 0.        , 0.59175169, 0.17797045,\n",
       "        0.        ],\n",
       "       [0.        , 0.        , 0.        , 0.14296253, 0.91035742,\n",
       "        0.03242496, 0.        , 0.71459514, 0.        , 0.        ,\n",
       "        0.        , 0.        , 0.74481362, 0.        , 0.        ,\n",
       "        0.66635793],\n",
       "       [0.        , 0.        , 0.        , 0.59893256, 0.        ,\n",
       "        0.        , 0.        , 0.92170441, 0.        , 0.16333483,\n",
       "        0.        , 0.17167741, 0.        , 0.        , 0.76058191,\n",
       "        0.48675168],\n",
       "       [0.11415514, 0.82574075, 0.        , 0.        , 0.        ,\n",
       "        0.27978534, 0.        , 0.25018668, 0.        , 0.        ,\n",
       "        0.83127654, 0.09929471, 0.        , 0.        , 0.        ,\n",
       "        0.        ],\n",
       "       [0.28872353, 0.04889954, 0.        , 0.6493426 , 0.        ,\n",
       "        0.33329687, 0.        , 0.        , 0.        , 0.        ,\n",
       "        0.        , 0.        , 0.84441024, 0.01120785, 0.        ,\n",
       "        0.        ],\n",
       "       [0.67626965, 0.        , 0.        , 0.35563806, 0.        ,\n",
       "        0.        , 0.69630474, 0.        , 0.67536128, 0.        ,\n",
       "        0.        , 0.12287189, 0.        , 0.        , 0.        ,\n",
       "        0.09184685]])"
      ]
     },
     "execution_count": 25,
     "metadata": {},
     "output_type": "execute_result"
    }
   ],
   "source": [
    "adense"
   ]
  },
  {
   "cell_type": "code",
   "execution_count": 26,
   "id": "cae2f665",
   "metadata": {},
   "outputs": [
    {
     "data": {
      "text/plain": [
       "array([[ True,  True,  True,  True,  True,  True,  True,  True,  True,\n",
       "         True,  True,  True,  True,  True,  True,  True],\n",
       "       [ True,  True,  True,  True,  True,  True,  True,  True,  True,\n",
       "         True,  True,  True,  True,  True,  True,  True],\n",
       "       [ True,  True,  True,  True,  True,  True,  True,  True,  True,\n",
       "         True,  True,  True,  True,  True,  True,  True],\n",
       "       [ True,  True,  True,  True,  True,  True,  True,  True,  True,\n",
       "         True,  True,  True,  True,  True,  True,  True],\n",
       "       [ True,  True,  True,  True,  True,  True,  True,  True,  True,\n",
       "         True,  True,  True,  True,  True,  True,  True],\n",
       "       [ True,  True,  True,  True,  True,  True,  True,  True,  True,\n",
       "         True,  True,  True,  True,  True,  True,  True],\n",
       "       [ True,  True,  True,  True,  True,  True,  True,  True,  True,\n",
       "         True,  True,  True,  True,  True,  True,  True],\n",
       "       [ True,  True,  True,  True,  True,  True,  True,  True,  True,\n",
       "         True,  True,  True,  True,  True,  True,  True]])"
      ]
     },
     "execution_count": 26,
     "metadata": {},
     "output_type": "execute_result"
    }
   ],
   "source": [
    "adenset.T == adense"
   ]
  },
  {
   "cell_type": "code",
   "execution_count": 27,
   "id": "9f2ada6f",
   "metadata": {},
   "outputs": [
    {
     "data": {
      "text/plain": [
       "array([[ True,  True,  True,  True,  True],\n",
       "       [ True,  True,  True,  True,  True],\n",
       "       [ True,  True,  True,  True,  True],\n",
       "       [ True,  True,  True,  True,  True],\n",
       "       [ True,  True,  True,  True,  True],\n",
       "       [ True,  True,  True,  True,  True],\n",
       "       [ True,  True,  True,  True,  True],\n",
       "       [ True,  True,  True,  True,  True],\n",
       "       [ True,  True,  True,  True,  True],\n",
       "       [ True,  True,  True,  True,  True],\n",
       "       [ True,  True,  True,  True,  True],\n",
       "       [ True,  True,  True,  True,  True],\n",
       "       [ True,  True,  True,  True,  True],\n",
       "       [ True,  True,  True,  True,  True],\n",
       "       [ True,  True,  True,  True,  True],\n",
       "       [ True,  True,  True,  True,  True]])"
      ]
     },
     "execution_count": 27,
     "metadata": {},
     "output_type": "execute_result"
    }
   ],
   "source": [
    "bdenset.T == bdense"
   ]
  },
  {
   "cell_type": "code",
   "execution_count": 28,
   "id": "570652a8",
   "metadata": {},
   "outputs": [
    {
     "data": {
      "text/plain": [
       "array([[0.        , 0.68347037, 0.8035886 , 0.        , 0.        ,\n",
       "        0.        , 0.        , 0.08023349, 0.8858316 , 0.        ,\n",
       "        0.17861794, 0.        , 0.46201044, 0.        , 0.        ,\n",
       "        0.        ],\n",
       "       [0.9562663 , 0.5531271 , 0.        , 0.        , 0.5375557 ,\n",
       "        0.        , 0.        , 0.        , 0.        , 0.        ,\n",
       "        0.        , 0.20370705, 0.35530138, 0.        , 0.        ,\n",
       "        0.9186601 ],\n",
       "       [0.        , 0.20103766, 0.        , 0.        , 0.        ,\n",
       "        0.74341315, 0.        , 0.        , 0.        , 0.5787496 ,\n",
       "        0.        , 0.05387774, 0.        , 0.5917517 , 0.17797045,\n",
       "        0.        ],\n",
       "       [0.        , 0.        , 0.        , 0.14296253, 0.9103574 ,\n",
       "        0.03242496, 0.        , 0.71459514, 0.        , 0.        ,\n",
       "        0.        , 0.        , 0.7448136 , 0.        , 0.        ,\n",
       "        0.66635793],\n",
       "       [0.        , 0.        , 0.        , 0.59893256, 0.        ,\n",
       "        0.        , 0.        , 0.9217044 , 0.        , 0.16333483,\n",
       "        0.        , 0.17167741, 0.        , 0.        , 0.7605819 ,\n",
       "        0.48675168],\n",
       "       [0.11415514, 0.82574075, 0.        , 0.        , 0.        ,\n",
       "        0.27978534, 0.        , 0.25018668, 0.        , 0.        ,\n",
       "        0.83127654, 0.09929471, 0.        , 0.        , 0.        ,\n",
       "        0.        ],\n",
       "       [0.28872353, 0.04889954, 0.        , 0.6493426 , 0.        ,\n",
       "        0.33329687, 0.        , 0.        , 0.        , 0.        ,\n",
       "        0.        , 0.        , 0.84441024, 0.01120785, 0.        ,\n",
       "        0.        ],\n",
       "       [0.67626965, 0.        , 0.        , 0.35563806, 0.        ,\n",
       "        0.        , 0.69630474, 0.        , 0.6753613 , 0.        ,\n",
       "        0.        , 0.12287189, 0.        , 0.        , 0.        ,\n",
       "        0.09184685]], dtype=float32)"
      ]
     },
     "execution_count": 28,
     "metadata": {},
     "output_type": "execute_result"
    }
   ],
   "source": [
    "a"
   ]
  },
  {
   "cell_type": "code",
   "execution_count": 29,
   "id": "b3828f92",
   "metadata": {},
   "outputs": [
    {
     "data": {
      "text/plain": [
       "array([[ True,  True,  True,  True,  True,  True,  True,  True,  True,\n",
       "         True,  True,  True,  True,  True,  True,  True],\n",
       "       [ True,  True,  True,  True,  True,  True,  True,  True,  True,\n",
       "         True,  True,  True,  True,  True,  True,  True],\n",
       "       [ True,  True,  True,  True,  True,  True,  True,  True,  True,\n",
       "         True,  True,  True,  True,  True,  True,  True],\n",
       "       [ True,  True,  True,  True,  True,  True,  True,  True,  True,\n",
       "         True,  True,  True,  True,  True,  True,  True],\n",
       "       [ True,  True,  True,  True,  True,  True,  True,  True,  True,\n",
       "         True,  True,  True,  True,  True,  True,  True],\n",
       "       [ True,  True,  True,  True,  True,  True,  True,  True,  True,\n",
       "         True,  True,  True,  True,  True,  True,  True],\n",
       "       [ True,  True,  True,  True,  True,  True,  True,  True,  True,\n",
       "         True,  True,  True,  True,  True,  True,  True],\n",
       "       [ True,  True,  True,  True,  True,  True,  True,  True,  True,\n",
       "         True,  True,  True,  True,  True,  True,  True]])"
      ]
     },
     "execution_count": 29,
     "metadata": {},
     "output_type": "execute_result"
    }
   ],
   "source": [
    "a == adense"
   ]
  },
  {
   "cell_type": "code",
   "execution_count": 30,
   "id": "d8e29e3c",
   "metadata": {},
   "outputs": [
    {
     "data": {
      "text/plain": [
       "(8, 16)"
      ]
     },
     "execution_count": 30,
     "metadata": {},
     "output_type": "execute_result"
    }
   ],
   "source": [
    "a.shape"
   ]
  },
  {
   "cell_type": "code",
   "execution_count": 31,
   "id": "233fb7fe",
   "metadata": {},
   "outputs": [
    {
     "data": {
      "text/plain": [
       "((128,), (128,), (8,), 16)"
      ]
     },
     "execution_count": 31,
     "metadata": {},
     "output_type": "execute_result"
    }
   ],
   "source": [
    "adata.shape, acols.shape, annz.shape, ellwa"
   ]
  },
  {
   "cell_type": "code",
   "execution_count": 32,
   "id": "fbb29574",
   "metadata": {},
   "outputs": [],
   "source": [
    "#acols = acols.astype(np.uint32)\n",
    "#annz = annz.astype(np.uint32)"
   ]
  },
  {
   "cell_type": "code",
   "execution_count": 33,
   "id": "008c1a26",
   "metadata": {},
   "outputs": [
    {
     "data": {
      "text/plain": [
       "(array([0.68347037, 0.8035886 , 0.08023349, 0.8858316 , 0.17861794,\n",
       "        0.46201044, 0.        , 0.        , 0.        , 0.        ,\n",
       "        0.        , 0.        , 0.        , 0.        , 0.        ,\n",
       "        0.        , 0.9562663 , 0.5531271 , 0.5375557 , 0.20370705,\n",
       "        0.35530138, 0.9186601 , 0.        , 0.        , 0.        ,\n",
       "        0.        , 0.        , 0.        , 0.        , 0.        ,\n",
       "        0.        , 0.        , 0.20103766, 0.74341315, 0.5787496 ,\n",
       "        0.05387774, 0.5917517 , 0.17797045, 0.        , 0.        ,\n",
       "        0.        , 0.        , 0.        , 0.        , 0.        ,\n",
       "        0.        , 0.        , 0.        , 0.14296253, 0.9103574 ,\n",
       "        0.03242496, 0.71459514, 0.7448136 , 0.66635793, 0.        ,\n",
       "        0.        , 0.        , 0.        , 0.        , 0.        ,\n",
       "        0.        , 0.        , 0.        , 0.        , 0.59893256,\n",
       "        0.9217044 , 0.16333483, 0.17167741, 0.7605819 , 0.48675168,\n",
       "        0.        , 0.        , 0.        , 0.        , 0.        ,\n",
       "        0.        , 0.        , 0.        , 0.        , 0.        ,\n",
       "        0.11415514, 0.82574075, 0.27978534, 0.25018668, 0.83127654,\n",
       "        0.09929471, 0.        , 0.        , 0.        , 0.        ,\n",
       "        0.        , 0.        , 0.        , 0.        , 0.        ,\n",
       "        0.        , 0.28872353, 0.04889954, 0.6493426 , 0.33329687,\n",
       "        0.84441024, 0.01120785, 0.        , 0.        , 0.        ,\n",
       "        0.        , 0.        , 0.        , 0.        , 0.        ,\n",
       "        0.        , 0.        , 0.67626965, 0.35563806, 0.69630474,\n",
       "        0.6753613 , 0.12287189, 0.09184685, 0.        , 0.        ,\n",
       "        0.        , 0.        , 0.        , 0.        , 0.        ,\n",
       "        0.        , 0.        , 0.        ], dtype=float32),\n",
       " array([ 1,  2,  7,  8, 10, 12,  0,  0,  0,  0,  0,  0,  0,  0,  0,  0,  0,\n",
       "         1,  4, 11, 12, 15,  0,  0,  0,  0,  0,  0,  0,  0,  0,  0,  1,  5,\n",
       "         9, 11, 13, 14,  0,  0,  0,  0,  0,  0,  0,  0,  0,  0,  3,  4,  5,\n",
       "         7, 12, 15,  0,  0,  0,  0,  0,  0,  0,  0,  0,  0,  3,  7,  9, 11,\n",
       "        14, 15,  0,  0,  0,  0,  0,  0,  0,  0,  0,  0,  0,  1,  5,  7, 10,\n",
       "        11,  0,  0,  0,  0,  0,  0,  0,  0,  0,  0,  0,  1,  3,  5, 12, 13,\n",
       "         0,  0,  0,  0,  0,  0,  0,  0,  0,  0,  0,  3,  6,  8, 11, 15,  0,\n",
       "         0,  0,  0,  0,  0,  0,  0,  0,  0], dtype=uint32),\n",
       " array([6, 6, 6, 6, 6, 6, 6, 6], dtype=uint32),\n",
       " array([[0.49395892, 0.        , 0.46451807, 0.        , 0.        ],\n",
       "        [0.65864426, 0.        , 0.9786625 , 0.        , 0.        ],\n",
       "        [0.31044865, 0.        , 0.02502257, 0.        , 0.        ],\n",
       "        [0.        , 0.46765924, 0.        , 0.        , 0.03160795],\n",
       "        [0.71082693, 0.        , 0.58997136, 0.        , 0.        ],\n",
       "        [0.        , 0.        , 0.84622455, 0.5916316 , 0.        ],\n",
       "        [0.46450275, 0.        , 0.        , 0.        , 0.9429863 ],\n",
       "        [0.        , 0.34248227, 0.7672639 , 0.        , 0.        ],\n",
       "        [0.        , 0.        , 0.9855889 , 0.        , 0.2535647 ],\n",
       "        [0.        , 0.7705159 , 0.31522992, 0.        , 0.        ],\n",
       "        [0.        , 0.7167741 , 0.        , 0.8238369 , 0.        ],\n",
       "        [0.        , 0.91970533, 0.        , 0.7873889 , 0.        ],\n",
       "        [0.        , 0.        , 0.        , 0.404568  , 0.841323  ],\n",
       "        [0.        , 0.        , 0.674503  , 0.48820347, 0.        ],\n",
       "        [0.18725161, 0.11607183, 0.        , 0.        , 0.        ],\n",
       "        [0.7250254 , 0.        , 0.12346577, 0.        , 0.        ]],\n",
       "       dtype=float32))"
      ]
     },
     "execution_count": 33,
     "metadata": {},
     "output_type": "execute_result"
    }
   ],
   "source": [
    "adata, acols, annz, b"
   ]
  },
  {
   "cell_type": "markdown",
   "id": "0c247b79",
   "metadata": {},
   "source": [
    "## MatMul (Sparse-Dense)"
   ]
  },
  {
   "cell_type": "markdown",
   "id": "aad78213",
   "metadata": {},
   "source": [
    "adata_buf = cl.Buffer(ctx, mf.READ_WRITE | mf.COPY_HOST_PTR, hostbuf=adata)\n",
    "acols_buf = cl.Buffer(ctx, mf.READ_WRITE | mf.COPY_HOST_PTR, hostbuf=acols)\n",
    "annzs_buf = cl.Buffer(ctx, mf.READ_WRITE | mf.COPY_HOST_PTR, hostbuf=annz)\n",
    "adatat_buf = cl.Buffer(ctx, mf.READ_WRITE | mf.COPY_HOST_PTR, hostbuf=adatat)\n",
    "acolst_buf = cl.Buffer(ctx, mf.READ_WRITE | mf.COPY_HOST_PTR, hostbuf=acolst)\n",
    "annzst_buf = cl.Buffer(ctx, mf.READ_WRITE | mf.COPY_HOST_PTR, hostbuf=annzt)\n",
    "b_buf = cl.Buffer(ctx, mf.READ_WRITE | mf.COPY_HOST_PTR, hostbuf=b)\n",
    "\n",
    "prg = cl.Program(ctx, \"\"\"\n",
    "    // SPARSE x DENSE\n",
    "    __kernel void matmul2(__global  float* matData,     // INPUT MATRIX DATA\n",
    "                            __global  uint*  colIdx,\n",
    "                            __global  uint*  rowNnz,\n",
    "                            uint   ellwidth,\n",
    "                            uint ncols,\n",
    "                            __global  float* vector_x,    // INPUT\n",
    "                            __global  float* vector_y    // OUTPUT\n",
    "                            ) { // LOCAL SHARED BUFFER\n",
    "      uint gid = get_global_id(0);\n",
    "      uint nrows = get_global_size(0);\n",
    "      \n",
    "\n",
    "      uint nnz    = rowNnz[gid];\n",
    "      float sum = 0;\n",
    "      for (uint gid2 = 0; gid2 < ncols; gid2++) {\n",
    "        for (uint i = 0; i < nnz; i++) {\n",
    "          uint index   = (gid * ellwidth) + i;\n",
    "          uint col     = colIdx[index];\n",
    "          float aval  = matData[index];\n",
    "          float xval  = vector_x[col*ncols+gid2];\n",
    "          //if (gid==0 && gid2==2)\n",
    "          //  printf(\"aval, xval: %.2f,%.2f: (%i,%i) \\\\n\", aval, xval, col, index);\n",
    "          sum  += aval * xval;\n",
    "        }\n",
    "        //printf(\"SUM/NNZ: %.2f %i \\\\n\", sum, nnz);\n",
    "        vector_y[gid*ncols+gid2] = sum;\n",
    "      }\n",
    "    }\"\"\").build()"
   ]
  },
  {
   "cell_type": "code",
   "execution_count": 34,
   "id": "fb0ca1f4",
   "metadata": {},
   "outputs": [],
   "source": [
    "adata_buf = cl.Buffer(ctx, mf.READ_WRITE | mf.COPY_HOST_PTR, hostbuf=adata)\n",
    "acols_buf = cl.Buffer(ctx, mf.READ_WRITE | mf.COPY_HOST_PTR, hostbuf=acols)\n",
    "annzs_buf = cl.Buffer(ctx, mf.READ_WRITE | mf.COPY_HOST_PTR, hostbuf=annz)\n",
    "adatat_buf = cl.Buffer(ctx, mf.READ_WRITE | mf.COPY_HOST_PTR, hostbuf=adatat)\n",
    "acolst_buf = cl.Buffer(ctx, mf.READ_WRITE | mf.COPY_HOST_PTR, hostbuf=acolst)\n",
    "annzst_buf = cl.Buffer(ctx, mf.READ_WRITE | mf.COPY_HOST_PTR, hostbuf=annzt)\n",
    "b_buf = cl.Buffer(ctx, mf.READ_WRITE | mf.COPY_HOST_PTR, hostbuf=b)\n",
    "\n",
    "prg = cl.Program(ctx, \"\"\"\n",
    "    // SPARSE x DENSE\n",
    "    __kernel void matmul2(__global  float* matData,     // INPUT MATRIX DATA\n",
    "                            __global  uint*  colIdx,\n",
    "                            __global  uint*  rowNnz,\n",
    "                            uint   ellwidth,\n",
    "                            uint ncols,\n",
    "                            __global  float* vector_x,    // INPUT\n",
    "                            __global  float* vector_y    // OUTPUT\n",
    "                            ) { // LOCAL SHARED BUFFER\n",
    "      uint gid = get_global_id(0);\n",
    "      uint nrows = get_global_size(0);\n",
    "      \n",
    "\n",
    "      uint nnz    = rowNnz[gid];\n",
    "      \n",
    "      for (uint gid2 = 0; gid2 < ncols; gid2++) {\n",
    "        float sum = 0;\n",
    "        for (uint i = 0; i < nnz; i++) {\n",
    "          uint index   = (gid * ellwidth) + i;\n",
    "          uint col     = colIdx[index];\n",
    "          float aval  = matData[index];\n",
    "          uint xidx = col*ncols+gid2;\n",
    "          float xval  = vector_x[xidx];\n",
    "          if (gid==0 && gid2==1)\n",
    "            printf(\"aval, xval: %.2f,%.2f: (%i,%i) - %i \\\\n\", aval, xval, col, index, xidx);\n",
    "          sum  += aval * xval;\n",
    "        }\n",
    "        //printf(\"SUM/NNZ: %.2f %i \\\\n\", sum, nnz);\n",
    "        vector_y[gid*ncols+gid2] = sum;\n",
    "      }\n",
    "    }\"\"\").build()"
   ]
  },
  {
   "cell_type": "code",
   "execution_count": 35,
   "id": "b4c85bcb",
   "metadata": {},
   "outputs": [
    {
     "data": {
      "text/plain": [
       "((8, 16), (16, 5))"
      ]
     },
     "execution_count": 35,
     "metadata": {},
     "output_type": "execute_result"
    }
   ],
   "source": [
    "a.shape, b.shape"
   ]
  },
  {
   "cell_type": "code",
   "execution_count": 36,
   "id": "c740a4fe",
   "metadata": {},
   "outputs": [],
   "source": [
    "res = np.zeros(a.shape[0]).astype(np.float32)\n",
    "#res"
   ]
  },
  {
   "cell_type": "code",
   "execution_count": 37,
   "id": "07aa4d30",
   "metadata": {},
   "outputs": [],
   "source": [
    "rows = a.shape[0]"
   ]
  },
  {
   "cell_type": "code",
   "execution_count": 38,
   "id": "98da857f",
   "metadata": {},
   "outputs": [],
   "source": [
    "mult = mult.astype(np.float32)"
   ]
  },
  {
   "cell_type": "code",
   "execution_count": 39,
   "id": "350bdb16",
   "metadata": {},
   "outputs": [
    {
     "data": {
      "text/plain": [
       "(8, 5)"
      ]
     },
     "execution_count": 39,
     "metadata": {},
     "output_type": "execute_result"
    }
   ],
   "source": [
    "outshape = (a.shape[0], b.shape[1])\n",
    "outshape"
   ]
  },
  {
   "cell_type": "code",
   "execution_count": 40,
   "id": "cc7365fc",
   "metadata": {},
   "outputs": [
    {
     "name": "stdout",
     "output_type": "stream",
     "text": [
      "aval, xval: 0.68,0.00: (1,0) - 6 \n",
      "aval, xval: 0.80,0.00: (2,1) - 11 \n",
      "aval, xval: 0.08,0.34: (7,2) - 36 \n",
      "aval, xval: 0.89,0.00: (8,3) - 41 \n",
      "aval, xval: 0.18,0.72: (10,4) - 51 \n",
      "aval, xval: 0.46,0.00: (12,5) - 61 \n"
     ]
    },
    {
     "data": {
      "text/plain": [
       "<pyopencl._cl.NannyEvent at 0x7f5a6439e4f0>"
      ]
     },
     "execution_count": 40,
     "metadata": {},
     "output_type": "execute_result"
    }
   ],
   "source": [
    "res_buf = cl.Buffer(ctx, mf.READ_WRITE, np.prod(outshape)*4)\n",
    "knl = prg.matmul2  # Use this Kernel object for repeated calls\n",
    "knl(queue, [outshape[0]], None, adata_buf, acols_buf, annzs_buf, np.uint32(ellwa), np.uint32(outshape[1]), b_buf, res_buf)\n",
    "\n",
    "res_np = np.zeros(outshape).astype(np.float32)\n",
    "cl.enqueue_copy(queue, res_np, res_buf)"
   ]
  },
  {
   "cell_type": "code",
   "execution_count": 41,
   "id": "e2181f67",
   "metadata": {},
   "outputs": [
    {
     "data": {
      "text/plain": [
       "0.0"
      ]
     },
     "execution_count": 41,
     "metadata": {},
     "output_type": "execute_result"
    }
   ],
   "source": [
    "(res_np-mult).sum()"
   ]
  },
  {
   "cell_type": "code",
   "execution_count": 42,
   "id": "79390719",
   "metadata": {},
   "outputs": [
    {
     "data": {
      "text/plain": [
       "array([[0.        , 0.68347037, 0.8035886 , 0.        , 0.        ,\n",
       "        0.        , 0.        , 0.08023349, 0.8858316 , 0.        ,\n",
       "        0.17861794, 0.        , 0.46201044, 0.        , 0.        ,\n",
       "        0.        ],\n",
       "       [0.9562663 , 0.5531271 , 0.        , 0.        , 0.5375557 ,\n",
       "        0.        , 0.        , 0.        , 0.        , 0.        ,\n",
       "        0.        , 0.20370705, 0.35530138, 0.        , 0.        ,\n",
       "        0.9186601 ],\n",
       "       [0.        , 0.20103766, 0.        , 0.        , 0.        ,\n",
       "        0.74341315, 0.        , 0.        , 0.        , 0.5787496 ,\n",
       "        0.        , 0.05387774, 0.        , 0.5917517 , 0.17797045,\n",
       "        0.        ],\n",
       "       [0.        , 0.        , 0.        , 0.14296253, 0.9103574 ,\n",
       "        0.03242496, 0.        , 0.71459514, 0.        , 0.        ,\n",
       "        0.        , 0.        , 0.7448136 , 0.        , 0.        ,\n",
       "        0.66635793],\n",
       "       [0.        , 0.        , 0.        , 0.59893256, 0.        ,\n",
       "        0.        , 0.        , 0.9217044 , 0.        , 0.16333483,\n",
       "        0.        , 0.17167741, 0.        , 0.        , 0.7605819 ,\n",
       "        0.48675168],\n",
       "       [0.11415514, 0.82574075, 0.        , 0.        , 0.        ,\n",
       "        0.27978534, 0.        , 0.25018668, 0.        , 0.        ,\n",
       "        0.83127654, 0.09929471, 0.        , 0.        , 0.        ,\n",
       "        0.        ],\n",
       "       [0.28872353, 0.04889954, 0.        , 0.6493426 , 0.        ,\n",
       "        0.33329687, 0.        , 0.        , 0.        , 0.        ,\n",
       "        0.        , 0.        , 0.84441024, 0.01120785, 0.        ,\n",
       "        0.        ],\n",
       "       [0.67626965, 0.        , 0.        , 0.35563806, 0.        ,\n",
       "        0.        , 0.69630474, 0.        , 0.6753613 , 0.        ,\n",
       "        0.        , 0.12287189, 0.        , 0.        , 0.        ,\n",
       "        0.09184685]], dtype=float32)"
      ]
     },
     "execution_count": 42,
     "metadata": {},
     "output_type": "execute_result"
    }
   ],
   "source": [
    "a"
   ]
  },
  {
   "cell_type": "code",
   "execution_count": 43,
   "id": "a53bcc0b",
   "metadata": {},
   "outputs": [
    {
     "data": {
      "text/plain": [
       "array([[0.49395892, 0.        , 0.46451807, 0.        , 0.        ],\n",
       "       [0.65864426, 0.        , 0.9786625 , 0.        , 0.        ],\n",
       "       [0.31044865, 0.        , 0.02502257, 0.        , 0.        ],\n",
       "       [0.        , 0.46765924, 0.        , 0.        , 0.03160795],\n",
       "       [0.71082693, 0.        , 0.58997136, 0.        , 0.        ],\n",
       "       [0.        , 0.        , 0.84622455, 0.5916316 , 0.        ],\n",
       "       [0.46450275, 0.        , 0.        , 0.        , 0.9429863 ],\n",
       "       [0.        , 0.34248227, 0.7672639 , 0.        , 0.        ],\n",
       "       [0.        , 0.        , 0.9855889 , 0.        , 0.2535647 ],\n",
       "       [0.        , 0.7705159 , 0.31522992, 0.        , 0.        ],\n",
       "       [0.        , 0.7167741 , 0.        , 0.8238369 , 0.        ],\n",
       "       [0.        , 0.91970533, 0.        , 0.7873889 , 0.        ],\n",
       "       [0.        , 0.        , 0.        , 0.404568  , 0.841323  ],\n",
       "       [0.        , 0.        , 0.674503  , 0.48820347, 0.        ],\n",
       "       [0.18725161, 0.11607183, 0.        , 0.        , 0.        ],\n",
       "       [0.7250254 , 0.        , 0.12346577, 0.        , 0.        ]],\n",
       "      dtype=float32)"
      ]
     },
     "execution_count": 43,
     "metadata": {},
     "output_type": "execute_result"
    }
   ],
   "source": [
    "b"
   ]
  },
  {
   "cell_type": "code",
   "execution_count": 44,
   "id": "33d8a584",
   "metadata": {},
   "outputs": [
    {
     "data": {
      "text/plain": [
       "<pyopencl._cl.Buffer at 0x7f5a645f7cc0>"
      ]
     },
     "execution_count": 44,
     "metadata": {},
     "output_type": "execute_result"
    }
   ],
   "source": [
    "res_buf"
   ]
  },
  {
   "cell_type": "code",
   "execution_count": 45,
   "id": "99faec15",
   "metadata": {},
   "outputs": [
    {
     "data": {
      "text/plain": [
       "array([[0.6996368 , 0.15550727, 1.6236207 , 0.3340667 , 0.61331564],\n",
       "       [1.8848312 , 0.18735047, 1.4160932 , 0.30414024, 0.29892322],\n",
       "       [0.16573755, 0.51614475, 1.40742   , 0.7711447 , 0.        ],\n",
       "       [1.130233  , 0.31159392, 1.1950791 , 0.32051137, 0.6311476 ],\n",
       "       [0.49532753, 0.9677906 , 0.8187757 , 0.1351769 , 0.01893103],\n",
       "       [0.60025734, 0.7728439 , 1.2898692 , 0.9285497 , 0.        ],\n",
       "       [0.17482497, 0.30367106, 0.47157714, 0.544282  , 0.7309462 ],\n",
       "       [0.7240762 , 0.27932334, 0.99110806, 0.09674796, 0.8390946 ]],\n",
       "      dtype=float32)"
      ]
     },
     "execution_count": 45,
     "metadata": {},
     "output_type": "execute_result"
    }
   ],
   "source": [
    "res_np"
   ]
  },
  {
   "cell_type": "code",
   "execution_count": 46,
   "id": "4da1c066",
   "metadata": {},
   "outputs": [
    {
     "data": {
      "text/plain": [
       "array([[0.6996368 , 0.15550727, 1.6236207 , 0.3340667 , 0.61331564],\n",
       "       [1.8848312 , 0.18735047, 1.4160932 , 0.30414024, 0.29892322],\n",
       "       [0.16573755, 0.51614475, 1.40742   , 0.7711447 , 0.        ],\n",
       "       [1.130233  , 0.31159392, 1.1950791 , 0.32051137, 0.6311476 ],\n",
       "       [0.49532753, 0.9677906 , 0.8187757 , 0.1351769 , 0.01893103],\n",
       "       [0.60025734, 0.7728439 , 1.2898692 , 0.9285497 , 0.        ],\n",
       "       [0.17482497, 0.30367106, 0.47157714, 0.544282  , 0.7309462 ],\n",
       "       [0.7240762 , 0.27932334, 0.99110806, 0.09674796, 0.8390946 ]],\n",
       "      dtype=float32)"
      ]
     },
     "execution_count": 46,
     "metadata": {},
     "output_type": "execute_result"
    }
   ],
   "source": [
    "mult"
   ]
  },
  {
   "cell_type": "code",
   "execution_count": 47,
   "id": "0ca8d088",
   "metadata": {},
   "outputs": [
    {
     "data": {
      "text/plain": [
       "array([[ True,  True,  True,  True,  True],\n",
       "       [ True,  True,  True,  True,  True],\n",
       "       [ True,  True,  True,  True,  True],\n",
       "       [ True,  True,  True,  True,  True],\n",
       "       [ True,  True,  True,  True,  True],\n",
       "       [ True,  True,  True,  True,  True],\n",
       "       [ True,  True,  True,  True,  True],\n",
       "       [ True,  True,  True,  True,  True]])"
      ]
     },
     "execution_count": 47,
     "metadata": {},
     "output_type": "execute_result"
    }
   ],
   "source": [
    "res_np==mult"
   ]
  },
  {
   "cell_type": "code",
   "execution_count": 48,
   "id": "c197fea2",
   "metadata": {},
   "outputs": [
    {
     "data": {
      "text/plain": [
       "(8, 5)"
      ]
     },
     "execution_count": 48,
     "metadata": {},
     "output_type": "execute_result"
    }
   ],
   "source": [
    "res_np.shape"
   ]
  },
  {
   "cell_type": "code",
   "execution_count": 49,
   "id": "b20b9da3",
   "metadata": {},
   "outputs": [
    {
     "data": {
      "text/plain": [
       "(8, 5)"
      ]
     },
     "execution_count": 49,
     "metadata": {},
     "output_type": "execute_result"
    }
   ],
   "source": [
    "mult.shape"
   ]
  },
  {
   "cell_type": "markdown",
   "id": "020471e7",
   "metadata": {},
   "source": [
    "## MatMul (dense * sparse)"
   ]
  },
  {
   "cell_type": "code",
   "execution_count": 50,
   "id": "dc619c6d",
   "metadata": {},
   "outputs": [],
   "source": [
    "bdata_buf = cl.Buffer(ctx, mf.READ_WRITE | mf.COPY_HOST_PTR, hostbuf=bdata)\n",
    "bcols_buf = cl.Buffer(ctx, mf.READ_WRITE | mf.COPY_HOST_PTR, hostbuf=bcols)\n",
    "bnnzs_buf = cl.Buffer(ctx, mf.READ_WRITE | mf.COPY_HOST_PTR, hostbuf=bnnz)\n",
    "bdatat_buf = cl.Buffer(ctx, mf.READ_WRITE | mf.COPY_HOST_PTR, hostbuf=bdatat)\n",
    "bcolst_buf = cl.Buffer(ctx, mf.READ_WRITE | mf.COPY_HOST_PTR, hostbuf=bcolst)\n",
    "bnnzst_buf = cl.Buffer(ctx, mf.READ_WRITE | mf.COPY_HOST_PTR, hostbuf=bnnzt)\n",
    "a_buf = cl.Buffer(ctx, mf.READ_WRITE | mf.COPY_HOST_PTR, hostbuf=a)\n",
    "\n",
    "prg = cl.Program(ctx, \"\"\"\n",
    "    // DENSE x SPARSE\n",
    "    __kernel void matmul(__global  float* matData,     // INPUT MATRIX DATA\n",
    "                            __global  uint*  colIdx,\n",
    "                            __global  uint*  rowNnz,\n",
    "                            uint   ellwidth,\n",
    "                            uint   mwidth,\n",
    "                            uint   ncols,\n",
    "                            __global  float* vector_x,    // INPUT\n",
    "                            __global  float* vector_y    // OUTPUT\n",
    "                            ) { // LOCAL SHARED BUFFER\n",
    "      uint gid = get_global_id(0);\n",
    "      uint nrows = get_global_size(0);\n",
    "\n",
    "      for (uint gid2 = 0; gid2 < ncols; gid2++) {\n",
    "        uint nnz = rowNnz[gid2];\n",
    "        float sum = 0;\n",
    "        for (uint i = 0; i < nnz; i++) {\n",
    "          uint index   = (gid2 * ellwidth) + i;\n",
    "          uint col     = colIdx[index];\n",
    "          float aval  = matData[index];\n",
    "          float xval  = vector_x[gid*mwidth+col];\n",
    "          sum  += aval * xval;\n",
    "          if (gid==0 && gid2==0)\n",
    "            printf(\"aval, xval: %.2f,%.2f - %.2f: (%i,%i) \\\\n\", aval, xval, sum, col, index);\n",
    "        }\n",
    "        //printf(\"SUM/NNZ: %.2f %i \\\\n\", sum, nnz);\n",
    "        vector_y[gid*ncols+gid2] = sum;\n",
    "      }\n",
    "    }\"\"\").build()"
   ]
  },
  {
   "cell_type": "code",
   "execution_count": 51,
   "id": "65b33635",
   "metadata": {},
   "outputs": [
    {
     "data": {
      "text/plain": [
       "((8, 16), (16, 5))"
      ]
     },
     "execution_count": 51,
     "metadata": {},
     "output_type": "execute_result"
    }
   ],
   "source": [
    "a.shape, b.shape"
   ]
  },
  {
   "cell_type": "code",
   "execution_count": 52,
   "id": "1133e820",
   "metadata": {},
   "outputs": [],
   "source": [
    "res = np.zeros(a.shape[0]).astype(np.float32)\n",
    "#res"
   ]
  },
  {
   "cell_type": "code",
   "execution_count": 53,
   "id": "c5fb4354",
   "metadata": {},
   "outputs": [],
   "source": [
    "rows = a.shape[0]"
   ]
  },
  {
   "cell_type": "code",
   "execution_count": 54,
   "id": "c687e0e1",
   "metadata": {},
   "outputs": [
    {
     "data": {
      "text/plain": [
       "((8, 16), (16, 5))"
      ]
     },
     "execution_count": 54,
     "metadata": {},
     "output_type": "execute_result"
    }
   ],
   "source": [
    "a.shape, b.shape"
   ]
  },
  {
   "cell_type": "code",
   "execution_count": 55,
   "id": "2d2074e5",
   "metadata": {},
   "outputs": [],
   "source": [
    "mult = a.dot(b)\n",
    "mult = mult.astype(np.float32)"
   ]
  },
  {
   "cell_type": "code",
   "execution_count": 56,
   "id": "62207659",
   "metadata": {},
   "outputs": [
    {
     "data": {
      "text/plain": [
       "array([8, 5])"
      ]
     },
     "execution_count": 56,
     "metadata": {},
     "output_type": "execute_result"
    }
   ],
   "source": [
    "outshape = np.array([a.shape[0], b.shape[1]])\n",
    "outshape"
   ]
  },
  {
   "cell_type": "code",
   "execution_count": 57,
   "id": "48bda7d1",
   "metadata": {},
   "outputs": [
    {
     "data": {
      "text/plain": [
       "array([[0.49395892, 0.65864426, 0.31044865, 0.        , 0.71082693,\n",
       "        0.        , 0.46450275, 0.        , 0.        , 0.        ,\n",
       "        0.        , 0.        , 0.        , 0.        , 0.18725161,\n",
       "        0.7250254 ],\n",
       "       [0.        , 0.        , 0.        , 0.46765924, 0.        ,\n",
       "        0.        , 0.        , 0.34248227, 0.        , 0.7705159 ,\n",
       "        0.7167741 , 0.91970533, 0.        , 0.        , 0.11607183,\n",
       "        0.        ],\n",
       "       [0.46451807, 0.9786625 , 0.02502257, 0.        , 0.58997136,\n",
       "        0.84622455, 0.        , 0.7672639 , 0.9855889 , 0.31522992,\n",
       "        0.        , 0.        , 0.        , 0.674503  , 0.        ,\n",
       "        0.12346577],\n",
       "       [0.        , 0.        , 0.        , 0.        , 0.        ,\n",
       "        0.5916316 , 0.        , 0.        , 0.        , 0.        ,\n",
       "        0.8238369 , 0.7873889 , 0.404568  , 0.48820347, 0.        ,\n",
       "        0.        ],\n",
       "       [0.        , 0.        , 0.        , 0.03160795, 0.        ,\n",
       "        0.        , 0.9429863 , 0.        , 0.2535647 , 0.        ,\n",
       "        0.        , 0.        , 0.841323  , 0.        , 0.        ,\n",
       "        0.        ]], dtype=float32)"
      ]
     },
     "execution_count": 57,
     "metadata": {},
     "output_type": "execute_result"
    }
   ],
   "source": [
    "b.T"
   ]
  },
  {
   "cell_type": "code",
   "execution_count": 58,
   "id": "e81754e5",
   "metadata": {},
   "outputs": [
    {
     "data": {
      "text/plain": [
       "array([[0.        , 0.9562663 , 0.        , 0.        , 0.        ,\n",
       "        0.11415514, 0.28872353, 0.67626965],\n",
       "       [0.68347037, 0.5531271 , 0.20103766, 0.        , 0.        ,\n",
       "        0.82574075, 0.04889954, 0.        ],\n",
       "       [0.8035886 , 0.        , 0.        , 0.        , 0.        ,\n",
       "        0.        , 0.        , 0.        ],\n",
       "       [0.        , 0.        , 0.        , 0.14296253, 0.59893256,\n",
       "        0.        , 0.6493426 , 0.35563806],\n",
       "       [0.        , 0.5375557 , 0.        , 0.9103574 , 0.        ,\n",
       "        0.        , 0.        , 0.        ],\n",
       "       [0.        , 0.        , 0.74341315, 0.03242496, 0.        ,\n",
       "        0.27978534, 0.33329687, 0.        ],\n",
       "       [0.        , 0.        , 0.        , 0.        , 0.        ,\n",
       "        0.        , 0.        , 0.69630474],\n",
       "       [0.08023349, 0.        , 0.        , 0.71459514, 0.9217044 ,\n",
       "        0.25018668, 0.        , 0.        ],\n",
       "       [0.8858316 , 0.        , 0.        , 0.        , 0.        ,\n",
       "        0.        , 0.        , 0.6753613 ],\n",
       "       [0.        , 0.        , 0.5787496 , 0.        , 0.16333483,\n",
       "        0.        , 0.        , 0.        ],\n",
       "       [0.17861794, 0.        , 0.        , 0.        , 0.        ,\n",
       "        0.83127654, 0.        , 0.        ],\n",
       "       [0.        , 0.20370705, 0.05387774, 0.        , 0.17167741,\n",
       "        0.09929471, 0.        , 0.12287189],\n",
       "       [0.46201044, 0.35530138, 0.        , 0.7448136 , 0.        ,\n",
       "        0.        , 0.84441024, 0.        ],\n",
       "       [0.        , 0.        , 0.5917517 , 0.        , 0.        ,\n",
       "        0.        , 0.01120785, 0.        ],\n",
       "       [0.        , 0.        , 0.17797045, 0.        , 0.7605819 ,\n",
       "        0.        , 0.        , 0.        ],\n",
       "       [0.        , 0.9186601 , 0.        , 0.66635793, 0.48675168,\n",
       "        0.        , 0.        , 0.09184685]], dtype=float32)"
      ]
     },
     "execution_count": 58,
     "metadata": {},
     "output_type": "execute_result"
    }
   ],
   "source": [
    "a.T"
   ]
  },
  {
   "cell_type": "code",
   "execution_count": 59,
   "id": "a4aa52cb",
   "metadata": {},
   "outputs": [
    {
     "data": {
      "text/plain": [
       "array([8, 5])"
      ]
     },
     "execution_count": 59,
     "metadata": {},
     "output_type": "execute_result"
    }
   ],
   "source": [
    "outshape.T"
   ]
  },
  {
   "cell_type": "code",
   "execution_count": 60,
   "id": "cda5d20b",
   "metadata": {},
   "outputs": [
    {
     "data": {
      "text/plain": [
       "((16, 5), array([8, 5]))"
      ]
     },
     "execution_count": 60,
     "metadata": {},
     "output_type": "execute_result"
    }
   ],
   "source": [
    "b.shape, outshape"
   ]
  },
  {
   "cell_type": "code",
   "execution_count": 61,
   "id": "35754fb9",
   "metadata": {},
   "outputs": [
    {
     "name": "stdout",
     "output_type": "stream",
     "text": [
      "aval, xval: 0.49,0.00 - 0.00: (0,0) \n",
      "aval, xval: 0.66,0.68 - 0.45: (1,1) \n",
      "aval, xval: 0.31,0.80 - 0.70: (2,2) \n",
      "aval, xval: 0.71,0.00 - 0.70: (4,3) \n",
      "aval, xval: 0.46,0.00 - 0.70: (6,4) \n",
      "aval, xval: 0.19,0.00 - 0.70: (14,5) \n",
      "aval, xval: 0.73,0.00 - 0.70: (15,6) \n"
     ]
    },
    {
     "data": {
      "text/plain": [
       "<pyopencl._cl.NannyEvent at 0x7f5a643b2db0>"
      ]
     },
     "execution_count": 61,
     "metadata": {},
     "output_type": "execute_result"
    }
   ],
   "source": [
    "res_buf = cl.Buffer(ctx, mf.READ_WRITE, np.prod(outshape)*4)\n",
    "knl = prg.matmul  # Use this Kernel object for repeated calls\n",
    "knl(queue, [outshape.T[0]], None, bdatat_buf, bcolst_buf, bnnzst_buf, np.uint32(ellwbt), np.uint32(b.shape[0]), np.uint32(outshape.T[1]), a_buf, res_buf)\n",
    "\n",
    "res_np = np.zeros(outshape).astype(np.float32)\n",
    "cl.enqueue_copy(queue, res_np, res_buf)"
   ]
  },
  {
   "cell_type": "code",
   "execution_count": 62,
   "id": "23cf552a",
   "metadata": {},
   "outputs": [
    {
     "data": {
      "text/plain": [
       "0.0"
      ]
     },
     "execution_count": 62,
     "metadata": {},
     "output_type": "execute_result"
    }
   ],
   "source": [
    "(res_np-mult).sum()"
   ]
  },
  {
   "cell_type": "code",
   "execution_count": 63,
   "id": "99d10b20",
   "metadata": {},
   "outputs": [
    {
     "data": {
      "text/plain": [
       "array([[0.        , 0.68347037, 0.8035886 , 0.        , 0.        ,\n",
       "        0.        , 0.        , 0.08023349, 0.8858316 , 0.        ,\n",
       "        0.17861794, 0.        , 0.46201044, 0.        , 0.        ,\n",
       "        0.        ],\n",
       "       [0.9562663 , 0.5531271 , 0.        , 0.        , 0.5375557 ,\n",
       "        0.        , 0.        , 0.        , 0.        , 0.        ,\n",
       "        0.        , 0.20370705, 0.35530138, 0.        , 0.        ,\n",
       "        0.9186601 ],\n",
       "       [0.        , 0.20103766, 0.        , 0.        , 0.        ,\n",
       "        0.74341315, 0.        , 0.        , 0.        , 0.5787496 ,\n",
       "        0.        , 0.05387774, 0.        , 0.5917517 , 0.17797045,\n",
       "        0.        ],\n",
       "       [0.        , 0.        , 0.        , 0.14296253, 0.9103574 ,\n",
       "        0.03242496, 0.        , 0.71459514, 0.        , 0.        ,\n",
       "        0.        , 0.        , 0.7448136 , 0.        , 0.        ,\n",
       "        0.66635793],\n",
       "       [0.        , 0.        , 0.        , 0.59893256, 0.        ,\n",
       "        0.        , 0.        , 0.9217044 , 0.        , 0.16333483,\n",
       "        0.        , 0.17167741, 0.        , 0.        , 0.7605819 ,\n",
       "        0.48675168],\n",
       "       [0.11415514, 0.82574075, 0.        , 0.        , 0.        ,\n",
       "        0.27978534, 0.        , 0.25018668, 0.        , 0.        ,\n",
       "        0.83127654, 0.09929471, 0.        , 0.        , 0.        ,\n",
       "        0.        ],\n",
       "       [0.28872353, 0.04889954, 0.        , 0.6493426 , 0.        ,\n",
       "        0.33329687, 0.        , 0.        , 0.        , 0.        ,\n",
       "        0.        , 0.        , 0.84441024, 0.01120785, 0.        ,\n",
       "        0.        ],\n",
       "       [0.67626965, 0.        , 0.        , 0.35563806, 0.        ,\n",
       "        0.        , 0.69630474, 0.        , 0.6753613 , 0.        ,\n",
       "        0.        , 0.12287189, 0.        , 0.        , 0.        ,\n",
       "        0.09184685]], dtype=float32)"
      ]
     },
     "execution_count": 63,
     "metadata": {},
     "output_type": "execute_result"
    }
   ],
   "source": [
    "a"
   ]
  },
  {
   "cell_type": "code",
   "execution_count": 64,
   "id": "85fb2a81",
   "metadata": {},
   "outputs": [
    {
     "data": {
      "text/plain": [
       "array([[0.49395892, 0.        , 0.46451807, 0.        , 0.        ],\n",
       "       [0.65864426, 0.        , 0.9786625 , 0.        , 0.        ],\n",
       "       [0.31044865, 0.        , 0.02502257, 0.        , 0.        ],\n",
       "       [0.        , 0.46765924, 0.        , 0.        , 0.03160795],\n",
       "       [0.71082693, 0.        , 0.58997136, 0.        , 0.        ],\n",
       "       [0.        , 0.        , 0.84622455, 0.5916316 , 0.        ],\n",
       "       [0.46450275, 0.        , 0.        , 0.        , 0.9429863 ],\n",
       "       [0.        , 0.34248227, 0.7672639 , 0.        , 0.        ],\n",
       "       [0.        , 0.        , 0.9855889 , 0.        , 0.2535647 ],\n",
       "       [0.        , 0.7705159 , 0.31522992, 0.        , 0.        ],\n",
       "       [0.        , 0.7167741 , 0.        , 0.8238369 , 0.        ],\n",
       "       [0.        , 0.91970533, 0.        , 0.7873889 , 0.        ],\n",
       "       [0.        , 0.        , 0.        , 0.404568  , 0.841323  ],\n",
       "       [0.        , 0.        , 0.674503  , 0.48820347, 0.        ],\n",
       "       [0.18725161, 0.11607183, 0.        , 0.        , 0.        ],\n",
       "       [0.7250254 , 0.        , 0.12346577, 0.        , 0.        ]],\n",
       "      dtype=float32)"
      ]
     },
     "execution_count": 64,
     "metadata": {},
     "output_type": "execute_result"
    }
   ],
   "source": [
    "b"
   ]
  },
  {
   "cell_type": "code",
   "execution_count": 65,
   "id": "ee65b3de",
   "metadata": {},
   "outputs": [
    {
     "data": {
      "text/plain": [
       "<pyopencl._cl.Buffer at 0x7f5a6439e8b0>"
      ]
     },
     "execution_count": 65,
     "metadata": {},
     "output_type": "execute_result"
    }
   ],
   "source": [
    "res_buf"
   ]
  },
  {
   "cell_type": "code",
   "execution_count": 66,
   "id": "15e6ab60",
   "metadata": {},
   "outputs": [
    {
     "data": {
      "text/plain": [
       "array([[0.6996368 , 0.15550727, 1.6236207 , 0.3340667 , 0.61331564],\n",
       "       [1.8848312 , 0.18735047, 1.4160932 , 0.30414024, 0.29892322],\n",
       "       [0.16573755, 0.51614475, 1.40742   , 0.7711447 , 0.        ],\n",
       "       [1.130233  , 0.31159392, 1.1950791 , 0.32051137, 0.6311476 ],\n",
       "       [0.49532753, 0.9677906 , 0.8187757 , 0.1351769 , 0.01893103],\n",
       "       [0.60025734, 0.7728439 , 1.2898692 , 0.9285497 , 0.        ],\n",
       "       [0.17482497, 0.30367106, 0.47157714, 0.544282  , 0.7309462 ],\n",
       "       [0.7240762 , 0.27932334, 0.99110806, 0.09674796, 0.8390946 ]],\n",
       "      dtype=float32)"
      ]
     },
     "execution_count": 66,
     "metadata": {},
     "output_type": "execute_result"
    }
   ],
   "source": [
    "res_np"
   ]
  },
  {
   "cell_type": "code",
   "execution_count": 67,
   "id": "ea2ac480",
   "metadata": {},
   "outputs": [
    {
     "data": {
      "text/plain": [
       "array([[0.6996368 , 0.15550727, 1.6236207 , 0.3340667 , 0.61331564],\n",
       "       [1.8848312 , 0.18735047, 1.4160932 , 0.30414024, 0.29892322],\n",
       "       [0.16573755, 0.51614475, 1.40742   , 0.7711447 , 0.        ],\n",
       "       [1.130233  , 0.31159392, 1.1950791 , 0.32051137, 0.6311476 ],\n",
       "       [0.49532753, 0.9677906 , 0.8187757 , 0.1351769 , 0.01893103],\n",
       "       [0.60025734, 0.7728439 , 1.2898692 , 0.9285497 , 0.        ],\n",
       "       [0.17482497, 0.30367106, 0.47157714, 0.544282  , 0.7309462 ],\n",
       "       [0.7240762 , 0.27932334, 0.99110806, 0.09674796, 0.8390946 ]],\n",
       "      dtype=float32)"
      ]
     },
     "execution_count": 67,
     "metadata": {},
     "output_type": "execute_result"
    }
   ],
   "source": [
    "mult"
   ]
  },
  {
   "cell_type": "code",
   "execution_count": 68,
   "id": "232d2e9c",
   "metadata": {},
   "outputs": [
    {
     "data": {
      "text/plain": [
       "array([[ True,  True,  True,  True,  True],\n",
       "       [ True,  True,  True,  True,  True],\n",
       "       [ True,  True,  True,  True,  True],\n",
       "       [ True,  True,  True,  True,  True],\n",
       "       [ True,  True,  True,  True,  True],\n",
       "       [ True,  True,  True,  True,  True],\n",
       "       [ True,  True,  True,  True,  True],\n",
       "       [ True,  True,  True,  True,  True]])"
      ]
     },
     "execution_count": 68,
     "metadata": {},
     "output_type": "execute_result"
    }
   ],
   "source": [
    "res_np==mult"
   ]
  },
  {
   "cell_type": "code",
   "execution_count": 69,
   "id": "315f252f",
   "metadata": {},
   "outputs": [
    {
     "data": {
      "text/plain": [
       "array([[0., 0., 0., 0., 0.],\n",
       "       [0., 0., 0., 0., 0.],\n",
       "       [0., 0., 0., 0., 0.],\n",
       "       [0., 0., 0., 0., 0.],\n",
       "       [0., 0., 0., 0., 0.],\n",
       "       [0., 0., 0., 0., 0.],\n",
       "       [0., 0., 0., 0., 0.],\n",
       "       [0., 0., 0., 0., 0.]], dtype=float32)"
      ]
     },
     "execution_count": 69,
     "metadata": {},
     "output_type": "execute_result"
    }
   ],
   "source": [
    "res_np-mult"
   ]
  },
  {
   "cell_type": "code",
   "execution_count": 70,
   "id": "3cc1c589",
   "metadata": {},
   "outputs": [
    {
     "data": {
      "text/plain": [
       "(8, 5)"
      ]
     },
     "execution_count": 70,
     "metadata": {},
     "output_type": "execute_result"
    }
   ],
   "source": [
    "res_np.shape"
   ]
  },
  {
   "cell_type": "code",
   "execution_count": 71,
   "id": "7c621598",
   "metadata": {},
   "outputs": [
    {
     "data": {
      "text/plain": [
       "(8, 5)"
      ]
     },
     "execution_count": 71,
     "metadata": {},
     "output_type": "execute_result"
    }
   ],
   "source": [
    "mult.shape"
   ]
  },
  {
   "cell_type": "markdown",
   "id": "2432487e",
   "metadata": {},
   "source": [
    "## MatMul2 (dense * sparse)"
   ]
  },
  {
   "cell_type": "markdown",
   "id": "ffdca101",
   "metadata": {},
   "source": [
    "wdata_buf = cl.Buffer(ctx, mf.READ_WRITE | mf.COPY_HOST_PTR, hostbuf=wdata)\n",
    "wcols_buf = cl.Buffer(ctx, mf.READ_WRITE | mf.COPY_HOST_PTR, hostbuf=wcols)\n",
    "wnnzs_buf = cl.Buffer(ctx, mf.READ_WRITE | mf.COPY_HOST_PTR, hostbuf=wnnz)\n",
    "wdatat_buf = cl.Buffer(ctx, mf.READ_WRITE | mf.COPY_HOST_PTR, hostbuf=wdatat)\n",
    "wcolst_buf = cl.Buffer(ctx, mf.READ_WRITE | mf.COPY_HOST_PTR, hostbuf=wcolst)\n",
    "wnnzst_buf = cl.Buffer(ctx, mf.READ_WRITE | mf.COPY_HOST_PTR, hostbuf=wnnzt)\n",
    "x_buf = cl.Buffer(ctx, mf.READ_WRITE | mf.COPY_HOST_PTR, hostbuf=x_init)\n",
    "\n",
    "prg = cl.Program(ctx, \"\"\"\n",
    "    // DENSE x SPARSE-T\n",
    "    __kernel void matmul2(__global  float* matData,     // INPUT MATRIX DATA\n",
    "                            __global  uint*  colIdx,\n",
    "                            __global  uint*  rowNnz,\n",
    "                            uint   ellwidth,\n",
    "                            uint   mwidth,\n",
    "                            uint   ncols,\n",
    "                            __global  float* vector_x,    // INPUT\n",
    "                            __global  float* vector_y    // OUTPUT\n",
    "                            ) { // LOCAL SHARED BUFFER\n",
    "      uint gid = get_global_id(0);\n",
    "      uint nrows = get_global_size(0);\n",
    "      uint nnz = rowNnz[gid];\n",
    "\n",
    "      for (uint gid2 = 0; gid2 < ncols; gid2++) {\n",
    "        float sum = 0;\n",
    "        for (uint i = 0; i < nnz; i++) {\n",
    "          uint index   = (gid * ellwidth) + i;\n",
    "          uint col     = colIdx[index];\n",
    "          float aval  = matData[index];\n",
    "          float xval  = vector_x[gid2*ncols+col];\n",
    "          sum  += aval * xval;\n",
    "          if (gid==0 && gid2==1)\n",
    "            printf(\"aval, xval: %.2f,%.2f - %.2f: (%i,%i) \\\\n\", aval, xval, sum, col, index);\n",
    "        }\n",
    "        //printf(\"SUM/NNZ: %.2f %i \\\\n\", sum, nnz);\n",
    "        vector_y[gid2*ncols+gid] = sum;\n",
    "      }\n",
    "    }\"\"\").build()"
   ]
  },
  {
   "cell_type": "code",
   "execution_count": 72,
   "id": "622ee80e",
   "metadata": {},
   "outputs": [],
   "source": [
    "wdata_buf = cl.Buffer(ctx, mf.READ_WRITE | mf.COPY_HOST_PTR, hostbuf=wdata)\n",
    "wcols_buf = cl.Buffer(ctx, mf.READ_WRITE | mf.COPY_HOST_PTR, hostbuf=wcols)\n",
    "wnnzs_buf = cl.Buffer(ctx, mf.READ_WRITE | mf.COPY_HOST_PTR, hostbuf=wnnz)\n",
    "wdatat_buf = cl.Buffer(ctx, mf.READ_WRITE | mf.COPY_HOST_PTR, hostbuf=wdatat)\n",
    "wcolst_buf = cl.Buffer(ctx, mf.READ_WRITE | mf.COPY_HOST_PTR, hostbuf=wcolst)\n",
    "wnnzst_buf = cl.Buffer(ctx, mf.READ_WRITE | mf.COPY_HOST_PTR, hostbuf=wnnzt)\n",
    "x_buf = cl.Buffer(ctx, mf.READ_WRITE | mf.COPY_HOST_PTR, hostbuf=x_init)\n",
    "\n",
    "prg = cl.Program(ctx, \"\"\"\n",
    "    // DENSE x SPARSE-T\n",
    "    __kernel void matmul2(__global  float* matData,     // INPUT MATRIX DATA\n",
    "                            __global  uint*  colIdx,\n",
    "                            __global  uint*  rowNnz,\n",
    "                            uint   ellwidth,\n",
    "                            uint   mwidth,\n",
    "                            uint   ncols0,\n",
    "                            __global  float* vector_x,    // INPUT\n",
    "                            __global  float* vector_y    // OUTPUT\n",
    "                            ) { // LOCAL SHARED BUFFER\n",
    "      uint gid = get_global_id(0);\n",
    "      uint nrows = get_global_size(0);\n",
    "      uint nnz = rowNnz[gid];\n",
    "      uint gid2 = get_global_id(1);\n",
    "      uint ncols = get_global_size(1);\n",
    "\n",
    "      float sum = 0;\n",
    "      for (uint i = 0; i < nnz; i++) {\n",
    "        uint index   = (gid2 * ellwidth) + i;\n",
    "        uint col     = colIdx[index];\n",
    "        float aval  = matData[index];\n",
    "        float xval  = vector_x[gid*mwidth+col];\n",
    "        sum  += aval * xval;\n",
    "        if (gid==1 && gid2==0) {\n",
    "          printf(\"aval, xval: %.2f,%.2f - %.2f: (%i,%i) \\\\n\", aval, xval, sum, col, index);\n",
    "        }\n",
    "      }\n",
    "      //printf(\"SUM/NNZ: %.2f %i \\\\n\", sum, nnz);\n",
    "      vector_y[gid*ncols+gid2] = sum;\n",
    "    }\"\"\").build()"
   ]
  },
  {
   "cell_type": "code",
   "execution_count": 73,
   "id": "61a52e82",
   "metadata": {},
   "outputs": [
    {
     "data": {
      "text/plain": [
       "array([8, 5])"
      ]
     },
     "execution_count": 73,
     "metadata": {},
     "output_type": "execute_result"
    }
   ],
   "source": [
    "outshape"
   ]
  },
  {
   "cell_type": "code",
   "execution_count": 74,
   "id": "5158a87f",
   "metadata": {},
   "outputs": [],
   "source": [
    "w_init.shape, x_init.shape\n",
    "w = w_init\n",
    "x = x_init"
   ]
  },
  {
   "cell_type": "code",
   "execution_count": 75,
   "id": "3f4f6639",
   "metadata": {},
   "outputs": [],
   "source": [
    "res = np.zeros(w.shape[0]).astype(np.float32)\n",
    "#res"
   ]
  },
  {
   "cell_type": "code",
   "execution_count": 76,
   "id": "25f573a1",
   "metadata": {},
   "outputs": [],
   "source": [
    "rows = w.shape[0]"
   ]
  },
  {
   "cell_type": "code",
   "execution_count": 77,
   "id": "a9a22c41",
   "metadata": {},
   "outputs": [],
   "source": [
    "mult = mult.astype(np.float32)"
   ]
  },
  {
   "cell_type": "code",
   "execution_count": 78,
   "id": "016a02ac",
   "metadata": {},
   "outputs": [
    {
     "data": {
      "text/plain": [
       "array([ 8, 16])"
      ]
     },
     "execution_count": 78,
     "metadata": {},
     "output_type": "execute_result"
    }
   ],
   "source": [
    "outshape = np.array([x.shape[0], w.shape[0]])\n",
    "outshape"
   ]
  },
  {
   "cell_type": "code",
   "execution_count": 79,
   "id": "9802f037",
   "metadata": {},
   "outputs": [
    {
     "name": "stdout",
     "output_type": "stream",
     "text": [
      "aval, xval: -0.66,-0.48 - 0.32: (0,0) \n",
      "aval, xval: -0.06,-1.52 - 0.40: (1,1) \n",
      "aval, xval: -0.50,-0.49 - 0.65: (2,2) \n",
      "aval, xval: 0.44,-0.24 - 0.54: (3,3) \n",
      "aval, xval: -0.38,-0.65 - 0.79: (4,4) \n"
     ]
    },
    {
     "data": {
      "text/plain": [
       "<pyopencl._cl.NannyEvent at 0x7f5a643b20e0>"
      ]
     },
     "execution_count": 79,
     "metadata": {},
     "output_type": "execute_result"
    }
   ],
   "source": [
    "res_buf = cl.Buffer(ctx, mf.READ_WRITE, np.prod(outshape)*4)\n",
    "knl = prg.matmul2  # Use this Kernel object for repeated calls\n",
    "knl(queue, outshape, None, wdata_buf, wcols_buf, wnnzs_buf, np.uint32(ellww), np.uint32(w.shape[1]), np.uint32(x.shape[1]), x_buf, res_buf)\n",
    "\n",
    "res_np = np.zeros(outshape).astype(np.float32)\n",
    "cl.enqueue_copy(queue, res_np, res_buf)"
   ]
  },
  {
   "cell_type": "code",
   "execution_count": 80,
   "id": "75ddcdec",
   "metadata": {},
   "outputs": [
    {
     "data": {
      "text/plain": [
       "(8, 16)"
      ]
     },
     "execution_count": 80,
     "metadata": {},
     "output_type": "execute_result"
    }
   ],
   "source": [
    "mult = x.dot(w_init.T)\n",
    "mult.shape"
   ]
  },
  {
   "cell_type": "code",
   "execution_count": 81,
   "id": "87893c32",
   "metadata": {},
   "outputs": [
    {
     "data": {
      "text/plain": [
       "array([[ 0.71005666, -0.6922365 ,  1.958061  ,  1.258677  ,  3.463459  ,\n",
       "        -0.3478019 ,  0.08231293, -0.04464556, -0.03240513,  1.8573855 ,\n",
       "        -1.0835508 , -0.9068153 , -0.20014307, -1.5690712 , -1.1520894 ,\n",
       "         0.6737664 ],\n",
       "       [ 0.7850611 , -2.7718844 ,  3.8869042 ,  1.7455592 ,  2.9286547 ,\n",
       "        -1.3900536 ,  0.8452302 ,  0.59935635,  0.31789836, -0.3896514 ,\n",
       "        -0.80347735, -2.0294168 , -0.19058926, -1.6315975 , -3.2396262 ,\n",
       "        -0.37664318],\n",
       "       [-1.0399084 ,  3.7561824 , -8.091907  , -2.4692414 , -2.1408994 ,\n",
       "         4.37048   , -1.9433106 ,  0.41747692,  0.1287814 ,  0.7065758 ,\n",
       "         0.89383984,  3.3977637 , -0.99121714,  2.0500147 ,  5.0695367 ,\n",
       "         0.4186813 ],\n",
       "       [-0.46678752,  3.8533442 , -3.8412805 , -1.7131798 ,  1.1737914 ,\n",
       "         3.4516523 , -0.6000567 , -0.39082292, -0.56545794,  1.7348484 ,\n",
       "        -0.43604594,  3.096307  , -1.2181851 ,  0.24772911,  2.8284123 ,\n",
       "         3.1381838 ],\n",
       "       [-0.93206084, -0.5172032 , -3.6007562 , -0.83893746, -1.3561333 ,\n",
       "         1.9431857 , -1.7945851 ,  0.68644726,  0.11609697, -0.56989443,\n",
       "         1.3025523 , -0.53716886,  0.29801258,  0.5033861 ,  1.9169436 ,\n",
       "        -1.7765863 ],\n",
       "       [ 0.6259611 , -0.72817993,  6.6333513 ,  1.1633917 , -2.5920439 ,\n",
       "        -5.787668  ,  1.9857233 , -2.115871  , -0.64434886,  0.01168538,\n",
       "        -0.20903097, -1.6083169 ,  2.2167716 ,  0.07515528, -2.3109767 ,\n",
       "        -0.27382538],\n",
       "       [ 0.93874276,  5.580915  ,  3.1463914 , -0.33641425,  3.2732484 ,\n",
       "        -0.73875856,  2.0081086 , -2.885872  , -1.5492666 ,  4.580235  ,\n",
       "        -2.609913  ,  3.497382  , -0.55318284, -1.0184405 ,  0.51222634,\n",
       "         6.675718  ],\n",
       "       [-0.71463346,  2.0752609 , -7.8908043 , -1.693083  , -4.1171207 ,\n",
       "         2.6337998 , -1.9107202 ,  0.9698713 ,  0.9303082 , -0.3308521 ,\n",
       "         1.3577005 ,  2.3961716 , -0.4844498 ,  2.930706  ,  4.537708  ,\n",
       "        -2.2851508 ]], dtype=float32)"
      ]
     },
     "execution_count": 81,
     "metadata": {},
     "output_type": "execute_result"
    }
   ],
   "source": [
    "mult"
   ]
  },
  {
   "cell_type": "code",
   "execution_count": 82,
   "id": "aca22565",
   "metadata": {},
   "outputs": [
    {
     "data": {
      "text/plain": [
       "array([[ 0.71005666, -0.6922365 ,  1.958061  ,  1.258677  ,  3.463459  ,\n",
       "        -0.3478019 ,  0.08231293, -0.04464556, -0.03240513,  1.8573855 ,\n",
       "        -1.0835508 , -0.9068153 , -0.20014307, -1.5690712 , -1.1520894 ,\n",
       "         0.6737664 ],\n",
       "       [ 0.7850611 , -2.7718844 ,  3.8869042 ,  1.7455592 ,  2.9286547 ,\n",
       "        -1.3900536 ,  0.8452302 ,  0.59935635,  0.31789836, -0.3896514 ,\n",
       "        -0.80347735, -2.0294168 , -0.19058926, -1.6315975 , -3.2396262 ,\n",
       "        -0.37664318],\n",
       "       [-1.0399084 ,  3.7561824 , -8.091907  , -2.4692414 , -2.1408994 ,\n",
       "         4.37048   , -1.9433106 ,  0.41747692,  0.1287814 ,  0.7065758 ,\n",
       "         0.89383984,  3.3977637 , -0.99121714,  2.0500147 ,  5.0695367 ,\n",
       "         0.4186813 ],\n",
       "       [-0.46678752,  3.8533442 , -3.8412805 , -1.7131798 ,  1.1737914 ,\n",
       "         3.4516523 , -0.6000567 , -0.39082292, -0.56545794,  1.7348484 ,\n",
       "        -0.43604594,  3.096307  , -1.2181851 ,  0.24772911,  2.8284123 ,\n",
       "         3.1381838 ],\n",
       "       [-0.93206084, -0.5172032 , -3.6007562 , -0.83893746, -1.3561333 ,\n",
       "         1.9431857 , -1.7945851 ,  0.68644726,  0.11609697, -0.56989443,\n",
       "         1.3025523 , -0.53716886,  0.29801258,  0.5033861 ,  1.9169436 ,\n",
       "        -1.7765863 ],\n",
       "       [ 0.6259611 , -0.72817993,  6.6333513 ,  1.1633917 , -2.5920439 ,\n",
       "        -5.787668  ,  1.9857233 , -2.115871  , -0.64434886,  0.01168538,\n",
       "        -0.20903097, -1.6083169 ,  2.2167716 ,  0.07515528, -2.3109767 ,\n",
       "        -0.27382538],\n",
       "       [ 0.93874276,  5.580915  ,  3.1463914 , -0.33641425,  3.2732484 ,\n",
       "        -0.73875856,  2.0081086 , -2.885872  , -1.5492666 ,  4.580235  ,\n",
       "        -2.609913  ,  3.497382  , -0.55318284, -1.0184405 ,  0.51222634,\n",
       "         6.675718  ],\n",
       "       [-0.71463346,  2.0752609 , -7.8908043 , -1.693083  , -4.1171207 ,\n",
       "         2.6337998 , -1.9107202 ,  0.9698713 ,  0.9303082 , -0.3308521 ,\n",
       "         1.3577005 ,  2.3961716 , -0.4844498 ,  2.930706  ,  4.537708  ,\n",
       "        -2.2851508 ]], dtype=float32)"
      ]
     },
     "execution_count": 82,
     "metadata": {},
     "output_type": "execute_result"
    }
   ],
   "source": [
    "res_np"
   ]
  },
  {
   "cell_type": "code",
   "execution_count": 83,
   "id": "b1b01085",
   "metadata": {},
   "outputs": [
    {
     "data": {
      "text/plain": [
       "array([[ 1.1085547e-03, -2.8954408e-01, -1.1160663e+00, -1.2882757e-02,\n",
       "        -3.7836146e-01],\n",
       "       [-4.8113537e-01, -1.5173311e+00, -4.9087200e-01, -2.4068058e-01,\n",
       "        -6.4794743e-01],\n",
       "       [ 6.3589108e-01,  1.7401173e+00,  2.9668221e-01,  7.0750368e-01,\n",
       "         1.8228158e+00],\n",
       "       [ 4.3076903e-01,  1.5427296e+00, -9.0072119e-01, -1.3712502e-01,\n",
       "         1.2975791e+00],\n",
       "       [ 6.7527115e-01,  3.1958118e-02,  9.1814590e-01,  3.8050947e-01,\n",
       "         5.1636750e-01],\n",
       "       [-3.5523945e-01,  2.0877700e-01,  3.2841107e-01, -4.9822477e-01,\n",
       "        -2.0917768e+00],\n",
       "       [-8.2587741e-02,  2.4551826e+00, -2.6721101e+00, -9.1327929e-01,\n",
       "        -2.2731435e-01],\n",
       "       [ 2.6931539e-01,  1.1304612e+00,  1.0423975e+00,  1.3038105e+00,\n",
       "         1.3894007e+00]], dtype=float32)"
      ]
     },
     "execution_count": 83,
     "metadata": {},
     "output_type": "execute_result"
    }
   ],
   "source": [
    "x"
   ]
  },
  {
   "cell_type": "code",
   "execution_count": 84,
   "id": "7a2bc717",
   "metadata": {},
   "outputs": [
    {
     "data": {
      "text/plain": [
       "array([[-6.56452596e-01, -5.62572964e-02, -4.99902606e-01,\n",
       "         4.36419368e-01, -3.75813037e-01],\n",
       "       [-9.23061609e-01,  1.91725028e+00, -1.50302842e-01,\n",
       "        -6.38729751e-01,  8.24770331e-01],\n",
       "       [-1.21083879e+00, -5.03405392e-01, -7.01915681e-01,\n",
       "        -1.97427106e+00, -2.65573215e+00],\n",
       "       [-5.76822497e-02, -6.56186581e-01, -6.61706686e-01,\n",
       "         7.69348443e-01, -8.99004877e-01],\n",
       "       [ 1.69363797e+00, -1.69733524e+00, -2.79337025e+00,\n",
       "        -2.26150647e-01,  3.97428840e-01],\n",
       "       [ 1.65970361e+00, -4.93746817e-01, -3.76097679e-01,\n",
       "        -1.69739768e-01,  2.41710639e+00],\n",
       "       [-1.80884051e+00,  3.39751154e-01, -2.27297600e-02,\n",
       "        -9.59997058e-01, -3.83114427e-01],\n",
       "       [ 1.09529994e-01, -8.55162859e-01,  2.21606664e-04,\n",
       "         6.63855076e-01,  7.49480963e-01],\n",
       "       [-4.65818375e-01, -2.77439266e-01,  3.54995355e-02,\n",
       "         8.48221183e-01,  1.62998557e-01],\n",
       "       [ 1.20862365e+00,  5.02520800e-01, -1.58382213e+00,\n",
       "         1.02303350e+00, -6.53017402e-01],\n",
       "       [ 5.37045121e-01, -7.97706190e-03,  9.24784184e-01,\n",
       "         4.66083325e-02,  1.42019868e-01],\n",
       "       [-1.65366137e+00,  1.36799216e+00,  2.51062457e-02,\n",
       "        -3.95482242e-01,  1.28438759e+00],\n",
       "       [ 5.61277032e-01,  2.39725500e-01,  4.79899108e-01,\n",
       "         6.17529526e-02, -1.07051229e+00],\n",
       "       [-1.27321005e+00,  9.20076132e-01,  1.05491853e+00,\n",
       "         5.40288031e-01,  3.09063524e-01],\n",
       "       [ 9.70861197e-01,  1.15472412e+00,  4.22608823e-01,\n",
       "         9.99208927e-01,  8.83520246e-01],\n",
       "       [-5.30199170e-01,  8.14134836e-01, -1.01988423e+00,\n",
       "        -2.25823689e+00,  6.79954886e-01]], dtype=float32)"
      ]
     },
     "execution_count": 84,
     "metadata": {},
     "output_type": "execute_result"
    }
   ],
   "source": [
    "w"
   ]
  },
  {
   "cell_type": "code",
   "execution_count": 85,
   "id": "25bff0bb",
   "metadata": {},
   "outputs": [
    {
     "data": {
      "text/plain": [
       "0.0"
      ]
     },
     "execution_count": 85,
     "metadata": {},
     "output_type": "execute_result"
    }
   ],
   "source": [
    "(res_np-mult).sum()"
   ]
  },
  {
   "cell_type": "code",
   "execution_count": 86,
   "id": "4b476526",
   "metadata": {},
   "outputs": [
    {
     "data": {
      "text/plain": [
       "array([[ 0.71005666, -0.6922365 ,  1.958061  ,  1.258677  ,  3.463459  ,\n",
       "        -0.3478019 ,  0.08231293, -0.04464556, -0.03240513,  1.8573855 ,\n",
       "        -1.0835508 , -0.9068153 , -0.20014307, -1.5690712 , -1.1520894 ,\n",
       "         0.6737664 ],\n",
       "       [ 0.7850611 , -2.7718844 ,  3.8869042 ,  1.7455592 ,  2.9286547 ,\n",
       "        -1.3900536 ,  0.8452302 ,  0.59935635,  0.31789836, -0.3896514 ,\n",
       "        -0.80347735, -2.0294168 , -0.19058926, -1.6315975 , -3.2396262 ,\n",
       "        -0.37664318],\n",
       "       [-1.0399084 ,  3.7561824 , -8.091907  , -2.4692414 , -2.1408994 ,\n",
       "         4.37048   , -1.9433106 ,  0.41747692,  0.1287814 ,  0.7065758 ,\n",
       "         0.89383984,  3.3977637 , -0.99121714,  2.0500147 ,  5.0695367 ,\n",
       "         0.4186813 ],\n",
       "       [-0.46678752,  3.8533442 , -3.8412805 , -1.7131798 ,  1.1737914 ,\n",
       "         3.4516523 , -0.6000567 , -0.39082292, -0.56545794,  1.7348484 ,\n",
       "        -0.43604594,  3.096307  , -1.2181851 ,  0.24772911,  2.8284123 ,\n",
       "         3.1381838 ],\n",
       "       [-0.93206084, -0.5172032 , -3.6007562 , -0.83893746, -1.3561333 ,\n",
       "         1.9431857 , -1.7945851 ,  0.68644726,  0.11609697, -0.56989443,\n",
       "         1.3025523 , -0.53716886,  0.29801258,  0.5033861 ,  1.9169436 ,\n",
       "        -1.7765863 ],\n",
       "       [ 0.6259611 , -0.72817993,  6.6333513 ,  1.1633917 , -2.5920439 ,\n",
       "        -5.787668  ,  1.9857233 , -2.115871  , -0.64434886,  0.01168538,\n",
       "        -0.20903097, -1.6083169 ,  2.2167716 ,  0.07515528, -2.3109767 ,\n",
       "        -0.27382538],\n",
       "       [ 0.93874276,  5.580915  ,  3.1463914 , -0.33641425,  3.2732484 ,\n",
       "        -0.73875856,  2.0081086 , -2.885872  , -1.5492666 ,  4.580235  ,\n",
       "        -2.609913  ,  3.497382  , -0.55318284, -1.0184405 ,  0.51222634,\n",
       "         6.675718  ],\n",
       "       [-0.71463346,  2.0752609 , -7.8908043 , -1.693083  , -4.1171207 ,\n",
       "         2.6337998 , -1.9107202 ,  0.9698713 ,  0.9303082 , -0.3308521 ,\n",
       "         1.3577005 ,  2.3961716 , -0.4844498 ,  2.930706  ,  4.537708  ,\n",
       "        -2.2851508 ]], dtype=float32)"
      ]
     },
     "execution_count": 86,
     "metadata": {},
     "output_type": "execute_result"
    }
   ],
   "source": [
    "mult"
   ]
  },
  {
   "cell_type": "code",
   "execution_count": 87,
   "id": "7c27301f",
   "metadata": {},
   "outputs": [
    {
     "data": {
      "text/plain": [
       "array([[ True,  True,  True,  True,  True,  True,  True,  True,  True,\n",
       "         True,  True,  True,  True,  True,  True,  True],\n",
       "       [ True,  True,  True,  True,  True,  True,  True,  True,  True,\n",
       "         True,  True,  True,  True,  True,  True,  True],\n",
       "       [ True,  True,  True,  True,  True,  True,  True,  True,  True,\n",
       "         True,  True,  True,  True,  True,  True,  True],\n",
       "       [ True,  True,  True,  True,  True,  True,  True,  True,  True,\n",
       "         True,  True,  True,  True,  True,  True,  True],\n",
       "       [ True,  True,  True,  True,  True,  True,  True,  True,  True,\n",
       "         True,  True,  True,  True,  True,  True,  True],\n",
       "       [ True,  True,  True,  True,  True,  True,  True,  True,  True,\n",
       "         True,  True,  True,  True,  True,  True,  True],\n",
       "       [ True,  True,  True,  True,  True,  True,  True,  True,  True,\n",
       "         True,  True,  True,  True,  True,  True,  True],\n",
       "       [ True,  True,  True,  True,  True,  True,  True,  True,  True,\n",
       "         True,  True,  True,  True,  True,  True,  True]])"
      ]
     },
     "execution_count": 87,
     "metadata": {},
     "output_type": "execute_result"
    }
   ],
   "source": [
    "res_np==mult"
   ]
  },
  {
   "cell_type": "code",
   "execution_count": 88,
   "id": "2895fd1c",
   "metadata": {},
   "outputs": [
    {
     "data": {
      "text/plain": [
       "array([[0., 0., 0., 0., 0., 0., 0., 0., 0., 0., 0., 0., 0., 0., 0., 0.],\n",
       "       [0., 0., 0., 0., 0., 0., 0., 0., 0., 0., 0., 0., 0., 0., 0., 0.],\n",
       "       [0., 0., 0., 0., 0., 0., 0., 0., 0., 0., 0., 0., 0., 0., 0., 0.],\n",
       "       [0., 0., 0., 0., 0., 0., 0., 0., 0., 0., 0., 0., 0., 0., 0., 0.],\n",
       "       [0., 0., 0., 0., 0., 0., 0., 0., 0., 0., 0., 0., 0., 0., 0., 0.],\n",
       "       [0., 0., 0., 0., 0., 0., 0., 0., 0., 0., 0., 0., 0., 0., 0., 0.],\n",
       "       [0., 0., 0., 0., 0., 0., 0., 0., 0., 0., 0., 0., 0., 0., 0., 0.],\n",
       "       [0., 0., 0., 0., 0., 0., 0., 0., 0., 0., 0., 0., 0., 0., 0., 0.]],\n",
       "      dtype=float32)"
      ]
     },
     "execution_count": 88,
     "metadata": {},
     "output_type": "execute_result"
    }
   ],
   "source": [
    "res_np-mult"
   ]
  },
  {
   "cell_type": "code",
   "execution_count": 89,
   "id": "85267e65",
   "metadata": {},
   "outputs": [
    {
     "data": {
      "text/plain": [
       "(8, 16)"
      ]
     },
     "execution_count": 89,
     "metadata": {},
     "output_type": "execute_result"
    }
   ],
   "source": [
    "res_np.shape"
   ]
  },
  {
   "cell_type": "code",
   "execution_count": 90,
   "id": "1985612f",
   "metadata": {},
   "outputs": [
    {
     "data": {
      "text/plain": [
       "(8, 16)"
      ]
     },
     "execution_count": 90,
     "metadata": {},
     "output_type": "execute_result"
    }
   ],
   "source": [
    "mult.shape"
   ]
  },
  {
   "cell_type": "code",
   "execution_count": 91,
   "id": "d67397a6",
   "metadata": {},
   "outputs": [
    {
     "ename": "NameError",
     "evalue": "name 'asdf' is not defined",
     "output_type": "error",
     "traceback": [
      "\u001b[0;31m---------------------------------------------------------------------------\u001b[0m",
      "\u001b[0;31mNameError\u001b[0m                                 Traceback (most recent call last)",
      "\u001b[0;32m/tmp/ipykernel_2109/2827374946.py\u001b[0m in \u001b[0;36m<module>\u001b[0;34m\u001b[0m\n\u001b[0;32m----> 1\u001b[0;31m \u001b[0masdf\u001b[0m\u001b[0;34m\u001b[0m\u001b[0;34m\u001b[0m\u001b[0m\n\u001b[0m",
      "\u001b[0;31mNameError\u001b[0m: name 'asdf' is not defined"
     ]
    }
   ],
   "source": [
    "asdf"
   ]
  },
  {
   "cell_type": "markdown",
   "id": "7aad6088",
   "metadata": {},
   "source": [
    "## MatMul (dense * sparse) NEW"
   ]
  },
  {
   "cell_type": "markdown",
   "id": "f44a4c7a",
   "metadata": {},
   "source": [
    "bdata_buf = cl.Buffer(ctx, mf.READ_WRITE | mf.COPY_HOST_PTR, hostbuf=bdata)\n",
    "bcols_buf = cl.Buffer(ctx, mf.READ_WRITE | mf.COPY_HOST_PTR, hostbuf=bcols)\n",
    "bnnzs_buf = cl.Buffer(ctx, mf.READ_WRITE | mf.COPY_HOST_PTR, hostbuf=bnnz)\n",
    "bdatat_buf = cl.Buffer(ctx, mf.READ_WRITE | mf.COPY_HOST_PTR, hostbuf=bdatat)\n",
    "bcolst_buf = cl.Buffer(ctx, mf.READ_WRITE | mf.COPY_HOST_PTR, hostbuf=bcolst)\n",
    "bnnzst_buf = cl.Buffer(ctx, mf.READ_WRITE | mf.COPY_HOST_PTR, hostbuf=bnnzt)\n",
    "a_buf = cl.Buffer(ctx, mf.READ_WRITE | mf.COPY_HOST_PTR, hostbuf=a)\n",
    "\n",
    "prg = cl.Program(ctx, \"\"\"\n",
    "    // DENSE x SPARSE\n",
    "    __kernel void matmulnew(__global  float* matData,     // INPUT MATRIX DATA\n",
    "                            __global  uint*  colIdx,\n",
    "                            __global  uint*  rowNnz,\n",
    "                            uint   ellwidth,\n",
    "                            uint   mwidth,\n",
    "                            __global  float* vector_x,    // INPUT\n",
    "                            __global  float* vector_y    // OUTPUT\n",
    "                            ) { // LOCAL SHARED BUFFER\n",
    "      uint gid = get_global_id(0);\n",
    "      uint nrows = get_global_size(0);\n",
    "      uint gid2 = get_global_id(1);\n",
    "      uint ncols = get_global_size(1);\n",
    "      uint nnz = rowNnz[gid2];\n",
    "      float sum = 0;\n",
    "      for (uint i = 0; i < nnz; i++) {\n",
    "        uint index   = (gid2 * ellwidth) + i;\n",
    "        uint col     = colIdx[index];\n",
    "        float aval  = matData[index];\n",
    "        float xval  = vector_x[gid*mwidth+col];\n",
    "        vector_y[gid2*nrows+gid] += aval * xval;\n",
    "        if (gid==0 && gid2==0)\n",
    "          printf(\"aval, xval: %.2f,%.2f - %.2f: (%i,%i) \\\\n\", aval, xval, sum, col, index);\n",
    "        //printf(\"SUM/NNZ: %.2f %i \\\\n\", sum, nnz);\n",
    "        \n",
    "      }\n",
    "      \n",
    "    }\"\"\").build()"
   ]
  },
  {
   "cell_type": "code",
   "execution_count": null,
   "id": "47082e21",
   "metadata": {},
   "outputs": [],
   "source": [
    "mult = a.dot(b)\n",
    "mult"
   ]
  },
  {
   "cell_type": "code",
   "execution_count": null,
   "id": "4aa4d149",
   "metadata": {},
   "outputs": [],
   "source": [
    "bdata_buf = cl.Buffer(ctx, mf.READ_WRITE | mf.COPY_HOST_PTR, hostbuf=data)\n",
    "bcols_buf = cl.Buffer(ctx, mf.READ_WRITE | mf.COPY_HOST_PTR, hostbuf=bcols)\n",
    "bnnzs_buf = cl.Buffer(ctx, mf.READ_WRITE | mf.COPY_HOST_PTR, hostbuf=bnnz)\n",
    "bdatat_buf = cl.Buffer(ctx, mf.READ_WRITE | mf.COPY_HOST_PTR, hostbuf=bdatat)\n",
    "bcolst_buf = cl.Buffer(ctx, mf.READ_WRITE | mf.COPY_HOST_PTR, hostbuf=bcolst)\n",
    "bnnzst_buf = cl.Buffer(ctx, mf.READ_WRITE | mf.COPY_HOST_PTR, hostbuf=bnnzt)\n",
    "a_buf = cl.Buffer(ctx, mf.READ_WRITE | mf.COPY_HOST_PTR, hostbuf=a)\n",
    "\n",
    "prg = cl.Program(ctx, \"\"\"\n",
    "    // DENSE x SPARSE\n",
    "    __kernel void matmulnew(__global  float* matData,     // INPUT MATRIX DATA\n",
    "                            __global  uint*  colIdx,\n",
    "                            __global  uint*  rowNnz,\n",
    "                            uint   ellwidth,\n",
    "                            uint   mwidth,\n",
    "                            __global  float* vector_x,    // INPUT\n",
    "                            __global  float* vector_y    // OUTPUT\n",
    "                            ) { // LOCAL SHARED BUFFER\n",
    "      uint gid = get_global_id(0);\n",
    "      uint nrows = get_global_size(0);\n",
    "      uint gid2 = get_global_id(1);\n",
    "      uint ncols = get_global_size(1);\n",
    "      uint nnz = rowNnz[gid2];\n",
    "      float sum = 0;\n",
    "      for (uint i = 0; i < nnz; i++) {\n",
    "        uint index   = (gid2 * ellwidth) + i;\n",
    "        uint col     = colIdx[index];\n",
    "        float aval  = matData[index];\n",
    "        float xval  = vector_x[gid*mwidth+col];\n",
    "        sum  += aval * xval;\n",
    "        if (gid==1 && gid2==0)\n",
    "          printf(\"aval, xval: %.2f,%.2f - %.2f: (%i,%i) \\\\n\", aval, xval, sum, col, index);\n",
    "        //printf(\"SUM/NNZ: %.2f %i \\\\n\", sum, nnz);\n",
    "      }\n",
    "      vector_y[gid2*ncols+gid] = sum;\n",
    "    }\"\"\").build()"
   ]
  },
  {
   "cell_type": "code",
   "execution_count": 92,
   "id": "e547428c",
   "metadata": {},
   "outputs": [
    {
     "data": {
      "text/plain": [
       "((8, 16), (16, 5))"
      ]
     },
     "execution_count": 92,
     "metadata": {},
     "output_type": "execute_result"
    }
   ],
   "source": [
    "a.shape, b.shape"
   ]
  },
  {
   "cell_type": "code",
   "execution_count": 93,
   "id": "b5220c53",
   "metadata": {},
   "outputs": [],
   "source": [
    "res = np.zeros(a.shape[0]).astype(np.float32)\n",
    "#res"
   ]
  },
  {
   "cell_type": "code",
   "execution_count": 94,
   "id": "fb743cc5",
   "metadata": {},
   "outputs": [],
   "source": [
    "rows = a.shape[0]"
   ]
  },
  {
   "cell_type": "code",
   "execution_count": 95,
   "id": "86b29c18",
   "metadata": {},
   "outputs": [],
   "source": [
    "mult = mult.astype(np.float32)"
   ]
  },
  {
   "cell_type": "code",
   "execution_count": 96,
   "id": "815716c7",
   "metadata": {},
   "outputs": [
    {
     "data": {
      "text/plain": [
       "array([8, 5])"
      ]
     },
     "execution_count": 96,
     "metadata": {},
     "output_type": "execute_result"
    }
   ],
   "source": [
    "outshape = np.array([a.shape[0], b.shape[1]])\n",
    "outshape"
   ]
  },
  {
   "cell_type": "code",
   "execution_count": 97,
   "id": "ab35e1f0",
   "metadata": {},
   "outputs": [
    {
     "data": {
      "text/plain": [
       "array([[0.49395892, 0.65864426, 0.31044865, 0.        , 0.71082693,\n",
       "        0.        , 0.46450275, 0.        , 0.        , 0.        ,\n",
       "        0.        , 0.        , 0.        , 0.        , 0.18725161,\n",
       "        0.7250254 ],\n",
       "       [0.        , 0.        , 0.        , 0.46765924, 0.        ,\n",
       "        0.        , 0.        , 0.34248227, 0.        , 0.7705159 ,\n",
       "        0.7167741 , 0.91970533, 0.        , 0.        , 0.11607183,\n",
       "        0.        ],\n",
       "       [0.46451807, 0.9786625 , 0.02502257, 0.        , 0.58997136,\n",
       "        0.84622455, 0.        , 0.7672639 , 0.9855889 , 0.31522992,\n",
       "        0.        , 0.        , 0.        , 0.674503  , 0.        ,\n",
       "        0.12346577],\n",
       "       [0.        , 0.        , 0.        , 0.        , 0.        ,\n",
       "        0.5916316 , 0.        , 0.        , 0.        , 0.        ,\n",
       "        0.8238369 , 0.7873889 , 0.404568  , 0.48820347, 0.        ,\n",
       "        0.        ],\n",
       "       [0.        , 0.        , 0.        , 0.03160795, 0.        ,\n",
       "        0.        , 0.9429863 , 0.        , 0.2535647 , 0.        ,\n",
       "        0.        , 0.        , 0.841323  , 0.        , 0.        ,\n",
       "        0.        ]], dtype=float32)"
      ]
     },
     "execution_count": 97,
     "metadata": {},
     "output_type": "execute_result"
    }
   ],
   "source": [
    "b.T"
   ]
  },
  {
   "cell_type": "code",
   "execution_count": 98,
   "id": "e362c04c",
   "metadata": {},
   "outputs": [
    {
     "data": {
      "text/plain": [
       "array([[0.        , 0.68347037, 0.8035886 , 0.        , 0.        ,\n",
       "        0.        , 0.        , 0.08023349, 0.8858316 , 0.        ,\n",
       "        0.17861794, 0.        , 0.46201044, 0.        , 0.        ,\n",
       "        0.        ],\n",
       "       [0.9562663 , 0.5531271 , 0.        , 0.        , 0.5375557 ,\n",
       "        0.        , 0.        , 0.        , 0.        , 0.        ,\n",
       "        0.        , 0.20370705, 0.35530138, 0.        , 0.        ,\n",
       "        0.9186601 ],\n",
       "       [0.        , 0.20103766, 0.        , 0.        , 0.        ,\n",
       "        0.74341315, 0.        , 0.        , 0.        , 0.5787496 ,\n",
       "        0.        , 0.05387774, 0.        , 0.5917517 , 0.17797045,\n",
       "        0.        ],\n",
       "       [0.        , 0.        , 0.        , 0.14296253, 0.9103574 ,\n",
       "        0.03242496, 0.        , 0.71459514, 0.        , 0.        ,\n",
       "        0.        , 0.        , 0.7448136 , 0.        , 0.        ,\n",
       "        0.66635793],\n",
       "       [0.        , 0.        , 0.        , 0.59893256, 0.        ,\n",
       "        0.        , 0.        , 0.9217044 , 0.        , 0.16333483,\n",
       "        0.        , 0.17167741, 0.        , 0.        , 0.7605819 ,\n",
       "        0.48675168],\n",
       "       [0.11415514, 0.82574075, 0.        , 0.        , 0.        ,\n",
       "        0.27978534, 0.        , 0.25018668, 0.        , 0.        ,\n",
       "        0.83127654, 0.09929471, 0.        , 0.        , 0.        ,\n",
       "        0.        ],\n",
       "       [0.28872353, 0.04889954, 0.        , 0.6493426 , 0.        ,\n",
       "        0.33329687, 0.        , 0.        , 0.        , 0.        ,\n",
       "        0.        , 0.        , 0.84441024, 0.01120785, 0.        ,\n",
       "        0.        ],\n",
       "       [0.67626965, 0.        , 0.        , 0.35563806, 0.        ,\n",
       "        0.        , 0.69630474, 0.        , 0.6753613 , 0.        ,\n",
       "        0.        , 0.12287189, 0.        , 0.        , 0.        ,\n",
       "        0.09184685]], dtype=float32)"
      ]
     },
     "execution_count": 98,
     "metadata": {},
     "output_type": "execute_result"
    }
   ],
   "source": [
    "a"
   ]
  },
  {
   "cell_type": "code",
   "execution_count": 99,
   "id": "e7ab9a76",
   "metadata": {},
   "outputs": [
    {
     "ename": "AttributeError",
     "evalue": "'matmulnew' was not found as a program info attribute or as a kernel name",
     "output_type": "error",
     "traceback": [
      "\u001b[0;31m---------------------------------------------------------------------------\u001b[0m",
      "\u001b[0;31mLogicError\u001b[0m                                Traceback (most recent call last)",
      "\u001b[0;32m~/.conda/envs/tinygrad/lib/python3.8/site-packages/pyopencl/__init__.py\u001b[0m in \u001b[0;36m__getattr__\u001b[0;34m(self, attr)\u001b[0m\n\u001b[1;32m    460\u001b[0m         \u001b[0;32mtry\u001b[0m\u001b[0;34m:\u001b[0m\u001b[0;34m\u001b[0m\u001b[0;34m\u001b[0m\u001b[0m\n\u001b[0;32m--> 461\u001b[0;31m             \u001b[0mknl\u001b[0m \u001b[0;34m=\u001b[0m \u001b[0mKernel\u001b[0m\u001b[0;34m(\u001b[0m\u001b[0mself\u001b[0m\u001b[0;34m,\u001b[0m \u001b[0mattr\u001b[0m\u001b[0;34m)\u001b[0m\u001b[0;34m\u001b[0m\u001b[0;34m\u001b[0m\u001b[0m\n\u001b[0m\u001b[1;32m    462\u001b[0m             \u001b[0;31m# Nvidia does not raise errors even for invalid names,\u001b[0m\u001b[0;34m\u001b[0m\u001b[0;34m\u001b[0m\u001b[0;34m\u001b[0m\u001b[0m\n",
      "\u001b[0;32m~/.conda/envs/tinygrad/lib/python3.8/site-packages/pyopencl/__init__.py\u001b[0m in \u001b[0;36mkernel_init\u001b[0;34m(self, prg, name)\u001b[0m\n\u001b[1;32m    813\u001b[0m \u001b[0;34m\u001b[0m\u001b[0m\n\u001b[0;32m--> 814\u001b[0;31m         \u001b[0mkernel_old_init\u001b[0m\u001b[0;34m(\u001b[0m\u001b[0mself\u001b[0m\u001b[0;34m,\u001b[0m \u001b[0mprg\u001b[0m\u001b[0;34m,\u001b[0m \u001b[0mname\u001b[0m\u001b[0;34m)\u001b[0m\u001b[0;34m\u001b[0m\u001b[0;34m\u001b[0m\u001b[0m\n\u001b[0m\u001b[1;32m    815\u001b[0m \u001b[0;34m\u001b[0m\u001b[0m\n",
      "\u001b[0;31mLogicError\u001b[0m: clCreateKernel failed: INVALID_KERNEL_NAME",
      "\nDuring handling of the above exception, another exception occurred:\n",
      "\u001b[0;31mAttributeError\u001b[0m                            Traceback (most recent call last)",
      "\u001b[0;32m/tmp/ipykernel_2109/7068646.py\u001b[0m in \u001b[0;36m<module>\u001b[0;34m\u001b[0m\n\u001b[1;32m      1\u001b[0m \u001b[0mres_buf\u001b[0m \u001b[0;34m=\u001b[0m \u001b[0mcl\u001b[0m\u001b[0;34m.\u001b[0m\u001b[0mBuffer\u001b[0m\u001b[0;34m(\u001b[0m\u001b[0mctx\u001b[0m\u001b[0;34m,\u001b[0m \u001b[0mmf\u001b[0m\u001b[0;34m.\u001b[0m\u001b[0mREAD_WRITE\u001b[0m\u001b[0;34m,\u001b[0m \u001b[0mnp\u001b[0m\u001b[0;34m.\u001b[0m\u001b[0mprod\u001b[0m\u001b[0;34m(\u001b[0m\u001b[0moutshape\u001b[0m\u001b[0;34m)\u001b[0m\u001b[0;34m*\u001b[0m\u001b[0;36m4\u001b[0m\u001b[0;34m)\u001b[0m\u001b[0;34m\u001b[0m\u001b[0;34m\u001b[0m\u001b[0m\n\u001b[0;32m----> 2\u001b[0;31m \u001b[0mknl\u001b[0m \u001b[0;34m=\u001b[0m \u001b[0mprg\u001b[0m\u001b[0;34m.\u001b[0m\u001b[0mmatmulnew\u001b[0m  \u001b[0;31m# Use this Kernel object for repeated calls\u001b[0m\u001b[0;34m\u001b[0m\u001b[0;34m\u001b[0m\u001b[0m\n\u001b[0m\u001b[1;32m      3\u001b[0m \u001b[0mknl\u001b[0m\u001b[0;34m(\u001b[0m\u001b[0mqueue\u001b[0m\u001b[0;34m,\u001b[0m \u001b[0moutshape\u001b[0m\u001b[0;34m,\u001b[0m \u001b[0;32mNone\u001b[0m\u001b[0;34m,\u001b[0m \u001b[0mbdatat_buf\u001b[0m\u001b[0;34m,\u001b[0m \u001b[0mbcolst_buf\u001b[0m\u001b[0;34m,\u001b[0m \u001b[0mbnnzst_buf\u001b[0m\u001b[0;34m,\u001b[0m \u001b[0mnp\u001b[0m\u001b[0;34m.\u001b[0m\u001b[0muint32\u001b[0m\u001b[0;34m(\u001b[0m\u001b[0mellwbt\u001b[0m\u001b[0;34m)\u001b[0m\u001b[0;34m,\u001b[0m \u001b[0mnp\u001b[0m\u001b[0;34m.\u001b[0m\u001b[0muint32\u001b[0m\u001b[0;34m(\u001b[0m\u001b[0mb\u001b[0m\u001b[0;34m.\u001b[0m\u001b[0mshape\u001b[0m\u001b[0;34m[\u001b[0m\u001b[0;36m0\u001b[0m\u001b[0;34m]\u001b[0m\u001b[0;34m)\u001b[0m\u001b[0;34m,\u001b[0m \u001b[0ma_buf\u001b[0m\u001b[0;34m,\u001b[0m \u001b[0mres_buf\u001b[0m\u001b[0;34m)\u001b[0m\u001b[0;34m\u001b[0m\u001b[0;34m\u001b[0m\u001b[0m\n\u001b[1;32m      4\u001b[0m \u001b[0;34m\u001b[0m\u001b[0m\n\u001b[1;32m      5\u001b[0m \u001b[0mres_np\u001b[0m \u001b[0;34m=\u001b[0m \u001b[0mnp\u001b[0m\u001b[0;34m.\u001b[0m\u001b[0mzeros\u001b[0m\u001b[0;34m(\u001b[0m\u001b[0;34m(\u001b[0m\u001b[0moutshape\u001b[0m\u001b[0;34m[\u001b[0m\u001b[0;36m0\u001b[0m\u001b[0;34m]\u001b[0m\u001b[0;34m,\u001b[0m\u001b[0;34m)\u001b[0m\u001b[0;34m)\u001b[0m\u001b[0;34m.\u001b[0m\u001b[0mastype\u001b[0m\u001b[0;34m(\u001b[0m\u001b[0mnp\u001b[0m\u001b[0;34m.\u001b[0m\u001b[0mfloat32\u001b[0m\u001b[0;34m)\u001b[0m\u001b[0;34m\u001b[0m\u001b[0;34m\u001b[0m\u001b[0m\n",
      "\u001b[0;32m~/.conda/envs/tinygrad/lib/python3.8/site-packages/pyopencl/__init__.py\u001b[0m in \u001b[0;36m__getattr__\u001b[0;34m(self, attr)\u001b[0m\n\u001b[1;32m    473\u001b[0m             \u001b[0;32mreturn\u001b[0m \u001b[0mknl\u001b[0m\u001b[0;34m\u001b[0m\u001b[0;34m\u001b[0m\u001b[0m\n\u001b[1;32m    474\u001b[0m         \u001b[0;32mexcept\u001b[0m \u001b[0mLogicError\u001b[0m\u001b[0;34m:\u001b[0m\u001b[0;34m\u001b[0m\u001b[0;34m\u001b[0m\u001b[0m\n\u001b[0;32m--> 475\u001b[0;31m             raise AttributeError(\"'%s' was not found as a program \"\n\u001b[0m\u001b[1;32m    476\u001b[0m                     \"info attribute or as a kernel name\" % attr)\n\u001b[1;32m    477\u001b[0m \u001b[0;34m\u001b[0m\u001b[0m\n",
      "\u001b[0;31mAttributeError\u001b[0m: 'matmulnew' was not found as a program info attribute or as a kernel name"
     ]
    }
   ],
   "source": [
    "res_buf = cl.Buffer(ctx, mf.READ_WRITE, np.prod(outshape)*4)\n",
    "knl = prg.matmulnew  # Use this Kernel object for repeated calls\n",
    "knl(queue, outshape, None, bdatat_buf, bcolst_buf, bnnzst_buf, np.uint32(ellwbt), np.uint32(b.shape[0]), a_buf, res_buf)\n",
    "\n",
    "res_np = np.zeros((outshape[0],)).astype(np.float32)\n",
    "print(res_np.shape)\n",
    "cl.enqueue_copy(queue, res_np, res_buf)"
   ]
  },
  {
   "cell_type": "code",
   "execution_count": 100,
   "id": "67eeff65",
   "metadata": {},
   "outputs": [
    {
     "ename": "ValueError",
     "evalue": "operands could not be broadcast together with shapes (8,16) (16,8) ",
     "output_type": "error",
     "traceback": [
      "\u001b[0;31m---------------------------------------------------------------------------\u001b[0m",
      "\u001b[0;31mValueError\u001b[0m                                Traceback (most recent call last)",
      "\u001b[0;32m/tmp/ipykernel_2109/740844068.py\u001b[0m in \u001b[0;36m<module>\u001b[0;34m\u001b[0m\n\u001b[0;32m----> 1\u001b[0;31m \u001b[0;34m(\u001b[0m\u001b[0mres_np\u001b[0m\u001b[0;34m-\u001b[0m\u001b[0mmult\u001b[0m\u001b[0;34m.\u001b[0m\u001b[0mT\u001b[0m\u001b[0;34m)\u001b[0m\u001b[0;34m.\u001b[0m\u001b[0msum\u001b[0m\u001b[0;34m(\u001b[0m\u001b[0;34m)\u001b[0m\u001b[0;34m\u001b[0m\u001b[0;34m\u001b[0m\u001b[0m\n\u001b[0m",
      "\u001b[0;31mValueError\u001b[0m: operands could not be broadcast together with shapes (8,16) (16,8) "
     ]
    }
   ],
   "source": [
    "(res_np-mult.T).sum()"
   ]
  },
  {
   "cell_type": "code",
   "execution_count": 101,
   "id": "437bc46f",
   "metadata": {},
   "outputs": [
    {
     "data": {
      "text/plain": [
       "<pyopencl._cl.Buffer at 0x7f5a64307f90>"
      ]
     },
     "execution_count": 101,
     "metadata": {},
     "output_type": "execute_result"
    }
   ],
   "source": [
    "res_buf"
   ]
  },
  {
   "cell_type": "code",
   "execution_count": 102,
   "id": "9035b6b3",
   "metadata": {},
   "outputs": [
    {
     "data": {
      "text/plain": [
       "array([[ 0.71005666,  0.7850611 , -1.0399084 , -0.46678752, -0.93206084,\n",
       "         0.6259611 ,  0.93874276, -0.71463346],\n",
       "       [-0.6922365 , -2.7718844 ,  3.7561824 ,  3.8533442 , -0.5172032 ,\n",
       "        -0.72817993,  5.580915  ,  2.0752609 ],\n",
       "       [ 1.958061  ,  3.8869042 , -8.091907  , -3.8412805 , -3.6007562 ,\n",
       "         6.6333513 ,  3.1463914 , -7.8908043 ],\n",
       "       [ 1.258677  ,  1.7455592 , -2.4692414 , -1.7131798 , -0.83893746,\n",
       "         1.1633917 , -0.33641425, -1.693083  ],\n",
       "       [ 3.463459  ,  2.9286547 , -2.1408994 ,  1.1737914 , -1.3561333 ,\n",
       "        -2.5920439 ,  3.2732484 , -4.1171207 ],\n",
       "       [-0.3478019 , -1.3900536 ,  4.37048   ,  3.4516523 ,  1.9431857 ,\n",
       "        -5.787668  , -0.73875856,  2.6337998 ],\n",
       "       [ 0.08231293,  0.8452302 , -1.9433106 , -0.6000567 , -1.7945851 ,\n",
       "         1.9857233 ,  2.0081086 , -1.9107202 ],\n",
       "       [-0.04464556,  0.59935635,  0.41747692, -0.39082292,  0.68644726,\n",
       "        -2.115871  , -2.885872  ,  0.9698713 ],\n",
       "       [-0.03240513,  0.31789836,  0.1287814 , -0.56545794,  0.11609697,\n",
       "        -0.64434886, -1.5492666 ,  0.9303082 ],\n",
       "       [ 1.8573855 , -0.3896514 ,  0.7065758 ,  1.7348484 , -0.56989443,\n",
       "         0.01168538,  4.580235  , -0.3308521 ],\n",
       "       [-1.0835508 , -0.80347735,  0.89383984, -0.43604594,  1.3025523 ,\n",
       "        -0.20903097, -2.609913  ,  1.3577005 ],\n",
       "       [-0.9068153 , -2.0294168 ,  3.3977637 ,  3.096307  , -0.53716886,\n",
       "        -1.6083169 ,  3.497382  ,  2.3961716 ],\n",
       "       [-0.20014307, -0.19058926, -0.99121714, -1.2181851 ,  0.29801258,\n",
       "         2.2167716 , -0.55318284, -0.4844498 ],\n",
       "       [-1.5690712 , -1.6315975 ,  2.0500147 ,  0.24772911,  0.5033861 ,\n",
       "         0.07515528, -1.0184405 ,  2.930706  ],\n",
       "       [-1.1520894 , -3.2396262 ,  5.0695367 ,  2.8284123 ,  1.9169436 ,\n",
       "        -2.3109767 ,  0.51222634,  4.537708  ],\n",
       "       [ 0.6737664 , -0.37664318,  0.4186813 ,  3.1381838 , -1.7765863 ,\n",
       "        -0.27382538,  6.675718  , -2.2851508 ]], dtype=float32)"
      ]
     },
     "execution_count": 102,
     "metadata": {},
     "output_type": "execute_result"
    }
   ],
   "source": [
    "res_np.T"
   ]
  },
  {
   "cell_type": "code",
   "execution_count": 103,
   "id": "75f2d1d4",
   "metadata": {},
   "outputs": [
    {
     "data": {
      "text/plain": [
       "array([[ 0.71005666, -0.6922365 ,  1.958061  ,  1.258677  ,  3.463459  ,\n",
       "        -0.3478019 ,  0.08231293, -0.04464556, -0.03240513,  1.8573855 ,\n",
       "        -1.0835508 , -0.9068153 , -0.20014307, -1.5690712 , -1.1520894 ,\n",
       "         0.6737664 ],\n",
       "       [ 0.7850611 , -2.7718844 ,  3.8869042 ,  1.7455592 ,  2.9286547 ,\n",
       "        -1.3900536 ,  0.8452302 ,  0.59935635,  0.31789836, -0.3896514 ,\n",
       "        -0.80347735, -2.0294168 , -0.19058926, -1.6315975 , -3.2396262 ,\n",
       "        -0.37664318],\n",
       "       [-1.0399084 ,  3.7561824 , -8.091907  , -2.4692414 , -2.1408994 ,\n",
       "         4.37048   , -1.9433106 ,  0.41747692,  0.1287814 ,  0.7065758 ,\n",
       "         0.89383984,  3.3977637 , -0.99121714,  2.0500147 ,  5.0695367 ,\n",
       "         0.4186813 ],\n",
       "       [-0.46678752,  3.8533442 , -3.8412805 , -1.7131798 ,  1.1737914 ,\n",
       "         3.4516523 , -0.6000567 , -0.39082292, -0.56545794,  1.7348484 ,\n",
       "        -0.43604594,  3.096307  , -1.2181851 ,  0.24772911,  2.8284123 ,\n",
       "         3.1381838 ],\n",
       "       [-0.93206084, -0.5172032 , -3.6007562 , -0.83893746, -1.3561333 ,\n",
       "         1.9431857 , -1.7945851 ,  0.68644726,  0.11609697, -0.56989443,\n",
       "         1.3025523 , -0.53716886,  0.29801258,  0.5033861 ,  1.9169436 ,\n",
       "        -1.7765863 ],\n",
       "       [ 0.6259611 , -0.72817993,  6.6333513 ,  1.1633917 , -2.5920439 ,\n",
       "        -5.787668  ,  1.9857233 , -2.115871  , -0.64434886,  0.01168538,\n",
       "        -0.20903097, -1.6083169 ,  2.2167716 ,  0.07515528, -2.3109767 ,\n",
       "        -0.27382538],\n",
       "       [ 0.93874276,  5.580915  ,  3.1463914 , -0.33641425,  3.2732484 ,\n",
       "        -0.73875856,  2.0081086 , -2.885872  , -1.5492666 ,  4.580235  ,\n",
       "        -2.609913  ,  3.497382  , -0.55318284, -1.0184405 ,  0.51222634,\n",
       "         6.675718  ],\n",
       "       [-0.71463346,  2.0752609 , -7.8908043 , -1.693083  , -4.1171207 ,\n",
       "         2.6337998 , -1.9107202 ,  0.9698713 ,  0.9303082 , -0.3308521 ,\n",
       "         1.3577005 ,  2.3961716 , -0.4844498 ,  2.930706  ,  4.537708  ,\n",
       "        -2.2851508 ]], dtype=float32)"
      ]
     },
     "execution_count": 103,
     "metadata": {},
     "output_type": "execute_result"
    }
   ],
   "source": [
    "mult"
   ]
  },
  {
   "cell_type": "code",
   "execution_count": 104,
   "id": "aa862e0f",
   "metadata": {},
   "outputs": [
    {
     "ename": "ValueError",
     "evalue": "operands could not be broadcast together with shapes (8,16) (16,8) ",
     "output_type": "error",
     "traceback": [
      "\u001b[0;31m---------------------------------------------------------------------------\u001b[0m",
      "\u001b[0;31mValueError\u001b[0m                                Traceback (most recent call last)",
      "\u001b[0;32m/tmp/ipykernel_2109/1781301891.py\u001b[0m in \u001b[0;36m<module>\u001b[0;34m\u001b[0m\n\u001b[0;32m----> 1\u001b[0;31m \u001b[0mres_np\u001b[0m\u001b[0;34m-\u001b[0m\u001b[0mmult\u001b[0m\u001b[0;34m.\u001b[0m\u001b[0mT\u001b[0m\u001b[0;34m\u001b[0m\u001b[0;34m\u001b[0m\u001b[0m\n\u001b[0m",
      "\u001b[0;31mValueError\u001b[0m: operands could not be broadcast together with shapes (8,16) (16,8) "
     ]
    }
   ],
   "source": [
    "res_np-mult.T"
   ]
  },
  {
   "cell_type": "code",
   "execution_count": 105,
   "id": "25d376fc",
   "metadata": {},
   "outputs": [
    {
     "data": {
      "text/plain": [
       "(8, 16)"
      ]
     },
     "execution_count": 105,
     "metadata": {},
     "output_type": "execute_result"
    }
   ],
   "source": [
    "res_np.shape"
   ]
  },
  {
   "cell_type": "code",
   "execution_count": 106,
   "id": "fa077d86",
   "metadata": {},
   "outputs": [
    {
     "data": {
      "text/plain": [
       "(8, 16)"
      ]
     },
     "execution_count": 106,
     "metadata": {},
     "output_type": "execute_result"
    }
   ],
   "source": [
    "mult.shape"
   ]
  },
  {
   "cell_type": "code",
   "execution_count": 107,
   "id": "e68ad518",
   "metadata": {},
   "outputs": [
    {
     "ename": "NameError",
     "evalue": "name 'asdf' is not defined",
     "output_type": "error",
     "traceback": [
      "\u001b[0;31m---------------------------------------------------------------------------\u001b[0m",
      "\u001b[0;31mNameError\u001b[0m                                 Traceback (most recent call last)",
      "\u001b[0;32m/tmp/ipykernel_2109/2827374946.py\u001b[0m in \u001b[0;36m<module>\u001b[0;34m\u001b[0m\n\u001b[0;32m----> 1\u001b[0;31m \u001b[0masdf\u001b[0m\u001b[0;34m\u001b[0m\u001b[0;34m\u001b[0m\u001b[0m\n\u001b[0m",
      "\u001b[0;31mNameError\u001b[0m: name 'asdf' is not defined"
     ]
    }
   ],
   "source": [
    "asdf"
   ]
  },
  {
   "cell_type": "markdown",
   "id": "cdc9f0be",
   "metadata": {},
   "source": [
    "# Matmult Dense Dense"
   ]
  },
  {
   "cell_type": "code",
   "execution_count": 108,
   "id": "d3eeacb6",
   "metadata": {},
   "outputs": [],
   "source": [
    "b_buf2 = cl.Buffer(ctx, mf.READ_WRITE | mf.COPY_HOST_PTR, hostbuf=b)\n",
    "a_buf = cl.Buffer(ctx, mf.READ_WRITE | mf.COPY_HOST_PTR, hostbuf=a)\n",
    "\n",
    "prg = cl.Program(ctx, \"\"\"\n",
    "    // multilplies x by y WITH Y TRANSPOSED INDEXING\n",
    "    __kernel void matmul0(__global  float* x,     // INPUT MATRIX DATA\n",
    "                          __global  float* y,    // INPUT\n",
    "                          __global  float* res,    // INPUT\n",
    "                          uint msize\n",
    "                          ) { // LOCAL SHARED BUFFER\n",
    "      uint isize = get_global_size(0);\n",
    "      uint osize = get_global_size(1);\n",
    "      int gidx = get_global_id(0); // row\n",
    "      int gidy = get_global_id(1); // col\n",
    "\n",
    "      float ret = 0.0;\n",
    "      for (int i = 0; i < msize; i++) {\n",
    "        uint xidx = gidx*msize+i; \n",
    "        float xval = x[xidx];\n",
    "        uint yidx = osize*i+gidy;\n",
    "        float yval = y[yidx];\n",
    "        ret += xval*yval;\n",
    "        if (gidx==0 && gidy==0)\n",
    "          printf(\"\\\\nmult: %.2f x %.2f - %.2f  -- %i/%i\", xval, yval, res, xidx, yidx);\n",
    "      }\n",
    "\n",
    "      //if (gidx==0&&gidy==0)\n",
    "      //  printf(\"\\\\nsum:%.2f\", ret);\n",
    "      res[gidx * osize + gidy] = ret;\n",
    "    }\"\"\").build()"
   ]
  },
  {
   "cell_type": "code",
   "execution_count": 109,
   "id": "ee0aabda",
   "metadata": {},
   "outputs": [
    {
     "data": {
      "text/plain": [
       "((8, 16), (16, 5))"
      ]
     },
     "execution_count": 109,
     "metadata": {},
     "output_type": "execute_result"
    }
   ],
   "source": [
    "a.shape, b.shape"
   ]
  },
  {
   "cell_type": "code",
   "execution_count": 110,
   "id": "938f25f9",
   "metadata": {},
   "outputs": [],
   "source": [
    "rows = a.shape[0]"
   ]
  },
  {
   "cell_type": "code",
   "execution_count": 111,
   "id": "d19122ca",
   "metadata": {},
   "outputs": [],
   "source": [
    "mult = mult.astype(np.float32)"
   ]
  },
  {
   "cell_type": "code",
   "execution_count": 112,
   "id": "17176ece",
   "metadata": {},
   "outputs": [
    {
     "name": "stdout",
     "output_type": "stream",
     "text": [
      "\n",
      "mult: 0.00 x 0.49 - 0.00  -- 0/0\n",
      "mult: 0.68 x 0.66 - 0.00  -- 1/5\n",
      "mult: 0.80 x 0.31 - 0.00  -- 2/10\n",
      "mult: 0.00 x 0.00 - 0.00  -- 3/15\n",
      "mult: 0.00 x 0.71 - 0.00  -- 4/20\n",
      "mult: 0.00 x 0.00 - 0.00  -- 5/25\n",
      "mult: 0.00 x 0.46 - 0.00  -- 6/30\n",
      "mult: 0.08 x 0.00 - 0.00  -- 7/35\n",
      "mult: 0.89 x 0.00 - 0.00  -- 8/40\n",
      "mult: 0.00 x 0.00 - 0.00  -- 9/45\n",
      "mult: 0.18 x 0.00 - 0.00  -- 10/50\n",
      "mult: 0.00 x 0.00 - 0.00  -- 11/55\n",
      "mult: 0.46 x 0.00 - 0.00  -- 12/60\n",
      "mult: 0.00 x 0.00 - 0.00  -- 13/65\n",
      "mult: 0.00 x 0.19 - 0.00  -- 14/70\n",
      "mult: 0.00 x 0.73 - 0.00  -- 15/75"
     ]
    },
    {
     "data": {
      "text/plain": [
       "<pyopencl._cl.NannyEvent at 0x7f5a642ed6d0>"
      ]
     },
     "execution_count": 112,
     "metadata": {},
     "output_type": "execute_result"
    }
   ],
   "source": [
    "res_buf = cl.Buffer(ctx, mf.READ_WRITE, np.prod([rows,b.shape[1]])*4)\n",
    "knl = prg.matmul0  # Use this Kernel object for repeated calls\n",
    "knl(queue, [rows,b.shape[1]], None, a_buf, b_buf2, res_buf, np.uint32(a.shape[1]))\n",
    "\n",
    "res_np = np.zeros([rows,b.shape[1]]).astype(np.float32)\n",
    "cl.enqueue_copy(queue, res_np, res_buf)"
   ]
  },
  {
   "cell_type": "code",
   "execution_count": 113,
   "id": "2e20ef7a",
   "metadata": {},
   "outputs": [
    {
     "ename": "ValueError",
     "evalue": "operands could not be broadcast together with shapes (8,5) (16,8) ",
     "output_type": "error",
     "traceback": [
      "\u001b[0;31m---------------------------------------------------------------------------\u001b[0m",
      "\u001b[0;31mValueError\u001b[0m                                Traceback (most recent call last)",
      "\u001b[0;32m/tmp/ipykernel_2109/740844068.py\u001b[0m in \u001b[0;36m<module>\u001b[0;34m\u001b[0m\n\u001b[0;32m----> 1\u001b[0;31m \u001b[0;34m(\u001b[0m\u001b[0mres_np\u001b[0m\u001b[0;34m-\u001b[0m\u001b[0mmult\u001b[0m\u001b[0;34m.\u001b[0m\u001b[0mT\u001b[0m\u001b[0;34m)\u001b[0m\u001b[0;34m.\u001b[0m\u001b[0msum\u001b[0m\u001b[0;34m(\u001b[0m\u001b[0;34m)\u001b[0m\u001b[0;34m\u001b[0m\u001b[0;34m\u001b[0m\u001b[0m\n\u001b[0m",
      "\u001b[0;31mValueError\u001b[0m: operands could not be broadcast together with shapes (8,5) (16,8) "
     ]
    }
   ],
   "source": [
    "(res_np-mult.T).sum()"
   ]
  },
  {
   "cell_type": "code",
   "execution_count": 114,
   "id": "13304b53",
   "metadata": {},
   "outputs": [
    {
     "data": {
      "text/plain": [
       "array([[0.        , 0.68347037, 0.8035886 , 0.        , 0.        ,\n",
       "        0.        , 0.        , 0.08023349, 0.8858316 , 0.        ,\n",
       "        0.17861794, 0.        , 0.46201044, 0.        , 0.        ,\n",
       "        0.        ],\n",
       "       [0.9562663 , 0.5531271 , 0.        , 0.        , 0.5375557 ,\n",
       "        0.        , 0.        , 0.        , 0.        , 0.        ,\n",
       "        0.        , 0.20370705, 0.35530138, 0.        , 0.        ,\n",
       "        0.9186601 ],\n",
       "       [0.        , 0.20103766, 0.        , 0.        , 0.        ,\n",
       "        0.74341315, 0.        , 0.        , 0.        , 0.5787496 ,\n",
       "        0.        , 0.05387774, 0.        , 0.5917517 , 0.17797045,\n",
       "        0.        ],\n",
       "       [0.        , 0.        , 0.        , 0.14296253, 0.9103574 ,\n",
       "        0.03242496, 0.        , 0.71459514, 0.        , 0.        ,\n",
       "        0.        , 0.        , 0.7448136 , 0.        , 0.        ,\n",
       "        0.66635793],\n",
       "       [0.        , 0.        , 0.        , 0.59893256, 0.        ,\n",
       "        0.        , 0.        , 0.9217044 , 0.        , 0.16333483,\n",
       "        0.        , 0.17167741, 0.        , 0.        , 0.7605819 ,\n",
       "        0.48675168],\n",
       "       [0.11415514, 0.82574075, 0.        , 0.        , 0.        ,\n",
       "        0.27978534, 0.        , 0.25018668, 0.        , 0.        ,\n",
       "        0.83127654, 0.09929471, 0.        , 0.        , 0.        ,\n",
       "        0.        ],\n",
       "       [0.28872353, 0.04889954, 0.        , 0.6493426 , 0.        ,\n",
       "        0.33329687, 0.        , 0.        , 0.        , 0.        ,\n",
       "        0.        , 0.        , 0.84441024, 0.01120785, 0.        ,\n",
       "        0.        ],\n",
       "       [0.67626965, 0.        , 0.        , 0.35563806, 0.        ,\n",
       "        0.        , 0.69630474, 0.        , 0.6753613 , 0.        ,\n",
       "        0.        , 0.12287189, 0.        , 0.        , 0.        ,\n",
       "        0.09184685]], dtype=float32)"
      ]
     },
     "execution_count": 114,
     "metadata": {},
     "output_type": "execute_result"
    }
   ],
   "source": [
    "a"
   ]
  },
  {
   "cell_type": "code",
   "execution_count": 115,
   "id": "1678d389",
   "metadata": {},
   "outputs": [
    {
     "data": {
      "text/plain": [
       "array([[0.49395892, 0.        , 0.46451807, 0.        , 0.        ],\n",
       "       [0.65864426, 0.        , 0.9786625 , 0.        , 0.        ],\n",
       "       [0.31044865, 0.        , 0.02502257, 0.        , 0.        ],\n",
       "       [0.        , 0.46765924, 0.        , 0.        , 0.03160795],\n",
       "       [0.71082693, 0.        , 0.58997136, 0.        , 0.        ],\n",
       "       [0.        , 0.        , 0.84622455, 0.5916316 , 0.        ],\n",
       "       [0.46450275, 0.        , 0.        , 0.        , 0.9429863 ],\n",
       "       [0.        , 0.34248227, 0.7672639 , 0.        , 0.        ],\n",
       "       [0.        , 0.        , 0.9855889 , 0.        , 0.2535647 ],\n",
       "       [0.        , 0.7705159 , 0.31522992, 0.        , 0.        ],\n",
       "       [0.        , 0.7167741 , 0.        , 0.8238369 , 0.        ],\n",
       "       [0.        , 0.91970533, 0.        , 0.7873889 , 0.        ],\n",
       "       [0.        , 0.        , 0.        , 0.404568  , 0.841323  ],\n",
       "       [0.        , 0.        , 0.674503  , 0.48820347, 0.        ],\n",
       "       [0.18725161, 0.11607183, 0.        , 0.        , 0.        ],\n",
       "       [0.7250254 , 0.        , 0.12346577, 0.        , 0.        ]],\n",
       "      dtype=float32)"
      ]
     },
     "execution_count": 115,
     "metadata": {},
     "output_type": "execute_result"
    }
   ],
   "source": [
    "b"
   ]
  },
  {
   "cell_type": "code",
   "execution_count": 116,
   "id": "6afa1b35",
   "metadata": {},
   "outputs": [
    {
     "data": {
      "text/plain": [
       "array([[0.6996368 , 0.15550727, 1.6236207 , 0.3340667 , 0.61331564],\n",
       "       [1.8848312 , 0.18735047, 1.4160932 , 0.30414024, 0.29892322],\n",
       "       [0.16573755, 0.51614475, 1.40742   , 0.7711447 , 0.        ],\n",
       "       [1.130233  , 0.31159392, 1.1950791 , 0.32051137, 0.6311476 ],\n",
       "       [0.49532753, 0.9677906 , 0.8187757 , 0.1351769 , 0.01893103],\n",
       "       [0.60025734, 0.7728439 , 1.2898692 , 0.9285497 , 0.        ],\n",
       "       [0.17482497, 0.30367106, 0.47157714, 0.544282  , 0.7309462 ],\n",
       "       [0.7240762 , 0.27932334, 0.99110806, 0.09674796, 0.8390946 ]],\n",
       "      dtype=float32)"
      ]
     },
     "execution_count": 116,
     "metadata": {},
     "output_type": "execute_result"
    }
   ],
   "source": [
    "res_np"
   ]
  },
  {
   "cell_type": "code",
   "execution_count": 117,
   "id": "16178e90",
   "metadata": {},
   "outputs": [
    {
     "data": {
      "text/plain": [
       "array([[0.6996368 , 0.15550727, 1.6236207 , 0.3340667 , 0.61331564],\n",
       "       [1.8848312 , 0.18735047, 1.4160932 , 0.30414024, 0.29892322],\n",
       "       [0.16573755, 0.51614475, 1.40742   , 0.7711447 , 0.        ],\n",
       "       [1.130233  , 0.31159392, 1.1950791 , 0.32051137, 0.6311476 ],\n",
       "       [0.49532753, 0.9677906 , 0.8187757 , 0.1351769 , 0.01893103],\n",
       "       [0.60025734, 0.7728439 , 1.2898692 , 0.9285497 , 0.        ],\n",
       "       [0.17482497, 0.30367106, 0.47157714, 0.544282  , 0.7309462 ],\n",
       "       [0.7240762 , 0.27932334, 0.99110806, 0.09674796, 0.8390946 ]],\n",
       "      dtype=float32)"
      ]
     },
     "execution_count": 117,
     "metadata": {},
     "output_type": "execute_result"
    }
   ],
   "source": [
    "a.dot(b)"
   ]
  },
  {
   "cell_type": "code",
   "execution_count": 118,
   "id": "4a9cd845",
   "metadata": {},
   "outputs": [
    {
     "name": "stderr",
     "output_type": "stream",
     "text": [
      "/tmp/ipykernel_2109/288550039.py:1: DeprecationWarning: elementwise comparison failed; this will raise an error in the future.\n",
      "  res_np==mult\n"
     ]
    },
    {
     "data": {
      "text/plain": [
       "False"
      ]
     },
     "execution_count": 118,
     "metadata": {},
     "output_type": "execute_result"
    }
   ],
   "source": [
    "res_np==mult"
   ]
  },
  {
   "cell_type": "code",
   "execution_count": 119,
   "id": "202bd173",
   "metadata": {},
   "outputs": [
    {
     "data": {
      "text/plain": [
       "(8, 5)"
      ]
     },
     "execution_count": 119,
     "metadata": {},
     "output_type": "execute_result"
    }
   ],
   "source": [
    "res_np.shape"
   ]
  },
  {
   "cell_type": "code",
   "execution_count": 120,
   "id": "31d97059",
   "metadata": {},
   "outputs": [
    {
     "data": {
      "text/plain": [
       "(8, 16)"
      ]
     },
     "execution_count": 120,
     "metadata": {},
     "output_type": "execute_result"
    }
   ],
   "source": [
    "mult.shape"
   ]
  },
  {
   "cell_type": "markdown",
   "id": "740ba01c",
   "metadata": {},
   "source": [
    "# Matmult Dense Transposed"
   ]
  },
  {
   "cell_type": "code",
   "execution_count": 121,
   "id": "62bd6037",
   "metadata": {},
   "outputs": [
    {
     "data": {
      "text/plain": [
       "array([[0.49395892, 0.        , 0.46451807, 0.        , 0.        ],\n",
       "       [0.65864426, 0.        , 0.9786625 , 0.        , 0.        ],\n",
       "       [0.31044865, 0.        , 0.02502257, 0.        , 0.        ],\n",
       "       [0.        , 0.46765924, 0.        , 0.        , 0.03160795],\n",
       "       [0.71082693, 0.        , 0.58997136, 0.        , 0.        ],\n",
       "       [0.        , 0.        , 0.84622455, 0.5916316 , 0.        ],\n",
       "       [0.46450275, 0.        , 0.        , 0.        , 0.9429863 ],\n",
       "       [0.        , 0.34248227, 0.7672639 , 0.        , 0.        ],\n",
       "       [0.        , 0.        , 0.9855889 , 0.        , 0.2535647 ],\n",
       "       [0.        , 0.7705159 , 0.31522992, 0.        , 0.        ],\n",
       "       [0.        , 0.7167741 , 0.        , 0.8238369 , 0.        ],\n",
       "       [0.        , 0.91970533, 0.        , 0.7873889 , 0.        ],\n",
       "       [0.        , 0.        , 0.        , 0.404568  , 0.841323  ],\n",
       "       [0.        , 0.        , 0.674503  , 0.48820347, 0.        ],\n",
       "       [0.18725161, 0.11607183, 0.        , 0.        , 0.        ],\n",
       "       [0.7250254 , 0.        , 0.12346577, 0.        , 0.        ]],\n",
       "      dtype=float32)"
      ]
     },
     "execution_count": 121,
     "metadata": {},
     "output_type": "execute_result"
    }
   ],
   "source": [
    "b"
   ]
  },
  {
   "cell_type": "code",
   "execution_count": 122,
   "id": "dc2ef4a9",
   "metadata": {},
   "outputs": [],
   "source": [
    "c=np.zeros(b.T.shape)\n",
    "bt = b.T\n",
    "for row in range(bt.shape[0]):\n",
    "    for col in range(bt.shape[1]):\n",
    "        c[row][col] = bt[row][col]"
   ]
  },
  {
   "cell_type": "code",
   "execution_count": 123,
   "id": "ca967ffe",
   "metadata": {},
   "outputs": [],
   "source": [
    "b_buf2 = cl.Buffer(ctx, mf.READ_WRITE | mf.COPY_HOST_PTR, hostbuf=c.astype(np.float32))\n",
    "a_buf = cl.Buffer(ctx, mf.READ_WRITE | mf.COPY_HOST_PTR, hostbuf=a)\n",
    "\n",
    "prg = cl.Program(ctx, \"\"\"\n",
    "    // multilplies x by y WITH Y TRANSPOSED INDEXING\n",
    "    __kernel void matmul0(__global  float* x,     // INPUT MATRIX DATA\n",
    "                          __global  float* y,    // INPUT\n",
    "                          __global  float* res,    // INPUT\n",
    "                          uint msize\n",
    "                          ) { // LOCAL SHARED BUFFER\n",
    "      uint isize = get_global_size(0);\n",
    "      uint osize = get_global_size(1);\n",
    "      int gidx = get_global_id(0); // row\n",
    "      int gidy = get_global_id(1); // col\n",
    "\n",
    "      float ret = 0.0;\n",
    "      for (int i = 0; i < msize; i++) {\n",
    "        uint xidx = gidx*msize+i;\n",
    "        float xval = x[xidx];\n",
    "        uint yidx = msize*gidy+i;\n",
    "        float yval = y[yidx];\n",
    "        ret += xval*yval;\n",
    "        if (gidx==0 && gidy==0)\n",
    "          printf(\"\\\\nmult: %.2f x %.2f - %.2f  -- %i/%i\", xval, yval, res, xidx, yidx);\n",
    "      }\n",
    "\n",
    "      //if (gidx==0&&gidy==0)\n",
    "      //  printf(\"\\\\nsum:%.2f\", ret);\n",
    "      res[gidx * osize + gidy] = ret;\n",
    "    }\"\"\").build()"
   ]
  },
  {
   "cell_type": "code",
   "execution_count": 124,
   "id": "a43dbb5d",
   "metadata": {},
   "outputs": [
    {
     "data": {
      "text/plain": [
       "((8, 16), (5, 16))"
      ]
     },
     "execution_count": 124,
     "metadata": {},
     "output_type": "execute_result"
    }
   ],
   "source": [
    "a.shape, b.T.shape"
   ]
  },
  {
   "cell_type": "code",
   "execution_count": 125,
   "id": "fde0973e",
   "metadata": {},
   "outputs": [],
   "source": [
    "rows = a.shape[0]"
   ]
  },
  {
   "cell_type": "code",
   "execution_count": 126,
   "id": "56c661f2",
   "metadata": {},
   "outputs": [],
   "source": [
    "mult = mult.astype(np.float32)"
   ]
  },
  {
   "cell_type": "code",
   "execution_count": 127,
   "id": "10b1d468",
   "metadata": {},
   "outputs": [
    {
     "name": "stdout",
     "output_type": "stream",
     "text": [
      "\n",
      "mult: 0.00 x 0.49 - 0.00  -- 0/0\n",
      "mult: 0.68 x 0.66 - 0.00  -- 1/1\n",
      "mult: 0.80 x 0.31 - 0.00  -- 2/2\n",
      "mult: 0.00 x 0.00 - 0.00  -- 3/3\n",
      "mult: 0.00 x 0.71 - 0.00  -- 4/4\n",
      "mult: 0.00 x 0.00 - 0.00  -- 5/5\n",
      "mult: 0.00 x 0.46 - 0.00  -- 6/6\n",
      "mult: 0.08 x 0.00 - 0.00  -- 7/7\n",
      "mult: 0.89 x 0.00 - 0.00  -- 8/8\n",
      "mult: 0.00 x 0.00 - 0.00  -- 9/9\n",
      "mult: 0.18 x 0.00 - 0.00  -- 10/10\n",
      "mult: 0.00 x 0.00 - 0.00  -- 11/11\n",
      "mult: 0.46 x 0.00 - 0.00  -- 12/12\n",
      "mult: 0.00 x 0.00 - 0.00  -- 13/13\n",
      "mult: 0.00 x 0.19 - 0.00  -- 14/14\n",
      "mult: 0.00 x 0.73 - 0.00  -- 15/15"
     ]
    },
    {
     "data": {
      "text/plain": [
       "<pyopencl._cl.NannyEvent at 0x7f5a642ed400>"
      ]
     },
     "execution_count": 127,
     "metadata": {},
     "output_type": "execute_result"
    }
   ],
   "source": [
    "res_buf = cl.Buffer(ctx, mf.READ_WRITE, np.prod([rows,b.shape[1]])*4)\n",
    "knl = prg.matmul0  # Use this Kernel object for repeated calls\n",
    "knl(queue, [rows,b.shape[1]], None, a_buf, b_buf2, res_buf, np.uint32(a.shape[1]))\n",
    "\n",
    "res_np = np.zeros([rows,b.shape[1]]).astype(np.float32)\n",
    "cl.enqueue_copy(queue, res_np, res_buf)"
   ]
  },
  {
   "cell_type": "code",
   "execution_count": 128,
   "id": "3791c36d",
   "metadata": {},
   "outputs": [
    {
     "ename": "ValueError",
     "evalue": "operands could not be broadcast together with shapes (8,5) (8,16) ",
     "output_type": "error",
     "traceback": [
      "\u001b[0;31m---------------------------------------------------------------------------\u001b[0m",
      "\u001b[0;31mValueError\u001b[0m                                Traceback (most recent call last)",
      "\u001b[0;32m/tmp/ipykernel_2109/862617426.py\u001b[0m in \u001b[0;36m<module>\u001b[0;34m\u001b[0m\n\u001b[0;32m----> 1\u001b[0;31m \u001b[0;34m(\u001b[0m\u001b[0mres_np\u001b[0m\u001b[0;34m-\u001b[0m\u001b[0mmult\u001b[0m\u001b[0;34m)\u001b[0m\u001b[0;34m.\u001b[0m\u001b[0msum\u001b[0m\u001b[0;34m(\u001b[0m\u001b[0;34m)\u001b[0m\u001b[0;34m\u001b[0m\u001b[0;34m\u001b[0m\u001b[0m\n\u001b[0m",
      "\u001b[0;31mValueError\u001b[0m: operands could not be broadcast together with shapes (8,5) (8,16) "
     ]
    }
   ],
   "source": [
    "(res_np-mult).sum()"
   ]
  },
  {
   "cell_type": "code",
   "execution_count": 129,
   "id": "be02b18f",
   "metadata": {},
   "outputs": [
    {
     "data": {
      "text/plain": [
       "array([[0.        , 0.68347037, 0.8035886 , 0.        , 0.        ,\n",
       "        0.        , 0.        , 0.08023349, 0.8858316 , 0.        ,\n",
       "        0.17861794, 0.        , 0.46201044, 0.        , 0.        ,\n",
       "        0.        ],\n",
       "       [0.9562663 , 0.5531271 , 0.        , 0.        , 0.5375557 ,\n",
       "        0.        , 0.        , 0.        , 0.        , 0.        ,\n",
       "        0.        , 0.20370705, 0.35530138, 0.        , 0.        ,\n",
       "        0.9186601 ],\n",
       "       [0.        , 0.20103766, 0.        , 0.        , 0.        ,\n",
       "        0.74341315, 0.        , 0.        , 0.        , 0.5787496 ,\n",
       "        0.        , 0.05387774, 0.        , 0.5917517 , 0.17797045,\n",
       "        0.        ],\n",
       "       [0.        , 0.        , 0.        , 0.14296253, 0.9103574 ,\n",
       "        0.03242496, 0.        , 0.71459514, 0.        , 0.        ,\n",
       "        0.        , 0.        , 0.7448136 , 0.        , 0.        ,\n",
       "        0.66635793],\n",
       "       [0.        , 0.        , 0.        , 0.59893256, 0.        ,\n",
       "        0.        , 0.        , 0.9217044 , 0.        , 0.16333483,\n",
       "        0.        , 0.17167741, 0.        , 0.        , 0.7605819 ,\n",
       "        0.48675168],\n",
       "       [0.11415514, 0.82574075, 0.        , 0.        , 0.        ,\n",
       "        0.27978534, 0.        , 0.25018668, 0.        , 0.        ,\n",
       "        0.83127654, 0.09929471, 0.        , 0.        , 0.        ,\n",
       "        0.        ],\n",
       "       [0.28872353, 0.04889954, 0.        , 0.6493426 , 0.        ,\n",
       "        0.33329687, 0.        , 0.        , 0.        , 0.        ,\n",
       "        0.        , 0.        , 0.84441024, 0.01120785, 0.        ,\n",
       "        0.        ],\n",
       "       [0.67626965, 0.        , 0.        , 0.35563806, 0.        ,\n",
       "        0.        , 0.69630474, 0.        , 0.6753613 , 0.        ,\n",
       "        0.        , 0.12287189, 0.        , 0.        , 0.        ,\n",
       "        0.09184685]], dtype=float32)"
      ]
     },
     "execution_count": 129,
     "metadata": {},
     "output_type": "execute_result"
    }
   ],
   "source": [
    "a"
   ]
  },
  {
   "cell_type": "code",
   "execution_count": 130,
   "id": "7a112967",
   "metadata": {},
   "outputs": [
    {
     "data": {
      "text/plain": [
       "array([[0.49395892, 0.        , 0.46451807, 0.        , 0.        ],\n",
       "       [0.65864426, 0.        , 0.9786625 , 0.        , 0.        ],\n",
       "       [0.31044865, 0.        , 0.02502257, 0.        , 0.        ],\n",
       "       [0.        , 0.46765924, 0.        , 0.        , 0.03160795],\n",
       "       [0.71082693, 0.        , 0.58997136, 0.        , 0.        ],\n",
       "       [0.        , 0.        , 0.84622455, 0.5916316 , 0.        ],\n",
       "       [0.46450275, 0.        , 0.        , 0.        , 0.9429863 ],\n",
       "       [0.        , 0.34248227, 0.7672639 , 0.        , 0.        ],\n",
       "       [0.        , 0.        , 0.9855889 , 0.        , 0.2535647 ],\n",
       "       [0.        , 0.7705159 , 0.31522992, 0.        , 0.        ],\n",
       "       [0.        , 0.7167741 , 0.        , 0.8238369 , 0.        ],\n",
       "       [0.        , 0.91970533, 0.        , 0.7873889 , 0.        ],\n",
       "       [0.        , 0.        , 0.        , 0.404568  , 0.841323  ],\n",
       "       [0.        , 0.        , 0.674503  , 0.48820347, 0.        ],\n",
       "       [0.18725161, 0.11607183, 0.        , 0.        , 0.        ],\n",
       "       [0.7250254 , 0.        , 0.12346577, 0.        , 0.        ]],\n",
       "      dtype=float32)"
      ]
     },
     "execution_count": 130,
     "metadata": {},
     "output_type": "execute_result"
    }
   ],
   "source": [
    "b"
   ]
  },
  {
   "cell_type": "code",
   "execution_count": 131,
   "id": "0bdbf257",
   "metadata": {},
   "outputs": [
    {
     "data": {
      "text/plain": [
       "array([[0.6996368 , 0.15550727, 1.6236207 , 0.3340667 , 0.61331564],\n",
       "       [1.8848312 , 0.18735047, 1.4160932 , 0.30414024, 0.29892322],\n",
       "       [0.16573755, 0.51614475, 1.40742   , 0.7711447 , 0.        ],\n",
       "       [1.130233  , 0.31159392, 1.1950791 , 0.32051137, 0.6311476 ],\n",
       "       [0.49532753, 0.9677906 , 0.8187757 , 0.1351769 , 0.01893103],\n",
       "       [0.60025734, 0.7728439 , 1.2898692 , 0.9285497 , 0.        ],\n",
       "       [0.17482497, 0.30367106, 0.47157714, 0.544282  , 0.7309462 ],\n",
       "       [0.7240762 , 0.27932334, 0.99110806, 0.09674796, 0.8390946 ]],\n",
       "      dtype=float32)"
      ]
     },
     "execution_count": 131,
     "metadata": {},
     "output_type": "execute_result"
    }
   ],
   "source": [
    "res_np"
   ]
  },
  {
   "cell_type": "code",
   "execution_count": 132,
   "id": "4e43e4c3",
   "metadata": {},
   "outputs": [
    {
     "data": {
      "text/plain": [
       "array([[0.6996368 , 0.15550727, 1.6236207 , 0.3340667 , 0.61331564],\n",
       "       [1.8848312 , 0.18735047, 1.4160932 , 0.30414024, 0.29892322],\n",
       "       [0.16573755, 0.51614475, 1.40742   , 0.7711447 , 0.        ],\n",
       "       [1.130233  , 0.31159392, 1.1950791 , 0.32051137, 0.6311476 ],\n",
       "       [0.49532753, 0.9677906 , 0.8187757 , 0.1351769 , 0.01893103],\n",
       "       [0.60025734, 0.7728439 , 1.2898692 , 0.9285497 , 0.        ],\n",
       "       [0.17482497, 0.30367106, 0.47157714, 0.544282  , 0.7309462 ],\n",
       "       [0.7240762 , 0.27932334, 0.99110806, 0.09674796, 0.8390946 ]],\n",
       "      dtype=float32)"
      ]
     },
     "execution_count": 132,
     "metadata": {},
     "output_type": "execute_result"
    }
   ],
   "source": [
    "a.dot(b)"
   ]
  },
  {
   "cell_type": "code",
   "execution_count": 133,
   "id": "fbe02272",
   "metadata": {},
   "outputs": [
    {
     "name": "stderr",
     "output_type": "stream",
     "text": [
      "/tmp/ipykernel_2109/288550039.py:1: DeprecationWarning: elementwise comparison failed; this will raise an error in the future.\n",
      "  res_np==mult\n"
     ]
    },
    {
     "data": {
      "text/plain": [
       "False"
      ]
     },
     "execution_count": 133,
     "metadata": {},
     "output_type": "execute_result"
    }
   ],
   "source": [
    "res_np==mult"
   ]
  },
  {
   "cell_type": "code",
   "execution_count": 134,
   "id": "bb6187da",
   "metadata": {},
   "outputs": [
    {
     "data": {
      "text/plain": [
       "(8, 5)"
      ]
     },
     "execution_count": 134,
     "metadata": {},
     "output_type": "execute_result"
    }
   ],
   "source": [
    "res_np.shape"
   ]
  },
  {
   "cell_type": "code",
   "execution_count": 135,
   "id": "af9e3da1",
   "metadata": {},
   "outputs": [
    {
     "data": {
      "text/plain": [
       "(8, 16)"
      ]
     },
     "execution_count": 135,
     "metadata": {},
     "output_type": "execute_result"
    }
   ],
   "source": [
    "mult.shape"
   ]
  },
  {
   "cell_type": "markdown",
   "id": "726b7e0f",
   "metadata": {},
   "source": [
    "# Matmult Transposed Dense"
   ]
  },
  {
   "cell_type": "code",
   "execution_count": 136,
   "id": "ccb4c6c8",
   "metadata": {},
   "outputs": [],
   "source": [
    "mult = a.dot(b)"
   ]
  },
  {
   "cell_type": "code",
   "execution_count": 137,
   "id": "f9d3c30b",
   "metadata": {},
   "outputs": [],
   "source": [
    "c=np.zeros(a.T.shape)\n",
    "at = a.T\n",
    "for row in range(at.shape[0]):\n",
    "    for col in range(at.shape[1]):\n",
    "        c[row][col] = at[row][col]"
   ]
  },
  {
   "cell_type": "code",
   "execution_count": 138,
   "id": "ca096192",
   "metadata": {},
   "outputs": [],
   "source": [
    "a_buf = cl.Buffer(ctx, mf.READ_WRITE | mf.COPY_HOST_PTR, hostbuf=c.astype(np.float32))\n",
    "b_buf = cl.Buffer(ctx, mf.READ_WRITE | mf.COPY_HOST_PTR, hostbuf=b)\n",
    "\n",
    "prg = cl.Program(ctx, \"\"\"\n",
    "    // multilplies x TRANSPOSED by y (dense-dense)\n",
    "    __kernel void matmul0(__global  float* x,     // INPUT MATRIX DATA\n",
    "                          __global  float* y,    // INPUT\n",
    "                          __global  float* res,    // INPUT\n",
    "                          uint msize,\n",
    "                          uint isize\n",
    "                          ) { // LOCAL SHARED BUFFER\n",
    "      uint osize = get_global_size(0);\n",
    "      int gidy = get_global_id(0); // row\n",
    "      \n",
    "      for (uint gidx = 0; gidx < isize; gidx++) {\n",
    "        float ret = 0.0;\n",
    "        for (uint i = 0; i < msize; i++) {\n",
    "          uint xidx = i*isize+gidx;\n",
    "          float xval = x[xidx];\n",
    "          uint yidx = osize*i+gidy;\n",
    "          float yval = y[yidx];\n",
    "          ret += xval*yval;\n",
    "          if (gidx==0 && gidy==0)\n",
    "            printf(\"\\\\nmult: %.2f x %.2f - %.2f  -- %i/%i\", xval, yval, ret, xidx, yidx);\n",
    "        }\n",
    "        //if (gidx==0&&gidy==0)\n",
    "        //  printf(\"\\\\nsum:%.2f\", ret);\n",
    "        res[gidx * osize + gidy] = ret;\n",
    "      }\n",
    "    }\"\"\").build()"
   ]
  },
  {
   "cell_type": "code",
   "execution_count": 139,
   "id": "6bcc4256",
   "metadata": {},
   "outputs": [
    {
     "data": {
      "text/plain": [
       "((8, 16), (16, 5))"
      ]
     },
     "execution_count": 139,
     "metadata": {},
     "output_type": "execute_result"
    }
   ],
   "source": [
    "a.shape, b.shape"
   ]
  },
  {
   "cell_type": "code",
   "execution_count": 140,
   "id": "81be729b",
   "metadata": {},
   "outputs": [],
   "source": [
    "rows = a.shape[0]"
   ]
  },
  {
   "cell_type": "code",
   "execution_count": 141,
   "id": "e17d0d40",
   "metadata": {},
   "outputs": [
    {
     "data": {
      "text/plain": [
       "(8, 5)"
      ]
     },
     "execution_count": 141,
     "metadata": {},
     "output_type": "execute_result"
    }
   ],
   "source": [
    "mult = mult.astype(np.float32)\n",
    "mult.shape"
   ]
  },
  {
   "cell_type": "code",
   "execution_count": 142,
   "id": "5d469907",
   "metadata": {},
   "outputs": [
    {
     "name": "stdout",
     "output_type": "stream",
     "text": [
      "\n",
      "mult: 0.00 x 0.49 - 0.00  -- 0/0\n",
      "mult: 0.68 x 0.66 - 0.45  -- 8/5\n",
      "mult: 0.80 x 0.31 - 0.70  -- 16/10\n",
      "mult: 0.00 x 0.00 - 0.70  -- 24/15\n",
      "mult: 0.00 x 0.71 - 0.70  -- 32/20\n",
      "mult: 0.00 x 0.00 - 0.70  -- 40/25\n",
      "mult: 0.00 x 0.46 - 0.70  -- 48/30\n",
      "mult: 0.08 x 0.00 - 0.70  -- 56/35\n",
      "mult: 0.89 x 0.00 - 0.70  -- 64/40\n",
      "mult: 0.00 x 0.00 - 0.70  -- 72/45\n",
      "mult: 0.18 x 0.00 - 0.70  -- 80/50\n",
      "mult: 0.00 x 0.00 - 0.70  -- 88/55\n",
      "mult: 0.46 x 0.00 - 0.70  -- 96/60\n",
      "mult: 0.00 x 0.00 - 0.70  -- 104/65\n",
      "mult: 0.00 x 0.19 - 0.70  -- 112/70\n",
      "mult: 0.00 x 0.73 - 0.70  -- 120/75"
     ]
    },
    {
     "data": {
      "text/plain": [
       "<pyopencl._cl.NannyEvent at 0x7f5a643319f0>"
      ]
     },
     "execution_count": 142,
     "metadata": {},
     "output_type": "execute_result"
    }
   ],
   "source": [
    "res_buf = cl.Buffer(ctx, mf.READ_WRITE, np.prod([rows,b.shape[1]])*4)\n",
    "knl = prg.matmul0  # Use this Kernel object for repeated calls\n",
    "knl(queue, [b.shape[1]], None, a_buf, b_buf, res_buf, np.uint32(a.shape[1]), np.uint32(rows))\n",
    "\n",
    "res_np = np.zeros([rows,b.shape[1]]).astype(np.float32)\n",
    "cl.enqueue_copy(queue, res_np, res_buf)"
   ]
  },
  {
   "cell_type": "code",
   "execution_count": 143,
   "id": "c7ca806a",
   "metadata": {},
   "outputs": [
    {
     "data": {
      "text/plain": [
       "0.0"
      ]
     },
     "execution_count": 143,
     "metadata": {},
     "output_type": "execute_result"
    }
   ],
   "source": [
    "(res_np-mult).sum()"
   ]
  },
  {
   "cell_type": "code",
   "execution_count": 144,
   "id": "067cf8fc",
   "metadata": {},
   "outputs": [
    {
     "data": {
      "text/plain": [
       "array([[0.        , 0.68347037, 0.8035886 , 0.        , 0.        ,\n",
       "        0.        , 0.        , 0.08023349, 0.8858316 , 0.        ,\n",
       "        0.17861794, 0.        , 0.46201044, 0.        , 0.        ,\n",
       "        0.        ],\n",
       "       [0.9562663 , 0.5531271 , 0.        , 0.        , 0.5375557 ,\n",
       "        0.        , 0.        , 0.        , 0.        , 0.        ,\n",
       "        0.        , 0.20370705, 0.35530138, 0.        , 0.        ,\n",
       "        0.9186601 ],\n",
       "       [0.        , 0.20103766, 0.        , 0.        , 0.        ,\n",
       "        0.74341315, 0.        , 0.        , 0.        , 0.5787496 ,\n",
       "        0.        , 0.05387774, 0.        , 0.5917517 , 0.17797045,\n",
       "        0.        ],\n",
       "       [0.        , 0.        , 0.        , 0.14296253, 0.9103574 ,\n",
       "        0.03242496, 0.        , 0.71459514, 0.        , 0.        ,\n",
       "        0.        , 0.        , 0.7448136 , 0.        , 0.        ,\n",
       "        0.66635793],\n",
       "       [0.        , 0.        , 0.        , 0.59893256, 0.        ,\n",
       "        0.        , 0.        , 0.9217044 , 0.        , 0.16333483,\n",
       "        0.        , 0.17167741, 0.        , 0.        , 0.7605819 ,\n",
       "        0.48675168],\n",
       "       [0.11415514, 0.82574075, 0.        , 0.        , 0.        ,\n",
       "        0.27978534, 0.        , 0.25018668, 0.        , 0.        ,\n",
       "        0.83127654, 0.09929471, 0.        , 0.        , 0.        ,\n",
       "        0.        ],\n",
       "       [0.28872353, 0.04889954, 0.        , 0.6493426 , 0.        ,\n",
       "        0.33329687, 0.        , 0.        , 0.        , 0.        ,\n",
       "        0.        , 0.        , 0.84441024, 0.01120785, 0.        ,\n",
       "        0.        ],\n",
       "       [0.67626965, 0.        , 0.        , 0.35563806, 0.        ,\n",
       "        0.        , 0.69630474, 0.        , 0.6753613 , 0.        ,\n",
       "        0.        , 0.12287189, 0.        , 0.        , 0.        ,\n",
       "        0.09184685]], dtype=float32)"
      ]
     },
     "execution_count": 144,
     "metadata": {},
     "output_type": "execute_result"
    }
   ],
   "source": [
    "a"
   ]
  },
  {
   "cell_type": "code",
   "execution_count": 145,
   "id": "0fd446e8",
   "metadata": {},
   "outputs": [
    {
     "data": {
      "text/plain": [
       "array([[0.49395892, 0.        , 0.46451807, 0.        , 0.        ],\n",
       "       [0.65864426, 0.        , 0.9786625 , 0.        , 0.        ],\n",
       "       [0.31044865, 0.        , 0.02502257, 0.        , 0.        ],\n",
       "       [0.        , 0.46765924, 0.        , 0.        , 0.03160795],\n",
       "       [0.71082693, 0.        , 0.58997136, 0.        , 0.        ],\n",
       "       [0.        , 0.        , 0.84622455, 0.5916316 , 0.        ],\n",
       "       [0.46450275, 0.        , 0.        , 0.        , 0.9429863 ],\n",
       "       [0.        , 0.34248227, 0.7672639 , 0.        , 0.        ],\n",
       "       [0.        , 0.        , 0.9855889 , 0.        , 0.2535647 ],\n",
       "       [0.        , 0.7705159 , 0.31522992, 0.        , 0.        ],\n",
       "       [0.        , 0.7167741 , 0.        , 0.8238369 , 0.        ],\n",
       "       [0.        , 0.91970533, 0.        , 0.7873889 , 0.        ],\n",
       "       [0.        , 0.        , 0.        , 0.404568  , 0.841323  ],\n",
       "       [0.        , 0.        , 0.674503  , 0.48820347, 0.        ],\n",
       "       [0.18725161, 0.11607183, 0.        , 0.        , 0.        ],\n",
       "       [0.7250254 , 0.        , 0.12346577, 0.        , 0.        ]],\n",
       "      dtype=float32)"
      ]
     },
     "execution_count": 145,
     "metadata": {},
     "output_type": "execute_result"
    }
   ],
   "source": [
    "b"
   ]
  },
  {
   "cell_type": "code",
   "execution_count": 146,
   "id": "334f65af",
   "metadata": {},
   "outputs": [
    {
     "data": {
      "text/plain": [
       "array([[0.6996368 , 0.15550727, 1.6236207 , 0.3340667 , 0.61331564],\n",
       "       [1.8848312 , 0.18735047, 1.4160932 , 0.30414024, 0.29892322],\n",
       "       [0.16573755, 0.51614475, 1.40742   , 0.7711447 , 0.        ],\n",
       "       [1.130233  , 0.31159392, 1.1950791 , 0.32051137, 0.6311476 ],\n",
       "       [0.49532753, 0.9677906 , 0.8187757 , 0.1351769 , 0.01893103],\n",
       "       [0.60025734, 0.7728439 , 1.2898692 , 0.9285497 , 0.        ],\n",
       "       [0.17482497, 0.30367106, 0.47157714, 0.544282  , 0.7309462 ],\n",
       "       [0.7240762 , 0.27932334, 0.99110806, 0.09674796, 0.8390946 ]],\n",
       "      dtype=float32)"
      ]
     },
     "execution_count": 146,
     "metadata": {},
     "output_type": "execute_result"
    }
   ],
   "source": [
    "res_np"
   ]
  },
  {
   "cell_type": "code",
   "execution_count": 147,
   "id": "c588082c",
   "metadata": {},
   "outputs": [
    {
     "data": {
      "text/plain": [
       "array([[0.6996368 , 0.15550727, 1.6236207 , 0.3340667 , 0.61331564],\n",
       "       [1.8848312 , 0.18735047, 1.4160932 , 0.30414024, 0.29892322],\n",
       "       [0.16573755, 0.51614475, 1.40742   , 0.7711447 , 0.        ],\n",
       "       [1.130233  , 0.31159392, 1.1950791 , 0.32051137, 0.6311476 ],\n",
       "       [0.49532753, 0.9677906 , 0.8187757 , 0.1351769 , 0.01893103],\n",
       "       [0.60025734, 0.7728439 , 1.2898692 , 0.9285497 , 0.        ],\n",
       "       [0.17482497, 0.30367106, 0.47157714, 0.544282  , 0.7309462 ],\n",
       "       [0.7240762 , 0.27932334, 0.99110806, 0.09674796, 0.8390946 ]],\n",
       "      dtype=float32)"
      ]
     },
     "execution_count": 147,
     "metadata": {},
     "output_type": "execute_result"
    }
   ],
   "source": [
    "a.dot(b)"
   ]
  },
  {
   "cell_type": "code",
   "execution_count": 148,
   "id": "e6187e1f",
   "metadata": {},
   "outputs": [
    {
     "data": {
      "text/plain": [
       "array([[ True,  True,  True,  True,  True],\n",
       "       [ True,  True,  True,  True,  True],\n",
       "       [ True,  True,  True,  True,  True],\n",
       "       [ True,  True,  True,  True,  True],\n",
       "       [ True,  True,  True,  True,  True],\n",
       "       [ True,  True,  True,  True,  True],\n",
       "       [ True,  True,  True,  True,  True],\n",
       "       [ True,  True,  True,  True,  True]])"
      ]
     },
     "execution_count": 148,
     "metadata": {},
     "output_type": "execute_result"
    }
   ],
   "source": [
    "res_np==mult"
   ]
  },
  {
   "cell_type": "code",
   "execution_count": 149,
   "id": "eb36e476",
   "metadata": {},
   "outputs": [
    {
     "data": {
      "text/plain": [
       "(8, 5)"
      ]
     },
     "execution_count": 149,
     "metadata": {},
     "output_type": "execute_result"
    }
   ],
   "source": [
    "res_np.shape"
   ]
  },
  {
   "cell_type": "code",
   "execution_count": 150,
   "id": "7e406268",
   "metadata": {},
   "outputs": [
    {
     "data": {
      "text/plain": [
       "(8, 5)"
      ]
     },
     "execution_count": 150,
     "metadata": {},
     "output_type": "execute_result"
    }
   ],
   "source": [
    "mult.shape"
   ]
  },
  {
   "cell_type": "markdown",
   "id": "419e7026",
   "metadata": {},
   "source": [
    "# Matmult Transposed Dense (SPR) - NEW"
   ]
  },
  {
   "cell_type": "code",
   "execution_count": 151,
   "id": "647961eb",
   "metadata": {},
   "outputs": [],
   "source": [
    "c=np.zeros(a.T.shape)\n",
    "at = a.T\n",
    "for row in range(at.shape[0]):\n",
    "    for col in range(at.shape[1]):\n",
    "        c[row][col] = at[row][col]"
   ]
  },
  {
   "cell_type": "code",
   "execution_count": 152,
   "id": "2a83cd6d",
   "metadata": {},
   "outputs": [],
   "source": [
    "a_buf = cl.Buffer(ctx, mf.READ_WRITE | mf.COPY_HOST_PTR, hostbuf=c.astype(np.float32))\n",
    "b_buf = cl.Buffer(ctx, mf.READ_WRITE | mf.COPY_HOST_PTR, hostbuf=b)\n",
    "x_sum_buf = cl.Buffer(ctx, mf.WRITE_ONLY, a.shape[0]*4)\n",
    "y_sum_buf = cl.Buffer(ctx, mf.WRITE_ONLY, b.shape[1]*4)\n",
    "x_idx_buf = cl.Buffer(ctx, mf.WRITE_ONLY, topkx*4)\n",
    "y_idx_buf = cl.Buffer(ctx, mf.WRITE_ONLY, topky*4)\n",
    "sdata_buf = cl.Buffer(ctx, mf.READ_WRITE, a.shape[0]*topkx*4)\n",
    "sidxs_buf = cl.Buffer(ctx, mf.READ_WRITE, a.shape[0]*topkx*4)\n",
    "snnzs_buf = cl.Buffer(ctx, mf.READ_WRITE, a.shape[0]*4)\n",
    "sdatat_buf = cl.Buffer(ctx, mf.READ_WRITE, b.shape[1]*topky*4)\n",
    "sidxst_buf = cl.Buffer(ctx, mf.READ_WRITE, b.shape[1]*topky*4)\n",
    "snnzst_buf = cl.Buffer(ctx, mf.READ_WRITE, b.shape[1]*4)\n",
    "\n",
    "prg = cl.Program(ctx, \"\"\"\n",
    "    // sorts x and y in ascending order and returns sorted indices\n",
    "    __kernel void genwupdate4(__global  float* x,     // INPUT MATRIX DATA\n",
    "                              __global  float* y,    // INPUT\n",
    "                              __global  float* xsum,    // INPUT\n",
    "                              __global  float* ysum,    // INPUT\n",
    "                              uint isize,\n",
    "                              uint msize,\n",
    "                              uint osize,\n",
    "                              uint topkx,\n",
    "                              uint topky,\n",
    "                              __global  uint*  xoutidx,\n",
    "                              __global  uint*  youtidx,\n",
    "                              __global  float* matData,     // OUTPUT MATRIX DATA\n",
    "                              __global  uint*  colIdx,\n",
    "                              __global  uint*  rowNnz,\n",
    "                              __global  float* matDatat,    // OUTPUT MATRIX DATA\n",
    "                              __global  uint*  colIdxt,\n",
    "                              __global  uint*  rowNnzt\n",
    "                              ) {\n",
    "      uint gid = get_global_id(0);\n",
    "\n",
    "      // get for a: sum axis0  b: sum axis1 then get topk\n",
    "      ///////////////////////////////////////////////////\n",
    "      if (gid < isize) {\n",
    "        xsum[gid] = 0;\n",
    "        for (uint i=0; i<msize; i++) {\n",
    "          float val = x[i*isize+gid];\n",
    "          //if (gid == 0) {\n",
    "          //  printf(\"\\\\nADD VALx: %.2f - %i\", val, i*msize+gid);\n",
    "          //}\n",
    "          xsum[gid] += val;\n",
    "        }\n",
    "\n",
    "        float valx = xsum[gid];\n",
    "        uint posx = 0;\n",
    "        for (uint i = 0; i < isize; i++) {\n",
    "          float tempval = fabs(xsum[i]);\n",
    "          bool larger = tempval > fabs(valx);\n",
    "          posx += (larger)?1:0;\n",
    "        }\n",
    "        if (posx < topky) {\n",
    "          youtidx[posx] = gid;\n",
    "        }\n",
    "      }\n",
    "\n",
    "      if (gid < osize) {\n",
    "        ysum[gid] = 0;\n",
    "        for (uint i=0; i<msize; i++) {\n",
    "          float val = y[i*osize+gid];\n",
    "          //if (gid == 0) {\n",
    "          //  printf(\"\\\\nADD VALx: %.2f - %i\", val, gid*osize+i);\n",
    "          //}\n",
    "          ysum[gid] += val;\n",
    "        }\n",
    "\n",
    "        float valy = ysum[gid];\n",
    "        uint posy = 0;\n",
    "        for (uint i = 0; i < osize; i++) {\n",
    "          float tempval = fabs(ysum[i]);\n",
    "          bool larger = tempval > fabs(valy);\n",
    "          posy += (larger)?1:0;\n",
    "        }\n",
    "\n",
    "        if (posy < topkx) {\n",
    "          xoutidx[posy] = gid;\n",
    "        }\n",
    "      }\n",
    "\n",
    "      if (gid < topkx) {\n",
    "        float valx = xoutidx[gid];\n",
    "        uint posx = 0;\n",
    "        for (uint i = 0; i < topkx; i++) {\n",
    "          float tempval = xoutidx[i];\n",
    "          bool larger = tempval < valx;\n",
    "          posx += (larger)?1:0;\n",
    "        }\n",
    "        xoutidx[gid] = gid;\n",
    "      }\n",
    "\n",
    "      if (gid < topky) {\n",
    "        float valy = youtidx[gid];\n",
    "        uint posy = 0;\n",
    "        for (uint i = 0; i < topky; i++) {\n",
    "          float tempval = youtidx[i];\n",
    "          bool larger = tempval < valy;\n",
    "          posy += (larger)?1:0;\n",
    "        }\n",
    "        youtidx[gid] = gid;\n",
    "      }\n",
    "\n",
    "      // only calc matrix multiplications for used grads\n",
    "      ///////////////////////////////////////////////////\n",
    "      if (gid < isize) {\n",
    "        for (uint i=0; i<topkx; i++) {\n",
    "          matData[gid*topkx+i] = 0;\n",
    "          colIdx[gid*topkx+i] = 0;\n",
    "        }\n",
    "        rowNnz[gid] = 0;\n",
    "      }\n",
    "      if (gid < osize) {\n",
    "        for (uint i=0; i<topky; i++) {\n",
    "          matDatat[gid*topky+i] = 0;\n",
    "          colIdxt[gid*topky+i] = 0;\n",
    "        }\n",
    "        rowNnzt[gid] = 0;\n",
    "      }\n",
    "\n",
    "\n",
    "      if (gid < topkx) {\n",
    "        uint idxx = xoutidx[gid];\n",
    "        for (uint j=0; j<topky; j++) {\n",
    "          uint idxy = youtidx[j];\n",
    "          //printf(\"\\\\nIDXX:%i  IDXY:%i\", idxx, idxy);\n",
    "          for (uint k=0; k<msize; k++) {\n",
    "            uint xidx2 = isize*k+idxy;\n",
    "            uint yidx2 = osize*k+idxx;\n",
    "            uint colidx = idxy;\n",
    "            matDatat[idxx*topky+j] += x[xidx2] * y[yidx2];\n",
    "            colIdxt[idxx*topky+j] = idxy;\n",
    "            if (gid == 0)\n",
    "              printf(\"\\\\n ADD VAL:%.2f,%.2f - (%i,%i) - (%i,%i,%i)\", x[xidx2], y[yidx2], idxx, idxy, gid, j, k);\n",
    "          }\n",
    "          rowNnzt[idxx] += 1;\n",
    "        }\n",
    "      }\n",
    "      if (gid < topky) {\n",
    "        uint idxx = youtidx[gid];\n",
    "        for (uint j=0; j<topkx; j++) {\n",
    "          uint idxy = xoutidx[j];\n",
    "          //printf(\"\\\\nIDXX:%i  IDXY:%i\", idxx, idxy);\n",
    "          for (uint k=0; k<msize; k++) {\n",
    "            uint xidx2 = isize*k+idxx;\n",
    "            uint yidx2 = osize*k+idxy;\n",
    "            uint colidx = idxy;\n",
    "            matData[idxx*topkx+j] += x[xidx2] * y[yidx2];\n",
    "            colIdx[idxx*topkx+j] = idxy;\n",
    "            if (gid == 0)\n",
    "              printf(\"\\\\n ADD VAL:%.2f,%.2f - (%i,%i) - (%i,%i,%i)\", x[xidx2], y[yidx2], idxx, idxy, gid, j, k);\n",
    "          }\n",
    "          rowNnz[idxx] += 1;\n",
    "        }\n",
    "      }\n",
    "    }\"\"\").build()"
   ]
  },
  {
   "cell_type": "code",
   "execution_count": 464,
   "id": "a515ce2d",
   "metadata": {},
   "outputs": [],
   "source": [
    "a_buf = cl.Buffer(ctx, mf.READ_WRITE | mf.COPY_HOST_PTR, hostbuf=c.astype(np.float32))\n",
    "b_buf = cl.Buffer(ctx, mf.READ_WRITE | mf.COPY_HOST_PTR, hostbuf=b)\n",
    "x_sum_buf = cl.Buffer(ctx, mf.WRITE_ONLY, a.shape[0]*4)\n",
    "y_sum_buf = cl.Buffer(ctx, mf.WRITE_ONLY, b.shape[1]*4)\n",
    "x_idx_buf = cl.Buffer(ctx, mf.WRITE_ONLY, topkx*4)\n",
    "y_idx_buf = cl.Buffer(ctx, mf.WRITE_ONLY, topky*4)\n",
    "\n",
    "prg = cl.Program(ctx, \"\"\"\n",
    "    // multilplies x TRANSPOSED by y (dense-dense)\n",
    "    __kernel void matmul0(__global  float* x,      // INPUT MATRIX DATA\n",
    "                          __global  float* y,      // INPUT\n",
    "                          __global  float* xsum,    // INPUT\n",
    "                          __global  float* ysum,    // INPUT\n",
    "                          __global  uint*  xoutidx, // OUT\n",
    "                          __global  uint*  youtidx, // OUT\n",
    "                          __global  float* resdata, // OUT\n",
    "                          __global  uint*  rescols, // OUT\n",
    "                          __global  uint*  resnnzs, // OUT\n",
    "                          uint topkx,\n",
    "                          uint topky,\n",
    "                          uint ellw,\n",
    "                          uint msize,\n",
    "                          uint osize\n",
    "                          ) { // LOCAL SHARED BUFFER\n",
    "      uint isize = get_global_size(0);\n",
    "      int gidx = get_global_id(0); // row\n",
    "      \n",
    "      resnnzs[gidx] = 0;\n",
    "      \n",
    "      // get topk\n",
    "      xsum[gidx] = 0;\n",
    "      for (uint i=0; i<msize; i++) {\n",
    "        float val = x[i*isize+gidx];\n",
    "        //if (gid == 0) {\n",
    "        //  printf(\"\\\\nADD VALx: %.2f - %i\", val, i*msize+gid);\n",
    "        //}\n",
    "        xsum[gidx] += val;\n",
    "      }\n",
    "      float valx = xsum[gidx];\n",
    "      uint posx = 0;\n",
    "      for (uint i = 0; i < isize; i++) {\n",
    "        float tempval = fabs(xsum[i]);\n",
    "        bool larger = tempval > fabs(valx);\n",
    "        posx += (larger)?1:0;\n",
    "      }\n",
    "      if (posx < topky) {\n",
    "        youtidx[posx] = gidx;\n",
    "      }\n",
    "      \n",
    "      for (uint k = 0; k < topky; k++) {\n",
    "        uint gidy = youtidx[k];\n",
    "        float ret = 0.0;\n",
    "        uint i;\n",
    "        for (i = 0; i < msize; i++) {\n",
    "          uint xidx = i*isize+gidx;\n",
    "          float xval = x[xidx];\n",
    "          uint yidx = osize*i+gidy;\n",
    "          float yval = y[yidx];\n",
    "          ret += xval*yval;\n",
    "          if (gidx==0 && gidy==0)\n",
    "            printf(\"\\\\nmult: %.2f x %.2f - %.2f  -- %i/%i\", xval, yval, ret, xidx, yidx);\n",
    "        }\n",
    "        //if (gidx==0&&gidy==0)\n",
    "        //  printf(\"\\\\nsum:%.2f\", ret);\n",
    "        \n",
    "        // add for \n",
    "        uint nnz = resnnzs[gidx];\n",
    "        for (i = 0; i < nnz; i++) {\n",
    "          if (rescols[i] >= gidy) {\n",
    "            break;\n",
    "          }\n",
    "          for (uint j = nnz; j >= i; j--) {\n",
    "            //resdata[j+1] = resdata[j];\n",
    "          }\n",
    "        }\n",
    "        resdata[gidx * ellw + i] = ret;\n",
    "        rescols[gidx * ellw + i] = gidy;\n",
    "        resnnzs[gidx] += 1;\n",
    "      }\n",
    "    }\"\"\").build()"
   ]
  },
  {
   "cell_type": "code",
   "execution_count": 504,
   "id": "0e20825a",
   "metadata": {},
   "outputs": [],
   "source": [
    "a_buf = cl.Buffer(ctx, mf.READ_WRITE | mf.COPY_HOST_PTR, hostbuf=c.astype(np.float32))\n",
    "b_buf = cl.Buffer(ctx, mf.READ_WRITE | mf.COPY_HOST_PTR, hostbuf=b)\n",
    "x_sum_buf = cl.Buffer(ctx, mf.WRITE_ONLY, a.shape[0]*4)\n",
    "y_sum_buf = cl.Buffer(ctx, mf.WRITE_ONLY, b.shape[1]*4)\n",
    "x_idx_buf = cl.Buffer(ctx, mf.WRITE_ONLY, topkx*4)\n",
    "y_idx_buf = cl.Buffer(ctx, mf.WRITE_ONLY, topky*4)\n",
    "\n",
    "prg = cl.Program(ctx, \"\"\"\n",
    "    // multilplies x TRANSPOSED by y (dense-dense)\n",
    "    __kernel void gettopk(__global  float* x,      // INPUT MATRIX DATA\n",
    "                          __global  float* y,      // INPUT\n",
    "                          __global  float* xsum,    // INPUT\n",
    "                          __global  float* ysum,    // INPUT\n",
    "                          __global  uint*  xoutidx, // OUT\n",
    "                          __global  uint*  youtidx, // OUT\n",
    "                          uint topkx,\n",
    "                          uint topky,\n",
    "                          uint ellw,\n",
    "                          uint msize,\n",
    "                          uint osize\n",
    "                          ) { // LOCAL SHARED BUFFER\n",
    "      uint isize = get_global_size(0);\n",
    "      int gidx = get_global_id(0); // row\n",
    "      \n",
    "      resnnzs[gidx] = 0;\n",
    "      \n",
    "      // get topk\n",
    "      xsum[gidx] = 0;\n",
    "      for (uint i=0; i<msize; i++) {\n",
    "        float val = x[i*isize+gidx];\n",
    "        //if (gid == 0) {\n",
    "        //  printf(\"\\\\nADD VALx: %.2f - %i\", val, i*msize+gid);\n",
    "        //}\n",
    "        xsum[gidx] += val;\n",
    "      }\n",
    "      float valx = xsum[gidx];\n",
    "      uint posx = 0;\n",
    "      for (uint i = 0; i < isize; i++) {\n",
    "        float tempval = fabs(xsum[i]);\n",
    "        bool larger = tempval > fabs(valx);\n",
    "        posx += (larger)?1:0;\n",
    "      }\n",
    "      if (posx < topky) {\n",
    "        youtidx[posx] = gidx;\n",
    "      }\n",
    "      \n",
    "      \n",
    "    }\"\"\").build()"
   ]
  },
  {
   "cell_type": "code",
   "execution_count": 505,
   "id": "02021be7",
   "metadata": {},
   "outputs": [
    {
     "data": {
      "text/plain": [
       "((8, 16), (16, 5))"
      ]
     },
     "execution_count": 505,
     "metadata": {},
     "output_type": "execute_result"
    }
   ],
   "source": [
    "a.shape, b.shape"
   ]
  },
  {
   "cell_type": "code",
   "execution_count": 506,
   "id": "56fcf93d",
   "metadata": {},
   "outputs": [
    {
     "data": {
      "text/plain": [
       "(5, 8)"
      ]
     },
     "execution_count": 506,
     "metadata": {},
     "output_type": "execute_result"
    }
   ],
   "source": [
    "topkx, topky"
   ]
  },
  {
   "cell_type": "code",
   "execution_count": 507,
   "id": "06da2bb9",
   "metadata": {},
   "outputs": [],
   "source": [
    "rows = a.shape[0]"
   ]
  },
  {
   "cell_type": "code",
   "execution_count": 508,
   "id": "94f57c6f",
   "metadata": {},
   "outputs": [
    {
     "data": {
      "text/plain": [
       "(8, 5)"
      ]
     },
     "execution_count": 508,
     "metadata": {},
     "output_type": "execute_result"
    }
   ],
   "source": [
    "mult = mult.astype(np.float32)\n",
    "mult.shape"
   ]
  },
  {
   "cell_type": "code",
   "execution_count": 509,
   "id": "03b58708",
   "metadata": {},
   "outputs": [
    {
     "name": "stdout",
     "output_type": "stream",
     "text": [
      "\n",
      "mult: 0.00 x 0.49 - 0.00  -- 0/0\n",
      "mult: 0.68 x 0.66 - 0.45  -- 8/5\n",
      "mult: 0.80 x 0.31 - 0.70  -- 16/10\n",
      "mult: 0.00 x 0.00 - 0.70  -- 24/15\n",
      "mult: 0.00 x 0.71 - 0.70  -- 32/20\n",
      "mult: 0.00 x 0.00 - 0.70  -- 40/25\n",
      "mult: 0.00 x 0.46 - 0.70  -- 48/30\n",
      "mult: 0.08 x 0.00 - 0.70  -- 56/35\n",
      "mult: 0.89 x 0.00 - 0.70  -- 64/40\n",
      "mult: 0.00 x 0.00 - 0.70  -- 72/45\n",
      "mult: 0.18 x 0.00 - 0.70  -- 80/50\n",
      "mult: 0.00 x 0.00 - 0.70  -- 88/55\n",
      "mult: 0.46 x 0.00 - 0.70  -- 96/60\n",
      "mult: 0.00 x 0.00 - 0.70  -- 104/65\n",
      "mult: 0.00 x 0.19 - 0.70  -- 112/70\n",
      "mult: 0.00 x 0.73 - 0.70  -- 120/75"
     ]
    },
    {
     "data": {
      "text/plain": [
       "<pyopencl._cl.NannyEvent at 0x7f5a64269310>"
      ]
     },
     "execution_count": 509,
     "metadata": {},
     "output_type": "execute_result"
    }
   ],
   "source": [
    "resdata_buf = cl.Buffer(ctx, mf.READ_WRITE, np.prod([rows,b.shape[1]])*4)\n",
    "rescols_buf = cl.Buffer(ctx, mf.READ_WRITE, np.prod([rows,b.shape[1]])*4)\n",
    "resnnzs_buf = cl.Buffer(ctx, mf.READ_WRITE, np.prod([rows])*4)\n",
    "\n",
    "knl = prg.gettopk  # Use this Kernel object for repeated calls\n",
    "knl(queue, [rows,cols], None, a_buf, b_buf, x_sum_buf, y_sum_buf, x_idx_buf, y_idx_buf, np.uint32(topkx), np.uint32(topky), np.uint32(b.shape[1]), np.uint32(a.shape[1]), np.uint32(b.shape[1]))\n",
    "\n",
    "xidxcols = np.zeros(topkx).astype(np.uint32)\n",
    "yidxcols = np.zeros(topky).astype(np.uint32)\n",
    "resdata  = np.zeros(a.shape[0]*b.shape[1]).astype(np.float32)\n",
    "rescols  = np.zeros(a.shape[0]*b.shape[1]).astype(np.uint32)\n",
    "resnnzs  = np.zeros(a.shape[0]).astype(np.uint32)\n",
    "\n",
    "cl.enqueue_copy(queue, resdata, resdata_buf)\n",
    "cl.enqueue_copy(queue, rescols, rescols_buf)\n",
    "cl.enqueue_copy(queue, resnnzs, resnnzs_buf)\n",
    "cl.enqueue_copy(queue, xidxcols, x_idx_buf)\n",
    "cl.enqueue_copy(queue, yidxcols, y_idx_buf)"
   ]
  },
  {
   "cell_type": "code",
   "execution_count": 510,
   "id": "ae71213e",
   "metadata": {},
   "outputs": [
    {
     "data": {
      "text/plain": [
       "array([6.9963682e-01, 1.6236207e+00, 6.1331564e-01, 2.1218245e-01,\n",
       "       1.2226288e+00, 1.8848312e+00, 1.4160932e+00, 2.9892322e-01,\n",
       "       8.0155689e-01, 0.0000000e+00, 1.6573755e-01, 1.4074200e+00,\n",
       "       0.0000000e+00, 6.4756888e-01, 4.8351842e-01, 1.1302330e+00,\n",
       "       1.1950791e+00, 6.3114762e-01, 1.1668310e-01, 0.0000000e+00,\n",
       "       4.9532753e-01, 8.1877571e-01, 1.8931029e-02, 9.7717863e-01,\n",
       "       1.1707418e-01, 6.0025734e-01, 1.2898692e+00, 0.0000000e+00,\n",
       "       4.6149877e-01, 7.6452947e-01, 1.7482497e-01, 4.7157714e-01,\n",
       "       7.3094618e-01, 8.2383305e-01, 1.3009151e-03, 7.2407621e-01,\n",
       "       9.9110806e-01, 8.3909458e-01, 6.9821823e-01, 7.5884867e-01],\n",
       "      dtype=float32)"
      ]
     },
     "execution_count": 510,
     "metadata": {},
     "output_type": "execute_result"
    }
   ],
   "source": [
    "resdata"
   ]
  },
  {
   "cell_type": "code",
   "execution_count": 511,
   "id": "8dc148f6",
   "metadata": {},
   "outputs": [
    {
     "data": {
      "text/plain": [
       "array([2, 7, 6, 3, 5], dtype=uint32)"
      ]
     },
     "execution_count": 511,
     "metadata": {},
     "output_type": "execute_result"
    }
   ],
   "source": [
    "xidxcols"
   ]
  },
  {
   "cell_type": "code",
   "execution_count": 512,
   "id": "ebd6d5dc",
   "metadata": {},
   "outputs": [
    {
     "data": {
      "text/plain": [
       "array([1, 3, 4, 0, 7, 5, 2, 6], dtype=uint32)"
      ]
     },
     "execution_count": 512,
     "metadata": {},
     "output_type": "execute_result"
    }
   ],
   "source": [
    "yidxcols"
   ]
  },
  {
   "cell_type": "code",
   "execution_count": 513,
   "id": "afb93595",
   "metadata": {},
   "outputs": [
    {
     "data": {
      "text/plain": [
       "array([0, 2, 4, 5, 6, 0, 2, 4, 5, 6, 0, 2, 4, 5, 6, 0, 2, 4, 5, 6, 0, 2,\n",
       "       4, 5, 6, 0, 2, 4, 5, 6, 0, 2, 4, 5, 6, 0, 2, 4, 5, 6], dtype=uint32)"
      ]
     },
     "execution_count": 513,
     "metadata": {},
     "output_type": "execute_result"
    }
   ],
   "source": [
    "rescols"
   ]
  },
  {
   "cell_type": "code",
   "execution_count": 514,
   "id": "c699b47c",
   "metadata": {},
   "outputs": [
    {
     "data": {
      "text/plain": [
       "array([8, 8, 8, 8, 8, 8, 8, 8], dtype=uint32)"
      ]
     },
     "execution_count": 514,
     "metadata": {},
     "output_type": "execute_result"
    }
   ],
   "source": [
    "resnnzs"
   ]
  },
  {
   "cell_type": "code",
   "execution_count": 475,
   "id": "93fef793",
   "metadata": {},
   "outputs": [
    {
     "ename": "IndexError",
     "evalue": "index 5 is out of bounds for axis 1 with size 5",
     "output_type": "error",
     "traceback": [
      "\u001b[0;31m---------------------------------------------------------------------------\u001b[0m",
      "\u001b[0;31mIndexError\u001b[0m                                Traceback (most recent call last)",
      "\u001b[0;32m/tmp/ipykernel_2109/145077033.py\u001b[0m in \u001b[0;36m<module>\u001b[0;34m\u001b[0m\n\u001b[0;32m----> 1\u001b[0;31m \u001b[0mres_np\u001b[0m \u001b[0;34m=\u001b[0m \u001b[0mto_dense\u001b[0m\u001b[0;34m(\u001b[0m\u001b[0mresdata\u001b[0m\u001b[0;34m,\u001b[0m \u001b[0mrescols\u001b[0m\u001b[0;34m,\u001b[0m \u001b[0mresnnzs\u001b[0m\u001b[0;34m,\u001b[0m \u001b[0mb\u001b[0m\u001b[0;34m.\u001b[0m\u001b[0mshape\u001b[0m\u001b[0;34m[\u001b[0m\u001b[0;36m1\u001b[0m\u001b[0;34m]\u001b[0m\u001b[0;34m,\u001b[0m \u001b[0mmult\u001b[0m\u001b[0;34m.\u001b[0m\u001b[0mshape\u001b[0m\u001b[0;34m)\u001b[0m\u001b[0;34m\u001b[0m\u001b[0;34m\u001b[0m\u001b[0m\n\u001b[0m",
      "\u001b[0;32m/tmp/ipykernel_2109/1666242131.py\u001b[0m in \u001b[0;36mto_dense\u001b[0;34m(data, cols, nnzs, ellw, shape)\u001b[0m\n\u001b[1;32m      3\u001b[0m     \u001b[0;32mfor\u001b[0m \u001b[0mrow\u001b[0m \u001b[0;32min\u001b[0m \u001b[0mrange\u001b[0m\u001b[0;34m(\u001b[0m\u001b[0mshape\u001b[0m\u001b[0;34m[\u001b[0m\u001b[0;36m0\u001b[0m\u001b[0;34m]\u001b[0m\u001b[0;34m)\u001b[0m\u001b[0;34m:\u001b[0m\u001b[0;34m\u001b[0m\u001b[0;34m\u001b[0m\u001b[0m\n\u001b[1;32m      4\u001b[0m         \u001b[0;32mfor\u001b[0m \u001b[0micol\u001b[0m \u001b[0;32min\u001b[0m \u001b[0mrange\u001b[0m\u001b[0;34m(\u001b[0m\u001b[0mnnzs\u001b[0m\u001b[0;34m[\u001b[0m\u001b[0mrow\u001b[0m\u001b[0;34m]\u001b[0m\u001b[0;34m)\u001b[0m\u001b[0;34m:\u001b[0m\u001b[0;34m\u001b[0m\u001b[0;34m\u001b[0m\u001b[0m\n\u001b[0;32m----> 5\u001b[0;31m             \u001b[0mout\u001b[0m\u001b[0;34m[\u001b[0m\u001b[0mrow\u001b[0m\u001b[0;34m,\u001b[0m\u001b[0mcols\u001b[0m\u001b[0;34m[\u001b[0m\u001b[0mrow\u001b[0m\u001b[0;34m*\u001b[0m\u001b[0mellw\u001b[0m\u001b[0;34m+\u001b[0m\u001b[0micol\u001b[0m\u001b[0;34m]\u001b[0m\u001b[0;34m]\u001b[0m \u001b[0;34m=\u001b[0m \u001b[0mdata\u001b[0m\u001b[0;34m[\u001b[0m\u001b[0mrow\u001b[0m\u001b[0;34m*\u001b[0m\u001b[0mellw\u001b[0m\u001b[0;34m+\u001b[0m\u001b[0micol\u001b[0m\u001b[0;34m]\u001b[0m\u001b[0;34m\u001b[0m\u001b[0;34m\u001b[0m\u001b[0m\n\u001b[0m\u001b[1;32m      6\u001b[0m     \u001b[0;32mreturn\u001b[0m \u001b[0mout\u001b[0m\u001b[0;34m\u001b[0m\u001b[0;34m\u001b[0m\u001b[0m\n",
      "\u001b[0;31mIndexError\u001b[0m: index 5 is out of bounds for axis 1 with size 5"
     ]
    }
   ],
   "source": [
    "res_np = to_dense(resdata, rescols, resnnzs, b.shape[1], mult.shape)"
   ]
  },
  {
   "cell_type": "code",
   "execution_count": 164,
   "id": "e717307d",
   "metadata": {},
   "outputs": [
    {
     "data": {
      "text/plain": [
       "0.0"
      ]
     },
     "execution_count": 164,
     "metadata": {},
     "output_type": "execute_result"
    }
   ],
   "source": [
    "(res_np-mult).sum()"
   ]
  },
  {
   "cell_type": "code",
   "execution_count": 165,
   "id": "216a1017",
   "metadata": {},
   "outputs": [
    {
     "data": {
      "text/plain": [
       "array([[0.        , 0.68347037, 0.8035886 , 0.        , 0.        ,\n",
       "        0.        , 0.        , 0.08023349, 0.8858316 , 0.        ,\n",
       "        0.17861794, 0.        , 0.46201044, 0.        , 0.        ,\n",
       "        0.        ],\n",
       "       [0.9562663 , 0.5531271 , 0.        , 0.        , 0.5375557 ,\n",
       "        0.        , 0.        , 0.        , 0.        , 0.        ,\n",
       "        0.        , 0.20370705, 0.35530138, 0.        , 0.        ,\n",
       "        0.9186601 ],\n",
       "       [0.        , 0.20103766, 0.        , 0.        , 0.        ,\n",
       "        0.74341315, 0.        , 0.        , 0.        , 0.5787496 ,\n",
       "        0.        , 0.05387774, 0.        , 0.5917517 , 0.17797045,\n",
       "        0.        ],\n",
       "       [0.        , 0.        , 0.        , 0.14296253, 0.9103574 ,\n",
       "        0.03242496, 0.        , 0.71459514, 0.        , 0.        ,\n",
       "        0.        , 0.        , 0.7448136 , 0.        , 0.        ,\n",
       "        0.66635793],\n",
       "       [0.        , 0.        , 0.        , 0.59893256, 0.        ,\n",
       "        0.        , 0.        , 0.9217044 , 0.        , 0.16333483,\n",
       "        0.        , 0.17167741, 0.        , 0.        , 0.7605819 ,\n",
       "        0.48675168],\n",
       "       [0.11415514, 0.82574075, 0.        , 0.        , 0.        ,\n",
       "        0.27978534, 0.        , 0.25018668, 0.        , 0.        ,\n",
       "        0.83127654, 0.09929471, 0.        , 0.        , 0.        ,\n",
       "        0.        ],\n",
       "       [0.28872353, 0.04889954, 0.        , 0.6493426 , 0.        ,\n",
       "        0.33329687, 0.        , 0.        , 0.        , 0.        ,\n",
       "        0.        , 0.        , 0.84441024, 0.01120785, 0.        ,\n",
       "        0.        ],\n",
       "       [0.67626965, 0.        , 0.        , 0.35563806, 0.        ,\n",
       "        0.        , 0.69630474, 0.        , 0.6753613 , 0.        ,\n",
       "        0.        , 0.12287189, 0.        , 0.        , 0.        ,\n",
       "        0.09184685]], dtype=float32)"
      ]
     },
     "execution_count": 165,
     "metadata": {},
     "output_type": "execute_result"
    }
   ],
   "source": [
    "a"
   ]
  },
  {
   "cell_type": "code",
   "execution_count": 166,
   "id": "9ee4c50e",
   "metadata": {},
   "outputs": [
    {
     "data": {
      "text/plain": [
       "array([[0.49395892, 0.        , 0.46451807, 0.        , 0.        ],\n",
       "       [0.65864426, 0.        , 0.9786625 , 0.        , 0.        ],\n",
       "       [0.31044865, 0.        , 0.02502257, 0.        , 0.        ],\n",
       "       [0.        , 0.46765924, 0.        , 0.        , 0.03160795],\n",
       "       [0.71082693, 0.        , 0.58997136, 0.        , 0.        ],\n",
       "       [0.        , 0.        , 0.84622455, 0.5916316 , 0.        ],\n",
       "       [0.46450275, 0.        , 0.        , 0.        , 0.9429863 ],\n",
       "       [0.        , 0.34248227, 0.7672639 , 0.        , 0.        ],\n",
       "       [0.        , 0.        , 0.9855889 , 0.        , 0.2535647 ],\n",
       "       [0.        , 0.7705159 , 0.31522992, 0.        , 0.        ],\n",
       "       [0.        , 0.7167741 , 0.        , 0.8238369 , 0.        ],\n",
       "       [0.        , 0.91970533, 0.        , 0.7873889 , 0.        ],\n",
       "       [0.        , 0.        , 0.        , 0.404568  , 0.841323  ],\n",
       "       [0.        , 0.        , 0.674503  , 0.48820347, 0.        ],\n",
       "       [0.18725161, 0.11607183, 0.        , 0.        , 0.        ],\n",
       "       [0.7250254 , 0.        , 0.12346577, 0.        , 0.        ]],\n",
       "      dtype=float32)"
      ]
     },
     "execution_count": 166,
     "metadata": {},
     "output_type": "execute_result"
    }
   ],
   "source": [
    "b"
   ]
  },
  {
   "cell_type": "code",
   "execution_count": 167,
   "id": "560aa8e5",
   "metadata": {},
   "outputs": [
    {
     "data": {
      "text/plain": [
       "array([[0.6996368 , 0.15550727, 1.6236207 , 0.3340667 , 0.61331564],\n",
       "       [1.8848312 , 0.18735047, 1.4160932 , 0.30414024, 0.29892322],\n",
       "       [0.16573755, 0.51614475, 1.40742   , 0.7711447 , 0.        ],\n",
       "       [1.130233  , 0.31159392, 1.1950791 , 0.32051137, 0.6311476 ],\n",
       "       [0.49532753, 0.9677906 , 0.8187757 , 0.1351769 , 0.01893103],\n",
       "       [0.60025734, 0.7728439 , 1.2898692 , 0.9285497 , 0.        ],\n",
       "       [0.17482497, 0.30367106, 0.47157714, 0.544282  , 0.7309462 ],\n",
       "       [0.7240762 , 0.27932334, 0.99110806, 0.09674796, 0.8390946 ]],\n",
       "      dtype=float32)"
      ]
     },
     "execution_count": 167,
     "metadata": {},
     "output_type": "execute_result"
    }
   ],
   "source": [
    "res_np"
   ]
  },
  {
   "cell_type": "code",
   "execution_count": 168,
   "id": "0d0698a1",
   "metadata": {},
   "outputs": [
    {
     "data": {
      "text/plain": [
       "array([[0.6996368 , 0.15550727, 1.6236207 , 0.3340667 , 0.61331564],\n",
       "       [1.8848312 , 0.18735047, 1.4160932 , 0.30414024, 0.29892322],\n",
       "       [0.16573755, 0.51614475, 1.40742   , 0.7711447 , 0.        ],\n",
       "       [1.130233  , 0.31159392, 1.1950791 , 0.32051137, 0.6311476 ],\n",
       "       [0.49532753, 0.9677906 , 0.8187757 , 0.1351769 , 0.01893103],\n",
       "       [0.60025734, 0.7728439 , 1.2898692 , 0.9285497 , 0.        ],\n",
       "       [0.17482497, 0.30367106, 0.47157714, 0.544282  , 0.7309462 ],\n",
       "       [0.7240762 , 0.27932334, 0.99110806, 0.09674796, 0.8390946 ]],\n",
       "      dtype=float32)"
      ]
     },
     "execution_count": 168,
     "metadata": {},
     "output_type": "execute_result"
    }
   ],
   "source": [
    "a.dot(b)"
   ]
  },
  {
   "cell_type": "code",
   "execution_count": 169,
   "id": "48e040ce",
   "metadata": {},
   "outputs": [
    {
     "data": {
      "text/plain": [
       "array([[ True,  True,  True,  True,  True],\n",
       "       [ True,  True,  True,  True,  True],\n",
       "       [ True,  True,  True,  True,  True],\n",
       "       [ True,  True,  True,  True,  True],\n",
       "       [ True,  True,  True,  True,  True],\n",
       "       [ True,  True,  True,  True,  True],\n",
       "       [ True,  True,  True,  True,  True],\n",
       "       [ True,  True,  True,  True,  True]])"
      ]
     },
     "execution_count": 169,
     "metadata": {},
     "output_type": "execute_result"
    }
   ],
   "source": [
    "res_np==mult"
   ]
  },
  {
   "cell_type": "code",
   "execution_count": 170,
   "id": "d9d600ee",
   "metadata": {},
   "outputs": [
    {
     "data": {
      "text/plain": [
       "(8, 5)"
      ]
     },
     "execution_count": 170,
     "metadata": {},
     "output_type": "execute_result"
    }
   ],
   "source": [
    "res_np.shape"
   ]
  },
  {
   "cell_type": "code",
   "execution_count": 171,
   "id": "d6386542",
   "metadata": {},
   "outputs": [
    {
     "data": {
      "text/plain": [
       "(8, 5)"
      ]
     },
     "execution_count": 171,
     "metadata": {},
     "output_type": "execute_result"
    }
   ],
   "source": [
    "mult.shape"
   ]
  },
  {
   "cell_type": "markdown",
   "id": "b0dacd32",
   "metadata": {},
   "source": [
    "# Matmult Transposed Dense (SPR-T OUT)"
   ]
  },
  {
   "cell_type": "code",
   "execution_count": 172,
   "id": "70ab4a6a",
   "metadata": {},
   "outputs": [],
   "source": [
    "c=np.zeros(a.T.shape)\n",
    "at = a.T\n",
    "for row in range(at.shape[0]):\n",
    "    for col in range(at.shape[1]):\n",
    "        c[row][col] = at[row][col]"
   ]
  },
  {
   "cell_type": "code",
   "execution_count": 173,
   "id": "b741ec9a",
   "metadata": {},
   "outputs": [],
   "source": [
    "a_buf = cl.Buffer(ctx, mf.READ_WRITE | mf.COPY_HOST_PTR, hostbuf=c.astype(np.float32))\n",
    "b_buf = cl.Buffer(ctx, mf.READ_WRITE | mf.COPY_HOST_PTR, hostbuf=b)\n",
    "\n",
    "prg = cl.Program(ctx, \"\"\"\n",
    "    // multilplies x TRANSPOSED by y (dense-dense)\n",
    "    __kernel void matmul0t(__global  float* x,      // INPUT MATRIX DATA\n",
    "                          __global  float* y,      // INPUT\n",
    "                          __global  float* resdata,// OUT\n",
    "                          __global  uint*  rescols,\n",
    "                          __global  uint*  resnnzs,\n",
    "                          uint ellw,\n",
    "                          uint msize,\n",
    "                          uint isize\n",
    "                          ) { // LOCAL SHARED BUFFER\n",
    "      uint osize = get_global_size(0);\n",
    "      int gidy = get_global_id(0); // row\n",
    "      \n",
    "      resnnzs[gidy] = 0;\n",
    "      for (uint gidx = 0; gidx < isize; gidx++) {\n",
    "        float ret = 0.0;\n",
    "        uint i;\n",
    "        for (i = 0; i < msize; i++) {\n",
    "          uint xidx = i*isize+gidx;\n",
    "          float xval = x[xidx];\n",
    "          uint yidx = osize*i+gidy;\n",
    "          float yval = y[yidx];\n",
    "          ret += xval*yval;\n",
    "          if (gidx==0 && gidy==0)\n",
    "            printf(\"\\\\nmult: %.2f x %.2f - %.2f  -- %i/%i\", xval, yval, ret, xidx, yidx);\n",
    "        }\n",
    "        //if (gidx==0&&gidy==0)\n",
    "        //  printf(\"\\\\nsum:%.2f\", ret);\n",
    "        \n",
    "        // add for \n",
    "        uint nnz = resnnzs[gidy];\n",
    "        for (i = 0; i < nnz; i++) {\n",
    "          if (rescols[i] >= gidx) {\n",
    "            break;\n",
    "          }\n",
    "          for (uint j = nnz; j >= i; j--) {\n",
    "            //resdata[j+1] = resdata[j];\n",
    "          }\n",
    "        }\n",
    "        resdata[gidy * ellw + i] = ret;\n",
    "        rescols[gidy * ellw + i] = gidx;\n",
    "        resnnzs[gidy] += 1;\n",
    "      }\n",
    "    }\"\"\").build()"
   ]
  },
  {
   "cell_type": "code",
   "execution_count": 174,
   "id": "7ae7a95a",
   "metadata": {},
   "outputs": [
    {
     "data": {
      "text/plain": [
       "((8, 16), (16, 5))"
      ]
     },
     "execution_count": 174,
     "metadata": {},
     "output_type": "execute_result"
    }
   ],
   "source": [
    "a.shape, b.shape"
   ]
  },
  {
   "cell_type": "code",
   "execution_count": 175,
   "id": "16a9d0ba",
   "metadata": {},
   "outputs": [],
   "source": [
    "rows = a.shape[0]\n",
    "cols = b.shape[1]"
   ]
  },
  {
   "cell_type": "code",
   "execution_count": 176,
   "id": "3f6dbb48",
   "metadata": {},
   "outputs": [
    {
     "data": {
      "text/plain": [
       "(8, 5)"
      ]
     },
     "execution_count": 176,
     "metadata": {},
     "output_type": "execute_result"
    }
   ],
   "source": [
    "mult = mult.astype(np.float32)\n",
    "mult.shape"
   ]
  },
  {
   "cell_type": "code",
   "execution_count": 177,
   "id": "96a639e2",
   "metadata": {},
   "outputs": [
    {
     "name": "stdout",
     "output_type": "stream",
     "text": [
      "\n",
      "mult: 0.00 x 0.49 - 0.00  -- 0/0\n",
      "mult: 0.68 x 0.66 - 0.45  -- 8/5\n",
      "mult: 0.80 x 0.31 - 0.70  -- 16/10\n",
      "mult: 0.00 x 0.00 - 0.70  -- 24/15\n",
      "mult: 0.00 x 0.71 - 0.70  -- 32/20\n",
      "mult: 0.00 x 0.00 - 0.70  -- 40/25\n",
      "mult: 0.00 x 0.46 - 0.70  -- 48/30\n",
      "mult: 0.08 x 0.00 - 0.70  -- 56/35\n",
      "mult: 0.89 x 0.00 - 0.70  -- 64/40\n",
      "mult: 0.00 x 0.00 - 0.70  -- 72/45\n",
      "mult: 0.18 x 0.00 - 0.70  -- 80/50\n",
      "mult: 0.00 x 0.00 - 0.70  -- 88/55\n",
      "mult: 0.46 x 0.00 - 0.70  -- 96/60\n",
      "mult: 0.00 x 0.00 - 0.70  -- 104/65\n",
      "mult: 0.00 x 0.19 - 0.70  -- 112/70\n",
      "mult: 0.00 x 0.73 - 0.70  -- 120/75"
     ]
    },
    {
     "data": {
      "text/plain": [
       "<pyopencl._cl.NannyEvent at 0x7f5a642851d0>"
      ]
     },
     "execution_count": 177,
     "metadata": {},
     "output_type": "execute_result"
    }
   ],
   "source": [
    "resdatat_buf = cl.Buffer(ctx, mf.READ_WRITE, np.prod([cols,rows])*4)\n",
    "rescolst_buf = cl.Buffer(ctx, mf.READ_WRITE, np.prod([cols,rows])*4)\n",
    "resnnzst_buf = cl.Buffer(ctx, mf.READ_WRITE, cols*4)\n",
    "\n",
    "knl = prg.matmul0t  # Use this Kernel object for repeated calls\n",
    "knl(queue, [cols], None, a_buf, b_buf, resdatat_buf, rescolst_buf, resnnzst_buf, np.uint32(rows), np.uint32(a.shape[1]), np.uint32(rows))\n",
    "\n",
    "resdatat = np.zeros(cols*rows).astype(np.float32)\n",
    "rescolst = np.zeros(cols*rows).astype(np.uint32)\n",
    "resnnzst = np.zeros(cols).astype(np.uint32)\n",
    "cl.enqueue_copy(queue, resdatat, resdatat_buf)\n",
    "cl.enqueue_copy(queue, rescolst, rescolst_buf)\n",
    "cl.enqueue_copy(queue, resnnzst, resnnzst_buf)"
   ]
  },
  {
   "cell_type": "code",
   "execution_count": 178,
   "id": "95933a8c",
   "metadata": {},
   "outputs": [
    {
     "data": {
      "text/plain": [
       "array([0.6996368 , 1.8848312 , 0.16573755, 1.130233  , 0.49532753,\n",
       "       0.60025734, 0.17482497, 0.7240762 , 0.15550727, 0.18735047,\n",
       "       0.51614475, 0.31159392, 0.9677906 , 0.7728439 , 0.30367106,\n",
       "       0.27932334, 1.6236207 , 1.4160932 , 1.40742   , 1.1950791 ,\n",
       "       0.8187757 , 1.2898692 , 0.47157714, 0.99110806, 0.3340667 ,\n",
       "       0.30414024, 0.7711447 , 0.32051137, 0.1351769 , 0.9285497 ,\n",
       "       0.544282  , 0.09674796, 0.61331564, 0.29892322, 0.        ,\n",
       "       0.6311476 , 0.01893103, 0.        , 0.7309462 , 0.8390946 ],\n",
       "      dtype=float32)"
      ]
     },
     "execution_count": 178,
     "metadata": {},
     "output_type": "execute_result"
    }
   ],
   "source": [
    "resdatat"
   ]
  },
  {
   "cell_type": "code",
   "execution_count": 179,
   "id": "f7c4e5d2",
   "metadata": {},
   "outputs": [
    {
     "data": {
      "text/plain": [
       "array([0, 1, 2, 3, 4, 5, 6, 7, 0, 1, 2, 3, 4, 5, 6, 7, 0, 1, 2, 3, 4, 5,\n",
       "       6, 7, 0, 1, 2, 3, 4, 5, 6, 7, 0, 1, 2, 3, 4, 5, 6, 7], dtype=uint32)"
      ]
     },
     "execution_count": 179,
     "metadata": {},
     "output_type": "execute_result"
    }
   ],
   "source": [
    "rescolst"
   ]
  },
  {
   "cell_type": "code",
   "execution_count": 180,
   "id": "cbcf2f2e",
   "metadata": {},
   "outputs": [
    {
     "data": {
      "text/plain": [
       "array([8, 8, 8, 8, 8], dtype=uint32)"
      ]
     },
     "execution_count": 180,
     "metadata": {},
     "output_type": "execute_result"
    }
   ],
   "source": [
    "resnnzst"
   ]
  },
  {
   "cell_type": "code",
   "execution_count": 181,
   "id": "77883bad",
   "metadata": {},
   "outputs": [
    {
     "data": {
      "text/plain": [
       "array([[0.69963682, 0.15550727, 1.62362075, 0.33406669, 0.61331564],\n",
       "       [1.88483119, 0.18735047, 1.41609323, 0.30414024, 0.29892322],\n",
       "       [0.16573755, 0.51614475, 1.40742004, 0.77114469, 0.        ],\n",
       "       [1.13023305, 0.31159392, 1.19507909, 0.32051137, 0.63114762],\n",
       "       [0.49532753, 0.9677906 , 0.81877571, 0.1351769 , 0.01893103],\n",
       "       [0.60025734, 0.7728439 , 1.28986919, 0.92854971, 0.        ],\n",
       "       [0.17482497, 0.30367106, 0.47157714, 0.54428202, 0.73094618],\n",
       "       [0.72407621, 0.27932334, 0.99110806, 0.09674796, 0.83909458]])"
      ]
     },
     "execution_count": 181,
     "metadata": {},
     "output_type": "execute_result"
    }
   ],
   "source": [
    "res_np = to_dense(resdatat, rescolst, resnnzst, a.shape[0], mult.T.shape)\n",
    "res_np.T"
   ]
  },
  {
   "cell_type": "code",
   "execution_count": 182,
   "id": "83600d69",
   "metadata": {},
   "outputs": [
    {
     "data": {
      "text/plain": [
       "0.0"
      ]
     },
     "execution_count": 182,
     "metadata": {},
     "output_type": "execute_result"
    }
   ],
   "source": [
    "(res_np.T-mult).sum()"
   ]
  },
  {
   "cell_type": "code",
   "execution_count": 183,
   "id": "fc6e09c2",
   "metadata": {},
   "outputs": [
    {
     "data": {
      "text/plain": [
       "(5, 8)"
      ]
     },
     "execution_count": 183,
     "metadata": {},
     "output_type": "execute_result"
    }
   ],
   "source": [
    "res_np.shape"
   ]
  },
  {
   "cell_type": "code",
   "execution_count": 184,
   "id": "6a54f2be",
   "metadata": {},
   "outputs": [
    {
     "data": {
      "text/plain": [
       "array([[0.6996368 , 0.15550727, 1.6236207 , 0.3340667 , 0.61331564],\n",
       "       [1.8848312 , 0.18735047, 1.4160932 , 0.30414024, 0.29892322],\n",
       "       [0.16573755, 0.51614475, 1.40742   , 0.7711447 , 0.        ],\n",
       "       [1.130233  , 0.31159392, 1.1950791 , 0.32051137, 0.6311476 ],\n",
       "       [0.49532753, 0.9677906 , 0.8187757 , 0.1351769 , 0.01893103],\n",
       "       [0.60025734, 0.7728439 , 1.2898692 , 0.9285497 , 0.        ],\n",
       "       [0.17482497, 0.30367106, 0.47157714, 0.544282  , 0.7309462 ],\n",
       "       [0.7240762 , 0.27932334, 0.99110806, 0.09674796, 0.8390946 ]],\n",
       "      dtype=float32)"
      ]
     },
     "execution_count": 184,
     "metadata": {},
     "output_type": "execute_result"
    }
   ],
   "source": [
    "a.dot(b)"
   ]
  },
  {
   "cell_type": "code",
   "execution_count": 185,
   "id": "5fef6dd0",
   "metadata": {},
   "outputs": [
    {
     "data": {
      "text/plain": [
       "array([[0., 0., 0., 0., 0.],\n",
       "       [0., 0., 0., 0., 0.],\n",
       "       [0., 0., 0., 0., 0.],\n",
       "       [0., 0., 0., 0., 0.],\n",
       "       [0., 0., 0., 0., 0.],\n",
       "       [0., 0., 0., 0., 0.],\n",
       "       [0., 0., 0., 0., 0.],\n",
       "       [0., 0., 0., 0., 0.]])"
      ]
     },
     "execution_count": 185,
     "metadata": {},
     "output_type": "execute_result"
    }
   ],
   "source": [
    "mult - res_np.T"
   ]
  },
  {
   "cell_type": "code",
   "execution_count": 186,
   "id": "2589b093",
   "metadata": {},
   "outputs": [
    {
     "data": {
      "text/plain": [
       "array([[ True,  True,  True,  True,  True],\n",
       "       [ True,  True,  True,  True,  True],\n",
       "       [ True,  True,  True,  True,  True],\n",
       "       [ True,  True,  True,  True,  True],\n",
       "       [ True,  True,  True,  True,  True],\n",
       "       [ True,  True,  True,  True,  True],\n",
       "       [ True,  True,  True,  True,  True],\n",
       "       [ True,  True,  True,  True,  True]])"
      ]
     },
     "execution_count": 186,
     "metadata": {},
     "output_type": "execute_result"
    }
   ],
   "source": [
    "res_np.T==mult"
   ]
  },
  {
   "cell_type": "markdown",
   "id": "1be46888",
   "metadata": {},
   "source": [
    "# Matmult Transposed Dense (SPR)"
   ]
  },
  {
   "cell_type": "code",
   "execution_count": 187,
   "id": "a3b9b0bf",
   "metadata": {},
   "outputs": [],
   "source": [
    "c=np.zeros(a.T.shape)\n",
    "at = a.T\n",
    "for row in range(at.shape[0]):\n",
    "    for col in range(at.shape[1]):\n",
    "        c[row][col] = at[row][col]"
   ]
  },
  {
   "cell_type": "code",
   "execution_count": 188,
   "id": "cae1d3b0",
   "metadata": {},
   "outputs": [],
   "source": [
    "a_buf = cl.Buffer(ctx, mf.READ_WRITE | mf.COPY_HOST_PTR, hostbuf=c.astype(np.float32))\n",
    "b_buf = cl.Buffer(ctx, mf.READ_WRITE | mf.COPY_HOST_PTR, hostbuf=b)\n",
    "\n",
    "prg = cl.Program(ctx, \"\"\"\n",
    "    // multilplies x TRANSPOSED by y (dense-dense)\n",
    "    __kernel void matmul0(__global  float* x,      // INPUT MATRIX DATA\n",
    "                          __global  float* y,      // INPUT\n",
    "                          __global  float* resdata,// OUT\n",
    "                          __global  uint*  rescols,\n",
    "                          __global  uint*  resnnzs,\n",
    "                          uint ellw,\n",
    "                          uint msize,\n",
    "                          uint osize\n",
    "                          ) { // LOCAL SHARED BUFFER\n",
    "      uint isize = get_global_size(0);\n",
    "      int gidx = get_global_id(0); // row\n",
    "      \n",
    "      resnnzs[gidx] = 0;\n",
    "      \n",
    "      for (uint gidy = 0; gidy < osize; gidy++) {\n",
    "        float ret = 0.0;\n",
    "        uint i;\n",
    "        for (i = 0; i < msize; i++) {\n",
    "          uint xidx = i*isize+gidx;\n",
    "          float xval = x[xidx];\n",
    "          uint yidx = osize*i+gidy;\n",
    "          float yval = y[yidx];\n",
    "          ret += xval*yval;\n",
    "          if (gidx==0 && gidy==0)\n",
    "            printf(\"\\\\nmult: %.2f x %.2f - %.2f  -- %i/%i\", xval, yval, ret, xidx, yidx);\n",
    "        }\n",
    "        //if (gidx==0&&gidy==0)\n",
    "        //  printf(\"\\\\nsum:%.2f\", ret);\n",
    "        \n",
    "        // add for \n",
    "        uint nnz = resnnzs[gidx];\n",
    "        for (i = 0; i < nnz; i++) {\n",
    "          if (rescols[i] >= gidy) {\n",
    "            break;\n",
    "          }\n",
    "          for (uint j = nnz; j >= i; j--) {\n",
    "            //resdata[j+1] = resdata[j];\n",
    "          }\n",
    "        }\n",
    "        resdata[gidx * ellw + i] = ret;\n",
    "        rescols[gidx * ellw + i] = gidy;\n",
    "        resnnzs[gidx] += 1;\n",
    "      }\n",
    "    }\"\"\").build()"
   ]
  },
  {
   "cell_type": "code",
   "execution_count": 189,
   "id": "df3e7dc8",
   "metadata": {},
   "outputs": [
    {
     "data": {
      "text/plain": [
       "((8, 16), (16, 5))"
      ]
     },
     "execution_count": 189,
     "metadata": {},
     "output_type": "execute_result"
    }
   ],
   "source": [
    "a.shape, b.shape"
   ]
  },
  {
   "cell_type": "code",
   "execution_count": 190,
   "id": "9b38cc25",
   "metadata": {},
   "outputs": [],
   "source": [
    "rows = a.shape[0]"
   ]
  },
  {
   "cell_type": "code",
   "execution_count": 191,
   "id": "19b91fb8",
   "metadata": {},
   "outputs": [
    {
     "data": {
      "text/plain": [
       "(8, 5)"
      ]
     },
     "execution_count": 191,
     "metadata": {},
     "output_type": "execute_result"
    }
   ],
   "source": [
    "mult = mult.astype(np.float32)\n",
    "mult.shape"
   ]
  },
  {
   "cell_type": "code",
   "execution_count": 192,
   "id": "23275a4d",
   "metadata": {},
   "outputs": [
    {
     "data": {
      "text/plain": [
       "<pyopencl._cl.NannyEvent at 0x7f5a64285040>"
      ]
     },
     "execution_count": 192,
     "metadata": {},
     "output_type": "execute_result"
    },
    {
     "name": "stdout",
     "output_type": "stream",
     "text": [
      "\n",
      "mult: 0.00 x 0.49 - 0.00  -- 0/0\n",
      "mult: 0.68 x 0.66 - 0.45  -- 8/5\n",
      "mult: 0.80 x 0.31 - 0.70  -- 16/10\n",
      "mult: 0.00 x 0.00 - 0.70  -- 24/15\n",
      "mult: 0.00 x 0.71 - 0.70  -- 32/20\n",
      "mult: 0.00 x 0.00 - 0.70  -- 40/25\n",
      "mult: 0.00 x 0.46 - 0.70  -- 48/30\n",
      "mult: 0.08 x 0.00 - 0.70  -- 56/35\n",
      "mult: 0.89 x 0.00 - 0.70  -- 64/40\n",
      "mult: 0.00 x 0.00 - 0.70  -- 72/45\n",
      "mult: 0.18 x 0.00 - 0.70  -- 80/50\n",
      "mult: 0.00 x 0.00 - 0.70  -- 88/55\n",
      "mult: 0.46 x 0.00 - 0.70  -- 96/60\n",
      "mult: 0.00 x 0.00 - 0.70  -- 104/65\n",
      "mult: 0.00 x 0.19 - 0.70  -- 112/70\n",
      "mult: 0.00 x 0.73 - 0.70  -- 120/75"
     ]
    }
   ],
   "source": [
    "resdata_buf = cl.Buffer(ctx, mf.READ_WRITE, np.prod([rows,b.shape[1]])*4)\n",
    "rescols_buf = cl.Buffer(ctx, mf.READ_WRITE, np.prod([rows,b.shape[1]])*4)\n",
    "resnnzs_buf = cl.Buffer(ctx, mf.READ_WRITE, np.prod([rows])*4)\n",
    "\n",
    "knl = prg.matmul0  # Use this Kernel object for repeated calls\n",
    "knl(queue, [rows], None, a_buf, b_buf, resdata_buf, rescols_buf, resnnzs_buf, np.uint32(b.shape[1]), np.uint32(a.shape[1]), np.uint32(b.shape[1]))\n",
    "\n",
    "resdata = np.zeros(a.shape[0]*b.shape[1]).astype(np.float32)\n",
    "rescols = np.zeros(a.shape[0]*b.shape[1]).astype(np.uint32)\n",
    "resnnzs = np.zeros(a.shape[0]).astype(np.uint32)\n",
    "cl.enqueue_copy(queue, resdata, resdata_buf)\n",
    "cl.enqueue_copy(queue, rescols, rescols_buf)\n",
    "cl.enqueue_copy(queue, resnnzs, resnnzs_buf)"
   ]
  },
  {
   "cell_type": "code",
   "execution_count": 193,
   "id": "c778899b",
   "metadata": {},
   "outputs": [
    {
     "data": {
      "text/plain": [
       "array([0.6996368 , 0.15550727, 1.6236207 , 0.3340667 , 0.61331564,\n",
       "       1.8848312 , 0.18735047, 1.4160932 , 0.30414024, 0.29892322,\n",
       "       0.16573755, 0.51614475, 1.40742   , 0.7711447 , 0.        ,\n",
       "       1.130233  , 0.31159392, 1.1950791 , 0.32051137, 0.6311476 ,\n",
       "       0.49532753, 0.9677906 , 0.8187757 , 0.1351769 , 0.01893103,\n",
       "       0.60025734, 0.7728439 , 1.2898692 , 0.9285497 , 0.        ,\n",
       "       0.17482497, 0.30367106, 0.47157714, 0.544282  , 0.7309462 ,\n",
       "       0.7240762 , 0.27932334, 0.99110806, 0.09674796, 0.8390946 ],\n",
       "      dtype=float32)"
      ]
     },
     "execution_count": 193,
     "metadata": {},
     "output_type": "execute_result"
    }
   ],
   "source": [
    "resdata"
   ]
  },
  {
   "cell_type": "code",
   "execution_count": 194,
   "id": "52535a08",
   "metadata": {},
   "outputs": [
    {
     "data": {
      "text/plain": [
       "array([0, 1, 2, 3, 4, 0, 1, 2, 3, 4, 0, 1, 2, 3, 4, 0, 1, 2, 3, 4, 0, 1,\n",
       "       2, 3, 4, 0, 1, 2, 3, 4, 0, 1, 2, 3, 4, 0, 1, 2, 3, 4], dtype=uint32)"
      ]
     },
     "execution_count": 194,
     "metadata": {},
     "output_type": "execute_result"
    }
   ],
   "source": [
    "rescols"
   ]
  },
  {
   "cell_type": "code",
   "execution_count": 195,
   "id": "e96fbf5e",
   "metadata": {},
   "outputs": [
    {
     "data": {
      "text/plain": [
       "array([5, 5, 5, 5, 5, 5, 5, 5], dtype=uint32)"
      ]
     },
     "execution_count": 195,
     "metadata": {},
     "output_type": "execute_result"
    }
   ],
   "source": [
    "resnnzs"
   ]
  },
  {
   "cell_type": "code",
   "execution_count": 196,
   "id": "27eb46f2",
   "metadata": {},
   "outputs": [],
   "source": [
    "res_np = to_dense(resdata, rescols, resnnzs, b.shape[1], mult.shape)"
   ]
  },
  {
   "cell_type": "code",
   "execution_count": 197,
   "id": "deea4025",
   "metadata": {},
   "outputs": [
    {
     "data": {
      "text/plain": [
       "0.0"
      ]
     },
     "execution_count": 197,
     "metadata": {},
     "output_type": "execute_result"
    }
   ],
   "source": [
    "(res_np-mult).sum()"
   ]
  },
  {
   "cell_type": "code",
   "execution_count": 198,
   "id": "47ba4cd0",
   "metadata": {},
   "outputs": [
    {
     "data": {
      "text/plain": [
       "array([[0.        , 0.68347037, 0.8035886 , 0.        , 0.        ,\n",
       "        0.        , 0.        , 0.08023349, 0.8858316 , 0.        ,\n",
       "        0.17861794, 0.        , 0.46201044, 0.        , 0.        ,\n",
       "        0.        ],\n",
       "       [0.9562663 , 0.5531271 , 0.        , 0.        , 0.5375557 ,\n",
       "        0.        , 0.        , 0.        , 0.        , 0.        ,\n",
       "        0.        , 0.20370705, 0.35530138, 0.        , 0.        ,\n",
       "        0.9186601 ],\n",
       "       [0.        , 0.20103766, 0.        , 0.        , 0.        ,\n",
       "        0.74341315, 0.        , 0.        , 0.        , 0.5787496 ,\n",
       "        0.        , 0.05387774, 0.        , 0.5917517 , 0.17797045,\n",
       "        0.        ],\n",
       "       [0.        , 0.        , 0.        , 0.14296253, 0.9103574 ,\n",
       "        0.03242496, 0.        , 0.71459514, 0.        , 0.        ,\n",
       "        0.        , 0.        , 0.7448136 , 0.        , 0.        ,\n",
       "        0.66635793],\n",
       "       [0.        , 0.        , 0.        , 0.59893256, 0.        ,\n",
       "        0.        , 0.        , 0.9217044 , 0.        , 0.16333483,\n",
       "        0.        , 0.17167741, 0.        , 0.        , 0.7605819 ,\n",
       "        0.48675168],\n",
       "       [0.11415514, 0.82574075, 0.        , 0.        , 0.        ,\n",
       "        0.27978534, 0.        , 0.25018668, 0.        , 0.        ,\n",
       "        0.83127654, 0.09929471, 0.        , 0.        , 0.        ,\n",
       "        0.        ],\n",
       "       [0.28872353, 0.04889954, 0.        , 0.6493426 , 0.        ,\n",
       "        0.33329687, 0.        , 0.        , 0.        , 0.        ,\n",
       "        0.        , 0.        , 0.84441024, 0.01120785, 0.        ,\n",
       "        0.        ],\n",
       "       [0.67626965, 0.        , 0.        , 0.35563806, 0.        ,\n",
       "        0.        , 0.69630474, 0.        , 0.6753613 , 0.        ,\n",
       "        0.        , 0.12287189, 0.        , 0.        , 0.        ,\n",
       "        0.09184685]], dtype=float32)"
      ]
     },
     "execution_count": 198,
     "metadata": {},
     "output_type": "execute_result"
    }
   ],
   "source": [
    "a"
   ]
  },
  {
   "cell_type": "code",
   "execution_count": 199,
   "id": "a365d04c",
   "metadata": {},
   "outputs": [
    {
     "data": {
      "text/plain": [
       "array([[0.49395892, 0.        , 0.46451807, 0.        , 0.        ],\n",
       "       [0.65864426, 0.        , 0.9786625 , 0.        , 0.        ],\n",
       "       [0.31044865, 0.        , 0.02502257, 0.        , 0.        ],\n",
       "       [0.        , 0.46765924, 0.        , 0.        , 0.03160795],\n",
       "       [0.71082693, 0.        , 0.58997136, 0.        , 0.        ],\n",
       "       [0.        , 0.        , 0.84622455, 0.5916316 , 0.        ],\n",
       "       [0.46450275, 0.        , 0.        , 0.        , 0.9429863 ],\n",
       "       [0.        , 0.34248227, 0.7672639 , 0.        , 0.        ],\n",
       "       [0.        , 0.        , 0.9855889 , 0.        , 0.2535647 ],\n",
       "       [0.        , 0.7705159 , 0.31522992, 0.        , 0.        ],\n",
       "       [0.        , 0.7167741 , 0.        , 0.8238369 , 0.        ],\n",
       "       [0.        , 0.91970533, 0.        , 0.7873889 , 0.        ],\n",
       "       [0.        , 0.        , 0.        , 0.404568  , 0.841323  ],\n",
       "       [0.        , 0.        , 0.674503  , 0.48820347, 0.        ],\n",
       "       [0.18725161, 0.11607183, 0.        , 0.        , 0.        ],\n",
       "       [0.7250254 , 0.        , 0.12346577, 0.        , 0.        ]],\n",
       "      dtype=float32)"
      ]
     },
     "execution_count": 199,
     "metadata": {},
     "output_type": "execute_result"
    }
   ],
   "source": [
    "b"
   ]
  },
  {
   "cell_type": "code",
   "execution_count": 200,
   "id": "9d0d8946",
   "metadata": {},
   "outputs": [
    {
     "data": {
      "text/plain": [
       "array([[0.69963682, 0.15550727, 1.62362075, 0.33406669, 0.61331564],\n",
       "       [1.88483119, 0.18735047, 1.41609323, 0.30414024, 0.29892322],\n",
       "       [0.16573755, 0.51614475, 1.40742004, 0.77114469, 0.        ],\n",
       "       [1.13023305, 0.31159392, 1.19507909, 0.32051137, 0.63114762],\n",
       "       [0.49532753, 0.9677906 , 0.81877571, 0.1351769 , 0.01893103],\n",
       "       [0.60025734, 0.7728439 , 1.28986919, 0.92854971, 0.        ],\n",
       "       [0.17482497, 0.30367106, 0.47157714, 0.54428202, 0.73094618],\n",
       "       [0.72407621, 0.27932334, 0.99110806, 0.09674796, 0.83909458]])"
      ]
     },
     "execution_count": 200,
     "metadata": {},
     "output_type": "execute_result"
    }
   ],
   "source": [
    "res_np"
   ]
  },
  {
   "cell_type": "code",
   "execution_count": 201,
   "id": "1c66d31d",
   "metadata": {},
   "outputs": [
    {
     "data": {
      "text/plain": [
       "array([[0.6996368 , 0.15550727, 1.6236207 , 0.3340667 , 0.61331564],\n",
       "       [1.8848312 , 0.18735047, 1.4160932 , 0.30414024, 0.29892322],\n",
       "       [0.16573755, 0.51614475, 1.40742   , 0.7711447 , 0.        ],\n",
       "       [1.130233  , 0.31159392, 1.1950791 , 0.32051137, 0.6311476 ],\n",
       "       [0.49532753, 0.9677906 , 0.8187757 , 0.1351769 , 0.01893103],\n",
       "       [0.60025734, 0.7728439 , 1.2898692 , 0.9285497 , 0.        ],\n",
       "       [0.17482497, 0.30367106, 0.47157714, 0.544282  , 0.7309462 ],\n",
       "       [0.7240762 , 0.27932334, 0.99110806, 0.09674796, 0.8390946 ]],\n",
       "      dtype=float32)"
      ]
     },
     "execution_count": 201,
     "metadata": {},
     "output_type": "execute_result"
    }
   ],
   "source": [
    "a.dot(b)"
   ]
  },
  {
   "cell_type": "code",
   "execution_count": 202,
   "id": "c1fbdb2f",
   "metadata": {},
   "outputs": [
    {
     "data": {
      "text/plain": [
       "array([[ True,  True,  True,  True,  True],\n",
       "       [ True,  True,  True,  True,  True],\n",
       "       [ True,  True,  True,  True,  True],\n",
       "       [ True,  True,  True,  True,  True],\n",
       "       [ True,  True,  True,  True,  True],\n",
       "       [ True,  True,  True,  True,  True],\n",
       "       [ True,  True,  True,  True,  True],\n",
       "       [ True,  True,  True,  True,  True]])"
      ]
     },
     "execution_count": 202,
     "metadata": {},
     "output_type": "execute_result"
    }
   ],
   "source": [
    "res_np==mult"
   ]
  },
  {
   "cell_type": "code",
   "execution_count": 203,
   "id": "11a6fde5",
   "metadata": {},
   "outputs": [
    {
     "data": {
      "text/plain": [
       "(8, 5)"
      ]
     },
     "execution_count": 203,
     "metadata": {},
     "output_type": "execute_result"
    }
   ],
   "source": [
    "res_np.shape"
   ]
  },
  {
   "cell_type": "code",
   "execution_count": 204,
   "id": "f3568ca2",
   "metadata": {},
   "outputs": [
    {
     "data": {
      "text/plain": [
       "(8, 5)"
      ]
     },
     "execution_count": 204,
     "metadata": {},
     "output_type": "execute_result"
    }
   ],
   "source": [
    "mult.shape"
   ]
  },
  {
   "cell_type": "markdown",
   "id": "7c373e4c",
   "metadata": {},
   "source": [
    "# Matmult Transposed Dense (SPR-T OUT)"
   ]
  },
  {
   "cell_type": "code",
   "execution_count": 205,
   "id": "727c6a3f",
   "metadata": {},
   "outputs": [],
   "source": [
    "c=np.zeros(a.T.shape)\n",
    "at = a.T\n",
    "for row in range(at.shape[0]):\n",
    "    for col in range(at.shape[1]):\n",
    "        c[row][col] = at[row][col]"
   ]
  },
  {
   "cell_type": "code",
   "execution_count": 206,
   "id": "5de2ef6a",
   "metadata": {},
   "outputs": [],
   "source": [
    "a_buf = cl.Buffer(ctx, mf.READ_WRITE | mf.COPY_HOST_PTR, hostbuf=c.astype(np.float32))\n",
    "b_buf = cl.Buffer(ctx, mf.READ_WRITE | mf.COPY_HOST_PTR, hostbuf=b)\n",
    "\n",
    "prg = cl.Program(ctx, \"\"\"\n",
    "    // multilplies x TRANSPOSED by y (dense-dense)\n",
    "    __kernel void matmul0t(__global  float* x,      // INPUT MATRIX DATA\n",
    "                          __global  float* y,      // INPUT\n",
    "                          __global  float* resdata,// OUT\n",
    "                          __global  uint*  rescols,\n",
    "                          __global  uint*  resnnzs,\n",
    "                          uint ellw,\n",
    "                          uint msize,\n",
    "                          uint isize\n",
    "                          ) { // LOCAL SHARED BUFFER\n",
    "      uint osize = get_global_size(0);\n",
    "      int gidy = get_global_id(0); // row\n",
    "      \n",
    "      resnnzs[gidy] = 0;\n",
    "      for (uint gidx = 0; gidx < isize; gidx++) {\n",
    "        float ret = 0.0;\n",
    "        uint i;\n",
    "        for (i = 0; i < msize; i++) {\n",
    "          uint xidx = i*isize+gidx;\n",
    "          float xval = x[xidx];\n",
    "          uint yidx = osize*i+gidy;\n",
    "          float yval = y[yidx];\n",
    "          ret += xval*yval;\n",
    "          if (gidx==0 && gidy==0)\n",
    "            printf(\"\\\\nmult: %.2f x %.2f - %.2f  -- %i/%i\", xval, yval, ret, xidx, yidx);\n",
    "        }\n",
    "        //if (gidx==0&&gidy==0)\n",
    "        //  printf(\"\\\\nsum:%.2f\", ret);\n",
    "        \n",
    "        // add for \n",
    "        uint nnz = resnnzs[gidy];\n",
    "        for (i = 0; i < nnz; i++) {\n",
    "          if (rescols[i] >= gidx) {\n",
    "            break;\n",
    "          }\n",
    "          for (uint j = nnz; j >= i; j--) {\n",
    "            //resdata[j+1] = resdata[j];\n",
    "          }\n",
    "        }\n",
    "        resdata[gidy * ellw + i] = ret;\n",
    "        rescols[gidy * ellw + i] = gidx;\n",
    "        resnnzs[gidy] += 1;\n",
    "      }\n",
    "    }\"\"\").build()"
   ]
  },
  {
   "cell_type": "code",
   "execution_count": 207,
   "id": "d97e89ec",
   "metadata": {},
   "outputs": [
    {
     "data": {
      "text/plain": [
       "((8, 16), (16, 5))"
      ]
     },
     "execution_count": 207,
     "metadata": {},
     "output_type": "execute_result"
    }
   ],
   "source": [
    "a.shape, b.shape"
   ]
  },
  {
   "cell_type": "code",
   "execution_count": 208,
   "id": "58c69fbf",
   "metadata": {},
   "outputs": [],
   "source": [
    "rows = a.shape[0]\n",
    "cols = b.shape[1]"
   ]
  },
  {
   "cell_type": "code",
   "execution_count": 209,
   "id": "c0f9a013",
   "metadata": {},
   "outputs": [
    {
     "data": {
      "text/plain": [
       "(8, 5)"
      ]
     },
     "execution_count": 209,
     "metadata": {},
     "output_type": "execute_result"
    }
   ],
   "source": [
    "mult = mult.astype(np.float32)\n",
    "mult.shape"
   ]
  },
  {
   "cell_type": "code",
   "execution_count": 210,
   "id": "568c7383",
   "metadata": {},
   "outputs": [
    {
     "data": {
      "text/plain": [
       "<pyopencl._cl.NannyEvent at 0x7f5a642f5a90>"
      ]
     },
     "execution_count": 210,
     "metadata": {},
     "output_type": "execute_result"
    },
    {
     "name": "stdout",
     "output_type": "stream",
     "text": [
      "\n",
      "mult: 0.00 x 0.49 - 0.00  -- 0/0\n",
      "mult: 0.68 x 0.66 - 0.45  -- 8/5\n",
      "mult: 0.80 x 0.31 - 0.70  -- 16/10\n",
      "mult: 0.00 x 0.00 - 0.70  -- 24/15\n",
      "mult: 0.00 x 0.71 - 0.70  -- 32/20\n",
      "mult: 0.00 x 0.00 - 0.70  -- 40/25\n",
      "mult: 0.00 x 0.46 - 0.70  -- 48/30\n",
      "mult: 0.08 x 0.00 - 0.70  -- 56/35\n",
      "mult: 0.89 x 0.00 - 0.70  -- 64/40\n",
      "mult: 0.00 x 0.00 - 0.70  -- 72/45\n",
      "mult: 0.18 x 0.00 - 0.70  -- 80/50\n",
      "mult: 0.00 x 0.00 - 0.70  -- 88/55\n",
      "mult: 0.46 x 0.00 - 0.70  -- 96/60\n",
      "mult: 0.00 x 0.00 - 0.70  -- 104/65\n",
      "mult: 0.00 x 0.19 - 0.70  -- 112/70\n",
      "mult: 0.00 x 0.73 - 0.70  -- 120/75"
     ]
    }
   ],
   "source": [
    "resdatat_buf = cl.Buffer(ctx, mf.READ_WRITE, np.prod([cols,rows])*4)\n",
    "rescolst_buf = cl.Buffer(ctx, mf.READ_WRITE, np.prod([cols,rows])*4)\n",
    "resnnzst_buf = cl.Buffer(ctx, mf.READ_WRITE, cols*4)\n",
    "\n",
    "knl = prg.matmul0t  # Use this Kernel object for repeated calls\n",
    "knl(queue, [cols], None, a_buf, b_buf, resdatat_buf, rescolst_buf, resnnzst_buf, np.uint32(rows), np.uint32(a.shape[1]), np.uint32(rows))\n",
    "\n",
    "resdatat = np.zeros(cols*rows).astype(np.float32)\n",
    "rescolst = np.zeros(cols*rows).astype(np.uint32)\n",
    "resnnzst = np.zeros(cols).astype(np.uint32)\n",
    "cl.enqueue_copy(queue, resdatat, resdatat_buf)\n",
    "cl.enqueue_copy(queue, rescolst, rescolst_buf)\n",
    "cl.enqueue_copy(queue, resnnzst, resnnzst_buf)"
   ]
  },
  {
   "cell_type": "code",
   "execution_count": 211,
   "id": "256c3472",
   "metadata": {},
   "outputs": [
    {
     "data": {
      "text/plain": [
       "array([0.6996368 , 1.8848312 , 0.16573755, 1.130233  , 0.49532753,\n",
       "       0.60025734, 0.17482497, 0.7240762 , 0.15550727, 0.18735047,\n",
       "       0.51614475, 0.31159392, 0.9677906 , 0.7728439 , 0.30367106,\n",
       "       0.27932334, 1.6236207 , 1.4160932 , 1.40742   , 1.1950791 ,\n",
       "       0.8187757 , 1.2898692 , 0.47157714, 0.99110806, 0.3340667 ,\n",
       "       0.30414024, 0.7711447 , 0.32051137, 0.1351769 , 0.9285497 ,\n",
       "       0.544282  , 0.09674796, 0.61331564, 0.29892322, 0.        ,\n",
       "       0.6311476 , 0.01893103, 0.        , 0.7309462 , 0.8390946 ],\n",
       "      dtype=float32)"
      ]
     },
     "execution_count": 211,
     "metadata": {},
     "output_type": "execute_result"
    }
   ],
   "source": [
    "resdatat"
   ]
  },
  {
   "cell_type": "code",
   "execution_count": 212,
   "id": "45f8bb53",
   "metadata": {},
   "outputs": [
    {
     "data": {
      "text/plain": [
       "array([0, 1, 2, 3, 4, 5, 6, 7, 0, 1, 2, 3, 4, 5, 6, 7, 0, 1, 2, 3, 4, 5,\n",
       "       6, 7, 0, 1, 2, 3, 4, 5, 6, 7, 0, 1, 2, 3, 4, 5, 6, 7], dtype=uint32)"
      ]
     },
     "execution_count": 212,
     "metadata": {},
     "output_type": "execute_result"
    }
   ],
   "source": [
    "rescolst"
   ]
  },
  {
   "cell_type": "code",
   "execution_count": 213,
   "id": "8c0ccbf4",
   "metadata": {},
   "outputs": [
    {
     "data": {
      "text/plain": [
       "array([8, 8, 8, 8, 8], dtype=uint32)"
      ]
     },
     "execution_count": 213,
     "metadata": {},
     "output_type": "execute_result"
    }
   ],
   "source": [
    "resnnzst"
   ]
  },
  {
   "cell_type": "code",
   "execution_count": 214,
   "id": "1178f15e",
   "metadata": {},
   "outputs": [
    {
     "data": {
      "text/plain": [
       "array([[0.69963682, 0.15550727, 1.62362075, 0.33406669, 0.61331564],\n",
       "       [1.88483119, 0.18735047, 1.41609323, 0.30414024, 0.29892322],\n",
       "       [0.16573755, 0.51614475, 1.40742004, 0.77114469, 0.        ],\n",
       "       [1.13023305, 0.31159392, 1.19507909, 0.32051137, 0.63114762],\n",
       "       [0.49532753, 0.9677906 , 0.81877571, 0.1351769 , 0.01893103],\n",
       "       [0.60025734, 0.7728439 , 1.28986919, 0.92854971, 0.        ],\n",
       "       [0.17482497, 0.30367106, 0.47157714, 0.54428202, 0.73094618],\n",
       "       [0.72407621, 0.27932334, 0.99110806, 0.09674796, 0.83909458]])"
      ]
     },
     "execution_count": 214,
     "metadata": {},
     "output_type": "execute_result"
    }
   ],
   "source": [
    "res_np = to_dense(resdatat, rescolst, resnnzst, a.shape[0], mult.T.shape)\n",
    "res_np.T"
   ]
  },
  {
   "cell_type": "code",
   "execution_count": 215,
   "id": "1e389948",
   "metadata": {},
   "outputs": [
    {
     "data": {
      "text/plain": [
       "0.0"
      ]
     },
     "execution_count": 215,
     "metadata": {},
     "output_type": "execute_result"
    }
   ],
   "source": [
    "(res_np.T-mult).sum()"
   ]
  },
  {
   "cell_type": "code",
   "execution_count": 216,
   "id": "cfb65e12",
   "metadata": {},
   "outputs": [
    {
     "data": {
      "text/plain": [
       "(5, 8)"
      ]
     },
     "execution_count": 216,
     "metadata": {},
     "output_type": "execute_result"
    }
   ],
   "source": [
    "res_np.shape"
   ]
  },
  {
   "cell_type": "code",
   "execution_count": 217,
   "id": "ee99466c",
   "metadata": {},
   "outputs": [
    {
     "data": {
      "text/plain": [
       "array([[0.6996368 , 0.15550727, 1.6236207 , 0.3340667 , 0.61331564],\n",
       "       [1.8848312 , 0.18735047, 1.4160932 , 0.30414024, 0.29892322],\n",
       "       [0.16573755, 0.51614475, 1.40742   , 0.7711447 , 0.        ],\n",
       "       [1.130233  , 0.31159392, 1.1950791 , 0.32051137, 0.6311476 ],\n",
       "       [0.49532753, 0.9677906 , 0.8187757 , 0.1351769 , 0.01893103],\n",
       "       [0.60025734, 0.7728439 , 1.2898692 , 0.9285497 , 0.        ],\n",
       "       [0.17482497, 0.30367106, 0.47157714, 0.544282  , 0.7309462 ],\n",
       "       [0.7240762 , 0.27932334, 0.99110806, 0.09674796, 0.8390946 ]],\n",
       "      dtype=float32)"
      ]
     },
     "execution_count": 217,
     "metadata": {},
     "output_type": "execute_result"
    }
   ],
   "source": [
    "a.dot(b)"
   ]
  },
  {
   "cell_type": "code",
   "execution_count": 218,
   "id": "148a61e7",
   "metadata": {},
   "outputs": [
    {
     "data": {
      "text/plain": [
       "array([[0., 0., 0., 0., 0.],\n",
       "       [0., 0., 0., 0., 0.],\n",
       "       [0., 0., 0., 0., 0.],\n",
       "       [0., 0., 0., 0., 0.],\n",
       "       [0., 0., 0., 0., 0.],\n",
       "       [0., 0., 0., 0., 0.],\n",
       "       [0., 0., 0., 0., 0.],\n",
       "       [0., 0., 0., 0., 0.]])"
      ]
     },
     "execution_count": 218,
     "metadata": {},
     "output_type": "execute_result"
    }
   ],
   "source": [
    "mult - res_np.T"
   ]
  },
  {
   "cell_type": "code",
   "execution_count": 219,
   "id": "db020486",
   "metadata": {},
   "outputs": [
    {
     "data": {
      "text/plain": [
       "array([[ True,  True,  True,  True,  True],\n",
       "       [ True,  True,  True,  True,  True],\n",
       "       [ True,  True,  True,  True,  True],\n",
       "       [ True,  True,  True,  True,  True],\n",
       "       [ True,  True,  True,  True,  True],\n",
       "       [ True,  True,  True,  True,  True],\n",
       "       [ True,  True,  True,  True,  True],\n",
       "       [ True,  True,  True,  True,  True]])"
      ]
     },
     "execution_count": 219,
     "metadata": {},
     "output_type": "execute_result"
    }
   ],
   "source": [
    "res_np.T==mult"
   ]
  },
  {
   "cell_type": "markdown",
   "id": "59835b7e",
   "metadata": {},
   "source": [
    "# Matmult Dense Transposed2"
   ]
  },
  {
   "cell_type": "code",
   "execution_count": 220,
   "id": "4a6954ad",
   "metadata": {},
   "outputs": [],
   "source": [
    "b_buf2 = cl.Buffer(ctx, mf.READ_WRITE | mf.COPY_HOST_PTR, hostbuf=b)\n",
    "a_buf = cl.Buffer(ctx, mf.READ_WRITE | mf.COPY_HOST_PTR, hostbuf=a)\n",
    "\n",
    "prg = cl.Program(ctx, \"\"\"\n",
    "    // multilplies x by y WITH Y TRANSPOSED INDEXING\n",
    "    __kernel void matmul0(__global  float* x,     // INPUT MATRIX DATA\n",
    "                          __global  float* y,    // INPUT\n",
    "                          __global  float* res,    // INPUT\n",
    "                          uint msize,\n",
    "                          uint osize\n",
    "                          ) { // LOCAL SHARED BUFFER\n",
    "      uint isize = get_global_size(0);\n",
    "      // osize = get_global_size(1);\n",
    "      int gidx = get_global_id(0); // col\n",
    "      // int gidy = get_global_id(1); // row\n",
    "\n",
    "      for (uint gidy = 0; gidy < osize; gidy++) {\n",
    "        float ret = 0.0;\n",
    "        for (uint i = 0; i < msize; i++) {\n",
    "          ret += x[gidx*msize+i]*y[i*osize+gidy];\n",
    "          if (gidx==0 && gidy==0)\n",
    "            printf(\"\\\\nmult: %.2f x %.2f - %.2f\", x[gidx*msize+i],y[i*msize+gidy], ret);\n",
    "        }\n",
    "\n",
    "        //if (gidx==0&&gidy==0)\n",
    "        //  printf(\"\\\\nsum:%.2f\", ret);\n",
    "        res[gidx * osize + gidy] = ret;\n",
    "      }\n",
    "    }\"\"\").build()"
   ]
  },
  {
   "cell_type": "code",
   "execution_count": 221,
   "id": "c8a9728b",
   "metadata": {},
   "outputs": [
    {
     "data": {
      "text/plain": [
       "((8, 16), (16, 5))"
      ]
     },
     "execution_count": 221,
     "metadata": {},
     "output_type": "execute_result"
    }
   ],
   "source": [
    "a.shape, b.shape"
   ]
  },
  {
   "cell_type": "code",
   "execution_count": 222,
   "id": "af31f5a8",
   "metadata": {},
   "outputs": [],
   "source": [
    "res = np.zeros(a.shape[0]).astype(np.float32)\n",
    "#res"
   ]
  },
  {
   "cell_type": "code",
   "execution_count": 223,
   "id": "bfe05099",
   "metadata": {},
   "outputs": [],
   "source": [
    "rows = a.shape[0]"
   ]
  },
  {
   "cell_type": "code",
   "execution_count": 224,
   "id": "f468303a",
   "metadata": {},
   "outputs": [],
   "source": [
    "mult = mult.astype(np.float32)"
   ]
  },
  {
   "cell_type": "code",
   "execution_count": 225,
   "id": "3be17413",
   "metadata": {},
   "outputs": [
    {
     "data": {
      "text/plain": [
       "<pyopencl._cl.NannyEvent at 0x7f5a642f5ef0>"
      ]
     },
     "execution_count": 225,
     "metadata": {},
     "output_type": "execute_result"
    },
    {
     "name": "stdout",
     "output_type": "stream",
     "text": [
      "\n",
      "mult: 0.00 x 0.49 - 0.00\n",
      "mult: 0.68 x 0.47 - 0.45\n",
      "mult: 0.80 x 0.00 - 0.70\n",
      "mult: 0.00 x 0.00 - 0.70\n",
      "mult: 0.00 x 0.84 - 0.70\n",
      "mult: 0.00 x 0.63 - 0.70\n",
      "mult: 0.00 x 0.94 - 0.70\n",
      "mult: 0.08 x -0.71 - 0.70\n",
      "mult: 0.89 x 0.70 - 0.70\n",
      "mult: 0.00 x 0.31 - 0.70\n",
      "mult: 0.18 x 0.47 - 0.70\n",
      "mult: 0.00 x 0.00 - 0.70\n",
      "mult: 0.46 x 0.00 - 0.70\n",
      "mult: 0.00 x 0.00 - 0.70\n",
      "mult: 0.00 x 0.00 - 0.70\n",
      "mult: 0.00 x 0.00 - 0.70"
     ]
    }
   ],
   "source": [
    "res_buf = cl.Buffer(ctx, mf.READ_WRITE, np.prod([rows,b.shape[1]])*4)\n",
    "knl = prg.matmul0  # Use this Kernel object for repeated calls\n",
    "knl(queue, [rows], None, a_buf, b_buf2, res_buf, np.uint32(a.shape[1]), np.uint32(b.shape[1]))\n",
    "\n",
    "res_np = np.zeros([rows,b.shape[1]]).astype(np.float32)\n",
    "cl.enqueue_copy(queue, res_np, res_buf)"
   ]
  },
  {
   "cell_type": "code",
   "execution_count": 226,
   "id": "49f1bc06",
   "metadata": {},
   "outputs": [
    {
     "data": {
      "text/plain": [
       "0.0"
      ]
     },
     "execution_count": 226,
     "metadata": {},
     "output_type": "execute_result"
    }
   ],
   "source": [
    "(res_np-mult).sum()"
   ]
  },
  {
   "cell_type": "code",
   "execution_count": 227,
   "id": "b721089a",
   "metadata": {},
   "outputs": [
    {
     "data": {
      "text/plain": [
       "array([[0.        , 0.68347037, 0.8035886 , 0.        , 0.        ,\n",
       "        0.        , 0.        , 0.08023349, 0.8858316 , 0.        ,\n",
       "        0.17861794, 0.        , 0.46201044, 0.        , 0.        ,\n",
       "        0.        ],\n",
       "       [0.9562663 , 0.5531271 , 0.        , 0.        , 0.5375557 ,\n",
       "        0.        , 0.        , 0.        , 0.        , 0.        ,\n",
       "        0.        , 0.20370705, 0.35530138, 0.        , 0.        ,\n",
       "        0.9186601 ],\n",
       "       [0.        , 0.20103766, 0.        , 0.        , 0.        ,\n",
       "        0.74341315, 0.        , 0.        , 0.        , 0.5787496 ,\n",
       "        0.        , 0.05387774, 0.        , 0.5917517 , 0.17797045,\n",
       "        0.        ],\n",
       "       [0.        , 0.        , 0.        , 0.14296253, 0.9103574 ,\n",
       "        0.03242496, 0.        , 0.71459514, 0.        , 0.        ,\n",
       "        0.        , 0.        , 0.7448136 , 0.        , 0.        ,\n",
       "        0.66635793],\n",
       "       [0.        , 0.        , 0.        , 0.59893256, 0.        ,\n",
       "        0.        , 0.        , 0.9217044 , 0.        , 0.16333483,\n",
       "        0.        , 0.17167741, 0.        , 0.        , 0.7605819 ,\n",
       "        0.48675168],\n",
       "       [0.11415514, 0.82574075, 0.        , 0.        , 0.        ,\n",
       "        0.27978534, 0.        , 0.25018668, 0.        , 0.        ,\n",
       "        0.83127654, 0.09929471, 0.        , 0.        , 0.        ,\n",
       "        0.        ],\n",
       "       [0.28872353, 0.04889954, 0.        , 0.6493426 , 0.        ,\n",
       "        0.33329687, 0.        , 0.        , 0.        , 0.        ,\n",
       "        0.        , 0.        , 0.84441024, 0.01120785, 0.        ,\n",
       "        0.        ],\n",
       "       [0.67626965, 0.        , 0.        , 0.35563806, 0.        ,\n",
       "        0.        , 0.69630474, 0.        , 0.6753613 , 0.        ,\n",
       "        0.        , 0.12287189, 0.        , 0.        , 0.        ,\n",
       "        0.09184685]], dtype=float32)"
      ]
     },
     "execution_count": 227,
     "metadata": {},
     "output_type": "execute_result"
    }
   ],
   "source": [
    "a"
   ]
  },
  {
   "cell_type": "code",
   "execution_count": 228,
   "id": "a03001f2",
   "metadata": {},
   "outputs": [
    {
     "data": {
      "text/plain": [
       "array([[0.49395892, 0.65864426, 0.31044865, 0.        , 0.71082693,\n",
       "        0.        , 0.46450275, 0.        , 0.        , 0.        ,\n",
       "        0.        , 0.        , 0.        , 0.        , 0.18725161,\n",
       "        0.7250254 ],\n",
       "       [0.        , 0.        , 0.        , 0.46765924, 0.        ,\n",
       "        0.        , 0.        , 0.34248227, 0.        , 0.7705159 ,\n",
       "        0.7167741 , 0.91970533, 0.        , 0.        , 0.11607183,\n",
       "        0.        ],\n",
       "       [0.46451807, 0.9786625 , 0.02502257, 0.        , 0.58997136,\n",
       "        0.84622455, 0.        , 0.7672639 , 0.9855889 , 0.31522992,\n",
       "        0.        , 0.        , 0.        , 0.674503  , 0.        ,\n",
       "        0.12346577],\n",
       "       [0.        , 0.        , 0.        , 0.        , 0.        ,\n",
       "        0.5916316 , 0.        , 0.        , 0.        , 0.        ,\n",
       "        0.8238369 , 0.7873889 , 0.404568  , 0.48820347, 0.        ,\n",
       "        0.        ],\n",
       "       [0.        , 0.        , 0.        , 0.03160795, 0.        ,\n",
       "        0.        , 0.9429863 , 0.        , 0.2535647 , 0.        ,\n",
       "        0.        , 0.        , 0.841323  , 0.        , 0.        ,\n",
       "        0.        ]], dtype=float32)"
      ]
     },
     "execution_count": 228,
     "metadata": {},
     "output_type": "execute_result"
    }
   ],
   "source": [
    "b.T"
   ]
  },
  {
   "cell_type": "code",
   "execution_count": 229,
   "id": "7b5dd59e",
   "metadata": {},
   "outputs": [
    {
     "data": {
      "text/plain": [
       "array([0.        , 0.68347037, 0.8035886 , 0.        , 0.        ,\n",
       "       0.        , 0.        , 0.08023349, 0.8858316 , 0.        ,\n",
       "       0.17861794, 0.        , 0.46201044, 0.        , 0.        ,\n",
       "       0.        ], dtype=float32)"
      ]
     },
     "execution_count": 229,
     "metadata": {},
     "output_type": "execute_result"
    }
   ],
   "source": [
    "a[0]"
   ]
  },
  {
   "cell_type": "code",
   "execution_count": 230,
   "id": "d8c0f986",
   "metadata": {},
   "outputs": [
    {
     "data": {
      "text/plain": [
       "array([0.49395892, 0.65864426, 0.31044865, 0.        , 0.71082693,\n",
       "       0.        , 0.46450275, 0.        , 0.        , 0.        ,\n",
       "       0.        , 0.        , 0.        , 0.        , 0.18725161,\n",
       "       0.7250254 ], dtype=float32)"
      ]
     },
     "execution_count": 230,
     "metadata": {},
     "output_type": "execute_result"
    }
   ],
   "source": [
    "b.T[0]"
   ]
  },
  {
   "cell_type": "code",
   "execution_count": 231,
   "id": "94c47d91",
   "metadata": {},
   "outputs": [
    {
     "data": {
      "text/plain": [
       "<pyopencl._cl.Buffer at 0x7f5a642edef0>"
      ]
     },
     "execution_count": 231,
     "metadata": {},
     "output_type": "execute_result"
    }
   ],
   "source": [
    "res_buf"
   ]
  },
  {
   "cell_type": "code",
   "execution_count": 232,
   "id": "8776a0a7",
   "metadata": {},
   "outputs": [
    {
     "data": {
      "text/plain": [
       "array([[0.6996368 , 0.15550727, 1.6236207 , 0.3340667 , 0.61331564],\n",
       "       [1.8848312 , 0.18735047, 1.4160932 , 0.30414024, 0.29892322],\n",
       "       [0.16573755, 0.51614475, 1.40742   , 0.7711447 , 0.        ],\n",
       "       [1.130233  , 0.31159392, 1.1950791 , 0.32051137, 0.6311476 ],\n",
       "       [0.49532753, 0.9677906 , 0.8187757 , 0.1351769 , 0.01893103],\n",
       "       [0.60025734, 0.7728439 , 1.2898692 , 0.9285497 , 0.        ],\n",
       "       [0.17482497, 0.30367106, 0.47157714, 0.544282  , 0.7309462 ],\n",
       "       [0.7240762 , 0.27932334, 0.99110806, 0.09674796, 0.8390946 ]],\n",
       "      dtype=float32)"
      ]
     },
     "execution_count": 232,
     "metadata": {},
     "output_type": "execute_result"
    }
   ],
   "source": [
    "res_np"
   ]
  },
  {
   "cell_type": "code",
   "execution_count": 233,
   "id": "46dca274",
   "metadata": {},
   "outputs": [
    {
     "data": {
      "text/plain": [
       "array([[0.6996368 , 0.15550727, 1.6236207 , 0.3340667 , 0.61331564],\n",
       "       [1.8848312 , 0.18735047, 1.4160932 , 0.30414024, 0.29892322],\n",
       "       [0.16573755, 0.51614475, 1.40742   , 0.7711447 , 0.        ],\n",
       "       [1.130233  , 0.31159392, 1.1950791 , 0.32051137, 0.6311476 ],\n",
       "       [0.49532753, 0.9677906 , 0.8187757 , 0.1351769 , 0.01893103],\n",
       "       [0.60025734, 0.7728439 , 1.2898692 , 0.9285497 , 0.        ],\n",
       "       [0.17482497, 0.30367106, 0.47157714, 0.544282  , 0.7309462 ],\n",
       "       [0.7240762 , 0.27932334, 0.99110806, 0.09674796, 0.8390946 ]],\n",
       "      dtype=float32)"
      ]
     },
     "execution_count": 233,
     "metadata": {},
     "output_type": "execute_result"
    }
   ],
   "source": [
    "a.dot(b)"
   ]
  },
  {
   "cell_type": "code",
   "execution_count": 234,
   "id": "4641cdcc",
   "metadata": {},
   "outputs": [
    {
     "data": {
      "text/plain": [
       "array([[ True,  True,  True,  True,  True],\n",
       "       [ True,  True,  True,  True,  True],\n",
       "       [ True,  True,  True,  True,  True],\n",
       "       [ True,  True,  True,  True,  True],\n",
       "       [ True,  True,  True,  True,  True],\n",
       "       [ True,  True,  True,  True,  True],\n",
       "       [ True,  True,  True,  True,  True],\n",
       "       [ True,  True,  True,  True,  True]])"
      ]
     },
     "execution_count": 234,
     "metadata": {},
     "output_type": "execute_result"
    }
   ],
   "source": [
    "res_np==mult"
   ]
  },
  {
   "cell_type": "code",
   "execution_count": 235,
   "id": "5b55f104",
   "metadata": {},
   "outputs": [
    {
     "data": {
      "text/plain": [
       "(8, 5)"
      ]
     },
     "execution_count": 235,
     "metadata": {},
     "output_type": "execute_result"
    }
   ],
   "source": [
    "res_np.shape"
   ]
  },
  {
   "cell_type": "code",
   "execution_count": 236,
   "id": "84122d03",
   "metadata": {},
   "outputs": [
    {
     "data": {
      "text/plain": [
       "(8, 5)"
      ]
     },
     "execution_count": 236,
     "metadata": {},
     "output_type": "execute_result"
    }
   ],
   "source": [
    "mult.shape"
   ]
  },
  {
   "cell_type": "markdown",
   "id": "b3ad7225",
   "metadata": {},
   "source": [
    "## Weight update kernel"
   ]
  },
  {
   "cell_type": "code",
   "execution_count": 237,
   "id": "a5138cee",
   "metadata": {},
   "outputs": [],
   "source": [
    "bs = 4"
   ]
  },
  {
   "cell_type": "code",
   "execution_count": 238,
   "id": "ae5eb8aa",
   "metadata": {},
   "outputs": [
    {
     "data": {
      "text/plain": [
       "array([[0.        , 0.68347037, 0.8035886 , 0.        , 0.        ,\n",
       "        0.        , 0.        , 0.08023349, 0.8858316 , 0.        ,\n",
       "        0.17861794, 0.        , 0.46201044, 0.        , 0.        ,\n",
       "        0.        ],\n",
       "       [0.9562663 , 0.5531271 , 0.        , 0.        , 0.5375557 ,\n",
       "        0.        , 0.        , 0.        , 0.        , 0.        ,\n",
       "        0.        , 0.20370705, 0.35530138, 0.        , 0.        ,\n",
       "        0.9186601 ],\n",
       "       [0.        , 0.20103766, 0.        , 0.        , 0.        ,\n",
       "        0.74341315, 0.        , 0.        , 0.        , 0.5787496 ,\n",
       "        0.        , 0.05387774, 0.        , 0.5917517 , 0.17797045,\n",
       "        0.        ],\n",
       "       [0.        , 0.        , 0.        , 0.14296253, 0.9103574 ,\n",
       "        0.03242496, 0.        , 0.71459514, 0.        , 0.        ,\n",
       "        0.        , 0.        , 0.7448136 , 0.        , 0.        ,\n",
       "        0.66635793],\n",
       "       [0.        , 0.        , 0.        , 0.59893256, 0.        ,\n",
       "        0.        , 0.        , 0.9217044 , 0.        , 0.16333483,\n",
       "        0.        , 0.17167741, 0.        , 0.        , 0.7605819 ,\n",
       "        0.48675168],\n",
       "       [0.11415514, 0.82574075, 0.        , 0.        , 0.        ,\n",
       "        0.27978534, 0.        , 0.25018668, 0.        , 0.        ,\n",
       "        0.83127654, 0.09929471, 0.        , 0.        , 0.        ,\n",
       "        0.        ],\n",
       "       [0.28872353, 0.04889954, 0.        , 0.6493426 , 0.        ,\n",
       "        0.33329687, 0.        , 0.        , 0.        , 0.        ,\n",
       "        0.        , 0.        , 0.84441024, 0.01120785, 0.        ,\n",
       "        0.        ],\n",
       "       [0.67626965, 0.        , 0.        , 0.35563806, 0.        ,\n",
       "        0.        , 0.69630474, 0.        , 0.6753613 , 0.        ,\n",
       "        0.        , 0.12287189, 0.        , 0.        , 0.        ,\n",
       "        0.09184685]], dtype=float32)"
      ]
     },
     "execution_count": 238,
     "metadata": {},
     "output_type": "execute_result"
    }
   ],
   "source": [
    "a"
   ]
  },
  {
   "cell_type": "code",
   "execution_count": 239,
   "id": "76e44e2d",
   "metadata": {},
   "outputs": [
    {
     "data": {
      "text/plain": [
       "((4, 8), (4, 8), 5)"
      ]
     },
     "execution_count": 239,
     "metadata": {},
     "output_type": "execute_result"
    }
   ],
   "source": [
    "dim = 8\n",
    "\n",
    "x = np.random.rand(bs,dim).astype(np.float32)\n",
    "y = np.random.rand(bs,dim).astype(np.float32)\n",
    "x.shape,y.shape, topk"
   ]
  },
  {
   "cell_type": "markdown",
   "id": "de5e3e5e",
   "metadata": {},
   "source": [
    "x_buf = cl.Buffer(ctx, mf.READ_ONLY | mf.COPY_HOST_PTR, hostbuf=x)\n",
    "y_buf = cl.Buffer(ctx, mf.READ_ONLY | mf.COPY_HOST_PTR, hostbuf=y)\n",
    "x_cp_buf = cl.Buffer(ctx, mf.WRITE_ONLY, bs*topk*topk*4)\n",
    "x_idx_buf = cl.Buffer(ctx, mf.WRITE_ONLY, bs*topk*4)\n",
    "y_idx_buf = cl.Buffer(ctx, mf.WRITE_ONLY, bs*topk*4)\n",
    "\n",
    "prg = cl.Program(ctx, \"\"\"\n",
    "    // sorts x and y in ascending order and returns sorted indices\n",
    "    __kernel void genwupdate2(__global  float* x,     // INPUT MATRIX DATA\n",
    "                             __global  float* y,    // INPUT\n",
    "                             __global  float* xout,    // INPUT\n",
    "                             uint topk,\n",
    "                             __global  uint* xoutidx,    // INPUT\n",
    "                             __global  uint* youtidx    // INPUT\n",
    "                            ) { // LOCAL SHARED BUFFER\n",
    "      uint gid = get_global_id(0);\n",
    "      uint n = get_global_size(0);\n",
    "      uint bs = get_global_size(1);\n",
    "      uint gid2 = get_global_id(1);\n",
    "\n",
    "      uint idx = n*gid2+gid;\n",
    "\n",
    "      float valx = x[idx];\n",
    "      float valy = y[idx];\n",
    "      uint posx = 0;\n",
    "      uint posy = 0;\n",
    "      for (uint i = 0; i < n; i++) {\n",
    "        uint idx2 = n*gid2+i;\n",
    "        float tempval = x[idx2];\n",
    "        float tempval2 = y[idx2];\n",
    "        bool larger = tempval > valx;\n",
    "        bool larger2 = tempval2 > valy;\n",
    "\n",
    "        barrier(CLK_GLOBAL_MEM_FENCE);\n",
    "        posx += (larger)?1:0;\n",
    "        posy += (larger2)?1:0;\n",
    "        barrier(CLK_GLOBAL_MEM_FENCE);\n",
    "      }\n",
    "      barrier(CLK_GLOBAL_MEM_FENCE);\n",
    "      //printf(\"posx:%i\", posx);\n",
    "      if (posx < topk) {\n",
    "        xoutidx[posx+topk*gid2] = gid;\n",
    "      }\n",
    "      if (posy < topk) {\n",
    "        youtidx[posy+topk*gid2] = gid;\n",
    "      }\n",
    "      barrier(CLK_GLOBAL_MEM_FENCE);\n",
    "      if (gid < topk) {\n",
    "        for (uint j=0; j<topk; j++) {\n",
    "          float res = x[xoutidx[gid+topk*gid2]+gid2*n] * y[youtidx[j+topk*gid2]+gid2*n];\n",
    "          //printf(\"\\\\nJ:%i  gid:%i\", j, gid);\n",
    "          //printf(\"\\\\nRES:%.2f - %i - %i -  %.2f - %.2f\",res, xoutidx[gid+topk*gid2], youtidx[j+topk*gid2], x[xoutidx[gid+topk*gid2]+gid2*n], y[youtidx[j+topk*gid2]+gid2*n]);\n",
    "          barrier(CLK_GLOBAL_MEM_FENCE);\n",
    "          xout[gid2*topk*topk+j*topk+gid] = res;\n",
    "          barrier(CLK_GLOBAL_MEM_FENCE);\n",
    "          \n",
    "        }\n",
    "      }\n",
    "      barrier(CLK_GLOBAL_MEM_FENCE);\n",
    "    }\"\"\").build()"
   ]
  },
  {
   "cell_type": "code",
   "execution_count": 240,
   "id": "88864470",
   "metadata": {},
   "outputs": [],
   "source": [
    "x_buf = cl.Buffer(ctx, mf.READ_ONLY | mf.COPY_HOST_PTR, hostbuf=x)\n",
    "y_buf = cl.Buffer(ctx, mf.READ_ONLY | mf.COPY_HOST_PTR, hostbuf=y)\n",
    "x_cp_buf = cl.Buffer(ctx, mf.WRITE_ONLY, bs*topk*topk*4)\n",
    "x_idx_buf = cl.Buffer(ctx, mf.WRITE_ONLY, bs*topk*4)\n",
    "y_idx_buf = cl.Buffer(ctx, mf.WRITE_ONLY, bs*topk*4)\n",
    "#x_cp_buft = cl.Buffer(ctx, mf.WRITE_ONLY, bs*topk*topk*4)\n",
    "#x_idx_buft = cl.Buffer(ctx, mf.WRITE_ONLY, bs*topk*4)\n",
    "#y_idx_buft = cl.Buffer(ctx, mf.WRITE_ONLY, bs*topk*4)\n",
    "\n",
    "prg = cl.Program(ctx, \"\"\"\n",
    "    // sorts x and y in ascending order and returns sorted indices\n",
    "    __kernel void genwupdate2(__global  float* x,     // INPUT MATRIX DATA\n",
    "                             __global  float* y,    // INPUT\n",
    "                             __global  float* xout,    // INPUT\n",
    "                             uint topk,\n",
    "                             uint bs,\n",
    "                             __global  uint* xoutidx,    // INPUT\n",
    "                             __global  uint* youtidx    // INPUT\n",
    "                            ) { // LOCAL SHARED BUFFER\n",
    "      uint gid = get_global_id(0);\n",
    "      uint n = get_global_size(0);\n",
    "      //uint bs = get_global_size(1);\n",
    "      //uint gid2 = get_global_id(1);\n",
    "\n",
    "      for (uint gid2=0; gid2<bs; gid2++){\n",
    "        uint idx = n*gid2+gid;\n",
    "\n",
    "        float valx = x[idx];\n",
    "        float valy = y[idx];\n",
    "        uint posx = 0;\n",
    "        uint posy = 0;\n",
    "        for (uint i = 0; i < n; i++) {\n",
    "          uint idx2 = n*gid2+i;\n",
    "          float tempval = x[idx2];\n",
    "          float tempval2 = y[idx2];\n",
    "          bool larger = tempval > valx;\n",
    "          bool larger2 = tempval2 > valy;\n",
    "\n",
    "          posx += (larger)?1:0;\n",
    "          posy += (larger2)?1:0;\n",
    "        }\n",
    "        //printf(\"posx:%i\", posx);\n",
    "        if (posx < topk) {\n",
    "        xoutidx[posx+topk*gid2] = gid;\n",
    "        }\n",
    "        if (posy < topk) {\n",
    "          youtidx[posy+topk*gid2] = gid;\n",
    "        }\n",
    "      }\n",
    "      for (uint gid2=0; gid2<bs; gid2++){\n",
    "        if (gid < topk) {\n",
    "          for (uint j=0; j<topk; j++) {\n",
    "            float res = x[xoutidx[gid+topk*gid2]+gid2*n] * y[youtidx[j+topk*gid2]+gid2*n];\n",
    "            //printf(\"\\\\nJ:%i  gid:%i\", j, gid);\n",
    "            //printf(\"\\\\nRES:%.2f - %i - %i -  %.2f - %.2f\",res, xoutidx[gid+topk*gid2], youtidx[j+topk*gid2], x[xoutidx[gid+topk*gid2]+gid2*n], y[youtidx[j+topk*gid2]+gid2*n]);\n",
    "            //barrier(CLK_GLOBAL_MEM_FENCE);\n",
    "            xout[gid2*topk*topk+j*topk+gid] = res;\n",
    "          }\n",
    "        }\n",
    "      }\n",
    "    }\"\"\").build()"
   ]
  },
  {
   "cell_type": "code",
   "execution_count": 241,
   "id": "94682965",
   "metadata": {},
   "outputs": [
    {
     "data": {
      "text/plain": [
       "<pyopencl._cl.NannyEvent at 0x7f5a642e2400>"
      ]
     },
     "execution_count": 241,
     "metadata": {},
     "output_type": "execute_result"
    }
   ],
   "source": [
    "knl = prg.genwupdate2  # Use this Kernel object for repeated calls\n",
    "evt = knl(queue, [dim], None, x_buf, y_buf, x_cp_buf, np.uint32(topk), np.uint32(bs), x_idx_buf, y_idx_buf)\n",
    "\n",
    "#evt.wait()\n",
    "resx = np.zeros(bs*topk*topk).astype(np.float32)\n",
    "resxidx = np.zeros(bs*topk).astype(np.uint32)\n",
    "resyidx = np.zeros(bs*topk).astype(np.uint32)\n",
    "\n",
    "cl.enqueue_copy(queue, resx, x_cp_buf)\n",
    "cl.enqueue_copy(queue, resxidx, x_idx_buf)\n",
    "cl.enqueue_copy(queue, resyidx, y_idx_buf)"
   ]
  },
  {
   "cell_type": "markdown",
   "id": "771508c3",
   "metadata": {},
   "source": [
    "knl(queue, [dim], None, y_buf, x_buf, x_cp_buft, np.uint32(topk), np.uint32(bs), x_idx_buft, y_idx_buft)\n",
    "\n",
    "#evt.wait()\n",
    "resx = np.zeros(bs*topk*topk).astype(np.float32)\n",
    "resxidx = np.zeros(bs*topk).astype(np.uint32)\n",
    "resyidx = np.zeros(bs*topk).astype(np.uint32)\n",
    "\n",
    "cl.enqueue_copy(queue, resx, x_cp_buf)\n",
    "cl.enqueue_copy(queue, resxidx, x_idx_buf)\n",
    "cl.enqueue_copy(queue, resyidx, y_idx_buf)"
   ]
  },
  {
   "cell_type": "code",
   "execution_count": 242,
   "id": "88725ae2",
   "metadata": {},
   "outputs": [
    {
     "data": {
      "text/plain": [
       "array([[0.17703491, 0.9082271 , 0.844115  , 0.13836125, 0.37077376,\n",
       "        0.14187126, 0.2554239 , 0.74123585],\n",
       "       [0.5749973 , 0.58092856, 0.245505  , 0.37022075, 0.28529382,\n",
       "        0.04638312, 0.89031464, 0.4462557 ],\n",
       "       [0.01870731, 0.49408567, 0.4352037 , 0.23138313, 0.523213  ,\n",
       "        0.98933345, 0.6775894 , 0.9670713 ],\n",
       "       [0.24639843, 0.7003624 , 0.7240451 , 0.5082079 , 0.23762804,\n",
       "        0.50561154, 0.88468575, 0.9135105 ]], dtype=float32)"
      ]
     },
     "execution_count": 242,
     "metadata": {},
     "output_type": "execute_result"
    }
   ],
   "source": [
    "x"
   ]
  },
  {
   "cell_type": "code",
   "execution_count": 243,
   "id": "4c150d0f",
   "metadata": {},
   "outputs": [
    {
     "data": {
      "text/plain": [
       "array([[0.22866099, 0.52384585, 0.11538133, 0.09020234, 0.2828013 ,\n",
       "        0.9686888 , 0.04652401, 0.40306655],\n",
       "       [0.8626351 , 0.16699363, 0.9405066 , 0.85600585, 0.98426616,\n",
       "        0.19067204, 0.9464574 , 0.79394555],\n",
       "       [0.35402992, 0.49338102, 0.22329962, 0.7806627 , 0.3408471 ,\n",
       "        0.22262034, 0.72643334, 0.1980827 ],\n",
       "       [0.65394187, 0.3903598 , 0.88434243, 0.9210825 , 0.52586645,\n",
       "        0.60021836, 0.9936902 , 0.52363884]], dtype=float32)"
      ]
     },
     "execution_count": 243,
     "metadata": {},
     "output_type": "execute_result"
    }
   ],
   "source": [
    "y"
   ]
  },
  {
   "cell_type": "code",
   "execution_count": 244,
   "id": "990b8af7",
   "metadata": {},
   "outputs": [
    {
     "data": {
      "text/plain": [
       "((4, 8), (4, 8))"
      ]
     },
     "execution_count": 244,
     "metadata": {},
     "output_type": "execute_result"
    }
   ],
   "source": [
    "x.shape, y.shape"
   ]
  },
  {
   "cell_type": "code",
   "execution_count": 245,
   "id": "1c18b7bb",
   "metadata": {},
   "outputs": [
    {
     "data": {
      "text/plain": [
       "array([0.8797894 , 0.81768477, 0.7180269 , 0.3591644 , 0.24742627,\n",
       "       0.47577098, 0.44218615, 0.38829333, 0.19422829, 0.13380276,\n",
       "       0.36607596, 0.34023452, 0.2987674 , 0.1494465 , 0.10295283,\n",
       "       0.2568478 , 0.23871683, 0.20962246, 0.1048553 , 0.07223421,\n",
       "       0.2076761 , 0.19301617, 0.16949172, 0.0847815 , 0.05840548,\n",
       "       0.8763066 , 0.5717883 , 0.5659504 , 0.4392344 , 0.36439577,\n",
       "       0.8426449 , 0.5498241 , 0.54421043, 0.42236203, 0.35039815,\n",
       "       0.8373468 , 0.5463671 , 0.54078877, 0.41970643, 0.34819505,\n",
       "       0.76801664, 0.5011293 , 0.49601284, 0.38495582, 0.3193654 ,\n",
       "       0.7621145 , 0.49727824, 0.49220106, 0.3819975 , 0.31691113,\n",
       "       0.77233577, 0.7549565 , 0.5289688 , 0.4084529 , 0.38571426,\n",
       "       0.7186848 , 0.7025128 , 0.49222353, 0.3800794 , 0.3589203 ,\n",
       "       0.48811835, 0.47713462, 0.33430976, 0.25814337, 0.24377249,\n",
       "       0.35025364, 0.34237218, 0.23988692, 0.18523307, 0.17492111,\n",
       "       0.33721143, 0.32962346, 0.2309544 , 0.17833565, 0.16840766,\n",
       "       0.90774643, 0.87910354, 0.7194765 , 0.69594324, 0.50500125,\n",
       "       0.8414185 , 0.81486857, 0.6669053 , 0.64509153, 0.4681014 ,\n",
       "       0.8078561 , 0.78236514, 0.6403038 , 0.61936015, 0.44942984,\n",
       "       0.5973828 , 0.57853305, 0.4734834 , 0.45799628, 0.33233842,\n",
       "       0.54830575, 0.5310046 , 0.43458515, 0.42037037, 0.3050357 ],\n",
       "      dtype=float32)"
      ]
     },
     "execution_count": 245,
     "metadata": {},
     "output_type": "execute_result"
    }
   ],
   "source": [
    "resx"
   ]
  },
  {
   "cell_type": "code",
   "execution_count": 246,
   "id": "58d4154c",
   "metadata": {},
   "outputs": [
    {
     "data": {
      "text/plain": [
       "array([[[0.8797894 , 0.81768477, 0.7180269 , 0.3591644 , 0.24742627],\n",
       "        [0.47577098, 0.44218615, 0.38829333, 0.19422829, 0.13380276],\n",
       "        [0.36607596, 0.34023452, 0.2987674 , 0.1494465 , 0.10295283],\n",
       "        [0.2568478 , 0.23871683, 0.20962246, 0.1048553 , 0.07223421],\n",
       "        [0.2076761 , 0.19301617, 0.16949172, 0.0847815 , 0.05840548]],\n",
       "\n",
       "       [[0.8763066 , 0.5717883 , 0.5659504 , 0.4392344 , 0.36439577],\n",
       "        [0.8426449 , 0.5498241 , 0.54421043, 0.42236203, 0.35039815],\n",
       "        [0.8373468 , 0.5463671 , 0.54078877, 0.41970643, 0.34819505],\n",
       "        [0.76801664, 0.5011293 , 0.49601284, 0.38495582, 0.3193654 ],\n",
       "        [0.7621145 , 0.49727824, 0.49220106, 0.3819975 , 0.31691113]],\n",
       "\n",
       "       [[0.77233577, 0.7549565 , 0.5289688 , 0.4084529 , 0.38571426],\n",
       "        [0.7186848 , 0.7025128 , 0.49222353, 0.3800794 , 0.3589203 ],\n",
       "        [0.48811835, 0.47713462, 0.33430976, 0.25814337, 0.24377249],\n",
       "        [0.35025364, 0.34237218, 0.23988692, 0.18523307, 0.17492111],\n",
       "        [0.33721143, 0.32962346, 0.2309544 , 0.17833565, 0.16840766]],\n",
       "\n",
       "       [[0.90774643, 0.87910354, 0.7194765 , 0.69594324, 0.50500125],\n",
       "        [0.8414185 , 0.81486857, 0.6669053 , 0.64509153, 0.4681014 ],\n",
       "        [0.8078561 , 0.78236514, 0.6403038 , 0.61936015, 0.44942984],\n",
       "        [0.5973828 , 0.57853305, 0.4734834 , 0.45799628, 0.33233842],\n",
       "        [0.54830575, 0.5310046 , 0.43458515, 0.42037037, 0.3050357 ]]],\n",
       "      dtype=float32)"
      ]
     },
     "execution_count": 246,
     "metadata": {},
     "output_type": "execute_result"
    }
   ],
   "source": [
    "resx.reshape(bs,topk,topk)"
   ]
  },
  {
   "cell_type": "code",
   "execution_count": 247,
   "id": "5cca2876",
   "metadata": {},
   "outputs": [
    {
     "data": {
      "text/plain": [
       "array([1, 2, 7, 4, 6, 6, 1, 0, 7, 3, 5, 7, 6, 4, 1, 7, 6, 2, 1, 3],\n",
       "      dtype=uint32)"
      ]
     },
     "execution_count": 247,
     "metadata": {},
     "output_type": "execute_result"
    }
   ],
   "source": [
    "resxidx"
   ]
  },
  {
   "cell_type": "code",
   "execution_count": 248,
   "id": "80deeac2",
   "metadata": {},
   "outputs": [
    {
     "data": {
      "text/plain": [
       "array([5, 1, 7, 4, 0, 4, 6, 2, 0, 3, 3, 6, 1, 0, 4, 6, 3, 2, 0, 5],\n",
       "      dtype=uint32)"
      ]
     },
     "execution_count": 248,
     "metadata": {},
     "output_type": "execute_result"
    }
   ],
   "source": [
    "resyidx"
   ]
  },
  {
   "cell_type": "code",
   "execution_count": 249,
   "id": "3020c7d7",
   "metadata": {},
   "outputs": [
    {
     "data": {
      "text/plain": [
       "(8, 8)"
      ]
     },
     "execution_count": 249,
     "metadata": {},
     "output_type": "execute_result"
    }
   ],
   "source": [
    "idx = 1\n",
    "xy0 = x[idx].reshape(dim,1)*y[idx]\n",
    "xy0.shape"
   ]
  },
  {
   "cell_type": "code",
   "execution_count": 250,
   "id": "fc865ccb",
   "metadata": {},
   "outputs": [
    {
     "data": {
      "text/plain": [
       "0.29393512"
      ]
     },
     "execution_count": 250,
     "metadata": {},
     "output_type": "execute_result"
    }
   ],
   "source": [
    "xy0[3][7]"
   ]
  },
  {
   "cell_type": "markdown",
   "id": "1b1742a3",
   "metadata": {},
   "source": [
    "## Weight update kernel new"
   ]
  },
  {
   "cell_type": "code",
   "execution_count": 251,
   "id": "9f4bce2c",
   "metadata": {},
   "outputs": [
    {
     "data": {
      "text/plain": [
       "array([[0.49395892, 0.        , 0.46451807, 0.        , 0.        ],\n",
       "       [0.65864426, 0.        , 0.9786625 , 0.        , 0.        ],\n",
       "       [0.31044865, 0.        , 0.02502257, 0.        , 0.        ],\n",
       "       [0.        , 0.46765924, 0.        , 0.        , 0.03160795],\n",
       "       [0.71082693, 0.        , 0.58997136, 0.        , 0.        ],\n",
       "       [0.        , 0.        , 0.84622455, 0.5916316 , 0.        ],\n",
       "       [0.46450275, 0.        , 0.        , 0.        , 0.9429863 ],\n",
       "       [0.        , 0.34248227, 0.7672639 , 0.        , 0.        ],\n",
       "       [0.        , 0.        , 0.9855889 , 0.        , 0.2535647 ],\n",
       "       [0.        , 0.7705159 , 0.31522992, 0.        , 0.        ],\n",
       "       [0.        , 0.7167741 , 0.        , 0.8238369 , 0.        ],\n",
       "       [0.        , 0.91970533, 0.        , 0.7873889 , 0.        ],\n",
       "       [0.        , 0.        , 0.        , 0.404568  , 0.841323  ],\n",
       "       [0.        , 0.        , 0.674503  , 0.48820347, 0.        ],\n",
       "       [0.18725161, 0.11607183, 0.        , 0.        , 0.        ],\n",
       "       [0.7250254 , 0.        , 0.12346577, 0.        , 0.        ]],\n",
       "      dtype=float32)"
      ]
     },
     "execution_count": 251,
     "metadata": {},
     "output_type": "execute_result"
    }
   ],
   "source": [
    "b"
   ]
  },
  {
   "cell_type": "code",
   "execution_count": 252,
   "id": "48d63640",
   "metadata": {},
   "outputs": [],
   "source": [
    "c=np.zeros(a.T.shape)\n",
    "at = a.T\n",
    "for row in range(at.shape[0]):\n",
    "    for col in range(at.shape[1]):\n",
    "        c[row][col] = at[row][col]"
   ]
  },
  {
   "cell_type": "code",
   "execution_count": 253,
   "id": "e9fc7351",
   "metadata": {},
   "outputs": [
    {
     "data": {
      "text/plain": [
       "array([[0.        , 0.9562663 , 0.        , 0.        , 0.        ,\n",
       "        0.11415514, 0.28872353, 0.67626965],\n",
       "       [0.68347037, 0.5531271 , 0.20103766, 0.        , 0.        ,\n",
       "        0.82574075, 0.04889954, 0.        ],\n",
       "       [0.8035886 , 0.        , 0.        , 0.        , 0.        ,\n",
       "        0.        , 0.        , 0.        ],\n",
       "       [0.        , 0.        , 0.        , 0.14296253, 0.59893256,\n",
       "        0.        , 0.6493426 , 0.35563806],\n",
       "       [0.        , 0.5375557 , 0.        , 0.9103574 , 0.        ,\n",
       "        0.        , 0.        , 0.        ],\n",
       "       [0.        , 0.        , 0.74341315, 0.03242496, 0.        ,\n",
       "        0.27978534, 0.33329687, 0.        ],\n",
       "       [0.        , 0.        , 0.        , 0.        , 0.        ,\n",
       "        0.        , 0.        , 0.69630474],\n",
       "       [0.08023349, 0.        , 0.        , 0.71459514, 0.9217044 ,\n",
       "        0.25018668, 0.        , 0.        ],\n",
       "       [0.8858316 , 0.        , 0.        , 0.        , 0.        ,\n",
       "        0.        , 0.        , 0.6753613 ],\n",
       "       [0.        , 0.        , 0.5787496 , 0.        , 0.16333483,\n",
       "        0.        , 0.        , 0.        ],\n",
       "       [0.17861794, 0.        , 0.        , 0.        , 0.        ,\n",
       "        0.83127654, 0.        , 0.        ],\n",
       "       [0.        , 0.20370705, 0.05387774, 0.        , 0.17167741,\n",
       "        0.09929471, 0.        , 0.12287189],\n",
       "       [0.46201044, 0.35530138, 0.        , 0.7448136 , 0.        ,\n",
       "        0.        , 0.84441024, 0.        ],\n",
       "       [0.        , 0.        , 0.5917517 , 0.        , 0.        ,\n",
       "        0.        , 0.01120785, 0.        ],\n",
       "       [0.        , 0.        , 0.17797045, 0.        , 0.7605819 ,\n",
       "        0.        , 0.        , 0.        ],\n",
       "       [0.        , 0.9186601 , 0.        , 0.66635793, 0.48675168,\n",
       "        0.        , 0.        , 0.09184685]], dtype=float32)"
      ]
     },
     "execution_count": 253,
     "metadata": {},
     "output_type": "execute_result"
    }
   ],
   "source": [
    "at"
   ]
  },
  {
   "cell_type": "code",
   "execution_count": 254,
   "id": "4ab3d6d9",
   "metadata": {},
   "outputs": [
    {
     "data": {
      "text/plain": [
       "array([[0.        , 0.95626628, 0.        , 0.        , 0.        ,\n",
       "        0.11415514, 0.28872353, 0.67626965],\n",
       "       [0.68347037, 0.55312711, 0.20103766, 0.        , 0.        ,\n",
       "        0.82574075, 0.04889954, 0.        ],\n",
       "       [0.80358863, 0.        , 0.        , 0.        , 0.        ,\n",
       "        0.        , 0.        , 0.        ],\n",
       "       [0.        , 0.        , 0.        , 0.14296253, 0.59893256,\n",
       "        0.        , 0.6493426 , 0.35563806],\n",
       "       [0.        , 0.53755569, 0.        , 0.91035742, 0.        ,\n",
       "        0.        , 0.        , 0.        ],\n",
       "       [0.        , 0.        , 0.74341315, 0.03242496, 0.        ,\n",
       "        0.27978534, 0.33329687, 0.        ],\n",
       "       [0.        , 0.        , 0.        , 0.        , 0.        ,\n",
       "        0.        , 0.        , 0.69630474],\n",
       "       [0.08023349, 0.        , 0.        , 0.71459514, 0.92170441,\n",
       "        0.25018668, 0.        , 0.        ],\n",
       "       [0.88583159, 0.        , 0.        , 0.        , 0.        ,\n",
       "        0.        , 0.        , 0.67536128],\n",
       "       [0.        , 0.        , 0.5787496 , 0.        , 0.16333483,\n",
       "        0.        , 0.        , 0.        ],\n",
       "       [0.17861794, 0.        , 0.        , 0.        , 0.        ,\n",
       "        0.83127654, 0.        , 0.        ],\n",
       "       [0.        , 0.20370705, 0.05387774, 0.        , 0.17167741,\n",
       "        0.09929471, 0.        , 0.12287189],\n",
       "       [0.46201044, 0.35530138, 0.        , 0.74481362, 0.        ,\n",
       "        0.        , 0.84441024, 0.        ],\n",
       "       [0.        , 0.        , 0.59175169, 0.        , 0.        ,\n",
       "        0.        , 0.01120785, 0.        ],\n",
       "       [0.        , 0.        , 0.17797045, 0.        , 0.76058191,\n",
       "        0.        , 0.        , 0.        ],\n",
       "       [0.        , 0.9186601 , 0.        , 0.66635793, 0.48675168,\n",
       "        0.        , 0.        , 0.09184685]])"
      ]
     },
     "execution_count": 254,
     "metadata": {},
     "output_type": "execute_result"
    }
   ],
   "source": [
    "c"
   ]
  },
  {
   "cell_type": "markdown",
   "id": "f20ac323",
   "metadata": {},
   "source": [
    "a_buf = cl.Buffer(ctx, mf.READ_WRITE | mf.COPY_HOST_PTR, hostbuf=c.astype(np.float32))\n",
    "b_buf = cl.Buffer(ctx, mf.READ_WRITE | mf.COPY_HOST_PTR, hostbuf=b)\n",
    "x_cp_buf = cl.Buffer(ctx, mf.WRITE_ONLY, topk*topk*4)\n",
    "x_idx_buf = cl.Buffer(ctx, mf.WRITE_ONLY, topk*4)\n",
    "y_idx_buf = cl.Buffer(ctx, mf.WRITE_ONLY, topk*4)\n",
    "\n",
    "prg = cl.Program(ctx, \"\"\"\n",
    "    // sorts x and y in ascending order and returns sorted indices\n",
    "    __kernel void genwupdate3(__global  float* x,     // INPUT MATRIX DATA\n",
    "                             __global  float* y,    // INPUT\n",
    "                             uint topk,\n",
    "                             uint msize,\n",
    "                             __global  float* xout,    // INPUT\n",
    "                             __global  uint* xoutidx,    // INPUT\n",
    "                             __global  uint* youtidx    // INPUT\n",
    "                            ) { // LOCAL SHARED BUFFER\n",
    "      uint gid = get_global_id(0);\n",
    "      uint n = get_global_size(0);\n",
    "      uint bs = get_global_size(1);\n",
    "      uint gid2 = get_global_id(1);\n",
    "\n",
    "\n",
    "\n",
    "      uint idx = n*gid2+gid;\n",
    "      float valx = x[idx];\n",
    "      uint posx = 0;\n",
    "      for (uint i = 0; i < n; i++) {\n",
    "        uint idx2 = n*gid2+i;\n",
    "        float tempval = x[idx2];\n",
    "        bool larger = tempval > valx;\n",
    "        posx += (larger)?1:0;\n",
    "      }\n",
    "      \n",
    "      uint idxy = n*gid2+gid;\n",
    "      float valy = y[idx];\n",
    "      uint posy = 0;\n",
    "      for (uint i = 0; i < n; i++) {\n",
    "        uint idx2 = n*gid2+i;\n",
    "        float tempval2 = y[idx2];\n",
    "        bool larger2 = tempval2 > valy;\n",
    "        posy += (larger2)?1:0;\n",
    "      }\n",
    "      \n",
    "      if (posx < topk) {\n",
    "        xoutidx[posx+topk*gid2] = idx;\n",
    "      }\n",
    "      if (posy < topk) {\n",
    "        youtidx[posy+topk*gid2] = idxy;\n",
    "      }\n",
    "      return;\n",
    "      if (gid < topk) {\n",
    "        for (uint j=0; j<topk; j++) {\n",
    "          float res = x[xoutidx[gid+topk*gid2]+gid2*msize] * y[youtidx[j+topk*gid2]+gid2*msize];\n",
    "          printf(\"\\\\nJ:%i  gid:(%i,%i)\", j, gid, gid2);\n",
    "          printf(\"\\\\nRES:%.2f - %i - %i -  %.2f - %.2f\",res, xoutidx[gid+topk*gid2], youtidx[j+topk*gid2], x[xoutidx[gid+topk*gid2]+gid2*n], y[youtidx[j+topk*gid2]+gid2*n]);\n",
    "          //barrier(CLK_GLOBAL_MEM_FENCE);\n",
    "          xout[gid2*topk*topk+j*topk+gid] = res;\n",
    "        }\n",
    "      }\n",
    "    }\"\"\").build()"
   ]
  },
  {
   "cell_type": "code",
   "execution_count": 255,
   "id": "3eb221f6",
   "metadata": {},
   "outputs": [],
   "source": [
    "a_buf = cl.Buffer(ctx, mf.READ_WRITE | mf.COPY_HOST_PTR, hostbuf=c.astype(np.float32))\n",
    "b_buf = cl.Buffer(ctx, mf.READ_WRITE | mf.COPY_HOST_PTR, hostbuf=b)\n",
    "x_sum_buf = cl.Buffer(ctx, mf.WRITE_ONLY, a.shape[0]*4)\n",
    "y_sum_buf = cl.Buffer(ctx, mf.WRITE_ONLY, b.shape[1]*4)\n",
    "x_cp_buf = cl.Buffer(ctx, mf.WRITE_ONLY, topk*topk*4)\n",
    "x_idx_buf = cl.Buffer(ctx, mf.WRITE_ONLY, topk*4)\n",
    "y_idx_buf = cl.Buffer(ctx, mf.WRITE_ONLY, topk*4)\n",
    "\n",
    "prg = cl.Program(ctx, \"\"\"\n",
    "    // sorts x and y in ascending order and returns sorted indices\n",
    "    __kernel void genwupdate3(__global  float* x,     // INPUT MATRIX DATA\n",
    "                              __global  float* y,    // INPUT\n",
    "                              __global  float* xsum,    // INPUT\n",
    "                              __global  float* ysum,    // INPUT\n",
    "                              uint isize,\n",
    "                              uint msize,\n",
    "                              uint osize,\n",
    "                              uint topk,\n",
    "                              __global  float* xout,\n",
    "                              __global  uint* xoutidx,   \n",
    "                              __global  uint* youtidx    \n",
    "                              ) { \n",
    "      uint gid = get_global_id(0);\n",
    "      \n",
    "      // get for a: sum axis0  b: sum axis1 then get topk\n",
    "      ///////////////////////////////////////////////////\n",
    "      if (gid < isize) {\n",
    "        xsum[gid] = 0;\n",
    "        for (uint i=0; i<msize; i++) {\n",
    "          float val = x[i*isize+gid];\n",
    "          //if (gid == 0) {\n",
    "          //  printf(\"\\\\nADD VALx: %.2f - %i\", val, i*msize+gid);\n",
    "          //}\n",
    "          xsum[gid] += val;\n",
    "        }\n",
    "        \n",
    "        float valx = xsum[gid];\n",
    "        uint posx = 0;\n",
    "        for (uint i = 0; i < isize; i++) {\n",
    "          float tempval = xsum[i];\n",
    "          bool larger = tempval > valx;\n",
    "          posx += (larger)?1:0;\n",
    "        }\n",
    "        if (posx < topk) {\n",
    "          xoutidx[posx] = gid;\n",
    "        }\n",
    "      }\n",
    "      \n",
    "      if (gid < osize) {\n",
    "        ysum[gid] = 0;\n",
    "        for (uint i=0; i<msize; i++) {\n",
    "          float val = y[i*osize+gid];\n",
    "          //if (gid == 0) {\n",
    "          //  printf(\"\\\\nADD VALx: %.2f - %i\", val, gid*osize+i);\n",
    "          //}\n",
    "          ysum[gid] += val;\n",
    "        }\n",
    "        \n",
    "        float valy = ysum[gid];\n",
    "        uint posy = 0;\n",
    "        for (uint i = 0; i < osize; i++) {\n",
    "          float tempval = ysum[i];\n",
    "          bool larger = tempval > valy;\n",
    "          posy += (larger)?1:0;\n",
    "        }\n",
    "      \n",
    "        if (posy < topk) {\n",
    "          youtidx[posy] = gid;\n",
    "        }\n",
    "      }\n",
    "      \n",
    "      if (gid < topk) {\n",
    "        float valx = xoutidx[gid];\n",
    "        uint posx = 0;\n",
    "        for (uint i = 0; i < topk; i++) {\n",
    "          float tempval = xoutidx[i];\n",
    "          bool larger = tempval < valx;\n",
    "          posx += (larger)?1:0;\n",
    "        }\n",
    "        xoutidx[posx] = valx;\n",
    "        \n",
    "        float valy = youtidx[gid];\n",
    "        uint posy = 0;\n",
    "        for (uint i = 0; i < topk; i++) {\n",
    "          float tempval = youtidx[i];\n",
    "          bool larger = tempval < valy;\n",
    "          posy += (larger)?1:0;\n",
    "        }\n",
    "        youtidx[posy] = valy;\n",
    "      }\n",
    "      \n",
    "      // only calc matrix multiplications for used grads\n",
    "      ///////////////////////////////////////////////////\n",
    "      if (gid < topk) {\n",
    "        uint idxx = xoutidx[gid];\n",
    "        for (uint j=0; j<topk; j++) {\n",
    "          uint idxy = youtidx[j];\n",
    "          xout[j*topk+gid] = 0;\n",
    "          for (uint k=0; k<msize; k++) {\n",
    "            uint xidx2 = isize*k+idxx;\n",
    "            uint yidx2 = osize*k+idxy;\n",
    "            xout[j*topk+gid] += x[xidx2] * y[yidx2];\n",
    "            //if (gid == 0 && j == 1)\n",
    "            //  printf(\"\\\\n ADD VAL:%.2f,%.2f - (%i,%i) - (%i,%i,%i)\", x[xidx2], y[yidx2], idxx, idxy, gid, j, k);\n",
    "          }\n",
    "        }\n",
    "      }\n",
    "    }\"\"\").build()"
   ]
  },
  {
   "cell_type": "code",
   "execution_count": 256,
   "id": "5e0667f0",
   "metadata": {},
   "outputs": [
    {
     "data": {
      "text/plain": [
       "((8, 16), (16, 5))"
      ]
     },
     "execution_count": 256,
     "metadata": {},
     "output_type": "execute_result"
    }
   ],
   "source": [
    "a.shape, b.shape"
   ]
  },
  {
   "cell_type": "code",
   "execution_count": 257,
   "id": "75e3ecd7",
   "metadata": {},
   "outputs": [],
   "source": [
    "rows = a.shape[0]\n",
    "msize = a.shape[1]"
   ]
  },
  {
   "cell_type": "code",
   "execution_count": 258,
   "id": "67fede53",
   "metadata": {},
   "outputs": [],
   "source": [
    "cols = b.shape[1]"
   ]
  },
  {
   "cell_type": "code",
   "execution_count": 259,
   "id": "68f4e2f7",
   "metadata": {},
   "outputs": [],
   "source": [
    "mult = a.dot(b)"
   ]
  },
  {
   "cell_type": "code",
   "execution_count": 260,
   "id": "bbcc1bea",
   "metadata": {},
   "outputs": [],
   "source": [
    "mult = mult.astype(np.float32)"
   ]
  },
  {
   "cell_type": "code",
   "execution_count": 261,
   "id": "58a7c0c8",
   "metadata": {},
   "outputs": [
    {
     "data": {
      "text/plain": [
       "<pyopencl._cl.NannyEvent at 0x7f5a642edd60>"
      ]
     },
     "execution_count": 261,
     "metadata": {},
     "output_type": "execute_result"
    }
   ],
   "source": [
    "res_buf = cl.Buffer(ctx, mf.READ_WRITE, np.prod([rows,b.shape[1]])*4)\n",
    "knl = prg.genwupdate3  # Use this Kernel object for repeated calls\n",
    "evt = knl(queue, [max(rows,cols)], None, a_buf, b_buf, x_sum_buf, y_sum_buf, np.uint32(rows), np.uint32(msize),np.uint32(cols), np.uint32(topk), x_cp_buf, x_idx_buf, y_idx_buf)\n",
    "\n",
    "resxsum = np.zeros(a.shape[0]).astype(np.float32)\n",
    "resysum = np.zeros(b.shape[1]).astype(np.float32)\n",
    "resx = np.zeros(topk*topk).astype(np.float32)\n",
    "resxidx = np.zeros(topk).astype(np.uint32)\n",
    "resyidx = np.zeros(topk).astype(np.uint32)\n",
    "\n",
    "cl.enqueue_copy(queue, resxsum, x_sum_buf)\n",
    "cl.enqueue_copy(queue, resysum, y_sum_buf)\n",
    "cl.enqueue_copy(queue, resx, x_cp_buf)\n",
    "cl.enqueue_copy(queue, resxidx, x_idx_buf)\n",
    "cl.enqueue_copy(queue, resyidx, y_idx_buf)"
   ]
  },
  {
   "cell_type": "code",
   "execution_count": 262,
   "id": "5dab05c7",
   "metadata": {},
   "outputs": [
    {
     "data": {
      "text/plain": [
       "array([[0.6996368 , 1.8848312 , 1.130233  , 0.49532753, 0.7240762 ],\n",
       "       [0.15550727, 0.18735047, 0.31159392, 0.9677906 , 0.27932334],\n",
       "       [1.6236207 , 1.4160932 , 1.1950791 , 0.8187757 , 0.99110806],\n",
       "       [0.3340667 , 0.30414024, 0.32051137, 0.1351769 , 0.09674796],\n",
       "       [0.61331564, 0.29892322, 0.6311476 , 0.01893103, 0.8390946 ]],\n",
       "      dtype=float32)"
      ]
     },
     "execution_count": 262,
     "metadata": {},
     "output_type": "execute_result"
    }
   ],
   "source": [
    "resx.reshape(topk,topk)"
   ]
  },
  {
   "cell_type": "code",
   "execution_count": 263,
   "id": "5e267f71",
   "metadata": {},
   "outputs": [
    {
     "data": {
      "text/plain": [
       "array([3.0937524, 3.5246177, 2.3468003, 3.2115116, 3.102983 , 2.4004393,\n",
       "       2.1758807, 2.6182923], dtype=float32)"
      ]
     },
     "execution_count": 263,
     "metadata": {},
     "output_type": "execute_result"
    }
   ],
   "source": [
    "resxsum"
   ]
  },
  {
   "cell_type": "code",
   "execution_count": 264,
   "id": "e374bd1f",
   "metadata": {},
   "outputs": [
    {
     "data": {
      "text/plain": [
       "array([3.5506585, 3.3332088, 5.77045  , 3.095629 , 2.0694818],\n",
       "      dtype=float32)"
      ]
     },
     "execution_count": 264,
     "metadata": {},
     "output_type": "execute_result"
    }
   ],
   "source": [
    "resysum"
   ]
  },
  {
   "cell_type": "code",
   "execution_count": 265,
   "id": "b254f74f",
   "metadata": {},
   "outputs": [
    {
     "data": {
      "text/plain": [
       "array([3.0937524, 3.5246177, 2.3468003, 3.2115116, 3.102983 , 2.4004393,\n",
       "       2.1758807, 2.6182923], dtype=float32)"
      ]
     },
     "execution_count": 265,
     "metadata": {},
     "output_type": "execute_result"
    }
   ],
   "source": [
    "a.sum(axis=1)"
   ]
  },
  {
   "cell_type": "code",
   "execution_count": 266,
   "id": "e264d60f",
   "metadata": {},
   "outputs": [
    {
     "data": {
      "text/plain": [
       "array([3.5506585, 3.3332088, 5.77045  , 3.095629 , 2.0694818],\n",
       "      dtype=float32)"
      ]
     },
     "execution_count": 266,
     "metadata": {},
     "output_type": "execute_result"
    }
   ],
   "source": [
    "b.sum(axis=0)"
   ]
  },
  {
   "cell_type": "code",
   "execution_count": 267,
   "id": "529cc660",
   "metadata": {},
   "outputs": [
    {
     "data": {
      "text/plain": [
       "array([[0.6996368 , 0.15550727, 1.6236207 , 0.3340667 , 0.61331564],\n",
       "       [1.8848312 , 0.18735047, 1.4160932 , 0.30414024, 0.29892322],\n",
       "       [0.16573755, 0.51614475, 1.40742   , 0.7711447 , 0.        ],\n",
       "       [1.130233  , 0.31159392, 1.1950791 , 0.32051137, 0.6311476 ],\n",
       "       [0.49532753, 0.9677906 , 0.8187757 , 0.1351769 , 0.01893103],\n",
       "       [0.60025734, 0.7728439 , 1.2898692 , 0.9285497 , 0.        ],\n",
       "       [0.17482497, 0.30367106, 0.47157714, 0.544282  , 0.7309462 ],\n",
       "       [0.7240762 , 0.27932334, 0.99110806, 0.09674796, 0.8390946 ]],\n",
       "      dtype=float32)"
      ]
     },
     "execution_count": 267,
     "metadata": {},
     "output_type": "execute_result"
    }
   ],
   "source": [
    "mult"
   ]
  },
  {
   "cell_type": "code",
   "execution_count": 268,
   "id": "ee933d58",
   "metadata": {},
   "outputs": [
    {
     "data": {
      "text/plain": [
       "array([0, 1, 3, 4, 7], dtype=uint32)"
      ]
     },
     "execution_count": 268,
     "metadata": {},
     "output_type": "execute_result"
    }
   ],
   "source": [
    "resxidx"
   ]
  },
  {
   "cell_type": "code",
   "execution_count": 269,
   "id": "23535acb",
   "metadata": {},
   "outputs": [
    {
     "data": {
      "text/plain": [
       "array([0, 1, 2, 3, 4], dtype=uint32)"
      ]
     },
     "execution_count": 269,
     "metadata": {},
     "output_type": "execute_result"
    }
   ],
   "source": [
    "resyidx"
   ]
  },
  {
   "cell_type": "code",
   "execution_count": 270,
   "id": "475e967a",
   "metadata": {},
   "outputs": [
    {
     "data": {
      "text/plain": [
       "(8, 8)"
      ]
     },
     "execution_count": 270,
     "metadata": {},
     "output_type": "execute_result"
    }
   ],
   "source": [
    "idx = 1\n",
    "xy0 = x[idx].reshape(dim,1)*y[idx]\n",
    "xy0.shape"
   ]
  },
  {
   "cell_type": "code",
   "execution_count": 271,
   "id": "281c094b",
   "metadata": {},
   "outputs": [
    {
     "data": {
      "text/plain": [
       "0.49601284"
      ]
     },
     "execution_count": 271,
     "metadata": {},
     "output_type": "execute_result"
    }
   ],
   "source": [
    "xy0[0][0]"
   ]
  },
  {
   "cell_type": "markdown",
   "id": "510bb101",
   "metadata": {},
   "source": [
    "## Weight update kernel new2 (sparse ouput)"
   ]
  },
  {
   "cell_type": "code",
   "execution_count": 272,
   "id": "9097d4e8",
   "metadata": {},
   "outputs": [],
   "source": [
    "c=np.zeros(a.T.shape)\n",
    "at = a.T\n",
    "for row in range(at.shape[0]):\n",
    "    for col in range(at.shape[1]):\n",
    "        c[row][col] = at[row][col]"
   ]
  },
  {
   "cell_type": "code",
   "execution_count": 273,
   "id": "c6236918",
   "metadata": {},
   "outputs": [],
   "source": [
    "a_buf = cl.Buffer(ctx, mf.READ_WRITE | mf.COPY_HOST_PTR, hostbuf=c.astype(np.float32))\n",
    "b_buf = cl.Buffer(ctx, mf.READ_WRITE | mf.COPY_HOST_PTR, hostbuf=b)\n",
    "x_sum_buf = cl.Buffer(ctx, mf.WRITE_ONLY, a.shape[0]*4)\n",
    "y_sum_buf = cl.Buffer(ctx, mf.WRITE_ONLY, b.shape[1]*4)\n",
    "x_idx_buf = cl.Buffer(ctx, mf.WRITE_ONLY, topkx*4)\n",
    "y_idx_buf = cl.Buffer(ctx, mf.WRITE_ONLY, topky*4)\n",
    "sdata_buf = cl.Buffer(ctx, mf.READ_WRITE, a.shape[0]*topkx*4)\n",
    "sidxs_buf = cl.Buffer(ctx, mf.READ_WRITE, a.shape[0]*topkx*4)\n",
    "snnzs_buf = cl.Buffer(ctx, mf.READ_WRITE, a.shape[0]*4)\n",
    "sdatat_buf = cl.Buffer(ctx, mf.READ_WRITE, b.shape[1]*topky*4)\n",
    "sidxst_buf = cl.Buffer(ctx, mf.READ_WRITE, b.shape[1]*topky*4)\n",
    "snnzst_buf = cl.Buffer(ctx, mf.READ_WRITE, b.shape[1]*4)\n",
    "\n",
    "prg = cl.Program(ctx, \"\"\"\n",
    "    // sorts x and y in ascending order and returns sorted indices\n",
    "    __kernel void genwupdate4(__global  float* x,     // INPUT MATRIX DATA\n",
    "                              __global  float* y,    // INPUT\n",
    "                              __global  float* xsum,    // INPUT\n",
    "                              __global  float* ysum,    // INPUT\n",
    "                              uint isize,\n",
    "                              uint msize,\n",
    "                              uint osize,\n",
    "                              uint topkx,\n",
    "                              uint topky,\n",
    "                              __global  uint*  xoutidx,\n",
    "                              __global  uint*  youtidx,\n",
    "                              __global  float* matData,     // OUTPUT MATRIX DATA\n",
    "                              __global  uint*  colIdx,\n",
    "                              __global  uint*  rowNnz,\n",
    "                              __global  float* matDatat,    // OUTPUT MATRIX DATA\n",
    "                              __global  uint*  colIdxt,\n",
    "                              __global  uint*  rowNnzt\n",
    "                              ) {\n",
    "      uint gid = get_global_id(0);\n",
    "\n",
    "      // get for a: sum axis0  b: sum axis1 then get topk\n",
    "      ///////////////////////////////////////////////////\n",
    "      if (gid < isize) {\n",
    "        xsum[gid] = 0;\n",
    "        for (uint i=0; i<msize; i++) {\n",
    "          float val = x[i*isize+gid];\n",
    "          //if (gid == 0) {\n",
    "          //  printf(\"\\\\nADD VALx: %.2f - %i\", val, i*msize+gid);\n",
    "          //}\n",
    "          xsum[gid] += val;\n",
    "        }\n",
    "\n",
    "        float valx = xsum[gid];\n",
    "        uint posx = 0;\n",
    "        for (uint i = 0; i < isize; i++) {\n",
    "          float tempval = fabs(xsum[i]);\n",
    "          bool larger = tempval > fabs(valx);\n",
    "          posx += (larger)?1:0;\n",
    "        }\n",
    "        if (posx < topky) {\n",
    "          youtidx[posx] = gid;\n",
    "        }\n",
    "      }\n",
    "\n",
    "      if (gid < osize) {\n",
    "        ysum[gid] = 0;\n",
    "        for (uint i=0; i<msize; i++) {\n",
    "          float val = y[i*osize+gid];\n",
    "          //if (gid == 0) {\n",
    "          //  printf(\"\\\\nADD VALx: %.2f - %i\", val, gid*osize+i);\n",
    "          //}\n",
    "          ysum[gid] += val;\n",
    "        }\n",
    "\n",
    "        float valy = ysum[gid];\n",
    "        uint posy = 0;\n",
    "        for (uint i = 0; i < osize; i++) {\n",
    "          float tempval = fabs(ysum[i]);\n",
    "          bool larger = tempval > fabs(valy);\n",
    "          posy += (larger)?1:0;\n",
    "        }\n",
    "\n",
    "        if (posy < topkx) {\n",
    "          xoutidx[posy] = gid;\n",
    "        }\n",
    "      }\n",
    "\n",
    "      if (gid < topkx) {\n",
    "        float valx = xoutidx[gid];\n",
    "        uint posx = 0;\n",
    "        for (uint i = 0; i < topkx; i++) {\n",
    "          float tempval = xoutidx[i];\n",
    "          bool larger = tempval < valx;\n",
    "          posx += (larger)?1:0;\n",
    "        }\n",
    "        xoutidx[gid] = gid;\n",
    "      }\n",
    "\n",
    "      if (gid < topky) {\n",
    "        float valy = youtidx[gid];\n",
    "        uint posy = 0;\n",
    "        for (uint i = 0; i < topky; i++) {\n",
    "          float tempval = youtidx[i];\n",
    "          bool larger = tempval < valy;\n",
    "          posy += (larger)?1:0;\n",
    "        }\n",
    "        youtidx[gid] = gid;\n",
    "      }\n",
    "\n",
    "      // only calc matrix multiplications for used grads\n",
    "      ///////////////////////////////////////////////////\n",
    "      if (gid < isize) {\n",
    "        for (uint i=0; i<topkx; i++) {\n",
    "          matData[gid*topkx+i] = 0;\n",
    "          colIdx[gid*topkx+i] = 0;\n",
    "        }\n",
    "        rowNnz[gid] = 0;\n",
    "      }\n",
    "      if (gid < osize) {\n",
    "        for (uint i=0; i<topky; i++) {\n",
    "          matDatat[gid*topky+i] = 0;\n",
    "          colIdxt[gid*topky+i] = 0;\n",
    "        }\n",
    "        rowNnzt[gid] = 0;\n",
    "      }\n",
    "\n",
    "\n",
    "      if (gid < topkx) {\n",
    "        uint idxx = xoutidx[gid];\n",
    "        for (uint j=0; j<topky; j++) {\n",
    "          uint idxy = youtidx[j];\n",
    "          //printf(\"\\\\nIDXX:%i  IDXY:%i\", idxx, idxy);\n",
    "          for (uint k=0; k<msize; k++) {\n",
    "            uint xidx2 = isize*k+idxy;\n",
    "            uint yidx2 = osize*k+idxx;\n",
    "            uint colidx = idxy;\n",
    "            matDatat[idxx*topky+j] += x[xidx2] * y[yidx2];\n",
    "            colIdxt[idxx*topky+j] = idxy;\n",
    "            if (gid == 0)\n",
    "              printf(\"\\\\n ADD VAL:%.2f,%.2f - (%i,%i) - (%i,%i,%i)\", x[xidx2], y[yidx2], idxx, idxy, gid, j, k);\n",
    "          }\n",
    "          rowNnzt[idxx] += 1;\n",
    "        }\n",
    "      }\n",
    "      if (gid < topky) {\n",
    "        uint idxx = youtidx[gid];\n",
    "        for (uint j=0; j<topkx; j++) {\n",
    "          uint idxy = xoutidx[j];\n",
    "          //printf(\"\\\\nIDXX:%i  IDXY:%i\", idxx, idxy);\n",
    "          for (uint k=0; k<msize; k++) {\n",
    "            uint xidx2 = isize*k+idxx;\n",
    "            uint yidx2 = osize*k+idxy;\n",
    "            uint colidx = idxy;\n",
    "            matData[idxx*topkx+j] += x[xidx2] * y[yidx2];\n",
    "            colIdx[idxx*topkx+j] = idxy;\n",
    "            if (gid == 0)\n",
    "              printf(\"\\\\n ADD VAL:%.2f,%.2f - (%i,%i) - (%i,%i,%i)\", x[xidx2], y[yidx2], idxx, idxy, gid, j, k);\n",
    "          }\n",
    "          rowNnz[idxx] += 1;\n",
    "        }\n",
    "      }\n",
    "    }\"\"\").build()"
   ]
  },
  {
   "cell_type": "code",
   "execution_count": 274,
   "id": "2161871c",
   "metadata": {},
   "outputs": [
    {
     "data": {
      "text/plain": [
       "((8, 16), (16, 5))"
      ]
     },
     "execution_count": 274,
     "metadata": {},
     "output_type": "execute_result"
    }
   ],
   "source": [
    "a.shape, b.shape"
   ]
  },
  {
   "cell_type": "code",
   "execution_count": 275,
   "id": "05f25e30",
   "metadata": {},
   "outputs": [],
   "source": [
    "rows = a.shape[0]\n",
    "msize = a.shape[1]"
   ]
  },
  {
   "cell_type": "code",
   "execution_count": 276,
   "id": "9f83f34b",
   "metadata": {},
   "outputs": [],
   "source": [
    "cols = b.shape[1]"
   ]
  },
  {
   "cell_type": "code",
   "execution_count": 277,
   "id": "95394deb",
   "metadata": {},
   "outputs": [],
   "source": [
    "mult = a.dot(b)"
   ]
  },
  {
   "cell_type": "code",
   "execution_count": 278,
   "id": "8fc22dde",
   "metadata": {},
   "outputs": [],
   "source": [
    "mult = mult.astype(np.float32)"
   ]
  },
  {
   "cell_type": "code",
   "execution_count": 279,
   "id": "b290cb1a",
   "metadata": {},
   "outputs": [
    {
     "name": "stdout",
     "output_type": "stream",
     "text": [
      "\n",
      " ADD VAL:0.00,0.49 - (0,0) - (0,0,0)\n",
      " ADD VAL:0.68,0.66 - (0,0) - (0,0,1)\n",
      " ADD VAL:0.80,0.31 - (0,0) - (0,0,2)\n",
      " ADD VAL:0.00,0.00 - (0,0) - (0,0,3)\n",
      " ADD VAL:0.00,0.71 - (0,0) - (0,0,4)\n",
      " ADD VAL:0.00,0.00 - (0,0) - (0,0,5)\n",
      " ADD VAL:0.00,0.46 - (0,0) - (0,0,6)\n",
      " ADD VAL:0.08,0.00 - (0,0) - (0,0,7)\n",
      " ADD VAL:0.89,0.00 - (0,0) - (0,0,8)\n",
      " ADD VAL:0.00,0.00 - (0,0) - (0,0,9)\n",
      " ADD VAL:0.18,0.00 - (0,0) - (0,0,10)\n",
      " ADD VAL:0.00,0.00 - (0,0) - (0,0,11)\n",
      " ADD VAL:0.46,0.00 - (0,0) - (0,0,12)\n",
      " ADD VAL:0.00,0.00 - (0,0) - (0,0,13)\n",
      " ADD VAL:0.00,0.19 - (0,0) - (0,0,14)\n",
      " ADD VAL:0.00,0.73 - (0,0) - (0,0,15)\n",
      " ADD VAL:0.96,0.49 - (0,1) - (0,1,0)\n",
      " ADD VAL:0.55,0.66 - (0,1) - (0,1,1)\n",
      " ADD VAL:0.00,0.31 - (0,1) - (0,1,2)\n",
      " ADD VAL:0.00,0.00 - (0,1) - (0,1,3)\n",
      " ADD VAL:0.54,0.71 - (0,1) - (0,1,4)\n",
      " ADD VAL:0.00,0.00 - (0,1) - (0,1,5)\n",
      " ADD VAL:0.00,0.46 - (0,1) - (0,1,6)\n",
      " ADD VAL:0.00,0.00 - (0,1) - (0,1,7)\n",
      " ADD VAL:0.00,0.00 - (0,1) - (0,1,8)\n",
      " ADD VAL:0.00,0.00 - (0,1) - (0,1,9)\n",
      " ADD VAL:0.00,0.00 - (0,1) - (0,1,10)\n",
      " ADD VAL:0.20,0.00 - (0,1) - (0,1,11)\n",
      " ADD VAL:0.36,0.00 - (0,1) - (0,1,12)\n",
      " ADD VAL:0.00,0.00 - (0,1) - (0,1,13)\n",
      " ADD VAL:0.00,0.19 - (0,1) - (0,1,14)\n",
      " ADD VAL:0.92,0.73 - (0,1) - (0,1,15)\n",
      " ADD VAL:0.00,0.49 - (0,2) - (0,2,0)\n",
      " ADD VAL:0.20,0.66 - (0,2) - (0,2,1)\n",
      " ADD VAL:0.00,0.31 - (0,2) - (0,2,2)\n",
      " ADD VAL:0.00,0.00 - (0,2) - (0,2,3)\n",
      " ADD VAL:0.00,0.71 - (0,2) - (0,2,4)\n",
      " ADD VAL:0.74,0.00 - (0,2) - (0,2,5)\n",
      " ADD VAL:0.00,0.46 - (0,2) - (0,2,6)\n",
      " ADD VAL:0.00,0.00 - (0,2) - (0,2,7)\n",
      " ADD VAL:0.00,0.00 - (0,2) - (0,2,8)\n",
      " ADD VAL:0.58,0.00 - (0,2) - (0,2,9)\n",
      " ADD VAL:0.00,0.00 - (0,2) - (0,2,10)\n",
      " ADD VAL:0.05,0.00 - (0,2) - (0,2,11)\n",
      " ADD VAL:0.00,0.00 - (0,2) - (0,2,12)\n",
      " ADD VAL:0.59,0.00 - (0,2) - (0,2,13)\n",
      " ADD VAL:0.18,0.19 - (0,2) - (0,2,14)\n",
      " ADD VAL:0.00,0.73 - (0,2) - (0,2,15)\n",
      " ADD VAL:0.00,0.49 - (0,3) - (0,3,0)\n",
      " ADD VAL:0.00,0.66 - (0,3) - (0,3,1)\n",
      " ADD VAL:0.00,0.31 - (0,3) - (0,3,2)\n",
      " ADD VAL:0.14,0.00 - (0,3) - (0,3,3)\n",
      " ADD VAL:0.91,0.71 - (0,3) - (0,3,4)\n",
      " ADD VAL:0.03,0.00 - (0,3) - (0,3,5)\n",
      " ADD VAL:0.00,0.46 - (0,3) - (0,3,6)\n",
      " ADD VAL:0.71,0.00 - (0,3) - (0,3,7)\n",
      " ADD VAL:0.00,0.00 - (0,3) - (0,3,8)\n",
      " ADD VAL:0.00,0.00 - (0,3) - (0,3,9)\n",
      " ADD VAL:0.00,0.00 - (0,3) - (0,3,10)\n",
      " ADD VAL:0.00,0.00 - (0,3) - (0,3,11)\n",
      " ADD VAL:0.74,0.00 - (0,3) - (0,3,12)\n",
      " ADD VAL:0.00,0.00 - (0,3) - (0,3,13)\n",
      " ADD VAL:0.00,0.19 - (0,3) - (0,3,14)\n",
      " ADD VAL:0.67,0.73 - (0,3) - (0,3,15)\n",
      " ADD VAL:0.00,0.49 - (0,4) - (0,4,0)\n",
      " ADD VAL:0.00,0.66 - (0,4) - (0,4,1)\n",
      " ADD VAL:0.00,0.31 - (0,4) - (0,4,2)\n",
      " ADD VAL:0.60,0.00 - (0,4) - (0,4,3)\n",
      " ADD VAL:0.00,0.71 - (0,4) - (0,4,4)\n",
      " ADD VAL:0.00,0.00 - (0,4) - (0,4,5)\n",
      " ADD VAL:0.00,0.46 - (0,4) - (0,4,6)\n",
      " ADD VAL:0.92,0.00 - (0,4) - (0,4,7)\n",
      " ADD VAL:0.00,0.00 - (0,4) - (0,4,8)\n",
      " ADD VAL:0.16,0.00 - (0,4) - (0,4,9)\n",
      " ADD VAL:0.00,0.00 - (0,4) - (0,4,10)\n",
      " ADD VAL:0.17,0.00 - (0,4) - (0,4,11)\n",
      " ADD VAL:0.00,0.00 - (0,4) - (0,4,12)\n",
      " ADD VAL:0.00,0.00 - (0,4) - (0,4,13)\n",
      " ADD VAL:0.76,0.19 - (0,4) - (0,4,14)\n",
      " ADD VAL:0.49,0.73 - (0,4) - (0,4,15)\n",
      " ADD VAL:0.11,0.49 - (0,5) - (0,5,0)\n",
      " ADD VAL:0.83,0.66 - (0,5) - (0,5,1)\n",
      " ADD VAL:0.00,0.31 - (0,5) - (0,5,2)\n",
      " ADD VAL:0.00,0.00 - (0,5) - (0,5,3)\n",
      " ADD VAL:0.00,0.71 - (0,5) - (0,5,4)\n",
      " ADD VAL:0.28,0.00 - (0,5) - (0,5,5)\n",
      " ADD VAL:0.00,0.46 - (0,5) - (0,5,6)\n",
      " ADD VAL:0.25,0.00 - (0,5) - (0,5,7)\n",
      " ADD VAL:0.00,0.00 - (0,5) - (0,5,8)\n",
      " ADD VAL:0.00,0.00 - (0,5) - (0,5,9)\n",
      " ADD VAL:0.83,0.00 - (0,5) - (0,5,10)\n",
      " ADD VAL:0.10,0.00 - (0,5) - (0,5,11)\n",
      " ADD VAL:0.00,0.00 - (0,5) - (0,5,12)\n",
      " ADD VAL:0.00,0.00 - (0,5) - (0,5,13)\n",
      " ADD VAL:0.00,0.19 - (0,5) - (0,5,14)\n",
      " ADD VAL:0.00,0.73 - (0,5) - (0,5,15)\n",
      " ADD VAL:0.29,0.49 - (0,6) - (0,6,0)\n",
      " ADD VAL:0.05,0.66 - (0,6) - (0,6,1)\n",
      " ADD VAL:0.00,0.31 - (0,6) - (0,6,2)\n",
      " ADD VAL:0.65,0.00 - (0,6) - (0,6,3)\n",
      " ADD VAL:0.00,0.71 - (0,6) - (0,6,4)\n",
      " ADD VAL:0.33,0.00 - (0,6) - (0,6,5)\n",
      " ADD VAL:0.00,0.46 - (0,6) - (0,6,6)\n",
      " ADD VAL:0.00,0.00 - (0,6) - (0,6,7)\n",
      " ADD VAL:0.00,0.00 - (0,6) - (0,6,8)\n",
      " ADD VAL:0.00,0.00 - (0,6) - (0,6,9)\n",
      " ADD VAL:0.00,0.00 - (0,6) - (0,6,10)\n",
      " ADD VAL:0.00,0.00 - (0,6) - (0,6,11)\n",
      " ADD VAL:0.84,0.00 - (0,6) - (0,6,12)\n",
      " ADD VAL:0.01,0.00 - (0,6) - (0,6,13)\n",
      " ADD VAL:0.00,0.19 - (0,6) - (0,6,14)\n",
      " ADD VAL:0.00,0.73 - (0,6) - (0,6,15)\n",
      " ADD VAL:0.68,0.49 - (0,7) - (0,7,0)\n",
      " ADD VAL:0.00,0.66 - (0,7) - (0,7,1)\n",
      " ADD VAL:0.00,0.31 - (0,7) - (0,7,2)\n",
      " ADD VAL:0.36,0.00 - (0,7) - (0,7,3)\n",
      " ADD VAL:0.00,0.71 - (0,7) - (0,7,4)\n",
      " ADD VAL:0.00,0.00 - (0,7) - (0,7,5)\n",
      " ADD VAL:0.70,0.46 - (0,7) - (0,7,6)\n",
      " ADD VAL:0.00,0.00 - (0,7) - (0,7,7)\n",
      " ADD VAL:0.68,0.00 - (0,7) - (0,7,8)\n",
      " ADD VAL:0.00,0.00 - (0,7) - (0,7,9)\n",
      " ADD VAL:0.00,0.00 - (0,7) - (0,7,10)\n",
      " ADD VAL:0.12,0.00 - (0,7) - (0,7,11)\n",
      " ADD VAL:0.00,0.00 - (0,7) - (0,7,12)\n",
      " ADD VAL:0.00,0.00 - (0,7) - (0,7,13)\n",
      " ADD VAL:0.00,0.19 - (0,7) - (0,7,14)\n",
      " ADD VAL:0.09,0.73 - (0,7) - (0,7,15)\n",
      " ADD VAL:0.00,0.49 - (0,0) - (0,0,0)\n",
      " ADD VAL:0.68,0.66 - (0,0) - (0,0,1)\n",
      " ADD VAL:0.80,0.31 - (0,0) - (0,0,2)\n",
      " ADD VAL:0.00,0.00 - (0,0) - (0,0,3)\n",
      " ADD VAL:0.00,0.71 - (0,0) - (0,0,4)\n",
      " ADD VAL:0.00,0.00 - (0,0) - (0,0,5)\n",
      " ADD VAL:0.00,0.46 - (0,0) - (0,0,6)\n",
      " ADD VAL:0.08,0.00 - (0,0) - (0,0,7)\n",
      " ADD VAL:0.89,0.00 - (0,0) - (0,0,8)\n",
      " ADD VAL:0.00,0.00 - (0,0) - (0,0,9)\n",
      " ADD VAL:0.18,0.00 - (0,0) - (0,0,10)\n",
      " ADD VAL:0.00,0.00 - (0,0) - (0,0,11)\n",
      " ADD VAL:0.46,0.00 - (0,0) - (0,0,12)\n",
      " ADD VAL:0.00,0.00 - (0,0) - (0,0,13)\n",
      " ADD VAL:0.00,0.19 - (0,0) - (0,0,14)\n",
      " ADD VAL:0.00,0.73 - (0,0) - (0,0,15)\n",
      " ADD VAL:0.00,0.00 - (0,1) - (0,1,0)\n",
      " ADD VAL:0.68,0.00 - (0,1) - (0,1,1)\n",
      " ADD VAL:0.80,0.00 - (0,1) - (0,1,2)\n",
      " ADD VAL:0.00,0.47 - (0,1) - (0,1,3)\n",
      " ADD VAL:0.00,0.00 - (0,1) - (0,1,4)\n",
      " ADD VAL:0.00,0.00 - (0,1) - (0,1,5)\n",
      " ADD VAL:0.00,0.00 - (0,1) - (0,1,6)\n",
      " ADD VAL:0.08,0.34 - (0,1) - (0,1,7)\n",
      " ADD VAL:0.89,0.00 - (0,1) - (0,1,8)\n",
      " ADD VAL:0.00,0.77 - (0,1) - (0,1,9)\n",
      " ADD VAL:0.18,0.72 - (0,1) - (0,1,10)\n",
      " ADD VAL:0.00,0.92 - (0,1) - (0,1,11)\n",
      " ADD VAL:0.46,0.00 - (0,1) - (0,1,12)\n",
      " ADD VAL:0.00,0.00 - (0,1) - (0,1,13)\n",
      " ADD VAL:0.00,0.12 - (0,1) - (0,1,14)\n",
      " ADD VAL:0.00,0.00 - (0,1) - (0,1,15)\n",
      " ADD VAL:0.00,0.46 - (0,2) - (0,2,0)\n",
      " ADD VAL:0.68,0.98 - (0,2) - (0,2,1)\n",
      " ADD VAL:0.80,0.03 - (0,2) - (0,2,2)\n",
      " ADD VAL:0.00,0.00 - (0,2) - (0,2,3)\n",
      " ADD VAL:0.00,0.59 - (0,2) - (0,2,4)\n",
      " ADD VAL:0.00,0.85 - (0,2) - (0,2,5)\n",
      " ADD VAL:0.00,0.00 - (0,2) - (0,2,6)\n",
      " ADD VAL:0.08,0.77 - (0,2) - (0,2,7)\n",
      " ADD VAL:0.89,0.99 - (0,2) - (0,2,8)\n",
      " ADD VAL:0.00,0.32 - (0,2) - (0,2,9)\n",
      " ADD VAL:0.18,0.00 - (0,2) - (0,2,10)\n",
      " ADD VAL:0.00,0.00 - (0,2) - (0,2,11)\n",
      " ADD VAL:0.46,0.00 - (0,2) - (0,2,12)\n",
      " ADD VAL:0.00,0.67 - (0,2) - (0,2,13)\n",
      " ADD VAL:0.00,0.00 - (0,2) - (0,2,14)\n",
      " ADD VAL:0.00,0.12 - (0,2) - (0,2,15)\n",
      " ADD VAL:0.00,0.00 - (0,3) - (0,3,0)\n",
      " ADD VAL:0.68,0.00 - (0,3) - (0,3,1)\n",
      " ADD VAL:0.80,0.00 - (0,3) - (0,3,2)\n",
      " ADD VAL:0.00,0.00 - (0,3) - (0,3,3)\n",
      " ADD VAL:0.00,0.00 - (0,3) - (0,3,4)\n",
      " ADD VAL:0.00,0.59 - (0,3) - (0,3,5)\n",
      " ADD VAL:0.00,0.00 - (0,3) - (0,3,6)\n",
      " ADD VAL:0.08,0.00 - (0,3) - (0,3,7)\n",
      " ADD VAL:0.89,0.00 - (0,3) - (0,3,8)\n",
      " ADD VAL:0.00,0.00 - (0,3) - (0,3,9)\n",
      " ADD VAL:0.18,0.82 - (0,3) - (0,3,10)\n",
      " ADD VAL:0.00,0.79 - (0,3) - (0,3,11)\n",
      " ADD VAL:0.46,0.40 - (0,3) - (0,3,12)\n",
      " ADD VAL:0.00,0.49 - (0,3) - (0,3,13)\n",
      " ADD VAL:0.00,0.00 - (0,3) - (0,3,14)\n",
      " ADD VAL:0.00,0.00 - (0,3) - (0,3,15)\n",
      " ADD VAL:0.00,0.00 - (0,4) - (0,4,0)\n",
      " ADD VAL:0.68,0.00 - (0,4) - (0,4,1)\n",
      " ADD VAL:0.80,0.00 - (0,4) - (0,4,2)\n",
      " ADD VAL:0.00,0.03 - (0,4) - (0,4,3)\n",
      " ADD VAL:0.00,0.00 - (0,4) - (0,4,4)\n",
      " ADD VAL:0.00,0.00 - (0,4) - (0,4,5)\n",
      " ADD VAL:0.00,0.94 - (0,4) - (0,4,6)\n",
      " ADD VAL:0.08,0.00 - (0,4) - (0,4,7)\n",
      " ADD VAL:0.89,0.25 - (0,4) - (0,4,8)\n",
      " ADD VAL:0.00,0.00 - (0,4) - (0,4,9)\n",
      " ADD VAL:0.18,0.00 - (0,4) - (0,4,10)\n",
      " ADD VAL:0.00,0.00 - (0,4) - (0,4,11)\n",
      " ADD VAL:0.46,0.84 - (0,4) - (0,4,12)\n",
      " ADD VAL:0.00,0.00 - (0,4) - (0,4,13)\n",
      " ADD VAL:0.00,0.00 - (0,4) - (0,4,14)\n",
      " ADD VAL:0.00,0.00 - (0,4) - (0,4,15)"
     ]
    }
   ],
   "source": [
    "res_buf = cl.Buffer(ctx, mf.READ_WRITE, np.prod([rows,b.shape[1]])*4)\n",
    "knl = prg.genwupdate4  # Use this Kernel object for repeate/duald calls\n",
    "evt = knl(queue, [max(rows,cols)], None, a_buf, b_buf, x_sum_buf, y_sum_buf, np.uint32(rows), np.uint32(msize),np.uint32(cols), \n",
    "          np.uint32(topkx),np.uint32(topky), x_idx_buf, y_idx_buf, sdata_buf, sidxs_buf, snnzs_buf, sdatat_buf, sidxst_buf, snnzst_buf)"
   ]
  },
  {
   "cell_type": "code",
   "execution_count": 280,
   "id": "be3450f0",
   "metadata": {},
   "outputs": [
    {
     "data": {
      "text/plain": [
       "<pyopencl._cl.NannyEvent at 0x7f5a642f5c70>"
      ]
     },
     "execution_count": 280,
     "metadata": {},
     "output_type": "execute_result"
    }
   ],
   "source": [
    "resxsum = np.zeros(a.shape[0]).astype(np.float32)\n",
    "resysum = np.zeros(b.shape[1]).astype(np.float32)\n",
    "resxidx = np.zeros(topkx).astype(np.uint32)\n",
    "resyidx = np.zeros(topky).astype(np.uint32)\n",
    "resxdat = np.zeros(a.shape[0]*topkx).astype(np.float32)\n",
    "resxcol = np.zeros(a.shape[0]*topkx).astype(np.uint32)\n",
    "resxnnz = np.zeros(a.shape[0]).astype(np.uint32)\n",
    "resxdatt = np.zeros(b.shape[1]*topky).astype(np.float32)\n",
    "resxcolt = np.zeros(b.shape[1]*topky).astype(np.uint32)\n",
    "resxnnzt = np.zeros(b.shape[1]).astype(np.uint32)\n",
    "\n",
    "cl.enqueue_copy(queue, resxsum, x_sum_buf)\n",
    "cl.enqueue_copy(queue, resysum, y_sum_buf)\n",
    "cl.enqueue_copy(queue, resxidx, x_idx_buf)\n",
    "cl.enqueue_copy(queue, resyidx, y_idx_buf)\n",
    "cl.enqueue_copy(queue, resxdat, sdata_buf)\n",
    "cl.enqueue_copy(queue, resxcol, sidxs_buf)\n",
    "cl.enqueue_copy(queue, resxnnz, snnzs_buf)\n",
    "cl.enqueue_copy(queue, resxdatt, sdatat_buf)\n",
    "cl.enqueue_copy(queue, resxcolt, sidxst_buf)\n",
    "cl.enqueue_copy(queue, resxnnzt, snnzst_buf)"
   ]
  },
  {
   "cell_type": "markdown",
   "id": "dea93e80",
   "metadata": {},
   "source": [
    "## results"
   ]
  },
  {
   "cell_type": "code",
   "execution_count": 281,
   "id": "9766b1de",
   "metadata": {},
   "outputs": [
    {
     "data": {
      "text/plain": [
       "(5, 8)"
      ]
     },
     "execution_count": 281,
     "metadata": {},
     "output_type": "execute_result"
    }
   ],
   "source": [
    "topkx, topky"
   ]
  },
  {
   "cell_type": "code",
   "execution_count": 282,
   "id": "0720afd1",
   "metadata": {},
   "outputs": [
    {
     "data": {
      "text/plain": [
       "(8, 5)"
      ]
     },
     "execution_count": 282,
     "metadata": {},
     "output_type": "execute_result"
    }
   ],
   "source": [
    "mult.shape"
   ]
  },
  {
   "cell_type": "code",
   "execution_count": 283,
   "id": "50b4656b",
   "metadata": {},
   "outputs": [
    {
     "data": {
      "text/plain": [
       "array([[0.6996368 , 0.15550727, 1.6236207 , 0.3340667 , 0.61331564],\n",
       "       [1.8848312 , 0.18735047, 1.4160932 , 0.30414024, 0.29892322],\n",
       "       [0.16573755, 0.51614475, 1.40742   , 0.7711447 , 0.        ],\n",
       "       [1.130233  , 0.31159392, 1.1950791 , 0.32051137, 0.6311476 ],\n",
       "       [0.49532753, 0.9677906 , 0.8187757 , 0.1351769 , 0.01893103],\n",
       "       [0.60025734, 0.7728439 , 1.2898692 , 0.9285497 , 0.        ],\n",
       "       [0.17482497, 0.30367106, 0.47157714, 0.544282  , 0.7309462 ],\n",
       "       [0.7240762 , 0.27932334, 0.99110806, 0.09674796, 0.8390946 ]],\n",
       "      dtype=float32)"
      ]
     },
     "execution_count": 283,
     "metadata": {},
     "output_type": "execute_result"
    }
   ],
   "source": [
    "mult"
   ]
  },
  {
   "cell_type": "code",
   "execution_count": 284,
   "id": "2bac1009",
   "metadata": {},
   "outputs": [
    {
     "data": {
      "text/plain": [
       "array([[0.6996368 , 0.15550727, 1.6236207 , 0.3340667 , 0.61331564],\n",
       "       [1.8848312 , 0.18735047, 1.4160932 , 0.30414024, 0.29892322],\n",
       "       [0.16573755, 0.51614475, 1.40742   , 0.7711447 , 0.        ],\n",
       "       [1.130233  , 0.31159392, 1.1950791 , 0.32051137, 0.6311476 ],\n",
       "       [0.49532753, 0.9677906 , 0.8187757 , 0.1351769 , 0.01893103],\n",
       "       [0.60025734, 0.7728439 , 1.2898692 , 0.9285497 , 0.        ],\n",
       "       [0.17482497, 0.30367106, 0.47157714, 0.544282  , 0.7309462 ],\n",
       "       [0.7240762 , 0.27932334, 0.99110806, 0.09674796, 0.8390946 ]],\n",
       "      dtype=float32)"
      ]
     },
     "execution_count": 284,
     "metadata": {},
     "output_type": "execute_result"
    }
   ],
   "source": [
    "resxdatt.reshape(b.shape[1],topky).T"
   ]
  },
  {
   "cell_type": "code",
   "execution_count": 285,
   "id": "c654a52b",
   "metadata": {},
   "outputs": [
    {
     "data": {
      "text/plain": [
       "array([[0, 1, 2, 3, 4],\n",
       "       [0, 1, 2, 3, 4],\n",
       "       [0, 1, 2, 3, 4],\n",
       "       [0, 1, 2, 3, 4],\n",
       "       [0, 1, 2, 3, 4],\n",
       "       [0, 1, 2, 3, 4],\n",
       "       [0, 1, 2, 3, 4],\n",
       "       [0, 1, 2, 3, 4]], dtype=uint32)"
      ]
     },
     "execution_count": 285,
     "metadata": {},
     "output_type": "execute_result"
    }
   ],
   "source": [
    "resxcol.reshape(a.shape[0],topkx)"
   ]
  },
  {
   "cell_type": "code",
   "execution_count": 286,
   "id": "25673d3c",
   "metadata": {},
   "outputs": [
    {
     "data": {
      "text/plain": [
       "array([5, 5, 5, 5, 5, 5, 5, 5], dtype=uint32)"
      ]
     },
     "execution_count": 286,
     "metadata": {},
     "output_type": "execute_result"
    }
   ],
   "source": [
    "resxnnz.reshape(a.shape[0])"
   ]
  },
  {
   "cell_type": "code",
   "execution_count": 287,
   "id": "7fb50f87",
   "metadata": {},
   "outputs": [
    {
     "data": {
      "text/plain": [
       "array([[0.6996368 , 1.8848312 , 0.16573755, 1.130233  , 0.49532753,\n",
       "        0.60025734, 0.17482497, 0.7240762 ],\n",
       "       [0.15550727, 0.18735047, 0.51614475, 0.31159392, 0.9677906 ,\n",
       "        0.7728439 , 0.30367106, 0.27932334],\n",
       "       [1.6236207 , 1.4160932 , 1.40742   , 1.1950791 , 0.8187757 ,\n",
       "        1.2898692 , 0.47157714, 0.99110806],\n",
       "       [0.3340667 , 0.30414024, 0.7711447 , 0.32051137, 0.1351769 ,\n",
       "        0.9285497 , 0.544282  , 0.09674796],\n",
       "       [0.61331564, 0.29892322, 0.        , 0.6311476 , 0.01893103,\n",
       "        0.        , 0.7309462 , 0.8390946 ]], dtype=float32)"
      ]
     },
     "execution_count": 287,
     "metadata": {},
     "output_type": "execute_result"
    }
   ],
   "source": [
    "resxdatt.reshape(b.shape[1],topky)"
   ]
  },
  {
   "cell_type": "code",
   "execution_count": 288,
   "id": "e7f50303",
   "metadata": {},
   "outputs": [
    {
     "data": {
      "text/plain": [
       "array([[0, 1, 2, 3, 4, 5, 6, 7],\n",
       "       [0, 1, 2, 3, 4, 5, 6, 7],\n",
       "       [0, 1, 2, 3, 4, 5, 6, 7],\n",
       "       [0, 1, 2, 3, 4, 5, 6, 7],\n",
       "       [0, 1, 2, 3, 4, 5, 6, 7]], dtype=uint32)"
      ]
     },
     "execution_count": 288,
     "metadata": {},
     "output_type": "execute_result"
    }
   ],
   "source": [
    "resxcolt.reshape(b.shape[1],topky)"
   ]
  },
  {
   "cell_type": "code",
   "execution_count": 289,
   "id": "8ceb2165",
   "metadata": {},
   "outputs": [
    {
     "data": {
      "text/plain": [
       "array([8, 8, 8, 8, 8], dtype=uint32)"
      ]
     },
     "execution_count": 289,
     "metadata": {},
     "output_type": "execute_result"
    }
   ],
   "source": [
    "resxnnzt.reshape(b.shape[1])"
   ]
  },
  {
   "cell_type": "code",
   "execution_count": 290,
   "id": "504b6134",
   "metadata": {},
   "outputs": [
    {
     "data": {
      "text/plain": [
       "array([[0.69963682, 0.15550727, 1.62362075, 0.33406669, 0.61331564],\n",
       "       [1.88483119, 0.18735047, 1.41609323, 0.30414024, 0.29892322],\n",
       "       [0.16573755, 0.51614475, 1.40742004, 0.77114469, 0.        ],\n",
       "       [1.13023305, 0.31159392, 1.19507909, 0.32051137, 0.63114762],\n",
       "       [0.49532753, 0.9677906 , 0.81877571, 0.1351769 , 0.01893103],\n",
       "       [0.60025734, 0.7728439 , 1.28986919, 0.92854971, 0.        ],\n",
       "       [0.17482497, 0.30367106, 0.47157714, 0.54428202, 0.73094618],\n",
       "       [0.72407621, 0.27932334, 0.99110806, 0.09674796, 0.83909458]])"
      ]
     },
     "execution_count": 290,
     "metadata": {},
     "output_type": "execute_result"
    }
   ],
   "source": [
    "resdense = to_dense(resxdat, resxcol, resxnnz, topkx, mult.shape)\n",
    "resdense"
   ]
  },
  {
   "cell_type": "code",
   "execution_count": 291,
   "id": "9623d03b",
   "metadata": {},
   "outputs": [
    {
     "data": {
      "text/plain": [
       "array([[0.69963682, 1.88483119, 0.16573755, 1.13023305, 0.49532753,\n",
       "        0.60025734, 0.17482497, 0.72407621],\n",
       "       [0.15550727, 0.18735047, 0.51614475, 0.31159392, 0.9677906 ,\n",
       "        0.7728439 , 0.30367106, 0.27932334],\n",
       "       [1.62362075, 1.41609323, 1.40742004, 1.19507909, 0.81877571,\n",
       "        1.28986919, 0.47157714, 0.99110806],\n",
       "       [0.33406669, 0.30414024, 0.77114469, 0.32051137, 0.1351769 ,\n",
       "        0.92854971, 0.54428202, 0.09674796],\n",
       "       [0.61331564, 0.29892322, 0.        , 0.63114762, 0.01893103,\n",
       "        0.        , 0.73094618, 0.83909458]])"
      ]
     },
     "execution_count": 291,
     "metadata": {},
     "output_type": "execute_result"
    }
   ],
   "source": [
    "resdenset = to_dense(resxdatt, resxcolt, resxnnzt, topky, mult.T.shape)\n",
    "resdenset"
   ]
  },
  {
   "cell_type": "code",
   "execution_count": 292,
   "id": "df7e3ca8",
   "metadata": {},
   "outputs": [
    {
     "data": {
      "text/plain": [
       "array([[ True,  True,  True,  True,  True],\n",
       "       [ True,  True,  True,  True,  True],\n",
       "       [ True,  True,  True,  True,  True],\n",
       "       [ True,  True,  True,  True,  True],\n",
       "       [ True,  True,  True,  True,  True],\n",
       "       [ True,  True,  True,  True,  True],\n",
       "       [ True,  True,  True,  True,  True],\n",
       "       [ True,  True,  True,  True,  True]])"
      ]
     },
     "execution_count": 292,
     "metadata": {},
     "output_type": "execute_result"
    }
   ],
   "source": [
    "resdense == resdenset.T"
   ]
  },
  {
   "cell_type": "markdown",
   "id": "ea6111fe",
   "metadata": {},
   "source": [
    "## comp"
   ]
  },
  {
   "cell_type": "code",
   "execution_count": 293,
   "id": "e774d6a9",
   "metadata": {},
   "outputs": [
    {
     "data": {
      "text/plain": [
       "array([3.0937524, 3.5246177, 2.3468003, 3.2115116, 3.102983 , 2.4004393,\n",
       "       2.1758807, 2.6182923], dtype=float32)"
      ]
     },
     "execution_count": 293,
     "metadata": {},
     "output_type": "execute_result"
    }
   ],
   "source": [
    "resxsum"
   ]
  },
  {
   "cell_type": "code",
   "execution_count": 294,
   "id": "0a7a1435",
   "metadata": {},
   "outputs": [
    {
     "data": {
      "text/plain": [
       "array([3.0937524, 3.5246177, 2.3468003, 3.2115116, 3.102983 , 2.4004393,\n",
       "       2.1758807, 2.6182923], dtype=float32)"
      ]
     },
     "execution_count": 294,
     "metadata": {},
     "output_type": "execute_result"
    }
   ],
   "source": [
    "a.sum(axis=1)"
   ]
  },
  {
   "cell_type": "code",
   "execution_count": 295,
   "id": "eb6d9343",
   "metadata": {},
   "outputs": [
    {
     "data": {
      "text/plain": [
       "array([3.5506585, 3.3332088, 5.77045  , 3.095629 , 2.0694818],\n",
       "      dtype=float32)"
      ]
     },
     "execution_count": 295,
     "metadata": {},
     "output_type": "execute_result"
    }
   ],
   "source": [
    "resysum"
   ]
  },
  {
   "cell_type": "code",
   "execution_count": 296,
   "id": "43b77cf4",
   "metadata": {},
   "outputs": [
    {
     "data": {
      "text/plain": [
       "array([3.5506585, 3.3332088, 5.77045  , 3.095629 , 2.0694818],\n",
       "      dtype=float32)"
      ]
     },
     "execution_count": 296,
     "metadata": {},
     "output_type": "execute_result"
    }
   ],
   "source": [
    "b.sum(axis=0)"
   ]
  },
  {
   "cell_type": "code",
   "execution_count": 297,
   "id": "c251ffa3",
   "metadata": {},
   "outputs": [
    {
     "data": {
      "text/plain": [
       "array([[0.6996368 , 0.15550727, 1.6236207 , 0.3340667 , 0.61331564],\n",
       "       [1.8848312 , 0.18735047, 1.4160932 , 0.30414024, 0.29892322],\n",
       "       [0.16573755, 0.51614475, 1.40742   , 0.7711447 , 0.        ],\n",
       "       [1.130233  , 0.31159392, 1.1950791 , 0.32051137, 0.6311476 ],\n",
       "       [0.49532753, 0.9677906 , 0.8187757 , 0.1351769 , 0.01893103],\n",
       "       [0.60025734, 0.7728439 , 1.2898692 , 0.9285497 , 0.        ],\n",
       "       [0.17482497, 0.30367106, 0.47157714, 0.544282  , 0.7309462 ],\n",
       "       [0.7240762 , 0.27932334, 0.99110806, 0.09674796, 0.8390946 ]],\n",
       "      dtype=float32)"
      ]
     },
     "execution_count": 297,
     "metadata": {},
     "output_type": "execute_result"
    }
   ],
   "source": [
    "mult"
   ]
  },
  {
   "cell_type": "code",
   "execution_count": 298,
   "id": "fd0e6415",
   "metadata": {},
   "outputs": [
    {
     "data": {
      "text/plain": [
       "array([0, 1, 2, 3, 4], dtype=uint32)"
      ]
     },
     "execution_count": 298,
     "metadata": {},
     "output_type": "execute_result"
    }
   ],
   "source": [
    "resxidx"
   ]
  },
  {
   "cell_type": "code",
   "execution_count": 299,
   "id": "9ebf61ae",
   "metadata": {},
   "outputs": [
    {
     "data": {
      "text/plain": [
       "array([0, 1, 2, 3, 4, 5, 6, 7], dtype=uint32)"
      ]
     },
     "execution_count": 299,
     "metadata": {},
     "output_type": "execute_result"
    }
   ],
   "source": [
    "resyidx"
   ]
  },
  {
   "cell_type": "code",
   "execution_count": 300,
   "id": "32e30a93",
   "metadata": {},
   "outputs": [
    {
     "ename": "NameError",
     "evalue": "name 'asdf' is not defined",
     "output_type": "error",
     "traceback": [
      "\u001b[0;31m---------------------------------------------------------------------------\u001b[0m",
      "\u001b[0;31mNameError\u001b[0m                                 Traceback (most recent call last)",
      "\u001b[0;32m/tmp/ipykernel_2109/2827374946.py\u001b[0m in \u001b[0;36m<module>\u001b[0;34m\u001b[0m\n\u001b[0;32m----> 1\u001b[0;31m \u001b[0masdf\u001b[0m\u001b[0;34m\u001b[0m\u001b[0;34m\u001b[0m\u001b[0m\n\u001b[0m",
      "\u001b[0;31mNameError\u001b[0m: name 'asdf' is not defined"
     ]
    }
   ],
   "source": [
    "asdf"
   ]
  },
  {
   "cell_type": "markdown",
   "id": "6f378424",
   "metadata": {},
   "source": [
    "## Weight update kernel new3 (sparse ouput)"
   ]
  },
  {
   "cell_type": "code",
   "execution_count": 301,
   "id": "4aa1598c",
   "metadata": {},
   "outputs": [],
   "source": [
    "c=np.zeros(a.T.shape)\n",
    "at = a.T\n",
    "for row in range(at.shape[0]):\n",
    "    for col in range(at.shape[1]):\n",
    "        c[row][col] = at[row][col]"
   ]
  },
  {
   "cell_type": "code",
   "execution_count": 302,
   "id": "fc79360c",
   "metadata": {},
   "outputs": [],
   "source": [
    "a_buf = cl.Buffer(ctx, mf.READ_WRITE | mf.COPY_HOST_PTR, hostbuf=c.astype(np.float32))\n",
    "b_buf = cl.Buffer(ctx, mf.READ_WRITE | mf.COPY_HOST_PTR, hostbuf=b)\n",
    "x_sum_buf = cl.Buffer(ctx, mf.WRITE_ONLY, a.shape[0]*4)\n",
    "y_sum_buf = cl.Buffer(ctx, mf.WRITE_ONLY, b.shape[1]*4)\n",
    "x_idx_buf = cl.Buffer(ctx, mf.WRITE_ONLY, topkx*4)\n",
    "y_idx_buf = cl.Buffer(ctx, mf.WRITE_ONLY, topky*4)\n",
    "sdata_buf = cl.Buffer(ctx, mf.READ_WRITE, a.shape[0]*topkx*4)\n",
    "sidxs_buf = cl.Buffer(ctx, mf.READ_WRITE, a.shape[0]*topkx*4)\n",
    "snnzs_buf = cl.Buffer(ctx, mf.READ_WRITE, a.shape[0]*4)\n",
    "sdatat_buf = cl.Buffer(ctx, mf.READ_WRITE, b.shape[1]*topky*4)\n",
    "sidxst_buf = cl.Buffer(ctx, mf.READ_WRITE, b.shape[1]*topky*4)\n",
    "snnzst_buf = cl.Buffer(ctx, mf.READ_WRITE, b.shape[1]*4)\n",
    "\n",
    "prg = cl.Program(ctx, \"\"\"\n",
    "    // sorts x and y in ascending order and returns sorted indices\n",
    "    __kernel void genwupdate4(__global  float* x,     // INPUT MATRIX DATA\n",
    "                              __global  float* y,    // INPUT\n",
    "                              __global  float* xsum,    // INPUT\n",
    "                              __global  float* ysum,    // INPUT\n",
    "                              uint isize,\n",
    "                              uint msize,\n",
    "                              uint osize,\n",
    "                              uint topkx,\n",
    "                              uint topky,\n",
    "                              __global  uint*  xoutidx,\n",
    "                              __global  uint*  youtidx,\n",
    "                              __global  float* matData,     // OUTPUT MATRIX DATA\n",
    "                              __global  uint*  colIdx,\n",
    "                              __global  uint*  rowNnz,\n",
    "                              __global  float* matDatat,    // OUTPUT MATRIX DATA\n",
    "                              __global  uint*  colIdxt,\n",
    "                              __global  uint*  rowNnzt\n",
    "                              ) {\n",
    "      uint gid = get_global_id(0);\n",
    "\n",
    "      // get for a: sum axis0  b: sum axis1 then get topk\n",
    "      ///////////////////////////////////////////////////\n",
    "      if (gid < isize) {\n",
    "        xsum[gid] = 0;\n",
    "        for (uint i=0; i<msize; i++) {\n",
    "          float val = x[i*isize+gid];\n",
    "          //if (gid == 0) {\n",
    "          //  printf(\"\\\\nADD VALx: %.2f - %i\", val, i*msize+gid);\n",
    "          //}\n",
    "          xsum[gid] += val;\n",
    "        }\n",
    "\n",
    "        float valx = xsum[gid];\n",
    "        uint posx = 0;\n",
    "        for (uint i = 0; i < isize; i++) {\n",
    "          float tempval = fabs(xsum[i]);\n",
    "          bool larger = tempval > fabs(valx);\n",
    "          posx += (larger)?1:0;\n",
    "        }\n",
    "        if (posx < topky) {\n",
    "          youtidx[posx] = gid;\n",
    "        }\n",
    "      }\n",
    "\n",
    "      if (gid < osize) {\n",
    "        ysum[gid] = 0;\n",
    "        for (uint i=0; i<msize; i++) {\n",
    "          float val = y[i*osize+gid];\n",
    "          //if (gid == 0) {\n",
    "          //  printf(\"\\\\nADD VALx: %.2f - %i\", val, gid*osize+i);\n",
    "          //}\n",
    "          ysum[gid] += val;\n",
    "        }\n",
    "\n",
    "        float valy = ysum[gid];\n",
    "        uint posy = 0;\n",
    "        for (uint i = 0; i < osize; i++) {\n",
    "          float tempval = fabs(ysum[i]);\n",
    "          bool larger = tempval > fabs(valy);\n",
    "          posy += (larger)?1:0;\n",
    "        }\n",
    "\n",
    "        if (posy < topkx) {\n",
    "          xoutidx[posy] = gid;\n",
    "        }\n",
    "      }\n",
    "\n",
    "      if (gid < topkx) {\n",
    "        float valx = xoutidx[gid];\n",
    "        uint posx = 0;\n",
    "        for (uint i = 0; i < topkx; i++) {\n",
    "          float tempval = xoutidx[i];\n",
    "          bool larger = tempval < valx;\n",
    "          posx += (larger)?1:0;\n",
    "        }\n",
    "        xoutidx[gid] = gid;\n",
    "      }\n",
    "\n",
    "      if (gid < topky) {\n",
    "        float valy = youtidx[gid];\n",
    "        uint posy = 0;\n",
    "        for (uint i = 0; i < topky; i++) {\n",
    "          float tempval = youtidx[i];\n",
    "          bool larger = tempval < valy;\n",
    "          posy += (larger)?1:0;\n",
    "        }\n",
    "        youtidx[gid] = gid;\n",
    "      }\n",
    "\n",
    "      // only calc matrix multiplications for used grads\n",
    "      ///////////////////////////////////////////////////\n",
    "      if (gid < isize) {\n",
    "        for (uint i=0; i<topkx; i++) {\n",
    "          matData[gid*topkx+i] = 0;\n",
    "          colIdx[gid*topkx+i] = 0;\n",
    "        }\n",
    "        rowNnz[gid] = 0;\n",
    "      }\n",
    "      if (gid < osize) {\n",
    "        for (uint i=0; i<topky; i++) {\n",
    "          matDatat[gid*topky+i] = 0;\n",
    "          colIdxt[gid*topky+i] = 0;\n",
    "        }\n",
    "        rowNnzt[gid] = 0;\n",
    "      }\n",
    "\n",
    "\n",
    "      if (gid < topkx) {\n",
    "        uint idxx = xoutidx[gid];\n",
    "        for (uint j=0; j<topky; j++) {\n",
    "          uint idxy = youtidx[j];\n",
    "          //printf(\"\\\\nIDXX:%i  IDXY:%i\", idxx, idxy);\n",
    "          for (uint k=0; k<msize; k++) {\n",
    "            uint xidx2 = isize*k+idxy;\n",
    "            uint yidx2 = osize*k+idxx;\n",
    "            uint colidx = idxy;\n",
    "            matDatat[idxx*topky+j] += x[xidx2] * y[yidx2];\n",
    "            colIdxt[idxx*topky+j] = idxy;\n",
    "            if (gid == 0)\n",
    "              printf(\"\\\\n ADD VAL:%.2f,%.2f - (%i,%i) - (%i,%i,%i)\", x[xidx2], y[yidx2], idxx, idxy, gid, j, k);\n",
    "          }\n",
    "          rowNnzt[idxx] += 1;\n",
    "        }\n",
    "      }\n",
    "      if (gid < topky) {\n",
    "        uint idxx = youtidx[gid];\n",
    "        for (uint j=0; j<topkx; j++) {\n",
    "          uint idxy = xoutidx[j];\n",
    "          //printf(\"\\\\nIDXX:%i  IDXY:%i\", idxx, idxy);\n",
    "          for (uint k=0; k<msize; k++) {\n",
    "            uint xidx2 = isize*k+idxx;\n",
    "            uint yidx2 = osize*k+idxy;\n",
    "            uint colidx = idxy;\n",
    "            matData[idxx*topkx+j] += x[xidx2] * y[yidx2];\n",
    "            colIdx[idxx*topkx+j] = idxy;\n",
    "            if (gid == 0)\n",
    "              printf(\"\\\\n ADD VAL:%.2f,%.2f - (%i,%i) - (%i,%i,%i)\", x[xidx2], y[yidx2], idxx, idxy, gid, j, k);\n",
    "          }\n",
    "          rowNnz[idxx] += 1;\n",
    "        }\n",
    "      }\n",
    "    }\"\"\").build()"
   ]
  },
  {
   "cell_type": "code",
   "execution_count": 303,
   "id": "de0da39b",
   "metadata": {},
   "outputs": [
    {
     "data": {
      "text/plain": [
       "((8, 16), (16, 5))"
      ]
     },
     "execution_count": 303,
     "metadata": {},
     "output_type": "execute_result"
    }
   ],
   "source": [
    "a.shape, b.shape"
   ]
  },
  {
   "cell_type": "code",
   "execution_count": 304,
   "id": "5a1ffbcb",
   "metadata": {},
   "outputs": [],
   "source": [
    "rows = a.shape[0]\n",
    "msize = a.shape[1]"
   ]
  },
  {
   "cell_type": "code",
   "execution_count": 305,
   "id": "47f478a1",
   "metadata": {},
   "outputs": [],
   "source": [
    "cols = b.shape[1]"
   ]
  },
  {
   "cell_type": "code",
   "execution_count": 306,
   "id": "91805da6",
   "metadata": {},
   "outputs": [],
   "source": [
    "mult = a.dot(b)"
   ]
  },
  {
   "cell_type": "code",
   "execution_count": 307,
   "id": "6e854fbc",
   "metadata": {},
   "outputs": [],
   "source": [
    "mult = mult.astype(np.float32)"
   ]
  },
  {
   "cell_type": "code",
   "execution_count": 308,
   "id": "89c64f71",
   "metadata": {},
   "outputs": [
    {
     "name": "stdout",
     "output_type": "stream",
     "text": [
      "\n",
      " ADD VAL:0.00,0.49 - (0,0) - (0,0,0)\n",
      " ADD VAL:0.68,0.66 - (0,0) - (0,0,1)\n",
      " ADD VAL:0.80,0.31 - (0,0) - (0,0,2)\n",
      " ADD VAL:0.00,0.00 - (0,0) - (0,0,3)\n",
      " ADD VAL:0.00,0.71 - (0,0) - (0,0,4)\n",
      " ADD VAL:0.00,0.00 - (0,0) - (0,0,5)\n",
      " ADD VAL:0.00,0.46 - (0,0) - (0,0,6)\n",
      " ADD VAL:0.08,0.00 - (0,0) - (0,0,7)\n",
      " ADD VAL:0.89,0.00 - (0,0) - (0,0,8)\n",
      " ADD VAL:0.00,0.00 - (0,0) - (0,0,9)\n",
      " ADD VAL:0.18,0.00 - (0,0) - (0,0,10)\n",
      " ADD VAL:0.00,0.00 - (0,0) - (0,0,11)\n",
      " ADD VAL:0.46,0.00 - (0,0) - (0,0,12)\n",
      " ADD VAL:0.00,0.00 - (0,0) - (0,0,13)\n",
      " ADD VAL:0.00,0.19 - (0,0) - (0,0,14)\n",
      " ADD VAL:0.00,0.73 - (0,0) - (0,0,15)\n",
      " ADD VAL:0.96,0.49 - (0,1) - (0,1,0)\n",
      " ADD VAL:0.55,0.66 - (0,1) - (0,1,1)\n",
      " ADD VAL:0.00,0.31 - (0,1) - (0,1,2)\n",
      " ADD VAL:0.00,0.00 - (0,1) - (0,1,3)\n",
      " ADD VAL:0.54,0.71 - (0,1) - (0,1,4)\n",
      " ADD VAL:0.00,0.00 - (0,1) - (0,1,5)\n",
      " ADD VAL:0.00,0.46 - (0,1) - (0,1,6)\n",
      " ADD VAL:0.00,0.00 - (0,1) - (0,1,7)\n",
      " ADD VAL:0.00,0.00 - (0,1) - (0,1,8)\n",
      " ADD VAL:0.00,0.00 - (0,1) - (0,1,9)\n",
      " ADD VAL:0.00,0.00 - (0,1) - (0,1,10)\n",
      " ADD VAL:0.20,0.00 - (0,1) - (0,1,11)\n",
      " ADD VAL:0.36,0.00 - (0,1) - (0,1,12)\n",
      " ADD VAL:0.00,0.00 - (0,1) - (0,1,13)\n",
      " ADD VAL:0.00,0.19 - (0,1) - (0,1,14)\n",
      " ADD VAL:0.92,0.73 - (0,1) - (0,1,15)\n",
      " ADD VAL:0.00,0.49 - (0,2) - (0,2,0)\n",
      " ADD VAL:0.20,0.66 - (0,2) - (0,2,1)\n",
      " ADD VAL:0.00,0.31 - (0,2) - (0,2,2)\n",
      " ADD VAL:0.00,0.00 - (0,2) - (0,2,3)\n",
      " ADD VAL:0.00,0.71 - (0,2) - (0,2,4)\n",
      " ADD VAL:0.74,0.00 - (0,2) - (0,2,5)\n",
      " ADD VAL:0.00,0.46 - (0,2) - (0,2,6)\n",
      " ADD VAL:0.00,0.00 - (0,2) - (0,2,7)\n",
      " ADD VAL:0.00,0.00 - (0,2) - (0,2,8)\n",
      " ADD VAL:0.58,0.00 - (0,2) - (0,2,9)\n",
      " ADD VAL:0.00,0.00 - (0,2) - (0,2,10)\n",
      " ADD VAL:0.05,0.00 - (0,2) - (0,2,11)\n",
      " ADD VAL:0.00,0.00 - (0,2) - (0,2,12)\n",
      " ADD VAL:0.59,0.00 - (0,2) - (0,2,13)\n",
      " ADD VAL:0.18,0.19 - (0,2) - (0,2,14)\n",
      " ADD VAL:0.00,0.73 - (0,2) - (0,2,15)\n",
      " ADD VAL:0.00,0.49 - (0,3) - (0,3,0)\n",
      " ADD VAL:0.00,0.66 - (0,3) - (0,3,1)\n",
      " ADD VAL:0.00,0.31 - (0,3) - (0,3,2)\n",
      " ADD VAL:0.14,0.00 - (0,3) - (0,3,3)\n",
      " ADD VAL:0.91,0.71 - (0,3) - (0,3,4)\n",
      " ADD VAL:0.03,0.00 - (0,3) - (0,3,5)\n",
      " ADD VAL:0.00,0.46 - (0,3) - (0,3,6)\n",
      " ADD VAL:0.71,0.00 - (0,3) - (0,3,7)\n",
      " ADD VAL:0.00,0.00 - (0,3) - (0,3,8)\n",
      " ADD VAL:0.00,0.00 - (0,3) - (0,3,9)\n",
      " ADD VAL:0.00,0.00 - (0,3) - (0,3,10)\n",
      " ADD VAL:0.00,0.00 - (0,3) - (0,3,11)\n",
      " ADD VAL:0.74,0.00 - (0,3) - (0,3,12)\n",
      " ADD VAL:0.00,0.00 - (0,3) - (0,3,13)\n",
      " ADD VAL:0.00,0.19 - (0,3) - (0,3,14)\n",
      " ADD VAL:0.67,0.73 - (0,3) - (0,3,15)\n",
      " ADD VAL:0.00,0.49 - (0,4) - (0,4,0)\n",
      " ADD VAL:0.00,0.66 - (0,4) - (0,4,1)\n",
      " ADD VAL:0.00,0.31 - (0,4) - (0,4,2)\n",
      " ADD VAL:0.60,0.00 - (0,4) - (0,4,3)\n",
      " ADD VAL:0.00,0.71 - (0,4) - (0,4,4)\n",
      " ADD VAL:0.00,0.00 - (0,4) - (0,4,5)\n",
      " ADD VAL:0.00,0.46 - (0,4) - (0,4,6)\n",
      " ADD VAL:0.92,0.00 - (0,4) - (0,4,7)\n",
      " ADD VAL:0.00,0.00 - (0,4) - (0,4,8)\n",
      " ADD VAL:0.16,0.00 - (0,4) - (0,4,9)\n",
      " ADD VAL:0.00,0.00 - (0,4) - (0,4,10)\n",
      " ADD VAL:0.17,0.00 - (0,4) - (0,4,11)\n",
      " ADD VAL:0.00,0.00 - (0,4) - (0,4,12)\n",
      " ADD VAL:0.00,0.00 - (0,4) - (0,4,13)\n",
      " ADD VAL:0.76,0.19 - (0,4) - (0,4,14)\n",
      " ADD VAL:0.49,0.73 - (0,4) - (0,4,15)\n",
      " ADD VAL:0.11,0.49 - (0,5) - (0,5,0)\n",
      " ADD VAL:0.83,0.66 - (0,5) - (0,5,1)\n",
      " ADD VAL:0.00,0.31 - (0,5) - (0,5,2)\n",
      " ADD VAL:0.00,0.00 - (0,5) - (0,5,3)\n",
      " ADD VAL:0.00,0.71 - (0,5) - (0,5,4)\n",
      " ADD VAL:0.28,0.00 - (0,5) - (0,5,5)\n",
      " ADD VAL:0.00,0.46 - (0,5) - (0,5,6)\n",
      " ADD VAL:0.25,0.00 - (0,5) - (0,5,7)\n",
      " ADD VAL:0.00,0.00 - (0,5) - (0,5,8)\n",
      " ADD VAL:0.00,0.00 - (0,5) - (0,5,9)\n",
      " ADD VAL:0.83,0.00 - (0,5) - (0,5,10)\n",
      " ADD VAL:0.10,0.00 - (0,5) - (0,5,11)\n",
      " ADD VAL:0.00,0.00 - (0,5) - (0,5,12)\n",
      " ADD VAL:0.00,0.00 - (0,5) - (0,5,13)\n",
      " ADD VAL:0.00,0.19 - (0,5) - (0,5,14)\n",
      " ADD VAL:0.00,0.73 - (0,5) - (0,5,15)\n",
      " ADD VAL:0.29,0.49 - (0,6) - (0,6,0)\n",
      " ADD VAL:0.05,0.66 - (0,6) - (0,6,1)\n",
      " ADD VAL:0.00,0.31 - (0,6) - (0,6,2)\n",
      " ADD VAL:0.65,0.00 - (0,6) - (0,6,3)\n",
      " ADD VAL:0.00,0.71 - (0,6) - (0,6,4)\n",
      " ADD VAL:0.33,0.00 - (0,6) - (0,6,5)\n",
      " ADD VAL:0.00,0.46 - (0,6) - (0,6,6)\n",
      " ADD VAL:0.00,0.00 - (0,6) - (0,6,7)\n",
      " ADD VAL:0.00,0.00 - (0,6) - (0,6,8)\n",
      " ADD VAL:0.00,0.00 - (0,6) - (0,6,9)\n",
      " ADD VAL:0.00,0.00 - (0,6) - (0,6,10)\n",
      " ADD VAL:0.00,0.00 - (0,6) - (0,6,11)\n",
      " ADD VAL:0.84,0.00 - (0,6) - (0,6,12)\n",
      " ADD VAL:0.01,0.00 - (0,6) - (0,6,13)\n",
      " ADD VAL:0.00,0.19 - (0,6) - (0,6,14)\n",
      " ADD VAL:0.00,0.73 - (0,6) - (0,6,15)\n",
      " ADD VAL:0.68,0.49 - (0,7) - (0,7,0)\n",
      " ADD VAL:0.00,0.66 - (0,7) - (0,7,1)\n",
      " ADD VAL:0.00,0.31 - (0,7) - (0,7,2)\n",
      " ADD VAL:0.36,0.00 - (0,7) - (0,7,3)\n",
      " ADD VAL:0.00,0.71 - (0,7) - (0,7,4)\n",
      " ADD VAL:0.00,0.00 - (0,7) - (0,7,5)\n",
      " ADD VAL:0.70,0.46 - (0,7) - (0,7,6)\n",
      " ADD VAL:0.00,0.00 - (0,7) - (0,7,7)\n",
      " ADD VAL:0.68,0.00 - (0,7) - (0,7,8)\n",
      " ADD VAL:0.00,0.00 - (0,7) - (0,7,9)\n",
      " ADD VAL:0.00,0.00 - (0,7) - (0,7,10)\n",
      " ADD VAL:0.12,0.00 - (0,7) - (0,7,11)\n",
      " ADD VAL:0.00,0.00 - (0,7) - (0,7,12)\n",
      " ADD VAL:0.00,0.00 - (0,7) - (0,7,13)\n",
      " ADD VAL:0.00,0.19 - (0,7) - (0,7,14)\n",
      " ADD VAL:0.09,0.73 - (0,7) - (0,7,15)\n",
      " ADD VAL:0.00,0.49 - (0,0) - (0,0,0)\n",
      " ADD VAL:0.68,0.66 - (0,0) - (0,0,1)\n",
      " ADD VAL:0.80,0.31 - (0,0) - (0,0,2)\n",
      " ADD VAL:0.00,0.00 - (0,0) - (0,0,3)\n",
      " ADD VAL:0.00,0.71 - (0,0) - (0,0,4)\n",
      " ADD VAL:0.00,0.00 - (0,0) - (0,0,5)\n",
      " ADD VAL:0.00,0.46 - (0,0) - (0,0,6)\n",
      " ADD VAL:0.08,0.00 - (0,0) - (0,0,7)\n",
      " ADD VAL:0.89,0.00 - (0,0) - (0,0,8)\n",
      " ADD VAL:0.00,0.00 - (0,0) - (0,0,9)\n",
      " ADD VAL:0.18,0.00 - (0,0) - (0,0,10)\n",
      " ADD VAL:0.00,0.00 - (0,0) - (0,0,11)\n",
      " ADD VAL:0.46,0.00 - (0,0) - (0,0,12)\n",
      " ADD VAL:0.00,0.00 - (0,0) - (0,0,13)\n",
      " ADD VAL:0.00,0.19 - (0,0) - (0,0,14)\n",
      " ADD VAL:0.00,0.73 - (0,0) - (0,0,15)\n",
      " ADD VAL:0.00,0.00 - (0,1) - (0,1,0)\n",
      " ADD VAL:0.68,0.00 - (0,1) - (0,1,1)\n",
      " ADD VAL:0.80,0.00 - (0,1) - (0,1,2)\n",
      " ADD VAL:0.00,0.47 - (0,1) - (0,1,3)\n",
      " ADD VAL:0.00,0.00 - (0,1) - (0,1,4)\n",
      " ADD VAL:0.00,0.00 - (0,1) - (0,1,5)\n",
      " ADD VAL:0.00,0.00 - (0,1) - (0,1,6)\n",
      " ADD VAL:0.08,0.34 - (0,1) - (0,1,7)\n",
      " ADD VAL:0.89,0.00 - (0,1) - (0,1,8)\n",
      " ADD VAL:0.00,0.77 - (0,1) - (0,1,9)\n",
      " ADD VAL:0.18,0.72 - (0,1) - (0,1,10)\n",
      " ADD VAL:0.00,0.92 - (0,1) - (0,1,11)\n",
      " ADD VAL:0.46,0.00 - (0,1) - (0,1,12)\n",
      " ADD VAL:0.00,0.00 - (0,1) - (0,1,13)\n",
      " ADD VAL:0.00,0.12 - (0,1) - (0,1,14)\n",
      " ADD VAL:0.00,0.00 - (0,1) - (0,1,15)\n",
      " ADD VAL:0.00,0.46 - (0,2) - (0,2,0)\n",
      " ADD VAL:0.68,0.98 - (0,2) - (0,2,1)\n",
      " ADD VAL:0.80,0.03 - (0,2) - (0,2,2)\n",
      " ADD VAL:0.00,0.00 - (0,2) - (0,2,3)\n",
      " ADD VAL:0.00,0.59 - (0,2) - (0,2,4)\n",
      " ADD VAL:0.00,0.85 - (0,2) - (0,2,5)\n",
      " ADD VAL:0.00,0.00 - (0,2) - (0,2,6)\n",
      " ADD VAL:0.08,0.77 - (0,2) - (0,2,7)\n",
      " ADD VAL:0.89,0.99 - (0,2) - (0,2,8)\n",
      " ADD VAL:0.00,0.32 - (0,2) - (0,2,9)\n",
      " ADD VAL:0.18,0.00 - (0,2) - (0,2,10)\n",
      " ADD VAL:0.00,0.00 - (0,2) - (0,2,11)\n",
      " ADD VAL:0.46,0.00 - (0,2) - (0,2,12)\n",
      " ADD VAL:0.00,0.67 - (0,2) - (0,2,13)\n",
      " ADD VAL:0.00,0.00 - (0,2) - (0,2,14)\n",
      " ADD VAL:0.00,0.12 - (0,2) - (0,2,15)\n",
      " ADD VAL:0.00,0.00 - (0,3) - (0,3,0)\n",
      " ADD VAL:0.68,0.00 - (0,3) - (0,3,1)\n",
      " ADD VAL:0.80,0.00 - (0,3) - (0,3,2)\n",
      " ADD VAL:0.00,0.00 - (0,3) - (0,3,3)\n",
      " ADD VAL:0.00,0.00 - (0,3) - (0,3,4)\n",
      " ADD VAL:0.00,0.59 - (0,3) - (0,3,5)\n",
      " ADD VAL:0.00,0.00 - (0,3) - (0,3,6)\n",
      " ADD VAL:0.08,0.00 - (0,3) - (0,3,7)\n",
      " ADD VAL:0.89,0.00 - (0,3) - (0,3,8)\n",
      " ADD VAL:0.00,0.00 - (0,3) - (0,3,9)\n",
      " ADD VAL:0.18,0.82 - (0,3) - (0,3,10)\n",
      " ADD VAL:0.00,0.79 - (0,3) - (0,3,11)\n",
      " ADD VAL:0.46,0.40 - (0,3) - (0,3,12)\n",
      " ADD VAL:0.00,0.49 - (0,3) - (0,3,13)\n",
      " ADD VAL:0.00,0.00 - (0,3) - (0,3,14)\n",
      " ADD VAL:0.00,0.00 - (0,3) - (0,3,15)\n",
      " ADD VAL:0.00,0.00 - (0,4) - (0,4,0)\n",
      " ADD VAL:0.68,0.00 - (0,4) - (0,4,1)\n",
      " ADD VAL:0.80,0.00 - (0,4) - (0,4,2)\n",
      " ADD VAL:0.00,0.03 - (0,4) - (0,4,3)\n",
      " ADD VAL:0.00,0.00 - (0,4) - (0,4,4)\n",
      " ADD VAL:0.00,0.00 - (0,4) - (0,4,5)\n",
      " ADD VAL:0.00,0.94 - (0,4) - (0,4,6)\n",
      " ADD VAL:0.08,0.00 - (0,4) - (0,4,7)\n",
      " ADD VAL:0.89,0.25 - (0,4) - (0,4,8)\n",
      " ADD VAL:0.00,0.00 - (0,4) - (0,4,9)\n",
      " ADD VAL:0.18,0.00 - (0,4) - (0,4,10)\n",
      " ADD VAL:0.00,0.00 - (0,4) - (0,4,11)\n",
      " ADD VAL:0.46,0.84 - (0,4) - (0,4,12)\n",
      " ADD VAL:0.00,0.00 - (0,4) - (0,4,13)\n",
      " ADD VAL:0.00,0.00 - (0,4) - (0,4,14)\n",
      " ADD VAL:0.00,0.00 - (0,4) - (0,4,15)"
     ]
    }
   ],
   "source": [
    "res_buf = cl.Buffer(ctx, mf.READ_WRITE, np.prod([rows,b.shape[1]])*4)\n",
    "knl = prg.genwupdate4  # Use this Kernel object for repeate/duald calls\n",
    "evt = knl(queue, [max(rows,cols)], None, a_buf, b_buf, x_sum_buf, y_sum_buf, np.uint32(rows), np.uint32(msize),np.uint32(cols), \n",
    "          np.uint32(topkx),np.uint32(topky), x_idx_buf, y_idx_buf, sdata_buf, sidxs_buf, snnzs_buf, sdatat_buf, sidxst_buf, snnzst_buf)"
   ]
  },
  {
   "cell_type": "code",
   "execution_count": 309,
   "id": "14e2a940",
   "metadata": {},
   "outputs": [
    {
     "data": {
      "text/plain": [
       "<pyopencl._cl.NannyEvent at 0x7f5a642fa7c0>"
      ]
     },
     "execution_count": 309,
     "metadata": {},
     "output_type": "execute_result"
    }
   ],
   "source": [
    "resxsum = np.zeros(a.shape[0]).astype(np.float32)\n",
    "resysum = np.zeros(b.shape[1]).astype(np.float32)\n",
    "resxidx = np.zeros(topkx).astype(np.uint32)\n",
    "resyidx = np.zeros(topky).astype(np.uint32)\n",
    "resxdat = np.zeros(a.shape[0]*topkx).astype(np.float32)\n",
    "resxcol = np.zeros(a.shape[0]*topkx).astype(np.uint32)\n",
    "resxnnz = np.zeros(a.shape[0]).astype(np.uint32)\n",
    "resxdatt = np.zeros(b.shape[1]*topky).astype(np.float32)\n",
    "resxcolt = np.zeros(b.shape[1]*topky).astype(np.uint32)\n",
    "resxnnzt = np.zeros(b.shape[1]).astype(np.uint32)\n",
    "\n",
    "cl.enqueue_copy(queue, resxsum, x_sum_buf)\n",
    "cl.enqueue_copy(queue, resysum, y_sum_buf)\n",
    "cl.enqueue_copy(queue, resxidx, x_idx_buf)\n",
    "cl.enqueue_copy(queue, resyidx, y_idx_buf)\n",
    "cl.enqueue_copy(queue, resxdat, sdata_buf)\n",
    "cl.enqueue_copy(queue, resxcol, sidxs_buf)\n",
    "cl.enqueue_copy(queue, resxnnz, snnzs_buf)\n",
    "cl.enqueue_copy(queue, resxdatt, sdatat_buf)\n",
    "cl.enqueue_copy(queue, resxcolt, sidxst_buf)\n",
    "cl.enqueue_copy(queue, resxnnzt, snnzst_buf)"
   ]
  },
  {
   "cell_type": "markdown",
   "id": "e5a29c6e",
   "metadata": {},
   "source": [
    "## results"
   ]
  },
  {
   "cell_type": "code",
   "execution_count": 310,
   "id": "94e7f319",
   "metadata": {},
   "outputs": [
    {
     "data": {
      "text/plain": [
       "(5, 8)"
      ]
     },
     "execution_count": 310,
     "metadata": {},
     "output_type": "execute_result"
    }
   ],
   "source": [
    "topkx, topky"
   ]
  },
  {
   "cell_type": "code",
   "execution_count": 311,
   "id": "2a735956",
   "metadata": {},
   "outputs": [
    {
     "data": {
      "text/plain": [
       "(8, 5)"
      ]
     },
     "execution_count": 311,
     "metadata": {},
     "output_type": "execute_result"
    }
   ],
   "source": [
    "mult.shape"
   ]
  },
  {
   "cell_type": "code",
   "execution_count": 312,
   "id": "1f3f37c6",
   "metadata": {},
   "outputs": [
    {
     "data": {
      "text/plain": [
       "array([[0.6996368 , 0.15550727, 1.6236207 , 0.3340667 , 0.61331564],\n",
       "       [1.8848312 , 0.18735047, 1.4160932 , 0.30414024, 0.29892322],\n",
       "       [0.16573755, 0.51614475, 1.40742   , 0.7711447 , 0.        ],\n",
       "       [1.130233  , 0.31159392, 1.1950791 , 0.32051137, 0.6311476 ],\n",
       "       [0.49532753, 0.9677906 , 0.8187757 , 0.1351769 , 0.01893103],\n",
       "       [0.60025734, 0.7728439 , 1.2898692 , 0.9285497 , 0.        ],\n",
       "       [0.17482497, 0.30367106, 0.47157714, 0.544282  , 0.7309462 ],\n",
       "       [0.7240762 , 0.27932334, 0.99110806, 0.09674796, 0.8390946 ]],\n",
       "      dtype=float32)"
      ]
     },
     "execution_count": 312,
     "metadata": {},
     "output_type": "execute_result"
    }
   ],
   "source": [
    "mult"
   ]
  },
  {
   "cell_type": "code",
   "execution_count": 313,
   "id": "fe1b4284",
   "metadata": {},
   "outputs": [
    {
     "data": {
      "text/plain": [
       "array([[0.6996368 , 0.15550727, 1.6236207 , 0.3340667 , 0.61331564],\n",
       "       [1.8848312 , 0.18735047, 1.4160932 , 0.30414024, 0.29892322],\n",
       "       [0.16573755, 0.51614475, 1.40742   , 0.7711447 , 0.        ],\n",
       "       [1.130233  , 0.31159392, 1.1950791 , 0.32051137, 0.6311476 ],\n",
       "       [0.49532753, 0.9677906 , 0.8187757 , 0.1351769 , 0.01893103],\n",
       "       [0.60025734, 0.7728439 , 1.2898692 , 0.9285497 , 0.        ],\n",
       "       [0.17482497, 0.30367106, 0.47157714, 0.544282  , 0.7309462 ],\n",
       "       [0.7240762 , 0.27932334, 0.99110806, 0.09674796, 0.8390946 ]],\n",
       "      dtype=float32)"
      ]
     },
     "execution_count": 313,
     "metadata": {},
     "output_type": "execute_result"
    }
   ],
   "source": [
    "resxdatt.reshape(b.shape[1],topky).T"
   ]
  },
  {
   "cell_type": "code",
   "execution_count": 314,
   "id": "15b813fb",
   "metadata": {},
   "outputs": [
    {
     "data": {
      "text/plain": [
       "array([[0, 1, 2, 3, 4],\n",
       "       [0, 1, 2, 3, 4],\n",
       "       [0, 1, 2, 3, 4],\n",
       "       [0, 1, 2, 3, 4],\n",
       "       [0, 1, 2, 3, 4],\n",
       "       [0, 1, 2, 3, 4],\n",
       "       [0, 1, 2, 3, 4],\n",
       "       [0, 1, 2, 3, 4]], dtype=uint32)"
      ]
     },
     "execution_count": 314,
     "metadata": {},
     "output_type": "execute_result"
    }
   ],
   "source": [
    "resxcol.reshape(a.shape[0],topkx)"
   ]
  },
  {
   "cell_type": "code",
   "execution_count": 315,
   "id": "9f179f92",
   "metadata": {},
   "outputs": [
    {
     "data": {
      "text/plain": [
       "array([5, 5, 5, 5, 5, 5, 5, 5], dtype=uint32)"
      ]
     },
     "execution_count": 315,
     "metadata": {},
     "output_type": "execute_result"
    }
   ],
   "source": [
    "resxnnz.reshape(a.shape[0])"
   ]
  },
  {
   "cell_type": "code",
   "execution_count": 316,
   "id": "84b1056a",
   "metadata": {},
   "outputs": [
    {
     "data": {
      "text/plain": [
       "array([[0.6996368 , 1.8848312 , 0.16573755, 1.130233  , 0.49532753,\n",
       "        0.60025734, 0.17482497, 0.7240762 ],\n",
       "       [0.15550727, 0.18735047, 0.51614475, 0.31159392, 0.9677906 ,\n",
       "        0.7728439 , 0.30367106, 0.27932334],\n",
       "       [1.6236207 , 1.4160932 , 1.40742   , 1.1950791 , 0.8187757 ,\n",
       "        1.2898692 , 0.47157714, 0.99110806],\n",
       "       [0.3340667 , 0.30414024, 0.7711447 , 0.32051137, 0.1351769 ,\n",
       "        0.9285497 , 0.544282  , 0.09674796],\n",
       "       [0.61331564, 0.29892322, 0.        , 0.6311476 , 0.01893103,\n",
       "        0.        , 0.7309462 , 0.8390946 ]], dtype=float32)"
      ]
     },
     "execution_count": 316,
     "metadata": {},
     "output_type": "execute_result"
    }
   ],
   "source": [
    "resxdatt.reshape(b.shape[1],topky)"
   ]
  },
  {
   "cell_type": "code",
   "execution_count": 317,
   "id": "e78a561d",
   "metadata": {},
   "outputs": [
    {
     "data": {
      "text/plain": [
       "array([[0, 1, 2, 3, 4, 5, 6, 7],\n",
       "       [0, 1, 2, 3, 4, 5, 6, 7],\n",
       "       [0, 1, 2, 3, 4, 5, 6, 7],\n",
       "       [0, 1, 2, 3, 4, 5, 6, 7],\n",
       "       [0, 1, 2, 3, 4, 5, 6, 7]], dtype=uint32)"
      ]
     },
     "execution_count": 317,
     "metadata": {},
     "output_type": "execute_result"
    }
   ],
   "source": [
    "resxcolt.reshape(b.shape[1],topky)"
   ]
  },
  {
   "cell_type": "code",
   "execution_count": 318,
   "id": "de260898",
   "metadata": {},
   "outputs": [
    {
     "data": {
      "text/plain": [
       "array([8, 8, 8, 8, 8], dtype=uint32)"
      ]
     },
     "execution_count": 318,
     "metadata": {},
     "output_type": "execute_result"
    }
   ],
   "source": [
    "resxnnzt.reshape(b.shape[1])"
   ]
  },
  {
   "cell_type": "code",
   "execution_count": 319,
   "id": "873b9bc4",
   "metadata": {},
   "outputs": [
    {
     "data": {
      "text/plain": [
       "array([[0.69963682, 0.15550727, 1.62362075, 0.33406669, 0.61331564],\n",
       "       [1.88483119, 0.18735047, 1.41609323, 0.30414024, 0.29892322],\n",
       "       [0.16573755, 0.51614475, 1.40742004, 0.77114469, 0.        ],\n",
       "       [1.13023305, 0.31159392, 1.19507909, 0.32051137, 0.63114762],\n",
       "       [0.49532753, 0.9677906 , 0.81877571, 0.1351769 , 0.01893103],\n",
       "       [0.60025734, 0.7728439 , 1.28986919, 0.92854971, 0.        ],\n",
       "       [0.17482497, 0.30367106, 0.47157714, 0.54428202, 0.73094618],\n",
       "       [0.72407621, 0.27932334, 0.99110806, 0.09674796, 0.83909458]])"
      ]
     },
     "execution_count": 319,
     "metadata": {},
     "output_type": "execute_result"
    }
   ],
   "source": [
    "resdense = to_dense(resxdat, resxcol, resxnnz, topkx, mult.shape)\n",
    "resdense"
   ]
  },
  {
   "cell_type": "code",
   "execution_count": 320,
   "id": "ac5f24f1",
   "metadata": {},
   "outputs": [
    {
     "data": {
      "text/plain": [
       "array([[0.69963682, 1.88483119, 0.16573755, 1.13023305, 0.49532753,\n",
       "        0.60025734, 0.17482497, 0.72407621],\n",
       "       [0.15550727, 0.18735047, 0.51614475, 0.31159392, 0.9677906 ,\n",
       "        0.7728439 , 0.30367106, 0.27932334],\n",
       "       [1.62362075, 1.41609323, 1.40742004, 1.19507909, 0.81877571,\n",
       "        1.28986919, 0.47157714, 0.99110806],\n",
       "       [0.33406669, 0.30414024, 0.77114469, 0.32051137, 0.1351769 ,\n",
       "        0.92854971, 0.54428202, 0.09674796],\n",
       "       [0.61331564, 0.29892322, 0.        , 0.63114762, 0.01893103,\n",
       "        0.        , 0.73094618, 0.83909458]])"
      ]
     },
     "execution_count": 320,
     "metadata": {},
     "output_type": "execute_result"
    }
   ],
   "source": [
    "resdenset = to_dense(resxdatt, resxcolt, resxnnzt, topky, mult.T.shape)\n",
    "resdenset"
   ]
  },
  {
   "cell_type": "code",
   "execution_count": 321,
   "id": "124e0181",
   "metadata": {},
   "outputs": [
    {
     "data": {
      "text/plain": [
       "array([[ True,  True,  True,  True,  True],\n",
       "       [ True,  True,  True,  True,  True],\n",
       "       [ True,  True,  True,  True,  True],\n",
       "       [ True,  True,  True,  True,  True],\n",
       "       [ True,  True,  True,  True,  True],\n",
       "       [ True,  True,  True,  True,  True],\n",
       "       [ True,  True,  True,  True,  True],\n",
       "       [ True,  True,  True,  True,  True]])"
      ]
     },
     "execution_count": 321,
     "metadata": {},
     "output_type": "execute_result"
    }
   ],
   "source": [
    "resdense == resdenset.T"
   ]
  },
  {
   "cell_type": "markdown",
   "id": "071b13ca",
   "metadata": {},
   "source": [
    "## comp"
   ]
  },
  {
   "cell_type": "code",
   "execution_count": 322,
   "id": "7fbf42ec",
   "metadata": {},
   "outputs": [
    {
     "data": {
      "text/plain": [
       "array([3.0937524, 3.5246177, 2.3468003, 3.2115116, 3.102983 , 2.4004393,\n",
       "       2.1758807, 2.6182923], dtype=float32)"
      ]
     },
     "execution_count": 322,
     "metadata": {},
     "output_type": "execute_result"
    }
   ],
   "source": [
    "resxsum"
   ]
  },
  {
   "cell_type": "code",
   "execution_count": 323,
   "id": "bfcbf8a0",
   "metadata": {},
   "outputs": [
    {
     "data": {
      "text/plain": [
       "array([3.0937524, 3.5246177, 2.3468003, 3.2115116, 3.102983 , 2.4004393,\n",
       "       2.1758807, 2.6182923], dtype=float32)"
      ]
     },
     "execution_count": 323,
     "metadata": {},
     "output_type": "execute_result"
    }
   ],
   "source": [
    "a.sum(axis=1)"
   ]
  },
  {
   "cell_type": "code",
   "execution_count": 324,
   "id": "05cda83d",
   "metadata": {},
   "outputs": [
    {
     "data": {
      "text/plain": [
       "array([3.5506585, 3.3332088, 5.77045  , 3.095629 , 2.0694818],\n",
       "      dtype=float32)"
      ]
     },
     "execution_count": 324,
     "metadata": {},
     "output_type": "execute_result"
    }
   ],
   "source": [
    "resysum"
   ]
  },
  {
   "cell_type": "code",
   "execution_count": 325,
   "id": "f678ac43",
   "metadata": {},
   "outputs": [
    {
     "data": {
      "text/plain": [
       "array([3.5506585, 3.3332088, 5.77045  , 3.095629 , 2.0694818],\n",
       "      dtype=float32)"
      ]
     },
     "execution_count": 325,
     "metadata": {},
     "output_type": "execute_result"
    }
   ],
   "source": [
    "b.sum(axis=0)"
   ]
  },
  {
   "cell_type": "code",
   "execution_count": 326,
   "id": "aa9398b2",
   "metadata": {},
   "outputs": [
    {
     "data": {
      "text/plain": [
       "array([[0.6996368 , 0.15550727, 1.6236207 , 0.3340667 , 0.61331564],\n",
       "       [1.8848312 , 0.18735047, 1.4160932 , 0.30414024, 0.29892322],\n",
       "       [0.16573755, 0.51614475, 1.40742   , 0.7711447 , 0.        ],\n",
       "       [1.130233  , 0.31159392, 1.1950791 , 0.32051137, 0.6311476 ],\n",
       "       [0.49532753, 0.9677906 , 0.8187757 , 0.1351769 , 0.01893103],\n",
       "       [0.60025734, 0.7728439 , 1.2898692 , 0.9285497 , 0.        ],\n",
       "       [0.17482497, 0.30367106, 0.47157714, 0.544282  , 0.7309462 ],\n",
       "       [0.7240762 , 0.27932334, 0.99110806, 0.09674796, 0.8390946 ]],\n",
       "      dtype=float32)"
      ]
     },
     "execution_count": 326,
     "metadata": {},
     "output_type": "execute_result"
    }
   ],
   "source": [
    "mult"
   ]
  },
  {
   "cell_type": "code",
   "execution_count": 327,
   "id": "84d71cd6",
   "metadata": {},
   "outputs": [
    {
     "data": {
      "text/plain": [
       "array([0, 1, 2, 3, 4], dtype=uint32)"
      ]
     },
     "execution_count": 327,
     "metadata": {},
     "output_type": "execute_result"
    }
   ],
   "source": [
    "resxidx"
   ]
  },
  {
   "cell_type": "code",
   "execution_count": 328,
   "id": "e52f8952",
   "metadata": {},
   "outputs": [
    {
     "data": {
      "text/plain": [
       "array([0, 1, 2, 3, 4, 5, 6, 7], dtype=uint32)"
      ]
     },
     "execution_count": 328,
     "metadata": {},
     "output_type": "execute_result"
    }
   ],
   "source": [
    "resyidx"
   ]
  },
  {
   "cell_type": "code",
   "execution_count": 329,
   "id": "b6245cc5",
   "metadata": {},
   "outputs": [
    {
     "ename": "NameError",
     "evalue": "name 'asdf' is not defined",
     "output_type": "error",
     "traceback": [
      "\u001b[0;31m---------------------------------------------------------------------------\u001b[0m",
      "\u001b[0;31mNameError\u001b[0m                                 Traceback (most recent call last)",
      "\u001b[0;32m/tmp/ipykernel_2109/2827374946.py\u001b[0m in \u001b[0;36m<module>\u001b[0;34m\u001b[0m\n\u001b[0;32m----> 1\u001b[0;31m \u001b[0masdf\u001b[0m\u001b[0;34m\u001b[0m\u001b[0;34m\u001b[0m\u001b[0m\n\u001b[0m",
      "\u001b[0;31mNameError\u001b[0m: name 'asdf' is not defined"
     ]
    }
   ],
   "source": [
    "asdf"
   ]
  },
  {
   "cell_type": "markdown",
   "id": "e2863a8c",
   "metadata": {},
   "source": [
    "## Prune Weights"
   ]
  },
  {
   "cell_type": "code",
   "execution_count": 330,
   "id": "cc23a54a",
   "metadata": {},
   "outputs": [],
   "source": [
    "adata_buf = cl.Buffer(ctx, mf.READ_WRITE | mf.COPY_HOST_PTR, hostbuf=adata)\n",
    "acols_buf = cl.Buffer(ctx, mf.READ_WRITE | mf.COPY_HOST_PTR, hostbuf=acols)\n",
    "annzs_buf = cl.Buffer(ctx, mf.READ_WRITE | mf.COPY_HOST_PTR, hostbuf=annz)\n",
    "adatat_buf = cl.Buffer(ctx, mf.READ_WRITE | mf.COPY_HOST_PTR, hostbuf=adatat)\n",
    "acolst_buf = cl.Buffer(ctx, mf.READ_WRITE | mf.COPY_HOST_PTR, hostbuf=acolst)\n",
    "annzst_buf = cl.Buffer(ctx, mf.READ_WRITE | mf.COPY_HOST_PTR, hostbuf=annzt)\n",
    "\n",
    "prg = cl.Program(ctx, \"\"\"\n",
    "    // prunes weights smaller than a constant C\n",
    "    __kernel void prune(__global  float* matData,     // INPUT MATRIX DATA\n",
    "                        __global  uint*  colIdx,\n",
    "                        __global  uint*  rowNnz,\n",
    "                        uint ellw,\n",
    "                        float pruneval) { \n",
    "      uint gid = get_global_id(0);\n",
    "      \n",
    "      uint nnzs = rowNnz[gid];\n",
    "      for (uint i=0; i<nnzs; i++) {\n",
    "        uint idx = ellw * gid + i;\n",
    "        float val = matData[idx];\n",
    "        printf(\"\\\\nDATA:%.2f - %.2f\", matData[idx], pruneval);\n",
    "        if(fabs(val)<pruneval) {\n",
    "          printf(\"\\\\nPRUNE(%i): %.2f\", gid, matData[idx]);\n",
    "          for (uint j=i; j<=nnzs-1; j++) {\n",
    "            uint idx2 = ellw * gid + j;\n",
    "            matData[idx2] = matData[idx2+1];\n",
    "            colIdx[idx2] = colIdx[idx2+1];\n",
    "          }\n",
    "          matData[ellw*gid+nnzs] = 0;\n",
    "          colIdx[ellw*gid+nnzs] = 0;\n",
    "          rowNnz[gid] -= 1;\n",
    "          nnzs = rowNnz[gid];\n",
    "        }\n",
    "      }\n",
    "    }\"\"\").build()"
   ]
  },
  {
   "cell_type": "code",
   "execution_count": 331,
   "id": "8d60d6ef",
   "metadata": {},
   "outputs": [
    {
     "data": {
      "text/plain": [
       "(8, 16)"
      ]
     },
     "execution_count": 331,
     "metadata": {},
     "output_type": "execute_result"
    }
   ],
   "source": [
    "a.shape"
   ]
  },
  {
   "cell_type": "code",
   "execution_count": 332,
   "id": "ede27450",
   "metadata": {},
   "outputs": [],
   "source": [
    "rows = a.shape[0]\n",
    "cols = a.shape[1]\n",
    "\n",
    "pruneval = .35"
   ]
  },
  {
   "cell_type": "code",
   "execution_count": 333,
   "id": "6e259da1",
   "metadata": {},
   "outputs": [
    {
     "name": "stdout",
     "output_type": "stream",
     "text": [
      "\n",
      "DATA:0.68 - 0.35\n",
      "DATA:0.96 - 0.35\n",
      "DATA:0.20 - 0.35\n",
      "DATA:0.14 - 0.35\n",
      "DATA:0.60 - 0.35\n",
      "DATA:0.11 - 0.35\n",
      "DATA:0.29 - 0.35\n",
      "DATA:0.68 - 0.35\n",
      "PRUNE(2): 0.20\n",
      "PRUNE(3): 0.14\n",
      "PRUNE(5): 0.11\n",
      "PRUNE(6): 0.29\n",
      "DATA:0.80 - 0.35\n",
      "DATA:0.55 - 0.35\n",
      "DATA:0.58 - 0.35\n",
      "DATA:0.03 - 0.35\n",
      "DATA:0.92 - 0.35\n",
      "DATA:0.28 - 0.35\n",
      "DATA:0.65 - 0.35\n",
      "DATA:0.36 - 0.35\n",
      "PRUNE(3): 0.03\n",
      "PRUNE(5): 0.28\n",
      "DATA:0.08 - 0.35\n",
      "DATA:0.54 - 0.35\n",
      "DATA:0.05 - 0.35\n",
      "DATA:0.74 - 0.35\n",
      "DATA:0.16 - 0.35\n",
      "DATA:0.83 - 0.35\n",
      "DATA:0.33 - 0.35\n",
      "DATA:0.70 - 0.35\n",
      "PRUNE(0): 0.08\n",
      "PRUNE(2): 0.05\n",
      "PRUNE(4): 0.16\n",
      "PRUNE(6): 0.33\n",
      "DATA:0.18 - 0.35\n",
      "DATA:0.20 - 0.35\n",
      "DATA:0.18 - 0.35\n",
      "DATA:0.67 - 0.35\n",
      "DATA:0.76 - 0.35\n",
      "DATA:0.10 - 0.35\n",
      "DATA:0.01 - 0.35\n",
      "DATA:0.68 - 0.35\n",
      "PRUNE(0): 0.18\n",
      "PRUNE(1): 0.20\n",
      "PRUNE(2): 0.18\n",
      "PRUNE(5): 0.10\n",
      "PRUNE(6): 0.01\n",
      "DATA:0.92 - 0.35\n",
      "DATA:0.49 - 0.35\n",
      "DATA:0.12 - 0.35\n",
      "PRUNE(7): 0.12"
     ]
    }
   ],
   "source": [
    "knl = prg.prune  # Use this Kernel object for repeated calls\n",
    "evt = knl(queue, [rows,], None, adata_buf, acols_buf, annzs_buf, np.uint32(ellwa), np.float32(pruneval))"
   ]
  },
  {
   "cell_type": "code",
   "execution_count": 334,
   "id": "5dc3c096",
   "metadata": {},
   "outputs": [
    {
     "data": {
      "text/plain": [
       "<pyopencl._cl.NannyEvent at 0x7f5a642b7d60>"
      ]
     },
     "execution_count": 334,
     "metadata": {},
     "output_type": "execute_result"
    }
   ],
   "source": [
    "resxdat = np.zeros(adata.shape).astype(np.float32)\n",
    "resxcol = np.zeros(acols.shape).astype(np.uint32)\n",
    "resxnnz = np.zeros(annz.shape).astype(np.uint32)\n",
    "\n",
    "cl.enqueue_copy(queue, resxdat, adata_buf)\n",
    "cl.enqueue_copy(queue, resxcol, acols_buf)\n",
    "cl.enqueue_copy(queue, resxnnz, annzs_buf)"
   ]
  },
  {
   "cell_type": "code",
   "execution_count": 335,
   "id": "04153941",
   "metadata": {},
   "outputs": [
    {
     "data": {
      "text/plain": [
       "array([[0.        , 0.68347037, 0.8035886 , 0.        , 0.        ,\n",
       "        0.        , 0.        , 0.08023349, 0.8858316 , 0.        ,\n",
       "        0.17861794, 0.        , 0.46201044, 0.        , 0.        ,\n",
       "        0.        ],\n",
       "       [0.9562663 , 0.5531271 , 0.        , 0.        , 0.5375557 ,\n",
       "        0.        , 0.        , 0.        , 0.        , 0.        ,\n",
       "        0.        , 0.20370705, 0.35530138, 0.        , 0.        ,\n",
       "        0.9186601 ],\n",
       "       [0.        , 0.20103766, 0.        , 0.        , 0.        ,\n",
       "        0.74341315, 0.        , 0.        , 0.        , 0.5787496 ,\n",
       "        0.        , 0.05387774, 0.        , 0.5917517 , 0.17797045,\n",
       "        0.        ],\n",
       "       [0.        , 0.        , 0.        , 0.14296253, 0.9103574 ,\n",
       "        0.03242496, 0.        , 0.71459514, 0.        , 0.        ,\n",
       "        0.        , 0.        , 0.7448136 , 0.        , 0.        ,\n",
       "        0.66635793],\n",
       "       [0.        , 0.        , 0.        , 0.59893256, 0.        ,\n",
       "        0.        , 0.        , 0.9217044 , 0.        , 0.16333483,\n",
       "        0.        , 0.17167741, 0.        , 0.        , 0.7605819 ,\n",
       "        0.48675168],\n",
       "       [0.11415514, 0.82574075, 0.        , 0.        , 0.        ,\n",
       "        0.27978534, 0.        , 0.25018668, 0.        , 0.        ,\n",
       "        0.83127654, 0.09929471, 0.        , 0.        , 0.        ,\n",
       "        0.        ],\n",
       "       [0.28872353, 0.04889954, 0.        , 0.6493426 , 0.        ,\n",
       "        0.33329687, 0.        , 0.        , 0.        , 0.        ,\n",
       "        0.        , 0.        , 0.84441024, 0.01120785, 0.        ,\n",
       "        0.        ],\n",
       "       [0.67626965, 0.        , 0.        , 0.35563806, 0.        ,\n",
       "        0.        , 0.69630474, 0.        , 0.6753613 , 0.        ,\n",
       "        0.        , 0.12287189, 0.        , 0.        , 0.        ,\n",
       "        0.09184685]], dtype=float32)"
      ]
     },
     "execution_count": 335,
     "metadata": {},
     "output_type": "execute_result"
    }
   ],
   "source": [
    "a"
   ]
  },
  {
   "cell_type": "code",
   "execution_count": 336,
   "id": "5d83f2fa",
   "metadata": {},
   "outputs": [
    {
     "data": {
      "text/plain": [
       "array([[0.68347037, 0.8035886 , 0.08023349, 0.8858316 , 0.17861794,\n",
       "        0.46201044, 0.        , 0.        , 0.        , 0.        ,\n",
       "        0.        , 0.        , 0.        , 0.        , 0.        ,\n",
       "        0.        , 0.9562663 , 0.5531271 , 0.5375557 , 0.20370705,\n",
       "        0.35530138, 0.9186601 , 0.        , 0.        , 0.        ,\n",
       "        0.        , 0.        , 0.        , 0.        , 0.        ,\n",
       "        0.        , 0.        ],\n",
       "       [0.20103766, 0.74341315, 0.5787496 , 0.05387774, 0.5917517 ,\n",
       "        0.17797045, 0.        , 0.        , 0.        , 0.        ,\n",
       "        0.        , 0.        , 0.        , 0.        , 0.        ,\n",
       "        0.        , 0.14296253, 0.9103574 , 0.03242496, 0.71459514,\n",
       "        0.7448136 , 0.66635793, 0.        , 0.        , 0.        ,\n",
       "        0.        , 0.        , 0.        , 0.        , 0.        ,\n",
       "        0.        , 0.        ],\n",
       "       [0.59893256, 0.9217044 , 0.16333483, 0.17167741, 0.7605819 ,\n",
       "        0.48675168, 0.        , 0.        , 0.        , 0.        ,\n",
       "        0.        , 0.        , 0.        , 0.        , 0.        ,\n",
       "        0.        , 0.11415514, 0.82574075, 0.27978534, 0.25018668,\n",
       "        0.83127654, 0.09929471, 0.        , 0.        , 0.        ,\n",
       "        0.        , 0.        , 0.        , 0.        , 0.        ,\n",
       "        0.        , 0.        ],\n",
       "       [0.28872353, 0.04889954, 0.6493426 , 0.33329687, 0.84441024,\n",
       "        0.01120785, 0.        , 0.        , 0.        , 0.        ,\n",
       "        0.        , 0.        , 0.        , 0.        , 0.        ,\n",
       "        0.        , 0.67626965, 0.35563806, 0.69630474, 0.6753613 ,\n",
       "        0.12287189, 0.09184685, 0.        , 0.        , 0.        ,\n",
       "        0.        , 0.        , 0.        , 0.        , 0.        ,\n",
       "        0.        , 0.        ]], dtype=float32)"
      ]
     },
     "execution_count": 336,
     "metadata": {},
     "output_type": "execute_result"
    }
   ],
   "source": [
    "adata.reshape((4,-1))"
   ]
  },
  {
   "cell_type": "code",
   "execution_count": 337,
   "id": "8adb34bc",
   "metadata": {},
   "outputs": [
    {
     "data": {
      "text/plain": [
       "array([[ 1,  2,  7,  8, 10, 12,  0,  0,  0,  0,  0,  0,  0,  0,  0,  0,\n",
       "         0,  1,  4, 11, 12, 15,  0,  0,  0,  0,  0,  0,  0,  0,  0,  0],\n",
       "       [ 1,  5,  9, 11, 13, 14,  0,  0,  0,  0,  0,  0,  0,  0,  0,  0,\n",
       "         3,  4,  5,  7, 12, 15,  0,  0,  0,  0,  0,  0,  0,  0,  0,  0],\n",
       "       [ 3,  7,  9, 11, 14, 15,  0,  0,  0,  0,  0,  0,  0,  0,  0,  0,\n",
       "         0,  1,  5,  7, 10, 11,  0,  0,  0,  0,  0,  0,  0,  0,  0,  0],\n",
       "       [ 0,  1,  3,  5, 12, 13,  0,  0,  0,  0,  0,  0,  0,  0,  0,  0,\n",
       "         0,  3,  6,  8, 11, 15,  0,  0,  0,  0,  0,  0,  0,  0,  0,  0]],\n",
       "      dtype=uint32)"
      ]
     },
     "execution_count": 337,
     "metadata": {},
     "output_type": "execute_result"
    }
   ],
   "source": [
    "acols.reshape((4,-1))"
   ]
  },
  {
   "cell_type": "code",
   "execution_count": 338,
   "id": "ed57cbce",
   "metadata": {},
   "outputs": [
    {
     "data": {
      "text/plain": [
       "array([[0.68347037, 0.8035886 , 0.8858316 , 0.46201044, 0.        ,\n",
       "        0.        , 0.        , 0.        , 0.        , 0.        ,\n",
       "        0.        , 0.        , 0.        , 0.        , 0.        ,\n",
       "        0.        , 0.9562663 , 0.5531271 , 0.5375557 , 0.35530138,\n",
       "        0.9186601 , 0.        , 0.        , 0.        , 0.        ,\n",
       "        0.        , 0.        , 0.        , 0.        , 0.        ,\n",
       "        0.        , 0.        ],\n",
       "       [0.74341315, 0.5787496 , 0.5917517 , 0.        , 0.        ,\n",
       "        0.        , 0.        , 0.        , 0.        , 0.        ,\n",
       "        0.        , 0.        , 0.        , 0.        , 0.        ,\n",
       "        0.        , 0.9103574 , 0.71459514, 0.7448136 , 0.66635793,\n",
       "        0.        , 0.        , 0.        , 0.        , 0.        ,\n",
       "        0.        , 0.        , 0.        , 0.        , 0.        ,\n",
       "        0.        , 0.        ],\n",
       "       [0.59893256, 0.9217044 , 0.17167741, 0.7605819 , 0.48675168,\n",
       "        0.        , 0.        , 0.        , 0.        , 0.        ,\n",
       "        0.        , 0.        , 0.        , 0.        , 0.        ,\n",
       "        0.        , 0.82574075, 0.25018668, 0.83127654, 0.        ,\n",
       "        0.        , 0.        , 0.        , 0.        , 0.        ,\n",
       "        0.        , 0.        , 0.        , 0.        , 0.        ,\n",
       "        0.        , 0.        ],\n",
       "       [0.04889954, 0.6493426 , 0.84441024, 0.        , 0.        ,\n",
       "        0.        , 0.        , 0.        , 0.        , 0.        ,\n",
       "        0.        , 0.        , 0.        , 0.        , 0.        ,\n",
       "        0.        , 0.67626965, 0.35563806, 0.69630474, 0.6753613 ,\n",
       "        0.09184685, 0.        , 0.        , 0.        , 0.        ,\n",
       "        0.        , 0.        , 0.        , 0.        , 0.        ,\n",
       "        0.        , 0.        ]], dtype=float32)"
      ]
     },
     "execution_count": 338,
     "metadata": {},
     "output_type": "execute_result"
    }
   ],
   "source": [
    "resxdat.reshape((4,-1))"
   ]
  },
  {
   "cell_type": "code",
   "execution_count": 339,
   "id": "82b64ba8",
   "metadata": {},
   "outputs": [
    {
     "data": {
      "text/plain": [
       "array([[ 1,  2,  8, 12,  0,  0,  0,  0,  0,  0,  0,  0,  0,  0,  0,  0,\n",
       "         0,  1,  4, 12, 15,  0,  0,  0,  0,  0,  0,  0,  0,  0,  0,  0],\n",
       "       [ 5,  9, 13,  0,  0,  0,  0,  0,  0,  0,  0,  0,  0,  0,  0,  0,\n",
       "         4,  7, 12, 15,  0,  0,  0,  0,  0,  0,  0,  0,  0,  0,  0,  0],\n",
       "       [ 3,  7, 11, 14, 15,  0,  0,  0,  0,  0,  0,  0,  0,  0,  0,  0,\n",
       "         1,  7, 10,  0,  0,  0,  0,  0,  0,  0,  0,  0,  0,  0,  0,  0],\n",
       "       [ 1,  3, 12,  0,  0,  0,  0,  0,  0,  0,  0,  0,  0,  0,  0,  0,\n",
       "         0,  3,  6,  8, 15,  0,  0,  0,  0,  0,  0,  0,  0,  0,  0,  0]],\n",
       "      dtype=uint32)"
      ]
     },
     "execution_count": 339,
     "metadata": {},
     "output_type": "execute_result"
    }
   ],
   "source": [
    "resxcol.reshape((4,-1))"
   ]
  },
  {
   "cell_type": "code",
   "execution_count": 340,
   "id": "69cc453d",
   "metadata": {},
   "outputs": [
    {
     "data": {
      "text/plain": [
       "array([4, 5, 3, 4, 5, 3, 3, 5], dtype=uint32)"
      ]
     },
     "execution_count": 340,
     "metadata": {},
     "output_type": "execute_result"
    }
   ],
   "source": [
    "resxnnz"
   ]
  },
  {
   "cell_type": "markdown",
   "id": "f1bd0e85",
   "metadata": {},
   "source": [
    "## results"
   ]
  },
  {
   "cell_type": "code",
   "execution_count": 341,
   "id": "4d73d135",
   "metadata": {},
   "outputs": [
    {
     "data": {
      "text/plain": [
       "array([[0.6996368 , 1.8848312 , 0.16573755, 1.130233  , 0.49532753,\n",
       "        0.60025734, 0.17482497, 0.7240762 ],\n",
       "       [0.15550727, 0.18735047, 0.51614475, 0.31159392, 0.9677906 ,\n",
       "        0.7728439 , 0.30367106, 0.27932334],\n",
       "       [1.6236207 , 1.4160932 , 1.40742   , 1.1950791 , 0.8187757 ,\n",
       "        1.2898692 , 0.47157714, 0.99110806],\n",
       "       [0.3340667 , 0.30414024, 0.7711447 , 0.32051137, 0.1351769 ,\n",
       "        0.9285497 , 0.544282  , 0.09674796],\n",
       "       [0.61331564, 0.29892322, 0.        , 0.6311476 , 0.01893103,\n",
       "        0.        , 0.7309462 , 0.8390946 ]], dtype=float32)"
      ]
     },
     "execution_count": 341,
     "metadata": {},
     "output_type": "execute_result"
    }
   ],
   "source": [
    "mult.T"
   ]
  },
  {
   "cell_type": "code",
   "execution_count": 342,
   "id": "23ff0483",
   "metadata": {},
   "outputs": [
    {
     "ename": "ValueError",
     "evalue": "cannot reshape array of size 128 into shape (8,5)",
     "output_type": "error",
     "traceback": [
      "\u001b[0;31m---------------------------------------------------------------------------\u001b[0m",
      "\u001b[0;31mValueError\u001b[0m                                Traceback (most recent call last)",
      "\u001b[0;32m/tmp/ipykernel_2109/3098413385.py\u001b[0m in \u001b[0;36m<module>\u001b[0;34m\u001b[0m\n\u001b[0;32m----> 1\u001b[0;31m \u001b[0mresxdat\u001b[0m\u001b[0;34m.\u001b[0m\u001b[0mreshape\u001b[0m\u001b[0;34m(\u001b[0m\u001b[0ma\u001b[0m\u001b[0;34m.\u001b[0m\u001b[0mshape\u001b[0m\u001b[0;34m[\u001b[0m\u001b[0;36m0\u001b[0m\u001b[0;34m]\u001b[0m\u001b[0;34m,\u001b[0m\u001b[0mtopk\u001b[0m\u001b[0;34m)\u001b[0m\u001b[0;34m\u001b[0m\u001b[0;34m\u001b[0m\u001b[0m\n\u001b[0m",
      "\u001b[0;31mValueError\u001b[0m: cannot reshape array of size 128 into shape (8,5)"
     ]
    }
   ],
   "source": [
    "resxdat.reshape(a.shape[0],topk)"
   ]
  },
  {
   "cell_type": "code",
   "execution_count": 343,
   "id": "e74da606",
   "metadata": {},
   "outputs": [
    {
     "ename": "ValueError",
     "evalue": "cannot reshape array of size 128 into shape (8,5)",
     "output_type": "error",
     "traceback": [
      "\u001b[0;31m---------------------------------------------------------------------------\u001b[0m",
      "\u001b[0;31mValueError\u001b[0m                                Traceback (most recent call last)",
      "\u001b[0;32m/tmp/ipykernel_2109/746234102.py\u001b[0m in \u001b[0;36m<module>\u001b[0;34m\u001b[0m\n\u001b[0;32m----> 1\u001b[0;31m \u001b[0mresxcol\u001b[0m\u001b[0;34m.\u001b[0m\u001b[0mreshape\u001b[0m\u001b[0;34m(\u001b[0m\u001b[0ma\u001b[0m\u001b[0;34m.\u001b[0m\u001b[0mshape\u001b[0m\u001b[0;34m[\u001b[0m\u001b[0;36m0\u001b[0m\u001b[0;34m]\u001b[0m\u001b[0;34m,\u001b[0m\u001b[0mtopk\u001b[0m\u001b[0;34m)\u001b[0m\u001b[0;34m\u001b[0m\u001b[0;34m\u001b[0m\u001b[0m\n\u001b[0m",
      "\u001b[0;31mValueError\u001b[0m: cannot reshape array of size 128 into shape (8,5)"
     ]
    }
   ],
   "source": [
    "resxcol.reshape(a.shape[0],topk)"
   ]
  },
  {
   "cell_type": "code",
   "execution_count": 344,
   "id": "0d163788",
   "metadata": {},
   "outputs": [
    {
     "data": {
      "text/plain": [
       "array([4, 5, 3, 4, 5, 3, 3, 5], dtype=uint32)"
      ]
     },
     "execution_count": 344,
     "metadata": {},
     "output_type": "execute_result"
    }
   ],
   "source": [
    "resxnnz.reshape(a.shape[0])"
   ]
  },
  {
   "cell_type": "code",
   "execution_count": 345,
   "id": "d1e81731",
   "metadata": {},
   "outputs": [
    {
     "ename": "ValueError",
     "evalue": "cannot reshape array of size 40 into shape (5,5)",
     "output_type": "error",
     "traceback": [
      "\u001b[0;31m---------------------------------------------------------------------------\u001b[0m",
      "\u001b[0;31mValueError\u001b[0m                                Traceback (most recent call last)",
      "\u001b[0;32m/tmp/ipykernel_2109/3713949578.py\u001b[0m in \u001b[0;36m<module>\u001b[0;34m\u001b[0m\n\u001b[0;32m----> 1\u001b[0;31m \u001b[0mresxdatt\u001b[0m\u001b[0;34m.\u001b[0m\u001b[0mreshape\u001b[0m\u001b[0;34m(\u001b[0m\u001b[0mb\u001b[0m\u001b[0;34m.\u001b[0m\u001b[0mshape\u001b[0m\u001b[0;34m[\u001b[0m\u001b[0;36m1\u001b[0m\u001b[0;34m]\u001b[0m\u001b[0;34m,\u001b[0m\u001b[0mtopk\u001b[0m\u001b[0;34m)\u001b[0m\u001b[0;34m\u001b[0m\u001b[0;34m\u001b[0m\u001b[0m\n\u001b[0m",
      "\u001b[0;31mValueError\u001b[0m: cannot reshape array of size 40 into shape (5,5)"
     ]
    }
   ],
   "source": [
    "resxdatt.reshape(b.shape[1],topk)"
   ]
  },
  {
   "cell_type": "code",
   "execution_count": 346,
   "id": "eec545c9",
   "metadata": {},
   "outputs": [
    {
     "ename": "ValueError",
     "evalue": "cannot reshape array of size 40 into shape (5,5)",
     "output_type": "error",
     "traceback": [
      "\u001b[0;31m---------------------------------------------------------------------------\u001b[0m",
      "\u001b[0;31mValueError\u001b[0m                                Traceback (most recent call last)",
      "\u001b[0;32m/tmp/ipykernel_2109/233720469.py\u001b[0m in \u001b[0;36m<module>\u001b[0;34m\u001b[0m\n\u001b[0;32m----> 1\u001b[0;31m \u001b[0mresxcolt\u001b[0m\u001b[0;34m.\u001b[0m\u001b[0mreshape\u001b[0m\u001b[0;34m(\u001b[0m\u001b[0mb\u001b[0m\u001b[0;34m.\u001b[0m\u001b[0mshape\u001b[0m\u001b[0;34m[\u001b[0m\u001b[0;36m1\u001b[0m\u001b[0;34m]\u001b[0m\u001b[0;34m,\u001b[0m\u001b[0mtopk\u001b[0m\u001b[0;34m)\u001b[0m\u001b[0;34m\u001b[0m\u001b[0;34m\u001b[0m\u001b[0m\n\u001b[0m",
      "\u001b[0;31mValueError\u001b[0m: cannot reshape array of size 40 into shape (5,5)"
     ]
    }
   ],
   "source": [
    "resxcolt.reshape(b.shape[1],topk)"
   ]
  },
  {
   "cell_type": "code",
   "execution_count": 347,
   "id": "99c0beec",
   "metadata": {},
   "outputs": [
    {
     "data": {
      "text/plain": [
       "array([8, 8, 8, 8, 8], dtype=uint32)"
      ]
     },
     "execution_count": 347,
     "metadata": {},
     "output_type": "execute_result"
    }
   ],
   "source": [
    "resxnnzt.reshape(b.shape[1])"
   ]
  },
  {
   "cell_type": "markdown",
   "id": "a07aaaf8",
   "metadata": {},
   "source": [
    "### Update Vals (add sparse)"
   ]
  },
  {
   "cell_type": "code",
   "execution_count": 348,
   "id": "4a4440eb",
   "metadata": {},
   "outputs": [
    {
     "data": {
      "text/plain": [
       "(16, 5)"
      ]
     },
     "execution_count": 348,
     "metadata": {},
     "output_type": "execute_result"
    }
   ],
   "source": [
    "b.shape"
   ]
  },
  {
   "cell_type": "code",
   "execution_count": 349,
   "id": "dbd85aa7",
   "metadata": {},
   "outputs": [],
   "source": [
    "randadd = np.random.rand(*b.shape)"
   ]
  },
  {
   "cell_type": "code",
   "execution_count": 350,
   "id": "4d7cd83c",
   "metadata": {},
   "outputs": [],
   "source": [
    "randdata, randcols, randnnz, randellw = to_data(randadd)\n",
    "bdata_buf = cl.Buffer(ctx, mf.READ_WRITE | mf.COPY_HOST_PTR, hostbuf=bdata)\n",
    "bcols_buf = cl.Buffer(ctx, mf.READ_WRITE | mf.COPY_HOST_PTR, hostbuf=bcols)\n",
    "bnnzs_buf = cl.Buffer(ctx, mf.READ_WRITE | mf.COPY_HOST_PTR, hostbuf=bnnz)\n",
    "randdata_buf = cl.Buffer(ctx, mf.READ_WRITE | mf.COPY_HOST_PTR, hostbuf=randdata)\n",
    "randcols_buf = cl.Buffer(ctx, mf.READ_WRITE | mf.COPY_HOST_PTR, hostbuf=randcols)\n",
    "randnnzs_buf = cl.Buffer(ctx, mf.READ_WRITE | mf.COPY_HOST_PTR, hostbuf=randnnz)\n",
    "\n",
    "\n",
    "prg = cl.Program(ctx, \"\"\"\n",
    "    // Every global_id_0 works on a row\n",
    "    __kernel void adddense(__global  float* matData,     // INPUT MATRIX DATA\n",
    "                            __global  uint*  colIdx,\n",
    "                            __global  uint*  rowNnz,\n",
    "                            float  lr,\n",
    "                            uint   ellwidth,\n",
    "                            __global  float* matDataAdd,     // INPUT MATRIX DATA\n",
    "                            __global  uint*  colIdxAdd,\n",
    "                            __global  uint*  rowNnzAdd,\n",
    "                            uint ellwidthAdd\n",
    "                            ) { // LOCAL SHARED BUFFER\n",
    "      uint gid = get_global_id(0);\n",
    "      uint nrows = get_global_size(0);\n",
    "\n",
    "      uint nnz    = rowNnz[gid];\n",
    "\n",
    "      uint baseidxs = gid*ellwidth;\n",
    "      uint baseidxd = gid*ellwidthAdd;\n",
    "\n",
    "      uint nnzadd = rowNnzAdd[gid];\n",
    "      \n",
    "      uint m = 0;\n",
    "      for (uint i=0; i<nnzadd; i++) {\n",
    "        float addval = matDataAdd[baseidxd+i] * lr;\n",
    "        uint addcol = colIdxAdd[baseidxd+i];\n",
    "        \n",
    "        if (addval == 0.0) {\n",
    "          //printf(\"\\\\nZERO VAL, CONT: %.2f - %i\", addval, gid);\n",
    "          continue;\n",
    "        }\n",
    "\n",
    "        uint refcol = colIdx[baseidxs+i];\n",
    "        m = 0;\n",
    "        while (refcol < addcol && (i+m) < nnz) {\n",
    "          m += 1;\n",
    "          refcol = colIdx[baseidxs+i+m];\n",
    "        }\n",
    "\n",
    "        //if (gid == 0)\n",
    "        //  printf(\"\\\\nADD VAL:%.2f  ADDCOL:%i  ref:(%i)  gid/i/m:(%i/%i%i)\", addval, addcol, refcol, gid,i,m);\n",
    "        \n",
    "        if (addcol == refcol) {\n",
    "          matData[baseidxs+i+m] += addval;\n",
    "          //if (gid == 0)\n",
    "          //  printf(\"\\\\nINCREMENT: %.2f\",addval);\n",
    "          continue;\n",
    "        } else {\n",
    "          //if (gid == 0)\n",
    "          //  printf(\"\\\\nADD: %.2f %i-%i\",addval, addcol, refcol);\n",
    "          if (rowNnz[gid] >= ellwidth) {\n",
    "            break;\n",
    "          }\n",
    "\n",
    "          for (uint j=nnz; j>i+m; j--) {\n",
    "            //printf(\"\\\\nMOVE:%.2f\", matData[baseidx+j-1]);\n",
    "            colIdx[baseidxs+j] = colIdx[baseidxs+j-1];\n",
    "            matData[baseidxs+j] = matData[baseidxs+j-1];\n",
    "          }\n",
    "          rowNnz[gid] += 1;\n",
    "          nnz = rowNnz[gid];\n",
    "        \n",
    "          //if (gid == 0)\n",
    "          //  printf(\"\\\\nSET VAL:%.2f idx:%i/%i  col:%i\", addval, baseidxs+i, baseidxd+i, addcol);\n",
    "          matData[baseidxs+i+m] = addval;\n",
    "          colIdx[baseidxs+i+m] = addcol;\n",
    "        }\n",
    "      }\n",
    "    }\"\"\").build()"
   ]
  },
  {
   "cell_type": "code",
   "execution_count": 351,
   "id": "35387816",
   "metadata": {},
   "outputs": [],
   "source": [
    "res = np.zeros(a.shape[0]).astype(np.float32)\n",
    "#res"
   ]
  },
  {
   "cell_type": "code",
   "execution_count": 352,
   "id": "a7c249b6",
   "metadata": {},
   "outputs": [],
   "source": [
    "rows = b.shape[0]"
   ]
  },
  {
   "cell_type": "code",
   "execution_count": 353,
   "id": "b56fd01d",
   "metadata": {},
   "outputs": [
    {
     "data": {
      "text/plain": [
       "<pyopencl._cl.Event at 0x7f5a642f19a0>"
      ]
     },
     "execution_count": 353,
     "metadata": {},
     "output_type": "execute_result"
    }
   ],
   "source": [
    "res_buf = cl.Buffer(ctx, mf.WRITE_ONLY, b.nbytes)\n",
    "knl = prg.adddense  # Use this Kernel object for repeated calls\n",
    "knl(queue, [rows], None, bdata_buf, bcols_buf, bnnzs_buf, np.float32(1), np.uint32(ellwb), \n",
    "    randdata_buf, randcols_buf, randnnzs_buf, np.uint32(randellw))"
   ]
  },
  {
   "cell_type": "code",
   "execution_count": 354,
   "id": "6f9789d9",
   "metadata": {},
   "outputs": [
    {
     "data": {
      "text/plain": [
       "<pyopencl._cl.NannyEvent at 0x7f5a642acc70>"
      ]
     },
     "execution_count": 354,
     "metadata": {},
     "output_type": "execute_result"
    }
   ],
   "source": [
    "data_res = np.empty_like(bdata)\n",
    "cols_res = np.empty_like(bcols)\n",
    "nnzs_res = np.empty_like(bnnz)\n",
    "cl.enqueue_copy(queue, data_res, bdata_buf, is_blocking=True)\n",
    "cl.enqueue_copy(queue, cols_res, bcols_buf, is_blocking=True)\n",
    "cl.enqueue_copy(queue, nnzs_res, bnnzs_buf, is_blocking=True)"
   ]
  },
  {
   "cell_type": "code",
   "execution_count": 355,
   "id": "143ffa2e",
   "metadata": {},
   "outputs": [
    {
     "data": {
      "text/plain": [
       "array([[0.49395892, 0.        , 0.46451807, 0.        , 0.        ],\n",
       "       [0.65864426, 0.        , 0.9786625 , 0.        , 0.        ],\n",
       "       [0.31044865, 0.        , 0.02502257, 0.        , 0.        ],\n",
       "       [0.        , 0.46765924, 0.        , 0.        , 0.03160795],\n",
       "       [0.71082693, 0.        , 0.58997136, 0.        , 0.        ],\n",
       "       [0.        , 0.        , 0.84622455, 0.5916316 , 0.        ],\n",
       "       [0.46450275, 0.        , 0.        , 0.        , 0.9429863 ],\n",
       "       [0.        , 0.34248227, 0.7672639 , 0.        , 0.        ],\n",
       "       [0.        , 0.        , 0.9855889 , 0.        , 0.2535647 ],\n",
       "       [0.        , 0.7705159 , 0.31522992, 0.        , 0.        ],\n",
       "       [0.        , 0.7167741 , 0.        , 0.8238369 , 0.        ],\n",
       "       [0.        , 0.91970533, 0.        , 0.7873889 , 0.        ],\n",
       "       [0.        , 0.        , 0.        , 0.404568  , 0.841323  ],\n",
       "       [0.        , 0.        , 0.674503  , 0.48820347, 0.        ],\n",
       "       [0.18725161, 0.11607183, 0.        , 0.        , 0.        ],\n",
       "       [0.7250254 , 0.        , 0.12346577, 0.        , 0.        ]],\n",
       "      dtype=float32)"
      ]
     },
     "execution_count": 355,
     "metadata": {},
     "output_type": "execute_result"
    }
   ],
   "source": [
    "b"
   ]
  },
  {
   "cell_type": "code",
   "execution_count": 356,
   "id": "93c83411",
   "metadata": {},
   "outputs": [
    {
     "data": {
      "text/plain": [
       "array([0, 2, 0, 0, 0, 0, 2, 0, 0, 0, 0, 2, 0, 0, 0, 1, 4, 0, 0, 0, 0, 2,\n",
       "       0, 0, 0, 2, 3, 0, 0, 0, 0, 4, 0, 0, 0, 1, 2, 0, 0, 0, 2, 4, 0, 0,\n",
       "       0, 1, 2, 0, 0, 0, 1, 3, 0, 0, 0, 1, 3, 0, 0, 0, 3, 4, 0, 0, 0, 2,\n",
       "       3, 0, 0, 0, 0, 1, 0, 0, 0, 0, 2, 0, 0, 0], dtype=uint32)"
      ]
     },
     "execution_count": 356,
     "metadata": {},
     "output_type": "execute_result"
    }
   ],
   "source": [
    "bcols"
   ]
  },
  {
   "cell_type": "code",
   "execution_count": 357,
   "id": "307d1e92",
   "metadata": {},
   "outputs": [
    {
     "data": {
      "text/plain": [
       "array([0.59898084, 0.72692764, 1.413269  , 0.18923925, 0.60242975,\n",
       "       0.66276884, 0.7435114 , 1.1969025 , 0.01742795, 0.73911434,\n",
       "       1.2171143 , 0.60595757, 0.18582854, 0.53565234, 0.95624155,\n",
       "       0.3272366 , 1.1077902 , 0.5512528 , 0.9750269 , 0.15299505,\n",
       "       1.1938903 , 0.558434  , 0.82644945, 0.70988417, 0.99955094,\n",
       "       0.9250974 , 0.00653369, 1.2793535 , 0.59819007, 0.9270997 ,\n",
       "       1.2004621 , 0.20090504, 0.2725012 , 0.9116319 , 1.5838816 ,\n",
       "       0.31735668, 1.1819086 , 1.0524116 , 0.754549  , 0.79547673,\n",
       "       0.8382792 , 0.01663798, 1.2586385 , 0.41384438, 0.2883268 ,\n",
       "       0.76330817, 1.0443709 , 0.89169025, 0.6034687 , 0.64717245,\n",
       "       0.39072165, 1.3489455 , 0.3536333 , 1.8236    , 0.24869065,\n",
       "       0.9900133 , 1.717294  , 0.4082332 , 0.9859982 , 0.12968084,\n",
       "       0.7715938 , 0.5082965 , 0.7822947 , 0.6116313 , 0.88699055,\n",
       "       0.10459811, 0.5772082 , 1.5592778 , 0.9416207 , 0.09933764,\n",
       "       0.3348385 , 0.37105194, 0.26246974, 0.02615215, 0.20316863,\n",
       "       1.4501727 , 0.68032545, 0.23765445, 0.7476972 , 0.56373346],\n",
       "      dtype=float32)"
      ]
     },
     "execution_count": 357,
     "metadata": {},
     "output_type": "execute_result"
    }
   ],
   "source": [
    "data_res"
   ]
  },
  {
   "cell_type": "code",
   "execution_count": 358,
   "id": "e12995e5",
   "metadata": {},
   "outputs": [
    {
     "data": {
      "text/plain": [
       "array([0, 1, 2, 3, 4, 0, 1, 2, 3, 4, 0, 1, 2, 3, 4, 0, 1, 2, 3, 4, 0, 1,\n",
       "       2, 3, 4, 0, 1, 2, 3, 4, 0, 1, 2, 3, 4, 0, 1, 2, 3, 4, 0, 1, 2, 3,\n",
       "       4, 0, 1, 2, 3, 4, 0, 1, 2, 3, 4, 0, 1, 2, 3, 4, 0, 1, 2, 3, 4, 0,\n",
       "       1, 2, 3, 4, 0, 1, 2, 3, 4, 0, 1, 2, 3, 4], dtype=uint32)"
      ]
     },
     "execution_count": 358,
     "metadata": {},
     "output_type": "execute_result"
    }
   ],
   "source": [
    "cols_res"
   ]
  },
  {
   "cell_type": "code",
   "execution_count": 359,
   "id": "4d88bd60",
   "metadata": {},
   "outputs": [
    {
     "data": {
      "text/plain": [
       "array([5, 5, 5, 5, 5, 5, 5, 5, 5, 5, 5, 5, 5, 5, 5, 5], dtype=uint32)"
      ]
     },
     "execution_count": 359,
     "metadata": {},
     "output_type": "execute_result"
    }
   ],
   "source": [
    "nnzs_res"
   ]
  },
  {
   "cell_type": "code",
   "execution_count": 360,
   "id": "e0e7c9cb",
   "metadata": {},
   "outputs": [
    {
     "data": {
      "text/plain": [
       "array([[0.10502191, 0.72692763, 0.94875092, 0.18923926, 0.60242976],\n",
       "       [0.00412456, 0.74351135, 0.21824009, 0.01742795, 0.73911432],\n",
       "       [0.90666569, 0.60595756, 0.16080596, 0.53565232, 0.95624154],\n",
       "       [0.3272366 , 0.64013108, 0.5512528 , 0.97502693, 0.12138711],\n",
       "       [0.48306338, 0.55843403, 0.23647809, 0.70988416, 0.99955097],\n",
       "       [0.92509741, 0.00653369, 0.43312893, 0.0065585 , 0.92709972],\n",
       "       [0.73595936, 0.20090504, 0.27250121, 0.91163188, 0.64089539],\n",
       "       [0.31735668, 0.83942634, 0.28514763, 0.75454901, 0.79547676],\n",
       "       [0.8382792 , 0.01663799, 0.27304963, 0.41384439, 0.03476211],\n",
       "       [0.76330818, 0.27385498, 0.57646036, 0.6034687 , 0.64717247],\n",
       "       [0.39072165, 0.63217139, 0.35363332, 0.99976313, 0.24869065],\n",
       "       [0.99001328, 0.7975886 , 0.40823321, 0.1986093 , 0.12968084],\n",
       "       [0.77159383, 0.50829649, 0.78229467, 0.20706327, 0.0456675 ],\n",
       "       [0.10459812, 0.5772082 , 0.88477483, 0.45341721, 0.09933764],\n",
       "       [0.14758689, 0.25498012, 0.26246972, 0.02615214, 0.20316864],\n",
       "       [0.72514728, 0.68032548, 0.11418868, 0.74769718, 0.56373346]])"
      ]
     },
     "execution_count": 360,
     "metadata": {},
     "output_type": "execute_result"
    }
   ],
   "source": [
    "randadd"
   ]
  },
  {
   "cell_type": "code",
   "execution_count": 361,
   "id": "47150c28",
   "metadata": {},
   "outputs": [
    {
     "data": {
      "text/plain": [
       "array([[0.59898084, 0.72692764, 1.41326904, 0.18923925, 0.60242975],\n",
       "       [0.66276884, 0.74351138, 1.19690251, 0.01742795, 0.73911434],\n",
       "       [1.21711433, 0.60595757, 0.18582854, 0.53565234, 0.95624155],\n",
       "       [0.32723659, 1.10779023, 0.55125278, 0.97502691, 0.15299505],\n",
       "       [1.19389033, 0.55843401, 0.82644945, 0.70988417, 0.99955094],\n",
       "       [0.92509741, 0.00653369, 1.2793535 , 0.59819007, 0.9270997 ],\n",
       "       [1.2004621 , 0.20090504, 0.2725012 , 0.91163188, 1.58388162],\n",
       "       [0.31735668, 1.18190861, 1.05241156, 0.75454903, 0.79547673],\n",
       "       [0.83827919, 0.01663798, 1.2586385 , 0.41384438, 0.2883268 ],\n",
       "       [0.76330817, 1.04437089, 0.89169025, 0.60346872, 0.64717245],\n",
       "       [0.39072165, 1.3489455 , 0.35363331, 1.82360005, 0.24869065],\n",
       "       [0.9900133 , 1.71729398, 0.4082332 , 0.98599821, 0.12968084],\n",
       "       [0.77159381, 0.50829649, 0.78229469, 0.61163127, 0.88699055],\n",
       "       [0.10459811, 0.57720822, 1.55927777, 0.94162071, 0.09933764],\n",
       "       [0.33483851, 0.37105194, 0.26246974, 0.02615215, 0.20316863],\n",
       "       [1.45017266, 0.68032545, 0.23765445, 0.74769717, 0.56373346]])"
      ]
     },
     "execution_count": 361,
     "metadata": {},
     "output_type": "execute_result"
    }
   ],
   "source": [
    "adenseadd = to_dense(data_res, cols_res, nnzs_res, ellwb, b.shape)\n",
    "adenseadd"
   ]
  },
  {
   "cell_type": "code",
   "execution_count": 362,
   "id": "5cab2447",
   "metadata": {},
   "outputs": [
    {
     "data": {
      "text/plain": [
       "array([[0.59898083, 0.72692763, 1.41326899, 0.18923926, 0.60242976],\n",
       "       [0.66276882, 0.74351135, 1.19690258, 0.01742795, 0.73911432],\n",
       "       [1.21711433, 0.60595756, 0.18582853, 0.53565232, 0.95624154],\n",
       "       [0.3272366 , 1.10779031, 0.5512528 , 0.97502693, 0.15299506],\n",
       "       [1.19389031, 0.55843403, 0.82644945, 0.70988416, 0.99955097],\n",
       "       [0.92509741, 0.00653369, 1.27935348, 0.59819009, 0.92709972],\n",
       "       [1.20046211, 0.20090504, 0.27250121, 0.91163188, 1.5838817 ],\n",
       "       [0.31735668, 1.18190861, 1.05241152, 0.75454901, 0.79547676],\n",
       "       [0.8382792 , 0.01663799, 1.25863854, 0.41384439, 0.2883268 ],\n",
       "       [0.76330818, 1.0443709 , 0.89169028, 0.6034687 , 0.64717247],\n",
       "       [0.39072165, 1.3489455 , 0.35363332, 1.82360005, 0.24869065],\n",
       "       [0.99001328, 1.71729394, 0.40823321, 0.98599822, 0.12968084],\n",
       "       [0.77159383, 0.50829649, 0.78229467, 0.61163126, 0.88699052],\n",
       "       [0.10459812, 0.5772082 , 1.55927785, 0.94162067, 0.09933764],\n",
       "       [0.3348385 , 0.37105194, 0.26246972, 0.02615214, 0.20316864],\n",
       "       [1.45017269, 0.68032548, 0.23765445, 0.74769718, 0.56373346]])"
      ]
     },
     "execution_count": 362,
     "metadata": {},
     "output_type": "execute_result"
    }
   ],
   "source": [
    "baseadd = (b+randadd)\n",
    "baseadd"
   ]
  },
  {
   "cell_type": "code",
   "execution_count": 363,
   "id": "e6ef5fd3",
   "metadata": {},
   "outputs": [
    {
     "data": {
      "text/plain": [
       "array([[ 1.54027120e-08,  9.56472290e-09,  5.14008753e-08,\n",
       "        -6.51070109e-09, -9.59787139e-09],\n",
       "       [ 1.93356010e-08,  2.51855449e-08, -6.32907975e-08,\n",
       "        -2.64986588e-10,  2.27917963e-08],\n",
       "       [-2.88382052e-09,  1.10168039e-08,  6.01101946e-09,\n",
       "         2.21009436e-08,  3.57082952e-09],\n",
       "       [-8.19521695e-09, -7.95521116e-08, -1.66340128e-08,\n",
       "        -2.61371355e-08, -6.07570516e-09],\n",
       "       [ 2.46283216e-08, -1.80848190e-08,  2.37064823e-09,\n",
       "         5.05839981e-09, -2.91283488e-08],\n",
       "       [-2.31012320e-09,  7.05647762e-11,  1.90398737e-08,\n",
       "        -2.27391351e-08, -1.04726119e-08],\n",
       "       [-1.18419576e-08, -3.52715623e-09, -6.98318958e-09,\n",
       "        -9.54711865e-10, -8.01039124e-08],\n",
       "       [-4.64041106e-09, -2.64914934e-09,  3.31328849e-08,\n",
       "         1.39339376e-08, -2.67710514e-08],\n",
       "       [-1.59260511e-08, -6.67406574e-10, -3.59990335e-08,\n",
       "        -1.04928971e-08, -4.27748725e-10],\n",
       "       [-9.11933251e-09, -1.16793284e-08, -2.69303090e-08,\n",
       "         1.52864228e-08, -2.15891514e-08],\n",
       "       [-2.16968687e-09, -8.50679971e-10, -6.11474915e-09,\n",
       "         3.54884766e-09,  2.57627808e-10],\n",
       "       [ 2.18319440e-08,  4.20803090e-08, -1.29871540e-08,\n",
       "        -1.16434260e-08,  1.36848544e-09],\n",
       "       [-2.04588275e-08, -2.65749311e-09,  1.95071634e-08,\n",
       "         1.32058163e-08,  3.12307653e-08],\n",
       "       [-3.24178862e-09,  1.60442578e-08, -8.15700867e-08,\n",
       "         3.47070879e-08, -2.73842715e-09],\n",
       "       [ 1.13387011e-08, -5.57895607e-09,  1.47756680e-08,\n",
       "         5.26599653e-10, -5.98040162e-09],\n",
       "       [-3.09056780e-08, -2.79876197e-08, -2.59798727e-09,\n",
       "        -7.77155140e-09, -5.39787837e-09]])"
      ]
     },
     "execution_count": 363,
     "metadata": {},
     "output_type": "execute_result"
    }
   ],
   "source": [
    "adenseadd - baseadd"
   ]
  },
  {
   "cell_type": "code",
   "execution_count": 364,
   "id": "3c44cf1f",
   "metadata": {},
   "outputs": [
    {
     "data": {
      "text/plain": [
       "-2.9250741062636365e-07"
      ]
     },
     "execution_count": 364,
     "metadata": {},
     "output_type": "execute_result"
    }
   ],
   "source": [
    "(adenseadd - baseadd).sum()"
   ]
  },
  {
   "cell_type": "markdown",
   "id": "a0a6446b",
   "metadata": {},
   "source": [
    "### Update Vals (add sparset)"
   ]
  },
  {
   "cell_type": "code",
   "execution_count": 365,
   "id": "77a7c524",
   "metadata": {},
   "outputs": [],
   "source": [
    "multt=np.zeros(mult.T.shape)\n",
    "\n",
    "for row in range(multt.shape[0]):\n",
    "    for col in range(multt.shape[1]):\n",
    "        multt[row][col] = mult[col][row]"
   ]
  },
  {
   "cell_type": "code",
   "execution_count": 366,
   "id": "24a8cbcf",
   "metadata": {},
   "outputs": [],
   "source": [
    "multdata, multcols, multnnz, multellw = to_data(multt)\n",
    "multdata_buf = cl.Buffer(ctx, mf.READ_WRITE | mf.COPY_HOST_PTR, hostbuf=multdata)\n",
    "multcols_buf = cl.Buffer(ctx, mf.READ_WRITE | mf.COPY_HOST_PTR, hostbuf=multcols)\n",
    "multnnzs_buf = cl.Buffer(ctx, mf.READ_WRITE | mf.COPY_HOST_PTR, hostbuf=multnnz)"
   ]
  },
  {
   "cell_type": "code",
   "execution_count": 367,
   "id": "ad7e0c73",
   "metadata": {},
   "outputs": [
    {
     "data": {
      "text/plain": [
       "((8, 16), (16, 5))"
      ]
     },
     "execution_count": 367,
     "metadata": {},
     "output_type": "execute_result"
    }
   ],
   "source": [
    "a.shape, b.shape"
   ]
  },
  {
   "cell_type": "code",
   "execution_count": 368,
   "id": "bf9e5c9e",
   "metadata": {},
   "outputs": [],
   "source": [
    "res = np.zeros(a.shape[0]).astype(np.float32)\n",
    "#res"
   ]
  },
  {
   "cell_type": "code",
   "execution_count": 369,
   "id": "940e9ffa",
   "metadata": {},
   "outputs": [],
   "source": [
    "rows = mult.T.shape[0]"
   ]
  },
  {
   "cell_type": "code",
   "execution_count": 370,
   "id": "d560f7e9",
   "metadata": {},
   "outputs": [],
   "source": [
    "mult = mult.astype(np.float32)"
   ]
  },
  {
   "cell_type": "code",
   "execution_count": 371,
   "id": "78aeaa8c",
   "metadata": {},
   "outputs": [
    {
     "data": {
      "text/plain": [
       "<pyopencl._cl.Event at 0x7f5a642fa090>"
      ]
     },
     "execution_count": 371,
     "metadata": {},
     "output_type": "execute_result"
    }
   ],
   "source": [
    "res_buf = cl.Buffer(ctx, mf.WRITE_ONLY, b.nbytes)\n",
    "knl = prg.adddense  # Use this Kernel object for repeated calls\n",
    "knl(queue, [rows], None, multdata_buf, multcols_buf, multnnzs_buf, np.float32(1), np.uint32(multellw), \n",
    "    sdatat_buf, sidxst_buf, snnzst_buf, np.uint32(topk))"
   ]
  },
  {
   "cell_type": "code",
   "execution_count": 372,
   "id": "b0e8ab07",
   "metadata": {},
   "outputs": [
    {
     "data": {
      "text/plain": [
       "array([[0.6996368 , 1.8848312 , 0.16573755, 1.130233  , 0.49532753,\n",
       "        0.60025734, 0.17482497, 0.7240762 ],\n",
       "       [0.15550727, 0.18735047, 0.51614475, 0.31159392, 0.9677906 ,\n",
       "        0.7728439 , 0.30367106, 0.27932334],\n",
       "       [1.6236207 , 1.4160932 , 1.40742   , 1.1950791 , 0.8187757 ,\n",
       "        1.2898692 , 0.47157714, 0.99110806],\n",
       "       [0.3340667 , 0.30414024, 0.7711447 , 0.32051137, 0.1351769 ,\n",
       "        0.9285497 , 0.544282  , 0.09674796],\n",
       "       [0.61331564, 0.29892322, 0.        , 0.6311476 , 0.01893103,\n",
       "        0.        , 0.7309462 , 0.8390946 ]], dtype=float32)"
      ]
     },
     "execution_count": 372,
     "metadata": {},
     "output_type": "execute_result"
    }
   ],
   "source": [
    "mult.T"
   ]
  },
  {
   "cell_type": "code",
   "execution_count": 373,
   "id": "24da004f",
   "metadata": {},
   "outputs": [
    {
     "data": {
      "text/plain": [
       "<pyopencl._cl.NannyEvent at 0x7f5a642b2270>"
      ]
     },
     "execution_count": 373,
     "metadata": {},
     "output_type": "execute_result"
    }
   ],
   "source": [
    "data_res = np.empty_like(multdata)\n",
    "cols_res = np.empty_like(multcols)\n",
    "nnzs_res = np.empty_like(multnnz)\n",
    "cl.enqueue_copy(queue, data_res, multdata_buf, is_blocking=True)\n",
    "cl.enqueue_copy(queue, cols_res, multcols_buf, is_blocking=True)\n",
    "cl.enqueue_copy(queue, nnzs_res, multnnzs_buf, is_blocking=True)"
   ]
  },
  {
   "cell_type": "code",
   "execution_count": 374,
   "id": "1ea6665b",
   "metadata": {},
   "outputs": [
    {
     "data": {
      "text/plain": [
       "array([[-0.69963682, -1.88483119, -0.16573755, -1.13023305, -0.49532753,\n",
       "        -0.60025734, -0.17482497, -0.72407621],\n",
       "       [ 0.        ,  0.        ,  0.        ,  0.        ,  0.        ,\n",
       "        -0.60025734, -0.17482495, -0.72407627],\n",
       "       [ 0.        ,  0.        , -0.51614475, -0.31159389, -0.96779054,\n",
       "        -0.77284396, -0.30367103, -0.27932334],\n",
       "       [ 0.        ,  0.        ,  0.        ,  0.        ,  0.        ,\n",
       "         0.        ,  0.        , -0.27932334],\n",
       "       [ 0.        ,  0.        , -0.63114762, -0.20655912, -0.31513566,\n",
       "        -1.28986919, -0.47157717, -0.991108  ]])"
      ]
     },
     "execution_count": 374,
     "metadata": {},
     "output_type": "execute_result"
    }
   ],
   "source": [
    "multt-data_res.reshape(multt.shape)"
   ]
  },
  {
   "cell_type": "code",
   "execution_count": 375,
   "id": "29f989c4",
   "metadata": {},
   "outputs": [
    {
     "data": {
      "text/plain": [
       "array([8, 8, 8, 8, 8], dtype=uint32)"
      ]
     },
     "execution_count": 375,
     "metadata": {},
     "output_type": "execute_result"
    }
   ],
   "source": [
    "nnzs_res"
   ]
  },
  {
   "cell_type": "code",
   "execution_count": 376,
   "id": "3dd2b416",
   "metadata": {},
   "outputs": [
    {
     "data": {
      "text/plain": [
       "array([[1.39927363, 3.76966238, 0.33147511, 2.2604661 , 0.99065506,\n",
       "        1.20051467, 0.34964994, 1.44815242],\n",
       "       [0.15550727, 0.18735047, 0.51614475, 0.31159392, 0.9677906 ,\n",
       "        1.37310123, 0.47849602, 1.00339961],\n",
       "       [1.62362075, 1.41609323, 1.92356479, 1.50667298, 1.78656626,\n",
       "        2.06271315, 0.77524817, 1.2704314 ],\n",
       "       [0.33406669, 0.30414024, 0.77114469, 0.32051137, 0.1351769 ,\n",
       "        0.92854971, 0.54428202, 0.3760713 ],\n",
       "       [0.33406669, 0.29892322, 0.        , 0.63114762, 0.83770674,\n",
       "        1.28986919, 1.20252335, 1.83020258]])"
      ]
     },
     "execution_count": 376,
     "metadata": {},
     "output_type": "execute_result"
    }
   ],
   "source": [
    "adenseaddt = to_dense(data_res, cols_res, nnzs_res, multellw, multt.shape)\n",
    "adenseaddt"
   ]
  },
  {
   "cell_type": "code",
   "execution_count": 377,
   "id": "a65f4871",
   "metadata": {},
   "outputs": [
    {
     "data": {
      "text/plain": [
       "array([[-0.69963682, -1.88483119, -0.16573755, -1.13023305, -0.49532753,\n",
       "        -0.60025734, -0.17482497, -0.72407621],\n",
       "       [ 0.        ,  0.        ,  0.        ,  0.        ,  0.        ,\n",
       "        -0.60025734, -0.17482495, -0.72407627],\n",
       "       [ 0.        ,  0.        , -0.51614475, -0.31159389, -0.96779054,\n",
       "        -0.77284396, -0.30367103, -0.27932334],\n",
       "       [ 0.        ,  0.        ,  0.        ,  0.        ,  0.        ,\n",
       "         0.        ,  0.        , -0.27932334],\n",
       "       [ 0.27924895,  0.        ,  0.        ,  0.        , -0.81877572,\n",
       "        -1.28986919, -0.47157717, -0.991108  ]])"
      ]
     },
     "execution_count": 377,
     "metadata": {},
     "output_type": "execute_result"
    }
   ],
   "source": [
    "multt-adenseaddt"
   ]
  },
  {
   "cell_type": "code",
   "execution_count": 378,
   "id": "c8fa4a42",
   "metadata": {},
   "outputs": [
    {
     "data": {
      "text/plain": [
       "array([[1.39927363, 3.76966238, 0.33147511, 2.2604661 , 0.99065506,\n",
       "        1.20051467, 0.34964994, 1.44815242],\n",
       "       [0.15550727, 0.18735047, 0.51614475, 0.31159392, 0.9677906 ,\n",
       "        1.37310123, 0.47849602, 1.00339961],\n",
       "       [1.62362075, 1.41609323, 1.92356479, 1.50667298, 1.78656626,\n",
       "        2.06271315, 0.77524817, 1.2704314 ],\n",
       "       [0.33406669, 0.30414024, 0.77114469, 0.32051137, 0.1351769 ,\n",
       "        0.92854971, 0.54428202, 0.3760713 ],\n",
       "       [0.33406669, 0.29892322, 0.        , 0.63114762, 0.83770674,\n",
       "        1.28986919, 1.20252335, 1.83020258]])"
      ]
     },
     "execution_count": 378,
     "metadata": {},
     "output_type": "execute_result"
    }
   ],
   "source": [
    "adenseaddt"
   ]
  },
  {
   "cell_type": "code",
   "execution_count": 379,
   "id": "36f4b9a1",
   "metadata": {},
   "outputs": [
    {
     "name": "stderr",
     "output_type": "stream",
     "text": [
      "/tmp/ipykernel_2109/2943949275.py:1: DeprecationWarning: elementwise comparison failed; this will raise an error in the future.\n",
      "  adenseadd.T == adenseaddt\n"
     ]
    },
    {
     "data": {
      "text/plain": [
       "False"
      ]
     },
     "execution_count": 379,
     "metadata": {},
     "output_type": "execute_result"
    }
   ],
   "source": [
    "adenseadd.T == adenseaddt"
   ]
  },
  {
   "cell_type": "markdown",
   "id": "c0c255da",
   "metadata": {},
   "source": [
    "### Update Vals (add topk to sparse)"
   ]
  },
  {
   "cell_type": "code",
   "execution_count": 380,
   "id": "7b96afa2",
   "metadata": {},
   "outputs": [
    {
     "data": {
      "text/plain": [
       "array([[-5.22632837e-01,  1.31274581e+00,  6.26713991e-01,\n",
       "         3.13637584e-01, -3.76596689e-01,  4.88761859e-03,\n",
       "        -5.55174649e-01,  6.39165103e-01, -2.10940933e+00,\n",
       "         3.30693685e-02, -2.93532342e-01,  6.84451699e-01,\n",
       "        -6.47347689e-01,  7.27873564e-01,  7.91488886e-01,\n",
       "        -1.49035931e-01],\n",
       "       [ 8.47880363e-01,  8.92729044e-01,  6.21262550e-01,\n",
       "        -1.14085293e+00, -1.10533178e+00, -1.21122408e+00,\n",
       "        -8.00590575e-01,  5.91763318e-01, -4.87312883e-01,\n",
       "        -6.34929419e-01,  2.46132702e-01,  8.31072927e-01,\n",
       "         5.23058414e-01,  1.22928667e+00, -4.17523742e-01,\n",
       "         4.02868688e-01],\n",
       "       [ 8.76122355e-01,  1.19081818e-01, -9.71816957e-01,\n",
       "        -1.31140959e+00,  3.68975103e-01,  7.99282610e-01,\n",
       "         8.34740400e-01, -1.62523425e+00,  9.95305061e-01,\n",
       "         7.06632584e-02, -4.54083085e-01, -1.23369254e-01,\n",
       "        -1.52907693e+00, -8.85128319e-01, -1.95014015e-01,\n",
       "        -4.75803852e-01],\n",
       "       [-1.44459438e+00, -1.63728487e+00, -1.16091613e-02,\n",
       "        -2.00397626e-01, -1.37411213e+00, -7.43931770e-01,\n",
       "        -5.45784533e-01,  1.75485635e+00,  3.97294611e-01,\n",
       "         3.75710130e-01,  1.82599381e-01, -1.68691836e-02,\n",
       "         9.24801171e-01,  7.18314052e-01,  3.58000904e-01,\n",
       "        -1.23415101e+00],\n",
       "       [ 1.39721274e+00, -6.56291664e-01, -8.76179159e-01,\n",
       "         1.15158737e+00, -9.77126062e-01, -4.00415689e-01,\n",
       "        -5.53062916e-01, -2.08056641e+00,  5.21229506e-01,\n",
       "        -1.93864703e+00, -6.04778469e-01, -2.54777670e-01,\n",
       "         9.25730705e-01,  2.63358879e+00,  3.78167421e-01,\n",
       "         3.29631418e-01],\n",
       "       [-1.46414852e+00, -1.08540881e+00,  5.76427519e-01,\n",
       "         3.85886878e-01, -1.23728442e+00,  2.22297595e-03,\n",
       "         8.58729124e-01, -7.54586041e-01,  3.16084385e+00,\n",
       "        -1.00552487e+00, -7.81360716e-02,  4.05978709e-02,\n",
       "         7.26960778e-01, -4.14261669e-01,  4.62432742e-01,\n",
       "        -7.42576867e-02],\n",
       "       [ 4.72000450e-01,  2.97815502e-01,  1.32100511e+00,\n",
       "         3.13208669e-01, -1.34042251e+00, -1.15943241e+00,\n",
       "        -9.06559348e-01,  9.19509292e-01, -1.75399101e+00,\n",
       "         2.06757498e+00,  4.23611969e-01, -1.01468444e+00,\n",
       "        -4.89802867e-01, -2.01919064e-01, -4.57129329e-01,\n",
       "        -1.23188540e-01],\n",
       "       [ 1.14254403e+00,  1.46711707e+00, -9.36322570e-01,\n",
       "        -6.07010126e-01,  2.66763717e-01, -8.89613867e-01,\n",
       "         1.13837183e+00,  2.56242007e-01, -3.17115813e-01,\n",
       "        -1.30125952e+00,  1.35228708e-01, -1.24643934e+00,\n",
       "        -4.18756425e-01, -6.89695120e-01, -6.27197564e-01,\n",
       "         1.78884888e+00]], dtype=float32)"
      ]
     },
     "execution_count": 380,
     "metadata": {},
     "output_type": "execute_result"
    }
   ],
   "source": [
    "matadd = np.random.randn(*a.shape).astype(np.float32)\n",
    "matadd"
   ]
  },
  {
   "cell_type": "code",
   "execution_count": 381,
   "id": "412cfeec",
   "metadata": {},
   "outputs": [
    {
     "data": {
      "text/plain": [
       "array([[0.        , 0.68347037, 0.8035886 , 0.        , 0.        ,\n",
       "        0.        , 0.        , 0.08023349, 0.8858316 , 0.        ,\n",
       "        0.17861794, 0.        , 0.46201044, 0.        , 0.        ,\n",
       "        0.        ],\n",
       "       [0.9562663 , 0.5531271 , 0.        , 0.        , 0.5375557 ,\n",
       "        0.        , 0.        , 0.        , 0.        , 0.        ,\n",
       "        0.        , 0.20370705, 0.35530138, 0.        , 0.        ,\n",
       "        0.9186601 ],\n",
       "       [0.        , 0.20103766, 0.        , 0.        , 0.        ,\n",
       "        0.74341315, 0.        , 0.        , 0.        , 0.5787496 ,\n",
       "        0.        , 0.05387774, 0.        , 0.5917517 , 0.17797045,\n",
       "        0.        ],\n",
       "       [0.        , 0.        , 0.        , 0.14296253, 0.9103574 ,\n",
       "        0.03242496, 0.        , 0.71459514, 0.        , 0.        ,\n",
       "        0.        , 0.        , 0.7448136 , 0.        , 0.        ,\n",
       "        0.66635793],\n",
       "       [0.        , 0.        , 0.        , 0.59893256, 0.        ,\n",
       "        0.        , 0.        , 0.9217044 , 0.        , 0.16333483,\n",
       "        0.        , 0.17167741, 0.        , 0.        , 0.7605819 ,\n",
       "        0.48675168],\n",
       "       [0.11415514, 0.82574075, 0.        , 0.        , 0.        ,\n",
       "        0.27978534, 0.        , 0.25018668, 0.        , 0.        ,\n",
       "        0.83127654, 0.09929471, 0.        , 0.        , 0.        ,\n",
       "        0.        ],\n",
       "       [0.28872353, 0.04889954, 0.        , 0.6493426 , 0.        ,\n",
       "        0.33329687, 0.        , 0.        , 0.        , 0.        ,\n",
       "        0.        , 0.        , 0.84441024, 0.01120785, 0.        ,\n",
       "        0.        ],\n",
       "       [0.67626965, 0.        , 0.        , 0.35563806, 0.        ,\n",
       "        0.        , 0.69630474, 0.        , 0.6753613 , 0.        ,\n",
       "        0.        , 0.12287189, 0.        , 0.        , 0.        ,\n",
       "        0.09184685]], dtype=float32)"
      ]
     },
     "execution_count": 381,
     "metadata": {},
     "output_type": "execute_result"
    }
   ],
   "source": [
    "a"
   ]
  },
  {
   "cell_type": "code",
   "execution_count": 382,
   "id": "5db87320",
   "metadata": {},
   "outputs": [],
   "source": [
    "a_added = a + matadd"
   ]
  },
  {
   "cell_type": "code",
   "execution_count": 383,
   "id": "d2b7c76e",
   "metadata": {},
   "outputs": [],
   "source": [
    "adata_buf = cl.Buffer(ctx, mf.READ_WRITE | mf.COPY_HOST_PTR, hostbuf=adata)\n",
    "acols_buf = cl.Buffer(ctx, mf.READ_WRITE | mf.COPY_HOST_PTR, hostbuf=acols)\n",
    "annzs_buf = cl.Buffer(ctx, mf.READ_WRITE | mf.COPY_HOST_PTR, hostbuf=annz)\n",
    "adatat_buf = cl.Buffer(ctx, mf.READ_WRITE | mf.COPY_HOST_PTR, hostbuf=adatat)\n",
    "acolst_buf = cl.Buffer(ctx, mf.READ_WRITE | mf.COPY_HOST_PTR, hostbuf=acolst)\n",
    "annzst_buf = cl.Buffer(ctx, mf.READ_WRITE | mf.COPY_HOST_PTR, hostbuf=annzt)\n",
    "add_buf = cl.Buffer(ctx, mf.READ_WRITE | mf.COPY_HOST_PTR, hostbuf=matadd)\n",
    "\n",
    "prg = cl.Program(ctx, \"\"\"\n",
    "    // Every global_id_0 works on a row\n",
    "    __kernel void adddense(__global  float* matData,     // INPUT MATRIX DATA\n",
    "                            __global  uint*  colIdx,\n",
    "                            __global  uint*  rowNnz,\n",
    "                            float  lr,\n",
    "                            uint   ellwidth,\n",
    "                            uint   awidth,\n",
    "                            __global  float* vector_x    // INPUT\n",
    "                            ) { // LOCAL SHARED BUFFER\n",
    "      uint gid = get_global_id(0);\n",
    "      uint nrows = get_global_size(0);\n",
    "\n",
    "      uint nnz    = rowNnz[gid];\n",
    "      uint baseidxs = gid*ellwidth;\n",
    "      uint baseidxd = gid*awidth;\n",
    "      \n",
    "      for (uint i=0; i<awidth; i++) {\n",
    "        float addval = vector_x[baseidxd+i];\n",
    "        //if (gid==1)\n",
    "        //  printf(\"\\\\nADD VAL:%.2f idx:%i/%i  col:%i\", addval, baseidxs+i, baseidxd+i, colIdx[baseidxs+i]);\n",
    "        if (addval == 0) {\n",
    "          continue;\n",
    "        }\n",
    "        if (i == colIdx[baseidxs+i]) {\n",
    "          matData[baseidxs+i] += addval;\n",
    "        } else {\n",
    "          if (rowNnz[gid] >= ellwidth) {\n",
    "            break;\n",
    "          }\n",
    "          if (i > colIdx[baseidxs+i]) {\n",
    "            rowNnz[gid] += 1;\n",
    "            //if (gid==1)\n",
    "            //  printf(\"\\\\nSET VAL:%.2f idx:%i/%i  col:%i\", addval, baseidxs+i, baseidxd+i, colIdx[i]);\n",
    "            matData[baseidxs+i] = addval;\n",
    "            colIdx[baseidxs+i] = i;\n",
    "            continue;\n",
    "          }\n",
    "          for (uint j=nnz; j>i; j--) {\n",
    "            //printf(\"\\\\nMOVE:%.2f\", matData[baseidx+j-1]);\n",
    "            colIdx[baseidxs+j] = colIdx[baseidxs+j-1];\n",
    "            matData[baseidxs+j] = matData[baseidxs+j-1];\n",
    "          }\n",
    "          rowNnz[gid] += 1;\n",
    "          nnz = rowNnz[gid];\n",
    "          //if (gid==1)\n",
    "          //  printf(\"\\\\nSET VAL:%.2f idx:%i/%i  col:%i\", addval, baseidxs+i, baseidxd+i, colIdx[i]);\n",
    "          matData[baseidxs+i] = addval;\n",
    "          colIdx[baseidxs+i] = i;\n",
    "          if (nnz >= ellwidth)\n",
    "            break;\n",
    "        }\n",
    "      }\n",
    "    }\"\"\").build()"
   ]
  },
  {
   "cell_type": "code",
   "execution_count": 384,
   "id": "2adf45e7",
   "metadata": {},
   "outputs": [
    {
     "data": {
      "text/plain": [
       "((8, 16), (16, 5))"
      ]
     },
     "execution_count": 384,
     "metadata": {},
     "output_type": "execute_result"
    }
   ],
   "source": [
    "a.shape, b.shape"
   ]
  },
  {
   "cell_type": "code",
   "execution_count": 385,
   "id": "324edd08",
   "metadata": {},
   "outputs": [],
   "source": [
    "res = np.zeros(a.shape[0]).astype(np.float32)\n",
    "#res"
   ]
  },
  {
   "cell_type": "code",
   "execution_count": 386,
   "id": "2cf60c63",
   "metadata": {},
   "outputs": [],
   "source": [
    "rows = a.shape[0]"
   ]
  },
  {
   "cell_type": "code",
   "execution_count": 387,
   "id": "05c4e97c",
   "metadata": {},
   "outputs": [],
   "source": [
    "mult = mult.astype(np.float32)"
   ]
  },
  {
   "cell_type": "code",
   "execution_count": 388,
   "id": "7d3bb3fd",
   "metadata": {},
   "outputs": [
    {
     "data": {
      "text/plain": [
       "<pyopencl._cl.Event at 0x7f5a642f2c20>"
      ]
     },
     "execution_count": 388,
     "metadata": {},
     "output_type": "execute_result"
    }
   ],
   "source": [
    "res_buf = cl.Buffer(ctx, mf.WRITE_ONLY, b.nbytes)\n",
    "knl = prg.adddense  # Use this Kernel object for repeated calls\n",
    "knl(queue, [rows], None, adata_buf, acols_buf, annzs_buf, np.float32(1), np.uint32(ellwa),np.uint32(a.shape[1]), add_buf)"
   ]
  },
  {
   "cell_type": "code",
   "execution_count": 389,
   "id": "91283016",
   "metadata": {},
   "outputs": [
    {
     "data": {
      "text/plain": [
       "-0.52263284"
      ]
     },
     "execution_count": 389,
     "metadata": {},
     "output_type": "execute_result"
    }
   ],
   "source": [
    "matadd[0][0]"
   ]
  },
  {
   "cell_type": "code",
   "execution_count": 390,
   "id": "f520b590",
   "metadata": {},
   "outputs": [
    {
     "data": {
      "text/plain": [
       "<pyopencl._cl.NannyEvent at 0x7f5a642475e0>"
      ]
     },
     "execution_count": 390,
     "metadata": {},
     "output_type": "execute_result"
    }
   ],
   "source": [
    "data_res = np.empty_like(adata)\n",
    "cols_res = np.empty_like(acols)\n",
    "nnzs_res = np.empty_like(annz)\n",
    "cl.enqueue_copy(queue, data_res, adata_buf)\n",
    "cl.enqueue_copy(queue, cols_res, acols_buf)\n",
    "cl.enqueue_copy(queue, nnzs_res, annzs_buf)"
   ]
  },
  {
   "cell_type": "code",
   "execution_count": 391,
   "id": "945bad1d",
   "metadata": {},
   "outputs": [
    {
     "data": {
      "text/plain": [
       "array([[-0.52263284,  1.99621618,  1.43030262,  0.31363758, -0.37659669,\n",
       "         0.00488762, -0.55517465,  0.71939862, -1.22357774,  0.03306937,\n",
       "        -0.1149144 ,  0.6844517 , -0.18533725,  0.72787356,  0.79148889,\n",
       "        -0.14903593],\n",
       "       [ 1.80414665,  1.44585609,  0.62126255, -1.14085293, -0.56777608,\n",
       "        -1.21122408, -0.80059057,  0.59176332, -0.48731288, -0.63492942,\n",
       "         0.2461327 ,  1.03478003,  0.87835979,  1.22928667, -0.41752374,\n",
       "         0.9186601 ],\n",
       "       [ 0.87612236,  0.32011947, -0.97181696, -1.31140959,  0.3689751 ,\n",
       "         1.54269576,  0.8347404 , -1.62523425,  0.99530506,  0.64941287,\n",
       "        -0.45408309, -0.06949151, -1.52907693, -0.29337662, -0.01704356,\n",
       "        -0.47580385],\n",
       "       [-1.44459438, -1.63728487, -0.01160916, -0.0574351 , -0.46375471,\n",
       "        -0.71150678, -0.54578453,  2.46945143,  0.39729461,  0.37571013,\n",
       "         0.18259938, -0.01686918,  1.66961479,  0.71831405,  0.3580009 ,\n",
       "         0.66635793],\n",
       "       [ 1.39721274, -0.65629166, -0.87617916,  1.75051999, -0.97712606,\n",
       "        -0.40041569, -0.55306292, -1.15886199,  0.52122951, -1.77531219,\n",
       "        -0.60477847, -0.08310026,  0.92573071,  2.63358879,  0.76058191,\n",
       "         0.48675168],\n",
       "       [-1.34999335, -0.25966805,  0.57642752,  0.38588688, -1.23728442,\n",
       "         0.28200832,  0.85872912, -0.50439936,  3.16084385, -1.00552487,\n",
       "         0.75314045,  0.13989258,  0.72696078, -0.41426167,  0.46243274,\n",
       "        -0.07425769],\n",
       "       [ 0.76072395,  0.34671503,  1.32100511,  0.96255124, -1.34042251,\n",
       "        -0.82613552, -0.90655935,  0.91950929, -1.75399101,  2.06757498,\n",
       "         0.42361197, -1.01468444,  0.35460737, -0.19071122, -0.45712933,\n",
       "        -0.12318854],\n",
       "       [ 1.81881368,  1.46711707, -0.93632257, -0.25137207,  0.26676372,\n",
       "        -0.88961387,  1.8346765 ,  0.25624201,  0.35824546, -1.30125952,\n",
       "         0.13522871, -1.12356746, -0.41875643, -0.68969512, -0.62719756,\n",
       "         0.09184685]])"
      ]
     },
     "execution_count": 391,
     "metadata": {},
     "output_type": "execute_result"
    }
   ],
   "source": [
    "adenseadd = to_dense(data_res, cols_res, nnzs_res, ellwa, a.shape)\n",
    "adenseadd"
   ]
  },
  {
   "cell_type": "code",
   "execution_count": 392,
   "id": "9dc5db0f",
   "metadata": {},
   "outputs": [
    {
     "data": {
      "text/plain": [
       "array([[0.        , 0.68347037, 0.8035886 , 0.        , 0.        ,\n",
       "        0.        , 0.        , 0.08023349, 0.8858316 , 0.        ,\n",
       "        0.17861794, 0.        , 0.46201044, 0.        , 0.        ,\n",
       "        0.        ],\n",
       "       [0.9562663 , 0.5531271 , 0.        , 0.        , 0.5375557 ,\n",
       "        0.        , 0.        , 0.        , 0.        , 0.        ,\n",
       "        0.        , 0.20370705, 0.35530138, 0.        , 0.        ,\n",
       "        0.9186601 ],\n",
       "       [0.        , 0.20103766, 0.        , 0.        , 0.        ,\n",
       "        0.74341315, 0.        , 0.        , 0.        , 0.5787496 ,\n",
       "        0.        , 0.05387774, 0.        , 0.5917517 , 0.17797045,\n",
       "        0.        ],\n",
       "       [0.        , 0.        , 0.        , 0.14296253, 0.9103574 ,\n",
       "        0.03242496, 0.        , 0.71459514, 0.        , 0.        ,\n",
       "        0.        , 0.        , 0.7448136 , 0.        , 0.        ,\n",
       "        0.66635793],\n",
       "       [0.        , 0.        , 0.        , 0.59893256, 0.        ,\n",
       "        0.        , 0.        , 0.9217044 , 0.        , 0.16333483,\n",
       "        0.        , 0.17167741, 0.        , 0.        , 0.7605819 ,\n",
       "        0.48675168],\n",
       "       [0.11415514, 0.82574075, 0.        , 0.        , 0.        ,\n",
       "        0.27978534, 0.        , 0.25018668, 0.        , 0.        ,\n",
       "        0.83127654, 0.09929471, 0.        , 0.        , 0.        ,\n",
       "        0.        ],\n",
       "       [0.28872353, 0.04889954, 0.        , 0.6493426 , 0.        ,\n",
       "        0.33329687, 0.        , 0.        , 0.        , 0.        ,\n",
       "        0.        , 0.        , 0.84441024, 0.01120785, 0.        ,\n",
       "        0.        ],\n",
       "       [0.67626965, 0.        , 0.        , 0.35563806, 0.        ,\n",
       "        0.        , 0.69630474, 0.        , 0.6753613 , 0.        ,\n",
       "        0.        , 0.12287189, 0.        , 0.        , 0.        ,\n",
       "        0.09184685]], dtype=float32)"
      ]
     },
     "execution_count": 392,
     "metadata": {},
     "output_type": "execute_result"
    }
   ],
   "source": [
    "a"
   ]
  },
  {
   "cell_type": "code",
   "execution_count": 393,
   "id": "488daf6b",
   "metadata": {},
   "outputs": [
    {
     "data": {
      "text/plain": [
       "array([[-5.22632837e-01,  1.31274581e+00,  6.26713991e-01,\n",
       "         3.13637584e-01, -3.76596689e-01,  4.88761859e-03,\n",
       "        -5.55174649e-01,  6.39165103e-01, -2.10940933e+00,\n",
       "         3.30693685e-02, -2.93532342e-01,  6.84451699e-01,\n",
       "        -6.47347689e-01,  7.27873564e-01,  7.91488886e-01,\n",
       "        -1.49035931e-01],\n",
       "       [ 8.47880363e-01,  8.92729044e-01,  6.21262550e-01,\n",
       "        -1.14085293e+00, -1.10533178e+00, -1.21122408e+00,\n",
       "        -8.00590575e-01,  5.91763318e-01, -4.87312883e-01,\n",
       "        -6.34929419e-01,  2.46132702e-01,  8.31072927e-01,\n",
       "         5.23058414e-01,  1.22928667e+00, -4.17523742e-01,\n",
       "         4.02868688e-01],\n",
       "       [ 8.76122355e-01,  1.19081818e-01, -9.71816957e-01,\n",
       "        -1.31140959e+00,  3.68975103e-01,  7.99282610e-01,\n",
       "         8.34740400e-01, -1.62523425e+00,  9.95305061e-01,\n",
       "         7.06632584e-02, -4.54083085e-01, -1.23369254e-01,\n",
       "        -1.52907693e+00, -8.85128319e-01, -1.95014015e-01,\n",
       "        -4.75803852e-01],\n",
       "       [-1.44459438e+00, -1.63728487e+00, -1.16091613e-02,\n",
       "        -2.00397626e-01, -1.37411213e+00, -7.43931770e-01,\n",
       "        -5.45784533e-01,  1.75485635e+00,  3.97294611e-01,\n",
       "         3.75710130e-01,  1.82599381e-01, -1.68691836e-02,\n",
       "         9.24801171e-01,  7.18314052e-01,  3.58000904e-01,\n",
       "        -1.23415101e+00],\n",
       "       [ 1.39721274e+00, -6.56291664e-01, -8.76179159e-01,\n",
       "         1.15158737e+00, -9.77126062e-01, -4.00415689e-01,\n",
       "        -5.53062916e-01, -2.08056641e+00,  5.21229506e-01,\n",
       "        -1.93864703e+00, -6.04778469e-01, -2.54777670e-01,\n",
       "         9.25730705e-01,  2.63358879e+00,  3.78167421e-01,\n",
       "         3.29631418e-01],\n",
       "       [-1.46414852e+00, -1.08540881e+00,  5.76427519e-01,\n",
       "         3.85886878e-01, -1.23728442e+00,  2.22297595e-03,\n",
       "         8.58729124e-01, -7.54586041e-01,  3.16084385e+00,\n",
       "        -1.00552487e+00, -7.81360716e-02,  4.05978709e-02,\n",
       "         7.26960778e-01, -4.14261669e-01,  4.62432742e-01,\n",
       "        -7.42576867e-02],\n",
       "       [ 4.72000450e-01,  2.97815502e-01,  1.32100511e+00,\n",
       "         3.13208669e-01, -1.34042251e+00, -1.15943241e+00,\n",
       "        -9.06559348e-01,  9.19509292e-01, -1.75399101e+00,\n",
       "         2.06757498e+00,  4.23611969e-01, -1.01468444e+00,\n",
       "        -4.89802867e-01, -2.01919064e-01, -4.57129329e-01,\n",
       "        -1.23188540e-01],\n",
       "       [ 1.14254403e+00,  1.46711707e+00, -9.36322570e-01,\n",
       "        -6.07010126e-01,  2.66763717e-01, -8.89613867e-01,\n",
       "         1.13837183e+00,  2.56242007e-01, -3.17115813e-01,\n",
       "        -1.30125952e+00,  1.35228708e-01, -1.24643934e+00,\n",
       "        -4.18756425e-01, -6.89695120e-01, -6.27197564e-01,\n",
       "         1.78884888e+00]], dtype=float32)"
      ]
     },
     "execution_count": 393,
     "metadata": {},
     "output_type": "execute_result"
    }
   ],
   "source": [
    "matadd"
   ]
  },
  {
   "cell_type": "code",
   "execution_count": 394,
   "id": "e0e10dd1",
   "metadata": {},
   "outputs": [
    {
     "data": {
      "text/plain": [
       "array([[-0.52263284,  1.9962162 ,  1.4303026 ,  0.31363758, -0.3765967 ,\n",
       "         0.00488762, -0.55517465,  0.7193986 , -1.2235777 ,  0.03306937,\n",
       "        -0.1149144 ,  0.6844517 , -0.18533725,  0.72787356,  0.7914889 ,\n",
       "        -0.14903593],\n",
       "       [ 1.8041466 ,  1.4458561 ,  0.62126255, -1.1408529 , -0.5677761 ,\n",
       "        -1.2112241 , -0.8005906 ,  0.5917633 , -0.48731288, -0.6349294 ,\n",
       "         0.2461327 ,  1.03478   ,  0.8783598 ,  1.2292867 , -0.41752374,\n",
       "         1.3215288 ],\n",
       "       [ 0.87612236,  0.32011947, -0.97181696, -1.3114096 ,  0.3689751 ,\n",
       "         1.5426958 ,  0.8347404 , -1.6252342 ,  0.99530506,  0.6494129 ,\n",
       "        -0.45408309, -0.06949151, -1.5290769 , -0.29337662, -0.01704356,\n",
       "        -0.47580385],\n",
       "       [-1.4445944 , -1.6372849 , -0.01160916, -0.0574351 , -0.4637547 ,\n",
       "        -0.7115068 , -0.54578453,  2.4694514 ,  0.3972946 ,  0.37571013,\n",
       "         0.18259938, -0.01686918,  1.6696148 ,  0.71831405,  0.3580009 ,\n",
       "        -0.5677931 ],\n",
       "       [ 1.3972127 , -0.65629166, -0.87617916,  1.75052   , -0.97712606,\n",
       "        -0.4004157 , -0.5530629 , -1.158862  ,  0.5212295 , -1.7753122 ,\n",
       "        -0.60477847, -0.08310026,  0.9257307 ,  2.6335888 ,  1.1387494 ,\n",
       "         0.8163831 ],\n",
       "       [-1.3499933 , -0.25966805,  0.5764275 ,  0.38588688, -1.2372844 ,\n",
       "         0.28200832,  0.8587291 , -0.50439936,  3.1608438 , -1.0055249 ,\n",
       "         0.75314045,  0.13989258,  0.7269608 , -0.41426167,  0.46243274,\n",
       "        -0.07425769],\n",
       "       [ 0.76072395,  0.34671503,  1.3210051 ,  0.96255124, -1.3404225 ,\n",
       "        -0.8261355 , -0.90655935,  0.9195093 , -1.753991  ,  2.067575  ,\n",
       "         0.42361197, -1.0146844 ,  0.35460737, -0.19071122, -0.45712933,\n",
       "        -0.12318854],\n",
       "       [ 1.8188137 ,  1.4671171 , -0.93632257, -0.25137207,  0.26676372,\n",
       "        -0.88961387,  1.8346765 ,  0.256242  ,  0.35824546, -1.3012595 ,\n",
       "         0.13522871, -1.1235675 , -0.41875643, -0.6896951 , -0.62719756,\n",
       "         1.8806957 ]], dtype=float32)"
      ]
     },
     "execution_count": 394,
     "metadata": {},
     "output_type": "execute_result"
    }
   ],
   "source": [
    "a_added"
   ]
  },
  {
   "cell_type": "code",
   "execution_count": 395,
   "id": "fb4ef891",
   "metadata": {},
   "outputs": [
    {
     "data": {
      "text/plain": [
       "array([[-0.52263284,  1.99621618,  1.43030262,  0.31363758, -0.37659669,\n",
       "         0.00488762, -0.55517465,  0.71939862, -1.22357774,  0.03306937,\n",
       "        -0.1149144 ,  0.6844517 , -0.18533725,  0.72787356,  0.79148889,\n",
       "        -0.14903593],\n",
       "       [ 1.80414665,  1.44585609,  0.62126255, -1.14085293, -0.56777608,\n",
       "        -1.21122408, -0.80059057,  0.59176332, -0.48731288, -0.63492942,\n",
       "         0.2461327 ,  1.03478003,  0.87835979,  1.22928667, -0.41752374,\n",
       "         0.9186601 ],\n",
       "       [ 0.87612236,  0.32011947, -0.97181696, -1.31140959,  0.3689751 ,\n",
       "         1.54269576,  0.8347404 , -1.62523425,  0.99530506,  0.64941287,\n",
       "        -0.45408309, -0.06949151, -1.52907693, -0.29337662, -0.01704356,\n",
       "        -0.47580385],\n",
       "       [-1.44459438, -1.63728487, -0.01160916, -0.0574351 , -0.46375471,\n",
       "        -0.71150678, -0.54578453,  2.46945143,  0.39729461,  0.37571013,\n",
       "         0.18259938, -0.01686918,  1.66961479,  0.71831405,  0.3580009 ,\n",
       "         0.66635793],\n",
       "       [ 1.39721274, -0.65629166, -0.87617916,  1.75051999, -0.97712606,\n",
       "        -0.40041569, -0.55306292, -1.15886199,  0.52122951, -1.77531219,\n",
       "        -0.60477847, -0.08310026,  0.92573071,  2.63358879,  0.76058191,\n",
       "         0.48675168],\n",
       "       [-1.34999335, -0.25966805,  0.57642752,  0.38588688, -1.23728442,\n",
       "         0.28200832,  0.85872912, -0.50439936,  3.16084385, -1.00552487,\n",
       "         0.75314045,  0.13989258,  0.72696078, -0.41426167,  0.46243274,\n",
       "        -0.07425769],\n",
       "       [ 0.76072395,  0.34671503,  1.32100511,  0.96255124, -1.34042251,\n",
       "        -0.82613552, -0.90655935,  0.91950929, -1.75399101,  2.06757498,\n",
       "         0.42361197, -1.01468444,  0.35460737, -0.19071122, -0.45712933,\n",
       "        -0.12318854],\n",
       "       [ 1.81881368,  1.46711707, -0.93632257, -0.25137207,  0.26676372,\n",
       "        -0.88961387,  1.8346765 ,  0.25624201,  0.35824546, -1.30125952,\n",
       "         0.13522871, -1.12356746, -0.41875643, -0.68969512, -0.62719756,\n",
       "         0.09184685]])"
      ]
     },
     "execution_count": 395,
     "metadata": {},
     "output_type": "execute_result"
    }
   ],
   "source": [
    "adenseadd"
   ]
  },
  {
   "cell_type": "code",
   "execution_count": 396,
   "id": "23f0c0c2",
   "metadata": {},
   "outputs": [
    {
     "data": {
      "text/plain": [
       "array([[ True,  True,  True,  True,  True,  True,  True,  True,  True,\n",
       "         True,  True,  True,  True,  True,  True,  True],\n",
       "       [ True,  True,  True,  True,  True,  True,  True,  True,  True,\n",
       "         True,  True,  True,  True,  True,  True, False],\n",
       "       [ True,  True,  True,  True,  True,  True,  True,  True,  True,\n",
       "         True,  True,  True,  True,  True,  True,  True],\n",
       "       [ True,  True,  True,  True,  True,  True,  True,  True,  True,\n",
       "         True,  True,  True,  True,  True,  True, False],\n",
       "       [ True,  True,  True,  True,  True,  True,  True,  True,  True,\n",
       "         True,  True,  True,  True,  True, False, False],\n",
       "       [ True,  True,  True,  True,  True,  True,  True,  True,  True,\n",
       "         True,  True,  True,  True,  True,  True,  True],\n",
       "       [ True,  True,  True,  True,  True,  True,  True,  True,  True,\n",
       "         True,  True,  True,  True,  True,  True,  True],\n",
       "       [ True,  True,  True,  True,  True,  True,  True,  True,  True,\n",
       "         True,  True,  True,  True,  True,  True, False]])"
      ]
     },
     "execution_count": 396,
     "metadata": {},
     "output_type": "execute_result"
    }
   ],
   "source": [
    "adenseadd == a_added"
   ]
  },
  {
   "cell_type": "markdown",
   "id": "2c377b84",
   "metadata": {},
   "source": [
    "### update vals"
   ]
  },
  {
   "cell_type": "code",
   "execution_count": 397,
   "id": "f334a950",
   "metadata": {},
   "outputs": [],
   "source": [
    "adatat_buf = cl.Buffer(ctx, mf.READ_WRITE | mf.COPY_HOST_PTR, hostbuf=adatat)\n",
    "acolst_buf = cl.Buffer(ctx, mf.READ_WRITE | mf.COPY_HOST_PTR, hostbuf=acolst)\n",
    "annzst_buf = cl.Buffer(ctx, mf.READ_WRITE | mf.COPY_HOST_PTR, hostbuf=annzt)\n",
    "add_buf = cl.Buffer(ctx, mf.READ_WRITE | mf.COPY_HOST_PTR, hostbuf=matadd)\n",
    "\n",
    "prg = cl.Program(ctx, \"\"\"\n",
    "    // Every global_id_0 works on a row\n",
    "    __kernel void adddenset(__global  float* matData,     // INPUT MATRIX DATA\n",
    "                            __global  uint*  colIdx,\n",
    "                            __global  uint*  rowNnz,\n",
    "                            float  lr,\n",
    "                            uint   ellwidth,\n",
    "                            uint   aheight,\n",
    "                            __global  float* vector_x    // INPUT\n",
    "                            ) { // LOCAL SHARED BUFFER\n",
    "      uint gid = get_global_id(0);\n",
    "      uint ncols = get_global_size(0);\n",
    "\n",
    "      uint nnz    = rowNnz[gid];\n",
    "      uint baseidxs = gid*ellwidth;\n",
    "      \n",
    "      for (uint i=0; i<aheight; i++) {\n",
    "        if (nnz > ellwidth)\n",
    "            break;\n",
    "        uint baseidxd = i*ncols+gid;\n",
    "        float addval = vector_x[baseidxd];\n",
    "        //if (gid==1)\n",
    "        //  printf(\"\\\\nADD VAL:%.2f idx:%i/%i  col:%i\", addval, baseidxs+i, baseidxd+i, colIdx[baseidxs+i]);\n",
    "        if (addval == 0) {\n",
    "          continue;\n",
    "        }\n",
    "        if (i == colIdx[baseidxs+i]) {\n",
    "          printf(\"\\\\nADD VAL:%.2f idx:%i/%i  col:%i\", addval, baseidxs+i, baseidxd+i, colIdx[i]);\n",
    "          matData[baseidxs+i] += addval;\n",
    "        } else {\n",
    "          if (rowNnz[gid] >= ellwidth) {\n",
    "            break;\n",
    "          }\n",
    "          if (i > colIdx[baseidxs+i]) {\n",
    "            rowNnz[gid] += 1;\n",
    "            //if (gid==1)\n",
    "            //  printf(\"\\\\nSET VAL:%.2f idx:%i/%i  col:%i\", addval, baseidxs+i, baseidxd+i, colIdx[i]);\n",
    "            matData[baseidxs+i] = addval;\n",
    "            colIdx[baseidxs+i] = i;\n",
    "            continue;\n",
    "          }\n",
    "          for (uint j=nnz; j>i; j--) {\n",
    "            //printf(\"\\\\nMOVE:%.2f\", matData[baseidx+j-1]);\n",
    "            colIdx[baseidxs+j] = colIdx[baseidxs+j-1];\n",
    "            matData[baseidxs+j] = matData[baseidxs+j-1];\n",
    "          }\n",
    "          rowNnz[gid] += 1;\n",
    "          nnz = rowNnz[gid];\n",
    "          //if (gid==1)\n",
    "          //  printf(\"\\\\nSET VAL:%.2f idx:%i/%i  col:%i\", addval, baseidxs+i, baseidxd+i, colIdx[i]);\n",
    "          matData[baseidxs+i] = addval;\n",
    "          colIdx[baseidxs+i] = i;\n",
    "        }\n",
    "      }\n",
    "    }\"\"\").build()"
   ]
  },
  {
   "cell_type": "code",
   "execution_count": 398,
   "id": "3df220e3",
   "metadata": {},
   "outputs": [
    {
     "data": {
      "text/plain": [
       "((8, 16), (16, 5))"
      ]
     },
     "execution_count": 398,
     "metadata": {},
     "output_type": "execute_result"
    }
   ],
   "source": [
    "a.shape, b.shape"
   ]
  },
  {
   "cell_type": "code",
   "execution_count": 399,
   "id": "4a70fde5",
   "metadata": {},
   "outputs": [],
   "source": [
    "res = np.zeros(a.shape[0]).astype(np.float32)\n",
    "#res"
   ]
  },
  {
   "cell_type": "code",
   "execution_count": 400,
   "id": "49cee8e5",
   "metadata": {},
   "outputs": [],
   "source": [
    "cols = a.shape[1]"
   ]
  },
  {
   "cell_type": "code",
   "execution_count": 401,
   "id": "ce0c1ed9",
   "metadata": {},
   "outputs": [],
   "source": [
    "mult = mult.astype(np.float32)"
   ]
  },
  {
   "cell_type": "code",
   "execution_count": 402,
   "id": "bf98ad4e",
   "metadata": {},
   "outputs": [
    {
     "data": {
      "text/plain": [
       "<pyopencl._cl.Event at 0x7f5ab43785e0>"
      ]
     },
     "execution_count": 402,
     "metadata": {},
     "output_type": "execute_result"
    },
    {
     "name": "stdout",
     "output_type": "stream",
     "text": [
      "\n",
      "ADD VAL:1.31 idx:8/1  col:1\n",
      "ADD VAL:0.63 idx:16/2  col:1\n",
      "ADD VAL:0.64 idx:56/7  col:1\n",
      "ADD VAL:-2.11 idx:64/8  col:1\n",
      "ADD VAL:-0.29 idx:80/10  col:1\n",
      "ADD VAL:-0.65 idx:96/12  col:1\n",
      "ADD VAL:0.85 idx:1/17  col:1\n",
      "ADD VAL:0.89 idx:9/18  col:1\n",
      "ADD VAL:-1.11 idx:33/21  col:1\n",
      "ADD VAL:0.83 idx:89/28  col:1\n",
      "ADD VAL:0.52 idx:97/29  col:1\n",
      "ADD VAL:0.40 idx:121/32  col:1\n",
      "ADD VAL:0.12 idx:10/35  col:5\n",
      "ADD VAL:0.80 idx:42/39  col:5\n",
      "ADD VAL:0.07 idx:74/43  col:5\n",
      "ADD VAL:-0.12 idx:90/45  col:5\n",
      "ADD VAL:-0.89 idx:106/47  col:5\n",
      "ADD VAL:-0.20 idx:114/48  col:5\n",
      "ADD VAL:-0.20 idx:27/54  col:5\n",
      "ADD VAL:-1.37 idx:35/55  col:5\n",
      "ADD VAL:-0.74 idx:43/56  col:5\n",
      "ADD VAL:1.75 idx:59/58  col:5\n",
      "ADD VAL:0.92 idx:99/63  col:5\n",
      "ADD VAL:-1.23 idx:123/66  col:5\n",
      "ADD VAL:1.15 idx:28/71  col:5\n",
      "ADD VAL:-2.08 idx:60/75  col:5\n",
      "ADD VAL:-1.94 idx:76/77  col:5\n",
      "ADD VAL:-0.25 idx:92/79  col:5\n",
      "ADD VAL:0.38 idx:116/82  col:5\n",
      "ADD VAL:0.33 idx:124/83  col:5\n",
      "ADD VAL:-1.46 idx:5/85  col:5\n",
      "ADD VAL:-1.09 idx:13/86  col:5\n",
      "ADD VAL:0.00 idx:45/90  col:5\n",
      "ADD VAL:-0.75 idx:61/92  col:5\n",
      "ADD VAL:-0.08 idx:85/95  col:5\n",
      "ADD VAL:0.04 idx:93/96  col:5\n",
      "ADD VAL:0.47 idx:6/102  col:6\n",
      "ADD VAL:0.30 idx:14/103  col:6\n",
      "ADD VAL:0.31 idx:30/105  col:6\n",
      "ADD VAL:-1.16 idx:46/107  col:6\n",
      "ADD VAL:-0.49 idx:102/114  col:6\n",
      "ADD VAL:-0.20 idx:110/115  col:6\n",
      "ADD VAL:1.14 idx:7/119  col:7\n",
      "ADD VAL:-0.61 idx:31/122  col:7\n",
      "ADD VAL:1.14 idx:55/125  col:7\n",
      "ADD VAL:-0.32 idx:71/127  col:7\n",
      "ADD VAL:-1.25 idx:95/130  col:7\n",
      "ADD VAL:1.79 idx:127/134  col:7"
     ]
    }
   ],
   "source": [
    "res_buf = cl.Buffer(ctx, mf.WRITE_ONLY, b.nbytes)\n",
    "knl = prg.adddenset  # Use this Kernel object for repeated calls\n",
    "knl(queue, [cols], None, adatat_buf, acolst_buf, annzst_buf, np.float32(1), np.uint32(ellwat),np.uint32(a.T.shape[1]), add_buf)"
   ]
  },
  {
   "cell_type": "code",
   "execution_count": 403,
   "id": "d01027d6",
   "metadata": {},
   "outputs": [
    {
     "data": {
      "text/plain": [
       "-0.52263284"
      ]
     },
     "execution_count": 403,
     "metadata": {},
     "output_type": "execute_result"
    }
   ],
   "source": [
    "matadd[0][0]"
   ]
  },
  {
   "cell_type": "code",
   "execution_count": 404,
   "id": "c8aa298b",
   "metadata": {},
   "outputs": [
    {
     "data": {
      "text/plain": [
       "<pyopencl._cl.NannyEvent at 0x7f5a642dd9a0>"
      ]
     },
     "execution_count": 404,
     "metadata": {},
     "output_type": "execute_result"
    }
   ],
   "source": [
    "datat_res = np.empty_like(adatat)\n",
    "colst_res = np.empty_like(acolst)\n",
    "nnzst_res = np.empty_like(annzt)\n",
    "cl.enqueue_copy(queue, datat_res, adatat_buf)\n",
    "cl.enqueue_copy(queue, colst_res, acolst_buf)\n",
    "cl.enqueue_copy(queue, nnzst_res, annzst_buf)"
   ]
  },
  {
   "cell_type": "code",
   "execution_count": 405,
   "id": "1520b090",
   "metadata": {},
   "outputs": [
    {
     "data": {
      "text/plain": [
       "array([[-0.52263284,  1.99621618,  1.43030262,  0.31363758, -0.37659669,\n",
       "         0.00488762, -0.55517465,  0.71939862, -1.22357774,  0.03306937,\n",
       "        -0.1149144 ,  0.6844517 , -0.18533725,  0.72787356,  0.79148889,\n",
       "        -0.14903593],\n",
       "       [ 1.80414665,  1.44585609,  0.62126255, -1.14085293, -0.56777608,\n",
       "        -1.21122408, -0.80059057,  0.59176332, -0.48731288, -0.63492942,\n",
       "         0.2461327 ,  1.03478003,  0.87835979,  1.22928667, -0.41752374,\n",
       "         1.32152879],\n",
       "       [ 0.87612236,  0.32011947, -0.97181696, -1.31140959,  0.3689751 ,\n",
       "         1.54269576,  0.8347404 , -1.62523425,  0.99530506,  0.64941287,\n",
       "        -0.45408309, -0.06949151, -1.52907693, -0.29337662, -0.01704356,\n",
       "        -0.47580385],\n",
       "       [-1.44459438, -1.63728487, -0.01160916, -0.0574351 , -0.46375471,\n",
       "        -0.71150678, -0.54578453,  2.46945143,  0.39729461,  0.37571013,\n",
       "         0.18259938, -0.01686918,  1.66961479,  0.71831405,  0.3580009 ,\n",
       "        -0.56779307],\n",
       "       [ 1.39721274, -0.65629166, -0.87617916,  1.75051999, -0.97712606,\n",
       "        -0.40041569, -0.55306292, -1.15886199,  0.52122951, -1.77531219,\n",
       "        -0.60477847, -0.08310026,  0.92573071,  2.63358879,  1.13874936,\n",
       "         0.81638312],\n",
       "       [-1.34999335, -0.25966805,  0.57642752,  0.38588688, -1.23728442,\n",
       "         0.28200832,  0.85872912, -0.50439936,  3.16084385, -1.00552487,\n",
       "         0.75314045,  0.13989258,  0.72696078, -0.41426167,  0.46243274,\n",
       "        -0.07425769],\n",
       "       [ 0.76072395,  0.34671503,  1.32100511,  0.96255124, -1.34042251,\n",
       "        -0.82613552, -0.90655935,  0.91950929, -1.75399101,  2.06757498,\n",
       "         0.42361197, -1.01468444,  0.35460737, -0.19071122, -0.45712933,\n",
       "        -0.12318854],\n",
       "       [ 1.81881368,  1.46711707, -0.93632257, -0.25137207,  0.26676372,\n",
       "        -0.88961387,  1.8346765 ,  0.25624201,  0.35824546, -1.30125952,\n",
       "         0.13522871, -1.12356746, -0.41875643, -0.68969512, -0.62719756,\n",
       "         1.8806957 ]])"
      ]
     },
     "execution_count": 405,
     "metadata": {},
     "output_type": "execute_result"
    }
   ],
   "source": [
    "adenseaddt = to_dense(datat_res, colst_res, nnzst_res, ellwat, a.T.shape).T\n",
    "adenseaddt"
   ]
  },
  {
   "cell_type": "code",
   "execution_count": 406,
   "id": "4991edea",
   "metadata": {},
   "outputs": [
    {
     "data": {
      "text/plain": [
       "array([[0.        , 0.68347037, 0.8035886 , 0.        , 0.        ,\n",
       "        0.        , 0.        , 0.08023349, 0.8858316 , 0.        ,\n",
       "        0.17861794, 0.        , 0.46201044, 0.        , 0.        ,\n",
       "        0.        ],\n",
       "       [0.9562663 , 0.5531271 , 0.        , 0.        , 0.5375557 ,\n",
       "        0.        , 0.        , 0.        , 0.        , 0.        ,\n",
       "        0.        , 0.20370705, 0.35530138, 0.        , 0.        ,\n",
       "        0.9186601 ],\n",
       "       [0.        , 0.20103766, 0.        , 0.        , 0.        ,\n",
       "        0.74341315, 0.        , 0.        , 0.        , 0.5787496 ,\n",
       "        0.        , 0.05387774, 0.        , 0.5917517 , 0.17797045,\n",
       "        0.        ],\n",
       "       [0.        , 0.        , 0.        , 0.14296253, 0.9103574 ,\n",
       "        0.03242496, 0.        , 0.71459514, 0.        , 0.        ,\n",
       "        0.        , 0.        , 0.7448136 , 0.        , 0.        ,\n",
       "        0.66635793],\n",
       "       [0.        , 0.        , 0.        , 0.59893256, 0.        ,\n",
       "        0.        , 0.        , 0.9217044 , 0.        , 0.16333483,\n",
       "        0.        , 0.17167741, 0.        , 0.        , 0.7605819 ,\n",
       "        0.48675168],\n",
       "       [0.11415514, 0.82574075, 0.        , 0.        , 0.        ,\n",
       "        0.27978534, 0.        , 0.25018668, 0.        , 0.        ,\n",
       "        0.83127654, 0.09929471, 0.        , 0.        , 0.        ,\n",
       "        0.        ],\n",
       "       [0.28872353, 0.04889954, 0.        , 0.6493426 , 0.        ,\n",
       "        0.33329687, 0.        , 0.        , 0.        , 0.        ,\n",
       "        0.        , 0.        , 0.84441024, 0.01120785, 0.        ,\n",
       "        0.        ],\n",
       "       [0.67626965, 0.        , 0.        , 0.35563806, 0.        ,\n",
       "        0.        , 0.69630474, 0.        , 0.6753613 , 0.        ,\n",
       "        0.        , 0.12287189, 0.        , 0.        , 0.        ,\n",
       "        0.09184685]], dtype=float32)"
      ]
     },
     "execution_count": 406,
     "metadata": {},
     "output_type": "execute_result"
    }
   ],
   "source": [
    "a"
   ]
  },
  {
   "cell_type": "code",
   "execution_count": 407,
   "id": "a02d1ebb",
   "metadata": {},
   "outputs": [
    {
     "data": {
      "text/plain": [
       "array([[-5.22632837e-01,  1.31274581e+00,  6.26713991e-01,\n",
       "         3.13637584e-01, -3.76596689e-01,  4.88761859e-03,\n",
       "        -5.55174649e-01,  6.39165103e-01, -2.10940933e+00,\n",
       "         3.30693685e-02, -2.93532342e-01,  6.84451699e-01,\n",
       "        -6.47347689e-01,  7.27873564e-01,  7.91488886e-01,\n",
       "        -1.49035931e-01],\n",
       "       [ 8.47880363e-01,  8.92729044e-01,  6.21262550e-01,\n",
       "        -1.14085293e+00, -1.10533178e+00, -1.21122408e+00,\n",
       "        -8.00590575e-01,  5.91763318e-01, -4.87312883e-01,\n",
       "        -6.34929419e-01,  2.46132702e-01,  8.31072927e-01,\n",
       "         5.23058414e-01,  1.22928667e+00, -4.17523742e-01,\n",
       "         4.02868688e-01],\n",
       "       [ 8.76122355e-01,  1.19081818e-01, -9.71816957e-01,\n",
       "        -1.31140959e+00,  3.68975103e-01,  7.99282610e-01,\n",
       "         8.34740400e-01, -1.62523425e+00,  9.95305061e-01,\n",
       "         7.06632584e-02, -4.54083085e-01, -1.23369254e-01,\n",
       "        -1.52907693e+00, -8.85128319e-01, -1.95014015e-01,\n",
       "        -4.75803852e-01],\n",
       "       [-1.44459438e+00, -1.63728487e+00, -1.16091613e-02,\n",
       "        -2.00397626e-01, -1.37411213e+00, -7.43931770e-01,\n",
       "        -5.45784533e-01,  1.75485635e+00,  3.97294611e-01,\n",
       "         3.75710130e-01,  1.82599381e-01, -1.68691836e-02,\n",
       "         9.24801171e-01,  7.18314052e-01,  3.58000904e-01,\n",
       "        -1.23415101e+00],\n",
       "       [ 1.39721274e+00, -6.56291664e-01, -8.76179159e-01,\n",
       "         1.15158737e+00, -9.77126062e-01, -4.00415689e-01,\n",
       "        -5.53062916e-01, -2.08056641e+00,  5.21229506e-01,\n",
       "        -1.93864703e+00, -6.04778469e-01, -2.54777670e-01,\n",
       "         9.25730705e-01,  2.63358879e+00,  3.78167421e-01,\n",
       "         3.29631418e-01],\n",
       "       [-1.46414852e+00, -1.08540881e+00,  5.76427519e-01,\n",
       "         3.85886878e-01, -1.23728442e+00,  2.22297595e-03,\n",
       "         8.58729124e-01, -7.54586041e-01,  3.16084385e+00,\n",
       "        -1.00552487e+00, -7.81360716e-02,  4.05978709e-02,\n",
       "         7.26960778e-01, -4.14261669e-01,  4.62432742e-01,\n",
       "        -7.42576867e-02],\n",
       "       [ 4.72000450e-01,  2.97815502e-01,  1.32100511e+00,\n",
       "         3.13208669e-01, -1.34042251e+00, -1.15943241e+00,\n",
       "        -9.06559348e-01,  9.19509292e-01, -1.75399101e+00,\n",
       "         2.06757498e+00,  4.23611969e-01, -1.01468444e+00,\n",
       "        -4.89802867e-01, -2.01919064e-01, -4.57129329e-01,\n",
       "        -1.23188540e-01],\n",
       "       [ 1.14254403e+00,  1.46711707e+00, -9.36322570e-01,\n",
       "        -6.07010126e-01,  2.66763717e-01, -8.89613867e-01,\n",
       "         1.13837183e+00,  2.56242007e-01, -3.17115813e-01,\n",
       "        -1.30125952e+00,  1.35228708e-01, -1.24643934e+00,\n",
       "        -4.18756425e-01, -6.89695120e-01, -6.27197564e-01,\n",
       "         1.78884888e+00]], dtype=float32)"
      ]
     },
     "execution_count": 407,
     "metadata": {},
     "output_type": "execute_result"
    }
   ],
   "source": [
    "matadd"
   ]
  },
  {
   "cell_type": "code",
   "execution_count": 408,
   "id": "39b90dde",
   "metadata": {},
   "outputs": [
    {
     "data": {
      "text/plain": [
       "array([[-0.52263284,  1.9962162 ,  1.4303026 ,  0.31363758, -0.3765967 ,\n",
       "         0.00488762, -0.55517465,  0.7193986 , -1.2235777 ,  0.03306937,\n",
       "        -0.1149144 ,  0.6844517 , -0.18533725,  0.72787356,  0.7914889 ,\n",
       "        -0.14903593],\n",
       "       [ 1.8041466 ,  1.4458561 ,  0.62126255, -1.1408529 , -0.5677761 ,\n",
       "        -1.2112241 , -0.8005906 ,  0.5917633 , -0.48731288, -0.6349294 ,\n",
       "         0.2461327 ,  1.03478   ,  0.8783598 ,  1.2292867 , -0.41752374,\n",
       "         1.3215288 ],\n",
       "       [ 0.87612236,  0.32011947, -0.97181696, -1.3114096 ,  0.3689751 ,\n",
       "         1.5426958 ,  0.8347404 , -1.6252342 ,  0.99530506,  0.6494129 ,\n",
       "        -0.45408309, -0.06949151, -1.5290769 , -0.29337662, -0.01704356,\n",
       "        -0.47580385],\n",
       "       [-1.4445944 , -1.6372849 , -0.01160916, -0.0574351 , -0.4637547 ,\n",
       "        -0.7115068 , -0.54578453,  2.4694514 ,  0.3972946 ,  0.37571013,\n",
       "         0.18259938, -0.01686918,  1.6696148 ,  0.71831405,  0.3580009 ,\n",
       "        -0.5677931 ],\n",
       "       [ 1.3972127 , -0.65629166, -0.87617916,  1.75052   , -0.97712606,\n",
       "        -0.4004157 , -0.5530629 , -1.158862  ,  0.5212295 , -1.7753122 ,\n",
       "        -0.60477847, -0.08310026,  0.9257307 ,  2.6335888 ,  1.1387494 ,\n",
       "         0.8163831 ],\n",
       "       [-1.3499933 , -0.25966805,  0.5764275 ,  0.38588688, -1.2372844 ,\n",
       "         0.28200832,  0.8587291 , -0.50439936,  3.1608438 , -1.0055249 ,\n",
       "         0.75314045,  0.13989258,  0.7269608 , -0.41426167,  0.46243274,\n",
       "        -0.07425769],\n",
       "       [ 0.76072395,  0.34671503,  1.3210051 ,  0.96255124, -1.3404225 ,\n",
       "        -0.8261355 , -0.90655935,  0.9195093 , -1.753991  ,  2.067575  ,\n",
       "         0.42361197, -1.0146844 ,  0.35460737, -0.19071122, -0.45712933,\n",
       "        -0.12318854],\n",
       "       [ 1.8188137 ,  1.4671171 , -0.93632257, -0.25137207,  0.26676372,\n",
       "        -0.88961387,  1.8346765 ,  0.256242  ,  0.35824546, -1.3012595 ,\n",
       "         0.13522871, -1.1235675 , -0.41875643, -0.6896951 , -0.62719756,\n",
       "         1.8806957 ]], dtype=float32)"
      ]
     },
     "execution_count": 408,
     "metadata": {},
     "output_type": "execute_result"
    }
   ],
   "source": [
    "a_added"
   ]
  },
  {
   "cell_type": "code",
   "execution_count": 409,
   "id": "03c95777",
   "metadata": {},
   "outputs": [
    {
     "data": {
      "text/plain": [
       "array([[ True,  True,  True,  True,  True,  True,  True,  True,  True,\n",
       "         True,  True,  True,  True,  True,  True,  True],\n",
       "       [ True,  True,  True,  True,  True,  True,  True,  True,  True,\n",
       "         True,  True,  True,  True,  True,  True,  True],\n",
       "       [ True,  True,  True,  True,  True,  True,  True,  True,  True,\n",
       "         True,  True,  True,  True,  True,  True,  True],\n",
       "       [ True,  True,  True,  True,  True,  True,  True,  True,  True,\n",
       "         True,  True,  True,  True,  True,  True,  True],\n",
       "       [ True,  True,  True,  True,  True,  True,  True,  True,  True,\n",
       "         True,  True,  True,  True,  True,  True,  True],\n",
       "       [ True,  True,  True,  True,  True,  True,  True,  True,  True,\n",
       "         True,  True,  True,  True,  True,  True,  True],\n",
       "       [ True,  True,  True,  True,  True,  True,  True,  True,  True,\n",
       "         True,  True,  True,  True,  True,  True,  True],\n",
       "       [ True,  True,  True,  True,  True,  True,  True,  True,  True,\n",
       "         True,  True,  True,  True,  True,  True,  True]])"
      ]
     },
     "execution_count": 409,
     "metadata": {},
     "output_type": "execute_result"
    }
   ],
   "source": [
    "adenseaddt == a_added"
   ]
  },
  {
   "cell_type": "markdown",
   "id": "f62eb300",
   "metadata": {},
   "source": [
    "### Make Random"
   ]
  },
  {
   "cell_type": "code",
   "execution_count": 410,
   "id": "bc590ff4",
   "metadata": {},
   "outputs": [
    {
     "data": {
      "text/plain": [
       "<SparseTensor <GPUBuffer with shape (8,)> with grad None>"
      ]
     },
     "execution_count": 410,
     "metadata": {},
     "output_type": "execute_result"
    }
   ],
   "source": [
    "rand = SparseTensor.uniform(2,4)\n",
    "rand"
   ]
  },
  {
   "cell_type": "code",
   "execution_count": 411,
   "id": "186cbd5b",
   "metadata": {},
   "outputs": [
    {
     "data": {
      "text/plain": [
       "array([[6.44682732e-05, 6.43153617e-05, 6.76935379e-05, 4.03048944e-05],\n",
       "       [8.65994152e-05, 8.07224751e-06, 6.99069133e-05, 1.57707436e-05]])"
      ]
     },
     "execution_count": 411,
     "metadata": {},
     "output_type": "execute_result"
    }
   ],
   "source": [
    "rand.to_numpy()"
   ]
  },
  {
   "cell_type": "code",
   "execution_count": 412,
   "id": "86441521",
   "metadata": {},
   "outputs": [
    {
     "data": {
      "text/plain": [
       "<GPUBuffer with shape (8,)>"
      ]
     },
     "execution_count": 412,
     "metadata": {},
     "output_type": "execute_result"
    }
   ],
   "source": [
    "rand.data"
   ]
  },
  {
   "cell_type": "markdown",
   "id": "6644b755",
   "metadata": {},
   "source": [
    "### update vals"
   ]
  },
  {
   "cell_type": "code",
   "execution_count": 413,
   "id": "73b60325",
   "metadata": {},
   "outputs": [],
   "source": [
    "adata_buf = cl.Buffer(ctx, mf.READ_WRITE | mf.COPY_HOST_PTR, hostbuf=adata)\n",
    "acols_buf = cl.Buffer(ctx, mf.READ_WRITE | mf.COPY_HOST_PTR, hostbuf=acols)\n",
    "annzs_buf = cl.Buffer(ctx, mf.READ_WRITE | mf.COPY_HOST_PTR, hostbuf=annz)"
   ]
  },
  {
   "cell_type": "code",
   "execution_count": 414,
   "id": "7cb03af3",
   "metadata": {},
   "outputs": [],
   "source": [
    "prg = cl.Program(ctx, \"\"\"\n",
    "// Every global_id_0 works on a row\n",
    "    __kernel void addvals(__global  float* matData,     // INPUT MATRIX DATA\n",
    "                         __global  uint*  colIdx,\n",
    "                         __global  uint*  rowNnz,\n",
    "                         float lr,\n",
    "                         uint   ellwidth,\n",
    "                         __global  float* updatevals,    // INPUT\n",
    "                         __global  uint* updatexidx,\n",
    "                         __global  uint* updateyidx\n",
    "                         ) { // LOCAL SHARED BUFFER\n",
    "      uint gid = get_global_id(0);\n",
    "      uint gid2 = get_global_id(1);\n",
    "      uint topk = get_global_size(0);\n",
    "      uint bs = get_global_size(1);\n",
    "      uint baseupdateidx = topk*topk*gid2;\n",
    "      uint baseidxidx = topk*gid2;\n",
    "      uint col = updateyidx[baseidxidx+gid];\n",
    "\n",
    "      for (uint i=0; i<topk; i++) {\n",
    "        float val = updatevals[baseupdateidx+gid*topk+i];\n",
    "        uint row = updatexidx[baseidxidx+i];\n",
    "        for (uint i=0; i<rowNnz[row]; i++) {\n",
    "          uint idx = row*ellwidth+i;\n",
    "          if (colIdx[idx] >= col) {\n",
    "            //printf(\"\\\\nFOUND:%i/%i  - idx:%i\", colIdx[idx], col, idx);\n",
    "            if (colIdx[idx] == col) {\n",
    "              matData[idx] += -val*lr;\n",
    "              printf(\"\\\\nUPDATE[%i,%i]: %f\", row,col, val);\n",
    "              break;\n",
    "            } else {\n",
    "              // insert new column\n",
    "              printf(\"\\\\nINSERT[%i,%i]: %.2f\", row,col, val);\n",
    "              for (uint j=rowNnz[row]+1; j>i; j--) {\n",
    "                uint idx2 = row*ellwidth+j;\n",
    "                matData[idx2] = matData[idx2-1];\n",
    "                colIdx[idx2] = colIdx[idx2-1];\n",
    "              }\n",
    "              matData[idx] = -val*lr;\n",
    "              colIdx[idx] = col;\n",
    "              rowNnz[row] += 1;\n",
    "              break;\n",
    "            }\n",
    "          }\n",
    "        }\n",
    "        if (rowNnz[row] >= ellwidth) {\n",
    "          break;\n",
    "        }\n",
    "      }\n",
    "    }\"\"\").build()"
   ]
  },
  {
   "cell_type": "code",
   "execution_count": 415,
   "id": "14b0cd42",
   "metadata": {},
   "outputs": [
    {
     "ename": "RuntimeError",
     "evalue": "clBuildProgram failed: BUILD_PROGRAM_FAILURE - clBuildProgram failed: BUILD_PROGRAM_FAILURE - clBuildProgram failed: BUILD_PROGRAM_FAILURE\n\nBuild on <pyopencl.Device 'GeForce GTX 1080 Ti' on 'NVIDIA CUDA' at 0x564624e64990>:\n\n<kernel>:17:32: error: use of undeclared identifier 'baseupdateidx'\n        float val = updatevals[baseupdateidx+gid*topk+i];\n                               ^\n<kernel>:18:31: error: use of undeclared identifier 'baseidxidx'\n        uint row = updatexidx[baseidxidx+i];\n                              ^\n<kernel>:32:49: error: use of undeclared identifier 'm'\n                matData[idx2] = matData[idx2-1];m\n                                                ^\n\n(options: -I /home/fpaboim/.conda/envs/tinygrad/lib/python3.8/site-packages/pyopencl/cl)\n(source saved as /tmp/tmpmh2k4zha.cl)",
     "output_type": "error",
     "traceback": [
      "\u001b[0;31m---------------------------------------------------------------------------\u001b[0m",
      "\u001b[0;31mRuntimeError\u001b[0m                              Traceback (most recent call last)",
      "\u001b[0;32m/tmp/ipykernel_2109/3526636960.py\u001b[0m in \u001b[0;36m<module>\u001b[0;34m\u001b[0m\n\u001b[0;32m----> 1\u001b[0;31m prg = cl.Program(ctx, \"\"\"\n\u001b[0m\u001b[1;32m      2\u001b[0m \u001b[0;34m//\u001b[0m \u001b[0mEvery\u001b[0m \u001b[0mglobal_id_0\u001b[0m \u001b[0mworks\u001b[0m \u001b[0mon\u001b[0m \u001b[0ma\u001b[0m \u001b[0mrow\u001b[0m\u001b[0;34m\u001b[0m\u001b[0;34m\u001b[0m\u001b[0m\n\u001b[1;32m      3\u001b[0m     __kernel void addvals(__global  float* matData,     // INPUT MATRIX DATA\n\u001b[1;32m      4\u001b[0m                          \u001b[0m__global\u001b[0m  \u001b[0muint\u001b[0m\u001b[0;34m*\u001b[0m  \u001b[0mcolIdx\u001b[0m\u001b[0;34m,\u001b[0m\u001b[0;34m\u001b[0m\u001b[0;34m\u001b[0m\u001b[0m\n\u001b[1;32m      5\u001b[0m                          \u001b[0m__global\u001b[0m  \u001b[0muint\u001b[0m\u001b[0;34m*\u001b[0m  \u001b[0mrowNnz\u001b[0m\u001b[0;34m,\u001b[0m\u001b[0;34m\u001b[0m\u001b[0;34m\u001b[0m\u001b[0m\n",
      "\u001b[0;32m~/.conda/envs/tinygrad/lib/python3.8/site-packages/pyopencl/__init__.py\u001b[0m in \u001b[0;36mbuild\u001b[0;34m(self, options, devices, cache_dir)\u001b[0m\n\u001b[1;32m    534\u001b[0m \u001b[0;34m\u001b[0m\u001b[0m\n\u001b[1;32m    535\u001b[0m             \u001b[0;32mfrom\u001b[0m \u001b[0mpyopencl\u001b[0m\u001b[0;34m.\u001b[0m\u001b[0mcache\u001b[0m \u001b[0;32mimport\u001b[0m \u001b[0mcreate_built_program_from_source_cached\u001b[0m\u001b[0;34m\u001b[0m\u001b[0;34m\u001b[0m\u001b[0m\n\u001b[0;32m--> 536\u001b[0;31m             self._prg, was_cached = self._build_and_catch_errors(\n\u001b[0m\u001b[1;32m    537\u001b[0m                     lambda: create_built_program_from_source_cached(\n\u001b[1;32m    538\u001b[0m                         \u001b[0mself\u001b[0m\u001b[0;34m.\u001b[0m\u001b[0m_context\u001b[0m\u001b[0;34m,\u001b[0m \u001b[0mself\u001b[0m\u001b[0;34m.\u001b[0m\u001b[0m_source\u001b[0m\u001b[0;34m,\u001b[0m \u001b[0moptions_bytes\u001b[0m\u001b[0;34m,\u001b[0m \u001b[0mdevices\u001b[0m\u001b[0;34m,\u001b[0m\u001b[0;34m\u001b[0m\u001b[0;34m\u001b[0m\u001b[0m\n",
      "\u001b[0;32m~/.conda/envs/tinygrad/lib/python3.8/site-packages/pyopencl/__init__.py\u001b[0m in \u001b[0;36m_build_and_catch_errors\u001b[0;34m(self, build_func, options_bytes, source)\u001b[0m\n\u001b[1;32m    582\u001b[0m         \u001b[0;31m# Python 3.2 outputs the whole list of currently active exceptions\u001b[0m\u001b[0;34m\u001b[0m\u001b[0;34m\u001b[0m\u001b[0;34m\u001b[0m\u001b[0m\n\u001b[1;32m    583\u001b[0m         \u001b[0;31m# This serves to remove one (redundant) level from that nesting.\u001b[0m\u001b[0;34m\u001b[0m\u001b[0;34m\u001b[0m\u001b[0;34m\u001b[0m\u001b[0m\n\u001b[0;32m--> 584\u001b[0;31m         \u001b[0;32mraise\u001b[0m \u001b[0merr\u001b[0m\u001b[0;34m\u001b[0m\u001b[0;34m\u001b[0m\u001b[0m\n\u001b[0m\u001b[1;32m    585\u001b[0m \u001b[0;34m\u001b[0m\u001b[0m\n\u001b[1;32m    586\u001b[0m     \u001b[0;31m# }}}\u001b[0m\u001b[0;34m\u001b[0m\u001b[0;34m\u001b[0m\u001b[0;34m\u001b[0m\u001b[0m\n",
      "\u001b[0;31mRuntimeError\u001b[0m: clBuildProgram failed: BUILD_PROGRAM_FAILURE - clBuildProgram failed: BUILD_PROGRAM_FAILURE - clBuildProgram failed: BUILD_PROGRAM_FAILURE\n\nBuild on <pyopencl.Device 'GeForce GTX 1080 Ti' on 'NVIDIA CUDA' at 0x564624e64990>:\n\n<kernel>:17:32: error: use of undeclared identifier 'baseupdateidx'\n        float val = updatevals[baseupdateidx+gid*topk+i];\n                               ^\n<kernel>:18:31: error: use of undeclared identifier 'baseidxidx'\n        uint row = updatexidx[baseidxidx+i];\n                              ^\n<kernel>:32:49: error: use of undeclared identifier 'm'\n                matData[idx2] = matData[idx2-1];m\n                                                ^\n\n(options: -I /home/fpaboim/.conda/envs/tinygrad/lib/python3.8/site-packages/pyopencl/cl)\n(source saved as /tmp/tmpmh2k4zha.cl)"
     ]
    }
   ],
   "source": [
    "prg = cl.Program(ctx, \"\"\"\n",
    "// Every global_id_0 works on a row\n",
    "    __kernel void addvals(__global  float* matData,     // INPUT MATRIX DATA\n",
    "                         __global  uint*  colIdx,\n",
    "                         __global  uint*  rowNnz,\n",
    "                         float lr,\n",
    "                         uint   ellwidth,\n",
    "                         __global  float* updatevals,    // INPUT\n",
    "                         __global  uint* updatexidx,\n",
    "                         __global  uint* updateyidx\n",
    "                         ) { // LOCAL SHARED BUFFER\n",
    "      uint gid = get_global_id(0);\n",
    "      uint topk = get_global_size(0);\n",
    "      uint col = updateyidx[gid];\n",
    "\n",
    "      for (uint i=0; i<topk; i++) {\n",
    "        float val = updatevals[baseupdateidx+gid*topk+i];\n",
    "        uint row = updatexidx[baseidxidx+i];\n",
    "        for (uint i=0; i<rowNnz[row]; i++) {\n",
    "          uint idx = row*ellwidth+i;\n",
    "          if (colIdx[idx] >= col) {\n",
    "            //printf(\"\\\\nFOUND:%i/%i  - idx:%i\", colIdx[idx], col, idx);\n",
    "            if (colIdx[idx] == col) {\n",
    "              matData[idx] += -val*lr;\n",
    "              printf(\"\\\\nUPDATE[%i,%i]: %f\", row,col, val);\n",
    "              break;\n",
    "            } else {\n",
    "              // insert new column\n",
    "              printf(\"\\\\nINSERT[%i,%i]: %.2f\", row,col, val);\n",
    "              for (uint j=rowNnz[row]+1; j>i; j--) {\n",
    "                uint idx2 = row*ellwidth+j;\n",
    "                matData[idx2] = matData[idx2-1];m\n",
    "                colIdx[idx2] = colIdx[idx2-1];\n",
    "              }\n",
    "              matData[idx] = -val*lr;\n",
    "              colIdx[idx] = col;\n",
    "              rowNnz[row] += 1;\n",
    "              break;\n",
    "            }\n",
    "          }\n",
    "        }\n",
    "        if (rowNnz[row] >= ellwidth) {\n",
    "          break;\n",
    "        }\n",
    "      }\n",
    "    }\"\"\").build()"
   ]
  },
  {
   "cell_type": "code",
   "execution_count": null,
   "id": "0aab86e1",
   "metadata": {},
   "outputs": [],
   "source": [
    "knl = prg.addvals  # Use this Kernel object for repeated calls\n",
    "knl(queue, [topk,1], None, adata_buf, acols_buf, annzs_buf, np.float32(1), np.uint32(ellwa), x_cp_buf, x_idx_buf, y_idx_buf)\n",
    "\n",
    "resa = np.empty_like(adata)\n",
    "resaidx = np.zeros(acols.shape).astype(np.uint32)\n",
    "resannz = np.zeros(annz.shape).astype(np.uint32)\n",
    "\n",
    "cl.enqueue_copy(queue, resa, adata_buf)\n",
    "cl.enqueue_copy(queue, resaidx, acols_buf)\n",
    "cl.enqueue_copy(queue, resannz, annzs_buf)"
   ]
  },
  {
   "cell_type": "code",
   "execution_count": 416,
   "id": "d2ff91ba",
   "metadata": {},
   "outputs": [
    {
     "ename": "NameError",
     "evalue": "name 'resa' is not defined",
     "output_type": "error",
     "traceback": [
      "\u001b[0;31m---------------------------------------------------------------------------\u001b[0m",
      "\u001b[0;31mNameError\u001b[0m                                 Traceback (most recent call last)",
      "\u001b[0;32m/tmp/ipykernel_2109/836060244.py\u001b[0m in \u001b[0;36m<module>\u001b[0;34m\u001b[0m\n\u001b[0;32m----> 1\u001b[0;31m \u001b[0mresa\u001b[0m\u001b[0;34m.\u001b[0m\u001b[0mshape\u001b[0m\u001b[0;34m,\u001b[0m \u001b[0mresaidx\u001b[0m\u001b[0;34m.\u001b[0m\u001b[0mshape\u001b[0m\u001b[0;34m,\u001b[0m \u001b[0mresannz\u001b[0m\u001b[0;34m.\u001b[0m\u001b[0mshape\u001b[0m\u001b[0;34m,\u001b[0m \u001b[0mellwa\u001b[0m\u001b[0;34m,\u001b[0m \u001b[0ma\u001b[0m\u001b[0;34m.\u001b[0m\u001b[0mT\u001b[0m\u001b[0;34m.\u001b[0m\u001b[0mshape\u001b[0m\u001b[0;34m\u001b[0m\u001b[0;34m\u001b[0m\u001b[0m\n\u001b[0m",
      "\u001b[0;31mNameError\u001b[0m: name 'resa' is not defined"
     ]
    }
   ],
   "source": [
    "resa.shape, resaidx.shape, resannz.shape, ellwa, a.T.shape"
   ]
  },
  {
   "cell_type": "code",
   "execution_count": 417,
   "id": "190b8546",
   "metadata": {},
   "outputs": [
    {
     "ename": "NameError",
     "evalue": "name 'resa' is not defined",
     "output_type": "error",
     "traceback": [
      "\u001b[0;31m---------------------------------------------------------------------------\u001b[0m",
      "\u001b[0;31mNameError\u001b[0m                                 Traceback (most recent call last)",
      "\u001b[0;32m/tmp/ipykernel_2109/1106242426.py\u001b[0m in \u001b[0;36m<module>\u001b[0;34m\u001b[0m\n\u001b[0;32m----> 1\u001b[0;31m \u001b[0madenseadd\u001b[0m \u001b[0;34m=\u001b[0m \u001b[0mto_dense\u001b[0m\u001b[0;34m(\u001b[0m\u001b[0mresa\u001b[0m\u001b[0;34m,\u001b[0m \u001b[0mresaidx\u001b[0m\u001b[0;34m,\u001b[0m \u001b[0mresannz\u001b[0m\u001b[0;34m,\u001b[0m \u001b[0mellwa\u001b[0m\u001b[0;34m,\u001b[0m \u001b[0ma\u001b[0m\u001b[0;34m.\u001b[0m\u001b[0mshape\u001b[0m\u001b[0;34m)\u001b[0m\u001b[0;34m\u001b[0m\u001b[0;34m\u001b[0m\u001b[0m\n\u001b[0m\u001b[1;32m      2\u001b[0m \u001b[0madenseadd\u001b[0m\u001b[0;34m\u001b[0m\u001b[0;34m\u001b[0m\u001b[0m\n",
      "\u001b[0;31mNameError\u001b[0m: name 'resa' is not defined"
     ]
    }
   ],
   "source": [
    "adenseadd = to_dense(resa, resaidx, resannz, ellwa, a.shape)\n",
    "adenseadd"
   ]
  },
  {
   "cell_type": "code",
   "execution_count": 418,
   "id": "3211c6e6",
   "metadata": {},
   "outputs": [
    {
     "data": {
      "text/plain": [
       "array([[-5.22632837e-01,  1.31274581e+00,  6.26713991e-01,\n",
       "         3.13637584e-01, -3.76596689e-01,  4.88761859e-03,\n",
       "        -5.55174649e-01,  6.39165126e-01, -2.10940933e+00,\n",
       "         3.30693685e-02, -2.93532342e-01,  6.84451699e-01,\n",
       "        -6.47347689e-01,  7.27873564e-01,  7.91488886e-01,\n",
       "        -1.49035931e-01],\n",
       "       [ 8.47880363e-01,  8.92728984e-01,  6.21262550e-01,\n",
       "        -1.14085293e+00, -1.10533178e+00, -1.21122408e+00,\n",
       "        -8.00590575e-01,  5.91763318e-01, -4.87312883e-01,\n",
       "        -6.34929419e-01,  2.46132702e-01,  8.31072971e-01,\n",
       "         5.23058414e-01,  1.22928667e+00, -4.17523742e-01,\n",
       "         0.00000000e+00],\n",
       "       [ 8.76122355e-01,  1.19081810e-01, -9.71816957e-01,\n",
       "        -1.31140959e+00,  3.68975103e-01,  7.99282610e-01,\n",
       "         8.34740400e-01, -1.62523425e+00,  9.95305061e-01,\n",
       "         7.06632733e-02, -4.54083085e-01, -1.23369250e-01,\n",
       "        -1.52907693e+00, -8.85128319e-01, -1.95014015e-01,\n",
       "        -4.75803852e-01],\n",
       "       [-1.44459438e+00, -1.63728487e+00, -1.16091613e-02,\n",
       "        -2.00397626e-01, -1.37411213e+00, -7.43931744e-01,\n",
       "        -5.45784533e-01,  1.75485629e+00,  3.97294611e-01,\n",
       "         3.75710130e-01,  1.82599381e-01, -1.68691836e-02,\n",
       "         9.24801171e-01,  7.18314052e-01,  3.58000904e-01,\n",
       "         0.00000000e+00],\n",
       "       [ 1.39721274e+00, -6.56291664e-01, -8.76179159e-01,\n",
       "         1.15158743e+00, -9.77126062e-01, -4.00415689e-01,\n",
       "        -5.53062916e-01, -2.08056641e+00,  5.21229506e-01,\n",
       "        -1.93864702e+00, -6.04778469e-01, -2.54777670e-01,\n",
       "         9.25730705e-01,  2.63358879e+00,  0.00000000e+00,\n",
       "         0.00000000e+00],\n",
       "       [-1.46414848e+00, -1.08540881e+00,  5.76427519e-01,\n",
       "         3.85886878e-01, -1.23728442e+00,  2.22298503e-03,\n",
       "         8.58729124e-01, -7.54586041e-01,  3.16084385e+00,\n",
       "        -1.00552487e+00, -7.81360865e-02,  4.05978709e-02,\n",
       "         7.26960778e-01, -4.14261669e-01,  4.62432742e-01,\n",
       "        -7.42576867e-02],\n",
       "       [ 4.72000420e-01,  2.97815498e-01,  1.32100511e+00,\n",
       "         3.13208640e-01, -1.34042251e+00, -1.15943238e+00,\n",
       "        -9.06559348e-01,  9.19509292e-01, -1.75399101e+00,\n",
       "         2.06757498e+00,  4.23611969e-01, -1.01468444e+00,\n",
       "        -4.89802867e-01, -2.01919061e-01, -4.57129329e-01,\n",
       "        -1.23188540e-01],\n",
       "       [ 1.14254403e+00,  1.46711707e+00, -9.36322570e-01,\n",
       "        -6.07010126e-01,  2.66763717e-01, -8.89613867e-01,\n",
       "         1.13837177e+00,  2.56242007e-01, -3.17115813e-01,\n",
       "        -1.30125952e+00,  1.35228708e-01, -1.24643935e+00,\n",
       "        -4.18756425e-01, -6.89695120e-01, -6.27197564e-01,\n",
       "         0.00000000e+00]])"
      ]
     },
     "execution_count": 418,
     "metadata": {},
     "output_type": "execute_result"
    }
   ],
   "source": [
    "adenseadd - adense"
   ]
  },
  {
   "cell_type": "code",
   "execution_count": 419,
   "id": "f63c469b",
   "metadata": {},
   "outputs": [
    {
     "data": {
      "text/plain": [
       "array([[False, False, False, False, False, False, False, False, False,\n",
       "        False, False, False, False, False, False, False],\n",
       "       [False, False, False, False, False, False, False, False, False,\n",
       "        False, False, False, False, False, False,  True],\n",
       "       [False, False, False, False, False, False, False, False, False,\n",
       "        False, False, False, False, False, False, False],\n",
       "       [False, False, False, False, False, False, False, False, False,\n",
       "        False, False, False, False, False, False,  True],\n",
       "       [False, False, False, False, False, False, False, False, False,\n",
       "        False, False, False, False, False,  True,  True],\n",
       "       [False, False, False, False, False, False, False, False, False,\n",
       "        False, False, False, False, False, False, False],\n",
       "       [False, False, False, False, False, False, False, False, False,\n",
       "        False, False, False, False, False, False, False],\n",
       "       [False, False, False, False, False, False, False, False, False,\n",
       "        False, False, False, False, False, False,  True]])"
      ]
     },
     "execution_count": 419,
     "metadata": {},
     "output_type": "execute_result"
    }
   ],
   "source": [
    "adenseadd == adense"
   ]
  },
  {
   "cell_type": "code",
   "execution_count": 420,
   "id": "922fdfb7",
   "metadata": {},
   "outputs": [
    {
     "data": {
      "text/plain": [
       "16"
      ]
     },
     "execution_count": 420,
     "metadata": {},
     "output_type": "execute_result"
    }
   ],
   "source": [
    "ellwa"
   ]
  },
  {
   "cell_type": "code",
   "execution_count": 421,
   "id": "9da55fa5",
   "metadata": {},
   "outputs": [
    {
     "data": {
      "text/plain": [
       "array([[0.68347037, 0.8035886 , 0.08023349, 0.8858316 , 0.17861794,\n",
       "        0.46201044, 0.        , 0.        , 0.        , 0.        ,\n",
       "        0.        , 0.        , 0.        , 0.        , 0.        ,\n",
       "        0.        ],\n",
       "       [0.9562663 , 0.5531271 , 0.5375557 , 0.20370705, 0.35530138,\n",
       "        0.9186601 , 0.        , 0.        , 0.        , 0.        ,\n",
       "        0.        , 0.        , 0.        , 0.        , 0.        ,\n",
       "        0.        ],\n",
       "       [0.20103766, 0.74341315, 0.5787496 , 0.05387774, 0.5917517 ,\n",
       "        0.17797045, 0.        , 0.        , 0.        , 0.        ,\n",
       "        0.        , 0.        , 0.        , 0.        , 0.        ,\n",
       "        0.        ],\n",
       "       [0.14296253, 0.9103574 , 0.03242496, 0.71459514, 0.7448136 ,\n",
       "        0.66635793, 0.        , 0.        , 0.        , 0.        ,\n",
       "        0.        , 0.        , 0.        , 0.        , 0.        ,\n",
       "        0.        ],\n",
       "       [0.59893256, 0.9217044 , 0.16333483, 0.17167741, 0.7605819 ,\n",
       "        0.48675168, 0.        , 0.        , 0.        , 0.        ,\n",
       "        0.        , 0.        , 0.        , 0.        , 0.        ,\n",
       "        0.        ],\n",
       "       [0.11415514, 0.82574075, 0.27978534, 0.25018668, 0.83127654,\n",
       "        0.09929471, 0.        , 0.        , 0.        , 0.        ,\n",
       "        0.        , 0.        , 0.        , 0.        , 0.        ,\n",
       "        0.        ],\n",
       "       [0.28872353, 0.04889954, 0.6493426 , 0.33329687, 0.84441024,\n",
       "        0.01120785, 0.        , 0.        , 0.        , 0.        ,\n",
       "        0.        , 0.        , 0.        , 0.        , 0.        ,\n",
       "        0.        ],\n",
       "       [0.67626965, 0.35563806, 0.69630474, 0.6753613 , 0.12287189,\n",
       "        0.09184685, 0.        , 0.        , 0.        , 0.        ,\n",
       "        0.        , 0.        , 0.        , 0.        , 0.        ,\n",
       "        0.        ]], dtype=float32)"
      ]
     },
     "execution_count": 421,
     "metadata": {},
     "output_type": "execute_result"
    }
   ],
   "source": [
    "adata2 = adata.reshape(-1, ellwa)\n",
    "adata2"
   ]
  },
  {
   "cell_type": "code",
   "execution_count": 422,
   "id": "466c61fb",
   "metadata": {},
   "outputs": [
    {
     "ename": "NameError",
     "evalue": "name 'resa' is not defined",
     "output_type": "error",
     "traceback": [
      "\u001b[0;31m---------------------------------------------------------------------------\u001b[0m",
      "\u001b[0;31mNameError\u001b[0m                                 Traceback (most recent call last)",
      "\u001b[0;32m/tmp/ipykernel_2109/2541302002.py\u001b[0m in \u001b[0;36m<module>\u001b[0;34m\u001b[0m\n\u001b[0;32m----> 1\u001b[0;31m \u001b[0mresa\u001b[0m \u001b[0;34m=\u001b[0m \u001b[0mresa\u001b[0m\u001b[0;34m.\u001b[0m\u001b[0mreshape\u001b[0m\u001b[0;34m(\u001b[0m\u001b[0;34m-\u001b[0m\u001b[0;36m1\u001b[0m\u001b[0;34m,\u001b[0m \u001b[0mellwa\u001b[0m\u001b[0;34m)\u001b[0m\u001b[0;34m\u001b[0m\u001b[0;34m\u001b[0m\u001b[0m\n\u001b[0m\u001b[1;32m      2\u001b[0m \u001b[0mresa\u001b[0m\u001b[0;34m\u001b[0m\u001b[0;34m\u001b[0m\u001b[0m\n",
      "\u001b[0;31mNameError\u001b[0m: name 'resa' is not defined"
     ]
    }
   ],
   "source": [
    "resa = resa.reshape(-1, ellwa)\n",
    "resa"
   ]
  },
  {
   "cell_type": "code",
   "execution_count": 423,
   "id": "30f36719",
   "metadata": {},
   "outputs": [
    {
     "ename": "NameError",
     "evalue": "name 'resa' is not defined",
     "output_type": "error",
     "traceback": [
      "\u001b[0;31m---------------------------------------------------------------------------\u001b[0m",
      "\u001b[0;31mNameError\u001b[0m                                 Traceback (most recent call last)",
      "\u001b[0;32m/tmp/ipykernel_2109/2222676538.py\u001b[0m in \u001b[0;36m<module>\u001b[0;34m\u001b[0m\n\u001b[0;32m----> 1\u001b[0;31m \u001b[0mresa\u001b[0m \u001b[0;34m-\u001b[0m \u001b[0madata2\u001b[0m\u001b[0;34m\u001b[0m\u001b[0;34m\u001b[0m\u001b[0m\n\u001b[0m",
      "\u001b[0;31mNameError\u001b[0m: name 'resa' is not defined"
     ]
    }
   ],
   "source": [
    "resa - adata2"
   ]
  },
  {
   "cell_type": "code",
   "execution_count": 424,
   "id": "9dd6baf4",
   "metadata": {},
   "outputs": [
    {
     "data": {
      "text/plain": [
       "array([ 1,  2,  7,  8, 10, 12,  0,  0,  0,  0,  0,  0,  0,  0,  0,  0,  0,\n",
       "        1,  4, 11, 12, 15,  0,  0,  0,  0,  0,  0,  0,  0,  0,  0,  1,  5,\n",
       "        9, 11, 13, 14,  0,  0,  0,  0,  0,  0,  0,  0,  0,  0,  3,  4,  5,\n",
       "        7, 12, 15,  0,  0,  0,  0,  0,  0,  0,  0,  0,  0,  3,  7,  9, 11,\n",
       "       14, 15,  0,  0,  0,  0,  0,  0,  0,  0,  0,  0,  0,  1,  5,  7, 10,\n",
       "       11,  0,  0,  0,  0,  0,  0,  0,  0,  0,  0,  0,  1,  3,  5, 12, 13,\n",
       "        0,  0,  0,  0,  0,  0,  0,  0,  0,  0,  0,  3,  6,  8, 11, 15,  0,\n",
       "        0,  0,  0,  0,  0,  0,  0,  0,  0], dtype=uint32)"
      ]
     },
     "execution_count": 424,
     "metadata": {},
     "output_type": "execute_result"
    }
   ],
   "source": [
    "acols"
   ]
  },
  {
   "cell_type": "code",
   "execution_count": 425,
   "id": "5c526051",
   "metadata": {},
   "outputs": [
    {
     "ename": "NameError",
     "evalue": "name 'resaidx' is not defined",
     "output_type": "error",
     "traceback": [
      "\u001b[0;31m---------------------------------------------------------------------------\u001b[0m",
      "\u001b[0;31mNameError\u001b[0m                                 Traceback (most recent call last)",
      "\u001b[0;32m/tmp/ipykernel_2109/925271796.py\u001b[0m in \u001b[0;36m<module>\u001b[0;34m\u001b[0m\n\u001b[0;32m----> 1\u001b[0;31m \u001b[0mresaidx\u001b[0m\u001b[0;34m\u001b[0m\u001b[0;34m\u001b[0m\u001b[0m\n\u001b[0m",
      "\u001b[0;31mNameError\u001b[0m: name 'resaidx' is not defined"
     ]
    }
   ],
   "source": [
    "resaidx"
   ]
  },
  {
   "cell_type": "code",
   "execution_count": 426,
   "id": "f635a14d",
   "metadata": {},
   "outputs": [
    {
     "ename": "NameError",
     "evalue": "name 'resannz' is not defined",
     "output_type": "error",
     "traceback": [
      "\u001b[0;31m---------------------------------------------------------------------------\u001b[0m",
      "\u001b[0;31mNameError\u001b[0m                                 Traceback (most recent call last)",
      "\u001b[0;32m/tmp/ipykernel_2109/3267424936.py\u001b[0m in \u001b[0;36m<module>\u001b[0;34m\u001b[0m\n\u001b[0;32m----> 1\u001b[0;31m \u001b[0mresannz\u001b[0m\u001b[0;34m\u001b[0m\u001b[0;34m\u001b[0m\u001b[0m\n\u001b[0m",
      "\u001b[0;31mNameError\u001b[0m: name 'resannz' is not defined"
     ]
    }
   ],
   "source": [
    "resannz"
   ]
  },
  {
   "cell_type": "code",
   "execution_count": 427,
   "id": "d99713b6",
   "metadata": {},
   "outputs": [
    {
     "data": {
      "text/plain": [
       "array([6, 6, 6, 6, 6, 6, 6, 6], dtype=uint32)"
      ]
     },
     "execution_count": 427,
     "metadata": {},
     "output_type": "execute_result"
    }
   ],
   "source": [
    "annz"
   ]
  },
  {
   "cell_type": "markdown",
   "id": "7c703466",
   "metadata": {},
   "source": [
    "### update vals2"
   ]
  },
  {
   "cell_type": "code",
   "execution_count": 428,
   "id": "ed7e786b",
   "metadata": {},
   "outputs": [],
   "source": [
    "adatat_buf = cl.Buffer(ctx, mf.READ_WRITE | mf.COPY_HOST_PTR, hostbuf=adatat)\n",
    "acolst_buf = cl.Buffer(ctx, mf.READ_WRITE | mf.COPY_HOST_PTR, hostbuf=acolst)\n",
    "annzst_buf = cl.Buffer(ctx, mf.READ_WRITE | mf.COPY_HOST_PTR, hostbuf=annzt)"
   ]
  },
  {
   "cell_type": "code",
   "execution_count": 429,
   "id": "33840479",
   "metadata": {},
   "outputs": [],
   "source": [
    "prg = cl.Program(ctx, \"\"\"\n",
    "// Every global_id_0 works on a row\n",
    "    __kernel void addvals(__global  float* matData,     // INPUT MATRIX DATA\n",
    "                         __global  uint*  colIdx,\n",
    "                         __global  uint*  rowNnz,\n",
    "                         float lr,\n",
    "                         uint   ellwidth,\n",
    "                         __global  float* updatevals,    // INPUT\n",
    "                         __global  uint* updatexidx,\n",
    "                         __global  uint* updateyidx\n",
    "                         ) { // LOCAL SHARED BUFFER\n",
    "      uint gid = get_global_id(0);\n",
    "      uint gid2 = get_global_id(1);\n",
    "      uint topk = get_global_size(0);\n",
    "      uint bs = get_global_size(1);\n",
    "      uint baseupdateidx = topk*topk*gid2;\n",
    "      uint baseidxidx = topk*gid2;\n",
    "      uint row = updateyidx[baseidxidx+gid];\n",
    "\n",
    "      for (uint i=0; i<topk; i++) {\n",
    "        float val = updatevals[baseupdateidx+gid*topk+i];\n",
    "        uint col = updatexidx[baseidxidx+i];\n",
    "        for (uint i=0; i<rowNnz[row]; i++) {\n",
    "          uint idx = row*ellwidth+i;\n",
    "          if (colIdx[idx] >= col) {\n",
    "            //printf(\"\\\\nFOUND:%i/%i  - idx:%i\", colIdx[idx], col, idx);\n",
    "            if (colIdx[idx] == col) {\n",
    "              matData[idx] += -val*lr;\n",
    "              printf(\"\\\\nUPDATE[%i,%i]: %f\", row,col, val);\n",
    "              break;\n",
    "            } else {\n",
    "              // insert new column\n",
    "              printf(\"\\\\nINSERT[%i,%i]: %.2f\", row,col, val);\n",
    "              for (uint j=rowNnz[row]+1; j>i; j--) {\n",
    "                uint idx2 = row*ellwidth+j;\n",
    "                matData[idx2] = matData[idx2-1];\n",
    "                colIdx[idx2] = colIdx[idx2-1];\n",
    "              }\n",
    "              matData[idx] = -val*lr;\n",
    "              colIdx[idx] = col;\n",
    "              rowNnz[row] += 1;\n",
    "              break;\n",
    "            }\n",
    "          }\n",
    "        }\n",
    "        if (rowNnz[row] >= ellwidth) {\n",
    "          break;\n",
    "        }\n",
    "      }\n",
    "    }\"\"\").build()"
   ]
  },
  {
   "cell_type": "code",
   "execution_count": 430,
   "id": "0053ed70",
   "metadata": {},
   "outputs": [
    {
     "name": "stdout",
     "output_type": "stream",
     "text": [
      "\n",
      "UPDATE[6,7]: 0.000000\n",
      "UPDATE[1,0]: 0.155507\n",
      "UPDATE[2,0]: 1.623621\n",
      "INSERT[6,5]: 0.00\n",
      "INSERT[6,6]: 0.00\n",
      "UPDATE[3,7]: 0.000000\n",
      "UPDATE[0,7]: 0.000000\n",
      "INSERT[0,0]: 0.70\n",
      "INSERT[3,0]: 0.33\n",
      "INSERT[4,0]: 0.61\n",
      "UPDATE[0,6]: 0.000000\n",
      "UPDATE[3,6]: 0.000000\n",
      "UPDATE[0,5]: 0.000000\n",
      "UPDATE[3,6]: 0.000000\n",
      "UPDATE[0,6]: 0.000000\n",
      "UPDATE[5,6]: 0.000000\n",
      "INSERT[3,5]: 0.00\n",
      "UPDATE[0,1]: 1.884831\n",
      "UPDATE[1,1]: 0.187350\n",
      "UPDATE[4,1]: 0.298923\n",
      "UPDATE[5,6]: 0.000000\n",
      "INSERT[5,1]: 0.00\n",
      "INSERT[6,1]: 0.00\n",
      "INSERT[3,1]: 0.30\n",
      "UPDATE[1,5]: 0.000000\n",
      "UPDATE[5,2]: 0.000000\n",
      "UPDATE[0,1]: 0.000000\n",
      "UPDATE[3,7]: 0.000000\n",
      "UPDATE[1,2]: 0.311594\n",
      "INSERT[6,2]: 0.00\n",
      "INSERT[7,1]: 0.00\n",
      "INSERT[3,1]: 0.00\n",
      "UPDATE[6,6]: 0.000000\n",
      "INSERT[0,2]: 1.13\n",
      "INSERT[3,2]: 0.32\n",
      "INSERT[4,2]: 0.63\n",
      "INSERT[3,2]: 0.00\n",
      "INSERT[0,2]: 0.00\n",
      "UPDATE[0,6]: 0.000000\n",
      "UPDATE[7,0]: 0.000000\n",
      "UPDATE[0,0]: 0.000000\n",
      "INSERT[4,3]: 0.02\n",
      "UPDATE[5,1]: 0.000000\n",
      "UPDATE[1,6]: 0.000000\n",
      "INSERT[5,0]: 0.00\n",
      "INSERT[6,0]: 0.00\n",
      "INSERT[1,3]: 0.97\n",
      "INSERT[6,1]: 0.00\n",
      "INSERT[4,4]: 0.00\n",
      "UPDATE[6,7]: 0.000000\n",
      "INSERT[0,3]: 0.50\n",
      "UPDATE[0,1]: 0.000000\n",
      "INSERT[6,4]: 0.00\n",
      "INSERT[1,4]: 0.00\n",
      "INSERT[0,4]: 0.00\n",
      "UPDATE[0,7]: 0.000000\n",
      "UPDATE[4,4]: 0.839095\n",
      "UPDATE[5,3]: 0.000000\n",
      "UPDATE[7,3]: 0.000000\n",
      "INSERT[3,4]: 0.00\n",
      "UPDATE[1,4]: 0.279323\n",
      "INSERT[6,3]: 0.00\n",
      "UPDATE[5,3]: 0.000000\n",
      "INSERT[1,1]: 0.00\n",
      "INSERT[4,1]: 0.00\n",
      "UPDATE[6,3]: 0.000000"
     ]
    },
    {
     "data": {
      "text/plain": [
       "<pyopencl._cl.NannyEvent at 0x7f5a642b2040>"
      ]
     },
     "execution_count": 430,
     "metadata": {},
     "output_type": "execute_result"
    }
   ],
   "source": [
    "knl = prg.addvals  # Use this Kernel object for repeated calls\n",
    "knl(queue, [topk,bs], None, adatat_buf, acolst_buf, annzst_buf, np.float32(1), np.uint32(ellwat), x_cp_buf, x_idx_buf, y_idx_buf)\n",
    "\n",
    "resat = np.empty_like(adatat)\n",
    "resaidxt = np.zeros(acolst.shape).astype(np.uint32)\n",
    "resannzt = np.zeros(annzt.shape).astype(np.uint32)\n",
    "\n",
    "cl.enqueue_copy(queue, resat, adatat_buf)\n",
    "cl.enqueue_copy(queue, resaidxt, acolst_buf)\n",
    "cl.enqueue_copy(queue, resannzt, annzst_buf)"
   ]
  },
  {
   "cell_type": "code",
   "execution_count": 431,
   "id": "8f781e72",
   "metadata": {},
   "outputs": [
    {
     "data": {
      "text/plain": [
       "16"
      ]
     },
     "execution_count": 431,
     "metadata": {},
     "output_type": "execute_result"
    }
   ],
   "source": [
    "ellwa"
   ]
  },
  {
   "cell_type": "code",
   "execution_count": 432,
   "id": "1864d3ac",
   "metadata": {},
   "outputs": [
    {
     "data": {
      "text/plain": [
       "((128,), (128,), (16,))"
      ]
     },
     "execution_count": 432,
     "metadata": {},
     "output_type": "execute_result"
    }
   ],
   "source": [
    "resat.shape, resaidxt.shape, resannzt.shape"
   ]
  },
  {
   "cell_type": "code",
   "execution_count": 433,
   "id": "6205962b",
   "metadata": {},
   "outputs": [
    {
     "data": {
      "text/plain": [
       "array([[-0.69963682, -0.        , -1.13023305, -0.49532753, -0.        ,\n",
       "         0.11415514,  0.28872353,  0.        ],\n",
       "       [ 0.        , -0.        , -0.11055626, -0.9677906 , -0.27932334,\n",
       "         0.82574075,  0.04889954,  0.67626965],\n",
       "       [ 0.        ,  0.        ,  0.        ,  0.        ,  0.        ,\n",
       "         0.        ,  0.        ,  0.        ],\n",
       "       [-0.33406669, -0.        , -0.32051137, -0.01893103,  0.59893256,\n",
       "        -0.        ,  0.        ,  0.        ],\n",
       "       [ 0.        , -0.        ,  0.        ,  0.91035742, -0.83909458,\n",
       "         0.        ,  0.6493426 ,  0.        ],\n",
       "       [-0.        , -0.        ,  0.74341315,  0.03242496,  0.        ,\n",
       "         0.27978534,  0.33329687,  0.        ],\n",
       "       [-0.        , -0.        , -0.        , -0.        , -0.        ,\n",
       "        -0.        , -0.        ,  0.69630474],\n",
       "       [ 0.        ,  0.        ,  0.        ,  0.71459514,  0.92170441,\n",
       "         0.25018668,  0.        ,  0.69630474],\n",
       "       [ 0.88583159,  0.        ,  0.        ,  0.        ,  0.        ,\n",
       "         0.        ,  0.        ,  0.67536128],\n",
       "       [ 0.        ,  0.        ,  0.5787496 ,  0.        ,  0.16333483,\n",
       "         0.        ,  0.        ,  0.        ],\n",
       "       [ 0.17861794,  0.        ,  0.        ,  0.        ,  0.        ,\n",
       "         0.83127654,  0.        ,  0.        ],\n",
       "       [ 0.        ,  0.20370705,  0.05387774,  0.        ,  0.17167741,\n",
       "         0.09929471,  0.        ,  0.12287189],\n",
       "       [ 0.46201044,  0.35530138,  0.        ,  0.74481362,  0.        ,\n",
       "         0.        ,  0.84441024,  0.        ],\n",
       "       [ 0.        ,  0.        ,  0.59175169,  0.        ,  0.        ,\n",
       "         0.        ,  0.01120785,  0.        ],\n",
       "       [ 0.        ,  0.        ,  0.17797045,  0.        ,  0.76058191,\n",
       "         0.        ,  0.        ,  0.        ],\n",
       "       [ 0.        ,  0.9186601 ,  0.        ,  0.66635793,  0.48675168,\n",
       "         0.        ,  0.        ,  0.09184685]])"
      ]
     },
     "execution_count": 433,
     "metadata": {},
     "output_type": "execute_result"
    }
   ],
   "source": [
    "adenseaddt = to_dense(resat, resaidxt, resannzt, ellwat, a.T.shape)\n",
    "adenseaddt"
   ]
  },
  {
   "cell_type": "code",
   "execution_count": 434,
   "id": "c601a02c",
   "metadata": {},
   "outputs": [
    {
     "data": {
      "text/plain": [
       "array([[False, False, False, False, False, False, False, False, False,\n",
       "        False, False, False, False, False, False, False],\n",
       "       [False, False, False, False, False, False, False, False, False,\n",
       "        False, False, False, False, False, False,  True],\n",
       "       [False, False, False, False, False, False, False, False, False,\n",
       "        False, False, False, False, False, False, False],\n",
       "       [False, False, False, False, False, False, False, False, False,\n",
       "        False, False, False, False, False, False,  True],\n",
       "       [False, False, False, False, False, False, False, False, False,\n",
       "        False, False, False, False, False,  True,  True],\n",
       "       [False, False, False, False, False, False, False, False, False,\n",
       "        False, False, False, False, False, False, False],\n",
       "       [False, False, False, False, False, False, False, False, False,\n",
       "        False, False, False, False, False, False, False],\n",
       "       [False, False, False, False, False, False, False, False, False,\n",
       "        False, False, False, False, False, False,  True]])"
      ]
     },
     "execution_count": 434,
     "metadata": {},
     "output_type": "execute_result"
    }
   ],
   "source": [
    "adenseadd == adenseaddt.T"
   ]
  },
  {
   "cell_type": "code",
   "execution_count": 435,
   "id": "64a4fdb0",
   "metadata": {},
   "outputs": [
    {
     "data": {
      "text/plain": [
       "array([[0.9562663 , 0.11415514, 0.28872353, 0.67626965, 0.        ,\n",
       "        0.        , 0.        , 0.        ],\n",
       "       [0.68347037, 0.5531271 , 0.20103766, 0.82574075, 0.04889954,\n",
       "        0.        , 0.        , 0.        ],\n",
       "       [0.8035886 , 0.        , 0.        , 0.        , 0.        ,\n",
       "        0.        , 0.        , 0.        ],\n",
       "       [0.14296253, 0.59893256, 0.6493426 , 0.35563806, 0.        ,\n",
       "        0.        , 0.        , 0.        ],\n",
       "       [0.5375557 , 0.9103574 , 0.        , 0.        , 0.        ,\n",
       "        0.        , 0.        , 0.        ],\n",
       "       [0.74341315, 0.03242496, 0.27978534, 0.33329687, 0.        ,\n",
       "        0.        , 0.        , 0.        ],\n",
       "       [0.69630474, 0.        , 0.        , 0.        , 0.        ,\n",
       "        0.        , 0.        , 0.        ],\n",
       "       [0.08023349, 0.71459514, 0.9217044 , 0.25018668, 0.        ,\n",
       "        0.        , 0.        , 0.        ],\n",
       "       [0.8858316 , 0.6753613 , 0.        , 0.        , 0.        ,\n",
       "        0.        , 0.        , 0.        ],\n",
       "       [0.5787496 , 0.16333483, 0.        , 0.        , 0.        ,\n",
       "        0.        , 0.        , 0.        ],\n",
       "       [0.17861794, 0.83127654, 0.        , 0.        , 0.        ,\n",
       "        0.        , 0.        , 0.        ],\n",
       "       [0.20370705, 0.05387774, 0.17167741, 0.09929471, 0.12287189,\n",
       "        0.        , 0.        , 0.        ],\n",
       "       [0.46201044, 0.35530138, 0.7448136 , 0.84441024, 0.        ,\n",
       "        0.        , 0.        , 0.        ],\n",
       "       [0.5917517 , 0.01120785, 0.        , 0.        , 0.        ,\n",
       "        0.        , 0.        , 0.        ],\n",
       "       [0.17797045, 0.7605819 , 0.        , 0.        , 0.        ,\n",
       "        0.        , 0.        , 0.        ],\n",
       "       [0.9186601 , 0.66635793, 0.48675168, 0.09184685, 0.        ,\n",
       "        0.        , 0.        , 0.        ]], dtype=float32)"
      ]
     },
     "execution_count": 435,
     "metadata": {},
     "output_type": "execute_result"
    }
   ],
   "source": [
    "adata2t = adatat.reshape(-1, ellwat)\n",
    "adata2t"
   ]
  },
  {
   "cell_type": "code",
   "execution_count": 436,
   "id": "3b8f6062",
   "metadata": {},
   "outputs": [
    {
     "data": {
      "text/plain": [
       "array([[-0.6996368 , -0.9285649 , -0.        , -1.130233  , -0.        ,\n",
       "        -0.49532753,  0.11415514,  0.28872353],\n",
       "       [-0.        ,  0.67626965,  0.        , -0.11055626, -0.9677906 ,\n",
       "        -0.27932334,  0.82574075,  0.04889954],\n",
       "       [ 0.        ,  0.        ,  0.        ,  0.        ,  0.        ,\n",
       "         0.        ,  0.        ,  0.        ],\n",
       "       [-0.3340667 , -0.        , -0.        , -0.32051137, -0.30414024,\n",
       "         0.14296253, -0.        , -0.        ],\n",
       "       [-0.        ,  0.59893256, -0.01893103, -0.8390946 ,  0.6493426 ,\n",
       "         0.        ,  0.9103574 ,  0.        ],\n",
       "       [-0.        , -0.        ,  0.74341315,  0.03242496,  0.27978534,\n",
       "         0.33329687,  0.        ,  0.        ],\n",
       "       [-0.        , -0.        , -0.        , -0.        , -0.        ,\n",
       "        -0.        , -0.        , -0.        ],\n",
       "       [ 0.69630474,  0.        ,  0.71459514,  0.9217044 ,  0.25018668,\n",
       "         0.        ,  0.        ,  0.        ],\n",
       "       [ 0.8858316 ,  0.6753613 ,  0.        ,  0.        ,  0.        ,\n",
       "         0.        ,  0.        ,  0.        ],\n",
       "       [ 0.5787496 ,  0.16333483,  0.        ,  0.        ,  0.        ,\n",
       "         0.        ,  0.        ,  0.        ],\n",
       "       [ 0.17861794,  0.83127654,  0.        ,  0.        ,  0.        ,\n",
       "         0.        ,  0.        ,  0.        ],\n",
       "       [ 0.20370705,  0.05387774,  0.17167741,  0.09929471,  0.12287189,\n",
       "         0.        ,  0.        ,  0.        ],\n",
       "       [ 0.46201044,  0.35530138,  0.7448136 ,  0.84441024,  0.        ,\n",
       "         0.        ,  0.        ,  0.        ],\n",
       "       [ 0.5917517 ,  0.01120785,  0.        ,  0.        ,  0.        ,\n",
       "         0.        ,  0.        ,  0.        ],\n",
       "       [ 0.17797045,  0.7605819 ,  0.        ,  0.        ,  0.        ,\n",
       "         0.        ,  0.        ,  0.        ],\n",
       "       [ 0.9186601 ,  0.66635793,  0.48675168,  0.09184685,  0.        ,\n",
       "         0.        ,  0.        ,  0.        ]], dtype=float32)"
      ]
     },
     "execution_count": 436,
     "metadata": {},
     "output_type": "execute_result"
    }
   ],
   "source": [
    "resat = resat.reshape(-1, ellwat)\n",
    "resat"
   ]
  },
  {
   "cell_type": "code",
   "execution_count": 437,
   "id": "eb51f891",
   "metadata": {},
   "outputs": [
    {
     "data": {
      "text/plain": [
       "array([[-1.6559031 , -1.0427201 , -0.28872353, -1.8065027 , -0.        ,\n",
       "        -0.49532753,  0.11415514,  0.28872353],\n",
       "       [-0.68347037,  0.12314254, -0.20103766, -0.936297  , -1.0166901 ,\n",
       "        -0.27932334,  0.82574075,  0.04889954],\n",
       "       [-0.8035886 ,  0.        ,  0.        ,  0.        ,  0.        ,\n",
       "         0.        ,  0.        ,  0.        ],\n",
       "       [-0.4770292 , -0.59893256, -0.6493426 , -0.6761494 , -0.30414024,\n",
       "         0.14296253, -0.        , -0.        ],\n",
       "       [-0.5375557 , -0.31142485, -0.01893103, -0.8390946 ,  0.6493426 ,\n",
       "         0.        ,  0.9103574 ,  0.        ],\n",
       "       [-0.74341315, -0.03242496,  0.46362782, -0.3008719 ,  0.27978534,\n",
       "         0.33329687,  0.        ,  0.        ],\n",
       "       [-0.69630474, -0.        , -0.        , -0.        , -0.        ,\n",
       "        -0.        , -0.        , -0.        ],\n",
       "       [ 0.6160712 , -0.71459514, -0.20710927,  0.6715177 ,  0.25018668,\n",
       "         0.        ,  0.        ,  0.        ],\n",
       "       [ 0.        ,  0.        ,  0.        ,  0.        ,  0.        ,\n",
       "         0.        ,  0.        ,  0.        ],\n",
       "       [ 0.        ,  0.        ,  0.        ,  0.        ,  0.        ,\n",
       "         0.        ,  0.        ,  0.        ],\n",
       "       [ 0.        ,  0.        ,  0.        ,  0.        ,  0.        ,\n",
       "         0.        ,  0.        ,  0.        ],\n",
       "       [ 0.        ,  0.        ,  0.        ,  0.        ,  0.        ,\n",
       "         0.        ,  0.        ,  0.        ],\n",
       "       [ 0.        ,  0.        ,  0.        ,  0.        ,  0.        ,\n",
       "         0.        ,  0.        ,  0.        ],\n",
       "       [ 0.        ,  0.        ,  0.        ,  0.        ,  0.        ,\n",
       "         0.        ,  0.        ,  0.        ],\n",
       "       [ 0.        ,  0.        ,  0.        ,  0.        ,  0.        ,\n",
       "         0.        ,  0.        ,  0.        ],\n",
       "       [ 0.        ,  0.        ,  0.        ,  0.        ,  0.        ,\n",
       "         0.        ,  0.        ,  0.        ]], dtype=float32)"
      ]
     },
     "execution_count": 437,
     "metadata": {},
     "output_type": "execute_result"
    }
   ],
   "source": [
    "resat - adata2t"
   ]
  },
  {
   "cell_type": "code",
   "execution_count": 438,
   "id": "f7e150fe",
   "metadata": {},
   "outputs": [
    {
     "data": {
      "text/plain": [
       "array([ 1,  2,  7,  8, 10, 12,  0,  0,  0,  0,  0,  0,  0,  0,  0,  0,  0,\n",
       "        1,  4, 11, 12, 15,  0,  0,  0,  0,  0,  0,  0,  0,  0,  0,  1,  5,\n",
       "        9, 11, 13, 14,  0,  0,  0,  0,  0,  0,  0,  0,  0,  0,  3,  4,  5,\n",
       "        7, 12, 15,  0,  0,  0,  0,  0,  0,  0,  0,  0,  0,  3,  7,  9, 11,\n",
       "       14, 15,  0,  0,  0,  0,  0,  0,  0,  0,  0,  0,  0,  1,  5,  7, 10,\n",
       "       11,  0,  0,  0,  0,  0,  0,  0,  0,  0,  0,  0,  1,  3,  5, 12, 13,\n",
       "        0,  0,  0,  0,  0,  0,  0,  0,  0,  0,  0,  3,  6,  8, 11, 15,  0,\n",
       "        0,  0,  0,  0,  0,  0,  0,  0,  0], dtype=uint32)"
      ]
     },
     "execution_count": 438,
     "metadata": {},
     "output_type": "execute_result"
    }
   ],
   "source": [
    "acols"
   ]
  },
  {
   "cell_type": "code",
   "execution_count": 439,
   "id": "8f1f18f1",
   "metadata": {},
   "outputs": [
    {
     "ename": "NameError",
     "evalue": "name 'resaidx' is not defined",
     "output_type": "error",
     "traceback": [
      "\u001b[0;31m---------------------------------------------------------------------------\u001b[0m",
      "\u001b[0;31mNameError\u001b[0m                                 Traceback (most recent call last)",
      "\u001b[0;32m/tmp/ipykernel_2109/925271796.py\u001b[0m in \u001b[0;36m<module>\u001b[0;34m\u001b[0m\n\u001b[0;32m----> 1\u001b[0;31m \u001b[0mresaidx\u001b[0m\u001b[0;34m\u001b[0m\u001b[0;34m\u001b[0m\u001b[0m\n\u001b[0m",
      "\u001b[0;31mNameError\u001b[0m: name 'resaidx' is not defined"
     ]
    }
   ],
   "source": [
    "resaidx"
   ]
  },
  {
   "cell_type": "code",
   "execution_count": 440,
   "id": "bd326e73",
   "metadata": {},
   "outputs": [
    {
     "ename": "NameError",
     "evalue": "name 'resannz' is not defined",
     "output_type": "error",
     "traceback": [
      "\u001b[0;31m---------------------------------------------------------------------------\u001b[0m",
      "\u001b[0;31mNameError\u001b[0m                                 Traceback (most recent call last)",
      "\u001b[0;32m/tmp/ipykernel_2109/3267424936.py\u001b[0m in \u001b[0;36m<module>\u001b[0;34m\u001b[0m\n\u001b[0;32m----> 1\u001b[0;31m \u001b[0mresannz\u001b[0m\u001b[0;34m\u001b[0m\u001b[0;34m\u001b[0m\u001b[0m\n\u001b[0m",
      "\u001b[0;31mNameError\u001b[0m: name 'resannz' is not defined"
     ]
    }
   ],
   "source": [
    "resannz"
   ]
  },
  {
   "cell_type": "code",
   "execution_count": 441,
   "id": "357413c1",
   "metadata": {},
   "outputs": [
    {
     "data": {
      "text/plain": [
       "array([6, 6, 6, 6, 6, 6, 6, 6], dtype=uint32)"
      ]
     },
     "execution_count": 441,
     "metadata": {},
     "output_type": "execute_result"
    }
   ],
   "source": [
    "annz"
   ]
  },
  {
   "cell_type": "markdown",
   "id": "7f618bfd",
   "metadata": {},
   "source": [
    "# OTHER"
   ]
  },
  {
   "cell_type": "markdown",
   "id": "28fd6b45",
   "metadata": {},
   "source": [
    "import numpy as np\n",
    "import pyopencl as cl\n",
    "\n",
    "mf = cl.mem_flags"
   ]
  },
  {
   "cell_type": "markdown",
   "id": "ebed13d1",
   "metadata": {},
   "source": [
    "dim = 16\n",
    "topk = 4\n",
    "\n",
    "x = np.random.rand(dim).astype(np.float32)\n",
    "y = np.random.rand(dim).astype(np.float32)\n",
    "x.shape,y.shape"
   ]
  },
  {
   "cell_type": "markdown",
   "id": "444a4a7f",
   "metadata": {},
   "source": [
    "dim1 = 4\n",
    "dim2 = 8\n",
    "dim3 = 1\n",
    "\n",
    "ctx = cl.create_some_context()\n",
    "queue = cl.CommandQueue(ctx,\n",
    "        properties=cl.command_queue_properties.PROFILING_ENABLE)\n",
    "\n",
    "sparsity = 0.2\n",
    "\n",
    "a = np.zeros((dim1,dim2))\n",
    "b = np.random.rand(dim2,dim3).flatten().astype(np.float32)\n",
    "\n",
    "a.shape, b.shape"
   ]
  },
  {
   "cell_type": "code",
   "execution_count": 442,
   "id": "e2d4594d",
   "metadata": {},
   "outputs": [],
   "source": [
    "x_buf = cl.Buffer(ctx, mf.READ_ONLY | mf.COPY_HOST_PTR, hostbuf=x)\n",
    "y_buf = cl.Buffer(ctx, mf.READ_ONLY | mf.COPY_HOST_PTR, hostbuf=y)\n",
    "val_out_buf = cl.Buffer(ctx, mf.READ_WRITE, 4*topk*topk)\n",
    "x_idx_buf = cl.Buffer(ctx, mf.READ_WRITE, topk*4)\n",
    "y_idx_buf = cl.Buffer(ctx, mf.READ_WRITE, topk*4)\n",
    "\n",
    "prg = cl.Program(ctx, \"\"\"\n",
    "// Every global_id_0 works on a row\n",
    "__kernel void genwupdate2(__global  float* x,     // INPUT MATRIX DATA\n",
    "                         __global  float* y,    // INPUT\n",
    "                         __global  float* xout,    // INPUT\n",
    "                         uint topk,\n",
    "                         __global  uint* xoutidx,    // INPUT\n",
    "                         __global  uint* youtidx    // INPUT\n",
    "                        ) { // LOCAL SHARED BUFFER\n",
    "  uint gid = get_global_id(0);\n",
    "  uint n = get_global_size(0);\n",
    "  \n",
    "  xout[gid] = x[gid];\n",
    "  xoutidx[gid] = gid;\n",
    "  youtidx[gid] = gid;\n",
    "  \n",
    "  float valx = x[gid];\n",
    "  float valy = y[gid];\n",
    "  uint posx = 0;\n",
    "  uint posy = 0;\n",
    "  for (uint i = 0; i < n; i++) {\n",
    "    float tempval = x[i];\n",
    "    float tempval2 = y[i];\n",
    "    bool larger = tempval > valx;\n",
    "    bool larger2 = tempval2 > valy;\n",
    "      \n",
    "    posx += (larger)?1:0;\n",
    "    posy += (larger2)?1:0;\n",
    "  }\n",
    "  //printf(\"posx:%i\", posx);\n",
    "  if (posx < topk) {\n",
    "    xoutidx[posx] = gid;\n",
    "  }\n",
    "  if (posy < topk) {\n",
    "    youtidx[posy] = gid;\n",
    "  }\n",
    "  if (gid < topk) {\n",
    "    uint i = gid;\n",
    "    for (uint j=0; j<topk; j++) {\n",
    "      xout[gid*topk+j] = x[xoutidx[gid]] * y[youtidx[j]];\n",
    "    }\n",
    "  }\n",
    "}\"\"\").build()"
   ]
  },
  {
   "cell_type": "code",
   "execution_count": 443,
   "id": "f45b3b69",
   "metadata": {},
   "outputs": [
    {
     "data": {
      "text/plain": [
       "<pyopencl._cl.NannyEvent at 0x7f5a642b73b0>"
      ]
     },
     "execution_count": 443,
     "metadata": {},
     "output_type": "execute_result"
    }
   ],
   "source": [
    "knl = prg.genwupdate2  # Use this Kernel object for repeated calls\n",
    "event = knl(queue, [dim,], None, x_buf, y_buf, val_out_buf, np.uint32(topk), x_idx_buf, y_idx_buf)\n",
    "\n",
    "#event.wait()\n",
    "val_out = np.zeros(topk*topk).astype(np.float32)\n",
    "resxidx = np.zeros(topk).astype(np.uint32)\n",
    "resyidx = np.zeros(topk).astype(np.uint32)\n",
    "\n",
    "cl.enqueue_copy(queue, val_out, val_out_buf)\n",
    "cl.enqueue_copy(queue, resxidx, x_idx_buf, wait_for=[event])\n",
    "cl.enqueue_copy(queue, resyidx, y_idx_buf)"
   ]
  },
  {
   "cell_type": "code",
   "execution_count": 444,
   "id": "d883394f",
   "metadata": {},
   "outputs": [
    {
     "data": {
      "text/plain": [
       "array([0.8797894 , 0.47577098, 0.36607596, 0.2568478 , 0.2076761 ,\n",
       "       0.81768477, 0.44218615, 0.34023452, 0.23871683, 0.19301617,\n",
       "       0.7180269 , 0.38829333, 0.2987674 , 0.20962246, 0.16949172,\n",
       "       0.3591644 , 0.19422829, 0.1494465 , 0.1048553 , 0.0847815 ,\n",
       "       0.24742627, 0.13380276, 0.10295283, 0.07223421, 0.05840548],\n",
       "      dtype=float32)"
      ]
     },
     "execution_count": 444,
     "metadata": {},
     "output_type": "execute_result"
    }
   ],
   "source": [
    "val_out"
   ]
  },
  {
   "cell_type": "code",
   "execution_count": 445,
   "id": "2335cf69",
   "metadata": {},
   "outputs": [
    {
     "data": {
      "text/plain": [
       "array([1, 2, 7, 4, 6], dtype=uint32)"
      ]
     },
     "execution_count": 445,
     "metadata": {},
     "output_type": "execute_result"
    }
   ],
   "source": [
    "resxidx"
   ]
  },
  {
   "cell_type": "code",
   "execution_count": 446,
   "id": "5e714f2a",
   "metadata": {},
   "outputs": [
    {
     "data": {
      "text/plain": [
       "array([5, 1, 7, 4, 0], dtype=uint32)"
      ]
     },
     "execution_count": 446,
     "metadata": {},
     "output_type": "execute_result"
    }
   ],
   "source": [
    "resyidx"
   ]
  },
  {
   "cell_type": "code",
   "execution_count": 447,
   "id": "f246c208",
   "metadata": {},
   "outputs": [
    {
     "ename": "NameError",
     "evalue": "name 'asdf' is not defined",
     "output_type": "error",
     "traceback": [
      "\u001b[0;31m---------------------------------------------------------------------------\u001b[0m",
      "\u001b[0;31mNameError\u001b[0m                                 Traceback (most recent call last)",
      "\u001b[0;32m/tmp/ipykernel_2109/2827374946.py\u001b[0m in \u001b[0;36m<module>\u001b[0;34m\u001b[0m\n\u001b[0;32m----> 1\u001b[0;31m \u001b[0masdf\u001b[0m\u001b[0;34m\u001b[0m\u001b[0;34m\u001b[0m\u001b[0m\n\u001b[0m",
      "\u001b[0;31mNameError\u001b[0m: name 'asdf' is not defined"
     ]
    }
   ],
   "source": [
    "asdf"
   ]
  },
  {
   "cell_type": "code",
   "execution_count": null,
   "id": "02a5c5dd",
   "metadata": {},
   "outputs": [],
   "source": [
    "from __future__ import division\n",
    "\n",
    "KERNEL_CODE = \"\"\"\n",
    "// Thread block size\n",
    "#define BLOCK_SIZE %(block_size)d\n",
    "// Matrix dimensions\n",
    "// (chosen as multiples of the thread block size for simplicity)\n",
    "#define WA %(w_a)d // Matrix A width\n",
    "#define HA %(h_a)d // Matrix A height\n",
    "#define WB %(w_b)d // Matrix B width\n",
    "#define HB WA  // Matrix B height\n",
    "#define WC WB  // Matrix C width\n",
    "#define HC HA  // Matrix C height\n",
    "/*\n",
    " * Copyright 1993-2009 NVIDIA Corporation.  All rights reserved.\n",
    " *\n",
    " * NVIDIA Corporation and its licensors retain all intellectual property and\n",
    " * proprietary rights in and to this software and related documentation.\n",
    " * Any use, reproduction, disclosure, or distribution of this software\n",
    " * and related documentation without an express license agreement from\n",
    " * NVIDIA Corporation is strictly prohibited.\n",
    " *\n",
    " * Please refer to the applicable NVIDIA end user license agreement (EULA)\n",
    " * associated with this source code for terms and conditions that govern\n",
    " * your use of this NVIDIA software.\n",
    " *\n",
    " */\n",
    "/* Matrix multiplication: C = A * B.\n",
    " * Device code.\n",
    " */\n",
    "#define AS(j, i) As[i + j * BLOCK_SIZE]\n",
    "#define BS(j, i) Bs[i + j * BLOCK_SIZE]\n",
    "////////////////////////////////////////////////////////////////////////////////\n",
    "//! Matrix multiplication on the device: C = A * B\n",
    "//! WA is A's width and WB is B's width\n",
    "////////////////////////////////////////////////////////////////////////////////\n",
    "__kernel __attribute__((reqd_work_group_size(16,16,1))) \n",
    "void\n",
    "matrixMul( __global float* C, __global float* A, __global float* B)\n",
    "{\n",
    "    __local float As[BLOCK_SIZE*BLOCK_SIZE];\n",
    "    __local float Bs[BLOCK_SIZE*BLOCK_SIZE];\n",
    "    // Block index\n",
    "    int bx = get_group_id(0);\n",
    "    int by = get_group_id(1);\n",
    "    // Thread index\n",
    "    int tx = get_local_id(0);\n",
    "    int ty = get_local_id(1);\n",
    "    // Index of the first sub-matrix of A processed by the block\n",
    "    int aBegin = WA * BLOCK_SIZE * by;\n",
    "    // Index of the last sub-matrix of A processed by the block\n",
    "    int aEnd   = aBegin + WA - 1;\n",
    "    // Step size used to iterate through the sub-matrices of A\n",
    "    int aStep  = BLOCK_SIZE;\n",
    "    // Index of the first sub-matrix of B processed by the block\n",
    "    int bBegin = BLOCK_SIZE * bx;\n",
    "    // Step size used to iterate through the sub-matrices of B\n",
    "    int bStep  = BLOCK_SIZE * WB;\n",
    "    // Csub is used to store the element of the block sub-matrix\n",
    "    // that is computed by the thread\n",
    "    float Csub = 0.0f;\n",
    "    // Loop over all the sub-matrices of A and B\n",
    "    // required to compute the block sub-matrix\n",
    "    for (int a = aBegin, b = bBegin;\n",
    "             a <= aEnd;\n",
    "             a += aStep, b += bStep) {\n",
    "        // Load the matrices from device memory\n",
    "        // to shared memory; each thread loads\n",
    "        // one element of each matrix\n",
    "        AS(ty, tx) = A[a + WA * ty + tx];\n",
    "        BS(ty, tx) = B[b + WB * ty + tx];\n",
    "        // Synchronize to make sure the matrices are loaded\n",
    "        barrier(CLK_LOCAL_MEM_FENCE);\n",
    "        // Multiply the two matrices together;\n",
    "        // each thread computes one element\n",
    "        // of the block sub-matrix\n",
    "        for (int k = 0; k < BLOCK_SIZE; ++k)\n",
    "            Csub += AS(ty, k) * BS(k, tx);\n",
    "        // Synchronize to make sure that the preceding\n",
    "        // computation is done before loading two new\n",
    "        // sub-matrices of A and B in the next iteration\n",
    "        barrier(CLK_LOCAL_MEM_FENCE);\n",
    "    }\n",
    "    // Write the block sub-matrix to device memory;\n",
    "    // each thread writes one element\n",
    "    C[get_global_id(1) * get_global_size(0) + get_global_id(0)] = Csub;\n",
    "}\n",
    "\"\"\"\n"
   ]
  },
  {
   "cell_type": "code",
   "execution_count": null,
   "id": "c1eb509e",
   "metadata": {},
   "outputs": [],
   "source": []
  },
  {
   "cell_type": "code",
   "execution_count": null,
   "id": "9a61206e",
   "metadata": {},
   "outputs": [],
   "source": []
  },
  {
   "cell_type": "code",
   "execution_count": 448,
   "id": "77b4a04e",
   "metadata": {},
   "outputs": [],
   "source": [
    "a2 = np.random.rand(4,4)"
   ]
  },
  {
   "cell_type": "code",
   "execution_count": 449,
   "id": "a0521855",
   "metadata": {},
   "outputs": [
    {
     "data": {
      "text/plain": [
       "array([[0.19795601, 0.05292882, 0.43989334, 0.1150279 ],\n",
       "       [0.44728966, 0.16383854, 0.63395522, 0.85326287],\n",
       "       [0.50154382, 0.29188574, 0.42603948, 0.3408554 ],\n",
       "       [0.27129721, 0.27592893, 0.81850571, 0.12830064]])"
      ]
     },
     "execution_count": 449,
     "metadata": {},
     "output_type": "execute_result"
    }
   ],
   "source": [
    "a2"
   ]
  },
  {
   "cell_type": "code",
   "execution_count": 450,
   "id": "455a9049",
   "metadata": {},
   "outputs": [
    {
     "data": {
      "text/plain": [
       "array([0.80580607, 2.0983463 , 1.56032445, 1.4940325 ])"
      ]
     },
     "execution_count": 450,
     "metadata": {},
     "output_type": "execute_result"
    }
   ],
   "source": [
    "a2.sum(axis=1)"
   ]
  },
  {
   "cell_type": "code",
   "execution_count": 451,
   "id": "5a54a3e3",
   "metadata": {},
   "outputs": [],
   "source": [
    "b2 = np.random.rand(4,4)"
   ]
  },
  {
   "cell_type": "code",
   "execution_count": 452,
   "id": "e231268f",
   "metadata": {},
   "outputs": [
    {
     "data": {
      "text/plain": [
       "array([[0.08568472, 0.12980955, 0.30394046, 0.36267546],\n",
       "       [0.03442971, 0.921941  , 0.47491669, 0.46738538],\n",
       "       [0.04905791, 0.6028401 , 0.39008585, 0.68239085],\n",
       "       [0.43891714, 0.53169592, 0.31297645, 0.32155413]])"
      ]
     },
     "execution_count": 452,
     "metadata": {},
     "output_type": "execute_result"
    }
   ],
   "source": [
    "b2"
   ]
  },
  {
   "cell_type": "code",
   "execution_count": 453,
   "id": "625b7a07",
   "metadata": {},
   "outputs": [
    {
     "data": {
      "text/plain": [
       "array([0.60808948, 2.18628657, 1.48191944, 1.83400583])"
      ]
     },
     "execution_count": 453,
     "metadata": {},
     "output_type": "execute_result"
    }
   ],
   "source": [
    "b2.sum(axis=0)"
   ]
  },
  {
   "cell_type": "code",
   "execution_count": 454,
   "id": "5191e569",
   "metadata": {},
   "outputs": [
    {
     "data": {
      "text/plain": [
       "array([[0.09085209, 0.40083904, 0.29290081, 0.43369883],\n",
       "       [0.44957902, 1.04496195, 0.72810723, 0.94577217],\n",
       "       [0.22353207, 0.77227172, 0.56393256, 0.71864967],\n",
       "       [0.12921371, 0.85125216, 0.57294403, 0.8271544 ]])"
      ]
     },
     "execution_count": 454,
     "metadata": {},
     "output_type": "execute_result"
    }
   ],
   "source": [
    "matmul = a2.dot(b2)\n",
    "matmul"
   ]
  },
  {
   "cell_type": "code",
   "execution_count": null,
   "id": "b3a24c19",
   "metadata": {},
   "outputs": [],
   "source": []
  },
  {
   "cell_type": "code",
   "execution_count": null,
   "id": "6519eb75",
   "metadata": {},
   "outputs": [],
   "source": []
  },
  {
   "cell_type": "code",
   "execution_count": null,
   "id": "16d754cb",
   "metadata": {},
   "outputs": [],
   "source": []
  },
  {
   "cell_type": "code",
   "execution_count": null,
   "id": "c91d5425",
   "metadata": {},
   "outputs": [],
   "source": []
  },
  {
   "cell_type": "code",
   "execution_count": null,
   "id": "d9f4a6f0",
   "metadata": {},
   "outputs": [],
   "source": []
  },
  {
   "cell_type": "code",
   "execution_count": null,
   "id": "9f708713",
   "metadata": {},
   "outputs": [],
   "source": []
  },
  {
   "cell_type": "code",
   "execution_count": null,
   "id": "e59475d1",
   "metadata": {},
   "outputs": [],
   "source": []
  },
  {
   "cell_type": "code",
   "execution_count": null,
   "id": "3dd6c3a3",
   "metadata": {},
   "outputs": [],
   "source": []
  },
  {
   "cell_type": "code",
   "execution_count": null,
   "id": "7e83b426",
   "metadata": {},
   "outputs": [],
   "source": []
  },
  {
   "cell_type": "code",
   "execution_count": null,
   "id": "af6af470",
   "metadata": {},
   "outputs": [],
   "source": []
  },
  {
   "cell_type": "code",
   "execution_count": null,
   "id": "e2b3a039",
   "metadata": {},
   "outputs": [],
   "source": []
  },
  {
   "cell_type": "code",
   "execution_count": null,
   "id": "2da19095",
   "metadata": {},
   "outputs": [],
   "source": []
  }
 ],
 "metadata": {
  "kernelspec": {
   "display_name": "Python 3",
   "language": "python",
   "name": "python3"
  },
  "language_info": {
   "codemirror_mode": {
    "name": "ipython",
    "version": 3
   },
   "file_extension": ".py",
   "mimetype": "text/x-python",
   "name": "python",
   "nbconvert_exporter": "python",
   "pygments_lexer": "ipython3",
   "version": "3.8.12"
  }
 },
 "nbformat": 4,
 "nbformat_minor": 5
}
