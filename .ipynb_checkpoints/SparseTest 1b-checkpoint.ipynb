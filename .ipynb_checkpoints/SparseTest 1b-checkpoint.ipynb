{
 "cells": [
  {
   "cell_type": "code",
   "execution_count": 1,
   "id": "4309590e",
   "metadata": {},
   "outputs": [
    {
     "name": "stdout",
     "output_type": "stream",
     "text": [
      "DEVICE:GPU\n"
     ]
    }
   ],
   "source": [
    "from tinygrad.densetensor import DenseTensor\n",
    "from tinygrad.sparsetensor import SparseTensor\n",
    "import numpy as np\n",
    "\n",
    "%load_ext autoreload\n",
    "%autoreload 2"
   ]
  },
  {
   "cell_type": "code",
   "execution_count": 2,
   "id": "4cb532fa",
   "metadata": {},
   "outputs": [],
   "source": [
    "x_init = np.random.randn(2,6).astype(np.float32)\n",
    "x2_init = np.random.randn(3).astype(np.float32)\n",
    "U_init = np.random.randn(3,3).astype(np.float32)\n",
    "V_init = np.random.randn(3,3).astype(np.float32)\n",
    "W_init = np.random.randn(6,3).astype(np.float32)\n",
    "m_init = np.random.randn(1,3).astype(np.float32)"
   ]
  },
  {
   "cell_type": "markdown",
   "id": "b051fb88",
   "metadata": {},
   "source": [
    "x = DenseTensor(x_init)\n",
    "W = DenseTensor(W_init)\n",
    "m = DenseTensor(m_init)\n",
    "out = x.dot(W).relu()\n",
    "out = out.logsoftmax()\n",
    "out = out.mul(m).add(m).sum()\n",
    "out.backward()\n",
    "\n",
    "out.cpu().data, x"
   ]
  },
  {
   "cell_type": "markdown",
   "id": "62d0edbe",
   "metadata": {
    "scrolled": true
   },
   "source": [
    "x2 = DenseTensor(x2_init)#.gpu()\n",
    "W = SparseTensor(W_init)\n",
    "out = W.dot(x2).relu().sum()\n",
    "\n",
    "out.backward()\n",
    "\n",
    "out.cpu().data, x"
   ]
  },
  {
   "cell_type": "code",
   "execution_count": 3,
   "id": "c3d0659d",
   "metadata": {},
   "outputs": [],
   "source": [
    "import numpy as np\n",
    "import pyopencl as cl\n",
    "\n",
    "mf = cl.mem_flags"
   ]
  },
  {
   "cell_type": "code",
   "execution_count": 4,
   "id": "a0cc978b",
   "metadata": {},
   "outputs": [
    {
     "data": {
      "text/plain": [
       "((4, 8), (8, 6))"
      ]
     },
     "execution_count": 4,
     "metadata": {},
     "output_type": "execute_result"
    }
   ],
   "source": [
    "dim1 = 4\n",
    "dim2 = 8\n",
    "dim3 = 6\n",
    "bs = dim3\n",
    "\n",
    "ctx = cl.create_some_context()\n",
    "queue = cl.CommandQueue(ctx,\n",
    "        properties=cl.command_queue_properties.PROFILING_ENABLE)\n",
    "\n",
    "sparsity = 0.4\n",
    "\n",
    "a = np.zeros((dim1,dim2))\n",
    "b = np.zeros((dim2,dim3)).astype(np.float32)\n",
    "\n",
    "a.shape, b.shape"
   ]
  },
  {
   "cell_type": "code",
   "execution_count": 5,
   "id": "7ecf7a2b",
   "metadata": {},
   "outputs": [],
   "source": [
    "def fill_sparse(mat, sparsity=0.1):\n",
    "    indices = np.array(range(mat.shape[1]))\n",
    "    nrows = int(mat.shape[1]*sparsity)\n",
    "    for row in range(mat.shape[0]):\n",
    "        lim = nrows #+ int(np.random.random()*3)\n",
    "        mat[row][np.random.permutation(indices)[:lim]] = np.random.random(lim)\n",
    "    return mat\n",
    "\n",
    "a = fill_sparse(a, sparsity).astype(np.float32)\n",
    "b = fill_sparse(b, sparsity).astype(np.float32)"
   ]
  },
  {
   "cell_type": "code",
   "execution_count": 6,
   "id": "b32f0e9a",
   "metadata": {},
   "outputs": [
    {
     "data": {
      "text/plain": [
       "array([[7.49979988e-02, 0.00000000e+00, 0.00000000e+00, 0.00000000e+00,\n",
       "        0.00000000e+00, 0.00000000e+00, 3.23663443e-01, 1.80248290e-01],\n",
       "       [0.00000000e+00, 7.37177134e-01, 1.67231306e-01, 5.75304449e-01,\n",
       "        0.00000000e+00, 0.00000000e+00, 0.00000000e+00, 0.00000000e+00],\n",
       "       [0.00000000e+00, 0.00000000e+00, 0.00000000e+00, 1.22499995e-01,\n",
       "        3.75247926e-01, 7.99822330e-01, 0.00000000e+00, 0.00000000e+00],\n",
       "       [0.00000000e+00, 4.02378827e-01, 6.48695767e-01, 0.00000000e+00,\n",
       "        5.74029225e-04, 0.00000000e+00, 0.00000000e+00, 0.00000000e+00]],\n",
       "      dtype=float32)"
      ]
     },
     "execution_count": 6,
     "metadata": {},
     "output_type": "execute_result"
    }
   ],
   "source": [
    "a"
   ]
  },
  {
   "cell_type": "code",
   "execution_count": 7,
   "id": "d286d740",
   "metadata": {},
   "outputs": [
    {
     "data": {
      "text/plain": [
       "array([[0.        , 0.04503985, 0.        , 0.        , 0.        ,\n",
       "        0.39591527],\n",
       "       [0.        , 0.13827148, 0.        , 0.        , 0.6585622 ,\n",
       "        0.        ],\n",
       "       [0.        , 0.67893606, 0.10766226, 0.        , 0.        ,\n",
       "        0.        ],\n",
       "       [0.        , 0.        , 0.        , 0.32545754, 0.        ,\n",
       "        0.29937434],\n",
       "       [0.        , 0.665272  , 0.40967163, 0.        , 0.        ,\n",
       "        0.        ],\n",
       "       [0.85070384, 0.        , 0.        , 0.        , 0.3361583 ,\n",
       "        0.        ],\n",
       "       [0.        , 0.        , 0.59939903, 0.        , 0.9370297 ,\n",
       "        0.        ],\n",
       "       [0.        , 0.        , 0.        , 0.38540342, 0.        ,\n",
       "        0.70285636]], dtype=float32)"
      ]
     },
     "execution_count": 7,
     "metadata": {},
     "output_type": "execute_result"
    }
   ],
   "source": [
    "b"
   ]
  },
  {
   "cell_type": "code",
   "execution_count": 8,
   "id": "45c14776",
   "metadata": {},
   "outputs": [
    {
     "data": {
      "text/plain": [
       "array([-1.3951458 , -1.2924194 , -0.76358783], dtype=float32)"
      ]
     },
     "execution_count": 8,
     "metadata": {},
     "output_type": "execute_result"
    }
   ],
   "source": [
    "x2_init.T"
   ]
  },
  {
   "cell_type": "code",
   "execution_count": 9,
   "id": "6b2b88a2",
   "metadata": {},
   "outputs": [
    {
     "data": {
      "text/plain": [
       "(4, 6)"
      ]
     },
     "execution_count": 9,
     "metadata": {},
     "output_type": "execute_result"
    }
   ],
   "source": [
    "mult = a.dot(b)\n",
    "mult.shape"
   ]
  },
  {
   "cell_type": "code",
   "execution_count": 10,
   "id": "d33049e0",
   "metadata": {},
   "outputs": [
    {
     "data": {
      "text/plain": [
       "(4, 6)"
      ]
     },
     "execution_count": 10,
     "metadata": {},
     "output_type": "execute_result"
    }
   ],
   "source": [
    "mult.shape"
   ]
  },
  {
   "cell_type": "code",
   "execution_count": 11,
   "id": "67872651",
   "metadata": {},
   "outputs": [],
   "source": [
    "def to_data(mat):\n",
    "    all_rows = []\n",
    "    all_idxs = []\n",
    "    all_nnzs = []\n",
    "    for row in range(mat.shape[0]):\n",
    "        rowdata = []\n",
    "        colidxs = []\n",
    "        all_nnzs.append(0)\n",
    "        for col in range(mat.shape[1]):\n",
    "            val = mat[row][col]\n",
    "            if val != 0:\n",
    "                rowdata.append(val)\n",
    "                colidxs.append(col)\n",
    "                all_nnzs[-1] += 1\n",
    "        all_rows.append(rowdata)\n",
    "        all_idxs.append(colidxs)\n",
    "    \n",
    "    ellwidth = min(int(np.sqrt(np.max(all_nnzs))+1)**2, mat.shape[1])\n",
    "    #all_rows = np.array(all_rows)#.astype(np.float32).flatten()           \n",
    "    for row in range(mat.shape[0]):\n",
    "        #print(row, all_rows)\n",
    "        all_rows[row] = np.array(all_rows[row])\n",
    "        all_rows[row].resize(ellwidth)\n",
    "        all_idxs[row] = np.array(all_idxs[row])\n",
    "        all_idxs[row].resize(ellwidth)\n",
    "        #print(all_idxs[row])\n",
    "    all_rows = np.array(all_rows)\n",
    "    all_idxs = np.array(all_idxs)\n",
    "    all_nnzs = np.array(all_nnzs)\n",
    "    \n",
    "#     while (not all_rows[:,-1].any()):\n",
    "#         all_rows = all_rows[:,:-1]\n",
    "#         all_idxs = all_idxs[:,:-1]\n",
    "#         ellwidth -= 1\n",
    "        \n",
    "    \n",
    "    all_rows = np.array(all_rows).astype(np.float32).flatten()\n",
    "    all_idxs = np.array(all_idxs).astype(np.uint32).flatten()\n",
    "    \n",
    "    all_nnzs = np.array(all_nnzs).astype(np.uint32)\n",
    "    \n",
    "    \n",
    "    return all_rows, all_idxs, all_nnzs, ellwidth"
   ]
  },
  {
   "cell_type": "code",
   "execution_count": 12,
   "id": "3cc9dd5d",
   "metadata": {},
   "outputs": [],
   "source": [
    "def to_dense(data, cols, nnzs, ellw, shape):\n",
    "    out = np.zeros(shape)\n",
    "    for row in range(shape[0]):\n",
    "        for icol in range(nnzs[row]):\n",
    "            out[row,cols[row*ellw+icol]] = data[row*ellw+icol]\n",
    "    return out"
   ]
  },
  {
   "cell_type": "code",
   "execution_count": 13,
   "id": "5c9c6134",
   "metadata": {},
   "outputs": [
    {
     "data": {
      "text/plain": [
       "(array([7.49979988e-02, 3.23663443e-01, 1.80248290e-01, 0.00000000e+00,\n",
       "        7.37177134e-01, 1.67231306e-01, 5.75304449e-01, 0.00000000e+00,\n",
       "        1.22499995e-01, 3.75247926e-01, 7.99822330e-01, 0.00000000e+00,\n",
       "        4.02378827e-01, 6.48695767e-01, 5.74029225e-04, 0.00000000e+00],\n",
       "       dtype=float32),\n",
       " array([0, 6, 7, 0, 1, 2, 3, 0, 3, 4, 5, 0, 1, 2, 4, 0], dtype=uint32),\n",
       " array([3, 3, 3, 3], dtype=uint32),\n",
       " 4)"
      ]
     },
     "execution_count": 13,
     "metadata": {},
     "output_type": "execute_result"
    }
   ],
   "source": [
    "adata, acols, annz, ellwa = to_data(a)\n",
    "adata, acols, annz, ellwa"
   ]
  },
  {
   "cell_type": "code",
   "execution_count": 14,
   "id": "333f732b",
   "metadata": {},
   "outputs": [
    {
     "data": {
      "text/plain": [
       "(array([7.49979988e-02, 0.00000000e+00, 0.00000000e+00, 0.00000000e+00,\n",
       "        7.37177134e-01, 4.02378827e-01, 0.00000000e+00, 0.00000000e+00,\n",
       "        1.67231306e-01, 6.48695767e-01, 0.00000000e+00, 0.00000000e+00,\n",
       "        5.75304449e-01, 1.22499995e-01, 0.00000000e+00, 0.00000000e+00,\n",
       "        3.75247926e-01, 5.74029225e-04, 0.00000000e+00, 0.00000000e+00,\n",
       "        7.99822330e-01, 0.00000000e+00, 0.00000000e+00, 0.00000000e+00,\n",
       "        3.23663443e-01, 0.00000000e+00, 0.00000000e+00, 0.00000000e+00,\n",
       "        1.80248290e-01, 0.00000000e+00, 0.00000000e+00, 0.00000000e+00],\n",
       "       dtype=float32),\n",
       " array([0, 0, 0, 0, 1, 3, 0, 0, 1, 3, 0, 0, 1, 2, 0, 0, 2, 3, 0, 0, 2, 0,\n",
       "        0, 0, 0, 0, 0, 0, 0, 0, 0, 0], dtype=uint32),\n",
       " array([1, 2, 2, 2, 2, 1, 1, 1], dtype=uint32),\n",
       " 4)"
      ]
     },
     "execution_count": 14,
     "metadata": {},
     "output_type": "execute_result"
    }
   ],
   "source": [
    "adatat, acolst, annzt, ellwat = to_data(a.T)\n",
    "adatat, acolst, annzt, ellwat"
   ]
  },
  {
   "cell_type": "code",
   "execution_count": 15,
   "id": "3746b3f8",
   "metadata": {},
   "outputs": [
    {
     "data": {
      "text/plain": [
       "(array([0.04503985, 0.39591527, 0.        , 0.        , 0.13827148,\n",
       "        0.6585622 , 0.        , 0.        , 0.67893606, 0.10766226,\n",
       "        0.        , 0.        , 0.32545754, 0.29937434, 0.        ,\n",
       "        0.        , 0.665272  , 0.40967163, 0.        , 0.        ,\n",
       "        0.85070384, 0.3361583 , 0.        , 0.        , 0.59939903,\n",
       "        0.9370297 , 0.        , 0.        , 0.38540342, 0.70285636,\n",
       "        0.        , 0.        ], dtype=float32),\n",
       " array([1, 5, 0, 0, 1, 4, 0, 0, 1, 2, 0, 0, 3, 5, 0, 0, 1, 2, 0, 0, 0, 4,\n",
       "        0, 0, 2, 4, 0, 0, 3, 5, 0, 0], dtype=uint32),\n",
       " array([2, 2, 2, 2, 2, 2, 2, 2], dtype=uint32),\n",
       " 4)"
      ]
     },
     "execution_count": 15,
     "metadata": {},
     "output_type": "execute_result"
    }
   ],
   "source": [
    "bdata, bcols, bnnz, ellwb = to_data(b)\n",
    "bdata, bcols, bnnz, ellwb"
   ]
  },
  {
   "cell_type": "code",
   "execution_count": 16,
   "id": "2456f0d7",
   "metadata": {},
   "outputs": [
    {
     "data": {
      "text/plain": [
       "(array([7.49979988e-02, 0.00000000e+00, 0.00000000e+00, 0.00000000e+00,\n",
       "        7.37177134e-01, 4.02378827e-01, 0.00000000e+00, 0.00000000e+00,\n",
       "        1.67231306e-01, 6.48695767e-01, 0.00000000e+00, 0.00000000e+00,\n",
       "        5.75304449e-01, 1.22499995e-01, 0.00000000e+00, 0.00000000e+00,\n",
       "        3.75247926e-01, 5.74029225e-04, 0.00000000e+00, 0.00000000e+00,\n",
       "        7.99822330e-01, 0.00000000e+00, 0.00000000e+00, 0.00000000e+00,\n",
       "        3.23663443e-01, 0.00000000e+00, 0.00000000e+00, 0.00000000e+00,\n",
       "        1.80248290e-01, 0.00000000e+00, 0.00000000e+00, 0.00000000e+00],\n",
       "       dtype=float32),\n",
       " array([5, 0, 0, 0, 0, 0, 0, 0, 0, 1, 2, 4, 0, 0, 0, 0, 2, 4, 6, 0, 0, 0,\n",
       "        0, 0, 3, 7, 0, 0, 0, 0, 0, 0, 1, 5, 6, 0, 0, 0, 0, 0, 0, 3, 7, 0,\n",
       "        0, 0, 0, 0], dtype=uint32),\n",
       " array([1, 4, 3, 2, 3, 3], dtype=uint32),\n",
       " 8)"
      ]
     },
     "execution_count": 16,
     "metadata": {},
     "output_type": "execute_result"
    }
   ],
   "source": [
    "bdatat, bcolst, bnnzt, ellwbt = to_data(b.T)\n",
    "adatat, bcolst, bnnzt, ellwbt"
   ]
  },
  {
   "cell_type": "code",
   "execution_count": 17,
   "id": "a21f8921",
   "metadata": {},
   "outputs": [],
   "source": [
    "adense = to_dense(adata, acols, annz, ellwa, a.shape)"
   ]
  },
  {
   "cell_type": "code",
   "execution_count": 18,
   "id": "afddd45e",
   "metadata": {},
   "outputs": [],
   "source": [
    "adenset = to_dense(adatat, acolst, annzt, ellwat, a.T.shape)"
   ]
  },
  {
   "cell_type": "code",
   "execution_count": 19,
   "id": "265ef0d4",
   "metadata": {},
   "outputs": [],
   "source": [
    "bdense = to_dense(bdata, bcols, bnnz, ellwb, b.shape)"
   ]
  },
  {
   "cell_type": "code",
   "execution_count": 20,
   "id": "409da6b5",
   "metadata": {},
   "outputs": [],
   "source": [
    "bdenset = to_dense(bdatat, bcolst, bnnzt, ellwbt, b.T.shape)"
   ]
  },
  {
   "cell_type": "code",
   "execution_count": 21,
   "id": "1c04d184",
   "metadata": {},
   "outputs": [
    {
     "data": {
      "text/plain": [
       "array([[7.49979988e-02, 0.00000000e+00, 0.00000000e+00, 0.00000000e+00,\n",
       "        0.00000000e+00, 0.00000000e+00, 3.23663443e-01, 1.80248290e-01],\n",
       "       [0.00000000e+00, 7.37177134e-01, 1.67231306e-01, 5.75304449e-01,\n",
       "        0.00000000e+00, 0.00000000e+00, 0.00000000e+00, 0.00000000e+00],\n",
       "       [0.00000000e+00, 0.00000000e+00, 0.00000000e+00, 1.22499995e-01,\n",
       "        3.75247926e-01, 7.99822330e-01, 0.00000000e+00, 0.00000000e+00],\n",
       "       [0.00000000e+00, 4.02378827e-01, 6.48695767e-01, 0.00000000e+00,\n",
       "        5.74029225e-04, 0.00000000e+00, 0.00000000e+00, 0.00000000e+00]])"
      ]
     },
     "execution_count": 21,
     "metadata": {},
     "output_type": "execute_result"
    }
   ],
   "source": [
    "adense"
   ]
  },
  {
   "cell_type": "code",
   "execution_count": 22,
   "id": "cae2f665",
   "metadata": {},
   "outputs": [
    {
     "data": {
      "text/plain": [
       "array([[ True,  True,  True,  True,  True,  True,  True,  True],\n",
       "       [ True,  True,  True,  True,  True,  True,  True,  True],\n",
       "       [ True,  True,  True,  True,  True,  True,  True,  True],\n",
       "       [ True,  True,  True,  True,  True,  True,  True,  True]])"
      ]
     },
     "execution_count": 22,
     "metadata": {},
     "output_type": "execute_result"
    }
   ],
   "source": [
    "adenset.T == adense"
   ]
  },
  {
   "cell_type": "code",
   "execution_count": 23,
   "id": "9f2ada6f",
   "metadata": {},
   "outputs": [
    {
     "data": {
      "text/plain": [
       "array([[ True,  True,  True,  True,  True,  True],\n",
       "       [ True,  True,  True,  True,  True,  True],\n",
       "       [ True,  True,  True,  True,  True,  True],\n",
       "       [ True,  True,  True,  True,  True,  True],\n",
       "       [ True,  True,  True,  True,  True,  True],\n",
       "       [ True,  True,  True,  True,  True,  True],\n",
       "       [ True,  True,  True,  True,  True,  True],\n",
       "       [ True,  True,  True,  True,  True,  True]])"
      ]
     },
     "execution_count": 23,
     "metadata": {},
     "output_type": "execute_result"
    }
   ],
   "source": [
    "bdenset.T == bdense"
   ]
  },
  {
   "cell_type": "code",
   "execution_count": 24,
   "id": "570652a8",
   "metadata": {},
   "outputs": [
    {
     "data": {
      "text/plain": [
       "array([[7.49979988e-02, 0.00000000e+00, 0.00000000e+00, 0.00000000e+00,\n",
       "        0.00000000e+00, 0.00000000e+00, 3.23663443e-01, 1.80248290e-01],\n",
       "       [0.00000000e+00, 7.37177134e-01, 1.67231306e-01, 5.75304449e-01,\n",
       "        0.00000000e+00, 0.00000000e+00, 0.00000000e+00, 0.00000000e+00],\n",
       "       [0.00000000e+00, 0.00000000e+00, 0.00000000e+00, 1.22499995e-01,\n",
       "        3.75247926e-01, 7.99822330e-01, 0.00000000e+00, 0.00000000e+00],\n",
       "       [0.00000000e+00, 4.02378827e-01, 6.48695767e-01, 0.00000000e+00,\n",
       "        5.74029225e-04, 0.00000000e+00, 0.00000000e+00, 0.00000000e+00]],\n",
       "      dtype=float32)"
      ]
     },
     "execution_count": 24,
     "metadata": {},
     "output_type": "execute_result"
    }
   ],
   "source": [
    "a"
   ]
  },
  {
   "cell_type": "code",
   "execution_count": 25,
   "id": "b3828f92",
   "metadata": {},
   "outputs": [
    {
     "data": {
      "text/plain": [
       "array([[ True,  True,  True,  True,  True,  True,  True,  True],\n",
       "       [ True,  True,  True,  True,  True,  True,  True,  True],\n",
       "       [ True,  True,  True,  True,  True,  True,  True,  True],\n",
       "       [ True,  True,  True,  True,  True,  True,  True,  True]])"
      ]
     },
     "execution_count": 25,
     "metadata": {},
     "output_type": "execute_result"
    }
   ],
   "source": [
    "a == adense"
   ]
  },
  {
   "cell_type": "code",
   "execution_count": 26,
   "id": "d8e29e3c",
   "metadata": {},
   "outputs": [
    {
     "data": {
      "text/plain": [
       "(4, 8)"
      ]
     },
     "execution_count": 26,
     "metadata": {},
     "output_type": "execute_result"
    }
   ],
   "source": [
    "a.shape"
   ]
  },
  {
   "cell_type": "code",
   "execution_count": 27,
   "id": "233fb7fe",
   "metadata": {},
   "outputs": [
    {
     "data": {
      "text/plain": [
       "((16,), (16,), (4,), 4)"
      ]
     },
     "execution_count": 27,
     "metadata": {},
     "output_type": "execute_result"
    }
   ],
   "source": [
    "adata.shape, acols.shape, annz.shape, ellwa"
   ]
  },
  {
   "cell_type": "code",
   "execution_count": 28,
   "id": "fbb29574",
   "metadata": {},
   "outputs": [],
   "source": [
    "#acols = acols.astype(np.uint32)\n",
    "#annz = annz.astype(np.uint32)"
   ]
  },
  {
   "cell_type": "code",
   "execution_count": 29,
   "id": "008c1a26",
   "metadata": {},
   "outputs": [
    {
     "data": {
      "text/plain": [
       "(array([7.49979988e-02, 3.23663443e-01, 1.80248290e-01, 0.00000000e+00,\n",
       "        7.37177134e-01, 1.67231306e-01, 5.75304449e-01, 0.00000000e+00,\n",
       "        1.22499995e-01, 3.75247926e-01, 7.99822330e-01, 0.00000000e+00,\n",
       "        4.02378827e-01, 6.48695767e-01, 5.74029225e-04, 0.00000000e+00],\n",
       "       dtype=float32),\n",
       " array([0, 6, 7, 0, 1, 2, 3, 0, 3, 4, 5, 0, 1, 2, 4, 0], dtype=uint32),\n",
       " array([3, 3, 3, 3], dtype=uint32),\n",
       " array([[0.        , 0.04503985, 0.        , 0.        , 0.        ,\n",
       "         0.39591527],\n",
       "        [0.        , 0.13827148, 0.        , 0.        , 0.6585622 ,\n",
       "         0.        ],\n",
       "        [0.        , 0.67893606, 0.10766226, 0.        , 0.        ,\n",
       "         0.        ],\n",
       "        [0.        , 0.        , 0.        , 0.32545754, 0.        ,\n",
       "         0.29937434],\n",
       "        [0.        , 0.665272  , 0.40967163, 0.        , 0.        ,\n",
       "         0.        ],\n",
       "        [0.85070384, 0.        , 0.        , 0.        , 0.3361583 ,\n",
       "         0.        ],\n",
       "        [0.        , 0.        , 0.59939903, 0.        , 0.9370297 ,\n",
       "         0.        ],\n",
       "        [0.        , 0.        , 0.        , 0.38540342, 0.        ,\n",
       "         0.70285636]], dtype=float32))"
      ]
     },
     "execution_count": 29,
     "metadata": {},
     "output_type": "execute_result"
    }
   ],
   "source": [
    "adata, acols, annz, b"
   ]
  },
  {
   "cell_type": "markdown",
   "id": "0c247b79",
   "metadata": {},
   "source": [
    "## MatMul (Sparse-Dense)"
   ]
  },
  {
   "cell_type": "markdown",
   "id": "aad78213",
   "metadata": {},
   "source": [
    "adata_buf = cl.Buffer(ctx, mf.READ_WRITE | mf.COPY_HOST_PTR, hostbuf=adata)\n",
    "acols_buf = cl.Buffer(ctx, mf.READ_WRITE | mf.COPY_HOST_PTR, hostbuf=acols)\n",
    "annzs_buf = cl.Buffer(ctx, mf.READ_WRITE | mf.COPY_HOST_PTR, hostbuf=annz)\n",
    "adatat_buf = cl.Buffer(ctx, mf.READ_WRITE | mf.COPY_HOST_PTR, hostbuf=adatat)\n",
    "acolst_buf = cl.Buffer(ctx, mf.READ_WRITE | mf.COPY_HOST_PTR, hostbuf=acolst)\n",
    "annzst_buf = cl.Buffer(ctx, mf.READ_WRITE | mf.COPY_HOST_PTR, hostbuf=annzt)\n",
    "b_buf = cl.Buffer(ctx, mf.READ_WRITE | mf.COPY_HOST_PTR, hostbuf=b)\n",
    "\n",
    "prg = cl.Program(ctx, \"\"\"\n",
    "    // SPARSE x DENSE\n",
    "    __kernel void matmul2(__global  float* matData,     // INPUT MATRIX DATA\n",
    "                            __global  uint*  colIdx,\n",
    "                            __global  uint*  rowNnz,\n",
    "                            uint   ellwidth,\n",
    "                            uint ncols,\n",
    "                            __global  float* vector_x,    // INPUT\n",
    "                            __global  float* vector_y    // OUTPUT\n",
    "                            ) { // LOCAL SHARED BUFFER\n",
    "      uint gid = get_global_id(0);\n",
    "      uint nrows = get_global_size(0);\n",
    "      \n",
    "\n",
    "      uint nnz    = rowNnz[gid];\n",
    "      float sum = 0;\n",
    "      for (uint gid2 = 0; gid2 < ncols; gid2++) {\n",
    "        for (uint i = 0; i < nnz; i++) {\n",
    "          uint index   = (gid * ellwidth) + i;\n",
    "          uint col     = colIdx[index];\n",
    "          float aval  = matData[index];\n",
    "          float xval  = vector_x[col*ncols+gid2];\n",
    "          //if (gid==0 && gid2==2)\n",
    "          //  printf(\"aval, xval: %.2f,%.2f: (%i,%i) \\\\n\", aval, xval, col, index);\n",
    "          sum  += aval * xval;\n",
    "        }\n",
    "        //printf(\"SUM/NNZ: %.2f %i \\\\n\", sum, nnz);\n",
    "        vector_y[gid*ncols+gid2] = sum;\n",
    "      }\n",
    "    }\"\"\").build()"
   ]
  },
  {
   "cell_type": "code",
   "execution_count": 30,
   "id": "fb0ca1f4",
   "metadata": {},
   "outputs": [],
   "source": [
    "adata_buf = cl.Buffer(ctx, mf.READ_WRITE | mf.COPY_HOST_PTR, hostbuf=adata)\n",
    "acols_buf = cl.Buffer(ctx, mf.READ_WRITE | mf.COPY_HOST_PTR, hostbuf=acols)\n",
    "annzs_buf = cl.Buffer(ctx, mf.READ_WRITE | mf.COPY_HOST_PTR, hostbuf=annz)\n",
    "adatat_buf = cl.Buffer(ctx, mf.READ_WRITE | mf.COPY_HOST_PTR, hostbuf=adatat)\n",
    "acolst_buf = cl.Buffer(ctx, mf.READ_WRITE | mf.COPY_HOST_PTR, hostbuf=acolst)\n",
    "annzst_buf = cl.Buffer(ctx, mf.READ_WRITE | mf.COPY_HOST_PTR, hostbuf=annzt)\n",
    "b_buf = cl.Buffer(ctx, mf.READ_WRITE | mf.COPY_HOST_PTR, hostbuf=b)\n",
    "\n",
    "prg = cl.Program(ctx, \"\"\"\n",
    "    // SPARSE x DENSE\n",
    "    __kernel void matmul2(__global  float* matData,     // INPUT MATRIX DATA\n",
    "                            __global  uint*  colIdx,\n",
    "                            __global  uint*  rowNnz,\n",
    "                            uint   ellwidth,\n",
    "                            uint ncols,\n",
    "                            __global  float* vector_x,    // INPUT\n",
    "                            __global  float* vector_y    // OUTPUT\n",
    "                            ) { // LOCAL SHARED BUFFER\n",
    "      uint gid = get_global_id(0);\n",
    "      uint nrows = get_global_size(0);\n",
    "      \n",
    "\n",
    "      uint nnz    = rowNnz[gid];\n",
    "      \n",
    "      for (uint gid2 = 0; gid2 < ncols; gid2++) {\n",
    "        float sum = 0;\n",
    "        for (uint i = 0; i < nnz; i++) {\n",
    "          uint index   = (gid * ellwidth) + i;\n",
    "          uint col     = colIdx[index];\n",
    "          float aval  = matData[index];\n",
    "          uint xidx = col*ncols+gid2;\n",
    "          float xval  = vector_x[xidx];\n",
    "          if (gid==0 && gid2==1)\n",
    "            printf(\"aval, xval: %.2f,%.2f: (%i,%i) - %i \\\\n\", aval, xval, col, index, xidx);\n",
    "          sum  += aval * xval;\n",
    "        }\n",
    "        //printf(\"SUM/NNZ: %.2f %i \\\\n\", sum, nnz);\n",
    "        vector_y[gid*ncols+gid2] = sum;\n",
    "      }\n",
    "    }\"\"\").build()"
   ]
  },
  {
   "cell_type": "code",
   "execution_count": 31,
   "id": "b4c85bcb",
   "metadata": {},
   "outputs": [
    {
     "data": {
      "text/plain": [
       "((4, 8), (8, 6))"
      ]
     },
     "execution_count": 31,
     "metadata": {},
     "output_type": "execute_result"
    }
   ],
   "source": [
    "a.shape, b.shape"
   ]
  },
  {
   "cell_type": "code",
   "execution_count": 32,
   "id": "c740a4fe",
   "metadata": {},
   "outputs": [],
   "source": [
    "res = np.zeros(a.shape[0]).astype(np.float32)\n",
    "#res"
   ]
  },
  {
   "cell_type": "code",
   "execution_count": 33,
   "id": "07aa4d30",
   "metadata": {},
   "outputs": [],
   "source": [
    "rows = a.shape[0]"
   ]
  },
  {
   "cell_type": "code",
   "execution_count": 34,
   "id": "98da857f",
   "metadata": {},
   "outputs": [],
   "source": [
    "mult = mult.astype(np.float32)"
   ]
  },
  {
   "cell_type": "code",
   "execution_count": 35,
   "id": "350bdb16",
   "metadata": {},
   "outputs": [
    {
     "data": {
      "text/plain": [
       "(4, 6)"
      ]
     },
     "execution_count": 35,
     "metadata": {},
     "output_type": "execute_result"
    }
   ],
   "source": [
    "outshape = (a.shape[0], b.shape[1])\n",
    "outshape"
   ]
  },
  {
   "cell_type": "code",
   "execution_count": 36,
   "id": "cc7365fc",
   "metadata": {},
   "outputs": [
    {
     "name": "stdout",
     "output_type": "stream",
     "text": [
      "aval, xval: 0.07,0.05: (0,0) - 1 \n",
      "aval, xval: 0.32,0.00: (6,1) - 37 \n",
      "aval, xval: 0.18,0.00: (7,2) - 43 \n"
     ]
    },
    {
     "data": {
      "text/plain": [
       "<pyopencl._cl.NannyEvent at 0x7fe8501369a0>"
      ]
     },
     "execution_count": 36,
     "metadata": {},
     "output_type": "execute_result"
    }
   ],
   "source": [
    "res_buf = cl.Buffer(ctx, mf.READ_WRITE, np.prod(outshape)*4)\n",
    "knl = prg.matmul2  # Use this Kernel object for repeated calls\n",
    "knl(queue, [outshape[0]], None, adata_buf, acols_buf, annzs_buf, np.uint32(ellwa), np.uint32(outshape[1]), b_buf, res_buf)\n",
    "\n",
    "res_np = np.zeros(outshape).astype(np.float32)\n",
    "cl.enqueue_copy(queue, res_np, res_buf)"
   ]
  },
  {
   "cell_type": "code",
   "execution_count": 37,
   "id": "e2181f67",
   "metadata": {},
   "outputs": [
    {
     "data": {
      "text/plain": [
       "0.0"
      ]
     },
     "execution_count": 37,
     "metadata": {},
     "output_type": "execute_result"
    }
   ],
   "source": [
    "(res_np-mult).sum()"
   ]
  },
  {
   "cell_type": "code",
   "execution_count": 38,
   "id": "79390719",
   "metadata": {},
   "outputs": [
    {
     "data": {
      "text/plain": [
       "array([[7.49979988e-02, 0.00000000e+00, 0.00000000e+00, 0.00000000e+00,\n",
       "        0.00000000e+00, 0.00000000e+00, 3.23663443e-01, 1.80248290e-01],\n",
       "       [0.00000000e+00, 7.37177134e-01, 1.67231306e-01, 5.75304449e-01,\n",
       "        0.00000000e+00, 0.00000000e+00, 0.00000000e+00, 0.00000000e+00],\n",
       "       [0.00000000e+00, 0.00000000e+00, 0.00000000e+00, 1.22499995e-01,\n",
       "        3.75247926e-01, 7.99822330e-01, 0.00000000e+00, 0.00000000e+00],\n",
       "       [0.00000000e+00, 4.02378827e-01, 6.48695767e-01, 0.00000000e+00,\n",
       "        5.74029225e-04, 0.00000000e+00, 0.00000000e+00, 0.00000000e+00]],\n",
       "      dtype=float32)"
      ]
     },
     "execution_count": 38,
     "metadata": {},
     "output_type": "execute_result"
    }
   ],
   "source": [
    "a"
   ]
  },
  {
   "cell_type": "code",
   "execution_count": 39,
   "id": "a53bcc0b",
   "metadata": {},
   "outputs": [
    {
     "data": {
      "text/plain": [
       "array([[0.        , 0.04503985, 0.        , 0.        , 0.        ,\n",
       "        0.39591527],\n",
       "       [0.        , 0.13827148, 0.        , 0.        , 0.6585622 ,\n",
       "        0.        ],\n",
       "       [0.        , 0.67893606, 0.10766226, 0.        , 0.        ,\n",
       "        0.        ],\n",
       "       [0.        , 0.        , 0.        , 0.32545754, 0.        ,\n",
       "        0.29937434],\n",
       "       [0.        , 0.665272  , 0.40967163, 0.        , 0.        ,\n",
       "        0.        ],\n",
       "       [0.85070384, 0.        , 0.        , 0.        , 0.3361583 ,\n",
       "        0.        ],\n",
       "       [0.        , 0.        , 0.59939903, 0.        , 0.9370297 ,\n",
       "        0.        ],\n",
       "       [0.        , 0.        , 0.        , 0.38540342, 0.        ,\n",
       "        0.70285636]], dtype=float32)"
      ]
     },
     "execution_count": 39,
     "metadata": {},
     "output_type": "execute_result"
    }
   ],
   "source": [
    "b"
   ]
  },
  {
   "cell_type": "code",
   "execution_count": 40,
   "id": "33d8a584",
   "metadata": {},
   "outputs": [
    {
     "data": {
      "text/plain": [
       "<pyopencl._cl.Buffer at 0x7fe850137db0>"
      ]
     },
     "execution_count": 40,
     "metadata": {},
     "output_type": "execute_result"
    }
   ],
   "source": [
    "res_buf"
   ]
  },
  {
   "cell_type": "code",
   "execution_count": 41,
   "id": "99faec15",
   "metadata": {},
   "outputs": [
    {
     "data": {
      "text/plain": [
       "array([[0.        , 0.0033779 , 0.19400355, 0.06946831, 0.30328226,\n",
       "        0.15638152],\n",
       "       [0.        , 0.21546994, 0.0180045 , 0.18723717, 0.48547697,\n",
       "        0.17223139],\n",
       "       [0.68041193, 0.24964194, 0.15372843, 0.03986855, 0.26886693,\n",
       "        0.03667336],\n",
       "       [0.        , 0.49644235, 0.07007521, 0.        , 0.2649915 ,\n",
       "        0.        ]], dtype=float32)"
      ]
     },
     "execution_count": 41,
     "metadata": {},
     "output_type": "execute_result"
    }
   ],
   "source": [
    "res_np"
   ]
  },
  {
   "cell_type": "code",
   "execution_count": 42,
   "id": "4da1c066",
   "metadata": {},
   "outputs": [
    {
     "data": {
      "text/plain": [
       "array([[0.        , 0.0033779 , 0.19400355, 0.06946831, 0.30328226,\n",
       "        0.15638152],\n",
       "       [0.        , 0.21546994, 0.0180045 , 0.18723717, 0.48547697,\n",
       "        0.17223139],\n",
       "       [0.68041193, 0.24964194, 0.15372843, 0.03986855, 0.26886693,\n",
       "        0.03667336],\n",
       "       [0.        , 0.49644235, 0.07007521, 0.        , 0.2649915 ,\n",
       "        0.        ]], dtype=float32)"
      ]
     },
     "execution_count": 42,
     "metadata": {},
     "output_type": "execute_result"
    }
   ],
   "source": [
    "mult"
   ]
  },
  {
   "cell_type": "code",
   "execution_count": 43,
   "id": "0ca8d088",
   "metadata": {},
   "outputs": [
    {
     "data": {
      "text/plain": [
       "array([[ True,  True,  True,  True,  True,  True],\n",
       "       [ True,  True,  True,  True,  True,  True],\n",
       "       [ True,  True,  True,  True,  True,  True],\n",
       "       [ True,  True,  True,  True,  True,  True]])"
      ]
     },
     "execution_count": 43,
     "metadata": {},
     "output_type": "execute_result"
    }
   ],
   "source": [
    "res_np==mult"
   ]
  },
  {
   "cell_type": "code",
   "execution_count": 44,
   "id": "c197fea2",
   "metadata": {},
   "outputs": [
    {
     "data": {
      "text/plain": [
       "(4, 6)"
      ]
     },
     "execution_count": 44,
     "metadata": {},
     "output_type": "execute_result"
    }
   ],
   "source": [
    "res_np.shape"
   ]
  },
  {
   "cell_type": "code",
   "execution_count": 45,
   "id": "b20b9da3",
   "metadata": {},
   "outputs": [
    {
     "data": {
      "text/plain": [
       "(4, 6)"
      ]
     },
     "execution_count": 45,
     "metadata": {},
     "output_type": "execute_result"
    }
   ],
   "source": [
    "mult.shape"
   ]
  },
  {
   "cell_type": "markdown",
   "id": "020471e7",
   "metadata": {},
   "source": [
    "## MatMul (dense * sparse)"
   ]
  },
  {
   "cell_type": "code",
   "execution_count": 46,
   "id": "dc619c6d",
   "metadata": {},
   "outputs": [],
   "source": [
    "bdata_buf = cl.Buffer(ctx, mf.READ_WRITE | mf.COPY_HOST_PTR, hostbuf=bdata)\n",
    "bcols_buf = cl.Buffer(ctx, mf.READ_WRITE | mf.COPY_HOST_PTR, hostbuf=bcols)\n",
    "bnnzs_buf = cl.Buffer(ctx, mf.READ_WRITE | mf.COPY_HOST_PTR, hostbuf=bnnz)\n",
    "bdatat_buf = cl.Buffer(ctx, mf.READ_WRITE | mf.COPY_HOST_PTR, hostbuf=bdatat)\n",
    "bcolst_buf = cl.Buffer(ctx, mf.READ_WRITE | mf.COPY_HOST_PTR, hostbuf=bcolst)\n",
    "bnnzst_buf = cl.Buffer(ctx, mf.READ_WRITE | mf.COPY_HOST_PTR, hostbuf=bnnzt)\n",
    "a_buf = cl.Buffer(ctx, mf.READ_WRITE | mf.COPY_HOST_PTR, hostbuf=a)\n",
    "\n",
    "prg = cl.Program(ctx, \"\"\"\n",
    "    // DENSE x SPARSE\n",
    "    __kernel void matmul(__global  float* matData,     // INPUT MATRIX DATA\n",
    "                            __global  uint*  colIdx,\n",
    "                            __global  uint*  rowNnz,\n",
    "                            uint   ellwidth,\n",
    "                            uint   mwidth,\n",
    "                            uint   ncols,\n",
    "                            __global  float* vector_x,    // INPUT\n",
    "                            __global  float* vector_y    // OUTPUT\n",
    "                            ) { // LOCAL SHARED BUFFER\n",
    "      uint gid = get_global_id(0);\n",
    "      uint nrows = get_global_size(0);\n",
    "\n",
    "      for (uint gid2 = 0; gid2 < ncols; gid2++) {\n",
    "        uint nnz = rowNnz[gid2];\n",
    "        float sum = 0;\n",
    "        for (uint i = 0; i < nnz; i++) {\n",
    "          uint index   = (gid2 * ellwidth) + i;\n",
    "          uint col     = colIdx[index];\n",
    "          float aval  = matData[index];\n",
    "          float xval  = vector_x[gid*mwidth+col];\n",
    "          sum  += aval * xval;\n",
    "          if (gid==0 && gid2==0)\n",
    "            printf(\"aval, xval: %.2f,%.2f - %.2f: (%i,%i) \\\\n\", aval, xval, sum, col, index);\n",
    "        }\n",
    "        //printf(\"SUM/NNZ: %.2f %i \\\\n\", sum, nnz);\n",
    "        vector_y[gid*ncols+gid2] = sum;\n",
    "      }\n",
    "    }\"\"\").build()"
   ]
  },
  {
   "cell_type": "code",
   "execution_count": 47,
   "id": "65b33635",
   "metadata": {},
   "outputs": [
    {
     "data": {
      "text/plain": [
       "((4, 8), (8, 6))"
      ]
     },
     "execution_count": 47,
     "metadata": {},
     "output_type": "execute_result"
    }
   ],
   "source": [
    "a.shape, b.shape"
   ]
  },
  {
   "cell_type": "code",
   "execution_count": 48,
   "id": "1133e820",
   "metadata": {},
   "outputs": [],
   "source": [
    "res = np.zeros(a.shape[0]).astype(np.float32)\n",
    "#res"
   ]
  },
  {
   "cell_type": "code",
   "execution_count": 49,
   "id": "c5fb4354",
   "metadata": {},
   "outputs": [],
   "source": [
    "rows = a.shape[0]"
   ]
  },
  {
   "cell_type": "code",
   "execution_count": 50,
   "id": "2d2074e5",
   "metadata": {},
   "outputs": [],
   "source": [
    "mult = mult.astype(np.float32)"
   ]
  },
  {
   "cell_type": "code",
   "execution_count": 51,
   "id": "62207659",
   "metadata": {},
   "outputs": [
    {
     "data": {
      "text/plain": [
       "array([4, 6])"
      ]
     },
     "execution_count": 51,
     "metadata": {},
     "output_type": "execute_result"
    }
   ],
   "source": [
    "outshape = np.array([a.shape[0], b.shape[1]])\n",
    "outshape"
   ]
  },
  {
   "cell_type": "code",
   "execution_count": 52,
   "id": "48bda7d1",
   "metadata": {},
   "outputs": [
    {
     "data": {
      "text/plain": [
       "array([[0.        , 0.        , 0.        , 0.        , 0.        ,\n",
       "        0.85070384, 0.        , 0.        ],\n",
       "       [0.04503985, 0.13827148, 0.67893606, 0.        , 0.665272  ,\n",
       "        0.        , 0.        , 0.        ],\n",
       "       [0.        , 0.        , 0.10766226, 0.        , 0.40967163,\n",
       "        0.        , 0.59939903, 0.        ],\n",
       "       [0.        , 0.        , 0.        , 0.32545754, 0.        ,\n",
       "        0.        , 0.        , 0.38540342],\n",
       "       [0.        , 0.6585622 , 0.        , 0.        , 0.        ,\n",
       "        0.3361583 , 0.9370297 , 0.        ],\n",
       "       [0.39591527, 0.        , 0.        , 0.29937434, 0.        ,\n",
       "        0.        , 0.        , 0.70285636]], dtype=float32)"
      ]
     },
     "execution_count": 52,
     "metadata": {},
     "output_type": "execute_result"
    }
   ],
   "source": [
    "b.T"
   ]
  },
  {
   "cell_type": "code",
   "execution_count": 53,
   "id": "e81754e5",
   "metadata": {},
   "outputs": [
    {
     "data": {
      "text/plain": [
       "array([[7.49979988e-02, 0.00000000e+00, 0.00000000e+00, 0.00000000e+00],\n",
       "       [0.00000000e+00, 7.37177134e-01, 0.00000000e+00, 4.02378827e-01],\n",
       "       [0.00000000e+00, 1.67231306e-01, 0.00000000e+00, 6.48695767e-01],\n",
       "       [0.00000000e+00, 5.75304449e-01, 1.22499995e-01, 0.00000000e+00],\n",
       "       [0.00000000e+00, 0.00000000e+00, 3.75247926e-01, 5.74029225e-04],\n",
       "       [0.00000000e+00, 0.00000000e+00, 7.99822330e-01, 0.00000000e+00],\n",
       "       [3.23663443e-01, 0.00000000e+00, 0.00000000e+00, 0.00000000e+00],\n",
       "       [1.80248290e-01, 0.00000000e+00, 0.00000000e+00, 0.00000000e+00]],\n",
       "      dtype=float32)"
      ]
     },
     "execution_count": 53,
     "metadata": {},
     "output_type": "execute_result"
    }
   ],
   "source": [
    "a.T"
   ]
  },
  {
   "cell_type": "code",
   "execution_count": 54,
   "id": "a4aa52cb",
   "metadata": {},
   "outputs": [
    {
     "data": {
      "text/plain": [
       "array([4, 6])"
      ]
     },
     "execution_count": 54,
     "metadata": {},
     "output_type": "execute_result"
    }
   ],
   "source": [
    "outshape.T"
   ]
  },
  {
   "cell_type": "code",
   "execution_count": 55,
   "id": "35754fb9",
   "metadata": {},
   "outputs": [
    {
     "name": "stdout",
     "output_type": "stream",
     "text": [
      "aval, xval: 0.85,0.00 - 0.00: (5,0) \n"
     ]
    },
    {
     "data": {
      "text/plain": [
       "<pyopencl._cl.NannyEvent at 0x7fe850137e50>"
      ]
     },
     "execution_count": 55,
     "metadata": {},
     "output_type": "execute_result"
    }
   ],
   "source": [
    "res_buf = cl.Buffer(ctx, mf.READ_WRITE, np.prod(outshape)*4)\n",
    "knl = prg.matmul  # Use this Kernel object for repeated calls\n",
    "knl(queue, [outshape.T[0]], None, bdatat_buf, bcolst_buf, bnnzst_buf, np.uint32(ellwbt), np.uint32(b.shape[0]), np.uint32(outshape.T[1]), a_buf, res_buf)\n",
    "\n",
    "res_np = np.zeros(outshape).astype(np.float32)\n",
    "cl.enqueue_copy(queue, res_np, res_buf)"
   ]
  },
  {
   "cell_type": "code",
   "execution_count": 56,
   "id": "23cf552a",
   "metadata": {},
   "outputs": [
    {
     "data": {
      "text/plain": [
       "0.0"
      ]
     },
     "execution_count": 56,
     "metadata": {},
     "output_type": "execute_result"
    }
   ],
   "source": [
    "(res_np-mult).sum()"
   ]
  },
  {
   "cell_type": "code",
   "execution_count": 57,
   "id": "99d10b20",
   "metadata": {},
   "outputs": [
    {
     "data": {
      "text/plain": [
       "array([[7.49979988e-02, 0.00000000e+00, 0.00000000e+00, 0.00000000e+00,\n",
       "        0.00000000e+00, 0.00000000e+00, 3.23663443e-01, 1.80248290e-01],\n",
       "       [0.00000000e+00, 7.37177134e-01, 1.67231306e-01, 5.75304449e-01,\n",
       "        0.00000000e+00, 0.00000000e+00, 0.00000000e+00, 0.00000000e+00],\n",
       "       [0.00000000e+00, 0.00000000e+00, 0.00000000e+00, 1.22499995e-01,\n",
       "        3.75247926e-01, 7.99822330e-01, 0.00000000e+00, 0.00000000e+00],\n",
       "       [0.00000000e+00, 4.02378827e-01, 6.48695767e-01, 0.00000000e+00,\n",
       "        5.74029225e-04, 0.00000000e+00, 0.00000000e+00, 0.00000000e+00]],\n",
       "      dtype=float32)"
      ]
     },
     "execution_count": 57,
     "metadata": {},
     "output_type": "execute_result"
    }
   ],
   "source": [
    "a"
   ]
  },
  {
   "cell_type": "code",
   "execution_count": 58,
   "id": "85fb2a81",
   "metadata": {},
   "outputs": [
    {
     "data": {
      "text/plain": [
       "array([[0.        , 0.04503985, 0.        , 0.        , 0.        ,\n",
       "        0.39591527],\n",
       "       [0.        , 0.13827148, 0.        , 0.        , 0.6585622 ,\n",
       "        0.        ],\n",
       "       [0.        , 0.67893606, 0.10766226, 0.        , 0.        ,\n",
       "        0.        ],\n",
       "       [0.        , 0.        , 0.        , 0.32545754, 0.        ,\n",
       "        0.29937434],\n",
       "       [0.        , 0.665272  , 0.40967163, 0.        , 0.        ,\n",
       "        0.        ],\n",
       "       [0.85070384, 0.        , 0.        , 0.        , 0.3361583 ,\n",
       "        0.        ],\n",
       "       [0.        , 0.        , 0.59939903, 0.        , 0.9370297 ,\n",
       "        0.        ],\n",
       "       [0.        , 0.        , 0.        , 0.38540342, 0.        ,\n",
       "        0.70285636]], dtype=float32)"
      ]
     },
     "execution_count": 58,
     "metadata": {},
     "output_type": "execute_result"
    }
   ],
   "source": [
    "b"
   ]
  },
  {
   "cell_type": "code",
   "execution_count": 59,
   "id": "ee65b3de",
   "metadata": {},
   "outputs": [
    {
     "data": {
      "text/plain": [
       "<pyopencl._cl.Buffer at 0x7fe85015b4f0>"
      ]
     },
     "execution_count": 59,
     "metadata": {},
     "output_type": "execute_result"
    }
   ],
   "source": [
    "res_buf"
   ]
  },
  {
   "cell_type": "code",
   "execution_count": 60,
   "id": "15e6ab60",
   "metadata": {},
   "outputs": [
    {
     "data": {
      "text/plain": [
       "array([[0.        , 0.0033779 , 0.19400355, 0.06946831, 0.30328226,\n",
       "        0.15638152],\n",
       "       [0.        , 0.21546994, 0.0180045 , 0.18723717, 0.48547697,\n",
       "        0.17223139],\n",
       "       [0.68041193, 0.24964194, 0.15372843, 0.03986855, 0.26886693,\n",
       "        0.03667336],\n",
       "       [0.        , 0.49644235, 0.07007521, 0.        , 0.2649915 ,\n",
       "        0.        ]], dtype=float32)"
      ]
     },
     "execution_count": 60,
     "metadata": {},
     "output_type": "execute_result"
    }
   ],
   "source": [
    "res_np"
   ]
  },
  {
   "cell_type": "code",
   "execution_count": 61,
   "id": "ea2ac480",
   "metadata": {},
   "outputs": [
    {
     "data": {
      "text/plain": [
       "array([[0.        , 0.0033779 , 0.19400355, 0.06946831, 0.30328226,\n",
       "        0.15638152],\n",
       "       [0.        , 0.21546994, 0.0180045 , 0.18723717, 0.48547697,\n",
       "        0.17223139],\n",
       "       [0.68041193, 0.24964194, 0.15372843, 0.03986855, 0.26886693,\n",
       "        0.03667336],\n",
       "       [0.        , 0.49644235, 0.07007521, 0.        , 0.2649915 ,\n",
       "        0.        ]], dtype=float32)"
      ]
     },
     "execution_count": 61,
     "metadata": {},
     "output_type": "execute_result"
    }
   ],
   "source": [
    "mult"
   ]
  },
  {
   "cell_type": "code",
   "execution_count": 62,
   "id": "232d2e9c",
   "metadata": {},
   "outputs": [
    {
     "data": {
      "text/plain": [
       "array([[ True,  True,  True,  True,  True,  True],\n",
       "       [ True,  True,  True,  True,  True,  True],\n",
       "       [ True,  True,  True,  True,  True,  True],\n",
       "       [ True,  True,  True,  True,  True,  True]])"
      ]
     },
     "execution_count": 62,
     "metadata": {},
     "output_type": "execute_result"
    }
   ],
   "source": [
    "res_np==mult"
   ]
  },
  {
   "cell_type": "code",
   "execution_count": 63,
   "id": "315f252f",
   "metadata": {},
   "outputs": [
    {
     "data": {
      "text/plain": [
       "array([[0., 0., 0., 0., 0., 0.],\n",
       "       [0., 0., 0., 0., 0., 0.],\n",
       "       [0., 0., 0., 0., 0., 0.],\n",
       "       [0., 0., 0., 0., 0., 0.]], dtype=float32)"
      ]
     },
     "execution_count": 63,
     "metadata": {},
     "output_type": "execute_result"
    }
   ],
   "source": [
    "res_np-mult"
   ]
  },
  {
   "cell_type": "code",
   "execution_count": 64,
   "id": "3cc1c589",
   "metadata": {},
   "outputs": [
    {
     "data": {
      "text/plain": [
       "(4, 6)"
      ]
     },
     "execution_count": 64,
     "metadata": {},
     "output_type": "execute_result"
    }
   ],
   "source": [
    "res_np.shape"
   ]
  },
  {
   "cell_type": "code",
   "execution_count": 65,
   "id": "7c621598",
   "metadata": {},
   "outputs": [
    {
     "data": {
      "text/plain": [
       "(4, 6)"
      ]
     },
     "execution_count": 65,
     "metadata": {},
     "output_type": "execute_result"
    }
   ],
   "source": [
    "mult.shape"
   ]
  },
  {
   "cell_type": "markdown",
   "id": "2432487e",
   "metadata": {},
   "source": [
    "## MatMul (dense * sparse)"
   ]
  },
  {
   "cell_type": "code",
   "execution_count": 66,
   "id": "622ee80e",
   "metadata": {},
   "outputs": [],
   "source": [
    "bdata_buf = cl.Buffer(ctx, mf.READ_WRITE | mf.COPY_HOST_PTR, hostbuf=bdata)\n",
    "bcols_buf = cl.Buffer(ctx, mf.READ_WRITE | mf.COPY_HOST_PTR, hostbuf=bcols)\n",
    "bnnzs_buf = cl.Buffer(ctx, mf.READ_WRITE | mf.COPY_HOST_PTR, hostbuf=bnnz)\n",
    "bdatat_buf = cl.Buffer(ctx, mf.READ_WRITE | mf.COPY_HOST_PTR, hostbuf=bdatat)\n",
    "bcolst_buf = cl.Buffer(ctx, mf.READ_WRITE | mf.COPY_HOST_PTR, hostbuf=bcolst)\n",
    "bnnzst_buf = cl.Buffer(ctx, mf.READ_WRITE | mf.COPY_HOST_PTR, hostbuf=bnnzt)\n",
    "a_buf = cl.Buffer(ctx, mf.READ_WRITE | mf.COPY_HOST_PTR, hostbuf=a)\n",
    "\n",
    "prg = cl.Program(ctx, \"\"\"\n",
    "    // DENSE x SPARSE\n",
    "    __kernel void matmul(__global  float* matData,     // INPUT MATRIX DATA\n",
    "                            __global  uint*  colIdx,\n",
    "                            __global  uint*  rowNnz,\n",
    "                            uint   ellwidth,\n",
    "                            uint   mwidth,\n",
    "                            uint   ncols,\n",
    "                            __global  float* vector_x,    // INPUT\n",
    "                            __global  float* vector_y    // OUTPUT\n",
    "                            ) { // LOCAL SHARED BUFFER\n",
    "      uint gid = get_global_id(0);\n",
    "      uint nrows = get_global_size(0);\n",
    "\n",
    "      for (uint gid2 = 0; gid2 < ncols; gid2++) {\n",
    "        uint nnz = rowNnz[gid2];\n",
    "        float sum = 0;\n",
    "        for (uint i = 0; i < nnz; i++) {\n",
    "          uint index   = (gid2 * ellwidth) + i;\n",
    "          uint col     = colIdx[index];\n",
    "          float aval  = matData[index];\n",
    "          float xval  = vector_x[gid*mwidth+col];\n",
    "          sum  += aval * xval;\n",
    "          if (gid==0 && gid2==0)\n",
    "            printf(\"aval, xval: %.2f,%.2f - %.2f: (%i,%i) \\\\n\", aval, xval, sum, col, index);\n",
    "        }\n",
    "        //printf(\"SUM/NNZ: %.2f %i \\\\n\", sum, nnz);\n",
    "        vector_y[gid*ncols+gid2] = sum;\n",
    "      }\n",
    "    }\"\"\").build()"
   ]
  },
  {
   "cell_type": "code",
   "execution_count": 67,
   "id": "5158a87f",
   "metadata": {},
   "outputs": [
    {
     "data": {
      "text/plain": [
       "((4, 8), (8, 6))"
      ]
     },
     "execution_count": 67,
     "metadata": {},
     "output_type": "execute_result"
    }
   ],
   "source": [
    "a.shape, b.shape"
   ]
  },
  {
   "cell_type": "code",
   "execution_count": 68,
   "id": "3f4f6639",
   "metadata": {},
   "outputs": [],
   "source": [
    "res = np.zeros(a.shape[0]).astype(np.float32)\n",
    "#res"
   ]
  },
  {
   "cell_type": "code",
   "execution_count": 69,
   "id": "25f573a1",
   "metadata": {},
   "outputs": [],
   "source": [
    "rows = a.shape[0]"
   ]
  },
  {
   "cell_type": "code",
   "execution_count": 70,
   "id": "a9a22c41",
   "metadata": {},
   "outputs": [],
   "source": [
    "mult = mult.astype(np.float32)"
   ]
  },
  {
   "cell_type": "code",
   "execution_count": 71,
   "id": "016a02ac",
   "metadata": {},
   "outputs": [
    {
     "data": {
      "text/plain": [
       "array([4, 6])"
      ]
     },
     "execution_count": 71,
     "metadata": {},
     "output_type": "execute_result"
    }
   ],
   "source": [
    "outshape = np.array([a.shape[0], b.shape[1]])\n",
    "outshape"
   ]
  },
  {
   "cell_type": "code",
   "execution_count": 72,
   "id": "22f3557a",
   "metadata": {},
   "outputs": [
    {
     "data": {
      "text/plain": [
       "array([[0.        , 0.        , 0.        , 0.        , 0.        ,\n",
       "        0.85070384, 0.        , 0.        ],\n",
       "       [0.04503985, 0.13827148, 0.67893606, 0.        , 0.665272  ,\n",
       "        0.        , 0.        , 0.        ],\n",
       "       [0.        , 0.        , 0.10766226, 0.        , 0.40967163,\n",
       "        0.        , 0.59939903, 0.        ],\n",
       "       [0.        , 0.        , 0.        , 0.32545754, 0.        ,\n",
       "        0.        , 0.        , 0.38540342],\n",
       "       [0.        , 0.6585622 , 0.        , 0.        , 0.        ,\n",
       "        0.3361583 , 0.9370297 , 0.        ],\n",
       "       [0.39591527, 0.        , 0.        , 0.29937434, 0.        ,\n",
       "        0.        , 0.        , 0.70285636]], dtype=float32)"
      ]
     },
     "execution_count": 72,
     "metadata": {},
     "output_type": "execute_result"
    }
   ],
   "source": [
    "b.T"
   ]
  },
  {
   "cell_type": "code",
   "execution_count": 73,
   "id": "bec3156d",
   "metadata": {},
   "outputs": [
    {
     "data": {
      "text/plain": [
       "array([[7.49979988e-02, 0.00000000e+00, 0.00000000e+00, 0.00000000e+00],\n",
       "       [0.00000000e+00, 7.37177134e-01, 0.00000000e+00, 4.02378827e-01],\n",
       "       [0.00000000e+00, 1.67231306e-01, 0.00000000e+00, 6.48695767e-01],\n",
       "       [0.00000000e+00, 5.75304449e-01, 1.22499995e-01, 0.00000000e+00],\n",
       "       [0.00000000e+00, 0.00000000e+00, 3.75247926e-01, 5.74029225e-04],\n",
       "       [0.00000000e+00, 0.00000000e+00, 7.99822330e-01, 0.00000000e+00],\n",
       "       [3.23663443e-01, 0.00000000e+00, 0.00000000e+00, 0.00000000e+00],\n",
       "       [1.80248290e-01, 0.00000000e+00, 0.00000000e+00, 0.00000000e+00]],\n",
       "      dtype=float32)"
      ]
     },
     "execution_count": 73,
     "metadata": {},
     "output_type": "execute_result"
    }
   ],
   "source": [
    "a.T"
   ]
  },
  {
   "cell_type": "code",
   "execution_count": 74,
   "id": "1e97923d",
   "metadata": {},
   "outputs": [
    {
     "data": {
      "text/plain": [
       "array([4, 6])"
      ]
     },
     "execution_count": 74,
     "metadata": {},
     "output_type": "execute_result"
    }
   ],
   "source": [
    "outshape.T"
   ]
  },
  {
   "cell_type": "code",
   "execution_count": 75,
   "id": "9802f037",
   "metadata": {},
   "outputs": [
    {
     "name": "stdout",
     "output_type": "stream",
     "text": [
      "aval, xval: 0.85,0.00 - 0.00: (5,0) \n"
     ]
    },
    {
     "data": {
      "text/plain": [
       "<pyopencl._cl.NannyEvent at 0x7fe85015b630>"
      ]
     },
     "execution_count": 75,
     "metadata": {},
     "output_type": "execute_result"
    }
   ],
   "source": [
    "res_buf = cl.Buffer(ctx, mf.READ_WRITE, np.prod(outshape)*4)\n",
    "knl = prg.matmul  # Use this Kernel object for repeated calls\n",
    "knl(queue, [outshape.T[0]], None, bdatat_buf, bcolst_buf, bnnzst_buf, np.uint32(ellwbt), np.uint32(b.shape[0]), np.uint32(outshape.T[1]), a_buf, res_buf)\n",
    "\n",
    "res_np = np.zeros(outshape).astype(np.float32)\n",
    "cl.enqueue_copy(queue, res_np, res_buf)"
   ]
  },
  {
   "cell_type": "code",
   "execution_count": 76,
   "id": "25bff0bb",
   "metadata": {},
   "outputs": [
    {
     "data": {
      "text/plain": [
       "0.0"
      ]
     },
     "execution_count": 76,
     "metadata": {},
     "output_type": "execute_result"
    }
   ],
   "source": [
    "(res_np-mult).sum()"
   ]
  },
  {
   "cell_type": "code",
   "execution_count": 77,
   "id": "0e814087",
   "metadata": {},
   "outputs": [
    {
     "data": {
      "text/plain": [
       "array([[7.49979988e-02, 0.00000000e+00, 0.00000000e+00, 0.00000000e+00,\n",
       "        0.00000000e+00, 0.00000000e+00, 3.23663443e-01, 1.80248290e-01],\n",
       "       [0.00000000e+00, 7.37177134e-01, 1.67231306e-01, 5.75304449e-01,\n",
       "        0.00000000e+00, 0.00000000e+00, 0.00000000e+00, 0.00000000e+00],\n",
       "       [0.00000000e+00, 0.00000000e+00, 0.00000000e+00, 1.22499995e-01,\n",
       "        3.75247926e-01, 7.99822330e-01, 0.00000000e+00, 0.00000000e+00],\n",
       "       [0.00000000e+00, 4.02378827e-01, 6.48695767e-01, 0.00000000e+00,\n",
       "        5.74029225e-04, 0.00000000e+00, 0.00000000e+00, 0.00000000e+00]],\n",
       "      dtype=float32)"
      ]
     },
     "execution_count": 77,
     "metadata": {},
     "output_type": "execute_result"
    }
   ],
   "source": [
    "a"
   ]
  },
  {
   "cell_type": "code",
   "execution_count": 78,
   "id": "ba07a197",
   "metadata": {},
   "outputs": [
    {
     "data": {
      "text/plain": [
       "array([[0.        , 0.04503985, 0.        , 0.        , 0.        ,\n",
       "        0.39591527],\n",
       "       [0.        , 0.13827148, 0.        , 0.        , 0.6585622 ,\n",
       "        0.        ],\n",
       "       [0.        , 0.67893606, 0.10766226, 0.        , 0.        ,\n",
       "        0.        ],\n",
       "       [0.        , 0.        , 0.        , 0.32545754, 0.        ,\n",
       "        0.29937434],\n",
       "       [0.        , 0.665272  , 0.40967163, 0.        , 0.        ,\n",
       "        0.        ],\n",
       "       [0.85070384, 0.        , 0.        , 0.        , 0.3361583 ,\n",
       "        0.        ],\n",
       "       [0.        , 0.        , 0.59939903, 0.        , 0.9370297 ,\n",
       "        0.        ],\n",
       "       [0.        , 0.        , 0.        , 0.38540342, 0.        ,\n",
       "        0.70285636]], dtype=float32)"
      ]
     },
     "execution_count": 78,
     "metadata": {},
     "output_type": "execute_result"
    }
   ],
   "source": [
    "b"
   ]
  },
  {
   "cell_type": "code",
   "execution_count": 79,
   "id": "529afff3",
   "metadata": {},
   "outputs": [
    {
     "data": {
      "text/plain": [
       "<pyopencl._cl.Buffer at 0x7fe8500f55e0>"
      ]
     },
     "execution_count": 79,
     "metadata": {},
     "output_type": "execute_result"
    }
   ],
   "source": [
    "res_buf"
   ]
  },
  {
   "cell_type": "code",
   "execution_count": 80,
   "id": "a807b3c0",
   "metadata": {},
   "outputs": [
    {
     "data": {
      "text/plain": [
       "array([[0.        , 0.0033779 , 0.19400355, 0.06946831, 0.30328226,\n",
       "        0.15638152],\n",
       "       [0.        , 0.21546994, 0.0180045 , 0.18723717, 0.48547697,\n",
       "        0.17223139],\n",
       "       [0.68041193, 0.24964194, 0.15372843, 0.03986855, 0.26886693,\n",
       "        0.03667336],\n",
       "       [0.        , 0.49644235, 0.07007521, 0.        , 0.2649915 ,\n",
       "        0.        ]], dtype=float32)"
      ]
     },
     "execution_count": 80,
     "metadata": {},
     "output_type": "execute_result"
    }
   ],
   "source": [
    "res_np"
   ]
  },
  {
   "cell_type": "code",
   "execution_count": 81,
   "id": "4b476526",
   "metadata": {},
   "outputs": [
    {
     "data": {
      "text/plain": [
       "array([[0.        , 0.0033779 , 0.19400355, 0.06946831, 0.30328226,\n",
       "        0.15638152],\n",
       "       [0.        , 0.21546994, 0.0180045 , 0.18723717, 0.48547697,\n",
       "        0.17223139],\n",
       "       [0.68041193, 0.24964194, 0.15372843, 0.03986855, 0.26886693,\n",
       "        0.03667336],\n",
       "       [0.        , 0.49644235, 0.07007521, 0.        , 0.2649915 ,\n",
       "        0.        ]], dtype=float32)"
      ]
     },
     "execution_count": 81,
     "metadata": {},
     "output_type": "execute_result"
    }
   ],
   "source": [
    "mult"
   ]
  },
  {
   "cell_type": "code",
   "execution_count": 82,
   "id": "7c27301f",
   "metadata": {},
   "outputs": [
    {
     "data": {
      "text/plain": [
       "array([[ True,  True,  True,  True,  True,  True],\n",
       "       [ True,  True,  True,  True,  True,  True],\n",
       "       [ True,  True,  True,  True,  True,  True],\n",
       "       [ True,  True,  True,  True,  True,  True]])"
      ]
     },
     "execution_count": 82,
     "metadata": {},
     "output_type": "execute_result"
    }
   ],
   "source": [
    "res_np==mult"
   ]
  },
  {
   "cell_type": "code",
   "execution_count": 83,
   "id": "2895fd1c",
   "metadata": {},
   "outputs": [
    {
     "data": {
      "text/plain": [
       "array([[0., 0., 0., 0., 0., 0.],\n",
       "       [0., 0., 0., 0., 0., 0.],\n",
       "       [0., 0., 0., 0., 0., 0.],\n",
       "       [0., 0., 0., 0., 0., 0.]], dtype=float32)"
      ]
     },
     "execution_count": 83,
     "metadata": {},
     "output_type": "execute_result"
    }
   ],
   "source": [
    "res_np-mult"
   ]
  },
  {
   "cell_type": "code",
   "execution_count": 84,
   "id": "85267e65",
   "metadata": {},
   "outputs": [
    {
     "data": {
      "text/plain": [
       "(4, 6)"
      ]
     },
     "execution_count": 84,
     "metadata": {},
     "output_type": "execute_result"
    }
   ],
   "source": [
    "res_np.shape"
   ]
  },
  {
   "cell_type": "code",
   "execution_count": 85,
   "id": "1985612f",
   "metadata": {},
   "outputs": [
    {
     "data": {
      "text/plain": [
       "(4, 6)"
      ]
     },
     "execution_count": 85,
     "metadata": {},
     "output_type": "execute_result"
    }
   ],
   "source": [
    "mult.shape"
   ]
  },
  {
   "cell_type": "markdown",
   "id": "7aad6088",
   "metadata": {},
   "source": [
    "## MatMul (dense * sparse) NEW"
   ]
  },
  {
   "cell_type": "code",
   "execution_count": 86,
   "id": "a9041c47",
   "metadata": {},
   "outputs": [],
   "source": [
    "bdata_buf = cl.Buffer(ctx, mf.READ_WRITE | mf.COPY_HOST_PTR, hostbuf=bdata)\n",
    "bcols_buf = cl.Buffer(ctx, mf.READ_WRITE | mf.COPY_HOST_PTR, hostbuf=bcols)\n",
    "bnnzs_buf = cl.Buffer(ctx, mf.READ_WRITE | mf.COPY_HOST_PTR, hostbuf=bnnz)\n",
    "bdatat_buf = cl.Buffer(ctx, mf.READ_WRITE | mf.COPY_HOST_PTR, hostbuf=bdatat)\n",
    "bcolst_buf = cl.Buffer(ctx, mf.READ_WRITE | mf.COPY_HOST_PTR, hostbuf=bcolst)\n",
    "bnnzst_buf = cl.Buffer(ctx, mf.READ_WRITE | mf.COPY_HOST_PTR, hostbuf=bnnzt)\n",
    "a_buf = cl.Buffer(ctx, mf.READ_WRITE | mf.COPY_HOST_PTR, hostbuf=a)\n",
    "\n",
    "prg = cl.Program(ctx, \"\"\"\n",
    "    // DENSE x SPARSE\n",
    "    __kernel void matmulnew(__global  float* matData,     // INPUT MATRIX DATA\n",
    "                            __global  uint*  colIdx,\n",
    "                            __global  uint*  rowNnz,\n",
    "                            uint   ellwidth,\n",
    "                            uint   mwidth,\n",
    "                            __global  float* vector_x,    // INPUT\n",
    "                            __global  float* vector_y    // OUTPUT\n",
    "                            ) { // LOCAL SHARED BUFFER\n",
    "      uint gid = get_global_id(0);\n",
    "      uint nrows = get_global_size(0);\n",
    "      uint gid2 = get_global_id(1);\n",
    "      uint ncols = get_global_size(1);\n",
    "      uint nnz = rowNnz[gid2];\n",
    "      float sum = 0;\n",
    "      for (uint i = 0; i < nnz; i++) {\n",
    "        uint index   = (gid2 * ellwidth) + i;\n",
    "        uint col     = colIdx[index];\n",
    "        float aval  = matData[index];\n",
    "        float xval  = vector_x[gid*mwidth+col];\n",
    "        sum  += aval * xval;\n",
    "        if (gid==0 && gid2==0)\n",
    "          printf(\"aval, xval: %.2f,%.2f - %.2f: (%i,%i) \\\\n\", aval, xval, sum, col, index);\n",
    "        //printf(\"SUM/NNZ: %.2f %i \\\\n\", sum, nnz);\n",
    "        \n",
    "      }\n",
    "      vector_y[gid2*nrows+gid] = sum;\n",
    "    }\"\"\").build()"
   ]
  },
  {
   "cell_type": "code",
   "execution_count": 87,
   "id": "e547428c",
   "metadata": {},
   "outputs": [
    {
     "data": {
      "text/plain": [
       "((4, 8), (8, 6))"
      ]
     },
     "execution_count": 87,
     "metadata": {},
     "output_type": "execute_result"
    }
   ],
   "source": [
    "a.shape, b.shape"
   ]
  },
  {
   "cell_type": "code",
   "execution_count": 88,
   "id": "b5220c53",
   "metadata": {},
   "outputs": [],
   "source": [
    "res = np.zeros(a.shape[0]).astype(np.float32)\n",
    "#res"
   ]
  },
  {
   "cell_type": "code",
   "execution_count": 89,
   "id": "fb743cc5",
   "metadata": {},
   "outputs": [],
   "source": [
    "rows = a.shape[0]"
   ]
  },
  {
   "cell_type": "code",
   "execution_count": 90,
   "id": "86b29c18",
   "metadata": {},
   "outputs": [],
   "source": [
    "mult = mult.astype(np.float32)"
   ]
  },
  {
   "cell_type": "code",
   "execution_count": 91,
   "id": "815716c7",
   "metadata": {},
   "outputs": [
    {
     "data": {
      "text/plain": [
       "array([4, 6])"
      ]
     },
     "execution_count": 91,
     "metadata": {},
     "output_type": "execute_result"
    }
   ],
   "source": [
    "outshape = np.array([a.shape[0], b.shape[1]])\n",
    "outshape"
   ]
  },
  {
   "cell_type": "code",
   "execution_count": 92,
   "id": "ab35e1f0",
   "metadata": {},
   "outputs": [
    {
     "data": {
      "text/plain": [
       "array([[0.        , 0.        , 0.        , 0.        , 0.        ,\n",
       "        0.85070384, 0.        , 0.        ],\n",
       "       [0.04503985, 0.13827148, 0.67893606, 0.        , 0.665272  ,\n",
       "        0.        , 0.        , 0.        ],\n",
       "       [0.        , 0.        , 0.10766226, 0.        , 0.40967163,\n",
       "        0.        , 0.59939903, 0.        ],\n",
       "       [0.        , 0.        , 0.        , 0.32545754, 0.        ,\n",
       "        0.        , 0.        , 0.38540342],\n",
       "       [0.        , 0.6585622 , 0.        , 0.        , 0.        ,\n",
       "        0.3361583 , 0.9370297 , 0.        ],\n",
       "       [0.39591527, 0.        , 0.        , 0.29937434, 0.        ,\n",
       "        0.        , 0.        , 0.70285636]], dtype=float32)"
      ]
     },
     "execution_count": 92,
     "metadata": {},
     "output_type": "execute_result"
    }
   ],
   "source": [
    "b.T"
   ]
  },
  {
   "cell_type": "code",
   "execution_count": 93,
   "id": "e362c04c",
   "metadata": {},
   "outputs": [
    {
     "data": {
      "text/plain": [
       "array([[7.49979988e-02, 0.00000000e+00, 0.00000000e+00, 0.00000000e+00],\n",
       "       [0.00000000e+00, 7.37177134e-01, 0.00000000e+00, 4.02378827e-01],\n",
       "       [0.00000000e+00, 1.67231306e-01, 0.00000000e+00, 6.48695767e-01],\n",
       "       [0.00000000e+00, 5.75304449e-01, 1.22499995e-01, 0.00000000e+00],\n",
       "       [0.00000000e+00, 0.00000000e+00, 3.75247926e-01, 5.74029225e-04],\n",
       "       [0.00000000e+00, 0.00000000e+00, 7.99822330e-01, 0.00000000e+00],\n",
       "       [3.23663443e-01, 0.00000000e+00, 0.00000000e+00, 0.00000000e+00],\n",
       "       [1.80248290e-01, 0.00000000e+00, 0.00000000e+00, 0.00000000e+00]],\n",
       "      dtype=float32)"
      ]
     },
     "execution_count": 93,
     "metadata": {},
     "output_type": "execute_result"
    }
   ],
   "source": [
    "a.T"
   ]
  },
  {
   "cell_type": "code",
   "execution_count": 94,
   "id": "e7ab9a76",
   "metadata": {},
   "outputs": [
    {
     "name": "stdout",
     "output_type": "stream",
     "text": [
      "(6, 4)\n"
     ]
    },
    {
     "data": {
      "text/plain": [
       "<pyopencl._cl.NannyEvent at 0x7fe8500f5680>"
      ]
     },
     "execution_count": 94,
     "metadata": {},
     "output_type": "execute_result"
    },
    {
     "name": "stdout",
     "output_type": "stream",
     "text": [
      "aval, xval: 0.85,0.00 - 0.00: (5,0) \n"
     ]
    }
   ],
   "source": [
    "res_buf = cl.Buffer(ctx, mf.READ_WRITE, np.prod(outshape)*4)\n",
    "knl = prg.matmulnew  # Use this Kernel object for repeated calls\n",
    "knl(queue, outshape, None, bdatat_buf, bcolst_buf, bnnzst_buf, np.uint32(ellwbt), np.uint32(b.shape[0]), a_buf, res_buf)\n",
    "\n",
    "res_np = np.zeros((outshape[1], outshape[0])).astype(np.float32)\n",
    "print(res_np.shape)\n",
    "cl.enqueue_copy(queue, res_np, res_buf)"
   ]
  },
  {
   "cell_type": "code",
   "execution_count": 95,
   "id": "67eeff65",
   "metadata": {},
   "outputs": [
    {
     "data": {
      "text/plain": [
       "0.0"
      ]
     },
     "execution_count": 95,
     "metadata": {},
     "output_type": "execute_result"
    }
   ],
   "source": [
    "(res_np-mult.T).sum()"
   ]
  },
  {
   "cell_type": "code",
   "execution_count": 96,
   "id": "437bc46f",
   "metadata": {},
   "outputs": [
    {
     "data": {
      "text/plain": [
       "<pyopencl._cl.Buffer at 0x7fe8500c1bd0>"
      ]
     },
     "execution_count": 96,
     "metadata": {},
     "output_type": "execute_result"
    }
   ],
   "source": [
    "res_buf"
   ]
  },
  {
   "cell_type": "code",
   "execution_count": 97,
   "id": "9035b6b3",
   "metadata": {},
   "outputs": [
    {
     "data": {
      "text/plain": [
       "array([[0.        , 0.0033779 , 0.19400355, 0.06946831, 0.30328226,\n",
       "        0.15638152],\n",
       "       [0.        , 0.21546994, 0.0180045 , 0.18723717, 0.48547697,\n",
       "        0.17223139],\n",
       "       [0.68041193, 0.24964194, 0.15372843, 0.03986855, 0.26886693,\n",
       "        0.03667336],\n",
       "       [0.        , 0.49644235, 0.07007521, 0.        , 0.2649915 ,\n",
       "        0.        ]], dtype=float32)"
      ]
     },
     "execution_count": 97,
     "metadata": {},
     "output_type": "execute_result"
    }
   ],
   "source": [
    "res_np.T"
   ]
  },
  {
   "cell_type": "code",
   "execution_count": 98,
   "id": "75f2d1d4",
   "metadata": {},
   "outputs": [
    {
     "data": {
      "text/plain": [
       "array([[0.        , 0.0033779 , 0.19400355, 0.06946831, 0.30328226,\n",
       "        0.15638152],\n",
       "       [0.        , 0.21546994, 0.0180045 , 0.18723717, 0.48547697,\n",
       "        0.17223139],\n",
       "       [0.68041193, 0.24964194, 0.15372843, 0.03986855, 0.26886693,\n",
       "        0.03667336],\n",
       "       [0.        , 0.49644235, 0.07007521, 0.        , 0.2649915 ,\n",
       "        0.        ]], dtype=float32)"
      ]
     },
     "execution_count": 98,
     "metadata": {},
     "output_type": "execute_result"
    }
   ],
   "source": [
    "mult"
   ]
  },
  {
   "cell_type": "code",
   "execution_count": 99,
   "id": "aa862e0f",
   "metadata": {},
   "outputs": [
    {
     "data": {
      "text/plain": [
       "array([[0., 0., 0., 0.],\n",
       "       [0., 0., 0., 0.],\n",
       "       [0., 0., 0., 0.],\n",
       "       [0., 0., 0., 0.],\n",
       "       [0., 0., 0., 0.],\n",
       "       [0., 0., 0., 0.]], dtype=float32)"
      ]
     },
     "execution_count": 99,
     "metadata": {},
     "output_type": "execute_result"
    }
   ],
   "source": [
    "res_np-mult.T"
   ]
  },
  {
   "cell_type": "code",
   "execution_count": 100,
   "id": "25d376fc",
   "metadata": {},
   "outputs": [
    {
     "data": {
      "text/plain": [
       "(6, 4)"
      ]
     },
     "execution_count": 100,
     "metadata": {},
     "output_type": "execute_result"
    }
   ],
   "source": [
    "res_np.shape"
   ]
  },
  {
   "cell_type": "code",
   "execution_count": 101,
   "id": "fa077d86",
   "metadata": {},
   "outputs": [
    {
     "data": {
      "text/plain": [
       "(4, 6)"
      ]
     },
     "execution_count": 101,
     "metadata": {},
     "output_type": "execute_result"
    }
   ],
   "source": [
    "mult.shape"
   ]
  },
  {
   "cell_type": "markdown",
   "id": "cdc9f0be",
   "metadata": {},
   "source": [
    "# Matmult Dense Dense"
   ]
  },
  {
   "cell_type": "code",
   "execution_count": 102,
   "id": "d3eeacb6",
   "metadata": {},
   "outputs": [],
   "source": [
    "b_buf2 = cl.Buffer(ctx, mf.READ_WRITE | mf.COPY_HOST_PTR, hostbuf=b)\n",
    "a_buf = cl.Buffer(ctx, mf.READ_WRITE | mf.COPY_HOST_PTR, hostbuf=a)\n",
    "\n",
    "prg = cl.Program(ctx, \"\"\"\n",
    "    // multilplies x by y WITH Y TRANSPOSED INDEXING\n",
    "    __kernel void matmul0(__global  float* x,     // INPUT MATRIX DATA\n",
    "                          __global  float* y,    // INPUT\n",
    "                          __global  float* res,    // INPUT\n",
    "                          uint msize\n",
    "                          ) { // LOCAL SHARED BUFFER\n",
    "      uint isize = get_global_size(0);\n",
    "      uint osize = get_global_size(1);\n",
    "      int gidx = get_global_id(0); // row\n",
    "      int gidy = get_global_id(1); // col\n",
    "\n",
    "      float ret = 0.0;\n",
    "      for (int i = 0; i < msize; i++) {\n",
    "        uint xidx = gidx*msize+i; \n",
    "        float xval = x[xidx];\n",
    "        uint yidx = osize*i+gidy;\n",
    "        float yval = y[yidx];\n",
    "        ret += xval*yval;\n",
    "        if (gidx==0 && gidy==0)\n",
    "          printf(\"\\\\nmult: %.2f x %.2f - %.2f  -- %i/%i\", xval, yval, res, xidx, yidx);\n",
    "      }\n",
    "\n",
    "      //if (gidx==0&&gidy==0)\n",
    "      //  printf(\"\\\\nsum:%.2f\", ret);\n",
    "      res[gidx * osize + gidy] = ret;\n",
    "    }\"\"\").build()"
   ]
  },
  {
   "cell_type": "code",
   "execution_count": 103,
   "id": "ee0aabda",
   "metadata": {},
   "outputs": [
    {
     "data": {
      "text/plain": [
       "((4, 8), (8, 6))"
      ]
     },
     "execution_count": 103,
     "metadata": {},
     "output_type": "execute_result"
    }
   ],
   "source": [
    "a.shape, b.shape"
   ]
  },
  {
   "cell_type": "code",
   "execution_count": 104,
   "id": "938f25f9",
   "metadata": {},
   "outputs": [],
   "source": [
    "rows = a.shape[0]"
   ]
  },
  {
   "cell_type": "code",
   "execution_count": 105,
   "id": "d19122ca",
   "metadata": {},
   "outputs": [],
   "source": [
    "mult = mult.astype(np.float32)"
   ]
  },
  {
   "cell_type": "code",
   "execution_count": 106,
   "id": "17176ece",
   "metadata": {},
   "outputs": [
    {
     "name": "stdout",
     "output_type": "stream",
     "text": [
      "\n",
      "mult: 0.07 x 0.00 - 0.00  -- 0/0\n",
      "mult: 0.00 x 0.00 - 0.00  -- 1/6\n",
      "mult: 0.00 x 0.00 - 0.00  -- 2/12\n",
      "mult: 0.00 x 0.00 - 0.00  -- 3/18\n",
      "mult: 0.00 x 0.00 - 0.00  -- 4/24\n",
      "mult: 0.00 x 0.85 - 0.00  -- 5/30\n",
      "mult: 0.32 x 0.00 - 0.00  -- 6/36\n",
      "mult: 0.18 x 0.00 - 0.00  -- 7/42"
     ]
    },
    {
     "data": {
      "text/plain": [
       "<pyopencl._cl.NannyEvent at 0x7fe8500cb4a0>"
      ]
     },
     "execution_count": 106,
     "metadata": {},
     "output_type": "execute_result"
    }
   ],
   "source": [
    "res_buf = cl.Buffer(ctx, mf.READ_WRITE, np.prod([rows,b.shape[1]])*4)\n",
    "knl = prg.matmul0  # Use this Kernel object for repeated calls\n",
    "knl(queue, [rows,b.shape[1]], None, a_buf, b_buf2, res_buf, np.uint32(a.shape[1]))\n",
    "\n",
    "res_np = np.zeros([rows,b.shape[1]]).astype(np.float32)\n",
    "cl.enqueue_copy(queue, res_np, res_buf)"
   ]
  },
  {
   "cell_type": "code",
   "execution_count": 107,
   "id": "2e20ef7a",
   "metadata": {},
   "outputs": [
    {
     "data": {
      "text/plain": [
       "0.0"
      ]
     },
     "execution_count": 107,
     "metadata": {},
     "output_type": "execute_result"
    }
   ],
   "source": [
    "(res_np-mult).sum()"
   ]
  },
  {
   "cell_type": "code",
   "execution_count": 108,
   "id": "13304b53",
   "metadata": {},
   "outputs": [
    {
     "data": {
      "text/plain": [
       "array([[7.49979988e-02, 0.00000000e+00, 0.00000000e+00, 0.00000000e+00,\n",
       "        0.00000000e+00, 0.00000000e+00, 3.23663443e-01, 1.80248290e-01],\n",
       "       [0.00000000e+00, 7.37177134e-01, 1.67231306e-01, 5.75304449e-01,\n",
       "        0.00000000e+00, 0.00000000e+00, 0.00000000e+00, 0.00000000e+00],\n",
       "       [0.00000000e+00, 0.00000000e+00, 0.00000000e+00, 1.22499995e-01,\n",
       "        3.75247926e-01, 7.99822330e-01, 0.00000000e+00, 0.00000000e+00],\n",
       "       [0.00000000e+00, 4.02378827e-01, 6.48695767e-01, 0.00000000e+00,\n",
       "        5.74029225e-04, 0.00000000e+00, 0.00000000e+00, 0.00000000e+00]],\n",
       "      dtype=float32)"
      ]
     },
     "execution_count": 108,
     "metadata": {},
     "output_type": "execute_result"
    }
   ],
   "source": [
    "a"
   ]
  },
  {
   "cell_type": "code",
   "execution_count": 109,
   "id": "1678d389",
   "metadata": {},
   "outputs": [
    {
     "data": {
      "text/plain": [
       "array([[0.        , 0.04503985, 0.        , 0.        , 0.        ,\n",
       "        0.39591527],\n",
       "       [0.        , 0.13827148, 0.        , 0.        , 0.6585622 ,\n",
       "        0.        ],\n",
       "       [0.        , 0.67893606, 0.10766226, 0.        , 0.        ,\n",
       "        0.        ],\n",
       "       [0.        , 0.        , 0.        , 0.32545754, 0.        ,\n",
       "        0.29937434],\n",
       "       [0.        , 0.665272  , 0.40967163, 0.        , 0.        ,\n",
       "        0.        ],\n",
       "       [0.85070384, 0.        , 0.        , 0.        , 0.3361583 ,\n",
       "        0.        ],\n",
       "       [0.        , 0.        , 0.59939903, 0.        , 0.9370297 ,\n",
       "        0.        ],\n",
       "       [0.        , 0.        , 0.        , 0.38540342, 0.        ,\n",
       "        0.70285636]], dtype=float32)"
      ]
     },
     "execution_count": 109,
     "metadata": {},
     "output_type": "execute_result"
    }
   ],
   "source": [
    "b"
   ]
  },
  {
   "cell_type": "code",
   "execution_count": 110,
   "id": "6afa1b35",
   "metadata": {},
   "outputs": [
    {
     "data": {
      "text/plain": [
       "array([[0.        , 0.0033779 , 0.19400355, 0.06946831, 0.30328226,\n",
       "        0.15638152],\n",
       "       [0.        , 0.21546994, 0.0180045 , 0.18723717, 0.48547697,\n",
       "        0.17223139],\n",
       "       [0.68041193, 0.24964194, 0.15372843, 0.03986855, 0.26886693,\n",
       "        0.03667336],\n",
       "       [0.        , 0.49644235, 0.07007521, 0.        , 0.2649915 ,\n",
       "        0.        ]], dtype=float32)"
      ]
     },
     "execution_count": 110,
     "metadata": {},
     "output_type": "execute_result"
    }
   ],
   "source": [
    "res_np"
   ]
  },
  {
   "cell_type": "code",
   "execution_count": 111,
   "id": "16178e90",
   "metadata": {},
   "outputs": [
    {
     "data": {
      "text/plain": [
       "array([[0.        , 0.0033779 , 0.19400355, 0.06946831, 0.30328226,\n",
       "        0.15638152],\n",
       "       [0.        , 0.21546994, 0.0180045 , 0.18723717, 0.48547697,\n",
       "        0.17223139],\n",
       "       [0.68041193, 0.24964194, 0.15372843, 0.03986855, 0.26886693,\n",
       "        0.03667336],\n",
       "       [0.        , 0.49644235, 0.07007521, 0.        , 0.2649915 ,\n",
       "        0.        ]], dtype=float32)"
      ]
     },
     "execution_count": 111,
     "metadata": {},
     "output_type": "execute_result"
    }
   ],
   "source": [
    "a.dot(b)"
   ]
  },
  {
   "cell_type": "code",
   "execution_count": 112,
   "id": "4a9cd845",
   "metadata": {},
   "outputs": [
    {
     "data": {
      "text/plain": [
       "array([[ True,  True,  True,  True,  True,  True],\n",
       "       [ True,  True,  True,  True,  True,  True],\n",
       "       [ True,  True,  True,  True,  True,  True],\n",
       "       [ True,  True,  True,  True,  True,  True]])"
      ]
     },
     "execution_count": 112,
     "metadata": {},
     "output_type": "execute_result"
    }
   ],
   "source": [
    "res_np==mult"
   ]
  },
  {
   "cell_type": "code",
   "execution_count": 113,
   "id": "202bd173",
   "metadata": {},
   "outputs": [
    {
     "data": {
      "text/plain": [
       "(4, 6)"
      ]
     },
     "execution_count": 113,
     "metadata": {},
     "output_type": "execute_result"
    }
   ],
   "source": [
    "res_np.shape"
   ]
  },
  {
   "cell_type": "code",
   "execution_count": 114,
   "id": "31d97059",
   "metadata": {},
   "outputs": [
    {
     "data": {
      "text/plain": [
       "(4, 6)"
      ]
     },
     "execution_count": 114,
     "metadata": {},
     "output_type": "execute_result"
    }
   ],
   "source": [
    "mult.shape"
   ]
  },
  {
   "cell_type": "markdown",
   "id": "740ba01c",
   "metadata": {},
   "source": [
    "# Matmult Dense Transposed"
   ]
  },
  {
   "cell_type": "code",
   "execution_count": 115,
   "id": "62bd6037",
   "metadata": {},
   "outputs": [
    {
     "data": {
      "text/plain": [
       "array([[0.        , 0.04503985, 0.        , 0.        , 0.        ,\n",
       "        0.39591527],\n",
       "       [0.        , 0.13827148, 0.        , 0.        , 0.6585622 ,\n",
       "        0.        ],\n",
       "       [0.        , 0.67893606, 0.10766226, 0.        , 0.        ,\n",
       "        0.        ],\n",
       "       [0.        , 0.        , 0.        , 0.32545754, 0.        ,\n",
       "        0.29937434],\n",
       "       [0.        , 0.665272  , 0.40967163, 0.        , 0.        ,\n",
       "        0.        ],\n",
       "       [0.85070384, 0.        , 0.        , 0.        , 0.3361583 ,\n",
       "        0.        ],\n",
       "       [0.        , 0.        , 0.59939903, 0.        , 0.9370297 ,\n",
       "        0.        ],\n",
       "       [0.        , 0.        , 0.        , 0.38540342, 0.        ,\n",
       "        0.70285636]], dtype=float32)"
      ]
     },
     "execution_count": 115,
     "metadata": {},
     "output_type": "execute_result"
    }
   ],
   "source": [
    "b"
   ]
  },
  {
   "cell_type": "code",
   "execution_count": 116,
   "id": "dc2ef4a9",
   "metadata": {},
   "outputs": [],
   "source": [
    "c=np.zeros(b.T.shape)\n",
    "bt = b.T\n",
    "for row in range(bt.shape[0]):\n",
    "    for col in range(bt.shape[1]):\n",
    "        c[row][col] = bt[row][col]"
   ]
  },
  {
   "cell_type": "code",
   "execution_count": 117,
   "id": "75b0c726",
   "metadata": {},
   "outputs": [
    {
     "data": {
      "text/plain": [
       "array([[0.        , 0.        , 0.        , 0.        , 0.        ,\n",
       "        0.85070384, 0.        , 0.        ],\n",
       "       [0.04503985, 0.13827148, 0.67893606, 0.        , 0.665272  ,\n",
       "        0.        , 0.        , 0.        ],\n",
       "       [0.        , 0.        , 0.10766226, 0.        , 0.40967163,\n",
       "        0.        , 0.59939903, 0.        ],\n",
       "       [0.        , 0.        , 0.        , 0.32545754, 0.        ,\n",
       "        0.        , 0.        , 0.38540342],\n",
       "       [0.        , 0.6585622 , 0.        , 0.        , 0.        ,\n",
       "        0.3361583 , 0.9370297 , 0.        ],\n",
       "       [0.39591527, 0.        , 0.        , 0.29937434, 0.        ,\n",
       "        0.        , 0.        , 0.70285636]], dtype=float32)"
      ]
     },
     "execution_count": 117,
     "metadata": {},
     "output_type": "execute_result"
    }
   ],
   "source": [
    "bt"
   ]
  },
  {
   "cell_type": "code",
   "execution_count": 118,
   "id": "2de4c770",
   "metadata": {},
   "outputs": [
    {
     "data": {
      "text/plain": [
       "array([[0.        , 0.        , 0.        , 0.        , 0.        ,\n",
       "        0.85070384, 0.        , 0.        ],\n",
       "       [0.04503985, 0.13827148, 0.67893606, 0.        , 0.665272  ,\n",
       "        0.        , 0.        , 0.        ],\n",
       "       [0.        , 0.        , 0.10766226, 0.        , 0.40967163,\n",
       "        0.        , 0.59939903, 0.        ],\n",
       "       [0.        , 0.        , 0.        , 0.32545754, 0.        ,\n",
       "        0.        , 0.        , 0.38540342],\n",
       "       [0.        , 0.65856218, 0.        , 0.        , 0.        ,\n",
       "        0.33615831, 0.93702972, 0.        ],\n",
       "       [0.39591527, 0.        , 0.        , 0.29937434, 0.        ,\n",
       "        0.        , 0.        , 0.70285636]])"
      ]
     },
     "execution_count": 118,
     "metadata": {},
     "output_type": "execute_result"
    }
   ],
   "source": [
    "c"
   ]
  },
  {
   "cell_type": "code",
   "execution_count": 119,
   "id": "ca967ffe",
   "metadata": {},
   "outputs": [],
   "source": [
    "b_buf2 = cl.Buffer(ctx, mf.READ_WRITE | mf.COPY_HOST_PTR, hostbuf=c.astype(np.float32))\n",
    "a_buf = cl.Buffer(ctx, mf.READ_WRITE | mf.COPY_HOST_PTR, hostbuf=a)\n",
    "\n",
    "prg = cl.Program(ctx, \"\"\"\n",
    "    // multilplies x by y WITH Y TRANSPOSED INDEXING\n",
    "    __kernel void matmul0(__global  float* x,     // INPUT MATRIX DATA\n",
    "                          __global  float* y,    // INPUT\n",
    "                          __global  float* res,    // INPUT\n",
    "                          uint msize\n",
    "                          ) { // LOCAL SHARED BUFFER\n",
    "      uint isize = get_global_size(0);\n",
    "      uint osize = get_global_size(1);\n",
    "      int gidx = get_global_id(0); // row\n",
    "      int gidy = get_global_id(1); // col\n",
    "\n",
    "      float ret = 0.0;\n",
    "      for (int i = 0; i < msize; i++) {\n",
    "        uint xidx = gidx*msize+i;\n",
    "        float xval = x[xidx];\n",
    "        uint yidx = msize*gidy+i;\n",
    "        float yval = y[yidx];\n",
    "        ret += xval*yval;\n",
    "        if (gidx==0 && gidy==0)\n",
    "          printf(\"\\\\nmult: %.2f x %.2f - %.2f  -- %i/%i\", xval, yval, res, xidx, yidx);\n",
    "      }\n",
    "\n",
    "      //if (gidx==0&&gidy==0)\n",
    "      //  printf(\"\\\\nsum:%.2f\", ret);\n",
    "      res[gidx * osize + gidy] = ret;\n",
    "    }\"\"\").build()"
   ]
  },
  {
   "cell_type": "code",
   "execution_count": 120,
   "id": "a43dbb5d",
   "metadata": {},
   "outputs": [
    {
     "data": {
      "text/plain": [
       "((4, 8), (6, 8))"
      ]
     },
     "execution_count": 120,
     "metadata": {},
     "output_type": "execute_result"
    }
   ],
   "source": [
    "a.shape, b.T.shape"
   ]
  },
  {
   "cell_type": "code",
   "execution_count": 121,
   "id": "fde0973e",
   "metadata": {},
   "outputs": [],
   "source": [
    "rows = a.shape[0]"
   ]
  },
  {
   "cell_type": "code",
   "execution_count": 122,
   "id": "56c661f2",
   "metadata": {},
   "outputs": [],
   "source": [
    "mult = mult.astype(np.float32)"
   ]
  },
  {
   "cell_type": "code",
   "execution_count": 123,
   "id": "10b1d468",
   "metadata": {},
   "outputs": [
    {
     "data": {
      "text/plain": [
       "<pyopencl._cl.NannyEvent at 0x7fe8500cb040>"
      ]
     },
     "execution_count": 123,
     "metadata": {},
     "output_type": "execute_result"
    },
    {
     "name": "stdout",
     "output_type": "stream",
     "text": [
      "\n",
      "mult: 0.07 x 0.00 - 0.00  -- 0/0\n",
      "mult: 0.00 x 0.00 - 0.00  -- 1/1\n",
      "mult: 0.00 x 0.00 - 0.00  -- 2/2\n",
      "mult: 0.00 x 0.00 - 0.00  -- 3/3\n",
      "mult: 0.00 x 0.00 - 0.00  -- 4/4\n",
      "mult: 0.00 x 0.85 - 0.00  -- 5/5\n",
      "mult: 0.32 x 0.00 - 0.00  -- 6/6\n",
      "mult: 0.18 x 0.00 - 0.00  -- 7/7"
     ]
    }
   ],
   "source": [
    "res_buf = cl.Buffer(ctx, mf.READ_WRITE, np.prod([rows,b.shape[1]])*4)\n",
    "knl = prg.matmul0  # Use this Kernel object for repeated calls\n",
    "knl(queue, [rows,b.shape[1]], None, a_buf, b_buf2, res_buf, np.uint32(a.shape[1]))\n",
    "\n",
    "res_np = np.zeros([rows,b.shape[1]]).astype(np.float32)\n",
    "cl.enqueue_copy(queue, res_np, res_buf)"
   ]
  },
  {
   "cell_type": "code",
   "execution_count": 124,
   "id": "3791c36d",
   "metadata": {},
   "outputs": [
    {
     "data": {
      "text/plain": [
       "0.0"
      ]
     },
     "execution_count": 124,
     "metadata": {},
     "output_type": "execute_result"
    }
   ],
   "source": [
    "(res_np-mult).sum()"
   ]
  },
  {
   "cell_type": "code",
   "execution_count": 125,
   "id": "be02b18f",
   "metadata": {},
   "outputs": [
    {
     "data": {
      "text/plain": [
       "array([[7.49979988e-02, 0.00000000e+00, 0.00000000e+00, 0.00000000e+00,\n",
       "        0.00000000e+00, 0.00000000e+00, 3.23663443e-01, 1.80248290e-01],\n",
       "       [0.00000000e+00, 7.37177134e-01, 1.67231306e-01, 5.75304449e-01,\n",
       "        0.00000000e+00, 0.00000000e+00, 0.00000000e+00, 0.00000000e+00],\n",
       "       [0.00000000e+00, 0.00000000e+00, 0.00000000e+00, 1.22499995e-01,\n",
       "        3.75247926e-01, 7.99822330e-01, 0.00000000e+00, 0.00000000e+00],\n",
       "       [0.00000000e+00, 4.02378827e-01, 6.48695767e-01, 0.00000000e+00,\n",
       "        5.74029225e-04, 0.00000000e+00, 0.00000000e+00, 0.00000000e+00]],\n",
       "      dtype=float32)"
      ]
     },
     "execution_count": 125,
     "metadata": {},
     "output_type": "execute_result"
    }
   ],
   "source": [
    "a"
   ]
  },
  {
   "cell_type": "code",
   "execution_count": 126,
   "id": "7a112967",
   "metadata": {},
   "outputs": [
    {
     "data": {
      "text/plain": [
       "array([[0.        , 0.04503985, 0.        , 0.        , 0.        ,\n",
       "        0.39591527],\n",
       "       [0.        , 0.13827148, 0.        , 0.        , 0.6585622 ,\n",
       "        0.        ],\n",
       "       [0.        , 0.67893606, 0.10766226, 0.        , 0.        ,\n",
       "        0.        ],\n",
       "       [0.        , 0.        , 0.        , 0.32545754, 0.        ,\n",
       "        0.29937434],\n",
       "       [0.        , 0.665272  , 0.40967163, 0.        , 0.        ,\n",
       "        0.        ],\n",
       "       [0.85070384, 0.        , 0.        , 0.        , 0.3361583 ,\n",
       "        0.        ],\n",
       "       [0.        , 0.        , 0.59939903, 0.        , 0.9370297 ,\n",
       "        0.        ],\n",
       "       [0.        , 0.        , 0.        , 0.38540342, 0.        ,\n",
       "        0.70285636]], dtype=float32)"
      ]
     },
     "execution_count": 126,
     "metadata": {},
     "output_type": "execute_result"
    }
   ],
   "source": [
    "b"
   ]
  },
  {
   "cell_type": "code",
   "execution_count": 127,
   "id": "0bdbf257",
   "metadata": {},
   "outputs": [
    {
     "data": {
      "text/plain": [
       "array([[0.        , 0.0033779 , 0.19400355, 0.06946831, 0.30328226,\n",
       "        0.15638152],\n",
       "       [0.        , 0.21546994, 0.0180045 , 0.18723717, 0.48547697,\n",
       "        0.17223139],\n",
       "       [0.68041193, 0.24964194, 0.15372843, 0.03986855, 0.26886693,\n",
       "        0.03667336],\n",
       "       [0.        , 0.49644235, 0.07007521, 0.        , 0.2649915 ,\n",
       "        0.        ]], dtype=float32)"
      ]
     },
     "execution_count": 127,
     "metadata": {},
     "output_type": "execute_result"
    }
   ],
   "source": [
    "res_np"
   ]
  },
  {
   "cell_type": "code",
   "execution_count": 128,
   "id": "4e43e4c3",
   "metadata": {},
   "outputs": [
    {
     "data": {
      "text/plain": [
       "array([[0.        , 0.0033779 , 0.19400355, 0.06946831, 0.30328226,\n",
       "        0.15638152],\n",
       "       [0.        , 0.21546994, 0.0180045 , 0.18723717, 0.48547697,\n",
       "        0.17223139],\n",
       "       [0.68041193, 0.24964194, 0.15372843, 0.03986855, 0.26886693,\n",
       "        0.03667336],\n",
       "       [0.        , 0.49644235, 0.07007521, 0.        , 0.2649915 ,\n",
       "        0.        ]], dtype=float32)"
      ]
     },
     "execution_count": 128,
     "metadata": {},
     "output_type": "execute_result"
    }
   ],
   "source": [
    "a.dot(b)"
   ]
  },
  {
   "cell_type": "code",
   "execution_count": 129,
   "id": "fbe02272",
   "metadata": {},
   "outputs": [
    {
     "data": {
      "text/plain": [
       "array([[ True,  True,  True,  True,  True,  True],\n",
       "       [ True,  True,  True,  True,  True,  True],\n",
       "       [ True,  True,  True,  True,  True,  True],\n",
       "       [ True,  True,  True,  True,  True,  True]])"
      ]
     },
     "execution_count": 129,
     "metadata": {},
     "output_type": "execute_result"
    }
   ],
   "source": [
    "res_np==mult"
   ]
  },
  {
   "cell_type": "code",
   "execution_count": 130,
   "id": "bb6187da",
   "metadata": {},
   "outputs": [
    {
     "data": {
      "text/plain": [
       "(4, 6)"
      ]
     },
     "execution_count": 130,
     "metadata": {},
     "output_type": "execute_result"
    }
   ],
   "source": [
    "res_np.shape"
   ]
  },
  {
   "cell_type": "code",
   "execution_count": 131,
   "id": "af9e3da1",
   "metadata": {},
   "outputs": [
    {
     "data": {
      "text/plain": [
       "(4, 6)"
      ]
     },
     "execution_count": 131,
     "metadata": {},
     "output_type": "execute_result"
    }
   ],
   "source": [
    "mult.shape"
   ]
  },
  {
   "cell_type": "markdown",
   "id": "726b7e0f",
   "metadata": {},
   "source": [
    "# Matmult Transposed Dense"
   ]
  },
  {
   "cell_type": "code",
   "execution_count": 132,
   "id": "7adbefce",
   "metadata": {},
   "outputs": [
    {
     "data": {
      "text/plain": [
       "array([[0.        , 0.04503985, 0.        , 0.        , 0.        ,\n",
       "        0.39591527],\n",
       "       [0.        , 0.13827148, 0.        , 0.        , 0.6585622 ,\n",
       "        0.        ],\n",
       "       [0.        , 0.67893606, 0.10766226, 0.        , 0.        ,\n",
       "        0.        ],\n",
       "       [0.        , 0.        , 0.        , 0.32545754, 0.        ,\n",
       "        0.29937434],\n",
       "       [0.        , 0.665272  , 0.40967163, 0.        , 0.        ,\n",
       "        0.        ],\n",
       "       [0.85070384, 0.        , 0.        , 0.        , 0.3361583 ,\n",
       "        0.        ],\n",
       "       [0.        , 0.        , 0.59939903, 0.        , 0.9370297 ,\n",
       "        0.        ],\n",
       "       [0.        , 0.        , 0.        , 0.38540342, 0.        ,\n",
       "        0.70285636]], dtype=float32)"
      ]
     },
     "execution_count": 132,
     "metadata": {},
     "output_type": "execute_result"
    }
   ],
   "source": [
    "b"
   ]
  },
  {
   "cell_type": "code",
   "execution_count": 133,
   "id": "f9d3c30b",
   "metadata": {},
   "outputs": [],
   "source": [
    "c=np.zeros(a.T.shape)\n",
    "at = a.T\n",
    "for row in range(at.shape[0]):\n",
    "    for col in range(at.shape[1]):\n",
    "        c[row][col] = at[row][col]"
   ]
  },
  {
   "cell_type": "code",
   "execution_count": 134,
   "id": "4caaa1df",
   "metadata": {},
   "outputs": [
    {
     "data": {
      "text/plain": [
       "array([[7.49979988e-02, 0.00000000e+00, 0.00000000e+00, 0.00000000e+00],\n",
       "       [0.00000000e+00, 7.37177134e-01, 0.00000000e+00, 4.02378827e-01],\n",
       "       [0.00000000e+00, 1.67231306e-01, 0.00000000e+00, 6.48695767e-01],\n",
       "       [0.00000000e+00, 5.75304449e-01, 1.22499995e-01, 0.00000000e+00],\n",
       "       [0.00000000e+00, 0.00000000e+00, 3.75247926e-01, 5.74029225e-04],\n",
       "       [0.00000000e+00, 0.00000000e+00, 7.99822330e-01, 0.00000000e+00],\n",
       "       [3.23663443e-01, 0.00000000e+00, 0.00000000e+00, 0.00000000e+00],\n",
       "       [1.80248290e-01, 0.00000000e+00, 0.00000000e+00, 0.00000000e+00]],\n",
       "      dtype=float32)"
      ]
     },
     "execution_count": 134,
     "metadata": {},
     "output_type": "execute_result"
    }
   ],
   "source": [
    "at"
   ]
  },
  {
   "cell_type": "code",
   "execution_count": 135,
   "id": "bc2e5522",
   "metadata": {},
   "outputs": [
    {
     "data": {
      "text/plain": [
       "array([[7.49979988e-02, 0.00000000e+00, 0.00000000e+00, 0.00000000e+00],\n",
       "       [0.00000000e+00, 7.37177134e-01, 0.00000000e+00, 4.02378827e-01],\n",
       "       [0.00000000e+00, 1.67231306e-01, 0.00000000e+00, 6.48695767e-01],\n",
       "       [0.00000000e+00, 5.75304449e-01, 1.22499995e-01, 0.00000000e+00],\n",
       "       [0.00000000e+00, 0.00000000e+00, 3.75247926e-01, 5.74029225e-04],\n",
       "       [0.00000000e+00, 0.00000000e+00, 7.99822330e-01, 0.00000000e+00],\n",
       "       [3.23663443e-01, 0.00000000e+00, 0.00000000e+00, 0.00000000e+00],\n",
       "       [1.80248290e-01, 0.00000000e+00, 0.00000000e+00, 0.00000000e+00]])"
      ]
     },
     "execution_count": 135,
     "metadata": {},
     "output_type": "execute_result"
    }
   ],
   "source": [
    "c"
   ]
  },
  {
   "cell_type": "code",
   "execution_count": 136,
   "id": "ca096192",
   "metadata": {},
   "outputs": [],
   "source": [
    "a_buf = cl.Buffer(ctx, mf.READ_WRITE | mf.COPY_HOST_PTR, hostbuf=c.astype(np.float32))\n",
    "b_buf = cl.Buffer(ctx, mf.READ_WRITE | mf.COPY_HOST_PTR, hostbuf=b)\n",
    "\n",
    "prg = cl.Program(ctx, \"\"\"\n",
    "    // multilplies x TRANSPOSED by y (dense-dense)\n",
    "    __kernel void matmul0(__global  float* x,     // INPUT MATRIX DATA\n",
    "                          __global  float* y,    // INPUT\n",
    "                          __global  float* res,    // INPUT\n",
    "                          uint msize,\n",
    "                          uint isize\n",
    "                          ) { // LOCAL SHARED BUFFER\n",
    "      uint osize = get_global_size(0);\n",
    "      int gidy = get_global_id(0); // row\n",
    "      \n",
    "      for (uint gidx = 0; gidx < isize; gidx++) {\n",
    "        float ret = 0.0;\n",
    "        for (uint i = 0; i < msize; i++) {\n",
    "          uint xidx = i*isize+gidx;\n",
    "          float xval = x[xidx];\n",
    "          uint yidx = osize*i+gidy;\n",
    "          float yval = y[yidx];\n",
    "          ret += xval*yval;\n",
    "          if (gidx==0 && gidy==0)\n",
    "            printf(\"\\\\nmult: %.2f x %.2f - %.2f  -- %i/%i\", xval, yval, ret, xidx, yidx);\n",
    "        }\n",
    "        //if (gidx==0&&gidy==0)\n",
    "        //  printf(\"\\\\nsum:%.2f\", ret);\n",
    "        res[gidx * osize + gidy] = ret;\n",
    "      }\n",
    "    }\"\"\").build()"
   ]
  },
  {
   "cell_type": "code",
   "execution_count": 137,
   "id": "6bcc4256",
   "metadata": {},
   "outputs": [
    {
     "data": {
      "text/plain": [
       "((4, 8), (6, 8))"
      ]
     },
     "execution_count": 137,
     "metadata": {},
     "output_type": "execute_result"
    }
   ],
   "source": [
    "a.shape, b.T.shape"
   ]
  },
  {
   "cell_type": "code",
   "execution_count": 138,
   "id": "81be729b",
   "metadata": {},
   "outputs": [],
   "source": [
    "rows = a.shape[0]"
   ]
  },
  {
   "cell_type": "code",
   "execution_count": 139,
   "id": "e17d0d40",
   "metadata": {},
   "outputs": [],
   "source": [
    "mult = mult.astype(np.float32)"
   ]
  },
  {
   "cell_type": "code",
   "execution_count": 140,
   "id": "5d469907",
   "metadata": {},
   "outputs": [
    {
     "name": "stdout",
     "output_type": "stream",
     "text": [
      "\n",
      "mult: 0.07 x 0.00 - 0.00  -- 0/0\n",
      "mult: 0.00 x 0.00 - 0.00  -- 4/6\n",
      "mult: 0.00 x 0.00 - 0.00  -- 8/12\n",
      "mult: 0.00 x 0.00 - 0.00  -- 12/18\n",
      "mult: 0.00 x 0.00 - 0.00  -- 16/24\n",
      "mult: 0.00 x 0.85 - 0.00  -- 20/30\n",
      "mult: 0.32 x 0.00 - 0.00  -- 24/36\n",
      "mult: 0.18 x 0.00 - 0.00  -- 28/42"
     ]
    },
    {
     "data": {
      "text/plain": [
       "<pyopencl._cl.NannyEvent at 0x7fe8500c9ef0>"
      ]
     },
     "execution_count": 140,
     "metadata": {},
     "output_type": "execute_result"
    }
   ],
   "source": [
    "res_buf = cl.Buffer(ctx, mf.READ_WRITE, np.prod([rows,b.shape[1]])*4)\n",
    "knl = prg.matmul0  # Use this Kernel object for repeated calls\n",
    "knl(queue, [b.shape[1]], None, a_buf, b_buf, res_buf, np.uint32(a.shape[1]), np.uint32(rows))\n",
    "\n",
    "res_np = np.zeros([rows,b.shape[1]]).astype(np.float32)\n",
    "cl.enqueue_copy(queue, res_np, res_buf)"
   ]
  },
  {
   "cell_type": "code",
   "execution_count": 141,
   "id": "c7ca806a",
   "metadata": {},
   "outputs": [
    {
     "data": {
      "text/plain": [
       "0.0"
      ]
     },
     "execution_count": 141,
     "metadata": {},
     "output_type": "execute_result"
    }
   ],
   "source": [
    "(res_np-mult).sum()"
   ]
  },
  {
   "cell_type": "code",
   "execution_count": 142,
   "id": "067cf8fc",
   "metadata": {},
   "outputs": [
    {
     "data": {
      "text/plain": [
       "array([[7.49979988e-02, 0.00000000e+00, 0.00000000e+00, 0.00000000e+00,\n",
       "        0.00000000e+00, 0.00000000e+00, 3.23663443e-01, 1.80248290e-01],\n",
       "       [0.00000000e+00, 7.37177134e-01, 1.67231306e-01, 5.75304449e-01,\n",
       "        0.00000000e+00, 0.00000000e+00, 0.00000000e+00, 0.00000000e+00],\n",
       "       [0.00000000e+00, 0.00000000e+00, 0.00000000e+00, 1.22499995e-01,\n",
       "        3.75247926e-01, 7.99822330e-01, 0.00000000e+00, 0.00000000e+00],\n",
       "       [0.00000000e+00, 4.02378827e-01, 6.48695767e-01, 0.00000000e+00,\n",
       "        5.74029225e-04, 0.00000000e+00, 0.00000000e+00, 0.00000000e+00]],\n",
       "      dtype=float32)"
      ]
     },
     "execution_count": 142,
     "metadata": {},
     "output_type": "execute_result"
    }
   ],
   "source": [
    "a"
   ]
  },
  {
   "cell_type": "code",
   "execution_count": 143,
   "id": "0fd446e8",
   "metadata": {},
   "outputs": [
    {
     "data": {
      "text/plain": [
       "array([[0.        , 0.04503985, 0.        , 0.        , 0.        ,\n",
       "        0.39591527],\n",
       "       [0.        , 0.13827148, 0.        , 0.        , 0.6585622 ,\n",
       "        0.        ],\n",
       "       [0.        , 0.67893606, 0.10766226, 0.        , 0.        ,\n",
       "        0.        ],\n",
       "       [0.        , 0.        , 0.        , 0.32545754, 0.        ,\n",
       "        0.29937434],\n",
       "       [0.        , 0.665272  , 0.40967163, 0.        , 0.        ,\n",
       "        0.        ],\n",
       "       [0.85070384, 0.        , 0.        , 0.        , 0.3361583 ,\n",
       "        0.        ],\n",
       "       [0.        , 0.        , 0.59939903, 0.        , 0.9370297 ,\n",
       "        0.        ],\n",
       "       [0.        , 0.        , 0.        , 0.38540342, 0.        ,\n",
       "        0.70285636]], dtype=float32)"
      ]
     },
     "execution_count": 143,
     "metadata": {},
     "output_type": "execute_result"
    }
   ],
   "source": [
    "b"
   ]
  },
  {
   "cell_type": "code",
   "execution_count": 144,
   "id": "334f65af",
   "metadata": {},
   "outputs": [
    {
     "data": {
      "text/plain": [
       "array([[0.        , 0.0033779 , 0.19400355, 0.06946831, 0.30328226,\n",
       "        0.15638152],\n",
       "       [0.        , 0.21546994, 0.0180045 , 0.18723717, 0.48547697,\n",
       "        0.17223139],\n",
       "       [0.68041193, 0.24964194, 0.15372843, 0.03986855, 0.26886693,\n",
       "        0.03667336],\n",
       "       [0.        , 0.49644235, 0.07007521, 0.        , 0.2649915 ,\n",
       "        0.        ]], dtype=float32)"
      ]
     },
     "execution_count": 144,
     "metadata": {},
     "output_type": "execute_result"
    }
   ],
   "source": [
    "res_np"
   ]
  },
  {
   "cell_type": "code",
   "execution_count": 145,
   "id": "c588082c",
   "metadata": {},
   "outputs": [
    {
     "data": {
      "text/plain": [
       "array([[0.        , 0.0033779 , 0.19400355, 0.06946831, 0.30328226,\n",
       "        0.15638152],\n",
       "       [0.        , 0.21546994, 0.0180045 , 0.18723717, 0.48547697,\n",
       "        0.17223139],\n",
       "       [0.68041193, 0.24964194, 0.15372843, 0.03986855, 0.26886693,\n",
       "        0.03667336],\n",
       "       [0.        , 0.49644235, 0.07007521, 0.        , 0.2649915 ,\n",
       "        0.        ]], dtype=float32)"
      ]
     },
     "execution_count": 145,
     "metadata": {},
     "output_type": "execute_result"
    }
   ],
   "source": [
    "a.dot(b)"
   ]
  },
  {
   "cell_type": "code",
   "execution_count": 146,
   "id": "e6187e1f",
   "metadata": {},
   "outputs": [
    {
     "data": {
      "text/plain": [
       "array([[ True,  True,  True,  True,  True,  True],\n",
       "       [ True,  True,  True,  True,  True,  True],\n",
       "       [ True,  True,  True,  True,  True,  True],\n",
       "       [ True,  True,  True,  True,  True,  True]])"
      ]
     },
     "execution_count": 146,
     "metadata": {},
     "output_type": "execute_result"
    }
   ],
   "source": [
    "res_np==mult"
   ]
  },
  {
   "cell_type": "code",
   "execution_count": 147,
   "id": "eb36e476",
   "metadata": {},
   "outputs": [
    {
     "data": {
      "text/plain": [
       "(4, 6)"
      ]
     },
     "execution_count": 147,
     "metadata": {},
     "output_type": "execute_result"
    }
   ],
   "source": [
    "res_np.shape"
   ]
  },
  {
   "cell_type": "code",
   "execution_count": 148,
   "id": "7e406268",
   "metadata": {},
   "outputs": [
    {
     "data": {
      "text/plain": [
       "(4, 6)"
      ]
     },
     "execution_count": 148,
     "metadata": {},
     "output_type": "execute_result"
    }
   ],
   "source": [
    "mult.shape"
   ]
  },
  {
   "cell_type": "markdown",
   "id": "59835b7e",
   "metadata": {},
   "source": [
    "# Matmult Dense Transposed2"
   ]
  },
  {
   "cell_type": "code",
   "execution_count": 149,
   "id": "4a6954ad",
   "metadata": {},
   "outputs": [],
   "source": [
    "b_buf2 = cl.Buffer(ctx, mf.READ_WRITE | mf.COPY_HOST_PTR, hostbuf=b)\n",
    "a_buf = cl.Buffer(ctx, mf.READ_WRITE | mf.COPY_HOST_PTR, hostbuf=a)\n",
    "\n",
    "prg = cl.Program(ctx, \"\"\"\n",
    "    // multilplies x by y WITH Y TRANSPOSED INDEXING\n",
    "    __kernel void matmul0(__global  float* x,     // INPUT MATRIX DATA\n",
    "                          __global  float* y,    // INPUT\n",
    "                          __global  float* res,    // INPUT\n",
    "                          uint msize,\n",
    "                          uint osize\n",
    "                          ) { // LOCAL SHARED BUFFER\n",
    "      uint isize = get_global_size(0);\n",
    "      // osize = get_global_size(1);\n",
    "      int gidx = get_global_id(0); // col\n",
    "      // int gidy = get_global_id(1); // row\n",
    "\n",
    "      for (uint gidy = 0; gidy < osize; gidy++) {\n",
    "        float ret = 0.0;\n",
    "        for (uint i = 0; i < msize; i++) {\n",
    "          ret += x[gidx*msize+i]*y[i*osize+gidy];\n",
    "          if (gidx==0 && gidy==0)\n",
    "            printf(\"\\\\nmult: %.2f x %.2f - %.2f\", x[gidx*msize+i],y[i*msize+gidy], ret);\n",
    "        }\n",
    "\n",
    "        //if (gidx==0&&gidy==0)\n",
    "        //  printf(\"\\\\nsum:%.2f\", ret);\n",
    "        res[gidx * osize + gidy] = ret;\n",
    "      }\n",
    "    }\"\"\").build()"
   ]
  },
  {
   "cell_type": "code",
   "execution_count": 150,
   "id": "c8a9728b",
   "metadata": {},
   "outputs": [
    {
     "data": {
      "text/plain": [
       "((4, 8), (8, 6))"
      ]
     },
     "execution_count": 150,
     "metadata": {},
     "output_type": "execute_result"
    }
   ],
   "source": [
    "a.shape, b.shape"
   ]
  },
  {
   "cell_type": "code",
   "execution_count": 151,
   "id": "af31f5a8",
   "metadata": {},
   "outputs": [],
   "source": [
    "res = np.zeros(a.shape[0]).astype(np.float32)\n",
    "#res"
   ]
  },
  {
   "cell_type": "code",
   "execution_count": 152,
   "id": "bfe05099",
   "metadata": {},
   "outputs": [],
   "source": [
    "rows = a.shape[0]"
   ]
  },
  {
   "cell_type": "code",
   "execution_count": 153,
   "id": "f468303a",
   "metadata": {},
   "outputs": [],
   "source": [
    "mult = mult.astype(np.float32)"
   ]
  },
  {
   "cell_type": "code",
   "execution_count": 154,
   "id": "3be17413",
   "metadata": {},
   "outputs": [
    {
     "name": "stdout",
     "output_type": "stream",
     "text": [
      "\n",
      "mult: 0.07 x 0.00 - 0.00\n",
      "mult: 0.00 x 0.00 - 0.00\n",
      "mult: 0.00 x 0.00 - 0.00\n",
      "mult: 0.00 x 0.00 - 0.00\n",
      "mult: 0.00 x 0.00 - 0.00\n",
      "mult: 0.00 x 0.94 - 0.00\n",
      "mult: 0.32 x 0.00 - 0.00\n",
      "mult: 0.18 x 0.00 - 0.00"
     ]
    },
    {
     "data": {
      "text/plain": [
       "<pyopencl._cl.NannyEvent at 0x7fe8500f0680>"
      ]
     },
     "execution_count": 154,
     "metadata": {},
     "output_type": "execute_result"
    }
   ],
   "source": [
    "res_buf = cl.Buffer(ctx, mf.READ_WRITE, np.prod([rows,b.shape[1]])*4)\n",
    "knl = prg.matmul0  # Use this Kernel object for repeated calls\n",
    "knl(queue, [rows], None, a_buf, b_buf2, res_buf, np.uint32(a.shape[1]), np.uint32(b.shape[1]))\n",
    "\n",
    "res_np = np.zeros([rows,b.shape[1]]).astype(np.float32)\n",
    "cl.enqueue_copy(queue, res_np, res_buf)"
   ]
  },
  {
   "cell_type": "code",
   "execution_count": 155,
   "id": "49f1bc06",
   "metadata": {},
   "outputs": [
    {
     "data": {
      "text/plain": [
       "0.0"
      ]
     },
     "execution_count": 155,
     "metadata": {},
     "output_type": "execute_result"
    }
   ],
   "source": [
    "(res_np-mult).sum()"
   ]
  },
  {
   "cell_type": "code",
   "execution_count": 156,
   "id": "b721089a",
   "metadata": {},
   "outputs": [
    {
     "data": {
      "text/plain": [
       "array([[7.49979988e-02, 0.00000000e+00, 0.00000000e+00, 0.00000000e+00,\n",
       "        0.00000000e+00, 0.00000000e+00, 3.23663443e-01, 1.80248290e-01],\n",
       "       [0.00000000e+00, 7.37177134e-01, 1.67231306e-01, 5.75304449e-01,\n",
       "        0.00000000e+00, 0.00000000e+00, 0.00000000e+00, 0.00000000e+00],\n",
       "       [0.00000000e+00, 0.00000000e+00, 0.00000000e+00, 1.22499995e-01,\n",
       "        3.75247926e-01, 7.99822330e-01, 0.00000000e+00, 0.00000000e+00],\n",
       "       [0.00000000e+00, 4.02378827e-01, 6.48695767e-01, 0.00000000e+00,\n",
       "        5.74029225e-04, 0.00000000e+00, 0.00000000e+00, 0.00000000e+00]],\n",
       "      dtype=float32)"
      ]
     },
     "execution_count": 156,
     "metadata": {},
     "output_type": "execute_result"
    }
   ],
   "source": [
    "a"
   ]
  },
  {
   "cell_type": "code",
   "execution_count": 157,
   "id": "a03001f2",
   "metadata": {},
   "outputs": [
    {
     "data": {
      "text/plain": [
       "array([[0.        , 0.        , 0.        , 0.        , 0.        ,\n",
       "        0.85070384, 0.        , 0.        ],\n",
       "       [0.04503985, 0.13827148, 0.67893606, 0.        , 0.665272  ,\n",
       "        0.        , 0.        , 0.        ],\n",
       "       [0.        , 0.        , 0.10766226, 0.        , 0.40967163,\n",
       "        0.        , 0.59939903, 0.        ],\n",
       "       [0.        , 0.        , 0.        , 0.32545754, 0.        ,\n",
       "        0.        , 0.        , 0.38540342],\n",
       "       [0.        , 0.6585622 , 0.        , 0.        , 0.        ,\n",
       "        0.3361583 , 0.9370297 , 0.        ],\n",
       "       [0.39591527, 0.        , 0.        , 0.29937434, 0.        ,\n",
       "        0.        , 0.        , 0.70285636]], dtype=float32)"
      ]
     },
     "execution_count": 157,
     "metadata": {},
     "output_type": "execute_result"
    }
   ],
   "source": [
    "b.T"
   ]
  },
  {
   "cell_type": "code",
   "execution_count": 158,
   "id": "7b5dd59e",
   "metadata": {},
   "outputs": [
    {
     "data": {
      "text/plain": [
       "array([0.074998  , 0.        , 0.        , 0.        , 0.        ,\n",
       "       0.        , 0.32366344, 0.18024829], dtype=float32)"
      ]
     },
     "execution_count": 158,
     "metadata": {},
     "output_type": "execute_result"
    }
   ],
   "source": [
    "a[0]"
   ]
  },
  {
   "cell_type": "code",
   "execution_count": 159,
   "id": "d8c0f986",
   "metadata": {},
   "outputs": [
    {
     "data": {
      "text/plain": [
       "array([0.        , 0.        , 0.        , 0.        , 0.        ,\n",
       "       0.85070384, 0.        , 0.        ], dtype=float32)"
      ]
     },
     "execution_count": 159,
     "metadata": {},
     "output_type": "execute_result"
    }
   ],
   "source": [
    "b.T[0]"
   ]
  },
  {
   "cell_type": "code",
   "execution_count": 160,
   "id": "94c47d91",
   "metadata": {},
   "outputs": [
    {
     "data": {
      "text/plain": [
       "<pyopencl._cl.Buffer at 0x7fe85007c590>"
      ]
     },
     "execution_count": 160,
     "metadata": {},
     "output_type": "execute_result"
    }
   ],
   "source": [
    "res_buf"
   ]
  },
  {
   "cell_type": "code",
   "execution_count": 161,
   "id": "8776a0a7",
   "metadata": {},
   "outputs": [
    {
     "data": {
      "text/plain": [
       "array([[0.        , 0.0033779 , 0.19400355, 0.06946831, 0.30328226,\n",
       "        0.15638152],\n",
       "       [0.        , 0.21546994, 0.0180045 , 0.18723717, 0.48547697,\n",
       "        0.17223139],\n",
       "       [0.68041193, 0.24964194, 0.15372843, 0.03986855, 0.26886693,\n",
       "        0.03667336],\n",
       "       [0.        , 0.49644235, 0.07007521, 0.        , 0.2649915 ,\n",
       "        0.        ]], dtype=float32)"
      ]
     },
     "execution_count": 161,
     "metadata": {},
     "output_type": "execute_result"
    }
   ],
   "source": [
    "res_np"
   ]
  },
  {
   "cell_type": "code",
   "execution_count": 162,
   "id": "46dca274",
   "metadata": {},
   "outputs": [
    {
     "data": {
      "text/plain": [
       "array([[0.        , 0.0033779 , 0.19400355, 0.06946831, 0.30328226,\n",
       "        0.15638152],\n",
       "       [0.        , 0.21546994, 0.0180045 , 0.18723717, 0.48547697,\n",
       "        0.17223139],\n",
       "       [0.68041193, 0.24964194, 0.15372843, 0.03986855, 0.26886693,\n",
       "        0.03667336],\n",
       "       [0.        , 0.49644235, 0.07007521, 0.        , 0.2649915 ,\n",
       "        0.        ]], dtype=float32)"
      ]
     },
     "execution_count": 162,
     "metadata": {},
     "output_type": "execute_result"
    }
   ],
   "source": [
    "a.dot(b)"
   ]
  },
  {
   "cell_type": "code",
   "execution_count": 163,
   "id": "4641cdcc",
   "metadata": {},
   "outputs": [
    {
     "data": {
      "text/plain": [
       "array([[ True,  True,  True,  True,  True,  True],\n",
       "       [ True,  True,  True,  True,  True,  True],\n",
       "       [ True,  True,  True,  True,  True,  True],\n",
       "       [ True,  True,  True,  True,  True,  True]])"
      ]
     },
     "execution_count": 163,
     "metadata": {},
     "output_type": "execute_result"
    }
   ],
   "source": [
    "res_np==mult"
   ]
  },
  {
   "cell_type": "code",
   "execution_count": 164,
   "id": "5b55f104",
   "metadata": {},
   "outputs": [
    {
     "data": {
      "text/plain": [
       "(4, 6)"
      ]
     },
     "execution_count": 164,
     "metadata": {},
     "output_type": "execute_result"
    }
   ],
   "source": [
    "res_np.shape"
   ]
  },
  {
   "cell_type": "code",
   "execution_count": 165,
   "id": "84122d03",
   "metadata": {},
   "outputs": [
    {
     "data": {
      "text/plain": [
       "(4, 6)"
      ]
     },
     "execution_count": 165,
     "metadata": {},
     "output_type": "execute_result"
    }
   ],
   "source": [
    "mult.shape"
   ]
  },
  {
   "cell_type": "markdown",
   "id": "b3ad7225",
   "metadata": {},
   "source": [
    "## Weight update kernel"
   ]
  },
  {
   "cell_type": "code",
   "execution_count": 166,
   "id": "a5138cee",
   "metadata": {},
   "outputs": [],
   "source": [
    "bs = 4"
   ]
  },
  {
   "cell_type": "code",
   "execution_count": 167,
   "id": "ae5eb8aa",
   "metadata": {},
   "outputs": [
    {
     "data": {
      "text/plain": [
       "array([[7.49979988e-02, 0.00000000e+00, 0.00000000e+00, 0.00000000e+00,\n",
       "        0.00000000e+00, 0.00000000e+00, 3.23663443e-01, 1.80248290e-01],\n",
       "       [0.00000000e+00, 7.37177134e-01, 1.67231306e-01, 5.75304449e-01,\n",
       "        0.00000000e+00, 0.00000000e+00, 0.00000000e+00, 0.00000000e+00],\n",
       "       [0.00000000e+00, 0.00000000e+00, 0.00000000e+00, 1.22499995e-01,\n",
       "        3.75247926e-01, 7.99822330e-01, 0.00000000e+00, 0.00000000e+00],\n",
       "       [0.00000000e+00, 4.02378827e-01, 6.48695767e-01, 0.00000000e+00,\n",
       "        5.74029225e-04, 0.00000000e+00, 0.00000000e+00, 0.00000000e+00]],\n",
       "      dtype=float32)"
      ]
     },
     "execution_count": 167,
     "metadata": {},
     "output_type": "execute_result"
    }
   ],
   "source": [
    "a"
   ]
  },
  {
   "cell_type": "code",
   "execution_count": 168,
   "id": "76e44e2d",
   "metadata": {},
   "outputs": [
    {
     "data": {
      "text/plain": [
       "((4, 8), (4, 8), 2)"
      ]
     },
     "execution_count": 168,
     "metadata": {},
     "output_type": "execute_result"
    }
   ],
   "source": [
    "dim = 8\n",
    "topk = 2\n",
    "\n",
    "x = np.random.rand(bs,dim).astype(np.float32)\n",
    "y = np.random.rand(bs,dim).astype(np.float32)\n",
    "x.shape,y.shape, topk"
   ]
  },
  {
   "cell_type": "markdown",
   "id": "de5e3e5e",
   "metadata": {},
   "source": [
    "x_buf = cl.Buffer(ctx, mf.READ_ONLY | mf.COPY_HOST_PTR, hostbuf=x)\n",
    "y_buf = cl.Buffer(ctx, mf.READ_ONLY | mf.COPY_HOST_PTR, hostbuf=y)\n",
    "x_cp_buf = cl.Buffer(ctx, mf.WRITE_ONLY, bs*topk*topk*4)\n",
    "x_idx_buf = cl.Buffer(ctx, mf.WRITE_ONLY, bs*topk*4)\n",
    "y_idx_buf = cl.Buffer(ctx, mf.WRITE_ONLY, bs*topk*4)\n",
    "\n",
    "prg = cl.Program(ctx, \"\"\"\n",
    "    // sorts x and y in ascending order and returns sorted indices\n",
    "    __kernel void genwupdate2(__global  float* x,     // INPUT MATRIX DATA\n",
    "                             __global  float* y,    // INPUT\n",
    "                             __global  float* xout,    // INPUT\n",
    "                             uint topk,\n",
    "                             __global  uint* xoutidx,    // INPUT\n",
    "                             __global  uint* youtidx    // INPUT\n",
    "                            ) { // LOCAL SHARED BUFFER\n",
    "      uint gid = get_global_id(0);\n",
    "      uint n = get_global_size(0);\n",
    "      uint bs = get_global_size(1);\n",
    "      uint gid2 = get_global_id(1);\n",
    "\n",
    "      uint idx = n*gid2+gid;\n",
    "\n",
    "      float valx = x[idx];\n",
    "      float valy = y[idx];\n",
    "      uint posx = 0;\n",
    "      uint posy = 0;\n",
    "      for (uint i = 0; i < n; i++) {\n",
    "        uint idx2 = n*gid2+i;\n",
    "        float tempval = x[idx2];\n",
    "        float tempval2 = y[idx2];\n",
    "        bool larger = tempval > valx;\n",
    "        bool larger2 = tempval2 > valy;\n",
    "\n",
    "        barrier(CLK_GLOBAL_MEM_FENCE);\n",
    "        posx += (larger)?1:0;\n",
    "        posy += (larger2)?1:0;\n",
    "        barrier(CLK_GLOBAL_MEM_FENCE);\n",
    "      }\n",
    "      barrier(CLK_GLOBAL_MEM_FENCE);\n",
    "      //printf(\"posx:%i\", posx);\n",
    "      if (posx < topk) {\n",
    "        xoutidx[posx+topk*gid2] = gid;\n",
    "      }\n",
    "      if (posy < topk) {\n",
    "        youtidx[posy+topk*gid2] = gid;\n",
    "      }\n",
    "      barrier(CLK_GLOBAL_MEM_FENCE);\n",
    "      if (gid < topk) {\n",
    "        for (uint j=0; j<topk; j++) {\n",
    "          float res = x[xoutidx[gid+topk*gid2]+gid2*n] * y[youtidx[j+topk*gid2]+gid2*n];\n",
    "          //printf(\"\\\\nJ:%i  gid:%i\", j, gid);\n",
    "          //printf(\"\\\\nRES:%.2f - %i - %i -  %.2f - %.2f\",res, xoutidx[gid+topk*gid2], youtidx[j+topk*gid2], x[xoutidx[gid+topk*gid2]+gid2*n], y[youtidx[j+topk*gid2]+gid2*n]);\n",
    "          barrier(CLK_GLOBAL_MEM_FENCE);\n",
    "          xout[gid2*topk*topk+j*topk+gid] = res;\n",
    "          barrier(CLK_GLOBAL_MEM_FENCE);\n",
    "          \n",
    "        }\n",
    "      }\n",
    "      barrier(CLK_GLOBAL_MEM_FENCE);\n",
    "    }\"\"\").build()"
   ]
  },
  {
   "cell_type": "code",
   "execution_count": 169,
   "id": "88864470",
   "metadata": {},
   "outputs": [],
   "source": [
    "x_buf = cl.Buffer(ctx, mf.READ_ONLY | mf.COPY_HOST_PTR, hostbuf=x)\n",
    "y_buf = cl.Buffer(ctx, mf.READ_ONLY | mf.COPY_HOST_PTR, hostbuf=y)\n",
    "x_cp_buf = cl.Buffer(ctx, mf.WRITE_ONLY, bs*topk*topk*4)\n",
    "x_idx_buf = cl.Buffer(ctx, mf.WRITE_ONLY, bs*topk*4)\n",
    "y_idx_buf = cl.Buffer(ctx, mf.WRITE_ONLY, bs*topk*4)\n",
    "#x_cp_buft = cl.Buffer(ctx, mf.WRITE_ONLY, bs*topk*topk*4)\n",
    "#x_idx_buft = cl.Buffer(ctx, mf.WRITE_ONLY, bs*topk*4)\n",
    "#y_idx_buft = cl.Buffer(ctx, mf.WRITE_ONLY, bs*topk*4)\n",
    "\n",
    "prg = cl.Program(ctx, \"\"\"\n",
    "    // sorts x and y in ascending order and returns sorted indices\n",
    "    __kernel void genwupdate2(__global  float* x,     // INPUT MATRIX DATA\n",
    "                             __global  float* y,    // INPUT\n",
    "                             __global  float* xout,    // INPUT\n",
    "                             uint topk,\n",
    "                             uint bs,\n",
    "                             __global  uint* xoutidx,    // INPUT\n",
    "                             __global  uint* youtidx    // INPUT\n",
    "                            ) { // LOCAL SHARED BUFFER\n",
    "      uint gid = get_global_id(0);\n",
    "      uint n = get_global_size(0);\n",
    "      //uint bs = get_global_size(1);\n",
    "      //uint gid2 = get_global_id(1);\n",
    "\n",
    "      for (uint gid2=0; gid2<bs; gid2++){\n",
    "        uint idx = n*gid2+gid;\n",
    "\n",
    "        float valx = x[idx];\n",
    "        float valy = y[idx];\n",
    "        uint posx = 0;\n",
    "        uint posy = 0;\n",
    "        for (uint i = 0; i < n; i++) {\n",
    "          uint idx2 = n*gid2+i;\n",
    "          float tempval = x[idx2];\n",
    "          float tempval2 = y[idx2];\n",
    "          bool larger = tempval > valx;\n",
    "          bool larger2 = tempval2 > valy;\n",
    "\n",
    "          posx += (larger)?1:0;\n",
    "          posy += (larger2)?1:0;\n",
    "        }\n",
    "        //printf(\"posx:%i\", posx);\n",
    "        if (posx < topk) {\n",
    "        xoutidx[posx+topk*gid2] = gid;\n",
    "        }\n",
    "        if (posy < topk) {\n",
    "          youtidx[posy+topk*gid2] = gid;\n",
    "        }\n",
    "      }\n",
    "      for (uint gid2=0; gid2<bs; gid2++){\n",
    "        if (gid < topk) {\n",
    "          for (uint j=0; j<topk; j++) {\n",
    "            float res = x[xoutidx[gid+topk*gid2]+gid2*n] * y[youtidx[j+topk*gid2]+gid2*n];\n",
    "            //printf(\"\\\\nJ:%i  gid:%i\", j, gid);\n",
    "            //printf(\"\\\\nRES:%.2f - %i - %i -  %.2f - %.2f\",res, xoutidx[gid+topk*gid2], youtidx[j+topk*gid2], x[xoutidx[gid+topk*gid2]+gid2*n], y[youtidx[j+topk*gid2]+gid2*n]);\n",
    "            //barrier(CLK_GLOBAL_MEM_FENCE);\n",
    "            xout[gid2*topk*topk+j*topk+gid] = res;\n",
    "          }\n",
    "        }\n",
    "      }\n",
    "    }\"\"\").build()"
   ]
  },
  {
   "cell_type": "code",
   "execution_count": 170,
   "id": "94682965",
   "metadata": {},
   "outputs": [
    {
     "data": {
      "text/plain": [
       "<pyopencl._cl.NannyEvent at 0x7fe8500827c0>"
      ]
     },
     "execution_count": 170,
     "metadata": {},
     "output_type": "execute_result"
    }
   ],
   "source": [
    "knl = prg.genwupdate2  # Use this Kernel object for repeated calls\n",
    "evt = knl(queue, [dim], None, x_buf, y_buf, x_cp_buf, np.uint32(topk), np.uint32(bs), x_idx_buf, y_idx_buf)\n",
    "\n",
    "#evt.wait()\n",
    "resx = np.zeros(bs*topk*topk).astype(np.float32)\n",
    "resxidx = np.zeros(bs*topk).astype(np.uint32)\n",
    "resyidx = np.zeros(bs*topk).astype(np.uint32)\n",
    "\n",
    "cl.enqueue_copy(queue, resx, x_cp_buf)\n",
    "cl.enqueue_copy(queue, resxidx, x_idx_buf)\n",
    "cl.enqueue_copy(queue, resyidx, y_idx_buf)"
   ]
  },
  {
   "cell_type": "markdown",
   "id": "771508c3",
   "metadata": {},
   "source": [
    "knl(queue, [dim], None, y_buf, x_buf, x_cp_buft, np.uint32(topk), np.uint32(bs), x_idx_buft, y_idx_buft)\n",
    "\n",
    "#evt.wait()\n",
    "resx = np.zeros(bs*topk*topk).astype(np.float32)\n",
    "resxidx = np.zeros(bs*topk).astype(np.uint32)\n",
    "resyidx = np.zeros(bs*topk).astype(np.uint32)\n",
    "\n",
    "cl.enqueue_copy(queue, resx, x_cp_buf)\n",
    "cl.enqueue_copy(queue, resxidx, x_idx_buf)\n",
    "cl.enqueue_copy(queue, resyidx, y_idx_buf)"
   ]
  },
  {
   "cell_type": "code",
   "execution_count": 171,
   "id": "88725ae2",
   "metadata": {},
   "outputs": [
    {
     "data": {
      "text/plain": [
       "array([[0.11393399, 0.7118412 , 0.55643713, 0.27153927, 0.32772598,\n",
       "        0.04301641, 0.29672298, 0.0222758 ],\n",
       "       [0.98070264, 0.40825003, 0.705725  , 0.35947588, 0.11701626,\n",
       "        0.80163443, 0.5259418 , 0.8591576 ],\n",
       "       [0.9961753 , 0.5673006 , 0.3585641 , 0.5580247 , 0.57777804,\n",
       "        0.5941385 , 0.4924252 , 0.32979771],\n",
       "       [0.84568256, 0.00355872, 0.3176442 , 0.17115681, 0.755733  ,\n",
       "        0.36029762, 0.9758334 , 0.69612896]], dtype=float32)"
      ]
     },
     "execution_count": 171,
     "metadata": {},
     "output_type": "execute_result"
    }
   ],
   "source": [
    "x"
   ]
  },
  {
   "cell_type": "code",
   "execution_count": 172,
   "id": "4c150d0f",
   "metadata": {},
   "outputs": [
    {
     "data": {
      "text/plain": [
       "array([[0.31450644, 0.474726  , 0.32018164, 0.6676764 , 0.08651349,\n",
       "        0.5695197 , 0.01818078, 0.4119545 ],\n",
       "       [0.17601748, 0.702292  , 0.74615556, 0.47515938, 0.8034789 ,\n",
       "        0.585988  , 0.05926885, 0.14925855],\n",
       "       [0.22191465, 0.5815182 , 0.11446307, 0.5016311 , 0.43255112,\n",
       "        0.06033285, 0.7239636 , 0.6616705 ],\n",
       "       [0.06044092, 0.81595546, 0.57856596, 0.8933512 , 0.58097714,\n",
       "        0.4487616 , 0.0747078 , 0.24770512]], dtype=float32)"
      ]
     },
     "execution_count": 172,
     "metadata": {},
     "output_type": "execute_result"
    }
   ],
   "source": [
    "y"
   ]
  },
  {
   "cell_type": "code",
   "execution_count": 173,
   "id": "990b8af7",
   "metadata": {},
   "outputs": [
    {
     "data": {
      "text/plain": [
       "((4, 8), (4, 8))"
      ]
     },
     "execution_count": 173,
     "metadata": {},
     "output_type": "execute_result"
    }
   ],
   "source": [
    "x.shape, y.shape"
   ]
  },
  {
   "cell_type": "code",
   "execution_count": 174,
   "id": "1c18b7bb",
   "metadata": {},
   "outputs": [
    {
     "data": {
      "text/plain": [
       "array([0.47527957, 0.37151992, 0.4054076 , 0.31690192, 0.7879739 ,\n",
       "       0.690315  , 0.73175675, 0.64106524, 0.7211947 , 0.43013465,\n",
       "       0.6591398 , 0.39312392, 0.871762  , 0.75549155, 0.7962366 ,\n",
       "       0.6900393 ], dtype=float32)"
      ]
     },
     "execution_count": 174,
     "metadata": {},
     "output_type": "execute_result"
    }
   ],
   "source": [
    "resx"
   ]
  },
  {
   "cell_type": "code",
   "execution_count": 175,
   "id": "58d4154c",
   "metadata": {},
   "outputs": [
    {
     "data": {
      "text/plain": [
       "array([[[0.47527957, 0.37151992],\n",
       "        [0.4054076 , 0.31690192]],\n",
       "\n",
       "       [[0.7879739 , 0.690315  ],\n",
       "        [0.73175675, 0.64106524]],\n",
       "\n",
       "       [[0.7211947 , 0.43013465],\n",
       "        [0.6591398 , 0.39312392]],\n",
       "\n",
       "       [[0.871762  , 0.75549155],\n",
       "        [0.7962366 , 0.6900393 ]]], dtype=float32)"
      ]
     },
     "execution_count": 175,
     "metadata": {},
     "output_type": "execute_result"
    }
   ],
   "source": [
    "resx.reshape(bs,topk,topk)"
   ]
  },
  {
   "cell_type": "code",
   "execution_count": 176,
   "id": "5cca2876",
   "metadata": {},
   "outputs": [
    {
     "data": {
      "text/plain": [
       "array([1, 2, 0, 7, 0, 5, 6, 0], dtype=uint32)"
      ]
     },
     "execution_count": 176,
     "metadata": {},
     "output_type": "execute_result"
    }
   ],
   "source": [
    "resxidx"
   ]
  },
  {
   "cell_type": "code",
   "execution_count": 177,
   "id": "80deeac2",
   "metadata": {},
   "outputs": [
    {
     "data": {
      "text/plain": [
       "array([3, 5, 4, 2, 6, 7, 3, 1], dtype=uint32)"
      ]
     },
     "execution_count": 177,
     "metadata": {},
     "output_type": "execute_result"
    }
   ],
   "source": [
    "resyidx"
   ]
  },
  {
   "cell_type": "code",
   "execution_count": 178,
   "id": "3020c7d7",
   "metadata": {},
   "outputs": [
    {
     "data": {
      "text/plain": [
       "(8, 8)"
      ]
     },
     "execution_count": 178,
     "metadata": {},
     "output_type": "execute_result"
    }
   ],
   "source": [
    "idx = 1\n",
    "xy0 = x[idx].reshape(dim,1)*y[idx]\n",
    "xy0.shape"
   ]
  },
  {
   "cell_type": "code",
   "execution_count": 179,
   "id": "fc865ccb",
   "metadata": {},
   "outputs": [
    {
     "data": {
      "text/plain": [
       "0.05365485"
      ]
     },
     "execution_count": 179,
     "metadata": {},
     "output_type": "execute_result"
    }
   ],
   "source": [
    "xy0[3][7]"
   ]
  },
  {
   "cell_type": "markdown",
   "id": "1b1742a3",
   "metadata": {},
   "source": [
    "## Weight update kernel new"
   ]
  },
  {
   "cell_type": "code",
   "execution_count": 180,
   "id": "9f4bce2c",
   "metadata": {},
   "outputs": [
    {
     "data": {
      "text/plain": [
       "array([[0.        , 0.04503985, 0.        , 0.        , 0.        ,\n",
       "        0.39591527],\n",
       "       [0.        , 0.13827148, 0.        , 0.        , 0.6585622 ,\n",
       "        0.        ],\n",
       "       [0.        , 0.67893606, 0.10766226, 0.        , 0.        ,\n",
       "        0.        ],\n",
       "       [0.        , 0.        , 0.        , 0.32545754, 0.        ,\n",
       "        0.29937434],\n",
       "       [0.        , 0.665272  , 0.40967163, 0.        , 0.        ,\n",
       "        0.        ],\n",
       "       [0.85070384, 0.        , 0.        , 0.        , 0.3361583 ,\n",
       "        0.        ],\n",
       "       [0.        , 0.        , 0.59939903, 0.        , 0.9370297 ,\n",
       "        0.        ],\n",
       "       [0.        , 0.        , 0.        , 0.38540342, 0.        ,\n",
       "        0.70285636]], dtype=float32)"
      ]
     },
     "execution_count": 180,
     "metadata": {},
     "output_type": "execute_result"
    }
   ],
   "source": [
    "b"
   ]
  },
  {
   "cell_type": "code",
   "execution_count": 181,
   "id": "48d63640",
   "metadata": {},
   "outputs": [],
   "source": [
    "c=np.zeros(a.T.shape)\n",
    "at = a.T\n",
    "for row in range(at.shape[0]):\n",
    "    for col in range(at.shape[1]):\n",
    "        c[row][col] = at[row][col]"
   ]
  },
  {
   "cell_type": "code",
   "execution_count": 182,
   "id": "e9fc7351",
   "metadata": {},
   "outputs": [
    {
     "data": {
      "text/plain": [
       "array([[7.49979988e-02, 0.00000000e+00, 0.00000000e+00, 0.00000000e+00],\n",
       "       [0.00000000e+00, 7.37177134e-01, 0.00000000e+00, 4.02378827e-01],\n",
       "       [0.00000000e+00, 1.67231306e-01, 0.00000000e+00, 6.48695767e-01],\n",
       "       [0.00000000e+00, 5.75304449e-01, 1.22499995e-01, 0.00000000e+00],\n",
       "       [0.00000000e+00, 0.00000000e+00, 3.75247926e-01, 5.74029225e-04],\n",
       "       [0.00000000e+00, 0.00000000e+00, 7.99822330e-01, 0.00000000e+00],\n",
       "       [3.23663443e-01, 0.00000000e+00, 0.00000000e+00, 0.00000000e+00],\n",
       "       [1.80248290e-01, 0.00000000e+00, 0.00000000e+00, 0.00000000e+00]],\n",
       "      dtype=float32)"
      ]
     },
     "execution_count": 182,
     "metadata": {},
     "output_type": "execute_result"
    }
   ],
   "source": [
    "at"
   ]
  },
  {
   "cell_type": "code",
   "execution_count": 183,
   "id": "4ab3d6d9",
   "metadata": {},
   "outputs": [
    {
     "data": {
      "text/plain": [
       "array([[7.49979988e-02, 0.00000000e+00, 0.00000000e+00, 0.00000000e+00],\n",
       "       [0.00000000e+00, 7.37177134e-01, 0.00000000e+00, 4.02378827e-01],\n",
       "       [0.00000000e+00, 1.67231306e-01, 0.00000000e+00, 6.48695767e-01],\n",
       "       [0.00000000e+00, 5.75304449e-01, 1.22499995e-01, 0.00000000e+00],\n",
       "       [0.00000000e+00, 0.00000000e+00, 3.75247926e-01, 5.74029225e-04],\n",
       "       [0.00000000e+00, 0.00000000e+00, 7.99822330e-01, 0.00000000e+00],\n",
       "       [3.23663443e-01, 0.00000000e+00, 0.00000000e+00, 0.00000000e+00],\n",
       "       [1.80248290e-01, 0.00000000e+00, 0.00000000e+00, 0.00000000e+00]])"
      ]
     },
     "execution_count": 183,
     "metadata": {},
     "output_type": "execute_result"
    }
   ],
   "source": [
    "c"
   ]
  },
  {
   "cell_type": "markdown",
   "id": "f20ac323",
   "metadata": {},
   "source": [
    "a_buf = cl.Buffer(ctx, mf.READ_WRITE | mf.COPY_HOST_PTR, hostbuf=c.astype(np.float32))\n",
    "b_buf = cl.Buffer(ctx, mf.READ_WRITE | mf.COPY_HOST_PTR, hostbuf=b)\n",
    "x_cp_buf = cl.Buffer(ctx, mf.WRITE_ONLY, topk*topk*4)\n",
    "x_idx_buf = cl.Buffer(ctx, mf.WRITE_ONLY, topk*4)\n",
    "y_idx_buf = cl.Buffer(ctx, mf.WRITE_ONLY, topk*4)\n",
    "\n",
    "prg = cl.Program(ctx, \"\"\"\n",
    "    // sorts x and y in ascending order and returns sorted indices\n",
    "    __kernel void genwupdate3(__global  float* x,     // INPUT MATRIX DATA\n",
    "                             __global  float* y,    // INPUT\n",
    "                             uint topk,\n",
    "                             uint msize,\n",
    "                             __global  float* xout,    // INPUT\n",
    "                             __global  uint* xoutidx,    // INPUT\n",
    "                             __global  uint* youtidx    // INPUT\n",
    "                            ) { // LOCAL SHARED BUFFER\n",
    "      uint gid = get_global_id(0);\n",
    "      uint n = get_global_size(0);\n",
    "      uint bs = get_global_size(1);\n",
    "      uint gid2 = get_global_id(1);\n",
    "\n",
    "\n",
    "\n",
    "      uint idx = n*gid2+gid;\n",
    "      float valx = x[idx];\n",
    "      uint posx = 0;\n",
    "      for (uint i = 0; i < n; i++) {\n",
    "        uint idx2 = n*gid2+i;\n",
    "        float tempval = x[idx2];\n",
    "        bool larger = tempval > valx;\n",
    "        posx += (larger)?1:0;\n",
    "      }\n",
    "      \n",
    "      uint idxy = n*gid2+gid;\n",
    "      float valy = y[idx];\n",
    "      uint posy = 0;\n",
    "      for (uint i = 0; i < n; i++) {\n",
    "        uint idx2 = n*gid2+i;\n",
    "        float tempval2 = y[idx2];\n",
    "        bool larger2 = tempval2 > valy;\n",
    "        posy += (larger2)?1:0;\n",
    "      }\n",
    "      \n",
    "      if (posx < topk) {\n",
    "        xoutidx[posx+topk*gid2] = idx;\n",
    "      }\n",
    "      if (posy < topk) {\n",
    "        youtidx[posy+topk*gid2] = idxy;\n",
    "      }\n",
    "      return;\n",
    "      if (gid < topk) {\n",
    "        for (uint j=0; j<topk; j++) {\n",
    "          float res = x[xoutidx[gid+topk*gid2]+gid2*msize] * y[youtidx[j+topk*gid2]+gid2*msize];\n",
    "          printf(\"\\\\nJ:%i  gid:(%i,%i)\", j, gid, gid2);\n",
    "          printf(\"\\\\nRES:%.2f - %i - %i -  %.2f - %.2f\",res, xoutidx[gid+topk*gid2], youtidx[j+topk*gid2], x[xoutidx[gid+topk*gid2]+gid2*n], y[youtidx[j+topk*gid2]+gid2*n]);\n",
    "          //barrier(CLK_GLOBAL_MEM_FENCE);\n",
    "          xout[gid2*topk*topk+j*topk+gid] = res;\n",
    "        }\n",
    "      }\n",
    "    }\"\"\").build()"
   ]
  },
  {
   "cell_type": "code",
   "execution_count": 184,
   "id": "3eb221f6",
   "metadata": {},
   "outputs": [],
   "source": [
    "a_buf = cl.Buffer(ctx, mf.READ_WRITE | mf.COPY_HOST_PTR, hostbuf=c.astype(np.float32))\n",
    "b_buf = cl.Buffer(ctx, mf.READ_WRITE | mf.COPY_HOST_PTR, hostbuf=b)\n",
    "x_sum_buf = cl.Buffer(ctx, mf.WRITE_ONLY, a.shape[0]*4)\n",
    "y_sum_buf = cl.Buffer(ctx, mf.WRITE_ONLY, b.shape[1]*4)\n",
    "x_cp_buf = cl.Buffer(ctx, mf.WRITE_ONLY, topk*topk*4)\n",
    "x_idx_buf = cl.Buffer(ctx, mf.WRITE_ONLY, topk*4)\n",
    "y_idx_buf = cl.Buffer(ctx, mf.WRITE_ONLY, topk*4)\n",
    "\n",
    "prg = cl.Program(ctx, \"\"\"\n",
    "    // sorts x and y in ascending order and returns sorted indices\n",
    "    __kernel void genwupdate3(__global  float* x,     // INPUT MATRIX DATA\n",
    "                              __global  float* y,    // INPUT\n",
    "                              __global  float* xsum,    // INPUT\n",
    "                              __global  float* ysum,    // INPUT\n",
    "                              uint isize,\n",
    "                              uint msize,\n",
    "                              uint osize,\n",
    "                              uint topk,\n",
    "                              __global  float* xout,\n",
    "                              __global  uint* xoutidx,   \n",
    "                              __global  uint* youtidx    \n",
    "                              ) { \n",
    "      uint gid = get_global_id(0);\n",
    "      \n",
    "      // get for a: sum axis0  b: sum axis1 then get topk\n",
    "      ///////////////////////////////////////////////////\n",
    "      if (gid < isize) {\n",
    "        xsum[gid] = 0;\n",
    "        for (uint i=0; i<msize; i++) {\n",
    "          float val = x[i*isize+gid];\n",
    "          //if (gid == 0) {\n",
    "          //  printf(\"\\\\nADD VALx: %.2f - %i\", val, i*msize+gid);\n",
    "          //}\n",
    "          xsum[gid] += val;\n",
    "        }\n",
    "        \n",
    "        float valx = xsum[gid];\n",
    "        uint posx = 0;\n",
    "        for (uint i = 0; i < isize; i++) {\n",
    "          float tempval = xsum[i];\n",
    "          bool larger = tempval > valx;\n",
    "          posx += (larger)?1:0;\n",
    "        }\n",
    "        if (posx < topk) {\n",
    "          xoutidx[posx] = gid;\n",
    "        }\n",
    "      }\n",
    "      \n",
    "      if (gid < osize) {\n",
    "        ysum[gid] = 0;\n",
    "        for (uint i=0; i<msize; i++) {\n",
    "          float val = y[i*osize+gid];\n",
    "          //if (gid == 0) {\n",
    "          //  printf(\"\\\\nADD VALx: %.2f - %i\", val, gid*osize+i);\n",
    "          //}\n",
    "          ysum[gid] += val;\n",
    "        }\n",
    "        \n",
    "        float valy = ysum[gid];\n",
    "        uint posy = 0;\n",
    "        for (uint i = 0; i < osize; i++) {\n",
    "          float tempval = ysum[i];\n",
    "          bool larger = tempval > valy;\n",
    "          posy += (larger)?1:0;\n",
    "        }\n",
    "      \n",
    "        if (posy < topk) {\n",
    "          youtidx[posy] = gid;\n",
    "        }\n",
    "      }\n",
    "      \n",
    "      if (gid < topk) {\n",
    "        float valx = xoutidx[gid];\n",
    "        uint posx = 0;\n",
    "        for (uint i = 0; i < topk; i++) {\n",
    "          float tempval = xoutidx[i];\n",
    "          bool larger = tempval < valx;\n",
    "          posx += (larger)?1:0;\n",
    "        }\n",
    "        xoutidx[posx] = valx;\n",
    "        \n",
    "        float valy = youtidx[gid];\n",
    "        uint posy = 0;\n",
    "        for (uint i = 0; i < topk; i++) {\n",
    "          float tempval = youtidx[i];\n",
    "          bool larger = tempval < valy;\n",
    "          posy += (larger)?1:0;\n",
    "        }\n",
    "        youtidx[posy] = valy;\n",
    "      }\n",
    "      \n",
    "      // only calc matrix multiplications for used grads\n",
    "      ///////////////////////////////////////////////////\n",
    "      if (gid < topk) {\n",
    "        uint idxx = xoutidx[gid];\n",
    "        for (uint j=0; j<topk; j++) {\n",
    "          uint idxy = youtidx[j];\n",
    "          xout[j*topk+gid] = 0;\n",
    "          for (uint k=0; k<msize; k++) {\n",
    "            uint xidx2 = isize*k+idxx;\n",
    "            uint yidx2 = osize*k+idxy;\n",
    "            xout[j*topk+gid] += x[xidx2] * y[yidx2];\n",
    "            //if (gid == 0 && j == 1)\n",
    "            //  printf(\"\\\\n ADD VAL:%.2f,%.2f - (%i,%i) - (%i,%i,%i)\", x[xidx2], y[yidx2], idxx, idxy, gid, j, k);\n",
    "          }\n",
    "        }\n",
    "      }\n",
    "    }\"\"\").build()"
   ]
  },
  {
   "cell_type": "code",
   "execution_count": 185,
   "id": "5e0667f0",
   "metadata": {},
   "outputs": [
    {
     "data": {
      "text/plain": [
       "((4, 8), (8, 6))"
      ]
     },
     "execution_count": 185,
     "metadata": {},
     "output_type": "execute_result"
    }
   ],
   "source": [
    "a.shape, b.shape"
   ]
  },
  {
   "cell_type": "code",
   "execution_count": 186,
   "id": "75e3ecd7",
   "metadata": {},
   "outputs": [],
   "source": [
    "rows = a.shape[0]\n",
    "msize = a.shape[1]"
   ]
  },
  {
   "cell_type": "code",
   "execution_count": 187,
   "id": "67fede53",
   "metadata": {},
   "outputs": [],
   "source": [
    "cols = b.shape[1]"
   ]
  },
  {
   "cell_type": "code",
   "execution_count": 188,
   "id": "68f4e2f7",
   "metadata": {},
   "outputs": [],
   "source": [
    "mult = a.dot(b)"
   ]
  },
  {
   "cell_type": "code",
   "execution_count": 189,
   "id": "bbcc1bea",
   "metadata": {},
   "outputs": [],
   "source": [
    "mult = mult.astype(np.float32)"
   ]
  },
  {
   "cell_type": "code",
   "execution_count": 190,
   "id": "58a7c0c8",
   "metadata": {},
   "outputs": [
    {
     "data": {
      "text/plain": [
       "<pyopencl._cl.NannyEvent at 0x7fe8500a2b80>"
      ]
     },
     "execution_count": 190,
     "metadata": {},
     "output_type": "execute_result"
    }
   ],
   "source": [
    "res_buf = cl.Buffer(ctx, mf.READ_WRITE, np.prod([rows,b.shape[1]])*4)\n",
    "knl = prg.genwupdate3  # Use this Kernel object for repeated calls\n",
    "evt = knl(queue, [max(rows,cols)], None, a_buf, b_buf, x_sum_buf, y_sum_buf, np.uint32(rows), np.uint32(msize),np.uint32(cols), np.uint32(topk), x_cp_buf, x_idx_buf, y_idx_buf)\n",
    "\n",
    "resxsum = np.zeros(a.shape[0]).astype(np.float32)\n",
    "resysum = np.zeros(b.shape[1]).astype(np.float32)\n",
    "resx = np.zeros(topk*topk).astype(np.float32)\n",
    "resxidx = np.zeros(topk).astype(np.uint32)\n",
    "resyidx = np.zeros(topk).astype(np.uint32)\n",
    "\n",
    "cl.enqueue_copy(queue, resxsum, x_sum_buf)\n",
    "cl.enqueue_copy(queue, resysum, y_sum_buf)\n",
    "cl.enqueue_copy(queue, resx, x_cp_buf)\n",
    "cl.enqueue_copy(queue, resxidx, x_idx_buf)\n",
    "cl.enqueue_copy(queue, resyidx, y_idx_buf)"
   ]
  },
  {
   "cell_type": "code",
   "execution_count": 191,
   "id": "5dab05c7",
   "metadata": {},
   "outputs": [
    {
     "data": {
      "text/plain": [
       "array([[0.21546994, 0.24964194],\n",
       "       [0.48547697, 0.26886693]], dtype=float32)"
      ]
     },
     "execution_count": 191,
     "metadata": {},
     "output_type": "execute_result"
    }
   ],
   "source": [
    "resx.reshape(topk,topk)"
   ]
  },
  {
   "cell_type": "code",
   "execution_count": 192,
   "id": "5e267f71",
   "metadata": {},
   "outputs": [
    {
     "data": {
      "text/plain": [
       "array([0.57890975, 1.479713  , 1.2975702 , 1.0516486 ], dtype=float32)"
      ]
     },
     "execution_count": 192,
     "metadata": {},
     "output_type": "execute_result"
    }
   ],
   "source": [
    "resxsum"
   ]
  },
  {
   "cell_type": "code",
   "execution_count": 193,
   "id": "e374bd1f",
   "metadata": {},
   "outputs": [
    {
     "data": {
      "text/plain": [
       "array([0.85070384, 1.5275195 , 1.1167328 , 0.71086097, 1.9317502 ,\n",
       "       1.3981459 ], dtype=float32)"
      ]
     },
     "execution_count": 193,
     "metadata": {},
     "output_type": "execute_result"
    }
   ],
   "source": [
    "resysum"
   ]
  },
  {
   "cell_type": "code",
   "execution_count": 194,
   "id": "b254f74f",
   "metadata": {},
   "outputs": [
    {
     "data": {
      "text/plain": [
       "array([0.57890975, 1.479713  , 1.2975702 , 1.0516486 ], dtype=float32)"
      ]
     },
     "execution_count": 194,
     "metadata": {},
     "output_type": "execute_result"
    }
   ],
   "source": [
    "a.sum(axis=1)"
   ]
  },
  {
   "cell_type": "code",
   "execution_count": 195,
   "id": "e264d60f",
   "metadata": {},
   "outputs": [
    {
     "data": {
      "text/plain": [
       "array([0.85070384, 1.5275195 , 1.1167328 , 0.71086097, 1.9317502 ,\n",
       "       1.3981459 ], dtype=float32)"
      ]
     },
     "execution_count": 195,
     "metadata": {},
     "output_type": "execute_result"
    }
   ],
   "source": [
    "b.sum(axis=0)"
   ]
  },
  {
   "cell_type": "code",
   "execution_count": 196,
   "id": "529cc660",
   "metadata": {},
   "outputs": [
    {
     "data": {
      "text/plain": [
       "array([[0.        , 0.0033779 , 0.19400355, 0.06946831, 0.30328226,\n",
       "        0.15638152],\n",
       "       [0.        , 0.21546994, 0.0180045 , 0.18723717, 0.48547697,\n",
       "        0.17223139],\n",
       "       [0.68041193, 0.24964194, 0.15372843, 0.03986855, 0.26886693,\n",
       "        0.03667336],\n",
       "       [0.        , 0.49644235, 0.07007521, 0.        , 0.2649915 ,\n",
       "        0.        ]], dtype=float32)"
      ]
     },
     "execution_count": 196,
     "metadata": {},
     "output_type": "execute_result"
    }
   ],
   "source": [
    "mult"
   ]
  },
  {
   "cell_type": "code",
   "execution_count": 197,
   "id": "ee933d58",
   "metadata": {},
   "outputs": [
    {
     "data": {
      "text/plain": [
       "array([1, 2], dtype=uint32)"
      ]
     },
     "execution_count": 197,
     "metadata": {},
     "output_type": "execute_result"
    }
   ],
   "source": [
    "resxidx"
   ]
  },
  {
   "cell_type": "code",
   "execution_count": 198,
   "id": "23535acb",
   "metadata": {},
   "outputs": [
    {
     "data": {
      "text/plain": [
       "array([1, 4], dtype=uint32)"
      ]
     },
     "execution_count": 198,
     "metadata": {},
     "output_type": "execute_result"
    }
   ],
   "source": [
    "resyidx"
   ]
  },
  {
   "cell_type": "code",
   "execution_count": 199,
   "id": "475e967a",
   "metadata": {},
   "outputs": [
    {
     "data": {
      "text/plain": [
       "(8, 8)"
      ]
     },
     "execution_count": 199,
     "metadata": {},
     "output_type": "execute_result"
    }
   ],
   "source": [
    "idx = 1\n",
    "xy0 = x[idx].reshape(dim,1)*y[idx]\n",
    "xy0.shape"
   ]
  },
  {
   "cell_type": "code",
   "execution_count": 200,
   "id": "281c094b",
   "metadata": {},
   "outputs": [
    {
     "data": {
      "text/plain": [
       "0.1726208"
      ]
     },
     "execution_count": 200,
     "metadata": {},
     "output_type": "execute_result"
    }
   ],
   "source": [
    "xy0[0][0]"
   ]
  },
  {
   "cell_type": "markdown",
   "id": "510bb101",
   "metadata": {},
   "source": [
    "## Weight update kernel new2 (sparse ouput)"
   ]
  },
  {
   "cell_type": "code",
   "execution_count": 201,
   "id": "9097d4e8",
   "metadata": {},
   "outputs": [],
   "source": [
    "c=np.zeros(a.T.shape)\n",
    "at = a.T\n",
    "for row in range(at.shape[0]):\n",
    "    for col in range(at.shape[1]):\n",
    "        c[row][col] = at[row][col]"
   ]
  },
  {
   "cell_type": "code",
   "execution_count": 202,
   "id": "c6236918",
   "metadata": {},
   "outputs": [],
   "source": [
    "a_buf = cl.Buffer(ctx, mf.READ_WRITE | mf.COPY_HOST_PTR, hostbuf=c.astype(np.float32))\n",
    "b_buf = cl.Buffer(ctx, mf.READ_WRITE | mf.COPY_HOST_PTR, hostbuf=b)\n",
    "x_sum_buf = cl.Buffer(ctx, mf.WRITE_ONLY, a.shape[0]*4)\n",
    "y_sum_buf = cl.Buffer(ctx, mf.WRITE_ONLY, b.shape[1]*4)\n",
    "x_idx_buf = cl.Buffer(ctx, mf.WRITE_ONLY, topk*4)\n",
    "y_idx_buf = cl.Buffer(ctx, mf.WRITE_ONLY, topk*4)\n",
    "sdata_buf = cl.Buffer(ctx, mf.READ_WRITE, a.shape[0]*topk*4)\n",
    "sidxs_buf = cl.Buffer(ctx, mf.READ_WRITE, a.shape[0]*topk*4)\n",
    "snnzs_buf = cl.Buffer(ctx, mf.READ_WRITE, a.shape[0]*4)\n",
    "sdatat_buf = cl.Buffer(ctx, mf.READ_WRITE, b.shape[1]*topk*4)\n",
    "sidxst_buf = cl.Buffer(ctx, mf.READ_WRITE, b.shape[1]*topk*4)\n",
    "snnzst_buf = cl.Buffer(ctx, mf.READ_WRITE, b.shape[1]*4)\n",
    "\n",
    "prg = cl.Program(ctx, \"\"\"\n",
    "    // sorts x and y in ascending order and returns sorted indices\n",
    "    __kernel void genwupdate4(__global  float* x,     // INPUT MATRIX DATA\n",
    "                              __global  float* y,    // INPUT\n",
    "                              __global  float* xsum,    // INPUT\n",
    "                              __global  float* ysum,    // INPUT\n",
    "                              uint isize,\n",
    "                              uint msize,\n",
    "                              uint osize,\n",
    "                              uint topk,\n",
    "                              __global  uint*  xoutidx,\n",
    "                              __global  uint*  youtidx,\n",
    "                              __global  float* matData,     // INPUT MATRIX DATA\n",
    "                              __global  uint*  colIdx,\n",
    "                              __global  uint*  rowNnz,\n",
    "                              __global  float* matDatat,     // INPUT MATRIX DATA\n",
    "                              __global  uint*  colIdxt,\n",
    "                              __global  uint*  rowNnzt\n",
    "                              ) { \n",
    "      uint gid = get_global_id(0);\n",
    "      \n",
    "      // get for a: sum axis0  b: sum axis1 then get topk\n",
    "      ///////////////////////////////////////////////////\n",
    "      if (gid < isize) {\n",
    "        xsum[gid] = 0;\n",
    "        for (uint i=0; i<msize; i++) {\n",
    "          float val = x[i*isize+gid];\n",
    "          //if (gid == 0) {\n",
    "          //  printf(\"\\\\nADD VALx: %.2f - %i\", val, i*msize+gid);\n",
    "          //}\n",
    "          xsum[gid] += val;\n",
    "        }\n",
    "        \n",
    "        float valx = xsum[gid];\n",
    "        uint posx = 0;\n",
    "        for (uint i = 0; i < isize; i++) {\n",
    "          float tempval = xsum[i];\n",
    "          bool larger = tempval > valx;\n",
    "          posx += (larger)?1:0;\n",
    "        }\n",
    "        if (posx < topk) {\n",
    "          xoutidx[posx] = gid;\n",
    "        }\n",
    "      }\n",
    "      \n",
    "      if (gid < osize) {\n",
    "        ysum[gid] = 0;\n",
    "        for (uint i=0; i<msize; i++) {\n",
    "          float val = y[i*osize+gid];\n",
    "          //if (gid == 0) {\n",
    "          //  printf(\"\\\\nADD VALx: %.2f - %i\", val, gid*osize+i);\n",
    "          //}\n",
    "          ysum[gid] += val;\n",
    "        }\n",
    "        \n",
    "        float valy = ysum[gid];\n",
    "        uint posy = 0;\n",
    "        for (uint i = 0; i < osize; i++) {\n",
    "          float tempval = ysum[i];\n",
    "          bool larger = tempval > valy;\n",
    "          posy += (larger)?1:0;\n",
    "        }\n",
    "      \n",
    "        if (posy < topk) {\n",
    "          youtidx[posy] = gid;\n",
    "        }\n",
    "      }\n",
    "      \n",
    "      if (gid < topk) {\n",
    "        float valx = xoutidx[gid];\n",
    "        uint posx = 0;\n",
    "        for (uint i = 0; i < topk; i++) {\n",
    "          float tempval = xoutidx[i];\n",
    "          bool larger = tempval < valx;\n",
    "          posx += (larger)?1:0;\n",
    "        }\n",
    "        xoutidx[posx] = valx;\n",
    "        \n",
    "        float valy = youtidx[gid];\n",
    "        uint posy = 0;\n",
    "        for (uint i = 0; i < topk; i++) {\n",
    "          float tempval = youtidx[i];\n",
    "          bool larger = tempval < valy;\n",
    "          posy += (larger)?1:0;\n",
    "        }\n",
    "        youtidx[posy] = valy;\n",
    "      }\n",
    "      \n",
    "      // only calc matrix multiplications for used grads\n",
    "      ///////////////////////////////////////////////////\n",
    "      if (gid < isize) {\n",
    "        for (uint i=0; i<topk; i++) {\n",
    "          matData[gid*topk+i] = 0;\n",
    "          colIdx[gid*topk+i] = 0;\n",
    "        }\n",
    "        rowNnz[gid] = 0;  \n",
    "      }\n",
    "      if (gid < osize) {\n",
    "        for (uint i=0; i<topk; i++) {\n",
    "          matDatat[gid*topk+i] = 0;\n",
    "          colIdxt[gid*topk+i] = 0;\n",
    "        }\n",
    "        rowNnzt[gid] = 0;  \n",
    "      }\n",
    "      \n",
    "      \n",
    "      if (gid < topk) {\n",
    "        uint idxx = xoutidx[gid];\n",
    "        for (uint j=0; j<topk; j++) {\n",
    "          uint idxy = youtidx[j];\n",
    "          //printf(\"\\\\nIDXX:%i  IDXY:%i\", idxx, idxy);\n",
    "          for (uint k=0; k<msize; k++) {\n",
    "            uint xidx2 = isize*k+idxx;\n",
    "            uint yidx2 = osize*k+idxy;\n",
    "            uint colidx = idxy;\n",
    "            matData[idxx*topk+j] += x[xidx2] * y[yidx2];\n",
    "            colIdx[idxx*topk+j] = idxy;\n",
    "            //if (gid == 0)\n",
    "            //  printf(\"\\\\n ADD VAL:%.2f,%.2f - (%i,%i) - (%i,%i,%i)\", x[xidx2], y[yidx2], idxx, idxy, gid, j, k);\n",
    "          }\n",
    "          rowNnz[idxx] += 1;\n",
    "        }\n",
    "      }\n",
    "      \n",
    "      if (gid < topk) {\n",
    "        uint idxy = youtidx[gid];\n",
    "        for (uint j=0; j<topk; j++) {\n",
    "          uint idxx = xoutidx[j];\n",
    "          //printf(\"\\\\nB-IDXX:%i  IDXY:%i\", idxx, idxy);\n",
    "          for (uint k=0; k<msize; k++) {\n",
    "            uint xidx2 = isize*k+idxx;\n",
    "            uint yidx2 = osize*k+idxy;\n",
    "            uint colidx = idxy;\n",
    "            float addval = x[xidx2] * y[yidx2];\n",
    "            matDatat[idxy*topk+j] += addval;\n",
    "            colIdxt[idxy*topk+j] = idxx;\n",
    "            //if (gid == 0)\n",
    "            //  printf(\"\\\\n ADD VAL:%.2f,%.2f - (%i,%i) - (%i,%i,%i)\", x[xidx2], y[yidx2], idxx, idxy, gid, j, k);\n",
    "          }\n",
    "          rowNnzt[idxy] += 1;\n",
    "          //printf(\"\\\\nAdd NNz:%i - %i\", idxy, rowNnzt[idxy]);\n",
    "        }\n",
    "      }\n",
    "    }\"\"\").build()"
   ]
  },
  {
   "cell_type": "code",
   "execution_count": 203,
   "id": "2161871c",
   "metadata": {},
   "outputs": [
    {
     "data": {
      "text/plain": [
       "((4, 8), (8, 6))"
      ]
     },
     "execution_count": 203,
     "metadata": {},
     "output_type": "execute_result"
    }
   ],
   "source": [
    "a.shape, b.shape"
   ]
  },
  {
   "cell_type": "code",
   "execution_count": 204,
   "id": "05f25e30",
   "metadata": {},
   "outputs": [],
   "source": [
    "rows = a.shape[0]\n",
    "msize = a.shape[1]"
   ]
  },
  {
   "cell_type": "code",
   "execution_count": 205,
   "id": "9f83f34b",
   "metadata": {},
   "outputs": [],
   "source": [
    "cols = b.shape[1]"
   ]
  },
  {
   "cell_type": "code",
   "execution_count": 206,
   "id": "95394deb",
   "metadata": {},
   "outputs": [],
   "source": [
    "mult = a.dot(b)"
   ]
  },
  {
   "cell_type": "code",
   "execution_count": 207,
   "id": "8fc22dde",
   "metadata": {},
   "outputs": [],
   "source": [
    "mult = mult.astype(np.float32)"
   ]
  },
  {
   "cell_type": "code",
   "execution_count": 208,
   "id": "b290cb1a",
   "metadata": {},
   "outputs": [],
   "source": [
    "res_buf = cl.Buffer(ctx, mf.READ_WRITE, np.prod([rows,b.shape[1]])*4)\n",
    "knl = prg.genwupdate4  # Use this Kernel object for repeated calls\n",
    "evt = knl(queue, [max(rows,cols)], None, a_buf, b_buf, x_sum_buf, y_sum_buf, np.uint32(rows), np.uint32(msize),np.uint32(cols), \n",
    "          np.uint32(topk), x_idx_buf, y_idx_buf, sdata_buf, sidxs_buf, snnzs_buf, sdatat_buf, sidxst_buf, snnzst_buf)"
   ]
  },
  {
   "cell_type": "code",
   "execution_count": 209,
   "id": "be3450f0",
   "metadata": {},
   "outputs": [
    {
     "data": {
      "text/plain": [
       "<pyopencl._cl.NannyEvent at 0x7fe850050040>"
      ]
     },
     "execution_count": 209,
     "metadata": {},
     "output_type": "execute_result"
    }
   ],
   "source": [
    "resxsum = np.zeros(a.shape[0]).astype(np.float32)\n",
    "resysum = np.zeros(b.shape[1]).astype(np.float32)\n",
    "resxidx = np.zeros(topk).astype(np.uint32)\n",
    "resyidx = np.zeros(topk).astype(np.uint32)\n",
    "resxdat = np.zeros(a.shape[0]*topk).astype(np.float32)\n",
    "resxcol = np.zeros(a.shape[0]*topk).astype(np.uint32)\n",
    "resxnnz = np.zeros(a.shape[0]).astype(np.uint32)\n",
    "resxdatt = np.zeros(b.shape[1]*topk).astype(np.float32)\n",
    "resxcolt = np.zeros(b.shape[1]*topk).astype(np.uint32)\n",
    "resxnnzt = np.zeros(b.shape[1]).astype(np.uint32)\n",
    "\n",
    "cl.enqueue_copy(queue, resxsum, x_sum_buf)\n",
    "cl.enqueue_copy(queue, resysum, y_sum_buf)\n",
    "cl.enqueue_copy(queue, resxidx, x_idx_buf)\n",
    "cl.enqueue_copy(queue, resyidx, y_idx_buf)\n",
    "cl.enqueue_copy(queue, resxdat, sdata_buf)\n",
    "cl.enqueue_copy(queue, resxcol, sidxs_buf)\n",
    "cl.enqueue_copy(queue, resxnnz, snnzs_buf)\n",
    "cl.enqueue_copy(queue, resxdatt, sdatat_buf)\n",
    "cl.enqueue_copy(queue, resxcolt, sidxst_buf)\n",
    "cl.enqueue_copy(queue, resxnnzt, snnzst_buf)"
   ]
  },
  {
   "cell_type": "markdown",
   "id": "dea93e80",
   "metadata": {},
   "source": [
    "## results"
   ]
  },
  {
   "cell_type": "code",
   "execution_count": 210,
   "id": "50b4656b",
   "metadata": {},
   "outputs": [
    {
     "data": {
      "text/plain": [
       "array([[0.        , 0.        , 0.68041193, 0.        ],\n",
       "       [0.0033779 , 0.21546994, 0.24964194, 0.49644235],\n",
       "       [0.19400355, 0.0180045 , 0.15372843, 0.07007521],\n",
       "       [0.06946831, 0.18723717, 0.03986855, 0.        ],\n",
       "       [0.30328226, 0.48547697, 0.26886693, 0.2649915 ],\n",
       "       [0.15638152, 0.17223139, 0.03667336, 0.        ]], dtype=float32)"
      ]
     },
     "execution_count": 210,
     "metadata": {},
     "output_type": "execute_result"
    }
   ],
   "source": [
    "mult.T"
   ]
  },
  {
   "cell_type": "code",
   "execution_count": 211,
   "id": "033d2896",
   "metadata": {},
   "outputs": [
    {
     "data": {
      "text/plain": [
       "array([[0.        , 0.        ],\n",
       "       [0.21546994, 0.48547697],\n",
       "       [0.24964194, 0.26886693],\n",
       "       [0.        , 0.        ]], dtype=float32)"
      ]
     },
     "execution_count": 211,
     "metadata": {},
     "output_type": "execute_result"
    }
   ],
   "source": [
    "resxdat.reshape(a.shape[0],topk)"
   ]
  },
  {
   "cell_type": "code",
   "execution_count": 212,
   "id": "c654a52b",
   "metadata": {},
   "outputs": [
    {
     "data": {
      "text/plain": [
       "array([[0, 0],\n",
       "       [1, 4],\n",
       "       [1, 4],\n",
       "       [0, 0]], dtype=uint32)"
      ]
     },
     "execution_count": 212,
     "metadata": {},
     "output_type": "execute_result"
    }
   ],
   "source": [
    "resxcol.reshape(a.shape[0],topk)"
   ]
  },
  {
   "cell_type": "code",
   "execution_count": 213,
   "id": "25673d3c",
   "metadata": {},
   "outputs": [
    {
     "data": {
      "text/plain": [
       "array([0, 2, 2, 0], dtype=uint32)"
      ]
     },
     "execution_count": 213,
     "metadata": {},
     "output_type": "execute_result"
    }
   ],
   "source": [
    "resxnnz.reshape(a.shape[0])"
   ]
  },
  {
   "cell_type": "code",
   "execution_count": 214,
   "id": "7fb50f87",
   "metadata": {},
   "outputs": [
    {
     "data": {
      "text/plain": [
       "array([[0.        , 0.        ],\n",
       "       [0.21546994, 0.24964194],\n",
       "       [0.        , 0.        ],\n",
       "       [0.        , 0.        ],\n",
       "       [0.48547697, 0.26886693],\n",
       "       [0.        , 0.        ]], dtype=float32)"
      ]
     },
     "execution_count": 214,
     "metadata": {},
     "output_type": "execute_result"
    }
   ],
   "source": [
    "resxdatt.reshape(b.shape[1],topk)"
   ]
  },
  {
   "cell_type": "code",
   "execution_count": 215,
   "id": "e7f50303",
   "metadata": {},
   "outputs": [
    {
     "data": {
      "text/plain": [
       "array([[0, 0],\n",
       "       [1, 2],\n",
       "       [0, 0],\n",
       "       [0, 0],\n",
       "       [1, 2],\n",
       "       [0, 0]], dtype=uint32)"
      ]
     },
     "execution_count": 215,
     "metadata": {},
     "output_type": "execute_result"
    }
   ],
   "source": [
    "resxcolt.reshape(b.shape[1],topk)"
   ]
  },
  {
   "cell_type": "code",
   "execution_count": 216,
   "id": "8ceb2165",
   "metadata": {},
   "outputs": [
    {
     "data": {
      "text/plain": [
       "array([0, 2, 0, 0, 2, 0], dtype=uint32)"
      ]
     },
     "execution_count": 216,
     "metadata": {},
     "output_type": "execute_result"
    }
   ],
   "source": [
    "resxnnzt.reshape(b.shape[1])"
   ]
  },
  {
   "cell_type": "markdown",
   "id": "ea6111fe",
   "metadata": {},
   "source": [
    "## comp"
   ]
  },
  {
   "cell_type": "code",
   "execution_count": 217,
   "id": "e774d6a9",
   "metadata": {},
   "outputs": [
    {
     "data": {
      "text/plain": [
       "array([0.57890975, 1.479713  , 1.2975702 , 1.0516486 ], dtype=float32)"
      ]
     },
     "execution_count": 217,
     "metadata": {},
     "output_type": "execute_result"
    }
   ],
   "source": [
    "resxsum"
   ]
  },
  {
   "cell_type": "code",
   "execution_count": 218,
   "id": "0a7a1435",
   "metadata": {},
   "outputs": [
    {
     "data": {
      "text/plain": [
       "array([0.57890975, 1.479713  , 1.2975702 , 1.0516486 ], dtype=float32)"
      ]
     },
     "execution_count": 218,
     "metadata": {},
     "output_type": "execute_result"
    }
   ],
   "source": [
    "a.sum(axis=1)"
   ]
  },
  {
   "cell_type": "code",
   "execution_count": 219,
   "id": "eb6d9343",
   "metadata": {},
   "outputs": [
    {
     "data": {
      "text/plain": [
       "array([0.85070384, 1.5275195 , 1.1167328 , 0.71086097, 1.9317502 ,\n",
       "       1.3981459 ], dtype=float32)"
      ]
     },
     "execution_count": 219,
     "metadata": {},
     "output_type": "execute_result"
    }
   ],
   "source": [
    "resysum"
   ]
  },
  {
   "cell_type": "code",
   "execution_count": 220,
   "id": "43b77cf4",
   "metadata": {},
   "outputs": [
    {
     "data": {
      "text/plain": [
       "array([0.85070384, 1.5275195 , 1.1167328 , 0.71086097, 1.9317502 ,\n",
       "       1.3981459 ], dtype=float32)"
      ]
     },
     "execution_count": 220,
     "metadata": {},
     "output_type": "execute_result"
    }
   ],
   "source": [
    "b.sum(axis=0)"
   ]
  },
  {
   "cell_type": "code",
   "execution_count": 221,
   "id": "c251ffa3",
   "metadata": {},
   "outputs": [
    {
     "data": {
      "text/plain": [
       "array([[0.        , 0.0033779 , 0.19400355, 0.06946831, 0.30328226,\n",
       "        0.15638152],\n",
       "       [0.        , 0.21546994, 0.0180045 , 0.18723717, 0.48547697,\n",
       "        0.17223139],\n",
       "       [0.68041193, 0.24964194, 0.15372843, 0.03986855, 0.26886693,\n",
       "        0.03667336],\n",
       "       [0.        , 0.49644235, 0.07007521, 0.        , 0.2649915 ,\n",
       "        0.        ]], dtype=float32)"
      ]
     },
     "execution_count": 221,
     "metadata": {},
     "output_type": "execute_result"
    }
   ],
   "source": [
    "mult"
   ]
  },
  {
   "cell_type": "code",
   "execution_count": 222,
   "id": "fd0e6415",
   "metadata": {},
   "outputs": [
    {
     "data": {
      "text/plain": [
       "array([1, 2], dtype=uint32)"
      ]
     },
     "execution_count": 222,
     "metadata": {},
     "output_type": "execute_result"
    }
   ],
   "source": [
    "resxidx"
   ]
  },
  {
   "cell_type": "code",
   "execution_count": 223,
   "id": "9ebf61ae",
   "metadata": {},
   "outputs": [
    {
     "data": {
      "text/plain": [
       "array([1, 4], dtype=uint32)"
      ]
     },
     "execution_count": 223,
     "metadata": {},
     "output_type": "execute_result"
    }
   ],
   "source": [
    "resyidx"
   ]
  },
  {
   "cell_type": "code",
   "execution_count": 224,
   "id": "9eeb6615",
   "metadata": {},
   "outputs": [
    {
     "data": {
      "text/plain": [
       "(8, 8)"
      ]
     },
     "execution_count": 224,
     "metadata": {},
     "output_type": "execute_result"
    }
   ],
   "source": [
    "idx = 1\n",
    "xy0 = x[idx].reshape(dim,1)*y[idx]\n",
    "xy0.shape"
   ]
  },
  {
   "cell_type": "code",
   "execution_count": 225,
   "id": "a2ac33de",
   "metadata": {},
   "outputs": [
    {
     "data": {
      "text/plain": [
       "0.1726208"
      ]
     },
     "execution_count": 225,
     "metadata": {},
     "output_type": "execute_result"
    }
   ],
   "source": [
    "xy0[0][0]"
   ]
  },
  {
   "cell_type": "markdown",
   "id": "babf25f8",
   "metadata": {},
   "source": [
    "## Prune Weights"
   ]
  },
  {
   "cell_type": "code",
   "execution_count": 358,
   "id": "bb8f3c64",
   "metadata": {},
   "outputs": [],
   "source": [
    "adata_buf = cl.Buffer(ctx, mf.READ_WRITE | mf.COPY_HOST_PTR, hostbuf=adata)\n",
    "acols_buf = cl.Buffer(ctx, mf.READ_WRITE | mf.COPY_HOST_PTR, hostbuf=acols)\n",
    "annzs_buf = cl.Buffer(ctx, mf.READ_WRITE | mf.COPY_HOST_PTR, hostbuf=annz)\n",
    "adatat_buf = cl.Buffer(ctx, mf.READ_WRITE | mf.COPY_HOST_PTR, hostbuf=adatat)\n",
    "acolst_buf = cl.Buffer(ctx, mf.READ_WRITE | mf.COPY_HOST_PTR, hostbuf=acolst)\n",
    "annzst_buf = cl.Buffer(ctx, mf.READ_WRITE | mf.COPY_HOST_PTR, hostbuf=annzt)\n",
    "\n",
    "prg = cl.Program(ctx, \"\"\"\n",
    "    // prunes weights smaller than a constant C\n",
    "    __kernel void prune(__global  float* matData,     // INPUT MATRIX DATA\n",
    "                        __global  uint*  colIdx,\n",
    "                        __global  uint*  rowNnz,\n",
    "                        uint ellw,\n",
    "                        float pruneval) { \n",
    "      uint gid = get_global_id(0);\n",
    "      \n",
    "      uint nnzs = rowNnz[gid];\n",
    "      for (uint i=0; i<nnzs; i++) {\n",
    "        uint idx = ellw * gid + i;\n",
    "        float val = matData[idx];\n",
    "        printf(\"\\\\nDATA:%.2f - %.2f\", matData[idx], pruneval);\n",
    "        if(val<pruneval) {\n",
    "          printf(\"\\\\nPRUNE(%i): %.2f\", gid, matData[idx]);\n",
    "          for (uint j=i; j<nnzs-1; j++) {\n",
    "            uint idx2 = ellw * gid + j;\n",
    "            matData[idx2] = matData[idx2+1];\n",
    "            colIdx[idx2] = colIdx[idx2+1];\n",
    "          }\n",
    "          matData[nnzs] = 0;\n",
    "          colIdx[nnzs] = 0;\n",
    "          rowNnz[gid] -= 1;\n",
    "          i -= 1;\n",
    "        }\n",
    "      }\n",
    "    }\"\"\").build()"
   ]
  },
  {
   "cell_type": "code",
   "execution_count": 359,
   "id": "380efb2e",
   "metadata": {},
   "outputs": [
    {
     "data": {
      "text/plain": [
       "(4, 8)"
      ]
     },
     "execution_count": 359,
     "metadata": {},
     "output_type": "execute_result"
    }
   ],
   "source": [
    "a.shape"
   ]
  },
  {
   "cell_type": "code",
   "execution_count": 360,
   "id": "125f1e7b",
   "metadata": {},
   "outputs": [],
   "source": [
    "rows = a.shape[0]\n",
    "cols = a.shape[1]\n",
    "\n",
    "pruneval = .2"
   ]
  },
  {
   "cell_type": "code",
   "execution_count": null,
   "id": "9c879424",
   "metadata": {},
   "outputs": [],
   "source": [
    "knl = prg.prune  # Use this Kernel object for repeated calls\n",
    "evt = knl(queue, [rows,], None, adata_buf, acols_buf, annzs_buf, np.uint32(ellwa), np.float32(pruneval))"
   ]
  },
  {
   "cell_type": "code",
   "execution_count": null,
   "id": "c485ad02",
   "metadata": {},
   "outputs": [],
   "source": [
    "resxdat = np.zeros(adata.shape).astype(np.float32)\n",
    "resxcol = np.zeros(acols.shape).astype(np.uint32)\n",
    "resxnnz = np.zeros(annz.shape).astype(np.uint32)\n",
    "\n",
    "cl.enqueue_copy(queue, resxdat, adata_buf)\n",
    "cl.enqueue_copy(queue, resxcol, acols_buf)\n",
    "cl.enqueue_copy(queue, resxnnz, annzs_buf)"
   ]
  },
  {
   "cell_type": "code",
   "execution_count": 349,
   "id": "9bca6efa",
   "metadata": {},
   "outputs": [
    {
     "data": {
      "text/plain": [
       "array([[7.49979988e-02, 0.00000000e+00, 0.00000000e+00, 0.00000000e+00,\n",
       "        0.00000000e+00, 0.00000000e+00, 3.23663443e-01, 1.80248290e-01],\n",
       "       [0.00000000e+00, 7.37177134e-01, 1.67231306e-01, 5.75304449e-01,\n",
       "        0.00000000e+00, 0.00000000e+00, 0.00000000e+00, 0.00000000e+00],\n",
       "       [0.00000000e+00, 0.00000000e+00, 0.00000000e+00, 1.22499995e-01,\n",
       "        3.75247926e-01, 7.99822330e-01, 0.00000000e+00, 0.00000000e+00],\n",
       "       [0.00000000e+00, 4.02378827e-01, 6.48695767e-01, 0.00000000e+00,\n",
       "        5.74029225e-04, 0.00000000e+00, 0.00000000e+00, 0.00000000e+00]],\n",
       "      dtype=float32)"
      ]
     },
     "execution_count": 349,
     "metadata": {},
     "output_type": "execute_result"
    }
   ],
   "source": [
    "a"
   ]
  },
  {
   "cell_type": "code",
   "execution_count": 350,
   "id": "b053380f",
   "metadata": {},
   "outputs": [
    {
     "data": {
      "text/plain": [
       "array([7.49979988e-02, 3.23663443e-01, 1.80248290e-01, 0.00000000e+00,\n",
       "       7.37177134e-01, 1.67231306e-01, 5.75304449e-01, 0.00000000e+00,\n",
       "       1.22499995e-01, 3.75247926e-01, 7.99822330e-01, 0.00000000e+00,\n",
       "       4.02378827e-01, 6.48695767e-01, 5.74029225e-04, 0.00000000e+00],\n",
       "      dtype=float32)"
      ]
     },
     "execution_count": 350,
     "metadata": {},
     "output_type": "execute_result"
    }
   ],
   "source": [
    "adata"
   ]
  },
  {
   "cell_type": "code",
   "execution_count": 351,
   "id": "bd903334",
   "metadata": {},
   "outputs": [
    {
     "data": {
      "text/plain": [
       "array([[3.2366344e-01, 1.8024829e-01, 1.8024829e-01, 0.0000000e+00],\n",
       "       [7.3717713e-01, 5.7530445e-01, 5.7530445e-01, 0.0000000e+00],\n",
       "       [3.7524793e-01, 7.9982233e-01, 7.9982233e-01, 0.0000000e+00],\n",
       "       [4.0237883e-01, 6.4869577e-01, 5.7402923e-04, 0.0000000e+00]],\n",
       "      dtype=float32)"
      ]
     },
     "execution_count": 351,
     "metadata": {},
     "output_type": "execute_result"
    }
   ],
   "source": [
    "resxdat.reshape((4,-1))"
   ]
  },
  {
   "cell_type": "code",
   "execution_count": 352,
   "id": "b9c4554e",
   "metadata": {},
   "outputs": [
    {
     "data": {
      "text/plain": [
       "array([[6, 7, 7, 0],\n",
       "       [1, 3, 3, 0],\n",
       "       [4, 5, 5, 0],\n",
       "       [1, 2, 4, 0]], dtype=uint32)"
      ]
     },
     "execution_count": 352,
     "metadata": {},
     "output_type": "execute_result"
    }
   ],
   "source": [
    "resxcol.reshape((4,-1))"
   ]
  },
  {
   "cell_type": "code",
   "execution_count": 353,
   "id": "4b2d13a7",
   "metadata": {},
   "outputs": [
    {
     "data": {
      "text/plain": [
       "array([3, 3, 3, 3], dtype=uint32)"
      ]
     },
     "execution_count": 353,
     "metadata": {},
     "output_type": "execute_result"
    }
   ],
   "source": [
    "resxnnz"
   ]
  },
  {
   "cell_type": "markdown",
   "id": "dd5e9cb4",
   "metadata": {},
   "source": [
    "## results"
   ]
  },
  {
   "cell_type": "code",
   "execution_count": null,
   "id": "96d62d4b",
   "metadata": {},
   "outputs": [],
   "source": [
    "mult.T"
   ]
  },
  {
   "cell_type": "code",
   "execution_count": null,
   "id": "4d2217d8",
   "metadata": {},
   "outputs": [],
   "source": [
    "resxdat.reshape(a.shape[0],topk)"
   ]
  },
  {
   "cell_type": "code",
   "execution_count": null,
   "id": "0947c7d4",
   "metadata": {},
   "outputs": [],
   "source": [
    "resxcol.reshape(a.shape[0],topk)"
   ]
  },
  {
   "cell_type": "code",
   "execution_count": null,
   "id": "87052988",
   "metadata": {},
   "outputs": [],
   "source": [
    "resxnnz.reshape(a.shape[0])"
   ]
  },
  {
   "cell_type": "code",
   "execution_count": null,
   "id": "01010786",
   "metadata": {},
   "outputs": [],
   "source": [
    "resxdatt.reshape(b.shape[1],topk)"
   ]
  },
  {
   "cell_type": "code",
   "execution_count": null,
   "id": "dba58fdc",
   "metadata": {},
   "outputs": [],
   "source": [
    "resxcolt.reshape(b.shape[1],topk)"
   ]
  },
  {
   "cell_type": "code",
   "execution_count": null,
   "id": "0282668b",
   "metadata": {},
   "outputs": [],
   "source": [
    "resxnnzt.reshape(b.shape[1])"
   ]
  },
  {
   "cell_type": "markdown",
   "id": "a07aaaf8",
   "metadata": {},
   "source": [
    "### Update Vals (add sparse)"
   ]
  },
  {
   "cell_type": "code",
   "execution_count": null,
   "id": "4d7cd83c",
   "metadata": {},
   "outputs": [],
   "source": [
    "multdata, multcols, multnnz, multellw = to_data(mult)\n",
    "multdata_buf = cl.Buffer(ctx, mf.READ_WRITE | mf.COPY_HOST_PTR, hostbuf=multdata)\n",
    "multcols_buf = cl.Buffer(ctx, mf.READ_WRITE | mf.COPY_HOST_PTR, hostbuf=multcols)\n",
    "multnnzs_buf = cl.Buffer(ctx, mf.READ_WRITE | mf.COPY_HOST_PTR, hostbuf=multnnz)\n",
    "\n",
    "\n",
    "prg = cl.Program(ctx, \"\"\"\n",
    "    // Every global_id_0 works on a row\n",
    "    __kernel void adddense(__global  float* matData,     // INPUT MATRIX DATA\n",
    "                            __global  uint*  colIdx,\n",
    "                            __global  uint*  rowNnz,\n",
    "                            float  lr,\n",
    "                            uint   ellwidth,\n",
    "                            __global  float* matDataAdd,     // INPUT MATRIX DATA\n",
    "                            __global  uint*  colIdxAdd,\n",
    "                            __global  uint*  rowNnzAdd,\n",
    "                            uint ellwidthAdd\n",
    "                            ) { // LOCAL SHARED BUFFER\n",
    "      uint gid = get_global_id(0);\n",
    "      uint nrows = get_global_size(0);\n",
    "\n",
    "      uint nnz    = rowNnz[gid];\n",
    "      \n",
    "      uint baseidxs = gid*ellwidth;\n",
    "      uint baseidxd = gid*ellwidthAdd;\n",
    "      \n",
    "      uint nnzadd = rowNnzAdd[gid];\n",
    "      printf(\"\\\\nNNZs: %i   GID:%i\", nnzadd, gid);\n",
    "      \n",
    "      for (uint i=0; i<nnzadd; i++) {\n",
    "        float addval = matDataAdd[baseidxd+i];\n",
    "        uint addcol = colIdxAdd[baseidxd+i];\n",
    "        \n",
    "        uint refcol = colIdx[baseidxs+i];\n",
    "        uint m = 0;\n",
    "        while (addcol > refcol) {\n",
    "          m += 1;\n",
    "          refcol = colIdx[baseidxs+i+m];\n",
    "        }\n",
    "        \n",
    "        //printf(\"\\\\nADD VAL:%.2f  ADDCOL:%i  idxs/d:(%i/%i)  gid/i:(%i/%i)\", addval, addcol, baseidxs, baseidxd, gid,i);\n",
    "        if (addval == 0.0) {\n",
    "          //printf(\"\\\\nZERO VAL, CONT: %.2f - %i\", addval, gid);\n",
    "          continue;\n",
    "        }\n",
    "        if (addcol == refcol) {\n",
    "          matData[baseidxs+i+m] += addval;\n",
    "          printf(\"\\\\nINCREMENT: %.2f\",addval);\n",
    "        } else {\n",
    "          if (rowNnz[gid] >= ellwidth) {\n",
    "            break;\n",
    "          }\n",
    "          if (addcol > refcol) {\n",
    "            rowNnz[gid] += 1;\n",
    "            printf(\"\\\\nSET VAL0:%.2f idx:%i/%i  col:%i\", addval, baseidxs+i, baseidxd+i, colIdx[i]);\n",
    "            matData[baseidxs+i+m] = addval;\n",
    "            colIdx[baseidxs+i+m] = addcol;\n",
    "            continue;\n",
    "          }\n",
    "          for (uint j=nnz; j>i+m; j--) {\n",
    "            //printf(\"\\\\nMOVE:%.2f\", matData[baseidx+j-1]);\n",
    "            colIdx[baseidxs+j] = colIdx[baseidxs+j-1];\n",
    "            matData[baseidxs+j] = matData[baseidxs+j-1];\n",
    "          }\n",
    "          rowNnz[gid] += 1;\n",
    "          nnz = rowNnz[gid];\n",
    "          \n",
    "          printf(\"\\\\nSET VAL:%.2f idx:%i/%i  col:%i\", addval, baseidxs+i, baseidxd+i, colIdx[i]);\n",
    "          matData[baseidxs+i+m] = addval;\n",
    "          colIdx[baseidxs+i+m] = addcol;\n",
    "          if (nnz >= ellwidth)\n",
    "            break;\n",
    "        }\n",
    "      }\n",
    "    }\"\"\").build()"
   ]
  },
  {
   "cell_type": "code",
   "execution_count": null,
   "id": "35387816",
   "metadata": {},
   "outputs": [],
   "source": [
    "res = np.zeros(a.shape[0]).astype(np.float32)\n",
    "#res"
   ]
  },
  {
   "cell_type": "code",
   "execution_count": null,
   "id": "a7c249b6",
   "metadata": {},
   "outputs": [],
   "source": [
    "rows = a.shape[0]"
   ]
  },
  {
   "cell_type": "code",
   "execution_count": null,
   "id": "c0ba1018",
   "metadata": {},
   "outputs": [],
   "source": [
    "mult = mult.astype(np.float32)"
   ]
  },
  {
   "cell_type": "code",
   "execution_count": null,
   "id": "b56fd01d",
   "metadata": {},
   "outputs": [],
   "source": [
    "res_buf = cl.Buffer(ctx, mf.WRITE_ONLY, b.nbytes)\n",
    "knl = prg.adddense  # Use this Kernel object for repeated calls\n",
    "knl(queue, [rows], None, multdata_buf, multcols_buf, multnnzs_buf, np.float32(1), np.uint32(multellw), \n",
    "    sdata_buf, sidxs_buf, snnzs_buf, np.uint32(topk))"
   ]
  },
  {
   "cell_type": "code",
   "execution_count": null,
   "id": "35a50251",
   "metadata": {},
   "outputs": [],
   "source": [
    "mult"
   ]
  },
  {
   "cell_type": "code",
   "execution_count": null,
   "id": "6f9789d9",
   "metadata": {},
   "outputs": [],
   "source": [
    "data_res = np.empty_like(multdata)\n",
    "cols_res = np.empty_like(multcols)\n",
    "nnzs_res = np.empty_like(multnnz)\n",
    "cl.enqueue_copy(queue, data_res, multdata_buf, is_blocking=True)\n",
    "cl.enqueue_copy(queue, cols_res, multcols_buf, is_blocking=True)\n",
    "cl.enqueue_copy(queue, nnzs_res, multnnzs_buf, is_blocking=True)"
   ]
  },
  {
   "cell_type": "code",
   "execution_count": null,
   "id": "47150c28",
   "metadata": {},
   "outputs": [],
   "source": [
    "adenseadd = to_dense(data_res, cols_res, nnzs_res, multellw, mult.shape)\n",
    "adenseadd.T"
   ]
  },
  {
   "cell_type": "code",
   "execution_count": null,
   "id": "5cab2447",
   "metadata": {},
   "outputs": [],
   "source": [
    "mult-adenseadd"
   ]
  },
  {
   "cell_type": "markdown",
   "id": "a0a6446b",
   "metadata": {},
   "source": [
    "### Update Vals (add sparset)"
   ]
  },
  {
   "cell_type": "markdown",
   "id": "d950207d",
   "metadata": {},
   "source": [
    "multdata, multcols, multnnz, multellw = to_data(mult)\n",
    "multdata_buf = cl.Buffer(ctx, mf.READ_WRITE | mf.COPY_HOST_PTR, hostbuf=multdata)\n",
    "multcols_buf = cl.Buffer(ctx, mf.READ_WRITE | mf.COPY_HOST_PTR, hostbuf=multcols)\n",
    "multnnzs_buf = cl.Buffer(ctx, mf.READ_WRITE | mf.COPY_HOST_PTR, hostbuf=multnnz)\n",
    "\n",
    "\n",
    "prg = cl.Program(ctx, \"\"\"\n",
    "    // Every global_id_0 works on a row\n",
    "    __kernel void adddense(__global  float* matData,     // INPUT MATRIX DATA\n",
    "                            __global  uint*  colIdx,\n",
    "                            __global  uint*  rowNnz,\n",
    "                            float  lr,\n",
    "                            uint   ellwidth,\n",
    "                            __global  float* matDataAdd,     // INPUT MATRIX DATA\n",
    "                            __global  uint*  colIdxAdd,\n",
    "                            __global  uint*  rowNnzAdd,\n",
    "                            uint ellwidthAdd\n",
    "                            ) { // LOCAL SHARED BUFFER\n",
    "      uint gid = get_global_id(0);\n",
    "      uint nrows = get_global_size(0);\n",
    "\n",
    "      uint nnz    = rowNnz[gid];\n",
    "      \n",
    "      uint baseidxs = gid*ellwidth;\n",
    "      uint baseidxd = gid*ellwidthAdd;\n",
    "      \n",
    "      uint nnzadd = rowNnzAdd[gid];\n",
    "      printf(\"\\\\nNNZs: %i   GID:%i\", nnzadd, gid);\n",
    "      \n",
    "      \n",
    "      for (uint i=0; i<nnzadd; i++) {\n",
    "        float addval = 0;//matDataAdd[baseidxd+i];\n",
    "        uint addcol = colIdxAdd[baseidxd+i];\n",
    "        \n",
    "        uint refcol = colIdx[baseidxs+i];\n",
    "        uint m = 0;\n",
    "        while (addcol > refcol) {\n",
    "          m += 1;\n",
    "          refcol = colIdx[baseidxs+i+m];\n",
    "        }\n",
    "        \n",
    "        printf(\"\\\\nADD VAL:%.2f  ADDCOL:%i  idxs/d:(%i/%i)  gid/i:(%i/%i)\", addval, addcol, baseidxs, baseidxd, gid,i);\n",
    "        if (addval == 0.0) {\n",
    "          //printf(\"\\\\nZERO VAL, CONT: %.2f - %i\", addval, gid);\n",
    "          continue;\n",
    "        }\n",
    "        if (addcol == refcol) {\n",
    "          matData[baseidxs+i+m] += addval;\n",
    "          printf(\"\\\\nINCREMENT: %.2f\",addval);\n",
    "        } else {\n",
    "          if (rowNnz[gid] >= ellwidth) {\n",
    "            printf(\"break\");\n",
    "            break;\n",
    "          }\n",
    "          if (addcol > refcol) {\n",
    "            rowNnz[gid] += 1;\n",
    "            printf(\"\\\\nSET VAL0:%.2f idx:%i/%i  col:%i\", addval, baseidxs+i, baseidxd+i, colIdx[i]);\n",
    "            matData[baseidxs+i+m] = addval;\n",
    "            colIdx[baseidxs+i+m] = addcol;\n",
    "            continue;\n",
    "          }\n",
    "          for (uint j=nnz; j>i+m; j--) {\n",
    "            //printf(\"\\\\nMOVE:%.2f\", matData[baseidx+j-1]);\n",
    "            colIdx[baseidxs+j] = colIdx[baseidxs+j-1];\n",
    "            matData[baseidxs+j] = matData[baseidxs+j-1];\n",
    "          }\n",
    "          rowNnz[gid] += 1;\n",
    "          nnz = rowNnz[gid];\n",
    "          \n",
    "          printf(\"\\\\nSET VAL:%.2f idx:%i/%i  col:%i\", addval, baseidxs+i, baseidxd+i, colIdx[i]);\n",
    "          matData[baseidxs+i+m] = addval;\n",
    "          colIdx[baseidxs+i+m] = addcol;\n",
    "          if (nnz >= ellwidth) {\n",
    "            printf(\"breask\");\n",
    "            break;\n",
    "          }\n",
    "        }\n",
    "      }\n",
    "    }\"\"\").build()"
   ]
  },
  {
   "cell_type": "code",
   "execution_count": null,
   "id": "77a7c524",
   "metadata": {},
   "outputs": [],
   "source": [
    "multt=np.zeros(mult.T.shape)\n",
    "\n",
    "for row in range(multt.shape[0]):\n",
    "    for col in range(multt.shape[1]):\n",
    "        multt[row][col] = mult[col][row]"
   ]
  },
  {
   "cell_type": "code",
   "execution_count": null,
   "id": "24a8cbcf",
   "metadata": {},
   "outputs": [],
   "source": [
    "multdata, multcols, multnnz, multellw = to_data(multt)\n",
    "multdata_buf = cl.Buffer(ctx, mf.READ_WRITE | mf.COPY_HOST_PTR, hostbuf=multdata)\n",
    "multcols_buf = cl.Buffer(ctx, mf.READ_WRITE | mf.COPY_HOST_PTR, hostbuf=multcols)\n",
    "multnnzs_buf = cl.Buffer(ctx, mf.READ_WRITE | mf.COPY_HOST_PTR, hostbuf=multnnz)"
   ]
  },
  {
   "cell_type": "code",
   "execution_count": null,
   "id": "ad7e0c73",
   "metadata": {},
   "outputs": [],
   "source": [
    "a.shape, b.shape"
   ]
  },
  {
   "cell_type": "code",
   "execution_count": null,
   "id": "bf9e5c9e",
   "metadata": {},
   "outputs": [],
   "source": [
    "res = np.zeros(a.shape[0]).astype(np.float32)\n",
    "#res"
   ]
  },
  {
   "cell_type": "code",
   "execution_count": null,
   "id": "940e9ffa",
   "metadata": {},
   "outputs": [],
   "source": [
    "rows = mult.T.shape[0]"
   ]
  },
  {
   "cell_type": "code",
   "execution_count": null,
   "id": "d560f7e9",
   "metadata": {},
   "outputs": [],
   "source": [
    "mult = mult.astype(np.float32)"
   ]
  },
  {
   "cell_type": "code",
   "execution_count": null,
   "id": "78aeaa8c",
   "metadata": {},
   "outputs": [],
   "source": [
    "res_buf = cl.Buffer(ctx, mf.WRITE_ONLY, b.nbytes)\n",
    "knl = prg.adddense  # Use this Kernel object for repeated calls\n",
    "knl(queue, [rows], None, multdata_buf, multcols_buf, multnnzs_buf, np.float32(1), np.uint32(multellw), \n",
    "    sdatat_buf, sidxst_buf, snnzst_buf, np.uint32(topk))"
   ]
  },
  {
   "cell_type": "code",
   "execution_count": null,
   "id": "b0e8ab07",
   "metadata": {},
   "outputs": [],
   "source": [
    "mult.T"
   ]
  },
  {
   "cell_type": "code",
   "execution_count": null,
   "id": "24da004f",
   "metadata": {},
   "outputs": [],
   "source": [
    "data_res = np.empty_like(multdata)\n",
    "cols_res = np.empty_like(multcols)\n",
    "nnzs_res = np.empty_like(multnnz)\n",
    "cl.enqueue_copy(queue, data_res, multdata_buf, is_blocking=True)\n",
    "cl.enqueue_copy(queue, cols_res, multcols_buf, is_blocking=True)\n",
    "cl.enqueue_copy(queue, nnzs_res, multnnzs_buf, is_blocking=True)"
   ]
  },
  {
   "cell_type": "code",
   "execution_count": null,
   "id": "1ea6665b",
   "metadata": {},
   "outputs": [],
   "source": [
    "multt-data_res.reshape(multt.shape)"
   ]
  },
  {
   "cell_type": "code",
   "execution_count": null,
   "id": "29f989c4",
   "metadata": {},
   "outputs": [],
   "source": [
    "nnzs_res"
   ]
  },
  {
   "cell_type": "code",
   "execution_count": null,
   "id": "3dd2b416",
   "metadata": {},
   "outputs": [],
   "source": [
    "adenseaddt = to_dense(data_res, cols_res, nnzs_res, multellw, multt.shape)\n",
    "adenseaddt"
   ]
  },
  {
   "cell_type": "code",
   "execution_count": null,
   "id": "a65f4871",
   "metadata": {},
   "outputs": [],
   "source": [
    "multt-adenseaddt"
   ]
  },
  {
   "cell_type": "code",
   "execution_count": null,
   "id": "c8fa4a42",
   "metadata": {},
   "outputs": [],
   "source": [
    "adenseaddt"
   ]
  },
  {
   "cell_type": "code",
   "execution_count": null,
   "id": "36f4b9a1",
   "metadata": {},
   "outputs": [],
   "source": [
    "adenseadd.T == adenseaddt"
   ]
  },
  {
   "cell_type": "markdown",
   "id": "c0c255da",
   "metadata": {},
   "source": [
    "### Update Vals (add dense)"
   ]
  },
  {
   "cell_type": "code",
   "execution_count": null,
   "id": "7b96afa2",
   "metadata": {},
   "outputs": [],
   "source": [
    "matadd = np.random.randn(*a.shape).astype(np.float32)\n",
    "matadd"
   ]
  },
  {
   "cell_type": "code",
   "execution_count": null,
   "id": "412cfeec",
   "metadata": {},
   "outputs": [],
   "source": [
    "a"
   ]
  },
  {
   "cell_type": "code",
   "execution_count": null,
   "id": "5db87320",
   "metadata": {},
   "outputs": [],
   "source": [
    "a_added = a + matadd"
   ]
  },
  {
   "cell_type": "code",
   "execution_count": null,
   "id": "d2b7c76e",
   "metadata": {},
   "outputs": [],
   "source": [
    "adata_buf = cl.Buffer(ctx, mf.READ_WRITE | mf.COPY_HOST_PTR, hostbuf=adata)\n",
    "acols_buf = cl.Buffer(ctx, mf.READ_WRITE | mf.COPY_HOST_PTR, hostbuf=acols)\n",
    "annzs_buf = cl.Buffer(ctx, mf.READ_WRITE | mf.COPY_HOST_PTR, hostbuf=annz)\n",
    "adatat_buf = cl.Buffer(ctx, mf.READ_WRITE | mf.COPY_HOST_PTR, hostbuf=adatat)\n",
    "acolst_buf = cl.Buffer(ctx, mf.READ_WRITE | mf.COPY_HOST_PTR, hostbuf=acolst)\n",
    "annzst_buf = cl.Buffer(ctx, mf.READ_WRITE | mf.COPY_HOST_PTR, hostbuf=annzt)\n",
    "add_buf = cl.Buffer(ctx, mf.READ_WRITE | mf.COPY_HOST_PTR, hostbuf=matadd)\n",
    "\n",
    "prg = cl.Program(ctx, \"\"\"\n",
    "    // Every global_id_0 works on a row\n",
    "    __kernel void adddense(__global  float* matData,     // INPUT MATRIX DATA\n",
    "                            __global  uint*  colIdx,\n",
    "                            __global  uint*  rowNnz,\n",
    "                            float  lr,\n",
    "                            uint   ellwidth,\n",
    "                            uint   awidth,\n",
    "                            __global  float* vector_x    // INPUT\n",
    "                            ) { // LOCAL SHARED BUFFER\n",
    "      uint gid = get_global_id(0);\n",
    "      uint nrows = get_global_size(0);\n",
    "\n",
    "      uint nnz    = rowNnz[gid];\n",
    "      uint baseidxs = gid*ellwidth;\n",
    "      uint baseidxd = gid*awidth;\n",
    "      \n",
    "      for (uint i=0; i<awidth; i++) {\n",
    "        float addval = vector_x[baseidxd+i];\n",
    "        //if (gid==1)\n",
    "        //  printf(\"\\\\nADD VAL:%.2f idx:%i/%i  col:%i\", addval, baseidxs+i, baseidxd+i, colIdx[baseidxs+i]);\n",
    "        if (addval == 0) {\n",
    "          continue;\n",
    "        }\n",
    "        if (i == colIdx[baseidxs+i]) {\n",
    "          matData[baseidxs+i] += addval;\n",
    "        } else {\n",
    "          if (rowNnz[gid] >= ellwidth) {\n",
    "            break;\n",
    "          }\n",
    "          if (i > colIdx[baseidxs+i]) {\n",
    "            rowNnz[gid] += 1;\n",
    "            //if (gid==1)\n",
    "            //  printf(\"\\\\nSET VAL:%.2f idx:%i/%i  col:%i\", addval, baseidxs+i, baseidxd+i, colIdx[i]);\n",
    "            matData[baseidxs+i] = addval;\n",
    "            colIdx[baseidxs+i] = i;\n",
    "            continue;\n",
    "          }\n",
    "          for (uint j=nnz; j>i; j--) {\n",
    "            //printf(\"\\\\nMOVE:%.2f\", matData[baseidx+j-1]);\n",
    "            colIdx[baseidxs+j] = colIdx[baseidxs+j-1];\n",
    "            matData[baseidxs+j] = matData[baseidxs+j-1];\n",
    "          }\n",
    "          rowNnz[gid] += 1;\n",
    "          nnz = rowNnz[gid];\n",
    "          //if (gid==1)\n",
    "          //  printf(\"\\\\nSET VAL:%.2f idx:%i/%i  col:%i\", addval, baseidxs+i, baseidxd+i, colIdx[i]);\n",
    "          matData[baseidxs+i] = addval;\n",
    "          colIdx[baseidxs+i] = i;\n",
    "          if (nnz >= ellwidth)\n",
    "            break;\n",
    "        }\n",
    "      }\n",
    "    }\"\"\").build()"
   ]
  },
  {
   "cell_type": "code",
   "execution_count": null,
   "id": "2adf45e7",
   "metadata": {},
   "outputs": [],
   "source": [
    "a.shape, b.shape"
   ]
  },
  {
   "cell_type": "code",
   "execution_count": null,
   "id": "324edd08",
   "metadata": {},
   "outputs": [],
   "source": [
    "res = np.zeros(a.shape[0]).astype(np.float32)\n",
    "#res"
   ]
  },
  {
   "cell_type": "code",
   "execution_count": null,
   "id": "2cf60c63",
   "metadata": {},
   "outputs": [],
   "source": [
    "rows = a.shape[0]"
   ]
  },
  {
   "cell_type": "code",
   "execution_count": null,
   "id": "05c4e97c",
   "metadata": {},
   "outputs": [],
   "source": [
    "mult = mult.astype(np.float32)"
   ]
  },
  {
   "cell_type": "code",
   "execution_count": null,
   "id": "7d3bb3fd",
   "metadata": {},
   "outputs": [],
   "source": [
    "res_buf = cl.Buffer(ctx, mf.WRITE_ONLY, b.nbytes)\n",
    "knl = prg.adddense  # Use this Kernel object for repeated calls\n",
    "knl(queue, [rows], None, adata_buf, acols_buf, annzs_buf, np.float32(1), np.uint32(ellwa),np.uint32(a.shape[1]), add_buf)"
   ]
  },
  {
   "cell_type": "code",
   "execution_count": null,
   "id": "91283016",
   "metadata": {},
   "outputs": [],
   "source": [
    "matadd[0][0]"
   ]
  },
  {
   "cell_type": "code",
   "execution_count": null,
   "id": "f520b590",
   "metadata": {},
   "outputs": [],
   "source": [
    "data_res = np.empty_like(adata)\n",
    "cols_res = np.empty_like(acols)\n",
    "nnzs_res = np.empty_like(annz)\n",
    "cl.enqueue_copy(queue, data_res, adata_buf)\n",
    "cl.enqueue_copy(queue, cols_res, acols_buf)\n",
    "cl.enqueue_copy(queue, nnzs_res, annzs_buf)"
   ]
  },
  {
   "cell_type": "code",
   "execution_count": null,
   "id": "945bad1d",
   "metadata": {},
   "outputs": [],
   "source": [
    "adenseadd = to_dense(data_res, cols_res, nnzs_res, ellwa, a.shape)\n",
    "adenseadd"
   ]
  },
  {
   "cell_type": "code",
   "execution_count": null,
   "id": "9dc5db0f",
   "metadata": {},
   "outputs": [],
   "source": [
    "a"
   ]
  },
  {
   "cell_type": "code",
   "execution_count": null,
   "id": "7dffdf20",
   "metadata": {},
   "outputs": [],
   "source": [
    "matadd"
   ]
  },
  {
   "cell_type": "code",
   "execution_count": null,
   "id": "e0e10dd1",
   "metadata": {},
   "outputs": [],
   "source": [
    "a_added"
   ]
  },
  {
   "cell_type": "code",
   "execution_count": null,
   "id": "23f0c0c2",
   "metadata": {},
   "outputs": [],
   "source": [
    "adenseadd == a_added"
   ]
  },
  {
   "cell_type": "markdown",
   "id": "2c377b84",
   "metadata": {},
   "source": [
    "### update vals"
   ]
  },
  {
   "cell_type": "code",
   "execution_count": null,
   "id": "f334a950",
   "metadata": {},
   "outputs": [],
   "source": [
    "adatat_buf = cl.Buffer(ctx, mf.READ_WRITE | mf.COPY_HOST_PTR, hostbuf=adatat)\n",
    "acolst_buf = cl.Buffer(ctx, mf.READ_WRITE | mf.COPY_HOST_PTR, hostbuf=acolst)\n",
    "annzst_buf = cl.Buffer(ctx, mf.READ_WRITE | mf.COPY_HOST_PTR, hostbuf=annzt)\n",
    "add_buf = cl.Buffer(ctx, mf.READ_WRITE | mf.COPY_HOST_PTR, hostbuf=matadd)\n",
    "\n",
    "prg = cl.Program(ctx, \"\"\"\n",
    "    // Every global_id_0 works on a row\n",
    "    __kernel void adddenset(__global  float* matData,     // INPUT MATRIX DATA\n",
    "                            __global  uint*  colIdx,\n",
    "                            __global  uint*  rowNnz,\n",
    "                            float  lr,\n",
    "                            uint   ellwidth,\n",
    "                            uint   aheight,\n",
    "                            __global  float* vector_x    // INPUT\n",
    "                            ) { // LOCAL SHARED BUFFER\n",
    "      uint gid = get_global_id(0);\n",
    "      uint ncols = get_global_size(0);\n",
    "\n",
    "      uint nnz    = rowNnz[gid];\n",
    "      uint baseidxs = gid*ellwidth;\n",
    "      \n",
    "      for (uint i=0; i<aheight; i++) {\n",
    "        if (nnz > ellwidth)\n",
    "            break;\n",
    "        uint baseidxd = i*ncols+gid;\n",
    "        float addval = vector_x[baseidxd];\n",
    "        //if (gid==1)\n",
    "        //  printf(\"\\\\nADD VAL:%.2f idx:%i/%i  col:%i\", addval, baseidxs+i, baseidxd+i, colIdx[baseidxs+i]);\n",
    "        if (addval == 0) {\n",
    "          continue;\n",
    "        }\n",
    "        if (i == colIdx[baseidxs+i]) {\n",
    "          printf(\"\\\\nADD VAL:%.2f idx:%i/%i  col:%i\", addval, baseidxs+i, baseidxd+i, colIdx[i]);\n",
    "          matData[baseidxs+i] += addval;\n",
    "        } else {\n",
    "          if (rowNnz[gid] >= ellwidth) {\n",
    "            break;\n",
    "          }\n",
    "          if (i > colIdx[baseidxs+i]) {\n",
    "            rowNnz[gid] += 1;\n",
    "            //if (gid==1)\n",
    "            //  printf(\"\\\\nSET VAL:%.2f idx:%i/%i  col:%i\", addval, baseidxs+i, baseidxd+i, colIdx[i]);\n",
    "            matData[baseidxs+i] = addval;\n",
    "            colIdx[baseidxs+i] = i;\n",
    "            continue;\n",
    "          }\n",
    "          for (uint j=nnz; j>i; j--) {\n",
    "            //printf(\"\\\\nMOVE:%.2f\", matData[baseidx+j-1]);\n",
    "            colIdx[baseidxs+j] = colIdx[baseidxs+j-1];\n",
    "            matData[baseidxs+j] = matData[baseidxs+j-1];\n",
    "          }\n",
    "          rowNnz[gid] += 1;\n",
    "          nnz = rowNnz[gid];\n",
    "          //if (gid==1)\n",
    "          //  printf(\"\\\\nSET VAL:%.2f idx:%i/%i  col:%i\", addval, baseidxs+i, baseidxd+i, colIdx[i]);\n",
    "          matData[baseidxs+i] = addval;\n",
    "          colIdx[baseidxs+i] = i;\n",
    "        }\n",
    "      }\n",
    "    }\"\"\").build()"
   ]
  },
  {
   "cell_type": "code",
   "execution_count": null,
   "id": "3df220e3",
   "metadata": {},
   "outputs": [],
   "source": [
    "a.shape, b.shape"
   ]
  },
  {
   "cell_type": "code",
   "execution_count": null,
   "id": "4a70fde5",
   "metadata": {},
   "outputs": [],
   "source": [
    "res = np.zeros(a.shape[0]).astype(np.float32)\n",
    "#res"
   ]
  },
  {
   "cell_type": "code",
   "execution_count": null,
   "id": "49cee8e5",
   "metadata": {},
   "outputs": [],
   "source": [
    "cols = a.shape[1]"
   ]
  },
  {
   "cell_type": "code",
   "execution_count": null,
   "id": "ce0c1ed9",
   "metadata": {},
   "outputs": [],
   "source": [
    "mult = mult.astype(np.float32)"
   ]
  },
  {
   "cell_type": "code",
   "execution_count": null,
   "id": "bf98ad4e",
   "metadata": {},
   "outputs": [],
   "source": [
    "res_buf = cl.Buffer(ctx, mf.WRITE_ONLY, b.nbytes)\n",
    "knl = prg.adddenset  # Use this Kernel object for repeated calls\n",
    "knl(queue, [cols], None, adatat_buf, acolst_buf, annzst_buf, np.float32(1), np.uint32(ellwat),np.uint32(a.T.shape[1]), add_buf)"
   ]
  },
  {
   "cell_type": "code",
   "execution_count": null,
   "id": "d01027d6",
   "metadata": {},
   "outputs": [],
   "source": [
    "matadd[0][0]"
   ]
  },
  {
   "cell_type": "code",
   "execution_count": null,
   "id": "c8aa298b",
   "metadata": {},
   "outputs": [],
   "source": [
    "datat_res = np.empty_like(adatat)\n",
    "colst_res = np.empty_like(acolst)\n",
    "nnzst_res = np.empty_like(annzt)\n",
    "cl.enqueue_copy(queue, datat_res, adatat_buf)\n",
    "cl.enqueue_copy(queue, colst_res, acolst_buf)\n",
    "cl.enqueue_copy(queue, nnzst_res, annzst_buf)"
   ]
  },
  {
   "cell_type": "code",
   "execution_count": null,
   "id": "1520b090",
   "metadata": {},
   "outputs": [],
   "source": [
    "adenseaddt = to_dense(datat_res, colst_res, nnzst_res, ellwat, a.T.shape).T\n",
    "adenseaddt"
   ]
  },
  {
   "cell_type": "code",
   "execution_count": null,
   "id": "4991edea",
   "metadata": {},
   "outputs": [],
   "source": [
    "a"
   ]
  },
  {
   "cell_type": "code",
   "execution_count": null,
   "id": "a02d1ebb",
   "metadata": {},
   "outputs": [],
   "source": [
    "matadd"
   ]
  },
  {
   "cell_type": "code",
   "execution_count": null,
   "id": "39b90dde",
   "metadata": {},
   "outputs": [],
   "source": [
    "a_added"
   ]
  },
  {
   "cell_type": "code",
   "execution_count": null,
   "id": "03c95777",
   "metadata": {},
   "outputs": [],
   "source": [
    "adenseaddt == a_added"
   ]
  },
  {
   "cell_type": "markdown",
   "id": "f62eb300",
   "metadata": {},
   "source": [
    "### Make Random"
   ]
  },
  {
   "cell_type": "code",
   "execution_count": null,
   "id": "bc590ff4",
   "metadata": {},
   "outputs": [],
   "source": [
    "rand = SparseTensor.uniform(2,4)\n",
    "rand"
   ]
  },
  {
   "cell_type": "code",
   "execution_count": null,
   "id": "186cbd5b",
   "metadata": {},
   "outputs": [],
   "source": [
    "rand.to_numpy()"
   ]
  },
  {
   "cell_type": "code",
   "execution_count": null,
   "id": "86441521",
   "metadata": {},
   "outputs": [],
   "source": [
    "rand.data"
   ]
  },
  {
   "cell_type": "markdown",
   "id": "6644b755",
   "metadata": {},
   "source": [
    "### update vals"
   ]
  },
  {
   "cell_type": "code",
   "execution_count": null,
   "id": "73b60325",
   "metadata": {},
   "outputs": [],
   "source": [
    "adata_buf = cl.Buffer(ctx, mf.READ_WRITE | mf.COPY_HOST_PTR, hostbuf=adata)\n",
    "acols_buf = cl.Buffer(ctx, mf.READ_WRITE | mf.COPY_HOST_PTR, hostbuf=acols)\n",
    "annzs_buf = cl.Buffer(ctx, mf.READ_WRITE | mf.COPY_HOST_PTR, hostbuf=annz)"
   ]
  },
  {
   "cell_type": "code",
   "execution_count": null,
   "id": "7cb03af3",
   "metadata": {},
   "outputs": [],
   "source": [
    "prg = cl.Program(ctx, \"\"\"\n",
    "// Every global_id_0 works on a row\n",
    "    __kernel void addvals(__global  float* matData,     // INPUT MATRIX DATA\n",
    "                         __global  uint*  colIdx,\n",
    "                         __global  uint*  rowNnz,\n",
    "                         float lr,\n",
    "                         uint   ellwidth,\n",
    "                         __global  float* updatevals,    // INPUT\n",
    "                         __global  uint* updatexidx,\n",
    "                         __global  uint* updateyidx\n",
    "                         ) { // LOCAL SHARED BUFFER\n",
    "      uint gid = get_global_id(0);\n",
    "      uint gid2 = get_global_id(1);\n",
    "      uint topk = get_global_size(0);\n",
    "      uint bs = get_global_size(1);\n",
    "      uint baseupdateidx = topk*topk*gid2;\n",
    "      uint baseidxidx = topk*gid2;\n",
    "      uint col = updateyidx[baseidxidx+gid];\n",
    "\n",
    "      for (uint i=0; i<topk; i++) {\n",
    "        float val = updatevals[baseupdateidx+gid*topk+i];\n",
    "        uint row = updatexidx[baseidxidx+i];\n",
    "        for (uint i=0; i<rowNnz[row]; i++) {\n",
    "          uint idx = row*ellwidth+i;\n",
    "          if (colIdx[idx] >= col) {\n",
    "            //printf(\"\\\\nFOUND:%i/%i  - idx:%i\", colIdx[idx], col, idx);\n",
    "            if (colIdx[idx] == col) {\n",
    "              matData[idx] += -val*lr;\n",
    "              printf(\"\\\\nUPDATE[%i,%i]: %f\", row,col, val);\n",
    "              break;\n",
    "            } else {\n",
    "              // insert new column\n",
    "              printf(\"\\\\nINSERT[%i,%i]: %.2f\", row,col, val);\n",
    "              for (uint j=rowNnz[row]+1; j>i; j--) {\n",
    "                uint idx2 = row*ellwidth+j;\n",
    "                matData[idx2] = matData[idx2-1];\n",
    "                colIdx[idx2] = colIdx[idx2-1];\n",
    "              }\n",
    "              matData[idx] = -val*lr;\n",
    "              colIdx[idx] = col;\n",
    "              rowNnz[row] += 1;\n",
    "              break;\n",
    "            }\n",
    "          }\n",
    "        }\n",
    "        if (rowNnz[row] >= ellwidth) {\n",
    "          break;\n",
    "        }\n",
    "      }\n",
    "    }\"\"\").build()"
   ]
  },
  {
   "cell_type": "code",
   "execution_count": null,
   "id": "14b0cd42",
   "metadata": {},
   "outputs": [],
   "source": [
    "prg = cl.Program(ctx, \"\"\"\n",
    "// Every global_id_0 works on a row\n",
    "    __kernel void addvals(__global  float* matData,     // INPUT MATRIX DATA\n",
    "                         __global  uint*  colIdx,\n",
    "                         __global  uint*  rowNnz,\n",
    "                         float lr,\n",
    "                         uint   ellwidth,\n",
    "                         __global  float* updatevals,    // INPUT\n",
    "                         __global  uint* updatexidx,\n",
    "                         __global  uint* updateyidx\n",
    "                         ) { // LOCAL SHARED BUFFER\n",
    "      uint gid = get_global_id(0);\n",
    "      uint topk = get_global_size(0);\n",
    "      uint col = updateyidx[gid];\n",
    "\n",
    "      for (uint i=0; i<topk; i++) {\n",
    "        float val = updatevals[baseupdateidx+gid*topk+i];\n",
    "        uint row = updatexidx[baseidxidx+i];\n",
    "        for (uint i=0; i<rowNnz[row]; i++) {\n",
    "          uint idx = row*ellwidth+i;\n",
    "          if (colIdx[idx] >= col) {\n",
    "            //printf(\"\\\\nFOUND:%i/%i  - idx:%i\", colIdx[idx], col, idx);\n",
    "            if (colIdx[idx] == col) {\n",
    "              matData[idx] += -val*lr;\n",
    "              printf(\"\\\\nUPDATE[%i,%i]: %f\", row,col, val);\n",
    "              break;\n",
    "            } else {\n",
    "              // insert new column\n",
    "              printf(\"\\\\nINSERT[%i,%i]: %.2f\", row,col, val);\n",
    "              for (uint j=rowNnz[row]+1; j>i; j--) {\n",
    "                uint idx2 = row*ellwidth+j;\n",
    "                matData[idx2] = matData[idx2-1];m\n",
    "                colIdx[idx2] = colIdx[idx2-1];\n",
    "              }\n",
    "              matData[idx] = -val*lr;\n",
    "              colIdx[idx] = col;\n",
    "              rowNnz[row] += 1;\n",
    "              break;\n",
    "            }\n",
    "          }\n",
    "        }\n",
    "        if (rowNnz[row] >= ellwidth) {\n",
    "          break;\n",
    "        }\n",
    "      }\n",
    "    }\"\"\").build()"
   ]
  },
  {
   "cell_type": "code",
   "execution_count": null,
   "id": "0aab86e1",
   "metadata": {},
   "outputs": [],
   "source": [
    "knl = prg.addvals  # Use this Kernel object for repeated calls\n",
    "knl(queue, [topk,1], None, adata_buf, acols_buf, annzs_buf, np.float32(1), np.uint32(ellwa), x_cp_buf, x_idx_buf, y_idx_buf)\n",
    "\n",
    "resa = np.empty_like(adata)\n",
    "resaidx = np.zeros(acols.shape).astype(np.uint32)\n",
    "resannz = np.zeros(annz.shape).astype(np.uint32)\n",
    "\n",
    "cl.enqueue_copy(queue, resa, adata_buf)\n",
    "cl.enqueue_copy(queue, resaidx, acols_buf)\n",
    "cl.enqueue_copy(queue, resannz, annzs_buf)"
   ]
  },
  {
   "cell_type": "code",
   "execution_count": null,
   "id": "d2ff91ba",
   "metadata": {},
   "outputs": [],
   "source": [
    "resa.shape, resaidx.shape, resannz.shape, ellwa, a.T.shape"
   ]
  },
  {
   "cell_type": "code",
   "execution_count": null,
   "id": "190b8546",
   "metadata": {},
   "outputs": [],
   "source": [
    "adenseadd = to_dense(resa, resaidx, resannz, ellwa, a.shape)\n",
    "adenseadd"
   ]
  },
  {
   "cell_type": "code",
   "execution_count": null,
   "id": "3211c6e6",
   "metadata": {},
   "outputs": [],
   "source": [
    "adenseadd - adense"
   ]
  },
  {
   "cell_type": "code",
   "execution_count": null,
   "id": "f63c469b",
   "metadata": {},
   "outputs": [],
   "source": [
    "adenseadd == adense"
   ]
  },
  {
   "cell_type": "code",
   "execution_count": null,
   "id": "922fdfb7",
   "metadata": {},
   "outputs": [],
   "source": [
    "ellwa"
   ]
  },
  {
   "cell_type": "code",
   "execution_count": null,
   "id": "9da55fa5",
   "metadata": {},
   "outputs": [],
   "source": [
    "adata2 = adata.reshape(-1, ellwa)\n",
    "adata2"
   ]
  },
  {
   "cell_type": "code",
   "execution_count": null,
   "id": "466c61fb",
   "metadata": {},
   "outputs": [],
   "source": [
    "resa = resa.reshape(-1, ellwa)\n",
    "resa"
   ]
  },
  {
   "cell_type": "code",
   "execution_count": null,
   "id": "30f36719",
   "metadata": {},
   "outputs": [],
   "source": [
    "resa - adata2"
   ]
  },
  {
   "cell_type": "code",
   "execution_count": null,
   "id": "9dd6baf4",
   "metadata": {},
   "outputs": [],
   "source": [
    "acols"
   ]
  },
  {
   "cell_type": "code",
   "execution_count": null,
   "id": "5c526051",
   "metadata": {},
   "outputs": [],
   "source": [
    "resaidx"
   ]
  },
  {
   "cell_type": "code",
   "execution_count": null,
   "id": "f635a14d",
   "metadata": {},
   "outputs": [],
   "source": [
    "resannz"
   ]
  },
  {
   "cell_type": "code",
   "execution_count": null,
   "id": "d99713b6",
   "metadata": {},
   "outputs": [],
   "source": [
    "annz"
   ]
  },
  {
   "cell_type": "markdown",
   "id": "7c703466",
   "metadata": {},
   "source": [
    "### update vals2"
   ]
  },
  {
   "cell_type": "code",
   "execution_count": null,
   "id": "ed7e786b",
   "metadata": {},
   "outputs": [],
   "source": [
    "adatat_buf = cl.Buffer(ctx, mf.READ_WRITE | mf.COPY_HOST_PTR, hostbuf=adatat)\n",
    "acolst_buf = cl.Buffer(ctx, mf.READ_WRITE | mf.COPY_HOST_PTR, hostbuf=acolst)\n",
    "annzst_buf = cl.Buffer(ctx, mf.READ_WRITE | mf.COPY_HOST_PTR, hostbuf=annzt)"
   ]
  },
  {
   "cell_type": "code",
   "execution_count": null,
   "id": "33840479",
   "metadata": {},
   "outputs": [],
   "source": [
    "prg = cl.Program(ctx, \"\"\"\n",
    "// Every global_id_0 works on a row\n",
    "    __kernel void addvals(__global  float* matData,     // INPUT MATRIX DATA\n",
    "                         __global  uint*  colIdx,\n",
    "                         __global  uint*  rowNnz,\n",
    "                         float lr,\n",
    "                         uint   ellwidth,\n",
    "                         __global  float* updatevals,    // INPUT\n",
    "                         __global  uint* updatexidx,\n",
    "                         __global  uint* updateyidx\n",
    "                         ) { // LOCAL SHARED BUFFER\n",
    "      uint gid = get_global_id(0);\n",
    "      uint gid2 = get_global_id(1);\n",
    "      uint topk = get_global_size(0);\n",
    "      uint bs = get_global_size(1);\n",
    "      uint baseupdateidx = topk*topk*gid2;\n",
    "      uint baseidxidx = topk*gid2;\n",
    "      uint row = updateyidx[baseidxidx+gid];\n",
    "\n",
    "      for (uint i=0; i<topk; i++) {\n",
    "        float val = updatevals[baseupdateidx+gid*topk+i];\n",
    "        uint col = updatexidx[baseidxidx+i];\n",
    "        for (uint i=0; i<rowNnz[row]; i++) {\n",
    "          uint idx = row*ellwidth+i;\n",
    "          if (colIdx[idx] >= col) {\n",
    "            //printf(\"\\\\nFOUND:%i/%i  - idx:%i\", colIdx[idx], col, idx);\n",
    "            if (colIdx[idx] == col) {\n",
    "              matData[idx] += -val*lr;\n",
    "              printf(\"\\\\nUPDATE[%i,%i]: %f\", row,col, val);\n",
    "              break;\n",
    "            } else {\n",
    "              // insert new column\n",
    "              printf(\"\\\\nINSERT[%i,%i]: %.2f\", row,col, val);\n",
    "              for (uint j=rowNnz[row]+1; j>i; j--) {\n",
    "                uint idx2 = row*ellwidth+j;\n",
    "                matData[idx2] = matData[idx2-1];\n",
    "                colIdx[idx2] = colIdx[idx2-1];\n",
    "              }\n",
    "              matData[idx] = -val*lr;\n",
    "              colIdx[idx] = col;\n",
    "              rowNnz[row] += 1;\n",
    "              break;\n",
    "            }\n",
    "          }\n",
    "        }\n",
    "        if (rowNnz[row] >= ellwidth) {\n",
    "          break;\n",
    "        }\n",
    "      }\n",
    "    }\"\"\").build()"
   ]
  },
  {
   "cell_type": "code",
   "execution_count": null,
   "id": "0053ed70",
   "metadata": {},
   "outputs": [],
   "source": [
    "knl = prg.addvals  # Use this Kernel object for repeated calls\n",
    "knl(queue, [topk,bs], None, adatat_buf, acolst_buf, annzst_buf, np.float32(1), np.uint32(ellwat), x_cp_buf, x_idx_buf, y_idx_buf)\n",
    "\n",
    "resat = np.empty_like(adatat)\n",
    "resaidxt = np.zeros(acolst.shape).astype(np.uint32)\n",
    "resannzt = np.zeros(annzt.shape).astype(np.uint32)\n",
    "\n",
    "cl.enqueue_copy(queue, resat, adatat_buf)\n",
    "cl.enqueue_copy(queue, resaidxt, acolst_buf)\n",
    "cl.enqueue_copy(queue, resannzt, annzst_buf)"
   ]
  },
  {
   "cell_type": "code",
   "execution_count": null,
   "id": "8f781e72",
   "metadata": {},
   "outputs": [],
   "source": [
    "ellwa"
   ]
  },
  {
   "cell_type": "code",
   "execution_count": null,
   "id": "1864d3ac",
   "metadata": {},
   "outputs": [],
   "source": [
    "resat.shape, resaidxt.shape, resannzt.shape"
   ]
  },
  {
   "cell_type": "code",
   "execution_count": null,
   "id": "6205962b",
   "metadata": {},
   "outputs": [],
   "source": [
    "adenseaddt = to_dense(resat, resaidxt, resannzt, ellwat, a.T.shape)\n",
    "adenseaddt"
   ]
  },
  {
   "cell_type": "code",
   "execution_count": null,
   "id": "c601a02c",
   "metadata": {},
   "outputs": [],
   "source": [
    "adenseadd == adenseaddt.T"
   ]
  },
  {
   "cell_type": "code",
   "execution_count": null,
   "id": "64a4fdb0",
   "metadata": {},
   "outputs": [],
   "source": [
    "adata2t = adatat.reshape(-1, ellwat)\n",
    "adata2t"
   ]
  },
  {
   "cell_type": "code",
   "execution_count": null,
   "id": "3b8f6062",
   "metadata": {},
   "outputs": [],
   "source": [
    "resat = resat.reshape(-1, ellwat)\n",
    "resat"
   ]
  },
  {
   "cell_type": "code",
   "execution_count": null,
   "id": "eb51f891",
   "metadata": {},
   "outputs": [],
   "source": [
    "resat - adata2t"
   ]
  },
  {
   "cell_type": "code",
   "execution_count": null,
   "id": "f7e150fe",
   "metadata": {},
   "outputs": [],
   "source": [
    "acols"
   ]
  },
  {
   "cell_type": "code",
   "execution_count": null,
   "id": "8f1f18f1",
   "metadata": {},
   "outputs": [],
   "source": [
    "resaidx"
   ]
  },
  {
   "cell_type": "code",
   "execution_count": null,
   "id": "bd326e73",
   "metadata": {},
   "outputs": [],
   "source": [
    "resannz"
   ]
  },
  {
   "cell_type": "code",
   "execution_count": null,
   "id": "357413c1",
   "metadata": {},
   "outputs": [],
   "source": [
    "annz"
   ]
  },
  {
   "cell_type": "markdown",
   "id": "7f618bfd",
   "metadata": {},
   "source": [
    "# OTHER"
   ]
  },
  {
   "cell_type": "markdown",
   "id": "28fd6b45",
   "metadata": {},
   "source": [
    "import numpy as np\n",
    "import pyopencl as cl\n",
    "\n",
    "mf = cl.mem_flags"
   ]
  },
  {
   "cell_type": "markdown",
   "id": "ebed13d1",
   "metadata": {},
   "source": [
    "dim = 16\n",
    "topk = 4\n",
    "\n",
    "x = np.random.rand(dim).astype(np.float32)\n",
    "y = np.random.rand(dim).astype(np.float32)\n",
    "x.shape,y.shape"
   ]
  },
  {
   "cell_type": "markdown",
   "id": "444a4a7f",
   "metadata": {},
   "source": [
    "dim1 = 4\n",
    "dim2 = 8\n",
    "dim3 = 1\n",
    "\n",
    "ctx = cl.create_some_context()\n",
    "queue = cl.CommandQueue(ctx,\n",
    "        properties=cl.command_queue_properties.PROFILING_ENABLE)\n",
    "\n",
    "sparsity = 0.2\n",
    "\n",
    "a = np.zeros((dim1,dim2))\n",
    "b = np.random.rand(dim2,dim3).flatten().astype(np.float32)\n",
    "\n",
    "a.shape, b.shape"
   ]
  },
  {
   "cell_type": "code",
   "execution_count": null,
   "id": "e2d4594d",
   "metadata": {},
   "outputs": [],
   "source": [
    "x_buf = cl.Buffer(ctx, mf.READ_ONLY | mf.COPY_HOST_PTR, hostbuf=x)\n",
    "y_buf = cl.Buffer(ctx, mf.READ_ONLY | mf.COPY_HOST_PTR, hostbuf=y)\n",
    "val_out_buf = cl.Buffer(ctx, mf.READ_WRITE, 4*topk*topk)\n",
    "x_idx_buf = cl.Buffer(ctx, mf.READ_WRITE, topk*4)\n",
    "y_idx_buf = cl.Buffer(ctx, mf.READ_WRITE, topk*4)\n",
    "\n",
    "prg = cl.Program(ctx, \"\"\"\n",
    "// Every global_id_0 works on a row\n",
    "__kernel void genwupdate2(__global  float* x,     // INPUT MATRIX DATA\n",
    "                         __global  float* y,    // INPUT\n",
    "                         __global  float* xout,    // INPUT\n",
    "                         uint topk,\n",
    "                         __global  uint* xoutidx,    // INPUT\n",
    "                         __global  uint* youtidx    // INPUT\n",
    "                        ) { // LOCAL SHARED BUFFER\n",
    "  uint gid = get_global_id(0);\n",
    "  uint n = get_global_size(0);\n",
    "  \n",
    "  xout[gid] = x[gid];\n",
    "  xoutidx[gid] = gid;\n",
    "  youtidx[gid] = gid;\n",
    "  \n",
    "  float valx = x[gid];\n",
    "  float valy = y[gid];\n",
    "  uint posx = 0;\n",
    "  uint posy = 0;\n",
    "  for (uint i = 0; i < n; i++) {\n",
    "    float tempval = x[i];\n",
    "    float tempval2 = y[i];\n",
    "    bool larger = tempval > valx;\n",
    "    bool larger2 = tempval2 > valy;\n",
    "      \n",
    "    posx += (larger)?1:0;\n",
    "    posy += (larger2)?1:0;\n",
    "  }\n",
    "  //printf(\"posx:%i\", posx);\n",
    "  if (posx < topk) {\n",
    "    xoutidx[posx] = gid;\n",
    "  }\n",
    "  if (posy < topk) {\n",
    "    youtidx[posy] = gid;\n",
    "  }\n",
    "  if (gid < topk) {\n",
    "    uint i = gid;\n",
    "    for (uint j=0; j<topk; j++) {\n",
    "      xout[gid*topk+j] = x[xoutidx[gid]] * y[youtidx[j]];\n",
    "    }\n",
    "  }\n",
    "}\"\"\").build()"
   ]
  },
  {
   "cell_type": "code",
   "execution_count": null,
   "id": "f45b3b69",
   "metadata": {},
   "outputs": [],
   "source": [
    "knl = prg.genwupdate2  # Use this Kernel object for repeated calls\n",
    "event = knl(queue, [dim,], None, x_buf, y_buf, val_out_buf, np.uint32(topk), x_idx_buf, y_idx_buf)\n",
    "\n",
    "#event.wait()\n",
    "val_out = np.zeros(topk*topk).astype(np.float32)\n",
    "resxidx = np.zeros(topk).astype(np.uint32)\n",
    "resyidx = np.zeros(topk).astype(np.uint32)\n",
    "\n",
    "cl.enqueue_copy(queue, val_out, val_out_buf)\n",
    "cl.enqueue_copy(queue, resxidx, x_idx_buf, wait_for=[event])\n",
    "cl.enqueue_copy(queue, resyidx, y_idx_buf)"
   ]
  },
  {
   "cell_type": "code",
   "execution_count": null,
   "id": "d883394f",
   "metadata": {},
   "outputs": [],
   "source": [
    "val_out"
   ]
  },
  {
   "cell_type": "code",
   "execution_count": null,
   "id": "2335cf69",
   "metadata": {},
   "outputs": [],
   "source": [
    "resxidx"
   ]
  },
  {
   "cell_type": "code",
   "execution_count": null,
   "id": "5e714f2a",
   "metadata": {},
   "outputs": [],
   "source": [
    "resyidx"
   ]
  },
  {
   "cell_type": "code",
   "execution_count": null,
   "id": "f246c208",
   "metadata": {},
   "outputs": [],
   "source": [
    "asdf"
   ]
  },
  {
   "cell_type": "code",
   "execution_count": null,
   "id": "02a5c5dd",
   "metadata": {},
   "outputs": [],
   "source": [
    "from __future__ import division\n",
    "\n",
    "KERNEL_CODE = \"\"\"\n",
    "// Thread block size\n",
    "#define BLOCK_SIZE %(block_size)d\n",
    "// Matrix dimensions\n",
    "// (chosen as multiples of the thread block size for simplicity)\n",
    "#define WA %(w_a)d // Matrix A width\n",
    "#define HA %(h_a)d // Matrix A height\n",
    "#define WB %(w_b)d // Matrix B width\n",
    "#define HB WA  // Matrix B height\n",
    "#define WC WB  // Matrix C width\n",
    "#define HC HA  // Matrix C height\n",
    "/*\n",
    " * Copyright 1993-2009 NVIDIA Corporation.  All rights reserved.\n",
    " *\n",
    " * NVIDIA Corporation and its licensors retain all intellectual property and\n",
    " * proprietary rights in and to this software and related documentation.\n",
    " * Any use, reproduction, disclosure, or distribution of this software\n",
    " * and related documentation without an express license agreement from\n",
    " * NVIDIA Corporation is strictly prohibited.\n",
    " *\n",
    " * Please refer to the applicable NVIDIA end user license agreement (EULA)\n",
    " * associated with this source code for terms and conditions that govern\n",
    " * your use of this NVIDIA software.\n",
    " *\n",
    " */\n",
    "/* Matrix multiplication: C = A * B.\n",
    " * Device code.\n",
    " */\n",
    "#define AS(j, i) As[i + j * BLOCK_SIZE]\n",
    "#define BS(j, i) Bs[i + j * BLOCK_SIZE]\n",
    "////////////////////////////////////////////////////////////////////////////////\n",
    "//! Matrix multiplication on the device: C = A * B\n",
    "//! WA is A's width and WB is B's width\n",
    "////////////////////////////////////////////////////////////////////////////////\n",
    "__kernel __attribute__((reqd_work_group_size(16,16,1))) \n",
    "void\n",
    "matrixMul( __global float* C, __global float* A, __global float* B)\n",
    "{\n",
    "    __local float As[BLOCK_SIZE*BLOCK_SIZE];\n",
    "    __local float Bs[BLOCK_SIZE*BLOCK_SIZE];\n",
    "    // Block index\n",
    "    int bx = get_group_id(0);\n",
    "    int by = get_group_id(1);\n",
    "    // Thread index\n",
    "    int tx = get_local_id(0);\n",
    "    int ty = get_local_id(1);\n",
    "    // Index of the first sub-matrix of A processed by the block\n",
    "    int aBegin = WA * BLOCK_SIZE * by;\n",
    "    // Index of the last sub-matrix of A processed by the block\n",
    "    int aEnd   = aBegin + WA - 1;\n",
    "    // Step size used to iterate through the sub-matrices of A\n",
    "    int aStep  = BLOCK_SIZE;\n",
    "    // Index of the first sub-matrix of B processed by the block\n",
    "    int bBegin = BLOCK_SIZE * bx;\n",
    "    // Step size used to iterate through the sub-matrices of B\n",
    "    int bStep  = BLOCK_SIZE * WB;\n",
    "    // Csub is used to store the element of the block sub-matrix\n",
    "    // that is computed by the thread\n",
    "    float Csub = 0.0f;\n",
    "    // Loop over all the sub-matrices of A and B\n",
    "    // required to compute the block sub-matrix\n",
    "    for (int a = aBegin, b = bBegin;\n",
    "             a <= aEnd;\n",
    "             a += aStep, b += bStep) {\n",
    "        // Load the matrices from device memory\n",
    "        // to shared memory; each thread loads\n",
    "        // one element of each matrix\n",
    "        AS(ty, tx) = A[a + WA * ty + tx];\n",
    "        BS(ty, tx) = B[b + WB * ty + tx];\n",
    "        // Synchronize to make sure the matrices are loaded\n",
    "        barrier(CLK_LOCAL_MEM_FENCE);\n",
    "        // Multiply the two matrices together;\n",
    "        // each thread computes one element\n",
    "        // of the block sub-matrix\n",
    "        for (int k = 0; k < BLOCK_SIZE; ++k)\n",
    "            Csub += AS(ty, k) * BS(k, tx);\n",
    "        // Synchronize to make sure that the preceding\n",
    "        // computation is done before loading two new\n",
    "        // sub-matrices of A and B in the next iteration\n",
    "        barrier(CLK_LOCAL_MEM_FENCE);\n",
    "    }\n",
    "    // Write the block sub-matrix to device memory;\n",
    "    // each thread writes one element\n",
    "    C[get_global_id(1) * get_global_size(0) + get_global_id(0)] = Csub;\n",
    "}\n",
    "\"\"\"\n"
   ]
  },
  {
   "cell_type": "code",
   "execution_count": null,
   "id": "c1eb509e",
   "metadata": {},
   "outputs": [],
   "source": []
  },
  {
   "cell_type": "code",
   "execution_count": null,
   "id": "9a61206e",
   "metadata": {},
   "outputs": [],
   "source": []
  },
  {
   "cell_type": "code",
   "execution_count": null,
   "id": "77b4a04e",
   "metadata": {},
   "outputs": [],
   "source": [
    "a2 = np.random.rand(4,4)"
   ]
  },
  {
   "cell_type": "code",
   "execution_count": null,
   "id": "a0521855",
   "metadata": {},
   "outputs": [],
   "source": [
    "a2"
   ]
  },
  {
   "cell_type": "code",
   "execution_count": null,
   "id": "455a9049",
   "metadata": {},
   "outputs": [],
   "source": [
    "a2.sum(axis=1)"
   ]
  },
  {
   "cell_type": "code",
   "execution_count": null,
   "id": "5a54a3e3",
   "metadata": {},
   "outputs": [],
   "source": [
    "b2 = np.random.rand(4,4)"
   ]
  },
  {
   "cell_type": "code",
   "execution_count": null,
   "id": "e231268f",
   "metadata": {},
   "outputs": [],
   "source": [
    "b2"
   ]
  },
  {
   "cell_type": "code",
   "execution_count": null,
   "id": "625b7a07",
   "metadata": {},
   "outputs": [],
   "source": [
    "b2.sum(axis=0)"
   ]
  },
  {
   "cell_type": "code",
   "execution_count": null,
   "id": "5191e569",
   "metadata": {},
   "outputs": [],
   "source": [
    "matmul = a2.dot(b2)\n",
    "matmul"
   ]
  },
  {
   "cell_type": "code",
   "execution_count": null,
   "id": "b3a24c19",
   "metadata": {},
   "outputs": [],
   "source": []
  },
  {
   "cell_type": "code",
   "execution_count": null,
   "id": "6519eb75",
   "metadata": {},
   "outputs": [],
   "source": []
  },
  {
   "cell_type": "code",
   "execution_count": null,
   "id": "16d754cb",
   "metadata": {},
   "outputs": [],
   "source": []
  },
  {
   "cell_type": "code",
   "execution_count": null,
   "id": "c91d5425",
   "metadata": {},
   "outputs": [],
   "source": []
  },
  {
   "cell_type": "code",
   "execution_count": null,
   "id": "d9f4a6f0",
   "metadata": {},
   "outputs": [],
   "source": []
  },
  {
   "cell_type": "code",
   "execution_count": null,
   "id": "9f708713",
   "metadata": {},
   "outputs": [],
   "source": []
  },
  {
   "cell_type": "code",
   "execution_count": null,
   "id": "e59475d1",
   "metadata": {},
   "outputs": [],
   "source": []
  },
  {
   "cell_type": "code",
   "execution_count": null,
   "id": "3dd6c3a3",
   "metadata": {},
   "outputs": [],
   "source": []
  },
  {
   "cell_type": "code",
   "execution_count": null,
   "id": "7e83b426",
   "metadata": {},
   "outputs": [],
   "source": []
  },
  {
   "cell_type": "code",
   "execution_count": null,
   "id": "af6af470",
   "metadata": {},
   "outputs": [],
   "source": []
  },
  {
   "cell_type": "code",
   "execution_count": null,
   "id": "e2b3a039",
   "metadata": {},
   "outputs": [],
   "source": []
  },
  {
   "cell_type": "code",
   "execution_count": null,
   "id": "2da19095",
   "metadata": {},
   "outputs": [],
   "source": []
  }
 ],
 "metadata": {
  "kernelspec": {
   "display_name": "Python 3",
   "language": "python",
   "name": "python3"
  },
  "language_info": {
   "codemirror_mode": {
    "name": "ipython",
    "version": 3
   },
   "file_extension": ".py",
   "mimetype": "text/x-python",
   "name": "python",
   "nbconvert_exporter": "python",
   "pygments_lexer": "ipython3",
   "version": "3.8.12"
  }
 },
 "nbformat": 4,
 "nbformat_minor": 5
}
