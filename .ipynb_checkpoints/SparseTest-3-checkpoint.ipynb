{
 "cells": [
  {
   "cell_type": "code",
   "execution_count": 1,
   "id": "4309590e",
   "metadata": {},
   "outputs": [
    {
     "name": "stdout",
     "output_type": "stream",
     "text": [
      "DEVICE:GPU\n"
     ]
    }
   ],
   "source": [
    "from tinygrad.densetensor import DenseTensor\n",
    "from tinygrad.sparsetensor import SparseTensor\n",
    "import numpy as np\n",
    "import tinygrad.optim as optim\n",
    "from extra.utils import get_parameters\n",
    "\n",
    "\n",
    "%load_ext autoreload\n",
    "%autoreload 2"
   ]
  },
  {
   "cell_type": "code",
   "execution_count": 2,
   "id": "73101cd9",
   "metadata": {},
   "outputs": [],
   "source": [
    "dim1 = 2\n",
    "dim2 = 4\n",
    "dim3 = 3\n",
    "\n",
    "np.random.seed(9)\n",
    "\n",
    "seedmat = np.random.randn(dim2,dim3).astype(np.float32)"
   ]
  },
  {
   "cell_type": "code",
   "execution_count": 3,
   "id": "d9c197bb",
   "metadata": {},
   "outputs": [
    {
     "name": "stdout",
     "output_type": "stream",
     "text": [
      "warning, (2, 3) isn't float32, it's float64\n"
     ]
    }
   ],
   "source": [
    "x_init = np.random.randn(dim1,dim2).astype(np.float32)\n",
    "x = DenseTensor(x_init)\n",
    "y = DenseTensor(np.random.randn(dim1,dim3))"
   ]
  },
  {
   "cell_type": "code",
   "execution_count": 4,
   "id": "8a9285aa",
   "metadata": {},
   "outputs": [],
   "source": [
    "class MLP:\n",
    "  def __init__(self):\n",
    "    self.W = DenseTensor(seedmat)\n",
    "\n",
    "  def parameters(self):\n",
    "    return get_parameters(self)\n",
    "\n",
    "  def forward(self, x):\n",
    "    out = x.dot(self.W)\n",
    "    out = out.softmax()\n",
    "    #out = out.mul(self.m).add(self.m).sum()\n",
    "    return out"
   ]
  },
  {
   "cell_type": "code",
   "execution_count": 5,
   "id": "a5168e97",
   "metadata": {},
   "outputs": [],
   "source": [
    "class MLP2:\n",
    "  def __init__(self):\n",
    "    self.W = SparseTensor(seedmat)\n",
    "\n",
    "  def parameters(self):\n",
    "    return get_parameters(self)\n",
    "\n",
    "  def forward(self, x):\n",
    "    out = x.dot(self.W)\n",
    "    out = out.softmax()\n",
    "    #out = out.mul(self.m).add(self.m).sum()\n",
    "    return out"
   ]
  },
  {
   "cell_type": "code",
   "execution_count": 6,
   "id": "13c4436e",
   "metadata": {},
   "outputs": [],
   "source": [
    "def loss_fn(y, y_pred):\n",
    "    return ((y-y_pred)**2)**.5"
   ]
  },
  {
   "cell_type": "markdown",
   "id": "3b00810f",
   "metadata": {},
   "source": [
    "### Dense"
   ]
  },
  {
   "cell_type": "code",
   "execution_count": 7,
   "id": "1d2b99f9",
   "metadata": {},
   "outputs": [],
   "source": [
    "model = MLP()"
   ]
  },
  {
   "cell_type": "code",
   "execution_count": 8,
   "id": "5d6f6d16",
   "metadata": {},
   "outputs": [],
   "source": [
    "iters = 1\n",
    "optimizer = optim.SGD(model.parameters(), lr=.0001)"
   ]
  },
  {
   "cell_type": "code",
   "execution_count": 9,
   "id": "1a506d86",
   "metadata": {},
   "outputs": [
    {
     "name": "stdout",
     "output_type": "stream",
     "text": [
      "GRADt: -3.8146973e-06\n",
      "GRADt: -1.1444092e-05\n"
     ]
    }
   ],
   "source": [
    "for i in range(iters):\n",
    "    optimizer.zero_grad()\n",
    "    res = model.forward(x)\n",
    "    loss = loss_fn(res, y)\n",
    "    loss.backward()\n",
    "    loss.backward()\n",
    "    optimizer.step()"
   ]
  },
  {
   "cell_type": "code",
   "execution_count": 10,
   "id": "83c586b7",
   "metadata": {},
   "outputs": [
    {
     "data": {
      "text/plain": [
       "[<DenseTensor <GPUBuffer with shape (4, 3)> with grad <GPUBuffer with shape (4, 3)>>,\n",
       " <DenseTensor <GPUBuffer with shape (4, 3)> with grad None>]"
      ]
     },
     "execution_count": 10,
     "metadata": {},
     "output_type": "execute_result"
    }
   ],
   "source": [
    "model.parameters()"
   ]
  },
  {
   "cell_type": "code",
   "execution_count": 11,
   "id": "4641b69d",
   "metadata": {},
   "outputs": [
    {
     "data": {
      "text/plain": [
       "array([[0.04204695, 0.33576733, 0.62218565],\n",
       "       [0.09866745, 0.40295017, 0.49838245]], dtype=float32)"
      ]
     },
     "execution_count": 11,
     "metadata": {},
     "output_type": "execute_result"
    }
   ],
   "source": [
    "res.cpu().data"
   ]
  },
  {
   "cell_type": "code",
   "execution_count": 12,
   "id": "8eb71052",
   "metadata": {},
   "outputs": [
    {
     "data": {
      "text/plain": [
       "array([[0.6332241 , 0.30380926, 0.29596025],\n",
       "       [0.28184202, 0.11341732, 0.85362184]], dtype=float32)"
      ]
     },
     "execution_count": 12,
     "metadata": {},
     "output_type": "execute_result"
    }
   ],
   "source": [
    "loss.cpu().data"
   ]
  },
  {
   "cell_type": "code",
   "execution_count": 13,
   "id": "44d83871",
   "metadata": {},
   "outputs": [
    {
     "data": {
      "text/plain": [
       "array([[-3.9999998,  4.       , -4.       ],\n",
       "       [-3.9999998, -4.       ,  3.9999998]], dtype=float32)"
      ]
     },
     "execution_count": 13,
     "metadata": {},
     "output_type": "execute_result"
    }
   ],
   "source": [
    "res.grad.cpu().data"
   ]
  },
  {
   "cell_type": "code",
   "execution_count": 14,
   "id": "9ac039f6",
   "metadata": {},
   "outputs": [
    {
     "data": {
      "text/plain": [
       "array([[-1.2670451 , -3.7941687 ,  5.0612135 ],\n",
       "       [ 0.5773096 ,  5.649423  , -6.2267327 ],\n",
       "       [-0.22847073,  7.5477858 , -7.3193154 ],\n",
       "       [-1.0991318 , -2.484571  ,  3.5837026 ]], dtype=float32)"
      ]
     },
     "execution_count": 14,
     "metadata": {},
     "output_type": "execute_result"
    }
   ],
   "source": [
    "model.W.grad.cpu().data"
   ]
  },
  {
   "cell_type": "markdown",
   "id": "1f62f27e",
   "metadata": {},
   "source": [
    "### Second"
   ]
  },
  {
   "cell_type": "code",
   "execution_count": 15,
   "id": "31a9604d",
   "metadata": {},
   "outputs": [],
   "source": [
    "model2 = MLP2()"
   ]
  },
  {
   "cell_type": "code",
   "execution_count": 16,
   "id": "0e020858",
   "metadata": {},
   "outputs": [],
   "source": [
    "optimizer2 = optim.SGD(model2.parameters(), lr=.0001)"
   ]
  },
  {
   "cell_type": "code",
   "execution_count": 17,
   "id": "df5115ec",
   "metadata": {},
   "outputs": [
    {
     "name": "stdout",
     "output_type": "stream",
     "text": [
      "GRADt: 0.0\n",
      "GRADt: 0.0\n"
     ]
    }
   ],
   "source": [
    "for i in range(iters):\n",
    "    optimizer2.zero_grad()\n",
    "    res2 = model2.forward(x)\n",
    "    loss2 = loss_fn(res2, y)\n",
    "    loss2.backward()\n",
    "    optimizer2.step()"
   ]
  },
  {
   "cell_type": "code",
   "execution_count": 18,
   "id": "e8576d40",
   "metadata": {},
   "outputs": [
    {
     "data": {
      "text/plain": [
       "array([[False, False, False],\n",
       "       [False, False, False]])"
      ]
     },
     "execution_count": 18,
     "metadata": {},
     "output_type": "execute_result"
    }
   ],
   "source": [
    "res2.cpu().data==res.cpu().data"
   ]
  },
  {
   "cell_type": "code",
   "execution_count": 19,
   "id": "56fc46b0",
   "metadata": {},
   "outputs": [
    {
     "data": {
      "text/plain": [
       "array([[0.04205809, 0.33634186, 0.6216001 ],\n",
       "       [0.0986051 , 0.40228686, 0.499108  ]], dtype=float32)"
      ]
     },
     "execution_count": 19,
     "metadata": {},
     "output_type": "execute_result"
    }
   ],
   "source": [
    "res2.cpu().data"
   ]
  },
  {
   "cell_type": "code",
   "execution_count": 20,
   "id": "dbd0474e",
   "metadata": {},
   "outputs": [
    {
     "data": {
      "text/plain": [
       "array([[False, False, False],\n",
       "       [False, False, False]])"
      ]
     },
     "execution_count": 20,
     "metadata": {},
     "output_type": "execute_result"
    }
   ],
   "source": [
    "loss.cpu().data==loss2.cpu().data"
   ]
  },
  {
   "cell_type": "code",
   "execution_count": 21,
   "id": "851f4b4f",
   "metadata": {},
   "outputs": [
    {
     "data": {
      "text/plain": [
       "array([[0.63321304, 0.30438375, 0.29654577],\n",
       "       [0.28190437, 0.11408064, 0.8543474 ]], dtype=float32)"
      ]
     },
     "execution_count": 21,
     "metadata": {},
     "output_type": "execute_result"
    }
   ],
   "source": [
    "loss2.cpu().data"
   ]
  },
  {
   "cell_type": "code",
   "execution_count": 22,
   "id": "73eb3657",
   "metadata": {},
   "outputs": [
    {
     "data": {
      "text/plain": [
       "array([[False, False, False],\n",
       "       [False, False, False]])"
      ]
     },
     "execution_count": 22,
     "metadata": {},
     "output_type": "execute_result"
    }
   ],
   "source": [
    "res.grad.cpu().data==res2.grad.cpu().data"
   ]
  },
  {
   "cell_type": "code",
   "execution_count": 23,
   "id": "1c6b96e1",
   "metadata": {},
   "outputs": [
    {
     "data": {
      "text/plain": [
       "array([[-0.99999994,  1.0000001 , -0.9999999 ],\n",
       "       [-1.        , -0.99999994,  0.99999994]], dtype=float32)"
      ]
     },
     "execution_count": 23,
     "metadata": {},
     "output_type": "execute_result"
    }
   ],
   "source": [
    "res2.grad.cpu().data"
   ]
  },
  {
   "cell_type": "code",
   "execution_count": 24,
   "id": "618696f8",
   "metadata": {},
   "outputs": [
    {
     "data": {
      "text/plain": [
       "(<DenseTensor <GPUBuffer with shape (4, 3)> with grad None>,\n",
       " <DenseTensor <GPUBuffer with shape (4, 3)> with grad None>)"
      ]
     },
     "execution_count": 24,
     "metadata": {},
     "output_type": "execute_result"
    }
   ],
   "source": [
    "model.W.grad, model2.W.grad"
   ]
  },
  {
   "cell_type": "code",
   "execution_count": 25,
   "id": "14b8d201",
   "metadata": {},
   "outputs": [
    {
     "data": {
      "text/plain": [
       "array([[False, False, False],\n",
       "       [False, False, False],\n",
       "       [False, False, False],\n",
       "       [False, False, False]])"
      ]
     },
     "execution_count": 25,
     "metadata": {},
     "output_type": "execute_result"
    }
   ],
   "source": [
    "model.W.grad.cpu().data==model2.W.grad.cpu().data"
   ]
  },
  {
   "cell_type": "code",
   "execution_count": 26,
   "id": "63481731",
   "metadata": {},
   "outputs": [
    {
     "data": {
      "text/plain": [
       "array([[-1.2670451 , -3.7941687 ,  5.0612135 ],\n",
       "       [ 0.5773096 ,  5.649423  , -6.2267327 ],\n",
       "       [-0.22847073,  7.5477858 , -7.3193154 ],\n",
       "       [-1.0991318 , -2.484571  ,  3.5837026 ]], dtype=float32)"
      ]
     },
     "execution_count": 26,
     "metadata": {},
     "output_type": "execute_result"
    }
   ],
   "source": [
    "model.W.grad.cpu().data"
   ]
  },
  {
   "cell_type": "code",
   "execution_count": 27,
   "id": "b44bd79a",
   "metadata": {},
   "outputs": [
    {
     "data": {
      "text/plain": [
       "array([[-0.1602433 , -0.4870642 ,  0.6473075 ],\n",
       "       [ 0.06864072,  0.67755413, -0.7461949 ],\n",
       "       [-0.03807362,  0.8688285 , -0.8307549 ],\n",
       "       [-0.13990688, -0.32875866,  0.46866554]], dtype=float32)"
      ]
     },
     "execution_count": 27,
     "metadata": {},
     "output_type": "execute_result"
    }
   ],
   "source": [
    "model2.W.grad.cpu().data"
   ]
  },
  {
   "cell_type": "code",
   "execution_count": 28,
   "id": "04999192",
   "metadata": {},
   "outputs": [
    {
     "data": {
      "text/plain": [
       "<DenseTensor <GPUBuffer with shape (4, 3)> with grad None>"
      ]
     },
     "execution_count": 28,
     "metadata": {},
     "output_type": "execute_result"
    }
   ],
   "source": [
    "model.W.grad"
   ]
  },
  {
   "cell_type": "code",
   "execution_count": null,
   "id": "d1fe6f08",
   "metadata": {},
   "outputs": [],
   "source": []
  },
  {
   "cell_type": "code",
   "execution_count": null,
   "id": "7a45e9a8",
   "metadata": {},
   "outputs": [],
   "source": []
  },
  {
   "cell_type": "code",
   "execution_count": null,
   "id": "dd35f59d",
   "metadata": {},
   "outputs": [],
   "source": []
  },
  {
   "cell_type": "code",
   "execution_count": null,
   "id": "897a2a7e",
   "metadata": {},
   "outputs": [],
   "source": []
  },
  {
   "cell_type": "code",
   "execution_count": null,
   "id": "07745d92",
   "metadata": {},
   "outputs": [],
   "source": []
  },
  {
   "cell_type": "code",
   "execution_count": null,
   "id": "81962acd",
   "metadata": {},
   "outputs": [],
   "source": []
  },
  {
   "cell_type": "code",
   "execution_count": null,
   "id": "ebfecb5f",
   "metadata": {},
   "outputs": [],
   "source": []
  },
  {
   "cell_type": "code",
   "execution_count": null,
   "id": "4c5b2fec",
   "metadata": {},
   "outputs": [],
   "source": []
  },
  {
   "cell_type": "code",
   "execution_count": null,
   "id": "07f0b1d2",
   "metadata": {},
   "outputs": [],
   "source": []
  },
  {
   "cell_type": "code",
   "execution_count": null,
   "id": "ce7898e2",
   "metadata": {},
   "outputs": [],
   "source": []
  },
  {
   "cell_type": "code",
   "execution_count": null,
   "id": "e14f967b",
   "metadata": {},
   "outputs": [],
   "source": []
  }
 ],
 "metadata": {
  "kernelspec": {
   "display_name": "Python 3",
   "language": "python",
   "name": "python3"
  },
  "language_info": {
   "codemirror_mode": {
    "name": "ipython",
    "version": 3
   },
   "file_extension": ".py",
   "mimetype": "text/x-python",
   "name": "python",
   "nbconvert_exporter": "python",
   "pygments_lexer": "ipython3",
   "version": "3.8.12"
  }
 },
 "nbformat": 4,
 "nbformat_minor": 5
}
