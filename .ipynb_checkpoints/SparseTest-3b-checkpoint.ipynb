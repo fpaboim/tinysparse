{
 "cells": [
  {
   "cell_type": "code",
   "execution_count": 1,
   "id": "4309590e",
   "metadata": {},
   "outputs": [
    {
     "name": "stdout",
     "output_type": "stream",
     "text": [
      "DEVICE:GPU\n"
     ]
    }
   ],
   "source": [
    "from tinygrad.densetensor import DenseTensor, cl_queue\n",
    "from tinygrad.sparsetensor import SparseTensor\n",
    "import numpy as np\n",
    "import tinygrad.optim as optim\n",
    "from extra.utils import get_parameters\n",
    "\n",
    "\n",
    "%load_ext autoreload\n",
    "%autoreload 2"
   ]
  },
  {
   "cell_type": "code",
   "execution_count": 2,
   "id": "73101cd9",
   "metadata": {},
   "outputs": [],
   "source": [
    "dim1 = 4\n",
    "dim2 = 4\n",
    "dim3 = 4\n",
    "\n",
    "np.random.seed(9)"
   ]
  },
  {
   "cell_type": "code",
   "execution_count": 3,
   "id": "d9c197bb",
   "metadata": {},
   "outputs": [
    {
     "name": "stdout",
     "output_type": "stream",
     "text": [
      "warning, (4, 4) isn't float32, it's float64\n"
     ]
    }
   ],
   "source": [
    "x_init = np.random.randn(dim1,dim2).astype(np.float32)\n",
    "w_init = np.random.randn(dim2,dim3).astype(np.float32)\n",
    "x = DenseTensor(x_init)\n",
    "y = DenseTensor(np.random.randn(dim1,dim3))"
   ]
  },
  {
   "cell_type": "markdown",
   "id": "060e165f",
   "metadata": {},
   "source": [
    "W_TEST = SparseTensor.uniform(dim2,dim3, randsparsity=0.6).to_numpy()\n",
    "W_TEST"
   ]
  },
  {
   "cell_type": "code",
   "execution_count": 4,
   "id": "77d80814",
   "metadata": {},
   "outputs": [
    {
     "data": {
      "text/plain": [
       "array([[ 1.54272962, -0.90072119, -0.13712502,  1.29757905],\n",
       "       [ 0.67527115,  0.03195812,  0.9181459 ,  0.38050947],\n",
       "       [ 0.5163675 , -0.35523945,  0.208777  ,  0.32841107],\n",
       "       [-0.49822477, -2.09177685, -0.08258774,  2.45518255]])"
      ]
     },
     "execution_count": 4,
     "metadata": {},
     "output_type": "execute_result"
    }
   ],
   "source": [
    "W_TEST = SparseTensor(w_init).to_numpy()\n",
    "W_TEST"
   ]
  },
  {
   "cell_type": "code",
   "execution_count": 5,
   "id": "8a9285aa",
   "metadata": {},
   "outputs": [],
   "source": [
    "class MLP:\n",
    "  def __init__(self, init_dense):\n",
    "    #self.W = DenseTensor(init_dense)\n",
    "    self.W = DenseTensor(W_TEST)\n",
    "\n",
    "  def parameters(self):\n",
    "    return get_parameters(self)\n",
    "\n",
    "  def forward(self, x):\n",
    "    out = x.dot(self.W)\n",
    "    out = out.softmax()\n",
    "    #out = out.mul(self.m).add(self.m).sum()\n",
    "    return out"
   ]
  },
  {
   "cell_type": "code",
   "execution_count": 6,
   "id": "a5168e97",
   "metadata": {},
   "outputs": [],
   "source": [
    "class MLP2:\n",
    "  def __init__(self):\n",
    "    self.W = SparseTensor(W_TEST)\n",
    "    #self.W = SparseTensor.uniform(dim2,dim3)\n",
    "    #self.W = SparseTensor.uniform(dim2,dim3)\n",
    "\n",
    "  def parameters(self):\n",
    "    return get_parameters(self)\n",
    "\n",
    "  def forward(self, x):\n",
    "    out = x.dot(self.W)\n",
    "    out = out.softmax()\n",
    "    #out = out.mul(self.m).add(self.m).sum()\n",
    "    return out"
   ]
  },
  {
   "cell_type": "code",
   "execution_count": 7,
   "id": "13c4436e",
   "metadata": {},
   "outputs": [],
   "source": [
    "def loss_fn(y, y_pred):\n",
    "    return ((y-y_pred)**2)**.5"
   ]
  },
  {
   "cell_type": "code",
   "execution_count": 8,
   "id": "c151d9eb",
   "metadata": {},
   "outputs": [],
   "source": [
    "model2 = MLP2()"
   ]
  },
  {
   "cell_type": "code",
   "execution_count": 9,
   "id": "da239456",
   "metadata": {},
   "outputs": [
    {
     "data": {
      "text/plain": [
       "array([4, 4, 4, 4], dtype=uint32)"
      ]
     },
     "execution_count": 9,
     "metadata": {},
     "output_type": "execute_result"
    }
   ],
   "source": [
    "model2.W.get_nnzs()"
   ]
  },
  {
   "cell_type": "code",
   "execution_count": 10,
   "id": "6c251838",
   "metadata": {},
   "outputs": [
    {
     "data": {
      "text/plain": [
       "array([[ 1.54272962, -0.90072119, -0.13712502,  1.29757905],\n",
       "       [ 0.67527115,  0.03195812,  0.9181459 ,  0.38050947],\n",
       "       [ 0.5163675 , -0.35523945,  0.208777  ,  0.32841107],\n",
       "       [-0.49822477, -2.09177685, -0.08258774,  2.45518255]])"
      ]
     },
     "execution_count": 10,
     "metadata": {},
     "output_type": "execute_result"
    }
   ],
   "source": [
    "dense_init = model2.W.to_numpy()\n",
    "dense_init"
   ]
  },
  {
   "cell_type": "code",
   "execution_count": 11,
   "id": "8fe94f00",
   "metadata": {},
   "outputs": [],
   "source": [
    "model = MLP(dense_init)"
   ]
  },
  {
   "cell_type": "markdown",
   "id": "3b00810f",
   "metadata": {},
   "source": [
    "### Dense"
   ]
  },
  {
   "cell_type": "code",
   "execution_count": 12,
   "id": "5d6f6d16",
   "metadata": {},
   "outputs": [],
   "source": [
    "iters = 1\n",
    "optimizer = optim.SGD(model.parameters(), lr=1)"
   ]
  },
  {
   "cell_type": "code",
   "execution_count": 13,
   "id": "1a506d86",
   "metadata": {},
   "outputs": [],
   "source": [
    "for i in range(iters):\n",
    "    res = model.forward(x)\n",
    "    optimizer.zero_grad()\n",
    "    loss = loss_fn(res, y)\n",
    "    loss.backward()\n",
    "    optimizer.step()"
   ]
  },
  {
   "cell_type": "code",
   "execution_count": 14,
   "id": "83c586b7",
   "metadata": {},
   "outputs": [
    {
     "data": {
      "text/plain": [
       "[<DenseTensor <GPUBuffer with shape (4, 4)> with grad <GPUBuffer with shape (4, 4)>>,\n",
       " <DenseTensor <GPUBuffer with shape (4, 4)> with grad None>]"
      ]
     },
     "execution_count": 14,
     "metadata": {},
     "output_type": "execute_result"
    }
   ],
   "source": [
    "model.parameters()"
   ]
  },
  {
   "cell_type": "code",
   "execution_count": 15,
   "id": "4641b69d",
   "metadata": {},
   "outputs": [
    {
     "data": {
      "text/plain": [
       "array([[1.5660693e-01, 3.5940760e-01, 9.5464088e-02, 3.8852134e-01],\n",
       "       [5.0784901e-02, 8.6381847e-01, 3.4803964e-02, 5.0592598e-02],\n",
       "       [6.7446940e-03, 7.9087674e-04, 2.3246136e-02, 9.6921837e-01],\n",
       "       [2.7409911e-01, 1.5916763e-02, 5.3959215e-01, 1.7039205e-01]],\n",
       "      dtype=float32)"
      ]
     },
     "execution_count": 15,
     "metadata": {},
     "output_type": "execute_result"
    }
   ],
   "source": [
    "res.cpu().data"
   ]
  },
  {
   "cell_type": "code",
   "execution_count": 16,
   "id": "8eb71052",
   "metadata": {},
   "outputs": [
    {
     "data": {
      "text/plain": [
       "array([[2.828717  , 1.272687  , 0.32277843, 0.11920594],\n",
       "       [1.0796763 , 0.17857905, 1.2690065 , 1.3388082 ],\n",
       "       [0.6631973 , 0.05704817, 0.5231487 , 0.532799  ],\n",
       "       [0.6499121 , 0.9389783 , 1.377658  , 0.3206949 ]], dtype=float32)"
      ]
     },
     "execution_count": 16,
     "metadata": {},
     "output_type": "execute_result"
    }
   ],
   "source": [
    "loss.cpu().data"
   ]
  },
  {
   "cell_type": "code",
   "execution_count": 17,
   "id": "44d83871",
   "metadata": {},
   "outputs": [
    {
     "data": {
      "text/plain": [
       "array([[ 0.9999999,  1.       ,  1.       ,  0.9999999],\n",
       "       [-1.       , -0.9999999, -1.       , -1.       ],\n",
       "       [ 1.       ,  1.       ,  1.       ,  1.       ],\n",
       "       [ 1.       ,  1.       , -1.       ,  1.       ]], dtype=float32)"
      ]
     },
     "execution_count": 17,
     "metadata": {},
     "output_type": "execute_result"
    }
   ],
   "source": [
    "res.grad.cpu().data"
   ]
  },
  {
   "cell_type": "code",
   "execution_count": 18,
   "id": "9ac039f6",
   "metadata": {},
   "outputs": [
    {
     "data": {
      "text/plain": [
       "array([[ 0.08775962,  0.00509613, -0.14741097,  0.05455523],\n",
       "       [ 0.20928203,  0.01215285, -0.35153374,  0.1300989 ],\n",
       "       [ 0.5391952 ,  0.03131065, -0.9056932 ,  0.33518744],\n",
       "       [ 0.12742296,  0.00739936, -0.214034  ,  0.0792117 ]],\n",
       "      dtype=float32)"
      ]
     },
     "execution_count": 18,
     "metadata": {},
     "output_type": "execute_result"
    }
   ],
   "source": [
    "model.W.grad.cpu().data"
   ]
  },
  {
   "cell_type": "markdown",
   "id": "1f62f27e",
   "metadata": {},
   "source": [
    "### Second"
   ]
  },
  {
   "cell_type": "code",
   "execution_count": 19,
   "id": "51f5c948",
   "metadata": {},
   "outputs": [
    {
     "data": {
      "text/plain": [
       "array([[ 1.5427296 , -0.9007212 , -0.13712502,  1.297579  ],\n",
       "       [ 0.67527115,  0.03195812,  0.9181459 ,  0.38050947],\n",
       "       [ 0.5163675 , -0.35523945,  0.208777  ,  0.32841107],\n",
       "       [-0.49822477, -2.0917768 , -0.08258774,  2.4551826 ]],\n",
       "      dtype=float32)"
      ]
     },
     "execution_count": 19,
     "metadata": {},
     "output_type": "execute_result"
    }
   ],
   "source": [
    "w_init"
   ]
  },
  {
   "cell_type": "code",
   "execution_count": 20,
   "id": "31a9604d",
   "metadata": {},
   "outputs": [],
   "source": [
    "model2 = MLP2()"
   ]
  },
  {
   "cell_type": "code",
   "execution_count": 21,
   "id": "0e020858",
   "metadata": {},
   "outputs": [],
   "source": [
    "optimizer2 = optim.SGD(model2.parameters(), lr=1)"
   ]
  },
  {
   "cell_type": "code",
   "execution_count": 22,
   "id": "df5115ec",
   "metadata": {},
   "outputs": [],
   "source": [
    "for i in range(iters):\n",
    "    res2 = model2.forward(x)\n",
    "    optimizer2.zero_grad()\n",
    "    loss2 = loss_fn(res2, y)\n",
    "    loss2.backward()\n",
    "    optimizer2.step()"
   ]
  },
  {
   "cell_type": "markdown",
   "id": "c52cfabf",
   "metadata": {},
   "source": [
    "#### fwd"
   ]
  },
  {
   "cell_type": "code",
   "execution_count": 23,
   "id": "e8576d40",
   "metadata": {},
   "outputs": [
    {
     "data": {
      "text/plain": [
       "array([[False, False, False, False],\n",
       "       [False, False, False, False],\n",
       "       [False, False, False, False],\n",
       "       [False, False, False, False]])"
      ]
     },
     "execution_count": 23,
     "metadata": {},
     "output_type": "execute_result"
    }
   ],
   "source": [
    "res2.cpu().data==res.cpu().data"
   ]
  },
  {
   "cell_type": "code",
   "execution_count": 24,
   "id": "56fc46b0",
   "metadata": {},
   "outputs": [
    {
     "data": {
      "text/plain": [
       "array([[1.4759253e-01, 4.7290090e-01, 1.7974024e-01, 1.9976625e-01],\n",
       "       [3.2619357e-02, 8.9211535e-01, 6.1257318e-02, 1.4007927e-02],\n",
       "       [4.5565027e-03, 4.3189147e-04, 8.2788356e-03, 9.8673272e-01],\n",
       "       [3.0022663e-01, 9.8456349e-03, 1.8008390e-01, 5.0984389e-01]],\n",
       "      dtype=float32)"
      ]
     },
     "execution_count": 24,
     "metadata": {},
     "output_type": "execute_result"
    }
   ],
   "source": [
    "res2.cpu().data"
   ]
  },
  {
   "cell_type": "code",
   "execution_count": 25,
   "id": "14284cf1",
   "metadata": {},
   "outputs": [
    {
     "data": {
      "text/plain": [
       "array([[ 9.0143979e-03, -1.1349329e-01, -8.4276147e-02,  1.8875510e-01],\n",
       "       [ 1.8165544e-02, -2.8296888e-02, -2.6453353e-02,  3.6584672e-02],\n",
       "       [ 2.1881913e-03,  3.5898527e-04,  1.4967300e-02, -1.7514348e-02],\n",
       "       [-2.6127517e-02,  6.0711280e-03,  3.5950825e-01, -3.3945185e-01]],\n",
       "      dtype=float32)"
      ]
     },
     "execution_count": 25,
     "metadata": {},
     "output_type": "execute_result"
    }
   ],
   "source": [
    "res.cpu().data - res2.cpu().data"
   ]
  },
  {
   "cell_type": "markdown",
   "id": "6189a9e9",
   "metadata": {},
   "source": [
    "#### loss"
   ]
  },
  {
   "cell_type": "code",
   "execution_count": 26,
   "id": "dbd0474e",
   "metadata": {},
   "outputs": [
    {
     "data": {
      "text/plain": [
       "array([[False, False, False, False],\n",
       "       [False, False, False, False],\n",
       "       [False, False, False, False],\n",
       "       [False, False, False, False]])"
      ]
     },
     "execution_count": 26,
     "metadata": {},
     "output_type": "execute_result"
    }
   ],
   "source": [
    "loss.cpu().data==loss2.cpu().data"
   ]
  },
  {
   "cell_type": "code",
   "execution_count": 27,
   "id": "851f4b4f",
   "metadata": {},
   "outputs": [
    {
     "data": {
      "text/plain": [
       "array([[2.8197026 , 1.3861802 , 0.4070546 , 0.06954914],\n",
       "       [1.0978417 , 0.15028214, 1.2425531 , 1.3753928 ],\n",
       "       [0.6610091 , 0.05668918, 0.50818145, 0.5503133 ],\n",
       "       [0.6760397 , 0.93290716, 1.7371664 , 0.6601467 ]], dtype=float32)"
      ]
     },
     "execution_count": 27,
     "metadata": {},
     "output_type": "execute_result"
    }
   ],
   "source": [
    "loss2.cpu().data"
   ]
  },
  {
   "cell_type": "code",
   "execution_count": 28,
   "id": "1ca18cf1",
   "metadata": {},
   "outputs": [
    {
     "data": {
      "text/plain": [
       "array([[ 9.01436806e-03, -1.13493204e-01, -8.42761695e-02,\n",
       "         4.96568009e-02],\n",
       "       [-1.81654692e-02,  2.82969028e-02,  2.64533758e-02,\n",
       "        -3.65846157e-02],\n",
       "       [ 2.18820572e-03,  3.58983874e-04,  1.49672627e-02,\n",
       "        -1.75142884e-02],\n",
       "       [-2.61275768e-02,  6.07115030e-03, -3.59508395e-01,\n",
       "        -3.39451820e-01]], dtype=float32)"
      ]
     },
     "execution_count": 28,
     "metadata": {},
     "output_type": "execute_result"
    }
   ],
   "source": [
    "loss.cpu().data - loss2.cpu().data"
   ]
  },
  {
   "cell_type": "markdown",
   "id": "5a0a2ab3",
   "metadata": {},
   "source": [
    "#### grad"
   ]
  },
  {
   "cell_type": "code",
   "execution_count": 29,
   "id": "73eb3657",
   "metadata": {},
   "outputs": [
    {
     "data": {
      "text/plain": [
       "array([[False,  True,  True, False],\n",
       "       [False, False,  True,  True],\n",
       "       [False,  True, False, False],\n",
       "       [False,  True,  True, False]])"
      ]
     },
     "execution_count": 29,
     "metadata": {},
     "output_type": "execute_result"
    }
   ],
   "source": [
    "res.grad.cpu().data==res2.grad.cpu().data"
   ]
  },
  {
   "cell_type": "code",
   "execution_count": 30,
   "id": "1c6b96e1",
   "metadata": {},
   "outputs": [
    {
     "data": {
      "text/plain": [
       "array([[ 0.99999994,  1.        ,  1.        , -1.        ],\n",
       "       [-0.99999994, -0.99999994, -1.        , -1.        ],\n",
       "       [ 0.99999994,  1.        ,  0.99999994,  0.99999994],\n",
       "       [ 0.99999994,  1.        , -1.        ,  0.99999994]],\n",
       "      dtype=float32)"
      ]
     },
     "execution_count": 30,
     "metadata": {},
     "output_type": "execute_result"
    }
   ],
   "source": [
    "res2.grad.cpu().data"
   ]
  },
  {
   "cell_type": "code",
   "execution_count": 31,
   "id": "03aea6d2",
   "metadata": {},
   "outputs": [
    {
     "data": {
      "text/plain": [
       "array([[-5.9604645e-08,  0.0000000e+00,  0.0000000e+00,  1.9999999e+00],\n",
       "       [-5.9604645e-08,  5.9604645e-08,  0.0000000e+00,  0.0000000e+00],\n",
       "       [ 5.9604645e-08,  0.0000000e+00,  5.9604645e-08,  5.9604645e-08],\n",
       "       [ 5.9604645e-08,  0.0000000e+00,  0.0000000e+00,  5.9604645e-08]],\n",
       "      dtype=float32)"
      ]
     },
     "execution_count": 31,
     "metadata": {},
     "output_type": "execute_result"
    }
   ],
   "source": [
    "res.grad.cpu().data-res2.grad.cpu().data"
   ]
  },
  {
   "cell_type": "markdown",
   "id": "f8ff5b18",
   "metadata": {},
   "source": [
    "#### weight"
   ]
  },
  {
   "cell_type": "code",
   "execution_count": 32,
   "id": "b0d6797c",
   "metadata": {},
   "outputs": [],
   "source": [
    "def to_dense(data, cols, nnzs, ellw, shape):\n",
    "    out = np.zeros(shape)\n",
    "    for row in range(shape[0]):\n",
    "        for icol in range(nnzs[row]):\n",
    "            #print('idx:',row,cols[row*ellw+icol])\n",
    "            out[row,cols[row*ellw+icol]] = data[row*ellw+icol]\n",
    "    return out"
   ]
  },
  {
   "cell_type": "code",
   "execution_count": 33,
   "id": "618696f8",
   "metadata": {},
   "outputs": [
    {
     "data": {
      "text/plain": [
       "(<DenseTensor <GPUBuffer with shape (4, 4)> with grad None>,\n",
       " <SparseTensor <GPUBuffer with shape (512,)> with grad None>)"
      ]
     },
     "execution_count": 33,
     "metadata": {},
     "output_type": "execute_result"
    }
   ],
   "source": [
    "model.W.grad, model2.W.grad"
   ]
  },
  {
   "cell_type": "code",
   "execution_count": 34,
   "id": "8a731272",
   "metadata": {},
   "outputs": [
    {
     "data": {
      "text/plain": [
       "array([[ 0.08775962,  0.00509613, -0.14741097,  0.05455523],\n",
       "       [ 0.20928203,  0.01215285, -0.35153374,  0.1300989 ],\n",
       "       [ 0.5391952 ,  0.03131065, -0.9056932 ,  0.33518744],\n",
       "       [ 0.12742296,  0.00739936, -0.214034  ,  0.0792117 ]],\n",
       "      dtype=float32)"
      ]
     },
     "execution_count": 34,
     "metadata": {},
     "output_type": "execute_result"
    }
   ],
   "source": [
    "model.W.grad.cpu().data"
   ]
  },
  {
   "cell_type": "code",
   "execution_count": 48,
   "id": "b2127d91",
   "metadata": {},
   "outputs": [
    {
     "data": {
      "text/plain": [
       "array([[ 0.03214619,  0.0594299 ,  0.13129239,  0.04582022],\n",
       "       [ 0.00126151, -0.0521974 , -0.20440495, -0.00090652],\n",
       "       [ 0.        ,  0.        ,  0.        ,  0.        ],\n",
       "       [ 0.05412513,  0.22249129,  0.69155049,  0.08322071]])"
      ]
     },
     "execution_count": 48,
     "metadata": {},
     "output_type": "execute_result"
    }
   ],
   "source": [
    "model2.W.grad.to_numpy()"
   ]
  },
  {
   "cell_type": "code",
   "execution_count": 40,
   "id": "a0126843",
   "metadata": {},
   "outputs": [
    {
     "data": {
      "text/plain": [
       "array([0.03214619, 0.00126151, 0.03214619, 0.05412513, 0.03214619,\n",
       "       0.03214619, 0.03214619, 0.03214619, 0.03214619, 0.03214619,\n",
       "       0.03214619, 0.03214619, 0.03214619, 0.03214619, 0.03214619,\n",
       "       0.03214619], dtype=float32)"
      ]
     },
     "execution_count": 40,
     "metadata": {},
     "output_type": "execute_result"
    }
   ],
   "source": [
    "data"
   ]
  },
  {
   "cell_type": "code",
   "execution_count": 41,
   "id": "1dbc9b2f",
   "metadata": {},
   "outputs": [
    {
     "data": {
      "text/plain": [
       "array([0, 1, 0, 3, 0, 0, 0, 0, 0, 0, 0, 0, 0, 0, 0, 0], dtype=uint32)"
      ]
     },
     "execution_count": 41,
     "metadata": {},
     "output_type": "execute_result"
    }
   ],
   "source": [
    "cols"
   ]
  },
  {
   "cell_type": "code",
   "execution_count": 42,
   "id": "1c1dc17a",
   "metadata": {},
   "outputs": [
    {
     "data": {
      "text/plain": [
       "array([128, 128, 128,   0], dtype=uint32)"
      ]
     },
     "execution_count": 42,
     "metadata": {},
     "output_type": "execute_result"
    }
   ],
   "source": [
    "nnzs"
   ]
  },
  {
   "cell_type": "code",
   "execution_count": 43,
   "id": "46f0be15",
   "metadata": {},
   "outputs": [
    {
     "data": {
      "text/plain": [
       "array([[ 1.4301615 , -0.90679747,  0.08306126,  1.1960373 ],\n",
       "       [ 0.42296875,  0.0698323 ,  1.4642829 ,  0.04880069],\n",
       "       [-0.11322138, -0.19133575,  1.6425145 , -0.6396414 ],\n",
       "       [-0.66086805, -2.098002  ,  0.23815697,  2.3033063 ]],\n",
       "      dtype=float32)"
      ]
     },
     "execution_count": 43,
     "metadata": {},
     "output_type": "execute_result"
    }
   ],
   "source": [
    "denserec = model.W.cpu().data \n",
    "denserec"
   ]
  },
  {
   "cell_type": "code",
   "execution_count": 44,
   "id": "7a45e9a8",
   "metadata": {},
   "outputs": [
    {
     "data": {
      "text/plain": [
       "array([[ 1.48577487, -0.90198272, -0.06434972,  1.25059247],\n",
       "       [ 0.5728209 ,  0.08415551,  1.1127491 ,  0.17889959],\n",
       "       [ 0.29468143, -0.1508345 ,  0.73682135, -0.30445394],\n",
       "       [-0.49822477, -2.09177685, -0.08258774,  2.45518255]])"
      ]
     },
     "execution_count": 44,
     "metadata": {},
     "output_type": "execute_result"
    }
   ],
   "source": [
    "sparserec = model2.W.to_numpy()\n",
    "sparserec"
   ]
  },
  {
   "cell_type": "code",
   "execution_count": 45,
   "id": "dd35f59d",
   "metadata": {},
   "outputs": [
    {
     "data": {
      "text/plain": [
       "array([[-0.0556134 , -0.00481474,  0.14741097, -0.05455518],\n",
       "       [-0.14985216, -0.01432322,  0.35153377, -0.13009889],\n",
       "       [-0.40790281, -0.04050125,  0.90569311, -0.33518746],\n",
       "       [-0.16264328, -0.00622511,  0.32074472, -0.15187621]])"
      ]
     },
     "execution_count": 45,
     "metadata": {},
     "output_type": "execute_result"
    }
   ],
   "source": [
    "denserec - sparserec"
   ]
  },
  {
   "cell_type": "code",
   "execution_count": 46,
   "id": "796f73a6",
   "metadata": {},
   "outputs": [
    {
     "data": {
      "text/plain": [
       "array([[ 1.48577487, -0.90198272, -0.06434972,  1.19646728],\n",
       "       [ 0.5728209 ,  0.08415551,  1.1127491 , -0.04359171],\n",
       "       [ 0.5163675 , -0.35523945,  0.208777  ,  0.32841107],\n",
       "       [-0.49822477, -2.09177685, -0.08258774,  2.45518255]])"
      ]
     },
     "execution_count": 46,
     "metadata": {},
     "output_type": "execute_result"
    }
   ],
   "source": [
    "sparserec2 = model2.W.to_numpy(dual=True)\n",
    "sparserec2.T"
   ]
  },
  {
   "cell_type": "code",
   "execution_count": 47,
   "id": "f985fd5e",
   "metadata": {},
   "outputs": [
    {
     "data": {
      "text/plain": [
       "array([[-5.56133986e-02, -4.81474400e-03,  1.47410974e-01,\n",
       "        -4.29987907e-04],\n",
       "       [-1.49852157e-01, -1.43232197e-02,  3.51533771e-01,\n",
       "         9.23923999e-02],\n",
       "       [-6.29588872e-01,  1.63903698e-01,  1.43373747e+00,\n",
       "        -9.68052477e-01],\n",
       "       [-1.62643284e-01, -6.22510910e-03,  3.20744716e-01,\n",
       "        -1.51876211e-01]])"
      ]
     },
     "execution_count": 47,
     "metadata": {},
     "output_type": "execute_result"
    }
   ],
   "source": [
    "denserec - sparserec2.T"
   ]
  },
  {
   "cell_type": "code",
   "execution_count": null,
   "id": "ebfecb5f",
   "metadata": {},
   "outputs": [],
   "source": []
  },
  {
   "cell_type": "code",
   "execution_count": null,
   "id": "2a56f04d",
   "metadata": {},
   "outputs": [],
   "source": [
    "seedmat - denserec"
   ]
  },
  {
   "cell_type": "code",
   "execution_count": null,
   "id": "4c5b2fec",
   "metadata": {},
   "outputs": [],
   "source": []
  },
  {
   "cell_type": "code",
   "execution_count": null,
   "id": "07f0b1d2",
   "metadata": {},
   "outputs": [],
   "source": []
  },
  {
   "cell_type": "code",
   "execution_count": null,
   "id": "ce7898e2",
   "metadata": {},
   "outputs": [],
   "source": []
  },
  {
   "cell_type": "code",
   "execution_count": null,
   "id": "e14f967b",
   "metadata": {},
   "outputs": [],
   "source": []
  },
  {
   "cell_type": "code",
   "execution_count": null,
   "id": "8e79f32e",
   "metadata": {},
   "outputs": [],
   "source": []
  },
  {
   "cell_type": "code",
   "execution_count": null,
   "id": "a93b6000",
   "metadata": {},
   "outputs": [],
   "source": []
  },
  {
   "cell_type": "code",
   "execution_count": null,
   "id": "d857923b",
   "metadata": {},
   "outputs": [],
   "source": []
  },
  {
   "cell_type": "code",
   "execution_count": null,
   "id": "a55f210a",
   "metadata": {},
   "outputs": [],
   "source": []
  },
  {
   "cell_type": "code",
   "execution_count": null,
   "id": "2884b8f9",
   "metadata": {},
   "outputs": [],
   "source": []
  },
  {
   "cell_type": "code",
   "execution_count": null,
   "id": "193ba45d",
   "metadata": {},
   "outputs": [],
   "source": []
  },
  {
   "cell_type": "code",
   "execution_count": null,
   "id": "ea7948fa",
   "metadata": {},
   "outputs": [],
   "source": []
  },
  {
   "cell_type": "code",
   "execution_count": null,
   "id": "c59a13bd",
   "metadata": {},
   "outputs": [],
   "source": []
  },
  {
   "cell_type": "raw",
   "id": "a5a63123",
   "metadata": {},
   "source": []
  }
 ],
 "metadata": {
  "kernelspec": {
   "display_name": "Python 3",
   "language": "python",
   "name": "python3"
  },
  "language_info": {
   "codemirror_mode": {
    "name": "ipython",
    "version": 3
   },
   "file_extension": ".py",
   "mimetype": "text/x-python",
   "name": "python",
   "nbconvert_exporter": "python",
   "pygments_lexer": "ipython3",
   "version": "3.8.12"
  }
 },
 "nbformat": 4,
 "nbformat_minor": 5
}
