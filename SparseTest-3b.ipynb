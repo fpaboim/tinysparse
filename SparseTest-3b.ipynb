{
 "cells": [
  {
   "cell_type": "code",
   "execution_count": 1,
   "id": "4309590e",
   "metadata": {},
   "outputs": [
    {
     "name": "stdout",
     "output_type": "stream",
     "text": [
      "DEVICE:GPU\n"
     ]
    }
   ],
   "source": [
    "from tinygrad.densetensor import DenseTensor, cl_queue\n",
    "from tinygrad.sparsetensor import SparseTensor\n",
    "import numpy as np\n",
    "import tinygrad.optim as optim\n",
    "from extra.utils import get_parameters\n",
    "\n",
    "\n",
    "%load_ext autoreload\n",
    "%autoreload 2"
   ]
  },
  {
   "cell_type": "code",
   "execution_count": 2,
   "id": "73101cd9",
   "metadata": {},
   "outputs": [],
   "source": [
    "dim1 = 4\n",
    "dim2 = 8\n",
    "dim3 = 6\n",
    "\n",
    "np.random.seed(9)"
   ]
  },
  {
   "cell_type": "code",
   "execution_count": 3,
   "id": "d9c197bb",
   "metadata": {},
   "outputs": [
    {
     "name": "stdout",
     "output_type": "stream",
     "text": [
      "warning, (4, 6) isn't float32, it's float64\n"
     ]
    }
   ],
   "source": [
    "x_init = np.random.randn(dim1,dim2).astype(np.float32)\n",
    "w_init = np.random.randn(dim2,dim3).astype(np.float32)\n",
    "x = DenseTensor(x_init)\n",
    "y = DenseTensor(np.random.randn(dim1,dim3))"
   ]
  },
  {
   "cell_type": "markdown",
   "id": "060e165f",
   "metadata": {},
   "source": [
    "W_TEST = SparseTensor.uniform(dim2,dim3, randsparsity=0.6).to_numpy()\n",
    "W_TEST"
   ]
  },
  {
   "cell_type": "code",
   "execution_count": 4,
   "id": "77d80814",
   "metadata": {},
   "outputs": [
    {
     "data": {
      "text/plain": [
       "array([[-2.67211008e+00, -9.13279295e-01, -2.27314353e-01,\n",
       "         2.69315392e-01,  1.13046122e+00,  1.04239750e+00],\n",
       "       [ 1.30381048e+00,  1.38940072e+00, -6.56452596e-01,\n",
       "        -5.62572964e-02, -4.99902606e-01,  4.36419368e-01],\n",
       "       [-3.75813037e-01, -9.23061609e-01,  1.91725028e+00,\n",
       "        -1.50302842e-01, -6.38729751e-01,  8.24770331e-01],\n",
       "       [-1.21083879e+00, -5.03405392e-01, -7.01915681e-01,\n",
       "        -1.97427106e+00, -2.65573215e+00, -5.76822497e-02],\n",
       "       [-6.56186581e-01, -6.61706686e-01,  7.69348443e-01,\n",
       "        -8.99004877e-01,  1.69363797e+00, -1.69733524e+00],\n",
       "       [-2.79337025e+00, -2.26150647e-01,  3.97428840e-01,\n",
       "         1.65970361e+00, -4.93746817e-01, -3.76097679e-01],\n",
       "       [-1.69739768e-01,  2.41710639e+00, -1.80884051e+00,\n",
       "         3.39751154e-01, -2.27297600e-02, -9.59997058e-01],\n",
       "       [-3.83114427e-01,  1.09529994e-01, -8.55162859e-01,\n",
       "         2.21606664e-04,  6.63855076e-01,  7.49480963e-01]])"
      ]
     },
     "execution_count": 4,
     "metadata": {},
     "output_type": "execute_result"
    }
   ],
   "source": [
    "W_TEST = SparseTensor(w_init).to_numpy()\n",
    "W_TEST"
   ]
  },
  {
   "cell_type": "code",
   "execution_count": 5,
   "id": "8a9285aa",
   "metadata": {},
   "outputs": [],
   "source": [
    "class MLP:\n",
    "  def __init__(self, init_dense):\n",
    "    #self.W = DenseTensor(init_dense)\n",
    "    self.W = DenseTensor(W_TEST)\n",
    "\n",
    "  def parameters(self):\n",
    "    return get_parameters(self)\n",
    "\n",
    "  def forward(self, x):\n",
    "    out = x.dot(self.W)\n",
    "    out = out.softmax()\n",
    "    #out = out.mul(self.m).add(self.m).sum()\n",
    "    return out"
   ]
  },
  {
   "cell_type": "code",
   "execution_count": 6,
   "id": "a5168e97",
   "metadata": {},
   "outputs": [],
   "source": [
    "class MLP2:\n",
    "  def __init__(self):\n",
    "    self.W = SparseTensor(W_TEST)\n",
    "    #self.W = SparseTensor.uniform(dim2,dim3)\n",
    "    #self.W = SparseTensor.uniform(dim2,dim3)\n",
    "\n",
    "  def parameters(self):\n",
    "    return get_parameters(self)\n",
    "\n",
    "  def forward(self, x):\n",
    "    out = x.dot(self.W)\n",
    "    out = out.softmax()\n",
    "    #out = out.mul(self.m).add(self.m).sum()\n",
    "    return out"
   ]
  },
  {
   "cell_type": "code",
   "execution_count": 7,
   "id": "13c4436e",
   "metadata": {},
   "outputs": [],
   "source": [
    "def loss_fn(y, y_pred):\n",
    "    return ((y-y_pred)**2)**.5"
   ]
  },
  {
   "cell_type": "code",
   "execution_count": 8,
   "id": "c151d9eb",
   "metadata": {},
   "outputs": [],
   "source": [
    "model2 = MLP2()"
   ]
  },
  {
   "cell_type": "code",
   "execution_count": 9,
   "id": "da239456",
   "metadata": {},
   "outputs": [
    {
     "data": {
      "text/plain": [
       "array([6, 6, 6, 6, 6, 6, 6, 6], dtype=uint32)"
      ]
     },
     "execution_count": 9,
     "metadata": {},
     "output_type": "execute_result"
    }
   ],
   "source": [
    "model2.W.get_nnzs()"
   ]
  },
  {
   "cell_type": "code",
   "execution_count": 10,
   "id": "6c251838",
   "metadata": {},
   "outputs": [
    {
     "data": {
      "text/plain": [
       "array([[-2.67211008e+00, -9.13279295e-01, -2.27314353e-01,\n",
       "         2.69315392e-01,  1.13046122e+00,  1.04239750e+00],\n",
       "       [ 1.30381048e+00,  1.38940072e+00, -6.56452596e-01,\n",
       "        -5.62572964e-02, -4.99902606e-01,  4.36419368e-01],\n",
       "       [-3.75813037e-01, -9.23061609e-01,  1.91725028e+00,\n",
       "        -1.50302842e-01, -6.38729751e-01,  8.24770331e-01],\n",
       "       [-1.21083879e+00, -5.03405392e-01, -7.01915681e-01,\n",
       "        -1.97427106e+00, -2.65573215e+00, -5.76822497e-02],\n",
       "       [-6.56186581e-01, -6.61706686e-01,  7.69348443e-01,\n",
       "        -8.99004877e-01,  1.69363797e+00, -1.69733524e+00],\n",
       "       [-2.79337025e+00, -2.26150647e-01,  3.97428840e-01,\n",
       "         1.65970361e+00, -4.93746817e-01, -3.76097679e-01],\n",
       "       [-1.69739768e-01,  2.41710639e+00, -1.80884051e+00,\n",
       "         3.39751154e-01, -2.27297600e-02, -9.59997058e-01],\n",
       "       [-3.83114427e-01,  1.09529994e-01, -8.55162859e-01,\n",
       "         2.21606664e-04,  6.63855076e-01,  7.49480963e-01]])"
      ]
     },
     "execution_count": 10,
     "metadata": {},
     "output_type": "execute_result"
    }
   ],
   "source": [
    "dense_init = model2.W.to_numpy()\n",
    "dense_init"
   ]
  },
  {
   "cell_type": "code",
   "execution_count": 11,
   "id": "8fe94f00",
   "metadata": {},
   "outputs": [],
   "source": [
    "model = MLP(dense_init)"
   ]
  },
  {
   "cell_type": "markdown",
   "id": "3b00810f",
   "metadata": {},
   "source": [
    "### Dense"
   ]
  },
  {
   "cell_type": "code",
   "execution_count": 12,
   "id": "5d6f6d16",
   "metadata": {},
   "outputs": [],
   "source": [
    "iters = 4\n",
    "LR = 0.1\n",
    "optimizer = optim.SGD(model.parameters(), lr=LR)"
   ]
  },
  {
   "cell_type": "code",
   "execution_count": 13,
   "id": "1a506d86",
   "metadata": {},
   "outputs": [],
   "source": [
    "for i in range(iters):\n",
    "    res = model.forward(x)\n",
    "    optimizer.zero_grad()\n",
    "    loss = loss_fn(res, y)\n",
    "    loss.backward()\n",
    "    optimizer.step()"
   ]
  },
  {
   "cell_type": "code",
   "execution_count": 14,
   "id": "83c586b7",
   "metadata": {},
   "outputs": [
    {
     "data": {
      "text/plain": [
       "[<DenseTensor <GPUBuffer with shape (8, 6)> with grad <GPUBuffer with shape (8, 6)>>,\n",
       " <DenseTensor <GPUBuffer with shape (8, 6)> with grad None>]"
      ]
     },
     "execution_count": 14,
     "metadata": {},
     "output_type": "execute_result"
    }
   ],
   "source": [
    "model.parameters()"
   ]
  },
  {
   "cell_type": "code",
   "execution_count": 15,
   "id": "4641b69d",
   "metadata": {},
   "outputs": [
    {
     "data": {
      "text/plain": [
       "array([[4.1922873e-01, 5.6649712e-03, 1.4283931e-01, 4.0425811e-02,\n",
       "        9.5227629e-02, 2.9661348e-01],\n",
       "       [1.4229345e-03, 9.5304364e-01, 1.4277362e-02, 1.9623214e-02,\n",
       "        2.5746459e-03, 9.0581281e-03],\n",
       "       [1.6420444e-04, 5.8350306e-02, 3.1487264e-02, 2.6555007e-02,\n",
       "        8.0411977e-01, 7.9323441e-02],\n",
       "       [2.6168948e-01, 1.0091750e-02, 9.3293865e-04, 4.4397044e-04,\n",
       "        1.6311060e-01, 5.6373131e-01]], dtype=float32)"
      ]
     },
     "execution_count": 15,
     "metadata": {},
     "output_type": "execute_result"
    }
   ],
   "source": [
    "res.cpu().data"
   ]
  },
  {
   "cell_type": "code",
   "execution_count": 16,
   "id": "8eb71052",
   "metadata": {},
   "outputs": [
    {
     "data": {
      "text/plain": [
       "array([[0.8850471 , 0.28310424, 0.10733978, 0.80779535, 0.06777093,\n",
       "        0.91201013],\n",
       "       [0.50109786, 2.536866  , 1.0087562 , 0.6726406 , 0.53447044,\n",
       "        0.01703519],\n",
       "       [0.92462   , 0.01174197, 0.1105326 , 1.6802164 , 0.5638724 ,\n",
       "        0.05421719],\n",
       "       [0.6571717 , 1.2742958 , 0.5603441 , 0.23928154, 0.3167885 ,\n",
       "        0.50197834]], dtype=float32)"
      ]
     },
     "execution_count": 16,
     "metadata": {},
     "output_type": "execute_result"
    }
   ],
   "source": [
    "loss.cpu().data"
   ]
  },
  {
   "cell_type": "code",
   "execution_count": 17,
   "id": "44d83871",
   "metadata": {},
   "outputs": [
    {
     "data": {
      "text/plain": [
       "array([[ 0.9999999 ,  1.        ,  1.        , -1.        , -1.        ,\n",
       "        -1.0000001 ],\n",
       "       [-1.        ,  1.        , -1.        ,  1.        , -0.9999999 ,\n",
       "         0.99999994],\n",
       "       [-1.        ,  1.        , -1.        ,  0.99999994, -1.        ,\n",
       "         1.        ],\n",
       "       [ 1.        , -0.99999994, -1.        , -1.0000001 , -1.        ,\n",
       "         1.        ]], dtype=float32)"
      ]
     },
     "execution_count": 17,
     "metadata": {},
     "output_type": "execute_result"
    }
   ],
   "source": [
    "res.grad.cpu().data"
   ]
  },
  {
   "cell_type": "code",
   "execution_count": 18,
   "id": "9ac039f6",
   "metadata": {},
   "outputs": [
    {
     "data": {
      "text/plain": [
       "array([[ 4.81720753e-02,  1.33489192e-01, -9.86666977e-03,\n",
       "         6.78764358e-02, -5.45409799e-01,  3.05738747e-01],\n",
       "       [-1.35541394e-01, -1.05922028e-01, -7.72921881e-03,\n",
       "        -2.68947240e-02,  3.68136227e-01, -9.20488462e-02],\n",
       "       [-3.87197256e-01, -1.68300074e-04, -1.54551625e-01,\n",
       "         4.54462096e-02,  9.74631906e-02,  3.99007767e-01],\n",
       "       [ 2.04064623e-02,  1.81639612e-01, -6.42970502e-02,\n",
       "         5.91954142e-02, -4.38550293e-01,  2.41605848e-01],\n",
       "       [-1.83521017e-01,  8.26444179e-02, -6.12569824e-02,\n",
       "         4.79193628e-02, -4.78363317e-03,  1.18997864e-01],\n",
       "       [-3.67487848e-01,  6.02543131e-02, -7.63574019e-02,\n",
       "         2.55442485e-02,  6.03258967e-01, -2.45212257e-01],\n",
       "       [-5.62625945e-01,  1.46991342e-01, -2.47841641e-01,\n",
       "         1.11771137e-01, -6.54106438e-02,  6.17115796e-01],\n",
       "       [ 4.51983288e-02,  8.81112833e-03, -8.04098323e-02,\n",
       "         3.79315540e-02, -7.10706949e-01,  6.99175715e-01]], dtype=float32)"
      ]
     },
     "execution_count": 18,
     "metadata": {},
     "output_type": "execute_result"
    }
   ],
   "source": [
    "model.W.grad.cpu().data"
   ]
  },
  {
   "cell_type": "markdown",
   "id": "1f62f27e",
   "metadata": {},
   "source": [
    "### Second"
   ]
  },
  {
   "cell_type": "code",
   "execution_count": 19,
   "id": "51f5c948",
   "metadata": {},
   "outputs": [
    {
     "data": {
      "text/plain": [
       "array([[-2.67211008e+00, -9.13279295e-01, -2.27314353e-01,\n",
       "         2.69315392e-01,  1.13046122e+00,  1.04239750e+00],\n",
       "       [ 1.30381048e+00,  1.38940072e+00, -6.56452596e-01,\n",
       "        -5.62572964e-02, -4.99902606e-01,  4.36419368e-01],\n",
       "       [-3.75813037e-01, -9.23061609e-01,  1.91725028e+00,\n",
       "        -1.50302842e-01, -6.38729751e-01,  8.24770331e-01],\n",
       "       [-1.21083879e+00, -5.03405392e-01, -7.01915681e-01,\n",
       "        -1.97427106e+00, -2.65573215e+00, -5.76822497e-02],\n",
       "       [-6.56186581e-01, -6.61706686e-01,  7.69348443e-01,\n",
       "        -8.99004877e-01,  1.69363797e+00, -1.69733524e+00],\n",
       "       [-2.79337025e+00, -2.26150647e-01,  3.97428840e-01,\n",
       "         1.65970361e+00, -4.93746817e-01, -3.76097679e-01],\n",
       "       [-1.69739768e-01,  2.41710639e+00, -1.80884051e+00,\n",
       "         3.39751154e-01, -2.27297600e-02, -9.59997058e-01],\n",
       "       [-3.83114427e-01,  1.09529994e-01, -8.55162859e-01,\n",
       "         2.21606664e-04,  6.63855076e-01,  7.49480963e-01]], dtype=float32)"
      ]
     },
     "execution_count": 19,
     "metadata": {},
     "output_type": "execute_result"
    }
   ],
   "source": [
    "w_init"
   ]
  },
  {
   "cell_type": "code",
   "execution_count": 20,
   "id": "31a9604d",
   "metadata": {},
   "outputs": [],
   "source": [
    "model2 = MLP2()"
   ]
  },
  {
   "cell_type": "code",
   "execution_count": 21,
   "id": "0e020858",
   "metadata": {},
   "outputs": [],
   "source": [
    "optimizer2 = optim.SGD(model2.parameters(), lr=LR)"
   ]
  },
  {
   "cell_type": "code",
   "execution_count": 22,
   "id": "df5115ec",
   "metadata": {},
   "outputs": [],
   "source": [
    "for i in range(iters):\n",
    "    res2 = model2.forward(x)\n",
    "    optimizer2.zero_grad()\n",
    "    loss2 = loss_fn(res2, y)\n",
    "    loss2.backward()\n",
    "    optimizer2.step()"
   ]
  },
  {
   "cell_type": "markdown",
   "id": "c52cfabf",
   "metadata": {},
   "source": [
    "#### fwd"
   ]
  },
  {
   "cell_type": "code",
   "execution_count": 23,
   "id": "e8576d40",
   "metadata": {},
   "outputs": [
    {
     "data": {
      "text/plain": [
       "array([[ True,  True,  True,  True,  True,  True],\n",
       "       [ True,  True,  True,  True,  True,  True],\n",
       "       [ True,  True,  True,  True,  True,  True],\n",
       "       [ True,  True,  True,  True,  True,  True]])"
      ]
     },
     "execution_count": 23,
     "metadata": {},
     "output_type": "execute_result"
    }
   ],
   "source": [
    "res2.cpu().data==res.cpu().data"
   ]
  },
  {
   "cell_type": "code",
   "execution_count": 24,
   "id": "f1ba2e96",
   "metadata": {},
   "outputs": [
    {
     "data": {
      "text/plain": [
       "array([[4.1922873e-01, 5.6649712e-03, 1.4283931e-01, 4.0425811e-02,\n",
       "        9.5227629e-02, 2.9661348e-01],\n",
       "       [1.4229345e-03, 9.5304364e-01, 1.4277362e-02, 1.9623214e-02,\n",
       "        2.5746459e-03, 9.0581281e-03],\n",
       "       [1.6420444e-04, 5.8350306e-02, 3.1487264e-02, 2.6555007e-02,\n",
       "        8.0411977e-01, 7.9323441e-02],\n",
       "       [2.6168948e-01, 1.0091750e-02, 9.3293865e-04, 4.4397044e-04,\n",
       "        1.6311060e-01, 5.6373131e-01]], dtype=float32)"
      ]
     },
     "execution_count": 24,
     "metadata": {},
     "output_type": "execute_result"
    }
   ],
   "source": [
    "res.cpu().data"
   ]
  },
  {
   "cell_type": "code",
   "execution_count": 25,
   "id": "56fc46b0",
   "metadata": {},
   "outputs": [
    {
     "data": {
      "text/plain": [
       "array([[4.1922873e-01, 5.6649712e-03, 1.4283931e-01, 4.0425811e-02,\n",
       "        9.5227629e-02, 2.9661348e-01],\n",
       "       [1.4229345e-03, 9.5304364e-01, 1.4277362e-02, 1.9623214e-02,\n",
       "        2.5746459e-03, 9.0581281e-03],\n",
       "       [1.6420444e-04, 5.8350306e-02, 3.1487264e-02, 2.6555007e-02,\n",
       "        8.0411977e-01, 7.9323441e-02],\n",
       "       [2.6168948e-01, 1.0091750e-02, 9.3293865e-04, 4.4397044e-04,\n",
       "        1.6311060e-01, 5.6373131e-01]], dtype=float32)"
      ]
     },
     "execution_count": 25,
     "metadata": {},
     "output_type": "execute_result"
    }
   ],
   "source": [
    "res2.cpu().data"
   ]
  },
  {
   "cell_type": "code",
   "execution_count": 26,
   "id": "14284cf1",
   "metadata": {},
   "outputs": [
    {
     "data": {
      "text/plain": [
       "array([[0., 0., 0., 0., 0., 0.],\n",
       "       [0., 0., 0., 0., 0., 0.],\n",
       "       [0., 0., 0., 0., 0., 0.],\n",
       "       [0., 0., 0., 0., 0., 0.]], dtype=float32)"
      ]
     },
     "execution_count": 26,
     "metadata": {},
     "output_type": "execute_result"
    }
   ],
   "source": [
    "res.cpu().data - res2.cpu().data"
   ]
  },
  {
   "cell_type": "markdown",
   "id": "6189a9e9",
   "metadata": {},
   "source": [
    "#### loss"
   ]
  },
  {
   "cell_type": "code",
   "execution_count": 27,
   "id": "dbd0474e",
   "metadata": {},
   "outputs": [
    {
     "data": {
      "text/plain": [
       "array([[ True,  True,  True,  True,  True,  True],\n",
       "       [ True,  True,  True,  True,  True,  True],\n",
       "       [ True,  True,  True,  True,  True,  True],\n",
       "       [ True,  True,  True,  True,  True,  True]])"
      ]
     },
     "execution_count": 27,
     "metadata": {},
     "output_type": "execute_result"
    }
   ],
   "source": [
    "loss.cpu().data==loss2.cpu().data"
   ]
  },
  {
   "cell_type": "code",
   "execution_count": 28,
   "id": "851f4b4f",
   "metadata": {},
   "outputs": [
    {
     "data": {
      "text/plain": [
       "array([[0.8850471 , 0.28310424, 0.10733978, 0.80779535, 0.06777093,\n",
       "        0.91201013],\n",
       "       [0.50109786, 2.536866  , 1.0087562 , 0.6726406 , 0.53447044,\n",
       "        0.01703519],\n",
       "       [0.92462   , 0.01174197, 0.1105326 , 1.6802164 , 0.5638724 ,\n",
       "        0.05421719],\n",
       "       [0.6571717 , 1.2742958 , 0.5603441 , 0.23928154, 0.3167885 ,\n",
       "        0.50197834]], dtype=float32)"
      ]
     },
     "execution_count": 28,
     "metadata": {},
     "output_type": "execute_result"
    }
   ],
   "source": [
    "loss2.cpu().data"
   ]
  },
  {
   "cell_type": "code",
   "execution_count": 29,
   "id": "1ca18cf1",
   "metadata": {},
   "outputs": [
    {
     "data": {
      "text/plain": [
       "array([[0., 0., 0., 0., 0., 0.],\n",
       "       [0., 0., 0., 0., 0., 0.],\n",
       "       [0., 0., 0., 0., 0., 0.],\n",
       "       [0., 0., 0., 0., 0., 0.]], dtype=float32)"
      ]
     },
     "execution_count": 29,
     "metadata": {},
     "output_type": "execute_result"
    }
   ],
   "source": [
    "loss.cpu().data - loss2.cpu().data"
   ]
  },
  {
   "cell_type": "markdown",
   "id": "5a0a2ab3",
   "metadata": {},
   "source": [
    "#### grad"
   ]
  },
  {
   "cell_type": "code",
   "execution_count": 30,
   "id": "73eb3657",
   "metadata": {},
   "outputs": [
    {
     "data": {
      "text/plain": [
       "array([[ True,  True,  True,  True,  True,  True],\n",
       "       [ True,  True,  True,  True,  True,  True],\n",
       "       [ True,  True,  True,  True,  True,  True],\n",
       "       [ True,  True,  True,  True,  True,  True]])"
      ]
     },
     "execution_count": 30,
     "metadata": {},
     "output_type": "execute_result"
    }
   ],
   "source": [
    "res.grad.cpu().data==res2.grad.cpu().data"
   ]
  },
  {
   "cell_type": "code",
   "execution_count": 31,
   "id": "1c6b96e1",
   "metadata": {},
   "outputs": [
    {
     "data": {
      "text/plain": [
       "array([[ 0.9999999 ,  1.        ,  1.        , -1.        , -1.        ,\n",
       "        -1.0000001 ],\n",
       "       [-1.        ,  1.        , -1.        ,  1.        , -0.9999999 ,\n",
       "         0.99999994],\n",
       "       [-1.        ,  1.        , -1.        ,  0.99999994, -1.        ,\n",
       "         1.        ],\n",
       "       [ 1.        , -0.99999994, -1.        , -1.0000001 , -1.        ,\n",
       "         1.        ]], dtype=float32)"
      ]
     },
     "execution_count": 31,
     "metadata": {},
     "output_type": "execute_result"
    }
   ],
   "source": [
    "res2.grad.cpu().data"
   ]
  },
  {
   "cell_type": "code",
   "execution_count": 32,
   "id": "03aea6d2",
   "metadata": {},
   "outputs": [
    {
     "data": {
      "text/plain": [
       "array([[0., 0., 0., 0., 0., 0.],\n",
       "       [0., 0., 0., 0., 0., 0.],\n",
       "       [0., 0., 0., 0., 0., 0.],\n",
       "       [0., 0., 0., 0., 0., 0.]], dtype=float32)"
      ]
     },
     "execution_count": 32,
     "metadata": {},
     "output_type": "execute_result"
    }
   ],
   "source": [
    "res.grad.cpu().data-res2.grad.cpu().data"
   ]
  },
  {
   "cell_type": "markdown",
   "id": "f8ff5b18",
   "metadata": {},
   "source": [
    "#### weight"
   ]
  },
  {
   "cell_type": "code",
   "execution_count": 33,
   "id": "b0d6797c",
   "metadata": {},
   "outputs": [],
   "source": [
    "def to_dense(data, cols, nnzs, ellw, shape):\n",
    "    out = np.zeros(shape)\n",
    "    for row in range(shape[0]):\n",
    "        for icol in range(nnzs[row]):\n",
    "            #print('idx:',row,cols[row*ellw+icol])\n",
    "            out[row,cols[row*ellw+icol]] = data[row*ellw+icol]\n",
    "    return out"
   ]
  },
  {
   "cell_type": "code",
   "execution_count": 34,
   "id": "618696f8",
   "metadata": {},
   "outputs": [
    {
     "data": {
      "text/plain": [
       "(<DenseTensor <GPUBuffer with shape (8, 6)> with grad None>,\n",
       " <SparseTensor <GPUBuffer with shape (48,)> with grad None>)"
      ]
     },
     "execution_count": 34,
     "metadata": {},
     "output_type": "execute_result"
    }
   ],
   "source": [
    "model.W.grad, model2.W.grad"
   ]
  },
  {
   "cell_type": "code",
   "execution_count": 35,
   "id": "8a731272",
   "metadata": {},
   "outputs": [
    {
     "data": {
      "text/plain": [
       "array([[ 4.81720753e-02,  1.33489192e-01, -9.86666977e-03,\n",
       "         6.78764358e-02, -5.45409799e-01,  3.05738747e-01],\n",
       "       [-1.35541394e-01, -1.05922028e-01, -7.72921881e-03,\n",
       "        -2.68947240e-02,  3.68136227e-01, -9.20488462e-02],\n",
       "       [-3.87197256e-01, -1.68300074e-04, -1.54551625e-01,\n",
       "         4.54462096e-02,  9.74631906e-02,  3.99007767e-01],\n",
       "       [ 2.04064623e-02,  1.81639612e-01, -6.42970502e-02,\n",
       "         5.91954142e-02, -4.38550293e-01,  2.41605848e-01],\n",
       "       [-1.83521017e-01,  8.26444179e-02, -6.12569824e-02,\n",
       "         4.79193628e-02, -4.78363317e-03,  1.18997864e-01],\n",
       "       [-3.67487848e-01,  6.02543131e-02, -7.63574019e-02,\n",
       "         2.55442485e-02,  6.03258967e-01, -2.45212257e-01],\n",
       "       [-5.62625945e-01,  1.46991342e-01, -2.47841641e-01,\n",
       "         1.11771137e-01, -6.54106438e-02,  6.17115796e-01],\n",
       "       [ 4.51983288e-02,  8.81112833e-03, -8.04098323e-02,\n",
       "         3.79315540e-02, -7.10706949e-01,  6.99175715e-01]], dtype=float32)"
      ]
     },
     "execution_count": 35,
     "metadata": {},
     "output_type": "execute_result"
    }
   ],
   "source": [
    "model.W.grad.cpu().data"
   ]
  },
  {
   "cell_type": "code",
   "execution_count": 36,
   "id": "291aa2eb",
   "metadata": {},
   "outputs": [
    {
     "data": {
      "text/plain": [
       "array([[ 4.81720753e-02,  1.33489192e-01, -9.86666977e-03,\n",
       "         6.78764358e-02, -5.45409799e-01,  3.05738747e-01],\n",
       "       [-1.35541394e-01, -1.05922028e-01, -7.72921881e-03,\n",
       "        -2.68947240e-02,  3.68136227e-01, -9.20488462e-02],\n",
       "       [-3.87197256e-01, -1.68300074e-04, -1.54551625e-01,\n",
       "         4.54462096e-02,  9.74631906e-02,  3.99007767e-01],\n",
       "       [ 2.04064623e-02,  1.81639612e-01, -6.42970502e-02,\n",
       "         5.91954142e-02, -4.38550293e-01,  2.41605848e-01],\n",
       "       [-1.83521017e-01,  8.26444179e-02, -6.12569824e-02,\n",
       "         4.79193628e-02, -4.78363317e-03,  1.18997864e-01],\n",
       "       [-3.67487848e-01,  6.02543131e-02, -7.63574019e-02,\n",
       "         2.55442485e-02,  6.03258967e-01, -2.45212257e-01],\n",
       "       [-5.62625945e-01,  1.46991342e-01, -2.47841641e-01,\n",
       "         1.11771137e-01, -6.54106438e-02,  6.17115796e-01],\n",
       "       [ 4.51983288e-02,  8.81112833e-03, -8.04098323e-02,\n",
       "         3.79315540e-02, -7.10706949e-01,  6.99175715e-01]])"
      ]
     },
     "execution_count": 36,
     "metadata": {},
     "output_type": "execute_result"
    }
   ],
   "source": [
    "model2.W.grad.to_numpy()"
   ]
  },
  {
   "cell_type": "code",
   "execution_count": 37,
   "id": "24ef36e7",
   "metadata": {},
   "outputs": [
    {
     "data": {
      "text/plain": [
       "array([[ True,  True,  True,  True,  True,  True],\n",
       "       [ True,  True,  True,  True,  True,  True],\n",
       "       [ True,  True,  True,  True,  True,  True],\n",
       "       [ True,  True,  True,  True,  True,  True],\n",
       "       [ True,  True,  True,  True,  True,  True],\n",
       "       [ True,  True,  True,  True,  True,  True],\n",
       "       [ True,  True,  True,  True,  True,  True],\n",
       "       [ True,  True,  True,  True,  True,  True]])"
      ]
     },
     "execution_count": 37,
     "metadata": {},
     "output_type": "execute_result"
    }
   ],
   "source": [
    "model.W.grad.cpu().data == model2.W.grad.to_numpy()"
   ]
  },
  {
   "cell_type": "code",
   "execution_count": 38,
   "id": "b7b4f031",
   "metadata": {},
   "outputs": [
    {
     "data": {
      "text/plain": [
       "array([[-2.6839938 , -0.98301244, -0.2165843 ,  0.23769966,  1.3864344 ,\n",
       "         0.88892674],\n",
       "       [ 1.3511105 ,  1.4390723 , -0.65807307, -0.04305689, -0.66785085,\n",
       "         0.4958162 ],\n",
       "       [-0.22616075, -0.92054766,  1.968188  , -0.16849016, -0.69414824,\n",
       "         0.69527215],\n",
       "       [-1.2149247 , -0.58453983, -0.6744994 , -2.0015817 , -2.4456437 ,\n",
       "        -0.18265593],\n",
       "       [-0.5925767 , -0.7006933 ,  0.79298484, -0.9202368 ,  1.7368386 ,\n",
       "        -1.7675637 ],\n",
       "       [-2.679496  , -0.2479639 ,  0.4228978 ,  1.6492896 , -0.6602503 ,\n",
       "        -0.31670985],\n",
       "       [ 0.04279577,  2.3533084 , -1.7218812 ,  0.29192096,  0.03420548,\n",
       "        -1.2047992 ],\n",
       "       [-0.37021783,  0.10200752, -0.82640815, -0.01625864,  0.87161887,\n",
       "         0.5240686 ]], dtype=float32)"
      ]
     },
     "execution_count": 38,
     "metadata": {},
     "output_type": "execute_result"
    }
   ],
   "source": [
    "model.W.cpu().data"
   ]
  },
  {
   "cell_type": "code",
   "execution_count": 39,
   "id": "49059942",
   "metadata": {},
   "outputs": [
    {
     "data": {
      "text/plain": [
       "array([[-2.68399382, -0.98301244, -0.2165843 ,  0.23769966,  1.38643444,\n",
       "         0.88892674],\n",
       "       [ 1.35111046,  1.43907225, -0.65807307, -0.04305689, -0.66785085,\n",
       "         0.4958162 ],\n",
       "       [-0.22616075, -0.92054766,  1.96818805, -0.16849016, -0.69414824,\n",
       "         0.69527215],\n",
       "       [-1.21492469, -0.58453983, -0.67449939, -2.00158167, -2.44564366,\n",
       "        -0.18265593],\n",
       "       [-0.59257668, -0.70069331,  0.79298484, -0.92023683,  1.73683858,\n",
       "        -1.7675637 ],\n",
       "       [-2.67949605, -0.24796391,  0.42289779,  1.64928961, -0.66025031,\n",
       "        -0.31670985],\n",
       "       [ 0.04279577,  2.35330844, -1.72188115,  0.29192096,  0.03420548,\n",
       "        -1.20479918],\n",
       "       [-0.37021783,  0.10200752, -0.82640815, -0.01625864,  0.87161887,\n",
       "         0.52406859]])"
      ]
     },
     "execution_count": 39,
     "metadata": {},
     "output_type": "execute_result"
    }
   ],
   "source": [
    "model2.W.to_numpy()"
   ]
  },
  {
   "cell_type": "code",
   "execution_count": 45,
   "id": "a0126843",
   "metadata": {},
   "outputs": [
    {
     "data": {
      "text/plain": [
       "array([[ True,  True,  True,  True,  True,  True],\n",
       "       [ True,  True,  True,  True,  True,  True],\n",
       "       [ True,  True,  True,  True,  True,  True],\n",
       "       [ True,  True,  True,  True,  True,  True],\n",
       "       [ True,  True,  True,  True,  True,  True],\n",
       "       [ True,  True,  True,  True,  True,  True],\n",
       "       [ True,  True,  True,  True,  True,  True],\n",
       "       [ True,  True,  True,  True,  True,  True]])"
      ]
     },
     "execution_count": 45,
     "metadata": {},
     "output_type": "execute_result"
    }
   ],
   "source": [
    "model.W.cpu().data == model2.W.to_numpy()"
   ]
  },
  {
   "cell_type": "code",
   "execution_count": 44,
   "id": "c9dec773",
   "metadata": {},
   "outputs": [
    {
     "data": {
      "text/plain": [
       "array([[ True,  True,  True,  True,  True,  True],\n",
       "       [ True,  True,  True,  True,  True,  True],\n",
       "       [ True,  True,  True,  True,  True,  True],\n",
       "       [ True,  True,  True,  True,  True,  True],\n",
       "       [ True,  True,  True,  True,  True,  True],\n",
       "       [ True,  True,  True,  True,  True,  True],\n",
       "       [ True,  True,  True,  True,  True,  True],\n",
       "       [ True,  True,  True,  True,  True,  True]])"
      ]
     },
     "execution_count": 44,
     "metadata": {},
     "output_type": "execute_result"
    }
   ],
   "source": [
    "model.W.cpu().data == model2.W.to_numpy(dual=True).T"
   ]
  },
  {
   "cell_type": "code",
   "execution_count": 41,
   "id": "5a033a4d",
   "metadata": {},
   "outputs": [
    {
     "data": {
      "text/plain": [
       "array([[0., 0., 0., 0., 0., 0.],\n",
       "       [0., 0., 0., 0., 0., 0.],\n",
       "       [0., 0., 0., 0., 0., 0.],\n",
       "       [0., 0., 0., 0., 0., 0.],\n",
       "       [0., 0., 0., 0., 0., 0.],\n",
       "       [0., 0., 0., 0., 0., 0.],\n",
       "       [0., 0., 0., 0., 0., 0.],\n",
       "       [0., 0., 0., 0., 0., 0.]])"
      ]
     },
     "execution_count": 41,
     "metadata": {},
     "output_type": "execute_result"
    }
   ],
   "source": [
    "model.W.cpu().data - model2.W.to_numpy()"
   ]
  },
  {
   "cell_type": "code",
   "execution_count": 42,
   "id": "1dbc9b2f",
   "metadata": {},
   "outputs": [
    {
     "ename": "NameError",
     "evalue": "name 'cols' is not defined",
     "output_type": "error",
     "traceback": [
      "\u001b[0;31m---------------------------------------------------------------------------\u001b[0m",
      "\u001b[0;31mNameError\u001b[0m                                 Traceback (most recent call last)",
      "\u001b[0;32m/tmp/ipykernel_3719/4199983457.py\u001b[0m in \u001b[0;36m<module>\u001b[0;34m\u001b[0m\n\u001b[0;32m----> 1\u001b[0;31m \u001b[0mcols\u001b[0m\u001b[0;34m\u001b[0m\u001b[0;34m\u001b[0m\u001b[0m\n\u001b[0m",
      "\u001b[0;31mNameError\u001b[0m: name 'cols' is not defined"
     ]
    }
   ],
   "source": [
    "cols"
   ]
  },
  {
   "cell_type": "code",
   "execution_count": null,
   "id": "1c1dc17a",
   "metadata": {},
   "outputs": [],
   "source": [
    "nnzs"
   ]
  },
  {
   "cell_type": "code",
   "execution_count": null,
   "id": "46f0be15",
   "metadata": {},
   "outputs": [],
   "source": [
    "denserec = model.W.cpu().data \n",
    "denserec"
   ]
  },
  {
   "cell_type": "code",
   "execution_count": null,
   "id": "7a45e9a8",
   "metadata": {},
   "outputs": [],
   "source": [
    "sparserec = model2.W.to_numpy()\n",
    "sparserec"
   ]
  },
  {
   "cell_type": "code",
   "execution_count": null,
   "id": "dd35f59d",
   "metadata": {},
   "outputs": [],
   "source": [
    "denserec - sparserec"
   ]
  },
  {
   "cell_type": "code",
   "execution_count": null,
   "id": "796f73a6",
   "metadata": {},
   "outputs": [],
   "source": [
    "sparserec2 = model2.W.to_numpy(dual=True)\n",
    "sparserec2.T"
   ]
  },
  {
   "cell_type": "code",
   "execution_count": null,
   "id": "f985fd5e",
   "metadata": {},
   "outputs": [],
   "source": [
    "denserec - sparserec2.T"
   ]
  },
  {
   "cell_type": "code",
   "execution_count": null,
   "id": "ebfecb5f",
   "metadata": {},
   "outputs": [],
   "source": []
  },
  {
   "cell_type": "code",
   "execution_count": null,
   "id": "2a56f04d",
   "metadata": {},
   "outputs": [],
   "source": [
    "seedmat - denserec"
   ]
  },
  {
   "cell_type": "code",
   "execution_count": null,
   "id": "4c5b2fec",
   "metadata": {},
   "outputs": [],
   "source": []
  },
  {
   "cell_type": "code",
   "execution_count": null,
   "id": "07f0b1d2",
   "metadata": {},
   "outputs": [],
   "source": []
  },
  {
   "cell_type": "code",
   "execution_count": null,
   "id": "ce7898e2",
   "metadata": {},
   "outputs": [],
   "source": []
  },
  {
   "cell_type": "code",
   "execution_count": null,
   "id": "e14f967b",
   "metadata": {},
   "outputs": [],
   "source": []
  },
  {
   "cell_type": "code",
   "execution_count": null,
   "id": "8e79f32e",
   "metadata": {},
   "outputs": [],
   "source": []
  },
  {
   "cell_type": "code",
   "execution_count": null,
   "id": "a93b6000",
   "metadata": {},
   "outputs": [],
   "source": []
  },
  {
   "cell_type": "code",
   "execution_count": null,
   "id": "d857923b",
   "metadata": {},
   "outputs": [],
   "source": []
  },
  {
   "cell_type": "code",
   "execution_count": null,
   "id": "a55f210a",
   "metadata": {},
   "outputs": [],
   "source": []
  },
  {
   "cell_type": "code",
   "execution_count": null,
   "id": "2884b8f9",
   "metadata": {},
   "outputs": [],
   "source": []
  },
  {
   "cell_type": "code",
   "execution_count": null,
   "id": "193ba45d",
   "metadata": {},
   "outputs": [],
   "source": []
  },
  {
   "cell_type": "code",
   "execution_count": null,
   "id": "ea7948fa",
   "metadata": {},
   "outputs": [],
   "source": []
  },
  {
   "cell_type": "code",
   "execution_count": null,
   "id": "c59a13bd",
   "metadata": {},
   "outputs": [],
   "source": []
  },
  {
   "cell_type": "raw",
   "id": "a5a63123",
   "metadata": {},
   "source": []
  }
 ],
 "metadata": {
  "kernelspec": {
   "display_name": "Python 3",
   "language": "python",
   "name": "python3"
  },
  "language_info": {
   "codemirror_mode": {
    "name": "ipython",
    "version": 3
   },
   "file_extension": ".py",
   "mimetype": "text/x-python",
   "name": "python",
   "nbconvert_exporter": "python",
   "pygments_lexer": "ipython3",
   "version": "3.8.12"
  }
 },
 "nbformat": 4,
 "nbformat_minor": 5
}
