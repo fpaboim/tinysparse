{
 "cells": [
  {
   "cell_type": "code",
   "execution_count": 1,
   "id": "4309590e",
   "metadata": {},
   "outputs": [
    {
     "name": "stdout",
     "output_type": "stream",
     "text": [
      "DEVICE:GPU\n"
     ]
    }
   ],
   "source": [
    "from tinygrad.densetensor import DenseTensor, cl_queue\n",
    "from tinygrad.sparsetensor import SparseTensor\n",
    "import numpy as np\n",
    "import tinygrad.optim as optim\n",
    "from extra.utils import get_parameters\n",
    "\n",
    "\n",
    "%load_ext autoreload\n",
    "%autoreload 2"
   ]
  },
  {
   "cell_type": "code",
   "execution_count": 2,
   "id": "73101cd9",
   "metadata": {},
   "outputs": [],
   "source": [
    "dim1 = 6\n",
    "dim2 = 8\n",
    "dim3 = 4\n",
    "\n",
    "np.random.seed(9)"
   ]
  },
  {
   "cell_type": "code",
   "execution_count": 3,
   "id": "d9c197bb",
   "metadata": {},
   "outputs": [
    {
     "name": "stdout",
     "output_type": "stream",
     "text": [
      "warning, (6, 4) isn't float32, it's float64\n"
     ]
    }
   ],
   "source": [
    "x_init = np.random.randn(dim1,dim2).astype(np.float32)\n",
    "w_init = np.random.randn(dim2,dim3).astype(np.float32)\n",
    "x = DenseTensor(x_init)\n",
    "y = DenseTensor(np.random.randn(dim1,dim3))"
   ]
  },
  {
   "cell_type": "markdown",
   "id": "060e165f",
   "metadata": {},
   "source": [
    "W_TEST = SparseTensor.uniform(dim2,dim3, randsparsity=0.6).to_numpy()\n",
    "W_TEST"
   ]
  },
  {
   "cell_type": "code",
   "execution_count": 4,
   "id": "77d80814",
   "metadata": {},
   "outputs": [
    {
     "data": {
      "text/plain": [
       "array([[-6.38729751e-01,  8.24770331e-01, -1.21083879e+00,\n",
       "        -5.03405392e-01],\n",
       "       [-7.01915681e-01, -1.97427106e+00, -2.65573215e+00,\n",
       "        -5.76822497e-02],\n",
       "       [-6.56186581e-01, -6.61706686e-01,  7.69348443e-01,\n",
       "        -8.99004877e-01],\n",
       "       [ 1.69363797e+00, -1.69733524e+00, -2.79337025e+00,\n",
       "        -2.26150647e-01],\n",
       "       [ 3.97428840e-01,  1.65970361e+00, -4.93746817e-01,\n",
       "        -3.76097679e-01],\n",
       "       [-1.69739768e-01,  2.41710639e+00, -1.80884051e+00,\n",
       "         3.39751154e-01],\n",
       "       [-2.27297600e-02, -9.59997058e-01, -3.83114427e-01,\n",
       "         1.09529994e-01],\n",
       "       [-8.55162859e-01,  2.21606664e-04,  6.63855076e-01,\n",
       "         7.49480963e-01]])"
      ]
     },
     "execution_count": 4,
     "metadata": {},
     "output_type": "execute_result"
    }
   ],
   "source": [
    "W_TEST = SparseTensor(w_init).to_numpy()\n",
    "W_TEST"
   ]
  },
  {
   "cell_type": "code",
   "execution_count": 5,
   "id": "8a9285aa",
   "metadata": {},
   "outputs": [],
   "source": [
    "class MLP:\n",
    "  def __init__(self, init_dense):\n",
    "    #self.W = DenseTensor(init_dense)\n",
    "    self.W = DenseTensor(W_TEST)\n",
    "\n",
    "  def parameters(self):\n",
    "    return get_parameters(self)\n",
    "\n",
    "  def forward(self, x):\n",
    "    out = x.dot(self.W)\n",
    "    out = out.softmax()\n",
    "    #out = out.mul(self.m).add(self.m).sum()\n",
    "    return out"
   ]
  },
  {
   "cell_type": "code",
   "execution_count": 6,
   "id": "a5168e97",
   "metadata": {},
   "outputs": [],
   "source": [
    "class MLP2:\n",
    "  def __init__(self):\n",
    "    self.W = SparseTensor(W_TEST)\n",
    "    #self.W = SparseTensor.uniform(dim2,dim3)\n",
    "    #self.W = SparseTensor.uniform(dim2,dim3)\n",
    "\n",
    "  def parameters(self):\n",
    "    return get_parameters(self)\n",
    "\n",
    "  def forward(self, x):\n",
    "    out = x.dot(self.W)\n",
    "    out = out.softmax()\n",
    "    #out = out.mul(self.m).add(self.m).sum()\n",
    "    return out"
   ]
  },
  {
   "cell_type": "code",
   "execution_count": 7,
   "id": "13c4436e",
   "metadata": {},
   "outputs": [],
   "source": [
    "def loss_fn(y, y_pred):\n",
    "    return ((y-y_pred)**2)**.5"
   ]
  },
  {
   "cell_type": "code",
   "execution_count": 8,
   "id": "c151d9eb",
   "metadata": {},
   "outputs": [],
   "source": [
    "model2 = MLP2()"
   ]
  },
  {
   "cell_type": "code",
   "execution_count": 9,
   "id": "da239456",
   "metadata": {},
   "outputs": [
    {
     "data": {
      "text/plain": [
       "array([4, 4, 4, 4, 4, 4, 4, 4], dtype=uint32)"
      ]
     },
     "execution_count": 9,
     "metadata": {},
     "output_type": "execute_result"
    }
   ],
   "source": [
    "model2.W.get_nnzs()"
   ]
  },
  {
   "cell_type": "code",
   "execution_count": 10,
   "id": "6c251838",
   "metadata": {},
   "outputs": [
    {
     "data": {
      "text/plain": [
       "array([[-6.38729751e-01,  8.24770331e-01, -1.21083879e+00,\n",
       "        -5.03405392e-01],\n",
       "       [-7.01915681e-01, -1.97427106e+00, -2.65573215e+00,\n",
       "        -5.76822497e-02],\n",
       "       [-6.56186581e-01, -6.61706686e-01,  7.69348443e-01,\n",
       "        -8.99004877e-01],\n",
       "       [ 1.69363797e+00, -1.69733524e+00, -2.79337025e+00,\n",
       "        -2.26150647e-01],\n",
       "       [ 3.97428840e-01,  1.65970361e+00, -4.93746817e-01,\n",
       "        -3.76097679e-01],\n",
       "       [-1.69739768e-01,  2.41710639e+00, -1.80884051e+00,\n",
       "         3.39751154e-01],\n",
       "       [-2.27297600e-02, -9.59997058e-01, -3.83114427e-01,\n",
       "         1.09529994e-01],\n",
       "       [-8.55162859e-01,  2.21606664e-04,  6.63855076e-01,\n",
       "         7.49480963e-01]])"
      ]
     },
     "execution_count": 10,
     "metadata": {},
     "output_type": "execute_result"
    }
   ],
   "source": [
    "dense_init = model2.W.to_numpy()\n",
    "dense_init"
   ]
  },
  {
   "cell_type": "code",
   "execution_count": 11,
   "id": "8fe94f00",
   "metadata": {},
   "outputs": [],
   "source": [
    "model = MLP(dense_init)"
   ]
  },
  {
   "cell_type": "markdown",
   "id": "3b00810f",
   "metadata": {},
   "source": [
    "### Dense"
   ]
  },
  {
   "cell_type": "code",
   "execution_count": 12,
   "id": "5d6f6d16",
   "metadata": {},
   "outputs": [],
   "source": [
    "iters = 1\n",
    "optimizer = optim.SGD(model.parameters(), lr=1)"
   ]
  },
  {
   "cell_type": "code",
   "execution_count": 13,
   "id": "1a506d86",
   "metadata": {},
   "outputs": [
    {
     "name": "stdout",
     "output_type": "stream",
     "text": [
      "SHAPES: (6, 8) (8, 4)\n",
      "INPUT [[ 1.1085547e-03 -2.8954408e-01 -1.1160663e+00 -1.2882757e-02\n",
      "  -3.7836146e-01 -4.8113537e-01 -1.5173311e+00 -4.9087200e-01]\n",
      " [-2.4068058e-01 -6.4794743e-01  6.3589108e-01  1.7401173e+00\n",
      "   2.9668221e-01  7.0750368e-01  1.8228158e+00  4.3076903e-01]\n",
      " [ 1.5427296e+00 -9.0072119e-01 -1.3712502e-01  1.2975791e+00\n",
      "   6.7527115e-01  3.1958118e-02  9.1814590e-01  3.8050947e-01]\n",
      " [ 5.1636750e-01 -3.5523945e-01  2.0877700e-01  3.2841107e-01\n",
      "  -4.9822477e-01 -2.0917768e+00 -8.2587741e-02  2.4551826e+00]\n",
      " [-2.6721101e+00 -9.1327929e-01 -2.2731435e-01  2.6931539e-01\n",
      "   1.1304612e+00  1.0423975e+00  1.3038105e+00  1.3894007e+00]\n",
      " [-6.5645260e-01 -5.6257296e-02 -4.9990261e-01  4.3641937e-01\n",
      "  -3.7581304e-01 -9.2306161e-01  1.9172503e+00 -1.5030284e-01]]\n",
      "OUT: [[ 1.50174284e-02 -4.03571635e-01  1.78856969e-01 -1.44680411e-01\n",
      "   1.92041516e-01 -9.14528146e-02 -1.23737752e-01 -1.98523298e-01]\n",
      " [-2.69819312e-02  2.87787933e-02 -2.76422128e-03  7.13188201e-02\n",
      "  -2.35424917e-02 -4.62456383e-02  1.88498497e-02 -1.74433123e-02]\n",
      " [ 6.18917465e-01 -4.90919352e-01 -1.85160842e-02 -1.51331937e+00\n",
      "   4.84699667e-01  1.11027122e+00 -3.82779211e-01  4.43764538e-01]\n",
      " [-1.27043459e-03 -4.03334387e-03  2.99319881e-03 -9.32403933e-03\n",
      "  -1.95441744e-03 -3.55975237e-03 -7.09916989e-04  3.19411233e-03]\n",
      " [ 1.07568145e-01 -1.03075218e+00  4.78833348e-01 -1.36314702e+00\n",
      "   2.70026326e-01 -7.43381232e-02 -3.44513804e-01  8.88851807e-02]\n",
      " [ 1.72412738e-01  6.07642293e-01 -4.25243050e-01  1.13597608e+00\n",
      "   1.94117293e-01  5.04533589e-01  1.13657862e-01 -3.11355412e-01]]\n"
     ]
    },
    {
     "ename": "NameError",
     "evalue": "name 'asdf' is not defined",
     "output_type": "error",
     "traceback": [
      "\u001b[0;31m---------------------------------------------------------------------------\u001b[0m",
      "\u001b[0;31mNameError\u001b[0m                                 Traceback (most recent call last)",
      "\u001b[0;32m/tmp/ipykernel_1314/3808033123.py\u001b[0m in \u001b[0;36m<module>\u001b[0;34m\u001b[0m\n\u001b[1;32m      3\u001b[0m     \u001b[0moptimizer\u001b[0m\u001b[0;34m.\u001b[0m\u001b[0mzero_grad\u001b[0m\u001b[0;34m(\u001b[0m\u001b[0;34m)\u001b[0m\u001b[0;34m\u001b[0m\u001b[0;34m\u001b[0m\u001b[0m\n\u001b[1;32m      4\u001b[0m     \u001b[0mloss\u001b[0m \u001b[0;34m=\u001b[0m \u001b[0mloss_fn\u001b[0m\u001b[0;34m(\u001b[0m\u001b[0mres\u001b[0m\u001b[0;34m,\u001b[0m \u001b[0my\u001b[0m\u001b[0;34m)\u001b[0m\u001b[0;34m\u001b[0m\u001b[0;34m\u001b[0m\u001b[0m\n\u001b[0;32m----> 5\u001b[0;31m     \u001b[0mloss\u001b[0m\u001b[0;34m.\u001b[0m\u001b[0mbackward\u001b[0m\u001b[0;34m(\u001b[0m\u001b[0;34m)\u001b[0m\u001b[0;34m\u001b[0m\u001b[0;34m\u001b[0m\u001b[0m\n\u001b[0m\u001b[1;32m      6\u001b[0m     \u001b[0moptimizer\u001b[0m\u001b[0;34m.\u001b[0m\u001b[0mstep\u001b[0m\u001b[0;34m(\u001b[0m\u001b[0;34m)\u001b[0m\u001b[0;34m\u001b[0m\u001b[0;34m\u001b[0m\u001b[0m\n",
      "\u001b[0;32m/mnt/HD2/ML/tinygrad/tinygrad/densetensor.py\u001b[0m in \u001b[0;36mbackward\u001b[0;34m(self)\u001b[0m\n\u001b[1;32m    149\u001b[0m       \u001b[0;32mwith\u001b[0m \u001b[0mProfileOp\u001b[0m\u001b[0;34m(\u001b[0m\u001b[0mt0\u001b[0m\u001b[0;34m.\u001b[0m\u001b[0m_ctx\u001b[0m\u001b[0;34m.\u001b[0m\u001b[0m__class__\u001b[0m\u001b[0;34m.\u001b[0m\u001b[0m__name__\u001b[0m\u001b[0;34m,\u001b[0m \u001b[0;34m[\u001b[0m\u001b[0mt0\u001b[0m\u001b[0;34m.\u001b[0m\u001b[0mgrad\u001b[0m\u001b[0;34m]\u001b[0m\u001b[0;34m,\u001b[0m \u001b[0mbackward\u001b[0m\u001b[0;34m=\u001b[0m\u001b[0;32mTrue\u001b[0m\u001b[0;34m)\u001b[0m \u001b[0;32mas\u001b[0m \u001b[0mpo\u001b[0m\u001b[0;34m:\u001b[0m\u001b[0;34m\u001b[0m\u001b[0;34m\u001b[0m\u001b[0m\n\u001b[1;32m    150\u001b[0m         \u001b[0;31m# print('t0:', t0, t0._ctx.__class__.__name__, t0.grad.cpu().data)\u001b[0m\u001b[0;34m\u001b[0m\u001b[0;34m\u001b[0m\u001b[0;34m\u001b[0m\u001b[0m\n\u001b[0;32m--> 151\u001b[0;31m         \u001b[0mgrads\u001b[0m \u001b[0;34m=\u001b[0m \u001b[0mt0\u001b[0m\u001b[0;34m.\u001b[0m\u001b[0m_ctx\u001b[0m\u001b[0;34m.\u001b[0m\u001b[0mbackward\u001b[0m\u001b[0;34m(\u001b[0m\u001b[0mt0\u001b[0m\u001b[0;34m.\u001b[0m\u001b[0m_ctx\u001b[0m\u001b[0;34m,\u001b[0m \u001b[0mt0\u001b[0m\u001b[0;34m.\u001b[0m\u001b[0mgrad\u001b[0m\u001b[0;34m.\u001b[0m\u001b[0mdata\u001b[0m\u001b[0;34m)\u001b[0m\u001b[0;34m\u001b[0m\u001b[0;34m\u001b[0m\u001b[0m\n\u001b[0m\u001b[1;32m    152\u001b[0m       \u001b[0;32mif\u001b[0m \u001b[0mlen\u001b[0m\u001b[0;34m(\u001b[0m\u001b[0mt0\u001b[0m\u001b[0;34m.\u001b[0m\u001b[0m_ctx\u001b[0m\u001b[0;34m.\u001b[0m\u001b[0mparents\u001b[0m\u001b[0;34m)\u001b[0m \u001b[0;34m==\u001b[0m \u001b[0;36m1\u001b[0m\u001b[0;34m:\u001b[0m\u001b[0;34m\u001b[0m\u001b[0;34m\u001b[0m\u001b[0m\n\u001b[1;32m    153\u001b[0m         \u001b[0mgrads\u001b[0m \u001b[0;34m=\u001b[0m \u001b[0;34m[\u001b[0m\u001b[0mgrads\u001b[0m\u001b[0;34m]\u001b[0m\u001b[0;34m\u001b[0m\u001b[0;34m\u001b[0m\u001b[0m\n",
      "\u001b[0;32m/mnt/HD2/ML/tinygrad/tinygrad/ops_gpu.py\u001b[0m in \u001b[0;36mbackward\u001b[0;34m(ctx, grad_output)\u001b[0m\n\u001b[1;32m    423\u001b[0m     \u001b[0mprint\u001b[0m\u001b[0;34m(\u001b[0m\u001b[0;34m'INPUT'\u001b[0m\u001b[0;34m,\u001b[0m \u001b[0mDenseTensor\u001b[0m\u001b[0;34m(\u001b[0m\u001b[0minput\u001b[0m\u001b[0;34m)\u001b[0m\u001b[0;34m.\u001b[0m\u001b[0mcpu\u001b[0m\u001b[0;34m(\u001b[0m\u001b[0;34m)\u001b[0m\u001b[0;34m.\u001b[0m\u001b[0mdata\u001b[0m\u001b[0;34m)\u001b[0m\u001b[0;34m\u001b[0m\u001b[0;34m\u001b[0m\u001b[0m\n\u001b[1;32m    424\u001b[0m     \u001b[0mprint\u001b[0m\u001b[0;34m(\u001b[0m\u001b[0;34m'OUT:'\u001b[0m\u001b[0;34m,\u001b[0m \u001b[0mDenseTensor\u001b[0m\u001b[0;34m(\u001b[0m\u001b[0mgrad_input\u001b[0m\u001b[0;34m)\u001b[0m\u001b[0;34m.\u001b[0m\u001b[0mcpu\u001b[0m\u001b[0;34m(\u001b[0m\u001b[0;34m)\u001b[0m\u001b[0;34m.\u001b[0m\u001b[0mdata\u001b[0m\u001b[0;34m)\u001b[0m\u001b[0;34m\u001b[0m\u001b[0;34m\u001b[0m\u001b[0m\n\u001b[0;32m--> 425\u001b[0;31m     \u001b[0masdf\u001b[0m\u001b[0;34m\u001b[0m\u001b[0;34m\u001b[0m\u001b[0m\n\u001b[0m\u001b[1;32m    426\u001b[0m \u001b[0;34m\u001b[0m\u001b[0m\n\u001b[1;32m    427\u001b[0m     \u001b[0;31m# print('IN', DenseTensor(input).cpu().data)\u001b[0m\u001b[0;34m\u001b[0m\u001b[0;34m\u001b[0m\u001b[0;34m\u001b[0m\u001b[0m\n",
      "\u001b[0;31mNameError\u001b[0m: name 'asdf' is not defined"
     ]
    }
   ],
   "source": [
    "for i in range(iters):\n",
    "    res = model.forward(x)\n",
    "    optimizer.zero_grad()\n",
    "    loss = loss_fn(res, y)\n",
    "    loss.backward()\n",
    "    optimizer.step()"
   ]
  },
  {
   "cell_type": "code",
   "execution_count": null,
   "id": "83c586b7",
   "metadata": {},
   "outputs": [],
   "source": [
    "model.parameters()"
   ]
  },
  {
   "cell_type": "code",
   "execution_count": null,
   "id": "4641b69d",
   "metadata": {},
   "outputs": [],
   "source": [
    "res.cpu().data"
   ]
  },
  {
   "cell_type": "code",
   "execution_count": null,
   "id": "8eb71052",
   "metadata": {},
   "outputs": [],
   "source": [
    "loss.cpu().data"
   ]
  },
  {
   "cell_type": "code",
   "execution_count": null,
   "id": "44d83871",
   "metadata": {},
   "outputs": [],
   "source": [
    "res.grad.cpu().data"
   ]
  },
  {
   "cell_type": "code",
   "execution_count": null,
   "id": "9ac039f6",
   "metadata": {},
   "outputs": [],
   "source": [
    "model.W.grad.cpu().data"
   ]
  },
  {
   "cell_type": "markdown",
   "id": "1f62f27e",
   "metadata": {},
   "source": [
    "### Second"
   ]
  },
  {
   "cell_type": "code",
   "execution_count": 14,
   "id": "c8d4d1bc",
   "metadata": {},
   "outputs": [
    {
     "data": {
      "text/plain": [
       "array([[-6.38729751e-01,  8.24770331e-01, -1.21083879e+00,\n",
       "        -5.03405392e-01],\n",
       "       [-7.01915681e-01, -1.97427106e+00, -2.65573215e+00,\n",
       "        -5.76822497e-02],\n",
       "       [-6.56186581e-01, -6.61706686e-01,  7.69348443e-01,\n",
       "        -8.99004877e-01],\n",
       "       [ 1.69363797e+00, -1.69733524e+00, -2.79337025e+00,\n",
       "        -2.26150647e-01],\n",
       "       [ 3.97428840e-01,  1.65970361e+00, -4.93746817e-01,\n",
       "        -3.76097679e-01],\n",
       "       [-1.69739768e-01,  2.41710639e+00, -1.80884051e+00,\n",
       "         3.39751154e-01],\n",
       "       [-2.27297600e-02, -9.59997058e-01, -3.83114427e-01,\n",
       "         1.09529994e-01],\n",
       "       [-8.55162859e-01,  2.21606664e-04,  6.63855076e-01,\n",
       "         7.49480963e-01]], dtype=float32)"
      ]
     },
     "execution_count": 14,
     "metadata": {},
     "output_type": "execute_result"
    }
   ],
   "source": [
    "w_init"
   ]
  },
  {
   "cell_type": "code",
   "execution_count": 15,
   "id": "31a9604d",
   "metadata": {},
   "outputs": [],
   "source": [
    "model2 = MLP2()"
   ]
  },
  {
   "cell_type": "code",
   "execution_count": 16,
   "id": "0e020858",
   "metadata": {},
   "outputs": [],
   "source": [
    "optimizer2 = optim.SGD(model2.parameters(), lr=1)"
   ]
  },
  {
   "cell_type": "code",
   "execution_count": 17,
   "id": "df5115ec",
   "metadata": {},
   "outputs": [
    {
     "name": "stdout",
     "output_type": "stream",
     "text": [
      "INPUT [[ 1.1085547e-03 -2.8954408e-01 -1.1160663e+00 -1.2882757e-02\n",
      "  -3.7836146e-01 -4.8113537e-01 -1.5173311e+00 -4.9087200e-01]\n",
      " [-2.4068058e-01 -6.4794743e-01  6.3589108e-01  1.7401173e+00\n",
      "   2.9668221e-01  7.0750368e-01  1.8228158e+00  4.3076903e-01]\n",
      " [ 1.5427296e+00 -9.0072119e-01 -1.3712502e-01  1.2975791e+00\n",
      "   6.7527115e-01  3.1958118e-02  9.1814590e-01  3.8050947e-01]\n",
      " [ 5.1636750e-01 -3.5523945e-01  2.0877700e-01  3.2841107e-01\n",
      "  -4.9822477e-01 -2.0917768e+00 -8.2587741e-02  2.4551826e+00]\n",
      " [-2.6721101e+00 -9.1327929e-01 -2.2731435e-01  2.6931539e-01\n",
      "   1.1304612e+00  1.0423975e+00  1.3038105e+00  1.3894007e+00]\n",
      " [-6.5645260e-01 -5.6257296e-02 -4.9990261e-01  4.3641937e-01\n",
      "  -3.7581304e-01 -9.2306161e-01  1.9172503e+00 -1.5030284e-01]] 8 4\n",
      "OUT: [[ 1.50174284e-02 -4.03571635e-01  1.78856969e-01 -1.44680411e-01\n",
      "   1.92041516e-01 -9.14528146e-02 -1.23737752e-01 -1.98523298e-01]\n",
      " [-2.69819312e-02  2.87787933e-02 -2.76422128e-03  7.13188201e-02\n",
      "  -2.35424917e-02 -4.62456383e-02  1.88498497e-02 -1.74433123e-02]\n",
      " [ 6.18917465e-01 -4.90919352e-01 -1.85160842e-02 -1.51331937e+00\n",
      "   4.84699667e-01  1.11027122e+00 -3.82779211e-01  4.43764538e-01]\n",
      " [-1.27043459e-03 -4.03334387e-03  2.99319881e-03 -9.32403933e-03\n",
      "  -1.95441744e-03 -3.55975237e-03 -7.09916989e-04  3.19411233e-03]\n",
      " [ 1.07568145e-01 -1.03075218e+00  4.78833348e-01 -1.36314702e+00\n",
      "   2.70026326e-01 -7.43381232e-02 -3.44513804e-01  8.88851807e-02]\n",
      " [ 1.72412738e-01  6.07642293e-01 -4.25243050e-01  1.13597608e+00\n",
      "   1.94117293e-01  5.04533589e-01  1.13657862e-01 -3.11355412e-01]]\n"
     ]
    },
    {
     "ename": "NameError",
     "evalue": "name 'asdf' is not defined",
     "output_type": "error",
     "traceback": [
      "\u001b[0;31m---------------------------------------------------------------------------\u001b[0m",
      "\u001b[0;31mNameError\u001b[0m                                 Traceback (most recent call last)",
      "\u001b[0;32m/tmp/ipykernel_1314/3126239190.py\u001b[0m in \u001b[0;36m<module>\u001b[0;34m\u001b[0m\n\u001b[1;32m      3\u001b[0m     \u001b[0moptimizer2\u001b[0m\u001b[0;34m.\u001b[0m\u001b[0mzero_grad\u001b[0m\u001b[0;34m(\u001b[0m\u001b[0;34m)\u001b[0m\u001b[0;34m\u001b[0m\u001b[0;34m\u001b[0m\u001b[0m\n\u001b[1;32m      4\u001b[0m     \u001b[0mloss2\u001b[0m \u001b[0;34m=\u001b[0m \u001b[0mloss_fn\u001b[0m\u001b[0;34m(\u001b[0m\u001b[0mres2\u001b[0m\u001b[0;34m,\u001b[0m \u001b[0my\u001b[0m\u001b[0;34m)\u001b[0m\u001b[0;34m\u001b[0m\u001b[0;34m\u001b[0m\u001b[0m\n\u001b[0;32m----> 5\u001b[0;31m     \u001b[0mloss2\u001b[0m\u001b[0;34m.\u001b[0m\u001b[0mbackward\u001b[0m\u001b[0;34m(\u001b[0m\u001b[0;34m)\u001b[0m\u001b[0;34m\u001b[0m\u001b[0;34m\u001b[0m\u001b[0m\n\u001b[0m\u001b[1;32m      6\u001b[0m     \u001b[0moptimizer2\u001b[0m\u001b[0;34m.\u001b[0m\u001b[0mstep\u001b[0m\u001b[0;34m(\u001b[0m\u001b[0;34m)\u001b[0m\u001b[0;34m\u001b[0m\u001b[0;34m\u001b[0m\u001b[0m\n",
      "\u001b[0;32m/mnt/HD2/ML/tinygrad/tinygrad/densetensor.py\u001b[0m in \u001b[0;36mbackward\u001b[0;34m(self)\u001b[0m\n\u001b[1;32m    149\u001b[0m       \u001b[0;32mwith\u001b[0m \u001b[0mProfileOp\u001b[0m\u001b[0;34m(\u001b[0m\u001b[0mt0\u001b[0m\u001b[0;34m.\u001b[0m\u001b[0m_ctx\u001b[0m\u001b[0;34m.\u001b[0m\u001b[0m__class__\u001b[0m\u001b[0;34m.\u001b[0m\u001b[0m__name__\u001b[0m\u001b[0;34m,\u001b[0m \u001b[0;34m[\u001b[0m\u001b[0mt0\u001b[0m\u001b[0;34m.\u001b[0m\u001b[0mgrad\u001b[0m\u001b[0;34m]\u001b[0m\u001b[0;34m,\u001b[0m \u001b[0mbackward\u001b[0m\u001b[0;34m=\u001b[0m\u001b[0;32mTrue\u001b[0m\u001b[0;34m)\u001b[0m \u001b[0;32mas\u001b[0m \u001b[0mpo\u001b[0m\u001b[0;34m:\u001b[0m\u001b[0;34m\u001b[0m\u001b[0;34m\u001b[0m\u001b[0m\n\u001b[1;32m    150\u001b[0m         \u001b[0;31m# print('t0:', t0, t0._ctx.__class__.__name__, t0.grad.cpu().data)\u001b[0m\u001b[0;34m\u001b[0m\u001b[0;34m\u001b[0m\u001b[0;34m\u001b[0m\u001b[0m\n\u001b[0;32m--> 151\u001b[0;31m         \u001b[0mgrads\u001b[0m \u001b[0;34m=\u001b[0m \u001b[0mt0\u001b[0m\u001b[0;34m.\u001b[0m\u001b[0m_ctx\u001b[0m\u001b[0;34m.\u001b[0m\u001b[0mbackward\u001b[0m\u001b[0;34m(\u001b[0m\u001b[0mt0\u001b[0m\u001b[0;34m.\u001b[0m\u001b[0m_ctx\u001b[0m\u001b[0;34m,\u001b[0m \u001b[0mt0\u001b[0m\u001b[0;34m.\u001b[0m\u001b[0mgrad\u001b[0m\u001b[0;34m.\u001b[0m\u001b[0mdata\u001b[0m\u001b[0;34m)\u001b[0m\u001b[0;34m\u001b[0m\u001b[0;34m\u001b[0m\u001b[0m\n\u001b[0m\u001b[1;32m    152\u001b[0m       \u001b[0;32mif\u001b[0m \u001b[0mlen\u001b[0m\u001b[0;34m(\u001b[0m\u001b[0mt0\u001b[0m\u001b[0;34m.\u001b[0m\u001b[0m_ctx\u001b[0m\u001b[0;34m.\u001b[0m\u001b[0mparents\u001b[0m\u001b[0;34m)\u001b[0m \u001b[0;34m==\u001b[0m \u001b[0;36m1\u001b[0m\u001b[0;34m:\u001b[0m\u001b[0;34m\u001b[0m\u001b[0;34m\u001b[0m\u001b[0m\n\u001b[1;32m    153\u001b[0m         \u001b[0mgrads\u001b[0m \u001b[0;34m=\u001b[0m \u001b[0;34m[\u001b[0m\u001b[0mgrads\u001b[0m\u001b[0;34m]\u001b[0m\u001b[0;34m\u001b[0m\u001b[0;34m\u001b[0m\u001b[0m\n",
      "\u001b[0;32m/mnt/HD2/ML/tinygrad/tinygrad/ops_gpusparse.py\u001b[0m in \u001b[0;36mbackward\u001b[0;34m(ctx, grad_output)\u001b[0m\n\u001b[1;32m    443\u001b[0m     \u001b[0mprint\u001b[0m\u001b[0;34m(\u001b[0m\u001b[0;34m'INPUT'\u001b[0m\u001b[0;34m,\u001b[0m \u001b[0mDenseTensor\u001b[0m\u001b[0;34m(\u001b[0m\u001b[0minput\u001b[0m\u001b[0;34m)\u001b[0m\u001b[0;34m.\u001b[0m\u001b[0mcpu\u001b[0m\u001b[0;34m(\u001b[0m\u001b[0;34m)\u001b[0m\u001b[0;34m.\u001b[0m\u001b[0mdata\u001b[0m\u001b[0;34m,\u001b[0m \u001b[0mweight\u001b[0m\u001b[0;34m.\u001b[0m\u001b[0mshape\u001b[0m\u001b[0;34m[\u001b[0m\u001b[0;36m0\u001b[0m\u001b[0;34m]\u001b[0m\u001b[0;34m,\u001b[0m \u001b[0mweight\u001b[0m\u001b[0;34m.\u001b[0m\u001b[0mshape\u001b[0m\u001b[0;34m[\u001b[0m\u001b[0;36m1\u001b[0m\u001b[0;34m]\u001b[0m\u001b[0;34m)\u001b[0m\u001b[0;34m\u001b[0m\u001b[0;34m\u001b[0m\u001b[0m\n\u001b[1;32m    444\u001b[0m     \u001b[0mprint\u001b[0m\u001b[0;34m(\u001b[0m\u001b[0;34m'OUT:'\u001b[0m\u001b[0;34m,\u001b[0m \u001b[0mgrad_input\u001b[0m\u001b[0;34m.\u001b[0m\u001b[0mcpu\u001b[0m\u001b[0;34m(\u001b[0m\u001b[0;34m)\u001b[0m\u001b[0;34m.\u001b[0m\u001b[0mdata\u001b[0m\u001b[0;34m)\u001b[0m\u001b[0;34m\u001b[0m\u001b[0;34m\u001b[0m\u001b[0m\n\u001b[0;32m--> 445\u001b[0;31m     \u001b[0masdf\u001b[0m\u001b[0;34m\u001b[0m\u001b[0;34m\u001b[0m\u001b[0m\n\u001b[0m\u001b[1;32m    446\u001b[0m \u001b[0;34m\u001b[0m\u001b[0m\n\u001b[1;32m    447\u001b[0m     genwupdate4 = clbuild(ctx.cl_ctx, \"genwupdate4\", \"\"\"\n",
      "\u001b[0;31mNameError\u001b[0m: name 'asdf' is not defined"
     ]
    }
   ],
   "source": [
    "for i in range(iters):\n",
    "    res2 = model2.forward(x)\n",
    "    optimizer2.zero_grad()\n",
    "    loss2 = loss_fn(res2, y)\n",
    "    loss2.backward()\n",
    "    optimizer2.step()"
   ]
  },
  {
   "cell_type": "markdown",
   "id": "c52cfabf",
   "metadata": {},
   "source": [
    "#### fwd"
   ]
  },
  {
   "cell_type": "code",
   "execution_count": null,
   "id": "e8576d40",
   "metadata": {},
   "outputs": [],
   "source": [
    "res2.cpu().data==res.cpu().data"
   ]
  },
  {
   "cell_type": "code",
   "execution_count": null,
   "id": "56fc46b0",
   "metadata": {},
   "outputs": [],
   "source": [
    "res2.cpu().data"
   ]
  },
  {
   "cell_type": "code",
   "execution_count": null,
   "id": "14284cf1",
   "metadata": {},
   "outputs": [],
   "source": [
    "res.cpu().data - res2.cpu().data"
   ]
  },
  {
   "cell_type": "markdown",
   "id": "6189a9e9",
   "metadata": {},
   "source": [
    "#### loss"
   ]
  },
  {
   "cell_type": "code",
   "execution_count": null,
   "id": "dbd0474e",
   "metadata": {},
   "outputs": [],
   "source": [
    "loss.cpu().data==loss2.cpu().data"
   ]
  },
  {
   "cell_type": "code",
   "execution_count": null,
   "id": "851f4b4f",
   "metadata": {},
   "outputs": [],
   "source": [
    "loss2.cpu().data"
   ]
  },
  {
   "cell_type": "code",
   "execution_count": null,
   "id": "1ca18cf1",
   "metadata": {},
   "outputs": [],
   "source": [
    "loss.cpu().data - loss2.cpu().data"
   ]
  },
  {
   "cell_type": "markdown",
   "id": "5a0a2ab3",
   "metadata": {},
   "source": [
    "#### grad"
   ]
  },
  {
   "cell_type": "code",
   "execution_count": null,
   "id": "73eb3657",
   "metadata": {},
   "outputs": [],
   "source": [
    "res.grad.cpu().data==res2.grad.cpu().data"
   ]
  },
  {
   "cell_type": "code",
   "execution_count": null,
   "id": "1c6b96e1",
   "metadata": {},
   "outputs": [],
   "source": [
    "res2.grad.cpu().data"
   ]
  },
  {
   "cell_type": "code",
   "execution_count": null,
   "id": "03aea6d2",
   "metadata": {},
   "outputs": [],
   "source": [
    "res.grad.cpu().data-res2.grad.cpu().data"
   ]
  },
  {
   "cell_type": "markdown",
   "id": "f8ff5b18",
   "metadata": {},
   "source": [
    "#### weight"
   ]
  },
  {
   "cell_type": "code",
   "execution_count": null,
   "id": "b0d6797c",
   "metadata": {},
   "outputs": [],
   "source": [
    "def to_dense(data, cols, nnzs, ellw, shape):\n",
    "    out = np.zeros(shape)\n",
    "    for row in range(shape[0]):\n",
    "        for icol in range(nnzs[row]):\n",
    "            #print('idx:',row,cols[row*ellw+icol])\n",
    "            out[row,cols[row*ellw+icol]] = data[row*ellw+icol]\n",
    "    return out"
   ]
  },
  {
   "cell_type": "code",
   "execution_count": null,
   "id": "618696f8",
   "metadata": {},
   "outputs": [],
   "source": [
    "model.W.grad, model2.W.grad"
   ]
  },
  {
   "cell_type": "code",
   "execution_count": null,
   "id": "8a731272",
   "metadata": {},
   "outputs": [],
   "source": [
    "model.W.grad.cpu().data"
   ]
  },
  {
   "cell_type": "code",
   "execution_count": null,
   "id": "dc5660f2",
   "metadata": {},
   "outputs": [],
   "source": [
    "model2.W.grad.data.cl"
   ]
  },
  {
   "cell_type": "code",
   "execution_count": null,
   "id": "904fbd4c",
   "metadata": {},
   "outputs": [],
   "source": [
    "import pyopencl as cl\n",
    "\n",
    "dim = np.prod(model2.W.grad.shape)\n",
    "data = np.zeros(dim).astype(np.float32)\n",
    "cl.enqueue_copy(cl_queue, data, model2.W.grad.datat.cl)\n",
    "cols = np.zeros(dim).astype(np.uint32)\n",
    "cl.enqueue_copy(cl_queue, cols, model2.W.grad.idxst.cl)\n",
    "nnzs = np.zeros(model.W.grad.shape[0]).astype(np.uint32)\n",
    "cl.enqueue_copy(cl_queue, nnzs, model2.W.grad.nnzst.cl)"
   ]
  },
  {
   "cell_type": "code",
   "execution_count": null,
   "id": "70561043",
   "metadata": {},
   "outputs": [],
   "source": [
    "to_dense(data, cols, nnzs, model2.W.grad.ellwt, model2.W.grad.shape)"
   ]
  },
  {
   "cell_type": "code",
   "execution_count": null,
   "id": "a0126843",
   "metadata": {},
   "outputs": [],
   "source": [
    "data"
   ]
  },
  {
   "cell_type": "code",
   "execution_count": null,
   "id": "1dbc9b2f",
   "metadata": {},
   "outputs": [],
   "source": [
    "cols"
   ]
  },
  {
   "cell_type": "code",
   "execution_count": null,
   "id": "1c1dc17a",
   "metadata": {},
   "outputs": [],
   "source": [
    "nnzs"
   ]
  },
  {
   "cell_type": "code",
   "execution_count": null,
   "id": "46f0be15",
   "metadata": {},
   "outputs": [],
   "source": [
    "denserec = model.W.cpu().data \n",
    "denserec"
   ]
  },
  {
   "cell_type": "code",
   "execution_count": null,
   "id": "7a45e9a8",
   "metadata": {},
   "outputs": [],
   "source": [
    "sparserec = model2.W.to_numpy()\n",
    "sparserec"
   ]
  },
  {
   "cell_type": "code",
   "execution_count": null,
   "id": "dd35f59d",
   "metadata": {},
   "outputs": [],
   "source": [
    "denserec - sparserec"
   ]
  },
  {
   "cell_type": "code",
   "execution_count": null,
   "id": "796f73a6",
   "metadata": {},
   "outputs": [],
   "source": [
    "sparserec2 = model2.W.to_numpy(dual=True)\n",
    "sparserec2.T"
   ]
  },
  {
   "cell_type": "code",
   "execution_count": null,
   "id": "f985fd5e",
   "metadata": {},
   "outputs": [],
   "source": [
    "denserec - sparserec2.T"
   ]
  },
  {
   "cell_type": "code",
   "execution_count": null,
   "id": "ebfecb5f",
   "metadata": {},
   "outputs": [],
   "source": []
  },
  {
   "cell_type": "code",
   "execution_count": null,
   "id": "2a56f04d",
   "metadata": {},
   "outputs": [],
   "source": [
    "seedmat - denserec"
   ]
  },
  {
   "cell_type": "code",
   "execution_count": null,
   "id": "4c5b2fec",
   "metadata": {},
   "outputs": [],
   "source": []
  },
  {
   "cell_type": "code",
   "execution_count": null,
   "id": "07f0b1d2",
   "metadata": {},
   "outputs": [],
   "source": []
  },
  {
   "cell_type": "code",
   "execution_count": null,
   "id": "ce7898e2",
   "metadata": {},
   "outputs": [],
   "source": []
  },
  {
   "cell_type": "code",
   "execution_count": null,
   "id": "e14f967b",
   "metadata": {},
   "outputs": [],
   "source": []
  },
  {
   "cell_type": "code",
   "execution_count": null,
   "id": "8e79f32e",
   "metadata": {},
   "outputs": [],
   "source": []
  },
  {
   "cell_type": "code",
   "execution_count": null,
   "id": "a93b6000",
   "metadata": {},
   "outputs": [],
   "source": []
  },
  {
   "cell_type": "code",
   "execution_count": null,
   "id": "d857923b",
   "metadata": {},
   "outputs": [],
   "source": []
  },
  {
   "cell_type": "code",
   "execution_count": null,
   "id": "a55f210a",
   "metadata": {},
   "outputs": [],
   "source": []
  },
  {
   "cell_type": "code",
   "execution_count": null,
   "id": "2884b8f9",
   "metadata": {},
   "outputs": [],
   "source": []
  },
  {
   "cell_type": "code",
   "execution_count": null,
   "id": "193ba45d",
   "metadata": {},
   "outputs": [],
   "source": []
  },
  {
   "cell_type": "code",
   "execution_count": null,
   "id": "ea7948fa",
   "metadata": {},
   "outputs": [],
   "source": []
  },
  {
   "cell_type": "code",
   "execution_count": null,
   "id": "c59a13bd",
   "metadata": {},
   "outputs": [],
   "source": []
  },
  {
   "cell_type": "raw",
   "id": "a5a63123",
   "metadata": {},
   "source": []
  }
 ],
 "metadata": {
  "kernelspec": {
   "display_name": "Python 3",
   "language": "python",
   "name": "python3"
  },
  "language_info": {
   "codemirror_mode": {
    "name": "ipython",
    "version": 3
   },
   "file_extension": ".py",
   "mimetype": "text/x-python",
   "name": "python",
   "nbconvert_exporter": "python",
   "pygments_lexer": "ipython3",
   "version": "3.8.12"
  }
 },
 "nbformat": 4,
 "nbformat_minor": 5
}
