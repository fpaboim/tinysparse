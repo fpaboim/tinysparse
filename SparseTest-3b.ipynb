{
 "cells": [
  {
   "cell_type": "code",
   "execution_count": 1,
   "id": "4309590e",
   "metadata": {},
   "outputs": [
    {
     "name": "stdout",
     "output_type": "stream",
     "text": [
      "DEVICE:GPU\n"
     ]
    }
   ],
   "source": [
    "from tinygrad.densetensor import DenseTensor, cl_queue\n",
    "from tinygrad.sparsetensor import SparseTensor\n",
    "import numpy as np\n",
    "import tinygrad.optim as optim\n",
    "from extra.utils import get_parameters\n",
    "\n",
    "\n",
    "%load_ext autoreload\n",
    "%autoreload 2"
   ]
  },
  {
   "cell_type": "code",
   "execution_count": 2,
   "id": "73101cd9",
   "metadata": {},
   "outputs": [],
   "source": [
    "dim1 = 4\n",
    "dim2 = 6\n",
    "dim3 = 3\n",
    "\n",
    "np.random.seed(9)"
   ]
  },
  {
   "cell_type": "code",
   "execution_count": 3,
   "id": "d9c197bb",
   "metadata": {},
   "outputs": [
    {
     "name": "stdout",
     "output_type": "stream",
     "text": [
      "warning, (4, 3) isn't float32, it's float64\n"
     ]
    }
   ],
   "source": [
    "x_init = np.random.randn(dim1,dim2).astype(np.float32)\n",
    "w_init = np.random.randn(dim2,dim3).astype(np.float32)\n",
    "x = DenseTensor(x_init)\n",
    "y = DenseTensor(np.random.randn(dim1,dim3))"
   ]
  },
  {
   "cell_type": "markdown",
   "id": "060e165f",
   "metadata": {},
   "source": [
    "W_TEST = SparseTensor.uniform(dim2,dim3, randsparsity=0.6).to_numpy()\n",
    "W_TEST"
   ]
  },
  {
   "cell_type": "code",
   "execution_count": 4,
   "id": "77d80814",
   "metadata": {},
   "outputs": [
    {
     "data": {
      "text/plain": [
       "array([[ 0.5163675 , -0.35523945,  0.208777  ],\n",
       "       [ 0.32841107, -0.49822477, -2.09177685],\n",
       "       [-0.08258774,  2.45518255, -2.67211008],\n",
       "       [-0.91327929, -0.22731435,  0.26931539],\n",
       "       [ 1.13046122,  1.0423975 ,  1.30381048],\n",
       "       [ 1.38940072, -0.6564526 , -0.0562573 ]])"
      ]
     },
     "execution_count": 4,
     "metadata": {},
     "output_type": "execute_result"
    }
   ],
   "source": [
    "W_TEST = SparseTensor(w_init).to_numpy()\n",
    "W_TEST"
   ]
  },
  {
   "cell_type": "code",
   "execution_count": 5,
   "id": "8a9285aa",
   "metadata": {},
   "outputs": [],
   "source": [
    "class MLP:\n",
    "  def __init__(self, init_dense):\n",
    "    #self.W = DenseTensor(init_dense)\n",
    "    self.W = DenseTensor(W_TEST)\n",
    "\n",
    "  def parameters(self):\n",
    "    return get_parameters(self)\n",
    "\n",
    "  def forward(self, x):\n",
    "    out = x.dot(self.W)\n",
    "    out = out.softmax()\n",
    "    #out = out.mul(self.m).add(self.m).sum()\n",
    "    return out"
   ]
  },
  {
   "cell_type": "code",
   "execution_count": 6,
   "id": "a5168e97",
   "metadata": {},
   "outputs": [],
   "source": [
    "class MLP2:\n",
    "  def __init__(self):\n",
    "    self.W = SparseTensor(W_TEST)\n",
    "    #self.W = SparseTensor.uniform(dim2,dim3)\n",
    "    #self.W = SparseTensor.uniform(dim2,dim3)\n",
    "\n",
    "  def parameters(self):\n",
    "    return get_parameters(self)\n",
    "\n",
    "  def forward(self, x):\n",
    "    out = x.dot(self.W)\n",
    "    out = out.softmax()\n",
    "    #out = out.mul(self.m).add(self.m).sum()\n",
    "    return out"
   ]
  },
  {
   "cell_type": "code",
   "execution_count": 7,
   "id": "13c4436e",
   "metadata": {},
   "outputs": [],
   "source": [
    "def loss_fn(y, y_pred):\n",
    "    return ((y-y_pred)**2)**.5"
   ]
  },
  {
   "cell_type": "code",
   "execution_count": 8,
   "id": "c151d9eb",
   "metadata": {},
   "outputs": [],
   "source": [
    "model2 = MLP2()"
   ]
  },
  {
   "cell_type": "code",
   "execution_count": 9,
   "id": "da239456",
   "metadata": {},
   "outputs": [
    {
     "data": {
      "text/plain": [
       "array([3, 3, 3, 3, 3, 3], dtype=uint32)"
      ]
     },
     "execution_count": 9,
     "metadata": {},
     "output_type": "execute_result"
    }
   ],
   "source": [
    "model2.W.get_nnzs()"
   ]
  },
  {
   "cell_type": "code",
   "execution_count": 10,
   "id": "6c251838",
   "metadata": {},
   "outputs": [
    {
     "data": {
      "text/plain": [
       "array([[ 0.5163675 , -0.35523945,  0.208777  ],\n",
       "       [ 0.32841107, -0.49822477, -2.09177685],\n",
       "       [-0.08258774,  2.45518255, -2.67211008],\n",
       "       [-0.91327929, -0.22731435,  0.26931539],\n",
       "       [ 1.13046122,  1.0423975 ,  1.30381048],\n",
       "       [ 1.38940072, -0.6564526 , -0.0562573 ]])"
      ]
     },
     "execution_count": 10,
     "metadata": {},
     "output_type": "execute_result"
    }
   ],
   "source": [
    "dense_init = model2.W.to_numpy()\n",
    "dense_init"
   ]
  },
  {
   "cell_type": "code",
   "execution_count": 11,
   "id": "8fe94f00",
   "metadata": {},
   "outputs": [],
   "source": [
    "model = MLP(dense_init)"
   ]
  },
  {
   "cell_type": "markdown",
   "id": "3b00810f",
   "metadata": {},
   "source": [
    "### Dense"
   ]
  },
  {
   "cell_type": "code",
   "execution_count": 12,
   "id": "5d6f6d16",
   "metadata": {},
   "outputs": [],
   "source": [
    "iters = 1\n",
    "LR = 0.0001\n",
    "optimizer = optim.SGD(model.parameters(), lr=LR)"
   ]
  },
  {
   "cell_type": "code",
   "execution_count": 13,
   "id": "1a506d86",
   "metadata": {},
   "outputs": [
    {
     "name": "stdout",
     "output_type": "stream",
     "text": [
      "grad: -0.07484675 0.10546382 -0.024239197 0.032281365 1.1175871e-08\n"
     ]
    }
   ],
   "source": [
    "for i in range(iters):\n",
    "    res = model.forward(x)\n",
    "    optimizer.zero_grad()\n",
    "    loss = loss_fn(res, y)\n",
    "    loss.backward()\n",
    "    optimizer.step()"
   ]
  },
  {
   "cell_type": "code",
   "execution_count": 14,
   "id": "83c586b7",
   "metadata": {},
   "outputs": [
    {
     "data": {
      "text/plain": [
       "[<DenseTensor <GPUBuffer with shape (6, 3)> with grad <GPUBuffer with shape (6, 3)>>,\n",
       " <DenseTensor <GPUBuffer with shape (6, 3)> with grad None>]"
      ]
     },
     "execution_count": 14,
     "metadata": {},
     "output_type": "execute_result"
    }
   ],
   "source": [
    "model.parameters()"
   ]
  },
  {
   "cell_type": "code",
   "execution_count": 15,
   "id": "4641b69d",
   "metadata": {},
   "outputs": [
    {
     "data": {
      "text/plain": [
       "array([[1.4654074e-02, 3.0029491e-03, 9.8234296e-01],\n",
       "       [6.8406165e-01, 3.6055233e-02, 2.7988321e-01],\n",
       "       [3.0643116e-03, 9.9689972e-01, 3.5974052e-05],\n",
       "       [5.1771337e-01, 4.7943056e-01, 2.8560869e-03]], dtype=float32)"
      ]
     },
     "execution_count": 15,
     "metadata": {},
     "output_type": "execute_result"
    }
   ],
   "source": [
    "res.cpu().data"
   ]
  },
  {
   "cell_type": "code",
   "execution_count": 16,
   "id": "8eb71052",
   "metadata": {},
   "outputs": [
    {
     "data": {
      "text/plain": [
       "array([[0.5145567 , 0.43341643, 1.3581558 ],\n",
       "       [1.6071233 , 1.881195  , 0.43018603],\n",
       "       [0.641794  , 0.17212938, 1.2108748 ],\n",
       "       [1.0211188 , 1.181346  , 1.9771273 ]], dtype=float32)"
      ]
     },
     "execution_count": 16,
     "metadata": {},
     "output_type": "execute_result"
    }
   ],
   "source": [
    "loss.cpu().data"
   ]
  },
  {
   "cell_type": "code",
   "execution_count": 17,
   "id": "44d83871",
   "metadata": {},
   "outputs": [
    {
     "data": {
      "text/plain": [
       "array([[ 1.        , -1.        ,  0.99999994],\n",
       "       [ 0.9999999 , -1.0000001 ,  1.        ],\n",
       "       [ 0.99999994,  1.        ,  1.        ],\n",
       "       [ 0.99999994,  1.        ,  0.9999999 ]], dtype=float32)"
      ]
     },
     "execution_count": 17,
     "metadata": {},
     "output_type": "execute_result"
    }
   ],
   "source": [
    "res.grad.cpu().data"
   ]
  },
  {
   "cell_type": "code",
   "execution_count": 18,
   "id": "9ac039f6",
   "metadata": {},
   "outputs": [
    {
     "data": {
      "text/plain": [
       "array([[-0.07484675,  0.10546382, -0.03061706],\n",
       "       [-0.0242392 ,  0.03585451, -0.01161531],\n",
       "       [-0.01197051,  0.02341268, -0.01144217],\n",
       "       [-0.03196306,  0.04511629, -0.01315323],\n",
       "       [ 0.03133391, -0.04193553,  0.01060162],\n",
       "       [ 0.0857941 , -0.11807546,  0.03228137]], dtype=float32)"
      ]
     },
     "execution_count": 18,
     "metadata": {},
     "output_type": "execute_result"
    }
   ],
   "source": [
    "model.W.grad.cpu().data"
   ]
  },
  {
   "cell_type": "markdown",
   "id": "1f62f27e",
   "metadata": {},
   "source": [
    "### Second"
   ]
  },
  {
   "cell_type": "code",
   "execution_count": 19,
   "id": "51f5c948",
   "metadata": {},
   "outputs": [
    {
     "data": {
      "text/plain": [
       "array([[ 0.5163675 , -0.35523945,  0.208777  ],\n",
       "       [ 0.32841107, -0.49822477, -2.0917768 ],\n",
       "       [-0.08258774,  2.4551826 , -2.67211   ],\n",
       "       [-0.9132793 , -0.22731435,  0.2693154 ],\n",
       "       [ 1.1304612 ,  1.0423975 ,  1.3038105 ],\n",
       "       [ 1.3894007 , -0.6564526 , -0.0562573 ]], dtype=float32)"
      ]
     },
     "execution_count": 19,
     "metadata": {},
     "output_type": "execute_result"
    }
   ],
   "source": [
    "w_init"
   ]
  },
  {
   "cell_type": "code",
   "execution_count": 20,
   "id": "31a9604d",
   "metadata": {},
   "outputs": [],
   "source": [
    "model2 = MLP2()"
   ]
  },
  {
   "cell_type": "code",
   "execution_count": 21,
   "id": "0e020858",
   "metadata": {},
   "outputs": [],
   "source": [
    "optimizer2 = optim.SGD(model2.parameters(), lr=LR)"
   ]
  },
  {
   "cell_type": "code",
   "execution_count": 22,
   "id": "df5115ec",
   "metadata": {},
   "outputs": [
    {
     "name": "stdout",
     "output_type": "stream",
     "text": [
      "\n",
      " ADD VAL:0.00,0.00 - (0,0) - (0,0,0)\n",
      " ADD VAL:-1.52,0.05 - (0,0) - (0,0,1)\n",
      " ADD VAL:0.30,0.00 - (0,0) - (0,0,2)\n",
      " ADD VAL:-0.14,0.00 - (0,0) - (0,0,3)\n",
      " ADD VAL:-0.29,0.00 - (0,1) - (0,1,0)\n",
      " ADD VAL:-0.49,0.05 - (0,1) - (0,1,1)\n",
      " ADD VAL:0.71,0.00 - (0,1) - (0,1,2)\n",
      " ADD VAL:1.30,0.00 - (0,1) - (0,1,3)\n",
      " ADD VAL:-1.12,0.00 - (0,2) - (0,2,0)\n",
      " ADD VAL:-0.24,0.05 - (0,2) - (0,2,1)\n",
      " ADD VAL:1.82,0.00 - (0,2) - (0,2,2)\n",
      " ADD VAL:0.68,0.00 - (0,2) - (0,2,3)\n",
      " ADD VAL:-0.01,0.00 - (0,3) - (0,3,0)\n",
      " ADD VAL:-0.65,0.05 - (0,3) - (0,3,1)\n",
      " ADD VAL:0.43,0.00 - (0,3) - (0,3,2)\n",
      " ADD VAL:0.03,0.00 - (0,3) - (0,3,3)\n",
      " ADD VAL:-0.38,0.00 - (0,4) - (0,4,0)\n",
      " ADD VAL:0.64,0.05 - (0,4) - (0,4,1)\n",
      " ADD VAL:1.54,0.00 - (0,4) - (0,4,2)\n",
      " ADD VAL:0.92,0.00 - (0,4) - (0,4,3)\n",
      " ADD VAL:-0.48,0.00 - (0,5) - (0,5,0)\n",
      " ADD VAL:1.74,0.05 - (0,5) - (0,5,1)\n",
      " ADD VAL:-0.90,0.00 - (0,5) - (0,5,2)\n",
      " ADD VAL:0.38,0.00 - (0,5) - (0,5,3)grad_max: [5.58793545e-09 1.86264515e-09 9.31322575e-10 0.00000000e+00\n",
      " 9.31322575e-10 3.72529030e-09]\n"
     ]
    },
    {
     "ename": "NameError",
     "evalue": "name 'asdf' is not defined",
     "output_type": "error",
     "traceback": [
      "\u001b[0;31m---------------------------------------------------------------------------\u001b[0m",
      "\u001b[0;31mNameError\u001b[0m                                 Traceback (most recent call last)",
      "\u001b[0;32m/tmp/ipykernel_4448/3126239190.py\u001b[0m in \u001b[0;36m<module>\u001b[0;34m\u001b[0m\n\u001b[1;32m      3\u001b[0m     \u001b[0moptimizer2\u001b[0m\u001b[0;34m.\u001b[0m\u001b[0mzero_grad\u001b[0m\u001b[0;34m(\u001b[0m\u001b[0;34m)\u001b[0m\u001b[0;34m\u001b[0m\u001b[0;34m\u001b[0m\u001b[0m\n\u001b[1;32m      4\u001b[0m     \u001b[0mloss2\u001b[0m \u001b[0;34m=\u001b[0m \u001b[0mloss_fn\u001b[0m\u001b[0;34m(\u001b[0m\u001b[0mres2\u001b[0m\u001b[0;34m,\u001b[0m \u001b[0my\u001b[0m\u001b[0;34m)\u001b[0m\u001b[0;34m\u001b[0m\u001b[0;34m\u001b[0m\u001b[0m\n\u001b[0;32m----> 5\u001b[0;31m     \u001b[0mloss2\u001b[0m\u001b[0;34m.\u001b[0m\u001b[0mbackward\u001b[0m\u001b[0;34m(\u001b[0m\u001b[0;34m)\u001b[0m\u001b[0;34m\u001b[0m\u001b[0;34m\u001b[0m\u001b[0m\n\u001b[0m\u001b[1;32m      6\u001b[0m     \u001b[0moptimizer2\u001b[0m\u001b[0;34m.\u001b[0m\u001b[0mstep\u001b[0m\u001b[0;34m(\u001b[0m\u001b[0;34m)\u001b[0m\u001b[0;34m\u001b[0m\u001b[0;34m\u001b[0m\u001b[0m\n",
      "\u001b[0;32m/mnt/HD2/ML/tinygrad/tinygrad/densetensor.py\u001b[0m in \u001b[0;36mbackward\u001b[0;34m(self)\u001b[0m\n\u001b[1;32m    149\u001b[0m       \u001b[0;32mwith\u001b[0m \u001b[0mProfileOp\u001b[0m\u001b[0;34m(\u001b[0m\u001b[0mt0\u001b[0m\u001b[0;34m.\u001b[0m\u001b[0m_ctx\u001b[0m\u001b[0;34m.\u001b[0m\u001b[0m__class__\u001b[0m\u001b[0;34m.\u001b[0m\u001b[0m__name__\u001b[0m\u001b[0;34m,\u001b[0m \u001b[0;34m[\u001b[0m\u001b[0mt0\u001b[0m\u001b[0;34m.\u001b[0m\u001b[0mgrad\u001b[0m\u001b[0;34m]\u001b[0m\u001b[0;34m,\u001b[0m \u001b[0mbackward\u001b[0m\u001b[0;34m=\u001b[0m\u001b[0;32mTrue\u001b[0m\u001b[0;34m)\u001b[0m \u001b[0;32mas\u001b[0m \u001b[0mpo\u001b[0m\u001b[0;34m:\u001b[0m\u001b[0;34m\u001b[0m\u001b[0;34m\u001b[0m\u001b[0m\n\u001b[1;32m    150\u001b[0m         \u001b[0;31m# print('t0:', t0, t0._ctx.__class__.__name__, t0.grad.cpu().data)\u001b[0m\u001b[0;34m\u001b[0m\u001b[0;34m\u001b[0m\u001b[0;34m\u001b[0m\u001b[0m\n\u001b[0;32m--> 151\u001b[0;31m         \u001b[0mgrads\u001b[0m \u001b[0;34m=\u001b[0m \u001b[0mt0\u001b[0m\u001b[0;34m.\u001b[0m\u001b[0m_ctx\u001b[0m\u001b[0;34m.\u001b[0m\u001b[0mbackward\u001b[0m\u001b[0;34m(\u001b[0m\u001b[0mt0\u001b[0m\u001b[0;34m.\u001b[0m\u001b[0m_ctx\u001b[0m\u001b[0;34m,\u001b[0m \u001b[0mt0\u001b[0m\u001b[0;34m.\u001b[0m\u001b[0mgrad\u001b[0m\u001b[0;34m.\u001b[0m\u001b[0mdata\u001b[0m\u001b[0;34m)\u001b[0m\u001b[0;34m\u001b[0m\u001b[0;34m\u001b[0m\u001b[0m\n\u001b[0m\u001b[1;32m    152\u001b[0m       \u001b[0;32mif\u001b[0m \u001b[0mlen\u001b[0m\u001b[0;34m(\u001b[0m\u001b[0mt0\u001b[0m\u001b[0;34m.\u001b[0m\u001b[0m_ctx\u001b[0m\u001b[0;34m.\u001b[0m\u001b[0mparents\u001b[0m\u001b[0;34m)\u001b[0m \u001b[0;34m==\u001b[0m \u001b[0;36m1\u001b[0m\u001b[0;34m:\u001b[0m\u001b[0;34m\u001b[0m\u001b[0;34m\u001b[0m\u001b[0m\n\u001b[1;32m    153\u001b[0m         \u001b[0mgrads\u001b[0m \u001b[0;34m=\u001b[0m \u001b[0;34m[\u001b[0m\u001b[0mgrads\u001b[0m\u001b[0;34m]\u001b[0m\u001b[0;34m\u001b[0m\u001b[0;34m\u001b[0m\u001b[0m\n",
      "\u001b[0;32m/mnt/HD2/ML/tinygrad/tinygrad/ops_gpusparse.py\u001b[0m in \u001b[0;36mbackward\u001b[0;34m(ctx, grad_output)\u001b[0m\n\u001b[1;32m    643\u001b[0m \u001b[0;34m\u001b[0m\u001b[0m\n\u001b[1;32m    644\u001b[0m     \u001b[0mprint\u001b[0m\u001b[0;34m(\u001b[0m\u001b[0;34m'grad_max:'\u001b[0m\u001b[0;34m,\u001b[0m \u001b[0mgradpy\u001b[0m\u001b[0;34m.\u001b[0m\u001b[0msum\u001b[0m\u001b[0;34m(\u001b[0m\u001b[0maxis\u001b[0m\u001b[0;34m=\u001b[0m\u001b[0;36m1\u001b[0m\u001b[0;34m)\u001b[0m\u001b[0;34m)\u001b[0m\u001b[0;34m\u001b[0m\u001b[0;34m\u001b[0m\u001b[0m\n\u001b[0;32m--> 645\u001b[0;31m     \u001b[0masdf\u001b[0m\u001b[0;34m\u001b[0m\u001b[0;34m\u001b[0m\u001b[0m\n\u001b[0m\u001b[1;32m    646\u001b[0m \u001b[0;34m\u001b[0m\u001b[0m\n\u001b[1;32m    647\u001b[0m     \u001b[0;31m# updatem = clbuild(ctx.cl_ctx, \"updatem\", \"\"\"\u001b[0m\u001b[0;34m\u001b[0m\u001b[0;34m\u001b[0m\u001b[0;34m\u001b[0m\u001b[0m\n",
      "\u001b[0;31mNameError\u001b[0m: name 'asdf' is not defined"
     ]
    }
   ],
   "source": [
    "for i in range(iters):\n",
    "    res2 = model2.forward(x)\n",
    "    optimizer2.zero_grad()\n",
    "    loss2 = loss_fn(res2, y)\n",
    "    loss2.backward()\n",
    "    optimizer2.step()"
   ]
  },
  {
   "cell_type": "markdown",
   "id": "c52cfabf",
   "metadata": {},
   "source": [
    "#### fwd"
   ]
  },
  {
   "cell_type": "code",
   "execution_count": null,
   "id": "e8576d40",
   "metadata": {},
   "outputs": [],
   "source": [
    "res2.cpu().data==res.cpu().data"
   ]
  },
  {
   "cell_type": "code",
   "execution_count": null,
   "id": "14284cf1",
   "metadata": {},
   "outputs": [],
   "source": [
    "res.cpu().data - res2.cpu().data"
   ]
  },
  {
   "cell_type": "code",
   "execution_count": null,
   "id": "0b05e007",
   "metadata": {},
   "outputs": [],
   "source": [
    "res.grad.cpu().data - res2.grad.cpu().data"
   ]
  },
  {
   "cell_type": "markdown",
   "id": "6189a9e9",
   "metadata": {},
   "source": [
    "#### loss"
   ]
  },
  {
   "cell_type": "code",
   "execution_count": null,
   "id": "dbd0474e",
   "metadata": {},
   "outputs": [],
   "source": [
    "loss.cpu().data==loss2.cpu().data"
   ]
  },
  {
   "cell_type": "code",
   "execution_count": null,
   "id": "851f4b4f",
   "metadata": {},
   "outputs": [],
   "source": [
    "loss2.cpu().data"
   ]
  },
  {
   "cell_type": "code",
   "execution_count": null,
   "id": "1ca18cf1",
   "metadata": {},
   "outputs": [],
   "source": [
    "loss.cpu().data - loss2.cpu().data"
   ]
  },
  {
   "cell_type": "markdown",
   "id": "5a0a2ab3",
   "metadata": {},
   "source": [
    "#### grad"
   ]
  },
  {
   "cell_type": "code",
   "execution_count": null,
   "id": "73eb3657",
   "metadata": {},
   "outputs": [],
   "source": [
    "res.grad.cpu().data==res2.grad.cpu().data"
   ]
  },
  {
   "cell_type": "code",
   "execution_count": null,
   "id": "1c6b96e1",
   "metadata": {},
   "outputs": [],
   "source": [
    "res2.grad.cpu().data"
   ]
  },
  {
   "cell_type": "code",
   "execution_count": null,
   "id": "03aea6d2",
   "metadata": {},
   "outputs": [],
   "source": [
    "res.grad.cpu().data-res2.grad.cpu().data"
   ]
  },
  {
   "cell_type": "markdown",
   "id": "f8ff5b18",
   "metadata": {},
   "source": [
    "#### weight"
   ]
  },
  {
   "cell_type": "code",
   "execution_count": null,
   "id": "b0d6797c",
   "metadata": {},
   "outputs": [],
   "source": [
    "def to_dense(data, cols, nnzs, ellw, shape):\n",
    "    out = np.zeros(shape)\n",
    "    for row in range(shape[0]):\n",
    "        for icol in range(nnzs[row]):\n",
    "            #print('idx:',row,cols[row*ellw+icol])\n",
    "            out[row,cols[row*ellw+icol]] = data[row*ellw+icol]\n",
    "    return out"
   ]
  },
  {
   "cell_type": "code",
   "execution_count": null,
   "id": "618696f8",
   "metadata": {},
   "outputs": [],
   "source": [
    "model.W.grad, model2.W.grad"
   ]
  },
  {
   "cell_type": "code",
   "execution_count": null,
   "id": "8a731272",
   "metadata": {},
   "outputs": [],
   "source": [
    "model.W.grad.cpu().data"
   ]
  },
  {
   "cell_type": "code",
   "execution_count": null,
   "id": "adf44a3d",
   "metadata": {},
   "outputs": [],
   "source": [
    "model.W.grad.cpu().data.sum()"
   ]
  },
  {
   "cell_type": "code",
   "execution_count": null,
   "id": "291aa2eb",
   "metadata": {},
   "outputs": [],
   "source": [
    "model2.W.grad.to_numpy()"
   ]
  },
  {
   "cell_type": "code",
   "execution_count": null,
   "id": "566f3e1d",
   "metadata": {},
   "outputs": [],
   "source": [
    "model2.W.grad.to_numpy().sum()"
   ]
  },
  {
   "cell_type": "code",
   "execution_count": null,
   "id": "24ef36e7",
   "metadata": {},
   "outputs": [],
   "source": [
    "model.W.grad.cpu().data == model2.W.grad.to_numpy()"
   ]
  },
  {
   "cell_type": "code",
   "execution_count": null,
   "id": "b7b4f031",
   "metadata": {},
   "outputs": [],
   "source": [
    "model.W.cpu().data"
   ]
  },
  {
   "cell_type": "code",
   "execution_count": null,
   "id": "49059942",
   "metadata": {},
   "outputs": [],
   "source": [
    "model2.W.to_numpy()"
   ]
  },
  {
   "cell_type": "code",
   "execution_count": null,
   "id": "a0126843",
   "metadata": {},
   "outputs": [],
   "source": [
    "model.W.cpu().data == model2.W.to_numpy()"
   ]
  },
  {
   "cell_type": "code",
   "execution_count": null,
   "id": "c9dec773",
   "metadata": {},
   "outputs": [],
   "source": [
    "model.W.cpu().data == model2.W.to_numpy(dual=True).T"
   ]
  },
  {
   "cell_type": "code",
   "execution_count": null,
   "id": "5a033a4d",
   "metadata": {},
   "outputs": [],
   "source": [
    "model.W.cpu().data - model2.W.to_numpy()"
   ]
  },
  {
   "cell_type": "code",
   "execution_count": null,
   "id": "1dbc9b2f",
   "metadata": {},
   "outputs": [],
   "source": [
    "cols"
   ]
  },
  {
   "cell_type": "code",
   "execution_count": null,
   "id": "1c1dc17a",
   "metadata": {},
   "outputs": [],
   "source": [
    "nnzs"
   ]
  },
  {
   "cell_type": "code",
   "execution_count": null,
   "id": "46f0be15",
   "metadata": {},
   "outputs": [],
   "source": [
    "denserec = model.W.cpu().data \n",
    "denserec"
   ]
  },
  {
   "cell_type": "code",
   "execution_count": null,
   "id": "7a45e9a8",
   "metadata": {},
   "outputs": [],
   "source": [
    "sparserec = model2.W.to_numpy()\n",
    "sparserec"
   ]
  },
  {
   "cell_type": "code",
   "execution_count": null,
   "id": "dd35f59d",
   "metadata": {},
   "outputs": [],
   "source": [
    "denserec - sparserec"
   ]
  },
  {
   "cell_type": "code",
   "execution_count": null,
   "id": "796f73a6",
   "metadata": {},
   "outputs": [],
   "source": [
    "sparserec2 = model2.W.to_numpy(dual=True)\n",
    "sparserec2.T"
   ]
  },
  {
   "cell_type": "code",
   "execution_count": null,
   "id": "f985fd5e",
   "metadata": {},
   "outputs": [],
   "source": [
    "denserec - sparserec2.T"
   ]
  },
  {
   "cell_type": "code",
   "execution_count": null,
   "id": "ebfecb5f",
   "metadata": {},
   "outputs": [],
   "source": []
  },
  {
   "cell_type": "code",
   "execution_count": null,
   "id": "2a56f04d",
   "metadata": {},
   "outputs": [],
   "source": [
    "seedmat - denserec"
   ]
  },
  {
   "cell_type": "code",
   "execution_count": null,
   "id": "4c5b2fec",
   "metadata": {},
   "outputs": [],
   "source": []
  },
  {
   "cell_type": "code",
   "execution_count": null,
   "id": "07f0b1d2",
   "metadata": {},
   "outputs": [],
   "source": []
  },
  {
   "cell_type": "code",
   "execution_count": null,
   "id": "ce7898e2",
   "metadata": {},
   "outputs": [],
   "source": []
  },
  {
   "cell_type": "code",
   "execution_count": null,
   "id": "e14f967b",
   "metadata": {},
   "outputs": [],
   "source": []
  },
  {
   "cell_type": "code",
   "execution_count": null,
   "id": "8e79f32e",
   "metadata": {},
   "outputs": [],
   "source": []
  },
  {
   "cell_type": "code",
   "execution_count": null,
   "id": "a93b6000",
   "metadata": {},
   "outputs": [],
   "source": []
  },
  {
   "cell_type": "code",
   "execution_count": null,
   "id": "d857923b",
   "metadata": {},
   "outputs": [],
   "source": []
  },
  {
   "cell_type": "code",
   "execution_count": null,
   "id": "a55f210a",
   "metadata": {},
   "outputs": [],
   "source": []
  },
  {
   "cell_type": "code",
   "execution_count": null,
   "id": "2884b8f9",
   "metadata": {},
   "outputs": [],
   "source": []
  },
  {
   "cell_type": "code",
   "execution_count": null,
   "id": "193ba45d",
   "metadata": {},
   "outputs": [],
   "source": []
  },
  {
   "cell_type": "code",
   "execution_count": null,
   "id": "ea7948fa",
   "metadata": {},
   "outputs": [],
   "source": []
  },
  {
   "cell_type": "code",
   "execution_count": null,
   "id": "c59a13bd",
   "metadata": {},
   "outputs": [],
   "source": []
  },
  {
   "cell_type": "raw",
   "id": "a5a63123",
   "metadata": {},
   "source": []
  }
 ],
 "metadata": {
  "kernelspec": {
   "display_name": "Python 3",
   "language": "python",
   "name": "python3"
  },
  "language_info": {
   "codemirror_mode": {
    "name": "ipython",
    "version": 3
   },
   "file_extension": ".py",
   "mimetype": "text/x-python",
   "name": "python",
   "nbconvert_exporter": "python",
   "pygments_lexer": "ipython3",
   "version": "3.8.12"
  }
 },
 "nbformat": 4,
 "nbformat_minor": 5
}
