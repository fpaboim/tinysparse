{
 "cells": [
  {
   "cell_type": "code",
   "execution_count": 1,
   "id": "4309590e",
   "metadata": {},
   "outputs": [
    {
     "name": "stdout",
     "output_type": "stream",
     "text": [
      "DEVICE:GPU\n"
     ]
    }
   ],
   "source": [
    "from tinygrad.densetensor import DenseTensor, cl_queue\n",
    "from tinygrad.sparsetensor import SparseTensor\n",
    "import numpy as np\n",
    "import tinygrad.optim as optim\n",
    "from extra.utils import get_parameters\n",
    "\n",
    "\n",
    "%load_ext autoreload\n",
    "%autoreload 2"
   ]
  },
  {
   "cell_type": "code",
   "execution_count": 2,
   "id": "73101cd9",
   "metadata": {},
   "outputs": [],
   "source": [
    "dim1 = 4\n",
    "dim2 = 4\n",
    "dim3 = 4\n",
    "\n",
    "np.random.seed(9)"
   ]
  },
  {
   "cell_type": "code",
   "execution_count": 3,
   "id": "d9c197bb",
   "metadata": {},
   "outputs": [
    {
     "name": "stdout",
     "output_type": "stream",
     "text": [
      "warning, (4, 4) isn't float32, it's float64\n"
     ]
    }
   ],
   "source": [
    "x_init = np.random.randn(dim1,dim2).astype(np.float32)\n",
    "w_init = np.random.randn(dim2,dim3).astype(np.float32)\n",
    "x = DenseTensor(x_init)\n",
    "y = DenseTensor(np.random.randn(dim1,dim3))"
   ]
  },
  {
   "cell_type": "markdown",
   "id": "060e165f",
   "metadata": {},
   "source": [
    "W_TEST = SparseTensor.uniform(dim2,dim3, randsparsity=0.6).to_numpy()\n",
    "W_TEST"
   ]
  },
  {
   "cell_type": "code",
   "execution_count": 4,
   "id": "77d80814",
   "metadata": {},
   "outputs": [
    {
     "data": {
      "text/plain": [
       "array([[ 1.54272962, -0.90072119, -0.13712502,  1.29757905],\n",
       "       [ 0.67527115,  0.03195812,  0.9181459 ,  0.38050947],\n",
       "       [ 0.5163675 , -0.35523945,  0.208777  ,  0.32841107],\n",
       "       [-0.49822477, -2.09177685, -0.08258774,  2.45518255]])"
      ]
     },
     "execution_count": 4,
     "metadata": {},
     "output_type": "execute_result"
    }
   ],
   "source": [
    "W_TEST = SparseTensor(w_init).to_numpy()\n",
    "W_TEST"
   ]
  },
  {
   "cell_type": "code",
   "execution_count": 5,
   "id": "8a9285aa",
   "metadata": {},
   "outputs": [],
   "source": [
    "class MLP:\n",
    "  def __init__(self, init_dense):\n",
    "    #self.W = DenseTensor(init_dense)\n",
    "    self.W = DenseTensor(W_TEST)\n",
    "\n",
    "  def parameters(self):\n",
    "    return get_parameters(self)\n",
    "\n",
    "  def forward(self, x):\n",
    "    out = x.dot(self.W)\n",
    "    out = out.softmax()\n",
    "    #out = out.mul(self.m).add(self.m).sum()\n",
    "    return out"
   ]
  },
  {
   "cell_type": "code",
   "execution_count": 6,
   "id": "a5168e97",
   "metadata": {},
   "outputs": [],
   "source": [
    "class MLP2:\n",
    "  def __init__(self):\n",
    "    self.W = SparseTensor(W_TEST)\n",
    "    #self.W = SparseTensor.uniform(dim2,dim3)\n",
    "    #self.W = SparseTensor.uniform(dim2,dim3)\n",
    "\n",
    "  def parameters(self):\n",
    "    return get_parameters(self)\n",
    "\n",
    "  def forward(self, x):\n",
    "    out = x.dot(self.W)\n",
    "    out = out.softmax()\n",
    "    #out = out.mul(self.m).add(self.m).sum()\n",
    "    return out"
   ]
  },
  {
   "cell_type": "code",
   "execution_count": 7,
   "id": "13c4436e",
   "metadata": {},
   "outputs": [],
   "source": [
    "def loss_fn(y, y_pred):\n",
    "    return ((y-y_pred)**2)**.5"
   ]
  },
  {
   "cell_type": "code",
   "execution_count": 8,
   "id": "c151d9eb",
   "metadata": {},
   "outputs": [],
   "source": [
    "model2 = MLP2()"
   ]
  },
  {
   "cell_type": "code",
   "execution_count": 9,
   "id": "da239456",
   "metadata": {},
   "outputs": [
    {
     "data": {
      "text/plain": [
       "array([4, 4, 4, 4], dtype=uint32)"
      ]
     },
     "execution_count": 9,
     "metadata": {},
     "output_type": "execute_result"
    }
   ],
   "source": [
    "model2.W.get_nnzs()"
   ]
  },
  {
   "cell_type": "code",
   "execution_count": 10,
   "id": "6c251838",
   "metadata": {},
   "outputs": [
    {
     "data": {
      "text/plain": [
       "array([[ 1.54272962, -0.90072119, -0.13712502,  1.29757905],\n",
       "       [ 0.67527115,  0.03195812,  0.9181459 ,  0.38050947],\n",
       "       [ 0.5163675 , -0.35523945,  0.208777  ,  0.32841107],\n",
       "       [-0.49822477, -2.09177685, -0.08258774,  2.45518255]])"
      ]
     },
     "execution_count": 10,
     "metadata": {},
     "output_type": "execute_result"
    }
   ],
   "source": [
    "dense_init = model2.W.to_numpy()\n",
    "dense_init"
   ]
  },
  {
   "cell_type": "code",
   "execution_count": 11,
   "id": "8fe94f00",
   "metadata": {},
   "outputs": [],
   "source": [
    "model = MLP(dense_init)"
   ]
  },
  {
   "cell_type": "markdown",
   "id": "3b00810f",
   "metadata": {},
   "source": [
    "### Dense"
   ]
  },
  {
   "cell_type": "code",
   "execution_count": 12,
   "id": "5d6f6d16",
   "metadata": {},
   "outputs": [],
   "source": [
    "iters = 4\n",
    "LR = 0.1\n",
    "optimizer = optim.SGD(model.parameters(), lr=LR)"
   ]
  },
  {
   "cell_type": "code",
   "execution_count": 13,
   "id": "1a506d86",
   "metadata": {},
   "outputs": [],
   "source": [
    "for i in range(iters):\n",
    "    res = model.forward(x)\n",
    "    optimizer.zero_grad()\n",
    "    loss = loss_fn(res, y)\n",
    "    loss.backward()\n",
    "    optimizer.step()"
   ]
  },
  {
   "cell_type": "code",
   "execution_count": 14,
   "id": "83c586b7",
   "metadata": {},
   "outputs": [
    {
     "data": {
      "text/plain": [
       "[<DenseTensor <GPUBuffer with shape (4, 4)> with grad <GPUBuffer with shape (4, 4)>>,\n",
       " <DenseTensor <GPUBuffer with shape (4, 4)> with grad None>]"
      ]
     },
     "execution_count": 14,
     "metadata": {},
     "output_type": "execute_result"
    }
   ],
   "source": [
    "model.parameters()"
   ]
  },
  {
   "cell_type": "code",
   "execution_count": 15,
   "id": "4641b69d",
   "metadata": {},
   "outputs": [
    {
     "data": {
      "text/plain": [
       "array([[1.5482739e-01, 4.4537634e-01, 1.5450318e-01, 2.4529316e-01],\n",
       "       [3.7580851e-02, 8.8807660e-01, 5.4560788e-02, 1.9781798e-02],\n",
       "       [5.5333241e-03, 5.7795382e-04, 1.4139037e-02, 9.7974968e-01],\n",
       "       [3.1354329e-01, 1.2243453e-02, 2.5163570e-01, 4.2257753e-01]],\n",
       "      dtype=float32)"
      ]
     },
     "execution_count": 15,
     "metadata": {},
     "output_type": "execute_result"
    }
   ],
   "source": [
    "res.cpu().data"
   ]
  },
  {
   "cell_type": "code",
   "execution_count": 16,
   "id": "8eb71052",
   "metadata": {},
   "outputs": [
    {
     "data": {
      "text/plain": [
       "array([[2.8269374 , 1.3586556 , 0.38181752, 0.02402224],\n",
       "       [1.0928804 , 0.1543209 , 1.2492497 , 1.3696189 ],\n",
       "       [0.66198593, 0.05683525, 0.51404166, 0.5433303 ],\n",
       "       [0.6893563 , 0.935305  , 1.6656145 , 0.5728804 ]], dtype=float32)"
      ]
     },
     "execution_count": 16,
     "metadata": {},
     "output_type": "execute_result"
    }
   ],
   "source": [
    "loss.cpu().data"
   ]
  },
  {
   "cell_type": "code",
   "execution_count": 17,
   "id": "44d83871",
   "metadata": {},
   "outputs": [
    {
     "data": {
      "text/plain": [
       "array([[ 0.99999994,  1.        ,  1.        , -1.        ],\n",
       "       [-0.99999994, -1.        , -1.        , -0.99999994],\n",
       "       [ 0.99999994,  1.0000001 ,  0.9999998 ,  1.        ],\n",
       "       [ 1.        ,  0.99999994, -0.99999994,  1.        ]],\n",
       "      dtype=float32)"
      ]
     },
     "execution_count": 17,
     "metadata": {},
     "output_type": "execute_result"
    }
   ],
   "source": [
    "res.grad.cpu().data"
   ]
  },
  {
   "cell_type": "code",
   "execution_count": 18,
   "id": "9ac039f6",
   "metadata": {},
   "outputs": [
    {
     "data": {
      "text/plain": [
       "array([[ 4.68998738e-02,  2.07030587e-03, -1.11655496e-01,\n",
       "         6.26853183e-02],\n",
       "       [ 8.96495506e-02, -5.89045994e-02, -2.88413972e-01,\n",
       "         2.57669002e-01],\n",
       "       [ 2.02863380e-01, -2.32623696e-01, -7.71122336e-01,\n",
       "         8.00882697e-01],\n",
       "       [ 6.69956878e-02, -1.60518990e-04, -1.63217157e-01,\n",
       "         9.63819921e-02]], dtype=float32)"
      ]
     },
     "execution_count": 18,
     "metadata": {},
     "output_type": "execute_result"
    }
   ],
   "source": [
    "model.W.grad.cpu().data"
   ]
  },
  {
   "cell_type": "markdown",
   "id": "1f62f27e",
   "metadata": {},
   "source": [
    "### Second"
   ]
  },
  {
   "cell_type": "code",
   "execution_count": 19,
   "id": "51f5c948",
   "metadata": {},
   "outputs": [
    {
     "data": {
      "text/plain": [
       "array([[ 1.5427296 , -0.9007212 , -0.13712502,  1.297579  ],\n",
       "       [ 0.67527115,  0.03195812,  0.9181459 ,  0.38050947],\n",
       "       [ 0.5163675 , -0.35523945,  0.208777  ,  0.32841107],\n",
       "       [-0.49822477, -2.0917768 , -0.08258774,  2.4551826 ]],\n",
       "      dtype=float32)"
      ]
     },
     "execution_count": 19,
     "metadata": {},
     "output_type": "execute_result"
    }
   ],
   "source": [
    "w_init"
   ]
  },
  {
   "cell_type": "code",
   "execution_count": 20,
   "id": "31a9604d",
   "metadata": {},
   "outputs": [],
   "source": [
    "model2 = MLP2()"
   ]
  },
  {
   "cell_type": "code",
   "execution_count": 21,
   "id": "0e020858",
   "metadata": {},
   "outputs": [],
   "source": [
    "optimizer2 = optim.SGD(model2.parameters(), lr=LR)"
   ]
  },
  {
   "cell_type": "code",
   "execution_count": 22,
   "id": "df5115ec",
   "metadata": {},
   "outputs": [],
   "source": [
    "for i in range(iters):\n",
    "    res2 = model2.forward(x)\n",
    "    optimizer2.zero_grad()\n",
    "    loss2 = loss_fn(res2, y)\n",
    "    loss2.backward()\n",
    "    optimizer2.step()"
   ]
  },
  {
   "cell_type": "markdown",
   "id": "c52cfabf",
   "metadata": {},
   "source": [
    "#### fwd"
   ]
  },
  {
   "cell_type": "code",
   "execution_count": 23,
   "id": "e8576d40",
   "metadata": {},
   "outputs": [
    {
     "data": {
      "text/plain": [
       "array([[ True,  True,  True,  True],\n",
       "       [ True,  True,  True,  True],\n",
       "       [ True,  True,  True,  True],\n",
       "       [ True,  True,  True,  True]])"
      ]
     },
     "execution_count": 23,
     "metadata": {},
     "output_type": "execute_result"
    }
   ],
   "source": [
    "res2.cpu().data==res.cpu().data"
   ]
  },
  {
   "cell_type": "code",
   "execution_count": 24,
   "id": "56fc46b0",
   "metadata": {},
   "outputs": [
    {
     "data": {
      "text/plain": [
       "array([[1.5482739e-01, 4.4537634e-01, 1.5450318e-01, 2.4529316e-01],\n",
       "       [3.7580851e-02, 8.8807660e-01, 5.4560788e-02, 1.9781798e-02],\n",
       "       [5.5333241e-03, 5.7795382e-04, 1.4139037e-02, 9.7974968e-01],\n",
       "       [3.1354329e-01, 1.2243453e-02, 2.5163570e-01, 4.2257753e-01]],\n",
       "      dtype=float32)"
      ]
     },
     "execution_count": 24,
     "metadata": {},
     "output_type": "execute_result"
    }
   ],
   "source": [
    "res2.cpu().data"
   ]
  },
  {
   "cell_type": "code",
   "execution_count": 25,
   "id": "14284cf1",
   "metadata": {},
   "outputs": [
    {
     "data": {
      "text/plain": [
       "array([[0., 0., 0., 0.],\n",
       "       [0., 0., 0., 0.],\n",
       "       [0., 0., 0., 0.],\n",
       "       [0., 0., 0., 0.]], dtype=float32)"
      ]
     },
     "execution_count": 25,
     "metadata": {},
     "output_type": "execute_result"
    }
   ],
   "source": [
    "res.cpu().data - res2.cpu().data"
   ]
  },
  {
   "cell_type": "markdown",
   "id": "6189a9e9",
   "metadata": {},
   "source": [
    "#### loss"
   ]
  },
  {
   "cell_type": "code",
   "execution_count": 26,
   "id": "dbd0474e",
   "metadata": {},
   "outputs": [
    {
     "data": {
      "text/plain": [
       "array([[ True,  True,  True,  True],\n",
       "       [ True,  True,  True,  True],\n",
       "       [ True,  True,  True,  True],\n",
       "       [ True,  True,  True,  True]])"
      ]
     },
     "execution_count": 26,
     "metadata": {},
     "output_type": "execute_result"
    }
   ],
   "source": [
    "loss.cpu().data==loss2.cpu().data"
   ]
  },
  {
   "cell_type": "code",
   "execution_count": 27,
   "id": "851f4b4f",
   "metadata": {},
   "outputs": [
    {
     "data": {
      "text/plain": [
       "array([[2.8269374 , 1.3586556 , 0.38181752, 0.02402224],\n",
       "       [1.0928804 , 0.1543209 , 1.2492497 , 1.3696189 ],\n",
       "       [0.66198593, 0.05683525, 0.51404166, 0.5433303 ],\n",
       "       [0.6893563 , 0.935305  , 1.6656145 , 0.5728804 ]], dtype=float32)"
      ]
     },
     "execution_count": 27,
     "metadata": {},
     "output_type": "execute_result"
    }
   ],
   "source": [
    "loss2.cpu().data"
   ]
  },
  {
   "cell_type": "code",
   "execution_count": 28,
   "id": "1ca18cf1",
   "metadata": {},
   "outputs": [
    {
     "data": {
      "text/plain": [
       "array([[0., 0., 0., 0.],\n",
       "       [0., 0., 0., 0.],\n",
       "       [0., 0., 0., 0.],\n",
       "       [0., 0., 0., 0.]], dtype=float32)"
      ]
     },
     "execution_count": 28,
     "metadata": {},
     "output_type": "execute_result"
    }
   ],
   "source": [
    "loss.cpu().data - loss2.cpu().data"
   ]
  },
  {
   "cell_type": "markdown",
   "id": "5a0a2ab3",
   "metadata": {},
   "source": [
    "#### grad"
   ]
  },
  {
   "cell_type": "code",
   "execution_count": 29,
   "id": "73eb3657",
   "metadata": {},
   "outputs": [
    {
     "data": {
      "text/plain": [
       "array([[ True,  True,  True,  True],\n",
       "       [ True,  True,  True,  True],\n",
       "       [ True,  True,  True,  True],\n",
       "       [ True,  True,  True,  True]])"
      ]
     },
     "execution_count": 29,
     "metadata": {},
     "output_type": "execute_result"
    }
   ],
   "source": [
    "res.grad.cpu().data==res2.grad.cpu().data"
   ]
  },
  {
   "cell_type": "code",
   "execution_count": 30,
   "id": "1c6b96e1",
   "metadata": {},
   "outputs": [
    {
     "data": {
      "text/plain": [
       "array([[ 0.99999994,  1.        ,  1.        , -1.        ],\n",
       "       [-0.99999994, -1.        , -1.        , -0.99999994],\n",
       "       [ 0.99999994,  1.0000001 ,  0.9999998 ,  1.        ],\n",
       "       [ 1.        ,  0.99999994, -0.99999994,  1.        ]],\n",
       "      dtype=float32)"
      ]
     },
     "execution_count": 30,
     "metadata": {},
     "output_type": "execute_result"
    }
   ],
   "source": [
    "res2.grad.cpu().data"
   ]
  },
  {
   "cell_type": "code",
   "execution_count": 31,
   "id": "03aea6d2",
   "metadata": {},
   "outputs": [
    {
     "data": {
      "text/plain": [
       "array([[0., 0., 0., 0.],\n",
       "       [0., 0., 0., 0.],\n",
       "       [0., 0., 0., 0.],\n",
       "       [0., 0., 0., 0.]], dtype=float32)"
      ]
     },
     "execution_count": 31,
     "metadata": {},
     "output_type": "execute_result"
    }
   ],
   "source": [
    "res.grad.cpu().data-res2.grad.cpu().data"
   ]
  },
  {
   "cell_type": "markdown",
   "id": "f8ff5b18",
   "metadata": {},
   "source": [
    "#### weight"
   ]
  },
  {
   "cell_type": "code",
   "execution_count": 32,
   "id": "b0d6797c",
   "metadata": {},
   "outputs": [],
   "source": [
    "def to_dense(data, cols, nnzs, ellw, shape):\n",
    "    out = np.zeros(shape)\n",
    "    for row in range(shape[0]):\n",
    "        for icol in range(nnzs[row]):\n",
    "            #print('idx:',row,cols[row*ellw+icol])\n",
    "            out[row,cols[row*ellw+icol]] = data[row*ellw+icol]\n",
    "    return out"
   ]
  },
  {
   "cell_type": "code",
   "execution_count": 33,
   "id": "618696f8",
   "metadata": {},
   "outputs": [
    {
     "data": {
      "text/plain": [
       "(<DenseTensor <GPUBuffer with shape (4, 4)> with grad None>,\n",
       " <SparseTensor <GPUBuffer with shape (16,)> with grad None>)"
      ]
     },
     "execution_count": 33,
     "metadata": {},
     "output_type": "execute_result"
    }
   ],
   "source": [
    "model.W.grad, model2.W.grad"
   ]
  },
  {
   "cell_type": "code",
   "execution_count": 34,
   "id": "8a731272",
   "metadata": {},
   "outputs": [
    {
     "data": {
      "text/plain": [
       "array([[ 4.68998738e-02,  2.07030587e-03, -1.11655496e-01,\n",
       "         6.26853183e-02],\n",
       "       [ 8.96495506e-02, -5.89045994e-02, -2.88413972e-01,\n",
       "         2.57669002e-01],\n",
       "       [ 2.02863380e-01, -2.32623696e-01, -7.71122336e-01,\n",
       "         8.00882697e-01],\n",
       "       [ 6.69956878e-02, -1.60518990e-04, -1.63217157e-01,\n",
       "         9.63819921e-02]], dtype=float32)"
      ]
     },
     "execution_count": 34,
     "metadata": {},
     "output_type": "execute_result"
    }
   ],
   "source": [
    "model.W.grad.cpu().data"
   ]
  },
  {
   "cell_type": "code",
   "execution_count": 35,
   "id": "e97add48",
   "metadata": {},
   "outputs": [
    {
     "data": {
      "text/plain": [
       "array([[ 4.68998738e-02,  2.07030587e-03, -1.11655496e-01,\n",
       "         6.26853183e-02],\n",
       "       [ 8.96495506e-02, -5.89045994e-02, -2.88413972e-01,\n",
       "         2.57669002e-01],\n",
       "       [ 2.02863380e-01, -2.32623696e-01, -7.71122336e-01,\n",
       "         8.00882697e-01],\n",
       "       [ 6.69956878e-02, -1.60518990e-04, -1.63217157e-01,\n",
       "         9.63819921e-02]])"
      ]
     },
     "execution_count": 35,
     "metadata": {},
     "output_type": "execute_result"
    }
   ],
   "source": [
    "model2.W.grad.to_numpy()"
   ]
  },
  {
   "cell_type": "code",
   "execution_count": 36,
   "id": "62e8164c",
   "metadata": {},
   "outputs": [
    {
     "data": {
      "text/plain": [
       "array([[ True,  True,  True,  True],\n",
       "       [ True,  True,  True,  True],\n",
       "       [ True,  True,  True,  True],\n",
       "       [ True,  True,  True,  True]])"
      ]
     },
     "execution_count": 36,
     "metadata": {},
     "output_type": "execute_result"
    }
   ],
   "source": [
    "model.W.grad.cpu().data == model2.W.grad.to_numpy()"
   ]
  },
  {
   "cell_type": "code",
   "execution_count": 37,
   "id": "51f4b2ae",
   "metadata": {},
   "outputs": [
    {
     "data": {
      "text/plain": [
       "array([[ 1.5286762 , -0.9013099 , -0.10056853,  1.2756649 ],\n",
       "       [ 0.6493594 ,  0.05374243,  1.0139954 ,  0.28878734],\n",
       "       [ 0.4592371 , -0.26974407,  0.46670884,  0.04211424],\n",
       "       [-0.5182528 , -2.0914817 , -0.02907925,  2.4214065 ]],\n",
       "      dtype=float32)"
      ]
     },
     "execution_count": 37,
     "metadata": {},
     "output_type": "execute_result"
    }
   ],
   "source": [
    "model.W.cpu().data"
   ]
  },
  {
   "cell_type": "code",
   "execution_count": 38,
   "id": "8e6cb07f",
   "metadata": {},
   "outputs": [
    {
     "data": {
      "text/plain": [
       "array([[ 1.52867615, -0.90130991, -0.10056853,  1.27566493],\n",
       "       [ 0.64935941,  0.05374243,  1.01399541,  0.28878734],\n",
       "       [ 0.4592371 , -0.26974407,  0.46670884,  0.04211424],\n",
       "       [-0.51825279, -2.09148169, -0.02907925,  2.42140651]])"
      ]
     },
     "execution_count": 38,
     "metadata": {},
     "output_type": "execute_result"
    }
   ],
   "source": [
    "model2.W.to_numpy()"
   ]
  },
  {
   "cell_type": "code",
   "execution_count": 39,
   "id": "a0126843",
   "metadata": {},
   "outputs": [
    {
     "data": {
      "text/plain": [
       "array([[ True,  True,  True,  True],\n",
       "       [ True,  True,  True,  True],\n",
       "       [ True,  True,  True,  True],\n",
       "       [ True,  True,  True,  True]])"
      ]
     },
     "execution_count": 39,
     "metadata": {},
     "output_type": "execute_result"
    }
   ],
   "source": [
    "model.W.cpu().data == model2.W.to_numpy()"
   ]
  },
  {
   "cell_type": "code",
   "execution_count": 40,
   "id": "1dbc9b2f",
   "metadata": {},
   "outputs": [
    {
     "ename": "NameError",
     "evalue": "name 'cols' is not defined",
     "output_type": "error",
     "traceback": [
      "\u001b[0;31m---------------------------------------------------------------------------\u001b[0m",
      "\u001b[0;31mNameError\u001b[0m                                 Traceback (most recent call last)",
      "\u001b[0;32m/tmp/ipykernel_14425/4199983457.py\u001b[0m in \u001b[0;36m<module>\u001b[0;34m\u001b[0m\n\u001b[0;32m----> 1\u001b[0;31m \u001b[0mcols\u001b[0m\u001b[0;34m\u001b[0m\u001b[0;34m\u001b[0m\u001b[0m\n\u001b[0m",
      "\u001b[0;31mNameError\u001b[0m: name 'cols' is not defined"
     ]
    }
   ],
   "source": [
    "cols"
   ]
  },
  {
   "cell_type": "code",
   "execution_count": null,
   "id": "1c1dc17a",
   "metadata": {},
   "outputs": [],
   "source": [
    "nnzs"
   ]
  },
  {
   "cell_type": "code",
   "execution_count": null,
   "id": "46f0be15",
   "metadata": {},
   "outputs": [],
   "source": [
    "denserec = model.W.cpu().data \n",
    "denserec"
   ]
  },
  {
   "cell_type": "code",
   "execution_count": null,
   "id": "7a45e9a8",
   "metadata": {},
   "outputs": [],
   "source": [
    "sparserec = model2.W.to_numpy()\n",
    "sparserec"
   ]
  },
  {
   "cell_type": "code",
   "execution_count": null,
   "id": "dd35f59d",
   "metadata": {},
   "outputs": [],
   "source": [
    "denserec - sparserec"
   ]
  },
  {
   "cell_type": "code",
   "execution_count": null,
   "id": "796f73a6",
   "metadata": {},
   "outputs": [],
   "source": [
    "sparserec2 = model2.W.to_numpy(dual=True)\n",
    "sparserec2.T"
   ]
  },
  {
   "cell_type": "code",
   "execution_count": null,
   "id": "f985fd5e",
   "metadata": {},
   "outputs": [],
   "source": [
    "denserec - sparserec2.T"
   ]
  },
  {
   "cell_type": "code",
   "execution_count": null,
   "id": "ebfecb5f",
   "metadata": {},
   "outputs": [],
   "source": []
  },
  {
   "cell_type": "code",
   "execution_count": null,
   "id": "2a56f04d",
   "metadata": {},
   "outputs": [],
   "source": [
    "seedmat - denserec"
   ]
  },
  {
   "cell_type": "code",
   "execution_count": null,
   "id": "4c5b2fec",
   "metadata": {},
   "outputs": [],
   "source": []
  },
  {
   "cell_type": "code",
   "execution_count": null,
   "id": "07f0b1d2",
   "metadata": {},
   "outputs": [],
   "source": []
  },
  {
   "cell_type": "code",
   "execution_count": null,
   "id": "ce7898e2",
   "metadata": {},
   "outputs": [],
   "source": []
  },
  {
   "cell_type": "code",
   "execution_count": null,
   "id": "e14f967b",
   "metadata": {},
   "outputs": [],
   "source": []
  },
  {
   "cell_type": "code",
   "execution_count": null,
   "id": "8e79f32e",
   "metadata": {},
   "outputs": [],
   "source": []
  },
  {
   "cell_type": "code",
   "execution_count": null,
   "id": "a93b6000",
   "metadata": {},
   "outputs": [],
   "source": []
  },
  {
   "cell_type": "code",
   "execution_count": null,
   "id": "d857923b",
   "metadata": {},
   "outputs": [],
   "source": []
  },
  {
   "cell_type": "code",
   "execution_count": null,
   "id": "a55f210a",
   "metadata": {},
   "outputs": [],
   "source": []
  },
  {
   "cell_type": "code",
   "execution_count": null,
   "id": "2884b8f9",
   "metadata": {},
   "outputs": [],
   "source": []
  },
  {
   "cell_type": "code",
   "execution_count": null,
   "id": "193ba45d",
   "metadata": {},
   "outputs": [],
   "source": []
  },
  {
   "cell_type": "code",
   "execution_count": null,
   "id": "ea7948fa",
   "metadata": {},
   "outputs": [],
   "source": []
  },
  {
   "cell_type": "code",
   "execution_count": null,
   "id": "c59a13bd",
   "metadata": {},
   "outputs": [],
   "source": []
  },
  {
   "cell_type": "raw",
   "id": "a5a63123",
   "metadata": {},
   "source": []
  }
 ],
 "metadata": {
  "kernelspec": {
   "display_name": "Python 3",
   "language": "python",
   "name": "python3"
  },
  "language_info": {
   "codemirror_mode": {
    "name": "ipython",
    "version": 3
   },
   "file_extension": ".py",
   "mimetype": "text/x-python",
   "name": "python",
   "nbconvert_exporter": "python",
   "pygments_lexer": "ipython3",
   "version": "3.8.12"
  }
 },
 "nbformat": 4,
 "nbformat_minor": 5
}
