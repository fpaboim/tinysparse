{
 "cells": [
  {
   "cell_type": "code",
   "execution_count": 1,
   "id": "4309590e",
   "metadata": {},
   "outputs": [
    {
     "name": "stdout",
     "output_type": "stream",
     "text": [
      "DEVICE:GPU\n"
     ]
    }
   ],
   "source": [
    "from tinygrad.densetensor import DenseTensor\n",
    "from tinygrad.sparsetensor import SparseTensor\n",
    "import numpy as np\n",
    "import tinygrad.optim as optim\n",
    "from extra.utils import get_parameters\n",
    "from test.test_mnist import fetch_mnist\n",
    "from tqdm import trange\n",
    "\n",
    "%load_ext autoreload\n",
    "%autoreload 2"
   ]
  },
  {
   "cell_type": "code",
   "execution_count": 2,
   "id": "73101cd9",
   "metadata": {},
   "outputs": [],
   "source": [
    "dim1 = 32\n",
    "dim2 = 784\n",
    "dim3 = 10\n",
    "\n",
    "np.random.seed(9)\n",
    "\n",
    "seedmat = np.random.randn(dim2,dim3).astype(np.float32) / 1000"
   ]
  },
  {
   "cell_type": "code",
   "execution_count": 3,
   "id": "602af5c6",
   "metadata": {},
   "outputs": [
    {
     "data": {
      "text/plain": [
       "(60000, 784)"
      ]
     },
     "execution_count": 3,
     "metadata": {},
     "output_type": "execute_result"
    }
   ],
   "source": [
    "X_train, Y_train, X_test, Y_test = fetch_mnist()\n",
    "X_train.shape"
   ]
  },
  {
   "cell_type": "code",
   "execution_count": 4,
   "id": "d9c197bb",
   "metadata": {},
   "outputs": [
    {
     "name": "stdout",
     "output_type": "stream",
     "text": [
      "warning, (32, 10) isn't float32, it's float64\n"
     ]
    }
   ],
   "source": [
    "x_init = np.random.randn(dim1,dim2).astype(np.float32)\n",
    "x = DenseTensor(x_init)\n",
    "y = DenseTensor(np.random.randn(dim1,dim3))"
   ]
  },
  {
   "cell_type": "code",
   "execution_count": 5,
   "id": "8a9285aa",
   "metadata": {},
   "outputs": [],
   "source": [
    "class MLP:\n",
    "  def __init__(self):\n",
    "    self.W = DenseTensor(seedmat)\n",
    "\n",
    "  def parameters(self):\n",
    "    return get_parameters(self)\n",
    "\n",
    "  def forward(self, x):\n",
    "    out = x.dot(self.W)\n",
    "    out = out.logsoftmax()\n",
    "    #out = out.mul(self.m).add(self.m).sum()\n",
    "    return out"
   ]
  },
  {
   "cell_type": "code",
   "execution_count": 6,
   "id": "a5168e97",
   "metadata": {},
   "outputs": [],
   "source": [
    "class MLP2:\n",
    "  def __init__(self):\n",
    "    self.W = SparseTensor(seedmat)\n",
    "\n",
    "  def parameters(self):\n",
    "    return get_parameters(self)\n",
    "\n",
    "  def forward(self, x):\n",
    "    out = x.dot(self.W)\n",
    "    out = out.logsoftmax()\n",
    "    #out = out.mul(self.m).add(self.m).sum()\n",
    "    return out"
   ]
  },
  {
   "cell_type": "code",
   "execution_count": 7,
   "id": "13c4436e",
   "metadata": {},
   "outputs": [],
   "source": [
    "def loss_fn(y, y_pred):\n",
    "    return ((y-y_pred)**2)**.5"
   ]
  },
  {
   "cell_type": "code",
   "execution_count": 8,
   "id": "dec2b8a6",
   "metadata": {},
   "outputs": [],
   "source": [
    "def sparse_categorical_crossentropy(out, Y):\n",
    "  num_classes = out.shape[-1]\n",
    "  YY = Y.flatten()\n",
    "  y = np.zeros((YY.shape[0], num_classes), np.float32)\n",
    "  # correct loss for NLL, torch NLL loss returns one per row\n",
    "  y[range(y.shape[0]),YY] = -1.0*num_classes\n",
    "  y = y.reshape(list(Y.shape)+[num_classes])\n",
    "  y = DenseTensor(y)\n",
    "  return out.mul(y).mean()"
   ]
  },
  {
   "cell_type": "markdown",
   "id": "3b00810f",
   "metadata": {},
   "source": [
    "### Dense"
   ]
  },
  {
   "cell_type": "code",
   "execution_count": 9,
   "id": "1d2b99f9",
   "metadata": {},
   "outputs": [],
   "source": [
    "model = MLP()"
   ]
  },
  {
   "cell_type": "code",
   "execution_count": 10,
   "id": "5d6f6d16",
   "metadata": {},
   "outputs": [],
   "source": [
    "optimizer = optim.SGD(model.parameters(), lr=.0001)"
   ]
  },
  {
   "cell_type": "code",
   "execution_count": 11,
   "id": "4238b12b",
   "metadata": {},
   "outputs": [
    {
     "data": {
      "text/plain": [
       "((60000, 784), (60000,))"
      ]
     },
     "execution_count": 11,
     "metadata": {},
     "output_type": "execute_result"
    }
   ],
   "source": [
    "X_train.shape, Y_train.shape"
   ]
  },
  {
   "cell_type": "code",
   "execution_count": 12,
   "id": "ac07327e",
   "metadata": {},
   "outputs": [],
   "source": [
    "loss_fn = sparse_categorical_crossentropy"
   ]
  },
  {
   "cell_type": "code",
   "execution_count": 13,
   "id": "1a506d86",
   "metadata": {},
   "outputs": [
    {
     "name": "stderr",
     "output_type": "stream",
     "text": [
      "  1%|▊                                                                                                                                                     | 10/1875 [00:00<00:18, 98.72it/s]"
     ]
    },
    {
     "name": "stdout",
     "output_type": "stream",
     "text": [
      "LOSS:4.38  ACC:0.03\n",
      "LOSS:39.29  ACC:0.19\n",
      "LOSS:31.43  ACC:0.19\n",
      "LOSS:28.64  ACC:0.69\n",
      "LOSS:37.58  ACC:0.28\n",
      "LOSS:49.48  ACC:0.44\n",
      "LOSS:8.22  ACC:0.59\n",
      "LOSS:13.19  ACC:0.41\n",
      "LOSS:12.42  ACC:0.47\n",
      "LOSS:7.54  ACC:0.75\n",
      "LOSS:6.04  ACC:0.72\n"
     ]
    },
    {
     "name": "stderr",
     "output_type": "stream",
     "text": [
      "\r",
      "  1%|█▋                                                                                                                                                   | 21/1875 [00:00<00:17, 104.83it/s]"
     ]
    },
    {
     "name": "stdout",
     "output_type": "stream",
     "text": [
      "LOSS:7.32  ACC:0.59\n",
      "LOSS:8.17  ACC:0.62\n",
      "LOSS:10.00  ACC:0.31\n",
      "LOSS:14.23  ACC:0.62\n",
      "LOSS:5.23  ACC:0.59\n",
      "LOSS:13.33  ACC:0.56\n",
      "LOSS:14.40  ACC:0.41\n",
      "LOSS:14.08  ACC:0.53\n",
      "LOSS:23.96  ACC:0.56\n",
      "LOSS:5.58  ACC:0.72\n",
      "LOSS:4.85  ACC:0.78\n"
     ]
    },
    {
     "name": "stderr",
     "output_type": "stream",
     "text": [
      "\r",
      "  2%|██▌                                                                                                                                                  | 32/1875 [00:00<00:17, 105.66it/s]"
     ]
    },
    {
     "name": "stdout",
     "output_type": "stream",
     "text": [
      "LOSS:7.03  ACC:0.75\n",
      "LOSS:2.41  ACC:0.81\n",
      "LOSS:3.54  ACC:0.69\n",
      "LOSS:3.34  ACC:0.75\n",
      "LOSS:6.65  ACC:0.75\n",
      "LOSS:3.66  ACC:0.69\n",
      "LOSS:8.05  ACC:0.72\n",
      "LOSS:3.70  ACC:0.75\n",
      "LOSS:3.78  ACC:0.72\n",
      "LOSS:5.13  ACC:0.78\n",
      "LOSS:8.47  ACC:0.69\n",
      "LOSS:6.55  ACC:0.75\n"
     ]
    },
    {
     "name": "stderr",
     "output_type": "stream",
     "text": [
      "\r",
      "  2%|███▍                                                                                                                                                 | 43/1875 [00:00<00:17, 106.03it/s]"
     ]
    },
    {
     "name": "stdout",
     "output_type": "stream",
     "text": [
      "LOSS:5.76  ACC:0.75\n",
      "LOSS:7.51  ACC:0.59\n",
      "LOSS:2.66  ACC:0.81\n",
      "LOSS:4.88  ACC:0.81\n",
      "LOSS:8.46  ACC:0.72\n",
      "LOSS:30.91  ACC:0.16\n",
      "LOSS:49.37  ACC:0.25\n",
      "LOSS:39.95  ACC:0.66\n",
      "LOSS:41.52  ACC:0.50\n",
      "LOSS:30.43  ACC:0.53\n"
     ]
    },
    {
     "name": "stderr",
     "output_type": "stream",
     "text": [
      "\r",
      "  3%|████▎                                                                                                                                                | 54/1875 [00:00<00:17, 106.65it/s]"
     ]
    },
    {
     "name": "stdout",
     "output_type": "stream",
     "text": [
      "LOSS:21.05  ACC:0.44\n",
      "LOSS:8.39  ACC:0.62\n",
      "LOSS:4.88  ACC:0.72\n",
      "LOSS:6.48  ACC:0.72\n",
      "LOSS:4.06  ACC:0.88\n",
      "LOSS:4.09  ACC:0.75\n",
      "LOSS:4.78  ACC:0.88\n",
      "LOSS:1.34  ACC:0.91\n",
      "LOSS:3.58  ACC:0.88\n",
      "LOSS:0.05  ACC:0.97\n",
      "LOSS:2.88  ACC:0.91\n",
      "LOSS:1.05  ACC:0.94\n"
     ]
    },
    {
     "name": "stderr",
     "output_type": "stream",
     "text": [
      "\r",
      "  3%|█████▏                                                                                                                                               | 65/1875 [00:00<00:16, 107.62it/s]"
     ]
    },
    {
     "name": "stdout",
     "output_type": "stream",
     "text": [
      "LOSS:4.36  ACC:0.84\n",
      "LOSS:3.54  ACC:0.84\n",
      "LOSS:2.17  ACC:0.84\n",
      "LOSS:3.00  ACC:0.75\n",
      "LOSS:3.33  ACC:0.88\n",
      "LOSS:4.25  ACC:0.84\n",
      "LOSS:2.00  ACC:0.84\n",
      "LOSS:4.36  ACC:0.78\n",
      "LOSS:3.05  ACC:0.91\n",
      "LOSS:4.26  ACC:0.88\n"
     ]
    },
    {
     "name": "stderr",
     "output_type": "stream",
     "text": [
      "\r",
      "  4%|██████                                                                                                                                               | 76/1875 [00:00<00:17, 105.63it/s]"
     ]
    },
    {
     "name": "stdout",
     "output_type": "stream",
     "text": [
      "LOSS:1.99  ACC:0.81\n",
      "LOSS:0.60  ACC:0.97\n",
      "LOSS:4.56  ACC:0.81\n",
      "LOSS:3.74  ACC:0.81\n",
      "LOSS:1.07  ACC:0.91\n",
      "LOSS:2.34  ACC:0.88\n",
      "LOSS:1.51  ACC:0.97\n",
      "LOSS:3.49  ACC:0.88\n",
      "LOSS:1.80  ACC:0.84\n",
      "LOSS:3.73  ACC:0.72\n",
      "LOSS:3.45  ACC:0.78\n",
      "LOSS:0.02  ACC:1.00\n"
     ]
    },
    {
     "name": "stderr",
     "output_type": "stream",
     "text": [
      "\r",
      "  5%|██████▉                                                                                                                                              | 87/1875 [00:00<00:16, 105.62it/s]"
     ]
    },
    {
     "name": "stdout",
     "output_type": "stream",
     "text": [
      "LOSS:0.36  ACC:0.94\n",
      "LOSS:0.83  ACC:0.91\n",
      "LOSS:0.44  ACC:0.94\n",
      "LOSS:2.88  ACC:0.84\n",
      "LOSS:2.12  ACC:0.88\n",
      "LOSS:6.69  ACC:0.78\n",
      "LOSS:3.78  ACC:0.81\n",
      "LOSS:3.14  ACC:0.88\n",
      "LOSS:2.82  ACC:0.88\n"
     ]
    },
    {
     "name": "stderr",
     "output_type": "stream",
     "text": [
      "\r",
      "  5%|███████▊                                                                                                                                             | 98/1875 [00:00<00:16, 105.20it/s]"
     ]
    },
    {
     "name": "stdout",
     "output_type": "stream",
     "text": [
      "LOSS:5.53  ACC:0.84\n",
      "LOSS:2.49  ACC:0.78\n",
      "LOSS:0.55  ACC:0.91\n",
      "LOSS:2.62  ACC:0.88\n",
      "LOSS:3.07  ACC:0.84\n",
      "LOSS:3.03  ACC:0.78\n",
      "LOSS:3.78  ACC:0.88\n",
      "LOSS:3.90  ACC:0.84\n",
      "LOSS:3.21  ACC:0.81\n",
      "LOSS:2.74  ACC:0.84\n",
      "LOSS:2.29  ACC:0.84\n",
      "LOSS:2.57  ACC:0.84\n"
     ]
    },
    {
     "name": "stderr",
     "output_type": "stream",
     "text": [
      "\r",
      "  6%|████████▌                                                                                                                                           | 109/1875 [00:01<00:16, 106.62it/s]"
     ]
    },
    {
     "name": "stdout",
     "output_type": "stream",
     "text": [
      "LOSS:1.97  ACC:0.84\n",
      "LOSS:5.79  ACC:0.72\n",
      "LOSS:3.10  ACC:0.88\n",
      "LOSS:3.64  ACC:0.84\n",
      "LOSS:0.62  ACC:0.88\n",
      "LOSS:1.02  ACC:0.91\n",
      "LOSS:4.15  ACC:0.81\n",
      "LOSS:4.78  ACC:0.84\n",
      "LOSS:2.18  ACC:0.84\n",
      "LOSS:0.91  ACC:0.91\n",
      "LOSS:1.56  ACC:0.88\n"
     ]
    },
    {
     "name": "stderr",
     "output_type": "stream",
     "text": [
      "\r",
      "  6%|█████████▌                                                                                                                                          | 121/1875 [00:01<00:16, 108.39it/s]"
     ]
    },
    {
     "name": "stdout",
     "output_type": "stream",
     "text": [
      "LOSS:1.94  ACC:0.81\n",
      "LOSS:2.44  ACC:0.81\n",
      "LOSS:0.55  ACC:0.94\n",
      "LOSS:0.79  ACC:0.91\n",
      "LOSS:3.06  ACC:0.88\n",
      "LOSS:4.60  ACC:0.78\n",
      "LOSS:6.72  ACC:0.91\n",
      "LOSS:2.30  ACC:0.81\n",
      "LOSS:3.12  ACC:0.78\n",
      "LOSS:3.07  ACC:0.78\n",
      "LOSS:1.57  ACC:0.81\n",
      "LOSS:1.65  ACC:0.91\n",
      "LOSS:1.17  ACC:0.81\n"
     ]
    },
    {
     "name": "stderr",
     "output_type": "stream",
     "text": [
      "\r",
      "  7%|██████████▍                                                                                                                                         | 133/1875 [00:01<00:15, 109.54it/s]"
     ]
    },
    {
     "name": "stdout",
     "output_type": "stream",
     "text": [
      "LOSS:1.22  ACC:0.84\n",
      "LOSS:3.86  ACC:0.75\n",
      "LOSS:5.16  ACC:0.78\n",
      "LOSS:5.27  ACC:0.69\n",
      "LOSS:2.60  ACC:0.84\n",
      "LOSS:1.60  ACC:0.91\n",
      "LOSS:5.69  ACC:0.81\n",
      "LOSS:3.71  ACC:0.81\n",
      "LOSS:1.45  ACC:0.94\n",
      "LOSS:1.87  ACC:0.91\n"
     ]
    },
    {
     "name": "stderr",
     "output_type": "stream",
     "text": [
      "\r",
      "  8%|███████████▍                                                                                                                                        | 145/1875 [00:01<00:15, 111.22it/s]"
     ]
    },
    {
     "name": "stdout",
     "output_type": "stream",
     "text": [
      "LOSS:4.42  ACC:0.84\n",
      "LOSS:2.08  ACC:0.84\n",
      "LOSS:1.52  ACC:0.88\n",
      "LOSS:2.46  ACC:0.91\n",
      "LOSS:0.73  ACC:0.94\n",
      "LOSS:0.01  ACC:1.00\n",
      "LOSS:1.99  ACC:0.84\n",
      "LOSS:11.47  ACC:0.62\n",
      "LOSS:5.71  ACC:0.69\n",
      "LOSS:1.16  ACC:0.91\n",
      "LOSS:0.86  ACC:0.94\n",
      "LOSS:2.62  ACC:0.84\n",
      "LOSS:4.14  ACC:0.78\n",
      "LOSS:8.24  ACC:0.69\n"
     ]
    },
    {
     "name": "stderr",
     "output_type": "stream",
     "text": [
      "\r",
      "  8%|████████████▍                                                                                                                                       | 157/1875 [00:01<00:15, 112.32it/s]"
     ]
    },
    {
     "name": "stdout",
     "output_type": "stream",
     "text": [
      "LOSS:13.10  ACC:0.50\n",
      "LOSS:10.44  ACC:0.78\n",
      "LOSS:3.22  ACC:0.81\n",
      "LOSS:4.84  ACC:0.72\n",
      "LOSS:4.75  ACC:0.78\n",
      "LOSS:2.00  ACC:0.88\n",
      "LOSS:1.19  ACC:0.88\n",
      "LOSS:5.67  ACC:0.88\n",
      "LOSS:3.79  ACC:0.91\n",
      "LOSS:3.67  ACC:0.81\n"
     ]
    },
    {
     "name": "stderr",
     "output_type": "stream",
     "text": [
      "\r",
      "  9%|█████████████▎                                                                                                                                      | 169/1875 [00:01<00:15, 112.03it/s]"
     ]
    },
    {
     "name": "stdout",
     "output_type": "stream",
     "text": [
      "LOSS:1.31  ACC:0.84\n",
      "LOSS:8.43  ACC:0.66\n",
      "LOSS:5.72  ACC:0.78\n",
      "LOSS:3.81  ACC:0.84\n",
      "LOSS:11.41  ACC:0.75\n",
      "LOSS:3.40  ACC:0.84\n",
      "LOSS:1.53  ACC:0.94\n",
      "LOSS:1.26  ACC:0.81\n",
      "LOSS:3.66  ACC:0.78\n",
      "LOSS:0.34  ACC:0.94\n",
      "LOSS:2.00  ACC:0.97\n",
      "LOSS:2.51  ACC:0.81\n",
      "LOSS:0.81  ACC:0.91\n",
      "LOSS:0.56  ACC:0.91\n",
      "LOSS:1.57  ACC:0.88\n",
      "LOSS:0.96  ACC:0.88\n",
      "LOSS:5.38  ACC:0.84\n",
      "LOSS:1.93  ACC:0.91\n",
      "LOSS:1.30  ACC:0.91\n",
      "LOSS:3.19  ACC:0.84\n",
      "LOSS:3.49  ACC:0.88\n",
      "LOSS:1.85  ACC:0.81\n"
     ]
    },
    {
     "name": "stderr",
     "output_type": "stream",
     "text": [
      "\r",
      " 10%|██████████████▎                                                                                                                                     | 181/1875 [00:01<00:15, 106.53it/s]"
     ]
    },
    {
     "name": "stdout",
     "output_type": "stream",
     "text": [
      "LOSS:3.48  ACC:0.81\n",
      "LOSS:1.14  ACC:0.91\n",
      "LOSS:1.77  ACC:0.84\n",
      "LOSS:4.73  ACC:0.81\n",
      "LOSS:0.48  ACC:0.88\n",
      "LOSS:2.89  ACC:0.88\n",
      "LOSS:2.27  ACC:0.94\n",
      "LOSS:3.55  ACC:0.78\n",
      "LOSS:0.04  ACC:0.97\n",
      "LOSS:1.37  ACC:0.97\n"
     ]
    },
    {
     "name": "stderr",
     "output_type": "stream",
     "text": [
      "\r",
      " 10%|███████████████▎                                                                                                                                     | 192/1875 [00:01<00:16, 99.96it/s]"
     ]
    },
    {
     "name": "stdout",
     "output_type": "stream",
     "text": [
      "LOSS:2.08  ACC:0.94\n",
      "LOSS:4.58  ACC:0.81\n",
      "LOSS:2.55  ACC:0.88\n",
      "LOSS:1.99  ACC:0.88\n",
      "LOSS:1.29  ACC:0.94\n",
      "LOSS:0.00  ACC:1.00\n",
      "LOSS:2.54  ACC:0.84\n",
      "LOSS:0.83  ACC:0.91\n"
     ]
    },
    {
     "name": "stderr",
     "output_type": "stream",
     "text": [
      "\r",
      " 11%|████████████████▏                                                                                                                                    | 203/1875 [00:01<00:17, 95.60it/s]"
     ]
    },
    {
     "name": "stdout",
     "output_type": "stream",
     "text": [
      "LOSS:0.32  ACC:0.94\n",
      "LOSS:1.00  ACC:0.88\n",
      "LOSS:1.12  ACC:0.94\n",
      "LOSS:2.84  ACC:0.84\n",
      "LOSS:1.35  ACC:0.81\n",
      "LOSS:6.06  ACC:0.81\n",
      "LOSS:2.05  ACC:0.88\n",
      "LOSS:1.97  ACC:0.91\n",
      "LOSS:1.45  ACC:0.91\n",
      "LOSS:2.29  ACC:0.91\n"
     ]
    },
    {
     "name": "stderr",
     "output_type": "stream",
     "text": [
      "\r",
      " 11%|████████████████▉                                                                                                                                    | 213/1875 [00:02<00:17, 93.48it/s]"
     ]
    },
    {
     "name": "stdout",
     "output_type": "stream",
     "text": [
      "LOSS:2.06  ACC:0.94\n",
      "LOSS:2.16  ACC:0.84\n",
      "LOSS:1.41  ACC:0.88\n",
      "LOSS:1.54  ACC:0.91\n",
      "LOSS:1.64  ACC:0.91\n",
      "LOSS:3.10  ACC:0.81\n",
      "LOSS:3.99  ACC:0.66\n",
      "LOSS:3.02  ACC:0.84\n",
      "LOSS:1.84  ACC:0.78\n"
     ]
    },
    {
     "name": "stderr",
     "output_type": "stream",
     "text": [
      "\r",
      " 12%|█████████████████▋                                                                                                                                   | 223/1875 [00:02<00:18, 91.58it/s]"
     ]
    },
    {
     "name": "stdout",
     "output_type": "stream",
     "text": [
      "LOSS:5.02  ACC:0.75\n",
      "LOSS:10.48  ACC:0.66\n",
      "LOSS:8.11  ACC:0.75\n",
      "LOSS:12.63  ACC:0.62\n",
      "LOSS:7.76  ACC:0.72\n",
      "LOSS:2.34  ACC:0.88\n",
      "LOSS:1.49  ACC:0.91\n",
      "LOSS:5.19  ACC:0.84\n",
      "LOSS:3.55  ACC:0.81\n"
     ]
    },
    {
     "name": "stderr",
     "output_type": "stream",
     "text": [
      "\r",
      " 12%|██████████████████▌                                                                                                                                  | 233/1875 [00:02<00:18, 90.59it/s]"
     ]
    },
    {
     "name": "stdout",
     "output_type": "stream",
     "text": [
      "LOSS:3.48  ACC:0.72\n",
      "LOSS:2.33  ACC:0.81\n",
      "LOSS:4.48  ACC:0.66\n",
      "LOSS:1.73  ACC:0.84\n",
      "LOSS:2.14  ACC:0.88\n",
      "LOSS:1.02  ACC:0.88\n",
      "LOSS:1.90  ACC:0.84\n",
      "LOSS:1.04  ACC:0.91\n",
      "LOSS:1.29  ACC:0.88\n",
      "LOSS:1.21  ACC:0.88\n"
     ]
    },
    {
     "name": "stderr",
     "output_type": "stream",
     "text": [
      "\r",
      " 13%|███████████████████▍                                                                                                                                 | 244/1875 [00:02<00:17, 94.29it/s]"
     ]
    },
    {
     "name": "stdout",
     "output_type": "stream",
     "text": [
      "LOSS:3.55  ACC:0.81\n",
      "LOSS:0.00  ACC:1.00\n",
      "LOSS:3.67  ACC:0.81\n",
      "LOSS:4.77  ACC:0.78\n",
      "LOSS:2.76  ACC:0.84\n",
      "LOSS:1.86  ACC:0.84\n",
      "LOSS:2.84  ACC:0.78\n",
      "LOSS:1.53  ACC:0.84\n",
      "LOSS:2.14  ACC:0.84\n",
      "LOSS:2.69  ACC:0.88\n",
      "LOSS:3.93  ACC:0.72\n"
     ]
    },
    {
     "name": "stderr",
     "output_type": "stream",
     "text": [
      "\r",
      " 14%|████████████████████▎                                                                                                                                | 255/1875 [00:02<00:16, 98.31it/s]"
     ]
    },
    {
     "name": "stdout",
     "output_type": "stream",
     "text": [
      "LOSS:5.40  ACC:0.72\n",
      "LOSS:6.58  ACC:0.69\n",
      "LOSS:4.48  ACC:0.78\n",
      "LOSS:6.76  ACC:0.78\n",
      "LOSS:3.18  ACC:0.84\n",
      "LOSS:0.85  ACC:0.91\n",
      "LOSS:2.12  ACC:0.91\n",
      "LOSS:6.39  ACC:0.72\n",
      "LOSS:1.43  ACC:0.88\n",
      "LOSS:0.08  ACC:0.97\n",
      "LOSS:5.73  ACC:0.81\n",
      "LOSS:2.89  ACC:0.84\n"
     ]
    },
    {
     "name": "stderr",
     "output_type": "stream",
     "text": [
      "\r",
      " 14%|████████████████████▉                                                                                                                               | 266/1875 [00:02<00:16, 100.37it/s]"
     ]
    },
    {
     "name": "stdout",
     "output_type": "stream",
     "text": [
      "LOSS:1.44  ACC:0.94\n",
      "LOSS:3.28  ACC:0.81\n",
      "LOSS:1.44  ACC:0.88\n",
      "LOSS:1.42  ACC:0.88\n",
      "LOSS:1.96  ACC:0.88\n",
      "LOSS:3.35  ACC:0.81\n",
      "LOSS:5.69  ACC:0.78\n",
      "LOSS:4.37  ACC:0.81\n",
      "LOSS:0.84  ACC:0.91\n",
      "LOSS:3.24  ACC:0.94\n"
     ]
    },
    {
     "name": "stderr",
     "output_type": "stream",
     "text": [
      "\r",
      " 15%|██████████████████████                                                                                                                               | 277/1875 [00:02<00:16, 99.21it/s]"
     ]
    },
    {
     "name": "stdout",
     "output_type": "stream",
     "text": [
      "LOSS:1.62  ACC:0.91\n",
      "LOSS:3.82  ACC:0.75\n",
      "LOSS:8.76  ACC:0.75\n",
      "LOSS:9.03  ACC:0.78\n",
      "LOSS:14.53  ACC:0.69\n",
      "LOSS:1.82  ACC:0.81\n",
      "LOSS:5.35  ACC:0.69\n",
      "LOSS:0.66  ACC:0.88\n",
      "LOSS:3.09  ACC:0.75\n",
      "LOSS:4.94  ACC:0.69\n",
      "LOSS:4.20  ACC:0.75\n"
     ]
    },
    {
     "name": "stderr",
     "output_type": "stream",
     "text": [
      "\r",
      " 15%|██████████████████████▊                                                                                                                              | 287/1875 [00:02<00:16, 98.27it/s]"
     ]
    },
    {
     "name": "stdout",
     "output_type": "stream",
     "text": [
      "LOSS:3.15  ACC:0.84\n",
      "LOSS:2.84  ACC:0.91\n",
      "LOSS:2.47  ACC:0.88\n",
      "LOSS:0.00  ACC:1.00\n",
      "LOSS:1.62  ACC:0.91\n",
      "LOSS:4.91  ACC:0.75\n",
      "LOSS:2.95  ACC:0.84\n",
      "LOSS:1.24  ACC:0.94\n",
      "LOSS:0.86  ACC:0.91\n"
     ]
    },
    {
     "name": "stderr",
     "output_type": "stream",
     "text": [
      "\r",
      " 16%|███████████████████████▌                                                                                                                             | 297/1875 [00:02<00:16, 97.70it/s]"
     ]
    },
    {
     "name": "stdout",
     "output_type": "stream",
     "text": [
      "LOSS:1.97  ACC:0.88\n",
      "LOSS:4.00  ACC:0.81\n",
      "LOSS:1.82  ACC:0.84\n",
      "LOSS:3.98  ACC:0.81\n",
      "LOSS:6.56  ACC:0.69\n",
      "LOSS:13.41  ACC:0.56\n",
      "LOSS:10.74  ACC:0.75\n",
      "LOSS:1.74  ACC:0.81\n",
      "LOSS:6.57  ACC:0.84\n",
      "LOSS:1.09  ACC:0.84\n",
      "LOSS:1.85  ACC:0.88\n"
     ]
    },
    {
     "name": "stderr",
     "output_type": "stream",
     "text": [
      "\r",
      " 16%|████████████████████████▍                                                                                                                           | 309/1875 [00:03<00:15, 102.34it/s]"
     ]
    },
    {
     "name": "stdout",
     "output_type": "stream",
     "text": [
      "LOSS:2.97  ACC:0.81\n",
      "LOSS:2.58  ACC:0.94\n",
      "LOSS:2.31  ACC:0.88\n",
      "LOSS:1.65  ACC:0.91\n",
      "LOSS:0.01  ACC:1.00\n",
      "LOSS:3.47  ACC:0.75\n",
      "LOSS:10.66  ACC:0.69\n",
      "LOSS:3.01  ACC:0.88\n",
      "LOSS:0.13  ACC:0.94\n",
      "LOSS:2.28  ACC:0.84\n",
      "LOSS:0.20  ACC:0.97\n"
     ]
    },
    {
     "name": "stderr",
     "output_type": "stream",
     "text": [
      "\r",
      " 17%|█████████████████████████▎                                                                                                                          | 321/1875 [00:03<00:14, 105.75it/s]"
     ]
    },
    {
     "name": "stdout",
     "output_type": "stream",
     "text": [
      "LOSS:0.96  ACC:0.91\n",
      "LOSS:2.26  ACC:0.91\n",
      "LOSS:0.47  ACC:0.88\n",
      "LOSS:4.17  ACC:0.81\n",
      "LOSS:4.09  ACC:0.84\n",
      "LOSS:3.03  ACC:0.84\n",
      "LOSS:1.41  ACC:0.94\n",
      "LOSS:2.22  ACC:0.91\n",
      "LOSS:2.49  ACC:0.78\n",
      "LOSS:4.33  ACC:0.69\n",
      "LOSS:5.42  ACC:0.81\n",
      "LOSS:3.23  ACC:0.78\n",
      "LOSS:1.68  ACC:0.84\n"
     ]
    },
    {
     "name": "stderr",
     "output_type": "stream",
     "text": [
      "\r",
      " 18%|██████████████████████████▎                                                                                                                         | 333/1875 [00:03<00:14, 107.78it/s]"
     ]
    },
    {
     "name": "stdout",
     "output_type": "stream",
     "text": [
      "LOSS:1.53  ACC:0.97\n",
      "LOSS:1.37  ACC:0.88\n",
      "LOSS:2.16  ACC:0.94\n",
      "LOSS:1.73  ACC:0.91\n",
      "LOSS:0.99  ACC:0.94\n",
      "LOSS:1.20  ACC:0.88\n",
      "LOSS:0.25  ACC:0.97\n",
      "LOSS:1.13  ACC:0.94\n",
      "LOSS:1.27  ACC:0.88\n",
      "LOSS:1.32  ACC:0.94\n",
      "LOSS:1.60  ACC:0.88\n"
     ]
    },
    {
     "name": "stderr",
     "output_type": "stream",
     "text": [
      "\r",
      " 18%|███████████████████████████▏                                                                                                                        | 345/1875 [00:03<00:13, 109.54it/s]"
     ]
    },
    {
     "name": "stdout",
     "output_type": "stream",
     "text": [
      "LOSS:2.81  ACC:0.88\n",
      "LOSS:3.67  ACC:0.81\n",
      "LOSS:2.82  ACC:0.84\n",
      "LOSS:1.68  ACC:0.88\n",
      "LOSS:0.14  ACC:0.97\n",
      "LOSS:2.31  ACC:0.94\n",
      "LOSS:1.63  ACC:0.97\n",
      "LOSS:1.56  ACC:0.94\n",
      "LOSS:0.07  ACC:0.94\n",
      "LOSS:3.38  ACC:0.84\n",
      "LOSS:3.26  ACC:0.88\n",
      "LOSS:0.55  ACC:0.94\n"
     ]
    },
    {
     "name": "stderr",
     "output_type": "stream",
     "text": [
      "\r",
      " 19%|████████████████████████████▏                                                                                                                       | 357/1875 [00:03<00:13, 111.40it/s]"
     ]
    },
    {
     "name": "stdout",
     "output_type": "stream",
     "text": [
      "LOSS:0.58  ACC:0.91\n",
      "LOSS:2.02  ACC:0.88\n",
      "LOSS:0.83  ACC:0.94\n",
      "LOSS:1.75  ACC:0.81\n",
      "LOSS:4.44  ACC:0.84\n",
      "LOSS:4.94  ACC:0.78\n",
      "LOSS:3.10  ACC:0.78\n",
      "LOSS:0.43  ACC:0.91\n",
      "LOSS:0.23  ACC:0.94\n",
      "LOSS:2.44  ACC:0.88\n",
      "LOSS:0.84  ACC:0.91\n",
      "LOSS:4.11  ACC:0.78\n"
     ]
    },
    {
     "name": "stderr",
     "output_type": "stream",
     "text": [
      "\r",
      " 20%|█████████████████████████████▏                                                                                                                      | 369/1875 [00:03<00:13, 111.53it/s]"
     ]
    },
    {
     "name": "stdout",
     "output_type": "stream",
     "text": [
      "LOSS:5.54  ACC:0.81\n",
      "LOSS:3.84  ACC:0.88\n",
      "LOSS:2.52  ACC:0.91\n",
      "LOSS:4.98  ACC:0.88\n",
      "LOSS:5.69  ACC:0.75\n",
      "LOSS:4.02  ACC:0.75\n",
      "LOSS:2.08  ACC:0.94\n",
      "LOSS:6.08  ACC:0.75\n",
      "LOSS:3.31  ACC:0.81\n",
      "LOSS:3.03  ACC:0.84\n",
      "LOSS:2.58  ACC:0.88\n"
     ]
    },
    {
     "name": "stderr",
     "output_type": "stream",
     "text": [
      "\r",
      " 20%|██████████████████████████████                                                                                                                      | 381/1875 [00:03<00:13, 111.04it/s]"
     ]
    },
    {
     "name": "stdout",
     "output_type": "stream",
     "text": [
      "LOSS:1.00  ACC:0.84\n",
      "LOSS:1.34  ACC:0.88\n",
      "LOSS:0.99  ACC:0.88\n",
      "LOSS:0.13  ACC:0.97\n",
      "LOSS:1.49  ACC:0.88\n",
      "LOSS:2.34  ACC:0.88\n",
      "LOSS:1.12  ACC:0.91\n",
      "LOSS:2.44  ACC:0.88\n",
      "LOSS:2.74  ACC:0.88\n",
      "LOSS:1.60  ACC:0.88\n",
      "LOSS:1.86  ACC:0.91\n",
      "LOSS:2.91  ACC:0.84\n",
      "LOSS:8.90  ACC:0.72\n",
      "LOSS:1.83  ACC:0.84\n",
      "LOSS:3.51  ACC:0.78\n",
      "LOSS:4.84  ACC:0.75\n",
      "LOSS:1.68  ACC:0.88\n",
      "LOSS:4.91  ACC:0.81\n",
      "LOSS:0.01  ACC:1.00\n",
      "LOSS:2.84  ACC:0.81\n",
      "LOSS:4.73  ACC:0.78\n",
      "LOSS:5.76  ACC:0.84\n",
      "LOSS:1.38  ACC:0.91\n"
     ]
    },
    {
     "name": "stderr",
     "output_type": "stream",
     "text": [
      "\r",
      " 21%|███████████████████████████████                                                                                                                     | 393/1875 [00:03<00:13, 110.93it/s]"
     ]
    },
    {
     "name": "stdout",
     "output_type": "stream",
     "text": [
      "LOSS:2.77  ACC:0.88\n",
      "LOSS:6.51  ACC:0.78\n",
      "LOSS:5.41  ACC:0.81\n",
      "LOSS:7.98  ACC:0.72\n",
      "LOSS:5.61  ACC:0.75\n",
      "LOSS:1.74  ACC:0.94\n",
      "LOSS:0.84  ACC:0.88\n",
      "LOSS:3.75  ACC:0.84\n",
      "LOSS:1.07  ACC:0.91\n",
      "LOSS:1.58  ACC:0.91\n",
      "LOSS:2.54  ACC:0.84\n",
      "LOSS:3.22  ACC:0.84\n"
     ]
    },
    {
     "name": "stderr",
     "output_type": "stream",
     "text": [
      "\r",
      " 22%|███████████████████████████████▉                                                                                                                    | 405/1875 [00:03<00:13, 111.89it/s]"
     ]
    },
    {
     "name": "stdout",
     "output_type": "stream",
     "text": [
      "LOSS:6.48  ACC:0.81\n",
      "LOSS:3.56  ACC:0.81\n",
      "LOSS:5.61  ACC:0.81\n",
      "LOSS:4.33  ACC:0.78\n",
      "LOSS:9.90  ACC:0.56\n",
      "LOSS:9.54  ACC:0.59\n",
      "LOSS:15.85  ACC:0.62\n",
      "LOSS:1.78  ACC:0.84\n",
      "LOSS:5.06  ACC:0.84\n",
      "LOSS:0.51  ACC:0.94\n",
      "LOSS:3.30  ACC:0.94\n"
     ]
    },
    {
     "name": "stderr",
     "output_type": "stream",
     "text": [
      "\r",
      " 22%|████████████████████████████████▉                                                                                                                   | 417/1875 [00:03<00:13, 112.08it/s]"
     ]
    },
    {
     "name": "stdout",
     "output_type": "stream",
     "text": [
      "LOSS:1.26  ACC:0.94\n",
      "LOSS:2.23  ACC:0.84\n",
      "LOSS:2.75  ACC:0.84\n",
      "LOSS:3.59  ACC:0.81\n",
      "LOSS:1.57  ACC:0.91\n",
      "LOSS:2.19  ACC:0.97\n",
      "LOSS:0.21  ACC:0.97\n",
      "LOSS:4.62  ACC:0.84\n",
      "LOSS:3.81  ACC:0.88\n",
      "LOSS:0.55  ACC:0.91\n",
      "LOSS:1.28  ACC:0.88\n",
      "LOSS:2.86  ACC:0.88\n"
     ]
    },
    {
     "name": "stderr",
     "output_type": "stream",
     "text": [
      "\r",
      " 23%|█████████████████████████████████▊                                                                                                                  | 429/1875 [00:04<00:12, 112.51it/s]"
     ]
    },
    {
     "name": "stdout",
     "output_type": "stream",
     "text": [
      "LOSS:2.80  ACC:0.84\n",
      "LOSS:4.21  ACC:0.84\n",
      "LOSS:2.17  ACC:0.91\n",
      "LOSS:1.58  ACC:0.84\n",
      "LOSS:1.19  ACC:0.81\n",
      "LOSS:6.12  ACC:0.81\n",
      "LOSS:0.88  ACC:0.84\n",
      "LOSS:0.88  ACC:0.91\n",
      "LOSS:4.56  ACC:0.75\n",
      "LOSS:6.92  ACC:0.78\n",
      "LOSS:3.82  ACC:0.81\n"
     ]
    },
    {
     "name": "stderr",
     "output_type": "stream",
     "text": [
      "\r",
      " 24%|██████████████████████████████████▊                                                                                                                 | 441/1875 [00:04<00:12, 112.84it/s]"
     ]
    },
    {
     "name": "stdout",
     "output_type": "stream",
     "text": [
      "LOSS:4.15  ACC:0.81\n",
      "LOSS:10.59  ACC:0.66\n",
      "LOSS:8.28  ACC:0.62\n",
      "LOSS:5.33  ACC:0.75\n",
      "LOSS:5.04  ACC:0.81\n",
      "LOSS:2.13  ACC:0.78\n",
      "LOSS:6.51  ACC:0.78\n",
      "LOSS:3.66  ACC:0.69\n",
      "LOSS:5.25  ACC:0.75\n",
      "LOSS:4.59  ACC:0.88\n",
      "LOSS:5.45  ACC:0.84\n",
      "LOSS:5.26  ACC:0.69\n"
     ]
    },
    {
     "name": "stderr",
     "output_type": "stream",
     "text": [
      "\r",
      " 24%|███████████████████████████████████▊                                                                                                                | 453/1875 [00:04<00:12, 113.04it/s]"
     ]
    },
    {
     "name": "stdout",
     "output_type": "stream",
     "text": [
      "LOSS:1.69  ACC:0.91\n",
      "LOSS:1.92  ACC:0.94\n",
      "LOSS:0.73  ACC:0.97\n",
      "LOSS:2.98  ACC:0.78\n",
      "LOSS:2.55  ACC:0.84\n",
      "LOSS:2.52  ACC:0.88\n",
      "LOSS:1.51  ACC:0.84\n",
      "LOSS:1.97  ACC:0.88\n",
      "LOSS:2.57  ACC:0.78\n",
      "LOSS:5.97  ACC:0.72\n",
      "LOSS:4.69  ACC:0.78\n"
     ]
    },
    {
     "name": "stderr",
     "output_type": "stream",
     "text": [
      "\r",
      " 25%|████████████████████████████████████▋                                                                                                               | 465/1875 [00:04<00:12, 113.12it/s]"
     ]
    },
    {
     "name": "stdout",
     "output_type": "stream",
     "text": [
      "LOSS:5.70  ACC:0.75\n",
      "LOSS:5.36  ACC:0.72\n",
      "LOSS:4.76  ACC:0.75\n",
      "LOSS:4.68  ACC:0.78\n",
      "LOSS:1.77  ACC:0.88\n",
      "LOSS:3.18  ACC:0.88\n",
      "LOSS:1.77  ACC:0.88\n",
      "LOSS:0.80  ACC:0.88\n",
      "LOSS:0.87  ACC:0.91\n",
      "LOSS:2.13  ACC:0.88\n",
      "LOSS:0.64  ACC:0.94\n",
      "LOSS:5.03  ACC:0.75\n"
     ]
    },
    {
     "name": "stderr",
     "output_type": "stream",
     "text": [
      "\r",
      " 25%|█████████████████████████████████████▋                                                                                                              | 477/1875 [00:04<00:12, 112.97it/s]"
     ]
    },
    {
     "name": "stdout",
     "output_type": "stream",
     "text": [
      "LOSS:2.11  ACC:0.88\n",
      "LOSS:2.10  ACC:0.78\n",
      "LOSS:2.58  ACC:0.88\n",
      "LOSS:1.94  ACC:0.91\n",
      "LOSS:2.41  ACC:0.81\n",
      "LOSS:0.78  ACC:0.88\n",
      "LOSS:2.15  ACC:0.94\n",
      "LOSS:1.38  ACC:0.88\n",
      "LOSS:2.27  ACC:0.91\n",
      "LOSS:2.31  ACC:0.91\n",
      "LOSS:1.96  ACC:0.84\n",
      "LOSS:3.87  ACC:0.91\n"
     ]
    },
    {
     "name": "stderr",
     "output_type": "stream",
     "text": [
      "\r",
      " 26%|██████████████████████████████████████▌                                                                                                             | 489/1875 [00:04<00:12, 111.67it/s]"
     ]
    },
    {
     "name": "stdout",
     "output_type": "stream",
     "text": [
      "LOSS:2.19  ACC:0.84\n",
      "LOSS:1.17  ACC:0.91\n",
      "LOSS:1.33  ACC:0.88\n",
      "LOSS:0.30  ACC:0.97\n",
      "LOSS:1.06  ACC:0.91\n",
      "LOSS:0.98  ACC:0.88\n",
      "LOSS:3.31  ACC:0.75\n",
      "LOSS:3.13  ACC:0.75\n",
      "LOSS:3.06  ACC:0.81\n",
      "LOSS:2.22  ACC:0.84\n",
      "LOSS:3.40  ACC:0.81\n"
     ]
    },
    {
     "name": "stderr",
     "output_type": "stream",
     "text": [
      "\r",
      " 27%|███████████████████████████████████████▌                                                                                                            | 501/1875 [00:04<00:12, 112.21it/s]"
     ]
    },
    {
     "name": "stdout",
     "output_type": "stream",
     "text": [
      "LOSS:3.54  ACC:0.78\n",
      "LOSS:0.61  ACC:0.94\n",
      "LOSS:7.60  ACC:0.75\n",
      "LOSS:5.56  ACC:0.72\n",
      "LOSS:4.63  ACC:0.81\n",
      "LOSS:4.54  ACC:0.81\n",
      "LOSS:2.30  ACC:0.78\n",
      "LOSS:1.78  ACC:0.88\n",
      "LOSS:2.72  ACC:0.81\n",
      "LOSS:3.74  ACC:0.81\n",
      "LOSS:3.26  ACC:0.69\n",
      "LOSS:0.24  ACC:0.97\n"
     ]
    },
    {
     "name": "stderr",
     "output_type": "stream",
     "text": [
      "\r",
      " 27%|████████████████████████████████████████▍                                                                                                           | 513/1875 [00:04<00:12, 108.59it/s]"
     ]
    },
    {
     "name": "stdout",
     "output_type": "stream",
     "text": [
      "LOSS:3.57  ACC:0.84\n",
      "LOSS:3.08  ACC:0.84\n",
      "LOSS:0.88  ACC:0.88\n",
      "LOSS:1.84  ACC:0.94\n",
      "LOSS:0.27  ACC:0.91\n",
      "LOSS:4.31  ACC:0.84\n",
      "LOSS:3.32  ACC:0.81\n",
      "LOSS:3.80  ACC:0.84\n"
     ]
    },
    {
     "name": "stderr",
     "output_type": "stream",
     "text": [
      "\r",
      " 28%|█████████████████████████████████████████▋                                                                                                           | 524/1875 [00:04<00:13, 99.36it/s]"
     ]
    },
    {
     "name": "stdout",
     "output_type": "stream",
     "text": [
      "LOSS:2.18  ACC:0.91\n",
      "LOSS:5.34  ACC:0.88\n",
      "LOSS:1.17  ACC:0.84\n",
      "LOSS:5.21  ACC:0.81\n",
      "LOSS:1.17  ACC:0.91\n",
      "LOSS:3.09  ACC:0.78\n",
      "LOSS:1.60  ACC:0.84\n",
      "LOSS:2.79  ACC:0.78\n",
      "LOSS:4.11  ACC:0.75\n"
     ]
    },
    {
     "name": "stderr",
     "output_type": "stream",
     "text": [
      "\r",
      " 29%|██████████████████████████████████████████▌                                                                                                          | 535/1875 [00:05<00:13, 99.96it/s]"
     ]
    },
    {
     "name": "stdout",
     "output_type": "stream",
     "text": [
      "LOSS:0.78  ACC:0.91\n",
      "LOSS:3.73  ACC:0.78\n",
      "LOSS:1.99  ACC:0.84\n",
      "LOSS:1.64  ACC:0.88\n",
      "LOSS:5.67  ACC:0.81\n",
      "LOSS:1.90  ACC:0.81\n",
      "LOSS:5.71  ACC:0.78\n",
      "LOSS:3.10  ACC:0.88\n",
      "LOSS:1.67  ACC:0.88\n",
      "LOSS:2.07  ACC:0.88\n"
     ]
    },
    {
     "name": "stderr",
     "output_type": "stream",
     "text": [
      "\r",
      " 29%|███████████████████████████████████████████▏                                                                                                        | 547/1875 [00:05<00:12, 104.02it/s]"
     ]
    },
    {
     "name": "stdout",
     "output_type": "stream",
     "text": [
      "LOSS:0.98  ACC:0.88\n",
      "LOSS:2.17  ACC:0.91\n",
      "LOSS:2.11  ACC:0.78\n",
      "LOSS:4.82  ACC:0.84\n",
      "LOSS:1.76  ACC:0.91\n",
      "LOSS:2.00  ACC:0.84\n",
      "LOSS:2.02  ACC:0.88\n",
      "LOSS:0.19  ACC:0.94\n",
      "LOSS:3.32  ACC:0.84\n",
      "LOSS:1.93  ACC:0.94\n",
      "LOSS:2.71  ACC:0.84\n",
      "LOSS:8.30  ACC:0.66\n",
      "LOSS:3.68  ACC:0.88\n",
      "LOSS:5.25  ACC:0.78\n",
      "LOSS:4.09  ACC:0.88\n",
      "LOSS:3.01  ACC:0.81\n",
      "LOSS:3.99  ACC:0.81\n",
      "LOSS:1.23  ACC:0.88\n",
      "LOSS:4.41  ACC:0.81\n",
      "LOSS:4.64  ACC:0.72\n",
      "LOSS:3.87  ACC:0.78\n",
      "LOSS:7.78  ACC:0.66\n",
      "LOSS:2.70  ACC:0.88\n"
     ]
    },
    {
     "name": "stderr",
     "output_type": "stream",
     "text": [
      "\r",
      " 30%|████████████████████████████████████████████                                                                                                        | 559/1875 [00:05<00:12, 105.69it/s]"
     ]
    },
    {
     "name": "stdout",
     "output_type": "stream",
     "text": [
      "LOSS:2.40  ACC:0.91\n",
      "LOSS:0.70  ACC:0.91\n",
      "LOSS:1.34  ACC:0.91\n",
      "LOSS:3.23  ACC:0.91\n",
      "LOSS:4.33  ACC:0.78\n",
      "LOSS:0.60  ACC:0.94\n",
      "LOSS:1.18  ACC:0.91\n",
      "LOSS:3.54  ACC:0.91\n",
      "LOSS:1.98  ACC:0.88\n",
      "LOSS:1.32  ACC:0.97\n",
      "LOSS:0.67  ACC:0.94\n"
     ]
    },
    {
     "name": "stderr",
     "output_type": "stream",
     "text": [
      "\r",
      " 30%|████████████████████████████████████████████▉                                                                                                       | 570/1875 [00:05<00:12, 100.80it/s]"
     ]
    },
    {
     "name": "stdout",
     "output_type": "stream",
     "text": [
      "LOSS:1.83  ACC:0.91\n",
      "LOSS:0.48  ACC:0.94\n",
      "LOSS:2.57  ACC:0.88\n",
      "LOSS:1.90  ACC:0.94\n",
      "LOSS:2.26  ACC:0.88\n",
      "LOSS:0.67  ACC:0.94\n",
      "LOSS:3.55  ACC:0.81\n",
      "LOSS:1.53  ACC:0.88\n"
     ]
    },
    {
     "name": "stderr",
     "output_type": "stream",
     "text": [
      "\r",
      " 31%|██████████████████████████████████████████████▏                                                                                                      | 581/1875 [00:05<00:13, 99.01it/s]"
     ]
    },
    {
     "name": "stdout",
     "output_type": "stream",
     "text": [
      "LOSS:5.33  ACC:0.84\n",
      "LOSS:4.06  ACC:0.88\n",
      "LOSS:0.98  ACC:0.94\n",
      "LOSS:0.39  ACC:0.97\n",
      "LOSS:6.18  ACC:0.88\n",
      "LOSS:1.25  ACC:0.91\n",
      "LOSS:0.55  ACC:0.91\n",
      "LOSS:0.47  ACC:0.91\n",
      "LOSS:4.10  ACC:0.91\n",
      "LOSS:0.27  ACC:0.97\n",
      "LOSS:1.18  ACC:0.88\n",
      "LOSS:4.60  ACC:0.88\n",
      "LOSS:0.59  ACC:0.94\n"
     ]
    },
    {
     "name": "stderr",
     "output_type": "stream",
     "text": [
      "\r",
      " 32%|██████████████████████████████████████████████▊                                                                                                     | 593/1875 [00:05<00:12, 102.73it/s]"
     ]
    },
    {
     "name": "stdout",
     "output_type": "stream",
     "text": [
      "LOSS:1.19  ACC:0.91\n",
      "LOSS:0.38  ACC:0.94\n",
      "LOSS:1.06  ACC:0.94\n",
      "LOSS:1.66  ACC:0.91\n",
      "LOSS:3.81  ACC:0.78\n",
      "LOSS:2.18  ACC:0.84\n",
      "LOSS:2.43  ACC:0.94\n",
      "LOSS:0.96  ACC:0.91\n",
      "LOSS:1.41  ACC:0.84\n",
      "LOSS:0.89  ACC:0.91\n"
     ]
    },
    {
     "name": "stderr",
     "output_type": "stream",
     "text": [
      "\r",
      " 32%|███████████████████████████████████████████████▊                                                                                                    | 605/1875 [00:05<00:11, 106.05it/s]"
     ]
    },
    {
     "name": "stdout",
     "output_type": "stream",
     "text": [
      "LOSS:1.69  ACC:0.91\n",
      "LOSS:3.00  ACC:0.94\n",
      "LOSS:3.00  ACC:0.84\n",
      "LOSS:2.89  ACC:0.88\n",
      "LOSS:3.03  ACC:0.84\n",
      "LOSS:1.04  ACC:0.84\n",
      "LOSS:3.49  ACC:0.78\n",
      "LOSS:4.43  ACC:0.78\n",
      "LOSS:3.66  ACC:0.81\n",
      "LOSS:6.93  ACC:0.72\n",
      "LOSS:0.81  ACC:0.88\n",
      "LOSS:2.11  ACC:0.94\n",
      "LOSS:1.99  ACC:0.88\n",
      "LOSS:1.16  ACC:0.97\n"
     ]
    },
    {
     "name": "stderr",
     "output_type": "stream",
     "text": [
      "\r",
      " 33%|████████████████████████████████████████████████▋                                                                                                   | 617/1875 [00:05<00:11, 108.35it/s]"
     ]
    },
    {
     "name": "stdout",
     "output_type": "stream",
     "text": [
      "LOSS:2.02  ACC:0.88\n",
      "LOSS:1.64  ACC:0.97\n",
      "LOSS:0.10  ACC:0.97\n",
      "LOSS:0.93  ACC:0.94\n",
      "LOSS:0.95  ACC:0.94\n",
      "LOSS:5.24  ACC:0.88\n",
      "LOSS:0.78  ACC:0.91\n",
      "LOSS:0.83  ACC:0.94\n",
      "LOSS:0.95  ACC:0.84\n"
     ]
    },
    {
     "name": "stderr",
     "output_type": "stream",
     "text": [
      "\r",
      " 34%|█████████████████████████████████████████████████▋                                                                                                  | 629/1875 [00:05<00:11, 109.91it/s]"
     ]
    },
    {
     "name": "stdout",
     "output_type": "stream",
     "text": [
      "LOSS:3.54  ACC:0.78\n",
      "LOSS:7.02  ACC:0.78\n",
      "LOSS:3.10  ACC:0.75\n",
      "LOSS:0.66  ACC:0.84\n",
      "LOSS:4.32  ACC:0.88\n",
      "LOSS:3.27  ACC:0.91\n",
      "LOSS:0.03  ACC:1.00\n",
      "LOSS:7.12  ACC:0.84\n",
      "LOSS:4.73  ACC:0.84\n",
      "LOSS:1.11  ACC:0.94\n",
      "LOSS:0.55  ACC:0.91\n",
      "LOSS:0.53  ACC:0.91\n",
      "LOSS:2.33  ACC:0.84\n",
      "LOSS:0.24  ACC:0.97\n",
      "LOSS:1.16  ACC:0.94\n"
     ]
    },
    {
     "name": "stderr",
     "output_type": "stream",
     "text": [
      "\r",
      " 34%|██████████████████████████████████████████████████▌                                                                                                 | 641/1875 [00:06<00:11, 111.51it/s]"
     ]
    },
    {
     "name": "stdout",
     "output_type": "stream",
     "text": [
      "LOSS:0.74  ACC:0.91\n",
      "LOSS:3.93  ACC:0.88\n",
      "LOSS:1.18  ACC:0.94\n",
      "LOSS:2.19  ACC:0.84\n",
      "LOSS:3.84  ACC:0.88\n",
      "LOSS:4.66  ACC:0.75\n",
      "LOSS:3.24  ACC:0.69\n",
      "LOSS:8.94  ACC:0.69\n"
     ]
    },
    {
     "name": "stderr",
     "output_type": "stream",
     "text": [
      "\r",
      " 35%|███████████████████████████████████████████████████▌                                                                                                | 653/1875 [00:06<00:11, 108.69it/s]"
     ]
    },
    {
     "name": "stdout",
     "output_type": "stream",
     "text": [
      "LOSS:3.66  ACC:0.94\n",
      "LOSS:4.72  ACC:0.81\n",
      "LOSS:3.03  ACC:0.84\n",
      "LOSS:5.01  ACC:0.84\n",
      "LOSS:3.18  ACC:0.88\n",
      "LOSS:4.72  ACC:0.72\n",
      "LOSS:2.58  ACC:0.84\n",
      "LOSS:6.47  ACC:0.78\n",
      "LOSS:5.15  ACC:0.78\n",
      "LOSS:7.20  ACC:0.78\n",
      "LOSS:5.26  ACC:0.72\n",
      "LOSS:5.52  ACC:0.75\n",
      "LOSS:3.21  ACC:0.88\n"
     ]
    },
    {
     "name": "stderr",
     "output_type": "stream",
     "text": [
      "\r",
      " 35%|████████████████████████████████████████████████████▍                                                                                               | 664/1875 [00:06<00:11, 104.28it/s]"
     ]
    },
    {
     "name": "stdout",
     "output_type": "stream",
     "text": [
      "LOSS:2.32  ACC:0.88\n",
      "LOSS:2.50  ACC:0.88\n",
      "LOSS:2.57  ACC:0.91\n",
      "LOSS:5.38  ACC:0.81\n",
      "LOSS:1.54  ACC:0.91\n",
      "LOSS:0.05  ACC:0.97\n",
      "LOSS:2.47  ACC:0.84\n"
     ]
    },
    {
     "name": "stderr",
     "output_type": "stream",
     "text": [
      "\r",
      " 36%|█████████████████████████████████████████████████████▎                                                                                              | 675/1875 [00:06<00:11, 105.57it/s]"
     ]
    },
    {
     "name": "stdout",
     "output_type": "stream",
     "text": [
      "LOSS:2.65  ACC:0.88\n",
      "LOSS:2.50  ACC:0.81\n",
      "LOSS:8.89  ACC:0.75\n",
      "LOSS:15.78  ACC:0.53\n",
      "LOSS:4.43  ACC:0.88\n",
      "LOSS:0.66  ACC:0.94\n",
      "LOSS:2.99  ACC:0.88\n",
      "LOSS:5.29  ACC:0.78\n",
      "LOSS:6.78  ACC:0.66\n",
      "LOSS:3.04  ACC:0.88\n",
      "LOSS:1.14  ACC:0.91\n",
      "LOSS:3.45  ACC:0.84\n",
      "LOSS:2.07  ACC:0.81\n",
      "LOSS:2.48  ACC:0.84\n"
     ]
    },
    {
     "name": "stderr",
     "output_type": "stream",
     "text": [
      "\r",
      " 37%|██████████████████████████████████████████████████████▏                                                                                             | 686/1875 [00:06<00:11, 100.88it/s]"
     ]
    },
    {
     "name": "stdout",
     "output_type": "stream",
     "text": [
      "LOSS:0.92  ACC:0.94\n",
      "LOSS:1.56  ACC:0.91\n",
      "LOSS:1.23  ACC:0.94\n",
      "LOSS:0.53  ACC:0.88\n",
      "LOSS:1.81  ACC:0.84\n",
      "LOSS:1.20  ACC:0.91\n"
     ]
    },
    {
     "name": "stderr",
     "output_type": "stream",
     "text": [
      "\r",
      " 37%|███████████████████████████████████████████████████████▍                                                                                             | 697/1875 [00:06<00:11, 98.54it/s]"
     ]
    },
    {
     "name": "stdout",
     "output_type": "stream",
     "text": [
      "LOSS:3.95  ACC:0.91\n",
      "LOSS:2.23  ACC:0.91\n",
      "LOSS:0.23  ACC:0.94\n",
      "LOSS:1.08  ACC:0.81\n",
      "LOSS:1.50  ACC:0.88\n",
      "LOSS:4.86  ACC:0.84\n",
      "LOSS:2.96  ACC:0.84\n",
      "LOSS:3.11  ACC:0.84\n",
      "LOSS:6.05  ACC:0.88\n",
      "LOSS:0.84  ACC:0.91\n",
      "LOSS:4.00  ACC:0.78\n",
      "LOSS:3.41  ACC:0.75\n",
      "LOSS:0.33  ACC:0.97\n",
      "LOSS:1.50  ACC:0.91\n",
      "LOSS:2.25  ACC:0.88\n",
      "LOSS:1.46  ACC:0.91\n",
      "LOSS:3.78  ACC:0.75\n",
      "LOSS:8.10  ACC:0.53\n",
      "LOSS:6.40  ACC:0.69\n",
      "LOSS:3.61  ACC:0.81\n"
     ]
    },
    {
     "name": "stderr",
     "output_type": "stream",
     "text": [
      " 38%|█████████████████████████████████████████████████████████▏                                                                                           | 719/1875 [00:06<00:11, 96.50it/s]"
     ]
    },
    {
     "name": "stdout",
     "output_type": "stream",
     "text": [
      "LOSS:1.92  ACC:0.91\n",
      "LOSS:4.03  ACC:0.84\n",
      "LOSS:2.31  ACC:0.81\n",
      "LOSS:3.71  ACC:0.91\n",
      "LOSS:1.98  ACC:0.84\n",
      "LOSS:2.54  ACC:0.75\n",
      "LOSS:1.89  ACC:0.75\n",
      "LOSS:1.31  ACC:0.84\n",
      "LOSS:0.57  ACC:0.94\n",
      "LOSS:3.67  ACC:0.91\n",
      "LOSS:1.11  ACC:0.91\n",
      "LOSS:0.94  ACC:0.91\n",
      "LOSS:0.02  ACC:0.97\n",
      "LOSS:3.18  ACC:0.84\n",
      "LOSS:4.42  ACC:0.81\n",
      "LOSS:9.90  ACC:0.69\n",
      "LOSS:6.85  ACC:0.75\n",
      "LOSS:3.64  ACC:0.84\n",
      "LOSS:1.78  ACC:0.91\n",
      "LOSS:3.84  ACC:0.88\n"
     ]
    },
    {
     "name": "stderr",
     "output_type": "stream",
     "text": [
      "\r",
      " 39%|█████████████████████████████████████████████████████████▉                                                                                           | 729/1875 [00:06<00:12, 92.88it/s]"
     ]
    },
    {
     "name": "stdout",
     "output_type": "stream",
     "text": [
      "LOSS:0.69  ACC:0.94\n",
      "LOSS:1.05  ACC:0.94\n",
      "LOSS:2.00  ACC:0.91\n",
      "LOSS:2.44  ACC:0.91\n",
      "LOSS:1.31  ACC:0.91\n",
      "LOSS:1.62  ACC:0.84\n",
      "LOSS:1.61  ACC:0.88\n",
      "LOSS:3.56  ACC:0.78\n",
      "LOSS:1.38  ACC:0.88\n",
      "LOSS:2.23  ACC:0.88\n",
      "LOSS:2.29  ACC:0.94\n",
      "LOSS:1.47  ACC:0.91\n"
     ]
    },
    {
     "name": "stderr",
     "output_type": "stream",
     "text": [
      "\r",
      " 39%|██████████████████████████████████████████████████████████▊                                                                                          | 740/1875 [00:07<00:11, 95.66it/s]"
     ]
    },
    {
     "name": "stdout",
     "output_type": "stream",
     "text": [
      "LOSS:2.36  ACC:0.75\n",
      "LOSS:0.48  ACC:0.88\n",
      "LOSS:1.81  ACC:0.84\n",
      "LOSS:4.88  ACC:0.81\n",
      "LOSS:1.90  ACC:0.88\n",
      "LOSS:1.09  ACC:0.91\n",
      "LOSS:3.46  ACC:0.81\n",
      "LOSS:3.31  ACC:0.84\n",
      "LOSS:4.06  ACC:0.84\n"
     ]
    },
    {
     "name": "stderr",
     "output_type": "stream",
     "text": [
      "\r",
      " 40%|███████████████████████████████████████████████████████████▎                                                                                        | 752/1875 [00:07<00:11, 100.37it/s]"
     ]
    },
    {
     "name": "stdout",
     "output_type": "stream",
     "text": [
      "LOSS:3.10  ACC:0.88\n",
      "LOSS:3.66  ACC:0.94\n",
      "LOSS:4.78  ACC:0.78\n",
      "LOSS:2.59  ACC:0.78\n",
      "LOSS:2.98  ACC:0.78\n",
      "LOSS:0.68  ACC:0.88\n",
      "LOSS:1.12  ACC:0.84\n",
      "LOSS:1.63  ACC:0.91\n",
      "LOSS:1.43  ACC:0.88\n",
      "LOSS:2.78  ACC:0.81\n",
      "LOSS:4.01  ACC:0.81\n",
      "LOSS:7.38  ACC:0.69\n"
     ]
    },
    {
     "name": "stderr",
     "output_type": "stream",
     "text": [
      "\r",
      " 41%|████████████████████████████████████████████████████████████▋                                                                                        | 763/1875 [00:07<00:11, 97.45it/s]"
     ]
    },
    {
     "name": "stdout",
     "output_type": "stream",
     "text": [
      "LOSS:2.45  ACC:0.84\n",
      "LOSS:1.62  ACC:0.91\n",
      "LOSS:2.18  ACC:0.84\n",
      "LOSS:2.28  ACC:0.84\n",
      "LOSS:1.31  ACC:0.91\n",
      "LOSS:3.14  ACC:0.84\n",
      "LOSS:1.77  ACC:0.97\n",
      "LOSS:3.26  ACC:0.78\n"
     ]
    },
    {
     "name": "stderr",
     "output_type": "stream",
     "text": [
      "\r",
      " 41%|█████████████████████████████████████████████████████████████▍                                                                                       | 773/1875 [00:07<00:11, 95.97it/s]"
     ]
    },
    {
     "name": "stdout",
     "output_type": "stream",
     "text": [
      "LOSS:3.84  ACC:0.91\n",
      "LOSS:1.02  ACC:0.91\n",
      "LOSS:3.60  ACC:0.75\n",
      "LOSS:4.39  ACC:0.75\n",
      "LOSS:6.87  ACC:0.66\n",
      "LOSS:3.33  ACC:0.78\n",
      "LOSS:3.07  ACC:0.84\n",
      "LOSS:5.68  ACC:0.94\n",
      "LOSS:2.38  ACC:0.78\n",
      "LOSS:1.15  ACC:0.94\n",
      "LOSS:4.36  ACC:0.78\n"
     ]
    },
    {
     "name": "stderr",
     "output_type": "stream",
     "text": [
      "\r",
      " 42%|██████████████████████████████████████████████████████████████▏                                                                                      | 783/1875 [00:07<00:11, 96.94it/s]"
     ]
    },
    {
     "name": "stdout",
     "output_type": "stream",
     "text": [
      "LOSS:2.02  ACC:0.91\n",
      "LOSS:2.85  ACC:0.88\n",
      "LOSS:5.50  ACC:0.81\n",
      "LOSS:2.08  ACC:0.94\n",
      "LOSS:0.43  ACC:0.97\n",
      "LOSS:0.42  ACC:0.91\n",
      "LOSS:5.01  ACC:0.88\n",
      "LOSS:1.84  ACC:0.88\n",
      "LOSS:1.17  ACC:0.84\n",
      "LOSS:1.96  ACC:0.88\n"
     ]
    },
    {
     "name": "stderr",
     "output_type": "stream",
     "text": [
      "\r",
      " 42%|██████████████████████████████████████████████████████████████▊                                                                                     | 795/1875 [00:07<00:10, 102.80it/s]"
     ]
    },
    {
     "name": "stdout",
     "output_type": "stream",
     "text": [
      "LOSS:1.23  ACC:0.88\n",
      "LOSS:1.89  ACC:0.88\n",
      "LOSS:4.14  ACC:0.78\n",
      "LOSS:2.95  ACC:0.84\n",
      "LOSS:0.00  ACC:1.00\n",
      "LOSS:1.94  ACC:0.88\n",
      "LOSS:4.37  ACC:0.78\n",
      "LOSS:4.95  ACC:0.88\n",
      "LOSS:1.96  ACC:0.94\n",
      "LOSS:1.12  ACC:0.91\n",
      "LOSS:3.76  ACC:0.94\n",
      "LOSS:1.43  ACC:0.91\n",
      "LOSS:0.82  ACC:0.94\n",
      "LOSS:0.30  ACC:0.94\n"
     ]
    },
    {
     "name": "stderr",
     "output_type": "stream",
     "text": [
      "\r",
      " 43%|███████████████████████████████████████████████████████████████▋                                                                                    | 807/1875 [00:07<00:09, 106.94it/s]"
     ]
    },
    {
     "name": "stdout",
     "output_type": "stream",
     "text": [
      "LOSS:2.88  ACC:0.94\n",
      "LOSS:1.60  ACC:0.91\n",
      "LOSS:1.44  ACC:0.91\n",
      "LOSS:1.44  ACC:0.94\n",
      "LOSS:2.86  ACC:0.91\n",
      "LOSS:2.97  ACC:0.84\n",
      "LOSS:0.26  ACC:0.91\n",
      "LOSS:1.04  ACC:0.91\n",
      "LOSS:1.46  ACC:0.88\n",
      "LOSS:1.69  ACC:0.91\n"
     ]
    },
    {
     "name": "stderr",
     "output_type": "stream",
     "text": [
      "\r",
      " 44%|████████████████████████████████████████████████████████████████▋                                                                                   | 819/1875 [00:07<00:09, 109.90it/s]"
     ]
    },
    {
     "name": "stdout",
     "output_type": "stream",
     "text": [
      "LOSS:1.55  ACC:0.94\n",
      "LOSS:2.81  ACC:0.84\n",
      "LOSS:5.86  ACC:0.66\n",
      "LOSS:0.62  ACC:0.88\n",
      "LOSS:2.17  ACC:0.84\n",
      "LOSS:1.53  ACC:0.88\n",
      "LOSS:1.50  ACC:0.94\n",
      "LOSS:1.85  ACC:0.94\n",
      "LOSS:2.96  ACC:0.81\n",
      "LOSS:2.07  ACC:0.84\n",
      "LOSS:0.29  ACC:0.97\n",
      "LOSS:2.72  ACC:0.84\n",
      "LOSS:7.17  ACC:0.88\n",
      "LOSS:0.47  ACC:0.91\n"
     ]
    },
    {
     "name": "stderr",
     "output_type": "stream",
     "text": [
      "\r",
      " 44%|█████████████████████████████████████████████████████████████████▌                                                                                  | 831/1875 [00:07<00:09, 112.57it/s]"
     ]
    },
    {
     "name": "stdout",
     "output_type": "stream",
     "text": [
      "LOSS:3.52  ACC:0.88\n",
      "LOSS:4.37  ACC:0.81\n",
      "LOSS:1.91  ACC:0.91\n",
      "LOSS:2.12  ACC:0.91\n",
      "LOSS:2.88  ACC:0.88\n",
      "LOSS:1.19  ACC:0.94\n",
      "LOSS:9.15  ACC:0.75\n",
      "LOSS:1.04  ACC:0.91\n",
      "LOSS:2.26  ACC:0.81\n",
      "LOSS:7.11  ACC:0.78\n"
     ]
    },
    {
     "name": "stderr",
     "output_type": "stream",
     "text": [
      "\r",
      " 45%|██████████████████████████████████████████████████████████████████▌                                                                                 | 843/1875 [00:08<00:09, 114.50it/s]"
     ]
    },
    {
     "name": "stdout",
     "output_type": "stream",
     "text": [
      "LOSS:5.24  ACC:0.78\n",
      "LOSS:1.22  ACC:0.91\n",
      "LOSS:0.31  ACC:0.97\n",
      "LOSS:5.80  ACC:0.72\n",
      "LOSS:6.54  ACC:0.81\n",
      "LOSS:0.58  ACC:0.88\n",
      "LOSS:0.85  ACC:0.91\n",
      "LOSS:0.50  ACC:0.94\n",
      "LOSS:0.69  ACC:0.91\n",
      "LOSS:1.43  ACC:0.91\n",
      "LOSS:1.13  ACC:0.88\n",
      "LOSS:2.80  ACC:0.75\n",
      "LOSS:5.39  ACC:0.84\n",
      "LOSS:8.62  ACC:0.81\n"
     ]
    },
    {
     "name": "stderr",
     "output_type": "stream",
     "text": [
      "\r",
      " 46%|███████████████████████████████████████████████████████████████████▍                                                                                | 855/1875 [00:08<00:08, 115.13it/s]"
     ]
    },
    {
     "name": "stdout",
     "output_type": "stream",
     "text": [
      "LOSS:0.29  ACC:0.94\n",
      "LOSS:2.84  ACC:0.78\n",
      "LOSS:0.95  ACC:0.94\n",
      "LOSS:0.86  ACC:0.91\n",
      "LOSS:2.09  ACC:0.88\n",
      "LOSS:0.24  ACC:0.94\n",
      "LOSS:0.83  ACC:0.91\n",
      "LOSS:3.99  ACC:0.78\n",
      "LOSS:2.40  ACC:0.88\n",
      "LOSS:3.06  ACC:0.81\n"
     ]
    },
    {
     "name": "stderr",
     "output_type": "stream",
     "text": [
      "\r",
      " 46%|████████████████████████████████████████████████████████████████████▍                                                                               | 867/1875 [00:08<00:08, 114.71it/s]"
     ]
    },
    {
     "name": "stdout",
     "output_type": "stream",
     "text": [
      "LOSS:4.03  ACC:0.91\n",
      "LOSS:0.74  ACC:0.94\n",
      "LOSS:2.27  ACC:0.81\n",
      "LOSS:4.86  ACC:0.75\n",
      "LOSS:3.90  ACC:0.88\n",
      "LOSS:3.21  ACC:0.88\n",
      "LOSS:2.47  ACC:0.78\n",
      "LOSS:0.88  ACC:0.91\n",
      "LOSS:1.66  ACC:0.88\n",
      "LOSS:2.23  ACC:0.84\n",
      "LOSS:1.29  ACC:0.91\n",
      "LOSS:1.50  ACC:0.84\n",
      "LOSS:2.00  ACC:0.88\n",
      "LOSS:3.35  ACC:0.78\n"
     ]
    },
    {
     "name": "stderr",
     "output_type": "stream",
     "text": [
      "\r",
      " 47%|█████████████████████████████████████████████████████████████████████▍                                                                              | 879/1875 [00:08<00:08, 115.42it/s]"
     ]
    },
    {
     "name": "stdout",
     "output_type": "stream",
     "text": [
      "LOSS:3.46  ACC:0.75\n",
      "LOSS:0.15  ACC:0.97\n",
      "LOSS:1.02  ACC:0.94\n",
      "LOSS:1.41  ACC:0.97\n",
      "LOSS:1.55  ACC:0.94\n",
      "LOSS:4.79  ACC:0.81\n",
      "LOSS:0.94  ACC:0.94\n",
      "LOSS:4.33  ACC:0.84\n",
      "LOSS:2.51  ACC:0.84\n"
     ]
    },
    {
     "name": "stderr",
     "output_type": "stream",
     "text": [
      "\r",
      " 48%|██████████████████████████████████████████████████████████████████████▎                                                                             | 891/1875 [00:08<00:08, 115.33it/s]"
     ]
    },
    {
     "name": "stdout",
     "output_type": "stream",
     "text": [
      "LOSS:1.70  ACC:0.94\n",
      "LOSS:0.30  ACC:0.94\n",
      "LOSS:0.05  ACC:0.97\n",
      "LOSS:9.67  ACC:0.75\n",
      "LOSS:2.99  ACC:0.88\n",
      "LOSS:2.17  ACC:0.88\n",
      "LOSS:0.03  ACC:1.00\n",
      "LOSS:3.00  ACC:0.91\n",
      "LOSS:2.98  ACC:0.88\n",
      "LOSS:4.66  ACC:0.88\n",
      "LOSS:1.13  ACC:0.88\n",
      "LOSS:8.54  ACC:0.72\n",
      "LOSS:7.89  ACC:0.72\n",
      "LOSS:0.15  ACC:0.91\n",
      "LOSS:2.69  ACC:0.84\n"
     ]
    },
    {
     "name": "stderr",
     "output_type": "stream",
     "text": [
      "\r",
      " 48%|███████████████████████████████████████████████████████████████████████▎                                                                            | 903/1875 [00:08<00:08, 115.92it/s]"
     ]
    },
    {
     "name": "stdout",
     "output_type": "stream",
     "text": [
      "LOSS:0.66  ACC:0.88\n",
      "LOSS:3.24  ACC:0.88\n",
      "LOSS:1.23  ACC:0.88\n",
      "LOSS:2.86  ACC:0.81\n",
      "LOSS:3.12  ACC:0.81\n",
      "LOSS:0.92  ACC:0.91\n",
      "LOSS:4.17  ACC:0.78\n",
      "LOSS:1.77  ACC:0.84\n"
     ]
    },
    {
     "name": "stderr",
     "output_type": "stream",
     "text": [
      "\r",
      " 49%|████████████████████████████████████████████████████████████████████████▏                                                                           | 915/1875 [00:08<00:09, 104.55it/s]"
     ]
    },
    {
     "name": "stdout",
     "output_type": "stream",
     "text": [
      "LOSS:2.84  ACC:0.75\n",
      "LOSS:1.52  ACC:0.84\n",
      "LOSS:3.92  ACC:0.91\n",
      "LOSS:2.00  ACC:0.78\n",
      "LOSS:3.10  ACC:0.75\n",
      "LOSS:6.54  ACC:0.69\n",
      "LOSS:6.14  ACC:0.69\n",
      "LOSS:3.02  ACC:0.75\n",
      "LOSS:2.82  ACC:0.91\n",
      "LOSS:6.16  ACC:0.78\n",
      "LOSS:2.16  ACC:0.88\n",
      "LOSS:0.66  ACC:0.88\n",
      "LOSS:2.58  ACC:0.84\n",
      "LOSS:2.38  ACC:0.94\n",
      "LOSS:0.81  ACC:0.88\n",
      "LOSS:2.89  ACC:0.91\n",
      "LOSS:1.62  ACC:0.88\n",
      "LOSS:1.52  ACC:0.91\n",
      "LOSS:3.97  ACC:0.78\n"
     ]
    },
    {
     "name": "stderr",
     "output_type": "stream",
     "text": [
      " 50%|██████████████████████████████████████████████████████████████████████████                                                                          | 938/1875 [00:08<00:08, 106.59it/s]"
     ]
    },
    {
     "name": "stdout",
     "output_type": "stream",
     "text": [
      "LOSS:0.61  ACC:0.94\n",
      "LOSS:2.48  ACC:0.81\n",
      "LOSS:1.57  ACC:0.91\n",
      "LOSS:3.41  ACC:0.84\n",
      "LOSS:3.10  ACC:0.88\n",
      "LOSS:1.33  ACC:0.88\n",
      "LOSS:1.09  ACC:0.88\n",
      "LOSS:3.30  ACC:0.78\n",
      "LOSS:1.72  ACC:0.88\n",
      "LOSS:1.93  ACC:0.72\n",
      "LOSS:4.02  ACC:0.81\n",
      "LOSS:5.71  ACC:0.84\n",
      "LOSS:1.36  ACC:0.91\n",
      "LOSS:1.91  ACC:0.78\n",
      "LOSS:2.14  ACC:0.91\n",
      "LOSS:2.24  ACC:0.84\n",
      "LOSS:5.02  ACC:0.88\n",
      "LOSS:4.38  ACC:0.88\n",
      "LOSS:1.49  ACC:0.91\n",
      "LOSS:3.98  ACC:0.75\n",
      "LOSS:3.00  ACC:0.78\n",
      "LOSS:0.48  ACC:0.97\n"
     ]
    },
    {
     "name": "stderr",
     "output_type": "stream",
     "text": [
      "\r",
      " 51%|██████████████████████████████████████████████████████████████████████████▉                                                                         | 949/1875 [00:09<00:09, 102.20it/s]"
     ]
    },
    {
     "name": "stdout",
     "output_type": "stream",
     "text": [
      "LOSS:1.71  ACC:0.94\n",
      "LOSS:1.16  ACC:0.91\n",
      "LOSS:1.50  ACC:0.91\n",
      "LOSS:1.20  ACC:0.84\n",
      "LOSS:3.96  ACC:0.75\n",
      "LOSS:5.73  ACC:0.66\n",
      "LOSS:4.07  ACC:0.78\n",
      "LOSS:4.41  ACC:0.72\n",
      "LOSS:0.77  ACC:0.91\n",
      "LOSS:2.89  ACC:0.84\n",
      "LOSS:3.04  ACC:0.78\n"
     ]
    },
    {
     "name": "stderr",
     "output_type": "stream",
     "text": [
      "\r",
      " 51%|████████████████████████████████████████████████████████████████████████████▎                                                                        | 960/1875 [00:09<00:09, 98.38it/s]"
     ]
    },
    {
     "name": "stdout",
     "output_type": "stream",
     "text": [
      "LOSS:1.42  ACC:0.88\n",
      "LOSS:4.96  ACC:0.84\n",
      "LOSS:3.38  ACC:0.81\n",
      "LOSS:2.24  ACC:0.91\n",
      "LOSS:4.07  ACC:0.81\n",
      "LOSS:2.94  ACC:0.88\n",
      "LOSS:1.42  ACC:0.88\n",
      "LOSS:5.60  ACC:0.88\n",
      "LOSS:1.73  ACC:0.88\n",
      "LOSS:1.52  ACC:0.91\n"
     ]
    },
    {
     "name": "stderr",
     "output_type": "stream",
     "text": [
      "\r",
      " 52%|████████████████████████████████████████████████████████████████████████████▋                                                                       | 972/1875 [00:09<00:08, 103.39it/s]"
     ]
    },
    {
     "name": "stdout",
     "output_type": "stream",
     "text": [
      "LOSS:2.47  ACC:0.91\n",
      "LOSS:0.88  ACC:0.91\n",
      "LOSS:2.36  ACC:0.91\n",
      "LOSS:2.20  ACC:0.88\n",
      "LOSS:6.43  ACC:0.75\n",
      "LOSS:1.48  ACC:0.88\n",
      "LOSS:6.82  ACC:0.84\n",
      "LOSS:1.56  ACC:0.91\n",
      "LOSS:2.03  ACC:0.91\n",
      "LOSS:2.27  ACC:0.78\n",
      "LOSS:9.14  ACC:0.75\n",
      "LOSS:9.24  ACC:0.75\n",
      "LOSS:7.70  ACC:0.62\n",
      "LOSS:6.94  ACC:0.81\n"
     ]
    },
    {
     "name": "stderr",
     "output_type": "stream",
     "text": [
      "\r",
      " 52%|█████████████████████████████████████████████████████████████████████████████▋                                                                      | 984/1875 [00:09<00:08, 107.89it/s]"
     ]
    },
    {
     "name": "stdout",
     "output_type": "stream",
     "text": [
      "LOSS:3.85  ACC:0.78\n",
      "LOSS:2.83  ACC:0.88\n",
      "LOSS:1.71  ACC:0.88\n",
      "LOSS:0.20  ACC:0.94\n",
      "LOSS:2.81  ACC:0.88\n",
      "LOSS:1.62  ACC:0.81\n",
      "LOSS:0.81  ACC:0.94\n",
      "LOSS:4.86  ACC:0.72\n",
      "LOSS:4.70  ACC:0.75\n",
      "LOSS:3.83  ACC:0.84\n",
      "LOSS:3.44  ACC:0.81\n"
     ]
    },
    {
     "name": "stderr",
     "output_type": "stream",
     "text": [
      "\r",
      " 53%|██████████████████████████████████████████████████████████████████████████████▌                                                                     | 996/1875 [00:09<00:07, 110.30it/s]"
     ]
    },
    {
     "name": "stdout",
     "output_type": "stream",
     "text": [
      "LOSS:5.79  ACC:0.75\n",
      "LOSS:1.46  ACC:0.91\n",
      "LOSS:2.94  ACC:0.81\n",
      "LOSS:3.34  ACC:0.81\n",
      "LOSS:0.01  ACC:1.00\n",
      "LOSS:3.56  ACC:0.84\n",
      "LOSS:3.89  ACC:0.75\n",
      "LOSS:5.42  ACC:0.75\n",
      "LOSS:3.27  ACC:0.75\n",
      "LOSS:2.30  ACC:0.88\n",
      "LOSS:1.89  ACC:0.81\n",
      "LOSS:5.79  ACC:0.72\n",
      "LOSS:6.99  ACC:0.72\n"
     ]
    },
    {
     "name": "stderr",
     "output_type": "stream",
     "text": [
      "\r",
      " 54%|███████████████████████████████████████████████████████████████████████████████                                                                    | 1008/1875 [00:09<00:07, 112.88it/s]"
     ]
    },
    {
     "name": "stdout",
     "output_type": "stream",
     "text": [
      "LOSS:2.42  ACC:0.88\n",
      "LOSS:3.09  ACC:0.81\n",
      "LOSS:4.69  ACC:0.81\n",
      "LOSS:1.89  ACC:0.84\n",
      "LOSS:6.51  ACC:0.62\n",
      "LOSS:4.21  ACC:0.75\n",
      "LOSS:8.64  ACC:0.66\n",
      "LOSS:5.93  ACC:0.75\n",
      "LOSS:14.67  ACC:0.62\n",
      "LOSS:7.55  ACC:0.62\n",
      "LOSS:1.08  ACC:0.97\n"
     ]
    },
    {
     "name": "stderr",
     "output_type": "stream",
     "text": [
      "\r",
      " 54%|███████████████████████████████████████████████████████████████████████████████▉                                                                   | 1020/1875 [00:09<00:07, 113.86it/s]"
     ]
    },
    {
     "name": "stdout",
     "output_type": "stream",
     "text": [
      "LOSS:3.60  ACC:0.84\n",
      "LOSS:1.54  ACC:0.91\n",
      "LOSS:1.29  ACC:0.88\n",
      "LOSS:2.98  ACC:0.94\n",
      "LOSS:1.57  ACC:0.91\n",
      "LOSS:2.34  ACC:0.91\n",
      "LOSS:1.05  ACC:0.88\n",
      "LOSS:5.54  ACC:0.81\n",
      "LOSS:2.69  ACC:0.81\n",
      "LOSS:3.37  ACC:0.81\n",
      "LOSS:3.08  ACC:0.84\n",
      "LOSS:3.46  ACC:0.81\n",
      "LOSS:2.36  ACC:0.88\n"
     ]
    },
    {
     "name": "stderr",
     "output_type": "stream",
     "text": [
      "\r",
      " 55%|████████████████████████████████████████████████████████████████████████████████▉                                                                  | 1032/1875 [00:09<00:07, 115.46it/s]"
     ]
    },
    {
     "name": "stdout",
     "output_type": "stream",
     "text": [
      "LOSS:2.15  ACC:0.91\n",
      "LOSS:3.75  ACC:0.91\n",
      "LOSS:0.53  ACC:0.91\n",
      "LOSS:2.44  ACC:0.91\n",
      "LOSS:0.63  ACC:0.91\n",
      "LOSS:2.64  ACC:0.88\n",
      "LOSS:1.36  ACC:0.94\n",
      "LOSS:4.09  ACC:0.81\n",
      "LOSS:3.68  ACC:0.88\n",
      "LOSS:1.73  ACC:0.94\n",
      "LOSS:2.82  ACC:0.88\n",
      "LOSS:2.69  ACC:0.81\n"
     ]
    },
    {
     "name": "stderr",
     "output_type": "stream",
     "text": [
      "\r",
      " 56%|█████████████████████████████████████████████████████████████████████████████████▊                                                                 | 1044/1875 [00:09<00:07, 116.33it/s]"
     ]
    },
    {
     "name": "stdout",
     "output_type": "stream",
     "text": [
      "LOSS:4.39  ACC:0.75\n",
      "LOSS:2.08  ACC:0.88\n",
      "LOSS:4.83  ACC:0.75\n",
      "LOSS:2.64  ACC:0.81\n",
      "LOSS:0.25  ACC:0.97\n",
      "LOSS:1.99  ACC:0.88\n",
      "LOSS:1.32  ACC:0.94\n",
      "LOSS:3.29  ACC:0.84\n",
      "LOSS:2.71  ACC:0.84\n",
      "LOSS:0.04  ACC:0.97\n",
      "LOSS:1.10  ACC:0.97\n",
      "LOSS:0.26  ACC:0.91\n"
     ]
    },
    {
     "name": "stderr",
     "output_type": "stream",
     "text": [
      "\r",
      " 56%|██████████████████████████████████████████████████████████████████████████████████▊                                                                | 1056/1875 [00:09<00:07, 116.62it/s]"
     ]
    },
    {
     "name": "stdout",
     "output_type": "stream",
     "text": [
      "LOSS:0.41  ACC:0.94\n",
      "LOSS:3.13  ACC:0.81\n",
      "LOSS:0.32  ACC:0.94\n",
      "LOSS:0.52  ACC:0.94\n",
      "LOSS:0.28  ACC:0.97\n",
      "LOSS:0.81  ACC:0.94\n",
      "LOSS:0.73  ACC:0.97\n",
      "LOSS:1.24  ACC:0.84\n",
      "LOSS:1.29  ACC:0.94\n",
      "LOSS:0.01  ACC:1.00\n",
      "LOSS:3.65  ACC:0.81\n",
      "LOSS:0.65  ACC:0.88\n"
     ]
    },
    {
     "name": "stderr",
     "output_type": "stream",
     "text": [
      "\r",
      " 57%|███████████████████████████████████████████████████████████████████████████████████▋                                                               | 1068/1875 [00:10<00:06, 116.10it/s]"
     ]
    },
    {
     "name": "stdout",
     "output_type": "stream",
     "text": [
      "LOSS:2.46  ACC:0.94\n",
      "LOSS:0.01  ACC:1.00\n",
      "LOSS:1.76  ACC:0.88\n",
      "LOSS:2.33  ACC:0.88\n",
      "LOSS:2.39  ACC:0.88\n",
      "LOSS:0.47  ACC:0.97\n",
      "LOSS:1.24  ACC:0.88\n",
      "LOSS:0.85  ACC:0.94\n",
      "LOSS:0.44  ACC:0.91\n",
      "LOSS:4.59  ACC:0.88\n",
      "LOSS:4.84  ACC:0.81\n",
      "LOSS:2.32  ACC:0.84\n"
     ]
    },
    {
     "name": "stderr",
     "output_type": "stream",
     "text": [
      "\r",
      " 58%|████████████████████████████████████████████████████████████████████████████████████▋                                                              | 1080/1875 [00:10<00:06, 115.92it/s]"
     ]
    },
    {
     "name": "stdout",
     "output_type": "stream",
     "text": [
      "LOSS:4.54  ACC:0.88\n",
      "LOSS:3.98  ACC:0.75\n",
      "LOSS:2.27  ACC:0.84\n",
      "LOSS:3.10  ACC:0.84\n",
      "LOSS:1.00  ACC:0.91\n",
      "LOSS:5.71  ACC:0.84\n",
      "LOSS:5.14  ACC:0.72\n",
      "LOSS:3.30  ACC:0.78\n",
      "LOSS:3.21  ACC:0.88\n",
      "LOSS:4.92  ACC:0.84\n"
     ]
    },
    {
     "name": "stderr",
     "output_type": "stream",
     "text": [
      "\r",
      " 58%|█████████████████████████████████████████████████████████████████████████████████████▌                                                             | 1092/1875 [00:10<00:07, 109.61it/s]"
     ]
    },
    {
     "name": "stdout",
     "output_type": "stream",
     "text": [
      "LOSS:5.74  ACC:0.75\n",
      "LOSS:4.03  ACC:0.81\n",
      "LOSS:5.38  ACC:0.78\n",
      "LOSS:2.10  ACC:0.78\n",
      "LOSS:1.32  ACC:0.94\n",
      "LOSS:1.52  ACC:0.88\n",
      "LOSS:0.52  ACC:0.91\n",
      "LOSS:2.65  ACC:0.81\n",
      "LOSS:0.62  ACC:0.94\n",
      "LOSS:1.82  ACC:0.84\n",
      "LOSS:1.55  ACC:0.91\n"
     ]
    },
    {
     "name": "stderr",
     "output_type": "stream",
     "text": [
      "\r",
      " 59%|██████████████████████████████████████████████████████████████████████████████████████▌                                                            | 1104/1875 [00:10<00:07, 106.40it/s]"
     ]
    },
    {
     "name": "stdout",
     "output_type": "stream",
     "text": [
      "LOSS:3.12  ACC:0.81\n",
      "LOSS:2.80  ACC:0.78\n",
      "LOSS:4.18  ACC:0.78\n",
      "LOSS:1.40  ACC:0.91\n",
      "LOSS:1.37  ACC:0.88\n",
      "LOSS:1.44  ACC:0.84\n",
      "LOSS:1.59  ACC:0.94\n",
      "LOSS:4.14  ACC:0.78\n",
      "LOSS:1.56  ACC:0.94\n",
      "LOSS:3.68  ACC:0.78\n"
     ]
    },
    {
     "name": "stderr",
     "output_type": "stream",
     "text": [
      "\r",
      " 59%|███████████████████████████████████████████████████████████████████████████████████████▍                                                           | 1115/1875 [00:10<00:07, 105.04it/s]"
     ]
    },
    {
     "name": "stdout",
     "output_type": "stream",
     "text": [
      "LOSS:2.21  ACC:0.91\n",
      "LOSS:1.66  ACC:0.91\n",
      "LOSS:2.20  ACC:0.84\n",
      "LOSS:2.56  ACC:0.88\n",
      "LOSS:5.51  ACC:0.69\n",
      "LOSS:4.28  ACC:0.84\n",
      "LOSS:2.99  ACC:0.88\n",
      "LOSS:0.64  ACC:0.94\n",
      "LOSS:2.40  ACC:0.84\n",
      "LOSS:3.29  ACC:0.81\n",
      "LOSS:1.32  ACC:0.84\n"
     ]
    },
    {
     "name": "stderr",
     "output_type": "stream",
     "text": [
      "\r",
      " 60%|████████████████████████████████████████████████████████████████████████████████████████▎                                                          | 1126/1875 [00:10<00:07, 101.48it/s]"
     ]
    },
    {
     "name": "stdout",
     "output_type": "stream",
     "text": [
      "LOSS:1.51  ACC:0.94\n",
      "LOSS:2.38  ACC:0.88\n",
      "LOSS:2.73  ACC:0.84\n",
      "LOSS:1.76  ACC:0.84\n",
      "LOSS:3.87  ACC:0.84\n",
      "LOSS:1.19  ACC:0.91\n",
      "LOSS:1.55  ACC:0.81\n",
      "LOSS:1.96  ACC:0.91\n",
      "LOSS:3.37  ACC:0.88\n"
     ]
    },
    {
     "name": "stderr",
     "output_type": "stream",
     "text": [
      "\r",
      " 61%|█████████████████████████████████████████████████████████████████████████████████████████▋                                                          | 1137/1875 [00:10<00:07, 99.61it/s]"
     ]
    },
    {
     "name": "stdout",
     "output_type": "stream",
     "text": [
      "LOSS:2.12  ACC:0.81\n",
      "LOSS:2.64  ACC:0.84\n",
      "LOSS:0.29  ACC:0.88\n",
      "LOSS:1.73  ACC:0.91\n",
      "LOSS:3.32  ACC:0.84\n",
      "LOSS:0.86  ACC:0.97\n",
      "LOSS:0.73  ACC:0.91\n",
      "LOSS:1.10  ACC:0.84\n",
      "LOSS:3.99  ACC:0.84\n",
      "LOSS:2.38  ACC:0.94\n",
      "LOSS:2.57  ACC:0.94\n"
     ]
    },
    {
     "name": "stderr",
     "output_type": "stream",
     "text": [
      "\r",
      " 61%|██████████████████████████████████████████████████████████████████████████████████████████▌                                                         | 1147/1875 [00:10<00:07, 99.31it/s]"
     ]
    },
    {
     "name": "stdout",
     "output_type": "stream",
     "text": [
      "LOSS:2.61  ACC:0.81\n",
      "LOSS:1.14  ACC:0.94\n",
      "LOSS:1.63  ACC:0.94\n",
      "LOSS:3.26  ACC:0.81\n",
      "LOSS:0.00  ACC:1.00\n",
      "LOSS:2.27  ACC:0.84\n",
      "LOSS:0.00  ACC:1.00\n",
      "LOSS:2.08  ACC:0.88\n",
      "LOSS:4.03  ACC:0.81\n"
     ]
    },
    {
     "name": "stderr",
     "output_type": "stream",
     "text": [
      "\r",
      " 62%|███████████████████████████████████████████████████████████████████████████████████████████▎                                                        | 1157/1875 [00:10<00:07, 94.47it/s]"
     ]
    },
    {
     "name": "stdout",
     "output_type": "stream",
     "text": [
      "LOSS:4.82  ACC:0.75\n",
      "LOSS:6.79  ACC:0.72\n",
      "LOSS:2.82  ACC:0.81\n",
      "LOSS:3.24  ACC:0.84\n",
      "LOSS:1.25  ACC:0.91\n",
      "LOSS:3.58  ACC:0.84\n",
      "LOSS:0.28  ACC:0.97\n",
      "LOSS:0.03  ACC:0.97\n",
      "LOSS:6.47  ACC:0.81\n"
     ]
    },
    {
     "name": "stderr",
     "output_type": "stream",
     "text": [
      "\r",
      " 62%|████████████████████████████████████████████████████████████████████████████████████████████▏                                                       | 1168/1875 [00:11<00:07, 97.57it/s]"
     ]
    },
    {
     "name": "stdout",
     "output_type": "stream",
     "text": [
      "LOSS:5.77  ACC:0.69\n",
      "LOSS:3.94  ACC:0.81\n",
      "LOSS:2.18  ACC:0.84\n",
      "LOSS:5.01  ACC:0.84\n",
      "LOSS:2.18  ACC:0.91\n",
      "LOSS:1.23  ACC:0.88\n",
      "LOSS:8.96  ACC:0.81\n",
      "LOSS:7.91  ACC:0.75\n",
      "LOSS:4.06  ACC:0.78\n",
      "LOSS:7.56  ACC:0.84\n",
      "LOSS:9.71  ACC:0.69\n",
      "LOSS:2.25  ACC:0.81\n"
     ]
    },
    {
     "name": "stderr",
     "output_type": "stream",
     "text": [
      "\r",
      " 63%|████████████████████████████████████████████████████████████████████████████████████████████▉                                                       | 1178/1875 [00:11<00:07, 96.47it/s]"
     ]
    },
    {
     "name": "stdout",
     "output_type": "stream",
     "text": [
      "LOSS:6.70  ACC:0.75\n",
      "LOSS:2.26  ACC:0.75\n",
      "LOSS:10.78  ACC:0.62\n",
      "LOSS:4.88  ACC:0.81\n",
      "LOSS:3.03  ACC:0.88\n",
      "LOSS:2.09  ACC:0.84\n",
      "LOSS:2.73  ACC:0.78\n",
      "LOSS:2.11  ACC:0.88\n",
      "LOSS:5.54  ACC:0.75\n"
     ]
    },
    {
     "name": "stderr",
     "output_type": "stream",
     "text": [
      "\r",
      " 63%|█████████████████████████████████████████████████████████████████████████████████████████████▊                                                      | 1188/1875 [00:11<00:07, 93.65it/s]"
     ]
    },
    {
     "name": "stdout",
     "output_type": "stream",
     "text": [
      "LOSS:4.11  ACC:0.88\n",
      "LOSS:2.35  ACC:0.91\n",
      "LOSS:3.59  ACC:0.84\n",
      "LOSS:3.65  ACC:0.94\n",
      "LOSS:4.48  ACC:0.72\n",
      "LOSS:2.32  ACC:0.84\n",
      "LOSS:4.26  ACC:0.78\n",
      "LOSS:5.40  ACC:0.91\n",
      "LOSS:2.94  ACC:0.88\n"
     ]
    },
    {
     "name": "stderr",
     "output_type": "stream",
     "text": [
      "\r",
      " 64%|██████████████████████████████████████████████████████████████████████████████████████████████▋                                                     | 1200/1875 [00:11<00:06, 99.19it/s]"
     ]
    },
    {
     "name": "stdout",
     "output_type": "stream",
     "text": [
      "LOSS:2.76  ACC:0.81\n",
      "LOSS:2.01  ACC:0.88\n",
      "LOSS:3.53  ACC:0.81\n",
      "LOSS:2.08  ACC:0.88\n",
      "LOSS:0.50  ACC:0.91\n",
      "LOSS:2.37  ACC:0.88\n",
      "LOSS:0.28  ACC:0.91\n",
      "LOSS:4.50  ACC:0.72\n",
      "LOSS:0.35  ACC:0.88\n",
      "LOSS:4.15  ACC:0.84\n",
      "LOSS:3.17  ACC:0.78\n",
      "LOSS:2.34  ACC:0.81\n"
     ]
    },
    {
     "name": "stderr",
     "output_type": "stream",
     "text": [
      "\r",
      " 65%|███████████████████████████████████████████████████████████████████████████████████████████████                                                    | 1212/1875 [00:11<00:06, 104.81it/s]"
     ]
    },
    {
     "name": "stdout",
     "output_type": "stream",
     "text": [
      "LOSS:2.36  ACC:0.72\n",
      "LOSS:1.64  ACC:0.88\n",
      "LOSS:1.10  ACC:0.97\n",
      "LOSS:4.11  ACC:0.81\n",
      "LOSS:1.64  ACC:0.91\n",
      "LOSS:4.82  ACC:0.84\n",
      "LOSS:7.66  ACC:0.66\n",
      "LOSS:3.58  ACC:0.91\n",
      "LOSS:4.20  ACC:0.81\n",
      "LOSS:3.29  ACC:0.81\n",
      "LOSS:1.27  ACC:0.91\n",
      "LOSS:4.07  ACC:0.84\n"
     ]
    },
    {
     "name": "stderr",
     "output_type": "stream",
     "text": [
      "\r",
      " 65%|███████████████████████████████████████████████████████████████████████████████████████████████▉                                                   | 1224/1875 [00:11<00:06, 108.06it/s]"
     ]
    },
    {
     "name": "stdout",
     "output_type": "stream",
     "text": [
      "LOSS:1.67  ACC:0.84\n",
      "LOSS:1.17  ACC:0.97\n",
      "LOSS:0.48  ACC:0.97\n",
      "LOSS:3.13  ACC:0.91\n",
      "LOSS:1.43  ACC:0.88\n",
      "LOSS:1.41  ACC:0.97\n",
      "LOSS:0.45  ACC:0.94\n",
      "LOSS:2.32  ACC:0.94\n",
      "LOSS:1.56  ACC:0.97\n",
      "LOSS:0.66  ACC:0.91\n",
      "LOSS:1.48  ACC:0.81\n",
      "LOSS:2.65  ACC:0.75\n"
     ]
    },
    {
     "name": "stderr",
     "output_type": "stream",
     "text": [
      "\r",
      " 66%|████████████████████████████████████████████████████████████████████████████████████████████████▉                                                  | 1236/1875 [00:11<00:05, 110.35it/s]"
     ]
    },
    {
     "name": "stdout",
     "output_type": "stream",
     "text": [
      "LOSS:2.38  ACC:0.97\n",
      "LOSS:2.42  ACC:0.91\n",
      "LOSS:1.81  ACC:0.91\n",
      "LOSS:3.16  ACC:0.84\n",
      "LOSS:7.90  ACC:0.75\n",
      "LOSS:4.20  ACC:0.75\n",
      "LOSS:1.47  ACC:0.91\n",
      "LOSS:9.19  ACC:0.75\n",
      "LOSS:5.63  ACC:0.78\n",
      "LOSS:5.97  ACC:0.81\n",
      "LOSS:0.83  ACC:0.88\n",
      "LOSS:2.44  ACC:0.75\n"
     ]
    },
    {
     "name": "stderr",
     "output_type": "stream",
     "text": [
      "\r",
      " 67%|█████████████████████████████████████████████████████████████████████████████████████████████████▊                                                 | 1248/1875 [00:11<00:05, 111.73it/s]"
     ]
    },
    {
     "name": "stdout",
     "output_type": "stream",
     "text": [
      "LOSS:3.07  ACC:0.91\n",
      "LOSS:2.92  ACC:0.84\n",
      "LOSS:1.76  ACC:0.88\n",
      "LOSS:3.28  ACC:0.81\n",
      "LOSS:5.10  ACC:0.84\n",
      "LOSS:0.49  ACC:0.94\n",
      "LOSS:1.59  ACC:0.81\n",
      "LOSS:3.19  ACC:0.84\n",
      "LOSS:0.67  ACC:0.91\n",
      "LOSS:1.43  ACC:0.94\n",
      "LOSS:2.12  ACC:0.91\n",
      "LOSS:1.28  ACC:0.94\n"
     ]
    },
    {
     "name": "stderr",
     "output_type": "stream",
     "text": [
      "\r",
      " 67%|██████████████████████████████████████████████████████████████████████████████████████████████████▊                                                | 1260/1875 [00:11<00:05, 113.01it/s]"
     ]
    },
    {
     "name": "stdout",
     "output_type": "stream",
     "text": [
      "LOSS:4.34  ACC:0.78\n",
      "LOSS:1.34  ACC:0.91\n",
      "LOSS:2.14  ACC:0.88\n",
      "LOSS:2.64  ACC:0.81\n",
      "LOSS:3.66  ACC:0.78\n",
      "LOSS:0.78  ACC:0.91\n",
      "LOSS:4.17  ACC:0.84\n",
      "LOSS:2.01  ACC:0.84\n",
      "LOSS:0.71  ACC:0.91\n",
      "LOSS:0.84  ACC:0.91\n",
      "LOSS:0.38  ACC:0.94\n",
      "LOSS:1.86  ACC:0.94\n"
     ]
    },
    {
     "name": "stderr",
     "output_type": "stream",
     "text": [
      "\r",
      " 68%|███████████████████████████████████████████████████████████████████████████████████████████████████▋                                               | 1272/1875 [00:12<00:05, 113.74it/s]"
     ]
    },
    {
     "name": "stdout",
     "output_type": "stream",
     "text": [
      "LOSS:0.86  ACC:0.94\n",
      "LOSS:3.42  ACC:0.91\n",
      "LOSS:1.04  ACC:0.84\n",
      "LOSS:2.98  ACC:0.91\n",
      "LOSS:2.89  ACC:0.91\n",
      "LOSS:3.86  ACC:0.78\n",
      "LOSS:4.91  ACC:0.88\n",
      "LOSS:4.98  ACC:0.81\n",
      "LOSS:8.04  ACC:0.62\n",
      "LOSS:4.93  ACC:0.78\n",
      "LOSS:6.71  ACC:0.72\n",
      "LOSS:1.87  ACC:0.91\n"
     ]
    },
    {
     "name": "stderr",
     "output_type": "stream",
     "text": [
      "\r",
      " 68%|████████████████████████████████████████████████████████████████████████████████████████████████████▋                                              | 1284/1875 [00:12<00:05, 114.14it/s]"
     ]
    },
    {
     "name": "stdout",
     "output_type": "stream",
     "text": [
      "LOSS:2.81  ACC:0.94\n",
      "LOSS:2.42  ACC:0.94\n",
      "LOSS:1.98  ACC:0.91\n",
      "LOSS:2.96  ACC:0.81\n",
      "LOSS:0.65  ACC:0.91\n",
      "LOSS:2.38  ACC:0.84\n",
      "LOSS:2.03  ACC:0.94\n",
      "LOSS:1.67  ACC:0.94\n",
      "LOSS:4.66  ACC:0.81\n",
      "LOSS:4.44  ACC:0.84\n",
      "LOSS:2.48  ACC:0.94\n",
      "LOSS:1.63  ACC:0.88\n"
     ]
    },
    {
     "name": "stderr",
     "output_type": "stream",
     "text": [
      "\r",
      " 69%|█████████████████████████████████████████████████████████████████████████████████████████████████████▌                                             | 1296/1875 [00:12<00:05, 113.97it/s]"
     ]
    },
    {
     "name": "stdout",
     "output_type": "stream",
     "text": [
      "LOSS:3.34  ACC:0.84\n",
      "LOSS:0.38  ACC:0.94\n",
      "LOSS:0.60  ACC:0.94\n",
      "LOSS:2.70  ACC:0.78\n",
      "LOSS:1.69  ACC:0.91\n",
      "LOSS:3.48  ACC:0.88\n",
      "LOSS:3.09  ACC:0.84\n",
      "LOSS:6.49  ACC:0.66\n",
      "LOSS:2.87  ACC:0.78\n",
      "LOSS:3.62  ACC:0.88\n",
      "LOSS:5.96  ACC:0.81\n",
      "LOSS:6.12  ACC:0.84\n"
     ]
    },
    {
     "name": "stderr",
     "output_type": "stream",
     "text": [
      "\r",
      " 70%|██████████████████████████████████████████████████████████████████████████████████████████████████████▌                                            | 1308/1875 [00:12<00:04, 114.42it/s]"
     ]
    },
    {
     "name": "stdout",
     "output_type": "stream",
     "text": [
      "LOSS:1.82  ACC:0.88\n",
      "LOSS:2.68  ACC:0.91\n",
      "LOSS:4.81  ACC:0.75\n",
      "LOSS:3.27  ACC:0.81\n",
      "LOSS:3.25  ACC:0.81\n",
      "LOSS:0.02  ACC:1.00\n",
      "LOSS:0.74  ACC:0.91\n",
      "LOSS:3.15  ACC:0.81\n",
      "LOSS:1.87  ACC:0.88\n",
      "LOSS:2.61  ACC:0.88\n",
      "LOSS:1.69  ACC:0.91\n",
      "LOSS:0.47  ACC:0.88\n"
     ]
    },
    {
     "name": "stderr",
     "output_type": "stream",
     "text": [
      "\r",
      " 70%|███████████████████████████████████████████████████████████████████████████████████████████████████████▍                                           | 1320/1875 [00:12<00:04, 114.26it/s]"
     ]
    },
    {
     "name": "stdout",
     "output_type": "stream",
     "text": [
      "LOSS:0.41  ACC:0.97\n",
      "LOSS:1.88  ACC:0.84\n",
      "LOSS:5.90  ACC:0.75\n",
      "LOSS:2.78  ACC:0.84\n",
      "LOSS:4.32  ACC:0.84\n",
      "LOSS:3.82  ACC:0.88\n",
      "LOSS:2.01  ACC:0.94\n",
      "LOSS:4.95  ACC:0.75\n",
      "LOSS:5.21  ACC:0.69\n",
      "LOSS:1.10  ACC:0.94\n",
      "LOSS:3.50  ACC:0.84\n",
      "LOSS:2.46  ACC:0.84\n"
     ]
    },
    {
     "name": "stderr",
     "output_type": "stream",
     "text": [
      "\r",
      " 71%|████████████████████████████████████████████████████████████████████████████████████████████████████████▍                                          | 1332/1875 [00:12<00:04, 114.85it/s]"
     ]
    },
    {
     "name": "stdout",
     "output_type": "stream",
     "text": [
      "LOSS:2.71  ACC:0.84\n",
      "LOSS:1.38  ACC:0.84\n",
      "LOSS:5.95  ACC:0.75\n",
      "LOSS:8.56  ACC:0.75\n",
      "LOSS:0.77  ACC:0.91\n",
      "LOSS:2.05  ACC:0.91\n",
      "LOSS:7.17  ACC:0.78\n",
      "LOSS:6.64  ACC:0.84\n",
      "LOSS:10.02  ACC:0.75\n",
      "LOSS:0.78  ACC:0.94\n",
      "LOSS:1.51  ACC:0.91\n",
      "LOSS:1.54  ACC:0.88\n"
     ]
    },
    {
     "name": "stderr",
     "output_type": "stream",
     "text": [
      "\r",
      " 72%|█████████████████████████████████████████████████████████████████████████████████████████████████████████▎                                         | 1344/1875 [00:12<00:04, 114.82it/s]"
     ]
    },
    {
     "name": "stdout",
     "output_type": "stream",
     "text": [
      "LOSS:1.88  ACC:0.84\n",
      "LOSS:6.94  ACC:0.69\n",
      "LOSS:4.62  ACC:0.78\n",
      "LOSS:1.64  ACC:0.94\n",
      "LOSS:4.74  ACC:0.84\n",
      "LOSS:1.59  ACC:0.88\n",
      "LOSS:3.99  ACC:0.78\n",
      "LOSS:2.63  ACC:0.91\n",
      "LOSS:4.74  ACC:0.72\n",
      "LOSS:3.15  ACC:0.88\n",
      "LOSS:4.26  ACC:0.81\n",
      "LOSS:1.93  ACC:0.84\n",
      "LOSS:0.62  ACC:0.94\n",
      "LOSS:1.98  ACC:0.88\n",
      "LOSS:1.14  ACC:0.84\n",
      "LOSS:1.12  ACC:0.94\n",
      "LOSS:1.01  ACC:0.84\n",
      "LOSS:4.44  ACC:0.84\n",
      "LOSS:6.60  ACC:0.78\n",
      "LOSS:2.26  ACC:0.88\n",
      "LOSS:2.76  ACC:0.81\n",
      "LOSS:2.20  ACC:0.91\n",
      "LOSS:1.17  ACC:0.81\n"
     ]
    },
    {
     "name": "stderr",
     "output_type": "stream",
     "text": [
      " 73%|███████████████████████████████████████████████████████████████████████████████████████████████████████████▎                                       | 1368/1875 [00:12<00:04, 114.84it/s]"
     ]
    },
    {
     "name": "stdout",
     "output_type": "stream",
     "text": [
      "LOSS:0.14  ACC:0.97\n",
      "LOSS:1.09  ACC:0.94\n",
      "LOSS:0.82  ACC:0.91\n",
      "LOSS:0.87  ACC:0.94\n",
      "LOSS:1.43  ACC:0.91\n",
      "LOSS:3.66  ACC:0.84\n",
      "LOSS:1.91  ACC:0.88\n",
      "LOSS:0.32  ACC:0.97\n",
      "LOSS:0.88  ACC:0.94\n",
      "LOSS:2.84  ACC:0.88\n",
      "LOSS:1.34  ACC:0.91\n",
      "LOSS:0.30  ACC:0.97\n",
      "LOSS:1.22  ACC:0.91\n",
      "LOSS:3.64  ACC:0.81\n",
      "LOSS:2.98  ACC:0.91\n",
      "LOSS:2.58  ACC:0.88\n",
      "LOSS:2.22  ACC:0.88\n",
      "LOSS:1.87  ACC:0.91\n",
      "LOSS:4.22  ACC:0.84\n",
      "LOSS:2.62  ACC:0.88\n",
      "LOSS:0.00  ACC:1.00\n",
      "LOSS:1.40  ACC:0.88\n",
      "LOSS:0.70  ACC:0.91\n",
      "LOSS:2.91  ACC:0.81\n"
     ]
    },
    {
     "name": "stderr",
     "output_type": "stream",
     "text": [
      " 74%|█████████████████████████████████████████████████████████████████████████████████████████████████████████████▏                                     | 1392/1875 [00:13<00:04, 116.18it/s]"
     ]
    },
    {
     "name": "stdout",
     "output_type": "stream",
     "text": [
      "LOSS:1.70  ACC:0.81\n",
      "LOSS:1.46  ACC:0.97\n",
      "LOSS:0.07  ACC:0.97\n",
      "LOSS:2.08  ACC:0.91\n",
      "LOSS:1.65  ACC:0.91\n",
      "LOSS:3.20  ACC:0.78\n",
      "LOSS:2.05  ACC:0.81\n",
      "LOSS:6.85  ACC:0.81\n",
      "LOSS:0.80  ACC:0.88\n",
      "LOSS:3.48  ACC:0.88\n",
      "LOSS:4.49  ACC:0.91\n",
      "LOSS:4.98  ACC:0.78\n",
      "LOSS:0.72  ACC:0.94\n",
      "LOSS:1.17  ACC:0.84\n",
      "LOSS:0.09  ACC:0.97\n",
      "LOSS:0.85  ACC:0.88\n",
      "LOSS:1.84  ACC:0.91\n",
      "LOSS:1.90  ACC:0.88\n",
      "LOSS:1.38  ACC:0.88\n",
      "LOSS:4.51  ACC:0.78\n",
      "LOSS:0.24  ACC:0.94\n",
      "LOSS:0.99  ACC:0.88\n",
      "LOSS:2.75  ACC:0.88\n",
      "LOSS:5.82  ACC:0.81\n"
     ]
    },
    {
     "name": "stderr",
     "output_type": "stream",
     "text": [
      " 76%|███████████████████████████████████████████████████████████████████████████████████████████████████████████████                                    | 1416/1875 [00:13<00:03, 115.29it/s]"
     ]
    },
    {
     "name": "stdout",
     "output_type": "stream",
     "text": [
      "LOSS:5.21  ACC:0.69\n",
      "LOSS:1.92  ACC:0.88\n",
      "LOSS:4.14  ACC:0.84\n",
      "LOSS:3.26  ACC:0.91\n",
      "LOSS:4.74  ACC:0.84\n",
      "LOSS:0.92  ACC:0.91\n",
      "LOSS:7.14  ACC:0.84\n",
      "LOSS:4.16  ACC:0.81\n",
      "LOSS:1.53  ACC:0.94\n",
      "LOSS:1.63  ACC:0.91\n",
      "LOSS:1.42  ACC:0.91\n",
      "LOSS:2.57  ACC:0.84\n",
      "LOSS:2.53  ACC:0.81\n",
      "LOSS:0.00  ACC:1.00\n",
      "LOSS:2.32  ACC:0.84\n",
      "LOSS:0.95  ACC:0.91\n",
      "LOSS:4.03  ACC:0.78\n",
      "LOSS:5.73  ACC:0.81\n",
      "LOSS:5.37  ACC:0.78\n",
      "LOSS:3.90  ACC:0.75\n",
      "LOSS:1.24  ACC:0.91\n",
      "LOSS:0.34  ACC:0.94\n",
      "LOSS:6.53  ACC:0.75\n"
     ]
    },
    {
     "name": "stderr",
     "output_type": "stream",
     "text": [
      "\r",
      " 76%|███████████████████████████████████████████████████████████████████████████████████████████████████████████████▉                                   | 1428/1875 [00:13<00:03, 112.71it/s]"
     ]
    },
    {
     "name": "stdout",
     "output_type": "stream",
     "text": [
      "LOSS:7.85  ACC:0.69\n",
      "LOSS:3.59  ACC:0.84\n",
      "LOSS:4.15  ACC:0.88\n",
      "LOSS:3.32  ACC:0.88\n",
      "LOSS:4.38  ACC:0.81\n",
      "LOSS:5.90  ACC:0.81\n",
      "LOSS:0.09  ACC:0.97\n",
      "LOSS:3.71  ACC:0.78\n",
      "LOSS:4.14  ACC:0.88\n",
      "LOSS:1.61  ACC:0.91\n",
      "LOSS:3.82  ACC:0.84\n",
      "LOSS:2.00  ACC:0.88\n"
     ]
    },
    {
     "name": "stderr",
     "output_type": "stream",
     "text": [
      "\r",
      " 77%|████████████████████████████████████████████████████████████████████████████████████████████████████████████████▉                                  | 1440/1875 [00:13<00:03, 110.31it/s]"
     ]
    },
    {
     "name": "stdout",
     "output_type": "stream",
     "text": [
      "LOSS:2.55  ACC:0.78\n",
      "LOSS:1.29  ACC:0.94\n",
      "LOSS:3.18  ACC:0.88\n",
      "LOSS:4.26  ACC:0.72\n",
      "LOSS:1.75  ACC:0.84\n",
      "LOSS:4.42  ACC:0.75\n",
      "LOSS:0.02  ACC:1.00\n",
      "LOSS:8.32  ACC:0.75\n",
      "LOSS:10.61  ACC:0.75\n"
     ]
    },
    {
     "name": "stderr",
     "output_type": "stream",
     "text": [
      "\r",
      " 77%|█████████████████████████████████████████████████████████████████████████████████████████████████████████████████▊                                 | 1452/1875 [00:13<00:03, 107.52it/s]"
     ]
    },
    {
     "name": "stdout",
     "output_type": "stream",
     "text": [
      "LOSS:3.38  ACC:0.88\n",
      "LOSS:1.90  ACC:0.88\n",
      "LOSS:4.26  ACC:0.81\n",
      "LOSS:4.93  ACC:0.72\n",
      "LOSS:3.44  ACC:0.88\n",
      "LOSS:1.45  ACC:0.94\n",
      "LOSS:0.64  ACC:0.94\n",
      "LOSS:0.47  ACC:0.88\n",
      "LOSS:1.77  ACC:0.94\n",
      "LOSS:2.04  ACC:0.84\n",
      "LOSS:2.12  ACC:0.94\n",
      "LOSS:0.33  ACC:0.94\n"
     ]
    },
    {
     "name": "stderr",
     "output_type": "stream",
     "text": [
      "\r",
      " 78%|██████████████████████████████████████████████████████████████████████████████████████████████████████████████████▋                                | 1463/1875 [00:13<00:03, 105.55it/s]"
     ]
    },
    {
     "name": "stdout",
     "output_type": "stream",
     "text": [
      "LOSS:0.86  ACC:0.88\n",
      "LOSS:5.90  ACC:0.75\n",
      "LOSS:1.79  ACC:0.88\n",
      "LOSS:3.02  ACC:0.97\n",
      "LOSS:0.49  ACC:0.91\n",
      "LOSS:2.10  ACC:0.91\n",
      "LOSS:3.84  ACC:0.84\n",
      "LOSS:4.02  ACC:0.91\n",
      "LOSS:1.03  ACC:0.97\n"
     ]
    },
    {
     "name": "stderr",
     "output_type": "stream",
     "text": [
      "\r",
      " 79%|███████████████████████████████████████████████████████████████████████████████████████████████████████████████████▌                               | 1474/1875 [00:13<00:03, 105.51it/s]"
     ]
    },
    {
     "name": "stdout",
     "output_type": "stream",
     "text": [
      "LOSS:0.86  ACC:0.91\n",
      "LOSS:2.37  ACC:0.84\n",
      "LOSS:0.83  ACC:0.88\n",
      "LOSS:2.12  ACC:0.94\n",
      "LOSS:1.63  ACC:0.94\n",
      "LOSS:0.98  ACC:0.91\n",
      "LOSS:1.25  ACC:0.91\n",
      "LOSS:4.22  ACC:0.88\n",
      "LOSS:3.89  ACC:0.78\n",
      "LOSS:3.62  ACC:0.81\n",
      "LOSS:1.71  ACC:0.84\n",
      "LOSS:2.50  ACC:0.94\n",
      "LOSS:3.27  ACC:0.84\n"
     ]
    },
    {
     "name": "stderr",
     "output_type": "stream",
     "text": [
      "\r",
      " 79%|████████████████████████████████████████████████████████████████████████████████████████████████████████████████████▍                              | 1485/1875 [00:13<00:03, 105.70it/s]"
     ]
    },
    {
     "name": "stdout",
     "output_type": "stream",
     "text": [
      "LOSS:2.38  ACC:0.81\n",
      "LOSS:3.30  ACC:0.81\n",
      "LOSS:4.65  ACC:0.72\n",
      "LOSS:1.60  ACC:0.84\n",
      "LOSS:0.93  ACC:0.78\n",
      "LOSS:3.43  ACC:0.91\n",
      "LOSS:9.57  ACC:0.75\n",
      "LOSS:5.56  ACC:0.66\n",
      "LOSS:5.46  ACC:0.78\n"
     ]
    },
    {
     "name": "stderr",
     "output_type": "stream",
     "text": [
      "\r",
      " 80%|█████████████████████████████████████████████████████████████████████████████████████████████████████████████████████▎                             | 1496/1875 [00:14<00:03, 105.56it/s]"
     ]
    },
    {
     "name": "stdout",
     "output_type": "stream",
     "text": [
      "LOSS:4.02  ACC:0.88\n",
      "LOSS:7.07  ACC:0.81\n",
      "LOSS:3.89  ACC:0.88\n",
      "LOSS:0.29  ACC:0.94\n",
      "LOSS:2.32  ACC:0.91\n",
      "LOSS:2.29  ACC:0.91\n",
      "LOSS:0.39  ACC:0.94\n",
      "LOSS:5.49  ACC:0.75\n",
      "LOSS:5.88  ACC:0.72\n",
      "LOSS:0.67  ACC:0.91\n",
      "LOSS:2.29  ACC:0.88\n",
      "LOSS:0.37  ACC:0.91\n",
      "LOSS:1.29  ACC:0.84\n"
     ]
    },
    {
     "name": "stderr",
     "output_type": "stream",
     "text": [
      "\r",
      " 80%|██████████████████████████████████████████████████████████████████████████████████████████████████████████████████████▏                            | 1507/1875 [00:14<00:03, 105.94it/s]"
     ]
    },
    {
     "name": "stdout",
     "output_type": "stream",
     "text": [
      "LOSS:7.72  ACC:0.78\n",
      "LOSS:1.45  ACC:0.84\n",
      "LOSS:1.37  ACC:0.91\n",
      "LOSS:3.66  ACC:0.75\n",
      "LOSS:5.90  ACC:0.75\n",
      "LOSS:3.48  ACC:0.84\n",
      "LOSS:0.98  ACC:0.88\n",
      "LOSS:3.32  ACC:0.84\n",
      "LOSS:6.09  ACC:0.66\n"
     ]
    },
    {
     "name": "stderr",
     "output_type": "stream",
     "text": [
      "\r",
      " 81%|███████████████████████████████████████████████████████████████████████████████████████████████████████████████████████                            | 1518/1875 [00:14<00:03, 106.57it/s]"
     ]
    },
    {
     "name": "stdout",
     "output_type": "stream",
     "text": [
      "LOSS:2.40  ACC:0.91\n",
      "LOSS:0.05  ACC:0.97\n",
      "LOSS:0.13  ACC:0.97\n",
      "LOSS:1.24  ACC:0.94\n",
      "LOSS:2.36  ACC:0.88\n",
      "LOSS:3.25  ACC:0.81\n",
      "LOSS:3.34  ACC:0.81\n",
      "LOSS:0.17  ACC:0.94\n",
      "LOSS:5.97  ACC:0.78\n",
      "LOSS:3.01  ACC:0.84\n",
      "LOSS:0.56  ACC:0.91\n",
      "LOSS:1.58  ACC:0.91\n",
      "LOSS:0.71  ACC:0.97\n"
     ]
    },
    {
     "name": "stderr",
     "output_type": "stream",
     "text": [
      "\r",
      " 82%|███████████████████████████████████████████████████████████████████████████████████████████████████████████████████████▊                           | 1529/1875 [00:14<00:03, 106.49it/s]"
     ]
    },
    {
     "name": "stdout",
     "output_type": "stream",
     "text": [
      "LOSS:1.34  ACC:0.88\n",
      "LOSS:2.45  ACC:0.84\n",
      "LOSS:2.31  ACC:0.88\n",
      "LOSS:4.76  ACC:0.75\n",
      "LOSS:5.58  ACC:0.66\n",
      "LOSS:5.75  ACC:0.72\n",
      "LOSS:4.10  ACC:0.81\n",
      "LOSS:1.97  ACC:0.84\n",
      "LOSS:4.52  ACC:0.81\n"
     ]
    },
    {
     "name": "stderr",
     "output_type": "stream",
     "text": [
      "\r",
      " 82%|████████████████████████████████████████████████████████████████████████████████████████████████████████████████████████▋                          | 1540/1875 [00:14<00:03, 106.75it/s]"
     ]
    },
    {
     "name": "stdout",
     "output_type": "stream",
     "text": [
      "LOSS:2.81  ACC:0.84\n",
      "LOSS:1.01  ACC:0.91\n",
      "LOSS:1.03  ACC:0.97\n",
      "LOSS:7.90  ACC:0.72\n",
      "LOSS:3.74  ACC:0.78\n",
      "LOSS:0.55  ACC:0.94\n",
      "LOSS:2.76  ACC:0.97\n",
      "LOSS:0.81  ACC:0.91\n",
      "LOSS:0.44  ACC:0.94\n",
      "LOSS:0.12  ACC:0.97\n",
      "LOSS:3.00  ACC:0.84\n",
      "LOSS:0.26  ACC:0.94\n",
      "LOSS:7.40  ACC:0.75\n",
      "LOSS:3.49  ACC:0.72\n",
      "LOSS:3.20  ACC:0.84\n"
     ]
    },
    {
     "name": "stderr",
     "output_type": "stream",
     "text": [
      "\r",
      " 83%|█████████████████████████████████████████████████████████████████████████████████████████████████████████████████████████▋                         | 1552/1875 [00:14<00:02, 109.35it/s]"
     ]
    },
    {
     "name": "stdout",
     "output_type": "stream",
     "text": [
      "LOSS:5.08  ACC:0.91\n",
      "LOSS:4.18  ACC:0.88\n",
      "LOSS:5.60  ACC:0.78\n",
      "LOSS:0.75  ACC:0.94\n",
      "LOSS:0.58  ACC:0.94\n",
      "LOSS:2.61  ACC:0.88\n",
      "LOSS:0.96  ACC:0.88\n",
      "LOSS:0.60  ACC:0.88\n"
     ]
    },
    {
     "name": "stderr",
     "output_type": "stream",
     "text": [
      "\r",
      " 83%|██████████████████████████████████████████████████████████████████████████████████████████████████████████████████████████▌                        | 1563/1875 [00:14<00:02, 109.51it/s]"
     ]
    },
    {
     "name": "stdout",
     "output_type": "stream",
     "text": [
      "LOSS:3.88  ACC:0.75\n",
      "LOSS:3.72  ACC:0.94\n",
      "LOSS:7.23  ACC:0.69\n",
      "LOSS:4.78  ACC:0.78\n",
      "LOSS:0.50  ACC:0.94\n",
      "LOSS:2.23  ACC:0.81\n",
      "LOSS:3.25  ACC:0.84\n",
      "LOSS:3.68  ACC:0.88\n",
      "LOSS:3.60  ACC:0.78\n",
      "LOSS:1.01  ACC:0.94\n",
      "LOSS:2.69  ACC:0.84\n",
      "LOSS:2.73  ACC:0.81\n",
      "LOSS:10.90  ACC:0.78\n",
      "LOSS:1.31  ACC:0.94\n",
      "LOSS:2.28  ACC:0.91\n"
     ]
    },
    {
     "name": "stderr",
     "output_type": "stream",
     "text": [
      "\r",
      " 84%|███████████████████████████████████████████████████████████████████████████████████████████████████████████████████████████▍                       | 1575/1875 [00:14<00:02, 111.24it/s]"
     ]
    },
    {
     "name": "stdout",
     "output_type": "stream",
     "text": [
      "LOSS:4.30  ACC:0.78\n",
      "LOSS:6.96  ACC:0.69\n",
      "LOSS:7.04  ACC:0.72\n",
      "LOSS:8.40  ACC:0.78\n",
      "LOSS:3.34  ACC:0.81\n",
      "LOSS:0.85  ACC:0.91\n",
      "LOSS:6.97  ACC:0.91\n",
      "LOSS:1.41  ACC:0.88\n"
     ]
    },
    {
     "name": "stderr",
     "output_type": "stream",
     "text": [
      "\r",
      " 85%|████████████████████████████████████████████████████████████████████████████████████████████████████████████████████████████▍                      | 1587/1875 [00:14<00:02, 111.43it/s]"
     ]
    },
    {
     "name": "stdout",
     "output_type": "stream",
     "text": [
      "LOSS:6.16  ACC:0.81\n",
      "LOSS:0.51  ACC:0.94\n",
      "LOSS:4.26  ACC:0.91\n",
      "LOSS:0.08  ACC:0.97\n",
      "LOSS:4.64  ACC:0.88\n",
      "LOSS:1.89  ACC:0.84\n",
      "LOSS:2.40  ACC:0.91\n",
      "LOSS:0.96  ACC:0.94\n",
      "LOSS:2.03  ACC:0.84\n",
      "LOSS:0.71  ACC:0.97\n",
      "LOSS:0.61  ACC:0.88\n",
      "LOSS:1.46  ACC:0.91\n",
      "LOSS:0.04  ACC:0.97\n",
      "LOSS:0.76  ACC:0.94\n",
      "LOSS:0.01  ACC:1.00\n"
     ]
    },
    {
     "name": "stderr",
     "output_type": "stream",
     "text": [
      "\r",
      " 85%|█████████████████████████████████████████████████████████████████████████████████████████████████████████████████████████████▎                     | 1599/1875 [00:14<00:02, 113.21it/s]"
     ]
    },
    {
     "name": "stdout",
     "output_type": "stream",
     "text": [
      "LOSS:1.29  ACC:0.88\n",
      "LOSS:0.49  ACC:0.97\n",
      "LOSS:0.09  ACC:0.94\n",
      "LOSS:2.65  ACC:0.88\n",
      "LOSS:2.73  ACC:0.81\n",
      "LOSS:4.05  ACC:0.84\n",
      "LOSS:1.18  ACC:0.88\n",
      "LOSS:2.38  ACC:0.81\n",
      "LOSS:2.94  ACC:0.75\n"
     ]
    },
    {
     "name": "stderr",
     "output_type": "stream",
     "text": [
      "\r",
      " 86%|██████████████████████████████████████████████████████████████████████████████████████████████████████████████████████████████▎                    | 1611/1875 [00:15<00:02, 113.79it/s]"
     ]
    },
    {
     "name": "stdout",
     "output_type": "stream",
     "text": [
      "LOSS:5.31  ACC:0.66\n",
      "LOSS:0.04  ACC:1.00\n",
      "LOSS:1.65  ACC:0.81\n",
      "LOSS:2.61  ACC:0.84\n",
      "LOSS:2.46  ACC:0.91\n",
      "LOSS:0.52  ACC:0.94\n",
      "LOSS:3.96  ACC:0.91\n",
      "LOSS:0.41  ACC:0.94\n",
      "LOSS:1.53  ACC:0.94\n",
      "LOSS:0.52  ACC:0.94\n",
      "LOSS:2.44  ACC:0.81\n",
      "LOSS:1.99  ACC:0.94\n",
      "LOSS:3.48  ACC:0.91\n",
      "LOSS:3.66  ACC:0.91\n",
      "LOSS:0.56  ACC:0.97\n"
     ]
    },
    {
     "name": "stderr",
     "output_type": "stream",
     "text": [
      "\r",
      " 87%|███████████████████████████████████████████████████████████████████████████████████████████████████████████████████████████████▏                   | 1623/1875 [00:15<00:02, 114.17it/s]"
     ]
    },
    {
     "name": "stdout",
     "output_type": "stream",
     "text": [
      "LOSS:0.00  ACC:1.00\n",
      "LOSS:2.41  ACC:0.81\n",
      "LOSS:1.19  ACC:0.91\n",
      "LOSS:0.74  ACC:0.91\n",
      "LOSS:3.35  ACC:0.88\n",
      "LOSS:6.63  ACC:0.78\n",
      "LOSS:3.77  ACC:0.94\n",
      "LOSS:0.63  ACC:0.88\n"
     ]
    },
    {
     "name": "stderr",
     "output_type": "stream",
     "text": [
      "\r",
      " 87%|████████████████████████████████████████████████████████████████████████████████████████████████████████████████████████████████▏                  | 1635/1875 [00:15<00:02, 114.18it/s]"
     ]
    },
    {
     "name": "stdout",
     "output_type": "stream",
     "text": [
      "LOSS:4.04  ACC:0.78\n",
      "LOSS:2.70  ACC:0.81\n",
      "LOSS:6.35  ACC:0.75\n",
      "LOSS:3.55  ACC:0.72\n",
      "LOSS:1.63  ACC:0.81\n",
      "LOSS:3.49  ACC:0.84\n",
      "LOSS:2.08  ACC:0.88\n",
      "LOSS:0.48  ACC:0.88\n",
      "LOSS:2.22  ACC:0.91\n",
      "LOSS:4.66  ACC:0.91\n",
      "LOSS:3.89  ACC:0.78\n",
      "LOSS:2.32  ACC:0.84\n",
      "LOSS:1.46  ACC:0.84\n",
      "LOSS:1.43  ACC:0.88\n",
      "LOSS:3.80  ACC:0.84\n"
     ]
    },
    {
     "name": "stderr",
     "output_type": "stream",
     "text": [
      "\r",
      " 88%|█████████████████████████████████████████████████████████████████████████████████████████████████████████████████████████████████                  | 1647/1875 [00:15<00:01, 114.74it/s]"
     ]
    },
    {
     "name": "stdout",
     "output_type": "stream",
     "text": [
      "LOSS:3.01  ACC:0.94\n",
      "LOSS:2.55  ACC:0.91\n",
      "LOSS:0.32  ACC:0.97\n",
      "LOSS:3.32  ACC:0.88\n",
      "LOSS:3.84  ACC:0.91\n",
      "LOSS:1.81  ACC:0.81\n",
      "LOSS:4.43  ACC:0.75\n",
      "LOSS:3.67  ACC:0.84\n",
      "LOSS:2.18  ACC:0.84\n",
      "LOSS:2.26  ACC:0.78\n"
     ]
    },
    {
     "name": "stderr",
     "output_type": "stream",
     "text": [
      "\r",
      " 88%|██████████████████████████████████████████████████████████████████████████████████████████████████████████████████████████████████                 | 1659/1875 [00:15<00:01, 114.17it/s]"
     ]
    },
    {
     "name": "stdout",
     "output_type": "stream",
     "text": [
      "LOSS:7.30  ACC:0.72\n",
      "LOSS:8.24  ACC:0.75\n",
      "LOSS:8.62  ACC:0.75\n",
      "LOSS:11.25  ACC:0.62\n",
      "LOSS:2.84  ACC:0.81\n",
      "LOSS:1.99  ACC:0.81\n",
      "LOSS:0.40  ACC:0.97\n",
      "LOSS:0.80  ACC:0.91\n",
      "LOSS:0.76  ACC:0.88\n",
      "LOSS:5.31  ACC:0.78\n",
      "LOSS:5.84  ACC:0.75\n",
      "LOSS:5.59  ACC:0.91\n",
      "LOSS:0.92  ACC:0.91\n",
      "LOSS:0.91  ACC:0.97\n"
     ]
    },
    {
     "name": "stderr",
     "output_type": "stream",
     "text": [
      "\r",
      " 89%|███████████████████████████████████████████████████████████████████████████████████████████████████████████████████████████████████                | 1671/1875 [00:15<00:01, 114.03it/s]"
     ]
    },
    {
     "name": "stdout",
     "output_type": "stream",
     "text": [
      "LOSS:0.01  ACC:1.00\n",
      "LOSS:0.03  ACC:1.00\n",
      "LOSS:0.76  ACC:0.94\n",
      "LOSS:0.01  ACC:1.00\n",
      "LOSS:1.47  ACC:0.88\n",
      "LOSS:3.53  ACC:0.84\n",
      "LOSS:2.03  ACC:0.91\n",
      "LOSS:2.59  ACC:0.88\n",
      "LOSS:5.47  ACC:0.81\n"
     ]
    },
    {
     "name": "stderr",
     "output_type": "stream",
     "text": [
      "\r",
      " 90%|███████████████████████████████████████████████████████████████████████████████████████████████████████████████████████████████████▉               | 1683/1875 [00:15<00:01, 113.91it/s]"
     ]
    },
    {
     "name": "stdout",
     "output_type": "stream",
     "text": [
      "LOSS:1.71  ACC:0.88\n",
      "LOSS:3.53  ACC:0.81\n",
      "LOSS:2.47  ACC:0.88\n",
      "LOSS:0.02  ACC:1.00\n",
      "LOSS:3.01  ACC:0.88\n",
      "LOSS:0.86  ACC:0.94\n",
      "LOSS:0.88  ACC:0.94\n",
      "LOSS:3.03  ACC:0.81\n",
      "LOSS:1.63  ACC:0.94\n",
      "LOSS:4.42  ACC:0.84\n",
      "LOSS:0.79  ACC:0.94\n",
      "LOSS:5.22  ACC:0.81\n",
      "LOSS:6.36  ACC:0.81\n",
      "LOSS:2.39  ACC:0.84\n"
     ]
    },
    {
     "name": "stderr",
     "output_type": "stream",
     "text": [
      "\r",
      " 90%|████████████████████████████████████████████████████████████████████████████████████████████████████████████████████████████████████▉              | 1695/1875 [00:15<00:01, 114.30it/s]"
     ]
    },
    {
     "name": "stdout",
     "output_type": "stream",
     "text": [
      "LOSS:2.87  ACC:0.91\n",
      "LOSS:4.62  ACC:0.69\n",
      "LOSS:7.24  ACC:0.75\n",
      "LOSS:1.54  ACC:0.84\n",
      "LOSS:5.57  ACC:0.81\n",
      "LOSS:0.88  ACC:0.94\n",
      "LOSS:1.34  ACC:0.91\n",
      "LOSS:2.47  ACC:0.91\n",
      "LOSS:0.00  ACC:1.00\n",
      "LOSS:0.32  ACC:0.97\n"
     ]
    },
    {
     "name": "stderr",
     "output_type": "stream",
     "text": [
      "\r",
      " 91%|█████████████████████████████████████████████████████████████████████████████████████████████████████████████████████████████████████▊             | 1707/1875 [00:15<00:01, 114.21it/s]"
     ]
    },
    {
     "name": "stdout",
     "output_type": "stream",
     "text": [
      "LOSS:5.05  ACC:0.78\n",
      "LOSS:2.99  ACC:0.81\n",
      "LOSS:1.03  ACC:0.94\n",
      "LOSS:1.83  ACC:0.91\n",
      "LOSS:3.15  ACC:0.91\n",
      "LOSS:5.93  ACC:0.81\n",
      "LOSS:2.59  ACC:0.84\n",
      "LOSS:1.51  ACC:0.91\n",
      "LOSS:0.48  ACC:0.94\n",
      "LOSS:1.19  ACC:0.88\n",
      "LOSS:0.00  ACC:1.00\n",
      "LOSS:0.47  ACC:0.94\n",
      "LOSS:1.66  ACC:0.91\n"
     ]
    },
    {
     "name": "stderr",
     "output_type": "stream",
     "text": [
      "\r",
      " 92%|██████████████████████████████████████████████████████████████████████████████████████████████████████████████████████████████████████▊            | 1719/1875 [00:16<00:01, 114.08it/s]"
     ]
    },
    {
     "name": "stdout",
     "output_type": "stream",
     "text": [
      "LOSS:4.02  ACC:0.88\n",
      "LOSS:0.53  ACC:0.97\n",
      "LOSS:4.18  ACC:0.78\n",
      "LOSS:7.96  ACC:0.72\n",
      "LOSS:3.93  ACC:0.72\n",
      "LOSS:6.40  ACC:0.69\n",
      "LOSS:2.00  ACC:0.81\n",
      "LOSS:1.31  ACC:0.94\n",
      "LOSS:3.30  ACC:0.88\n",
      "LOSS:1.05  ACC:0.91\n"
     ]
    },
    {
     "name": "stderr",
     "output_type": "stream",
     "text": [
      "\r",
      " 92%|███████████████████████████████████████████████████████████████████████████████████████████████████████████████████████████████████████▋           | 1731/1875 [00:16<00:01, 113.81it/s]"
     ]
    },
    {
     "name": "stdout",
     "output_type": "stream",
     "text": [
      "LOSS:4.44  ACC:0.91\n",
      "LOSS:0.80  ACC:0.91\n",
      "LOSS:7.40  ACC:0.78\n",
      "LOSS:6.72  ACC:0.88\n",
      "LOSS:0.75  ACC:0.88\n",
      "LOSS:0.95  ACC:0.94\n",
      "LOSS:1.68  ACC:0.84\n",
      "LOSS:4.91  ACC:0.91\n",
      "LOSS:0.51  ACC:0.84\n",
      "LOSS:0.12  ACC:0.94\n",
      "LOSS:1.28  ACC:0.88\n",
      "LOSS:0.60  ACC:0.97\n",
      "LOSS:4.46  ACC:0.91\n"
     ]
    },
    {
     "name": "stderr",
     "output_type": "stream",
     "text": [
      "\r",
      " 93%|████████████████████████████████████████████████████████████████████████████████████████████████████████████████████████████████████████▋          | 1743/1875 [00:16<00:01, 114.20it/s]"
     ]
    },
    {
     "name": "stdout",
     "output_type": "stream",
     "text": [
      "LOSS:2.79  ACC:0.84\n",
      "LOSS:0.12  ACC:0.94\n",
      "LOSS:3.08  ACC:0.81\n",
      "LOSS:2.04  ACC:0.91\n",
      "LOSS:1.62  ACC:0.97\n",
      "LOSS:0.24  ACC:0.94\n",
      "LOSS:5.57  ACC:0.81\n",
      "LOSS:1.31  ACC:0.91\n",
      "LOSS:1.52  ACC:0.94\n",
      "LOSS:0.42  ACC:0.94\n",
      "LOSS:1.84  ACC:0.94\n"
     ]
    },
    {
     "name": "stderr",
     "output_type": "stream",
     "text": [
      "\r",
      " 94%|█████████████████████████████████████████████████████████████████████████████████████████████████████████████████████████████████████████▌         | 1755/1875 [00:16<00:01, 114.97it/s]"
     ]
    },
    {
     "name": "stdout",
     "output_type": "stream",
     "text": [
      "LOSS:2.93  ACC:0.75\n",
      "LOSS:1.57  ACC:0.97\n",
      "LOSS:0.35  ACC:0.97\n",
      "LOSS:0.16  ACC:0.94\n",
      "LOSS:2.69  ACC:0.88\n",
      "LOSS:0.13  ACC:0.97\n",
      "LOSS:1.95  ACC:0.94\n",
      "LOSS:0.44  ACC:0.94\n",
      "LOSS:1.25  ACC:0.84\n",
      "LOSS:0.46  ACC:0.91\n",
      "LOSS:3.48  ACC:0.84\n",
      "LOSS:1.28  ACC:0.97\n",
      "LOSS:2.30  ACC:0.88\n"
     ]
    },
    {
     "name": "stderr",
     "output_type": "stream",
     "text": [
      "\r",
      " 94%|██████████████████████████████████████████████████████████████████████████████████████████████████████████████████████████████████████████▌        | 1767/1875 [00:16<00:00, 115.24it/s]"
     ]
    },
    {
     "name": "stdout",
     "output_type": "stream",
     "text": [
      "LOSS:2.89  ACC:0.78\n",
      "LOSS:1.45  ACC:0.91\n",
      "LOSS:1.65  ACC:0.91\n",
      "LOSS:3.48  ACC:0.81\n",
      "LOSS:0.87  ACC:0.97\n",
      "LOSS:10.68  ACC:0.75\n",
      "LOSS:3.42  ACC:0.81\n",
      "LOSS:1.31  ACC:0.91\n",
      "LOSS:0.30  ACC:0.94\n",
      "LOSS:1.99  ACC:0.78\n",
      "LOSS:0.95  ACC:0.88\n"
     ]
    },
    {
     "name": "stderr",
     "output_type": "stream",
     "text": [
      "\r",
      " 95%|███████████████████████████████████████████████████████████████████████████████████████████████████████████████████████████████████████████▍       | 1779/1875 [00:16<00:00, 115.03it/s]"
     ]
    },
    {
     "name": "stdout",
     "output_type": "stream",
     "text": [
      "LOSS:5.65  ACC:0.78\n",
      "LOSS:0.94  ACC:0.94\n",
      "LOSS:0.46  ACC:0.94\n",
      "LOSS:0.00  ACC:1.00\n",
      "LOSS:0.30  ACC:0.91\n",
      "LOSS:2.40  ACC:0.84\n",
      "LOSS:1.54  ACC:0.97\n",
      "LOSS:1.54  ACC:0.94\n",
      "LOSS:1.61  ACC:0.94\n",
      "LOSS:2.36  ACC:0.94\n",
      "LOSS:1.77  ACC:0.94\n",
      "LOSS:1.03  ACC:0.94\n",
      "LOSS:1.07  ACC:0.97\n"
     ]
    },
    {
     "name": "stderr",
     "output_type": "stream",
     "text": [
      "\r",
      " 96%|████████████████████████████████████████████████████████████████████████████████████████████████████████████████████████████████████████████▍      | 1791/1875 [00:16<00:00, 114.78it/s]"
     ]
    },
    {
     "name": "stdout",
     "output_type": "stream",
     "text": [
      "LOSS:2.24  ACC:0.91\n",
      "LOSS:0.66  ACC:0.91\n",
      "LOSS:0.72  ACC:0.94\n",
      "LOSS:0.40  ACC:0.84\n",
      "LOSS:1.44  ACC:0.94\n",
      "LOSS:1.23  ACC:0.81\n",
      "LOSS:2.70  ACC:0.88\n",
      "LOSS:6.21  ACC:0.62\n",
      "LOSS:21.99  ACC:0.47\n",
      "LOSS:3.84  ACC:0.84\n"
     ]
    },
    {
     "name": "stderr",
     "output_type": "stream",
     "text": [
      "\r",
      " 96%|█████████████████████████████████████████████████████████████████████████████████████████████████████████████████████████████████████████████▎     | 1803/1875 [00:16<00:00, 113.90it/s]"
     ]
    },
    {
     "name": "stdout",
     "output_type": "stream",
     "text": [
      "LOSS:2.87  ACC:0.81\n",
      "LOSS:2.78  ACC:0.84\n",
      "LOSS:1.39  ACC:0.88\n",
      "LOSS:3.22  ACC:0.84\n",
      "LOSS:4.51  ACC:0.75\n",
      "LOSS:1.61  ACC:0.78\n",
      "LOSS:2.09  ACC:0.84\n",
      "LOSS:2.20  ACC:0.94\n",
      "LOSS:7.87  ACC:0.78\n",
      "LOSS:2.26  ACC:0.94\n",
      "LOSS:2.76  ACC:0.84\n",
      "LOSS:5.46  ACC:0.78\n",
      "LOSS:1.81  ACC:0.88\n"
     ]
    },
    {
     "name": "stderr",
     "output_type": "stream",
     "text": [
      "\r",
      " 97%|██████████████████████████████████████████████████████████████████████████████████████████████████████████████████████████████████████████████▎    | 1815/1875 [00:16<00:00, 113.38it/s]"
     ]
    },
    {
     "name": "stdout",
     "output_type": "stream",
     "text": [
      "LOSS:1.34  ACC:0.94\n",
      "LOSS:1.22  ACC:0.94\n",
      "LOSS:0.68  ACC:0.94\n",
      "LOSS:2.33  ACC:0.88\n",
      "LOSS:0.82  ACC:0.94\n",
      "LOSS:2.06  ACC:0.94\n",
      "LOSS:0.96  ACC:0.88\n",
      "LOSS:0.03  ACC:1.00\n",
      "LOSS:1.90  ACC:0.84\n",
      "LOSS:2.39  ACC:0.88\n"
     ]
    },
    {
     "name": "stderr",
     "output_type": "stream",
     "text": [
      "\r",
      " 97%|███████████████████████████████████████████████████████████████████████████████████████████████████████████████████████████████████████████████▏   | 1827/1875 [00:16<00:00, 113.20it/s]"
     ]
    },
    {
     "name": "stdout",
     "output_type": "stream",
     "text": [
      "LOSS:1.45  ACC:0.88\n",
      "LOSS:0.22  ACC:0.97\n",
      "LOSS:0.20  ACC:0.97\n",
      "LOSS:0.16  ACC:0.97\n",
      "LOSS:1.67  ACC:0.94\n",
      "LOSS:2.00  ACC:0.94\n",
      "LOSS:2.75  ACC:0.88\n",
      "LOSS:0.23  ACC:0.97\n",
      "LOSS:1.70  ACC:0.91\n",
      "LOSS:2.31  ACC:0.91\n",
      "LOSS:2.14  ACC:0.88\n",
      "LOSS:2.93  ACC:0.84\n",
      "LOSS:2.15  ACC:0.94\n"
     ]
    },
    {
     "name": "stderr",
     "output_type": "stream",
     "text": [
      "\r",
      " 98%|████████████████████████████████████████████████████████████████████████████████████████████████████████████████████████████████████████████████▏  | 1839/1875 [00:17<00:00, 113.44it/s]"
     ]
    },
    {
     "name": "stdout",
     "output_type": "stream",
     "text": [
      "LOSS:2.13  ACC:0.84\n",
      "LOSS:0.77  ACC:0.97\n",
      "LOSS:0.32  ACC:0.97\n",
      "LOSS:1.34  ACC:0.97\n",
      "LOSS:0.00  ACC:1.00\n",
      "LOSS:0.30  ACC:0.97\n",
      "LOSS:0.68  ACC:0.94\n",
      "LOSS:0.85  ACC:0.88\n",
      "LOSS:2.76  ACC:0.84\n",
      "LOSS:5.36  ACC:0.81\n",
      "LOSS:1.96  ACC:0.94\n"
     ]
    },
    {
     "name": "stderr",
     "output_type": "stream",
     "text": [
      "\r",
      " 99%|█████████████████████████████████████████████████████████████████████████████████████████████████████████████████████████████████████████████████  | 1851/1875 [00:17<00:00, 114.41it/s]"
     ]
    },
    {
     "name": "stdout",
     "output_type": "stream",
     "text": [
      "LOSS:0.02  ACC:1.00\n",
      "LOSS:0.00  ACC:1.00\n",
      "LOSS:0.09  ACC:0.97\n",
      "LOSS:0.45  ACC:0.97\n",
      "LOSS:0.29  ACC:0.97\n",
      "LOSS:0.12  ACC:0.97\n",
      "LOSS:0.15  ACC:0.97\n",
      "LOSS:0.10  ACC:0.97\n",
      "LOSS:0.64  ACC:0.94\n",
      "LOSS:0.02  ACC:1.00\n",
      "LOSS:0.34  ACC:0.97\n",
      "LOSS:0.17  ACC:0.97\n",
      "LOSS:3.32  ACC:0.94\n"
     ]
    },
    {
     "name": "stderr",
     "output_type": "stream",
     "text": [
      "\r",
      " 99%|██████████████████████████████████████████████████████████████████████████████████████████████████████████████████████████████████████████████████ | 1863/1875 [00:17<00:00, 114.12it/s]"
     ]
    },
    {
     "name": "stdout",
     "output_type": "stream",
     "text": [
      "LOSS:2.34  ACC:0.91\n",
      "LOSS:4.36  ACC:0.84\n",
      "LOSS:5.37  ACC:0.84\n",
      "LOSS:7.13  ACC:0.81\n",
      "LOSS:11.11  ACC:0.81\n",
      "LOSS:3.84  ACC:0.88\n",
      "LOSS:0.46  ACC:0.94\n",
      "LOSS:0.22  ACC:0.97\n",
      "LOSS:0.36  ACC:0.91\n",
      "LOSS:0.64  ACC:0.91\n",
      "LOSS:0.18  ACC:0.97\n"
     ]
    },
    {
     "name": "stderr",
     "output_type": "stream",
     "text": [
      "100%|███████████████████████████████████████████████████████████████████████████████████████████████████████████████████████████████████████████████████| 1875/1875 [00:17<00:00, 107.81it/s]\n"
     ]
    },
    {
     "name": "stdout",
     "output_type": "stream",
     "text": [
      "LOSS:1.88  ACC:0.91\n",
      "LOSS:3.00  ACC:0.91\n",
      "LOSS:12.44  ACC:0.75\n",
      "LOSS:2.70  ACC:0.84\n",
      "LOSS:1.73  ACC:0.94\n",
      "LOSS:0.01  ACC:1.00\n",
      "LOSS:0.00  ACC:1.00\n",
      "LOSS:0.00  ACC:1.00\n",
      "LOSS:4.93  ACC:0.81\n",
      "LOSS:0.47  ACC:0.91\n",
      "LOSS:0.95  ACC:0.94\n"
     ]
    },
    {
     "name": "stderr",
     "output_type": "stream",
     "text": [
      "\r",
      "  0%|                                                                                                                                                                | 0/312 [00:00<?, ?it/s]"
     ]
    },
    {
     "name": "stdout",
     "output_type": "stream",
     "text": [
      "TEST_LOSS:1.50  TEST_ACC:0.97\n"
     ]
    },
    {
     "name": "stderr",
     "output_type": "stream",
     "text": [
      "\r",
      " 12%|█████████████████▎                                                                                                                                    | 36/312 [00:00<00:00, 351.27it/s]"
     ]
    },
    {
     "name": "stdout",
     "output_type": "stream",
     "text": [
      "TEST_LOSS:2.68  TEST_ACC:0.85\n"
     ]
    },
    {
     "name": "stderr",
     "output_type": "stream",
     "text": [
      "\r",
      " 23%|██████████████████████████████████▌                                                                                                                   | 72/312 [00:00<00:00, 354.10it/s]"
     ]
    },
    {
     "name": "stdout",
     "output_type": "stream",
     "text": [
      "TEST_LOSS:4.09  TEST_ACC:0.81\n",
      "TEST_LOSS:3.40  TEST_ACC:0.83\n"
     ]
    },
    {
     "name": "stderr",
     "output_type": "stream",
     "text": [
      "\r",
      " 35%|███████████████████████████████████████████████████▌                                                                                                 | 108/312 [00:00<00:00, 354.54it/s]"
     ]
    },
    {
     "name": "stdout",
     "output_type": "stream",
     "text": [
      "TEST_LOSS:3.49  TEST_ACC:0.83\n"
     ]
    },
    {
     "name": "stderr",
     "output_type": "stream",
     "text": [
      "\r",
      " 46%|████████████████████████████████████████████████████████████████████▊                                                                                | 144/312 [00:00<00:00, 352.06it/s]"
     ]
    },
    {
     "name": "stdout",
     "output_type": "stream",
     "text": [
      "TEST_LOSS:3.61  TEST_ACC:0.83\n"
     ]
    },
    {
     "name": "stderr",
     "output_type": "stream",
     "text": [
      "\r",
      " 58%|█████████████████████████████████████████████████████████████████████████████████████▉                                                               | 180/312 [00:00<00:00, 347.53it/s]"
     ]
    },
    {
     "name": "stdout",
     "output_type": "stream",
     "text": [
      "TEST_LOSS:1.78  TEST_ACC:0.89\n"
     ]
    },
    {
     "name": "stderr",
     "output_type": "stream",
     "text": [
      "\r",
      " 69%|██████████████████████████████████████████████████████████████████████████████████████████████████████▋                                              | 215/312 [00:00<00:00, 346.85it/s]"
     ]
    },
    {
     "name": "stdout",
     "output_type": "stream",
     "text": [
      "TEST_LOSS:1.38  TEST_ACC:0.93\n"
     ]
    },
    {
     "name": "stderr",
     "output_type": "stream",
     "text": [
      "\r",
      " 80%|███████████████████████████████████████████████████████████████████████████████████████████████████████████████████████▍                             | 250/312 [00:00<00:00, 347.33it/s]"
     ]
    },
    {
     "name": "stdout",
     "output_type": "stream",
     "text": [
      "TEST_LOSS:1.97  TEST_ACC:0.93\n"
     ]
    },
    {
     "name": "stderr",
     "output_type": "stream",
     "text": [
      "\r",
      " 91%|████████████████████████████████████████████████████████████████████████████████████████████████████████████████████████████████████████             | 285/312 [00:00<00:00, 346.92it/s]"
     ]
    },
    {
     "name": "stdout",
     "output_type": "stream",
     "text": [
      "TEST_LOSS:1.21  TEST_ACC:0.95\n"
     ]
    },
    {
     "name": "stderr",
     "output_type": "stream",
     "text": [
      "100%|█████████████████████████████████████████████████████████████████████████████████████████████████████████████████████████████████████████████████████| 312/312 [00:00<00:00, 347.91it/s]\n"
     ]
    }
   ],
   "source": [
    "BS = dim1\n",
    "epochs = 1\n",
    "\n",
    "for epoch in range(epochs):\n",
    "    losses = []\n",
    "    accs = []\n",
    "    for i in trange(int(X_train.shape[0]/BS)):\n",
    "        x = DenseTensor(X_train[i*BS:(i+1)*BS])\n",
    "        y = Y_train[i*BS:(i+1)*BS]\n",
    "        optimizer.zero_grad()\n",
    "        res = model.forward(x)\n",
    "        loss = loss_fn(res, y)\n",
    "        #print(res.cpu().data[:4])\n",
    "        #print(y[:4])\n",
    "        loss.backward()\n",
    "        optimizer.step()\n",
    "        \n",
    "        cat = np.argmax(res.cpu().data, axis=-1)\n",
    "        accuracy = (cat == y).mean()\n",
    "        \n",
    "        losses.append(loss.cpu().data)\n",
    "        accs.append(accuracy)\n",
    "        if i % 1 == 0:\n",
    "            print(\"LOSS:%.2f  ACC:%.2f\" % (np.array(losses).mean(), np.array(accs).mean()))\n",
    "            accs, losses = [], []  \n",
    "            \n",
    "    losses = []\n",
    "    accs = []\n",
    "    for i in trange(int(X_test.shape[0]/BS)):\n",
    "        x = DenseTensor(X_test[i*BS:(i+1)*BS])\n",
    "        y = Y_test[i*BS:(i+1)*BS]\n",
    "        res = model.forward(x)\n",
    "        loss = loss_fn(res, y)\n",
    "        \n",
    "        cat = np.argmax(res.cpu().data, axis=-1)\n",
    "        accuracy = (cat == y).mean()\n",
    "        \n",
    "        losses.append(loss.cpu().data)\n",
    "        accs.append(accuracy)\n",
    "        if i % 32 == 0:\n",
    "            print(\"TEST_LOSS:%.2f  TEST_ACC:%.2f\" % (np.array(losses).mean(), np.array(accs).mean()))\n",
    "            accs, losses = [], []"
   ]
  },
  {
   "cell_type": "code",
   "execution_count": 14,
   "id": "83c586b7",
   "metadata": {},
   "outputs": [
    {
     "data": {
      "text/plain": [
       "[<DenseTensor <GPUBuffer with shape (784, 10)> with grad <GPUBuffer with shape (784, 10)>>,\n",
       " <DenseTensor <GPUBuffer with shape (784, 10)> with grad None>]"
      ]
     },
     "execution_count": 14,
     "metadata": {},
     "output_type": "execute_result"
    }
   ],
   "source": [
    "model.parameters()"
   ]
  },
  {
   "cell_type": "code",
   "execution_count": 15,
   "id": "4641b69d",
   "metadata": {},
   "outputs": [
    {
     "data": {
      "text/plain": [
       "array([[ 0.00000000e+00, -2.79626434e+02, -1.89766403e+02,\n",
       "        -1.85337097e+02, -2.23227997e+02, -1.08916428e+02,\n",
       "        -1.45192490e+02, -2.47611206e+02, -1.48810181e+02,\n",
       "        -2.07967789e+02],\n",
       "       [-2.18757629e-01, -1.05336243e+02, -3.09417057e+01,\n",
       "        -7.73215179e+01, -6.42391052e+01, -4.75491676e+01,\n",
       "        -1.62717819e+00, -9.25289993e+01, -3.92931671e+01,\n",
       "        -4.98421555e+01],\n",
       "       [-2.59525299e-01, -1.45203674e+02, -1.47586060e+00,\n",
       "        -2.73228645e+01, -1.28580261e+02, -4.31444931e+01,\n",
       "        -7.60789566e+01, -6.88039017e+01, -4.62150269e+01,\n",
       "        -4.64716873e+01],\n",
       "       [-6.26183167e+01,  0.00000000e+00, -2.62000351e+01,\n",
       "        -4.95433235e+01, -7.99050140e+01, -8.71161270e+01,\n",
       "        -8.53950348e+01, -1.19562302e+02, -3.10348167e+01,\n",
       "        -8.63125458e+01],\n",
       "       [-1.19111023e+02,  0.00000000e+00, -2.46872978e+01,\n",
       "        -5.81748123e+01, -8.36772308e+01, -1.09548973e+02,\n",
       "        -8.57932205e+01, -9.40537186e+01, -5.28003159e+01,\n",
       "        -9.64844437e+01],\n",
       "       [-5.55745239e+01, -1.54082947e+02, -9.34107971e+01,\n",
       "        -8.40240250e+01, -7.61864395e+01, -4.29942017e+01,\n",
       "        -1.29712631e+02, -2.28881836e-05, -5.21086807e+01,\n",
       "        -1.06119919e+01],\n",
       "       [-9.01229630e+01, -4.88421211e+01, -5.98197708e+01,\n",
       "        -1.69928207e+01, -6.66846161e+01, -6.00080795e+01,\n",
       "        -1.17839767e+02,  0.00000000e+00, -5.45740280e+01,\n",
       "        -1.34762840e+01],\n",
       "       [-9.51574402e+01, -6.17847443e-01, -3.25988617e+01,\n",
       "        -7.74593353e-01, -5.25718460e+01, -2.98615494e+01,\n",
       "        -7.78186798e+01, -1.23440781e+01, -3.61831589e+01,\n",
       "        -2.10426941e+01],\n",
       "       [-1.15531807e+02, -1.30967422e+02, -1.11789925e+02,\n",
       "        -1.28526520e+02,  0.00000000e+00, -1.04125092e+02,\n",
       "        -8.46490555e+01, -4.17903252e+01, -5.93967400e+01,\n",
       "        -2.35190887e+01],\n",
       "       [-1.26908096e+02, -1.05878151e+02, -6.23573074e+01,\n",
       "        -1.32609634e+02, -7.02233582e+01, -8.84406433e+01,\n",
       "         0.00000000e+00, -1.54231766e+02, -7.93158264e+01,\n",
       "        -8.85870514e+01],\n",
       "       [ 0.00000000e+00, -1.23077995e+02, -1.06950226e+02,\n",
       "        -2.54499855e+01, -1.09028107e+02, -4.60650558e+01,\n",
       "        -1.37978271e+02, -4.99093018e+01, -1.15926888e+02,\n",
       "        -7.90892029e+01],\n",
       "       [-4.27738304e+01, -1.84566422e+02, -7.87946320e+01,\n",
       "        -7.47183151e+01, -1.05571411e+02, -4.88941689e+01,\n",
       "        -1.49912659e+02,  0.00000000e+00, -6.34863205e+01,\n",
       "        -2.14006271e+01],\n",
       "       [ 0.00000000e+00, -1.53059784e+02, -7.52819443e+01,\n",
       "        -7.39134598e+01, -1.25535637e+02, -6.83539810e+01,\n",
       "        -8.41687546e+01, -1.60141861e+02, -9.06796799e+01,\n",
       "        -1.27833786e+02],\n",
       "       [-1.10346573e+02, -6.83716125e+01, -6.38479004e+01,\n",
       "         0.00000000e+00, -8.61613693e+01, -6.77697449e+01,\n",
       "        -1.39594391e+02, -1.31220963e+02, -6.99452057e+01,\n",
       "        -8.82455063e+01],\n",
       "       [-4.27266922e+01, -1.32182831e+02, -5.63422928e+01,\n",
       "        -1.35960709e+02, -7.03256073e+01, -5.01391258e+01,\n",
       "         0.00000000e+00, -9.22824554e+01, -1.02279465e+02,\n",
       "        -9.76585922e+01],\n",
       "       [-6.14638557e+01, -5.84028168e+01, -7.06114349e+01,\n",
       "        -2.74458618e+01, -8.03028412e+01, -3.98444672e+01,\n",
       "        -1.06310127e+02, -1.30773758e+02,  0.00000000e+00,\n",
       "        -5.60494614e+01],\n",
       "       [-7.31305771e+01, -1.10287720e+02, -6.40065231e+01,\n",
       "        -6.81066589e+01, -7.68366547e+01, -4.44358444e+01,\n",
       "        -1.39396759e+02,  0.00000000e+00, -5.42297554e+01,\n",
       "        -2.70530434e+01],\n",
       "       [-1.30398315e+02,  0.00000000e+00, -4.75778198e+01,\n",
       "        -5.07923431e+01, -6.86156387e+01, -1.02037323e+02,\n",
       "        -8.95726624e+01, -8.17597656e+01, -5.59365196e+01,\n",
       "        -8.60390167e+01],\n",
       "       [-7.34231186e+01, -6.11173592e+01, -3.77268524e+01,\n",
       "         0.00000000e+00, -1.24936279e+02, -3.19301109e+01,\n",
       "        -6.33379669e+01, -9.17682343e+01, -7.84889145e+01,\n",
       "        -9.48696213e+01],\n",
       "       [-3.99677429e+01, -1.34410187e+02,  0.00000000e+00,\n",
       "        -9.85657959e+01, -1.21525650e+02, -1.26757797e+02,\n",
       "        -1.10475052e+02, -9.21523361e+01, -8.16324158e+01,\n",
       "        -8.63706360e+01],\n",
       "       [-9.96148758e+01, -1.16038315e+02, -1.11000412e+02,\n",
       "        -1.19564392e+02,  0.00000000e+00, -9.82418594e+01,\n",
       "        -7.79166260e+01, -8.02646637e+01, -6.44614563e+01,\n",
       "        -3.59614410e+01],\n",
       "       [-8.24851532e+01, -1.84482010e+02, -1.44639801e+02,\n",
       "        -1.38760773e+02, -4.05458183e+01, -8.48311005e+01,\n",
       "        -1.12507729e+02, -6.99339523e+01, -6.39540482e+01,\n",
       "         0.00000000e+00],\n",
       "       [-9.29752274e+01, -1.20605789e+02, -9.64448166e+01,\n",
       "        -1.50136383e+02,  0.00000000e+00, -1.19924889e+02,\n",
       "        -7.04155121e+01, -9.64468384e+01, -7.73246689e+01,\n",
       "        -5.19683380e+01],\n",
       "       [-4.26024208e+01, -4.12951279e+01, -1.02102776e+01,\n",
       "        -3.81469727e-05, -7.25743866e+01, -4.72905769e+01,\n",
       "        -6.61139221e+01, -7.63526306e+01, -2.28280544e+01,\n",
       "        -3.34169502e+01],\n",
       "       [-7.54507294e+01, -1.16934235e+02, -6.43695450e+01,\n",
       "        -1.34824677e+02, -4.99168091e+01, -9.17013702e+01,\n",
       "         0.00000000e+00, -1.12407410e+02, -6.59511490e+01,\n",
       "        -3.65117836e+01],\n",
       "       [-1.22985184e+02, -9.39167175e+01, -8.35357437e+01,\n",
       "        -1.20561890e+02,  0.00000000e+00, -8.53550110e+01,\n",
       "        -6.39937668e+01, -7.18926392e+01, -7.90700455e+01,\n",
       "        -4.42377205e+01],\n",
       "       [-1.46026581e+02,  0.00000000e+00, -5.15191536e+01,\n",
       "        -6.07251511e+01, -9.54584045e+01, -1.35375092e+02,\n",
       "        -1.21850090e+02, -9.38569794e+01, -7.31912079e+01,\n",
       "        -1.13552773e+02],\n",
       "       [-6.62610397e+01, -2.02337830e+02, -1.36521454e+02,\n",
       "        -1.29190750e+02, -8.46101990e+01, -8.01491852e+01,\n",
       "        -1.58493851e+02,  0.00000000e+00, -8.18035202e+01,\n",
       "        -1.73071518e+01],\n",
       "       [-1.12789612e+01, -1.91914856e+02, -3.03755035e+01,\n",
       "        -1.52587891e-05, -1.50998550e+02, -6.40106659e+01,\n",
       "        -1.15980759e+02, -8.34970856e+01, -4.51124306e+01,\n",
       "        -8.67458801e+01],\n",
       "       [-4.21546936e+01, -1.03064072e+02, -5.36877747e+01,\n",
       "        -9.83894501e+01, -6.54001236e+01, -4.21837616e+01,\n",
       "         0.00000000e+00, -1.24677109e+02, -7.83251572e+01,\n",
       "        -9.58566589e+01],\n",
       "       [-5.92734833e+01, -5.52272377e+01, -1.39731369e+01,\n",
       "        -5.60279694e+01, -8.29698410e+01, -5.74171143e+01,\n",
       "         0.00000000e+00, -5.62728882e+01, -6.47173004e+01,\n",
       "        -4.14556656e+01],\n",
       "       [ 0.00000000e+00, -2.89273529e+02, -2.03182068e+02,\n",
       "        -1.90870071e+02, -2.58374634e+02, -1.29278030e+02,\n",
       "        -2.24525513e+02, -2.17009033e+02, -1.53199951e+02,\n",
       "        -2.02002075e+02]], dtype=float32)"
      ]
     },
     "execution_count": 15,
     "metadata": {},
     "output_type": "execute_result"
    }
   ],
   "source": [
    "res.cpu().data"
   ]
  },
  {
   "cell_type": "code",
   "execution_count": 16,
   "id": "8eb71052",
   "metadata": {},
   "outputs": [
    {
     "data": {
      "text/plain": [
       "array([4.969031], dtype=float32)"
      ]
     },
     "execution_count": 16,
     "metadata": {},
     "output_type": "execute_result"
    }
   ],
   "source": [
    "loss.cpu().data"
   ]
  },
  {
   "cell_type": "code",
   "execution_count": 17,
   "id": "9ac039f6",
   "metadata": {},
   "outputs": [
    {
     "data": {
      "text/plain": [
       "array([[0., 0., 0., ..., 0., 0., 0.],\n",
       "       [0., 0., 0., ..., 0., 0., 0.],\n",
       "       [0., 0., 0., ..., 0., 0., 0.],\n",
       "       ...,\n",
       "       [0., 0., 0., ..., 0., 0., 0.],\n",
       "       [0., 0., 0., ..., 0., 0., 0.],\n",
       "       [0., 0., 0., ..., 0., 0., 0.]], dtype=float32)"
      ]
     },
     "execution_count": 17,
     "metadata": {},
     "output_type": "execute_result"
    }
   ],
   "source": [
    "model.W.grad.cpu().data"
   ]
  },
  {
   "cell_type": "code",
   "execution_count": 18,
   "id": "0075a703",
   "metadata": {},
   "outputs": [
    {
     "data": {
      "text/plain": [
       "array([[ 1.1085547e-06, -2.8954408e-04, -1.1160664e-03, ...,\n",
       "        -4.9087201e-04, -2.4068057e-04, -6.4794743e-04],\n",
       "       [ 6.3589111e-04,  1.7401173e-03,  2.9668221e-04, ...,\n",
       "        -9.0072118e-04, -1.3712501e-04,  1.2975790e-03],\n",
       "       [ 6.7527115e-04,  3.1958120e-05,  9.1814587e-04, ...,\n",
       "         3.2841109e-04, -4.9822475e-04, -2.0917768e-03],\n",
       "       ...,\n",
       "       [ 9.3478512e-04, -1.8844857e-04,  7.9919404e-04, ...,\n",
       "         2.3419906e-04,  1.0647394e-03,  8.2097884e-04],\n",
       "       [-1.4317269e-03,  5.1616301e-04,  5.3125765e-04, ...,\n",
       "         3.0876859e-04,  7.2942115e-04, -1.3654447e-03],\n",
       "       [-3.5375252e-04,  2.5481975e-03,  1.0601099e-03, ...,\n",
       "        -8.8676868e-04, -1.2762052e-03,  1.6803305e-03]], dtype=float32)"
      ]
     },
     "execution_count": 18,
     "metadata": {},
     "output_type": "execute_result"
    }
   ],
   "source": [
    " model.W.cpu().data"
   ]
  },
  {
   "cell_type": "markdown",
   "id": "1f62f27e",
   "metadata": {},
   "source": [
    "### Second"
   ]
  },
  {
   "cell_type": "code",
   "execution_count": 19,
   "id": "31a9604d",
   "metadata": {},
   "outputs": [],
   "source": [
    "model2 = MLP2()"
   ]
  },
  {
   "cell_type": "code",
   "execution_count": 20,
   "id": "0e020858",
   "metadata": {},
   "outputs": [],
   "source": [
    "optimizer2 = optim.SGD(model2.parameters(), lr=.0001)"
   ]
  },
  {
   "cell_type": "code",
   "execution_count": 21,
   "id": "0e613198",
   "metadata": {},
   "outputs": [
    {
     "name": "stderr",
     "output_type": "stream",
     "text": [
      "  0%|▎                                                                                                                                                      | 4/1875 [00:00<01:53, 16.44it/s]"
     ]
    },
    {
     "name": "stdout",
     "output_type": "stream",
     "text": [
      "LOSS:2.30  ACC:0.03\n",
      "LOSS:2.30  ACC:0.00\n",
      "LOSS:2.30  ACC:0.12\n",
      "LOSS:2.30  ACC:0.12\n",
      "LOSS:2.30  ACC:0.00\n"
     ]
    },
    {
     "name": "stderr",
     "output_type": "stream",
     "text": [
      "  1%|▊                                                                                                                                                     | 10/1875 [00:00<01:28, 21.07it/s]"
     ]
    },
    {
     "name": "stdout",
     "output_type": "stream",
     "text": [
      "LOSS:2.30  ACC:0.09\n",
      "LOSS:2.30  ACC:0.16\n",
      "LOSS:2.30  ACC:0.06\n",
      "LOSS:2.30  ACC:0.12\n",
      "LOSS:2.30  ACC:0.09\n"
     ]
    },
    {
     "name": "stderr",
     "output_type": "stream",
     "text": [
      "  1%|█▎                                                                                                                                                    | 16/1875 [00:00<01:17, 23.97it/s]"
     ]
    },
    {
     "name": "stdout",
     "output_type": "stream",
     "text": [
      "LOSS:2.30  ACC:0.06\n",
      "LOSS:2.30  ACC:0.06\n",
      "LOSS:2.30  ACC:0.12\n",
      "LOSS:2.30  ACC:0.16\n",
      "LOSS:2.30  ACC:0.12\n",
      "LOSS:2.30  ACC:0.03\n"
     ]
    },
    {
     "name": "stderr",
     "output_type": "stream",
     "text": [
      "\r",
      "  1%|█▌                                                                                                                                                    | 19/1875 [00:00<01:15, 24.57it/s]"
     ]
    },
    {
     "name": "stdout",
     "output_type": "stream",
     "text": [
      "LOSS:2.30  ACC:0.19\n",
      "LOSS:2.30  ACC:0.00\n",
      "LOSS:2.30  ACC:0.06\n",
      "LOSS:2.30  ACC:0.09\n",
      "LOSS:2.30  ACC:0.09\n"
     ]
    },
    {
     "name": "stderr",
     "output_type": "stream",
     "text": [
      "  1%|██                                                                                                                                                    | 25/1875 [00:01<01:17, 23.73it/s]"
     ]
    },
    {
     "name": "stdout",
     "output_type": "stream",
     "text": [
      "LOSS:2.30  ACC:0.06\n",
      "LOSS:2.30  ACC:0.00\n",
      "LOSS:2.31  ACC:0.06\n",
      "LOSS:2.30  ACC:0.06\n",
      "LOSS:2.30  ACC:0.00\n"
     ]
    },
    {
     "name": "stderr",
     "output_type": "stream",
     "text": [
      "  2%|██▍                                                                                                                                                   | 31/1875 [00:01<01:18, 23.60it/s]"
     ]
    },
    {
     "name": "stdout",
     "output_type": "stream",
     "text": [
      "LOSS:2.30  ACC:0.00\n",
      "LOSS:2.30  ACC:0.09\n",
      "LOSS:2.31  ACC:0.09\n",
      "LOSS:2.30  ACC:0.06\n",
      "LOSS:2.30  ACC:0.06\n"
     ]
    },
    {
     "name": "stderr",
     "output_type": "stream",
     "text": [
      "\r",
      "  2%|██▋                                                                                                                                                   | 34/1875 [00:01<01:18, 23.51it/s]"
     ]
    },
    {
     "name": "stdout",
     "output_type": "stream",
     "text": [
      "LOSS:2.30  ACC:0.12\n",
      "LOSS:2.30  ACC:0.22\n",
      "LOSS:2.30  ACC:0.09\n",
      "LOSS:2.30  ACC:0.06\n",
      "LOSS:2.30  ACC:0.09\n"
     ]
    },
    {
     "name": "stderr",
     "output_type": "stream",
     "text": [
      "  2%|███▏                                                                                                                                                  | 40/1875 [00:01<01:18, 23.49it/s]"
     ]
    },
    {
     "name": "stdout",
     "output_type": "stream",
     "text": [
      "LOSS:2.30  ACC:0.03\n",
      "LOSS:2.30  ACC:0.00\n",
      "LOSS:2.30  ACC:0.06\n",
      "LOSS:2.31  ACC:0.00\n",
      "LOSS:2.31  ACC:0.06\n"
     ]
    },
    {
     "name": "stderr",
     "output_type": "stream",
     "text": [
      "  2%|███▋                                                                                                                                                  | 46/1875 [00:02<01:16, 23.78it/s]"
     ]
    },
    {
     "name": "stdout",
     "output_type": "stream",
     "text": [
      "LOSS:2.30  ACC:0.00\n",
      "LOSS:2.30  ACC:0.06\n",
      "LOSS:2.30  ACC:0.09\n",
      "LOSS:2.30  ACC:0.03\n",
      "LOSS:2.30  ACC:0.06\n",
      "LOSS:2.30  ACC:0.09\n"
     ]
    },
    {
     "name": "stderr",
     "output_type": "stream",
     "text": [
      "  3%|████▏                                                                                                                                                 | 52/1875 [00:02<01:16, 23.71it/s]"
     ]
    },
    {
     "name": "stdout",
     "output_type": "stream",
     "text": [
      "LOSS:2.30  ACC:0.12\n",
      "LOSS:2.31  ACC:0.00\n",
      "LOSS:2.30  ACC:0.19\n",
      "LOSS:2.30  ACC:0.12\n",
      "LOSS:2.30  ACC:0.09\n"
     ]
    },
    {
     "name": "stderr",
     "output_type": "stream",
     "text": [
      "  3%|████▋                                                                                                                                                 | 58/1875 [00:02<01:14, 24.36it/s]"
     ]
    },
    {
     "name": "stdout",
     "output_type": "stream",
     "text": [
      "LOSS:2.30  ACC:0.06\n",
      "LOSS:2.30  ACC:0.03\n",
      "LOSS:2.30  ACC:0.03\n",
      "LOSS:2.31  ACC:0.00\n",
      "LOSS:2.30  ACC:0.09\n",
      "LOSS:2.30  ACC:0.00\n"
     ]
    },
    {
     "name": "stderr",
     "output_type": "stream",
     "text": [
      "\r",
      "  3%|████▉                                                                                                                                                 | 61/1875 [00:02<01:16, 23.82it/s]"
     ]
    },
    {
     "name": "stdout",
     "output_type": "stream",
     "text": [
      "LOSS:2.30  ACC:0.06\n",
      "LOSS:2.30  ACC:0.03\n",
      "LOSS:2.30  ACC:0.03\n",
      "LOSS:2.30  ACC:0.03\n",
      "LOSS:2.30  ACC:0.06\n"
     ]
    },
    {
     "name": "stderr",
     "output_type": "stream",
     "text": [
      "  4%|█████▎                                                                                                                                                | 67/1875 [00:02<01:14, 24.25it/s]"
     ]
    },
    {
     "name": "stdout",
     "output_type": "stream",
     "text": [
      "LOSS:2.31  ACC:0.00\n",
      "LOSS:2.30  ACC:0.06\n",
      "LOSS:2.30  ACC:0.12\n",
      "LOSS:2.30  ACC:0.03\n",
      "LOSS:2.31  ACC:0.06\n"
     ]
    },
    {
     "name": "stderr",
     "output_type": "stream",
     "text": [
      "  4%|█████▊                                                                                                                                                | 73/1875 [00:03<01:15, 23.81it/s]"
     ]
    },
    {
     "name": "stdout",
     "output_type": "stream",
     "text": [
      "LOSS:2.30  ACC:0.06\n",
      "LOSS:2.30  ACC:0.03\n",
      "LOSS:2.30  ACC:0.03\n",
      "LOSS:2.30  ACC:0.09\n",
      "LOSS:2.30  ACC:0.06\n"
     ]
    },
    {
     "name": "stderr",
     "output_type": "stream",
     "text": [
      "\r",
      "  4%|██████                                                                                                                                                | 76/1875 [00:03<01:13, 24.58it/s]"
     ]
    },
    {
     "name": "stdout",
     "output_type": "stream",
     "text": [
      "LOSS:2.30  ACC:0.12\n",
      "LOSS:2.30  ACC:0.12\n",
      "LOSS:2.30  ACC:0.06\n",
      "LOSS:2.30  ACC:0.16\n",
      "LOSS:2.30  ACC:0.06\n"
     ]
    },
    {
     "name": "stderr",
     "output_type": "stream",
     "text": [
      "  4%|██████▌                                                                                                                                               | 82/1875 [00:03<01:16, 23.49it/s]"
     ]
    },
    {
     "name": "stdout",
     "output_type": "stream",
     "text": [
      "LOSS:2.30  ACC:0.09\n",
      "LOSS:2.30  ACC:0.19\n",
      "LOSS:2.30  ACC:0.06\n",
      "LOSS:2.30  ACC:0.03\n",
      "LOSS:2.30  ACC:0.09\n"
     ]
    },
    {
     "name": "stderr",
     "output_type": "stream",
     "text": [
      "  5%|███████                                                                                                                                               | 88/1875 [00:03<01:11, 25.02it/s]"
     ]
    },
    {
     "name": "stdout",
     "output_type": "stream",
     "text": [
      "LOSS:2.31  ACC:0.00\n",
      "LOSS:2.30  ACC:0.00\n",
      "LOSS:2.30  ACC:0.03\n",
      "LOSS:2.30  ACC:0.03\n",
      "LOSS:2.31  ACC:0.00\n",
      "LOSS:2.30  ACC:0.03\n"
     ]
    },
    {
     "name": "stderr",
     "output_type": "stream",
     "text": [
      "  5%|███████▌                                                                                                                                              | 94/1875 [00:03<01:08, 25.92it/s]"
     ]
    },
    {
     "name": "stdout",
     "output_type": "stream",
     "text": [
      "LOSS:2.30  ACC:0.03\n",
      "LOSS:2.30  ACC:0.16\n",
      "LOSS:2.31  ACC:0.03\n",
      "LOSS:2.30  ACC:0.09\n",
      "LOSS:2.30  ACC:0.03\n",
      "LOSS:2.30  ACC:0.09\n"
     ]
    },
    {
     "name": "stderr",
     "output_type": "stream",
     "text": [
      "  5%|███████▉                                                                                                                                             | 100/1875 [00:04<01:07, 26.38it/s]"
     ]
    },
    {
     "name": "stdout",
     "output_type": "stream",
     "text": [
      "LOSS:2.31  ACC:0.03\n",
      "LOSS:2.31  ACC:0.03\n",
      "LOSS:2.30  ACC:0.06\n",
      "LOSS:2.30  ACC:0.09\n",
      "LOSS:2.30  ACC:0.06\n",
      "LOSS:2.30  ACC:0.06\n"
     ]
    },
    {
     "name": "stderr",
     "output_type": "stream",
     "text": [
      "  6%|████████▍                                                                                                                                            | 106/1875 [00:04<01:06, 26.52it/s]"
     ]
    },
    {
     "name": "stdout",
     "output_type": "stream",
     "text": [
      "LOSS:2.30  ACC:0.09\n",
      "LOSS:2.31  ACC:0.06\n",
      "LOSS:2.30  ACC:0.00\n",
      "LOSS:2.30  ACC:0.03\n",
      "LOSS:2.30  ACC:0.06\n",
      "LOSS:2.30  ACC:0.03\n"
     ]
    },
    {
     "name": "stderr",
     "output_type": "stream",
     "text": [
      "  6%|████████▉                                                                                                                                            | 112/1875 [00:04<01:06, 26.64it/s]"
     ]
    },
    {
     "name": "stdout",
     "output_type": "stream",
     "text": [
      "LOSS:2.30  ACC:0.03\n",
      "LOSS:2.30  ACC:0.06\n",
      "LOSS:2.30  ACC:0.06\n",
      "LOSS:2.30  ACC:0.09\n",
      "LOSS:2.30  ACC:0.03\n",
      "LOSS:2.30  ACC:0.16\n"
     ]
    },
    {
     "name": "stderr",
     "output_type": "stream",
     "text": [
      "  6%|█████████▍                                                                                                                                           | 118/1875 [00:04<01:05, 26.75it/s]"
     ]
    },
    {
     "name": "stdout",
     "output_type": "stream",
     "text": [
      "LOSS:2.30  ACC:0.16\n",
      "LOSS:2.30  ACC:0.03\n",
      "LOSS:2.30  ACC:0.06\n",
      "LOSS:2.30  ACC:0.06\n",
      "LOSS:2.31  ACC:0.00\n",
      "LOSS:2.30  ACC:0.16\n"
     ]
    },
    {
     "name": "stderr",
     "output_type": "stream",
     "text": [
      "  7%|█████████▊                                                                                                                                           | 124/1875 [00:05<01:06, 26.46it/s]"
     ]
    },
    {
     "name": "stdout",
     "output_type": "stream",
     "text": [
      "LOSS:2.30  ACC:0.09\n",
      "LOSS:2.31  ACC:0.06\n",
      "LOSS:2.30  ACC:0.09\n",
      "LOSS:2.31  ACC:0.03\n",
      "LOSS:2.31  ACC:0.03\n",
      "LOSS:2.31  ACC:0.03\n"
     ]
    },
    {
     "name": "stderr",
     "output_type": "stream",
     "text": [
      "  7%|██████████▎                                                                                                                                          | 130/1875 [00:05<01:05, 26.60it/s]"
     ]
    },
    {
     "name": "stdout",
     "output_type": "stream",
     "text": [
      "LOSS:2.30  ACC:0.06\n",
      "LOSS:2.31  ACC:0.03\n",
      "LOSS:2.30  ACC:0.09\n",
      "LOSS:2.30  ACC:0.06\n",
      "LOSS:2.30  ACC:0.06\n",
      "LOSS:2.30  ACC:0.09\n"
     ]
    },
    {
     "name": "stderr",
     "output_type": "stream",
     "text": [
      "  7%|██████████▊                                                                                                                                          | 136/1875 [00:05<01:07, 25.69it/s]"
     ]
    },
    {
     "name": "stdout",
     "output_type": "stream",
     "text": [
      "LOSS:2.30  ACC:0.12\n",
      "LOSS:2.30  ACC:0.06\n",
      "LOSS:2.30  ACC:0.06\n",
      "LOSS:2.30  ACC:0.09\n",
      "LOSS:2.30  ACC:0.12\n"
     ]
    },
    {
     "name": "stderr",
     "output_type": "stream",
     "text": [
      "\r",
      "  7%|███████████                                                                                                                                          | 139/1875 [00:05<01:08, 25.38it/s]"
     ]
    },
    {
     "name": "stdout",
     "output_type": "stream",
     "text": [
      "LOSS:2.30  ACC:0.06\n",
      "LOSS:2.30  ACC:0.00\n",
      "LOSS:2.30  ACC:0.03\n",
      "LOSS:2.30  ACC:0.00\n",
      "LOSS:2.30  ACC:0.06\n"
     ]
    },
    {
     "name": "stderr",
     "output_type": "stream",
     "text": [
      "  8%|███████████▌                                                                                                                                         | 145/1875 [00:05<01:09, 24.93it/s]"
     ]
    },
    {
     "name": "stdout",
     "output_type": "stream",
     "text": [
      "LOSS:2.30  ACC:0.12\n",
      "LOSS:2.30  ACC:0.03\n",
      "LOSS:2.31  ACC:0.06\n",
      "LOSS:2.30  ACC:0.00\n",
      "LOSS:2.30  ACC:0.06\n"
     ]
    },
    {
     "name": "stderr",
     "output_type": "stream",
     "text": [
      "  8%|███████████▉                                                                                                                                         | 151/1875 [00:06<01:09, 24.68it/s]"
     ]
    },
    {
     "name": "stdout",
     "output_type": "stream",
     "text": [
      "LOSS:2.31  ACC:0.06\n",
      "LOSS:2.30  ACC:0.00\n",
      "LOSS:2.30  ACC:0.06\n",
      "LOSS:2.30  ACC:0.06\n",
      "LOSS:2.31  ACC:0.00\n"
     ]
    },
    {
     "name": "stderr",
     "output_type": "stream",
     "text": [
      "\r",
      "  8%|████████████▏                                                                                                                                        | 154/1875 [00:06<01:10, 24.44it/s]"
     ]
    },
    {
     "name": "stdout",
     "output_type": "stream",
     "text": [
      "LOSS:2.31  ACC:0.09\n",
      "LOSS:2.30  ACC:0.06\n",
      "LOSS:2.30  ACC:0.06\n",
      "LOSS:2.30  ACC:0.09\n",
      "LOSS:2.30  ACC:0.03\n"
     ]
    },
    {
     "name": "stderr",
     "output_type": "stream",
     "text": [
      "  9%|████████████▋                                                                                                                                        | 160/1875 [00:06<01:09, 24.60it/s]"
     ]
    },
    {
     "name": "stdout",
     "output_type": "stream",
     "text": [
      "LOSS:2.30  ACC:0.06\n",
      "LOSS:2.30  ACC:0.03\n",
      "LOSS:2.30  ACC:0.03\n",
      "LOSS:2.30  ACC:0.00\n",
      "LOSS:2.30  ACC:0.12\n"
     ]
    },
    {
     "name": "stderr",
     "output_type": "stream",
     "text": [
      "  9%|█████████████▏                                                                                                                                       | 166/1875 [00:06<01:09, 24.70it/s]"
     ]
    },
    {
     "name": "stdout",
     "output_type": "stream",
     "text": [
      "LOSS:2.30  ACC:0.09\n",
      "LOSS:2.30  ACC:0.09\n",
      "LOSS:2.30  ACC:0.03\n",
      "LOSS:2.30  ACC:0.09\n",
      "LOSS:2.30  ACC:0.06\n",
      "LOSS:2.30  ACC:0.06\n"
     ]
    },
    {
     "name": "stderr",
     "output_type": "stream",
     "text": [
      "  9%|█████████████▋                                                                                                                                       | 172/1875 [00:07<01:08, 24.71it/s]"
     ]
    },
    {
     "name": "stdout",
     "output_type": "stream",
     "text": [
      "LOSS:2.30  ACC:0.03\n",
      "LOSS:2.30  ACC:0.03\n",
      "LOSS:2.30  ACC:0.06\n",
      "LOSS:2.30  ACC:0.09\n",
      "LOSS:2.30  ACC:0.12\n",
      "LOSS:2.30  ACC:0.09\n"
     ]
    },
    {
     "name": "stderr",
     "output_type": "stream",
     "text": [
      "  9%|██████████████▏                                                                                                                                      | 178/1875 [00:07<01:06, 25.61it/s]"
     ]
    },
    {
     "name": "stdout",
     "output_type": "stream",
     "text": [
      "LOSS:2.30  ACC:0.09\n",
      "LOSS:2.30  ACC:0.06\n",
      "LOSS:2.30  ACC:0.03\n",
      "LOSS:2.30  ACC:0.06\n",
      "LOSS:2.31  ACC:0.03\n",
      "LOSS:2.30  ACC:0.06\n"
     ]
    },
    {
     "name": "stderr",
     "output_type": "stream",
     "text": [
      " 10%|██████████████▌                                                                                                                                      | 184/1875 [00:07<01:04, 26.04it/s]"
     ]
    },
    {
     "name": "stdout",
     "output_type": "stream",
     "text": [
      "LOSS:2.30  ACC:0.06\n",
      "LOSS:2.30  ACC:0.06\n",
      "LOSS:2.30  ACC:0.03\n",
      "LOSS:2.30  ACC:0.09\n",
      "LOSS:2.30  ACC:0.06\n",
      "LOSS:2.30  ACC:0.06\n"
     ]
    },
    {
     "name": "stderr",
     "output_type": "stream",
     "text": [
      " 10%|███████████████                                                                                                                                      | 190/1875 [00:07<01:03, 26.38it/s]"
     ]
    },
    {
     "name": "stdout",
     "output_type": "stream",
     "text": [
      "LOSS:2.30  ACC:0.06\n",
      "LOSS:2.30  ACC:0.06\n",
      "LOSS:2.31  ACC:0.09\n",
      "LOSS:2.31  ACC:0.09\n",
      "LOSS:2.30  ACC:0.09\n",
      "LOSS:2.30  ACC:0.06\n"
     ]
    },
    {
     "name": "stderr",
     "output_type": "stream",
     "text": [
      " 10%|███████████████▌                                                                                                                                     | 196/1875 [00:07<01:03, 26.51it/s]"
     ]
    },
    {
     "name": "stdout",
     "output_type": "stream",
     "text": [
      "LOSS:2.30  ACC:0.03\n",
      "LOSS:2.31  ACC:0.09\n",
      "LOSS:2.30  ACC:0.00\n",
      "LOSS:2.30  ACC:0.06\n",
      "LOSS:2.31  ACC:0.00\n",
      "LOSS:2.30  ACC:0.06\n"
     ]
    },
    {
     "name": "stderr",
     "output_type": "stream",
     "text": [
      " 11%|████████████████                                                                                                                                     | 202/1875 [00:08<01:02, 26.64it/s]"
     ]
    },
    {
     "name": "stdout",
     "output_type": "stream",
     "text": [
      "LOSS:2.30  ACC:0.12\n",
      "LOSS:2.30  ACC:0.12\n",
      "LOSS:2.30  ACC:0.03\n",
      "LOSS:2.30  ACC:0.03\n",
      "LOSS:2.30  ACC:0.09\n",
      "LOSS:2.30  ACC:0.00\n"
     ]
    },
    {
     "name": "stderr",
     "output_type": "stream",
     "text": [
      " 11%|████████████████▌                                                                                                                                    | 208/1875 [00:08<01:02, 26.46it/s]"
     ]
    },
    {
     "name": "stdout",
     "output_type": "stream",
     "text": [
      "LOSS:2.30  ACC:0.09\n",
      "LOSS:2.30  ACC:0.06\n",
      "LOSS:2.31  ACC:0.06\n",
      "LOSS:2.30  ACC:0.00\n",
      "LOSS:2.30  ACC:0.09\n",
      "LOSS:2.30  ACC:0.12\n"
     ]
    },
    {
     "name": "stderr",
     "output_type": "stream",
     "text": [
      " 11%|█████████████████                                                                                                                                    | 214/1875 [00:08<01:02, 26.56it/s]"
     ]
    },
    {
     "name": "stdout",
     "output_type": "stream",
     "text": [
      "LOSS:2.30  ACC:0.06\n",
      "LOSS:2.30  ACC:0.06\n",
      "LOSS:2.30  ACC:0.06\n",
      "LOSS:2.31  ACC:0.03\n",
      "LOSS:2.30  ACC:0.06\n",
      "LOSS:2.30  ACC:0.16\n"
     ]
    },
    {
     "name": "stderr",
     "output_type": "stream",
     "text": [
      " 12%|█████████████████▍                                                                                                                                   | 220/1875 [00:08<01:02, 26.45it/s]"
     ]
    },
    {
     "name": "stdout",
     "output_type": "stream",
     "text": [
      "LOSS:2.31  ACC:0.03\n",
      "LOSS:2.30  ACC:0.00\n",
      "LOSS:2.30  ACC:0.16\n",
      "LOSS:2.30  ACC:0.19\n",
      "LOSS:2.30  ACC:0.09\n",
      "LOSS:2.30  ACC:0.09\n"
     ]
    },
    {
     "name": "stderr",
     "output_type": "stream",
     "text": [
      " 12%|█████████████████▉                                                                                                                                   | 226/1875 [00:09<01:02, 26.48it/s]"
     ]
    },
    {
     "name": "stdout",
     "output_type": "stream",
     "text": [
      "LOSS:2.30  ACC:0.06\n",
      "LOSS:2.30  ACC:0.06\n",
      "LOSS:2.30  ACC:0.16\n",
      "LOSS:2.30  ACC:0.00\n",
      "LOSS:2.30  ACC:0.09\n",
      "LOSS:2.30  ACC:0.06\n"
     ]
    },
    {
     "name": "stderr",
     "output_type": "stream",
     "text": [
      " 12%|██████████████████▍                                                                                                                                  | 232/1875 [00:09<01:01, 26.60it/s]"
     ]
    },
    {
     "name": "stdout",
     "output_type": "stream",
     "text": [
      "LOSS:2.30  ACC:0.09\n",
      "LOSS:2.30  ACC:0.09\n",
      "LOSS:2.30  ACC:0.03\n",
      "LOSS:2.30  ACC:0.12\n",
      "LOSS:2.30  ACC:0.00\n",
      "LOSS:2.30  ACC:0.03\n"
     ]
    },
    {
     "name": "stderr",
     "output_type": "stream",
     "text": [
      " 13%|██████████████████▉                                                                                                                                  | 238/1875 [00:09<01:01, 26.66it/s]"
     ]
    },
    {
     "name": "stdout",
     "output_type": "stream",
     "text": [
      "LOSS:2.30  ACC:0.03\n",
      "LOSS:2.31  ACC:0.00\n",
      "LOSS:2.30  ACC:0.03\n",
      "LOSS:2.30  ACC:0.09\n",
      "LOSS:2.30  ACC:0.03\n",
      "LOSS:2.30  ACC:0.03\n"
     ]
    },
    {
     "name": "stderr",
     "output_type": "stream",
     "text": [
      " 13%|███████████████████▍                                                                                                                                 | 244/1875 [00:09<01:02, 26.13it/s]"
     ]
    },
    {
     "name": "stdout",
     "output_type": "stream",
     "text": [
      "LOSS:2.30  ACC:0.09\n",
      "LOSS:2.30  ACC:0.09\n",
      "LOSS:2.31  ACC:0.00\n",
      "LOSS:2.30  ACC:0.03\n",
      "LOSS:2.30  ACC:0.03\n",
      "LOSS:2.30  ACC:0.03\n"
     ]
    },
    {
     "name": "stderr",
     "output_type": "stream",
     "text": [
      " 13%|███████████████████▊                                                                                                                                 | 250/1875 [00:09<01:02, 26.13it/s]"
     ]
    },
    {
     "name": "stdout",
     "output_type": "stream",
     "text": [
      "LOSS:2.31  ACC:0.00\n",
      "LOSS:2.30  ACC:0.12\n",
      "LOSS:2.30  ACC:0.09\n",
      "LOSS:2.30  ACC:0.06\n",
      "LOSS:2.31  ACC:0.09\n",
      "LOSS:2.30  ACC:0.19\n"
     ]
    },
    {
     "name": "stderr",
     "output_type": "stream",
     "text": [
      " 14%|████████████████████▎                                                                                                                                | 256/1875 [00:10<01:01, 26.40it/s]"
     ]
    },
    {
     "name": "stdout",
     "output_type": "stream",
     "text": [
      "LOSS:2.30  ACC:0.03\n",
      "LOSS:2.30  ACC:0.12\n",
      "LOSS:2.30  ACC:0.16\n",
      "LOSS:2.30  ACC:0.09\n",
      "LOSS:2.30  ACC:0.06\n",
      "LOSS:2.30  ACC:0.09\n"
     ]
    },
    {
     "name": "stderr",
     "output_type": "stream",
     "text": [
      " 14%|████████████████████▊                                                                                                                                | 262/1875 [00:10<01:00, 26.47it/s]"
     ]
    },
    {
     "name": "stdout",
     "output_type": "stream",
     "text": [
      "LOSS:2.30  ACC:0.06\n",
      "LOSS:2.30  ACC:0.06\n",
      "LOSS:2.30  ACC:0.00\n",
      "LOSS:2.30  ACC:0.06\n",
      "LOSS:2.30  ACC:0.12\n",
      "LOSS:2.30  ACC:0.06\n"
     ]
    },
    {
     "name": "stderr",
     "output_type": "stream",
     "text": [
      " 14%|█████████████████████▎                                                                                                                               | 268/1875 [00:10<01:00, 26.57it/s]"
     ]
    },
    {
     "name": "stdout",
     "output_type": "stream",
     "text": [
      "LOSS:2.30  ACC:0.03\n",
      "LOSS:2.30  ACC:0.09\n",
      "LOSS:2.31  ACC:0.09\n",
      "LOSS:2.30  ACC:0.12\n",
      "LOSS:2.30  ACC:0.03\n",
      "LOSS:2.30  ACC:0.03\n"
     ]
    },
    {
     "name": "stderr",
     "output_type": "stream",
     "text": [
      " 15%|█████████████████████▊                                                                                                                               | 274/1875 [00:10<01:00, 26.47it/s]"
     ]
    },
    {
     "name": "stdout",
     "output_type": "stream",
     "text": [
      "LOSS:2.30  ACC:0.03\n",
      "LOSS:2.30  ACC:0.06\n",
      "LOSS:2.30  ACC:0.16\n",
      "LOSS:2.30  ACC:0.12\n",
      "LOSS:2.30  ACC:0.12\n",
      "LOSS:2.30  ACC:0.16\n"
     ]
    },
    {
     "name": "stderr",
     "output_type": "stream",
     "text": [
      " 15%|██████████████████████▎                                                                                                                              | 280/1875 [00:11<01:00, 26.46it/s]"
     ]
    },
    {
     "name": "stdout",
     "output_type": "stream",
     "text": [
      "LOSS:2.30  ACC:0.12\n",
      "LOSS:2.30  ACC:0.03\n",
      "LOSS:2.30  ACC:0.06\n",
      "LOSS:2.30  ACC:0.03\n",
      "LOSS:2.31  ACC:0.00\n",
      "LOSS:2.30  ACC:0.03\n"
     ]
    },
    {
     "name": "stderr",
     "output_type": "stream",
     "text": [
      " 15%|██████████████████████▎                                                                                                                              | 281/1875 [00:11<01:03, 25.11it/s]\n"
     ]
    },
    {
     "ename": "KeyboardInterrupt",
     "evalue": "",
     "output_type": "error",
     "traceback": [
      "\u001b[0;31m---------------------------------------------------------------------------\u001b[0m",
      "\u001b[0;31mKeyboardInterrupt\u001b[0m                         Traceback (most recent call last)",
      "\u001b[0;32m/tmp/ipykernel_27073/2184443054.py\u001b[0m in \u001b[0;36m<module>\u001b[0;34m\u001b[0m\n\u001b[1;32m     13\u001b[0m         \u001b[0;31m#print(res2.cpu().data[:4])\u001b[0m\u001b[0;34m\u001b[0m\u001b[0;34m\u001b[0m\u001b[0;34m\u001b[0m\u001b[0m\n\u001b[1;32m     14\u001b[0m         \u001b[0;31m#print(y[:4])\u001b[0m\u001b[0;34m\u001b[0m\u001b[0;34m\u001b[0m\u001b[0;34m\u001b[0m\u001b[0m\n\u001b[0;32m---> 15\u001b[0;31m         \u001b[0mloss2\u001b[0m\u001b[0;34m.\u001b[0m\u001b[0mbackward\u001b[0m\u001b[0;34m(\u001b[0m\u001b[0;34m)\u001b[0m\u001b[0;34m\u001b[0m\u001b[0;34m\u001b[0m\u001b[0m\n\u001b[0m\u001b[1;32m     16\u001b[0m         \u001b[0moptimizer2\u001b[0m\u001b[0;34m.\u001b[0m\u001b[0mstep\u001b[0m\u001b[0;34m(\u001b[0m\u001b[0;34m)\u001b[0m\u001b[0;34m\u001b[0m\u001b[0;34m\u001b[0m\u001b[0m\n\u001b[1;32m     17\u001b[0m \u001b[0;34m\u001b[0m\u001b[0m\n",
      "\u001b[0;32m/mnt/HD2/ML/tinygrad/tinygrad/densetensor.py\u001b[0m in \u001b[0;36mbackward\u001b[0;34m(self)\u001b[0m\n\u001b[1;32m    149\u001b[0m       \u001b[0;32mwith\u001b[0m \u001b[0mProfileOp\u001b[0m\u001b[0;34m(\u001b[0m\u001b[0mt0\u001b[0m\u001b[0;34m.\u001b[0m\u001b[0m_ctx\u001b[0m\u001b[0;34m.\u001b[0m\u001b[0m__class__\u001b[0m\u001b[0;34m.\u001b[0m\u001b[0m__name__\u001b[0m\u001b[0;34m,\u001b[0m \u001b[0;34m[\u001b[0m\u001b[0mt0\u001b[0m\u001b[0;34m.\u001b[0m\u001b[0mgrad\u001b[0m\u001b[0;34m]\u001b[0m\u001b[0;34m,\u001b[0m \u001b[0mbackward\u001b[0m\u001b[0;34m=\u001b[0m\u001b[0;32mTrue\u001b[0m\u001b[0;34m)\u001b[0m \u001b[0;32mas\u001b[0m \u001b[0mpo\u001b[0m\u001b[0;34m:\u001b[0m\u001b[0;34m\u001b[0m\u001b[0;34m\u001b[0m\u001b[0m\n\u001b[1;32m    150\u001b[0m         \u001b[0;31m# print('t0:', t0, t0._ctx.__class__.__name__, t0.grad.cpu().data)\u001b[0m\u001b[0;34m\u001b[0m\u001b[0;34m\u001b[0m\u001b[0;34m\u001b[0m\u001b[0m\n\u001b[0;32m--> 151\u001b[0;31m         \u001b[0mgrads\u001b[0m \u001b[0;34m=\u001b[0m \u001b[0mt0\u001b[0m\u001b[0;34m.\u001b[0m\u001b[0m_ctx\u001b[0m\u001b[0;34m.\u001b[0m\u001b[0mbackward\u001b[0m\u001b[0;34m(\u001b[0m\u001b[0mt0\u001b[0m\u001b[0;34m.\u001b[0m\u001b[0m_ctx\u001b[0m\u001b[0;34m,\u001b[0m \u001b[0mt0\u001b[0m\u001b[0;34m.\u001b[0m\u001b[0mgrad\u001b[0m\u001b[0;34m.\u001b[0m\u001b[0mdata\u001b[0m\u001b[0;34m)\u001b[0m\u001b[0;34m\u001b[0m\u001b[0;34m\u001b[0m\u001b[0m\n\u001b[0m\u001b[1;32m    152\u001b[0m       \u001b[0;32mif\u001b[0m \u001b[0mlen\u001b[0m\u001b[0;34m(\u001b[0m\u001b[0mt0\u001b[0m\u001b[0;34m.\u001b[0m\u001b[0m_ctx\u001b[0m\u001b[0;34m.\u001b[0m\u001b[0mparents\u001b[0m\u001b[0;34m)\u001b[0m \u001b[0;34m==\u001b[0m \u001b[0;36m1\u001b[0m\u001b[0;34m:\u001b[0m\u001b[0;34m\u001b[0m\u001b[0;34m\u001b[0m\u001b[0m\n\u001b[1;32m    153\u001b[0m         \u001b[0mgrads\u001b[0m \u001b[0;34m=\u001b[0m \u001b[0;34m[\u001b[0m\u001b[0mgrads\u001b[0m\u001b[0;34m]\u001b[0m\u001b[0;34m\u001b[0m\u001b[0;34m\u001b[0m\u001b[0m\n",
      "\u001b[0;32m/mnt/HD2/ML/tinygrad/tinygrad/ops_gpu.py\u001b[0m in \u001b[0;36mbackward\u001b[0;34m(ctx, grad_output)\u001b[0m\n\u001b[1;32m    216\u001b[0m     \u001b[0mgrad_x\u001b[0m \u001b[0;34m=\u001b[0m \u001b[0mbinary_op\u001b[0m\u001b[0;34m(\u001b[0m\u001b[0mctx\u001b[0m\u001b[0;34m,\u001b[0m \u001b[0;34m'a*b'\u001b[0m\u001b[0;34m,\u001b[0m \u001b[0my\u001b[0m\u001b[0;34m,\u001b[0m \u001b[0mgrad_output\u001b[0m\u001b[0;34m)\u001b[0m\u001b[0;34m\u001b[0m\u001b[0;34m\u001b[0m\u001b[0m\n\u001b[1;32m    217\u001b[0m     \u001b[0mgrad_y\u001b[0m \u001b[0;34m=\u001b[0m \u001b[0mbinary_op\u001b[0m\u001b[0;34m(\u001b[0m\u001b[0mctx\u001b[0m\u001b[0;34m,\u001b[0m \u001b[0;34m'a*b'\u001b[0m\u001b[0;34m,\u001b[0m \u001b[0mx\u001b[0m\u001b[0;34m,\u001b[0m \u001b[0mgrad_output\u001b[0m\u001b[0;34m)\u001b[0m\u001b[0;34m\u001b[0m\u001b[0;34m\u001b[0m\u001b[0m\n\u001b[0;32m--> 218\u001b[0;31m     \u001b[0;32mreturn\u001b[0m \u001b[0munbroadcast\u001b[0m\u001b[0;34m(\u001b[0m\u001b[0mctx\u001b[0m\u001b[0;34m,\u001b[0m \u001b[0mgrad_x\u001b[0m\u001b[0;34m,\u001b[0m \u001b[0mx\u001b[0m\u001b[0;34m.\u001b[0m\u001b[0mshape\u001b[0m\u001b[0;34m)\u001b[0m\u001b[0;34m,\u001b[0m \u001b[0munbroadcast\u001b[0m\u001b[0;34m(\u001b[0m\u001b[0mctx\u001b[0m\u001b[0;34m,\u001b[0m \u001b[0mgrad_y\u001b[0m\u001b[0;34m,\u001b[0m \u001b[0my\u001b[0m\u001b[0;34m.\u001b[0m\u001b[0mshape\u001b[0m\u001b[0;34m)\u001b[0m\u001b[0;34m,\u001b[0m\u001b[0;34m\u001b[0m\u001b[0;34m\u001b[0m\u001b[0m\n\u001b[0m\u001b[1;32m    219\u001b[0m \u001b[0;34m\u001b[0m\u001b[0m\n\u001b[1;32m    220\u001b[0m \u001b[0;32mclass\u001b[0m \u001b[0mPow\u001b[0m\u001b[0;34m(\u001b[0m\u001b[0mFunction\u001b[0m\u001b[0;34m)\u001b[0m\u001b[0;34m:\u001b[0m\u001b[0;34m\u001b[0m\u001b[0;34m\u001b[0m\u001b[0m\n",
      "\u001b[0;32m/mnt/HD2/ML/tinygrad/tinygrad/ops_gpu.py\u001b[0m in \u001b[0;36munbroadcast\u001b[0;34m(ctx, out, in_sh)\u001b[0m\n\u001b[1;32m    185\u001b[0m \u001b[0;32mdef\u001b[0m \u001b[0munbroadcast\u001b[0m\u001b[0;34m(\u001b[0m\u001b[0mctx\u001b[0m\u001b[0;34m,\u001b[0m \u001b[0mout\u001b[0m\u001b[0;34m,\u001b[0m \u001b[0min_sh\u001b[0m\u001b[0;34m)\u001b[0m\u001b[0;34m:\u001b[0m\u001b[0;34m\u001b[0m\u001b[0;34m\u001b[0m\u001b[0m\n\u001b[1;32m    186\u001b[0m   \u001b[0msum_axis\u001b[0m \u001b[0;34m=\u001b[0m \u001b[0;34m[\u001b[0m\u001b[0mi\u001b[0m \u001b[0;32mfor\u001b[0m \u001b[0mi\u001b[0m \u001b[0;32min\u001b[0m \u001b[0mrange\u001b[0m\u001b[0;34m(\u001b[0m\u001b[0mlen\u001b[0m\u001b[0;34m(\u001b[0m\u001b[0min_sh\u001b[0m\u001b[0;34m)\u001b[0m\u001b[0;34m)\u001b[0m \u001b[0;32mif\u001b[0m \u001b[0min_sh\u001b[0m\u001b[0;34m[\u001b[0m\u001b[0mi\u001b[0m\u001b[0;34m]\u001b[0m\u001b[0;34m==\u001b[0m\u001b[0;36m1\u001b[0m \u001b[0;32mand\u001b[0m \u001b[0mout\u001b[0m\u001b[0;34m.\u001b[0m\u001b[0mshape\u001b[0m\u001b[0;34m[\u001b[0m\u001b[0mi\u001b[0m\u001b[0;34m]\u001b[0m\u001b[0;34m>\u001b[0m\u001b[0;36m1\u001b[0m\u001b[0;34m]\u001b[0m \u001b[0;32mif\u001b[0m \u001b[0min_sh\u001b[0m \u001b[0;34m!=\u001b[0m \u001b[0;34m(\u001b[0m\u001b[0;36m1\u001b[0m\u001b[0;34m,\u001b[0m\u001b[0;34m)\u001b[0m \u001b[0;32melse\u001b[0m \u001b[0;32mNone\u001b[0m\u001b[0;34m\u001b[0m\u001b[0;34m\u001b[0m\u001b[0m\n\u001b[0;32m--> 187\u001b[0;31m   \u001b[0;32mreturn\u001b[0m \u001b[0mreduce_op\u001b[0m\u001b[0;34m(\u001b[0m\u001b[0mctx\u001b[0m\u001b[0;34m,\u001b[0m \u001b[0;34m\"out += a\"\u001b[0m\u001b[0;34m,\u001b[0m \u001b[0;34m\"out\"\u001b[0m\u001b[0;34m,\u001b[0m \u001b[0mout\u001b[0m\u001b[0;34m,\u001b[0m \u001b[0msum_axis\u001b[0m\u001b[0;34m)\u001b[0m\u001b[0;34m\u001b[0m\u001b[0;34m\u001b[0m\u001b[0m\n\u001b[0m\u001b[1;32m    188\u001b[0m \u001b[0;34m\u001b[0m\u001b[0m\n\u001b[1;32m    189\u001b[0m \u001b[0;32mclass\u001b[0m \u001b[0mAdd\u001b[0m\u001b[0;34m(\u001b[0m\u001b[0mFunction\u001b[0m\u001b[0;34m)\u001b[0m\u001b[0;34m:\u001b[0m\u001b[0;34m\u001b[0m\u001b[0;34m\u001b[0m\u001b[0m\n",
      "\u001b[0;32m/mnt/HD2/ML/tinygrad/tinygrad/ops_gpu.py\u001b[0m in \u001b[0;36mreduce_op\u001b[0;34m(ctx, code, code2, inp, axis, start)\u001b[0m\n\u001b[1;32m     97\u001b[0m     \u001b[0mres_g\u001b[0m\u001b[0;34m[\u001b[0m\u001b[0mgid\u001b[0m\u001b[0;34m]\u001b[0m \u001b[0;34m=\u001b[0m \u001b[0;34m\"\"\"+code2+\"\"\"\u001b[0m\u001b[0;34m;\u001b[0m\u001b[0;34m\u001b[0m\u001b[0;34m\u001b[0m\u001b[0m\n\u001b[1;32m     98\u001b[0m   }\"\"\")\n\u001b[0;32m---> 99\u001b[0;31m   reduce(ctx.cl_queue, [np.prod(osize)], None, inp.cl,\n\u001b[0m\u001b[1;32m    100\u001b[0m     \u001b[0mi32\u001b[0m\u001b[0;34m(\u001b[0m\u001b[0mnp\u001b[0m\u001b[0;34m.\u001b[0m\u001b[0mprod\u001b[0m\u001b[0;34m(\u001b[0m\u001b[0minp\u001b[0m\u001b[0;34m.\u001b[0m\u001b[0mshape\u001b[0m\u001b[0;34m)\u001b[0m\u001b[0;34m//\u001b[0m\u001b[0mnp\u001b[0m\u001b[0;34m.\u001b[0m\u001b[0mprod\u001b[0m\u001b[0;34m(\u001b[0m\u001b[0mosize\u001b[0m\u001b[0;34m)\u001b[0m\u001b[0;34m)\u001b[0m\u001b[0;34m,\u001b[0m \u001b[0mret\u001b[0m\u001b[0;34m.\u001b[0m\u001b[0mcl\u001b[0m\u001b[0;34m,\u001b[0m\u001b[0;34m\u001b[0m\u001b[0;34m\u001b[0m\u001b[0m\n\u001b[1;32m    101\u001b[0m     \u001b[0mi32\u001b[0m\u001b[0;34m(\u001b[0m\u001b[0mnp\u001b[0m\u001b[0;34m.\u001b[0m\u001b[0mprod\u001b[0m\u001b[0;34m(\u001b[0m\u001b[0mosize\u001b[0m\u001b[0;34m)\u001b[0m\u001b[0;34m)\u001b[0m\u001b[0;34m,\u001b[0m \u001b[0mi32\u001b[0m\u001b[0;34m(\u001b[0m\u001b[0mlen\u001b[0m\u001b[0;34m(\u001b[0m\u001b[0mosize\u001b[0m\u001b[0;34m)\u001b[0m\u001b[0;34m)\u001b[0m\u001b[0;34m,\u001b[0m\u001b[0;34m\u001b[0m\u001b[0;34m\u001b[0m\u001b[0m\n",
      "\u001b[0;31mKeyboardInterrupt\u001b[0m: "
     ]
    }
   ],
   "source": [
    "BS = dim1\n",
    "epochs = 10\n",
    "\n",
    "for epoch in range(epochs):\n",
    "    losses = []\n",
    "    accs = []\n",
    "    for i in trange(int(X_train.shape[0]/BS)):\n",
    "        x = DenseTensor(X_train[i*BS:(i+1)*BS])/255\n",
    "        y = Y_train[i*BS:(i+1)*BS]\n",
    "        optimizer2.zero_grad()\n",
    "        res2 = model2.forward(x)\n",
    "        loss2 = loss_fn(res2, y)\n",
    "        #print(res2.cpu().data[:4])\n",
    "        #print(y[:4])\n",
    "        loss2.backward()\n",
    "        optimizer2.step()\n",
    "        \n",
    "        cat = np.argmax(res2.cpu().data, axis=-1)\n",
    "        accuracy = (cat == y).mean()\n",
    "        \n",
    "        losses.append(loss2.cpu().data)\n",
    "        accs.append(accuracy)\n",
    "        if i % 1 == 0:\n",
    "            print(\"LOSS:%.2f  ACC:%.2f\" % (np.array(losses).mean(), np.array(accs).mean()))\n",
    "            accs, losses = [], []  \n",
    "            \n",
    "    losses = []\n",
    "    accs = []\n",
    "    for i in trange(int(X_test.shape[0]/BS)):\n",
    "        x = DenseTensor(X_test[i*BS:(i+1)*BS])\n",
    "        y = Y_test[i*BS:(i+1)*BS]\n",
    "        res2 = model2.forward(x)\n",
    "        loss2 = loss_fn(res2, y)\n",
    "        \n",
    "        cat = np.argmax(res2.cpu().data, axis=-1)\n",
    "        accuracy = (cat == y).mean()\n",
    "        \n",
    "        losses.append(loss2.cpu().data)\n",
    "        accs.append(accuracy)\n",
    "        if i % 32 == 0:\n",
    "            print(\"TEST_LOSS:%.2f  TEST_ACC:%.2f\" % (np.array(losses).mean(), np.array(accs).mean()))\n",
    "            accs, losses = [], []"
   ]
  },
  {
   "cell_type": "code",
   "execution_count": null,
   "id": "e8576d40",
   "metadata": {},
   "outputs": [],
   "source": [
    "res2.cpu().data==res.cpu().data"
   ]
  },
  {
   "cell_type": "code",
   "execution_count": null,
   "id": "56fc46b0",
   "metadata": {},
   "outputs": [],
   "source": [
    "res2.cpu().data"
   ]
  },
  {
   "cell_type": "code",
   "execution_count": null,
   "id": "dbd0474e",
   "metadata": {},
   "outputs": [],
   "source": [
    "loss.cpu().data==loss2.cpu().data"
   ]
  },
  {
   "cell_type": "code",
   "execution_count": null,
   "id": "851f4b4f",
   "metadata": {},
   "outputs": [],
   "source": [
    "loss2.cpu().data"
   ]
  },
  {
   "cell_type": "code",
   "execution_count": null,
   "id": "73eb3657",
   "metadata": {},
   "outputs": [],
   "source": [
    "res.grad.cpu().data==res2.grad.cpu().data"
   ]
  },
  {
   "cell_type": "code",
   "execution_count": null,
   "id": "1c6b96e1",
   "metadata": {},
   "outputs": [],
   "source": [
    "res2.grad.cpu().data"
   ]
  },
  {
   "cell_type": "code",
   "execution_count": null,
   "id": "618696f8",
   "metadata": {},
   "outputs": [],
   "source": [
    "model.W.grad, model2.W.grad"
   ]
  },
  {
   "cell_type": "code",
   "execution_count": null,
   "id": "14b8d201",
   "metadata": {},
   "outputs": [],
   "source": [
    "model.W.grad.cpu().data==model2.W.grad.cpu().data"
   ]
  },
  {
   "cell_type": "code",
   "execution_count": null,
   "id": "63481731",
   "metadata": {},
   "outputs": [],
   "source": [
    "model.W.grad.cpu().data"
   ]
  },
  {
   "cell_type": "code",
   "execution_count": null,
   "id": "b44bd79a",
   "metadata": {},
   "outputs": [],
   "source": [
    "model2.W.grad.cpu().data"
   ]
  },
  {
   "cell_type": "code",
   "execution_count": null,
   "id": "04999192",
   "metadata": {},
   "outputs": [],
   "source": [
    "model.W.grad"
   ]
  },
  {
   "cell_type": "code",
   "execution_count": null,
   "id": "74320ed1",
   "metadata": {},
   "outputs": [],
   "source": [
    "model2.W.cpu().data"
   ]
  },
  {
   "cell_type": "code",
   "execution_count": null,
   "id": "d1fe6f08",
   "metadata": {},
   "outputs": [],
   "source": []
  },
  {
   "cell_type": "code",
   "execution_count": null,
   "id": "7a45e9a8",
   "metadata": {},
   "outputs": [],
   "source": []
  },
  {
   "cell_type": "code",
   "execution_count": null,
   "id": "dd35f59d",
   "metadata": {},
   "outputs": [],
   "source": []
  },
  {
   "cell_type": "code",
   "execution_count": null,
   "id": "897a2a7e",
   "metadata": {},
   "outputs": [],
   "source": []
  },
  {
   "cell_type": "code",
   "execution_count": null,
   "id": "07745d92",
   "metadata": {},
   "outputs": [],
   "source": []
  },
  {
   "cell_type": "code",
   "execution_count": null,
   "id": "81962acd",
   "metadata": {},
   "outputs": [],
   "source": []
  },
  {
   "cell_type": "code",
   "execution_count": null,
   "id": "ebfecb5f",
   "metadata": {},
   "outputs": [],
   "source": []
  },
  {
   "cell_type": "code",
   "execution_count": null,
   "id": "4c5b2fec",
   "metadata": {},
   "outputs": [],
   "source": []
  },
  {
   "cell_type": "code",
   "execution_count": null,
   "id": "07f0b1d2",
   "metadata": {},
   "outputs": [],
   "source": []
  },
  {
   "cell_type": "code",
   "execution_count": null,
   "id": "ce7898e2",
   "metadata": {},
   "outputs": [],
   "source": []
  },
  {
   "cell_type": "code",
   "execution_count": null,
   "id": "e14f967b",
   "metadata": {},
   "outputs": [],
   "source": []
  },
  {
   "cell_type": "code",
   "execution_count": null,
   "id": "ce12498e",
   "metadata": {},
   "outputs": [],
   "source": []
  }
 ],
 "metadata": {
  "kernelspec": {
   "display_name": "Python 3",
   "language": "python",
   "name": "python3"
  },
  "language_info": {
   "codemirror_mode": {
    "name": "ipython",
    "version": 3
   },
   "file_extension": ".py",
   "mimetype": "text/x-python",
   "name": "python",
   "nbconvert_exporter": "python",
   "pygments_lexer": "ipython3",
   "version": "3.8.12"
  }
 },
 "nbformat": 4,
 "nbformat_minor": 5
}
