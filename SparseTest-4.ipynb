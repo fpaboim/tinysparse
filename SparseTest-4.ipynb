{
 "cells": [
  {
   "cell_type": "code",
   "execution_count": 1,
   "id": "4309590e",
   "metadata": {},
   "outputs": [
    {
     "name": "stdout",
     "output_type": "stream",
     "text": [
      "DEVICE:GPU\n"
     ]
    }
   ],
   "source": [
    "from tinygrad.densetensor import DenseTensor\n",
    "from tinygrad.sparsetensor import SparseTensor\n",
    "import numpy as np\n",
    "import tinygrad.optim as optim\n",
    "from extra.utils import get_parameters\n",
    "from test.test_mnist import fetch_mnist\n",
    "from tqdm import trange\n",
    "\n",
    "%load_ext autoreload\n",
    "%autoreload 2"
   ]
  },
  {
   "cell_type": "code",
   "execution_count": 14,
   "id": "73101cd9",
   "metadata": {},
   "outputs": [
    {
     "name": "stdout",
     "output_type": "stream",
     "text": [
      "DEVICE:GPU\n"
     ]
    }
   ],
   "source": [
    "dim1 = 32\n",
    "dim2 = 784\n",
    "dim3 = 10\n",
    "\n",
    "np.random.seed(9)\n",
    "\n",
    "seedmat = np.random.randn(dim2,dim3).astype(np.float32) / 1000"
   ]
  },
  {
   "cell_type": "code",
   "execution_count": 15,
   "id": "602af5c6",
   "metadata": {},
   "outputs": [
    {
     "data": {
      "text/plain": [
       "(60000, 784)"
      ]
     },
     "execution_count": 15,
     "metadata": {},
     "output_type": "execute_result"
    }
   ],
   "source": [
    "X_train, Y_train, X_test, Y_test = fetch_mnist()\n",
    "X_train.shape"
   ]
  },
  {
   "cell_type": "code",
   "execution_count": 16,
   "id": "d9c197bb",
   "metadata": {},
   "outputs": [
    {
     "name": "stdout",
     "output_type": "stream",
     "text": [
      "warning, (32, 10) isn't float32, it's float64\n"
     ]
    }
   ],
   "source": [
    "x_init = np.random.randn(dim1,dim2).astype(np.float32)\n",
    "x = DenseTensor(x_init)\n",
    "y = DenseTensor(np.random.randn(dim1,dim3))"
   ]
  },
  {
   "cell_type": "code",
   "execution_count": 17,
   "id": "8a9285aa",
   "metadata": {},
   "outputs": [],
   "source": [
    "class MLP:\n",
    "  def __init__(self):\n",
    "    self.W = DenseTensor(seedmat)\n",
    "\n",
    "  def parameters(self):\n",
    "    return get_parameters(self)\n",
    "\n",
    "  def forward(self, x):\n",
    "    out = x.dot(self.W)\n",
    "    out = out.logsoftmax()\n",
    "    #out = out.mul(self.m).add(self.m).sum()\n",
    "    return out"
   ]
  },
  {
   "cell_type": "code",
   "execution_count": 18,
   "id": "a5168e97",
   "metadata": {},
   "outputs": [],
   "source": [
    "class MLP2:\n",
    "  def __init__(self):\n",
    "    self.W = SparseTensor(seedmat)\n",
    "\n",
    "  def parameters(self):\n",
    "    return get_parameters(self)\n",
    "\n",
    "  def forward(self, x):\n",
    "    out = x.dot(self.W)\n",
    "    out = out.logsoftmax()\n",
    "    #out = out.mul(self.m).add(self.m).sum()\n",
    "    return out"
   ]
  },
  {
   "cell_type": "code",
   "execution_count": 19,
   "id": "13c4436e",
   "metadata": {},
   "outputs": [],
   "source": [
    "def loss_fn(y, y_pred):\n",
    "    return ((y-y_pred)**2)**.5"
   ]
  },
  {
   "cell_type": "code",
   "execution_count": 20,
   "id": "dec2b8a6",
   "metadata": {},
   "outputs": [],
   "source": [
    "def sparse_categorical_crossentropy(out, Y):\n",
    "  num_classes = out.shape[-1]\n",
    "  YY = Y.flatten()\n",
    "  y = np.zeros((YY.shape[0], num_classes), np.float32)\n",
    "  # correct loss for NLL, torch NLL loss returns one per row\n",
    "  y[range(y.shape[0]),YY] = -1.0*num_classes\n",
    "  y = y.reshape(list(Y.shape)+[num_classes])\n",
    "  y = DenseTensor(y)\n",
    "  return out.mul(y).mean()"
   ]
  },
  {
   "cell_type": "markdown",
   "id": "3b00810f",
   "metadata": {},
   "source": [
    "### Dense"
   ]
  },
  {
   "cell_type": "code",
   "execution_count": 21,
   "id": "1d2b99f9",
   "metadata": {},
   "outputs": [],
   "source": [
    "model = MLP()"
   ]
  },
  {
   "cell_type": "code",
   "execution_count": 22,
   "id": "5d6f6d16",
   "metadata": {},
   "outputs": [],
   "source": [
    "optimizer = optim.SGD(model.parameters(), lr=.0001)"
   ]
  },
  {
   "cell_type": "code",
   "execution_count": 23,
   "id": "4238b12b",
   "metadata": {},
   "outputs": [
    {
     "data": {
      "text/plain": [
       "((60000, 784), (60000,))"
      ]
     },
     "execution_count": 23,
     "metadata": {},
     "output_type": "execute_result"
    }
   ],
   "source": [
    "X_train.shape, Y_train.shape"
   ]
  },
  {
   "cell_type": "code",
   "execution_count": 29,
   "id": "0e140b41",
   "metadata": {},
   "outputs": [
    {
     "data": {
      "text/plain": [
       "<DenseTensor <GPUBuffer with shape (32, 784)> with grad None>"
      ]
     },
     "execution_count": 29,
     "metadata": {},
     "output_type": "execute_result"
    }
   ],
   "source": [
    "DenseTensor(X_train[i*BS:(i+1)*BS])"
   ]
  },
  {
   "cell_type": "code",
   "execution_count": 30,
   "id": "ac07327e",
   "metadata": {},
   "outputs": [],
   "source": [
    "loss_fn = sparse_categorical_crossentropy"
   ]
  },
  {
   "cell_type": "code",
   "execution_count": 31,
   "id": "1a506d86",
   "metadata": {},
   "outputs": [
    {
     "name": "stderr",
     "output_type": "stream",
     "text": [
      "  0%|                                                                                                                                                               | 0/1875 [00:00<?, ?it/s]\n"
     ]
    },
    {
     "ename": "IndexError",
     "evalue": "list index out of range",
     "output_type": "error",
     "traceback": [
      "\u001b[0;31m---------------------------------------------------------------------------\u001b[0m",
      "\u001b[0;31mIndexError\u001b[0m                                Traceback (most recent call last)",
      "\u001b[0;32m/tmp/ipykernel_8889/2058104784.py\u001b[0m in \u001b[0;36m<module>\u001b[0;34m\u001b[0m\n\u001b[1;32m      9\u001b[0m         \u001b[0my\u001b[0m \u001b[0;34m=\u001b[0m \u001b[0mY_train\u001b[0m\u001b[0;34m[\u001b[0m\u001b[0mi\u001b[0m\u001b[0;34m*\u001b[0m\u001b[0mBS\u001b[0m\u001b[0;34m:\u001b[0m\u001b[0;34m(\u001b[0m\u001b[0mi\u001b[0m\u001b[0;34m+\u001b[0m\u001b[0;36m1\u001b[0m\u001b[0;34m)\u001b[0m\u001b[0;34m*\u001b[0m\u001b[0mBS\u001b[0m\u001b[0;34m]\u001b[0m\u001b[0;34m\u001b[0m\u001b[0;34m\u001b[0m\u001b[0m\n\u001b[1;32m     10\u001b[0m         \u001b[0moptimizer\u001b[0m\u001b[0;34m.\u001b[0m\u001b[0mzero_grad\u001b[0m\u001b[0;34m(\u001b[0m\u001b[0;34m)\u001b[0m\u001b[0;34m\u001b[0m\u001b[0;34m\u001b[0m\u001b[0m\n\u001b[0;32m---> 11\u001b[0;31m         \u001b[0mres\u001b[0m \u001b[0;34m=\u001b[0m \u001b[0mmodel\u001b[0m\u001b[0;34m.\u001b[0m\u001b[0mforward\u001b[0m\u001b[0;34m(\u001b[0m\u001b[0mx\u001b[0m\u001b[0;34m)\u001b[0m\u001b[0;34m\u001b[0m\u001b[0;34m\u001b[0m\u001b[0m\n\u001b[0m\u001b[1;32m     12\u001b[0m         \u001b[0mloss\u001b[0m \u001b[0;34m=\u001b[0m \u001b[0mloss_fn\u001b[0m\u001b[0;34m(\u001b[0m\u001b[0mres\u001b[0m\u001b[0;34m,\u001b[0m \u001b[0my\u001b[0m\u001b[0;34m)\u001b[0m\u001b[0;34m\u001b[0m\u001b[0;34m\u001b[0m\u001b[0m\n\u001b[1;32m     13\u001b[0m         \u001b[0;31m#print(res.cpu().data[:4])\u001b[0m\u001b[0;34m\u001b[0m\u001b[0;34m\u001b[0m\u001b[0;34m\u001b[0m\u001b[0m\n",
      "\u001b[0;32m/tmp/ipykernel_8889/371726612.py\u001b[0m in \u001b[0;36mforward\u001b[0;34m(self, x)\u001b[0m\n\u001b[1;32m      7\u001b[0m \u001b[0;34m\u001b[0m\u001b[0m\n\u001b[1;32m      8\u001b[0m   \u001b[0;32mdef\u001b[0m \u001b[0mforward\u001b[0m\u001b[0;34m(\u001b[0m\u001b[0mself\u001b[0m\u001b[0;34m,\u001b[0m \u001b[0mx\u001b[0m\u001b[0;34m)\u001b[0m\u001b[0;34m:\u001b[0m\u001b[0;34m\u001b[0m\u001b[0;34m\u001b[0m\u001b[0m\n\u001b[0;32m----> 9\u001b[0;31m     \u001b[0mout\u001b[0m \u001b[0;34m=\u001b[0m \u001b[0mx\u001b[0m\u001b[0;34m.\u001b[0m\u001b[0mdot\u001b[0m\u001b[0;34m(\u001b[0m\u001b[0mself\u001b[0m\u001b[0;34m.\u001b[0m\u001b[0mW\u001b[0m\u001b[0;34m)\u001b[0m\u001b[0;34m\u001b[0m\u001b[0;34m\u001b[0m\u001b[0m\n\u001b[0m\u001b[1;32m     10\u001b[0m     \u001b[0mout\u001b[0m \u001b[0;34m=\u001b[0m \u001b[0mout\u001b[0m\u001b[0;34m.\u001b[0m\u001b[0mlogsoftmax\u001b[0m\u001b[0;34m(\u001b[0m\u001b[0;34m)\u001b[0m\u001b[0;34m\u001b[0m\u001b[0;34m\u001b[0m\u001b[0m\n\u001b[1;32m     11\u001b[0m     \u001b[0;31m#out = out.mul(self.m).add(self.m).sum()\u001b[0m\u001b[0;34m\u001b[0m\u001b[0;34m\u001b[0m\u001b[0;34m\u001b[0m\u001b[0m\n",
      "\u001b[0;32m/mnt/HD2/ML/tinygrad_cp/tinygrad/densetensor.py\u001b[0m in \u001b[0;36mdot\u001b[0;34m(self, w)\u001b[0m\n\u001b[1;32m    245\u001b[0m       \u001b[0;31m# print(\"Xt:\", x)\u001b[0m\u001b[0;34m\u001b[0m\u001b[0;34m\u001b[0m\u001b[0;34m\u001b[0m\u001b[0m\n\u001b[1;32m    246\u001b[0m       \u001b[0;32mreturn\u001b[0m \u001b[0mx\u001b[0m\u001b[0;34m\u001b[0m\u001b[0;34m\u001b[0m\u001b[0m\n\u001b[0;32m--> 247\u001b[0;31m     \u001b[0;32mreturn\u001b[0m \u001b[0mself\u001b[0m\u001b[0;34m.\u001b[0m\u001b[0mmatmul\u001b[0m\u001b[0;34m(\u001b[0m\u001b[0mw\u001b[0m\u001b[0;34m)\u001b[0m\u001b[0;34m\u001b[0m\u001b[0;34m\u001b[0m\u001b[0m\n\u001b[0m\u001b[1;32m    248\u001b[0m \u001b[0;34m\u001b[0m\u001b[0m\n\u001b[1;32m    249\u001b[0m   \u001b[0;32mdef\u001b[0m \u001b[0mmean\u001b[0m\u001b[0;34m(\u001b[0m\u001b[0mself\u001b[0m\u001b[0;34m,\u001b[0m \u001b[0maxis\u001b[0m\u001b[0;34m=\u001b[0m\u001b[0;32mNone\u001b[0m\u001b[0;34m)\u001b[0m\u001b[0;34m:\u001b[0m\u001b[0;34m\u001b[0m\u001b[0;34m\u001b[0m\u001b[0m\n",
      "\u001b[0;32m/mnt/HD2/ML/tinygrad_cp/tinygrad/densetensor.py\u001b[0m in \u001b[0;36mdispatch\u001b[0;34m(*x, **kwargs)\u001b[0m\n\u001b[1;32m    360\u001b[0m   \u001b[0;32mdef\u001b[0m \u001b[0mdispatch\u001b[0m\u001b[0;34m(\u001b[0m\u001b[0;34m*\u001b[0m\u001b[0mx\u001b[0m\u001b[0;34m,\u001b[0m \u001b[0;34m**\u001b[0m\u001b[0mkwargs\u001b[0m\u001b[0;34m)\u001b[0m\u001b[0;34m:\u001b[0m\u001b[0;34m\u001b[0m\u001b[0;34m\u001b[0m\u001b[0m\n\u001b[1;32m    361\u001b[0m     \u001b[0;31m#print('X:',x)\u001b[0m\u001b[0;34m\u001b[0m\u001b[0;34m\u001b[0m\u001b[0;34m\u001b[0m\u001b[0m\n\u001b[0;32m--> 362\u001b[0;31m     \u001b[0mtt\u001b[0m \u001b[0;34m=\u001b[0m \u001b[0;34m[\u001b[0m\u001b[0marg\u001b[0m \u001b[0;32mfor\u001b[0m \u001b[0marg\u001b[0m \u001b[0;32min\u001b[0m \u001b[0mx\u001b[0m \u001b[0;32mif\u001b[0m \u001b[0misinstance\u001b[0m\u001b[0;34m(\u001b[0m\u001b[0marg\u001b[0m\u001b[0;34m,\u001b[0m \u001b[0mDenseTensor\u001b[0m\u001b[0;34m)\u001b[0m\u001b[0;34m]\u001b[0m\u001b[0;34m[\u001b[0m\u001b[0;36m0\u001b[0m\u001b[0;34m]\u001b[0m\u001b[0;34m\u001b[0m\u001b[0;34m\u001b[0m\u001b[0m\n\u001b[0m\u001b[1;32m    363\u001b[0m     \u001b[0;31m# x = [DenseTensor(np.array([arg], dtype=tt.dtype), device=tt.device, requires_grad=False) if not isinstance(arg, DenseTensor) else arg for arg in x]\u001b[0m\u001b[0;34m\u001b[0m\u001b[0;34m\u001b[0m\u001b[0;34m\u001b[0m\u001b[0m\n\u001b[1;32m    364\u001b[0m     \u001b[0mxout\u001b[0m \u001b[0;34m=\u001b[0m \u001b[0;34m[\u001b[0m\u001b[0;34m]\u001b[0m\u001b[0;34m\u001b[0m\u001b[0;34m\u001b[0m\u001b[0m\n",
      "\u001b[0;31mIndexError\u001b[0m: list index out of range"
     ]
    }
   ],
   "source": [
    "BS = dim1\n",
    "epochs = 1\n",
    "\n",
    "for epoch in range(epochs):\n",
    "    losses = []\n",
    "    accs = []\n",
    "    for i in trange(int(X_train.shape[0]/BS)):\n",
    "        x = DenseTensor(X_train[i*BS:(i+1)*BS])\n",
    "        y = Y_train[i*BS:(i+1)*BS]\n",
    "        optimizer.zero_grad()\n",
    "        res = model.forward(x)\n",
    "        loss = loss_fn(res, y)\n",
    "        #print(res.cpu().data[:4])\n",
    "        #print(y[:4])\n",
    "        loss.backward()\n",
    "        optimizer.step()\n",
    "        \n",
    "        cat = np.argmax(res.cpu().data, axis=-1)\n",
    "        accuracy = (cat == y).mean()\n",
    "        \n",
    "        losses.append(loss.cpu().data)\n",
    "        accs.append(accuracy)\n",
    "        if i % 1 == 0:\n",
    "            print(\"LOSS:%.2f  ACC:%.2f\" % (np.array(losses).mean(), np.array(accs).mean()))\n",
    "            accs, losses = [], []  \n",
    "            asdf\n",
    "            \n",
    "    losses = []\n",
    "    accs = []\n",
    "    for i in trange(int(X_test.shape[0]/BS)):\n",
    "        x = DenseTensor(X_test[i*BS:(i+1)*BS])\n",
    "        y = Y_test[i*BS:(i+1)*BS]\n",
    "        res = model.forward(x)\n",
    "        loss = loss_fn(res, y)\n",
    "        \n",
    "        cat = np.argmax(res.cpu().data, axis=-1)\n",
    "        accuracy = (cat == y).mean()\n",
    "        \n",
    "        losses.append(loss.cpu().data)\n",
    "        accs.append(accuracy)\n",
    "        if i % 32 == 0:\n",
    "            print(\"TEST_LOSS:%.2f  TEST_ACC:%.2f\" % (np.array(losses).mean(), np.array(accs).mean()))\n",
    "            accs, losses = [], []"
   ]
  },
  {
   "cell_type": "code",
   "execution_count": null,
   "id": "83c586b7",
   "metadata": {},
   "outputs": [],
   "source": [
    "model.parameters()"
   ]
  },
  {
   "cell_type": "code",
   "execution_count": null,
   "id": "4641b69d",
   "metadata": {},
   "outputs": [],
   "source": [
    "res.cpu().data"
   ]
  },
  {
   "cell_type": "code",
   "execution_count": null,
   "id": "8eb71052",
   "metadata": {},
   "outputs": [],
   "source": [
    "loss.cpu().data"
   ]
  },
  {
   "cell_type": "code",
   "execution_count": null,
   "id": "9ac039f6",
   "metadata": {},
   "outputs": [],
   "source": [
    "model.W.grad.cpu().data"
   ]
  },
  {
   "cell_type": "code",
   "execution_count": null,
   "id": "0075a703",
   "metadata": {},
   "outputs": [],
   "source": [
    " model.W.cpu().data"
   ]
  },
  {
   "cell_type": "markdown",
   "id": "1f62f27e",
   "metadata": {},
   "source": [
    "### Second"
   ]
  },
  {
   "cell_type": "code",
   "execution_count": null,
   "id": "31a9604d",
   "metadata": {},
   "outputs": [],
   "source": [
    "model2 = MLP2()"
   ]
  },
  {
   "cell_type": "code",
   "execution_count": null,
   "id": "0e020858",
   "metadata": {},
   "outputs": [],
   "source": [
    "optimizer2 = optim.SGD(model2.parameters(), lr=.0001)"
   ]
  },
  {
   "cell_type": "code",
   "execution_count": null,
   "id": "0e613198",
   "metadata": {},
   "outputs": [],
   "source": [
    "BS = dim1\n",
    "epochs = 10\n",
    "\n",
    "for epoch in range(epochs):\n",
    "    losses = []\n",
    "    accs = []\n",
    "    for i in trange(int(X_train.shape[0]/BS)):\n",
    "        x = DenseTensor(X_train[i*BS:(i+1)*BS])/255\n",
    "        y = Y_train[i*BS:(i+1)*BS]\n",
    "        optimizer2.zero_grad()\n",
    "        res2 = model2.forward(x)\n",
    "        loss2 = loss_fn(res2, y)\n",
    "        #print(res2.cpu().data[:4])\n",
    "        #print(y[:4])\n",
    "        loss2.backward()\n",
    "        optimizer2.step()\n",
    "        \n",
    "        cat = np.argmax(res2.cpu().data, axis=-1)\n",
    "        accuracy = (cat == y).mean()\n",
    "        \n",
    "        losses.append(loss2.cpu().data)\n",
    "        accs.append(accuracy)\n",
    "        if i % 1 == 0:\n",
    "            print(\"LOSS:%.2f  ACC:%.2f\" % (np.array(losses).mean(), np.array(accs).mean()))\n",
    "            accs, losses = [], []  \n",
    "            asdf\n",
    "            \n",
    "    losses = []\n",
    "    accs = []\n",
    "    for i in trange(int(X_test.shape[0]/BS)):\n",
    "        x = DenseTensor(X_test[i*BS:(i+1)*BS])\n",
    "        y = Y_test[i*BS:(i+1)*BS]\n",
    "        res2 = model2.forward(x)\n",
    "        loss2 = loss_fn(res2, y)\n",
    "        \n",
    "        cat = np.argmax(res2.cpu().data, axis=-1)\n",
    "        accuracy = (cat == y).mean()\n",
    "        \n",
    "        losses.append(loss2.cpu().data)\n",
    "        accs.append(accuracy)\n",
    "        if i % 32 == 0:\n",
    "            print(\"TEST_LOSS:%.2f  TEST_ACC:%.2f\" % (np.array(losses).mean(), np.array(accs).mean()))\n",
    "            accs, losses = [], []"
   ]
  },
  {
   "cell_type": "code",
   "execution_count": null,
   "id": "e8576d40",
   "metadata": {},
   "outputs": [],
   "source": [
    "res2.cpu().data==res.cpu().data"
   ]
  },
  {
   "cell_type": "code",
   "execution_count": null,
   "id": "56fc46b0",
   "metadata": {},
   "outputs": [],
   "source": [
    "res2.cpu().data"
   ]
  },
  {
   "cell_type": "code",
   "execution_count": null,
   "id": "dbd0474e",
   "metadata": {},
   "outputs": [],
   "source": [
    "loss.cpu().data==loss2.cpu().data"
   ]
  },
  {
   "cell_type": "code",
   "execution_count": null,
   "id": "851f4b4f",
   "metadata": {},
   "outputs": [],
   "source": [
    "loss2.cpu().data"
   ]
  },
  {
   "cell_type": "code",
   "execution_count": null,
   "id": "73eb3657",
   "metadata": {},
   "outputs": [],
   "source": [
    "res.grad.cpu().data==res2.grad.cpu().data"
   ]
  },
  {
   "cell_type": "code",
   "execution_count": null,
   "id": "1c6b96e1",
   "metadata": {},
   "outputs": [],
   "source": [
    "res2.grad.cpu().data"
   ]
  },
  {
   "cell_type": "code",
   "execution_count": null,
   "id": "618696f8",
   "metadata": {},
   "outputs": [],
   "source": [
    "model.W.grad, model2.W.grad"
   ]
  },
  {
   "cell_type": "code",
   "execution_count": null,
   "id": "14b8d201",
   "metadata": {},
   "outputs": [],
   "source": [
    "model.W.grad.cpu().data==model2.W.grad.cpu().data"
   ]
  },
  {
   "cell_type": "code",
   "execution_count": null,
   "id": "63481731",
   "metadata": {},
   "outputs": [],
   "source": [
    "model.W.grad.cpu().data"
   ]
  },
  {
   "cell_type": "code",
   "execution_count": null,
   "id": "b44bd79a",
   "metadata": {},
   "outputs": [],
   "source": [
    "model2.W.grad.cpu().data"
   ]
  },
  {
   "cell_type": "code",
   "execution_count": null,
   "id": "04999192",
   "metadata": {},
   "outputs": [],
   "source": [
    "model.W.grad"
   ]
  },
  {
   "cell_type": "code",
   "execution_count": null,
   "id": "74320ed1",
   "metadata": {},
   "outputs": [],
   "source": [
    "model2.W.cpu().data"
   ]
  },
  {
   "cell_type": "code",
   "execution_count": null,
   "id": "d1fe6f08",
   "metadata": {},
   "outputs": [],
   "source": []
  },
  {
   "cell_type": "code",
   "execution_count": null,
   "id": "7a45e9a8",
   "metadata": {},
   "outputs": [],
   "source": []
  },
  {
   "cell_type": "code",
   "execution_count": null,
   "id": "dd35f59d",
   "metadata": {},
   "outputs": [],
   "source": []
  },
  {
   "cell_type": "code",
   "execution_count": null,
   "id": "897a2a7e",
   "metadata": {},
   "outputs": [],
   "source": []
  },
  {
   "cell_type": "code",
   "execution_count": null,
   "id": "07745d92",
   "metadata": {},
   "outputs": [],
   "source": []
  },
  {
   "cell_type": "code",
   "execution_count": null,
   "id": "81962acd",
   "metadata": {},
   "outputs": [],
   "source": []
  },
  {
   "cell_type": "code",
   "execution_count": null,
   "id": "ebfecb5f",
   "metadata": {},
   "outputs": [],
   "source": []
  },
  {
   "cell_type": "code",
   "execution_count": null,
   "id": "4c5b2fec",
   "metadata": {},
   "outputs": [],
   "source": []
  },
  {
   "cell_type": "code",
   "execution_count": null,
   "id": "07f0b1d2",
   "metadata": {},
   "outputs": [],
   "source": []
  },
  {
   "cell_type": "code",
   "execution_count": null,
   "id": "ce7898e2",
   "metadata": {},
   "outputs": [],
   "source": []
  },
  {
   "cell_type": "code",
   "execution_count": null,
   "id": "e14f967b",
   "metadata": {},
   "outputs": [],
   "source": []
  },
  {
   "cell_type": "code",
   "execution_count": null,
   "id": "ce12498e",
   "metadata": {},
   "outputs": [],
   "source": []
  }
 ],
 "metadata": {
  "kernelspec": {
   "display_name": "Python 3",
   "language": "python",
   "name": "python3"
  },
  "language_info": {
   "codemirror_mode": {
    "name": "ipython",
    "version": 3
   },
   "file_extension": ".py",
   "mimetype": "text/x-python",
   "name": "python",
   "nbconvert_exporter": "python",
   "pygments_lexer": "ipython3",
   "version": "3.8.12"
  }
 },
 "nbformat": 4,
 "nbformat_minor": 5
}
