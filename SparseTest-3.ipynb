{
 "cells": [
  {
   "cell_type": "code",
   "execution_count": 1,
   "id": "4309590e",
   "metadata": {},
   "outputs": [
    {
     "name": "stdout",
     "output_type": "stream",
     "text": [
      "DEVICE:GPU\n"
     ]
    }
   ],
   "source": [
    "from tinygrad.densetensor import DenseTensor\n",
    "from tinygrad.sparsetensor import SparseTensor\n",
    "import numpy as np\n",
    "import tinygrad.optim as optim\n",
    "from extra.utils import get_parameters\n",
    "\n",
    "\n",
    "%load_ext autoreload\n",
    "%autoreload 2"
   ]
  },
  {
   "cell_type": "code",
   "execution_count": 2,
   "id": "73101cd9",
   "metadata": {},
   "outputs": [],
   "source": [
    "seedmat = np.random.randn(3,3).astype(np.float32)"
   ]
  },
  {
   "cell_type": "code",
   "execution_count": 3,
   "id": "d9c197bb",
   "metadata": {},
   "outputs": [
    {
     "name": "stdout",
     "output_type": "stream",
     "text": [
      "warning, (3, 3) isn't float32, it's float64\n"
     ]
    }
   ],
   "source": [
    "x_init = np.random.randn(3,3).astype(np.float32)\n",
    "x = DenseTensor(x_init)\n",
    "y = DenseTensor(np.random.randn(3,3))"
   ]
  },
  {
   "cell_type": "code",
   "execution_count": 4,
   "id": "8a9285aa",
   "metadata": {},
   "outputs": [],
   "source": [
    "class MLP:\n",
    "  def __init__(self):\n",
    "    self.W = DenseTensor(seedmat)\n",
    "\n",
    "  def parameters(self):\n",
    "    return get_parameters(self)\n",
    "\n",
    "  def forward(self, x):\n",
    "    out = x.dot(self.W)\n",
    "    #out = out.logsoftmax()\n",
    "    #out = out.mul(self.m).add(self.m).sum()\n",
    "    return out"
   ]
  },
  {
   "cell_type": "code",
   "execution_count": 5,
   "id": "a5168e97",
   "metadata": {},
   "outputs": [],
   "source": [
    "class MLP2:\n",
    "  def __init__(self):\n",
    "    self.W = SparseTensor(seedmat)\n",
    "\n",
    "  def parameters(self):\n",
    "    return get_parameters(self)\n",
    "\n",
    "  def forward(self, x):\n",
    "    out = x.dot(self.W)\n",
    "    #out = out.logsoftmax()\n",
    "    #out = out.mul(self.m).add(self.m).sum()\n",
    "    return out"
   ]
  },
  {
   "cell_type": "code",
   "execution_count": 6,
   "id": "13c4436e",
   "metadata": {},
   "outputs": [],
   "source": [
    "def loss_fn(y, y_pred):\n",
    "    return ((y-y_pred)**2)**.5"
   ]
  },
  {
   "cell_type": "markdown",
   "id": "3b00810f",
   "metadata": {},
   "source": [
    "### Dense"
   ]
  },
  {
   "cell_type": "code",
   "execution_count": 7,
   "id": "1d2b99f9",
   "metadata": {},
   "outputs": [],
   "source": [
    "model = MLP()"
   ]
  },
  {
   "cell_type": "code",
   "execution_count": 8,
   "id": "5d6f6d16",
   "metadata": {},
   "outputs": [],
   "source": [
    "optimizer = optim.SGD(model.parameters(), lr=.0001)"
   ]
  },
  {
   "cell_type": "code",
   "execution_count": 9,
   "id": "1a506d86",
   "metadata": {},
   "outputs": [
    {
     "name": "stdout",
     "output_type": "stream",
     "text": [
      "\\nVISIT <DenseTensor <GPUBuffer with shape (3, 3)> with grad <GPUBuffer with shape (3, 3)>>\n",
      "\\nVISIT <DenseTensor <GPUBuffer with shape (3, 3)> with grad None>\n",
      "\\nVISIT <DenseTensor <GPUBuffer with shape (3, 3)> with grad None>\n",
      "\\nVISIT <DenseTensor <GPUBuffer with shape (3, 3)> with grad None>\n",
      "\\nVISIT <DenseTensor <GPUBuffer with shape (3, 3)> with grad None>\n",
      "\\nVISIT <DenseTensor <GPUBuffer with shape (3, 3)> with grad None>\n",
      "\\nVISIT <DenseTensor <GPUBuffer with shape (3, 3)> with grad None>\n",
      "\\nVISIT <DenseTensor <GPUBuffer with shape (1,)> with grad None>\n",
      "\\nVISIT <DenseTensor <GPUBuffer with shape (1,)> with grad None>\n",
      "T/G: <DenseTensor <GPUBuffer with shape (3, 3)> with grad None> <GPUBuffer with shape (3, 3)> (3, 3) (3, 3)\n",
      "T/G: <DenseTensor <GPUBuffer with shape (1,)> with grad None> <GPUBuffer with shape (1,)> (1,) (1,)\n",
      "T/G: <DenseTensor <GPUBuffer with shape (3, 3)> with grad None> <GPUBuffer with shape (3, 3)> (3, 3) (3, 3)\n",
      "T/G: <DenseTensor <GPUBuffer with shape (1,)> with grad None> <GPUBuffer with shape (1,)> (1,) (1,)\n",
      "T/G: <DenseTensor <GPUBuffer with shape (3, 3)> with grad None> <GPUBuffer with shape (3, 3)> (3, 3) (3, 3)\n",
      "T/G: <DenseTensor <GPUBuffer with shape (3, 3)> with grad None> <GPUBuffer with shape (3, 3)> (3, 3) (3, 3)\n",
      "T/G: <DenseTensor <GPUBuffer with shape (3, 3)> with grad None> <GPUBuffer with shape (3, 3)> (3, 3) (3, 3)\n",
      "T/G: <DenseTensor <GPUBuffer with shape (3, 3)> with grad None> <GPUBuffer with shape (3, 3)> (3, 3) (3, 3)\n"
     ]
    }
   ],
   "source": [
    "optimizer.zero_grad()\n",
    "res = model.forward(x)\n",
    "loss = loss_fn(res, y)\n",
    "loss.backward()\n",
    "#optimizer.step()"
   ]
  },
  {
   "cell_type": "code",
   "execution_count": 10,
   "id": "83c586b7",
   "metadata": {},
   "outputs": [
    {
     "data": {
      "text/plain": [
       "[<DenseTensor <GPUBuffer with shape (3, 3)> with grad <GPUBuffer with shape (3, 3)>>,\n",
       " <DenseTensor <GPUBuffer with shape (3, 3)> with grad None>]"
      ]
     },
     "execution_count": 10,
     "metadata": {},
     "output_type": "execute_result"
    }
   ],
   "source": [
    "model.parameters()"
   ]
  },
  {
   "cell_type": "code",
   "execution_count": 11,
   "id": "8eb71052",
   "metadata": {},
   "outputs": [
    {
     "data": {
      "text/plain": [
       "array([[0.50551486, 0.8109138 , 0.48307404],\n",
       "       [2.6015759 , 1.4273951 , 2.0545573 ],\n",
       "       [0.4443901 , 0.83480704, 2.1205204 ]], dtype=float32)"
      ]
     },
     "execution_count": 11,
     "metadata": {},
     "output_type": "execute_result"
    }
   ],
   "source": [
    "loss.cpu().data"
   ]
  },
  {
   "cell_type": "code",
   "execution_count": 12,
   "id": "257de952",
   "metadata": {},
   "outputs": [
    {
     "data": {
      "text/plain": [
       "array([[-0.6899253 ,  0.22909799,  0.17805669],\n",
       "       [-2.8184183 , -0.08430927,  1.1420828 ],\n",
       "       [ 0.2419483 ,  0.05442254, -0.11403634]], dtype=float32)"
      ]
     },
     "execution_count": 12,
     "metadata": {},
     "output_type": "execute_result"
    }
   ],
   "source": [
    "res.cpu().data"
   ]
  },
  {
   "cell_type": "code",
   "execution_count": 13,
   "id": "44d83871",
   "metadata": {},
   "outputs": [
    {
     "data": {
      "text/plain": [
       "array([[ 0.99999994,  1.        ,  1.        ],\n",
       "       [-1.        ,  0.99999994,  0.99999994],\n",
       "       [ 0.9999999 ,  1.        , -1.        ]], dtype=float32)"
      ]
     },
     "execution_count": 13,
     "metadata": {},
     "output_type": "execute_result"
    }
   ],
   "source": [
    "res.grad.cpu().data"
   ]
  },
  {
   "cell_type": "code",
   "execution_count": 14,
   "id": "9ac039f6",
   "metadata": {},
   "outputs": [
    {
     "data": {
      "text/plain": [
       "array([[-0.2912428 ,  0.7490896 , -0.577783  ],\n",
       "       [-0.98378825,  0.35937876,  0.76732665],\n",
       "       [ 1.5149807 , -1.7959167 , -1.8263358 ]], dtype=float32)"
      ]
     },
     "execution_count": 14,
     "metadata": {},
     "output_type": "execute_result"
    }
   ],
   "source": [
    "model.W.grad.cpu().data"
   ]
  },
  {
   "cell_type": "markdown",
   "id": "1f62f27e",
   "metadata": {},
   "source": [
    "### Second"
   ]
  },
  {
   "cell_type": "code",
   "execution_count": 15,
   "id": "31a9604d",
   "metadata": {},
   "outputs": [],
   "source": [
    "model2 = MLP2()"
   ]
  },
  {
   "cell_type": "code",
   "execution_count": 16,
   "id": "0e020858",
   "metadata": {},
   "outputs": [],
   "source": [
    "optimizer2 = optim.SGD(model.parameters(), lr=.0001)"
   ]
  },
  {
   "cell_type": "code",
   "execution_count": 17,
   "id": "df5115ec",
   "metadata": {},
   "outputs": [
    {
     "name": "stdout",
     "output_type": "stream",
     "text": [
      "\\nVISIT <DenseTensor <GPUBuffer with shape (3, 3)> with grad <GPUBuffer with shape (3, 3)>>\n",
      "\\nVISIT <DenseTensor <GPUBuffer with shape (3, 3)> with grad None>\n",
      "\\nVISIT <DenseTensor <GPUBuffer with shape (3, 3)> with grad None>\n",
      "\\nVISIT <DenseTensor <GPUBuffer with shape (3, 3)> with grad None>\n",
      "\\nVISIT <DenseTensor <GPUBuffer with shape (3, 3)> with grad <GPUBuffer with shape (3, 3)>>\n",
      "\\nVISIT <DenseTensor <GPUBuffer with shape (3, 3)> with grad None>\n",
      "\\nVISIT <DenseTensor <GPUBuffer with shape (3, 3)> with grad <GPUBuffer with shape (3, 3)>>\n",
      "\\nVISIT <DenseTensor <GPUBuffer with shape (1,)> with grad None>\n",
      "\\nVISIT <DenseTensor <GPUBuffer with shape (1,)> with grad None>\n",
      "T/G: <DenseTensor <GPUBuffer with shape (3, 3)> with grad None> <GPUBuffer with shape (3, 3)> (3, 3) (3, 3)\n",
      "T/G: <DenseTensor <GPUBuffer with shape (1,)> with grad None> <GPUBuffer with shape (1,)> (1,) (1,)\n",
      "T/G: <DenseTensor <GPUBuffer with shape (3, 3)> with grad None> <GPUBuffer with shape (3, 3)> (3, 3) (3, 3)\n",
      "T/G: <DenseTensor <GPUBuffer with shape (1,)> with grad None> <GPUBuffer with shape (1,)> (1,) (1,)\n",
      "T/G: <DenseTensor <GPUBuffer with shape (3, 3)> with grad None> <GPUBuffer with shape (3, 3)> (3, 3) (3, 3)\n",
      "T/G: <DenseTensor <GPUBuffer with shape (3, 3)> with grad <GPUBuffer with shape (3, 3)>> <GPUBuffer with shape (3, 3)> (3, 3) (3, 3)\n",
      "T/G: <DenseTensor <GPUBuffer with shape (3, 3)> with grad <GPUBuffer with shape (3, 3)>> <GPUBuffer with shape (3, 3)> (3, 3) (3, 3)\n",
      "T/G: <DenseTensor <GPUBuffer with shape (3, 3)> with grad None> <GPUBuffer with shape (3, 3)> (3, 3) (3, 3)\n"
     ]
    }
   ],
   "source": [
    "optimizer2.zero_grad()\n",
    "res2 = model.forward(x)\n",
    "loss2 = loss_fn(res2, y)\n",
    "loss2.backward()\n",
    "#optimizer2.step()"
   ]
  },
  {
   "cell_type": "code",
   "execution_count": 18,
   "id": "fe86f764",
   "metadata": {},
   "outputs": [
    {
     "data": {
      "text/plain": [
       "array([[ True,  True,  True],\n",
       "       [ True,  True,  True],\n",
       "       [ True,  True,  True]])"
      ]
     },
     "execution_count": 18,
     "metadata": {},
     "output_type": "execute_result"
    }
   ],
   "source": [
    "res2.cpu().data==res.cpu().data"
   ]
  },
  {
   "cell_type": "code",
   "execution_count": 19,
   "id": "9a259fb3",
   "metadata": {},
   "outputs": [
    {
     "data": {
      "text/plain": [
       "array([[-0.6899253 ,  0.22909799,  0.17805669],\n",
       "       [-2.8184183 , -0.08430927,  1.1420828 ],\n",
       "       [ 0.2419483 ,  0.05442254, -0.11403634]], dtype=float32)"
      ]
     },
     "execution_count": 19,
     "metadata": {},
     "output_type": "execute_result"
    }
   ],
   "source": [
    "res2.cpu().data"
   ]
  },
  {
   "cell_type": "code",
   "execution_count": 20,
   "id": "593799fb",
   "metadata": {},
   "outputs": [
    {
     "data": {
      "text/plain": [
       "array([[ True,  True,  True],\n",
       "       [ True,  True,  True],\n",
       "       [ True,  True,  True]])"
      ]
     },
     "execution_count": 20,
     "metadata": {},
     "output_type": "execute_result"
    }
   ],
   "source": [
    "loss.cpu().data==loss2.cpu().data"
   ]
  },
  {
   "cell_type": "code",
   "execution_count": 21,
   "id": "851f4b4f",
   "metadata": {},
   "outputs": [
    {
     "data": {
      "text/plain": [
       "array([[0.50551486, 0.8109138 , 0.48307404],\n",
       "       [2.6015759 , 1.4273951 , 2.0545573 ],\n",
       "       [0.4443901 , 0.83480704, 2.1205204 ]], dtype=float32)"
      ]
     },
     "execution_count": 21,
     "metadata": {},
     "output_type": "execute_result"
    }
   ],
   "source": [
    "loss2.cpu().data"
   ]
  },
  {
   "cell_type": "code",
   "execution_count": 22,
   "id": "fe25552e",
   "metadata": {},
   "outputs": [
    {
     "data": {
      "text/plain": [
       "array([[ True,  True,  True],\n",
       "       [ True,  True,  True],\n",
       "       [ True,  True,  True]])"
      ]
     },
     "execution_count": 22,
     "metadata": {},
     "output_type": "execute_result"
    }
   ],
   "source": [
    "res.grad.cpu().data==res2.grad.cpu().data"
   ]
  },
  {
   "cell_type": "code",
   "execution_count": 23,
   "id": "3c79154b",
   "metadata": {},
   "outputs": [
    {
     "data": {
      "text/plain": [
       "array([[ 0.99999994,  1.        ,  1.        ],\n",
       "       [-1.        ,  0.99999994,  0.99999994],\n",
       "       [ 0.9999999 ,  1.        , -1.        ]], dtype=float32)"
      ]
     },
     "execution_count": 23,
     "metadata": {},
     "output_type": "execute_result"
    }
   ],
   "source": [
    "res2.grad.cpu().data"
   ]
  },
  {
   "cell_type": "code",
   "execution_count": null,
   "id": "797acaa5",
   "metadata": {},
   "outputs": [],
   "source": []
  },
  {
   "cell_type": "code",
   "execution_count": 24,
   "id": "3b576c5c",
   "metadata": {},
   "outputs": [
    {
     "data": {
      "text/plain": [
       "(<DenseTensor <GPUBuffer with shape (3, 3)> with grad <GPUBuffer with shape (3, 3)>>,\n",
       " <SparseTensor <GPUBuffer with shape (9,)> with grad None>)"
      ]
     },
     "execution_count": 24,
     "metadata": {},
     "output_type": "execute_result"
    }
   ],
   "source": [
    "model.W, model2.W"
   ]
  },
  {
   "cell_type": "code",
   "execution_count": 25,
   "id": "46e1e9a8",
   "metadata": {},
   "outputs": [
    {
     "ename": "AttributeError",
     "evalue": "'Tensor' object has no attribute 'data'",
     "output_type": "error",
     "traceback": [
      "\u001b[0;31m---------------------------------------------------------------------------\u001b[0m",
      "\u001b[0;31mAttributeError\u001b[0m                            Traceback (most recent call last)",
      "\u001b[0;32m/tmp/ipykernel_4183/1061422124.py\u001b[0m in \u001b[0;36m<module>\u001b[0;34m\u001b[0m\n\u001b[0;32m----> 1\u001b[0;31m \u001b[0mmodel\u001b[0m\u001b[0;34m.\u001b[0m\u001b[0mW\u001b[0m\u001b[0;34m.\u001b[0m\u001b[0mcpu\u001b[0m\u001b[0;34m(\u001b[0m\u001b[0;34m)\u001b[0m\u001b[0;34m.\u001b[0m\u001b[0mdata\u001b[0m\u001b[0;34m==\u001b[0m\u001b[0mmodel2\u001b[0m\u001b[0;34m.\u001b[0m\u001b[0mW\u001b[0m\u001b[0;34m.\u001b[0m\u001b[0mcpu\u001b[0m\u001b[0;34m(\u001b[0m\u001b[0;34m)\u001b[0m\u001b[0;34m.\u001b[0m\u001b[0mdata\u001b[0m\u001b[0;34m\u001b[0m\u001b[0;34m\u001b[0m\u001b[0m\n\u001b[0m",
      "\u001b[0;31mAttributeError\u001b[0m: 'Tensor' object has no attribute 'data'"
     ]
    }
   ],
   "source": [
    "model.W.cpu().data==model2.W.cpu().data"
   ]
  },
  {
   "cell_type": "code",
   "execution_count": null,
   "id": "047f2b5a",
   "metadata": {},
   "outputs": [],
   "source": [
    "model.W.grad"
   ]
  },
  {
   "cell_type": "code",
   "execution_count": null,
   "id": "d1fe6f08",
   "metadata": {},
   "outputs": [],
   "source": []
  },
  {
   "cell_type": "code",
   "execution_count": null,
   "id": "7a45e9a8",
   "metadata": {},
   "outputs": [],
   "source": []
  },
  {
   "cell_type": "code",
   "execution_count": null,
   "id": "dd35f59d",
   "metadata": {},
   "outputs": [],
   "source": []
  },
  {
   "cell_type": "code",
   "execution_count": null,
   "id": "897a2a7e",
   "metadata": {},
   "outputs": [],
   "source": []
  },
  {
   "cell_type": "code",
   "execution_count": null,
   "id": "07745d92",
   "metadata": {},
   "outputs": [],
   "source": []
  },
  {
   "cell_type": "code",
   "execution_count": null,
   "id": "81962acd",
   "metadata": {},
   "outputs": [],
   "source": []
  },
  {
   "cell_type": "code",
   "execution_count": null,
   "id": "ebfecb5f",
   "metadata": {},
   "outputs": [],
   "source": []
  },
  {
   "cell_type": "code",
   "execution_count": null,
   "id": "4c5b2fec",
   "metadata": {},
   "outputs": [],
   "source": []
  },
  {
   "cell_type": "code",
   "execution_count": null,
   "id": "07f0b1d2",
   "metadata": {},
   "outputs": [],
   "source": []
  },
  {
   "cell_type": "code",
   "execution_count": null,
   "id": "ce7898e2",
   "metadata": {},
   "outputs": [],
   "source": []
  },
  {
   "cell_type": "code",
   "execution_count": null,
   "id": "e14f967b",
   "metadata": {},
   "outputs": [],
   "source": []
  }
 ],
 "metadata": {
  "kernelspec": {
   "display_name": "Python 3",
   "language": "python",
   "name": "python3"
  },
  "language_info": {
   "codemirror_mode": {
    "name": "ipython",
    "version": 3
   },
   "file_extension": ".py",
   "mimetype": "text/x-python",
   "name": "python",
   "nbconvert_exporter": "python",
   "pygments_lexer": "ipython3",
   "version": "3.8.12"
  }
 },
 "nbformat": 4,
 "nbformat_minor": 5
}
