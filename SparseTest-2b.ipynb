{
 "cells": [
  {
   "cell_type": "code",
   "execution_count": 1,
   "id": "4309590e",
   "metadata": {},
   "outputs": [
    {
     "name": "stdout",
     "output_type": "stream",
     "text": [
      "DEVICE:GPU\n"
     ]
    }
   ],
   "source": [
    "from tinygrad.densetensor import DenseTensor\n",
    "from tinygrad.sparsetensor import SparseTensor\n",
    "import numpy as np\n",
    "import tinygrad.optim as optim\n",
    "\n",
    "%load_ext autoreload\n",
    "%autoreload 2"
   ]
  },
  {
   "cell_type": "code",
   "execution_count": 2,
   "id": "4cb532fa",
   "metadata": {},
   "outputs": [],
   "source": [
    "dim1 = 3\n",
    "dim2 = 3\n",
    "dim3 = 3\n",
    "\n",
    "x_init = np.random.randn(3,3).astype(np.float32)\n",
    "x2_init = np.random.randn(3).astype(np.float32)\n",
    "U_init = np.random.randn(3,3).astype(np.float32)\n",
    "V_init = np.random.randn(3,3).astype(np.float32)\n",
    "W_init = SparseTensor.uniform(dim2,dim3, randsparsity=0.7).to_numpy().astype(np.float32)\n",
    "m_init = np.random.randn(1,3).astype(np.float32)"
   ]
  },
  {
   "cell_type": "code",
   "execution_count": 3,
   "id": "31bf141b",
   "metadata": {},
   "outputs": [
    {
     "data": {
      "text/plain": [
       "array([[ 1.3046834 ,  0.04164853,  1.2508975 ],\n",
       "       [ 0.8677658 ,  0.588463  ,  0.6791847 ],\n",
       "       [ 1.2291559 , -0.38143384,  3.3918836 ]], dtype=float32)"
      ]
     },
     "execution_count": 3,
     "metadata": {},
     "output_type": "execute_result"
    }
   ],
   "source": [
    "x_init"
   ]
  },
  {
   "cell_type": "code",
   "execution_count": 4,
   "id": "da4977ad",
   "metadata": {},
   "outputs": [
    {
     "data": {
      "text/plain": [
       "array([[0.        , 0.        , 0.00533126],\n",
       "       [0.        , 0.00018555, 0.        ],\n",
       "       [0.        , 0.00736821, 0.        ]], dtype=float32)"
      ]
     },
     "execution_count": 4,
     "metadata": {},
     "output_type": "execute_result"
    }
   ],
   "source": [
    "W_init"
   ]
  },
  {
   "cell_type": "code",
   "execution_count": 5,
   "id": "3fb8a745",
   "metadata": {},
   "outputs": [
    {
     "data": {
      "text/plain": [
       "(array([0.4609747], dtype=float32),\n",
       " <DenseTensor <GPUBuffer with shape (3, 3)> with grad <GPUBuffer with shape (3, 3)>>)"
      ]
     },
     "execution_count": 5,
     "metadata": {},
     "output_type": "execute_result"
    }
   ],
   "source": [
    "x = DenseTensor(x_init)\n",
    "W = DenseTensor(W_init)\n",
    "m = DenseTensor(m_init)\n",
    "out = x.dot(W).relu()\n",
    "out = out.logsoftmax()\n",
    "out = out.mul(m).add(m).sum()\n",
    "out.backward()\n",
    "\n",
    "out.cpu().data, x"
   ]
  },
  {
   "cell_type": "code",
   "execution_count": 6,
   "id": "46b0ba5a",
   "metadata": {
    "scrolled": true
   },
   "outputs": [
    {
     "name": "stdout",
     "output_type": "stream",
     "text": [
      "warning, (3, 3) isn't float32, it's float64\n"
     ]
    },
    {
     "data": {
      "text/plain": [
       "(array([0.5117228], dtype=float32),\n",
       " <SparseTensor <GPUBuffer with shape (9,)> with grad <DenseTensor <GPUBuffer with shape (3, 3)> with grad None>>)"
      ]
     },
     "execution_count": 6,
     "metadata": {},
     "output_type": "execute_result"
    }
   ],
   "source": [
    "x = SparseTensor(x_init.T)\n",
    "W = DenseTensor(W_init.T)\n",
    "m = DenseTensor(m_init)\n",
    "out = x.dot(W).relu()\n",
    "out = out.logsoftmax()\n",
    "out = out.mul(m).add(m).sum()\n",
    "out.backward()\n",
    "\n",
    "out.cpu().data, x"
   ]
  },
  {
   "cell_type": "code",
   "execution_count": 7,
   "id": "7d552c4b",
   "metadata": {
    "scrolled": true
   },
   "outputs": [
    {
     "data": {
      "text/plain": [
       "(array([[1.1672085e-02, 0.0000000e+00, 0.0000000e+00, 0.0000000e+00,\n",
       "         1.5308875e-02, 1.4638890e-03, 0.0000000e+00, 1.5457895e-03,\n",
       "         0.0000000e+00, 1.3800284e-03, 0.0000000e+00, 1.2581232e-02,\n",
       "         0.0000000e+00, 2.4767483e-03, 0.0000000e+00, 0.0000000e+00],\n",
       "        [1.3627433e-03, 0.0000000e+00, 0.0000000e+00, 5.1594963e-03,\n",
       "         0.0000000e+00, 0.0000000e+00, 7.3302458e-03, 7.7157617e-03,\n",
       "         4.6693324e-03, 2.4113131e-03, 0.0000000e+00, 0.0000000e+00,\n",
       "         0.0000000e+00, 0.0000000e+00, 2.1204946e-03, 4.4324631e-03],\n",
       "        [0.0000000e+00, 0.0000000e+00, 0.0000000e+00, 0.0000000e+00,\n",
       "         0.0000000e+00, 0.0000000e+00, 0.0000000e+00, 0.0000000e+00,\n",
       "         2.1381886e-03, 0.0000000e+00, 0.0000000e+00, 0.0000000e+00,\n",
       "         0.0000000e+00, 0.0000000e+00, 0.0000000e+00, 0.0000000e+00],\n",
       "        [0.0000000e+00, 8.4899077e-03, 0.0000000e+00, 0.0000000e+00,\n",
       "         0.0000000e+00, 2.6155699e-03, 0.0000000e+00, 0.0000000e+00,\n",
       "         0.0000000e+00, 6.7533758e-03, 0.0000000e+00, 4.2872475e-03,\n",
       "         2.2165759e-03, 0.0000000e+00, 0.0000000e+00, 0.0000000e+00],\n",
       "        [0.0000000e+00, 0.0000000e+00, 0.0000000e+00, 0.0000000e+00,\n",
       "         2.2701653e-04, 8.5880542e-03, 1.7362135e-03, 0.0000000e+00,\n",
       "         0.0000000e+00, 0.0000000e+00, 0.0000000e+00, 0.0000000e+00,\n",
       "         5.9989509e-03, 0.0000000e+00, 5.2729095e-03, 8.0450554e-04],\n",
       "        [0.0000000e+00, 0.0000000e+00, 0.0000000e+00, 0.0000000e+00,\n",
       "         1.3490042e-03, 4.0016016e-03, 0.0000000e+00, 2.5620344e-04,\n",
       "         0.0000000e+00, 0.0000000e+00, 0.0000000e+00, 0.0000000e+00,\n",
       "         0.0000000e+00, 3.7898871e-03, 4.9256939e-03, 1.1222724e-02],\n",
       "        [2.4887221e-04, 0.0000000e+00, 0.0000000e+00, 0.0000000e+00,\n",
       "         0.0000000e+00, 0.0000000e+00, 0.0000000e+00, 1.8775146e-03,\n",
       "         1.1983971e-03, 0.0000000e+00, 0.0000000e+00, 0.0000000e+00,\n",
       "         4.9452865e-03, 0.0000000e+00, 0.0000000e+00, 0.0000000e+00],\n",
       "        [0.0000000e+00, 0.0000000e+00, 0.0000000e+00, 0.0000000e+00,\n",
       "         0.0000000e+00, 0.0000000e+00, 0.0000000e+00, 1.4959539e-03,\n",
       "         0.0000000e+00, 0.0000000e+00, 0.0000000e+00, 0.0000000e+00,\n",
       "         0.0000000e+00, 4.8990031e-03, 0.0000000e+00, 2.7038909e-03],\n",
       "        [3.0379209e-03, 0.0000000e+00, 0.0000000e+00, 0.0000000e+00,\n",
       "         1.1356910e-02, 0.0000000e+00, 0.0000000e+00, 1.0816738e-03,\n",
       "         2.2507447e-03, 9.1721932e-04, 0.0000000e+00, 4.1413591e-03,\n",
       "         3.2218275e-04, 0.0000000e+00, 0.0000000e+00, 2.3241590e-05],\n",
       "        [0.0000000e+00, 0.0000000e+00, 3.0113128e-04, 0.0000000e+00,\n",
       "         0.0000000e+00, 0.0000000e+00, 4.2341100e-03, 0.0000000e+00,\n",
       "         3.2959084e-03, 0.0000000e+00, 0.0000000e+00, 0.0000000e+00,\n",
       "         0.0000000e+00, 0.0000000e+00, 6.2595075e-03, 0.0000000e+00],\n",
       "        [0.0000000e+00, 7.8255084e-04, 0.0000000e+00, 0.0000000e+00,\n",
       "         0.0000000e+00, 0.0000000e+00, 0.0000000e+00, 1.1920634e-03,\n",
       "         0.0000000e+00, 0.0000000e+00, 0.0000000e+00, 0.0000000e+00,\n",
       "         0.0000000e+00, 0.0000000e+00, 0.0000000e+00, 0.0000000e+00],\n",
       "        [0.0000000e+00, 0.0000000e+00, 0.0000000e+00, 1.0759684e-03,\n",
       "         0.0000000e+00, 0.0000000e+00, 0.0000000e+00, 0.0000000e+00,\n",
       "         0.0000000e+00, 0.0000000e+00, 0.0000000e+00, 0.0000000e+00,\n",
       "         3.9337743e-03, 0.0000000e+00, 0.0000000e+00, 0.0000000e+00],\n",
       "        [0.0000000e+00, 2.6406432e-03, 0.0000000e+00, 0.0000000e+00,\n",
       "         1.0503759e-03, 3.6146658e-04, 2.0911328e-03, 0.0000000e+00,\n",
       "         0.0000000e+00, 0.0000000e+00, 2.4607332e-04, 0.0000000e+00,\n",
       "         0.0000000e+00, 0.0000000e+00, 5.4125133e-04, 9.7837183e-04],\n",
       "        [1.0102642e-03, 0.0000000e+00, 1.1821961e-03, 1.4625582e-03,\n",
       "         0.0000000e+00, 6.3091906e-04, 0.0000000e+00, 2.8808871e-03,\n",
       "         1.3296405e-03, 3.6380640e-03, 6.4933620e-04, 6.7320775e-04,\n",
       "         2.6687039e-03, 2.3970956e-03, 0.0000000e+00, 0.0000000e+00],\n",
       "        [0.0000000e+00, 0.0000000e+00, 0.0000000e+00, 3.3448008e-04,\n",
       "         3.4820305e-03, 4.0098102e-04, 3.3158282e-04, 0.0000000e+00,\n",
       "         0.0000000e+00, 0.0000000e+00, 0.0000000e+00, 0.0000000e+00,\n",
       "         2.1584234e-04, 0.0000000e+00, 0.0000000e+00, 0.0000000e+00],\n",
       "        [1.8213645e-03, 0.0000000e+00, 2.5561510e-03, 1.5919282e-04,\n",
       "         0.0000000e+00, 4.5816958e-04, 8.8249985e-04, 2.4294066e-03,\n",
       "         2.2824421e-03, 1.2381695e-03, 2.1019983e-03, 1.1498109e-03,\n",
       "         0.0000000e+00, 1.1735611e-03, 1.7716374e-03, 2.0016653e-03]],\n",
       "       dtype=float32),\n",
       " (16, 16))"
      ]
     },
     "execution_count": 7,
     "metadata": {},
     "output_type": "execute_result"
    }
   ],
   "source": [
    "dim = 16\n",
    "x2 = DenseTensor(np.random.randn(dim,1).astype(np.float32))#.gpu()\n",
    "W = SparseTensor(randinit=(dim,dim), randsparsity=0.2)\n",
    "out = W.dot(x2).relu()\n",
    "\n",
    "out.backward()\n",
    "\n",
    "out.cpu().data, out.cpu().data.shape"
   ]
  },
  {
   "cell_type": "code",
   "execution_count": 8,
   "id": "727b82ef",
   "metadata": {},
   "outputs": [
    {
     "data": {
      "text/plain": [
       "array([[1., 1., 1., 1., 1., 1., 1., 1., 1., 1., 1., 1., 1., 1., 1., 1.],\n",
       "       [1., 1., 1., 1., 1., 1., 1., 1., 1., 1., 1., 1., 1., 1., 1., 1.],\n",
       "       [1., 1., 1., 1., 1., 1., 1., 1., 1., 1., 1., 1., 1., 1., 1., 1.],\n",
       "       [1., 1., 1., 1., 1., 1., 1., 1., 1., 1., 1., 1., 1., 1., 1., 1.],\n",
       "       [1., 1., 1., 1., 1., 1., 1., 1., 1., 1., 1., 1., 1., 1., 1., 1.],\n",
       "       [1., 1., 1., 1., 1., 1., 1., 1., 1., 1., 1., 1., 1., 1., 1., 1.],\n",
       "       [1., 1., 1., 1., 1., 1., 1., 1., 1., 1., 1., 1., 1., 1., 1., 1.],\n",
       "       [1., 1., 1., 1., 1., 1., 1., 1., 1., 1., 1., 1., 1., 1., 1., 1.],\n",
       "       [1., 1., 1., 1., 1., 1., 1., 1., 1., 1., 1., 1., 1., 1., 1., 1.],\n",
       "       [1., 1., 1., 1., 1., 1., 1., 1., 1., 1., 1., 1., 1., 1., 1., 1.],\n",
       "       [1., 1., 1., 1., 1., 1., 1., 1., 1., 1., 1., 1., 1., 1., 1., 1.],\n",
       "       [1., 1., 1., 1., 1., 1., 1., 1., 1., 1., 1., 1., 1., 1., 1., 1.],\n",
       "       [1., 1., 1., 1., 1., 1., 1., 1., 1., 1., 1., 1., 1., 1., 1., 1.],\n",
       "       [1., 1., 1., 1., 1., 1., 1., 1., 1., 1., 1., 1., 1., 1., 1., 1.],\n",
       "       [1., 1., 1., 1., 1., 1., 1., 1., 1., 1., 1., 1., 1., 1., 1., 1.],\n",
       "       [1., 1., 1., 1., 1., 1., 1., 1., 1., 1., 1., 1., 1., 1., 1., 1.]],\n",
       "      dtype=float32)"
      ]
     },
     "execution_count": 8,
     "metadata": {},
     "output_type": "execute_result"
    }
   ],
   "source": [
    "out.grad.cpu().data"
   ]
  },
  {
   "cell_type": "code",
   "execution_count": null,
   "id": "58d663a9",
   "metadata": {},
   "outputs": [],
   "source": []
  },
  {
   "cell_type": "code",
   "execution_count": null,
   "id": "aa07ec67",
   "metadata": {},
   "outputs": [],
   "source": []
  },
  {
   "cell_type": "code",
   "execution_count": null,
   "id": "a66e8cb1",
   "metadata": {},
   "outputs": [],
   "source": []
  }
 ],
 "metadata": {
  "kernelspec": {
   "display_name": "Python 3",
   "language": "python",
   "name": "python3"
  },
  "language_info": {
   "codemirror_mode": {
    "name": "ipython",
    "version": 3
   },
   "file_extension": ".py",
   "mimetype": "text/x-python",
   "name": "python",
   "nbconvert_exporter": "python",
   "pygments_lexer": "ipython3",
   "version": "3.8.12"
  }
 },
 "nbformat": 4,
 "nbformat_minor": 5
}
