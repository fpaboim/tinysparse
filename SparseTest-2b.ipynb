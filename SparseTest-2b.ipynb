{
 "cells": [
  {
   "cell_type": "code",
   "execution_count": 1,
   "id": "4309590e",
   "metadata": {},
   "outputs": [
    {
     "name": "stdout",
     "output_type": "stream",
     "text": [
      "DEVICE:GPU\n"
     ]
    }
   ],
   "source": [
    "from tinygrad.densetensor import DenseTensor\n",
    "from tinygrad.sparsetensor import SparseTensor\n",
    "import numpy as np\n",
    "import tinygrad.optim as optim\n",
    "\n",
    "%load_ext autoreload\n",
    "%autoreload 2"
   ]
  },
  {
   "cell_type": "code",
   "execution_count": 10,
   "id": "4cb532fa",
   "metadata": {},
   "outputs": [],
   "source": [
    "dim1 = 3\n",
    "dim2 = 3\n",
    "dim3 = 3\n",
    "\n",
    "x_init = np.random.randn(3,3).astype(np.float32)\n",
    "x2_init = np.random.randn(3).astype(np.float32)\n",
    "U_init = np.random.randn(3,3).astype(np.float32)\n",
    "V_init = np.random.randn(3,3).astype(np.float32)\n",
    "W_init = SparseTensor.uniform(dim2,dim3, randsparsity=0.7).to_numpy().astype(np.float32)\n",
    "m_init = np.random.randn(1,3).astype(np.float32)"
   ]
  },
  {
   "cell_type": "code",
   "execution_count": 11,
   "id": "31bf141b",
   "metadata": {},
   "outputs": [
    {
     "data": {
      "text/plain": [
       "array([[ 0.110732  ,  0.18753076,  0.3077455 ],\n",
       "       [-0.4032947 ,  0.12086255,  0.69365877],\n",
       "       [ 0.47443777,  0.43354484, -0.82397753]], dtype=float32)"
      ]
     },
     "execution_count": 11,
     "metadata": {},
     "output_type": "execute_result"
    }
   ],
   "source": [
    "x_init"
   ]
  },
  {
   "cell_type": "code",
   "execution_count": 12,
   "id": "da4977ad",
   "metadata": {},
   "outputs": [
    {
     "data": {
      "text/plain": [
       "array([[0.        , 0.        , 0.00196458],\n",
       "       [0.00484476, 0.        , 0.        ],\n",
       "       [0.00826782, 0.        , 0.        ]], dtype=float32)"
      ]
     },
     "execution_count": 12,
     "metadata": {},
     "output_type": "execute_result"
    }
   ],
   "source": [
    "W_init"
   ]
  },
  {
   "cell_type": "code",
   "execution_count": 13,
   "id": "3fb8a745",
   "metadata": {},
   "outputs": [
    {
     "data": {
      "text/plain": [
       "(array([0.5524663], dtype=float32),\n",
       " <DenseTensor <GPUBuffer with shape (3, 3)> with grad <GPUBuffer with shape (3, 3)>>)"
      ]
     },
     "execution_count": 13,
     "metadata": {},
     "output_type": "execute_result"
    }
   ],
   "source": [
    "x = DenseTensor(x_init)\n",
    "W = DenseTensor(W_init)\n",
    "m = DenseTensor(m_init)\n",
    "out = x.dot(W).relu()\n",
    "out = out.logsoftmax()\n",
    "out = out.mul(m).add(m).sum()\n",
    "out.backward()\n",
    "\n",
    "out.cpu().data, x"
   ]
  },
  {
   "cell_type": "code",
   "execution_count": 14,
   "id": "46b0ba5a",
   "metadata": {
    "scrolled": true
   },
   "outputs": [
    {
     "data": {
      "text/plain": [
       "(array([0.5624094], dtype=float32),\n",
       " <SparseTensor <GPUBuffer with shape (9,)> with grad <DenseTensor <GPUBuffer with shape (3, 3)> with grad None>>)"
      ]
     },
     "execution_count": 14,
     "metadata": {},
     "output_type": "execute_result"
    }
   ],
   "source": [
    "x = SparseTensor(x_init.T)\n",
    "W = DenseTensor(W_init.T)\n",
    "m = DenseTensor(m_init)\n",
    "out = x.dot(W).relu()\n",
    "out = out.logsoftmax()\n",
    "out = out.mul(m).add(m).sum()\n",
    "out.backward()\n",
    "\n",
    "out.cpu().data, x"
   ]
  },
  {
   "cell_type": "code",
   "execution_count": 15,
   "id": "7d552c4b",
   "metadata": {
    "scrolled": true
   },
   "outputs": [
    {
     "data": {
      "text/plain": [
       "(array([[0.00000000e+00, 0.00000000e+00, 0.00000000e+00, 1.80540252e-02,\n",
       "         0.00000000e+00, 0.00000000e+00, 0.00000000e+00, 0.00000000e+00,\n",
       "         0.00000000e+00, 0.00000000e+00, 0.00000000e+00, 3.23650008e-03,\n",
       "         1.54125830e-02, 0.00000000e+00, 0.00000000e+00, 0.00000000e+00],\n",
       "        [4.49533155e-03, 6.44196942e-03, 5.00780530e-03, 0.00000000e+00,\n",
       "         3.85948806e-03, 1.26029486e-02, 1.54838711e-02, 1.43047022e-02,\n",
       "         1.77512988e-02, 1.43454298e-02, 1.08837029e-02, 0.00000000e+00,\n",
       "         0.00000000e+00, 1.32352794e-02, 1.20087350e-02, 2.31401017e-03],\n",
       "        [0.00000000e+00, 0.00000000e+00, 0.00000000e+00, 5.34245220e-04,\n",
       "         0.00000000e+00, 0.00000000e+00, 0.00000000e+00, 0.00000000e+00,\n",
       "         0.00000000e+00, 0.00000000e+00, 0.00000000e+00, 9.57728116e-05,\n",
       "         4.56081063e-04, 0.00000000e+00, 0.00000000e+00, 0.00000000e+00],\n",
       "        [1.33023495e-04, 1.90627368e-04, 1.48188337e-04, 0.00000000e+00,\n",
       "         1.14207935e-04, 3.72939830e-04, 4.58190567e-04, 4.23297228e-04,\n",
       "         5.25287061e-04, 4.24502417e-04, 3.22064792e-04, 0.00000000e+00,\n",
       "         0.00000000e+00, 3.91651440e-04, 3.55356169e-04, 6.84749684e-05],\n",
       "        [0.00000000e+00, 0.00000000e+00, 0.00000000e+00, 0.00000000e+00,\n",
       "         0.00000000e+00, 0.00000000e+00, 0.00000000e+00, 0.00000000e+00,\n",
       "         0.00000000e+00, 0.00000000e+00, 0.00000000e+00, 0.00000000e+00,\n",
       "         0.00000000e+00, 0.00000000e+00, 0.00000000e+00, 0.00000000e+00],\n",
       "        [0.00000000e+00, 0.00000000e+00, 0.00000000e+00, 0.00000000e+00,\n",
       "         0.00000000e+00, 0.00000000e+00, 0.00000000e+00, 0.00000000e+00,\n",
       "         0.00000000e+00, 0.00000000e+00, 0.00000000e+00, 0.00000000e+00,\n",
       "         0.00000000e+00, 0.00000000e+00, 0.00000000e+00, 0.00000000e+00],\n",
       "        [0.00000000e+00, 0.00000000e+00, 0.00000000e+00, 6.38336688e-03,\n",
       "         0.00000000e+00, 0.00000000e+00, 0.00000000e+00, 0.00000000e+00,\n",
       "         0.00000000e+00, 0.00000000e+00, 0.00000000e+00, 1.14433025e-03,\n",
       "         5.44943148e-03, 0.00000000e+00, 0.00000000e+00, 0.00000000e+00],\n",
       "        [1.58941559e-03, 2.27768882e-03, 1.77061115e-03, 0.00000000e+00,\n",
       "         1.36460026e-03, 4.45602788e-03, 5.47463680e-03, 5.05771721e-03,\n",
       "         6.27633138e-03, 5.07211732e-03, 3.84815386e-03, 0.00000000e+00,\n",
       "         0.00000000e+00, 4.67960164e-03, 4.24593175e-03, 8.18165194e-04],\n",
       "        [0.00000000e+00, 0.00000000e+00, 0.00000000e+00, 1.50776980e-02,\n",
       "         0.00000000e+00, 0.00000000e+00, 0.00000000e+00, 0.00000000e+00,\n",
       "         0.00000000e+00, 0.00000000e+00, 0.00000000e+00, 2.70294142e-03,\n",
       "         1.28717152e-02, 0.00000000e+00, 0.00000000e+00, 0.00000000e+00],\n",
       "        [3.75424605e-03, 5.37996786e-03, 4.18223534e-03, 0.00000000e+00,\n",
       "         3.22322547e-03, 1.05252676e-02, 1.29312510e-02, 1.19464761e-02,\n",
       "         1.48248775e-02, 1.19804889e-02, 9.08945128e-03, 0.00000000e+00,\n",
       "         0.00000000e+00, 1.10533554e-02, 1.00290151e-02, 1.93252997e-03],\n",
       "        [0.00000000e+00, 0.00000000e+00, 0.00000000e+00, 5.80257084e-03,\n",
       "         0.00000000e+00, 0.00000000e+00, 0.00000000e+00, 0.00000000e+00,\n",
       "         0.00000000e+00, 0.00000000e+00, 0.00000000e+00, 1.04021246e-03,\n",
       "         4.95361025e-03, 0.00000000e+00, 0.00000000e+00, 0.00000000e+00],\n",
       "        [1.44480134e-03, 2.07045162e-03, 1.60951063e-03, 0.00000000e+00,\n",
       "         1.24044099e-03, 4.05059289e-03, 4.97652264e-03, 4.59753675e-03,\n",
       "         5.70527418e-03, 4.61062696e-03, 3.49802640e-03, 0.00000000e+00,\n",
       "         0.00000000e+00, 4.25382424e-03, 3.85961239e-03, 7.43723765e-04],\n",
       "        [0.00000000e+00, 0.00000000e+00, 0.00000000e+00, 4.00800229e-04,\n",
       "         0.00000000e+00, 0.00000000e+00, 0.00000000e+00, 0.00000000e+00,\n",
       "         0.00000000e+00, 0.00000000e+00, 0.00000000e+00, 7.18504598e-05,\n",
       "         3.42160085e-04, 0.00000000e+00, 0.00000000e+00, 0.00000000e+00],\n",
       "        [9.97965763e-05, 1.43012032e-04, 1.11173518e-04, 0.00000000e+00,\n",
       "         8.56808183e-05, 2.79786065e-04, 3.43742693e-04, 3.17565078e-04,\n",
       "         3.94079660e-04, 3.18469218e-04, 2.41618720e-04, 0.00000000e+00,\n",
       "         0.00000000e+00, 2.93823832e-04, 2.66594492e-04, 5.13711348e-05],\n",
       "        [0.00000000e+00, 0.00000000e+00, 0.00000000e+00, 0.00000000e+00,\n",
       "         0.00000000e+00, 0.00000000e+00, 0.00000000e+00, 0.00000000e+00,\n",
       "         0.00000000e+00, 0.00000000e+00, 0.00000000e+00, 0.00000000e+00,\n",
       "         0.00000000e+00, 0.00000000e+00, 0.00000000e+00, 0.00000000e+00],\n",
       "        [0.00000000e+00, 0.00000000e+00, 0.00000000e+00, 0.00000000e+00,\n",
       "         0.00000000e+00, 0.00000000e+00, 0.00000000e+00, 0.00000000e+00,\n",
       "         0.00000000e+00, 0.00000000e+00, 0.00000000e+00, 0.00000000e+00,\n",
       "         0.00000000e+00, 0.00000000e+00, 0.00000000e+00, 0.00000000e+00]],\n",
       "       dtype=float32),\n",
       " (16, 16))"
      ]
     },
     "execution_count": 15,
     "metadata": {},
     "output_type": "execute_result"
    }
   ],
   "source": [
    "dim = 16\n",
    "x2 = DenseTensor(np.random.randn(dim,1).astype(np.float32))#.gpu()\n",
    "W = SparseTensor(randinit=(dim,dim), randsparsity=0.2)\n",
    "out = W.dot(x2).relu()\n",
    "\n",
    "out.backward()\n",
    "\n",
    "out.cpu().data, out.cpu().data.shape"
   ]
  },
  {
   "cell_type": "code",
   "execution_count": 8,
   "id": "727b82ef",
   "metadata": {},
   "outputs": [
    {
     "data": {
      "text/plain": [
       "array([[1.],\n",
       "       [1.],\n",
       "       [1.],\n",
       "       [1.],\n",
       "       [1.],\n",
       "       [1.],\n",
       "       [1.],\n",
       "       [1.],\n",
       "       [1.],\n",
       "       [1.],\n",
       "       [1.],\n",
       "       [1.],\n",
       "       [1.],\n",
       "       [1.],\n",
       "       [1.],\n",
       "       [1.]], dtype=float32)"
      ]
     },
     "execution_count": 8,
     "metadata": {},
     "output_type": "execute_result"
    }
   ],
   "source": [
    "out.grad.cpu().data"
   ]
  },
  {
   "cell_type": "code",
   "execution_count": null,
   "id": "58d663a9",
   "metadata": {},
   "outputs": [],
   "source": []
  },
  {
   "cell_type": "code",
   "execution_count": null,
   "id": "aa07ec67",
   "metadata": {},
   "outputs": [],
   "source": []
  },
  {
   "cell_type": "code",
   "execution_count": null,
   "id": "a66e8cb1",
   "metadata": {},
   "outputs": [],
   "source": []
  }
 ],
 "metadata": {
  "kernelspec": {
   "display_name": "Python 3",
   "language": "python",
   "name": "python3"
  },
  "language_info": {
   "codemirror_mode": {
    "name": "ipython",
    "version": 3
   },
   "file_extension": ".py",
   "mimetype": "text/x-python",
   "name": "python",
   "nbconvert_exporter": "python",
   "pygments_lexer": "ipython3",
   "version": "3.8.12"
  }
 },
 "nbformat": 4,
 "nbformat_minor": 5
}
