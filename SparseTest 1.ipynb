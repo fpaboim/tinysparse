{
 "cells": [
  {
   "cell_type": "code",
   "execution_count": 1,
   "id": "4309590e",
   "metadata": {},
   "outputs": [
    {
     "name": "stdout",
     "output_type": "stream",
     "text": [
      "DEVICE:GPU\n"
     ]
    }
   ],
   "source": [
    "from tinygrad.densetensor import DenseTensor\n",
    "from tinygrad.sparsetensor import SparseTensor\n",
    "import numpy as np\n",
    "\n",
    "%load_ext autoreload\n",
    "%autoreload 2"
   ]
  },
  {
   "cell_type": "code",
   "execution_count": 2,
   "id": "4cb532fa",
   "metadata": {},
   "outputs": [],
   "source": [
    "x_init = np.random.randn(1,3).astype(np.float32)\n",
    "x2_init = np.random.randn(3).astype(np.float32)\n",
    "U_init = np.random.randn(3,3).astype(np.float32)\n",
    "V_init = np.random.randn(3,3).astype(np.float32)\n",
    "W_init = np.random.randn(3,3).astype(np.float32)\n",
    "m_init = np.random.randn(1,3).astype(np.float32)"
   ]
  },
  {
   "cell_type": "code",
   "execution_count": 3,
   "id": "3fb8a745",
   "metadata": {},
   "outputs": [
    {
     "name": "stdout",
     "output_type": "stream",
     "text": [
      "IDXEXP: ['idx_ret0 + d0*(0)', '0']\n",
      "IDXEXP: ['0', '0']\n",
      "IDXEXP: ['idx_ret0 + d0*(0)', 'idx_ret0 + d0*(0)']\n",
      "IDXEXP: ['idx_ret0 + d0*(0)', 'idx_ret0 + d0*(0)']\n",
      "IDXEXP: ['0', 'idx_ret0 + d0*(0)']\n",
      "IDXEXP: ['0', '0']\n",
      "IDXEXP: ['idx_ret0 + d0*(0)', 'idx_ret0 + d0*(0)']\n",
      "IDXEXP: ['idx_ret0 + d0*(0)', '0']\n",
      "IDXEXP: ['idx_ret0 + d0*(0)', '0']\n",
      "IDXEXP: ['idx_ret0 + d0*(0)', '0']\n",
      "IDXEXP: ['idx_ret0 + d0*(0)', 'idx_ret0 + d0*(0)']\n"
     ]
    },
    {
     "data": {
      "text/plain": [
       "(array([-2.509836], dtype=float32),\n",
       " <DenseTensor <GPUBuffer with shape (1, 3)> with grad <GPUBuffer with shape (1, 3)>>)"
      ]
     },
     "execution_count": 3,
     "metadata": {},
     "output_type": "execute_result"
    }
   ],
   "source": [
    "x = DenseTensor(x_init)\n",
    "W = DenseTensor(W_init)\n",
    "m = DenseTensor(m_init)\n",
    "out = x.dot(W).relu()\n",
    "out = out.logsoftmax()\n",
    "out = out.mul(m).add(m).sum()\n",
    "out.backward()\n",
    "\n",
    "out.cpu().data, x"
   ]
  },
  {
   "cell_type": "markdown",
   "id": "62d0edbe",
   "metadata": {
    "scrolled": true
   },
   "source": [
    "x2 = DenseTensor(x2_init)#.gpu()\n",
    "W = SparseTensor(W_init)\n",
    "out = W.dot(x2).relu().sum()\n",
    "\n",
    "out.backward()\n",
    "\n",
    "out.cpu().data, x"
   ]
  },
  {
   "cell_type": "code",
   "execution_count": 4,
   "id": "c3d0659d",
   "metadata": {},
   "outputs": [],
   "source": [
    "import numpy as np\n",
    "import pyopencl as cl\n",
    "\n",
    "mf = cl.mem_flags"
   ]
  },
  {
   "cell_type": "code",
   "execution_count": 5,
   "id": "a0cc978b",
   "metadata": {},
   "outputs": [
    {
     "data": {
      "text/plain": [
       "((2, 4), (4, 2))"
      ]
     },
     "execution_count": 5,
     "metadata": {},
     "output_type": "execute_result"
    }
   ],
   "source": [
    "dim1 = 2\n",
    "dim2 = 4\n",
    "dim3 = 2\n",
    "bs = dim3\n",
    "\n",
    "ctx = cl.create_some_context()\n",
    "queue = cl.CommandQueue(ctx,\n",
    "        properties=cl.command_queue_properties.PROFILING_ENABLE)\n",
    "\n",
    "sparsity = 0.2\n",
    "\n",
    "a = np.zeros((dim1,dim2))\n",
    "b = np.random.rand(dim2,dim3).astype(np.float32)\n",
    "\n",
    "a.shape, b.shape"
   ]
  },
  {
   "cell_type": "code",
   "execution_count": 6,
   "id": "7ecf7a2b",
   "metadata": {},
   "outputs": [],
   "source": [
    "def fill_sparse(mat, sparsity=0.1):\n",
    "    indices = np.array(range(mat.shape[1]))\n",
    "    nrows = int(mat.shape[1]*sparsity)\n",
    "    for row in range(mat.shape[0]):\n",
    "        lim = nrows #+ int(np.random.random()*3)\n",
    "        mat[row][np.random.permutation(indices)[:lim]] = np.random.random(lim)\n",
    "    return mat\n",
    "\n",
    "a = fill_sparse(a, 1).astype(np.float32)\n",
    "#b = fill_sparse(b, sparsity)"
   ]
  },
  {
   "cell_type": "code",
   "execution_count": 7,
   "id": "b32f0e9a",
   "metadata": {},
   "outputs": [
    {
     "data": {
      "text/plain": [
       "array([[0.52928597, 0.4790577 , 0.59725916, 0.38513368],\n",
       "       [0.7996025 , 0.5239388 , 0.71912235, 0.8315121 ]], dtype=float32)"
      ]
     },
     "execution_count": 7,
     "metadata": {},
     "output_type": "execute_result"
    }
   ],
   "source": [
    "a"
   ]
  },
  {
   "cell_type": "code",
   "execution_count": 8,
   "id": "d286d740",
   "metadata": {},
   "outputs": [
    {
     "data": {
      "text/plain": [
       "array([[0.58639556, 0.82967967],\n",
       "       [0.20047839, 0.61436   ],\n",
       "       [0.82044476, 0.69936574],\n",
       "       [0.6975606 , 0.04583522]], dtype=float32)"
      ]
     },
     "execution_count": 8,
     "metadata": {},
     "output_type": "execute_result"
    }
   ],
   "source": [
    "b"
   ]
  },
  {
   "cell_type": "code",
   "execution_count": 9,
   "id": "45c14776",
   "metadata": {},
   "outputs": [
    {
     "data": {
      "text/plain": [
       "array([-2.1650586,  0.1514459, -0.9588742], dtype=float32)"
      ]
     },
     "execution_count": 9,
     "metadata": {},
     "output_type": "execute_result"
    }
   ],
   "source": [
    "x2_init.T"
   ]
  },
  {
   "cell_type": "code",
   "execution_count": 10,
   "id": "6b2b88a2",
   "metadata": {},
   "outputs": [
    {
     "data": {
      "text/plain": [
       "(2, 2)"
      ]
     },
     "execution_count": 10,
     "metadata": {},
     "output_type": "execute_result"
    }
   ],
   "source": [
    "mult = a.dot(b)\n",
    "mult.shape"
   ]
  },
  {
   "cell_type": "code",
   "execution_count": 11,
   "id": "d33049e0",
   "metadata": {},
   "outputs": [
    {
     "data": {
      "text/plain": [
       "(2, 2)"
      ]
     },
     "execution_count": 11,
     "metadata": {},
     "output_type": "execute_result"
    }
   ],
   "source": [
    "mult.shape"
   ]
  },
  {
   "cell_type": "code",
   "execution_count": 12,
   "id": "67872651",
   "metadata": {},
   "outputs": [],
   "source": [
    "def to_data(mat):\n",
    "    all_rows = []\n",
    "    all_idxs = []\n",
    "    all_nnzs = []\n",
    "    for row in range(mat.shape[0]):\n",
    "        rowdata = []\n",
    "        colidxs = []\n",
    "        all_nnzs.append(0)\n",
    "        for col in range(mat.shape[1]):\n",
    "            val = mat[row][col]\n",
    "            if val != 0:\n",
    "                rowdata.append(val)\n",
    "                colidxs.append(col)\n",
    "                all_nnzs[-1] += 1\n",
    "        all_rows.append(rowdata)\n",
    "        all_idxs.append(colidxs)\n",
    "    \n",
    "    ellwidth = min(int(np.sqrt(np.max(all_nnzs))+1)**2, mat.shape[1])\n",
    "    #all_rows = np.array(all_rows)#.astype(np.float32).flatten()           \n",
    "    for row in range(mat.shape[0]):\n",
    "        #print(row, all_rows)\n",
    "        all_rows[row] = np.array(all_rows[row])\n",
    "        all_rows[row].resize(ellwidth)\n",
    "        all_idxs[row] = np.array(all_idxs[row])\n",
    "        all_idxs[row].resize(ellwidth)\n",
    "        print(all_idxs[row])\n",
    "    all_rows = np.array(all_rows).astype(np.float32).flatten()\n",
    "    print(all_idxs)\n",
    "    all_idxs = np.array(all_idxs).astype(np.uint32).flatten()\n",
    "    all_nnzs = np.array(all_nnzs).astype(np.uint32)\n",
    "    \n",
    "    return all_rows, all_idxs, all_nnzs, ellwidth"
   ]
  },
  {
   "cell_type": "code",
   "execution_count": 13,
   "id": "3cc9dd5d",
   "metadata": {},
   "outputs": [],
   "source": [
    "def to_dense(data, cols, nnzs, ellw, shape):\n",
    "    out = np.zeros(shape)\n",
    "    for row in range(shape[0]):\n",
    "        for icol in range(nnzs[row]):\n",
    "            out[row,cols[row*ellw+icol]] = data[row*ellw+icol]\n",
    "    return out"
   ]
  },
  {
   "cell_type": "code",
   "execution_count": 14,
   "id": "5c9c6134",
   "metadata": {},
   "outputs": [
    {
     "name": "stdout",
     "output_type": "stream",
     "text": [
      "[0 1 2 3]\n",
      "[0 1 2 3]\n",
      "[array([0, 1, 2, 3]), array([0, 1, 2, 3])]\n"
     ]
    },
    {
     "data": {
      "text/plain": [
       "(array([0.52928597, 0.4790577 , 0.59725916, 0.38513368, 0.7996025 ,\n",
       "        0.5239388 , 0.71912235, 0.8315121 ], dtype=float32),\n",
       " array([0, 1, 2, 3, 0, 1, 2, 3], dtype=uint32),\n",
       " array([4, 4], dtype=uint32),\n",
       " 4)"
      ]
     },
     "execution_count": 14,
     "metadata": {},
     "output_type": "execute_result"
    }
   ],
   "source": [
    "adata, acols, annz, ellwa = to_data(a)\n",
    "adata, acols, annz, ellwa"
   ]
  },
  {
   "cell_type": "code",
   "execution_count": 15,
   "id": "333f732b",
   "metadata": {},
   "outputs": [
    {
     "name": "stdout",
     "output_type": "stream",
     "text": [
      "[0 1]\n",
      "[0 1]\n",
      "[0 1]\n",
      "[0 1]\n",
      "[array([0, 1]), array([0, 1]), array([0, 1]), array([0, 1])]\n"
     ]
    },
    {
     "data": {
      "text/plain": [
       "(array([0.52928597, 0.7996025 , 0.4790577 , 0.5239388 , 0.59725916,\n",
       "        0.71912235, 0.38513368, 0.8315121 ], dtype=float32),\n",
       " array([0, 1, 0, 1, 0, 1, 0, 1], dtype=uint32),\n",
       " array([2, 2, 2, 2], dtype=uint32),\n",
       " 2)"
      ]
     },
     "execution_count": 15,
     "metadata": {},
     "output_type": "execute_result"
    }
   ],
   "source": [
    "adatat, acolst, annzt, ellwat = to_data(a.T)\n",
    "adatat, acolst, annzt, ellwat"
   ]
  },
  {
   "cell_type": "code",
   "execution_count": 291,
   "id": "88441b4b",
   "metadata": {},
   "outputs": [
    {
     "name": "stdout",
     "output_type": "stream",
     "text": [
      "[0 1]\n",
      "[0 1]\n",
      "[0 1]\n",
      "[0 1]\n",
      "[array([0, 1]), array([0, 1]), array([0, 1]), array([0, 1])]\n"
     ]
    },
    {
     "data": {
      "text/plain": [
       "(array([0.58639556, 0.82967967, 0.20047839, 0.61436   , 0.82044476,\n",
       "        0.69936574, 0.6975606 , 0.04583522], dtype=float32),\n",
       " array([0, 1, 0, 1, 0, 1, 0, 1], dtype=uint32),\n",
       " array([2, 2, 2, 2], dtype=uint32),\n",
       " 2)"
      ]
     },
     "execution_count": 291,
     "metadata": {},
     "output_type": "execute_result"
    }
   ],
   "source": [
    "bdata, bcols, bnnz, ellwb = to_data(b)\n",
    "bdata, bcols, bnnz, ellwb"
   ]
  },
  {
   "cell_type": "code",
   "execution_count": 292,
   "id": "bb9db68d",
   "metadata": {},
   "outputs": [
    {
     "name": "stdout",
     "output_type": "stream",
     "text": [
      "[0 1 2 3]\n",
      "[0 1 2 3]\n",
      "[array([0, 1, 2, 3]), array([0, 1, 2, 3])]\n"
     ]
    },
    {
     "data": {
      "text/plain": [
       "(array([0.52928597, 0.7996025 , 0.4790577 , 0.5239388 , 0.59725916,\n",
       "        0.71912235, 0.38513368, 0.8315121 ], dtype=float32),\n",
       " array([0, 1, 2, 3, 0, 1, 2, 3], dtype=uint32),\n",
       " array([4, 4], dtype=uint32),\n",
       " 4)"
      ]
     },
     "execution_count": 292,
     "metadata": {},
     "output_type": "execute_result"
    }
   ],
   "source": [
    "bdatat, bcolst, bnnzt, ellwbt = to_data(b.T)\n",
    "adatat, bcolst, bnnzt, ellwbt"
   ]
  },
  {
   "cell_type": "code",
   "execution_count": 16,
   "id": "a21f8921",
   "metadata": {},
   "outputs": [],
   "source": [
    "adense = to_dense(adata, acols, annz, ellwa, a.shape)"
   ]
  },
  {
   "cell_type": "code",
   "execution_count": 17,
   "id": "afddd45e",
   "metadata": {},
   "outputs": [],
   "source": [
    "adenset = to_dense(adatat, acolst, annzt, ellwat, a.T.shape)"
   ]
  },
  {
   "cell_type": "code",
   "execution_count": 293,
   "id": "0bc9e6c0",
   "metadata": {},
   "outputs": [],
   "source": [
    "bdense = to_dense(bdata, bcols, bnnz, ellwb, b.shape)"
   ]
  },
  {
   "cell_type": "code",
   "execution_count": 294,
   "id": "1d19f317",
   "metadata": {},
   "outputs": [],
   "source": [
    "bdenset = to_dense(bdatat, bcolst, bnnzt, ellwbt, b.T.shape)"
   ]
  },
  {
   "cell_type": "code",
   "execution_count": 18,
   "id": "1c04d184",
   "metadata": {},
   "outputs": [
    {
     "data": {
      "text/plain": [
       "array([[0.52928597, 0.4790577 , 0.59725916, 0.38513368],\n",
       "       [0.79960251, 0.52393878, 0.71912235, 0.83151209]])"
      ]
     },
     "execution_count": 18,
     "metadata": {},
     "output_type": "execute_result"
    }
   ],
   "source": [
    "adense"
   ]
  },
  {
   "cell_type": "code",
   "execution_count": 19,
   "id": "cae2f665",
   "metadata": {},
   "outputs": [
    {
     "data": {
      "text/plain": [
       "array([[ True,  True,  True,  True],\n",
       "       [ True,  True,  True,  True]])"
      ]
     },
     "execution_count": 19,
     "metadata": {},
     "output_type": "execute_result"
    }
   ],
   "source": [
    "adenset.T == adense"
   ]
  },
  {
   "cell_type": "code",
   "execution_count": 295,
   "id": "66f51a19",
   "metadata": {},
   "outputs": [
    {
     "data": {
      "text/plain": [
       "array([[ True,  True],\n",
       "       [ True,  True],\n",
       "       [ True,  True],\n",
       "       [ True,  True]])"
      ]
     },
     "execution_count": 295,
     "metadata": {},
     "output_type": "execute_result"
    }
   ],
   "source": [
    "bdenset.T == bdense"
   ]
  },
  {
   "cell_type": "code",
   "execution_count": 20,
   "id": "570652a8",
   "metadata": {},
   "outputs": [
    {
     "data": {
      "text/plain": [
       "array([[0.52928597, 0.4790577 , 0.59725916, 0.38513368],\n",
       "       [0.7996025 , 0.5239388 , 0.71912235, 0.8315121 ]], dtype=float32)"
      ]
     },
     "execution_count": 20,
     "metadata": {},
     "output_type": "execute_result"
    }
   ],
   "source": [
    "a"
   ]
  },
  {
   "cell_type": "code",
   "execution_count": 21,
   "id": "b3828f92",
   "metadata": {},
   "outputs": [
    {
     "data": {
      "text/plain": [
       "array([[ True,  True,  True,  True],\n",
       "       [ True,  True,  True,  True]])"
      ]
     },
     "execution_count": 21,
     "metadata": {},
     "output_type": "execute_result"
    }
   ],
   "source": [
    "a == adense"
   ]
  },
  {
   "cell_type": "code",
   "execution_count": 22,
   "id": "d8e29e3c",
   "metadata": {},
   "outputs": [
    {
     "data": {
      "text/plain": [
       "(2, 4)"
      ]
     },
     "execution_count": 22,
     "metadata": {},
     "output_type": "execute_result"
    }
   ],
   "source": [
    "a.shape"
   ]
  },
  {
   "cell_type": "code",
   "execution_count": 23,
   "id": "233fb7fe",
   "metadata": {},
   "outputs": [
    {
     "data": {
      "text/plain": [
       "((8,), (8,), (2,), 4)"
      ]
     },
     "execution_count": 23,
     "metadata": {},
     "output_type": "execute_result"
    }
   ],
   "source": [
    "adata.shape, acols.shape, annz.shape, ellwa"
   ]
  },
  {
   "cell_type": "code",
   "execution_count": 24,
   "id": "fbb29574",
   "metadata": {},
   "outputs": [],
   "source": [
    "#acols = acols.astype(np.uint32)\n",
    "#annz = annz.astype(np.uint32)"
   ]
  },
  {
   "cell_type": "code",
   "execution_count": 25,
   "id": "008c1a26",
   "metadata": {},
   "outputs": [
    {
     "data": {
      "text/plain": [
       "(array([0.52928597, 0.4790577 , 0.59725916, 0.38513368, 0.7996025 ,\n",
       "        0.5239388 , 0.71912235, 0.8315121 ], dtype=float32),\n",
       " array([0, 1, 2, 3, 0, 1, 2, 3], dtype=uint32),\n",
       " array([4, 4], dtype=uint32),\n",
       " array([[0.58639556, 0.82967967],\n",
       "        [0.20047839, 0.61436   ],\n",
       "        [0.82044476, 0.69936574],\n",
       "        [0.6975606 , 0.04583522]], dtype=float32))"
      ]
     },
     "execution_count": 25,
     "metadata": {},
     "output_type": "execute_result"
    }
   ],
   "source": [
    "adata, acols, annz, b"
   ]
  },
  {
   "cell_type": "markdown",
   "id": "79ee24ca",
   "metadata": {},
   "source": [
    "## MatMul"
   ]
  },
  {
   "cell_type": "code",
   "execution_count": 1687,
   "id": "6e741bf7",
   "metadata": {},
   "outputs": [
    {
     "name": "stdout",
     "output_type": "stream",
     "text": [
      "DEVICE:GPU\n"
     ]
    }
   ],
   "source": [
    "adata_buf = cl.Buffer(ctx, mf.READ_WRITE | mf.COPY_HOST_PTR, hostbuf=adata)\n",
    "acols_buf = cl.Buffer(ctx, mf.READ_WRITE | mf.COPY_HOST_PTR, hostbuf=acols)\n",
    "annzs_buf = cl.Buffer(ctx, mf.READ_WRITE | mf.COPY_HOST_PTR, hostbuf=annz)\n",
    "adatat_buf = cl.Buffer(ctx, mf.READ_WRITE | mf.COPY_HOST_PTR, hostbuf=adatat)\n",
    "acolst_buf = cl.Buffer(ctx, mf.READ_WRITE | mf.COPY_HOST_PTR, hostbuf=acolst)\n",
    "annzst_buf = cl.Buffer(ctx, mf.READ_WRITE | mf.COPY_HOST_PTR, hostbuf=annzt)\n",
    "b_buf = cl.Buffer(ctx, mf.READ_WRITE | mf.COPY_HOST_PTR, hostbuf=b)\n",
    "\n",
    "prg = cl.Program(ctx, \"\"\"\n",
    "    // Every global_id_0 works on a row\n",
    "    __kernel void matmul(__global  float* matData,     // INPUT MATRIX DATA\n",
    "                            __global  uint*  colIdx,\n",
    "                            __global  uint*  rowNnz,\n",
    "                            uint   ellwidth,\n",
    "                            __global  float* vector_x,    // INPUT\n",
    "                            __global  float* vector_y    // OUTPUT\n",
    "                            ) { // LOCAL SHARED BUFFER\n",
    "      uint gid = get_global_id(0);\n",
    "      uint nrows = get_global_size(0);\n",
    "      uint gid2 = get_global_id(1);\n",
    "      uint ncols = get_global_size(1);\n",
    "\n",
    "      uint nnz    = rowNnz[gid];\n",
    "      float sum = 0;\n",
    "      for (uint i = 0; i < nnz; i++) {\n",
    "        uint index   = (gid * ellwidth) + i;\n",
    "        uint col     = colIdx[index];\n",
    "        float aval  = matData[index];\n",
    "        float xval  = vector_x[col*ncols+gid2];\n",
    "        //if (gid==0 && gid2==2)\n",
    "        //  printf(\"aval, xval: %.2f,%.2f: (%i,%i) \\\\n\", aval, xval, col, index);\n",
    "        sum  += aval * xval;\n",
    "      }\n",
    "      //printf(\"SUM/NNZ: %.2f %i \\\\n\", sum, nnz);\n",
    "      vector_y[gid*ncols+gid2] = sum;\n",
    "    }\"\"\").build()"
   ]
  },
  {
   "cell_type": "code",
   "execution_count": 1688,
   "id": "b4c85bcb",
   "metadata": {},
   "outputs": [
    {
     "data": {
      "text/plain": [
       "((2, 4), (4, 2))"
      ]
     },
     "execution_count": 1688,
     "metadata": {},
     "output_type": "execute_result"
    }
   ],
   "source": [
    "a.shape, b.shape"
   ]
  },
  {
   "cell_type": "code",
   "execution_count": 1689,
   "id": "c740a4fe",
   "metadata": {},
   "outputs": [],
   "source": [
    "res = np.zeros(a.shape[0]).astype(np.float32)\n",
    "#res"
   ]
  },
  {
   "cell_type": "code",
   "execution_count": 1690,
   "id": "07aa4d30",
   "metadata": {},
   "outputs": [],
   "source": [
    "rows = a.shape[0]"
   ]
  },
  {
   "cell_type": "code",
   "execution_count": 1691,
   "id": "98da857f",
   "metadata": {},
   "outputs": [],
   "source": [
    "mult = mult.astype(np.float32)"
   ]
  },
  {
   "cell_type": "code",
   "execution_count": 1692,
   "id": "350bdb16",
   "metadata": {},
   "outputs": [
    {
     "data": {
      "text/plain": [
       "(2, 2)"
      ]
     },
     "execution_count": 1692,
     "metadata": {},
     "output_type": "execute_result"
    }
   ],
   "source": [
    "outshape = (a.shape[0], b.shape[1])\n",
    "outshape"
   ]
  },
  {
   "cell_type": "code",
   "execution_count": 1693,
   "id": "cc7365fc",
   "metadata": {},
   "outputs": [
    {
     "data": {
      "text/plain": [
       "<pyopencl._cl.NannyEvent at 0x7ff8400630e0>"
      ]
     },
     "execution_count": 1693,
     "metadata": {},
     "output_type": "execute_result"
    }
   ],
   "source": [
    "res_buf = cl.Buffer(ctx, mf.READ_WRITE, np.prod(outshape)*4)\n",
    "knl = prg.matmul  # Use this Kernel object for repeated calls\n",
    "knl(queue, outshape, None, adata_buf, acols_buf, annzs_buf, np.uint32(ellwa), b_buf, res_buf)\n",
    "\n",
    "res_np = np.zeros(outshape).astype(np.float32)\n",
    "cl.enqueue_copy(queue, res_np, res_buf)"
   ]
  },
  {
   "cell_type": "code",
   "execution_count": 1694,
   "id": "101dd891",
   "metadata": {},
   "outputs": [
    {
     "data": {
      "text/plain": [
       "0.0"
      ]
     },
     "execution_count": 1694,
     "metadata": {},
     "output_type": "execute_result"
    }
   ],
   "source": [
    "(res_np-mult).sum()"
   ]
  },
  {
   "cell_type": "code",
   "execution_count": 1695,
   "id": "e6523cf2",
   "metadata": {},
   "outputs": [
    {
     "data": {
      "text/plain": [
       "array([[0.52928597, 0.4790577 , 0.59725916, 0.38513368],\n",
       "       [0.7996025 , 0.5239388 , 0.71912235, 0.8315121 ]], dtype=float32)"
      ]
     },
     "execution_count": 1695,
     "metadata": {},
     "output_type": "execute_result"
    }
   ],
   "source": [
    "a"
   ]
  },
  {
   "cell_type": "code",
   "execution_count": 1696,
   "id": "7353c348",
   "metadata": {},
   "outputs": [
    {
     "data": {
      "text/plain": [
       "array([[0.58639556, 0.82967967],\n",
       "       [0.20047839, 0.61436   ],\n",
       "       [0.82044476, 0.69936574],\n",
       "       [0.6975606 , 0.04583522]], dtype=float32)"
      ]
     },
     "execution_count": 1696,
     "metadata": {},
     "output_type": "execute_result"
    }
   ],
   "source": [
    "b"
   ]
  },
  {
   "cell_type": "code",
   "execution_count": 1697,
   "id": "33d8a584",
   "metadata": {},
   "outputs": [
    {
     "data": {
      "text/plain": [
       "<pyopencl._cl.Buffer at 0x7ff804606d10>"
      ]
     },
     "execution_count": 1697,
     "metadata": {},
     "output_type": "execute_result"
    }
   ],
   "source": [
    "res_buf"
   ]
  },
  {
   "cell_type": "code",
   "execution_count": 1698,
   "id": "99faec15",
   "metadata": {},
   "outputs": [
    {
     "data": {
      "text/plain": [
       "array([[1.1650839, 1.1688069],\n",
       "       [1.743952 , 1.526343 ]], dtype=float32)"
      ]
     },
     "execution_count": 1698,
     "metadata": {},
     "output_type": "execute_result"
    }
   ],
   "source": [
    "res_np"
   ]
  },
  {
   "cell_type": "code",
   "execution_count": 1699,
   "id": "4da1c066",
   "metadata": {},
   "outputs": [
    {
     "data": {
      "text/plain": [
       "array([[1.1650839, 1.1688069],\n",
       "       [1.743952 , 1.526343 ]], dtype=float32)"
      ]
     },
     "execution_count": 1699,
     "metadata": {},
     "output_type": "execute_result"
    }
   ],
   "source": [
    "mult"
   ]
  },
  {
   "cell_type": "code",
   "execution_count": 1700,
   "id": "0ca8d088",
   "metadata": {},
   "outputs": [
    {
     "data": {
      "text/plain": [
       "array([[ True,  True],\n",
       "       [ True,  True]])"
      ]
     },
     "execution_count": 1700,
     "metadata": {},
     "output_type": "execute_result"
    }
   ],
   "source": [
    "res_np==mult"
   ]
  },
  {
   "cell_type": "code",
   "execution_count": 1701,
   "id": "c197fea2",
   "metadata": {},
   "outputs": [
    {
     "data": {
      "text/plain": [
       "(2, 2)"
      ]
     },
     "execution_count": 1701,
     "metadata": {},
     "output_type": "execute_result"
    }
   ],
   "source": [
    "res_np.shape"
   ]
  },
  {
   "cell_type": "code",
   "execution_count": 1702,
   "id": "b20b9da3",
   "metadata": {},
   "outputs": [
    {
     "data": {
      "text/plain": [
       "(2, 2)"
      ]
     },
     "execution_count": 1702,
     "metadata": {},
     "output_type": "execute_result"
    }
   ],
   "source": [
    "mult.shape"
   ]
  },
  {
   "cell_type": "markdown",
   "id": "4c39ac18",
   "metadata": {},
   "source": [
    "## MatMul (dense * sparse)"
   ]
  },
  {
   "cell_type": "code",
   "execution_count": 1664,
   "id": "b936cbe5",
   "metadata": {},
   "outputs": [],
   "source": [
    "bdata_buf = cl.Buffer(ctx, mf.READ_WRITE | mf.COPY_HOST_PTR, hostbuf=bdata)\n",
    "bcols_buf = cl.Buffer(ctx, mf.READ_WRITE | mf.COPY_HOST_PTR, hostbuf=bcols)\n",
    "bnnzs_buf = cl.Buffer(ctx, mf.READ_WRITE | mf.COPY_HOST_PTR, hostbuf=bnnz)\n",
    "bdatat_buf = cl.Buffer(ctx, mf.READ_WRITE | mf.COPY_HOST_PTR, hostbuf=bdatat)\n",
    "bcolst_buf = cl.Buffer(ctx, mf.READ_WRITE | mf.COPY_HOST_PTR, hostbuf=bcolst)\n",
    "bnnzst_buf = cl.Buffer(ctx, mf.READ_WRITE | mf.COPY_HOST_PTR, hostbuf=bnnzt)\n",
    "a_buf = cl.Buffer(ctx, mf.READ_WRITE | mf.COPY_HOST_PTR, hostbuf=a)\n",
    "\n",
    "prg = cl.Program(ctx, \"\"\"\n",
    "    // Every global_id_0 works on a row\n",
    "    __kernel void matmul(__global  float* matData,     // INPUT MATRIX DATA\n",
    "                            __global  uint*  colIdx,\n",
    "                            __global  uint*  rowNnz,\n",
    "                            uint   mwidth,\n",
    "                            uint   ellwidth,\n",
    "                            __global  float* vector_x,    // INPUT\n",
    "                            __global  float* vector_y    // OUTPUT\n",
    "                            ) { // LOCAL SHARED BUFFER\n",
    "      uint gid = get_global_id(0);\n",
    "      uint nrows = get_global_size(0);\n",
    "      uint gid2 = get_global_id(1);\n",
    "      uint ncols = get_global_size(1);\n",
    "\n",
    "      uint nnz    = rowNnz[gid];\n",
    "      float sum = 0;\n",
    "      for (uint i = 0; i < nnz; i++) {\n",
    "        uint index   = (gid * ellwidth) + i;\n",
    "        uint col     = colIdx[index];\n",
    "        float aval  = matData[index];\n",
    "        float xval  = vector_x[gid2*mwidth+col];\n",
    "        sum  += aval * xval;\n",
    "        if (gid==1 && gid2==0)\n",
    "          printf(\"aval, xval: %.2f,%.2f - %.2f: (%i,%i) \\\\n\", aval, xval, sum, col, index);\n",
    "      }\n",
    "      //printf(\"SUM/NNZ: %.2f %i \\\\n\", sum, nnz);\n",
    "      vector_y[gid2*ncols+gid] = sum;\n",
    "    }\"\"\").build()"
   ]
  },
  {
   "cell_type": "code",
   "execution_count": 1665,
   "id": "03f4af21",
   "metadata": {},
   "outputs": [
    {
     "data": {
      "text/plain": [
       "((2, 4), (4, 2))"
      ]
     },
     "execution_count": 1665,
     "metadata": {},
     "output_type": "execute_result"
    }
   ],
   "source": [
    "a.shape, b.shape"
   ]
  },
  {
   "cell_type": "code",
   "execution_count": 1666,
   "id": "79cb125f",
   "metadata": {},
   "outputs": [],
   "source": [
    "res = np.zeros(a.shape[0]).astype(np.float32)\n",
    "#res"
   ]
  },
  {
   "cell_type": "code",
   "execution_count": 1667,
   "id": "c48869aa",
   "metadata": {},
   "outputs": [],
   "source": [
    "rows = a.shape[0]"
   ]
  },
  {
   "cell_type": "code",
   "execution_count": 1668,
   "id": "52170c5b",
   "metadata": {},
   "outputs": [],
   "source": [
    "mult = mult.astype(np.float32)"
   ]
  },
  {
   "cell_type": "code",
   "execution_count": 1669,
   "id": "68248af9",
   "metadata": {},
   "outputs": [
    {
     "data": {
      "text/plain": [
       "(2, 2)"
      ]
     },
     "execution_count": 1669,
     "metadata": {},
     "output_type": "execute_result"
    }
   ],
   "source": [
    "outshape = (a.shape[0], b.shape[1])\n",
    "outshape"
   ]
  },
  {
   "cell_type": "code",
   "execution_count": 1670,
   "id": "2acb9769",
   "metadata": {},
   "outputs": [
    {
     "data": {
      "text/plain": [
       "array([[0.58639556, 0.20047839, 0.82044476, 0.6975606 ],\n",
       "       [0.82967967, 0.61436   , 0.69936574, 0.04583522]], dtype=float32)"
      ]
     },
     "execution_count": 1670,
     "metadata": {},
     "output_type": "execute_result"
    }
   ],
   "source": [
    "b.T"
   ]
  },
  {
   "cell_type": "code",
   "execution_count": 1671,
   "id": "420abc4d",
   "metadata": {},
   "outputs": [
    {
     "data": {
      "text/plain": [
       "array([[0.52928597, 0.7996025 ],\n",
       "       [0.4790577 , 0.5239388 ],\n",
       "       [0.59725916, 0.71912235],\n",
       "       [0.38513368, 0.8315121 ]], dtype=float32)"
      ]
     },
     "execution_count": 1671,
     "metadata": {},
     "output_type": "execute_result"
    }
   ],
   "source": [
    "a.T"
   ]
  },
  {
   "cell_type": "code",
   "execution_count": 1672,
   "id": "1c2228b5",
   "metadata": {},
   "outputs": [
    {
     "name": "stdout",
     "output_type": "stream",
     "text": [
      "aval, xval: 0.83,0.53 - 0.44: (0,4) \n",
      "aval, xval: 0.61,0.48 - 0.73: (1,5) \n",
      "aval, xval: 0.70,0.60 - 1.15: (2,6) \n",
      "aval, xval: 0.05,0.39 - 1.17: (3,7) \n"
     ]
    },
    {
     "data": {
      "text/plain": [
       "<pyopencl._cl.NannyEvent at 0x7ff8046bcbd0>"
      ]
     },
     "execution_count": 1672,
     "metadata": {},
     "output_type": "execute_result"
    }
   ],
   "source": [
    "res_buf = cl.Buffer(ctx, mf.READ_WRITE, np.prod(outshape)*4)\n",
    "knl = prg.matmul  # Use this Kernel object for repeated calls\n",
    "knl(queue, outshape, None, bdatat_buf, bcolst_buf, bnnzst_buf, np.uint32(a.shape[1]), np.uint32(ellwbt), a_buf, res_buf)\n",
    "\n",
    "res_np = np.zeros(outshape).astype(np.float32)\n",
    "cl.enqueue_copy(queue, res_np, res_buf)"
   ]
  },
  {
   "cell_type": "code",
   "execution_count": 1673,
   "id": "0d01101e",
   "metadata": {},
   "outputs": [
    {
     "data": {
      "text/plain": [
       "0.0"
      ]
     },
     "execution_count": 1673,
     "metadata": {},
     "output_type": "execute_result"
    }
   ],
   "source": [
    "(res_np-mult).sum()"
   ]
  },
  {
   "cell_type": "code",
   "execution_count": 1674,
   "id": "14ed448b",
   "metadata": {},
   "outputs": [
    {
     "data": {
      "text/plain": [
       "array([[0.52928597, 0.4790577 , 0.59725916, 0.38513368],\n",
       "       [0.7996025 , 0.5239388 , 0.71912235, 0.8315121 ]], dtype=float32)"
      ]
     },
     "execution_count": 1674,
     "metadata": {},
     "output_type": "execute_result"
    }
   ],
   "source": [
    "a"
   ]
  },
  {
   "cell_type": "code",
   "execution_count": 1675,
   "id": "878eb12e",
   "metadata": {},
   "outputs": [
    {
     "data": {
      "text/plain": [
       "array([[0.58639556, 0.82967967],\n",
       "       [0.20047839, 0.61436   ],\n",
       "       [0.82044476, 0.69936574],\n",
       "       [0.6975606 , 0.04583522]], dtype=float32)"
      ]
     },
     "execution_count": 1675,
     "metadata": {},
     "output_type": "execute_result"
    }
   ],
   "source": [
    "b"
   ]
  },
  {
   "cell_type": "code",
   "execution_count": 1676,
   "id": "47fa8bf0",
   "metadata": {},
   "outputs": [
    {
     "data": {
      "text/plain": [
       "<pyopencl._cl.Buffer at 0x7ff804656e50>"
      ]
     },
     "execution_count": 1676,
     "metadata": {},
     "output_type": "execute_result"
    }
   ],
   "source": [
    "res_buf"
   ]
  },
  {
   "cell_type": "code",
   "execution_count": 1682,
   "id": "1cccf1f8",
   "metadata": {},
   "outputs": [
    {
     "data": {
      "text/plain": [
       "array([[1.1650839, 1.1688069],\n",
       "       [1.743952 , 1.526343 ]], dtype=float32)"
      ]
     },
     "execution_count": 1682,
     "metadata": {},
     "output_type": "execute_result"
    }
   ],
   "source": [
    "res_np"
   ]
  },
  {
   "cell_type": "code",
   "execution_count": 1683,
   "id": "f084a19e",
   "metadata": {},
   "outputs": [
    {
     "data": {
      "text/plain": [
       "array([[1.1650839, 1.1688069],\n",
       "       [1.743952 , 1.526343 ]], dtype=float32)"
      ]
     },
     "execution_count": 1683,
     "metadata": {},
     "output_type": "execute_result"
    }
   ],
   "source": [
    "mult"
   ]
  },
  {
   "cell_type": "code",
   "execution_count": 1684,
   "id": "b6672cf0",
   "metadata": {},
   "outputs": [
    {
     "data": {
      "text/plain": [
       "array([[ True,  True],\n",
       "       [ True,  True]])"
      ]
     },
     "execution_count": 1684,
     "metadata": {},
     "output_type": "execute_result"
    }
   ],
   "source": [
    "res_np==mult"
   ]
  },
  {
   "cell_type": "code",
   "execution_count": 1685,
   "id": "b095d5cc",
   "metadata": {},
   "outputs": [
    {
     "data": {
      "text/plain": [
       "(2, 2)"
      ]
     },
     "execution_count": 1685,
     "metadata": {},
     "output_type": "execute_result"
    }
   ],
   "source": [
    "res_np.shape"
   ]
  },
  {
   "cell_type": "code",
   "execution_count": 1686,
   "id": "84ad94ff",
   "metadata": {},
   "outputs": [
    {
     "data": {
      "text/plain": [
       "(2, 2)"
      ]
     },
     "execution_count": 1686,
     "metadata": {},
     "output_type": "execute_result"
    }
   ],
   "source": [
    "mult.shape"
   ]
  },
  {
   "cell_type": "markdown",
   "id": "e4b4b53f",
   "metadata": {},
   "source": [
    "### Matmul-T"
   ]
  },
  {
   "cell_type": "code",
   "execution_count": 42,
   "id": "228495df",
   "metadata": {},
   "outputs": [],
   "source": [
    "res = np.zeros(a.T.shape[0]).astype(np.float32)\n",
    "#res"
   ]
  },
  {
   "cell_type": "code",
   "execution_count": 43,
   "id": "6874bcb8",
   "metadata": {},
   "outputs": [],
   "source": [
    "rows = a.T.shape[0]"
   ]
  },
  {
   "cell_type": "code",
   "execution_count": 44,
   "id": "d9c51781",
   "metadata": {},
   "outputs": [
    {
     "data": {
      "text/plain": [
       "<pyopencl._cl.NannyEvent at 0x7ff8400e2630>"
      ]
     },
     "execution_count": 44,
     "metadata": {},
     "output_type": "execute_result"
    }
   ],
   "source": [
    "res_buf = cl.Buffer(ctx, mf.WRITE_ONLY, b.nbytes)\n",
    "knl = prg.matmul  # Use this Kernel object for repeated calls\n",
    "knl(queue, [rows,bs], None, adatat_buf, acolst_buf, annzst_buf, np.uint32(ellwat), b_buf, res_buf)\n",
    "\n",
    "res_np = np.empty_like(b)\n",
    "cl.enqueue_copy(queue, res_np, res_buf)"
   ]
  },
  {
   "cell_type": "code",
   "execution_count": 45,
   "id": "916d6012",
   "metadata": {},
   "outputs": [
    {
     "data": {
      "text/plain": [
       "<pyopencl._cl.Buffer at 0x7ff8400dc6d0>"
      ]
     },
     "execution_count": 45,
     "metadata": {},
     "output_type": "execute_result"
    }
   ],
   "source": [
    "res_buf"
   ]
  },
  {
   "cell_type": "code",
   "execution_count": 46,
   "id": "8f799e88",
   "metadata": {},
   "outputs": [
    {
     "data": {
      "text/plain": [
       "array([[0.47067398, 0.9303816 ],\n",
       "       [0.38595572, 0.7193514 ],\n",
       "       [0.49439862, 0.93733376],\n",
       "       [0.3925409 , 0.8303853 ]], dtype=float32)"
      ]
     },
     "execution_count": 46,
     "metadata": {},
     "output_type": "execute_result"
    }
   ],
   "source": [
    "res_np"
   ]
  },
  {
   "cell_type": "code",
   "execution_count": 47,
   "id": "da5c33d4",
   "metadata": {},
   "outputs": [
    {
     "name": "stderr",
     "output_type": "stream",
     "text": [
      "/tmp/ipykernel_27113/288550039.py:1: DeprecationWarning: elementwise comparison failed; this will raise an error in the future.\n",
      "  res_np==mult\n"
     ]
    },
    {
     "data": {
      "text/plain": [
       "False"
      ]
     },
     "execution_count": 47,
     "metadata": {},
     "output_type": "execute_result"
    }
   ],
   "source": [
    "res_np==mult"
   ]
  },
  {
   "cell_type": "code",
   "execution_count": 48,
   "id": "f8ca9539",
   "metadata": {},
   "outputs": [
    {
     "data": {
      "text/plain": [
       "(4, 2)"
      ]
     },
     "execution_count": 48,
     "metadata": {},
     "output_type": "execute_result"
    }
   ],
   "source": [
    "res_np.shape"
   ]
  },
  {
   "cell_type": "code",
   "execution_count": 49,
   "id": "58b75d98",
   "metadata": {},
   "outputs": [
    {
     "data": {
      "text/plain": [
       "(2, 2)"
      ]
     },
     "execution_count": 49,
     "metadata": {},
     "output_type": "execute_result"
    }
   ],
   "source": [
    "mult.shape"
   ]
  },
  {
   "cell_type": "code",
   "execution_count": 50,
   "id": "b4ae78a6",
   "metadata": {},
   "outputs": [
    {
     "ename": "ValueError",
     "evalue": "operands could not be broadcast together with shapes (4,2) (2,2) ",
     "output_type": "error",
     "traceback": [
      "\u001b[0;31m---------------------------------------------------------------------------\u001b[0m",
      "\u001b[0;31mValueError\u001b[0m                                Traceback (most recent call last)",
      "\u001b[0;32m/tmp/ipykernel_27113/862617426.py\u001b[0m in \u001b[0;36m<module>\u001b[0;34m\u001b[0m\n\u001b[0;32m----> 1\u001b[0;31m \u001b[0;34m(\u001b[0m\u001b[0mres_np\u001b[0m\u001b[0;34m-\u001b[0m\u001b[0mmult\u001b[0m\u001b[0;34m)\u001b[0m\u001b[0;34m.\u001b[0m\u001b[0msum\u001b[0m\u001b[0;34m(\u001b[0m\u001b[0;34m)\u001b[0m\u001b[0;34m\u001b[0m\u001b[0;34m\u001b[0m\u001b[0m\n\u001b[0m",
      "\u001b[0;31mValueError\u001b[0m: operands could not be broadcast together with shapes (4,2) (2,2) "
     ]
    }
   ],
   "source": [
    "(res_np-mult).sum()"
   ]
  },
  {
   "cell_type": "markdown",
   "id": "740ba01c",
   "metadata": {},
   "source": [
    "# Matmult Dense Transposed"
   ]
  },
  {
   "cell_type": "code",
   "execution_count": 257,
   "id": "ca967ffe",
   "metadata": {},
   "outputs": [],
   "source": [
    "b_buf2 = cl.Buffer(ctx, mf.READ_WRITE | mf.COPY_HOST_PTR, hostbuf=b.T)\n",
    "a_buf = cl.Buffer(ctx, mf.READ_WRITE | mf.COPY_HOST_PTR, hostbuf=a)\n",
    "\n",
    "prg = cl.Program(ctx, \"\"\"\n",
    "    // multilplies x by y WITH Y TRANSPOSED INDEXING\n",
    "    __kernel void matmul0(__global  float* x,     // INPUT MATRIX DATA\n",
    "                          __global  float* y,    // INPUT\n",
    "                          __global  float* res,    // INPUT\n",
    "                          uint msize\n",
    "                          ) { // LOCAL SHARED BUFFER\n",
    "      uint isize = get_global_size(0);\n",
    "      uint osize = get_global_size(1);\n",
    "      int gidx = get_global_id(0); // col\n",
    "      int gidy = get_global_id(1); // row\n",
    "\n",
    "      float ret = 0.0;\n",
    "      for (int i = 0; i < msize; i++) {\n",
    "        ret += x[gidx*msize+i]*y[osize*gidy+i];\n",
    "        //if (gidx==0 && gidy==0)\n",
    "        //  printf(\"\\\\nmult: %.2f x %.2f - %.2f\", x[gidx*msize+i],y[i*msize+gidy], ret);\n",
    "      }\n",
    "\n",
    "      //if (gidx==0&&gidy==0)\n",
    "      //  printf(\"\\\\nsum:%.2f\", ret);\n",
    "      res[gidy * osize + gidx] = ret;\n",
    "    }\"\"\").build()"
   ]
  },
  {
   "cell_type": "code",
   "execution_count": 258,
   "id": "a43dbb5d",
   "metadata": {},
   "outputs": [
    {
     "data": {
      "text/plain": [
       "((2, 4), (4, 2))"
      ]
     },
     "execution_count": 258,
     "metadata": {},
     "output_type": "execute_result"
    }
   ],
   "source": [
    "a.shape, b.shape"
   ]
  },
  {
   "cell_type": "code",
   "execution_count": 259,
   "id": "e4bd1f10",
   "metadata": {},
   "outputs": [],
   "source": [
    "res = np.zeros(a.shape[0]).astype(np.float32)\n",
    "#res"
   ]
  },
  {
   "cell_type": "code",
   "execution_count": 260,
   "id": "fde0973e",
   "metadata": {},
   "outputs": [],
   "source": [
    "rows = a.shape[0]"
   ]
  },
  {
   "cell_type": "code",
   "execution_count": 261,
   "id": "56c661f2",
   "metadata": {},
   "outputs": [],
   "source": [
    "mult = mult.astype(np.float32)"
   ]
  },
  {
   "cell_type": "code",
   "execution_count": 262,
   "id": "10b1d468",
   "metadata": {},
   "outputs": [
    {
     "data": {
      "text/plain": [
       "<pyopencl._cl.NannyEvent at 0x7ff8400c7e00>"
      ]
     },
     "execution_count": 262,
     "metadata": {},
     "output_type": "execute_result"
    }
   ],
   "source": [
    "res_buf = cl.Buffer(ctx, mf.READ_WRITE, np.prod([rows,b.shape[1]])*4)\n",
    "knl = prg.matmul0  # Use this Kernel object for repeated calls\n",
    "knl(queue, [rows,b.shape[1]], None, a_buf, b_buf2, res_buf, np.uint32(a.shape[1]))\n",
    "\n",
    "res_np = np.zeros([rows,b.shape[1]]).astype(np.float32)\n",
    "cl.enqueue_copy(queue, res_np, res_buf)"
   ]
  },
  {
   "cell_type": "code",
   "execution_count": 263,
   "id": "3c98e5e6",
   "metadata": {},
   "outputs": [
    {
     "data": {
      "text/plain": [
       "-0.16788816"
      ]
     },
     "execution_count": 263,
     "metadata": {},
     "output_type": "execute_result"
    }
   ],
   "source": [
    "(res_np-mult).sum()"
   ]
  },
  {
   "cell_type": "code",
   "execution_count": 264,
   "id": "be02b18f",
   "metadata": {},
   "outputs": [
    {
     "data": {
      "text/plain": [
       "array([[0.52928597, 0.4790577 , 0.59725916, 0.38513368],\n",
       "       [0.7996025 , 0.5239388 , 0.71912235, 0.8315121 ]], dtype=float32)"
      ]
     },
     "execution_count": 264,
     "metadata": {},
     "output_type": "execute_result"
    }
   ],
   "source": [
    "a"
   ]
  },
  {
   "cell_type": "code",
   "execution_count": 265,
   "id": "7a112967",
   "metadata": {},
   "outputs": [
    {
     "data": {
      "text/plain": [
       "array([[0.58639556, 0.20047839, 0.82044476, 0.6975606 ],\n",
       "       [0.82967967, 0.61436   , 0.69936574, 0.04583522]], dtype=float32)"
      ]
     },
     "execution_count": 265,
     "metadata": {},
     "output_type": "execute_result"
    }
   ],
   "source": [
    "b.T"
   ]
  },
  {
   "cell_type": "code",
   "execution_count": 266,
   "id": "04a428c7",
   "metadata": {},
   "outputs": [
    {
     "data": {
      "text/plain": [
       "array([0.52928597, 0.4790577 , 0.59725916, 0.38513368], dtype=float32)"
      ]
     },
     "execution_count": 266,
     "metadata": {},
     "output_type": "execute_result"
    }
   ],
   "source": [
    "a[0]"
   ]
  },
  {
   "cell_type": "code",
   "execution_count": 267,
   "id": "6d0fe5e0",
   "metadata": {},
   "outputs": [
    {
     "data": {
      "text/plain": [
       "array([0.58639556, 0.20047839, 0.82044476, 0.6975606 ], dtype=float32)"
      ]
     },
     "execution_count": 267,
     "metadata": {},
     "output_type": "execute_result"
    }
   ],
   "source": [
    "b.T[0]"
   ]
  },
  {
   "cell_type": "code",
   "execution_count": 268,
   "id": "ba507895",
   "metadata": {},
   "outputs": [
    {
     "data": {
      "text/plain": [
       "<pyopencl._cl.Buffer at 0x7ff8285bd540>"
      ]
     },
     "execution_count": 268,
     "metadata": {},
     "output_type": "execute_result"
    }
   ],
   "source": [
    "res_buf"
   ]
  },
  {
   "cell_type": "code",
   "execution_count": 269,
   "id": "0bdbf257",
   "metadata": {},
   "outputs": [
    {
     "data": {
      "text/plain": [
       "array([[1.0641837, 1.558601 ],\n",
       "       [1.1597917, 1.6537212]], dtype=float32)"
      ]
     },
     "execution_count": 269,
     "metadata": {},
     "output_type": "execute_result"
    }
   ],
   "source": [
    "res_np"
   ]
  },
  {
   "cell_type": "code",
   "execution_count": 270,
   "id": "4e43e4c3",
   "metadata": {},
   "outputs": [
    {
     "data": {
      "text/plain": [
       "array([[1.1650839, 1.1688069],\n",
       "       [1.743952 , 1.526343 ]], dtype=float32)"
      ]
     },
     "execution_count": 270,
     "metadata": {},
     "output_type": "execute_result"
    }
   ],
   "source": [
    "a.dot(b)"
   ]
  },
  {
   "cell_type": "code",
   "execution_count": 271,
   "id": "fbe02272",
   "metadata": {},
   "outputs": [
    {
     "data": {
      "text/plain": [
       "array([[False, False],\n",
       "       [False, False]])"
      ]
     },
     "execution_count": 271,
     "metadata": {},
     "output_type": "execute_result"
    }
   ],
   "source": [
    "res_np==mult"
   ]
  },
  {
   "cell_type": "code",
   "execution_count": 272,
   "id": "bb6187da",
   "metadata": {},
   "outputs": [
    {
     "data": {
      "text/plain": [
       "(2, 2)"
      ]
     },
     "execution_count": 272,
     "metadata": {},
     "output_type": "execute_result"
    }
   ],
   "source": [
    "res_np.shape"
   ]
  },
  {
   "cell_type": "code",
   "execution_count": 273,
   "id": "af9e3da1",
   "metadata": {},
   "outputs": [
    {
     "data": {
      "text/plain": [
       "(2, 2)"
      ]
     },
     "execution_count": 273,
     "metadata": {},
     "output_type": "execute_result"
    }
   ],
   "source": [
    "mult.shape"
   ]
  },
  {
   "cell_type": "markdown",
   "id": "c1916193",
   "metadata": {},
   "source": [
    "# Matmult Dense Transposed2"
   ]
  },
  {
   "cell_type": "code",
   "execution_count": 155,
   "id": "dac4405e",
   "metadata": {},
   "outputs": [],
   "source": [
    "b_buf2 = cl.Buffer(ctx, mf.READ_WRITE | mf.COPY_HOST_PTR, hostbuf=b.T)\n",
    "a_buf = cl.Buffer(ctx, mf.READ_WRITE | mf.COPY_HOST_PTR, hostbuf=a)\n",
    "\n",
    "prg = cl.Program(ctx, \"\"\"\n",
    "    // multilplies x by y WITH Y TRANSPOSED INDEXING\n",
    "    __kernel void matmul0(__global  float* x,     // INPUT MATRIX DATA\n",
    "                          __global  float* y,    // INPUT\n",
    "                          __global  float* res,    // INPUT\n",
    "                          uint msize,\n",
    "                          uint osize\n",
    "                          ) { // LOCAL SHARED BUFFER\n",
    "      uint isize = get_global_size(0);\n",
    "      // osize = get_global_size(1);\n",
    "      int gidx = get_global_id(0); // col\n",
    "      // int gidy = get_global_id(1); // row\n",
    "\n",
    "      for (uint gidy = 0; gidy < osize; gidy++) {\n",
    "        float ret = 0.0;\n",
    "        for (uint i = 0; i < msize; i++) {\n",
    "          ret += x[gidx*msize+i]*y[i*osize+gidy];\n",
    "          if (gidx==0 && gidy==0)\n",
    "            printf(\"\\\\nmult: %.2f x %.2f - %.2f\", x[gidx*msize+i],y[i*msize+gidy], ret);\n",
    "        }\n",
    "\n",
    "        //if (gidx==0&&gidy==0)\n",
    "        //  printf(\"\\\\nsum:%.2f\", ret);\n",
    "        res[gidx * osize + gidy] = ret;\n",
    "      }\n",
    "    }\"\"\").build()"
   ]
  },
  {
   "cell_type": "code",
   "execution_count": 156,
   "id": "8e2f6608",
   "metadata": {},
   "outputs": [
    {
     "data": {
      "text/plain": [
       "((2, 4), (4, 2))"
      ]
     },
     "execution_count": 156,
     "metadata": {},
     "output_type": "execute_result"
    }
   ],
   "source": [
    "a.shape, b.shape"
   ]
  },
  {
   "cell_type": "code",
   "execution_count": 157,
   "id": "03861763",
   "metadata": {},
   "outputs": [],
   "source": [
    "res = np.zeros(a.shape[0]).astype(np.float32)\n",
    "#res"
   ]
  },
  {
   "cell_type": "code",
   "execution_count": 158,
   "id": "c3f4faea",
   "metadata": {},
   "outputs": [],
   "source": [
    "rows = a.shape[0]"
   ]
  },
  {
   "cell_type": "code",
   "execution_count": 159,
   "id": "cd640219",
   "metadata": {},
   "outputs": [],
   "source": [
    "mult = mult.astype(np.float32)"
   ]
  },
  {
   "cell_type": "code",
   "execution_count": 160,
   "id": "c17bcf6b",
   "metadata": {},
   "outputs": [
    {
     "name": "stdout",
     "output_type": "stream",
     "text": [
      "\n",
      "mult: 0.53 x 0.59 - 0.31\n",
      "mult: 0.48 x 0.82 - 0.41\n",
      "mult: 0.60 x 0.00 - 0.90\n",
      "mult: 0.39 x 0.00 - 1.17"
     ]
    },
    {
     "data": {
      "text/plain": [
       "<pyopencl._cl.NannyEvent at 0x7ff8285bd770>"
      ]
     },
     "execution_count": 160,
     "metadata": {},
     "output_type": "execute_result"
    }
   ],
   "source": [
    "res_buf = cl.Buffer(ctx, mf.READ_WRITE, np.prod([rows,b.shape[1]])*4)\n",
    "knl = prg.matmul0  # Use this Kernel object for repeated calls\n",
    "knl(queue, [rows], None, a_buf, b_buf2, res_buf, np.uint32(a.shape[1]), np.uint32(b.shape[1]))\n",
    "\n",
    "res_np = np.zeros([rows,b.shape[1]]).astype(np.float32)\n",
    "cl.enqueue_copy(queue, res_np, res_buf)"
   ]
  },
  {
   "cell_type": "code",
   "execution_count": 161,
   "id": "d5278a40",
   "metadata": {},
   "outputs": [
    {
     "data": {
      "text/plain": [
       "0.0"
      ]
     },
     "execution_count": 161,
     "metadata": {},
     "output_type": "execute_result"
    }
   ],
   "source": [
    "(res_np-mult).sum()"
   ]
  },
  {
   "cell_type": "code",
   "execution_count": 162,
   "id": "ca9ab615",
   "metadata": {},
   "outputs": [
    {
     "data": {
      "text/plain": [
       "array([[0.52928597, 0.4790577 , 0.59725916, 0.38513368],\n",
       "       [0.7996025 , 0.5239388 , 0.71912235, 0.8315121 ]], dtype=float32)"
      ]
     },
     "execution_count": 162,
     "metadata": {},
     "output_type": "execute_result"
    }
   ],
   "source": [
    "a"
   ]
  },
  {
   "cell_type": "code",
   "execution_count": 163,
   "id": "dec8095d",
   "metadata": {},
   "outputs": [
    {
     "data": {
      "text/plain": [
       "array([[0.58639556, 0.20047839, 0.82044476, 0.6975606 ],\n",
       "       [0.82967967, 0.61436   , 0.69936574, 0.04583522]], dtype=float32)"
      ]
     },
     "execution_count": 163,
     "metadata": {},
     "output_type": "execute_result"
    }
   ],
   "source": [
    "b.T"
   ]
  },
  {
   "cell_type": "code",
   "execution_count": 164,
   "id": "ac4c1d1c",
   "metadata": {},
   "outputs": [
    {
     "data": {
      "text/plain": [
       "array([0.52928597, 0.4790577 , 0.59725916, 0.38513368], dtype=float32)"
      ]
     },
     "execution_count": 164,
     "metadata": {},
     "output_type": "execute_result"
    }
   ],
   "source": [
    "a[0]"
   ]
  },
  {
   "cell_type": "code",
   "execution_count": 165,
   "id": "32275020",
   "metadata": {},
   "outputs": [
    {
     "data": {
      "text/plain": [
       "array([0.58639556, 0.20047839, 0.82044476, 0.6975606 ], dtype=float32)"
      ]
     },
     "execution_count": 165,
     "metadata": {},
     "output_type": "execute_result"
    }
   ],
   "source": [
    "b.T[0]"
   ]
  },
  {
   "cell_type": "code",
   "execution_count": 166,
   "id": "a1f85ce9",
   "metadata": {},
   "outputs": [
    {
     "data": {
      "text/plain": [
       "<pyopencl._cl.Buffer at 0x7ff840063f90>"
      ]
     },
     "execution_count": 166,
     "metadata": {},
     "output_type": "execute_result"
    }
   ],
   "source": [
    "res_buf"
   ]
  },
  {
   "cell_type": "code",
   "execution_count": 167,
   "id": "8cf30a35",
   "metadata": {},
   "outputs": [
    {
     "data": {
      "text/plain": [
       "array([[1.1650839, 1.1688069],\n",
       "       [1.743952 , 1.526343 ]], dtype=float32)"
      ]
     },
     "execution_count": 167,
     "metadata": {},
     "output_type": "execute_result"
    }
   ],
   "source": [
    "res_np"
   ]
  },
  {
   "cell_type": "code",
   "execution_count": 168,
   "id": "42f5ff09",
   "metadata": {},
   "outputs": [
    {
     "data": {
      "text/plain": [
       "array([[1.1650839, 1.1688069],\n",
       "       [1.743952 , 1.526343 ]], dtype=float32)"
      ]
     },
     "execution_count": 168,
     "metadata": {},
     "output_type": "execute_result"
    }
   ],
   "source": [
    "a.dot(b)"
   ]
  },
  {
   "cell_type": "code",
   "execution_count": 169,
   "id": "b122b288",
   "metadata": {},
   "outputs": [
    {
     "data": {
      "text/plain": [
       "array([[ True,  True],\n",
       "       [ True,  True]])"
      ]
     },
     "execution_count": 169,
     "metadata": {},
     "output_type": "execute_result"
    }
   ],
   "source": [
    "res_np==mult"
   ]
  },
  {
   "cell_type": "code",
   "execution_count": 170,
   "id": "21664ef1",
   "metadata": {},
   "outputs": [
    {
     "data": {
      "text/plain": [
       "(2, 2)"
      ]
     },
     "execution_count": 170,
     "metadata": {},
     "output_type": "execute_result"
    }
   ],
   "source": [
    "res_np.shape"
   ]
  },
  {
   "cell_type": "code",
   "execution_count": 171,
   "id": "9ef27281",
   "metadata": {},
   "outputs": [
    {
     "data": {
      "text/plain": [
       "(2, 2)"
      ]
     },
     "execution_count": 171,
     "metadata": {},
     "output_type": "execute_result"
    }
   ],
   "source": [
    "mult.shape"
   ]
  },
  {
   "cell_type": "markdown",
   "id": "b3ad7225",
   "metadata": {},
   "source": [
    "## Weight update kernel"
   ]
  },
  {
   "cell_type": "code",
   "execution_count": null,
   "id": "a5138cee",
   "metadata": {},
   "outputs": [],
   "source": [
    "bs = 4"
   ]
  },
  {
   "cell_type": "code",
   "execution_count": null,
   "id": "76e44e2d",
   "metadata": {},
   "outputs": [],
   "source": [
    "dim = 8\n",
    "topk = 2\n",
    "\n",
    "x = np.random.rand(bs,dim).astype(np.float32)\n",
    "y = np.random.rand(bs,dim).astype(np.float32)\n",
    "x.shape,y.shape, topk"
   ]
  },
  {
   "cell_type": "markdown",
   "id": "de5e3e5e",
   "metadata": {},
   "source": [
    "x_buf = cl.Buffer(ctx, mf.READ_ONLY | mf.COPY_HOST_PTR, hostbuf=x)\n",
    "y_buf = cl.Buffer(ctx, mf.READ_ONLY | mf.COPY_HOST_PTR, hostbuf=y)\n",
    "x_cp_buf = cl.Buffer(ctx, mf.WRITE_ONLY, bs*topk*topk*4)\n",
    "x_idx_buf = cl.Buffer(ctx, mf.WRITE_ONLY, bs*topk*4)\n",
    "y_idx_buf = cl.Buffer(ctx, mf.WRITE_ONLY, bs*topk*4)\n",
    "\n",
    "prg = cl.Program(ctx, \"\"\"\n",
    "    // sorts x and y in ascending order and returns sorted indices\n",
    "    __kernel void genwupdate2(__global  float* x,     // INPUT MATRIX DATA\n",
    "                             __global  float* y,    // INPUT\n",
    "                             __global  float* xout,    // INPUT\n",
    "                             uint topk,\n",
    "                             __global  uint* xoutidx,    // INPUT\n",
    "                             __global  uint* youtidx    // INPUT\n",
    "                            ) { // LOCAL SHARED BUFFER\n",
    "      uint gid = get_global_id(0);\n",
    "      uint n = get_global_size(0);\n",
    "      uint bs = get_global_size(1);\n",
    "      uint gid2 = get_global_id(1);\n",
    "\n",
    "      uint idx = n*gid2+gid;\n",
    "\n",
    "      float valx = x[idx];\n",
    "      float valy = y[idx];\n",
    "      uint posx = 0;\n",
    "      uint posy = 0;\n",
    "      for (uint i = 0; i < n; i++) {\n",
    "        uint idx2 = n*gid2+i;\n",
    "        float tempval = x[idx2];\n",
    "        float tempval2 = y[idx2];\n",
    "        bool larger = tempval > valx;\n",
    "        bool larger2 = tempval2 > valy;\n",
    "\n",
    "        barrier(CLK_GLOBAL_MEM_FENCE);\n",
    "        posx += (larger)?1:0;\n",
    "        posy += (larger2)?1:0;\n",
    "        barrier(CLK_GLOBAL_MEM_FENCE);\n",
    "      }\n",
    "      barrier(CLK_GLOBAL_MEM_FENCE);\n",
    "      //printf(\"posx:%i\", posx);\n",
    "      if (posx < topk) {\n",
    "        xoutidx[posx+topk*gid2] = gid;\n",
    "      }\n",
    "      if (posy < topk) {\n",
    "        youtidx[posy+topk*gid2] = gid;\n",
    "      }\n",
    "      barrier(CLK_GLOBAL_MEM_FENCE);\n",
    "      if (gid < topk) {\n",
    "        for (uint j=0; j<topk; j++) {\n",
    "          float res = x[xoutidx[gid+topk*gid2]+gid2*n] * y[youtidx[j+topk*gid2]+gid2*n];\n",
    "          //printf(\"\\\\nJ:%i  gid:%i\", j, gid);\n",
    "          //printf(\"\\\\nRES:%.2f - %i - %i -  %.2f - %.2f\",res, xoutidx[gid+topk*gid2], youtidx[j+topk*gid2], x[xoutidx[gid+topk*gid2]+gid2*n], y[youtidx[j+topk*gid2]+gid2*n]);\n",
    "          barrier(CLK_GLOBAL_MEM_FENCE);\n",
    "          xout[gid2*topk*topk+j*topk+gid] = res;\n",
    "          barrier(CLK_GLOBAL_MEM_FENCE);\n",
    "          \n",
    "        }\n",
    "      }\n",
    "      barrier(CLK_GLOBAL_MEM_FENCE);\n",
    "    }\"\"\").build()"
   ]
  },
  {
   "cell_type": "code",
   "execution_count": null,
   "id": "88864470",
   "metadata": {},
   "outputs": [],
   "source": [
    "x_buf = cl.Buffer(ctx, mf.READ_ONLY | mf.COPY_HOST_PTR, hostbuf=x)\n",
    "y_buf = cl.Buffer(ctx, mf.READ_ONLY | mf.COPY_HOST_PTR, hostbuf=y)\n",
    "x_cp_buf = cl.Buffer(ctx, mf.WRITE_ONLY, bs*topk*topk*4)\n",
    "x_idx_buf = cl.Buffer(ctx, mf.WRITE_ONLY, bs*topk*4)\n",
    "y_idx_buf = cl.Buffer(ctx, mf.WRITE_ONLY, bs*topk*4)\n",
    "#x_cp_buft = cl.Buffer(ctx, mf.WRITE_ONLY, bs*topk*topk*4)\n",
    "#x_idx_buft = cl.Buffer(ctx, mf.WRITE_ONLY, bs*topk*4)\n",
    "#y_idx_buft = cl.Buffer(ctx, mf.WRITE_ONLY, bs*topk*4)\n",
    "\n",
    "prg = cl.Program(ctx, \"\"\"\n",
    "    // sorts x and y in ascending order and returns sorted indices\n",
    "    __kernel void genwupdate2(__global  float* x,     // INPUT MATRIX DATA\n",
    "                             __global  float* y,    // INPUT\n",
    "                             __global  float* xout,    // INPUT\n",
    "                             uint topk,\n",
    "                             uint bs,\n",
    "                             __global  uint* xoutidx,    // INPUT\n",
    "                             __global  uint* youtidx    // INPUT\n",
    "                            ) { // LOCAL SHARED BUFFER\n",
    "      uint gid = get_global_id(0);\n",
    "      uint n = get_global_size(0);\n",
    "      //uint bs = get_global_size(1);\n",
    "      //uint gid2 = get_global_id(1);\n",
    "\n",
    "      for (uint gid2=0; gid2<bs; gid2++){\n",
    "        uint idx = n*gid2+gid;\n",
    "\n",
    "        float valx = x[idx];\n",
    "        float valy = y[idx];\n",
    "        uint posx = 0;\n",
    "        uint posy = 0;\n",
    "        for (uint i = 0; i < n; i++) {\n",
    "          uint idx2 = n*gid2+i;\n",
    "          float tempval = x[idx2];\n",
    "          float tempval2 = y[idx2];\n",
    "          bool larger = tempval > valx;\n",
    "          bool larger2 = tempval2 > valy;\n",
    "\n",
    "          posx += (larger)?1:0;\n",
    "          posy += (larger2)?1:0;\n",
    "        }\n",
    "        //printf(\"posx:%i\", posx);\n",
    "        if (posx < topk) {\n",
    "        xoutidx[posx+topk*gid2] = gid;\n",
    "        }\n",
    "        if (posy < topk) {\n",
    "          youtidx[posy+topk*gid2] = gid;\n",
    "        }\n",
    "      }\n",
    "      for (uint gid2=0; gid2<bs; gid2++){\n",
    "        if (gid < topk) {\n",
    "          for (uint j=0; j<topk; j++) {\n",
    "            float res = x[xoutidx[gid+topk*gid2]+gid2*n] * y[youtidx[j+topk*gid2]+gid2*n];\n",
    "            //printf(\"\\\\nJ:%i  gid:%i\", j, gid);\n",
    "            //printf(\"\\\\nRES:%.2f - %i - %i -  %.2f - %.2f\",res, xoutidx[gid+topk*gid2], youtidx[j+topk*gid2], x[xoutidx[gid+topk*gid2]+gid2*n], y[youtidx[j+topk*gid2]+gid2*n]);\n",
    "            //barrier(CLK_GLOBAL_MEM_FENCE);\n",
    "            xout[gid2*topk*topk+j*topk+gid] = res;\n",
    "          }\n",
    "        }\n",
    "      }\n",
    "    }\"\"\").build()"
   ]
  },
  {
   "cell_type": "code",
   "execution_count": null,
   "id": "94682965",
   "metadata": {},
   "outputs": [],
   "source": [
    "knl = prg.genwupdate2  # Use this Kernel object for repeated calls\n",
    "evt = knl(queue, [dim], None, x_buf, y_buf, x_cp_buf, np.uint32(topk), np.uint32(bs), x_idx_buf, y_idx_buf)\n",
    "\n",
    "#evt.wait()\n",
    "resx = np.zeros(bs*topk*topk).astype(np.float32)\n",
    "resxidx = np.zeros(bs*topk).astype(np.uint32)\n",
    "resyidx = np.zeros(bs*topk).astype(np.uint32)\n",
    "\n",
    "cl.enqueue_copy(queue, resx, x_cp_buf)\n",
    "cl.enqueue_copy(queue, resxidx, x_idx_buf)\n",
    "cl.enqueue_copy(queue, resyidx, y_idx_buf)"
   ]
  },
  {
   "cell_type": "markdown",
   "id": "771508c3",
   "metadata": {},
   "source": [
    "knl(queue, [dim], None, y_buf, x_buf, x_cp_buft, np.uint32(topk), np.uint32(bs), x_idx_buft, y_idx_buft)\n",
    "\n",
    "#evt.wait()\n",
    "resx = np.zeros(bs*topk*topk).astype(np.float32)\n",
    "resxidx = np.zeros(bs*topk).astype(np.uint32)\n",
    "resyidx = np.zeros(bs*topk).astype(np.uint32)\n",
    "\n",
    "cl.enqueue_copy(queue, resx, x_cp_buf)\n",
    "cl.enqueue_copy(queue, resxidx, x_idx_buf)\n",
    "cl.enqueue_copy(queue, resyidx, y_idx_buf)"
   ]
  },
  {
   "cell_type": "code",
   "execution_count": null,
   "id": "88725ae2",
   "metadata": {},
   "outputs": [],
   "source": [
    "x"
   ]
  },
  {
   "cell_type": "code",
   "execution_count": null,
   "id": "4c150d0f",
   "metadata": {},
   "outputs": [],
   "source": [
    "y"
   ]
  },
  {
   "cell_type": "code",
   "execution_count": null,
   "id": "990b8af7",
   "metadata": {},
   "outputs": [],
   "source": [
    "x.shape, y.shape"
   ]
  },
  {
   "cell_type": "code",
   "execution_count": null,
   "id": "1c18b7bb",
   "metadata": {},
   "outputs": [],
   "source": [
    "resx"
   ]
  },
  {
   "cell_type": "code",
   "execution_count": null,
   "id": "58d4154c",
   "metadata": {},
   "outputs": [],
   "source": [
    "resx.reshape(bs,topk,topk)"
   ]
  },
  {
   "cell_type": "code",
   "execution_count": null,
   "id": "5cca2876",
   "metadata": {},
   "outputs": [],
   "source": [
    "resxidx"
   ]
  },
  {
   "cell_type": "code",
   "execution_count": null,
   "id": "80deeac2",
   "metadata": {},
   "outputs": [],
   "source": [
    "resyidx"
   ]
  },
  {
   "cell_type": "code",
   "execution_count": null,
   "id": "3020c7d7",
   "metadata": {},
   "outputs": [],
   "source": [
    "idx = 1\n",
    "xy0 = x[idx].reshape(dim,1)*y[idx]\n",
    "xy0.shape"
   ]
  },
  {
   "cell_type": "code",
   "execution_count": null,
   "id": "fc865ccb",
   "metadata": {},
   "outputs": [],
   "source": [
    "xy0[3][7]"
   ]
  },
  {
   "cell_type": "markdown",
   "id": "c0c255da",
   "metadata": {},
   "source": [
    "### update vals add dense"
   ]
  },
  {
   "cell_type": "code",
   "execution_count": null,
   "id": "7b96afa2",
   "metadata": {},
   "outputs": [],
   "source": [
    "matadd = np.random.randn(*a.shape).astype(np.float32)\n",
    "matadd"
   ]
  },
  {
   "cell_type": "code",
   "execution_count": null,
   "id": "412cfeec",
   "metadata": {},
   "outputs": [],
   "source": [
    "a"
   ]
  },
  {
   "cell_type": "code",
   "execution_count": null,
   "id": "5db87320",
   "metadata": {},
   "outputs": [],
   "source": [
    "a_added = a + matadd"
   ]
  },
  {
   "cell_type": "code",
   "execution_count": null,
   "id": "20c7d51e",
   "metadata": {},
   "outputs": [],
   "source": [
    "adata_buf = cl.Buffer(ctx, mf.READ_WRITE | mf.COPY_HOST_PTR, hostbuf=adata)\n",
    "acols_buf = cl.Buffer(ctx, mf.READ_WRITE | mf.COPY_HOST_PTR, hostbuf=acols)\n",
    "annzs_buf = cl.Buffer(ctx, mf.READ_WRITE | mf.COPY_HOST_PTR, hostbuf=annz)\n",
    "adatat_buf = cl.Buffer(ctx, mf.READ_WRITE | mf.COPY_HOST_PTR, hostbuf=adatat)\n",
    "acolst_buf = cl.Buffer(ctx, mf.READ_WRITE | mf.COPY_HOST_PTR, hostbuf=acolst)\n",
    "annzst_buf = cl.Buffer(ctx, mf.READ_WRITE | mf.COPY_HOST_PTR, hostbuf=annzt)\n",
    "add_buf = cl.Buffer(ctx, mf.READ_WRITE | mf.COPY_HOST_PTR, hostbuf=matadd)\n",
    "\n",
    "prg = cl.Program(ctx, \"\"\"\n",
    "    // Every global_id_0 works on a row\n",
    "    __kernel void adddense(__global  float* matData,     // INPUT MATRIX DATA\n",
    "                            __global  uint*  colIdx,\n",
    "                            __global  uint*  rowNnz,\n",
    "                            float  lr,\n",
    "                            uint   ellwidth,\n",
    "                            uint   awidth,\n",
    "                            __global  float* vector_x    // INPUT\n",
    "                            ) { // LOCAL SHARED BUFFER\n",
    "      uint gid = get_global_id(0);\n",
    "      uint nrows = get_global_size(0);\n",
    "\n",
    "      uint nnz    = rowNnz[gid];\n",
    "      uint baseidxs = gid*ellwidth;\n",
    "      uint baseidxd = gid*awidth;\n",
    "      \n",
    "      for (uint i=0; i<awidth; i++) {\n",
    "        float addval = vector_x[baseidxd+i];\n",
    "        //if (gid==1)\n",
    "        //  printf(\"\\\\nADD VAL:%.2f idx:%i/%i  col:%i\", addval, baseidxs+i, baseidxd+i, colIdx[baseidxs+i]);\n",
    "        if (addval == 0) {\n",
    "          continue;\n",
    "        }\n",
    "        if (i == colIdx[baseidxs+i]) {\n",
    "          matData[baseidxs+i] += addval;\n",
    "        } else {\n",
    "          if (i > colIdx[baseidxs+i])\n",
    "            break;\n",
    "          for (uint j=nnz; j>i; j--) {\n",
    "            //printf(\"\\\\nMOVE:%.2f\", matData[baseidx+j-1]);\n",
    "            colIdx[baseidxs+j] = colIdx[baseidxs+j-1];\n",
    "            matData[baseidxs+j] = matData[baseidxs+j-1];\n",
    "          }\n",
    "          rowNnz[gid] += 1;\n",
    "          nnz = rowNnz[gid];\n",
    "          //if (gid==1)\n",
    "          //  printf(\"\\\\nSET VAL:%.2f idx:%i/%i  col:%i\", addval, baseidxs+i, baseidxd+i, colIdx[i]);\n",
    "          matData[baseidxs+i] = addval;\n",
    "          colIdx[baseidxs+i] = i;\n",
    "          if (nnz >= ellwidth)\n",
    "            break;\n",
    "        }\n",
    "      }\n",
    "    }\"\"\").build()"
   ]
  },
  {
   "cell_type": "code",
   "execution_count": null,
   "id": "2adf45e7",
   "metadata": {},
   "outputs": [],
   "source": [
    "a.shape, b.shape"
   ]
  },
  {
   "cell_type": "code",
   "execution_count": null,
   "id": "324edd08",
   "metadata": {},
   "outputs": [],
   "source": [
    "res = np.zeros(a.shape[0]).astype(np.float32)\n",
    "#res"
   ]
  },
  {
   "cell_type": "code",
   "execution_count": null,
   "id": "2cf60c63",
   "metadata": {},
   "outputs": [],
   "source": [
    "rows = a.shape[0]"
   ]
  },
  {
   "cell_type": "code",
   "execution_count": null,
   "id": "05c4e97c",
   "metadata": {},
   "outputs": [],
   "source": [
    "mult = mult.astype(np.float32)"
   ]
  },
  {
   "cell_type": "code",
   "execution_count": null,
   "id": "7d3bb3fd",
   "metadata": {},
   "outputs": [],
   "source": [
    "res_buf = cl.Buffer(ctx, mf.WRITE_ONLY, b.nbytes)\n",
    "knl = prg.adddense  # Use this Kernel object for repeated calls\n",
    "knl(queue, [rows], None, adata_buf, acols_buf, annzs_buf, np.float32(1), np.uint32(ellwa),np.uint32(a.shape[1]), add_buf)"
   ]
  },
  {
   "cell_type": "code",
   "execution_count": null,
   "id": "91283016",
   "metadata": {},
   "outputs": [],
   "source": [
    "matadd[0][0]"
   ]
  },
  {
   "cell_type": "code",
   "execution_count": null,
   "id": "f520b590",
   "metadata": {},
   "outputs": [],
   "source": [
    "data_res = np.empty_like(adata)\n",
    "cols_res = np.empty_like(acols)\n",
    "nnzs_res = np.empty_like(annz)\n",
    "cl.enqueue_copy(queue, data_res, adata_buf)\n",
    "cl.enqueue_copy(queue, cols_res, acols_buf)\n",
    "cl.enqueue_copy(queue, nnzs_res, annzs_buf)"
   ]
  },
  {
   "cell_type": "code",
   "execution_count": null,
   "id": "945bad1d",
   "metadata": {},
   "outputs": [],
   "source": [
    "adenseadd = to_dense(data_res, cols_res, nnzs_res, ellwa, a.shape)\n",
    "adenseadd"
   ]
  },
  {
   "cell_type": "code",
   "execution_count": null,
   "id": "9dc5db0f",
   "metadata": {},
   "outputs": [],
   "source": [
    "a"
   ]
  },
  {
   "cell_type": "code",
   "execution_count": null,
   "id": "7dffdf20",
   "metadata": {},
   "outputs": [],
   "source": [
    "matadd"
   ]
  },
  {
   "cell_type": "code",
   "execution_count": null,
   "id": "e0e10dd1",
   "metadata": {},
   "outputs": [],
   "source": [
    "a_added"
   ]
  },
  {
   "cell_type": "code",
   "execution_count": null,
   "id": "23f0c0c2",
   "metadata": {},
   "outputs": [],
   "source": [
    "adenseadd == a_added"
   ]
  },
  {
   "cell_type": "markdown",
   "id": "2c377b84",
   "metadata": {},
   "source": [
    "### update vals"
   ]
  },
  {
   "cell_type": "code",
   "execution_count": null,
   "id": "b9db3334",
   "metadata": {},
   "outputs": [],
   "source": [
    "adatat_buf = cl.Buffer(ctx, mf.READ_WRITE | mf.COPY_HOST_PTR, hostbuf=adatat)\n",
    "acolst_buf = cl.Buffer(ctx, mf.READ_WRITE | mf.COPY_HOST_PTR, hostbuf=acolst)\n",
    "annzst_buf = cl.Buffer(ctx, mf.READ_WRITE | mf.COPY_HOST_PTR, hostbuf=annzt)\n",
    "add_buf = cl.Buffer(ctx, mf.READ_WRITE | mf.COPY_HOST_PTR, hostbuf=matadd)\n",
    "\n",
    "prg = cl.Program(ctx, \"\"\"\n",
    "    // Every global_id_0 works on a row\n",
    "    __kernel void adddenset(__global  float* matData,     // INPUT MATRIX DATA\n",
    "                            __global  uint*  colIdx,\n",
    "                            __global  uint*  rowNnz,\n",
    "                            float  lr,\n",
    "                            uint   ellwidth,\n",
    "                            uint   aheight,\n",
    "                            __global  float* vector_x    // INPUT\n",
    "                            ) { // LOCAL SHARED BUFFER\n",
    "      uint gid = get_global_id(0);\n",
    "      uint ncols = get_global_size(0);\n",
    "\n",
    "      uint nnz    = rowNnz[gid];\n",
    "      uint baseidxs = gid*ellwidth;\n",
    "      \n",
    "      for (uint i=0; i<aheight; i++) {\n",
    "        uint baseidxd = i*aheight+gid;\n",
    "        float addval = vector_x[baseidxd];\n",
    "        //if (gid==1)\n",
    "        //  printf(\"\\\\nADD VAL:%.2f idx:%i/%i  col:%i\", addval, baseidxs+i, baseidxd+i, colIdx[baseidxs+i]);\n",
    "        if (addval == 0) {\n",
    "          continue;\n",
    "        }\n",
    "        if (i == colIdx[baseidxs+i]) {\n",
    "          matData[baseidxs+i] += addval;\n",
    "        } else {\n",
    "          if (i > colIdx[baseidxs+i])\n",
    "            break;\n",
    "          for (uint j=nnz; j>i; j--) {\n",
    "            //printf(\"\\\\nMOVE:%.2f\", matData[baseidx+j-1]);\n",
    "            colIdx[baseidxs+j] = colIdx[baseidxs+j-1];\n",
    "            matData[baseidxs+j] = matData[baseidxs+j-1];\n",
    "          }\n",
    "          rowNnz[gid] += 1;\n",
    "          nnz = rowNnz[gid];\n",
    "          //if (gid==1)\n",
    "          //  printf(\"\\\\nSET VAL:%.2f idx:%i/%i  col:%i\", addval, baseidxs+i, baseidxd+i, colIdx[i]);\n",
    "          matData[baseidxs+i] = addval;\n",
    "          colIdx[baseidxs+i] = i;\n",
    "          if (nnz >= ellwidth)\n",
    "            break;\n",
    "        }\n",
    "      }\n",
    "    }\"\"\").build()"
   ]
  },
  {
   "cell_type": "code",
   "execution_count": null,
   "id": "3df220e3",
   "metadata": {},
   "outputs": [],
   "source": [
    "a.shape, b.shape"
   ]
  },
  {
   "cell_type": "code",
   "execution_count": null,
   "id": "4a70fde5",
   "metadata": {},
   "outputs": [],
   "source": [
    "res = np.zeros(a.shape[0]).astype(np.float32)\n",
    "#res"
   ]
  },
  {
   "cell_type": "code",
   "execution_count": null,
   "id": "49cee8e5",
   "metadata": {},
   "outputs": [],
   "source": [
    "cols = a.T.shape[1]"
   ]
  },
  {
   "cell_type": "code",
   "execution_count": null,
   "id": "ce0c1ed9",
   "metadata": {},
   "outputs": [],
   "source": [
    "mult = mult.astype(np.float32)"
   ]
  },
  {
   "cell_type": "code",
   "execution_count": null,
   "id": "bf98ad4e",
   "metadata": {},
   "outputs": [],
   "source": [
    "res_buf = cl.Buffer(ctx, mf.WRITE_ONLY, b.nbytes)\n",
    "knl = prg.adddenset  # Use this Kernel object for repeated calls\n",
    "knl(queue, [cols], None, adatat_buf, acolst_buf, annzst_buf, np.float32(1), np.uint32(ellwat),np.uint32(a.T.shape[1]), add_buf)"
   ]
  },
  {
   "cell_type": "code",
   "execution_count": null,
   "id": "d01027d6",
   "metadata": {},
   "outputs": [],
   "source": [
    "matadd[0][0]"
   ]
  },
  {
   "cell_type": "code",
   "execution_count": null,
   "id": "c8aa298b",
   "metadata": {},
   "outputs": [],
   "source": [
    "datat_res = np.empty_like(adata)\n",
    "colst_res = np.empty_like(acols)\n",
    "nnzst_res = np.empty_like(annz)\n",
    "cl.enqueue_copy(queue, datat_res, adatat_buf)\n",
    "cl.enqueue_copy(queue, colst_res, acolst_buf)\n",
    "cl.enqueue_copy(queue, nnzst_res, annzst_buf)"
   ]
  },
  {
   "cell_type": "code",
   "execution_count": null,
   "id": "1520b090",
   "metadata": {},
   "outputs": [],
   "source": [
    "adenseadd = to_dense(datat_res, colst_res, nnzst_res, ellwat, a.T.shape).T\n",
    "adenseadd"
   ]
  },
  {
   "cell_type": "code",
   "execution_count": null,
   "id": "4991edea",
   "metadata": {},
   "outputs": [],
   "source": [
    "a"
   ]
  },
  {
   "cell_type": "code",
   "execution_count": null,
   "id": "a02d1ebb",
   "metadata": {},
   "outputs": [],
   "source": [
    "matadd"
   ]
  },
  {
   "cell_type": "code",
   "execution_count": null,
   "id": "39b90dde",
   "metadata": {},
   "outputs": [],
   "source": [
    "a_added"
   ]
  },
  {
   "cell_type": "code",
   "execution_count": null,
   "id": "03c95777",
   "metadata": {},
   "outputs": [],
   "source": [
    "adenseadd == a_added"
   ]
  },
  {
   "cell_type": "markdown",
   "id": "f62eb300",
   "metadata": {},
   "source": [
    "### update vals"
   ]
  },
  {
   "cell_type": "code",
   "execution_count": null,
   "id": "bc590ff4",
   "metadata": {},
   "outputs": [],
   "source": [
    "asdf"
   ]
  },
  {
   "cell_type": "markdown",
   "id": "6644b755",
   "metadata": {},
   "source": [
    "### update vals"
   ]
  },
  {
   "cell_type": "code",
   "execution_count": null,
   "id": "73b60325",
   "metadata": {},
   "outputs": [],
   "source": [
    "adata_buf = cl.Buffer(ctx, mf.READ_WRITE | mf.COPY_HOST_PTR, hostbuf=adata)\n",
    "acols_buf = cl.Buffer(ctx, mf.READ_WRITE | mf.COPY_HOST_PTR, hostbuf=acols)\n",
    "annzs_buf = cl.Buffer(ctx, mf.READ_WRITE | mf.COPY_HOST_PTR, hostbuf=annz)"
   ]
  },
  {
   "cell_type": "code",
   "execution_count": null,
   "id": "7cb03af3",
   "metadata": {},
   "outputs": [],
   "source": [
    "prg = cl.Program(ctx, \"\"\"\n",
    "// Every global_id_0 works on a row\n",
    "    __kernel void addvals(__global  float* matData,     // INPUT MATRIX DATA\n",
    "                         __global  uint*  colIdx,\n",
    "                         __global  uint*  rowNnz,\n",
    "                         float lr,\n",
    "                         uint   ellwidth,\n",
    "                         __global  float* updatevals,    // INPUT\n",
    "                         __global  uint* updatexidx,\n",
    "                         __global  uint* updateyidx\n",
    "                         ) { // LOCAL SHARED BUFFER\n",
    "      uint gid = get_global_id(0);\n",
    "      uint gid2 = get_global_id(1);\n",
    "      uint topk = get_global_size(0);\n",
    "      uint bs = get_global_size(1);\n",
    "      uint baseupdateidx = topk*topk*gid2;\n",
    "      uint baseidxidx = topk*gid2;\n",
    "      uint col = updateyidx[baseidxidx+gid];\n",
    "\n",
    "      for (uint i=0; i<topk; i++) {\n",
    "        float val = updatevals[baseupdateidx+gid*topk+i];\n",
    "        uint row = updatexidx[baseidxidx+i];\n",
    "        for (uint i=0; i<rowNnz[row]; i++) {\n",
    "          uint idx = row*ellwidth+i;\n",
    "          if (colIdx[idx] >= col) {\n",
    "            //printf(\"\\\\nFOUND:%i/%i  - idx:%i\", colIdx[idx], col, idx);\n",
    "            if (colIdx[idx] == col) {\n",
    "              matData[idx] += -val*lr;\n",
    "              printf(\"\\\\nUPDATE[%i,%i]: %f\", row,col, val);\n",
    "              break;\n",
    "            } else {\n",
    "              // insert new column\n",
    "              printf(\"\\\\nINSERT[%i,%i]: %.2f\", row,col, val);\n",
    "              for (uint j=rowNnz[row]+1; j>i; j--) {\n",
    "                uint idx2 = row*ellwidth+j;\n",
    "                matData[idx2] = matData[idx2-1];\n",
    "                colIdx[idx2] = colIdx[idx2-1];\n",
    "              }\n",
    "              matData[idx] = -val*lr;\n",
    "              colIdx[idx] = col;\n",
    "              rowNnz[row] += 1;\n",
    "              break;\n",
    "            }\n",
    "          }\n",
    "        }\n",
    "        if (rowNnz[row] >= ellwidth) {\n",
    "          break;\n",
    "        }\n",
    "      }\n",
    "    }\"\"\").build()"
   ]
  },
  {
   "cell_type": "code",
   "execution_count": null,
   "id": "0aab86e1",
   "metadata": {},
   "outputs": [],
   "source": [
    "knl = prg.addvals  # Use this Kernel object for repeated calls\n",
    "knl(queue, [topk,bs], None, adata_buf, acols_buf, annzs_buf, np.float32(1), np.uint32(ellwa), x_cp_buf, x_idx_buf, y_idx_buf)\n",
    "\n",
    "resa = np.empty_like(adata)\n",
    "resaidx = np.zeros(acols.shape).astype(np.uint32)\n",
    "resannz = np.zeros(annz.shape).astype(np.uint32)\n",
    "\n",
    "cl.enqueue_copy(queue, resa, adata_buf)\n",
    "cl.enqueue_copy(queue, resaidx, acols_buf)\n",
    "cl.enqueue_copy(queue, resannz, annzs_buf)"
   ]
  },
  {
   "cell_type": "code",
   "execution_count": null,
   "id": "d2ff91ba",
   "metadata": {},
   "outputs": [],
   "source": [
    "resa.shape, resaidx.shape, resannz.shape, ellwa, a.T.shape"
   ]
  },
  {
   "cell_type": "code",
   "execution_count": null,
   "id": "190b8546",
   "metadata": {},
   "outputs": [],
   "source": [
    "adenseadd = to_dense(resa, resaidx, resannz, ellwa, a.T.shape)\n",
    "adenseadd"
   ]
  },
  {
   "cell_type": "code",
   "execution_count": null,
   "id": "3211c6e6",
   "metadata": {},
   "outputs": [],
   "source": [
    "adenseadd - adense"
   ]
  },
  {
   "cell_type": "code",
   "execution_count": null,
   "id": "f63c469b",
   "metadata": {},
   "outputs": [],
   "source": [
    "adenseadd == adense"
   ]
  },
  {
   "cell_type": "code",
   "execution_count": null,
   "id": "922fdfb7",
   "metadata": {},
   "outputs": [],
   "source": [
    "ellwa"
   ]
  },
  {
   "cell_type": "code",
   "execution_count": null,
   "id": "9da55fa5",
   "metadata": {},
   "outputs": [],
   "source": [
    "adata2 = adata.reshape(-1, ellwa)\n",
    "adata2"
   ]
  },
  {
   "cell_type": "code",
   "execution_count": null,
   "id": "466c61fb",
   "metadata": {},
   "outputs": [],
   "source": [
    "resa = resa.reshape(-1, ellwa)\n",
    "resa"
   ]
  },
  {
   "cell_type": "code",
   "execution_count": null,
   "id": "30f36719",
   "metadata": {},
   "outputs": [],
   "source": [
    "resa - adata2"
   ]
  },
  {
   "cell_type": "code",
   "execution_count": null,
   "id": "9dd6baf4",
   "metadata": {},
   "outputs": [],
   "source": [
    "acols"
   ]
  },
  {
   "cell_type": "code",
   "execution_count": null,
   "id": "5c526051",
   "metadata": {},
   "outputs": [],
   "source": [
    "resaidx"
   ]
  },
  {
   "cell_type": "code",
   "execution_count": null,
   "id": "f635a14d",
   "metadata": {},
   "outputs": [],
   "source": [
    "resannz"
   ]
  },
  {
   "cell_type": "code",
   "execution_count": null,
   "id": "d99713b6",
   "metadata": {},
   "outputs": [],
   "source": [
    "annz"
   ]
  },
  {
   "cell_type": "markdown",
   "id": "7c703466",
   "metadata": {},
   "source": [
    "### update vals2"
   ]
  },
  {
   "cell_type": "code",
   "execution_count": null,
   "id": "ed7e786b",
   "metadata": {},
   "outputs": [],
   "source": [
    "adatat_buf = cl.Buffer(ctx, mf.READ_WRITE | mf.COPY_HOST_PTR, hostbuf=adatat)\n",
    "acolst_buf = cl.Buffer(ctx, mf.READ_WRITE | mf.COPY_HOST_PTR, hostbuf=acolst)\n",
    "annzst_buf = cl.Buffer(ctx, mf.READ_WRITE | mf.COPY_HOST_PTR, hostbuf=annzt)"
   ]
  },
  {
   "cell_type": "code",
   "execution_count": null,
   "id": "33840479",
   "metadata": {},
   "outputs": [],
   "source": [
    "prg = cl.Program(ctx, \"\"\"\n",
    "// Every global_id_0 works on a row\n",
    "    __kernel void addvals(__global  float* matData,     // INPUT MATRIX DATA\n",
    "                         __global  uint*  colIdx,\n",
    "                         __global  uint*  rowNnz,\n",
    "                         float lr,\n",
    "                         uint   ellwidth,\n",
    "                         __global  float* updatevals,    // INPUT\n",
    "                         __global  uint* updatexidx,\n",
    "                         __global  uint* updateyidx\n",
    "                         ) { // LOCAL SHARED BUFFER\n",
    "      uint gid = get_global_id(0);\n",
    "      uint gid2 = get_global_id(1);\n",
    "      uint topk = get_global_size(0);\n",
    "      uint bs = get_global_size(1);\n",
    "      uint baseupdateidx = topk*topk*gid2;\n",
    "      uint baseidxidx = topk*gid2;\n",
    "      uint row = updateyidx[baseidxidx+gid];\n",
    "\n",
    "      for (uint i=0; i<topk; i++) {\n",
    "        float val = updatevals[baseupdateidx+gid*topk+i];\n",
    "        uint col = updatexidx[baseidxidx+i];\n",
    "        for (uint i=0; i<rowNnz[row]; i++) {\n",
    "          uint idx = row*ellwidth+i;\n",
    "          if (colIdx[idx] >= col) {\n",
    "            //printf(\"\\\\nFOUND:%i/%i  - idx:%i\", colIdx[idx], col, idx);\n",
    "            if (colIdx[idx] == col) {\n",
    "              matData[idx] += -val*lr;\n",
    "              printf(\"\\\\nUPDATE[%i,%i]: %f\", row,col, val);\n",
    "              break;\n",
    "            } else {\n",
    "              // insert new column\n",
    "              printf(\"\\\\nINSERT[%i,%i]: %.2f\", row,col, val);\n",
    "              for (uint j=rowNnz[row]+1; j>i; j--) {\n",
    "                uint idx2 = row*ellwidth+j;\n",
    "                matData[idx2] = matData[idx2-1];\n",
    "                colIdx[idx2] = colIdx[idx2-1];\n",
    "              }\n",
    "              matData[idx] = -val*lr;\n",
    "              colIdx[idx] = col;\n",
    "              rowNnz[row] += 1;\n",
    "              break;\n",
    "            }\n",
    "          }\n",
    "        }\n",
    "        if (rowNnz[row] >= ellwidth) {\n",
    "          break;\n",
    "        }\n",
    "      }\n",
    "    }\"\"\").build()"
   ]
  },
  {
   "cell_type": "code",
   "execution_count": null,
   "id": "0053ed70",
   "metadata": {},
   "outputs": [],
   "source": [
    "knl = prg.addvals  # Use this Kernel object for repeated calls\n",
    "knl(queue, [topk,bs], None, adatat_buf, acolst_buf, annzst_buf, np.float32(1), np.uint32(ellwat), x_cp_buf, x_idx_buf, y_idx_buf)\n",
    "\n",
    "resat = np.empty_like(adatat)\n",
    "resaidxt = np.zeros(acolst.shape).astype(np.uint32)\n",
    "resannzt = np.zeros(annzt.shape).astype(np.uint32)\n",
    "\n",
    "cl.enqueue_copy(queue, resat, adatat_buf)\n",
    "cl.enqueue_copy(queue, resaidxt, acolst_buf)\n",
    "cl.enqueue_copy(queue, resannzt, annzst_buf)"
   ]
  },
  {
   "cell_type": "code",
   "execution_count": null,
   "id": "8f781e72",
   "metadata": {},
   "outputs": [],
   "source": [
    "ellwa"
   ]
  },
  {
   "cell_type": "code",
   "execution_count": null,
   "id": "1864d3ac",
   "metadata": {},
   "outputs": [],
   "source": [
    "resat.shape, resaidxt.shape, resannzt.shape"
   ]
  },
  {
   "cell_type": "code",
   "execution_count": null,
   "id": "6205962b",
   "metadata": {},
   "outputs": [],
   "source": [
    "adenseaddt = to_dense(resat, resaidxt, resannzt, ellwat, a.T.shape)\n",
    "adenseaddt"
   ]
  },
  {
   "cell_type": "code",
   "execution_count": null,
   "id": "c601a02c",
   "metadata": {},
   "outputs": [],
   "source": [
    "adenseadd == adenseaddt.T"
   ]
  },
  {
   "cell_type": "code",
   "execution_count": null,
   "id": "64a4fdb0",
   "metadata": {},
   "outputs": [],
   "source": [
    "adata2t = adatat.reshape(-1, ellwat)\n",
    "adata2t"
   ]
  },
  {
   "cell_type": "code",
   "execution_count": null,
   "id": "3b8f6062",
   "metadata": {},
   "outputs": [],
   "source": [
    "resat = resat.reshape(-1, ellwat)\n",
    "resat"
   ]
  },
  {
   "cell_type": "code",
   "execution_count": null,
   "id": "eb51f891",
   "metadata": {},
   "outputs": [],
   "source": [
    "resat - adata2t"
   ]
  },
  {
   "cell_type": "code",
   "execution_count": null,
   "id": "f7e150fe",
   "metadata": {},
   "outputs": [],
   "source": [
    "acols"
   ]
  },
  {
   "cell_type": "code",
   "execution_count": null,
   "id": "8f1f18f1",
   "metadata": {},
   "outputs": [],
   "source": [
    "resaidx"
   ]
  },
  {
   "cell_type": "code",
   "execution_count": null,
   "id": "bd326e73",
   "metadata": {},
   "outputs": [],
   "source": [
    "resannz"
   ]
  },
  {
   "cell_type": "code",
   "execution_count": null,
   "id": "357413c1",
   "metadata": {},
   "outputs": [],
   "source": [
    "annz"
   ]
  },
  {
   "cell_type": "markdown",
   "id": "7f618bfd",
   "metadata": {},
   "source": [
    "# OTHER"
   ]
  },
  {
   "cell_type": "markdown",
   "id": "28fd6b45",
   "metadata": {},
   "source": [
    "import numpy as np\n",
    "import pyopencl as cl\n",
    "\n",
    "mf = cl.mem_flags"
   ]
  },
  {
   "cell_type": "markdown",
   "id": "ebed13d1",
   "metadata": {},
   "source": [
    "dim = 16\n",
    "topk = 4\n",
    "\n",
    "x = np.random.rand(dim).astype(np.float32)\n",
    "y = np.random.rand(dim).astype(np.float32)\n",
    "x.shape,y.shape"
   ]
  },
  {
   "cell_type": "markdown",
   "id": "444a4a7f",
   "metadata": {},
   "source": [
    "dim1 = 4\n",
    "dim2 = 8\n",
    "dim3 = 1\n",
    "\n",
    "ctx = cl.create_some_context()\n",
    "queue = cl.CommandQueue(ctx,\n",
    "        properties=cl.command_queue_properties.PROFILING_ENABLE)\n",
    "\n",
    "sparsity = 0.2\n",
    "\n",
    "a = np.zeros((dim1,dim2))\n",
    "b = np.random.rand(dim2,dim3).flatten().astype(np.float32)\n",
    "\n",
    "a.shape, b.shape"
   ]
  },
  {
   "cell_type": "code",
   "execution_count": null,
   "id": "e2d4594d",
   "metadata": {},
   "outputs": [],
   "source": [
    "x_buf = cl.Buffer(ctx, mf.READ_ONLY | mf.COPY_HOST_PTR, hostbuf=x)\n",
    "y_buf = cl.Buffer(ctx, mf.READ_ONLY | mf.COPY_HOST_PTR, hostbuf=y)\n",
    "val_out_buf = cl.Buffer(ctx, mf.READ_WRITE, 4*topk*topk)\n",
    "x_idx_buf = cl.Buffer(ctx, mf.READ_WRITE, topk*4)\n",
    "y_idx_buf = cl.Buffer(ctx, mf.READ_WRITE, topk*4)\n",
    "\n",
    "prg = cl.Program(ctx, \"\"\"\n",
    "// Every global_id_0 works on a row\n",
    "__kernel void genwupdate2(__global  float* x,     // INPUT MATRIX DATA\n",
    "                         __global  float* y,    // INPUT\n",
    "                         __global  float* xout,    // INPUT\n",
    "                         uint topk,\n",
    "                         __global  uint* xoutidx,    // INPUT\n",
    "                         __global  uint* youtidx    // INPUT\n",
    "                        ) { // LOCAL SHARED BUFFER\n",
    "  uint gid = get_global_id(0);\n",
    "  uint n = get_global_size(0);\n",
    "  \n",
    "  xout[gid] = x[gid];\n",
    "  xoutidx[gid] = gid;\n",
    "  youtidx[gid] = gid;\n",
    "  \n",
    "  float valx = x[gid];\n",
    "  float valy = y[gid];\n",
    "  uint posx = 0;\n",
    "  uint posy = 0;\n",
    "  for (uint i = 0; i < n; i++) {\n",
    "    float tempval = x[i];\n",
    "    float tempval2 = y[i];\n",
    "    bool larger = tempval > valx;\n",
    "    bool larger2 = tempval2 > valy;\n",
    "      \n",
    "    posx += (larger)?1:0;\n",
    "    posy += (larger2)?1:0;\n",
    "  }\n",
    "  //printf(\"posx:%i\", posx);\n",
    "  if (posx < topk) {\n",
    "    xoutidx[posx] = gid;\n",
    "  }\n",
    "  if (posy < topk) {\n",
    "    youtidx[posy] = gid;\n",
    "  }\n",
    "  if (gid < topk) {\n",
    "    uint i = gid;\n",
    "    for (uint j=0; j<topk; j++) {\n",
    "      xout[gid*topk+j] = x[xoutidx[gid]] * y[youtidx[j]];\n",
    "    }\n",
    "  }\n",
    "}\"\"\").build()"
   ]
  },
  {
   "cell_type": "code",
   "execution_count": null,
   "id": "f45b3b69",
   "metadata": {},
   "outputs": [],
   "source": [
    "knl = prg.genwupdate2  # Use this Kernel object for repeated calls\n",
    "event = knl(queue, [dim,], None, x_buf, y_buf, val_out_buf, np.uint32(topk), x_idx_buf, y_idx_buf)\n",
    "\n",
    "#event.wait()\n",
    "val_out = np.zeros(topk*topk).astype(np.float32)\n",
    "resxidx = np.zeros(topk).astype(np.uint32)\n",
    "resyidx = np.zeros(topk).astype(np.uint32)\n",
    "\n",
    "cl.enqueue_copy(queue, val_out, val_out_buf)\n",
    "cl.enqueue_copy(queue, resxidx, x_idx_buf, wait_for=[event])\n",
    "cl.enqueue_copy(queue, resyidx, y_idx_buf)"
   ]
  },
  {
   "cell_type": "code",
   "execution_count": null,
   "id": "d883394f",
   "metadata": {},
   "outputs": [],
   "source": [
    "val_out"
   ]
  },
  {
   "cell_type": "code",
   "execution_count": null,
   "id": "2335cf69",
   "metadata": {},
   "outputs": [],
   "source": [
    "resxidx"
   ]
  },
  {
   "cell_type": "code",
   "execution_count": null,
   "id": "5e714f2a",
   "metadata": {},
   "outputs": [],
   "source": [
    "resyidx"
   ]
  },
  {
   "cell_type": "code",
   "execution_count": null,
   "id": "f246c208",
   "metadata": {},
   "outputs": [],
   "source": [
    "asdf"
   ]
  },
  {
   "cell_type": "code",
   "execution_count": null,
   "id": "02a5c5dd",
   "metadata": {},
   "outputs": [],
   "source": [
    "from __future__ import division\n",
    "\n",
    "KERNEL_CODE = \"\"\"\n",
    "// Thread block size\n",
    "#define BLOCK_SIZE %(block_size)d\n",
    "// Matrix dimensions\n",
    "// (chosen as multiples of the thread block size for simplicity)\n",
    "#define WA %(w_a)d // Matrix A width\n",
    "#define HA %(h_a)d // Matrix A height\n",
    "#define WB %(w_b)d // Matrix B width\n",
    "#define HB WA  // Matrix B height\n",
    "#define WC WB  // Matrix C width\n",
    "#define HC HA  // Matrix C height\n",
    "/*\n",
    " * Copyright 1993-2009 NVIDIA Corporation.  All rights reserved.\n",
    " *\n",
    " * NVIDIA Corporation and its licensors retain all intellectual property and\n",
    " * proprietary rights in and to this software and related documentation.\n",
    " * Any use, reproduction, disclosure, or distribution of this software\n",
    " * and related documentation without an express license agreement from\n",
    " * NVIDIA Corporation is strictly prohibited.\n",
    " *\n",
    " * Please refer to the applicable NVIDIA end user license agreement (EULA)\n",
    " * associated with this source code for terms and conditions that govern\n",
    " * your use of this NVIDIA software.\n",
    " *\n",
    " */\n",
    "/* Matrix multiplication: C = A * B.\n",
    " * Device code.\n",
    " */\n",
    "#define AS(j, i) As[i + j * BLOCK_SIZE]\n",
    "#define BS(j, i) Bs[i + j * BLOCK_SIZE]\n",
    "////////////////////////////////////////////////////////////////////////////////\n",
    "//! Matrix multiplication on the device: C = A * B\n",
    "//! WA is A's width and WB is B's width\n",
    "////////////////////////////////////////////////////////////////////////////////\n",
    "__kernel __attribute__((reqd_work_group_size(16,16,1))) \n",
    "void\n",
    "matrixMul( __global float* C, __global float* A, __global float* B)\n",
    "{\n",
    "    __local float As[BLOCK_SIZE*BLOCK_SIZE];\n",
    "    __local float Bs[BLOCK_SIZE*BLOCK_SIZE];\n",
    "    // Block index\n",
    "    int bx = get_group_id(0);\n",
    "    int by = get_group_id(1);\n",
    "    // Thread index\n",
    "    int tx = get_local_id(0);\n",
    "    int ty = get_local_id(1);\n",
    "    // Index of the first sub-matrix of A processed by the block\n",
    "    int aBegin = WA * BLOCK_SIZE * by;\n",
    "    // Index of the last sub-matrix of A processed by the block\n",
    "    int aEnd   = aBegin + WA - 1;\n",
    "    // Step size used to iterate through the sub-matrices of A\n",
    "    int aStep  = BLOCK_SIZE;\n",
    "    // Index of the first sub-matrix of B processed by the block\n",
    "    int bBegin = BLOCK_SIZE * bx;\n",
    "    // Step size used to iterate through the sub-matrices of B\n",
    "    int bStep  = BLOCK_SIZE * WB;\n",
    "    // Csub is used to store the element of the block sub-matrix\n",
    "    // that is computed by the thread\n",
    "    float Csub = 0.0f;\n",
    "    // Loop over all the sub-matrices of A and B\n",
    "    // required to compute the block sub-matrix\n",
    "    for (int a = aBegin, b = bBegin;\n",
    "             a <= aEnd;\n",
    "             a += aStep, b += bStep) {\n",
    "        // Load the matrices from device memory\n",
    "        // to shared memory; each thread loads\n",
    "        // one element of each matrix\n",
    "        AS(ty, tx) = A[a + WA * ty + tx];\n",
    "        BS(ty, tx) = B[b + WB * ty + tx];\n",
    "        // Synchronize to make sure the matrices are loaded\n",
    "        barrier(CLK_LOCAL_MEM_FENCE);\n",
    "        // Multiply the two matrices together;\n",
    "        // each thread computes one element\n",
    "        // of the block sub-matrix\n",
    "        for (int k = 0; k < BLOCK_SIZE; ++k)\n",
    "            Csub += AS(ty, k) * BS(k, tx);\n",
    "        // Synchronize to make sure that the preceding\n",
    "        // computation is done before loading two new\n",
    "        // sub-matrices of A and B in the next iteration\n",
    "        barrier(CLK_LOCAL_MEM_FENCE);\n",
    "    }\n",
    "    // Write the block sub-matrix to device memory;\n",
    "    // each thread writes one element\n",
    "    C[get_global_id(1) * get_global_size(0) + get_global_id(0)] = Csub;\n",
    "}\n",
    "\"\"\"\n"
   ]
  },
  {
   "cell_type": "code",
   "execution_count": null,
   "id": "c1eb509e",
   "metadata": {},
   "outputs": [],
   "source": []
  },
  {
   "cell_type": "code",
   "execution_count": null,
   "id": "77b4a04e",
   "metadata": {},
   "outputs": [],
   "source": []
  },
  {
   "cell_type": "code",
   "execution_count": null,
   "id": "a0521855",
   "metadata": {},
   "outputs": [],
   "source": []
  },
  {
   "cell_type": "code",
   "execution_count": null,
   "id": "9a61206e",
   "metadata": {},
   "outputs": [],
   "source": []
  },
  {
   "cell_type": "code",
   "execution_count": null,
   "id": "16d754cb",
   "metadata": {},
   "outputs": [],
   "source": []
  },
  {
   "cell_type": "code",
   "execution_count": null,
   "id": "c91d5425",
   "metadata": {},
   "outputs": [],
   "source": []
  },
  {
   "cell_type": "code",
   "execution_count": null,
   "id": "d9f4a6f0",
   "metadata": {},
   "outputs": [],
   "source": []
  },
  {
   "cell_type": "code",
   "execution_count": null,
   "id": "9f708713",
   "metadata": {},
   "outputs": [],
   "source": []
  },
  {
   "cell_type": "code",
   "execution_count": null,
   "id": "e59475d1",
   "metadata": {},
   "outputs": [],
   "source": []
  },
  {
   "cell_type": "code",
   "execution_count": null,
   "id": "3dd6c3a3",
   "metadata": {},
   "outputs": [],
   "source": []
  },
  {
   "cell_type": "code",
   "execution_count": null,
   "id": "7e83b426",
   "metadata": {},
   "outputs": [],
   "source": []
  },
  {
   "cell_type": "code",
   "execution_count": null,
   "id": "af6af470",
   "metadata": {},
   "outputs": [],
   "source": []
  },
  {
   "cell_type": "code",
   "execution_count": null,
   "id": "e2b3a039",
   "metadata": {},
   "outputs": [],
   "source": []
  },
  {
   "cell_type": "code",
   "execution_count": null,
   "id": "2da19095",
   "metadata": {},
   "outputs": [],
   "source": []
  }
 ],
 "metadata": {
  "kernelspec": {
   "display_name": "Python 3",
   "language": "python",
   "name": "python3"
  },
  "language_info": {
   "codemirror_mode": {
    "name": "ipython",
    "version": 3
   },
   "file_extension": ".py",
   "mimetype": "text/x-python",
   "name": "python",
   "nbconvert_exporter": "python",
   "pygments_lexer": "ipython3",
   "version": "3.8.12"
  }
 },
 "nbformat": 4,
 "nbformat_minor": 5
}
