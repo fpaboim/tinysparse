{
 "cells": [
  {
   "cell_type": "code",
   "execution_count": 1,
   "id": "4309590e",
   "metadata": {},
   "outputs": [
    {
     "name": "stdout",
     "output_type": "stream",
     "text": [
      "DEVICE:GPU\n"
     ]
    }
   ],
   "source": [
    "from tinygrad.densetensor import DenseTensor\n",
    "from tinygrad.sparsetensor import SparseTensor\n",
    "import numpy as np\n",
    "\n",
    "%load_ext autoreload\n",
    "%autoreload 2"
   ]
  },
  {
   "cell_type": "code",
   "execution_count": 2,
   "id": "4cb532fa",
   "metadata": {},
   "outputs": [],
   "source": [
    "x_init = np.random.randn(2,6).astype(np.float32)\n",
    "x2_init = np.random.randn(3).astype(np.float32)\n",
    "U_init = np.random.randn(3,3).astype(np.float32)\n",
    "V_init = np.random.randn(3,3).astype(np.float32)\n",
    "W_init = np.random.randn(6,3).astype(np.float32)\n",
    "m_init = np.random.randn(1,3).astype(np.float32)"
   ]
  },
  {
   "cell_type": "code",
   "execution_count": 3,
   "id": "3fb8a745",
   "metadata": {},
   "outputs": [
    {
     "data": {
      "text/plain": [
       "(array([-1.8180904], dtype=float32),\n",
       " <DenseTensor <GPUBuffer with shape (2, 6)> with grad <GPUBuffer with shape (2, 6)>>)"
      ]
     },
     "execution_count": 3,
     "metadata": {},
     "output_type": "execute_result"
    }
   ],
   "source": [
    "x = DenseTensor(x_init)\n",
    "W = DenseTensor(W_init)\n",
    "m = DenseTensor(m_init)\n",
    "out = x.dot(W).relu()\n",
    "out = out.logsoftmax()\n",
    "out = out.mul(m).add(m).sum()\n",
    "out.backward()\n",
    "\n",
    "out.cpu().data, x"
   ]
  },
  {
   "cell_type": "markdown",
   "id": "62d0edbe",
   "metadata": {
    "scrolled": true
   },
   "source": [
    "x2 = DenseTensor(x2_init)#.gpu()\n",
    "W = SparseTensor(W_init)\n",
    "out = W.dot(x2).relu().sum()\n",
    "\n",
    "out.backward()\n",
    "\n",
    "out.cpu().data, x"
   ]
  },
  {
   "cell_type": "code",
   "execution_count": 4,
   "id": "c3d0659d",
   "metadata": {},
   "outputs": [],
   "source": [
    "import numpy as np\n",
    "import pyopencl as cl\n",
    "\n",
    "mf = cl.mem_flags"
   ]
  },
  {
   "cell_type": "code",
   "execution_count": 5,
   "id": "a0cc978b",
   "metadata": {},
   "outputs": [
    {
     "data": {
      "text/plain": [
       "((4, 8), (8, 3))"
      ]
     },
     "execution_count": 5,
     "metadata": {},
     "output_type": "execute_result"
    }
   ],
   "source": [
    "dim1 = 4\n",
    "dim2 = 8\n",
    "dim3 = 3\n",
    "bs = dim3\n",
    "\n",
    "ctx = cl.create_some_context()\n",
    "queue = cl.CommandQueue(ctx,\n",
    "        properties=cl.command_queue_properties.PROFILING_ENABLE)\n",
    "\n",
    "sparsity = 0.2\n",
    "\n",
    "a = np.zeros((dim1,dim2))\n",
    "b = np.random.rand(dim2,dim3).astype(np.float32)\n",
    "\n",
    "a.shape, b.shape"
   ]
  },
  {
   "cell_type": "code",
   "execution_count": 6,
   "id": "7ecf7a2b",
   "metadata": {},
   "outputs": [],
   "source": [
    "def fill_sparse(mat, sparsity=0.1):\n",
    "    indices = np.array(range(mat.shape[1]))\n",
    "    nrows = int(mat.shape[1]*sparsity)\n",
    "    for row in range(mat.shape[0]):\n",
    "        lim = nrows #+ int(np.random.random()*3)\n",
    "        mat[row][np.random.permutation(indices)[:lim]] = np.random.random(lim)\n",
    "    return mat\n",
    "\n",
    "a = fill_sparse(a, 1).astype(np.float32)\n",
    "#b = fill_sparse(b, sparsity)"
   ]
  },
  {
   "cell_type": "code",
   "execution_count": 7,
   "id": "b32f0e9a",
   "metadata": {},
   "outputs": [
    {
     "data": {
      "text/plain": [
       "array([[0.29516777, 0.33338296, 0.2910005 , 0.5361629 , 0.31872442,\n",
       "        0.00900633, 0.53607106, 0.9474776 ],\n",
       "       [0.6204036 , 0.21273285, 0.59999454, 0.7183614 , 0.87148714,\n",
       "        0.69184786, 0.04276368, 0.46898165],\n",
       "       [0.02936536, 0.8756672 , 0.41719204, 0.13531114, 0.09763599,\n",
       "        0.21822612, 0.38778782, 0.0189462 ],\n",
       "       [0.7515835 , 0.12442248, 0.0349297 , 0.37084636, 0.19291036,\n",
       "        0.0798979 , 0.6807204 , 0.61051154]], dtype=float32)"
      ]
     },
     "execution_count": 7,
     "metadata": {},
     "output_type": "execute_result"
    }
   ],
   "source": [
    "a"
   ]
  },
  {
   "cell_type": "code",
   "execution_count": 8,
   "id": "d286d740",
   "metadata": {},
   "outputs": [
    {
     "data": {
      "text/plain": [
       "array([[0.15043414, 0.6196845 , 0.35063207],\n",
       "       [0.4796516 , 0.5857214 , 0.90562654],\n",
       "       [0.08651726, 0.82600874, 0.6354987 ],\n",
       "       [0.74133885, 0.2394775 , 0.5392108 ],\n",
       "       [0.777668  , 0.3423175 , 0.10126331],\n",
       "       [0.2247686 , 0.01690849, 0.9917596 ],\n",
       "       [0.8016237 , 0.904124  , 0.01441843],\n",
       "       [0.88494974, 0.20410454, 0.5339545 ]], dtype=float32)"
      ]
     },
     "execution_count": 8,
     "metadata": {},
     "output_type": "execute_result"
    }
   ],
   "source": [
    "b"
   ]
  },
  {
   "cell_type": "code",
   "execution_count": 9,
   "id": "45c14776",
   "metadata": {},
   "outputs": [
    {
     "data": {
      "text/plain": [
       "array([-0.16161858, -0.3260136 ,  1.5354537 ], dtype=float32)"
      ]
     },
     "execution_count": 9,
     "metadata": {},
     "output_type": "execute_result"
    }
   ],
   "source": [
    "x2_init.T"
   ]
  },
  {
   "cell_type": "code",
   "execution_count": 10,
   "id": "6b2b88a2",
   "metadata": {},
   "outputs": [
    {
     "data": {
      "text/plain": [
       "(4, 3)"
      ]
     },
     "execution_count": 10,
     "metadata": {},
     "output_type": "execute_result"
    }
   ],
   "source": [
    "mult = a.dot(b)\n",
    "mult.shape"
   ]
  },
  {
   "cell_type": "code",
   "execution_count": 11,
   "id": "d33049e0",
   "metadata": {},
   "outputs": [
    {
     "data": {
      "text/plain": [
       "(4, 3)"
      ]
     },
     "execution_count": 11,
     "metadata": {},
     "output_type": "execute_result"
    }
   ],
   "source": [
    "mult.shape"
   ]
  },
  {
   "cell_type": "code",
   "execution_count": 12,
   "id": "67872651",
   "metadata": {},
   "outputs": [],
   "source": [
    "def to_data(mat):\n",
    "    all_rows = []\n",
    "    all_idxs = []\n",
    "    all_nnzs = []\n",
    "    for row in range(mat.shape[0]):\n",
    "        rowdata = []\n",
    "        colidxs = []\n",
    "        all_nnzs.append(0)\n",
    "        for col in range(mat.shape[1]):\n",
    "            val = mat[row][col]\n",
    "            if val != 0:\n",
    "                rowdata.append(val)\n",
    "                colidxs.append(col)\n",
    "                all_nnzs[-1] += 1\n",
    "        all_rows.append(rowdata)\n",
    "        all_idxs.append(colidxs)\n",
    "    \n",
    "    ellwidth = min(int(np.sqrt(np.max(all_nnzs))+1)**2, mat.shape[1])\n",
    "    #all_rows = np.array(all_rows)#.astype(np.float32).flatten()           \n",
    "    for row in range(mat.shape[0]):\n",
    "        #print(row, all_rows)\n",
    "        all_rows[row] = np.array(all_rows[row])\n",
    "        all_rows[row].resize(ellwidth)\n",
    "        all_idxs[row] = np.array(all_idxs[row])\n",
    "        all_idxs[row].resize(ellwidth)\n",
    "        print(all_idxs[row])\n",
    "    all_rows = np.array(all_rows).astype(np.float32).flatten()\n",
    "    print(all_idxs)\n",
    "    all_idxs = np.array(all_idxs).astype(np.uint32).flatten()\n",
    "    all_nnzs = np.array(all_nnzs).astype(np.uint32)\n",
    "    \n",
    "    return all_rows, all_idxs, all_nnzs, ellwidth"
   ]
  },
  {
   "cell_type": "code",
   "execution_count": 13,
   "id": "3cc9dd5d",
   "metadata": {},
   "outputs": [],
   "source": [
    "def to_dense(data, cols, nnzs, ellw, shape):\n",
    "    out = np.zeros(shape)\n",
    "    for row in range(shape[0]):\n",
    "        for icol in range(nnzs[row]):\n",
    "            out[row,cols[row*ellw+icol]] = data[row*ellw+icol]\n",
    "    return out"
   ]
  },
  {
   "cell_type": "code",
   "execution_count": 14,
   "id": "5c9c6134",
   "metadata": {},
   "outputs": [
    {
     "name": "stdout",
     "output_type": "stream",
     "text": [
      "[0 1 2 3 4 5 6 7]\n",
      "[0 1 2 3 4 5 6 7]\n",
      "[0 1 2 3 4 5 6 7]\n",
      "[0 1 2 3 4 5 6 7]\n",
      "[array([0, 1, 2, 3, 4, 5, 6, 7]), array([0, 1, 2, 3, 4, 5, 6, 7]), array([0, 1, 2, 3, 4, 5, 6, 7]), array([0, 1, 2, 3, 4, 5, 6, 7])]\n"
     ]
    },
    {
     "data": {
      "text/plain": [
       "(array([0.29516777, 0.33338296, 0.2910005 , 0.5361629 , 0.31872442,\n",
       "        0.00900633, 0.53607106, 0.9474776 , 0.6204036 , 0.21273285,\n",
       "        0.59999454, 0.7183614 , 0.87148714, 0.69184786, 0.04276368,\n",
       "        0.46898165, 0.02936536, 0.8756672 , 0.41719204, 0.13531114,\n",
       "        0.09763599, 0.21822612, 0.38778782, 0.0189462 , 0.7515835 ,\n",
       "        0.12442248, 0.0349297 , 0.37084636, 0.19291036, 0.0798979 ,\n",
       "        0.6807204 , 0.61051154], dtype=float32),\n",
       " array([0, 1, 2, 3, 4, 5, 6, 7, 0, 1, 2, 3, 4, 5, 6, 7, 0, 1, 2, 3, 4, 5,\n",
       "        6, 7, 0, 1, 2, 3, 4, 5, 6, 7], dtype=uint32),\n",
       " array([8, 8, 8, 8], dtype=uint32),\n",
       " 8)"
      ]
     },
     "execution_count": 14,
     "metadata": {},
     "output_type": "execute_result"
    }
   ],
   "source": [
    "adata, acols, annz, ellwa = to_data(a)\n",
    "adata, acols, annz, ellwa"
   ]
  },
  {
   "cell_type": "code",
   "execution_count": 15,
   "id": "333f732b",
   "metadata": {},
   "outputs": [
    {
     "name": "stdout",
     "output_type": "stream",
     "text": [
      "[0 1 2 3]\n",
      "[0 1 2 3]\n",
      "[0 1 2 3]\n",
      "[0 1 2 3]\n",
      "[0 1 2 3]\n",
      "[0 1 2 3]\n",
      "[0 1 2 3]\n",
      "[0 1 2 3]\n",
      "[array([0, 1, 2, 3]), array([0, 1, 2, 3]), array([0, 1, 2, 3]), array([0, 1, 2, 3]), array([0, 1, 2, 3]), array([0, 1, 2, 3]), array([0, 1, 2, 3]), array([0, 1, 2, 3])]\n"
     ]
    },
    {
     "data": {
      "text/plain": [
       "(array([0.29516777, 0.6204036 , 0.02936536, 0.7515835 , 0.33338296,\n",
       "        0.21273285, 0.8756672 , 0.12442248, 0.2910005 , 0.59999454,\n",
       "        0.41719204, 0.0349297 , 0.5361629 , 0.7183614 , 0.13531114,\n",
       "        0.37084636, 0.31872442, 0.87148714, 0.09763599, 0.19291036,\n",
       "        0.00900633, 0.69184786, 0.21822612, 0.0798979 , 0.53607106,\n",
       "        0.04276368, 0.38778782, 0.6807204 , 0.9474776 , 0.46898165,\n",
       "        0.0189462 , 0.61051154], dtype=float32),\n",
       " array([0, 1, 2, 3, 0, 1, 2, 3, 0, 1, 2, 3, 0, 1, 2, 3, 0, 1, 2, 3, 0, 1,\n",
       "        2, 3, 0, 1, 2, 3, 0, 1, 2, 3], dtype=uint32),\n",
       " array([4, 4, 4, 4, 4, 4, 4, 4], dtype=uint32),\n",
       " 4)"
      ]
     },
     "execution_count": 15,
     "metadata": {},
     "output_type": "execute_result"
    }
   ],
   "source": [
    "adatat, acolst, annzt, ellwat = to_data(a.T)\n",
    "adatat, acolst, annzt, ellwat"
   ]
  },
  {
   "cell_type": "code",
   "execution_count": 16,
   "id": "3746b3f8",
   "metadata": {},
   "outputs": [
    {
     "name": "stdout",
     "output_type": "stream",
     "text": [
      "[0 1 2]\n",
      "[0 1 2]\n",
      "[0 1 2]\n",
      "[0 1 2]\n",
      "[0 1 2]\n",
      "[0 1 2]\n",
      "[0 1 2]\n",
      "[0 1 2]\n",
      "[array([0, 1, 2]), array([0, 1, 2]), array([0, 1, 2]), array([0, 1, 2]), array([0, 1, 2]), array([0, 1, 2]), array([0, 1, 2]), array([0, 1, 2])]\n"
     ]
    },
    {
     "data": {
      "text/plain": [
       "(array([0.15043414, 0.6196845 , 0.35063207, 0.4796516 , 0.5857214 ,\n",
       "        0.90562654, 0.08651726, 0.82600874, 0.6354987 , 0.74133885,\n",
       "        0.2394775 , 0.5392108 , 0.777668  , 0.3423175 , 0.10126331,\n",
       "        0.2247686 , 0.01690849, 0.9917596 , 0.8016237 , 0.904124  ,\n",
       "        0.01441843, 0.88494974, 0.20410454, 0.5339545 ], dtype=float32),\n",
       " array([0, 1, 2, 0, 1, 2, 0, 1, 2, 0, 1, 2, 0, 1, 2, 0, 1, 2, 0, 1, 2, 0,\n",
       "        1, 2], dtype=uint32),\n",
       " array([3, 3, 3, 3, 3, 3, 3, 3], dtype=uint32),\n",
       " 3)"
      ]
     },
     "execution_count": 16,
     "metadata": {},
     "output_type": "execute_result"
    }
   ],
   "source": [
    "bdata, bcols, bnnz, ellwb = to_data(b)\n",
    "bdata, bcols, bnnz, ellwb"
   ]
  },
  {
   "cell_type": "code",
   "execution_count": 17,
   "id": "2456f0d7",
   "metadata": {},
   "outputs": [
    {
     "name": "stdout",
     "output_type": "stream",
     "text": [
      "[0 1 2 3 4 5 6 7]\n",
      "[0 1 2 3 4 5 6 7]\n",
      "[0 1 2 3 4 5 6 7]\n",
      "[array([0, 1, 2, 3, 4, 5, 6, 7]), array([0, 1, 2, 3, 4, 5, 6, 7]), array([0, 1, 2, 3, 4, 5, 6, 7])]\n"
     ]
    },
    {
     "data": {
      "text/plain": [
       "(array([0.29516777, 0.6204036 , 0.02936536, 0.7515835 , 0.33338296,\n",
       "        0.21273285, 0.8756672 , 0.12442248, 0.2910005 , 0.59999454,\n",
       "        0.41719204, 0.0349297 , 0.5361629 , 0.7183614 , 0.13531114,\n",
       "        0.37084636, 0.31872442, 0.87148714, 0.09763599, 0.19291036,\n",
       "        0.00900633, 0.69184786, 0.21822612, 0.0798979 , 0.53607106,\n",
       "        0.04276368, 0.38778782, 0.6807204 , 0.9474776 , 0.46898165,\n",
       "        0.0189462 , 0.61051154], dtype=float32),\n",
       " array([0, 1, 2, 3, 4, 5, 6, 7, 0, 1, 2, 3, 4, 5, 6, 7, 0, 1, 2, 3, 4, 5,\n",
       "        6, 7], dtype=uint32),\n",
       " array([8, 8, 8], dtype=uint32),\n",
       " 8)"
      ]
     },
     "execution_count": 17,
     "metadata": {},
     "output_type": "execute_result"
    }
   ],
   "source": [
    "bdatat, bcolst, bnnzt, ellwbt = to_data(b.T)\n",
    "adatat, bcolst, bnnzt, ellwbt"
   ]
  },
  {
   "cell_type": "code",
   "execution_count": 18,
   "id": "a21f8921",
   "metadata": {},
   "outputs": [],
   "source": [
    "adense = to_dense(adata, acols, annz, ellwa, a.shape)"
   ]
  },
  {
   "cell_type": "code",
   "execution_count": 19,
   "id": "afddd45e",
   "metadata": {},
   "outputs": [],
   "source": [
    "adenset = to_dense(adatat, acolst, annzt, ellwat, a.T.shape)"
   ]
  },
  {
   "cell_type": "code",
   "execution_count": 20,
   "id": "265ef0d4",
   "metadata": {},
   "outputs": [],
   "source": [
    "bdense = to_dense(bdata, bcols, bnnz, ellwb, b.shape)"
   ]
  },
  {
   "cell_type": "code",
   "execution_count": 21,
   "id": "409da6b5",
   "metadata": {},
   "outputs": [],
   "source": [
    "bdenset = to_dense(bdatat, bcolst, bnnzt, ellwbt, b.T.shape)"
   ]
  },
  {
   "cell_type": "code",
   "execution_count": 22,
   "id": "1c04d184",
   "metadata": {},
   "outputs": [
    {
     "data": {
      "text/plain": [
       "array([[0.29516777, 0.33338296, 0.29100049, 0.53616291, 0.31872442,\n",
       "        0.00900633, 0.53607106, 0.94747758],\n",
       "       [0.62040359, 0.21273285, 0.59999454, 0.71836138, 0.87148714,\n",
       "        0.69184786, 0.04276368, 0.46898165],\n",
       "       [0.02936536, 0.87566721, 0.41719204, 0.13531114, 0.09763599,\n",
       "        0.21822612, 0.38778782, 0.0189462 ],\n",
       "       [0.75158352, 0.12442248, 0.0349297 , 0.37084636, 0.19291036,\n",
       "        0.0798979 , 0.68072039, 0.61051154]])"
      ]
     },
     "execution_count": 22,
     "metadata": {},
     "output_type": "execute_result"
    }
   ],
   "source": [
    "adense"
   ]
  },
  {
   "cell_type": "code",
   "execution_count": 23,
   "id": "cae2f665",
   "metadata": {},
   "outputs": [
    {
     "data": {
      "text/plain": [
       "array([[ True,  True,  True,  True,  True,  True,  True,  True],\n",
       "       [ True,  True,  True,  True,  True,  True,  True,  True],\n",
       "       [ True,  True,  True,  True,  True,  True,  True,  True],\n",
       "       [ True,  True,  True,  True,  True,  True,  True,  True]])"
      ]
     },
     "execution_count": 23,
     "metadata": {},
     "output_type": "execute_result"
    }
   ],
   "source": [
    "adenset.T == adense"
   ]
  },
  {
   "cell_type": "code",
   "execution_count": 24,
   "id": "9f2ada6f",
   "metadata": {},
   "outputs": [
    {
     "data": {
      "text/plain": [
       "array([[ True,  True,  True],\n",
       "       [ True,  True,  True],\n",
       "       [ True,  True,  True],\n",
       "       [ True,  True,  True],\n",
       "       [ True,  True,  True],\n",
       "       [ True,  True,  True],\n",
       "       [ True,  True,  True],\n",
       "       [ True,  True,  True]])"
      ]
     },
     "execution_count": 24,
     "metadata": {},
     "output_type": "execute_result"
    }
   ],
   "source": [
    "bdenset.T == bdense"
   ]
  },
  {
   "cell_type": "code",
   "execution_count": 25,
   "id": "570652a8",
   "metadata": {},
   "outputs": [
    {
     "data": {
      "text/plain": [
       "array([[0.29516777, 0.33338296, 0.2910005 , 0.5361629 , 0.31872442,\n",
       "        0.00900633, 0.53607106, 0.9474776 ],\n",
       "       [0.6204036 , 0.21273285, 0.59999454, 0.7183614 , 0.87148714,\n",
       "        0.69184786, 0.04276368, 0.46898165],\n",
       "       [0.02936536, 0.8756672 , 0.41719204, 0.13531114, 0.09763599,\n",
       "        0.21822612, 0.38778782, 0.0189462 ],\n",
       "       [0.7515835 , 0.12442248, 0.0349297 , 0.37084636, 0.19291036,\n",
       "        0.0798979 , 0.6807204 , 0.61051154]], dtype=float32)"
      ]
     },
     "execution_count": 25,
     "metadata": {},
     "output_type": "execute_result"
    }
   ],
   "source": [
    "a"
   ]
  },
  {
   "cell_type": "code",
   "execution_count": 26,
   "id": "b3828f92",
   "metadata": {},
   "outputs": [
    {
     "data": {
      "text/plain": [
       "array([[ True,  True,  True,  True,  True,  True,  True,  True],\n",
       "       [ True,  True,  True,  True,  True,  True,  True,  True],\n",
       "       [ True,  True,  True,  True,  True,  True,  True,  True],\n",
       "       [ True,  True,  True,  True,  True,  True,  True,  True]])"
      ]
     },
     "execution_count": 26,
     "metadata": {},
     "output_type": "execute_result"
    }
   ],
   "source": [
    "a == adense"
   ]
  },
  {
   "cell_type": "code",
   "execution_count": 27,
   "id": "d8e29e3c",
   "metadata": {},
   "outputs": [
    {
     "data": {
      "text/plain": [
       "(4, 8)"
      ]
     },
     "execution_count": 27,
     "metadata": {},
     "output_type": "execute_result"
    }
   ],
   "source": [
    "a.shape"
   ]
  },
  {
   "cell_type": "code",
   "execution_count": 28,
   "id": "233fb7fe",
   "metadata": {},
   "outputs": [
    {
     "data": {
      "text/plain": [
       "((32,), (32,), (4,), 8)"
      ]
     },
     "execution_count": 28,
     "metadata": {},
     "output_type": "execute_result"
    }
   ],
   "source": [
    "adata.shape, acols.shape, annz.shape, ellwa"
   ]
  },
  {
   "cell_type": "code",
   "execution_count": 29,
   "id": "fbb29574",
   "metadata": {},
   "outputs": [],
   "source": [
    "#acols = acols.astype(np.uint32)\n",
    "#annz = annz.astype(np.uint32)"
   ]
  },
  {
   "cell_type": "code",
   "execution_count": 30,
   "id": "008c1a26",
   "metadata": {},
   "outputs": [
    {
     "data": {
      "text/plain": [
       "(array([0.29516777, 0.33338296, 0.2910005 , 0.5361629 , 0.31872442,\n",
       "        0.00900633, 0.53607106, 0.9474776 , 0.6204036 , 0.21273285,\n",
       "        0.59999454, 0.7183614 , 0.87148714, 0.69184786, 0.04276368,\n",
       "        0.46898165, 0.02936536, 0.8756672 , 0.41719204, 0.13531114,\n",
       "        0.09763599, 0.21822612, 0.38778782, 0.0189462 , 0.7515835 ,\n",
       "        0.12442248, 0.0349297 , 0.37084636, 0.19291036, 0.0798979 ,\n",
       "        0.6807204 , 0.61051154], dtype=float32),\n",
       " array([0, 1, 2, 3, 4, 5, 6, 7, 0, 1, 2, 3, 4, 5, 6, 7, 0, 1, 2, 3, 4, 5,\n",
       "        6, 7, 0, 1, 2, 3, 4, 5, 6, 7], dtype=uint32),\n",
       " array([8, 8, 8, 8], dtype=uint32),\n",
       " array([[0.15043414, 0.6196845 , 0.35063207],\n",
       "        [0.4796516 , 0.5857214 , 0.90562654],\n",
       "        [0.08651726, 0.82600874, 0.6354987 ],\n",
       "        [0.74133885, 0.2394775 , 0.5392108 ],\n",
       "        [0.777668  , 0.3423175 , 0.10126331],\n",
       "        [0.2247686 , 0.01690849, 0.9917596 ],\n",
       "        [0.8016237 , 0.904124  , 0.01441843],\n",
       "        [0.88494974, 0.20410454, 0.5339545 ]], dtype=float32))"
      ]
     },
     "execution_count": 30,
     "metadata": {},
     "output_type": "execute_result"
    }
   ],
   "source": [
    "adata, acols, annz, b"
   ]
  },
  {
   "cell_type": "markdown",
   "id": "0c247b79",
   "metadata": {},
   "source": [
    "## MatMul (Sparse-Dense)"
   ]
  },
  {
   "cell_type": "markdown",
   "id": "aad78213",
   "metadata": {},
   "source": [
    "adata_buf = cl.Buffer(ctx, mf.READ_WRITE | mf.COPY_HOST_PTR, hostbuf=adata)\n",
    "acols_buf = cl.Buffer(ctx, mf.READ_WRITE | mf.COPY_HOST_PTR, hostbuf=acols)\n",
    "annzs_buf = cl.Buffer(ctx, mf.READ_WRITE | mf.COPY_HOST_PTR, hostbuf=annz)\n",
    "adatat_buf = cl.Buffer(ctx, mf.READ_WRITE | mf.COPY_HOST_PTR, hostbuf=adatat)\n",
    "acolst_buf = cl.Buffer(ctx, mf.READ_WRITE | mf.COPY_HOST_PTR, hostbuf=acolst)\n",
    "annzst_buf = cl.Buffer(ctx, mf.READ_WRITE | mf.COPY_HOST_PTR, hostbuf=annzt)\n",
    "b_buf = cl.Buffer(ctx, mf.READ_WRITE | mf.COPY_HOST_PTR, hostbuf=b)\n",
    "\n",
    "prg = cl.Program(ctx, \"\"\"\n",
    "    // SPARSE x DENSE\n",
    "    __kernel void matmul2(__global  float* matData,     // INPUT MATRIX DATA\n",
    "                            __global  uint*  colIdx,\n",
    "                            __global  uint*  rowNnz,\n",
    "                            uint   ellwidth,\n",
    "                            uint ncols,\n",
    "                            __global  float* vector_x,    // INPUT\n",
    "                            __global  float* vector_y    // OUTPUT\n",
    "                            ) { // LOCAL SHARED BUFFER\n",
    "      uint gid = get_global_id(0);\n",
    "      uint nrows = get_global_size(0);\n",
    "      \n",
    "\n",
    "      uint nnz    = rowNnz[gid];\n",
    "      float sum = 0;\n",
    "      for (uint gid2 = 0; gid2 < ncols; gid2++) {\n",
    "        for (uint i = 0; i < nnz; i++) {\n",
    "          uint index   = (gid * ellwidth) + i;\n",
    "          uint col     = colIdx[index];\n",
    "          float aval  = matData[index];\n",
    "          float xval  = vector_x[col*ncols+gid2];\n",
    "          //if (gid==0 && gid2==2)\n",
    "          //  printf(\"aval, xval: %.2f,%.2f: (%i,%i) \\\\n\", aval, xval, col, index);\n",
    "          sum  += aval * xval;\n",
    "        }\n",
    "        //printf(\"SUM/NNZ: %.2f %i \\\\n\", sum, nnz);\n",
    "        vector_y[gid*ncols+gid2] = sum;\n",
    "      }\n",
    "    }\"\"\").build()"
   ]
  },
  {
   "cell_type": "code",
   "execution_count": 31,
   "id": "fb0ca1f4",
   "metadata": {},
   "outputs": [],
   "source": [
    "adata_buf = cl.Buffer(ctx, mf.READ_WRITE | mf.COPY_HOST_PTR, hostbuf=adata)\n",
    "acols_buf = cl.Buffer(ctx, mf.READ_WRITE | mf.COPY_HOST_PTR, hostbuf=acols)\n",
    "annzs_buf = cl.Buffer(ctx, mf.READ_WRITE | mf.COPY_HOST_PTR, hostbuf=annz)\n",
    "adatat_buf = cl.Buffer(ctx, mf.READ_WRITE | mf.COPY_HOST_PTR, hostbuf=adatat)\n",
    "acolst_buf = cl.Buffer(ctx, mf.READ_WRITE | mf.COPY_HOST_PTR, hostbuf=acolst)\n",
    "annzst_buf = cl.Buffer(ctx, mf.READ_WRITE | mf.COPY_HOST_PTR, hostbuf=annzt)\n",
    "b_buf = cl.Buffer(ctx, mf.READ_WRITE | mf.COPY_HOST_PTR, hostbuf=b)\n",
    "\n",
    "prg = cl.Program(ctx, \"\"\"\n",
    "    // SPARSE x DENSE\n",
    "    __kernel void matmul2(__global  float* matData,     // INPUT MATRIX DATA\n",
    "                            __global  uint*  colIdx,\n",
    "                            __global  uint*  rowNnz,\n",
    "                            uint   ellwidth,\n",
    "                            uint ncols,\n",
    "                            __global  float* vector_x,    // INPUT\n",
    "                            __global  float* vector_y    // OUTPUT\n",
    "                            ) { // LOCAL SHARED BUFFER\n",
    "      uint gid = get_global_id(0);\n",
    "      uint nrows = get_global_size(0);\n",
    "      \n",
    "\n",
    "      uint nnz    = rowNnz[gid];\n",
    "      float sum = 0;\n",
    "      for (uint gid2 = 0; gid2 < ncols; gid2++) {\n",
    "        for (uint i = 0; i < nnz; i++) {\n",
    "          uint index   = (gid * ellwidth) + i;\n",
    "          uint col     = colIdx[index];\n",
    "          float aval  = matData[index];\n",
    "          float xval  = vector_x[col*ncols+gid2];\n",
    "          if (gid==0 && gid2==1)\n",
    "            printf(\"aval, xval: %.2f,%.2f: (%i,%i) \\\\n\", aval, xval, col, index);\n",
    "          sum  += aval * xval;\n",
    "        }\n",
    "        //printf(\"SUM/NNZ: %.2f %i \\\\n\", sum, nnz);\n",
    "        vector_y[gid*ncols+gid2] = sum;\n",
    "      }\n",
    "    }\"\"\").build()"
   ]
  },
  {
   "cell_type": "code",
   "execution_count": 32,
   "id": "b4c85bcb",
   "metadata": {},
   "outputs": [
    {
     "data": {
      "text/plain": [
       "((4, 8), (8, 3))"
      ]
     },
     "execution_count": 32,
     "metadata": {},
     "output_type": "execute_result"
    }
   ],
   "source": [
    "a.shape, b.shape"
   ]
  },
  {
   "cell_type": "code",
   "execution_count": 33,
   "id": "c740a4fe",
   "metadata": {},
   "outputs": [],
   "source": [
    "res = np.zeros(a.shape[0]).astype(np.float32)\n",
    "#res"
   ]
  },
  {
   "cell_type": "code",
   "execution_count": 34,
   "id": "07aa4d30",
   "metadata": {},
   "outputs": [],
   "source": [
    "rows = a.shape[0]"
   ]
  },
  {
   "cell_type": "code",
   "execution_count": 35,
   "id": "98da857f",
   "metadata": {},
   "outputs": [],
   "source": [
    "mult = mult.astype(np.float32)"
   ]
  },
  {
   "cell_type": "code",
   "execution_count": 36,
   "id": "350bdb16",
   "metadata": {},
   "outputs": [
    {
     "data": {
      "text/plain": [
       "(4, 3)"
      ]
     },
     "execution_count": 36,
     "metadata": {},
     "output_type": "execute_result"
    }
   ],
   "source": [
    "outshape = (a.shape[0], b.shape[1])\n",
    "outshape"
   ]
  },
  {
   "cell_type": "code",
   "execution_count": 37,
   "id": "cc7365fc",
   "metadata": {},
   "outputs": [
    {
     "name": "stdout",
     "output_type": "stream",
     "text": [
      "aval, xval: 0.30,0.62: (0,0) \n",
      "aval, xval: 0.33,0.59: (1,1) \n",
      "aval, xval: 0.29,0.83: (2,2) \n",
      "aval, xval: 0.54,0.24: (3,3) \n",
      "aval, xval: 0.32,0.34: (4,4) \n",
      "aval, xval: 0.01,0.02: (5,5) \n",
      "aval, xval: 0.54,0.90: (6,6) \n",
      "aval, xval: 0.95,0.20: (7,7) \n"
     ]
    },
    {
     "data": {
      "text/plain": [
       "<pyopencl._cl.NannyEvent at 0x7f1c7404a6d0>"
      ]
     },
     "execution_count": 37,
     "metadata": {},
     "output_type": "execute_result"
    }
   ],
   "source": [
    "res_buf = cl.Buffer(ctx, mf.READ_WRITE, np.prod(outshape)*4)\n",
    "knl = prg.matmul2  # Use this Kernel object for repeated calls\n",
    "knl(queue, [outshape[0]], None, adata_buf, acols_buf, annzs_buf, np.uint32(ellwa), np.uint32(outshape[1]), b_buf, res_buf)\n",
    "\n",
    "res_np = np.zeros(outshape).astype(np.float32)\n",
    "cl.enqueue_copy(queue, res_np, res_buf)"
   ]
  },
  {
   "cell_type": "code",
   "execution_count": 38,
   "id": "e2181f67",
   "metadata": {},
   "outputs": [
    {
     "data": {
      "text/plain": [
       "19.769743"
      ]
     },
     "execution_count": 38,
     "metadata": {},
     "output_type": "execute_result"
    }
   ],
   "source": [
    "(res_np-mult).sum()"
   ]
  },
  {
   "cell_type": "code",
   "execution_count": 39,
   "id": "79390719",
   "metadata": {},
   "outputs": [
    {
     "data": {
      "text/plain": [
       "array([[0.29516777, 0.33338296, 0.2910005 , 0.5361629 , 0.31872442,\n",
       "        0.00900633, 0.53607106, 0.9474776 ],\n",
       "       [0.6204036 , 0.21273285, 0.59999454, 0.7183614 , 0.87148714,\n",
       "        0.69184786, 0.04276368, 0.46898165],\n",
       "       [0.02936536, 0.8756672 , 0.41719204, 0.13531114, 0.09763599,\n",
       "        0.21822612, 0.38778782, 0.0189462 ],\n",
       "       [0.7515835 , 0.12442248, 0.0349297 , 0.37084636, 0.19291036,\n",
       "        0.0798979 , 0.6807204 , 0.61051154]], dtype=float32)"
      ]
     },
     "execution_count": 39,
     "metadata": {},
     "output_type": "execute_result"
    }
   ],
   "source": [
    "a"
   ]
  },
  {
   "cell_type": "code",
   "execution_count": 40,
   "id": "a53bcc0b",
   "metadata": {},
   "outputs": [
    {
     "data": {
      "text/plain": [
       "array([[0.15043414, 0.6196845 , 0.35063207],\n",
       "       [0.4796516 , 0.5857214 , 0.90562654],\n",
       "       [0.08651726, 0.82600874, 0.6354987 ],\n",
       "       [0.74133885, 0.2394775 , 0.5392108 ],\n",
       "       [0.777668  , 0.3423175 , 0.10126331],\n",
       "       [0.2247686 , 0.01690849, 0.9917596 ],\n",
       "       [0.8016237 , 0.904124  , 0.01441843],\n",
       "       [0.88494974, 0.20410454, 0.5339545 ]], dtype=float32)"
      ]
     },
     "execution_count": 40,
     "metadata": {},
     "output_type": "execute_result"
    }
   ],
   "source": [
    "b"
   ]
  },
  {
   "cell_type": "code",
   "execution_count": 41,
   "id": "33d8a584",
   "metadata": {},
   "outputs": [
    {
     "data": {
      "text/plain": [
       "<pyopencl._cl.Buffer at 0x7f1c7404ff40>"
      ]
     },
     "execution_count": 41,
     "metadata": {},
     "output_type": "execute_result"
    }
   ],
   "source": [
    "res_buf"
   ]
  },
  {
   "cell_type": "code",
   "execution_count": 42,
   "id": "99faec15",
   "metadata": {},
   "outputs": [
    {
     "data": {
      "text/plain": [
       "array([[2.1450493, 3.679314 , 5.1136117],\n",
       "       [2.0623655, 3.6834624, 5.887724 ],\n",
       "       [1.0134436, 2.3131337, 3.6965663],\n",
       "       [1.7046205, 3.168355 , 4.201301 ]], dtype=float32)"
      ]
     },
     "execution_count": 42,
     "metadata": {},
     "output_type": "execute_result"
    }
   ],
   "source": [
    "res_np"
   ]
  },
  {
   "cell_type": "code",
   "execution_count": 43,
   "id": "4da1c066",
   "metadata": {},
   "outputs": [
    {
     "data": {
      "text/plain": [
       "array([[2.1450493, 1.5342648, 1.4342973],\n",
       "       [2.0623655, 1.6210971, 2.2042618],\n",
       "       [1.0134436, 1.2996901, 1.3834326],\n",
       "       [1.7046205, 1.4637345, 1.0329463]], dtype=float32)"
      ]
     },
     "execution_count": 43,
     "metadata": {},
     "output_type": "execute_result"
    }
   ],
   "source": [
    "mult"
   ]
  },
  {
   "cell_type": "code",
   "execution_count": 44,
   "id": "0ca8d088",
   "metadata": {},
   "outputs": [
    {
     "data": {
      "text/plain": [
       "array([[ True, False, False],\n",
       "       [ True, False, False],\n",
       "       [ True, False, False],\n",
       "       [ True, False, False]])"
      ]
     },
     "execution_count": 44,
     "metadata": {},
     "output_type": "execute_result"
    }
   ],
   "source": [
    "res_np==mult"
   ]
  },
  {
   "cell_type": "code",
   "execution_count": 45,
   "id": "c197fea2",
   "metadata": {},
   "outputs": [
    {
     "data": {
      "text/plain": [
       "(4, 3)"
      ]
     },
     "execution_count": 45,
     "metadata": {},
     "output_type": "execute_result"
    }
   ],
   "source": [
    "res_np.shape"
   ]
  },
  {
   "cell_type": "code",
   "execution_count": 46,
   "id": "b20b9da3",
   "metadata": {},
   "outputs": [
    {
     "data": {
      "text/plain": [
       "(4, 3)"
      ]
     },
     "execution_count": 46,
     "metadata": {},
     "output_type": "execute_result"
    }
   ],
   "source": [
    "mult.shape"
   ]
  },
  {
   "cell_type": "markdown",
   "id": "020471e7",
   "metadata": {},
   "source": [
    "## MatMul (dense * sparse)"
   ]
  },
  {
   "cell_type": "code",
   "execution_count": 47,
   "id": "dc619c6d",
   "metadata": {},
   "outputs": [],
   "source": [
    "bdata_buf = cl.Buffer(ctx, mf.READ_WRITE | mf.COPY_HOST_PTR, hostbuf=bdata)\n",
    "bcols_buf = cl.Buffer(ctx, mf.READ_WRITE | mf.COPY_HOST_PTR, hostbuf=bcols)\n",
    "bnnzs_buf = cl.Buffer(ctx, mf.READ_WRITE | mf.COPY_HOST_PTR, hostbuf=bnnz)\n",
    "bdatat_buf = cl.Buffer(ctx, mf.READ_WRITE | mf.COPY_HOST_PTR, hostbuf=bdatat)\n",
    "bcolst_buf = cl.Buffer(ctx, mf.READ_WRITE | mf.COPY_HOST_PTR, hostbuf=bcolst)\n",
    "bnnzst_buf = cl.Buffer(ctx, mf.READ_WRITE | mf.COPY_HOST_PTR, hostbuf=bnnzt)\n",
    "a_buf = cl.Buffer(ctx, mf.READ_WRITE | mf.COPY_HOST_PTR, hostbuf=a)\n",
    "\n",
    "prg = cl.Program(ctx, \"\"\"\n",
    "    // DENSE x SPARSE\n",
    "    __kernel void matmul(__global  float* matData,     // INPUT MATRIX DATA\n",
    "                            __global  uint*  colIdx,\n",
    "                            __global  uint*  rowNnz,\n",
    "                            uint   ellwidth,\n",
    "                            uint   mwidth,\n",
    "                            uint   ncols,\n",
    "                            __global  float* vector_x,    // INPUT\n",
    "                            __global  float* vector_y    // OUTPUT\n",
    "                            ) { // LOCAL SHARED BUFFER\n",
    "      uint gid = get_global_id(0);\n",
    "      uint nrows = get_global_size(0);\n",
    "\n",
    "      uint nnz    = rowNnz[gid];\n",
    "      for (uint gid2 = 0; gid2 < ncols; gid2++) {\n",
    "        float sum = 0;\n",
    "        for (uint i = 0; i < mwidth; i++) {\n",
    "          uint index   = (gid2 * ellwidth) + i;\n",
    "          uint col     = colIdx[index];\n",
    "          float aval  = matData[index];\n",
    "          float xval  = vector_x[gid*mwidth+col];\n",
    "          sum  += aval * xval;\n",
    "          if (gid==0 && gid2==0)\n",
    "            printf(\"aval, xval: %.2f,%.2f - %.2f: (%i,%i) \\\\n\", aval, xval, sum, col, index);\n",
    "        }\n",
    "        //printf(\"SUM/NNZ: %.2f %i \\\\n\", sum, nnz);\n",
    "        vector_y[gid*ncols+gid2] = sum;\n",
    "      }\n",
    "    }\"\"\").build()"
   ]
  },
  {
   "cell_type": "code",
   "execution_count": 48,
   "id": "65b33635",
   "metadata": {},
   "outputs": [
    {
     "data": {
      "text/plain": [
       "((4, 8), (8, 3))"
      ]
     },
     "execution_count": 48,
     "metadata": {},
     "output_type": "execute_result"
    }
   ],
   "source": [
    "a.shape, b.shape"
   ]
  },
  {
   "cell_type": "code",
   "execution_count": 49,
   "id": "1133e820",
   "metadata": {},
   "outputs": [],
   "source": [
    "res = np.zeros(a.shape[0]).astype(np.float32)\n",
    "#res"
   ]
  },
  {
   "cell_type": "code",
   "execution_count": 50,
   "id": "c5fb4354",
   "metadata": {},
   "outputs": [],
   "source": [
    "rows = a.shape[0]"
   ]
  },
  {
   "cell_type": "code",
   "execution_count": 51,
   "id": "2d2074e5",
   "metadata": {},
   "outputs": [],
   "source": [
    "mult = mult.astype(np.float32)"
   ]
  },
  {
   "cell_type": "code",
   "execution_count": 52,
   "id": "62207659",
   "metadata": {},
   "outputs": [
    {
     "data": {
      "text/plain": [
       "array([4, 3])"
      ]
     },
     "execution_count": 52,
     "metadata": {},
     "output_type": "execute_result"
    }
   ],
   "source": [
    "outshape = np.array([a.shape[0], b.shape[1]])\n",
    "outshape"
   ]
  },
  {
   "cell_type": "code",
   "execution_count": 53,
   "id": "48bda7d1",
   "metadata": {},
   "outputs": [
    {
     "data": {
      "text/plain": [
       "array([[0.15043414, 0.4796516 , 0.08651726, 0.74133885, 0.777668  ,\n",
       "        0.2247686 , 0.8016237 , 0.88494974],\n",
       "       [0.6196845 , 0.5857214 , 0.82600874, 0.2394775 , 0.3423175 ,\n",
       "        0.01690849, 0.904124  , 0.20410454],\n",
       "       [0.35063207, 0.90562654, 0.6354987 , 0.5392108 , 0.10126331,\n",
       "        0.9917596 , 0.01441843, 0.5339545 ]], dtype=float32)"
      ]
     },
     "execution_count": 53,
     "metadata": {},
     "output_type": "execute_result"
    }
   ],
   "source": [
    "b.T"
   ]
  },
  {
   "cell_type": "code",
   "execution_count": 54,
   "id": "e81754e5",
   "metadata": {},
   "outputs": [
    {
     "data": {
      "text/plain": [
       "array([[0.29516777, 0.6204036 , 0.02936536, 0.7515835 ],\n",
       "       [0.33338296, 0.21273285, 0.8756672 , 0.12442248],\n",
       "       [0.2910005 , 0.59999454, 0.41719204, 0.0349297 ],\n",
       "       [0.5361629 , 0.7183614 , 0.13531114, 0.37084636],\n",
       "       [0.31872442, 0.87148714, 0.09763599, 0.19291036],\n",
       "       [0.00900633, 0.69184786, 0.21822612, 0.0798979 ],\n",
       "       [0.53607106, 0.04276368, 0.38778782, 0.6807204 ],\n",
       "       [0.9474776 , 0.46898165, 0.0189462 , 0.61051154]], dtype=float32)"
      ]
     },
     "execution_count": 54,
     "metadata": {},
     "output_type": "execute_result"
    }
   ],
   "source": [
    "a.T"
   ]
  },
  {
   "cell_type": "code",
   "execution_count": 55,
   "id": "a4aa52cb",
   "metadata": {},
   "outputs": [
    {
     "data": {
      "text/plain": [
       "array([4, 3])"
      ]
     },
     "execution_count": 55,
     "metadata": {},
     "output_type": "execute_result"
    }
   ],
   "source": [
    "outshape.T"
   ]
  },
  {
   "cell_type": "code",
   "execution_count": 56,
   "id": "35754fb9",
   "metadata": {},
   "outputs": [
    {
     "name": "stdout",
     "output_type": "stream",
     "text": [
      "aval, xval: 0.15,0.30 - 0.04: (0,0) \n",
      "aval, xval: 0.48,0.33 - 0.20: (1,1) \n",
      "aval, xval: 0.09,0.29 - 0.23: (2,2) \n",
      "aval, xval: 0.74,0.54 - 0.63: (3,3) \n",
      "aval, xval: 0.78,0.32 - 0.87: (4,4) \n",
      "aval, xval: 0.22,0.01 - 0.88: (5,5) \n",
      "aval, xval: 0.80,0.54 - 1.31: (6,6) \n",
      "aval, xval: 0.88,0.95 - 2.15: (7,7) \n"
     ]
    },
    {
     "data": {
      "text/plain": [
       "<pyopencl._cl.NannyEvent at 0x7f1c7402d400>"
      ]
     },
     "execution_count": 56,
     "metadata": {},
     "output_type": "execute_result"
    }
   ],
   "source": [
    "res_buf = cl.Buffer(ctx, mf.READ_WRITE, np.prod(outshape)*4)\n",
    "knl = prg.matmul  # Use this Kernel object for repeated calls\n",
    "knl(queue, [outshape.T[0]], None, bdatat_buf, bcolst_buf, bnnzst_buf, np.uint32(ellwbt), np.uint32(b.shape[0]), np.uint32(outshape.T[1]), a_buf, res_buf)\n",
    "\n",
    "res_np = np.zeros(outshape).astype(np.float32)\n",
    "cl.enqueue_copy(queue, res_np, res_buf)"
   ]
  },
  {
   "cell_type": "code",
   "execution_count": 57,
   "id": "23cf552a",
   "metadata": {},
   "outputs": [
    {
     "data": {
      "text/plain": [
       "0.0"
      ]
     },
     "execution_count": 57,
     "metadata": {},
     "output_type": "execute_result"
    }
   ],
   "source": [
    "(res_np-mult).sum()"
   ]
  },
  {
   "cell_type": "code",
   "execution_count": 58,
   "id": "99d10b20",
   "metadata": {},
   "outputs": [
    {
     "data": {
      "text/plain": [
       "array([[0.29516777, 0.33338296, 0.2910005 , 0.5361629 , 0.31872442,\n",
       "        0.00900633, 0.53607106, 0.9474776 ],\n",
       "       [0.6204036 , 0.21273285, 0.59999454, 0.7183614 , 0.87148714,\n",
       "        0.69184786, 0.04276368, 0.46898165],\n",
       "       [0.02936536, 0.8756672 , 0.41719204, 0.13531114, 0.09763599,\n",
       "        0.21822612, 0.38778782, 0.0189462 ],\n",
       "       [0.7515835 , 0.12442248, 0.0349297 , 0.37084636, 0.19291036,\n",
       "        0.0798979 , 0.6807204 , 0.61051154]], dtype=float32)"
      ]
     },
     "execution_count": 58,
     "metadata": {},
     "output_type": "execute_result"
    }
   ],
   "source": [
    "a"
   ]
  },
  {
   "cell_type": "code",
   "execution_count": 59,
   "id": "85fb2a81",
   "metadata": {},
   "outputs": [
    {
     "data": {
      "text/plain": [
       "array([[0.15043414, 0.6196845 , 0.35063207],\n",
       "       [0.4796516 , 0.5857214 , 0.90562654],\n",
       "       [0.08651726, 0.82600874, 0.6354987 ],\n",
       "       [0.74133885, 0.2394775 , 0.5392108 ],\n",
       "       [0.777668  , 0.3423175 , 0.10126331],\n",
       "       [0.2247686 , 0.01690849, 0.9917596 ],\n",
       "       [0.8016237 , 0.904124  , 0.01441843],\n",
       "       [0.88494974, 0.20410454, 0.5339545 ]], dtype=float32)"
      ]
     },
     "execution_count": 59,
     "metadata": {},
     "output_type": "execute_result"
    }
   ],
   "source": [
    "b"
   ]
  },
  {
   "cell_type": "code",
   "execution_count": 60,
   "id": "ee65b3de",
   "metadata": {},
   "outputs": [
    {
     "data": {
      "text/plain": [
       "<pyopencl._cl.Buffer at 0x7f1c740589f0>"
      ]
     },
     "execution_count": 60,
     "metadata": {},
     "output_type": "execute_result"
    }
   ],
   "source": [
    "res_buf"
   ]
  },
  {
   "cell_type": "code",
   "execution_count": 61,
   "id": "15e6ab60",
   "metadata": {},
   "outputs": [
    {
     "data": {
      "text/plain": [
       "array([[2.1450493, 1.5342648, 1.4342973],\n",
       "       [2.0623655, 1.6210971, 2.2042618],\n",
       "       [1.0134436, 1.2996901, 1.3834326],\n",
       "       [1.7046205, 1.4637345, 1.0329463]], dtype=float32)"
      ]
     },
     "execution_count": 61,
     "metadata": {},
     "output_type": "execute_result"
    }
   ],
   "source": [
    "res_np"
   ]
  },
  {
   "cell_type": "code",
   "execution_count": 62,
   "id": "ea2ac480",
   "metadata": {},
   "outputs": [
    {
     "data": {
      "text/plain": [
       "array([[2.1450493, 1.5342648, 1.4342973],\n",
       "       [2.0623655, 1.6210971, 2.2042618],\n",
       "       [1.0134436, 1.2996901, 1.3834326],\n",
       "       [1.7046205, 1.4637345, 1.0329463]], dtype=float32)"
      ]
     },
     "execution_count": 62,
     "metadata": {},
     "output_type": "execute_result"
    }
   ],
   "source": [
    "mult"
   ]
  },
  {
   "cell_type": "code",
   "execution_count": 63,
   "id": "232d2e9c",
   "metadata": {},
   "outputs": [
    {
     "data": {
      "text/plain": [
       "array([[ True,  True,  True],\n",
       "       [ True,  True,  True],\n",
       "       [ True,  True,  True],\n",
       "       [ True,  True,  True]])"
      ]
     },
     "execution_count": 63,
     "metadata": {},
     "output_type": "execute_result"
    }
   ],
   "source": [
    "res_np==mult"
   ]
  },
  {
   "cell_type": "code",
   "execution_count": 64,
   "id": "3cc1c589",
   "metadata": {},
   "outputs": [
    {
     "data": {
      "text/plain": [
       "(4, 3)"
      ]
     },
     "execution_count": 64,
     "metadata": {},
     "output_type": "execute_result"
    }
   ],
   "source": [
    "res_np.shape"
   ]
  },
  {
   "cell_type": "code",
   "execution_count": 65,
   "id": "7c621598",
   "metadata": {},
   "outputs": [
    {
     "data": {
      "text/plain": [
       "(4, 3)"
      ]
     },
     "execution_count": 65,
     "metadata": {},
     "output_type": "execute_result"
    }
   ],
   "source": [
    "mult.shape"
   ]
  },
  {
   "cell_type": "markdown",
   "id": "cdc9f0be",
   "metadata": {},
   "source": [
    "# Matmult Dense Dense"
   ]
  },
  {
   "cell_type": "code",
   "execution_count": 66,
   "id": "d3eeacb6",
   "metadata": {},
   "outputs": [],
   "source": [
    "b_buf2 = cl.Buffer(ctx, mf.READ_WRITE | mf.COPY_HOST_PTR, hostbuf=b)\n",
    "a_buf = cl.Buffer(ctx, mf.READ_WRITE | mf.COPY_HOST_PTR, hostbuf=a)\n",
    "\n",
    "prg = cl.Program(ctx, \"\"\"\n",
    "    // multilplies x by y WITH Y TRANSPOSED INDEXING\n",
    "    __kernel void matmul0(__global  float* x,     // INPUT MATRIX DATA\n",
    "                          __global  float* y,    // INPUT\n",
    "                          __global  float* res,    // INPUT\n",
    "                          uint msize\n",
    "                          ) { // LOCAL SHARED BUFFER\n",
    "      uint isize = get_global_size(0);\n",
    "      uint osize = get_global_size(1);\n",
    "      int gidx = get_global_id(0); // row\n",
    "      int gidy = get_global_id(1); // col\n",
    "\n",
    "      float ret = 0.0;\n",
    "      for (int i = 0; i < msize; i++) {\n",
    "        uint xidx = gidx*msize+i; \n",
    "        float xval = x[xidx];\n",
    "        uint yidx = osize*i+gidy;\n",
    "        float yval = y[yidx];\n",
    "        ret += xval*yval;\n",
    "        if (gidx==0 && gidy==0)\n",
    "          printf(\"\\\\nmult: %.2f x %.2f - %.2f  -- %i/%i\", xval, yval, res, xidx, yidx);\n",
    "      }\n",
    "\n",
    "      //if (gidx==0&&gidy==0)\n",
    "      //  printf(\"\\\\nsum:%.2f\", ret);\n",
    "      res[gidx * osize + gidy] = ret;\n",
    "    }\"\"\").build()"
   ]
  },
  {
   "cell_type": "code",
   "execution_count": 67,
   "id": "ee0aabda",
   "metadata": {},
   "outputs": [
    {
     "data": {
      "text/plain": [
       "((4, 8), (8, 3))"
      ]
     },
     "execution_count": 67,
     "metadata": {},
     "output_type": "execute_result"
    }
   ],
   "source": [
    "a.shape, b.shape"
   ]
  },
  {
   "cell_type": "code",
   "execution_count": 68,
   "id": "938f25f9",
   "metadata": {},
   "outputs": [],
   "source": [
    "rows = a.shape[0]"
   ]
  },
  {
   "cell_type": "code",
   "execution_count": 69,
   "id": "d19122ca",
   "metadata": {},
   "outputs": [],
   "source": [
    "mult = mult.astype(np.float32)"
   ]
  },
  {
   "cell_type": "code",
   "execution_count": 70,
   "id": "17176ece",
   "metadata": {},
   "outputs": [
    {
     "name": "stdout",
     "output_type": "stream",
     "text": [
      "\n",
      "mult: 0.30 x 0.15 - 0.00  -- 0/0\n",
      "mult: 0.33 x 0.48 - 0.00  -- 1/3\n",
      "mult: 0.29 x 0.09 - 0.00  -- 2/6\n",
      "mult: 0.54 x 0.74 - 0.00  -- 3/9\n",
      "mult: 0.32 x 0.78 - 0.00  -- 4/12\n",
      "mult: 0.01 x 0.22 - 0.00  -- 5/15\n",
      "mult: 0.54 x 0.80 - 0.00  -- 6/18\n",
      "mult: 0.95 x 0.88 - 0.00  -- 7/21"
     ]
    },
    {
     "data": {
      "text/plain": [
       "<pyopencl._cl.NannyEvent at 0x7f1c707d10e0>"
      ]
     },
     "execution_count": 70,
     "metadata": {},
     "output_type": "execute_result"
    }
   ],
   "source": [
    "res_buf = cl.Buffer(ctx, mf.READ_WRITE, np.prod([rows,b.shape[1]])*4)\n",
    "knl = prg.matmul0  # Use this Kernel object for repeated calls\n",
    "knl(queue, [rows,b.shape[1]], None, a_buf, b_buf2, res_buf, np.uint32(a.shape[1]))\n",
    "\n",
    "res_np = np.zeros([rows,b.shape[1]]).astype(np.float32)\n",
    "cl.enqueue_copy(queue, res_np, res_buf)"
   ]
  },
  {
   "cell_type": "code",
   "execution_count": 71,
   "id": "2e20ef7a",
   "metadata": {},
   "outputs": [
    {
     "data": {
      "text/plain": [
       "0.0"
      ]
     },
     "execution_count": 71,
     "metadata": {},
     "output_type": "execute_result"
    }
   ],
   "source": [
    "(res_np-mult).sum()"
   ]
  },
  {
   "cell_type": "code",
   "execution_count": 72,
   "id": "13304b53",
   "metadata": {},
   "outputs": [
    {
     "data": {
      "text/plain": [
       "array([[0.29516777, 0.33338296, 0.2910005 , 0.5361629 , 0.31872442,\n",
       "        0.00900633, 0.53607106, 0.9474776 ],\n",
       "       [0.6204036 , 0.21273285, 0.59999454, 0.7183614 , 0.87148714,\n",
       "        0.69184786, 0.04276368, 0.46898165],\n",
       "       [0.02936536, 0.8756672 , 0.41719204, 0.13531114, 0.09763599,\n",
       "        0.21822612, 0.38778782, 0.0189462 ],\n",
       "       [0.7515835 , 0.12442248, 0.0349297 , 0.37084636, 0.19291036,\n",
       "        0.0798979 , 0.6807204 , 0.61051154]], dtype=float32)"
      ]
     },
     "execution_count": 72,
     "metadata": {},
     "output_type": "execute_result"
    }
   ],
   "source": [
    "a"
   ]
  },
  {
   "cell_type": "code",
   "execution_count": 73,
   "id": "1678d389",
   "metadata": {},
   "outputs": [
    {
     "data": {
      "text/plain": [
       "array([[0.15043414, 0.6196845 , 0.35063207],\n",
       "       [0.4796516 , 0.5857214 , 0.90562654],\n",
       "       [0.08651726, 0.82600874, 0.6354987 ],\n",
       "       [0.74133885, 0.2394775 , 0.5392108 ],\n",
       "       [0.777668  , 0.3423175 , 0.10126331],\n",
       "       [0.2247686 , 0.01690849, 0.9917596 ],\n",
       "       [0.8016237 , 0.904124  , 0.01441843],\n",
       "       [0.88494974, 0.20410454, 0.5339545 ]], dtype=float32)"
      ]
     },
     "execution_count": 73,
     "metadata": {},
     "output_type": "execute_result"
    }
   ],
   "source": [
    "b"
   ]
  },
  {
   "cell_type": "code",
   "execution_count": 74,
   "id": "6afa1b35",
   "metadata": {},
   "outputs": [
    {
     "data": {
      "text/plain": [
       "array([[2.1450493, 1.5342648, 1.4342973],\n",
       "       [2.0623655, 1.6210971, 2.2042618],\n",
       "       [1.0134436, 1.2996901, 1.3834326],\n",
       "       [1.7046205, 1.4637345, 1.0329463]], dtype=float32)"
      ]
     },
     "execution_count": 74,
     "metadata": {},
     "output_type": "execute_result"
    }
   ],
   "source": [
    "res_np"
   ]
  },
  {
   "cell_type": "code",
   "execution_count": 75,
   "id": "16178e90",
   "metadata": {},
   "outputs": [
    {
     "data": {
      "text/plain": [
       "array([[2.1450493, 1.5342648, 1.4342973],\n",
       "       [2.0623655, 1.6210971, 2.2042618],\n",
       "       [1.0134436, 1.2996901, 1.3834326],\n",
       "       [1.7046205, 1.4637345, 1.0329463]], dtype=float32)"
      ]
     },
     "execution_count": 75,
     "metadata": {},
     "output_type": "execute_result"
    }
   ],
   "source": [
    "a.dot(b)"
   ]
  },
  {
   "cell_type": "code",
   "execution_count": 76,
   "id": "4a9cd845",
   "metadata": {},
   "outputs": [
    {
     "data": {
      "text/plain": [
       "array([[ True,  True,  True],\n",
       "       [ True,  True,  True],\n",
       "       [ True,  True,  True],\n",
       "       [ True,  True,  True]])"
      ]
     },
     "execution_count": 76,
     "metadata": {},
     "output_type": "execute_result"
    }
   ],
   "source": [
    "res_np==mult"
   ]
  },
  {
   "cell_type": "code",
   "execution_count": 77,
   "id": "202bd173",
   "metadata": {},
   "outputs": [
    {
     "data": {
      "text/plain": [
       "(4, 3)"
      ]
     },
     "execution_count": 77,
     "metadata": {},
     "output_type": "execute_result"
    }
   ],
   "source": [
    "res_np.shape"
   ]
  },
  {
   "cell_type": "code",
   "execution_count": 78,
   "id": "31d97059",
   "metadata": {},
   "outputs": [
    {
     "data": {
      "text/plain": [
       "(4, 3)"
      ]
     },
     "execution_count": 78,
     "metadata": {},
     "output_type": "execute_result"
    }
   ],
   "source": [
    "mult.shape"
   ]
  },
  {
   "cell_type": "markdown",
   "id": "740ba01c",
   "metadata": {},
   "source": [
    "# Matmult Dense Transposed"
   ]
  },
  {
   "cell_type": "code",
   "execution_count": 79,
   "id": "62bd6037",
   "metadata": {},
   "outputs": [
    {
     "data": {
      "text/plain": [
       "array([[0.15043414, 0.6196845 , 0.35063207],\n",
       "       [0.4796516 , 0.5857214 , 0.90562654],\n",
       "       [0.08651726, 0.82600874, 0.6354987 ],\n",
       "       [0.74133885, 0.2394775 , 0.5392108 ],\n",
       "       [0.777668  , 0.3423175 , 0.10126331],\n",
       "       [0.2247686 , 0.01690849, 0.9917596 ],\n",
       "       [0.8016237 , 0.904124  , 0.01441843],\n",
       "       [0.88494974, 0.20410454, 0.5339545 ]], dtype=float32)"
      ]
     },
     "execution_count": 79,
     "metadata": {},
     "output_type": "execute_result"
    }
   ],
   "source": [
    "b"
   ]
  },
  {
   "cell_type": "code",
   "execution_count": 80,
   "id": "dc2ef4a9",
   "metadata": {},
   "outputs": [],
   "source": [
    "c=np.zeros(b.T.shape)\n",
    "bt = b.T\n",
    "for row in range(bt.shape[0]):\n",
    "    for col in range(bt.shape[1]):\n",
    "        c[row][col] = bt[row][col]"
   ]
  },
  {
   "cell_type": "code",
   "execution_count": 81,
   "id": "75b0c726",
   "metadata": {},
   "outputs": [
    {
     "data": {
      "text/plain": [
       "array([[0.15043414, 0.4796516 , 0.08651726, 0.74133885, 0.777668  ,\n",
       "        0.2247686 , 0.8016237 , 0.88494974],\n",
       "       [0.6196845 , 0.5857214 , 0.82600874, 0.2394775 , 0.3423175 ,\n",
       "        0.01690849, 0.904124  , 0.20410454],\n",
       "       [0.35063207, 0.90562654, 0.6354987 , 0.5392108 , 0.10126331,\n",
       "        0.9917596 , 0.01441843, 0.5339545 ]], dtype=float32)"
      ]
     },
     "execution_count": 81,
     "metadata": {},
     "output_type": "execute_result"
    }
   ],
   "source": [
    "bt"
   ]
  },
  {
   "cell_type": "code",
   "execution_count": 82,
   "id": "2de4c770",
   "metadata": {},
   "outputs": [
    {
     "data": {
      "text/plain": [
       "array([[0.15043414, 0.4796516 , 0.08651726, 0.74133885, 0.777668  ,\n",
       "        0.22476859, 0.8016237 , 0.88494974],\n",
       "       [0.61968452, 0.58572137, 0.82600874, 0.2394775 , 0.34231749,\n",
       "        0.01690849, 0.90412402, 0.20410454],\n",
       "       [0.35063207, 0.90562654, 0.6354987 , 0.5392108 , 0.10126331,\n",
       "        0.9917596 , 0.01441843, 0.5339545 ]])"
      ]
     },
     "execution_count": 82,
     "metadata": {},
     "output_type": "execute_result"
    }
   ],
   "source": [
    "c"
   ]
  },
  {
   "cell_type": "code",
   "execution_count": 83,
   "id": "ca967ffe",
   "metadata": {},
   "outputs": [],
   "source": [
    "b_buf2 = cl.Buffer(ctx, mf.READ_WRITE | mf.COPY_HOST_PTR, hostbuf=c.astype(np.float32))\n",
    "a_buf = cl.Buffer(ctx, mf.READ_WRITE | mf.COPY_HOST_PTR, hostbuf=a)\n",
    "\n",
    "prg = cl.Program(ctx, \"\"\"\n",
    "    // multilplies x by y WITH Y TRANSPOSED INDEXING\n",
    "    __kernel void matmul0(__global  float* x,     // INPUT MATRIX DATA\n",
    "                          __global  float* y,    // INPUT\n",
    "                          __global  float* res,    // INPUT\n",
    "                          uint msize\n",
    "                          ) { // LOCAL SHARED BUFFER\n",
    "      uint isize = get_global_size(0);\n",
    "      uint osize = get_global_size(1);\n",
    "      int gidx = get_global_id(0); // row\n",
    "      int gidy = get_global_id(1); // col\n",
    "\n",
    "      float ret = 0.0;\n",
    "      for (int i = 0; i < msize; i++) {\n",
    "        uint xidx = gidx*msize+i;\n",
    "        float xval = x[xidx];\n",
    "        uint yidx = msize*gidy+i;\n",
    "        float yval = y[yidx];\n",
    "        ret += xval*yval;\n",
    "        if (gidx==0 && gidy==0)\n",
    "          printf(\"\\\\nmult: %.2f x %.2f - %.2f  -- %i/%i\", xval, yval, res, xidx, yidx);\n",
    "      }\n",
    "\n",
    "      //if (gidx==0&&gidy==0)\n",
    "      //  printf(\"\\\\nsum:%.2f\", ret);\n",
    "      res[gidx * osize + gidy] = ret;\n",
    "    }\"\"\").build()"
   ]
  },
  {
   "cell_type": "code",
   "execution_count": 84,
   "id": "a43dbb5d",
   "metadata": {},
   "outputs": [
    {
     "data": {
      "text/plain": [
       "((4, 8), (3, 8))"
      ]
     },
     "execution_count": 84,
     "metadata": {},
     "output_type": "execute_result"
    }
   ],
   "source": [
    "a.shape, b.T.shape"
   ]
  },
  {
   "cell_type": "code",
   "execution_count": 85,
   "id": "fde0973e",
   "metadata": {},
   "outputs": [],
   "source": [
    "rows = a.shape[0]"
   ]
  },
  {
   "cell_type": "code",
   "execution_count": 86,
   "id": "56c661f2",
   "metadata": {},
   "outputs": [],
   "source": [
    "mult = mult.astype(np.float32)"
   ]
  },
  {
   "cell_type": "code",
   "execution_count": 87,
   "id": "10b1d468",
   "metadata": {},
   "outputs": [
    {
     "name": "stdout",
     "output_type": "stream",
     "text": [
      "\n",
      "mult: 0.30 x 0.15 - 0.00  -- 0/0\n",
      "mult: 0.33 x 0.48 - 0.00  -- 1/1\n",
      "mult: 0.29 x 0.09 - 0.00  -- 2/2\n",
      "mult: 0.54 x 0.74 - 0.00  -- 3/3\n",
      "mult: 0.32 x 0.78 - 0.00  -- 4/4\n",
      "mult: 0.01 x 0.22 - 0.00  -- 5/5\n",
      "mult: 0.54 x 0.80 - 0.00  -- 6/6\n",
      "mult: 0.95 x 0.88 - 0.00  -- 7/7"
     ]
    },
    {
     "data": {
      "text/plain": [
       "<pyopencl._cl.NannyEvent at 0x7f1c70788d60>"
      ]
     },
     "execution_count": 87,
     "metadata": {},
     "output_type": "execute_result"
    }
   ],
   "source": [
    "res_buf = cl.Buffer(ctx, mf.READ_WRITE, np.prod([rows,b.shape[1]])*4)\n",
    "knl = prg.matmul0  # Use this Kernel object for repeated calls\n",
    "knl(queue, [rows,b.shape[1]], None, a_buf, b_buf2, res_buf, np.uint32(a.shape[1]))\n",
    "\n",
    "res_np = np.zeros([rows,b.shape[1]]).astype(np.float32)\n",
    "cl.enqueue_copy(queue, res_np, res_buf)"
   ]
  },
  {
   "cell_type": "code",
   "execution_count": 88,
   "id": "3791c36d",
   "metadata": {},
   "outputs": [
    {
     "data": {
      "text/plain": [
       "0.0"
      ]
     },
     "execution_count": 88,
     "metadata": {},
     "output_type": "execute_result"
    }
   ],
   "source": [
    "(res_np-mult).sum()"
   ]
  },
  {
   "cell_type": "code",
   "execution_count": 89,
   "id": "be02b18f",
   "metadata": {},
   "outputs": [
    {
     "data": {
      "text/plain": [
       "array([[0.29516777, 0.33338296, 0.2910005 , 0.5361629 , 0.31872442,\n",
       "        0.00900633, 0.53607106, 0.9474776 ],\n",
       "       [0.6204036 , 0.21273285, 0.59999454, 0.7183614 , 0.87148714,\n",
       "        0.69184786, 0.04276368, 0.46898165],\n",
       "       [0.02936536, 0.8756672 , 0.41719204, 0.13531114, 0.09763599,\n",
       "        0.21822612, 0.38778782, 0.0189462 ],\n",
       "       [0.7515835 , 0.12442248, 0.0349297 , 0.37084636, 0.19291036,\n",
       "        0.0798979 , 0.6807204 , 0.61051154]], dtype=float32)"
      ]
     },
     "execution_count": 89,
     "metadata": {},
     "output_type": "execute_result"
    }
   ],
   "source": [
    "a"
   ]
  },
  {
   "cell_type": "code",
   "execution_count": 90,
   "id": "7a112967",
   "metadata": {},
   "outputs": [
    {
     "data": {
      "text/plain": [
       "array([[0.15043414, 0.6196845 , 0.35063207],\n",
       "       [0.4796516 , 0.5857214 , 0.90562654],\n",
       "       [0.08651726, 0.82600874, 0.6354987 ],\n",
       "       [0.74133885, 0.2394775 , 0.5392108 ],\n",
       "       [0.777668  , 0.3423175 , 0.10126331],\n",
       "       [0.2247686 , 0.01690849, 0.9917596 ],\n",
       "       [0.8016237 , 0.904124  , 0.01441843],\n",
       "       [0.88494974, 0.20410454, 0.5339545 ]], dtype=float32)"
      ]
     },
     "execution_count": 90,
     "metadata": {},
     "output_type": "execute_result"
    }
   ],
   "source": [
    "b"
   ]
  },
  {
   "cell_type": "code",
   "execution_count": 91,
   "id": "0bdbf257",
   "metadata": {},
   "outputs": [
    {
     "data": {
      "text/plain": [
       "array([[2.1450493, 1.5342648, 1.4342973],\n",
       "       [2.0623655, 1.6210971, 2.2042618],\n",
       "       [1.0134436, 1.2996901, 1.3834326],\n",
       "       [1.7046205, 1.4637345, 1.0329463]], dtype=float32)"
      ]
     },
     "execution_count": 91,
     "metadata": {},
     "output_type": "execute_result"
    }
   ],
   "source": [
    "res_np"
   ]
  },
  {
   "cell_type": "code",
   "execution_count": 92,
   "id": "4e43e4c3",
   "metadata": {},
   "outputs": [
    {
     "data": {
      "text/plain": [
       "array([[2.1450493, 1.5342648, 1.4342973],\n",
       "       [2.0623655, 1.6210971, 2.2042618],\n",
       "       [1.0134436, 1.2996901, 1.3834326],\n",
       "       [1.7046205, 1.4637345, 1.0329463]], dtype=float32)"
      ]
     },
     "execution_count": 92,
     "metadata": {},
     "output_type": "execute_result"
    }
   ],
   "source": [
    "a.dot(b)"
   ]
  },
  {
   "cell_type": "code",
   "execution_count": 93,
   "id": "fbe02272",
   "metadata": {},
   "outputs": [
    {
     "data": {
      "text/plain": [
       "array([[ True,  True,  True],\n",
       "       [ True,  True,  True],\n",
       "       [ True,  True,  True],\n",
       "       [ True,  True,  True]])"
      ]
     },
     "execution_count": 93,
     "metadata": {},
     "output_type": "execute_result"
    }
   ],
   "source": [
    "res_np==mult"
   ]
  },
  {
   "cell_type": "code",
   "execution_count": 94,
   "id": "bb6187da",
   "metadata": {},
   "outputs": [
    {
     "data": {
      "text/plain": [
       "(4, 3)"
      ]
     },
     "execution_count": 94,
     "metadata": {},
     "output_type": "execute_result"
    }
   ],
   "source": [
    "res_np.shape"
   ]
  },
  {
   "cell_type": "code",
   "execution_count": 95,
   "id": "af9e3da1",
   "metadata": {},
   "outputs": [
    {
     "data": {
      "text/plain": [
       "(4, 3)"
      ]
     },
     "execution_count": 95,
     "metadata": {},
     "output_type": "execute_result"
    }
   ],
   "source": [
    "mult.shape"
   ]
  },
  {
   "cell_type": "markdown",
   "id": "726b7e0f",
   "metadata": {},
   "source": [
    "# Matmult Transposed Dense"
   ]
  },
  {
   "cell_type": "code",
   "execution_count": 96,
   "id": "7adbefce",
   "metadata": {},
   "outputs": [
    {
     "data": {
      "text/plain": [
       "array([[0.15043414, 0.6196845 , 0.35063207],\n",
       "       [0.4796516 , 0.5857214 , 0.90562654],\n",
       "       [0.08651726, 0.82600874, 0.6354987 ],\n",
       "       [0.74133885, 0.2394775 , 0.5392108 ],\n",
       "       [0.777668  , 0.3423175 , 0.10126331],\n",
       "       [0.2247686 , 0.01690849, 0.9917596 ],\n",
       "       [0.8016237 , 0.904124  , 0.01441843],\n",
       "       [0.88494974, 0.20410454, 0.5339545 ]], dtype=float32)"
      ]
     },
     "execution_count": 96,
     "metadata": {},
     "output_type": "execute_result"
    }
   ],
   "source": [
    "b"
   ]
  },
  {
   "cell_type": "code",
   "execution_count": 97,
   "id": "f9d3c30b",
   "metadata": {},
   "outputs": [],
   "source": [
    "c=np.zeros(a.T.shape)\n",
    "at = a.T\n",
    "for row in range(at.shape[0]):\n",
    "    for col in range(at.shape[1]):\n",
    "        c[row][col] = at[row][col]"
   ]
  },
  {
   "cell_type": "code",
   "execution_count": 98,
   "id": "4caaa1df",
   "metadata": {},
   "outputs": [
    {
     "data": {
      "text/plain": [
       "array([[0.29516777, 0.6204036 , 0.02936536, 0.7515835 ],\n",
       "       [0.33338296, 0.21273285, 0.8756672 , 0.12442248],\n",
       "       [0.2910005 , 0.59999454, 0.41719204, 0.0349297 ],\n",
       "       [0.5361629 , 0.7183614 , 0.13531114, 0.37084636],\n",
       "       [0.31872442, 0.87148714, 0.09763599, 0.19291036],\n",
       "       [0.00900633, 0.69184786, 0.21822612, 0.0798979 ],\n",
       "       [0.53607106, 0.04276368, 0.38778782, 0.6807204 ],\n",
       "       [0.9474776 , 0.46898165, 0.0189462 , 0.61051154]], dtype=float32)"
      ]
     },
     "execution_count": 98,
     "metadata": {},
     "output_type": "execute_result"
    }
   ],
   "source": [
    "at"
   ]
  },
  {
   "cell_type": "code",
   "execution_count": 99,
   "id": "bc2e5522",
   "metadata": {},
   "outputs": [
    {
     "data": {
      "text/plain": [
       "array([[0.29516777, 0.62040359, 0.02936536, 0.75158352],\n",
       "       [0.33338296, 0.21273285, 0.87566721, 0.12442248],\n",
       "       [0.29100049, 0.59999454, 0.41719204, 0.0349297 ],\n",
       "       [0.53616291, 0.71836138, 0.13531114, 0.37084636],\n",
       "       [0.31872442, 0.87148714, 0.09763599, 0.19291036],\n",
       "       [0.00900633, 0.69184786, 0.21822612, 0.0798979 ],\n",
       "       [0.53607106, 0.04276368, 0.38778782, 0.68072039],\n",
       "       [0.94747758, 0.46898165, 0.0189462 , 0.61051154]])"
      ]
     },
     "execution_count": 99,
     "metadata": {},
     "output_type": "execute_result"
    }
   ],
   "source": [
    "c"
   ]
  },
  {
   "cell_type": "code",
   "execution_count": 100,
   "id": "ca096192",
   "metadata": {},
   "outputs": [],
   "source": [
    "a_buf = cl.Buffer(ctx, mf.READ_WRITE | mf.COPY_HOST_PTR, hostbuf=c.astype(np.float32))\n",
    "b_buf = cl.Buffer(ctx, mf.READ_WRITE | mf.COPY_HOST_PTR, hostbuf=b)\n",
    "\n",
    "prg = cl.Program(ctx, \"\"\"\n",
    "    // multilplies x TRANSPOSED by y (dense-dense)\n",
    "    __kernel void matmul0(__global  float* x,     // INPUT MATRIX DATA\n",
    "                          __global  float* y,    // INPUT\n",
    "                          __global  float* res,    // INPUT\n",
    "                          uint msize,\n",
    "                          uint isize\n",
    "                          ) { // LOCAL SHARED BUFFER\n",
    "      uint osize = get_global_size(0);\n",
    "      int gidy = get_global_id(0); // row\n",
    "      \n",
    "      for (uint gidx = 0; gidx < isize; gidx++) {\n",
    "        float ret = 0.0;\n",
    "        for (uint i = 0; i < msize; i++) {\n",
    "          uint xidx = i*isize+gidx;\n",
    "          float xval = x[xidx];\n",
    "          uint yidx = osize*i+gidy;\n",
    "          float yval = y[yidx];\n",
    "          ret += xval*yval;\n",
    "          if (gidx==0 && gidy==0)\n",
    "            printf(\"\\\\nmult: %.2f x %.2f - %.2f  -- %i/%i\", xval, yval, ret, xidx, yidx);\n",
    "        }\n",
    "        //if (gidx==0&&gidy==0)\n",
    "        //  printf(\"\\\\nsum:%.2f\", ret);\n",
    "        res[gidx * osize + gidy] = ret;\n",
    "      }\n",
    "    }\"\"\").build()"
   ]
  },
  {
   "cell_type": "code",
   "execution_count": 101,
   "id": "6bcc4256",
   "metadata": {},
   "outputs": [
    {
     "data": {
      "text/plain": [
       "((4, 8), (3, 8))"
      ]
     },
     "execution_count": 101,
     "metadata": {},
     "output_type": "execute_result"
    }
   ],
   "source": [
    "a.shape, b.T.shape"
   ]
  },
  {
   "cell_type": "code",
   "execution_count": 102,
   "id": "81be729b",
   "metadata": {},
   "outputs": [],
   "source": [
    "rows = a.shape[0]"
   ]
  },
  {
   "cell_type": "code",
   "execution_count": 103,
   "id": "e17d0d40",
   "metadata": {},
   "outputs": [],
   "source": [
    "mult = mult.astype(np.float32)"
   ]
  },
  {
   "cell_type": "code",
   "execution_count": 104,
   "id": "5d469907",
   "metadata": {},
   "outputs": [
    {
     "name": "stdout",
     "output_type": "stream",
     "text": [
      "\n",
      "mult: 0.30 x 0.15 - 0.04  -- 0/0\n",
      "mult: 0.33 x 0.48 - 0.20  -- 4/3\n",
      "mult: 0.29 x 0.09 - 0.23  -- 8/6\n",
      "mult: 0.54 x 0.74 - 0.63  -- 12/9\n",
      "mult: 0.32 x 0.78 - 0.87  -- 16/12\n",
      "mult: 0.01 x 0.22 - 0.88  -- 20/15\n",
      "mult: 0.54 x 0.80 - 1.31  -- 24/18\n",
      "mult: 0.95 x 0.88 - 2.15  -- 28/21"
     ]
    },
    {
     "data": {
      "text/plain": [
       "<pyopencl._cl.NannyEvent at 0x7f1c707d8c20>"
      ]
     },
     "execution_count": 104,
     "metadata": {},
     "output_type": "execute_result"
    }
   ],
   "source": [
    "res_buf = cl.Buffer(ctx, mf.READ_WRITE, np.prod([rows,b.shape[1]])*4)\n",
    "knl = prg.matmul0  # Use this Kernel object for repeated calls\n",
    "knl(queue, [b.shape[1]], None, a_buf, b_buf, res_buf, np.uint32(a.shape[1]), np.uint32(rows))\n",
    "\n",
    "res_np = np.zeros([rows,b.shape[1]]).astype(np.float32)\n",
    "cl.enqueue_copy(queue, res_np, res_buf)"
   ]
  },
  {
   "cell_type": "code",
   "execution_count": 105,
   "id": "c7ca806a",
   "metadata": {},
   "outputs": [
    {
     "data": {
      "text/plain": [
       "0.0"
      ]
     },
     "execution_count": 105,
     "metadata": {},
     "output_type": "execute_result"
    }
   ],
   "source": [
    "(res_np-mult).sum()"
   ]
  },
  {
   "cell_type": "code",
   "execution_count": 106,
   "id": "067cf8fc",
   "metadata": {},
   "outputs": [
    {
     "data": {
      "text/plain": [
       "array([[0.29516777, 0.33338296, 0.2910005 , 0.5361629 , 0.31872442,\n",
       "        0.00900633, 0.53607106, 0.9474776 ],\n",
       "       [0.6204036 , 0.21273285, 0.59999454, 0.7183614 , 0.87148714,\n",
       "        0.69184786, 0.04276368, 0.46898165],\n",
       "       [0.02936536, 0.8756672 , 0.41719204, 0.13531114, 0.09763599,\n",
       "        0.21822612, 0.38778782, 0.0189462 ],\n",
       "       [0.7515835 , 0.12442248, 0.0349297 , 0.37084636, 0.19291036,\n",
       "        0.0798979 , 0.6807204 , 0.61051154]], dtype=float32)"
      ]
     },
     "execution_count": 106,
     "metadata": {},
     "output_type": "execute_result"
    }
   ],
   "source": [
    "a"
   ]
  },
  {
   "cell_type": "code",
   "execution_count": 107,
   "id": "0fd446e8",
   "metadata": {},
   "outputs": [
    {
     "data": {
      "text/plain": [
       "array([[0.15043414, 0.6196845 , 0.35063207],\n",
       "       [0.4796516 , 0.5857214 , 0.90562654],\n",
       "       [0.08651726, 0.82600874, 0.6354987 ],\n",
       "       [0.74133885, 0.2394775 , 0.5392108 ],\n",
       "       [0.777668  , 0.3423175 , 0.10126331],\n",
       "       [0.2247686 , 0.01690849, 0.9917596 ],\n",
       "       [0.8016237 , 0.904124  , 0.01441843],\n",
       "       [0.88494974, 0.20410454, 0.5339545 ]], dtype=float32)"
      ]
     },
     "execution_count": 107,
     "metadata": {},
     "output_type": "execute_result"
    }
   ],
   "source": [
    "b"
   ]
  },
  {
   "cell_type": "code",
   "execution_count": 108,
   "id": "334f65af",
   "metadata": {},
   "outputs": [
    {
     "data": {
      "text/plain": [
       "array([[2.1450493, 1.5342648, 1.4342973],\n",
       "       [2.0623655, 1.6210971, 2.2042618],\n",
       "       [1.0134436, 1.2996901, 1.3834326],\n",
       "       [1.7046205, 1.4637345, 1.0329463]], dtype=float32)"
      ]
     },
     "execution_count": 108,
     "metadata": {},
     "output_type": "execute_result"
    }
   ],
   "source": [
    "res_np"
   ]
  },
  {
   "cell_type": "code",
   "execution_count": 109,
   "id": "c588082c",
   "metadata": {},
   "outputs": [
    {
     "data": {
      "text/plain": [
       "array([[2.1450493, 1.5342648, 1.4342973],\n",
       "       [2.0623655, 1.6210971, 2.2042618],\n",
       "       [1.0134436, 1.2996901, 1.3834326],\n",
       "       [1.7046205, 1.4637345, 1.0329463]], dtype=float32)"
      ]
     },
     "execution_count": 109,
     "metadata": {},
     "output_type": "execute_result"
    }
   ],
   "source": [
    "a.dot(b)"
   ]
  },
  {
   "cell_type": "code",
   "execution_count": 110,
   "id": "e6187e1f",
   "metadata": {},
   "outputs": [
    {
     "data": {
      "text/plain": [
       "array([[ True,  True,  True],\n",
       "       [ True,  True,  True],\n",
       "       [ True,  True,  True],\n",
       "       [ True,  True,  True]])"
      ]
     },
     "execution_count": 110,
     "metadata": {},
     "output_type": "execute_result"
    }
   ],
   "source": [
    "res_np==mult"
   ]
  },
  {
   "cell_type": "code",
   "execution_count": 111,
   "id": "eb36e476",
   "metadata": {},
   "outputs": [
    {
     "data": {
      "text/plain": [
       "(4, 3)"
      ]
     },
     "execution_count": 111,
     "metadata": {},
     "output_type": "execute_result"
    }
   ],
   "source": [
    "res_np.shape"
   ]
  },
  {
   "cell_type": "code",
   "execution_count": 112,
   "id": "7e406268",
   "metadata": {},
   "outputs": [
    {
     "data": {
      "text/plain": [
       "(4, 3)"
      ]
     },
     "execution_count": 112,
     "metadata": {},
     "output_type": "execute_result"
    }
   ],
   "source": [
    "mult.shape"
   ]
  },
  {
   "cell_type": "markdown",
   "id": "59835b7e",
   "metadata": {},
   "source": [
    "# Matmult Dense Transposed2"
   ]
  },
  {
   "cell_type": "code",
   "execution_count": 113,
   "id": "4a6954ad",
   "metadata": {},
   "outputs": [],
   "source": [
    "b_buf2 = cl.Buffer(ctx, mf.READ_WRITE | mf.COPY_HOST_PTR, hostbuf=b)\n",
    "a_buf = cl.Buffer(ctx, mf.READ_WRITE | mf.COPY_HOST_PTR, hostbuf=a)\n",
    "\n",
    "prg = cl.Program(ctx, \"\"\"\n",
    "    // multilplies x by y WITH Y TRANSPOSED INDEXING\n",
    "    __kernel void matmul0(__global  float* x,     // INPUT MATRIX DATA\n",
    "                          __global  float* y,    // INPUT\n",
    "                          __global  float* res,    // INPUT\n",
    "                          uint msize,\n",
    "                          uint osize\n",
    "                          ) { // LOCAL SHARED BUFFER\n",
    "      uint isize = get_global_size(0);\n",
    "      // osize = get_global_size(1);\n",
    "      int gidx = get_global_id(0); // col\n",
    "      // int gidy = get_global_id(1); // row\n",
    "\n",
    "      for (uint gidy = 0; gidy < osize; gidy++) {\n",
    "        float ret = 0.0;\n",
    "        for (uint i = 0; i < msize; i++) {\n",
    "          ret += x[gidx*msize+i]*y[i*osize+gidy];\n",
    "          if (gidx==0 && gidy==0)\n",
    "            printf(\"\\\\nmult: %.2f x %.2f - %.2f\", x[gidx*msize+i],y[i*msize+gidy], ret);\n",
    "        }\n",
    "\n",
    "        //if (gidx==0&&gidy==0)\n",
    "        //  printf(\"\\\\nsum:%.2f\", ret);\n",
    "        res[gidx * osize + gidy] = ret;\n",
    "      }\n",
    "    }\"\"\").build()"
   ]
  },
  {
   "cell_type": "code",
   "execution_count": 114,
   "id": "c8a9728b",
   "metadata": {},
   "outputs": [
    {
     "data": {
      "text/plain": [
       "((4, 8), (8, 3))"
      ]
     },
     "execution_count": 114,
     "metadata": {},
     "output_type": "execute_result"
    }
   ],
   "source": [
    "a.shape, b.shape"
   ]
  },
  {
   "cell_type": "code",
   "execution_count": 115,
   "id": "af31f5a8",
   "metadata": {},
   "outputs": [],
   "source": [
    "res = np.zeros(a.shape[0]).astype(np.float32)\n",
    "#res"
   ]
  },
  {
   "cell_type": "code",
   "execution_count": 116,
   "id": "bfe05099",
   "metadata": {},
   "outputs": [],
   "source": [
    "rows = a.shape[0]"
   ]
  },
  {
   "cell_type": "code",
   "execution_count": 117,
   "id": "f468303a",
   "metadata": {},
   "outputs": [],
   "source": [
    "mult = mult.astype(np.float32)"
   ]
  },
  {
   "cell_type": "code",
   "execution_count": 118,
   "id": "3be17413",
   "metadata": {},
   "outputs": [
    {
     "name": "stdout",
     "output_type": "stream",
     "text": [
      "\n",
      "mult: 0.30 x 0.15 - 0.04\n",
      "mult: 0.33 x 0.64 - 0.20\n",
      "mult: 0.29 x 0.02 - 0.23\n",
      "mult: 0.54 x 0.00 - 0.63\n",
      "mult: 0.32 x 0.00 - 0.87\n",
      "mult: 0.01 x 0.00 - 0.88\n",
      "mult: 0.54 x 0.00 - 1.31\n",
      "mult: 0.95 x 0.00 - 2.15"
     ]
    },
    {
     "data": {
      "text/plain": [
       "<pyopencl._cl.NannyEvent at 0x7f1c707a4540>"
      ]
     },
     "execution_count": 118,
     "metadata": {},
     "output_type": "execute_result"
    }
   ],
   "source": [
    "res_buf = cl.Buffer(ctx, mf.READ_WRITE, np.prod([rows,b.shape[1]])*4)\n",
    "knl = prg.matmul0  # Use this Kernel object for repeated calls\n",
    "knl(queue, [rows], None, a_buf, b_buf2, res_buf, np.uint32(a.shape[1]), np.uint32(b.shape[1]))\n",
    "\n",
    "res_np = np.zeros([rows,b.shape[1]]).astype(np.float32)\n",
    "cl.enqueue_copy(queue, res_np, res_buf)"
   ]
  },
  {
   "cell_type": "code",
   "execution_count": 119,
   "id": "49f1bc06",
   "metadata": {},
   "outputs": [
    {
     "data": {
      "text/plain": [
       "0.0"
      ]
     },
     "execution_count": 119,
     "metadata": {},
     "output_type": "execute_result"
    }
   ],
   "source": [
    "(res_np-mult).sum()"
   ]
  },
  {
   "cell_type": "code",
   "execution_count": 120,
   "id": "b721089a",
   "metadata": {},
   "outputs": [
    {
     "data": {
      "text/plain": [
       "array([[0.29516777, 0.33338296, 0.2910005 , 0.5361629 , 0.31872442,\n",
       "        0.00900633, 0.53607106, 0.9474776 ],\n",
       "       [0.6204036 , 0.21273285, 0.59999454, 0.7183614 , 0.87148714,\n",
       "        0.69184786, 0.04276368, 0.46898165],\n",
       "       [0.02936536, 0.8756672 , 0.41719204, 0.13531114, 0.09763599,\n",
       "        0.21822612, 0.38778782, 0.0189462 ],\n",
       "       [0.7515835 , 0.12442248, 0.0349297 , 0.37084636, 0.19291036,\n",
       "        0.0798979 , 0.6807204 , 0.61051154]], dtype=float32)"
      ]
     },
     "execution_count": 120,
     "metadata": {},
     "output_type": "execute_result"
    }
   ],
   "source": [
    "a"
   ]
  },
  {
   "cell_type": "code",
   "execution_count": 121,
   "id": "a03001f2",
   "metadata": {},
   "outputs": [
    {
     "data": {
      "text/plain": [
       "array([[0.15043414, 0.4796516 , 0.08651726, 0.74133885, 0.777668  ,\n",
       "        0.2247686 , 0.8016237 , 0.88494974],\n",
       "       [0.6196845 , 0.5857214 , 0.82600874, 0.2394775 , 0.3423175 ,\n",
       "        0.01690849, 0.904124  , 0.20410454],\n",
       "       [0.35063207, 0.90562654, 0.6354987 , 0.5392108 , 0.10126331,\n",
       "        0.9917596 , 0.01441843, 0.5339545 ]], dtype=float32)"
      ]
     },
     "execution_count": 121,
     "metadata": {},
     "output_type": "execute_result"
    }
   ],
   "source": [
    "b.T"
   ]
  },
  {
   "cell_type": "code",
   "execution_count": 122,
   "id": "7b5dd59e",
   "metadata": {},
   "outputs": [
    {
     "data": {
      "text/plain": [
       "array([0.29516777, 0.33338296, 0.2910005 , 0.5361629 , 0.31872442,\n",
       "       0.00900633, 0.53607106, 0.9474776 ], dtype=float32)"
      ]
     },
     "execution_count": 122,
     "metadata": {},
     "output_type": "execute_result"
    }
   ],
   "source": [
    "a[0]"
   ]
  },
  {
   "cell_type": "code",
   "execution_count": 123,
   "id": "d8c0f986",
   "metadata": {},
   "outputs": [
    {
     "data": {
      "text/plain": [
       "array([0.15043414, 0.4796516 , 0.08651726, 0.74133885, 0.777668  ,\n",
       "       0.2247686 , 0.8016237 , 0.88494974], dtype=float32)"
      ]
     },
     "execution_count": 123,
     "metadata": {},
     "output_type": "execute_result"
    }
   ],
   "source": [
    "b.T[0]"
   ]
  },
  {
   "cell_type": "code",
   "execution_count": 124,
   "id": "94c47d91",
   "metadata": {},
   "outputs": [
    {
     "data": {
      "text/plain": [
       "<pyopencl._cl.Buffer at 0x7f1c707a4450>"
      ]
     },
     "execution_count": 124,
     "metadata": {},
     "output_type": "execute_result"
    }
   ],
   "source": [
    "res_buf"
   ]
  },
  {
   "cell_type": "code",
   "execution_count": 125,
   "id": "8776a0a7",
   "metadata": {},
   "outputs": [
    {
     "data": {
      "text/plain": [
       "array([[2.1450493, 1.5342648, 1.4342973],\n",
       "       [2.0623655, 1.6210971, 2.2042618],\n",
       "       [1.0134436, 1.2996901, 1.3834326],\n",
       "       [1.7046205, 1.4637345, 1.0329463]], dtype=float32)"
      ]
     },
     "execution_count": 125,
     "metadata": {},
     "output_type": "execute_result"
    }
   ],
   "source": [
    "res_np"
   ]
  },
  {
   "cell_type": "code",
   "execution_count": 126,
   "id": "46dca274",
   "metadata": {},
   "outputs": [
    {
     "data": {
      "text/plain": [
       "array([[2.1450493, 1.5342648, 1.4342973],\n",
       "       [2.0623655, 1.6210971, 2.2042618],\n",
       "       [1.0134436, 1.2996901, 1.3834326],\n",
       "       [1.7046205, 1.4637345, 1.0329463]], dtype=float32)"
      ]
     },
     "execution_count": 126,
     "metadata": {},
     "output_type": "execute_result"
    }
   ],
   "source": [
    "a.dot(b)"
   ]
  },
  {
   "cell_type": "code",
   "execution_count": 127,
   "id": "4641cdcc",
   "metadata": {},
   "outputs": [
    {
     "data": {
      "text/plain": [
       "array([[ True,  True,  True],\n",
       "       [ True,  True,  True],\n",
       "       [ True,  True,  True],\n",
       "       [ True,  True,  True]])"
      ]
     },
     "execution_count": 127,
     "metadata": {},
     "output_type": "execute_result"
    }
   ],
   "source": [
    "res_np==mult"
   ]
  },
  {
   "cell_type": "code",
   "execution_count": 128,
   "id": "5b55f104",
   "metadata": {},
   "outputs": [
    {
     "data": {
      "text/plain": [
       "(4, 3)"
      ]
     },
     "execution_count": 128,
     "metadata": {},
     "output_type": "execute_result"
    }
   ],
   "source": [
    "res_np.shape"
   ]
  },
  {
   "cell_type": "code",
   "execution_count": 129,
   "id": "84122d03",
   "metadata": {},
   "outputs": [
    {
     "data": {
      "text/plain": [
       "(4, 3)"
      ]
     },
     "execution_count": 129,
     "metadata": {},
     "output_type": "execute_result"
    }
   ],
   "source": [
    "mult.shape"
   ]
  },
  {
   "cell_type": "markdown",
   "id": "b3ad7225",
   "metadata": {},
   "source": [
    "## Weight update kernel"
   ]
  },
  {
   "cell_type": "code",
   "execution_count": 130,
   "id": "a5138cee",
   "metadata": {},
   "outputs": [],
   "source": [
    "bs = 4"
   ]
  },
  {
   "cell_type": "code",
   "execution_count": 131,
   "id": "76e44e2d",
   "metadata": {},
   "outputs": [
    {
     "data": {
      "text/plain": [
       "((4, 8), (4, 8), 2)"
      ]
     },
     "execution_count": 131,
     "metadata": {},
     "output_type": "execute_result"
    }
   ],
   "source": [
    "dim = 8\n",
    "topk = 2\n",
    "\n",
    "x = np.random.rand(bs,dim).astype(np.float32)\n",
    "y = np.random.rand(bs,dim).astype(np.float32)\n",
    "x.shape,y.shape, topk"
   ]
  },
  {
   "cell_type": "markdown",
   "id": "de5e3e5e",
   "metadata": {},
   "source": [
    "x_buf = cl.Buffer(ctx, mf.READ_ONLY | mf.COPY_HOST_PTR, hostbuf=x)\n",
    "y_buf = cl.Buffer(ctx, mf.READ_ONLY | mf.COPY_HOST_PTR, hostbuf=y)\n",
    "x_cp_buf = cl.Buffer(ctx, mf.WRITE_ONLY, bs*topk*topk*4)\n",
    "x_idx_buf = cl.Buffer(ctx, mf.WRITE_ONLY, bs*topk*4)\n",
    "y_idx_buf = cl.Buffer(ctx, mf.WRITE_ONLY, bs*topk*4)\n",
    "\n",
    "prg = cl.Program(ctx, \"\"\"\n",
    "    // sorts x and y in ascending order and returns sorted indices\n",
    "    __kernel void genwupdate2(__global  float* x,     // INPUT MATRIX DATA\n",
    "                             __global  float* y,    // INPUT\n",
    "                             __global  float* xout,    // INPUT\n",
    "                             uint topk,\n",
    "                             __global  uint* xoutidx,    // INPUT\n",
    "                             __global  uint* youtidx    // INPUT\n",
    "                            ) { // LOCAL SHARED BUFFER\n",
    "      uint gid = get_global_id(0);\n",
    "      uint n = get_global_size(0);\n",
    "      uint bs = get_global_size(1);\n",
    "      uint gid2 = get_global_id(1);\n",
    "\n",
    "      uint idx = n*gid2+gid;\n",
    "\n",
    "      float valx = x[idx];\n",
    "      float valy = y[idx];\n",
    "      uint posx = 0;\n",
    "      uint posy = 0;\n",
    "      for (uint i = 0; i < n; i++) {\n",
    "        uint idx2 = n*gid2+i;\n",
    "        float tempval = x[idx2];\n",
    "        float tempval2 = y[idx2];\n",
    "        bool larger = tempval > valx;\n",
    "        bool larger2 = tempval2 > valy;\n",
    "\n",
    "        barrier(CLK_GLOBAL_MEM_FENCE);\n",
    "        posx += (larger)?1:0;\n",
    "        posy += (larger2)?1:0;\n",
    "        barrier(CLK_GLOBAL_MEM_FENCE);\n",
    "      }\n",
    "      barrier(CLK_GLOBAL_MEM_FENCE);\n",
    "      //printf(\"posx:%i\", posx);\n",
    "      if (posx < topk) {\n",
    "        xoutidx[posx+topk*gid2] = gid;\n",
    "      }\n",
    "      if (posy < topk) {\n",
    "        youtidx[posy+topk*gid2] = gid;\n",
    "      }\n",
    "      barrier(CLK_GLOBAL_MEM_FENCE);\n",
    "      if (gid < topk) {\n",
    "        for (uint j=0; j<topk; j++) {\n",
    "          float res = x[xoutidx[gid+topk*gid2]+gid2*n] * y[youtidx[j+topk*gid2]+gid2*n];\n",
    "          //printf(\"\\\\nJ:%i  gid:%i\", j, gid);\n",
    "          //printf(\"\\\\nRES:%.2f - %i - %i -  %.2f - %.2f\",res, xoutidx[gid+topk*gid2], youtidx[j+topk*gid2], x[xoutidx[gid+topk*gid2]+gid2*n], y[youtidx[j+topk*gid2]+gid2*n]);\n",
    "          barrier(CLK_GLOBAL_MEM_FENCE);\n",
    "          xout[gid2*topk*topk+j*topk+gid] = res;\n",
    "          barrier(CLK_GLOBAL_MEM_FENCE);\n",
    "          \n",
    "        }\n",
    "      }\n",
    "      barrier(CLK_GLOBAL_MEM_FENCE);\n",
    "    }\"\"\").build()"
   ]
  },
  {
   "cell_type": "code",
   "execution_count": 132,
   "id": "88864470",
   "metadata": {},
   "outputs": [],
   "source": [
    "x_buf = cl.Buffer(ctx, mf.READ_ONLY | mf.COPY_HOST_PTR, hostbuf=x)\n",
    "y_buf = cl.Buffer(ctx, mf.READ_ONLY | mf.COPY_HOST_PTR, hostbuf=y)\n",
    "x_cp_buf = cl.Buffer(ctx, mf.WRITE_ONLY, bs*topk*topk*4)\n",
    "x_idx_buf = cl.Buffer(ctx, mf.WRITE_ONLY, bs*topk*4)\n",
    "y_idx_buf = cl.Buffer(ctx, mf.WRITE_ONLY, bs*topk*4)\n",
    "#x_cp_buft = cl.Buffer(ctx, mf.WRITE_ONLY, bs*topk*topk*4)\n",
    "#x_idx_buft = cl.Buffer(ctx, mf.WRITE_ONLY, bs*topk*4)\n",
    "#y_idx_buft = cl.Buffer(ctx, mf.WRITE_ONLY, bs*topk*4)\n",
    "\n",
    "prg = cl.Program(ctx, \"\"\"\n",
    "    // sorts x and y in ascending order and returns sorted indices\n",
    "    __kernel void genwupdate2(__global  float* x,     // INPUT MATRIX DATA\n",
    "                             __global  float* y,    // INPUT\n",
    "                             __global  float* xout,    // INPUT\n",
    "                             uint topk,\n",
    "                             uint bs,\n",
    "                             __global  uint* xoutidx,    // INPUT\n",
    "                             __global  uint* youtidx    // INPUT\n",
    "                            ) { // LOCAL SHARED BUFFER\n",
    "      uint gid = get_global_id(0);\n",
    "      uint n = get_global_size(0);\n",
    "      //uint bs = get_global_size(1);\n",
    "      //uint gid2 = get_global_id(1);\n",
    "\n",
    "      for (uint gid2=0; gid2<bs; gid2++){\n",
    "        uint idx = n*gid2+gid;\n",
    "\n",
    "        float valx = x[idx];\n",
    "        float valy = y[idx];\n",
    "        uint posx = 0;\n",
    "        uint posy = 0;\n",
    "        for (uint i = 0; i < n; i++) {\n",
    "          uint idx2 = n*gid2+i;\n",
    "          float tempval = x[idx2];\n",
    "          float tempval2 = y[idx2];\n",
    "          bool larger = tempval > valx;\n",
    "          bool larger2 = tempval2 > valy;\n",
    "\n",
    "          posx += (larger)?1:0;\n",
    "          posy += (larger2)?1:0;\n",
    "        }\n",
    "        //printf(\"posx:%i\", posx);\n",
    "        if (posx < topk) {\n",
    "        xoutidx[posx+topk*gid2] = gid;\n",
    "        }\n",
    "        if (posy < topk) {\n",
    "          youtidx[posy+topk*gid2] = gid;\n",
    "        }\n",
    "      }\n",
    "      for (uint gid2=0; gid2<bs; gid2++){\n",
    "        if (gid < topk) {\n",
    "          for (uint j=0; j<topk; j++) {\n",
    "            float res = x[xoutidx[gid+topk*gid2]+gid2*n] * y[youtidx[j+topk*gid2]+gid2*n];\n",
    "            //printf(\"\\\\nJ:%i  gid:%i\", j, gid);\n",
    "            //printf(\"\\\\nRES:%.2f - %i - %i -  %.2f - %.2f\",res, xoutidx[gid+topk*gid2], youtidx[j+topk*gid2], x[xoutidx[gid+topk*gid2]+gid2*n], y[youtidx[j+topk*gid2]+gid2*n]);\n",
    "            //barrier(CLK_GLOBAL_MEM_FENCE);\n",
    "            xout[gid2*topk*topk+j*topk+gid] = res;\n",
    "          }\n",
    "        }\n",
    "      }\n",
    "    }\"\"\").build()"
   ]
  },
  {
   "cell_type": "code",
   "execution_count": 133,
   "id": "94682965",
   "metadata": {},
   "outputs": [
    {
     "data": {
      "text/plain": [
       "<pyopencl._cl.NannyEvent at 0x7f1c707a88b0>"
      ]
     },
     "execution_count": 133,
     "metadata": {},
     "output_type": "execute_result"
    }
   ],
   "source": [
    "knl = prg.genwupdate2  # Use this Kernel object for repeated calls\n",
    "evt = knl(queue, [dim], None, x_buf, y_buf, x_cp_buf, np.uint32(topk), np.uint32(bs), x_idx_buf, y_idx_buf)\n",
    "\n",
    "#evt.wait()\n",
    "resx = np.zeros(bs*topk*topk).astype(np.float32)\n",
    "resxidx = np.zeros(bs*topk).astype(np.uint32)\n",
    "resyidx = np.zeros(bs*topk).astype(np.uint32)\n",
    "\n",
    "cl.enqueue_copy(queue, resx, x_cp_buf)\n",
    "cl.enqueue_copy(queue, resxidx, x_idx_buf)\n",
    "cl.enqueue_copy(queue, resyidx, y_idx_buf)"
   ]
  },
  {
   "cell_type": "markdown",
   "id": "771508c3",
   "metadata": {},
   "source": [
    "knl(queue, [dim], None, y_buf, x_buf, x_cp_buft, np.uint32(topk), np.uint32(bs), x_idx_buft, y_idx_buft)\n",
    "\n",
    "#evt.wait()\n",
    "resx = np.zeros(bs*topk*topk).astype(np.float32)\n",
    "resxidx = np.zeros(bs*topk).astype(np.uint32)\n",
    "resyidx = np.zeros(bs*topk).astype(np.uint32)\n",
    "\n",
    "cl.enqueue_copy(queue, resx, x_cp_buf)\n",
    "cl.enqueue_copy(queue, resxidx, x_idx_buf)\n",
    "cl.enqueue_copy(queue, resyidx, y_idx_buf)"
   ]
  },
  {
   "cell_type": "code",
   "execution_count": 134,
   "id": "88725ae2",
   "metadata": {},
   "outputs": [
    {
     "data": {
      "text/plain": [
       "array([[0.5208921 , 0.3572506 , 0.30112275, 0.11082315, 0.25933608,\n",
       "        0.2537252 , 0.8020481 , 0.39789936],\n",
       "       [0.61094195, 0.0611377 , 0.8704709 , 0.8843079 , 0.417089  ,\n",
       "        0.6639791 , 0.15737332, 0.02135541],\n",
       "       [0.1559249 , 0.14806202, 0.8460671 , 0.9979287 , 0.7261287 ,\n",
       "        0.12866202, 0.8465165 , 0.66926867],\n",
       "       [0.84276325, 0.06656174, 0.16729096, 0.13972558, 0.38513017,\n",
       "        0.5822583 , 0.76684874, 0.45251068]], dtype=float32)"
      ]
     },
     "execution_count": 134,
     "metadata": {},
     "output_type": "execute_result"
    }
   ],
   "source": [
    "x"
   ]
  },
  {
   "cell_type": "code",
   "execution_count": 135,
   "id": "4c150d0f",
   "metadata": {},
   "outputs": [
    {
     "data": {
      "text/plain": [
       "array([[0.78604454, 0.00869259, 0.31350958, 0.74469817, 0.41800404,\n",
       "        0.6869445 , 0.26334533, 0.36119112],\n",
       "       [0.51565766, 0.10113762, 0.7259253 , 0.23368242, 0.5307467 ,\n",
       "        0.25279608, 0.17987116, 0.7080778 ],\n",
       "       [0.8590547 , 0.12702702, 0.09493987, 0.75800353, 0.04770023,\n",
       "        0.8330679 , 0.67851025, 0.03306201],\n",
       "       [0.1939566 , 0.02938453, 0.57044244, 0.15289223, 0.10998691,\n",
       "        0.32446983, 0.6489413 , 0.6973374 ]], dtype=float32)"
      ]
     },
     "execution_count": 135,
     "metadata": {},
     "output_type": "execute_result"
    }
   ],
   "source": [
    "y"
   ]
  },
  {
   "cell_type": "code",
   "execution_count": 136,
   "id": "990b8af7",
   "metadata": {},
   "outputs": [
    {
     "data": {
      "text/plain": [
       "((4, 8), (4, 8))"
      ]
     },
     "execution_count": 136,
     "metadata": {},
     "output_type": "execute_result"
    }
   ],
   "source": [
    "x.shape, y.shape"
   ]
  },
  {
   "cell_type": "code",
   "execution_count": 137,
   "id": "1c18b7bb",
   "metadata": {},
   "outputs": [
    {
     "data": {
      "text/plain": [
       "array([0.63044554, 0.4094444 , 0.5972837 , 0.3879074 , 0.6419415 ,\n",
       "       0.63189685, 0.6261588 , 0.6163611 , 0.8572753 , 0.72720397,\n",
       "       0.83134234, 0.70520574, 0.5876903 , 0.5347523 , 0.54690385,\n",
       "       0.4976398 ], dtype=float32)"
      ]
     },
     "execution_count": 137,
     "metadata": {},
     "output_type": "execute_result"
    }
   ],
   "source": [
    "resx"
   ]
  },
  {
   "cell_type": "code",
   "execution_count": 138,
   "id": "58d4154c",
   "metadata": {},
   "outputs": [
    {
     "data": {
      "text/plain": [
       "array([[[0.63044554, 0.4094444 ],\n",
       "        [0.5972837 , 0.3879074 ]],\n",
       "\n",
       "       [[0.6419415 , 0.63189685],\n",
       "        [0.6261588 , 0.6163611 ]],\n",
       "\n",
       "       [[0.8572753 , 0.72720397],\n",
       "        [0.83134234, 0.70520574]],\n",
       "\n",
       "       [[0.5876903 , 0.5347523 ],\n",
       "        [0.54690385, 0.4976398 ]]], dtype=float32)"
      ]
     },
     "execution_count": 138,
     "metadata": {},
     "output_type": "execute_result"
    }
   ],
   "source": [
    "resx.reshape(bs,topk,topk)"
   ]
  },
  {
   "cell_type": "code",
   "execution_count": 139,
   "id": "5cca2876",
   "metadata": {},
   "outputs": [
    {
     "data": {
      "text/plain": [
       "array([6, 0, 3, 2, 3, 6, 0, 6], dtype=uint32)"
      ]
     },
     "execution_count": 139,
     "metadata": {},
     "output_type": "execute_result"
    }
   ],
   "source": [
    "resxidx"
   ]
  },
  {
   "cell_type": "code",
   "execution_count": 140,
   "id": "80deeac2",
   "metadata": {},
   "outputs": [
    {
     "data": {
      "text/plain": [
       "array([0, 3, 2, 7, 0, 5, 7, 6], dtype=uint32)"
      ]
     },
     "execution_count": 140,
     "metadata": {},
     "output_type": "execute_result"
    }
   ],
   "source": [
    "resyidx"
   ]
  },
  {
   "cell_type": "code",
   "execution_count": 141,
   "id": "3020c7d7",
   "metadata": {},
   "outputs": [
    {
     "data": {
      "text/plain": [
       "(8, 8)"
      ]
     },
     "execution_count": 141,
     "metadata": {},
     "output_type": "execute_result"
    }
   ],
   "source": [
    "idx = 1\n",
    "xy0 = x[idx].reshape(dim,1)*y[idx]\n",
    "xy0.shape"
   ]
  },
  {
   "cell_type": "code",
   "execution_count": 142,
   "id": "fc865ccb",
   "metadata": {},
   "outputs": [
    {
     "data": {
      "text/plain": [
       "0.6261588"
      ]
     },
     "execution_count": 142,
     "metadata": {},
     "output_type": "execute_result"
    }
   ],
   "source": [
    "xy0[3][7]"
   ]
  },
  {
   "cell_type": "markdown",
   "id": "c0c255da",
   "metadata": {},
   "source": [
    "### update vals add dense"
   ]
  },
  {
   "cell_type": "code",
   "execution_count": 143,
   "id": "7b96afa2",
   "metadata": {},
   "outputs": [
    {
     "data": {
      "text/plain": [
       "array([[ 0.13292159, -0.20273261,  1.0448247 ,  0.4868517 ,  0.7249878 ,\n",
       "         1.6218207 ,  0.41703546, -1.1581254 ],\n",
       "       [ 1.8033321 ,  1.2297767 ,  0.3011195 ,  0.5693663 ,  1.025062  ,\n",
       "        -2.1702912 , -1.7832675 ,  0.7361344 ],\n",
       "       [ 0.5765973 , -0.77569616,  0.5184834 , -1.2598531 ,  0.07274681,\n",
       "        -1.5193717 , -0.79238296, -0.6951347 ],\n",
       "       [ 0.05345648,  0.21328321, -1.9485346 ,  0.6406955 ,  1.1379646 ,\n",
       "        -0.21245147, -0.12579903,  1.1361357 ]], dtype=float32)"
      ]
     },
     "execution_count": 143,
     "metadata": {},
     "output_type": "execute_result"
    }
   ],
   "source": [
    "matadd = np.random.randn(*a.shape).astype(np.float32)\n",
    "matadd"
   ]
  },
  {
   "cell_type": "code",
   "execution_count": 144,
   "id": "412cfeec",
   "metadata": {},
   "outputs": [
    {
     "data": {
      "text/plain": [
       "array([[0.29516777, 0.33338296, 0.2910005 , 0.5361629 , 0.31872442,\n",
       "        0.00900633, 0.53607106, 0.9474776 ],\n",
       "       [0.6204036 , 0.21273285, 0.59999454, 0.7183614 , 0.87148714,\n",
       "        0.69184786, 0.04276368, 0.46898165],\n",
       "       [0.02936536, 0.8756672 , 0.41719204, 0.13531114, 0.09763599,\n",
       "        0.21822612, 0.38778782, 0.0189462 ],\n",
       "       [0.7515835 , 0.12442248, 0.0349297 , 0.37084636, 0.19291036,\n",
       "        0.0798979 , 0.6807204 , 0.61051154]], dtype=float32)"
      ]
     },
     "execution_count": 144,
     "metadata": {},
     "output_type": "execute_result"
    }
   ],
   "source": [
    "a"
   ]
  },
  {
   "cell_type": "code",
   "execution_count": 145,
   "id": "5db87320",
   "metadata": {},
   "outputs": [],
   "source": [
    "a_added = a + matadd"
   ]
  },
  {
   "cell_type": "code",
   "execution_count": 146,
   "id": "20c7d51e",
   "metadata": {},
   "outputs": [],
   "source": [
    "adata_buf = cl.Buffer(ctx, mf.READ_WRITE | mf.COPY_HOST_PTR, hostbuf=adata)\n",
    "acols_buf = cl.Buffer(ctx, mf.READ_WRITE | mf.COPY_HOST_PTR, hostbuf=acols)\n",
    "annzs_buf = cl.Buffer(ctx, mf.READ_WRITE | mf.COPY_HOST_PTR, hostbuf=annz)\n",
    "adatat_buf = cl.Buffer(ctx, mf.READ_WRITE | mf.COPY_HOST_PTR, hostbuf=adatat)\n",
    "acolst_buf = cl.Buffer(ctx, mf.READ_WRITE | mf.COPY_HOST_PTR, hostbuf=acolst)\n",
    "annzst_buf = cl.Buffer(ctx, mf.READ_WRITE | mf.COPY_HOST_PTR, hostbuf=annzt)\n",
    "add_buf = cl.Buffer(ctx, mf.READ_WRITE | mf.COPY_HOST_PTR, hostbuf=matadd)\n",
    "\n",
    "prg = cl.Program(ctx, \"\"\"\n",
    "    // Every global_id_0 works on a row\n",
    "    __kernel void adddense(__global  float* matData,     // INPUT MATRIX DATA\n",
    "                            __global  uint*  colIdx,\n",
    "                            __global  uint*  rowNnz,\n",
    "                            float  lr,\n",
    "                            uint   ellwidth,\n",
    "                            uint   awidth,\n",
    "                            __global  float* vector_x    // INPUT\n",
    "                            ) { // LOCAL SHARED BUFFER\n",
    "      uint gid = get_global_id(0);\n",
    "      uint nrows = get_global_size(0);\n",
    "\n",
    "      uint nnz    = rowNnz[gid];\n",
    "      uint baseidxs = gid*ellwidth;\n",
    "      uint baseidxd = gid*awidth;\n",
    "      \n",
    "      for (uint i=0; i<awidth; i++) {\n",
    "        float addval = vector_x[baseidxd+i];\n",
    "        //if (gid==1)\n",
    "        //  printf(\"\\\\nADD VAL:%.2f idx:%i/%i  col:%i\", addval, baseidxs+i, baseidxd+i, colIdx[baseidxs+i]);\n",
    "        if (addval == 0) {\n",
    "          continue;\n",
    "        }\n",
    "        if (i == colIdx[baseidxs+i]) {\n",
    "          matData[baseidxs+i] += addval;\n",
    "        } else {\n",
    "          if (i > colIdx[baseidxs+i])\n",
    "            break;\n",
    "          for (uint j=nnz; j>i; j--) {\n",
    "            //printf(\"\\\\nMOVE:%.2f\", matData[baseidx+j-1]);\n",
    "            colIdx[baseidxs+j] = colIdx[baseidxs+j-1];\n",
    "            matData[baseidxs+j] = matData[baseidxs+j-1];\n",
    "          }\n",
    "          rowNnz[gid] += 1;\n",
    "          nnz = rowNnz[gid];\n",
    "          //if (gid==1)\n",
    "          //  printf(\"\\\\nSET VAL:%.2f idx:%i/%i  col:%i\", addval, baseidxs+i, baseidxd+i, colIdx[i]);\n",
    "          matData[baseidxs+i] = addval;\n",
    "          colIdx[baseidxs+i] = i;\n",
    "          if (nnz >= ellwidth)\n",
    "            break;\n",
    "        }\n",
    "      }\n",
    "    }\"\"\").build()"
   ]
  },
  {
   "cell_type": "code",
   "execution_count": 147,
   "id": "2adf45e7",
   "metadata": {},
   "outputs": [
    {
     "data": {
      "text/plain": [
       "((4, 8), (8, 3))"
      ]
     },
     "execution_count": 147,
     "metadata": {},
     "output_type": "execute_result"
    }
   ],
   "source": [
    "a.shape, b.shape"
   ]
  },
  {
   "cell_type": "code",
   "execution_count": 148,
   "id": "324edd08",
   "metadata": {},
   "outputs": [],
   "source": [
    "res = np.zeros(a.shape[0]).astype(np.float32)\n",
    "#res"
   ]
  },
  {
   "cell_type": "code",
   "execution_count": 149,
   "id": "2cf60c63",
   "metadata": {},
   "outputs": [],
   "source": [
    "rows = a.shape[0]"
   ]
  },
  {
   "cell_type": "code",
   "execution_count": 150,
   "id": "05c4e97c",
   "metadata": {},
   "outputs": [],
   "source": [
    "mult = mult.astype(np.float32)"
   ]
  },
  {
   "cell_type": "code",
   "execution_count": 151,
   "id": "7d3bb3fd",
   "metadata": {},
   "outputs": [
    {
     "data": {
      "text/plain": [
       "<pyopencl._cl.Event at 0x7f1c707b60e0>"
      ]
     },
     "execution_count": 151,
     "metadata": {},
     "output_type": "execute_result"
    }
   ],
   "source": [
    "res_buf = cl.Buffer(ctx, mf.WRITE_ONLY, b.nbytes)\n",
    "knl = prg.adddense  # Use this Kernel object for repeated calls\n",
    "knl(queue, [rows], None, adata_buf, acols_buf, annzs_buf, np.float32(1), np.uint32(ellwa),np.uint32(a.shape[1]), add_buf)"
   ]
  },
  {
   "cell_type": "code",
   "execution_count": 152,
   "id": "91283016",
   "metadata": {},
   "outputs": [
    {
     "data": {
      "text/plain": [
       "0.13292159"
      ]
     },
     "execution_count": 152,
     "metadata": {},
     "output_type": "execute_result"
    }
   ],
   "source": [
    "matadd[0][0]"
   ]
  },
  {
   "cell_type": "code",
   "execution_count": 153,
   "id": "f520b590",
   "metadata": {},
   "outputs": [
    {
     "data": {
      "text/plain": [
       "<pyopencl._cl.NannyEvent at 0x7f1c707452c0>"
      ]
     },
     "execution_count": 153,
     "metadata": {},
     "output_type": "execute_result"
    }
   ],
   "source": [
    "data_res = np.empty_like(adata)\n",
    "cols_res = np.empty_like(acols)\n",
    "nnzs_res = np.empty_like(annz)\n",
    "cl.enqueue_copy(queue, data_res, adata_buf)\n",
    "cl.enqueue_copy(queue, cols_res, acols_buf)\n",
    "cl.enqueue_copy(queue, nnzs_res, annzs_buf)"
   ]
  },
  {
   "cell_type": "code",
   "execution_count": 154,
   "id": "945bad1d",
   "metadata": {},
   "outputs": [
    {
     "data": {
      "text/plain": [
       "array([[ 0.42808938,  0.13065036,  1.3358252 ,  1.02301455,  1.04371226,\n",
       "         1.63082707,  0.95310652, -0.21064782],\n",
       "       [ 2.42373562,  1.44250965,  0.90111405,  1.28772759,  1.89654911,\n",
       "        -1.47844338, -1.74050379,  1.20511603],\n",
       "       [ 0.60596263,  0.09997106,  0.93567544, -1.124542  ,  0.1703828 ,\n",
       "        -1.30114567, -0.40459514, -0.67618853],\n",
       "       [ 0.80504   ,  0.3377057 , -1.91360486,  1.01154184,  1.33087492,\n",
       "        -0.13255358,  0.55492139,  1.74664724]])"
      ]
     },
     "execution_count": 154,
     "metadata": {},
     "output_type": "execute_result"
    }
   ],
   "source": [
    "adenseadd = to_dense(data_res, cols_res, nnzs_res, ellwa, a.shape)\n",
    "adenseadd"
   ]
  },
  {
   "cell_type": "code",
   "execution_count": 155,
   "id": "9dc5db0f",
   "metadata": {},
   "outputs": [
    {
     "data": {
      "text/plain": [
       "array([[0.29516777, 0.33338296, 0.2910005 , 0.5361629 , 0.31872442,\n",
       "        0.00900633, 0.53607106, 0.9474776 ],\n",
       "       [0.6204036 , 0.21273285, 0.59999454, 0.7183614 , 0.87148714,\n",
       "        0.69184786, 0.04276368, 0.46898165],\n",
       "       [0.02936536, 0.8756672 , 0.41719204, 0.13531114, 0.09763599,\n",
       "        0.21822612, 0.38778782, 0.0189462 ],\n",
       "       [0.7515835 , 0.12442248, 0.0349297 , 0.37084636, 0.19291036,\n",
       "        0.0798979 , 0.6807204 , 0.61051154]], dtype=float32)"
      ]
     },
     "execution_count": 155,
     "metadata": {},
     "output_type": "execute_result"
    }
   ],
   "source": [
    "a"
   ]
  },
  {
   "cell_type": "code",
   "execution_count": 156,
   "id": "7dffdf20",
   "metadata": {},
   "outputs": [
    {
     "data": {
      "text/plain": [
       "array([[ 0.13292159, -0.20273261,  1.0448247 ,  0.4868517 ,  0.7249878 ,\n",
       "         1.6218207 ,  0.41703546, -1.1581254 ],\n",
       "       [ 1.8033321 ,  1.2297767 ,  0.3011195 ,  0.5693663 ,  1.025062  ,\n",
       "        -2.1702912 , -1.7832675 ,  0.7361344 ],\n",
       "       [ 0.5765973 , -0.77569616,  0.5184834 , -1.2598531 ,  0.07274681,\n",
       "        -1.5193717 , -0.79238296, -0.6951347 ],\n",
       "       [ 0.05345648,  0.21328321, -1.9485346 ,  0.6406955 ,  1.1379646 ,\n",
       "        -0.21245147, -0.12579903,  1.1361357 ]], dtype=float32)"
      ]
     },
     "execution_count": 156,
     "metadata": {},
     "output_type": "execute_result"
    }
   ],
   "source": [
    "matadd"
   ]
  },
  {
   "cell_type": "code",
   "execution_count": 157,
   "id": "e0e10dd1",
   "metadata": {},
   "outputs": [
    {
     "data": {
      "text/plain": [
       "array([[ 0.42808938,  0.13065036,  1.3358252 ,  1.0230145 ,  1.0437123 ,\n",
       "         1.6308271 ,  0.9531065 , -0.21064782],\n",
       "       [ 2.4237356 ,  1.4425097 ,  0.90111405,  1.2877276 ,  1.8965491 ,\n",
       "        -1.4784434 , -1.7405038 ,  1.205116  ],\n",
       "       [ 0.60596263,  0.09997106,  0.93567544, -1.124542  ,  0.1703828 ,\n",
       "        -1.3011457 , -0.40459514, -0.6761885 ],\n",
       "       [ 0.80504   ,  0.3377057 , -1.9136049 ,  1.0115418 ,  1.3308749 ,\n",
       "        -0.13255358,  0.5549214 ,  1.7466472 ]], dtype=float32)"
      ]
     },
     "execution_count": 157,
     "metadata": {},
     "output_type": "execute_result"
    }
   ],
   "source": [
    "a_added"
   ]
  },
  {
   "cell_type": "code",
   "execution_count": 158,
   "id": "23f0c0c2",
   "metadata": {},
   "outputs": [
    {
     "data": {
      "text/plain": [
       "array([[ True,  True,  True,  True,  True,  True,  True,  True],\n",
       "       [ True,  True,  True,  True,  True,  True,  True,  True],\n",
       "       [ True,  True,  True,  True,  True,  True,  True,  True],\n",
       "       [ True,  True,  True,  True,  True,  True,  True,  True]])"
      ]
     },
     "execution_count": 158,
     "metadata": {},
     "output_type": "execute_result"
    }
   ],
   "source": [
    "adenseadd == a_added"
   ]
  },
  {
   "cell_type": "markdown",
   "id": "2c377b84",
   "metadata": {},
   "source": [
    "### update vals"
   ]
  },
  {
   "cell_type": "code",
   "execution_count": 159,
   "id": "f334a950",
   "metadata": {},
   "outputs": [],
   "source": [
    "adatat_buf = cl.Buffer(ctx, mf.READ_WRITE | mf.COPY_HOST_PTR, hostbuf=adatat)\n",
    "acolst_buf = cl.Buffer(ctx, mf.READ_WRITE | mf.COPY_HOST_PTR, hostbuf=acolst)\n",
    "annzst_buf = cl.Buffer(ctx, mf.READ_WRITE | mf.COPY_HOST_PTR, hostbuf=annzt)\n",
    "add_buf = cl.Buffer(ctx, mf.READ_WRITE | mf.COPY_HOST_PTR, hostbuf=matadd)\n",
    "\n",
    "prg = cl.Program(ctx, \"\"\"\n",
    "    // Every global_id_0 works on a row\n",
    "    __kernel void adddenset(__global  float* matData,     // INPUT MATRIX DATA\n",
    "                            __global  uint*  colIdx,\n",
    "                            __global  uint*  rowNnz,\n",
    "                            float  lr,\n",
    "                            uint   ellwidth,\n",
    "                            uint   aheight,\n",
    "                            __global  float* vector_x    // INPUT\n",
    "                            ) { // LOCAL SHARED BUFFER\n",
    "      uint gid = get_global_id(0);\n",
    "      uint ncols = get_global_size(0);\n",
    "\n",
    "      uint nnz    = rowNnz[gid];\n",
    "      uint baseidxs = gid*ellwidth;\n",
    "      \n",
    "      for (uint i=0; i<aheight; i++) {\n",
    "        if (nnz > ellwidth)\n",
    "            break;\n",
    "        uint baseidxd = i*ncols+gid;\n",
    "        float addval = vector_x[baseidxd];\n",
    "        //if (gid==1)\n",
    "        //  printf(\"\\\\nADD VAL:%.2f idx:%i/%i  col:%i\", addval, baseidxs+i, baseidxd+i, colIdx[baseidxs+i]);\n",
    "        if (addval == 0) {\n",
    "          continue;\n",
    "        }\n",
    "        if (i == colIdx[baseidxs+i]) {\n",
    "          printf(\"\\\\nADD VAL:%.2f idx:%i/%i  col:%i\", addval, baseidxs+i, baseidxd+i, colIdx[i]);\n",
    "          matData[baseidxs+i] += addval;\n",
    "        } else {\n",
    "          if (i > colIdx[baseidxs+i]) {\n",
    "            rowNnz[gid] += 1;\n",
    "            //if (gid==1)\n",
    "            //  printf(\"\\\\nSET VAL:%.2f idx:%i/%i  col:%i\", addval, baseidxs+i, baseidxd+i, colIdx[i]);\n",
    "            matData[baseidxs+i] = addval;\n",
    "            colIdx[baseidxs+i] = i;\n",
    "            if (nnz >= ellwidth)\n",
    "              break;\n",
    "          }\n",
    "          for (uint j=nnz; j>i; j--) {\n",
    "            //printf(\"\\\\nMOVE:%.2f\", matData[baseidx+j-1]);\n",
    "            colIdx[baseidxs+j] = colIdx[baseidxs+j-1];\n",
    "            matData[baseidxs+j] = matData[baseidxs+j-1];\n",
    "          }\n",
    "          rowNnz[gid] += 1;\n",
    "          nnz = rowNnz[gid];\n",
    "          //if (gid==1)\n",
    "          //  printf(\"\\\\nSET VAL:%.2f idx:%i/%i  col:%i\", addval, baseidxs+i, baseidxd+i, colIdx[i]);\n",
    "          matData[baseidxs+i] = addval;\n",
    "          colIdx[baseidxs+i] = i;\n",
    "        }\n",
    "      }\n",
    "    }\"\"\").build()"
   ]
  },
  {
   "cell_type": "code",
   "execution_count": 160,
   "id": "3df220e3",
   "metadata": {},
   "outputs": [
    {
     "data": {
      "text/plain": [
       "((4, 8), (8, 3))"
      ]
     },
     "execution_count": 160,
     "metadata": {},
     "output_type": "execute_result"
    }
   ],
   "source": [
    "a.shape, b.shape"
   ]
  },
  {
   "cell_type": "code",
   "execution_count": 161,
   "id": "4a70fde5",
   "metadata": {},
   "outputs": [],
   "source": [
    "res = np.zeros(a.shape[0]).astype(np.float32)\n",
    "#res"
   ]
  },
  {
   "cell_type": "code",
   "execution_count": 162,
   "id": "49cee8e5",
   "metadata": {},
   "outputs": [],
   "source": [
    "cols = a.shape[1]"
   ]
  },
  {
   "cell_type": "code",
   "execution_count": 163,
   "id": "ce0c1ed9",
   "metadata": {},
   "outputs": [],
   "source": [
    "mult = mult.astype(np.float32)"
   ]
  },
  {
   "cell_type": "code",
   "execution_count": 164,
   "id": "bf98ad4e",
   "metadata": {},
   "outputs": [
    {
     "data": {
      "text/plain": [
       "<pyopencl._cl.Event at 0x7f1c707429f0>"
      ]
     },
     "execution_count": 164,
     "metadata": {},
     "output_type": "execute_result"
    },
    {
     "name": "stdout",
     "output_type": "stream",
     "text": [
      "\n",
      "ADD VAL:0.13 idx:0/0  col:0\n",
      "ADD VAL:-0.20 idx:4/1  col:0\n",
      "ADD VAL:1.04 idx:8/2  col:0\n",
      "ADD VAL:0.49 idx:12/3  col:0\n",
      "ADD VAL:0.72 idx:16/4  col:0\n",
      "ADD VAL:1.62 idx:20/5  col:0\n",
      "ADD VAL:0.42 idx:24/6  col:0\n",
      "ADD VAL:-1.16 idx:28/7  col:0\n",
      "ADD VAL:1.80 idx:1/9  col:1\n",
      "ADD VAL:1.23 idx:5/10  col:1\n",
      "ADD VAL:0.30 idx:9/11  col:1\n",
      "ADD VAL:0.57 idx:13/12  col:1\n",
      "ADD VAL:1.03 idx:17/13  col:1\n",
      "ADD VAL:-2.17 idx:21/14  col:1\n",
      "ADD VAL:-1.78 idx:25/15  col:1\n",
      "ADD VAL:0.74 idx:29/16  col:1\n",
      "ADD VAL:0.58 idx:2/18  col:2\n",
      "ADD VAL:-0.78 idx:6/19  col:2\n",
      "ADD VAL:0.52 idx:10/20  col:2\n",
      "ADD VAL:-1.26 idx:14/21  col:2\n",
      "ADD VAL:0.07 idx:18/22  col:2\n",
      "ADD VAL:-1.52 idx:22/23  col:2\n",
      "ADD VAL:-0.79 idx:26/24  col:2\n",
      "ADD VAL:-0.70 idx:30/25  col:2\n",
      "ADD VAL:0.05 idx:3/27  col:3\n",
      "ADD VAL:0.21 idx:7/28  col:3\n",
      "ADD VAL:-1.95 idx:11/29  col:3\n",
      "ADD VAL:0.64 idx:15/30  col:3\n",
      "ADD VAL:1.14 idx:19/31  col:3\n",
      "ADD VAL:-0.21 idx:23/32  col:3\n",
      "ADD VAL:-0.13 idx:27/33  col:3\n",
      "ADD VAL:1.14 idx:31/34  col:3"
     ]
    }
   ],
   "source": [
    "res_buf = cl.Buffer(ctx, mf.WRITE_ONLY, b.nbytes)\n",
    "knl = prg.adddenset  # Use this Kernel object for repeated calls\n",
    "knl(queue, [cols], None, adatat_buf, acolst_buf, annzst_buf, np.float32(1), np.uint32(ellwat),np.uint32(a.T.shape[1]), add_buf)"
   ]
  },
  {
   "cell_type": "code",
   "execution_count": 165,
   "id": "d01027d6",
   "metadata": {},
   "outputs": [
    {
     "data": {
      "text/plain": [
       "0.13292159"
      ]
     },
     "execution_count": 165,
     "metadata": {},
     "output_type": "execute_result"
    }
   ],
   "source": [
    "matadd[0][0]"
   ]
  },
  {
   "cell_type": "code",
   "execution_count": 166,
   "id": "c8aa298b",
   "metadata": {},
   "outputs": [
    {
     "data": {
      "text/plain": [
       "<pyopencl._cl.NannyEvent at 0x7f1c70755130>"
      ]
     },
     "execution_count": 166,
     "metadata": {},
     "output_type": "execute_result"
    }
   ],
   "source": [
    "datat_res = np.empty_like(adatat)\n",
    "colst_res = np.empty_like(acolst)\n",
    "nnzst_res = np.empty_like(annzt)\n",
    "cl.enqueue_copy(queue, datat_res, adatat_buf)\n",
    "cl.enqueue_copy(queue, colst_res, acolst_buf)\n",
    "cl.enqueue_copy(queue, nnzst_res, annzst_buf)"
   ]
  },
  {
   "cell_type": "code",
   "execution_count": 167,
   "id": "1520b090",
   "metadata": {},
   "outputs": [
    {
     "data": {
      "text/plain": [
       "array([[ 0.42808938,  0.13065036,  1.3358252 ,  1.02301455,  1.04371226,\n",
       "         1.63082707,  0.95310652, -0.21064782],\n",
       "       [ 2.42373562,  1.44250965,  0.90111405,  1.28772759,  1.89654911,\n",
       "        -1.47844338, -1.74050379,  1.20511603],\n",
       "       [ 0.60596263,  0.09997106,  0.93567544, -1.124542  ,  0.1703828 ,\n",
       "        -1.30114567, -0.40459514, -0.67618853],\n",
       "       [ 0.80504   ,  0.3377057 , -1.91360486,  1.01154184,  1.33087492,\n",
       "        -0.13255358,  0.55492139,  1.74664724]])"
      ]
     },
     "execution_count": 167,
     "metadata": {},
     "output_type": "execute_result"
    }
   ],
   "source": [
    "adenseaddt = to_dense(datat_res, colst_res, nnzst_res, ellwat, a.T.shape).T\n",
    "adenseaddt"
   ]
  },
  {
   "cell_type": "code",
   "execution_count": 168,
   "id": "4991edea",
   "metadata": {},
   "outputs": [
    {
     "data": {
      "text/plain": [
       "array([[0.29516777, 0.33338296, 0.2910005 , 0.5361629 , 0.31872442,\n",
       "        0.00900633, 0.53607106, 0.9474776 ],\n",
       "       [0.6204036 , 0.21273285, 0.59999454, 0.7183614 , 0.87148714,\n",
       "        0.69184786, 0.04276368, 0.46898165],\n",
       "       [0.02936536, 0.8756672 , 0.41719204, 0.13531114, 0.09763599,\n",
       "        0.21822612, 0.38778782, 0.0189462 ],\n",
       "       [0.7515835 , 0.12442248, 0.0349297 , 0.37084636, 0.19291036,\n",
       "        0.0798979 , 0.6807204 , 0.61051154]], dtype=float32)"
      ]
     },
     "execution_count": 168,
     "metadata": {},
     "output_type": "execute_result"
    }
   ],
   "source": [
    "a"
   ]
  },
  {
   "cell_type": "code",
   "execution_count": 169,
   "id": "a02d1ebb",
   "metadata": {},
   "outputs": [
    {
     "data": {
      "text/plain": [
       "array([[ 0.13292159, -0.20273261,  1.0448247 ,  0.4868517 ,  0.7249878 ,\n",
       "         1.6218207 ,  0.41703546, -1.1581254 ],\n",
       "       [ 1.8033321 ,  1.2297767 ,  0.3011195 ,  0.5693663 ,  1.025062  ,\n",
       "        -2.1702912 , -1.7832675 ,  0.7361344 ],\n",
       "       [ 0.5765973 , -0.77569616,  0.5184834 , -1.2598531 ,  0.07274681,\n",
       "        -1.5193717 , -0.79238296, -0.6951347 ],\n",
       "       [ 0.05345648,  0.21328321, -1.9485346 ,  0.6406955 ,  1.1379646 ,\n",
       "        -0.21245147, -0.12579903,  1.1361357 ]], dtype=float32)"
      ]
     },
     "execution_count": 169,
     "metadata": {},
     "output_type": "execute_result"
    }
   ],
   "source": [
    "matadd"
   ]
  },
  {
   "cell_type": "code",
   "execution_count": 170,
   "id": "39b90dde",
   "metadata": {},
   "outputs": [
    {
     "data": {
      "text/plain": [
       "array([[ 0.42808938,  0.13065036,  1.3358252 ,  1.0230145 ,  1.0437123 ,\n",
       "         1.6308271 ,  0.9531065 , -0.21064782],\n",
       "       [ 2.4237356 ,  1.4425097 ,  0.90111405,  1.2877276 ,  1.8965491 ,\n",
       "        -1.4784434 , -1.7405038 ,  1.205116  ],\n",
       "       [ 0.60596263,  0.09997106,  0.93567544, -1.124542  ,  0.1703828 ,\n",
       "        -1.3011457 , -0.40459514, -0.6761885 ],\n",
       "       [ 0.80504   ,  0.3377057 , -1.9136049 ,  1.0115418 ,  1.3308749 ,\n",
       "        -0.13255358,  0.5549214 ,  1.7466472 ]], dtype=float32)"
      ]
     },
     "execution_count": 170,
     "metadata": {},
     "output_type": "execute_result"
    }
   ],
   "source": [
    "a_added"
   ]
  },
  {
   "cell_type": "code",
   "execution_count": 171,
   "id": "03c95777",
   "metadata": {},
   "outputs": [
    {
     "data": {
      "text/plain": [
       "array([[ True,  True,  True,  True,  True,  True,  True,  True],\n",
       "       [ True,  True,  True,  True,  True,  True,  True,  True],\n",
       "       [ True,  True,  True,  True,  True,  True,  True,  True],\n",
       "       [ True,  True,  True,  True,  True,  True,  True,  True]])"
      ]
     },
     "execution_count": 171,
     "metadata": {},
     "output_type": "execute_result"
    }
   ],
   "source": [
    "adenseaddt == a_added"
   ]
  },
  {
   "cell_type": "code",
   "execution_count": 172,
   "id": "1aab71c9",
   "metadata": {},
   "outputs": [
    {
     "data": {
      "text/plain": [
       "array([[ True,  True,  True,  True,  True,  True,  True,  True],\n",
       "       [ True,  True,  True,  True,  True,  True,  True,  True],\n",
       "       [ True,  True,  True,  True,  True,  True,  True,  True],\n",
       "       [ True,  True,  True,  True,  True,  True,  True,  True]])"
      ]
     },
     "execution_count": 172,
     "metadata": {},
     "output_type": "execute_result"
    }
   ],
   "source": [
    "adenseaddt == a_added"
   ]
  },
  {
   "cell_type": "markdown",
   "id": "f62eb300",
   "metadata": {},
   "source": [
    "### Make Random"
   ]
  },
  {
   "cell_type": "code",
   "execution_count": 180,
   "id": "bc590ff4",
   "metadata": {},
   "outputs": [
    {
     "data": {
      "text/plain": [
       "<SparseTensor <GPUBuffer with shape (8,)> with grad None>"
      ]
     },
     "execution_count": 180,
     "metadata": {},
     "output_type": "execute_result"
    }
   ],
   "source": [
    "rand = SparseTensor.uniform(2,4)\n",
    "rand"
   ]
  },
  {
   "cell_type": "code",
   "execution_count": 181,
   "id": "186cbd5b",
   "metadata": {},
   "outputs": [
    {
     "data": {
      "text/plain": [
       "array([[0.36719346, 0.0992442 , 0.28531802, 0.        ],\n",
       "       [0.44079751, 0.22904435, 0.        , 0.32733995]])"
      ]
     },
     "execution_count": 181,
     "metadata": {},
     "output_type": "execute_result"
    }
   ],
   "source": [
    "rand.to_numpy()"
   ]
  },
  {
   "cell_type": "code",
   "execution_count": null,
   "id": "86441521",
   "metadata": {},
   "outputs": [],
   "source": [
    "rand.data"
   ]
  },
  {
   "cell_type": "markdown",
   "id": "6644b755",
   "metadata": {},
   "source": [
    "### update vals"
   ]
  },
  {
   "cell_type": "code",
   "execution_count": null,
   "id": "73b60325",
   "metadata": {},
   "outputs": [],
   "source": [
    "adata_buf = cl.Buffer(ctx, mf.READ_WRITE | mf.COPY_HOST_PTR, hostbuf=adata)\n",
    "acols_buf = cl.Buffer(ctx, mf.READ_WRITE | mf.COPY_HOST_PTR, hostbuf=acols)\n",
    "annzs_buf = cl.Buffer(ctx, mf.READ_WRITE | mf.COPY_HOST_PTR, hostbuf=annz)"
   ]
  },
  {
   "cell_type": "code",
   "execution_count": null,
   "id": "7cb03af3",
   "metadata": {},
   "outputs": [],
   "source": [
    "prg = cl.Program(ctx, \"\"\"\n",
    "// Every global_id_0 works on a row\n",
    "    __kernel void addvals(__global  float* matData,     // INPUT MATRIX DATA\n",
    "                         __global  uint*  colIdx,\n",
    "                         __global  uint*  rowNnz,\n",
    "                         float lr,\n",
    "                         uint   ellwidth,\n",
    "                         __global  float* updatevals,    // INPUT\n",
    "                         __global  uint* updatexidx,\n",
    "                         __global  uint* updateyidx\n",
    "                         ) { // LOCAL SHARED BUFFER\n",
    "      uint gid = get_global_id(0);\n",
    "      uint gid2 = get_global_id(1);\n",
    "      uint topk = get_global_size(0);\n",
    "      uint bs = get_global_size(1);\n",
    "      uint baseupdateidx = topk*topk*gid2;\n",
    "      uint baseidxidx = topk*gid2;\n",
    "      uint col = updateyidx[baseidxidx+gid];\n",
    "\n",
    "      for (uint i=0; i<topk; i++) {\n",
    "        float val = updatevals[baseupdateidx+gid*topk+i];\n",
    "        uint row = updatexidx[baseidxidx+i];\n",
    "        for (uint i=0; i<rowNnz[row]; i++) {\n",
    "          uint idx = row*ellwidth+i;\n",
    "          if (colIdx[idx] >= col) {\n",
    "            //printf(\"\\\\nFOUND:%i/%i  - idx:%i\", colIdx[idx], col, idx);\n",
    "            if (colIdx[idx] == col) {\n",
    "              matData[idx] += -val*lr;\n",
    "              printf(\"\\\\nUPDATE[%i,%i]: %f\", row,col, val);\n",
    "              break;\n",
    "            } else {\n",
    "              // insert new column\n",
    "              printf(\"\\\\nINSERT[%i,%i]: %.2f\", row,col, val);\n",
    "              for (uint j=rowNnz[row]+1; j>i; j--) {\n",
    "                uint idx2 = row*ellwidth+j;\n",
    "                matData[idx2] = matData[idx2-1];\n",
    "                colIdx[idx2] = colIdx[idx2-1];\n",
    "              }\n",
    "              matData[idx] = -val*lr;\n",
    "              colIdx[idx] = col;\n",
    "              rowNnz[row] += 1;\n",
    "              break;\n",
    "            }\n",
    "          }\n",
    "        }\n",
    "        if (rowNnz[row] >= ellwidth) {\n",
    "          break;\n",
    "        }\n",
    "      }\n",
    "    }\"\"\").build()"
   ]
  },
  {
   "cell_type": "code",
   "execution_count": null,
   "id": "0aab86e1",
   "metadata": {},
   "outputs": [],
   "source": [
    "knl = prg.addvals  # Use this Kernel object for repeated calls\n",
    "knl(queue, [topk,bs], None, adata_buf, acols_buf, annzs_buf, np.float32(1), np.uint32(ellwa), x_cp_buf, x_idx_buf, y_idx_buf)\n",
    "\n",
    "resa = np.empty_like(adata)\n",
    "resaidx = np.zeros(acols.shape).astype(np.uint32)\n",
    "resannz = np.zeros(annz.shape).astype(np.uint32)\n",
    "\n",
    "cl.enqueue_copy(queue, resa, adata_buf)\n",
    "cl.enqueue_copy(queue, resaidx, acols_buf)\n",
    "cl.enqueue_copy(queue, resannz, annzs_buf)"
   ]
  },
  {
   "cell_type": "code",
   "execution_count": null,
   "id": "d2ff91ba",
   "metadata": {},
   "outputs": [],
   "source": [
    "resa.shape, resaidx.shape, resannz.shape, ellwa, a.T.shape"
   ]
  },
  {
   "cell_type": "code",
   "execution_count": null,
   "id": "190b8546",
   "metadata": {},
   "outputs": [],
   "source": [
    "adenseadd = to_dense(resa, resaidx, resannz, ellwa, a.T.shape)\n",
    "adenseadd"
   ]
  },
  {
   "cell_type": "code",
   "execution_count": null,
   "id": "3211c6e6",
   "metadata": {},
   "outputs": [],
   "source": [
    "adenseadd - adense"
   ]
  },
  {
   "cell_type": "code",
   "execution_count": null,
   "id": "f63c469b",
   "metadata": {},
   "outputs": [],
   "source": [
    "adenseadd == adense"
   ]
  },
  {
   "cell_type": "code",
   "execution_count": null,
   "id": "922fdfb7",
   "metadata": {},
   "outputs": [],
   "source": [
    "ellwa"
   ]
  },
  {
   "cell_type": "code",
   "execution_count": null,
   "id": "9da55fa5",
   "metadata": {},
   "outputs": [],
   "source": [
    "adata2 = adata.reshape(-1, ellwa)\n",
    "adata2"
   ]
  },
  {
   "cell_type": "code",
   "execution_count": null,
   "id": "466c61fb",
   "metadata": {},
   "outputs": [],
   "source": [
    "resa = resa.reshape(-1, ellwa)\n",
    "resa"
   ]
  },
  {
   "cell_type": "code",
   "execution_count": null,
   "id": "30f36719",
   "metadata": {},
   "outputs": [],
   "source": [
    "resa - adata2"
   ]
  },
  {
   "cell_type": "code",
   "execution_count": null,
   "id": "9dd6baf4",
   "metadata": {},
   "outputs": [],
   "source": [
    "acols"
   ]
  },
  {
   "cell_type": "code",
   "execution_count": null,
   "id": "5c526051",
   "metadata": {},
   "outputs": [],
   "source": [
    "resaidx"
   ]
  },
  {
   "cell_type": "code",
   "execution_count": null,
   "id": "f635a14d",
   "metadata": {},
   "outputs": [],
   "source": [
    "resannz"
   ]
  },
  {
   "cell_type": "code",
   "execution_count": null,
   "id": "d99713b6",
   "metadata": {},
   "outputs": [],
   "source": [
    "annz"
   ]
  },
  {
   "cell_type": "markdown",
   "id": "7c703466",
   "metadata": {},
   "source": [
    "### update vals2"
   ]
  },
  {
   "cell_type": "code",
   "execution_count": null,
   "id": "ed7e786b",
   "metadata": {},
   "outputs": [],
   "source": [
    "adatat_buf = cl.Buffer(ctx, mf.READ_WRITE | mf.COPY_HOST_PTR, hostbuf=adatat)\n",
    "acolst_buf = cl.Buffer(ctx, mf.READ_WRITE | mf.COPY_HOST_PTR, hostbuf=acolst)\n",
    "annzst_buf = cl.Buffer(ctx, mf.READ_WRITE | mf.COPY_HOST_PTR, hostbuf=annzt)"
   ]
  },
  {
   "cell_type": "code",
   "execution_count": null,
   "id": "33840479",
   "metadata": {},
   "outputs": [],
   "source": [
    "prg = cl.Program(ctx, \"\"\"\n",
    "// Every global_id_0 works on a row\n",
    "    __kernel void addvals(__global  float* matData,     // INPUT MATRIX DATA\n",
    "                         __global  uint*  colIdx,\n",
    "                         __global  uint*  rowNnz,\n",
    "                         float lr,\n",
    "                         uint   ellwidth,\n",
    "                         __global  float* updatevals,    // INPUT\n",
    "                         __global  uint* updatexidx,\n",
    "                         __global  uint* updateyidx\n",
    "                         ) { // LOCAL SHARED BUFFER\n",
    "      uint gid = get_global_id(0);\n",
    "      uint gid2 = get_global_id(1);\n",
    "      uint topk = get_global_size(0);\n",
    "      uint bs = get_global_size(1);\n",
    "      uint baseupdateidx = topk*topk*gid2;\n",
    "      uint baseidxidx = topk*gid2;\n",
    "      uint row = updateyidx[baseidxidx+gid];\n",
    "\n",
    "      for (uint i=0; i<topk; i++) {\n",
    "        float val = updatevals[baseupdateidx+gid*topk+i];\n",
    "        uint col = updatexidx[baseidxidx+i];\n",
    "        for (uint i=0; i<rowNnz[row]; i++) {\n",
    "          uint idx = row*ellwidth+i;\n",
    "          if (colIdx[idx] >= col) {\n",
    "            //printf(\"\\\\nFOUND:%i/%i  - idx:%i\", colIdx[idx], col, idx);\n",
    "            if (colIdx[idx] == col) {\n",
    "              matData[idx] += -val*lr;\n",
    "              printf(\"\\\\nUPDATE[%i,%i]: %f\", row,col, val);\n",
    "              break;\n",
    "            } else {\n",
    "              // insert new column\n",
    "              printf(\"\\\\nINSERT[%i,%i]: %.2f\", row,col, val);\n",
    "              for (uint j=rowNnz[row]+1; j>i; j--) {\n",
    "                uint idx2 = row*ellwidth+j;\n",
    "                matData[idx2] = matData[idx2-1];\n",
    "                colIdx[idx2] = colIdx[idx2-1];\n",
    "              }\n",
    "              matData[idx] = -val*lr;\n",
    "              colIdx[idx] = col;\n",
    "              rowNnz[row] += 1;\n",
    "              break;\n",
    "            }\n",
    "          }\n",
    "        }\n",
    "        if (rowNnz[row] >= ellwidth) {\n",
    "          break;\n",
    "        }\n",
    "      }\n",
    "    }\"\"\").build()"
   ]
  },
  {
   "cell_type": "code",
   "execution_count": null,
   "id": "0053ed70",
   "metadata": {},
   "outputs": [],
   "source": [
    "knl = prg.addvals  # Use this Kernel object for repeated calls\n",
    "knl(queue, [topk,bs], None, adatat_buf, acolst_buf, annzst_buf, np.float32(1), np.uint32(ellwat), x_cp_buf, x_idx_buf, y_idx_buf)\n",
    "\n",
    "resat = np.empty_like(adatat)\n",
    "resaidxt = np.zeros(acolst.shape).astype(np.uint32)\n",
    "resannzt = np.zeros(annzt.shape).astype(np.uint32)\n",
    "\n",
    "cl.enqueue_copy(queue, resat, adatat_buf)\n",
    "cl.enqueue_copy(queue, resaidxt, acolst_buf)\n",
    "cl.enqueue_copy(queue, resannzt, annzst_buf)"
   ]
  },
  {
   "cell_type": "code",
   "execution_count": null,
   "id": "8f781e72",
   "metadata": {},
   "outputs": [],
   "source": [
    "ellwa"
   ]
  },
  {
   "cell_type": "code",
   "execution_count": null,
   "id": "1864d3ac",
   "metadata": {},
   "outputs": [],
   "source": [
    "resat.shape, resaidxt.shape, resannzt.shape"
   ]
  },
  {
   "cell_type": "code",
   "execution_count": null,
   "id": "6205962b",
   "metadata": {},
   "outputs": [],
   "source": [
    "adenseaddt = to_dense(resat, resaidxt, resannzt, ellwat, a.T.shape)\n",
    "adenseaddt"
   ]
  },
  {
   "cell_type": "code",
   "execution_count": null,
   "id": "c601a02c",
   "metadata": {},
   "outputs": [],
   "source": [
    "adenseadd == adenseaddt.T"
   ]
  },
  {
   "cell_type": "code",
   "execution_count": null,
   "id": "64a4fdb0",
   "metadata": {},
   "outputs": [],
   "source": [
    "adata2t = adatat.reshape(-1, ellwat)\n",
    "adata2t"
   ]
  },
  {
   "cell_type": "code",
   "execution_count": null,
   "id": "3b8f6062",
   "metadata": {},
   "outputs": [],
   "source": [
    "resat = resat.reshape(-1, ellwat)\n",
    "resat"
   ]
  },
  {
   "cell_type": "code",
   "execution_count": null,
   "id": "eb51f891",
   "metadata": {},
   "outputs": [],
   "source": [
    "resat - adata2t"
   ]
  },
  {
   "cell_type": "code",
   "execution_count": null,
   "id": "f7e150fe",
   "metadata": {},
   "outputs": [],
   "source": [
    "acols"
   ]
  },
  {
   "cell_type": "code",
   "execution_count": null,
   "id": "8f1f18f1",
   "metadata": {},
   "outputs": [],
   "source": [
    "resaidx"
   ]
  },
  {
   "cell_type": "code",
   "execution_count": null,
   "id": "bd326e73",
   "metadata": {},
   "outputs": [],
   "source": [
    "resannz"
   ]
  },
  {
   "cell_type": "code",
   "execution_count": null,
   "id": "357413c1",
   "metadata": {},
   "outputs": [],
   "source": [
    "annz"
   ]
  },
  {
   "cell_type": "markdown",
   "id": "7f618bfd",
   "metadata": {},
   "source": [
    "# OTHER"
   ]
  },
  {
   "cell_type": "markdown",
   "id": "28fd6b45",
   "metadata": {},
   "source": [
    "import numpy as np\n",
    "import pyopencl as cl\n",
    "\n",
    "mf = cl.mem_flags"
   ]
  },
  {
   "cell_type": "markdown",
   "id": "ebed13d1",
   "metadata": {},
   "source": [
    "dim = 16\n",
    "topk = 4\n",
    "\n",
    "x = np.random.rand(dim).astype(np.float32)\n",
    "y = np.random.rand(dim).astype(np.float32)\n",
    "x.shape,y.shape"
   ]
  },
  {
   "cell_type": "markdown",
   "id": "444a4a7f",
   "metadata": {},
   "source": [
    "dim1 = 4\n",
    "dim2 = 8\n",
    "dim3 = 1\n",
    "\n",
    "ctx = cl.create_some_context()\n",
    "queue = cl.CommandQueue(ctx,\n",
    "        properties=cl.command_queue_properties.PROFILING_ENABLE)\n",
    "\n",
    "sparsity = 0.2\n",
    "\n",
    "a = np.zeros((dim1,dim2))\n",
    "b = np.random.rand(dim2,dim3).flatten().astype(np.float32)\n",
    "\n",
    "a.shape, b.shape"
   ]
  },
  {
   "cell_type": "code",
   "execution_count": null,
   "id": "e2d4594d",
   "metadata": {},
   "outputs": [],
   "source": [
    "x_buf = cl.Buffer(ctx, mf.READ_ONLY | mf.COPY_HOST_PTR, hostbuf=x)\n",
    "y_buf = cl.Buffer(ctx, mf.READ_ONLY | mf.COPY_HOST_PTR, hostbuf=y)\n",
    "val_out_buf = cl.Buffer(ctx, mf.READ_WRITE, 4*topk*topk)\n",
    "x_idx_buf = cl.Buffer(ctx, mf.READ_WRITE, topk*4)\n",
    "y_idx_buf = cl.Buffer(ctx, mf.READ_WRITE, topk*4)\n",
    "\n",
    "prg = cl.Program(ctx, \"\"\"\n",
    "// Every global_id_0 works on a row\n",
    "__kernel void genwupdate2(__global  float* x,     // INPUT MATRIX DATA\n",
    "                         __global  float* y,    // INPUT\n",
    "                         __global  float* xout,    // INPUT\n",
    "                         uint topk,\n",
    "                         __global  uint* xoutidx,    // INPUT\n",
    "                         __global  uint* youtidx    // INPUT\n",
    "                        ) { // LOCAL SHARED BUFFER\n",
    "  uint gid = get_global_id(0);\n",
    "  uint n = get_global_size(0);\n",
    "  \n",
    "  xout[gid] = x[gid];\n",
    "  xoutidx[gid] = gid;\n",
    "  youtidx[gid] = gid;\n",
    "  \n",
    "  float valx = x[gid];\n",
    "  float valy = y[gid];\n",
    "  uint posx = 0;\n",
    "  uint posy = 0;\n",
    "  for (uint i = 0; i < n; i++) {\n",
    "    float tempval = x[i];\n",
    "    float tempval2 = y[i];\n",
    "    bool larger = tempval > valx;\n",
    "    bool larger2 = tempval2 > valy;\n",
    "      \n",
    "    posx += (larger)?1:0;\n",
    "    posy += (larger2)?1:0;\n",
    "  }\n",
    "  //printf(\"posx:%i\", posx);\n",
    "  if (posx < topk) {\n",
    "    xoutidx[posx] = gid;\n",
    "  }\n",
    "  if (posy < topk) {\n",
    "    youtidx[posy] = gid;\n",
    "  }\n",
    "  if (gid < topk) {\n",
    "    uint i = gid;\n",
    "    for (uint j=0; j<topk; j++) {\n",
    "      xout[gid*topk+j] = x[xoutidx[gid]] * y[youtidx[j]];\n",
    "    }\n",
    "  }\n",
    "}\"\"\").build()"
   ]
  },
  {
   "cell_type": "code",
   "execution_count": null,
   "id": "f45b3b69",
   "metadata": {},
   "outputs": [],
   "source": [
    "knl = prg.genwupdate2  # Use this Kernel object for repeated calls\n",
    "event = knl(queue, [dim,], None, x_buf, y_buf, val_out_buf, np.uint32(topk), x_idx_buf, y_idx_buf)\n",
    "\n",
    "#event.wait()\n",
    "val_out = np.zeros(topk*topk).astype(np.float32)\n",
    "resxidx = np.zeros(topk).astype(np.uint32)\n",
    "resyidx = np.zeros(topk).astype(np.uint32)\n",
    "\n",
    "cl.enqueue_copy(queue, val_out, val_out_buf)\n",
    "cl.enqueue_copy(queue, resxidx, x_idx_buf, wait_for=[event])\n",
    "cl.enqueue_copy(queue, resyidx, y_idx_buf)"
   ]
  },
  {
   "cell_type": "code",
   "execution_count": null,
   "id": "d883394f",
   "metadata": {},
   "outputs": [],
   "source": [
    "val_out"
   ]
  },
  {
   "cell_type": "code",
   "execution_count": null,
   "id": "2335cf69",
   "metadata": {},
   "outputs": [],
   "source": [
    "resxidx"
   ]
  },
  {
   "cell_type": "code",
   "execution_count": null,
   "id": "5e714f2a",
   "metadata": {},
   "outputs": [],
   "source": [
    "resyidx"
   ]
  },
  {
   "cell_type": "code",
   "execution_count": null,
   "id": "f246c208",
   "metadata": {},
   "outputs": [],
   "source": [
    "asdf"
   ]
  },
  {
   "cell_type": "code",
   "execution_count": null,
   "id": "02a5c5dd",
   "metadata": {},
   "outputs": [],
   "source": [
    "from __future__ import division\n",
    "\n",
    "KERNEL_CODE = \"\"\"\n",
    "// Thread block size\n",
    "#define BLOCK_SIZE %(block_size)d\n",
    "// Matrix dimensions\n",
    "// (chosen as multiples of the thread block size for simplicity)\n",
    "#define WA %(w_a)d // Matrix A width\n",
    "#define HA %(h_a)d // Matrix A height\n",
    "#define WB %(w_b)d // Matrix B width\n",
    "#define HB WA  // Matrix B height\n",
    "#define WC WB  // Matrix C width\n",
    "#define HC HA  // Matrix C height\n",
    "/*\n",
    " * Copyright 1993-2009 NVIDIA Corporation.  All rights reserved.\n",
    " *\n",
    " * NVIDIA Corporation and its licensors retain all intellectual property and\n",
    " * proprietary rights in and to this software and related documentation.\n",
    " * Any use, reproduction, disclosure, or distribution of this software\n",
    " * and related documentation without an express license agreement from\n",
    " * NVIDIA Corporation is strictly prohibited.\n",
    " *\n",
    " * Please refer to the applicable NVIDIA end user license agreement (EULA)\n",
    " * associated with this source code for terms and conditions that govern\n",
    " * your use of this NVIDIA software.\n",
    " *\n",
    " */\n",
    "/* Matrix multiplication: C = A * B.\n",
    " * Device code.\n",
    " */\n",
    "#define AS(j, i) As[i + j * BLOCK_SIZE]\n",
    "#define BS(j, i) Bs[i + j * BLOCK_SIZE]\n",
    "////////////////////////////////////////////////////////////////////////////////\n",
    "//! Matrix multiplication on the device: C = A * B\n",
    "//! WA is A's width and WB is B's width\n",
    "////////////////////////////////////////////////////////////////////////////////\n",
    "__kernel __attribute__((reqd_work_group_size(16,16,1))) \n",
    "void\n",
    "matrixMul( __global float* C, __global float* A, __global float* B)\n",
    "{\n",
    "    __local float As[BLOCK_SIZE*BLOCK_SIZE];\n",
    "    __local float Bs[BLOCK_SIZE*BLOCK_SIZE];\n",
    "    // Block index\n",
    "    int bx = get_group_id(0);\n",
    "    int by = get_group_id(1);\n",
    "    // Thread index\n",
    "    int tx = get_local_id(0);\n",
    "    int ty = get_local_id(1);\n",
    "    // Index of the first sub-matrix of A processed by the block\n",
    "    int aBegin = WA * BLOCK_SIZE * by;\n",
    "    // Index of the last sub-matrix of A processed by the block\n",
    "    int aEnd   = aBegin + WA - 1;\n",
    "    // Step size used to iterate through the sub-matrices of A\n",
    "    int aStep  = BLOCK_SIZE;\n",
    "    // Index of the first sub-matrix of B processed by the block\n",
    "    int bBegin = BLOCK_SIZE * bx;\n",
    "    // Step size used to iterate through the sub-matrices of B\n",
    "    int bStep  = BLOCK_SIZE * WB;\n",
    "    // Csub is used to store the element of the block sub-matrix\n",
    "    // that is computed by the thread\n",
    "    float Csub = 0.0f;\n",
    "    // Loop over all the sub-matrices of A and B\n",
    "    // required to compute the block sub-matrix\n",
    "    for (int a = aBegin, b = bBegin;\n",
    "             a <= aEnd;\n",
    "             a += aStep, b += bStep) {\n",
    "        // Load the matrices from device memory\n",
    "        // to shared memory; each thread loads\n",
    "        // one element of each matrix\n",
    "        AS(ty, tx) = A[a + WA * ty + tx];\n",
    "        BS(ty, tx) = B[b + WB * ty + tx];\n",
    "        // Synchronize to make sure the matrices are loaded\n",
    "        barrier(CLK_LOCAL_MEM_FENCE);\n",
    "        // Multiply the two matrices together;\n",
    "        // each thread computes one element\n",
    "        // of the block sub-matrix\n",
    "        for (int k = 0; k < BLOCK_SIZE; ++k)\n",
    "            Csub += AS(ty, k) * BS(k, tx);\n",
    "        // Synchronize to make sure that the preceding\n",
    "        // computation is done before loading two new\n",
    "        // sub-matrices of A and B in the next iteration\n",
    "        barrier(CLK_LOCAL_MEM_FENCE);\n",
    "    }\n",
    "    // Write the block sub-matrix to device memory;\n",
    "    // each thread writes one element\n",
    "    C[get_global_id(1) * get_global_size(0) + get_global_id(0)] = Csub;\n",
    "}\n",
    "\"\"\"\n"
   ]
  },
  {
   "cell_type": "code",
   "execution_count": null,
   "id": "c1eb509e",
   "metadata": {},
   "outputs": [],
   "source": []
  },
  {
   "cell_type": "code",
   "execution_count": null,
   "id": "77b4a04e",
   "metadata": {},
   "outputs": [],
   "source": []
  },
  {
   "cell_type": "code",
   "execution_count": null,
   "id": "a0521855",
   "metadata": {},
   "outputs": [],
   "source": []
  },
  {
   "cell_type": "code",
   "execution_count": null,
   "id": "9a61206e",
   "metadata": {},
   "outputs": [],
   "source": []
  },
  {
   "cell_type": "code",
   "execution_count": null,
   "id": "16d754cb",
   "metadata": {},
   "outputs": [],
   "source": []
  },
  {
   "cell_type": "code",
   "execution_count": null,
   "id": "c91d5425",
   "metadata": {},
   "outputs": [],
   "source": []
  },
  {
   "cell_type": "code",
   "execution_count": null,
   "id": "d9f4a6f0",
   "metadata": {},
   "outputs": [],
   "source": []
  },
  {
   "cell_type": "code",
   "execution_count": null,
   "id": "9f708713",
   "metadata": {},
   "outputs": [],
   "source": []
  },
  {
   "cell_type": "code",
   "execution_count": null,
   "id": "e59475d1",
   "metadata": {},
   "outputs": [],
   "source": []
  },
  {
   "cell_type": "code",
   "execution_count": null,
   "id": "3dd6c3a3",
   "metadata": {},
   "outputs": [],
   "source": []
  },
  {
   "cell_type": "code",
   "execution_count": null,
   "id": "7e83b426",
   "metadata": {},
   "outputs": [],
   "source": []
  },
  {
   "cell_type": "code",
   "execution_count": null,
   "id": "af6af470",
   "metadata": {},
   "outputs": [],
   "source": []
  },
  {
   "cell_type": "code",
   "execution_count": null,
   "id": "e2b3a039",
   "metadata": {},
   "outputs": [],
   "source": []
  },
  {
   "cell_type": "code",
   "execution_count": null,
   "id": "2da19095",
   "metadata": {},
   "outputs": [],
   "source": []
  }
 ],
 "metadata": {
  "kernelspec": {
   "display_name": "Python 3",
   "language": "python",
   "name": "python3"
  },
  "language_info": {
   "codemirror_mode": {
    "name": "ipython",
    "version": 3
   },
   "file_extension": ".py",
   "mimetype": "text/x-python",
   "name": "python",
   "nbconvert_exporter": "python",
   "pygments_lexer": "ipython3",
   "version": "3.8.12"
  }
 },
 "nbformat": 4,
 "nbformat_minor": 5
}
