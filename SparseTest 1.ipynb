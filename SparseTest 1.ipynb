{
 "cells": [
  {
   "cell_type": "code",
   "execution_count": 1,
   "id": "4309590e",
   "metadata": {},
   "outputs": [
    {
     "name": "stdout",
     "output_type": "stream",
     "text": [
      "DEVICE:GPU\n"
     ]
    }
   ],
   "source": [
    "from tinygrad.densetensor import DenseTensor\n",
    "from tinygrad.sparsetensor import SparseTensor\n",
    "import numpy as np\n",
    "\n",
    "%load_ext autoreload\n",
    "%autoreload 2"
   ]
  },
  {
   "cell_type": "code",
   "execution_count": 2,
   "id": "4cb532fa",
   "metadata": {},
   "outputs": [],
   "source": [
    "x_init = np.random.randn(1,3).astype(np.float32)\n",
    "x2_init = np.random.randn(3).astype(np.float32)\n",
    "U_init = np.random.randn(3,3).astype(np.float32)\n",
    "V_init = np.random.randn(3,3).astype(np.float32)\n",
    "W_init = np.random.randn(3,3).astype(np.float32)\n",
    "m_init = np.random.randn(1,3).astype(np.float32)"
   ]
  },
  {
   "cell_type": "code",
   "execution_count": 3,
   "id": "3fb8a745",
   "metadata": {},
   "outputs": [
    {
     "data": {
      "text/plain": [
       "(array([-3.1604867], dtype=float32),\n",
       " <DenseTensor <GPUBuffer with shape (1, 3)> with grad <GPUBuffer with shape (1, 3)>>)"
      ]
     },
     "execution_count": 3,
     "metadata": {},
     "output_type": "execute_result"
    }
   ],
   "source": [
    "x = DenseTensor(x_init)\n",
    "W = DenseTensor(W_init)\n",
    "m = DenseTensor(m_init)\n",
    "out = x.dot(W).relu()\n",
    "out = out.logsoftmax()\n",
    "out = out.mul(m).add(m).sum()\n",
    "out.backward()\n",
    "\n",
    "out.cpu().data, x"
   ]
  },
  {
   "cell_type": "markdown",
   "id": "62d0edbe",
   "metadata": {
    "scrolled": true
   },
   "source": [
    "x2 = DenseTensor(x2_init)#.gpu()\n",
    "W = SparseTensor(W_init)\n",
    "out = W.dot(x2).relu().sum()\n",
    "\n",
    "out.backward()\n",
    "\n",
    "out.cpu().data, x"
   ]
  },
  {
   "cell_type": "code",
   "execution_count": 4,
   "id": "c3d0659d",
   "metadata": {},
   "outputs": [],
   "source": [
    "import numpy as np\n",
    "import pyopencl as cl\n",
    "\n",
    "mf = cl.mem_flags"
   ]
  },
  {
   "cell_type": "code",
   "execution_count": 5,
   "id": "a0cc978b",
   "metadata": {},
   "outputs": [
    {
     "data": {
      "text/plain": [
       "((8, 8), (4, 8))"
      ]
     },
     "execution_count": 5,
     "metadata": {},
     "output_type": "execute_result"
    }
   ],
   "source": [
    "dim1 = 8\n",
    "dim2 = 8\n",
    "dim3 = 8\n",
    "bs = 4\n",
    "\n",
    "ctx = cl.create_some_context()\n",
    "queue = cl.CommandQueue(ctx,\n",
    "        properties=cl.command_queue_properties.PROFILING_ENABLE)\n",
    "\n",
    "sparsity = 0.2\n",
    "\n",
    "a = np.zeros((dim1,dim2))\n",
    "b = np.random.rand(4,dim3).astype(np.float32)\n",
    "\n",
    "a.shape, b.shape"
   ]
  },
  {
   "cell_type": "code",
   "execution_count": 6,
   "id": "7ecf7a2b",
   "metadata": {},
   "outputs": [],
   "source": [
    "def fill_sparse(mat, sparsity=0.1):\n",
    "    indices = np.array(range(mat.shape[1]))\n",
    "    nrows = int(mat.shape[1]*sparsity)\n",
    "    for row in range(mat.shape[0]):\n",
    "        lim = nrows #+ int(np.random.random()*3)\n",
    "        mat[row][np.random.permutation(indices)[:lim]] = np.random.random(lim)\n",
    "    return mat\n",
    "\n",
    "a = fill_sparse(a, 0.9).astype(np.float32)\n",
    "#b = fill_sparse(b, sparsity)"
   ]
  },
  {
   "cell_type": "code",
   "execution_count": 7,
   "id": "b32f0e9a",
   "metadata": {},
   "outputs": [
    {
     "data": {
      "text/plain": [
       "array([[0.16961966, 0.5964418 , 0.5171895 , 0.74336094, 0.48799506,\n",
       "        0.32877994, 0.        , 0.7093185 ],\n",
       "       [0.39712888, 0.510253  , 0.        , 0.64409375, 0.67125344,\n",
       "        0.57573944, 0.46538112, 0.3581028 ],\n",
       "       [0.13251007, 0.9755912 , 0.23229332, 0.32986483, 0.07646387,\n",
       "        0.44998506, 0.        , 0.3866979 ],\n",
       "       [0.0481182 , 0.08422235, 0.42488804, 0.        , 0.5962461 ,\n",
       "        0.3434182 , 0.10857241, 0.74565107],\n",
       "       [0.        , 0.5541187 , 0.24228822, 0.63623714, 0.4712802 ,\n",
       "        0.5582224 , 0.23590986, 0.18378867],\n",
       "       [0.08376146, 0.10682349, 0.46714184, 0.53649616, 0.17192142,\n",
       "        0.5313124 , 0.        , 0.8377917 ],\n",
       "       [0.77677315, 0.3933695 , 0.48234862, 0.31966466, 0.83224964,\n",
       "        0.20107165, 0.29474154, 0.        ],\n",
       "       [0.19884802, 0.        , 0.62628335, 0.02330758, 0.38636607,\n",
       "        0.5560139 , 0.7838986 , 0.30145356]], dtype=float32)"
      ]
     },
     "execution_count": 7,
     "metadata": {},
     "output_type": "execute_result"
    }
   ],
   "source": [
    "a"
   ]
  },
  {
   "cell_type": "code",
   "execution_count": 8,
   "id": "d286d740",
   "metadata": {},
   "outputs": [
    {
     "data": {
      "text/plain": [
       "array([[0.5758158 , 0.83606327, 0.8954073 , 0.89344084, 0.58846396,\n",
       "        0.0793886 , 0.7087831 , 0.37386844],\n",
       "       [0.18805529, 0.97089976, 0.01458754, 0.43385914, 0.71578693,\n",
       "        0.9443288 , 0.45588118, 0.6926704 ],\n",
       "       [0.94750524, 0.04013106, 0.63719   , 0.95751846, 0.6438051 ,\n",
       "        0.6866626 , 0.32253084, 0.69727325],\n",
       "       [0.44304255, 0.3809702 , 0.26089582, 0.30254954, 0.62685245,\n",
       "        0.03873152, 0.86441535, 0.6877234 ]], dtype=float32)"
      ]
     },
     "execution_count": 8,
     "metadata": {},
     "output_type": "execute_result"
    }
   ],
   "source": [
    "b"
   ]
  },
  {
   "cell_type": "code",
   "execution_count": 9,
   "id": "45c14776",
   "metadata": {},
   "outputs": [
    {
     "data": {
      "text/plain": [
       "array([-1.9369417 , -0.40373948, -1.6533662 ], dtype=float32)"
      ]
     },
     "execution_count": 9,
     "metadata": {},
     "output_type": "execute_result"
    }
   ],
   "source": [
    "x2_init.T"
   ]
  },
  {
   "cell_type": "code",
   "execution_count": 10,
   "id": "6b2b88a2",
   "metadata": {},
   "outputs": [
    {
     "data": {
      "text/plain": [
       "(8, 4)"
      ]
     },
     "execution_count": 10,
     "metadata": {},
     "output_type": "execute_result"
    }
   ],
   "source": [
    "mult = a.dot(b.T)\n",
    "mult.shape"
   ]
  },
  {
   "cell_type": "code",
   "execution_count": 11,
   "id": "d33049e0",
   "metadata": {},
   "outputs": [
    {
     "data": {
      "text/plain": [
       "(8, 4)"
      ]
     },
     "execution_count": 11,
     "metadata": {},
     "output_type": "execute_result"
    }
   ],
   "source": [
    "mult.shape"
   ]
  },
  {
   "cell_type": "code",
   "execution_count": 12,
   "id": "67872651",
   "metadata": {},
   "outputs": [],
   "source": [
    "def to_data(mat):\n",
    "    all_rows = []\n",
    "    all_idxs = []\n",
    "    all_nnzs = []\n",
    "    for row in range(mat.shape[0]):\n",
    "        rowdata = []\n",
    "        colidxs = []\n",
    "        all_nnzs.append(0)\n",
    "        for col in range(mat.shape[1]):\n",
    "            val = mat[row][col]\n",
    "            if val != 0:\n",
    "                rowdata.append(val)\n",
    "                colidxs.append(col)\n",
    "                all_nnzs[-1] += 1\n",
    "        all_rows.append(rowdata)\n",
    "        all_idxs.append(colidxs)\n",
    "    \n",
    "    ellwidth = int(np.sqrt(np.max(all_nnzs))+1)**2\n",
    "    #all_rows = np.array(all_rows)#.astype(np.float32).flatten()           \n",
    "    for row in range(mat.shape[0]):\n",
    "        #print(row, all_rows)\n",
    "        all_rows[row] = np.array(all_rows[row])\n",
    "        all_rows[row].resize(ellwidth)\n",
    "        all_idxs[row] = np.array(all_idxs[row])\n",
    "        all_idxs[row].resize(ellwidth)\n",
    "        print(all_idxs[row])\n",
    "    all_rows = np.array(all_rows).astype(np.float32).flatten()\n",
    "    print(all_idxs)\n",
    "    all_idxs = np.array(all_idxs).astype(np.uint32).flatten()\n",
    "    all_nnzs = np.array(all_nnzs).astype(np.uint32)\n",
    "    \n",
    "    return all_rows, all_idxs, all_nnzs, ellwidth"
   ]
  },
  {
   "cell_type": "code",
   "execution_count": 13,
   "id": "3cc9dd5d",
   "metadata": {},
   "outputs": [],
   "source": [
    "def to_dense(data, cols, nnzs, ellw, shape):\n",
    "    out = np.zeros(shape)\n",
    "    for row in range(shape[0]):\n",
    "        for icol in range(nnzs[row]):\n",
    "            out[row,cols[row*ellw+icol]] = data[row*ellw+icol]\n",
    "    return out"
   ]
  },
  {
   "cell_type": "code",
   "execution_count": 14,
   "id": "5c9c6134",
   "metadata": {},
   "outputs": [
    {
     "name": "stdout",
     "output_type": "stream",
     "text": [
      "[0 1 2 3 4 5 7 0 0]\n",
      "[0 1 3 4 5 6 7 0 0]\n",
      "[0 1 2 3 4 5 7 0 0]\n",
      "[0 1 2 4 5 6 7 0 0]\n",
      "[1 2 3 4 5 6 7 0 0]\n",
      "[0 1 2 3 4 5 7 0 0]\n",
      "[0 1 2 3 4 5 6 0 0]\n",
      "[0 2 3 4 5 6 7 0 0]\n",
      "[array([0, 1, 2, 3, 4, 5, 7, 0, 0]), array([0, 1, 3, 4, 5, 6, 7, 0, 0]), array([0, 1, 2, 3, 4, 5, 7, 0, 0]), array([0, 1, 2, 4, 5, 6, 7, 0, 0]), array([1, 2, 3, 4, 5, 6, 7, 0, 0]), array([0, 1, 2, 3, 4, 5, 7, 0, 0]), array([0, 1, 2, 3, 4, 5, 6, 0, 0]), array([0, 2, 3, 4, 5, 6, 7, 0, 0])]\n"
     ]
    },
    {
     "data": {
      "text/plain": [
       "(array([0.16961966, 0.5964418 , 0.5171895 , 0.74336094, 0.48799506,\n",
       "        0.32877994, 0.7093185 , 0.        , 0.        , 0.39712888,\n",
       "        0.510253  , 0.64409375, 0.67125344, 0.57573944, 0.46538112,\n",
       "        0.3581028 , 0.        , 0.        , 0.13251007, 0.9755912 ,\n",
       "        0.23229332, 0.32986483, 0.07646387, 0.44998506, 0.3866979 ,\n",
       "        0.        , 0.        , 0.0481182 , 0.08422235, 0.42488804,\n",
       "        0.5962461 , 0.3434182 , 0.10857241, 0.74565107, 0.        ,\n",
       "        0.        , 0.5541187 , 0.24228822, 0.63623714, 0.4712802 ,\n",
       "        0.5582224 , 0.23590986, 0.18378867, 0.        , 0.        ,\n",
       "        0.08376146, 0.10682349, 0.46714184, 0.53649616, 0.17192142,\n",
       "        0.5313124 , 0.8377917 , 0.        , 0.        , 0.77677315,\n",
       "        0.3933695 , 0.48234862, 0.31966466, 0.83224964, 0.20107165,\n",
       "        0.29474154, 0.        , 0.        , 0.19884802, 0.62628335,\n",
       "        0.02330758, 0.38636607, 0.5560139 , 0.7838986 , 0.30145356,\n",
       "        0.        , 0.        ], dtype=float32),\n",
       " array([0, 1, 2, 3, 4, 5, 7, 0, 0, 0, 1, 3, 4, 5, 6, 7, 0, 0, 0, 1, 2, 3,\n",
       "        4, 5, 7, 0, 0, 0, 1, 2, 4, 5, 6, 7, 0, 0, 1, 2, 3, 4, 5, 6, 7, 0,\n",
       "        0, 0, 1, 2, 3, 4, 5, 7, 0, 0, 0, 1, 2, 3, 4, 5, 6, 0, 0, 0, 2, 3,\n",
       "        4, 5, 6, 7, 0, 0], dtype=uint32),\n",
       " array([7, 7, 7, 7, 7, 7, 7, 7], dtype=uint32),\n",
       " 9)"
      ]
     },
     "execution_count": 14,
     "metadata": {},
     "output_type": "execute_result"
    }
   ],
   "source": [
    "adata, acols, annz, ellwa = to_data(a)\n",
    "adata, acols, annz, ellwa"
   ]
  },
  {
   "cell_type": "code",
   "execution_count": 15,
   "id": "333f732b",
   "metadata": {},
   "outputs": [
    {
     "name": "stdout",
     "output_type": "stream",
     "text": [
      "[0 1 2 3 5 6 7 0 0]\n",
      "[0 1 2 3 4 5 6 0 0]\n",
      "[0 2 3 4 5 6 7 0 0]\n",
      "[0 1 2 4 5 6 7 0 0]\n",
      "[0 1 2 3 4 5 6 7 0]\n",
      "[0 1 2 3 4 5 6 7 0]\n",
      "[1 3 4 6 7 0 0 0 0]\n",
      "[0 1 2 3 4 5 7 0 0]\n",
      "[array([0, 1, 2, 3, 5, 6, 7, 0, 0]), array([0, 1, 2, 3, 4, 5, 6, 0, 0]), array([0, 2, 3, 4, 5, 6, 7, 0, 0]), array([0, 1, 2, 4, 5, 6, 7, 0, 0]), array([0, 1, 2, 3, 4, 5, 6, 7, 0]), array([0, 1, 2, 3, 4, 5, 6, 7, 0]), array([1, 3, 4, 6, 7, 0, 0, 0, 0]), array([0, 1, 2, 3, 4, 5, 7, 0, 0])]\n"
     ]
    },
    {
     "data": {
      "text/plain": [
       "(array([0.16961966, 0.39712888, 0.13251007, 0.0481182 , 0.08376146,\n",
       "        0.77677315, 0.19884802, 0.        , 0.        , 0.5964418 ,\n",
       "        0.510253  , 0.9755912 , 0.08422235, 0.5541187 , 0.10682349,\n",
       "        0.3933695 , 0.        , 0.        , 0.5171895 , 0.23229332,\n",
       "        0.42488804, 0.24228822, 0.46714184, 0.48234862, 0.62628335,\n",
       "        0.        , 0.        , 0.74336094, 0.64409375, 0.32986483,\n",
       "        0.63623714, 0.53649616, 0.31966466, 0.02330758, 0.        ,\n",
       "        0.        , 0.48799506, 0.67125344, 0.07646387, 0.5962461 ,\n",
       "        0.4712802 , 0.17192142, 0.83224964, 0.38636607, 0.        ,\n",
       "        0.32877994, 0.57573944, 0.44998506, 0.3434182 , 0.5582224 ,\n",
       "        0.5313124 , 0.20107165, 0.5560139 , 0.        , 0.46538112,\n",
       "        0.10857241, 0.23590986, 0.29474154, 0.7838986 , 0.        ,\n",
       "        0.        , 0.        , 0.        , 0.7093185 , 0.3581028 ,\n",
       "        0.3866979 , 0.74565107, 0.18378867, 0.8377917 , 0.30145356,\n",
       "        0.        , 0.        ], dtype=float32),\n",
       " array([0, 1, 2, 3, 5, 6, 7, 0, 0, 0, 1, 2, 3, 4, 5, 6, 0, 0, 0, 2, 3, 4,\n",
       "        5, 6, 7, 0, 0, 0, 1, 2, 4, 5, 6, 7, 0, 0, 0, 1, 2, 3, 4, 5, 6, 7,\n",
       "        0, 0, 1, 2, 3, 4, 5, 6, 7, 0, 1, 3, 4, 6, 7, 0, 0, 0, 0, 0, 1, 2,\n",
       "        3, 4, 5, 7, 0, 0], dtype=uint32),\n",
       " array([7, 7, 7, 7, 8, 8, 5, 7], dtype=uint32),\n",
       " 9)"
      ]
     },
     "execution_count": 15,
     "metadata": {},
     "output_type": "execute_result"
    }
   ],
   "source": [
    "adatat, acolst, annzt, ellwat = to_data(a.T)\n",
    "adatat, acolst, annzt, ellwat"
   ]
  },
  {
   "cell_type": "code",
   "execution_count": 128,
   "id": "a21f8921",
   "metadata": {},
   "outputs": [],
   "source": [
    "adense = to_dense(adata, acols, annz, ellwa, a.shape)"
   ]
  },
  {
   "cell_type": "code",
   "execution_count": 136,
   "id": "afddd45e",
   "metadata": {},
   "outputs": [],
   "source": [
    "adenset = to_dense(adatat, acolst, annzt, ellwat, a.T.shape)"
   ]
  },
  {
   "cell_type": "code",
   "execution_count": 137,
   "id": "1c04d184",
   "metadata": {},
   "outputs": [
    {
     "data": {
      "text/plain": [
       "array([[0.16961966, 0.59644181, 0.5171895 , 0.74336094, 0.48799506,\n",
       "        0.32877994, 0.        , 0.70931852],\n",
       "       [0.39712888, 0.51025301, 0.        , 0.64409375, 0.67125344,\n",
       "        0.57573944, 0.46538112, 0.3581028 ],\n",
       "       [0.13251007, 0.97559118, 0.23229332, 0.32986483, 0.07646387,\n",
       "        0.44998506, 0.        , 0.38669789],\n",
       "       [0.0481182 , 0.08422235, 0.42488804, 0.        , 0.59624612,\n",
       "        0.34341821, 0.10857241, 0.74565107],\n",
       "       [0.        , 0.55411869, 0.24228822, 0.63623714, 0.47128019,\n",
       "        0.55822241, 0.23590986, 0.18378867],\n",
       "       [0.08376146, 0.10682349, 0.46714184, 0.53649616, 0.17192142,\n",
       "        0.53131241, 0.        , 0.83779168],\n",
       "       [0.77677315, 0.3933695 , 0.48234862, 0.31966466, 0.83224964,\n",
       "        0.20107165, 0.29474154, 0.        ],\n",
       "       [0.19884802, 0.        , 0.62628335, 0.02330758, 0.38636607,\n",
       "        0.55601388, 0.78389859, 0.30145356]])"
      ]
     },
     "execution_count": 137,
     "metadata": {},
     "output_type": "execute_result"
    }
   ],
   "source": [
    "adense"
   ]
  },
  {
   "cell_type": "code",
   "execution_count": 138,
   "id": "cae2f665",
   "metadata": {},
   "outputs": [
    {
     "data": {
      "text/plain": [
       "array([[ True,  True,  True,  True,  True,  True,  True,  True],\n",
       "       [ True,  True,  True,  True,  True,  True,  True,  True],\n",
       "       [ True,  True,  True,  True,  True,  True,  True,  True],\n",
       "       [ True,  True,  True,  True,  True,  True,  True,  True],\n",
       "       [ True,  True,  True,  True,  True,  True,  True,  True],\n",
       "       [ True,  True,  True,  True,  True,  True,  True,  True],\n",
       "       [ True,  True,  True,  True,  True,  True,  True,  True],\n",
       "       [ True,  True,  True,  True,  True,  True,  True,  True]])"
      ]
     },
     "execution_count": 138,
     "metadata": {},
     "output_type": "execute_result"
    }
   ],
   "source": [
    "adenset.T == adense"
   ]
  },
  {
   "cell_type": "code",
   "execution_count": 20,
   "id": "570652a8",
   "metadata": {},
   "outputs": [
    {
     "data": {
      "text/plain": [
       "array([[0.16961966, 0.5964418 , 0.5171895 , 0.74336094, 0.48799506,\n",
       "        0.32877994, 0.        , 0.7093185 ],\n",
       "       [0.39712888, 0.510253  , 0.        , 0.64409375, 0.67125344,\n",
       "        0.57573944, 0.46538112, 0.3581028 ],\n",
       "       [0.13251007, 0.9755912 , 0.23229332, 0.32986483, 0.07646387,\n",
       "        0.44998506, 0.        , 0.3866979 ],\n",
       "       [0.0481182 , 0.08422235, 0.42488804, 0.        , 0.5962461 ,\n",
       "        0.3434182 , 0.10857241, 0.74565107],\n",
       "       [0.        , 0.5541187 , 0.24228822, 0.63623714, 0.4712802 ,\n",
       "        0.5582224 , 0.23590986, 0.18378867],\n",
       "       [0.08376146, 0.10682349, 0.46714184, 0.53649616, 0.17192142,\n",
       "        0.5313124 , 0.        , 0.8377917 ],\n",
       "       [0.77677315, 0.3933695 , 0.48234862, 0.31966466, 0.83224964,\n",
       "        0.20107165, 0.29474154, 0.        ],\n",
       "       [0.19884802, 0.        , 0.62628335, 0.02330758, 0.38636607,\n",
       "        0.5560139 , 0.7838986 , 0.30145356]], dtype=float32)"
      ]
     },
     "execution_count": 20,
     "metadata": {},
     "output_type": "execute_result"
    }
   ],
   "source": [
    "a"
   ]
  },
  {
   "cell_type": "code",
   "execution_count": 21,
   "id": "b3828f92",
   "metadata": {},
   "outputs": [
    {
     "data": {
      "text/plain": [
       "array([[ True,  True,  True,  True,  True,  True,  True,  True],\n",
       "       [ True,  True,  True,  True,  True,  True,  True,  True],\n",
       "       [ True,  True,  True,  True,  True,  True,  True,  True],\n",
       "       [ True,  True,  True,  True,  True,  True,  True,  True],\n",
       "       [ True,  True,  True,  True,  True,  True,  True,  True],\n",
       "       [ True,  True,  True,  True,  True,  True,  True,  True],\n",
       "       [ True,  True,  True,  True,  True,  True,  True,  True],\n",
       "       [ True,  True,  True,  True,  True,  True,  True,  True]])"
      ]
     },
     "execution_count": 21,
     "metadata": {},
     "output_type": "execute_result"
    }
   ],
   "source": [
    "a == adense"
   ]
  },
  {
   "cell_type": "code",
   "execution_count": 22,
   "id": "d8e29e3c",
   "metadata": {},
   "outputs": [
    {
     "data": {
      "text/plain": [
       "(8, 8)"
      ]
     },
     "execution_count": 22,
     "metadata": {},
     "output_type": "execute_result"
    }
   ],
   "source": [
    "a.shape"
   ]
  },
  {
   "cell_type": "code",
   "execution_count": 23,
   "id": "233fb7fe",
   "metadata": {},
   "outputs": [
    {
     "data": {
      "text/plain": [
       "((72,), (72,), (8,), 9)"
      ]
     },
     "execution_count": 23,
     "metadata": {},
     "output_type": "execute_result"
    }
   ],
   "source": [
    "adata.shape, acols.shape, annz.shape, ellwa"
   ]
  },
  {
   "cell_type": "code",
   "execution_count": 24,
   "id": "fbb29574",
   "metadata": {},
   "outputs": [],
   "source": [
    "#acols = acols.astype(np.uint32)\n",
    "#annz = annz.astype(np.uint32)"
   ]
  },
  {
   "cell_type": "code",
   "execution_count": 25,
   "id": "008c1a26",
   "metadata": {},
   "outputs": [
    {
     "data": {
      "text/plain": [
       "(array([0.16961966, 0.5964418 , 0.5171895 , 0.74336094, 0.48799506,\n",
       "        0.32877994, 0.7093185 , 0.        , 0.        , 0.39712888,\n",
       "        0.510253  , 0.64409375, 0.67125344, 0.57573944, 0.46538112,\n",
       "        0.3581028 , 0.        , 0.        , 0.13251007, 0.9755912 ,\n",
       "        0.23229332, 0.32986483, 0.07646387, 0.44998506, 0.3866979 ,\n",
       "        0.        , 0.        , 0.0481182 , 0.08422235, 0.42488804,\n",
       "        0.5962461 , 0.3434182 , 0.10857241, 0.74565107, 0.        ,\n",
       "        0.        , 0.5541187 , 0.24228822, 0.63623714, 0.4712802 ,\n",
       "        0.5582224 , 0.23590986, 0.18378867, 0.        , 0.        ,\n",
       "        0.08376146, 0.10682349, 0.46714184, 0.53649616, 0.17192142,\n",
       "        0.5313124 , 0.8377917 , 0.        , 0.        , 0.77677315,\n",
       "        0.3933695 , 0.48234862, 0.31966466, 0.83224964, 0.20107165,\n",
       "        0.29474154, 0.        , 0.        , 0.19884802, 0.62628335,\n",
       "        0.02330758, 0.38636607, 0.5560139 , 0.7838986 , 0.30145356,\n",
       "        0.        , 0.        ], dtype=float32),\n",
       " array([0, 1, 2, 3, 4, 5, 7, 0, 0, 0, 1, 3, 4, 5, 6, 7, 0, 0, 0, 1, 2, 3,\n",
       "        4, 5, 7, 0, 0, 0, 1, 2, 4, 5, 6, 7, 0, 0, 1, 2, 3, 4, 5, 6, 7, 0,\n",
       "        0, 0, 1, 2, 3, 4, 5, 7, 0, 0, 0, 1, 2, 3, 4, 5, 6, 0, 0, 0, 2, 3,\n",
       "        4, 5, 6, 7, 0, 0], dtype=uint32),\n",
       " array([7, 7, 7, 7, 7, 7, 7, 7], dtype=uint32),\n",
       " array([[0.5758158 , 0.83606327, 0.8954073 , 0.89344084, 0.58846396,\n",
       "         0.0793886 , 0.7087831 , 0.37386844],\n",
       "        [0.18805529, 0.97089976, 0.01458754, 0.43385914, 0.71578693,\n",
       "         0.9443288 , 0.45588118, 0.6926704 ],\n",
       "        [0.94750524, 0.04013106, 0.63719   , 0.95751846, 0.6438051 ,\n",
       "         0.6866626 , 0.32253084, 0.69727325],\n",
       "        [0.44304255, 0.3809702 , 0.26089582, 0.30254954, 0.62685245,\n",
       "         0.03873152, 0.86441535, 0.6877234 ]], dtype=float32))"
      ]
     },
     "execution_count": 25,
     "metadata": {},
     "output_type": "execute_result"
    }
   ],
   "source": [
    "adata, acols, annz, b"
   ]
  },
  {
   "cell_type": "code",
   "execution_count": 26,
   "id": "6e741bf7",
   "metadata": {},
   "outputs": [],
   "source": [
    "adata_buf = cl.Buffer(ctx, mf.READ_WRITE | mf.COPY_HOST_PTR, hostbuf=adata)\n",
    "acols_buf = cl.Buffer(ctx, mf.READ_WRITE | mf.COPY_HOST_PTR, hostbuf=acols)\n",
    "annzs_buf = cl.Buffer(ctx, mf.READ_WRITE | mf.COPY_HOST_PTR, hostbuf=annz)\n",
    "adatat_buf = cl.Buffer(ctx, mf.READ_WRITE | mf.COPY_HOST_PTR, hostbuf=adatat)\n",
    "acolst_buf = cl.Buffer(ctx, mf.READ_WRITE | mf.COPY_HOST_PTR, hostbuf=acolst)\n",
    "annzst_buf = cl.Buffer(ctx, mf.READ_WRITE | mf.COPY_HOST_PTR, hostbuf=annzt)\n",
    "b_buf = cl.Buffer(ctx, mf.READ_WRITE | mf.COPY_HOST_PTR, hostbuf=b.T)\n",
    "\n",
    "prg = cl.Program(ctx, \"\"\"\n",
    "// Every global_id_0 works on a row\n",
    "    __kernel void matmul(__global  float* matData,     // INPUT MATRIX DATA\n",
    "                            __global  uint*  colIdx,\n",
    "                            __global  uint*  rowNnz,\n",
    "                            uint   ellwidth,\n",
    "                            __global  float* vector_x,    // INPUT\n",
    "                            __global  float* vector_y    // OUTPUT\n",
    "                            ) { // LOCAL SHARED BUFFER\n",
    "      uint gid = get_global_id(0);\n",
    "      uint nrows = get_global_size(0);\n",
    "      uint gid2 = get_global_id(1);\n",
    "\n",
    "      uint nnz    = rowNnz[gid];\n",
    "      uint baseidx = gid2*nrows;\n",
    "      float sum = 0;\n",
    "      for (uint i = 0; i < nnz; i++) {\n",
    "        uint index   = (gid * ellwidth) + i;\n",
    "        uint col     = colIdx[index];\n",
    "        float aval  = matData[index];\n",
    "        float xval  = vector_x[baseidx+col];\n",
    "        //printf(\"aval, xval: %.2f,%.2f: (%i,%i) \\\\n\", aval, xval, col, index);\n",
    "        sum  += aval * xval;\n",
    "      }\n",
    "      printf(\"SUM/NNZ: %.2f %i \\\\n\", sum, nnz);\n",
    "      vector_y[baseidx+gid] = sum;\n",
    "    }\"\"\").build()"
   ]
  },
  {
   "cell_type": "code",
   "execution_count": 27,
   "id": "b4c85bcb",
   "metadata": {},
   "outputs": [
    {
     "data": {
      "text/plain": [
       "((8, 8), (4, 8))"
      ]
     },
     "execution_count": 27,
     "metadata": {},
     "output_type": "execute_result"
    }
   ],
   "source": [
    "a.shape, b.shape"
   ]
  },
  {
   "cell_type": "code",
   "execution_count": 28,
   "id": "c740a4fe",
   "metadata": {},
   "outputs": [],
   "source": [
    "res = np.zeros(a.shape[0]).astype(np.float32)\n",
    "#res"
   ]
  },
  {
   "cell_type": "code",
   "execution_count": 29,
   "id": "07aa4d30",
   "metadata": {},
   "outputs": [],
   "source": [
    "rows = a.shape[0]"
   ]
  },
  {
   "cell_type": "code",
   "execution_count": 30,
   "id": "98da857f",
   "metadata": {},
   "outputs": [],
   "source": [
    "mult = mult.astype(np.float32)"
   ]
  },
  {
   "cell_type": "code",
   "execution_count": 31,
   "id": "cc7365fc",
   "metadata": {},
   "outputs": [
    {
     "data": {
      "text/plain": [
       "<pyopencl._cl.NannyEvent at 0x7f2860330450>"
      ]
     },
     "execution_count": 31,
     "metadata": {},
     "output_type": "execute_result"
    },
    {
     "name": "stdout",
     "output_type": "stream",
     "text": [
      "SUM/NNZ: 2.30 7 \n",
      "SUM/NNZ: 2.14 7 \n",
      "SUM/NNZ: 1.62 7 \n",
      "SUM/NNZ: 1.21 7 \n",
      "SUM/NNZ: 1.81 7 \n",
      "SUM/NNZ: 1.49 7 \n",
      "SUM/NNZ: 2.21 7 \n",
      "SUM/NNZ: 1.64 7 \n",
      "SUM/NNZ: 2.09 7 \n",
      "SUM/NNZ: 2.33 7 \n",
      "SUM/NNZ: 1.87 7 \n",
      "SUM/NNZ: 1.41 7 \n",
      "SUM/NNZ: 1.92 7 \n",
      "SUM/NNZ: 1.56 7 \n",
      "SUM/NNZ: 1.59 7 \n",
      "SUM/NNZ: 1.42 7 \n",
      "SUM/NNZ: 2.26 7 \n",
      "SUM/NNZ: 2.24 7 \n",
      "SUM/NNZ: 1.26 7 \n",
      "SUM/NNZ: 1.49 7 \n",
      "SUM/NNZ: 1.68 7 \n",
      "SUM/NNZ: 1.95 7 \n",
      "SUM/NNZ: 2.13 7 \n",
      "SUM/NNZ: 1.70 7 \n",
      "SUM/NNZ: 1.47 7 \n",
      "SUM/NNZ: 1.66 7 \n",
      "SUM/NNZ: 0.92 7 \n",
      "SUM/NNZ: 1.16 7 \n",
      "SUM/NNZ: 1.11 7 \n",
      "SUM/NNZ: 1.07 7 \n",
      "SUM/NNZ: 1.50 7 \n",
      "SUM/NNZ: 1.41 7 \n"
     ]
    }
   ],
   "source": [
    "res_buf = cl.Buffer(ctx, mf.WRITE_ONLY, b.nbytes)\n",
    "knl = prg.matmul  # Use this Kernel object for repeated calls\n",
    "knl(queue, [rows,bs], None, adata_buf, acols_buf, annzs_buf, np.uint32(ellwa), b_buf, res_buf)\n",
    "\n",
    "res_np = np.empty_like(b.T)\n",
    "cl.enqueue_copy(queue, res_np, res_buf)"
   ]
  },
  {
   "cell_type": "code",
   "execution_count": 32,
   "id": "33d8a584",
   "metadata": {},
   "outputs": [
    {
     "data": {
      "text/plain": [
       "<pyopencl._cl.Buffer at 0x7f2860329400>"
      ]
     },
     "execution_count": 32,
     "metadata": {},
     "output_type": "execute_result"
    }
   ],
   "source": [
    "res_buf"
   ]
  },
  {
   "cell_type": "code",
   "execution_count": 33,
   "id": "99faec15",
   "metadata": {},
   "outputs": [
    {
     "data": {
      "text/plain": [
       "array([[2.3020377, 2.092142 , 2.2605045, 1.4686613],\n",
       "       [2.1351898, 2.3339   , 2.2407806, 1.6568408],\n",
       "       [1.6199633, 1.8661438, 1.256422 , 0.9220849],\n",
       "       [1.2124329, 1.4140898, 1.4943258, 1.157969 ],\n",
       "       [1.8062348, 1.9168991, 1.6767919, 1.1141719],\n",
       "       [1.4917258, 1.564151 , 1.9547005, 1.0665153],\n",
       "       [2.2082796, 1.5936826, 2.1341536, 1.5008274],\n",
       "       [1.6359242, 1.4244308, 1.7033539, 1.407205 ]], dtype=float32)"
      ]
     },
     "execution_count": 33,
     "metadata": {},
     "output_type": "execute_result"
    }
   ],
   "source": [
    "res_np"
   ]
  },
  {
   "cell_type": "code",
   "execution_count": 34,
   "id": "4da1c066",
   "metadata": {},
   "outputs": [
    {
     "data": {
      "text/plain": [
       "array([[2.3020377, 2.092142 , 2.2605045, 1.4686613],\n",
       "       [2.1351898, 2.3339   , 2.2407806, 1.6568408],\n",
       "       [1.6199633, 1.8661438, 1.256422 , 0.9220849],\n",
       "       [1.2124329, 1.4140898, 1.4943258, 1.157969 ],\n",
       "       [1.8062348, 1.9168991, 1.6767919, 1.1141719],\n",
       "       [1.4917258, 1.564151 , 1.9547005, 1.0665153],\n",
       "       [2.2082796, 1.5936826, 2.1341536, 1.5008274],\n",
       "       [1.6359242, 1.4244308, 1.7033539, 1.407205 ]], dtype=float32)"
      ]
     },
     "execution_count": 34,
     "metadata": {},
     "output_type": "execute_result"
    }
   ],
   "source": [
    "mult"
   ]
  },
  {
   "cell_type": "code",
   "execution_count": 35,
   "id": "c197fea2",
   "metadata": {},
   "outputs": [
    {
     "data": {
      "text/plain": [
       "(8, 4)"
      ]
     },
     "execution_count": 35,
     "metadata": {},
     "output_type": "execute_result"
    }
   ],
   "source": [
    "res_np.shape"
   ]
  },
  {
   "cell_type": "code",
   "execution_count": 36,
   "id": "b20b9da3",
   "metadata": {},
   "outputs": [
    {
     "data": {
      "text/plain": [
       "(8, 4)"
      ]
     },
     "execution_count": 36,
     "metadata": {},
     "output_type": "execute_result"
    }
   ],
   "source": [
    "mult.shape"
   ]
  },
  {
   "cell_type": "code",
   "execution_count": 37,
   "id": "2a6322f5",
   "metadata": {},
   "outputs": [
    {
     "data": {
      "text/plain": [
       "0.0"
      ]
     },
     "execution_count": 37,
     "metadata": {},
     "output_type": "execute_result"
    }
   ],
   "source": [
    "(res_np-mult).sum()"
   ]
  },
  {
   "cell_type": "markdown",
   "id": "b3ad7225",
   "metadata": {},
   "source": [
    "## Weight update kernel"
   ]
  },
  {
   "cell_type": "code",
   "execution_count": 38,
   "id": "a5138cee",
   "metadata": {},
   "outputs": [],
   "source": [
    "bs = 4"
   ]
  },
  {
   "cell_type": "code",
   "execution_count": 39,
   "id": "76e44e2d",
   "metadata": {},
   "outputs": [
    {
     "data": {
      "text/plain": [
       "((4, 8), (4, 8), 2)"
      ]
     },
     "execution_count": 39,
     "metadata": {},
     "output_type": "execute_result"
    }
   ],
   "source": [
    "dim = 8\n",
    "topk = 2\n",
    "\n",
    "x = np.random.rand(bs,dim).astype(np.float32)\n",
    "y = np.random.rand(bs,dim).astype(np.float32)\n",
    "x.shape,y.shape, topk"
   ]
  },
  {
   "cell_type": "markdown",
   "id": "de5e3e5e",
   "metadata": {},
   "source": [
    "x_buf = cl.Buffer(ctx, mf.READ_ONLY | mf.COPY_HOST_PTR, hostbuf=x)\n",
    "y_buf = cl.Buffer(ctx, mf.READ_ONLY | mf.COPY_HOST_PTR, hostbuf=y)\n",
    "x_cp_buf = cl.Buffer(ctx, mf.WRITE_ONLY, bs*topk*topk*4)\n",
    "x_idx_buf = cl.Buffer(ctx, mf.WRITE_ONLY, bs*topk*4)\n",
    "y_idx_buf = cl.Buffer(ctx, mf.WRITE_ONLY, bs*topk*4)\n",
    "\n",
    "prg = cl.Program(ctx, \"\"\"\n",
    "    // sorts x and y in ascending order and returns sorted indices\n",
    "    __kernel void genwupdate2(__global  float* x,     // INPUT MATRIX DATA\n",
    "                             __global  float* y,    // INPUT\n",
    "                             __global  float* xout,    // INPUT\n",
    "                             uint topk,\n",
    "                             __global  uint* xoutidx,    // INPUT\n",
    "                             __global  uint* youtidx    // INPUT\n",
    "                            ) { // LOCAL SHARED BUFFER\n",
    "      uint gid = get_global_id(0);\n",
    "      uint n = get_global_size(0);\n",
    "      uint bs = get_global_size(1);\n",
    "      uint gid2 = get_global_id(1);\n",
    "\n",
    "      uint idx = n*gid2+gid;\n",
    "\n",
    "      float valx = x[idx];\n",
    "      float valy = y[idx];\n",
    "      uint posx = 0;\n",
    "      uint posy = 0;\n",
    "      for (uint i = 0; i < n; i++) {\n",
    "        uint idx2 = n*gid2+i;\n",
    "        float tempval = x[idx2];\n",
    "        float tempval2 = y[idx2];\n",
    "        bool larger = tempval > valx;\n",
    "        bool larger2 = tempval2 > valy;\n",
    "\n",
    "        barrier(CLK_GLOBAL_MEM_FENCE);\n",
    "        posx += (larger)?1:0;\n",
    "        posy += (larger2)?1:0;\n",
    "        barrier(CLK_GLOBAL_MEM_FENCE);\n",
    "      }\n",
    "      barrier(CLK_GLOBAL_MEM_FENCE);\n",
    "      //printf(\"posx:%i\", posx);\n",
    "      if (posx < topk) {\n",
    "        xoutidx[posx+topk*gid2] = gid;\n",
    "      }\n",
    "      if (posy < topk) {\n",
    "        youtidx[posy+topk*gid2] = gid;\n",
    "      }\n",
    "      barrier(CLK_GLOBAL_MEM_FENCE);\n",
    "      if (gid < topk) {\n",
    "        for (uint j=0; j<topk; j++) {\n",
    "          float res = x[xoutidx[gid+topk*gid2]+gid2*n] * y[youtidx[j+topk*gid2]+gid2*n];\n",
    "          //printf(\"\\\\nJ:%i  gid:%i\", j, gid);\n",
    "          //printf(\"\\\\nRES:%.2f - %i - %i -  %.2f - %.2f\",res, xoutidx[gid+topk*gid2], youtidx[j+topk*gid2], x[xoutidx[gid+topk*gid2]+gid2*n], y[youtidx[j+topk*gid2]+gid2*n]);\n",
    "          barrier(CLK_GLOBAL_MEM_FENCE);\n",
    "          xout[gid2*topk*topk+j*topk+gid] = res;\n",
    "          barrier(CLK_GLOBAL_MEM_FENCE);\n",
    "          \n",
    "        }\n",
    "      }\n",
    "      barrier(CLK_GLOBAL_MEM_FENCE);\n",
    "    }\"\"\").build()"
   ]
  },
  {
   "cell_type": "code",
   "execution_count": 40,
   "id": "88864470",
   "metadata": {},
   "outputs": [],
   "source": [
    "x_buf = cl.Buffer(ctx, mf.READ_ONLY | mf.COPY_HOST_PTR, hostbuf=x)\n",
    "y_buf = cl.Buffer(ctx, mf.READ_ONLY | mf.COPY_HOST_PTR, hostbuf=y)\n",
    "x_cp_buf = cl.Buffer(ctx, mf.WRITE_ONLY, bs*topk*topk*4)\n",
    "x_idx_buf = cl.Buffer(ctx, mf.WRITE_ONLY, bs*topk*4)\n",
    "y_idx_buf = cl.Buffer(ctx, mf.WRITE_ONLY, bs*topk*4)\n",
    "#x_cp_buft = cl.Buffer(ctx, mf.WRITE_ONLY, bs*topk*topk*4)\n",
    "#x_idx_buft = cl.Buffer(ctx, mf.WRITE_ONLY, bs*topk*4)\n",
    "#y_idx_buft = cl.Buffer(ctx, mf.WRITE_ONLY, bs*topk*4)\n",
    "\n",
    "prg = cl.Program(ctx, \"\"\"\n",
    "    // sorts x and y in ascending order and returns sorted indices\n",
    "    __kernel void genwupdate2(__global  float* x,     // INPUT MATRIX DATA\n",
    "                             __global  float* y,    // INPUT\n",
    "                             __global  float* xout,    // INPUT\n",
    "                             uint topk,\n",
    "                             uint bs,\n",
    "                             __global  uint* xoutidx,    // INPUT\n",
    "                             __global  uint* youtidx    // INPUT\n",
    "                            ) { // LOCAL SHARED BUFFER\n",
    "      uint gid = get_global_id(0);\n",
    "      uint n = get_global_size(0);\n",
    "      //uint bs = get_global_size(1);\n",
    "      //uint gid2 = get_global_id(1);\n",
    "\n",
    "      for (uint gid2=0; gid2<bs; gid2++){\n",
    "        uint idx = n*gid2+gid;\n",
    "\n",
    "        float valx = x[idx];\n",
    "        float valy = y[idx];\n",
    "        uint posx = 0;\n",
    "        uint posy = 0;\n",
    "        for (uint i = 0; i < n; i++) {\n",
    "          uint idx2 = n*gid2+i;\n",
    "          float tempval = x[idx2];\n",
    "          float tempval2 = y[idx2];\n",
    "          bool larger = tempval > valx;\n",
    "          bool larger2 = tempval2 > valy;\n",
    "\n",
    "          posx += (larger)?1:0;\n",
    "          posy += (larger2)?1:0;\n",
    "        }\n",
    "        //printf(\"posx:%i\", posx);\n",
    "        if (posx < topk) {\n",
    "        xoutidx[posx+topk*gid2] = gid;\n",
    "        }\n",
    "        if (posy < topk) {\n",
    "          youtidx[posy+topk*gid2] = gid;\n",
    "        }\n",
    "      }\n",
    "      for (uint gid2=0; gid2<bs; gid2++){\n",
    "        if (gid < topk) {\n",
    "          for (uint j=0; j<topk; j++) {\n",
    "            float res = x[xoutidx[gid+topk*gid2]+gid2*n] * y[youtidx[j+topk*gid2]+gid2*n];\n",
    "            //printf(\"\\\\nJ:%i  gid:%i\", j, gid);\n",
    "            //printf(\"\\\\nRES:%.2f - %i - %i -  %.2f - %.2f\",res, xoutidx[gid+topk*gid2], youtidx[j+topk*gid2], x[xoutidx[gid+topk*gid2]+gid2*n], y[youtidx[j+topk*gid2]+gid2*n]);\n",
    "            //barrier(CLK_GLOBAL_MEM_FENCE);\n",
    "            xout[gid2*topk*topk+j*topk+gid] = res;\n",
    "          }\n",
    "        }\n",
    "      }\n",
    "    }\"\"\").build()"
   ]
  },
  {
   "cell_type": "code",
   "execution_count": 41,
   "id": "94682965",
   "metadata": {},
   "outputs": [
    {
     "data": {
      "text/plain": [
       "<pyopencl._cl.NannyEvent at 0x7f2860344810>"
      ]
     },
     "execution_count": 41,
     "metadata": {},
     "output_type": "execute_result"
    }
   ],
   "source": [
    "knl = prg.genwupdate2  # Use this Kernel object for repeated calls\n",
    "evt = knl(queue, [dim], None, x_buf, y_buf, x_cp_buf, np.uint32(topk), np.uint32(bs), x_idx_buf, y_idx_buf)\n",
    "\n",
    "#evt.wait()\n",
    "resx = np.zeros(bs*topk*topk).astype(np.float32)\n",
    "resxidx = np.zeros(bs*topk).astype(np.uint32)\n",
    "resyidx = np.zeros(bs*topk).astype(np.uint32)\n",
    "\n",
    "cl.enqueue_copy(queue, resx, x_cp_buf)\n",
    "cl.enqueue_copy(queue, resxidx, x_idx_buf)\n",
    "cl.enqueue_copy(queue, resyidx, y_idx_buf)"
   ]
  },
  {
   "cell_type": "markdown",
   "id": "771508c3",
   "metadata": {},
   "source": [
    "knl(queue, [dim], None, y_buf, x_buf, x_cp_buft, np.uint32(topk), np.uint32(bs), x_idx_buft, y_idx_buft)\n",
    "\n",
    "#evt.wait()\n",
    "resx = np.zeros(bs*topk*topk).astype(np.float32)\n",
    "resxidx = np.zeros(bs*topk).astype(np.uint32)\n",
    "resyidx = np.zeros(bs*topk).astype(np.uint32)\n",
    "\n",
    "cl.enqueue_copy(queue, resx, x_cp_buf)\n",
    "cl.enqueue_copy(queue, resxidx, x_idx_buf)\n",
    "cl.enqueue_copy(queue, resyidx, y_idx_buf)"
   ]
  },
  {
   "cell_type": "code",
   "execution_count": 42,
   "id": "88725ae2",
   "metadata": {},
   "outputs": [
    {
     "data": {
      "text/plain": [
       "array([[0.61572224, 0.86994046, 0.1817479 , 0.13391666, 0.8094523 ,\n",
       "        0.95450836, 0.63647723, 0.9892399 ],\n",
       "       [0.188922  , 0.5824302 , 0.5276773 , 0.24744661, 0.49230814,\n",
       "        0.64255136, 0.6712292 , 0.58414316],\n",
       "       [0.9054736 , 0.702004  , 0.3757838 , 0.09323785, 0.43336618,\n",
       "        0.07780908, 0.45926866, 0.5590805 ],\n",
       "       [0.47826648, 0.67794526, 0.63452655, 0.48684815, 0.33555534,\n",
       "        0.46694845, 0.7139826 , 0.5869166 ]], dtype=float32)"
      ]
     },
     "execution_count": 42,
     "metadata": {},
     "output_type": "execute_result"
    }
   ],
   "source": [
    "x"
   ]
  },
  {
   "cell_type": "code",
   "execution_count": 43,
   "id": "4c150d0f",
   "metadata": {},
   "outputs": [
    {
     "data": {
      "text/plain": [
       "array([[0.9814869 , 0.26549807, 0.577078  , 0.82610697, 0.03952895,\n",
       "        0.27001873, 0.80651575, 0.6598663 ],\n",
       "       [0.8499231 , 0.02502976, 0.03331728, 0.02704707, 0.55400455,\n",
       "        0.82277703, 0.22432825, 0.5286772 ],\n",
       "       [0.87205654, 0.23948503, 0.29893118, 0.86796916, 0.88664794,\n",
       "        0.8474162 , 0.378136  , 0.60928994],\n",
       "       [0.34143072, 0.5386484 , 0.41787806, 0.91316026, 0.2801959 ,\n",
       "        0.8082875 , 0.96954644, 0.16627187]], dtype=float32)"
      ]
     },
     "execution_count": 43,
     "metadata": {},
     "output_type": "execute_result"
    }
   ],
   "source": [
    "y"
   ]
  },
  {
   "cell_type": "code",
   "execution_count": 44,
   "id": "990b8af7",
   "metadata": {},
   "outputs": [
    {
     "data": {
      "text/plain": [
       "((4, 8), (4, 8))"
      ]
     },
     "execution_count": 44,
     "metadata": {},
     "output_type": "execute_result"
    }
   ],
   "source": [
    "x.shape, y.shape"
   ]
  },
  {
   "cell_type": "code",
   "execution_count": 45,
   "id": "1c18b7bb",
   "metadata": {},
   "outputs": [
    {
     "data": {
      "text/plain": [
       "array([0.970926  , 0.9368375 , 0.81721795, 0.788526  , 0.57049316,\n",
       "       0.5461192 , 0.55227196, 0.5286765 , 0.8028363 , 0.6224304 ,\n",
       "       0.78962415, 0.6121872 , 0.6922393 , 0.6572994 , 0.6519805 ,\n",
       "       0.6190727 ], dtype=float32)"
      ]
     },
     "execution_count": 45,
     "metadata": {},
     "output_type": "execute_result"
    }
   ],
   "source": [
    "resx"
   ]
  },
  {
   "cell_type": "code",
   "execution_count": 46,
   "id": "58d4154c",
   "metadata": {},
   "outputs": [
    {
     "data": {
      "text/plain": [
       "array([[[0.970926  , 0.9368375 ],\n",
       "        [0.81721795, 0.788526  ]],\n",
       "\n",
       "       [[0.57049316, 0.5461192 ],\n",
       "        [0.55227196, 0.5286765 ]],\n",
       "\n",
       "       [[0.8028363 , 0.6224304 ],\n",
       "        [0.78962415, 0.6121872 ]],\n",
       "\n",
       "       [[0.6922393 , 0.6572994 ],\n",
       "        [0.6519805 , 0.6190727 ]]], dtype=float32)"
      ]
     },
     "execution_count": 46,
     "metadata": {},
     "output_type": "execute_result"
    }
   ],
   "source": [
    "resx.reshape(bs,topk,topk)"
   ]
  },
  {
   "cell_type": "code",
   "execution_count": 47,
   "id": "5cca2876",
   "metadata": {},
   "outputs": [
    {
     "data": {
      "text/plain": [
       "array([7, 5, 6, 5, 0, 1, 6, 1], dtype=uint32)"
      ]
     },
     "execution_count": 47,
     "metadata": {},
     "output_type": "execute_result"
    }
   ],
   "source": [
    "resxidx"
   ]
  },
  {
   "cell_type": "code",
   "execution_count": 48,
   "id": "80deeac2",
   "metadata": {},
   "outputs": [
    {
     "data": {
      "text/plain": [
       "array([0, 3, 0, 5, 4, 0, 6, 3], dtype=uint32)"
      ]
     },
     "execution_count": 48,
     "metadata": {},
     "output_type": "execute_result"
    }
   ],
   "source": [
    "resyidx"
   ]
  },
  {
   "cell_type": "code",
   "execution_count": 49,
   "id": "3020c7d7",
   "metadata": {},
   "outputs": [
    {
     "data": {
      "text/plain": [
       "(8, 8)"
      ]
     },
     "execution_count": 49,
     "metadata": {},
     "output_type": "execute_result"
    }
   ],
   "source": [
    "idx = 1\n",
    "xy0 = x[idx].reshape(dim,1)*y[idx]\n",
    "xy0.shape"
   ]
  },
  {
   "cell_type": "code",
   "execution_count": 50,
   "id": "fc865ccb",
   "metadata": {},
   "outputs": [
    {
     "data": {
      "text/plain": [
       "0.1308194"
      ]
     },
     "execution_count": 50,
     "metadata": {},
     "output_type": "execute_result"
    }
   ],
   "source": [
    "xy0[3][7]"
   ]
  },
  {
   "cell_type": "markdown",
   "id": "6644b755",
   "metadata": {},
   "source": [
    "### update vals"
   ]
  },
  {
   "cell_type": "code",
   "execution_count": 51,
   "id": "73b60325",
   "metadata": {},
   "outputs": [],
   "source": [
    "adata_buf = cl.Buffer(ctx, mf.READ_WRITE | mf.COPY_HOST_PTR, hostbuf=adata)\n",
    "acols_buf = cl.Buffer(ctx, mf.READ_WRITE | mf.COPY_HOST_PTR, hostbuf=acols)\n",
    "annzs_buf = cl.Buffer(ctx, mf.READ_WRITE | mf.COPY_HOST_PTR, hostbuf=annz)"
   ]
  },
  {
   "cell_type": "code",
   "execution_count": 52,
   "id": "7cb03af3",
   "metadata": {},
   "outputs": [],
   "source": [
    "prg = cl.Program(ctx, \"\"\"\n",
    "// Every global_id_0 works on a row\n",
    "    __kernel void addvals(__global  float* matData,     // INPUT MATRIX DATA\n",
    "                         __global  uint*  colIdx,\n",
    "                         __global  uint*  rowNnz,\n",
    "                         float lr,\n",
    "                         uint   ellwidth,\n",
    "                         __global  float* updatevals,    // INPUT\n",
    "                         __global  uint* updatexidx,\n",
    "                         __global  uint* updateyidx\n",
    "                         ) { // LOCAL SHARED BUFFER\n",
    "      uint gid = get_global_id(0);\n",
    "      uint gid2 = get_global_id(1);\n",
    "      uint topk = get_global_size(0);\n",
    "      uint bs = get_global_size(1);\n",
    "      uint baseupdateidx = topk*topk*gid2;\n",
    "      uint baseidxidx = topk*gid2;\n",
    "      uint col = updateyidx[baseidxidx+gid];\n",
    "\n",
    "      for (uint i=0; i<topk; i++) {\n",
    "        float val = updatevals[baseupdateidx+gid*topk+i];\n",
    "        uint row = updatexidx[baseidxidx+i];\n",
    "        for (uint i=0; i<rowNnz[row]; i++) {\n",
    "          uint idx = row*ellwidth+i;\n",
    "          if (colIdx[idx] >= col) {\n",
    "            //printf(\"\\\\nFOUND:%i/%i  - idx:%i\", colIdx[idx], col, idx);\n",
    "            if (colIdx[idx] == col) {\n",
    "              matData[idx] += -val*lr;\n",
    "              printf(\"\\\\nUPDATE[%i,%i]: %f\", row,col, val);\n",
    "              break;\n",
    "            } else {\n",
    "              // insert new column\n",
    "              printf(\"\\\\nINSERT[%i,%i]: %.2f\", row,col, val);\n",
    "              for (uint j=rowNnz[row]+1; j>i; j--) {\n",
    "                uint idx2 = row*ellwidth+j;\n",
    "                matData[idx2] = matData[idx2-1];\n",
    "                colIdx[idx2] = colIdx[idx2-1];\n",
    "              }\n",
    "              matData[idx] = -val*lr;\n",
    "              colIdx[idx] = col;\n",
    "              rowNnz[row] += 1;\n",
    "              break;\n",
    "            }\n",
    "          }\n",
    "        }\n",
    "        if (rowNnz[row] >= ellwidth) {\n",
    "          break;\n",
    "        }\n",
    "      }\n",
    "    }\"\"\").build()"
   ]
  },
  {
   "cell_type": "code",
   "execution_count": 53,
   "id": "0aab86e1",
   "metadata": {},
   "outputs": [
    {
     "name": "stdout",
     "output_type": "stream",
     "text": [
      "\n",
      "UPDATE[6,0]: 0.570493\n",
      "UPDATE[7,0]: 0.970926\n",
      "UPDATE[0,0]: 0.789624\n",
      "UPDATE[6,3]: 0.651981\n",
      "UPDATE[7,3]: 0.817218\n",
      "UPDATE[6,5]: 0.552272\n",
      "UPDATE[0,4]: 0.802836\n",
      "UPDATE[6,6]: 0.692239\n",
      "UPDATE[5,0]: 0.936837\n",
      "UPDATE[5,0]: 0.546119\n",
      "UPDATE[1,0]: 0.612187\n",
      "UPDATE[1,3]: 0.619073\n",
      "UPDATE[5,3]: 0.788526\n",
      "UPDATE[5,5]: 0.528677\n",
      "UPDATE[1,4]: 0.622430\n",
      "UPDATE[1,6]: 0.657299"
     ]
    },
    {
     "data": {
      "text/plain": [
       "<pyopencl._cl.NannyEvent at 0x7f28602cb1d0>"
      ]
     },
     "execution_count": 53,
     "metadata": {},
     "output_type": "execute_result"
    }
   ],
   "source": [
    "knl = prg.addvals  # Use this Kernel object for repeated calls\n",
    "knl(queue, [topk,bs], None, adata_buf, acols_buf, annzs_buf, np.float32(1), np.uint32(ellwa), x_cp_buf, x_idx_buf, y_idx_buf)\n",
    "\n",
    "resa = np.empty_like(adata)\n",
    "resaidx = np.zeros(acols.shape).astype(np.uint32)\n",
    "resannz = np.zeros(annz.shape).astype(np.uint32)\n",
    "\n",
    "cl.enqueue_copy(queue, resa, adata_buf)\n",
    "cl.enqueue_copy(queue, resaidx, acols_buf)\n",
    "cl.enqueue_copy(queue, resannz, annzs_buf)"
   ]
  },
  {
   "cell_type": "code",
   "execution_count": 54,
   "id": "d2ff91ba",
   "metadata": {},
   "outputs": [
    {
     "data": {
      "text/plain": [
       "((72,), (72,), (8,), 9, (8, 8))"
      ]
     },
     "execution_count": 54,
     "metadata": {},
     "output_type": "execute_result"
    }
   ],
   "source": [
    "resa.shape, resaidx.shape, resannz.shape, ellwa, a.T.shape"
   ]
  },
  {
   "cell_type": "code",
   "execution_count": 55,
   "id": "190b8546",
   "metadata": {},
   "outputs": [
    {
     "data": {
      "text/plain": [
       "array([[-0.62000448,  0.59644181,  0.5171895 ,  0.74336094, -0.31484124,\n",
       "         0.32877994,  0.        ,  0.70931852],\n",
       "       [-0.21505833,  0.51025301,  0.        ,  0.02502108,  0.04882306,\n",
       "         0.57573944, -0.19191828,  0.3581028 ],\n",
       "       [ 0.13251007,  0.97559118,  0.23229332,  0.32986483,  0.07646387,\n",
       "         0.44998506,  0.        ,  0.38669789],\n",
       "       [ 0.0481182 ,  0.08422235,  0.42488804,  0.        ,  0.59624612,\n",
       "         0.34341821,  0.10857241,  0.74565107],\n",
       "       [ 0.        ,  0.55411869,  0.24228822,  0.63623714,  0.47128019,\n",
       "         0.55822241,  0.23590986,  0.18378867],\n",
       "       [-1.39919519,  0.10682349,  0.46714184, -0.25202984,  0.17192142,\n",
       "         0.0026359 ,  0.        ,  0.83779168],\n",
       "       [ 0.20627999,  0.3933695 ,  0.48234862, -0.33231586,  0.83224964,\n",
       "        -0.35120031, -0.39749774,  0.        ],\n",
       "       [-0.77207798,  0.        ,  0.62628335, -0.79391038,  0.38636607,\n",
       "         0.55601388,  0.78389859,  0.30145356]])"
      ]
     },
     "execution_count": 55,
     "metadata": {},
     "output_type": "execute_result"
    }
   ],
   "source": [
    "adenseadd = to_dense(resa, resaidx, resannz, ellwa, a.T.shape)\n",
    "adenseadd"
   ]
  },
  {
   "cell_type": "code",
   "execution_count": 56,
   "id": "3211c6e6",
   "metadata": {},
   "outputs": [
    {
     "data": {
      "text/plain": [
       "array([[-0.78962414,  0.        ,  0.        ,  0.        , -0.8028363 ,\n",
       "         0.        ,  0.        ,  0.        ],\n",
       "       [-0.61218721,  0.        ,  0.        , -0.61907268, -0.62243038,\n",
       "         0.        , -0.6572994 ,  0.        ],\n",
       "       [ 0.        ,  0.        ,  0.        ,  0.        ,  0.        ,\n",
       "         0.        ,  0.        ,  0.        ],\n",
       "       [ 0.        ,  0.        ,  0.        ,  0.        ,  0.        ,\n",
       "         0.        ,  0.        ,  0.        ],\n",
       "       [ 0.        ,  0.        ,  0.        ,  0.        ,  0.        ,\n",
       "         0.        ,  0.        ,  0.        ],\n",
       "       [-1.48295666,  0.        ,  0.        , -0.788526  ,  0.        ,\n",
       "        -0.52867651,  0.        ,  0.        ],\n",
       "       [-0.57049316,  0.        ,  0.        , -0.65198052,  0.        ,\n",
       "        -0.55227196, -0.69223928,  0.        ],\n",
       "       [-0.970926  ,  0.        ,  0.        , -0.81721797,  0.        ,\n",
       "         0.        ,  0.        ,  0.        ]])"
      ]
     },
     "execution_count": 56,
     "metadata": {},
     "output_type": "execute_result"
    }
   ],
   "source": [
    "adenseadd - adense"
   ]
  },
  {
   "cell_type": "code",
   "execution_count": 57,
   "id": "f63c469b",
   "metadata": {},
   "outputs": [
    {
     "data": {
      "text/plain": [
       "array([[False,  True,  True,  True, False,  True,  True,  True],\n",
       "       [False,  True,  True, False, False,  True, False,  True],\n",
       "       [ True,  True,  True,  True,  True,  True,  True,  True],\n",
       "       [ True,  True,  True,  True,  True,  True,  True,  True],\n",
       "       [ True,  True,  True,  True,  True,  True,  True,  True],\n",
       "       [False,  True,  True, False,  True, False,  True,  True],\n",
       "       [False,  True,  True, False,  True, False, False,  True],\n",
       "       [False,  True,  True, False,  True,  True,  True,  True]])"
      ]
     },
     "execution_count": 57,
     "metadata": {},
     "output_type": "execute_result"
    }
   ],
   "source": [
    "adenseadd == adense"
   ]
  },
  {
   "cell_type": "code",
   "execution_count": 58,
   "id": "922fdfb7",
   "metadata": {},
   "outputs": [
    {
     "data": {
      "text/plain": [
       "9"
      ]
     },
     "execution_count": 58,
     "metadata": {},
     "output_type": "execute_result"
    }
   ],
   "source": [
    "ellwa"
   ]
  },
  {
   "cell_type": "code",
   "execution_count": 59,
   "id": "9da55fa5",
   "metadata": {},
   "outputs": [
    {
     "data": {
      "text/plain": [
       "array([[0.16961966, 0.5964418 , 0.5171895 , 0.74336094, 0.48799506,\n",
       "        0.32877994, 0.7093185 , 0.        , 0.        ],\n",
       "       [0.39712888, 0.510253  , 0.64409375, 0.67125344, 0.57573944,\n",
       "        0.46538112, 0.3581028 , 0.        , 0.        ],\n",
       "       [0.13251007, 0.9755912 , 0.23229332, 0.32986483, 0.07646387,\n",
       "        0.44998506, 0.3866979 , 0.        , 0.        ],\n",
       "       [0.0481182 , 0.08422235, 0.42488804, 0.5962461 , 0.3434182 ,\n",
       "        0.10857241, 0.74565107, 0.        , 0.        ],\n",
       "       [0.5541187 , 0.24228822, 0.63623714, 0.4712802 , 0.5582224 ,\n",
       "        0.23590986, 0.18378867, 0.        , 0.        ],\n",
       "       [0.08376146, 0.10682349, 0.46714184, 0.53649616, 0.17192142,\n",
       "        0.5313124 , 0.8377917 , 0.        , 0.        ],\n",
       "       [0.77677315, 0.3933695 , 0.48234862, 0.31966466, 0.83224964,\n",
       "        0.20107165, 0.29474154, 0.        , 0.        ],\n",
       "       [0.19884802, 0.62628335, 0.02330758, 0.38636607, 0.5560139 ,\n",
       "        0.7838986 , 0.30145356, 0.        , 0.        ]], dtype=float32)"
      ]
     },
     "execution_count": 59,
     "metadata": {},
     "output_type": "execute_result"
    }
   ],
   "source": [
    "adata2 = adata.reshape(-1, ellwa)\n",
    "adata2"
   ]
  },
  {
   "cell_type": "code",
   "execution_count": 60,
   "id": "466c61fb",
   "metadata": {},
   "outputs": [
    {
     "data": {
      "text/plain": [
       "array([[-0.6200045 ,  0.5964418 ,  0.5171895 ,  0.74336094, -0.31484124,\n",
       "         0.32877994,  0.7093185 ,  0.        ,  0.        ],\n",
       "       [-0.21505833,  0.510253  ,  0.02502108,  0.04882306,  0.57573944,\n",
       "        -0.19191828,  0.3581028 ,  0.        ,  0.        ],\n",
       "       [ 0.13251007,  0.9755912 ,  0.23229332,  0.32986483,  0.07646387,\n",
       "         0.44998506,  0.3866979 ,  0.        ,  0.        ],\n",
       "       [ 0.0481182 ,  0.08422235,  0.42488804,  0.5962461 ,  0.3434182 ,\n",
       "         0.10857241,  0.74565107,  0.        ,  0.        ],\n",
       "       [ 0.5541187 ,  0.24228822,  0.63623714,  0.4712802 ,  0.5582224 ,\n",
       "         0.23590986,  0.18378867,  0.        ,  0.        ],\n",
       "       [-1.3991952 ,  0.10682349,  0.46714184, -0.25202984,  0.17192142,\n",
       "         0.0026359 ,  0.8377917 ,  0.        ,  0.        ],\n",
       "       [ 0.20628   ,  0.3933695 ,  0.48234862, -0.33231586,  0.83224964,\n",
       "        -0.3512003 , -0.39749774,  0.        ,  0.        ],\n",
       "       [-0.772078  ,  0.62628335, -0.7939104 ,  0.38636607,  0.5560139 ,\n",
       "         0.7838986 ,  0.30145356,  0.        ,  0.        ]],\n",
       "      dtype=float32)"
      ]
     },
     "execution_count": 60,
     "metadata": {},
     "output_type": "execute_result"
    }
   ],
   "source": [
    "resa = resa.reshape(-1, ellwa)\n",
    "resa"
   ]
  },
  {
   "cell_type": "code",
   "execution_count": 61,
   "id": "30f36719",
   "metadata": {},
   "outputs": [
    {
     "data": {
      "text/plain": [
       "array([[-0.78962415,  0.        ,  0.        ,  0.        , -0.8028363 ,\n",
       "         0.        ,  0.        ,  0.        ,  0.        ],\n",
       "       [-0.6121872 ,  0.        , -0.6190727 , -0.6224304 ,  0.        ,\n",
       "        -0.6572994 ,  0.        ,  0.        ,  0.        ],\n",
       "       [ 0.        ,  0.        ,  0.        ,  0.        ,  0.        ,\n",
       "         0.        ,  0.        ,  0.        ,  0.        ],\n",
       "       [ 0.        ,  0.        ,  0.        ,  0.        ,  0.        ,\n",
       "         0.        ,  0.        ,  0.        ,  0.        ],\n",
       "       [ 0.        ,  0.        ,  0.        ,  0.        ,  0.        ,\n",
       "         0.        ,  0.        ,  0.        ,  0.        ],\n",
       "       [-1.4829566 ,  0.        ,  0.        , -0.788526  ,  0.        ,\n",
       "        -0.5286765 ,  0.        ,  0.        ,  0.        ],\n",
       "       [-0.57049316,  0.        ,  0.        , -0.6519805 ,  0.        ,\n",
       "        -0.55227196, -0.6922393 ,  0.        ,  0.        ],\n",
       "       [-0.970926  ,  0.        , -0.81721795,  0.        ,  0.        ,\n",
       "         0.        ,  0.        ,  0.        ,  0.        ]],\n",
       "      dtype=float32)"
      ]
     },
     "execution_count": 61,
     "metadata": {},
     "output_type": "execute_result"
    }
   ],
   "source": [
    "resa - adata2"
   ]
  },
  {
   "cell_type": "code",
   "execution_count": 62,
   "id": "9dd6baf4",
   "metadata": {},
   "outputs": [
    {
     "data": {
      "text/plain": [
       "array([0, 1, 2, 3, 4, 5, 7, 0, 0, 0, 1, 3, 4, 5, 6, 7, 0, 0, 0, 1, 2, 3,\n",
       "       4, 5, 7, 0, 0, 0, 1, 2, 4, 5, 6, 7, 0, 0, 1, 2, 3, 4, 5, 6, 7, 0,\n",
       "       0, 0, 1, 2, 3, 4, 5, 7, 0, 0, 0, 1, 2, 3, 4, 5, 6, 0, 0, 0, 2, 3,\n",
       "       4, 5, 6, 7, 0, 0], dtype=uint32)"
      ]
     },
     "execution_count": 62,
     "metadata": {},
     "output_type": "execute_result"
    }
   ],
   "source": [
    "acols"
   ]
  },
  {
   "cell_type": "code",
   "execution_count": 63,
   "id": "5c526051",
   "metadata": {},
   "outputs": [
    {
     "data": {
      "text/plain": [
       "array([0, 1, 2, 3, 4, 5, 7, 0, 0, 0, 1, 3, 4, 5, 6, 7, 0, 0, 0, 1, 2, 3,\n",
       "       4, 5, 7, 0, 0, 0, 1, 2, 4, 5, 6, 7, 0, 0, 1, 2, 3, 4, 5, 6, 7, 0,\n",
       "       0, 0, 1, 2, 3, 4, 5, 7, 0, 0, 0, 1, 2, 3, 4, 5, 6, 0, 0, 0, 2, 3,\n",
       "       4, 5, 6, 7, 0, 0], dtype=uint32)"
      ]
     },
     "execution_count": 63,
     "metadata": {},
     "output_type": "execute_result"
    }
   ],
   "source": [
    "resaidx"
   ]
  },
  {
   "cell_type": "code",
   "execution_count": 64,
   "id": "f635a14d",
   "metadata": {},
   "outputs": [
    {
     "data": {
      "text/plain": [
       "array([7, 7, 7, 7, 7, 7, 7, 7], dtype=uint32)"
      ]
     },
     "execution_count": 64,
     "metadata": {},
     "output_type": "execute_result"
    }
   ],
   "source": [
    "resannz"
   ]
  },
  {
   "cell_type": "code",
   "execution_count": 65,
   "id": "d99713b6",
   "metadata": {},
   "outputs": [
    {
     "data": {
      "text/plain": [
       "array([7, 7, 7, 7, 7, 7, 7, 7], dtype=uint32)"
      ]
     },
     "execution_count": 65,
     "metadata": {},
     "output_type": "execute_result"
    }
   ],
   "source": [
    "annz"
   ]
  },
  {
   "cell_type": "markdown",
   "id": "7c703466",
   "metadata": {},
   "source": [
    "### update vals2"
   ]
  },
  {
   "cell_type": "code",
   "execution_count": 192,
   "id": "ed7e786b",
   "metadata": {},
   "outputs": [],
   "source": [
    "adatat_buf = cl.Buffer(ctx, mf.READ_WRITE | mf.COPY_HOST_PTR, hostbuf=adatat)\n",
    "acolst_buf = cl.Buffer(ctx, mf.READ_WRITE | mf.COPY_HOST_PTR, hostbuf=acolst)\n",
    "annzst_buf = cl.Buffer(ctx, mf.READ_WRITE | mf.COPY_HOST_PTR, hostbuf=annzt)"
   ]
  },
  {
   "cell_type": "code",
   "execution_count": 193,
   "id": "33840479",
   "metadata": {},
   "outputs": [],
   "source": [
    "prg = cl.Program(ctx, \"\"\"\n",
    "// Every global_id_0 works on a row\n",
    "    __kernel void addvals(__global  float* matData,     // INPUT MATRIX DATA\n",
    "                         __global  uint*  colIdx,\n",
    "                         __global  uint*  rowNnz,\n",
    "                         float lr,\n",
    "                         uint   ellwidth,\n",
    "                         __global  float* updatevals,    // INPUT\n",
    "                         __global  uint* updatexidx,\n",
    "                         __global  uint* updateyidx\n",
    "                         ) { // LOCAL SHARED BUFFER\n",
    "      uint gid = get_global_id(0);\n",
    "      uint gid2 = get_global_id(1);\n",
    "      uint topk = get_global_size(0);\n",
    "      uint bs = get_global_size(1);\n",
    "      uint baseupdateidx = topk*topk*gid2;\n",
    "      uint baseidxidx = topk*gid2;\n",
    "      uint row = updateyidx[baseidxidx+gid];\n",
    "\n",
    "      for (uint i=0; i<topk; i++) {\n",
    "        float val = updatevals[baseupdateidx+gid*topk+i];\n",
    "        uint col = updatexidx[baseidxidx+i];\n",
    "        for (uint i=0; i<rowNnz[row]; i++) {\n",
    "          uint idx = row*ellwidth+i;\n",
    "          if (colIdx[idx] >= col) {\n",
    "            //printf(\"\\\\nFOUND:%i/%i  - idx:%i\", colIdx[idx], col, idx);\n",
    "            if (colIdx[idx] == col) {\n",
    "              matData[idx] += -val*lr;\n",
    "              printf(\"\\\\nUPDATE[%i,%i]: %f\", row,col, val);\n",
    "              break;\n",
    "            } else {\n",
    "              // insert new column\n",
    "              printf(\"\\\\nINSERT[%i,%i]: %.2f\", row,col, val);\n",
    "              for (uint j=rowNnz[row]+1; j>i; j--) {\n",
    "                uint idx2 = row*ellwidth+j;\n",
    "                matData[idx2] = matData[idx2-1];\n",
    "                colIdx[idx2] = colIdx[idx2-1];\n",
    "              }\n",
    "              matData[idx] = -val*lr;\n",
    "              colIdx[idx] = col;\n",
    "              rowNnz[row] += 1;\n",
    "              break;\n",
    "            }\n",
    "          }\n",
    "        }\n",
    "        if (rowNnz[row] >= ellwidth) {\n",
    "          break;\n",
    "        }\n",
    "      }\n",
    "    }\"\"\").build()"
   ]
  },
  {
   "cell_type": "code",
   "execution_count": 194,
   "id": "0053ed70",
   "metadata": {},
   "outputs": [
    {
     "data": {
      "text/plain": [
       "<pyopencl._cl.NannyEvent at 0x7f28286988b0>"
      ]
     },
     "execution_count": 194,
     "metadata": {},
     "output_type": "execute_result"
    },
    {
     "name": "stdout",
     "output_type": "stream",
     "text": [
      "\n",
      "UPDATE[0,6]: 0.570493\n",
      "UPDATE[6,6]: 0.692239\n",
      "UPDATE[0,7]: 0.970926\n",
      "UPDATE[3,7]: 0.817218\n",
      "UPDATE[4,0]: 0.802836\n",
      "UPDATE[0,0]: 0.789624\n",
      "UPDATE[5,6]: 0.552272\n",
      "UPDATE[3,6]: 0.651981\n",
      "UPDATE[0,5]: 0.936837\n",
      "UPDATE[3,5]: 0.788526\n",
      "UPDATE[4,1]: 0.622430\n",
      "UPDATE[0,1]: 0.612187\n",
      "UPDATE[0,5]: 0.546119\n",
      "UPDATE[6,1]: 0.657299\n",
      "UPDATE[5,5]: 0.528677\n",
      "UPDATE[3,1]: 0.619073"
     ]
    }
   ],
   "source": [
    "knl = prg.addvals  # Use this Kernel object for repeated calls\n",
    "knl(queue, [topk,bs], None, adatat_buf, acolst_buf, annzst_buf, np.float32(1), np.uint32(ellwat), x_cp_buf, x_idx_buf, y_idx_buf)\n",
    "\n",
    "resat = np.empty_like(adatat)\n",
    "resaidxt = np.zeros(acolst.shape).astype(np.uint32)\n",
    "resannzt = np.zeros(annzt.shape).astype(np.uint32)\n",
    "\n",
    "cl.enqueue_copy(queue, resat, adatat_buf)\n",
    "cl.enqueue_copy(queue, resaidxt, acolst_buf)\n",
    "cl.enqueue_copy(queue, resannzt, annzst_buf)"
   ]
  },
  {
   "cell_type": "code",
   "execution_count": 195,
   "id": "8f781e72",
   "metadata": {},
   "outputs": [
    {
     "data": {
      "text/plain": [
       "9"
      ]
     },
     "execution_count": 195,
     "metadata": {},
     "output_type": "execute_result"
    }
   ],
   "source": [
    "ellwa"
   ]
  },
  {
   "cell_type": "code",
   "execution_count": 196,
   "id": "1864d3ac",
   "metadata": {},
   "outputs": [
    {
     "data": {
      "text/plain": [
       "((72,), (72,), (8,))"
      ]
     },
     "execution_count": 196,
     "metadata": {},
     "output_type": "execute_result"
    }
   ],
   "source": [
    "resat.shape, resaidxt.shape, resannzt.shape"
   ]
  },
  {
   "cell_type": "code",
   "execution_count": 197,
   "id": "6205962b",
   "metadata": {},
   "outputs": [
    {
     "data": {
      "text/plain": [
       "array([[-0.62000448, -0.21505833,  0.13251007,  0.0481182 ,  0.        ,\n",
       "        -1.39919519,  0.20627999, -0.77207798],\n",
       "       [ 0.59644181,  0.51025301,  0.97559118,  0.08422235,  0.55411869,\n",
       "         0.10682349,  0.3933695 ,  0.        ],\n",
       "       [ 0.5171895 ,  0.        ,  0.23229332,  0.42488804,  0.24228822,\n",
       "         0.46714184,  0.48234862,  0.62628335],\n",
       "       [ 0.74336094,  0.02502108,  0.32986483,  0.        ,  0.63623714,\n",
       "        -0.25202984, -0.33231586, -0.79391038],\n",
       "       [-0.31484124,  0.04882306,  0.07646387,  0.59624612,  0.47128019,\n",
       "         0.17192142,  0.83224964,  0.38636607],\n",
       "       [ 0.32877994,  0.57573944,  0.44998506,  0.34341821,  0.55822241,\n",
       "         0.0026359 , -0.35120031,  0.55601388],\n",
       "       [ 0.        , -0.19191828,  0.        ,  0.10857241,  0.23590986,\n",
       "         0.        , -0.39749774,  0.78389859],\n",
       "       [ 0.70931852,  0.3581028 ,  0.38669789,  0.74565107,  0.18378867,\n",
       "         0.83779168,  0.        ,  0.30145356]])"
      ]
     },
     "execution_count": 197,
     "metadata": {},
     "output_type": "execute_result"
    }
   ],
   "source": [
    "adenseaddt = to_dense(resat, resaidxt, resannzt, ellwat, a.T.shape)\n",
    "adenseaddt"
   ]
  },
  {
   "cell_type": "code",
   "execution_count": 199,
   "id": "c601a02c",
   "metadata": {},
   "outputs": [
    {
     "data": {
      "text/plain": [
       "array([[ True,  True,  True,  True,  True,  True,  True,  True],\n",
       "       [ True,  True,  True,  True,  True,  True,  True,  True],\n",
       "       [ True,  True,  True,  True,  True,  True,  True,  True],\n",
       "       [ True,  True,  True,  True,  True,  True,  True,  True],\n",
       "       [ True,  True,  True,  True,  True,  True,  True,  True],\n",
       "       [ True,  True,  True,  True,  True,  True,  True,  True],\n",
       "       [ True,  True,  True,  True,  True,  True,  True,  True],\n",
       "       [ True,  True,  True,  True,  True,  True,  True,  True]])"
      ]
     },
     "execution_count": 199,
     "metadata": {},
     "output_type": "execute_result"
    }
   ],
   "source": [
    "adenseadd == adenseaddt.T"
   ]
  },
  {
   "cell_type": "code",
   "execution_count": 200,
   "id": "64a4fdb0",
   "metadata": {},
   "outputs": [
    {
     "data": {
      "text/plain": [
       "array([[0.16961966, 0.39712888, 0.13251007, 0.0481182 , 0.08376146,\n",
       "        0.77677315, 0.19884802, 0.        , 0.        ],\n",
       "       [0.5964418 , 0.510253  , 0.9755912 , 0.08422235, 0.5541187 ,\n",
       "        0.10682349, 0.3933695 , 0.        , 0.        ],\n",
       "       [0.5171895 , 0.23229332, 0.42488804, 0.24228822, 0.46714184,\n",
       "        0.48234862, 0.62628335, 0.        , 0.        ],\n",
       "       [0.74336094, 0.64409375, 0.32986483, 0.63623714, 0.53649616,\n",
       "        0.31966466, 0.02330758, 0.        , 0.        ],\n",
       "       [0.48799506, 0.67125344, 0.07646387, 0.5962461 , 0.4712802 ,\n",
       "        0.17192142, 0.83224964, 0.38636607, 0.        ],\n",
       "       [0.32877994, 0.57573944, 0.44998506, 0.3434182 , 0.5582224 ,\n",
       "        0.5313124 , 0.20107165, 0.5560139 , 0.        ],\n",
       "       [0.46538112, 0.10857241, 0.23590986, 0.29474154, 0.7838986 ,\n",
       "        0.        , 0.        , 0.        , 0.        ],\n",
       "       [0.7093185 , 0.3581028 , 0.3866979 , 0.74565107, 0.18378867,\n",
       "        0.8377917 , 0.30145356, 0.        , 0.        ]], dtype=float32)"
      ]
     },
     "execution_count": 200,
     "metadata": {},
     "output_type": "execute_result"
    }
   ],
   "source": [
    "adata2t = adatat.reshape(-1, ellwat)\n",
    "adata2t"
   ]
  },
  {
   "cell_type": "code",
   "execution_count": 201,
   "id": "3b8f6062",
   "metadata": {},
   "outputs": [
    {
     "data": {
      "text/plain": [
       "array([[-0.6200045 , -0.21505833,  0.13251007,  0.0481182 , -1.3991952 ,\n",
       "         0.20628   , -0.772078  ,  0.        ,  0.        ],\n",
       "       [ 0.5964418 ,  0.510253  ,  0.9755912 ,  0.08422235,  0.5541187 ,\n",
       "         0.10682349,  0.3933695 ,  0.        ,  0.        ],\n",
       "       [ 0.5171895 ,  0.23229332,  0.42488804,  0.24228822,  0.46714184,\n",
       "         0.48234862,  0.62628335,  0.        ,  0.        ],\n",
       "       [ 0.74336094,  0.02502108,  0.32986483,  0.63623714, -0.25202984,\n",
       "        -0.33231586, -0.7939104 ,  0.        ,  0.        ],\n",
       "       [-0.31484124,  0.04882306,  0.07646387,  0.5962461 ,  0.4712802 ,\n",
       "         0.17192142,  0.83224964,  0.38636607,  0.        ],\n",
       "       [ 0.32877994,  0.57573944,  0.44998506,  0.3434182 ,  0.5582224 ,\n",
       "         0.0026359 , -0.3512003 ,  0.5560139 ,  0.        ],\n",
       "       [-0.19191828,  0.10857241,  0.23590986, -0.39749774,  0.7838986 ,\n",
       "         0.        ,  0.        ,  0.        ,  0.        ],\n",
       "       [ 0.7093185 ,  0.3581028 ,  0.3866979 ,  0.74565107,  0.18378867,\n",
       "         0.8377917 ,  0.30145356,  0.        ,  0.        ]],\n",
       "      dtype=float32)"
      ]
     },
     "execution_count": 201,
     "metadata": {},
     "output_type": "execute_result"
    }
   ],
   "source": [
    "resat = resat.reshape(-1, ellwat)\n",
    "resat"
   ]
  },
  {
   "cell_type": "code",
   "execution_count": 202,
   "id": "eb51f891",
   "metadata": {},
   "outputs": [
    {
     "data": {
      "text/plain": [
       "array([[-0.78962415, -0.6121872 ,  0.        ,  0.        , -1.4829566 ,\n",
       "        -0.57049316, -0.970926  ,  0.        ,  0.        ],\n",
       "       [ 0.        ,  0.        ,  0.        ,  0.        ,  0.        ,\n",
       "         0.        ,  0.        ,  0.        ,  0.        ],\n",
       "       [ 0.        ,  0.        ,  0.        ,  0.        ,  0.        ,\n",
       "         0.        ,  0.        ,  0.        ,  0.        ],\n",
       "       [ 0.        , -0.6190727 ,  0.        ,  0.        , -0.788526  ,\n",
       "        -0.6519805 , -0.81721795,  0.        ,  0.        ],\n",
       "       [-0.8028363 , -0.6224304 ,  0.        ,  0.        ,  0.        ,\n",
       "         0.        ,  0.        ,  0.        ,  0.        ],\n",
       "       [ 0.        ,  0.        ,  0.        ,  0.        ,  0.        ,\n",
       "        -0.5286765 , -0.55227196,  0.        ,  0.        ],\n",
       "       [-0.6572994 ,  0.        ,  0.        , -0.6922393 ,  0.        ,\n",
       "         0.        ,  0.        ,  0.        ,  0.        ],\n",
       "       [ 0.        ,  0.        ,  0.        ,  0.        ,  0.        ,\n",
       "         0.        ,  0.        ,  0.        ,  0.        ]],\n",
       "      dtype=float32)"
      ]
     },
     "execution_count": 202,
     "metadata": {},
     "output_type": "execute_result"
    }
   ],
   "source": [
    "resat - adata2t"
   ]
  },
  {
   "cell_type": "code",
   "execution_count": 203,
   "id": "f7e150fe",
   "metadata": {},
   "outputs": [
    {
     "data": {
      "text/plain": [
       "array([0, 1, 2, 3, 4, 5, 7, 0, 0, 0, 1, 3, 4, 5, 6, 7, 0, 0, 0, 1, 2, 3,\n",
       "       4, 5, 7, 0, 0, 0, 1, 2, 4, 5, 6, 7, 0, 0, 1, 2, 3, 4, 5, 6, 7, 0,\n",
       "       0, 0, 1, 2, 3, 4, 5, 7, 0, 0, 0, 1, 2, 3, 4, 5, 6, 0, 0, 0, 2, 3,\n",
       "       4, 5, 6, 7, 0, 0], dtype=uint32)"
      ]
     },
     "execution_count": 203,
     "metadata": {},
     "output_type": "execute_result"
    }
   ],
   "source": [
    "acols"
   ]
  },
  {
   "cell_type": "code",
   "execution_count": 204,
   "id": "8f1f18f1",
   "metadata": {},
   "outputs": [
    {
     "data": {
      "text/plain": [
       "array([0, 1, 2, 3, 4, 5, 7, 0, 0, 0, 1, 3, 4, 5, 6, 7, 0, 0, 0, 1, 2, 3,\n",
       "       4, 5, 7, 0, 0, 0, 1, 2, 4, 5, 6, 7, 0, 0, 1, 2, 3, 4, 5, 6, 7, 0,\n",
       "       0, 0, 1, 2, 3, 4, 5, 7, 0, 0, 0, 1, 2, 3, 4, 5, 6, 0, 0, 0, 2, 3,\n",
       "       4, 5, 6, 7, 0, 0], dtype=uint32)"
      ]
     },
     "execution_count": 204,
     "metadata": {},
     "output_type": "execute_result"
    }
   ],
   "source": [
    "resaidx"
   ]
  },
  {
   "cell_type": "code",
   "execution_count": 205,
   "id": "bd326e73",
   "metadata": {},
   "outputs": [
    {
     "data": {
      "text/plain": [
       "array([7, 7, 7, 7, 7, 7, 7, 7], dtype=uint32)"
      ]
     },
     "execution_count": 205,
     "metadata": {},
     "output_type": "execute_result"
    }
   ],
   "source": [
    "resannz"
   ]
  },
  {
   "cell_type": "code",
   "execution_count": 206,
   "id": "357413c1",
   "metadata": {},
   "outputs": [
    {
     "data": {
      "text/plain": [
       "array([7, 7, 7, 7, 7, 7, 7, 7], dtype=uint32)"
      ]
     },
     "execution_count": 206,
     "metadata": {},
     "output_type": "execute_result"
    }
   ],
   "source": [
    "annz"
   ]
  },
  {
   "cell_type": "markdown",
   "id": "7f618bfd",
   "metadata": {},
   "source": [
    "# OTHER"
   ]
  },
  {
   "cell_type": "markdown",
   "id": "28fd6b45",
   "metadata": {},
   "source": [
    "import numpy as np\n",
    "import pyopencl as cl\n",
    "\n",
    "mf = cl.mem_flags"
   ]
  },
  {
   "cell_type": "markdown",
   "id": "ebed13d1",
   "metadata": {},
   "source": [
    "dim = 16\n",
    "topk = 4\n",
    "\n",
    "x = np.random.rand(dim).astype(np.float32)\n",
    "y = np.random.rand(dim).astype(np.float32)\n",
    "x.shape,y.shape"
   ]
  },
  {
   "cell_type": "markdown",
   "id": "444a4a7f",
   "metadata": {},
   "source": [
    "dim1 = 4\n",
    "dim2 = 8\n",
    "dim3 = 1\n",
    "\n",
    "ctx = cl.create_some_context()\n",
    "queue = cl.CommandQueue(ctx,\n",
    "        properties=cl.command_queue_properties.PROFILING_ENABLE)\n",
    "\n",
    "sparsity = 0.2\n",
    "\n",
    "a = np.zeros((dim1,dim2))\n",
    "b = np.random.rand(dim2,dim3).flatten().astype(np.float32)\n",
    "\n",
    "a.shape, b.shape"
   ]
  },
  {
   "cell_type": "code",
   "execution_count": null,
   "id": "e2d4594d",
   "metadata": {},
   "outputs": [],
   "source": [
    "x_buf = cl.Buffer(ctx, mf.READ_ONLY | mf.COPY_HOST_PTR, hostbuf=x)\n",
    "y_buf = cl.Buffer(ctx, mf.READ_ONLY | mf.COPY_HOST_PTR, hostbuf=y)\n",
    "val_out_buf = cl.Buffer(ctx, mf.READ_WRITE, 4*topk*topk)\n",
    "x_idx_buf = cl.Buffer(ctx, mf.READ_WRITE, topk*4)\n",
    "y_idx_buf = cl.Buffer(ctx, mf.READ_WRITE, topk*4)\n",
    "\n",
    "prg = cl.Program(ctx, \"\"\"\n",
    "// Every global_id_0 works on a row\n",
    "__kernel void genwupdate2(__global  float* x,     // INPUT MATRIX DATA\n",
    "                         __global  float* y,    // INPUT\n",
    "                         __global  float* xout,    // INPUT\n",
    "                         uint topk,\n",
    "                         __global  uint* xoutidx,    // INPUT\n",
    "                         __global  uint* youtidx    // INPUT\n",
    "                        ) { // LOCAL SHARED BUFFER\n",
    "  uint gid = get_global_id(0);\n",
    "  uint n = get_global_size(0);\n",
    "  \n",
    "  xout[gid] = x[gid];\n",
    "  xoutidx[gid] = gid;\n",
    "  youtidx[gid] = gid;\n",
    "  \n",
    "  float valx = x[gid];\n",
    "  float valy = y[gid];\n",
    "  uint posx = 0;\n",
    "  uint posy = 0;\n",
    "  for (uint i = 0; i < n; i++) {\n",
    "    float tempval = x[i];\n",
    "    float tempval2 = y[i];\n",
    "    bool larger = tempval > valx;\n",
    "    bool larger2 = tempval2 > valy;\n",
    "      \n",
    "    posx += (larger)?1:0;\n",
    "    posy += (larger2)?1:0;\n",
    "  }\n",
    "  //printf(\"posx:%i\", posx);\n",
    "  if (posx < topk) {\n",
    "    xoutidx[posx] = gid;\n",
    "  }\n",
    "  if (posy < topk) {\n",
    "    youtidx[posy] = gid;\n",
    "  }\n",
    "  if (gid < topk) {\n",
    "    uint i = gid;\n",
    "    for (uint j=0; j<topk; j++) {\n",
    "      xout[gid*topk+j] = x[xoutidx[gid]] * y[youtidx[j]];\n",
    "    }\n",
    "  }\n",
    "}\"\"\").build()"
   ]
  },
  {
   "cell_type": "code",
   "execution_count": null,
   "id": "f45b3b69",
   "metadata": {},
   "outputs": [],
   "source": [
    "knl = prg.genwupdate2  # Use this Kernel object for repeated calls\n",
    "event = knl(queue, [dim,], None, x_buf, y_buf, val_out_buf, np.uint32(topk), x_idx_buf, y_idx_buf)\n",
    "\n",
    "#event.wait()\n",
    "val_out = np.zeros(topk*topk).astype(np.float32)\n",
    "resxidx = np.zeros(topk).astype(np.uint32)\n",
    "resyidx = np.zeros(topk).astype(np.uint32)\n",
    "\n",
    "cl.enqueue_copy(queue, val_out, val_out_buf)\n",
    "cl.enqueue_copy(queue, resxidx, x_idx_buf, wait_for=[event])\n",
    "cl.enqueue_copy(queue, resyidx, y_idx_buf)"
   ]
  },
  {
   "cell_type": "code",
   "execution_count": null,
   "id": "d883394f",
   "metadata": {},
   "outputs": [],
   "source": [
    "val_out"
   ]
  },
  {
   "cell_type": "code",
   "execution_count": null,
   "id": "2335cf69",
   "metadata": {},
   "outputs": [],
   "source": [
    "resxidx"
   ]
  },
  {
   "cell_type": "code",
   "execution_count": null,
   "id": "5e714f2a",
   "metadata": {},
   "outputs": [],
   "source": [
    "resyidx"
   ]
  },
  {
   "cell_type": "code",
   "execution_count": null,
   "id": "f246c208",
   "metadata": {},
   "outputs": [],
   "source": [
    "asdf"
   ]
  },
  {
   "cell_type": "code",
   "execution_count": null,
   "id": "02a5c5dd",
   "metadata": {},
   "outputs": [],
   "source": [
    "from __future__ import division\n",
    "\n",
    "KERNEL_CODE = \"\"\"\n",
    "// Thread block size\n",
    "#define BLOCK_SIZE %(block_size)d\n",
    "// Matrix dimensions\n",
    "// (chosen as multiples of the thread block size for simplicity)\n",
    "#define WA %(w_a)d // Matrix A width\n",
    "#define HA %(h_a)d // Matrix A height\n",
    "#define WB %(w_b)d // Matrix B width\n",
    "#define HB WA  // Matrix B height\n",
    "#define WC WB  // Matrix C width\n",
    "#define HC HA  // Matrix C height\n",
    "/*\n",
    " * Copyright 1993-2009 NVIDIA Corporation.  All rights reserved.\n",
    " *\n",
    " * NVIDIA Corporation and its licensors retain all intellectual property and\n",
    " * proprietary rights in and to this software and related documentation.\n",
    " * Any use, reproduction, disclosure, or distribution of this software\n",
    " * and related documentation without an express license agreement from\n",
    " * NVIDIA Corporation is strictly prohibited.\n",
    " *\n",
    " * Please refer to the applicable NVIDIA end user license agreement (EULA)\n",
    " * associated with this source code for terms and conditions that govern\n",
    " * your use of this NVIDIA software.\n",
    " *\n",
    " */\n",
    "/* Matrix multiplication: C = A * B.\n",
    " * Device code.\n",
    " */\n",
    "#define AS(j, i) As[i + j * BLOCK_SIZE]\n",
    "#define BS(j, i) Bs[i + j * BLOCK_SIZE]\n",
    "////////////////////////////////////////////////////////////////////////////////\n",
    "//! Matrix multiplication on the device: C = A * B\n",
    "//! WA is A's width and WB is B's width\n",
    "////////////////////////////////////////////////////////////////////////////////\n",
    "__kernel __attribute__((reqd_work_group_size(16,16,1))) \n",
    "void\n",
    "matrixMul( __global float* C, __global float* A, __global float* B)\n",
    "{\n",
    "    __local float As[BLOCK_SIZE*BLOCK_SIZE];\n",
    "    __local float Bs[BLOCK_SIZE*BLOCK_SIZE];\n",
    "    // Block index\n",
    "    int bx = get_group_id(0);\n",
    "    int by = get_group_id(1);\n",
    "    // Thread index\n",
    "    int tx = get_local_id(0);\n",
    "    int ty = get_local_id(1);\n",
    "    // Index of the first sub-matrix of A processed by the block\n",
    "    int aBegin = WA * BLOCK_SIZE * by;\n",
    "    // Index of the last sub-matrix of A processed by the block\n",
    "    int aEnd   = aBegin + WA - 1;\n",
    "    // Step size used to iterate through the sub-matrices of A\n",
    "    int aStep  = BLOCK_SIZE;\n",
    "    // Index of the first sub-matrix of B processed by the block\n",
    "    int bBegin = BLOCK_SIZE * bx;\n",
    "    // Step size used to iterate through the sub-matrices of B\n",
    "    int bStep  = BLOCK_SIZE * WB;\n",
    "    // Csub is used to store the element of the block sub-matrix\n",
    "    // that is computed by the thread\n",
    "    float Csub = 0.0f;\n",
    "    // Loop over all the sub-matrices of A and B\n",
    "    // required to compute the block sub-matrix\n",
    "    for (int a = aBegin, b = bBegin;\n",
    "             a <= aEnd;\n",
    "             a += aStep, b += bStep) {\n",
    "        // Load the matrices from device memory\n",
    "        // to shared memory; each thread loads\n",
    "        // one element of each matrix\n",
    "        AS(ty, tx) = A[a + WA * ty + tx];\n",
    "        BS(ty, tx) = B[b + WB * ty + tx];\n",
    "        // Synchronize to make sure the matrices are loaded\n",
    "        barrier(CLK_LOCAL_MEM_FENCE);\n",
    "        // Multiply the two matrices together;\n",
    "        // each thread computes one element\n",
    "        // of the block sub-matrix\n",
    "        for (int k = 0; k < BLOCK_SIZE; ++k)\n",
    "            Csub += AS(ty, k) * BS(k, tx);\n",
    "        // Synchronize to make sure that the preceding\n",
    "        // computation is done before loading two new\n",
    "        // sub-matrices of A and B in the next iteration\n",
    "        barrier(CLK_LOCAL_MEM_FENCE);\n",
    "    }\n",
    "    // Write the block sub-matrix to device memory;\n",
    "    // each thread writes one element\n",
    "    C[get_global_id(1) * get_global_size(0) + get_global_id(0)] = Csub;\n",
    "}\n",
    "\"\"\"\n"
   ]
  },
  {
   "cell_type": "code",
   "execution_count": null,
   "id": "c1eb509e",
   "metadata": {},
   "outputs": [],
   "source": []
  },
  {
   "cell_type": "code",
   "execution_count": null,
   "id": "77b4a04e",
   "metadata": {},
   "outputs": [],
   "source": []
  },
  {
   "cell_type": "code",
   "execution_count": null,
   "id": "a0521855",
   "metadata": {},
   "outputs": [],
   "source": []
  },
  {
   "cell_type": "code",
   "execution_count": null,
   "id": "9a61206e",
   "metadata": {},
   "outputs": [],
   "source": []
  },
  {
   "cell_type": "code",
   "execution_count": null,
   "id": "16d754cb",
   "metadata": {},
   "outputs": [],
   "source": []
  },
  {
   "cell_type": "code",
   "execution_count": null,
   "id": "c91d5425",
   "metadata": {},
   "outputs": [],
   "source": []
  },
  {
   "cell_type": "code",
   "execution_count": null,
   "id": "d9f4a6f0",
   "metadata": {},
   "outputs": [],
   "source": []
  },
  {
   "cell_type": "code",
   "execution_count": null,
   "id": "9f708713",
   "metadata": {},
   "outputs": [],
   "source": []
  },
  {
   "cell_type": "code",
   "execution_count": null,
   "id": "e59475d1",
   "metadata": {},
   "outputs": [],
   "source": []
  },
  {
   "cell_type": "code",
   "execution_count": null,
   "id": "3dd6c3a3",
   "metadata": {},
   "outputs": [],
   "source": []
  },
  {
   "cell_type": "code",
   "execution_count": null,
   "id": "7e83b426",
   "metadata": {},
   "outputs": [],
   "source": []
  },
  {
   "cell_type": "code",
   "execution_count": null,
   "id": "af6af470",
   "metadata": {},
   "outputs": [],
   "source": []
  },
  {
   "cell_type": "code",
   "execution_count": null,
   "id": "e2b3a039",
   "metadata": {},
   "outputs": [],
   "source": []
  }
 ],
 "metadata": {
  "kernelspec": {
   "display_name": "Python 3",
   "language": "python",
   "name": "python3"
  },
  "language_info": {
   "codemirror_mode": {
    "name": "ipython",
    "version": 3
   },
   "file_extension": ".py",
   "mimetype": "text/x-python",
   "name": "python",
   "nbconvert_exporter": "python",
   "pygments_lexer": "ipython3",
   "version": "3.8.12"
  }
 },
 "nbformat": 4,
 "nbformat_minor": 5
}
