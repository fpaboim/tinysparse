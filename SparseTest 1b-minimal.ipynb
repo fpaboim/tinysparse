{
 "cells": [
  {
   "cell_type": "code",
   "execution_count": 1,
   "id": "4309590e",
   "metadata": {},
   "outputs": [
    {
     "name": "stdout",
     "output_type": "stream",
     "text": [
      "DEVICE:GPU\n"
     ]
    }
   ],
   "source": [
    "from tinygrad.densetensor import DenseTensor\n",
    "from tinygrad.sparsetensor import SparseTensor\n",
    "import numpy as np\n",
    "\n",
    "%load_ext autoreload\n",
    "%autoreload 2"
   ]
  },
  {
   "cell_type": "code",
   "execution_count": 2,
   "id": "4cb532fa",
   "metadata": {},
   "outputs": [],
   "source": [
    "x_init = np.random.randn(2,6).astype(np.float32)\n",
    "x2_init = np.random.randn(3).astype(np.float32)\n",
    "U_init = np.random.randn(3,3).astype(np.float32)\n",
    "V_init = np.random.randn(3,3).astype(np.float32)\n",
    "W_init = np.random.randn(6,3).astype(np.float32)\n",
    "m_init = np.random.randn(1,3).astype(np.float32)"
   ]
  },
  {
   "cell_type": "markdown",
   "id": "b051fb88",
   "metadata": {},
   "source": [
    "x = DenseTensor(x_init)\n",
    "W = DenseTensor(W_init)\n",
    "m = DenseTensor(m_init)\n",
    "out = x.dot(W).relu()\n",
    "out = out.logsoftmax()\n",
    "out = out.mul(m).add(m).sum()\n",
    "out.backward()\n",
    "\n",
    "out.cpu().data, x"
   ]
  },
  {
   "cell_type": "markdown",
   "id": "62d0edbe",
   "metadata": {
    "scrolled": true
   },
   "source": [
    "x2 = DenseTensor(x2_init)#.gpu()\n",
    "W = SparseTensor(W_init)\n",
    "out = W.dot(x2).relu().sum()\n",
    "\n",
    "out.backward()\n",
    "\n",
    "out.cpu().data, x"
   ]
  },
  {
   "cell_type": "code",
   "execution_count": 3,
   "id": "c3d0659d",
   "metadata": {},
   "outputs": [],
   "source": [
    "import numpy as np\n",
    "import pyopencl as cl\n",
    "\n",
    "mf = cl.mem_flags"
   ]
  },
  {
   "cell_type": "code",
   "execution_count": 4,
   "id": "a0cc978b",
   "metadata": {},
   "outputs": [
    {
     "data": {
      "text/plain": [
       "((8, 16), (16, 5))"
      ]
     },
     "execution_count": 4,
     "metadata": {},
     "output_type": "execute_result"
    }
   ],
   "source": [
    "dim1 = 8\n",
    "dim2 = 16\n",
    "dim3 = 5\n",
    "topkx = 16\n",
    "topky = 5\n",
    "topk  = topkx\n",
    "bs = dim3\n",
    "\n",
    "np.random.seed(9)\n",
    "\n",
    "ctx = cl.create_some_context()\n",
    "queue = cl.CommandQueue(ctx,\n",
    "        properties=cl.command_queue_properties.PROFILING_ENABLE)\n",
    "\n",
    "sparsity = 0.4\n",
    "\n",
    "a = np.zeros((dim1,dim2))\n",
    "b = np.zeros((dim2,dim3)).astype(np.float32)\n",
    "\n",
    "a.shape, b.shape"
   ]
  },
  {
   "cell_type": "code",
   "execution_count": 5,
   "id": "306d8954",
   "metadata": {},
   "outputs": [],
   "source": [
    "x_init = np.random.randn(dim1,dim3).astype(np.float32)\n",
    "w_init = np.random.randn(dim2,dim3).astype(np.float32)"
   ]
  },
  {
   "cell_type": "code",
   "execution_count": 6,
   "id": "31516aaa",
   "metadata": {},
   "outputs": [
    {
     "data": {
      "text/plain": [
       "array([[-6.56452596e-01, -5.62572964e-02, -4.99902606e-01,\n",
       "         4.36419368e-01, -3.75813037e-01],\n",
       "       [-9.23061609e-01,  1.91725028e+00, -1.50302842e-01,\n",
       "        -6.38729751e-01,  8.24770331e-01],\n",
       "       [-1.21083879e+00, -5.03405392e-01, -7.01915681e-01,\n",
       "        -1.97427106e+00, -2.65573215e+00],\n",
       "       [-5.76822497e-02, -6.56186581e-01, -6.61706686e-01,\n",
       "         7.69348443e-01, -8.99004877e-01],\n",
       "       [ 1.69363797e+00, -1.69733524e+00, -2.79337025e+00,\n",
       "        -2.26150647e-01,  3.97428840e-01],\n",
       "       [ 1.65970361e+00, -4.93746817e-01, -3.76097679e-01,\n",
       "        -1.69739768e-01,  2.41710639e+00],\n",
       "       [-1.80884051e+00,  3.39751154e-01, -2.27297600e-02,\n",
       "        -9.59997058e-01, -3.83114427e-01],\n",
       "       [ 1.09529994e-01, -8.55162859e-01,  2.21606664e-04,\n",
       "         6.63855076e-01,  7.49480963e-01],\n",
       "       [-4.65818375e-01, -2.77439266e-01,  3.54995355e-02,\n",
       "         8.48221183e-01,  1.62998557e-01],\n",
       "       [ 1.20862365e+00,  5.02520800e-01, -1.58382213e+00,\n",
       "         1.02303350e+00, -6.53017402e-01],\n",
       "       [ 5.37045121e-01, -7.97706190e-03,  9.24784184e-01,\n",
       "         4.66083325e-02,  1.42019868e-01],\n",
       "       [-1.65366137e+00,  1.36799216e+00,  2.51062457e-02,\n",
       "        -3.95482242e-01,  1.28438759e+00],\n",
       "       [ 5.61277032e-01,  2.39725500e-01,  4.79899108e-01,\n",
       "         6.17529526e-02, -1.07051229e+00],\n",
       "       [-1.27321005e+00,  9.20076132e-01,  1.05491853e+00,\n",
       "         5.40288031e-01,  3.09063524e-01],\n",
       "       [ 9.70861197e-01,  1.15472412e+00,  4.22608823e-01,\n",
       "         9.99208927e-01,  8.83520246e-01],\n",
       "       [-5.30199170e-01,  8.14134836e-01, -1.01988423e+00,\n",
       "        -2.25823689e+00,  6.79954886e-01]], dtype=float32)"
      ]
     },
     "execution_count": 6,
     "metadata": {},
     "output_type": "execute_result"
    }
   ],
   "source": [
    "w_init"
   ]
  },
  {
   "cell_type": "code",
   "execution_count": 7,
   "id": "7ecf7a2b",
   "metadata": {},
   "outputs": [],
   "source": [
    "def fill_sparse(mat, sparsity=0.5):\n",
    "    indices = np.array(range(mat.shape[1]))\n",
    "    nrows = int(mat.shape[1]*sparsity)\n",
    "    for row in range(mat.shape[0]):\n",
    "        lim = nrows #+ int(np.random.random()*3)\n",
    "        mat[row][np.random.permutation(indices)[:lim]] = np.random.random(lim)\n",
    "    return mat\n",
    "\n",
    "a = fill_sparse(a, sparsity).astype(np.float32)\n",
    "b = fill_sparse(b, sparsity).astype(np.float32)"
   ]
  },
  {
   "cell_type": "code",
   "execution_count": 8,
   "id": "b32f0e9a",
   "metadata": {},
   "outputs": [
    {
     "data": {
      "text/plain": [
       "array([[0.        , 0.68347037, 0.8035886 , 0.        , 0.        ,\n",
       "        0.        , 0.        , 0.08023349, 0.8858316 , 0.        ,\n",
       "        0.17861794, 0.        , 0.46201044, 0.        , 0.        ,\n",
       "        0.        ],\n",
       "       [0.9562663 , 0.5531271 , 0.        , 0.        , 0.5375557 ,\n",
       "        0.        , 0.        , 0.        , 0.        , 0.        ,\n",
       "        0.        , 0.20370705, 0.35530138, 0.        , 0.        ,\n",
       "        0.9186601 ],\n",
       "       [0.        , 0.20103766, 0.        , 0.        , 0.        ,\n",
       "        0.74341315, 0.        , 0.        , 0.        , 0.5787496 ,\n",
       "        0.        , 0.05387774, 0.        , 0.5917517 , 0.17797045,\n",
       "        0.        ],\n",
       "       [0.        , 0.        , 0.        , 0.14296253, 0.9103574 ,\n",
       "        0.03242496, 0.        , 0.71459514, 0.        , 0.        ,\n",
       "        0.        , 0.        , 0.7448136 , 0.        , 0.        ,\n",
       "        0.66635793],\n",
       "       [0.        , 0.        , 0.        , 0.59893256, 0.        ,\n",
       "        0.        , 0.        , 0.9217044 , 0.        , 0.16333483,\n",
       "        0.        , 0.17167741, 0.        , 0.        , 0.7605819 ,\n",
       "        0.48675168],\n",
       "       [0.11415514, 0.82574075, 0.        , 0.        , 0.        ,\n",
       "        0.27978534, 0.        , 0.25018668, 0.        , 0.        ,\n",
       "        0.83127654, 0.09929471, 0.        , 0.        , 0.        ,\n",
       "        0.        ],\n",
       "       [0.28872353, 0.04889954, 0.        , 0.6493426 , 0.        ,\n",
       "        0.33329687, 0.        , 0.        , 0.        , 0.        ,\n",
       "        0.        , 0.        , 0.84441024, 0.01120785, 0.        ,\n",
       "        0.        ],\n",
       "       [0.67626965, 0.        , 0.        , 0.35563806, 0.        ,\n",
       "        0.        , 0.69630474, 0.        , 0.6753613 , 0.        ,\n",
       "        0.        , 0.12287189, 0.        , 0.        , 0.        ,\n",
       "        0.09184685]], dtype=float32)"
      ]
     },
     "execution_count": 8,
     "metadata": {},
     "output_type": "execute_result"
    }
   ],
   "source": [
    "a"
   ]
  },
  {
   "cell_type": "code",
   "execution_count": 9,
   "id": "d286d740",
   "metadata": {},
   "outputs": [
    {
     "data": {
      "text/plain": [
       "array([[0.49395892, 0.        , 0.46451807, 0.        , 0.        ],\n",
       "       [0.65864426, 0.        , 0.9786625 , 0.        , 0.        ],\n",
       "       [0.31044865, 0.        , 0.02502257, 0.        , 0.        ],\n",
       "       [0.        , 0.46765924, 0.        , 0.        , 0.03160795],\n",
       "       [0.71082693, 0.        , 0.58997136, 0.        , 0.        ],\n",
       "       [0.        , 0.        , 0.84622455, 0.5916316 , 0.        ],\n",
       "       [0.46450275, 0.        , 0.        , 0.        , 0.9429863 ],\n",
       "       [0.        , 0.34248227, 0.7672639 , 0.        , 0.        ],\n",
       "       [0.        , 0.        , 0.9855889 , 0.        , 0.2535647 ],\n",
       "       [0.        , 0.7705159 , 0.31522992, 0.        , 0.        ],\n",
       "       [0.        , 0.7167741 , 0.        , 0.8238369 , 0.        ],\n",
       "       [0.        , 0.91970533, 0.        , 0.7873889 , 0.        ],\n",
       "       [0.        , 0.        , 0.        , 0.404568  , 0.841323  ],\n",
       "       [0.        , 0.        , 0.674503  , 0.48820347, 0.        ],\n",
       "       [0.18725161, 0.11607183, 0.        , 0.        , 0.        ],\n",
       "       [0.7250254 , 0.        , 0.12346577, 0.        , 0.        ]],\n",
       "      dtype=float32)"
      ]
     },
     "execution_count": 9,
     "metadata": {},
     "output_type": "execute_result"
    }
   ],
   "source": [
    "b"
   ]
  },
  {
   "cell_type": "code",
   "execution_count": 10,
   "id": "45c14776",
   "metadata": {},
   "outputs": [
    {
     "data": {
      "text/plain": [
       "array([-1.3542958 , -0.06554703,  0.41033113], dtype=float32)"
      ]
     },
     "execution_count": 10,
     "metadata": {},
     "output_type": "execute_result"
    }
   ],
   "source": [
    "x2_init.T"
   ]
  },
  {
   "cell_type": "code",
   "execution_count": 11,
   "id": "6b2b88a2",
   "metadata": {},
   "outputs": [
    {
     "data": {
      "text/plain": [
       "(8, 5)"
      ]
     },
     "execution_count": 11,
     "metadata": {},
     "output_type": "execute_result"
    }
   ],
   "source": [
    "mult = a.dot(b)\n",
    "mult.shape"
   ]
  },
  {
   "cell_type": "code",
   "execution_count": 12,
   "id": "d33049e0",
   "metadata": {},
   "outputs": [
    {
     "data": {
      "text/plain": [
       "(8, 5)"
      ]
     },
     "execution_count": 12,
     "metadata": {},
     "output_type": "execute_result"
    }
   ],
   "source": [
    "mult.shape"
   ]
  },
  {
   "cell_type": "code",
   "execution_count": 13,
   "id": "67872651",
   "metadata": {},
   "outputs": [],
   "source": [
    "def to_data(mat):\n",
    "    all_rows = []\n",
    "    all_idxs = []\n",
    "    all_nnzs = []\n",
    "    for row in range(mat.shape[0]):\n",
    "        rowdata = []\n",
    "        colidxs = []\n",
    "        all_nnzs.append(0)\n",
    "        for col in range(mat.shape[1]):\n",
    "            val = mat[row][col]\n",
    "            if val != 0:\n",
    "                rowdata.append(val)\n",
    "                colidxs.append(col)\n",
    "                all_nnzs[-1] += 1\n",
    "        all_rows.append(rowdata)\n",
    "        all_idxs.append(colidxs)\n",
    "    \n",
    "    ellwidth = min(int(np.sqrt(np.max(all_nnzs))+1)**2, mat.shape[1])\n",
    "    #all_rows = np.array(all_rows)#.astype(np.float32).flatten()           \n",
    "    for row in range(mat.shape[0]):\n",
    "        #print(row, all_rows)\n",
    "        all_rows[row] = np.array(all_rows[row])\n",
    "        all_rows[row].resize(ellwidth)\n",
    "        all_idxs[row] = np.array(all_idxs[row])\n",
    "        all_idxs[row].resize(ellwidth)\n",
    "        #print(all_idxs[row])\n",
    "    all_rows = np.array(all_rows)\n",
    "    all_idxs = np.array(all_idxs)\n",
    "    all_nnzs = np.array(all_nnzs)\n",
    "    \n",
    "#     while (not all_rows[:,-1].any()):\n",
    "#         all_rows = all_rows[:,:-1]\n",
    "#         all_idxs = all_idxs[:,:-1]\n",
    "#         ellwidth -= 1\n",
    "        \n",
    "    \n",
    "    all_rows = np.array(all_rows).astype(np.float32).flatten()\n",
    "    all_idxs = np.array(all_idxs).astype(np.uint32).flatten()\n",
    "    \n",
    "    all_nnzs = np.array(all_nnzs).astype(np.uint32)\n",
    "    \n",
    "    \n",
    "    return all_rows, all_idxs, all_nnzs, ellwidth"
   ]
  },
  {
   "cell_type": "code",
   "execution_count": 14,
   "id": "3cc9dd5d",
   "metadata": {},
   "outputs": [],
   "source": [
    "def to_dense(data, cols, nnzs, ellw, shape):\n",
    "    out = np.zeros(shape)\n",
    "    for row in range(shape[0]):\n",
    "        for icol in range(nnzs[row]):\n",
    "            out[row,cols[row*ellw+icol]] = data[row*ellw+icol]\n",
    "    return out"
   ]
  },
  {
   "cell_type": "code",
   "execution_count": 15,
   "id": "cdaa466d",
   "metadata": {},
   "outputs": [
    {
     "data": {
      "text/plain": [
       "(array([-6.56452596e-01, -5.62572964e-02, -4.99902606e-01,  4.36419368e-01,\n",
       "        -3.75813037e-01, -9.23061609e-01,  1.91725028e+00, -1.50302842e-01,\n",
       "        -6.38729751e-01,  8.24770331e-01, -1.21083879e+00, -5.03405392e-01,\n",
       "        -7.01915681e-01, -1.97427106e+00, -2.65573215e+00, -5.76822497e-02,\n",
       "        -6.56186581e-01, -6.61706686e-01,  7.69348443e-01, -8.99004877e-01,\n",
       "         1.69363797e+00, -1.69733524e+00, -2.79337025e+00, -2.26150647e-01,\n",
       "         3.97428840e-01,  1.65970361e+00, -4.93746817e-01, -3.76097679e-01,\n",
       "        -1.69739768e-01,  2.41710639e+00, -1.80884051e+00,  3.39751154e-01,\n",
       "        -2.27297600e-02, -9.59997058e-01, -3.83114427e-01,  1.09529994e-01,\n",
       "        -8.55162859e-01,  2.21606664e-04,  6.63855076e-01,  7.49480963e-01,\n",
       "        -4.65818375e-01, -2.77439266e-01,  3.54995355e-02,  8.48221183e-01,\n",
       "         1.62998557e-01,  1.20862365e+00,  5.02520800e-01, -1.58382213e+00,\n",
       "         1.02303350e+00, -6.53017402e-01,  5.37045121e-01, -7.97706190e-03,\n",
       "         9.24784184e-01,  4.66083325e-02,  1.42019868e-01, -1.65366137e+00,\n",
       "         1.36799216e+00,  2.51062457e-02, -3.95482242e-01,  1.28438759e+00,\n",
       "         5.61277032e-01,  2.39725500e-01,  4.79899108e-01,  6.17529526e-02,\n",
       "        -1.07051229e+00, -1.27321005e+00,  9.20076132e-01,  1.05491853e+00,\n",
       "         5.40288031e-01,  3.09063524e-01,  9.70861197e-01,  1.15472412e+00,\n",
       "         4.22608823e-01,  9.99208927e-01,  8.83520246e-01, -5.30199170e-01,\n",
       "         8.14134836e-01, -1.01988423e+00, -2.25823689e+00,  6.79954886e-01],\n",
       "       dtype=float32),\n",
       " array([0, 1, 2, 3, 4, 0, 1, 2, 3, 4, 0, 1, 2, 3, 4, 0, 1, 2, 3, 4, 0, 1,\n",
       "        2, 3, 4, 0, 1, 2, 3, 4, 0, 1, 2, 3, 4, 0, 1, 2, 3, 4, 0, 1, 2, 3,\n",
       "        4, 0, 1, 2, 3, 4, 0, 1, 2, 3, 4, 0, 1, 2, 3, 4, 0, 1, 2, 3, 4, 0,\n",
       "        1, 2, 3, 4, 0, 1, 2, 3, 4, 0, 1, 2, 3, 4], dtype=uint32),\n",
       " array([5, 5, 5, 5, 5, 5, 5, 5, 5, 5, 5, 5, 5, 5, 5, 5], dtype=uint32),\n",
       " 5)"
      ]
     },
     "execution_count": 15,
     "metadata": {},
     "output_type": "execute_result"
    }
   ],
   "source": [
    "wdata, wcols, wnnz, ellww = to_data(w_init)\n",
    "wdata, wcols, wnnz, ellww"
   ]
  },
  {
   "cell_type": "code",
   "execution_count": 16,
   "id": "cb96ed78",
   "metadata": {},
   "outputs": [
    {
     "data": {
      "text/plain": [
       "(array([-6.56452596e-01, -9.23061609e-01, -1.21083879e+00, -5.76822497e-02,\n",
       "         1.69363797e+00,  1.65970361e+00, -1.80884051e+00,  1.09529994e-01,\n",
       "        -4.65818375e-01,  1.20862365e+00,  5.37045121e-01, -1.65366137e+00,\n",
       "         5.61277032e-01, -1.27321005e+00,  9.70861197e-01, -5.30199170e-01,\n",
       "        -5.62572964e-02,  1.91725028e+00, -5.03405392e-01, -6.56186581e-01,\n",
       "        -1.69733524e+00, -4.93746817e-01,  3.39751154e-01, -8.55162859e-01,\n",
       "        -2.77439266e-01,  5.02520800e-01, -7.97706190e-03,  1.36799216e+00,\n",
       "         2.39725500e-01,  9.20076132e-01,  1.15472412e+00,  8.14134836e-01,\n",
       "        -4.99902606e-01, -1.50302842e-01, -7.01915681e-01, -6.61706686e-01,\n",
       "        -2.79337025e+00, -3.76097679e-01, -2.27297600e-02,  2.21606664e-04,\n",
       "         3.54995355e-02, -1.58382213e+00,  9.24784184e-01,  2.51062457e-02,\n",
       "         4.79899108e-01,  1.05491853e+00,  4.22608823e-01, -1.01988423e+00,\n",
       "         4.36419368e-01, -6.38729751e-01, -1.97427106e+00,  7.69348443e-01,\n",
       "        -2.26150647e-01, -1.69739768e-01, -9.59997058e-01,  6.63855076e-01,\n",
       "         8.48221183e-01,  1.02303350e+00,  4.66083325e-02, -3.95482242e-01,\n",
       "         6.17529526e-02,  5.40288031e-01,  9.99208927e-01, -2.25823689e+00,\n",
       "        -3.75813037e-01,  8.24770331e-01, -2.65573215e+00, -8.99004877e-01,\n",
       "         3.97428840e-01,  2.41710639e+00, -3.83114427e-01,  7.49480963e-01,\n",
       "         1.62998557e-01, -6.53017402e-01,  1.42019868e-01,  1.28438759e+00,\n",
       "        -1.07051229e+00,  3.09063524e-01,  8.83520246e-01,  6.79954886e-01],\n",
       "       dtype=float32),\n",
       " array([ 0,  1,  2,  3,  4,  5,  6,  7,  8,  9, 10, 11, 12, 13, 14, 15,  0,\n",
       "         1,  2,  3,  4,  5,  6,  7,  8,  9, 10, 11, 12, 13, 14, 15,  0,  1,\n",
       "         2,  3,  4,  5,  6,  7,  8,  9, 10, 11, 12, 13, 14, 15,  0,  1,  2,\n",
       "         3,  4,  5,  6,  7,  8,  9, 10, 11, 12, 13, 14, 15,  0,  1,  2,  3,\n",
       "         4,  5,  6,  7,  8,  9, 10, 11, 12, 13, 14, 15], dtype=uint32),\n",
       " array([16, 16, 16, 16, 16], dtype=uint32),\n",
       " 16)"
      ]
     },
     "execution_count": 16,
     "metadata": {},
     "output_type": "execute_result"
    }
   ],
   "source": [
    "wdatat, wcolst, wnnzt, ellwwt = to_data(w_init.T)\n",
    "wdatat, wcolst, wnnzt, ellwwt"
   ]
  },
  {
   "cell_type": "code",
   "execution_count": 17,
   "id": "5c9c6134",
   "metadata": {},
   "outputs": [
    {
     "data": {
      "text/plain": [
       "(array([0.68347037, 0.8035886 , 0.08023349, 0.8858316 , 0.17861794,\n",
       "        0.46201044, 0.        , 0.        , 0.        , 0.9562663 ,\n",
       "        0.5531271 , 0.5375557 , 0.20370705, 0.35530138, 0.9186601 ,\n",
       "        0.        , 0.        , 0.        , 0.20103766, 0.74341315,\n",
       "        0.5787496 , 0.05387774, 0.5917517 , 0.17797045, 0.        ,\n",
       "        0.        , 0.        , 0.14296253, 0.9103574 , 0.03242496,\n",
       "        0.71459514, 0.7448136 , 0.66635793, 0.        , 0.        ,\n",
       "        0.        , 0.59893256, 0.9217044 , 0.16333483, 0.17167741,\n",
       "        0.7605819 , 0.48675168, 0.        , 0.        , 0.        ,\n",
       "        0.11415514, 0.82574075, 0.27978534, 0.25018668, 0.83127654,\n",
       "        0.09929471, 0.        , 0.        , 0.        , 0.28872353,\n",
       "        0.04889954, 0.6493426 , 0.33329687, 0.84441024, 0.01120785,\n",
       "        0.        , 0.        , 0.        , 0.67626965, 0.35563806,\n",
       "        0.69630474, 0.6753613 , 0.12287189, 0.09184685, 0.        ,\n",
       "        0.        , 0.        ], dtype=float32),\n",
       " array([ 1,  2,  7,  8, 10, 12,  0,  0,  0,  0,  1,  4, 11, 12, 15,  0,  0,\n",
       "         0,  1,  5,  9, 11, 13, 14,  0,  0,  0,  3,  4,  5,  7, 12, 15,  0,\n",
       "         0,  0,  3,  7,  9, 11, 14, 15,  0,  0,  0,  0,  1,  5,  7, 10, 11,\n",
       "         0,  0,  0,  0,  1,  3,  5, 12, 13,  0,  0,  0,  0,  3,  6,  8, 11,\n",
       "        15,  0,  0,  0], dtype=uint32),\n",
       " array([6, 6, 6, 6, 6, 6, 6, 6], dtype=uint32),\n",
       " 9)"
      ]
     },
     "execution_count": 17,
     "metadata": {},
     "output_type": "execute_result"
    }
   ],
   "source": [
    "adata, acols, annz, ellwa = to_data(a)\n",
    "adata, acols, annz, ellwa"
   ]
  },
  {
   "cell_type": "code",
   "execution_count": 18,
   "id": "333f732b",
   "metadata": {},
   "outputs": [
    {
     "data": {
      "text/plain": [
       "(array([0.9562663 , 0.11415514, 0.28872353, 0.67626965, 0.        ,\n",
       "        0.        , 0.        , 0.        , 0.68347037, 0.5531271 ,\n",
       "        0.20103766, 0.82574075, 0.04889954, 0.        , 0.        ,\n",
       "        0.        , 0.8035886 , 0.        , 0.        , 0.        ,\n",
       "        0.        , 0.        , 0.        , 0.        , 0.14296253,\n",
       "        0.59893256, 0.6493426 , 0.35563806, 0.        , 0.        ,\n",
       "        0.        , 0.        , 0.5375557 , 0.9103574 , 0.        ,\n",
       "        0.        , 0.        , 0.        , 0.        , 0.        ,\n",
       "        0.74341315, 0.03242496, 0.27978534, 0.33329687, 0.        ,\n",
       "        0.        , 0.        , 0.        , 0.69630474, 0.        ,\n",
       "        0.        , 0.        , 0.        , 0.        , 0.        ,\n",
       "        0.        , 0.08023349, 0.71459514, 0.9217044 , 0.25018668,\n",
       "        0.        , 0.        , 0.        , 0.        , 0.8858316 ,\n",
       "        0.6753613 , 0.        , 0.        , 0.        , 0.        ,\n",
       "        0.        , 0.        , 0.5787496 , 0.16333483, 0.        ,\n",
       "        0.        , 0.        , 0.        , 0.        , 0.        ,\n",
       "        0.17861794, 0.83127654, 0.        , 0.        , 0.        ,\n",
       "        0.        , 0.        , 0.        , 0.20370705, 0.05387774,\n",
       "        0.17167741, 0.09929471, 0.12287189, 0.        , 0.        ,\n",
       "        0.        , 0.46201044, 0.35530138, 0.7448136 , 0.84441024,\n",
       "        0.        , 0.        , 0.        , 0.        , 0.5917517 ,\n",
       "        0.01120785, 0.        , 0.        , 0.        , 0.        ,\n",
       "        0.        , 0.        , 0.17797045, 0.7605819 , 0.        ,\n",
       "        0.        , 0.        , 0.        , 0.        , 0.        ,\n",
       "        0.9186601 , 0.66635793, 0.48675168, 0.09184685, 0.        ,\n",
       "        0.        , 0.        , 0.        ], dtype=float32),\n",
       " array([1, 5, 6, 7, 0, 0, 0, 0, 0, 1, 2, 5, 6, 0, 0, 0, 0, 0, 0, 0, 0, 0,\n",
       "        0, 0, 3, 4, 6, 7, 0, 0, 0, 0, 1, 3, 0, 0, 0, 0, 0, 0, 2, 3, 5, 6,\n",
       "        0, 0, 0, 0, 7, 0, 0, 0, 0, 0, 0, 0, 0, 3, 4, 5, 0, 0, 0, 0, 0, 7,\n",
       "        0, 0, 0, 0, 0, 0, 2, 4, 0, 0, 0, 0, 0, 0, 0, 5, 0, 0, 0, 0, 0, 0,\n",
       "        1, 2, 4, 5, 7, 0, 0, 0, 0, 1, 3, 6, 0, 0, 0, 0, 2, 6, 0, 0, 0, 0,\n",
       "        0, 0, 2, 4, 0, 0, 0, 0, 0, 0, 1, 3, 4, 7, 0, 0, 0, 0], dtype=uint32),\n",
       " array([4, 5, 1, 4, 2, 4, 1, 4, 2, 2, 2, 5, 4, 2, 2, 4], dtype=uint32),\n",
       " 8)"
      ]
     },
     "execution_count": 18,
     "metadata": {},
     "output_type": "execute_result"
    }
   ],
   "source": [
    "adatat, acolst, annzt, ellwat = to_data(a.T)\n",
    "adatat, acolst, annzt, ellwat"
   ]
  },
  {
   "cell_type": "code",
   "execution_count": 19,
   "id": "3746b3f8",
   "metadata": {},
   "outputs": [
    {
     "data": {
      "text/plain": [
       "(array([0.49395892, 0.46451807, 0.        , 0.        , 0.65864426,\n",
       "        0.9786625 , 0.        , 0.        , 0.31044865, 0.02502257,\n",
       "        0.        , 0.        , 0.46765924, 0.03160795, 0.        ,\n",
       "        0.        , 0.71082693, 0.58997136, 0.        , 0.        ,\n",
       "        0.84622455, 0.5916316 , 0.        , 0.        , 0.46450275,\n",
       "        0.9429863 , 0.        , 0.        , 0.34248227, 0.7672639 ,\n",
       "        0.        , 0.        , 0.9855889 , 0.2535647 , 0.        ,\n",
       "        0.        , 0.7705159 , 0.31522992, 0.        , 0.        ,\n",
       "        0.7167741 , 0.8238369 , 0.        , 0.        , 0.91970533,\n",
       "        0.7873889 , 0.        , 0.        , 0.404568  , 0.841323  ,\n",
       "        0.        , 0.        , 0.674503  , 0.48820347, 0.        ,\n",
       "        0.        , 0.18725161, 0.11607183, 0.        , 0.        ,\n",
       "        0.7250254 , 0.12346577, 0.        , 0.        ], dtype=float32),\n",
       " array([0, 2, 0, 0, 0, 2, 0, 0, 0, 2, 0, 0, 1, 4, 0, 0, 0, 2, 0, 0, 2, 3,\n",
       "        0, 0, 0, 4, 0, 0, 1, 2, 0, 0, 2, 4, 0, 0, 1, 2, 0, 0, 1, 3, 0, 0,\n",
       "        1, 3, 0, 0, 3, 4, 0, 0, 2, 3, 0, 0, 0, 1, 0, 0, 0, 2, 0, 0],\n",
       "       dtype=uint32),\n",
       " array([2, 2, 2, 2, 2, 2, 2, 2, 2, 2, 2, 2, 2, 2, 2, 2], dtype=uint32),\n",
       " 4)"
      ]
     },
     "execution_count": 19,
     "metadata": {},
     "output_type": "execute_result"
    }
   ],
   "source": [
    "bdata, bcols, bnnz, ellwb = to_data(b)\n",
    "bdata, bcols, bnnz, ellwb"
   ]
  },
  {
   "cell_type": "code",
   "execution_count": 20,
   "id": "2456f0d7",
   "metadata": {},
   "outputs": [
    {
     "data": {
      "text/plain": [
       "(array([0.9562663 , 0.11415514, 0.28872353, 0.67626965, 0.        ,\n",
       "        0.        , 0.        , 0.        , 0.68347037, 0.5531271 ,\n",
       "        0.20103766, 0.82574075, 0.04889954, 0.        , 0.        ,\n",
       "        0.        , 0.8035886 , 0.        , 0.        , 0.        ,\n",
       "        0.        , 0.        , 0.        , 0.        , 0.14296253,\n",
       "        0.59893256, 0.6493426 , 0.35563806, 0.        , 0.        ,\n",
       "        0.        , 0.        , 0.5375557 , 0.9103574 , 0.        ,\n",
       "        0.        , 0.        , 0.        , 0.        , 0.        ,\n",
       "        0.74341315, 0.03242496, 0.27978534, 0.33329687, 0.        ,\n",
       "        0.        , 0.        , 0.        , 0.69630474, 0.        ,\n",
       "        0.        , 0.        , 0.        , 0.        , 0.        ,\n",
       "        0.        , 0.08023349, 0.71459514, 0.9217044 , 0.25018668,\n",
       "        0.        , 0.        , 0.        , 0.        , 0.8858316 ,\n",
       "        0.6753613 , 0.        , 0.        , 0.        , 0.        ,\n",
       "        0.        , 0.        , 0.5787496 , 0.16333483, 0.        ,\n",
       "        0.        , 0.        , 0.        , 0.        , 0.        ,\n",
       "        0.17861794, 0.83127654, 0.        , 0.        , 0.        ,\n",
       "        0.        , 0.        , 0.        , 0.20370705, 0.05387774,\n",
       "        0.17167741, 0.09929471, 0.12287189, 0.        , 0.        ,\n",
       "        0.        , 0.46201044, 0.35530138, 0.7448136 , 0.84441024,\n",
       "        0.        , 0.        , 0.        , 0.        , 0.5917517 ,\n",
       "        0.01120785, 0.        , 0.        , 0.        , 0.        ,\n",
       "        0.        , 0.        , 0.17797045, 0.7605819 , 0.        ,\n",
       "        0.        , 0.        , 0.        , 0.        , 0.        ,\n",
       "        0.9186601 , 0.66635793, 0.48675168, 0.09184685, 0.        ,\n",
       "        0.        , 0.        , 0.        ], dtype=float32),\n",
       " array([ 0,  1,  2,  4,  6, 14, 15,  0,  0,  0,  0,  0,  0,  0,  0,  0,  3,\n",
       "         7,  9, 10, 11, 14,  0,  0,  0,  0,  0,  0,  0,  0,  0,  0,  0,  1,\n",
       "         2,  4,  5,  7,  8,  9, 13, 15,  0,  0,  0,  0,  0,  0,  5, 10, 11,\n",
       "        12, 13,  0,  0,  0,  0,  0,  0,  0,  0,  0,  0,  0,  3,  6,  8, 12,\n",
       "         0,  0,  0,  0,  0,  0,  0,  0,  0,  0,  0,  0], dtype=uint32),\n",
       " array([ 7,  6, 10,  5,  4], dtype=uint32),\n",
       " 16)"
      ]
     },
     "execution_count": 20,
     "metadata": {},
     "output_type": "execute_result"
    }
   ],
   "source": [
    "bdatat, bcolst, bnnzt, ellwbt = to_data(b.T)\n",
    "adatat, bcolst, bnnzt, ellwbt"
   ]
  },
  {
   "cell_type": "code",
   "execution_count": 21,
   "id": "a21f8921",
   "metadata": {},
   "outputs": [],
   "source": [
    "adense = to_dense(adata, acols, annz, ellwa, a.shape)"
   ]
  },
  {
   "cell_type": "code",
   "execution_count": 22,
   "id": "afddd45e",
   "metadata": {},
   "outputs": [],
   "source": [
    "adenset = to_dense(adatat, acolst, annzt, ellwat, a.T.shape)"
   ]
  },
  {
   "cell_type": "code",
   "execution_count": 23,
   "id": "265ef0d4",
   "metadata": {},
   "outputs": [],
   "source": [
    "bdense = to_dense(bdata, bcols, bnnz, ellwb, b.shape)"
   ]
  },
  {
   "cell_type": "code",
   "execution_count": 24,
   "id": "409da6b5",
   "metadata": {},
   "outputs": [],
   "source": [
    "bdenset = to_dense(bdatat, bcolst, bnnzt, ellwbt, b.T.shape)"
   ]
  },
  {
   "cell_type": "code",
   "execution_count": 25,
   "id": "1c04d184",
   "metadata": {},
   "outputs": [
    {
     "data": {
      "text/plain": [
       "array([[0.        , 0.68347037, 0.80358863, 0.        , 0.        ,\n",
       "        0.        , 0.        , 0.08023349, 0.88583159, 0.        ,\n",
       "        0.17861794, 0.        , 0.46201044, 0.        , 0.        ,\n",
       "        0.        ],\n",
       "       [0.95626628, 0.55312711, 0.        , 0.        , 0.53755569,\n",
       "        0.        , 0.        , 0.        , 0.        , 0.        ,\n",
       "        0.        , 0.20370705, 0.35530138, 0.        , 0.        ,\n",
       "        0.9186601 ],\n",
       "       [0.        , 0.20103766, 0.        , 0.        , 0.        ,\n",
       "        0.74341315, 0.        , 0.        , 0.        , 0.5787496 ,\n",
       "        0.        , 0.05387774, 0.        , 0.59175169, 0.17797045,\n",
       "        0.        ],\n",
       "       [0.        , 0.        , 0.        , 0.14296253, 0.91035742,\n",
       "        0.03242496, 0.        , 0.71459514, 0.        , 0.        ,\n",
       "        0.        , 0.        , 0.74481362, 0.        , 0.        ,\n",
       "        0.66635793],\n",
       "       [0.        , 0.        , 0.        , 0.59893256, 0.        ,\n",
       "        0.        , 0.        , 0.92170441, 0.        , 0.16333483,\n",
       "        0.        , 0.17167741, 0.        , 0.        , 0.76058191,\n",
       "        0.48675168],\n",
       "       [0.11415514, 0.82574075, 0.        , 0.        , 0.        ,\n",
       "        0.27978534, 0.        , 0.25018668, 0.        , 0.        ,\n",
       "        0.83127654, 0.09929471, 0.        , 0.        , 0.        ,\n",
       "        0.        ],\n",
       "       [0.28872353, 0.04889954, 0.        , 0.6493426 , 0.        ,\n",
       "        0.33329687, 0.        , 0.        , 0.        , 0.        ,\n",
       "        0.        , 0.        , 0.84441024, 0.01120785, 0.        ,\n",
       "        0.        ],\n",
       "       [0.67626965, 0.        , 0.        , 0.35563806, 0.        ,\n",
       "        0.        , 0.69630474, 0.        , 0.67536128, 0.        ,\n",
       "        0.        , 0.12287189, 0.        , 0.        , 0.        ,\n",
       "        0.09184685]])"
      ]
     },
     "execution_count": 25,
     "metadata": {},
     "output_type": "execute_result"
    }
   ],
   "source": [
    "adense"
   ]
  },
  {
   "cell_type": "code",
   "execution_count": 26,
   "id": "cae2f665",
   "metadata": {},
   "outputs": [
    {
     "data": {
      "text/plain": [
       "array([[ True,  True,  True,  True,  True,  True,  True,  True,  True,\n",
       "         True,  True,  True,  True,  True,  True,  True],\n",
       "       [ True,  True,  True,  True,  True,  True,  True,  True,  True,\n",
       "         True,  True,  True,  True,  True,  True,  True],\n",
       "       [ True,  True,  True,  True,  True,  True,  True,  True,  True,\n",
       "         True,  True,  True,  True,  True,  True,  True],\n",
       "       [ True,  True,  True,  True,  True,  True,  True,  True,  True,\n",
       "         True,  True,  True,  True,  True,  True,  True],\n",
       "       [ True,  True,  True,  True,  True,  True,  True,  True,  True,\n",
       "         True,  True,  True,  True,  True,  True,  True],\n",
       "       [ True,  True,  True,  True,  True,  True,  True,  True,  True,\n",
       "         True,  True,  True,  True,  True,  True,  True],\n",
       "       [ True,  True,  True,  True,  True,  True,  True,  True,  True,\n",
       "         True,  True,  True,  True,  True,  True,  True],\n",
       "       [ True,  True,  True,  True,  True,  True,  True,  True,  True,\n",
       "         True,  True,  True,  True,  True,  True,  True]])"
      ]
     },
     "execution_count": 26,
     "metadata": {},
     "output_type": "execute_result"
    }
   ],
   "source": [
    "adenset.T == adense"
   ]
  },
  {
   "cell_type": "code",
   "execution_count": 27,
   "id": "9f2ada6f",
   "metadata": {},
   "outputs": [
    {
     "data": {
      "text/plain": [
       "array([[ True,  True,  True,  True,  True],\n",
       "       [ True,  True,  True,  True,  True],\n",
       "       [ True,  True,  True,  True,  True],\n",
       "       [ True,  True,  True,  True,  True],\n",
       "       [ True,  True,  True,  True,  True],\n",
       "       [ True,  True,  True,  True,  True],\n",
       "       [ True,  True,  True,  True,  True],\n",
       "       [ True,  True,  True,  True,  True],\n",
       "       [ True,  True,  True,  True,  True],\n",
       "       [ True,  True,  True,  True,  True],\n",
       "       [ True,  True,  True,  True,  True],\n",
       "       [ True,  True,  True,  True,  True],\n",
       "       [ True,  True,  True,  True,  True],\n",
       "       [ True,  True,  True,  True,  True],\n",
       "       [ True,  True,  True,  True,  True],\n",
       "       [ True,  True,  True,  True,  True]])"
      ]
     },
     "execution_count": 27,
     "metadata": {},
     "output_type": "execute_result"
    }
   ],
   "source": [
    "bdenset.T == bdense"
   ]
  },
  {
   "cell_type": "code",
   "execution_count": 28,
   "id": "570652a8",
   "metadata": {},
   "outputs": [
    {
     "data": {
      "text/plain": [
       "array([[0.        , 0.68347037, 0.8035886 , 0.        , 0.        ,\n",
       "        0.        , 0.        , 0.08023349, 0.8858316 , 0.        ,\n",
       "        0.17861794, 0.        , 0.46201044, 0.        , 0.        ,\n",
       "        0.        ],\n",
       "       [0.9562663 , 0.5531271 , 0.        , 0.        , 0.5375557 ,\n",
       "        0.        , 0.        , 0.        , 0.        , 0.        ,\n",
       "        0.        , 0.20370705, 0.35530138, 0.        , 0.        ,\n",
       "        0.9186601 ],\n",
       "       [0.        , 0.20103766, 0.        , 0.        , 0.        ,\n",
       "        0.74341315, 0.        , 0.        , 0.        , 0.5787496 ,\n",
       "        0.        , 0.05387774, 0.        , 0.5917517 , 0.17797045,\n",
       "        0.        ],\n",
       "       [0.        , 0.        , 0.        , 0.14296253, 0.9103574 ,\n",
       "        0.03242496, 0.        , 0.71459514, 0.        , 0.        ,\n",
       "        0.        , 0.        , 0.7448136 , 0.        , 0.        ,\n",
       "        0.66635793],\n",
       "       [0.        , 0.        , 0.        , 0.59893256, 0.        ,\n",
       "        0.        , 0.        , 0.9217044 , 0.        , 0.16333483,\n",
       "        0.        , 0.17167741, 0.        , 0.        , 0.7605819 ,\n",
       "        0.48675168],\n",
       "       [0.11415514, 0.82574075, 0.        , 0.        , 0.        ,\n",
       "        0.27978534, 0.        , 0.25018668, 0.        , 0.        ,\n",
       "        0.83127654, 0.09929471, 0.        , 0.        , 0.        ,\n",
       "        0.        ],\n",
       "       [0.28872353, 0.04889954, 0.        , 0.6493426 , 0.        ,\n",
       "        0.33329687, 0.        , 0.        , 0.        , 0.        ,\n",
       "        0.        , 0.        , 0.84441024, 0.01120785, 0.        ,\n",
       "        0.        ],\n",
       "       [0.67626965, 0.        , 0.        , 0.35563806, 0.        ,\n",
       "        0.        , 0.69630474, 0.        , 0.6753613 , 0.        ,\n",
       "        0.        , 0.12287189, 0.        , 0.        , 0.        ,\n",
       "        0.09184685]], dtype=float32)"
      ]
     },
     "execution_count": 28,
     "metadata": {},
     "output_type": "execute_result"
    }
   ],
   "source": [
    "a"
   ]
  },
  {
   "cell_type": "code",
   "execution_count": 29,
   "id": "b3828f92",
   "metadata": {},
   "outputs": [
    {
     "data": {
      "text/plain": [
       "array([[ True,  True,  True,  True,  True,  True,  True,  True,  True,\n",
       "         True,  True,  True,  True,  True,  True,  True],\n",
       "       [ True,  True,  True,  True,  True,  True,  True,  True,  True,\n",
       "         True,  True,  True,  True,  True,  True,  True],\n",
       "       [ True,  True,  True,  True,  True,  True,  True,  True,  True,\n",
       "         True,  True,  True,  True,  True,  True,  True],\n",
       "       [ True,  True,  True,  True,  True,  True,  True,  True,  True,\n",
       "         True,  True,  True,  True,  True,  True,  True],\n",
       "       [ True,  True,  True,  True,  True,  True,  True,  True,  True,\n",
       "         True,  True,  True,  True,  True,  True,  True],\n",
       "       [ True,  True,  True,  True,  True,  True,  True,  True,  True,\n",
       "         True,  True,  True,  True,  True,  True,  True],\n",
       "       [ True,  True,  True,  True,  True,  True,  True,  True,  True,\n",
       "         True,  True,  True,  True,  True,  True,  True],\n",
       "       [ True,  True,  True,  True,  True,  True,  True,  True,  True,\n",
       "         True,  True,  True,  True,  True,  True,  True]])"
      ]
     },
     "execution_count": 29,
     "metadata": {},
     "output_type": "execute_result"
    }
   ],
   "source": [
    "a == adense"
   ]
  },
  {
   "cell_type": "code",
   "execution_count": 30,
   "id": "d8e29e3c",
   "metadata": {},
   "outputs": [
    {
     "data": {
      "text/plain": [
       "(8, 16)"
      ]
     },
     "execution_count": 30,
     "metadata": {},
     "output_type": "execute_result"
    }
   ],
   "source": [
    "a.shape"
   ]
  },
  {
   "cell_type": "code",
   "execution_count": 31,
   "id": "233fb7fe",
   "metadata": {},
   "outputs": [
    {
     "data": {
      "text/plain": [
       "((72,), (72,), (8,), 9)"
      ]
     },
     "execution_count": 31,
     "metadata": {},
     "output_type": "execute_result"
    }
   ],
   "source": [
    "adata.shape, acols.shape, annz.shape, ellwa"
   ]
  },
  {
   "cell_type": "code",
   "execution_count": 32,
   "id": "fbb29574",
   "metadata": {},
   "outputs": [],
   "source": [
    "#acols = acols.astype(np.uint32)\n",
    "#annz = annz.astype(np.uint32)"
   ]
  },
  {
   "cell_type": "code",
   "execution_count": 33,
   "id": "008c1a26",
   "metadata": {},
   "outputs": [
    {
     "data": {
      "text/plain": [
       "(array([0.68347037, 0.8035886 , 0.08023349, 0.8858316 , 0.17861794,\n",
       "        0.46201044, 0.        , 0.        , 0.        , 0.9562663 ,\n",
       "        0.5531271 , 0.5375557 , 0.20370705, 0.35530138, 0.9186601 ,\n",
       "        0.        , 0.        , 0.        , 0.20103766, 0.74341315,\n",
       "        0.5787496 , 0.05387774, 0.5917517 , 0.17797045, 0.        ,\n",
       "        0.        , 0.        , 0.14296253, 0.9103574 , 0.03242496,\n",
       "        0.71459514, 0.7448136 , 0.66635793, 0.        , 0.        ,\n",
       "        0.        , 0.59893256, 0.9217044 , 0.16333483, 0.17167741,\n",
       "        0.7605819 , 0.48675168, 0.        , 0.        , 0.        ,\n",
       "        0.11415514, 0.82574075, 0.27978534, 0.25018668, 0.83127654,\n",
       "        0.09929471, 0.        , 0.        , 0.        , 0.28872353,\n",
       "        0.04889954, 0.6493426 , 0.33329687, 0.84441024, 0.01120785,\n",
       "        0.        , 0.        , 0.        , 0.67626965, 0.35563806,\n",
       "        0.69630474, 0.6753613 , 0.12287189, 0.09184685, 0.        ,\n",
       "        0.        , 0.        ], dtype=float32),\n",
       " array([ 1,  2,  7,  8, 10, 12,  0,  0,  0,  0,  1,  4, 11, 12, 15,  0,  0,\n",
       "         0,  1,  5,  9, 11, 13, 14,  0,  0,  0,  3,  4,  5,  7, 12, 15,  0,\n",
       "         0,  0,  3,  7,  9, 11, 14, 15,  0,  0,  0,  0,  1,  5,  7, 10, 11,\n",
       "         0,  0,  0,  0,  1,  3,  5, 12, 13,  0,  0,  0,  0,  3,  6,  8, 11,\n",
       "        15,  0,  0,  0], dtype=uint32),\n",
       " array([6, 6, 6, 6, 6, 6, 6, 6], dtype=uint32),\n",
       " array([[0.49395892, 0.        , 0.46451807, 0.        , 0.        ],\n",
       "        [0.65864426, 0.        , 0.9786625 , 0.        , 0.        ],\n",
       "        [0.31044865, 0.        , 0.02502257, 0.        , 0.        ],\n",
       "        [0.        , 0.46765924, 0.        , 0.        , 0.03160795],\n",
       "        [0.71082693, 0.        , 0.58997136, 0.        , 0.        ],\n",
       "        [0.        , 0.        , 0.84622455, 0.5916316 , 0.        ],\n",
       "        [0.46450275, 0.        , 0.        , 0.        , 0.9429863 ],\n",
       "        [0.        , 0.34248227, 0.7672639 , 0.        , 0.        ],\n",
       "        [0.        , 0.        , 0.9855889 , 0.        , 0.2535647 ],\n",
       "        [0.        , 0.7705159 , 0.31522992, 0.        , 0.        ],\n",
       "        [0.        , 0.7167741 , 0.        , 0.8238369 , 0.        ],\n",
       "        [0.        , 0.91970533, 0.        , 0.7873889 , 0.        ],\n",
       "        [0.        , 0.        , 0.        , 0.404568  , 0.841323  ],\n",
       "        [0.        , 0.        , 0.674503  , 0.48820347, 0.        ],\n",
       "        [0.18725161, 0.11607183, 0.        , 0.        , 0.        ],\n",
       "        [0.7250254 , 0.        , 0.12346577, 0.        , 0.        ]],\n",
       "       dtype=float32))"
      ]
     },
     "execution_count": 33,
     "metadata": {},
     "output_type": "execute_result"
    }
   ],
   "source": [
    "adata, acols, annz, b"
   ]
  },
  {
   "cell_type": "code",
   "execution_count": null,
   "id": "d0d0a804",
   "metadata": {},
   "outputs": [],
   "source": [
    "asdf"
   ]
  },
  {
   "cell_type": "markdown",
   "id": "510bb101",
   "metadata": {},
   "source": [
    "## Weight update kernel new2 (sparse ouput)"
   ]
  },
  {
   "cell_type": "code",
   "execution_count": 34,
   "id": "9097d4e8",
   "metadata": {},
   "outputs": [],
   "source": [
    "c=np.zeros(a.T.shape)\n",
    "at = a.T\n",
    "for row in range(at.shape[0]):\n",
    "    for col in range(at.shape[1]):\n",
    "        c[row][col] = at[row][col]"
   ]
  },
  {
   "cell_type": "code",
   "execution_count": 35,
   "id": "0033cb04",
   "metadata": {},
   "outputs": [],
   "source": [
    "a_buf = cl.Buffer(ctx, mf.READ_WRITE | mf.COPY_HOST_PTR, hostbuf=c.astype(np.float32))\n",
    "b_buf = cl.Buffer(ctx, mf.READ_WRITE | mf.COPY_HOST_PTR, hostbuf=b)\n",
    "x_sum_buf = cl.Buffer(ctx, mf.WRITE_ONLY, a.shape[0]*4)\n",
    "y_sum_buf = cl.Buffer(ctx, mf.WRITE_ONLY, b.shape[1]*4)\n",
    "x_idx_buf = cl.Buffer(ctx, mf.WRITE_ONLY, topkx*4)\n",
    "y_idx_buf = cl.Buffer(ctx, mf.WRITE_ONLY, topky*4)\n",
    "sdata_buf = cl.Buffer(ctx, mf.READ_WRITE, a.shape[0]*topkx*4)\n",
    "sidxs_buf = cl.Buffer(ctx, mf.READ_WRITE, a.shape[0]*topkx*4)\n",
    "snnzs_buf = cl.Buffer(ctx, mf.READ_WRITE, a.shape[0]*4)\n",
    "sdatat_buf = cl.Buffer(ctx, mf.READ_WRITE, b.shape[1]*topky*4)\n",
    "sidxst_buf = cl.Buffer(ctx, mf.READ_WRITE, b.shape[1]*topky*4)\n",
    "snnzst_buf = cl.Buffer(ctx, mf.READ_WRITE, b.shape[1]*4)\n",
    "\n",
    "prg = cl.Program(ctx, \"\"\"\n",
    "    // sorts x and y in ascending order and returns sorted indices\n",
    "    __kernel void genwupdate4(__global  float* x,     // INPUT MATRIX DATA\n",
    "                              __global  float* y,    // INPUT\n",
    "                              __global  float* xsum,    // INPUT\n",
    "                              __global  float* ysum,    // INPUT\n",
    "                              uint isize,\n",
    "                              uint msize,\n",
    "                              uint osize,\n",
    "                              uint topkx,\n",
    "                              uint topky,\n",
    "                              __global  uint*  xoutidx,\n",
    "                              __global  uint*  youtidx,\n",
    "                              __global  float* matData,     // OUTPUT MATRIX DATA\n",
    "                              __global  uint*  colIdx,\n",
    "                              __global  uint*  rowNnz,\n",
    "                              __global  float* matDatat,    // OUTPUT MATRIX DATA\n",
    "                              __global  uint*  colIdxt,\n",
    "                              __global  uint*  rowNnzt\n",
    "                              ) {\n",
    "      uint gid = get_global_id(0);\n",
    "\n",
    "      // get for a: sum axis0  b: sum axis1 then get topk\n",
    "      ///////////////////////////////////////////////////\n",
    "      if (gid < isize) {\n",
    "        xsum[gid] = 0;\n",
    "        for (uint i=0; i<msize; i++) {\n",
    "          float val = x[i*isize+gid];\n",
    "          //if (gid == 0) {\n",
    "          //  printf(\"\\\\nADD VALx: %.2f - %i\", val, i*msize+gid);\n",
    "          //}\n",
    "          xsum[gid] += val;\n",
    "        }\n",
    "\n",
    "        float valx = xsum[gid];\n",
    "        uint posx = 0;\n",
    "        for (uint i = 0; i < isize; i++) {\n",
    "          float tempval = fabs(xsum[i]);\n",
    "          bool larger = tempval > fabs(valx);\n",
    "          posx += (larger)?1:0;\n",
    "        }\n",
    "        if (posx < topky) {\n",
    "          youtidx[posx] = gid;\n",
    "        }\n",
    "      }\n",
    "\n",
    "      if (gid < osize) {\n",
    "        ysum[gid] = 0;\n",
    "        for (uint i=0; i<msize; i++) {\n",
    "          float val = y[i*osize+gid];\n",
    "          //if (gid == 0) {\n",
    "          //  printf(\"\\\\nADD VALx: %.2f - %i\", val, gid*osize+i);\n",
    "          //}\n",
    "          ysum[gid] += val;\n",
    "        }\n",
    "\n",
    "        float valy = ysum[gid];\n",
    "        uint posy = 0;\n",
    "        for (uint i = 0; i < osize; i++) {\n",
    "          float tempval = fabs(ysum[i]);\n",
    "          bool larger = tempval > fabs(valy);\n",
    "          posy += (larger)?1:0;\n",
    "        }\n",
    "\n",
    "        if (posy < topkx) {\n",
    "          xoutidx[posy] = gid;\n",
    "        }\n",
    "      }\n",
    "\n",
    "      if (gid < topkx) {\n",
    "        float valx = xoutidx[gid];\n",
    "        uint posx = 0;\n",
    "        for (uint i = 0; i < topkx; i++) {\n",
    "          float tempval = xoutidx[i];\n",
    "          bool larger = tempval < valx;\n",
    "          posx += (larger)?1:0;\n",
    "        }\n",
    "        xoutidx[posx] = valx;\n",
    "      }\n",
    "\n",
    "      if (gid < topky) {\n",
    "        float valy = youtidx[gid];\n",
    "        uint posy = 0;\n",
    "        for (uint i = 0; i < topky; i++) {\n",
    "          float tempval = youtidx[i];\n",
    "          bool larger = tempval < valy;\n",
    "          posy += (larger)?1:0;\n",
    "        }\n",
    "        youtidx[posy] = valy;\n",
    "      }\n",
    "\n",
    "      // only calc matrix multiplications for used grads\n",
    "      ///////////////////////////////////////////////////\n",
    "      if (gid < isize) {\n",
    "        for (uint i=0; i<topkx; i++) {\n",
    "          matData[gid*topkx+i] = 0;\n",
    "          colIdx[gid*topkx+i] = 0;\n",
    "        }\n",
    "        rowNnz[gid] = 0;\n",
    "      }\n",
    "      if (gid < osize) {\n",
    "        for (uint i=0; i<topky; i++) {\n",
    "          matDatat[gid*topky+i] = 0;\n",
    "          colIdxt[gid*topky+i] = 0;\n",
    "        }\n",
    "        rowNnzt[gid] = 0;\n",
    "      }\n",
    "      \n",
    "      if (gid < topky) {\n",
    "        uint idxx = youtidx[gid];\n",
    "        for (uint j=0; j<topkx; j++) {\n",
    "          uint idxy = xoutidx[j];\n",
    "          printf(\"\\\\nIDXX:%i  IDXY:%i\", idxx, idxy);\n",
    "          for (uint k=0; k<msize; k++) {\n",
    "            uint xidx2 = isize*k+idxx;\n",
    "            uint yidx2 = osize*k+idxy;\n",
    "            uint colidx = idxy;\n",
    "            matData[idxx*topkx+j] += x[xidx2] * y[yidx2];\n",
    "            colIdx[idxx*topkx+j] = idxy;\n",
    "            //if (gid == 0)\n",
    "            //  printf(\"\\\\n ADD VAL:%.2f,%.2f - (%i,%i) - (%i,%i,%i)\", x[xidx2], y[yidx2], idxx, idxy, gid, j, k);\n",
    "          }\n",
    "          rowNnz[idxx] += 1;\n",
    "        }\n",
    "      }\n",
    "\n",
    "\n",
    "      if (gid < topkx) {\n",
    "        uint idxx = xoutidx[gid];\n",
    "        for (uint j=0; j<topky; j++) {\n",
    "          uint idxy = youtidx[j];\n",
    "          //printf(\"\\\\nIDXX:%i  IDXY:%i\", idxx, idxy);\n",
    "          for (uint k=0; k<msize; k++) {\n",
    "            uint xidx2 = isize*k+idxy;\n",
    "            uint yidx2 = osize*k+idxx;\n",
    "            uint colidx = idxy;\n",
    "            matDatat[idxx*topky+j] += x[xidx2] * y[yidx2];\n",
    "            colIdxt[idxx*topky+j] = idxy;\n",
    "            //if (gid == 0)\n",
    "            //  printf(\"\\\\n ADD VAL:%.2f,%.2f - (%i,%i) - (%i,%i,%i)\", x[xidx2], y[yidx2], idxx, idxy, gid, j, k);\n",
    "          }\n",
    "          rowNnzt[idxx] += 1;\n",
    "        }\n",
    "      }\n",
    "      \n",
    "    }\"\"\").build()"
   ]
  },
  {
   "cell_type": "code",
   "execution_count": 36,
   "id": "2161871c",
   "metadata": {},
   "outputs": [
    {
     "data": {
      "text/plain": [
       "((8, 16), (16, 5))"
      ]
     },
     "execution_count": 36,
     "metadata": {},
     "output_type": "execute_result"
    }
   ],
   "source": [
    "a.shape, b.shape"
   ]
  },
  {
   "cell_type": "code",
   "execution_count": 37,
   "id": "05f25e30",
   "metadata": {},
   "outputs": [],
   "source": [
    "rows = a.shape[0]\n",
    "msize = a.shape[1]"
   ]
  },
  {
   "cell_type": "code",
   "execution_count": 38,
   "id": "9f83f34b",
   "metadata": {},
   "outputs": [],
   "source": [
    "cols = b.shape[1]"
   ]
  },
  {
   "cell_type": "code",
   "execution_count": 39,
   "id": "95394deb",
   "metadata": {},
   "outputs": [],
   "source": [
    "mult = a.dot(b)"
   ]
  },
  {
   "cell_type": "code",
   "execution_count": 40,
   "id": "8fc22dde",
   "metadata": {},
   "outputs": [],
   "source": [
    "mult = mult.astype(np.float32)"
   ]
  },
  {
   "cell_type": "code",
   "execution_count": 41,
   "id": "b290cb1a",
   "metadata": {},
   "outputs": [
    {
     "name": "stdout",
     "output_type": "stream",
     "text": [
      "\n",
      "IDXX:0  IDXY:0\n",
      "IDXX:1  IDXY:0\n",
      "IDXX:3  IDXY:0\n",
      "IDXX:4  IDXY:0\n",
      "IDXX:7  IDXY:0\n",
      "IDXX:0  IDXY:0\n",
      "IDXX:1  IDXY:0\n",
      "IDXX:3  IDXY:0\n",
      "IDXX:4  IDXY:0\n",
      "IDXX:7  IDXY:0\n",
      "IDXX:0  IDXY:1\n",
      "IDXX:1  IDXY:1\n",
      "IDXX:3  IDXY:1\n",
      "IDXX:4  IDXY:1\n",
      "IDXX:7  IDXY:1\n",
      "IDXX:0  IDXY:3\n",
      "IDXX:1  IDXY:3\n",
      "IDXX:3  IDXY:3\n",
      "IDXX:4  IDXY:3\n",
      "IDXX:7  IDXY:3\n",
      "IDXX:0  IDXY:4\n",
      "IDXX:1  IDXY:4\n",
      "IDXX:3  IDXY:4\n",
      "IDXX:4  IDXY:4\n",
      "IDXX:7  IDXY:4\n",
      "IDXX:0  IDXY:0\n",
      "IDXX:1  IDXY:0\n",
      "IDXX:3  IDXY:0\n",
      "IDXX:4  IDXY:0\n",
      "IDXX:7  IDXY:0\n",
      "IDXX:0  IDXY:0\n",
      "IDXX:1  IDXY:0\n",
      "IDXX:3  IDXY:0\n",
      "IDXX:4  IDXY:0\n",
      "IDXX:7  IDXY:0\n",
      "IDXX:0  IDXY:0\n",
      "IDXX:1  IDXY:0\n",
      "IDXX:3  IDXY:0\n",
      "IDXX:4  IDXY:0\n",
      "IDXX:7  IDXY:0\n",
      "IDXX:0  IDXY:0\n",
      "IDXX:1  IDXY:0\n",
      "IDXX:3  IDXY:0\n",
      "IDXX:4  IDXY:0\n",
      "IDXX:7  IDXY:0\n",
      "IDXX:0  IDXY:0\n",
      "IDXX:1  IDXY:0\n",
      "IDXX:3  IDXY:0\n",
      "IDXX:4  IDXY:0\n",
      "IDXX:7  IDXY:0\n",
      "IDXX:0  IDXY:0\n",
      "IDXX:1  IDXY:0\n",
      "IDXX:3  IDXY:0\n",
      "IDXX:4  IDXY:0\n",
      "IDXX:7  IDXY:0\n",
      "IDXX:0  IDXY:0\n",
      "IDXX:1  IDXY:0\n",
      "IDXX:3  IDXY:0\n",
      "IDXX:4  IDXY:0\n",
      "IDXX:7  IDXY:0\n",
      "IDXX:0  IDXY:1\n",
      "IDXX:1  IDXY:1\n",
      "IDXX:3  IDXY:1\n",
      "IDXX:4  IDXY:1\n",
      "IDXX:7  IDXY:1\n",
      "IDXX:0  IDXY:2\n",
      "IDXX:1  IDXY:2\n",
      "IDXX:3  IDXY:2\n",
      "IDXX:4  IDXY:2\n",
      "IDXX:7  IDXY:2\n",
      "IDXX:0  IDXY:3\n",
      "IDXX:1  IDXY:3\n",
      "IDXX:3  IDXY:3\n",
      "IDXX:4  IDXY:3\n",
      "IDXX:7  IDXY:3\n",
      "IDXX:0  IDXY:4\n",
      "IDXX:1  IDXY:4\n",
      "IDXX:3  IDXY:4\n",
      "IDXX:4  IDXY:4\n",
      "IDXX:7  IDXY:4"
     ]
    }
   ],
   "source": [
    "res_buf = cl.Buffer(ctx, mf.READ_WRITE, np.prod([rows,b.shape[1]])*4)\n",
    "knl = prg.genwupdate4  # Use this Kernel object for repeate/duald calls\n",
    "evt = knl(queue, [max(rows,cols)], None, a_buf, b_buf, x_sum_buf, y_sum_buf, np.uint32(rows), np.uint32(msize),np.uint32(cols), \n",
    "          np.uint32(topkx),np.uint32(topky), x_idx_buf, y_idx_buf, sdata_buf, sidxs_buf, snnzs_buf, sdatat_buf, sidxst_buf, snnzst_buf)"
   ]
  },
  {
   "cell_type": "code",
   "execution_count": 42,
   "id": "be3450f0",
   "metadata": {},
   "outputs": [
    {
     "data": {
      "text/plain": [
       "<pyopencl._cl.NannyEvent at 0x7f1848102d10>"
      ]
     },
     "execution_count": 42,
     "metadata": {},
     "output_type": "execute_result"
    }
   ],
   "source": [
    "resxsum = np.zeros(a.shape[0]).astype(np.float32)\n",
    "resysum = np.zeros(b.shape[1]).astype(np.float32)\n",
    "resxidx = np.zeros(topkx).astype(np.uint32)\n",
    "resyidx = np.zeros(topky).astype(np.uint32)\n",
    "resxdat = np.zeros(a.shape[0]*topkx).astype(np.float32)\n",
    "resxcol = np.zeros(a.shape[0]*topkx).astype(np.uint32)\n",
    "resxnnz = np.zeros(a.shape[0]).astype(np.uint32)\n",
    "resxdatt = np.zeros(b.shape[1]*topky).astype(np.float32)\n",
    "resxcolt = np.zeros(b.shape[1]*topky).astype(np.uint32)\n",
    "resxnnzt = np.zeros(b.shape[1]).astype(np.uint32)\n",
    "\n",
    "cl.enqueue_copy(queue, resxsum, x_sum_buf)\n",
    "cl.enqueue_copy(queue, resysum, y_sum_buf)\n",
    "cl.enqueue_copy(queue, resxidx, x_idx_buf)\n",
    "cl.enqueue_copy(queue, resyidx, y_idx_buf)\n",
    "cl.enqueue_copy(queue, resxdat, sdata_buf)\n",
    "cl.enqueue_copy(queue, resxcol, sidxs_buf)\n",
    "cl.enqueue_copy(queue, resxnnz, snnzs_buf)\n",
    "cl.enqueue_copy(queue, resxdatt, sdatat_buf)\n",
    "cl.enqueue_copy(queue, resxcolt, sidxst_buf)\n",
    "cl.enqueue_copy(queue, resxnnzt, snnzst_buf)"
   ]
  },
  {
   "cell_type": "markdown",
   "id": "dea93e80",
   "metadata": {},
   "source": [
    "## results"
   ]
  },
  {
   "cell_type": "code",
   "execution_count": 43,
   "id": "9766b1de",
   "metadata": {},
   "outputs": [
    {
     "data": {
      "text/plain": [
       "(16, 5)"
      ]
     },
     "execution_count": 43,
     "metadata": {},
     "output_type": "execute_result"
    }
   ],
   "source": [
    "topkx, topky"
   ]
  },
  {
   "cell_type": "code",
   "execution_count": 44,
   "id": "0720afd1",
   "metadata": {},
   "outputs": [
    {
     "data": {
      "text/plain": [
       "(8, 5)"
      ]
     },
     "execution_count": 44,
     "metadata": {},
     "output_type": "execute_result"
    }
   ],
   "source": [
    "mult.shape"
   ]
  },
  {
   "cell_type": "code",
   "execution_count": 45,
   "id": "50b4656b",
   "metadata": {},
   "outputs": [
    {
     "data": {
      "text/plain": [
       "array([[0.6996368 , 0.15550727, 1.6236207 , 0.3340667 , 0.61331564],\n",
       "       [1.8848312 , 0.18735047, 1.4160932 , 0.30414024, 0.29892322],\n",
       "       [0.16573755, 0.51614475, 1.40742   , 0.7711447 , 0.        ],\n",
       "       [1.130233  , 0.31159392, 1.1950791 , 0.32051137, 0.6311476 ],\n",
       "       [0.49532753, 0.9677906 , 0.8187757 , 0.1351769 , 0.01893103],\n",
       "       [0.60025734, 0.7728439 , 1.2898692 , 0.9285497 , 0.        ],\n",
       "       [0.17482497, 0.30367106, 0.47157714, 0.544282  , 0.7309462 ],\n",
       "       [0.7240762 , 0.27932334, 0.99110806, 0.09674796, 0.8390946 ]],\n",
       "      dtype=float32)"
      ]
     },
     "execution_count": 45,
     "metadata": {},
     "output_type": "execute_result"
    }
   ],
   "source": [
    "mult"
   ]
  },
  {
   "cell_type": "code",
   "execution_count": 46,
   "id": "7fb50f87",
   "metadata": {},
   "outputs": [
    {
     "data": {
      "text/plain": [
       "array([[0.6996368 , 1.8848312 , 1.130233  , 0.49532753, 0.7240762 ],\n",
       "       [0.15550727, 0.18735047, 0.31159392, 0.9677906 , 0.27932334],\n",
       "       [0.        , 0.        , 0.        , 0.        , 0.        ],\n",
       "       [0.3340667 , 0.30414024, 0.32051137, 0.1351769 , 0.09674796],\n",
       "       [0.61331564, 0.29892322, 0.6311476 , 0.01893103, 0.8390946 ]],\n",
       "      dtype=float32)"
      ]
     },
     "execution_count": 46,
     "metadata": {},
     "output_type": "execute_result"
    }
   ],
   "source": [
    "resxdatt.reshape(b.shape[1],topky)"
   ]
  },
  {
   "cell_type": "code",
   "execution_count": 47,
   "id": "e7f50303",
   "metadata": {},
   "outputs": [
    {
     "data": {
      "text/plain": [
       "array([[0, 0, 1, 3, 4, 0, 0, 0, 0, 0, 0, 0, 1, 2, 3, 4],\n",
       "       [0, 0, 1, 3, 4, 0, 0, 0, 0, 0, 0, 0, 1, 2, 3, 4],\n",
       "       [0, 0, 0, 0, 0, 0, 0, 0, 0, 0, 0, 0, 0, 0, 0, 0],\n",
       "       [0, 0, 1, 3, 4, 0, 0, 0, 0, 0, 0, 0, 1, 2, 3, 4],\n",
       "       [0, 0, 1, 3, 4, 0, 0, 0, 0, 0, 0, 0, 1, 2, 3, 4],\n",
       "       [0, 0, 0, 0, 0, 0, 0, 0, 0, 0, 0, 0, 0, 0, 0, 0],\n",
       "       [0, 0, 0, 0, 0, 0, 0, 0, 0, 0, 0, 0, 0, 0, 0, 0],\n",
       "       [0, 0, 1, 3, 4, 0, 0, 0, 0, 0, 0, 0, 1, 2, 3, 4]], dtype=uint32)"
      ]
     },
     "execution_count": 47,
     "metadata": {},
     "output_type": "execute_result"
    }
   ],
   "source": [
    "resxcol.reshape(a.shape[0],-1)"
   ]
  },
  {
   "cell_type": "code",
   "execution_count": 48,
   "id": "49cf3593",
   "metadata": {},
   "outputs": [
    {
     "data": {
      "text/plain": [
       "array([16, 16,  0, 16, 16,  0,  0, 16], dtype=uint32)"
      ]
     },
     "execution_count": 48,
     "metadata": {},
     "output_type": "execute_result"
    }
   ],
   "source": [
    "resxnnz"
   ]
  },
  {
   "cell_type": "code",
   "execution_count": 49,
   "id": "8ceb2165",
   "metadata": {},
   "outputs": [
    {
     "data": {
      "text/plain": [
       "array([5, 5, 0, 5, 5], dtype=uint32)"
      ]
     },
     "execution_count": 49,
     "metadata": {},
     "output_type": "execute_result"
    }
   ],
   "source": [
    "resxnnzt.reshape(b.shape[1])"
   ]
  },
  {
   "cell_type": "code",
   "execution_count": 50,
   "id": "504b6134",
   "metadata": {},
   "outputs": [
    {
     "data": {
      "text/plain": [
       "array([[0.69963682, 0.15550727, 1.62362075, 0.33406669, 0.61331564],\n",
       "       [1.88483119, 0.18735047, 1.41609323, 0.30414024, 0.29892322],\n",
       "       [0.        , 0.        , 0.        , 0.        , 0.        ],\n",
       "       [1.13023305, 0.31159392, 1.19507909, 0.32051137, 0.63114762],\n",
       "       [0.49532753, 0.9677906 , 0.81877571, 0.1351769 , 0.01893103],\n",
       "       [0.        , 0.        , 0.        , 0.        , 0.        ],\n",
       "       [0.        , 0.        , 0.        , 0.        , 0.        ],\n",
       "       [0.72407621, 0.27932334, 0.99110806, 0.09674796, 0.83909458]])"
      ]
     },
     "execution_count": 50,
     "metadata": {},
     "output_type": "execute_result"
    }
   ],
   "source": [
    "resdense = to_dense(resxdat, resxcol, resxnnz, topkx, mult.shape)\n",
    "resdense"
   ]
  },
  {
   "cell_type": "code",
   "execution_count": 51,
   "id": "45fe2d86",
   "metadata": {},
   "outputs": [
    {
     "data": {
      "text/plain": [
       "array([[0.69963682, 1.88483119, 0.        , 1.13023305, 0.49532753,\n",
       "        0.        , 0.        , 0.72407621],\n",
       "       [0.15550727, 0.18735047, 0.        , 0.31159392, 0.9677906 ,\n",
       "        0.        , 0.        , 0.27932334],\n",
       "       [0.        , 0.        , 0.        , 0.        , 0.        ,\n",
       "        0.        , 0.        , 0.        ],\n",
       "       [0.33406669, 0.30414024, 0.        , 0.32051137, 0.1351769 ,\n",
       "        0.        , 0.        , 0.09674796],\n",
       "       [0.61331564, 0.29892322, 0.        , 0.63114762, 0.01893103,\n",
       "        0.        , 0.        , 0.83909458]])"
      ]
     },
     "execution_count": 51,
     "metadata": {},
     "output_type": "execute_result"
    }
   ],
   "source": [
    "resdenset = to_dense(resxdatt, resxcolt, resxnnzt, topky, mult.T.shape)\n",
    "resdenset"
   ]
  },
  {
   "cell_type": "code",
   "execution_count": 52,
   "id": "9623d03b",
   "metadata": {},
   "outputs": [
    {
     "data": {
      "text/plain": [
       "array([[0.69963682, 1.88483119, 0.        , 1.13023305, 0.49532753,\n",
       "        0.        , 0.        , 0.72407621],\n",
       "       [0.15550727, 0.18735047, 0.        , 0.31159392, 0.9677906 ,\n",
       "        0.        , 0.        , 0.27932334],\n",
       "       [0.        , 0.        , 0.        , 0.        , 0.        ,\n",
       "        0.        , 0.        , 0.        ],\n",
       "       [0.33406669, 0.30414024, 0.        , 0.32051137, 0.1351769 ,\n",
       "        0.        , 0.        , 0.09674796],\n",
       "       [0.61331564, 0.29892322, 0.        , 0.63114762, 0.01893103,\n",
       "        0.        , 0.        , 0.83909458]])"
      ]
     },
     "execution_count": 52,
     "metadata": {},
     "output_type": "execute_result"
    }
   ],
   "source": [
    "resdenset = to_dense(resxdatt, resxcolt, resxnnzt, topky, mult.T.shape)\n",
    "resdenset"
   ]
  },
  {
   "cell_type": "code",
   "execution_count": 53,
   "id": "7b1e3d73",
   "metadata": {},
   "outputs": [
    {
     "data": {
      "text/plain": [
       "8.677268534898758"
      ]
     },
     "execution_count": 53,
     "metadata": {},
     "output_type": "execute_result"
    }
   ],
   "source": [
    "(mult - resdense).sum()"
   ]
  },
  {
   "cell_type": "code",
   "execution_count": 54,
   "id": "3b81b2ae",
   "metadata": {},
   "outputs": [
    {
     "data": {
      "text/plain": [
       "array([[0.        , 0.        , 0.        , 0.        , 0.        ],\n",
       "       [0.        , 0.        , 0.        , 0.        , 0.        ],\n",
       "       [0.16573755, 0.51614475, 1.40742004, 0.77114469, 0.        ],\n",
       "       [0.        , 0.        , 0.        , 0.        , 0.        ],\n",
       "       [0.        , 0.        , 0.        , 0.        , 0.        ],\n",
       "       [0.60025734, 0.7728439 , 1.28986919, 0.92854971, 0.        ],\n",
       "       [0.17482497, 0.30367106, 0.47157714, 0.54428202, 0.73094618],\n",
       "       [0.        , 0.        , 0.        , 0.        , 0.        ]])"
      ]
     },
     "execution_count": 54,
     "metadata": {},
     "output_type": "execute_result"
    }
   ],
   "source": [
    "(mult - resdense)"
   ]
  },
  {
   "cell_type": "code",
   "execution_count": 55,
   "id": "d4383ec9",
   "metadata": {},
   "outputs": [
    {
     "data": {
      "text/plain": [
       "14.721945375204086"
      ]
     },
     "execution_count": 55,
     "metadata": {},
     "output_type": "execute_result"
    }
   ],
   "source": [
    "(mult - resdenset.T).sum()"
   ]
  },
  {
   "cell_type": "markdown",
   "id": "ea6111fe",
   "metadata": {},
   "source": [
    "## comp"
   ]
  },
  {
   "cell_type": "code",
   "execution_count": 56,
   "id": "e774d6a9",
   "metadata": {},
   "outputs": [
    {
     "data": {
      "text/plain": [
       "array([3.0937524, 3.5246177, 2.3468003, 3.2115116, 3.102983 , 2.4004393,\n",
       "       2.1758807, 2.6182923], dtype=float32)"
      ]
     },
     "execution_count": 56,
     "metadata": {},
     "output_type": "execute_result"
    }
   ],
   "source": [
    "resxsum"
   ]
  },
  {
   "cell_type": "code",
   "execution_count": 57,
   "id": "0a7a1435",
   "metadata": {},
   "outputs": [
    {
     "data": {
      "text/plain": [
       "array([3.0937524, 3.5246177, 2.3468003, 3.2115116, 3.102983 , 2.4004393,\n",
       "       2.1758807, 2.6182923], dtype=float32)"
      ]
     },
     "execution_count": 57,
     "metadata": {},
     "output_type": "execute_result"
    }
   ],
   "source": [
    "a.sum(axis=1)"
   ]
  },
  {
   "cell_type": "code",
   "execution_count": 58,
   "id": "cc58a2bc",
   "metadata": {},
   "outputs": [
    {
     "data": {
      "text/plain": [
       "array([[0.69963682, 0.15550727, 0.        , 0.33406669, 0.61331564],\n",
       "       [1.88483119, 0.18735047, 0.        , 0.30414024, 0.29892322],\n",
       "       [0.        , 0.        , 0.        , 0.        , 0.        ],\n",
       "       [1.13023305, 0.31159392, 0.        , 0.32051137, 0.63114762],\n",
       "       [0.49532753, 0.9677906 , 0.        , 0.1351769 , 0.01893103],\n",
       "       [0.        , 0.        , 0.        , 0.        , 0.        ],\n",
       "       [0.        , 0.        , 0.        , 0.        , 0.        ],\n",
       "       [0.72407621, 0.27932334, 0.        , 0.09674796, 0.83909458]])"
      ]
     },
     "execution_count": 58,
     "metadata": {},
     "output_type": "execute_result"
    }
   ],
   "source": [
    "resdenset.T"
   ]
  },
  {
   "cell_type": "code",
   "execution_count": 59,
   "id": "eb6d9343",
   "metadata": {},
   "outputs": [
    {
     "data": {
      "text/plain": [
       "array([3.5506585, 3.3332088, 5.77045  , 3.095629 , 2.0694818],\n",
       "      dtype=float32)"
      ]
     },
     "execution_count": 59,
     "metadata": {},
     "output_type": "execute_result"
    }
   ],
   "source": [
    "resysum"
   ]
  },
  {
   "cell_type": "code",
   "execution_count": 60,
   "id": "43b77cf4",
   "metadata": {},
   "outputs": [
    {
     "data": {
      "text/plain": [
       "array([3.5506585, 3.3332088, 5.77045  , 3.095629 , 2.0694818],\n",
       "      dtype=float32)"
      ]
     },
     "execution_count": 60,
     "metadata": {},
     "output_type": "execute_result"
    }
   ],
   "source": [
    "b.sum(axis=0)"
   ]
  },
  {
   "cell_type": "code",
   "execution_count": 61,
   "id": "c251ffa3",
   "metadata": {},
   "outputs": [
    {
     "data": {
      "text/plain": [
       "array([[0.6996368 , 0.15550727, 1.6236207 , 0.3340667 , 0.61331564],\n",
       "       [1.8848312 , 0.18735047, 1.4160932 , 0.30414024, 0.29892322],\n",
       "       [0.16573755, 0.51614475, 1.40742   , 0.7711447 , 0.        ],\n",
       "       [1.130233  , 0.31159392, 1.1950791 , 0.32051137, 0.6311476 ],\n",
       "       [0.49532753, 0.9677906 , 0.8187757 , 0.1351769 , 0.01893103],\n",
       "       [0.60025734, 0.7728439 , 1.2898692 , 0.9285497 , 0.        ],\n",
       "       [0.17482497, 0.30367106, 0.47157714, 0.544282  , 0.7309462 ],\n",
       "       [0.7240762 , 0.27932334, 0.99110806, 0.09674796, 0.8390946 ]],\n",
       "      dtype=float32)"
      ]
     },
     "execution_count": 61,
     "metadata": {},
     "output_type": "execute_result"
    }
   ],
   "source": [
    "mult"
   ]
  },
  {
   "cell_type": "code",
   "execution_count": 62,
   "id": "1205fd6e",
   "metadata": {},
   "outputs": [
    {
     "data": {
      "text/plain": [
       "array([[0.        , 0.        , 0.16573755, 0.        , 0.        ,\n",
       "        0.60025734, 0.17482497, 0.        ],\n",
       "       [0.        , 0.        , 0.51614475, 0.        , 0.        ,\n",
       "        0.7728439 , 0.30367106, 0.        ],\n",
       "       [1.62362075, 1.41609323, 1.40742004, 1.19507909, 0.81877571,\n",
       "        1.28986919, 0.47157714, 0.99110806],\n",
       "       [0.        , 0.        , 0.77114469, 0.        , 0.        ,\n",
       "        0.92854971, 0.54428202, 0.        ],\n",
       "       [0.        , 0.        , 0.        , 0.        , 0.        ,\n",
       "        0.        , 0.73094618, 0.        ]])"
      ]
     },
     "execution_count": 62,
     "metadata": {},
     "output_type": "execute_result"
    }
   ],
   "source": [
    "mult.T - resdenset"
   ]
  },
  {
   "cell_type": "code",
   "execution_count": 63,
   "id": "fd0e6415",
   "metadata": {},
   "outputs": [
    {
     "data": {
      "text/plain": [
       "array([0, 0, 1, 3, 4, 0, 0, 0, 0, 0, 0, 0, 1, 2, 3, 4], dtype=uint32)"
      ]
     },
     "execution_count": 63,
     "metadata": {},
     "output_type": "execute_result"
    }
   ],
   "source": [
    "resxidx"
   ]
  },
  {
   "cell_type": "code",
   "execution_count": 64,
   "id": "9ebf61ae",
   "metadata": {},
   "outputs": [
    {
     "data": {
      "text/plain": [
       "array([0, 1, 3, 4, 7], dtype=uint32)"
      ]
     },
     "execution_count": 64,
     "metadata": {},
     "output_type": "execute_result"
    }
   ],
   "source": [
    "resyidx"
   ]
  },
  {
   "cell_type": "code",
   "execution_count": null,
   "id": "d8e88c85",
   "metadata": {},
   "outputs": [],
   "source": [
    "asdf"
   ]
  },
  {
   "cell_type": "markdown",
   "id": "e2863a8c",
   "metadata": {},
   "source": [
    "## Prune Weights"
   ]
  },
  {
   "cell_type": "code",
   "execution_count": 65,
   "id": "cc23a54a",
   "metadata": {},
   "outputs": [],
   "source": [
    "adata_buf = cl.Buffer(ctx, mf.READ_WRITE | mf.COPY_HOST_PTR, hostbuf=adata)\n",
    "acols_buf = cl.Buffer(ctx, mf.READ_WRITE | mf.COPY_HOST_PTR, hostbuf=acols)\n",
    "annzs_buf = cl.Buffer(ctx, mf.READ_WRITE | mf.COPY_HOST_PTR, hostbuf=annz)\n",
    "adatat_buf = cl.Buffer(ctx, mf.READ_WRITE | mf.COPY_HOST_PTR, hostbuf=adatat)\n",
    "acolst_buf = cl.Buffer(ctx, mf.READ_WRITE | mf.COPY_HOST_PTR, hostbuf=acolst)\n",
    "annzst_buf = cl.Buffer(ctx, mf.READ_WRITE | mf.COPY_HOST_PTR, hostbuf=annzt)\n",
    "\n",
    "prg = cl.Program(ctx, \"\"\"\n",
    "    // prunes weights smaller than a constant C\n",
    "    __kernel void prune(__global  float* matData,     // INPUT MATRIX DATA\n",
    "                        __global  uint*  colIdx,\n",
    "                        __global  uint*  rowNnz,\n",
    "                        uint ellw,\n",
    "                        float pruneval) { \n",
    "      uint gid = get_global_id(0);\n",
    "      \n",
    "      uint nnzs = rowNnz[gid];\n",
    "      for (uint i=0; i<nnzs; i++) {\n",
    "        uint idx = ellw * gid + i;\n",
    "        float val = matData[idx];\n",
    "        printf(\"\\\\nDATA:%.2f - %.2f\", matData[idx], pruneval);\n",
    "        if(fabs(val)<pruneval) {\n",
    "          //printf(\"\\\\nPRUNE(%i): %.2f\", gid, matData[idx]);\n",
    "          for (uint j=i; j<=nnzs-1; j++) {\n",
    "            uint idx2 = ellw * gid + j;\n",
    "            matData[idx2] = matData[idx2+1];\n",
    "            colIdx[idx2] = colIdx[idx2+1];\n",
    "          }\n",
    "          matData[ellw*gid+nnzs] = 0;\n",
    "          colIdx[ellw*gid+nnzs] = 0;\n",
    "          rowNnz[gid] -= 1;\n",
    "          nnzs = rowNnz[gid];\n",
    "        }\n",
    "      }\n",
    "    }\"\"\").build()"
   ]
  },
  {
   "cell_type": "code",
   "execution_count": 66,
   "id": "8d60d6ef",
   "metadata": {},
   "outputs": [
    {
     "data": {
      "text/plain": [
       "(8, 16)"
      ]
     },
     "execution_count": 66,
     "metadata": {},
     "output_type": "execute_result"
    }
   ],
   "source": [
    "a.shape"
   ]
  },
  {
   "cell_type": "code",
   "execution_count": 67,
   "id": "ede27450",
   "metadata": {},
   "outputs": [],
   "source": [
    "rows = a.shape[0]\n",
    "cols = a.shape[1]\n",
    "\n",
    "pruneval = .35"
   ]
  },
  {
   "cell_type": "code",
   "execution_count": 68,
   "id": "6e259da1",
   "metadata": {},
   "outputs": [
    {
     "name": "stdout",
     "output_type": "stream",
     "text": [
      "\n",
      "DATA:0.68 - 0.35\n",
      "DATA:0.96 - 0.35\n",
      "DATA:0.20 - 0.35\n",
      "DATA:0.14 - 0.35\n",
      "DATA:0.60 - 0.35\n",
      "DATA:0.11 - 0.35\n",
      "DATA:0.29 - 0.35\n",
      "DATA:0.68 - 0.35\n",
      "DATA:0.80 - 0.35\n",
      "DATA:0.55 - 0.35\n",
      "DATA:0.58 - 0.35\n",
      "DATA:0.03 - 0.35\n",
      "DATA:0.92 - 0.35\n",
      "DATA:0.28 - 0.35\n",
      "DATA:0.65 - 0.35\n",
      "DATA:0.36 - 0.35\n",
      "DATA:0.08 - 0.35\n",
      "DATA:0.54 - 0.35\n",
      "DATA:0.05 - 0.35\n",
      "DATA:0.74 - 0.35\n",
      "DATA:0.16 - 0.35\n",
      "DATA:0.83 - 0.35\n",
      "DATA:0.33 - 0.35\n",
      "DATA:0.70 - 0.35\n",
      "DATA:0.18 - 0.35\n",
      "DATA:0.20 - 0.35\n",
      "DATA:0.18 - 0.35\n",
      "DATA:0.67 - 0.35\n",
      "DATA:0.76 - 0.35\n",
      "DATA:0.10 - 0.35\n",
      "DATA:0.01 - 0.35\n",
      "DATA:0.68 - 0.35\n",
      "DATA:0.92 - 0.35\n",
      "DATA:0.49 - 0.35\n",
      "DATA:0.12 - 0.35"
     ]
    }
   ],
   "source": [
    "knl = prg.prune  # Use this Kernel object for repeated calls\n",
    "evt = knl(queue, [rows,], None, adata_buf, acols_buf, annzs_buf, np.uint32(ellwa), np.float32(pruneval))"
   ]
  },
  {
   "cell_type": "code",
   "execution_count": 69,
   "id": "5dc3c096",
   "metadata": {},
   "outputs": [
    {
     "data": {
      "text/plain": [
       "<pyopencl._cl.NannyEvent at 0x7f18480f54a0>"
      ]
     },
     "execution_count": 69,
     "metadata": {},
     "output_type": "execute_result"
    }
   ],
   "source": [
    "resxdat = np.zeros(adata.shape).astype(np.float32)\n",
    "resxcol = np.zeros(acols.shape).astype(np.uint32)\n",
    "resxnnz = np.zeros(annz.shape).astype(np.uint32)\n",
    "\n",
    "cl.enqueue_copy(queue, resxdat, adata_buf)\n",
    "cl.enqueue_copy(queue, resxcol, acols_buf)\n",
    "cl.enqueue_copy(queue, resxnnz, annzs_buf)"
   ]
  },
  {
   "cell_type": "code",
   "execution_count": 70,
   "id": "04153941",
   "metadata": {},
   "outputs": [
    {
     "data": {
      "text/plain": [
       "array([[0.        , 0.68347037, 0.8035886 , 0.        , 0.        ,\n",
       "        0.        , 0.        , 0.08023349, 0.8858316 , 0.        ,\n",
       "        0.17861794, 0.        , 0.46201044, 0.        , 0.        ,\n",
       "        0.        ],\n",
       "       [0.9562663 , 0.5531271 , 0.        , 0.        , 0.5375557 ,\n",
       "        0.        , 0.        , 0.        , 0.        , 0.        ,\n",
       "        0.        , 0.20370705, 0.35530138, 0.        , 0.        ,\n",
       "        0.9186601 ],\n",
       "       [0.        , 0.20103766, 0.        , 0.        , 0.        ,\n",
       "        0.74341315, 0.        , 0.        , 0.        , 0.5787496 ,\n",
       "        0.        , 0.05387774, 0.        , 0.5917517 , 0.17797045,\n",
       "        0.        ],\n",
       "       [0.        , 0.        , 0.        , 0.14296253, 0.9103574 ,\n",
       "        0.03242496, 0.        , 0.71459514, 0.        , 0.        ,\n",
       "        0.        , 0.        , 0.7448136 , 0.        , 0.        ,\n",
       "        0.66635793],\n",
       "       [0.        , 0.        , 0.        , 0.59893256, 0.        ,\n",
       "        0.        , 0.        , 0.9217044 , 0.        , 0.16333483,\n",
       "        0.        , 0.17167741, 0.        , 0.        , 0.7605819 ,\n",
       "        0.48675168],\n",
       "       [0.11415514, 0.82574075, 0.        , 0.        , 0.        ,\n",
       "        0.27978534, 0.        , 0.25018668, 0.        , 0.        ,\n",
       "        0.83127654, 0.09929471, 0.        , 0.        , 0.        ,\n",
       "        0.        ],\n",
       "       [0.28872353, 0.04889954, 0.        , 0.6493426 , 0.        ,\n",
       "        0.33329687, 0.        , 0.        , 0.        , 0.        ,\n",
       "        0.        , 0.        , 0.84441024, 0.01120785, 0.        ,\n",
       "        0.        ],\n",
       "       [0.67626965, 0.        , 0.        , 0.35563806, 0.        ,\n",
       "        0.        , 0.69630474, 0.        , 0.6753613 , 0.        ,\n",
       "        0.        , 0.12287189, 0.        , 0.        , 0.        ,\n",
       "        0.09184685]], dtype=float32)"
      ]
     },
     "execution_count": 70,
     "metadata": {},
     "output_type": "execute_result"
    }
   ],
   "source": [
    "a"
   ]
  },
  {
   "cell_type": "code",
   "execution_count": 71,
   "id": "5d83f2fa",
   "metadata": {},
   "outputs": [
    {
     "data": {
      "text/plain": [
       "array([[0.68347037, 0.8035886 , 0.08023349, 0.8858316 , 0.17861794,\n",
       "        0.46201044, 0.        , 0.        , 0.        , 0.9562663 ,\n",
       "        0.5531271 , 0.5375557 , 0.20370705, 0.35530138, 0.9186601 ,\n",
       "        0.        , 0.        , 0.        ],\n",
       "       [0.20103766, 0.74341315, 0.5787496 , 0.05387774, 0.5917517 ,\n",
       "        0.17797045, 0.        , 0.        , 0.        , 0.14296253,\n",
       "        0.9103574 , 0.03242496, 0.71459514, 0.7448136 , 0.66635793,\n",
       "        0.        , 0.        , 0.        ],\n",
       "       [0.59893256, 0.9217044 , 0.16333483, 0.17167741, 0.7605819 ,\n",
       "        0.48675168, 0.        , 0.        , 0.        , 0.11415514,\n",
       "        0.82574075, 0.27978534, 0.25018668, 0.83127654, 0.09929471,\n",
       "        0.        , 0.        , 0.        ],\n",
       "       [0.28872353, 0.04889954, 0.6493426 , 0.33329687, 0.84441024,\n",
       "        0.01120785, 0.        , 0.        , 0.        , 0.67626965,\n",
       "        0.35563806, 0.69630474, 0.6753613 , 0.12287189, 0.09184685,\n",
       "        0.        , 0.        , 0.        ]], dtype=float32)"
      ]
     },
     "execution_count": 71,
     "metadata": {},
     "output_type": "execute_result"
    }
   ],
   "source": [
    "adata.reshape((4,-1))"
   ]
  },
  {
   "cell_type": "code",
   "execution_count": 72,
   "id": "8adb34bc",
   "metadata": {},
   "outputs": [
    {
     "data": {
      "text/plain": [
       "array([[ 1,  2,  7,  8, 10, 12,  0,  0,  0,  0,  1,  4, 11, 12, 15,  0,\n",
       "         0,  0],\n",
       "       [ 1,  5,  9, 11, 13, 14,  0,  0,  0,  3,  4,  5,  7, 12, 15,  0,\n",
       "         0,  0],\n",
       "       [ 3,  7,  9, 11, 14, 15,  0,  0,  0,  0,  1,  5,  7, 10, 11,  0,\n",
       "         0,  0],\n",
       "       [ 0,  1,  3,  5, 12, 13,  0,  0,  0,  0,  3,  6,  8, 11, 15,  0,\n",
       "         0,  0]], dtype=uint32)"
      ]
     },
     "execution_count": 72,
     "metadata": {},
     "output_type": "execute_result"
    }
   ],
   "source": [
    "acols.reshape((4,-1))"
   ]
  },
  {
   "cell_type": "code",
   "execution_count": 73,
   "id": "ed57cbce",
   "metadata": {},
   "outputs": [
    {
     "data": {
      "text/plain": [
       "array([[0.68347037, 0.8035886 , 0.8858316 , 0.46201044, 0.        ,\n",
       "        0.        , 0.        , 0.        , 0.        , 0.9562663 ,\n",
       "        0.5531271 , 0.5375557 , 0.35530138, 0.9186601 , 0.        ,\n",
       "        0.        , 0.        , 0.        ],\n",
       "       [0.74341315, 0.5787496 , 0.5917517 , 0.        , 0.        ,\n",
       "        0.        , 0.        , 0.        , 0.        , 0.9103574 ,\n",
       "        0.71459514, 0.7448136 , 0.66635793, 0.        , 0.        ,\n",
       "        0.        , 0.        , 0.        ],\n",
       "       [0.59893256, 0.9217044 , 0.17167741, 0.7605819 , 0.48675168,\n",
       "        0.        , 0.        , 0.        , 0.        , 0.82574075,\n",
       "        0.25018668, 0.83127654, 0.        , 0.        , 0.        ,\n",
       "        0.        , 0.        , 0.        ],\n",
       "       [0.04889954, 0.6493426 , 0.84441024, 0.        , 0.        ,\n",
       "        0.        , 0.        , 0.        , 0.        , 0.67626965,\n",
       "        0.35563806, 0.69630474, 0.6753613 , 0.09184685, 0.        ,\n",
       "        0.        , 0.        , 0.        ]], dtype=float32)"
      ]
     },
     "execution_count": 73,
     "metadata": {},
     "output_type": "execute_result"
    }
   ],
   "source": [
    "resxdat.reshape((4,-1))"
   ]
  },
  {
   "cell_type": "code",
   "execution_count": 74,
   "id": "82b64ba8",
   "metadata": {},
   "outputs": [
    {
     "data": {
      "text/plain": [
       "array([[ 1,  2,  8, 12,  0,  0,  0,  0,  0,  0,  1,  4, 12, 15,  0,  0,\n",
       "         0,  0],\n",
       "       [ 5,  9, 13,  0,  0,  0,  0,  0,  0,  4,  7, 12, 15,  0,  0,  0,\n",
       "         0,  0],\n",
       "       [ 3,  7, 11, 14, 15,  0,  0,  0,  0,  1,  7, 10,  0,  0,  0,  0,\n",
       "         0,  0],\n",
       "       [ 1,  3, 12,  0,  0,  0,  0,  0,  0,  0,  3,  6,  8, 15,  0,  0,\n",
       "         0,  0]], dtype=uint32)"
      ]
     },
     "execution_count": 74,
     "metadata": {},
     "output_type": "execute_result"
    }
   ],
   "source": [
    "resxcol.reshape((4,-1))"
   ]
  },
  {
   "cell_type": "code",
   "execution_count": 75,
   "id": "69cc453d",
   "metadata": {},
   "outputs": [
    {
     "data": {
      "text/plain": [
       "array([4, 5, 3, 4, 5, 3, 3, 5], dtype=uint32)"
      ]
     },
     "execution_count": 75,
     "metadata": {},
     "output_type": "execute_result"
    }
   ],
   "source": [
    "resxnnz"
   ]
  },
  {
   "cell_type": "markdown",
   "id": "f1bd0e85",
   "metadata": {},
   "source": [
    "## results"
   ]
  },
  {
   "cell_type": "code",
   "execution_count": 76,
   "id": "4d73d135",
   "metadata": {},
   "outputs": [
    {
     "data": {
      "text/plain": [
       "array([[0.6996368 , 1.8848312 , 0.16573755, 1.130233  , 0.49532753,\n",
       "        0.60025734, 0.17482497, 0.7240762 ],\n",
       "       [0.15550727, 0.18735047, 0.51614475, 0.31159392, 0.9677906 ,\n",
       "        0.7728439 , 0.30367106, 0.27932334],\n",
       "       [1.6236207 , 1.4160932 , 1.40742   , 1.1950791 , 0.8187757 ,\n",
       "        1.2898692 , 0.47157714, 0.99110806],\n",
       "       [0.3340667 , 0.30414024, 0.7711447 , 0.32051137, 0.1351769 ,\n",
       "        0.9285497 , 0.544282  , 0.09674796],\n",
       "       [0.61331564, 0.29892322, 0.        , 0.6311476 , 0.01893103,\n",
       "        0.        , 0.7309462 , 0.8390946 ]], dtype=float32)"
      ]
     },
     "execution_count": 76,
     "metadata": {},
     "output_type": "execute_result"
    }
   ],
   "source": [
    "mult.T"
   ]
  },
  {
   "cell_type": "code",
   "execution_count": 77,
   "id": "23ff0483",
   "metadata": {},
   "outputs": [
    {
     "ename": "ValueError",
     "evalue": "cannot reshape array of size 72 into shape (8,16)",
     "output_type": "error",
     "traceback": [
      "\u001b[0;31m---------------------------------------------------------------------------\u001b[0m",
      "\u001b[0;31mValueError\u001b[0m                                Traceback (most recent call last)",
      "\u001b[0;32m/tmp/ipykernel_9852/3098413385.py\u001b[0m in \u001b[0;36m<module>\u001b[0;34m\u001b[0m\n\u001b[0;32m----> 1\u001b[0;31m \u001b[0mresxdat\u001b[0m\u001b[0;34m.\u001b[0m\u001b[0mreshape\u001b[0m\u001b[0;34m(\u001b[0m\u001b[0ma\u001b[0m\u001b[0;34m.\u001b[0m\u001b[0mshape\u001b[0m\u001b[0;34m[\u001b[0m\u001b[0;36m0\u001b[0m\u001b[0;34m]\u001b[0m\u001b[0;34m,\u001b[0m\u001b[0mtopk\u001b[0m\u001b[0;34m)\u001b[0m\u001b[0;34m\u001b[0m\u001b[0;34m\u001b[0m\u001b[0m\n\u001b[0m",
      "\u001b[0;31mValueError\u001b[0m: cannot reshape array of size 72 into shape (8,16)"
     ]
    }
   ],
   "source": [
    "resxdat.reshape(a.shape[0],topk)"
   ]
  },
  {
   "cell_type": "code",
   "execution_count": null,
   "id": "e74da606",
   "metadata": {},
   "outputs": [],
   "source": [
    "resxcol.reshape(a.shape[0],topk)"
   ]
  },
  {
   "cell_type": "code",
   "execution_count": null,
   "id": "0d163788",
   "metadata": {},
   "outputs": [],
   "source": [
    "resxnnz.reshape(a.shape[0])"
   ]
  },
  {
   "cell_type": "code",
   "execution_count": null,
   "id": "d1e81731",
   "metadata": {},
   "outputs": [],
   "source": [
    "resxdatt.reshape(b.shape[1],topk)"
   ]
  },
  {
   "cell_type": "code",
   "execution_count": null,
   "id": "eec545c9",
   "metadata": {},
   "outputs": [],
   "source": [
    "resxcolt.reshape(b.shape[1],topk)"
   ]
  },
  {
   "cell_type": "code",
   "execution_count": null,
   "id": "99c0beec",
   "metadata": {},
   "outputs": [],
   "source": [
    "resxnnzt.reshape(b.shape[1])"
   ]
  },
  {
   "cell_type": "markdown",
   "id": "a07aaaf8",
   "metadata": {},
   "source": [
    "### Update Vals (add sparse)"
   ]
  },
  {
   "cell_type": "code",
   "execution_count": null,
   "id": "4d7cd83c",
   "metadata": {},
   "outputs": [],
   "source": [
    "multdata, multcols, multnnz, multellw = to_data(mult)\n",
    "multdata_buf = cl.Buffer(ctx, mf.READ_WRITE | mf.COPY_HOST_PTR, hostbuf=multdata)\n",
    "multcols_buf = cl.Buffer(ctx, mf.READ_WRITE | mf.COPY_HOST_PTR, hostbuf=multcols)\n",
    "multnnzs_buf = cl.Buffer(ctx, mf.READ_WRITE | mf.COPY_HOST_PTR, hostbuf=multnnz)\n",
    "sdata_buf = cl.Buffer(ctx, mf.READ_WRITE, a.shape[0]*topkx*4)\n",
    "sidxs_buf = cl.Buffer(ctx, mf.READ_WRITE, a.shape[0]*topkx*4)\n",
    "snnzs_buf = cl.Buffer(ctx, mf.READ_WRITE, a.shape[0]*4)\n",
    "\n",
    "prg = cl.Program(ctx, \"\"\"\n",
    "    // Every global_id_0 works on a row\n",
    "    __kernel void adddense(__global  float* matData,     // INPUT MATRIX DATA\n",
    "                            __global  uint*  colIdx,\n",
    "                            __global  uint*  rowNnz,\n",
    "                            float  lr,\n",
    "                            uint   ellwidth,\n",
    "                            __global  float* matDataAdd,     // INPUT MATRIX DATA\n",
    "                            __global  uint*  colIdxAdd,\n",
    "                            __global  uint*  rowNnzAdd,\n",
    "                            uint ellwidthAdd\n",
    "                            ) { // LOCAL SHARED BUFFER\n",
    "      uint gid = get_global_id(0);\n",
    "      uint nrows = get_global_size(0);\n",
    "\n",
    "      uint nnz    = rowNnz[gid];\n",
    "      \n",
    "      uint baseidxs = gid*ellwidth;\n",
    "      uint baseidxd = gid*ellwidthAdd;\n",
    "      \n",
    "      uint nnzadd = rowNnzAdd[gid];\n",
    "      printf(\"\\\\nNNZs: %i   GID:%i\", nnzadd, gid);\n",
    "      \n",
    "      for (uint i=0; i<nnzadd; i++) {\n",
    "        float addval = matDataAdd[baseidxd+i];\n",
    "        uint addcol = colIdxAdd[baseidxd+i];\n",
    "        \n",
    "        uint refcol = colIdx[baseidxs+i];\n",
    "        uint m = 0;\n",
    "        while (addcol > refcol) {\n",
    "          m += 1;\n",
    "          refcol = colIdx[baseidxs+i+m];\n",
    "        }\n",
    "        \n",
    "        //printf(\"\\\\nADD VAL:%.2f  ADDCOL:%i  idxs/d:(%i/%i)  gid/i:(%i/%i)\", addval, addcol, baseidxs, baseidxd, gid,i);\n",
    "        if (addval == 0.0) {\n",
    "          //printf(\"\\\\nZERO VAL, CONT: %.2f - %i\", addval, gid);\n",
    "          continue;\n",
    "        }\n",
    "        if (addcol == refcol) {\n",
    "          matData[baseidxs+i+m] += addval;\n",
    "          printf(\"\\\\nINCREMENT: %.2f\",addval);\n",
    "        } else {\n",
    "          if (rowNnz[gid] >= ellwidth) {\n",
    "            break;\n",
    "          }\n",
    "          if (addcol > refcol) {\n",
    "            rowNnz[gid] += 1;\n",
    "            printf(\"\\\\nSET VAL0:%.2f idx:%i/%i  col:%i\", addval, baseidxs+i, baseidxd+i, colIdx[i]);\n",
    "            matData[baseidxs+i+m] = addval;\n",
    "            colIdx[baseidxs+i+m] = addcol;\n",
    "            continue;\n",
    "          }\n",
    "          for (uint j=nnz; j>i+m; j--) {\n",
    "            //printf(\"\\\\nMOVE:%.2f\", matData[baseidx+j-1]);\n",
    "            colIdx[baseidxs+j] = colIdx[baseidxs+j-1];\n",
    "            matData[baseidxs+j] = matData[baseidxs+j-1];\n",
    "          }\n",
    "          rowNnz[gid] += 1;\n",
    "          nnz = rowNnz[gid];\n",
    "          \n",
    "          printf(\"\\\\nSET VAL:%.2f idx:%i/%i  col:%i\", addval, baseidxs+i, baseidxd+i, colIdx[i]);\n",
    "          matData[baseidxs+i+m] = addval;\n",
    "          colIdx[baseidxs+i+m] = addcol;\n",
    "          if (nnz >= ellwidth)\n",
    "            break;\n",
    "        }\n",
    "      }\n",
    "    }\"\"\").build()"
   ]
  },
  {
   "cell_type": "code",
   "execution_count": null,
   "id": "35387816",
   "metadata": {},
   "outputs": [],
   "source": [
    "res = np.zeros(a.shape[0]).astype(np.float32)\n",
    "#res"
   ]
  },
  {
   "cell_type": "code",
   "execution_count": null,
   "id": "a7c249b6",
   "metadata": {},
   "outputs": [],
   "source": [
    "rows = a.shape[0]"
   ]
  },
  {
   "cell_type": "code",
   "execution_count": null,
   "id": "c0ba1018",
   "metadata": {},
   "outputs": [],
   "source": [
    "mult = mult.astype(np.float32)"
   ]
  },
  {
   "cell_type": "code",
   "execution_count": null,
   "id": "b56fd01d",
   "metadata": {},
   "outputs": [],
   "source": [
    "res_buf = cl.Buffer(ctx, mf.WRITE_ONLY, b.nbytes)\n",
    "knl = prg.adddense  # Use this Kernel object for repeated calls\n",
    "knl(queue, [rows], None, multdata_buf, multcols_buf, multnnzs_buf, np.float32(1), np.uint32(multellw), \n",
    "    sdata_buf, sidxs_buf, snnzs_buf, np.uint32(topk))"
   ]
  },
  {
   "cell_type": "code",
   "execution_count": null,
   "id": "35a50251",
   "metadata": {},
   "outputs": [],
   "source": [
    "mult"
   ]
  },
  {
   "cell_type": "code",
   "execution_count": null,
   "id": "6f9789d9",
   "metadata": {},
   "outputs": [],
   "source": [
    "data_res = np.empty_like(multdata)\n",
    "cols_res = np.empty_like(multcols)\n",
    "nnzs_res = np.empty_like(multnnz)\n",
    "cl.enqueue_copy(queue, data_res, multdata_buf, is_blocking=True)\n",
    "cl.enqueue_copy(queue, cols_res, multcols_buf, is_blocking=True)\n",
    "cl.enqueue_copy(queue, nnzs_res, multnnzs_buf, is_blocking=True)"
   ]
  },
  {
   "cell_type": "code",
   "execution_count": null,
   "id": "47150c28",
   "metadata": {},
   "outputs": [],
   "source": [
    "adenseadd = to_dense(data_res, cols_res, nnzs_res, multellw, mult.shape)\n",
    "adenseadd.T"
   ]
  },
  {
   "cell_type": "code",
   "execution_count": null,
   "id": "5cab2447",
   "metadata": {},
   "outputs": [],
   "source": [
    "mult-adenseadd"
   ]
  },
  {
   "cell_type": "markdown",
   "id": "a0a6446b",
   "metadata": {},
   "source": [
    "### Update Vals (add sparset)"
   ]
  },
  {
   "cell_type": "code",
   "execution_count": null,
   "id": "77a7c524",
   "metadata": {},
   "outputs": [],
   "source": [
    "multt=np.zeros(mult.T.shape)\n",
    "\n",
    "for row in range(multt.shape[0]):\n",
    "    for col in range(multt.shape[1]):\n",
    "        multt[row][col] = mult[col][row]"
   ]
  },
  {
   "cell_type": "code",
   "execution_count": null,
   "id": "24a8cbcf",
   "metadata": {},
   "outputs": [],
   "source": [
    "multdata, multcols, multnnz, multellw = to_data(multt)\n",
    "multdata_buf = cl.Buffer(ctx, mf.READ_WRITE | mf.COPY_HOST_PTR, hostbuf=multdata)\n",
    "multcols_buf = cl.Buffer(ctx, mf.READ_WRITE | mf.COPY_HOST_PTR, hostbuf=multcols)\n",
    "multnnzs_buf = cl.Buffer(ctx, mf.READ_WRITE | mf.COPY_HOST_PTR, hostbuf=multnnz)"
   ]
  },
  {
   "cell_type": "code",
   "execution_count": null,
   "id": "ad7e0c73",
   "metadata": {},
   "outputs": [],
   "source": [
    "a.shape, b.shape"
   ]
  },
  {
   "cell_type": "code",
   "execution_count": null,
   "id": "bf9e5c9e",
   "metadata": {},
   "outputs": [],
   "source": [
    "res = np.zeros(a.shape[0]).astype(np.float32)\n",
    "#res"
   ]
  },
  {
   "cell_type": "code",
   "execution_count": null,
   "id": "940e9ffa",
   "metadata": {},
   "outputs": [],
   "source": [
    "rows = mult.T.shape[0]"
   ]
  },
  {
   "cell_type": "code",
   "execution_count": null,
   "id": "d560f7e9",
   "metadata": {},
   "outputs": [],
   "source": [
    "mult = mult.astype(np.float32)"
   ]
  },
  {
   "cell_type": "code",
   "execution_count": null,
   "id": "78aeaa8c",
   "metadata": {},
   "outputs": [],
   "source": [
    "res_buf = cl.Buffer(ctx, mf.WRITE_ONLY, b.nbytes)\n",
    "knl = prg.adddense  # Use this Kernel object for repeated calls\n",
    "knl(queue, [rows], None, multdata_buf, multcols_buf, multnnzs_buf, np.float32(1), np.uint32(multellw), \n",
    "    sdatat_buf, sidxst_buf, snnzst_buf, np.uint32(topk))"
   ]
  },
  {
   "cell_type": "code",
   "execution_count": null,
   "id": "b0e8ab07",
   "metadata": {},
   "outputs": [],
   "source": [
    "mult.T"
   ]
  },
  {
   "cell_type": "code",
   "execution_count": null,
   "id": "24da004f",
   "metadata": {},
   "outputs": [],
   "source": [
    "data_res = np.empty_like(multdata)\n",
    "cols_res = np.empty_like(multcols)\n",
    "nnzs_res = np.empty_like(multnnz)\n",
    "cl.enqueue_copy(queue, data_res, multdata_buf, is_blocking=True)\n",
    "cl.enqueue_copy(queue, cols_res, multcols_buf, is_blocking=True)\n",
    "cl.enqueue_copy(queue, nnzs_res, multnnzs_buf, is_blocking=True)"
   ]
  },
  {
   "cell_type": "code",
   "execution_count": null,
   "id": "1ea6665b",
   "metadata": {},
   "outputs": [],
   "source": [
    "multt-data_res.reshape(multt.shape)"
   ]
  },
  {
   "cell_type": "code",
   "execution_count": null,
   "id": "29f989c4",
   "metadata": {},
   "outputs": [],
   "source": [
    "nnzs_res"
   ]
  },
  {
   "cell_type": "code",
   "execution_count": null,
   "id": "3dd2b416",
   "metadata": {},
   "outputs": [],
   "source": [
    "adenseaddt = to_dense(data_res, cols_res, nnzs_res, multellw, multt.shape)\n",
    "adenseaddt"
   ]
  },
  {
   "cell_type": "code",
   "execution_count": null,
   "id": "a65f4871",
   "metadata": {},
   "outputs": [],
   "source": [
    "multt-adenseaddt"
   ]
  },
  {
   "cell_type": "code",
   "execution_count": null,
   "id": "c8fa4a42",
   "metadata": {},
   "outputs": [],
   "source": [
    "adenseaddt"
   ]
  },
  {
   "cell_type": "code",
   "execution_count": null,
   "id": "36f4b9a1",
   "metadata": {},
   "outputs": [],
   "source": [
    "adenseadd.T == adenseaddt"
   ]
  },
  {
   "cell_type": "markdown",
   "id": "c0c255da",
   "metadata": {},
   "source": [
    "### Update Vals (add topk to sparse)"
   ]
  },
  {
   "cell_type": "code",
   "execution_count": null,
   "id": "7b96afa2",
   "metadata": {},
   "outputs": [],
   "source": [
    "matadd = np.random.randn(*a.shape).astype(np.float32)\n",
    "matadd"
   ]
  },
  {
   "cell_type": "code",
   "execution_count": null,
   "id": "412cfeec",
   "metadata": {},
   "outputs": [],
   "source": [
    "a"
   ]
  },
  {
   "cell_type": "code",
   "execution_count": null,
   "id": "5db87320",
   "metadata": {},
   "outputs": [],
   "source": [
    "a_added = a + matadd"
   ]
  },
  {
   "cell_type": "code",
   "execution_count": null,
   "id": "d2b7c76e",
   "metadata": {},
   "outputs": [],
   "source": [
    "adata_buf = cl.Buffer(ctx, mf.READ_WRITE | mf.COPY_HOST_PTR, hostbuf=adata)\n",
    "acols_buf = cl.Buffer(ctx, mf.READ_WRITE | mf.COPY_HOST_PTR, hostbuf=acols)\n",
    "annzs_buf = cl.Buffer(ctx, mf.READ_WRITE | mf.COPY_HOST_PTR, hostbuf=annz)\n",
    "adatat_buf = cl.Buffer(ctx, mf.READ_WRITE | mf.COPY_HOST_PTR, hostbuf=adatat)\n",
    "acolst_buf = cl.Buffer(ctx, mf.READ_WRITE | mf.COPY_HOST_PTR, hostbuf=acolst)\n",
    "annzst_buf = cl.Buffer(ctx, mf.READ_WRITE | mf.COPY_HOST_PTR, hostbuf=annzt)\n",
    "add_buf = cl.Buffer(ctx, mf.READ_WRITE | mf.COPY_HOST_PTR, hostbuf=matadd)\n",
    "\n",
    "prg = cl.Program(ctx, \"\"\"\n",
    "    // Every global_id_0 works on a row\n",
    "    __kernel void adddense(__global  float* matData,     // INPUT MATRIX DATA\n",
    "                            __global  uint*  colIdx,\n",
    "                            __global  uint*  rowNnz,\n",
    "                            float  lr,\n",
    "                            uint   ellwidth,\n",
    "                            uint   awidth,\n",
    "                            __global  float* vector_x    // INPUT\n",
    "                            ) { // LOCAL SHARED BUFFER\n",
    "      uint gid = get_global_id(0);\n",
    "      uint nrows = get_global_size(0);\n",
    "\n",
    "      uint nnz    = rowNnz[gid];\n",
    "      uint baseidxs = gid*ellwidth;\n",
    "      uint baseidxd = gid*awidth;\n",
    "      \n",
    "      for (uint i=0; i<awidth; i++) {\n",
    "        float addval = vector_x[baseidxd+i];\n",
    "        //if (gid==1)\n",
    "        //  printf(\"\\\\nADD VAL:%.2f idx:%i/%i  col:%i\", addval, baseidxs+i, baseidxd+i, colIdx[baseidxs+i]);\n",
    "        if (addval == 0) {\n",
    "          continue;\n",
    "        }\n",
    "        if (i == colIdx[baseidxs+i]) {\n",
    "          matData[baseidxs+i] += addval;\n",
    "        } else {\n",
    "          if (rowNnz[gid] >= ellwidth) {\n",
    "            break;\n",
    "          }\n",
    "          if (i > colIdx[baseidxs+i]) {\n",
    "            rowNnz[gid] += 1;\n",
    "            //if (gid==1)\n",
    "            //  printf(\"\\\\nSET VAL:%.2f idx:%i/%i  col:%i\", addval, baseidxs+i, baseidxd+i, colIdx[i]);\n",
    "            matData[baseidxs+i] = addval;\n",
    "            colIdx[baseidxs+i] = i;\n",
    "            continue;\n",
    "          }\n",
    "          for (uint j=nnz; j>i; j--) {\n",
    "            //printf(\"\\\\nMOVE:%.2f\", matData[baseidx+j-1]);\n",
    "            colIdx[baseidxs+j] = colIdx[baseidxs+j-1];\n",
    "            matData[baseidxs+j] = matData[baseidxs+j-1];\n",
    "          }\n",
    "          rowNnz[gid] += 1;\n",
    "          nnz = rowNnz[gid];\n",
    "          //if (gid==1)\n",
    "          //  printf(\"\\\\nSET VAL:%.2f idx:%i/%i  col:%i\", addval, baseidxs+i, baseidxd+i, colIdx[i]);\n",
    "          matData[baseidxs+i] = addval;\n",
    "          colIdx[baseidxs+i] = i;\n",
    "          if (nnz >= ellwidth)\n",
    "            break;\n",
    "        }\n",
    "      }\n",
    "    }\"\"\").build()"
   ]
  },
  {
   "cell_type": "code",
   "execution_count": null,
   "id": "2adf45e7",
   "metadata": {},
   "outputs": [],
   "source": [
    "a.shape, b.shape"
   ]
  },
  {
   "cell_type": "code",
   "execution_count": null,
   "id": "324edd08",
   "metadata": {},
   "outputs": [],
   "source": [
    "res = np.zeros(a.shape[0]).astype(np.float32)\n",
    "#res"
   ]
  },
  {
   "cell_type": "code",
   "execution_count": null,
   "id": "2cf60c63",
   "metadata": {},
   "outputs": [],
   "source": [
    "rows = a.shape[0]"
   ]
  },
  {
   "cell_type": "code",
   "execution_count": null,
   "id": "05c4e97c",
   "metadata": {},
   "outputs": [],
   "source": [
    "mult = mult.astype(np.float32)"
   ]
  },
  {
   "cell_type": "code",
   "execution_count": null,
   "id": "7d3bb3fd",
   "metadata": {},
   "outputs": [],
   "source": [
    "res_buf = cl.Buffer(ctx, mf.WRITE_ONLY, b.nbytes)\n",
    "knl = prg.adddense  # Use this Kernel object for repeated calls\n",
    "knl(queue, [rows], None, adata_buf, acols_buf, annzs_buf, np.float32(1), np.uint32(ellwa),np.uint32(a.shape[1]), add_buf)"
   ]
  },
  {
   "cell_type": "code",
   "execution_count": null,
   "id": "91283016",
   "metadata": {},
   "outputs": [],
   "source": [
    "matadd[0][0]"
   ]
  },
  {
   "cell_type": "code",
   "execution_count": null,
   "id": "f520b590",
   "metadata": {},
   "outputs": [],
   "source": [
    "data_res = np.empty_like(adata)\n",
    "cols_res = np.empty_like(acols)\n",
    "nnzs_res = np.empty_like(annz)\n",
    "cl.enqueue_copy(queue, data_res, adata_buf)\n",
    "cl.enqueue_copy(queue, cols_res, acols_buf)\n",
    "cl.enqueue_copy(queue, nnzs_res, annzs_buf)"
   ]
  },
  {
   "cell_type": "code",
   "execution_count": null,
   "id": "945bad1d",
   "metadata": {},
   "outputs": [],
   "source": [
    "adenseadd = to_dense(data_res, cols_res, nnzs_res, ellwa, a.shape)\n",
    "adenseadd"
   ]
  },
  {
   "cell_type": "code",
   "execution_count": null,
   "id": "9dc5db0f",
   "metadata": {},
   "outputs": [],
   "source": [
    "a"
   ]
  },
  {
   "cell_type": "code",
   "execution_count": null,
   "id": "488daf6b",
   "metadata": {},
   "outputs": [],
   "source": [
    "matadd"
   ]
  },
  {
   "cell_type": "code",
   "execution_count": null,
   "id": "e0e10dd1",
   "metadata": {},
   "outputs": [],
   "source": [
    "a_added"
   ]
  },
  {
   "cell_type": "code",
   "execution_count": null,
   "id": "fb4ef891",
   "metadata": {},
   "outputs": [],
   "source": [
    "adenseadd"
   ]
  },
  {
   "cell_type": "code",
   "execution_count": null,
   "id": "23f0c0c2",
   "metadata": {},
   "outputs": [],
   "source": [
    "adenseadd == a_added"
   ]
  },
  {
   "cell_type": "markdown",
   "id": "2c377b84",
   "metadata": {},
   "source": [
    "### update vals"
   ]
  },
  {
   "cell_type": "code",
   "execution_count": null,
   "id": "f334a950",
   "metadata": {},
   "outputs": [],
   "source": [
    "adatat_buf = cl.Buffer(ctx, mf.READ_WRITE | mf.COPY_HOST_PTR, hostbuf=adatat)\n",
    "acolst_buf = cl.Buffer(ctx, mf.READ_WRITE | mf.COPY_HOST_PTR, hostbuf=acolst)\n",
    "annzst_buf = cl.Buffer(ctx, mf.READ_WRITE | mf.COPY_HOST_PTR, hostbuf=annzt)\n",
    "add_buf = cl.Buffer(ctx, mf.READ_WRITE | mf.COPY_HOST_PTR, hostbuf=matadd)\n",
    "\n",
    "prg = cl.Program(ctx, \"\"\"\n",
    "    // Every global_id_0 works on a row\n",
    "    __kernel void adddenset(__global  float* matData,     // INPUT MATRIX DATA\n",
    "                            __global  uint*  colIdx,\n",
    "                            __global  uint*  rowNnz,\n",
    "                            float  lr,\n",
    "                            uint   ellwidth,\n",
    "                            uint   aheight,\n",
    "                            __global  float* vector_x    // INPUT\n",
    "                            ) { // LOCAL SHARED BUFFER\n",
    "      uint gid = get_global_id(0);\n",
    "      uint ncols = get_global_size(0);\n",
    "\n",
    "      uint nnz    = rowNnz[gid];\n",
    "      uint baseidxs = gid*ellwidth;\n",
    "      \n",
    "      for (uint i=0; i<aheight; i++) {\n",
    "        if (nnz > ellwidth)\n",
    "            break;\n",
    "        uint baseidxd = i*ncols+gid;\n",
    "        float addval = vector_x[baseidxd];\n",
    "        //if (gid==1)\n",
    "        //  printf(\"\\\\nADD VAL:%.2f idx:%i/%i  col:%i\", addval, baseidxs+i, baseidxd+i, colIdx[baseidxs+i]);\n",
    "        if (addval == 0) {\n",
    "          continue;\n",
    "        }\n",
    "        if (i == colIdx[baseidxs+i]) {\n",
    "          printf(\"\\\\nADD VAL:%.2f idx:%i/%i  col:%i\", addval, baseidxs+i, baseidxd+i, colIdx[i]);\n",
    "          matData[baseidxs+i] += addval;\n",
    "        } else {\n",
    "          if (rowNnz[gid] >= ellwidth) {\n",
    "            break;\n",
    "          }\n",
    "          if (i > colIdx[baseidxs+i]) {\n",
    "            rowNnz[gid] += 1;\n",
    "            //if (gid==1)\n",
    "            //  printf(\"\\\\nSET VAL:%.2f idx:%i/%i  col:%i\", addval, baseidxs+i, baseidxd+i, colIdx[i]);\n",
    "            matData[baseidxs+i] = addval;\n",
    "            colIdx[baseidxs+i] = i;\n",
    "            continue;\n",
    "          }\n",
    "          for (uint j=nnz; j>i; j--) {\n",
    "            //printf(\"\\\\nMOVE:%.2f\", matData[baseidx+j-1]);\n",
    "            colIdx[baseidxs+j] = colIdx[baseidxs+j-1];\n",
    "            matData[baseidxs+j] = matData[baseidxs+j-1];\n",
    "          }\n",
    "          rowNnz[gid] += 1;\n",
    "          nnz = rowNnz[gid];\n",
    "          //if (gid==1)\n",
    "          //  printf(\"\\\\nSET VAL:%.2f idx:%i/%i  col:%i\", addval, baseidxs+i, baseidxd+i, colIdx[i]);\n",
    "          matData[baseidxs+i] = addval;\n",
    "          colIdx[baseidxs+i] = i;\n",
    "        }\n",
    "      }\n",
    "    }\"\"\").build()"
   ]
  },
  {
   "cell_type": "code",
   "execution_count": null,
   "id": "3df220e3",
   "metadata": {},
   "outputs": [],
   "source": [
    "a.shape, b.shape"
   ]
  },
  {
   "cell_type": "code",
   "execution_count": null,
   "id": "4a70fde5",
   "metadata": {},
   "outputs": [],
   "source": [
    "res = np.zeros(a.shape[0]).astype(np.float32)\n",
    "#res"
   ]
  },
  {
   "cell_type": "code",
   "execution_count": null,
   "id": "49cee8e5",
   "metadata": {},
   "outputs": [],
   "source": [
    "cols = a.shape[1]"
   ]
  },
  {
   "cell_type": "code",
   "execution_count": null,
   "id": "ce0c1ed9",
   "metadata": {},
   "outputs": [],
   "source": [
    "mult = mult.astype(np.float32)"
   ]
  },
  {
   "cell_type": "code",
   "execution_count": null,
   "id": "bf98ad4e",
   "metadata": {},
   "outputs": [],
   "source": [
    "res_buf = cl.Buffer(ctx, mf.WRITE_ONLY, b.nbytes)\n",
    "knl = prg.adddenset  # Use this Kernel object for repeated calls\n",
    "knl(queue, [cols], None, adatat_buf, acolst_buf, annzst_buf, np.float32(1), np.uint32(ellwat),np.uint32(a.T.shape[1]), add_buf)"
   ]
  },
  {
   "cell_type": "code",
   "execution_count": null,
   "id": "d01027d6",
   "metadata": {},
   "outputs": [],
   "source": [
    "matadd[0][0]"
   ]
  },
  {
   "cell_type": "code",
   "execution_count": null,
   "id": "c8aa298b",
   "metadata": {},
   "outputs": [],
   "source": [
    "datat_res = np.empty_like(adatat)\n",
    "colst_res = np.empty_like(acolst)\n",
    "nnzst_res = np.empty_like(annzt)\n",
    "cl.enqueue_copy(queue, datat_res, adatat_buf)\n",
    "cl.enqueue_copy(queue, colst_res, acolst_buf)\n",
    "cl.enqueue_copy(queue, nnzst_res, annzst_buf)"
   ]
  },
  {
   "cell_type": "code",
   "execution_count": null,
   "id": "1520b090",
   "metadata": {},
   "outputs": [],
   "source": [
    "adenseaddt = to_dense(datat_res, colst_res, nnzst_res, ellwat, a.T.shape).T\n",
    "adenseaddt"
   ]
  },
  {
   "cell_type": "code",
   "execution_count": null,
   "id": "4991edea",
   "metadata": {},
   "outputs": [],
   "source": [
    "a"
   ]
  },
  {
   "cell_type": "code",
   "execution_count": null,
   "id": "a02d1ebb",
   "metadata": {},
   "outputs": [],
   "source": [
    "matadd"
   ]
  },
  {
   "cell_type": "code",
   "execution_count": null,
   "id": "39b90dde",
   "metadata": {},
   "outputs": [],
   "source": [
    "a_added"
   ]
  },
  {
   "cell_type": "code",
   "execution_count": null,
   "id": "03c95777",
   "metadata": {},
   "outputs": [],
   "source": [
    "adenseaddt == a_added"
   ]
  },
  {
   "cell_type": "markdown",
   "id": "f62eb300",
   "metadata": {},
   "source": [
    "### Make Random"
   ]
  },
  {
   "cell_type": "code",
   "execution_count": null,
   "id": "bc590ff4",
   "metadata": {},
   "outputs": [],
   "source": [
    "rand = SparseTensor.uniform(2,4)\n",
    "rand"
   ]
  },
  {
   "cell_type": "code",
   "execution_count": null,
   "id": "186cbd5b",
   "metadata": {},
   "outputs": [],
   "source": [
    "rand.to_numpy()"
   ]
  },
  {
   "cell_type": "code",
   "execution_count": null,
   "id": "86441521",
   "metadata": {},
   "outputs": [],
   "source": [
    "rand.data"
   ]
  },
  {
   "cell_type": "markdown",
   "id": "6644b755",
   "metadata": {},
   "source": [
    "### update vals"
   ]
  },
  {
   "cell_type": "code",
   "execution_count": null,
   "id": "73b60325",
   "metadata": {},
   "outputs": [],
   "source": [
    "adata_buf = cl.Buffer(ctx, mf.READ_WRITE | mf.COPY_HOST_PTR, hostbuf=adata)\n",
    "acols_buf = cl.Buffer(ctx, mf.READ_WRITE | mf.COPY_HOST_PTR, hostbuf=acols)\n",
    "annzs_buf = cl.Buffer(ctx, mf.READ_WRITE | mf.COPY_HOST_PTR, hostbuf=annz)"
   ]
  },
  {
   "cell_type": "code",
   "execution_count": null,
   "id": "7cb03af3",
   "metadata": {},
   "outputs": [],
   "source": [
    "prg = cl.Program(ctx, \"\"\"\n",
    "// Every global_id_0 works on a row\n",
    "    __kernel void addvals(__global  float* matData,     // INPUT MATRIX DATA\n",
    "                         __global  uint*  colIdx,\n",
    "                         __global  uint*  rowNnz,\n",
    "                         float lr,\n",
    "                         uint   ellwidth,\n",
    "                         __global  float* updatevals,    // INPUT\n",
    "                         __global  uint* updatexidx,\n",
    "                         __global  uint* updateyidx\n",
    "                         ) { // LOCAL SHARED BUFFER\n",
    "      uint gid = get_global_id(0);\n",
    "      uint gid2 = get_global_id(1);\n",
    "      uint topk = get_global_size(0);\n",
    "      uint bs = get_global_size(1);\n",
    "      uint baseupdateidx = topk*topk*gid2;\n",
    "      uint baseidxidx = topk*gid2;\n",
    "      uint col = updateyidx[baseidxidx+gid];\n",
    "\n",
    "      for (uint i=0; i<topk; i++) {\n",
    "        float val = updatevals[baseupdateidx+gid*topk+i];\n",
    "        uint row = updatexidx[baseidxidx+i];\n",
    "        for (uint i=0; i<rowNnz[row]; i++) {\n",
    "          uint idx = row*ellwidth+i;\n",
    "          if (colIdx[idx] >= col) {\n",
    "            //printf(\"\\\\nFOUND:%i/%i  - idx:%i\", colIdx[idx], col, idx);\n",
    "            if (colIdx[idx] == col) {\n",
    "              matData[idx] += -val*lr;\n",
    "              printf(\"\\\\nUPDATE[%i,%i]: %f\", row,col, val);\n",
    "              break;\n",
    "            } else {\n",
    "              // insert new column\n",
    "              printf(\"\\\\nINSERT[%i,%i]: %.2f\", row,col, val);\n",
    "              for (uint j=rowNnz[row]+1; j>i; j--) {\n",
    "                uint idx2 = row*ellwidth+j;\n",
    "                matData[idx2] = matData[idx2-1];\n",
    "                colIdx[idx2] = colIdx[idx2-1];\n",
    "              }\n",
    "              matData[idx] = -val*lr;\n",
    "              colIdx[idx] = col;\n",
    "              rowNnz[row] += 1;\n",
    "              break;\n",
    "            }\n",
    "          }\n",
    "        }\n",
    "        if (rowNnz[row] >= ellwidth) {\n",
    "          break;\n",
    "        }\n",
    "      }\n",
    "    }\"\"\").build()"
   ]
  },
  {
   "cell_type": "code",
   "execution_count": null,
   "id": "14b0cd42",
   "metadata": {},
   "outputs": [],
   "source": [
    "prg = cl.Program(ctx, \"\"\"\n",
    "// Every global_id_0 works on a row\n",
    "    __kernel void addvals(__global  float* matData,     // INPUT MATRIX DATA\n",
    "                         __global  uint*  colIdx,\n",
    "                         __global  uint*  rowNnz,\n",
    "                         float lr,\n",
    "                         uint   ellwidth,\n",
    "                         __global  float* updatevals,    // INPUT\n",
    "                         __global  uint* updatexidx,\n",
    "                         __global  uint* updateyidx\n",
    "                         ) { // LOCAL SHARED BUFFER\n",
    "      uint gid = get_global_id(0);\n",
    "      uint topk = get_global_size(0);\n",
    "      uint col = updateyidx[gid];\n",
    "\n",
    "      for (uint i=0; i<topk; i++) {\n",
    "        float val = updatevals[baseupdateidx+gid*topk+i];\n",
    "        uint row = updatexidx[baseidxidx+i];\n",
    "        for (uint i=0; i<rowNnz[row]; i++) {\n",
    "          uint idx = row*ellwidth+i;\n",
    "          if (colIdx[idx] >= col) {\n",
    "            //printf(\"\\\\nFOUND:%i/%i  - idx:%i\", colIdx[idx], col, idx);\n",
    "            if (colIdx[idx] == col) {\n",
    "              matData[idx] += -val*lr;\n",
    "              printf(\"\\\\nUPDATE[%i,%i]: %f\", row,col, val);\n",
    "              break;\n",
    "            } else {\n",
    "              // insert new column\n",
    "              printf(\"\\\\nINSERT[%i,%i]: %.2f\", row,col, val);\n",
    "              for (uint j=rowNnz[row]+1; j>i; j--) {\n",
    "                uint idx2 = row*ellwidth+j;\n",
    "                matData[idx2] = matData[idx2-1];m\n",
    "                colIdx[idx2] = colIdx[idx2-1];\n",
    "              }\n",
    "              matData[idx] = -val*lr;\n",
    "              colIdx[idx] = col;\n",
    "              rowNnz[row] += 1;\n",
    "              break;\n",
    "            }\n",
    "          }\n",
    "        }\n",
    "        if (rowNnz[row] >= ellwidth) {\n",
    "          break;\n",
    "        }\n",
    "      }\n",
    "    }\"\"\").build()"
   ]
  },
  {
   "cell_type": "code",
   "execution_count": null,
   "id": "0aab86e1",
   "metadata": {},
   "outputs": [],
   "source": [
    "knl = prg.addvals  # Use this Kernel object for repeated calls\n",
    "knl(queue, [topk,1], None, adata_buf, acols_buf, annzs_buf, np.float32(1), np.uint32(ellwa), x_cp_buf, x_idx_buf, y_idx_buf)\n",
    "\n",
    "resa = np.empty_like(adata)\n",
    "resaidx = np.zeros(acols.shape).astype(np.uint32)\n",
    "resannz = np.zeros(annz.shape).astype(np.uint32)\n",
    "\n",
    "cl.enqueue_copy(queue, resa, adata_buf)\n",
    "cl.enqueue_copy(queue, resaidx, acols_buf)\n",
    "cl.enqueue_copy(queue, resannz, annzs_buf)"
   ]
  },
  {
   "cell_type": "code",
   "execution_count": null,
   "id": "d2ff91ba",
   "metadata": {},
   "outputs": [],
   "source": [
    "resa.shape, resaidx.shape, resannz.shape, ellwa, a.T.shape"
   ]
  },
  {
   "cell_type": "code",
   "execution_count": null,
   "id": "190b8546",
   "metadata": {},
   "outputs": [],
   "source": [
    "adenseadd = to_dense(resa, resaidx, resannz, ellwa, a.shape)\n",
    "adenseadd"
   ]
  },
  {
   "cell_type": "code",
   "execution_count": null,
   "id": "3211c6e6",
   "metadata": {},
   "outputs": [],
   "source": [
    "adenseadd - adense"
   ]
  },
  {
   "cell_type": "code",
   "execution_count": null,
   "id": "f63c469b",
   "metadata": {},
   "outputs": [],
   "source": [
    "adenseadd == adense"
   ]
  },
  {
   "cell_type": "code",
   "execution_count": null,
   "id": "922fdfb7",
   "metadata": {},
   "outputs": [],
   "source": [
    "ellwa"
   ]
  },
  {
   "cell_type": "code",
   "execution_count": null,
   "id": "9da55fa5",
   "metadata": {},
   "outputs": [],
   "source": [
    "adata2 = adata.reshape(-1, ellwa)\n",
    "adata2"
   ]
  },
  {
   "cell_type": "code",
   "execution_count": null,
   "id": "466c61fb",
   "metadata": {},
   "outputs": [],
   "source": [
    "resa = resa.reshape(-1, ellwa)\n",
    "resa"
   ]
  },
  {
   "cell_type": "code",
   "execution_count": null,
   "id": "30f36719",
   "metadata": {},
   "outputs": [],
   "source": [
    "resa - adata2"
   ]
  },
  {
   "cell_type": "code",
   "execution_count": null,
   "id": "9dd6baf4",
   "metadata": {},
   "outputs": [],
   "source": [
    "acols"
   ]
  },
  {
   "cell_type": "code",
   "execution_count": null,
   "id": "5c526051",
   "metadata": {},
   "outputs": [],
   "source": [
    "resaidx"
   ]
  },
  {
   "cell_type": "code",
   "execution_count": null,
   "id": "f635a14d",
   "metadata": {},
   "outputs": [],
   "source": [
    "resannz"
   ]
  },
  {
   "cell_type": "code",
   "execution_count": null,
   "id": "d99713b6",
   "metadata": {},
   "outputs": [],
   "source": [
    "annz"
   ]
  },
  {
   "cell_type": "markdown",
   "id": "7c703466",
   "metadata": {},
   "source": [
    "### update vals2"
   ]
  },
  {
   "cell_type": "code",
   "execution_count": null,
   "id": "ed7e786b",
   "metadata": {},
   "outputs": [],
   "source": [
    "adatat_buf = cl.Buffer(ctx, mf.READ_WRITE | mf.COPY_HOST_PTR, hostbuf=adatat)\n",
    "acolst_buf = cl.Buffer(ctx, mf.READ_WRITE | mf.COPY_HOST_PTR, hostbuf=acolst)\n",
    "annzst_buf = cl.Buffer(ctx, mf.READ_WRITE | mf.COPY_HOST_PTR, hostbuf=annzt)"
   ]
  },
  {
   "cell_type": "code",
   "execution_count": null,
   "id": "33840479",
   "metadata": {},
   "outputs": [],
   "source": [
    "prg = cl.Program(ctx, \"\"\"\n",
    "// Every global_id_0 works on a row\n",
    "    __kernel void addvals(__global  float* matData,     // INPUT MATRIX DATA\n",
    "                         __global  uint*  colIdx,\n",
    "                         __global  uint*  rowNnz,\n",
    "                         float lr,\n",
    "                         uint   ellwidth,\n",
    "                         __global  float* updatevals,    // INPUT\n",
    "                         __global  uint* updatexidx,\n",
    "                         __global  uint* updateyidx\n",
    "                         ) { // LOCAL SHARED BUFFER\n",
    "      uint gid = get_global_id(0);\n",
    "      uint gid2 = get_global_id(1);\n",
    "      uint topk = get_global_size(0);\n",
    "      uint bs = get_global_size(1);\n",
    "      uint baseupdateidx = topk*topk*gid2;\n",
    "      uint baseidxidx = topk*gid2;\n",
    "      uint row = updateyidx[baseidxidx+gid];\n",
    "\n",
    "      for (uint i=0; i<topk; i++) {\n",
    "        float val = updatevals[baseupdateidx+gid*topk+i];\n",
    "        uint col = updatexidx[baseidxidx+i];\n",
    "        for (uint i=0; i<rowNnz[row]; i++) {\n",
    "          uint idx = row*ellwidth+i;\n",
    "          if (colIdx[idx] >= col) {\n",
    "            //printf(\"\\\\nFOUND:%i/%i  - idx:%i\", colIdx[idx], col, idx);\n",
    "            if (colIdx[idx] == col) {\n",
    "              matData[idx] += -val*lr;\n",
    "              printf(\"\\\\nUPDATE[%i,%i]: %f\", row,col, val);\n",
    "              break;\n",
    "            } else {\n",
    "              // insert new column\n",
    "              printf(\"\\\\nINSERT[%i,%i]: %.2f\", row,col, val);\n",
    "              for (uint j=rowNnz[row]+1; j>i; j--) {\n",
    "                uint idx2 = row*ellwidth+j;\n",
    "                matData[idx2] = matData[idx2-1];\n",
    "                colIdx[idx2] = colIdx[idx2-1];\n",
    "              }\n",
    "              matData[idx] = -val*lr;\n",
    "              colIdx[idx] = col;\n",
    "              rowNnz[row] += 1;\n",
    "              break;\n",
    "            }\n",
    "          }\n",
    "        }\n",
    "        if (rowNnz[row] >= ellwidth) {\n",
    "          break;\n",
    "        }\n",
    "      }\n",
    "    }\"\"\").build()"
   ]
  },
  {
   "cell_type": "code",
   "execution_count": null,
   "id": "0053ed70",
   "metadata": {},
   "outputs": [],
   "source": [
    "knl = prg.addvals  # Use this Kernel object for repeated calls\n",
    "knl(queue, [topk,bs], None, adatat_buf, acolst_buf, annzst_buf, np.float32(1), np.uint32(ellwat), x_cp_buf, x_idx_buf, y_idx_buf)\n",
    "\n",
    "resat = np.empty_like(adatat)\n",
    "resaidxt = np.zeros(acolst.shape).astype(np.uint32)\n",
    "resannzt = np.zeros(annzt.shape).astype(np.uint32)\n",
    "\n",
    "cl.enqueue_copy(queue, resat, adatat_buf)\n",
    "cl.enqueue_copy(queue, resaidxt, acolst_buf)\n",
    "cl.enqueue_copy(queue, resannzt, annzst_buf)"
   ]
  },
  {
   "cell_type": "code",
   "execution_count": null,
   "id": "8f781e72",
   "metadata": {},
   "outputs": [],
   "source": [
    "ellwa"
   ]
  },
  {
   "cell_type": "code",
   "execution_count": null,
   "id": "1864d3ac",
   "metadata": {},
   "outputs": [],
   "source": [
    "resat.shape, resaidxt.shape, resannzt.shape"
   ]
  },
  {
   "cell_type": "code",
   "execution_count": null,
   "id": "6205962b",
   "metadata": {},
   "outputs": [],
   "source": [
    "adenseaddt = to_dense(resat, resaidxt, resannzt, ellwat, a.T.shape)\n",
    "adenseaddt"
   ]
  },
  {
   "cell_type": "code",
   "execution_count": null,
   "id": "c601a02c",
   "metadata": {},
   "outputs": [],
   "source": [
    "adenseadd == adenseaddt.T"
   ]
  },
  {
   "cell_type": "code",
   "execution_count": null,
   "id": "64a4fdb0",
   "metadata": {},
   "outputs": [],
   "source": [
    "adata2t = adatat.reshape(-1, ellwat)\n",
    "adata2t"
   ]
  },
  {
   "cell_type": "code",
   "execution_count": null,
   "id": "3b8f6062",
   "metadata": {},
   "outputs": [],
   "source": [
    "resat = resat.reshape(-1, ellwat)\n",
    "resat"
   ]
  },
  {
   "cell_type": "code",
   "execution_count": null,
   "id": "eb51f891",
   "metadata": {},
   "outputs": [],
   "source": [
    "resat - adata2t"
   ]
  },
  {
   "cell_type": "code",
   "execution_count": null,
   "id": "f7e150fe",
   "metadata": {},
   "outputs": [],
   "source": [
    "acols"
   ]
  },
  {
   "cell_type": "code",
   "execution_count": null,
   "id": "8f1f18f1",
   "metadata": {},
   "outputs": [],
   "source": [
    "resaidx"
   ]
  },
  {
   "cell_type": "code",
   "execution_count": null,
   "id": "bd326e73",
   "metadata": {},
   "outputs": [],
   "source": [
    "resannz"
   ]
  },
  {
   "cell_type": "code",
   "execution_count": null,
   "id": "357413c1",
   "metadata": {},
   "outputs": [],
   "source": [
    "annz"
   ]
  },
  {
   "cell_type": "code",
   "execution_count": null,
   "id": "d9f4a6f0",
   "metadata": {},
   "outputs": [],
   "source": []
  },
  {
   "cell_type": "code",
   "execution_count": null,
   "id": "9f708713",
   "metadata": {},
   "outputs": [],
   "source": []
  },
  {
   "cell_type": "code",
   "execution_count": null,
   "id": "e59475d1",
   "metadata": {},
   "outputs": [],
   "source": []
  },
  {
   "cell_type": "code",
   "execution_count": null,
   "id": "3dd6c3a3",
   "metadata": {},
   "outputs": [],
   "source": []
  },
  {
   "cell_type": "code",
   "execution_count": null,
   "id": "7e83b426",
   "metadata": {},
   "outputs": [],
   "source": []
  },
  {
   "cell_type": "code",
   "execution_count": null,
   "id": "af6af470",
   "metadata": {},
   "outputs": [],
   "source": []
  },
  {
   "cell_type": "code",
   "execution_count": null,
   "id": "e2b3a039",
   "metadata": {},
   "outputs": [],
   "source": []
  },
  {
   "cell_type": "code",
   "execution_count": null,
   "id": "2da19095",
   "metadata": {},
   "outputs": [],
   "source": []
  }
 ],
 "metadata": {
  "kernelspec": {
   "display_name": "Python 3",
   "language": "python",
   "name": "python3"
  },
  "language_info": {
   "codemirror_mode": {
    "name": "ipython",
    "version": 3
   },
   "file_extension": ".py",
   "mimetype": "text/x-python",
   "name": "python",
   "nbconvert_exporter": "python",
   "pygments_lexer": "ipython3",
   "version": "3.8.12"
  }
 },
 "nbformat": 4,
 "nbformat_minor": 5
}
