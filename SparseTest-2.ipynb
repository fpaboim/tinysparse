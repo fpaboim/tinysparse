{
 "cells": [
  {
   "cell_type": "code",
   "execution_count": 1,
   "id": "4309590e",
   "metadata": {},
   "outputs": [
    {
     "name": "stdout",
     "output_type": "stream",
     "text": [
      "TRY GPU\n",
      "DEVICE:GPU\n"
     ]
    }
   ],
   "source": [
    "from tinygrad.densetensor import DenseTensor\n",
    "from tinygrad.sparsetensor import SparseTensor\n",
    "import numpy as np\n",
    "\n",
    "%load_ext autoreload\n",
    "%autoreload 2"
   ]
  },
  {
   "cell_type": "code",
   "execution_count": 2,
   "id": "4cb532fa",
   "metadata": {},
   "outputs": [],
   "source": [
    "x_init = np.random.randn(1,3).astype(np.float32)\n",
    "x2_init = np.random.randn(3).astype(np.float32)\n",
    "U_init = np.random.randn(3,3).astype(np.float32)\n",
    "V_init = np.random.randn(3,3).astype(np.float32)\n",
    "W_init = np.random.randn(3,3).astype(np.float32)\n",
    "m_init = np.random.randn(1,3).astype(np.float32)"
   ]
  },
  {
   "cell_type": "code",
   "execution_count": 3,
   "id": "3fb8a745",
   "metadata": {},
   "outputs": [
    {
     "name": "stdout",
     "output_type": "stream",
     "text": [
      "dense shape grad; (1,)\n",
      "PRT: (<DenseTensor <GPUBuffer with shape (1, 3)> with grad None>,)\n",
      "GRDS: [<GPUBuffer with shape (1, 3)>]\n",
      "T/g: <DenseTensor <GPUBuffer with shape (1, 3)> with grad None> <GPUBuffer with shape (1, 3)>\n",
      "PRT: (<DenseTensor <GPUBuffer with shape (1, 3)> with grad None>, <DenseTensor <GPUBuffer with shape (1, 3)> with grad None>)\n",
      "GRDS: (<GPUBuffer with shape (1, 3)>, <GPUBuffer with shape (1, 3)>)\n",
      "T/g: <DenseTensor <GPUBuffer with shape (1, 3)> with grad None> <GPUBuffer with shape (1, 3)>\n",
      "T/g: <DenseTensor <GPUBuffer with shape (1, 3)> with grad None> <GPUBuffer with shape (1, 3)>\n",
      "PRT: (<DenseTensor <GPUBuffer with shape (1, 3)> with grad None>, <DenseTensor <GPUBuffer with shape (1, 3)> with grad <GPUBuffer with shape (1, 3)>>)\n",
      "GRDS: (<GPUBuffer with shape (1, 3)>, <GPUBuffer with shape (1, 3)>)\n",
      "T/g: <DenseTensor <GPUBuffer with shape (1, 3)> with grad None> <GPUBuffer with shape (1, 3)>\n",
      "T/g: <DenseTensor <GPUBuffer with shape (1, 3)> with grad <GPUBuffer with shape (1, 3)>> <GPUBuffer with shape (1, 3)>\n",
      "PRT: (<DenseTensor <GPUBuffer with shape (1, 3)> with grad None>, <DenseTensor <GPUBuffer with shape (1, 1)> with grad None>)\n",
      "GRDS: (<GPUBuffer with shape (1, 3)>, <GPUBuffer with shape (1, 1)>)\n",
      "T/g: <DenseTensor <GPUBuffer with shape (1, 3)> with grad None> <GPUBuffer with shape (1, 3)>\n",
      "T/g: <DenseTensor <GPUBuffer with shape (1, 1)> with grad None> <GPUBuffer with shape (1, 1)>\n",
      "PRT: (<DenseTensor <GPUBuffer with shape (1, 1)> with grad None>, <DenseTensor <GPUBuffer with shape (1, 1)> with grad None>)\n",
      "GRDS: (<GPUBuffer with shape (1, 1)>, <GPUBuffer with shape (1, 1)>)\n",
      "T/g: <DenseTensor <GPUBuffer with shape (1, 1)> with grad None> <GPUBuffer with shape (1, 1)>\n",
      "T/g: <DenseTensor <GPUBuffer with shape (1, 1)> with grad None> <GPUBuffer with shape (1, 1)>\n",
      "PRT: (<DenseTensor <GPUBuffer with shape (1, 1)> with grad None>,)\n",
      "GRDS: [<GPUBuffer with shape (1, 1)>]\n",
      "T/g: <DenseTensor <GPUBuffer with shape (1, 1)> with grad None> <GPUBuffer with shape (1, 1)>\n",
      "PRT: (<DenseTensor <GPUBuffer with shape (1,)> with grad None>,)\n",
      "GRDS: [<GPUBuffer with shape (1,)>]\n",
      "T/g: <DenseTensor <GPUBuffer with shape (1,)> with grad None> <GPUBuffer with shape (1,)>\n",
      "PRT: (<DenseTensor <GPUBuffer with shape (1, 3)> with grad None>,)\n",
      "GRDS: [<GPUBuffer with shape (1, 3)>]\n",
      "T/g: <DenseTensor <GPUBuffer with shape (1, 3)> with grad None> <GPUBuffer with shape (1, 3)>\n",
      "PRT: (<DenseTensor <GPUBuffer with shape (1, 3)> with grad None>,)\n",
      "GRDS: [<GPUBuffer with shape (1, 3)>]\n",
      "T/g: <DenseTensor <GPUBuffer with shape (1, 3)> with grad None> <GPUBuffer with shape (1, 3)>\n",
      "PRT: (<DenseTensor <GPUBuffer with shape (1, 3)> with grad <GPUBuffer with shape (1, 3)>>, <DenseTensor <GPUBuffer with shape (1, 1)> with grad <GPUBuffer with shape (1, 1)>>)\n",
      "GRDS: (<GPUBuffer with shape (1, 3)>, <GPUBuffer with shape (1, 1)>)\n",
      "T/g: <DenseTensor <GPUBuffer with shape (1, 3)> with grad <GPUBuffer with shape (1, 3)>> <GPUBuffer with shape (1, 3)>\n",
      "T/g: <DenseTensor <GPUBuffer with shape (1, 1)> with grad <GPUBuffer with shape (1, 1)>> <GPUBuffer with shape (1, 1)>\n",
      "PRT: (<DenseTensor <GPUBuffer with shape (1,)> with grad None>,)\n",
      "GRDS: [<GPUBuffer with shape (1,)>]\n",
      "T/g: <DenseTensor <GPUBuffer with shape (1,)> with grad None> <GPUBuffer with shape (1,)>\n",
      "PRT: (<DenseTensor <GPUBuffer with shape (1, 3)> with grad <GPUBuffer with shape (1, 3)>>,)\n",
      "GRDS: [<GPUBuffer with shape (1, 3)>]\n",
      "T/g: <DenseTensor <GPUBuffer with shape (1, 3)> with grad <GPUBuffer with shape (1, 3)>> <GPUBuffer with shape (1, 3)>\n",
      "PRT: (<DenseTensor <GPUBuffer with shape (1, 3)> with grad None>,)\n",
      "GRDS: [<GPUBuffer with shape (1, 3)>]\n",
      "T/g: <DenseTensor <GPUBuffer with shape (1, 3)> with grad None> <GPUBuffer with shape (1, 3)>\n",
      "PRT: (<DenseTensor <GPUBuffer with shape (1, 3)> with grad None>, <DenseTensor <GPUBuffer with shape (3, 3)> with grad None>)\n",
      "GRDS: (<GPUBuffer with shape (1, 3)>, <GPUBuffer with shape (3, 3)>)\n",
      "T/g: <DenseTensor <GPUBuffer with shape (1, 3)> with grad None> <GPUBuffer with shape (1, 3)>\n",
      "T/g: <DenseTensor <GPUBuffer with shape (3, 3)> with grad None> <GPUBuffer with shape (3, 3)>\n"
     ]
    },
    {
     "data": {
      "text/plain": [
       "(array([1.3010626], dtype=float32),\n",
       " <DenseTensor <GPUBuffer with shape (1, 3)> with grad <GPUBuffer with shape (1, 3)>>)"
      ]
     },
     "execution_count": 3,
     "metadata": {},
     "output_type": "execute_result"
    }
   ],
   "source": [
    "x = DenseTensor(x_init)\n",
    "W = DenseTensor(W_init)\n",
    "m = DenseTensor(m_init)\n",
    "out = x.dot(W).relu()\n",
    "out = out.logsoftmax()\n",
    "out = out.mul(m).add(m).sum()\n",
    "out.backward()\n",
    "\n",
    "out.cpu().data, x"
   ]
  },
  {
   "cell_type": "code",
   "execution_count": 4,
   "id": "46b0ba5a",
   "metadata": {
    "scrolled": true
   },
   "outputs": [
    {
     "name": "stdout",
     "output_type": "stream",
     "text": [
      "[[ 1.6416572  -1.1452918  -0.40320277]\n",
      " [ 0.9028812  -1.8745078  -0.6020789 ]\n",
      " [-1.4252311   1.4327703   0.9681495 ]]\n",
      "dense shape grad; (3,)\n",
      "aval, xval: 1.64,-0.94:0-0 \n",
      "aval, xval: 0.90,-0.94:0-3 \n",
      "aval, xval: -1.43,-0.94:0-6 \n",
      "aval, xval: -1.15,-0.42:1-1 \n",
      "aval, xval: -1.87,-0.42:1-4 \n",
      "aval, xval: 1.43,-0.42:1-7 \n",
      "aval, xval: -0.40,0.62:2-2 \n",
      "aval, xval: -0.60,0.62:2-5 \n",
      "aval, xval: 0.97,0.62:2-8 \n",
      "SUM/NNZ: -1.30 3 \n",
      "SUM/NNZ: -0.42 3 \n",
      "SUM/NNZ: 1.32 3 \n",
      "PRT: (<DenseTensor <GPUBuffer with shape (3,)> with grad None>,)\n",
      "GRDS: [<GPUBuffer with shape (3,)>]\n",
      "T/g: <DenseTensor <GPUBuffer with shape (3,)> with grad None> <GPUBuffer with shape (3,)>\n",
      "aval, xval: 1.64,0.00:0-0 \n",
      "aval, xval: -1.15,0.00:0-3 \n",
      "aval, xval: -0.40,0.00:0-6 \n",
      "aval, xval: 0.90,0.00:1-1 \n",
      "aval, xval: -1.87,0.00:1-4 \n",
      "aval, xval: -0.60,0.00:1-7 \n",
      "aval, xval: -1.43,1.00:2-2 \n",
      "aval, xval: 1.43,1.00:2-5 \n",
      "aval, xval: 0.97,1.00:2-8 \n",
      "SUM/NNZ: -1.43 3 \n",
      "SUM/NNZ: 1.43 3 \n",
      "SUM/NNZ: 0.97 3 \n",
      "PRT: (<SparseTensor <GPUBuffer with shape (9,)> with grad None>, <DenseTensor <GPUBuffer with shape (3,)> with grad None>)\n",
      "GRDS: ((<GPUBuffer with shape (16,)>, <pyopencl._cl.Buffer object at 0x7f3b50495630>, <pyopencl._cl.Buffer object at 0x7f3b504a41d0>), <GPUBuffer with shape (3,)>)\n",
      "T/g: <SparseTensor <GPUBuffer with shape (9,)> with grad None> (<GPUBuffer with shape (16,)>, <pyopencl._cl.Buffer object at 0x7f3b50495630>, <pyopencl._cl.Buffer object at 0x7f3b504a41d0>)\n",
      "SPARSE!\n",
      "T/g: <DenseTensor <GPUBuffer with shape (3,)> with grad None> <GPUBuffer with shape (3,)>\n"
     ]
    },
    {
     "data": {
      "text/plain": [
       "(array([0.       , 0.       , 1.3227259], dtype=float32),\n",
       " <DenseTensor <GPUBuffer with shape (1, 3)> with grad <GPUBuffer with shape (1, 3)>>)"
      ]
     },
     "execution_count": 4,
     "metadata": {},
     "output_type": "execute_result"
    }
   ],
   "source": [
    "x2 = DenseTensor(x2_init)#.gpu()\n",
    "W = SparseTensor(W_init)\n",
    "out = W.dot(x2).relu()\n",
    "\n",
    "out.backward()\n",
    "\n",
    "out.cpu().data, x"
   ]
  },
  {
   "cell_type": "code",
   "execution_count": null,
   "id": "58d663a9",
   "metadata": {},
   "outputs": [],
   "source": []
  },
  {
   "cell_type": "code",
   "execution_count": null,
   "id": "aa07ec67",
   "metadata": {},
   "outputs": [],
   "source": []
  }
 ],
 "metadata": {
  "kernelspec": {
   "display_name": "Python 3",
   "language": "python",
   "name": "python3"
  },
  "language_info": {
   "codemirror_mode": {
    "name": "ipython",
    "version": 3
   },
   "file_extension": ".py",
   "mimetype": "text/x-python",
   "name": "python",
   "nbconvert_exporter": "python",
   "pygments_lexer": "ipython3",
   "version": "3.8.12"
  }
 },
 "nbformat": 4,
 "nbformat_minor": 5
}
