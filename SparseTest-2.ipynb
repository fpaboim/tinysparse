{
 "cells": [
  {
   "cell_type": "code",
   "execution_count": 17,
   "id": "4309590e",
   "metadata": {},
   "outputs": [
    {
     "name": "stdout",
     "output_type": "stream",
     "text": [
      "The autoreload extension is already loaded. To reload it, use:\n",
      "  %reload_ext autoreload\n"
     ]
    }
   ],
   "source": [
    "from tinygrad.densetensor import DenseTensor\n",
    "from tinygrad.sparsetensor import SparseTensor\n",
    "import numpy as np\n",
    "\n",
    "%load_ext autoreload\n",
    "%autoreload 2"
   ]
  },
  {
   "cell_type": "code",
   "execution_count": 18,
   "id": "4cb532fa",
   "metadata": {},
   "outputs": [],
   "source": [
    "x_init = np.random.randn(1,3).astype(np.float32)\n",
    "x2_init = np.random.randn(3).astype(np.float32)\n",
    "U_init = np.random.randn(3,3).astype(np.float32)\n",
    "V_init = np.random.randn(3,3).astype(np.float32)\n",
    "W_init = np.random.randn(3,3).astype(np.float32)\n",
    "m_init = np.random.randn(1,3).astype(np.float32)"
   ]
  },
  {
   "cell_type": "code",
   "execution_count": 19,
   "id": "3fb8a745",
   "metadata": {},
   "outputs": [
    {
     "data": {
      "text/plain": [
       "(array([1.7038704], dtype=float32),\n",
       " <DenseTensor <GPUBuffer with shape (1, 3)> with grad <GPUBuffer with shape (1, 3)>>)"
      ]
     },
     "execution_count": 19,
     "metadata": {},
     "output_type": "execute_result"
    }
   ],
   "source": [
    "x = DenseTensor(x_init)\n",
    "W = DenseTensor(W_init)\n",
    "m = DenseTensor(m_init)\n",
    "out = x.dot(W).relu()\n",
    "out = out.logsoftmax()\n",
    "out = out.mul(m).add(m).sum()\n",
    "out.backward()\n",
    "\n",
    "out.cpu().data, x"
   ]
  },
  {
   "cell_type": "code",
   "execution_count": 20,
   "id": "46b0ba5a",
   "metadata": {
    "scrolled": true
   },
   "outputs": [
    {
     "data": {
      "text/plain": [
       "(array([[5.48265362e+00, 2.03909588e+00, 3.19523525e+00, 2.96530652e+00,\n",
       "         3.49676870e-02, 1.02712333e+00, 6.31113350e-01, 1.40761197e-01],\n",
       "        [3.78959937e+03, 1.56201501e+03, 3.17872192e+03, 1.21048281e+04,\n",
       "         6.52186737e+01, 1.11782349e+03, 4.99647156e+02, 4.34063477e+02],\n",
       "        [2.73192188e+04, 3.04065723e+03, 6.25770557e+03, 7.45633594e+04,\n",
       "         4.13716278e+02, 3.79873853e+03, 6.76921387e+02, 2.24331470e+03],\n",
       "        [6.82212256e+03, 1.10557886e+03, 2.18046191e+03, 1.51809639e+04,\n",
       "         1.01095604e+02, 9.92445068e+02, 2.93977875e+02, 5.90937073e+02]],\n",
       "       dtype=float32),\n",
       " (4, 8))"
      ]
     },
     "execution_count": 20,
     "metadata": {},
     "output_type": "execute_result"
    }
   ],
   "source": [
    "bs = 4\n",
    "dim = 8\n",
    "\n",
    "x_init = np.random.randn(bs,dim).astype(np.float32)\n",
    "\n",
    "x2 = DenseTensor(x_init)#.gpu()\n",
    "W = SparseTensor.uniform(dim,dim, randsparsity=0.6, bs=bs)\n",
    "out = W.dot(x2).relu()\n",
    "out = W.dot(out).relu()\n",
    "out = W.dot(out).relu()\n",
    "out = W.dot(out).relu()\n",
    "out = W.dot(out).relu()\n",
    "out = W.dot(out).relu()\n",
    "\n",
    "out.backward()\n",
    "\n",
    "out.cpu().data, out.cpu().data.shape"
   ]
  },
  {
   "cell_type": "code",
   "execution_count": 21,
   "id": "7d552c4b",
   "metadata": {
    "scrolled": true
   },
   "outputs": [
    {
     "data": {
      "text/plain": [
       "(array([[ 0.      ,  0.      ,  0.      ,  0.      ,  0.      ,  0.      ,\n",
       "          0.      ,  0.      , 15.983707,  0.      ,  0.      ,  0.      ,\n",
       "          0.      ,  0.      ,  0.      ,  0.      ]], dtype=float32),\n",
       " (1, 16))"
      ]
     },
     "execution_count": 21,
     "metadata": {},
     "output_type": "execute_result"
    }
   ],
   "source": [
    "dim = 16\n",
    "x2 = DenseTensor(np.random.randn(1,dim).astype(np.float32))#.gpu()\n",
    "W = SparseTensor(randinit=(dim,dim), randsparsity=0.2)\n",
    "out = W.dot(x2).relu()\n",
    "\n",
    "out.backward()\n",
    "\n",
    "out.cpu().data, out.cpu().data.shape"
   ]
  },
  {
   "cell_type": "code",
   "execution_count": null,
   "id": "58d663a9",
   "metadata": {},
   "outputs": [],
   "source": []
  },
  {
   "cell_type": "code",
   "execution_count": null,
   "id": "aa07ec67",
   "metadata": {},
   "outputs": [],
   "source": []
  },
  {
   "cell_type": "code",
   "execution_count": null,
   "id": "a66e8cb1",
   "metadata": {},
   "outputs": [],
   "source": []
  }
 ],
 "metadata": {
  "kernelspec": {
   "display_name": "Python 3",
   "language": "python",
   "name": "python3"
  },
  "language_info": {
   "codemirror_mode": {
    "name": "ipython",
    "version": 3
   },
   "file_extension": ".py",
   "mimetype": "text/x-python",
   "name": "python",
   "nbconvert_exporter": "python",
   "pygments_lexer": "ipython3",
   "version": "3.8.12"
  }
 },
 "nbformat": 4,
 "nbformat_minor": 5
}
