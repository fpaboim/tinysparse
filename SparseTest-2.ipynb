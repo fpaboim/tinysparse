{
 "cells": [
  {
   "cell_type": "code",
   "execution_count": 1,
   "id": "4309590e",
   "metadata": {},
   "outputs": [
    {
     "name": "stdout",
     "output_type": "stream",
     "text": [
      "DEVICE:GPU\n"
     ]
    }
   ],
   "source": [
    "from tinygrad.densetensor import DenseTensor\n",
    "from tinygrad.sparsetensor import SparseTensor\n",
    "import numpy as np\n",
    "import tinygrad.optim as optim\n",
    "\n",
    "%load_ext autoreload\n",
    "%autoreload 2"
   ]
  },
  {
   "cell_type": "code",
   "execution_count": 2,
   "id": "4cb532fa",
   "metadata": {},
   "outputs": [],
   "source": [
    "x_init = np.random.randn(3,3).astype(np.float32)\n",
    "x2_init = np.random.randn(3).astype(np.float32)\n",
    "U_init = np.random.randn(3,3).astype(np.float32)\n",
    "V_init = np.random.randn(3,3).astype(np.float32)\n",
    "W_init = np.random.randn(3,3).astype(np.float32)\n",
    "m_init = np.random.randn(1,3).astype(np.float32)"
   ]
  },
  {
   "cell_type": "code",
   "execution_count": 3,
   "id": "31bf141b",
   "metadata": {},
   "outputs": [
    {
     "data": {
      "text/plain": [
       "array([[ 0.01603718,  0.20646408, -1.4635118 ],\n",
       "       [-0.04414416, -0.03207636, -1.038237  ],\n",
       "       [-0.8905831 ,  0.13894197, -0.06180749]], dtype=float32)"
      ]
     },
     "execution_count": 3,
     "metadata": {},
     "output_type": "execute_result"
    }
   ],
   "source": [
    "x_init"
   ]
  },
  {
   "cell_type": "code",
   "execution_count": 4,
   "id": "da4977ad",
   "metadata": {},
   "outputs": [
    {
     "data": {
      "text/plain": [
       "array([[-1.280417  ,  1.0253801 ,  1.4955127 ],\n",
       "       [ 0.8052573 ,  0.04673147, -0.8061982 ],\n",
       "       [ 0.33840021, -1.061602  ,  0.247293  ]], dtype=float32)"
      ]
     },
     "execution_count": 4,
     "metadata": {},
     "output_type": "execute_result"
    }
   ],
   "source": [
    "W_init"
   ]
  },
  {
   "cell_type": "code",
   "execution_count": 5,
   "id": "3fb8a745",
   "metadata": {},
   "outputs": [
    {
     "data": {
      "text/plain": [
       "(array([2.1259818], dtype=float32),\n",
       " <DenseTensor <GPUBuffer with shape (3, 3)> with grad <GPUBuffer with shape (3, 3)>>)"
      ]
     },
     "execution_count": 5,
     "metadata": {},
     "output_type": "execute_result"
    }
   ],
   "source": [
    "x = DenseTensor(x_init)\n",
    "W = DenseTensor(W_init)\n",
    "m = DenseTensor(m_init)\n",
    "out = x.dot(W).relu()\n",
    "out = out.logsoftmax()\n",
    "out = out.mul(m).add(m).sum()\n",
    "out.backward()\n",
    "\n",
    "out.cpu().data, x"
   ]
  },
  {
   "cell_type": "code",
   "execution_count": 6,
   "id": "46b0ba5a",
   "metadata": {
    "scrolled": true
   },
   "outputs": [
    {
     "name": "stdout",
     "output_type": "stream",
     "text": [
      "WEIGHT/input: <SparseTensor <GPUBuffer with shape (9,)> with grad None> <GPUBuffer with shape (3, 3)>\n",
      "warning, (3, 3) isn't float32, it's float64\n"
     ]
    },
    {
     "data": {
      "text/plain": [
       "(array([2.1259818], dtype=float32),\n",
       " <SparseTensor <GPUBuffer with shape (9,)> with grad <DenseTensor <GPUBuffer with shape (3, 3)> with grad None>>)"
      ]
     },
     "execution_count": 6,
     "metadata": {},
     "output_type": "execute_result"
    }
   ],
   "source": [
    "x = SparseTensor(x_init.T)\n",
    "W = DenseTensor(W_init.T)\n",
    "m = DenseTensor(m_init)\n",
    "out = x.dot(W).relu()\n",
    "out = out.logsoftmax()\n",
    "out = out.mul(m).add(m).sum()\n",
    "out.backward()\n",
    "\n",
    "out.cpu().data, x"
   ]
  },
  {
   "cell_type": "code",
   "execution_count": 7,
   "id": "7d552c4b",
   "metadata": {
    "scrolled": true
   },
   "outputs": [
    {
     "name": "stdout",
     "output_type": "stream",
     "text": [
      "WEIGHT/input: <SparseTensor <GPUBuffer with shape (448,)> with grad None> <GPUBuffer with shape (16, 1)>\n"
     ]
    },
    {
     "data": {
      "text/plain": [
       "(array([[0.35385808],\n",
       "        [1.3043803 ],\n",
       "        [0.5843513 ],\n",
       "        [0.11474065],\n",
       "        [0.6444051 ],\n",
       "        [0.2517727 ],\n",
       "        [0.        ],\n",
       "        [0.5577746 ],\n",
       "        [0.5868567 ],\n",
       "        [0.41644603],\n",
       "        [1.1289623 ],\n",
       "        [0.71064   ],\n",
       "        [0.16699183],\n",
       "        [1.2362077 ],\n",
       "        [0.27970877],\n",
       "        [0.9728807 ]], dtype=float32),\n",
       " (16, 1))"
      ]
     },
     "execution_count": 7,
     "metadata": {},
     "output_type": "execute_result"
    }
   ],
   "source": [
    "dim = 16\n",
    "x2 = DenseTensor(np.random.randn(dim,1).astype(np.float32))#.gpu()\n",
    "W = SparseTensor(randinit=(dim,dim), randsparsity=0.2)\n",
    "out = W.dot(x2).relu()\n",
    "\n",
    "out.backward()\n",
    "\n",
    "out.cpu().data, out.cpu().data.shape"
   ]
  },
  {
   "cell_type": "code",
   "execution_count": 8,
   "id": "727b82ef",
   "metadata": {},
   "outputs": [
    {
     "data": {
      "text/plain": [
       "array([[1.],\n",
       "       [1.],\n",
       "       [1.],\n",
       "       [1.],\n",
       "       [1.],\n",
       "       [1.],\n",
       "       [1.],\n",
       "       [1.],\n",
       "       [1.],\n",
       "       [1.],\n",
       "       [1.],\n",
       "       [1.],\n",
       "       [1.],\n",
       "       [1.],\n",
       "       [1.],\n",
       "       [1.]], dtype=float32)"
      ]
     },
     "execution_count": 8,
     "metadata": {},
     "output_type": "execute_result"
    }
   ],
   "source": [
    "out.grad.cpu().data"
   ]
  },
  {
   "cell_type": "code",
   "execution_count": null,
   "id": "58d663a9",
   "metadata": {},
   "outputs": [],
   "source": []
  },
  {
   "cell_type": "code",
   "execution_count": null,
   "id": "aa07ec67",
   "metadata": {},
   "outputs": [],
   "source": []
  },
  {
   "cell_type": "code",
   "execution_count": null,
   "id": "a66e8cb1",
   "metadata": {},
   "outputs": [],
   "source": []
  }
 ],
 "metadata": {
  "kernelspec": {
   "display_name": "Python 3",
   "language": "python",
   "name": "python3"
  },
  "language_info": {
   "codemirror_mode": {
    "name": "ipython",
    "version": 3
   },
   "file_extension": ".py",
   "mimetype": "text/x-python",
   "name": "python",
   "nbconvert_exporter": "python",
   "pygments_lexer": "ipython3",
   "version": "3.8.12"
  }
 },
 "nbformat": 4,
 "nbformat_minor": 5
}
