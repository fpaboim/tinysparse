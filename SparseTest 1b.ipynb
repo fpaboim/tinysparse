{
 "cells": [
  {
   "cell_type": "code",
   "execution_count": 1,
   "id": "4309590e",
   "metadata": {},
   "outputs": [
    {
     "name": "stdout",
     "output_type": "stream",
     "text": [
      "DEVICE:GPU\n"
     ]
    }
   ],
   "source": [
    "from tinygrad.densetensor import DenseTensor\n",
    "from tinygrad.sparsetensor import SparseTensor\n",
    "import numpy as np\n",
    "\n",
    "%load_ext autoreload\n",
    "%autoreload 2"
   ]
  },
  {
   "cell_type": "code",
   "execution_count": 2,
   "id": "4cb532fa",
   "metadata": {},
   "outputs": [],
   "source": [
    "x_init = np.random.randn(2,6).astype(np.float32)\n",
    "x2_init = np.random.randn(3).astype(np.float32)\n",
    "U_init = np.random.randn(3,3).astype(np.float32)\n",
    "V_init = np.random.randn(3,3).astype(np.float32)\n",
    "W_init = np.random.randn(6,3).astype(np.float32)\n",
    "m_init = np.random.randn(1,3).astype(np.float32)"
   ]
  },
  {
   "cell_type": "markdown",
   "id": "5551913d",
   "metadata": {},
   "source": [
    "x = DenseTensor(x_init)\n",
    "W = DenseTensor(W_init)\n",
    "m = DenseTensor(m_init)\n",
    "out = x.dot(W).relu()\n",
    "out = out.logsoftmax()\n",
    "out = out.mul(m).add(m).sum()\n",
    "out.backward()\n",
    "\n",
    "out.cpu().data, x"
   ]
  },
  {
   "cell_type": "markdown",
   "id": "62d0edbe",
   "metadata": {
    "scrolled": true
   },
   "source": [
    "x2 = DenseTensor(x2_init)#.gpu()\n",
    "W = SparseTensor(W_init)\n",
    "out = W.dot(x2).relu().sum()\n",
    "\n",
    "out.backward()\n",
    "\n",
    "out.cpu().data, x"
   ]
  },
  {
   "cell_type": "code",
   "execution_count": 3,
   "id": "c3d0659d",
   "metadata": {},
   "outputs": [],
   "source": [
    "import numpy as np\n",
    "import pyopencl as cl\n",
    "\n",
    "mf = cl.mem_flags"
   ]
  },
  {
   "cell_type": "code",
   "execution_count": 4,
   "id": "a0cc978b",
   "metadata": {},
   "outputs": [
    {
     "data": {
      "text/plain": [
       "((4, 6), (6, 3))"
      ]
     },
     "execution_count": 4,
     "metadata": {},
     "output_type": "execute_result"
    }
   ],
   "source": [
    "dim1 = 4\n",
    "dim2 = 6\n",
    "dim3 = 3\n",
    "bs = dim3\n",
    "\n",
    "ctx = cl.create_some_context()\n",
    "queue = cl.CommandQueue(ctx,\n",
    "        properties=cl.command_queue_properties.PROFILING_ENABLE)\n",
    "\n",
    "sparsity = 0.5\n",
    "\n",
    "a = np.zeros((dim1,dim2))\n",
    "b = np.zeros((dim2,dim3)).astype(np.float32)\n",
    "\n",
    "a.shape, b.shape"
   ]
  },
  {
   "cell_type": "code",
   "execution_count": 5,
   "id": "7ecf7a2b",
   "metadata": {},
   "outputs": [],
   "source": [
    "def fill_sparse(mat, sparsity=0.1):\n",
    "    indices = np.array(range(mat.shape[1]))\n",
    "    nrows = int(mat.shape[1]*sparsity)\n",
    "    for row in range(mat.shape[0]):\n",
    "        lim = nrows #+ int(np.random.random()*3)\n",
    "        mat[row][np.random.permutation(indices)[:lim]] = np.random.random(lim)\n",
    "    return mat\n",
    "\n",
    "a = fill_sparse(a, sparsity).astype(np.float32)\n",
    "b = fill_sparse(b, sparsity).astype(np.float32)"
   ]
  },
  {
   "cell_type": "code",
   "execution_count": 6,
   "id": "b32f0e9a",
   "metadata": {},
   "outputs": [
    {
     "data": {
      "text/plain": [
       "array([[0.48745027, 0.        , 0.87602866, 0.        , 0.        ,\n",
       "        0.57356703],\n",
       "       [0.        , 0.16462222, 0.        , 0.41704008, 0.6265748 ,\n",
       "        0.        ],\n",
       "       [0.        , 0.5932638 , 0.17645018, 0.        , 0.        ,\n",
       "        0.6961791 ],\n",
       "       [0.        , 0.        , 0.        , 0.7643324 , 0.93176633,\n",
       "        0.62803787]], dtype=float32)"
      ]
     },
     "execution_count": 6,
     "metadata": {},
     "output_type": "execute_result"
    }
   ],
   "source": [
    "a"
   ]
  },
  {
   "cell_type": "code",
   "execution_count": 7,
   "id": "d286d740",
   "metadata": {},
   "outputs": [
    {
     "data": {
      "text/plain": [
       "array([[0.        , 0.        , 0.4093198 ],\n",
       "       [0.        , 0.27073938, 0.        ],\n",
       "       [0.        , 0.82387215, 0.        ],\n",
       "       [0.        , 0.        , 0.26969674],\n",
       "       [0.        , 0.        , 0.2974127 ],\n",
       "       [0.        , 0.        , 0.7703394 ]], dtype=float32)"
      ]
     },
     "execution_count": 7,
     "metadata": {},
     "output_type": "execute_result"
    }
   ],
   "source": [
    "b"
   ]
  },
  {
   "cell_type": "code",
   "execution_count": 8,
   "id": "45c14776",
   "metadata": {},
   "outputs": [
    {
     "data": {
      "text/plain": [
       "array([-0.03130801,  0.01457097, -0.5051717 ], dtype=float32)"
      ]
     },
     "execution_count": 8,
     "metadata": {},
     "output_type": "execute_result"
    }
   ],
   "source": [
    "x2_init.T"
   ]
  },
  {
   "cell_type": "code",
   "execution_count": 9,
   "id": "6b2b88a2",
   "metadata": {},
   "outputs": [
    {
     "data": {
      "text/plain": [
       "(4, 3)"
      ]
     },
     "execution_count": 9,
     "metadata": {},
     "output_type": "execute_result"
    }
   ],
   "source": [
    "mult = a.dot(b)\n",
    "mult.shape"
   ]
  },
  {
   "cell_type": "code",
   "execution_count": 10,
   "id": "d33049e0",
   "metadata": {},
   "outputs": [
    {
     "data": {
      "text/plain": [
       "(4, 3)"
      ]
     },
     "execution_count": 10,
     "metadata": {},
     "output_type": "execute_result"
    }
   ],
   "source": [
    "mult.shape"
   ]
  },
  {
   "cell_type": "code",
   "execution_count": 11,
   "id": "67872651",
   "metadata": {},
   "outputs": [],
   "source": [
    "def to_data(mat):\n",
    "    all_rows = []\n",
    "    all_idxs = []\n",
    "    all_nnzs = []\n",
    "    for row in range(mat.shape[0]):\n",
    "        rowdata = []\n",
    "        colidxs = []\n",
    "        all_nnzs.append(0)\n",
    "        for col in range(mat.shape[1]):\n",
    "            val = mat[row][col]\n",
    "            if val != 0:\n",
    "                rowdata.append(val)\n",
    "                colidxs.append(col)\n",
    "                all_nnzs[-1] += 1\n",
    "        all_rows.append(rowdata)\n",
    "        all_idxs.append(colidxs)\n",
    "    \n",
    "    ellwidth = min(int(np.sqrt(np.max(all_nnzs))+1)**2, mat.shape[1])\n",
    "    #all_rows = np.array(all_rows)#.astype(np.float32).flatten()           \n",
    "    for row in range(mat.shape[0]):\n",
    "        #print(row, all_rows)\n",
    "        all_rows[row] = np.array(all_rows[row])\n",
    "        all_rows[row].resize(ellwidth)\n",
    "        all_idxs[row] = np.array(all_idxs[row])\n",
    "        all_idxs[row].resize(ellwidth)\n",
    "        #print(all_idxs[row])\n",
    "    all_rows = np.array(all_rows)\n",
    "    all_idxs = np.array(all_idxs)\n",
    "    all_nnzs = np.array(all_nnzs)\n",
    "    \n",
    "    while (not all_rows[:,-1].any()):\n",
    "        all_rows = all_rows[:,:-1]\n",
    "        all_idxs = all_idxs[:,:-1]\n",
    "        ellwidth -= 1\n",
    "        \n",
    "    \n",
    "    all_rows = np.array(all_rows).astype(np.float32).flatten()\n",
    "    all_idxs = np.array(all_idxs).astype(np.uint32).flatten()\n",
    "    \n",
    "    all_nnzs = np.array(all_nnzs).astype(np.uint32)\n",
    "    \n",
    "    \n",
    "    return all_rows, all_idxs, all_nnzs, ellwidth"
   ]
  },
  {
   "cell_type": "code",
   "execution_count": 12,
   "id": "3cc9dd5d",
   "metadata": {},
   "outputs": [],
   "source": [
    "def to_dense(data, cols, nnzs, ellw, shape):\n",
    "    out = np.zeros(shape)\n",
    "    for row in range(shape[0]):\n",
    "        for icol in range(nnzs[row]):\n",
    "            out[row,cols[row*ellw+icol]] = data[row*ellw+icol]\n",
    "    return out"
   ]
  },
  {
   "cell_type": "code",
   "execution_count": 13,
   "id": "5c9c6134",
   "metadata": {},
   "outputs": [
    {
     "data": {
      "text/plain": [
       "(array([0.48745027, 0.87602866, 0.57356703, 0.16462222, 0.41704008,\n",
       "        0.6265748 , 0.5932638 , 0.17645018, 0.6961791 , 0.7643324 ,\n",
       "        0.93176633, 0.62803787], dtype=float32),\n",
       " array([0, 2, 5, 1, 3, 4, 1, 2, 5, 3, 4, 5], dtype=uint32),\n",
       " array([3, 3, 3, 3], dtype=uint32),\n",
       " 3)"
      ]
     },
     "execution_count": 13,
     "metadata": {},
     "output_type": "execute_result"
    }
   ],
   "source": [
    "adata, acols, annz, ellwa = to_data(a)\n",
    "adata, acols, annz, ellwa"
   ]
  },
  {
   "cell_type": "code",
   "execution_count": 14,
   "id": "333f732b",
   "metadata": {},
   "outputs": [
    {
     "data": {
      "text/plain": [
       "(array([0.48745027, 0.        , 0.        , 0.16462222, 0.5932638 ,\n",
       "        0.        , 0.87602866, 0.17645018, 0.        , 0.41704008,\n",
       "        0.7643324 , 0.        , 0.6265748 , 0.93176633, 0.        ,\n",
       "        0.57356703, 0.6961791 , 0.62803787], dtype=float32),\n",
       " array([0, 0, 0, 1, 2, 0, 0, 2, 0, 1, 3, 0, 1, 3, 0, 0, 2, 3], dtype=uint32),\n",
       " array([1, 2, 2, 2, 2, 3], dtype=uint32),\n",
       " 3)"
      ]
     },
     "execution_count": 14,
     "metadata": {},
     "output_type": "execute_result"
    }
   ],
   "source": [
    "adatat, acolst, annzt, ellwat = to_data(a.T)\n",
    "adatat, acolst, annzt, ellwat"
   ]
  },
  {
   "cell_type": "code",
   "execution_count": 15,
   "id": "3746b3f8",
   "metadata": {},
   "outputs": [
    {
     "data": {
      "text/plain": [
       "(array([0.4093198 , 0.27073938, 0.82387215, 0.26969674, 0.2974127 ,\n",
       "        0.7703394 ], dtype=float32),\n",
       " array([2, 1, 1, 2, 2, 2], dtype=uint32),\n",
       " array([1, 1, 1, 1, 1, 1], dtype=uint32),\n",
       " 1)"
      ]
     },
     "execution_count": 15,
     "metadata": {},
     "output_type": "execute_result"
    }
   ],
   "source": [
    "bdata, bcols, bnnz, ellwb = to_data(b)\n",
    "bdata, bcols, bnnz, ellwb"
   ]
  },
  {
   "cell_type": "code",
   "execution_count": 16,
   "id": "2456f0d7",
   "metadata": {},
   "outputs": [
    {
     "data": {
      "text/plain": [
       "(array([0.48745027, 0.        , 0.        , 0.16462222, 0.5932638 ,\n",
       "        0.        , 0.87602866, 0.17645018, 0.        , 0.41704008,\n",
       "        0.7643324 , 0.        , 0.6265748 , 0.93176633, 0.        ,\n",
       "        0.57356703, 0.6961791 , 0.62803787], dtype=float32),\n",
       " array([0, 0, 0, 0, 1, 2, 0, 0, 0, 3, 4, 5], dtype=uint32),\n",
       " array([0, 2, 4], dtype=uint32),\n",
       " 4)"
      ]
     },
     "execution_count": 16,
     "metadata": {},
     "output_type": "execute_result"
    }
   ],
   "source": [
    "bdatat, bcolst, bnnzt, ellwbt = to_data(b.T)\n",
    "adatat, bcolst, bnnzt, ellwbt"
   ]
  },
  {
   "cell_type": "code",
   "execution_count": 17,
   "id": "a21f8921",
   "metadata": {},
   "outputs": [],
   "source": [
    "adense = to_dense(adata, acols, annz, ellwa, a.shape)"
   ]
  },
  {
   "cell_type": "code",
   "execution_count": 18,
   "id": "afddd45e",
   "metadata": {},
   "outputs": [],
   "source": [
    "adenset = to_dense(adatat, acolst, annzt, ellwat, a.T.shape)"
   ]
  },
  {
   "cell_type": "code",
   "execution_count": 19,
   "id": "265ef0d4",
   "metadata": {},
   "outputs": [],
   "source": [
    "bdense = to_dense(bdata, bcols, bnnz, ellwb, b.shape)"
   ]
  },
  {
   "cell_type": "code",
   "execution_count": 20,
   "id": "409da6b5",
   "metadata": {},
   "outputs": [],
   "source": [
    "bdenset = to_dense(bdatat, bcolst, bnnzt, ellwbt, b.T.shape)"
   ]
  },
  {
   "cell_type": "code",
   "execution_count": 21,
   "id": "1c04d184",
   "metadata": {},
   "outputs": [
    {
     "data": {
      "text/plain": [
       "array([[0.48745027, 0.        , 0.87602866, 0.        , 0.        ,\n",
       "        0.57356703],\n",
       "       [0.        , 0.16462222, 0.        , 0.41704008, 0.62657481,\n",
       "        0.        ],\n",
       "       [0.        , 0.5932638 , 0.17645018, 0.        , 0.        ,\n",
       "        0.69617909],\n",
       "       [0.        , 0.        , 0.        , 0.76433241, 0.93176633,\n",
       "        0.62803787]])"
      ]
     },
     "execution_count": 21,
     "metadata": {},
     "output_type": "execute_result"
    }
   ],
   "source": [
    "adense"
   ]
  },
  {
   "cell_type": "code",
   "execution_count": 22,
   "id": "cae2f665",
   "metadata": {},
   "outputs": [
    {
     "data": {
      "text/plain": [
       "array([[ True,  True,  True,  True,  True,  True],\n",
       "       [ True,  True,  True,  True,  True,  True],\n",
       "       [ True,  True,  True,  True,  True,  True],\n",
       "       [ True,  True,  True,  True,  True,  True]])"
      ]
     },
     "execution_count": 22,
     "metadata": {},
     "output_type": "execute_result"
    }
   ],
   "source": [
    "adenset.T == adense"
   ]
  },
  {
   "cell_type": "code",
   "execution_count": 23,
   "id": "9f2ada6f",
   "metadata": {},
   "outputs": [
    {
     "data": {
      "text/plain": [
       "array([[ True,  True,  True],\n",
       "       [ True,  True,  True],\n",
       "       [ True,  True,  True],\n",
       "       [ True,  True,  True],\n",
       "       [ True,  True,  True],\n",
       "       [ True,  True,  True]])"
      ]
     },
     "execution_count": 23,
     "metadata": {},
     "output_type": "execute_result"
    }
   ],
   "source": [
    "bdenset.T == bdense"
   ]
  },
  {
   "cell_type": "code",
   "execution_count": 24,
   "id": "570652a8",
   "metadata": {},
   "outputs": [
    {
     "data": {
      "text/plain": [
       "array([[0.48745027, 0.        , 0.87602866, 0.        , 0.        ,\n",
       "        0.57356703],\n",
       "       [0.        , 0.16462222, 0.        , 0.41704008, 0.6265748 ,\n",
       "        0.        ],\n",
       "       [0.        , 0.5932638 , 0.17645018, 0.        , 0.        ,\n",
       "        0.6961791 ],\n",
       "       [0.        , 0.        , 0.        , 0.7643324 , 0.93176633,\n",
       "        0.62803787]], dtype=float32)"
      ]
     },
     "execution_count": 24,
     "metadata": {},
     "output_type": "execute_result"
    }
   ],
   "source": [
    "a"
   ]
  },
  {
   "cell_type": "code",
   "execution_count": 25,
   "id": "b3828f92",
   "metadata": {},
   "outputs": [
    {
     "data": {
      "text/plain": [
       "array([[ True,  True,  True,  True,  True,  True],\n",
       "       [ True,  True,  True,  True,  True,  True],\n",
       "       [ True,  True,  True,  True,  True,  True],\n",
       "       [ True,  True,  True,  True,  True,  True]])"
      ]
     },
     "execution_count": 25,
     "metadata": {},
     "output_type": "execute_result"
    }
   ],
   "source": [
    "a == adense"
   ]
  },
  {
   "cell_type": "code",
   "execution_count": 26,
   "id": "d8e29e3c",
   "metadata": {},
   "outputs": [
    {
     "data": {
      "text/plain": [
       "(4, 6)"
      ]
     },
     "execution_count": 26,
     "metadata": {},
     "output_type": "execute_result"
    }
   ],
   "source": [
    "a.shape"
   ]
  },
  {
   "cell_type": "code",
   "execution_count": 27,
   "id": "233fb7fe",
   "metadata": {},
   "outputs": [
    {
     "data": {
      "text/plain": [
       "((12,), (12,), (4,), 3)"
      ]
     },
     "execution_count": 27,
     "metadata": {},
     "output_type": "execute_result"
    }
   ],
   "source": [
    "adata.shape, acols.shape, annz.shape, ellwa"
   ]
  },
  {
   "cell_type": "code",
   "execution_count": 28,
   "id": "fbb29574",
   "metadata": {},
   "outputs": [],
   "source": [
    "#acols = acols.astype(np.uint32)\n",
    "#annz = annz.astype(np.uint32)"
   ]
  },
  {
   "cell_type": "code",
   "execution_count": 29,
   "id": "008c1a26",
   "metadata": {},
   "outputs": [
    {
     "data": {
      "text/plain": [
       "(array([0.48745027, 0.87602866, 0.57356703, 0.16462222, 0.41704008,\n",
       "        0.6265748 , 0.5932638 , 0.17645018, 0.6961791 , 0.7643324 ,\n",
       "        0.93176633, 0.62803787], dtype=float32),\n",
       " array([0, 2, 5, 1, 3, 4, 1, 2, 5, 3, 4, 5], dtype=uint32),\n",
       " array([3, 3, 3, 3], dtype=uint32),\n",
       " array([[0.        , 0.        , 0.4093198 ],\n",
       "        [0.        , 0.27073938, 0.        ],\n",
       "        [0.        , 0.82387215, 0.        ],\n",
       "        [0.        , 0.        , 0.26969674],\n",
       "        [0.        , 0.        , 0.2974127 ],\n",
       "        [0.        , 0.        , 0.7703394 ]], dtype=float32))"
      ]
     },
     "execution_count": 29,
     "metadata": {},
     "output_type": "execute_result"
    }
   ],
   "source": [
    "adata, acols, annz, b"
   ]
  },
  {
   "cell_type": "markdown",
   "id": "0c247b79",
   "metadata": {},
   "source": [
    "## MatMul (Sparse-Dense)"
   ]
  },
  {
   "cell_type": "markdown",
   "id": "aad78213",
   "metadata": {},
   "source": [
    "adata_buf = cl.Buffer(ctx, mf.READ_WRITE | mf.COPY_HOST_PTR, hostbuf=adata)\n",
    "acols_buf = cl.Buffer(ctx, mf.READ_WRITE | mf.COPY_HOST_PTR, hostbuf=acols)\n",
    "annzs_buf = cl.Buffer(ctx, mf.READ_WRITE | mf.COPY_HOST_PTR, hostbuf=annz)\n",
    "adatat_buf = cl.Buffer(ctx, mf.READ_WRITE | mf.COPY_HOST_PTR, hostbuf=adatat)\n",
    "acolst_buf = cl.Buffer(ctx, mf.READ_WRITE | mf.COPY_HOST_PTR, hostbuf=acolst)\n",
    "annzst_buf = cl.Buffer(ctx, mf.READ_WRITE | mf.COPY_HOST_PTR, hostbuf=annzt)\n",
    "b_buf = cl.Buffer(ctx, mf.READ_WRITE | mf.COPY_HOST_PTR, hostbuf=b)\n",
    "\n",
    "prg = cl.Program(ctx, \"\"\"\n",
    "    // SPARSE x DENSE\n",
    "    __kernel void matmul2(__global  float* matData,     // INPUT MATRIX DATA\n",
    "                            __global  uint*  colIdx,\n",
    "                            __global  uint*  rowNnz,\n",
    "                            uint   ellwidth,\n",
    "                            uint ncols,\n",
    "                            __global  float* vector_x,    // INPUT\n",
    "                            __global  float* vector_y    // OUTPUT\n",
    "                            ) { // LOCAL SHARED BUFFER\n",
    "      uint gid = get_global_id(0);\n",
    "      uint nrows = get_global_size(0);\n",
    "      \n",
    "\n",
    "      uint nnz    = rowNnz[gid];\n",
    "      float sum = 0;\n",
    "      for (uint gid2 = 0; gid2 < ncols; gid2++) {\n",
    "        for (uint i = 0; i < nnz; i++) {\n",
    "          uint index   = (gid * ellwidth) + i;\n",
    "          uint col     = colIdx[index];\n",
    "          float aval  = matData[index];\n",
    "          float xval  = vector_x[col*ncols+gid2];\n",
    "          //if (gid==0 && gid2==2)\n",
    "          //  printf(\"aval, xval: %.2f,%.2f: (%i,%i) \\\\n\", aval, xval, col, index);\n",
    "          sum  += aval * xval;\n",
    "        }\n",
    "        //printf(\"SUM/NNZ: %.2f %i \\\\n\", sum, nnz);\n",
    "        vector_y[gid*ncols+gid2] = sum;\n",
    "      }\n",
    "    }\"\"\").build()"
   ]
  },
  {
   "cell_type": "code",
   "execution_count": 30,
   "id": "fb0ca1f4",
   "metadata": {},
   "outputs": [],
   "source": [
    "adata_buf = cl.Buffer(ctx, mf.READ_WRITE | mf.COPY_HOST_PTR, hostbuf=adata)\n",
    "acols_buf = cl.Buffer(ctx, mf.READ_WRITE | mf.COPY_HOST_PTR, hostbuf=acols)\n",
    "annzs_buf = cl.Buffer(ctx, mf.READ_WRITE | mf.COPY_HOST_PTR, hostbuf=annz)\n",
    "adatat_buf = cl.Buffer(ctx, mf.READ_WRITE | mf.COPY_HOST_PTR, hostbuf=adatat)\n",
    "acolst_buf = cl.Buffer(ctx, mf.READ_WRITE | mf.COPY_HOST_PTR, hostbuf=acolst)\n",
    "annzst_buf = cl.Buffer(ctx, mf.READ_WRITE | mf.COPY_HOST_PTR, hostbuf=annzt)\n",
    "b_buf = cl.Buffer(ctx, mf.READ_WRITE | mf.COPY_HOST_PTR, hostbuf=b)\n",
    "\n",
    "prg = cl.Program(ctx, \"\"\"\n",
    "    // SPARSE x DENSE\n",
    "    __kernel void matmul2(__global  float* matData,     // INPUT MATRIX DATA\n",
    "                            __global  uint*  colIdx,\n",
    "                            __global  uint*  rowNnz,\n",
    "                            uint   ellwidth,\n",
    "                            uint ncols,\n",
    "                            __global  float* vector_x,    // INPUT\n",
    "                            __global  float* vector_y    // OUTPUT\n",
    "                            ) { // LOCAL SHARED BUFFER\n",
    "      uint gid = get_global_id(0);\n",
    "      uint nrows = get_global_size(0);\n",
    "      \n",
    "\n",
    "      uint nnz    = rowNnz[gid];\n",
    "      \n",
    "      for (uint gid2 = 0; gid2 < ncols; gid2++) {\n",
    "        float sum = 0;\n",
    "        for (uint i = 0; i < nnz; i++) {\n",
    "          uint index   = (gid * ellwidth) + i;\n",
    "          uint col     = colIdx[index];\n",
    "          float aval  = matData[index];\n",
    "          uint xidx = col*ncols+gid2;\n",
    "          float xval  = vector_x[xidx];\n",
    "          if (gid==0 && gid2==1)\n",
    "            printf(\"aval, xval: %.2f,%.2f: (%i,%i) - %i \\\\n\", aval, xval, col, index, xidx);\n",
    "          sum  += aval * xval;\n",
    "        }\n",
    "        //printf(\"SUM/NNZ: %.2f %i \\\\n\", sum, nnz);\n",
    "        vector_y[gid*ncols+gid2] = sum;\n",
    "      }\n",
    "    }\"\"\").build()"
   ]
  },
  {
   "cell_type": "code",
   "execution_count": 31,
   "id": "b4c85bcb",
   "metadata": {},
   "outputs": [
    {
     "data": {
      "text/plain": [
       "((4, 6), (6, 3))"
      ]
     },
     "execution_count": 31,
     "metadata": {},
     "output_type": "execute_result"
    }
   ],
   "source": [
    "a.shape, b.shape"
   ]
  },
  {
   "cell_type": "code",
   "execution_count": 32,
   "id": "c740a4fe",
   "metadata": {},
   "outputs": [],
   "source": [
    "res = np.zeros(a.shape[0]).astype(np.float32)\n",
    "#res"
   ]
  },
  {
   "cell_type": "code",
   "execution_count": 33,
   "id": "07aa4d30",
   "metadata": {},
   "outputs": [],
   "source": [
    "rows = a.shape[0]"
   ]
  },
  {
   "cell_type": "code",
   "execution_count": 34,
   "id": "98da857f",
   "metadata": {},
   "outputs": [],
   "source": [
    "mult = mult.astype(np.float32)"
   ]
  },
  {
   "cell_type": "code",
   "execution_count": 35,
   "id": "350bdb16",
   "metadata": {},
   "outputs": [
    {
     "data": {
      "text/plain": [
       "(4, 3)"
      ]
     },
     "execution_count": 35,
     "metadata": {},
     "output_type": "execute_result"
    }
   ],
   "source": [
    "outshape = (a.shape[0], b.shape[1])\n",
    "outshape"
   ]
  },
  {
   "cell_type": "code",
   "execution_count": 36,
   "id": "cc7365fc",
   "metadata": {},
   "outputs": [
    {
     "name": "stdout",
     "output_type": "stream",
     "text": [
      "aval, xval: 0.49,0.00: (0,0) - 1 \n",
      "aval, xval: 0.88,0.82: (2,1) - 7 \n",
      "aval, xval: 0.57,0.00: (5,2) - 16 \n"
     ]
    },
    {
     "data": {
      "text/plain": [
       "<pyopencl._cl.NannyEvent at 0x7f837011a0e0>"
      ]
     },
     "execution_count": 36,
     "metadata": {},
     "output_type": "execute_result"
    }
   ],
   "source": [
    "res_buf = cl.Buffer(ctx, mf.READ_WRITE, np.prod(outshape)*4)\n",
    "knl = prg.matmul2  # Use this Kernel object for repeated calls\n",
    "knl(queue, [outshape[0]], None, adata_buf, acols_buf, annzs_buf, np.uint32(ellwa), np.uint32(outshape[1]), b_buf, res_buf)\n",
    "\n",
    "res_np = np.zeros(outshape).astype(np.float32)\n",
    "cl.enqueue_copy(queue, res_np, res_buf)"
   ]
  },
  {
   "cell_type": "code",
   "execution_count": 37,
   "id": "e2181f67",
   "metadata": {},
   "outputs": [
    {
     "data": {
      "text/plain": [
       "0.0"
      ]
     },
     "execution_count": 37,
     "metadata": {},
     "output_type": "execute_result"
    }
   ],
   "source": [
    "(res_np-mult).sum()"
   ]
  },
  {
   "cell_type": "code",
   "execution_count": 38,
   "id": "79390719",
   "metadata": {},
   "outputs": [
    {
     "data": {
      "text/plain": [
       "array([[0.48745027, 0.        , 0.87602866, 0.        , 0.        ,\n",
       "        0.57356703],\n",
       "       [0.        , 0.16462222, 0.        , 0.41704008, 0.6265748 ,\n",
       "        0.        ],\n",
       "       [0.        , 0.5932638 , 0.17645018, 0.        , 0.        ,\n",
       "        0.6961791 ],\n",
       "       [0.        , 0.        , 0.        , 0.7643324 , 0.93176633,\n",
       "        0.62803787]], dtype=float32)"
      ]
     },
     "execution_count": 38,
     "metadata": {},
     "output_type": "execute_result"
    }
   ],
   "source": [
    "a"
   ]
  },
  {
   "cell_type": "code",
   "execution_count": 39,
   "id": "a53bcc0b",
   "metadata": {},
   "outputs": [
    {
     "data": {
      "text/plain": [
       "array([[0.        , 0.        , 0.4093198 ],\n",
       "       [0.        , 0.27073938, 0.        ],\n",
       "       [0.        , 0.82387215, 0.        ],\n",
       "       [0.        , 0.        , 0.26969674],\n",
       "       [0.        , 0.        , 0.2974127 ],\n",
       "       [0.        , 0.        , 0.7703394 ]], dtype=float32)"
      ]
     },
     "execution_count": 39,
     "metadata": {},
     "output_type": "execute_result"
    }
   ],
   "source": [
    "b"
   ]
  },
  {
   "cell_type": "code",
   "execution_count": 40,
   "id": "33d8a584",
   "metadata": {},
   "outputs": [
    {
     "data": {
      "text/plain": [
       "<pyopencl._cl.Buffer at 0x7f837017dae0>"
      ]
     },
     "execution_count": 40,
     "metadata": {},
     "output_type": "execute_result"
    }
   ],
   "source": [
    "res_buf"
   ]
  },
  {
   "cell_type": "code",
   "execution_count": 41,
   "id": "99faec15",
   "metadata": {},
   "outputs": [
    {
     "data": {
      "text/plain": [
       "array([[0.        , 0.7217356 , 0.64136434],\n",
       "       [0.        , 0.04456972, 0.29882565],\n",
       "       [0.        , 0.30599225, 0.5362942 ],\n",
       "       [0.        , 0.        , 0.96705943]], dtype=float32)"
      ]
     },
     "execution_count": 41,
     "metadata": {},
     "output_type": "execute_result"
    }
   ],
   "source": [
    "res_np"
   ]
  },
  {
   "cell_type": "code",
   "execution_count": 42,
   "id": "4da1c066",
   "metadata": {},
   "outputs": [
    {
     "data": {
      "text/plain": [
       "array([[0.        , 0.7217356 , 0.64136434],\n",
       "       [0.        , 0.04456972, 0.29882565],\n",
       "       [0.        , 0.30599225, 0.5362942 ],\n",
       "       [0.        , 0.        , 0.96705943]], dtype=float32)"
      ]
     },
     "execution_count": 42,
     "metadata": {},
     "output_type": "execute_result"
    }
   ],
   "source": [
    "mult"
   ]
  },
  {
   "cell_type": "code",
   "execution_count": 43,
   "id": "0ca8d088",
   "metadata": {},
   "outputs": [
    {
     "data": {
      "text/plain": [
       "array([[ True,  True,  True],\n",
       "       [ True,  True,  True],\n",
       "       [ True,  True,  True],\n",
       "       [ True,  True,  True]])"
      ]
     },
     "execution_count": 43,
     "metadata": {},
     "output_type": "execute_result"
    }
   ],
   "source": [
    "res_np==mult"
   ]
  },
  {
   "cell_type": "code",
   "execution_count": 44,
   "id": "c197fea2",
   "metadata": {},
   "outputs": [
    {
     "data": {
      "text/plain": [
       "(4, 3)"
      ]
     },
     "execution_count": 44,
     "metadata": {},
     "output_type": "execute_result"
    }
   ],
   "source": [
    "res_np.shape"
   ]
  },
  {
   "cell_type": "code",
   "execution_count": 45,
   "id": "b20b9da3",
   "metadata": {},
   "outputs": [
    {
     "data": {
      "text/plain": [
       "(4, 3)"
      ]
     },
     "execution_count": 45,
     "metadata": {},
     "output_type": "execute_result"
    }
   ],
   "source": [
    "mult.shape"
   ]
  },
  {
   "cell_type": "markdown",
   "id": "020471e7",
   "metadata": {},
   "source": [
    "## MatMul (dense * sparse)"
   ]
  },
  {
   "cell_type": "code",
   "execution_count": 46,
   "id": "dc619c6d",
   "metadata": {},
   "outputs": [],
   "source": [
    "bdata_buf = cl.Buffer(ctx, mf.READ_WRITE | mf.COPY_HOST_PTR, hostbuf=bdata)\n",
    "bcols_buf = cl.Buffer(ctx, mf.READ_WRITE | mf.COPY_HOST_PTR, hostbuf=bcols)\n",
    "bnnzs_buf = cl.Buffer(ctx, mf.READ_WRITE | mf.COPY_HOST_PTR, hostbuf=bnnz)\n",
    "bdatat_buf = cl.Buffer(ctx, mf.READ_WRITE | mf.COPY_HOST_PTR, hostbuf=bdatat)\n",
    "bcolst_buf = cl.Buffer(ctx, mf.READ_WRITE | mf.COPY_HOST_PTR, hostbuf=bcolst)\n",
    "bnnzst_buf = cl.Buffer(ctx, mf.READ_WRITE | mf.COPY_HOST_PTR, hostbuf=bnnzt)\n",
    "a_buf = cl.Buffer(ctx, mf.READ_WRITE | mf.COPY_HOST_PTR, hostbuf=a)\n",
    "\n",
    "prg = cl.Program(ctx, \"\"\"\n",
    "    // DENSE x SPARSE\n",
    "    __kernel void matmul(__global  float* matData,     // INPUT MATRIX DATA\n",
    "                            __global  uint*  colIdx,\n",
    "                            __global  uint*  rowNnz,\n",
    "                            uint   ellwidth,\n",
    "                            uint   mwidth,\n",
    "                            uint   ncols,\n",
    "                            __global  float* vector_x,    // INPUT\n",
    "                            __global  float* vector_y    // OUTPUT\n",
    "                            ) { // LOCAL SHARED BUFFER\n",
    "      uint gid = get_global_id(0);\n",
    "      uint nrows = get_global_size(0);\n",
    "\n",
    "      for (uint gid2 = 0; gid2 < ncols; gid2++) {\n",
    "        uint nnz = rowNnz[gid2];\n",
    "        float sum = 0;\n",
    "        for (uint i = 0; i < nnz; i++) {\n",
    "          uint index   = (gid2 * ellwidth) + i;\n",
    "          uint col     = colIdx[index];\n",
    "          float aval  = matData[index];\n",
    "          float xval  = vector_x[gid*mwidth+col];\n",
    "          sum  += aval * xval;\n",
    "          if (gid==0 && gid2==0)\n",
    "            printf(\"aval, xval: %.2f,%.2f - %.2f: (%i,%i) \\\\n\", aval, xval, sum, col, index);\n",
    "        }\n",
    "        //printf(\"SUM/NNZ: %.2f %i \\\\n\", sum, nnz);\n",
    "        vector_y[gid*ncols+gid2] = sum;\n",
    "      }\n",
    "    }\"\"\").build()"
   ]
  },
  {
   "cell_type": "code",
   "execution_count": 47,
   "id": "65b33635",
   "metadata": {},
   "outputs": [
    {
     "data": {
      "text/plain": [
       "((4, 6), (6, 3))"
      ]
     },
     "execution_count": 47,
     "metadata": {},
     "output_type": "execute_result"
    }
   ],
   "source": [
    "a.shape, b.shape"
   ]
  },
  {
   "cell_type": "code",
   "execution_count": 48,
   "id": "1133e820",
   "metadata": {},
   "outputs": [],
   "source": [
    "res = np.zeros(a.shape[0]).astype(np.float32)\n",
    "#res"
   ]
  },
  {
   "cell_type": "code",
   "execution_count": 49,
   "id": "c5fb4354",
   "metadata": {},
   "outputs": [],
   "source": [
    "rows = a.shape[0]"
   ]
  },
  {
   "cell_type": "code",
   "execution_count": 50,
   "id": "2d2074e5",
   "metadata": {},
   "outputs": [],
   "source": [
    "mult = mult.astype(np.float32)"
   ]
  },
  {
   "cell_type": "code",
   "execution_count": 51,
   "id": "62207659",
   "metadata": {},
   "outputs": [
    {
     "data": {
      "text/plain": [
       "array([4, 3])"
      ]
     },
     "execution_count": 51,
     "metadata": {},
     "output_type": "execute_result"
    }
   ],
   "source": [
    "outshape = np.array([a.shape[0], b.shape[1]])\n",
    "outshape"
   ]
  },
  {
   "cell_type": "code",
   "execution_count": 52,
   "id": "48bda7d1",
   "metadata": {},
   "outputs": [
    {
     "data": {
      "text/plain": [
       "array([[0.        , 0.        , 0.        , 0.        , 0.        ,\n",
       "        0.        ],\n",
       "       [0.        , 0.27073938, 0.82387215, 0.        , 0.        ,\n",
       "        0.        ],\n",
       "       [0.4093198 , 0.        , 0.        , 0.26969674, 0.2974127 ,\n",
       "        0.7703394 ]], dtype=float32)"
      ]
     },
     "execution_count": 52,
     "metadata": {},
     "output_type": "execute_result"
    }
   ],
   "source": [
    "b.T"
   ]
  },
  {
   "cell_type": "code",
   "execution_count": 53,
   "id": "e81754e5",
   "metadata": {},
   "outputs": [
    {
     "data": {
      "text/plain": [
       "array([[0.48745027, 0.        , 0.        , 0.        ],\n",
       "       [0.        , 0.16462222, 0.5932638 , 0.        ],\n",
       "       [0.87602866, 0.        , 0.17645018, 0.        ],\n",
       "       [0.        , 0.41704008, 0.        , 0.7643324 ],\n",
       "       [0.        , 0.6265748 , 0.        , 0.93176633],\n",
       "       [0.57356703, 0.        , 0.6961791 , 0.62803787]], dtype=float32)"
      ]
     },
     "execution_count": 53,
     "metadata": {},
     "output_type": "execute_result"
    }
   ],
   "source": [
    "a.T"
   ]
  },
  {
   "cell_type": "code",
   "execution_count": 54,
   "id": "a4aa52cb",
   "metadata": {},
   "outputs": [
    {
     "data": {
      "text/plain": [
       "array([4, 3])"
      ]
     },
     "execution_count": 54,
     "metadata": {},
     "output_type": "execute_result"
    }
   ],
   "source": [
    "outshape.T"
   ]
  },
  {
   "cell_type": "code",
   "execution_count": 55,
   "id": "35754fb9",
   "metadata": {},
   "outputs": [
    {
     "data": {
      "text/plain": [
       "<pyopencl._cl.NannyEvent at 0x7f837012d680>"
      ]
     },
     "execution_count": 55,
     "metadata": {},
     "output_type": "execute_result"
    }
   ],
   "source": [
    "res_buf = cl.Buffer(ctx, mf.READ_WRITE, np.prod(outshape)*4)\n",
    "knl = prg.matmul  # Use this Kernel object for repeated calls\n",
    "knl(queue, [outshape.T[0]], None, bdatat_buf, bcolst_buf, bnnzst_buf, np.uint32(ellwbt), np.uint32(b.shape[0]), np.uint32(outshape.T[1]), a_buf, res_buf)\n",
    "\n",
    "res_np = np.zeros(outshape).astype(np.float32)\n",
    "cl.enqueue_copy(queue, res_np, res_buf)"
   ]
  },
  {
   "cell_type": "code",
   "execution_count": 56,
   "id": "23cf552a",
   "metadata": {},
   "outputs": [
    {
     "data": {
      "text/plain": [
       "0.0"
      ]
     },
     "execution_count": 56,
     "metadata": {},
     "output_type": "execute_result"
    }
   ],
   "source": [
    "(res_np-mult).sum()"
   ]
  },
  {
   "cell_type": "code",
   "execution_count": 57,
   "id": "99d10b20",
   "metadata": {},
   "outputs": [
    {
     "data": {
      "text/plain": [
       "array([[0.48745027, 0.        , 0.87602866, 0.        , 0.        ,\n",
       "        0.57356703],\n",
       "       [0.        , 0.16462222, 0.        , 0.41704008, 0.6265748 ,\n",
       "        0.        ],\n",
       "       [0.        , 0.5932638 , 0.17645018, 0.        , 0.        ,\n",
       "        0.6961791 ],\n",
       "       [0.        , 0.        , 0.        , 0.7643324 , 0.93176633,\n",
       "        0.62803787]], dtype=float32)"
      ]
     },
     "execution_count": 57,
     "metadata": {},
     "output_type": "execute_result"
    }
   ],
   "source": [
    "a"
   ]
  },
  {
   "cell_type": "code",
   "execution_count": 58,
   "id": "85fb2a81",
   "metadata": {},
   "outputs": [
    {
     "data": {
      "text/plain": [
       "array([[0.        , 0.        , 0.4093198 ],\n",
       "       [0.        , 0.27073938, 0.        ],\n",
       "       [0.        , 0.82387215, 0.        ],\n",
       "       [0.        , 0.        , 0.26969674],\n",
       "       [0.        , 0.        , 0.2974127 ],\n",
       "       [0.        , 0.        , 0.7703394 ]], dtype=float32)"
      ]
     },
     "execution_count": 58,
     "metadata": {},
     "output_type": "execute_result"
    }
   ],
   "source": [
    "b"
   ]
  },
  {
   "cell_type": "code",
   "execution_count": 59,
   "id": "ee65b3de",
   "metadata": {},
   "outputs": [
    {
     "data": {
      "text/plain": [
       "<pyopencl._cl.Buffer at 0x7f83701278b0>"
      ]
     },
     "execution_count": 59,
     "metadata": {},
     "output_type": "execute_result"
    }
   ],
   "source": [
    "res_buf"
   ]
  },
  {
   "cell_type": "code",
   "execution_count": 60,
   "id": "15e6ab60",
   "metadata": {},
   "outputs": [
    {
     "data": {
      "text/plain": [
       "array([[0.        , 0.7217356 , 0.64136434],\n",
       "       [0.        , 0.04456972, 0.29882565],\n",
       "       [0.        , 0.30599225, 0.5362942 ],\n",
       "       [0.        , 0.        , 0.96705943]], dtype=float32)"
      ]
     },
     "execution_count": 60,
     "metadata": {},
     "output_type": "execute_result"
    }
   ],
   "source": [
    "res_np"
   ]
  },
  {
   "cell_type": "code",
   "execution_count": 61,
   "id": "ea2ac480",
   "metadata": {},
   "outputs": [
    {
     "data": {
      "text/plain": [
       "array([[0.        , 0.7217356 , 0.64136434],\n",
       "       [0.        , 0.04456972, 0.29882565],\n",
       "       [0.        , 0.30599225, 0.5362942 ],\n",
       "       [0.        , 0.        , 0.96705943]], dtype=float32)"
      ]
     },
     "execution_count": 61,
     "metadata": {},
     "output_type": "execute_result"
    }
   ],
   "source": [
    "mult"
   ]
  },
  {
   "cell_type": "code",
   "execution_count": 62,
   "id": "232d2e9c",
   "metadata": {},
   "outputs": [
    {
     "data": {
      "text/plain": [
       "array([[ True,  True,  True],\n",
       "       [ True,  True,  True],\n",
       "       [ True,  True,  True],\n",
       "       [ True,  True,  True]])"
      ]
     },
     "execution_count": 62,
     "metadata": {},
     "output_type": "execute_result"
    }
   ],
   "source": [
    "res_np==mult"
   ]
  },
  {
   "cell_type": "code",
   "execution_count": 63,
   "id": "315f252f",
   "metadata": {},
   "outputs": [
    {
     "data": {
      "text/plain": [
       "array([[0., 0., 0.],\n",
       "       [0., 0., 0.],\n",
       "       [0., 0., 0.],\n",
       "       [0., 0., 0.]], dtype=float32)"
      ]
     },
     "execution_count": 63,
     "metadata": {},
     "output_type": "execute_result"
    }
   ],
   "source": [
    "res_np-mult"
   ]
  },
  {
   "cell_type": "code",
   "execution_count": 64,
   "id": "3cc1c589",
   "metadata": {},
   "outputs": [
    {
     "data": {
      "text/plain": [
       "(4, 3)"
      ]
     },
     "execution_count": 64,
     "metadata": {},
     "output_type": "execute_result"
    }
   ],
   "source": [
    "res_np.shape"
   ]
  },
  {
   "cell_type": "code",
   "execution_count": 65,
   "id": "7c621598",
   "metadata": {},
   "outputs": [
    {
     "data": {
      "text/plain": [
       "(4, 3)"
      ]
     },
     "execution_count": 65,
     "metadata": {},
     "output_type": "execute_result"
    }
   ],
   "source": [
    "mult.shape"
   ]
  },
  {
   "cell_type": "markdown",
   "id": "cdc9f0be",
   "metadata": {},
   "source": [
    "# Matmult Dense Dense"
   ]
  },
  {
   "cell_type": "code",
   "execution_count": 66,
   "id": "d3eeacb6",
   "metadata": {},
   "outputs": [],
   "source": [
    "b_buf2 = cl.Buffer(ctx, mf.READ_WRITE | mf.COPY_HOST_PTR, hostbuf=b)\n",
    "a_buf = cl.Buffer(ctx, mf.READ_WRITE | mf.COPY_HOST_PTR, hostbuf=a)\n",
    "\n",
    "prg = cl.Program(ctx, \"\"\"\n",
    "    // multilplies x by y WITH Y TRANSPOSED INDEXING\n",
    "    __kernel void matmul0(__global  float* x,     // INPUT MATRIX DATA\n",
    "                          __global  float* y,    // INPUT\n",
    "                          __global  float* res,    // INPUT\n",
    "                          uint msize\n",
    "                          ) { // LOCAL SHARED BUFFER\n",
    "      uint isize = get_global_size(0);\n",
    "      uint osize = get_global_size(1);\n",
    "      int gidx = get_global_id(0); // row\n",
    "      int gidy = get_global_id(1); // col\n",
    "\n",
    "      float ret = 0.0;\n",
    "      for (int i = 0; i < msize; i++) {\n",
    "        uint xidx = gidx*msize+i; \n",
    "        float xval = x[xidx];\n",
    "        uint yidx = osize*i+gidy;\n",
    "        float yval = y[yidx];\n",
    "        ret += xval*yval;\n",
    "        if (gidx==0 && gidy==0)\n",
    "          printf(\"\\\\nmult: %.2f x %.2f - %.2f  -- %i/%i\", xval, yval, res, xidx, yidx);\n",
    "      }\n",
    "\n",
    "      //if (gidx==0&&gidy==0)\n",
    "      //  printf(\"\\\\nsum:%.2f\", ret);\n",
    "      res[gidx * osize + gidy] = ret;\n",
    "    }\"\"\").build()"
   ]
  },
  {
   "cell_type": "code",
   "execution_count": 67,
   "id": "ee0aabda",
   "metadata": {},
   "outputs": [
    {
     "data": {
      "text/plain": [
       "((4, 6), (6, 3))"
      ]
     },
     "execution_count": 67,
     "metadata": {},
     "output_type": "execute_result"
    }
   ],
   "source": [
    "a.shape, b.shape"
   ]
  },
  {
   "cell_type": "code",
   "execution_count": 68,
   "id": "938f25f9",
   "metadata": {},
   "outputs": [],
   "source": [
    "rows = a.shape[0]"
   ]
  },
  {
   "cell_type": "code",
   "execution_count": 69,
   "id": "d19122ca",
   "metadata": {},
   "outputs": [],
   "source": [
    "mult = mult.astype(np.float32)"
   ]
  },
  {
   "cell_type": "code",
   "execution_count": 70,
   "id": "17176ece",
   "metadata": {},
   "outputs": [
    {
     "name": "stdout",
     "output_type": "stream",
     "text": [
      "\n",
      "mult: 0.49 x 0.00 - 0.00  -- 0/0\n",
      "mult: 0.00 x 0.00 - 0.00  -- 1/3\n",
      "mult: 0.88 x 0.00 - 0.00  -- 2/6\n",
      "mult: 0.00 x 0.00 - 0.00  -- 3/9\n",
      "mult: 0.00 x 0.00 - 0.00  -- 4/12\n",
      "mult: 0.57 x 0.00 - 0.00  -- 5/15"
     ]
    },
    {
     "data": {
      "text/plain": [
       "<pyopencl._cl.NannyEvent at 0x7f837013de00>"
      ]
     },
     "execution_count": 70,
     "metadata": {},
     "output_type": "execute_result"
    }
   ],
   "source": [
    "res_buf = cl.Buffer(ctx, mf.READ_WRITE, np.prod([rows,b.shape[1]])*4)\n",
    "knl = prg.matmul0  # Use this Kernel object for repeated calls\n",
    "knl(queue, [rows,b.shape[1]], None, a_buf, b_buf2, res_buf, np.uint32(a.shape[1]))\n",
    "\n",
    "res_np = np.zeros([rows,b.shape[1]]).astype(np.float32)\n",
    "cl.enqueue_copy(queue, res_np, res_buf)"
   ]
  },
  {
   "cell_type": "code",
   "execution_count": 71,
   "id": "2e20ef7a",
   "metadata": {},
   "outputs": [
    {
     "data": {
      "text/plain": [
       "0.0"
      ]
     },
     "execution_count": 71,
     "metadata": {},
     "output_type": "execute_result"
    }
   ],
   "source": [
    "(res_np-mult).sum()"
   ]
  },
  {
   "cell_type": "code",
   "execution_count": 72,
   "id": "13304b53",
   "metadata": {},
   "outputs": [
    {
     "data": {
      "text/plain": [
       "array([[0.48745027, 0.        , 0.87602866, 0.        , 0.        ,\n",
       "        0.57356703],\n",
       "       [0.        , 0.16462222, 0.        , 0.41704008, 0.6265748 ,\n",
       "        0.        ],\n",
       "       [0.        , 0.5932638 , 0.17645018, 0.        , 0.        ,\n",
       "        0.6961791 ],\n",
       "       [0.        , 0.        , 0.        , 0.7643324 , 0.93176633,\n",
       "        0.62803787]], dtype=float32)"
      ]
     },
     "execution_count": 72,
     "metadata": {},
     "output_type": "execute_result"
    }
   ],
   "source": [
    "a"
   ]
  },
  {
   "cell_type": "code",
   "execution_count": 73,
   "id": "1678d389",
   "metadata": {},
   "outputs": [
    {
     "data": {
      "text/plain": [
       "array([[0.        , 0.        , 0.4093198 ],\n",
       "       [0.        , 0.27073938, 0.        ],\n",
       "       [0.        , 0.82387215, 0.        ],\n",
       "       [0.        , 0.        , 0.26969674],\n",
       "       [0.        , 0.        , 0.2974127 ],\n",
       "       [0.        , 0.        , 0.7703394 ]], dtype=float32)"
      ]
     },
     "execution_count": 73,
     "metadata": {},
     "output_type": "execute_result"
    }
   ],
   "source": [
    "b"
   ]
  },
  {
   "cell_type": "code",
   "execution_count": 74,
   "id": "6afa1b35",
   "metadata": {},
   "outputs": [
    {
     "data": {
      "text/plain": [
       "array([[0.        , 0.7217356 , 0.64136434],\n",
       "       [0.        , 0.04456972, 0.29882565],\n",
       "       [0.        , 0.30599225, 0.5362942 ],\n",
       "       [0.        , 0.        , 0.96705943]], dtype=float32)"
      ]
     },
     "execution_count": 74,
     "metadata": {},
     "output_type": "execute_result"
    }
   ],
   "source": [
    "res_np"
   ]
  },
  {
   "cell_type": "code",
   "execution_count": 75,
   "id": "16178e90",
   "metadata": {},
   "outputs": [
    {
     "data": {
      "text/plain": [
       "array([[0.        , 0.7217356 , 0.64136434],\n",
       "       [0.        , 0.04456972, 0.29882565],\n",
       "       [0.        , 0.30599225, 0.5362942 ],\n",
       "       [0.        , 0.        , 0.96705943]], dtype=float32)"
      ]
     },
     "execution_count": 75,
     "metadata": {},
     "output_type": "execute_result"
    }
   ],
   "source": [
    "a.dot(b)"
   ]
  },
  {
   "cell_type": "code",
   "execution_count": 76,
   "id": "4a9cd845",
   "metadata": {},
   "outputs": [
    {
     "data": {
      "text/plain": [
       "array([[ True,  True,  True],\n",
       "       [ True,  True,  True],\n",
       "       [ True,  True,  True],\n",
       "       [ True,  True,  True]])"
      ]
     },
     "execution_count": 76,
     "metadata": {},
     "output_type": "execute_result"
    }
   ],
   "source": [
    "res_np==mult"
   ]
  },
  {
   "cell_type": "code",
   "execution_count": 77,
   "id": "202bd173",
   "metadata": {},
   "outputs": [
    {
     "data": {
      "text/plain": [
       "(4, 3)"
      ]
     },
     "execution_count": 77,
     "metadata": {},
     "output_type": "execute_result"
    }
   ],
   "source": [
    "res_np.shape"
   ]
  },
  {
   "cell_type": "code",
   "execution_count": 78,
   "id": "31d97059",
   "metadata": {},
   "outputs": [
    {
     "data": {
      "text/plain": [
       "(4, 3)"
      ]
     },
     "execution_count": 78,
     "metadata": {},
     "output_type": "execute_result"
    }
   ],
   "source": [
    "mult.shape"
   ]
  },
  {
   "cell_type": "markdown",
   "id": "740ba01c",
   "metadata": {},
   "source": [
    "# Matmult Dense Transposed"
   ]
  },
  {
   "cell_type": "code",
   "execution_count": 79,
   "id": "62bd6037",
   "metadata": {},
   "outputs": [
    {
     "data": {
      "text/plain": [
       "array([[0.        , 0.        , 0.4093198 ],\n",
       "       [0.        , 0.27073938, 0.        ],\n",
       "       [0.        , 0.82387215, 0.        ],\n",
       "       [0.        , 0.        , 0.26969674],\n",
       "       [0.        , 0.        , 0.2974127 ],\n",
       "       [0.        , 0.        , 0.7703394 ]], dtype=float32)"
      ]
     },
     "execution_count": 79,
     "metadata": {},
     "output_type": "execute_result"
    }
   ],
   "source": [
    "b"
   ]
  },
  {
   "cell_type": "code",
   "execution_count": 80,
   "id": "dc2ef4a9",
   "metadata": {},
   "outputs": [],
   "source": [
    "c=np.zeros(b.T.shape)\n",
    "bt = b.T\n",
    "for row in range(bt.shape[0]):\n",
    "    for col in range(bt.shape[1]):\n",
    "        c[row][col] = bt[row][col]"
   ]
  },
  {
   "cell_type": "code",
   "execution_count": 81,
   "id": "75b0c726",
   "metadata": {},
   "outputs": [
    {
     "data": {
      "text/plain": [
       "array([[0.        , 0.        , 0.        , 0.        , 0.        ,\n",
       "        0.        ],\n",
       "       [0.        , 0.27073938, 0.82387215, 0.        , 0.        ,\n",
       "        0.        ],\n",
       "       [0.4093198 , 0.        , 0.        , 0.26969674, 0.2974127 ,\n",
       "        0.7703394 ]], dtype=float32)"
      ]
     },
     "execution_count": 81,
     "metadata": {},
     "output_type": "execute_result"
    }
   ],
   "source": [
    "bt"
   ]
  },
  {
   "cell_type": "code",
   "execution_count": 82,
   "id": "2de4c770",
   "metadata": {},
   "outputs": [
    {
     "data": {
      "text/plain": [
       "array([[0.        , 0.        , 0.        , 0.        , 0.        ,\n",
       "        0.        ],\n",
       "       [0.        , 0.27073938, 0.82387215, 0.        , 0.        ,\n",
       "        0.        ],\n",
       "       [0.40931979, 0.        , 0.        , 0.26969674, 0.29741269,\n",
       "        0.77033943]])"
      ]
     },
     "execution_count": 82,
     "metadata": {},
     "output_type": "execute_result"
    }
   ],
   "source": [
    "c"
   ]
  },
  {
   "cell_type": "code",
   "execution_count": 83,
   "id": "ca967ffe",
   "metadata": {},
   "outputs": [],
   "source": [
    "b_buf2 = cl.Buffer(ctx, mf.READ_WRITE | mf.COPY_HOST_PTR, hostbuf=c.astype(np.float32))\n",
    "a_buf = cl.Buffer(ctx, mf.READ_WRITE | mf.COPY_HOST_PTR, hostbuf=a)\n",
    "\n",
    "prg = cl.Program(ctx, \"\"\"\n",
    "    // multilplies x by y WITH Y TRANSPOSED INDEXING\n",
    "    __kernel void matmul0(__global  float* x,     // INPUT MATRIX DATA\n",
    "                          __global  float* y,    // INPUT\n",
    "                          __global  float* res,    // INPUT\n",
    "                          uint msize\n",
    "                          ) { // LOCAL SHARED BUFFER\n",
    "      uint isize = get_global_size(0);\n",
    "      uint osize = get_global_size(1);\n",
    "      int gidx = get_global_id(0); // row\n",
    "      int gidy = get_global_id(1); // col\n",
    "\n",
    "      float ret = 0.0;\n",
    "      for (int i = 0; i < msize; i++) {\n",
    "        uint xidx = gidx*msize+i;\n",
    "        float xval = x[xidx];\n",
    "        uint yidx = msize*gidy+i;\n",
    "        float yval = y[yidx];\n",
    "        ret += xval*yval;\n",
    "        if (gidx==0 && gidy==0)\n",
    "          printf(\"\\\\nmult: %.2f x %.2f - %.2f  -- %i/%i\", xval, yval, res, xidx, yidx);\n",
    "      }\n",
    "\n",
    "      //if (gidx==0&&gidy==0)\n",
    "      //  printf(\"\\\\nsum:%.2f\", ret);\n",
    "      res[gidx * osize + gidy] = ret;\n",
    "    }\"\"\").build()"
   ]
  },
  {
   "cell_type": "code",
   "execution_count": 84,
   "id": "a43dbb5d",
   "metadata": {},
   "outputs": [
    {
     "data": {
      "text/plain": [
       "((4, 6), (3, 6))"
      ]
     },
     "execution_count": 84,
     "metadata": {},
     "output_type": "execute_result"
    }
   ],
   "source": [
    "a.shape, b.T.shape"
   ]
  },
  {
   "cell_type": "code",
   "execution_count": 85,
   "id": "fde0973e",
   "metadata": {},
   "outputs": [],
   "source": [
    "rows = a.shape[0]"
   ]
  },
  {
   "cell_type": "code",
   "execution_count": 86,
   "id": "56c661f2",
   "metadata": {},
   "outputs": [],
   "source": [
    "mult = mult.astype(np.float32)"
   ]
  },
  {
   "cell_type": "code",
   "execution_count": 87,
   "id": "10b1d468",
   "metadata": {},
   "outputs": [
    {
     "data": {
      "text/plain": [
       "<pyopencl._cl.NannyEvent at 0x7f837013da40>"
      ]
     },
     "execution_count": 87,
     "metadata": {},
     "output_type": "execute_result"
    },
    {
     "name": "stdout",
     "output_type": "stream",
     "text": [
      "\n",
      "mult: 0.49 x 0.00 - 0.00  -- 0/0\n",
      "mult: 0.00 x 0.00 - 0.00  -- 1/1\n",
      "mult: 0.88 x 0.00 - 0.00  -- 2/2\n",
      "mult: 0.00 x 0.00 - 0.00  -- 3/3\n",
      "mult: 0.00 x 0.00 - 0.00  -- 4/4\n",
      "mult: 0.57 x 0.00 - 0.00  -- 5/5"
     ]
    }
   ],
   "source": [
    "res_buf = cl.Buffer(ctx, mf.READ_WRITE, np.prod([rows,b.shape[1]])*4)\n",
    "knl = prg.matmul0  # Use this Kernel object for repeated calls\n",
    "knl(queue, [rows,b.shape[1]], None, a_buf, b_buf2, res_buf, np.uint32(a.shape[1]))\n",
    "\n",
    "res_np = np.zeros([rows,b.shape[1]]).astype(np.float32)\n",
    "cl.enqueue_copy(queue, res_np, res_buf)"
   ]
  },
  {
   "cell_type": "code",
   "execution_count": 88,
   "id": "3791c36d",
   "metadata": {},
   "outputs": [
    {
     "data": {
      "text/plain": [
       "0.0"
      ]
     },
     "execution_count": 88,
     "metadata": {},
     "output_type": "execute_result"
    }
   ],
   "source": [
    "(res_np-mult).sum()"
   ]
  },
  {
   "cell_type": "code",
   "execution_count": 89,
   "id": "be02b18f",
   "metadata": {},
   "outputs": [
    {
     "data": {
      "text/plain": [
       "array([[0.48745027, 0.        , 0.87602866, 0.        , 0.        ,\n",
       "        0.57356703],\n",
       "       [0.        , 0.16462222, 0.        , 0.41704008, 0.6265748 ,\n",
       "        0.        ],\n",
       "       [0.        , 0.5932638 , 0.17645018, 0.        , 0.        ,\n",
       "        0.6961791 ],\n",
       "       [0.        , 0.        , 0.        , 0.7643324 , 0.93176633,\n",
       "        0.62803787]], dtype=float32)"
      ]
     },
     "execution_count": 89,
     "metadata": {},
     "output_type": "execute_result"
    }
   ],
   "source": [
    "a"
   ]
  },
  {
   "cell_type": "code",
   "execution_count": 90,
   "id": "7a112967",
   "metadata": {},
   "outputs": [
    {
     "data": {
      "text/plain": [
       "array([[0.        , 0.        , 0.4093198 ],\n",
       "       [0.        , 0.27073938, 0.        ],\n",
       "       [0.        , 0.82387215, 0.        ],\n",
       "       [0.        , 0.        , 0.26969674],\n",
       "       [0.        , 0.        , 0.2974127 ],\n",
       "       [0.        , 0.        , 0.7703394 ]], dtype=float32)"
      ]
     },
     "execution_count": 90,
     "metadata": {},
     "output_type": "execute_result"
    }
   ],
   "source": [
    "b"
   ]
  },
  {
   "cell_type": "code",
   "execution_count": 91,
   "id": "0bdbf257",
   "metadata": {},
   "outputs": [
    {
     "data": {
      "text/plain": [
       "array([[0.        , 0.7217356 , 0.64136434],\n",
       "       [0.        , 0.04456972, 0.29882565],\n",
       "       [0.        , 0.30599225, 0.5362942 ],\n",
       "       [0.        , 0.        , 0.96705943]], dtype=float32)"
      ]
     },
     "execution_count": 91,
     "metadata": {},
     "output_type": "execute_result"
    }
   ],
   "source": [
    "res_np"
   ]
  },
  {
   "cell_type": "code",
   "execution_count": 92,
   "id": "4e43e4c3",
   "metadata": {},
   "outputs": [
    {
     "data": {
      "text/plain": [
       "array([[0.        , 0.7217356 , 0.64136434],\n",
       "       [0.        , 0.04456972, 0.29882565],\n",
       "       [0.        , 0.30599225, 0.5362942 ],\n",
       "       [0.        , 0.        , 0.96705943]], dtype=float32)"
      ]
     },
     "execution_count": 92,
     "metadata": {},
     "output_type": "execute_result"
    }
   ],
   "source": [
    "a.dot(b)"
   ]
  },
  {
   "cell_type": "code",
   "execution_count": 93,
   "id": "fbe02272",
   "metadata": {},
   "outputs": [
    {
     "data": {
      "text/plain": [
       "array([[ True,  True,  True],\n",
       "       [ True,  True,  True],\n",
       "       [ True,  True,  True],\n",
       "       [ True,  True,  True]])"
      ]
     },
     "execution_count": 93,
     "metadata": {},
     "output_type": "execute_result"
    }
   ],
   "source": [
    "res_np==mult"
   ]
  },
  {
   "cell_type": "code",
   "execution_count": 94,
   "id": "bb6187da",
   "metadata": {},
   "outputs": [
    {
     "data": {
      "text/plain": [
       "(4, 3)"
      ]
     },
     "execution_count": 94,
     "metadata": {},
     "output_type": "execute_result"
    }
   ],
   "source": [
    "res_np.shape"
   ]
  },
  {
   "cell_type": "code",
   "execution_count": 95,
   "id": "af9e3da1",
   "metadata": {},
   "outputs": [
    {
     "data": {
      "text/plain": [
       "(4, 3)"
      ]
     },
     "execution_count": 95,
     "metadata": {},
     "output_type": "execute_result"
    }
   ],
   "source": [
    "mult.shape"
   ]
  },
  {
   "cell_type": "markdown",
   "id": "726b7e0f",
   "metadata": {},
   "source": [
    "# Matmult Transposed Dense"
   ]
  },
  {
   "cell_type": "code",
   "execution_count": 96,
   "id": "7adbefce",
   "metadata": {},
   "outputs": [
    {
     "data": {
      "text/plain": [
       "array([[0.        , 0.        , 0.4093198 ],\n",
       "       [0.        , 0.27073938, 0.        ],\n",
       "       [0.        , 0.82387215, 0.        ],\n",
       "       [0.        , 0.        , 0.26969674],\n",
       "       [0.        , 0.        , 0.2974127 ],\n",
       "       [0.        , 0.        , 0.7703394 ]], dtype=float32)"
      ]
     },
     "execution_count": 96,
     "metadata": {},
     "output_type": "execute_result"
    }
   ],
   "source": [
    "b"
   ]
  },
  {
   "cell_type": "code",
   "execution_count": 97,
   "id": "f9d3c30b",
   "metadata": {},
   "outputs": [],
   "source": [
    "c=np.zeros(a.T.shape)\n",
    "at = a.T\n",
    "for row in range(at.shape[0]):\n",
    "    for col in range(at.shape[1]):\n",
    "        c[row][col] = at[row][col]"
   ]
  },
  {
   "cell_type": "code",
   "execution_count": 98,
   "id": "4caaa1df",
   "metadata": {},
   "outputs": [
    {
     "data": {
      "text/plain": [
       "array([[0.48745027, 0.        , 0.        , 0.        ],\n",
       "       [0.        , 0.16462222, 0.5932638 , 0.        ],\n",
       "       [0.87602866, 0.        , 0.17645018, 0.        ],\n",
       "       [0.        , 0.41704008, 0.        , 0.7643324 ],\n",
       "       [0.        , 0.6265748 , 0.        , 0.93176633],\n",
       "       [0.57356703, 0.        , 0.6961791 , 0.62803787]], dtype=float32)"
      ]
     },
     "execution_count": 98,
     "metadata": {},
     "output_type": "execute_result"
    }
   ],
   "source": [
    "at"
   ]
  },
  {
   "cell_type": "code",
   "execution_count": 99,
   "id": "bc2e5522",
   "metadata": {},
   "outputs": [
    {
     "data": {
      "text/plain": [
       "array([[0.48745027, 0.        , 0.        , 0.        ],\n",
       "       [0.        , 0.16462222, 0.5932638 , 0.        ],\n",
       "       [0.87602866, 0.        , 0.17645018, 0.        ],\n",
       "       [0.        , 0.41704008, 0.        , 0.76433241],\n",
       "       [0.        , 0.62657481, 0.        , 0.93176633],\n",
       "       [0.57356703, 0.        , 0.69617909, 0.62803787]])"
      ]
     },
     "execution_count": 99,
     "metadata": {},
     "output_type": "execute_result"
    }
   ],
   "source": [
    "c"
   ]
  },
  {
   "cell_type": "code",
   "execution_count": 100,
   "id": "ca096192",
   "metadata": {},
   "outputs": [],
   "source": [
    "a_buf = cl.Buffer(ctx, mf.READ_WRITE | mf.COPY_HOST_PTR, hostbuf=c.astype(np.float32))\n",
    "b_buf = cl.Buffer(ctx, mf.READ_WRITE | mf.COPY_HOST_PTR, hostbuf=b)\n",
    "\n",
    "prg = cl.Program(ctx, \"\"\"\n",
    "    // multilplies x TRANSPOSED by y (dense-dense)\n",
    "    __kernel void matmul0(__global  float* x,     // INPUT MATRIX DATA\n",
    "                          __global  float* y,    // INPUT\n",
    "                          __global  float* res,    // INPUT\n",
    "                          uint msize,\n",
    "                          uint isize\n",
    "                          ) { // LOCAL SHARED BUFFER\n",
    "      uint osize = get_global_size(0);\n",
    "      int gidy = get_global_id(0); // row\n",
    "      \n",
    "      for (uint gidx = 0; gidx < isize; gidx++) {\n",
    "        float ret = 0.0;\n",
    "        for (uint i = 0; i < msize; i++) {\n",
    "          uint xidx = i*isize+gidx;\n",
    "          float xval = x[xidx];\n",
    "          uint yidx = osize*i+gidy;\n",
    "          float yval = y[yidx];\n",
    "          ret += xval*yval;\n",
    "          if (gidx==0 && gidy==0)\n",
    "            printf(\"\\\\nmult: %.2f x %.2f - %.2f  -- %i/%i\", xval, yval, ret, xidx, yidx);\n",
    "        }\n",
    "        //if (gidx==0&&gidy==0)\n",
    "        //  printf(\"\\\\nsum:%.2f\", ret);\n",
    "        res[gidx * osize + gidy] = ret;\n",
    "      }\n",
    "    }\"\"\").build()"
   ]
  },
  {
   "cell_type": "code",
   "execution_count": 101,
   "id": "6bcc4256",
   "metadata": {},
   "outputs": [
    {
     "data": {
      "text/plain": [
       "((4, 6), (3, 6))"
      ]
     },
     "execution_count": 101,
     "metadata": {},
     "output_type": "execute_result"
    }
   ],
   "source": [
    "a.shape, b.T.shape"
   ]
  },
  {
   "cell_type": "code",
   "execution_count": 102,
   "id": "81be729b",
   "metadata": {},
   "outputs": [],
   "source": [
    "rows = a.shape[0]"
   ]
  },
  {
   "cell_type": "code",
   "execution_count": 103,
   "id": "e17d0d40",
   "metadata": {},
   "outputs": [],
   "source": [
    "mult = mult.astype(np.float32)"
   ]
  },
  {
   "cell_type": "code",
   "execution_count": 104,
   "id": "5d469907",
   "metadata": {},
   "outputs": [
    {
     "name": "stdout",
     "output_type": "stream",
     "text": [
      "\n",
      "mult: 0.49 x 0.00 - 0.00  -- 0/0\n",
      "mult: 0.00 x 0.00 - 0.00  -- 4/3\n",
      "mult: 0.88 x 0.00 - 0.00  -- 8/6\n",
      "mult: 0.00 x 0.00 - 0.00  -- 12/9\n",
      "mult: 0.00 x 0.00 - 0.00  -- 16/12\n",
      "mult: 0.57 x 0.00 - 0.00  -- 20/15"
     ]
    },
    {
     "data": {
      "text/plain": [
       "<pyopencl._cl.NannyEvent at 0x7f837013c0e0>"
      ]
     },
     "execution_count": 104,
     "metadata": {},
     "output_type": "execute_result"
    }
   ],
   "source": [
    "res_buf = cl.Buffer(ctx, mf.READ_WRITE, np.prod([rows,b.shape[1]])*4)\n",
    "knl = prg.matmul0  # Use this Kernel object for repeated calls\n",
    "knl(queue, [b.shape[1]], None, a_buf, b_buf, res_buf, np.uint32(a.shape[1]), np.uint32(rows))\n",
    "\n",
    "res_np = np.zeros([rows,b.shape[1]]).astype(np.float32)\n",
    "cl.enqueue_copy(queue, res_np, res_buf)"
   ]
  },
  {
   "cell_type": "code",
   "execution_count": 105,
   "id": "c7ca806a",
   "metadata": {},
   "outputs": [
    {
     "data": {
      "text/plain": [
       "0.0"
      ]
     },
     "execution_count": 105,
     "metadata": {},
     "output_type": "execute_result"
    }
   ],
   "source": [
    "(res_np-mult).sum()"
   ]
  },
  {
   "cell_type": "code",
   "execution_count": 106,
   "id": "067cf8fc",
   "metadata": {},
   "outputs": [
    {
     "data": {
      "text/plain": [
       "array([[0.48745027, 0.        , 0.87602866, 0.        , 0.        ,\n",
       "        0.57356703],\n",
       "       [0.        , 0.16462222, 0.        , 0.41704008, 0.6265748 ,\n",
       "        0.        ],\n",
       "       [0.        , 0.5932638 , 0.17645018, 0.        , 0.        ,\n",
       "        0.6961791 ],\n",
       "       [0.        , 0.        , 0.        , 0.7643324 , 0.93176633,\n",
       "        0.62803787]], dtype=float32)"
      ]
     },
     "execution_count": 106,
     "metadata": {},
     "output_type": "execute_result"
    }
   ],
   "source": [
    "a"
   ]
  },
  {
   "cell_type": "code",
   "execution_count": 107,
   "id": "0fd446e8",
   "metadata": {},
   "outputs": [
    {
     "data": {
      "text/plain": [
       "array([[0.        , 0.        , 0.4093198 ],\n",
       "       [0.        , 0.27073938, 0.        ],\n",
       "       [0.        , 0.82387215, 0.        ],\n",
       "       [0.        , 0.        , 0.26969674],\n",
       "       [0.        , 0.        , 0.2974127 ],\n",
       "       [0.        , 0.        , 0.7703394 ]], dtype=float32)"
      ]
     },
     "execution_count": 107,
     "metadata": {},
     "output_type": "execute_result"
    }
   ],
   "source": [
    "b"
   ]
  },
  {
   "cell_type": "code",
   "execution_count": 108,
   "id": "334f65af",
   "metadata": {},
   "outputs": [
    {
     "data": {
      "text/plain": [
       "array([[0.        , 0.7217356 , 0.64136434],\n",
       "       [0.        , 0.04456972, 0.29882565],\n",
       "       [0.        , 0.30599225, 0.5362942 ],\n",
       "       [0.        , 0.        , 0.96705943]], dtype=float32)"
      ]
     },
     "execution_count": 108,
     "metadata": {},
     "output_type": "execute_result"
    }
   ],
   "source": [
    "res_np"
   ]
  },
  {
   "cell_type": "code",
   "execution_count": 109,
   "id": "c588082c",
   "metadata": {},
   "outputs": [
    {
     "data": {
      "text/plain": [
       "array([[0.        , 0.7217356 , 0.64136434],\n",
       "       [0.        , 0.04456972, 0.29882565],\n",
       "       [0.        , 0.30599225, 0.5362942 ],\n",
       "       [0.        , 0.        , 0.96705943]], dtype=float32)"
      ]
     },
     "execution_count": 109,
     "metadata": {},
     "output_type": "execute_result"
    }
   ],
   "source": [
    "a.dot(b)"
   ]
  },
  {
   "cell_type": "code",
   "execution_count": 110,
   "id": "e6187e1f",
   "metadata": {},
   "outputs": [
    {
     "data": {
      "text/plain": [
       "array([[ True,  True,  True],\n",
       "       [ True,  True,  True],\n",
       "       [ True,  True,  True],\n",
       "       [ True,  True,  True]])"
      ]
     },
     "execution_count": 110,
     "metadata": {},
     "output_type": "execute_result"
    }
   ],
   "source": [
    "res_np==mult"
   ]
  },
  {
   "cell_type": "code",
   "execution_count": 111,
   "id": "eb36e476",
   "metadata": {},
   "outputs": [
    {
     "data": {
      "text/plain": [
       "(4, 3)"
      ]
     },
     "execution_count": 111,
     "metadata": {},
     "output_type": "execute_result"
    }
   ],
   "source": [
    "res_np.shape"
   ]
  },
  {
   "cell_type": "code",
   "execution_count": 112,
   "id": "7e406268",
   "metadata": {},
   "outputs": [
    {
     "data": {
      "text/plain": [
       "(4, 3)"
      ]
     },
     "execution_count": 112,
     "metadata": {},
     "output_type": "execute_result"
    }
   ],
   "source": [
    "mult.shape"
   ]
  },
  {
   "cell_type": "markdown",
   "id": "59835b7e",
   "metadata": {},
   "source": [
    "# Matmult Dense Transposed2"
   ]
  },
  {
   "cell_type": "code",
   "execution_count": 113,
   "id": "4a6954ad",
   "metadata": {},
   "outputs": [],
   "source": [
    "b_buf2 = cl.Buffer(ctx, mf.READ_WRITE | mf.COPY_HOST_PTR, hostbuf=b)\n",
    "a_buf = cl.Buffer(ctx, mf.READ_WRITE | mf.COPY_HOST_PTR, hostbuf=a)\n",
    "\n",
    "prg = cl.Program(ctx, \"\"\"\n",
    "    // multilplies x by y WITH Y TRANSPOSED INDEXING\n",
    "    __kernel void matmul0(__global  float* x,     // INPUT MATRIX DATA\n",
    "                          __global  float* y,    // INPUT\n",
    "                          __global  float* res,    // INPUT\n",
    "                          uint msize,\n",
    "                          uint osize\n",
    "                          ) { // LOCAL SHARED BUFFER\n",
    "      uint isize = get_global_size(0);\n",
    "      // osize = get_global_size(1);\n",
    "      int gidx = get_global_id(0); // col\n",
    "      // int gidy = get_global_id(1); // row\n",
    "\n",
    "      for (uint gidy = 0; gidy < osize; gidy++) {\n",
    "        float ret = 0.0;\n",
    "        for (uint i = 0; i < msize; i++) {\n",
    "          ret += x[gidx*msize+i]*y[i*osize+gidy];\n",
    "          if (gidx==0 && gidy==0)\n",
    "            printf(\"\\\\nmult: %.2f x %.2f - %.2f\", x[gidx*msize+i],y[i*msize+gidy], ret);\n",
    "        }\n",
    "\n",
    "        //if (gidx==0&&gidy==0)\n",
    "        //  printf(\"\\\\nsum:%.2f\", ret);\n",
    "        res[gidx * osize + gidy] = ret;\n",
    "      }\n",
    "    }\"\"\").build()"
   ]
  },
  {
   "cell_type": "code",
   "execution_count": 114,
   "id": "c8a9728b",
   "metadata": {},
   "outputs": [
    {
     "data": {
      "text/plain": [
       "((4, 6), (6, 3))"
      ]
     },
     "execution_count": 114,
     "metadata": {},
     "output_type": "execute_result"
    }
   ],
   "source": [
    "a.shape, b.shape"
   ]
  },
  {
   "cell_type": "code",
   "execution_count": 115,
   "id": "af31f5a8",
   "metadata": {},
   "outputs": [],
   "source": [
    "res = np.zeros(a.shape[0]).astype(np.float32)\n",
    "#res"
   ]
  },
  {
   "cell_type": "code",
   "execution_count": 116,
   "id": "bfe05099",
   "metadata": {},
   "outputs": [],
   "source": [
    "rows = a.shape[0]"
   ]
  },
  {
   "cell_type": "code",
   "execution_count": 117,
   "id": "f468303a",
   "metadata": {},
   "outputs": [],
   "source": [
    "mult = mult.astype(np.float32)"
   ]
  },
  {
   "cell_type": "code",
   "execution_count": 118,
   "id": "3be17413",
   "metadata": {},
   "outputs": [
    {
     "data": {
      "text/plain": [
       "<pyopencl._cl.NannyEvent at 0x7f837008c680>"
      ]
     },
     "execution_count": 118,
     "metadata": {},
     "output_type": "execute_result"
    },
    {
     "name": "stdout",
     "output_type": "stream",
     "text": [
      "\n",
      "mult: 0.49 x 0.00 - 0.00\n",
      "mult: 0.00 x 0.00 - 0.00\n",
      "mult: 0.88 x 0.00 - 0.00\n",
      "mult: 0.00 x 0.00 - 0.00\n",
      "mult: 0.00 x 0.00 - 0.00\n",
      "mult: 0.57 x 0.00 - 0.00"
     ]
    }
   ],
   "source": [
    "res_buf = cl.Buffer(ctx, mf.READ_WRITE, np.prod([rows,b.shape[1]])*4)\n",
    "knl = prg.matmul0  # Use this Kernel object for repeated calls\n",
    "knl(queue, [rows], None, a_buf, b_buf2, res_buf, np.uint32(a.shape[1]), np.uint32(b.shape[1]))\n",
    "\n",
    "res_np = np.zeros([rows,b.shape[1]]).astype(np.float32)\n",
    "cl.enqueue_copy(queue, res_np, res_buf)"
   ]
  },
  {
   "cell_type": "code",
   "execution_count": 119,
   "id": "49f1bc06",
   "metadata": {},
   "outputs": [
    {
     "data": {
      "text/plain": [
       "0.0"
      ]
     },
     "execution_count": 119,
     "metadata": {},
     "output_type": "execute_result"
    }
   ],
   "source": [
    "(res_np-mult).sum()"
   ]
  },
  {
   "cell_type": "code",
   "execution_count": 120,
   "id": "b721089a",
   "metadata": {},
   "outputs": [
    {
     "data": {
      "text/plain": [
       "array([[0.48745027, 0.        , 0.87602866, 0.        , 0.        ,\n",
       "        0.57356703],\n",
       "       [0.        , 0.16462222, 0.        , 0.41704008, 0.6265748 ,\n",
       "        0.        ],\n",
       "       [0.        , 0.5932638 , 0.17645018, 0.        , 0.        ,\n",
       "        0.6961791 ],\n",
       "       [0.        , 0.        , 0.        , 0.7643324 , 0.93176633,\n",
       "        0.62803787]], dtype=float32)"
      ]
     },
     "execution_count": 120,
     "metadata": {},
     "output_type": "execute_result"
    }
   ],
   "source": [
    "a"
   ]
  },
  {
   "cell_type": "code",
   "execution_count": 121,
   "id": "a03001f2",
   "metadata": {},
   "outputs": [
    {
     "data": {
      "text/plain": [
       "array([[0.        , 0.        , 0.        , 0.        , 0.        ,\n",
       "        0.        ],\n",
       "       [0.        , 0.27073938, 0.82387215, 0.        , 0.        ,\n",
       "        0.        ],\n",
       "       [0.4093198 , 0.        , 0.        , 0.26969674, 0.2974127 ,\n",
       "        0.7703394 ]], dtype=float32)"
      ]
     },
     "execution_count": 121,
     "metadata": {},
     "output_type": "execute_result"
    }
   ],
   "source": [
    "b.T"
   ]
  },
  {
   "cell_type": "code",
   "execution_count": 122,
   "id": "7b5dd59e",
   "metadata": {},
   "outputs": [
    {
     "data": {
      "text/plain": [
       "array([0.48745027, 0.        , 0.87602866, 0.        , 0.        ,\n",
       "       0.57356703], dtype=float32)"
      ]
     },
     "execution_count": 122,
     "metadata": {},
     "output_type": "execute_result"
    }
   ],
   "source": [
    "a[0]"
   ]
  },
  {
   "cell_type": "code",
   "execution_count": 123,
   "id": "d8c0f986",
   "metadata": {},
   "outputs": [
    {
     "data": {
      "text/plain": [
       "array([0., 0., 0., 0., 0., 0.], dtype=float32)"
      ]
     },
     "execution_count": 123,
     "metadata": {},
     "output_type": "execute_result"
    }
   ],
   "source": [
    "b.T[0]"
   ]
  },
  {
   "cell_type": "code",
   "execution_count": 124,
   "id": "94c47d91",
   "metadata": {},
   "outputs": [
    {
     "data": {
      "text/plain": [
       "<pyopencl._cl.Buffer at 0x7f83700ac4f0>"
      ]
     },
     "execution_count": 124,
     "metadata": {},
     "output_type": "execute_result"
    }
   ],
   "source": [
    "res_buf"
   ]
  },
  {
   "cell_type": "code",
   "execution_count": 125,
   "id": "8776a0a7",
   "metadata": {},
   "outputs": [
    {
     "data": {
      "text/plain": [
       "array([[0.        , 0.7217356 , 0.64136434],\n",
       "       [0.        , 0.04456972, 0.29882565],\n",
       "       [0.        , 0.30599225, 0.5362942 ],\n",
       "       [0.        , 0.        , 0.96705943]], dtype=float32)"
      ]
     },
     "execution_count": 125,
     "metadata": {},
     "output_type": "execute_result"
    }
   ],
   "source": [
    "res_np"
   ]
  },
  {
   "cell_type": "code",
   "execution_count": 126,
   "id": "46dca274",
   "metadata": {},
   "outputs": [
    {
     "data": {
      "text/plain": [
       "array([[0.        , 0.7217356 , 0.64136434],\n",
       "       [0.        , 0.04456972, 0.29882565],\n",
       "       [0.        , 0.30599225, 0.5362942 ],\n",
       "       [0.        , 0.        , 0.96705943]], dtype=float32)"
      ]
     },
     "execution_count": 126,
     "metadata": {},
     "output_type": "execute_result"
    }
   ],
   "source": [
    "a.dot(b)"
   ]
  },
  {
   "cell_type": "code",
   "execution_count": 127,
   "id": "4641cdcc",
   "metadata": {},
   "outputs": [
    {
     "data": {
      "text/plain": [
       "array([[ True,  True,  True],\n",
       "       [ True,  True,  True],\n",
       "       [ True,  True,  True],\n",
       "       [ True,  True,  True]])"
      ]
     },
     "execution_count": 127,
     "metadata": {},
     "output_type": "execute_result"
    }
   ],
   "source": [
    "res_np==mult"
   ]
  },
  {
   "cell_type": "code",
   "execution_count": 128,
   "id": "5b55f104",
   "metadata": {},
   "outputs": [
    {
     "data": {
      "text/plain": [
       "(4, 3)"
      ]
     },
     "execution_count": 128,
     "metadata": {},
     "output_type": "execute_result"
    }
   ],
   "source": [
    "res_np.shape"
   ]
  },
  {
   "cell_type": "code",
   "execution_count": 129,
   "id": "84122d03",
   "metadata": {},
   "outputs": [
    {
     "data": {
      "text/plain": [
       "(4, 3)"
      ]
     },
     "execution_count": 129,
     "metadata": {},
     "output_type": "execute_result"
    }
   ],
   "source": [
    "mult.shape"
   ]
  },
  {
   "cell_type": "markdown",
   "id": "b3ad7225",
   "metadata": {},
   "source": [
    "## Weight update kernel"
   ]
  },
  {
   "cell_type": "code",
   "execution_count": 130,
   "id": "a5138cee",
   "metadata": {},
   "outputs": [],
   "source": [
    "bs = 4"
   ]
  },
  {
   "cell_type": "code",
   "execution_count": 131,
   "id": "ae5eb8aa",
   "metadata": {},
   "outputs": [
    {
     "data": {
      "text/plain": [
       "array([[0.48745027, 0.        , 0.87602866, 0.        , 0.        ,\n",
       "        0.57356703],\n",
       "       [0.        , 0.16462222, 0.        , 0.41704008, 0.6265748 ,\n",
       "        0.        ],\n",
       "       [0.        , 0.5932638 , 0.17645018, 0.        , 0.        ,\n",
       "        0.6961791 ],\n",
       "       [0.        , 0.        , 0.        , 0.7643324 , 0.93176633,\n",
       "        0.62803787]], dtype=float32)"
      ]
     },
     "execution_count": 131,
     "metadata": {},
     "output_type": "execute_result"
    }
   ],
   "source": [
    "a"
   ]
  },
  {
   "cell_type": "code",
   "execution_count": 132,
   "id": "76e44e2d",
   "metadata": {},
   "outputs": [
    {
     "data": {
      "text/plain": [
       "((4, 8), (4, 8), 2)"
      ]
     },
     "execution_count": 132,
     "metadata": {},
     "output_type": "execute_result"
    }
   ],
   "source": [
    "dim = 8\n",
    "topk = 2\n",
    "\n",
    "x = np.random.rand(bs,dim).astype(np.float32)\n",
    "y = np.random.rand(bs,dim).astype(np.float32)\n",
    "x.shape,y.shape, topk"
   ]
  },
  {
   "cell_type": "markdown",
   "id": "de5e3e5e",
   "metadata": {},
   "source": [
    "x_buf = cl.Buffer(ctx, mf.READ_ONLY | mf.COPY_HOST_PTR, hostbuf=x)\n",
    "y_buf = cl.Buffer(ctx, mf.READ_ONLY | mf.COPY_HOST_PTR, hostbuf=y)\n",
    "x_cp_buf = cl.Buffer(ctx, mf.WRITE_ONLY, bs*topk*topk*4)\n",
    "x_idx_buf = cl.Buffer(ctx, mf.WRITE_ONLY, bs*topk*4)\n",
    "y_idx_buf = cl.Buffer(ctx, mf.WRITE_ONLY, bs*topk*4)\n",
    "\n",
    "prg = cl.Program(ctx, \"\"\"\n",
    "    // sorts x and y in ascending order and returns sorted indices\n",
    "    __kernel void genwupdate2(__global  float* x,     // INPUT MATRIX DATA\n",
    "                             __global  float* y,    // INPUT\n",
    "                             __global  float* xout,    // INPUT\n",
    "                             uint topk,\n",
    "                             __global  uint* xoutidx,    // INPUT\n",
    "                             __global  uint* youtidx    // INPUT\n",
    "                            ) { // LOCAL SHARED BUFFER\n",
    "      uint gid = get_global_id(0);\n",
    "      uint n = get_global_size(0);\n",
    "      uint bs = get_global_size(1);\n",
    "      uint gid2 = get_global_id(1);\n",
    "\n",
    "      uint idx = n*gid2+gid;\n",
    "\n",
    "      float valx = x[idx];\n",
    "      float valy = y[idx];\n",
    "      uint posx = 0;\n",
    "      uint posy = 0;\n",
    "      for (uint i = 0; i < n; i++) {\n",
    "        uint idx2 = n*gid2+i;\n",
    "        float tempval = x[idx2];\n",
    "        float tempval2 = y[idx2];\n",
    "        bool larger = tempval > valx;\n",
    "        bool larger2 = tempval2 > valy;\n",
    "\n",
    "        barrier(CLK_GLOBAL_MEM_FENCE);\n",
    "        posx += (larger)?1:0;\n",
    "        posy += (larger2)?1:0;\n",
    "        barrier(CLK_GLOBAL_MEM_FENCE);\n",
    "      }\n",
    "      barrier(CLK_GLOBAL_MEM_FENCE);\n",
    "      //printf(\"posx:%i\", posx);\n",
    "      if (posx < topk) {\n",
    "        xoutidx[posx+topk*gid2] = gid;\n",
    "      }\n",
    "      if (posy < topk) {\n",
    "        youtidx[posy+topk*gid2] = gid;\n",
    "      }\n",
    "      barrier(CLK_GLOBAL_MEM_FENCE);\n",
    "      if (gid < topk) {\n",
    "        for (uint j=0; j<topk; j++) {\n",
    "          float res = x[xoutidx[gid+topk*gid2]+gid2*n] * y[youtidx[j+topk*gid2]+gid2*n];\n",
    "          //printf(\"\\\\nJ:%i  gid:%i\", j, gid);\n",
    "          //printf(\"\\\\nRES:%.2f - %i - %i -  %.2f - %.2f\",res, xoutidx[gid+topk*gid2], youtidx[j+topk*gid2], x[xoutidx[gid+topk*gid2]+gid2*n], y[youtidx[j+topk*gid2]+gid2*n]);\n",
    "          barrier(CLK_GLOBAL_MEM_FENCE);\n",
    "          xout[gid2*topk*topk+j*topk+gid] = res;\n",
    "          barrier(CLK_GLOBAL_MEM_FENCE);\n",
    "          \n",
    "        }\n",
    "      }\n",
    "      barrier(CLK_GLOBAL_MEM_FENCE);\n",
    "    }\"\"\").build()"
   ]
  },
  {
   "cell_type": "code",
   "execution_count": 133,
   "id": "88864470",
   "metadata": {},
   "outputs": [],
   "source": [
    "x_buf = cl.Buffer(ctx, mf.READ_ONLY | mf.COPY_HOST_PTR, hostbuf=x)\n",
    "y_buf = cl.Buffer(ctx, mf.READ_ONLY | mf.COPY_HOST_PTR, hostbuf=y)\n",
    "x_cp_buf = cl.Buffer(ctx, mf.WRITE_ONLY, bs*topk*topk*4)\n",
    "x_idx_buf = cl.Buffer(ctx, mf.WRITE_ONLY, bs*topk*4)\n",
    "y_idx_buf = cl.Buffer(ctx, mf.WRITE_ONLY, bs*topk*4)\n",
    "#x_cp_buft = cl.Buffer(ctx, mf.WRITE_ONLY, bs*topk*topk*4)\n",
    "#x_idx_buft = cl.Buffer(ctx, mf.WRITE_ONLY, bs*topk*4)\n",
    "#y_idx_buft = cl.Buffer(ctx, mf.WRITE_ONLY, bs*topk*4)\n",
    "\n",
    "prg = cl.Program(ctx, \"\"\"\n",
    "    // sorts x and y in ascending order and returns sorted indices\n",
    "    __kernel void genwupdate2(__global  float* x,     // INPUT MATRIX DATA\n",
    "                             __global  float* y,    // INPUT\n",
    "                             __global  float* xout,    // INPUT\n",
    "                             uint topk,\n",
    "                             uint bs,\n",
    "                             __global  uint* xoutidx,    // INPUT\n",
    "                             __global  uint* youtidx    // INPUT\n",
    "                            ) { // LOCAL SHARED BUFFER\n",
    "      uint gid = get_global_id(0);\n",
    "      uint n = get_global_size(0);\n",
    "      //uint bs = get_global_size(1);\n",
    "      //uint gid2 = get_global_id(1);\n",
    "\n",
    "      for (uint gid2=0; gid2<bs; gid2++){\n",
    "        uint idx = n*gid2+gid;\n",
    "\n",
    "        float valx = x[idx];\n",
    "        float valy = y[idx];\n",
    "        uint posx = 0;\n",
    "        uint posy = 0;\n",
    "        for (uint i = 0; i < n; i++) {\n",
    "          uint idx2 = n*gid2+i;\n",
    "          float tempval = x[idx2];\n",
    "          float tempval2 = y[idx2];\n",
    "          bool larger = tempval > valx;\n",
    "          bool larger2 = tempval2 > valy;\n",
    "\n",
    "          posx += (larger)?1:0;\n",
    "          posy += (larger2)?1:0;\n",
    "        }\n",
    "        //printf(\"posx:%i\", posx);\n",
    "        if (posx < topk) {\n",
    "        xoutidx[posx+topk*gid2] = gid;\n",
    "        }\n",
    "        if (posy < topk) {\n",
    "          youtidx[posy+topk*gid2] = gid;\n",
    "        }\n",
    "      }\n",
    "      for (uint gid2=0; gid2<bs; gid2++){\n",
    "        if (gid < topk) {\n",
    "          for (uint j=0; j<topk; j++) {\n",
    "            float res = x[xoutidx[gid+topk*gid2]+gid2*n] * y[youtidx[j+topk*gid2]+gid2*n];\n",
    "            //printf(\"\\\\nJ:%i  gid:%i\", j, gid);\n",
    "            //printf(\"\\\\nRES:%.2f - %i - %i -  %.2f - %.2f\",res, xoutidx[gid+topk*gid2], youtidx[j+topk*gid2], x[xoutidx[gid+topk*gid2]+gid2*n], y[youtidx[j+topk*gid2]+gid2*n]);\n",
    "            //barrier(CLK_GLOBAL_MEM_FENCE);\n",
    "            xout[gid2*topk*topk+j*topk+gid] = res;\n",
    "          }\n",
    "        }\n",
    "      }\n",
    "    }\"\"\").build()"
   ]
  },
  {
   "cell_type": "code",
   "execution_count": 134,
   "id": "94682965",
   "metadata": {},
   "outputs": [
    {
     "data": {
      "text/plain": [
       "<pyopencl._cl.NannyEvent at 0x7f83700c2310>"
      ]
     },
     "execution_count": 134,
     "metadata": {},
     "output_type": "execute_result"
    }
   ],
   "source": [
    "knl = prg.genwupdate2  # Use this Kernel object for repeated calls\n",
    "evt = knl(queue, [dim], None, x_buf, y_buf, x_cp_buf, np.uint32(topk), np.uint32(bs), x_idx_buf, y_idx_buf)\n",
    "\n",
    "#evt.wait()\n",
    "resx = np.zeros(bs*topk*topk).astype(np.float32)\n",
    "resxidx = np.zeros(bs*topk).astype(np.uint32)\n",
    "resyidx = np.zeros(bs*topk).astype(np.uint32)\n",
    "\n",
    "cl.enqueue_copy(queue, resx, x_cp_buf)\n",
    "cl.enqueue_copy(queue, resxidx, x_idx_buf)\n",
    "cl.enqueue_copy(queue, resyidx, y_idx_buf)"
   ]
  },
  {
   "cell_type": "markdown",
   "id": "771508c3",
   "metadata": {},
   "source": [
    "knl(queue, [dim], None, y_buf, x_buf, x_cp_buft, np.uint32(topk), np.uint32(bs), x_idx_buft, y_idx_buft)\n",
    "\n",
    "#evt.wait()\n",
    "resx = np.zeros(bs*topk*topk).astype(np.float32)\n",
    "resxidx = np.zeros(bs*topk).astype(np.uint32)\n",
    "resyidx = np.zeros(bs*topk).astype(np.uint32)\n",
    "\n",
    "cl.enqueue_copy(queue, resx, x_cp_buf)\n",
    "cl.enqueue_copy(queue, resxidx, x_idx_buf)\n",
    "cl.enqueue_copy(queue, resyidx, y_idx_buf)"
   ]
  },
  {
   "cell_type": "code",
   "execution_count": 135,
   "id": "88725ae2",
   "metadata": {},
   "outputs": [
    {
     "data": {
      "text/plain": [
       "array([[0.9827091 , 0.9194645 , 0.4981366 , 0.66838795, 0.5474538 ,\n",
       "        0.40575972, 0.9958302 , 0.20345955],\n",
       "       [0.26779327, 0.6635567 , 0.3809771 , 0.77226824, 0.9726815 ,\n",
       "        0.9388753 , 0.5080804 , 0.71193796],\n",
       "       [0.40523973, 0.12542877, 0.7244864 , 0.4206373 , 0.3261672 ,\n",
       "        0.4475811 , 0.6354743 , 0.61452025],\n",
       "       [0.27658024, 0.39447892, 0.6531694 , 0.53033537, 0.18122154,\n",
       "        0.5195999 , 0.35755244, 0.96476865]], dtype=float32)"
      ]
     },
     "execution_count": 135,
     "metadata": {},
     "output_type": "execute_result"
    }
   ],
   "source": [
    "x"
   ]
  },
  {
   "cell_type": "code",
   "execution_count": 136,
   "id": "4c150d0f",
   "metadata": {},
   "outputs": [
    {
     "data": {
      "text/plain": [
       "array([[0.99472564, 0.9190837 , 0.54388493, 0.02103365, 0.61888707,\n",
       "        0.48236775, 0.9965866 , 0.38499957],\n",
       "       [0.65865105, 0.83802146, 0.6091217 , 0.2992236 , 0.86233723,\n",
       "        0.10028819, 0.2559903 , 0.66472405],\n",
       "       [0.67872417, 0.35487846, 0.8405793 , 0.43321013, 0.11889594,\n",
       "        0.5728558 , 0.6004124 , 0.37214255],\n",
       "       [0.39329135, 0.6985067 , 0.11035349, 0.407237  , 0.2939341 ,\n",
       "        0.06044364, 0.6040797 , 0.56647724]], dtype=float32)"
      ]
     },
     "execution_count": 136,
     "metadata": {},
     "output_type": "execute_result"
    }
   ],
   "source": [
    "y"
   ]
  },
  {
   "cell_type": "code",
   "execution_count": 137,
   "id": "990b8af7",
   "metadata": {},
   "outputs": [
    {
     "data": {
      "text/plain": [
       "((4, 8), (4, 8))"
      ]
     },
     "execution_count": 137,
     "metadata": {},
     "output_type": "execute_result"
    }
   ],
   "source": [
    "x.shape, y.shape"
   ]
  },
  {
   "cell_type": "code",
   "execution_count": 138,
   "id": "1c18b7bb",
   "metadata": {},
   "outputs": [
    {
     "data": {
      "text/plain": [
       "array([0.99243104, 0.97935474, 0.9905778 , 0.97752595, 0.8387795 ,\n",
       "       0.8096271 , 0.81512797, 0.78679764, 0.6089883 , 0.5341665 ,\n",
       "       0.49172643, 0.4313118 , 0.6738974 , 0.45624322, 0.58279717,\n",
       "       0.3945664 ], dtype=float32)"
      ]
     },
     "execution_count": 138,
     "metadata": {},
     "output_type": "execute_result"
    }
   ],
   "source": [
    "resx"
   ]
  },
  {
   "cell_type": "code",
   "execution_count": 139,
   "id": "58d4154c",
   "metadata": {},
   "outputs": [
    {
     "data": {
      "text/plain": [
       "array([[[0.99243104, 0.97935474],\n",
       "        [0.9905778 , 0.97752595]],\n",
       "\n",
       "       [[0.8387795 , 0.8096271 ],\n",
       "        [0.81512797, 0.78679764]],\n",
       "\n",
       "       [[0.6089883 , 0.5341665 ],\n",
       "        [0.49172643, 0.4313118 ]],\n",
       "\n",
       "       [[0.6738974 , 0.45624322],\n",
       "        [0.58279717, 0.3945664 ]]], dtype=float32)"
      ]
     },
     "execution_count": 139,
     "metadata": {},
     "output_type": "execute_result"
    }
   ],
   "source": [
    "resx.reshape(bs,topk,topk)"
   ]
  },
  {
   "cell_type": "code",
   "execution_count": 140,
   "id": "5cca2876",
   "metadata": {},
   "outputs": [
    {
     "data": {
      "text/plain": [
       "array([6, 0, 4, 5, 2, 6, 7, 2], dtype=uint32)"
      ]
     },
     "execution_count": 140,
     "metadata": {},
     "output_type": "execute_result"
    }
   ],
   "source": [
    "resxidx"
   ]
  },
  {
   "cell_type": "code",
   "execution_count": 141,
   "id": "80deeac2",
   "metadata": {},
   "outputs": [
    {
     "data": {
      "text/plain": [
       "array([6, 0, 4, 1, 2, 0, 1, 6], dtype=uint32)"
      ]
     },
     "execution_count": 141,
     "metadata": {},
     "output_type": "execute_result"
    }
   ],
   "source": [
    "resyidx"
   ]
  },
  {
   "cell_type": "code",
   "execution_count": 142,
   "id": "3020c7d7",
   "metadata": {},
   "outputs": [
    {
     "data": {
      "text/plain": [
       "(8, 8)"
      ]
     },
     "execution_count": 142,
     "metadata": {},
     "output_type": "execute_result"
    }
   ],
   "source": [
    "idx = 1\n",
    "xy0 = x[idx].reshape(dim,1)*y[idx]\n",
    "xy0.shape"
   ]
  },
  {
   "cell_type": "code",
   "execution_count": 143,
   "id": "fc865ccb",
   "metadata": {},
   "outputs": [
    {
     "data": {
      "text/plain": [
       "0.51334524"
      ]
     },
     "execution_count": 143,
     "metadata": {},
     "output_type": "execute_result"
    }
   ],
   "source": [
    "xy0[3][7]"
   ]
  },
  {
   "cell_type": "markdown",
   "id": "1b1742a3",
   "metadata": {},
   "source": [
    "## Weight update kernel new"
   ]
  },
  {
   "cell_type": "code",
   "execution_count": 144,
   "id": "9f4bce2c",
   "metadata": {},
   "outputs": [
    {
     "data": {
      "text/plain": [
       "array([[0.        , 0.        , 0.4093198 ],\n",
       "       [0.        , 0.27073938, 0.        ],\n",
       "       [0.        , 0.82387215, 0.        ],\n",
       "       [0.        , 0.        , 0.26969674],\n",
       "       [0.        , 0.        , 0.2974127 ],\n",
       "       [0.        , 0.        , 0.7703394 ]], dtype=float32)"
      ]
     },
     "execution_count": 144,
     "metadata": {},
     "output_type": "execute_result"
    }
   ],
   "source": [
    "b"
   ]
  },
  {
   "cell_type": "code",
   "execution_count": 145,
   "id": "48d63640",
   "metadata": {},
   "outputs": [],
   "source": [
    "c=np.zeros(a.T.shape)\n",
    "at = a.T\n",
    "for row in range(at.shape[0]):\n",
    "    for col in range(at.shape[1]):\n",
    "        c[row][col] = at[row][col]"
   ]
  },
  {
   "cell_type": "code",
   "execution_count": 146,
   "id": "e9fc7351",
   "metadata": {},
   "outputs": [
    {
     "data": {
      "text/plain": [
       "array([[0.48745027, 0.        , 0.        , 0.        ],\n",
       "       [0.        , 0.16462222, 0.5932638 , 0.        ],\n",
       "       [0.87602866, 0.        , 0.17645018, 0.        ],\n",
       "       [0.        , 0.41704008, 0.        , 0.7643324 ],\n",
       "       [0.        , 0.6265748 , 0.        , 0.93176633],\n",
       "       [0.57356703, 0.        , 0.6961791 , 0.62803787]], dtype=float32)"
      ]
     },
     "execution_count": 146,
     "metadata": {},
     "output_type": "execute_result"
    }
   ],
   "source": [
    "at"
   ]
  },
  {
   "cell_type": "code",
   "execution_count": 147,
   "id": "4ab3d6d9",
   "metadata": {},
   "outputs": [
    {
     "data": {
      "text/plain": [
       "array([[0.48745027, 0.        , 0.        , 0.        ],\n",
       "       [0.        , 0.16462222, 0.5932638 , 0.        ],\n",
       "       [0.87602866, 0.        , 0.17645018, 0.        ],\n",
       "       [0.        , 0.41704008, 0.        , 0.76433241],\n",
       "       [0.        , 0.62657481, 0.        , 0.93176633],\n",
       "       [0.57356703, 0.        , 0.69617909, 0.62803787]])"
      ]
     },
     "execution_count": 147,
     "metadata": {},
     "output_type": "execute_result"
    }
   ],
   "source": [
    "c"
   ]
  },
  {
   "cell_type": "markdown",
   "id": "f20ac323",
   "metadata": {},
   "source": [
    "a_buf = cl.Buffer(ctx, mf.READ_WRITE | mf.COPY_HOST_PTR, hostbuf=c.astype(np.float32))\n",
    "b_buf = cl.Buffer(ctx, mf.READ_WRITE | mf.COPY_HOST_PTR, hostbuf=b)\n",
    "x_cp_buf = cl.Buffer(ctx, mf.WRITE_ONLY, topk*topk*4)\n",
    "x_idx_buf = cl.Buffer(ctx, mf.WRITE_ONLY, topk*4)\n",
    "y_idx_buf = cl.Buffer(ctx, mf.WRITE_ONLY, topk*4)\n",
    "\n",
    "prg = cl.Program(ctx, \"\"\"\n",
    "    // sorts x and y in ascending order and returns sorted indices\n",
    "    __kernel void genwupdate3(__global  float* x,     // INPUT MATRIX DATA\n",
    "                             __global  float* y,    // INPUT\n",
    "                             uint topk,\n",
    "                             uint msize,\n",
    "                             __global  float* xout,    // INPUT\n",
    "                             __global  uint* xoutidx,    // INPUT\n",
    "                             __global  uint* youtidx    // INPUT\n",
    "                            ) { // LOCAL SHARED BUFFER\n",
    "      uint gid = get_global_id(0);\n",
    "      uint n = get_global_size(0);\n",
    "      uint bs = get_global_size(1);\n",
    "      uint gid2 = get_global_id(1);\n",
    "\n",
    "\n",
    "\n",
    "      uint idx = n*gid2+gid;\n",
    "      float valx = x[idx];\n",
    "      uint posx = 0;\n",
    "      for (uint i = 0; i < n; i++) {\n",
    "        uint idx2 = n*gid2+i;\n",
    "        float tempval = x[idx2];\n",
    "        bool larger = tempval > valx;\n",
    "        posx += (larger)?1:0;\n",
    "      }\n",
    "      \n",
    "      uint idxy = n*gid2+gid;\n",
    "      float valy = y[idx];\n",
    "      uint posy = 0;\n",
    "      for (uint i = 0; i < n; i++) {\n",
    "        uint idx2 = n*gid2+i;\n",
    "        float tempval2 = y[idx2];\n",
    "        bool larger2 = tempval2 > valy;\n",
    "        posy += (larger2)?1:0;\n",
    "      }\n",
    "      \n",
    "      if (posx < topk) {\n",
    "        xoutidx[posx+topk*gid2] = idx;\n",
    "      }\n",
    "      if (posy < topk) {\n",
    "        youtidx[posy+topk*gid2] = idxy;\n",
    "      }\n",
    "      return;\n",
    "      if (gid < topk) {\n",
    "        for (uint j=0; j<topk; j++) {\n",
    "          float res = x[xoutidx[gid+topk*gid2]+gid2*msize] * y[youtidx[j+topk*gid2]+gid2*msize];\n",
    "          printf(\"\\\\nJ:%i  gid:(%i,%i)\", j, gid, gid2);\n",
    "          printf(\"\\\\nRES:%.2f - %i - %i -  %.2f - %.2f\",res, xoutidx[gid+topk*gid2], youtidx[j+topk*gid2], x[xoutidx[gid+topk*gid2]+gid2*n], y[youtidx[j+topk*gid2]+gid2*n]);\n",
    "          //barrier(CLK_GLOBAL_MEM_FENCE);\n",
    "          xout[gid2*topk*topk+j*topk+gid] = res;\n",
    "        }\n",
    "      }\n",
    "    }\"\"\").build()"
   ]
  },
  {
   "cell_type": "code",
   "execution_count": 148,
   "id": "3eb221f6",
   "metadata": {},
   "outputs": [],
   "source": [
    "a_buf = cl.Buffer(ctx, mf.READ_WRITE | mf.COPY_HOST_PTR, hostbuf=c.astype(np.float32))\n",
    "b_buf = cl.Buffer(ctx, mf.READ_WRITE | mf.COPY_HOST_PTR, hostbuf=b)\n",
    "x_sum_buf = cl.Buffer(ctx, mf.WRITE_ONLY, a.shape[0]*4)\n",
    "y_sum_buf = cl.Buffer(ctx, mf.WRITE_ONLY, b.shape[1]*4)\n",
    "x_cp_buf = cl.Buffer(ctx, mf.WRITE_ONLY, topk*topk*4)\n",
    "x_idx_buf = cl.Buffer(ctx, mf.WRITE_ONLY, topk*4)\n",
    "y_idx_buf = cl.Buffer(ctx, mf.WRITE_ONLY, topk*4)\n",
    "\n",
    "prg = cl.Program(ctx, \"\"\"\n",
    "    // sorts x and y in ascending order and returns sorted indices\n",
    "    __kernel void genwupdate3(__global  float* x,     // INPUT MATRIX DATA\n",
    "                              __global  float* y,    // INPUT\n",
    "                              __global  float* xsum,    // INPUT\n",
    "                              __global  float* ysum,    // INPUT\n",
    "                              uint isize,\n",
    "                              uint msize,\n",
    "                              uint osize,\n",
    "                              uint topk,\n",
    "                              __global  float* xout,\n",
    "                              __global  uint* xoutidx,   \n",
    "                              __global  uint* youtidx    \n",
    "                              ) { \n",
    "      uint gid = get_global_id(0);\n",
    "      \n",
    "      // get for a: sum axis0  b: sum axis1 then get topk\n",
    "      ///////////////////////////////////////////////////\n",
    "      if (gid < isize) {\n",
    "        xsum[gid] = 0;\n",
    "        for (uint i=0; i<msize; i++) {\n",
    "          float val = x[i*isize+gid];\n",
    "          //if (gid == 0) {\n",
    "          //  printf(\"\\\\nADD VALx: %.2f - %i\", val, i*msize+gid);\n",
    "          //}\n",
    "          xsum[gid] += val;\n",
    "        }\n",
    "        \n",
    "        float valx = xsum[gid];\n",
    "        uint posx = 0;\n",
    "        for (uint i = 0; i < isize; i++) {\n",
    "          float tempval = xsum[i];\n",
    "          bool larger = tempval > valx;\n",
    "          posx += (larger)?1:0;\n",
    "        }\n",
    "        if (posx < topk) {\n",
    "          xoutidx[posx] = gid;\n",
    "        }\n",
    "      }\n",
    "      \n",
    "      if (gid < osize) {\n",
    "        ysum[gid] = 0;\n",
    "        for (uint i=0; i<msize; i++) {\n",
    "          float val = y[i*osize+gid];\n",
    "          if (gid == 0) {\n",
    "            printf(\"\\\\nADD VALx: %.2f - %i\", val, gid*osize+i);\n",
    "          }\n",
    "          ysum[gid] += val;\n",
    "        }\n",
    "        \n",
    "        float valy = ysum[gid];\n",
    "        uint posy = 0;\n",
    "        for (uint i = 0; i < osize; i++) {\n",
    "          float tempval = ysum[i];\n",
    "          bool larger = tempval > valy;\n",
    "          posy += (larger)?1:0;\n",
    "        }\n",
    "      \n",
    "        if (posy < topk) {\n",
    "          youtidx[posy] = gid;\n",
    "        }\n",
    "      }\n",
    "      \n",
    "      if (gid < topk) {\n",
    "        float valx = xoutidx[gid];\n",
    "        uint posx = 0;\n",
    "        for (uint i = 0; i < topk; i++) {\n",
    "          float tempval = xoutidx[i];\n",
    "          bool larger = tempval < valx;\n",
    "          posx += (larger)?1:0;\n",
    "        }\n",
    "        xoutidx[posx] = valx;\n",
    "        \n",
    "        float valy = youtidx[gid];\n",
    "        uint posy = 0;\n",
    "        for (uint i = 0; i < topk; i++) {\n",
    "          float tempval = youtidx[i];\n",
    "          bool larger = tempval < valy;\n",
    "          posy += (larger)?1:0;\n",
    "        }\n",
    "        youtidx[posy] = valy;\n",
    "      }\n",
    "      \n",
    "      // only calc matrix multiplications for used grads\n",
    "      ///////////////////////////////////////////////////\n",
    "      if (gid < topk) {\n",
    "        uint idxx = xoutidx[gid];\n",
    "        for (uint j=0; j<topk; j++) {\n",
    "          uint idxy = youtidx[j];\n",
    "          xout[j*topk+gid] = 0;\n",
    "          for (uint k=0; k<msize; k++) {\n",
    "            uint xidx2 = isize*k+idxx;\n",
    "            uint yidx2 = osize*k+idxy;\n",
    "            xout[j*topk+gid] += x[xidx2] * y[yidx2];\n",
    "            //if (gid == 0 && j == 1)\n",
    "            //  printf(\"\\\\n ADD VAL:%.2f,%.2f - (%i,%i) - (%i,%i,%i)\", x[xidx2], y[yidx2], idxx, idxy, gid, j, k);\n",
    "          }\n",
    "        }\n",
    "      }\n",
    "    }\"\"\").build()"
   ]
  },
  {
   "cell_type": "code",
   "execution_count": 149,
   "id": "5e0667f0",
   "metadata": {},
   "outputs": [
    {
     "data": {
      "text/plain": [
       "((4, 6), (6, 3))"
      ]
     },
     "execution_count": 149,
     "metadata": {},
     "output_type": "execute_result"
    }
   ],
   "source": [
    "a.shape, b.shape"
   ]
  },
  {
   "cell_type": "code",
   "execution_count": 150,
   "id": "75e3ecd7",
   "metadata": {},
   "outputs": [],
   "source": [
    "rows = a.shape[0]\n",
    "msize = a.shape[1]"
   ]
  },
  {
   "cell_type": "code",
   "execution_count": 151,
   "id": "67fede53",
   "metadata": {},
   "outputs": [],
   "source": [
    "cols = b.shape[1]"
   ]
  },
  {
   "cell_type": "code",
   "execution_count": 152,
   "id": "68f4e2f7",
   "metadata": {},
   "outputs": [],
   "source": [
    "mult = a.dot(b)"
   ]
  },
  {
   "cell_type": "code",
   "execution_count": 153,
   "id": "bbcc1bea",
   "metadata": {},
   "outputs": [],
   "source": [
    "mult = mult.astype(np.float32)"
   ]
  },
  {
   "cell_type": "code",
   "execution_count": 154,
   "id": "58a7c0c8",
   "metadata": {},
   "outputs": [
    {
     "name": "stdout",
     "output_type": "stream",
     "text": [
      "\n",
      "ADD VALx: 0.00 - 0\n",
      "ADD VALx: 0.00 - 1\n",
      "ADD VALx: 0.00 - 2\n",
      "ADD VALx: 0.00 - 3\n",
      "ADD VALx: 0.00 - 4\n",
      "ADD VALx: 0.00 - 5"
     ]
    },
    {
     "data": {
      "text/plain": [
       "<pyopencl._cl.NannyEvent at 0x7f837009e400>"
      ]
     },
     "execution_count": 154,
     "metadata": {},
     "output_type": "execute_result"
    }
   ],
   "source": [
    "res_buf = cl.Buffer(ctx, mf.READ_WRITE, np.prod([rows,b.shape[1]])*4)\n",
    "knl = prg.genwupdate3  # Use this Kernel object for repeated calls\n",
    "evt = knl(queue, [max(rows,cols)], None, a_buf, b_buf, x_sum_buf, y_sum_buf, np.uint32(rows), np.uint32(msize),np.uint32(cols), np.uint32(topk), x_cp_buf, x_idx_buf, y_idx_buf)\n",
    "\n",
    "resxsum = np.zeros(a.shape[0]).astype(np.float32)\n",
    "resysum = np.zeros(b.shape[1]).astype(np.float32)\n",
    "resx = np.zeros(topk*topk).astype(np.float32)\n",
    "resxidx = np.zeros(topk).astype(np.uint32)\n",
    "resyidx = np.zeros(topk).astype(np.uint32)\n",
    "\n",
    "cl.enqueue_copy(queue, resxsum, x_sum_buf)\n",
    "cl.enqueue_copy(queue, resysum, y_sum_buf)\n",
    "cl.enqueue_copy(queue, resx, x_cp_buf)\n",
    "cl.enqueue_copy(queue, resxidx, x_idx_buf)\n",
    "cl.enqueue_copy(queue, resyidx, y_idx_buf)"
   ]
  },
  {
   "cell_type": "code",
   "execution_count": 155,
   "id": "5dab05c7",
   "metadata": {},
   "outputs": [
    {
     "data": {
      "text/plain": [
       "array([[0.7217356 , 0.        ],\n",
       "       [0.64136434, 0.96705943]], dtype=float32)"
      ]
     },
     "execution_count": 155,
     "metadata": {},
     "output_type": "execute_result"
    }
   ],
   "source": [
    "resx.reshape(topk,topk)"
   ]
  },
  {
   "cell_type": "code",
   "execution_count": 156,
   "id": "c8bf38e6",
   "metadata": {},
   "outputs": [
    {
     "data": {
      "text/plain": [
       "array([[0.48745027, 0.        , 0.87602866, 0.        , 0.        ,\n",
       "        0.57356703],\n",
       "       [0.        , 0.16462222, 0.        , 0.41704008, 0.6265748 ,\n",
       "        0.        ],\n",
       "       [0.        , 0.5932638 , 0.17645018, 0.        , 0.        ,\n",
       "        0.6961791 ],\n",
       "       [0.        , 0.        , 0.        , 0.7643324 , 0.93176633,\n",
       "        0.62803787]], dtype=float32)"
      ]
     },
     "execution_count": 156,
     "metadata": {},
     "output_type": "execute_result"
    }
   ],
   "source": [
    "a"
   ]
  },
  {
   "cell_type": "code",
   "execution_count": 157,
   "id": "6b350c12",
   "metadata": {},
   "outputs": [
    {
     "data": {
      "text/plain": [
       "array([[0.        , 0.        , 0.        , 0.        , 0.        ,\n",
       "        0.        ],\n",
       "       [0.        , 0.27073938, 0.82387215, 0.        , 0.        ,\n",
       "        0.        ],\n",
       "       [0.4093198 , 0.        , 0.        , 0.26969674, 0.2974127 ,\n",
       "        0.7703394 ]], dtype=float32)"
      ]
     },
     "execution_count": 157,
     "metadata": {},
     "output_type": "execute_result"
    }
   ],
   "source": [
    "b.T"
   ]
  },
  {
   "cell_type": "code",
   "execution_count": 158,
   "id": "5e267f71",
   "metadata": {},
   "outputs": [
    {
     "data": {
      "text/plain": [
       "array([1.9370459, 1.2082372, 1.465893 , 2.3241367], dtype=float32)"
      ]
     },
     "execution_count": 158,
     "metadata": {},
     "output_type": "execute_result"
    }
   ],
   "source": [
    "resxsum"
   ]
  },
  {
   "cell_type": "code",
   "execution_count": 159,
   "id": "e374bd1f",
   "metadata": {},
   "outputs": [
    {
     "data": {
      "text/plain": [
       "array([0.       , 1.0946115, 1.7467687], dtype=float32)"
      ]
     },
     "execution_count": 159,
     "metadata": {},
     "output_type": "execute_result"
    }
   ],
   "source": [
    "resysum"
   ]
  },
  {
   "cell_type": "code",
   "execution_count": 160,
   "id": "b254f74f",
   "metadata": {},
   "outputs": [
    {
     "data": {
      "text/plain": [
       "array([1.9370459, 1.2082372, 1.465893 , 2.3241367], dtype=float32)"
      ]
     },
     "execution_count": 160,
     "metadata": {},
     "output_type": "execute_result"
    }
   ],
   "source": [
    "a.sum(axis=1)"
   ]
  },
  {
   "cell_type": "code",
   "execution_count": 161,
   "id": "e264d60f",
   "metadata": {},
   "outputs": [
    {
     "data": {
      "text/plain": [
       "array([0.       , 1.0946115, 1.7467687], dtype=float32)"
      ]
     },
     "execution_count": 161,
     "metadata": {},
     "output_type": "execute_result"
    }
   ],
   "source": [
    "b.sum(axis=0)"
   ]
  },
  {
   "cell_type": "code",
   "execution_count": 162,
   "id": "529cc660",
   "metadata": {},
   "outputs": [
    {
     "data": {
      "text/plain": [
       "array([[0.        , 0.7217356 , 0.64136434],\n",
       "       [0.        , 0.04456972, 0.29882565],\n",
       "       [0.        , 0.30599225, 0.5362942 ],\n",
       "       [0.        , 0.        , 0.96705943]], dtype=float32)"
      ]
     },
     "execution_count": 162,
     "metadata": {},
     "output_type": "execute_result"
    }
   ],
   "source": [
    "mult"
   ]
  },
  {
   "cell_type": "code",
   "execution_count": 163,
   "id": "ee933d58",
   "metadata": {},
   "outputs": [
    {
     "data": {
      "text/plain": [
       "array([0, 3], dtype=uint32)"
      ]
     },
     "execution_count": 163,
     "metadata": {},
     "output_type": "execute_result"
    }
   ],
   "source": [
    "resxidx"
   ]
  },
  {
   "cell_type": "code",
   "execution_count": 164,
   "id": "23535acb",
   "metadata": {},
   "outputs": [
    {
     "data": {
      "text/plain": [
       "array([1, 2], dtype=uint32)"
      ]
     },
     "execution_count": 164,
     "metadata": {},
     "output_type": "execute_result"
    }
   ],
   "source": [
    "resyidx"
   ]
  },
  {
   "cell_type": "code",
   "execution_count": 165,
   "id": "475e967a",
   "metadata": {},
   "outputs": [
    {
     "data": {
      "text/plain": [
       "(8, 8)"
      ]
     },
     "execution_count": 165,
     "metadata": {},
     "output_type": "execute_result"
    }
   ],
   "source": [
    "idx = 1\n",
    "xy0 = x[idx].reshape(dim,1)*y[idx]\n",
    "xy0.shape"
   ]
  },
  {
   "cell_type": "code",
   "execution_count": 166,
   "id": "281c094b",
   "metadata": {},
   "outputs": [
    {
     "data": {
      "text/plain": [
       "0.17638232"
      ]
     },
     "execution_count": 166,
     "metadata": {},
     "output_type": "execute_result"
    }
   ],
   "source": [
    "xy0[0][0]"
   ]
  },
  {
   "cell_type": "markdown",
   "id": "dd7d168d",
   "metadata": {},
   "source": [
    "## Weight update kernel new2 (sparse ouput)"
   ]
  },
  {
   "cell_type": "code",
   "execution_count": 167,
   "id": "bb732702",
   "metadata": {},
   "outputs": [],
   "source": [
    "c=np.zeros(a.T.shape)\n",
    "at = a.T\n",
    "for row in range(at.shape[0]):\n",
    "    for col in range(at.shape[1]):\n",
    "        c[row][col] = at[row][col]"
   ]
  },
  {
   "cell_type": "code",
   "execution_count": 820,
   "id": "b7cdd2cb",
   "metadata": {},
   "outputs": [],
   "source": [
    "a_buf = cl.Buffer(ctx, mf.READ_WRITE | mf.COPY_HOST_PTR, hostbuf=c.astype(np.float32))\n",
    "b_buf = cl.Buffer(ctx, mf.READ_WRITE | mf.COPY_HOST_PTR, hostbuf=b)\n",
    "x_sum_buf = cl.Buffer(ctx, mf.WRITE_ONLY, a.shape[0]*4)\n",
    "y_sum_buf = cl.Buffer(ctx, mf.WRITE_ONLY, b.shape[1]*4)\n",
    "x_idx_buf = cl.Buffer(ctx, mf.WRITE_ONLY, topk*4)\n",
    "y_idx_buf = cl.Buffer(ctx, mf.WRITE_ONLY, topk*4)\n",
    "sdata_buf = cl.Buffer(ctx, mf.READ_WRITE, a.shape[0]*topk*4)\n",
    "sidxs_buf = cl.Buffer(ctx, mf.READ_WRITE, a.shape[0]*topk*4)\n",
    "snnzs_buf = cl.Buffer(ctx, mf.READ_WRITE, a.shape[0]*4)\n",
    "sdatat_buf = cl.Buffer(ctx, mf.READ_WRITE, b.shape[1]*topk*4)\n",
    "sidxst_buf = cl.Buffer(ctx, mf.READ_WRITE, b.shape[1]*topk*4)\n",
    "snnzst_buf = cl.Buffer(ctx, mf.READ_WRITE, b.shape[1]*4)\n",
    "\n",
    "prg = cl.Program(ctx, \"\"\"\n",
    "    // sorts x and y in ascending order and returns sorted indices\n",
    "    __kernel void genwupdate4(__global  float* x,     // INPUT MATRIX DATA\n",
    "                              __global  float* y,    // INPUT\n",
    "                              __global  float* xsum,    // INPUT\n",
    "                              __global  float* ysum,    // INPUT\n",
    "                              uint isize,\n",
    "                              uint msize,\n",
    "                              uint osize,\n",
    "                              uint topk,\n",
    "                              __global  uint*  xoutidx,\n",
    "                              __global  uint*  youtidx,\n",
    "                              __global  float* matData,     // INPUT MATRIX DATA\n",
    "                              __global  uint*  colIdx,\n",
    "                              __global  uint*  rowNnz,\n",
    "                              __global  float* matDatat,     // INPUT MATRIX DATA\n",
    "                              __global  uint*  colIdxt,\n",
    "                              __global  uint*  rowNnzt\n",
    "                              ) { \n",
    "      uint gid = get_global_id(0);\n",
    "      \n",
    "      // get for a: sum axis0  b: sum axis1 then get topk\n",
    "      ///////////////////////////////////////////////////\n",
    "      if (gid < isize) {\n",
    "        xsum[gid] = 0;\n",
    "        for (uint i=0; i<msize; i++) {\n",
    "          float val = x[i*isize+gid];\n",
    "          //if (gid == 0) {\n",
    "          //  printf(\"\\\\nADD VALx: %.2f - %i\", val, i*msize+gid);\n",
    "          //}\n",
    "          xsum[gid] += val;\n",
    "        }\n",
    "        \n",
    "        float valx = xsum[gid];\n",
    "        uint posx = 0;\n",
    "        for (uint i = 0; i < isize; i++) {\n",
    "          float tempval = xsum[i];\n",
    "          bool larger = tempval > valx;\n",
    "          posx += (larger)?1:0;\n",
    "        }\n",
    "        if (posx < topk) {\n",
    "          xoutidx[posx] = gid;\n",
    "        }\n",
    "      }\n",
    "      \n",
    "      if (gid < osize) {\n",
    "        ysum[gid] = 0;\n",
    "        for (uint i=0; i<msize; i++) {\n",
    "          float val = y[i*osize+gid];\n",
    "          //if (gid == 0) {\n",
    "          //  printf(\"\\\\nADD VALx: %.2f - %i\", val, gid*osize+i);\n",
    "          //}\n",
    "          ysum[gid] += val;\n",
    "        }\n",
    "        \n",
    "        float valy = ysum[gid];\n",
    "        uint posy = 0;\n",
    "        for (uint i = 0; i < osize; i++) {\n",
    "          float tempval = ysum[i];\n",
    "          bool larger = tempval > valy;\n",
    "          posy += (larger)?1:0;\n",
    "        }\n",
    "      \n",
    "        if (posy < topk) {\n",
    "          youtidx[posy] = gid;\n",
    "        }\n",
    "      }\n",
    "      \n",
    "      if (gid < topk) {\n",
    "        float valx = xoutidx[gid];\n",
    "        uint posx = 0;\n",
    "        for (uint i = 0; i < topk; i++) {\n",
    "          float tempval = xoutidx[i];\n",
    "          bool larger = tempval < valx;\n",
    "          posx += (larger)?1:0;\n",
    "        }\n",
    "        xoutidx[posx] = valx;\n",
    "        \n",
    "        float valy = youtidx[gid];\n",
    "        uint posy = 0;\n",
    "        for (uint i = 0; i < topk; i++) {\n",
    "          float tempval = youtidx[i];\n",
    "          bool larger = tempval < valy;\n",
    "          posy += (larger)?1:0;\n",
    "        }\n",
    "        youtidx[posy] = valy;\n",
    "      }\n",
    "      \n",
    "      // only calc matrix multiplications for used grads\n",
    "      ///////////////////////////////////////////////////\n",
    "      if (gid < isize) {\n",
    "        for (uint i=0; i<topk; i++) {\n",
    "          matData[gid*topk+i] = 0;\n",
    "          colIdx[gid*topk+i] = 0;\n",
    "        }\n",
    "        rowNnz[gid] = 0;  \n",
    "      }\n",
    "      if (gid < osize) {\n",
    "        for (uint i=0; i<topk; i++) {\n",
    "          matDatat[gid*topk+i] = 0;\n",
    "          colIdxt[gid*topk+i] = 0;\n",
    "        }\n",
    "        rowNnzt[gid] = 0;  \n",
    "      }\n",
    "      \n",
    "      \n",
    "      if (gid < topk) {\n",
    "        uint idxx = xoutidx[gid];\n",
    "        for (uint j=0; j<topk; j++) {\n",
    "          uint idxy = youtidx[j];\n",
    "          //printf(\"\\\\nIDXX:%i  IDXY:%i\", idxx, idxy);\n",
    "          for (uint k=0; k<msize; k++) {\n",
    "            uint xidx2 = isize*k+idxx;\n",
    "            uint yidx2 = osize*k+idxy;\n",
    "            uint colidx = idxy;\n",
    "            matData[idxx*topk+j] += x[xidx2] * y[yidx2];\n",
    "            colIdx[idxx*topk+j] = idxy;\n",
    "            //if (gid == 0)\n",
    "            //  printf(\"\\\\n ADD VAL:%.2f,%.2f - (%i,%i) - (%i,%i,%i)\", x[xidx2], y[yidx2], idxx, idxy, gid, j, k);\n",
    "          }\n",
    "          rowNnz[idxx] += 1;\n",
    "        }\n",
    "      }\n",
    "      \n",
    "      if (gid < topk) {\n",
    "        uint idxy = youtidx[gid];\n",
    "        for (uint j=0; j<topk; j++) {\n",
    "          uint idxx = xoutidx[j];\n",
    "          printf(\"\\\\nB-IDXX:%i  IDXY:%i\", idxx, idxy);\n",
    "          for (uint k=0; k<msize; k++) {\n",
    "            uint xidx2 = isize*k+idxx;\n",
    "            uint yidx2 = osize*k+idxy;\n",
    "            uint colidx = idxy;\n",
    "            float addval = x[xidx2] * y[yidx2];\n",
    "\n",
    "            matDatat[idxy*topk+j] += addval;\n",
    "            colIdxt[j*topk+idxx] = idxx;\n",
    "            if (gid == 0)\n",
    "              printf(\"\\\\n ADD VAL:%.2f,%.2f - (%i,%i) - (%i,%i,%i)\", x[xidx2], y[yidx2], idxx, idxy, gid, j, k);\n",
    "          }\n",
    "          rowNnzt[idxy] += 1;\n",
    "          printf(\"\\\\nAdd NNz:%i - %i\", idxy, rowNnzt[idxy]);\n",
    "        }\n",
    "      }\n",
    "    }\"\"\").build()"
   ]
  },
  {
   "cell_type": "code",
   "execution_count": 821,
   "id": "b83baf27",
   "metadata": {},
   "outputs": [
    {
     "data": {
      "text/plain": [
       "((4, 6), (6, 3))"
      ]
     },
     "execution_count": 821,
     "metadata": {},
     "output_type": "execute_result"
    }
   ],
   "source": [
    "a.shape, b.shape"
   ]
  },
  {
   "cell_type": "code",
   "execution_count": 822,
   "id": "e748ce5a",
   "metadata": {},
   "outputs": [],
   "source": [
    "rows = a.shape[0]\n",
    "msize = a.shape[1]"
   ]
  },
  {
   "cell_type": "code",
   "execution_count": 823,
   "id": "2644fbcd",
   "metadata": {},
   "outputs": [],
   "source": [
    "cols = b.shape[1]"
   ]
  },
  {
   "cell_type": "code",
   "execution_count": 824,
   "id": "831a647a",
   "metadata": {},
   "outputs": [],
   "source": [
    "mult = a.dot(b)"
   ]
  },
  {
   "cell_type": "code",
   "execution_count": 825,
   "id": "f4ebfa6e",
   "metadata": {},
   "outputs": [],
   "source": [
    "mult = mult.astype(np.float32)"
   ]
  },
  {
   "cell_type": "code",
   "execution_count": 826,
   "id": "d33bcc3b",
   "metadata": {},
   "outputs": [
    {
     "name": "stdout",
     "output_type": "stream",
     "text": [
      "\n",
      "B-IDXX:0  IDXY:1\n",
      "B-IDXX:0  IDXY:2\n",
      " ADD VAL:0.49,0.00 - (0,1) - (0,0,0)\n",
      " ADD VAL:0.00,0.27 - (0,1) - (0,0,1)\n",
      " ADD VAL:0.88,0.82 - (0,1) - (0,0,2)\n",
      " ADD VAL:0.00,0.00 - (0,1) - (0,0,3)\n",
      " ADD VAL:0.00,0.00 - (0,1) - (0,0,4)\n",
      " ADD VAL:0.57,0.00 - (0,1) - (0,0,5)\n",
      "Add NNz:1 - 1\n",
      "Add NNz:2 - 1\n",
      "B-IDXX:3  IDXY:1\n",
      "B-IDXX:3  IDXY:2\n",
      " ADD VAL:0.00,0.00 - (3,1) - (0,1,0)\n",
      " ADD VAL:0.00,0.27 - (3,1) - (0,1,1)\n",
      " ADD VAL:0.00,0.82 - (3,1) - (0,1,2)\n",
      " ADD VAL:0.76,0.00 - (3,1) - (0,1,3)\n",
      " ADD VAL:0.93,0.00 - (3,1) - (0,1,4)\n",
      " ADD VAL:0.63,0.00 - (3,1) - (0,1,5)\n",
      "Add NNz:1 - 2\n",
      "Add NNz:2 - 2"
     ]
    },
    {
     "data": {
      "text/plain": [
       "<pyopencl._cl.NannyEvent at 0x7f835c02f270>"
      ]
     },
     "execution_count": 826,
     "metadata": {},
     "output_type": "execute_result"
    }
   ],
   "source": [
    "res_buf = cl.Buffer(ctx, mf.READ_WRITE, np.prod([rows,b.shape[1]])*4)\n",
    "knl = prg.genwupdate4  # Use this Kernel object for repeated calls\n",
    "evt = knl(queue, [max(rows,cols)], None, a_buf, b_buf, x_sum_buf, y_sum_buf, np.uint32(rows), np.uint32(msize),np.uint32(cols), \n",
    "          np.uint32(topk), x_idx_buf, y_idx_buf, sdata_buf, sidxs_buf, snnzs_buf, sdatat_buf, sidxst_buf, snnzst_buf)\n",
    "\n",
    "resxsum = np.zeros(a.shape[0]).astype(np.float32)\n",
    "resysum = np.zeros(b.shape[1]).astype(np.float32)\n",
    "resxidx = np.zeros(topk).astype(np.uint32)\n",
    "resyidx = np.zeros(topk).astype(np.uint32)\n",
    "resxdat = np.zeros(a.shape[0]*topk).astype(np.float32)\n",
    "resxcol = np.zeros(a.shape[0]*topk).astype(np.uint32)\n",
    "resxnnz = np.zeros(a.shape[0]).astype(np.uint32)\n",
    "resxdatt = np.zeros(b.shape[1]*topk).astype(np.float32)\n",
    "resxcolt = np.zeros(b.shape[1]*topk).astype(np.uint32)\n",
    "resxnnzt = np.zeros(b.shape[1]).astype(np.uint32)\n",
    "\n",
    "cl.enqueue_copy(queue, resxsum, x_sum_buf)\n",
    "cl.enqueue_copy(queue, resysum, y_sum_buf)\n",
    "cl.enqueue_copy(queue, resxidx, x_idx_buf)\n",
    "cl.enqueue_copy(queue, resyidx, y_idx_buf)\n",
    "cl.enqueue_copy(queue, resxdat, sdata_buf)\n",
    "cl.enqueue_copy(queue, resxcol, sidxs_buf)\n",
    "cl.enqueue_copy(queue, resxnnz, snnzs_buf)\n",
    "cl.enqueue_copy(queue, resxdatt, sdatat_buf)\n",
    "cl.enqueue_copy(queue, resxcolt, sidxst_buf)\n",
    "cl.enqueue_copy(queue, resxnnzt, snnzst_buf)"
   ]
  },
  {
   "cell_type": "markdown",
   "id": "ba30494c",
   "metadata": {},
   "source": [
    "## results"
   ]
  },
  {
   "cell_type": "code",
   "execution_count": 827,
   "id": "948792f2",
   "metadata": {},
   "outputs": [
    {
     "data": {
      "text/plain": [
       "array([[0.        , 0.7217356 , 0.64136434],\n",
       "       [0.        , 0.04456972, 0.29882565],\n",
       "       [0.        , 0.30599225, 0.5362942 ],\n",
       "       [0.        , 0.        , 0.96705943]], dtype=float32)"
      ]
     },
     "execution_count": 827,
     "metadata": {},
     "output_type": "execute_result"
    }
   ],
   "source": [
    "mult"
   ]
  },
  {
   "cell_type": "code",
   "execution_count": 828,
   "id": "f8b71237",
   "metadata": {},
   "outputs": [
    {
     "data": {
      "text/plain": [
       "array([[0.7217356 , 0.64136434],\n",
       "       [0.        , 0.        ],\n",
       "       [0.        , 0.        ],\n",
       "       [0.        , 0.96705943]], dtype=float32)"
      ]
     },
     "execution_count": 828,
     "metadata": {},
     "output_type": "execute_result"
    }
   ],
   "source": [
    "resxdat.reshape(a.shape[0],topk)"
   ]
  },
  {
   "cell_type": "code",
   "execution_count": 829,
   "id": "8e5e2645",
   "metadata": {},
   "outputs": [
    {
     "data": {
      "text/plain": [
       "array([[1, 2],\n",
       "       [0, 0],\n",
       "       [0, 0],\n",
       "       [1, 2]], dtype=uint32)"
      ]
     },
     "execution_count": 829,
     "metadata": {},
     "output_type": "execute_result"
    }
   ],
   "source": [
    "resxcol.reshape(a.shape[0],topk)"
   ]
  },
  {
   "cell_type": "code",
   "execution_count": 830,
   "id": "b4c00dc8",
   "metadata": {},
   "outputs": [
    {
     "data": {
      "text/plain": [
       "array([2, 0, 0, 2], dtype=uint32)"
      ]
     },
     "execution_count": 830,
     "metadata": {},
     "output_type": "execute_result"
    }
   ],
   "source": [
    "resxnnz.reshape(a.shape[0])"
   ]
  },
  {
   "cell_type": "code",
   "execution_count": 831,
   "id": "1b66eca2",
   "metadata": {},
   "outputs": [
    {
     "data": {
      "text/plain": [
       "array([[0.        , 0.        ],\n",
       "       [0.7217356 , 0.        ],\n",
       "       [0.64136434, 0.96705943]], dtype=float32)"
      ]
     },
     "execution_count": 831,
     "metadata": {},
     "output_type": "execute_result"
    }
   ],
   "source": [
    "resxdatt.reshape(b.shape[1],topk)"
   ]
  },
  {
   "cell_type": "code",
   "execution_count": 818,
   "id": "9b51b04f",
   "metadata": {},
   "outputs": [
    {
     "data": {
      "text/plain": [
       "array([[0, 0],\n",
       "       [0, 0],\n",
       "       [0, 3]], dtype=uint32)"
      ]
     },
     "execution_count": 818,
     "metadata": {},
     "output_type": "execute_result"
    }
   ],
   "source": [
    "resxcolt.reshape(b.shape[1],topk)"
   ]
  },
  {
   "cell_type": "code",
   "execution_count": 819,
   "id": "b39b5e51",
   "metadata": {},
   "outputs": [
    {
     "data": {
      "text/plain": [
       "array([0, 2, 2], dtype=uint32)"
      ]
     },
     "execution_count": 819,
     "metadata": {},
     "output_type": "execute_result"
    }
   ],
   "source": [
    "resxnnzt.reshape(b.shape[1])"
   ]
  },
  {
   "cell_type": "markdown",
   "id": "5b77788d",
   "metadata": {},
   "source": [
    "## comp"
   ]
  },
  {
   "cell_type": "code",
   "execution_count": 632,
   "id": "995c75cf",
   "metadata": {},
   "outputs": [
    {
     "data": {
      "text/plain": [
       "array([[0.48745027, 0.        , 0.87602866, 0.        , 0.        ,\n",
       "        0.57356703],\n",
       "       [0.        , 0.16462222, 0.        , 0.41704008, 0.6265748 ,\n",
       "        0.        ],\n",
       "       [0.        , 0.5932638 , 0.17645018, 0.        , 0.        ,\n",
       "        0.6961791 ],\n",
       "       [0.        , 0.        , 0.        , 0.7643324 , 0.93176633,\n",
       "        0.62803787]], dtype=float32)"
      ]
     },
     "execution_count": 632,
     "metadata": {},
     "output_type": "execute_result"
    }
   ],
   "source": [
    "a"
   ]
  },
  {
   "cell_type": "code",
   "execution_count": 633,
   "id": "7fdd34e0",
   "metadata": {},
   "outputs": [
    {
     "data": {
      "text/plain": [
       "array([[0.        , 0.        , 0.4093198 ],\n",
       "       [0.        , 0.27073938, 0.        ],\n",
       "       [0.        , 0.82387215, 0.        ],\n",
       "       [0.        , 0.        , 0.26969674],\n",
       "       [0.        , 0.        , 0.2974127 ],\n",
       "       [0.        , 0.        , 0.7703394 ]], dtype=float32)"
      ]
     },
     "execution_count": 633,
     "metadata": {},
     "output_type": "execute_result"
    }
   ],
   "source": [
    "b"
   ]
  },
  {
   "cell_type": "code",
   "execution_count": 634,
   "id": "8f68025c",
   "metadata": {},
   "outputs": [
    {
     "data": {
      "text/plain": [
       "array([1.9370459, 1.2082372, 1.465893 , 2.3241367], dtype=float32)"
      ]
     },
     "execution_count": 634,
     "metadata": {},
     "output_type": "execute_result"
    }
   ],
   "source": [
    "resxsum"
   ]
  },
  {
   "cell_type": "code",
   "execution_count": 635,
   "id": "ec3b98ea",
   "metadata": {},
   "outputs": [
    {
     "data": {
      "text/plain": [
       "array([1.9370459, 1.2082372, 1.465893 , 2.3241367], dtype=float32)"
      ]
     },
     "execution_count": 635,
     "metadata": {},
     "output_type": "execute_result"
    }
   ],
   "source": [
    "a.sum(axis=1)"
   ]
  },
  {
   "cell_type": "code",
   "execution_count": 636,
   "id": "af61e721",
   "metadata": {},
   "outputs": [
    {
     "data": {
      "text/plain": [
       "array([0.       , 1.0946115, 1.7467687], dtype=float32)"
      ]
     },
     "execution_count": 636,
     "metadata": {},
     "output_type": "execute_result"
    }
   ],
   "source": [
    "resysum"
   ]
  },
  {
   "cell_type": "code",
   "execution_count": 637,
   "id": "7f86e278",
   "metadata": {},
   "outputs": [
    {
     "data": {
      "text/plain": [
       "array([0.       , 1.0946115, 1.7467687], dtype=float32)"
      ]
     },
     "execution_count": 637,
     "metadata": {},
     "output_type": "execute_result"
    }
   ],
   "source": [
    "b.sum(axis=0)"
   ]
  },
  {
   "cell_type": "code",
   "execution_count": 638,
   "id": "bd25a1b9",
   "metadata": {},
   "outputs": [
    {
     "data": {
      "text/plain": [
       "array([[0.        , 0.7217356 , 0.64136434],\n",
       "       [0.        , 0.04456972, 0.29882565],\n",
       "       [0.        , 0.30599225, 0.5362942 ],\n",
       "       [0.        , 0.        , 0.96705943]], dtype=float32)"
      ]
     },
     "execution_count": 638,
     "metadata": {},
     "output_type": "execute_result"
    }
   ],
   "source": [
    "mult"
   ]
  },
  {
   "cell_type": "code",
   "execution_count": 639,
   "id": "b1c8eb82",
   "metadata": {},
   "outputs": [
    {
     "data": {
      "text/plain": [
       "array([0, 3], dtype=uint32)"
      ]
     },
     "execution_count": 639,
     "metadata": {},
     "output_type": "execute_result"
    }
   ],
   "source": [
    "resxidx"
   ]
  },
  {
   "cell_type": "code",
   "execution_count": 640,
   "id": "f8616ea5",
   "metadata": {},
   "outputs": [
    {
     "data": {
      "text/plain": [
       "array([1, 2], dtype=uint32)"
      ]
     },
     "execution_count": 640,
     "metadata": {},
     "output_type": "execute_result"
    }
   ],
   "source": [
    "resyidx"
   ]
  },
  {
   "cell_type": "code",
   "execution_count": 641,
   "id": "f13bff2a",
   "metadata": {},
   "outputs": [
    {
     "data": {
      "text/plain": [
       "(8, 8)"
      ]
     },
     "execution_count": 641,
     "metadata": {},
     "output_type": "execute_result"
    }
   ],
   "source": [
    "idx = 1\n",
    "xy0 = x[idx].reshape(dim,1)*y[idx]\n",
    "xy0.shape"
   ]
  },
  {
   "cell_type": "code",
   "execution_count": 642,
   "id": "df566d42",
   "metadata": {},
   "outputs": [
    {
     "data": {
      "text/plain": [
       "0.17638232"
      ]
     },
     "execution_count": 642,
     "metadata": {},
     "output_type": "execute_result"
    }
   ],
   "source": [
    "xy0[0][0]"
   ]
  },
  {
   "cell_type": "markdown",
   "id": "c0c255da",
   "metadata": {},
   "source": [
    "### update vals add dense"
   ]
  },
  {
   "cell_type": "code",
   "execution_count": 190,
   "id": "7b96afa2",
   "metadata": {},
   "outputs": [
    {
     "data": {
      "text/plain": [
       "array([[-0.4501702 , -0.93507725, -1.5426744 ,  1.9229764 , -1.0766345 ,\n",
       "         1.7863922 ],\n",
       "       [ 0.05685159,  0.27631328,  0.5853075 , -0.16239385, -0.04222736,\n",
       "         1.0666897 ],\n",
       "       [ 0.20182703,  0.11041164,  0.39537126,  0.6592285 ,  0.24079415,\n",
       "        -1.8186953 ],\n",
       "       [ 0.457027  ,  0.1587936 , -0.8318175 , -0.76691616,  2.037848  ,\n",
       "         0.31351304]], dtype=float32)"
      ]
     },
     "execution_count": 190,
     "metadata": {},
     "output_type": "execute_result"
    }
   ],
   "source": [
    "matadd = np.random.randn(*a.shape).astype(np.float32)\n",
    "matadd"
   ]
  },
  {
   "cell_type": "code",
   "execution_count": 191,
   "id": "412cfeec",
   "metadata": {},
   "outputs": [
    {
     "data": {
      "text/plain": [
       "array([[0.48745027, 0.        , 0.87602866, 0.        , 0.        ,\n",
       "        0.57356703],\n",
       "       [0.        , 0.16462222, 0.        , 0.41704008, 0.6265748 ,\n",
       "        0.        ],\n",
       "       [0.        , 0.5932638 , 0.17645018, 0.        , 0.        ,\n",
       "        0.6961791 ],\n",
       "       [0.        , 0.        , 0.        , 0.7643324 , 0.93176633,\n",
       "        0.62803787]], dtype=float32)"
      ]
     },
     "execution_count": 191,
     "metadata": {},
     "output_type": "execute_result"
    }
   ],
   "source": [
    "a"
   ]
  },
  {
   "cell_type": "code",
   "execution_count": 192,
   "id": "5db87320",
   "metadata": {},
   "outputs": [],
   "source": [
    "a_added = a + matadd"
   ]
  },
  {
   "cell_type": "code",
   "execution_count": 193,
   "id": "20c7d51e",
   "metadata": {},
   "outputs": [],
   "source": [
    "adata_buf = cl.Buffer(ctx, mf.READ_WRITE | mf.COPY_HOST_PTR, hostbuf=adata)\n",
    "acols_buf = cl.Buffer(ctx, mf.READ_WRITE | mf.COPY_HOST_PTR, hostbuf=acols)\n",
    "annzs_buf = cl.Buffer(ctx, mf.READ_WRITE | mf.COPY_HOST_PTR, hostbuf=annz)\n",
    "adatat_buf = cl.Buffer(ctx, mf.READ_WRITE | mf.COPY_HOST_PTR, hostbuf=adatat)\n",
    "acolst_buf = cl.Buffer(ctx, mf.READ_WRITE | mf.COPY_HOST_PTR, hostbuf=acolst)\n",
    "annzst_buf = cl.Buffer(ctx, mf.READ_WRITE | mf.COPY_HOST_PTR, hostbuf=annzt)\n",
    "add_buf = cl.Buffer(ctx, mf.READ_WRITE | mf.COPY_HOST_PTR, hostbuf=matadd)\n",
    "\n",
    "prg = cl.Program(ctx, \"\"\"\n",
    "    // Every global_id_0 works on a row\n",
    "    __kernel void adddense(__global  float* matData,     // INPUT MATRIX DATA\n",
    "                            __global  uint*  colIdx,\n",
    "                            __global  uint*  rowNnz,\n",
    "                            float  lr,\n",
    "                            uint   ellwidth,\n",
    "                            uint   awidth,\n",
    "                            __global  float* vector_x    // INPUT\n",
    "                            ) { // LOCAL SHARED BUFFER\n",
    "      uint gid = get_global_id(0);\n",
    "      uint nrows = get_global_size(0);\n",
    "\n",
    "      uint nnz    = rowNnz[gid];\n",
    "      uint baseidxs = gid*ellwidth;\n",
    "      uint baseidxd = gid*awidth;\n",
    "      \n",
    "      for (uint i=0; i<awidth; i++) {\n",
    "        float addval = vector_x[baseidxd+i];\n",
    "        //if (gid==1)\n",
    "        //  printf(\"\\\\nADD VAL:%.2f idx:%i/%i  col:%i\", addval, baseidxs+i, baseidxd+i, colIdx[baseidxs+i]);\n",
    "        if (addval == 0) {\n",
    "          continue;\n",
    "        }\n",
    "        if (i == colIdx[baseidxs+i]) {\n",
    "          matData[baseidxs+i] += addval;\n",
    "        } else {\n",
    "          if (rowNnz[gid] >= ellwidth) {\n",
    "            break;\n",
    "          }\n",
    "          if (i > colIdx[baseidxs+i]) {\n",
    "            rowNnz[gid] += 1;\n",
    "            //if (gid==1)\n",
    "            //  printf(\"\\\\nSET VAL:%.2f idx:%i/%i  col:%i\", addval, baseidxs+i, baseidxd+i, colIdx[i]);\n",
    "            matData[baseidxs+i] = addval;\n",
    "            colIdx[baseidxs+i] = i;\n",
    "            continue;\n",
    "          }\n",
    "          for (uint j=nnz; j>i; j--) {\n",
    "            //printf(\"\\\\nMOVE:%.2f\", matData[baseidx+j-1]);\n",
    "            colIdx[baseidxs+j] = colIdx[baseidxs+j-1];\n",
    "            matData[baseidxs+j] = matData[baseidxs+j-1];\n",
    "          }\n",
    "          rowNnz[gid] += 1;\n",
    "          nnz = rowNnz[gid];\n",
    "          //if (gid==1)\n",
    "          //  printf(\"\\\\nSET VAL:%.2f idx:%i/%i  col:%i\", addval, baseidxs+i, baseidxd+i, colIdx[i]);\n",
    "          matData[baseidxs+i] = addval;\n",
    "          colIdx[baseidxs+i] = i;\n",
    "          if (nnz >= ellwidth)\n",
    "            break;\n",
    "        }\n",
    "      }\n",
    "    }\"\"\").build()"
   ]
  },
  {
   "cell_type": "code",
   "execution_count": 194,
   "id": "2adf45e7",
   "metadata": {},
   "outputs": [
    {
     "data": {
      "text/plain": [
       "((4, 6), (6, 3))"
      ]
     },
     "execution_count": 194,
     "metadata": {},
     "output_type": "execute_result"
    }
   ],
   "source": [
    "a.shape, b.shape"
   ]
  },
  {
   "cell_type": "code",
   "execution_count": 195,
   "id": "324edd08",
   "metadata": {},
   "outputs": [],
   "source": [
    "res = np.zeros(a.shape[0]).astype(np.float32)\n",
    "#res"
   ]
  },
  {
   "cell_type": "code",
   "execution_count": 196,
   "id": "2cf60c63",
   "metadata": {},
   "outputs": [],
   "source": [
    "rows = a.shape[0]"
   ]
  },
  {
   "cell_type": "code",
   "execution_count": 197,
   "id": "05c4e97c",
   "metadata": {},
   "outputs": [],
   "source": [
    "mult = mult.astype(np.float32)"
   ]
  },
  {
   "cell_type": "code",
   "execution_count": 198,
   "id": "7d3bb3fd",
   "metadata": {},
   "outputs": [
    {
     "data": {
      "text/plain": [
       "<pyopencl._cl.Event at 0x7f837006aef0>"
      ]
     },
     "execution_count": 198,
     "metadata": {},
     "output_type": "execute_result"
    }
   ],
   "source": [
    "res_buf = cl.Buffer(ctx, mf.WRITE_ONLY, b.nbytes)\n",
    "knl = prg.adddense  # Use this Kernel object for repeated calls\n",
    "knl(queue, [rows], None, adata_buf, acols_buf, annzs_buf, np.float32(1), np.uint32(ellwa),np.uint32(a.shape[1]), add_buf)"
   ]
  },
  {
   "cell_type": "code",
   "execution_count": 199,
   "id": "91283016",
   "metadata": {},
   "outputs": [
    {
     "data": {
      "text/plain": [
       "-0.4501702"
      ]
     },
     "execution_count": 199,
     "metadata": {},
     "output_type": "execute_result"
    }
   ],
   "source": [
    "matadd[0][0]"
   ]
  },
  {
   "cell_type": "code",
   "execution_count": 200,
   "id": "f520b590",
   "metadata": {},
   "outputs": [
    {
     "data": {
      "text/plain": [
       "<pyopencl._cl.NannyEvent at 0x7f8370010310>"
      ]
     },
     "execution_count": 200,
     "metadata": {},
     "output_type": "execute_result"
    }
   ],
   "source": [
    "data_res = np.empty_like(adata)\n",
    "cols_res = np.empty_like(acols)\n",
    "nnzs_res = np.empty_like(annz)\n",
    "cl.enqueue_copy(queue, data_res, adata_buf)\n",
    "cl.enqueue_copy(queue, cols_res, acols_buf)\n",
    "cl.enqueue_copy(queue, nnzs_res, annzs_buf)"
   ]
  },
  {
   "cell_type": "code",
   "execution_count": 201,
   "id": "945bad1d",
   "metadata": {},
   "outputs": [
    {
     "data": {
      "text/plain": [
       "array([[0.03728008, 0.        , 0.87602866, 0.        , 0.        ,\n",
       "        0.57356703],\n",
       "       [0.        , 0.16462222, 0.        , 0.41704008, 0.62657481,\n",
       "        0.        ],\n",
       "       [0.        , 0.5932638 , 0.17645018, 0.        , 0.        ,\n",
       "        0.69617909],\n",
       "       [0.        , 0.        , 0.        , 0.76433241, 0.93176633,\n",
       "        0.62803787]])"
      ]
     },
     "execution_count": 201,
     "metadata": {},
     "output_type": "execute_result"
    }
   ],
   "source": [
    "adenseadd = to_dense(data_res, cols_res, nnzs_res, ellwa, a.shape)\n",
    "adenseadd"
   ]
  },
  {
   "cell_type": "code",
   "execution_count": 202,
   "id": "9dc5db0f",
   "metadata": {},
   "outputs": [
    {
     "data": {
      "text/plain": [
       "array([[0.48745027, 0.        , 0.87602866, 0.        , 0.        ,\n",
       "        0.57356703],\n",
       "       [0.        , 0.16462222, 0.        , 0.41704008, 0.6265748 ,\n",
       "        0.        ],\n",
       "       [0.        , 0.5932638 , 0.17645018, 0.        , 0.        ,\n",
       "        0.6961791 ],\n",
       "       [0.        , 0.        , 0.        , 0.7643324 , 0.93176633,\n",
       "        0.62803787]], dtype=float32)"
      ]
     },
     "execution_count": 202,
     "metadata": {},
     "output_type": "execute_result"
    }
   ],
   "source": [
    "a"
   ]
  },
  {
   "cell_type": "code",
   "execution_count": 203,
   "id": "7dffdf20",
   "metadata": {},
   "outputs": [
    {
     "data": {
      "text/plain": [
       "array([[-0.4501702 , -0.93507725, -1.5426744 ,  1.9229764 , -1.0766345 ,\n",
       "         1.7863922 ],\n",
       "       [ 0.05685159,  0.27631328,  0.5853075 , -0.16239385, -0.04222736,\n",
       "         1.0666897 ],\n",
       "       [ 0.20182703,  0.11041164,  0.39537126,  0.6592285 ,  0.24079415,\n",
       "        -1.8186953 ],\n",
       "       [ 0.457027  ,  0.1587936 , -0.8318175 , -0.76691616,  2.037848  ,\n",
       "         0.31351304]], dtype=float32)"
      ]
     },
     "execution_count": 203,
     "metadata": {},
     "output_type": "execute_result"
    }
   ],
   "source": [
    "matadd"
   ]
  },
  {
   "cell_type": "code",
   "execution_count": 204,
   "id": "e0e10dd1",
   "metadata": {},
   "outputs": [
    {
     "data": {
      "text/plain": [
       "array([[ 3.7280083e-02, -9.3507725e-01, -6.6664577e-01,  1.9229764e+00,\n",
       "        -1.0766345e+00,  2.3599591e+00],\n",
       "       [ 5.6851588e-02,  4.4093549e-01,  5.8530748e-01,  2.5464624e-01,\n",
       "         5.8434743e-01,  1.0666897e+00],\n",
       "       [ 2.0182703e-01,  7.0367545e-01,  5.7182145e-01,  6.5922850e-01,\n",
       "         2.4079415e-01, -1.1225162e+00],\n",
       "       [ 4.5702699e-01,  1.5879360e-01, -8.3181751e-01, -2.5837421e-03,\n",
       "         2.9696143e+00,  9.4155091e-01]], dtype=float32)"
      ]
     },
     "execution_count": 204,
     "metadata": {},
     "output_type": "execute_result"
    }
   ],
   "source": [
    "a_added"
   ]
  },
  {
   "cell_type": "code",
   "execution_count": 205,
   "id": "23f0c0c2",
   "metadata": {},
   "outputs": [
    {
     "data": {
      "text/plain": [
       "array([[ True, False, False, False, False, False],\n",
       "       [False, False, False, False, False, False],\n",
       "       [False, False, False, False, False, False],\n",
       "       [False, False, False, False, False, False]])"
      ]
     },
     "execution_count": 205,
     "metadata": {},
     "output_type": "execute_result"
    }
   ],
   "source": [
    "adenseadd == a_added"
   ]
  },
  {
   "cell_type": "markdown",
   "id": "2c377b84",
   "metadata": {},
   "source": [
    "### update vals"
   ]
  },
  {
   "cell_type": "code",
   "execution_count": 206,
   "id": "f334a950",
   "metadata": {},
   "outputs": [],
   "source": [
    "adatat_buf = cl.Buffer(ctx, mf.READ_WRITE | mf.COPY_HOST_PTR, hostbuf=adatat)\n",
    "acolst_buf = cl.Buffer(ctx, mf.READ_WRITE | mf.COPY_HOST_PTR, hostbuf=acolst)\n",
    "annzst_buf = cl.Buffer(ctx, mf.READ_WRITE | mf.COPY_HOST_PTR, hostbuf=annzt)\n",
    "add_buf = cl.Buffer(ctx, mf.READ_WRITE | mf.COPY_HOST_PTR, hostbuf=matadd)\n",
    "\n",
    "prg = cl.Program(ctx, \"\"\"\n",
    "    // Every global_id_0 works on a row\n",
    "    __kernel void adddenset(__global  float* matData,     // INPUT MATRIX DATA\n",
    "                            __global  uint*  colIdx,\n",
    "                            __global  uint*  rowNnz,\n",
    "                            float  lr,\n",
    "                            uint   ellwidth,\n",
    "                            uint   aheight,\n",
    "                            __global  float* vector_x    // INPUT\n",
    "                            ) { // LOCAL SHARED BUFFER\n",
    "      uint gid = get_global_id(0);\n",
    "      uint ncols = get_global_size(0);\n",
    "\n",
    "      uint nnz    = rowNnz[gid];\n",
    "      uint baseidxs = gid*ellwidth;\n",
    "      \n",
    "      for (uint i=0; i<aheight; i++) {\n",
    "        if (nnz > ellwidth)\n",
    "            break;\n",
    "        uint baseidxd = i*ncols+gid;\n",
    "        float addval = vector_x[baseidxd];\n",
    "        //if (gid==1)\n",
    "        //  printf(\"\\\\nADD VAL:%.2f idx:%i/%i  col:%i\", addval, baseidxs+i, baseidxd+i, colIdx[baseidxs+i]);\n",
    "        if (addval == 0) {\n",
    "          continue;\n",
    "        }\n",
    "        if (i == colIdx[baseidxs+i]) {\n",
    "          printf(\"\\\\nADD VAL:%.2f idx:%i/%i  col:%i\", addval, baseidxs+i, baseidxd+i, colIdx[i]);\n",
    "          matData[baseidxs+i] += addval;\n",
    "        } else {\n",
    "          if (rowNnz[gid] >= ellwidth) {\n",
    "            break;\n",
    "          }\n",
    "          if (i > colIdx[baseidxs+i]) {\n",
    "            rowNnz[gid] += 1;\n",
    "            //if (gid==1)\n",
    "            //  printf(\"\\\\nSET VAL:%.2f idx:%i/%i  col:%i\", addval, baseidxs+i, baseidxd+i, colIdx[i]);\n",
    "            matData[baseidxs+i] = addval;\n",
    "            colIdx[baseidxs+i] = i;\n",
    "            continue;\n",
    "          }\n",
    "          for (uint j=nnz; j>i; j--) {\n",
    "            //printf(\"\\\\nMOVE:%.2f\", matData[baseidx+j-1]);\n",
    "            colIdx[baseidxs+j] = colIdx[baseidxs+j-1];\n",
    "            matData[baseidxs+j] = matData[baseidxs+j-1];\n",
    "          }\n",
    "          rowNnz[gid] += 1;\n",
    "          nnz = rowNnz[gid];\n",
    "          //if (gid==1)\n",
    "          //  printf(\"\\\\nSET VAL:%.2f idx:%i/%i  col:%i\", addval, baseidxs+i, baseidxd+i, colIdx[i]);\n",
    "          matData[baseidxs+i] = addval;\n",
    "          colIdx[baseidxs+i] = i;\n",
    "        }\n",
    "      }\n",
    "    }\"\"\").build()"
   ]
  },
  {
   "cell_type": "code",
   "execution_count": 207,
   "id": "3df220e3",
   "metadata": {},
   "outputs": [
    {
     "data": {
      "text/plain": [
       "((4, 6), (6, 3))"
      ]
     },
     "execution_count": 207,
     "metadata": {},
     "output_type": "execute_result"
    }
   ],
   "source": [
    "a.shape, b.shape"
   ]
  },
  {
   "cell_type": "code",
   "execution_count": 208,
   "id": "4a70fde5",
   "metadata": {},
   "outputs": [],
   "source": [
    "res = np.zeros(a.shape[0]).astype(np.float32)\n",
    "#res"
   ]
  },
  {
   "cell_type": "code",
   "execution_count": 209,
   "id": "49cee8e5",
   "metadata": {},
   "outputs": [],
   "source": [
    "cols = a.shape[1]"
   ]
  },
  {
   "cell_type": "code",
   "execution_count": 210,
   "id": "ce0c1ed9",
   "metadata": {},
   "outputs": [],
   "source": [
    "mult = mult.astype(np.float32)"
   ]
  },
  {
   "cell_type": "code",
   "execution_count": 211,
   "id": "bf98ad4e",
   "metadata": {},
   "outputs": [
    {
     "data": {
      "text/plain": [
       "<pyopencl._cl.Event at 0x7f8370056860>"
      ]
     },
     "execution_count": 211,
     "metadata": {},
     "output_type": "execute_result"
    },
    {
     "name": "stdout",
     "output_type": "stream",
     "text": [
      "\n",
      "ADD VAL:-0.45 idx:0/0  col:0\n",
      "ADD VAL:-1.54 idx:6/2  col:0\n",
      "ADD VAL:1.79 idx:15/5  col:0\n",
      "ADD VAL:0.28 idx:4/8  col:0\n",
      "ADD VAL:-0.16 idx:10/10  col:0\n",
      "ADD VAL:-0.04 idx:13/11  col:0\n",
      "ADD VAL:0.11 idx:5/15  col:0\n",
      "ADD VAL:0.40 idx:8/16  col:0"
     ]
    }
   ],
   "source": [
    "res_buf = cl.Buffer(ctx, mf.WRITE_ONLY, b.nbytes)\n",
    "knl = prg.adddenset  # Use this Kernel object for repeated calls\n",
    "knl(queue, [cols], None, adatat_buf, acolst_buf, annzst_buf, np.float32(1), np.uint32(ellwat),np.uint32(a.T.shape[1]), add_buf)"
   ]
  },
  {
   "cell_type": "code",
   "execution_count": 212,
   "id": "d01027d6",
   "metadata": {},
   "outputs": [
    {
     "data": {
      "text/plain": [
       "-0.4501702"
      ]
     },
     "execution_count": 212,
     "metadata": {},
     "output_type": "execute_result"
    }
   ],
   "source": [
    "matadd[0][0]"
   ]
  },
  {
   "cell_type": "code",
   "execution_count": 213,
   "id": "c8aa298b",
   "metadata": {},
   "outputs": [
    {
     "data": {
      "text/plain": [
       "<pyopencl._cl.NannyEvent at 0x7f8370005310>"
      ]
     },
     "execution_count": 213,
     "metadata": {},
     "output_type": "execute_result"
    }
   ],
   "source": [
    "datat_res = np.empty_like(adatat)\n",
    "colst_res = np.empty_like(acolst)\n",
    "nnzst_res = np.empty_like(annzt)\n",
    "cl.enqueue_copy(queue, datat_res, adatat_buf)\n",
    "cl.enqueue_copy(queue, colst_res, acolst_buf)\n",
    "cl.enqueue_copy(queue, nnzst_res, annzst_buf)"
   ]
  },
  {
   "cell_type": "code",
   "execution_count": 214,
   "id": "1520b090",
   "metadata": {},
   "outputs": [
    {
     "data": {
      "text/plain": [
       "array([[ 0.03728008, -0.93507725, -0.66664577,  1.92297637, -1.07663453,\n",
       "         2.35995913],\n",
       "       [ 0.05685159,  0.44093549,  0.58530748,  0.25464624,  0.58434743,\n",
       "         0.        ],\n",
       "       [ 0.20182703,  0.70367545,  0.57182145,  0.        ,  0.        ,\n",
       "         0.69617909],\n",
       "       [ 0.        ,  0.        ,  0.        ,  0.76433241,  0.93176633,\n",
       "         0.62803787]])"
      ]
     },
     "execution_count": 214,
     "metadata": {},
     "output_type": "execute_result"
    }
   ],
   "source": [
    "adenseaddt = to_dense(datat_res, colst_res, nnzst_res, ellwat, a.T.shape).T\n",
    "adenseaddt"
   ]
  },
  {
   "cell_type": "code",
   "execution_count": 215,
   "id": "4991edea",
   "metadata": {},
   "outputs": [
    {
     "data": {
      "text/plain": [
       "array([[0.48745027, 0.        , 0.87602866, 0.        , 0.        ,\n",
       "        0.57356703],\n",
       "       [0.        , 0.16462222, 0.        , 0.41704008, 0.6265748 ,\n",
       "        0.        ],\n",
       "       [0.        , 0.5932638 , 0.17645018, 0.        , 0.        ,\n",
       "        0.6961791 ],\n",
       "       [0.        , 0.        , 0.        , 0.7643324 , 0.93176633,\n",
       "        0.62803787]], dtype=float32)"
      ]
     },
     "execution_count": 215,
     "metadata": {},
     "output_type": "execute_result"
    }
   ],
   "source": [
    "a"
   ]
  },
  {
   "cell_type": "code",
   "execution_count": 216,
   "id": "a02d1ebb",
   "metadata": {},
   "outputs": [
    {
     "data": {
      "text/plain": [
       "array([[-0.4501702 , -0.93507725, -1.5426744 ,  1.9229764 , -1.0766345 ,\n",
       "         1.7863922 ],\n",
       "       [ 0.05685159,  0.27631328,  0.5853075 , -0.16239385, -0.04222736,\n",
       "         1.0666897 ],\n",
       "       [ 0.20182703,  0.11041164,  0.39537126,  0.6592285 ,  0.24079415,\n",
       "        -1.8186953 ],\n",
       "       [ 0.457027  ,  0.1587936 , -0.8318175 , -0.76691616,  2.037848  ,\n",
       "         0.31351304]], dtype=float32)"
      ]
     },
     "execution_count": 216,
     "metadata": {},
     "output_type": "execute_result"
    }
   ],
   "source": [
    "matadd"
   ]
  },
  {
   "cell_type": "code",
   "execution_count": 217,
   "id": "39b90dde",
   "metadata": {},
   "outputs": [
    {
     "data": {
      "text/plain": [
       "array([[ 3.7280083e-02, -9.3507725e-01, -6.6664577e-01,  1.9229764e+00,\n",
       "        -1.0766345e+00,  2.3599591e+00],\n",
       "       [ 5.6851588e-02,  4.4093549e-01,  5.8530748e-01,  2.5464624e-01,\n",
       "         5.8434743e-01,  1.0666897e+00],\n",
       "       [ 2.0182703e-01,  7.0367545e-01,  5.7182145e-01,  6.5922850e-01,\n",
       "         2.4079415e-01, -1.1225162e+00],\n",
       "       [ 4.5702699e-01,  1.5879360e-01, -8.3181751e-01, -2.5837421e-03,\n",
       "         2.9696143e+00,  9.4155091e-01]], dtype=float32)"
      ]
     },
     "execution_count": 217,
     "metadata": {},
     "output_type": "execute_result"
    }
   ],
   "source": [
    "a_added"
   ]
  },
  {
   "cell_type": "code",
   "execution_count": 218,
   "id": "03c95777",
   "metadata": {},
   "outputs": [
    {
     "data": {
      "text/plain": [
       "array([[ True,  True,  True,  True,  True,  True],\n",
       "       [ True,  True,  True,  True,  True, False],\n",
       "       [ True,  True,  True, False, False, False],\n",
       "       [False, False, False, False, False, False]])"
      ]
     },
     "execution_count": 218,
     "metadata": {},
     "output_type": "execute_result"
    }
   ],
   "source": [
    "adenseaddt == a_added"
   ]
  },
  {
   "cell_type": "markdown",
   "id": "f62eb300",
   "metadata": {},
   "source": [
    "### Make Random"
   ]
  },
  {
   "cell_type": "code",
   "execution_count": 219,
   "id": "bc590ff4",
   "metadata": {},
   "outputs": [
    {
     "data": {
      "text/plain": [
       "<SparseTensor <GPUBuffer with shape (8,)> with grad None>"
      ]
     },
     "execution_count": 219,
     "metadata": {},
     "output_type": "execute_result"
    }
   ],
   "source": [
    "rand = SparseTensor.uniform(2,4)\n",
    "rand"
   ]
  },
  {
   "cell_type": "code",
   "execution_count": 220,
   "id": "186cbd5b",
   "metadata": {},
   "outputs": [
    {
     "data": {
      "text/plain": [
       "array([[0.00509653, 0.00227681, 0.00474796, 0.00318518],\n",
       "       [0.00288702, 0.00722332, 0.00380243, 0.00371085]])"
      ]
     },
     "execution_count": 220,
     "metadata": {},
     "output_type": "execute_result"
    }
   ],
   "source": [
    "rand.to_numpy()"
   ]
  },
  {
   "cell_type": "code",
   "execution_count": 221,
   "id": "86441521",
   "metadata": {},
   "outputs": [
    {
     "data": {
      "text/plain": [
       "<GPUBuffer with shape (8,)>"
      ]
     },
     "execution_count": 221,
     "metadata": {},
     "output_type": "execute_result"
    }
   ],
   "source": [
    "rand.data"
   ]
  },
  {
   "cell_type": "markdown",
   "id": "6644b755",
   "metadata": {},
   "source": [
    "### update vals"
   ]
  },
  {
   "cell_type": "code",
   "execution_count": 222,
   "id": "73b60325",
   "metadata": {},
   "outputs": [],
   "source": [
    "adata_buf = cl.Buffer(ctx, mf.READ_WRITE | mf.COPY_HOST_PTR, hostbuf=adata)\n",
    "acols_buf = cl.Buffer(ctx, mf.READ_WRITE | mf.COPY_HOST_PTR, hostbuf=acols)\n",
    "annzs_buf = cl.Buffer(ctx, mf.READ_WRITE | mf.COPY_HOST_PTR, hostbuf=annz)"
   ]
  },
  {
   "cell_type": "code",
   "execution_count": 223,
   "id": "7cb03af3",
   "metadata": {},
   "outputs": [
    {
     "ename": "RuntimeError",
     "evalue": "clBuildProgram failed: BUILD_PROGRAM_FAILURE - clBuildProgram failed: BUILD_PROGRAM_FAILURE - clBuildProgram failed: BUILD_PROGRAM_FAILURE\n\nBuild on <pyopencl.Device 'GeForce GTX 1080 Ti' on 'NVIDIA CUDA' at 0x5645a7c33cb0>:\n\n<kernel>:13:35: error: expected ';' at end of declaration\n      uint gid2 = get_global_id(1)z;\n                                  ^\n                                  ;\n\n(options: -I /home/fpaboim/.conda/envs/tinygrad/lib/python3.8/site-packages/pyopencl/cl)\n(source saved as /tmp/tmpps54edlt.cl)",
     "output_type": "error",
     "traceback": [
      "\u001b[0;31m---------------------------------------------------------------------------\u001b[0m",
      "\u001b[0;31mRuntimeError\u001b[0m                              Traceback (most recent call last)",
      "\u001b[0;32m/tmp/ipykernel_8329/4074284671.py\u001b[0m in \u001b[0;36m<module>\u001b[0;34m\u001b[0m\n\u001b[0;32m----> 1\u001b[0;31m prg = cl.Program(ctx, \"\"\"\n\u001b[0m\u001b[1;32m      2\u001b[0m \u001b[0;34m//\u001b[0m \u001b[0mEvery\u001b[0m \u001b[0mglobal_id_0\u001b[0m \u001b[0mworks\u001b[0m \u001b[0mon\u001b[0m \u001b[0ma\u001b[0m \u001b[0mrow\u001b[0m\u001b[0;34m\u001b[0m\u001b[0;34m\u001b[0m\u001b[0m\n\u001b[1;32m      3\u001b[0m     __kernel void addvals(__global  float* matData,     // INPUT MATRIX DATA\n\u001b[1;32m      4\u001b[0m                          \u001b[0m__global\u001b[0m  \u001b[0muint\u001b[0m\u001b[0;34m*\u001b[0m  \u001b[0mcolIdx\u001b[0m\u001b[0;34m,\u001b[0m\u001b[0;34m\u001b[0m\u001b[0;34m\u001b[0m\u001b[0m\n\u001b[1;32m      5\u001b[0m                          \u001b[0m__global\u001b[0m  \u001b[0muint\u001b[0m\u001b[0;34m*\u001b[0m  \u001b[0mrowNnz\u001b[0m\u001b[0;34m,\u001b[0m\u001b[0;34m\u001b[0m\u001b[0;34m\u001b[0m\u001b[0m\n",
      "\u001b[0;32m~/.conda/envs/tinygrad/lib/python3.8/site-packages/pyopencl/__init__.py\u001b[0m in \u001b[0;36mbuild\u001b[0;34m(self, options, devices, cache_dir)\u001b[0m\n\u001b[1;32m    534\u001b[0m \u001b[0;34m\u001b[0m\u001b[0m\n\u001b[1;32m    535\u001b[0m             \u001b[0;32mfrom\u001b[0m \u001b[0mpyopencl\u001b[0m\u001b[0;34m.\u001b[0m\u001b[0mcache\u001b[0m \u001b[0;32mimport\u001b[0m \u001b[0mcreate_built_program_from_source_cached\u001b[0m\u001b[0;34m\u001b[0m\u001b[0;34m\u001b[0m\u001b[0m\n\u001b[0;32m--> 536\u001b[0;31m             self._prg, was_cached = self._build_and_catch_errors(\n\u001b[0m\u001b[1;32m    537\u001b[0m                     lambda: create_built_program_from_source_cached(\n\u001b[1;32m    538\u001b[0m                         \u001b[0mself\u001b[0m\u001b[0;34m.\u001b[0m\u001b[0m_context\u001b[0m\u001b[0;34m,\u001b[0m \u001b[0mself\u001b[0m\u001b[0;34m.\u001b[0m\u001b[0m_source\u001b[0m\u001b[0;34m,\u001b[0m \u001b[0moptions_bytes\u001b[0m\u001b[0;34m,\u001b[0m \u001b[0mdevices\u001b[0m\u001b[0;34m,\u001b[0m\u001b[0;34m\u001b[0m\u001b[0;34m\u001b[0m\u001b[0m\n",
      "\u001b[0;32m~/.conda/envs/tinygrad/lib/python3.8/site-packages/pyopencl/__init__.py\u001b[0m in \u001b[0;36m_build_and_catch_errors\u001b[0;34m(self, build_func, options_bytes, source)\u001b[0m\n\u001b[1;32m    582\u001b[0m         \u001b[0;31m# Python 3.2 outputs the whole list of currently active exceptions\u001b[0m\u001b[0;34m\u001b[0m\u001b[0;34m\u001b[0m\u001b[0;34m\u001b[0m\u001b[0m\n\u001b[1;32m    583\u001b[0m         \u001b[0;31m# This serves to remove one (redundant) level from that nesting.\u001b[0m\u001b[0;34m\u001b[0m\u001b[0;34m\u001b[0m\u001b[0;34m\u001b[0m\u001b[0m\n\u001b[0;32m--> 584\u001b[0;31m         \u001b[0;32mraise\u001b[0m \u001b[0merr\u001b[0m\u001b[0;34m\u001b[0m\u001b[0;34m\u001b[0m\u001b[0m\n\u001b[0m\u001b[1;32m    585\u001b[0m \u001b[0;34m\u001b[0m\u001b[0m\n\u001b[1;32m    586\u001b[0m     \u001b[0;31m# }}}\u001b[0m\u001b[0;34m\u001b[0m\u001b[0;34m\u001b[0m\u001b[0;34m\u001b[0m\u001b[0m\n",
      "\u001b[0;31mRuntimeError\u001b[0m: clBuildProgram failed: BUILD_PROGRAM_FAILURE - clBuildProgram failed: BUILD_PROGRAM_FAILURE - clBuildProgram failed: BUILD_PROGRAM_FAILURE\n\nBuild on <pyopencl.Device 'GeForce GTX 1080 Ti' on 'NVIDIA CUDA' at 0x5645a7c33cb0>:\n\n<kernel>:13:35: error: expected ';' at end of declaration\n      uint gid2 = get_global_id(1)z;\n                                  ^\n                                  ;\n\n(options: -I /home/fpaboim/.conda/envs/tinygrad/lib/python3.8/site-packages/pyopencl/cl)\n(source saved as /tmp/tmpps54edlt.cl)"
     ]
    }
   ],
   "source": [
    "prg = cl.Program(ctx, \"\"\"\n",
    "// Every global_id_0 works on a row\n",
    "    __kernel void addvals(__global  float* matData,     // INPUT MATRIX DATA\n",
    "                         __global  uint*  colIdx,\n",
    "                         __global  uint*  rowNnz,\n",
    "                         float lr,\n",
    "                         uint   ellwidth,\n",
    "                         __global  float* updatevals,    // INPUT\n",
    "                         __global  uint* updatexidx,\n",
    "                         __global  uint* updateyidx\n",
    "                         ) { // LOCAL SHARED BUFFER\n",
    "      uint gid = get_global_id(0);\n",
    "      uint gid2 = get_global_id(1)z;\n",
    "      uint topk = get_global_size(0);\n",
    "      uint bs = get_global_size(1);\n",
    "      uint baseupdateidx = topk*topk*gid2;\n",
    "      uint baseidxidx = topk*gid2;\n",
    "      uint col = updateyidx[baseidxidx+gid];\n",
    "\n",
    "      for (uint i=0; i<topk; i++) {\n",
    "        float val = updatevals[baseupdateidx+gid*topk+i];\n",
    "        uint row = updatexidx[baseidxidx+i];\n",
    "        for (uint i=0; i<rowNnz[row]; i++) {\n",
    "          uint idx = row*ellwidth+i;\n",
    "          if (colIdx[idx] >= col) {\n",
    "            //printf(\"\\\\nFOUND:%i/%i  - idx:%i\", colIdx[idx], col, idx);\n",
    "            if (colIdx[idx] == col) {\n",
    "              matData[idx] += -val*lr;\n",
    "              printf(\"\\\\nUPDATE[%i,%i]: %f\", row,col, val);\n",
    "              break;\n",
    "            } else {\n",
    "              // insert new column\n",
    "              printf(\"\\\\nINSERT[%i,%i]: %.2f\", row,col, val);\n",
    "              for (uint j=rowNnz[row]+1; j>i; j--) {\n",
    "                uint idx2 = row*ellwidth+j;\n",
    "                matData[idx2] = matData[idx2-1];\n",
    "                colIdx[idx2] = colIdx[idx2-1];\n",
    "              }\n",
    "              matData[idx] = -val*lr;\n",
    "              colIdx[idx] = col;\n",
    "              rowNnz[row] += 1;\n",
    "              break;\n",
    "            }\n",
    "          }\n",
    "        }\n",
    "        if (rowNnz[row] >= ellwidth) {\n",
    "          break;\n",
    "        }\n",
    "      }\n",
    "    }\"\"\").build()"
   ]
  },
  {
   "cell_type": "code",
   "execution_count": null,
   "id": "14b0cd42",
   "metadata": {},
   "outputs": [],
   "source": [
    "prg = cl.Program(ctx, \"\"\"\n",
    "// Every global_id_0 works on a row\n",
    "    __kernel void addvals(__global  float* matData,     // INPUT MATRIX DATA\n",
    "                         __global  uint*  colIdx,\n",
    "                         __global  uint*  rowNnz,\n",
    "                         float lr,\n",
    "                         uint   ellwidth,\n",
    "                         __global  float* updatevals,    // INPUT\n",
    "                         __global  uint* updatexidx,\n",
    "                         __global  uint* updateyidx\n",
    "                         ) { // LOCAL SHARED BUFFER\n",
    "      uint gid = get_global_id(0);\n",
    "      uint topk = get_global_size(0);\n",
    "      uint col = updateyidx[gid];\n",
    "\n",
    "      for (uint i=0; i<topk; i++) {\n",
    "        float val = updatevals[baseupdateidx+gid*topk+i];\n",
    "        uint row = updatexidx[baseidxidx+i];\n",
    "        for (uint i=0; i<rowNnz[row]; i++) {\n",
    "          uint idx = row*ellwidth+i;\n",
    "          if (colIdx[idx] >= col) {\n",
    "            //printf(\"\\\\nFOUND:%i/%i  - idx:%i\", colIdx[idx], col, idx);\n",
    "            if (colIdx[idx] == col) {\n",
    "              matData[idx] += -val*lr;\n",
    "              printf(\"\\\\nUPDATE[%i,%i]: %f\", row,col, val);\n",
    "              break;\n",
    "            } else {\n",
    "              // insert new column\n",
    "              printf(\"\\\\nINSERT[%i,%i]: %.2f\", row,col, val);\n",
    "              for (uint j=rowNnz[row]+1; j>i; j--) {\n",
    "                uint idx2 = row*ellwidth+j;\n",
    "                matData[idx2] = matData[idx2-1];\n",
    "                colIdx[idx2] = colIdx[idx2-1];\n",
    "              }\n",
    "              matData[idx] = -val*lr;\n",
    "              colIdx[idx] = col;\n",
    "              rowNnz[row] += 1;\n",
    "              break;\n",
    "            }\n",
    "          }\n",
    "        }\n",
    "        if (rowNnz[row] >= ellwidth) {\n",
    "          break;\n",
    "        }\n",
    "      }\n",
    "    }\"\"\").build()"
   ]
  },
  {
   "cell_type": "code",
   "execution_count": null,
   "id": "0aab86e1",
   "metadata": {},
   "outputs": [],
   "source": [
    "knl = prg.addvals  # Use this Kernel object for repeated calls\n",
    "knl(queue, [topk,1], None, adata_buf, acols_buf, annzs_buf, np.float32(1), np.uint32(ellwa), x_cp_buf, x_idx_buf, y_idx_buf)\n",
    "\n",
    "resa = np.empty_like(adata)\n",
    "resaidx = np.zeros(acols.shape).astype(np.uint32)\n",
    "resannz = np.zeros(annz.shape).astype(np.uint32)\n",
    "\n",
    "cl.enqueue_copy(queue, resa, adata_buf)\n",
    "cl.enqueue_copy(queue, resaidx, acols_buf)\n",
    "cl.enqueue_copy(queue, resannz, annzs_buf)"
   ]
  },
  {
   "cell_type": "code",
   "execution_count": null,
   "id": "d2ff91ba",
   "metadata": {},
   "outputs": [],
   "source": [
    "resa.shape, resaidx.shape, resannz.shape, ellwa, a.T.shape"
   ]
  },
  {
   "cell_type": "code",
   "execution_count": null,
   "id": "190b8546",
   "metadata": {},
   "outputs": [],
   "source": [
    "adenseadd = to_dense(resa, resaidx, resannz, ellwa, a.shape)\n",
    "adenseadd"
   ]
  },
  {
   "cell_type": "code",
   "execution_count": null,
   "id": "3211c6e6",
   "metadata": {},
   "outputs": [],
   "source": [
    "adenseadd - adense"
   ]
  },
  {
   "cell_type": "code",
   "execution_count": null,
   "id": "f63c469b",
   "metadata": {},
   "outputs": [],
   "source": [
    "adenseadd == adense"
   ]
  },
  {
   "cell_type": "code",
   "execution_count": null,
   "id": "922fdfb7",
   "metadata": {},
   "outputs": [],
   "source": [
    "ellwa"
   ]
  },
  {
   "cell_type": "code",
   "execution_count": null,
   "id": "9da55fa5",
   "metadata": {},
   "outputs": [],
   "source": [
    "adata2 = adata.reshape(-1, ellwa)\n",
    "adata2"
   ]
  },
  {
   "cell_type": "code",
   "execution_count": null,
   "id": "466c61fb",
   "metadata": {},
   "outputs": [],
   "source": [
    "resa = resa.reshape(-1, ellwa)\n",
    "resa"
   ]
  },
  {
   "cell_type": "code",
   "execution_count": null,
   "id": "30f36719",
   "metadata": {},
   "outputs": [],
   "source": [
    "resa - adata2"
   ]
  },
  {
   "cell_type": "code",
   "execution_count": null,
   "id": "9dd6baf4",
   "metadata": {},
   "outputs": [],
   "source": [
    "acols"
   ]
  },
  {
   "cell_type": "code",
   "execution_count": null,
   "id": "5c526051",
   "metadata": {},
   "outputs": [],
   "source": [
    "resaidx"
   ]
  },
  {
   "cell_type": "code",
   "execution_count": null,
   "id": "f635a14d",
   "metadata": {},
   "outputs": [],
   "source": [
    "resannz"
   ]
  },
  {
   "cell_type": "code",
   "execution_count": null,
   "id": "d99713b6",
   "metadata": {},
   "outputs": [],
   "source": [
    "annz"
   ]
  },
  {
   "cell_type": "markdown",
   "id": "7c703466",
   "metadata": {},
   "source": [
    "### update vals2"
   ]
  },
  {
   "cell_type": "code",
   "execution_count": null,
   "id": "ed7e786b",
   "metadata": {},
   "outputs": [],
   "source": [
    "adatat_buf = cl.Buffer(ctx, mf.READ_WRITE | mf.COPY_HOST_PTR, hostbuf=adatat)\n",
    "acolst_buf = cl.Buffer(ctx, mf.READ_WRITE | mf.COPY_HOST_PTR, hostbuf=acolst)\n",
    "annzst_buf = cl.Buffer(ctx, mf.READ_WRITE | mf.COPY_HOST_PTR, hostbuf=annzt)"
   ]
  },
  {
   "cell_type": "code",
   "execution_count": null,
   "id": "33840479",
   "metadata": {},
   "outputs": [],
   "source": [
    "prg = cl.Program(ctx, \"\"\"\n",
    "// Every global_id_0 works on a row\n",
    "    __kernel void addvals(__global  float* matData,     // INPUT MATRIX DATA\n",
    "                         __global  uint*  colIdx,\n",
    "                         __global  uint*  rowNnz,\n",
    "                         float lr,\n",
    "                         uint   ellwidth,\n",
    "                         __global  float* updatevals,    // INPUT\n",
    "                         __global  uint* updatexidx,\n",
    "                         __global  uint* updateyidx\n",
    "                         ) { // LOCAL SHARED BUFFER\n",
    "      uint gid = get_global_id(0);\n",
    "      uint gid2 = get_global_id(1);\n",
    "      uint topk = get_global_size(0);\n",
    "      uint bs = get_global_size(1);\n",
    "      uint baseupdateidx = topk*topk*gid2;\n",
    "      uint baseidxidx = topk*gid2;\n",
    "      uint row = updateyidx[baseidxidx+gid];\n",
    "\n",
    "      for (uint i=0; i<topk; i++) {\n",
    "        float val = updatevals[baseupdateidx+gid*topk+i];\n",
    "        uint col = updatexidx[baseidxidx+i];\n",
    "        for (uint i=0; i<rowNnz[row]; i++) {\n",
    "          uint idx = row*ellwidth+i;\n",
    "          if (colIdx[idx] >= col) {\n",
    "            //printf(\"\\\\nFOUND:%i/%i  - idx:%i\", colIdx[idx], col, idx);\n",
    "            if (colIdx[idx] == col) {\n",
    "              matData[idx] += -val*lr;\n",
    "              printf(\"\\\\nUPDATE[%i,%i]: %f\", row,col, val);\n",
    "              break;\n",
    "            } else {\n",
    "              // insert new column\n",
    "              printf(\"\\\\nINSERT[%i,%i]: %.2f\", row,col, val);\n",
    "              for (uint j=rowNnz[row]+1; j>i; j--) {\n",
    "                uint idx2 = row*ellwidth+j;\n",
    "                matData[idx2] = matData[idx2-1];\n",
    "                colIdx[idx2] = colIdx[idx2-1];\n",
    "              }\n",
    "              matData[idx] = -val*lr;\n",
    "              colIdx[idx] = col;\n",
    "              rowNnz[row] += 1;\n",
    "              break;\n",
    "            }\n",
    "          }\n",
    "        }\n",
    "        if (rowNnz[row] >= ellwidth) {\n",
    "          break;\n",
    "        }\n",
    "      }\n",
    "    }\"\"\").build()"
   ]
  },
  {
   "cell_type": "code",
   "execution_count": null,
   "id": "0053ed70",
   "metadata": {},
   "outputs": [],
   "source": [
    "knl = prg.addvals  # Use this Kernel object for repeated calls\n",
    "knl(queue, [topk,bs], None, adatat_buf, acolst_buf, annzst_buf, np.float32(1), np.uint32(ellwat), x_cp_buf, x_idx_buf, y_idx_buf)\n",
    "\n",
    "resat = np.empty_like(adatat)\n",
    "resaidxt = np.zeros(acolst.shape).astype(np.uint32)\n",
    "resannzt = np.zeros(annzt.shape).astype(np.uint32)\n",
    "\n",
    "cl.enqueue_copy(queue, resat, adatat_buf)\n",
    "cl.enqueue_copy(queue, resaidxt, acolst_buf)\n",
    "cl.enqueue_copy(queue, resannzt, annzst_buf)"
   ]
  },
  {
   "cell_type": "code",
   "execution_count": null,
   "id": "8f781e72",
   "metadata": {},
   "outputs": [],
   "source": [
    "ellwa"
   ]
  },
  {
   "cell_type": "code",
   "execution_count": null,
   "id": "1864d3ac",
   "metadata": {},
   "outputs": [],
   "source": [
    "resat.shape, resaidxt.shape, resannzt.shape"
   ]
  },
  {
   "cell_type": "code",
   "execution_count": null,
   "id": "6205962b",
   "metadata": {},
   "outputs": [],
   "source": [
    "adenseaddt = to_dense(resat, resaidxt, resannzt, ellwat, a.T.shape)\n",
    "adenseaddt"
   ]
  },
  {
   "cell_type": "code",
   "execution_count": null,
   "id": "c601a02c",
   "metadata": {},
   "outputs": [],
   "source": [
    "adenseadd == adenseaddt.T"
   ]
  },
  {
   "cell_type": "code",
   "execution_count": null,
   "id": "64a4fdb0",
   "metadata": {},
   "outputs": [],
   "source": [
    "adata2t = adatat.reshape(-1, ellwat)\n",
    "adata2t"
   ]
  },
  {
   "cell_type": "code",
   "execution_count": null,
   "id": "3b8f6062",
   "metadata": {},
   "outputs": [],
   "source": [
    "resat = resat.reshape(-1, ellwat)\n",
    "resat"
   ]
  },
  {
   "cell_type": "code",
   "execution_count": null,
   "id": "eb51f891",
   "metadata": {},
   "outputs": [],
   "source": [
    "resat - adata2t"
   ]
  },
  {
   "cell_type": "code",
   "execution_count": null,
   "id": "f7e150fe",
   "metadata": {},
   "outputs": [],
   "source": [
    "acols"
   ]
  },
  {
   "cell_type": "code",
   "execution_count": null,
   "id": "8f1f18f1",
   "metadata": {},
   "outputs": [],
   "source": [
    "resaidx"
   ]
  },
  {
   "cell_type": "code",
   "execution_count": null,
   "id": "bd326e73",
   "metadata": {},
   "outputs": [],
   "source": [
    "resannz"
   ]
  },
  {
   "cell_type": "code",
   "execution_count": null,
   "id": "357413c1",
   "metadata": {},
   "outputs": [],
   "source": [
    "annz"
   ]
  },
  {
   "cell_type": "markdown",
   "id": "7f618bfd",
   "metadata": {},
   "source": [
    "# OTHER"
   ]
  },
  {
   "cell_type": "markdown",
   "id": "28fd6b45",
   "metadata": {},
   "source": [
    "import numpy as np\n",
    "import pyopencl as cl\n",
    "\n",
    "mf = cl.mem_flags"
   ]
  },
  {
   "cell_type": "markdown",
   "id": "ebed13d1",
   "metadata": {},
   "source": [
    "dim = 16\n",
    "topk = 4\n",
    "\n",
    "x = np.random.rand(dim).astype(np.float32)\n",
    "y = np.random.rand(dim).astype(np.float32)\n",
    "x.shape,y.shape"
   ]
  },
  {
   "cell_type": "markdown",
   "id": "444a4a7f",
   "metadata": {},
   "source": [
    "dim1 = 4\n",
    "dim2 = 8\n",
    "dim3 = 1\n",
    "\n",
    "ctx = cl.create_some_context()\n",
    "queue = cl.CommandQueue(ctx,\n",
    "        properties=cl.command_queue_properties.PROFILING_ENABLE)\n",
    "\n",
    "sparsity = 0.2\n",
    "\n",
    "a = np.zeros((dim1,dim2))\n",
    "b = np.random.rand(dim2,dim3).flatten().astype(np.float32)\n",
    "\n",
    "a.shape, b.shape"
   ]
  },
  {
   "cell_type": "code",
   "execution_count": null,
   "id": "e2d4594d",
   "metadata": {},
   "outputs": [],
   "source": [
    "x_buf = cl.Buffer(ctx, mf.READ_ONLY | mf.COPY_HOST_PTR, hostbuf=x)\n",
    "y_buf = cl.Buffer(ctx, mf.READ_ONLY | mf.COPY_HOST_PTR, hostbuf=y)\n",
    "val_out_buf = cl.Buffer(ctx, mf.READ_WRITE, 4*topk*topk)\n",
    "x_idx_buf = cl.Buffer(ctx, mf.READ_WRITE, topk*4)\n",
    "y_idx_buf = cl.Buffer(ctx, mf.READ_WRITE, topk*4)\n",
    "\n",
    "prg = cl.Program(ctx, \"\"\"\n",
    "// Every global_id_0 works on a row\n",
    "__kernel void genwupdate2(__global  float* x,     // INPUT MATRIX DATA\n",
    "                         __global  float* y,    // INPUT\n",
    "                         __global  float* xout,    // INPUT\n",
    "                         uint topk,\n",
    "                         __global  uint* xoutidx,    // INPUT\n",
    "                         __global  uint* youtidx    // INPUT\n",
    "                        ) { // LOCAL SHARED BUFFER\n",
    "  uint gid = get_global_id(0);\n",
    "  uint n = get_global_size(0);\n",
    "  \n",
    "  xout[gid] = x[gid];\n",
    "  xoutidx[gid] = gid;\n",
    "  youtidx[gid] = gid;\n",
    "  \n",
    "  float valx = x[gid];\n",
    "  float valy = y[gid];\n",
    "  uint posx = 0;\n",
    "  uint posy = 0;\n",
    "  for (uint i = 0; i < n; i++) {\n",
    "    float tempval = x[i];\n",
    "    float tempval2 = y[i];\n",
    "    bool larger = tempval > valx;\n",
    "    bool larger2 = tempval2 > valy;\n",
    "      \n",
    "    posx += (larger)?1:0;\n",
    "    posy += (larger2)?1:0;\n",
    "  }\n",
    "  //printf(\"posx:%i\", posx);\n",
    "  if (posx < topk) {\n",
    "    xoutidx[posx] = gid;\n",
    "  }\n",
    "  if (posy < topk) {\n",
    "    youtidx[posy] = gid;\n",
    "  }\n",
    "  if (gid < topk) {\n",
    "    uint i = gid;\n",
    "    for (uint j=0; j<topk; j++) {\n",
    "      xout[gid*topk+j] = x[xoutidx[gid]] * y[youtidx[j]];\n",
    "    }\n",
    "  }\n",
    "}\"\"\").build()"
   ]
  },
  {
   "cell_type": "code",
   "execution_count": null,
   "id": "f45b3b69",
   "metadata": {},
   "outputs": [],
   "source": [
    "knl = prg.genwupdate2  # Use this Kernel object for repeated calls\n",
    "event = knl(queue, [dim,], None, x_buf, y_buf, val_out_buf, np.uint32(topk), x_idx_buf, y_idx_buf)\n",
    "\n",
    "#event.wait()\n",
    "val_out = np.zeros(topk*topk).astype(np.float32)\n",
    "resxidx = np.zeros(topk).astype(np.uint32)\n",
    "resyidx = np.zeros(topk).astype(np.uint32)\n",
    "\n",
    "cl.enqueue_copy(queue, val_out, val_out_buf)\n",
    "cl.enqueue_copy(queue, resxidx, x_idx_buf, wait_for=[event])\n",
    "cl.enqueue_copy(queue, resyidx, y_idx_buf)"
   ]
  },
  {
   "cell_type": "code",
   "execution_count": null,
   "id": "d883394f",
   "metadata": {},
   "outputs": [],
   "source": [
    "val_out"
   ]
  },
  {
   "cell_type": "code",
   "execution_count": null,
   "id": "2335cf69",
   "metadata": {},
   "outputs": [],
   "source": [
    "resxidx"
   ]
  },
  {
   "cell_type": "code",
   "execution_count": null,
   "id": "5e714f2a",
   "metadata": {},
   "outputs": [],
   "source": [
    "resyidx"
   ]
  },
  {
   "cell_type": "code",
   "execution_count": null,
   "id": "f246c208",
   "metadata": {},
   "outputs": [],
   "source": [
    "asdf"
   ]
  },
  {
   "cell_type": "code",
   "execution_count": null,
   "id": "02a5c5dd",
   "metadata": {},
   "outputs": [],
   "source": [
    "from __future__ import division\n",
    "\n",
    "KERNEL_CODE = \"\"\"\n",
    "// Thread block size\n",
    "#define BLOCK_SIZE %(block_size)d\n",
    "// Matrix dimensions\n",
    "// (chosen as multiples of the thread block size for simplicity)\n",
    "#define WA %(w_a)d // Matrix A width\n",
    "#define HA %(h_a)d // Matrix A height\n",
    "#define WB %(w_b)d // Matrix B width\n",
    "#define HB WA  // Matrix B height\n",
    "#define WC WB  // Matrix C width\n",
    "#define HC HA  // Matrix C height\n",
    "/*\n",
    " * Copyright 1993-2009 NVIDIA Corporation.  All rights reserved.\n",
    " *\n",
    " * NVIDIA Corporation and its licensors retain all intellectual property and\n",
    " * proprietary rights in and to this software and related documentation.\n",
    " * Any use, reproduction, disclosure, or distribution of this software\n",
    " * and related documentation without an express license agreement from\n",
    " * NVIDIA Corporation is strictly prohibited.\n",
    " *\n",
    " * Please refer to the applicable NVIDIA end user license agreement (EULA)\n",
    " * associated with this source code for terms and conditions that govern\n",
    " * your use of this NVIDIA software.\n",
    " *\n",
    " */\n",
    "/* Matrix multiplication: C = A * B.\n",
    " * Device code.\n",
    " */\n",
    "#define AS(j, i) As[i + j * BLOCK_SIZE]\n",
    "#define BS(j, i) Bs[i + j * BLOCK_SIZE]\n",
    "////////////////////////////////////////////////////////////////////////////////\n",
    "//! Matrix multiplication on the device: C = A * B\n",
    "//! WA is A's width and WB is B's width\n",
    "////////////////////////////////////////////////////////////////////////////////\n",
    "__kernel __attribute__((reqd_work_group_size(16,16,1))) \n",
    "void\n",
    "matrixMul( __global float* C, __global float* A, __global float* B)\n",
    "{\n",
    "    __local float As[BLOCK_SIZE*BLOCK_SIZE];\n",
    "    __local float Bs[BLOCK_SIZE*BLOCK_SIZE];\n",
    "    // Block index\n",
    "    int bx = get_group_id(0);\n",
    "    int by = get_group_id(1);\n",
    "    // Thread index\n",
    "    int tx = get_local_id(0);\n",
    "    int ty = get_local_id(1);\n",
    "    // Index of the first sub-matrix of A processed by the block\n",
    "    int aBegin = WA * BLOCK_SIZE * by;\n",
    "    // Index of the last sub-matrix of A processed by the block\n",
    "    int aEnd   = aBegin + WA - 1;\n",
    "    // Step size used to iterate through the sub-matrices of A\n",
    "    int aStep  = BLOCK_SIZE;\n",
    "    // Index of the first sub-matrix of B processed by the block\n",
    "    int bBegin = BLOCK_SIZE * bx;\n",
    "    // Step size used to iterate through the sub-matrices of B\n",
    "    int bStep  = BLOCK_SIZE * WB;\n",
    "    // Csub is used to store the element of the block sub-matrix\n",
    "    // that is computed by the thread\n",
    "    float Csub = 0.0f;\n",
    "    // Loop over all the sub-matrices of A and B\n",
    "    // required to compute the block sub-matrix\n",
    "    for (int a = aBegin, b = bBegin;\n",
    "             a <= aEnd;\n",
    "             a += aStep, b += bStep) {\n",
    "        // Load the matrices from device memory\n",
    "        // to shared memory; each thread loads\n",
    "        // one element of each matrix\n",
    "        AS(ty, tx) = A[a + WA * ty + tx];\n",
    "        BS(ty, tx) = B[b + WB * ty + tx];\n",
    "        // Synchronize to make sure the matrices are loaded\n",
    "        barrier(CLK_LOCAL_MEM_FENCE);\n",
    "        // Multiply the two matrices together;\n",
    "        // each thread computes one element\n",
    "        // of the block sub-matrix\n",
    "        for (int k = 0; k < BLOCK_SIZE; ++k)\n",
    "            Csub += AS(ty, k) * BS(k, tx);\n",
    "        // Synchronize to make sure that the preceding\n",
    "        // computation is done before loading two new\n",
    "        // sub-matrices of A and B in the next iteration\n",
    "        barrier(CLK_LOCAL_MEM_FENCE);\n",
    "    }\n",
    "    // Write the block sub-matrix to device memory;\n",
    "    // each thread writes one element\n",
    "    C[get_global_id(1) * get_global_size(0) + get_global_id(0)] = Csub;\n",
    "}\n",
    "\"\"\"\n"
   ]
  },
  {
   "cell_type": "code",
   "execution_count": null,
   "id": "c1eb509e",
   "metadata": {},
   "outputs": [],
   "source": []
  },
  {
   "cell_type": "code",
   "execution_count": null,
   "id": "9a61206e",
   "metadata": {},
   "outputs": [],
   "source": []
  },
  {
   "cell_type": "code",
   "execution_count": null,
   "id": "77b4a04e",
   "metadata": {},
   "outputs": [],
   "source": [
    "a2 = np.random.rand(4,4)"
   ]
  },
  {
   "cell_type": "code",
   "execution_count": null,
   "id": "a0521855",
   "metadata": {},
   "outputs": [],
   "source": [
    "a2"
   ]
  },
  {
   "cell_type": "code",
   "execution_count": null,
   "id": "455a9049",
   "metadata": {},
   "outputs": [],
   "source": [
    "a2.sum(axis=1)"
   ]
  },
  {
   "cell_type": "code",
   "execution_count": null,
   "id": "5a54a3e3",
   "metadata": {},
   "outputs": [],
   "source": [
    "b2 = np.random.rand(4,4)"
   ]
  },
  {
   "cell_type": "code",
   "execution_count": null,
   "id": "e231268f",
   "metadata": {},
   "outputs": [],
   "source": [
    "b2"
   ]
  },
  {
   "cell_type": "code",
   "execution_count": null,
   "id": "625b7a07",
   "metadata": {},
   "outputs": [],
   "source": [
    "b2.sum(axis=0)"
   ]
  },
  {
   "cell_type": "code",
   "execution_count": null,
   "id": "5191e569",
   "metadata": {},
   "outputs": [],
   "source": [
    "matmul = a2.dot(b2)\n",
    "matmul"
   ]
  },
  {
   "cell_type": "code",
   "execution_count": null,
   "id": "b3a24c19",
   "metadata": {},
   "outputs": [],
   "source": []
  },
  {
   "cell_type": "code",
   "execution_count": null,
   "id": "6519eb75",
   "metadata": {},
   "outputs": [],
   "source": []
  },
  {
   "cell_type": "code",
   "execution_count": null,
   "id": "16d754cb",
   "metadata": {},
   "outputs": [],
   "source": []
  },
  {
   "cell_type": "code",
   "execution_count": null,
   "id": "c91d5425",
   "metadata": {},
   "outputs": [],
   "source": []
  },
  {
   "cell_type": "code",
   "execution_count": null,
   "id": "d9f4a6f0",
   "metadata": {},
   "outputs": [],
   "source": []
  },
  {
   "cell_type": "code",
   "execution_count": null,
   "id": "9f708713",
   "metadata": {},
   "outputs": [],
   "source": []
  },
  {
   "cell_type": "code",
   "execution_count": null,
   "id": "e59475d1",
   "metadata": {},
   "outputs": [],
   "source": []
  },
  {
   "cell_type": "code",
   "execution_count": null,
   "id": "3dd6c3a3",
   "metadata": {},
   "outputs": [],
   "source": []
  },
  {
   "cell_type": "code",
   "execution_count": null,
   "id": "7e83b426",
   "metadata": {},
   "outputs": [],
   "source": []
  },
  {
   "cell_type": "code",
   "execution_count": null,
   "id": "af6af470",
   "metadata": {},
   "outputs": [],
   "source": []
  },
  {
   "cell_type": "code",
   "execution_count": null,
   "id": "e2b3a039",
   "metadata": {},
   "outputs": [],
   "source": []
  },
  {
   "cell_type": "code",
   "execution_count": null,
   "id": "2da19095",
   "metadata": {},
   "outputs": [],
   "source": []
  }
 ],
 "metadata": {
  "kernelspec": {
   "display_name": "Python 3",
   "language": "python",
   "name": "python3"
  },
  "language_info": {
   "codemirror_mode": {
    "name": "ipython",
    "version": 3
   },
   "file_extension": ".py",
   "mimetype": "text/x-python",
   "name": "python",
   "nbconvert_exporter": "python",
   "pygments_lexer": "ipython3",
   "version": "3.8.12"
  }
 },
 "nbformat": 4,
 "nbformat_minor": 5
}
