{
 "cells": [
  {
   "cell_type": "code",
   "execution_count": 1,
   "id": "4309590e",
   "metadata": {},
   "outputs": [
    {
     "name": "stdout",
     "output_type": "stream",
     "text": [
      "DEVICE:GPU\n"
     ]
    }
   ],
   "source": [
    "from tinygrad.densetensor import DenseTensor\n",
    "from tinygrad.sparsetensor import SparseTensor\n",
    "import numpy as np\n",
    "\n",
    "%load_ext autoreload\n",
    "%autoreload 2"
   ]
  },
  {
   "cell_type": "code",
   "execution_count": 2,
   "id": "4cb532fa",
   "metadata": {},
   "outputs": [],
   "source": [
    "x_init = np.random.randn(2,6).astype(np.float32)\n",
    "x2_init = np.random.randn(3).astype(np.float32)\n",
    "U_init = np.random.randn(3,3).astype(np.float32)\n",
    "V_init = np.random.randn(3,3).astype(np.float32)\n",
    "W_init = np.random.randn(6,3).astype(np.float32)\n",
    "m_init = np.random.randn(1,3).astype(np.float32)"
   ]
  },
  {
   "cell_type": "markdown",
   "id": "b051fb88",
   "metadata": {},
   "source": [
    "x = DenseTensor(x_init)\n",
    "W = DenseTensor(W_init)\n",
    "m = DenseTensor(m_init)\n",
    "out = x.dot(W).relu()\n",
    "out = out.logsoftmax()\n",
    "out = out.mul(m).add(m).sum()\n",
    "out.backward()\n",
    "\n",
    "out.cpu().data, x"
   ]
  },
  {
   "cell_type": "markdown",
   "id": "62d0edbe",
   "metadata": {
    "scrolled": true
   },
   "source": [
    "x2 = DenseTensor(x2_init)#.gpu()\n",
    "W = SparseTensor(W_init)\n",
    "out = W.dot(x2).relu().sum()\n",
    "\n",
    "out.backward()\n",
    "\n",
    "out.cpu().data, x"
   ]
  },
  {
   "cell_type": "code",
   "execution_count": 3,
   "id": "c3d0659d",
   "metadata": {},
   "outputs": [],
   "source": [
    "import numpy as np\n",
    "import pyopencl as cl\n",
    "\n",
    "mf = cl.mem_flags"
   ]
  },
  {
   "cell_type": "code",
   "execution_count": 4,
   "id": "a0cc978b",
   "metadata": {},
   "outputs": [
    {
     "data": {
      "text/plain": [
       "((4, 6), (6, 3))"
      ]
     },
     "execution_count": 4,
     "metadata": {},
     "output_type": "execute_result"
    }
   ],
   "source": [
    "dim1 = 4\n",
    "dim2 = 6\n",
    "dim3 = 3\n",
    "topkx = 3\n",
    "topky = 4\n",
    "topk  = topkx\n",
    "bs = dim3\n",
    "\n",
    "np.random.seed(9)\n",
    "\n",
    "ctx = cl.create_some_context()\n",
    "queue = cl.CommandQueue(ctx,\n",
    "        properties=cl.command_queue_properties.PROFILING_ENABLE)\n",
    "\n",
    "sparsity = 0.4\n",
    "\n",
    "a = np.zeros((dim1,dim2))\n",
    "b = np.zeros((dim2,dim3)).astype(np.float32)\n",
    "\n",
    "a.shape, b.shape"
   ]
  },
  {
   "cell_type": "code",
   "execution_count": 5,
   "id": "306d8954",
   "metadata": {},
   "outputs": [],
   "source": [
    "x_init = np.random.randn(dim1,dim3).astype(np.float32)\n",
    "w_init = np.random.randn(dim2,dim3).astype(np.float32)"
   ]
  },
  {
   "cell_type": "code",
   "execution_count": 6,
   "id": "31516aaa",
   "metadata": {},
   "outputs": [
    {
     "data": {
      "text/plain": [
       "array([[ 0.2966822 ,  0.7075037 ,  1.8228158 ],\n",
       "       [ 0.43076903,  1.5427296 , -0.9007212 ],\n",
       "       [-0.13712502,  1.297579  ,  0.67527115],\n",
       "       [ 0.03195812,  0.9181459 ,  0.38050947],\n",
       "       [ 0.5163675 , -0.35523945,  0.208777  ],\n",
       "       [ 0.32841107, -0.49822477, -2.0917768 ]], dtype=float32)"
      ]
     },
     "execution_count": 6,
     "metadata": {},
     "output_type": "execute_result"
    }
   ],
   "source": [
    "w_init"
   ]
  },
  {
   "cell_type": "code",
   "execution_count": 7,
   "id": "7ecf7a2b",
   "metadata": {},
   "outputs": [],
   "source": [
    "def fill_sparse(mat, sparsity=0.5):\n",
    "    indices = np.array(range(mat.shape[1]))\n",
    "    nrows = int(mat.shape[1]*sparsity)\n",
    "    for row in range(mat.shape[0]):\n",
    "        lim = nrows #+ int(np.random.random()*3)\n",
    "        mat[row][np.random.permutation(indices)[:lim]] = np.random.random(lim)\n",
    "    return mat\n",
    "\n",
    "a = fill_sparse(a, sparsity).astype(np.float32)\n",
    "b = fill_sparse(b, sparsity).astype(np.float32)"
   ]
  },
  {
   "cell_type": "code",
   "execution_count": 8,
   "id": "b32f0e9a",
   "metadata": {},
   "outputs": [
    {
     "data": {
      "text/plain": [
       "array([[0.        , 0.        , 0.        , 0.4962817 , 0.61053777,\n",
       "        0.        ],\n",
       "       [0.        , 0.97871953, 0.        , 0.92973787, 0.        ,\n",
       "        0.        ],\n",
       "       [0.17011414, 0.        , 0.        , 0.        , 0.04285168,\n",
       "        0.        ],\n",
       "       [0.        , 0.23960817, 0.        , 0.        , 0.17746036,\n",
       "        0.        ]], dtype=float32)"
      ]
     },
     "execution_count": 8,
     "metadata": {},
     "output_type": "execute_result"
    }
   ],
   "source": [
    "a"
   ]
  },
  {
   "cell_type": "code",
   "execution_count": 9,
   "id": "d286d740",
   "metadata": {},
   "outputs": [
    {
     "data": {
      "text/plain": [
       "array([[0.48449844, 0.        , 0.        ],\n",
       "       [0.        , 0.80115646, 0.        ],\n",
       "       [0.        , 0.        , 0.4766949 ],\n",
       "       [0.9032664 , 0.        , 0.        ],\n",
       "       [0.        , 0.4441123 , 0.        ],\n",
       "       [0.        , 0.        , 0.41434634]], dtype=float32)"
      ]
     },
     "execution_count": 9,
     "metadata": {},
     "output_type": "execute_result"
    }
   ],
   "source": [
    "b"
   ]
  },
  {
   "cell_type": "code",
   "execution_count": 10,
   "id": "45c14776",
   "metadata": {},
   "outputs": [
    {
     "data": {
      "text/plain": [
       "array([-0.86982995, -0.7539133 ,  0.11443178], dtype=float32)"
      ]
     },
     "execution_count": 10,
     "metadata": {},
     "output_type": "execute_result"
    }
   ],
   "source": [
    "x2_init.T"
   ]
  },
  {
   "cell_type": "code",
   "execution_count": 11,
   "id": "6b2b88a2",
   "metadata": {},
   "outputs": [
    {
     "data": {
      "text/plain": [
       "(4, 3)"
      ]
     },
     "execution_count": 11,
     "metadata": {},
     "output_type": "execute_result"
    }
   ],
   "source": [
    "mult = a.dot(b)\n",
    "mult.shape"
   ]
  },
  {
   "cell_type": "code",
   "execution_count": 12,
   "id": "d33049e0",
   "metadata": {},
   "outputs": [
    {
     "data": {
      "text/plain": [
       "(4, 3)"
      ]
     },
     "execution_count": 12,
     "metadata": {},
     "output_type": "execute_result"
    }
   ],
   "source": [
    "mult.shape"
   ]
  },
  {
   "cell_type": "code",
   "execution_count": 13,
   "id": "67872651",
   "metadata": {},
   "outputs": [],
   "source": [
    "def to_data(mat):\n",
    "    all_rows = []\n",
    "    all_idxs = []\n",
    "    all_nnzs = []\n",
    "    for row in range(mat.shape[0]):\n",
    "        rowdata = []\n",
    "        colidxs = []\n",
    "        all_nnzs.append(0)\n",
    "        for col in range(mat.shape[1]):\n",
    "            val = mat[row][col]\n",
    "            if val != 0:\n",
    "                rowdata.append(val)\n",
    "                colidxs.append(col)\n",
    "                all_nnzs[-1] += 1\n",
    "        all_rows.append(rowdata)\n",
    "        all_idxs.append(colidxs)\n",
    "    \n",
    "    ellwidth = min(int(np.sqrt(np.max(all_nnzs))+1)**2, mat.shape[1])\n",
    "    #all_rows = np.array(all_rows)#.astype(np.float32).flatten()           \n",
    "    for row in range(mat.shape[0]):\n",
    "        #print(row, all_rows)\n",
    "        all_rows[row] = np.array(all_rows[row])\n",
    "        all_rows[row].resize(ellwidth)\n",
    "        all_idxs[row] = np.array(all_idxs[row])\n",
    "        all_idxs[row].resize(ellwidth)\n",
    "        #print(all_idxs[row])\n",
    "    all_rows = np.array(all_rows)\n",
    "    all_idxs = np.array(all_idxs)\n",
    "    all_nnzs = np.array(all_nnzs)\n",
    "    \n",
    "#     while (not all_rows[:,-1].any()):\n",
    "#         all_rows = all_rows[:,:-1]\n",
    "#         all_idxs = all_idxs[:,:-1]\n",
    "#         ellwidth -= 1\n",
    "        \n",
    "    \n",
    "    all_rows = np.array(all_rows).astype(np.float32).flatten()\n",
    "    all_idxs = np.array(all_idxs).astype(np.uint32).flatten()\n",
    "    \n",
    "    all_nnzs = np.array(all_nnzs).astype(np.uint32)\n",
    "    \n",
    "    \n",
    "    return all_rows, all_idxs, all_nnzs, ellwidth"
   ]
  },
  {
   "cell_type": "code",
   "execution_count": 14,
   "id": "3cc9dd5d",
   "metadata": {},
   "outputs": [],
   "source": [
    "def to_dense(data, cols, nnzs, ellw, shape):\n",
    "    out = np.zeros(shape)\n",
    "    for row in range(shape[0]):\n",
    "        for icol in range(nnzs[row]):\n",
    "            out[row,cols[row*ellw+icol]] = data[row*ellw+icol]\n",
    "    return out"
   ]
  },
  {
   "cell_type": "code",
   "execution_count": 15,
   "id": "cdaa466d",
   "metadata": {},
   "outputs": [
    {
     "data": {
      "text/plain": [
       "(array([ 0.2966822 ,  0.7075037 ,  1.8228158 ,  0.43076903,  1.5427296 ,\n",
       "        -0.9007212 , -0.13712502,  1.297579  ,  0.67527115,  0.03195812,\n",
       "         0.9181459 ,  0.38050947,  0.5163675 , -0.35523945,  0.208777  ,\n",
       "         0.32841107, -0.49822477, -2.0917768 ], dtype=float32),\n",
       " array([0, 1, 2, 0, 1, 2, 0, 1, 2, 0, 1, 2, 0, 1, 2, 0, 1, 2], dtype=uint32),\n",
       " array([3, 3, 3, 3, 3, 3], dtype=uint32),\n",
       " 3)"
      ]
     },
     "execution_count": 15,
     "metadata": {},
     "output_type": "execute_result"
    }
   ],
   "source": [
    "wdata, wcols, wnnz, ellww = to_data(w_init)\n",
    "wdata, wcols, wnnz, ellww"
   ]
  },
  {
   "cell_type": "code",
   "execution_count": 16,
   "id": "cb96ed78",
   "metadata": {},
   "outputs": [
    {
     "data": {
      "text/plain": [
       "(array([ 0.2966822 ,  0.43076903, -0.13712502,  0.03195812,  0.5163675 ,\n",
       "         0.32841107,  0.7075037 ,  1.5427296 ,  1.297579  ,  0.9181459 ,\n",
       "        -0.35523945, -0.49822477,  1.8228158 , -0.9007212 ,  0.67527115,\n",
       "         0.38050947,  0.208777  , -2.0917768 ], dtype=float32),\n",
       " array([0, 1, 2, 3, 4, 5, 0, 1, 2, 3, 4, 5, 0, 1, 2, 3, 4, 5], dtype=uint32),\n",
       " array([6, 6, 6], dtype=uint32),\n",
       " 6)"
      ]
     },
     "execution_count": 16,
     "metadata": {},
     "output_type": "execute_result"
    }
   ],
   "source": [
    "wdatat, wcolst, wnnzt, ellwwt = to_data(w_init.T)\n",
    "wdatat, wcolst, wnnzt, ellwwt"
   ]
  },
  {
   "cell_type": "code",
   "execution_count": 17,
   "id": "5c9c6134",
   "metadata": {},
   "outputs": [
    {
     "data": {
      "text/plain": [
       "(array([0.4962817 , 0.61053777, 0.        , 0.        , 0.97871953,\n",
       "        0.92973787, 0.        , 0.        , 0.17011414, 0.04285168,\n",
       "        0.        , 0.        , 0.23960817, 0.17746036, 0.        ,\n",
       "        0.        ], dtype=float32),\n",
       " array([3, 4, 0, 0, 1, 3, 0, 0, 0, 4, 0, 0, 1, 4, 0, 0], dtype=uint32),\n",
       " array([2, 2, 2, 2], dtype=uint32),\n",
       " 4)"
      ]
     },
     "execution_count": 17,
     "metadata": {},
     "output_type": "execute_result"
    }
   ],
   "source": [
    "adata, acols, annz, ellwa = to_data(a)\n",
    "adata, acols, annz, ellwa"
   ]
  },
  {
   "cell_type": "code",
   "execution_count": 18,
   "id": "333f732b",
   "metadata": {},
   "outputs": [
    {
     "data": {
      "text/plain": [
       "(array([0.17011414, 0.        , 0.        , 0.        , 0.97871953,\n",
       "        0.23960817, 0.        , 0.        , 0.        , 0.        ,\n",
       "        0.        , 0.        , 0.4962817 , 0.92973787, 0.        ,\n",
       "        0.        , 0.61053777, 0.04285168, 0.17746036, 0.        ,\n",
       "        0.        , 0.        , 0.        , 0.        ], dtype=float32),\n",
       " array([2, 0, 0, 0, 1, 3, 0, 0, 0, 0, 0, 0, 0, 1, 0, 0, 0, 2, 3, 0, 0, 0,\n",
       "        0, 0], dtype=uint32),\n",
       " array([1, 2, 0, 2, 3, 0], dtype=uint32),\n",
       " 4)"
      ]
     },
     "execution_count": 18,
     "metadata": {},
     "output_type": "execute_result"
    }
   ],
   "source": [
    "adatat, acolst, annzt, ellwat = to_data(a.T)\n",
    "adatat, acolst, annzt, ellwat"
   ]
  },
  {
   "cell_type": "code",
   "execution_count": 19,
   "id": "3746b3f8",
   "metadata": {},
   "outputs": [
    {
     "data": {
      "text/plain": [
       "(array([0.48449844, 0.        , 0.        , 0.80115646, 0.        ,\n",
       "        0.        , 0.4766949 , 0.        , 0.        , 0.9032664 ,\n",
       "        0.        , 0.        , 0.4441123 , 0.        , 0.        ,\n",
       "        0.41434634, 0.        , 0.        ], dtype=float32),\n",
       " array([0, 0, 0, 1, 0, 0, 2, 0, 0, 0, 0, 0, 1, 0, 0, 2, 0, 0], dtype=uint32),\n",
       " array([1, 1, 1, 1, 1, 1], dtype=uint32),\n",
       " 3)"
      ]
     },
     "execution_count": 19,
     "metadata": {},
     "output_type": "execute_result"
    }
   ],
   "source": [
    "bdata, bcols, bnnz, ellwb = to_data(b)\n",
    "bdata, bcols, bnnz, ellwb"
   ]
  },
  {
   "cell_type": "code",
   "execution_count": 20,
   "id": "2456f0d7",
   "metadata": {},
   "outputs": [
    {
     "data": {
      "text/plain": [
       "(array([0.17011414, 0.        , 0.        , 0.        , 0.97871953,\n",
       "        0.23960817, 0.        , 0.        , 0.        , 0.        ,\n",
       "        0.        , 0.        , 0.4962817 , 0.92973787, 0.        ,\n",
       "        0.        , 0.61053777, 0.04285168, 0.17746036, 0.        ,\n",
       "        0.        , 0.        , 0.        , 0.        ], dtype=float32),\n",
       " array([0, 3, 0, 0, 1, 4, 0, 0, 2, 5, 0, 0], dtype=uint32),\n",
       " array([2, 2, 2], dtype=uint32),\n",
       " 4)"
      ]
     },
     "execution_count": 20,
     "metadata": {},
     "output_type": "execute_result"
    }
   ],
   "source": [
    "bdatat, bcolst, bnnzt, ellwbt = to_data(b.T)\n",
    "adatat, bcolst, bnnzt, ellwbt"
   ]
  },
  {
   "cell_type": "code",
   "execution_count": 21,
   "id": "a21f8921",
   "metadata": {},
   "outputs": [],
   "source": [
    "adense = to_dense(adata, acols, annz, ellwa, a.shape)"
   ]
  },
  {
   "cell_type": "code",
   "execution_count": 22,
   "id": "afddd45e",
   "metadata": {},
   "outputs": [],
   "source": [
    "adenset = to_dense(adatat, acolst, annzt, ellwat, a.T.shape)"
   ]
  },
  {
   "cell_type": "code",
   "execution_count": 23,
   "id": "265ef0d4",
   "metadata": {},
   "outputs": [],
   "source": [
    "bdense = to_dense(bdata, bcols, bnnz, ellwb, b.shape)"
   ]
  },
  {
   "cell_type": "code",
   "execution_count": 24,
   "id": "409da6b5",
   "metadata": {},
   "outputs": [],
   "source": [
    "bdenset = to_dense(bdatat, bcolst, bnnzt, ellwbt, b.T.shape)"
   ]
  },
  {
   "cell_type": "code",
   "execution_count": 25,
   "id": "1c04d184",
   "metadata": {},
   "outputs": [
    {
     "data": {
      "text/plain": [
       "array([[0.        , 0.        , 0.        , 0.49628171, 0.61053777,\n",
       "        0.        ],\n",
       "       [0.        , 0.97871953, 0.        , 0.92973787, 0.        ,\n",
       "        0.        ],\n",
       "       [0.17011414, 0.        , 0.        , 0.        , 0.04285168,\n",
       "        0.        ],\n",
       "       [0.        , 0.23960817, 0.        , 0.        , 0.17746036,\n",
       "        0.        ]])"
      ]
     },
     "execution_count": 25,
     "metadata": {},
     "output_type": "execute_result"
    }
   ],
   "source": [
    "adense"
   ]
  },
  {
   "cell_type": "code",
   "execution_count": 26,
   "id": "cae2f665",
   "metadata": {},
   "outputs": [
    {
     "data": {
      "text/plain": [
       "array([[ True,  True,  True,  True,  True,  True],\n",
       "       [ True,  True,  True,  True,  True,  True],\n",
       "       [ True,  True,  True,  True,  True,  True],\n",
       "       [ True,  True,  True,  True,  True,  True]])"
      ]
     },
     "execution_count": 26,
     "metadata": {},
     "output_type": "execute_result"
    }
   ],
   "source": [
    "adenset.T == adense"
   ]
  },
  {
   "cell_type": "code",
   "execution_count": 27,
   "id": "9f2ada6f",
   "metadata": {},
   "outputs": [
    {
     "data": {
      "text/plain": [
       "array([[ True,  True,  True],\n",
       "       [ True,  True,  True],\n",
       "       [ True,  True,  True],\n",
       "       [ True,  True,  True],\n",
       "       [ True,  True,  True],\n",
       "       [ True,  True,  True]])"
      ]
     },
     "execution_count": 27,
     "metadata": {},
     "output_type": "execute_result"
    }
   ],
   "source": [
    "bdenset.T == bdense"
   ]
  },
  {
   "cell_type": "code",
   "execution_count": 28,
   "id": "570652a8",
   "metadata": {},
   "outputs": [
    {
     "data": {
      "text/plain": [
       "array([[0.        , 0.        , 0.        , 0.4962817 , 0.61053777,\n",
       "        0.        ],\n",
       "       [0.        , 0.97871953, 0.        , 0.92973787, 0.        ,\n",
       "        0.        ],\n",
       "       [0.17011414, 0.        , 0.        , 0.        , 0.04285168,\n",
       "        0.        ],\n",
       "       [0.        , 0.23960817, 0.        , 0.        , 0.17746036,\n",
       "        0.        ]], dtype=float32)"
      ]
     },
     "execution_count": 28,
     "metadata": {},
     "output_type": "execute_result"
    }
   ],
   "source": [
    "a"
   ]
  },
  {
   "cell_type": "code",
   "execution_count": 29,
   "id": "b3828f92",
   "metadata": {},
   "outputs": [
    {
     "data": {
      "text/plain": [
       "array([[ True,  True,  True,  True,  True,  True],\n",
       "       [ True,  True,  True,  True,  True,  True],\n",
       "       [ True,  True,  True,  True,  True,  True],\n",
       "       [ True,  True,  True,  True,  True,  True]])"
      ]
     },
     "execution_count": 29,
     "metadata": {},
     "output_type": "execute_result"
    }
   ],
   "source": [
    "a == adense"
   ]
  },
  {
   "cell_type": "code",
   "execution_count": 30,
   "id": "d8e29e3c",
   "metadata": {},
   "outputs": [
    {
     "data": {
      "text/plain": [
       "(4, 6)"
      ]
     },
     "execution_count": 30,
     "metadata": {},
     "output_type": "execute_result"
    }
   ],
   "source": [
    "a.shape"
   ]
  },
  {
   "cell_type": "code",
   "execution_count": 31,
   "id": "233fb7fe",
   "metadata": {},
   "outputs": [
    {
     "data": {
      "text/plain": [
       "((16,), (16,), (4,), 4)"
      ]
     },
     "execution_count": 31,
     "metadata": {},
     "output_type": "execute_result"
    }
   ],
   "source": [
    "adata.shape, acols.shape, annz.shape, ellwa"
   ]
  },
  {
   "cell_type": "code",
   "execution_count": 32,
   "id": "fbb29574",
   "metadata": {},
   "outputs": [],
   "source": [
    "#acols = acols.astype(np.uint32)\n",
    "#annz = annz.astype(np.uint32)"
   ]
  },
  {
   "cell_type": "code",
   "execution_count": 33,
   "id": "008c1a26",
   "metadata": {},
   "outputs": [
    {
     "data": {
      "text/plain": [
       "(array([0.4962817 , 0.61053777, 0.        , 0.        , 0.97871953,\n",
       "        0.92973787, 0.        , 0.        , 0.17011414, 0.04285168,\n",
       "        0.        , 0.        , 0.23960817, 0.17746036, 0.        ,\n",
       "        0.        ], dtype=float32),\n",
       " array([3, 4, 0, 0, 1, 3, 0, 0, 0, 4, 0, 0, 1, 4, 0, 0], dtype=uint32),\n",
       " array([2, 2, 2, 2], dtype=uint32),\n",
       " array([[0.48449844, 0.        , 0.        ],\n",
       "        [0.        , 0.80115646, 0.        ],\n",
       "        [0.        , 0.        , 0.4766949 ],\n",
       "        [0.9032664 , 0.        , 0.        ],\n",
       "        [0.        , 0.4441123 , 0.        ],\n",
       "        [0.        , 0.        , 0.41434634]], dtype=float32))"
      ]
     },
     "execution_count": 33,
     "metadata": {},
     "output_type": "execute_result"
    }
   ],
   "source": [
    "adata, acols, annz, b"
   ]
  },
  {
   "cell_type": "markdown",
   "id": "0c247b79",
   "metadata": {},
   "source": [
    "## MatMul (Sparse-Dense)"
   ]
  },
  {
   "cell_type": "markdown",
   "id": "aad78213",
   "metadata": {},
   "source": [
    "adata_buf = cl.Buffer(ctx, mf.READ_WRITE | mf.COPY_HOST_PTR, hostbuf=adata)\n",
    "acols_buf = cl.Buffer(ctx, mf.READ_WRITE | mf.COPY_HOST_PTR, hostbuf=acols)\n",
    "annzs_buf = cl.Buffer(ctx, mf.READ_WRITE | mf.COPY_HOST_PTR, hostbuf=annz)\n",
    "adatat_buf = cl.Buffer(ctx, mf.READ_WRITE | mf.COPY_HOST_PTR, hostbuf=adatat)\n",
    "acolst_buf = cl.Buffer(ctx, mf.READ_WRITE | mf.COPY_HOST_PTR, hostbuf=acolst)\n",
    "annzst_buf = cl.Buffer(ctx, mf.READ_WRITE | mf.COPY_HOST_PTR, hostbuf=annzt)\n",
    "b_buf = cl.Buffer(ctx, mf.READ_WRITE | mf.COPY_HOST_PTR, hostbuf=b)\n",
    "\n",
    "prg = cl.Program(ctx, \"\"\"\n",
    "    // SPARSE x DENSE\n",
    "    __kernel void matmul2(__global  float* matData,     // INPUT MATRIX DATA\n",
    "                            __global  uint*  colIdx,\n",
    "                            __global  uint*  rowNnz,\n",
    "                            uint   ellwidth,\n",
    "                            uint ncols,\n",
    "                            __global  float* vector_x,    // INPUT\n",
    "                            __global  float* vector_y    // OUTPUT\n",
    "                            ) { // LOCAL SHARED BUFFER\n",
    "      uint gid = get_global_id(0);\n",
    "      uint nrows = get_global_size(0);\n",
    "      \n",
    "\n",
    "      uint nnz    = rowNnz[gid];\n",
    "      float sum = 0;\n",
    "      for (uint gid2 = 0; gid2 < ncols; gid2++) {\n",
    "        for (uint i = 0; i < nnz; i++) {\n",
    "          uint index   = (gid * ellwidth) + i;\n",
    "          uint col     = colIdx[index];\n",
    "          float aval  = matData[index];\n",
    "          float xval  = vector_x[col*ncols+gid2];\n",
    "          //if (gid==0 && gid2==2)\n",
    "          //  printf(\"aval, xval: %.2f,%.2f: (%i,%i) \\\\n\", aval, xval, col, index);\n",
    "          sum  += aval * xval;\n",
    "        }\n",
    "        //printf(\"SUM/NNZ: %.2f %i \\\\n\", sum, nnz);\n",
    "        vector_y[gid*ncols+gid2] = sum;\n",
    "      }\n",
    "    }\"\"\").build()"
   ]
  },
  {
   "cell_type": "code",
   "execution_count": 34,
   "id": "fb0ca1f4",
   "metadata": {},
   "outputs": [],
   "source": [
    "adata_buf = cl.Buffer(ctx, mf.READ_WRITE | mf.COPY_HOST_PTR, hostbuf=adata)\n",
    "acols_buf = cl.Buffer(ctx, mf.READ_WRITE | mf.COPY_HOST_PTR, hostbuf=acols)\n",
    "annzs_buf = cl.Buffer(ctx, mf.READ_WRITE | mf.COPY_HOST_PTR, hostbuf=annz)\n",
    "adatat_buf = cl.Buffer(ctx, mf.READ_WRITE | mf.COPY_HOST_PTR, hostbuf=adatat)\n",
    "acolst_buf = cl.Buffer(ctx, mf.READ_WRITE | mf.COPY_HOST_PTR, hostbuf=acolst)\n",
    "annzst_buf = cl.Buffer(ctx, mf.READ_WRITE | mf.COPY_HOST_PTR, hostbuf=annzt)\n",
    "b_buf = cl.Buffer(ctx, mf.READ_WRITE | mf.COPY_HOST_PTR, hostbuf=b)\n",
    "\n",
    "prg = cl.Program(ctx, \"\"\"\n",
    "    // SPARSE x DENSE\n",
    "    __kernel void matmul2(__global  float* matData,     // INPUT MATRIX DATA\n",
    "                            __global  uint*  colIdx,\n",
    "                            __global  uint*  rowNnz,\n",
    "                            uint   ellwidth,\n",
    "                            uint ncols,\n",
    "                            __global  float* vector_x,    // INPUT\n",
    "                            __global  float* vector_y    // OUTPUT\n",
    "                            ) { // LOCAL SHARED BUFFER\n",
    "      uint gid = get_global_id(0);\n",
    "      uint nrows = get_global_size(0);\n",
    "      \n",
    "\n",
    "      uint nnz    = rowNnz[gid];\n",
    "      \n",
    "      for (uint gid2 = 0; gid2 < ncols; gid2++) {\n",
    "        float sum = 0;\n",
    "        for (uint i = 0; i < nnz; i++) {\n",
    "          uint index   = (gid * ellwidth) + i;\n",
    "          uint col     = colIdx[index];\n",
    "          float aval  = matData[index];\n",
    "          uint xidx = col*ncols+gid2;\n",
    "          float xval  = vector_x[xidx];\n",
    "          if (gid==0 && gid2==1)\n",
    "            printf(\"aval, xval: %.2f,%.2f: (%i,%i) - %i \\\\n\", aval, xval, col, index, xidx);\n",
    "          sum  += aval * xval;\n",
    "        }\n",
    "        //printf(\"SUM/NNZ: %.2f %i \\\\n\", sum, nnz);\n",
    "        vector_y[gid*ncols+gid2] = sum;\n",
    "      }\n",
    "    }\"\"\").build()"
   ]
  },
  {
   "cell_type": "code",
   "execution_count": 35,
   "id": "b4c85bcb",
   "metadata": {},
   "outputs": [
    {
     "data": {
      "text/plain": [
       "((4, 6), (6, 3))"
      ]
     },
     "execution_count": 35,
     "metadata": {},
     "output_type": "execute_result"
    }
   ],
   "source": [
    "a.shape, b.shape"
   ]
  },
  {
   "cell_type": "code",
   "execution_count": 36,
   "id": "c740a4fe",
   "metadata": {},
   "outputs": [],
   "source": [
    "res = np.zeros(a.shape[0]).astype(np.float32)\n",
    "#res"
   ]
  },
  {
   "cell_type": "code",
   "execution_count": 37,
   "id": "07aa4d30",
   "metadata": {},
   "outputs": [],
   "source": [
    "rows = a.shape[0]"
   ]
  },
  {
   "cell_type": "code",
   "execution_count": 38,
   "id": "98da857f",
   "metadata": {},
   "outputs": [],
   "source": [
    "mult = mult.astype(np.float32)"
   ]
  },
  {
   "cell_type": "code",
   "execution_count": 39,
   "id": "350bdb16",
   "metadata": {},
   "outputs": [
    {
     "data": {
      "text/plain": [
       "(4, 3)"
      ]
     },
     "execution_count": 39,
     "metadata": {},
     "output_type": "execute_result"
    }
   ],
   "source": [
    "outshape = (a.shape[0], b.shape[1])\n",
    "outshape"
   ]
  },
  {
   "cell_type": "code",
   "execution_count": 40,
   "id": "cc7365fc",
   "metadata": {},
   "outputs": [
    {
     "name": "stdout",
     "output_type": "stream",
     "text": [
      "aval, xval: 0.50,0.00: (3,0) - 10 \n",
      "aval, xval: 0.61,0.44: (4,1) - 13 \n"
     ]
    },
    {
     "data": {
      "text/plain": [
       "<pyopencl._cl.NannyEvent at 0x7f043431a2c0>"
      ]
     },
     "execution_count": 40,
     "metadata": {},
     "output_type": "execute_result"
    }
   ],
   "source": [
    "res_buf = cl.Buffer(ctx, mf.READ_WRITE, np.prod(outshape)*4)\n",
    "knl = prg.matmul2  # Use this Kernel object for repeated calls\n",
    "knl(queue, [outshape[0]], None, adata_buf, acols_buf, annzs_buf, np.uint32(ellwa), np.uint32(outshape[1]), b_buf, res_buf)\n",
    "\n",
    "res_np = np.zeros(outshape).astype(np.float32)\n",
    "cl.enqueue_copy(queue, res_np, res_buf)"
   ]
  },
  {
   "cell_type": "code",
   "execution_count": 41,
   "id": "e2181f67",
   "metadata": {},
   "outputs": [
    {
     "data": {
      "text/plain": [
       "0.0"
      ]
     },
     "execution_count": 41,
     "metadata": {},
     "output_type": "execute_result"
    }
   ],
   "source": [
    "(res_np-mult).sum()"
   ]
  },
  {
   "cell_type": "code",
   "execution_count": 42,
   "id": "79390719",
   "metadata": {},
   "outputs": [
    {
     "data": {
      "text/plain": [
       "array([[0.        , 0.        , 0.        , 0.4962817 , 0.61053777,\n",
       "        0.        ],\n",
       "       [0.        , 0.97871953, 0.        , 0.92973787, 0.        ,\n",
       "        0.        ],\n",
       "       [0.17011414, 0.        , 0.        , 0.        , 0.04285168,\n",
       "        0.        ],\n",
       "       [0.        , 0.23960817, 0.        , 0.        , 0.17746036,\n",
       "        0.        ]], dtype=float32)"
      ]
     },
     "execution_count": 42,
     "metadata": {},
     "output_type": "execute_result"
    }
   ],
   "source": [
    "a"
   ]
  },
  {
   "cell_type": "code",
   "execution_count": 43,
   "id": "a53bcc0b",
   "metadata": {},
   "outputs": [
    {
     "data": {
      "text/plain": [
       "array([[0.48449844, 0.        , 0.        ],\n",
       "       [0.        , 0.80115646, 0.        ],\n",
       "       [0.        , 0.        , 0.4766949 ],\n",
       "       [0.9032664 , 0.        , 0.        ],\n",
       "       [0.        , 0.4441123 , 0.        ],\n",
       "       [0.        , 0.        , 0.41434634]], dtype=float32)"
      ]
     },
     "execution_count": 43,
     "metadata": {},
     "output_type": "execute_result"
    }
   ],
   "source": [
    "b"
   ]
  },
  {
   "cell_type": "code",
   "execution_count": 44,
   "id": "33d8a584",
   "metadata": {},
   "outputs": [
    {
     "data": {
      "text/plain": [
       "<pyopencl._cl.Buffer at 0x7f0434302e00>"
      ]
     },
     "execution_count": 44,
     "metadata": {},
     "output_type": "execute_result"
    }
   ],
   "source": [
    "res_buf"
   ]
  },
  {
   "cell_type": "code",
   "execution_count": 45,
   "id": "99faec15",
   "metadata": {},
   "outputs": [
    {
     "data": {
      "text/plain": [
       "array([[0.44827458, 0.27114734, 0.        ],\n",
       "       [0.83980095, 0.7841075 , 0.        ],\n",
       "       [0.08242004, 0.01903096, 0.        ],\n",
       "       [0.        , 0.27077594, 0.        ]], dtype=float32)"
      ]
     },
     "execution_count": 45,
     "metadata": {},
     "output_type": "execute_result"
    }
   ],
   "source": [
    "res_np"
   ]
  },
  {
   "cell_type": "code",
   "execution_count": 46,
   "id": "4da1c066",
   "metadata": {},
   "outputs": [
    {
     "data": {
      "text/plain": [
       "array([[0.44827458, 0.27114734, 0.        ],\n",
       "       [0.83980095, 0.7841075 , 0.        ],\n",
       "       [0.08242004, 0.01903096, 0.        ],\n",
       "       [0.        , 0.27077594, 0.        ]], dtype=float32)"
      ]
     },
     "execution_count": 46,
     "metadata": {},
     "output_type": "execute_result"
    }
   ],
   "source": [
    "mult"
   ]
  },
  {
   "cell_type": "code",
   "execution_count": 47,
   "id": "0ca8d088",
   "metadata": {},
   "outputs": [
    {
     "data": {
      "text/plain": [
       "array([[ True,  True,  True],\n",
       "       [ True,  True,  True],\n",
       "       [ True,  True,  True],\n",
       "       [ True,  True,  True]])"
      ]
     },
     "execution_count": 47,
     "metadata": {},
     "output_type": "execute_result"
    }
   ],
   "source": [
    "res_np==mult"
   ]
  },
  {
   "cell_type": "code",
   "execution_count": 48,
   "id": "c197fea2",
   "metadata": {},
   "outputs": [
    {
     "data": {
      "text/plain": [
       "(4, 3)"
      ]
     },
     "execution_count": 48,
     "metadata": {},
     "output_type": "execute_result"
    }
   ],
   "source": [
    "res_np.shape"
   ]
  },
  {
   "cell_type": "code",
   "execution_count": 49,
   "id": "b20b9da3",
   "metadata": {},
   "outputs": [
    {
     "data": {
      "text/plain": [
       "(4, 3)"
      ]
     },
     "execution_count": 49,
     "metadata": {},
     "output_type": "execute_result"
    }
   ],
   "source": [
    "mult.shape"
   ]
  },
  {
   "cell_type": "markdown",
   "id": "020471e7",
   "metadata": {},
   "source": [
    "## MatMul (dense * sparse)"
   ]
  },
  {
   "cell_type": "code",
   "execution_count": 50,
   "id": "dc619c6d",
   "metadata": {},
   "outputs": [],
   "source": [
    "bdata_buf = cl.Buffer(ctx, mf.READ_WRITE | mf.COPY_HOST_PTR, hostbuf=bdata)\n",
    "bcols_buf = cl.Buffer(ctx, mf.READ_WRITE | mf.COPY_HOST_PTR, hostbuf=bcols)\n",
    "bnnzs_buf = cl.Buffer(ctx, mf.READ_WRITE | mf.COPY_HOST_PTR, hostbuf=bnnz)\n",
    "bdatat_buf = cl.Buffer(ctx, mf.READ_WRITE | mf.COPY_HOST_PTR, hostbuf=bdatat)\n",
    "bcolst_buf = cl.Buffer(ctx, mf.READ_WRITE | mf.COPY_HOST_PTR, hostbuf=bcolst)\n",
    "bnnzst_buf = cl.Buffer(ctx, mf.READ_WRITE | mf.COPY_HOST_PTR, hostbuf=bnnzt)\n",
    "a_buf = cl.Buffer(ctx, mf.READ_WRITE | mf.COPY_HOST_PTR, hostbuf=a)\n",
    "\n",
    "prg = cl.Program(ctx, \"\"\"\n",
    "    // DENSE x SPARSE\n",
    "    __kernel void matmul(__global  float* matData,     // INPUT MATRIX DATA\n",
    "                            __global  uint*  colIdx,\n",
    "                            __global  uint*  rowNnz,\n",
    "                            uint   ellwidth,\n",
    "                            uint   mwidth,\n",
    "                            uint   ncols,\n",
    "                            __global  float* vector_x,    // INPUT\n",
    "                            __global  float* vector_y    // OUTPUT\n",
    "                            ) { // LOCAL SHARED BUFFER\n",
    "      uint gid = get_global_id(0);\n",
    "      uint nrows = get_global_size(0);\n",
    "\n",
    "      for (uint gid2 = 0; gid2 < ncols; gid2++) {\n",
    "        uint nnz = rowNnz[gid2];\n",
    "        float sum = 0;\n",
    "        for (uint i = 0; i < nnz; i++) {\n",
    "          uint index   = (gid2 * ellwidth) + i;\n",
    "          uint col     = colIdx[index];\n",
    "          float aval  = matData[index];\n",
    "          float xval  = vector_x[gid*mwidth+col];\n",
    "          sum  += aval * xval;\n",
    "          if (gid==0 && gid2==0)\n",
    "            printf(\"aval, xval: %.2f,%.2f - %.2f: (%i,%i) \\\\n\", aval, xval, sum, col, index);\n",
    "        }\n",
    "        //printf(\"SUM/NNZ: %.2f %i \\\\n\", sum, nnz);\n",
    "        vector_y[gid*ncols+gid2] = sum;\n",
    "      }\n",
    "    }\"\"\").build()"
   ]
  },
  {
   "cell_type": "code",
   "execution_count": 51,
   "id": "65b33635",
   "metadata": {},
   "outputs": [
    {
     "data": {
      "text/plain": [
       "((4, 6), (6, 3))"
      ]
     },
     "execution_count": 51,
     "metadata": {},
     "output_type": "execute_result"
    }
   ],
   "source": [
    "a.shape, b.shape"
   ]
  },
  {
   "cell_type": "code",
   "execution_count": 52,
   "id": "1133e820",
   "metadata": {},
   "outputs": [],
   "source": [
    "res = np.zeros(a.shape[0]).astype(np.float32)\n",
    "#res"
   ]
  },
  {
   "cell_type": "code",
   "execution_count": 53,
   "id": "c5fb4354",
   "metadata": {},
   "outputs": [],
   "source": [
    "rows = a.shape[0]"
   ]
  },
  {
   "cell_type": "code",
   "execution_count": 54,
   "id": "c687e0e1",
   "metadata": {},
   "outputs": [
    {
     "data": {
      "text/plain": [
       "((4, 6), (6, 3))"
      ]
     },
     "execution_count": 54,
     "metadata": {},
     "output_type": "execute_result"
    }
   ],
   "source": [
    "a.shape, b.shape"
   ]
  },
  {
   "cell_type": "code",
   "execution_count": 55,
   "id": "2d2074e5",
   "metadata": {},
   "outputs": [],
   "source": [
    "mult = a.dot(b)\n",
    "mult = mult.astype(np.float32)"
   ]
  },
  {
   "cell_type": "code",
   "execution_count": 56,
   "id": "62207659",
   "metadata": {},
   "outputs": [
    {
     "data": {
      "text/plain": [
       "array([4, 3])"
      ]
     },
     "execution_count": 56,
     "metadata": {},
     "output_type": "execute_result"
    }
   ],
   "source": [
    "outshape = np.array([a.shape[0], b.shape[1]])\n",
    "outshape"
   ]
  },
  {
   "cell_type": "code",
   "execution_count": 57,
   "id": "48bda7d1",
   "metadata": {},
   "outputs": [
    {
     "data": {
      "text/plain": [
       "array([[0.48449844, 0.        , 0.        , 0.9032664 , 0.        ,\n",
       "        0.        ],\n",
       "       [0.        , 0.80115646, 0.        , 0.        , 0.4441123 ,\n",
       "        0.        ],\n",
       "       [0.        , 0.        , 0.4766949 , 0.        , 0.        ,\n",
       "        0.41434634]], dtype=float32)"
      ]
     },
     "execution_count": 57,
     "metadata": {},
     "output_type": "execute_result"
    }
   ],
   "source": [
    "b.T"
   ]
  },
  {
   "cell_type": "code",
   "execution_count": 58,
   "id": "e81754e5",
   "metadata": {},
   "outputs": [
    {
     "data": {
      "text/plain": [
       "array([[0.        , 0.        , 0.17011414, 0.        ],\n",
       "       [0.        , 0.97871953, 0.        , 0.23960817],\n",
       "       [0.        , 0.        , 0.        , 0.        ],\n",
       "       [0.4962817 , 0.92973787, 0.        , 0.        ],\n",
       "       [0.61053777, 0.        , 0.04285168, 0.17746036],\n",
       "       [0.        , 0.        , 0.        , 0.        ]], dtype=float32)"
      ]
     },
     "execution_count": 58,
     "metadata": {},
     "output_type": "execute_result"
    }
   ],
   "source": [
    "a.T"
   ]
  },
  {
   "cell_type": "code",
   "execution_count": 59,
   "id": "a4aa52cb",
   "metadata": {},
   "outputs": [
    {
     "data": {
      "text/plain": [
       "array([4, 3])"
      ]
     },
     "execution_count": 59,
     "metadata": {},
     "output_type": "execute_result"
    }
   ],
   "source": [
    "outshape.T"
   ]
  },
  {
   "cell_type": "code",
   "execution_count": 60,
   "id": "cda5d20b",
   "metadata": {},
   "outputs": [
    {
     "data": {
      "text/plain": [
       "((6, 3), array([4, 3]))"
      ]
     },
     "execution_count": 60,
     "metadata": {},
     "output_type": "execute_result"
    }
   ],
   "source": [
    "b.shape, outshape"
   ]
  },
  {
   "cell_type": "code",
   "execution_count": 61,
   "id": "35754fb9",
   "metadata": {},
   "outputs": [
    {
     "name": "stdout",
     "output_type": "stream",
     "text": [
      "aval, xval: 0.48,0.00 - 0.00: (0,0) \n",
      "aval, xval: 0.90,0.50 - 0.45: (3,1) \n"
     ]
    },
    {
     "data": {
      "text/plain": [
       "<pyopencl._cl.NannyEvent at 0x7f0434333130>"
      ]
     },
     "execution_count": 61,
     "metadata": {},
     "output_type": "execute_result"
    }
   ],
   "source": [
    "res_buf = cl.Buffer(ctx, mf.READ_WRITE, np.prod(outshape)*4)\n",
    "knl = prg.matmul  # Use this Kernel object for repeated calls\n",
    "knl(queue, [outshape.T[0]], None, bdatat_buf, bcolst_buf, bnnzst_buf, np.uint32(ellwbt), np.uint32(b.shape[0]), np.uint32(outshape.T[1]), a_buf, res_buf)\n",
    "\n",
    "res_np = np.zeros(outshape).astype(np.float32)\n",
    "cl.enqueue_copy(queue, res_np, res_buf)"
   ]
  },
  {
   "cell_type": "code",
   "execution_count": 62,
   "id": "23cf552a",
   "metadata": {},
   "outputs": [
    {
     "data": {
      "text/plain": [
       "0.0"
      ]
     },
     "execution_count": 62,
     "metadata": {},
     "output_type": "execute_result"
    }
   ],
   "source": [
    "(res_np-mult).sum()"
   ]
  },
  {
   "cell_type": "code",
   "execution_count": 63,
   "id": "99d10b20",
   "metadata": {},
   "outputs": [
    {
     "data": {
      "text/plain": [
       "array([[0.        , 0.        , 0.        , 0.4962817 , 0.61053777,\n",
       "        0.        ],\n",
       "       [0.        , 0.97871953, 0.        , 0.92973787, 0.        ,\n",
       "        0.        ],\n",
       "       [0.17011414, 0.        , 0.        , 0.        , 0.04285168,\n",
       "        0.        ],\n",
       "       [0.        , 0.23960817, 0.        , 0.        , 0.17746036,\n",
       "        0.        ]], dtype=float32)"
      ]
     },
     "execution_count": 63,
     "metadata": {},
     "output_type": "execute_result"
    }
   ],
   "source": [
    "a"
   ]
  },
  {
   "cell_type": "code",
   "execution_count": 64,
   "id": "85fb2a81",
   "metadata": {},
   "outputs": [
    {
     "data": {
      "text/plain": [
       "array([[0.48449844, 0.        , 0.        ],\n",
       "       [0.        , 0.80115646, 0.        ],\n",
       "       [0.        , 0.        , 0.4766949 ],\n",
       "       [0.9032664 , 0.        , 0.        ],\n",
       "       [0.        , 0.4441123 , 0.        ],\n",
       "       [0.        , 0.        , 0.41434634]], dtype=float32)"
      ]
     },
     "execution_count": 64,
     "metadata": {},
     "output_type": "execute_result"
    }
   ],
   "source": [
    "b"
   ]
  },
  {
   "cell_type": "code",
   "execution_count": 65,
   "id": "ee65b3de",
   "metadata": {},
   "outputs": [
    {
     "data": {
      "text/plain": [
       "<pyopencl._cl.Buffer at 0x7f04343269f0>"
      ]
     },
     "execution_count": 65,
     "metadata": {},
     "output_type": "execute_result"
    }
   ],
   "source": [
    "res_buf"
   ]
  },
  {
   "cell_type": "code",
   "execution_count": 66,
   "id": "15e6ab60",
   "metadata": {},
   "outputs": [
    {
     "data": {
      "text/plain": [
       "array([[0.44827458, 0.27114734, 0.        ],\n",
       "       [0.83980095, 0.7841075 , 0.        ],\n",
       "       [0.08242004, 0.01903096, 0.        ],\n",
       "       [0.        , 0.27077594, 0.        ]], dtype=float32)"
      ]
     },
     "execution_count": 66,
     "metadata": {},
     "output_type": "execute_result"
    }
   ],
   "source": [
    "res_np"
   ]
  },
  {
   "cell_type": "code",
   "execution_count": 67,
   "id": "ea2ac480",
   "metadata": {},
   "outputs": [
    {
     "data": {
      "text/plain": [
       "array([[0.44827458, 0.27114734, 0.        ],\n",
       "       [0.83980095, 0.7841075 , 0.        ],\n",
       "       [0.08242004, 0.01903096, 0.        ],\n",
       "       [0.        , 0.27077594, 0.        ]], dtype=float32)"
      ]
     },
     "execution_count": 67,
     "metadata": {},
     "output_type": "execute_result"
    }
   ],
   "source": [
    "mult"
   ]
  },
  {
   "cell_type": "code",
   "execution_count": 68,
   "id": "232d2e9c",
   "metadata": {},
   "outputs": [
    {
     "data": {
      "text/plain": [
       "array([[ True,  True,  True],\n",
       "       [ True,  True,  True],\n",
       "       [ True,  True,  True],\n",
       "       [ True,  True,  True]])"
      ]
     },
     "execution_count": 68,
     "metadata": {},
     "output_type": "execute_result"
    }
   ],
   "source": [
    "res_np==mult"
   ]
  },
  {
   "cell_type": "code",
   "execution_count": 69,
   "id": "315f252f",
   "metadata": {},
   "outputs": [
    {
     "data": {
      "text/plain": [
       "array([[0., 0., 0.],\n",
       "       [0., 0., 0.],\n",
       "       [0., 0., 0.],\n",
       "       [0., 0., 0.]], dtype=float32)"
      ]
     },
     "execution_count": 69,
     "metadata": {},
     "output_type": "execute_result"
    }
   ],
   "source": [
    "res_np-mult"
   ]
  },
  {
   "cell_type": "code",
   "execution_count": 70,
   "id": "3cc1c589",
   "metadata": {},
   "outputs": [
    {
     "data": {
      "text/plain": [
       "(4, 3)"
      ]
     },
     "execution_count": 70,
     "metadata": {},
     "output_type": "execute_result"
    }
   ],
   "source": [
    "res_np.shape"
   ]
  },
  {
   "cell_type": "code",
   "execution_count": 71,
   "id": "7c621598",
   "metadata": {},
   "outputs": [
    {
     "data": {
      "text/plain": [
       "(4, 3)"
      ]
     },
     "execution_count": 71,
     "metadata": {},
     "output_type": "execute_result"
    }
   ],
   "source": [
    "mult.shape"
   ]
  },
  {
   "cell_type": "markdown",
   "id": "2432487e",
   "metadata": {},
   "source": [
    "## MatMul2 (dense * sparse)"
   ]
  },
  {
   "cell_type": "markdown",
   "id": "ffdca101",
   "metadata": {},
   "source": [
    "wdata_buf = cl.Buffer(ctx, mf.READ_WRITE | mf.COPY_HOST_PTR, hostbuf=wdata)\n",
    "wcols_buf = cl.Buffer(ctx, mf.READ_WRITE | mf.COPY_HOST_PTR, hostbuf=wcols)\n",
    "wnnzs_buf = cl.Buffer(ctx, mf.READ_WRITE | mf.COPY_HOST_PTR, hostbuf=wnnz)\n",
    "wdatat_buf = cl.Buffer(ctx, mf.READ_WRITE | mf.COPY_HOST_PTR, hostbuf=wdatat)\n",
    "wcolst_buf = cl.Buffer(ctx, mf.READ_WRITE | mf.COPY_HOST_PTR, hostbuf=wcolst)\n",
    "wnnzst_buf = cl.Buffer(ctx, mf.READ_WRITE | mf.COPY_HOST_PTR, hostbuf=wnnzt)\n",
    "x_buf = cl.Buffer(ctx, mf.READ_WRITE | mf.COPY_HOST_PTR, hostbuf=x_init)\n",
    "\n",
    "prg = cl.Program(ctx, \"\"\"\n",
    "    // DENSE x SPARSE-T\n",
    "    __kernel void matmul2(__global  float* matData,     // INPUT MATRIX DATA\n",
    "                            __global  uint*  colIdx,\n",
    "                            __global  uint*  rowNnz,\n",
    "                            uint   ellwidth,\n",
    "                            uint   mwidth,\n",
    "                            uint   ncols,\n",
    "                            __global  float* vector_x,    // INPUT\n",
    "                            __global  float* vector_y    // OUTPUT\n",
    "                            ) { // LOCAL SHARED BUFFER\n",
    "      uint gid = get_global_id(0);\n",
    "      uint nrows = get_global_size(0);\n",
    "      uint nnz = rowNnz[gid];\n",
    "\n",
    "      for (uint gid2 = 0; gid2 < ncols; gid2++) {\n",
    "        float sum = 0;\n",
    "        for (uint i = 0; i < nnz; i++) {\n",
    "          uint index   = (gid * ellwidth) + i;\n",
    "          uint col     = colIdx[index];\n",
    "          float aval  = matData[index];\n",
    "          float xval  = vector_x[gid2*ncols+col];\n",
    "          sum  += aval * xval;\n",
    "          if (gid==0 && gid2==1)\n",
    "            printf(\"aval, xval: %.2f,%.2f - %.2f: (%i,%i) \\\\n\", aval, xval, sum, col, index);\n",
    "        }\n",
    "        //printf(\"SUM/NNZ: %.2f %i \\\\n\", sum, nnz);\n",
    "        vector_y[gid2*ncols+gid] = sum;\n",
    "      }\n",
    "    }\"\"\").build()"
   ]
  },
  {
   "cell_type": "code",
   "execution_count": 72,
   "id": "622ee80e",
   "metadata": {},
   "outputs": [],
   "source": [
    "wdata_buf = cl.Buffer(ctx, mf.READ_WRITE | mf.COPY_HOST_PTR, hostbuf=wdata)\n",
    "wcols_buf = cl.Buffer(ctx, mf.READ_WRITE | mf.COPY_HOST_PTR, hostbuf=wcols)\n",
    "wnnzs_buf = cl.Buffer(ctx, mf.READ_WRITE | mf.COPY_HOST_PTR, hostbuf=wnnz)\n",
    "wdatat_buf = cl.Buffer(ctx, mf.READ_WRITE | mf.COPY_HOST_PTR, hostbuf=wdatat)\n",
    "wcolst_buf = cl.Buffer(ctx, mf.READ_WRITE | mf.COPY_HOST_PTR, hostbuf=wcolst)\n",
    "wnnzst_buf = cl.Buffer(ctx, mf.READ_WRITE | mf.COPY_HOST_PTR, hostbuf=wnnzt)\n",
    "x_buf = cl.Buffer(ctx, mf.READ_WRITE | mf.COPY_HOST_PTR, hostbuf=x_init)\n",
    "\n",
    "prg = cl.Program(ctx, \"\"\"\n",
    "    // DENSE x SPARSE-T\n",
    "    __kernel void matmul2(__global  float* matData,     // INPUT MATRIX DATA\n",
    "                            __global  uint*  colIdx,\n",
    "                            __global  uint*  rowNnz,\n",
    "                            uint   ellwidth,\n",
    "                            uint   mwidth,\n",
    "                            uint   ncols0,\n",
    "                            __global  float* vector_x,    // INPUT\n",
    "                            __global  float* vector_y    // OUTPUT\n",
    "                            ) { // LOCAL SHARED BUFFER\n",
    "      uint gid = get_global_id(0);\n",
    "      uint nrows = get_global_size(0);\n",
    "      uint nnz = rowNnz[gid];\n",
    "      uint gid2 = get_global_id(1);\n",
    "      uint ncols = get_global_size(1);\n",
    "\n",
    "      float sum = 0;\n",
    "      for (uint i = 0; i < nnz; i++) {\n",
    "        uint index   = (gid2 * ellwidth) + i;\n",
    "        uint col     = colIdx[index];\n",
    "        float aval  = matData[index];\n",
    "        float xval  = vector_x[gid*mwidth+col];\n",
    "        sum  += aval * xval;\n",
    "        if (gid==1 && gid2==0) {\n",
    "          printf(\"aval, xval: %.2f,%.2f - %.2f: (%i,%i) \\\\n\", aval, xval, sum, col, index);\n",
    "        }\n",
    "      }\n",
    "      //printf(\"SUM/NNZ: %.2f %i \\\\n\", sum, nnz);\n",
    "      vector_y[gid*ncols+gid2] = sum;\n",
    "    }\"\"\").build()"
   ]
  },
  {
   "cell_type": "code",
   "execution_count": 73,
   "id": "61a52e82",
   "metadata": {},
   "outputs": [
    {
     "data": {
      "text/plain": [
       "array([4, 3])"
      ]
     },
     "execution_count": 73,
     "metadata": {},
     "output_type": "execute_result"
    }
   ],
   "source": [
    "outshape"
   ]
  },
  {
   "cell_type": "code",
   "execution_count": 74,
   "id": "5158a87f",
   "metadata": {},
   "outputs": [],
   "source": [
    "w_init.shape, x_init.shape\n",
    "w = w_init\n",
    "x = x_init"
   ]
  },
  {
   "cell_type": "code",
   "execution_count": 75,
   "id": "3f4f6639",
   "metadata": {},
   "outputs": [],
   "source": [
    "res = np.zeros(w.shape[0]).astype(np.float32)\n",
    "#res"
   ]
  },
  {
   "cell_type": "code",
   "execution_count": 76,
   "id": "25f573a1",
   "metadata": {},
   "outputs": [],
   "source": [
    "rows = w.shape[0]"
   ]
  },
  {
   "cell_type": "code",
   "execution_count": 77,
   "id": "a9a22c41",
   "metadata": {},
   "outputs": [],
   "source": [
    "mult = mult.astype(np.float32)"
   ]
  },
  {
   "cell_type": "code",
   "execution_count": 78,
   "id": "016a02ac",
   "metadata": {},
   "outputs": [
    {
     "data": {
      "text/plain": [
       "array([4, 6])"
      ]
     },
     "execution_count": 78,
     "metadata": {},
     "output_type": "execute_result"
    }
   ],
   "source": [
    "outshape = np.array([x.shape[0], w.shape[0]])\n",
    "outshape"
   ]
  },
  {
   "cell_type": "code",
   "execution_count": 79,
   "id": "9802f037",
   "metadata": {},
   "outputs": [
    {
     "data": {
      "text/plain": [
       "<pyopencl._cl.NannyEvent at 0x7f04342cf130>"
      ]
     },
     "execution_count": 79,
     "metadata": {},
     "output_type": "execute_result"
    },
    {
     "name": "stdout",
     "output_type": "stream",
     "text": [
      "aval, xval: 0.30,-0.01 - -0.00: (0,0) \n",
      "aval, xval: 0.71,-0.38 - -0.27: (1,1) \n",
      "aval, xval: 1.82,-0.48 - -1.15: (2,2) \n"
     ]
    }
   ],
   "source": [
    "res_buf = cl.Buffer(ctx, mf.READ_WRITE, np.prod(outshape)*4)\n",
    "knl = prg.matmul2  # Use this Kernel object for repeated calls\n",
    "knl(queue, outshape, None, wdata_buf, wcols_buf, wnnzs_buf, np.uint32(ellww), np.uint32(w.shape[1]), np.uint32(x.shape[1]), x_buf, res_buf)\n",
    "\n",
    "res_np = np.zeros(outshape).astype(np.float32)\n",
    "cl.enqueue_copy(queue, res_np, res_buf)"
   ]
  },
  {
   "cell_type": "code",
   "execution_count": 80,
   "id": "75ddcdec",
   "metadata": {},
   "outputs": [
    {
     "data": {
      "text/plain": [
       "(4, 6)"
      ]
     },
     "execution_count": 80,
     "metadata": {},
     "output_type": "execute_result"
    }
   ],
   "source": [
    "mult = x.dot(w_init.T)\n",
    "mult.shape"
   ]
  },
  {
   "cell_type": "code",
   "execution_count": 81,
   "id": "87893c32",
   "metadata": {},
   "outputs": [
    {
     "data": {
      "text/plain": [
       "array([[-2.2389078 ,  0.5590539 , -1.1295058 , -0.6904821 , -0.12957908,\n",
       "         2.479184  ],\n",
       "       [-1.1485354 , -0.15589009, -0.8140842 , -0.5308793 ,  0.02730669,\n",
       "         1.190706  ],\n",
       "       [-1.2361752 , -1.1941159 , -0.5914058 , -0.5907644 , -0.659372  ,\n",
       "         0.24970631],\n",
       "       [ 3.429574  , -0.8654682 ,  2.0890198 ,  1.2252647 , -0.19717614,\n",
       "        -4.169547  ]], dtype=float32)"
      ]
     },
     "execution_count": 81,
     "metadata": {},
     "output_type": "execute_result"
    }
   ],
   "source": [
    "mult"
   ]
  },
  {
   "cell_type": "code",
   "execution_count": 82,
   "id": "aca22565",
   "metadata": {},
   "outputs": [
    {
     "data": {
      "text/plain": [
       "array([[-2.2389078 ,  0.5590539 , -1.1295058 , -0.6904821 , -0.12957908,\n",
       "         2.479184  ],\n",
       "       [-1.1485354 , -0.15589009, -0.8140842 , -0.5308793 ,  0.02730669,\n",
       "         1.190706  ],\n",
       "       [-1.2361752 , -1.1941159 , -0.5914058 , -0.5907644 , -0.659372  ,\n",
       "         0.24970631],\n",
       "       [ 3.429574  , -0.8654682 ,  2.0890198 ,  1.2252647 , -0.19717614,\n",
       "        -4.169547  ]], dtype=float32)"
      ]
     },
     "execution_count": 82,
     "metadata": {},
     "output_type": "execute_result"
    }
   ],
   "source": [
    "res_np"
   ]
  },
  {
   "cell_type": "code",
   "execution_count": 83,
   "id": "b1b01085",
   "metadata": {},
   "outputs": [
    {
     "data": {
      "text/plain": [
       "array([[ 1.1085547e-03, -2.8954408e-01, -1.1160663e+00],\n",
       "       [-1.2882757e-02, -3.7836146e-01, -4.8113537e-01],\n",
       "       [-1.5173311e+00, -4.9087200e-01, -2.4068058e-01],\n",
       "       [-6.4794743e-01,  6.3589108e-01,  1.7401173e+00]], dtype=float32)"
      ]
     },
     "execution_count": 83,
     "metadata": {},
     "output_type": "execute_result"
    }
   ],
   "source": [
    "x"
   ]
  },
  {
   "cell_type": "code",
   "execution_count": 84,
   "id": "7a2bc717",
   "metadata": {},
   "outputs": [
    {
     "data": {
      "text/plain": [
       "array([[ 0.2966822 ,  0.7075037 ,  1.8228158 ],\n",
       "       [ 0.43076903,  1.5427296 , -0.9007212 ],\n",
       "       [-0.13712502,  1.297579  ,  0.67527115],\n",
       "       [ 0.03195812,  0.9181459 ,  0.38050947],\n",
       "       [ 0.5163675 , -0.35523945,  0.208777  ],\n",
       "       [ 0.32841107, -0.49822477, -2.0917768 ]], dtype=float32)"
      ]
     },
     "execution_count": 84,
     "metadata": {},
     "output_type": "execute_result"
    }
   ],
   "source": [
    "w"
   ]
  },
  {
   "cell_type": "code",
   "execution_count": 85,
   "id": "25bff0bb",
   "metadata": {},
   "outputs": [
    {
     "data": {
      "text/plain": [
       "0.0"
      ]
     },
     "execution_count": 85,
     "metadata": {},
     "output_type": "execute_result"
    }
   ],
   "source": [
    "(res_np-mult).sum()"
   ]
  },
  {
   "cell_type": "code",
   "execution_count": 86,
   "id": "4b476526",
   "metadata": {},
   "outputs": [
    {
     "data": {
      "text/plain": [
       "array([[-2.2389078 ,  0.5590539 , -1.1295058 , -0.6904821 , -0.12957908,\n",
       "         2.479184  ],\n",
       "       [-1.1485354 , -0.15589009, -0.8140842 , -0.5308793 ,  0.02730669,\n",
       "         1.190706  ],\n",
       "       [-1.2361752 , -1.1941159 , -0.5914058 , -0.5907644 , -0.659372  ,\n",
       "         0.24970631],\n",
       "       [ 3.429574  , -0.8654682 ,  2.0890198 ,  1.2252647 , -0.19717614,\n",
       "        -4.169547  ]], dtype=float32)"
      ]
     },
     "execution_count": 86,
     "metadata": {},
     "output_type": "execute_result"
    }
   ],
   "source": [
    "mult"
   ]
  },
  {
   "cell_type": "code",
   "execution_count": 87,
   "id": "7c27301f",
   "metadata": {},
   "outputs": [
    {
     "data": {
      "text/plain": [
       "array([[ True,  True,  True,  True,  True,  True],\n",
       "       [ True,  True,  True,  True,  True,  True],\n",
       "       [ True,  True,  True,  True,  True,  True],\n",
       "       [ True,  True,  True,  True,  True,  True]])"
      ]
     },
     "execution_count": 87,
     "metadata": {},
     "output_type": "execute_result"
    }
   ],
   "source": [
    "res_np==mult"
   ]
  },
  {
   "cell_type": "code",
   "execution_count": 88,
   "id": "2895fd1c",
   "metadata": {},
   "outputs": [
    {
     "data": {
      "text/plain": [
       "array([[0., 0., 0., 0., 0., 0.],\n",
       "       [0., 0., 0., 0., 0., 0.],\n",
       "       [0., 0., 0., 0., 0., 0.],\n",
       "       [0., 0., 0., 0., 0., 0.]], dtype=float32)"
      ]
     },
     "execution_count": 88,
     "metadata": {},
     "output_type": "execute_result"
    }
   ],
   "source": [
    "res_np-mult"
   ]
  },
  {
   "cell_type": "code",
   "execution_count": 89,
   "id": "85267e65",
   "metadata": {},
   "outputs": [
    {
     "data": {
      "text/plain": [
       "(4, 6)"
      ]
     },
     "execution_count": 89,
     "metadata": {},
     "output_type": "execute_result"
    }
   ],
   "source": [
    "res_np.shape"
   ]
  },
  {
   "cell_type": "code",
   "execution_count": 90,
   "id": "1985612f",
   "metadata": {},
   "outputs": [
    {
     "data": {
      "text/plain": [
       "(4, 6)"
      ]
     },
     "execution_count": 90,
     "metadata": {},
     "output_type": "execute_result"
    }
   ],
   "source": [
    "mult.shape"
   ]
  },
  {
   "cell_type": "markdown",
   "id": "7aad6088",
   "metadata": {},
   "source": [
    "## MatMul (dense * sparse) NEW"
   ]
  },
  {
   "cell_type": "markdown",
   "id": "f44a4c7a",
   "metadata": {},
   "source": [
    "bdata_buf = cl.Buffer(ctx, mf.READ_WRITE | mf.COPY_HOST_PTR, hostbuf=bdata)\n",
    "bcols_buf = cl.Buffer(ctx, mf.READ_WRITE | mf.COPY_HOST_PTR, hostbuf=bcols)\n",
    "bnnzs_buf = cl.Buffer(ctx, mf.READ_WRITE | mf.COPY_HOST_PTR, hostbuf=bnnz)\n",
    "bdatat_buf = cl.Buffer(ctx, mf.READ_WRITE | mf.COPY_HOST_PTR, hostbuf=bdatat)\n",
    "bcolst_buf = cl.Buffer(ctx, mf.READ_WRITE | mf.COPY_HOST_PTR, hostbuf=bcolst)\n",
    "bnnzst_buf = cl.Buffer(ctx, mf.READ_WRITE | mf.COPY_HOST_PTR, hostbuf=bnnzt)\n",
    "a_buf = cl.Buffer(ctx, mf.READ_WRITE | mf.COPY_HOST_PTR, hostbuf=a)\n",
    "\n",
    "prg = cl.Program(ctx, \"\"\"\n",
    "    // DENSE x SPARSE\n",
    "    __kernel void matmulnew(__global  float* matData,     // INPUT MATRIX DATA\n",
    "                            __global  uint*  colIdx,\n",
    "                            __global  uint*  rowNnz,\n",
    "                            uint   ellwidth,\n",
    "                            uint   mwidth,\n",
    "                            __global  float* vector_x,    // INPUT\n",
    "                            __global  float* vector_y    // OUTPUT\n",
    "                            ) { // LOCAL SHARED BUFFER\n",
    "      uint gid = get_global_id(0);\n",
    "      uint nrows = get_global_size(0);\n",
    "      uint gid2 = get_global_id(1);\n",
    "      uint ncols = get_global_size(1);\n",
    "      uint nnz = rowNnz[gid2];\n",
    "      float sum = 0;\n",
    "      for (uint i = 0; i < nnz; i++) {\n",
    "        uint index   = (gid2 * ellwidth) + i;\n",
    "        uint col     = colIdx[index];\n",
    "        float aval  = matData[index];\n",
    "        float xval  = vector_x[gid*mwidth+col];\n",
    "        vector_y[gid2*nrows+gid] += aval * xval;\n",
    "        if (gid==0 && gid2==0)\n",
    "          printf(\"aval, xval: %.2f,%.2f - %.2f: (%i,%i) \\\\n\", aval, xval, sum, col, index);\n",
    "        //printf(\"SUM/NNZ: %.2f %i \\\\n\", sum, nnz);\n",
    "        \n",
    "      }\n",
    "      \n",
    "    }\"\"\").build()"
   ]
  },
  {
   "cell_type": "code",
   "execution_count": 91,
   "id": "4aa4d149",
   "metadata": {},
   "outputs": [],
   "source": [
    "bdata_buf = cl.Buffer(ctx, mf.READ_WRITE | mf.COPY_HOST_PTR, hostbuf=bdata)\n",
    "bcols_buf = cl.Buffer(ctx, mf.READ_WRITE | mf.COPY_HOST_PTR, hostbuf=bcols)\n",
    "bnnzs_buf = cl.Buffer(ctx, mf.READ_WRITE | mf.COPY_HOST_PTR, hostbuf=bnnz)\n",
    "bdatat_buf = cl.Buffer(ctx, mf.READ_WRITE | mf.COPY_HOST_PTR, hostbuf=bdatat)\n",
    "bcolst_buf = cl.Buffer(ctx, mf.READ_WRITE | mf.COPY_HOST_PTR, hostbuf=bcolst)\n",
    "bnnzst_buf = cl.Buffer(ctx, mf.READ_WRITE | mf.COPY_HOST_PTR, hostbuf=bnnzt)\n",
    "a_buf = cl.Buffer(ctx, mf.READ_WRITE | mf.COPY_HOST_PTR, hostbuf=a)\n",
    "\n",
    "prg = cl.Program(ctx, \"\"\"\n",
    "    // DENSE x SPARSE\n",
    "    __kernel void matmulnew(__global  float* matData,     // INPUT MATRIX DATA\n",
    "                            __global  uint*  colIdx,\n",
    "                            __global  uint*  rowNnz,\n",
    "                            uint   ellwidth,\n",
    "                            uint   mwidth,\n",
    "                            __global  float* vector_x,    // INPUT\n",
    "                            __global  float* vector_y    // OUTPUT\n",
    "                            ) { // LOCAL SHARED BUFFER\n",
    "      uint gid = get_global_id(0);\n",
    "      uint nrows = get_global_size(0);\n",
    "      uint gid2 = get_global_id(1);\n",
    "      uint ncols = get_global_size(1);\n",
    "      uint nnz = rowNnz[gid2];\n",
    "      float sum = 0;\n",
    "      for (uint i = 0; i < nnz; i++) {\n",
    "        uint index   = (gid2 * ellwidth) + i;\n",
    "        uint col     = colIdx[index];\n",
    "        float aval  = matData[index];\n",
    "        float xval  = vector_x[gid*mwidth+col];\n",
    "        sum  += aval * xval;\n",
    "        if (gid==1 && gid2==0)\n",
    "          printf(\"aval, xval: %.2f,%.2f - %.2f: (%i,%i) \\\\n\", aval, xval, sum, col, index);\n",
    "        //printf(\"SUM/NNZ: %.2f %i \\\\n\", sum, nnz);\n",
    "      }\n",
    "      vector_y[gid2*ncols+gid] = sum;\n",
    "    }\"\"\").build()"
   ]
  },
  {
   "cell_type": "code",
   "execution_count": 92,
   "id": "e547428c",
   "metadata": {},
   "outputs": [
    {
     "data": {
      "text/plain": [
       "((4, 6), (6, 3))"
      ]
     },
     "execution_count": 92,
     "metadata": {},
     "output_type": "execute_result"
    }
   ],
   "source": [
    "a.shape, b.shape"
   ]
  },
  {
   "cell_type": "code",
   "execution_count": 93,
   "id": "b5220c53",
   "metadata": {},
   "outputs": [],
   "source": [
    "res = np.zeros(a.shape[0]).astype(np.float32)\n",
    "#res"
   ]
  },
  {
   "cell_type": "code",
   "execution_count": 94,
   "id": "fb743cc5",
   "metadata": {},
   "outputs": [],
   "source": [
    "rows = a.shape[0]"
   ]
  },
  {
   "cell_type": "code",
   "execution_count": 95,
   "id": "86b29c18",
   "metadata": {},
   "outputs": [],
   "source": [
    "mult = mult.astype(np.float32)"
   ]
  },
  {
   "cell_type": "code",
   "execution_count": 96,
   "id": "815716c7",
   "metadata": {},
   "outputs": [
    {
     "data": {
      "text/plain": [
       "array([4, 3])"
      ]
     },
     "execution_count": 96,
     "metadata": {},
     "output_type": "execute_result"
    }
   ],
   "source": [
    "outshape = np.array([a.shape[0], b.shape[1]])\n",
    "outshape"
   ]
  },
  {
   "cell_type": "code",
   "execution_count": 97,
   "id": "ab35e1f0",
   "metadata": {},
   "outputs": [
    {
     "data": {
      "text/plain": [
       "array([[0.48449844, 0.        , 0.        , 0.9032664 , 0.        ,\n",
       "        0.        ],\n",
       "       [0.        , 0.80115646, 0.        , 0.        , 0.4441123 ,\n",
       "        0.        ],\n",
       "       [0.        , 0.        , 0.4766949 , 0.        , 0.        ,\n",
       "        0.41434634]], dtype=float32)"
      ]
     },
     "execution_count": 97,
     "metadata": {},
     "output_type": "execute_result"
    }
   ],
   "source": [
    "b.T"
   ]
  },
  {
   "cell_type": "code",
   "execution_count": 98,
   "id": "e362c04c",
   "metadata": {},
   "outputs": [
    {
     "data": {
      "text/plain": [
       "array([[0.        , 0.        , 0.        , 0.4962817 , 0.61053777,\n",
       "        0.        ],\n",
       "       [0.        , 0.97871953, 0.        , 0.92973787, 0.        ,\n",
       "        0.        ],\n",
       "       [0.17011414, 0.        , 0.        , 0.        , 0.04285168,\n",
       "        0.        ],\n",
       "       [0.        , 0.23960817, 0.        , 0.        , 0.17746036,\n",
       "        0.        ]], dtype=float32)"
      ]
     },
     "execution_count": 98,
     "metadata": {},
     "output_type": "execute_result"
    }
   ],
   "source": [
    "a"
   ]
  },
  {
   "cell_type": "code",
   "execution_count": 99,
   "id": "e7ab9a76",
   "metadata": {},
   "outputs": [
    {
     "name": "stdout",
     "output_type": "stream",
     "text": [
      "(4,)aval, xval: 0.48,0.00 - 0.00: (0,0) \n",
      "aval, xval: 0.90,0.93 - 0.84: (3,1) \n",
      "\n"
     ]
    },
    {
     "data": {
      "text/plain": [
       "<pyopencl._cl.NannyEvent at 0x7f0434333ef0>"
      ]
     },
     "execution_count": 99,
     "metadata": {},
     "output_type": "execute_result"
    }
   ],
   "source": [
    "res_buf = cl.Buffer(ctx, mf.READ_WRITE, np.prod(outshape)*4)\n",
    "knl = prg.matmulnew  # Use this Kernel object for repeated calls\n",
    "knl(queue, outshape, None, bdatat_buf, bcolst_buf, bnnzst_buf, np.uint32(ellwbt), np.uint32(b.shape[0]), a_buf, res_buf)\n",
    "\n",
    "res_np = np.zeros((outshape[0],)).astype(np.float32)\n",
    "print(res_np.shape)\n",
    "cl.enqueue_copy(queue, res_np, res_buf)"
   ]
  },
  {
   "cell_type": "code",
   "execution_count": 100,
   "id": "67eeff65",
   "metadata": {},
   "outputs": [
    {
     "data": {
      "text/plain": [
       "13.315047"
      ]
     },
     "execution_count": 100,
     "metadata": {},
     "output_type": "execute_result"
    }
   ],
   "source": [
    "(res_np-mult.T).sum()"
   ]
  },
  {
   "cell_type": "code",
   "execution_count": 101,
   "id": "437bc46f",
   "metadata": {},
   "outputs": [
    {
     "data": {
      "text/plain": [
       "<pyopencl._cl.Buffer at 0x7f04342ff4a0>"
      ]
     },
     "execution_count": 101,
     "metadata": {},
     "output_type": "execute_result"
    }
   ],
   "source": [
    "res_buf"
   ]
  },
  {
   "cell_type": "code",
   "execution_count": 102,
   "id": "9035b6b3",
   "metadata": {},
   "outputs": [
    {
     "data": {
      "text/plain": [
       "array([0.44827458, 0.83980095, 0.08242004, 0.        ], dtype=float32)"
      ]
     },
     "execution_count": 102,
     "metadata": {},
     "output_type": "execute_result"
    }
   ],
   "source": [
    "res_np.T"
   ]
  },
  {
   "cell_type": "code",
   "execution_count": 103,
   "id": "75f2d1d4",
   "metadata": {},
   "outputs": [
    {
     "data": {
      "text/plain": [
       "array([[-2.2389078 ,  0.5590539 , -1.1295058 , -0.6904821 , -0.12957908,\n",
       "         2.479184  ],\n",
       "       [-1.1485354 , -0.15589009, -0.8140842 , -0.5308793 ,  0.02730669,\n",
       "         1.190706  ],\n",
       "       [-1.2361752 , -1.1941159 , -0.5914058 , -0.5907644 , -0.659372  ,\n",
       "         0.24970631],\n",
       "       [ 3.429574  , -0.8654682 ,  2.0890198 ,  1.2252647 , -0.19717614,\n",
       "        -4.169547  ]], dtype=float32)"
      ]
     },
     "execution_count": 103,
     "metadata": {},
     "output_type": "execute_result"
    }
   ],
   "source": [
    "mult"
   ]
  },
  {
   "cell_type": "code",
   "execution_count": 104,
   "id": "aa862e0f",
   "metadata": {},
   "outputs": [
    {
     "data": {
      "text/plain": [
       "array([[ 2.6871824 ,  1.9883363 ,  1.3185952 , -3.429574  ],\n",
       "       [-0.11077932,  0.99569106,  1.2765359 ,  0.8654682 ],\n",
       "       [ 1.5777804 ,  1.6538851 ,  0.67382586, -2.0890198 ],\n",
       "       [ 1.1387566 ,  1.3706803 ,  0.67318445, -1.2252647 ],\n",
       "       [ 0.5778537 ,  0.8124943 ,  0.741792  ,  0.19717614],\n",
       "       [-2.0309093 , -0.35090506, -0.16728628,  4.169547  ]],\n",
       "      dtype=float32)"
      ]
     },
     "execution_count": 104,
     "metadata": {},
     "output_type": "execute_result"
    }
   ],
   "source": [
    "res_np-mult.T"
   ]
  },
  {
   "cell_type": "code",
   "execution_count": 105,
   "id": "25d376fc",
   "metadata": {},
   "outputs": [
    {
     "data": {
      "text/plain": [
       "(4,)"
      ]
     },
     "execution_count": 105,
     "metadata": {},
     "output_type": "execute_result"
    }
   ],
   "source": [
    "res_np.shape"
   ]
  },
  {
   "cell_type": "code",
   "execution_count": 106,
   "id": "fa077d86",
   "metadata": {},
   "outputs": [
    {
     "data": {
      "text/plain": [
       "(4, 6)"
      ]
     },
     "execution_count": 106,
     "metadata": {},
     "output_type": "execute_result"
    }
   ],
   "source": [
    "mult.shape"
   ]
  },
  {
   "cell_type": "markdown",
   "id": "cdc9f0be",
   "metadata": {},
   "source": [
    "# Matmult Dense Dense"
   ]
  },
  {
   "cell_type": "code",
   "execution_count": 107,
   "id": "d3eeacb6",
   "metadata": {},
   "outputs": [],
   "source": [
    "b_buf2 = cl.Buffer(ctx, mf.READ_WRITE | mf.COPY_HOST_PTR, hostbuf=b)\n",
    "a_buf = cl.Buffer(ctx, mf.READ_WRITE | mf.COPY_HOST_PTR, hostbuf=a)\n",
    "\n",
    "prg = cl.Program(ctx, \"\"\"\n",
    "    // multilplies x by y WITH Y TRANSPOSED INDEXING\n",
    "    __kernel void matmul0(__global  float* x,     // INPUT MATRIX DATA\n",
    "                          __global  float* y,    // INPUT\n",
    "                          __global  float* res,    // INPUT\n",
    "                          uint msize\n",
    "                          ) { // LOCAL SHARED BUFFER\n",
    "      uint isize = get_global_size(0);\n",
    "      uint osize = get_global_size(1);\n",
    "      int gidx = get_global_id(0); // row\n",
    "      int gidy = get_global_id(1); // col\n",
    "\n",
    "      float ret = 0.0;\n",
    "      for (int i = 0; i < msize; i++) {\n",
    "        uint xidx = gidx*msize+i; \n",
    "        float xval = x[xidx];\n",
    "        uint yidx = osize*i+gidy;\n",
    "        float yval = y[yidx];\n",
    "        ret += xval*yval;\n",
    "        if (gidx==0 && gidy==0)\n",
    "          printf(\"\\\\nmult: %.2f x %.2f - %.2f  -- %i/%i\", xval, yval, res, xidx, yidx);\n",
    "      }\n",
    "\n",
    "      //if (gidx==0&&gidy==0)\n",
    "      //  printf(\"\\\\nsum:%.2f\", ret);\n",
    "      res[gidx * osize + gidy] = ret;\n",
    "    }\"\"\").build()"
   ]
  },
  {
   "cell_type": "code",
   "execution_count": 108,
   "id": "ee0aabda",
   "metadata": {},
   "outputs": [
    {
     "data": {
      "text/plain": [
       "((4, 6), (6, 3))"
      ]
     },
     "execution_count": 108,
     "metadata": {},
     "output_type": "execute_result"
    }
   ],
   "source": [
    "a.shape, b.shape"
   ]
  },
  {
   "cell_type": "code",
   "execution_count": 109,
   "id": "938f25f9",
   "metadata": {},
   "outputs": [],
   "source": [
    "rows = a.shape[0]"
   ]
  },
  {
   "cell_type": "code",
   "execution_count": 110,
   "id": "d19122ca",
   "metadata": {},
   "outputs": [],
   "source": [
    "mult = mult.astype(np.float32)"
   ]
  },
  {
   "cell_type": "code",
   "execution_count": 111,
   "id": "17176ece",
   "metadata": {},
   "outputs": [
    {
     "name": "stdout",
     "output_type": "stream",
     "text": [
      "\n",
      "mult: 0.00 x 0.48 - 0.00  -- 0/0\n",
      "mult: 0.00 x 0.00 - 0.00  -- 1/3\n",
      "mult: 0.00 x 0.00 - 0.00  -- 2/6\n",
      "mult: 0.50 x 0.90 - 0.00  -- 3/9\n",
      "mult: 0.61 x 0.00 - 0.00  -- 4/12\n",
      "mult: 0.00 x 0.00 - 0.00  -- 5/15"
     ]
    },
    {
     "data": {
      "text/plain": [
       "<pyopencl._cl.NannyEvent at 0x7f04342a4360>"
      ]
     },
     "execution_count": 111,
     "metadata": {},
     "output_type": "execute_result"
    }
   ],
   "source": [
    "res_buf = cl.Buffer(ctx, mf.READ_WRITE, np.prod([rows,b.shape[1]])*4)\n",
    "knl = prg.matmul0  # Use this Kernel object for repeated calls\n",
    "knl(queue, [rows,b.shape[1]], None, a_buf, b_buf2, res_buf, np.uint32(a.shape[1]))\n",
    "\n",
    "res_np = np.zeros([rows,b.shape[1]]).astype(np.float32)\n",
    "cl.enqueue_copy(queue, res_np, res_buf)"
   ]
  },
  {
   "cell_type": "code",
   "execution_count": 112,
   "id": "2e20ef7a",
   "metadata": {},
   "outputs": [
    {
     "ename": "ValueError",
     "evalue": "operands could not be broadcast together with shapes (4,3) (4,6) ",
     "output_type": "error",
     "traceback": [
      "\u001b[0;31m---------------------------------------------------------------------------\u001b[0m",
      "\u001b[0;31mValueError\u001b[0m                                Traceback (most recent call last)",
      "\u001b[0;32m/tmp/ipykernel_16336/862617426.py\u001b[0m in \u001b[0;36m<module>\u001b[0;34m\u001b[0m\n\u001b[0;32m----> 1\u001b[0;31m \u001b[0;34m(\u001b[0m\u001b[0mres_np\u001b[0m\u001b[0;34m-\u001b[0m\u001b[0mmult\u001b[0m\u001b[0;34m)\u001b[0m\u001b[0;34m.\u001b[0m\u001b[0msum\u001b[0m\u001b[0;34m(\u001b[0m\u001b[0;34m)\u001b[0m\u001b[0;34m\u001b[0m\u001b[0;34m\u001b[0m\u001b[0m\n\u001b[0m",
      "\u001b[0;31mValueError\u001b[0m: operands could not be broadcast together with shapes (4,3) (4,6) "
     ]
    }
   ],
   "source": [
    "(res_np-mult).sum()"
   ]
  },
  {
   "cell_type": "code",
   "execution_count": null,
   "id": "13304b53",
   "metadata": {},
   "outputs": [],
   "source": [
    "a"
   ]
  },
  {
   "cell_type": "code",
   "execution_count": null,
   "id": "1678d389",
   "metadata": {},
   "outputs": [],
   "source": [
    "b"
   ]
  },
  {
   "cell_type": "code",
   "execution_count": null,
   "id": "6afa1b35",
   "metadata": {},
   "outputs": [],
   "source": [
    "res_np"
   ]
  },
  {
   "cell_type": "code",
   "execution_count": null,
   "id": "16178e90",
   "metadata": {},
   "outputs": [],
   "source": [
    "a.dot(b)"
   ]
  },
  {
   "cell_type": "code",
   "execution_count": null,
   "id": "4a9cd845",
   "metadata": {},
   "outputs": [],
   "source": [
    "res_np==mult"
   ]
  },
  {
   "cell_type": "code",
   "execution_count": null,
   "id": "202bd173",
   "metadata": {},
   "outputs": [],
   "source": [
    "res_np.shape"
   ]
  },
  {
   "cell_type": "code",
   "execution_count": null,
   "id": "31d97059",
   "metadata": {},
   "outputs": [],
   "source": [
    "mult.shape"
   ]
  },
  {
   "cell_type": "markdown",
   "id": "740ba01c",
   "metadata": {},
   "source": [
    "# Matmult Dense Transposed"
   ]
  },
  {
   "cell_type": "code",
   "execution_count": null,
   "id": "62bd6037",
   "metadata": {},
   "outputs": [],
   "source": [
    "b"
   ]
  },
  {
   "cell_type": "code",
   "execution_count": null,
   "id": "dc2ef4a9",
   "metadata": {},
   "outputs": [],
   "source": [
    "c=np.zeros(b.T.shape)\n",
    "bt = b.T\n",
    "for row in range(bt.shape[0]):\n",
    "    for col in range(bt.shape[1]):\n",
    "        c[row][col] = bt[row][col]"
   ]
  },
  {
   "cell_type": "code",
   "execution_count": null,
   "id": "75b0c726",
   "metadata": {},
   "outputs": [],
   "source": [
    "bt"
   ]
  },
  {
   "cell_type": "code",
   "execution_count": null,
   "id": "2de4c770",
   "metadata": {},
   "outputs": [],
   "source": [
    "c"
   ]
  },
  {
   "cell_type": "code",
   "execution_count": null,
   "id": "ca967ffe",
   "metadata": {},
   "outputs": [],
   "source": [
    "b_buf2 = cl.Buffer(ctx, mf.READ_WRITE | mf.COPY_HOST_PTR, hostbuf=c.astype(np.float32))\n",
    "a_buf = cl.Buffer(ctx, mf.READ_WRITE | mf.COPY_HOST_PTR, hostbuf=a)\n",
    "\n",
    "prg = cl.Program(ctx, \"\"\"\n",
    "    // multilplies x by y WITH Y TRANSPOSED INDEXING\n",
    "    __kernel void matmul0(__global  float* x,     // INPUT MATRIX DATA\n",
    "                          __global  float* y,    // INPUT\n",
    "                          __global  float* res,    // INPUT\n",
    "                          uint msize\n",
    "                          ) { // LOCAL SHARED BUFFER\n",
    "      uint isize = get_global_size(0);\n",
    "      uint osize = get_global_size(1);\n",
    "      int gidx = get_global_id(0); // row\n",
    "      int gidy = get_global_id(1); // col\n",
    "\n",
    "      float ret = 0.0;\n",
    "      for (int i = 0; i < msize; i++) {\n",
    "        uint xidx = gidx*msize+i;\n",
    "        float xval = x[xidx];\n",
    "        uint yidx = msize*gidy+i;\n",
    "        float yval = y[yidx];\n",
    "        ret += xval*yval;\n",
    "        if (gidx==0 && gidy==0)\n",
    "          printf(\"\\\\nmult: %.2f x %.2f - %.2f  -- %i/%i\", xval, yval, res, xidx, yidx);\n",
    "      }\n",
    "\n",
    "      //if (gidx==0&&gidy==0)\n",
    "      //  printf(\"\\\\nsum:%.2f\", ret);\n",
    "      res[gidx * osize + gidy] = ret;\n",
    "    }\"\"\").build()"
   ]
  },
  {
   "cell_type": "code",
   "execution_count": null,
   "id": "a43dbb5d",
   "metadata": {},
   "outputs": [],
   "source": [
    "a.shape, b.T.shape"
   ]
  },
  {
   "cell_type": "code",
   "execution_count": null,
   "id": "fde0973e",
   "metadata": {},
   "outputs": [],
   "source": [
    "rows = a.shape[0]"
   ]
  },
  {
   "cell_type": "code",
   "execution_count": null,
   "id": "56c661f2",
   "metadata": {},
   "outputs": [],
   "source": [
    "mult = mult.astype(np.float32)"
   ]
  },
  {
   "cell_type": "code",
   "execution_count": null,
   "id": "10b1d468",
   "metadata": {},
   "outputs": [],
   "source": [
    "res_buf = cl.Buffer(ctx, mf.READ_WRITE, np.prod([rows,b.shape[1]])*4)\n",
    "knl = prg.matmul0  # Use this Kernel object for repeated calls\n",
    "knl(queue, [rows,b.shape[1]], None, a_buf, b_buf2, res_buf, np.uint32(a.shape[1]))\n",
    "\n",
    "res_np = np.zeros([rows,b.shape[1]]).astype(np.float32)\n",
    "cl.enqueue_copy(queue, res_np, res_buf)"
   ]
  },
  {
   "cell_type": "code",
   "execution_count": null,
   "id": "3791c36d",
   "metadata": {},
   "outputs": [],
   "source": [
    "(res_np-mult).sum()"
   ]
  },
  {
   "cell_type": "code",
   "execution_count": null,
   "id": "be02b18f",
   "metadata": {},
   "outputs": [],
   "source": [
    "a"
   ]
  },
  {
   "cell_type": "code",
   "execution_count": null,
   "id": "7a112967",
   "metadata": {},
   "outputs": [],
   "source": [
    "b"
   ]
  },
  {
   "cell_type": "code",
   "execution_count": null,
   "id": "0bdbf257",
   "metadata": {},
   "outputs": [],
   "source": [
    "res_np"
   ]
  },
  {
   "cell_type": "code",
   "execution_count": null,
   "id": "4e43e4c3",
   "metadata": {},
   "outputs": [],
   "source": [
    "a.dot(b)"
   ]
  },
  {
   "cell_type": "code",
   "execution_count": null,
   "id": "fbe02272",
   "metadata": {},
   "outputs": [],
   "source": [
    "res_np==mult"
   ]
  },
  {
   "cell_type": "code",
   "execution_count": null,
   "id": "bb6187da",
   "metadata": {},
   "outputs": [],
   "source": [
    "res_np.shape"
   ]
  },
  {
   "cell_type": "code",
   "execution_count": null,
   "id": "af9e3da1",
   "metadata": {},
   "outputs": [],
   "source": [
    "mult.shape"
   ]
  },
  {
   "cell_type": "markdown",
   "id": "726b7e0f",
   "metadata": {},
   "source": [
    "# Matmult Transposed Dense"
   ]
  },
  {
   "cell_type": "code",
   "execution_count": null,
   "id": "7adbefce",
   "metadata": {},
   "outputs": [],
   "source": [
    "b"
   ]
  },
  {
   "cell_type": "code",
   "execution_count": null,
   "id": "f9d3c30b",
   "metadata": {},
   "outputs": [],
   "source": [
    "c=np.zeros(a.T.shape)\n",
    "at = a.T\n",
    "for row in range(at.shape[0]):\n",
    "    for col in range(at.shape[1]):\n",
    "        c[row][col] = at[row][col]"
   ]
  },
  {
   "cell_type": "code",
   "execution_count": null,
   "id": "4caaa1df",
   "metadata": {},
   "outputs": [],
   "source": [
    "at"
   ]
  },
  {
   "cell_type": "code",
   "execution_count": null,
   "id": "bc2e5522",
   "metadata": {},
   "outputs": [],
   "source": [
    "c"
   ]
  },
  {
   "cell_type": "code",
   "execution_count": null,
   "id": "ca096192",
   "metadata": {},
   "outputs": [],
   "source": [
    "a_buf = cl.Buffer(ctx, mf.READ_WRITE | mf.COPY_HOST_PTR, hostbuf=c.astype(np.float32))\n",
    "b_buf = cl.Buffer(ctx, mf.READ_WRITE | mf.COPY_HOST_PTR, hostbuf=b)\n",
    "\n",
    "prg = cl.Program(ctx, \"\"\"\n",
    "    // multilplies x TRANSPOSED by y (dense-dense)\n",
    "    __kernel void matmul0(__global  float* x,     // INPUT MATRIX DATA\n",
    "                          __global  float* y,    // INPUT\n",
    "                          __global  float* res,    // INPUT\n",
    "                          uint msize,\n",
    "                          uint isize\n",
    "                          ) { // LOCAL SHARED BUFFER\n",
    "      uint osize = get_global_size(0);\n",
    "      int gidy = get_global_id(0); // row\n",
    "      \n",
    "      for (uint gidx = 0; gidx < isize; gidx++) {\n",
    "        float ret = 0.0;\n",
    "        for (uint i = 0; i < msize; i++) {\n",
    "          uint xidx = i*isize+gidx;\n",
    "          float xval = x[xidx];\n",
    "          uint yidx = osize*i+gidy;\n",
    "          float yval = y[yidx];\n",
    "          ret += xval*yval;\n",
    "          if (gidx==0 && gidy==0)\n",
    "            printf(\"\\\\nmult: %.2f x %.2f - %.2f  -- %i/%i\", xval, yval, ret, xidx, yidx);\n",
    "        }\n",
    "        //if (gidx==0&&gidy==0)\n",
    "        //  printf(\"\\\\nsum:%.2f\", ret);\n",
    "        res[gidx * osize + gidy] = ret;\n",
    "      }\n",
    "    }\"\"\").build()"
   ]
  },
  {
   "cell_type": "code",
   "execution_count": null,
   "id": "6bcc4256",
   "metadata": {},
   "outputs": [],
   "source": [
    "a.shape, b.T.shape"
   ]
  },
  {
   "cell_type": "code",
   "execution_count": null,
   "id": "81be729b",
   "metadata": {},
   "outputs": [],
   "source": [
    "rows = a.shape[0]"
   ]
  },
  {
   "cell_type": "code",
   "execution_count": null,
   "id": "e17d0d40",
   "metadata": {},
   "outputs": [],
   "source": [
    "mult = mult.astype(np.float32)"
   ]
  },
  {
   "cell_type": "code",
   "execution_count": null,
   "id": "5d469907",
   "metadata": {},
   "outputs": [],
   "source": [
    "res_buf = cl.Buffer(ctx, mf.READ_WRITE, np.prod([rows,b.shape[1]])*4)\n",
    "knl = prg.matmul0  # Use this Kernel object for repeated calls\n",
    "knl(queue, [b.shape[1]], None, a_buf, b_buf, res_buf, np.uint32(a.shape[1]), np.uint32(rows))\n",
    "\n",
    "res_np = np.zeros([rows,b.shape[1]]).astype(np.float32)\n",
    "cl.enqueue_copy(queue, res_np, res_buf)"
   ]
  },
  {
   "cell_type": "code",
   "execution_count": null,
   "id": "c7ca806a",
   "metadata": {},
   "outputs": [],
   "source": [
    "(res_np-mult).sum()"
   ]
  },
  {
   "cell_type": "code",
   "execution_count": null,
   "id": "067cf8fc",
   "metadata": {},
   "outputs": [],
   "source": [
    "a"
   ]
  },
  {
   "cell_type": "code",
   "execution_count": null,
   "id": "0fd446e8",
   "metadata": {},
   "outputs": [],
   "source": [
    "b"
   ]
  },
  {
   "cell_type": "code",
   "execution_count": null,
   "id": "334f65af",
   "metadata": {},
   "outputs": [],
   "source": [
    "res_np"
   ]
  },
  {
   "cell_type": "code",
   "execution_count": null,
   "id": "c588082c",
   "metadata": {},
   "outputs": [],
   "source": [
    "a.dot(b)"
   ]
  },
  {
   "cell_type": "code",
   "execution_count": null,
   "id": "e6187e1f",
   "metadata": {},
   "outputs": [],
   "source": [
    "res_np==mult"
   ]
  },
  {
   "cell_type": "code",
   "execution_count": null,
   "id": "eb36e476",
   "metadata": {},
   "outputs": [],
   "source": [
    "res_np.shape"
   ]
  },
  {
   "cell_type": "code",
   "execution_count": null,
   "id": "7e406268",
   "metadata": {},
   "outputs": [],
   "source": [
    "mult.shape"
   ]
  },
  {
   "cell_type": "markdown",
   "id": "59835b7e",
   "metadata": {},
   "source": [
    "# Matmult Dense Transposed2"
   ]
  },
  {
   "cell_type": "code",
   "execution_count": null,
   "id": "4a6954ad",
   "metadata": {},
   "outputs": [],
   "source": [
    "b_buf2 = cl.Buffer(ctx, mf.READ_WRITE | mf.COPY_HOST_PTR, hostbuf=b)\n",
    "a_buf = cl.Buffer(ctx, mf.READ_WRITE | mf.COPY_HOST_PTR, hostbuf=a)\n",
    "\n",
    "prg = cl.Program(ctx, \"\"\"\n",
    "    // multilplies x by y WITH Y TRANSPOSED INDEXING\n",
    "    __kernel void matmul0(__global  float* x,     // INPUT MATRIX DATA\n",
    "                          __global  float* y,    // INPUT\n",
    "                          __global  float* res,    // INPUT\n",
    "                          uint msize,\n",
    "                          uint osize\n",
    "                          ) { // LOCAL SHARED BUFFER\n",
    "      uint isize = get_global_size(0);\n",
    "      // osize = get_global_size(1);\n",
    "      int gidx = get_global_id(0); // col\n",
    "      // int gidy = get_global_id(1); // row\n",
    "\n",
    "      for (uint gidy = 0; gidy < osize; gidy++) {\n",
    "        float ret = 0.0;\n",
    "        for (uint i = 0; i < msize; i++) {\n",
    "          ret += x[gidx*msize+i]*y[i*osize+gidy];\n",
    "          if (gidx==0 && gidy==0)\n",
    "            printf(\"\\\\nmult: %.2f x %.2f - %.2f\", x[gidx*msize+i],y[i*msize+gidy], ret);\n",
    "        }\n",
    "\n",
    "        //if (gidx==0&&gidy==0)\n",
    "        //  printf(\"\\\\nsum:%.2f\", ret);\n",
    "        res[gidx * osize + gidy] = ret;\n",
    "      }\n",
    "    }\"\"\").build()"
   ]
  },
  {
   "cell_type": "code",
   "execution_count": null,
   "id": "c8a9728b",
   "metadata": {},
   "outputs": [],
   "source": [
    "a.shape, b.shape"
   ]
  },
  {
   "cell_type": "code",
   "execution_count": null,
   "id": "af31f5a8",
   "metadata": {},
   "outputs": [],
   "source": [
    "res = np.zeros(a.shape[0]).astype(np.float32)\n",
    "#res"
   ]
  },
  {
   "cell_type": "code",
   "execution_count": null,
   "id": "bfe05099",
   "metadata": {},
   "outputs": [],
   "source": [
    "rows = a.shape[0]"
   ]
  },
  {
   "cell_type": "code",
   "execution_count": null,
   "id": "f468303a",
   "metadata": {},
   "outputs": [],
   "source": [
    "mult = mult.astype(np.float32)"
   ]
  },
  {
   "cell_type": "code",
   "execution_count": null,
   "id": "3be17413",
   "metadata": {},
   "outputs": [],
   "source": [
    "res_buf = cl.Buffer(ctx, mf.READ_WRITE, np.prod([rows,b.shape[1]])*4)\n",
    "knl = prg.matmul0  # Use this Kernel object for repeated calls\n",
    "knl(queue, [rows], None, a_buf, b_buf2, res_buf, np.uint32(a.shape[1]), np.uint32(b.shape[1]))\n",
    "\n",
    "res_np = np.zeros([rows,b.shape[1]]).astype(np.float32)\n",
    "cl.enqueue_copy(queue, res_np, res_buf)"
   ]
  },
  {
   "cell_type": "code",
   "execution_count": null,
   "id": "49f1bc06",
   "metadata": {},
   "outputs": [],
   "source": [
    "(res_np-mult).sum()"
   ]
  },
  {
   "cell_type": "code",
   "execution_count": null,
   "id": "b721089a",
   "metadata": {},
   "outputs": [],
   "source": [
    "a"
   ]
  },
  {
   "cell_type": "code",
   "execution_count": null,
   "id": "a03001f2",
   "metadata": {},
   "outputs": [],
   "source": [
    "b.T"
   ]
  },
  {
   "cell_type": "code",
   "execution_count": null,
   "id": "7b5dd59e",
   "metadata": {},
   "outputs": [],
   "source": [
    "a[0]"
   ]
  },
  {
   "cell_type": "code",
   "execution_count": null,
   "id": "d8c0f986",
   "metadata": {},
   "outputs": [],
   "source": [
    "b.T[0]"
   ]
  },
  {
   "cell_type": "code",
   "execution_count": null,
   "id": "94c47d91",
   "metadata": {},
   "outputs": [],
   "source": [
    "res_buf"
   ]
  },
  {
   "cell_type": "code",
   "execution_count": null,
   "id": "8776a0a7",
   "metadata": {},
   "outputs": [],
   "source": [
    "res_np"
   ]
  },
  {
   "cell_type": "code",
   "execution_count": null,
   "id": "46dca274",
   "metadata": {},
   "outputs": [],
   "source": [
    "a.dot(b)"
   ]
  },
  {
   "cell_type": "code",
   "execution_count": null,
   "id": "4641cdcc",
   "metadata": {},
   "outputs": [],
   "source": [
    "res_np==mult"
   ]
  },
  {
   "cell_type": "code",
   "execution_count": null,
   "id": "5b55f104",
   "metadata": {},
   "outputs": [],
   "source": [
    "res_np.shape"
   ]
  },
  {
   "cell_type": "code",
   "execution_count": null,
   "id": "84122d03",
   "metadata": {},
   "outputs": [],
   "source": [
    "mult.shape"
   ]
  },
  {
   "cell_type": "markdown",
   "id": "b3ad7225",
   "metadata": {},
   "source": [
    "## Weight update kernel"
   ]
  },
  {
   "cell_type": "code",
   "execution_count": null,
   "id": "a5138cee",
   "metadata": {},
   "outputs": [],
   "source": [
    "bs = 4"
   ]
  },
  {
   "cell_type": "code",
   "execution_count": null,
   "id": "ae5eb8aa",
   "metadata": {},
   "outputs": [],
   "source": [
    "a"
   ]
  },
  {
   "cell_type": "code",
   "execution_count": null,
   "id": "76e44e2d",
   "metadata": {},
   "outputs": [],
   "source": [
    "dim = 8\n",
    "\n",
    "x = np.random.rand(bs,dim).astype(np.float32)\n",
    "y = np.random.rand(bs,dim).astype(np.float32)\n",
    "x.shape,y.shape, topk"
   ]
  },
  {
   "cell_type": "markdown",
   "id": "de5e3e5e",
   "metadata": {},
   "source": [
    "x_buf = cl.Buffer(ctx, mf.READ_ONLY | mf.COPY_HOST_PTR, hostbuf=x)\n",
    "y_buf = cl.Buffer(ctx, mf.READ_ONLY | mf.COPY_HOST_PTR, hostbuf=y)\n",
    "x_cp_buf = cl.Buffer(ctx, mf.WRITE_ONLY, bs*topk*topk*4)\n",
    "x_idx_buf = cl.Buffer(ctx, mf.WRITE_ONLY, bs*topk*4)\n",
    "y_idx_buf = cl.Buffer(ctx, mf.WRITE_ONLY, bs*topk*4)\n",
    "\n",
    "prg = cl.Program(ctx, \"\"\"\n",
    "    // sorts x and y in ascending order and returns sorted indices\n",
    "    __kernel void genwupdate2(__global  float* x,     // INPUT MATRIX DATA\n",
    "                             __global  float* y,    // INPUT\n",
    "                             __global  float* xout,    // INPUT\n",
    "                             uint topk,\n",
    "                             __global  uint* xoutidx,    // INPUT\n",
    "                             __global  uint* youtidx    // INPUT\n",
    "                            ) { // LOCAL SHARED BUFFER\n",
    "      uint gid = get_global_id(0);\n",
    "      uint n = get_global_size(0);\n",
    "      uint bs = get_global_size(1);\n",
    "      uint gid2 = get_global_id(1);\n",
    "\n",
    "      uint idx = n*gid2+gid;\n",
    "\n",
    "      float valx = x[idx];\n",
    "      float valy = y[idx];\n",
    "      uint posx = 0;\n",
    "      uint posy = 0;\n",
    "      for (uint i = 0; i < n; i++) {\n",
    "        uint idx2 = n*gid2+i;\n",
    "        float tempval = x[idx2];\n",
    "        float tempval2 = y[idx2];\n",
    "        bool larger = tempval > valx;\n",
    "        bool larger2 = tempval2 > valy;\n",
    "\n",
    "        barrier(CLK_GLOBAL_MEM_FENCE);\n",
    "        posx += (larger)?1:0;\n",
    "        posy += (larger2)?1:0;\n",
    "        barrier(CLK_GLOBAL_MEM_FENCE);\n",
    "      }\n",
    "      barrier(CLK_GLOBAL_MEM_FENCE);\n",
    "      //printf(\"posx:%i\", posx);\n",
    "      if (posx < topk) {\n",
    "        xoutidx[posx+topk*gid2] = gid;\n",
    "      }\n",
    "      if (posy < topk) {\n",
    "        youtidx[posy+topk*gid2] = gid;\n",
    "      }\n",
    "      barrier(CLK_GLOBAL_MEM_FENCE);\n",
    "      if (gid < topk) {\n",
    "        for (uint j=0; j<topk; j++) {\n",
    "          float res = x[xoutidx[gid+topk*gid2]+gid2*n] * y[youtidx[j+topk*gid2]+gid2*n];\n",
    "          //printf(\"\\\\nJ:%i  gid:%i\", j, gid);\n",
    "          //printf(\"\\\\nRES:%.2f - %i - %i -  %.2f - %.2f\",res, xoutidx[gid+topk*gid2], youtidx[j+topk*gid2], x[xoutidx[gid+topk*gid2]+gid2*n], y[youtidx[j+topk*gid2]+gid2*n]);\n",
    "          barrier(CLK_GLOBAL_MEM_FENCE);\n",
    "          xout[gid2*topk*topk+j*topk+gid] = res;\n",
    "          barrier(CLK_GLOBAL_MEM_FENCE);\n",
    "          \n",
    "        }\n",
    "      }\n",
    "      barrier(CLK_GLOBAL_MEM_FENCE);\n",
    "    }\"\"\").build()"
   ]
  },
  {
   "cell_type": "code",
   "execution_count": null,
   "id": "88864470",
   "metadata": {},
   "outputs": [],
   "source": [
    "x_buf = cl.Buffer(ctx, mf.READ_ONLY | mf.COPY_HOST_PTR, hostbuf=x)\n",
    "y_buf = cl.Buffer(ctx, mf.READ_ONLY | mf.COPY_HOST_PTR, hostbuf=y)\n",
    "x_cp_buf = cl.Buffer(ctx, mf.WRITE_ONLY, bs*topk*topk*4)\n",
    "x_idx_buf = cl.Buffer(ctx, mf.WRITE_ONLY, bs*topk*4)\n",
    "y_idx_buf = cl.Buffer(ctx, mf.WRITE_ONLY, bs*topk*4)\n",
    "#x_cp_buft = cl.Buffer(ctx, mf.WRITE_ONLY, bs*topk*topk*4)\n",
    "#x_idx_buft = cl.Buffer(ctx, mf.WRITE_ONLY, bs*topk*4)\n",
    "#y_idx_buft = cl.Buffer(ctx, mf.WRITE_ONLY, bs*topk*4)\n",
    "\n",
    "prg = cl.Program(ctx, \"\"\"\n",
    "    // sorts x and y in ascending order and returns sorted indices\n",
    "    __kernel void genwupdate2(__global  float* x,     // INPUT MATRIX DATA\n",
    "                             __global  float* y,    // INPUT\n",
    "                             __global  float* xout,    // INPUT\n",
    "                             uint topk,\n",
    "                             uint bs,\n",
    "                             __global  uint* xoutidx,    // INPUT\n",
    "                             __global  uint* youtidx    // INPUT\n",
    "                            ) { // LOCAL SHARED BUFFER\n",
    "      uint gid = get_global_id(0);\n",
    "      uint n = get_global_size(0);\n",
    "      //uint bs = get_global_size(1);\n",
    "      //uint gid2 = get_global_id(1);\n",
    "\n",
    "      for (uint gid2=0; gid2<bs; gid2++){\n",
    "        uint idx = n*gid2+gid;\n",
    "\n",
    "        float valx = x[idx];\n",
    "        float valy = y[idx];\n",
    "        uint posx = 0;\n",
    "        uint posy = 0;\n",
    "        for (uint i = 0; i < n; i++) {\n",
    "          uint idx2 = n*gid2+i;\n",
    "          float tempval = x[idx2];\n",
    "          float tempval2 = y[idx2];\n",
    "          bool larger = tempval > valx;\n",
    "          bool larger2 = tempval2 > valy;\n",
    "\n",
    "          posx += (larger)?1:0;\n",
    "          posy += (larger2)?1:0;\n",
    "        }\n",
    "        //printf(\"posx:%i\", posx);\n",
    "        if (posx < topk) {\n",
    "        xoutidx[posx+topk*gid2] = gid;\n",
    "        }\n",
    "        if (posy < topk) {\n",
    "          youtidx[posy+topk*gid2] = gid;\n",
    "        }\n",
    "      }\n",
    "      for (uint gid2=0; gid2<bs; gid2++){\n",
    "        if (gid < topk) {\n",
    "          for (uint j=0; j<topk; j++) {\n",
    "            float res = x[xoutidx[gid+topk*gid2]+gid2*n] * y[youtidx[j+topk*gid2]+gid2*n];\n",
    "            //printf(\"\\\\nJ:%i  gid:%i\", j, gid);\n",
    "            //printf(\"\\\\nRES:%.2f - %i - %i -  %.2f - %.2f\",res, xoutidx[gid+topk*gid2], youtidx[j+topk*gid2], x[xoutidx[gid+topk*gid2]+gid2*n], y[youtidx[j+topk*gid2]+gid2*n]);\n",
    "            //barrier(CLK_GLOBAL_MEM_FENCE);\n",
    "            xout[gid2*topk*topk+j*topk+gid] = res;\n",
    "          }\n",
    "        }\n",
    "      }\n",
    "    }\"\"\").build()"
   ]
  },
  {
   "cell_type": "code",
   "execution_count": null,
   "id": "94682965",
   "metadata": {},
   "outputs": [],
   "source": [
    "knl = prg.genwupdate2  # Use this Kernel object for repeated calls\n",
    "evt = knl(queue, [dim], None, x_buf, y_buf, x_cp_buf, np.uint32(topk), np.uint32(bs), x_idx_buf, y_idx_buf)\n",
    "\n",
    "#evt.wait()\n",
    "resx = np.zeros(bs*topk*topk).astype(np.float32)\n",
    "resxidx = np.zeros(bs*topk).astype(np.uint32)\n",
    "resyidx = np.zeros(bs*topk).astype(np.uint32)\n",
    "\n",
    "cl.enqueue_copy(queue, resx, x_cp_buf)\n",
    "cl.enqueue_copy(queue, resxidx, x_idx_buf)\n",
    "cl.enqueue_copy(queue, resyidx, y_idx_buf)"
   ]
  },
  {
   "cell_type": "markdown",
   "id": "771508c3",
   "metadata": {},
   "source": [
    "knl(queue, [dim], None, y_buf, x_buf, x_cp_buft, np.uint32(topk), np.uint32(bs), x_idx_buft, y_idx_buft)\n",
    "\n",
    "#evt.wait()\n",
    "resx = np.zeros(bs*topk*topk).astype(np.float32)\n",
    "resxidx = np.zeros(bs*topk).astype(np.uint32)\n",
    "resyidx = np.zeros(bs*topk).astype(np.uint32)\n",
    "\n",
    "cl.enqueue_copy(queue, resx, x_cp_buf)\n",
    "cl.enqueue_copy(queue, resxidx, x_idx_buf)\n",
    "cl.enqueue_copy(queue, resyidx, y_idx_buf)"
   ]
  },
  {
   "cell_type": "code",
   "execution_count": null,
   "id": "88725ae2",
   "metadata": {},
   "outputs": [],
   "source": [
    "x"
   ]
  },
  {
   "cell_type": "code",
   "execution_count": null,
   "id": "4c150d0f",
   "metadata": {},
   "outputs": [],
   "source": [
    "y"
   ]
  },
  {
   "cell_type": "code",
   "execution_count": null,
   "id": "990b8af7",
   "metadata": {},
   "outputs": [],
   "source": [
    "x.shape, y.shape"
   ]
  },
  {
   "cell_type": "code",
   "execution_count": null,
   "id": "1c18b7bb",
   "metadata": {},
   "outputs": [],
   "source": [
    "resx"
   ]
  },
  {
   "cell_type": "code",
   "execution_count": null,
   "id": "58d4154c",
   "metadata": {},
   "outputs": [],
   "source": [
    "resx.reshape(bs,topk,topk)"
   ]
  },
  {
   "cell_type": "code",
   "execution_count": null,
   "id": "5cca2876",
   "metadata": {},
   "outputs": [],
   "source": [
    "resxidx"
   ]
  },
  {
   "cell_type": "code",
   "execution_count": null,
   "id": "80deeac2",
   "metadata": {},
   "outputs": [],
   "source": [
    "resyidx"
   ]
  },
  {
   "cell_type": "code",
   "execution_count": null,
   "id": "3020c7d7",
   "metadata": {},
   "outputs": [],
   "source": [
    "idx = 1\n",
    "xy0 = x[idx].reshape(dim,1)*y[idx]\n",
    "xy0.shape"
   ]
  },
  {
   "cell_type": "code",
   "execution_count": null,
   "id": "fc865ccb",
   "metadata": {},
   "outputs": [],
   "source": [
    "xy0[3][7]"
   ]
  },
  {
   "cell_type": "markdown",
   "id": "1b1742a3",
   "metadata": {},
   "source": [
    "## Weight update kernel new"
   ]
  },
  {
   "cell_type": "code",
   "execution_count": null,
   "id": "9f4bce2c",
   "metadata": {},
   "outputs": [],
   "source": [
    "b"
   ]
  },
  {
   "cell_type": "code",
   "execution_count": null,
   "id": "48d63640",
   "metadata": {},
   "outputs": [],
   "source": [
    "c=np.zeros(a.T.shape)\n",
    "at = a.T\n",
    "for row in range(at.shape[0]):\n",
    "    for col in range(at.shape[1]):\n",
    "        c[row][col] = at[row][col]"
   ]
  },
  {
   "cell_type": "code",
   "execution_count": null,
   "id": "e9fc7351",
   "metadata": {},
   "outputs": [],
   "source": [
    "at"
   ]
  },
  {
   "cell_type": "code",
   "execution_count": null,
   "id": "4ab3d6d9",
   "metadata": {},
   "outputs": [],
   "source": [
    "c"
   ]
  },
  {
   "cell_type": "markdown",
   "id": "f20ac323",
   "metadata": {},
   "source": [
    "a_buf = cl.Buffer(ctx, mf.READ_WRITE | mf.COPY_HOST_PTR, hostbuf=c.astype(np.float32))\n",
    "b_buf = cl.Buffer(ctx, mf.READ_WRITE | mf.COPY_HOST_PTR, hostbuf=b)\n",
    "x_cp_buf = cl.Buffer(ctx, mf.WRITE_ONLY, topk*topk*4)\n",
    "x_idx_buf = cl.Buffer(ctx, mf.WRITE_ONLY, topk*4)\n",
    "y_idx_buf = cl.Buffer(ctx, mf.WRITE_ONLY, topk*4)\n",
    "\n",
    "prg = cl.Program(ctx, \"\"\"\n",
    "    // sorts x and y in ascending order and returns sorted indices\n",
    "    __kernel void genwupdate3(__global  float* x,     // INPUT MATRIX DATA\n",
    "                             __global  float* y,    // INPUT\n",
    "                             uint topk,\n",
    "                             uint msize,\n",
    "                             __global  float* xout,    // INPUT\n",
    "                             __global  uint* xoutidx,    // INPUT\n",
    "                             __global  uint* youtidx    // INPUT\n",
    "                            ) { // LOCAL SHARED BUFFER\n",
    "      uint gid = get_global_id(0);\n",
    "      uint n = get_global_size(0);\n",
    "      uint bs = get_global_size(1);\n",
    "      uint gid2 = get_global_id(1);\n",
    "\n",
    "\n",
    "\n",
    "      uint idx = n*gid2+gid;\n",
    "      float valx = x[idx];\n",
    "      uint posx = 0;\n",
    "      for (uint i = 0; i < n; i++) {\n",
    "        uint idx2 = n*gid2+i;\n",
    "        float tempval = x[idx2];\n",
    "        bool larger = tempval > valx;\n",
    "        posx += (larger)?1:0;\n",
    "      }\n",
    "      \n",
    "      uint idxy = n*gid2+gid;\n",
    "      float valy = y[idx];\n",
    "      uint posy = 0;\n",
    "      for (uint i = 0; i < n; i++) {\n",
    "        uint idx2 = n*gid2+i;\n",
    "        float tempval2 = y[idx2];\n",
    "        bool larger2 = tempval2 > valy;\n",
    "        posy += (larger2)?1:0;\n",
    "      }\n",
    "      \n",
    "      if (posx < topk) {\n",
    "        xoutidx[posx+topk*gid2] = idx;\n",
    "      }\n",
    "      if (posy < topk) {\n",
    "        youtidx[posy+topk*gid2] = idxy;\n",
    "      }\n",
    "      return;\n",
    "      if (gid < topk) {\n",
    "        for (uint j=0; j<topk; j++) {\n",
    "          float res = x[xoutidx[gid+topk*gid2]+gid2*msize] * y[youtidx[j+topk*gid2]+gid2*msize];\n",
    "          printf(\"\\\\nJ:%i  gid:(%i,%i)\", j, gid, gid2);\n",
    "          printf(\"\\\\nRES:%.2f - %i - %i -  %.2f - %.2f\",res, xoutidx[gid+topk*gid2], youtidx[j+topk*gid2], x[xoutidx[gid+topk*gid2]+gid2*n], y[youtidx[j+topk*gid2]+gid2*n]);\n",
    "          //barrier(CLK_GLOBAL_MEM_FENCE);\n",
    "          xout[gid2*topk*topk+j*topk+gid] = res;\n",
    "        }\n",
    "      }\n",
    "    }\"\"\").build()"
   ]
  },
  {
   "cell_type": "code",
   "execution_count": null,
   "id": "3eb221f6",
   "metadata": {},
   "outputs": [],
   "source": [
    "a_buf = cl.Buffer(ctx, mf.READ_WRITE | mf.COPY_HOST_PTR, hostbuf=c.astype(np.float32))\n",
    "b_buf = cl.Buffer(ctx, mf.READ_WRITE | mf.COPY_HOST_PTR, hostbuf=b)\n",
    "x_sum_buf = cl.Buffer(ctx, mf.WRITE_ONLY, a.shape[0]*4)\n",
    "y_sum_buf = cl.Buffer(ctx, mf.WRITE_ONLY, b.shape[1]*4)\n",
    "x_cp_buf = cl.Buffer(ctx, mf.WRITE_ONLY, topk*topk*4)\n",
    "x_idx_buf = cl.Buffer(ctx, mf.WRITE_ONLY, topk*4)\n",
    "y_idx_buf = cl.Buffer(ctx, mf.WRITE_ONLY, topk*4)\n",
    "\n",
    "prg = cl.Program(ctx, \"\"\"\n",
    "    // sorts x and y in ascending order and returns sorted indices\n",
    "    __kernel void genwupdate3(__global  float* x,     // INPUT MATRIX DATA\n",
    "                              __global  float* y,    // INPUT\n",
    "                              __global  float* xsum,    // INPUT\n",
    "                              __global  float* ysum,    // INPUT\n",
    "                              uint isize,\n",
    "                              uint msize,\n",
    "                              uint osize,\n",
    "                              uint topk,\n",
    "                              __global  float* xout,\n",
    "                              __global  uint* xoutidx,   \n",
    "                              __global  uint* youtidx    \n",
    "                              ) { \n",
    "      uint gid = get_global_id(0);\n",
    "      \n",
    "      // get for a: sum axis0  b: sum axis1 then get topk\n",
    "      ///////////////////////////////////////////////////\n",
    "      if (gid < isize) {\n",
    "        xsum[gid] = 0;\n",
    "        for (uint i=0; i<msize; i++) {\n",
    "          float val = x[i*isize+gid];\n",
    "          //if (gid == 0) {\n",
    "          //  printf(\"\\\\nADD VALx: %.2f - %i\", val, i*msize+gid);\n",
    "          //}\n",
    "          xsum[gid] += val;\n",
    "        }\n",
    "        \n",
    "        float valx = xsum[gid];\n",
    "        uint posx = 0;\n",
    "        for (uint i = 0; i < isize; i++) {\n",
    "          float tempval = xsum[i];\n",
    "          bool larger = tempval > valx;\n",
    "          posx += (larger)?1:0;\n",
    "        }\n",
    "        if (posx < topk) {\n",
    "          xoutidx[posx] = gid;\n",
    "        }\n",
    "      }\n",
    "      \n",
    "      if (gid < osize) {\n",
    "        ysum[gid] = 0;\n",
    "        for (uint i=0; i<msize; i++) {\n",
    "          float val = y[i*osize+gid];\n",
    "          //if (gid == 0) {\n",
    "          //  printf(\"\\\\nADD VALx: %.2f - %i\", val, gid*osize+i);\n",
    "          //}\n",
    "          ysum[gid] += val;\n",
    "        }\n",
    "        \n",
    "        float valy = ysum[gid];\n",
    "        uint posy = 0;\n",
    "        for (uint i = 0; i < osize; i++) {\n",
    "          float tempval = ysum[i];\n",
    "          bool larger = tempval > valy;\n",
    "          posy += (larger)?1:0;\n",
    "        }\n",
    "      \n",
    "        if (posy < topk) {\n",
    "          youtidx[posy] = gid;\n",
    "        }\n",
    "      }\n",
    "      \n",
    "      if (gid < topk) {\n",
    "        float valx = xoutidx[gid];\n",
    "        uint posx = 0;\n",
    "        for (uint i = 0; i < topk; i++) {\n",
    "          float tempval = xoutidx[i];\n",
    "          bool larger = tempval < valx;\n",
    "          posx += (larger)?1:0;\n",
    "        }\n",
    "        xoutidx[posx] = valx;\n",
    "        \n",
    "        float valy = youtidx[gid];\n",
    "        uint posy = 0;\n",
    "        for (uint i = 0; i < topk; i++) {\n",
    "          float tempval = youtidx[i];\n",
    "          bool larger = tempval < valy;\n",
    "          posy += (larger)?1:0;\n",
    "        }\n",
    "        youtidx[posy] = valy;\n",
    "      }\n",
    "      \n",
    "      // only calc matrix multiplications for used grads\n",
    "      ///////////////////////////////////////////////////\n",
    "      if (gid < topk) {\n",
    "        uint idxx = xoutidx[gid];\n",
    "        for (uint j=0; j<topk; j++) {\n",
    "          uint idxy = youtidx[j];\n",
    "          xout[j*topk+gid] = 0;\n",
    "          for (uint k=0; k<msize; k++) {\n",
    "            uint xidx2 = isize*k+idxx;\n",
    "            uint yidx2 = osize*k+idxy;\n",
    "            xout[j*topk+gid] += x[xidx2] * y[yidx2];\n",
    "            //if (gid == 0 && j == 1)\n",
    "            //  printf(\"\\\\n ADD VAL:%.2f,%.2f - (%i,%i) - (%i,%i,%i)\", x[xidx2], y[yidx2], idxx, idxy, gid, j, k);\n",
    "          }\n",
    "        }\n",
    "      }\n",
    "    }\"\"\").build()"
   ]
  },
  {
   "cell_type": "code",
   "execution_count": null,
   "id": "5e0667f0",
   "metadata": {},
   "outputs": [],
   "source": [
    "a.shape, b.shape"
   ]
  },
  {
   "cell_type": "code",
   "execution_count": null,
   "id": "75e3ecd7",
   "metadata": {},
   "outputs": [],
   "source": [
    "rows = a.shape[0]\n",
    "msize = a.shape[1]"
   ]
  },
  {
   "cell_type": "code",
   "execution_count": null,
   "id": "67fede53",
   "metadata": {},
   "outputs": [],
   "source": [
    "cols = b.shape[1]"
   ]
  },
  {
   "cell_type": "code",
   "execution_count": null,
   "id": "68f4e2f7",
   "metadata": {},
   "outputs": [],
   "source": [
    "mult = a.dot(b)"
   ]
  },
  {
   "cell_type": "code",
   "execution_count": null,
   "id": "bbcc1bea",
   "metadata": {},
   "outputs": [],
   "source": [
    "mult = mult.astype(np.float32)"
   ]
  },
  {
   "cell_type": "code",
   "execution_count": null,
   "id": "58a7c0c8",
   "metadata": {},
   "outputs": [],
   "source": [
    "res_buf = cl.Buffer(ctx, mf.READ_WRITE, np.prod([rows,b.shape[1]])*4)\n",
    "knl = prg.genwupdate3  # Use this Kernel object for repeated calls\n",
    "evt = knl(queue, [max(rows,cols)], None, a_buf, b_buf, x_sum_buf, y_sum_buf, np.uint32(rows), np.uint32(msize),np.uint32(cols), np.uint32(topk), x_cp_buf, x_idx_buf, y_idx_buf)\n",
    "\n",
    "resxsum = np.zeros(a.shape[0]).astype(np.float32)\n",
    "resysum = np.zeros(b.shape[1]).astype(np.float32)\n",
    "resx = np.zeros(topk*topk).astype(np.float32)\n",
    "resxidx = np.zeros(topk).astype(np.uint32)\n",
    "resyidx = np.zeros(topk).astype(np.uint32)\n",
    "\n",
    "cl.enqueue_copy(queue, resxsum, x_sum_buf)\n",
    "cl.enqueue_copy(queue, resysum, y_sum_buf)\n",
    "cl.enqueue_copy(queue, resx, x_cp_buf)\n",
    "cl.enqueue_copy(queue, resxidx, x_idx_buf)\n",
    "cl.enqueue_copy(queue, resyidx, y_idx_buf)"
   ]
  },
  {
   "cell_type": "code",
   "execution_count": null,
   "id": "5dab05c7",
   "metadata": {},
   "outputs": [],
   "source": [
    "resx.reshape(topk,topk)"
   ]
  },
  {
   "cell_type": "code",
   "execution_count": null,
   "id": "5e267f71",
   "metadata": {},
   "outputs": [],
   "source": [
    "resxsum"
   ]
  },
  {
   "cell_type": "code",
   "execution_count": null,
   "id": "e374bd1f",
   "metadata": {},
   "outputs": [],
   "source": [
    "resysum"
   ]
  },
  {
   "cell_type": "code",
   "execution_count": null,
   "id": "b254f74f",
   "metadata": {},
   "outputs": [],
   "source": [
    "a.sum(axis=1)"
   ]
  },
  {
   "cell_type": "code",
   "execution_count": null,
   "id": "e264d60f",
   "metadata": {},
   "outputs": [],
   "source": [
    "b.sum(axis=0)"
   ]
  },
  {
   "cell_type": "code",
   "execution_count": null,
   "id": "529cc660",
   "metadata": {},
   "outputs": [],
   "source": [
    "mult"
   ]
  },
  {
   "cell_type": "code",
   "execution_count": null,
   "id": "ee933d58",
   "metadata": {},
   "outputs": [],
   "source": [
    "resxidx"
   ]
  },
  {
   "cell_type": "code",
   "execution_count": null,
   "id": "23535acb",
   "metadata": {},
   "outputs": [],
   "source": [
    "resyidx"
   ]
  },
  {
   "cell_type": "code",
   "execution_count": null,
   "id": "475e967a",
   "metadata": {},
   "outputs": [],
   "source": [
    "idx = 1\n",
    "xy0 = x[idx].reshape(dim,1)*y[idx]\n",
    "xy0.shape"
   ]
  },
  {
   "cell_type": "code",
   "execution_count": null,
   "id": "281c094b",
   "metadata": {},
   "outputs": [],
   "source": [
    "xy0[0][0]"
   ]
  },
  {
   "cell_type": "markdown",
   "id": "510bb101",
   "metadata": {},
   "source": [
    "## Weight update kernel new2 (sparse ouput)"
   ]
  },
  {
   "cell_type": "code",
   "execution_count": 113,
   "id": "9097d4e8",
   "metadata": {},
   "outputs": [],
   "source": [
    "c=np.zeros(a.T.shape)\n",
    "at = a.T\n",
    "for row in range(at.shape[0]):\n",
    "    for col in range(at.shape[1]):\n",
    "        c[row][col] = at[row][col]"
   ]
  },
  {
   "cell_type": "code",
   "execution_count": 549,
   "id": "c6236918",
   "metadata": {},
   "outputs": [],
   "source": [
    "a_buf = cl.Buffer(ctx, mf.READ_WRITE | mf.COPY_HOST_PTR, hostbuf=c.astype(np.float32))\n",
    "b_buf = cl.Buffer(ctx, mf.READ_WRITE | mf.COPY_HOST_PTR, hostbuf=b)\n",
    "x_sum_buf = cl.Buffer(ctx, mf.WRITE_ONLY, a.shape[0]*4)\n",
    "y_sum_buf = cl.Buffer(ctx, mf.WRITE_ONLY, b.shape[1]*4)\n",
    "x_idx_buf = cl.Buffer(ctx, mf.WRITE_ONLY, topkx*4)\n",
    "y_idx_buf = cl.Buffer(ctx, mf.WRITE_ONLY, topky*4)\n",
    "sdata_buf = cl.Buffer(ctx, mf.READ_WRITE, a.shape[0]*topkx*4)\n",
    "sidxs_buf = cl.Buffer(ctx, mf.READ_WRITE, a.shape[0]*topkx*4)\n",
    "snnzs_buf = cl.Buffer(ctx, mf.READ_WRITE, a.shape[0]*4)\n",
    "sdatat_buf = cl.Buffer(ctx, mf.READ_WRITE, b.shape[1]*topky*4)\n",
    "sidxst_buf = cl.Buffer(ctx, mf.READ_WRITE, b.shape[1]*topky*4)\n",
    "snnzst_buf = cl.Buffer(ctx, mf.READ_WRITE, b.shape[1]*4)\n",
    "\n",
    "prg = cl.Program(ctx, \"\"\"\n",
    "    // sorts x and y in ascending order and returns sorted indices\n",
    "    __kernel void genwupdate4(__global  float* x,     // INPUT MATRIX DATA\n",
    "                              __global  float* y,    // INPUT\n",
    "                              __global  float* xsum,    // INPUT\n",
    "                              __global  float* ysum,    // INPUT\n",
    "                              uint isize,\n",
    "                              uint msize,\n",
    "                              uint osize,\n",
    "                              uint topkx,\n",
    "                              uint topky,\n",
    "                              __global  uint*  xoutidx,\n",
    "                              __global  uint*  youtidx,\n",
    "                              __global  float* matData,     // OUTPUT MATRIX DATA\n",
    "                              __global  uint*  colIdx,\n",
    "                              __global  uint*  rowNnz,\n",
    "                              __global  float* matDatat,    // OUTPUT MATRIX DATA\n",
    "                              __global  uint*  colIdxt,\n",
    "                              __global  uint*  rowNnzt\n",
    "                              ) {\n",
    "      uint gid = get_global_id(0);\n",
    "\n",
    "      // get for a: sum axis0  b: sum axis1 then get topk\n",
    "      ///////////////////////////////////////////////////\n",
    "      if (gid < isize) {\n",
    "        xsum[gid] = 0;\n",
    "        for (uint i=0; i<msize; i++) {\n",
    "          float val = x[i*isize+gid];\n",
    "          //if (gid == 0) {\n",
    "          //  printf(\"\\\\nADD VALx: %.2f - %i\", val, i*msize+gid);\n",
    "          //}\n",
    "          xsum[gid] += val;\n",
    "        }\n",
    "\n",
    "        float valx = xsum[gid];\n",
    "        uint posx = 0;\n",
    "        for (uint i = 0; i < isize; i++) {\n",
    "          float tempval = fabs(xsum[i]);\n",
    "          bool larger = tempval > fabs(valx);\n",
    "          posx += (larger)?1:0;\n",
    "        }\n",
    "        if (posx < topky) {\n",
    "          youtidx[posx] = gid;\n",
    "        }\n",
    "      }\n",
    "\n",
    "      if (gid < osize) {\n",
    "        ysum[gid] = 0;\n",
    "        for (uint i=0; i<msize; i++) {\n",
    "          float val = y[i*osize+gid];\n",
    "          //if (gid == 0) {\n",
    "          //  printf(\"\\\\nADD VALx: %.2f - %i\", val, gid*osize+i);\n",
    "          //}\n",
    "          ysum[gid] += val;\n",
    "        }\n",
    "\n",
    "        float valy = ysum[gid];\n",
    "        uint posy = 0;\n",
    "        for (uint i = 0; i < osize; i++) {\n",
    "          float tempval = fabs(ysum[i]);\n",
    "          bool larger = tempval > fabs(valy);\n",
    "          posy += (larger)?1:0;\n",
    "        }\n",
    "\n",
    "        if (posy < topkx) {\n",
    "          xoutidx[posy] = gid;\n",
    "        }\n",
    "      }\n",
    "\n",
    "      if (gid < topkx) {\n",
    "        float valx = xoutidx[gid];\n",
    "        uint posx = 0;\n",
    "        for (uint i = 0; i < topkx; i++) {\n",
    "          float tempval = xoutidx[i];\n",
    "          bool larger = tempval < valx;\n",
    "          posx += (larger)?1:0;\n",
    "        }\n",
    "        xoutidx[posx] = valx;\n",
    "      }\n",
    "\n",
    "      if (gid < topky) {\n",
    "        float valy = youtidx[gid];\n",
    "        uint posy = 0;\n",
    "        for (uint i = 0; i < topky; i++) {\n",
    "          float tempval = youtidx[i];\n",
    "          bool larger = tempval < valy;\n",
    "          posy += (larger)?1:0;\n",
    "        }\n",
    "        youtidx[posy] = valy;\n",
    "      }\n",
    "\n",
    "      // only calc matrix multiplications for used grads\n",
    "      ///////////////////////////////////////////////////\n",
    "      if (gid < isize) {\n",
    "        for (uint i=0; i<topkx; i++) {\n",
    "          matData[gid*topkx+i] = 0;\n",
    "          colIdx[gid*topkx+i] = 0;\n",
    "        }\n",
    "        rowNnz[gid] = 0;\n",
    "      }\n",
    "      if (gid < osize) {\n",
    "        for (uint i=0; i<topky; i++) {\n",
    "          matDatat[gid*topky+i] = 0;\n",
    "          colIdxt[gid*topky+i] = 0;\n",
    "        }\n",
    "        rowNnzt[gid] = 0;\n",
    "      }\n",
    "\n",
    "\n",
    "      if (gid < topkx) {\n",
    "        uint idxx = xoutidx[gid];\n",
    "        for (uint j=0; j<topky; j++) {\n",
    "          uint idxy = youtidx[j];\n",
    "          //printf(\"\\\\nIDXX:%i  IDXY:%i\", idxx, idxy);\n",
    "          for (uint k=0; k<msize; k++) {\n",
    "            uint xidx2 = isize*k+idxy;\n",
    "            uint yidx2 = osize*k+idxx;\n",
    "            uint colidx = idxy;\n",
    "            matDatat[idxx*topky+j] += x[xidx2] * y[yidx2];\n",
    "            colIdxt[idxx*topky+j] = idxy;\n",
    "            if (gid == 0)\n",
    "              printf(\"\\\\n ADD VAL:%.2f,%.2f - (%i,%i) - (%i,%i,%i)\", x[xidx2], y[yidx2], idxx, idxy, gid, j, k);\n",
    "          }\n",
    "          rowNnzt[idxx] += 1;\n",
    "        }\n",
    "      }\n",
    "      if (gid < topky) {\n",
    "        uint idxx = youtidx[gid];\n",
    "        for (uint j=0; j<topkx; j++) {\n",
    "          uint idxy = xoutidx[j];\n",
    "          //printf(\"\\\\nIDXX:%i  IDXY:%i\", idxx, idxy);\n",
    "          for (uint k=0; k<msize; k++) {\n",
    "            uint xidx2 = isize*k+idxx;\n",
    "            uint yidx2 = osize*k+idxy;\n",
    "            uint colidx = idxy;\n",
    "            matData[idxx*topkx+j] += x[xidx2] * y[yidx2];\n",
    "            colIdx[idxx*topkx+j] = idxy;\n",
    "            if (gid == 0)\n",
    "              printf(\"\\\\n ADD VAL:%.2f,%.2f - (%i,%i) - (%i,%i,%i)\", x[xidx2], y[yidx2], idxx, idxy, gid, j, k);\n",
    "          }\n",
    "          rowNnz[idxx] += 1;\n",
    "        }\n",
    "      }\n",
    "    }\"\"\").build()"
   ]
  },
  {
   "cell_type": "code",
   "execution_count": 550,
   "id": "2161871c",
   "metadata": {},
   "outputs": [
    {
     "data": {
      "text/plain": [
       "((4, 6), (6, 3))"
      ]
     },
     "execution_count": 550,
     "metadata": {},
     "output_type": "execute_result"
    }
   ],
   "source": [
    "a.shape, b.shape"
   ]
  },
  {
   "cell_type": "code",
   "execution_count": 551,
   "id": "05f25e30",
   "metadata": {},
   "outputs": [],
   "source": [
    "rows = a.shape[0]\n",
    "msize = a.shape[1]"
   ]
  },
  {
   "cell_type": "code",
   "execution_count": 552,
   "id": "9f83f34b",
   "metadata": {},
   "outputs": [],
   "source": [
    "cols = b.shape[1]"
   ]
  },
  {
   "cell_type": "code",
   "execution_count": 553,
   "id": "95394deb",
   "metadata": {},
   "outputs": [],
   "source": [
    "mult = a.dot(b)"
   ]
  },
  {
   "cell_type": "code",
   "execution_count": 554,
   "id": "8fc22dde",
   "metadata": {},
   "outputs": [],
   "source": [
    "mult = mult.astype(np.float32)"
   ]
  },
  {
   "cell_type": "code",
   "execution_count": 555,
   "id": "b290cb1a",
   "metadata": {},
   "outputs": [
    {
     "name": "stdout",
     "output_type": "stream",
     "text": [
      "\n",
      " ADD VAL:0.00,0.48 - (0,0) - (0,0,0)\n",
      " ADD VAL:0.00,0.00 - (0,0) - (0,0,1)\n",
      " ADD VAL:0.00,0.00 - (0,0) - (0,0,2)\n",
      " ADD VAL:0.50,0.90 - (0,0) - (0,0,3)\n",
      " ADD VAL:0.61,0.00 - (0,0) - (0,0,4)\n",
      " ADD VAL:0.00,0.00 - (0,0) - (0,0,5)\n",
      " ADD VAL:0.00,0.48 - (0,1) - (0,1,0)\n",
      " ADD VAL:0.98,0.00 - (0,1) - (0,1,1)\n",
      " ADD VAL:0.00,0.00 - (0,1) - (0,1,2)\n",
      " ADD VAL:0.93,0.90 - (0,1) - (0,1,3)\n",
      " ADD VAL:0.00,0.00 - (0,1) - (0,1,4)\n",
      " ADD VAL:0.00,0.00 - (0,1) - (0,1,5)\n",
      " ADD VAL:0.17,0.48 - (0,2) - (0,2,0)\n",
      " ADD VAL:0.00,0.00 - (0,2) - (0,2,1)\n",
      " ADD VAL:0.00,0.00 - (0,2) - (0,2,2)\n",
      " ADD VAL:0.00,0.90 - (0,2) - (0,2,3)\n",
      " ADD VAL:0.04,0.00 - (0,2) - (0,2,4)\n",
      " ADD VAL:0.00,0.00 - (0,2) - (0,2,5)\n",
      " ADD VAL:0.00,0.48 - (0,3) - (0,3,0)\n",
      " ADD VAL:0.24,0.00 - (0,3) - (0,3,1)\n",
      " ADD VAL:0.00,0.00 - (0,3) - (0,3,2)\n",
      " ADD VAL:0.00,0.90 - (0,3) - (0,3,3)\n",
      " ADD VAL:0.18,0.00 - (0,3) - (0,3,4)\n",
      " ADD VAL:0.00,0.00 - (0,3) - (0,3,5)\n",
      " ADD VAL:0.00,0.48 - (0,0) - (0,0,0)\n",
      " ADD VAL:0.00,0.00 - (0,0) - (0,0,1)\n",
      " ADD VAL:0.00,0.00 - (0,0) - (0,0,2)\n",
      " ADD VAL:0.50,0.90 - (0,0) - (0,0,3)\n",
      " ADD VAL:0.61,0.00 - (0,0) - (0,0,4)\n",
      " ADD VAL:0.00,0.00 - (0,0) - (0,0,5)\n",
      " ADD VAL:0.00,0.00 - (0,1) - (0,1,0)\n",
      " ADD VAL:0.00,0.80 - (0,1) - (0,1,1)\n",
      " ADD VAL:0.00,0.00 - (0,1) - (0,1,2)\n",
      " ADD VAL:0.50,0.00 - (0,1) - (0,1,3)\n",
      " ADD VAL:0.61,0.44 - (0,1) - (0,1,4)\n",
      " ADD VAL:0.00,0.00 - (0,1) - (0,1,5)\n",
      " ADD VAL:0.00,0.00 - (0,2) - (0,2,0)\n",
      " ADD VAL:0.00,0.00 - (0,2) - (0,2,1)\n",
      " ADD VAL:0.00,0.48 - (0,2) - (0,2,2)\n",
      " ADD VAL:0.50,0.00 - (0,2) - (0,2,3)\n",
      " ADD VAL:0.61,0.00 - (0,2) - (0,2,4)\n",
      " ADD VAL:0.00,0.41 - (0,2) - (0,2,5)"
     ]
    }
   ],
   "source": [
    "res_buf = cl.Buffer(ctx, mf.READ_WRITE, np.prod([rows,b.shape[1]])*4)\n",
    "knl = prg.genwupdate4  # Use this Kernel object for repeated calls\n",
    "evt = knl(queue, [max(rows,cols)], None, a_buf, b_buf, x_sum_buf, y_sum_buf, np.uint32(rows), np.uint32(msize),np.uint32(cols), \n",
    "          np.uint32(topkx),np.uint32(topky), x_idx_buf, y_idx_buf, sdata_buf, sidxs_buf, snnzs_buf, sdatat_buf, sidxst_buf, snnzst_buf)"
   ]
  },
  {
   "cell_type": "code",
   "execution_count": 556,
   "id": "be3450f0",
   "metadata": {},
   "outputs": [
    {
     "data": {
      "text/plain": [
       "<pyopencl._cl.NannyEvent at 0x7f0434341630>"
      ]
     },
     "execution_count": 556,
     "metadata": {},
     "output_type": "execute_result"
    }
   ],
   "source": [
    "resxsum = np.zeros(a.shape[0]).astype(np.float32)\n",
    "resysum = np.zeros(b.shape[1]).astype(np.float32)\n",
    "resxidx = np.zeros(topkx).astype(np.uint32)\n",
    "resyidx = np.zeros(topky).astype(np.uint32)\n",
    "resxdat = np.zeros(a.shape[0]*topkx).astype(np.float32)\n",
    "resxcol = np.zeros(a.shape[0]*topkx).astype(np.uint32)\n",
    "resxnnz = np.zeros(a.shape[0]).astype(np.uint32)\n",
    "resxdatt = np.zeros(b.shape[1]*topky).astype(np.float32)\n",
    "resxcolt = np.zeros(b.shape[1]*topky).astype(np.uint32)\n",
    "resxnnzt = np.zeros(b.shape[1]).astype(np.uint32)\n",
    "\n",
    "cl.enqueue_copy(queue, resxsum, x_sum_buf)\n",
    "cl.enqueue_copy(queue, resysum, y_sum_buf)\n",
    "cl.enqueue_copy(queue, resxidx, x_idx_buf)\n",
    "cl.enqueue_copy(queue, resyidx, y_idx_buf)\n",
    "cl.enqueue_copy(queue, resxdat, sdata_buf)\n",
    "cl.enqueue_copy(queue, resxcol, sidxs_buf)\n",
    "cl.enqueue_copy(queue, resxnnz, snnzs_buf)\n",
    "cl.enqueue_copy(queue, resxdatt, sdatat_buf)\n",
    "cl.enqueue_copy(queue, resxcolt, sidxst_buf)\n",
    "cl.enqueue_copy(queue, resxnnzt, snnzst_buf)"
   ]
  },
  {
   "cell_type": "markdown",
   "id": "dea93e80",
   "metadata": {},
   "source": [
    "## results"
   ]
  },
  {
   "cell_type": "code",
   "execution_count": 557,
   "id": "21279392",
   "metadata": {},
   "outputs": [
    {
     "data": {
      "text/plain": [
       "(3, 4)"
      ]
     },
     "execution_count": 557,
     "metadata": {},
     "output_type": "execute_result"
    }
   ],
   "source": [
    "topkx, topky"
   ]
  },
  {
   "cell_type": "code",
   "execution_count": 558,
   "id": "41b70e60",
   "metadata": {},
   "outputs": [
    {
     "data": {
      "text/plain": [
       "(4, 3)"
      ]
     },
     "execution_count": 558,
     "metadata": {},
     "output_type": "execute_result"
    }
   ],
   "source": [
    "mult.shape"
   ]
  },
  {
   "cell_type": "code",
   "execution_count": 559,
   "id": "50b4656b",
   "metadata": {},
   "outputs": [
    {
     "data": {
      "text/plain": [
       "array([[0.44827458, 0.27114734, 0.        ],\n",
       "       [0.83980095, 0.7841075 , 0.        ],\n",
       "       [0.08242004, 0.01903096, 0.        ],\n",
       "       [0.        , 0.27077594, 0.        ]], dtype=float32)"
      ]
     },
     "execution_count": 559,
     "metadata": {},
     "output_type": "execute_result"
    }
   ],
   "source": [
    "mult"
   ]
  },
  {
   "cell_type": "code",
   "execution_count": 560,
   "id": "0192659c",
   "metadata": {},
   "outputs": [
    {
     "data": {
      "text/plain": [
       "array([[0.44827458, 0.27114734, 0.        ],\n",
       "       [0.83980095, 0.7841075 , 0.        ],\n",
       "       [0.08242004, 0.01903096, 0.        ],\n",
       "       [0.        , 0.27077594, 0.        ]], dtype=float32)"
      ]
     },
     "execution_count": 560,
     "metadata": {},
     "output_type": "execute_result"
    }
   ],
   "source": [
    "resxdat.reshape(a.shape[0],topkx)"
   ]
  },
  {
   "cell_type": "code",
   "execution_count": 561,
   "id": "c654a52b",
   "metadata": {},
   "outputs": [
    {
     "data": {
      "text/plain": [
       "array([[0, 1, 2],\n",
       "       [0, 1, 2],\n",
       "       [0, 1, 2],\n",
       "       [0, 1, 2]], dtype=uint32)"
      ]
     },
     "execution_count": 561,
     "metadata": {},
     "output_type": "execute_result"
    }
   ],
   "source": [
    "resxcol.reshape(a.shape[0],topkx)"
   ]
  },
  {
   "cell_type": "code",
   "execution_count": 562,
   "id": "25673d3c",
   "metadata": {},
   "outputs": [
    {
     "data": {
      "text/plain": [
       "array([3, 3, 3, 3], dtype=uint32)"
      ]
     },
     "execution_count": 562,
     "metadata": {},
     "output_type": "execute_result"
    }
   ],
   "source": [
    "resxnnz.reshape(a.shape[0])"
   ]
  },
  {
   "cell_type": "code",
   "execution_count": 563,
   "id": "7fb50f87",
   "metadata": {},
   "outputs": [
    {
     "data": {
      "text/plain": [
       "array([[0.44827458, 0.83980095, 0.08242004, 0.        ],\n",
       "       [0.27114734, 0.7841075 , 0.01903096, 0.27077594],\n",
       "       [0.        , 0.        , 0.        , 0.        ]], dtype=float32)"
      ]
     },
     "execution_count": 563,
     "metadata": {},
     "output_type": "execute_result"
    }
   ],
   "source": [
    "resxdatt.reshape(b.shape[1],topky)"
   ]
  },
  {
   "cell_type": "code",
   "execution_count": 564,
   "id": "e7f50303",
   "metadata": {},
   "outputs": [
    {
     "data": {
      "text/plain": [
       "array([[0, 1, 2, 3],\n",
       "       [0, 1, 2, 3],\n",
       "       [0, 1, 2, 3]], dtype=uint32)"
      ]
     },
     "execution_count": 564,
     "metadata": {},
     "output_type": "execute_result"
    }
   ],
   "source": [
    "resxcolt.reshape(b.shape[1],topky)"
   ]
  },
  {
   "cell_type": "code",
   "execution_count": 565,
   "id": "8ceb2165",
   "metadata": {},
   "outputs": [
    {
     "data": {
      "text/plain": [
       "array([4, 4, 4], dtype=uint32)"
      ]
     },
     "execution_count": 565,
     "metadata": {},
     "output_type": "execute_result"
    }
   ],
   "source": [
    "resxnnzt.reshape(b.shape[1])"
   ]
  },
  {
   "cell_type": "code",
   "execution_count": 566,
   "id": "13b479f4",
   "metadata": {},
   "outputs": [
    {
     "data": {
      "text/plain": [
       "array([[0.44827458, 0.27114734, 0.        ],\n",
       "       [0.83980095, 0.78410751, 0.        ],\n",
       "       [0.08242004, 0.01903096, 0.        ],\n",
       "       [0.        , 0.27077594, 0.        ]])"
      ]
     },
     "execution_count": 566,
     "metadata": {},
     "output_type": "execute_result"
    }
   ],
   "source": [
    "resdense = to_dense(resxdat, resxcol, resxnnz, topkx, mult.shape)\n",
    "resdense"
   ]
  },
  {
   "cell_type": "code",
   "execution_count": 567,
   "id": "788613c6",
   "metadata": {},
   "outputs": [
    {
     "data": {
      "text/plain": [
       "array([[0.44827458, 0.83980095, 0.08242004, 0.        ],\n",
       "       [0.27114734, 0.78410751, 0.01903096, 0.27077594],\n",
       "       [0.        , 0.        , 0.        , 0.        ]])"
      ]
     },
     "execution_count": 567,
     "metadata": {},
     "output_type": "execute_result"
    }
   ],
   "source": [
    "resdenset = to_dense(resxdatt, resxcolt, resxnnzt, topky, mult.T.shape)\n",
    "resdenset"
   ]
  },
  {
   "cell_type": "code",
   "execution_count": 568,
   "id": "8c873f9e",
   "metadata": {},
   "outputs": [
    {
     "data": {
      "text/plain": [
       "array([[ True,  True,  True],\n",
       "       [ True,  True,  True],\n",
       "       [ True,  True,  True],\n",
       "       [ True,  True,  True]])"
      ]
     },
     "execution_count": 568,
     "metadata": {},
     "output_type": "execute_result"
    }
   ],
   "source": [
    "resdense == resdenset.T"
   ]
  },
  {
   "cell_type": "markdown",
   "id": "ea6111fe",
   "metadata": {},
   "source": [
    "## comp"
   ]
  },
  {
   "cell_type": "code",
   "execution_count": 569,
   "id": "e774d6a9",
   "metadata": {},
   "outputs": [
    {
     "data": {
      "text/plain": [
       "array([1.1068195 , 1.9084574 , 0.21296582, 0.41706854], dtype=float32)"
      ]
     },
     "execution_count": 569,
     "metadata": {},
     "output_type": "execute_result"
    }
   ],
   "source": [
    "resxsum"
   ]
  },
  {
   "cell_type": "code",
   "execution_count": 570,
   "id": "0a7a1435",
   "metadata": {},
   "outputs": [
    {
     "data": {
      "text/plain": [
       "array([1.1068195 , 1.9084574 , 0.21296582, 0.41706854], dtype=float32)"
      ]
     },
     "execution_count": 570,
     "metadata": {},
     "output_type": "execute_result"
    }
   ],
   "source": [
    "a.sum(axis=1)"
   ]
  },
  {
   "cell_type": "code",
   "execution_count": 571,
   "id": "eb6d9343",
   "metadata": {},
   "outputs": [
    {
     "data": {
      "text/plain": [
       "array([1.3877648, 1.2452688, 0.8910413], dtype=float32)"
      ]
     },
     "execution_count": 571,
     "metadata": {},
     "output_type": "execute_result"
    }
   ],
   "source": [
    "resysum"
   ]
  },
  {
   "cell_type": "code",
   "execution_count": 572,
   "id": "43b77cf4",
   "metadata": {},
   "outputs": [
    {
     "data": {
      "text/plain": [
       "array([1.3877648, 1.2452688, 0.8910413], dtype=float32)"
      ]
     },
     "execution_count": 572,
     "metadata": {},
     "output_type": "execute_result"
    }
   ],
   "source": [
    "b.sum(axis=0)"
   ]
  },
  {
   "cell_type": "code",
   "execution_count": 573,
   "id": "c251ffa3",
   "metadata": {},
   "outputs": [
    {
     "data": {
      "text/plain": [
       "array([[0.44827458, 0.27114734, 0.        ],\n",
       "       [0.83980095, 0.7841075 , 0.        ],\n",
       "       [0.08242004, 0.01903096, 0.        ],\n",
       "       [0.        , 0.27077594, 0.        ]], dtype=float32)"
      ]
     },
     "execution_count": 573,
     "metadata": {},
     "output_type": "execute_result"
    }
   ],
   "source": [
    "mult"
   ]
  },
  {
   "cell_type": "code",
   "execution_count": 574,
   "id": "fd0e6415",
   "metadata": {},
   "outputs": [
    {
     "data": {
      "text/plain": [
       "array([0, 1, 2], dtype=uint32)"
      ]
     },
     "execution_count": 574,
     "metadata": {},
     "output_type": "execute_result"
    }
   ],
   "source": [
    "resxidx"
   ]
  },
  {
   "cell_type": "code",
   "execution_count": 575,
   "id": "9ebf61ae",
   "metadata": {},
   "outputs": [
    {
     "data": {
      "text/plain": [
       "array([0, 1, 2, 3], dtype=uint32)"
      ]
     },
     "execution_count": 575,
     "metadata": {},
     "output_type": "execute_result"
    }
   ],
   "source": [
    "resyidx"
   ]
  },
  {
   "cell_type": "code",
   "execution_count": 576,
   "id": "768e2c1e",
   "metadata": {},
   "outputs": [
    {
     "ename": "NameError",
     "evalue": "name 'asdf' is not defined",
     "output_type": "error",
     "traceback": [
      "\u001b[0;31m---------------------------------------------------------------------------\u001b[0m",
      "\u001b[0;31mNameError\u001b[0m                                 Traceback (most recent call last)",
      "\u001b[0;32m/tmp/ipykernel_16336/2827374946.py\u001b[0m in \u001b[0;36m<module>\u001b[0;34m\u001b[0m\n\u001b[0;32m----> 1\u001b[0;31m \u001b[0masdf\u001b[0m\u001b[0;34m\u001b[0m\u001b[0;34m\u001b[0m\u001b[0m\n\u001b[0m",
      "\u001b[0;31mNameError\u001b[0m: name 'asdf' is not defined"
     ]
    }
   ],
   "source": [
    "asdf"
   ]
  },
  {
   "cell_type": "markdown",
   "id": "e2863a8c",
   "metadata": {},
   "source": [
    "## Prune Weights"
   ]
  },
  {
   "cell_type": "code",
   "execution_count": null,
   "id": "cc23a54a",
   "metadata": {},
   "outputs": [],
   "source": [
    "adata_buf = cl.Buffer(ctx, mf.READ_WRITE | mf.COPY_HOST_PTR, hostbuf=adata)\n",
    "acols_buf = cl.Buffer(ctx, mf.READ_WRITE | mf.COPY_HOST_PTR, hostbuf=acols)\n",
    "annzs_buf = cl.Buffer(ctx, mf.READ_WRITE | mf.COPY_HOST_PTR, hostbuf=annz)\n",
    "adatat_buf = cl.Buffer(ctx, mf.READ_WRITE | mf.COPY_HOST_PTR, hostbuf=adatat)\n",
    "acolst_buf = cl.Buffer(ctx, mf.READ_WRITE | mf.COPY_HOST_PTR, hostbuf=acolst)\n",
    "annzst_buf = cl.Buffer(ctx, mf.READ_WRITE | mf.COPY_HOST_PTR, hostbuf=annzt)\n",
    "\n",
    "prg = cl.Program(ctx, \"\"\"\n",
    "    // prunes weights smaller than a constant C\n",
    "    __kernel void prune(__global  float* matData,     // INPUT MATRIX DATA\n",
    "                        __global  uint*  colIdx,\n",
    "                        __global  uint*  rowNnz,\n",
    "                        uint ellw,\n",
    "                        float pruneval) { \n",
    "      uint gid = get_global_id(0);\n",
    "      \n",
    "      uint nnzs = rowNnz[gid];\n",
    "      for (uint i=0; i<nnzs; i++) {\n",
    "        uint idx = ellw * gid + i;\n",
    "        float val = matData[idx];\n",
    "        printf(\"\\\\nDATA:%.2f - %.2f\", matData[idx], pruneval);\n",
    "        if(fabs(val)<pruneval) {\n",
    "          printf(\"\\\\nPRUNE(%i): %.2f\", gid, matData[idx]);\n",
    "          for (uint j=i; j<=nnzs-1; j++) {\n",
    "            uint idx2 = ellw * gid + j;\n",
    "            matData[idx2] = matData[idx2+1];\n",
    "            colIdx[idx2] = colIdx[idx2+1];\n",
    "          }\n",
    "          matData[ellw*gid+nnzs] = 0;\n",
    "          colIdx[ellw*gid+nnzs] = 0;\n",
    "          rowNnz[gid] -= 1;\n",
    "          nnzs = rowNnz[gid];\n",
    "        }\n",
    "      }\n",
    "    }\"\"\").build()"
   ]
  },
  {
   "cell_type": "code",
   "execution_count": null,
   "id": "8d60d6ef",
   "metadata": {},
   "outputs": [],
   "source": [
    "a.shape"
   ]
  },
  {
   "cell_type": "code",
   "execution_count": null,
   "id": "ede27450",
   "metadata": {},
   "outputs": [],
   "source": [
    "rows = a.shape[0]\n",
    "cols = a.shape[1]\n",
    "\n",
    "pruneval = .35"
   ]
  },
  {
   "cell_type": "code",
   "execution_count": null,
   "id": "6e259da1",
   "metadata": {},
   "outputs": [],
   "source": [
    "knl = prg.prune  # Use this Kernel object for repeated calls\n",
    "evt = knl(queue, [rows,], None, adata_buf, acols_buf, annzs_buf, np.uint32(ellwa), np.float32(pruneval))"
   ]
  },
  {
   "cell_type": "code",
   "execution_count": null,
   "id": "5dc3c096",
   "metadata": {},
   "outputs": [],
   "source": [
    "resxdat = np.zeros(adata.shape).astype(np.float32)\n",
    "resxcol = np.zeros(acols.shape).astype(np.uint32)\n",
    "resxnnz = np.zeros(annz.shape).astype(np.uint32)\n",
    "\n",
    "cl.enqueue_copy(queue, resxdat, adata_buf)\n",
    "cl.enqueue_copy(queue, resxcol, acols_buf)\n",
    "cl.enqueue_copy(queue, resxnnz, annzs_buf)"
   ]
  },
  {
   "cell_type": "code",
   "execution_count": null,
   "id": "04153941",
   "metadata": {},
   "outputs": [],
   "source": [
    "a"
   ]
  },
  {
   "cell_type": "code",
   "execution_count": null,
   "id": "5d83f2fa",
   "metadata": {},
   "outputs": [],
   "source": [
    "adata.reshape((4,-1))"
   ]
  },
  {
   "cell_type": "code",
   "execution_count": null,
   "id": "8adb34bc",
   "metadata": {},
   "outputs": [],
   "source": [
    "acols.reshape((4,-1))"
   ]
  },
  {
   "cell_type": "code",
   "execution_count": null,
   "id": "ed57cbce",
   "metadata": {},
   "outputs": [],
   "source": [
    "resxdat.reshape((4,-1))"
   ]
  },
  {
   "cell_type": "code",
   "execution_count": null,
   "id": "82b64ba8",
   "metadata": {},
   "outputs": [],
   "source": [
    "resxcol.reshape((4,-1))"
   ]
  },
  {
   "cell_type": "code",
   "execution_count": null,
   "id": "69cc453d",
   "metadata": {},
   "outputs": [],
   "source": [
    "resxnnz"
   ]
  },
  {
   "cell_type": "markdown",
   "id": "f1bd0e85",
   "metadata": {},
   "source": [
    "## results"
   ]
  },
  {
   "cell_type": "code",
   "execution_count": null,
   "id": "4d73d135",
   "metadata": {},
   "outputs": [],
   "source": [
    "mult.T"
   ]
  },
  {
   "cell_type": "code",
   "execution_count": null,
   "id": "23ff0483",
   "metadata": {},
   "outputs": [],
   "source": [
    "resxdat.reshape(a.shape[0],topk)"
   ]
  },
  {
   "cell_type": "code",
   "execution_count": null,
   "id": "e74da606",
   "metadata": {},
   "outputs": [],
   "source": [
    "resxcol.reshape(a.shape[0],topk)"
   ]
  },
  {
   "cell_type": "code",
   "execution_count": null,
   "id": "0d163788",
   "metadata": {},
   "outputs": [],
   "source": [
    "resxnnz.reshape(a.shape[0])"
   ]
  },
  {
   "cell_type": "code",
   "execution_count": null,
   "id": "d1e81731",
   "metadata": {},
   "outputs": [],
   "source": [
    "resxdatt.reshape(b.shape[1],topk)"
   ]
  },
  {
   "cell_type": "code",
   "execution_count": null,
   "id": "eec545c9",
   "metadata": {},
   "outputs": [],
   "source": [
    "resxcolt.reshape(b.shape[1],topk)"
   ]
  },
  {
   "cell_type": "code",
   "execution_count": null,
   "id": "99c0beec",
   "metadata": {},
   "outputs": [],
   "source": [
    "resxnnzt.reshape(b.shape[1])"
   ]
  },
  {
   "cell_type": "markdown",
   "id": "a07aaaf8",
   "metadata": {},
   "source": [
    "### Update Vals (add sparse)"
   ]
  },
  {
   "cell_type": "code",
   "execution_count": null,
   "id": "4d7cd83c",
   "metadata": {},
   "outputs": [],
   "source": [
    "multdata, multcols, multnnz, multellw = to_data(mult)\n",
    "multdata_buf = cl.Buffer(ctx, mf.READ_WRITE | mf.COPY_HOST_PTR, hostbuf=multdata)\n",
    "multcols_buf = cl.Buffer(ctx, mf.READ_WRITE | mf.COPY_HOST_PTR, hostbuf=multcols)\n",
    "multnnzs_buf = cl.Buffer(ctx, mf.READ_WRITE | mf.COPY_HOST_PTR, hostbuf=multnnz)\n",
    "\n",
    "\n",
    "prg = cl.Program(ctx, \"\"\"\n",
    "    // Every global_id_0 works on a row\n",
    "    __kernel void adddense(__global  float* matData,     // INPUT MATRIX DATA\n",
    "                            __global  uint*  colIdx,\n",
    "                            __global  uint*  rowNnz,\n",
    "                            float  lr,\n",
    "                            uint   ellwidth,\n",
    "                            __global  float* matDataAdd,     // INPUT MATRIX DATA\n",
    "                            __global  uint*  colIdxAdd,\n",
    "                            __global  uint*  rowNnzAdd,\n",
    "                            uint ellwidthAdd\n",
    "                            ) { // LOCAL SHARED BUFFER\n",
    "      uint gid = get_global_id(0);\n",
    "      uint nrows = get_global_size(0);\n",
    "\n",
    "      uint nnz    = rowNnz[gid];\n",
    "      \n",
    "      uint baseidxs = gid*ellwidth;\n",
    "      uint baseidxd = gid*ellwidthAdd;\n",
    "      \n",
    "      uint nnzadd = rowNnzAdd[gid];\n",
    "      printf(\"\\\\nNNZs: %i   GID:%i\", nnzadd, gid);\n",
    "      \n",
    "      for (uint i=0; i<nnzadd; i++) {\n",
    "        float addval = matDataAdd[baseidxd+i];\n",
    "        uint addcol = colIdxAdd[baseidxd+i];\n",
    "        \n",
    "        uint refcol = colIdx[baseidxs+i];\n",
    "        uint m = 0;\n",
    "        while (addcol > refcol) {\n",
    "          m += 1;\n",
    "          refcol = colIdx[baseidxs+i+m];\n",
    "        }\n",
    "        \n",
    "        //printf(\"\\\\nADD VAL:%.2f  ADDCOL:%i  idxs/d:(%i/%i)  gid/i:(%i/%i)\", addval, addcol, baseidxs, baseidxd, gid,i);\n",
    "        if (addval == 0.0) {\n",
    "          //printf(\"\\\\nZERO VAL, CONT: %.2f - %i\", addval, gid);\n",
    "          continue;\n",
    "        }\n",
    "        if (addcol == refcol) {\n",
    "          matData[baseidxs+i+m] += addval;\n",
    "          printf(\"\\\\nINCREMENT: %.2f\",addval);\n",
    "        } else {\n",
    "          if (rowNnz[gid] >= ellwidth) {\n",
    "            break;\n",
    "          }\n",
    "          if (addcol > refcol) {\n",
    "            rowNnz[gid] += 1;\n",
    "            printf(\"\\\\nSET VAL0:%.2f idx:%i/%i  col:%i\", addval, baseidxs+i, baseidxd+i, colIdx[i]);\n",
    "            matData[baseidxs+i+m] = addval;\n",
    "            colIdx[baseidxs+i+m] = addcol;\n",
    "            continue;\n",
    "          }\n",
    "          for (uint j=nnz; j>i+m; j--) {\n",
    "            //printf(\"\\\\nMOVE:%.2f\", matData[baseidx+j-1]);\n",
    "            colIdx[baseidxs+j] = colIdx[baseidxs+j-1];\n",
    "            matData[baseidxs+j] = matData[baseidxs+j-1];\n",
    "          }\n",
    "          rowNnz[gid] += 1;\n",
    "          nnz = rowNnz[gid];\n",
    "          \n",
    "          printf(\"\\\\nSET VAL:%.2f idx:%i/%i  col:%i\", addval, baseidxs+i, baseidxd+i, colIdx[i]);\n",
    "          matData[baseidxs+i+m] = addval;\n",
    "          colIdx[baseidxs+i+m] = addcol;\n",
    "          if (nnz >= ellwidth)\n",
    "            break;\n",
    "        }\n",
    "      }\n",
    "    }\"\"\").build()"
   ]
  },
  {
   "cell_type": "code",
   "execution_count": null,
   "id": "35387816",
   "metadata": {},
   "outputs": [],
   "source": [
    "res = np.zeros(a.shape[0]).astype(np.float32)\n",
    "#res"
   ]
  },
  {
   "cell_type": "code",
   "execution_count": null,
   "id": "a7c249b6",
   "metadata": {},
   "outputs": [],
   "source": [
    "rows = a.shape[0]"
   ]
  },
  {
   "cell_type": "code",
   "execution_count": null,
   "id": "c0ba1018",
   "metadata": {},
   "outputs": [],
   "source": [
    "mult = mult.astype(np.float32)"
   ]
  },
  {
   "cell_type": "code",
   "execution_count": null,
   "id": "b56fd01d",
   "metadata": {},
   "outputs": [],
   "source": [
    "res_buf = cl.Buffer(ctx, mf.WRITE_ONLY, b.nbytes)\n",
    "knl = prg.adddense  # Use this Kernel object for repeated calls\n",
    "knl(queue, [rows], None, multdata_buf, multcols_buf, multnnzs_buf, np.float32(1), np.uint32(multellw), \n",
    "    sdata_buf, sidxs_buf, snnzs_buf, np.uint32(topk))"
   ]
  },
  {
   "cell_type": "code",
   "execution_count": null,
   "id": "35a50251",
   "metadata": {},
   "outputs": [],
   "source": [
    "mult"
   ]
  },
  {
   "cell_type": "code",
   "execution_count": null,
   "id": "6f9789d9",
   "metadata": {},
   "outputs": [],
   "source": [
    "data_res = np.empty_like(multdata)\n",
    "cols_res = np.empty_like(multcols)\n",
    "nnzs_res = np.empty_like(multnnz)\n",
    "cl.enqueue_copy(queue, data_res, multdata_buf, is_blocking=True)\n",
    "cl.enqueue_copy(queue, cols_res, multcols_buf, is_blocking=True)\n",
    "cl.enqueue_copy(queue, nnzs_res, multnnzs_buf, is_blocking=True)"
   ]
  },
  {
   "cell_type": "code",
   "execution_count": null,
   "id": "47150c28",
   "metadata": {},
   "outputs": [],
   "source": [
    "adenseadd = to_dense(data_res, cols_res, nnzs_res, multellw, mult.shape)\n",
    "adenseadd.T"
   ]
  },
  {
   "cell_type": "code",
   "execution_count": null,
   "id": "5cab2447",
   "metadata": {},
   "outputs": [],
   "source": [
    "mult-adenseadd"
   ]
  },
  {
   "cell_type": "markdown",
   "id": "a0a6446b",
   "metadata": {},
   "source": [
    "### Update Vals (add sparset)"
   ]
  },
  {
   "cell_type": "code",
   "execution_count": null,
   "id": "77a7c524",
   "metadata": {},
   "outputs": [],
   "source": [
    "multt=np.zeros(mult.T.shape)\n",
    "\n",
    "for row in range(multt.shape[0]):\n",
    "    for col in range(multt.shape[1]):\n",
    "        multt[row][col] = mult[col][row]"
   ]
  },
  {
   "cell_type": "code",
   "execution_count": null,
   "id": "24a8cbcf",
   "metadata": {},
   "outputs": [],
   "source": [
    "multdata, multcols, multnnz, multellw = to_data(multt)\n",
    "multdata_buf = cl.Buffer(ctx, mf.READ_WRITE | mf.COPY_HOST_PTR, hostbuf=multdata)\n",
    "multcols_buf = cl.Buffer(ctx, mf.READ_WRITE | mf.COPY_HOST_PTR, hostbuf=multcols)\n",
    "multnnzs_buf = cl.Buffer(ctx, mf.READ_WRITE | mf.COPY_HOST_PTR, hostbuf=multnnz)"
   ]
  },
  {
   "cell_type": "code",
   "execution_count": null,
   "id": "ad7e0c73",
   "metadata": {},
   "outputs": [],
   "source": [
    "a.shape, b.shape"
   ]
  },
  {
   "cell_type": "code",
   "execution_count": null,
   "id": "bf9e5c9e",
   "metadata": {},
   "outputs": [],
   "source": [
    "res = np.zeros(a.shape[0]).astype(np.float32)\n",
    "#res"
   ]
  },
  {
   "cell_type": "code",
   "execution_count": null,
   "id": "940e9ffa",
   "metadata": {},
   "outputs": [],
   "source": [
    "rows = mult.T.shape[0]"
   ]
  },
  {
   "cell_type": "code",
   "execution_count": null,
   "id": "d560f7e9",
   "metadata": {},
   "outputs": [],
   "source": [
    "mult = mult.astype(np.float32)"
   ]
  },
  {
   "cell_type": "code",
   "execution_count": null,
   "id": "78aeaa8c",
   "metadata": {},
   "outputs": [],
   "source": [
    "res_buf = cl.Buffer(ctx, mf.WRITE_ONLY, b.nbytes)\n",
    "knl = prg.adddense  # Use this Kernel object for repeated calls\n",
    "knl(queue, [rows], None, multdata_buf, multcols_buf, multnnzs_buf, np.float32(1), np.uint32(multellw), \n",
    "    sdatat_buf, sidxst_buf, snnzst_buf, np.uint32(topk))"
   ]
  },
  {
   "cell_type": "code",
   "execution_count": null,
   "id": "b0e8ab07",
   "metadata": {},
   "outputs": [],
   "source": [
    "mult.T"
   ]
  },
  {
   "cell_type": "code",
   "execution_count": null,
   "id": "24da004f",
   "metadata": {},
   "outputs": [],
   "source": [
    "data_res = np.empty_like(multdata)\n",
    "cols_res = np.empty_like(multcols)\n",
    "nnzs_res = np.empty_like(multnnz)\n",
    "cl.enqueue_copy(queue, data_res, multdata_buf, is_blocking=True)\n",
    "cl.enqueue_copy(queue, cols_res, multcols_buf, is_blocking=True)\n",
    "cl.enqueue_copy(queue, nnzs_res, multnnzs_buf, is_blocking=True)"
   ]
  },
  {
   "cell_type": "code",
   "execution_count": null,
   "id": "1ea6665b",
   "metadata": {},
   "outputs": [],
   "source": [
    "multt-data_res.reshape(multt.shape)"
   ]
  },
  {
   "cell_type": "code",
   "execution_count": null,
   "id": "29f989c4",
   "metadata": {},
   "outputs": [],
   "source": [
    "nnzs_res"
   ]
  },
  {
   "cell_type": "code",
   "execution_count": null,
   "id": "3dd2b416",
   "metadata": {},
   "outputs": [],
   "source": [
    "adenseaddt = to_dense(data_res, cols_res, nnzs_res, multellw, multt.shape)\n",
    "adenseaddt"
   ]
  },
  {
   "cell_type": "code",
   "execution_count": null,
   "id": "a65f4871",
   "metadata": {},
   "outputs": [],
   "source": [
    "multt-adenseaddt"
   ]
  },
  {
   "cell_type": "code",
   "execution_count": null,
   "id": "c8fa4a42",
   "metadata": {},
   "outputs": [],
   "source": [
    "adenseaddt"
   ]
  },
  {
   "cell_type": "code",
   "execution_count": null,
   "id": "36f4b9a1",
   "metadata": {},
   "outputs": [],
   "source": [
    "adenseadd.T == adenseaddt"
   ]
  },
  {
   "cell_type": "markdown",
   "id": "c0c255da",
   "metadata": {},
   "source": [
    "### Update Vals (add topk to sparse)"
   ]
  },
  {
   "cell_type": "code",
   "execution_count": null,
   "id": "7b96afa2",
   "metadata": {},
   "outputs": [],
   "source": [
    "matadd = np.random.randn(*a.shape).astype(np.float32)\n",
    "matadd"
   ]
  },
  {
   "cell_type": "code",
   "execution_count": null,
   "id": "412cfeec",
   "metadata": {},
   "outputs": [],
   "source": [
    "a"
   ]
  },
  {
   "cell_type": "code",
   "execution_count": null,
   "id": "5db87320",
   "metadata": {},
   "outputs": [],
   "source": [
    "a_added = a + matadd"
   ]
  },
  {
   "cell_type": "code",
   "execution_count": null,
   "id": "d2b7c76e",
   "metadata": {},
   "outputs": [],
   "source": [
    "adata_buf = cl.Buffer(ctx, mf.READ_WRITE | mf.COPY_HOST_PTR, hostbuf=adata)\n",
    "acols_buf = cl.Buffer(ctx, mf.READ_WRITE | mf.COPY_HOST_PTR, hostbuf=acols)\n",
    "annzs_buf = cl.Buffer(ctx, mf.READ_WRITE | mf.COPY_HOST_PTR, hostbuf=annz)\n",
    "adatat_buf = cl.Buffer(ctx, mf.READ_WRITE | mf.COPY_HOST_PTR, hostbuf=adatat)\n",
    "acolst_buf = cl.Buffer(ctx, mf.READ_WRITE | mf.COPY_HOST_PTR, hostbuf=acolst)\n",
    "annzst_buf = cl.Buffer(ctx, mf.READ_WRITE | mf.COPY_HOST_PTR, hostbuf=annzt)\n",
    "add_buf = cl.Buffer(ctx, mf.READ_WRITE | mf.COPY_HOST_PTR, hostbuf=matadd)\n",
    "\n",
    "prg = cl.Program(ctx, \"\"\"\n",
    "    // Every global_id_0 works on a row\n",
    "    __kernel void adddense(__global  float* matData,     // INPUT MATRIX DATA\n",
    "                            __global  uint*  colIdx,\n",
    "                            __global  uint*  rowNnz,\n",
    "                            float  lr,\n",
    "                            uint   ellwidth,\n",
    "                            uint   awidth,\n",
    "                            __global  float* vector_x    // INPUT\n",
    "                            ) { // LOCAL SHARED BUFFER\n",
    "      uint gid = get_global_id(0);\n",
    "      uint nrows = get_global_size(0);\n",
    "\n",
    "      uint nnz    = rowNnz[gid];\n",
    "      uint baseidxs = gid*ellwidth;\n",
    "      uint baseidxd = gid*awidth;\n",
    "      \n",
    "      for (uint i=0; i<awidth; i++) {\n",
    "        float addval = vector_x[baseidxd+i];\n",
    "        //if (gid==1)\n",
    "        //  printf(\"\\\\nADD VAL:%.2f idx:%i/%i  col:%i\", addval, baseidxs+i, baseidxd+i, colIdx[baseidxs+i]);\n",
    "        if (addval == 0) {\n",
    "          continue;\n",
    "        }\n",
    "        if (i == colIdx[baseidxs+i]) {\n",
    "          matData[baseidxs+i] += addval;\n",
    "        } else {\n",
    "          if (rowNnz[gid] >= ellwidth) {\n",
    "            break;\n",
    "          }\n",
    "          if (i > colIdx[baseidxs+i]) {\n",
    "            rowNnz[gid] += 1;\n",
    "            //if (gid==1)\n",
    "            //  printf(\"\\\\nSET VAL:%.2f idx:%i/%i  col:%i\", addval, baseidxs+i, baseidxd+i, colIdx[i]);\n",
    "            matData[baseidxs+i] = addval;\n",
    "            colIdx[baseidxs+i] = i;\n",
    "            continue;\n",
    "          }\n",
    "          for (uint j=nnz; j>i; j--) {\n",
    "            //printf(\"\\\\nMOVE:%.2f\", matData[baseidx+j-1]);\n",
    "            colIdx[baseidxs+j] = colIdx[baseidxs+j-1];\n",
    "            matData[baseidxs+j] = matData[baseidxs+j-1];\n",
    "          }\n",
    "          rowNnz[gid] += 1;\n",
    "          nnz = rowNnz[gid];\n",
    "          //if (gid==1)\n",
    "          //  printf(\"\\\\nSET VAL:%.2f idx:%i/%i  col:%i\", addval, baseidxs+i, baseidxd+i, colIdx[i]);\n",
    "          matData[baseidxs+i] = addval;\n",
    "          colIdx[baseidxs+i] = i;\n",
    "          if (nnz >= ellwidth)\n",
    "            break;\n",
    "        }\n",
    "      }\n",
    "    }\"\"\").build()"
   ]
  },
  {
   "cell_type": "code",
   "execution_count": null,
   "id": "2adf45e7",
   "metadata": {},
   "outputs": [],
   "source": [
    "a.shape, b.shape"
   ]
  },
  {
   "cell_type": "code",
   "execution_count": null,
   "id": "324edd08",
   "metadata": {},
   "outputs": [],
   "source": [
    "res = np.zeros(a.shape[0]).astype(np.float32)\n",
    "#res"
   ]
  },
  {
   "cell_type": "code",
   "execution_count": null,
   "id": "2cf60c63",
   "metadata": {},
   "outputs": [],
   "source": [
    "rows = a.shape[0]"
   ]
  },
  {
   "cell_type": "code",
   "execution_count": null,
   "id": "05c4e97c",
   "metadata": {},
   "outputs": [],
   "source": [
    "mult = mult.astype(np.float32)"
   ]
  },
  {
   "cell_type": "code",
   "execution_count": null,
   "id": "7d3bb3fd",
   "metadata": {},
   "outputs": [],
   "source": [
    "res_buf = cl.Buffer(ctx, mf.WRITE_ONLY, b.nbytes)\n",
    "knl = prg.adddense  # Use this Kernel object for repeated calls\n",
    "knl(queue, [rows], None, adata_buf, acols_buf, annzs_buf, np.float32(1), np.uint32(ellwa),np.uint32(a.shape[1]), add_buf)"
   ]
  },
  {
   "cell_type": "code",
   "execution_count": null,
   "id": "91283016",
   "metadata": {},
   "outputs": [],
   "source": [
    "matadd[0][0]"
   ]
  },
  {
   "cell_type": "code",
   "execution_count": null,
   "id": "f520b590",
   "metadata": {},
   "outputs": [],
   "source": [
    "data_res = np.empty_like(adata)\n",
    "cols_res = np.empty_like(acols)\n",
    "nnzs_res = np.empty_like(annz)\n",
    "cl.enqueue_copy(queue, data_res, adata_buf)\n",
    "cl.enqueue_copy(queue, cols_res, acols_buf)\n",
    "cl.enqueue_copy(queue, nnzs_res, annzs_buf)"
   ]
  },
  {
   "cell_type": "code",
   "execution_count": null,
   "id": "945bad1d",
   "metadata": {},
   "outputs": [],
   "source": [
    "adenseadd = to_dense(data_res, cols_res, nnzs_res, ellwa, a.shape)\n",
    "adenseadd"
   ]
  },
  {
   "cell_type": "code",
   "execution_count": null,
   "id": "9dc5db0f",
   "metadata": {},
   "outputs": [],
   "source": [
    "a"
   ]
  },
  {
   "cell_type": "code",
   "execution_count": null,
   "id": "488daf6b",
   "metadata": {},
   "outputs": [],
   "source": [
    "matadd"
   ]
  },
  {
   "cell_type": "code",
   "execution_count": null,
   "id": "e0e10dd1",
   "metadata": {},
   "outputs": [],
   "source": [
    "a_added"
   ]
  },
  {
   "cell_type": "code",
   "execution_count": null,
   "id": "fb4ef891",
   "metadata": {},
   "outputs": [],
   "source": [
    "adenseadd"
   ]
  },
  {
   "cell_type": "code",
   "execution_count": null,
   "id": "23f0c0c2",
   "metadata": {},
   "outputs": [],
   "source": [
    "adenseadd == a_added"
   ]
  },
  {
   "cell_type": "markdown",
   "id": "2c377b84",
   "metadata": {},
   "source": [
    "### update vals"
   ]
  },
  {
   "cell_type": "code",
   "execution_count": null,
   "id": "f334a950",
   "metadata": {},
   "outputs": [],
   "source": [
    "adatat_buf = cl.Buffer(ctx, mf.READ_WRITE | mf.COPY_HOST_PTR, hostbuf=adatat)\n",
    "acolst_buf = cl.Buffer(ctx, mf.READ_WRITE | mf.COPY_HOST_PTR, hostbuf=acolst)\n",
    "annzst_buf = cl.Buffer(ctx, mf.READ_WRITE | mf.COPY_HOST_PTR, hostbuf=annzt)\n",
    "add_buf = cl.Buffer(ctx, mf.READ_WRITE | mf.COPY_HOST_PTR, hostbuf=matadd)\n",
    "\n",
    "prg = cl.Program(ctx, \"\"\"\n",
    "    // Every global_id_0 works on a row\n",
    "    __kernel void adddenset(__global  float* matData,     // INPUT MATRIX DATA\n",
    "                            __global  uint*  colIdx,\n",
    "                            __global  uint*  rowNnz,\n",
    "                            float  lr,\n",
    "                            uint   ellwidth,\n",
    "                            uint   aheight,\n",
    "                            __global  float* vector_x    // INPUT\n",
    "                            ) { // LOCAL SHARED BUFFER\n",
    "      uint gid = get_global_id(0);\n",
    "      uint ncols = get_global_size(0);\n",
    "\n",
    "      uint nnz    = rowNnz[gid];\n",
    "      uint baseidxs = gid*ellwidth;\n",
    "      \n",
    "      for (uint i=0; i<aheight; i++) {\n",
    "        if (nnz > ellwidth)\n",
    "            break;\n",
    "        uint baseidxd = i*ncols+gid;\n",
    "        float addval = vector_x[baseidxd];\n",
    "        //if (gid==1)\n",
    "        //  printf(\"\\\\nADD VAL:%.2f idx:%i/%i  col:%i\", addval, baseidxs+i, baseidxd+i, colIdx[baseidxs+i]);\n",
    "        if (addval == 0) {\n",
    "          continue;\n",
    "        }\n",
    "        if (i == colIdx[baseidxs+i]) {\n",
    "          printf(\"\\\\nADD VAL:%.2f idx:%i/%i  col:%i\", addval, baseidxs+i, baseidxd+i, colIdx[i]);\n",
    "          matData[baseidxs+i] += addval;\n",
    "        } else {\n",
    "          if (rowNnz[gid] >= ellwidth) {\n",
    "            break;\n",
    "          }\n",
    "          if (i > colIdx[baseidxs+i]) {\n",
    "            rowNnz[gid] += 1;\n",
    "            //if (gid==1)\n",
    "            //  printf(\"\\\\nSET VAL:%.2f idx:%i/%i  col:%i\", addval, baseidxs+i, baseidxd+i, colIdx[i]);\n",
    "            matData[baseidxs+i] = addval;\n",
    "            colIdx[baseidxs+i] = i;\n",
    "            continue;\n",
    "          }\n",
    "          for (uint j=nnz; j>i; j--) {\n",
    "            //printf(\"\\\\nMOVE:%.2f\", matData[baseidx+j-1]);\n",
    "            colIdx[baseidxs+j] = colIdx[baseidxs+j-1];\n",
    "            matData[baseidxs+j] = matData[baseidxs+j-1];\n",
    "          }\n",
    "          rowNnz[gid] += 1;\n",
    "          nnz = rowNnz[gid];\n",
    "          //if (gid==1)\n",
    "          //  printf(\"\\\\nSET VAL:%.2f idx:%i/%i  col:%i\", addval, baseidxs+i, baseidxd+i, colIdx[i]);\n",
    "          matData[baseidxs+i] = addval;\n",
    "          colIdx[baseidxs+i] = i;\n",
    "        }\n",
    "      }\n",
    "    }\"\"\").build()"
   ]
  },
  {
   "cell_type": "code",
   "execution_count": null,
   "id": "3df220e3",
   "metadata": {},
   "outputs": [],
   "source": [
    "a.shape, b.shape"
   ]
  },
  {
   "cell_type": "code",
   "execution_count": null,
   "id": "4a70fde5",
   "metadata": {},
   "outputs": [],
   "source": [
    "res = np.zeros(a.shape[0]).astype(np.float32)\n",
    "#res"
   ]
  },
  {
   "cell_type": "code",
   "execution_count": null,
   "id": "49cee8e5",
   "metadata": {},
   "outputs": [],
   "source": [
    "cols = a.shape[1]"
   ]
  },
  {
   "cell_type": "code",
   "execution_count": null,
   "id": "ce0c1ed9",
   "metadata": {},
   "outputs": [],
   "source": [
    "mult = mult.astype(np.float32)"
   ]
  },
  {
   "cell_type": "code",
   "execution_count": null,
   "id": "bf98ad4e",
   "metadata": {},
   "outputs": [],
   "source": [
    "res_buf = cl.Buffer(ctx, mf.WRITE_ONLY, b.nbytes)\n",
    "knl = prg.adddenset  # Use this Kernel object for repeated calls\n",
    "knl(queue, [cols], None, adatat_buf, acolst_buf, annzst_buf, np.float32(1), np.uint32(ellwat),np.uint32(a.T.shape[1]), add_buf)"
   ]
  },
  {
   "cell_type": "code",
   "execution_count": null,
   "id": "d01027d6",
   "metadata": {},
   "outputs": [],
   "source": [
    "matadd[0][0]"
   ]
  },
  {
   "cell_type": "code",
   "execution_count": null,
   "id": "c8aa298b",
   "metadata": {},
   "outputs": [],
   "source": [
    "datat_res = np.empty_like(adatat)\n",
    "colst_res = np.empty_like(acolst)\n",
    "nnzst_res = np.empty_like(annzt)\n",
    "cl.enqueue_copy(queue, datat_res, adatat_buf)\n",
    "cl.enqueue_copy(queue, colst_res, acolst_buf)\n",
    "cl.enqueue_copy(queue, nnzst_res, annzst_buf)"
   ]
  },
  {
   "cell_type": "code",
   "execution_count": null,
   "id": "1520b090",
   "metadata": {},
   "outputs": [],
   "source": [
    "adenseaddt = to_dense(datat_res, colst_res, nnzst_res, ellwat, a.T.shape).T\n",
    "adenseaddt"
   ]
  },
  {
   "cell_type": "code",
   "execution_count": null,
   "id": "4991edea",
   "metadata": {},
   "outputs": [],
   "source": [
    "a"
   ]
  },
  {
   "cell_type": "code",
   "execution_count": null,
   "id": "a02d1ebb",
   "metadata": {},
   "outputs": [],
   "source": [
    "matadd"
   ]
  },
  {
   "cell_type": "code",
   "execution_count": null,
   "id": "39b90dde",
   "metadata": {},
   "outputs": [],
   "source": [
    "a_added"
   ]
  },
  {
   "cell_type": "code",
   "execution_count": null,
   "id": "03c95777",
   "metadata": {},
   "outputs": [],
   "source": [
    "adenseaddt == a_added"
   ]
  },
  {
   "cell_type": "markdown",
   "id": "f62eb300",
   "metadata": {},
   "source": [
    "### Make Random"
   ]
  },
  {
   "cell_type": "code",
   "execution_count": null,
   "id": "bc590ff4",
   "metadata": {},
   "outputs": [],
   "source": [
    "rand = SparseTensor.uniform(2,4)\n",
    "rand"
   ]
  },
  {
   "cell_type": "code",
   "execution_count": null,
   "id": "186cbd5b",
   "metadata": {},
   "outputs": [],
   "source": [
    "rand.to_numpy()"
   ]
  },
  {
   "cell_type": "code",
   "execution_count": null,
   "id": "86441521",
   "metadata": {},
   "outputs": [],
   "source": [
    "rand.data"
   ]
  },
  {
   "cell_type": "markdown",
   "id": "6644b755",
   "metadata": {},
   "source": [
    "### update vals"
   ]
  },
  {
   "cell_type": "code",
   "execution_count": null,
   "id": "73b60325",
   "metadata": {},
   "outputs": [],
   "source": [
    "adata_buf = cl.Buffer(ctx, mf.READ_WRITE | mf.COPY_HOST_PTR, hostbuf=adata)\n",
    "acols_buf = cl.Buffer(ctx, mf.READ_WRITE | mf.COPY_HOST_PTR, hostbuf=acols)\n",
    "annzs_buf = cl.Buffer(ctx, mf.READ_WRITE | mf.COPY_HOST_PTR, hostbuf=annz)"
   ]
  },
  {
   "cell_type": "code",
   "execution_count": null,
   "id": "7cb03af3",
   "metadata": {},
   "outputs": [],
   "source": [
    "prg = cl.Program(ctx, \"\"\"\n",
    "// Every global_id_0 works on a row\n",
    "    __kernel void addvals(__global  float* matData,     // INPUT MATRIX DATA\n",
    "                         __global  uint*  colIdx,\n",
    "                         __global  uint*  rowNnz,\n",
    "                         float lr,\n",
    "                         uint   ellwidth,\n",
    "                         __global  float* updatevals,    // INPUT\n",
    "                         __global  uint* updatexidx,\n",
    "                         __global  uint* updateyidx\n",
    "                         ) { // LOCAL SHARED BUFFER\n",
    "      uint gid = get_global_id(0);\n",
    "      uint gid2 = get_global_id(1);\n",
    "      uint topk = get_global_size(0);\n",
    "      uint bs = get_global_size(1);\n",
    "      uint baseupdateidx = topk*topk*gid2;\n",
    "      uint baseidxidx = topk*gid2;\n",
    "      uint col = updateyidx[baseidxidx+gid];\n",
    "\n",
    "      for (uint i=0; i<topk; i++) {\n",
    "        float val = updatevals[baseupdateidx+gid*topk+i];\n",
    "        uint row = updatexidx[baseidxidx+i];\n",
    "        for (uint i=0; i<rowNnz[row]; i++) {\n",
    "          uint idx = row*ellwidth+i;\n",
    "          if (colIdx[idx] >= col) {\n",
    "            //printf(\"\\\\nFOUND:%i/%i  - idx:%i\", colIdx[idx], col, idx);\n",
    "            if (colIdx[idx] == col) {\n",
    "              matData[idx] += -val*lr;\n",
    "              printf(\"\\\\nUPDATE[%i,%i]: %f\", row,col, val);\n",
    "              break;\n",
    "            } else {\n",
    "              // insert new column\n",
    "              printf(\"\\\\nINSERT[%i,%i]: %.2f\", row,col, val);\n",
    "              for (uint j=rowNnz[row]+1; j>i; j--) {\n",
    "                uint idx2 = row*ellwidth+j;\n",
    "                matData[idx2] = matData[idx2-1];\n",
    "                colIdx[idx2] = colIdx[idx2-1];\n",
    "              }\n",
    "              matData[idx] = -val*lr;\n",
    "              colIdx[idx] = col;\n",
    "              rowNnz[row] += 1;\n",
    "              break;\n",
    "            }\n",
    "          }\n",
    "        }\n",
    "        if (rowNnz[row] >= ellwidth) {\n",
    "          break;\n",
    "        }\n",
    "      }\n",
    "    }\"\"\").build()"
   ]
  },
  {
   "cell_type": "code",
   "execution_count": null,
   "id": "14b0cd42",
   "metadata": {},
   "outputs": [],
   "source": [
    "prg = cl.Program(ctx, \"\"\"\n",
    "// Every global_id_0 works on a row\n",
    "    __kernel void addvals(__global  float* matData,     // INPUT MATRIX DATA\n",
    "                         __global  uint*  colIdx,\n",
    "                         __global  uint*  rowNnz,\n",
    "                         float lr,\n",
    "                         uint   ellwidth,\n",
    "                         __global  float* updatevals,    // INPUT\n",
    "                         __global  uint* updatexidx,\n",
    "                         __global  uint* updateyidx\n",
    "                         ) { // LOCAL SHARED BUFFER\n",
    "      uint gid = get_global_id(0);\n",
    "      uint topk = get_global_size(0);\n",
    "      uint col = updateyidx[gid];\n",
    "\n",
    "      for (uint i=0; i<topk; i++) {\n",
    "        float val = updatevals[baseupdateidx+gid*topk+i];\n",
    "        uint row = updatexidx[baseidxidx+i];\n",
    "        for (uint i=0; i<rowNnz[row]; i++) {\n",
    "          uint idx = row*ellwidth+i;\n",
    "          if (colIdx[idx] >= col) {\n",
    "            //printf(\"\\\\nFOUND:%i/%i  - idx:%i\", colIdx[idx], col, idx);\n",
    "            if (colIdx[idx] == col) {\n",
    "              matData[idx] += -val*lr;\n",
    "              printf(\"\\\\nUPDATE[%i,%i]: %f\", row,col, val);\n",
    "              break;\n",
    "            } else {\n",
    "              // insert new column\n",
    "              printf(\"\\\\nINSERT[%i,%i]: %.2f\", row,col, val);\n",
    "              for (uint j=rowNnz[row]+1; j>i; j--) {\n",
    "                uint idx2 = row*ellwidth+j;\n",
    "                matData[idx2] = matData[idx2-1];m\n",
    "                colIdx[idx2] = colIdx[idx2-1];\n",
    "              }\n",
    "              matData[idx] = -val*lr;\n",
    "              colIdx[idx] = col;\n",
    "              rowNnz[row] += 1;\n",
    "              break;\n",
    "            }\n",
    "          }\n",
    "        }\n",
    "        if (rowNnz[row] >= ellwidth) {\n",
    "          break;\n",
    "        }\n",
    "      }\n",
    "    }\"\"\").build()"
   ]
  },
  {
   "cell_type": "code",
   "execution_count": null,
   "id": "0aab86e1",
   "metadata": {},
   "outputs": [],
   "source": [
    "knl = prg.addvals  # Use this Kernel object for repeated calls\n",
    "knl(queue, [topk,1], None, adata_buf, acols_buf, annzs_buf, np.float32(1), np.uint32(ellwa), x_cp_buf, x_idx_buf, y_idx_buf)\n",
    "\n",
    "resa = np.empty_like(adata)\n",
    "resaidx = np.zeros(acols.shape).astype(np.uint32)\n",
    "resannz = np.zeros(annz.shape).astype(np.uint32)\n",
    "\n",
    "cl.enqueue_copy(queue, resa, adata_buf)\n",
    "cl.enqueue_copy(queue, resaidx, acols_buf)\n",
    "cl.enqueue_copy(queue, resannz, annzs_buf)"
   ]
  },
  {
   "cell_type": "code",
   "execution_count": null,
   "id": "d2ff91ba",
   "metadata": {},
   "outputs": [],
   "source": [
    "resa.shape, resaidx.shape, resannz.shape, ellwa, a.T.shape"
   ]
  },
  {
   "cell_type": "code",
   "execution_count": null,
   "id": "190b8546",
   "metadata": {},
   "outputs": [],
   "source": [
    "adenseadd = to_dense(resa, resaidx, resannz, ellwa, a.shape)\n",
    "adenseadd"
   ]
  },
  {
   "cell_type": "code",
   "execution_count": null,
   "id": "3211c6e6",
   "metadata": {},
   "outputs": [],
   "source": [
    "adenseadd - adense"
   ]
  },
  {
   "cell_type": "code",
   "execution_count": null,
   "id": "f63c469b",
   "metadata": {},
   "outputs": [],
   "source": [
    "adenseadd == adense"
   ]
  },
  {
   "cell_type": "code",
   "execution_count": null,
   "id": "922fdfb7",
   "metadata": {},
   "outputs": [],
   "source": [
    "ellwa"
   ]
  },
  {
   "cell_type": "code",
   "execution_count": null,
   "id": "9da55fa5",
   "metadata": {},
   "outputs": [],
   "source": [
    "adata2 = adata.reshape(-1, ellwa)\n",
    "adata2"
   ]
  },
  {
   "cell_type": "code",
   "execution_count": null,
   "id": "466c61fb",
   "metadata": {},
   "outputs": [],
   "source": [
    "resa = resa.reshape(-1, ellwa)\n",
    "resa"
   ]
  },
  {
   "cell_type": "code",
   "execution_count": null,
   "id": "30f36719",
   "metadata": {},
   "outputs": [],
   "source": [
    "resa - adata2"
   ]
  },
  {
   "cell_type": "code",
   "execution_count": null,
   "id": "9dd6baf4",
   "metadata": {},
   "outputs": [],
   "source": [
    "acols"
   ]
  },
  {
   "cell_type": "code",
   "execution_count": null,
   "id": "5c526051",
   "metadata": {},
   "outputs": [],
   "source": [
    "resaidx"
   ]
  },
  {
   "cell_type": "code",
   "execution_count": null,
   "id": "f635a14d",
   "metadata": {},
   "outputs": [],
   "source": [
    "resannz"
   ]
  },
  {
   "cell_type": "code",
   "execution_count": null,
   "id": "d99713b6",
   "metadata": {},
   "outputs": [],
   "source": [
    "annz"
   ]
  },
  {
   "cell_type": "markdown",
   "id": "7c703466",
   "metadata": {},
   "source": [
    "### update vals2"
   ]
  },
  {
   "cell_type": "code",
   "execution_count": null,
   "id": "ed7e786b",
   "metadata": {},
   "outputs": [],
   "source": [
    "adatat_buf = cl.Buffer(ctx, mf.READ_WRITE | mf.COPY_HOST_PTR, hostbuf=adatat)\n",
    "acolst_buf = cl.Buffer(ctx, mf.READ_WRITE | mf.COPY_HOST_PTR, hostbuf=acolst)\n",
    "annzst_buf = cl.Buffer(ctx, mf.READ_WRITE | mf.COPY_HOST_PTR, hostbuf=annzt)"
   ]
  },
  {
   "cell_type": "code",
   "execution_count": null,
   "id": "33840479",
   "metadata": {},
   "outputs": [],
   "source": [
    "prg = cl.Program(ctx, \"\"\"\n",
    "// Every global_id_0 works on a row\n",
    "    __kernel void addvals(__global  float* matData,     // INPUT MATRIX DATA\n",
    "                         __global  uint*  colIdx,\n",
    "                         __global  uint*  rowNnz,\n",
    "                         float lr,\n",
    "                         uint   ellwidth,\n",
    "                         __global  float* updatevals,    // INPUT\n",
    "                         __global  uint* updatexidx,\n",
    "                         __global  uint* updateyidx\n",
    "                         ) { // LOCAL SHARED BUFFER\n",
    "      uint gid = get_global_id(0);\n",
    "      uint gid2 = get_global_id(1);\n",
    "      uint topk = get_global_size(0);\n",
    "      uint bs = get_global_size(1);\n",
    "      uint baseupdateidx = topk*topk*gid2;\n",
    "      uint baseidxidx = topk*gid2;\n",
    "      uint row = updateyidx[baseidxidx+gid];\n",
    "\n",
    "      for (uint i=0; i<topk; i++) {\n",
    "        float val = updatevals[baseupdateidx+gid*topk+i];\n",
    "        uint col = updatexidx[baseidxidx+i];\n",
    "        for (uint i=0; i<rowNnz[row]; i++) {\n",
    "          uint idx = row*ellwidth+i;\n",
    "          if (colIdx[idx] >= col) {\n",
    "            //printf(\"\\\\nFOUND:%i/%i  - idx:%i\", colIdx[idx], col, idx);\n",
    "            if (colIdx[idx] == col) {\n",
    "              matData[idx] += -val*lr;\n",
    "              printf(\"\\\\nUPDATE[%i,%i]: %f\", row,col, val);\n",
    "              break;\n",
    "            } else {\n",
    "              // insert new column\n",
    "              printf(\"\\\\nINSERT[%i,%i]: %.2f\", row,col, val);\n",
    "              for (uint j=rowNnz[row]+1; j>i; j--) {\n",
    "                uint idx2 = row*ellwidth+j;\n",
    "                matData[idx2] = matData[idx2-1];\n",
    "                colIdx[idx2] = colIdx[idx2-1];\n",
    "              }\n",
    "              matData[idx] = -val*lr;\n",
    "              colIdx[idx] = col;\n",
    "              rowNnz[row] += 1;\n",
    "              break;\n",
    "            }\n",
    "          }\n",
    "        }\n",
    "        if (rowNnz[row] >= ellwidth) {\n",
    "          break;\n",
    "        }\n",
    "      }\n",
    "    }\"\"\").build()"
   ]
  },
  {
   "cell_type": "code",
   "execution_count": null,
   "id": "0053ed70",
   "metadata": {},
   "outputs": [],
   "source": [
    "knl = prg.addvals  # Use this Kernel object for repeated calls\n",
    "knl(queue, [topk,bs], None, adatat_buf, acolst_buf, annzst_buf, np.float32(1), np.uint32(ellwat), x_cp_buf, x_idx_buf, y_idx_buf)\n",
    "\n",
    "resat = np.empty_like(adatat)\n",
    "resaidxt = np.zeros(acolst.shape).astype(np.uint32)\n",
    "resannzt = np.zeros(annzt.shape).astype(np.uint32)\n",
    "\n",
    "cl.enqueue_copy(queue, resat, adatat_buf)\n",
    "cl.enqueue_copy(queue, resaidxt, acolst_buf)\n",
    "cl.enqueue_copy(queue, resannzt, annzst_buf)"
   ]
  },
  {
   "cell_type": "code",
   "execution_count": null,
   "id": "8f781e72",
   "metadata": {},
   "outputs": [],
   "source": [
    "ellwa"
   ]
  },
  {
   "cell_type": "code",
   "execution_count": null,
   "id": "1864d3ac",
   "metadata": {},
   "outputs": [],
   "source": [
    "resat.shape, resaidxt.shape, resannzt.shape"
   ]
  },
  {
   "cell_type": "code",
   "execution_count": null,
   "id": "6205962b",
   "metadata": {},
   "outputs": [],
   "source": [
    "adenseaddt = to_dense(resat, resaidxt, resannzt, ellwat, a.T.shape)\n",
    "adenseaddt"
   ]
  },
  {
   "cell_type": "code",
   "execution_count": null,
   "id": "c601a02c",
   "metadata": {},
   "outputs": [],
   "source": [
    "adenseadd == adenseaddt.T"
   ]
  },
  {
   "cell_type": "code",
   "execution_count": null,
   "id": "64a4fdb0",
   "metadata": {},
   "outputs": [],
   "source": [
    "adata2t = adatat.reshape(-1, ellwat)\n",
    "adata2t"
   ]
  },
  {
   "cell_type": "code",
   "execution_count": null,
   "id": "3b8f6062",
   "metadata": {},
   "outputs": [],
   "source": [
    "resat = resat.reshape(-1, ellwat)\n",
    "resat"
   ]
  },
  {
   "cell_type": "code",
   "execution_count": null,
   "id": "eb51f891",
   "metadata": {},
   "outputs": [],
   "source": [
    "resat - adata2t"
   ]
  },
  {
   "cell_type": "code",
   "execution_count": null,
   "id": "f7e150fe",
   "metadata": {},
   "outputs": [],
   "source": [
    "acols"
   ]
  },
  {
   "cell_type": "code",
   "execution_count": null,
   "id": "8f1f18f1",
   "metadata": {},
   "outputs": [],
   "source": [
    "resaidx"
   ]
  },
  {
   "cell_type": "code",
   "execution_count": null,
   "id": "bd326e73",
   "metadata": {},
   "outputs": [],
   "source": [
    "resannz"
   ]
  },
  {
   "cell_type": "code",
   "execution_count": null,
   "id": "357413c1",
   "metadata": {},
   "outputs": [],
   "source": [
    "annz"
   ]
  },
  {
   "cell_type": "markdown",
   "id": "7f618bfd",
   "metadata": {},
   "source": [
    "# OTHER"
   ]
  },
  {
   "cell_type": "markdown",
   "id": "28fd6b45",
   "metadata": {},
   "source": [
    "import numpy as np\n",
    "import pyopencl as cl\n",
    "\n",
    "mf = cl.mem_flags"
   ]
  },
  {
   "cell_type": "markdown",
   "id": "ebed13d1",
   "metadata": {},
   "source": [
    "dim = 16\n",
    "topk = 4\n",
    "\n",
    "x = np.random.rand(dim).astype(np.float32)\n",
    "y = np.random.rand(dim).astype(np.float32)\n",
    "x.shape,y.shape"
   ]
  },
  {
   "cell_type": "markdown",
   "id": "444a4a7f",
   "metadata": {},
   "source": [
    "dim1 = 4\n",
    "dim2 = 8\n",
    "dim3 = 1\n",
    "\n",
    "ctx = cl.create_some_context()\n",
    "queue = cl.CommandQueue(ctx,\n",
    "        properties=cl.command_queue_properties.PROFILING_ENABLE)\n",
    "\n",
    "sparsity = 0.2\n",
    "\n",
    "a = np.zeros((dim1,dim2))\n",
    "b = np.random.rand(dim2,dim3).flatten().astype(np.float32)\n",
    "\n",
    "a.shape, b.shape"
   ]
  },
  {
   "cell_type": "code",
   "execution_count": null,
   "id": "e2d4594d",
   "metadata": {},
   "outputs": [],
   "source": [
    "x_buf = cl.Buffer(ctx, mf.READ_ONLY | mf.COPY_HOST_PTR, hostbuf=x)\n",
    "y_buf = cl.Buffer(ctx, mf.READ_ONLY | mf.COPY_HOST_PTR, hostbuf=y)\n",
    "val_out_buf = cl.Buffer(ctx, mf.READ_WRITE, 4*topk*topk)\n",
    "x_idx_buf = cl.Buffer(ctx, mf.READ_WRITE, topk*4)\n",
    "y_idx_buf = cl.Buffer(ctx, mf.READ_WRITE, topk*4)\n",
    "\n",
    "prg = cl.Program(ctx, \"\"\"\n",
    "// Every global_id_0 works on a row\n",
    "__kernel void genwupdate2(__global  float* x,     // INPUT MATRIX DATA\n",
    "                         __global  float* y,    // INPUT\n",
    "                         __global  float* xout,    // INPUT\n",
    "                         uint topk,\n",
    "                         __global  uint* xoutidx,    // INPUT\n",
    "                         __global  uint* youtidx    // INPUT\n",
    "                        ) { // LOCAL SHARED BUFFER\n",
    "  uint gid = get_global_id(0);\n",
    "  uint n = get_global_size(0);\n",
    "  \n",
    "  xout[gid] = x[gid];\n",
    "  xoutidx[gid] = gid;\n",
    "  youtidx[gid] = gid;\n",
    "  \n",
    "  float valx = x[gid];\n",
    "  float valy = y[gid];\n",
    "  uint posx = 0;\n",
    "  uint posy = 0;\n",
    "  for (uint i = 0; i < n; i++) {\n",
    "    float tempval = x[i];\n",
    "    float tempval2 = y[i];\n",
    "    bool larger = tempval > valx;\n",
    "    bool larger2 = tempval2 > valy;\n",
    "      \n",
    "    posx += (larger)?1:0;\n",
    "    posy += (larger2)?1:0;\n",
    "  }\n",
    "  //printf(\"posx:%i\", posx);\n",
    "  if (posx < topk) {\n",
    "    xoutidx[posx] = gid;\n",
    "  }\n",
    "  if (posy < topk) {\n",
    "    youtidx[posy] = gid;\n",
    "  }\n",
    "  if (gid < topk) {\n",
    "    uint i = gid;\n",
    "    for (uint j=0; j<topk; j++) {\n",
    "      xout[gid*topk+j] = x[xoutidx[gid]] * y[youtidx[j]];\n",
    "    }\n",
    "  }\n",
    "}\"\"\").build()"
   ]
  },
  {
   "cell_type": "code",
   "execution_count": null,
   "id": "f45b3b69",
   "metadata": {},
   "outputs": [],
   "source": [
    "knl = prg.genwupdate2  # Use this Kernel object for repeated calls\n",
    "event = knl(queue, [dim,], None, x_buf, y_buf, val_out_buf, np.uint32(topk), x_idx_buf, y_idx_buf)\n",
    "\n",
    "#event.wait()\n",
    "val_out = np.zeros(topk*topk).astype(np.float32)\n",
    "resxidx = np.zeros(topk).astype(np.uint32)\n",
    "resyidx = np.zeros(topk).astype(np.uint32)\n",
    "\n",
    "cl.enqueue_copy(queue, val_out, val_out_buf)\n",
    "cl.enqueue_copy(queue, resxidx, x_idx_buf, wait_for=[event])\n",
    "cl.enqueue_copy(queue, resyidx, y_idx_buf)"
   ]
  },
  {
   "cell_type": "code",
   "execution_count": null,
   "id": "d883394f",
   "metadata": {},
   "outputs": [],
   "source": [
    "val_out"
   ]
  },
  {
   "cell_type": "code",
   "execution_count": null,
   "id": "2335cf69",
   "metadata": {},
   "outputs": [],
   "source": [
    "resxidx"
   ]
  },
  {
   "cell_type": "code",
   "execution_count": null,
   "id": "5e714f2a",
   "metadata": {},
   "outputs": [],
   "source": [
    "resyidx"
   ]
  },
  {
   "cell_type": "code",
   "execution_count": null,
   "id": "f246c208",
   "metadata": {},
   "outputs": [],
   "source": [
    "asdf"
   ]
  },
  {
   "cell_type": "code",
   "execution_count": null,
   "id": "02a5c5dd",
   "metadata": {},
   "outputs": [],
   "source": [
    "from __future__ import division\n",
    "\n",
    "KERNEL_CODE = \"\"\"\n",
    "// Thread block size\n",
    "#define BLOCK_SIZE %(block_size)d\n",
    "// Matrix dimensions\n",
    "// (chosen as multiples of the thread block size for simplicity)\n",
    "#define WA %(w_a)d // Matrix A width\n",
    "#define HA %(h_a)d // Matrix A height\n",
    "#define WB %(w_b)d // Matrix B width\n",
    "#define HB WA  // Matrix B height\n",
    "#define WC WB  // Matrix C width\n",
    "#define HC HA  // Matrix C height\n",
    "/*\n",
    " * Copyright 1993-2009 NVIDIA Corporation.  All rights reserved.\n",
    " *\n",
    " * NVIDIA Corporation and its licensors retain all intellectual property and\n",
    " * proprietary rights in and to this software and related documentation.\n",
    " * Any use, reproduction, disclosure, or distribution of this software\n",
    " * and related documentation without an express license agreement from\n",
    " * NVIDIA Corporation is strictly prohibited.\n",
    " *\n",
    " * Please refer to the applicable NVIDIA end user license agreement (EULA)\n",
    " * associated with this source code for terms and conditions that govern\n",
    " * your use of this NVIDIA software.\n",
    " *\n",
    " */\n",
    "/* Matrix multiplication: C = A * B.\n",
    " * Device code.\n",
    " */\n",
    "#define AS(j, i) As[i + j * BLOCK_SIZE]\n",
    "#define BS(j, i) Bs[i + j * BLOCK_SIZE]\n",
    "////////////////////////////////////////////////////////////////////////////////\n",
    "//! Matrix multiplication on the device: C = A * B\n",
    "//! WA is A's width and WB is B's width\n",
    "////////////////////////////////////////////////////////////////////////////////\n",
    "__kernel __attribute__((reqd_work_group_size(16,16,1))) \n",
    "void\n",
    "matrixMul( __global float* C, __global float* A, __global float* B)\n",
    "{\n",
    "    __local float As[BLOCK_SIZE*BLOCK_SIZE];\n",
    "    __local float Bs[BLOCK_SIZE*BLOCK_SIZE];\n",
    "    // Block index\n",
    "    int bx = get_group_id(0);\n",
    "    int by = get_group_id(1);\n",
    "    // Thread index\n",
    "    int tx = get_local_id(0);\n",
    "    int ty = get_local_id(1);\n",
    "    // Index of the first sub-matrix of A processed by the block\n",
    "    int aBegin = WA * BLOCK_SIZE * by;\n",
    "    // Index of the last sub-matrix of A processed by the block\n",
    "    int aEnd   = aBegin + WA - 1;\n",
    "    // Step size used to iterate through the sub-matrices of A\n",
    "    int aStep  = BLOCK_SIZE;\n",
    "    // Index of the first sub-matrix of B processed by the block\n",
    "    int bBegin = BLOCK_SIZE * bx;\n",
    "    // Step size used to iterate through the sub-matrices of B\n",
    "    int bStep  = BLOCK_SIZE * WB;\n",
    "    // Csub is used to store the element of the block sub-matrix\n",
    "    // that is computed by the thread\n",
    "    float Csub = 0.0f;\n",
    "    // Loop over all the sub-matrices of A and B\n",
    "    // required to compute the block sub-matrix\n",
    "    for (int a = aBegin, b = bBegin;\n",
    "             a <= aEnd;\n",
    "             a += aStep, b += bStep) {\n",
    "        // Load the matrices from device memory\n",
    "        // to shared memory; each thread loads\n",
    "        // one element of each matrix\n",
    "        AS(ty, tx) = A[a + WA * ty + tx];\n",
    "        BS(ty, tx) = B[b + WB * ty + tx];\n",
    "        // Synchronize to make sure the matrices are loaded\n",
    "        barrier(CLK_LOCAL_MEM_FENCE);\n",
    "        // Multiply the two matrices together;\n",
    "        // each thread computes one element\n",
    "        // of the block sub-matrix\n",
    "        for (int k = 0; k < BLOCK_SIZE; ++k)\n",
    "            Csub += AS(ty, k) * BS(k, tx);\n",
    "        // Synchronize to make sure that the preceding\n",
    "        // computation is done before loading two new\n",
    "        // sub-matrices of A and B in the next iteration\n",
    "        barrier(CLK_LOCAL_MEM_FENCE);\n",
    "    }\n",
    "    // Write the block sub-matrix to device memory;\n",
    "    // each thread writes one element\n",
    "    C[get_global_id(1) * get_global_size(0) + get_global_id(0)] = Csub;\n",
    "}\n",
    "\"\"\"\n"
   ]
  },
  {
   "cell_type": "code",
   "execution_count": null,
   "id": "c1eb509e",
   "metadata": {},
   "outputs": [],
   "source": []
  },
  {
   "cell_type": "code",
   "execution_count": null,
   "id": "9a61206e",
   "metadata": {},
   "outputs": [],
   "source": []
  },
  {
   "cell_type": "code",
   "execution_count": null,
   "id": "77b4a04e",
   "metadata": {},
   "outputs": [],
   "source": [
    "a2 = np.random.rand(4,4)"
   ]
  },
  {
   "cell_type": "code",
   "execution_count": null,
   "id": "a0521855",
   "metadata": {},
   "outputs": [],
   "source": [
    "a2"
   ]
  },
  {
   "cell_type": "code",
   "execution_count": null,
   "id": "455a9049",
   "metadata": {},
   "outputs": [],
   "source": [
    "a2.sum(axis=1)"
   ]
  },
  {
   "cell_type": "code",
   "execution_count": null,
   "id": "5a54a3e3",
   "metadata": {},
   "outputs": [],
   "source": [
    "b2 = np.random.rand(4,4)"
   ]
  },
  {
   "cell_type": "code",
   "execution_count": null,
   "id": "e231268f",
   "metadata": {},
   "outputs": [],
   "source": [
    "b2"
   ]
  },
  {
   "cell_type": "code",
   "execution_count": null,
   "id": "625b7a07",
   "metadata": {},
   "outputs": [],
   "source": [
    "b2.sum(axis=0)"
   ]
  },
  {
   "cell_type": "code",
   "execution_count": null,
   "id": "5191e569",
   "metadata": {},
   "outputs": [],
   "source": [
    "matmul = a2.dot(b2)\n",
    "matmul"
   ]
  },
  {
   "cell_type": "code",
   "execution_count": null,
   "id": "b3a24c19",
   "metadata": {},
   "outputs": [],
   "source": []
  },
  {
   "cell_type": "code",
   "execution_count": null,
   "id": "6519eb75",
   "metadata": {},
   "outputs": [],
   "source": []
  },
  {
   "cell_type": "code",
   "execution_count": null,
   "id": "16d754cb",
   "metadata": {},
   "outputs": [],
   "source": []
  },
  {
   "cell_type": "code",
   "execution_count": null,
   "id": "c91d5425",
   "metadata": {},
   "outputs": [],
   "source": []
  },
  {
   "cell_type": "code",
   "execution_count": null,
   "id": "d9f4a6f0",
   "metadata": {},
   "outputs": [],
   "source": []
  },
  {
   "cell_type": "code",
   "execution_count": null,
   "id": "9f708713",
   "metadata": {},
   "outputs": [],
   "source": []
  },
  {
   "cell_type": "code",
   "execution_count": null,
   "id": "e59475d1",
   "metadata": {},
   "outputs": [],
   "source": []
  },
  {
   "cell_type": "code",
   "execution_count": null,
   "id": "3dd6c3a3",
   "metadata": {},
   "outputs": [],
   "source": []
  },
  {
   "cell_type": "code",
   "execution_count": null,
   "id": "7e83b426",
   "metadata": {},
   "outputs": [],
   "source": []
  },
  {
   "cell_type": "code",
   "execution_count": null,
   "id": "af6af470",
   "metadata": {},
   "outputs": [],
   "source": []
  },
  {
   "cell_type": "code",
   "execution_count": null,
   "id": "e2b3a039",
   "metadata": {},
   "outputs": [],
   "source": []
  },
  {
   "cell_type": "code",
   "execution_count": null,
   "id": "2da19095",
   "metadata": {},
   "outputs": [],
   "source": []
  }
 ],
 "metadata": {
  "kernelspec": {
   "display_name": "Python 3",
   "language": "python",
   "name": "python3"
  },
  "language_info": {
   "codemirror_mode": {
    "name": "ipython",
    "version": 3
   },
   "file_extension": ".py",
   "mimetype": "text/x-python",
   "name": "python",
   "nbconvert_exporter": "python",
   "pygments_lexer": "ipython3",
   "version": "3.8.12"
  }
 },
 "nbformat": 4,
 "nbformat_minor": 5
}
