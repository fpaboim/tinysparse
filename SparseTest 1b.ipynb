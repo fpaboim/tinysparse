{
 "cells": [
  {
   "cell_type": "code",
   "execution_count": 1,
   "id": "4309590e",
   "metadata": {},
   "outputs": [
    {
     "name": "stdout",
     "output_type": "stream",
     "text": [
      "DEVICE:GPU\n"
     ]
    }
   ],
   "source": [
    "from tinygrad.densetensor import DenseTensor\n",
    "from tinygrad.sparsetensor import SparseTensor\n",
    "import numpy as np\n",
    "\n",
    "%load_ext autoreload\n",
    "%autoreload 2"
   ]
  },
  {
   "cell_type": "code",
   "execution_count": 2,
   "id": "4cb532fa",
   "metadata": {},
   "outputs": [],
   "source": [
    "x_init = np.random.randn(2,6).astype(np.float32)\n",
    "x2_init = np.random.randn(3).astype(np.float32)\n",
    "U_init = np.random.randn(3,3).astype(np.float32)\n",
    "V_init = np.random.randn(3,3).astype(np.float32)\n",
    "W_init = np.random.randn(6,3).astype(np.float32)\n",
    "m_init = np.random.randn(1,3).astype(np.float32)"
   ]
  },
  {
   "cell_type": "code",
   "execution_count": 3,
   "id": "3fb8a745",
   "metadata": {},
   "outputs": [
    {
     "data": {
      "text/plain": [
       "(array([3.50286], dtype=float32),\n",
       " <DenseTensor <GPUBuffer with shape (2, 6)> with grad <GPUBuffer with shape (2, 6)>>)"
      ]
     },
     "execution_count": 3,
     "metadata": {},
     "output_type": "execute_result"
    }
   ],
   "source": [
    "x = DenseTensor(x_init)\n",
    "W = DenseTensor(W_init)\n",
    "m = DenseTensor(m_init)\n",
    "out = x.dot(W).relu()\n",
    "out = out.logsoftmax()\n",
    "out = out.mul(m).add(m).sum()\n",
    "out.backward()\n",
    "\n",
    "out.cpu().data, x"
   ]
  },
  {
   "cell_type": "markdown",
   "id": "62d0edbe",
   "metadata": {
    "scrolled": true
   },
   "source": [
    "x2 = DenseTensor(x2_init)#.gpu()\n",
    "W = SparseTensor(W_init)\n",
    "out = W.dot(x2).relu().sum()\n",
    "\n",
    "out.backward()\n",
    "\n",
    "out.cpu().data, x"
   ]
  },
  {
   "cell_type": "code",
   "execution_count": 4,
   "id": "c3d0659d",
   "metadata": {},
   "outputs": [],
   "source": [
    "import numpy as np\n",
    "import pyopencl as cl\n",
    "\n",
    "mf = cl.mem_flags"
   ]
  },
  {
   "cell_type": "code",
   "execution_count": 5,
   "id": "a0cc978b",
   "metadata": {},
   "outputs": [
    {
     "data": {
      "text/plain": [
       "((8, 10), (10, 10))"
      ]
     },
     "execution_count": 5,
     "metadata": {},
     "output_type": "execute_result"
    }
   ],
   "source": [
    "dim1 = 8\n",
    "dim2 = 10\n",
    "dim3 = 10\n",
    "bs = dim3\n",
    "\n",
    "ctx = cl.create_some_context()\n",
    "queue = cl.CommandQueue(ctx,\n",
    "        properties=cl.command_queue_properties.PROFILING_ENABLE)\n",
    "\n",
    "sparsity = 0.3\n",
    "\n",
    "a = np.zeros((dim1,dim2))\n",
    "b = np.zeros((dim2,dim3)).astype(np.float32)\n",
    "\n",
    "a.shape, b.shape"
   ]
  },
  {
   "cell_type": "code",
   "execution_count": 6,
   "id": "7ecf7a2b",
   "metadata": {},
   "outputs": [],
   "source": [
    "def fill_sparse(mat, sparsity=0.1):\n",
    "    indices = np.array(range(mat.shape[1]))\n",
    "    nrows = int(mat.shape[1]*sparsity)\n",
    "    for row in range(mat.shape[0]):\n",
    "        lim = nrows #+ int(np.random.random()*3)\n",
    "        mat[row][np.random.permutation(indices)[:lim]] = np.random.random(lim)\n",
    "    return mat\n",
    "\n",
    "a = fill_sparse(a, sparsity).astype(np.float32)\n",
    "b = fill_sparse(b, sparsity).astype(np.float32)"
   ]
  },
  {
   "cell_type": "code",
   "execution_count": 7,
   "id": "b32f0e9a",
   "metadata": {},
   "outputs": [
    {
     "data": {
      "text/plain": [
       "array([[0.        , 0.65016776, 0.        , 0.        , 0.        ,\n",
       "        0.06761027, 0.        , 0.        , 0.        , 0.23628017],\n",
       "       [0.        , 0.        , 0.5084803 , 0.        , 0.        ,\n",
       "        0.34252685, 0.        , 0.        , 0.27032706, 0.        ],\n",
       "       [0.        , 0.        , 0.        , 0.        , 0.        ,\n",
       "        0.08024875, 0.        , 0.        , 0.18381113, 0.4889689 ],\n",
       "       [0.8412975 , 0.6849782 , 0.        , 0.        , 0.        ,\n",
       "        0.        , 0.        , 0.772927  , 0.        , 0.        ],\n",
       "       [0.        , 0.        , 0.4728516 , 0.        , 0.        ,\n",
       "        0.        , 0.01464626, 0.3587053 , 0.        , 0.        ],\n",
       "       [0.        , 0.        , 0.        , 0.47683263, 0.25351405,\n",
       "        0.        , 0.4009562 , 0.        , 0.        , 0.        ],\n",
       "       [0.        , 0.        , 0.45469493, 0.5383059 , 0.        ,\n",
       "        0.        , 0.        , 0.        , 0.7299876 , 0.        ],\n",
       "       [0.        , 0.        , 0.08121876, 0.        , 0.        ,\n",
       "        0.        , 0.        , 0.        , 0.45099235, 0.99066746]],\n",
       "      dtype=float32)"
      ]
     },
     "execution_count": 7,
     "metadata": {},
     "output_type": "execute_result"
    }
   ],
   "source": [
    "a"
   ]
  },
  {
   "cell_type": "code",
   "execution_count": 8,
   "id": "d286d740",
   "metadata": {},
   "outputs": [
    {
     "data": {
      "text/plain": [
       "array([[0.75117236, 0.7945494 , 0.        , 0.        , 0.        ,\n",
       "        0.        , 0.        , 0.        , 0.9490217 , 0.        ],\n",
       "       [0.        , 0.        , 0.        , 0.        , 0.8788032 ,\n",
       "        0.1774507 , 0.        , 0.        , 0.        , 0.6388085 ],\n",
       "       [0.        , 0.33798793, 0.93226814, 0.        , 0.        ,\n",
       "        0.        , 0.        , 0.7023786 , 0.        , 0.        ],\n",
       "       [0.        , 0.        , 0.        , 0.688783  , 0.        ,\n",
       "        0.        , 0.48542064, 0.        , 0.57669175, 0.        ],\n",
       "       [0.        , 0.18359001, 0.        , 0.        , 0.        ,\n",
       "        0.16124414, 0.        , 0.9751223 , 0.        , 0.        ],\n",
       "       [0.        , 0.        , 0.        , 0.        , 0.3160544 ,\n",
       "        0.        , 0.73630196, 0.        , 0.35920757, 0.        ],\n",
       "       [0.        , 0.92205393, 0.        , 0.        , 0.        ,\n",
       "        0.        , 0.        , 0.        , 0.19356503, 0.94503564],\n",
       "       [0.        , 0.        , 0.16653366, 0.62377596, 0.        ,\n",
       "        0.        , 0.        , 0.        , 0.52267253, 0.        ],\n",
       "       [0.        , 0.        , 0.        , 0.92419297, 0.        ,\n",
       "        0.7609189 , 0.04974846, 0.        , 0.        , 0.        ],\n",
       "       [0.        , 0.        , 0.00879541, 0.10269472, 0.        ,\n",
       "        0.        , 0.91930735, 0.        , 0.        , 0.        ]],\n",
       "      dtype=float32)"
      ]
     },
     "execution_count": 8,
     "metadata": {},
     "output_type": "execute_result"
    }
   ],
   "source": [
    "b"
   ]
  },
  {
   "cell_type": "code",
   "execution_count": 9,
   "id": "45c14776",
   "metadata": {},
   "outputs": [
    {
     "data": {
      "text/plain": [
       "array([ 1.3979933 , -0.70967513, -2.112906  ], dtype=float32)"
      ]
     },
     "execution_count": 9,
     "metadata": {},
     "output_type": "execute_result"
    }
   ],
   "source": [
    "x2_init.T"
   ]
  },
  {
   "cell_type": "code",
   "execution_count": 10,
   "id": "6b2b88a2",
   "metadata": {},
   "outputs": [
    {
     "data": {
      "text/plain": [
       "(8, 10)"
      ]
     },
     "execution_count": 10,
     "metadata": {},
     "output_type": "execute_result"
    }
   ],
   "source": [
    "mult = a.dot(b)\n",
    "mult.shape"
   ]
  },
  {
   "cell_type": "code",
   "execution_count": 11,
   "id": "d33049e0",
   "metadata": {},
   "outputs": [
    {
     "data": {
      "text/plain": [
       "(8, 10)"
      ]
     },
     "execution_count": 11,
     "metadata": {},
     "output_type": "execute_result"
    }
   ],
   "source": [
    "mult.shape"
   ]
  },
  {
   "cell_type": "code",
   "execution_count": 12,
   "id": "67872651",
   "metadata": {},
   "outputs": [],
   "source": [
    "def to_data(mat):\n",
    "    all_rows = []\n",
    "    all_idxs = []\n",
    "    all_nnzs = []\n",
    "    for row in range(mat.shape[0]):\n",
    "        rowdata = []\n",
    "        colidxs = []\n",
    "        all_nnzs.append(0)\n",
    "        for col in range(mat.shape[1]):\n",
    "            val = mat[row][col]\n",
    "            if val != 0:\n",
    "                rowdata.append(val)\n",
    "                colidxs.append(col)\n",
    "                all_nnzs[-1] += 1\n",
    "        all_rows.append(rowdata)\n",
    "        all_idxs.append(colidxs)\n",
    "    \n",
    "    ellwidth = min(int(np.sqrt(np.max(all_nnzs))+1)**2, mat.shape[1])\n",
    "    #all_rows = np.array(all_rows)#.astype(np.float32).flatten()           \n",
    "    for row in range(mat.shape[0]):\n",
    "        #print(row, all_rows)\n",
    "        all_rows[row] = np.array(all_rows[row])\n",
    "        all_rows[row].resize(ellwidth)\n",
    "        all_idxs[row] = np.array(all_idxs[row])\n",
    "        all_idxs[row].resize(ellwidth)\n",
    "        #print(all_idxs[row])\n",
    "    all_rows = np.array(all_rows)\n",
    "    all_idxs = np.array(all_idxs)\n",
    "    all_nnzs = np.array(all_nnzs)\n",
    "    \n",
    "    while (not all_rows[:,-1].any()):\n",
    "        all_rows = all_rows[:,:-1]\n",
    "        all_idxs = all_idxs[:,:-1]\n",
    "        ellwidth -= 1\n",
    "        \n",
    "    \n",
    "    all_rows = np.array(all_rows).astype(np.float32).flatten()\n",
    "    all_idxs = np.array(all_idxs).astype(np.uint32).flatten()\n",
    "    \n",
    "    all_nnzs = np.array(all_nnzs).astype(np.uint32)\n",
    "    \n",
    "    \n",
    "    return all_rows, all_idxs, all_nnzs, ellwidth"
   ]
  },
  {
   "cell_type": "code",
   "execution_count": 13,
   "id": "3cc9dd5d",
   "metadata": {},
   "outputs": [],
   "source": [
    "def to_dense(data, cols, nnzs, ellw, shape):\n",
    "    out = np.zeros(shape)\n",
    "    for row in range(shape[0]):\n",
    "        for icol in range(nnzs[row]):\n",
    "            out[row,cols[row*ellw+icol]] = data[row*ellw+icol]\n",
    "    return out"
   ]
  },
  {
   "cell_type": "code",
   "execution_count": 14,
   "id": "5c9c6134",
   "metadata": {},
   "outputs": [
    {
     "data": {
      "text/plain": [
       "(array([0.65016776, 0.06761027, 0.23628017, 0.        , 0.        ,\n",
       "        0.        , 0.        , 0.        , 0.        , 0.        ,\n",
       "        0.5084803 , 0.34252685, 0.27032706, 0.        , 0.        ,\n",
       "        0.        , 0.        , 0.        , 0.        , 0.        ,\n",
       "        0.08024875, 0.18381113, 0.4889689 , 0.        , 0.        ,\n",
       "        0.        , 0.        , 0.        , 0.        , 0.        ,\n",
       "        0.8412975 , 0.6849782 , 0.772927  , 0.        , 0.        ,\n",
       "        0.        , 0.        , 0.        , 0.        , 0.        ,\n",
       "        0.4728516 , 0.01464626, 0.3587053 , 0.        , 0.        ,\n",
       "        0.        , 0.        , 0.        , 0.        , 0.        ,\n",
       "        0.47683263, 0.25351405, 0.4009562 , 0.        , 0.        ,\n",
       "        0.        , 0.        , 0.        , 0.        , 0.        ,\n",
       "        0.45469493, 0.5383059 , 0.7299876 , 0.        , 0.        ,\n",
       "        0.        , 0.        , 0.        , 0.        , 0.        ,\n",
       "        0.08121876, 0.45099235, 0.99066746, 0.        , 0.        ,\n",
       "        0.        , 0.        , 0.        , 0.        , 0.        ],\n",
       "       dtype=float32),\n",
       " array([1, 5, 9, 0, 0, 0, 0, 0, 0, 0, 2, 5, 8, 0, 0, 0, 0, 0, 0, 0, 5, 8,\n",
       "        9, 0, 0, 0, 0, 0, 0, 0, 0, 1, 7, 0, 0, 0, 0, 0, 0, 0, 2, 6, 7, 0,\n",
       "        0, 0, 0, 0, 0, 0, 3, 4, 6, 0, 0, 0, 0, 0, 0, 0, 2, 3, 8, 0, 0, 0,\n",
       "        0, 0, 0, 0, 2, 8, 9, 0, 0, 0, 0, 0, 0, 0], dtype=uint32),\n",
       " array([3, 3, 3, 3, 3, 3, 3, 3], dtype=uint32),\n",
       " 10)"
      ]
     },
     "execution_count": 14,
     "metadata": {},
     "output_type": "execute_result"
    }
   ],
   "source": [
    "adata, acols, annz, ellwa = to_data(a)\n",
    "adata, acols, annz, ellwa"
   ]
  },
  {
   "cell_type": "code",
   "execution_count": 15,
   "id": "333f732b",
   "metadata": {},
   "outputs": [
    {
     "data": {
      "text/plain": [
       "(array([0.8412975 , 0.        , 0.        , 0.        , 0.        ,\n",
       "        0.        , 0.        , 0.        , 0.        , 0.65016776,\n",
       "        0.6849782 , 0.        , 0.        , 0.        , 0.        ,\n",
       "        0.        , 0.        , 0.        , 0.5084803 , 0.4728516 ,\n",
       "        0.45469493, 0.08121876, 0.        , 0.        , 0.        ,\n",
       "        0.        , 0.        , 0.47683263, 0.5383059 , 0.        ,\n",
       "        0.        , 0.        , 0.        , 0.        , 0.        ,\n",
       "        0.        , 0.25351405, 0.        , 0.        , 0.        ,\n",
       "        0.        , 0.        , 0.        , 0.        , 0.        ,\n",
       "        0.06761027, 0.34252685, 0.08024875, 0.        , 0.        ,\n",
       "        0.        , 0.        , 0.        , 0.        , 0.01464626,\n",
       "        0.4009562 , 0.        , 0.        , 0.        , 0.        ,\n",
       "        0.        , 0.        , 0.        , 0.772927  , 0.3587053 ,\n",
       "        0.        , 0.        , 0.        , 0.        , 0.        ,\n",
       "        0.        , 0.        , 0.27032706, 0.18381113, 0.7299876 ,\n",
       "        0.45099235, 0.        , 0.        , 0.        , 0.        ,\n",
       "        0.        , 0.23628017, 0.4889689 , 0.99066746, 0.        ,\n",
       "        0.        , 0.        , 0.        , 0.        , 0.        ],\n",
       "       dtype=float32),\n",
       " array([3, 0, 0, 0, 0, 0, 0, 0, 0, 0, 3, 0, 0, 0, 0, 0, 0, 0, 1, 4, 6, 7,\n",
       "        0, 0, 0, 0, 0, 5, 6, 0, 0, 0, 0, 0, 0, 0, 5, 0, 0, 0, 0, 0, 0, 0,\n",
       "        0, 0, 1, 2, 0, 0, 0, 0, 0, 0, 4, 5, 0, 0, 0, 0, 0, 0, 0, 3, 4, 0,\n",
       "        0, 0, 0, 0, 0, 0, 1, 2, 6, 7, 0, 0, 0, 0, 0, 0, 2, 7, 0, 0, 0, 0,\n",
       "        0, 0], dtype=uint32),\n",
       " array([1, 2, 4, 2, 1, 3, 2, 2, 4, 3], dtype=uint32),\n",
       " 9)"
      ]
     },
     "execution_count": 15,
     "metadata": {},
     "output_type": "execute_result"
    }
   ],
   "source": [
    "adatat, acolst, annzt, ellwat = to_data(a.T)\n",
    "adatat, acolst, annzt, ellwat"
   ]
  },
  {
   "cell_type": "code",
   "execution_count": 16,
   "id": "3746b3f8",
   "metadata": {},
   "outputs": [
    {
     "data": {
      "text/plain": [
       "(array([0.75117236, 0.7945494 , 0.9490217 , 0.        , 0.        ,\n",
       "        0.        , 0.        , 0.        , 0.        , 0.        ,\n",
       "        0.8788032 , 0.1774507 , 0.6388085 , 0.        , 0.        ,\n",
       "        0.        , 0.        , 0.        , 0.        , 0.        ,\n",
       "        0.33798793, 0.93226814, 0.7023786 , 0.        , 0.        ,\n",
       "        0.        , 0.        , 0.        , 0.        , 0.        ,\n",
       "        0.688783  , 0.48542064, 0.57669175, 0.        , 0.        ,\n",
       "        0.        , 0.        , 0.        , 0.        , 0.        ,\n",
       "        0.18359001, 0.16124414, 0.9751223 , 0.        , 0.        ,\n",
       "        0.        , 0.        , 0.        , 0.        , 0.        ,\n",
       "        0.3160544 , 0.73630196, 0.35920757, 0.        , 0.        ,\n",
       "        0.        , 0.        , 0.        , 0.        , 0.        ,\n",
       "        0.92205393, 0.19356503, 0.94503564, 0.        , 0.        ,\n",
       "        0.        , 0.        , 0.        , 0.        , 0.        ,\n",
       "        0.16653366, 0.62377596, 0.52267253, 0.        , 0.        ,\n",
       "        0.        , 0.        , 0.        , 0.        , 0.        ,\n",
       "        0.92419297, 0.7609189 , 0.04974846, 0.        , 0.        ,\n",
       "        0.        , 0.        , 0.        , 0.        , 0.        ,\n",
       "        0.00879541, 0.10269472, 0.91930735, 0.        , 0.        ,\n",
       "        0.        , 0.        , 0.        , 0.        , 0.        ],\n",
       "       dtype=float32),\n",
       " array([0, 1, 8, 0, 0, 0, 0, 0, 0, 0, 4, 5, 9, 0, 0, 0, 0, 0, 0, 0, 1, 2,\n",
       "        7, 0, 0, 0, 0, 0, 0, 0, 3, 6, 8, 0, 0, 0, 0, 0, 0, 0, 1, 5, 7, 0,\n",
       "        0, 0, 0, 0, 0, 0, 4, 6, 8, 0, 0, 0, 0, 0, 0, 0, 1, 8, 9, 0, 0, 0,\n",
       "        0, 0, 0, 0, 2, 3, 8, 0, 0, 0, 0, 0, 0, 0, 3, 5, 6, 0, 0, 0, 0, 0,\n",
       "        0, 0, 2, 3, 6, 0, 0, 0, 0, 0, 0, 0], dtype=uint32),\n",
       " array([3, 3, 3, 3, 3, 3, 3, 3, 3, 3], dtype=uint32),\n",
       " 10)"
      ]
     },
     "execution_count": 16,
     "metadata": {},
     "output_type": "execute_result"
    }
   ],
   "source": [
    "bdata, bcols, bnnz, ellwb = to_data(b)\n",
    "bdata, bcols, bnnz, ellwb"
   ]
  },
  {
   "cell_type": "code",
   "execution_count": 17,
   "id": "2456f0d7",
   "metadata": {},
   "outputs": [
    {
     "data": {
      "text/plain": [
       "(array([0.8412975 , 0.        , 0.        , 0.        , 0.        ,\n",
       "        0.        , 0.        , 0.        , 0.        , 0.65016776,\n",
       "        0.6849782 , 0.        , 0.        , 0.        , 0.        ,\n",
       "        0.        , 0.        , 0.        , 0.5084803 , 0.4728516 ,\n",
       "        0.45469493, 0.08121876, 0.        , 0.        , 0.        ,\n",
       "        0.        , 0.        , 0.47683263, 0.5383059 , 0.        ,\n",
       "        0.        , 0.        , 0.        , 0.        , 0.        ,\n",
       "        0.        , 0.25351405, 0.        , 0.        , 0.        ,\n",
       "        0.        , 0.        , 0.        , 0.        , 0.        ,\n",
       "        0.06761027, 0.34252685, 0.08024875, 0.        , 0.        ,\n",
       "        0.        , 0.        , 0.        , 0.        , 0.01464626,\n",
       "        0.4009562 , 0.        , 0.        , 0.        , 0.        ,\n",
       "        0.        , 0.        , 0.        , 0.772927  , 0.3587053 ,\n",
       "        0.        , 0.        , 0.        , 0.        , 0.        ,\n",
       "        0.        , 0.        , 0.27032706, 0.18381113, 0.7299876 ,\n",
       "        0.45099235, 0.        , 0.        , 0.        , 0.        ,\n",
       "        0.        , 0.23628017, 0.4889689 , 0.99066746, 0.        ,\n",
       "        0.        , 0.        , 0.        , 0.        , 0.        ],\n",
       "       dtype=float32),\n",
       " array([0, 0, 0, 0, 0, 0, 0, 0, 0, 0, 0, 2, 4, 6, 0, 0, 0, 0, 0, 0, 2, 7,\n",
       "        9, 0, 0, 0, 0, 0, 0, 0, 3, 7, 8, 9, 0, 0, 0, 0, 0, 0, 1, 5, 0, 0,\n",
       "        0, 0, 0, 0, 0, 0, 1, 4, 8, 0, 0, 0, 0, 0, 0, 0, 3, 5, 8, 9, 0, 0,\n",
       "        0, 0, 0, 0, 2, 4, 0, 0, 0, 0, 0, 0, 0, 0, 0, 3, 5, 6, 7, 0, 0, 0,\n",
       "        0, 0, 1, 6, 0, 0, 0, 0, 0, 0, 0, 0], dtype=uint32),\n",
       " array([1, 4, 3, 4, 2, 3, 4, 2, 5, 2], dtype=uint32),\n",
       " 10)"
      ]
     },
     "execution_count": 17,
     "metadata": {},
     "output_type": "execute_result"
    }
   ],
   "source": [
    "bdatat, bcolst, bnnzt, ellwbt = to_data(b.T)\n",
    "adatat, bcolst, bnnzt, ellwbt"
   ]
  },
  {
   "cell_type": "code",
   "execution_count": 18,
   "id": "a21f8921",
   "metadata": {},
   "outputs": [],
   "source": [
    "adense = to_dense(adata, acols, annz, ellwa, a.shape)"
   ]
  },
  {
   "cell_type": "code",
   "execution_count": 19,
   "id": "afddd45e",
   "metadata": {},
   "outputs": [],
   "source": [
    "adenset = to_dense(adatat, acolst, annzt, ellwat, a.T.shape)"
   ]
  },
  {
   "cell_type": "code",
   "execution_count": 20,
   "id": "265ef0d4",
   "metadata": {},
   "outputs": [],
   "source": [
    "bdense = to_dense(bdata, bcols, bnnz, ellwb, b.shape)"
   ]
  },
  {
   "cell_type": "code",
   "execution_count": 21,
   "id": "409da6b5",
   "metadata": {},
   "outputs": [],
   "source": [
    "bdenset = to_dense(bdatat, bcolst, bnnzt, ellwbt, b.T.shape)"
   ]
  },
  {
   "cell_type": "code",
   "execution_count": 22,
   "id": "1c04d184",
   "metadata": {},
   "outputs": [
    {
     "data": {
      "text/plain": [
       "array([[0.        , 0.65016776, 0.        , 0.        , 0.        ,\n",
       "        0.06761027, 0.        , 0.        , 0.        , 0.23628017],\n",
       "       [0.        , 0.        , 0.50848031, 0.        , 0.        ,\n",
       "        0.34252685, 0.        , 0.        , 0.27032706, 0.        ],\n",
       "       [0.        , 0.        , 0.        , 0.        , 0.        ,\n",
       "        0.08024875, 0.        , 0.        , 0.18381113, 0.48896891],\n",
       "       [0.84129751, 0.68497819, 0.        , 0.        , 0.        ,\n",
       "        0.        , 0.        , 0.77292699, 0.        , 0.        ],\n",
       "       [0.        , 0.        , 0.4728516 , 0.        , 0.        ,\n",
       "        0.        , 0.01464626, 0.35870531, 0.        , 0.        ],\n",
       "       [0.        , 0.        , 0.        , 0.47683263, 0.25351405,\n",
       "        0.        , 0.40095621, 0.        , 0.        , 0.        ],\n",
       "       [0.        , 0.        , 0.45469493, 0.53830588, 0.        ,\n",
       "        0.        , 0.        , 0.        , 0.72998762, 0.        ],\n",
       "       [0.        , 0.        , 0.08121876, 0.        , 0.        ,\n",
       "        0.        , 0.        , 0.        , 0.45099235, 0.99066746]])"
      ]
     },
     "execution_count": 22,
     "metadata": {},
     "output_type": "execute_result"
    }
   ],
   "source": [
    "adense"
   ]
  },
  {
   "cell_type": "code",
   "execution_count": 23,
   "id": "cae2f665",
   "metadata": {},
   "outputs": [
    {
     "data": {
      "text/plain": [
       "array([[ True,  True,  True,  True,  True,  True,  True,  True,  True,\n",
       "         True],\n",
       "       [ True,  True,  True,  True,  True,  True,  True,  True,  True,\n",
       "         True],\n",
       "       [ True,  True,  True,  True,  True,  True,  True,  True,  True,\n",
       "         True],\n",
       "       [ True,  True,  True,  True,  True,  True,  True,  True,  True,\n",
       "         True],\n",
       "       [ True,  True,  True,  True,  True,  True,  True,  True,  True,\n",
       "         True],\n",
       "       [ True,  True,  True,  True,  True,  True,  True,  True,  True,\n",
       "         True],\n",
       "       [ True,  True,  True,  True,  True,  True,  True,  True,  True,\n",
       "         True],\n",
       "       [ True,  True,  True,  True,  True,  True,  True,  True,  True,\n",
       "         True]])"
      ]
     },
     "execution_count": 23,
     "metadata": {},
     "output_type": "execute_result"
    }
   ],
   "source": [
    "adenset.T == adense"
   ]
  },
  {
   "cell_type": "code",
   "execution_count": 24,
   "id": "9f2ada6f",
   "metadata": {},
   "outputs": [
    {
     "data": {
      "text/plain": [
       "array([[ True,  True,  True,  True,  True,  True,  True,  True,  True,\n",
       "         True],\n",
       "       [ True,  True,  True,  True,  True,  True,  True,  True,  True,\n",
       "         True],\n",
       "       [ True,  True,  True,  True,  True,  True,  True,  True,  True,\n",
       "         True],\n",
       "       [ True,  True,  True,  True,  True,  True,  True,  True,  True,\n",
       "         True],\n",
       "       [ True,  True,  True,  True,  True,  True,  True,  True,  True,\n",
       "         True],\n",
       "       [ True,  True,  True,  True,  True,  True,  True,  True,  True,\n",
       "         True],\n",
       "       [ True,  True,  True,  True,  True,  True,  True,  True,  True,\n",
       "         True],\n",
       "       [ True,  True,  True,  True,  True,  True,  True,  True,  True,\n",
       "         True],\n",
       "       [ True,  True,  True,  True,  True,  True,  True,  True,  True,\n",
       "         True],\n",
       "       [ True,  True,  True,  True,  True,  True,  True,  True,  True,\n",
       "         True]])"
      ]
     },
     "execution_count": 24,
     "metadata": {},
     "output_type": "execute_result"
    }
   ],
   "source": [
    "bdenset.T == bdense"
   ]
  },
  {
   "cell_type": "code",
   "execution_count": 25,
   "id": "570652a8",
   "metadata": {},
   "outputs": [
    {
     "data": {
      "text/plain": [
       "array([[0.        , 0.65016776, 0.        , 0.        , 0.        ,\n",
       "        0.06761027, 0.        , 0.        , 0.        , 0.23628017],\n",
       "       [0.        , 0.        , 0.5084803 , 0.        , 0.        ,\n",
       "        0.34252685, 0.        , 0.        , 0.27032706, 0.        ],\n",
       "       [0.        , 0.        , 0.        , 0.        , 0.        ,\n",
       "        0.08024875, 0.        , 0.        , 0.18381113, 0.4889689 ],\n",
       "       [0.8412975 , 0.6849782 , 0.        , 0.        , 0.        ,\n",
       "        0.        , 0.        , 0.772927  , 0.        , 0.        ],\n",
       "       [0.        , 0.        , 0.4728516 , 0.        , 0.        ,\n",
       "        0.        , 0.01464626, 0.3587053 , 0.        , 0.        ],\n",
       "       [0.        , 0.        , 0.        , 0.47683263, 0.25351405,\n",
       "        0.        , 0.4009562 , 0.        , 0.        , 0.        ],\n",
       "       [0.        , 0.        , 0.45469493, 0.5383059 , 0.        ,\n",
       "        0.        , 0.        , 0.        , 0.7299876 , 0.        ],\n",
       "       [0.        , 0.        , 0.08121876, 0.        , 0.        ,\n",
       "        0.        , 0.        , 0.        , 0.45099235, 0.99066746]],\n",
       "      dtype=float32)"
      ]
     },
     "execution_count": 25,
     "metadata": {},
     "output_type": "execute_result"
    }
   ],
   "source": [
    "a"
   ]
  },
  {
   "cell_type": "code",
   "execution_count": 26,
   "id": "b3828f92",
   "metadata": {},
   "outputs": [
    {
     "data": {
      "text/plain": [
       "array([[ True,  True,  True,  True,  True,  True,  True,  True,  True,\n",
       "         True],\n",
       "       [ True,  True,  True,  True,  True,  True,  True,  True,  True,\n",
       "         True],\n",
       "       [ True,  True,  True,  True,  True,  True,  True,  True,  True,\n",
       "         True],\n",
       "       [ True,  True,  True,  True,  True,  True,  True,  True,  True,\n",
       "         True],\n",
       "       [ True,  True,  True,  True,  True,  True,  True,  True,  True,\n",
       "         True],\n",
       "       [ True,  True,  True,  True,  True,  True,  True,  True,  True,\n",
       "         True],\n",
       "       [ True,  True,  True,  True,  True,  True,  True,  True,  True,\n",
       "         True],\n",
       "       [ True,  True,  True,  True,  True,  True,  True,  True,  True,\n",
       "         True]])"
      ]
     },
     "execution_count": 26,
     "metadata": {},
     "output_type": "execute_result"
    }
   ],
   "source": [
    "a == adense"
   ]
  },
  {
   "cell_type": "code",
   "execution_count": 27,
   "id": "d8e29e3c",
   "metadata": {},
   "outputs": [
    {
     "data": {
      "text/plain": [
       "(8, 10)"
      ]
     },
     "execution_count": 27,
     "metadata": {},
     "output_type": "execute_result"
    }
   ],
   "source": [
    "a.shape"
   ]
  },
  {
   "cell_type": "code",
   "execution_count": 28,
   "id": "233fb7fe",
   "metadata": {},
   "outputs": [
    {
     "data": {
      "text/plain": [
       "((80,), (80,), (8,), 10)"
      ]
     },
     "execution_count": 28,
     "metadata": {},
     "output_type": "execute_result"
    }
   ],
   "source": [
    "adata.shape, acols.shape, annz.shape, ellwa"
   ]
  },
  {
   "cell_type": "code",
   "execution_count": 29,
   "id": "fbb29574",
   "metadata": {},
   "outputs": [],
   "source": [
    "#acols = acols.astype(np.uint32)\n",
    "#annz = annz.astype(np.uint32)"
   ]
  },
  {
   "cell_type": "code",
   "execution_count": 30,
   "id": "008c1a26",
   "metadata": {},
   "outputs": [
    {
     "data": {
      "text/plain": [
       "(array([0.65016776, 0.06761027, 0.23628017, 0.        , 0.        ,\n",
       "        0.        , 0.        , 0.        , 0.        , 0.        ,\n",
       "        0.5084803 , 0.34252685, 0.27032706, 0.        , 0.        ,\n",
       "        0.        , 0.        , 0.        , 0.        , 0.        ,\n",
       "        0.08024875, 0.18381113, 0.4889689 , 0.        , 0.        ,\n",
       "        0.        , 0.        , 0.        , 0.        , 0.        ,\n",
       "        0.8412975 , 0.6849782 , 0.772927  , 0.        , 0.        ,\n",
       "        0.        , 0.        , 0.        , 0.        , 0.        ,\n",
       "        0.4728516 , 0.01464626, 0.3587053 , 0.        , 0.        ,\n",
       "        0.        , 0.        , 0.        , 0.        , 0.        ,\n",
       "        0.47683263, 0.25351405, 0.4009562 , 0.        , 0.        ,\n",
       "        0.        , 0.        , 0.        , 0.        , 0.        ,\n",
       "        0.45469493, 0.5383059 , 0.7299876 , 0.        , 0.        ,\n",
       "        0.        , 0.        , 0.        , 0.        , 0.        ,\n",
       "        0.08121876, 0.45099235, 0.99066746, 0.        , 0.        ,\n",
       "        0.        , 0.        , 0.        , 0.        , 0.        ],\n",
       "       dtype=float32),\n",
       " array([1, 5, 9, 0, 0, 0, 0, 0, 0, 0, 2, 5, 8, 0, 0, 0, 0, 0, 0, 0, 5, 8,\n",
       "        9, 0, 0, 0, 0, 0, 0, 0, 0, 1, 7, 0, 0, 0, 0, 0, 0, 0, 2, 6, 7, 0,\n",
       "        0, 0, 0, 0, 0, 0, 3, 4, 6, 0, 0, 0, 0, 0, 0, 0, 2, 3, 8, 0, 0, 0,\n",
       "        0, 0, 0, 0, 2, 8, 9, 0, 0, 0, 0, 0, 0, 0], dtype=uint32),\n",
       " array([3, 3, 3, 3, 3, 3, 3, 3], dtype=uint32),\n",
       " array([[0.75117236, 0.7945494 , 0.        , 0.        , 0.        ,\n",
       "         0.        , 0.        , 0.        , 0.9490217 , 0.        ],\n",
       "        [0.        , 0.        , 0.        , 0.        , 0.8788032 ,\n",
       "         0.1774507 , 0.        , 0.        , 0.        , 0.6388085 ],\n",
       "        [0.        , 0.33798793, 0.93226814, 0.        , 0.        ,\n",
       "         0.        , 0.        , 0.7023786 , 0.        , 0.        ],\n",
       "        [0.        , 0.        , 0.        , 0.688783  , 0.        ,\n",
       "         0.        , 0.48542064, 0.        , 0.57669175, 0.        ],\n",
       "        [0.        , 0.18359001, 0.        , 0.        , 0.        ,\n",
       "         0.16124414, 0.        , 0.9751223 , 0.        , 0.        ],\n",
       "        [0.        , 0.        , 0.        , 0.        , 0.3160544 ,\n",
       "         0.        , 0.73630196, 0.        , 0.35920757, 0.        ],\n",
       "        [0.        , 0.92205393, 0.        , 0.        , 0.        ,\n",
       "         0.        , 0.        , 0.        , 0.19356503, 0.94503564],\n",
       "        [0.        , 0.        , 0.16653366, 0.62377596, 0.        ,\n",
       "         0.        , 0.        , 0.        , 0.52267253, 0.        ],\n",
       "        [0.        , 0.        , 0.        , 0.92419297, 0.        ,\n",
       "         0.7609189 , 0.04974846, 0.        , 0.        , 0.        ],\n",
       "        [0.        , 0.        , 0.00879541, 0.10269472, 0.        ,\n",
       "         0.        , 0.91930735, 0.        , 0.        , 0.        ]],\n",
       "       dtype=float32))"
      ]
     },
     "execution_count": 30,
     "metadata": {},
     "output_type": "execute_result"
    }
   ],
   "source": [
    "adata, acols, annz, b"
   ]
  },
  {
   "cell_type": "markdown",
   "id": "0c247b79",
   "metadata": {},
   "source": [
    "## MatMul (Sparse-Dense)"
   ]
  },
  {
   "cell_type": "markdown",
   "id": "aad78213",
   "metadata": {},
   "source": [
    "adata_buf = cl.Buffer(ctx, mf.READ_WRITE | mf.COPY_HOST_PTR, hostbuf=adata)\n",
    "acols_buf = cl.Buffer(ctx, mf.READ_WRITE | mf.COPY_HOST_PTR, hostbuf=acols)\n",
    "annzs_buf = cl.Buffer(ctx, mf.READ_WRITE | mf.COPY_HOST_PTR, hostbuf=annz)\n",
    "adatat_buf = cl.Buffer(ctx, mf.READ_WRITE | mf.COPY_HOST_PTR, hostbuf=adatat)\n",
    "acolst_buf = cl.Buffer(ctx, mf.READ_WRITE | mf.COPY_HOST_PTR, hostbuf=acolst)\n",
    "annzst_buf = cl.Buffer(ctx, mf.READ_WRITE | mf.COPY_HOST_PTR, hostbuf=annzt)\n",
    "b_buf = cl.Buffer(ctx, mf.READ_WRITE | mf.COPY_HOST_PTR, hostbuf=b)\n",
    "\n",
    "prg = cl.Program(ctx, \"\"\"\n",
    "    // SPARSE x DENSE\n",
    "    __kernel void matmul2(__global  float* matData,     // INPUT MATRIX DATA\n",
    "                            __global  uint*  colIdx,\n",
    "                            __global  uint*  rowNnz,\n",
    "                            uint   ellwidth,\n",
    "                            uint ncols,\n",
    "                            __global  float* vector_x,    // INPUT\n",
    "                            __global  float* vector_y    // OUTPUT\n",
    "                            ) { // LOCAL SHARED BUFFER\n",
    "      uint gid = get_global_id(0);\n",
    "      uint nrows = get_global_size(0);\n",
    "      \n",
    "\n",
    "      uint nnz    = rowNnz[gid];\n",
    "      float sum = 0;\n",
    "      for (uint gid2 = 0; gid2 < ncols; gid2++) {\n",
    "        for (uint i = 0; i < nnz; i++) {\n",
    "          uint index   = (gid * ellwidth) + i;\n",
    "          uint col     = colIdx[index];\n",
    "          float aval  = matData[index];\n",
    "          float xval  = vector_x[col*ncols+gid2];\n",
    "          //if (gid==0 && gid2==2)\n",
    "          //  printf(\"aval, xval: %.2f,%.2f: (%i,%i) \\\\n\", aval, xval, col, index);\n",
    "          sum  += aval * xval;\n",
    "        }\n",
    "        //printf(\"SUM/NNZ: %.2f %i \\\\n\", sum, nnz);\n",
    "        vector_y[gid*ncols+gid2] = sum;\n",
    "      }\n",
    "    }\"\"\").build()"
   ]
  },
  {
   "cell_type": "code",
   "execution_count": 31,
   "id": "fb0ca1f4",
   "metadata": {},
   "outputs": [],
   "source": [
    "adata_buf = cl.Buffer(ctx, mf.READ_WRITE | mf.COPY_HOST_PTR, hostbuf=adata)\n",
    "acols_buf = cl.Buffer(ctx, mf.READ_WRITE | mf.COPY_HOST_PTR, hostbuf=acols)\n",
    "annzs_buf = cl.Buffer(ctx, mf.READ_WRITE | mf.COPY_HOST_PTR, hostbuf=annz)\n",
    "adatat_buf = cl.Buffer(ctx, mf.READ_WRITE | mf.COPY_HOST_PTR, hostbuf=adatat)\n",
    "acolst_buf = cl.Buffer(ctx, mf.READ_WRITE | mf.COPY_HOST_PTR, hostbuf=acolst)\n",
    "annzst_buf = cl.Buffer(ctx, mf.READ_WRITE | mf.COPY_HOST_PTR, hostbuf=annzt)\n",
    "b_buf = cl.Buffer(ctx, mf.READ_WRITE | mf.COPY_HOST_PTR, hostbuf=b)\n",
    "\n",
    "prg = cl.Program(ctx, \"\"\"\n",
    "    // SPARSE x DENSE\n",
    "    __kernel void matmul2(__global  float* matData,     // INPUT MATRIX DATA\n",
    "                            __global  uint*  colIdx,\n",
    "                            __global  uint*  rowNnz,\n",
    "                            uint   ellwidth,\n",
    "                            uint ncols,\n",
    "                            __global  float* vector_x,    // INPUT\n",
    "                            __global  float* vector_y    // OUTPUT\n",
    "                            ) { // LOCAL SHARED BUFFER\n",
    "      uint gid = get_global_id(0);\n",
    "      uint nrows = get_global_size(0);\n",
    "      \n",
    "\n",
    "      uint nnz    = rowNnz[gid];\n",
    "      \n",
    "      for (uint gid2 = 0; gid2 < ncols; gid2++) {\n",
    "        float sum = 0;\n",
    "        for (uint i = 0; i < nnz; i++) {\n",
    "          uint index   = (gid * ellwidth) + i;\n",
    "          uint col     = colIdx[index];\n",
    "          float aval  = matData[index];\n",
    "          uint xidx = col*ncols+gid2;\n",
    "          float xval  = vector_x[xidx];\n",
    "          if (gid==0 && gid2==1)\n",
    "            printf(\"aval, xval: %.2f,%.2f: (%i,%i) - %i \\\\n\", aval, xval, col, index, xidx);\n",
    "          sum  += aval * xval;\n",
    "        }\n",
    "        //printf(\"SUM/NNZ: %.2f %i \\\\n\", sum, nnz);\n",
    "        vector_y[gid*ncols+gid2] = sum;\n",
    "      }\n",
    "    }\"\"\").build()"
   ]
  },
  {
   "cell_type": "code",
   "execution_count": 32,
   "id": "b4c85bcb",
   "metadata": {},
   "outputs": [
    {
     "data": {
      "text/plain": [
       "((8, 10), (10, 10))"
      ]
     },
     "execution_count": 32,
     "metadata": {},
     "output_type": "execute_result"
    }
   ],
   "source": [
    "a.shape, b.shape"
   ]
  },
  {
   "cell_type": "code",
   "execution_count": 33,
   "id": "c740a4fe",
   "metadata": {},
   "outputs": [],
   "source": [
    "res = np.zeros(a.shape[0]).astype(np.float32)\n",
    "#res"
   ]
  },
  {
   "cell_type": "code",
   "execution_count": 34,
   "id": "07aa4d30",
   "metadata": {},
   "outputs": [],
   "source": [
    "rows = a.shape[0]"
   ]
  },
  {
   "cell_type": "code",
   "execution_count": 35,
   "id": "98da857f",
   "metadata": {},
   "outputs": [],
   "source": [
    "mult = mult.astype(np.float32)"
   ]
  },
  {
   "cell_type": "code",
   "execution_count": 36,
   "id": "350bdb16",
   "metadata": {},
   "outputs": [
    {
     "data": {
      "text/plain": [
       "(8, 10)"
      ]
     },
     "execution_count": 36,
     "metadata": {},
     "output_type": "execute_result"
    }
   ],
   "source": [
    "outshape = (a.shape[0], b.shape[1])\n",
    "outshape"
   ]
  },
  {
   "cell_type": "code",
   "execution_count": 37,
   "id": "cc7365fc",
   "metadata": {},
   "outputs": [
    {
     "data": {
      "text/plain": [
       "<pyopencl._cl.NannyEvent at 0x7f58842d56d0>"
      ]
     },
     "execution_count": 37,
     "metadata": {},
     "output_type": "execute_result"
    },
    {
     "name": "stdout",
     "output_type": "stream",
     "text": [
      "aval, xval: 0.65,0.00: (1,0) - 11 \n",
      "aval, xval: 0.07,0.00: (5,1) - 51 \n",
      "aval, xval: 0.24,0.00: (9,2) - 91 \n"
     ]
    }
   ],
   "source": [
    "res_buf = cl.Buffer(ctx, mf.READ_WRITE, np.prod(outshape)*4)\n",
    "knl = prg.matmul2  # Use this Kernel object for repeated calls\n",
    "knl(queue, [outshape[0]], None, adata_buf, acols_buf, annzs_buf, np.uint32(ellwa), np.uint32(outshape[1]), b_buf, res_buf)\n",
    "\n",
    "res_np = np.zeros(outshape).astype(np.float32)\n",
    "cl.enqueue_copy(queue, res_np, res_buf)"
   ]
  },
  {
   "cell_type": "code",
   "execution_count": 38,
   "id": "e2181f67",
   "metadata": {},
   "outputs": [
    {
     "data": {
      "text/plain": [
       "0.0"
      ]
     },
     "execution_count": 38,
     "metadata": {},
     "output_type": "execute_result"
    }
   ],
   "source": [
    "(res_np-mult).sum()"
   ]
  },
  {
   "cell_type": "code",
   "execution_count": 39,
   "id": "79390719",
   "metadata": {},
   "outputs": [
    {
     "data": {
      "text/plain": [
       "array([[0.        , 0.65016776, 0.        , 0.        , 0.        ,\n",
       "        0.06761027, 0.        , 0.        , 0.        , 0.23628017],\n",
       "       [0.        , 0.        , 0.5084803 , 0.        , 0.        ,\n",
       "        0.34252685, 0.        , 0.        , 0.27032706, 0.        ],\n",
       "       [0.        , 0.        , 0.        , 0.        , 0.        ,\n",
       "        0.08024875, 0.        , 0.        , 0.18381113, 0.4889689 ],\n",
       "       [0.8412975 , 0.6849782 , 0.        , 0.        , 0.        ,\n",
       "        0.        , 0.        , 0.772927  , 0.        , 0.        ],\n",
       "       [0.        , 0.        , 0.4728516 , 0.        , 0.        ,\n",
       "        0.        , 0.01464626, 0.3587053 , 0.        , 0.        ],\n",
       "       [0.        , 0.        , 0.        , 0.47683263, 0.25351405,\n",
       "        0.        , 0.4009562 , 0.        , 0.        , 0.        ],\n",
       "       [0.        , 0.        , 0.45469493, 0.5383059 , 0.        ,\n",
       "        0.        , 0.        , 0.        , 0.7299876 , 0.        ],\n",
       "       [0.        , 0.        , 0.08121876, 0.        , 0.        ,\n",
       "        0.        , 0.        , 0.        , 0.45099235, 0.99066746]],\n",
       "      dtype=float32)"
      ]
     },
     "execution_count": 39,
     "metadata": {},
     "output_type": "execute_result"
    }
   ],
   "source": [
    "a"
   ]
  },
  {
   "cell_type": "code",
   "execution_count": 40,
   "id": "a53bcc0b",
   "metadata": {},
   "outputs": [
    {
     "data": {
      "text/plain": [
       "array([[0.75117236, 0.7945494 , 0.        , 0.        , 0.        ,\n",
       "        0.        , 0.        , 0.        , 0.9490217 , 0.        ],\n",
       "       [0.        , 0.        , 0.        , 0.        , 0.8788032 ,\n",
       "        0.1774507 , 0.        , 0.        , 0.        , 0.6388085 ],\n",
       "       [0.        , 0.33798793, 0.93226814, 0.        , 0.        ,\n",
       "        0.        , 0.        , 0.7023786 , 0.        , 0.        ],\n",
       "       [0.        , 0.        , 0.        , 0.688783  , 0.        ,\n",
       "        0.        , 0.48542064, 0.        , 0.57669175, 0.        ],\n",
       "       [0.        , 0.18359001, 0.        , 0.        , 0.        ,\n",
       "        0.16124414, 0.        , 0.9751223 , 0.        , 0.        ],\n",
       "       [0.        , 0.        , 0.        , 0.        , 0.3160544 ,\n",
       "        0.        , 0.73630196, 0.        , 0.35920757, 0.        ],\n",
       "       [0.        , 0.92205393, 0.        , 0.        , 0.        ,\n",
       "        0.        , 0.        , 0.        , 0.19356503, 0.94503564],\n",
       "       [0.        , 0.        , 0.16653366, 0.62377596, 0.        ,\n",
       "        0.        , 0.        , 0.        , 0.52267253, 0.        ],\n",
       "       [0.        , 0.        , 0.        , 0.92419297, 0.        ,\n",
       "        0.7609189 , 0.04974846, 0.        , 0.        , 0.        ],\n",
       "       [0.        , 0.        , 0.00879541, 0.10269472, 0.        ,\n",
       "        0.        , 0.91930735, 0.        , 0.        , 0.        ]],\n",
       "      dtype=float32)"
      ]
     },
     "execution_count": 40,
     "metadata": {},
     "output_type": "execute_result"
    }
   ],
   "source": [
    "b"
   ]
  },
  {
   "cell_type": "code",
   "execution_count": 41,
   "id": "33d8a584",
   "metadata": {},
   "outputs": [
    {
     "data": {
      "text/plain": [
       "<pyopencl._cl.Buffer at 0x7f58842ca130>"
      ]
     },
     "execution_count": 41,
     "metadata": {},
     "output_type": "execute_result"
    }
   ],
   "source": [
    "res_buf"
   ]
  },
  {
   "cell_type": "code",
   "execution_count": 42,
   "id": "99faec15",
   "metadata": {},
   "outputs": [
    {
     "data": {
      "text/plain": [
       "array([[0.        , 0.        , 0.00207818, 0.02426473, 0.59273803,\n",
       "        0.11537272, 0.26699567, 0.        , 0.02428612, 0.41533267],\n",
       "       [0.        , 0.1718602 , 0.47404   , 0.24983437, 0.10825712,\n",
       "        0.20569697, 0.26565155, 0.35714567, 0.12303824, 0.        ],\n",
       "       [0.        , 0.        , 0.00430068, 0.22009148, 0.02536297,\n",
       "        0.13986537, 0.51774436, 0.        , 0.02882596, 0.        ],\n",
       "       [0.63195944, 0.66845244, 0.12871836, 0.48213327, 0.601961  ,\n",
       "        0.12154986, 0.        , 0.        , 1.2023973 , 0.4375699 ],\n",
       "       [0.        , 0.17332277, 0.500561  , 0.22375175, 0.        ,\n",
       "        0.        , 0.        , 0.33212084, 0.19032042, 0.01384124],\n",
       "       [0.        , 0.4162459 , 0.        , 0.3284342 , 0.        ,\n",
       "        0.04087766, 0.2314644 , 0.2472072 , 0.35259652, 0.3789179 ],\n",
       "       [0.        , 0.1536814 , 0.4238976 , 1.0454254 , 0.        ,\n",
       "        0.5554614 , 0.29762056, 0.31936797, 0.31043655, 0.        ],\n",
       "       [0.        , 0.02745096, 0.08443099, 0.51854026, 0.        ,\n",
       "        0.34316862, 0.93316406, 0.05704632, 0.        , 0.        ]],\n",
       "      dtype=float32)"
      ]
     },
     "execution_count": 42,
     "metadata": {},
     "output_type": "execute_result"
    }
   ],
   "source": [
    "res_np"
   ]
  },
  {
   "cell_type": "code",
   "execution_count": 43,
   "id": "4da1c066",
   "metadata": {},
   "outputs": [
    {
     "data": {
      "text/plain": [
       "array([[0.        , 0.        , 0.00207818, 0.02426473, 0.59273803,\n",
       "        0.11537272, 0.26699567, 0.        , 0.02428612, 0.41533267],\n",
       "       [0.        , 0.1718602 , 0.47404   , 0.24983437, 0.10825712,\n",
       "        0.20569697, 0.26565155, 0.35714567, 0.12303824, 0.        ],\n",
       "       [0.        , 0.        , 0.00430068, 0.22009148, 0.02536297,\n",
       "        0.13986537, 0.51774436, 0.        , 0.02882596, 0.        ],\n",
       "       [0.63195944, 0.66845244, 0.12871836, 0.48213327, 0.601961  ,\n",
       "        0.12154986, 0.        , 0.        , 1.2023973 , 0.4375699 ],\n",
       "       [0.        , 0.17332277, 0.500561  , 0.22375175, 0.        ,\n",
       "        0.        , 0.        , 0.33212084, 0.19032042, 0.01384124],\n",
       "       [0.        , 0.4162459 , 0.        , 0.3284342 , 0.        ,\n",
       "        0.04087766, 0.2314644 , 0.2472072 , 0.35259652, 0.3789179 ],\n",
       "       [0.        , 0.1536814 , 0.4238976 , 1.0454254 , 0.        ,\n",
       "        0.5554614 , 0.29762056, 0.31936797, 0.31043655, 0.        ],\n",
       "       [0.        , 0.02745096, 0.08443099, 0.51854026, 0.        ,\n",
       "        0.34316862, 0.93316406, 0.05704632, 0.        , 0.        ]],\n",
       "      dtype=float32)"
      ]
     },
     "execution_count": 43,
     "metadata": {},
     "output_type": "execute_result"
    }
   ],
   "source": [
    "mult"
   ]
  },
  {
   "cell_type": "code",
   "execution_count": 44,
   "id": "0ca8d088",
   "metadata": {},
   "outputs": [
    {
     "data": {
      "text/plain": [
       "array([[ True,  True,  True,  True,  True,  True,  True,  True,  True,\n",
       "         True],\n",
       "       [ True,  True,  True,  True,  True,  True,  True,  True,  True,\n",
       "         True],\n",
       "       [ True,  True,  True,  True,  True,  True,  True,  True,  True,\n",
       "         True],\n",
       "       [ True,  True,  True,  True,  True,  True,  True,  True,  True,\n",
       "         True],\n",
       "       [ True,  True,  True,  True,  True,  True,  True,  True,  True,\n",
       "         True],\n",
       "       [ True,  True,  True,  True,  True,  True,  True,  True,  True,\n",
       "         True],\n",
       "       [ True,  True,  True,  True,  True,  True,  True,  True,  True,\n",
       "         True],\n",
       "       [ True,  True,  True,  True,  True,  True,  True,  True,  True,\n",
       "         True]])"
      ]
     },
     "execution_count": 44,
     "metadata": {},
     "output_type": "execute_result"
    }
   ],
   "source": [
    "res_np==mult"
   ]
  },
  {
   "cell_type": "code",
   "execution_count": 45,
   "id": "c197fea2",
   "metadata": {},
   "outputs": [
    {
     "data": {
      "text/plain": [
       "(8, 10)"
      ]
     },
     "execution_count": 45,
     "metadata": {},
     "output_type": "execute_result"
    }
   ],
   "source": [
    "res_np.shape"
   ]
  },
  {
   "cell_type": "code",
   "execution_count": 46,
   "id": "b20b9da3",
   "metadata": {},
   "outputs": [
    {
     "data": {
      "text/plain": [
       "(8, 10)"
      ]
     },
     "execution_count": 46,
     "metadata": {},
     "output_type": "execute_result"
    }
   ],
   "source": [
    "mult.shape"
   ]
  },
  {
   "cell_type": "markdown",
   "id": "020471e7",
   "metadata": {},
   "source": [
    "## MatMul (dense * sparse)"
   ]
  },
  {
   "cell_type": "code",
   "execution_count": 47,
   "id": "dc619c6d",
   "metadata": {},
   "outputs": [],
   "source": [
    "bdata_buf = cl.Buffer(ctx, mf.READ_WRITE | mf.COPY_HOST_PTR, hostbuf=bdata)\n",
    "bcols_buf = cl.Buffer(ctx, mf.READ_WRITE | mf.COPY_HOST_PTR, hostbuf=bcols)\n",
    "bnnzs_buf = cl.Buffer(ctx, mf.READ_WRITE | mf.COPY_HOST_PTR, hostbuf=bnnz)\n",
    "bdatat_buf = cl.Buffer(ctx, mf.READ_WRITE | mf.COPY_HOST_PTR, hostbuf=bdatat)\n",
    "bcolst_buf = cl.Buffer(ctx, mf.READ_WRITE | mf.COPY_HOST_PTR, hostbuf=bcolst)\n",
    "bnnzst_buf = cl.Buffer(ctx, mf.READ_WRITE | mf.COPY_HOST_PTR, hostbuf=bnnzt)\n",
    "a_buf = cl.Buffer(ctx, mf.READ_WRITE | mf.COPY_HOST_PTR, hostbuf=a)\n",
    "\n",
    "prg = cl.Program(ctx, \"\"\"\n",
    "    // DENSE x SPARSE\n",
    "    __kernel void matmul(__global  float* matData,     // INPUT MATRIX DATA\n",
    "                            __global  uint*  colIdx,\n",
    "                            __global  uint*  rowNnz,\n",
    "                            uint   ellwidth,\n",
    "                            uint   mwidth,\n",
    "                            uint   ncols,\n",
    "                            __global  float* vector_x,    // INPUT\n",
    "                            __global  float* vector_y    // OUTPUT\n",
    "                            ) { // LOCAL SHARED BUFFER\n",
    "      uint gid = get_global_id(0);\n",
    "      uint nrows = get_global_size(0);\n",
    "\n",
    "      for (uint gid2 = 0; gid2 < ncols; gid2++) {\n",
    "        uint nnz = rowNnz[gid2];\n",
    "        float sum = 0;\n",
    "        for (uint i = 0; i < nnz; i++) {\n",
    "          uint index   = (gid2 * ellwidth) + i;\n",
    "          uint col     = colIdx[index];\n",
    "          float aval  = matData[index];\n",
    "          float xval  = vector_x[gid*mwidth+col];\n",
    "          sum  += aval * xval;\n",
    "          if (gid==0 && gid2==0)\n",
    "            printf(\"aval, xval: %.2f,%.2f - %.2f: (%i,%i) \\\\n\", aval, xval, sum, col, index);\n",
    "        }\n",
    "        //printf(\"SUM/NNZ: %.2f %i \\\\n\", sum, nnz);\n",
    "        vector_y[gid*ncols+gid2] = sum;\n",
    "      }\n",
    "    }\"\"\").build()"
   ]
  },
  {
   "cell_type": "code",
   "execution_count": 48,
   "id": "65b33635",
   "metadata": {},
   "outputs": [
    {
     "data": {
      "text/plain": [
       "((8, 10), (10, 10))"
      ]
     },
     "execution_count": 48,
     "metadata": {},
     "output_type": "execute_result"
    }
   ],
   "source": [
    "a.shape, b.shape"
   ]
  },
  {
   "cell_type": "code",
   "execution_count": 49,
   "id": "1133e820",
   "metadata": {},
   "outputs": [],
   "source": [
    "res = np.zeros(a.shape[0]).astype(np.float32)\n",
    "#res"
   ]
  },
  {
   "cell_type": "code",
   "execution_count": 50,
   "id": "c5fb4354",
   "metadata": {},
   "outputs": [],
   "source": [
    "rows = a.shape[0]"
   ]
  },
  {
   "cell_type": "code",
   "execution_count": 51,
   "id": "2d2074e5",
   "metadata": {},
   "outputs": [],
   "source": [
    "mult = mult.astype(np.float32)"
   ]
  },
  {
   "cell_type": "code",
   "execution_count": 52,
   "id": "62207659",
   "metadata": {},
   "outputs": [
    {
     "data": {
      "text/plain": [
       "array([ 8, 10])"
      ]
     },
     "execution_count": 52,
     "metadata": {},
     "output_type": "execute_result"
    }
   ],
   "source": [
    "outshape = np.array([a.shape[0], b.shape[1]])\n",
    "outshape"
   ]
  },
  {
   "cell_type": "code",
   "execution_count": 53,
   "id": "48bda7d1",
   "metadata": {},
   "outputs": [
    {
     "data": {
      "text/plain": [
       "array([[0.75117236, 0.        , 0.        , 0.        , 0.        ,\n",
       "        0.        , 0.        , 0.        , 0.        , 0.        ],\n",
       "       [0.7945494 , 0.        , 0.33798793, 0.        , 0.18359001,\n",
       "        0.        , 0.92205393, 0.        , 0.        , 0.        ],\n",
       "       [0.        , 0.        , 0.93226814, 0.        , 0.        ,\n",
       "        0.        , 0.        , 0.16653366, 0.        , 0.00879541],\n",
       "       [0.        , 0.        , 0.        , 0.688783  , 0.        ,\n",
       "        0.        , 0.        , 0.62377596, 0.92419297, 0.10269472],\n",
       "       [0.        , 0.8788032 , 0.        , 0.        , 0.        ,\n",
       "        0.3160544 , 0.        , 0.        , 0.        , 0.        ],\n",
       "       [0.        , 0.1774507 , 0.        , 0.        , 0.16124414,\n",
       "        0.        , 0.        , 0.        , 0.7609189 , 0.        ],\n",
       "       [0.        , 0.        , 0.        , 0.48542064, 0.        ,\n",
       "        0.73630196, 0.        , 0.        , 0.04974846, 0.91930735],\n",
       "       [0.        , 0.        , 0.7023786 , 0.        , 0.9751223 ,\n",
       "        0.        , 0.        , 0.        , 0.        , 0.        ],\n",
       "       [0.9490217 , 0.        , 0.        , 0.57669175, 0.        ,\n",
       "        0.35920757, 0.19356503, 0.52267253, 0.        , 0.        ],\n",
       "       [0.        , 0.6388085 , 0.        , 0.        , 0.        ,\n",
       "        0.        , 0.94503564, 0.        , 0.        , 0.        ]],\n",
       "      dtype=float32)"
      ]
     },
     "execution_count": 53,
     "metadata": {},
     "output_type": "execute_result"
    }
   ],
   "source": [
    "b.T"
   ]
  },
  {
   "cell_type": "code",
   "execution_count": 54,
   "id": "e81754e5",
   "metadata": {},
   "outputs": [
    {
     "data": {
      "text/plain": [
       "array([[0.        , 0.        , 0.        , 0.8412975 , 0.        ,\n",
       "        0.        , 0.        , 0.        ],\n",
       "       [0.65016776, 0.        , 0.        , 0.6849782 , 0.        ,\n",
       "        0.        , 0.        , 0.        ],\n",
       "       [0.        , 0.5084803 , 0.        , 0.        , 0.4728516 ,\n",
       "        0.        , 0.45469493, 0.08121876],\n",
       "       [0.        , 0.        , 0.        , 0.        , 0.        ,\n",
       "        0.47683263, 0.5383059 , 0.        ],\n",
       "       [0.        , 0.        , 0.        , 0.        , 0.        ,\n",
       "        0.25351405, 0.        , 0.        ],\n",
       "       [0.06761027, 0.34252685, 0.08024875, 0.        , 0.        ,\n",
       "        0.        , 0.        , 0.        ],\n",
       "       [0.        , 0.        , 0.        , 0.        , 0.01464626,\n",
       "        0.4009562 , 0.        , 0.        ],\n",
       "       [0.        , 0.        , 0.        , 0.772927  , 0.3587053 ,\n",
       "        0.        , 0.        , 0.        ],\n",
       "       [0.        , 0.27032706, 0.18381113, 0.        , 0.        ,\n",
       "        0.        , 0.7299876 , 0.45099235],\n",
       "       [0.23628017, 0.        , 0.4889689 , 0.        , 0.        ,\n",
       "        0.        , 0.        , 0.99066746]], dtype=float32)"
      ]
     },
     "execution_count": 54,
     "metadata": {},
     "output_type": "execute_result"
    }
   ],
   "source": [
    "a.T"
   ]
  },
  {
   "cell_type": "code",
   "execution_count": 55,
   "id": "a4aa52cb",
   "metadata": {},
   "outputs": [
    {
     "data": {
      "text/plain": [
       "array([ 8, 10])"
      ]
     },
     "execution_count": 55,
     "metadata": {},
     "output_type": "execute_result"
    }
   ],
   "source": [
    "outshape.T"
   ]
  },
  {
   "cell_type": "code",
   "execution_count": 56,
   "id": "35754fb9",
   "metadata": {},
   "outputs": [
    {
     "name": "stdout",
     "output_type": "stream",
     "text": [
      "aval, xval: 0.75,0.00 - 0.00: (0,0) \n"
     ]
    },
    {
     "data": {
      "text/plain": [
       "<pyopencl._cl.NannyEvent at 0x7f5884267cc0>"
      ]
     },
     "execution_count": 56,
     "metadata": {},
     "output_type": "execute_result"
    }
   ],
   "source": [
    "res_buf = cl.Buffer(ctx, mf.READ_WRITE, np.prod(outshape)*4)\n",
    "knl = prg.matmul  # Use this Kernel object for repeated calls\n",
    "knl(queue, [outshape.T[0]], None, bdatat_buf, bcolst_buf, bnnzst_buf, np.uint32(ellwbt), np.uint32(b.shape[0]), np.uint32(outshape.T[1]), a_buf, res_buf)\n",
    "\n",
    "res_np = np.zeros(outshape).astype(np.float32)\n",
    "cl.enqueue_copy(queue, res_np, res_buf)"
   ]
  },
  {
   "cell_type": "code",
   "execution_count": 57,
   "id": "23cf552a",
   "metadata": {},
   "outputs": [
    {
     "data": {
      "text/plain": [
       "0.0"
      ]
     },
     "execution_count": 57,
     "metadata": {},
     "output_type": "execute_result"
    }
   ],
   "source": [
    "(res_np-mult).sum()"
   ]
  },
  {
   "cell_type": "code",
   "execution_count": 58,
   "id": "99d10b20",
   "metadata": {},
   "outputs": [
    {
     "data": {
      "text/plain": [
       "array([[0.        , 0.65016776, 0.        , 0.        , 0.        ,\n",
       "        0.06761027, 0.        , 0.        , 0.        , 0.23628017],\n",
       "       [0.        , 0.        , 0.5084803 , 0.        , 0.        ,\n",
       "        0.34252685, 0.        , 0.        , 0.27032706, 0.        ],\n",
       "       [0.        , 0.        , 0.        , 0.        , 0.        ,\n",
       "        0.08024875, 0.        , 0.        , 0.18381113, 0.4889689 ],\n",
       "       [0.8412975 , 0.6849782 , 0.        , 0.        , 0.        ,\n",
       "        0.        , 0.        , 0.772927  , 0.        , 0.        ],\n",
       "       [0.        , 0.        , 0.4728516 , 0.        , 0.        ,\n",
       "        0.        , 0.01464626, 0.3587053 , 0.        , 0.        ],\n",
       "       [0.        , 0.        , 0.        , 0.47683263, 0.25351405,\n",
       "        0.        , 0.4009562 , 0.        , 0.        , 0.        ],\n",
       "       [0.        , 0.        , 0.45469493, 0.5383059 , 0.        ,\n",
       "        0.        , 0.        , 0.        , 0.7299876 , 0.        ],\n",
       "       [0.        , 0.        , 0.08121876, 0.        , 0.        ,\n",
       "        0.        , 0.        , 0.        , 0.45099235, 0.99066746]],\n",
       "      dtype=float32)"
      ]
     },
     "execution_count": 58,
     "metadata": {},
     "output_type": "execute_result"
    }
   ],
   "source": [
    "a"
   ]
  },
  {
   "cell_type": "code",
   "execution_count": 59,
   "id": "85fb2a81",
   "metadata": {},
   "outputs": [
    {
     "data": {
      "text/plain": [
       "array([[0.75117236, 0.7945494 , 0.        , 0.        , 0.        ,\n",
       "        0.        , 0.        , 0.        , 0.9490217 , 0.        ],\n",
       "       [0.        , 0.        , 0.        , 0.        , 0.8788032 ,\n",
       "        0.1774507 , 0.        , 0.        , 0.        , 0.6388085 ],\n",
       "       [0.        , 0.33798793, 0.93226814, 0.        , 0.        ,\n",
       "        0.        , 0.        , 0.7023786 , 0.        , 0.        ],\n",
       "       [0.        , 0.        , 0.        , 0.688783  , 0.        ,\n",
       "        0.        , 0.48542064, 0.        , 0.57669175, 0.        ],\n",
       "       [0.        , 0.18359001, 0.        , 0.        , 0.        ,\n",
       "        0.16124414, 0.        , 0.9751223 , 0.        , 0.        ],\n",
       "       [0.        , 0.        , 0.        , 0.        , 0.3160544 ,\n",
       "        0.        , 0.73630196, 0.        , 0.35920757, 0.        ],\n",
       "       [0.        , 0.92205393, 0.        , 0.        , 0.        ,\n",
       "        0.        , 0.        , 0.        , 0.19356503, 0.94503564],\n",
       "       [0.        , 0.        , 0.16653366, 0.62377596, 0.        ,\n",
       "        0.        , 0.        , 0.        , 0.52267253, 0.        ],\n",
       "       [0.        , 0.        , 0.        , 0.92419297, 0.        ,\n",
       "        0.7609189 , 0.04974846, 0.        , 0.        , 0.        ],\n",
       "       [0.        , 0.        , 0.00879541, 0.10269472, 0.        ,\n",
       "        0.        , 0.91930735, 0.        , 0.        , 0.        ]],\n",
       "      dtype=float32)"
      ]
     },
     "execution_count": 59,
     "metadata": {},
     "output_type": "execute_result"
    }
   ],
   "source": [
    "b"
   ]
  },
  {
   "cell_type": "code",
   "execution_count": 60,
   "id": "ee65b3de",
   "metadata": {},
   "outputs": [
    {
     "data": {
      "text/plain": [
       "<pyopencl._cl.Buffer at 0x7f5884264220>"
      ]
     },
     "execution_count": 60,
     "metadata": {},
     "output_type": "execute_result"
    }
   ],
   "source": [
    "res_buf"
   ]
  },
  {
   "cell_type": "code",
   "execution_count": 61,
   "id": "15e6ab60",
   "metadata": {},
   "outputs": [
    {
     "data": {
      "text/plain": [
       "array([[0.        , 0.        , 0.00207818, 0.02426473, 0.59273803,\n",
       "        0.11537272, 0.26699567, 0.        , 0.02428612, 0.41533267],\n",
       "       [0.        , 0.1718602 , 0.47404   , 0.24983437, 0.10825712,\n",
       "        0.20569697, 0.26565155, 0.35714567, 0.12303824, 0.        ],\n",
       "       [0.        , 0.        , 0.00430068, 0.22009148, 0.02536297,\n",
       "        0.13986537, 0.51774436, 0.        , 0.02882596, 0.        ],\n",
       "       [0.63195944, 0.66845244, 0.12871836, 0.48213327, 0.601961  ,\n",
       "        0.12154986, 0.        , 0.        , 1.2023973 , 0.4375699 ],\n",
       "       [0.        , 0.17332277, 0.500561  , 0.22375175, 0.        ,\n",
       "        0.        , 0.        , 0.33212084, 0.19032042, 0.01384124],\n",
       "       [0.        , 0.4162459 , 0.        , 0.3284342 , 0.        ,\n",
       "        0.04087766, 0.2314644 , 0.2472072 , 0.35259652, 0.3789179 ],\n",
       "       [0.        , 0.1536814 , 0.4238976 , 1.0454254 , 0.        ,\n",
       "        0.5554614 , 0.29762056, 0.31936797, 0.31043655, 0.        ],\n",
       "       [0.        , 0.02745096, 0.08443099, 0.51854026, 0.        ,\n",
       "        0.34316862, 0.93316406, 0.05704632, 0.        , 0.        ]],\n",
       "      dtype=float32)"
      ]
     },
     "execution_count": 61,
     "metadata": {},
     "output_type": "execute_result"
    }
   ],
   "source": [
    "res_np"
   ]
  },
  {
   "cell_type": "code",
   "execution_count": 62,
   "id": "ea2ac480",
   "metadata": {},
   "outputs": [
    {
     "data": {
      "text/plain": [
       "array([[0.        , 0.        , 0.00207818, 0.02426473, 0.59273803,\n",
       "        0.11537272, 0.26699567, 0.        , 0.02428612, 0.41533267],\n",
       "       [0.        , 0.1718602 , 0.47404   , 0.24983437, 0.10825712,\n",
       "        0.20569697, 0.26565155, 0.35714567, 0.12303824, 0.        ],\n",
       "       [0.        , 0.        , 0.00430068, 0.22009148, 0.02536297,\n",
       "        0.13986537, 0.51774436, 0.        , 0.02882596, 0.        ],\n",
       "       [0.63195944, 0.66845244, 0.12871836, 0.48213327, 0.601961  ,\n",
       "        0.12154986, 0.        , 0.        , 1.2023973 , 0.4375699 ],\n",
       "       [0.        , 0.17332277, 0.500561  , 0.22375175, 0.        ,\n",
       "        0.        , 0.        , 0.33212084, 0.19032042, 0.01384124],\n",
       "       [0.        , 0.4162459 , 0.        , 0.3284342 , 0.        ,\n",
       "        0.04087766, 0.2314644 , 0.2472072 , 0.35259652, 0.3789179 ],\n",
       "       [0.        , 0.1536814 , 0.4238976 , 1.0454254 , 0.        ,\n",
       "        0.5554614 , 0.29762056, 0.31936797, 0.31043655, 0.        ],\n",
       "       [0.        , 0.02745096, 0.08443099, 0.51854026, 0.        ,\n",
       "        0.34316862, 0.93316406, 0.05704632, 0.        , 0.        ]],\n",
       "      dtype=float32)"
      ]
     },
     "execution_count": 62,
     "metadata": {},
     "output_type": "execute_result"
    }
   ],
   "source": [
    "mult"
   ]
  },
  {
   "cell_type": "code",
   "execution_count": 63,
   "id": "232d2e9c",
   "metadata": {},
   "outputs": [
    {
     "data": {
      "text/plain": [
       "array([[ True,  True,  True,  True,  True,  True,  True,  True,  True,\n",
       "         True],\n",
       "       [ True,  True,  True,  True,  True,  True,  True,  True,  True,\n",
       "         True],\n",
       "       [ True,  True,  True,  True,  True,  True,  True,  True,  True,\n",
       "         True],\n",
       "       [ True,  True,  True,  True,  True,  True,  True,  True,  True,\n",
       "         True],\n",
       "       [ True,  True,  True,  True,  True,  True,  True,  True,  True,\n",
       "         True],\n",
       "       [ True,  True,  True,  True,  True,  True,  True,  True,  True,\n",
       "         True],\n",
       "       [ True,  True,  True,  True,  True,  True,  True,  True,  True,\n",
       "         True],\n",
       "       [ True,  True,  True,  True,  True,  True,  True,  True,  True,\n",
       "         True]])"
      ]
     },
     "execution_count": 63,
     "metadata": {},
     "output_type": "execute_result"
    }
   ],
   "source": [
    "res_np==mult"
   ]
  },
  {
   "cell_type": "code",
   "execution_count": 64,
   "id": "315f252f",
   "metadata": {},
   "outputs": [
    {
     "data": {
      "text/plain": [
       "array([[0., 0., 0., 0., 0., 0., 0., 0., 0., 0.],\n",
       "       [0., 0., 0., 0., 0., 0., 0., 0., 0., 0.],\n",
       "       [0., 0., 0., 0., 0., 0., 0., 0., 0., 0.],\n",
       "       [0., 0., 0., 0., 0., 0., 0., 0., 0., 0.],\n",
       "       [0., 0., 0., 0., 0., 0., 0., 0., 0., 0.],\n",
       "       [0., 0., 0., 0., 0., 0., 0., 0., 0., 0.],\n",
       "       [0., 0., 0., 0., 0., 0., 0., 0., 0., 0.],\n",
       "       [0., 0., 0., 0., 0., 0., 0., 0., 0., 0.]], dtype=float32)"
      ]
     },
     "execution_count": 64,
     "metadata": {},
     "output_type": "execute_result"
    }
   ],
   "source": [
    "res_np-mult"
   ]
  },
  {
   "cell_type": "code",
   "execution_count": 65,
   "id": "3cc1c589",
   "metadata": {},
   "outputs": [
    {
     "data": {
      "text/plain": [
       "(8, 10)"
      ]
     },
     "execution_count": 65,
     "metadata": {},
     "output_type": "execute_result"
    }
   ],
   "source": [
    "res_np.shape"
   ]
  },
  {
   "cell_type": "code",
   "execution_count": 66,
   "id": "7c621598",
   "metadata": {},
   "outputs": [
    {
     "data": {
      "text/plain": [
       "(8, 10)"
      ]
     },
     "execution_count": 66,
     "metadata": {},
     "output_type": "execute_result"
    }
   ],
   "source": [
    "mult.shape"
   ]
  },
  {
   "cell_type": "markdown",
   "id": "cdc9f0be",
   "metadata": {},
   "source": [
    "# Matmult Dense Dense"
   ]
  },
  {
   "cell_type": "code",
   "execution_count": 67,
   "id": "d3eeacb6",
   "metadata": {},
   "outputs": [],
   "source": [
    "b_buf2 = cl.Buffer(ctx, mf.READ_WRITE | mf.COPY_HOST_PTR, hostbuf=b)\n",
    "a_buf = cl.Buffer(ctx, mf.READ_WRITE | mf.COPY_HOST_PTR, hostbuf=a)\n",
    "\n",
    "prg = cl.Program(ctx, \"\"\"\n",
    "    // multilplies x by y WITH Y TRANSPOSED INDEXING\n",
    "    __kernel void matmul0(__global  float* x,     // INPUT MATRIX DATA\n",
    "                          __global  float* y,    // INPUT\n",
    "                          __global  float* res,    // INPUT\n",
    "                          uint msize\n",
    "                          ) { // LOCAL SHARED BUFFER\n",
    "      uint isize = get_global_size(0);\n",
    "      uint osize = get_global_size(1);\n",
    "      int gidx = get_global_id(0); // row\n",
    "      int gidy = get_global_id(1); // col\n",
    "\n",
    "      float ret = 0.0;\n",
    "      for (int i = 0; i < msize; i++) {\n",
    "        uint xidx = gidx*msize+i; \n",
    "        float xval = x[xidx];\n",
    "        uint yidx = osize*i+gidy;\n",
    "        float yval = y[yidx];\n",
    "        ret += xval*yval;\n",
    "        if (gidx==0 && gidy==0)\n",
    "          printf(\"\\\\nmult: %.2f x %.2f - %.2f  -- %i/%i\", xval, yval, res, xidx, yidx);\n",
    "      }\n",
    "\n",
    "      //if (gidx==0&&gidy==0)\n",
    "      //  printf(\"\\\\nsum:%.2f\", ret);\n",
    "      res[gidx * osize + gidy] = ret;\n",
    "    }\"\"\").build()"
   ]
  },
  {
   "cell_type": "code",
   "execution_count": 68,
   "id": "ee0aabda",
   "metadata": {},
   "outputs": [
    {
     "data": {
      "text/plain": [
       "((8, 10), (10, 10))"
      ]
     },
     "execution_count": 68,
     "metadata": {},
     "output_type": "execute_result"
    }
   ],
   "source": [
    "a.shape, b.shape"
   ]
  },
  {
   "cell_type": "code",
   "execution_count": 69,
   "id": "938f25f9",
   "metadata": {},
   "outputs": [],
   "source": [
    "rows = a.shape[0]"
   ]
  },
  {
   "cell_type": "code",
   "execution_count": 70,
   "id": "d19122ca",
   "metadata": {},
   "outputs": [],
   "source": [
    "mult = mult.astype(np.float32)"
   ]
  },
  {
   "cell_type": "code",
   "execution_count": 71,
   "id": "17176ece",
   "metadata": {},
   "outputs": [
    {
     "data": {
      "text/plain": [
       "<pyopencl._cl.NannyEvent at 0x7f588427a3b0>"
      ]
     },
     "execution_count": 71,
     "metadata": {},
     "output_type": "execute_result"
    },
    {
     "name": "stdout",
     "output_type": "stream",
     "text": [
      "\n",
      "mult: 0.00 x 0.75 - 0.00  -- 0/0\n",
      "mult: 0.65 x 0.00 - 0.00  -- 1/10\n",
      "mult: 0.00 x 0.00 - 0.00  -- 2/20\n",
      "mult: 0.00 x 0.00 - 0.00  -- 3/30\n",
      "mult: 0.00 x 0.00 - 0.00  -- 4/40\n",
      "mult: 0.07 x 0.00 - 0.00  -- 5/50\n",
      "mult: 0.00 x 0.00 - 0.00  -- 6/60\n",
      "mult: 0.00 x 0.00 - 0.00  -- 7/70\n",
      "mult: 0.00 x 0.00 - 0.00  -- 8/80\n",
      "mult: 0.24 x 0.00 - 0.00  -- 9/90"
     ]
    }
   ],
   "source": [
    "res_buf = cl.Buffer(ctx, mf.READ_WRITE, np.prod([rows,b.shape[1]])*4)\n",
    "knl = prg.matmul0  # Use this Kernel object for repeated calls\n",
    "knl(queue, [rows,b.shape[1]], None, a_buf, b_buf2, res_buf, np.uint32(a.shape[1]))\n",
    "\n",
    "res_np = np.zeros([rows,b.shape[1]]).astype(np.float32)\n",
    "cl.enqueue_copy(queue, res_np, res_buf)"
   ]
  },
  {
   "cell_type": "code",
   "execution_count": 72,
   "id": "2e20ef7a",
   "metadata": {},
   "outputs": [
    {
     "data": {
      "text/plain": [
       "0.0"
      ]
     },
     "execution_count": 72,
     "metadata": {},
     "output_type": "execute_result"
    }
   ],
   "source": [
    "(res_np-mult).sum()"
   ]
  },
  {
   "cell_type": "code",
   "execution_count": 73,
   "id": "13304b53",
   "metadata": {},
   "outputs": [
    {
     "data": {
      "text/plain": [
       "array([[0.        , 0.65016776, 0.        , 0.        , 0.        ,\n",
       "        0.06761027, 0.        , 0.        , 0.        , 0.23628017],\n",
       "       [0.        , 0.        , 0.5084803 , 0.        , 0.        ,\n",
       "        0.34252685, 0.        , 0.        , 0.27032706, 0.        ],\n",
       "       [0.        , 0.        , 0.        , 0.        , 0.        ,\n",
       "        0.08024875, 0.        , 0.        , 0.18381113, 0.4889689 ],\n",
       "       [0.8412975 , 0.6849782 , 0.        , 0.        , 0.        ,\n",
       "        0.        , 0.        , 0.772927  , 0.        , 0.        ],\n",
       "       [0.        , 0.        , 0.4728516 , 0.        , 0.        ,\n",
       "        0.        , 0.01464626, 0.3587053 , 0.        , 0.        ],\n",
       "       [0.        , 0.        , 0.        , 0.47683263, 0.25351405,\n",
       "        0.        , 0.4009562 , 0.        , 0.        , 0.        ],\n",
       "       [0.        , 0.        , 0.45469493, 0.5383059 , 0.        ,\n",
       "        0.        , 0.        , 0.        , 0.7299876 , 0.        ],\n",
       "       [0.        , 0.        , 0.08121876, 0.        , 0.        ,\n",
       "        0.        , 0.        , 0.        , 0.45099235, 0.99066746]],\n",
       "      dtype=float32)"
      ]
     },
     "execution_count": 73,
     "metadata": {},
     "output_type": "execute_result"
    }
   ],
   "source": [
    "a"
   ]
  },
  {
   "cell_type": "code",
   "execution_count": 74,
   "id": "1678d389",
   "metadata": {},
   "outputs": [
    {
     "data": {
      "text/plain": [
       "array([[0.75117236, 0.7945494 , 0.        , 0.        , 0.        ,\n",
       "        0.        , 0.        , 0.        , 0.9490217 , 0.        ],\n",
       "       [0.        , 0.        , 0.        , 0.        , 0.8788032 ,\n",
       "        0.1774507 , 0.        , 0.        , 0.        , 0.6388085 ],\n",
       "       [0.        , 0.33798793, 0.93226814, 0.        , 0.        ,\n",
       "        0.        , 0.        , 0.7023786 , 0.        , 0.        ],\n",
       "       [0.        , 0.        , 0.        , 0.688783  , 0.        ,\n",
       "        0.        , 0.48542064, 0.        , 0.57669175, 0.        ],\n",
       "       [0.        , 0.18359001, 0.        , 0.        , 0.        ,\n",
       "        0.16124414, 0.        , 0.9751223 , 0.        , 0.        ],\n",
       "       [0.        , 0.        , 0.        , 0.        , 0.3160544 ,\n",
       "        0.        , 0.73630196, 0.        , 0.35920757, 0.        ],\n",
       "       [0.        , 0.92205393, 0.        , 0.        , 0.        ,\n",
       "        0.        , 0.        , 0.        , 0.19356503, 0.94503564],\n",
       "       [0.        , 0.        , 0.16653366, 0.62377596, 0.        ,\n",
       "        0.        , 0.        , 0.        , 0.52267253, 0.        ],\n",
       "       [0.        , 0.        , 0.        , 0.92419297, 0.        ,\n",
       "        0.7609189 , 0.04974846, 0.        , 0.        , 0.        ],\n",
       "       [0.        , 0.        , 0.00879541, 0.10269472, 0.        ,\n",
       "        0.        , 0.91930735, 0.        , 0.        , 0.        ]],\n",
       "      dtype=float32)"
      ]
     },
     "execution_count": 74,
     "metadata": {},
     "output_type": "execute_result"
    }
   ],
   "source": [
    "b"
   ]
  },
  {
   "cell_type": "code",
   "execution_count": 75,
   "id": "6afa1b35",
   "metadata": {},
   "outputs": [
    {
     "data": {
      "text/plain": [
       "array([[0.        , 0.        , 0.00207818, 0.02426473, 0.59273803,\n",
       "        0.11537272, 0.26699567, 0.        , 0.02428612, 0.41533267],\n",
       "       [0.        , 0.1718602 , 0.47404   , 0.24983437, 0.10825712,\n",
       "        0.20569697, 0.26565155, 0.35714567, 0.12303824, 0.        ],\n",
       "       [0.        , 0.        , 0.00430068, 0.22009148, 0.02536297,\n",
       "        0.13986537, 0.51774436, 0.        , 0.02882596, 0.        ],\n",
       "       [0.63195944, 0.66845244, 0.12871836, 0.48213327, 0.601961  ,\n",
       "        0.12154986, 0.        , 0.        , 1.2023973 , 0.4375699 ],\n",
       "       [0.        , 0.17332277, 0.500561  , 0.22375175, 0.        ,\n",
       "        0.        , 0.        , 0.33212084, 0.19032042, 0.01384124],\n",
       "       [0.        , 0.4162459 , 0.        , 0.3284342 , 0.        ,\n",
       "        0.04087766, 0.2314644 , 0.2472072 , 0.35259652, 0.3789179 ],\n",
       "       [0.        , 0.1536814 , 0.4238976 , 1.0454254 , 0.        ,\n",
       "        0.5554614 , 0.29762056, 0.31936797, 0.31043655, 0.        ],\n",
       "       [0.        , 0.02745096, 0.08443099, 0.51854026, 0.        ,\n",
       "        0.34316862, 0.93316406, 0.05704632, 0.        , 0.        ]],\n",
       "      dtype=float32)"
      ]
     },
     "execution_count": 75,
     "metadata": {},
     "output_type": "execute_result"
    }
   ],
   "source": [
    "res_np"
   ]
  },
  {
   "cell_type": "code",
   "execution_count": 76,
   "id": "16178e90",
   "metadata": {},
   "outputs": [
    {
     "data": {
      "text/plain": [
       "array([[0.        , 0.        , 0.00207818, 0.02426473, 0.59273803,\n",
       "        0.11537272, 0.26699567, 0.        , 0.02428612, 0.41533267],\n",
       "       [0.        , 0.1718602 , 0.47404   , 0.24983437, 0.10825712,\n",
       "        0.20569697, 0.26565155, 0.35714567, 0.12303824, 0.        ],\n",
       "       [0.        , 0.        , 0.00430068, 0.22009148, 0.02536297,\n",
       "        0.13986537, 0.51774436, 0.        , 0.02882596, 0.        ],\n",
       "       [0.63195944, 0.66845244, 0.12871836, 0.48213327, 0.601961  ,\n",
       "        0.12154986, 0.        , 0.        , 1.2023973 , 0.4375699 ],\n",
       "       [0.        , 0.17332277, 0.500561  , 0.22375175, 0.        ,\n",
       "        0.        , 0.        , 0.33212084, 0.19032042, 0.01384124],\n",
       "       [0.        , 0.4162459 , 0.        , 0.3284342 , 0.        ,\n",
       "        0.04087766, 0.2314644 , 0.2472072 , 0.35259652, 0.3789179 ],\n",
       "       [0.        , 0.1536814 , 0.4238976 , 1.0454254 , 0.        ,\n",
       "        0.5554614 , 0.29762056, 0.31936797, 0.31043655, 0.        ],\n",
       "       [0.        , 0.02745096, 0.08443099, 0.51854026, 0.        ,\n",
       "        0.34316862, 0.93316406, 0.05704632, 0.        , 0.        ]],\n",
       "      dtype=float32)"
      ]
     },
     "execution_count": 76,
     "metadata": {},
     "output_type": "execute_result"
    }
   ],
   "source": [
    "a.dot(b)"
   ]
  },
  {
   "cell_type": "code",
   "execution_count": 77,
   "id": "4a9cd845",
   "metadata": {},
   "outputs": [
    {
     "data": {
      "text/plain": [
       "array([[ True,  True,  True,  True,  True,  True,  True,  True,  True,\n",
       "         True],\n",
       "       [ True,  True,  True,  True,  True,  True,  True,  True,  True,\n",
       "         True],\n",
       "       [ True,  True,  True,  True,  True,  True,  True,  True,  True,\n",
       "         True],\n",
       "       [ True,  True,  True,  True,  True,  True,  True,  True,  True,\n",
       "         True],\n",
       "       [ True,  True,  True,  True,  True,  True,  True,  True,  True,\n",
       "         True],\n",
       "       [ True,  True,  True,  True,  True,  True,  True,  True,  True,\n",
       "         True],\n",
       "       [ True,  True,  True,  True,  True,  True,  True,  True,  True,\n",
       "         True],\n",
       "       [ True,  True,  True,  True,  True,  True,  True,  True,  True,\n",
       "         True]])"
      ]
     },
     "execution_count": 77,
     "metadata": {},
     "output_type": "execute_result"
    }
   ],
   "source": [
    "res_np==mult"
   ]
  },
  {
   "cell_type": "code",
   "execution_count": 78,
   "id": "202bd173",
   "metadata": {},
   "outputs": [
    {
     "data": {
      "text/plain": [
       "(8, 10)"
      ]
     },
     "execution_count": 78,
     "metadata": {},
     "output_type": "execute_result"
    }
   ],
   "source": [
    "res_np.shape"
   ]
  },
  {
   "cell_type": "code",
   "execution_count": 79,
   "id": "31d97059",
   "metadata": {},
   "outputs": [
    {
     "data": {
      "text/plain": [
       "(8, 10)"
      ]
     },
     "execution_count": 79,
     "metadata": {},
     "output_type": "execute_result"
    }
   ],
   "source": [
    "mult.shape"
   ]
  },
  {
   "cell_type": "markdown",
   "id": "740ba01c",
   "metadata": {},
   "source": [
    "# Matmult Dense Transposed"
   ]
  },
  {
   "cell_type": "code",
   "execution_count": 80,
   "id": "62bd6037",
   "metadata": {},
   "outputs": [
    {
     "data": {
      "text/plain": [
       "array([[0.75117236, 0.7945494 , 0.        , 0.        , 0.        ,\n",
       "        0.        , 0.        , 0.        , 0.9490217 , 0.        ],\n",
       "       [0.        , 0.        , 0.        , 0.        , 0.8788032 ,\n",
       "        0.1774507 , 0.        , 0.        , 0.        , 0.6388085 ],\n",
       "       [0.        , 0.33798793, 0.93226814, 0.        , 0.        ,\n",
       "        0.        , 0.        , 0.7023786 , 0.        , 0.        ],\n",
       "       [0.        , 0.        , 0.        , 0.688783  , 0.        ,\n",
       "        0.        , 0.48542064, 0.        , 0.57669175, 0.        ],\n",
       "       [0.        , 0.18359001, 0.        , 0.        , 0.        ,\n",
       "        0.16124414, 0.        , 0.9751223 , 0.        , 0.        ],\n",
       "       [0.        , 0.        , 0.        , 0.        , 0.3160544 ,\n",
       "        0.        , 0.73630196, 0.        , 0.35920757, 0.        ],\n",
       "       [0.        , 0.92205393, 0.        , 0.        , 0.        ,\n",
       "        0.        , 0.        , 0.        , 0.19356503, 0.94503564],\n",
       "       [0.        , 0.        , 0.16653366, 0.62377596, 0.        ,\n",
       "        0.        , 0.        , 0.        , 0.52267253, 0.        ],\n",
       "       [0.        , 0.        , 0.        , 0.92419297, 0.        ,\n",
       "        0.7609189 , 0.04974846, 0.        , 0.        , 0.        ],\n",
       "       [0.        , 0.        , 0.00879541, 0.10269472, 0.        ,\n",
       "        0.        , 0.91930735, 0.        , 0.        , 0.        ]],\n",
       "      dtype=float32)"
      ]
     },
     "execution_count": 80,
     "metadata": {},
     "output_type": "execute_result"
    }
   ],
   "source": [
    "b"
   ]
  },
  {
   "cell_type": "code",
   "execution_count": 81,
   "id": "dc2ef4a9",
   "metadata": {},
   "outputs": [],
   "source": [
    "c=np.zeros(b.T.shape)\n",
    "bt = b.T\n",
    "for row in range(bt.shape[0]):\n",
    "    for col in range(bt.shape[1]):\n",
    "        c[row][col] = bt[row][col]"
   ]
  },
  {
   "cell_type": "code",
   "execution_count": 82,
   "id": "75b0c726",
   "metadata": {},
   "outputs": [
    {
     "data": {
      "text/plain": [
       "array([[0.75117236, 0.        , 0.        , 0.        , 0.        ,\n",
       "        0.        , 0.        , 0.        , 0.        , 0.        ],\n",
       "       [0.7945494 , 0.        , 0.33798793, 0.        , 0.18359001,\n",
       "        0.        , 0.92205393, 0.        , 0.        , 0.        ],\n",
       "       [0.        , 0.        , 0.93226814, 0.        , 0.        ,\n",
       "        0.        , 0.        , 0.16653366, 0.        , 0.00879541],\n",
       "       [0.        , 0.        , 0.        , 0.688783  , 0.        ,\n",
       "        0.        , 0.        , 0.62377596, 0.92419297, 0.10269472],\n",
       "       [0.        , 0.8788032 , 0.        , 0.        , 0.        ,\n",
       "        0.3160544 , 0.        , 0.        , 0.        , 0.        ],\n",
       "       [0.        , 0.1774507 , 0.        , 0.        , 0.16124414,\n",
       "        0.        , 0.        , 0.        , 0.7609189 , 0.        ],\n",
       "       [0.        , 0.        , 0.        , 0.48542064, 0.        ,\n",
       "        0.73630196, 0.        , 0.        , 0.04974846, 0.91930735],\n",
       "       [0.        , 0.        , 0.7023786 , 0.        , 0.9751223 ,\n",
       "        0.        , 0.        , 0.        , 0.        , 0.        ],\n",
       "       [0.9490217 , 0.        , 0.        , 0.57669175, 0.        ,\n",
       "        0.35920757, 0.19356503, 0.52267253, 0.        , 0.        ],\n",
       "       [0.        , 0.6388085 , 0.        , 0.        , 0.        ,\n",
       "        0.        , 0.94503564, 0.        , 0.        , 0.        ]],\n",
       "      dtype=float32)"
      ]
     },
     "execution_count": 82,
     "metadata": {},
     "output_type": "execute_result"
    }
   ],
   "source": [
    "bt"
   ]
  },
  {
   "cell_type": "code",
   "execution_count": 83,
   "id": "2de4c770",
   "metadata": {},
   "outputs": [
    {
     "data": {
      "text/plain": [
       "array([[0.75117236, 0.        , 0.        , 0.        , 0.        ,\n",
       "        0.        , 0.        , 0.        , 0.        , 0.        ],\n",
       "       [0.79454941, 0.        , 0.33798793, 0.        , 0.18359001,\n",
       "        0.        , 0.92205393, 0.        , 0.        , 0.        ],\n",
       "       [0.        , 0.        , 0.93226814, 0.        , 0.        ,\n",
       "        0.        , 0.        , 0.16653366, 0.        , 0.00879541],\n",
       "       [0.        , 0.        , 0.        , 0.68878299, 0.        ,\n",
       "        0.        , 0.        , 0.62377596, 0.92419297, 0.10269472],\n",
       "       [0.        , 0.87880319, 0.        , 0.        , 0.        ,\n",
       "        0.3160544 , 0.        , 0.        , 0.        , 0.        ],\n",
       "       [0.        , 0.1774507 , 0.        , 0.        , 0.16124414,\n",
       "        0.        , 0.        , 0.        , 0.76091892, 0.        ],\n",
       "       [0.        , 0.        , 0.        , 0.48542064, 0.        ,\n",
       "        0.73630196, 0.        , 0.        , 0.04974846, 0.91930735],\n",
       "       [0.        , 0.        , 0.70237857, 0.        , 0.97512227,\n",
       "        0.        , 0.        , 0.        , 0.        , 0.        ],\n",
       "       [0.9490217 , 0.        , 0.        , 0.57669175, 0.        ,\n",
       "        0.35920757, 0.19356503, 0.52267253, 0.        , 0.        ],\n",
       "       [0.        , 0.63880849, 0.        , 0.        , 0.        ,\n",
       "        0.        , 0.94503564, 0.        , 0.        , 0.        ]])"
      ]
     },
     "execution_count": 83,
     "metadata": {},
     "output_type": "execute_result"
    }
   ],
   "source": [
    "c"
   ]
  },
  {
   "cell_type": "code",
   "execution_count": 84,
   "id": "ca967ffe",
   "metadata": {},
   "outputs": [],
   "source": [
    "b_buf2 = cl.Buffer(ctx, mf.READ_WRITE | mf.COPY_HOST_PTR, hostbuf=c.astype(np.float32))\n",
    "a_buf = cl.Buffer(ctx, mf.READ_WRITE | mf.COPY_HOST_PTR, hostbuf=a)\n",
    "\n",
    "prg = cl.Program(ctx, \"\"\"\n",
    "    // multilplies x by y WITH Y TRANSPOSED INDEXING\n",
    "    __kernel void matmul0(__global  float* x,     // INPUT MATRIX DATA\n",
    "                          __global  float* y,    // INPUT\n",
    "                          __global  float* res,    // INPUT\n",
    "                          uint msize\n",
    "                          ) { // LOCAL SHARED BUFFER\n",
    "      uint isize = get_global_size(0);\n",
    "      uint osize = get_global_size(1);\n",
    "      int gidx = get_global_id(0); // row\n",
    "      int gidy = get_global_id(1); // col\n",
    "\n",
    "      float ret = 0.0;\n",
    "      for (int i = 0; i < msize; i++) {\n",
    "        uint xidx = gidx*msize+i;\n",
    "        float xval = x[xidx];\n",
    "        uint yidx = msize*gidy+i;\n",
    "        float yval = y[yidx];\n",
    "        ret += xval*yval;\n",
    "        if (gidx==0 && gidy==0)\n",
    "          printf(\"\\\\nmult: %.2f x %.2f - %.2f  -- %i/%i\", xval, yval, res, xidx, yidx);\n",
    "      }\n",
    "\n",
    "      //if (gidx==0&&gidy==0)\n",
    "      //  printf(\"\\\\nsum:%.2f\", ret);\n",
    "      res[gidx * osize + gidy] = ret;\n",
    "    }\"\"\").build()"
   ]
  },
  {
   "cell_type": "code",
   "execution_count": 85,
   "id": "a43dbb5d",
   "metadata": {},
   "outputs": [
    {
     "data": {
      "text/plain": [
       "((8, 10), (10, 10))"
      ]
     },
     "execution_count": 85,
     "metadata": {},
     "output_type": "execute_result"
    }
   ],
   "source": [
    "a.shape, b.T.shape"
   ]
  },
  {
   "cell_type": "code",
   "execution_count": 86,
   "id": "fde0973e",
   "metadata": {},
   "outputs": [],
   "source": [
    "rows = a.shape[0]"
   ]
  },
  {
   "cell_type": "code",
   "execution_count": 87,
   "id": "56c661f2",
   "metadata": {},
   "outputs": [],
   "source": [
    "mult = mult.astype(np.float32)"
   ]
  },
  {
   "cell_type": "code",
   "execution_count": 88,
   "id": "10b1d468",
   "metadata": {},
   "outputs": [
    {
     "name": "stdout",
     "output_type": "stream",
     "text": [
      "\n",
      "mult: 0.00 x 0.75 - 0.00  -- 0/0\n",
      "mult: 0.65 x 0.00 - 0.00  -- 1/1\n",
      "mult: 0.00 x 0.00 - 0.00  -- 2/2\n",
      "mult: 0.00 x 0.00 - 0.00  -- 3/3\n",
      "mult: 0.00 x 0.00 - 0.00  -- 4/4\n",
      "mult: 0.07 x 0.00 - 0.00  -- 5/5\n",
      "mult: 0.00 x 0.00 - 0.00  -- 6/6\n",
      "mult: 0.00 x 0.00 - 0.00  -- 7/7\n",
      "mult: 0.00 x 0.00 - 0.00  -- 8/8\n",
      "mult: 0.24 x 0.00 - 0.00  -- 9/9"
     ]
    },
    {
     "data": {
      "text/plain": [
       "<pyopencl._cl.NannyEvent at 0x7f5884229db0>"
      ]
     },
     "execution_count": 88,
     "metadata": {},
     "output_type": "execute_result"
    }
   ],
   "source": [
    "res_buf = cl.Buffer(ctx, mf.READ_WRITE, np.prod([rows,b.shape[1]])*4)\n",
    "knl = prg.matmul0  # Use this Kernel object for repeated calls\n",
    "knl(queue, [rows,b.shape[1]], None, a_buf, b_buf2, res_buf, np.uint32(a.shape[1]))\n",
    "\n",
    "res_np = np.zeros([rows,b.shape[1]]).astype(np.float32)\n",
    "cl.enqueue_copy(queue, res_np, res_buf)"
   ]
  },
  {
   "cell_type": "code",
   "execution_count": 89,
   "id": "3791c36d",
   "metadata": {},
   "outputs": [
    {
     "data": {
      "text/plain": [
       "0.0"
      ]
     },
     "execution_count": 89,
     "metadata": {},
     "output_type": "execute_result"
    }
   ],
   "source": [
    "(res_np-mult).sum()"
   ]
  },
  {
   "cell_type": "code",
   "execution_count": 90,
   "id": "be02b18f",
   "metadata": {},
   "outputs": [
    {
     "data": {
      "text/plain": [
       "array([[0.        , 0.65016776, 0.        , 0.        , 0.        ,\n",
       "        0.06761027, 0.        , 0.        , 0.        , 0.23628017],\n",
       "       [0.        , 0.        , 0.5084803 , 0.        , 0.        ,\n",
       "        0.34252685, 0.        , 0.        , 0.27032706, 0.        ],\n",
       "       [0.        , 0.        , 0.        , 0.        , 0.        ,\n",
       "        0.08024875, 0.        , 0.        , 0.18381113, 0.4889689 ],\n",
       "       [0.8412975 , 0.6849782 , 0.        , 0.        , 0.        ,\n",
       "        0.        , 0.        , 0.772927  , 0.        , 0.        ],\n",
       "       [0.        , 0.        , 0.4728516 , 0.        , 0.        ,\n",
       "        0.        , 0.01464626, 0.3587053 , 0.        , 0.        ],\n",
       "       [0.        , 0.        , 0.        , 0.47683263, 0.25351405,\n",
       "        0.        , 0.4009562 , 0.        , 0.        , 0.        ],\n",
       "       [0.        , 0.        , 0.45469493, 0.5383059 , 0.        ,\n",
       "        0.        , 0.        , 0.        , 0.7299876 , 0.        ],\n",
       "       [0.        , 0.        , 0.08121876, 0.        , 0.        ,\n",
       "        0.        , 0.        , 0.        , 0.45099235, 0.99066746]],\n",
       "      dtype=float32)"
      ]
     },
     "execution_count": 90,
     "metadata": {},
     "output_type": "execute_result"
    }
   ],
   "source": [
    "a"
   ]
  },
  {
   "cell_type": "code",
   "execution_count": 91,
   "id": "7a112967",
   "metadata": {},
   "outputs": [
    {
     "data": {
      "text/plain": [
       "array([[0.75117236, 0.7945494 , 0.        , 0.        , 0.        ,\n",
       "        0.        , 0.        , 0.        , 0.9490217 , 0.        ],\n",
       "       [0.        , 0.        , 0.        , 0.        , 0.8788032 ,\n",
       "        0.1774507 , 0.        , 0.        , 0.        , 0.6388085 ],\n",
       "       [0.        , 0.33798793, 0.93226814, 0.        , 0.        ,\n",
       "        0.        , 0.        , 0.7023786 , 0.        , 0.        ],\n",
       "       [0.        , 0.        , 0.        , 0.688783  , 0.        ,\n",
       "        0.        , 0.48542064, 0.        , 0.57669175, 0.        ],\n",
       "       [0.        , 0.18359001, 0.        , 0.        , 0.        ,\n",
       "        0.16124414, 0.        , 0.9751223 , 0.        , 0.        ],\n",
       "       [0.        , 0.        , 0.        , 0.        , 0.3160544 ,\n",
       "        0.        , 0.73630196, 0.        , 0.35920757, 0.        ],\n",
       "       [0.        , 0.92205393, 0.        , 0.        , 0.        ,\n",
       "        0.        , 0.        , 0.        , 0.19356503, 0.94503564],\n",
       "       [0.        , 0.        , 0.16653366, 0.62377596, 0.        ,\n",
       "        0.        , 0.        , 0.        , 0.52267253, 0.        ],\n",
       "       [0.        , 0.        , 0.        , 0.92419297, 0.        ,\n",
       "        0.7609189 , 0.04974846, 0.        , 0.        , 0.        ],\n",
       "       [0.        , 0.        , 0.00879541, 0.10269472, 0.        ,\n",
       "        0.        , 0.91930735, 0.        , 0.        , 0.        ]],\n",
       "      dtype=float32)"
      ]
     },
     "execution_count": 91,
     "metadata": {},
     "output_type": "execute_result"
    }
   ],
   "source": [
    "b"
   ]
  },
  {
   "cell_type": "code",
   "execution_count": 92,
   "id": "0bdbf257",
   "metadata": {},
   "outputs": [
    {
     "data": {
      "text/plain": [
       "array([[0.        , 0.        , 0.00207818, 0.02426473, 0.59273803,\n",
       "        0.11537272, 0.26699567, 0.        , 0.02428612, 0.41533267],\n",
       "       [0.        , 0.1718602 , 0.47404   , 0.24983437, 0.10825712,\n",
       "        0.20569697, 0.26565155, 0.35714567, 0.12303824, 0.        ],\n",
       "       [0.        , 0.        , 0.00430068, 0.22009148, 0.02536297,\n",
       "        0.13986537, 0.51774436, 0.        , 0.02882596, 0.        ],\n",
       "       [0.63195944, 0.66845244, 0.12871836, 0.48213327, 0.601961  ,\n",
       "        0.12154986, 0.        , 0.        , 1.2023973 , 0.4375699 ],\n",
       "       [0.        , 0.17332277, 0.500561  , 0.22375175, 0.        ,\n",
       "        0.        , 0.        , 0.33212084, 0.19032042, 0.01384124],\n",
       "       [0.        , 0.4162459 , 0.        , 0.3284342 , 0.        ,\n",
       "        0.04087766, 0.2314644 , 0.2472072 , 0.35259652, 0.3789179 ],\n",
       "       [0.        , 0.1536814 , 0.4238976 , 1.0454254 , 0.        ,\n",
       "        0.5554614 , 0.29762056, 0.31936797, 0.31043655, 0.        ],\n",
       "       [0.        , 0.02745096, 0.08443099, 0.51854026, 0.        ,\n",
       "        0.34316862, 0.93316406, 0.05704632, 0.        , 0.        ]],\n",
       "      dtype=float32)"
      ]
     },
     "execution_count": 92,
     "metadata": {},
     "output_type": "execute_result"
    }
   ],
   "source": [
    "res_np"
   ]
  },
  {
   "cell_type": "code",
   "execution_count": 93,
   "id": "4e43e4c3",
   "metadata": {},
   "outputs": [
    {
     "data": {
      "text/plain": [
       "array([[0.        , 0.        , 0.00207818, 0.02426473, 0.59273803,\n",
       "        0.11537272, 0.26699567, 0.        , 0.02428612, 0.41533267],\n",
       "       [0.        , 0.1718602 , 0.47404   , 0.24983437, 0.10825712,\n",
       "        0.20569697, 0.26565155, 0.35714567, 0.12303824, 0.        ],\n",
       "       [0.        , 0.        , 0.00430068, 0.22009148, 0.02536297,\n",
       "        0.13986537, 0.51774436, 0.        , 0.02882596, 0.        ],\n",
       "       [0.63195944, 0.66845244, 0.12871836, 0.48213327, 0.601961  ,\n",
       "        0.12154986, 0.        , 0.        , 1.2023973 , 0.4375699 ],\n",
       "       [0.        , 0.17332277, 0.500561  , 0.22375175, 0.        ,\n",
       "        0.        , 0.        , 0.33212084, 0.19032042, 0.01384124],\n",
       "       [0.        , 0.4162459 , 0.        , 0.3284342 , 0.        ,\n",
       "        0.04087766, 0.2314644 , 0.2472072 , 0.35259652, 0.3789179 ],\n",
       "       [0.        , 0.1536814 , 0.4238976 , 1.0454254 , 0.        ,\n",
       "        0.5554614 , 0.29762056, 0.31936797, 0.31043655, 0.        ],\n",
       "       [0.        , 0.02745096, 0.08443099, 0.51854026, 0.        ,\n",
       "        0.34316862, 0.93316406, 0.05704632, 0.        , 0.        ]],\n",
       "      dtype=float32)"
      ]
     },
     "execution_count": 93,
     "metadata": {},
     "output_type": "execute_result"
    }
   ],
   "source": [
    "a.dot(b)"
   ]
  },
  {
   "cell_type": "code",
   "execution_count": 94,
   "id": "fbe02272",
   "metadata": {},
   "outputs": [
    {
     "data": {
      "text/plain": [
       "array([[ True,  True,  True,  True,  True,  True,  True,  True,  True,\n",
       "         True],\n",
       "       [ True,  True,  True,  True,  True,  True,  True,  True,  True,\n",
       "         True],\n",
       "       [ True,  True,  True,  True,  True,  True,  True,  True,  True,\n",
       "         True],\n",
       "       [ True,  True,  True,  True,  True,  True,  True,  True,  True,\n",
       "         True],\n",
       "       [ True,  True,  True,  True,  True,  True,  True,  True,  True,\n",
       "         True],\n",
       "       [ True,  True,  True,  True,  True,  True,  True,  True,  True,\n",
       "         True],\n",
       "       [ True,  True,  True,  True,  True,  True,  True,  True,  True,\n",
       "         True],\n",
       "       [ True,  True,  True,  True,  True,  True,  True,  True,  True,\n",
       "         True]])"
      ]
     },
     "execution_count": 94,
     "metadata": {},
     "output_type": "execute_result"
    }
   ],
   "source": [
    "res_np==mult"
   ]
  },
  {
   "cell_type": "code",
   "execution_count": 95,
   "id": "bb6187da",
   "metadata": {},
   "outputs": [
    {
     "data": {
      "text/plain": [
       "(8, 10)"
      ]
     },
     "execution_count": 95,
     "metadata": {},
     "output_type": "execute_result"
    }
   ],
   "source": [
    "res_np.shape"
   ]
  },
  {
   "cell_type": "code",
   "execution_count": 96,
   "id": "af9e3da1",
   "metadata": {},
   "outputs": [
    {
     "data": {
      "text/plain": [
       "(8, 10)"
      ]
     },
     "execution_count": 96,
     "metadata": {},
     "output_type": "execute_result"
    }
   ],
   "source": [
    "mult.shape"
   ]
  },
  {
   "cell_type": "markdown",
   "id": "726b7e0f",
   "metadata": {},
   "source": [
    "# Matmult Transposed Dense"
   ]
  },
  {
   "cell_type": "code",
   "execution_count": 97,
   "id": "7adbefce",
   "metadata": {},
   "outputs": [
    {
     "data": {
      "text/plain": [
       "array([[0.75117236, 0.7945494 , 0.        , 0.        , 0.        ,\n",
       "        0.        , 0.        , 0.        , 0.9490217 , 0.        ],\n",
       "       [0.        , 0.        , 0.        , 0.        , 0.8788032 ,\n",
       "        0.1774507 , 0.        , 0.        , 0.        , 0.6388085 ],\n",
       "       [0.        , 0.33798793, 0.93226814, 0.        , 0.        ,\n",
       "        0.        , 0.        , 0.7023786 , 0.        , 0.        ],\n",
       "       [0.        , 0.        , 0.        , 0.688783  , 0.        ,\n",
       "        0.        , 0.48542064, 0.        , 0.57669175, 0.        ],\n",
       "       [0.        , 0.18359001, 0.        , 0.        , 0.        ,\n",
       "        0.16124414, 0.        , 0.9751223 , 0.        , 0.        ],\n",
       "       [0.        , 0.        , 0.        , 0.        , 0.3160544 ,\n",
       "        0.        , 0.73630196, 0.        , 0.35920757, 0.        ],\n",
       "       [0.        , 0.92205393, 0.        , 0.        , 0.        ,\n",
       "        0.        , 0.        , 0.        , 0.19356503, 0.94503564],\n",
       "       [0.        , 0.        , 0.16653366, 0.62377596, 0.        ,\n",
       "        0.        , 0.        , 0.        , 0.52267253, 0.        ],\n",
       "       [0.        , 0.        , 0.        , 0.92419297, 0.        ,\n",
       "        0.7609189 , 0.04974846, 0.        , 0.        , 0.        ],\n",
       "       [0.        , 0.        , 0.00879541, 0.10269472, 0.        ,\n",
       "        0.        , 0.91930735, 0.        , 0.        , 0.        ]],\n",
       "      dtype=float32)"
      ]
     },
     "execution_count": 97,
     "metadata": {},
     "output_type": "execute_result"
    }
   ],
   "source": [
    "b"
   ]
  },
  {
   "cell_type": "code",
   "execution_count": 98,
   "id": "f9d3c30b",
   "metadata": {},
   "outputs": [],
   "source": [
    "c=np.zeros(a.T.shape)\n",
    "at = a.T\n",
    "for row in range(at.shape[0]):\n",
    "    for col in range(at.shape[1]):\n",
    "        c[row][col] = at[row][col]"
   ]
  },
  {
   "cell_type": "code",
   "execution_count": 99,
   "id": "4caaa1df",
   "metadata": {},
   "outputs": [
    {
     "data": {
      "text/plain": [
       "array([[0.        , 0.        , 0.        , 0.8412975 , 0.        ,\n",
       "        0.        , 0.        , 0.        ],\n",
       "       [0.65016776, 0.        , 0.        , 0.6849782 , 0.        ,\n",
       "        0.        , 0.        , 0.        ],\n",
       "       [0.        , 0.5084803 , 0.        , 0.        , 0.4728516 ,\n",
       "        0.        , 0.45469493, 0.08121876],\n",
       "       [0.        , 0.        , 0.        , 0.        , 0.        ,\n",
       "        0.47683263, 0.5383059 , 0.        ],\n",
       "       [0.        , 0.        , 0.        , 0.        , 0.        ,\n",
       "        0.25351405, 0.        , 0.        ],\n",
       "       [0.06761027, 0.34252685, 0.08024875, 0.        , 0.        ,\n",
       "        0.        , 0.        , 0.        ],\n",
       "       [0.        , 0.        , 0.        , 0.        , 0.01464626,\n",
       "        0.4009562 , 0.        , 0.        ],\n",
       "       [0.        , 0.        , 0.        , 0.772927  , 0.3587053 ,\n",
       "        0.        , 0.        , 0.        ],\n",
       "       [0.        , 0.27032706, 0.18381113, 0.        , 0.        ,\n",
       "        0.        , 0.7299876 , 0.45099235],\n",
       "       [0.23628017, 0.        , 0.4889689 , 0.        , 0.        ,\n",
       "        0.        , 0.        , 0.99066746]], dtype=float32)"
      ]
     },
     "execution_count": 99,
     "metadata": {},
     "output_type": "execute_result"
    }
   ],
   "source": [
    "at"
   ]
  },
  {
   "cell_type": "code",
   "execution_count": 100,
   "id": "bc2e5522",
   "metadata": {},
   "outputs": [
    {
     "data": {
      "text/plain": [
       "array([[0.        , 0.        , 0.        , 0.84129751, 0.        ,\n",
       "        0.        , 0.        , 0.        ],\n",
       "       [0.65016776, 0.        , 0.        , 0.68497819, 0.        ,\n",
       "        0.        , 0.        , 0.        ],\n",
       "       [0.        , 0.50848031, 0.        , 0.        , 0.4728516 ,\n",
       "        0.        , 0.45469493, 0.08121876],\n",
       "       [0.        , 0.        , 0.        , 0.        , 0.        ,\n",
       "        0.47683263, 0.53830588, 0.        ],\n",
       "       [0.        , 0.        , 0.        , 0.        , 0.        ,\n",
       "        0.25351405, 0.        , 0.        ],\n",
       "       [0.06761027, 0.34252685, 0.08024875, 0.        , 0.        ,\n",
       "        0.        , 0.        , 0.        ],\n",
       "       [0.        , 0.        , 0.        , 0.        , 0.01464626,\n",
       "        0.40095621, 0.        , 0.        ],\n",
       "       [0.        , 0.        , 0.        , 0.77292699, 0.35870531,\n",
       "        0.        , 0.        , 0.        ],\n",
       "       [0.        , 0.27032706, 0.18381113, 0.        , 0.        ,\n",
       "        0.        , 0.72998762, 0.45099235],\n",
       "       [0.23628017, 0.        , 0.48896891, 0.        , 0.        ,\n",
       "        0.        , 0.        , 0.99066746]])"
      ]
     },
     "execution_count": 100,
     "metadata": {},
     "output_type": "execute_result"
    }
   ],
   "source": [
    "c"
   ]
  },
  {
   "cell_type": "code",
   "execution_count": 101,
   "id": "ca096192",
   "metadata": {},
   "outputs": [],
   "source": [
    "a_buf = cl.Buffer(ctx, mf.READ_WRITE | mf.COPY_HOST_PTR, hostbuf=c.astype(np.float32))\n",
    "b_buf = cl.Buffer(ctx, mf.READ_WRITE | mf.COPY_HOST_PTR, hostbuf=b)\n",
    "\n",
    "prg = cl.Program(ctx, \"\"\"\n",
    "    // multilplies x TRANSPOSED by y (dense-dense)\n",
    "    __kernel void matmul0(__global  float* x,     // INPUT MATRIX DATA\n",
    "                          __global  float* y,    // INPUT\n",
    "                          __global  float* res,    // INPUT\n",
    "                          uint msize,\n",
    "                          uint isize\n",
    "                          ) { // LOCAL SHARED BUFFER\n",
    "      uint osize = get_global_size(0);\n",
    "      int gidy = get_global_id(0); // row\n",
    "      \n",
    "      for (uint gidx = 0; gidx < isize; gidx++) {\n",
    "        float ret = 0.0;\n",
    "        for (uint i = 0; i < msize; i++) {\n",
    "          uint xidx = i*isize+gidx;\n",
    "          float xval = x[xidx];\n",
    "          uint yidx = osize*i+gidy;\n",
    "          float yval = y[yidx];\n",
    "          ret += xval*yval;\n",
    "          if (gidx==0 && gidy==0)\n",
    "            printf(\"\\\\nmult: %.2f x %.2f - %.2f  -- %i/%i\", xval, yval, ret, xidx, yidx);\n",
    "        }\n",
    "        //if (gidx==0&&gidy==0)\n",
    "        //  printf(\"\\\\nsum:%.2f\", ret);\n",
    "        res[gidx * osize + gidy] = ret;\n",
    "      }\n",
    "    }\"\"\").build()"
   ]
  },
  {
   "cell_type": "code",
   "execution_count": 102,
   "id": "6bcc4256",
   "metadata": {},
   "outputs": [
    {
     "data": {
      "text/plain": [
       "((8, 10), (10, 10))"
      ]
     },
     "execution_count": 102,
     "metadata": {},
     "output_type": "execute_result"
    }
   ],
   "source": [
    "a.shape, b.T.shape"
   ]
  },
  {
   "cell_type": "code",
   "execution_count": 103,
   "id": "81be729b",
   "metadata": {},
   "outputs": [],
   "source": [
    "rows = a.shape[0]"
   ]
  },
  {
   "cell_type": "code",
   "execution_count": 104,
   "id": "e17d0d40",
   "metadata": {},
   "outputs": [],
   "source": [
    "mult = mult.astype(np.float32)"
   ]
  },
  {
   "cell_type": "code",
   "execution_count": 105,
   "id": "5d469907",
   "metadata": {},
   "outputs": [
    {
     "name": "stdout",
     "output_type": "stream",
     "text": [
      "\n",
      "mult: 0.00 x 0.75 - 0.00  -- 0/0\n",
      "mult: 0.65 x 0.00 - 0.00  -- 8/10\n",
      "mult: 0.00 x 0.00 - 0.00  -- 16/20\n",
      "mult: 0.00 x 0.00 - 0.00  -- 24/30\n",
      "mult: 0.00 x 0.00 - 0.00  -- 32/40\n",
      "mult: 0.07 x 0.00 - 0.00  -- 40/50\n",
      "mult: 0.00 x 0.00 - 0.00  -- 48/60\n",
      "mult: 0.00 x 0.00 - 0.00  -- 56/70\n",
      "mult: 0.00 x 0.00 - 0.00  -- 64/80\n",
      "mult: 0.24 x 0.00 - 0.00  -- 72/90"
     ]
    },
    {
     "data": {
      "text/plain": [
       "<pyopencl._cl.NannyEvent at 0x7f588423af90>"
      ]
     },
     "execution_count": 105,
     "metadata": {},
     "output_type": "execute_result"
    }
   ],
   "source": [
    "res_buf = cl.Buffer(ctx, mf.READ_WRITE, np.prod([rows,b.shape[1]])*4)\n",
    "knl = prg.matmul0  # Use this Kernel object for repeated calls\n",
    "knl(queue, [b.shape[1]], None, a_buf, b_buf, res_buf, np.uint32(a.shape[1]), np.uint32(rows))\n",
    "\n",
    "res_np = np.zeros([rows,b.shape[1]]).astype(np.float32)\n",
    "cl.enqueue_copy(queue, res_np, res_buf)"
   ]
  },
  {
   "cell_type": "code",
   "execution_count": 106,
   "id": "c7ca806a",
   "metadata": {},
   "outputs": [
    {
     "data": {
      "text/plain": [
       "0.0"
      ]
     },
     "execution_count": 106,
     "metadata": {},
     "output_type": "execute_result"
    }
   ],
   "source": [
    "(res_np-mult).sum()"
   ]
  },
  {
   "cell_type": "code",
   "execution_count": 107,
   "id": "067cf8fc",
   "metadata": {},
   "outputs": [
    {
     "data": {
      "text/plain": [
       "array([[0.        , 0.65016776, 0.        , 0.        , 0.        ,\n",
       "        0.06761027, 0.        , 0.        , 0.        , 0.23628017],\n",
       "       [0.        , 0.        , 0.5084803 , 0.        , 0.        ,\n",
       "        0.34252685, 0.        , 0.        , 0.27032706, 0.        ],\n",
       "       [0.        , 0.        , 0.        , 0.        , 0.        ,\n",
       "        0.08024875, 0.        , 0.        , 0.18381113, 0.4889689 ],\n",
       "       [0.8412975 , 0.6849782 , 0.        , 0.        , 0.        ,\n",
       "        0.        , 0.        , 0.772927  , 0.        , 0.        ],\n",
       "       [0.        , 0.        , 0.4728516 , 0.        , 0.        ,\n",
       "        0.        , 0.01464626, 0.3587053 , 0.        , 0.        ],\n",
       "       [0.        , 0.        , 0.        , 0.47683263, 0.25351405,\n",
       "        0.        , 0.4009562 , 0.        , 0.        , 0.        ],\n",
       "       [0.        , 0.        , 0.45469493, 0.5383059 , 0.        ,\n",
       "        0.        , 0.        , 0.        , 0.7299876 , 0.        ],\n",
       "       [0.        , 0.        , 0.08121876, 0.        , 0.        ,\n",
       "        0.        , 0.        , 0.        , 0.45099235, 0.99066746]],\n",
       "      dtype=float32)"
      ]
     },
     "execution_count": 107,
     "metadata": {},
     "output_type": "execute_result"
    }
   ],
   "source": [
    "a"
   ]
  },
  {
   "cell_type": "code",
   "execution_count": 108,
   "id": "0fd446e8",
   "metadata": {},
   "outputs": [
    {
     "data": {
      "text/plain": [
       "array([[0.75117236, 0.7945494 , 0.        , 0.        , 0.        ,\n",
       "        0.        , 0.        , 0.        , 0.9490217 , 0.        ],\n",
       "       [0.        , 0.        , 0.        , 0.        , 0.8788032 ,\n",
       "        0.1774507 , 0.        , 0.        , 0.        , 0.6388085 ],\n",
       "       [0.        , 0.33798793, 0.93226814, 0.        , 0.        ,\n",
       "        0.        , 0.        , 0.7023786 , 0.        , 0.        ],\n",
       "       [0.        , 0.        , 0.        , 0.688783  , 0.        ,\n",
       "        0.        , 0.48542064, 0.        , 0.57669175, 0.        ],\n",
       "       [0.        , 0.18359001, 0.        , 0.        , 0.        ,\n",
       "        0.16124414, 0.        , 0.9751223 , 0.        , 0.        ],\n",
       "       [0.        , 0.        , 0.        , 0.        , 0.3160544 ,\n",
       "        0.        , 0.73630196, 0.        , 0.35920757, 0.        ],\n",
       "       [0.        , 0.92205393, 0.        , 0.        , 0.        ,\n",
       "        0.        , 0.        , 0.        , 0.19356503, 0.94503564],\n",
       "       [0.        , 0.        , 0.16653366, 0.62377596, 0.        ,\n",
       "        0.        , 0.        , 0.        , 0.52267253, 0.        ],\n",
       "       [0.        , 0.        , 0.        , 0.92419297, 0.        ,\n",
       "        0.7609189 , 0.04974846, 0.        , 0.        , 0.        ],\n",
       "       [0.        , 0.        , 0.00879541, 0.10269472, 0.        ,\n",
       "        0.        , 0.91930735, 0.        , 0.        , 0.        ]],\n",
       "      dtype=float32)"
      ]
     },
     "execution_count": 108,
     "metadata": {},
     "output_type": "execute_result"
    }
   ],
   "source": [
    "b"
   ]
  },
  {
   "cell_type": "code",
   "execution_count": 109,
   "id": "334f65af",
   "metadata": {},
   "outputs": [
    {
     "data": {
      "text/plain": [
       "array([[0.        , 0.        , 0.00207818, 0.02426473, 0.59273803,\n",
       "        0.11537272, 0.26699567, 0.        , 0.02428612, 0.41533267],\n",
       "       [0.        , 0.1718602 , 0.47404   , 0.24983437, 0.10825712,\n",
       "        0.20569697, 0.26565155, 0.35714567, 0.12303824, 0.        ],\n",
       "       [0.        , 0.        , 0.00430068, 0.22009148, 0.02536297,\n",
       "        0.13986537, 0.51774436, 0.        , 0.02882596, 0.        ],\n",
       "       [0.63195944, 0.66845244, 0.12871836, 0.48213327, 0.601961  ,\n",
       "        0.12154986, 0.        , 0.        , 1.2023973 , 0.4375699 ],\n",
       "       [0.        , 0.17332277, 0.500561  , 0.22375175, 0.        ,\n",
       "        0.        , 0.        , 0.33212084, 0.19032042, 0.01384124],\n",
       "       [0.        , 0.4162459 , 0.        , 0.3284342 , 0.        ,\n",
       "        0.04087766, 0.2314644 , 0.2472072 , 0.35259652, 0.3789179 ],\n",
       "       [0.        , 0.1536814 , 0.4238976 , 1.0454254 , 0.        ,\n",
       "        0.5554614 , 0.29762056, 0.31936797, 0.31043655, 0.        ],\n",
       "       [0.        , 0.02745096, 0.08443099, 0.51854026, 0.        ,\n",
       "        0.34316862, 0.93316406, 0.05704632, 0.        , 0.        ]],\n",
       "      dtype=float32)"
      ]
     },
     "execution_count": 109,
     "metadata": {},
     "output_type": "execute_result"
    }
   ],
   "source": [
    "res_np"
   ]
  },
  {
   "cell_type": "code",
   "execution_count": 110,
   "id": "c588082c",
   "metadata": {},
   "outputs": [
    {
     "data": {
      "text/plain": [
       "array([[0.        , 0.        , 0.00207818, 0.02426473, 0.59273803,\n",
       "        0.11537272, 0.26699567, 0.        , 0.02428612, 0.41533267],\n",
       "       [0.        , 0.1718602 , 0.47404   , 0.24983437, 0.10825712,\n",
       "        0.20569697, 0.26565155, 0.35714567, 0.12303824, 0.        ],\n",
       "       [0.        , 0.        , 0.00430068, 0.22009148, 0.02536297,\n",
       "        0.13986537, 0.51774436, 0.        , 0.02882596, 0.        ],\n",
       "       [0.63195944, 0.66845244, 0.12871836, 0.48213327, 0.601961  ,\n",
       "        0.12154986, 0.        , 0.        , 1.2023973 , 0.4375699 ],\n",
       "       [0.        , 0.17332277, 0.500561  , 0.22375175, 0.        ,\n",
       "        0.        , 0.        , 0.33212084, 0.19032042, 0.01384124],\n",
       "       [0.        , 0.4162459 , 0.        , 0.3284342 , 0.        ,\n",
       "        0.04087766, 0.2314644 , 0.2472072 , 0.35259652, 0.3789179 ],\n",
       "       [0.        , 0.1536814 , 0.4238976 , 1.0454254 , 0.        ,\n",
       "        0.5554614 , 0.29762056, 0.31936797, 0.31043655, 0.        ],\n",
       "       [0.        , 0.02745096, 0.08443099, 0.51854026, 0.        ,\n",
       "        0.34316862, 0.93316406, 0.05704632, 0.        , 0.        ]],\n",
       "      dtype=float32)"
      ]
     },
     "execution_count": 110,
     "metadata": {},
     "output_type": "execute_result"
    }
   ],
   "source": [
    "a.dot(b)"
   ]
  },
  {
   "cell_type": "code",
   "execution_count": 111,
   "id": "e6187e1f",
   "metadata": {},
   "outputs": [
    {
     "data": {
      "text/plain": [
       "array([[ True,  True,  True,  True,  True,  True,  True,  True,  True,\n",
       "         True],\n",
       "       [ True,  True,  True,  True,  True,  True,  True,  True,  True,\n",
       "         True],\n",
       "       [ True,  True,  True,  True,  True,  True,  True,  True,  True,\n",
       "         True],\n",
       "       [ True,  True,  True,  True,  True,  True,  True,  True,  True,\n",
       "         True],\n",
       "       [ True,  True,  True,  True,  True,  True,  True,  True,  True,\n",
       "         True],\n",
       "       [ True,  True,  True,  True,  True,  True,  True,  True,  True,\n",
       "         True],\n",
       "       [ True,  True,  True,  True,  True,  True,  True,  True,  True,\n",
       "         True],\n",
       "       [ True,  True,  True,  True,  True,  True,  True,  True,  True,\n",
       "         True]])"
      ]
     },
     "execution_count": 111,
     "metadata": {},
     "output_type": "execute_result"
    }
   ],
   "source": [
    "res_np==mult"
   ]
  },
  {
   "cell_type": "code",
   "execution_count": 112,
   "id": "eb36e476",
   "metadata": {},
   "outputs": [
    {
     "data": {
      "text/plain": [
       "(8, 10)"
      ]
     },
     "execution_count": 112,
     "metadata": {},
     "output_type": "execute_result"
    }
   ],
   "source": [
    "res_np.shape"
   ]
  },
  {
   "cell_type": "code",
   "execution_count": 113,
   "id": "7e406268",
   "metadata": {},
   "outputs": [
    {
     "data": {
      "text/plain": [
       "(8, 10)"
      ]
     },
     "execution_count": 113,
     "metadata": {},
     "output_type": "execute_result"
    }
   ],
   "source": [
    "mult.shape"
   ]
  },
  {
   "cell_type": "markdown",
   "id": "59835b7e",
   "metadata": {},
   "source": [
    "# Matmult Dense Transposed2"
   ]
  },
  {
   "cell_type": "code",
   "execution_count": 114,
   "id": "4a6954ad",
   "metadata": {},
   "outputs": [],
   "source": [
    "b_buf2 = cl.Buffer(ctx, mf.READ_WRITE | mf.COPY_HOST_PTR, hostbuf=b)\n",
    "a_buf = cl.Buffer(ctx, mf.READ_WRITE | mf.COPY_HOST_PTR, hostbuf=a)\n",
    "\n",
    "prg = cl.Program(ctx, \"\"\"\n",
    "    // multilplies x by y WITH Y TRANSPOSED INDEXING\n",
    "    __kernel void matmul0(__global  float* x,     // INPUT MATRIX DATA\n",
    "                          __global  float* y,    // INPUT\n",
    "                          __global  float* res,    // INPUT\n",
    "                          uint msize,\n",
    "                          uint osize\n",
    "                          ) { // LOCAL SHARED BUFFER\n",
    "      uint isize = get_global_size(0);\n",
    "      // osize = get_global_size(1);\n",
    "      int gidx = get_global_id(0); // col\n",
    "      // int gidy = get_global_id(1); // row\n",
    "\n",
    "      for (uint gidy = 0; gidy < osize; gidy++) {\n",
    "        float ret = 0.0;\n",
    "        for (uint i = 0; i < msize; i++) {\n",
    "          ret += x[gidx*msize+i]*y[i*osize+gidy];\n",
    "          if (gidx==0 && gidy==0)\n",
    "            printf(\"\\\\nmult: %.2f x %.2f - %.2f\", x[gidx*msize+i],y[i*msize+gidy], ret);\n",
    "        }\n",
    "\n",
    "        //if (gidx==0&&gidy==0)\n",
    "        //  printf(\"\\\\nsum:%.2f\", ret);\n",
    "        res[gidx * osize + gidy] = ret;\n",
    "      }\n",
    "    }\"\"\").build()"
   ]
  },
  {
   "cell_type": "code",
   "execution_count": 115,
   "id": "c8a9728b",
   "metadata": {},
   "outputs": [
    {
     "data": {
      "text/plain": [
       "((8, 10), (10, 10))"
      ]
     },
     "execution_count": 115,
     "metadata": {},
     "output_type": "execute_result"
    }
   ],
   "source": [
    "a.shape, b.shape"
   ]
  },
  {
   "cell_type": "code",
   "execution_count": 116,
   "id": "af31f5a8",
   "metadata": {},
   "outputs": [],
   "source": [
    "res = np.zeros(a.shape[0]).astype(np.float32)\n",
    "#res"
   ]
  },
  {
   "cell_type": "code",
   "execution_count": 117,
   "id": "bfe05099",
   "metadata": {},
   "outputs": [],
   "source": [
    "rows = a.shape[0]"
   ]
  },
  {
   "cell_type": "code",
   "execution_count": 118,
   "id": "f468303a",
   "metadata": {},
   "outputs": [],
   "source": [
    "mult = mult.astype(np.float32)"
   ]
  },
  {
   "cell_type": "code",
   "execution_count": 119,
   "id": "3be17413",
   "metadata": {},
   "outputs": [
    {
     "data": {
      "text/plain": [
       "<pyopencl._cl.NannyEvent at 0x7f58842aeea0>"
      ]
     },
     "execution_count": 119,
     "metadata": {},
     "output_type": "execute_result"
    },
    {
     "name": "stdout",
     "output_type": "stream",
     "text": [
      "\n",
      "mult: 0.00 x 0.75 - 0.00\n",
      "mult: 0.65 x 0.00 - 0.00\n",
      "mult: 0.00 x 0.00 - 0.00\n",
      "mult: 0.00 x 0.00 - 0.00\n",
      "mult: 0.00 x 0.00 - 0.00\n",
      "mult: 0.07 x 0.00 - 0.00\n",
      "mult: 0.00 x 0.00 - 0.00\n",
      "mult: 0.00 x 0.00 - 0.00\n",
      "mult: 0.00 x 0.00 - 0.00\n",
      "mult: 0.24 x 0.00 - 0.00"
     ]
    }
   ],
   "source": [
    "res_buf = cl.Buffer(ctx, mf.READ_WRITE, np.prod([rows,b.shape[1]])*4)\n",
    "knl = prg.matmul0  # Use this Kernel object for repeated calls\n",
    "knl(queue, [rows], None, a_buf, b_buf2, res_buf, np.uint32(a.shape[1]), np.uint32(b.shape[1]))\n",
    "\n",
    "res_np = np.zeros([rows,b.shape[1]]).astype(np.float32)\n",
    "cl.enqueue_copy(queue, res_np, res_buf)"
   ]
  },
  {
   "cell_type": "code",
   "execution_count": 120,
   "id": "49f1bc06",
   "metadata": {},
   "outputs": [
    {
     "data": {
      "text/plain": [
       "0.0"
      ]
     },
     "execution_count": 120,
     "metadata": {},
     "output_type": "execute_result"
    }
   ],
   "source": [
    "(res_np-mult).sum()"
   ]
  },
  {
   "cell_type": "code",
   "execution_count": 121,
   "id": "b721089a",
   "metadata": {},
   "outputs": [
    {
     "data": {
      "text/plain": [
       "array([[0.        , 0.65016776, 0.        , 0.        , 0.        ,\n",
       "        0.06761027, 0.        , 0.        , 0.        , 0.23628017],\n",
       "       [0.        , 0.        , 0.5084803 , 0.        , 0.        ,\n",
       "        0.34252685, 0.        , 0.        , 0.27032706, 0.        ],\n",
       "       [0.        , 0.        , 0.        , 0.        , 0.        ,\n",
       "        0.08024875, 0.        , 0.        , 0.18381113, 0.4889689 ],\n",
       "       [0.8412975 , 0.6849782 , 0.        , 0.        , 0.        ,\n",
       "        0.        , 0.        , 0.772927  , 0.        , 0.        ],\n",
       "       [0.        , 0.        , 0.4728516 , 0.        , 0.        ,\n",
       "        0.        , 0.01464626, 0.3587053 , 0.        , 0.        ],\n",
       "       [0.        , 0.        , 0.        , 0.47683263, 0.25351405,\n",
       "        0.        , 0.4009562 , 0.        , 0.        , 0.        ],\n",
       "       [0.        , 0.        , 0.45469493, 0.5383059 , 0.        ,\n",
       "        0.        , 0.        , 0.        , 0.7299876 , 0.        ],\n",
       "       [0.        , 0.        , 0.08121876, 0.        , 0.        ,\n",
       "        0.        , 0.        , 0.        , 0.45099235, 0.99066746]],\n",
       "      dtype=float32)"
      ]
     },
     "execution_count": 121,
     "metadata": {},
     "output_type": "execute_result"
    }
   ],
   "source": [
    "a"
   ]
  },
  {
   "cell_type": "code",
   "execution_count": 122,
   "id": "a03001f2",
   "metadata": {},
   "outputs": [
    {
     "data": {
      "text/plain": [
       "array([[0.75117236, 0.        , 0.        , 0.        , 0.        ,\n",
       "        0.        , 0.        , 0.        , 0.        , 0.        ],\n",
       "       [0.7945494 , 0.        , 0.33798793, 0.        , 0.18359001,\n",
       "        0.        , 0.92205393, 0.        , 0.        , 0.        ],\n",
       "       [0.        , 0.        , 0.93226814, 0.        , 0.        ,\n",
       "        0.        , 0.        , 0.16653366, 0.        , 0.00879541],\n",
       "       [0.        , 0.        , 0.        , 0.688783  , 0.        ,\n",
       "        0.        , 0.        , 0.62377596, 0.92419297, 0.10269472],\n",
       "       [0.        , 0.8788032 , 0.        , 0.        , 0.        ,\n",
       "        0.3160544 , 0.        , 0.        , 0.        , 0.        ],\n",
       "       [0.        , 0.1774507 , 0.        , 0.        , 0.16124414,\n",
       "        0.        , 0.        , 0.        , 0.7609189 , 0.        ],\n",
       "       [0.        , 0.        , 0.        , 0.48542064, 0.        ,\n",
       "        0.73630196, 0.        , 0.        , 0.04974846, 0.91930735],\n",
       "       [0.        , 0.        , 0.7023786 , 0.        , 0.9751223 ,\n",
       "        0.        , 0.        , 0.        , 0.        , 0.        ],\n",
       "       [0.9490217 , 0.        , 0.        , 0.57669175, 0.        ,\n",
       "        0.35920757, 0.19356503, 0.52267253, 0.        , 0.        ],\n",
       "       [0.        , 0.6388085 , 0.        , 0.        , 0.        ,\n",
       "        0.        , 0.94503564, 0.        , 0.        , 0.        ]],\n",
       "      dtype=float32)"
      ]
     },
     "execution_count": 122,
     "metadata": {},
     "output_type": "execute_result"
    }
   ],
   "source": [
    "b.T"
   ]
  },
  {
   "cell_type": "code",
   "execution_count": 123,
   "id": "7b5dd59e",
   "metadata": {},
   "outputs": [
    {
     "data": {
      "text/plain": [
       "array([0.        , 0.65016776, 0.        , 0.        , 0.        ,\n",
       "       0.06761027, 0.        , 0.        , 0.        , 0.23628017],\n",
       "      dtype=float32)"
      ]
     },
     "execution_count": 123,
     "metadata": {},
     "output_type": "execute_result"
    }
   ],
   "source": [
    "a[0]"
   ]
  },
  {
   "cell_type": "code",
   "execution_count": 124,
   "id": "d8c0f986",
   "metadata": {},
   "outputs": [
    {
     "data": {
      "text/plain": [
       "array([0.75117236, 0.        , 0.        , 0.        , 0.        ,\n",
       "       0.        , 0.        , 0.        , 0.        , 0.        ],\n",
       "      dtype=float32)"
      ]
     },
     "execution_count": 124,
     "metadata": {},
     "output_type": "execute_result"
    }
   ],
   "source": [
    "b.T[0]"
   ]
  },
  {
   "cell_type": "code",
   "execution_count": 125,
   "id": "94c47d91",
   "metadata": {},
   "outputs": [
    {
     "data": {
      "text/plain": [
       "<pyopencl._cl.Buffer at 0x7f5884245720>"
      ]
     },
     "execution_count": 125,
     "metadata": {},
     "output_type": "execute_result"
    }
   ],
   "source": [
    "res_buf"
   ]
  },
  {
   "cell_type": "code",
   "execution_count": 126,
   "id": "8776a0a7",
   "metadata": {},
   "outputs": [
    {
     "data": {
      "text/plain": [
       "array([[0.        , 0.        , 0.00207818, 0.02426473, 0.59273803,\n",
       "        0.11537272, 0.26699567, 0.        , 0.02428612, 0.41533267],\n",
       "       [0.        , 0.1718602 , 0.47404   , 0.24983437, 0.10825712,\n",
       "        0.20569697, 0.26565155, 0.35714567, 0.12303824, 0.        ],\n",
       "       [0.        , 0.        , 0.00430068, 0.22009148, 0.02536297,\n",
       "        0.13986537, 0.51774436, 0.        , 0.02882596, 0.        ],\n",
       "       [0.63195944, 0.66845244, 0.12871836, 0.48213327, 0.601961  ,\n",
       "        0.12154986, 0.        , 0.        , 1.2023973 , 0.4375699 ],\n",
       "       [0.        , 0.17332277, 0.500561  , 0.22375175, 0.        ,\n",
       "        0.        , 0.        , 0.33212084, 0.19032042, 0.01384124],\n",
       "       [0.        , 0.4162459 , 0.        , 0.3284342 , 0.        ,\n",
       "        0.04087766, 0.2314644 , 0.2472072 , 0.35259652, 0.3789179 ],\n",
       "       [0.        , 0.1536814 , 0.4238976 , 1.0454254 , 0.        ,\n",
       "        0.5554614 , 0.29762056, 0.31936797, 0.31043655, 0.        ],\n",
       "       [0.        , 0.02745096, 0.08443099, 0.51854026, 0.        ,\n",
       "        0.34316862, 0.93316406, 0.05704632, 0.        , 0.        ]],\n",
       "      dtype=float32)"
      ]
     },
     "execution_count": 126,
     "metadata": {},
     "output_type": "execute_result"
    }
   ],
   "source": [
    "res_np"
   ]
  },
  {
   "cell_type": "code",
   "execution_count": 127,
   "id": "46dca274",
   "metadata": {},
   "outputs": [
    {
     "data": {
      "text/plain": [
       "array([[0.        , 0.        , 0.00207818, 0.02426473, 0.59273803,\n",
       "        0.11537272, 0.26699567, 0.        , 0.02428612, 0.41533267],\n",
       "       [0.        , 0.1718602 , 0.47404   , 0.24983437, 0.10825712,\n",
       "        0.20569697, 0.26565155, 0.35714567, 0.12303824, 0.        ],\n",
       "       [0.        , 0.        , 0.00430068, 0.22009148, 0.02536297,\n",
       "        0.13986537, 0.51774436, 0.        , 0.02882596, 0.        ],\n",
       "       [0.63195944, 0.66845244, 0.12871836, 0.48213327, 0.601961  ,\n",
       "        0.12154986, 0.        , 0.        , 1.2023973 , 0.4375699 ],\n",
       "       [0.        , 0.17332277, 0.500561  , 0.22375175, 0.        ,\n",
       "        0.        , 0.        , 0.33212084, 0.19032042, 0.01384124],\n",
       "       [0.        , 0.4162459 , 0.        , 0.3284342 , 0.        ,\n",
       "        0.04087766, 0.2314644 , 0.2472072 , 0.35259652, 0.3789179 ],\n",
       "       [0.        , 0.1536814 , 0.4238976 , 1.0454254 , 0.        ,\n",
       "        0.5554614 , 0.29762056, 0.31936797, 0.31043655, 0.        ],\n",
       "       [0.        , 0.02745096, 0.08443099, 0.51854026, 0.        ,\n",
       "        0.34316862, 0.93316406, 0.05704632, 0.        , 0.        ]],\n",
       "      dtype=float32)"
      ]
     },
     "execution_count": 127,
     "metadata": {},
     "output_type": "execute_result"
    }
   ],
   "source": [
    "a.dot(b)"
   ]
  },
  {
   "cell_type": "code",
   "execution_count": 128,
   "id": "4641cdcc",
   "metadata": {},
   "outputs": [
    {
     "data": {
      "text/plain": [
       "array([[ True,  True,  True,  True,  True,  True,  True,  True,  True,\n",
       "         True],\n",
       "       [ True,  True,  True,  True,  True,  True,  True,  True,  True,\n",
       "         True],\n",
       "       [ True,  True,  True,  True,  True,  True,  True,  True,  True,\n",
       "         True],\n",
       "       [ True,  True,  True,  True,  True,  True,  True,  True,  True,\n",
       "         True],\n",
       "       [ True,  True,  True,  True,  True,  True,  True,  True,  True,\n",
       "         True],\n",
       "       [ True,  True,  True,  True,  True,  True,  True,  True,  True,\n",
       "         True],\n",
       "       [ True,  True,  True,  True,  True,  True,  True,  True,  True,\n",
       "         True],\n",
       "       [ True,  True,  True,  True,  True,  True,  True,  True,  True,\n",
       "         True]])"
      ]
     },
     "execution_count": 128,
     "metadata": {},
     "output_type": "execute_result"
    }
   ],
   "source": [
    "res_np==mult"
   ]
  },
  {
   "cell_type": "code",
   "execution_count": 129,
   "id": "5b55f104",
   "metadata": {},
   "outputs": [
    {
     "data": {
      "text/plain": [
       "(8, 10)"
      ]
     },
     "execution_count": 129,
     "metadata": {},
     "output_type": "execute_result"
    }
   ],
   "source": [
    "res_np.shape"
   ]
  },
  {
   "cell_type": "code",
   "execution_count": 130,
   "id": "84122d03",
   "metadata": {},
   "outputs": [
    {
     "data": {
      "text/plain": [
       "(8, 10)"
      ]
     },
     "execution_count": 130,
     "metadata": {},
     "output_type": "execute_result"
    }
   ],
   "source": [
    "mult.shape"
   ]
  },
  {
   "cell_type": "markdown",
   "id": "b3ad7225",
   "metadata": {},
   "source": [
    "## Weight update kernel"
   ]
  },
  {
   "cell_type": "code",
   "execution_count": 131,
   "id": "a5138cee",
   "metadata": {},
   "outputs": [],
   "source": [
    "bs = 4"
   ]
  },
  {
   "cell_type": "code",
   "execution_count": 132,
   "id": "76e44e2d",
   "metadata": {},
   "outputs": [
    {
     "data": {
      "text/plain": [
       "((4, 8), (4, 8), 2)"
      ]
     },
     "execution_count": 132,
     "metadata": {},
     "output_type": "execute_result"
    }
   ],
   "source": [
    "dim = 8\n",
    "topk = 2\n",
    "\n",
    "x = np.random.rand(bs,dim).astype(np.float32)\n",
    "y = np.random.rand(bs,dim).astype(np.float32)\n",
    "x.shape,y.shape, topk"
   ]
  },
  {
   "cell_type": "markdown",
   "id": "de5e3e5e",
   "metadata": {},
   "source": [
    "x_buf = cl.Buffer(ctx, mf.READ_ONLY | mf.COPY_HOST_PTR, hostbuf=x)\n",
    "y_buf = cl.Buffer(ctx, mf.READ_ONLY | mf.COPY_HOST_PTR, hostbuf=y)\n",
    "x_cp_buf = cl.Buffer(ctx, mf.WRITE_ONLY, bs*topk*topk*4)\n",
    "x_idx_buf = cl.Buffer(ctx, mf.WRITE_ONLY, bs*topk*4)\n",
    "y_idx_buf = cl.Buffer(ctx, mf.WRITE_ONLY, bs*topk*4)\n",
    "\n",
    "prg = cl.Program(ctx, \"\"\"\n",
    "    // sorts x and y in ascending order and returns sorted indices\n",
    "    __kernel void genwupdate2(__global  float* x,     // INPUT MATRIX DATA\n",
    "                             __global  float* y,    // INPUT\n",
    "                             __global  float* xout,    // INPUT\n",
    "                             uint topk,\n",
    "                             __global  uint* xoutidx,    // INPUT\n",
    "                             __global  uint* youtidx    // INPUT\n",
    "                            ) { // LOCAL SHARED BUFFER\n",
    "      uint gid = get_global_id(0);\n",
    "      uint n = get_global_size(0);\n",
    "      uint bs = get_global_size(1);\n",
    "      uint gid2 = get_global_id(1);\n",
    "\n",
    "      uint idx = n*gid2+gid;\n",
    "\n",
    "      float valx = x[idx];\n",
    "      float valy = y[idx];\n",
    "      uint posx = 0;\n",
    "      uint posy = 0;\n",
    "      for (uint i = 0; i < n; i++) {\n",
    "        uint idx2 = n*gid2+i;\n",
    "        float tempval = x[idx2];\n",
    "        float tempval2 = y[idx2];\n",
    "        bool larger = tempval > valx;\n",
    "        bool larger2 = tempval2 > valy;\n",
    "\n",
    "        barrier(CLK_GLOBAL_MEM_FENCE);\n",
    "        posx += (larger)?1:0;\n",
    "        posy += (larger2)?1:0;\n",
    "        barrier(CLK_GLOBAL_MEM_FENCE);\n",
    "      }\n",
    "      barrier(CLK_GLOBAL_MEM_FENCE);\n",
    "      //printf(\"posx:%i\", posx);\n",
    "      if (posx < topk) {\n",
    "        xoutidx[posx+topk*gid2] = gid;\n",
    "      }\n",
    "      if (posy < topk) {\n",
    "        youtidx[posy+topk*gid2] = gid;\n",
    "      }\n",
    "      barrier(CLK_GLOBAL_MEM_FENCE);\n",
    "      if (gid < topk) {\n",
    "        for (uint j=0; j<topk; j++) {\n",
    "          float res = x[xoutidx[gid+topk*gid2]+gid2*n] * y[youtidx[j+topk*gid2]+gid2*n];\n",
    "          //printf(\"\\\\nJ:%i  gid:%i\", j, gid);\n",
    "          //printf(\"\\\\nRES:%.2f - %i - %i -  %.2f - %.2f\",res, xoutidx[gid+topk*gid2], youtidx[j+topk*gid2], x[xoutidx[gid+topk*gid2]+gid2*n], y[youtidx[j+topk*gid2]+gid2*n]);\n",
    "          barrier(CLK_GLOBAL_MEM_FENCE);\n",
    "          xout[gid2*topk*topk+j*topk+gid] = res;\n",
    "          barrier(CLK_GLOBAL_MEM_FENCE);\n",
    "          \n",
    "        }\n",
    "      }\n",
    "      barrier(CLK_GLOBAL_MEM_FENCE);\n",
    "    }\"\"\").build()"
   ]
  },
  {
   "cell_type": "code",
   "execution_count": 133,
   "id": "88864470",
   "metadata": {},
   "outputs": [],
   "source": [
    "x_buf = cl.Buffer(ctx, mf.READ_ONLY | mf.COPY_HOST_PTR, hostbuf=x)\n",
    "y_buf = cl.Buffer(ctx, mf.READ_ONLY | mf.COPY_HOST_PTR, hostbuf=y)\n",
    "x_cp_buf = cl.Buffer(ctx, mf.WRITE_ONLY, bs*topk*topk*4)\n",
    "x_idx_buf = cl.Buffer(ctx, mf.WRITE_ONLY, bs*topk*4)\n",
    "y_idx_buf = cl.Buffer(ctx, mf.WRITE_ONLY, bs*topk*4)\n",
    "#x_cp_buft = cl.Buffer(ctx, mf.WRITE_ONLY, bs*topk*topk*4)\n",
    "#x_idx_buft = cl.Buffer(ctx, mf.WRITE_ONLY, bs*topk*4)\n",
    "#y_idx_buft = cl.Buffer(ctx, mf.WRITE_ONLY, bs*topk*4)\n",
    "\n",
    "prg = cl.Program(ctx, \"\"\"\n",
    "    // sorts x and y in ascending order and returns sorted indices\n",
    "    __kernel void genwupdate2(__global  float* x,     // INPUT MATRIX DATA\n",
    "                             __global  float* y,    // INPUT\n",
    "                             __global  float* xout,    // INPUT\n",
    "                             uint topk,\n",
    "                             uint bs,\n",
    "                             __global  uint* xoutidx,    // INPUT\n",
    "                             __global  uint* youtidx    // INPUT\n",
    "                            ) { // LOCAL SHARED BUFFER\n",
    "      uint gid = get_global_id(0);\n",
    "      uint n = get_global_size(0);\n",
    "      //uint bs = get_global_size(1);\n",
    "      //uint gid2 = get_global_id(1);\n",
    "\n",
    "      for (uint gid2=0; gid2<bs; gid2++){\n",
    "        uint idx = n*gid2+gid;\n",
    "\n",
    "        float valx = x[idx];\n",
    "        float valy = y[idx];\n",
    "        uint posx = 0;\n",
    "        uint posy = 0;\n",
    "        for (uint i = 0; i < n; i++) {\n",
    "          uint idx2 = n*gid2+i;\n",
    "          float tempval = x[idx2];\n",
    "          float tempval2 = y[idx2];\n",
    "          bool larger = tempval > valx;\n",
    "          bool larger2 = tempval2 > valy;\n",
    "\n",
    "          posx += (larger)?1:0;\n",
    "          posy += (larger2)?1:0;\n",
    "        }\n",
    "        //printf(\"posx:%i\", posx);\n",
    "        if (posx < topk) {\n",
    "        xoutidx[posx+topk*gid2] = gid;\n",
    "        }\n",
    "        if (posy < topk) {\n",
    "          youtidx[posy+topk*gid2] = gid;\n",
    "        }\n",
    "      }\n",
    "      for (uint gid2=0; gid2<bs; gid2++){\n",
    "        if (gid < topk) {\n",
    "          for (uint j=0; j<topk; j++) {\n",
    "            float res = x[xoutidx[gid+topk*gid2]+gid2*n] * y[youtidx[j+topk*gid2]+gid2*n];\n",
    "            //printf(\"\\\\nJ:%i  gid:%i\", j, gid);\n",
    "            //printf(\"\\\\nRES:%.2f - %i - %i -  %.2f - %.2f\",res, xoutidx[gid+topk*gid2], youtidx[j+topk*gid2], x[xoutidx[gid+topk*gid2]+gid2*n], y[youtidx[j+topk*gid2]+gid2*n]);\n",
    "            //barrier(CLK_GLOBAL_MEM_FENCE);\n",
    "            xout[gid2*topk*topk+j*topk+gid] = res;\n",
    "          }\n",
    "        }\n",
    "      }\n",
    "    }\"\"\").build()"
   ]
  },
  {
   "cell_type": "code",
   "execution_count": 134,
   "id": "94682965",
   "metadata": {},
   "outputs": [
    {
     "data": {
      "text/plain": [
       "<pyopencl._cl.NannyEvent at 0x7f5884255db0>"
      ]
     },
     "execution_count": 134,
     "metadata": {},
     "output_type": "execute_result"
    }
   ],
   "source": [
    "knl = prg.genwupdate2  # Use this Kernel object for repeated calls\n",
    "evt = knl(queue, [dim], None, x_buf, y_buf, x_cp_buf, np.uint32(topk), np.uint32(bs), x_idx_buf, y_idx_buf)\n",
    "\n",
    "#evt.wait()\n",
    "resx = np.zeros(bs*topk*topk).astype(np.float32)\n",
    "resxidx = np.zeros(bs*topk).astype(np.uint32)\n",
    "resyidx = np.zeros(bs*topk).astype(np.uint32)\n",
    "\n",
    "cl.enqueue_copy(queue, resx, x_cp_buf)\n",
    "cl.enqueue_copy(queue, resxidx, x_idx_buf)\n",
    "cl.enqueue_copy(queue, resyidx, y_idx_buf)"
   ]
  },
  {
   "cell_type": "markdown",
   "id": "771508c3",
   "metadata": {},
   "source": [
    "knl(queue, [dim], None, y_buf, x_buf, x_cp_buft, np.uint32(topk), np.uint32(bs), x_idx_buft, y_idx_buft)\n",
    "\n",
    "#evt.wait()\n",
    "resx = np.zeros(bs*topk*topk).astype(np.float32)\n",
    "resxidx = np.zeros(bs*topk).astype(np.uint32)\n",
    "resyidx = np.zeros(bs*topk).astype(np.uint32)\n",
    "\n",
    "cl.enqueue_copy(queue, resx, x_cp_buf)\n",
    "cl.enqueue_copy(queue, resxidx, x_idx_buf)\n",
    "cl.enqueue_copy(queue, resyidx, y_idx_buf)"
   ]
  },
  {
   "cell_type": "code",
   "execution_count": 135,
   "id": "88725ae2",
   "metadata": {},
   "outputs": [
    {
     "data": {
      "text/plain": [
       "array([[8.98980319e-01, 5.59302330e-01, 4.44231987e-01, 5.29486299e-01,\n",
       "        3.86761367e-01, 9.90729213e-01, 3.48921940e-02, 7.42081046e-01],\n",
       "       [6.75355434e-01, 3.28364789e-01, 5.89615628e-02, 6.98719397e-02,\n",
       "        5.49352504e-02, 5.71982145e-01, 6.79877520e-01, 5.96414745e-01],\n",
       "       [1.15083806e-01, 7.20744953e-02, 7.32204139e-01, 7.86158979e-01,\n",
       "        5.62166929e-01, 7.48544931e-01, 4.87784930e-02, 2.58597165e-01],\n",
       "       [4.86839443e-01, 4.47830521e-02, 5.15147578e-04, 8.05406809e-01,\n",
       "        4.64294702e-01, 1.95086703e-01, 4.04836148e-01, 1.31079286e-01]],\n",
       "      dtype=float32)"
      ]
     },
     "execution_count": 135,
     "metadata": {},
     "output_type": "execute_result"
    }
   ],
   "source": [
    "x"
   ]
  },
  {
   "cell_type": "code",
   "execution_count": 136,
   "id": "4c150d0f",
   "metadata": {},
   "outputs": [
    {
     "data": {
      "text/plain": [
       "array([[0.53897965, 0.23736876, 0.6279752 , 0.78450453, 0.6457675 ,\n",
       "        0.09459984, 0.7795478 , 0.15402834],\n",
       "       [0.05164658, 0.2714361 , 0.20792972, 0.34622297, 0.3609272 ,\n",
       "        0.9003248 , 0.77746844, 0.21737985],\n",
       "       [0.75160855, 0.492606  , 0.46288624, 0.06296752, 0.14098819,\n",
       "        0.66564023, 0.55284417, 0.8374961 ],\n",
       "       [0.1453973 , 0.7557925 , 0.1702341 , 0.20070209, 0.11781113,\n",
       "        0.34614536, 0.8347521 , 0.3814445 ]], dtype=float32)"
      ]
     },
     "execution_count": 136,
     "metadata": {},
     "output_type": "execute_result"
    }
   ],
   "source": [
    "y"
   ]
  },
  {
   "cell_type": "code",
   "execution_count": 137,
   "id": "990b8af7",
   "metadata": {},
   "outputs": [
    {
     "data": {
      "text/plain": [
       "((4, 8), (4, 8))"
      ]
     },
     "execution_count": 137,
     "metadata": {},
     "output_type": "execute_result"
    }
   ],
   "source": [
    "x.shape, y.shape"
   ]
  },
  {
   "cell_type": "code",
   "execution_count": 138,
   "id": "1c18b7bb",
   "metadata": {},
   "outputs": [
    {
     "data": {
      "text/plain": [
       "array([0.7772316 , 0.70525414, 0.7723208 , 0.70079815, 0.6121106 ,\n",
       "       0.60803926, 0.5285833 , 0.5250675 , 0.65840507, 0.6269035 ,\n",
       "       0.5908838 , 0.5626128 , 0.672315  , 0.40639025, 0.6087204 ,\n",
       "       0.3679496 ], dtype=float32)"
      ]
     },
     "execution_count": 138,
     "metadata": {},
     "output_type": "execute_result"
    }
   ],
   "source": [
    "resx"
   ]
  },
  {
   "cell_type": "code",
   "execution_count": 139,
   "id": "58d4154c",
   "metadata": {},
   "outputs": [
    {
     "data": {
      "text/plain": [
       "array([[[0.7772316 , 0.70525414],\n",
       "        [0.7723208 , 0.70079815]],\n",
       "\n",
       "       [[0.6121106 , 0.60803926],\n",
       "        [0.5285833 , 0.5250675 ]],\n",
       "\n",
       "       [[0.65840507, 0.6269035 ],\n",
       "        [0.5908838 , 0.5626128 ]],\n",
       "\n",
       "       [[0.672315  , 0.40639025],\n",
       "        [0.6087204 , 0.3679496 ]]], dtype=float32)"
      ]
     },
     "execution_count": 139,
     "metadata": {},
     "output_type": "execute_result"
    }
   ],
   "source": [
    "resx.reshape(bs,topk,topk)"
   ]
  },
  {
   "cell_type": "code",
   "execution_count": 140,
   "id": "5cca2876",
   "metadata": {},
   "outputs": [
    {
     "data": {
      "text/plain": [
       "array([5, 0, 6, 0, 3, 5, 3, 0], dtype=uint32)"
      ]
     },
     "execution_count": 140,
     "metadata": {},
     "output_type": "execute_result"
    }
   ],
   "source": [
    "resxidx"
   ]
  },
  {
   "cell_type": "code",
   "execution_count": 141,
   "id": "80deeac2",
   "metadata": {},
   "outputs": [
    {
     "data": {
      "text/plain": [
       "array([3, 6, 5, 6, 7, 0, 6, 1], dtype=uint32)"
      ]
     },
     "execution_count": 141,
     "metadata": {},
     "output_type": "execute_result"
    }
   ],
   "source": [
    "resyidx"
   ]
  },
  {
   "cell_type": "code",
   "execution_count": 142,
   "id": "3020c7d7",
   "metadata": {},
   "outputs": [
    {
     "data": {
      "text/plain": [
       "(8, 8)"
      ]
     },
     "execution_count": 142,
     "metadata": {},
     "output_type": "execute_result"
    }
   ],
   "source": [
    "idx = 1\n",
    "xy0 = x[idx].reshape(dim,1)*y[idx]\n",
    "xy0.shape"
   ]
  },
  {
   "cell_type": "code",
   "execution_count": 143,
   "id": "fc865ccb",
   "metadata": {},
   "outputs": [
    {
     "data": {
      "text/plain": [
       "0.015188752"
      ]
     },
     "execution_count": 143,
     "metadata": {},
     "output_type": "execute_result"
    }
   ],
   "source": [
    "xy0[3][7]"
   ]
  },
  {
   "cell_type": "markdown",
   "id": "c0c255da",
   "metadata": {},
   "source": [
    "### update vals add dense"
   ]
  },
  {
   "cell_type": "code",
   "execution_count": 144,
   "id": "7b96afa2",
   "metadata": {},
   "outputs": [
    {
     "data": {
      "text/plain": [
       "array([[-0.35269573,  0.63334715,  0.21719424,  0.2754309 ,  0.29724714,\n",
       "         0.11448873, -0.39694956,  1.7236507 , -0.05355846, -1.6525012 ],\n",
       "       [-2.016488  ,  0.8417767 ,  0.5631532 ,  0.72538   , -1.3439906 ,\n",
       "        -1.3523815 , -0.8611603 ,  0.14500825,  0.5754271 ,  3.0216155 ],\n",
       "       [ 0.5203531 ,  1.2887654 ,  1.180903  ,  0.19809324,  0.3465553 ,\n",
       "         0.64353776, -0.47729686,  1.3254298 ,  0.77524364,  0.2397861 ],\n",
       "       [ 2.1156046 ,  0.7992975 , -0.5825202 ,  0.07085714, -1.463199  ,\n",
       "         0.10370726,  0.29269785, -0.23079337, -2.7431722 ,  0.39759403],\n",
       "       [ 0.5843725 , -0.19329749, -1.5160068 ,  0.46093482, -0.8898433 ,\n",
       "        -0.7122574 , -0.26991293, -0.32111517, -0.18358052,  0.17462821],\n",
       "       [ 0.28775036,  0.10872613, -0.20982412,  0.9578179 ,  1.7364026 ,\n",
       "         0.5214639 ,  0.9098423 , -0.9718738 , -1.6514573 , -0.39233527],\n",
       "       [ 0.47613022, -0.62086385, -0.4928279 ,  0.27129176,  2.252941  ,\n",
       "        -1.3327024 , -0.32828525, -0.09292184,  0.34328285,  0.11065594],\n",
       "       [ 1.4001108 ,  0.48102146, -1.711184  ,  1.8013886 , -0.92096573,\n",
       "        -1.9059572 ,  0.8544164 , -1.3679917 ,  0.44672617, -0.23156372]],\n",
       "      dtype=float32)"
      ]
     },
     "execution_count": 144,
     "metadata": {},
     "output_type": "execute_result"
    }
   ],
   "source": [
    "matadd = np.random.randn(*a.shape).astype(np.float32)\n",
    "matadd"
   ]
  },
  {
   "cell_type": "code",
   "execution_count": 145,
   "id": "412cfeec",
   "metadata": {},
   "outputs": [
    {
     "data": {
      "text/plain": [
       "array([[0.        , 0.65016776, 0.        , 0.        , 0.        ,\n",
       "        0.06761027, 0.        , 0.        , 0.        , 0.23628017],\n",
       "       [0.        , 0.        , 0.5084803 , 0.        , 0.        ,\n",
       "        0.34252685, 0.        , 0.        , 0.27032706, 0.        ],\n",
       "       [0.        , 0.        , 0.        , 0.        , 0.        ,\n",
       "        0.08024875, 0.        , 0.        , 0.18381113, 0.4889689 ],\n",
       "       [0.8412975 , 0.6849782 , 0.        , 0.        , 0.        ,\n",
       "        0.        , 0.        , 0.772927  , 0.        , 0.        ],\n",
       "       [0.        , 0.        , 0.4728516 , 0.        , 0.        ,\n",
       "        0.        , 0.01464626, 0.3587053 , 0.        , 0.        ],\n",
       "       [0.        , 0.        , 0.        , 0.47683263, 0.25351405,\n",
       "        0.        , 0.4009562 , 0.        , 0.        , 0.        ],\n",
       "       [0.        , 0.        , 0.45469493, 0.5383059 , 0.        ,\n",
       "        0.        , 0.        , 0.        , 0.7299876 , 0.        ],\n",
       "       [0.        , 0.        , 0.08121876, 0.        , 0.        ,\n",
       "        0.        , 0.        , 0.        , 0.45099235, 0.99066746]],\n",
       "      dtype=float32)"
      ]
     },
     "execution_count": 145,
     "metadata": {},
     "output_type": "execute_result"
    }
   ],
   "source": [
    "a"
   ]
  },
  {
   "cell_type": "code",
   "execution_count": 146,
   "id": "5db87320",
   "metadata": {},
   "outputs": [],
   "source": [
    "a_added = a + matadd"
   ]
  },
  {
   "cell_type": "code",
   "execution_count": 194,
   "id": "20c7d51e",
   "metadata": {},
   "outputs": [],
   "source": [
    "adata_buf = cl.Buffer(ctx, mf.READ_WRITE | mf.COPY_HOST_PTR, hostbuf=adata)\n",
    "acols_buf = cl.Buffer(ctx, mf.READ_WRITE | mf.COPY_HOST_PTR, hostbuf=acols)\n",
    "annzs_buf = cl.Buffer(ctx, mf.READ_WRITE | mf.COPY_HOST_PTR, hostbuf=annz)\n",
    "adatat_buf = cl.Buffer(ctx, mf.READ_WRITE | mf.COPY_HOST_PTR, hostbuf=adatat)\n",
    "acolst_buf = cl.Buffer(ctx, mf.READ_WRITE | mf.COPY_HOST_PTR, hostbuf=acolst)\n",
    "annzst_buf = cl.Buffer(ctx, mf.READ_WRITE | mf.COPY_HOST_PTR, hostbuf=annzt)\n",
    "add_buf = cl.Buffer(ctx, mf.READ_WRITE | mf.COPY_HOST_PTR, hostbuf=matadd)\n",
    "\n",
    "prg = cl.Program(ctx, \"\"\"\n",
    "    // Every global_id_0 works on a row\n",
    "    __kernel void adddense(__global  float* matData,     // INPUT MATRIX DATA\n",
    "                            __global  uint*  colIdx,\n",
    "                            __global  uint*  rowNnz,\n",
    "                            float  lr,\n",
    "                            uint   ellwidth,\n",
    "                            uint   awidth,\n",
    "                            __global  float* vector_x    // INPUT\n",
    "                            ) { // LOCAL SHARED BUFFER\n",
    "      uint gid = get_global_id(0);\n",
    "      uint nrows = get_global_size(0);\n",
    "\n",
    "      uint nnz    = rowNnz[gid];\n",
    "      uint baseidxs = gid*ellwidth;\n",
    "      uint baseidxd = gid*awidth;\n",
    "      \n",
    "      for (uint i=0; i<awidth; i++) {\n",
    "        float addval = vector_x[baseidxd+i];\n",
    "        //if (gid==1)\n",
    "        //  printf(\"\\\\nADD VAL:%.2f idx:%i/%i  col:%i\", addval, baseidxs+i, baseidxd+i, colIdx[baseidxs+i]);\n",
    "        if (addval == 0) {\n",
    "          continue;\n",
    "        }\n",
    "        if (i == colIdx[baseidxs+i]) {\n",
    "          matData[baseidxs+i] += addval;\n",
    "        } else {\n",
    "          if (rowNnz[gid] >= ellwidth) {\n",
    "            break;\n",
    "          }\n",
    "          if (i > colIdx[baseidxs+i]) {\n",
    "            rowNnz[gid] += 1;\n",
    "            //if (gid==1)\n",
    "            //  printf(\"\\\\nSET VAL:%.2f idx:%i/%i  col:%i\", addval, baseidxs+i, baseidxd+i, colIdx[i]);\n",
    "            matData[baseidxs+i] = addval;\n",
    "            colIdx[baseidxs+i] = i;\n",
    "            continue;\n",
    "          }\n",
    "          for (uint j=nnz; j>i; j--) {\n",
    "            //printf(\"\\\\nMOVE:%.2f\", matData[baseidx+j-1]);\n",
    "            colIdx[baseidxs+j] = colIdx[baseidxs+j-1];\n",
    "            matData[baseidxs+j] = matData[baseidxs+j-1];\n",
    "          }\n",
    "          rowNnz[gid] += 1;\n",
    "          nnz = rowNnz[gid];\n",
    "          //if (gid==1)\n",
    "          //  printf(\"\\\\nSET VAL:%.2f idx:%i/%i  col:%i\", addval, baseidxs+i, baseidxd+i, colIdx[i]);\n",
    "          matData[baseidxs+i] = addval;\n",
    "          colIdx[baseidxs+i] = i;\n",
    "          if (nnz >= ellwidth)\n",
    "            break;\n",
    "        }\n",
    "      }\n",
    "    }\"\"\").build()"
   ]
  },
  {
   "cell_type": "code",
   "execution_count": 195,
   "id": "2adf45e7",
   "metadata": {},
   "outputs": [
    {
     "data": {
      "text/plain": [
       "((8, 10), (10, 10))"
      ]
     },
     "execution_count": 195,
     "metadata": {},
     "output_type": "execute_result"
    }
   ],
   "source": [
    "a.shape, b.shape"
   ]
  },
  {
   "cell_type": "code",
   "execution_count": 196,
   "id": "324edd08",
   "metadata": {},
   "outputs": [],
   "source": [
    "res = np.zeros(a.shape[0]).astype(np.float32)\n",
    "#res"
   ]
  },
  {
   "cell_type": "code",
   "execution_count": 197,
   "id": "2cf60c63",
   "metadata": {},
   "outputs": [],
   "source": [
    "rows = a.shape[0]"
   ]
  },
  {
   "cell_type": "code",
   "execution_count": 198,
   "id": "05c4e97c",
   "metadata": {},
   "outputs": [],
   "source": [
    "mult = mult.astype(np.float32)"
   ]
  },
  {
   "cell_type": "code",
   "execution_count": 199,
   "id": "7d3bb3fd",
   "metadata": {},
   "outputs": [
    {
     "data": {
      "text/plain": [
       "<pyopencl._cl.Event at 0x7f58841d6b80>"
      ]
     },
     "execution_count": 199,
     "metadata": {},
     "output_type": "execute_result"
    }
   ],
   "source": [
    "res_buf = cl.Buffer(ctx, mf.WRITE_ONLY, b.nbytes)\n",
    "knl = prg.adddense  # Use this Kernel object for repeated calls\n",
    "knl(queue, [rows], None, adata_buf, acols_buf, annzs_buf, np.float32(1), np.uint32(ellwa),np.uint32(a.shape[1]), add_buf)"
   ]
  },
  {
   "cell_type": "code",
   "execution_count": 200,
   "id": "91283016",
   "metadata": {},
   "outputs": [
    {
     "data": {
      "text/plain": [
       "-0.35269573"
      ]
     },
     "execution_count": 200,
     "metadata": {},
     "output_type": "execute_result"
    }
   ],
   "source": [
    "matadd[0][0]"
   ]
  },
  {
   "cell_type": "code",
   "execution_count": 201,
   "id": "f520b590",
   "metadata": {},
   "outputs": [
    {
     "data": {
      "text/plain": [
       "<pyopencl._cl.NannyEvent at 0x7f58cf2d79f0>"
      ]
     },
     "execution_count": 201,
     "metadata": {},
     "output_type": "execute_result"
    }
   ],
   "source": [
    "data_res = np.empty_like(adata)\n",
    "cols_res = np.empty_like(acols)\n",
    "nnzs_res = np.empty_like(annz)\n",
    "cl.enqueue_copy(queue, data_res, adata_buf)\n",
    "cl.enqueue_copy(queue, cols_res, acols_buf)\n",
    "cl.enqueue_copy(queue, nnzs_res, annzs_buf)"
   ]
  },
  {
   "cell_type": "code",
   "execution_count": 202,
   "id": "945bad1d",
   "metadata": {},
   "outputs": [
    {
     "data": {
      "text/plain": [
       "array([[-0.35269573,  1.28351498,  0.21719424,  0.27543089,  0.29724714,\n",
       "         0.182099  , -0.39694956,  1.72365069, -0.05355846,  0.23628017],\n",
       "       [-2.01648808,  0.84177673,  1.07163358,  0.72538   , -1.34399056,\n",
       "        -1.00985456, -0.86116028,  0.14500825,  0.84575415,  3.02161551],\n",
       "       [ 0.52035308,  1.28876543,  1.18090296,  0.19809324,  0.34655529,\n",
       "         0.72378653, -0.47729686,  1.3254298 ,  0.18381113,  0.48896891],\n",
       "       [ 2.95690203,  1.4842757 , -0.58252019,  0.07085714, -1.46319902,\n",
       "         0.10370726,  0.29269785,  0.54213363, -2.74317217,  0.39759403],\n",
       "       [ 0.58437252, -0.19329749, -1.04315519,  0.46093482, -0.88984329,\n",
       "        -0.71225739, -0.25526667,  0.03759015, -0.18358052,  0.17462821],\n",
       "       [ 0.28775036,  0.10872613, -0.20982412,  1.43465054,  1.98991668,\n",
       "         0.52146387,  1.31079853, -0.97187382, -1.65145731, -0.39233527],\n",
       "       [ 0.47613022, -0.62086385, -0.03813297,  0.80959761,  2.25294089,\n",
       "        -1.3327024 , -0.32828525, -0.09292184,  1.07327044,  0.11065594],\n",
       "       [ 1.40011084,  0.48102146, -1.62996531,  1.80138862, -0.92096573,\n",
       "        -1.90595722,  0.85441637, -1.36799169,  0.45099235,  0.99066746]])"
      ]
     },
     "execution_count": 202,
     "metadata": {},
     "output_type": "execute_result"
    }
   ],
   "source": [
    "adenseadd = to_dense(data_res, cols_res, nnzs_res, ellwa, a.shape)\n",
    "adenseadd"
   ]
  },
  {
   "cell_type": "code",
   "execution_count": 203,
   "id": "9dc5db0f",
   "metadata": {},
   "outputs": [
    {
     "data": {
      "text/plain": [
       "array([[0.        , 0.65016776, 0.        , 0.        , 0.        ,\n",
       "        0.06761027, 0.        , 0.        , 0.        , 0.23628017],\n",
       "       [0.        , 0.        , 0.5084803 , 0.        , 0.        ,\n",
       "        0.34252685, 0.        , 0.        , 0.27032706, 0.        ],\n",
       "       [0.        , 0.        , 0.        , 0.        , 0.        ,\n",
       "        0.08024875, 0.        , 0.        , 0.18381113, 0.4889689 ],\n",
       "       [0.8412975 , 0.6849782 , 0.        , 0.        , 0.        ,\n",
       "        0.        , 0.        , 0.772927  , 0.        , 0.        ],\n",
       "       [0.        , 0.        , 0.4728516 , 0.        , 0.        ,\n",
       "        0.        , 0.01464626, 0.3587053 , 0.        , 0.        ],\n",
       "       [0.        , 0.        , 0.        , 0.47683263, 0.25351405,\n",
       "        0.        , 0.4009562 , 0.        , 0.        , 0.        ],\n",
       "       [0.        , 0.        , 0.45469493, 0.5383059 , 0.        ,\n",
       "        0.        , 0.        , 0.        , 0.7299876 , 0.        ],\n",
       "       [0.        , 0.        , 0.08121876, 0.        , 0.        ,\n",
       "        0.        , 0.        , 0.        , 0.45099235, 0.99066746]],\n",
       "      dtype=float32)"
      ]
     },
     "execution_count": 203,
     "metadata": {},
     "output_type": "execute_result"
    }
   ],
   "source": [
    "a"
   ]
  },
  {
   "cell_type": "code",
   "execution_count": 204,
   "id": "7dffdf20",
   "metadata": {},
   "outputs": [
    {
     "data": {
      "text/plain": [
       "array([[-0.35269573,  0.63334715,  0.21719424,  0.2754309 ,  0.29724714,\n",
       "         0.11448873, -0.39694956,  1.7236507 , -0.05355846, -1.6525012 ],\n",
       "       [-2.016488  ,  0.8417767 ,  0.5631532 ,  0.72538   , -1.3439906 ,\n",
       "        -1.3523815 , -0.8611603 ,  0.14500825,  0.5754271 ,  3.0216155 ],\n",
       "       [ 0.5203531 ,  1.2887654 ,  1.180903  ,  0.19809324,  0.3465553 ,\n",
       "         0.64353776, -0.47729686,  1.3254298 ,  0.77524364,  0.2397861 ],\n",
       "       [ 2.1156046 ,  0.7992975 , -0.5825202 ,  0.07085714, -1.463199  ,\n",
       "         0.10370726,  0.29269785, -0.23079337, -2.7431722 ,  0.39759403],\n",
       "       [ 0.5843725 , -0.19329749, -1.5160068 ,  0.46093482, -0.8898433 ,\n",
       "        -0.7122574 , -0.26991293, -0.32111517, -0.18358052,  0.17462821],\n",
       "       [ 0.28775036,  0.10872613, -0.20982412,  0.9578179 ,  1.7364026 ,\n",
       "         0.5214639 ,  0.9098423 , -0.9718738 , -1.6514573 , -0.39233527],\n",
       "       [ 0.47613022, -0.62086385, -0.4928279 ,  0.27129176,  2.252941  ,\n",
       "        -1.3327024 , -0.32828525, -0.09292184,  0.34328285,  0.11065594],\n",
       "       [ 1.4001108 ,  0.48102146, -1.711184  ,  1.8013886 , -0.92096573,\n",
       "        -1.9059572 ,  0.8544164 , -1.3679917 ,  0.44672617, -0.23156372]],\n",
       "      dtype=float32)"
      ]
     },
     "execution_count": 204,
     "metadata": {},
     "output_type": "execute_result"
    }
   ],
   "source": [
    "matadd"
   ]
  },
  {
   "cell_type": "code",
   "execution_count": 205,
   "id": "e0e10dd1",
   "metadata": {},
   "outputs": [
    {
     "data": {
      "text/plain": [
       "array([[-0.35269573,  1.283515  ,  0.21719424,  0.2754309 ,  0.29724714,\n",
       "         0.182099  , -0.39694956,  1.7236507 , -0.05355846, -1.416221  ],\n",
       "       [-2.016488  ,  0.8417767 ,  1.0716336 ,  0.72538   , -1.3439906 ,\n",
       "        -1.0098546 , -0.8611603 ,  0.14500825,  0.84575415,  3.0216155 ],\n",
       "       [ 0.5203531 ,  1.2887654 ,  1.180903  ,  0.19809324,  0.3465553 ,\n",
       "         0.72378653, -0.47729686,  1.3254298 ,  0.95905477,  0.728755  ],\n",
       "       [ 2.956902  ,  1.4842757 , -0.5825202 ,  0.07085714, -1.463199  ,\n",
       "         0.10370726,  0.29269785,  0.5421336 , -2.7431722 ,  0.39759403],\n",
       "       [ 0.5843725 , -0.19329749, -1.0431552 ,  0.46093482, -0.8898433 ,\n",
       "        -0.7122574 , -0.25526667,  0.03759015, -0.18358052,  0.17462821],\n",
       "       [ 0.28775036,  0.10872613, -0.20982412,  1.4346505 ,  1.9899167 ,\n",
       "         0.5214639 ,  1.3107985 , -0.9718738 , -1.6514573 , -0.39233527],\n",
       "       [ 0.47613022, -0.62086385, -0.03813297,  0.8095976 ,  2.252941  ,\n",
       "        -1.3327024 , -0.32828525, -0.09292184,  1.0732704 ,  0.11065594],\n",
       "       [ 1.4001108 ,  0.48102146, -1.6299653 ,  1.8013886 , -0.92096573,\n",
       "        -1.9059572 ,  0.8544164 , -1.3679917 ,  0.89771855,  0.7591038 ]],\n",
       "      dtype=float32)"
      ]
     },
     "execution_count": 205,
     "metadata": {},
     "output_type": "execute_result"
    }
   ],
   "source": [
    "a_added"
   ]
  },
  {
   "cell_type": "code",
   "execution_count": 206,
   "id": "23f0c0c2",
   "metadata": {},
   "outputs": [
    {
     "data": {
      "text/plain": [
       "array([[ True,  True,  True,  True,  True,  True,  True,  True,  True,\n",
       "        False],\n",
       "       [ True,  True,  True,  True,  True,  True,  True,  True,  True,\n",
       "         True],\n",
       "       [ True,  True,  True,  True,  True,  True,  True,  True, False,\n",
       "        False],\n",
       "       [ True,  True,  True,  True,  True,  True,  True,  True,  True,\n",
       "         True],\n",
       "       [ True,  True,  True,  True,  True,  True,  True,  True,  True,\n",
       "         True],\n",
       "       [ True,  True,  True,  True,  True,  True,  True,  True,  True,\n",
       "         True],\n",
       "       [ True,  True,  True,  True,  True,  True,  True,  True,  True,\n",
       "         True],\n",
       "       [ True,  True,  True,  True,  True,  True,  True,  True, False,\n",
       "        False]])"
      ]
     },
     "execution_count": 206,
     "metadata": {},
     "output_type": "execute_result"
    }
   ],
   "source": [
    "adenseadd == a_added"
   ]
  },
  {
   "cell_type": "markdown",
   "id": "2c377b84",
   "metadata": {},
   "source": [
    "### update vals"
   ]
  },
  {
   "cell_type": "code",
   "execution_count": 207,
   "id": "f334a950",
   "metadata": {},
   "outputs": [],
   "source": [
    "adatat_buf = cl.Buffer(ctx, mf.READ_WRITE | mf.COPY_HOST_PTR, hostbuf=adatat)\n",
    "acolst_buf = cl.Buffer(ctx, mf.READ_WRITE | mf.COPY_HOST_PTR, hostbuf=acolst)\n",
    "annzst_buf = cl.Buffer(ctx, mf.READ_WRITE | mf.COPY_HOST_PTR, hostbuf=annzt)\n",
    "add_buf = cl.Buffer(ctx, mf.READ_WRITE | mf.COPY_HOST_PTR, hostbuf=matadd)\n",
    "\n",
    "prg = cl.Program(ctx, \"\"\"\n",
    "    // Every global_id_0 works on a row\n",
    "    __kernel void adddenset(__global  float* matData,     // INPUT MATRIX DATA\n",
    "                            __global  uint*  colIdx,\n",
    "                            __global  uint*  rowNnz,\n",
    "                            float  lr,\n",
    "                            uint   ellwidth,\n",
    "                            uint   aheight,\n",
    "                            __global  float* vector_x    // INPUT\n",
    "                            ) { // LOCAL SHARED BUFFER\n",
    "      uint gid = get_global_id(0);\n",
    "      uint ncols = get_global_size(0);\n",
    "\n",
    "      uint nnz    = rowNnz[gid];\n",
    "      uint baseidxs = gid*ellwidth;\n",
    "      \n",
    "      for (uint i=0; i<aheight; i++) {\n",
    "        if (nnz > ellwidth)\n",
    "            break;\n",
    "        uint baseidxd = i*ncols+gid;\n",
    "        float addval = vector_x[baseidxd];\n",
    "        //if (gid==1)\n",
    "        //  printf(\"\\\\nADD VAL:%.2f idx:%i/%i  col:%i\", addval, baseidxs+i, baseidxd+i, colIdx[baseidxs+i]);\n",
    "        if (addval == 0) {\n",
    "          continue;\n",
    "        }\n",
    "        if (i == colIdx[baseidxs+i]) {\n",
    "          printf(\"\\\\nADD VAL:%.2f idx:%i/%i  col:%i\", addval, baseidxs+i, baseidxd+i, colIdx[i]);\n",
    "          matData[baseidxs+i] += addval;\n",
    "        } else {\n",
    "          if (rowNnz[gid] >= ellwidth) {\n",
    "            break;\n",
    "          }\n",
    "          if (i > colIdx[baseidxs+i]) {\n",
    "            rowNnz[gid] += 1;\n",
    "            //if (gid==1)\n",
    "            //  printf(\"\\\\nSET VAL:%.2f idx:%i/%i  col:%i\", addval, baseidxs+i, baseidxd+i, colIdx[i]);\n",
    "            matData[baseidxs+i] = addval;\n",
    "            colIdx[baseidxs+i] = i;\n",
    "            continue;\n",
    "          }\n",
    "          for (uint j=nnz; j>i; j--) {\n",
    "            //printf(\"\\\\nMOVE:%.2f\", matData[baseidx+j-1]);\n",
    "            colIdx[baseidxs+j] = colIdx[baseidxs+j-1];\n",
    "            matData[baseidxs+j] = matData[baseidxs+j-1];\n",
    "          }\n",
    "          rowNnz[gid] += 1;\n",
    "          nnz = rowNnz[gid];\n",
    "          //if (gid==1)\n",
    "          //  printf(\"\\\\nSET VAL:%.2f idx:%i/%i  col:%i\", addval, baseidxs+i, baseidxd+i, colIdx[i]);\n",
    "          matData[baseidxs+i] = addval;\n",
    "          colIdx[baseidxs+i] = i;\n",
    "        }\n",
    "      }\n",
    "    }\"\"\").build()"
   ]
  },
  {
   "cell_type": "code",
   "execution_count": 208,
   "id": "3df220e3",
   "metadata": {},
   "outputs": [
    {
     "data": {
      "text/plain": [
       "((8, 10), (10, 10))"
      ]
     },
     "execution_count": 208,
     "metadata": {},
     "output_type": "execute_result"
    }
   ],
   "source": [
    "a.shape, b.shape"
   ]
  },
  {
   "cell_type": "code",
   "execution_count": 209,
   "id": "4a70fde5",
   "metadata": {},
   "outputs": [],
   "source": [
    "res = np.zeros(a.shape[0]).astype(np.float32)\n",
    "#res"
   ]
  },
  {
   "cell_type": "code",
   "execution_count": 210,
   "id": "49cee8e5",
   "metadata": {},
   "outputs": [],
   "source": [
    "cols = a.shape[1]"
   ]
  },
  {
   "cell_type": "code",
   "execution_count": 211,
   "id": "ce0c1ed9",
   "metadata": {},
   "outputs": [],
   "source": [
    "mult = mult.astype(np.float32)"
   ]
  },
  {
   "cell_type": "code",
   "execution_count": 212,
   "id": "bf98ad4e",
   "metadata": {},
   "outputs": [
    {
     "data": {
      "text/plain": [
       "<pyopencl._cl.Event at 0x7f58841d6450>"
      ]
     },
     "execution_count": 212,
     "metadata": {},
     "output_type": "execute_result"
    },
    {
     "name": "stdout",
     "output_type": "stream",
     "text": [
      "\n",
      "ADD VAL:0.63 idx:9/1  col:3\n",
      "ADD VAL:0.11 idx:45/5  col:3\n",
      "ADD VAL:-1.65 idx:81/9  col:3\n",
      "ADD VAL:0.56 idx:19/13  col:3\n",
      "ADD VAL:-1.35 idx:46/16  col:3\n",
      "ADD VAL:0.58 idx:73/19  col:3\n",
      "ADD VAL:0.64 idx:47/27  col:3\n",
      "ADD VAL:0.78 idx:74/30  col:3\n",
      "ADD VAL:0.24 idx:83/31  col:3\n",
      "ADD VAL:2.12 idx:3/33  col:3\n",
      "ADD VAL:0.80 idx:12/34  col:3\n",
      "ADD VAL:-0.23 idx:66/40  col:3\n",
      "ADD VAL:-1.52 idx:22/46  col:0\n",
      "ADD VAL:-0.27 idx:58/50  col:0\n",
      "ADD VAL:-0.32 idx:67/51  col:0\n",
      "ADD VAL:0.96 idx:32/58  col:0\n",
      "ADD VAL:1.74 idx:41/59  col:0\n",
      "ADD VAL:0.91 idx:59/61  col:0\n",
      "ADD VAL:-0.49 idx:24/68  col:0\n",
      "ADD VAL:0.27 idx:33/69  col:0\n",
      "ADD VAL:0.34 idx:78/74  col:0\n",
      "ADD VAL:-1.71 idx:25/79  col:0\n",
      "ADD VAL:0.45 idx:79/85  col:0\n",
      "ADD VAL:-0.23 idx:88/86  col:0"
     ]
    }
   ],
   "source": [
    "res_buf = cl.Buffer(ctx, mf.WRITE_ONLY, b.nbytes)\n",
    "knl = prg.adddenset  # Use this Kernel object for repeated calls\n",
    "knl(queue, [cols], None, adatat_buf, acolst_buf, annzst_buf, np.float32(1), np.uint32(ellwat),np.uint32(a.T.shape[1]), add_buf)"
   ]
  },
  {
   "cell_type": "code",
   "execution_count": 213,
   "id": "d01027d6",
   "metadata": {},
   "outputs": [
    {
     "data": {
      "text/plain": [
       "-0.35269573"
      ]
     },
     "execution_count": 213,
     "metadata": {},
     "output_type": "execute_result"
    }
   ],
   "source": [
    "matadd[0][0]"
   ]
  },
  {
   "cell_type": "code",
   "execution_count": 214,
   "id": "c8aa298b",
   "metadata": {},
   "outputs": [
    {
     "data": {
      "text/plain": [
       "<pyopencl._cl.NannyEvent at 0x7f58841ee7c0>"
      ]
     },
     "execution_count": 214,
     "metadata": {},
     "output_type": "execute_result"
    }
   ],
   "source": [
    "datat_res = np.empty_like(adatat)\n",
    "colst_res = np.empty_like(acolst)\n",
    "nnzst_res = np.empty_like(annzt)\n",
    "cl.enqueue_copy(queue, datat_res, adatat_buf)\n",
    "cl.enqueue_copy(queue, colst_res, acolst_buf)\n",
    "cl.enqueue_copy(queue, nnzst_res, annzst_buf)"
   ]
  },
  {
   "cell_type": "code",
   "execution_count": 215,
   "id": "1520b090",
   "metadata": {},
   "outputs": [
    {
     "data": {
      "text/plain": [
       "array([[-0.35269573,  1.28351498,  0.21719424,  0.27543089,  0.29724714,\n",
       "         0.182099  , -0.39694956,  1.72365069, -0.05355846, -1.41622102],\n",
       "       [-2.01648808,  0.84177673,  1.07163358,  0.72538   , -1.34399056,\n",
       "        -1.00985456, -0.86116028,  0.14500825,  0.84575415,  3.02161551],\n",
       "       [ 0.52035308,  1.28876543,  1.18090296,  0.19809324,  0.34655529,\n",
       "         0.72378653, -0.47729686,  1.3254298 ,  0.95905477,  0.728755  ],\n",
       "       [ 2.95690203,  1.4842757 , -0.58252019,  0.07085714, -1.46319902,\n",
       "         0.10370726,  0.29269785,  0.54213363, -2.74317217,  0.39759403],\n",
       "       [ 0.58437252, -0.19329749, -1.04315519,  0.46093482, -0.88984329,\n",
       "        -0.71225739, -0.25526667,  0.03759015, -0.18358052,  0.17462821],\n",
       "       [ 0.28775036,  0.10872613, -0.20982412,  1.43465054,  1.98991668,\n",
       "         0.52146387,  1.31079853, -0.97187382, -1.65145731, -0.39233527],\n",
       "       [ 0.47613022, -0.62086385, -0.03813297,  0.80959761,  2.25294089,\n",
       "        -1.3327024 , -0.32828525, -0.09292184,  1.07327044,  0.11065594],\n",
       "       [ 1.40011084,  0.48102146, -1.62996531,  1.80138862, -0.92096573,\n",
       "        -1.90595722,  0.85441637, -1.36799169,  0.89771855,  0.75910378]])"
      ]
     },
     "execution_count": 215,
     "metadata": {},
     "output_type": "execute_result"
    }
   ],
   "source": [
    "adenseaddt = to_dense(datat_res, colst_res, nnzst_res, ellwat, a.T.shape).T\n",
    "adenseaddt"
   ]
  },
  {
   "cell_type": "code",
   "execution_count": 216,
   "id": "4991edea",
   "metadata": {},
   "outputs": [
    {
     "data": {
      "text/plain": [
       "array([[0.        , 0.65016776, 0.        , 0.        , 0.        ,\n",
       "        0.06761027, 0.        , 0.        , 0.        , 0.23628017],\n",
       "       [0.        , 0.        , 0.5084803 , 0.        , 0.        ,\n",
       "        0.34252685, 0.        , 0.        , 0.27032706, 0.        ],\n",
       "       [0.        , 0.        , 0.        , 0.        , 0.        ,\n",
       "        0.08024875, 0.        , 0.        , 0.18381113, 0.4889689 ],\n",
       "       [0.8412975 , 0.6849782 , 0.        , 0.        , 0.        ,\n",
       "        0.        , 0.        , 0.772927  , 0.        , 0.        ],\n",
       "       [0.        , 0.        , 0.4728516 , 0.        , 0.        ,\n",
       "        0.        , 0.01464626, 0.3587053 , 0.        , 0.        ],\n",
       "       [0.        , 0.        , 0.        , 0.47683263, 0.25351405,\n",
       "        0.        , 0.4009562 , 0.        , 0.        , 0.        ],\n",
       "       [0.        , 0.        , 0.45469493, 0.5383059 , 0.        ,\n",
       "        0.        , 0.        , 0.        , 0.7299876 , 0.        ],\n",
       "       [0.        , 0.        , 0.08121876, 0.        , 0.        ,\n",
       "        0.        , 0.        , 0.        , 0.45099235, 0.99066746]],\n",
       "      dtype=float32)"
      ]
     },
     "execution_count": 216,
     "metadata": {},
     "output_type": "execute_result"
    }
   ],
   "source": [
    "a"
   ]
  },
  {
   "cell_type": "code",
   "execution_count": 217,
   "id": "a02d1ebb",
   "metadata": {},
   "outputs": [
    {
     "data": {
      "text/plain": [
       "array([[-0.35269573,  0.63334715,  0.21719424,  0.2754309 ,  0.29724714,\n",
       "         0.11448873, -0.39694956,  1.7236507 , -0.05355846, -1.6525012 ],\n",
       "       [-2.016488  ,  0.8417767 ,  0.5631532 ,  0.72538   , -1.3439906 ,\n",
       "        -1.3523815 , -0.8611603 ,  0.14500825,  0.5754271 ,  3.0216155 ],\n",
       "       [ 0.5203531 ,  1.2887654 ,  1.180903  ,  0.19809324,  0.3465553 ,\n",
       "         0.64353776, -0.47729686,  1.3254298 ,  0.77524364,  0.2397861 ],\n",
       "       [ 2.1156046 ,  0.7992975 , -0.5825202 ,  0.07085714, -1.463199  ,\n",
       "         0.10370726,  0.29269785, -0.23079337, -2.7431722 ,  0.39759403],\n",
       "       [ 0.5843725 , -0.19329749, -1.5160068 ,  0.46093482, -0.8898433 ,\n",
       "        -0.7122574 , -0.26991293, -0.32111517, -0.18358052,  0.17462821],\n",
       "       [ 0.28775036,  0.10872613, -0.20982412,  0.9578179 ,  1.7364026 ,\n",
       "         0.5214639 ,  0.9098423 , -0.9718738 , -1.6514573 , -0.39233527],\n",
       "       [ 0.47613022, -0.62086385, -0.4928279 ,  0.27129176,  2.252941  ,\n",
       "        -1.3327024 , -0.32828525, -0.09292184,  0.34328285,  0.11065594],\n",
       "       [ 1.4001108 ,  0.48102146, -1.711184  ,  1.8013886 , -0.92096573,\n",
       "        -1.9059572 ,  0.8544164 , -1.3679917 ,  0.44672617, -0.23156372]],\n",
       "      dtype=float32)"
      ]
     },
     "execution_count": 217,
     "metadata": {},
     "output_type": "execute_result"
    }
   ],
   "source": [
    "matadd"
   ]
  },
  {
   "cell_type": "code",
   "execution_count": 218,
   "id": "39b90dde",
   "metadata": {},
   "outputs": [
    {
     "data": {
      "text/plain": [
       "array([[-0.35269573,  1.283515  ,  0.21719424,  0.2754309 ,  0.29724714,\n",
       "         0.182099  , -0.39694956,  1.7236507 , -0.05355846, -1.416221  ],\n",
       "       [-2.016488  ,  0.8417767 ,  1.0716336 ,  0.72538   , -1.3439906 ,\n",
       "        -1.0098546 , -0.8611603 ,  0.14500825,  0.84575415,  3.0216155 ],\n",
       "       [ 0.5203531 ,  1.2887654 ,  1.180903  ,  0.19809324,  0.3465553 ,\n",
       "         0.72378653, -0.47729686,  1.3254298 ,  0.95905477,  0.728755  ],\n",
       "       [ 2.956902  ,  1.4842757 , -0.5825202 ,  0.07085714, -1.463199  ,\n",
       "         0.10370726,  0.29269785,  0.5421336 , -2.7431722 ,  0.39759403],\n",
       "       [ 0.5843725 , -0.19329749, -1.0431552 ,  0.46093482, -0.8898433 ,\n",
       "        -0.7122574 , -0.25526667,  0.03759015, -0.18358052,  0.17462821],\n",
       "       [ 0.28775036,  0.10872613, -0.20982412,  1.4346505 ,  1.9899167 ,\n",
       "         0.5214639 ,  1.3107985 , -0.9718738 , -1.6514573 , -0.39233527],\n",
       "       [ 0.47613022, -0.62086385, -0.03813297,  0.8095976 ,  2.252941  ,\n",
       "        -1.3327024 , -0.32828525, -0.09292184,  1.0732704 ,  0.11065594],\n",
       "       [ 1.4001108 ,  0.48102146, -1.6299653 ,  1.8013886 , -0.92096573,\n",
       "        -1.9059572 ,  0.8544164 , -1.3679917 ,  0.89771855,  0.7591038 ]],\n",
       "      dtype=float32)"
      ]
     },
     "execution_count": 218,
     "metadata": {},
     "output_type": "execute_result"
    }
   ],
   "source": [
    "a_added"
   ]
  },
  {
   "cell_type": "code",
   "execution_count": 219,
   "id": "03c95777",
   "metadata": {},
   "outputs": [
    {
     "data": {
      "text/plain": [
       "array([[ True,  True,  True,  True,  True,  True,  True,  True,  True,\n",
       "         True],\n",
       "       [ True,  True,  True,  True,  True,  True,  True,  True,  True,\n",
       "         True],\n",
       "       [ True,  True,  True,  True,  True,  True,  True,  True,  True,\n",
       "         True],\n",
       "       [ True,  True,  True,  True,  True,  True,  True,  True,  True,\n",
       "         True],\n",
       "       [ True,  True,  True,  True,  True,  True,  True,  True,  True,\n",
       "         True],\n",
       "       [ True,  True,  True,  True,  True,  True,  True,  True,  True,\n",
       "         True],\n",
       "       [ True,  True,  True,  True,  True,  True,  True,  True,  True,\n",
       "         True],\n",
       "       [ True,  True,  True,  True,  True,  True,  True,  True,  True,\n",
       "         True]])"
      ]
     },
     "execution_count": 219,
     "metadata": {},
     "output_type": "execute_result"
    }
   ],
   "source": [
    "adenseaddt == a_added"
   ]
  },
  {
   "cell_type": "markdown",
   "id": "f62eb300",
   "metadata": {},
   "source": [
    "### Make Random"
   ]
  },
  {
   "cell_type": "code",
   "execution_count": 173,
   "id": "bc590ff4",
   "metadata": {},
   "outputs": [
    {
     "data": {
      "text/plain": [
       "<SparseTensor <GPUBuffer with shape (8,)> with grad None>"
      ]
     },
     "execution_count": 173,
     "metadata": {},
     "output_type": "execute_result"
    }
   ],
   "source": [
    "rand = SparseTensor.uniform(2,4)\n",
    "rand"
   ]
  },
  {
   "cell_type": "code",
   "execution_count": 174,
   "id": "186cbd5b",
   "metadata": {},
   "outputs": [
    {
     "data": {
      "text/plain": [
       "array([[8.16657580e-03, 4.06863197e-04, 4.67745448e-03, 2.17638887e-03],\n",
       "       [9.19005179e-05, 6.18232368e-03, 5.51996008e-03, 8.45965091e-03]])"
      ]
     },
     "execution_count": 174,
     "metadata": {},
     "output_type": "execute_result"
    }
   ],
   "source": [
    "rand.to_numpy()"
   ]
  },
  {
   "cell_type": "code",
   "execution_count": 175,
   "id": "86441521",
   "metadata": {},
   "outputs": [
    {
     "data": {
      "text/plain": [
       "<GPUBuffer with shape (8,)>"
      ]
     },
     "execution_count": 175,
     "metadata": {},
     "output_type": "execute_result"
    }
   ],
   "source": [
    "rand.data"
   ]
  },
  {
   "cell_type": "markdown",
   "id": "6644b755",
   "metadata": {},
   "source": [
    "### update vals"
   ]
  },
  {
   "cell_type": "code",
   "execution_count": 176,
   "id": "73b60325",
   "metadata": {},
   "outputs": [],
   "source": [
    "adata_buf = cl.Buffer(ctx, mf.READ_WRITE | mf.COPY_HOST_PTR, hostbuf=adata)\n",
    "acols_buf = cl.Buffer(ctx, mf.READ_WRITE | mf.COPY_HOST_PTR, hostbuf=acols)\n",
    "annzs_buf = cl.Buffer(ctx, mf.READ_WRITE | mf.COPY_HOST_PTR, hostbuf=annz)"
   ]
  },
  {
   "cell_type": "code",
   "execution_count": 177,
   "id": "7cb03af3",
   "metadata": {},
   "outputs": [],
   "source": [
    "prg = cl.Program(ctx, \"\"\"\n",
    "// Every global_id_0 works on a row\n",
    "    __kernel void addvals(__global  float* matData,     // INPUT MATRIX DATA\n",
    "                         __global  uint*  colIdx,\n",
    "                         __global  uint*  rowNnz,\n",
    "                         float lr,\n",
    "                         uint   ellwidth,\n",
    "                         __global  float* updatevals,    // INPUT\n",
    "                         __global  uint* updatexidx,\n",
    "                         __global  uint* updateyidx\n",
    "                         ) { // LOCAL SHARED BUFFER\n",
    "      uint gid = get_global_id(0);\n",
    "      uint gid2 = get_global_id(1);\n",
    "      uint topk = get_global_size(0);\n",
    "      uint bs = get_global_size(1);\n",
    "      uint baseupdateidx = topk*topk*gid2;\n",
    "      uint baseidxidx = topk*gid2;\n",
    "      uint col = updateyidx[baseidxidx+gid];\n",
    "\n",
    "      for (uint i=0; i<topk; i++) {\n",
    "        float val = updatevals[baseupdateidx+gid*topk+i];\n",
    "        uint row = updatexidx[baseidxidx+i];\n",
    "        for (uint i=0; i<rowNnz[row]; i++) {\n",
    "          uint idx = row*ellwidth+i;\n",
    "          if (colIdx[idx] >= col) {\n",
    "            //printf(\"\\\\nFOUND:%i/%i  - idx:%i\", colIdx[idx], col, idx);\n",
    "            if (colIdx[idx] == col) {\n",
    "              matData[idx] += -val*lr;\n",
    "              printf(\"\\\\nUPDATE[%i,%i]: %f\", row,col, val);\n",
    "              break;\n",
    "            } else {\n",
    "              // insert new column\n",
    "              printf(\"\\\\nINSERT[%i,%i]: %.2f\", row,col, val);\n",
    "              for (uint j=rowNnz[row]+1; j>i; j--) {\n",
    "                uint idx2 = row*ellwidth+j;\n",
    "                matData[idx2] = matData[idx2-1];\n",
    "                colIdx[idx2] = colIdx[idx2-1];\n",
    "              }\n",
    "              matData[idx] = -val*lr;\n",
    "              colIdx[idx] = col;\n",
    "              rowNnz[row] += 1;\n",
    "              break;\n",
    "            }\n",
    "          }\n",
    "        }\n",
    "        if (rowNnz[row] >= ellwidth) {\n",
    "          break;\n",
    "        }\n",
    "      }\n",
    "    }\"\"\").build()"
   ]
  },
  {
   "cell_type": "code",
   "execution_count": 178,
   "id": "0aab86e1",
   "metadata": {},
   "outputs": [
    {
     "name": "stdout",
     "output_type": "stream",
     "text": [
      "\n",
      "UPDATE[5,3]: 0.777232\n",
      "UPDATE[3,0]: 0.590884\n",
      "UPDATE[3,1]: 0.608720\n",
      "INSERT[6,5]: 0.61\n",
      "INSERT[6,6]: 0.53\n",
      "UPDATE[3,7]: 0.658405\n",
      "UPDATE[5,6]: 0.772321\n",
      "INSERT[3,6]: 0.67\n",
      "UPDATE[0,5]: 0.608039\n",
      "INSERT[5,0]: 0.56\n",
      "INSERT[0,3]: 0.71\n",
      "UPDATE[0,1]: 0.367950\n",
      "INSERT[0,6]: 0.53"
     ]
    },
    {
     "data": {
      "text/plain": [
       "<pyopencl._cl.NannyEvent at 0x7f58841df360>"
      ]
     },
     "execution_count": 178,
     "metadata": {},
     "output_type": "execute_result"
    }
   ],
   "source": [
    "knl = prg.addvals  # Use this Kernel object for repeated calls\n",
    "knl(queue, [topk,bs], None, adata_buf, acols_buf, annzs_buf, np.float32(1), np.uint32(ellwa), x_cp_buf, x_idx_buf, y_idx_buf)\n",
    "\n",
    "resa = np.empty_like(adata)\n",
    "resaidx = np.zeros(acols.shape).astype(np.uint32)\n",
    "resannz = np.zeros(annz.shape).astype(np.uint32)\n",
    "\n",
    "cl.enqueue_copy(queue, resa, adata_buf)\n",
    "cl.enqueue_copy(queue, resaidx, acols_buf)\n",
    "cl.enqueue_copy(queue, resannz, annzs_buf)"
   ]
  },
  {
   "cell_type": "code",
   "execution_count": 179,
   "id": "d2ff91ba",
   "metadata": {},
   "outputs": [
    {
     "data": {
      "text/plain": [
       "((80,), (80,), (8,), 10, (10, 8))"
      ]
     },
     "execution_count": 179,
     "metadata": {},
     "output_type": "execute_result"
    }
   ],
   "source": [
    "resa.shape, resaidx.shape, resannz.shape, ellwa, a.T.shape"
   ]
  },
  {
   "cell_type": "code",
   "execution_count": 180,
   "id": "190b8546",
   "metadata": {},
   "outputs": [
    {
     "ename": "IndexError",
     "evalue": "index 9 is out of bounds for axis 1 with size 8",
     "output_type": "error",
     "traceback": [
      "\u001b[0;31m---------------------------------------------------------------------------\u001b[0m",
      "\u001b[0;31mIndexError\u001b[0m                                Traceback (most recent call last)",
      "\u001b[0;32m/tmp/ipykernel_21691/386533412.py\u001b[0m in \u001b[0;36m<module>\u001b[0;34m\u001b[0m\n\u001b[0;32m----> 1\u001b[0;31m \u001b[0madenseadd\u001b[0m \u001b[0;34m=\u001b[0m \u001b[0mto_dense\u001b[0m\u001b[0;34m(\u001b[0m\u001b[0mresa\u001b[0m\u001b[0;34m,\u001b[0m \u001b[0mresaidx\u001b[0m\u001b[0;34m,\u001b[0m \u001b[0mresannz\u001b[0m\u001b[0;34m,\u001b[0m \u001b[0mellwa\u001b[0m\u001b[0;34m,\u001b[0m \u001b[0ma\u001b[0m\u001b[0;34m.\u001b[0m\u001b[0mT\u001b[0m\u001b[0;34m.\u001b[0m\u001b[0mshape\u001b[0m\u001b[0;34m)\u001b[0m\u001b[0;34m\u001b[0m\u001b[0;34m\u001b[0m\u001b[0m\n\u001b[0m\u001b[1;32m      2\u001b[0m \u001b[0madenseadd\u001b[0m\u001b[0;34m\u001b[0m\u001b[0;34m\u001b[0m\u001b[0m\n",
      "\u001b[0;32m/tmp/ipykernel_21691/1666242131.py\u001b[0m in \u001b[0;36mto_dense\u001b[0;34m(data, cols, nnzs, ellw, shape)\u001b[0m\n\u001b[1;32m      3\u001b[0m     \u001b[0;32mfor\u001b[0m \u001b[0mrow\u001b[0m \u001b[0;32min\u001b[0m \u001b[0mrange\u001b[0m\u001b[0;34m(\u001b[0m\u001b[0mshape\u001b[0m\u001b[0;34m[\u001b[0m\u001b[0;36m0\u001b[0m\u001b[0;34m]\u001b[0m\u001b[0;34m)\u001b[0m\u001b[0;34m:\u001b[0m\u001b[0;34m\u001b[0m\u001b[0;34m\u001b[0m\u001b[0m\n\u001b[1;32m      4\u001b[0m         \u001b[0;32mfor\u001b[0m \u001b[0micol\u001b[0m \u001b[0;32min\u001b[0m \u001b[0mrange\u001b[0m\u001b[0;34m(\u001b[0m\u001b[0mnnzs\u001b[0m\u001b[0;34m[\u001b[0m\u001b[0mrow\u001b[0m\u001b[0;34m]\u001b[0m\u001b[0;34m)\u001b[0m\u001b[0;34m:\u001b[0m\u001b[0;34m\u001b[0m\u001b[0;34m\u001b[0m\u001b[0m\n\u001b[0;32m----> 5\u001b[0;31m             \u001b[0mout\u001b[0m\u001b[0;34m[\u001b[0m\u001b[0mrow\u001b[0m\u001b[0;34m,\u001b[0m\u001b[0mcols\u001b[0m\u001b[0;34m[\u001b[0m\u001b[0mrow\u001b[0m\u001b[0;34m*\u001b[0m\u001b[0mellw\u001b[0m\u001b[0;34m+\u001b[0m\u001b[0micol\u001b[0m\u001b[0;34m]\u001b[0m\u001b[0;34m]\u001b[0m \u001b[0;34m=\u001b[0m \u001b[0mdata\u001b[0m\u001b[0;34m[\u001b[0m\u001b[0mrow\u001b[0m\u001b[0;34m*\u001b[0m\u001b[0mellw\u001b[0m\u001b[0;34m+\u001b[0m\u001b[0micol\u001b[0m\u001b[0;34m]\u001b[0m\u001b[0;34m\u001b[0m\u001b[0;34m\u001b[0m\u001b[0m\n\u001b[0m\u001b[1;32m      6\u001b[0m     \u001b[0;32mreturn\u001b[0m \u001b[0mout\u001b[0m\u001b[0;34m\u001b[0m\u001b[0;34m\u001b[0m\u001b[0m\n",
      "\u001b[0;31mIndexError\u001b[0m: index 9 is out of bounds for axis 1 with size 8"
     ]
    }
   ],
   "source": [
    "adenseadd = to_dense(resa, resaidx, resannz, ellwa, a.T.shape)\n",
    "adenseadd"
   ]
  },
  {
   "cell_type": "code",
   "execution_count": null,
   "id": "3211c6e6",
   "metadata": {},
   "outputs": [],
   "source": [
    "adenseadd - adense"
   ]
  },
  {
   "cell_type": "code",
   "execution_count": null,
   "id": "f63c469b",
   "metadata": {},
   "outputs": [],
   "source": [
    "adenseadd == adense"
   ]
  },
  {
   "cell_type": "code",
   "execution_count": null,
   "id": "922fdfb7",
   "metadata": {},
   "outputs": [],
   "source": [
    "ellwa"
   ]
  },
  {
   "cell_type": "code",
   "execution_count": null,
   "id": "9da55fa5",
   "metadata": {},
   "outputs": [],
   "source": [
    "adata2 = adata.reshape(-1, ellwa)\n",
    "adata2"
   ]
  },
  {
   "cell_type": "code",
   "execution_count": null,
   "id": "466c61fb",
   "metadata": {},
   "outputs": [],
   "source": [
    "resa = resa.reshape(-1, ellwa)\n",
    "resa"
   ]
  },
  {
   "cell_type": "code",
   "execution_count": null,
   "id": "30f36719",
   "metadata": {},
   "outputs": [],
   "source": [
    "resa - adata2"
   ]
  },
  {
   "cell_type": "code",
   "execution_count": null,
   "id": "9dd6baf4",
   "metadata": {},
   "outputs": [],
   "source": [
    "acols"
   ]
  },
  {
   "cell_type": "code",
   "execution_count": null,
   "id": "5c526051",
   "metadata": {},
   "outputs": [],
   "source": [
    "resaidx"
   ]
  },
  {
   "cell_type": "code",
   "execution_count": null,
   "id": "f635a14d",
   "metadata": {},
   "outputs": [],
   "source": [
    "resannz"
   ]
  },
  {
   "cell_type": "code",
   "execution_count": null,
   "id": "d99713b6",
   "metadata": {},
   "outputs": [],
   "source": [
    "annz"
   ]
  },
  {
   "cell_type": "markdown",
   "id": "7c703466",
   "metadata": {},
   "source": [
    "### update vals2"
   ]
  },
  {
   "cell_type": "code",
   "execution_count": null,
   "id": "ed7e786b",
   "metadata": {},
   "outputs": [],
   "source": [
    "adatat_buf = cl.Buffer(ctx, mf.READ_WRITE | mf.COPY_HOST_PTR, hostbuf=adatat)\n",
    "acolst_buf = cl.Buffer(ctx, mf.READ_WRITE | mf.COPY_HOST_PTR, hostbuf=acolst)\n",
    "annzst_buf = cl.Buffer(ctx, mf.READ_WRITE | mf.COPY_HOST_PTR, hostbuf=annzt)"
   ]
  },
  {
   "cell_type": "code",
   "execution_count": null,
   "id": "33840479",
   "metadata": {},
   "outputs": [],
   "source": [
    "prg = cl.Program(ctx, \"\"\"\n",
    "// Every global_id_0 works on a row\n",
    "    __kernel void addvals(__global  float* matData,     // INPUT MATRIX DATA\n",
    "                         __global  uint*  colIdx,\n",
    "                         __global  uint*  rowNnz,\n",
    "                         float lr,\n",
    "                         uint   ellwidth,\n",
    "                         __global  float* updatevals,    // INPUT\n",
    "                         __global  uint* updatexidx,\n",
    "                         __global  uint* updateyidx\n",
    "                         ) { // LOCAL SHARED BUFFER\n",
    "      uint gid = get_global_id(0);\n",
    "      uint gid2 = get_global_id(1);\n",
    "      uint topk = get_global_size(0);\n",
    "      uint bs = get_global_size(1);\n",
    "      uint baseupdateidx = topk*topk*gid2;\n",
    "      uint baseidxidx = topk*gid2;\n",
    "      uint row = updateyidx[baseidxidx+gid];\n",
    "\n",
    "      for (uint i=0; i<topk; i++) {\n",
    "        float val = updatevals[baseupdateidx+gid*topk+i];\n",
    "        uint col = updatexidx[baseidxidx+i];\n",
    "        for (uint i=0; i<rowNnz[row]; i++) {\n",
    "          uint idx = row*ellwidth+i;\n",
    "          if (colIdx[idx] >= col) {\n",
    "            //printf(\"\\\\nFOUND:%i/%i  - idx:%i\", colIdx[idx], col, idx);\n",
    "            if (colIdx[idx] == col) {\n",
    "              matData[idx] += -val*lr;\n",
    "              printf(\"\\\\nUPDATE[%i,%i]: %f\", row,col, val);\n",
    "              break;\n",
    "            } else {\n",
    "              // insert new column\n",
    "              printf(\"\\\\nINSERT[%i,%i]: %.2f\", row,col, val);\n",
    "              for (uint j=rowNnz[row]+1; j>i; j--) {\n",
    "                uint idx2 = row*ellwidth+j;\n",
    "                matData[idx2] = matData[idx2-1];\n",
    "                colIdx[idx2] = colIdx[idx2-1];\n",
    "              }\n",
    "              matData[idx] = -val*lr;\n",
    "              colIdx[idx] = col;\n",
    "              rowNnz[row] += 1;\n",
    "              break;\n",
    "            }\n",
    "          }\n",
    "        }\n",
    "        if (rowNnz[row] >= ellwidth) {\n",
    "          break;\n",
    "        }\n",
    "      }\n",
    "    }\"\"\").build()"
   ]
  },
  {
   "cell_type": "code",
   "execution_count": null,
   "id": "0053ed70",
   "metadata": {},
   "outputs": [],
   "source": [
    "knl = prg.addvals  # Use this Kernel object for repeated calls\n",
    "knl(queue, [topk,bs], None, adatat_buf, acolst_buf, annzst_buf, np.float32(1), np.uint32(ellwat), x_cp_buf, x_idx_buf, y_idx_buf)\n",
    "\n",
    "resat = np.empty_like(adatat)\n",
    "resaidxt = np.zeros(acolst.shape).astype(np.uint32)\n",
    "resannzt = np.zeros(annzt.shape).astype(np.uint32)\n",
    "\n",
    "cl.enqueue_copy(queue, resat, adatat_buf)\n",
    "cl.enqueue_copy(queue, resaidxt, acolst_buf)\n",
    "cl.enqueue_copy(queue, resannzt, annzst_buf)"
   ]
  },
  {
   "cell_type": "code",
   "execution_count": null,
   "id": "8f781e72",
   "metadata": {},
   "outputs": [],
   "source": [
    "ellwa"
   ]
  },
  {
   "cell_type": "code",
   "execution_count": null,
   "id": "1864d3ac",
   "metadata": {},
   "outputs": [],
   "source": [
    "resat.shape, resaidxt.shape, resannzt.shape"
   ]
  },
  {
   "cell_type": "code",
   "execution_count": null,
   "id": "6205962b",
   "metadata": {},
   "outputs": [],
   "source": [
    "adenseaddt = to_dense(resat, resaidxt, resannzt, ellwat, a.T.shape)\n",
    "adenseaddt"
   ]
  },
  {
   "cell_type": "code",
   "execution_count": null,
   "id": "c601a02c",
   "metadata": {},
   "outputs": [],
   "source": [
    "adenseadd == adenseaddt.T"
   ]
  },
  {
   "cell_type": "code",
   "execution_count": null,
   "id": "64a4fdb0",
   "metadata": {},
   "outputs": [],
   "source": [
    "adata2t = adatat.reshape(-1, ellwat)\n",
    "adata2t"
   ]
  },
  {
   "cell_type": "code",
   "execution_count": null,
   "id": "3b8f6062",
   "metadata": {},
   "outputs": [],
   "source": [
    "resat = resat.reshape(-1, ellwat)\n",
    "resat"
   ]
  },
  {
   "cell_type": "code",
   "execution_count": null,
   "id": "eb51f891",
   "metadata": {},
   "outputs": [],
   "source": [
    "resat - adata2t"
   ]
  },
  {
   "cell_type": "code",
   "execution_count": null,
   "id": "f7e150fe",
   "metadata": {},
   "outputs": [],
   "source": [
    "acols"
   ]
  },
  {
   "cell_type": "code",
   "execution_count": null,
   "id": "8f1f18f1",
   "metadata": {},
   "outputs": [],
   "source": [
    "resaidx"
   ]
  },
  {
   "cell_type": "code",
   "execution_count": null,
   "id": "bd326e73",
   "metadata": {},
   "outputs": [],
   "source": [
    "resannz"
   ]
  },
  {
   "cell_type": "code",
   "execution_count": null,
   "id": "357413c1",
   "metadata": {},
   "outputs": [],
   "source": [
    "annz"
   ]
  },
  {
   "cell_type": "markdown",
   "id": "7f618bfd",
   "metadata": {},
   "source": [
    "# OTHER"
   ]
  },
  {
   "cell_type": "markdown",
   "id": "28fd6b45",
   "metadata": {},
   "source": [
    "import numpy as np\n",
    "import pyopencl as cl\n",
    "\n",
    "mf = cl.mem_flags"
   ]
  },
  {
   "cell_type": "markdown",
   "id": "ebed13d1",
   "metadata": {},
   "source": [
    "dim = 16\n",
    "topk = 4\n",
    "\n",
    "x = np.random.rand(dim).astype(np.float32)\n",
    "y = np.random.rand(dim).astype(np.float32)\n",
    "x.shape,y.shape"
   ]
  },
  {
   "cell_type": "markdown",
   "id": "444a4a7f",
   "metadata": {},
   "source": [
    "dim1 = 4\n",
    "dim2 = 8\n",
    "dim3 = 1\n",
    "\n",
    "ctx = cl.create_some_context()\n",
    "queue = cl.CommandQueue(ctx,\n",
    "        properties=cl.command_queue_properties.PROFILING_ENABLE)\n",
    "\n",
    "sparsity = 0.2\n",
    "\n",
    "a = np.zeros((dim1,dim2))\n",
    "b = np.random.rand(dim2,dim3).flatten().astype(np.float32)\n",
    "\n",
    "a.shape, b.shape"
   ]
  },
  {
   "cell_type": "code",
   "execution_count": null,
   "id": "e2d4594d",
   "metadata": {},
   "outputs": [],
   "source": [
    "x_buf = cl.Buffer(ctx, mf.READ_ONLY | mf.COPY_HOST_PTR, hostbuf=x)\n",
    "y_buf = cl.Buffer(ctx, mf.READ_ONLY | mf.COPY_HOST_PTR, hostbuf=y)\n",
    "val_out_buf = cl.Buffer(ctx, mf.READ_WRITE, 4*topk*topk)\n",
    "x_idx_buf = cl.Buffer(ctx, mf.READ_WRITE, topk*4)\n",
    "y_idx_buf = cl.Buffer(ctx, mf.READ_WRITE, topk*4)\n",
    "\n",
    "prg = cl.Program(ctx, \"\"\"\n",
    "// Every global_id_0 works on a row\n",
    "__kernel void genwupdate2(__global  float* x,     // INPUT MATRIX DATA\n",
    "                         __global  float* y,    // INPUT\n",
    "                         __global  float* xout,    // INPUT\n",
    "                         uint topk,\n",
    "                         __global  uint* xoutidx,    // INPUT\n",
    "                         __global  uint* youtidx    // INPUT\n",
    "                        ) { // LOCAL SHARED BUFFER\n",
    "  uint gid = get_global_id(0);\n",
    "  uint n = get_global_size(0);\n",
    "  \n",
    "  xout[gid] = x[gid];\n",
    "  xoutidx[gid] = gid;\n",
    "  youtidx[gid] = gid;\n",
    "  \n",
    "  float valx = x[gid];\n",
    "  float valy = y[gid];\n",
    "  uint posx = 0;\n",
    "  uint posy = 0;\n",
    "  for (uint i = 0; i < n; i++) {\n",
    "    float tempval = x[i];\n",
    "    float tempval2 = y[i];\n",
    "    bool larger = tempval > valx;\n",
    "    bool larger2 = tempval2 > valy;\n",
    "      \n",
    "    posx += (larger)?1:0;\n",
    "    posy += (larger2)?1:0;\n",
    "  }\n",
    "  //printf(\"posx:%i\", posx);\n",
    "  if (posx < topk) {\n",
    "    xoutidx[posx] = gid;\n",
    "  }\n",
    "  if (posy < topk) {\n",
    "    youtidx[posy] = gid;\n",
    "  }\n",
    "  if (gid < topk) {\n",
    "    uint i = gid;\n",
    "    for (uint j=0; j<topk; j++) {\n",
    "      xout[gid*topk+j] = x[xoutidx[gid]] * y[youtidx[j]];\n",
    "    }\n",
    "  }\n",
    "}\"\"\").build()"
   ]
  },
  {
   "cell_type": "code",
   "execution_count": null,
   "id": "f45b3b69",
   "metadata": {},
   "outputs": [],
   "source": [
    "knl = prg.genwupdate2  # Use this Kernel object for repeated calls\n",
    "event = knl(queue, [dim,], None, x_buf, y_buf, val_out_buf, np.uint32(topk), x_idx_buf, y_idx_buf)\n",
    "\n",
    "#event.wait()\n",
    "val_out = np.zeros(topk*topk).astype(np.float32)\n",
    "resxidx = np.zeros(topk).astype(np.uint32)\n",
    "resyidx = np.zeros(topk).astype(np.uint32)\n",
    "\n",
    "cl.enqueue_copy(queue, val_out, val_out_buf)\n",
    "cl.enqueue_copy(queue, resxidx, x_idx_buf, wait_for=[event])\n",
    "cl.enqueue_copy(queue, resyidx, y_idx_buf)"
   ]
  },
  {
   "cell_type": "code",
   "execution_count": null,
   "id": "d883394f",
   "metadata": {},
   "outputs": [],
   "source": [
    "val_out"
   ]
  },
  {
   "cell_type": "code",
   "execution_count": null,
   "id": "2335cf69",
   "metadata": {},
   "outputs": [],
   "source": [
    "resxidx"
   ]
  },
  {
   "cell_type": "code",
   "execution_count": null,
   "id": "5e714f2a",
   "metadata": {},
   "outputs": [],
   "source": [
    "resyidx"
   ]
  },
  {
   "cell_type": "code",
   "execution_count": null,
   "id": "f246c208",
   "metadata": {},
   "outputs": [],
   "source": [
    "asdf"
   ]
  },
  {
   "cell_type": "code",
   "execution_count": null,
   "id": "02a5c5dd",
   "metadata": {},
   "outputs": [],
   "source": [
    "from __future__ import division\n",
    "\n",
    "KERNEL_CODE = \"\"\"\n",
    "// Thread block size\n",
    "#define BLOCK_SIZE %(block_size)d\n",
    "// Matrix dimensions\n",
    "// (chosen as multiples of the thread block size for simplicity)\n",
    "#define WA %(w_a)d // Matrix A width\n",
    "#define HA %(h_a)d // Matrix A height\n",
    "#define WB %(w_b)d // Matrix B width\n",
    "#define HB WA  // Matrix B height\n",
    "#define WC WB  // Matrix C width\n",
    "#define HC HA  // Matrix C height\n",
    "/*\n",
    " * Copyright 1993-2009 NVIDIA Corporation.  All rights reserved.\n",
    " *\n",
    " * NVIDIA Corporation and its licensors retain all intellectual property and\n",
    " * proprietary rights in and to this software and related documentation.\n",
    " * Any use, reproduction, disclosure, or distribution of this software\n",
    " * and related documentation without an express license agreement from\n",
    " * NVIDIA Corporation is strictly prohibited.\n",
    " *\n",
    " * Please refer to the applicable NVIDIA end user license agreement (EULA)\n",
    " * associated with this source code for terms and conditions that govern\n",
    " * your use of this NVIDIA software.\n",
    " *\n",
    " */\n",
    "/* Matrix multiplication: C = A * B.\n",
    " * Device code.\n",
    " */\n",
    "#define AS(j, i) As[i + j * BLOCK_SIZE]\n",
    "#define BS(j, i) Bs[i + j * BLOCK_SIZE]\n",
    "////////////////////////////////////////////////////////////////////////////////\n",
    "//! Matrix multiplication on the device: C = A * B\n",
    "//! WA is A's width and WB is B's width\n",
    "////////////////////////////////////////////////////////////////////////////////\n",
    "__kernel __attribute__((reqd_work_group_size(16,16,1))) \n",
    "void\n",
    "matrixMul( __global float* C, __global float* A, __global float* B)\n",
    "{\n",
    "    __local float As[BLOCK_SIZE*BLOCK_SIZE];\n",
    "    __local float Bs[BLOCK_SIZE*BLOCK_SIZE];\n",
    "    // Block index\n",
    "    int bx = get_group_id(0);\n",
    "    int by = get_group_id(1);\n",
    "    // Thread index\n",
    "    int tx = get_local_id(0);\n",
    "    int ty = get_local_id(1);\n",
    "    // Index of the first sub-matrix of A processed by the block\n",
    "    int aBegin = WA * BLOCK_SIZE * by;\n",
    "    // Index of the last sub-matrix of A processed by the block\n",
    "    int aEnd   = aBegin + WA - 1;\n",
    "    // Step size used to iterate through the sub-matrices of A\n",
    "    int aStep  = BLOCK_SIZE;\n",
    "    // Index of the first sub-matrix of B processed by the block\n",
    "    int bBegin = BLOCK_SIZE * bx;\n",
    "    // Step size used to iterate through the sub-matrices of B\n",
    "    int bStep  = BLOCK_SIZE * WB;\n",
    "    // Csub is used to store the element of the block sub-matrix\n",
    "    // that is computed by the thread\n",
    "    float Csub = 0.0f;\n",
    "    // Loop over all the sub-matrices of A and B\n",
    "    // required to compute the block sub-matrix\n",
    "    for (int a = aBegin, b = bBegin;\n",
    "             a <= aEnd;\n",
    "             a += aStep, b += bStep) {\n",
    "        // Load the matrices from device memory\n",
    "        // to shared memory; each thread loads\n",
    "        // one element of each matrix\n",
    "        AS(ty, tx) = A[a + WA * ty + tx];\n",
    "        BS(ty, tx) = B[b + WB * ty + tx];\n",
    "        // Synchronize to make sure the matrices are loaded\n",
    "        barrier(CLK_LOCAL_MEM_FENCE);\n",
    "        // Multiply the two matrices together;\n",
    "        // each thread computes one element\n",
    "        // of the block sub-matrix\n",
    "        for (int k = 0; k < BLOCK_SIZE; ++k)\n",
    "            Csub += AS(ty, k) * BS(k, tx);\n",
    "        // Synchronize to make sure that the preceding\n",
    "        // computation is done before loading two new\n",
    "        // sub-matrices of A and B in the next iteration\n",
    "        barrier(CLK_LOCAL_MEM_FENCE);\n",
    "    }\n",
    "    // Write the block sub-matrix to device memory;\n",
    "    // each thread writes one element\n",
    "    C[get_global_id(1) * get_global_size(0) + get_global_id(0)] = Csub;\n",
    "}\n",
    "\"\"\"\n"
   ]
  },
  {
   "cell_type": "code",
   "execution_count": null,
   "id": "c1eb509e",
   "metadata": {},
   "outputs": [],
   "source": []
  },
  {
   "cell_type": "code",
   "execution_count": null,
   "id": "77b4a04e",
   "metadata": {},
   "outputs": [],
   "source": []
  },
  {
   "cell_type": "code",
   "execution_count": null,
   "id": "a0521855",
   "metadata": {},
   "outputs": [],
   "source": []
  },
  {
   "cell_type": "code",
   "execution_count": null,
   "id": "9a61206e",
   "metadata": {},
   "outputs": [],
   "source": []
  },
  {
   "cell_type": "code",
   "execution_count": null,
   "id": "16d754cb",
   "metadata": {},
   "outputs": [],
   "source": []
  },
  {
   "cell_type": "code",
   "execution_count": null,
   "id": "c91d5425",
   "metadata": {},
   "outputs": [],
   "source": []
  },
  {
   "cell_type": "code",
   "execution_count": null,
   "id": "d9f4a6f0",
   "metadata": {},
   "outputs": [],
   "source": []
  },
  {
   "cell_type": "code",
   "execution_count": null,
   "id": "9f708713",
   "metadata": {},
   "outputs": [],
   "source": []
  },
  {
   "cell_type": "code",
   "execution_count": null,
   "id": "e59475d1",
   "metadata": {},
   "outputs": [],
   "source": []
  },
  {
   "cell_type": "code",
   "execution_count": null,
   "id": "3dd6c3a3",
   "metadata": {},
   "outputs": [],
   "source": []
  },
  {
   "cell_type": "code",
   "execution_count": null,
   "id": "7e83b426",
   "metadata": {},
   "outputs": [],
   "source": []
  },
  {
   "cell_type": "code",
   "execution_count": null,
   "id": "af6af470",
   "metadata": {},
   "outputs": [],
   "source": []
  },
  {
   "cell_type": "code",
   "execution_count": null,
   "id": "e2b3a039",
   "metadata": {},
   "outputs": [],
   "source": []
  },
  {
   "cell_type": "code",
   "execution_count": null,
   "id": "2da19095",
   "metadata": {},
   "outputs": [],
   "source": []
  }
 ],
 "metadata": {
  "kernelspec": {
   "display_name": "Python 3",
   "language": "python",
   "name": "python3"
  },
  "language_info": {
   "codemirror_mode": {
    "name": "ipython",
    "version": 3
   },
   "file_extension": ".py",
   "mimetype": "text/x-python",
   "name": "python",
   "nbconvert_exporter": "python",
   "pygments_lexer": "ipython3",
   "version": "3.8.12"
  }
 },
 "nbformat": 4,
 "nbformat_minor": 5
}
