{
 "cells": [
  {
   "cell_type": "code",
   "execution_count": 1,
   "id": "4309590e",
   "metadata": {},
   "outputs": [
    {
     "name": "stdout",
     "output_type": "stream",
     "text": [
      "DEVICE:GPU\n"
     ]
    }
   ],
   "source": [
    "from tinygrad.densetensor import DenseTensor\n",
    "from tinygrad.sparsetensor import SparseTensor\n",
    "import numpy as np\n",
    "\n",
    "%load_ext autoreload\n",
    "%autoreload 2"
   ]
  },
  {
   "cell_type": "code",
   "execution_count": 2,
   "id": "4cb532fa",
   "metadata": {},
   "outputs": [],
   "source": [
    "x_init = np.random.randn(2,6).astype(np.float32)\n",
    "x2_init = np.random.randn(3).astype(np.float32)\n",
    "U_init = np.random.randn(3,3).astype(np.float32)\n",
    "V_init = np.random.randn(3,3).astype(np.float32)\n",
    "W_init = np.random.randn(6,3).astype(np.float32)\n",
    "m_init = np.random.randn(1,3).astype(np.float32)"
   ]
  },
  {
   "cell_type": "markdown",
   "id": "b051fb88",
   "metadata": {},
   "source": [
    "x = DenseTensor(x_init)\n",
    "W = DenseTensor(W_init)\n",
    "m = DenseTensor(m_init)\n",
    "out = x.dot(W).relu()\n",
    "out = out.logsoftmax()\n",
    "out = out.mul(m).add(m).sum()\n",
    "out.backward()\n",
    "\n",
    "out.cpu().data, x"
   ]
  },
  {
   "cell_type": "markdown",
   "id": "62d0edbe",
   "metadata": {
    "scrolled": true
   },
   "source": [
    "x2 = DenseTensor(x2_init)#.gpu()\n",
    "W = SparseTensor(W_init)\n",
    "out = W.dot(x2).relu().sum()\n",
    "\n",
    "out.backward()\n",
    "\n",
    "out.cpu().data, x"
   ]
  },
  {
   "cell_type": "code",
   "execution_count": 3,
   "id": "c3d0659d",
   "metadata": {},
   "outputs": [],
   "source": [
    "import numpy as np\n",
    "import pyopencl as cl\n",
    "\n",
    "mf = cl.mem_flags"
   ]
  },
  {
   "cell_type": "code",
   "execution_count": 4,
   "id": "a0cc978b",
   "metadata": {},
   "outputs": [
    {
     "data": {
      "text/plain": [
       "((8, 16), (16, 5))"
      ]
     },
     "execution_count": 4,
     "metadata": {},
     "output_type": "execute_result"
    }
   ],
   "source": [
    "dim1 = 8\n",
    "dim2 = 16\n",
    "dim3 = 5\n",
    "topkx = 5\n",
    "topky = 8\n",
    "topk  = topkx\n",
    "bs = dim3\n",
    "\n",
    "np.random.seed(9)\n",
    "\n",
    "ctx = cl.create_some_context()\n",
    "queue = cl.CommandQueue(ctx,\n",
    "        properties=cl.command_queue_properties.PROFILING_ENABLE)\n",
    "\n",
    "sparsity = 0.4\n",
    "\n",
    "a = np.zeros((dim1,dim2))\n",
    "b = np.zeros((dim2,dim3)).astype(np.float32)\n",
    "\n",
    "a.shape, b.shape"
   ]
  },
  {
   "cell_type": "code",
   "execution_count": 5,
   "id": "306d8954",
   "metadata": {},
   "outputs": [],
   "source": [
    "x_init = np.random.randn(dim1,dim3).astype(np.float32)\n",
    "w_init = np.random.randn(dim2,dim3).astype(np.float32)"
   ]
  },
  {
   "cell_type": "code",
   "execution_count": 6,
   "id": "31516aaa",
   "metadata": {},
   "outputs": [
    {
     "data": {
      "text/plain": [
       "array([[-6.56452596e-01, -5.62572964e-02, -4.99902606e-01,\n",
       "         4.36419368e-01, -3.75813037e-01],\n",
       "       [-9.23061609e-01,  1.91725028e+00, -1.50302842e-01,\n",
       "        -6.38729751e-01,  8.24770331e-01],\n",
       "       [-1.21083879e+00, -5.03405392e-01, -7.01915681e-01,\n",
       "        -1.97427106e+00, -2.65573215e+00],\n",
       "       [-5.76822497e-02, -6.56186581e-01, -6.61706686e-01,\n",
       "         7.69348443e-01, -8.99004877e-01],\n",
       "       [ 1.69363797e+00, -1.69733524e+00, -2.79337025e+00,\n",
       "        -2.26150647e-01,  3.97428840e-01],\n",
       "       [ 1.65970361e+00, -4.93746817e-01, -3.76097679e-01,\n",
       "        -1.69739768e-01,  2.41710639e+00],\n",
       "       [-1.80884051e+00,  3.39751154e-01, -2.27297600e-02,\n",
       "        -9.59997058e-01, -3.83114427e-01],\n",
       "       [ 1.09529994e-01, -8.55162859e-01,  2.21606664e-04,\n",
       "         6.63855076e-01,  7.49480963e-01],\n",
       "       [-4.65818375e-01, -2.77439266e-01,  3.54995355e-02,\n",
       "         8.48221183e-01,  1.62998557e-01],\n",
       "       [ 1.20862365e+00,  5.02520800e-01, -1.58382213e+00,\n",
       "         1.02303350e+00, -6.53017402e-01],\n",
       "       [ 5.37045121e-01, -7.97706190e-03,  9.24784184e-01,\n",
       "         4.66083325e-02,  1.42019868e-01],\n",
       "       [-1.65366137e+00,  1.36799216e+00,  2.51062457e-02,\n",
       "        -3.95482242e-01,  1.28438759e+00],\n",
       "       [ 5.61277032e-01,  2.39725500e-01,  4.79899108e-01,\n",
       "         6.17529526e-02, -1.07051229e+00],\n",
       "       [-1.27321005e+00,  9.20076132e-01,  1.05491853e+00,\n",
       "         5.40288031e-01,  3.09063524e-01],\n",
       "       [ 9.70861197e-01,  1.15472412e+00,  4.22608823e-01,\n",
       "         9.99208927e-01,  8.83520246e-01],\n",
       "       [-5.30199170e-01,  8.14134836e-01, -1.01988423e+00,\n",
       "        -2.25823689e+00,  6.79954886e-01]], dtype=float32)"
      ]
     },
     "execution_count": 6,
     "metadata": {},
     "output_type": "execute_result"
    }
   ],
   "source": [
    "w_init"
   ]
  },
  {
   "cell_type": "code",
   "execution_count": 7,
   "id": "7ecf7a2b",
   "metadata": {},
   "outputs": [],
   "source": [
    "def fill_sparse(mat, sparsity=0.5):\n",
    "    indices = np.array(range(mat.shape[1]))\n",
    "    nrows = int(mat.shape[1]*sparsity)\n",
    "    for row in range(mat.shape[0]):\n",
    "        lim = nrows #+ int(np.random.random()*3)\n",
    "        mat[row][np.random.permutation(indices)[:lim]] = np.random.random(lim)\n",
    "    return mat\n",
    "\n",
    "a = fill_sparse(a, sparsity).astype(np.float32)\n",
    "b = fill_sparse(b, sparsity).astype(np.float32)"
   ]
  },
  {
   "cell_type": "code",
   "execution_count": 8,
   "id": "b32f0e9a",
   "metadata": {},
   "outputs": [
    {
     "data": {
      "text/plain": [
       "array([[0.        , 0.68347037, 0.8035886 , 0.        , 0.        ,\n",
       "        0.        , 0.        , 0.08023349, 0.8858316 , 0.        ,\n",
       "        0.17861794, 0.        , 0.46201044, 0.        , 0.        ,\n",
       "        0.        ],\n",
       "       [0.9562663 , 0.5531271 , 0.        , 0.        , 0.5375557 ,\n",
       "        0.        , 0.        , 0.        , 0.        , 0.        ,\n",
       "        0.        , 0.20370705, 0.35530138, 0.        , 0.        ,\n",
       "        0.9186601 ],\n",
       "       [0.        , 0.20103766, 0.        , 0.        , 0.        ,\n",
       "        0.74341315, 0.        , 0.        , 0.        , 0.5787496 ,\n",
       "        0.        , 0.05387774, 0.        , 0.5917517 , 0.17797045,\n",
       "        0.        ],\n",
       "       [0.        , 0.        , 0.        , 0.14296253, 0.9103574 ,\n",
       "        0.03242496, 0.        , 0.71459514, 0.        , 0.        ,\n",
       "        0.        , 0.        , 0.7448136 , 0.        , 0.        ,\n",
       "        0.66635793],\n",
       "       [0.        , 0.        , 0.        , 0.59893256, 0.        ,\n",
       "        0.        , 0.        , 0.9217044 , 0.        , 0.16333483,\n",
       "        0.        , 0.17167741, 0.        , 0.        , 0.7605819 ,\n",
       "        0.48675168],\n",
       "       [0.11415514, 0.82574075, 0.        , 0.        , 0.        ,\n",
       "        0.27978534, 0.        , 0.25018668, 0.        , 0.        ,\n",
       "        0.83127654, 0.09929471, 0.        , 0.        , 0.        ,\n",
       "        0.        ],\n",
       "       [0.28872353, 0.04889954, 0.        , 0.6493426 , 0.        ,\n",
       "        0.33329687, 0.        , 0.        , 0.        , 0.        ,\n",
       "        0.        , 0.        , 0.84441024, 0.01120785, 0.        ,\n",
       "        0.        ],\n",
       "       [0.67626965, 0.        , 0.        , 0.35563806, 0.        ,\n",
       "        0.        , 0.69630474, 0.        , 0.6753613 , 0.        ,\n",
       "        0.        , 0.12287189, 0.        , 0.        , 0.        ,\n",
       "        0.09184685]], dtype=float32)"
      ]
     },
     "execution_count": 8,
     "metadata": {},
     "output_type": "execute_result"
    }
   ],
   "source": [
    "a"
   ]
  },
  {
   "cell_type": "code",
   "execution_count": 9,
   "id": "d286d740",
   "metadata": {},
   "outputs": [
    {
     "data": {
      "text/plain": [
       "array([[0.49395892, 0.        , 0.46451807, 0.        , 0.        ],\n",
       "       [0.65864426, 0.        , 0.9786625 , 0.        , 0.        ],\n",
       "       [0.31044865, 0.        , 0.02502257, 0.        , 0.        ],\n",
       "       [0.        , 0.46765924, 0.        , 0.        , 0.03160795],\n",
       "       [0.71082693, 0.        , 0.58997136, 0.        , 0.        ],\n",
       "       [0.        , 0.        , 0.84622455, 0.5916316 , 0.        ],\n",
       "       [0.46450275, 0.        , 0.        , 0.        , 0.9429863 ],\n",
       "       [0.        , 0.34248227, 0.7672639 , 0.        , 0.        ],\n",
       "       [0.        , 0.        , 0.9855889 , 0.        , 0.2535647 ],\n",
       "       [0.        , 0.7705159 , 0.31522992, 0.        , 0.        ],\n",
       "       [0.        , 0.7167741 , 0.        , 0.8238369 , 0.        ],\n",
       "       [0.        , 0.91970533, 0.        , 0.7873889 , 0.        ],\n",
       "       [0.        , 0.        , 0.        , 0.404568  , 0.841323  ],\n",
       "       [0.        , 0.        , 0.674503  , 0.48820347, 0.        ],\n",
       "       [0.18725161, 0.11607183, 0.        , 0.        , 0.        ],\n",
       "       [0.7250254 , 0.        , 0.12346577, 0.        , 0.        ]],\n",
       "      dtype=float32)"
      ]
     },
     "execution_count": 9,
     "metadata": {},
     "output_type": "execute_result"
    }
   ],
   "source": [
    "b"
   ]
  },
  {
   "cell_type": "code",
   "execution_count": 10,
   "id": "45c14776",
   "metadata": {},
   "outputs": [
    {
     "data": {
      "text/plain": [
       "array([ 0.58808726, -0.34174612, -0.9533304 ], dtype=float32)"
      ]
     },
     "execution_count": 10,
     "metadata": {},
     "output_type": "execute_result"
    }
   ],
   "source": [
    "x2_init.T"
   ]
  },
  {
   "cell_type": "code",
   "execution_count": 11,
   "id": "6b2b88a2",
   "metadata": {},
   "outputs": [
    {
     "data": {
      "text/plain": [
       "(8, 5)"
      ]
     },
     "execution_count": 11,
     "metadata": {},
     "output_type": "execute_result"
    }
   ],
   "source": [
    "mult = a.dot(b)\n",
    "mult.shape"
   ]
  },
  {
   "cell_type": "code",
   "execution_count": 12,
   "id": "d33049e0",
   "metadata": {},
   "outputs": [
    {
     "data": {
      "text/plain": [
       "(8, 5)"
      ]
     },
     "execution_count": 12,
     "metadata": {},
     "output_type": "execute_result"
    }
   ],
   "source": [
    "mult.shape"
   ]
  },
  {
   "cell_type": "code",
   "execution_count": 13,
   "id": "67872651",
   "metadata": {},
   "outputs": [],
   "source": [
    "def to_data(mat):\n",
    "    all_rows = []\n",
    "    all_idxs = []\n",
    "    all_nnzs = []\n",
    "    for row in range(mat.shape[0]):\n",
    "        rowdata = []\n",
    "        colidxs = []\n",
    "        all_nnzs.append(0)\n",
    "        for col in range(mat.shape[1]):\n",
    "            val = mat[row][col]\n",
    "            if val != 0:\n",
    "                rowdata.append(val)\n",
    "                colidxs.append(col)\n",
    "                all_nnzs[-1] += 1\n",
    "        all_rows.append(rowdata)\n",
    "        all_idxs.append(colidxs)\n",
    "    \n",
    "    ellwidth = min(int(np.sqrt(np.max(all_nnzs))+1)**2, mat.shape[1])\n",
    "    ellwidth = mat.shape[1]\n",
    "    #all_rows = np.array(all_rows)#.astype(np.float32).flatten()           \n",
    "    for row in range(mat.shape[0]):\n",
    "        #print(row, all_rows)\n",
    "        all_rows[row] = np.array(all_rows[row])\n",
    "        all_rows[row].resize(ellwidth)\n",
    "        all_idxs[row] = np.array(all_idxs[row])\n",
    "        all_idxs[row].resize(ellwidth)\n",
    "        #print(all_idxs[row])\n",
    "    all_rows = np.array(all_rows)\n",
    "    all_idxs = np.array(all_idxs)\n",
    "    all_nnzs = np.array(all_nnzs)\n",
    "    \n",
    "#     while (not all_rows[:,-1].any()):\n",
    "#         all_rows = all_rows[:,:-1]\n",
    "#         all_idxs = all_idxs[:,:-1]\n",
    "#         ellwidth -= 1\n",
    "        \n",
    "    \n",
    "    all_rows = np.array(all_rows).astype(np.float32).flatten()\n",
    "    all_idxs = np.array(all_idxs).astype(np.uint32).flatten()\n",
    "    \n",
    "    all_nnzs = np.array(all_nnzs).astype(np.uint32)\n",
    "    \n",
    "    \n",
    "    return all_rows, all_idxs, all_nnzs, ellwidth"
   ]
  },
  {
   "cell_type": "code",
   "execution_count": 14,
   "id": "3cc9dd5d",
   "metadata": {},
   "outputs": [],
   "source": [
    "def to_dense(data, cols, nnzs, ellw, shape):\n",
    "    out = np.zeros(shape)\n",
    "    for row in range(shape[0]):\n",
    "        for icol in range(nnzs[row]):\n",
    "            out[row,cols[row*ellw+icol]] = data[row*ellw+icol]\n",
    "    return out"
   ]
  },
  {
   "cell_type": "code",
   "execution_count": 15,
   "id": "cdaa466d",
   "metadata": {},
   "outputs": [
    {
     "data": {
      "text/plain": [
       "(array([-6.56452596e-01, -5.62572964e-02, -4.99902606e-01,  4.36419368e-01,\n",
       "        -3.75813037e-01, -9.23061609e-01,  1.91725028e+00, -1.50302842e-01,\n",
       "        -6.38729751e-01,  8.24770331e-01, -1.21083879e+00, -5.03405392e-01,\n",
       "        -7.01915681e-01, -1.97427106e+00, -2.65573215e+00, -5.76822497e-02,\n",
       "        -6.56186581e-01, -6.61706686e-01,  7.69348443e-01, -8.99004877e-01,\n",
       "         1.69363797e+00, -1.69733524e+00, -2.79337025e+00, -2.26150647e-01,\n",
       "         3.97428840e-01,  1.65970361e+00, -4.93746817e-01, -3.76097679e-01,\n",
       "        -1.69739768e-01,  2.41710639e+00, -1.80884051e+00,  3.39751154e-01,\n",
       "        -2.27297600e-02, -9.59997058e-01, -3.83114427e-01,  1.09529994e-01,\n",
       "        -8.55162859e-01,  2.21606664e-04,  6.63855076e-01,  7.49480963e-01,\n",
       "        -4.65818375e-01, -2.77439266e-01,  3.54995355e-02,  8.48221183e-01,\n",
       "         1.62998557e-01,  1.20862365e+00,  5.02520800e-01, -1.58382213e+00,\n",
       "         1.02303350e+00, -6.53017402e-01,  5.37045121e-01, -7.97706190e-03,\n",
       "         9.24784184e-01,  4.66083325e-02,  1.42019868e-01, -1.65366137e+00,\n",
       "         1.36799216e+00,  2.51062457e-02, -3.95482242e-01,  1.28438759e+00,\n",
       "         5.61277032e-01,  2.39725500e-01,  4.79899108e-01,  6.17529526e-02,\n",
       "        -1.07051229e+00, -1.27321005e+00,  9.20076132e-01,  1.05491853e+00,\n",
       "         5.40288031e-01,  3.09063524e-01,  9.70861197e-01,  1.15472412e+00,\n",
       "         4.22608823e-01,  9.99208927e-01,  8.83520246e-01, -5.30199170e-01,\n",
       "         8.14134836e-01, -1.01988423e+00, -2.25823689e+00,  6.79954886e-01],\n",
       "       dtype=float32),\n",
       " array([0, 1, 2, 3, 4, 0, 1, 2, 3, 4, 0, 1, 2, 3, 4, 0, 1, 2, 3, 4, 0, 1,\n",
       "        2, 3, 4, 0, 1, 2, 3, 4, 0, 1, 2, 3, 4, 0, 1, 2, 3, 4, 0, 1, 2, 3,\n",
       "        4, 0, 1, 2, 3, 4, 0, 1, 2, 3, 4, 0, 1, 2, 3, 4, 0, 1, 2, 3, 4, 0,\n",
       "        1, 2, 3, 4, 0, 1, 2, 3, 4, 0, 1, 2, 3, 4], dtype=uint32),\n",
       " array([5, 5, 5, 5, 5, 5, 5, 5, 5, 5, 5, 5, 5, 5, 5, 5], dtype=uint32),\n",
       " 5)"
      ]
     },
     "execution_count": 15,
     "metadata": {},
     "output_type": "execute_result"
    }
   ],
   "source": [
    "wdata, wcols, wnnz, ellww = to_data(w_init)\n",
    "wdata, wcols, wnnz, ellww"
   ]
  },
  {
   "cell_type": "code",
   "execution_count": 16,
   "id": "cb96ed78",
   "metadata": {},
   "outputs": [
    {
     "data": {
      "text/plain": [
       "(array([-6.56452596e-01, -9.23061609e-01, -1.21083879e+00, -5.76822497e-02,\n",
       "         1.69363797e+00,  1.65970361e+00, -1.80884051e+00,  1.09529994e-01,\n",
       "        -4.65818375e-01,  1.20862365e+00,  5.37045121e-01, -1.65366137e+00,\n",
       "         5.61277032e-01, -1.27321005e+00,  9.70861197e-01, -5.30199170e-01,\n",
       "        -5.62572964e-02,  1.91725028e+00, -5.03405392e-01, -6.56186581e-01,\n",
       "        -1.69733524e+00, -4.93746817e-01,  3.39751154e-01, -8.55162859e-01,\n",
       "        -2.77439266e-01,  5.02520800e-01, -7.97706190e-03,  1.36799216e+00,\n",
       "         2.39725500e-01,  9.20076132e-01,  1.15472412e+00,  8.14134836e-01,\n",
       "        -4.99902606e-01, -1.50302842e-01, -7.01915681e-01, -6.61706686e-01,\n",
       "        -2.79337025e+00, -3.76097679e-01, -2.27297600e-02,  2.21606664e-04,\n",
       "         3.54995355e-02, -1.58382213e+00,  9.24784184e-01,  2.51062457e-02,\n",
       "         4.79899108e-01,  1.05491853e+00,  4.22608823e-01, -1.01988423e+00,\n",
       "         4.36419368e-01, -6.38729751e-01, -1.97427106e+00,  7.69348443e-01,\n",
       "        -2.26150647e-01, -1.69739768e-01, -9.59997058e-01,  6.63855076e-01,\n",
       "         8.48221183e-01,  1.02303350e+00,  4.66083325e-02, -3.95482242e-01,\n",
       "         6.17529526e-02,  5.40288031e-01,  9.99208927e-01, -2.25823689e+00,\n",
       "        -3.75813037e-01,  8.24770331e-01, -2.65573215e+00, -8.99004877e-01,\n",
       "         3.97428840e-01,  2.41710639e+00, -3.83114427e-01,  7.49480963e-01,\n",
       "         1.62998557e-01, -6.53017402e-01,  1.42019868e-01,  1.28438759e+00,\n",
       "        -1.07051229e+00,  3.09063524e-01,  8.83520246e-01,  6.79954886e-01],\n",
       "       dtype=float32),\n",
       " array([ 0,  1,  2,  3,  4,  5,  6,  7,  8,  9, 10, 11, 12, 13, 14, 15,  0,\n",
       "         1,  2,  3,  4,  5,  6,  7,  8,  9, 10, 11, 12, 13, 14, 15,  0,  1,\n",
       "         2,  3,  4,  5,  6,  7,  8,  9, 10, 11, 12, 13, 14, 15,  0,  1,  2,\n",
       "         3,  4,  5,  6,  7,  8,  9, 10, 11, 12, 13, 14, 15,  0,  1,  2,  3,\n",
       "         4,  5,  6,  7,  8,  9, 10, 11, 12, 13, 14, 15], dtype=uint32),\n",
       " array([16, 16, 16, 16, 16], dtype=uint32),\n",
       " 16)"
      ]
     },
     "execution_count": 16,
     "metadata": {},
     "output_type": "execute_result"
    }
   ],
   "source": [
    "wdatat, wcolst, wnnzt, ellwwt = to_data(w_init.T)\n",
    "wdatat, wcolst, wnnzt, ellwwt"
   ]
  },
  {
   "cell_type": "code",
   "execution_count": 17,
   "id": "5c9c6134",
   "metadata": {},
   "outputs": [
    {
     "data": {
      "text/plain": [
       "(array([0.68347037, 0.8035886 , 0.08023349, 0.8858316 , 0.17861794,\n",
       "        0.46201044, 0.        , 0.        , 0.        , 0.        ,\n",
       "        0.        , 0.        , 0.        , 0.        , 0.        ,\n",
       "        0.        , 0.9562663 , 0.5531271 , 0.5375557 , 0.20370705,\n",
       "        0.35530138, 0.9186601 , 0.        , 0.        , 0.        ,\n",
       "        0.        , 0.        , 0.        , 0.        , 0.        ,\n",
       "        0.        , 0.        , 0.20103766, 0.74341315, 0.5787496 ,\n",
       "        0.05387774, 0.5917517 , 0.17797045, 0.        , 0.        ,\n",
       "        0.        , 0.        , 0.        , 0.        , 0.        ,\n",
       "        0.        , 0.        , 0.        , 0.14296253, 0.9103574 ,\n",
       "        0.03242496, 0.71459514, 0.7448136 , 0.66635793, 0.        ,\n",
       "        0.        , 0.        , 0.        , 0.        , 0.        ,\n",
       "        0.        , 0.        , 0.        , 0.        , 0.59893256,\n",
       "        0.9217044 , 0.16333483, 0.17167741, 0.7605819 , 0.48675168,\n",
       "        0.        , 0.        , 0.        , 0.        , 0.        ,\n",
       "        0.        , 0.        , 0.        , 0.        , 0.        ,\n",
       "        0.11415514, 0.82574075, 0.27978534, 0.25018668, 0.83127654,\n",
       "        0.09929471, 0.        , 0.        , 0.        , 0.        ,\n",
       "        0.        , 0.        , 0.        , 0.        , 0.        ,\n",
       "        0.        , 0.28872353, 0.04889954, 0.6493426 , 0.33329687,\n",
       "        0.84441024, 0.01120785, 0.        , 0.        , 0.        ,\n",
       "        0.        , 0.        , 0.        , 0.        , 0.        ,\n",
       "        0.        , 0.        , 0.67626965, 0.35563806, 0.69630474,\n",
       "        0.6753613 , 0.12287189, 0.09184685, 0.        , 0.        ,\n",
       "        0.        , 0.        , 0.        , 0.        , 0.        ,\n",
       "        0.        , 0.        , 0.        ], dtype=float32),\n",
       " array([ 1,  2,  7,  8, 10, 12,  0,  0,  0,  0,  0,  0,  0,  0,  0,  0,  0,\n",
       "         1,  4, 11, 12, 15,  0,  0,  0,  0,  0,  0,  0,  0,  0,  0,  1,  5,\n",
       "         9, 11, 13, 14,  0,  0,  0,  0,  0,  0,  0,  0,  0,  0,  3,  4,  5,\n",
       "         7, 12, 15,  0,  0,  0,  0,  0,  0,  0,  0,  0,  0,  3,  7,  9, 11,\n",
       "        14, 15,  0,  0,  0,  0,  0,  0,  0,  0,  0,  0,  0,  1,  5,  7, 10,\n",
       "        11,  0,  0,  0,  0,  0,  0,  0,  0,  0,  0,  0,  1,  3,  5, 12, 13,\n",
       "         0,  0,  0,  0,  0,  0,  0,  0,  0,  0,  0,  3,  6,  8, 11, 15,  0,\n",
       "         0,  0,  0,  0,  0,  0,  0,  0,  0], dtype=uint32),\n",
       " array([6, 6, 6, 6, 6, 6, 6, 6], dtype=uint32),\n",
       " 16)"
      ]
     },
     "execution_count": 17,
     "metadata": {},
     "output_type": "execute_result"
    }
   ],
   "source": [
    "adata, acols, annz, ellwa = to_data(a)\n",
    "adata, acols, annz, ellwa"
   ]
  },
  {
   "cell_type": "code",
   "execution_count": 18,
   "id": "333f732b",
   "metadata": {},
   "outputs": [
    {
     "data": {
      "text/plain": [
       "(array([0.9562663 , 0.11415514, 0.28872353, 0.67626965, 0.        ,\n",
       "        0.        , 0.        , 0.        , 0.68347037, 0.5531271 ,\n",
       "        0.20103766, 0.82574075, 0.04889954, 0.        , 0.        ,\n",
       "        0.        , 0.8035886 , 0.        , 0.        , 0.        ,\n",
       "        0.        , 0.        , 0.        , 0.        , 0.14296253,\n",
       "        0.59893256, 0.6493426 , 0.35563806, 0.        , 0.        ,\n",
       "        0.        , 0.        , 0.5375557 , 0.9103574 , 0.        ,\n",
       "        0.        , 0.        , 0.        , 0.        , 0.        ,\n",
       "        0.74341315, 0.03242496, 0.27978534, 0.33329687, 0.        ,\n",
       "        0.        , 0.        , 0.        , 0.69630474, 0.        ,\n",
       "        0.        , 0.        , 0.        , 0.        , 0.        ,\n",
       "        0.        , 0.08023349, 0.71459514, 0.9217044 , 0.25018668,\n",
       "        0.        , 0.        , 0.        , 0.        , 0.8858316 ,\n",
       "        0.6753613 , 0.        , 0.        , 0.        , 0.        ,\n",
       "        0.        , 0.        , 0.5787496 , 0.16333483, 0.        ,\n",
       "        0.        , 0.        , 0.        , 0.        , 0.        ,\n",
       "        0.17861794, 0.83127654, 0.        , 0.        , 0.        ,\n",
       "        0.        , 0.        , 0.        , 0.20370705, 0.05387774,\n",
       "        0.17167741, 0.09929471, 0.12287189, 0.        , 0.        ,\n",
       "        0.        , 0.46201044, 0.35530138, 0.7448136 , 0.84441024,\n",
       "        0.        , 0.        , 0.        , 0.        , 0.5917517 ,\n",
       "        0.01120785, 0.        , 0.        , 0.        , 0.        ,\n",
       "        0.        , 0.        , 0.17797045, 0.7605819 , 0.        ,\n",
       "        0.        , 0.        , 0.        , 0.        , 0.        ,\n",
       "        0.9186601 , 0.66635793, 0.48675168, 0.09184685, 0.        ,\n",
       "        0.        , 0.        , 0.        ], dtype=float32),\n",
       " array([1, 5, 6, 7, 0, 0, 0, 0, 0, 1, 2, 5, 6, 0, 0, 0, 0, 0, 0, 0, 0, 0,\n",
       "        0, 0, 3, 4, 6, 7, 0, 0, 0, 0, 1, 3, 0, 0, 0, 0, 0, 0, 2, 3, 5, 6,\n",
       "        0, 0, 0, 0, 7, 0, 0, 0, 0, 0, 0, 0, 0, 3, 4, 5, 0, 0, 0, 0, 0, 7,\n",
       "        0, 0, 0, 0, 0, 0, 2, 4, 0, 0, 0, 0, 0, 0, 0, 5, 0, 0, 0, 0, 0, 0,\n",
       "        1, 2, 4, 5, 7, 0, 0, 0, 0, 1, 3, 6, 0, 0, 0, 0, 2, 6, 0, 0, 0, 0,\n",
       "        0, 0, 2, 4, 0, 0, 0, 0, 0, 0, 1, 3, 4, 7, 0, 0, 0, 0], dtype=uint32),\n",
       " array([4, 5, 1, 4, 2, 4, 1, 4, 2, 2, 2, 5, 4, 2, 2, 4], dtype=uint32),\n",
       " 8)"
      ]
     },
     "execution_count": 18,
     "metadata": {},
     "output_type": "execute_result"
    }
   ],
   "source": [
    "adatat, acolst, annzt, ellwat = to_data(a.T)\n",
    "adatat, acolst, annzt, ellwat"
   ]
  },
  {
   "cell_type": "code",
   "execution_count": 19,
   "id": "3746b3f8",
   "metadata": {},
   "outputs": [
    {
     "data": {
      "text/plain": [
       "(array([0.49395892, 0.46451807, 0.        , 0.        , 0.        ,\n",
       "        0.65864426, 0.9786625 , 0.        , 0.        , 0.        ,\n",
       "        0.31044865, 0.02502257, 0.        , 0.        , 0.        ,\n",
       "        0.46765924, 0.03160795, 0.        , 0.        , 0.        ,\n",
       "        0.71082693, 0.58997136, 0.        , 0.        , 0.        ,\n",
       "        0.84622455, 0.5916316 , 0.        , 0.        , 0.        ,\n",
       "        0.46450275, 0.9429863 , 0.        , 0.        , 0.        ,\n",
       "        0.34248227, 0.7672639 , 0.        , 0.        , 0.        ,\n",
       "        0.9855889 , 0.2535647 , 0.        , 0.        , 0.        ,\n",
       "        0.7705159 , 0.31522992, 0.        , 0.        , 0.        ,\n",
       "        0.7167741 , 0.8238369 , 0.        , 0.        , 0.        ,\n",
       "        0.91970533, 0.7873889 , 0.        , 0.        , 0.        ,\n",
       "        0.404568  , 0.841323  , 0.        , 0.        , 0.        ,\n",
       "        0.674503  , 0.48820347, 0.        , 0.        , 0.        ,\n",
       "        0.18725161, 0.11607183, 0.        , 0.        , 0.        ,\n",
       "        0.7250254 , 0.12346577, 0.        , 0.        , 0.        ],\n",
       "       dtype=float32),\n",
       " array([0, 2, 0, 0, 0, 0, 2, 0, 0, 0, 0, 2, 0, 0, 0, 1, 4, 0, 0, 0, 0, 2,\n",
       "        0, 0, 0, 2, 3, 0, 0, 0, 0, 4, 0, 0, 0, 1, 2, 0, 0, 0, 2, 4, 0, 0,\n",
       "        0, 1, 2, 0, 0, 0, 1, 3, 0, 0, 0, 1, 3, 0, 0, 0, 3, 4, 0, 0, 0, 2,\n",
       "        3, 0, 0, 0, 0, 1, 0, 0, 0, 0, 2, 0, 0, 0], dtype=uint32),\n",
       " array([2, 2, 2, 2, 2, 2, 2, 2, 2, 2, 2, 2, 2, 2, 2, 2], dtype=uint32),\n",
       " 5)"
      ]
     },
     "execution_count": 19,
     "metadata": {},
     "output_type": "execute_result"
    }
   ],
   "source": [
    "bdata, bcols, bnnz, ellwb = to_data(b)\n",
    "bdata, bcols, bnnz, ellwb"
   ]
  },
  {
   "cell_type": "code",
   "execution_count": 20,
   "id": "2456f0d7",
   "metadata": {},
   "outputs": [
    {
     "data": {
      "text/plain": [
       "(array([0.9562663 , 0.11415514, 0.28872353, 0.67626965, 0.        ,\n",
       "        0.        , 0.        , 0.        , 0.68347037, 0.5531271 ,\n",
       "        0.20103766, 0.82574075, 0.04889954, 0.        , 0.        ,\n",
       "        0.        , 0.8035886 , 0.        , 0.        , 0.        ,\n",
       "        0.        , 0.        , 0.        , 0.        , 0.14296253,\n",
       "        0.59893256, 0.6493426 , 0.35563806, 0.        , 0.        ,\n",
       "        0.        , 0.        , 0.5375557 , 0.9103574 , 0.        ,\n",
       "        0.        , 0.        , 0.        , 0.        , 0.        ,\n",
       "        0.74341315, 0.03242496, 0.27978534, 0.33329687, 0.        ,\n",
       "        0.        , 0.        , 0.        , 0.69630474, 0.        ,\n",
       "        0.        , 0.        , 0.        , 0.        , 0.        ,\n",
       "        0.        , 0.08023349, 0.71459514, 0.9217044 , 0.25018668,\n",
       "        0.        , 0.        , 0.        , 0.        , 0.8858316 ,\n",
       "        0.6753613 , 0.        , 0.        , 0.        , 0.        ,\n",
       "        0.        , 0.        , 0.5787496 , 0.16333483, 0.        ,\n",
       "        0.        , 0.        , 0.        , 0.        , 0.        ,\n",
       "        0.17861794, 0.83127654, 0.        , 0.        , 0.        ,\n",
       "        0.        , 0.        , 0.        , 0.20370705, 0.05387774,\n",
       "        0.17167741, 0.09929471, 0.12287189, 0.        , 0.        ,\n",
       "        0.        , 0.46201044, 0.35530138, 0.7448136 , 0.84441024,\n",
       "        0.        , 0.        , 0.        , 0.        , 0.5917517 ,\n",
       "        0.01120785, 0.        , 0.        , 0.        , 0.        ,\n",
       "        0.        , 0.        , 0.17797045, 0.7605819 , 0.        ,\n",
       "        0.        , 0.        , 0.        , 0.        , 0.        ,\n",
       "        0.9186601 , 0.66635793, 0.48675168, 0.09184685, 0.        ,\n",
       "        0.        , 0.        , 0.        ], dtype=float32),\n",
       " array([ 0,  1,  2,  4,  6, 14, 15,  0,  0,  0,  0,  0,  0,  0,  0,  0,  3,\n",
       "         7,  9, 10, 11, 14,  0,  0,  0,  0,  0,  0,  0,  0,  0,  0,  0,  1,\n",
       "         2,  4,  5,  7,  8,  9, 13, 15,  0,  0,  0,  0,  0,  0,  5, 10, 11,\n",
       "        12, 13,  0,  0,  0,  0,  0,  0,  0,  0,  0,  0,  0,  3,  6,  8, 12,\n",
       "         0,  0,  0,  0,  0,  0,  0,  0,  0,  0,  0,  0], dtype=uint32),\n",
       " array([ 7,  6, 10,  5,  4], dtype=uint32),\n",
       " 16)"
      ]
     },
     "execution_count": 20,
     "metadata": {},
     "output_type": "execute_result"
    }
   ],
   "source": [
    "bdatat, bcolst, bnnzt, ellwbt = to_data(b.T)\n",
    "adatat, bcolst, bnnzt, ellwbt"
   ]
  },
  {
   "cell_type": "code",
   "execution_count": 21,
   "id": "a21f8921",
   "metadata": {},
   "outputs": [],
   "source": [
    "adense = to_dense(adata, acols, annz, ellwa, a.shape)"
   ]
  },
  {
   "cell_type": "code",
   "execution_count": 22,
   "id": "afddd45e",
   "metadata": {},
   "outputs": [],
   "source": [
    "adenset = to_dense(adatat, acolst, annzt, ellwat, a.T.shape)"
   ]
  },
  {
   "cell_type": "code",
   "execution_count": 23,
   "id": "265ef0d4",
   "metadata": {},
   "outputs": [],
   "source": [
    "bdense = to_dense(bdata, bcols, bnnz, ellwb, b.shape)"
   ]
  },
  {
   "cell_type": "code",
   "execution_count": 24,
   "id": "409da6b5",
   "metadata": {},
   "outputs": [],
   "source": [
    "bdenset = to_dense(bdatat, bcolst, bnnzt, ellwbt, b.T.shape)"
   ]
  },
  {
   "cell_type": "code",
   "execution_count": 25,
   "id": "1c04d184",
   "metadata": {},
   "outputs": [
    {
     "data": {
      "text/plain": [
       "array([[0.        , 0.68347037, 0.80358863, 0.        , 0.        ,\n",
       "        0.        , 0.        , 0.08023349, 0.88583159, 0.        ,\n",
       "        0.17861794, 0.        , 0.46201044, 0.        , 0.        ,\n",
       "        0.        ],\n",
       "       [0.95626628, 0.55312711, 0.        , 0.        , 0.53755569,\n",
       "        0.        , 0.        , 0.        , 0.        , 0.        ,\n",
       "        0.        , 0.20370705, 0.35530138, 0.        , 0.        ,\n",
       "        0.9186601 ],\n",
       "       [0.        , 0.20103766, 0.        , 0.        , 0.        ,\n",
       "        0.74341315, 0.        , 0.        , 0.        , 0.5787496 ,\n",
       "        0.        , 0.05387774, 0.        , 0.59175169, 0.17797045,\n",
       "        0.        ],\n",
       "       [0.        , 0.        , 0.        , 0.14296253, 0.91035742,\n",
       "        0.03242496, 0.        , 0.71459514, 0.        , 0.        ,\n",
       "        0.        , 0.        , 0.74481362, 0.        , 0.        ,\n",
       "        0.66635793],\n",
       "       [0.        , 0.        , 0.        , 0.59893256, 0.        ,\n",
       "        0.        , 0.        , 0.92170441, 0.        , 0.16333483,\n",
       "        0.        , 0.17167741, 0.        , 0.        , 0.76058191,\n",
       "        0.48675168],\n",
       "       [0.11415514, 0.82574075, 0.        , 0.        , 0.        ,\n",
       "        0.27978534, 0.        , 0.25018668, 0.        , 0.        ,\n",
       "        0.83127654, 0.09929471, 0.        , 0.        , 0.        ,\n",
       "        0.        ],\n",
       "       [0.28872353, 0.04889954, 0.        , 0.6493426 , 0.        ,\n",
       "        0.33329687, 0.        , 0.        , 0.        , 0.        ,\n",
       "        0.        , 0.        , 0.84441024, 0.01120785, 0.        ,\n",
       "        0.        ],\n",
       "       [0.67626965, 0.        , 0.        , 0.35563806, 0.        ,\n",
       "        0.        , 0.69630474, 0.        , 0.67536128, 0.        ,\n",
       "        0.        , 0.12287189, 0.        , 0.        , 0.        ,\n",
       "        0.09184685]])"
      ]
     },
     "execution_count": 25,
     "metadata": {},
     "output_type": "execute_result"
    }
   ],
   "source": [
    "adense"
   ]
  },
  {
   "cell_type": "code",
   "execution_count": 26,
   "id": "cae2f665",
   "metadata": {},
   "outputs": [
    {
     "data": {
      "text/plain": [
       "array([[ True,  True,  True,  True,  True,  True,  True,  True,  True,\n",
       "         True,  True,  True,  True,  True,  True,  True],\n",
       "       [ True,  True,  True,  True,  True,  True,  True,  True,  True,\n",
       "         True,  True,  True,  True,  True,  True,  True],\n",
       "       [ True,  True,  True,  True,  True,  True,  True,  True,  True,\n",
       "         True,  True,  True,  True,  True,  True,  True],\n",
       "       [ True,  True,  True,  True,  True,  True,  True,  True,  True,\n",
       "         True,  True,  True,  True,  True,  True,  True],\n",
       "       [ True,  True,  True,  True,  True,  True,  True,  True,  True,\n",
       "         True,  True,  True,  True,  True,  True,  True],\n",
       "       [ True,  True,  True,  True,  True,  True,  True,  True,  True,\n",
       "         True,  True,  True,  True,  True,  True,  True],\n",
       "       [ True,  True,  True,  True,  True,  True,  True,  True,  True,\n",
       "         True,  True,  True,  True,  True,  True,  True],\n",
       "       [ True,  True,  True,  True,  True,  True,  True,  True,  True,\n",
       "         True,  True,  True,  True,  True,  True,  True]])"
      ]
     },
     "execution_count": 26,
     "metadata": {},
     "output_type": "execute_result"
    }
   ],
   "source": [
    "adenset.T == adense"
   ]
  },
  {
   "cell_type": "code",
   "execution_count": 27,
   "id": "9f2ada6f",
   "metadata": {},
   "outputs": [
    {
     "data": {
      "text/plain": [
       "array([[ True,  True,  True,  True,  True],\n",
       "       [ True,  True,  True,  True,  True],\n",
       "       [ True,  True,  True,  True,  True],\n",
       "       [ True,  True,  True,  True,  True],\n",
       "       [ True,  True,  True,  True,  True],\n",
       "       [ True,  True,  True,  True,  True],\n",
       "       [ True,  True,  True,  True,  True],\n",
       "       [ True,  True,  True,  True,  True],\n",
       "       [ True,  True,  True,  True,  True],\n",
       "       [ True,  True,  True,  True,  True],\n",
       "       [ True,  True,  True,  True,  True],\n",
       "       [ True,  True,  True,  True,  True],\n",
       "       [ True,  True,  True,  True,  True],\n",
       "       [ True,  True,  True,  True,  True],\n",
       "       [ True,  True,  True,  True,  True],\n",
       "       [ True,  True,  True,  True,  True]])"
      ]
     },
     "execution_count": 27,
     "metadata": {},
     "output_type": "execute_result"
    }
   ],
   "source": [
    "bdenset.T == bdense"
   ]
  },
  {
   "cell_type": "code",
   "execution_count": 28,
   "id": "570652a8",
   "metadata": {},
   "outputs": [
    {
     "data": {
      "text/plain": [
       "array([[0.        , 0.68347037, 0.8035886 , 0.        , 0.        ,\n",
       "        0.        , 0.        , 0.08023349, 0.8858316 , 0.        ,\n",
       "        0.17861794, 0.        , 0.46201044, 0.        , 0.        ,\n",
       "        0.        ],\n",
       "       [0.9562663 , 0.5531271 , 0.        , 0.        , 0.5375557 ,\n",
       "        0.        , 0.        , 0.        , 0.        , 0.        ,\n",
       "        0.        , 0.20370705, 0.35530138, 0.        , 0.        ,\n",
       "        0.9186601 ],\n",
       "       [0.        , 0.20103766, 0.        , 0.        , 0.        ,\n",
       "        0.74341315, 0.        , 0.        , 0.        , 0.5787496 ,\n",
       "        0.        , 0.05387774, 0.        , 0.5917517 , 0.17797045,\n",
       "        0.        ],\n",
       "       [0.        , 0.        , 0.        , 0.14296253, 0.9103574 ,\n",
       "        0.03242496, 0.        , 0.71459514, 0.        , 0.        ,\n",
       "        0.        , 0.        , 0.7448136 , 0.        , 0.        ,\n",
       "        0.66635793],\n",
       "       [0.        , 0.        , 0.        , 0.59893256, 0.        ,\n",
       "        0.        , 0.        , 0.9217044 , 0.        , 0.16333483,\n",
       "        0.        , 0.17167741, 0.        , 0.        , 0.7605819 ,\n",
       "        0.48675168],\n",
       "       [0.11415514, 0.82574075, 0.        , 0.        , 0.        ,\n",
       "        0.27978534, 0.        , 0.25018668, 0.        , 0.        ,\n",
       "        0.83127654, 0.09929471, 0.        , 0.        , 0.        ,\n",
       "        0.        ],\n",
       "       [0.28872353, 0.04889954, 0.        , 0.6493426 , 0.        ,\n",
       "        0.33329687, 0.        , 0.        , 0.        , 0.        ,\n",
       "        0.        , 0.        , 0.84441024, 0.01120785, 0.        ,\n",
       "        0.        ],\n",
       "       [0.67626965, 0.        , 0.        , 0.35563806, 0.        ,\n",
       "        0.        , 0.69630474, 0.        , 0.6753613 , 0.        ,\n",
       "        0.        , 0.12287189, 0.        , 0.        , 0.        ,\n",
       "        0.09184685]], dtype=float32)"
      ]
     },
     "execution_count": 28,
     "metadata": {},
     "output_type": "execute_result"
    }
   ],
   "source": [
    "a"
   ]
  },
  {
   "cell_type": "code",
   "execution_count": 29,
   "id": "b3828f92",
   "metadata": {},
   "outputs": [
    {
     "data": {
      "text/plain": [
       "array([[ True,  True,  True,  True,  True,  True,  True,  True,  True,\n",
       "         True,  True,  True,  True,  True,  True,  True],\n",
       "       [ True,  True,  True,  True,  True,  True,  True,  True,  True,\n",
       "         True,  True,  True,  True,  True,  True,  True],\n",
       "       [ True,  True,  True,  True,  True,  True,  True,  True,  True,\n",
       "         True,  True,  True,  True,  True,  True,  True],\n",
       "       [ True,  True,  True,  True,  True,  True,  True,  True,  True,\n",
       "         True,  True,  True,  True,  True,  True,  True],\n",
       "       [ True,  True,  True,  True,  True,  True,  True,  True,  True,\n",
       "         True,  True,  True,  True,  True,  True,  True],\n",
       "       [ True,  True,  True,  True,  True,  True,  True,  True,  True,\n",
       "         True,  True,  True,  True,  True,  True,  True],\n",
       "       [ True,  True,  True,  True,  True,  True,  True,  True,  True,\n",
       "         True,  True,  True,  True,  True,  True,  True],\n",
       "       [ True,  True,  True,  True,  True,  True,  True,  True,  True,\n",
       "         True,  True,  True,  True,  True,  True,  True]])"
      ]
     },
     "execution_count": 29,
     "metadata": {},
     "output_type": "execute_result"
    }
   ],
   "source": [
    "a == adense"
   ]
  },
  {
   "cell_type": "code",
   "execution_count": 30,
   "id": "d8e29e3c",
   "metadata": {},
   "outputs": [
    {
     "data": {
      "text/plain": [
       "(8, 16)"
      ]
     },
     "execution_count": 30,
     "metadata": {},
     "output_type": "execute_result"
    }
   ],
   "source": [
    "a.shape"
   ]
  },
  {
   "cell_type": "code",
   "execution_count": 31,
   "id": "233fb7fe",
   "metadata": {},
   "outputs": [
    {
     "data": {
      "text/plain": [
       "((128,), (128,), (8,), 16)"
      ]
     },
     "execution_count": 31,
     "metadata": {},
     "output_type": "execute_result"
    }
   ],
   "source": [
    "adata.shape, acols.shape, annz.shape, ellwa"
   ]
  },
  {
   "cell_type": "code",
   "execution_count": 32,
   "id": "fbb29574",
   "metadata": {},
   "outputs": [],
   "source": [
    "#acols = acols.astype(np.uint32)\n",
    "#annz = annz.astype(np.uint32)"
   ]
  },
  {
   "cell_type": "code",
   "execution_count": 33,
   "id": "008c1a26",
   "metadata": {},
   "outputs": [
    {
     "data": {
      "text/plain": [
       "(array([0.68347037, 0.8035886 , 0.08023349, 0.8858316 , 0.17861794,\n",
       "        0.46201044, 0.        , 0.        , 0.        , 0.        ,\n",
       "        0.        , 0.        , 0.        , 0.        , 0.        ,\n",
       "        0.        , 0.9562663 , 0.5531271 , 0.5375557 , 0.20370705,\n",
       "        0.35530138, 0.9186601 , 0.        , 0.        , 0.        ,\n",
       "        0.        , 0.        , 0.        , 0.        , 0.        ,\n",
       "        0.        , 0.        , 0.20103766, 0.74341315, 0.5787496 ,\n",
       "        0.05387774, 0.5917517 , 0.17797045, 0.        , 0.        ,\n",
       "        0.        , 0.        , 0.        , 0.        , 0.        ,\n",
       "        0.        , 0.        , 0.        , 0.14296253, 0.9103574 ,\n",
       "        0.03242496, 0.71459514, 0.7448136 , 0.66635793, 0.        ,\n",
       "        0.        , 0.        , 0.        , 0.        , 0.        ,\n",
       "        0.        , 0.        , 0.        , 0.        , 0.59893256,\n",
       "        0.9217044 , 0.16333483, 0.17167741, 0.7605819 , 0.48675168,\n",
       "        0.        , 0.        , 0.        , 0.        , 0.        ,\n",
       "        0.        , 0.        , 0.        , 0.        , 0.        ,\n",
       "        0.11415514, 0.82574075, 0.27978534, 0.25018668, 0.83127654,\n",
       "        0.09929471, 0.        , 0.        , 0.        , 0.        ,\n",
       "        0.        , 0.        , 0.        , 0.        , 0.        ,\n",
       "        0.        , 0.28872353, 0.04889954, 0.6493426 , 0.33329687,\n",
       "        0.84441024, 0.01120785, 0.        , 0.        , 0.        ,\n",
       "        0.        , 0.        , 0.        , 0.        , 0.        ,\n",
       "        0.        , 0.        , 0.67626965, 0.35563806, 0.69630474,\n",
       "        0.6753613 , 0.12287189, 0.09184685, 0.        , 0.        ,\n",
       "        0.        , 0.        , 0.        , 0.        , 0.        ,\n",
       "        0.        , 0.        , 0.        ], dtype=float32),\n",
       " array([ 1,  2,  7,  8, 10, 12,  0,  0,  0,  0,  0,  0,  0,  0,  0,  0,  0,\n",
       "         1,  4, 11, 12, 15,  0,  0,  0,  0,  0,  0,  0,  0,  0,  0,  1,  5,\n",
       "         9, 11, 13, 14,  0,  0,  0,  0,  0,  0,  0,  0,  0,  0,  3,  4,  5,\n",
       "         7, 12, 15,  0,  0,  0,  0,  0,  0,  0,  0,  0,  0,  3,  7,  9, 11,\n",
       "        14, 15,  0,  0,  0,  0,  0,  0,  0,  0,  0,  0,  0,  1,  5,  7, 10,\n",
       "        11,  0,  0,  0,  0,  0,  0,  0,  0,  0,  0,  0,  1,  3,  5, 12, 13,\n",
       "         0,  0,  0,  0,  0,  0,  0,  0,  0,  0,  0,  3,  6,  8, 11, 15,  0,\n",
       "         0,  0,  0,  0,  0,  0,  0,  0,  0], dtype=uint32),\n",
       " array([6, 6, 6, 6, 6, 6, 6, 6], dtype=uint32),\n",
       " array([[0.49395892, 0.        , 0.46451807, 0.        , 0.        ],\n",
       "        [0.65864426, 0.        , 0.9786625 , 0.        , 0.        ],\n",
       "        [0.31044865, 0.        , 0.02502257, 0.        , 0.        ],\n",
       "        [0.        , 0.46765924, 0.        , 0.        , 0.03160795],\n",
       "        [0.71082693, 0.        , 0.58997136, 0.        , 0.        ],\n",
       "        [0.        , 0.        , 0.84622455, 0.5916316 , 0.        ],\n",
       "        [0.46450275, 0.        , 0.        , 0.        , 0.9429863 ],\n",
       "        [0.        , 0.34248227, 0.7672639 , 0.        , 0.        ],\n",
       "        [0.        , 0.        , 0.9855889 , 0.        , 0.2535647 ],\n",
       "        [0.        , 0.7705159 , 0.31522992, 0.        , 0.        ],\n",
       "        [0.        , 0.7167741 , 0.        , 0.8238369 , 0.        ],\n",
       "        [0.        , 0.91970533, 0.        , 0.7873889 , 0.        ],\n",
       "        [0.        , 0.        , 0.        , 0.404568  , 0.841323  ],\n",
       "        [0.        , 0.        , 0.674503  , 0.48820347, 0.        ],\n",
       "        [0.18725161, 0.11607183, 0.        , 0.        , 0.        ],\n",
       "        [0.7250254 , 0.        , 0.12346577, 0.        , 0.        ]],\n",
       "       dtype=float32))"
      ]
     },
     "execution_count": 33,
     "metadata": {},
     "output_type": "execute_result"
    }
   ],
   "source": [
    "adata, acols, annz, b"
   ]
  },
  {
   "cell_type": "markdown",
   "id": "0c247b79",
   "metadata": {},
   "source": [
    "## MatMul (Sparse-Dense)"
   ]
  },
  {
   "cell_type": "markdown",
   "id": "aad78213",
   "metadata": {},
   "source": [
    "adata_buf = cl.Buffer(ctx, mf.READ_WRITE | mf.COPY_HOST_PTR, hostbuf=adata)\n",
    "acols_buf = cl.Buffer(ctx, mf.READ_WRITE | mf.COPY_HOST_PTR, hostbuf=acols)\n",
    "annzs_buf = cl.Buffer(ctx, mf.READ_WRITE | mf.COPY_HOST_PTR, hostbuf=annz)\n",
    "adatat_buf = cl.Buffer(ctx, mf.READ_WRITE | mf.COPY_HOST_PTR, hostbuf=adatat)\n",
    "acolst_buf = cl.Buffer(ctx, mf.READ_WRITE | mf.COPY_HOST_PTR, hostbuf=acolst)\n",
    "annzst_buf = cl.Buffer(ctx, mf.READ_WRITE | mf.COPY_HOST_PTR, hostbuf=annzt)\n",
    "b_buf = cl.Buffer(ctx, mf.READ_WRITE | mf.COPY_HOST_PTR, hostbuf=b)\n",
    "\n",
    "prg = cl.Program(ctx, \"\"\"\n",
    "    // SPARSE x DENSE\n",
    "    __kernel void matmul2(__global  float* matData,     // INPUT MATRIX DATA\n",
    "                            __global  uint*  colIdx,\n",
    "                            __global  uint*  rowNnz,\n",
    "                            uint   ellwidth,\n",
    "                            uint ncols,\n",
    "                            __global  float* vector_x,    // INPUT\n",
    "                            __global  float* vector_y    // OUTPUT\n",
    "                            ) { // LOCAL SHARED BUFFER\n",
    "      uint gid = get_global_id(0);\n",
    "      uint nrows = get_global_size(0);\n",
    "      \n",
    "\n",
    "      uint nnz    = rowNnz[gid];\n",
    "      float sum = 0;\n",
    "      for (uint gid2 = 0; gid2 < ncols; gid2++) {\n",
    "        for (uint i = 0; i < nnz; i++) {\n",
    "          uint index   = (gid * ellwidth) + i;\n",
    "          uint col     = colIdx[index];\n",
    "          float aval  = matData[index];\n",
    "          float xval  = vector_x[col*ncols+gid2];\n",
    "          //if (gid==0 && gid2==2)\n",
    "          //  printf(\"aval, xval: %.2f,%.2f: (%i,%i) \\\\n\", aval, xval, col, index);\n",
    "          sum  += aval * xval;\n",
    "        }\n",
    "        //printf(\"SUM/NNZ: %.2f %i \\\\n\", sum, nnz);\n",
    "        vector_y[gid*ncols+gid2] = sum;\n",
    "      }\n",
    "    }\"\"\").build()"
   ]
  },
  {
   "cell_type": "code",
   "execution_count": 34,
   "id": "fb0ca1f4",
   "metadata": {},
   "outputs": [],
   "source": [
    "adata_buf = cl.Buffer(ctx, mf.READ_WRITE | mf.COPY_HOST_PTR, hostbuf=adata)\n",
    "acols_buf = cl.Buffer(ctx, mf.READ_WRITE | mf.COPY_HOST_PTR, hostbuf=acols)\n",
    "annzs_buf = cl.Buffer(ctx, mf.READ_WRITE | mf.COPY_HOST_PTR, hostbuf=annz)\n",
    "adatat_buf = cl.Buffer(ctx, mf.READ_WRITE | mf.COPY_HOST_PTR, hostbuf=adatat)\n",
    "acolst_buf = cl.Buffer(ctx, mf.READ_WRITE | mf.COPY_HOST_PTR, hostbuf=acolst)\n",
    "annzst_buf = cl.Buffer(ctx, mf.READ_WRITE | mf.COPY_HOST_PTR, hostbuf=annzt)\n",
    "b_buf = cl.Buffer(ctx, mf.READ_WRITE | mf.COPY_HOST_PTR, hostbuf=b)\n",
    "\n",
    "prg = cl.Program(ctx, \"\"\"\n",
    "    // SPARSE x DENSE\n",
    "    __kernel void matmul2(__global  float* matData,     // INPUT MATRIX DATA\n",
    "                            __global  uint*  colIdx,\n",
    "                            __global  uint*  rowNnz,\n",
    "                            uint   ellwidth,\n",
    "                            uint ncols,\n",
    "                            __global  float* vector_x,    // INPUT\n",
    "                            __global  float* vector_y    // OUTPUT\n",
    "                            ) { // LOCAL SHARED BUFFER\n",
    "      uint gid = get_global_id(0);\n",
    "      uint nrows = get_global_size(0);\n",
    "      \n",
    "\n",
    "      uint nnz    = rowNnz[gid];\n",
    "      \n",
    "      for (uint gid2 = 0; gid2 < ncols; gid2++) {\n",
    "        float sum = 0;\n",
    "        for (uint i = 0; i < nnz; i++) {\n",
    "          uint index   = (gid * ellwidth) + i;\n",
    "          uint col     = colIdx[index];\n",
    "          float aval  = matData[index];\n",
    "          uint xidx = col*ncols+gid2;\n",
    "          float xval  = vector_x[xidx];\n",
    "          if (gid==0 && gid2==1)\n",
    "            printf(\"aval, xval: %.2f,%.2f: (%i,%i) - %i \\\\n\", aval, xval, col, index, xidx);\n",
    "          sum  += aval * xval;\n",
    "        }\n",
    "        //printf(\"SUM/NNZ: %.2f %i \\\\n\", sum, nnz);\n",
    "        vector_y[gid*ncols+gid2] = sum;\n",
    "      }\n",
    "    }\"\"\").build()"
   ]
  },
  {
   "cell_type": "code",
   "execution_count": 35,
   "id": "b4c85bcb",
   "metadata": {},
   "outputs": [
    {
     "data": {
      "text/plain": [
       "((8, 16), (16, 5))"
      ]
     },
     "execution_count": 35,
     "metadata": {},
     "output_type": "execute_result"
    }
   ],
   "source": [
    "a.shape, b.shape"
   ]
  },
  {
   "cell_type": "code",
   "execution_count": 36,
   "id": "c740a4fe",
   "metadata": {},
   "outputs": [],
   "source": [
    "res = np.zeros(a.shape[0]).astype(np.float32)\n",
    "#res"
   ]
  },
  {
   "cell_type": "code",
   "execution_count": 37,
   "id": "07aa4d30",
   "metadata": {},
   "outputs": [],
   "source": [
    "rows = a.shape[0]"
   ]
  },
  {
   "cell_type": "code",
   "execution_count": 38,
   "id": "98da857f",
   "metadata": {},
   "outputs": [],
   "source": [
    "mult = mult.astype(np.float32)"
   ]
  },
  {
   "cell_type": "code",
   "execution_count": 39,
   "id": "350bdb16",
   "metadata": {},
   "outputs": [
    {
     "data": {
      "text/plain": [
       "(8, 5)"
      ]
     },
     "execution_count": 39,
     "metadata": {},
     "output_type": "execute_result"
    }
   ],
   "source": [
    "outshape = (a.shape[0], b.shape[1])\n",
    "outshape"
   ]
  },
  {
   "cell_type": "code",
   "execution_count": 40,
   "id": "cc7365fc",
   "metadata": {},
   "outputs": [
    {
     "name": "stdout",
     "output_type": "stream",
     "text": [
      "aval, xval: 0.68,0.00: (1,0) - 6 \n",
      "aval, xval: 0.80,0.00: (2,1) - 11 \n",
      "aval, xval: 0.08,0.34: (7,2) - 36 \n",
      "aval, xval: 0.89,0.00: (8,3) - 41 \n",
      "aval, xval: 0.18,0.72: (10,4) - 51 \n",
      "aval, xval: 0.46,0.00: (12,5) - 61 \n"
     ]
    },
    {
     "data": {
      "text/plain": [
       "<pyopencl._cl.NannyEvent at 0x7fd7f039c130>"
      ]
     },
     "execution_count": 40,
     "metadata": {},
     "output_type": "execute_result"
    }
   ],
   "source": [
    "res_buf = cl.Buffer(ctx, mf.READ_WRITE, np.prod(outshape)*4)\n",
    "knl = prg.matmul2  # Use this Kernel object for repeated calls\n",
    "knl(queue, [outshape[0]], None, adata_buf, acols_buf, annzs_buf, np.uint32(ellwa), np.uint32(outshape[1]), b_buf, res_buf)\n",
    "\n",
    "res_np = np.zeros(outshape).astype(np.float32)\n",
    "cl.enqueue_copy(queue, res_np, res_buf)"
   ]
  },
  {
   "cell_type": "code",
   "execution_count": 41,
   "id": "e2181f67",
   "metadata": {},
   "outputs": [
    {
     "data": {
      "text/plain": [
       "0.0"
      ]
     },
     "execution_count": 41,
     "metadata": {},
     "output_type": "execute_result"
    }
   ],
   "source": [
    "(res_np-mult).sum()"
   ]
  },
  {
   "cell_type": "code",
   "execution_count": 42,
   "id": "79390719",
   "metadata": {},
   "outputs": [
    {
     "data": {
      "text/plain": [
       "array([[0.        , 0.68347037, 0.8035886 , 0.        , 0.        ,\n",
       "        0.        , 0.        , 0.08023349, 0.8858316 , 0.        ,\n",
       "        0.17861794, 0.        , 0.46201044, 0.        , 0.        ,\n",
       "        0.        ],\n",
       "       [0.9562663 , 0.5531271 , 0.        , 0.        , 0.5375557 ,\n",
       "        0.        , 0.        , 0.        , 0.        , 0.        ,\n",
       "        0.        , 0.20370705, 0.35530138, 0.        , 0.        ,\n",
       "        0.9186601 ],\n",
       "       [0.        , 0.20103766, 0.        , 0.        , 0.        ,\n",
       "        0.74341315, 0.        , 0.        , 0.        , 0.5787496 ,\n",
       "        0.        , 0.05387774, 0.        , 0.5917517 , 0.17797045,\n",
       "        0.        ],\n",
       "       [0.        , 0.        , 0.        , 0.14296253, 0.9103574 ,\n",
       "        0.03242496, 0.        , 0.71459514, 0.        , 0.        ,\n",
       "        0.        , 0.        , 0.7448136 , 0.        , 0.        ,\n",
       "        0.66635793],\n",
       "       [0.        , 0.        , 0.        , 0.59893256, 0.        ,\n",
       "        0.        , 0.        , 0.9217044 , 0.        , 0.16333483,\n",
       "        0.        , 0.17167741, 0.        , 0.        , 0.7605819 ,\n",
       "        0.48675168],\n",
       "       [0.11415514, 0.82574075, 0.        , 0.        , 0.        ,\n",
       "        0.27978534, 0.        , 0.25018668, 0.        , 0.        ,\n",
       "        0.83127654, 0.09929471, 0.        , 0.        , 0.        ,\n",
       "        0.        ],\n",
       "       [0.28872353, 0.04889954, 0.        , 0.6493426 , 0.        ,\n",
       "        0.33329687, 0.        , 0.        , 0.        , 0.        ,\n",
       "        0.        , 0.        , 0.84441024, 0.01120785, 0.        ,\n",
       "        0.        ],\n",
       "       [0.67626965, 0.        , 0.        , 0.35563806, 0.        ,\n",
       "        0.        , 0.69630474, 0.        , 0.6753613 , 0.        ,\n",
       "        0.        , 0.12287189, 0.        , 0.        , 0.        ,\n",
       "        0.09184685]], dtype=float32)"
      ]
     },
     "execution_count": 42,
     "metadata": {},
     "output_type": "execute_result"
    }
   ],
   "source": [
    "a"
   ]
  },
  {
   "cell_type": "code",
   "execution_count": 43,
   "id": "a53bcc0b",
   "metadata": {},
   "outputs": [
    {
     "data": {
      "text/plain": [
       "array([[0.49395892, 0.        , 0.46451807, 0.        , 0.        ],\n",
       "       [0.65864426, 0.        , 0.9786625 , 0.        , 0.        ],\n",
       "       [0.31044865, 0.        , 0.02502257, 0.        , 0.        ],\n",
       "       [0.        , 0.46765924, 0.        , 0.        , 0.03160795],\n",
       "       [0.71082693, 0.        , 0.58997136, 0.        , 0.        ],\n",
       "       [0.        , 0.        , 0.84622455, 0.5916316 , 0.        ],\n",
       "       [0.46450275, 0.        , 0.        , 0.        , 0.9429863 ],\n",
       "       [0.        , 0.34248227, 0.7672639 , 0.        , 0.        ],\n",
       "       [0.        , 0.        , 0.9855889 , 0.        , 0.2535647 ],\n",
       "       [0.        , 0.7705159 , 0.31522992, 0.        , 0.        ],\n",
       "       [0.        , 0.7167741 , 0.        , 0.8238369 , 0.        ],\n",
       "       [0.        , 0.91970533, 0.        , 0.7873889 , 0.        ],\n",
       "       [0.        , 0.        , 0.        , 0.404568  , 0.841323  ],\n",
       "       [0.        , 0.        , 0.674503  , 0.48820347, 0.        ],\n",
       "       [0.18725161, 0.11607183, 0.        , 0.        , 0.        ],\n",
       "       [0.7250254 , 0.        , 0.12346577, 0.        , 0.        ]],\n",
       "      dtype=float32)"
      ]
     },
     "execution_count": 43,
     "metadata": {},
     "output_type": "execute_result"
    }
   ],
   "source": [
    "b"
   ]
  },
  {
   "cell_type": "code",
   "execution_count": 44,
   "id": "33d8a584",
   "metadata": {},
   "outputs": [
    {
     "data": {
      "text/plain": [
       "<pyopencl._cl.Buffer at 0x7fd7f03fabd0>"
      ]
     },
     "execution_count": 44,
     "metadata": {},
     "output_type": "execute_result"
    }
   ],
   "source": [
    "res_buf"
   ]
  },
  {
   "cell_type": "code",
   "execution_count": 45,
   "id": "99faec15",
   "metadata": {},
   "outputs": [
    {
     "data": {
      "text/plain": [
       "array([[0.6996368 , 0.15550727, 1.6236207 , 0.3340667 , 0.61331564],\n",
       "       [1.8848312 , 0.18735047, 1.4160932 , 0.30414024, 0.29892322],\n",
       "       [0.16573755, 0.51614475, 1.40742   , 0.7711447 , 0.        ],\n",
       "       [1.130233  , 0.31159392, 1.1950791 , 0.32051137, 0.6311476 ],\n",
       "       [0.49532753, 0.9677906 , 0.8187757 , 0.1351769 , 0.01893103],\n",
       "       [0.60025734, 0.7728439 , 1.2898692 , 0.9285497 , 0.        ],\n",
       "       [0.17482497, 0.30367106, 0.47157714, 0.544282  , 0.7309462 ],\n",
       "       [0.7240762 , 0.27932334, 0.99110806, 0.09674796, 0.8390946 ]],\n",
       "      dtype=float32)"
      ]
     },
     "execution_count": 45,
     "metadata": {},
     "output_type": "execute_result"
    }
   ],
   "source": [
    "res_np"
   ]
  },
  {
   "cell_type": "code",
   "execution_count": 46,
   "id": "4da1c066",
   "metadata": {},
   "outputs": [
    {
     "data": {
      "text/plain": [
       "array([[0.6996368 , 0.15550727, 1.6236207 , 0.3340667 , 0.61331564],\n",
       "       [1.8848312 , 0.18735047, 1.4160932 , 0.30414024, 0.29892322],\n",
       "       [0.16573755, 0.51614475, 1.40742   , 0.7711447 , 0.        ],\n",
       "       [1.130233  , 0.31159392, 1.1950791 , 0.32051137, 0.6311476 ],\n",
       "       [0.49532753, 0.9677906 , 0.8187757 , 0.1351769 , 0.01893103],\n",
       "       [0.60025734, 0.7728439 , 1.2898692 , 0.9285497 , 0.        ],\n",
       "       [0.17482497, 0.30367106, 0.47157714, 0.544282  , 0.7309462 ],\n",
       "       [0.7240762 , 0.27932334, 0.99110806, 0.09674796, 0.8390946 ]],\n",
       "      dtype=float32)"
      ]
     },
     "execution_count": 46,
     "metadata": {},
     "output_type": "execute_result"
    }
   ],
   "source": [
    "mult"
   ]
  },
  {
   "cell_type": "code",
   "execution_count": 47,
   "id": "0ca8d088",
   "metadata": {},
   "outputs": [
    {
     "data": {
      "text/plain": [
       "array([[ True,  True,  True,  True,  True],\n",
       "       [ True,  True,  True,  True,  True],\n",
       "       [ True,  True,  True,  True,  True],\n",
       "       [ True,  True,  True,  True,  True],\n",
       "       [ True,  True,  True,  True,  True],\n",
       "       [ True,  True,  True,  True,  True],\n",
       "       [ True,  True,  True,  True,  True],\n",
       "       [ True,  True,  True,  True,  True]])"
      ]
     },
     "execution_count": 47,
     "metadata": {},
     "output_type": "execute_result"
    }
   ],
   "source": [
    "res_np==mult"
   ]
  },
  {
   "cell_type": "code",
   "execution_count": 48,
   "id": "c197fea2",
   "metadata": {},
   "outputs": [
    {
     "data": {
      "text/plain": [
       "(8, 5)"
      ]
     },
     "execution_count": 48,
     "metadata": {},
     "output_type": "execute_result"
    }
   ],
   "source": [
    "res_np.shape"
   ]
  },
  {
   "cell_type": "code",
   "execution_count": 49,
   "id": "b20b9da3",
   "metadata": {},
   "outputs": [
    {
     "data": {
      "text/plain": [
       "(8, 5)"
      ]
     },
     "execution_count": 49,
     "metadata": {},
     "output_type": "execute_result"
    }
   ],
   "source": [
    "mult.shape"
   ]
  },
  {
   "cell_type": "markdown",
   "id": "020471e7",
   "metadata": {},
   "source": [
    "## MatMul (dense * sparse)"
   ]
  },
  {
   "cell_type": "code",
   "execution_count": 50,
   "id": "dc619c6d",
   "metadata": {},
   "outputs": [],
   "source": [
    "bdata_buf = cl.Buffer(ctx, mf.READ_WRITE | mf.COPY_HOST_PTR, hostbuf=bdata)\n",
    "bcols_buf = cl.Buffer(ctx, mf.READ_WRITE | mf.COPY_HOST_PTR, hostbuf=bcols)\n",
    "bnnzs_buf = cl.Buffer(ctx, mf.READ_WRITE | mf.COPY_HOST_PTR, hostbuf=bnnz)\n",
    "bdatat_buf = cl.Buffer(ctx, mf.READ_WRITE | mf.COPY_HOST_PTR, hostbuf=bdatat)\n",
    "bcolst_buf = cl.Buffer(ctx, mf.READ_WRITE | mf.COPY_HOST_PTR, hostbuf=bcolst)\n",
    "bnnzst_buf = cl.Buffer(ctx, mf.READ_WRITE | mf.COPY_HOST_PTR, hostbuf=bnnzt)\n",
    "a_buf = cl.Buffer(ctx, mf.READ_WRITE | mf.COPY_HOST_PTR, hostbuf=a)\n",
    "\n",
    "prg = cl.Program(ctx, \"\"\"\n",
    "    // DENSE x SPARSE\n",
    "    __kernel void matmul(__global  float* matData,     // INPUT MATRIX DATA\n",
    "                            __global  uint*  colIdx,\n",
    "                            __global  uint*  rowNnz,\n",
    "                            uint   ellwidth,\n",
    "                            uint   mwidth,\n",
    "                            uint   ncols,\n",
    "                            __global  float* vector_x,    // INPUT\n",
    "                            __global  float* vector_y    // OUTPUT\n",
    "                            ) { // LOCAL SHARED BUFFER\n",
    "      uint gid = get_global_id(0);\n",
    "      uint nrows = get_global_size(0);\n",
    "\n",
    "      for (uint gid2 = 0; gid2 < ncols; gid2++) {\n",
    "        uint nnz = rowNnz[gid2];\n",
    "        float sum = 0;\n",
    "        for (uint i = 0; i < nnz; i++) {\n",
    "          uint index   = (gid2 * ellwidth) + i;\n",
    "          uint col     = colIdx[index];\n",
    "          float aval  = matData[index];\n",
    "          float xval  = vector_x[gid*mwidth+col];\n",
    "          sum  += aval * xval;\n",
    "          if (gid==0 && gid2==0)\n",
    "            printf(\"aval, xval: %.2f,%.2f - %.2f: (%i,%i) \\\\n\", aval, xval, sum, col, index);\n",
    "        }\n",
    "        //printf(\"SUM/NNZ: %.2f %i \\\\n\", sum, nnz);\n",
    "        vector_y[gid*ncols+gid2] = sum;\n",
    "      }\n",
    "    }\"\"\").build()"
   ]
  },
  {
   "cell_type": "code",
   "execution_count": 51,
   "id": "65b33635",
   "metadata": {},
   "outputs": [
    {
     "data": {
      "text/plain": [
       "((8, 16), (16, 5))"
      ]
     },
     "execution_count": 51,
     "metadata": {},
     "output_type": "execute_result"
    }
   ],
   "source": [
    "a.shape, b.shape"
   ]
  },
  {
   "cell_type": "code",
   "execution_count": 52,
   "id": "1133e820",
   "metadata": {},
   "outputs": [],
   "source": [
    "res = np.zeros(a.shape[0]).astype(np.float32)\n",
    "#res"
   ]
  },
  {
   "cell_type": "code",
   "execution_count": 53,
   "id": "c5fb4354",
   "metadata": {},
   "outputs": [],
   "source": [
    "rows = a.shape[0]"
   ]
  },
  {
   "cell_type": "code",
   "execution_count": 54,
   "id": "c687e0e1",
   "metadata": {},
   "outputs": [
    {
     "data": {
      "text/plain": [
       "((8, 16), (16, 5))"
      ]
     },
     "execution_count": 54,
     "metadata": {},
     "output_type": "execute_result"
    }
   ],
   "source": [
    "a.shape, b.shape"
   ]
  },
  {
   "cell_type": "code",
   "execution_count": 55,
   "id": "2d2074e5",
   "metadata": {},
   "outputs": [],
   "source": [
    "mult = a.dot(b)\n",
    "mult = mult.astype(np.float32)"
   ]
  },
  {
   "cell_type": "code",
   "execution_count": 56,
   "id": "62207659",
   "metadata": {},
   "outputs": [
    {
     "data": {
      "text/plain": [
       "array([8, 5])"
      ]
     },
     "execution_count": 56,
     "metadata": {},
     "output_type": "execute_result"
    }
   ],
   "source": [
    "outshape = np.array([a.shape[0], b.shape[1]])\n",
    "outshape"
   ]
  },
  {
   "cell_type": "code",
   "execution_count": 57,
   "id": "48bda7d1",
   "metadata": {},
   "outputs": [
    {
     "data": {
      "text/plain": [
       "array([[0.49395892, 0.65864426, 0.31044865, 0.        , 0.71082693,\n",
       "        0.        , 0.46450275, 0.        , 0.        , 0.        ,\n",
       "        0.        , 0.        , 0.        , 0.        , 0.18725161,\n",
       "        0.7250254 ],\n",
       "       [0.        , 0.        , 0.        , 0.46765924, 0.        ,\n",
       "        0.        , 0.        , 0.34248227, 0.        , 0.7705159 ,\n",
       "        0.7167741 , 0.91970533, 0.        , 0.        , 0.11607183,\n",
       "        0.        ],\n",
       "       [0.46451807, 0.9786625 , 0.02502257, 0.        , 0.58997136,\n",
       "        0.84622455, 0.        , 0.7672639 , 0.9855889 , 0.31522992,\n",
       "        0.        , 0.        , 0.        , 0.674503  , 0.        ,\n",
       "        0.12346577],\n",
       "       [0.        , 0.        , 0.        , 0.        , 0.        ,\n",
       "        0.5916316 , 0.        , 0.        , 0.        , 0.        ,\n",
       "        0.8238369 , 0.7873889 , 0.404568  , 0.48820347, 0.        ,\n",
       "        0.        ],\n",
       "       [0.        , 0.        , 0.        , 0.03160795, 0.        ,\n",
       "        0.        , 0.9429863 , 0.        , 0.2535647 , 0.        ,\n",
       "        0.        , 0.        , 0.841323  , 0.        , 0.        ,\n",
       "        0.        ]], dtype=float32)"
      ]
     },
     "execution_count": 57,
     "metadata": {},
     "output_type": "execute_result"
    }
   ],
   "source": [
    "b.T"
   ]
  },
  {
   "cell_type": "code",
   "execution_count": 58,
   "id": "e81754e5",
   "metadata": {},
   "outputs": [
    {
     "data": {
      "text/plain": [
       "array([[0.        , 0.9562663 , 0.        , 0.        , 0.        ,\n",
       "        0.11415514, 0.28872353, 0.67626965],\n",
       "       [0.68347037, 0.5531271 , 0.20103766, 0.        , 0.        ,\n",
       "        0.82574075, 0.04889954, 0.        ],\n",
       "       [0.8035886 , 0.        , 0.        , 0.        , 0.        ,\n",
       "        0.        , 0.        , 0.        ],\n",
       "       [0.        , 0.        , 0.        , 0.14296253, 0.59893256,\n",
       "        0.        , 0.6493426 , 0.35563806],\n",
       "       [0.        , 0.5375557 , 0.        , 0.9103574 , 0.        ,\n",
       "        0.        , 0.        , 0.        ],\n",
       "       [0.        , 0.        , 0.74341315, 0.03242496, 0.        ,\n",
       "        0.27978534, 0.33329687, 0.        ],\n",
       "       [0.        , 0.        , 0.        , 0.        , 0.        ,\n",
       "        0.        , 0.        , 0.69630474],\n",
       "       [0.08023349, 0.        , 0.        , 0.71459514, 0.9217044 ,\n",
       "        0.25018668, 0.        , 0.        ],\n",
       "       [0.8858316 , 0.        , 0.        , 0.        , 0.        ,\n",
       "        0.        , 0.        , 0.6753613 ],\n",
       "       [0.        , 0.        , 0.5787496 , 0.        , 0.16333483,\n",
       "        0.        , 0.        , 0.        ],\n",
       "       [0.17861794, 0.        , 0.        , 0.        , 0.        ,\n",
       "        0.83127654, 0.        , 0.        ],\n",
       "       [0.        , 0.20370705, 0.05387774, 0.        , 0.17167741,\n",
       "        0.09929471, 0.        , 0.12287189],\n",
       "       [0.46201044, 0.35530138, 0.        , 0.7448136 , 0.        ,\n",
       "        0.        , 0.84441024, 0.        ],\n",
       "       [0.        , 0.        , 0.5917517 , 0.        , 0.        ,\n",
       "        0.        , 0.01120785, 0.        ],\n",
       "       [0.        , 0.        , 0.17797045, 0.        , 0.7605819 ,\n",
       "        0.        , 0.        , 0.        ],\n",
       "       [0.        , 0.9186601 , 0.        , 0.66635793, 0.48675168,\n",
       "        0.        , 0.        , 0.09184685]], dtype=float32)"
      ]
     },
     "execution_count": 58,
     "metadata": {},
     "output_type": "execute_result"
    }
   ],
   "source": [
    "a.T"
   ]
  },
  {
   "cell_type": "code",
   "execution_count": 59,
   "id": "a4aa52cb",
   "metadata": {},
   "outputs": [
    {
     "data": {
      "text/plain": [
       "array([8, 5])"
      ]
     },
     "execution_count": 59,
     "metadata": {},
     "output_type": "execute_result"
    }
   ],
   "source": [
    "outshape.T"
   ]
  },
  {
   "cell_type": "code",
   "execution_count": 60,
   "id": "cda5d20b",
   "metadata": {},
   "outputs": [
    {
     "data": {
      "text/plain": [
       "((16, 5), array([8, 5]))"
      ]
     },
     "execution_count": 60,
     "metadata": {},
     "output_type": "execute_result"
    }
   ],
   "source": [
    "b.shape, outshape"
   ]
  },
  {
   "cell_type": "code",
   "execution_count": 61,
   "id": "35754fb9",
   "metadata": {},
   "outputs": [
    {
     "data": {
      "text/plain": [
       "<pyopencl._cl.NannyEvent at 0x7fd7f03b9090>"
      ]
     },
     "execution_count": 61,
     "metadata": {},
     "output_type": "execute_result"
    },
    {
     "name": "stdout",
     "output_type": "stream",
     "text": [
      "aval, xval: 0.49,0.00 - 0.00: (0,0) \n",
      "aval, xval: 0.66,0.68 - 0.45: (1,1) \n",
      "aval, xval: 0.31,0.80 - 0.70: (2,2) \n",
      "aval, xval: 0.71,0.00 - 0.70: (4,3) \n",
      "aval, xval: 0.46,0.00 - 0.70: (6,4) \n",
      "aval, xval: 0.19,0.00 - 0.70: (14,5) \n",
      "aval, xval: 0.73,0.00 - 0.70: (15,6) \n"
     ]
    }
   ],
   "source": [
    "res_buf = cl.Buffer(ctx, mf.READ_WRITE, np.prod(outshape)*4)\n",
    "knl = prg.matmul  # Use this Kernel object for repeated calls\n",
    "knl(queue, [outshape.T[0]], None, bdatat_buf, bcolst_buf, bnnzst_buf, np.uint32(ellwbt), np.uint32(b.shape[0]), np.uint32(outshape.T[1]), a_buf, res_buf)\n",
    "\n",
    "res_np = np.zeros(outshape).astype(np.float32)\n",
    "cl.enqueue_copy(queue, res_np, res_buf)"
   ]
  },
  {
   "cell_type": "code",
   "execution_count": 62,
   "id": "23cf552a",
   "metadata": {},
   "outputs": [
    {
     "data": {
      "text/plain": [
       "0.0"
      ]
     },
     "execution_count": 62,
     "metadata": {},
     "output_type": "execute_result"
    }
   ],
   "source": [
    "(res_np-mult).sum()"
   ]
  },
  {
   "cell_type": "code",
   "execution_count": 63,
   "id": "99d10b20",
   "metadata": {},
   "outputs": [
    {
     "data": {
      "text/plain": [
       "array([[0.        , 0.68347037, 0.8035886 , 0.        , 0.        ,\n",
       "        0.        , 0.        , 0.08023349, 0.8858316 , 0.        ,\n",
       "        0.17861794, 0.        , 0.46201044, 0.        , 0.        ,\n",
       "        0.        ],\n",
       "       [0.9562663 , 0.5531271 , 0.        , 0.        , 0.5375557 ,\n",
       "        0.        , 0.        , 0.        , 0.        , 0.        ,\n",
       "        0.        , 0.20370705, 0.35530138, 0.        , 0.        ,\n",
       "        0.9186601 ],\n",
       "       [0.        , 0.20103766, 0.        , 0.        , 0.        ,\n",
       "        0.74341315, 0.        , 0.        , 0.        , 0.5787496 ,\n",
       "        0.        , 0.05387774, 0.        , 0.5917517 , 0.17797045,\n",
       "        0.        ],\n",
       "       [0.        , 0.        , 0.        , 0.14296253, 0.9103574 ,\n",
       "        0.03242496, 0.        , 0.71459514, 0.        , 0.        ,\n",
       "        0.        , 0.        , 0.7448136 , 0.        , 0.        ,\n",
       "        0.66635793],\n",
       "       [0.        , 0.        , 0.        , 0.59893256, 0.        ,\n",
       "        0.        , 0.        , 0.9217044 , 0.        , 0.16333483,\n",
       "        0.        , 0.17167741, 0.        , 0.        , 0.7605819 ,\n",
       "        0.48675168],\n",
       "       [0.11415514, 0.82574075, 0.        , 0.        , 0.        ,\n",
       "        0.27978534, 0.        , 0.25018668, 0.        , 0.        ,\n",
       "        0.83127654, 0.09929471, 0.        , 0.        , 0.        ,\n",
       "        0.        ],\n",
       "       [0.28872353, 0.04889954, 0.        , 0.6493426 , 0.        ,\n",
       "        0.33329687, 0.        , 0.        , 0.        , 0.        ,\n",
       "        0.        , 0.        , 0.84441024, 0.01120785, 0.        ,\n",
       "        0.        ],\n",
       "       [0.67626965, 0.        , 0.        , 0.35563806, 0.        ,\n",
       "        0.        , 0.69630474, 0.        , 0.6753613 , 0.        ,\n",
       "        0.        , 0.12287189, 0.        , 0.        , 0.        ,\n",
       "        0.09184685]], dtype=float32)"
      ]
     },
     "execution_count": 63,
     "metadata": {},
     "output_type": "execute_result"
    }
   ],
   "source": [
    "a"
   ]
  },
  {
   "cell_type": "code",
   "execution_count": 64,
   "id": "85fb2a81",
   "metadata": {},
   "outputs": [
    {
     "data": {
      "text/plain": [
       "array([[0.49395892, 0.        , 0.46451807, 0.        , 0.        ],\n",
       "       [0.65864426, 0.        , 0.9786625 , 0.        , 0.        ],\n",
       "       [0.31044865, 0.        , 0.02502257, 0.        , 0.        ],\n",
       "       [0.        , 0.46765924, 0.        , 0.        , 0.03160795],\n",
       "       [0.71082693, 0.        , 0.58997136, 0.        , 0.        ],\n",
       "       [0.        , 0.        , 0.84622455, 0.5916316 , 0.        ],\n",
       "       [0.46450275, 0.        , 0.        , 0.        , 0.9429863 ],\n",
       "       [0.        , 0.34248227, 0.7672639 , 0.        , 0.        ],\n",
       "       [0.        , 0.        , 0.9855889 , 0.        , 0.2535647 ],\n",
       "       [0.        , 0.7705159 , 0.31522992, 0.        , 0.        ],\n",
       "       [0.        , 0.7167741 , 0.        , 0.8238369 , 0.        ],\n",
       "       [0.        , 0.91970533, 0.        , 0.7873889 , 0.        ],\n",
       "       [0.        , 0.        , 0.        , 0.404568  , 0.841323  ],\n",
       "       [0.        , 0.        , 0.674503  , 0.48820347, 0.        ],\n",
       "       [0.18725161, 0.11607183, 0.        , 0.        , 0.        ],\n",
       "       [0.7250254 , 0.        , 0.12346577, 0.        , 0.        ]],\n",
       "      dtype=float32)"
      ]
     },
     "execution_count": 64,
     "metadata": {},
     "output_type": "execute_result"
    }
   ],
   "source": [
    "b"
   ]
  },
  {
   "cell_type": "code",
   "execution_count": 65,
   "id": "ee65b3de",
   "metadata": {},
   "outputs": [
    {
     "data": {
      "text/plain": [
       "<pyopencl._cl.Buffer at 0x7fd7f03a4680>"
      ]
     },
     "execution_count": 65,
     "metadata": {},
     "output_type": "execute_result"
    }
   ],
   "source": [
    "res_buf"
   ]
  },
  {
   "cell_type": "code",
   "execution_count": 66,
   "id": "15e6ab60",
   "metadata": {},
   "outputs": [
    {
     "data": {
      "text/plain": [
       "array([[0.6996368 , 0.15550727, 1.6236207 , 0.3340667 , 0.61331564],\n",
       "       [1.8848312 , 0.18735047, 1.4160932 , 0.30414024, 0.29892322],\n",
       "       [0.16573755, 0.51614475, 1.40742   , 0.7711447 , 0.        ],\n",
       "       [1.130233  , 0.31159392, 1.1950791 , 0.32051137, 0.6311476 ],\n",
       "       [0.49532753, 0.9677906 , 0.8187757 , 0.1351769 , 0.01893103],\n",
       "       [0.60025734, 0.7728439 , 1.2898692 , 0.9285497 , 0.        ],\n",
       "       [0.17482497, 0.30367106, 0.47157714, 0.544282  , 0.7309462 ],\n",
       "       [0.7240762 , 0.27932334, 0.99110806, 0.09674796, 0.8390946 ]],\n",
       "      dtype=float32)"
      ]
     },
     "execution_count": 66,
     "metadata": {},
     "output_type": "execute_result"
    }
   ],
   "source": [
    "res_np"
   ]
  },
  {
   "cell_type": "code",
   "execution_count": 67,
   "id": "ea2ac480",
   "metadata": {},
   "outputs": [
    {
     "data": {
      "text/plain": [
       "array([[0.6996368 , 0.15550727, 1.6236207 , 0.3340667 , 0.61331564],\n",
       "       [1.8848312 , 0.18735047, 1.4160932 , 0.30414024, 0.29892322],\n",
       "       [0.16573755, 0.51614475, 1.40742   , 0.7711447 , 0.        ],\n",
       "       [1.130233  , 0.31159392, 1.1950791 , 0.32051137, 0.6311476 ],\n",
       "       [0.49532753, 0.9677906 , 0.8187757 , 0.1351769 , 0.01893103],\n",
       "       [0.60025734, 0.7728439 , 1.2898692 , 0.9285497 , 0.        ],\n",
       "       [0.17482497, 0.30367106, 0.47157714, 0.544282  , 0.7309462 ],\n",
       "       [0.7240762 , 0.27932334, 0.99110806, 0.09674796, 0.8390946 ]],\n",
       "      dtype=float32)"
      ]
     },
     "execution_count": 67,
     "metadata": {},
     "output_type": "execute_result"
    }
   ],
   "source": [
    "mult"
   ]
  },
  {
   "cell_type": "code",
   "execution_count": 68,
   "id": "232d2e9c",
   "metadata": {},
   "outputs": [
    {
     "data": {
      "text/plain": [
       "array([[ True,  True,  True,  True,  True],\n",
       "       [ True,  True,  True,  True,  True],\n",
       "       [ True,  True,  True,  True,  True],\n",
       "       [ True,  True,  True,  True,  True],\n",
       "       [ True,  True,  True,  True,  True],\n",
       "       [ True,  True,  True,  True,  True],\n",
       "       [ True,  True,  True,  True,  True],\n",
       "       [ True,  True,  True,  True,  True]])"
      ]
     },
     "execution_count": 68,
     "metadata": {},
     "output_type": "execute_result"
    }
   ],
   "source": [
    "res_np==mult"
   ]
  },
  {
   "cell_type": "code",
   "execution_count": 69,
   "id": "315f252f",
   "metadata": {},
   "outputs": [
    {
     "data": {
      "text/plain": [
       "array([[0., 0., 0., 0., 0.],\n",
       "       [0., 0., 0., 0., 0.],\n",
       "       [0., 0., 0., 0., 0.],\n",
       "       [0., 0., 0., 0., 0.],\n",
       "       [0., 0., 0., 0., 0.],\n",
       "       [0., 0., 0., 0., 0.],\n",
       "       [0., 0., 0., 0., 0.],\n",
       "       [0., 0., 0., 0., 0.]], dtype=float32)"
      ]
     },
     "execution_count": 69,
     "metadata": {},
     "output_type": "execute_result"
    }
   ],
   "source": [
    "res_np-mult"
   ]
  },
  {
   "cell_type": "code",
   "execution_count": 70,
   "id": "3cc1c589",
   "metadata": {},
   "outputs": [
    {
     "data": {
      "text/plain": [
       "(8, 5)"
      ]
     },
     "execution_count": 70,
     "metadata": {},
     "output_type": "execute_result"
    }
   ],
   "source": [
    "res_np.shape"
   ]
  },
  {
   "cell_type": "code",
   "execution_count": 71,
   "id": "7c621598",
   "metadata": {},
   "outputs": [
    {
     "data": {
      "text/plain": [
       "(8, 5)"
      ]
     },
     "execution_count": 71,
     "metadata": {},
     "output_type": "execute_result"
    }
   ],
   "source": [
    "mult.shape"
   ]
  },
  {
   "cell_type": "markdown",
   "id": "2432487e",
   "metadata": {},
   "source": [
    "## MatMul2 (dense * sparse)"
   ]
  },
  {
   "cell_type": "markdown",
   "id": "ffdca101",
   "metadata": {},
   "source": [
    "wdata_buf = cl.Buffer(ctx, mf.READ_WRITE | mf.COPY_HOST_PTR, hostbuf=wdata)\n",
    "wcols_buf = cl.Buffer(ctx, mf.READ_WRITE | mf.COPY_HOST_PTR, hostbuf=wcols)\n",
    "wnnzs_buf = cl.Buffer(ctx, mf.READ_WRITE | mf.COPY_HOST_PTR, hostbuf=wnnz)\n",
    "wdatat_buf = cl.Buffer(ctx, mf.READ_WRITE | mf.COPY_HOST_PTR, hostbuf=wdatat)\n",
    "wcolst_buf = cl.Buffer(ctx, mf.READ_WRITE | mf.COPY_HOST_PTR, hostbuf=wcolst)\n",
    "wnnzst_buf = cl.Buffer(ctx, mf.READ_WRITE | mf.COPY_HOST_PTR, hostbuf=wnnzt)\n",
    "x_buf = cl.Buffer(ctx, mf.READ_WRITE | mf.COPY_HOST_PTR, hostbuf=x_init)\n",
    "\n",
    "prg = cl.Program(ctx, \"\"\"\n",
    "    // DENSE x SPARSE-T\n",
    "    __kernel void matmul2(__global  float* matData,     // INPUT MATRIX DATA\n",
    "                            __global  uint*  colIdx,\n",
    "                            __global  uint*  rowNnz,\n",
    "                            uint   ellwidth,\n",
    "                            uint   mwidth,\n",
    "                            uint   ncols,\n",
    "                            __global  float* vector_x,    // INPUT\n",
    "                            __global  float* vector_y    // OUTPUT\n",
    "                            ) { // LOCAL SHARED BUFFER\n",
    "      uint gid = get_global_id(0);\n",
    "      uint nrows = get_global_size(0);\n",
    "      uint nnz = rowNnz[gid];\n",
    "\n",
    "      for (uint gid2 = 0; gid2 < ncols; gid2++) {\n",
    "        float sum = 0;\n",
    "        for (uint i = 0; i < nnz; i++) {\n",
    "          uint index   = (gid * ellwidth) + i;\n",
    "          uint col     = colIdx[index];\n",
    "          float aval  = matData[index];\n",
    "          float xval  = vector_x[gid2*ncols+col];\n",
    "          sum  += aval * xval;\n",
    "          if (gid==0 && gid2==1)\n",
    "            printf(\"aval, xval: %.2f,%.2f - %.2f: (%i,%i) \\\\n\", aval, xval, sum, col, index);\n",
    "        }\n",
    "        //printf(\"SUM/NNZ: %.2f %i \\\\n\", sum, nnz);\n",
    "        vector_y[gid2*ncols+gid] = sum;\n",
    "      }\n",
    "    }\"\"\").build()"
   ]
  },
  {
   "cell_type": "code",
   "execution_count": 72,
   "id": "622ee80e",
   "metadata": {},
   "outputs": [],
   "source": [
    "wdata_buf = cl.Buffer(ctx, mf.READ_WRITE | mf.COPY_HOST_PTR, hostbuf=wdata)\n",
    "wcols_buf = cl.Buffer(ctx, mf.READ_WRITE | mf.COPY_HOST_PTR, hostbuf=wcols)\n",
    "wnnzs_buf = cl.Buffer(ctx, mf.READ_WRITE | mf.COPY_HOST_PTR, hostbuf=wnnz)\n",
    "wdatat_buf = cl.Buffer(ctx, mf.READ_WRITE | mf.COPY_HOST_PTR, hostbuf=wdatat)\n",
    "wcolst_buf = cl.Buffer(ctx, mf.READ_WRITE | mf.COPY_HOST_PTR, hostbuf=wcolst)\n",
    "wnnzst_buf = cl.Buffer(ctx, mf.READ_WRITE | mf.COPY_HOST_PTR, hostbuf=wnnzt)\n",
    "x_buf = cl.Buffer(ctx, mf.READ_WRITE | mf.COPY_HOST_PTR, hostbuf=x_init)\n",
    "\n",
    "prg = cl.Program(ctx, \"\"\"\n",
    "    // DENSE x SPARSE-T\n",
    "    __kernel void matmul2(__global  float* matData,     // INPUT MATRIX DATA\n",
    "                            __global  uint*  colIdx,\n",
    "                            __global  uint*  rowNnz,\n",
    "                            uint   ellwidth,\n",
    "                            uint   mwidth,\n",
    "                            uint   ncols0,\n",
    "                            __global  float* vector_x,    // INPUT\n",
    "                            __global  float* vector_y    // OUTPUT\n",
    "                            ) { // LOCAL SHARED BUFFER\n",
    "      uint gid = get_global_id(0);\n",
    "      uint nrows = get_global_size(0);\n",
    "      uint nnz = rowNnz[gid];\n",
    "      uint gid2 = get_global_id(1);\n",
    "      uint ncols = get_global_size(1);\n",
    "\n",
    "      float sum = 0;\n",
    "      for (uint i = 0; i < nnz; i++) {\n",
    "        uint index   = (gid2 * ellwidth) + i;\n",
    "        uint col     = colIdx[index];\n",
    "        float aval  = matData[index];\n",
    "        float xval  = vector_x[gid*mwidth+col];\n",
    "        sum  += aval * xval;\n",
    "        if (gid==1 && gid2==0) {\n",
    "          printf(\"aval, xval: %.2f,%.2f - %.2f: (%i,%i) \\\\n\", aval, xval, sum, col, index);\n",
    "        }\n",
    "      }\n",
    "      //printf(\"SUM/NNZ: %.2f %i \\\\n\", sum, nnz);\n",
    "      vector_y[gid*ncols+gid2] = sum;\n",
    "    }\"\"\").build()"
   ]
  },
  {
   "cell_type": "code",
   "execution_count": 73,
   "id": "61a52e82",
   "metadata": {},
   "outputs": [
    {
     "data": {
      "text/plain": [
       "array([8, 5])"
      ]
     },
     "execution_count": 73,
     "metadata": {},
     "output_type": "execute_result"
    }
   ],
   "source": [
    "outshape"
   ]
  },
  {
   "cell_type": "code",
   "execution_count": 74,
   "id": "5158a87f",
   "metadata": {},
   "outputs": [],
   "source": [
    "w_init.shape, x_init.shape\n",
    "w = w_init\n",
    "x = x_init"
   ]
  },
  {
   "cell_type": "code",
   "execution_count": 75,
   "id": "3f4f6639",
   "metadata": {},
   "outputs": [],
   "source": [
    "res = np.zeros(w.shape[0]).astype(np.float32)\n",
    "#res"
   ]
  },
  {
   "cell_type": "code",
   "execution_count": 76,
   "id": "25f573a1",
   "metadata": {},
   "outputs": [],
   "source": [
    "rows = w.shape[0]"
   ]
  },
  {
   "cell_type": "code",
   "execution_count": 77,
   "id": "a9a22c41",
   "metadata": {},
   "outputs": [],
   "source": [
    "mult = mult.astype(np.float32)"
   ]
  },
  {
   "cell_type": "code",
   "execution_count": 78,
   "id": "016a02ac",
   "metadata": {},
   "outputs": [
    {
     "data": {
      "text/plain": [
       "array([ 8, 16])"
      ]
     },
     "execution_count": 78,
     "metadata": {},
     "output_type": "execute_result"
    }
   ],
   "source": [
    "outshape = np.array([x.shape[0], w.shape[0]])\n",
    "outshape"
   ]
  },
  {
   "cell_type": "code",
   "execution_count": 79,
   "id": "9802f037",
   "metadata": {},
   "outputs": [
    {
     "data": {
      "text/plain": [
       "<pyopencl._cl.NannyEvent at 0x7fd7f034a090>"
      ]
     },
     "execution_count": 79,
     "metadata": {},
     "output_type": "execute_result"
    },
    {
     "name": "stdout",
     "output_type": "stream",
     "text": [
      "aval, xval: -0.66,-0.48 - 0.32: (0,0) \n",
      "aval, xval: -0.06,-1.52 - 0.40: (1,1) \n",
      "aval, xval: -0.50,-0.49 - 0.65: (2,2) \n",
      "aval, xval: 0.44,-0.24 - 0.54: (3,3) \n",
      "aval, xval: -0.38,-0.65 - 0.79: (4,4) \n"
     ]
    }
   ],
   "source": [
    "res_buf = cl.Buffer(ctx, mf.READ_WRITE, np.prod(outshape)*4)\n",
    "knl = prg.matmul2  # Use this Kernel object for repeated calls\n",
    "knl(queue, outshape, None, wdata_buf, wcols_buf, wnnzs_buf, np.uint32(ellww), np.uint32(w.shape[1]), np.uint32(x.shape[1]), x_buf, res_buf)\n",
    "\n",
    "res_np = np.zeros(outshape).astype(np.float32)\n",
    "cl.enqueue_copy(queue, res_np, res_buf)"
   ]
  },
  {
   "cell_type": "code",
   "execution_count": 80,
   "id": "75ddcdec",
   "metadata": {},
   "outputs": [
    {
     "data": {
      "text/plain": [
       "(8, 16)"
      ]
     },
     "execution_count": 80,
     "metadata": {},
     "output_type": "execute_result"
    }
   ],
   "source": [
    "mult = x.dot(w_init.T)\n",
    "mult.shape"
   ]
  },
  {
   "cell_type": "code",
   "execution_count": 81,
   "id": "87893c32",
   "metadata": {},
   "outputs": [
    {
     "data": {
      "text/plain": [
       "array([[ 0.71005666, -0.6922365 ,  1.958061  ,  1.258677  ,  3.463459  ,\n",
       "        -0.3478019 ,  0.08231293, -0.04464556, -0.03240513,  1.8573855 ,\n",
       "        -1.0835508 , -0.9068153 , -0.20014307, -1.5690712 , -1.1520894 ,\n",
       "         0.6737664 ],\n",
       "       [ 0.7850611 , -2.7718844 ,  3.8869042 ,  1.7455592 ,  2.9286547 ,\n",
       "        -1.3900536 ,  0.8452302 ,  0.59935635,  0.31789836, -0.3896514 ,\n",
       "        -0.80347735, -2.0294168 , -0.19058926, -1.6315975 , -3.2396262 ,\n",
       "        -0.37664318],\n",
       "       [-1.0399084 ,  3.7561824 , -8.091907  , -2.4692414 , -2.1408994 ,\n",
       "         4.37048   , -1.9433106 ,  0.41747692,  0.1287814 ,  0.7065758 ,\n",
       "         0.89383984,  3.3977637 , -0.99121714,  2.0500147 ,  5.0695367 ,\n",
       "         0.4186813 ],\n",
       "       [-0.46678752,  3.8533442 , -3.8412805 , -1.7131798 ,  1.1737914 ,\n",
       "         3.4516523 , -0.6000567 , -0.39082292, -0.56545794,  1.7348484 ,\n",
       "        -0.43604594,  3.096307  , -1.2181851 ,  0.24772911,  2.8284123 ,\n",
       "         3.1381838 ],\n",
       "       [-0.93206084, -0.5172032 , -3.6007562 , -0.83893746, -1.3561333 ,\n",
       "         1.9431857 , -1.7945851 ,  0.68644726,  0.11609697, -0.56989443,\n",
       "         1.3025523 , -0.53716886,  0.29801258,  0.5033861 ,  1.9169436 ,\n",
       "        -1.7765863 ],\n",
       "       [ 0.6259611 , -0.72817993,  6.6333513 ,  1.1633917 , -2.5920439 ,\n",
       "        -5.787668  ,  1.9857233 , -2.115871  , -0.64434886,  0.01168538,\n",
       "        -0.20903097, -1.6083169 ,  2.2167716 ,  0.07515528, -2.3109767 ,\n",
       "        -0.27382538],\n",
       "       [ 0.93874276,  5.580915  ,  3.1463914 , -0.33641425,  3.2732484 ,\n",
       "        -0.73875856,  2.0081086 , -2.885872  , -1.5492666 ,  4.580235  ,\n",
       "        -2.609913  ,  3.497382  , -0.55318284, -1.0184405 ,  0.51222634,\n",
       "         6.675718  ],\n",
       "       [-0.71463346,  2.0752609 , -7.8908043 , -1.693083  , -4.1171207 ,\n",
       "         2.6337998 , -1.9107202 ,  0.9698713 ,  0.9303082 , -0.3308521 ,\n",
       "         1.3577005 ,  2.3961716 , -0.4844498 ,  2.930706  ,  4.537708  ,\n",
       "        -2.2851508 ]], dtype=float32)"
      ]
     },
     "execution_count": 81,
     "metadata": {},
     "output_type": "execute_result"
    }
   ],
   "source": [
    "mult"
   ]
  },
  {
   "cell_type": "code",
   "execution_count": 82,
   "id": "aca22565",
   "metadata": {},
   "outputs": [
    {
     "data": {
      "text/plain": [
       "array([[ 0.71005666, -0.6922365 ,  1.958061  ,  1.258677  ,  3.463459  ,\n",
       "        -0.3478019 ,  0.08231293, -0.04464556, -0.03240513,  1.8573855 ,\n",
       "        -1.0835508 , -0.9068153 , -0.20014307, -1.5690712 , -1.1520894 ,\n",
       "         0.6737664 ],\n",
       "       [ 0.7850611 , -2.7718844 ,  3.8869042 ,  1.7455592 ,  2.9286547 ,\n",
       "        -1.3900536 ,  0.8452302 ,  0.59935635,  0.31789836, -0.3896514 ,\n",
       "        -0.80347735, -2.0294168 , -0.19058926, -1.6315975 , -3.2396262 ,\n",
       "        -0.37664318],\n",
       "       [-1.0399084 ,  3.7561824 , -8.091907  , -2.4692414 , -2.1408994 ,\n",
       "         4.37048   , -1.9433106 ,  0.41747692,  0.1287814 ,  0.7065758 ,\n",
       "         0.89383984,  3.3977637 , -0.99121714,  2.0500147 ,  5.0695367 ,\n",
       "         0.4186813 ],\n",
       "       [-0.46678752,  3.8533442 , -3.8412805 , -1.7131798 ,  1.1737914 ,\n",
       "         3.4516523 , -0.6000567 , -0.39082292, -0.56545794,  1.7348484 ,\n",
       "        -0.43604594,  3.096307  , -1.2181851 ,  0.24772911,  2.8284123 ,\n",
       "         3.1381838 ],\n",
       "       [-0.93206084, -0.5172032 , -3.6007562 , -0.83893746, -1.3561333 ,\n",
       "         1.9431857 , -1.7945851 ,  0.68644726,  0.11609697, -0.56989443,\n",
       "         1.3025523 , -0.53716886,  0.29801258,  0.5033861 ,  1.9169436 ,\n",
       "        -1.7765863 ],\n",
       "       [ 0.6259611 , -0.72817993,  6.6333513 ,  1.1633917 , -2.5920439 ,\n",
       "        -5.787668  ,  1.9857233 , -2.115871  , -0.64434886,  0.01168538,\n",
       "        -0.20903097, -1.6083169 ,  2.2167716 ,  0.07515528, -2.3109767 ,\n",
       "        -0.27382538],\n",
       "       [ 0.93874276,  5.580915  ,  3.1463914 , -0.33641425,  3.2732484 ,\n",
       "        -0.73875856,  2.0081086 , -2.885872  , -1.5492666 ,  4.580235  ,\n",
       "        -2.609913  ,  3.497382  , -0.55318284, -1.0184405 ,  0.51222634,\n",
       "         6.675718  ],\n",
       "       [-0.71463346,  2.0752609 , -7.8908043 , -1.693083  , -4.1171207 ,\n",
       "         2.6337998 , -1.9107202 ,  0.9698713 ,  0.9303082 , -0.3308521 ,\n",
       "         1.3577005 ,  2.3961716 , -0.4844498 ,  2.930706  ,  4.537708  ,\n",
       "        -2.2851508 ]], dtype=float32)"
      ]
     },
     "execution_count": 82,
     "metadata": {},
     "output_type": "execute_result"
    }
   ],
   "source": [
    "res_np"
   ]
  },
  {
   "cell_type": "code",
   "execution_count": 83,
   "id": "b1b01085",
   "metadata": {},
   "outputs": [
    {
     "data": {
      "text/plain": [
       "array([[ 1.1085547e-03, -2.8954408e-01, -1.1160663e+00, -1.2882757e-02,\n",
       "        -3.7836146e-01],\n",
       "       [-4.8113537e-01, -1.5173311e+00, -4.9087200e-01, -2.4068058e-01,\n",
       "        -6.4794743e-01],\n",
       "       [ 6.3589108e-01,  1.7401173e+00,  2.9668221e-01,  7.0750368e-01,\n",
       "         1.8228158e+00],\n",
       "       [ 4.3076903e-01,  1.5427296e+00, -9.0072119e-01, -1.3712502e-01,\n",
       "         1.2975791e+00],\n",
       "       [ 6.7527115e-01,  3.1958118e-02,  9.1814590e-01,  3.8050947e-01,\n",
       "         5.1636750e-01],\n",
       "       [-3.5523945e-01,  2.0877700e-01,  3.2841107e-01, -4.9822477e-01,\n",
       "        -2.0917768e+00],\n",
       "       [-8.2587741e-02,  2.4551826e+00, -2.6721101e+00, -9.1327929e-01,\n",
       "        -2.2731435e-01],\n",
       "       [ 2.6931539e-01,  1.1304612e+00,  1.0423975e+00,  1.3038105e+00,\n",
       "         1.3894007e+00]], dtype=float32)"
      ]
     },
     "execution_count": 83,
     "metadata": {},
     "output_type": "execute_result"
    }
   ],
   "source": [
    "x"
   ]
  },
  {
   "cell_type": "code",
   "execution_count": 84,
   "id": "7a2bc717",
   "metadata": {},
   "outputs": [
    {
     "data": {
      "text/plain": [
       "array([[-6.56452596e-01, -5.62572964e-02, -4.99902606e-01,\n",
       "         4.36419368e-01, -3.75813037e-01],\n",
       "       [-9.23061609e-01,  1.91725028e+00, -1.50302842e-01,\n",
       "        -6.38729751e-01,  8.24770331e-01],\n",
       "       [-1.21083879e+00, -5.03405392e-01, -7.01915681e-01,\n",
       "        -1.97427106e+00, -2.65573215e+00],\n",
       "       [-5.76822497e-02, -6.56186581e-01, -6.61706686e-01,\n",
       "         7.69348443e-01, -8.99004877e-01],\n",
       "       [ 1.69363797e+00, -1.69733524e+00, -2.79337025e+00,\n",
       "        -2.26150647e-01,  3.97428840e-01],\n",
       "       [ 1.65970361e+00, -4.93746817e-01, -3.76097679e-01,\n",
       "        -1.69739768e-01,  2.41710639e+00],\n",
       "       [-1.80884051e+00,  3.39751154e-01, -2.27297600e-02,\n",
       "        -9.59997058e-01, -3.83114427e-01],\n",
       "       [ 1.09529994e-01, -8.55162859e-01,  2.21606664e-04,\n",
       "         6.63855076e-01,  7.49480963e-01],\n",
       "       [-4.65818375e-01, -2.77439266e-01,  3.54995355e-02,\n",
       "         8.48221183e-01,  1.62998557e-01],\n",
       "       [ 1.20862365e+00,  5.02520800e-01, -1.58382213e+00,\n",
       "         1.02303350e+00, -6.53017402e-01],\n",
       "       [ 5.37045121e-01, -7.97706190e-03,  9.24784184e-01,\n",
       "         4.66083325e-02,  1.42019868e-01],\n",
       "       [-1.65366137e+00,  1.36799216e+00,  2.51062457e-02,\n",
       "        -3.95482242e-01,  1.28438759e+00],\n",
       "       [ 5.61277032e-01,  2.39725500e-01,  4.79899108e-01,\n",
       "         6.17529526e-02, -1.07051229e+00],\n",
       "       [-1.27321005e+00,  9.20076132e-01,  1.05491853e+00,\n",
       "         5.40288031e-01,  3.09063524e-01],\n",
       "       [ 9.70861197e-01,  1.15472412e+00,  4.22608823e-01,\n",
       "         9.99208927e-01,  8.83520246e-01],\n",
       "       [-5.30199170e-01,  8.14134836e-01, -1.01988423e+00,\n",
       "        -2.25823689e+00,  6.79954886e-01]], dtype=float32)"
      ]
     },
     "execution_count": 84,
     "metadata": {},
     "output_type": "execute_result"
    }
   ],
   "source": [
    "w"
   ]
  },
  {
   "cell_type": "code",
   "execution_count": 85,
   "id": "25bff0bb",
   "metadata": {},
   "outputs": [
    {
     "data": {
      "text/plain": [
       "0.0"
      ]
     },
     "execution_count": 85,
     "metadata": {},
     "output_type": "execute_result"
    }
   ],
   "source": [
    "(res_np-mult).sum()"
   ]
  },
  {
   "cell_type": "code",
   "execution_count": 86,
   "id": "4b476526",
   "metadata": {},
   "outputs": [
    {
     "data": {
      "text/plain": [
       "array([[ 0.71005666, -0.6922365 ,  1.958061  ,  1.258677  ,  3.463459  ,\n",
       "        -0.3478019 ,  0.08231293, -0.04464556, -0.03240513,  1.8573855 ,\n",
       "        -1.0835508 , -0.9068153 , -0.20014307, -1.5690712 , -1.1520894 ,\n",
       "         0.6737664 ],\n",
       "       [ 0.7850611 , -2.7718844 ,  3.8869042 ,  1.7455592 ,  2.9286547 ,\n",
       "        -1.3900536 ,  0.8452302 ,  0.59935635,  0.31789836, -0.3896514 ,\n",
       "        -0.80347735, -2.0294168 , -0.19058926, -1.6315975 , -3.2396262 ,\n",
       "        -0.37664318],\n",
       "       [-1.0399084 ,  3.7561824 , -8.091907  , -2.4692414 , -2.1408994 ,\n",
       "         4.37048   , -1.9433106 ,  0.41747692,  0.1287814 ,  0.7065758 ,\n",
       "         0.89383984,  3.3977637 , -0.99121714,  2.0500147 ,  5.0695367 ,\n",
       "         0.4186813 ],\n",
       "       [-0.46678752,  3.8533442 , -3.8412805 , -1.7131798 ,  1.1737914 ,\n",
       "         3.4516523 , -0.6000567 , -0.39082292, -0.56545794,  1.7348484 ,\n",
       "        -0.43604594,  3.096307  , -1.2181851 ,  0.24772911,  2.8284123 ,\n",
       "         3.1381838 ],\n",
       "       [-0.93206084, -0.5172032 , -3.6007562 , -0.83893746, -1.3561333 ,\n",
       "         1.9431857 , -1.7945851 ,  0.68644726,  0.11609697, -0.56989443,\n",
       "         1.3025523 , -0.53716886,  0.29801258,  0.5033861 ,  1.9169436 ,\n",
       "        -1.7765863 ],\n",
       "       [ 0.6259611 , -0.72817993,  6.6333513 ,  1.1633917 , -2.5920439 ,\n",
       "        -5.787668  ,  1.9857233 , -2.115871  , -0.64434886,  0.01168538,\n",
       "        -0.20903097, -1.6083169 ,  2.2167716 ,  0.07515528, -2.3109767 ,\n",
       "        -0.27382538],\n",
       "       [ 0.93874276,  5.580915  ,  3.1463914 , -0.33641425,  3.2732484 ,\n",
       "        -0.73875856,  2.0081086 , -2.885872  , -1.5492666 ,  4.580235  ,\n",
       "        -2.609913  ,  3.497382  , -0.55318284, -1.0184405 ,  0.51222634,\n",
       "         6.675718  ],\n",
       "       [-0.71463346,  2.0752609 , -7.8908043 , -1.693083  , -4.1171207 ,\n",
       "         2.6337998 , -1.9107202 ,  0.9698713 ,  0.9303082 , -0.3308521 ,\n",
       "         1.3577005 ,  2.3961716 , -0.4844498 ,  2.930706  ,  4.537708  ,\n",
       "        -2.2851508 ]], dtype=float32)"
      ]
     },
     "execution_count": 86,
     "metadata": {},
     "output_type": "execute_result"
    }
   ],
   "source": [
    "mult"
   ]
  },
  {
   "cell_type": "code",
   "execution_count": 87,
   "id": "7c27301f",
   "metadata": {},
   "outputs": [
    {
     "data": {
      "text/plain": [
       "array([[ True,  True,  True,  True,  True,  True,  True,  True,  True,\n",
       "         True,  True,  True,  True,  True,  True,  True],\n",
       "       [ True,  True,  True,  True,  True,  True,  True,  True,  True,\n",
       "         True,  True,  True,  True,  True,  True,  True],\n",
       "       [ True,  True,  True,  True,  True,  True,  True,  True,  True,\n",
       "         True,  True,  True,  True,  True,  True,  True],\n",
       "       [ True,  True,  True,  True,  True,  True,  True,  True,  True,\n",
       "         True,  True,  True,  True,  True,  True,  True],\n",
       "       [ True,  True,  True,  True,  True,  True,  True,  True,  True,\n",
       "         True,  True,  True,  True,  True,  True,  True],\n",
       "       [ True,  True,  True,  True,  True,  True,  True,  True,  True,\n",
       "         True,  True,  True,  True,  True,  True,  True],\n",
       "       [ True,  True,  True,  True,  True,  True,  True,  True,  True,\n",
       "         True,  True,  True,  True,  True,  True,  True],\n",
       "       [ True,  True,  True,  True,  True,  True,  True,  True,  True,\n",
       "         True,  True,  True,  True,  True,  True,  True]])"
      ]
     },
     "execution_count": 87,
     "metadata": {},
     "output_type": "execute_result"
    }
   ],
   "source": [
    "res_np==mult"
   ]
  },
  {
   "cell_type": "code",
   "execution_count": 88,
   "id": "2895fd1c",
   "metadata": {},
   "outputs": [
    {
     "data": {
      "text/plain": [
       "array([[0., 0., 0., 0., 0., 0., 0., 0., 0., 0., 0., 0., 0., 0., 0., 0.],\n",
       "       [0., 0., 0., 0., 0., 0., 0., 0., 0., 0., 0., 0., 0., 0., 0., 0.],\n",
       "       [0., 0., 0., 0., 0., 0., 0., 0., 0., 0., 0., 0., 0., 0., 0., 0.],\n",
       "       [0., 0., 0., 0., 0., 0., 0., 0., 0., 0., 0., 0., 0., 0., 0., 0.],\n",
       "       [0., 0., 0., 0., 0., 0., 0., 0., 0., 0., 0., 0., 0., 0., 0., 0.],\n",
       "       [0., 0., 0., 0., 0., 0., 0., 0., 0., 0., 0., 0., 0., 0., 0., 0.],\n",
       "       [0., 0., 0., 0., 0., 0., 0., 0., 0., 0., 0., 0., 0., 0., 0., 0.],\n",
       "       [0., 0., 0., 0., 0., 0., 0., 0., 0., 0., 0., 0., 0., 0., 0., 0.]],\n",
       "      dtype=float32)"
      ]
     },
     "execution_count": 88,
     "metadata": {},
     "output_type": "execute_result"
    }
   ],
   "source": [
    "res_np-mult"
   ]
  },
  {
   "cell_type": "code",
   "execution_count": 89,
   "id": "85267e65",
   "metadata": {},
   "outputs": [
    {
     "data": {
      "text/plain": [
       "(8, 16)"
      ]
     },
     "execution_count": 89,
     "metadata": {},
     "output_type": "execute_result"
    }
   ],
   "source": [
    "res_np.shape"
   ]
  },
  {
   "cell_type": "code",
   "execution_count": 90,
   "id": "1985612f",
   "metadata": {},
   "outputs": [
    {
     "data": {
      "text/plain": [
       "(8, 16)"
      ]
     },
     "execution_count": 90,
     "metadata": {},
     "output_type": "execute_result"
    }
   ],
   "source": [
    "mult.shape"
   ]
  },
  {
   "cell_type": "code",
   "execution_count": 91,
   "id": "adc3341a",
   "metadata": {},
   "outputs": [
    {
     "ename": "NameError",
     "evalue": "name 'asdf' is not defined",
     "output_type": "error",
     "traceback": [
      "\u001b[0;31m---------------------------------------------------------------------------\u001b[0m",
      "\u001b[0;31mNameError\u001b[0m                                 Traceback (most recent call last)",
      "\u001b[0;32m/tmp/ipykernel_31620/2827374946.py\u001b[0m in \u001b[0;36m<module>\u001b[0;34m\u001b[0m\n\u001b[0;32m----> 1\u001b[0;31m \u001b[0masdf\u001b[0m\u001b[0;34m\u001b[0m\u001b[0;34m\u001b[0m\u001b[0m\n\u001b[0m",
      "\u001b[0;31mNameError\u001b[0m: name 'asdf' is not defined"
     ]
    }
   ],
   "source": [
    "asdf"
   ]
  },
  {
   "cell_type": "markdown",
   "id": "7aad6088",
   "metadata": {},
   "source": [
    "## MatMul (dense * sparse) NEW"
   ]
  },
  {
   "cell_type": "markdown",
   "id": "f44a4c7a",
   "metadata": {},
   "source": [
    "bdata_buf = cl.Buffer(ctx, mf.READ_WRITE | mf.COPY_HOST_PTR, hostbuf=bdata)\n",
    "bcols_buf = cl.Buffer(ctx, mf.READ_WRITE | mf.COPY_HOST_PTR, hostbuf=bcols)\n",
    "bnnzs_buf = cl.Buffer(ctx, mf.READ_WRITE | mf.COPY_HOST_PTR, hostbuf=bnnz)\n",
    "bdatat_buf = cl.Buffer(ctx, mf.READ_WRITE | mf.COPY_HOST_PTR, hostbuf=bdatat)\n",
    "bcolst_buf = cl.Buffer(ctx, mf.READ_WRITE | mf.COPY_HOST_PTR, hostbuf=bcolst)\n",
    "bnnzst_buf = cl.Buffer(ctx, mf.READ_WRITE | mf.COPY_HOST_PTR, hostbuf=bnnzt)\n",
    "a_buf = cl.Buffer(ctx, mf.READ_WRITE | mf.COPY_HOST_PTR, hostbuf=a)\n",
    "\n",
    "prg = cl.Program(ctx, \"\"\"\n",
    "    // DENSE x SPARSE\n",
    "    __kernel void matmulnew(__global  float* matData,     // INPUT MATRIX DATA\n",
    "                            __global  uint*  colIdx,\n",
    "                            __global  uint*  rowNnz,\n",
    "                            uint   ellwidth,\n",
    "                            uint   mwidth,\n",
    "                            __global  float* vector_x,    // INPUT\n",
    "                            __global  float* vector_y    // OUTPUT\n",
    "                            ) { // LOCAL SHARED BUFFER\n",
    "      uint gid = get_global_id(0);\n",
    "      uint nrows = get_global_size(0);\n",
    "      uint gid2 = get_global_id(1);\n",
    "      uint ncols = get_global_size(1);\n",
    "      uint nnz = rowNnz[gid2];\n",
    "      float sum = 0;\n",
    "      for (uint i = 0; i < nnz; i++) {\n",
    "        uint index   = (gid2 * ellwidth) + i;\n",
    "        uint col     = colIdx[index];\n",
    "        float aval  = matData[index];\n",
    "        float xval  = vector_x[gid*mwidth+col];\n",
    "        vector_y[gid2*nrows+gid] += aval * xval;\n",
    "        if (gid==0 && gid2==0)\n",
    "          printf(\"aval, xval: %.2f,%.2f - %.2f: (%i,%i) \\\\n\", aval, xval, sum, col, index);\n",
    "        //printf(\"SUM/NNZ: %.2f %i \\\\n\", sum, nnz);\n",
    "        \n",
    "      }\n",
    "      \n",
    "    }\"\"\").build()"
   ]
  },
  {
   "cell_type": "code",
   "execution_count": null,
   "id": "663eb854",
   "metadata": {},
   "outputs": [],
   "source": [
    "mult = a.dot(b)\n",
    "mult"
   ]
  },
  {
   "cell_type": "code",
   "execution_count": null,
   "id": "4aa4d149",
   "metadata": {},
   "outputs": [],
   "source": [
    "bdata_buf = cl.Buffer(ctx, mf.READ_WRITE | mf.COPY_HOST_PTR, hostbuf=data)\n",
    "bcols_buf = cl.Buffer(ctx, mf.READ_WRITE | mf.COPY_HOST_PTR, hostbuf=bcols)\n",
    "bnnzs_buf = cl.Buffer(ctx, mf.READ_WRITE | mf.COPY_HOST_PTR, hostbuf=bnnz)\n",
    "bdatat_buf = cl.Buffer(ctx, mf.READ_WRITE | mf.COPY_HOST_PTR, hostbuf=bdatat)\n",
    "bcolst_buf = cl.Buffer(ctx, mf.READ_WRITE | mf.COPY_HOST_PTR, hostbuf=bcolst)\n",
    "bnnzst_buf = cl.Buffer(ctx, mf.READ_WRITE | mf.COPY_HOST_PTR, hostbuf=bnnzt)\n",
    "a_buf = cl.Buffer(ctx, mf.READ_WRITE | mf.COPY_HOST_PTR, hostbuf=a)\n",
    "\n",
    "prg = cl.Program(ctx, \"\"\"\n",
    "    // DENSE x SPARSE\n",
    "    __kernel void matmulnew(__global  float* matData,     // INPUT MATRIX DATA\n",
    "                            __global  uint*  colIdx,\n",
    "                            __global  uint*  rowNnz,\n",
    "                            uint   ellwidth,\n",
    "                            uint   mwidth,\n",
    "                            __global  float* vector_x,    // INPUT\n",
    "                            __global  float* vector_y    // OUTPUT\n",
    "                            ) { // LOCAL SHARED BUFFER\n",
    "      uint gid = get_global_id(0);\n",
    "      uint nrows = get_global_size(0);\n",
    "      uint gid2 = get_global_id(1);\n",
    "      uint ncols = get_global_size(1);\n",
    "      uint nnz = rowNnz[gid2];\n",
    "      float sum = 0;\n",
    "      for (uint i = 0; i < nnz; i++) {\n",
    "        uint index   = (gid2 * ellwidth) + i;\n",
    "        uint col     = colIdx[index];\n",
    "        float aval  = matData[index];\n",
    "        float xval  = vector_x[gid*mwidth+col];\n",
    "        sum  += aval * xval;\n",
    "        if (gid==1 && gid2==0)\n",
    "          printf(\"aval, xval: %.2f,%.2f - %.2f: (%i,%i) \\\\n\", aval, xval, sum, col, index);\n",
    "        //printf(\"SUM/NNZ: %.2f %i \\\\n\", sum, nnz);\n",
    "      }\n",
    "      vector_y[gid2*ncols+gid] = sum;\n",
    "    }\"\"\").build()"
   ]
  },
  {
   "cell_type": "code",
   "execution_count": null,
   "id": "e547428c",
   "metadata": {},
   "outputs": [],
   "source": [
    "a.shape, b.shape"
   ]
  },
  {
   "cell_type": "code",
   "execution_count": null,
   "id": "b5220c53",
   "metadata": {},
   "outputs": [],
   "source": [
    "res = np.zeros(a.shape[0]).astype(np.float32)\n",
    "#res"
   ]
  },
  {
   "cell_type": "code",
   "execution_count": null,
   "id": "fb743cc5",
   "metadata": {},
   "outputs": [],
   "source": [
    "rows = a.shape[0]"
   ]
  },
  {
   "cell_type": "code",
   "execution_count": null,
   "id": "86b29c18",
   "metadata": {},
   "outputs": [],
   "source": [
    "mult = mult.astype(np.float32)"
   ]
  },
  {
   "cell_type": "code",
   "execution_count": null,
   "id": "815716c7",
   "metadata": {},
   "outputs": [],
   "source": [
    "outshape = np.array([a.shape[0], b.shape[1]])\n",
    "outshape"
   ]
  },
  {
   "cell_type": "code",
   "execution_count": null,
   "id": "ab35e1f0",
   "metadata": {},
   "outputs": [],
   "source": [
    "b.T"
   ]
  },
  {
   "cell_type": "code",
   "execution_count": null,
   "id": "e362c04c",
   "metadata": {},
   "outputs": [],
   "source": [
    "a"
   ]
  },
  {
   "cell_type": "code",
   "execution_count": null,
   "id": "e7ab9a76",
   "metadata": {},
   "outputs": [],
   "source": [
    "res_buf = cl.Buffer(ctx, mf.READ_WRITE, np.prod(outshape)*4)\n",
    "knl = prg.matmulnew  # Use this Kernel object for repeated calls\n",
    "knl(queue, outshape, None, bdatat_buf, bcolst_buf, bnnzst_buf, np.uint32(ellwbt), np.uint32(b.shape[0]), a_buf, res_buf)\n",
    "\n",
    "res_np = np.zeros((outshape[0],)).astype(np.float32)\n",
    "print(res_np.shape)\n",
    "cl.enqueue_copy(queue, res_np, res_buf)"
   ]
  },
  {
   "cell_type": "code",
   "execution_count": null,
   "id": "67eeff65",
   "metadata": {},
   "outputs": [],
   "source": [
    "(res_np-mult.T).sum()"
   ]
  },
  {
   "cell_type": "code",
   "execution_count": null,
   "id": "437bc46f",
   "metadata": {},
   "outputs": [],
   "source": [
    "res_buf"
   ]
  },
  {
   "cell_type": "code",
   "execution_count": null,
   "id": "9035b6b3",
   "metadata": {},
   "outputs": [],
   "source": [
    "res_np.T"
   ]
  },
  {
   "cell_type": "code",
   "execution_count": null,
   "id": "75f2d1d4",
   "metadata": {},
   "outputs": [],
   "source": [
    "mult"
   ]
  },
  {
   "cell_type": "code",
   "execution_count": null,
   "id": "aa862e0f",
   "metadata": {},
   "outputs": [],
   "source": [
    "res_np-mult.T"
   ]
  },
  {
   "cell_type": "code",
   "execution_count": null,
   "id": "25d376fc",
   "metadata": {},
   "outputs": [],
   "source": [
    "res_np.shape"
   ]
  },
  {
   "cell_type": "code",
   "execution_count": null,
   "id": "fa077d86",
   "metadata": {},
   "outputs": [],
   "source": [
    "mult.shape"
   ]
  },
  {
   "cell_type": "code",
   "execution_count": null,
   "id": "e68ad518",
   "metadata": {},
   "outputs": [],
   "source": [
    "asdf"
   ]
  },
  {
   "cell_type": "markdown",
   "id": "cdc9f0be",
   "metadata": {},
   "source": [
    "# Matmult Dense Dense"
   ]
  },
  {
   "cell_type": "code",
   "execution_count": null,
   "id": "d3eeacb6",
   "metadata": {},
   "outputs": [],
   "source": [
    "b_buf2 = cl.Buffer(ctx, mf.READ_WRITE | mf.COPY_HOST_PTR, hostbuf=b)\n",
    "a_buf = cl.Buffer(ctx, mf.READ_WRITE | mf.COPY_HOST_PTR, hostbuf=a)\n",
    "\n",
    "prg = cl.Program(ctx, \"\"\"\n",
    "    // multilplies x by y WITH Y TRANSPOSED INDEXING\n",
    "    __kernel void matmul0(__global  float* x,     // INPUT MATRIX DATA\n",
    "                          __global  float* y,    // INPUT\n",
    "                          __global  float* res,    // INPUT\n",
    "                          uint msize\n",
    "                          ) { // LOCAL SHARED BUFFER\n",
    "      uint isize = get_global_size(0);\n",
    "      uint osize = get_global_size(1);\n",
    "      int gidx = get_global_id(0); // row\n",
    "      int gidy = get_global_id(1); // col\n",
    "\n",
    "      float ret = 0.0;\n",
    "      for (int i = 0; i < msize; i++) {\n",
    "        uint xidx = gidx*msize+i; \n",
    "        float xval = x[xidx];\n",
    "        uint yidx = osize*i+gidy;\n",
    "        float yval = y[yidx];\n",
    "        ret += xval*yval;\n",
    "        if (gidx==0 && gidy==0)\n",
    "          printf(\"\\\\nmult: %.2f x %.2f - %.2f  -- %i/%i\", xval, yval, res, xidx, yidx);\n",
    "      }\n",
    "\n",
    "      //if (gidx==0&&gidy==0)\n",
    "      //  printf(\"\\\\nsum:%.2f\", ret);\n",
    "      res[gidx * osize + gidy] = ret;\n",
    "    }\"\"\").build()"
   ]
  },
  {
   "cell_type": "code",
   "execution_count": null,
   "id": "ee0aabda",
   "metadata": {},
   "outputs": [],
   "source": [
    "a.shape, b.shape"
   ]
  },
  {
   "cell_type": "code",
   "execution_count": null,
   "id": "938f25f9",
   "metadata": {},
   "outputs": [],
   "source": [
    "rows = a.shape[0]"
   ]
  },
  {
   "cell_type": "code",
   "execution_count": null,
   "id": "d19122ca",
   "metadata": {},
   "outputs": [],
   "source": [
    "mult = mult.astype(np.float32)"
   ]
  },
  {
   "cell_type": "code",
   "execution_count": null,
   "id": "17176ece",
   "metadata": {},
   "outputs": [],
   "source": [
    "res_buf = cl.Buffer(ctx, mf.READ_WRITE, np.prod([rows,b.shape[1]])*4)\n",
    "knl = prg.matmul0  # Use this Kernel object for repeated calls\n",
    "knl(queue, [rows,b.shape[1]], None, a_buf, b_buf2, res_buf, np.uint32(a.shape[1]))\n",
    "\n",
    "res_np = np.zeros([rows,b.shape[1]]).astype(np.float32)\n",
    "cl.enqueue_copy(queue, res_np, res_buf)"
   ]
  },
  {
   "cell_type": "code",
   "execution_count": null,
   "id": "2e20ef7a",
   "metadata": {},
   "outputs": [],
   "source": [
    "(res_np-mult.T).sum()"
   ]
  },
  {
   "cell_type": "code",
   "execution_count": null,
   "id": "13304b53",
   "metadata": {},
   "outputs": [],
   "source": [
    "a"
   ]
  },
  {
   "cell_type": "code",
   "execution_count": null,
   "id": "1678d389",
   "metadata": {},
   "outputs": [],
   "source": [
    "b"
   ]
  },
  {
   "cell_type": "code",
   "execution_count": null,
   "id": "6afa1b35",
   "metadata": {},
   "outputs": [],
   "source": [
    "res_np"
   ]
  },
  {
   "cell_type": "code",
   "execution_count": null,
   "id": "16178e90",
   "metadata": {},
   "outputs": [],
   "source": [
    "a.dot(b)"
   ]
  },
  {
   "cell_type": "code",
   "execution_count": null,
   "id": "4a9cd845",
   "metadata": {},
   "outputs": [],
   "source": [
    "res_np==mult"
   ]
  },
  {
   "cell_type": "code",
   "execution_count": null,
   "id": "202bd173",
   "metadata": {},
   "outputs": [],
   "source": [
    "res_np.shape"
   ]
  },
  {
   "cell_type": "code",
   "execution_count": null,
   "id": "31d97059",
   "metadata": {},
   "outputs": [],
   "source": [
    "mult.shape"
   ]
  },
  {
   "cell_type": "markdown",
   "id": "740ba01c",
   "metadata": {},
   "source": [
    "# Matmult Dense Transposed"
   ]
  },
  {
   "cell_type": "code",
   "execution_count": null,
   "id": "62bd6037",
   "metadata": {},
   "outputs": [],
   "source": [
    "b"
   ]
  },
  {
   "cell_type": "code",
   "execution_count": null,
   "id": "dc2ef4a9",
   "metadata": {},
   "outputs": [],
   "source": [
    "c=np.zeros(b.T.shape)\n",
    "bt = b.T\n",
    "for row in range(bt.shape[0]):\n",
    "    for col in range(bt.shape[1]):\n",
    "        c[row][col] = bt[row][col]"
   ]
  },
  {
   "cell_type": "code",
   "execution_count": null,
   "id": "ca967ffe",
   "metadata": {},
   "outputs": [],
   "source": [
    "b_buf2 = cl.Buffer(ctx, mf.READ_WRITE | mf.COPY_HOST_PTR, hostbuf=c.astype(np.float32))\n",
    "a_buf = cl.Buffer(ctx, mf.READ_WRITE | mf.COPY_HOST_PTR, hostbuf=a)\n",
    "\n",
    "prg = cl.Program(ctx, \"\"\"\n",
    "    // multilplies x by y WITH Y TRANSPOSED INDEXING\n",
    "    __kernel void matmul0(__global  float* x,     // INPUT MATRIX DATA\n",
    "                          __global  float* y,    // INPUT\n",
    "                          __global  float* res,    // INPUT\n",
    "                          uint msize\n",
    "                          ) { // LOCAL SHARED BUFFER\n",
    "      uint isize = get_global_size(0);\n",
    "      uint osize = get_global_size(1);\n",
    "      int gidx = get_global_id(0); // row\n",
    "      int gidy = get_global_id(1); // col\n",
    "\n",
    "      float ret = 0.0;\n",
    "      for (int i = 0; i < msize; i++) {\n",
    "        uint xidx = gidx*msize+i;\n",
    "        float xval = x[xidx];\n",
    "        uint yidx = msize*gidy+i;\n",
    "        float yval = y[yidx];\n",
    "        ret += xval*yval;\n",
    "        if (gidx==0 && gidy==0)\n",
    "          printf(\"\\\\nmult: %.2f x %.2f - %.2f  -- %i/%i\", xval, yval, res, xidx, yidx);\n",
    "      }\n",
    "\n",
    "      //if (gidx==0&&gidy==0)\n",
    "      //  printf(\"\\\\nsum:%.2f\", ret);\n",
    "      res[gidx * osize + gidy] = ret;\n",
    "    }\"\"\").build()"
   ]
  },
  {
   "cell_type": "code",
   "execution_count": null,
   "id": "a43dbb5d",
   "metadata": {},
   "outputs": [],
   "source": [
    "a.shape, b.T.shape"
   ]
  },
  {
   "cell_type": "code",
   "execution_count": null,
   "id": "fde0973e",
   "metadata": {},
   "outputs": [],
   "source": [
    "rows = a.shape[0]"
   ]
  },
  {
   "cell_type": "code",
   "execution_count": null,
   "id": "56c661f2",
   "metadata": {},
   "outputs": [],
   "source": [
    "mult = mult.astype(np.float32)"
   ]
  },
  {
   "cell_type": "code",
   "execution_count": null,
   "id": "10b1d468",
   "metadata": {},
   "outputs": [],
   "source": [
    "res_buf = cl.Buffer(ctx, mf.READ_WRITE, np.prod([rows,b.shape[1]])*4)\n",
    "knl = prg.matmul0  # Use this Kernel object for repeated calls\n",
    "knl(queue, [rows,b.shape[1]], None, a_buf, b_buf2, res_buf, np.uint32(a.shape[1]))\n",
    "\n",
    "res_np = np.zeros([rows,b.shape[1]]).astype(np.float32)\n",
    "cl.enqueue_copy(queue, res_np, res_buf)"
   ]
  },
  {
   "cell_type": "code",
   "execution_count": null,
   "id": "3791c36d",
   "metadata": {},
   "outputs": [],
   "source": [
    "(res_np-mult).sum()"
   ]
  },
  {
   "cell_type": "code",
   "execution_count": null,
   "id": "be02b18f",
   "metadata": {},
   "outputs": [],
   "source": [
    "a"
   ]
  },
  {
   "cell_type": "code",
   "execution_count": null,
   "id": "7a112967",
   "metadata": {},
   "outputs": [],
   "source": [
    "b"
   ]
  },
  {
   "cell_type": "code",
   "execution_count": null,
   "id": "0bdbf257",
   "metadata": {},
   "outputs": [],
   "source": [
    "res_np"
   ]
  },
  {
   "cell_type": "code",
   "execution_count": null,
   "id": "4e43e4c3",
   "metadata": {},
   "outputs": [],
   "source": [
    "a.dot(b)"
   ]
  },
  {
   "cell_type": "code",
   "execution_count": null,
   "id": "fbe02272",
   "metadata": {},
   "outputs": [],
   "source": [
    "res_np==mult"
   ]
  },
  {
   "cell_type": "code",
   "execution_count": null,
   "id": "bb6187da",
   "metadata": {},
   "outputs": [],
   "source": [
    "res_np.shape"
   ]
  },
  {
   "cell_type": "code",
   "execution_count": null,
   "id": "af9e3da1",
   "metadata": {},
   "outputs": [],
   "source": [
    "mult.shape"
   ]
  },
  {
   "cell_type": "markdown",
   "id": "726b7e0f",
   "metadata": {},
   "source": [
    "# Matmult Transposed Dense"
   ]
  },
  {
   "cell_type": "code",
   "execution_count": null,
   "id": "66a99ad8",
   "metadata": {},
   "outputs": [],
   "source": [
    "mult = a.dot(b)"
   ]
  },
  {
   "cell_type": "code",
   "execution_count": null,
   "id": "f9d3c30b",
   "metadata": {},
   "outputs": [],
   "source": [
    "c=np.zeros(a.T.shape)\n",
    "at = a.T\n",
    "for row in range(at.shape[0]):\n",
    "    for col in range(at.shape[1]):\n",
    "        c[row][col] = at[row][col]"
   ]
  },
  {
   "cell_type": "code",
   "execution_count": null,
   "id": "ca096192",
   "metadata": {},
   "outputs": [],
   "source": [
    "a_buf = cl.Buffer(ctx, mf.READ_WRITE | mf.COPY_HOST_PTR, hostbuf=c.astype(np.float32))\n",
    "b_buf = cl.Buffer(ctx, mf.READ_WRITE | mf.COPY_HOST_PTR, hostbuf=b)\n",
    "\n",
    "prg = cl.Program(ctx, \"\"\"\n",
    "    // multilplies x TRANSPOSED by y (dense-dense)\n",
    "    __kernel void matmul0(__global  float* x,     // INPUT MATRIX DATA\n",
    "                          __global  float* y,    // INPUT\n",
    "                          __global  float* res,    // INPUT\n",
    "                          uint msize,\n",
    "                          uint isize\n",
    "                          ) { // LOCAL SHARED BUFFER\n",
    "      uint osize = get_global_size(0);\n",
    "      int gidy = get_global_id(0); // row\n",
    "      \n",
    "      for (uint gidx = 0; gidx < isize; gidx++) {\n",
    "        float ret = 0.0;\n",
    "        for (uint i = 0; i < msize; i++) {\n",
    "          uint xidx = i*isize+gidx;\n",
    "          float xval = x[xidx];\n",
    "          uint yidx = osize*i+gidy;\n",
    "          float yval = y[yidx];\n",
    "          ret += xval*yval;\n",
    "          if (gidx==0 && gidy==0)\n",
    "            printf(\"\\\\nmult: %.2f x %.2f - %.2f  -- %i/%i\", xval, yval, ret, xidx, yidx);\n",
    "        }\n",
    "        //if (gidx==0&&gidy==0)\n",
    "        //  printf(\"\\\\nsum:%.2f\", ret);\n",
    "        res[gidx * osize + gidy] = ret;\n",
    "      }\n",
    "    }\"\"\").build()"
   ]
  },
  {
   "cell_type": "code",
   "execution_count": null,
   "id": "6bcc4256",
   "metadata": {},
   "outputs": [],
   "source": [
    "a.shape, b.shape"
   ]
  },
  {
   "cell_type": "code",
   "execution_count": null,
   "id": "81be729b",
   "metadata": {},
   "outputs": [],
   "source": [
    "rows = a.shape[0]"
   ]
  },
  {
   "cell_type": "code",
   "execution_count": null,
   "id": "e17d0d40",
   "metadata": {},
   "outputs": [],
   "source": [
    "mult = mult.astype(np.float32)\n",
    "mult.shape"
   ]
  },
  {
   "cell_type": "code",
   "execution_count": null,
   "id": "5d469907",
   "metadata": {},
   "outputs": [],
   "source": [
    "res_buf = cl.Buffer(ctx, mf.READ_WRITE, np.prod([rows,b.shape[1]])*4)\n",
    "knl = prg.matmul0  # Use this Kernel object for repeated calls\n",
    "knl(queue, [b.shape[1]], None, a_buf, b_buf, res_buf, np.uint32(a.shape[1]), np.uint32(rows))\n",
    "\n",
    "res_np = np.zeros([rows,b.shape[1]]).astype(np.float32)\n",
    "cl.enqueue_copy(queue, res_np, res_buf)"
   ]
  },
  {
   "cell_type": "code",
   "execution_count": null,
   "id": "c7ca806a",
   "metadata": {},
   "outputs": [],
   "source": [
    "(res_np-mult).sum()"
   ]
  },
  {
   "cell_type": "code",
   "execution_count": null,
   "id": "067cf8fc",
   "metadata": {},
   "outputs": [],
   "source": [
    "a"
   ]
  },
  {
   "cell_type": "code",
   "execution_count": null,
   "id": "0fd446e8",
   "metadata": {},
   "outputs": [],
   "source": [
    "b"
   ]
  },
  {
   "cell_type": "code",
   "execution_count": null,
   "id": "334f65af",
   "metadata": {},
   "outputs": [],
   "source": [
    "res_np"
   ]
  },
  {
   "cell_type": "code",
   "execution_count": null,
   "id": "c588082c",
   "metadata": {},
   "outputs": [],
   "source": [
    "a.dot(b)"
   ]
  },
  {
   "cell_type": "code",
   "execution_count": null,
   "id": "e6187e1f",
   "metadata": {},
   "outputs": [],
   "source": [
    "res_np==mult"
   ]
  },
  {
   "cell_type": "code",
   "execution_count": null,
   "id": "eb36e476",
   "metadata": {},
   "outputs": [],
   "source": [
    "res_np.shape"
   ]
  },
  {
   "cell_type": "code",
   "execution_count": null,
   "id": "7e406268",
   "metadata": {},
   "outputs": [],
   "source": [
    "mult.shape"
   ]
  },
  {
   "cell_type": "markdown",
   "id": "b1f6dccc",
   "metadata": {},
   "source": [
    "# Matmult Transposed Dense (SPR) - Get Topk - NEW"
   ]
  },
  {
   "cell_type": "code",
   "execution_count": 793,
   "id": "32d116ec",
   "metadata": {},
   "outputs": [],
   "source": [
    "topkx = 3\n",
    "topky = 3"
   ]
  },
  {
   "cell_type": "code",
   "execution_count": 794,
   "id": "5f2b548e",
   "metadata": {},
   "outputs": [
    {
     "data": {
      "text/plain": [
       "(8, 5)"
      ]
     },
     "execution_count": 794,
     "metadata": {},
     "output_type": "execute_result"
    }
   ],
   "source": [
    "mult.shape"
   ]
  },
  {
   "cell_type": "code",
   "execution_count": 831,
   "id": "320e975f",
   "metadata": {},
   "outputs": [],
   "source": [
    "a_buf = cl.Buffer(ctx, mf.READ_WRITE | mf.COPY_HOST_PTR, hostbuf=c.astype(np.float32))\n",
    "b_buf = cl.Buffer(ctx, mf.READ_WRITE | mf.COPY_HOST_PTR, hostbuf=b)\n",
    "x_sum_buf = cl.Buffer(ctx, mf.WRITE_ONLY, a.shape[0]*4)\n",
    "y_sum_buf = cl.Buffer(ctx, mf.WRITE_ONLY, b.shape[1]*4)\n",
    "xs_idx_buf = cl.Buffer(ctx, mf.WRITE_ONLY, topkx*4)\n",
    "ys_idx_buf = cl.Buffer(ctx, mf.WRITE_ONLY, topky*4)\n",
    "x_idx_buf = cl.Buffer(ctx, mf.WRITE_ONLY, topkx*4)\n",
    "y_idx_buf = cl.Buffer(ctx, mf.WRITE_ONLY, topky*4)\n",
    "\n",
    "prg = cl.Program(ctx, \"\"\"\n",
    "    // multilplies x TRANSPOSED by y (dense-dense)\n",
    "    __kernel void gettopk(__global  float* x,      // INPUT MATRIX DATA\n",
    "                          __global  float* y,      // INPUT\n",
    "                          __global  float* xsum,    // INPUT\n",
    "                          __global  float* ysum,    // INPUT\n",
    "                          __global  uint*  xoutidx, // OUT\n",
    "                          __global  uint*  youtidx, // OUT\n",
    "                          __global  uint*  xsoutidx, // OUT\n",
    "                          __global  uint*  ysoutidx, // OUT\n",
    "                          uint topkx,\n",
    "                          uint topky,\n",
    "                          uint msize\n",
    "                          ) { // LOCAL SHARED BUFFER\n",
    "      uint isize = get_global_size(0);\n",
    "      int gidx = get_global_id(0); // row\n",
    "      uint osize = get_global_size(1);\n",
    "      int gidy = get_global_id(1); // row\n",
    "\n",
    "      \n",
    "      // get topk\n",
    "      if (gidy==0) {\n",
    "        xsum[gidx] = 0;\n",
    "        for (uint i=0; i<msize; i++) {\n",
    "          float val = x[i*isize+gidx];\n",
    "          //if (gid == 0) {\n",
    "          //  printf(\"\\\\nADD VALx: %.2f - %i\", val, i*msize+gid);\n",
    "          //}\n",
    "          xsum[gidx] += val;\n",
    "        }\n",
    "        float valx = xsum[gidx];\n",
    "        uint posx = 0;\n",
    "        for (uint i = 0; i < isize; i++) {\n",
    "          float tempval = fabs(xsum[i]);\n",
    "          bool larger = tempval > fabs(valx);\n",
    "          posx += (larger)?1:0;\n",
    "        }\n",
    "        if (posx < topky) {\n",
    "          youtidx[posx] = gidx;\n",
    "        }\n",
    "      }\n",
    "      \n",
    "      if (gidx==0) {\n",
    "        ysum[gidy] = 0;\n",
    "        for (uint i=0; i<msize; i++) {\n",
    "          float val = y[i*osize+gidy];\n",
    "          //if (gid == 0) {\n",
    "          //  printf(\"\\\\nADD VALx: %.2f - %i\", val, i*msize+gid);\n",
    "          //}\n",
    "          ysum[gidy] += val;\n",
    "        }\n",
    "        float valy = ysum[gidy];\n",
    "        uint posy = 0;\n",
    "        for (uint i = 0; i < osize; i++) {\n",
    "          float tempval = fabs(ysum[i]);\n",
    "          bool larger = tempval > fabs(valy);\n",
    "          posy += (larger)?1:0;\n",
    "        }\n",
    "        if (posy < topkx) {\n",
    "          xoutidx[posy] = gidy;\n",
    "        }\n",
    "      }\n",
    "      \n",
    "      \n",
    "      // sort results\n",
    "      if (gidx < topky && gidy==0) {\n",
    "        uint valx2 = youtidx[gidx];\n",
    "        uint posx = 0;\n",
    "        for (uint i = 0; i < topky; i++) {\n",
    "          uint tempval = youtidx[i];\n",
    "          bool larger = tempval < valx2;\n",
    "          posx += (larger)?1:0;\n",
    "        }\n",
    "        ysoutidx[posx] = youtidx[gidx];\n",
    "      }\n",
    "      \n",
    "      if (gidy < topkx && gidx==0) {\n",
    "        uint valy2 = xoutidx[gidy];\n",
    "        printf(\"VAL2:%.2f\",valy2);\n",
    "        uint posy = 0;\n",
    "        for (uint i = 0; i < topkx; i++) {\n",
    "          uint tempval = xoutidx[i];\n",
    "          bool larger = tempval < valy2;\n",
    "          posy += (larger)?1:0;\n",
    "        }\n",
    "        xsoutidx[posy] = xoutidx[gidy];\n",
    "      }\n",
    "    }\"\"\").build()"
   ]
  },
  {
   "cell_type": "code",
   "execution_count": 832,
   "id": "eb38b14e",
   "metadata": {},
   "outputs": [
    {
     "data": {
      "text/plain": [
       "(3, 3)"
      ]
     },
     "execution_count": 832,
     "metadata": {},
     "output_type": "execute_result"
    }
   ],
   "source": [
    "topkx, topky"
   ]
  },
  {
   "cell_type": "code",
   "execution_count": 833,
   "id": "068a2291",
   "metadata": {},
   "outputs": [
    {
     "data": {
      "text/plain": [
       "(8, 5)"
      ]
     },
     "execution_count": 833,
     "metadata": {},
     "output_type": "execute_result"
    }
   ],
   "source": [
    "rows = a.shape[0]\n",
    "cols = b.shape[1]\n",
    "rows, cols"
   ]
  },
  {
   "cell_type": "code",
   "execution_count": 834,
   "id": "fa73db97",
   "metadata": {},
   "outputs": [
    {
     "data": {
      "text/plain": [
       "(8, 5)"
      ]
     },
     "execution_count": 834,
     "metadata": {},
     "output_type": "execute_result"
    }
   ],
   "source": [
    "mult = mult.astype(np.float32)\n",
    "mult.shape"
   ]
  },
  {
   "cell_type": "code",
   "execution_count": 835,
   "id": "92284823",
   "metadata": {},
   "outputs": [
    {
     "name": "stdout",
     "output_type": "stream",
     "text": [
      "VAL2:0.00VAL2:0.00VAL2:0.00"
     ]
    },
    {
     "data": {
      "text/plain": [
       "<pyopencl._cl.NannyEvent at 0x7fd7f022db30>"
      ]
     },
     "execution_count": 835,
     "metadata": {},
     "output_type": "execute_result"
    }
   ],
   "source": [
    "resdata_buf = cl.Buffer(ctx, mf.READ_WRITE, np.prod([rows,b.shape[1]])*4)\n",
    "rescols_buf = cl.Buffer(ctx, mf.READ_WRITE, np.prod([rows,b.shape[1]])*4)\n",
    "resnnzs_buf = cl.Buffer(ctx, mf.READ_WRITE, np.prod([rows])*4)\n",
    "\n",
    "knl = prg.gettopk  # Use this Kernel object for repeated calls\n",
    "knl(queue, [rows,cols], None, a_buf, b_buf, x_sum_buf, y_sum_buf, x_idx_buf, y_idx_buf, xs_idx_buf, ys_idx_buf, np.uint32(topkx), np.uint32(topky), np.uint32(a.shape[1]))\n",
    "\n",
    "xsum = np.zeros(a.shape[0]).astype(np.float32)\n",
    "ysum = np.zeros(b.shape[1]).astype(np.float32)\n",
    "xidxcols = np.zeros(topkx).astype(np.uint32)\n",
    "yidxcols = np.zeros(topky).astype(np.uint32)\n",
    "\n",
    "cl.enqueue_copy(queue, xsum, x_sum_buf)\n",
    "cl.enqueue_copy(queue, ysum, y_sum_buf)\n",
    "cl.enqueue_copy(queue, xidxcols, xs_idx_buf)\n",
    "cl.enqueue_copy(queue, yidxcols, ys_idx_buf)"
   ]
  },
  {
   "cell_type": "code",
   "execution_count": 836,
   "id": "46ae0573",
   "metadata": {},
   "outputs": [
    {
     "data": {
      "text/plain": [
       "array([1, 3, 4], dtype=uint32)"
      ]
     },
     "execution_count": 836,
     "metadata": {},
     "output_type": "execute_result"
    }
   ],
   "source": [
    "yidxcols"
   ]
  },
  {
   "cell_type": "code",
   "execution_count": 837,
   "id": "09c3fa95",
   "metadata": {},
   "outputs": [
    {
     "data": {
      "text/plain": [
       "array([3.0937524, 3.5246177, 2.3468003, 3.2115116, 3.102983 , 2.4004393,\n",
       "       2.1758807, 2.6182923], dtype=float32)"
      ]
     },
     "execution_count": 837,
     "metadata": {},
     "output_type": "execute_result"
    }
   ],
   "source": [
    "a.sum(axis=1)"
   ]
  },
  {
   "cell_type": "code",
   "execution_count": 838,
   "id": "6690b3d6",
   "metadata": {},
   "outputs": [
    {
     "data": {
      "text/plain": [
       "array([3.0937524, 3.5246177, 2.3468003, 3.2115116, 3.102983 , 2.4004393,\n",
       "       2.1758807, 2.6182923], dtype=float32)"
      ]
     },
     "execution_count": 838,
     "metadata": {},
     "output_type": "execute_result"
    }
   ],
   "source": [
    "xsum"
   ]
  },
  {
   "cell_type": "code",
   "execution_count": 839,
   "id": "a097fbb8",
   "metadata": {},
   "outputs": [
    {
     "data": {
      "text/plain": [
       "array([3.5506585, 3.3332088, 5.77045  , 3.095629 , 2.0694818],\n",
       "      dtype=float32)"
      ]
     },
     "execution_count": 839,
     "metadata": {},
     "output_type": "execute_result"
    }
   ],
   "source": [
    "ysum"
   ]
  },
  {
   "cell_type": "code",
   "execution_count": 840,
   "id": "788bfa12",
   "metadata": {},
   "outputs": [
    {
     "data": {
      "text/plain": [
       "array([0, 1, 2], dtype=uint32)"
      ]
     },
     "execution_count": 840,
     "metadata": {},
     "output_type": "execute_result"
    }
   ],
   "source": [
    "xidxcols"
   ]
  },
  {
   "cell_type": "code",
   "execution_count": 841,
   "id": "0ad2fdb5",
   "metadata": {},
   "outputs": [
    {
     "data": {
      "text/plain": [
       "array([1, 3, 4], dtype=uint32)"
      ]
     },
     "execution_count": 841,
     "metadata": {},
     "output_type": "execute_result"
    }
   ],
   "source": [
    "yidxcols"
   ]
  },
  {
   "cell_type": "markdown",
   "id": "7de5173c",
   "metadata": {},
   "source": [
    "# Matmult Transposed Dense (SPRNEW)"
   ]
  },
  {
   "cell_type": "code",
   "execution_count": 842,
   "id": "41860868",
   "metadata": {},
   "outputs": [],
   "source": [
    "c=np.zeros(a.T.shape)\n",
    "at = a.T\n",
    "for row in range(at.shape[0]):\n",
    "    for col in range(at.shape[1]):\n",
    "        c[row][col] = at[row][col]"
   ]
  },
  {
   "cell_type": "code",
   "execution_count": 971,
   "id": "36200f08",
   "metadata": {},
   "outputs": [],
   "source": [
    "a_buf = cl.Buffer(ctx, mf.READ_WRITE | mf.COPY_HOST_PTR, hostbuf=c.astype(np.float32))\n",
    "b_buf = cl.Buffer(ctx, mf.READ_WRITE | mf.COPY_HOST_PTR, hostbuf=b)\n",
    "\n",
    "prg = cl.Program(ctx, \"\"\"\n",
    "    // multilplies x TRANSPOSED by y (dense-dense)\n",
    "    __kernel void matmul0(__global  float* x,      // INPUT MATRIX DATA\n",
    "                          __global  float* y,      // INPUT\n",
    "                          __global  uint* xidx,   // INPUT YIDX\n",
    "                          __global  uint* yidx,   // INPUT YIDX\n",
    "                          __global  float* resdata,// OUT\n",
    "                          __global  uint*  rescols,\n",
    "                          __global  uint*  resnnzs,\n",
    "                          uint topkx,\n",
    "                          uint ellw,\n",
    "                          uint isize,\n",
    "                          uint msize,\n",
    "                          uint osize\n",
    "                          ) { // LOCAL SHARED BUFFER  \n",
    "                          \n",
    "      uint topky = get_global_size(0);\n",
    "      uint gidx = yidx[get_global_id(0)]; // row\n",
    "      \n",
    "      for (uint gidy0 = 0; gidy0 < topkx; gidy0++) {\n",
    "        uint gidy = xidx[gidy0];\n",
    "        float ret = 0.0;\n",
    "        uint i;\n",
    "        for (i = 0; i < msize; i++) {\n",
    "          uint xidx = i*isize+gidx;\n",
    "          float xval = x[xidx];\n",
    "          uint yidx = osize*i+gidy;\n",
    "          float yval = y[yidx];\n",
    "          ret += xval*yval;\n",
    "          //if (gidx==0 && gidy==0)\n",
    "          //  printf(\"\\\\nmult: %.2f x %.2f - %.2f  -- %i/%i\", xval, yval, ret, xidx, yidx);\n",
    "        }\n",
    "        //if (gidx==0&&gidy==0)\n",
    "        //  printf(\"\\\\nsum:%.2f\", ret);\n",
    "        \n",
    "        // add for \n",
    "        uint nnz = resnnzs[gidx];\n",
    "        for (i = 0; i < nnz; i++) {\n",
    "          if (rescols[i] >= gidy) {\n",
    "            break;\n",
    "          }\n",
    "          for (uint j = nnz; j >= i; j--) {\n",
    "            //resdata[j+1] = resdata[j];\n",
    "          }\n",
    "        }\n",
    "        resdata[gidx * ellw + gidy0] = ret;\n",
    "        rescols[gidx * ellw + gidy0] = gidy;\n",
    "        resnnzs[gidx] += 1;\n",
    "      }\n",
    "    }\"\"\").build()"
   ]
  },
  {
   "cell_type": "code",
   "execution_count": 972,
   "id": "1f044dda",
   "metadata": {},
   "outputs": [
    {
     "data": {
      "text/plain": [
       "((8, 16), (16, 5))"
      ]
     },
     "execution_count": 972,
     "metadata": {},
     "output_type": "execute_result"
    }
   ],
   "source": [
    "a.shape, b.shape"
   ]
  },
  {
   "cell_type": "code",
   "execution_count": 973,
   "id": "1de6c603",
   "metadata": {},
   "outputs": [],
   "source": [
    "rows = a.shape[0]"
   ]
  },
  {
   "cell_type": "code",
   "execution_count": 974,
   "id": "dc286555",
   "metadata": {},
   "outputs": [
    {
     "data": {
      "text/plain": [
       "(8, 5)"
      ]
     },
     "execution_count": 974,
     "metadata": {},
     "output_type": "execute_result"
    }
   ],
   "source": [
    "mult = mult.astype(np.float32)\n",
    "mult.shape"
   ]
  },
  {
   "cell_type": "code",
   "execution_count": 975,
   "id": "34c64982",
   "metadata": {},
   "outputs": [
    {
     "data": {
      "text/plain": [
       "(3, 3)"
      ]
     },
     "execution_count": 975,
     "metadata": {},
     "output_type": "execute_result"
    }
   ],
   "source": [
    "topky, topkx"
   ]
  },
  {
   "cell_type": "code",
   "execution_count": 976,
   "id": "d98a1a7a",
   "metadata": {},
   "outputs": [
    {
     "data": {
      "text/plain": [
       "<pyopencl._cl.NannyEvent at 0x7fd7f01c7d60>"
      ]
     },
     "execution_count": 976,
     "metadata": {},
     "output_type": "execute_result"
    }
   ],
   "source": [
    "resdata_buf = cl.Buffer(ctx, mf.READ_WRITE, np.prod([rows,b.shape[1]])*4)\n",
    "rescols_buf = cl.Buffer(ctx, mf.READ_WRITE, np.prod([rows,b.shape[1]])*4)\n",
    "resnnzs_buf = cl.Buffer(ctx, mf.READ_WRITE | mf.COPY_HOST_PTR, hostbuf=np.zeros(rows))\n",
    "\n",
    "knl = prg.matmul0  # Use this Kernel object for repeated calls\n",
    "knl(queue, [topky], None, a_buf, b_buf, xs_idx_buf, ys_idx_buf, resdata_buf, rescols_buf, resnnzs_buf, np.uint32(topkx), np.uint32(b.shape[1]), np.uint32(a.shape[0]), np.uint32(a.shape[1]), np.uint32(b.shape[1]))\n",
    "\n",
    "resdata = np.zeros(a.shape[0]*b.shape[1]).astype(np.float32)\n",
    "rescols = np.zeros(a.shape[0]*b.shape[1]).astype(np.uint32)\n",
    "resnnzs = np.zeros(a.shape[0]).astype(np.uint32)\n",
    "cl.enqueue_copy(queue, resdata, resdata_buf)\n",
    "cl.enqueue_copy(queue, rescols, rescols_buf)\n",
    "cl.enqueue_copy(queue, resnnzs, resnnzs_buf)"
   ]
  },
  {
   "cell_type": "code",
   "execution_count": 977,
   "id": "c4447036",
   "metadata": {},
   "outputs": [
    {
     "data": {
      "text/plain": [
       "array([0.6996368 , 1.6236207 , 1.6236207 , 0.3340667 , 0.61331564,\n",
       "       1.8848312 , 0.18735047, 1.4160932 , 0.30414024, 0.29892322,\n",
       "       0.16573755, 0.51614475, 1.40742   , 0.7711447 , 0.        ,\n",
       "       1.130233  , 0.31159392, 1.1950791 , 0.32051137, 0.6311476 ,\n",
       "       0.49532753, 0.9677906 , 0.8187757 , 0.1351769 , 0.01893103,\n",
       "       0.60025734, 0.7728439 , 1.2898692 , 0.9285497 , 0.        ,\n",
       "       0.17482497, 0.30367106, 0.47157714, 0.544282  , 0.7309462 ,\n",
       "       0.7240762 , 0.27932334, 0.99110806, 0.09674796, 0.8390946 ],\n",
       "      dtype=float32)"
      ]
     },
     "execution_count": 977,
     "metadata": {},
     "output_type": "execute_result"
    }
   ],
   "source": [
    "resdata"
   ]
  },
  {
   "cell_type": "code",
   "execution_count": 978,
   "id": "871ec3d3",
   "metadata": {},
   "outputs": [
    {
     "data": {
      "text/plain": [
       "array([0, 2, 2, 3, 4, 0, 1, 2, 3, 4, 0, 1, 2, 3, 4, 0, 1, 2, 3, 4, 0, 1,\n",
       "       2, 3, 4, 0, 1, 2, 3, 4, 0, 1, 2, 3, 4, 0, 1, 2, 3, 4], dtype=uint32)"
      ]
     },
     "execution_count": 978,
     "metadata": {},
     "output_type": "execute_result"
    }
   ],
   "source": [
    "rescols"
   ]
  },
  {
   "cell_type": "code",
   "execution_count": 979,
   "id": "31968f89",
   "metadata": {},
   "outputs": [
    {
     "data": {
      "text/plain": [
       "array([0, 3, 0, 3, 3, 0, 0, 0], dtype=uint32)"
      ]
     },
     "execution_count": 979,
     "metadata": {},
     "output_type": "execute_result"
    }
   ],
   "source": [
    "resnnzs"
   ]
  },
  {
   "cell_type": "code",
   "execution_count": 980,
   "id": "0f1aa537",
   "metadata": {},
   "outputs": [],
   "source": [
    "res_np = to_dense(resdata, rescols, resnnzs, b.shape[1], mult.shape)"
   ]
  },
  {
   "cell_type": "code",
   "execution_count": 981,
   "id": "dceeaf3d",
   "metadata": {},
   "outputs": [
    {
     "data": {
      "text/plain": [
       "-16.742596236988902"
      ]
     },
     "execution_count": 981,
     "metadata": {},
     "output_type": "execute_result"
    }
   ],
   "source": [
    "(res_np-mult).sum()"
   ]
  },
  {
   "cell_type": "code",
   "execution_count": 982,
   "id": "443032f5",
   "metadata": {},
   "outputs": [
    {
     "data": {
      "text/plain": [
       "array([[0.        , 0.68347037, 0.8035886 , 0.        , 0.        ,\n",
       "        0.        , 0.        , 0.08023349, 0.8858316 , 0.        ,\n",
       "        0.17861794, 0.        , 0.46201044, 0.        , 0.        ,\n",
       "        0.        ],\n",
       "       [0.9562663 , 0.5531271 , 0.        , 0.        , 0.5375557 ,\n",
       "        0.        , 0.        , 0.        , 0.        , 0.        ,\n",
       "        0.        , 0.20370705, 0.35530138, 0.        , 0.        ,\n",
       "        0.9186601 ],\n",
       "       [0.        , 0.20103766, 0.        , 0.        , 0.        ,\n",
       "        0.74341315, 0.        , 0.        , 0.        , 0.5787496 ,\n",
       "        0.        , 0.05387774, 0.        , 0.5917517 , 0.17797045,\n",
       "        0.        ],\n",
       "       [0.        , 0.        , 0.        , 0.14296253, 0.9103574 ,\n",
       "        0.03242496, 0.        , 0.71459514, 0.        , 0.        ,\n",
       "        0.        , 0.        , 0.7448136 , 0.        , 0.        ,\n",
       "        0.66635793],\n",
       "       [0.        , 0.        , 0.        , 0.59893256, 0.        ,\n",
       "        0.        , 0.        , 0.9217044 , 0.        , 0.16333483,\n",
       "        0.        , 0.17167741, 0.        , 0.        , 0.7605819 ,\n",
       "        0.48675168],\n",
       "       [0.11415514, 0.82574075, 0.        , 0.        , 0.        ,\n",
       "        0.27978534, 0.        , 0.25018668, 0.        , 0.        ,\n",
       "        0.83127654, 0.09929471, 0.        , 0.        , 0.        ,\n",
       "        0.        ],\n",
       "       [0.28872353, 0.04889954, 0.        , 0.6493426 , 0.        ,\n",
       "        0.33329687, 0.        , 0.        , 0.        , 0.        ,\n",
       "        0.        , 0.        , 0.84441024, 0.01120785, 0.        ,\n",
       "        0.        ],\n",
       "       [0.67626965, 0.        , 0.        , 0.35563806, 0.        ,\n",
       "        0.        , 0.69630474, 0.        , 0.6753613 , 0.        ,\n",
       "        0.        , 0.12287189, 0.        , 0.        , 0.        ,\n",
       "        0.09184685]], dtype=float32)"
      ]
     },
     "execution_count": 982,
     "metadata": {},
     "output_type": "execute_result"
    }
   ],
   "source": [
    "a"
   ]
  },
  {
   "cell_type": "code",
   "execution_count": 983,
   "id": "a5babee0",
   "metadata": {},
   "outputs": [
    {
     "data": {
      "text/plain": [
       "array([[0.49395892, 0.        , 0.46451807, 0.        , 0.        ],\n",
       "       [0.65864426, 0.        , 0.9786625 , 0.        , 0.        ],\n",
       "       [0.31044865, 0.        , 0.02502257, 0.        , 0.        ],\n",
       "       [0.        , 0.46765924, 0.        , 0.        , 0.03160795],\n",
       "       [0.71082693, 0.        , 0.58997136, 0.        , 0.        ],\n",
       "       [0.        , 0.        , 0.84622455, 0.5916316 , 0.        ],\n",
       "       [0.46450275, 0.        , 0.        , 0.        , 0.9429863 ],\n",
       "       [0.        , 0.34248227, 0.7672639 , 0.        , 0.        ],\n",
       "       [0.        , 0.        , 0.9855889 , 0.        , 0.2535647 ],\n",
       "       [0.        , 0.7705159 , 0.31522992, 0.        , 0.        ],\n",
       "       [0.        , 0.7167741 , 0.        , 0.8238369 , 0.        ],\n",
       "       [0.        , 0.91970533, 0.        , 0.7873889 , 0.        ],\n",
       "       [0.        , 0.        , 0.        , 0.404568  , 0.841323  ],\n",
       "       [0.        , 0.        , 0.674503  , 0.48820347, 0.        ],\n",
       "       [0.18725161, 0.11607183, 0.        , 0.        , 0.        ],\n",
       "       [0.7250254 , 0.        , 0.12346577, 0.        , 0.        ]],\n",
       "      dtype=float32)"
      ]
     },
     "execution_count": 983,
     "metadata": {},
     "output_type": "execute_result"
    }
   ],
   "source": [
    "b"
   ]
  },
  {
   "cell_type": "code",
   "execution_count": 984,
   "id": "9617f2b8",
   "metadata": {},
   "outputs": [
    {
     "data": {
      "text/plain": [
       "array([[0.        , 0.        , 0.        , 0.        , 0.        ],\n",
       "       [1.88483119, 0.18735047, 1.41609323, 0.        , 0.        ],\n",
       "       [0.        , 0.        , 0.        , 0.        , 0.        ],\n",
       "       [1.13023305, 0.31159392, 1.19507909, 0.        , 0.        ],\n",
       "       [0.49532753, 0.9677906 , 0.81877571, 0.        , 0.        ],\n",
       "       [0.        , 0.        , 0.        , 0.        , 0.        ],\n",
       "       [0.        , 0.        , 0.        , 0.        , 0.        ],\n",
       "       [0.        , 0.        , 0.        , 0.        , 0.        ]])"
      ]
     },
     "execution_count": 984,
     "metadata": {},
     "output_type": "execute_result"
    }
   ],
   "source": [
    "res_np"
   ]
  },
  {
   "cell_type": "code",
   "execution_count": 985,
   "id": "3684311c",
   "metadata": {},
   "outputs": [
    {
     "data": {
      "text/plain": [
       "array([[0.6996368 , 0.15550727, 1.6236207 , 0.3340667 , 0.61331564],\n",
       "       [1.8848312 , 0.18735047, 1.4160932 , 0.30414024, 0.29892322],\n",
       "       [0.16573755, 0.51614475, 1.40742   , 0.7711447 , 0.        ],\n",
       "       [1.130233  , 0.31159392, 1.1950791 , 0.32051137, 0.6311476 ],\n",
       "       [0.49532753, 0.9677906 , 0.8187757 , 0.1351769 , 0.01893103],\n",
       "       [0.60025734, 0.7728439 , 1.2898692 , 0.9285497 , 0.        ],\n",
       "       [0.17482497, 0.30367106, 0.47157714, 0.544282  , 0.7309462 ],\n",
       "       [0.7240762 , 0.27932334, 0.99110806, 0.09674796, 0.8390946 ]],\n",
       "      dtype=float32)"
      ]
     },
     "execution_count": 985,
     "metadata": {},
     "output_type": "execute_result"
    }
   ],
   "source": [
    "a.dot(b)"
   ]
  },
  {
   "cell_type": "code",
   "execution_count": 986,
   "id": "1ed6378f",
   "metadata": {},
   "outputs": [
    {
     "data": {
      "text/plain": [
       "array([[False, False, False, False, False],\n",
       "       [ True,  True,  True, False, False],\n",
       "       [False, False, False, False,  True],\n",
       "       [ True,  True,  True, False, False],\n",
       "       [ True,  True,  True, False, False],\n",
       "       [False, False, False, False,  True],\n",
       "       [False, False, False, False, False],\n",
       "       [False, False, False, False, False]])"
      ]
     },
     "execution_count": 986,
     "metadata": {},
     "output_type": "execute_result"
    }
   ],
   "source": [
    "res_np==mult"
   ]
  },
  {
   "cell_type": "code",
   "execution_count": 987,
   "id": "cb2da233",
   "metadata": {},
   "outputs": [
    {
     "data": {
      "text/plain": [
       "(8, 5)"
      ]
     },
     "execution_count": 987,
     "metadata": {},
     "output_type": "execute_result"
    }
   ],
   "source": [
    "res_np.shape"
   ]
  },
  {
   "cell_type": "code",
   "execution_count": 988,
   "id": "0dc13ba5",
   "metadata": {},
   "outputs": [
    {
     "data": {
      "text/plain": [
       "(8, 5)"
      ]
     },
     "execution_count": 988,
     "metadata": {},
     "output_type": "execute_result"
    }
   ],
   "source": [
    "mult.shape"
   ]
  },
  {
   "cell_type": "markdown",
   "id": "5b4b78bc",
   "metadata": {},
   "source": [
    "# Matmult Transposed Dense (SPR-T OUT NEW)"
   ]
  },
  {
   "cell_type": "code",
   "execution_count": 989,
   "id": "70850885",
   "metadata": {},
   "outputs": [],
   "source": [
    "c=np.zeros(a.T.shape)\n",
    "at = a.T\n",
    "for row in range(at.shape[0]):\n",
    "    for col in range(at.shape[1]):\n",
    "        c[row][col] = at[row][col]"
   ]
  },
  {
   "cell_type": "code",
   "execution_count": 954,
   "id": "7d92ec83",
   "metadata": {},
   "outputs": [],
   "source": [
    "a_buf = cl.Buffer(ctx, mf.READ_WRITE | mf.COPY_HOST_PTR, hostbuf=c.astype(np.float32))\n",
    "b_buf = cl.Buffer(ctx, mf.READ_WRITE | mf.COPY_HOST_PTR, hostbuf=b)\n",
    "\n",
    "prg = cl.Program(ctx, \"\"\"\n",
    "    // multilplies x TRANSPOSED by y (dense-dense)\n",
    "    __kernel void matmul0t(__global  float* x,      // INPUT MATRIX DATA\n",
    "                          __global  float* y,      // INPUT\n",
    "                          __global  uint* xidx,   // INPUT YIDX\n",
    "                          __global  uint* yidx,   // INPUT YIDX\n",
    "                          __global  float* resdata,// OUT\n",
    "                          __global  uint*  rescols,\n",
    "                          __global  uint*  resnnzs,\n",
    "                          uint topky,\n",
    "                          uint ellw,\n",
    "                          uint isize,\n",
    "                          uint msize,\n",
    "                          uint osize\n",
    "                          ) { // LOCAL SHARED BUFFER\n",
    "      uint topkx = get_global_size(0);\n",
    "      uint gidy = xidx[get_global_id(0)]; // row\n",
    "      \n",
    "      for (uint gidx0 = 0; gidy0 < topky; gidy0++) {\n",
    "        uint gidx = yidx[gidy0];\n",
    "        float ret = 0.0;\n",
    "        uint i;\n",
    "        for (i = 0; i < msize; i++) {\n",
    "          uint xidx = i*isize+gidx;\n",
    "          float xval = x[xidx];\n",
    "          uint yidx = osize*i+gidy;\n",
    "          float yval = y[yidx];\n",
    "          ret += xval*yval;\n",
    "          if (gidx==0 && gidy==0)\n",
    "            printf(\"\\\\nmult: %.2f x %.2f - %.2f  -- %i/%i\", xval, yval, ret, gidx, gidy,i);\n",
    "        }\n",
    "        //if (gidx==0&&gidy==0)\n",
    "        //  printf(\"\\\\nsum:%.2f\", ret);\n",
    "        \n",
    "        // add for \n",
    "        uint nnz = resnnzs[gidx];\n",
    "        for (i = 0; i < nnz; i++) {\n",
    "          if (rescols[i] >= gidy) {\n",
    "            break;\n",
    "          }\n",
    "          for (uint j = nnz; j >= i; j--) {\n",
    "            //resdata[j+1] = resdata[j];\n",
    "          }\n",
    "        }\n",
    "        resdata[gidy * ellw + gidx] = ret;\n",
    "        rescols[gidy * ellw + gidx] = gidx;\n",
    "        resnnzs[gidy] += 1;\n",
    "      }\n",
    "    }\"\"\").build()"
   ]
  },
  {
   "cell_type": "code",
   "execution_count": 955,
   "id": "00e59ecd",
   "metadata": {},
   "outputs": [
    {
     "data": {
      "text/plain": [
       "((8, 16), (16, 5))"
      ]
     },
     "execution_count": 955,
     "metadata": {},
     "output_type": "execute_result"
    }
   ],
   "source": [
    "a.shape, b.shape"
   ]
  },
  {
   "cell_type": "code",
   "execution_count": 956,
   "id": "c4f77b5f",
   "metadata": {},
   "outputs": [],
   "source": [
    "rows = a.shape[0]\n",
    "cols = b.shape[1]"
   ]
  },
  {
   "cell_type": "code",
   "execution_count": 957,
   "id": "4548f840",
   "metadata": {},
   "outputs": [
    {
     "data": {
      "text/plain": [
       "(8, 5)"
      ]
     },
     "execution_count": 957,
     "metadata": {},
     "output_type": "execute_result"
    }
   ],
   "source": [
    "mult = mult.astype(np.float32)\n",
    "mult.shape"
   ]
  },
  {
   "cell_type": "code",
   "execution_count": 958,
   "id": "b496599c",
   "metadata": {},
   "outputs": [
    {
     "data": {
      "text/plain": [
       "<pyopencl._cl.NannyEvent at 0x7fd7f01c74a0>"
      ]
     },
     "execution_count": 958,
     "metadata": {},
     "output_type": "execute_result"
    }
   ],
   "source": [
    "resdatat_buf = cl.Buffer(ctx, mf.READ_WRITE, np.prod([cols,rows])*4)\n",
    "rescolst_buf = cl.Buffer(ctx, mf.READ_WRITE, np.prod([cols,rows])*4)\n",
    "resnnzst_buf = cl.Buffer(ctx, mf.READ_WRITE | mf.COPY_HOST_PTR, hostbuf=np.zeros(cols))\n",
    "\n",
    "knl = prg.matmul0t  # Use this Kernel object for repeated calls\n",
    "knl(queue, [topkx], None, a_buf, b_buf, xs_idx_buf, ys_idx_buf, resdatat_buf, rescolst_buf, resnnzst_buf, np.uint32(topky), np.uint32(a.shape[0]), np.uint32(a.shape[0]), np.uint32(a.shape[1]), np.uint32(b.shape[1]))\n",
    "\n",
    "resdatat = np.zeros(cols*rows).astype(np.float32)\n",
    "rescolst = np.zeros(cols*rows).astype(np.uint32)\n",
    "resnnzst = np.zeros(cols).astype(np.uint32)\n",
    "cl.enqueue_copy(queue, resdatat, resdatat_buf)\n",
    "cl.enqueue_copy(queue, rescolst, rescolst_buf)\n",
    "cl.enqueue_copy(queue, resnnzst, resnnzst_buf)"
   ]
  },
  {
   "cell_type": "code",
   "execution_count": 959,
   "id": "8ad1f94d",
   "metadata": {},
   "outputs": [
    {
     "data": {
      "text/plain": [
       "array([[0.        , 0.68347037, 0.8035886 , 0.        , 0.        ,\n",
       "        0.        , 0.        , 0.08023349, 0.8858316 , 0.        ,\n",
       "        0.17861794, 0.        , 0.46201044, 0.        , 0.        ,\n",
       "        0.        ],\n",
       "       [0.9562663 , 0.5531271 , 0.        , 0.        , 0.5375557 ,\n",
       "        0.        , 0.        , 0.        , 0.        , 0.        ,\n",
       "        0.        , 0.20370705, 0.35530138, 0.        , 0.        ,\n",
       "        0.9186601 ],\n",
       "       [0.        , 0.20103766, 0.        , 0.        , 0.        ,\n",
       "        0.74341315, 0.        , 0.        , 0.        , 0.5787496 ,\n",
       "        0.        , 0.05387774, 0.        , 0.5917517 , 0.17797045,\n",
       "        0.        ],\n",
       "       [0.        , 0.        , 0.        , 0.14296253, 0.9103574 ,\n",
       "        0.03242496, 0.        , 0.71459514, 0.        , 0.        ,\n",
       "        0.        , 0.        , 0.7448136 , 0.        , 0.        ,\n",
       "        0.66635793],\n",
       "       [0.        , 0.        , 0.        , 0.59893256, 0.        ,\n",
       "        0.        , 0.        , 0.9217044 , 0.        , 0.16333483,\n",
       "        0.        , 0.17167741, 0.        , 0.        , 0.7605819 ,\n",
       "        0.48675168],\n",
       "       [0.11415514, 0.82574075, 0.        , 0.        , 0.        ,\n",
       "        0.27978534, 0.        , 0.25018668, 0.        , 0.        ,\n",
       "        0.83127654, 0.09929471, 0.        , 0.        , 0.        ,\n",
       "        0.        ],\n",
       "       [0.28872353, 0.04889954, 0.        , 0.6493426 , 0.        ,\n",
       "        0.33329687, 0.        , 0.        , 0.        , 0.        ,\n",
       "        0.        , 0.        , 0.84441024, 0.01120785, 0.        ,\n",
       "        0.        ],\n",
       "       [0.67626965, 0.        , 0.        , 0.35563806, 0.        ,\n",
       "        0.        , 0.69630474, 0.        , 0.6753613 , 0.        ,\n",
       "        0.        , 0.12287189, 0.        , 0.        , 0.        ,\n",
       "        0.09184685]], dtype=float32)"
      ]
     },
     "execution_count": 959,
     "metadata": {},
     "output_type": "execute_result"
    }
   ],
   "source": [
    "a"
   ]
  },
  {
   "cell_type": "code",
   "execution_count": 960,
   "id": "95e16e05",
   "metadata": {},
   "outputs": [
    {
     "data": {
      "text/plain": [
       "array([[0.49395892, 0.65864426, 0.31044865, 0.        , 0.71082693,\n",
       "        0.        , 0.46450275, 0.        , 0.        , 0.        ,\n",
       "        0.        , 0.        , 0.        , 0.        , 0.18725161,\n",
       "        0.7250254 ],\n",
       "       [0.        , 0.        , 0.        , 0.46765924, 0.        ,\n",
       "        0.        , 0.        , 0.34248227, 0.        , 0.7705159 ,\n",
       "        0.7167741 , 0.91970533, 0.        , 0.        , 0.11607183,\n",
       "        0.        ],\n",
       "       [0.46451807, 0.9786625 , 0.02502257, 0.        , 0.58997136,\n",
       "        0.84622455, 0.        , 0.7672639 , 0.9855889 , 0.31522992,\n",
       "        0.        , 0.        , 0.        , 0.674503  , 0.        ,\n",
       "        0.12346577],\n",
       "       [0.        , 0.        , 0.        , 0.        , 0.        ,\n",
       "        0.5916316 , 0.        , 0.        , 0.        , 0.        ,\n",
       "        0.8238369 , 0.7873889 , 0.404568  , 0.48820347, 0.        ,\n",
       "        0.        ],\n",
       "       [0.        , 0.        , 0.        , 0.03160795, 0.        ,\n",
       "        0.        , 0.9429863 , 0.        , 0.2535647 , 0.        ,\n",
       "        0.        , 0.        , 0.841323  , 0.        , 0.        ,\n",
       "        0.        ]], dtype=float32)"
      ]
     },
     "execution_count": 960,
     "metadata": {},
     "output_type": "execute_result"
    }
   ],
   "source": [
    "b.T"
   ]
  },
  {
   "cell_type": "code",
   "execution_count": 961,
   "id": "51ecf82b",
   "metadata": {},
   "outputs": [
    {
     "data": {
      "text/plain": [
       "array([0.6996368 , 1.8848312 , 0.16573755, 1.130233  , 0.49532753,\n",
       "       0.60025734, 0.17482497, 0.7240762 , 1.8848312 , 0.18735047,\n",
       "       1.4160932 , 0.31159392, 0.9677906 , 0.7728439 , 0.30367106,\n",
       "       0.27932334, 1.6236207 , 1.4160932 , 1.40742   , 1.1950791 ,\n",
       "       0.8187757 , 1.2898692 , 0.47157714, 0.99110806, 1.130233  ,\n",
       "       0.31159392, 1.1950791 , 0.32051137, 0.1351769 , 0.9285497 ,\n",
       "       0.544282  , 0.09674796, 0.49532753, 0.9677906 , 0.8187757 ,\n",
       "       0.6311476 , 0.01893103, 0.        , 0.7309462 , 0.8390946 ],\n",
       "      dtype=float32)"
      ]
     },
     "execution_count": 961,
     "metadata": {},
     "output_type": "execute_result"
    }
   ],
   "source": [
    "resdatat"
   ]
  },
  {
   "cell_type": "code",
   "execution_count": 962,
   "id": "4dcfa37b",
   "metadata": {},
   "outputs": [
    {
     "data": {
      "text/plain": [
       "array([0, 1, 2, 3, 4, 5, 6, 7, 1, 1, 1, 3, 4, 5, 6, 7, 0, 1, 2, 3, 4, 5,\n",
       "       6, 7, 3, 3, 3, 3, 4, 5, 6, 7, 4, 4, 4, 3, 4, 5, 6, 7], dtype=uint32)"
      ]
     },
     "execution_count": 962,
     "metadata": {},
     "output_type": "execute_result"
    }
   ],
   "source": [
    "rescolst"
   ]
  },
  {
   "cell_type": "code",
   "execution_count": 963,
   "id": "51aa4f4a",
   "metadata": {},
   "outputs": [
    {
     "data": {
      "text/plain": [
       "array([3, 3, 3, 0, 0], dtype=uint32)"
      ]
     },
     "execution_count": 963,
     "metadata": {},
     "output_type": "execute_result"
    }
   ],
   "source": [
    "resnnzst"
   ]
  },
  {
   "cell_type": "code",
   "execution_count": 964,
   "id": "07b2e5ba",
   "metadata": {},
   "outputs": [
    {
     "data": {
      "text/plain": [
       "array([[0.69963682, 0.        , 1.62362075, 0.        , 0.        ],\n",
       "       [1.88483119, 1.41609323, 1.41609323, 0.        , 0.        ],\n",
       "       [0.16573755, 0.        , 1.40742004, 0.        , 0.        ],\n",
       "       [0.        , 0.        , 0.        , 0.        , 0.        ],\n",
       "       [0.        , 0.        , 0.        , 0.        , 0.        ],\n",
       "       [0.        , 0.        , 0.        , 0.        , 0.        ],\n",
       "       [0.        , 0.        , 0.        , 0.        , 0.        ],\n",
       "       [0.        , 0.        , 0.        , 0.        , 0.        ]])"
      ]
     },
     "execution_count": 964,
     "metadata": {},
     "output_type": "execute_result"
    }
   ],
   "source": [
    "res_np = to_dense(resdatat, rescolst, resnnzst, a.shape[0], mult.T.shape)\n",
    "res_np.T"
   ]
  },
  {
   "cell_type": "code",
   "execution_count": 965,
   "id": "ac828d8b",
   "metadata": {},
   "outputs": [
    {
     "data": {
      "text/plain": [
       "-16.53623822145164"
      ]
     },
     "execution_count": 965,
     "metadata": {},
     "output_type": "execute_result"
    }
   ],
   "source": [
    "(res_np.T-mult).sum()"
   ]
  },
  {
   "cell_type": "code",
   "execution_count": 966,
   "id": "dc5c1bc2",
   "metadata": {},
   "outputs": [
    {
     "data": {
      "text/plain": [
       "(5, 8)"
      ]
     },
     "execution_count": 966,
     "metadata": {},
     "output_type": "execute_result"
    }
   ],
   "source": [
    "res_np.shape"
   ]
  },
  {
   "cell_type": "code",
   "execution_count": 967,
   "id": "d1613429",
   "metadata": {},
   "outputs": [
    {
     "data": {
      "text/plain": [
       "array([[0.6996368 , 0.15550727, 1.6236207 , 0.3340667 , 0.61331564],\n",
       "       [1.8848312 , 0.18735047, 1.4160932 , 0.30414024, 0.29892322],\n",
       "       [0.16573755, 0.51614475, 1.40742   , 0.7711447 , 0.        ],\n",
       "       [1.130233  , 0.31159392, 1.1950791 , 0.32051137, 0.6311476 ],\n",
       "       [0.49532753, 0.9677906 , 0.8187757 , 0.1351769 , 0.01893103],\n",
       "       [0.60025734, 0.7728439 , 1.2898692 , 0.9285497 , 0.        ],\n",
       "       [0.17482497, 0.30367106, 0.47157714, 0.544282  , 0.7309462 ],\n",
       "       [0.7240762 , 0.27932334, 0.99110806, 0.09674796, 0.8390946 ]],\n",
       "      dtype=float32)"
      ]
     },
     "execution_count": 967,
     "metadata": {},
     "output_type": "execute_result"
    }
   ],
   "source": [
    "a.dot(b)"
   ]
  },
  {
   "cell_type": "code",
   "execution_count": 968,
   "id": "ea855f2b",
   "metadata": {},
   "outputs": [
    {
     "data": {
      "text/plain": [
       "array([[ 0.        ,  0.15550727,  0.        ,  0.33406669,  0.61331564],\n",
       "       [ 0.        , -1.22874276,  0.        ,  0.30414024,  0.29892322],\n",
       "       [ 0.        ,  0.51614475,  0.        ,  0.77114469,  0.        ],\n",
       "       [ 1.13023305,  0.31159392,  1.19507909,  0.32051137,  0.63114762],\n",
       "       [ 0.49532753,  0.9677906 ,  0.81877571,  0.1351769 ,  0.01893103],\n",
       "       [ 0.60025734,  0.7728439 ,  1.28986919,  0.92854971,  0.        ],\n",
       "       [ 0.17482497,  0.30367106,  0.47157714,  0.54428202,  0.73094618],\n",
       "       [ 0.72407621,  0.27932334,  0.99110806,  0.09674796,  0.83909458]])"
      ]
     },
     "execution_count": 968,
     "metadata": {},
     "output_type": "execute_result"
    }
   ],
   "source": [
    "mult - res_np.T"
   ]
  },
  {
   "cell_type": "code",
   "execution_count": 969,
   "id": "5c19d970",
   "metadata": {},
   "outputs": [
    {
     "data": {
      "text/plain": [
       "array([[ True, False,  True, False, False],\n",
       "       [ True, False,  True, False, False],\n",
       "       [ True, False,  True, False,  True],\n",
       "       [False, False, False, False, False],\n",
       "       [False, False, False, False, False],\n",
       "       [False, False, False, False,  True],\n",
       "       [False, False, False, False, False],\n",
       "       [False, False, False, False, False]])"
      ]
     },
     "execution_count": 969,
     "metadata": {},
     "output_type": "execute_result"
    }
   ],
   "source": [
    "res_np.T==mult"
   ]
  },
  {
   "cell_type": "code",
   "execution_count": 970,
   "id": "fe154aed",
   "metadata": {},
   "outputs": [
    {
     "data": {
      "text/plain": [
       "array([[0.69963682, 0.        , 1.62362075, 0.        , 0.        ],\n",
       "       [1.88483119, 1.41609323, 1.41609323, 0.        , 0.        ],\n",
       "       [0.16573755, 0.        , 1.40742004, 0.        , 0.        ],\n",
       "       [0.        , 0.        , 0.        , 0.        , 0.        ],\n",
       "       [0.        , 0.        , 0.        , 0.        , 0.        ],\n",
       "       [0.        , 0.        , 0.        , 0.        , 0.        ],\n",
       "       [0.        , 0.        , 0.        , 0.        , 0.        ],\n",
       "       [0.        , 0.        , 0.        , 0.        , 0.        ]])"
      ]
     },
     "execution_count": 970,
     "metadata": {},
     "output_type": "execute_result"
    }
   ],
   "source": [
    "res_np.T"
   ]
  },
  {
   "cell_type": "markdown",
   "id": "f4b609f9",
   "metadata": {},
   "source": [
    "# Matmult Transposed Dense (SPR)"
   ]
  },
  {
   "cell_type": "code",
   "execution_count": null,
   "id": "cdf17135",
   "metadata": {},
   "outputs": [],
   "source": [
    "c=np.zeros(a.T.shape)\n",
    "at = a.T\n",
    "for row in range(at.shape[0]):\n",
    "    for col in range(at.shape[1]):\n",
    "        c[row][col] = at[row][col]"
   ]
  },
  {
   "cell_type": "code",
   "execution_count": null,
   "id": "0ee349c5",
   "metadata": {},
   "outputs": [],
   "source": [
    "a_buf = cl.Buffer(ctx, mf.READ_WRITE | mf.COPY_HOST_PTR, hostbuf=c.astype(np.float32))\n",
    "b_buf = cl.Buffer(ctx, mf.READ_WRITE | mf.COPY_HOST_PTR, hostbuf=b)\n",
    "\n",
    "prg = cl.Program(ctx, \"\"\"\n",
    "    // multilplies x TRANSPOSED by y (dense-dense)\n",
    "    __kernel void matmul0(__global  float* x,      // INPUT MATRIX DATA\n",
    "                          __global  float* y,      // INPUT\n",
    "                          __global  float* resdata,// OUT\n",
    "                          __global  uint*  rescols,\n",
    "                          __global  uint*  resnnzs,\n",
    "                          uint ellw,\n",
    "                          uint msize,\n",
    "                          uint osize\n",
    "                          ) { // LOCAL SHARED BUFFER\n",
    "      uint isize = get_global_size(0);\n",
    "      int gidx = get_global_id(0); // row\n",
    "      \n",
    "      resnnzs[gidx] = 0;\n",
    "      \n",
    "      for (uint gidy = 0; gidy < osize; gidy++) {\n",
    "        float ret = 0.0;\n",
    "        uint i;\n",
    "        for (i = 0; i < msize; i++) {\n",
    "          uint xidx = i*isize+gidx;\n",
    "          float xval = x[xidx];\n",
    "          uint yidx = osize*i+gidy;\n",
    "          float yval = y[yidx];\n",
    "          ret += xval*yval;\n",
    "          if (gidx==0 && gidy==0)\n",
    "            printf(\"\\\\nmult: %.2f x %.2f - %.2f  -- %i/%i\", xval, yval, ret, xidx, yidx);\n",
    "        }\n",
    "        //if (gidx==0&&gidy==0)\n",
    "        //  printf(\"\\\\nsum:%.2f\", ret);\n",
    "        \n",
    "        // add for \n",
    "        uint nnz = resnnzs[gidx];\n",
    "        for (i = 0; i < nnz; i++) {\n",
    "          if (rescols[i] >= gidy) {\n",
    "            break;\n",
    "          }\n",
    "          for (uint j = nnz; j >= i; j--) {\n",
    "            //resdata[j+1] = resdata[j];\n",
    "          }\n",
    "        }\n",
    "        resdata[gidx * ellw + i] = ret;\n",
    "        rescols[gidx * ellw + i] = gidy;\n",
    "        resnnzs[gidx] += 1;\n",
    "      }\n",
    "    }\"\"\").build()"
   ]
  },
  {
   "cell_type": "code",
   "execution_count": null,
   "id": "9b8ecaa9",
   "metadata": {},
   "outputs": [],
   "source": [
    "a.shape, b.shape"
   ]
  },
  {
   "cell_type": "code",
   "execution_count": null,
   "id": "855b1330",
   "metadata": {},
   "outputs": [],
   "source": [
    "rows = a.shape[0]"
   ]
  },
  {
   "cell_type": "code",
   "execution_count": null,
   "id": "33d64404",
   "metadata": {},
   "outputs": [],
   "source": [
    "mult = mult.astype(np.float32)\n",
    "mult.shape"
   ]
  },
  {
   "cell_type": "code",
   "execution_count": null,
   "id": "b99e8b19",
   "metadata": {},
   "outputs": [],
   "source": [
    "resdata_buf = cl.Buffer(ctx, mf.READ_WRITE, np.prod([rows,b.shape[1]])*4)\n",
    "rescols_buf = cl.Buffer(ctx, mf.READ_WRITE, np.prod([rows,b.shape[1]])*4)\n",
    "resnnzs_buf = cl.Buffer(ctx, mf.READ_WRITE, np.prod([rows])*4)\n",
    "\n",
    "knl = prg.matmul0  # Use this Kernel object for repeated calls\n",
    "knl(queue, [rows], None, a_buf, b_buf, resdata_buf, rescols_buf, resnnzs_buf, np.uint32(b.shape[1]), np.uint32(a.shape[1]), np.uint32(b.shape[1]))\n",
    "\n",
    "resdata = np.zeros(a.shape[0]*b.shape[1]).astype(np.float32)\n",
    "rescols = np.zeros(a.shape[0]*b.shape[1]).astype(np.uint32)\n",
    "resnnzs = np.zeros(a.shape[0]).astype(np.uint32)\n",
    "cl.enqueue_copy(queue, resdata, resdata_buf)\n",
    "cl.enqueue_copy(queue, rescols, rescols_buf)\n",
    "cl.enqueue_copy(queue, resnnzs, resnnzs_buf)"
   ]
  },
  {
   "cell_type": "code",
   "execution_count": null,
   "id": "2f6199ca",
   "metadata": {},
   "outputs": [],
   "source": [
    "resdata"
   ]
  },
  {
   "cell_type": "code",
   "execution_count": null,
   "id": "e47390ec",
   "metadata": {},
   "outputs": [],
   "source": [
    "rescols"
   ]
  },
  {
   "cell_type": "code",
   "execution_count": null,
   "id": "7f2f7494",
   "metadata": {},
   "outputs": [],
   "source": [
    "resnnzs"
   ]
  },
  {
   "cell_type": "code",
   "execution_count": null,
   "id": "3eac1dce",
   "metadata": {},
   "outputs": [],
   "source": [
    "res_np = to_dense(resdata, rescols, resnnzs, b.shape[1], mult.shape)"
   ]
  },
  {
   "cell_type": "code",
   "execution_count": null,
   "id": "22bf2354",
   "metadata": {},
   "outputs": [],
   "source": [
    "(res_np-mult).sum()"
   ]
  },
  {
   "cell_type": "code",
   "execution_count": null,
   "id": "ecb0c420",
   "metadata": {},
   "outputs": [],
   "source": [
    "a"
   ]
  },
  {
   "cell_type": "code",
   "execution_count": null,
   "id": "02ce2b33",
   "metadata": {},
   "outputs": [],
   "source": [
    "b"
   ]
  },
  {
   "cell_type": "code",
   "execution_count": null,
   "id": "08bd2565",
   "metadata": {},
   "outputs": [],
   "source": [
    "res_np"
   ]
  },
  {
   "cell_type": "code",
   "execution_count": null,
   "id": "67843f43",
   "metadata": {},
   "outputs": [],
   "source": [
    "a.dot(b)"
   ]
  },
  {
   "cell_type": "code",
   "execution_count": null,
   "id": "d3891873",
   "metadata": {},
   "outputs": [],
   "source": [
    "res_np==mult"
   ]
  },
  {
   "cell_type": "code",
   "execution_count": 92,
   "id": "af69d00a",
   "metadata": {},
   "outputs": [
    {
     "data": {
      "text/plain": [
       "(8, 16)"
      ]
     },
     "execution_count": 92,
     "metadata": {},
     "output_type": "execute_result"
    }
   ],
   "source": [
    "res_np.shape"
   ]
  },
  {
   "cell_type": "code",
   "execution_count": 93,
   "id": "44b64ded",
   "metadata": {},
   "outputs": [
    {
     "data": {
      "text/plain": [
       "(8, 16)"
      ]
     },
     "execution_count": 93,
     "metadata": {},
     "output_type": "execute_result"
    }
   ],
   "source": [
    "mult.shape"
   ]
  },
  {
   "cell_type": "markdown",
   "id": "3eef886c",
   "metadata": {},
   "source": [
    "# Matmult Transposed Dense (SPR-T OUT)"
   ]
  },
  {
   "cell_type": "code",
   "execution_count": 94,
   "id": "55ab1498",
   "metadata": {},
   "outputs": [],
   "source": [
    "c=np.zeros(a.T.shape)\n",
    "at = a.T\n",
    "for row in range(at.shape[0]):\n",
    "    for col in range(at.shape[1]):\n",
    "        c[row][col] = at[row][col]"
   ]
  },
  {
   "cell_type": "code",
   "execution_count": 95,
   "id": "087bc29d",
   "metadata": {},
   "outputs": [],
   "source": [
    "a_buf = cl.Buffer(ctx, mf.READ_WRITE | mf.COPY_HOST_PTR, hostbuf=c.astype(np.float32))\n",
    "b_buf = cl.Buffer(ctx, mf.READ_WRITE | mf.COPY_HOST_PTR, hostbuf=b)\n",
    "\n",
    "prg = cl.Program(ctx, \"\"\"\n",
    "    // multilplies x TRANSPOSED by y (dense-dense)\n",
    "    __kernel void matmul0t(__global  float* x,      // INPUT MATRIX DATA\n",
    "                          __global  float* y,      // INPUT\n",
    "                          __global  float* resdata,// OUT\n",
    "                          __global  uint*  rescols,\n",
    "                          __global  uint*  resnnzs,\n",
    "                          uint ellw,\n",
    "                          uint msize,\n",
    "                          uint isize\n",
    "                          ) { // LOCAL SHARED BUFFER\n",
    "      uint osize = get_global_size(0);\n",
    "      int gidy = get_global_id(0); // row\n",
    "      \n",
    "      resnnzs[gidy] = 0;\n",
    "      for (uint gidx = 0; gidx < isize; gidx++) {\n",
    "        float ret = 0.0;\n",
    "        uint i;\n",
    "        for (i = 0; i < msize; i++) {\n",
    "          uint xidx = i*isize+gidx;\n",
    "          float xval = x[xidx];\n",
    "          uint yidx = osize*i+gidy;\n",
    "          float yval = y[yidx];\n",
    "          ret += xval*yval;\n",
    "          if (gidx==0 && gidy==0)\n",
    "            printf(\"\\\\nmult: %.2f x %.2f - %.2f  -- %i/%i\", xval, yval, ret, xidx, yidx);\n",
    "        }\n",
    "        //if (gidx==0&&gidy==0)\n",
    "        //  printf(\"\\\\nsum:%.2f\", ret);\n",
    "        \n",
    "        // add for \n",
    "        uint nnz = resnnzs[gidy];\n",
    "        for (i = 0; i < nnz; i++) {\n",
    "          if (rescols[i] >= gidx) {\n",
    "            break;\n",
    "          }\n",
    "          for (uint j = nnz; j >= i; j--) {\n",
    "            //resdata[j+1] = resdata[j];\n",
    "          }\n",
    "        }\n",
    "        resdata[gidy * ellw + i] = ret;\n",
    "        rescols[gidy * ellw + i] = gidx;\n",
    "        resnnzs[gidy] += 1;\n",
    "      }\n",
    "    }\"\"\").build()"
   ]
  },
  {
   "cell_type": "code",
   "execution_count": 96,
   "id": "059108e4",
   "metadata": {},
   "outputs": [
    {
     "data": {
      "text/plain": [
       "((8, 16), (16, 5))"
      ]
     },
     "execution_count": 96,
     "metadata": {},
     "output_type": "execute_result"
    }
   ],
   "source": [
    "a.shape, b.shape"
   ]
  },
  {
   "cell_type": "code",
   "execution_count": 97,
   "id": "f88da7c7",
   "metadata": {},
   "outputs": [],
   "source": [
    "rows = a.shape[0]\n",
    "cols = b.shape[1]"
   ]
  },
  {
   "cell_type": "code",
   "execution_count": 98,
   "id": "bc504673",
   "metadata": {},
   "outputs": [
    {
     "data": {
      "text/plain": [
       "(8, 16)"
      ]
     },
     "execution_count": 98,
     "metadata": {},
     "output_type": "execute_result"
    }
   ],
   "source": [
    "mult = mult.astype(np.float32)\n",
    "mult.shape"
   ]
  },
  {
   "cell_type": "code",
   "execution_count": 99,
   "id": "fbc607ed",
   "metadata": {},
   "outputs": [
    {
     "name": "stdout",
     "output_type": "stream",
     "text": [
      "\n",
      "mult: 0.00 x 0.49 - 0.00  -- 0/0\n",
      "mult: 0.68 x 0.66 - 0.45  -- 8/5\n",
      "mult: 0.80 x 0.31 - 0.70  -- 16/10\n",
      "mult: 0.00 x 0.00 - 0.70  -- 24/15\n",
      "mult: 0.00 x 0.71 - 0.70  -- 32/20\n",
      "mult: 0.00 x 0.00 - 0.70  -- 40/25\n",
      "mult: 0.00 x 0.46 - 0.70  -- 48/30\n",
      "mult: 0.08 x 0.00 - 0.70  -- 56/35\n",
      "mult: 0.89 x 0.00 - 0.70  -- 64/40\n",
      "mult: 0.00 x 0.00 - 0.70  -- 72/45\n",
      "mult: 0.18 x 0.00 - 0.70  -- 80/50\n",
      "mult: 0.00 x 0.00 - 0.70  -- 88/55\n",
      "mult: 0.46 x 0.00 - 0.70  -- 96/60\n",
      "mult: 0.00 x 0.00 - 0.70  -- 104/65\n",
      "mult: 0.00 x 0.19 - 0.70  -- 112/70\n",
      "mult: 0.00 x 0.73 - 0.70  -- 120/75"
     ]
    },
    {
     "data": {
      "text/plain": [
       "<pyopencl._cl.NannyEvent at 0x7fd7f0288950>"
      ]
     },
     "execution_count": 99,
     "metadata": {},
     "output_type": "execute_result"
    }
   ],
   "source": [
    "resdatat_buf = cl.Buffer(ctx, mf.READ_WRITE, np.prod([cols,rows])*4)\n",
    "rescolst_buf = cl.Buffer(ctx, mf.READ_WRITE, np.prod([cols,rows])*4)\n",
    "resnnzst_buf = cl.Buffer(ctx, mf.READ_WRITE, cols*4)\n",
    "\n",
    "knl = prg.matmul0t  # Use this Kernel object for repeated calls\n",
    "knl(queue, [cols], None, a_buf, b_buf, resdatat_buf, rescolst_buf, resnnzst_buf, np.uint32(rows), np.uint32(a.shape[1]), np.uint32(rows))\n",
    "\n",
    "resdatat = np.zeros(cols*rows).astype(np.float32)\n",
    "rescolst = np.zeros(cols*rows).astype(np.uint32)\n",
    "resnnzst = np.zeros(cols).astype(np.uint32)\n",
    "cl.enqueue_copy(queue, resdatat, resdatat_buf)\n",
    "cl.enqueue_copy(queue, rescolst, rescolst_buf)\n",
    "cl.enqueue_copy(queue, resnnzst, resnnzst_buf)"
   ]
  },
  {
   "cell_type": "code",
   "execution_count": 100,
   "id": "1a6c8bcf",
   "metadata": {},
   "outputs": [
    {
     "data": {
      "text/plain": [
       "array([0.6996368 , 1.8848312 , 0.16573755, 1.130233  , 0.49532753,\n",
       "       0.60025734, 0.17482497, 0.7240762 , 0.15550727, 0.18735047,\n",
       "       0.51614475, 0.31159392, 0.9677906 , 0.7728439 , 0.30367106,\n",
       "       0.27932334, 1.6236207 , 1.4160932 , 1.40742   , 1.1950791 ,\n",
       "       0.8187757 , 1.2898692 , 0.47157714, 0.99110806, 0.3340667 ,\n",
       "       0.30414024, 0.7711447 , 0.32051137, 0.1351769 , 0.9285497 ,\n",
       "       0.544282  , 0.09674796, 0.61331564, 0.29892322, 0.        ,\n",
       "       0.6311476 , 0.01893103, 0.        , 0.7309462 , 0.8390946 ],\n",
       "      dtype=float32)"
      ]
     },
     "execution_count": 100,
     "metadata": {},
     "output_type": "execute_result"
    }
   ],
   "source": [
    "resdatat"
   ]
  },
  {
   "cell_type": "code",
   "execution_count": 101,
   "id": "1d10b848",
   "metadata": {},
   "outputs": [
    {
     "data": {
      "text/plain": [
       "array([0, 1, 2, 3, 4, 5, 6, 7, 0, 1, 2, 3, 4, 5, 6, 7, 0, 1, 2, 3, 4, 5,\n",
       "       6, 7, 0, 1, 2, 3, 4, 5, 6, 7, 0, 1, 2, 3, 4, 5, 6, 7], dtype=uint32)"
      ]
     },
     "execution_count": 101,
     "metadata": {},
     "output_type": "execute_result"
    }
   ],
   "source": [
    "rescolst"
   ]
  },
  {
   "cell_type": "code",
   "execution_count": 102,
   "id": "17368b85",
   "metadata": {},
   "outputs": [
    {
     "data": {
      "text/plain": [
       "array([8, 8, 8, 8, 8], dtype=uint32)"
      ]
     },
     "execution_count": 102,
     "metadata": {},
     "output_type": "execute_result"
    }
   ],
   "source": [
    "resnnzst"
   ]
  },
  {
   "cell_type": "code",
   "execution_count": 103,
   "id": "6efb91f7",
   "metadata": {},
   "outputs": [
    {
     "ename": "IndexError",
     "evalue": "index 5 is out of bounds for axis 0 with size 5",
     "output_type": "error",
     "traceback": [
      "\u001b[0;31m---------------------------------------------------------------------------\u001b[0m",
      "\u001b[0;31mIndexError\u001b[0m                                Traceback (most recent call last)",
      "\u001b[0;32m/tmp/ipykernel_31620/140497622.py\u001b[0m in \u001b[0;36m<module>\u001b[0;34m\u001b[0m\n\u001b[0;32m----> 1\u001b[0;31m \u001b[0mres_np\u001b[0m \u001b[0;34m=\u001b[0m \u001b[0mto_dense\u001b[0m\u001b[0;34m(\u001b[0m\u001b[0mresdatat\u001b[0m\u001b[0;34m,\u001b[0m \u001b[0mrescolst\u001b[0m\u001b[0;34m,\u001b[0m \u001b[0mresnnzst\u001b[0m\u001b[0;34m,\u001b[0m \u001b[0ma\u001b[0m\u001b[0;34m.\u001b[0m\u001b[0mshape\u001b[0m\u001b[0;34m[\u001b[0m\u001b[0;36m0\u001b[0m\u001b[0;34m]\u001b[0m\u001b[0;34m,\u001b[0m \u001b[0mmult\u001b[0m\u001b[0;34m.\u001b[0m\u001b[0mT\u001b[0m\u001b[0;34m.\u001b[0m\u001b[0mshape\u001b[0m\u001b[0;34m)\u001b[0m\u001b[0;34m\u001b[0m\u001b[0;34m\u001b[0m\u001b[0m\n\u001b[0m\u001b[1;32m      2\u001b[0m \u001b[0mres_np\u001b[0m\u001b[0;34m.\u001b[0m\u001b[0mT\u001b[0m\u001b[0;34m\u001b[0m\u001b[0;34m\u001b[0m\u001b[0m\n",
      "\u001b[0;32m/tmp/ipykernel_31620/1666242131.py\u001b[0m in \u001b[0;36mto_dense\u001b[0;34m(data, cols, nnzs, ellw, shape)\u001b[0m\n\u001b[1;32m      2\u001b[0m     \u001b[0mout\u001b[0m \u001b[0;34m=\u001b[0m \u001b[0mnp\u001b[0m\u001b[0;34m.\u001b[0m\u001b[0mzeros\u001b[0m\u001b[0;34m(\u001b[0m\u001b[0mshape\u001b[0m\u001b[0;34m)\u001b[0m\u001b[0;34m\u001b[0m\u001b[0;34m\u001b[0m\u001b[0m\n\u001b[1;32m      3\u001b[0m     \u001b[0;32mfor\u001b[0m \u001b[0mrow\u001b[0m \u001b[0;32min\u001b[0m \u001b[0mrange\u001b[0m\u001b[0;34m(\u001b[0m\u001b[0mshape\u001b[0m\u001b[0;34m[\u001b[0m\u001b[0;36m0\u001b[0m\u001b[0;34m]\u001b[0m\u001b[0;34m)\u001b[0m\u001b[0;34m:\u001b[0m\u001b[0;34m\u001b[0m\u001b[0;34m\u001b[0m\u001b[0m\n\u001b[0;32m----> 4\u001b[0;31m         \u001b[0;32mfor\u001b[0m \u001b[0micol\u001b[0m \u001b[0;32min\u001b[0m \u001b[0mrange\u001b[0m\u001b[0;34m(\u001b[0m\u001b[0mnnzs\u001b[0m\u001b[0;34m[\u001b[0m\u001b[0mrow\u001b[0m\u001b[0;34m]\u001b[0m\u001b[0;34m)\u001b[0m\u001b[0;34m:\u001b[0m\u001b[0;34m\u001b[0m\u001b[0;34m\u001b[0m\u001b[0m\n\u001b[0m\u001b[1;32m      5\u001b[0m             \u001b[0mout\u001b[0m\u001b[0;34m[\u001b[0m\u001b[0mrow\u001b[0m\u001b[0;34m,\u001b[0m\u001b[0mcols\u001b[0m\u001b[0;34m[\u001b[0m\u001b[0mrow\u001b[0m\u001b[0;34m*\u001b[0m\u001b[0mellw\u001b[0m\u001b[0;34m+\u001b[0m\u001b[0micol\u001b[0m\u001b[0;34m]\u001b[0m\u001b[0;34m]\u001b[0m \u001b[0;34m=\u001b[0m \u001b[0mdata\u001b[0m\u001b[0;34m[\u001b[0m\u001b[0mrow\u001b[0m\u001b[0;34m*\u001b[0m\u001b[0mellw\u001b[0m\u001b[0;34m+\u001b[0m\u001b[0micol\u001b[0m\u001b[0;34m]\u001b[0m\u001b[0;34m\u001b[0m\u001b[0;34m\u001b[0m\u001b[0m\n\u001b[1;32m      6\u001b[0m     \u001b[0;32mreturn\u001b[0m \u001b[0mout\u001b[0m\u001b[0;34m\u001b[0m\u001b[0;34m\u001b[0m\u001b[0m\n",
      "\u001b[0;31mIndexError\u001b[0m: index 5 is out of bounds for axis 0 with size 5"
     ]
    }
   ],
   "source": [
    "res_np = to_dense(resdatat, rescolst, resnnzst, a.shape[0], mult.T.shape)\n",
    "res_np.T"
   ]
  },
  {
   "cell_type": "code",
   "execution_count": null,
   "id": "62a5ddcd",
   "metadata": {},
   "outputs": [],
   "source": [
    "(res_np.T-mult).sum()"
   ]
  },
  {
   "cell_type": "code",
   "execution_count": null,
   "id": "3bb3a2b2",
   "metadata": {},
   "outputs": [],
   "source": [
    "res_np.shape"
   ]
  },
  {
   "cell_type": "code",
   "execution_count": null,
   "id": "15e06824",
   "metadata": {},
   "outputs": [],
   "source": [
    "a.dot(b)"
   ]
  },
  {
   "cell_type": "code",
   "execution_count": null,
   "id": "7099f414",
   "metadata": {},
   "outputs": [],
   "source": [
    "mult - res_np.T"
   ]
  },
  {
   "cell_type": "code",
   "execution_count": null,
   "id": "781e57f8",
   "metadata": {},
   "outputs": [],
   "source": [
    "res_np.T==mult"
   ]
  },
  {
   "cell_type": "markdown",
   "id": "59835b7e",
   "metadata": {},
   "source": [
    "# Matmult Dense Transposed2"
   ]
  },
  {
   "cell_type": "code",
   "execution_count": null,
   "id": "4a6954ad",
   "metadata": {},
   "outputs": [],
   "source": [
    "b_buf2 = cl.Buffer(ctx, mf.READ_WRITE | mf.COPY_HOST_PTR, hostbuf=b)\n",
    "a_buf = cl.Buffer(ctx, mf.READ_WRITE | mf.COPY_HOST_PTR, hostbuf=a)\n",
    "\n",
    "prg = cl.Program(ctx, \"\"\"\n",
    "    // multilplies x by y WITH Y TRANSPOSED INDEXING\n",
    "    __kernel void matmul0(__global  float* x,     // INPUT MATRIX DATA\n",
    "                          __global  float* y,    // INPUT\n",
    "                          __global  float* res,    // INPUT\n",
    "                          uint msize,\n",
    "                          uint osize\n",
    "                          ) { // LOCAL SHARED BUFFER\n",
    "      uint isize = get_global_size(0);\n",
    "      // osize = get_global_size(1);\n",
    "      int gidx = get_global_id(0); // col\n",
    "      // int gidy = get_global_id(1); // row\n",
    "\n",
    "      for (uint gidy = 0; gidy < osize; gidy++) {\n",
    "        float ret = 0.0;\n",
    "        for (uint i = 0; i < msize; i++) {\n",
    "          ret += x[gidx*msize+i]*y[i*osize+gidy];\n",
    "          if (gidx==0 && gidy==0)\n",
    "            printf(\"\\\\nmult: %.2f x %.2f - %.2f\", x[gidx*msize+i],y[i*msize+gidy], ret);\n",
    "        }\n",
    "\n",
    "        //if (gidx==0&&gidy==0)\n",
    "        //  printf(\"\\\\nsum:%.2f\", ret);\n",
    "        res[gidx * osize + gidy] = ret;\n",
    "      }\n",
    "    }\"\"\").build()"
   ]
  },
  {
   "cell_type": "code",
   "execution_count": null,
   "id": "c8a9728b",
   "metadata": {},
   "outputs": [],
   "source": [
    "a.shape, b.shape"
   ]
  },
  {
   "cell_type": "code",
   "execution_count": null,
   "id": "af31f5a8",
   "metadata": {},
   "outputs": [],
   "source": [
    "res = np.zeros(a.shape[0]).astype(np.float32)\n",
    "#res"
   ]
  },
  {
   "cell_type": "code",
   "execution_count": null,
   "id": "bfe05099",
   "metadata": {},
   "outputs": [],
   "source": [
    "rows = a.shape[0]"
   ]
  },
  {
   "cell_type": "code",
   "execution_count": null,
   "id": "f468303a",
   "metadata": {},
   "outputs": [],
   "source": [
    "mult = mult.astype(np.float32)"
   ]
  },
  {
   "cell_type": "code",
   "execution_count": null,
   "id": "3be17413",
   "metadata": {},
   "outputs": [],
   "source": [
    "res_buf = cl.Buffer(ctx, mf.READ_WRITE, np.prod([rows,b.shape[1]])*4)\n",
    "knl = prg.matmul0  # Use this Kernel object for repeated calls\n",
    "knl(queue, [rows], None, a_buf, b_buf2, res_buf, np.uint32(a.shape[1]), np.uint32(b.shape[1]))\n",
    "\n",
    "res_np = np.zeros([rows,b.shape[1]]).astype(np.float32)\n",
    "cl.enqueue_copy(queue, res_np, res_buf)"
   ]
  },
  {
   "cell_type": "code",
   "execution_count": null,
   "id": "49f1bc06",
   "metadata": {},
   "outputs": [],
   "source": [
    "(res_np-mult).sum()"
   ]
  },
  {
   "cell_type": "code",
   "execution_count": null,
   "id": "b721089a",
   "metadata": {},
   "outputs": [],
   "source": [
    "a"
   ]
  },
  {
   "cell_type": "code",
   "execution_count": null,
   "id": "a03001f2",
   "metadata": {},
   "outputs": [],
   "source": [
    "b.T"
   ]
  },
  {
   "cell_type": "code",
   "execution_count": null,
   "id": "7b5dd59e",
   "metadata": {},
   "outputs": [],
   "source": [
    "a[0]"
   ]
  },
  {
   "cell_type": "code",
   "execution_count": null,
   "id": "d8c0f986",
   "metadata": {},
   "outputs": [],
   "source": [
    "b.T[0]"
   ]
  },
  {
   "cell_type": "code",
   "execution_count": null,
   "id": "94c47d91",
   "metadata": {},
   "outputs": [],
   "source": [
    "res_buf"
   ]
  },
  {
   "cell_type": "code",
   "execution_count": null,
   "id": "8776a0a7",
   "metadata": {},
   "outputs": [],
   "source": [
    "res_np"
   ]
  },
  {
   "cell_type": "code",
   "execution_count": null,
   "id": "46dca274",
   "metadata": {},
   "outputs": [],
   "source": [
    "a.dot(b)"
   ]
  },
  {
   "cell_type": "code",
   "execution_count": null,
   "id": "4641cdcc",
   "metadata": {},
   "outputs": [],
   "source": [
    "res_np==mult"
   ]
  },
  {
   "cell_type": "code",
   "execution_count": null,
   "id": "5b55f104",
   "metadata": {},
   "outputs": [],
   "source": [
    "res_np.shape"
   ]
  },
  {
   "cell_type": "code",
   "execution_count": null,
   "id": "84122d03",
   "metadata": {},
   "outputs": [],
   "source": [
    "mult.shape"
   ]
  },
  {
   "cell_type": "markdown",
   "id": "b3ad7225",
   "metadata": {},
   "source": [
    "## Weight update kernel"
   ]
  },
  {
   "cell_type": "code",
   "execution_count": null,
   "id": "a5138cee",
   "metadata": {},
   "outputs": [],
   "source": [
    "bs = 4"
   ]
  },
  {
   "cell_type": "code",
   "execution_count": null,
   "id": "ae5eb8aa",
   "metadata": {},
   "outputs": [],
   "source": [
    "a"
   ]
  },
  {
   "cell_type": "code",
   "execution_count": null,
   "id": "76e44e2d",
   "metadata": {},
   "outputs": [],
   "source": [
    "dim = 8\n",
    "\n",
    "x = np.random.rand(bs,dim).astype(np.float32)\n",
    "y = np.random.rand(bs,dim).astype(np.float32)\n",
    "x.shape,y.shape, topk"
   ]
  },
  {
   "cell_type": "markdown",
   "id": "de5e3e5e",
   "metadata": {},
   "source": [
    "x_buf = cl.Buffer(ctx, mf.READ_ONLY | mf.COPY_HOST_PTR, hostbuf=x)\n",
    "y_buf = cl.Buffer(ctx, mf.READ_ONLY | mf.COPY_HOST_PTR, hostbuf=y)\n",
    "x_cp_buf = cl.Buffer(ctx, mf.WRITE_ONLY, bs*topk*topk*4)\n",
    "x_idx_buf = cl.Buffer(ctx, mf.WRITE_ONLY, bs*topk*4)\n",
    "y_idx_buf = cl.Buffer(ctx, mf.WRITE_ONLY, bs*topk*4)\n",
    "\n",
    "prg = cl.Program(ctx, \"\"\"\n",
    "    // sorts x and y in ascending order and returns sorted indices\n",
    "    __kernel void genwupdate2(__global  float* x,     // INPUT MATRIX DATA\n",
    "                             __global  float* y,    // INPUT\n",
    "                             __global  float* xout,    // INPUT\n",
    "                             uint topk,\n",
    "                             __global  uint* xoutidx,    // INPUT\n",
    "                             __global  uint* youtidx    // INPUT\n",
    "                            ) { // LOCAL SHARED BUFFER\n",
    "      uint gid = get_global_id(0);\n",
    "      uint n = get_global_size(0);\n",
    "      uint bs = get_global_size(1);\n",
    "      uint gid2 = get_global_id(1);\n",
    "\n",
    "      uint idx = n*gid2+gid;\n",
    "\n",
    "      float valx = x[idx];\n",
    "      float valy = y[idx];\n",
    "      uint posx = 0;\n",
    "      uint posy = 0;\n",
    "      for (uint i = 0; i < n; i++) {\n",
    "        uint idx2 = n*gid2+i;\n",
    "        float tempval = x[idx2];\n",
    "        float tempval2 = y[idx2];\n",
    "        bool larger = tempval > valx;\n",
    "        bool larger2 = tempval2 > valy;\n",
    "\n",
    "        barrier(CLK_GLOBAL_MEM_FENCE);\n",
    "        posx += (larger)?1:0;\n",
    "        posy += (larger2)?1:0;\n",
    "        barrier(CLK_GLOBAL_MEM_FENCE);\n",
    "      }\n",
    "      barrier(CLK_GLOBAL_MEM_FENCE);\n",
    "      //printf(\"posx:%i\", posx);\n",
    "      if (posx < topk) {\n",
    "        xoutidx[posx+topk*gid2] = gid;\n",
    "      }\n",
    "      if (posy < topk) {\n",
    "        youtidx[posy+topk*gid2] = gid;\n",
    "      }\n",
    "      barrier(CLK_GLOBAL_MEM_FENCE);\n",
    "      if (gid < topk) {\n",
    "        for (uint j=0; j<topk; j++) {\n",
    "          float res = x[xoutidx[gid+topk*gid2]+gid2*n] * y[youtidx[j+topk*gid2]+gid2*n];\n",
    "          //printf(\"\\\\nJ:%i  gid:%i\", j, gid);\n",
    "          //printf(\"\\\\nRES:%.2f - %i - %i -  %.2f - %.2f\",res, xoutidx[gid+topk*gid2], youtidx[j+topk*gid2], x[xoutidx[gid+topk*gid2]+gid2*n], y[youtidx[j+topk*gid2]+gid2*n]);\n",
    "          barrier(CLK_GLOBAL_MEM_FENCE);\n",
    "          xout[gid2*topk*topk+j*topk+gid] = res;\n",
    "          barrier(CLK_GLOBAL_MEM_FENCE);\n",
    "          \n",
    "        }\n",
    "      }\n",
    "      barrier(CLK_GLOBAL_MEM_FENCE);\n",
    "    }\"\"\").build()"
   ]
  },
  {
   "cell_type": "code",
   "execution_count": null,
   "id": "88864470",
   "metadata": {},
   "outputs": [],
   "source": [
    "x_buf = cl.Buffer(ctx, mf.READ_ONLY | mf.COPY_HOST_PTR, hostbuf=x)\n",
    "y_buf = cl.Buffer(ctx, mf.READ_ONLY | mf.COPY_HOST_PTR, hostbuf=y)\n",
    "x_cp_buf = cl.Buffer(ctx, mf.WRITE_ONLY, bs*topk*topk*4)\n",
    "x_idx_buf = cl.Buffer(ctx, mf.WRITE_ONLY, bs*topk*4)\n",
    "y_idx_buf = cl.Buffer(ctx, mf.WRITE_ONLY, bs*topk*4)\n",
    "#x_cp_buft = cl.Buffer(ctx, mf.WRITE_ONLY, bs*topk*topk*4)\n",
    "#x_idx_buft = cl.Buffer(ctx, mf.WRITE_ONLY, bs*topk*4)\n",
    "#y_idx_buft = cl.Buffer(ctx, mf.WRITE_ONLY, bs*topk*4)\n",
    "\n",
    "prg = cl.Program(ctx, \"\"\"\n",
    "    // sorts x and y in ascending order and returns sorted indices\n",
    "    __kernel void genwupdate2(__global  float* x,     // INPUT MATRIX DATA\n",
    "                             __global  float* y,    // INPUT\n",
    "                             __global  float* xout,    // INPUT\n",
    "                             uint topk,\n",
    "                             uint bs,\n",
    "                             __global  uint* xoutidx,    // INPUT\n",
    "                             __global  uint* youtidx    // INPUT\n",
    "                            ) { // LOCAL SHARED BUFFER\n",
    "      uint gid = get_global_id(0);\n",
    "      uint n = get_global_size(0);\n",
    "      //uint bs = get_global_size(1);\n",
    "      //uint gid2 = get_global_id(1);\n",
    "\n",
    "      for (uint gid2=0; gid2<bs; gid2++){\n",
    "        uint idx = n*gid2+gid;\n",
    "\n",
    "        float valx = x[idx];\n",
    "        float valy = y[idx];\n",
    "        uint posx = 0;\n",
    "        uint posy = 0;\n",
    "        for (uint i = 0; i < n; i++) {\n",
    "          uint idx2 = n*gid2+i;\n",
    "          float tempval = x[idx2];\n",
    "          float tempval2 = y[idx2];\n",
    "          bool larger = tempval > valx;\n",
    "          bool larger2 = tempval2 > valy;\n",
    "\n",
    "          posx += (larger)?1:0;\n",
    "          posy += (larger2)?1:0;\n",
    "        }\n",
    "        //printf(\"posx:%i\", posx);\n",
    "        if (posx < topk) {\n",
    "        xoutidx[posx+topk*gid2] = gid;\n",
    "        }\n",
    "        if (posy < topk) {\n",
    "          youtidx[posy+topk*gid2] = gid;\n",
    "        }\n",
    "      }\n",
    "      for (uint gid2=0; gid2<bs; gid2++){\n",
    "        if (gid < topk) {\n",
    "          for (uint j=0; j<topk; j++) {\n",
    "            float res = x[xoutidx[gid+topk*gid2]+gid2*n] * y[youtidx[j+topk*gid2]+gid2*n];\n",
    "            //printf(\"\\\\nJ:%i  gid:%i\", j, gid);\n",
    "            //printf(\"\\\\nRES:%.2f - %i - %i -  %.2f - %.2f\",res, xoutidx[gid+topk*gid2], youtidx[j+topk*gid2], x[xoutidx[gid+topk*gid2]+gid2*n], y[youtidx[j+topk*gid2]+gid2*n]);\n",
    "            //barrier(CLK_GLOBAL_MEM_FENCE);\n",
    "            xout[gid2*topk*topk+j*topk+gid] = res;\n",
    "          }\n",
    "        }\n",
    "      }\n",
    "    }\"\"\").build()"
   ]
  },
  {
   "cell_type": "code",
   "execution_count": null,
   "id": "94682965",
   "metadata": {},
   "outputs": [],
   "source": [
    "knl = prg.genwupdate2  # Use this Kernel object for repeated calls\n",
    "evt = knl(queue, [dim], None, x_buf, y_buf, x_cp_buf, np.uint32(topk), np.uint32(bs), x_idx_buf, y_idx_buf)\n",
    "\n",
    "#evt.wait()\n",
    "resx = np.zeros(bs*topk*topk).astype(np.float32)\n",
    "resxidx = np.zeros(bs*topk).astype(np.uint32)\n",
    "resyidx = np.zeros(bs*topk).astype(np.uint32)\n",
    "\n",
    "cl.enqueue_copy(queue, resx, x_cp_buf)\n",
    "cl.enqueue_copy(queue, resxidx, x_idx_buf)\n",
    "cl.enqueue_copy(queue, resyidx, y_idx_buf)"
   ]
  },
  {
   "cell_type": "markdown",
   "id": "771508c3",
   "metadata": {},
   "source": [
    "knl(queue, [dim], None, y_buf, x_buf, x_cp_buft, np.uint32(topk), np.uint32(bs), x_idx_buft, y_idx_buft)\n",
    "\n",
    "#evt.wait()\n",
    "resx = np.zeros(bs*topk*topk).astype(np.float32)\n",
    "resxidx = np.zeros(bs*topk).astype(np.uint32)\n",
    "resyidx = np.zeros(bs*topk).astype(np.uint32)\n",
    "\n",
    "cl.enqueue_copy(queue, resx, x_cp_buf)\n",
    "cl.enqueue_copy(queue, resxidx, x_idx_buf)\n",
    "cl.enqueue_copy(queue, resyidx, y_idx_buf)"
   ]
  },
  {
   "cell_type": "code",
   "execution_count": null,
   "id": "88725ae2",
   "metadata": {},
   "outputs": [],
   "source": [
    "x"
   ]
  },
  {
   "cell_type": "code",
   "execution_count": null,
   "id": "4c150d0f",
   "metadata": {},
   "outputs": [],
   "source": [
    "y"
   ]
  },
  {
   "cell_type": "code",
   "execution_count": 104,
   "id": "990b8af7",
   "metadata": {},
   "outputs": [
    {
     "ename": "NameError",
     "evalue": "name 'y' is not defined",
     "output_type": "error",
     "traceback": [
      "\u001b[0;31m---------------------------------------------------------------------------\u001b[0m",
      "\u001b[0;31mNameError\u001b[0m                                 Traceback (most recent call last)",
      "\u001b[0;32m/tmp/ipykernel_31620/1197400766.py\u001b[0m in \u001b[0;36m<module>\u001b[0;34m\u001b[0m\n\u001b[0;32m----> 1\u001b[0;31m \u001b[0mx\u001b[0m\u001b[0;34m.\u001b[0m\u001b[0mshape\u001b[0m\u001b[0;34m,\u001b[0m \u001b[0my\u001b[0m\u001b[0;34m.\u001b[0m\u001b[0mshape\u001b[0m\u001b[0;34m\u001b[0m\u001b[0;34m\u001b[0m\u001b[0m\n\u001b[0m",
      "\u001b[0;31mNameError\u001b[0m: name 'y' is not defined"
     ]
    }
   ],
   "source": [
    "x.shape, y.shape"
   ]
  },
  {
   "cell_type": "code",
   "execution_count": null,
   "id": "1c18b7bb",
   "metadata": {},
   "outputs": [],
   "source": [
    "resx"
   ]
  },
  {
   "cell_type": "code",
   "execution_count": null,
   "id": "58d4154c",
   "metadata": {},
   "outputs": [],
   "source": [
    "resx.reshape(bs,topk,topk)"
   ]
  },
  {
   "cell_type": "code",
   "execution_count": null,
   "id": "5cca2876",
   "metadata": {},
   "outputs": [],
   "source": [
    "resxidx"
   ]
  },
  {
   "cell_type": "code",
   "execution_count": null,
   "id": "80deeac2",
   "metadata": {},
   "outputs": [],
   "source": [
    "resyidx"
   ]
  },
  {
   "cell_type": "code",
   "execution_count": null,
   "id": "3020c7d7",
   "metadata": {},
   "outputs": [],
   "source": [
    "idx = 1\n",
    "xy0 = x[idx].reshape(dim,1)*y[idx]\n",
    "xy0.shape"
   ]
  },
  {
   "cell_type": "code",
   "execution_count": null,
   "id": "fc865ccb",
   "metadata": {},
   "outputs": [],
   "source": [
    "xy0[3][7]"
   ]
  },
  {
   "cell_type": "markdown",
   "id": "1b1742a3",
   "metadata": {},
   "source": [
    "## Weight update kernel new"
   ]
  },
  {
   "cell_type": "code",
   "execution_count": 105,
   "id": "9f4bce2c",
   "metadata": {},
   "outputs": [
    {
     "data": {
      "text/plain": [
       "array([[0.49395892, 0.        , 0.46451807, 0.        , 0.        ],\n",
       "       [0.65864426, 0.        , 0.9786625 , 0.        , 0.        ],\n",
       "       [0.31044865, 0.        , 0.02502257, 0.        , 0.        ],\n",
       "       [0.        , 0.46765924, 0.        , 0.        , 0.03160795],\n",
       "       [0.71082693, 0.        , 0.58997136, 0.        , 0.        ],\n",
       "       [0.        , 0.        , 0.84622455, 0.5916316 , 0.        ],\n",
       "       [0.46450275, 0.        , 0.        , 0.        , 0.9429863 ],\n",
       "       [0.        , 0.34248227, 0.7672639 , 0.        , 0.        ],\n",
       "       [0.        , 0.        , 0.9855889 , 0.        , 0.2535647 ],\n",
       "       [0.        , 0.7705159 , 0.31522992, 0.        , 0.        ],\n",
       "       [0.        , 0.7167741 , 0.        , 0.8238369 , 0.        ],\n",
       "       [0.        , 0.91970533, 0.        , 0.7873889 , 0.        ],\n",
       "       [0.        , 0.        , 0.        , 0.404568  , 0.841323  ],\n",
       "       [0.        , 0.        , 0.674503  , 0.48820347, 0.        ],\n",
       "       [0.18725161, 0.11607183, 0.        , 0.        , 0.        ],\n",
       "       [0.7250254 , 0.        , 0.12346577, 0.        , 0.        ]],\n",
       "      dtype=float32)"
      ]
     },
     "execution_count": 105,
     "metadata": {},
     "output_type": "execute_result"
    }
   ],
   "source": [
    "b"
   ]
  },
  {
   "cell_type": "code",
   "execution_count": 106,
   "id": "48d63640",
   "metadata": {},
   "outputs": [],
   "source": [
    "c=np.zeros(a.T.shape)\n",
    "at = a.T\n",
    "for row in range(at.shape[0]):\n",
    "    for col in range(at.shape[1]):\n",
    "        c[row][col] = at[row][col]"
   ]
  },
  {
   "cell_type": "code",
   "execution_count": 107,
   "id": "e9fc7351",
   "metadata": {},
   "outputs": [
    {
     "data": {
      "text/plain": [
       "array([[0.        , 0.9562663 , 0.        , 0.        , 0.        ,\n",
       "        0.11415514, 0.28872353, 0.67626965],\n",
       "       [0.68347037, 0.5531271 , 0.20103766, 0.        , 0.        ,\n",
       "        0.82574075, 0.04889954, 0.        ],\n",
       "       [0.8035886 , 0.        , 0.        , 0.        , 0.        ,\n",
       "        0.        , 0.        , 0.        ],\n",
       "       [0.        , 0.        , 0.        , 0.14296253, 0.59893256,\n",
       "        0.        , 0.6493426 , 0.35563806],\n",
       "       [0.        , 0.5375557 , 0.        , 0.9103574 , 0.        ,\n",
       "        0.        , 0.        , 0.        ],\n",
       "       [0.        , 0.        , 0.74341315, 0.03242496, 0.        ,\n",
       "        0.27978534, 0.33329687, 0.        ],\n",
       "       [0.        , 0.        , 0.        , 0.        , 0.        ,\n",
       "        0.        , 0.        , 0.69630474],\n",
       "       [0.08023349, 0.        , 0.        , 0.71459514, 0.9217044 ,\n",
       "        0.25018668, 0.        , 0.        ],\n",
       "       [0.8858316 , 0.        , 0.        , 0.        , 0.        ,\n",
       "        0.        , 0.        , 0.6753613 ],\n",
       "       [0.        , 0.        , 0.5787496 , 0.        , 0.16333483,\n",
       "        0.        , 0.        , 0.        ],\n",
       "       [0.17861794, 0.        , 0.        , 0.        , 0.        ,\n",
       "        0.83127654, 0.        , 0.        ],\n",
       "       [0.        , 0.20370705, 0.05387774, 0.        , 0.17167741,\n",
       "        0.09929471, 0.        , 0.12287189],\n",
       "       [0.46201044, 0.35530138, 0.        , 0.7448136 , 0.        ,\n",
       "        0.        , 0.84441024, 0.        ],\n",
       "       [0.        , 0.        , 0.5917517 , 0.        , 0.        ,\n",
       "        0.        , 0.01120785, 0.        ],\n",
       "       [0.        , 0.        , 0.17797045, 0.        , 0.7605819 ,\n",
       "        0.        , 0.        , 0.        ],\n",
       "       [0.        , 0.9186601 , 0.        , 0.66635793, 0.48675168,\n",
       "        0.        , 0.        , 0.09184685]], dtype=float32)"
      ]
     },
     "execution_count": 107,
     "metadata": {},
     "output_type": "execute_result"
    }
   ],
   "source": [
    "at"
   ]
  },
  {
   "cell_type": "code",
   "execution_count": 108,
   "id": "4ab3d6d9",
   "metadata": {},
   "outputs": [
    {
     "data": {
      "text/plain": [
       "array([[0.        , 0.95626628, 0.        , 0.        , 0.        ,\n",
       "        0.11415514, 0.28872353, 0.67626965],\n",
       "       [0.68347037, 0.55312711, 0.20103766, 0.        , 0.        ,\n",
       "        0.82574075, 0.04889954, 0.        ],\n",
       "       [0.80358863, 0.        , 0.        , 0.        , 0.        ,\n",
       "        0.        , 0.        , 0.        ],\n",
       "       [0.        , 0.        , 0.        , 0.14296253, 0.59893256,\n",
       "        0.        , 0.6493426 , 0.35563806],\n",
       "       [0.        , 0.53755569, 0.        , 0.91035742, 0.        ,\n",
       "        0.        , 0.        , 0.        ],\n",
       "       [0.        , 0.        , 0.74341315, 0.03242496, 0.        ,\n",
       "        0.27978534, 0.33329687, 0.        ],\n",
       "       [0.        , 0.        , 0.        , 0.        , 0.        ,\n",
       "        0.        , 0.        , 0.69630474],\n",
       "       [0.08023349, 0.        , 0.        , 0.71459514, 0.92170441,\n",
       "        0.25018668, 0.        , 0.        ],\n",
       "       [0.88583159, 0.        , 0.        , 0.        , 0.        ,\n",
       "        0.        , 0.        , 0.67536128],\n",
       "       [0.        , 0.        , 0.5787496 , 0.        , 0.16333483,\n",
       "        0.        , 0.        , 0.        ],\n",
       "       [0.17861794, 0.        , 0.        , 0.        , 0.        ,\n",
       "        0.83127654, 0.        , 0.        ],\n",
       "       [0.        , 0.20370705, 0.05387774, 0.        , 0.17167741,\n",
       "        0.09929471, 0.        , 0.12287189],\n",
       "       [0.46201044, 0.35530138, 0.        , 0.74481362, 0.        ,\n",
       "        0.        , 0.84441024, 0.        ],\n",
       "       [0.        , 0.        , 0.59175169, 0.        , 0.        ,\n",
       "        0.        , 0.01120785, 0.        ],\n",
       "       [0.        , 0.        , 0.17797045, 0.        , 0.76058191,\n",
       "        0.        , 0.        , 0.        ],\n",
       "       [0.        , 0.9186601 , 0.        , 0.66635793, 0.48675168,\n",
       "        0.        , 0.        , 0.09184685]])"
      ]
     },
     "execution_count": 108,
     "metadata": {},
     "output_type": "execute_result"
    }
   ],
   "source": [
    "c"
   ]
  },
  {
   "cell_type": "markdown",
   "id": "f20ac323",
   "metadata": {},
   "source": [
    "a_buf = cl.Buffer(ctx, mf.READ_WRITE | mf.COPY_HOST_PTR, hostbuf=c.astype(np.float32))\n",
    "b_buf = cl.Buffer(ctx, mf.READ_WRITE | mf.COPY_HOST_PTR, hostbuf=b)\n",
    "x_cp_buf = cl.Buffer(ctx, mf.WRITE_ONLY, topk*topk*4)\n",
    "x_idx_buf = cl.Buffer(ctx, mf.WRITE_ONLY, topk*4)\n",
    "y_idx_buf = cl.Buffer(ctx, mf.WRITE_ONLY, topk*4)\n",
    "\n",
    "prg = cl.Program(ctx, \"\"\"\n",
    "    // sorts x and y in ascending order and returns sorted indices\n",
    "    __kernel void genwupdate3(__global  float* x,     // INPUT MATRIX DATA\n",
    "                             __global  float* y,    // INPUT\n",
    "                             uint topk,\n",
    "                             uint msize,\n",
    "                             __global  float* xout,    // INPUT\n",
    "                             __global  uint* xoutidx,    // INPUT\n",
    "                             __global  uint* youtidx    // INPUT\n",
    "                            ) { // LOCAL SHARED BUFFER\n",
    "      uint gid = get_global_id(0);\n",
    "      uint n = get_global_size(0);\n",
    "      uint bs = get_global_size(1);\n",
    "      uint gid2 = get_global_id(1);\n",
    "\n",
    "\n",
    "\n",
    "      uint idx = n*gid2+gid;\n",
    "      float valx = x[idx];\n",
    "      uint posx = 0;\n",
    "      for (uint i = 0; i < n; i++) {\n",
    "        uint idx2 = n*gid2+i;\n",
    "        float tempval = x[idx2];\n",
    "        bool larger = tempval > valx;\n",
    "        posx += (larger)?1:0;\n",
    "      }\n",
    "      \n",
    "      uint idxy = n*gid2+gid;\n",
    "      float valy = y[idx];\n",
    "      uint posy = 0;\n",
    "      for (uint i = 0; i < n; i++) {\n",
    "        uint idx2 = n*gid2+i;\n",
    "        float tempval2 = y[idx2];\n",
    "        bool larger2 = tempval2 > valy;\n",
    "        posy += (larger2)?1:0;\n",
    "      }\n",
    "      \n",
    "      if (posx < topk) {\n",
    "        xoutidx[posx+topk*gid2] = idx;\n",
    "      }\n",
    "      if (posy < topk) {\n",
    "        youtidx[posy+topk*gid2] = idxy;\n",
    "      }\n",
    "      return;\n",
    "      if (gid < topk) {\n",
    "        for (uint j=0; j<topk; j++) {\n",
    "          float res = x[xoutidx[gid+topk*gid2]+gid2*msize] * y[youtidx[j+topk*gid2]+gid2*msize];\n",
    "          printf(\"\\\\nJ:%i  gid:(%i,%i)\", j, gid, gid2);\n",
    "          printf(\"\\\\nRES:%.2f - %i - %i -  %.2f - %.2f\",res, xoutidx[gid+topk*gid2], youtidx[j+topk*gid2], x[xoutidx[gid+topk*gid2]+gid2*n], y[youtidx[j+topk*gid2]+gid2*n]);\n",
    "          //barrier(CLK_GLOBAL_MEM_FENCE);\n",
    "          xout[gid2*topk*topk+j*topk+gid] = res;\n",
    "        }\n",
    "      }\n",
    "    }\"\"\").build()"
   ]
  },
  {
   "cell_type": "code",
   "execution_count": 109,
   "id": "3eb221f6",
   "metadata": {},
   "outputs": [],
   "source": [
    "a_buf = cl.Buffer(ctx, mf.READ_WRITE | mf.COPY_HOST_PTR, hostbuf=c.astype(np.float32))\n",
    "b_buf = cl.Buffer(ctx, mf.READ_WRITE | mf.COPY_HOST_PTR, hostbuf=b)\n",
    "x_sum_buf = cl.Buffer(ctx, mf.WRITE_ONLY, a.shape[0]*4)\n",
    "y_sum_buf = cl.Buffer(ctx, mf.WRITE_ONLY, b.shape[1]*4)\n",
    "x_cp_buf = cl.Buffer(ctx, mf.WRITE_ONLY, topk*topk*4)\n",
    "x_idx_buf = cl.Buffer(ctx, mf.WRITE_ONLY, topk*4)\n",
    "y_idx_buf = cl.Buffer(ctx, mf.WRITE_ONLY, topk*4)\n",
    "\n",
    "prg = cl.Program(ctx, \"\"\"\n",
    "    // sorts x and y in ascending order and returns sorted indices\n",
    "    __kernel void genwupdate3(__global  float* x,     // INPUT MATRIX DATA\n",
    "                              __global  float* y,    // INPUT\n",
    "                              __global  float* xsum,    // INPUT\n",
    "                              __global  float* ysum,    // INPUT\n",
    "                              uint isize,\n",
    "                              uint msize,\n",
    "                              uint osize,\n",
    "                              uint topk,\n",
    "                              __global  float* xout,\n",
    "                              __global  uint* xoutidx,   \n",
    "                              __global  uint* youtidx    \n",
    "                              ) { \n",
    "      uint gid = get_global_id(0);\n",
    "      \n",
    "      // get for a: sum axis0  b: sum axis1 then get topk\n",
    "      ///////////////////////////////////////////////////\n",
    "      if (gid < isize) {\n",
    "        xsum[gid] = 0;\n",
    "        for (uint i=0; i<msize; i++) {\n",
    "          float val = x[i*isize+gid];\n",
    "          //if (gid == 0) {\n",
    "          //  printf(\"\\\\nADD VALx: %.2f - %i\", val, i*msize+gid);\n",
    "          //}\n",
    "          xsum[gid] += val;\n",
    "        }\n",
    "        \n",
    "        float valx = xsum[gid];\n",
    "        uint posx = 0;\n",
    "        for (uint i = 0; i < isize; i++) {\n",
    "          float tempval = xsum[i];\n",
    "          bool larger = tempval > valx;\n",
    "          posx += (larger)?1:0;\n",
    "        }\n",
    "        if (posx < topk) {\n",
    "          xoutidx[posx] = gid;\n",
    "        }\n",
    "      }\n",
    "      \n",
    "      if (gid < osize) {\n",
    "        ysum[gid] = 0;\n",
    "        for (uint i=0; i<msize; i++) {\n",
    "          float val = y[i*osize+gid];\n",
    "          //if (gid == 0) {\n",
    "          //  printf(\"\\\\nADD VALx: %.2f - %i\", val, gid*osize+i);\n",
    "          //}\n",
    "          ysum[gid] += val;\n",
    "        }\n",
    "        \n",
    "        float valy = ysum[gid];\n",
    "        uint posy = 0;\n",
    "        for (uint i = 0; i < osize; i++) {\n",
    "          float tempval = ysum[i];\n",
    "          bool larger = tempval > valy;\n",
    "          posy += (larger)?1:0;\n",
    "        }\n",
    "      \n",
    "        if (posy < topk) {\n",
    "          youtidx[posy] = gid;\n",
    "        }\n",
    "      }\n",
    "      \n",
    "      if (gid < topk) {\n",
    "        float valx = xoutidx[gid];\n",
    "        uint posx = 0;\n",
    "        for (uint i = 0; i < topk; i++) {\n",
    "          float tempval = xoutidx[i];\n",
    "          bool larger = tempval < valx;\n",
    "          posx += (larger)?1:0;\n",
    "        }\n",
    "        xoutidx[posx] = valx;\n",
    "        \n",
    "        float valy = youtidx[gid];\n",
    "        uint posy = 0;\n",
    "        for (uint i = 0; i < topk; i++) {\n",
    "          float tempval = youtidx[i];\n",
    "          bool larger = tempval < valy;\n",
    "          posy += (larger)?1:0;\n",
    "        }\n",
    "        youtidx[posy] = valy;\n",
    "      }\n",
    "      \n",
    "      // only calc matrix multiplications for used grads\n",
    "      ///////////////////////////////////////////////////\n",
    "      if (gid < topk) {\n",
    "        uint idxx = xoutidx[gid];\n",
    "        for (uint j=0; j<topk; j++) {\n",
    "          uint idxy = youtidx[j];\n",
    "          xout[j*topk+gid] = 0;\n",
    "          for (uint k=0; k<msize; k++) {\n",
    "            uint xidx2 = isize*k+idxx;\n",
    "            uint yidx2 = osize*k+idxy;\n",
    "            xout[j*topk+gid] += x[xidx2] * y[yidx2];\n",
    "            //if (gid == 0 && j == 1)\n",
    "            //  printf(\"\\\\n ADD VAL:%.2f,%.2f - (%i,%i) - (%i,%i,%i)\", x[xidx2], y[yidx2], idxx, idxy, gid, j, k);\n",
    "          }\n",
    "        }\n",
    "      }\n",
    "    }\"\"\").build()"
   ]
  },
  {
   "cell_type": "code",
   "execution_count": 110,
   "id": "5e0667f0",
   "metadata": {},
   "outputs": [
    {
     "data": {
      "text/plain": [
       "((8, 16), (16, 5))"
      ]
     },
     "execution_count": 110,
     "metadata": {},
     "output_type": "execute_result"
    }
   ],
   "source": [
    "a.shape, b.shape"
   ]
  },
  {
   "cell_type": "code",
   "execution_count": 111,
   "id": "75e3ecd7",
   "metadata": {},
   "outputs": [],
   "source": [
    "rows = a.shape[0]\n",
    "msize = a.shape[1]"
   ]
  },
  {
   "cell_type": "code",
   "execution_count": 112,
   "id": "67fede53",
   "metadata": {},
   "outputs": [],
   "source": [
    "cols = b.shape[1]"
   ]
  },
  {
   "cell_type": "code",
   "execution_count": 113,
   "id": "68f4e2f7",
   "metadata": {},
   "outputs": [],
   "source": [
    "mult = a.dot(b)"
   ]
  },
  {
   "cell_type": "code",
   "execution_count": 114,
   "id": "bbcc1bea",
   "metadata": {},
   "outputs": [],
   "source": [
    "mult = mult.astype(np.float32)"
   ]
  },
  {
   "cell_type": "code",
   "execution_count": 115,
   "id": "58a7c0c8",
   "metadata": {},
   "outputs": [
    {
     "data": {
      "text/plain": [
       "<pyopencl._cl.NannyEvent at 0x7fd7f029eb80>"
      ]
     },
     "execution_count": 115,
     "metadata": {},
     "output_type": "execute_result"
    }
   ],
   "source": [
    "res_buf = cl.Buffer(ctx, mf.READ_WRITE, np.prod([rows,b.shape[1]])*4)\n",
    "knl = prg.genwupdate3  # Use this Kernel object for repeated calls\n",
    "evt = knl(queue, [max(rows,cols)], None, a_buf, b_buf, x_sum_buf, y_sum_buf, np.uint32(rows), np.uint32(msize),np.uint32(cols), np.uint32(topk), x_cp_buf, x_idx_buf, y_idx_buf)\n",
    "\n",
    "resxsum = np.zeros(a.shape[0]).astype(np.float32)\n",
    "resysum = np.zeros(b.shape[1]).astype(np.float32)\n",
    "resx = np.zeros(topk*topk).astype(np.float32)\n",
    "resxidx = np.zeros(topk).astype(np.uint32)\n",
    "resyidx = np.zeros(topk).astype(np.uint32)\n",
    "\n",
    "cl.enqueue_copy(queue, resxsum, x_sum_buf)\n",
    "cl.enqueue_copy(queue, resysum, y_sum_buf)\n",
    "cl.enqueue_copy(queue, resx, x_cp_buf)\n",
    "cl.enqueue_copy(queue, resxidx, x_idx_buf)\n",
    "cl.enqueue_copy(queue, resyidx, y_idx_buf)"
   ]
  },
  {
   "cell_type": "code",
   "execution_count": 116,
   "id": "5dab05c7",
   "metadata": {},
   "outputs": [
    {
     "data": {
      "text/plain": [
       "array([[0.6996368 , 1.8848312 , 1.130233  , 0.49532753, 0.7240762 ],\n",
       "       [0.15550727, 0.18735047, 0.31159392, 0.9677906 , 0.27932334],\n",
       "       [1.6236207 , 1.4160932 , 1.1950791 , 0.8187757 , 0.99110806],\n",
       "       [0.3340667 , 0.30414024, 0.32051137, 0.1351769 , 0.09674796],\n",
       "       [0.61331564, 0.29892322, 0.6311476 , 0.01893103, 0.8390946 ]],\n",
       "      dtype=float32)"
      ]
     },
     "execution_count": 116,
     "metadata": {},
     "output_type": "execute_result"
    }
   ],
   "source": [
    "resx.reshape(topk,topk)"
   ]
  },
  {
   "cell_type": "code",
   "execution_count": 117,
   "id": "5e267f71",
   "metadata": {},
   "outputs": [
    {
     "data": {
      "text/plain": [
       "array([3.0937524, 3.5246177, 2.3468003, 3.2115116, 3.102983 , 2.4004393,\n",
       "       2.1758807, 2.6182923], dtype=float32)"
      ]
     },
     "execution_count": 117,
     "metadata": {},
     "output_type": "execute_result"
    }
   ],
   "source": [
    "resxsum"
   ]
  },
  {
   "cell_type": "code",
   "execution_count": 118,
   "id": "e374bd1f",
   "metadata": {},
   "outputs": [
    {
     "data": {
      "text/plain": [
       "array([3.5506585, 3.3332088, 5.77045  , 3.095629 , 2.0694818],\n",
       "      dtype=float32)"
      ]
     },
     "execution_count": 118,
     "metadata": {},
     "output_type": "execute_result"
    }
   ],
   "source": [
    "resysum"
   ]
  },
  {
   "cell_type": "code",
   "execution_count": 119,
   "id": "b254f74f",
   "metadata": {},
   "outputs": [
    {
     "data": {
      "text/plain": [
       "array([3.0937524, 3.5246177, 2.3468003, 3.2115116, 3.102983 , 2.4004393,\n",
       "       2.1758807, 2.6182923], dtype=float32)"
      ]
     },
     "execution_count": 119,
     "metadata": {},
     "output_type": "execute_result"
    }
   ],
   "source": [
    "a.sum(axis=1)"
   ]
  },
  {
   "cell_type": "code",
   "execution_count": 120,
   "id": "e264d60f",
   "metadata": {},
   "outputs": [
    {
     "data": {
      "text/plain": [
       "array([3.5506585, 3.3332088, 5.77045  , 3.095629 , 2.0694818],\n",
       "      dtype=float32)"
      ]
     },
     "execution_count": 120,
     "metadata": {},
     "output_type": "execute_result"
    }
   ],
   "source": [
    "b.sum(axis=0)"
   ]
  },
  {
   "cell_type": "code",
   "execution_count": 121,
   "id": "529cc660",
   "metadata": {},
   "outputs": [
    {
     "data": {
      "text/plain": [
       "array([[0.6996368 , 0.15550727, 1.6236207 , 0.3340667 , 0.61331564],\n",
       "       [1.8848312 , 0.18735047, 1.4160932 , 0.30414024, 0.29892322],\n",
       "       [0.16573755, 0.51614475, 1.40742   , 0.7711447 , 0.        ],\n",
       "       [1.130233  , 0.31159392, 1.1950791 , 0.32051137, 0.6311476 ],\n",
       "       [0.49532753, 0.9677906 , 0.8187757 , 0.1351769 , 0.01893103],\n",
       "       [0.60025734, 0.7728439 , 1.2898692 , 0.9285497 , 0.        ],\n",
       "       [0.17482497, 0.30367106, 0.47157714, 0.544282  , 0.7309462 ],\n",
       "       [0.7240762 , 0.27932334, 0.99110806, 0.09674796, 0.8390946 ]],\n",
       "      dtype=float32)"
      ]
     },
     "execution_count": 121,
     "metadata": {},
     "output_type": "execute_result"
    }
   ],
   "source": [
    "mult"
   ]
  },
  {
   "cell_type": "code",
   "execution_count": 122,
   "id": "ee933d58",
   "metadata": {},
   "outputs": [
    {
     "data": {
      "text/plain": [
       "array([0, 1, 3, 4, 7], dtype=uint32)"
      ]
     },
     "execution_count": 122,
     "metadata": {},
     "output_type": "execute_result"
    }
   ],
   "source": [
    "resxidx"
   ]
  },
  {
   "cell_type": "code",
   "execution_count": 123,
   "id": "23535acb",
   "metadata": {},
   "outputs": [
    {
     "data": {
      "text/plain": [
       "array([0, 1, 2, 3, 4], dtype=uint32)"
      ]
     },
     "execution_count": 123,
     "metadata": {},
     "output_type": "execute_result"
    }
   ],
   "source": [
    "resyidx"
   ]
  },
  {
   "cell_type": "code",
   "execution_count": 124,
   "id": "475e967a",
   "metadata": {},
   "outputs": [
    {
     "ename": "NameError",
     "evalue": "name 'dim' is not defined",
     "output_type": "error",
     "traceback": [
      "\u001b[0;31m---------------------------------------------------------------------------\u001b[0m",
      "\u001b[0;31mNameError\u001b[0m                                 Traceback (most recent call last)",
      "\u001b[0;32m/tmp/ipykernel_31620/1174039764.py\u001b[0m in \u001b[0;36m<module>\u001b[0;34m\u001b[0m\n\u001b[1;32m      1\u001b[0m \u001b[0midx\u001b[0m \u001b[0;34m=\u001b[0m \u001b[0;36m1\u001b[0m\u001b[0;34m\u001b[0m\u001b[0;34m\u001b[0m\u001b[0m\n\u001b[0;32m----> 2\u001b[0;31m \u001b[0mxy0\u001b[0m \u001b[0;34m=\u001b[0m \u001b[0mx\u001b[0m\u001b[0;34m[\u001b[0m\u001b[0midx\u001b[0m\u001b[0;34m]\u001b[0m\u001b[0;34m.\u001b[0m\u001b[0mreshape\u001b[0m\u001b[0;34m(\u001b[0m\u001b[0mdim\u001b[0m\u001b[0;34m,\u001b[0m\u001b[0;36m1\u001b[0m\u001b[0;34m)\u001b[0m\u001b[0;34m*\u001b[0m\u001b[0my\u001b[0m\u001b[0;34m[\u001b[0m\u001b[0midx\u001b[0m\u001b[0;34m]\u001b[0m\u001b[0;34m\u001b[0m\u001b[0;34m\u001b[0m\u001b[0m\n\u001b[0m\u001b[1;32m      3\u001b[0m \u001b[0mxy0\u001b[0m\u001b[0;34m.\u001b[0m\u001b[0mshape\u001b[0m\u001b[0;34m\u001b[0m\u001b[0;34m\u001b[0m\u001b[0m\n",
      "\u001b[0;31mNameError\u001b[0m: name 'dim' is not defined"
     ]
    }
   ],
   "source": [
    "idx = 1\n",
    "xy0 = x[idx].reshape(dim,1)*y[idx]\n",
    "xy0.shape"
   ]
  },
  {
   "cell_type": "code",
   "execution_count": null,
   "id": "281c094b",
   "metadata": {},
   "outputs": [],
   "source": [
    "xy0[0][0]"
   ]
  },
  {
   "cell_type": "markdown",
   "id": "510bb101",
   "metadata": {},
   "source": [
    "## Weight update kernel new2 (sparse ouput)"
   ]
  },
  {
   "cell_type": "code",
   "execution_count": null,
   "id": "9097d4e8",
   "metadata": {},
   "outputs": [],
   "source": [
    "c=np.zeros(a.T.shape)\n",
    "at = a.T\n",
    "for row in range(at.shape[0]):\n",
    "    for col in range(at.shape[1]):\n",
    "        c[row][col] = at[row][col]"
   ]
  },
  {
   "cell_type": "code",
   "execution_count": null,
   "id": "c6236918",
   "metadata": {},
   "outputs": [],
   "source": [
    "a_buf = cl.Buffer(ctx, mf.READ_WRITE | mf.COPY_HOST_PTR, hostbuf=c.astype(np.float32))\n",
    "b_buf = cl.Buffer(ctx, mf.READ_WRITE | mf.COPY_HOST_PTR, hostbuf=b)\n",
    "x_sum_buf = cl.Buffer(ctx, mf.WRITE_ONLY, a.shape[0]*4)\n",
    "y_sum_buf = cl.Buffer(ctx, mf.WRITE_ONLY, b.shape[1]*4)\n",
    "x_idx_buf = cl.Buffer(ctx, mf.WRITE_ONLY, topkx*4)\n",
    "y_idx_buf = cl.Buffer(ctx, mf.WRITE_ONLY, topky*4)\n",
    "sdata_buf = cl.Buffer(ctx, mf.READ_WRITE, a.shape[0]*topkx*4)\n",
    "sidxs_buf = cl.Buffer(ctx, mf.READ_WRITE, a.shape[0]*topkx*4)\n",
    "snnzs_buf = cl.Buffer(ctx, mf.READ_WRITE, a.shape[0]*4)\n",
    "sdatat_buf = cl.Buffer(ctx, mf.READ_WRITE, b.shape[1]*topky*4)\n",
    "sidxst_buf = cl.Buffer(ctx, mf.READ_WRITE, b.shape[1]*topky*4)\n",
    "snnzst_buf = cl.Buffer(ctx, mf.READ_WRITE, b.shape[1]*4)\n",
    "\n",
    "prg = cl.Program(ctx, \"\"\"\n",
    "    // sorts x and y in ascending order and returns sorted indices\n",
    "    __kernel void genwupdate4(__global  float* x,     // INPUT MATRIX DATA\n",
    "                              __global  float* y,    // INPUT\n",
    "                              __global  float* xsum,    // INPUT\n",
    "                              __global  float* ysum,    // INPUT\n",
    "                              uint isize,\n",
    "                              uint msize,\n",
    "                              uint osize,\n",
    "                              uint topkx,\n",
    "                              uint topky,\n",
    "                              __global  uint*  xoutidx,\n",
    "                              __global  uint*  youtidx,\n",
    "                              __global  float* matData,     // OUTPUT MATRIX DATA\n",
    "                              __global  uint*  colIdx,\n",
    "                              __global  uint*  rowNnz,\n",
    "                              __global  float* matDatat,    // OUTPUT MATRIX DATA\n",
    "                              __global  uint*  colIdxt,\n",
    "                              __global  uint*  rowNnzt\n",
    "                              ) {\n",
    "      uint gid = get_global_id(0);\n",
    "\n",
    "      // get for a: sum axis0  b: sum axis1 then get topk\n",
    "      ///////////////////////////////////////////////////\n",
    "      if (gid < isize) {\n",
    "        xsum[gid] = 0;\n",
    "        for (uint i=0; i<msize; i++) {\n",
    "          float val = x[i*isize+gid];\n",
    "          //if (gid == 0) {\n",
    "          //  printf(\"\\\\nADD VALx: %.2f - %i\", val, i*msize+gid);\n",
    "          //}\n",
    "          xsum[gid] += val;\n",
    "        }\n",
    "\n",
    "        float valx = xsum[gid];\n",
    "        uint posx = 0;\n",
    "        for (uint i = 0; i < isize; i++) {\n",
    "          float tempval = fabs(xsum[i]);\n",
    "          bool larger = tempval > fabs(valx);\n",
    "          posx += (larger)?1:0;\n",
    "        }\n",
    "        if (posx < topky) {\n",
    "          youtidx[posx] = gid;\n",
    "        }\n",
    "      }\n",
    "\n",
    "      if (gid < osize) {\n",
    "        ysum[gid] = 0;\n",
    "        for (uint i=0; i<msize; i++) {\n",
    "          float val = y[i*osize+gid];\n",
    "          //if (gid == 0) {\n",
    "          //  printf(\"\\\\nADD VALx: %.2f - %i\", val, gid*osize+i);\n",
    "          //}\n",
    "          ysum[gid] += val;\n",
    "        }\n",
    "\n",
    "        float valy = ysum[gid];\n",
    "        uint posy = 0;\n",
    "        for (uint i = 0; i < osize; i++) {\n",
    "          float tempval = fabs(ysum[i]);\n",
    "          bool larger = tempval > fabs(valy);\n",
    "          posy += (larger)?1:0;\n",
    "        }\n",
    "\n",
    "        if (posy < topkx) {\n",
    "          xoutidx[posy] = gid;\n",
    "        }\n",
    "      }\n",
    "\n",
    "      if (gid < topkx) {\n",
    "        float valx = xoutidx[gid];\n",
    "        uint posx = 0;\n",
    "        for (uint i = 0; i < topkx; i++) {\n",
    "          float tempval = xoutidx[i];\n",
    "          bool larger = tempval < valx;\n",
    "          posx += (larger)?1:0;\n",
    "        }\n",
    "        xoutidx[gid] = gid;\n",
    "      }\n",
    "\n",
    "      if (gid < topky) {\n",
    "        float valy = youtidx[gid];\n",
    "        uint posy = 0;\n",
    "        for (uint i = 0; i < topky; i++) {\n",
    "          float tempval = youtidx[i];\n",
    "          bool larger = tempval < valy;\n",
    "          posy += (larger)?1:0;\n",
    "        }\n",
    "        youtidx[gid] = gid;\n",
    "      }\n",
    "\n",
    "      // only calc matrix multiplications for used grads\n",
    "      ///////////////////////////////////////////////////\n",
    "      if (gid < isize) {\n",
    "        for (uint i=0; i<topkx; i++) {\n",
    "          matData[gid*topkx+i] = 0;\n",
    "          colIdx[gid*topkx+i] = 0;\n",
    "        }\n",
    "        rowNnz[gid] = 0;\n",
    "      }\n",
    "      if (gid < osize) {\n",
    "        for (uint i=0; i<topky; i++) {\n",
    "          matDatat[gid*topky+i] = 0;\n",
    "          colIdxt[gid*topky+i] = 0;\n",
    "        }\n",
    "        rowNnzt[gid] = 0;\n",
    "      }\n",
    "\n",
    "\n",
    "      if (gid < topkx) {\n",
    "        uint idxx = xoutidx[gid];\n",
    "        for (uint j=0; j<topky; j++) {\n",
    "          uint idxy = youtidx[j];\n",
    "          //printf(\"\\\\nIDXX:%i  IDXY:%i\", idxx, idxy);\n",
    "          for (uint k=0; k<msize; k++) {\n",
    "            uint xidx2 = isize*k+idxy;\n",
    "            uint yidx2 = osize*k+idxx;\n",
    "            uint colidx = idxy;\n",
    "            matDatat[idxx*topky+j] += x[xidx2] * y[yidx2];\n",
    "            colIdxt[idxx*topky+j] = idxy;\n",
    "            if (gid == 0)\n",
    "              printf(\"\\\\n ADD VAL:%.2f,%.2f - (%i,%i) - (%i,%i,%i)\", x[xidx2], y[yidx2], idxx, idxy, gid, j, k);\n",
    "          }\n",
    "          rowNnzt[idxx] += 1;\n",
    "        }\n",
    "      }\n",
    "      if (gid < topky) {\n",
    "        uint idxx = youtidx[gid];\n",
    "        for (uint j=0; j<topkx; j++) {\n",
    "          uint idxy = xoutidx[j];\n",
    "          //printf(\"\\\\nIDXX:%i  IDXY:%i\", idxx, idxy);\n",
    "          for (uint k=0; k<msize; k++) {\n",
    "            uint xidx2 = isize*k+idxx;\n",
    "            uint yidx2 = osize*k+idxy;\n",
    "            uint colidx = idxy;\n",
    "            matData[idxx*topkx+j] += x[xidx2] * y[yidx2];\n",
    "            colIdx[idxx*topkx+j] = idxy;\n",
    "            if (gid == 0)\n",
    "              printf(\"\\\\n ADD VAL:%.2f,%.2f - (%i,%i) - (%i,%i,%i)\", x[xidx2], y[yidx2], idxx, idxy, gid, j, k);\n",
    "          }\n",
    "          rowNnz[idxx] += 1;\n",
    "        }\n",
    "      }\n",
    "    }\"\"\").build()"
   ]
  },
  {
   "cell_type": "code",
   "execution_count": null,
   "id": "2161871c",
   "metadata": {},
   "outputs": [],
   "source": [
    "a.shape, b.shape"
   ]
  },
  {
   "cell_type": "code",
   "execution_count": null,
   "id": "05f25e30",
   "metadata": {},
   "outputs": [],
   "source": [
    "rows = a.shape[0]\n",
    "msize = a.shape[1]"
   ]
  },
  {
   "cell_type": "code",
   "execution_count": null,
   "id": "9f83f34b",
   "metadata": {},
   "outputs": [],
   "source": [
    "cols = b.shape[1]"
   ]
  },
  {
   "cell_type": "code",
   "execution_count": null,
   "id": "95394deb",
   "metadata": {},
   "outputs": [],
   "source": [
    "mult = a.dot(b)"
   ]
  },
  {
   "cell_type": "code",
   "execution_count": null,
   "id": "8fc22dde",
   "metadata": {},
   "outputs": [],
   "source": [
    "mult = mult.astype(np.float32)"
   ]
  },
  {
   "cell_type": "code",
   "execution_count": null,
   "id": "b290cb1a",
   "metadata": {},
   "outputs": [],
   "source": [
    "res_buf = cl.Buffer(ctx, mf.READ_WRITE, np.prod([rows,b.shape[1]])*4)\n",
    "knl = prg.genwupdate4  # Use this Kernel object for repeate/duald calls\n",
    "evt = knl(queue, [max(rows,cols)], None, a_buf, b_buf, x_sum_buf, y_sum_buf, np.uint32(rows), np.uint32(msize),np.uint32(cols), \n",
    "          np.uint32(topkx),np.uint32(topky), x_idx_buf, y_idx_buf, sdata_buf, sidxs_buf, snnzs_buf, sdatat_buf, sidxst_buf, snnzst_buf)"
   ]
  },
  {
   "cell_type": "code",
   "execution_count": null,
   "id": "be3450f0",
   "metadata": {},
   "outputs": [],
   "source": [
    "resxsum = np.zeros(a.shape[0]).astype(np.float32)\n",
    "resysum = np.zeros(b.shape[1]).astype(np.float32)\n",
    "resxidx = np.zeros(topkx).astype(np.uint32)\n",
    "resyidx = np.zeros(topky).astype(np.uint32)\n",
    "resxdat = np.zeros(a.shape[0]*topkx).astype(np.float32)\n",
    "resxcol = np.zeros(a.shape[0]*topkx).astype(np.uint32)\n",
    "resxnnz = np.zeros(a.shape[0]).astype(np.uint32)\n",
    "resxdatt = np.zeros(b.shape[1]*topky).astype(np.float32)\n",
    "resxcolt = np.zeros(b.shape[1]*topky).astype(np.uint32)\n",
    "resxnnzt = np.zeros(b.shape[1]).astype(np.uint32)\n",
    "\n",
    "cl.enqueue_copy(queue, resxsum, x_sum_buf)\n",
    "cl.enqueue_copy(queue, resysum, y_sum_buf)\n",
    "cl.enqueue_copy(queue, resxidx, x_idx_buf)\n",
    "cl.enqueue_copy(queue, resyidx, y_idx_buf)\n",
    "cl.enqueue_copy(queue, resxdat, sdata_buf)\n",
    "cl.enqueue_copy(queue, resxcol, sidxs_buf)\n",
    "cl.enqueue_copy(queue, resxnnz, snnzs_buf)\n",
    "cl.enqueue_copy(queue, resxdatt, sdatat_buf)\n",
    "cl.enqueue_copy(queue, resxcolt, sidxst_buf)\n",
    "cl.enqueue_copy(queue, resxnnzt, snnzst_buf)"
   ]
  },
  {
   "cell_type": "markdown",
   "id": "dea93e80",
   "metadata": {},
   "source": [
    "## results"
   ]
  },
  {
   "cell_type": "code",
   "execution_count": null,
   "id": "9766b1de",
   "metadata": {},
   "outputs": [],
   "source": [
    "topkx, topky"
   ]
  },
  {
   "cell_type": "code",
   "execution_count": null,
   "id": "0720afd1",
   "metadata": {},
   "outputs": [],
   "source": [
    "mult.shape"
   ]
  },
  {
   "cell_type": "code",
   "execution_count": null,
   "id": "50b4656b",
   "metadata": {},
   "outputs": [],
   "source": [
    "mult"
   ]
  },
  {
   "cell_type": "code",
   "execution_count": null,
   "id": "2bac1009",
   "metadata": {},
   "outputs": [],
   "source": [
    "resxdatt.reshape(b.shape[1],topky).T"
   ]
  },
  {
   "cell_type": "code",
   "execution_count": null,
   "id": "c654a52b",
   "metadata": {},
   "outputs": [],
   "source": [
    "resxcol.reshape(a.shape[0],topkx)"
   ]
  },
  {
   "cell_type": "code",
   "execution_count": null,
   "id": "25673d3c",
   "metadata": {},
   "outputs": [],
   "source": [
    "resxnnz.reshape(a.shape[0])"
   ]
  },
  {
   "cell_type": "code",
   "execution_count": null,
   "id": "7fb50f87",
   "metadata": {},
   "outputs": [],
   "source": [
    "resxdatt.reshape(b.shape[1],topky)"
   ]
  },
  {
   "cell_type": "code",
   "execution_count": null,
   "id": "e7f50303",
   "metadata": {},
   "outputs": [],
   "source": [
    "resxcolt.reshape(b.shape[1],topky)"
   ]
  },
  {
   "cell_type": "code",
   "execution_count": null,
   "id": "8ceb2165",
   "metadata": {},
   "outputs": [],
   "source": [
    "resxnnzt.reshape(b.shape[1])"
   ]
  },
  {
   "cell_type": "code",
   "execution_count": 125,
   "id": "504b6134",
   "metadata": {},
   "outputs": [
    {
     "ename": "NameError",
     "evalue": "name 'resxdat' is not defined",
     "output_type": "error",
     "traceback": [
      "\u001b[0;31m---------------------------------------------------------------------------\u001b[0m",
      "\u001b[0;31mNameError\u001b[0m                                 Traceback (most recent call last)",
      "\u001b[0;32m/tmp/ipykernel_31620/1670024403.py\u001b[0m in \u001b[0;36m<module>\u001b[0;34m\u001b[0m\n\u001b[0;32m----> 1\u001b[0;31m \u001b[0mresdense\u001b[0m \u001b[0;34m=\u001b[0m \u001b[0mto_dense\u001b[0m\u001b[0;34m(\u001b[0m\u001b[0mresxdat\u001b[0m\u001b[0;34m,\u001b[0m \u001b[0mresxcol\u001b[0m\u001b[0;34m,\u001b[0m \u001b[0mresxnnz\u001b[0m\u001b[0;34m,\u001b[0m \u001b[0mtopkx\u001b[0m\u001b[0;34m,\u001b[0m \u001b[0mmult\u001b[0m\u001b[0;34m.\u001b[0m\u001b[0mshape\u001b[0m\u001b[0;34m)\u001b[0m\u001b[0;34m\u001b[0m\u001b[0;34m\u001b[0m\u001b[0m\n\u001b[0m\u001b[1;32m      2\u001b[0m \u001b[0mresdense\u001b[0m\u001b[0;34m\u001b[0m\u001b[0;34m\u001b[0m\u001b[0m\n",
      "\u001b[0;31mNameError\u001b[0m: name 'resxdat' is not defined"
     ]
    }
   ],
   "source": [
    "resdense = to_dense(resxdat, resxcol, resxnnz, topkx, mult.shape)\n",
    "resdense"
   ]
  },
  {
   "cell_type": "code",
   "execution_count": null,
   "id": "9623d03b",
   "metadata": {},
   "outputs": [],
   "source": [
    "resdenset = to_dense(resxdatt, resxcolt, resxnnzt, topky, mult.T.shape)\n",
    "resdenset"
   ]
  },
  {
   "cell_type": "code",
   "execution_count": null,
   "id": "df7e3ca8",
   "metadata": {},
   "outputs": [],
   "source": [
    "resdense == resdenset.T"
   ]
  },
  {
   "cell_type": "markdown",
   "id": "ea6111fe",
   "metadata": {},
   "source": [
    "## comp"
   ]
  },
  {
   "cell_type": "code",
   "execution_count": null,
   "id": "e774d6a9",
   "metadata": {},
   "outputs": [],
   "source": [
    "resxsum"
   ]
  },
  {
   "cell_type": "code",
   "execution_count": null,
   "id": "0a7a1435",
   "metadata": {},
   "outputs": [],
   "source": [
    "a.sum(axis=1)"
   ]
  },
  {
   "cell_type": "code",
   "execution_count": 126,
   "id": "eb6d9343",
   "metadata": {},
   "outputs": [
    {
     "data": {
      "text/plain": [
       "array([3.5506585, 3.3332088, 5.77045  , 3.095629 , 2.0694818],\n",
       "      dtype=float32)"
      ]
     },
     "execution_count": 126,
     "metadata": {},
     "output_type": "execute_result"
    }
   ],
   "source": [
    "resysum"
   ]
  },
  {
   "cell_type": "code",
   "execution_count": 127,
   "id": "43b77cf4",
   "metadata": {},
   "outputs": [
    {
     "data": {
      "text/plain": [
       "array([3.5506585, 3.3332088, 5.77045  , 3.095629 , 2.0694818],\n",
       "      dtype=float32)"
      ]
     },
     "execution_count": 127,
     "metadata": {},
     "output_type": "execute_result"
    }
   ],
   "source": [
    "b.sum(axis=0)"
   ]
  },
  {
   "cell_type": "code",
   "execution_count": 128,
   "id": "c251ffa3",
   "metadata": {},
   "outputs": [
    {
     "data": {
      "text/plain": [
       "array([[0.6996368 , 0.15550727, 1.6236207 , 0.3340667 , 0.61331564],\n",
       "       [1.8848312 , 0.18735047, 1.4160932 , 0.30414024, 0.29892322],\n",
       "       [0.16573755, 0.51614475, 1.40742   , 0.7711447 , 0.        ],\n",
       "       [1.130233  , 0.31159392, 1.1950791 , 0.32051137, 0.6311476 ],\n",
       "       [0.49532753, 0.9677906 , 0.8187757 , 0.1351769 , 0.01893103],\n",
       "       [0.60025734, 0.7728439 , 1.2898692 , 0.9285497 , 0.        ],\n",
       "       [0.17482497, 0.30367106, 0.47157714, 0.544282  , 0.7309462 ],\n",
       "       [0.7240762 , 0.27932334, 0.99110806, 0.09674796, 0.8390946 ]],\n",
       "      dtype=float32)"
      ]
     },
     "execution_count": 128,
     "metadata": {},
     "output_type": "execute_result"
    }
   ],
   "source": [
    "mult"
   ]
  },
  {
   "cell_type": "code",
   "execution_count": 129,
   "id": "fd0e6415",
   "metadata": {},
   "outputs": [
    {
     "data": {
      "text/plain": [
       "array([0, 1, 3, 4, 7], dtype=uint32)"
      ]
     },
     "execution_count": 129,
     "metadata": {},
     "output_type": "execute_result"
    }
   ],
   "source": [
    "resxidx"
   ]
  },
  {
   "cell_type": "code",
   "execution_count": 130,
   "id": "9ebf61ae",
   "metadata": {},
   "outputs": [
    {
     "data": {
      "text/plain": [
       "array([0, 1, 2, 3, 4], dtype=uint32)"
      ]
     },
     "execution_count": 130,
     "metadata": {},
     "output_type": "execute_result"
    }
   ],
   "source": [
    "resyidx"
   ]
  },
  {
   "cell_type": "code",
   "execution_count": 131,
   "id": "32e30a93",
   "metadata": {},
   "outputs": [
    {
     "ename": "NameError",
     "evalue": "name 'asdf' is not defined",
     "output_type": "error",
     "traceback": [
      "\u001b[0;31m---------------------------------------------------------------------------\u001b[0m",
      "\u001b[0;31mNameError\u001b[0m                                 Traceback (most recent call last)",
      "\u001b[0;32m/tmp/ipykernel_31620/2827374946.py\u001b[0m in \u001b[0;36m<module>\u001b[0;34m\u001b[0m\n\u001b[0;32m----> 1\u001b[0;31m \u001b[0masdf\u001b[0m\u001b[0;34m\u001b[0m\u001b[0;34m\u001b[0m\u001b[0m\n\u001b[0m",
      "\u001b[0;31mNameError\u001b[0m: name 'asdf' is not defined"
     ]
    }
   ],
   "source": [
    "asdf"
   ]
  },
  {
   "cell_type": "markdown",
   "id": "b32b1125",
   "metadata": {},
   "source": [
    "## Weight update kernel new3 (sparse ouput)"
   ]
  },
  {
   "cell_type": "code",
   "execution_count": null,
   "id": "aaa9944c",
   "metadata": {},
   "outputs": [],
   "source": [
    "c=np.zeros(a.T.shape)\n",
    "at = a.T\n",
    "for row in range(at.shape[0]):\n",
    "    for col in range(at.shape[1]):\n",
    "        c[row][col] = at[row][col]"
   ]
  },
  {
   "cell_type": "code",
   "execution_count": null,
   "id": "316953ed",
   "metadata": {},
   "outputs": [],
   "source": [
    "a_buf = cl.Buffer(ctx, mf.READ_WRITE | mf.COPY_HOST_PTR, hostbuf=c.astype(np.float32))\n",
    "b_buf = cl.Buffer(ctx, mf.READ_WRITE | mf.COPY_HOST_PTR, hostbuf=b)\n",
    "x_sum_buf = cl.Buffer(ctx, mf.WRITE_ONLY, a.shape[0]*4)\n",
    "y_sum_buf = cl.Buffer(ctx, mf.WRITE_ONLY, b.shape[1]*4)\n",
    "x_idx_buf = cl.Buffer(ctx, mf.WRITE_ONLY, topkx*4)\n",
    "y_idx_buf = cl.Buffer(ctx, mf.WRITE_ONLY, topky*4)\n",
    "sdata_buf = cl.Buffer(ctx, mf.READ_WRITE, a.shape[0]*topkx*4)\n",
    "sidxs_buf = cl.Buffer(ctx, mf.READ_WRITE, a.shape[0]*topkx*4)\n",
    "snnzs_buf = cl.Buffer(ctx, mf.READ_WRITE, a.shape[0]*4)\n",
    "sdatat_buf = cl.Buffer(ctx, mf.READ_WRITE, b.shape[1]*topky*4)\n",
    "sidxst_buf = cl.Buffer(ctx, mf.READ_WRITE, b.shape[1]*topky*4)\n",
    "snnzst_buf = cl.Buffer(ctx, mf.READ_WRITE, b.shape[1]*4)\n",
    "\n",
    "prg = cl.Program(ctx, \"\"\"\n",
    "    // sorts x and y in ascending order and returns sorted indices\n",
    "    __kernel void genwupdate4(__global  float* x,     // INPUT MATRIX DATA\n",
    "                              __global  float* y,    // INPUT\n",
    "                              __global  float* xsum,    // INPUT\n",
    "                              __global  float* ysum,    // INPUT\n",
    "                              uint isize,\n",
    "                              uint msize,\n",
    "                              uint osize,\n",
    "                              uint topkx,\n",
    "                              uint topky,\n",
    "                              __global  uint*  xoutidx,\n",
    "                              __global  uint*  youtidx,\n",
    "                              __global  float* matData,     // OUTPUT MATRIX DATA\n",
    "                              __global  uint*  colIdx,\n",
    "                              __global  uint*  rowNnz,\n",
    "                              __global  float* matDatat,    // OUTPUT MATRIX DATA\n",
    "                              __global  uint*  colIdxt,\n",
    "                              __global  uint*  rowNnzt\n",
    "                              ) {\n",
    "      uint gid = get_global_id(0);\n",
    "\n",
    "      // get for a: sum axis0  b: sum axis1 then get topk\n",
    "      ///////////////////////////////////////////////////\n",
    "      if (gid < isize) {\n",
    "        xsum[gid] = 0;\n",
    "        for (uint i=0; i<msize; i++) {\n",
    "          float val = x[i*isize+gid];\n",
    "          //if (gid == 0) {\n",
    "          //  printf(\"\\\\nADD VALx: %.2f - %i\", val, i*msize+gid);\n",
    "          //}\n",
    "          xsum[gid] += val;\n",
    "        }\n",
    "\n",
    "        float valx = xsum[gid];\n",
    "        uint posx = 0;\n",
    "        for (uint i = 0; i < isize; i++) {\n",
    "          float tempval = fabs(xsum[i]);\n",
    "          bool larger = tempval > fabs(valx);\n",
    "          posx += (larger)?1:0;\n",
    "        }\n",
    "        if (posx < topky) {\n",
    "          youtidx[posx] = gid;\n",
    "        }\n",
    "      }\n",
    "\n",
    "      if (gid < osize) {\n",
    "        ysum[gid] = 0;\n",
    "        for (uint i=0; i<msize; i++) {\n",
    "          float val = y[i*osize+gid];\n",
    "          //if (gid == 0) {\n",
    "          //  printf(\"\\\\nADD VALx: %.2f - %i\", val, gid*osize+i);\n",
    "          //}\n",
    "          ysum[gid] += val;\n",
    "        }\n",
    "\n",
    "        float valy = ysum[gid];\n",
    "        uint posy = 0;\n",
    "        for (uint i = 0; i < osize; i++) {\n",
    "          float tempval = fabs(ysum[i]);\n",
    "          bool larger = tempval > fabs(valy);\n",
    "          posy += (larger)?1:0;\n",
    "        }\n",
    "\n",
    "        if (posy < topkx) {\n",
    "          xoutidx[posy] = gid;\n",
    "        }\n",
    "      }\n",
    "\n",
    "      if (gid < topkx) {\n",
    "        float valx = xoutidx[gid];\n",
    "        uint posx = 0;\n",
    "        for (uint i = 0; i < topkx; i++) {\n",
    "          float tempval = xoutidx[i];\n",
    "          bool larger = tempval < valx;\n",
    "          posx += (larger)?1:0;\n",
    "        }\n",
    "        xoutidx[gid] = gid;\n",
    "      }\n",
    "\n",
    "      if (gid < topky) {\n",
    "        float valy = youtidx[gid];\n",
    "        uint posy = 0;\n",
    "        for (uint i = 0; i < topky; i++) {\n",
    "          float tempval = youtidx[i];\n",
    "          bool larger = tempval < valy;\n",
    "          posy += (larger)?1:0;\n",
    "        }\n",
    "        youtidx[gid] = gid;\n",
    "      }\n",
    "\n",
    "      // only calc matrix multiplications for used grads\n",
    "      ///////////////////////////////////////////////////\n",
    "      if (gid < isize) {\n",
    "        for (uint i=0; i<topkx; i++) {\n",
    "          matData[gid*topkx+i] = 0;\n",
    "          colIdx[gid*topkx+i] = 0;\n",
    "        }\n",
    "        rowNnz[gid] = 0;\n",
    "      }\n",
    "      if (gid < osize) {\n",
    "        for (uint i=0; i<topky; i++) {\n",
    "          matDatat[gid*topky+i] = 0;\n",
    "          colIdxt[gid*topky+i] = 0;\n",
    "        }\n",
    "        rowNnzt[gid] = 0;\n",
    "      }\n",
    "\n",
    "\n",
    "      if (gid < topkx) {\n",
    "        uint idxx = xoutidx[gid];\n",
    "        for (uint j=0; j<topky; j++) {\n",
    "          uint idxy = youtidx[j];\n",
    "          //printf(\"\\\\nIDXX:%i  IDXY:%i\", idxx, idxy);\n",
    "          for (uint k=0; k<msize; k++) {\n",
    "            uint xidx2 = isize*k+idxy;\n",
    "            uint yidx2 = osize*k+idxx;\n",
    "            uint colidx = idxy;\n",
    "            matDatat[idxx*topky+j] += x[xidx2] * y[yidx2];\n",
    "            colIdxt[idxx*topky+j] = idxy;\n",
    "            if (gid == 0)\n",
    "              printf(\"\\\\n ADD VAL:%.2f,%.2f - (%i,%i) - (%i,%i,%i)\", x[xidx2], y[yidx2], idxx, idxy, gid, j, k);\n",
    "          }\n",
    "          rowNnzt[idxx] += 1;\n",
    "        }\n",
    "      }\n",
    "      if (gid < topky) {\n",
    "        uint idxx = youtidx[gid];\n",
    "        for (uint j=0; j<topkx; j++) {\n",
    "          uint idxy = xoutidx[j];\n",
    "          //printf(\"\\\\nIDXX:%i  IDXY:%i\", idxx, idxy);\n",
    "          for (uint k=0; k<msize; k++) {\n",
    "            uint xidx2 = isize*k+idxx;\n",
    "            uint yidx2 = osize*k+idxy;\n",
    "            uint colidx = idxy;\n",
    "            matData[idxx*topkx+j] += x[xidx2] * y[yidx2];\n",
    "            colIdx[idxx*topkx+j] = idxy;\n",
    "            if (gid == 0)\n",
    "              printf(\"\\\\n ADD VAL:%.2f,%.2f - (%i,%i) - (%i,%i,%i)\", x[xidx2], y[yidx2], idxx, idxy, gid, j, k);\n",
    "          }\n",
    "          rowNnz[idxx] += 1;\n",
    "        }\n",
    "      }\n",
    "    }\"\"\").build()"
   ]
  },
  {
   "cell_type": "code",
   "execution_count": null,
   "id": "27f1c723",
   "metadata": {},
   "outputs": [],
   "source": [
    "a.shape, b.shape"
   ]
  },
  {
   "cell_type": "code",
   "execution_count": null,
   "id": "e245166f",
   "metadata": {},
   "outputs": [],
   "source": [
    "rows = a.shape[0]\n",
    "msize = a.shape[1]"
   ]
  },
  {
   "cell_type": "code",
   "execution_count": null,
   "id": "da32f82e",
   "metadata": {},
   "outputs": [],
   "source": [
    "cols = b.shape[1]"
   ]
  },
  {
   "cell_type": "code",
   "execution_count": null,
   "id": "a1a6a511",
   "metadata": {},
   "outputs": [],
   "source": [
    "mult = a.dot(b)"
   ]
  },
  {
   "cell_type": "code",
   "execution_count": 132,
   "id": "55588aea",
   "metadata": {},
   "outputs": [],
   "source": [
    "mult = mult.astype(np.float32)"
   ]
  },
  {
   "cell_type": "code",
   "execution_count": 133,
   "id": "9fbe527a",
   "metadata": {},
   "outputs": [
    {
     "ename": "AttributeError",
     "evalue": "'genwupdate4' was not found as a program info attribute or as a kernel name",
     "output_type": "error",
     "traceback": [
      "\u001b[0;31m---------------------------------------------------------------------------\u001b[0m",
      "\u001b[0;31mLogicError\u001b[0m                                Traceback (most recent call last)",
      "\u001b[0;32m~/.conda/envs/tinygrad/lib/python3.8/site-packages/pyopencl/__init__.py\u001b[0m in \u001b[0;36m__getattr__\u001b[0;34m(self, attr)\u001b[0m\n\u001b[1;32m    460\u001b[0m         \u001b[0;32mtry\u001b[0m\u001b[0;34m:\u001b[0m\u001b[0;34m\u001b[0m\u001b[0;34m\u001b[0m\u001b[0m\n\u001b[0;32m--> 461\u001b[0;31m             \u001b[0mknl\u001b[0m \u001b[0;34m=\u001b[0m \u001b[0mKernel\u001b[0m\u001b[0;34m(\u001b[0m\u001b[0mself\u001b[0m\u001b[0;34m,\u001b[0m \u001b[0mattr\u001b[0m\u001b[0;34m)\u001b[0m\u001b[0;34m\u001b[0m\u001b[0;34m\u001b[0m\u001b[0m\n\u001b[0m\u001b[1;32m    462\u001b[0m             \u001b[0;31m# Nvidia does not raise errors even for invalid names,\u001b[0m\u001b[0;34m\u001b[0m\u001b[0;34m\u001b[0m\u001b[0;34m\u001b[0m\u001b[0m\n",
      "\u001b[0;32m~/.conda/envs/tinygrad/lib/python3.8/site-packages/pyopencl/__init__.py\u001b[0m in \u001b[0;36mkernel_init\u001b[0;34m(self, prg, name)\u001b[0m\n\u001b[1;32m    813\u001b[0m \u001b[0;34m\u001b[0m\u001b[0m\n\u001b[0;32m--> 814\u001b[0;31m         \u001b[0mkernel_old_init\u001b[0m\u001b[0;34m(\u001b[0m\u001b[0mself\u001b[0m\u001b[0;34m,\u001b[0m \u001b[0mprg\u001b[0m\u001b[0;34m,\u001b[0m \u001b[0mname\u001b[0m\u001b[0;34m)\u001b[0m\u001b[0;34m\u001b[0m\u001b[0;34m\u001b[0m\u001b[0m\n\u001b[0m\u001b[1;32m    815\u001b[0m \u001b[0;34m\u001b[0m\u001b[0m\n",
      "\u001b[0;31mLogicError\u001b[0m: clCreateKernel failed: INVALID_KERNEL_NAME",
      "\nDuring handling of the above exception, another exception occurred:\n",
      "\u001b[0;31mAttributeError\u001b[0m                            Traceback (most recent call last)",
      "\u001b[0;32m/tmp/ipykernel_31620/1300587201.py\u001b[0m in \u001b[0;36m<module>\u001b[0;34m\u001b[0m\n\u001b[1;32m      1\u001b[0m \u001b[0mres_buf\u001b[0m \u001b[0;34m=\u001b[0m \u001b[0mcl\u001b[0m\u001b[0;34m.\u001b[0m\u001b[0mBuffer\u001b[0m\u001b[0;34m(\u001b[0m\u001b[0mctx\u001b[0m\u001b[0;34m,\u001b[0m \u001b[0mmf\u001b[0m\u001b[0;34m.\u001b[0m\u001b[0mREAD_WRITE\u001b[0m\u001b[0;34m,\u001b[0m \u001b[0mnp\u001b[0m\u001b[0;34m.\u001b[0m\u001b[0mprod\u001b[0m\u001b[0;34m(\u001b[0m\u001b[0;34m[\u001b[0m\u001b[0mrows\u001b[0m\u001b[0;34m,\u001b[0m\u001b[0mb\u001b[0m\u001b[0;34m.\u001b[0m\u001b[0mshape\u001b[0m\u001b[0;34m[\u001b[0m\u001b[0;36m1\u001b[0m\u001b[0;34m]\u001b[0m\u001b[0;34m]\u001b[0m\u001b[0;34m)\u001b[0m\u001b[0;34m*\u001b[0m\u001b[0;36m4\u001b[0m\u001b[0;34m)\u001b[0m\u001b[0;34m\u001b[0m\u001b[0;34m\u001b[0m\u001b[0m\n\u001b[0;32m----> 2\u001b[0;31m \u001b[0mknl\u001b[0m \u001b[0;34m=\u001b[0m \u001b[0mprg\u001b[0m\u001b[0;34m.\u001b[0m\u001b[0mgenwupdate4\u001b[0m  \u001b[0;31m# Use this Kernel object for repeate/duald calls\u001b[0m\u001b[0;34m\u001b[0m\u001b[0;34m\u001b[0m\u001b[0m\n\u001b[0m\u001b[1;32m      3\u001b[0m evt = knl(queue, [max(rows,cols)], None, a_buf, b_buf, x_sum_buf, y_sum_buf, np.uint32(rows), np.uint32(msize),np.uint32(cols), \n\u001b[1;32m      4\u001b[0m           np.uint32(topkx),np.uint32(topky), x_idx_buf, y_idx_buf, sdata_buf, sidxs_buf, snnzs_buf, sdatat_buf, sidxst_buf, snnzst_buf)\n",
      "\u001b[0;32m~/.conda/envs/tinygrad/lib/python3.8/site-packages/pyopencl/__init__.py\u001b[0m in \u001b[0;36m__getattr__\u001b[0;34m(self, attr)\u001b[0m\n\u001b[1;32m    473\u001b[0m             \u001b[0;32mreturn\u001b[0m \u001b[0mknl\u001b[0m\u001b[0;34m\u001b[0m\u001b[0;34m\u001b[0m\u001b[0m\n\u001b[1;32m    474\u001b[0m         \u001b[0;32mexcept\u001b[0m \u001b[0mLogicError\u001b[0m\u001b[0;34m:\u001b[0m\u001b[0;34m\u001b[0m\u001b[0;34m\u001b[0m\u001b[0m\n\u001b[0;32m--> 475\u001b[0;31m             raise AttributeError(\"'%s' was not found as a program \"\n\u001b[0m\u001b[1;32m    476\u001b[0m                     \"info attribute or as a kernel name\" % attr)\n\u001b[1;32m    477\u001b[0m \u001b[0;34m\u001b[0m\u001b[0m\n",
      "\u001b[0;31mAttributeError\u001b[0m: 'genwupdate4' was not found as a program info attribute or as a kernel name"
     ]
    }
   ],
   "source": [
    "res_buf = cl.Buffer(ctx, mf.READ_WRITE, np.prod([rows,b.shape[1]])*4)\n",
    "knl = prg.genwupdate4  # Use this Kernel object for repeate/duald calls\n",
    "evt = knl(queue, [max(rows,cols)], None, a_buf, b_buf, x_sum_buf, y_sum_buf, np.uint32(rows), np.uint32(msize),np.uint32(cols), \n",
    "          np.uint32(topkx),np.uint32(topky), x_idx_buf, y_idx_buf, sdata_buf, sidxs_buf, snnzs_buf, sdatat_buf, sidxst_buf, snnzst_buf)"
   ]
  },
  {
   "cell_type": "code",
   "execution_count": null,
   "id": "20d6c425",
   "metadata": {},
   "outputs": [],
   "source": [
    "resxsum = np.zeros(a.shape[0]).astype(np.float32)\n",
    "resysum = np.zeros(b.shape[1]).astype(np.float32)\n",
    "resxidx = np.zeros(topkx).astype(np.uint32)\n",
    "resyidx = np.zeros(topky).astype(np.uint32)\n",
    "resxdat = np.zeros(a.shape[0]*topkx).astype(np.float32)\n",
    "resxcol = np.zeros(a.shape[0]*topkx).astype(np.uint32)\n",
    "resxnnz = np.zeros(a.shape[0]).astype(np.uint32)\n",
    "resxdatt = np.zeros(b.shape[1]*topky).astype(np.float32)\n",
    "resxcolt = np.zeros(b.shape[1]*topky).astype(np.uint32)\n",
    "resxnnzt = np.zeros(b.shape[1]).astype(np.uint32)\n",
    "\n",
    "cl.enqueue_copy(queue, resxsum, x_sum_buf)\n",
    "cl.enqueue_copy(queue, resysum, y_sum_buf)\n",
    "cl.enqueue_copy(queue, resxidx, x_idx_buf)\n",
    "cl.enqueue_copy(queue, resyidx, y_idx_buf)\n",
    "cl.enqueue_copy(queue, resxdat, sdata_buf)\n",
    "cl.enqueue_copy(queue, resxcol, sidxs_buf)\n",
    "cl.enqueue_copy(queue, resxnnz, snnzs_buf)\n",
    "cl.enqueue_copy(queue, resxdatt, sdatat_buf)\n",
    "cl.enqueue_copy(queue, resxcolt, sidxst_buf)\n",
    "cl.enqueue_copy(queue, resxnnzt, snnzst_buf)"
   ]
  },
  {
   "cell_type": "markdown",
   "id": "22bd424f",
   "metadata": {},
   "source": [
    "## results"
   ]
  },
  {
   "cell_type": "code",
   "execution_count": null,
   "id": "c37cd881",
   "metadata": {},
   "outputs": [],
   "source": [
    "topkx, topky"
   ]
  },
  {
   "cell_type": "code",
   "execution_count": null,
   "id": "9e8ec905",
   "metadata": {},
   "outputs": [],
   "source": [
    "mult.shape"
   ]
  },
  {
   "cell_type": "code",
   "execution_count": null,
   "id": "42e0dda3",
   "metadata": {},
   "outputs": [],
   "source": [
    "mult"
   ]
  },
  {
   "cell_type": "code",
   "execution_count": 134,
   "id": "f525f25b",
   "metadata": {},
   "outputs": [
    {
     "ename": "NameError",
     "evalue": "name 'resxdatt' is not defined",
     "output_type": "error",
     "traceback": [
      "\u001b[0;31m---------------------------------------------------------------------------\u001b[0m",
      "\u001b[0;31mNameError\u001b[0m                                 Traceback (most recent call last)",
      "\u001b[0;32m/tmp/ipykernel_31620/618516068.py\u001b[0m in \u001b[0;36m<module>\u001b[0;34m\u001b[0m\n\u001b[0;32m----> 1\u001b[0;31m \u001b[0mresxdatt\u001b[0m\u001b[0;34m.\u001b[0m\u001b[0mreshape\u001b[0m\u001b[0;34m(\u001b[0m\u001b[0mb\u001b[0m\u001b[0;34m.\u001b[0m\u001b[0mshape\u001b[0m\u001b[0;34m[\u001b[0m\u001b[0;36m1\u001b[0m\u001b[0;34m]\u001b[0m\u001b[0;34m,\u001b[0m\u001b[0mtopky\u001b[0m\u001b[0;34m)\u001b[0m\u001b[0;34m.\u001b[0m\u001b[0mT\u001b[0m\u001b[0;34m\u001b[0m\u001b[0;34m\u001b[0m\u001b[0m\n\u001b[0m",
      "\u001b[0;31mNameError\u001b[0m: name 'resxdatt' is not defined"
     ]
    }
   ],
   "source": [
    "resxdatt.reshape(b.shape[1],topky).T"
   ]
  },
  {
   "cell_type": "code",
   "execution_count": null,
   "id": "ee789ea0",
   "metadata": {},
   "outputs": [],
   "source": [
    "resxcol.reshape(a.shape[0],topkx)"
   ]
  },
  {
   "cell_type": "code",
   "execution_count": null,
   "id": "82fef554",
   "metadata": {},
   "outputs": [],
   "source": [
    "resxnnz.reshape(a.shape[0])"
   ]
  },
  {
   "cell_type": "code",
   "execution_count": 135,
   "id": "123f5d71",
   "metadata": {},
   "outputs": [
    {
     "ename": "NameError",
     "evalue": "name 'resxdatt' is not defined",
     "output_type": "error",
     "traceback": [
      "\u001b[0;31m---------------------------------------------------------------------------\u001b[0m",
      "\u001b[0;31mNameError\u001b[0m                                 Traceback (most recent call last)",
      "\u001b[0;32m/tmp/ipykernel_31620/19363900.py\u001b[0m in \u001b[0;36m<module>\u001b[0;34m\u001b[0m\n\u001b[0;32m----> 1\u001b[0;31m \u001b[0mresxdatt\u001b[0m\u001b[0;34m.\u001b[0m\u001b[0mreshape\u001b[0m\u001b[0;34m(\u001b[0m\u001b[0mb\u001b[0m\u001b[0;34m.\u001b[0m\u001b[0mshape\u001b[0m\u001b[0;34m[\u001b[0m\u001b[0;36m1\u001b[0m\u001b[0;34m]\u001b[0m\u001b[0;34m,\u001b[0m\u001b[0mtopky\u001b[0m\u001b[0;34m)\u001b[0m\u001b[0;34m\u001b[0m\u001b[0;34m\u001b[0m\u001b[0m\n\u001b[0m",
      "\u001b[0;31mNameError\u001b[0m: name 'resxdatt' is not defined"
     ]
    }
   ],
   "source": [
    "resxdatt.reshape(b.shape[1],topky)"
   ]
  },
  {
   "cell_type": "code",
   "execution_count": null,
   "id": "434d03a5",
   "metadata": {},
   "outputs": [],
   "source": [
    "resxcolt.reshape(b.shape[1],topky)"
   ]
  },
  {
   "cell_type": "code",
   "execution_count": null,
   "id": "ba80c821",
   "metadata": {},
   "outputs": [],
   "source": [
    "resxnnzt.reshape(b.shape[1])"
   ]
  },
  {
   "cell_type": "code",
   "execution_count": 136,
   "id": "a9cfc551",
   "metadata": {},
   "outputs": [
    {
     "ename": "NameError",
     "evalue": "name 'resxdat' is not defined",
     "output_type": "error",
     "traceback": [
      "\u001b[0;31m---------------------------------------------------------------------------\u001b[0m",
      "\u001b[0;31mNameError\u001b[0m                                 Traceback (most recent call last)",
      "\u001b[0;32m/tmp/ipykernel_31620/1670024403.py\u001b[0m in \u001b[0;36m<module>\u001b[0;34m\u001b[0m\n\u001b[0;32m----> 1\u001b[0;31m \u001b[0mresdense\u001b[0m \u001b[0;34m=\u001b[0m \u001b[0mto_dense\u001b[0m\u001b[0;34m(\u001b[0m\u001b[0mresxdat\u001b[0m\u001b[0;34m,\u001b[0m \u001b[0mresxcol\u001b[0m\u001b[0;34m,\u001b[0m \u001b[0mresxnnz\u001b[0m\u001b[0;34m,\u001b[0m \u001b[0mtopkx\u001b[0m\u001b[0;34m,\u001b[0m \u001b[0mmult\u001b[0m\u001b[0;34m.\u001b[0m\u001b[0mshape\u001b[0m\u001b[0;34m)\u001b[0m\u001b[0;34m\u001b[0m\u001b[0;34m\u001b[0m\u001b[0m\n\u001b[0m\u001b[1;32m      2\u001b[0m \u001b[0mresdense\u001b[0m\u001b[0;34m\u001b[0m\u001b[0;34m\u001b[0m\u001b[0m\n",
      "\u001b[0;31mNameError\u001b[0m: name 'resxdat' is not defined"
     ]
    }
   ],
   "source": [
    "resdense = to_dense(resxdat, resxcol, resxnnz, topkx, mult.shape)\n",
    "resdense"
   ]
  },
  {
   "cell_type": "code",
   "execution_count": null,
   "id": "9e08c470",
   "metadata": {},
   "outputs": [],
   "source": [
    "resdenset = to_dense(resxdatt, resxcolt, resxnnzt, topky, mult.T.shape)\n",
    "resdenset"
   ]
  },
  {
   "cell_type": "code",
   "execution_count": 137,
   "id": "2e8c4861",
   "metadata": {},
   "outputs": [
    {
     "ename": "NameError",
     "evalue": "name 'resdense' is not defined",
     "output_type": "error",
     "traceback": [
      "\u001b[0;31m---------------------------------------------------------------------------\u001b[0m",
      "\u001b[0;31mNameError\u001b[0m                                 Traceback (most recent call last)",
      "\u001b[0;32m/tmp/ipykernel_31620/2506763945.py\u001b[0m in \u001b[0;36m<module>\u001b[0;34m\u001b[0m\n\u001b[0;32m----> 1\u001b[0;31m \u001b[0mresdense\u001b[0m \u001b[0;34m==\u001b[0m \u001b[0mresdenset\u001b[0m\u001b[0;34m.\u001b[0m\u001b[0mT\u001b[0m\u001b[0;34m\u001b[0m\u001b[0;34m\u001b[0m\u001b[0m\n\u001b[0m",
      "\u001b[0;31mNameError\u001b[0m: name 'resdense' is not defined"
     ]
    }
   ],
   "source": [
    "resdense == resdenset.T"
   ]
  },
  {
   "cell_type": "markdown",
   "id": "f18ed3a3",
   "metadata": {},
   "source": [
    "## comp"
   ]
  },
  {
   "cell_type": "code",
   "execution_count": null,
   "id": "251496ab",
   "metadata": {},
   "outputs": [],
   "source": [
    "resxsum"
   ]
  },
  {
   "cell_type": "code",
   "execution_count": 138,
   "id": "6730fe0d",
   "metadata": {},
   "outputs": [
    {
     "data": {
      "text/plain": [
       "array([3.0937524, 3.5246177, 2.3468003, 3.2115116, 3.102983 , 2.4004393,\n",
       "       2.1758807, 2.6182923], dtype=float32)"
      ]
     },
     "execution_count": 138,
     "metadata": {},
     "output_type": "execute_result"
    }
   ],
   "source": [
    "a.sum(axis=1)"
   ]
  },
  {
   "cell_type": "code",
   "execution_count": 139,
   "id": "fb78528e",
   "metadata": {},
   "outputs": [
    {
     "data": {
      "text/plain": [
       "array([3.5506585, 3.3332088, 5.77045  , 3.095629 , 2.0694818],\n",
       "      dtype=float32)"
      ]
     },
     "execution_count": 139,
     "metadata": {},
     "output_type": "execute_result"
    }
   ],
   "source": [
    "resysum"
   ]
  },
  {
   "cell_type": "code",
   "execution_count": 140,
   "id": "6119fe1f",
   "metadata": {},
   "outputs": [
    {
     "data": {
      "text/plain": [
       "array([3.5506585, 3.3332088, 5.77045  , 3.095629 , 2.0694818],\n",
       "      dtype=float32)"
      ]
     },
     "execution_count": 140,
     "metadata": {},
     "output_type": "execute_result"
    }
   ],
   "source": [
    "b.sum(axis=0)"
   ]
  },
  {
   "cell_type": "code",
   "execution_count": 141,
   "id": "962ea295",
   "metadata": {},
   "outputs": [
    {
     "data": {
      "text/plain": [
       "array([[0.6996368 , 0.15550727, 1.6236207 , 0.3340667 , 0.61331564],\n",
       "       [1.8848312 , 0.18735047, 1.4160932 , 0.30414024, 0.29892322],\n",
       "       [0.16573755, 0.51614475, 1.40742   , 0.7711447 , 0.        ],\n",
       "       [1.130233  , 0.31159392, 1.1950791 , 0.32051137, 0.6311476 ],\n",
       "       [0.49532753, 0.9677906 , 0.8187757 , 0.1351769 , 0.01893103],\n",
       "       [0.60025734, 0.7728439 , 1.2898692 , 0.9285497 , 0.        ],\n",
       "       [0.17482497, 0.30367106, 0.47157714, 0.544282  , 0.7309462 ],\n",
       "       [0.7240762 , 0.27932334, 0.99110806, 0.09674796, 0.8390946 ]],\n",
       "      dtype=float32)"
      ]
     },
     "execution_count": 141,
     "metadata": {},
     "output_type": "execute_result"
    }
   ],
   "source": [
    "mult"
   ]
  },
  {
   "cell_type": "code",
   "execution_count": 142,
   "id": "21933f68",
   "metadata": {},
   "outputs": [
    {
     "data": {
      "text/plain": [
       "array([0, 1, 3, 4, 7], dtype=uint32)"
      ]
     },
     "execution_count": 142,
     "metadata": {},
     "output_type": "execute_result"
    }
   ],
   "source": [
    "resxidx"
   ]
  },
  {
   "cell_type": "code",
   "execution_count": 143,
   "id": "3fc878bf",
   "metadata": {},
   "outputs": [
    {
     "data": {
      "text/plain": [
       "array([0, 1, 2, 3, 4], dtype=uint32)"
      ]
     },
     "execution_count": 143,
     "metadata": {},
     "output_type": "execute_result"
    }
   ],
   "source": [
    "resyidx"
   ]
  },
  {
   "cell_type": "code",
   "execution_count": 144,
   "id": "0404eb27",
   "metadata": {},
   "outputs": [
    {
     "ename": "NameError",
     "evalue": "name 'asdf' is not defined",
     "output_type": "error",
     "traceback": [
      "\u001b[0;31m---------------------------------------------------------------------------\u001b[0m",
      "\u001b[0;31mNameError\u001b[0m                                 Traceback (most recent call last)",
      "\u001b[0;32m/tmp/ipykernel_31620/2827374946.py\u001b[0m in \u001b[0;36m<module>\u001b[0;34m\u001b[0m\n\u001b[0;32m----> 1\u001b[0;31m \u001b[0masdf\u001b[0m\u001b[0;34m\u001b[0m\u001b[0;34m\u001b[0m\u001b[0m\n\u001b[0m",
      "\u001b[0;31mNameError\u001b[0m: name 'asdf' is not defined"
     ]
    }
   ],
   "source": [
    "asdf"
   ]
  },
  {
   "cell_type": "markdown",
   "id": "e2863a8c",
   "metadata": {},
   "source": [
    "## Prune Weights"
   ]
  },
  {
   "cell_type": "code",
   "execution_count": null,
   "id": "cc23a54a",
   "metadata": {},
   "outputs": [],
   "source": [
    "adata_buf = cl.Buffer(ctx, mf.READ_WRITE | mf.COPY_HOST_PTR, hostbuf=adata)\n",
    "acols_buf = cl.Buffer(ctx, mf.READ_WRITE | mf.COPY_HOST_PTR, hostbuf=acols)\n",
    "annzs_buf = cl.Buffer(ctx, mf.READ_WRITE | mf.COPY_HOST_PTR, hostbuf=annz)\n",
    "adatat_buf = cl.Buffer(ctx, mf.READ_WRITE | mf.COPY_HOST_PTR, hostbuf=adatat)\n",
    "acolst_buf = cl.Buffer(ctx, mf.READ_WRITE | mf.COPY_HOST_PTR, hostbuf=acolst)\n",
    "annzst_buf = cl.Buffer(ctx, mf.READ_WRITE | mf.COPY_HOST_PTR, hostbuf=annzt)\n",
    "\n",
    "prg = cl.Program(ctx, \"\"\"\n",
    "    // prunes weights smaller than a constant C\n",
    "    __kernel void prune(__global  float* matData,     // INPUT MATRIX DATA\n",
    "                        __global  uint*  colIdx,\n",
    "                        __global  uint*  rowNnz,\n",
    "                        uint ellw,\n",
    "                        float pruneval) { \n",
    "      uint gid = get_global_id(0);\n",
    "      \n",
    "      uint nnzs = rowNnz[gid];\n",
    "      for (uint i=0; i<nnzs; i++) {\n",
    "        uint idx = ellw * gid + i;\n",
    "        float val = matData[idx];\n",
    "        printf(\"\\\\nDATA:%.2f - %.2f\", matData[idx], pruneval);\n",
    "        if(fabs(val)<pruneval) {\n",
    "          printf(\"\\\\nPRUNE(%i): %.2f\", gid, matData[idx]);\n",
    "          for (uint j=i; j<=nnzs-1; j++) {\n",
    "            uint idx2 = ellw * gid + j;\n",
    "            matData[idx2] = matData[idx2+1];\n",
    "            colIdx[idx2] = colIdx[idx2+1];\n",
    "          }\n",
    "          matData[ellw*gid+nnzs] = 0;\n",
    "          colIdx[ellw*gid+nnzs] = 0;\n",
    "          rowNnz[gid] -= 1;\n",
    "          nnzs = rowNnz[gid];\n",
    "        }\n",
    "      }\n",
    "    }\"\"\").build()"
   ]
  },
  {
   "cell_type": "code",
   "execution_count": null,
   "id": "8d60d6ef",
   "metadata": {},
   "outputs": [],
   "source": [
    "a.shape"
   ]
  },
  {
   "cell_type": "code",
   "execution_count": null,
   "id": "ede27450",
   "metadata": {},
   "outputs": [],
   "source": [
    "rows = a.shape[0]\n",
    "cols = a.shape[1]\n",
    "\n",
    "pruneval = .35"
   ]
  },
  {
   "cell_type": "code",
   "execution_count": null,
   "id": "6e259da1",
   "metadata": {},
   "outputs": [],
   "source": [
    "knl = prg.prune  # Use this Kernel object for repeated calls\n",
    "evt = knl(queue, [rows,], None, adata_buf, acols_buf, annzs_buf, np.uint32(ellwa), np.float32(pruneval))"
   ]
  },
  {
   "cell_type": "code",
   "execution_count": 145,
   "id": "5dc3c096",
   "metadata": {},
   "outputs": [
    {
     "data": {
      "text/plain": [
       "<pyopencl._cl.NannyEvent at 0x7fd7f02a2860>"
      ]
     },
     "execution_count": 145,
     "metadata": {},
     "output_type": "execute_result"
    }
   ],
   "source": [
    "resxdat = np.zeros(adata.shape).astype(np.float32)\n",
    "resxcol = np.zeros(acols.shape).astype(np.uint32)\n",
    "resxnnz = np.zeros(annz.shape).astype(np.uint32)\n",
    "\n",
    "cl.enqueue_copy(queue, resxdat, adata_buf)\n",
    "cl.enqueue_copy(queue, resxcol, acols_buf)\n",
    "cl.enqueue_copy(queue, resxnnz, annzs_buf)"
   ]
  },
  {
   "cell_type": "code",
   "execution_count": 146,
   "id": "04153941",
   "metadata": {},
   "outputs": [
    {
     "data": {
      "text/plain": [
       "array([[0.        , 0.68347037, 0.8035886 , 0.        , 0.        ,\n",
       "        0.        , 0.        , 0.08023349, 0.8858316 , 0.        ,\n",
       "        0.17861794, 0.        , 0.46201044, 0.        , 0.        ,\n",
       "        0.        ],\n",
       "       [0.9562663 , 0.5531271 , 0.        , 0.        , 0.5375557 ,\n",
       "        0.        , 0.        , 0.        , 0.        , 0.        ,\n",
       "        0.        , 0.20370705, 0.35530138, 0.        , 0.        ,\n",
       "        0.9186601 ],\n",
       "       [0.        , 0.20103766, 0.        , 0.        , 0.        ,\n",
       "        0.74341315, 0.        , 0.        , 0.        , 0.5787496 ,\n",
       "        0.        , 0.05387774, 0.        , 0.5917517 , 0.17797045,\n",
       "        0.        ],\n",
       "       [0.        , 0.        , 0.        , 0.14296253, 0.9103574 ,\n",
       "        0.03242496, 0.        , 0.71459514, 0.        , 0.        ,\n",
       "        0.        , 0.        , 0.7448136 , 0.        , 0.        ,\n",
       "        0.66635793],\n",
       "       [0.        , 0.        , 0.        , 0.59893256, 0.        ,\n",
       "        0.        , 0.        , 0.9217044 , 0.        , 0.16333483,\n",
       "        0.        , 0.17167741, 0.        , 0.        , 0.7605819 ,\n",
       "        0.48675168],\n",
       "       [0.11415514, 0.82574075, 0.        , 0.        , 0.        ,\n",
       "        0.27978534, 0.        , 0.25018668, 0.        , 0.        ,\n",
       "        0.83127654, 0.09929471, 0.        , 0.        , 0.        ,\n",
       "        0.        ],\n",
       "       [0.28872353, 0.04889954, 0.        , 0.6493426 , 0.        ,\n",
       "        0.33329687, 0.        , 0.        , 0.        , 0.        ,\n",
       "        0.        , 0.        , 0.84441024, 0.01120785, 0.        ,\n",
       "        0.        ],\n",
       "       [0.67626965, 0.        , 0.        , 0.35563806, 0.        ,\n",
       "        0.        , 0.69630474, 0.        , 0.6753613 , 0.        ,\n",
       "        0.        , 0.12287189, 0.        , 0.        , 0.        ,\n",
       "        0.09184685]], dtype=float32)"
      ]
     },
     "execution_count": 146,
     "metadata": {},
     "output_type": "execute_result"
    }
   ],
   "source": [
    "a"
   ]
  },
  {
   "cell_type": "code",
   "execution_count": 147,
   "id": "5d83f2fa",
   "metadata": {},
   "outputs": [
    {
     "data": {
      "text/plain": [
       "array([[0.68347037, 0.8035886 , 0.08023349, 0.8858316 , 0.17861794,\n",
       "        0.46201044, 0.        , 0.        , 0.        , 0.        ,\n",
       "        0.        , 0.        , 0.        , 0.        , 0.        ,\n",
       "        0.        , 0.9562663 , 0.5531271 , 0.5375557 , 0.20370705,\n",
       "        0.35530138, 0.9186601 , 0.        , 0.        , 0.        ,\n",
       "        0.        , 0.        , 0.        , 0.        , 0.        ,\n",
       "        0.        , 0.        ],\n",
       "       [0.20103766, 0.74341315, 0.5787496 , 0.05387774, 0.5917517 ,\n",
       "        0.17797045, 0.        , 0.        , 0.        , 0.        ,\n",
       "        0.        , 0.        , 0.        , 0.        , 0.        ,\n",
       "        0.        , 0.14296253, 0.9103574 , 0.03242496, 0.71459514,\n",
       "        0.7448136 , 0.66635793, 0.        , 0.        , 0.        ,\n",
       "        0.        , 0.        , 0.        , 0.        , 0.        ,\n",
       "        0.        , 0.        ],\n",
       "       [0.59893256, 0.9217044 , 0.16333483, 0.17167741, 0.7605819 ,\n",
       "        0.48675168, 0.        , 0.        , 0.        , 0.        ,\n",
       "        0.        , 0.        , 0.        , 0.        , 0.        ,\n",
       "        0.        , 0.11415514, 0.82574075, 0.27978534, 0.25018668,\n",
       "        0.83127654, 0.09929471, 0.        , 0.        , 0.        ,\n",
       "        0.        , 0.        , 0.        , 0.        , 0.        ,\n",
       "        0.        , 0.        ],\n",
       "       [0.28872353, 0.04889954, 0.6493426 , 0.33329687, 0.84441024,\n",
       "        0.01120785, 0.        , 0.        , 0.        , 0.        ,\n",
       "        0.        , 0.        , 0.        , 0.        , 0.        ,\n",
       "        0.        , 0.67626965, 0.35563806, 0.69630474, 0.6753613 ,\n",
       "        0.12287189, 0.09184685, 0.        , 0.        , 0.        ,\n",
       "        0.        , 0.        , 0.        , 0.        , 0.        ,\n",
       "        0.        , 0.        ]], dtype=float32)"
      ]
     },
     "execution_count": 147,
     "metadata": {},
     "output_type": "execute_result"
    }
   ],
   "source": [
    "adata.reshape((4,-1))"
   ]
  },
  {
   "cell_type": "code",
   "execution_count": 148,
   "id": "8adb34bc",
   "metadata": {},
   "outputs": [
    {
     "data": {
      "text/plain": [
       "array([[ 1,  2,  7,  8, 10, 12,  0,  0,  0,  0,  0,  0,  0,  0,  0,  0,\n",
       "         0,  1,  4, 11, 12, 15,  0,  0,  0,  0,  0,  0,  0,  0,  0,  0],\n",
       "       [ 1,  5,  9, 11, 13, 14,  0,  0,  0,  0,  0,  0,  0,  0,  0,  0,\n",
       "         3,  4,  5,  7, 12, 15,  0,  0,  0,  0,  0,  0,  0,  0,  0,  0],\n",
       "       [ 3,  7,  9, 11, 14, 15,  0,  0,  0,  0,  0,  0,  0,  0,  0,  0,\n",
       "         0,  1,  5,  7, 10, 11,  0,  0,  0,  0,  0,  0,  0,  0,  0,  0],\n",
       "       [ 0,  1,  3,  5, 12, 13,  0,  0,  0,  0,  0,  0,  0,  0,  0,  0,\n",
       "         0,  3,  6,  8, 11, 15,  0,  0,  0,  0,  0,  0,  0,  0,  0,  0]],\n",
       "      dtype=uint32)"
      ]
     },
     "execution_count": 148,
     "metadata": {},
     "output_type": "execute_result"
    }
   ],
   "source": [
    "acols.reshape((4,-1))"
   ]
  },
  {
   "cell_type": "code",
   "execution_count": 149,
   "id": "ed57cbce",
   "metadata": {},
   "outputs": [
    {
     "data": {
      "text/plain": [
       "array([[0.68347037, 0.8035886 , 0.08023349, 0.8858316 , 0.17861794,\n",
       "        0.46201044, 0.        , 0.        , 0.        , 0.        ,\n",
       "        0.        , 0.        , 0.        , 0.        , 0.        ,\n",
       "        0.        , 0.9562663 , 0.5531271 , 0.5375557 , 0.20370705,\n",
       "        0.35530138, 0.9186601 , 0.        , 0.        , 0.        ,\n",
       "        0.        , 0.        , 0.        , 0.        , 0.        ,\n",
       "        0.        , 0.        ],\n",
       "       [0.20103766, 0.74341315, 0.5787496 , 0.05387774, 0.5917517 ,\n",
       "        0.17797045, 0.        , 0.        , 0.        , 0.        ,\n",
       "        0.        , 0.        , 0.        , 0.        , 0.        ,\n",
       "        0.        , 0.14296253, 0.9103574 , 0.03242496, 0.71459514,\n",
       "        0.7448136 , 0.66635793, 0.        , 0.        , 0.        ,\n",
       "        0.        , 0.        , 0.        , 0.        , 0.        ,\n",
       "        0.        , 0.        ],\n",
       "       [0.59893256, 0.9217044 , 0.16333483, 0.17167741, 0.7605819 ,\n",
       "        0.48675168, 0.        , 0.        , 0.        , 0.        ,\n",
       "        0.        , 0.        , 0.        , 0.        , 0.        ,\n",
       "        0.        , 0.11415514, 0.82574075, 0.27978534, 0.25018668,\n",
       "        0.83127654, 0.09929471, 0.        , 0.        , 0.        ,\n",
       "        0.        , 0.        , 0.        , 0.        , 0.        ,\n",
       "        0.        , 0.        ],\n",
       "       [0.28872353, 0.04889954, 0.6493426 , 0.33329687, 0.84441024,\n",
       "        0.01120785, 0.        , 0.        , 0.        , 0.        ,\n",
       "        0.        , 0.        , 0.        , 0.        , 0.        ,\n",
       "        0.        , 0.67626965, 0.35563806, 0.69630474, 0.6753613 ,\n",
       "        0.12287189, 0.09184685, 0.        , 0.        , 0.        ,\n",
       "        0.        , 0.        , 0.        , 0.        , 0.        ,\n",
       "        0.        , 0.        ]], dtype=float32)"
      ]
     },
     "execution_count": 149,
     "metadata": {},
     "output_type": "execute_result"
    }
   ],
   "source": [
    "resxdat.reshape((4,-1))"
   ]
  },
  {
   "cell_type": "code",
   "execution_count": 150,
   "id": "82b64ba8",
   "metadata": {},
   "outputs": [
    {
     "data": {
      "text/plain": [
       "array([[ 1,  2,  7,  8, 10, 12,  0,  0,  0,  0,  0,  0,  0,  0,  0,  0,\n",
       "         0,  1,  4, 11, 12, 15,  0,  0,  0,  0,  0,  0,  0,  0,  0,  0],\n",
       "       [ 1,  5,  9, 11, 13, 14,  0,  0,  0,  0,  0,  0,  0,  0,  0,  0,\n",
       "         3,  4,  5,  7, 12, 15,  0,  0,  0,  0,  0,  0,  0,  0,  0,  0],\n",
       "       [ 3,  7,  9, 11, 14, 15,  0,  0,  0,  0,  0,  0,  0,  0,  0,  0,\n",
       "         0,  1,  5,  7, 10, 11,  0,  0,  0,  0,  0,  0,  0,  0,  0,  0],\n",
       "       [ 0,  1,  3,  5, 12, 13,  0,  0,  0,  0,  0,  0,  0,  0,  0,  0,\n",
       "         0,  3,  6,  8, 11, 15,  0,  0,  0,  0,  0,  0,  0,  0,  0,  0]],\n",
       "      dtype=uint32)"
      ]
     },
     "execution_count": 150,
     "metadata": {},
     "output_type": "execute_result"
    }
   ],
   "source": [
    "resxcol.reshape((4,-1))"
   ]
  },
  {
   "cell_type": "code",
   "execution_count": 151,
   "id": "69cc453d",
   "metadata": {},
   "outputs": [
    {
     "data": {
      "text/plain": [
       "array([6, 6, 6, 6, 6, 6, 6, 6], dtype=uint32)"
      ]
     },
     "execution_count": 151,
     "metadata": {},
     "output_type": "execute_result"
    }
   ],
   "source": [
    "resxnnz"
   ]
  },
  {
   "cell_type": "markdown",
   "id": "f1bd0e85",
   "metadata": {},
   "source": [
    "## results"
   ]
  },
  {
   "cell_type": "code",
   "execution_count": 152,
   "id": "4d73d135",
   "metadata": {},
   "outputs": [
    {
     "data": {
      "text/plain": [
       "array([[0.6996368 , 1.8848312 , 0.16573755, 1.130233  , 0.49532753,\n",
       "        0.60025734, 0.17482497, 0.7240762 ],\n",
       "       [0.15550727, 0.18735047, 0.51614475, 0.31159392, 0.9677906 ,\n",
       "        0.7728439 , 0.30367106, 0.27932334],\n",
       "       [1.6236207 , 1.4160932 , 1.40742   , 1.1950791 , 0.8187757 ,\n",
       "        1.2898692 , 0.47157714, 0.99110806],\n",
       "       [0.3340667 , 0.30414024, 0.7711447 , 0.32051137, 0.1351769 ,\n",
       "        0.9285497 , 0.544282  , 0.09674796],\n",
       "       [0.61331564, 0.29892322, 0.        , 0.6311476 , 0.01893103,\n",
       "        0.        , 0.7309462 , 0.8390946 ]], dtype=float32)"
      ]
     },
     "execution_count": 152,
     "metadata": {},
     "output_type": "execute_result"
    }
   ],
   "source": [
    "mult.T"
   ]
  },
  {
   "cell_type": "code",
   "execution_count": 153,
   "id": "23ff0483",
   "metadata": {},
   "outputs": [
    {
     "ename": "ValueError",
     "evalue": "cannot reshape array of size 128 into shape (8,5)",
     "output_type": "error",
     "traceback": [
      "\u001b[0;31m---------------------------------------------------------------------------\u001b[0m",
      "\u001b[0;31mValueError\u001b[0m                                Traceback (most recent call last)",
      "\u001b[0;32m/tmp/ipykernel_31620/3098413385.py\u001b[0m in \u001b[0;36m<module>\u001b[0;34m\u001b[0m\n\u001b[0;32m----> 1\u001b[0;31m \u001b[0mresxdat\u001b[0m\u001b[0;34m.\u001b[0m\u001b[0mreshape\u001b[0m\u001b[0;34m(\u001b[0m\u001b[0ma\u001b[0m\u001b[0;34m.\u001b[0m\u001b[0mshape\u001b[0m\u001b[0;34m[\u001b[0m\u001b[0;36m0\u001b[0m\u001b[0;34m]\u001b[0m\u001b[0;34m,\u001b[0m\u001b[0mtopk\u001b[0m\u001b[0;34m)\u001b[0m\u001b[0;34m\u001b[0m\u001b[0;34m\u001b[0m\u001b[0m\n\u001b[0m",
      "\u001b[0;31mValueError\u001b[0m: cannot reshape array of size 128 into shape (8,5)"
     ]
    }
   ],
   "source": [
    "resxdat.reshape(a.shape[0],topk)"
   ]
  },
  {
   "cell_type": "code",
   "execution_count": null,
   "id": "e74da606",
   "metadata": {},
   "outputs": [],
   "source": [
    "resxcol.reshape(a.shape[0],topk)"
   ]
  },
  {
   "cell_type": "code",
   "execution_count": null,
   "id": "0d163788",
   "metadata": {},
   "outputs": [],
   "source": [
    "resxnnz.reshape(a.shape[0])"
   ]
  },
  {
   "cell_type": "code",
   "execution_count": null,
   "id": "d1e81731",
   "metadata": {},
   "outputs": [],
   "source": [
    "resxdatt.reshape(b.shape[1],topk)"
   ]
  },
  {
   "cell_type": "code",
   "execution_count": null,
   "id": "eec545c9",
   "metadata": {},
   "outputs": [],
   "source": [
    "resxcolt.reshape(b.shape[1],topk)"
   ]
  },
  {
   "cell_type": "code",
   "execution_count": null,
   "id": "99c0beec",
   "metadata": {},
   "outputs": [],
   "source": [
    "resxnnzt.reshape(b.shape[1])"
   ]
  },
  {
   "cell_type": "markdown",
   "id": "a07aaaf8",
   "metadata": {},
   "source": [
    "### Update Vals (add sparse)"
   ]
  },
  {
   "cell_type": "code",
   "execution_count": null,
   "id": "4a4440eb",
   "metadata": {},
   "outputs": [],
   "source": [
    "b.shape"
   ]
  },
  {
   "cell_type": "code",
   "execution_count": 154,
   "id": "dbd85aa7",
   "metadata": {},
   "outputs": [],
   "source": [
    "randadd = np.random.rand(*b.shape)"
   ]
  },
  {
   "cell_type": "code",
   "execution_count": 155,
   "id": "4d7cd83c",
   "metadata": {},
   "outputs": [],
   "source": [
    "randdata, randcols, randnnz, randellw = to_data(randadd)\n",
    "bdata_buf = cl.Buffer(ctx, mf.READ_WRITE | mf.COPY_HOST_PTR, hostbuf=bdata)\n",
    "bcols_buf = cl.Buffer(ctx, mf.READ_WRITE | mf.COPY_HOST_PTR, hostbuf=bcols)\n",
    "bnnzs_buf = cl.Buffer(ctx, mf.READ_WRITE | mf.COPY_HOST_PTR, hostbuf=bnnz)\n",
    "randdata_buf = cl.Buffer(ctx, mf.READ_WRITE | mf.COPY_HOST_PTR, hostbuf=randdata)\n",
    "randcols_buf = cl.Buffer(ctx, mf.READ_WRITE | mf.COPY_HOST_PTR, hostbuf=randcols)\n",
    "randnnzs_buf = cl.Buffer(ctx, mf.READ_WRITE | mf.COPY_HOST_PTR, hostbuf=randnnz)\n",
    "\n",
    "\n",
    "prg = cl.Program(ctx, \"\"\"\n",
    "    // Every global_id_0 works on a row\n",
    "    __kernel void adddense(__global  float* matData,     // INPUT MATRIX DATA\n",
    "                            __global  uint*  colIdx,\n",
    "                            __global  uint*  rowNnz,\n",
    "                            float  lr,\n",
    "                            uint   ellwidth,\n",
    "                            __global  float* matDataAdd,     // INPUT MATRIX DATA\n",
    "                            __global  uint*  colIdxAdd,\n",
    "                            __global  uint*  rowNnzAdd,\n",
    "                            uint ellwidthAdd\n",
    "                            ) { // LOCAL SHARED BUFFER\n",
    "      uint gid = get_global_id(0);\n",
    "      uint nrows = get_global_size(0);\n",
    "\n",
    "      uint nnz    = rowNnz[gid];\n",
    "\n",
    "      uint baseidxs = gid*ellwidth;\n",
    "      uint baseidxd = gid*ellwidthAdd;\n",
    "\n",
    "      uint nnzadd = rowNnzAdd[gid];\n",
    "      \n",
    "      uint m = 0;\n",
    "      for (uint i=0; i<nnzadd; i++) {\n",
    "        float addval = matDataAdd[baseidxd+i] * lr;\n",
    "        uint addcol = colIdxAdd[baseidxd+i];\n",
    "        \n",
    "        if (addval == 0.0) {\n",
    "          //printf(\"\\\\nZERO VAL, CONT: %.2f - %i\", addval, gid);\n",
    "          continue;\n",
    "        }\n",
    "\n",
    "        uint refcol = colIdx[baseidxs+i];\n",
    "        m = 0;\n",
    "        while (refcol < addcol && (i+m) < nnz) {\n",
    "          m += 1;\n",
    "          refcol = colIdx[baseidxs+i+m];\n",
    "        }\n",
    "\n",
    "        //if (gid == 0)\n",
    "        //  printf(\"\\\\nADD VAL:%.2f  ADDCOL:%i  ref:(%i)  gid/i/m:(%i/%i%i)\", addval, addcol, refcol, gid,i,m);\n",
    "        \n",
    "        if (addcol == refcol) {\n",
    "          matData[baseidxs+i+m] += addval;\n",
    "          //if (gid == 0)\n",
    "          //  printf(\"\\\\nINCREMENT: %.2f\",addval);\n",
    "          continue;\n",
    "        } else {\n",
    "          //if (gid == 0)\n",
    "          //  printf(\"\\\\nADD: %.2f %i-%i\",addval, addcol, refcol);\n",
    "          if (rowNnz[gid] >= ellwidth) {\n",
    "            break;\n",
    "          }\n",
    "\n",
    "          for (uint j=nnz; j>i+m; j--) {\n",
    "            //printf(\"\\\\nMOVE:%.2f\", matData[baseidx+j-1]);\n",
    "            colIdx[baseidxs+j] = colIdx[baseidxs+j-1];\n",
    "            matData[baseidxs+j] = matData[baseidxs+j-1];\n",
    "          }\n",
    "          rowNnz[gid] += 1;\n",
    "          nnz = rowNnz[gid];\n",
    "        \n",
    "          //if (gid == 0)\n",
    "          //  printf(\"\\\\nSET VAL:%.2f idx:%i/%i  col:%i\", addval, baseidxs+i, baseidxd+i, addcol);\n",
    "          matData[baseidxs+i+m] = addval;\n",
    "          colIdx[baseidxs+i+m] = addcol;\n",
    "        }\n",
    "      }\n",
    "    }\"\"\").build()"
   ]
  },
  {
   "cell_type": "code",
   "execution_count": 156,
   "id": "35387816",
   "metadata": {},
   "outputs": [],
   "source": [
    "res = np.zeros(a.shape[0]).astype(np.float32)\n",
    "#res"
   ]
  },
  {
   "cell_type": "code",
   "execution_count": 157,
   "id": "a7c249b6",
   "metadata": {},
   "outputs": [],
   "source": [
    "rows = b.shape[0]"
   ]
  },
  {
   "cell_type": "code",
   "execution_count": 158,
   "id": "b56fd01d",
   "metadata": {},
   "outputs": [
    {
     "data": {
      "text/plain": [
       "<pyopencl._cl.Event at 0x7fd7f03c09f0>"
      ]
     },
     "execution_count": 158,
     "metadata": {},
     "output_type": "execute_result"
    }
   ],
   "source": [
    "res_buf = cl.Buffer(ctx, mf.WRITE_ONLY, b.nbytes)\n",
    "knl = prg.adddense  # Use this Kernel object for repeated calls\n",
    "knl(queue, [rows], None, bdata_buf, bcols_buf, bnnzs_buf, np.float32(1), np.uint32(ellwb), \n",
    "    randdata_buf, randcols_buf, randnnzs_buf, np.uint32(randellw))"
   ]
  },
  {
   "cell_type": "code",
   "execution_count": 159,
   "id": "6f9789d9",
   "metadata": {},
   "outputs": [
    {
     "data": {
      "text/plain": [
       "<pyopencl._cl.NannyEvent at 0x7fd7f03f5a90>"
      ]
     },
     "execution_count": 159,
     "metadata": {},
     "output_type": "execute_result"
    }
   ],
   "source": [
    "data_res = np.empty_like(bdata)\n",
    "cols_res = np.empty_like(bcols)\n",
    "nnzs_res = np.empty_like(bnnz)\n",
    "cl.enqueue_copy(queue, data_res, bdata_buf, is_blocking=True)\n",
    "cl.enqueue_copy(queue, cols_res, bcols_buf, is_blocking=True)\n",
    "cl.enqueue_copy(queue, nnzs_res, bnnzs_buf, is_blocking=True)"
   ]
  },
  {
   "cell_type": "code",
   "execution_count": 160,
   "id": "143ffa2e",
   "metadata": {},
   "outputs": [
    {
     "data": {
      "text/plain": [
       "array([[0.49395892, 0.        , 0.46451807, 0.        , 0.        ],\n",
       "       [0.65864426, 0.        , 0.9786625 , 0.        , 0.        ],\n",
       "       [0.31044865, 0.        , 0.02502257, 0.        , 0.        ],\n",
       "       [0.        , 0.46765924, 0.        , 0.        , 0.03160795],\n",
       "       [0.71082693, 0.        , 0.58997136, 0.        , 0.        ],\n",
       "       [0.        , 0.        , 0.84622455, 0.5916316 , 0.        ],\n",
       "       [0.46450275, 0.        , 0.        , 0.        , 0.9429863 ],\n",
       "       [0.        , 0.34248227, 0.7672639 , 0.        , 0.        ],\n",
       "       [0.        , 0.        , 0.9855889 , 0.        , 0.2535647 ],\n",
       "       [0.        , 0.7705159 , 0.31522992, 0.        , 0.        ],\n",
       "       [0.        , 0.7167741 , 0.        , 0.8238369 , 0.        ],\n",
       "       [0.        , 0.91970533, 0.        , 0.7873889 , 0.        ],\n",
       "       [0.        , 0.        , 0.        , 0.404568  , 0.841323  ],\n",
       "       [0.        , 0.        , 0.674503  , 0.48820347, 0.        ],\n",
       "       [0.18725161, 0.11607183, 0.        , 0.        , 0.        ],\n",
       "       [0.7250254 , 0.        , 0.12346577, 0.        , 0.        ]],\n",
       "      dtype=float32)"
      ]
     },
     "execution_count": 160,
     "metadata": {},
     "output_type": "execute_result"
    }
   ],
   "source": [
    "b"
   ]
  },
  {
   "cell_type": "code",
   "execution_count": 161,
   "id": "93c83411",
   "metadata": {},
   "outputs": [
    {
     "data": {
      "text/plain": [
       "array([0, 2, 0, 0, 0, 0, 2, 0, 0, 0, 0, 2, 0, 0, 0, 1, 4, 0, 0, 0, 0, 2,\n",
       "       0, 0, 0, 2, 3, 0, 0, 0, 0, 4, 0, 0, 0, 1, 2, 0, 0, 0, 2, 4, 0, 0,\n",
       "       0, 1, 2, 0, 0, 0, 1, 3, 0, 0, 0, 1, 3, 0, 0, 0, 3, 4, 0, 0, 0, 2,\n",
       "       3, 0, 0, 0, 0, 1, 0, 0, 0, 0, 2, 0, 0, 0], dtype=uint32)"
      ]
     },
     "execution_count": 161,
     "metadata": {},
     "output_type": "execute_result"
    }
   ],
   "source": [
    "bcols"
   ]
  },
  {
   "cell_type": "code",
   "execution_count": 162,
   "id": "307d1e92",
   "metadata": {},
   "outputs": [
    {
     "data": {
      "text/plain": [
       "array([0.6709938 , 0.9082271 , 1.3086331 , 0.13836125, 0.37077376,\n",
       "       0.80051553, 0.2554239 , 1.7198983 , 0.5749973 , 0.58092856,\n",
       "       0.5559536 , 0.37022075, 0.31031638, 0.04638312, 0.89031464,\n",
       "       0.4462557 , 0.48636654, 0.49408567, 0.4352037 , 0.26299107,\n",
       "       1.23404   , 0.98933345, 1.2675607 , 0.9670713 , 0.24639843,\n",
       "       0.7003624 , 0.7240451 , 1.3544325 , 0.82925963, 0.50561154,\n",
       "       1.3491886 , 0.9135105 , 0.22866099, 0.52384585, 1.0583676 ,\n",
       "       0.09020234, 0.6252836 , 1.7359526 , 0.04652401, 0.40306655,\n",
       "       0.8626351 , 0.16699363, 1.9260955 , 0.85600585, 1.2378309 ,\n",
       "       0.19067204, 1.7169733 , 1.1091754 , 0.35402992, 0.49338102,\n",
       "       0.22329962, 1.4974368 , 0.3408471 , 1.0464573 , 0.72643334,\n",
       "       0.1980827 , 1.5736473 , 0.3903598 , 1.6717314 , 0.9210825 ,\n",
       "       0.52586645, 0.60021836, 0.9936902 , 0.9282068 , 0.9463449 ,\n",
       "       0.72692764, 0.9487509 , 0.8637423 , 1.0906332 , 0.00412456,\n",
       "       0.930763  , 0.3343119 , 0.01742795, 0.73911434, 0.9066657 ,\n",
       "       1.3309829 , 0.16080597, 0.6591181 , 0.95624155, 0.3272366 ],\n",
       "      dtype=float32)"
      ]
     },
     "execution_count": 162,
     "metadata": {},
     "output_type": "execute_result"
    }
   ],
   "source": [
    "data_res"
   ]
  },
  {
   "cell_type": "code",
   "execution_count": 163,
   "id": "e12995e5",
   "metadata": {},
   "outputs": [
    {
     "data": {
      "text/plain": [
       "array([0, 1, 2, 3, 4, 0, 1, 2, 3, 4, 0, 1, 2, 3, 4, 0, 1, 2, 3, 4, 0, 1,\n",
       "       2, 3, 4, 0, 1, 2, 3, 4, 0, 1, 2, 3, 4, 0, 1, 2, 3, 4, 0, 1, 2, 3,\n",
       "       4, 0, 1, 2, 3, 4, 0, 1, 2, 3, 4, 0, 1, 2, 3, 4, 0, 1, 2, 3, 4, 0,\n",
       "       1, 2, 3, 4, 0, 1, 2, 3, 4, 0, 1, 2, 3, 4], dtype=uint32)"
      ]
     },
     "execution_count": 163,
     "metadata": {},
     "output_type": "execute_result"
    }
   ],
   "source": [
    "cols_res"
   ]
  },
  {
   "cell_type": "code",
   "execution_count": 164,
   "id": "4d88bd60",
   "metadata": {},
   "outputs": [
    {
     "data": {
      "text/plain": [
       "array([5, 5, 5, 5, 5, 5, 5, 5, 5, 5, 5, 5, 5, 5, 5, 5], dtype=uint32)"
      ]
     },
     "execution_count": 164,
     "metadata": {},
     "output_type": "execute_result"
    }
   ],
   "source": [
    "nnzs_res"
   ]
  },
  {
   "cell_type": "code",
   "execution_count": 165,
   "id": "e0e7c9cb",
   "metadata": {},
   "outputs": [
    {
     "data": {
      "text/plain": [
       "array([[0.17703491, 0.9082271 , 0.84411504, 0.13836125, 0.37077377],\n",
       "       [0.14187126, 0.2554239 , 0.74123587, 0.57499728, 0.58092856],\n",
       "       [0.245505  , 0.37022075, 0.28529381, 0.04638312, 0.89031461],\n",
       "       [0.4462557 , 0.01870731, 0.49408568, 0.43520371, 0.23138313],\n",
       "       [0.52321305, 0.98933346, 0.67758944, 0.96707127, 0.24639843],\n",
       "       [0.7003624 , 0.72404507, 0.50820789, 0.23762805, 0.50561157],\n",
       "       [0.88468577, 0.91351048, 0.22866098, 0.52384588, 0.11538133],\n",
       "       [0.09020234, 0.2828013 , 0.96868881, 0.04652401, 0.40306654],\n",
       "       [0.8626351 , 0.16699363, 0.94050658, 0.85600583, 0.98426617],\n",
       "       [0.19067204, 0.94645738, 0.79394556, 0.35402994, 0.49338102],\n",
       "       [0.22329962, 0.7806627 , 0.34084711, 0.22262034, 0.72643334],\n",
       "       [0.1980827 , 0.65394185, 0.39035979, 0.88434246, 0.92108251],\n",
       "       [0.52586642, 0.60021833, 0.9936902 , 0.52363882, 0.10502191],\n",
       "       [0.72692763, 0.94875092, 0.18923926, 0.60242976, 0.00412456],\n",
       "       [0.74351135, 0.21824009, 0.01742795, 0.73911432, 0.90666569],\n",
       "       [0.60595756, 0.16080596, 0.53565232, 0.95624154, 0.3272366 ]])"
      ]
     },
     "execution_count": 165,
     "metadata": {},
     "output_type": "execute_result"
    }
   ],
   "source": [
    "randadd"
   ]
  },
  {
   "cell_type": "code",
   "execution_count": 166,
   "id": "47150c28",
   "metadata": {},
   "outputs": [
    {
     "data": {
      "text/plain": [
       "array([[0.6709938 , 0.90822709, 1.30863309, 0.13836125, 0.37077376],\n",
       "       [0.80051553, 0.2554239 , 1.71989834, 0.57499731, 0.58092856],\n",
       "       [0.55595362, 0.37022075, 0.31031638, 0.04638312, 0.89031464],\n",
       "       [0.44625571, 0.48636654, 0.49408567, 0.4352037 , 0.26299107],\n",
       "       [1.23404002, 0.98933345, 1.26756072, 0.96707129, 0.24639843],\n",
       "       [0.70036238, 0.7240451 , 1.35443246, 0.82925963, 0.50561154],\n",
       "       [1.34918857, 0.9135105 , 0.22866099, 0.52384585, 1.05836761],\n",
       "       [0.09020234, 0.6252836 , 1.73595262, 0.04652401, 0.40306655],\n",
       "       [0.86263508, 0.16699363, 1.92609549, 0.85600585, 1.23783088],\n",
       "       [0.19067204, 1.7169733 , 1.10917544, 0.35402992, 0.49338102],\n",
       "       [0.22329962, 1.49743676, 0.3408471 , 1.04645729, 0.72643334],\n",
       "       [0.1980827 , 1.57364726, 0.39035979, 1.67173135, 0.9210825 ],\n",
       "       [0.52586645, 0.60021836, 0.99369019, 0.9282068 , 0.94634491],\n",
       "       [0.72692764, 0.94875091, 0.86374229, 1.09063315, 0.00412456],\n",
       "       [0.93076301, 0.3343119 , 0.01742795, 0.73911434, 0.90666568],\n",
       "       [1.33098292, 0.16080597, 0.65911812, 0.95624155, 0.32723659]])"
      ]
     },
     "execution_count": 166,
     "metadata": {},
     "output_type": "execute_result"
    }
   ],
   "source": [
    "adenseadd = to_dense(data_res, cols_res, nnzs_res, ellwb, b.shape)\n",
    "adenseadd"
   ]
  },
  {
   "cell_type": "code",
   "execution_count": 167,
   "id": "5cab2447",
   "metadata": {},
   "outputs": [
    {
     "data": {
      "text/plain": [
       "array([[0.67099383, 0.9082271 , 1.30863311, 0.13836125, 0.37077377],\n",
       "       [0.80051552, 0.2554239 , 1.71989836, 0.57499728, 0.58092856],\n",
       "       [0.55595365, 0.37022075, 0.31031638, 0.04638312, 0.89031461],\n",
       "       [0.4462557 , 0.48636655, 0.49408568, 0.43520371, 0.26299108],\n",
       "       [1.23403999, 0.98933346, 1.2675608 , 0.96707127, 0.24639843],\n",
       "       [0.7003624 , 0.72404507, 1.35443244, 0.82925964, 0.50561157],\n",
       "       [1.34918852, 0.91351048, 0.22866098, 0.52384588, 1.05836764],\n",
       "       [0.09020234, 0.62528357, 1.7359527 , 0.04652401, 0.40306654],\n",
       "       [0.8626351 , 0.16699363, 1.92609549, 0.85600583, 1.23783086],\n",
       "       [0.19067204, 1.7169733 , 1.10917549, 0.35402994, 0.49338102],\n",
       "       [0.22329962, 1.49743681, 0.34084711, 1.04645727, 0.72643334],\n",
       "       [0.1980827 , 1.57364719, 0.39035979, 1.67173138, 0.92108251],\n",
       "       [0.52586642, 0.60021833, 0.9936902 , 0.92820681, 0.94634493],\n",
       "       [0.72692763, 0.94875092, 0.86374228, 1.09063322, 0.00412456],\n",
       "       [0.93076297, 0.33431191, 0.01742795, 0.73911432, 0.90666569],\n",
       "       [1.33098297, 0.16080596, 0.65911809, 0.95624154, 0.3272366 ]])"
      ]
     },
     "execution_count": 167,
     "metadata": {},
     "output_type": "execute_result"
    }
   ],
   "source": [
    "baseadd = (b+randadd)\n",
    "baseadd"
   ]
  },
  {
   "cell_type": "code",
   "execution_count": 168,
   "id": "e6ef5fd3",
   "metadata": {},
   "outputs": [
    {
     "data": {
      "text/plain": [
       "array([[-2.44804763e-08, -1.17692616e-08, -2.18917533e-08,\n",
       "        -4.33389269e-09, -5.06627373e-09],\n",
       "       [ 1.00584422e-08,  4.06022549e-10, -2.12841382e-08,\n",
       "         2.71126038e-08,  8.77549633e-09],\n",
       "       [-2.42979592e-08,  1.04042330e-10,  4.47188830e-09,\n",
       "        -4.05685596e-10,  2.49759788e-08],\n",
       "       [ 1.25616724e-08, -6.48339371e-09, -1.48251075e-08,\n",
       "        -4.24316893e-09, -9.11035314e-09],\n",
       "       [ 3.51235077e-08, -1.35460703e-08, -7.86857695e-08,\n",
       "         2.57611834e-08,  6.33626807e-09],\n",
       "       [-1.29658345e-08,  2.86361911e-08,  2.84109429e-08,\n",
       "        -4.36689174e-09, -2.69647490e-08],\n",
       "       [ 4.32894762e-08,  2.28349046e-08,  2.17468077e-09,\n",
       "        -2.83249951e-08, -2.81688219e-08],\n",
       "       [ 3.55165186e-09,  3.25458355e-08, -8.20960091e-08,\n",
       "        -6.18497253e-10,  1.03582808e-08],\n",
       "       [-2.73272084e-08,  5.93349325e-09, -2.39009745e-09,\n",
       "         1.50987324e-08,  2.03117063e-08],\n",
       "       [ 2.23531349e-09,  5.47390266e-09, -4.15198316e-08,\n",
       "        -1.39485469e-08,  1.36284040e-09],\n",
       "       [ 7.23279903e-09, -4.78652198e-08, -2.93262392e-09,\n",
       "         2.30943737e-08, -2.66775380e-10],\n",
       "       [ 4.06210199e-09,  7.46448632e-08, -2.71239364e-10,\n",
       "        -2.73492520e-08, -1.29246436e-08],\n",
       "       [ 2.90208534e-08,  2.78561040e-08, -3.53993912e-09,\n",
       "        -8.94885566e-09, -1.43996104e-08],\n",
       "       [ 9.56472290e-09, -8.20376944e-09,  8.39046010e-09,\n",
       "        -6.92025162e-08, -2.22173058e-10],\n",
       "       [ 4.00867061e-08, -1.11367334e-08, -2.64986588e-10,\n",
       "         2.27917963e-08, -2.88382052e-09],\n",
       "       [-4.85878409e-08,  6.01101946e-09,  2.95515242e-08,\n",
       "         3.57082952e-09, -8.19521695e-09]])"
      ]
     },
     "execution_count": 168,
     "metadata": {},
     "output_type": "execute_result"
    }
   ],
   "source": [
    "adenseadd - baseadd"
   ]
  },
  {
   "cell_type": "code",
   "execution_count": 169,
   "id": "3c44cf1f",
   "metadata": {},
   "outputs": [
    {
     "data": {
      "text/plain": [
       "-1.1252679066320326e-07"
      ]
     },
     "execution_count": 169,
     "metadata": {},
     "output_type": "execute_result"
    }
   ],
   "source": [
    "(adenseadd - baseadd).sum()"
   ]
  },
  {
   "cell_type": "markdown",
   "id": "a0a6446b",
   "metadata": {},
   "source": [
    "### Update Vals (add sparset)"
   ]
  },
  {
   "cell_type": "code",
   "execution_count": 170,
   "id": "77a7c524",
   "metadata": {},
   "outputs": [],
   "source": [
    "multt=np.zeros(mult.T.shape)\n",
    "\n",
    "for row in range(multt.shape[0]):\n",
    "    for col in range(multt.shape[1]):\n",
    "        multt[row][col] = mult[col][row]"
   ]
  },
  {
   "cell_type": "code",
   "execution_count": 171,
   "id": "24a8cbcf",
   "metadata": {},
   "outputs": [],
   "source": [
    "multdata, multcols, multnnz, multellw = to_data(multt)\n",
    "multdata_buf = cl.Buffer(ctx, mf.READ_WRITE | mf.COPY_HOST_PTR, hostbuf=multdata)\n",
    "multcols_buf = cl.Buffer(ctx, mf.READ_WRITE | mf.COPY_HOST_PTR, hostbuf=multcols)\n",
    "multnnzs_buf = cl.Buffer(ctx, mf.READ_WRITE | mf.COPY_HOST_PTR, hostbuf=multnnz)"
   ]
  },
  {
   "cell_type": "code",
   "execution_count": 172,
   "id": "ad7e0c73",
   "metadata": {},
   "outputs": [
    {
     "data": {
      "text/plain": [
       "((8, 16), (16, 5))"
      ]
     },
     "execution_count": 172,
     "metadata": {},
     "output_type": "execute_result"
    }
   ],
   "source": [
    "a.shape, b.shape"
   ]
  },
  {
   "cell_type": "code",
   "execution_count": 173,
   "id": "bf9e5c9e",
   "metadata": {},
   "outputs": [],
   "source": [
    "res = np.zeros(a.shape[0]).astype(np.float32)\n",
    "#res"
   ]
  },
  {
   "cell_type": "code",
   "execution_count": 174,
   "id": "940e9ffa",
   "metadata": {},
   "outputs": [],
   "source": [
    "rows = mult.T.shape[0]"
   ]
  },
  {
   "cell_type": "code",
   "execution_count": 175,
   "id": "d560f7e9",
   "metadata": {},
   "outputs": [],
   "source": [
    "mult = mult.astype(np.float32)"
   ]
  },
  {
   "cell_type": "code",
   "execution_count": 176,
   "id": "78aeaa8c",
   "metadata": {},
   "outputs": [
    {
     "ename": "NameError",
     "evalue": "name 'sdatat_buf' is not defined",
     "output_type": "error",
     "traceback": [
      "\u001b[0;31m---------------------------------------------------------------------------\u001b[0m",
      "\u001b[0;31mNameError\u001b[0m                                 Traceback (most recent call last)",
      "\u001b[0;32m/tmp/ipykernel_31620/295479072.py\u001b[0m in \u001b[0;36m<module>\u001b[0;34m\u001b[0m\n\u001b[1;32m      2\u001b[0m \u001b[0mknl\u001b[0m \u001b[0;34m=\u001b[0m \u001b[0mprg\u001b[0m\u001b[0;34m.\u001b[0m\u001b[0madddense\u001b[0m  \u001b[0;31m# Use this Kernel object for repeated calls\u001b[0m\u001b[0;34m\u001b[0m\u001b[0;34m\u001b[0m\u001b[0m\n\u001b[1;32m      3\u001b[0m knl(queue, [rows], None, multdata_buf, multcols_buf, multnnzs_buf, np.float32(1), np.uint32(multellw), \n\u001b[0;32m----> 4\u001b[0;31m     sdatat_buf, sidxst_buf, snnzst_buf, np.uint32(topk))\n\u001b[0m",
      "\u001b[0;31mNameError\u001b[0m: name 'sdatat_buf' is not defined"
     ]
    }
   ],
   "source": [
    "res_buf = cl.Buffer(ctx, mf.WRITE_ONLY, b.nbytes)\n",
    "knl = prg.adddense  # Use this Kernel object for repeated calls\n",
    "knl(queue, [rows], None, multdata_buf, multcols_buf, multnnzs_buf, np.float32(1), np.uint32(multellw), \n",
    "    sdatat_buf, sidxst_buf, snnzst_buf, np.uint32(topk))"
   ]
  },
  {
   "cell_type": "code",
   "execution_count": null,
   "id": "b0e8ab07",
   "metadata": {},
   "outputs": [],
   "source": [
    "mult.T"
   ]
  },
  {
   "cell_type": "code",
   "execution_count": null,
   "id": "24da004f",
   "metadata": {},
   "outputs": [],
   "source": [
    "data_res = np.empty_like(multdata)\n",
    "cols_res = np.empty_like(multcols)\n",
    "nnzs_res = np.empty_like(multnnz)\n",
    "cl.enqueue_copy(queue, data_res, multdata_buf, is_blocking=True)\n",
    "cl.enqueue_copy(queue, cols_res, multcols_buf, is_blocking=True)\n",
    "cl.enqueue_copy(queue, nnzs_res, multnnzs_buf, is_blocking=True)"
   ]
  },
  {
   "cell_type": "code",
   "execution_count": null,
   "id": "1ea6665b",
   "metadata": {},
   "outputs": [],
   "source": [
    "multt-data_res.reshape(multt.shape)"
   ]
  },
  {
   "cell_type": "code",
   "execution_count": null,
   "id": "29f989c4",
   "metadata": {},
   "outputs": [],
   "source": [
    "nnzs_res"
   ]
  },
  {
   "cell_type": "code",
   "execution_count": null,
   "id": "3dd2b416",
   "metadata": {},
   "outputs": [],
   "source": [
    "adenseaddt = to_dense(data_res, cols_res, nnzs_res, multellw, multt.shape)\n",
    "adenseaddt"
   ]
  },
  {
   "cell_type": "code",
   "execution_count": null,
   "id": "a65f4871",
   "metadata": {},
   "outputs": [],
   "source": [
    "multt-adenseaddt"
   ]
  },
  {
   "cell_type": "code",
   "execution_count": null,
   "id": "c8fa4a42",
   "metadata": {},
   "outputs": [],
   "source": [
    "adenseaddt"
   ]
  },
  {
   "cell_type": "code",
   "execution_count": null,
   "id": "36f4b9a1",
   "metadata": {},
   "outputs": [],
   "source": [
    "adenseadd.T == adenseaddt"
   ]
  },
  {
   "cell_type": "markdown",
   "id": "c0c255da",
   "metadata": {},
   "source": [
    "### Update Vals (add topk to sparse)"
   ]
  },
  {
   "cell_type": "code",
   "execution_count": null,
   "id": "7b96afa2",
   "metadata": {},
   "outputs": [],
   "source": [
    "matadd = np.random.randn(*a.shape).astype(np.float32)\n",
    "matadd"
   ]
  },
  {
   "cell_type": "code",
   "execution_count": null,
   "id": "412cfeec",
   "metadata": {},
   "outputs": [],
   "source": [
    "a"
   ]
  },
  {
   "cell_type": "code",
   "execution_count": null,
   "id": "5db87320",
   "metadata": {},
   "outputs": [],
   "source": [
    "a_added = a + matadd"
   ]
  },
  {
   "cell_type": "code",
   "execution_count": null,
   "id": "d2b7c76e",
   "metadata": {},
   "outputs": [],
   "source": [
    "adata_buf = cl.Buffer(ctx, mf.READ_WRITE | mf.COPY_HOST_PTR, hostbuf=adata)\n",
    "acols_buf = cl.Buffer(ctx, mf.READ_WRITE | mf.COPY_HOST_PTR, hostbuf=acols)\n",
    "annzs_buf = cl.Buffer(ctx, mf.READ_WRITE | mf.COPY_HOST_PTR, hostbuf=annz)\n",
    "adatat_buf = cl.Buffer(ctx, mf.READ_WRITE | mf.COPY_HOST_PTR, hostbuf=adatat)\n",
    "acolst_buf = cl.Buffer(ctx, mf.READ_WRITE | mf.COPY_HOST_PTR, hostbuf=acolst)\n",
    "annzst_buf = cl.Buffer(ctx, mf.READ_WRITE | mf.COPY_HOST_PTR, hostbuf=annzt)\n",
    "add_buf = cl.Buffer(ctx, mf.READ_WRITE | mf.COPY_HOST_PTR, hostbuf=matadd)\n",
    "\n",
    "prg = cl.Program(ctx, \"\"\"\n",
    "    // Every global_id_0 works on a row\n",
    "    __kernel void adddense(__global  float* matData,     // INPUT MATRIX DATA\n",
    "                            __global  uint*  colIdx,\n",
    "                            __global  uint*  rowNnz,\n",
    "                            float  lr,\n",
    "                            uint   ellwidth,\n",
    "                            uint   awidth,\n",
    "                            __global  float* vector_x    // INPUT\n",
    "                            ) { // LOCAL SHARED BUFFER\n",
    "      uint gid = get_global_id(0);\n",
    "      uint nrows = get_global_size(0);\n",
    "\n",
    "      uint nnz    = rowNnz[gid];\n",
    "      uint baseidxs = gid*ellwidth;\n",
    "      uint baseidxd = gid*awidth;\n",
    "      \n",
    "      for (uint i=0; i<awidth; i++) {\n",
    "        float addval = vector_x[baseidxd+i];\n",
    "        //if (gid==1)\n",
    "        //  printf(\"\\\\nADD VAL:%.2f idx:%i/%i  col:%i\", addval, baseidxs+i, baseidxd+i, colIdx[baseidxs+i]);\n",
    "        if (addval == 0) {\n",
    "          continue;\n",
    "        }\n",
    "        if (i == colIdx[baseidxs+i]) {\n",
    "          matData[baseidxs+i] += addval;\n",
    "        } else {\n",
    "          if (rowNnz[gid] >= ellwidth) {\n",
    "            break;\n",
    "          }\n",
    "          if (i > colIdx[baseidxs+i]) {\n",
    "            rowNnz[gid] += 1;\n",
    "            //if (gid==1)\n",
    "            //  printf(\"\\\\nSET VAL:%.2f idx:%i/%i  col:%i\", addval, baseidxs+i, baseidxd+i, colIdx[i]);\n",
    "            matData[baseidxs+i] = addval;\n",
    "            colIdx[baseidxs+i] = i;\n",
    "            continue;\n",
    "          }\n",
    "          for (uint j=nnz; j>i; j--) {\n",
    "            //printf(\"\\\\nMOVE:%.2f\", matData[baseidx+j-1]);\n",
    "            colIdx[baseidxs+j] = colIdx[baseidxs+j-1];\n",
    "            matData[baseidxs+j] = matData[baseidxs+j-1];\n",
    "          }\n",
    "          rowNnz[gid] += 1;\n",
    "          nnz = rowNnz[gid];\n",
    "          //if (gid==1)\n",
    "          //  printf(\"\\\\nSET VAL:%.2f idx:%i/%i  col:%i\", addval, baseidxs+i, baseidxd+i, colIdx[i]);\n",
    "          matData[baseidxs+i] = addval;\n",
    "          colIdx[baseidxs+i] = i;\n",
    "          if (nnz >= ellwidth)\n",
    "            break;\n",
    "        }\n",
    "      }\n",
    "    }\"\"\").build()"
   ]
  },
  {
   "cell_type": "code",
   "execution_count": null,
   "id": "2adf45e7",
   "metadata": {},
   "outputs": [],
   "source": [
    "a.shape, b.shape"
   ]
  },
  {
   "cell_type": "code",
   "execution_count": null,
   "id": "324edd08",
   "metadata": {},
   "outputs": [],
   "source": [
    "res = np.zeros(a.shape[0]).astype(np.float32)\n",
    "#res"
   ]
  },
  {
   "cell_type": "code",
   "execution_count": null,
   "id": "2cf60c63",
   "metadata": {},
   "outputs": [],
   "source": [
    "rows = a.shape[0]"
   ]
  },
  {
   "cell_type": "code",
   "execution_count": null,
   "id": "05c4e97c",
   "metadata": {},
   "outputs": [],
   "source": [
    "mult = mult.astype(np.float32)"
   ]
  },
  {
   "cell_type": "code",
   "execution_count": 177,
   "id": "7d3bb3fd",
   "metadata": {},
   "outputs": [
    {
     "ename": "NameError",
     "evalue": "name 'add_buf' is not defined",
     "output_type": "error",
     "traceback": [
      "\u001b[0;31m---------------------------------------------------------------------------\u001b[0m",
      "\u001b[0;31mNameError\u001b[0m                                 Traceback (most recent call last)",
      "\u001b[0;32m/tmp/ipykernel_31620/4151054410.py\u001b[0m in \u001b[0;36m<module>\u001b[0;34m\u001b[0m\n\u001b[1;32m      1\u001b[0m \u001b[0mres_buf\u001b[0m \u001b[0;34m=\u001b[0m \u001b[0mcl\u001b[0m\u001b[0;34m.\u001b[0m\u001b[0mBuffer\u001b[0m\u001b[0;34m(\u001b[0m\u001b[0mctx\u001b[0m\u001b[0;34m,\u001b[0m \u001b[0mmf\u001b[0m\u001b[0;34m.\u001b[0m\u001b[0mWRITE_ONLY\u001b[0m\u001b[0;34m,\u001b[0m \u001b[0mb\u001b[0m\u001b[0;34m.\u001b[0m\u001b[0mnbytes\u001b[0m\u001b[0;34m)\u001b[0m\u001b[0;34m\u001b[0m\u001b[0;34m\u001b[0m\u001b[0m\n\u001b[1;32m      2\u001b[0m \u001b[0mknl\u001b[0m \u001b[0;34m=\u001b[0m \u001b[0mprg\u001b[0m\u001b[0;34m.\u001b[0m\u001b[0madddense\u001b[0m  \u001b[0;31m# Use this Kernel object for repeated calls\u001b[0m\u001b[0;34m\u001b[0m\u001b[0;34m\u001b[0m\u001b[0m\n\u001b[0;32m----> 3\u001b[0;31m \u001b[0mknl\u001b[0m\u001b[0;34m(\u001b[0m\u001b[0mqueue\u001b[0m\u001b[0;34m,\u001b[0m \u001b[0;34m[\u001b[0m\u001b[0mrows\u001b[0m\u001b[0;34m]\u001b[0m\u001b[0;34m,\u001b[0m \u001b[0;32mNone\u001b[0m\u001b[0;34m,\u001b[0m \u001b[0madata_buf\u001b[0m\u001b[0;34m,\u001b[0m \u001b[0macols_buf\u001b[0m\u001b[0;34m,\u001b[0m \u001b[0mannzs_buf\u001b[0m\u001b[0;34m,\u001b[0m \u001b[0mnp\u001b[0m\u001b[0;34m.\u001b[0m\u001b[0mfloat32\u001b[0m\u001b[0;34m(\u001b[0m\u001b[0;36m1\u001b[0m\u001b[0;34m)\u001b[0m\u001b[0;34m,\u001b[0m \u001b[0mnp\u001b[0m\u001b[0;34m.\u001b[0m\u001b[0muint32\u001b[0m\u001b[0;34m(\u001b[0m\u001b[0mellwa\u001b[0m\u001b[0;34m)\u001b[0m\u001b[0;34m,\u001b[0m\u001b[0mnp\u001b[0m\u001b[0;34m.\u001b[0m\u001b[0muint32\u001b[0m\u001b[0;34m(\u001b[0m\u001b[0ma\u001b[0m\u001b[0;34m.\u001b[0m\u001b[0mshape\u001b[0m\u001b[0;34m[\u001b[0m\u001b[0;36m1\u001b[0m\u001b[0;34m]\u001b[0m\u001b[0;34m)\u001b[0m\u001b[0;34m,\u001b[0m \u001b[0madd_buf\u001b[0m\u001b[0;34m)\u001b[0m\u001b[0;34m\u001b[0m\u001b[0;34m\u001b[0m\u001b[0m\n\u001b[0m",
      "\u001b[0;31mNameError\u001b[0m: name 'add_buf' is not defined"
     ]
    }
   ],
   "source": [
    "res_buf = cl.Buffer(ctx, mf.WRITE_ONLY, b.nbytes)\n",
    "knl = prg.adddense  # Use this Kernel object for repeated calls\n",
    "knl(queue, [rows], None, adata_buf, acols_buf, annzs_buf, np.float32(1), np.uint32(ellwa),np.uint32(a.shape[1]), add_buf)"
   ]
  },
  {
   "cell_type": "code",
   "execution_count": null,
   "id": "91283016",
   "metadata": {},
   "outputs": [],
   "source": [
    "matadd[0][0]"
   ]
  },
  {
   "cell_type": "code",
   "execution_count": null,
   "id": "f520b590",
   "metadata": {},
   "outputs": [],
   "source": [
    "data_res = np.empty_like(adata)\n",
    "cols_res = np.empty_like(acols)\n",
    "nnzs_res = np.empty_like(annz)\n",
    "cl.enqueue_copy(queue, data_res, adata_buf)\n",
    "cl.enqueue_copy(queue, cols_res, acols_buf)\n",
    "cl.enqueue_copy(queue, nnzs_res, annzs_buf)"
   ]
  },
  {
   "cell_type": "code",
   "execution_count": null,
   "id": "945bad1d",
   "metadata": {},
   "outputs": [],
   "source": [
    "adenseadd = to_dense(data_res, cols_res, nnzs_res, ellwa, a.shape)\n",
    "adenseadd"
   ]
  },
  {
   "cell_type": "code",
   "execution_count": null,
   "id": "9dc5db0f",
   "metadata": {},
   "outputs": [],
   "source": [
    "a"
   ]
  },
  {
   "cell_type": "code",
   "execution_count": null,
   "id": "488daf6b",
   "metadata": {},
   "outputs": [],
   "source": [
    "matadd"
   ]
  },
  {
   "cell_type": "code",
   "execution_count": 178,
   "id": "e0e10dd1",
   "metadata": {},
   "outputs": [
    {
     "ename": "NameError",
     "evalue": "name 'a_added' is not defined",
     "output_type": "error",
     "traceback": [
      "\u001b[0;31m---------------------------------------------------------------------------\u001b[0m",
      "\u001b[0;31mNameError\u001b[0m                                 Traceback (most recent call last)",
      "\u001b[0;32m/tmp/ipykernel_31620/919277491.py\u001b[0m in \u001b[0;36m<module>\u001b[0;34m\u001b[0m\n\u001b[0;32m----> 1\u001b[0;31m \u001b[0ma_added\u001b[0m\u001b[0;34m\u001b[0m\u001b[0;34m\u001b[0m\u001b[0m\n\u001b[0m",
      "\u001b[0;31mNameError\u001b[0m: name 'a_added' is not defined"
     ]
    }
   ],
   "source": [
    "a_added"
   ]
  },
  {
   "cell_type": "code",
   "execution_count": null,
   "id": "fb4ef891",
   "metadata": {},
   "outputs": [],
   "source": [
    "adenseadd"
   ]
  },
  {
   "cell_type": "code",
   "execution_count": null,
   "id": "23f0c0c2",
   "metadata": {},
   "outputs": [],
   "source": [
    "adenseadd == a_added"
   ]
  },
  {
   "cell_type": "markdown",
   "id": "2c377b84",
   "metadata": {},
   "source": [
    "### update vals"
   ]
  },
  {
   "cell_type": "code",
   "execution_count": 179,
   "id": "f334a950",
   "metadata": {},
   "outputs": [
    {
     "ename": "NameError",
     "evalue": "name 'matadd' is not defined",
     "output_type": "error",
     "traceback": [
      "\u001b[0;31m---------------------------------------------------------------------------\u001b[0m",
      "\u001b[0;31mNameError\u001b[0m                                 Traceback (most recent call last)",
      "\u001b[0;32m/tmp/ipykernel_31620/4081556772.py\u001b[0m in \u001b[0;36m<module>\u001b[0;34m\u001b[0m\n\u001b[1;32m      2\u001b[0m \u001b[0macolst_buf\u001b[0m \u001b[0;34m=\u001b[0m \u001b[0mcl\u001b[0m\u001b[0;34m.\u001b[0m\u001b[0mBuffer\u001b[0m\u001b[0;34m(\u001b[0m\u001b[0mctx\u001b[0m\u001b[0;34m,\u001b[0m \u001b[0mmf\u001b[0m\u001b[0;34m.\u001b[0m\u001b[0mREAD_WRITE\u001b[0m \u001b[0;34m|\u001b[0m \u001b[0mmf\u001b[0m\u001b[0;34m.\u001b[0m\u001b[0mCOPY_HOST_PTR\u001b[0m\u001b[0;34m,\u001b[0m \u001b[0mhostbuf\u001b[0m\u001b[0;34m=\u001b[0m\u001b[0macolst\u001b[0m\u001b[0;34m)\u001b[0m\u001b[0;34m\u001b[0m\u001b[0;34m\u001b[0m\u001b[0m\n\u001b[1;32m      3\u001b[0m \u001b[0mannzst_buf\u001b[0m \u001b[0;34m=\u001b[0m \u001b[0mcl\u001b[0m\u001b[0;34m.\u001b[0m\u001b[0mBuffer\u001b[0m\u001b[0;34m(\u001b[0m\u001b[0mctx\u001b[0m\u001b[0;34m,\u001b[0m \u001b[0mmf\u001b[0m\u001b[0;34m.\u001b[0m\u001b[0mREAD_WRITE\u001b[0m \u001b[0;34m|\u001b[0m \u001b[0mmf\u001b[0m\u001b[0;34m.\u001b[0m\u001b[0mCOPY_HOST_PTR\u001b[0m\u001b[0;34m,\u001b[0m \u001b[0mhostbuf\u001b[0m\u001b[0;34m=\u001b[0m\u001b[0mannzt\u001b[0m\u001b[0;34m)\u001b[0m\u001b[0;34m\u001b[0m\u001b[0;34m\u001b[0m\u001b[0m\n\u001b[0;32m----> 4\u001b[0;31m \u001b[0madd_buf\u001b[0m \u001b[0;34m=\u001b[0m \u001b[0mcl\u001b[0m\u001b[0;34m.\u001b[0m\u001b[0mBuffer\u001b[0m\u001b[0;34m(\u001b[0m\u001b[0mctx\u001b[0m\u001b[0;34m,\u001b[0m \u001b[0mmf\u001b[0m\u001b[0;34m.\u001b[0m\u001b[0mREAD_WRITE\u001b[0m \u001b[0;34m|\u001b[0m \u001b[0mmf\u001b[0m\u001b[0;34m.\u001b[0m\u001b[0mCOPY_HOST_PTR\u001b[0m\u001b[0;34m,\u001b[0m \u001b[0mhostbuf\u001b[0m\u001b[0;34m=\u001b[0m\u001b[0mmatadd\u001b[0m\u001b[0;34m)\u001b[0m\u001b[0;34m\u001b[0m\u001b[0;34m\u001b[0m\u001b[0m\n\u001b[0m\u001b[1;32m      5\u001b[0m \u001b[0;34m\u001b[0m\u001b[0m\n\u001b[1;32m      6\u001b[0m prg = cl.Program(ctx, \"\"\"\n",
      "\u001b[0;31mNameError\u001b[0m: name 'matadd' is not defined"
     ]
    }
   ],
   "source": [
    "adatat_buf = cl.Buffer(ctx, mf.READ_WRITE | mf.COPY_HOST_PTR, hostbuf=adatat)\n",
    "acolst_buf = cl.Buffer(ctx, mf.READ_WRITE | mf.COPY_HOST_PTR, hostbuf=acolst)\n",
    "annzst_buf = cl.Buffer(ctx, mf.READ_WRITE | mf.COPY_HOST_PTR, hostbuf=annzt)\n",
    "add_buf = cl.Buffer(ctx, mf.READ_WRITE | mf.COPY_HOST_PTR, hostbuf=matadd)\n",
    "\n",
    "prg = cl.Program(ctx, \"\"\"\n",
    "    // Every global_id_0 works on a row\n",
    "    __kernel void adddenset(__global  float* matData,     // INPUT MATRIX DATA\n",
    "                            __global  uint*  colIdx,\n",
    "                            __global  uint*  rowNnz,\n",
    "                            float  lr,\n",
    "                            uint   ellwidth,\n",
    "                            uint   aheight,\n",
    "                            __global  float* vector_x    // INPUT\n",
    "                            ) { // LOCAL SHARED BUFFER\n",
    "      uint gid = get_global_id(0);\n",
    "      uint ncols = get_global_size(0);\n",
    "\n",
    "      uint nnz    = rowNnz[gid];\n",
    "      uint baseidxs = gid*ellwidth;\n",
    "      \n",
    "      for (uint i=0; i<aheight; i++) {\n",
    "        if (nnz > ellwidth)\n",
    "            break;\n",
    "        uint baseidxd = i*ncols+gid;\n",
    "        float addval = vector_x[baseidxd];\n",
    "        //if (gid==1)\n",
    "        //  printf(\"\\\\nADD VAL:%.2f idx:%i/%i  col:%i\", addval, baseidxs+i, baseidxd+i, colIdx[baseidxs+i]);\n",
    "        if (addval == 0) {\n",
    "          continue;\n",
    "        }\n",
    "        if (i == colIdx[baseidxs+i]) {\n",
    "          printf(\"\\\\nADD VAL:%.2f idx:%i/%i  col:%i\", addval, baseidxs+i, baseidxd+i, colIdx[i]);\n",
    "          matData[baseidxs+i] += addval;\n",
    "        } else {\n",
    "          if (rowNnz[gid] >= ellwidth) {\n",
    "            break;\n",
    "          }\n",
    "          if (i > colIdx[baseidxs+i]) {\n",
    "            rowNnz[gid] += 1;\n",
    "            //if (gid==1)\n",
    "            //  printf(\"\\\\nSET VAL:%.2f idx:%i/%i  col:%i\", addval, baseidxs+i, baseidxd+i, colIdx[i]);\n",
    "            matData[baseidxs+i] = addval;\n",
    "            colIdx[baseidxs+i] = i;\n",
    "            continue;\n",
    "          }\n",
    "          for (uint j=nnz; j>i; j--) {\n",
    "            //printf(\"\\\\nMOVE:%.2f\", matData[baseidx+j-1]);\n",
    "            colIdx[baseidxs+j] = colIdx[baseidxs+j-1];\n",
    "            matData[baseidxs+j] = matData[baseidxs+j-1];\n",
    "          }\n",
    "          rowNnz[gid] += 1;\n",
    "          nnz = rowNnz[gid];\n",
    "          //if (gid==1)\n",
    "          //  printf(\"\\\\nSET VAL:%.2f idx:%i/%i  col:%i\", addval, baseidxs+i, baseidxd+i, colIdx[i]);\n",
    "          matData[baseidxs+i] = addval;\n",
    "          colIdx[baseidxs+i] = i;\n",
    "        }\n",
    "      }\n",
    "    }\"\"\").build()"
   ]
  },
  {
   "cell_type": "code",
   "execution_count": null,
   "id": "3df220e3",
   "metadata": {},
   "outputs": [],
   "source": [
    "a.shape, b.shape"
   ]
  },
  {
   "cell_type": "code",
   "execution_count": null,
   "id": "4a70fde5",
   "metadata": {},
   "outputs": [],
   "source": [
    "res = np.zeros(a.shape[0]).astype(np.float32)\n",
    "#res"
   ]
  },
  {
   "cell_type": "code",
   "execution_count": null,
   "id": "49cee8e5",
   "metadata": {},
   "outputs": [],
   "source": [
    "cols = a.shape[1]"
   ]
  },
  {
   "cell_type": "code",
   "execution_count": 180,
   "id": "ce0c1ed9",
   "metadata": {},
   "outputs": [],
   "source": [
    "mult = mult.astype(np.float32)"
   ]
  },
  {
   "cell_type": "code",
   "execution_count": 181,
   "id": "bf98ad4e",
   "metadata": {},
   "outputs": [
    {
     "ename": "AttributeError",
     "evalue": "'adddenset' was not found as a program info attribute or as a kernel name",
     "output_type": "error",
     "traceback": [
      "\u001b[0;31m---------------------------------------------------------------------------\u001b[0m",
      "\u001b[0;31mLogicError\u001b[0m                                Traceback (most recent call last)",
      "\u001b[0;32m~/.conda/envs/tinygrad/lib/python3.8/site-packages/pyopencl/__init__.py\u001b[0m in \u001b[0;36m__getattr__\u001b[0;34m(self, attr)\u001b[0m\n\u001b[1;32m    460\u001b[0m         \u001b[0;32mtry\u001b[0m\u001b[0;34m:\u001b[0m\u001b[0;34m\u001b[0m\u001b[0;34m\u001b[0m\u001b[0m\n\u001b[0;32m--> 461\u001b[0;31m             \u001b[0mknl\u001b[0m \u001b[0;34m=\u001b[0m \u001b[0mKernel\u001b[0m\u001b[0;34m(\u001b[0m\u001b[0mself\u001b[0m\u001b[0;34m,\u001b[0m \u001b[0mattr\u001b[0m\u001b[0;34m)\u001b[0m\u001b[0;34m\u001b[0m\u001b[0;34m\u001b[0m\u001b[0m\n\u001b[0m\u001b[1;32m    462\u001b[0m             \u001b[0;31m# Nvidia does not raise errors even for invalid names,\u001b[0m\u001b[0;34m\u001b[0m\u001b[0;34m\u001b[0m\u001b[0;34m\u001b[0m\u001b[0m\n",
      "\u001b[0;32m~/.conda/envs/tinygrad/lib/python3.8/site-packages/pyopencl/__init__.py\u001b[0m in \u001b[0;36mkernel_init\u001b[0;34m(self, prg, name)\u001b[0m\n\u001b[1;32m    813\u001b[0m \u001b[0;34m\u001b[0m\u001b[0m\n\u001b[0;32m--> 814\u001b[0;31m         \u001b[0mkernel_old_init\u001b[0m\u001b[0;34m(\u001b[0m\u001b[0mself\u001b[0m\u001b[0;34m,\u001b[0m \u001b[0mprg\u001b[0m\u001b[0;34m,\u001b[0m \u001b[0mname\u001b[0m\u001b[0;34m)\u001b[0m\u001b[0;34m\u001b[0m\u001b[0;34m\u001b[0m\u001b[0m\n\u001b[0m\u001b[1;32m    815\u001b[0m \u001b[0;34m\u001b[0m\u001b[0m\n",
      "\u001b[0;31mLogicError\u001b[0m: clCreateKernel failed: INVALID_KERNEL_NAME",
      "\nDuring handling of the above exception, another exception occurred:\n",
      "\u001b[0;31mAttributeError\u001b[0m                            Traceback (most recent call last)",
      "\u001b[0;32m/tmp/ipykernel_31620/1514411823.py\u001b[0m in \u001b[0;36m<module>\u001b[0;34m\u001b[0m\n\u001b[1;32m      1\u001b[0m \u001b[0mres_buf\u001b[0m \u001b[0;34m=\u001b[0m \u001b[0mcl\u001b[0m\u001b[0;34m.\u001b[0m\u001b[0mBuffer\u001b[0m\u001b[0;34m(\u001b[0m\u001b[0mctx\u001b[0m\u001b[0;34m,\u001b[0m \u001b[0mmf\u001b[0m\u001b[0;34m.\u001b[0m\u001b[0mWRITE_ONLY\u001b[0m\u001b[0;34m,\u001b[0m \u001b[0mb\u001b[0m\u001b[0;34m.\u001b[0m\u001b[0mnbytes\u001b[0m\u001b[0;34m)\u001b[0m\u001b[0;34m\u001b[0m\u001b[0;34m\u001b[0m\u001b[0m\n\u001b[0;32m----> 2\u001b[0;31m \u001b[0mknl\u001b[0m \u001b[0;34m=\u001b[0m \u001b[0mprg\u001b[0m\u001b[0;34m.\u001b[0m\u001b[0madddenset\u001b[0m  \u001b[0;31m# Use this Kernel object for repeated calls\u001b[0m\u001b[0;34m\u001b[0m\u001b[0;34m\u001b[0m\u001b[0m\n\u001b[0m\u001b[1;32m      3\u001b[0m \u001b[0mknl\u001b[0m\u001b[0;34m(\u001b[0m\u001b[0mqueue\u001b[0m\u001b[0;34m,\u001b[0m \u001b[0;34m[\u001b[0m\u001b[0mcols\u001b[0m\u001b[0;34m]\u001b[0m\u001b[0;34m,\u001b[0m \u001b[0;32mNone\u001b[0m\u001b[0;34m,\u001b[0m \u001b[0madatat_buf\u001b[0m\u001b[0;34m,\u001b[0m \u001b[0macolst_buf\u001b[0m\u001b[0;34m,\u001b[0m \u001b[0mannzst_buf\u001b[0m\u001b[0;34m,\u001b[0m \u001b[0mnp\u001b[0m\u001b[0;34m.\u001b[0m\u001b[0mfloat32\u001b[0m\u001b[0;34m(\u001b[0m\u001b[0;36m1\u001b[0m\u001b[0;34m)\u001b[0m\u001b[0;34m,\u001b[0m \u001b[0mnp\u001b[0m\u001b[0;34m.\u001b[0m\u001b[0muint32\u001b[0m\u001b[0;34m(\u001b[0m\u001b[0mellwat\u001b[0m\u001b[0;34m)\u001b[0m\u001b[0;34m,\u001b[0m\u001b[0mnp\u001b[0m\u001b[0;34m.\u001b[0m\u001b[0muint32\u001b[0m\u001b[0;34m(\u001b[0m\u001b[0ma\u001b[0m\u001b[0;34m.\u001b[0m\u001b[0mT\u001b[0m\u001b[0;34m.\u001b[0m\u001b[0mshape\u001b[0m\u001b[0;34m[\u001b[0m\u001b[0;36m1\u001b[0m\u001b[0;34m]\u001b[0m\u001b[0;34m)\u001b[0m\u001b[0;34m,\u001b[0m \u001b[0madd_buf\u001b[0m\u001b[0;34m)\u001b[0m\u001b[0;34m\u001b[0m\u001b[0;34m\u001b[0m\u001b[0m\n",
      "\u001b[0;32m~/.conda/envs/tinygrad/lib/python3.8/site-packages/pyopencl/__init__.py\u001b[0m in \u001b[0;36m__getattr__\u001b[0;34m(self, attr)\u001b[0m\n\u001b[1;32m    473\u001b[0m             \u001b[0;32mreturn\u001b[0m \u001b[0mknl\u001b[0m\u001b[0;34m\u001b[0m\u001b[0;34m\u001b[0m\u001b[0m\n\u001b[1;32m    474\u001b[0m         \u001b[0;32mexcept\u001b[0m \u001b[0mLogicError\u001b[0m\u001b[0;34m:\u001b[0m\u001b[0;34m\u001b[0m\u001b[0;34m\u001b[0m\u001b[0m\n\u001b[0;32m--> 475\u001b[0;31m             raise AttributeError(\"'%s' was not found as a program \"\n\u001b[0m\u001b[1;32m    476\u001b[0m                     \"info attribute or as a kernel name\" % attr)\n\u001b[1;32m    477\u001b[0m \u001b[0;34m\u001b[0m\u001b[0m\n",
      "\u001b[0;31mAttributeError\u001b[0m: 'adddenset' was not found as a program info attribute or as a kernel name"
     ]
    }
   ],
   "source": [
    "res_buf = cl.Buffer(ctx, mf.WRITE_ONLY, b.nbytes)\n",
    "knl = prg.adddenset  # Use this Kernel object for repeated calls\n",
    "knl(queue, [cols], None, adatat_buf, acolst_buf, annzst_buf, np.float32(1), np.uint32(ellwat),np.uint32(a.T.shape[1]), add_buf)"
   ]
  },
  {
   "cell_type": "code",
   "execution_count": null,
   "id": "d01027d6",
   "metadata": {},
   "outputs": [],
   "source": [
    "matadd[0][0]"
   ]
  },
  {
   "cell_type": "code",
   "execution_count": null,
   "id": "c8aa298b",
   "metadata": {},
   "outputs": [],
   "source": [
    "datat_res = np.empty_like(adatat)\n",
    "colst_res = np.empty_like(acolst)\n",
    "nnzst_res = np.empty_like(annzt)\n",
    "cl.enqueue_copy(queue, datat_res, adatat_buf)\n",
    "cl.enqueue_copy(queue, colst_res, acolst_buf)\n",
    "cl.enqueue_copy(queue, nnzst_res, annzst_buf)"
   ]
  },
  {
   "cell_type": "code",
   "execution_count": null,
   "id": "1520b090",
   "metadata": {},
   "outputs": [],
   "source": [
    "adenseaddt = to_dense(datat_res, colst_res, nnzst_res, ellwat, a.T.shape).T\n",
    "adenseaddt"
   ]
  },
  {
   "cell_type": "code",
   "execution_count": 182,
   "id": "4991edea",
   "metadata": {},
   "outputs": [
    {
     "data": {
      "text/plain": [
       "array([[0.        , 0.68347037, 0.8035886 , 0.        , 0.        ,\n",
       "        0.        , 0.        , 0.08023349, 0.8858316 , 0.        ,\n",
       "        0.17861794, 0.        , 0.46201044, 0.        , 0.        ,\n",
       "        0.        ],\n",
       "       [0.9562663 , 0.5531271 , 0.        , 0.        , 0.5375557 ,\n",
       "        0.        , 0.        , 0.        , 0.        , 0.        ,\n",
       "        0.        , 0.20370705, 0.35530138, 0.        , 0.        ,\n",
       "        0.9186601 ],\n",
       "       [0.        , 0.20103766, 0.        , 0.        , 0.        ,\n",
       "        0.74341315, 0.        , 0.        , 0.        , 0.5787496 ,\n",
       "        0.        , 0.05387774, 0.        , 0.5917517 , 0.17797045,\n",
       "        0.        ],\n",
       "       [0.        , 0.        , 0.        , 0.14296253, 0.9103574 ,\n",
       "        0.03242496, 0.        , 0.71459514, 0.        , 0.        ,\n",
       "        0.        , 0.        , 0.7448136 , 0.        , 0.        ,\n",
       "        0.66635793],\n",
       "       [0.        , 0.        , 0.        , 0.59893256, 0.        ,\n",
       "        0.        , 0.        , 0.9217044 , 0.        , 0.16333483,\n",
       "        0.        , 0.17167741, 0.        , 0.        , 0.7605819 ,\n",
       "        0.48675168],\n",
       "       [0.11415514, 0.82574075, 0.        , 0.        , 0.        ,\n",
       "        0.27978534, 0.        , 0.25018668, 0.        , 0.        ,\n",
       "        0.83127654, 0.09929471, 0.        , 0.        , 0.        ,\n",
       "        0.        ],\n",
       "       [0.28872353, 0.04889954, 0.        , 0.6493426 , 0.        ,\n",
       "        0.33329687, 0.        , 0.        , 0.        , 0.        ,\n",
       "        0.        , 0.        , 0.84441024, 0.01120785, 0.        ,\n",
       "        0.        ],\n",
       "       [0.67626965, 0.        , 0.        , 0.35563806, 0.        ,\n",
       "        0.        , 0.69630474, 0.        , 0.6753613 , 0.        ,\n",
       "        0.        , 0.12287189, 0.        , 0.        , 0.        ,\n",
       "        0.09184685]], dtype=float32)"
      ]
     },
     "execution_count": 182,
     "metadata": {},
     "output_type": "execute_result"
    }
   ],
   "source": [
    "a"
   ]
  },
  {
   "cell_type": "code",
   "execution_count": 183,
   "id": "a02d1ebb",
   "metadata": {},
   "outputs": [
    {
     "ename": "NameError",
     "evalue": "name 'matadd' is not defined",
     "output_type": "error",
     "traceback": [
      "\u001b[0;31m---------------------------------------------------------------------------\u001b[0m",
      "\u001b[0;31mNameError\u001b[0m                                 Traceback (most recent call last)",
      "\u001b[0;32m/tmp/ipykernel_31620/590711165.py\u001b[0m in \u001b[0;36m<module>\u001b[0;34m\u001b[0m\n\u001b[0;32m----> 1\u001b[0;31m \u001b[0mmatadd\u001b[0m\u001b[0;34m\u001b[0m\u001b[0;34m\u001b[0m\u001b[0m\n\u001b[0m",
      "\u001b[0;31mNameError\u001b[0m: name 'matadd' is not defined"
     ]
    }
   ],
   "source": [
    "matadd"
   ]
  },
  {
   "cell_type": "code",
   "execution_count": null,
   "id": "39b90dde",
   "metadata": {},
   "outputs": [],
   "source": [
    "a_added"
   ]
  },
  {
   "cell_type": "code",
   "execution_count": null,
   "id": "03c95777",
   "metadata": {},
   "outputs": [],
   "source": [
    "adenseaddt == a_added"
   ]
  },
  {
   "cell_type": "markdown",
   "id": "f62eb300",
   "metadata": {},
   "source": [
    "### Make Random"
   ]
  },
  {
   "cell_type": "code",
   "execution_count": 184,
   "id": "bc590ff4",
   "metadata": {},
   "outputs": [
    {
     "data": {
      "text/plain": [
       "<SparseTensor <GPUBuffer with shape (8,)> with grad None>"
      ]
     },
     "execution_count": 184,
     "metadata": {},
     "output_type": "execute_result"
    }
   ],
   "source": [
    "rand = SparseTensor.uniform(2,4)\n",
    "rand"
   ]
  },
  {
   "cell_type": "code",
   "execution_count": 185,
   "id": "186cbd5b",
   "metadata": {},
   "outputs": [
    {
     "data": {
      "text/plain": [
       "array([[6.40131111e-05, 5.51252815e-05, 9.75026924e-05, 1.21387111e-05],\n",
       "       [4.27303312e-05, 6.81816964e-05, 3.21073094e-05, 9.09540831e-05]])"
      ]
     },
     "execution_count": 185,
     "metadata": {},
     "output_type": "execute_result"
    }
   ],
   "source": [
    "rand.to_numpy()"
   ]
  },
  {
   "cell_type": "code",
   "execution_count": 186,
   "id": "86441521",
   "metadata": {},
   "outputs": [
    {
     "data": {
      "text/plain": [
       "<GPUBuffer with shape (8,)>"
      ]
     },
     "execution_count": 186,
     "metadata": {},
     "output_type": "execute_result"
    }
   ],
   "source": [
    "rand.data"
   ]
  },
  {
   "cell_type": "markdown",
   "id": "6644b755",
   "metadata": {},
   "source": [
    "### update vals"
   ]
  },
  {
   "cell_type": "code",
   "execution_count": 187,
   "id": "73b60325",
   "metadata": {},
   "outputs": [],
   "source": [
    "adata_buf = cl.Buffer(ctx, mf.READ_WRITE | mf.COPY_HOST_PTR, hostbuf=adata)\n",
    "acols_buf = cl.Buffer(ctx, mf.READ_WRITE | mf.COPY_HOST_PTR, hostbuf=acols)\n",
    "annzs_buf = cl.Buffer(ctx, mf.READ_WRITE | mf.COPY_HOST_PTR, hostbuf=annz)"
   ]
  },
  {
   "cell_type": "code",
   "execution_count": 188,
   "id": "7cb03af3",
   "metadata": {},
   "outputs": [],
   "source": [
    "prg = cl.Program(ctx, \"\"\"\n",
    "// Every global_id_0 works on a row\n",
    "    __kernel void addvals(__global  float* matData,     // INPUT MATRIX DATA\n",
    "                         __global  uint*  colIdx,\n",
    "                         __global  uint*  rowNnz,\n",
    "                         float lr,\n",
    "                         uint   ellwidth,\n",
    "                         __global  float* updatevals,    // INPUT\n",
    "                         __global  uint* updatexidx,\n",
    "                         __global  uint* updateyidx\n",
    "                         ) { // LOCAL SHARED BUFFER\n",
    "      uint gid = get_global_id(0);\n",
    "      uint gid2 = get_global_id(1);\n",
    "      uint topk = get_global_size(0);\n",
    "      uint bs = get_global_size(1);\n",
    "      uint baseupdateidx = topk*topk*gid2;\n",
    "      uint baseidxidx = topk*gid2;\n",
    "      uint col = updateyidx[baseidxidx+gid];\n",
    "\n",
    "      for (uint i=0; i<topk; i++) {\n",
    "        float val = updatevals[baseupdateidx+gid*topk+i];\n",
    "        uint row = updatexidx[baseidxidx+i];\n",
    "        for (uint i=0; i<rowNnz[row]; i++) {\n",
    "          uint idx = row*ellwidth+i;\n",
    "          if (colIdx[idx] >= col) {\n",
    "            //printf(\"\\\\nFOUND:%i/%i  - idx:%i\", colIdx[idx], col, idx);\n",
    "            if (colIdx[idx] == col) {\n",
    "              matData[idx] += -val*lr;\n",
    "              printf(\"\\\\nUPDATE[%i,%i]: %f\", row,col, val);\n",
    "              break;\n",
    "            } else {\n",
    "              // insert new column\n",
    "              printf(\"\\\\nINSERT[%i,%i]: %.2f\", row,col, val);\n",
    "              for (uint j=rowNnz[row]+1; j>i; j--) {\n",
    "                uint idx2 = row*ellwidth+j;\n",
    "                matData[idx2] = matData[idx2-1];\n",
    "                colIdx[idx2] = colIdx[idx2-1];\n",
    "              }\n",
    "              matData[idx] = -val*lr;\n",
    "              colIdx[idx] = col;\n",
    "              rowNnz[row] += 1;\n",
    "              break;\n",
    "            }\n",
    "          }\n",
    "        }\n",
    "        if (rowNnz[row] >= ellwidth) {\n",
    "          break;\n",
    "        }\n",
    "      }\n",
    "    }\"\"\").build()"
   ]
  },
  {
   "cell_type": "code",
   "execution_count": 189,
   "id": "14b0cd42",
   "metadata": {},
   "outputs": [
    {
     "ename": "RuntimeError",
     "evalue": "clBuildProgram failed: BUILD_PROGRAM_FAILURE - clBuildProgram failed: BUILD_PROGRAM_FAILURE - clBuildProgram failed: BUILD_PROGRAM_FAILURE\n\nBuild on <pyopencl.Device 'GeForce GTX 1080 Ti' on 'NVIDIA CUDA' at 0x55ec5d70cbf0>:\n\n<kernel>:17:32: error: use of undeclared identifier 'baseupdateidx'\n        float val = updatevals[baseupdateidx+gid*topk+i];\n                               ^\n<kernel>:18:31: error: use of undeclared identifier 'baseidxidx'\n        uint row = updatexidx[baseidxidx+i];\n                              ^\n<kernel>:32:49: error: use of undeclared identifier 'm'\n                matData[idx2] = matData[idx2-1];m\n                                                ^\n\n(options: -I /home/fpaboim/.conda/envs/tinygrad/lib/python3.8/site-packages/pyopencl/cl)\n(source saved as /tmp/tmpfvsfx1gp.cl)",
     "output_type": "error",
     "traceback": [
      "\u001b[0;31m---------------------------------------------------------------------------\u001b[0m",
      "\u001b[0;31mRuntimeError\u001b[0m                              Traceback (most recent call last)",
      "\u001b[0;32m/tmp/ipykernel_31620/3526636960.py\u001b[0m in \u001b[0;36m<module>\u001b[0;34m\u001b[0m\n\u001b[0;32m----> 1\u001b[0;31m prg = cl.Program(ctx, \"\"\"\n\u001b[0m\u001b[1;32m      2\u001b[0m \u001b[0;34m//\u001b[0m \u001b[0mEvery\u001b[0m \u001b[0mglobal_id_0\u001b[0m \u001b[0mworks\u001b[0m \u001b[0mon\u001b[0m \u001b[0ma\u001b[0m \u001b[0mrow\u001b[0m\u001b[0;34m\u001b[0m\u001b[0;34m\u001b[0m\u001b[0m\n\u001b[1;32m      3\u001b[0m     __kernel void addvals(__global  float* matData,     // INPUT MATRIX DATA\n\u001b[1;32m      4\u001b[0m                          \u001b[0m__global\u001b[0m  \u001b[0muint\u001b[0m\u001b[0;34m*\u001b[0m  \u001b[0mcolIdx\u001b[0m\u001b[0;34m,\u001b[0m\u001b[0;34m\u001b[0m\u001b[0;34m\u001b[0m\u001b[0m\n\u001b[1;32m      5\u001b[0m                          \u001b[0m__global\u001b[0m  \u001b[0muint\u001b[0m\u001b[0;34m*\u001b[0m  \u001b[0mrowNnz\u001b[0m\u001b[0;34m,\u001b[0m\u001b[0;34m\u001b[0m\u001b[0;34m\u001b[0m\u001b[0m\n",
      "\u001b[0;32m~/.conda/envs/tinygrad/lib/python3.8/site-packages/pyopencl/__init__.py\u001b[0m in \u001b[0;36mbuild\u001b[0;34m(self, options, devices, cache_dir)\u001b[0m\n\u001b[1;32m    534\u001b[0m \u001b[0;34m\u001b[0m\u001b[0m\n\u001b[1;32m    535\u001b[0m             \u001b[0;32mfrom\u001b[0m \u001b[0mpyopencl\u001b[0m\u001b[0;34m.\u001b[0m\u001b[0mcache\u001b[0m \u001b[0;32mimport\u001b[0m \u001b[0mcreate_built_program_from_source_cached\u001b[0m\u001b[0;34m\u001b[0m\u001b[0;34m\u001b[0m\u001b[0m\n\u001b[0;32m--> 536\u001b[0;31m             self._prg, was_cached = self._build_and_catch_errors(\n\u001b[0m\u001b[1;32m    537\u001b[0m                     lambda: create_built_program_from_source_cached(\n\u001b[1;32m    538\u001b[0m                         \u001b[0mself\u001b[0m\u001b[0;34m.\u001b[0m\u001b[0m_context\u001b[0m\u001b[0;34m,\u001b[0m \u001b[0mself\u001b[0m\u001b[0;34m.\u001b[0m\u001b[0m_source\u001b[0m\u001b[0;34m,\u001b[0m \u001b[0moptions_bytes\u001b[0m\u001b[0;34m,\u001b[0m \u001b[0mdevices\u001b[0m\u001b[0;34m,\u001b[0m\u001b[0;34m\u001b[0m\u001b[0;34m\u001b[0m\u001b[0m\n",
      "\u001b[0;32m~/.conda/envs/tinygrad/lib/python3.8/site-packages/pyopencl/__init__.py\u001b[0m in \u001b[0;36m_build_and_catch_errors\u001b[0;34m(self, build_func, options_bytes, source)\u001b[0m\n\u001b[1;32m    582\u001b[0m         \u001b[0;31m# Python 3.2 outputs the whole list of currently active exceptions\u001b[0m\u001b[0;34m\u001b[0m\u001b[0;34m\u001b[0m\u001b[0;34m\u001b[0m\u001b[0m\n\u001b[1;32m    583\u001b[0m         \u001b[0;31m# This serves to remove one (redundant) level from that nesting.\u001b[0m\u001b[0;34m\u001b[0m\u001b[0;34m\u001b[0m\u001b[0;34m\u001b[0m\u001b[0m\n\u001b[0;32m--> 584\u001b[0;31m         \u001b[0;32mraise\u001b[0m \u001b[0merr\u001b[0m\u001b[0;34m\u001b[0m\u001b[0;34m\u001b[0m\u001b[0m\n\u001b[0m\u001b[1;32m    585\u001b[0m \u001b[0;34m\u001b[0m\u001b[0m\n\u001b[1;32m    586\u001b[0m     \u001b[0;31m# }}}\u001b[0m\u001b[0;34m\u001b[0m\u001b[0;34m\u001b[0m\u001b[0;34m\u001b[0m\u001b[0m\n",
      "\u001b[0;31mRuntimeError\u001b[0m: clBuildProgram failed: BUILD_PROGRAM_FAILURE - clBuildProgram failed: BUILD_PROGRAM_FAILURE - clBuildProgram failed: BUILD_PROGRAM_FAILURE\n\nBuild on <pyopencl.Device 'GeForce GTX 1080 Ti' on 'NVIDIA CUDA' at 0x55ec5d70cbf0>:\n\n<kernel>:17:32: error: use of undeclared identifier 'baseupdateidx'\n        float val = updatevals[baseupdateidx+gid*topk+i];\n                               ^\n<kernel>:18:31: error: use of undeclared identifier 'baseidxidx'\n        uint row = updatexidx[baseidxidx+i];\n                              ^\n<kernel>:32:49: error: use of undeclared identifier 'm'\n                matData[idx2] = matData[idx2-1];m\n                                                ^\n\n(options: -I /home/fpaboim/.conda/envs/tinygrad/lib/python3.8/site-packages/pyopencl/cl)\n(source saved as /tmp/tmpfvsfx1gp.cl)"
     ]
    }
   ],
   "source": [
    "prg = cl.Program(ctx, \"\"\"\n",
    "// Every global_id_0 works on a row\n",
    "    __kernel void addvals(__global  float* matData,     // INPUT MATRIX DATA\n",
    "                         __global  uint*  colIdx,\n",
    "                         __global  uint*  rowNnz,\n",
    "                         float lr,\n",
    "                         uint   ellwidth,\n",
    "                         __global  float* updatevals,    // INPUT\n",
    "                         __global  uint* updatexidx,\n",
    "                         __global  uint* updateyidx\n",
    "                         ) { // LOCAL SHARED BUFFER\n",
    "      uint gid = get_global_id(0);\n",
    "      uint topk = get_global_size(0);\n",
    "      uint col = updateyidx[gid];\n",
    "\n",
    "      for (uint i=0; i<topk; i++) {\n",
    "        float val = updatevals[baseupdateidx+gid*topk+i];\n",
    "        uint row = updatexidx[baseidxidx+i];\n",
    "        for (uint i=0; i<rowNnz[row]; i++) {\n",
    "          uint idx = row*ellwidth+i;\n",
    "          if (colIdx[idx] >= col) {\n",
    "            //printf(\"\\\\nFOUND:%i/%i  - idx:%i\", colIdx[idx], col, idx);\n",
    "            if (colIdx[idx] == col) {\n",
    "              matData[idx] += -val*lr;\n",
    "              printf(\"\\\\nUPDATE[%i,%i]: %f\", row,col, val);\n",
    "              break;\n",
    "            } else {\n",
    "              // insert new column\n",
    "              printf(\"\\\\nINSERT[%i,%i]: %.2f\", row,col, val);\n",
    "              for (uint j=rowNnz[row]+1; j>i; j--) {\n",
    "                uint idx2 = row*ellwidth+j;\n",
    "                matData[idx2] = matData[idx2-1];m\n",
    "                colIdx[idx2] = colIdx[idx2-1];\n",
    "              }\n",
    "              matData[idx] = -val*lr;\n",
    "              colIdx[idx] = col;\n",
    "              rowNnz[row] += 1;\n",
    "              break;\n",
    "            }\n",
    "          }\n",
    "        }\n",
    "        if (rowNnz[row] >= ellwidth) {\n",
    "          break;\n",
    "        }\n",
    "      }\n",
    "    }\"\"\").build()"
   ]
  },
  {
   "cell_type": "code",
   "execution_count": null,
   "id": "0aab86e1",
   "metadata": {},
   "outputs": [],
   "source": [
    "knl = prg.addvals  # Use this Kernel object for repeated calls\n",
    "knl(queue, [topk,1], None, adata_buf, acols_buf, annzs_buf, np.float32(1), np.uint32(ellwa), x_cp_buf, x_idx_buf, y_idx_buf)\n",
    "\n",
    "resa = np.empty_like(adata)\n",
    "resaidx = np.zeros(acols.shape).astype(np.uint32)\n",
    "resannz = np.zeros(annz.shape).astype(np.uint32)\n",
    "\n",
    "cl.enqueue_copy(queue, resa, adata_buf)\n",
    "cl.enqueue_copy(queue, resaidx, acols_buf)\n",
    "cl.enqueue_copy(queue, resannz, annzs_buf)"
   ]
  },
  {
   "cell_type": "code",
   "execution_count": null,
   "id": "d2ff91ba",
   "metadata": {},
   "outputs": [],
   "source": [
    "resa.shape, resaidx.shape, resannz.shape, ellwa, a.T.shape"
   ]
  },
  {
   "cell_type": "code",
   "execution_count": null,
   "id": "190b8546",
   "metadata": {},
   "outputs": [],
   "source": [
    "adenseadd = to_dense(resa, resaidx, resannz, ellwa, a.shape)\n",
    "adenseadd"
   ]
  },
  {
   "cell_type": "code",
   "execution_count": null,
   "id": "3211c6e6",
   "metadata": {},
   "outputs": [],
   "source": [
    "adenseadd - adense"
   ]
  },
  {
   "cell_type": "code",
   "execution_count": null,
   "id": "f63c469b",
   "metadata": {},
   "outputs": [],
   "source": [
    "adenseadd == adense"
   ]
  },
  {
   "cell_type": "code",
   "execution_count": null,
   "id": "922fdfb7",
   "metadata": {},
   "outputs": [],
   "source": [
    "ellwa"
   ]
  },
  {
   "cell_type": "code",
   "execution_count": null,
   "id": "9da55fa5",
   "metadata": {},
   "outputs": [],
   "source": [
    "adata2 = adata.reshape(-1, ellwa)\n",
    "adata2"
   ]
  },
  {
   "cell_type": "code",
   "execution_count": null,
   "id": "466c61fb",
   "metadata": {},
   "outputs": [],
   "source": [
    "resa = resa.reshape(-1, ellwa)\n",
    "resa"
   ]
  },
  {
   "cell_type": "code",
   "execution_count": null,
   "id": "30f36719",
   "metadata": {},
   "outputs": [],
   "source": [
    "resa - adata2"
   ]
  },
  {
   "cell_type": "code",
   "execution_count": 190,
   "id": "9dd6baf4",
   "metadata": {},
   "outputs": [
    {
     "data": {
      "text/plain": [
       "array([ 1,  2,  7,  8, 10, 12,  0,  0,  0,  0,  0,  0,  0,  0,  0,  0,  0,\n",
       "        1,  4, 11, 12, 15,  0,  0,  0,  0,  0,  0,  0,  0,  0,  0,  1,  5,\n",
       "        9, 11, 13, 14,  0,  0,  0,  0,  0,  0,  0,  0,  0,  0,  3,  4,  5,\n",
       "        7, 12, 15,  0,  0,  0,  0,  0,  0,  0,  0,  0,  0,  3,  7,  9, 11,\n",
       "       14, 15,  0,  0,  0,  0,  0,  0,  0,  0,  0,  0,  0,  1,  5,  7, 10,\n",
       "       11,  0,  0,  0,  0,  0,  0,  0,  0,  0,  0,  0,  1,  3,  5, 12, 13,\n",
       "        0,  0,  0,  0,  0,  0,  0,  0,  0,  0,  0,  3,  6,  8, 11, 15,  0,\n",
       "        0,  0,  0,  0,  0,  0,  0,  0,  0], dtype=uint32)"
      ]
     },
     "execution_count": 190,
     "metadata": {},
     "output_type": "execute_result"
    }
   ],
   "source": [
    "acols"
   ]
  },
  {
   "cell_type": "code",
   "execution_count": 191,
   "id": "5c526051",
   "metadata": {},
   "outputs": [
    {
     "ename": "NameError",
     "evalue": "name 'resaidx' is not defined",
     "output_type": "error",
     "traceback": [
      "\u001b[0;31m---------------------------------------------------------------------------\u001b[0m",
      "\u001b[0;31mNameError\u001b[0m                                 Traceback (most recent call last)",
      "\u001b[0;32m/tmp/ipykernel_31620/925271796.py\u001b[0m in \u001b[0;36m<module>\u001b[0;34m\u001b[0m\n\u001b[0;32m----> 1\u001b[0;31m \u001b[0mresaidx\u001b[0m\u001b[0;34m\u001b[0m\u001b[0;34m\u001b[0m\u001b[0m\n\u001b[0m",
      "\u001b[0;31mNameError\u001b[0m: name 'resaidx' is not defined"
     ]
    }
   ],
   "source": [
    "resaidx"
   ]
  },
  {
   "cell_type": "code",
   "execution_count": null,
   "id": "f635a14d",
   "metadata": {},
   "outputs": [],
   "source": [
    "resannz"
   ]
  },
  {
   "cell_type": "code",
   "execution_count": null,
   "id": "d99713b6",
   "metadata": {},
   "outputs": [],
   "source": [
    "annz"
   ]
  },
  {
   "cell_type": "markdown",
   "id": "7c703466",
   "metadata": {},
   "source": [
    "### update vals2"
   ]
  },
  {
   "cell_type": "code",
   "execution_count": null,
   "id": "ed7e786b",
   "metadata": {},
   "outputs": [],
   "source": [
    "adatat_buf = cl.Buffer(ctx, mf.READ_WRITE | mf.COPY_HOST_PTR, hostbuf=adatat)\n",
    "acolst_buf = cl.Buffer(ctx, mf.READ_WRITE | mf.COPY_HOST_PTR, hostbuf=acolst)\n",
    "annzst_buf = cl.Buffer(ctx, mf.READ_WRITE | mf.COPY_HOST_PTR, hostbuf=annzt)"
   ]
  },
  {
   "cell_type": "code",
   "execution_count": null,
   "id": "33840479",
   "metadata": {},
   "outputs": [],
   "source": [
    "prg = cl.Program(ctx, \"\"\"\n",
    "// Every global_id_0 works on a row\n",
    "    __kernel void addvals(__global  float* matData,     // INPUT MATRIX DATA\n",
    "                         __global  uint*  colIdx,\n",
    "                         __global  uint*  rowNnz,\n",
    "                         float lr,\n",
    "                         uint   ellwidth,\n",
    "                         __global  float* updatevals,    // INPUT\n",
    "                         __global  uint* updatexidx,\n",
    "                         __global  uint* updateyidx\n",
    "                         ) { // LOCAL SHARED BUFFER\n",
    "      uint gid = get_global_id(0);\n",
    "      uint gid2 = get_global_id(1);\n",
    "      uint topk = get_global_size(0);\n",
    "      uint bs = get_global_size(1);\n",
    "      uint baseupdateidx = topk*topk*gid2;\n",
    "      uint baseidxidx = topk*gid2;\n",
    "      uint row = updateyidx[baseidxidx+gid];\n",
    "\n",
    "      for (uint i=0; i<topk; i++) {\n",
    "        float val = updatevals[baseupdateidx+gid*topk+i];\n",
    "        uint col = updatexidx[baseidxidx+i];\n",
    "        for (uint i=0; i<rowNnz[row]; i++) {\n",
    "          uint idx = row*ellwidth+i;\n",
    "          if (colIdx[idx] >= col) {\n",
    "            //printf(\"\\\\nFOUND:%i/%i  - idx:%i\", colIdx[idx], col, idx);\n",
    "            if (colIdx[idx] == col) {\n",
    "              matData[idx] += -val*lr;\n",
    "              printf(\"\\\\nUPDATE[%i,%i]: %f\", row,col, val);\n",
    "              break;\n",
    "            } else {\n",
    "              // insert new column\n",
    "              printf(\"\\\\nINSERT[%i,%i]: %.2f\", row,col, val);\n",
    "              for (uint j=rowNnz[row]+1; j>i; j--) {\n",
    "                uint idx2 = row*ellwidth+j;\n",
    "                matData[idx2] = matData[idx2-1];\n",
    "                colIdx[idx2] = colIdx[idx2-1];\n",
    "              }\n",
    "              matData[idx] = -val*lr;\n",
    "              colIdx[idx] = col;\n",
    "              rowNnz[row] += 1;\n",
    "              break;\n",
    "            }\n",
    "          }\n",
    "        }\n",
    "        if (rowNnz[row] >= ellwidth) {\n",
    "          break;\n",
    "        }\n",
    "      }\n",
    "    }\"\"\").build()"
   ]
  },
  {
   "cell_type": "code",
   "execution_count": 192,
   "id": "0053ed70",
   "metadata": {},
   "outputs": [
    {
     "name": "stdout",
     "output_type": "stream",
     "text": [
      "\n",
      "UPDATE[0,1]: 0.155507\n",
      "INSERT[0,0]: 0.00\n",
      "INSERT[0,0]: 0.00\n",
      "INSERT[0,0]: 0.00\n",
      "INSERT[0,0]: 0.00\n",
      "INSERT[0,0]: 0.00\n",
      "INSERT[0,0]: 0.00\n",
      "INSERT[0,0]: 0.00\n",
      "INSERT[0,0]: 0.00\n",
      "INSERT[0,0]: 0.00\n",
      "INSERT[0,0]: 0.00\n",
      "INSERT[0,0]: 0.00\n",
      "INSERT[0,0]: 0.00\n",
      "INSERT[0,0]: 0.00\n",
      "INSERT[0,0]: 0.00\n",
      "INSERT[0,0]: 0.00\n",
      "INSERT[0,0]: 0.00\n",
      "INSERT[0,0]: 0.00\n",
      "INSERT[0,0]: 0.00\n",
      "INSERT[0,0]: 0.00\n",
      "INSERT[0,0]: 0.00\n",
      "INSERT[0,0]: 0.70\n",
      "UPDATE[0,0]: 0.000000\n",
      "UPDATE[0,0]: 0.000000\n",
      "UPDATE[0,0]: 0.000000\n",
      "UPDATE[0,0]: 0.000000\n",
      "UPDATE[0,0]: 0.000000\n",
      "UPDATE[0,0]: 0.000000\n",
      "UPDATE[0,0]: 0.000000\n",
      "UPDATE[0,0]: 0.000000\n",
      "UPDATE[0,0]: 0.000000\n",
      "UPDATE[0,0]: 0.000000\n",
      "UPDATE[0,0]: 0.000000\n",
      "UPDATE[0,0]: 0.000000\n",
      "UPDATE[0,0]: 0.000000\n",
      "UPDATE[0,0]: 0.000000\n",
      "UPDATE[0,0]: 0.000000\n",
      "UPDATE[1,2]: 1.416093\n",
      "INSERT[1,1]: 0.19\n",
      "INSERT[1,3]: 0.30\n",
      "INSERT[1,4]: 0.30\n",
      "UPDATE[3,3]: 0.320511\n",
      "INSERT[3,1]: 0.31\n",
      "INSERT[3,2]: 1.20\n",
      "UPDATE[3,4]: 0.631148\n",
      "UPDATE[4,1]: 0.967791\n",
      "UPDATE[4,3]: 0.135177\n",
      "INSERT[4,2]: 0.82\n",
      "UPDATE[7,3]: 0.096748\n",
      "INSERT[7,1]: 0.28\n",
      "INSERT[7,2]"
     ]
    },
    {
     "data": {
      "text/plain": [
       "<pyopencl._cl.NannyEvent at 0x7fd7f035f4f0>"
      ]
     },
     "execution_count": 192,
     "metadata": {},
     "output_type": "execute_result"
    },
    {
     "name": "stdout",
     "output_type": "stream",
     "text": [
      ": 0.99\n",
      "UPDATE[7,4]: 0.839095"
     ]
    }
   ],
   "source": [
    "knl = prg.addvals  # Use this Kernel object for repeated calls\n",
    "knl(queue, [topk,bs], None, adatat_buf, acolst_buf, annzst_buf, np.float32(1), np.uint32(ellwat), x_cp_buf, x_idx_buf, y_idx_buf)\n",
    "\n",
    "resat = np.empty_like(adatat)\n",
    "resaidxt = np.zeros(acolst.shape).astype(np.uint32)\n",
    "resannzt = np.zeros(annzt.shape).astype(np.uint32)\n",
    "\n",
    "cl.enqueue_copy(queue, resat, adatat_buf)\n",
    "cl.enqueue_copy(queue, resaidxt, acolst_buf)\n",
    "cl.enqueue_copy(queue, resannzt, annzst_buf)"
   ]
  },
  {
   "cell_type": "code",
   "execution_count": 193,
   "id": "8f781e72",
   "metadata": {},
   "outputs": [
    {
     "data": {
      "text/plain": [
       "16"
      ]
     },
     "execution_count": 193,
     "metadata": {},
     "output_type": "execute_result"
    }
   ],
   "source": [
    "ellwa"
   ]
  },
  {
   "cell_type": "code",
   "execution_count": 194,
   "id": "1864d3ac",
   "metadata": {},
   "outputs": [
    {
     "data": {
      "text/plain": [
       "((128,), (128,), (16,))"
      ]
     },
     "execution_count": 194,
     "metadata": {},
     "output_type": "execute_result"
    }
   ],
   "source": [
    "resat.shape, resaidxt.shape, resannzt.shape"
   ]
  },
  {
   "cell_type": "code",
   "execution_count": 195,
   "id": "6205962b",
   "metadata": {},
   "outputs": [
    {
     "data": {
      "text/plain": [
       "array([[ 0.        ,  0.80075902,  0.        ,  0.        ,  0.        ,\n",
       "         0.11415514,  0.28872353,  0.        ],\n",
       "       [ 0.68347037, -0.18735047, -1.21505558,  0.        , -0.29892322,\n",
       "         0.82574075,  0.04889954,  0.        ],\n",
       "       [ 0.80358863,  0.        ,  0.        ,  0.        ,  0.        ,\n",
       "         0.        ,  0.        ,  0.        ],\n",
       "       [ 0.        ,  0.        , -1.19507909, -0.17754884, -0.03221506,\n",
       "         0.        ,  0.6493426 ,  0.35563806],\n",
       "       [ 0.        , -0.43023491, -0.81877571,  0.77518052,  0.        ,\n",
       "         0.        ,  0.        ,  0.        ],\n",
       "       [ 0.        ,  0.        ,  0.74341315,  0.03242496,  0.        ,\n",
       "         0.27978534,  0.33329687,  0.        ],\n",
       "       [ 0.        ,  0.        ,  0.        ,  0.        ,  0.        ,\n",
       "         0.        ,  0.        ,  0.69630474],\n",
       "       [ 0.08023349,  0.        , -0.99110806,  0.6178472 ,  0.08260983,\n",
       "         0.25018668,  0.        ,  0.        ],\n",
       "       [ 0.88583159,  0.        ,  0.        ,  0.        ,  0.        ,\n",
       "         0.        ,  0.        ,  0.67536128],\n",
       "       [ 0.        ,  0.        ,  0.5787496 ,  0.        ,  0.16333483,\n",
       "         0.        ,  0.        ,  0.        ],\n",
       "       [ 0.17861794,  0.        ,  0.        ,  0.        ,  0.        ,\n",
       "         0.83127654,  0.        ,  0.        ],\n",
       "       [ 0.        ,  0.20370705,  0.05387774,  0.        ,  0.17167741,\n",
       "         0.09929471,  0.        ,  0.12287189],\n",
       "       [ 0.46201044,  0.35530138,  0.        ,  0.74481362,  0.        ,\n",
       "         0.        ,  0.84441024,  0.        ],\n",
       "       [ 0.        ,  0.        ,  0.59175169,  0.        ,  0.        ,\n",
       "         0.        ,  0.01120785,  0.        ],\n",
       "       [ 0.        ,  0.        ,  0.17797045,  0.        ,  0.76058191,\n",
       "         0.        ,  0.        ,  0.        ],\n",
       "       [ 0.        ,  0.9186601 ,  0.        ,  0.66635793,  0.48675168,\n",
       "         0.        ,  0.        ,  0.09184685]])"
      ]
     },
     "execution_count": 195,
     "metadata": {},
     "output_type": "execute_result"
    }
   ],
   "source": [
    "adenseaddt = to_dense(resat, resaidxt, resannzt, ellwat, a.T.shape)\n",
    "adenseaddt"
   ]
  },
  {
   "cell_type": "code",
   "execution_count": 196,
   "id": "c601a02c",
   "metadata": {},
   "outputs": [
    {
     "name": "stderr",
     "output_type": "stream",
     "text": [
      "/tmp/ipykernel_31620/1679493034.py:1: DeprecationWarning: elementwise comparison failed; this will raise an error in the future.\n",
      "  adenseadd == adenseaddt.T\n"
     ]
    },
    {
     "data": {
      "text/plain": [
       "False"
      ]
     },
     "execution_count": 196,
     "metadata": {},
     "output_type": "execute_result"
    }
   ],
   "source": [
    "adenseadd == adenseaddt.T"
   ]
  },
  {
   "cell_type": "code",
   "execution_count": 197,
   "id": "64a4fdb0",
   "metadata": {},
   "outputs": [
    {
     "data": {
      "text/plain": [
       "array([[0.9562663 , 0.11415514, 0.28872353, 0.67626965, 0.        ,\n",
       "        0.        , 0.        , 0.        ],\n",
       "       [0.68347037, 0.5531271 , 0.20103766, 0.82574075, 0.04889954,\n",
       "        0.        , 0.        , 0.        ],\n",
       "       [0.8035886 , 0.        , 0.        , 0.        , 0.        ,\n",
       "        0.        , 0.        , 0.        ],\n",
       "       [0.14296253, 0.59893256, 0.6493426 , 0.35563806, 0.        ,\n",
       "        0.        , 0.        , 0.        ],\n",
       "       [0.5375557 , 0.9103574 , 0.        , 0.        , 0.        ,\n",
       "        0.        , 0.        , 0.        ],\n",
       "       [0.74341315, 0.03242496, 0.27978534, 0.33329687, 0.        ,\n",
       "        0.        , 0.        , 0.        ],\n",
       "       [0.69630474, 0.        , 0.        , 0.        , 0.        ,\n",
       "        0.        , 0.        , 0.        ],\n",
       "       [0.08023349, 0.71459514, 0.9217044 , 0.25018668, 0.        ,\n",
       "        0.        , 0.        , 0.        ],\n",
       "       [0.8858316 , 0.6753613 , 0.        , 0.        , 0.        ,\n",
       "        0.        , 0.        , 0.        ],\n",
       "       [0.5787496 , 0.16333483, 0.        , 0.        , 0.        ,\n",
       "        0.        , 0.        , 0.        ],\n",
       "       [0.17861794, 0.83127654, 0.        , 0.        , 0.        ,\n",
       "        0.        , 0.        , 0.        ],\n",
       "       [0.20370705, 0.05387774, 0.17167741, 0.09929471, 0.12287189,\n",
       "        0.        , 0.        , 0.        ],\n",
       "       [0.46201044, 0.35530138, 0.7448136 , 0.84441024, 0.        ,\n",
       "        0.        , 0.        , 0.        ],\n",
       "       [0.5917517 , 0.01120785, 0.        , 0.        , 0.        ,\n",
       "        0.        , 0.        , 0.        ],\n",
       "       [0.17797045, 0.7605819 , 0.        , 0.        , 0.        ,\n",
       "        0.        , 0.        , 0.        ],\n",
       "       [0.9186601 , 0.66635793, 0.48675168, 0.09184685, 0.        ,\n",
       "        0.        , 0.        , 0.        ]], dtype=float32)"
      ]
     },
     "execution_count": 197,
     "metadata": {},
     "output_type": "execute_result"
    }
   ],
   "source": [
    "adata2t = adatat.reshape(-1, ellwat)\n",
    "adata2t"
   ]
  },
  {
   "cell_type": "code",
   "execution_count": 198,
   "id": "3b8f6062",
   "metadata": {},
   "outputs": [
    {
     "data": {
      "text/plain": [
       "array([[-0.6996368 , -0.        , -0.        , -0.        , -0.        ,\n",
       "         0.800759  ,  0.11415514,  0.28872353],\n",
       "       [ 0.        ,  0.68347037, -0.18735047, -1.2150556 , -0.29892322,\n",
       "         0.82574075,  0.04889954,  0.        ],\n",
       "       [ 0.8035886 ,  0.        ,  0.        ,  0.        ,  0.        ,\n",
       "         0.        ,  0.        ,  0.        ],\n",
       "       [-1.1950791 , -0.17754884, -0.03221506,  0.6493426 ,  0.35563806,\n",
       "         0.        ,  0.        ,  0.        ],\n",
       "       [-0.4302349 , -0.8187757 ,  0.7751805 ,  0.        ,  0.        ,\n",
       "         0.        ,  0.        ,  0.        ],\n",
       "       [ 0.74341315,  0.03242496,  0.27978534,  0.33329687,  0.        ,\n",
       "         0.        ,  0.        ,  0.        ],\n",
       "       [ 0.69630474,  0.        ,  0.        ,  0.        ,  0.        ,\n",
       "         0.        ,  0.        ,  0.        ],\n",
       "       [ 0.08023349, -0.99110806,  0.6178472 ,  0.08260983,  0.25018668,\n",
       "         0.        ,  0.        ,  0.        ],\n",
       "       [ 0.8858316 ,  0.6753613 ,  0.        ,  0.        ,  0.        ,\n",
       "         0.        ,  0.        ,  0.        ],\n",
       "       [ 0.5787496 ,  0.16333483,  0.        ,  0.        ,  0.        ,\n",
       "         0.        ,  0.        ,  0.        ],\n",
       "       [ 0.17861794,  0.83127654,  0.        ,  0.        ,  0.        ,\n",
       "         0.        ,  0.        ,  0.        ],\n",
       "       [ 0.20370705,  0.05387774,  0.17167741,  0.09929471,  0.12287189,\n",
       "         0.        ,  0.        ,  0.        ],\n",
       "       [ 0.46201044,  0.35530138,  0.7448136 ,  0.84441024,  0.        ,\n",
       "         0.        ,  0.        ,  0.        ],\n",
       "       [ 0.5917517 ,  0.01120785,  0.        ,  0.        ,  0.        ,\n",
       "         0.        ,  0.        ,  0.        ],\n",
       "       [ 0.17797045,  0.7605819 ,  0.        ,  0.        ,  0.        ,\n",
       "         0.        ,  0.        ,  0.        ],\n",
       "       [ 0.9186601 ,  0.66635793,  0.48675168,  0.09184685,  0.        ,\n",
       "         0.        ,  0.        ,  0.        ]], dtype=float32)"
      ]
     },
     "execution_count": 198,
     "metadata": {},
     "output_type": "execute_result"
    }
   ],
   "source": [
    "resat = resat.reshape(-1, ellwat)\n",
    "resat"
   ]
  },
  {
   "cell_type": "code",
   "execution_count": 199,
   "id": "eb51f891",
   "metadata": {},
   "outputs": [
    {
     "data": {
      "text/plain": [
       "array([[-1.6559031 , -0.11415514, -0.28872353, -0.67626965, -0.        ,\n",
       "         0.800759  ,  0.11415514,  0.28872353],\n",
       "       [-0.68347037,  0.13034326, -0.38838813, -2.0407963 , -0.34782276,\n",
       "         0.82574075,  0.04889954,  0.        ],\n",
       "       [ 0.        ,  0.        ,  0.        ,  0.        ,  0.        ,\n",
       "         0.        ,  0.        ,  0.        ],\n",
       "       [-1.3380417 , -0.7764814 , -0.68155766,  0.29370454,  0.35563806,\n",
       "         0.        ,  0.        ,  0.        ],\n",
       "       [-0.9677906 , -1.7291331 ,  0.7751805 ,  0.        ,  0.        ,\n",
       "         0.        ,  0.        ,  0.        ],\n",
       "       [ 0.        ,  0.        ,  0.        ,  0.        ,  0.        ,\n",
       "         0.        ,  0.        ,  0.        ],\n",
       "       [ 0.        ,  0.        ,  0.        ,  0.        ,  0.        ,\n",
       "         0.        ,  0.        ,  0.        ],\n",
       "       [ 0.        , -1.7057033 , -0.3038572 , -0.16757685,  0.25018668,\n",
       "         0.        ,  0.        ,  0.        ],\n",
       "       [ 0.        ,  0.        ,  0.        ,  0.        ,  0.        ,\n",
       "         0.        ,  0.        ,  0.        ],\n",
       "       [ 0.        ,  0.        ,  0.        ,  0.        ,  0.        ,\n",
       "         0.        ,  0.        ,  0.        ],\n",
       "       [ 0.        ,  0.        ,  0.        ,  0.        ,  0.        ,\n",
       "         0.        ,  0.        ,  0.        ],\n",
       "       [ 0.        ,  0.        ,  0.        ,  0.        ,  0.        ,\n",
       "         0.        ,  0.        ,  0.        ],\n",
       "       [ 0.        ,  0.        ,  0.        ,  0.        ,  0.        ,\n",
       "         0.        ,  0.        ,  0.        ],\n",
       "       [ 0.        ,  0.        ,  0.        ,  0.        ,  0.        ,\n",
       "         0.        ,  0.        ,  0.        ],\n",
       "       [ 0.        ,  0.        ,  0.        ,  0.        ,  0.        ,\n",
       "         0.        ,  0.        ,  0.        ],\n",
       "       [ 0.        ,  0.        ,  0.        ,  0.        ,  0.        ,\n",
       "         0.        ,  0.        ,  0.        ]], dtype=float32)"
      ]
     },
     "execution_count": 199,
     "metadata": {},
     "output_type": "execute_result"
    }
   ],
   "source": [
    "resat - adata2t"
   ]
  },
  {
   "cell_type": "code",
   "execution_count": 200,
   "id": "f7e150fe",
   "metadata": {},
   "outputs": [
    {
     "data": {
      "text/plain": [
       "array([ 1,  2,  7,  8, 10, 12,  0,  0,  0,  0,  0,  0,  0,  0,  0,  0,  0,\n",
       "        1,  4, 11, 12, 15,  0,  0,  0,  0,  0,  0,  0,  0,  0,  0,  1,  5,\n",
       "        9, 11, 13, 14,  0,  0,  0,  0,  0,  0,  0,  0,  0,  0,  3,  4,  5,\n",
       "        7, 12, 15,  0,  0,  0,  0,  0,  0,  0,  0,  0,  0,  3,  7,  9, 11,\n",
       "       14, 15,  0,  0,  0,  0,  0,  0,  0,  0,  0,  0,  0,  1,  5,  7, 10,\n",
       "       11,  0,  0,  0,  0,  0,  0,  0,  0,  0,  0,  0,  1,  3,  5, 12, 13,\n",
       "        0,  0,  0,  0,  0,  0,  0,  0,  0,  0,  0,  3,  6,  8, 11, 15,  0,\n",
       "        0,  0,  0,  0,  0,  0,  0,  0,  0], dtype=uint32)"
      ]
     },
     "execution_count": 200,
     "metadata": {},
     "output_type": "execute_result"
    }
   ],
   "source": [
    "acols"
   ]
  },
  {
   "cell_type": "code",
   "execution_count": 201,
   "id": "8f1f18f1",
   "metadata": {},
   "outputs": [
    {
     "ename": "NameError",
     "evalue": "name 'resaidx' is not defined",
     "output_type": "error",
     "traceback": [
      "\u001b[0;31m---------------------------------------------------------------------------\u001b[0m",
      "\u001b[0;31mNameError\u001b[0m                                 Traceback (most recent call last)",
      "\u001b[0;32m/tmp/ipykernel_31620/925271796.py\u001b[0m in \u001b[0;36m<module>\u001b[0;34m\u001b[0m\n\u001b[0;32m----> 1\u001b[0;31m \u001b[0mresaidx\u001b[0m\u001b[0;34m\u001b[0m\u001b[0;34m\u001b[0m\u001b[0m\n\u001b[0m",
      "\u001b[0;31mNameError\u001b[0m: name 'resaidx' is not defined"
     ]
    }
   ],
   "source": [
    "resaidx"
   ]
  },
  {
   "cell_type": "code",
   "execution_count": null,
   "id": "bd326e73",
   "metadata": {},
   "outputs": [],
   "source": [
    "resannz"
   ]
  },
  {
   "cell_type": "code",
   "execution_count": null,
   "id": "357413c1",
   "metadata": {},
   "outputs": [],
   "source": [
    "annz"
   ]
  },
  {
   "cell_type": "markdown",
   "id": "7f618bfd",
   "metadata": {},
   "source": [
    "# OTHER"
   ]
  },
  {
   "cell_type": "markdown",
   "id": "28fd6b45",
   "metadata": {},
   "source": [
    "import numpy as np\n",
    "import pyopencl as cl\n",
    "\n",
    "mf = cl.mem_flags"
   ]
  },
  {
   "cell_type": "markdown",
   "id": "ebed13d1",
   "metadata": {},
   "source": [
    "dim = 16\n",
    "topk = 4\n",
    "\n",
    "x = np.random.rand(dim).astype(np.float32)\n",
    "y = np.random.rand(dim).astype(np.float32)\n",
    "x.shape,y.shape"
   ]
  },
  {
   "cell_type": "markdown",
   "id": "444a4a7f",
   "metadata": {},
   "source": [
    "dim1 = 4\n",
    "dim2 = 8\n",
    "dim3 = 1\n",
    "\n",
    "ctx = cl.create_some_context()\n",
    "queue = cl.CommandQueue(ctx,\n",
    "        properties=cl.command_queue_properties.PROFILING_ENABLE)\n",
    "\n",
    "sparsity = 0.2\n",
    "\n",
    "a = np.zeros((dim1,dim2))\n",
    "b = np.random.rand(dim2,dim3).flatten().astype(np.float32)\n",
    "\n",
    "a.shape, b.shape"
   ]
  },
  {
   "cell_type": "code",
   "execution_count": null,
   "id": "e2d4594d",
   "metadata": {},
   "outputs": [],
   "source": [
    "x_buf = cl.Buffer(ctx, mf.READ_ONLY | mf.COPY_HOST_PTR, hostbuf=x)\n",
    "y_buf = cl.Buffer(ctx, mf.READ_ONLY | mf.COPY_HOST_PTR, hostbuf=y)\n",
    "val_out_buf = cl.Buffer(ctx, mf.READ_WRITE, 4*topk*topk)\n",
    "x_idx_buf = cl.Buffer(ctx, mf.READ_WRITE, topk*4)\n",
    "y_idx_buf = cl.Buffer(ctx, mf.READ_WRITE, topk*4)\n",
    "\n",
    "prg = cl.Program(ctx, \"\"\"\n",
    "// Every global_id_0 works on a row\n",
    "__kernel void genwupdate2(__global  float* x,     // INPUT MATRIX DATA\n",
    "                         __global  float* y,    // INPUT\n",
    "                         __global  float* xout,    // INPUT\n",
    "                         uint topk,\n",
    "                         __global  uint* xoutidx,    // INPUT\n",
    "                         __global  uint* youtidx    // INPUT\n",
    "                        ) { // LOCAL SHARED BUFFER\n",
    "  uint gid = get_global_id(0);\n",
    "  uint n = get_global_size(0);\n",
    "  \n",
    "  xout[gid] = x[gid];\n",
    "  xoutidx[gid] = gid;\n",
    "  youtidx[gid] = gid;\n",
    "  \n",
    "  float valx = x[gid];\n",
    "  float valy = y[gid];\n",
    "  uint posx = 0;\n",
    "  uint posy = 0;\n",
    "  for (uint i = 0; i < n; i++) {\n",
    "    float tempval = x[i];\n",
    "    float tempval2 = y[i];\n",
    "    bool larger = tempval > valx;\n",
    "    bool larger2 = tempval2 > valy;\n",
    "      \n",
    "    posx += (larger)?1:0;\n",
    "    posy += (larger2)?1:0;\n",
    "  }\n",
    "  //printf(\"posx:%i\", posx);\n",
    "  if (posx < topk) {\n",
    "    xoutidx[posx] = gid;\n",
    "  }\n",
    "  if (posy < topk) {\n",
    "    youtidx[posy] = gid;\n",
    "  }\n",
    "  if (gid < topk) {\n",
    "    uint i = gid;\n",
    "    for (uint j=0; j<topk; j++) {\n",
    "      xout[gid*topk+j] = x[xoutidx[gid]] * y[youtidx[j]];\n",
    "    }\n",
    "  }\n",
    "}\"\"\").build()"
   ]
  },
  {
   "cell_type": "code",
   "execution_count": null,
   "id": "f45b3b69",
   "metadata": {},
   "outputs": [],
   "source": [
    "knl = prg.genwupdate2  # Use this Kernel object for repeated calls\n",
    "event = knl(queue, [dim,], None, x_buf, y_buf, val_out_buf, np.uint32(topk), x_idx_buf, y_idx_buf)\n",
    "\n",
    "#event.wait()\n",
    "val_out = np.zeros(topk*topk).astype(np.float32)\n",
    "resxidx = np.zeros(topk).astype(np.uint32)\n",
    "resyidx = np.zeros(topk).astype(np.uint32)\n",
    "\n",
    "cl.enqueue_copy(queue, val_out, val_out_buf)\n",
    "cl.enqueue_copy(queue, resxidx, x_idx_buf, wait_for=[event])\n",
    "cl.enqueue_copy(queue, resyidx, y_idx_buf)"
   ]
  },
  {
   "cell_type": "code",
   "execution_count": null,
   "id": "d883394f",
   "metadata": {},
   "outputs": [],
   "source": [
    "val_out"
   ]
  },
  {
   "cell_type": "code",
   "execution_count": null,
   "id": "2335cf69",
   "metadata": {},
   "outputs": [],
   "source": [
    "resxidx"
   ]
  },
  {
   "cell_type": "code",
   "execution_count": null,
   "id": "5e714f2a",
   "metadata": {},
   "outputs": [],
   "source": [
    "resyidx"
   ]
  },
  {
   "cell_type": "code",
   "execution_count": null,
   "id": "f246c208",
   "metadata": {},
   "outputs": [],
   "source": [
    "asdf"
   ]
  },
  {
   "cell_type": "code",
   "execution_count": null,
   "id": "02a5c5dd",
   "metadata": {},
   "outputs": [],
   "source": [
    "from __future__ import division\n",
    "\n",
    "KERNEL_CODE = \"\"\"\n",
    "// Thread block size\n",
    "#define BLOCK_SIZE %(block_size)d\n",
    "// Matrix dimensions\n",
    "// (chosen as multiples of the thread block size for simplicity)\n",
    "#define WA %(w_a)d // Matrix A width\n",
    "#define HA %(h_a)d // Matrix A height\n",
    "#define WB %(w_b)d // Matrix B width\n",
    "#define HB WA  // Matrix B height\n",
    "#define WC WB  // Matrix C width\n",
    "#define HC HA  // Matrix C height\n",
    "/*\n",
    " * Copyright 1993-2009 NVIDIA Corporation.  All rights reserved.\n",
    " *\n",
    " * NVIDIA Corporation and its licensors retain all intellectual property and\n",
    " * proprietary rights in and to this software and related documentation.\n",
    " * Any use, reproduction, disclosure, or distribution of this software\n",
    " * and related documentation without an express license agreement from\n",
    " * NVIDIA Corporation is strictly prohibited.\n",
    " *\n",
    " * Please refer to the applicable NVIDIA end user license agreement (EULA)\n",
    " * associated with this source code for terms and conditions that govern\n",
    " * your use of this NVIDIA software.\n",
    " *\n",
    " */\n",
    "/* Matrix multiplication: C = A * B.\n",
    " * Device code.\n",
    " */\n",
    "#define AS(j, i) As[i + j * BLOCK_SIZE]\n",
    "#define BS(j, i) Bs[i + j * BLOCK_SIZE]\n",
    "////////////////////////////////////////////////////////////////////////////////\n",
    "//! Matrix multiplication on the device: C = A * B\n",
    "//! WA is A's width and WB is B's width\n",
    "////////////////////////////////////////////////////////////////////////////////\n",
    "__kernel __attribute__((reqd_work_group_size(16,16,1))) \n",
    "void\n",
    "matrixMul( __global float* C, __global float* A, __global float* B)\n",
    "{\n",
    "    __local float As[BLOCK_SIZE*BLOCK_SIZE];\n",
    "    __local float Bs[BLOCK_SIZE*BLOCK_SIZE];\n",
    "    // Block index\n",
    "    int bx = get_group_id(0);\n",
    "    int by = get_group_id(1);\n",
    "    // Thread index\n",
    "    int tx = get_local_id(0);\n",
    "    int ty = get_local_id(1);\n",
    "    // Index of the first sub-matrix of A processed by the block\n",
    "    int aBegin = WA * BLOCK_SIZE * by;\n",
    "    // Index of the last sub-matrix of A processed by the block\n",
    "    int aEnd   = aBegin + WA - 1;\n",
    "    // Step size used to iterate through the sub-matrices of A\n",
    "    int aStep  = BLOCK_SIZE;\n",
    "    // Index of the first sub-matrix of B processed by the block\n",
    "    int bBegin = BLOCK_SIZE * bx;\n",
    "    // Step size used to iterate through the sub-matrices of B\n",
    "    int bStep  = BLOCK_SIZE * WB;\n",
    "    // Csub is used to store the element of the block sub-matrix\n",
    "    // that is computed by the thread\n",
    "    float Csub = 0.0f;\n",
    "    // Loop over all the sub-matrices of A and B\n",
    "    // required to compute the block sub-matrix\n",
    "    for (int a = aBegin, b = bBegin;\n",
    "             a <= aEnd;\n",
    "             a += aStep, b += bStep) {\n",
    "        // Load the matrices from device memory\n",
    "        // to shared memory; each thread loads\n",
    "        // one element of each matrix\n",
    "        AS(ty, tx) = A[a + WA * ty + tx];\n",
    "        BS(ty, tx) = B[b + WB * ty + tx];\n",
    "        // Synchronize to make sure the matrices are loaded\n",
    "        barrier(CLK_LOCAL_MEM_FENCE);\n",
    "        // Multiply the two matrices together;\n",
    "        // each thread computes one element\n",
    "        // of the block sub-matrix\n",
    "        for (int k = 0; k < BLOCK_SIZE; ++k)\n",
    "            Csub += AS(ty, k) * BS(k, tx);\n",
    "        // Synchronize to make sure that the preceding\n",
    "        // computation is done before loading two new\n",
    "        // sub-matrices of A and B in the next iteration\n",
    "        barrier(CLK_LOCAL_MEM_FENCE);\n",
    "    }\n",
    "    // Write the block sub-matrix to device memory;\n",
    "    // each thread writes one element\n",
    "    C[get_global_id(1) * get_global_size(0) + get_global_id(0)] = Csub;\n",
    "}\n",
    "\"\"\"\n"
   ]
  },
  {
   "cell_type": "code",
   "execution_count": null,
   "id": "c1eb509e",
   "metadata": {},
   "outputs": [],
   "source": []
  },
  {
   "cell_type": "code",
   "execution_count": null,
   "id": "9a61206e",
   "metadata": {},
   "outputs": [],
   "source": []
  },
  {
   "cell_type": "code",
   "execution_count": null,
   "id": "77b4a04e",
   "metadata": {},
   "outputs": [],
   "source": [
    "a2 = np.random.rand(4,4)"
   ]
  },
  {
   "cell_type": "code",
   "execution_count": 202,
   "id": "a0521855",
   "metadata": {},
   "outputs": [
    {
     "ename": "NameError",
     "evalue": "name 'a2' is not defined",
     "output_type": "error",
     "traceback": [
      "\u001b[0;31m---------------------------------------------------------------------------\u001b[0m",
      "\u001b[0;31mNameError\u001b[0m                                 Traceback (most recent call last)",
      "\u001b[0;32m/tmp/ipykernel_31620/3219996241.py\u001b[0m in \u001b[0;36m<module>\u001b[0;34m\u001b[0m\n\u001b[0;32m----> 1\u001b[0;31m \u001b[0ma2\u001b[0m\u001b[0;34m\u001b[0m\u001b[0;34m\u001b[0m\u001b[0m\n\u001b[0m",
      "\u001b[0;31mNameError\u001b[0m: name 'a2' is not defined"
     ]
    }
   ],
   "source": [
    "a2"
   ]
  },
  {
   "cell_type": "code",
   "execution_count": null,
   "id": "455a9049",
   "metadata": {},
   "outputs": [],
   "source": [
    "a2.sum(axis=1)"
   ]
  },
  {
   "cell_type": "code",
   "execution_count": null,
   "id": "5a54a3e3",
   "metadata": {},
   "outputs": [],
   "source": [
    "b2 = np.random.rand(4,4)"
   ]
  },
  {
   "cell_type": "code",
   "execution_count": null,
   "id": "e231268f",
   "metadata": {},
   "outputs": [],
   "source": [
    "b2"
   ]
  },
  {
   "cell_type": "code",
   "execution_count": 203,
   "id": "625b7a07",
   "metadata": {},
   "outputs": [
    {
     "ename": "NameError",
     "evalue": "name 'b2' is not defined",
     "output_type": "error",
     "traceback": [
      "\u001b[0;31m---------------------------------------------------------------------------\u001b[0m",
      "\u001b[0;31mNameError\u001b[0m                                 Traceback (most recent call last)",
      "\u001b[0;32m/tmp/ipykernel_31620/269431600.py\u001b[0m in \u001b[0;36m<module>\u001b[0;34m\u001b[0m\n\u001b[0;32m----> 1\u001b[0;31m \u001b[0mb2\u001b[0m\u001b[0;34m.\u001b[0m\u001b[0msum\u001b[0m\u001b[0;34m(\u001b[0m\u001b[0maxis\u001b[0m\u001b[0;34m=\u001b[0m\u001b[0;36m0\u001b[0m\u001b[0;34m)\u001b[0m\u001b[0;34m\u001b[0m\u001b[0;34m\u001b[0m\u001b[0m\n\u001b[0m",
      "\u001b[0;31mNameError\u001b[0m: name 'b2' is not defined"
     ]
    }
   ],
   "source": [
    "b2.sum(axis=0)"
   ]
  },
  {
   "cell_type": "code",
   "execution_count": null,
   "id": "5191e569",
   "metadata": {},
   "outputs": [],
   "source": [
    "matmul = a2.dot(b2)\n",
    "matmul"
   ]
  },
  {
   "cell_type": "code",
   "execution_count": null,
   "id": "b3a24c19",
   "metadata": {},
   "outputs": [],
   "source": []
  },
  {
   "cell_type": "code",
   "execution_count": null,
   "id": "6519eb75",
   "metadata": {},
   "outputs": [],
   "source": []
  },
  {
   "cell_type": "code",
   "execution_count": null,
   "id": "16d754cb",
   "metadata": {},
   "outputs": [],
   "source": []
  },
  {
   "cell_type": "code",
   "execution_count": null,
   "id": "c91d5425",
   "metadata": {},
   "outputs": [],
   "source": []
  },
  {
   "cell_type": "code",
   "execution_count": null,
   "id": "d9f4a6f0",
   "metadata": {},
   "outputs": [],
   "source": []
  },
  {
   "cell_type": "code",
   "execution_count": null,
   "id": "9f708713",
   "metadata": {},
   "outputs": [],
   "source": []
  },
  {
   "cell_type": "code",
   "execution_count": null,
   "id": "e59475d1",
   "metadata": {},
   "outputs": [],
   "source": []
  },
  {
   "cell_type": "code",
   "execution_count": null,
   "id": "3dd6c3a3",
   "metadata": {},
   "outputs": [],
   "source": []
  },
  {
   "cell_type": "code",
   "execution_count": null,
   "id": "7e83b426",
   "metadata": {},
   "outputs": [],
   "source": []
  },
  {
   "cell_type": "code",
   "execution_count": null,
   "id": "af6af470",
   "metadata": {},
   "outputs": [],
   "source": []
  },
  {
   "cell_type": "code",
   "execution_count": null,
   "id": "e2b3a039",
   "metadata": {},
   "outputs": [],
   "source": []
  },
  {
   "cell_type": "code",
   "execution_count": null,
   "id": "2da19095",
   "metadata": {},
   "outputs": [],
   "source": []
  }
 ],
 "metadata": {
  "kernelspec": {
   "display_name": "Python 3",
   "language": "python",
   "name": "python3"
  },
  "language_info": {
   "codemirror_mode": {
    "name": "ipython",
    "version": 3
   },
   "file_extension": ".py",
   "mimetype": "text/x-python",
   "name": "python",
   "nbconvert_exporter": "python",
   "pygments_lexer": "ipython3",
   "version": "3.8.12"
  }
 },
 "nbformat": 4,
 "nbformat_minor": 5
}
