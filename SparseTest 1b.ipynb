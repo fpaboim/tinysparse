{
 "cells": [
  {
   "cell_type": "code",
   "execution_count": 1,
   "id": "4309590e",
   "metadata": {},
   "outputs": [
    {
     "name": "stdout",
     "output_type": "stream",
     "text": [
      "DEVICE:GPU\n"
     ]
    }
   ],
   "source": [
    "from tinygrad.densetensor import DenseTensor\n",
    "from tinygrad.sparsetensor import SparseTensor\n",
    "import numpy as np\n",
    "\n",
    "%load_ext autoreload\n",
    "%autoreload 2"
   ]
  },
  {
   "cell_type": "code",
   "execution_count": 2,
   "id": "4cb532fa",
   "metadata": {},
   "outputs": [],
   "source": [
    "x_init = np.random.randn(2,6).astype(np.float32)\n",
    "x2_init = np.random.randn(3).astype(np.float32)\n",
    "U_init = np.random.randn(3,3).astype(np.float32)\n",
    "V_init = np.random.randn(3,3).astype(np.float32)\n",
    "W_init = np.random.randn(6,3).astype(np.float32)\n",
    "m_init = np.random.randn(1,3).astype(np.float32)"
   ]
  },
  {
   "cell_type": "markdown",
   "id": "b051fb88",
   "metadata": {},
   "source": [
    "x = DenseTensor(x_init)\n",
    "W = DenseTensor(W_init)\n",
    "m = DenseTensor(m_init)\n",
    "out = x.dot(W).relu()\n",
    "out = out.logsoftmax()\n",
    "out = out.mul(m).add(m).sum()\n",
    "out.backward()\n",
    "\n",
    "out.cpu().data, x"
   ]
  },
  {
   "cell_type": "markdown",
   "id": "62d0edbe",
   "metadata": {
    "scrolled": true
   },
   "source": [
    "x2 = DenseTensor(x2_init)#.gpu()\n",
    "W = SparseTensor(W_init)\n",
    "out = W.dot(x2).relu().sum()\n",
    "\n",
    "out.backward()\n",
    "\n",
    "out.cpu().data, x"
   ]
  },
  {
   "cell_type": "code",
   "execution_count": 3,
   "id": "c3d0659d",
   "metadata": {},
   "outputs": [],
   "source": [
    "import numpy as np\n",
    "import pyopencl as cl\n",
    "\n",
    "mf = cl.mem_flags"
   ]
  },
  {
   "cell_type": "code",
   "execution_count": 682,
   "id": "a0cc978b",
   "metadata": {},
   "outputs": [
    {
     "data": {
      "text/plain": [
       "((784, 8), (8, 10))"
      ]
     },
     "execution_count": 682,
     "metadata": {},
     "output_type": "execute_result"
    }
   ],
   "source": [
    "dim1 = 784\n",
    "dim2 = 8\n",
    "dim3 = 10\n",
    "topkx = 5\n",
    "topky = 8\n",
    "topk  = topkx\n",
    "bs = dim3\n",
    "\n",
    "np.random.seed(9)\n",
    "\n",
    "ctx = cl.create_some_context()\n",
    "queue = cl.CommandQueue(ctx,\n",
    "        properties=cl.command_queue_properties.PROFILING_ENABLE)\n",
    "\n",
    "sparsity = 0.4\n",
    "\n",
    "a = np.zeros((dim1,dim2))\n",
    "b = np.zeros((dim2,dim3)).astype(np.float32)\n",
    "\n",
    "a.shape, b.shape"
   ]
  },
  {
   "cell_type": "code",
   "execution_count": 683,
   "id": "306d8954",
   "metadata": {},
   "outputs": [],
   "source": [
    "x_init = np.random.randn(dim1,dim3).astype(np.float32)\n",
    "w_init = np.random.randn(dim2,dim3).astype(np.float32)"
   ]
  },
  {
   "cell_type": "code",
   "execution_count": 684,
   "id": "31516aaa",
   "metadata": {},
   "outputs": [
    {
     "data": {
      "text/plain": [
       "array([[-0.60463536, -1.1710321 , -0.07425962, -0.89242464, -0.43796238,\n",
       "         0.5658415 , -0.48279902, -0.2975719 , -1.143396  , -0.6425492 ],\n",
       "       [ 1.5146434 , -0.5019981 ,  0.6814257 ,  1.1993246 , -0.70170444,\n",
       "        -1.1829906 , -0.9982734 , -0.03202078, -0.77119285, -0.6904869 ],\n",
       "       [ 0.12832837, -0.36010188,  0.2039541 , -0.57304317, -0.50078034,\n",
       "        -0.38172   ,  0.57351166, -1.0273042 ,  1.3401899 ,  0.16892587],\n",
       "       [ 1.831064  ,  1.2889572 ,  0.0827049 , -1.3255974 ,  0.8816386 ,\n",
       "        -1.2041618 , -0.69006664, -1.6419983 ,  0.13103886,  1.7757125 ],\n",
       "       [-2.2099125 , -1.1403371 ,  0.40859553, -0.33127317,  0.194872  ,\n",
       "         0.47998413, -1.0421513 , -1.4831108 , -2.1041229 , -0.75974137],\n",
       "       [ 0.39532152, -0.29778364, -0.1652074 ,  0.2927815 ,  0.5866176 ,\n",
       "         0.38426524,  0.37534708,  2.0616708 ,  0.13078961, -0.4044718 ],\n",
       "       [ 0.77458316,  1.0405055 ,  0.311686  , -0.916232  , -0.8365159 ,\n",
       "         0.5338632 , -0.68742096,  0.12771639, -0.80791837, -0.78553456],\n",
       "       [ 1.3192611 ,  1.1386915 , -0.34535363, -0.00841912,  0.7912638 ,\n",
       "        -0.30207726,  0.47890145, -1.021893  , -0.84158814, -1.2037762 ]],\n",
       "      dtype=float32)"
      ]
     },
     "execution_count": 684,
     "metadata": {},
     "output_type": "execute_result"
    }
   ],
   "source": [
    "w_init"
   ]
  },
  {
   "cell_type": "code",
   "execution_count": 685,
   "id": "7ecf7a2b",
   "metadata": {},
   "outputs": [],
   "source": [
    "def fill_sparse(mat, sparsity=0.5):\n",
    "    indices = np.array(range(mat.shape[1]))\n",
    "    nrows = int(mat.shape[1]*sparsity)\n",
    "    for row in range(mat.shape[0]):\n",
    "        lim = nrows #+ int(np.random.random()*3)\n",
    "        mat[row][np.random.permutation(indices)[:lim]] = np.random.random(lim)\n",
    "    return mat\n",
    "\n",
    "a = fill_sparse(a, sparsity).astype(np.float32)\n",
    "b = fill_sparse(b, sparsity).astype(np.float32)"
   ]
  },
  {
   "cell_type": "code",
   "execution_count": 686,
   "id": "b32f0e9a",
   "metadata": {},
   "outputs": [
    {
     "data": {
      "text/plain": [
       "array([[0.        , 0.20136862, 0.        , ..., 0.        , 0.24664757,\n",
       "        0.        ],\n",
       "       [0.        , 0.08636539, 0.        , ..., 0.2248708 , 0.        ,\n",
       "        0.61742616],\n",
       "       [0.8060224 , 0.        , 0.02815218, ..., 0.        , 0.        ,\n",
       "        0.        ],\n",
       "       ...,\n",
       "       [0.        , 0.2683797 , 0.        , ..., 0.        , 0.        ,\n",
       "        0.14286678],\n",
       "       [0.        , 0.        , 0.85706204, ..., 0.2967158 , 0.5745791 ,\n",
       "        0.        ],\n",
       "       [0.        , 0.        , 0.22261621, ..., 0.41236356, 0.5468153 ,\n",
       "        0.        ]], dtype=float32)"
      ]
     },
     "execution_count": 686,
     "metadata": {},
     "output_type": "execute_result"
    }
   ],
   "source": [
    "a"
   ]
  },
  {
   "cell_type": "code",
   "execution_count": 687,
   "id": "d286d740",
   "metadata": {},
   "outputs": [
    {
     "data": {
      "text/plain": [
       "array([[0.51228654, 0.        , 0.89396334, 0.        , 0.583282  ,\n",
       "        0.37977967, 0.        , 0.        , 0.        , 0.        ],\n",
       "       [0.86082464, 0.        , 0.        , 0.29537702, 0.        ,\n",
       "        0.        , 0.        , 0.51280856, 0.6324379 , 0.        ],\n",
       "       [0.16401087, 0.83399713, 0.796908  , 0.98693824, 0.        ,\n",
       "        0.        , 0.        , 0.        , 0.        , 0.        ],\n",
       "       [0.12299865, 0.        , 0.        , 0.        , 0.99917537,\n",
       "        0.1828657 , 0.        , 0.45594448, 0.        , 0.        ],\n",
       "       [0.        , 0.45390037, 0.        , 0.8534569 , 0.        ,\n",
       "        0.78406423, 0.        , 0.19776365, 0.        , 0.        ],\n",
       "       [0.1423029 , 0.        , 0.        , 0.        , 0.        ,\n",
       "        0.        , 0.6472351 , 0.        , 0.31429735, 0.19298612],\n",
       "       [0.7907769 , 0.        , 0.        , 0.        , 0.712911  ,\n",
       "        0.        , 0.40409806, 0.96907926, 0.        , 0.        ],\n",
       "       [0.        , 0.5134478 , 0.        , 0.2370818 , 0.86837345,\n",
       "        0.34793904, 0.        , 0.        , 0.        , 0.        ]],\n",
       "      dtype=float32)"
      ]
     },
     "execution_count": 687,
     "metadata": {},
     "output_type": "execute_result"
    }
   ],
   "source": [
    "b"
   ]
  },
  {
   "cell_type": "code",
   "execution_count": 688,
   "id": "45c14776",
   "metadata": {},
   "outputs": [
    {
     "data": {
      "text/plain": [
       "array([ 1.0165602 ,  0.7194302 , -0.04339715], dtype=float32)"
      ]
     },
     "execution_count": 688,
     "metadata": {},
     "output_type": "execute_result"
    }
   ],
   "source": [
    "x2_init.T"
   ]
  },
  {
   "cell_type": "code",
   "execution_count": 689,
   "id": "6b2b88a2",
   "metadata": {},
   "outputs": [
    {
     "data": {
      "text/plain": [
       "(784, 10)"
      ]
     },
     "execution_count": 689,
     "metadata": {},
     "output_type": "execute_result"
    }
   ],
   "source": [
    "mult = a.dot(b)\n",
    "mult.shape"
   ]
  },
  {
   "cell_type": "code",
   "execution_count": 690,
   "id": "d33049e0",
   "metadata": {},
   "outputs": [
    {
     "data": {
      "text/plain": [
       "(784, 10)"
      ]
     },
     "execution_count": 690,
     "metadata": {},
     "output_type": "execute_result"
    }
   ],
   "source": [
    "mult.shape"
   ]
  },
  {
   "cell_type": "code",
   "execution_count": 691,
   "id": "67872651",
   "metadata": {},
   "outputs": [],
   "source": [
    "def to_data(mat):\n",
    "    all_rows = []\n",
    "    all_idxs = []\n",
    "    all_nnzs = []\n",
    "    for row in range(mat.shape[0]):\n",
    "        rowdata = []\n",
    "        colidxs = []\n",
    "        all_nnzs.append(0)\n",
    "        for col in range(mat.shape[1]):\n",
    "            val = mat[row][col]\n",
    "            if val != 0:\n",
    "                rowdata.append(val)\n",
    "                colidxs.append(col)\n",
    "                all_nnzs[-1] += 1\n",
    "        all_rows.append(rowdata)\n",
    "        all_idxs.append(colidxs)\n",
    "    \n",
    "    ellwidth = min(int(np.sqrt(np.max(all_nnzs))+1)**2, mat.shape[1])\n",
    "    ellwidth = mat.shape[1]\n",
    "    #all_rows = np.array(all_rows)#.astype(np.float32).flatten()           \n",
    "    for row in range(mat.shape[0]):\n",
    "        #print(row, all_rows)\n",
    "        all_rows[row] = np.array(all_rows[row])\n",
    "        all_rows[row].resize(ellwidth)\n",
    "        all_idxs[row] = np.array(all_idxs[row])\n",
    "        all_idxs[row].resize(ellwidth)\n",
    "        #print(all_idxs[row])\n",
    "    all_rows = np.array(all_rows)\n",
    "    all_idxs = np.array(all_idxs)\n",
    "    all_nnzs = np.array(all_nnzs)\n",
    "    \n",
    "#     while (not all_rows[:,-1].any()):\n",
    "#         all_rows = all_rows[:,:-1]\n",
    "#         all_idxs = all_idxs[:,:-1]\n",
    "#         ellwidth -= 1\n",
    "        \n",
    "    \n",
    "    all_rows = np.array(all_rows).astype(np.float32).flatten()\n",
    "    all_idxs = np.array(all_idxs).astype(np.uint32).flatten()\n",
    "    \n",
    "    all_nnzs = np.array(all_nnzs).astype(np.uint32)\n",
    "    \n",
    "    \n",
    "    return all_rows, all_idxs, all_nnzs, ellwidth"
   ]
  },
  {
   "cell_type": "code",
   "execution_count": 692,
   "id": "3cc9dd5d",
   "metadata": {},
   "outputs": [],
   "source": [
    "def to_dense(data, cols, nnzs, ellw, shape):\n",
    "    out = np.zeros(shape)\n",
    "    for row in range(shape[0]):\n",
    "        for icol in range(nnzs[row]):\n",
    "            out[row,cols[row*ellw+icol]] = data[row*ellw+icol]\n",
    "    return out"
   ]
  },
  {
   "cell_type": "code",
   "execution_count": 693,
   "id": "cdaa466d",
   "metadata": {},
   "outputs": [
    {
     "data": {
      "text/plain": [
       "(array([-0.60463536, -1.1710321 , -0.07425962, -0.89242464, -0.43796238,\n",
       "         0.5658415 , -0.48279902, -0.2975719 , -1.143396  , -0.6425492 ,\n",
       "         1.5146434 , -0.5019981 ,  0.6814257 ,  1.1993246 , -0.70170444,\n",
       "        -1.1829906 , -0.9982734 , -0.03202078, -0.77119285, -0.6904869 ,\n",
       "         0.12832837, -0.36010188,  0.2039541 , -0.57304317, -0.50078034,\n",
       "        -0.38172   ,  0.57351166, -1.0273042 ,  1.3401899 ,  0.16892587,\n",
       "         1.831064  ,  1.2889572 ,  0.0827049 , -1.3255974 ,  0.8816386 ,\n",
       "        -1.2041618 , -0.69006664, -1.6419983 ,  0.13103886,  1.7757125 ,\n",
       "        -2.2099125 , -1.1403371 ,  0.40859553, -0.33127317,  0.194872  ,\n",
       "         0.47998413, -1.0421513 , -1.4831108 , -2.1041229 , -0.75974137,\n",
       "         0.39532152, -0.29778364, -0.1652074 ,  0.2927815 ,  0.5866176 ,\n",
       "         0.38426524,  0.37534708,  2.0616708 ,  0.13078961, -0.4044718 ,\n",
       "         0.77458316,  1.0405055 ,  0.311686  , -0.916232  , -0.8365159 ,\n",
       "         0.5338632 , -0.68742096,  0.12771639, -0.80791837, -0.78553456,\n",
       "         1.3192611 ,  1.1386915 , -0.34535363, -0.00841912,  0.7912638 ,\n",
       "        -0.30207726,  0.47890145, -1.021893  , -0.84158814, -1.2037762 ],\n",
       "       dtype=float32),\n",
       " array([0, 1, 2, 3, 4, 5, 6, 7, 8, 9, 0, 1, 2, 3, 4, 5, 6, 7, 8, 9, 0, 1,\n",
       "        2, 3, 4, 5, 6, 7, 8, 9, 0, 1, 2, 3, 4, 5, 6, 7, 8, 9, 0, 1, 2, 3,\n",
       "        4, 5, 6, 7, 8, 9, 0, 1, 2, 3, 4, 5, 6, 7, 8, 9, 0, 1, 2, 3, 4, 5,\n",
       "        6, 7, 8, 9, 0, 1, 2, 3, 4, 5, 6, 7, 8, 9], dtype=uint32),\n",
       " array([10, 10, 10, 10, 10, 10, 10, 10], dtype=uint32),\n",
       " 10)"
      ]
     },
     "execution_count": 693,
     "metadata": {},
     "output_type": "execute_result"
    }
   ],
   "source": [
    "wdata, wcols, wnnz, ellww = to_data(w_init)\n",
    "wdata, wcols, wnnz, ellww"
   ]
  },
  {
   "cell_type": "code",
   "execution_count": 694,
   "id": "cb96ed78",
   "metadata": {},
   "outputs": [
    {
     "data": {
      "text/plain": [
       "(array([-0.60463536,  1.5146434 ,  0.12832837,  1.831064  , -2.2099125 ,\n",
       "         0.39532152,  0.77458316,  1.3192611 , -1.1710321 , -0.5019981 ,\n",
       "        -0.36010188,  1.2889572 , -1.1403371 , -0.29778364,  1.0405055 ,\n",
       "         1.1386915 , -0.07425962,  0.6814257 ,  0.2039541 ,  0.0827049 ,\n",
       "         0.40859553, -0.1652074 ,  0.311686  , -0.34535363, -0.89242464,\n",
       "         1.1993246 , -0.57304317, -1.3255974 , -0.33127317,  0.2927815 ,\n",
       "        -0.916232  , -0.00841912, -0.43796238, -0.70170444, -0.50078034,\n",
       "         0.8816386 ,  0.194872  ,  0.5866176 , -0.8365159 ,  0.7912638 ,\n",
       "         0.5658415 , -1.1829906 , -0.38172   , -1.2041618 ,  0.47998413,\n",
       "         0.38426524,  0.5338632 , -0.30207726, -0.48279902, -0.9982734 ,\n",
       "         0.57351166, -0.69006664, -1.0421513 ,  0.37534708, -0.68742096,\n",
       "         0.47890145, -0.2975719 , -0.03202078, -1.0273042 , -1.6419983 ,\n",
       "        -1.4831108 ,  2.0616708 ,  0.12771639, -1.021893  , -1.143396  ,\n",
       "        -0.77119285,  1.3401899 ,  0.13103886, -2.1041229 ,  0.13078961,\n",
       "        -0.80791837, -0.84158814, -0.6425492 , -0.6904869 ,  0.16892587,\n",
       "         1.7757125 , -0.75974137, -0.4044718 , -0.78553456, -1.2037762 ],\n",
       "       dtype=float32),\n",
       " array([0, 1, 2, 3, 4, 5, 6, 7, 0, 1, 2, 3, 4, 5, 6, 7, 0, 1, 2, 3, 4, 5,\n",
       "        6, 7, 0, 1, 2, 3, 4, 5, 6, 7, 0, 1, 2, 3, 4, 5, 6, 7, 0, 1, 2, 3,\n",
       "        4, 5, 6, 7, 0, 1, 2, 3, 4, 5, 6, 7, 0, 1, 2, 3, 4, 5, 6, 7, 0, 1,\n",
       "        2, 3, 4, 5, 6, 7, 0, 1, 2, 3, 4, 5, 6, 7], dtype=uint32),\n",
       " array([8, 8, 8, 8, 8, 8, 8, 8, 8, 8], dtype=uint32),\n",
       " 8)"
      ]
     },
     "execution_count": 694,
     "metadata": {},
     "output_type": "execute_result"
    }
   ],
   "source": [
    "wdatat, wcolst, wnnzt, ellwwt = to_data(w_init.T)\n",
    "wdatat, wcolst, wnnzt, ellwwt"
   ]
  },
  {
   "cell_type": "code",
   "execution_count": 695,
   "id": "5c9c6134",
   "metadata": {},
   "outputs": [
    {
     "data": {
      "text/plain": [
       "(array([0.20136862, 0.45337066, 0.24664757, ..., 0.        , 0.        ,\n",
       "        0.        ], dtype=float32),\n",
       " array([1, 4, 6, ..., 0, 0, 0], dtype=uint32),\n",
       " array([3, 3, 3, 3, 3, 3, 3, 3, 3, 3, 3, 3, 3, 3, 3, 3, 3, 3, 3, 3, 3, 3,\n",
       "        3, 3, 3, 3, 3, 3, 3, 3, 3, 3, 3, 3, 3, 3, 3, 3, 3, 3, 3, 3, 3, 3,\n",
       "        3, 3, 3, 3, 3, 3, 3, 3, 3, 3, 3, 3, 3, 3, 3, 3, 3, 3, 3, 3, 3, 3,\n",
       "        3, 3, 3, 3, 3, 3, 3, 3, 3, 3, 3, 3, 3, 3, 3, 3, 3, 3, 3, 3, 3, 3,\n",
       "        3, 3, 3, 3, 3, 3, 3, 3, 3, 3, 3, 3, 3, 3, 3, 3, 3, 3, 3, 3, 3, 3,\n",
       "        3, 3, 3, 3, 3, 3, 3, 3, 3, 3, 3, 3, 3, 3, 3, 3, 3, 3, 3, 3, 3, 3,\n",
       "        3, 3, 3, 3, 3, 3, 3, 3, 3, 3, 3, 3, 3, 3, 3, 3, 3, 3, 3, 3, 3, 3,\n",
       "        3, 3, 3, 3, 3, 3, 3, 3, 3, 3, 3, 3, 3, 3, 3, 3, 3, 3, 3, 3, 3, 3,\n",
       "        3, 3, 3, 3, 3, 3, 3, 3, 3, 3, 3, 3, 3, 3, 3, 3, 3, 3, 3, 3, 3, 3,\n",
       "        3, 3, 3, 3, 3, 3, 3, 3, 3, 3, 3, 3, 3, 3, 3, 3, 3, 3, 3, 3, 3, 3,\n",
       "        3, 3, 3, 3, 3, 3, 3, 3, 3, 3, 3, 3, 3, 3, 3, 3, 3, 3, 3, 3, 3, 3,\n",
       "        3, 3, 3, 3, 3, 3, 3, 3, 3, 3, 3, 3, 3, 3, 3, 3, 3, 3, 3, 3, 3, 3,\n",
       "        3, 3, 3, 3, 3, 3, 3, 3, 3, 3, 3, 3, 3, 3, 3, 3, 3, 3, 3, 3, 3, 3,\n",
       "        3, 3, 3, 3, 3, 3, 3, 3, 3, 3, 3, 3, 3, 3, 3, 3, 3, 3, 3, 3, 3, 3,\n",
       "        3, 3, 3, 3, 3, 3, 3, 3, 3, 3, 3, 3, 3, 3, 3, 3, 3, 3, 3, 3, 3, 3,\n",
       "        3, 3, 3, 3, 3, 3, 3, 3, 3, 3, 3, 3, 3, 3, 3, 3, 3, 3, 3, 3, 3, 3,\n",
       "        3, 3, 3, 3, 3, 3, 3, 3, 3, 3, 3, 3, 3, 3, 3, 3, 3, 3, 3, 3, 3, 3,\n",
       "        3, 3, 3, 3, 3, 3, 3, 3, 3, 3, 3, 3, 3, 3, 3, 3, 3, 3, 3, 3, 3, 3,\n",
       "        3, 3, 3, 3, 3, 3, 3, 3, 3, 3, 3, 3, 3, 3, 3, 3, 3, 3, 3, 3, 3, 3,\n",
       "        3, 3, 3, 3, 3, 3, 3, 3, 3, 3, 3, 3, 3, 3, 3, 3, 3, 3, 3, 3, 3, 3,\n",
       "        3, 3, 3, 3, 3, 3, 3, 3, 3, 3, 3, 3, 3, 3, 3, 3, 3, 3, 3, 3, 3, 3,\n",
       "        3, 3, 3, 3, 3, 3, 3, 3, 3, 3, 3, 3, 3, 3, 3, 3, 3, 3, 3, 3, 3, 3,\n",
       "        3, 3, 3, 3, 3, 3, 3, 3, 3, 3, 3, 3, 3, 3, 3, 3, 3, 3, 3, 3, 3, 3,\n",
       "        3, 3, 3, 3, 3, 3, 3, 3, 3, 3, 3, 3, 3, 3, 3, 3, 3, 3, 3, 3, 3, 3,\n",
       "        3, 3, 3, 3, 3, 3, 3, 3, 3, 3, 3, 3, 3, 3, 3, 3, 3, 3, 3, 3, 3, 3,\n",
       "        3, 3, 3, 3, 3, 3, 3, 3, 3, 3, 3, 3, 3, 3, 3, 3, 3, 3, 3, 3, 3, 3,\n",
       "        3, 3, 3, 3, 3, 3, 3, 3, 3, 3, 3, 3, 3, 3, 3, 3, 3, 3, 3, 3, 3, 3,\n",
       "        3, 3, 3, 3, 3, 3, 3, 3, 3, 3, 3, 3, 3, 3, 3, 3, 3, 3, 3, 3, 3, 3,\n",
       "        3, 3, 3, 3, 3, 3, 3, 3, 3, 3, 3, 3, 3, 3, 3, 3, 3, 3, 3, 3, 3, 3,\n",
       "        3, 3, 3, 3, 3, 3, 3, 3, 3, 3, 3, 3, 3, 3, 3, 3, 3, 3, 3, 3, 3, 3,\n",
       "        3, 3, 3, 3, 3, 3, 3, 3, 3, 3, 3, 3, 3, 3, 3, 3, 3, 3, 3, 3, 3, 3,\n",
       "        3, 3, 3, 3, 3, 3, 3, 3, 3, 3, 3, 3, 3, 3, 3, 3, 3, 3, 3, 3, 3, 3,\n",
       "        3, 3, 3, 3, 3, 3, 3, 3, 3, 3, 3, 3, 3, 3, 3, 3, 3, 3, 3, 3, 3, 3,\n",
       "        3, 3, 3, 3, 3, 3, 3, 3, 3, 3, 3, 3, 3, 3, 3, 3, 3, 3, 3, 3, 3, 3,\n",
       "        3, 3, 3, 3, 3, 3, 3, 3, 3, 3, 3, 3, 3, 3, 3, 3, 3, 3, 3, 3, 3, 3,\n",
       "        3, 3, 3, 3, 3, 3, 3, 3, 3, 3, 3, 3, 3, 3], dtype=uint32),\n",
       " 8)"
      ]
     },
     "execution_count": 695,
     "metadata": {},
     "output_type": "execute_result"
    }
   ],
   "source": [
    "adata, acols, annz, ellwa = to_data(a)\n",
    "adata, acols, annz, ellwa"
   ]
  },
  {
   "cell_type": "code",
   "execution_count": 696,
   "id": "333f732b",
   "metadata": {},
   "outputs": [
    {
     "data": {
      "text/plain": [
       "(array([0.8060224 , 0.04902843, 0.06091982, ..., 0.        , 0.        ,\n",
       "        0.        ], dtype=float32),\n",
       " array([2, 3, 6, ..., 0, 0, 0], dtype=uint32),\n",
       " array([301, 305, 283, 273, 297, 311, 294, 288], dtype=uint32),\n",
       " 784)"
      ]
     },
     "execution_count": 696,
     "metadata": {},
     "output_type": "execute_result"
    }
   ],
   "source": [
    "adatat, acolst, annzt, ellwat = to_data(a.T)\n",
    "adatat, acolst, annzt, ellwat"
   ]
  },
  {
   "cell_type": "code",
   "execution_count": 697,
   "id": "3746b3f8",
   "metadata": {},
   "outputs": [
    {
     "data": {
      "text/plain": [
       "(array([0.51228654, 0.89396334, 0.583282  , 0.37977967, 0.        ,\n",
       "        0.        , 0.        , 0.        , 0.        , 0.        ,\n",
       "        0.86082464, 0.29537702, 0.51280856, 0.6324379 , 0.        ,\n",
       "        0.        , 0.        , 0.        , 0.        , 0.        ,\n",
       "        0.16401087, 0.83399713, 0.796908  , 0.98693824, 0.        ,\n",
       "        0.        , 0.        , 0.        , 0.        , 0.        ,\n",
       "        0.12299865, 0.99917537, 0.1828657 , 0.45594448, 0.        ,\n",
       "        0.        , 0.        , 0.        , 0.        , 0.        ,\n",
       "        0.45390037, 0.8534569 , 0.78406423, 0.19776365, 0.        ,\n",
       "        0.        , 0.        , 0.        , 0.        , 0.        ,\n",
       "        0.1423029 , 0.6472351 , 0.31429735, 0.19298612, 0.        ,\n",
       "        0.        , 0.        , 0.        , 0.        , 0.        ,\n",
       "        0.7907769 , 0.712911  , 0.40409806, 0.96907926, 0.        ,\n",
       "        0.        , 0.        , 0.        , 0.        , 0.        ,\n",
       "        0.5134478 , 0.2370818 , 0.86837345, 0.34793904, 0.        ,\n",
       "        0.        , 0.        , 0.        , 0.        , 0.        ],\n",
       "       dtype=float32),\n",
       " array([0, 2, 4, 5, 0, 0, 0, 0, 0, 0, 0, 3, 7, 8, 0, 0, 0, 0, 0, 0, 0, 1,\n",
       "        2, 3, 0, 0, 0, 0, 0, 0, 0, 4, 5, 7, 0, 0, 0, 0, 0, 0, 1, 3, 5, 7,\n",
       "        0, 0, 0, 0, 0, 0, 0, 6, 8, 9, 0, 0, 0, 0, 0, 0, 0, 4, 6, 7, 0, 0,\n",
       "        0, 0, 0, 0, 1, 3, 4, 5, 0, 0, 0, 0, 0, 0], dtype=uint32),\n",
       " array([4, 4, 4, 4, 4, 4, 4, 4], dtype=uint32),\n",
       " 10)"
      ]
     },
     "execution_count": 697,
     "metadata": {},
     "output_type": "execute_result"
    }
   ],
   "source": [
    "bdata, bcols, bnnz, ellwb = to_data(b)\n",
    "bdata, bcols, bnnz, ellwb"
   ]
  },
  {
   "cell_type": "code",
   "execution_count": 698,
   "id": "2456f0d7",
   "metadata": {},
   "outputs": [
    {
     "data": {
      "text/plain": [
       "(array([0.8060224 , 0.04902843, 0.06091982, ..., 0.        , 0.        ,\n",
       "        0.        ], dtype=float32),\n",
       " array([0, 1, 2, 3, 5, 6, 0, 0, 2, 4, 7, 0, 0, 0, 0, 0, 0, 2, 0, 0, 0, 0,\n",
       "        0, 0, 1, 2, 4, 7, 0, 0, 0, 0, 0, 3, 6, 7, 0, 0, 0, 0, 0, 3, 4, 7,\n",
       "        0, 0, 0, 0, 5, 6, 0, 0, 0, 0, 0, 0, 1, 3, 4, 6, 0, 0, 0, 0, 1, 5,\n",
       "        0, 0, 0, 0, 0, 0, 5, 0, 0, 0, 0, 0, 0, 0], dtype=uint32),\n",
       " array([6, 3, 2, 4, 4, 4, 2, 4, 2, 1], dtype=uint32),\n",
       " 8)"
      ]
     },
     "execution_count": 698,
     "metadata": {},
     "output_type": "execute_result"
    }
   ],
   "source": [
    "bdatat, bcolst, bnnzt, ellwbt = to_data(b.T)\n",
    "adatat, bcolst, bnnzt, ellwbt"
   ]
  },
  {
   "cell_type": "code",
   "execution_count": 699,
   "id": "a21f8921",
   "metadata": {},
   "outputs": [],
   "source": [
    "adense = to_dense(adata, acols, annz, ellwa, a.shape)"
   ]
  },
  {
   "cell_type": "code",
   "execution_count": 700,
   "id": "afddd45e",
   "metadata": {},
   "outputs": [],
   "source": [
    "adenset = to_dense(adatat, acolst, annzt, ellwat, a.T.shape)"
   ]
  },
  {
   "cell_type": "code",
   "execution_count": 701,
   "id": "265ef0d4",
   "metadata": {},
   "outputs": [],
   "source": [
    "bdense = to_dense(bdata, bcols, bnnz, ellwb, b.shape)"
   ]
  },
  {
   "cell_type": "code",
   "execution_count": 702,
   "id": "409da6b5",
   "metadata": {},
   "outputs": [],
   "source": [
    "bdenset = to_dense(bdatat, bcolst, bnnzt, ellwbt, b.T.shape)"
   ]
  },
  {
   "cell_type": "code",
   "execution_count": 703,
   "id": "1c04d184",
   "metadata": {},
   "outputs": [
    {
     "data": {
      "text/plain": [
       "array([[0.        , 0.20136862, 0.        , ..., 0.        , 0.24664757,\n",
       "        0.        ],\n",
       "       [0.        , 0.08636539, 0.        , ..., 0.2248708 , 0.        ,\n",
       "        0.61742616],\n",
       "       [0.80602241, 0.        , 0.02815218, ..., 0.        , 0.        ,\n",
       "        0.        ],\n",
       "       ...,\n",
       "       [0.        , 0.26837969, 0.        , ..., 0.        , 0.        ,\n",
       "        0.14286678],\n",
       "       [0.        , 0.        , 0.85706204, ..., 0.2967158 , 0.57457912,\n",
       "        0.        ],\n",
       "       [0.        , 0.        , 0.22261621, ..., 0.41236356, 0.54681528,\n",
       "        0.        ]])"
      ]
     },
     "execution_count": 703,
     "metadata": {},
     "output_type": "execute_result"
    }
   ],
   "source": [
    "adense"
   ]
  },
  {
   "cell_type": "code",
   "execution_count": 704,
   "id": "cae2f665",
   "metadata": {},
   "outputs": [
    {
     "data": {
      "text/plain": [
       "array([[ True,  True,  True, ...,  True,  True,  True],\n",
       "       [ True,  True,  True, ...,  True,  True,  True],\n",
       "       [ True,  True,  True, ...,  True,  True,  True],\n",
       "       ...,\n",
       "       [ True,  True,  True, ...,  True,  True,  True],\n",
       "       [ True,  True,  True, ...,  True,  True,  True],\n",
       "       [ True,  True,  True, ...,  True,  True,  True]])"
      ]
     },
     "execution_count": 704,
     "metadata": {},
     "output_type": "execute_result"
    }
   ],
   "source": [
    "adenset.T == adense"
   ]
  },
  {
   "cell_type": "code",
   "execution_count": 705,
   "id": "9f2ada6f",
   "metadata": {},
   "outputs": [
    {
     "data": {
      "text/plain": [
       "array([[ True,  True,  True,  True,  True,  True,  True,  True,  True,\n",
       "         True],\n",
       "       [ True,  True,  True,  True,  True,  True,  True,  True,  True,\n",
       "         True],\n",
       "       [ True,  True,  True,  True,  True,  True,  True,  True,  True,\n",
       "         True],\n",
       "       [ True,  True,  True,  True,  True,  True,  True,  True,  True,\n",
       "         True],\n",
       "       [ True,  True,  True,  True,  True,  True,  True,  True,  True,\n",
       "         True],\n",
       "       [ True,  True,  True,  True,  True,  True,  True,  True,  True,\n",
       "         True],\n",
       "       [ True,  True,  True,  True,  True,  True,  True,  True,  True,\n",
       "         True],\n",
       "       [ True,  True,  True,  True,  True,  True,  True,  True,  True,\n",
       "         True]])"
      ]
     },
     "execution_count": 705,
     "metadata": {},
     "output_type": "execute_result"
    }
   ],
   "source": [
    "bdenset.T == bdense"
   ]
  },
  {
   "cell_type": "code",
   "execution_count": 706,
   "id": "570652a8",
   "metadata": {},
   "outputs": [
    {
     "data": {
      "text/plain": [
       "array([[0.        , 0.20136862, 0.        , ..., 0.        , 0.24664757,\n",
       "        0.        ],\n",
       "       [0.        , 0.08636539, 0.        , ..., 0.2248708 , 0.        ,\n",
       "        0.61742616],\n",
       "       [0.8060224 , 0.        , 0.02815218, ..., 0.        , 0.        ,\n",
       "        0.        ],\n",
       "       ...,\n",
       "       [0.        , 0.2683797 , 0.        , ..., 0.        , 0.        ,\n",
       "        0.14286678],\n",
       "       [0.        , 0.        , 0.85706204, ..., 0.2967158 , 0.5745791 ,\n",
       "        0.        ],\n",
       "       [0.        , 0.        , 0.22261621, ..., 0.41236356, 0.5468153 ,\n",
       "        0.        ]], dtype=float32)"
      ]
     },
     "execution_count": 706,
     "metadata": {},
     "output_type": "execute_result"
    }
   ],
   "source": [
    "a"
   ]
  },
  {
   "cell_type": "code",
   "execution_count": 707,
   "id": "b3828f92",
   "metadata": {},
   "outputs": [
    {
     "data": {
      "text/plain": [
       "array([[ True,  True,  True, ...,  True,  True,  True],\n",
       "       [ True,  True,  True, ...,  True,  True,  True],\n",
       "       [ True,  True,  True, ...,  True,  True,  True],\n",
       "       ...,\n",
       "       [ True,  True,  True, ...,  True,  True,  True],\n",
       "       [ True,  True,  True, ...,  True,  True,  True],\n",
       "       [ True,  True,  True, ...,  True,  True,  True]])"
      ]
     },
     "execution_count": 707,
     "metadata": {},
     "output_type": "execute_result"
    }
   ],
   "source": [
    "a == adense"
   ]
  },
  {
   "cell_type": "code",
   "execution_count": 708,
   "id": "d8e29e3c",
   "metadata": {},
   "outputs": [
    {
     "data": {
      "text/plain": [
       "(784, 8)"
      ]
     },
     "execution_count": 708,
     "metadata": {},
     "output_type": "execute_result"
    }
   ],
   "source": [
    "a.shape"
   ]
  },
  {
   "cell_type": "code",
   "execution_count": 709,
   "id": "233fb7fe",
   "metadata": {},
   "outputs": [
    {
     "data": {
      "text/plain": [
       "((6272,), (6272,), (784,), 8)"
      ]
     },
     "execution_count": 709,
     "metadata": {},
     "output_type": "execute_result"
    }
   ],
   "source": [
    "adata.shape, acols.shape, annz.shape, ellwa"
   ]
  },
  {
   "cell_type": "code",
   "execution_count": 710,
   "id": "fbb29574",
   "metadata": {},
   "outputs": [],
   "source": [
    "#acols = acols.astype(np.uint32)\n",
    "#annz = annz.astype(np.uint32)"
   ]
  },
  {
   "cell_type": "code",
   "execution_count": 711,
   "id": "008c1a26",
   "metadata": {},
   "outputs": [
    {
     "data": {
      "text/plain": [
       "(array([0.20136862, 0.45337066, 0.24664757, ..., 0.        , 0.        ,\n",
       "        0.        ], dtype=float32),\n",
       " array([1, 4, 6, ..., 0, 0, 0], dtype=uint32),\n",
       " array([3, 3, 3, 3, 3, 3, 3, 3, 3, 3, 3, 3, 3, 3, 3, 3, 3, 3, 3, 3, 3, 3,\n",
       "        3, 3, 3, 3, 3, 3, 3, 3, 3, 3, 3, 3, 3, 3, 3, 3, 3, 3, 3, 3, 3, 3,\n",
       "        3, 3, 3, 3, 3, 3, 3, 3, 3, 3, 3, 3, 3, 3, 3, 3, 3, 3, 3, 3, 3, 3,\n",
       "        3, 3, 3, 3, 3, 3, 3, 3, 3, 3, 3, 3, 3, 3, 3, 3, 3, 3, 3, 3, 3, 3,\n",
       "        3, 3, 3, 3, 3, 3, 3, 3, 3, 3, 3, 3, 3, 3, 3, 3, 3, 3, 3, 3, 3, 3,\n",
       "        3, 3, 3, 3, 3, 3, 3, 3, 3, 3, 3, 3, 3, 3, 3, 3, 3, 3, 3, 3, 3, 3,\n",
       "        3, 3, 3, 3, 3, 3, 3, 3, 3, 3, 3, 3, 3, 3, 3, 3, 3, 3, 3, 3, 3, 3,\n",
       "        3, 3, 3, 3, 3, 3, 3, 3, 3, 3, 3, 3, 3, 3, 3, 3, 3, 3, 3, 3, 3, 3,\n",
       "        3, 3, 3, 3, 3, 3, 3, 3, 3, 3, 3, 3, 3, 3, 3, 3, 3, 3, 3, 3, 3, 3,\n",
       "        3, 3, 3, 3, 3, 3, 3, 3, 3, 3, 3, 3, 3, 3, 3, 3, 3, 3, 3, 3, 3, 3,\n",
       "        3, 3, 3, 3, 3, 3, 3, 3, 3, 3, 3, 3, 3, 3, 3, 3, 3, 3, 3, 3, 3, 3,\n",
       "        3, 3, 3, 3, 3, 3, 3, 3, 3, 3, 3, 3, 3, 3, 3, 3, 3, 3, 3, 3, 3, 3,\n",
       "        3, 3, 3, 3, 3, 3, 3, 3, 3, 3, 3, 3, 3, 3, 3, 3, 3, 3, 3, 3, 3, 3,\n",
       "        3, 3, 3, 3, 3, 3, 3, 3, 3, 3, 3, 3, 3, 3, 3, 3, 3, 3, 3, 3, 3, 3,\n",
       "        3, 3, 3, 3, 3, 3, 3, 3, 3, 3, 3, 3, 3, 3, 3, 3, 3, 3, 3, 3, 3, 3,\n",
       "        3, 3, 3, 3, 3, 3, 3, 3, 3, 3, 3, 3, 3, 3, 3, 3, 3, 3, 3, 3, 3, 3,\n",
       "        3, 3, 3, 3, 3, 3, 3, 3, 3, 3, 3, 3, 3, 3, 3, 3, 3, 3, 3, 3, 3, 3,\n",
       "        3, 3, 3, 3, 3, 3, 3, 3, 3, 3, 3, 3, 3, 3, 3, 3, 3, 3, 3, 3, 3, 3,\n",
       "        3, 3, 3, 3, 3, 3, 3, 3, 3, 3, 3, 3, 3, 3, 3, 3, 3, 3, 3, 3, 3, 3,\n",
       "        3, 3, 3, 3, 3, 3, 3, 3, 3, 3, 3, 3, 3, 3, 3, 3, 3, 3, 3, 3, 3, 3,\n",
       "        3, 3, 3, 3, 3, 3, 3, 3, 3, 3, 3, 3, 3, 3, 3, 3, 3, 3, 3, 3, 3, 3,\n",
       "        3, 3, 3, 3, 3, 3, 3, 3, 3, 3, 3, 3, 3, 3, 3, 3, 3, 3, 3, 3, 3, 3,\n",
       "        3, 3, 3, 3, 3, 3, 3, 3, 3, 3, 3, 3, 3, 3, 3, 3, 3, 3, 3, 3, 3, 3,\n",
       "        3, 3, 3, 3, 3, 3, 3, 3, 3, 3, 3, 3, 3, 3, 3, 3, 3, 3, 3, 3, 3, 3,\n",
       "        3, 3, 3, 3, 3, 3, 3, 3, 3, 3, 3, 3, 3, 3, 3, 3, 3, 3, 3, 3, 3, 3,\n",
       "        3, 3, 3, 3, 3, 3, 3, 3, 3, 3, 3, 3, 3, 3, 3, 3, 3, 3, 3, 3, 3, 3,\n",
       "        3, 3, 3, 3, 3, 3, 3, 3, 3, 3, 3, 3, 3, 3, 3, 3, 3, 3, 3, 3, 3, 3,\n",
       "        3, 3, 3, 3, 3, 3, 3, 3, 3, 3, 3, 3, 3, 3, 3, 3, 3, 3, 3, 3, 3, 3,\n",
       "        3, 3, 3, 3, 3, 3, 3, 3, 3, 3, 3, 3, 3, 3, 3, 3, 3, 3, 3, 3, 3, 3,\n",
       "        3, 3, 3, 3, 3, 3, 3, 3, 3, 3, 3, 3, 3, 3, 3, 3, 3, 3, 3, 3, 3, 3,\n",
       "        3, 3, 3, 3, 3, 3, 3, 3, 3, 3, 3, 3, 3, 3, 3, 3, 3, 3, 3, 3, 3, 3,\n",
       "        3, 3, 3, 3, 3, 3, 3, 3, 3, 3, 3, 3, 3, 3, 3, 3, 3, 3, 3, 3, 3, 3,\n",
       "        3, 3, 3, 3, 3, 3, 3, 3, 3, 3, 3, 3, 3, 3, 3, 3, 3, 3, 3, 3, 3, 3,\n",
       "        3, 3, 3, 3, 3, 3, 3, 3, 3, 3, 3, 3, 3, 3, 3, 3, 3, 3, 3, 3, 3, 3,\n",
       "        3, 3, 3, 3, 3, 3, 3, 3, 3, 3, 3, 3, 3, 3, 3, 3, 3, 3, 3, 3, 3, 3,\n",
       "        3, 3, 3, 3, 3, 3, 3, 3, 3, 3, 3, 3, 3, 3], dtype=uint32),\n",
       " array([[0.51228654, 0.        , 0.89396334, 0.        , 0.583282  ,\n",
       "         0.37977967, 0.        , 0.        , 0.        , 0.        ],\n",
       "        [0.86082464, 0.        , 0.        , 0.29537702, 0.        ,\n",
       "         0.        , 0.        , 0.51280856, 0.6324379 , 0.        ],\n",
       "        [0.16401087, 0.83399713, 0.796908  , 0.98693824, 0.        ,\n",
       "         0.        , 0.        , 0.        , 0.        , 0.        ],\n",
       "        [0.12299865, 0.        , 0.        , 0.        , 0.99917537,\n",
       "         0.1828657 , 0.        , 0.45594448, 0.        , 0.        ],\n",
       "        [0.        , 0.45390037, 0.        , 0.8534569 , 0.        ,\n",
       "         0.78406423, 0.        , 0.19776365, 0.        , 0.        ],\n",
       "        [0.1423029 , 0.        , 0.        , 0.        , 0.        ,\n",
       "         0.        , 0.6472351 , 0.        , 0.31429735, 0.19298612],\n",
       "        [0.7907769 , 0.        , 0.        , 0.        , 0.712911  ,\n",
       "         0.        , 0.40409806, 0.96907926, 0.        , 0.        ],\n",
       "        [0.        , 0.5134478 , 0.        , 0.2370818 , 0.86837345,\n",
       "         0.34793904, 0.        , 0.        , 0.        , 0.        ]],\n",
       "       dtype=float32))"
      ]
     },
     "execution_count": 711,
     "metadata": {},
     "output_type": "execute_result"
    }
   ],
   "source": [
    "adata, acols, annz, b"
   ]
  },
  {
   "cell_type": "markdown",
   "id": "0c247b79",
   "metadata": {},
   "source": [
    "## MatMul (Sparse-Dense)"
   ]
  },
  {
   "cell_type": "markdown",
   "id": "aad78213",
   "metadata": {},
   "source": [
    "adata_buf = cl.Buffer(ctx, mf.READ_WRITE | mf.COPY_HOST_PTR, hostbuf=adata)\n",
    "acols_buf = cl.Buffer(ctx, mf.READ_WRITE | mf.COPY_HOST_PTR, hostbuf=acols)\n",
    "annzs_buf = cl.Buffer(ctx, mf.READ_WRITE | mf.COPY_HOST_PTR, hostbuf=annz)\n",
    "adatat_buf = cl.Buffer(ctx, mf.READ_WRITE | mf.COPY_HOST_PTR, hostbuf=adatat)\n",
    "acolst_buf = cl.Buffer(ctx, mf.READ_WRITE | mf.COPY_HOST_PTR, hostbuf=acolst)\n",
    "annzst_buf = cl.Buffer(ctx, mf.READ_WRITE | mf.COPY_HOST_PTR, hostbuf=annzt)\n",
    "b_buf = cl.Buffer(ctx, mf.READ_WRITE | mf.COPY_HOST_PTR, hostbuf=b)\n",
    "\n",
    "prg = cl.Program(ctx, \"\"\"\n",
    "    // SPARSE x DENSE\n",
    "    __kernel void matmul2(__global  float* matData,     // INPUT MATRIX DATA\n",
    "                            __global  uint*  colIdx,\n",
    "                            __global  uint*  rowNnz,\n",
    "                            uint   ellwidth,\n",
    "                            uint ncols,\n",
    "                            __global  float* vector_x,    // INPUT\n",
    "                            __global  float* vector_y    // OUTPUT\n",
    "                            ) { // LOCAL SHARED BUFFER\n",
    "      uint gid = get_global_id(0);\n",
    "      uint nrows = get_global_size(0);\n",
    "      \n",
    "\n",
    "      uint nnz    = rowNnz[gid];\n",
    "      float sum = 0;\n",
    "      for (uint gid2 = 0; gid2 < ncols; gid2++) {\n",
    "        for (uint i = 0; i < nnz; i++) {\n",
    "          uint index   = (gid * ellwidth) + i;\n",
    "          uint col     = colIdx[index];\n",
    "          float aval  = matData[index];\n",
    "          float xval  = vector_x[col*ncols+gid2];\n",
    "          //if (gid==0 && gid2==2)\n",
    "          //  printf(\"aval, xval: %.2f,%.2f: (%i,%i) \\\\n\", aval, xval, col, index);\n",
    "          sum  += aval * xval;\n",
    "        }\n",
    "        //printf(\"SUM/NNZ: %.2f %i \\\\n\", sum, nnz);\n",
    "        vector_y[gid*ncols+gid2] = sum;\n",
    "      }\n",
    "    }\"\"\").build()"
   ]
  },
  {
   "cell_type": "code",
   "execution_count": 712,
   "id": "fb0ca1f4",
   "metadata": {},
   "outputs": [],
   "source": [
    "adata_buf = cl.Buffer(ctx, mf.READ_WRITE | mf.COPY_HOST_PTR, hostbuf=adata)\n",
    "acols_buf = cl.Buffer(ctx, mf.READ_WRITE | mf.COPY_HOST_PTR, hostbuf=acols)\n",
    "annzs_buf = cl.Buffer(ctx, mf.READ_WRITE | mf.COPY_HOST_PTR, hostbuf=annz)\n",
    "adatat_buf = cl.Buffer(ctx, mf.READ_WRITE | mf.COPY_HOST_PTR, hostbuf=adatat)\n",
    "acolst_buf = cl.Buffer(ctx, mf.READ_WRITE | mf.COPY_HOST_PTR, hostbuf=acolst)\n",
    "annzst_buf = cl.Buffer(ctx, mf.READ_WRITE | mf.COPY_HOST_PTR, hostbuf=annzt)\n",
    "b_buf = cl.Buffer(ctx, mf.READ_WRITE | mf.COPY_HOST_PTR, hostbuf=b)\n",
    "\n",
    "prg = cl.Program(ctx, \"\"\"\n",
    "    // SPARSE x DENSE\n",
    "    __kernel void matmul2(__global  float* matData,     // INPUT MATRIX DATA\n",
    "                            __global  uint*  colIdx,\n",
    "                            __global  uint*  rowNnz,\n",
    "                            uint   ellwidth,\n",
    "                            uint ncols,\n",
    "                            __global  float* vector_x,    // INPUT\n",
    "                            __global  float* vector_y    // OUTPUT\n",
    "                            ) { // LOCAL SHARED BUFFER\n",
    "      uint gid = get_global_id(0);\n",
    "      uint nrows = get_global_size(0);\n",
    "      \n",
    "\n",
    "      uint nnz    = rowNnz[gid];\n",
    "      \n",
    "      for (uint gid2 = 0; gid2 < ncols; gid2++) {\n",
    "        float sum = 0;\n",
    "        for (uint i = 0; i < nnz; i++) {\n",
    "          uint index   = (gid * ellwidth) + i;\n",
    "          uint col     = colIdx[index];\n",
    "          float aval  = matData[index];\n",
    "          uint xidx = col*ncols+gid2;\n",
    "          float xval  = vector_x[xidx];\n",
    "          if (gid==0 && gid2==1)\n",
    "            printf(\"aval, xval: %.2f,%.2f: (%i,%i) - %i \\\\n\", aval, xval, col, index, xidx);\n",
    "          sum  += aval * xval;\n",
    "        }\n",
    "        //printf(\"SUM/NNZ: %.2f %i \\\\n\", sum, nnz);\n",
    "        vector_y[gid*ncols+gid2] = sum;\n",
    "      }\n",
    "    }\"\"\").build()"
   ]
  },
  {
   "cell_type": "code",
   "execution_count": 35,
   "id": "b4c85bcb",
   "metadata": {},
   "outputs": [
    {
     "data": {
      "text/plain": [
       "((32, 64), (64, 10))"
      ]
     },
     "execution_count": 35,
     "metadata": {},
     "output_type": "execute_result"
    }
   ],
   "source": [
    "a.shape, b.shape"
   ]
  },
  {
   "cell_type": "code",
   "execution_count": 36,
   "id": "c740a4fe",
   "metadata": {},
   "outputs": [],
   "source": [
    "res = np.zeros(a.shape[0]).astype(np.float32)\n",
    "#res"
   ]
  },
  {
   "cell_type": "code",
   "execution_count": 37,
   "id": "07aa4d30",
   "metadata": {},
   "outputs": [],
   "source": [
    "rows = a.shape[0]"
   ]
  },
  {
   "cell_type": "code",
   "execution_count": 38,
   "id": "98da857f",
   "metadata": {},
   "outputs": [],
   "source": [
    "mult = mult.astype(np.float32)"
   ]
  },
  {
   "cell_type": "code",
   "execution_count": 39,
   "id": "350bdb16",
   "metadata": {},
   "outputs": [
    {
     "data": {
      "text/plain": [
       "(32, 10)"
      ]
     },
     "execution_count": 39,
     "metadata": {},
     "output_type": "execute_result"
    }
   ],
   "source": [
    "outshape = (a.shape[0], b.shape[1])\n",
    "outshape"
   ]
  },
  {
   "cell_type": "code",
   "execution_count": 40,
   "id": "cc7365fc",
   "metadata": {},
   "outputs": [
    {
     "name": "stdout",
     "output_type": "stream",
     "text": [
      "aval, xval: 0.82,0.00: (0,0) - 1 \n",
      "aval, xval: 0.48,0.00: (3,1) - 31 \n",
      "aval, xval: 0.91,0.02: (4,2) - 41 \n",
      "aval, xval: 0.88,0.41: (7,3) - 71 \n",
      "aval, xval: 0.87,0.00: (11,4) - 111 \n",
      "aval, xval: 0.26,0.00: (14,5) - 141 \n",
      "aval, xval: 0.36,0.30: (15,6) - 151 \n",
      "aval, xval: 0.41,0.00: (17,7) - 171 \n",
      "aval, xval: 0.62,0.00: (20,8) - 201 \n",
      "aval, xval: 0.47,0.00: (21,9) - 211 \n",
      "aval, xval: 0.22,0.00: (28,10) - 281 \n",
      "aval, xval: 0.59,0.65: (29,11) - 291 \n",
      "aval, xval: 0.44,0.88: (31,12) - 311 \n",
      "aval, xval: 0.47,0.55: (32,13) - 321 \n",
      "aval, xval: 0.69,0.00: (33,14) - 331 \n",
      "aval, xval: 0.38,0.00: (36,15) - 361 \n",
      "aval, xval: 0.81,0.03: (37,16) - 371 \n",
      "aval, xval: 0.98,0.00: (38,17) - 381 \n"
     ]
    },
    {
     "data": {
      "text/plain": [
       "<pyopencl._cl.NannyEvent at 0x7ff154347220>"
      ]
     },
     "execution_count": 40,
     "metadata": {},
     "output_type": "execute_result"
    },
    {
     "name": "stdout",
     "output_type": "stream",
     "text": [
      "aval, xval: 0.45,0.00: (39,18) - 391 \n",
      "aval, xval: 0.29,0.45: (42,19) - 421 \n",
      "aval, xval: 0.04,0.00: (44,20) - 441 \n",
      "aval, xval: 0.28,0.15: (46,21) - 461 \n",
      "aval, xval: 0.42,0.00: (50,22) - 501 \n",
      "aval, xval: 0.39,0.00: (54,23) - 541 \n",
      "aval, xval: 0.23,0.65: (61,24) - 611 \n"
     ]
    }
   ],
   "source": [
    "res_buf = cl.Buffer(ctx, mf.READ_WRITE, np.prod(outshape)*4)\n",
    "knl = prg.matmul2  # Use this Kernel object for repeated calls\n",
    "knl(queue, [outshape[0]], None, adata_buf, acols_buf, annzs_buf, np.uint32(ellwa), np.uint32(outshape[1]), b_buf, res_buf)\n",
    "\n",
    "res_np = np.zeros(outshape).astype(np.float32)\n",
    "cl.enqueue_copy(queue, res_np, res_buf)"
   ]
  },
  {
   "cell_type": "code",
   "execution_count": 41,
   "id": "e2181f67",
   "metadata": {},
   "outputs": [
    {
     "data": {
      "text/plain": [
       "5.9604645e-07"
      ]
     },
     "execution_count": 41,
     "metadata": {},
     "output_type": "execute_result"
    }
   ],
   "source": [
    "(res_np-mult).sum()"
   ]
  },
  {
   "cell_type": "code",
   "execution_count": 42,
   "id": "79390719",
   "metadata": {},
   "outputs": [
    {
     "data": {
      "text/plain": [
       "array([[0.82272685, 0.        , 0.        , ..., 0.22595333, 0.        ,\n",
       "        0.        ],\n",
       "       [0.57626116, 0.2289813 , 0.16428949, ..., 0.27008578, 0.        ,\n",
       "        0.9652075 ],\n",
       "       [0.        , 0.48130327, 0.        , ..., 0.        , 0.12290299,\n",
       "        0.        ],\n",
       "       ...,\n",
       "       [0.8716895 , 0.10489579, 0.        , ..., 0.        , 0.39542586,\n",
       "        0.        ],\n",
       "       [0.        , 0.        , 0.        , ..., 0.5132175 , 0.9358725 ,\n",
       "        0.37984058],\n",
       "       [0.        , 0.6832084 , 0.9385753 , ..., 0.02876937, 0.        ,\n",
       "        0.        ]], dtype=float32)"
      ]
     },
     "execution_count": 42,
     "metadata": {},
     "output_type": "execute_result"
    }
   ],
   "source": [
    "a"
   ]
  },
  {
   "cell_type": "code",
   "execution_count": 43,
   "id": "a53bcc0b",
   "metadata": {},
   "outputs": [
    {
     "data": {
      "text/plain": [
       "array([[0.9414536 , 0.        , 0.        , 0.90892494, 0.        ,\n",
       "        0.        , 0.05297933, 0.        , 0.7021168 , 0.        ],\n",
       "       [0.        , 0.        , 0.14630048, 0.24825948, 0.        ,\n",
       "        0.        , 0.        , 0.7792777 , 0.31232256, 0.        ],\n",
       "       [0.        , 0.03283854, 0.27791733, 0.8543185 , 0.        ,\n",
       "        0.        , 0.8433972 , 0.        , 0.        , 0.        ],\n",
       "       [0.        , 0.        , 0.33419287, 0.19840643, 0.        ,\n",
       "        0.3856511 , 0.23348303, 0.        , 0.        , 0.        ],\n",
       "       [0.        , 0.01996238, 0.9816661 , 0.        , 0.        ,\n",
       "        0.        , 0.        , 0.5056456 , 0.        , 0.01917347],\n",
       "       [0.        , 0.        , 0.        , 0.        , 0.49159616,\n",
       "        0.0810385 , 0.64290637, 0.16045028, 0.        , 0.        ],\n",
       "       [0.        , 0.2878976 , 0.        , 0.        , 0.7058473 ,\n",
       "        0.        , 0.41645932, 0.44598925, 0.        , 0.        ],\n",
       "       [0.31479523, 0.40940058, 0.        , 0.        , 0.        ,\n",
       "        0.        , 0.49991104, 0.        , 0.79827386, 0.        ],\n",
       "       [0.11005293, 0.5290864 , 0.        , 0.31983745, 0.        ,\n",
       "        0.        , 0.        , 0.57631195, 0.        , 0.        ],\n",
       "       [0.06780045, 0.03890254, 0.        , 0.        , 0.98146695,\n",
       "        0.8737231 , 0.        , 0.        , 0.        , 0.        ],\n",
       "       [0.        , 0.7218774 , 0.40662676, 0.18507701, 0.        ,\n",
       "        0.        , 0.        , 0.        , 0.05563454, 0.        ],\n",
       "       [0.16214237, 0.        , 0.5265734 , 0.23904228, 0.        ,\n",
       "        0.        , 0.        , 0.        , 0.11824279, 0.        ],\n",
       "       [0.        , 0.6727114 , 0.01572542, 0.        , 0.44648495,\n",
       "        0.22174914, 0.        , 0.        , 0.        , 0.        ],\n",
       "       [0.6445239 , 0.8689898 , 0.78785294, 0.        , 0.        ,\n",
       "        0.        , 0.        , 0.        , 0.6352877 , 0.        ],\n",
       "       [0.50232446, 0.        , 0.        , 0.        , 0.        ,\n",
       "        0.47040063, 0.        , 0.        , 0.46875456, 0.5505951 ],\n",
       "       [0.        , 0.3043906 , 0.        , 0.        , 0.2855941 ,\n",
       "        0.        , 0.45246527, 0.03966095, 0.        , 0.        ],\n",
       "       [0.        , 0.6158326 , 0.        , 0.        , 0.        ,\n",
       "        0.55754304, 0.        , 0.8633621 , 0.        , 0.01719917],\n",
       "       [0.        , 0.        , 0.        , 0.        , 0.75643075,\n",
       "        0.        , 0.        , 0.42180747, 0.95542496, 0.1022128 ],\n",
       "       [0.        , 0.17614561, 0.4101668 , 0.        , 0.        ,\n",
       "        0.        , 0.20147614, 0.10142381, 0.        , 0.        ],\n",
       "       [0.        , 0.        , 0.        , 0.9880747 , 0.        ,\n",
       "        0.7065452 , 0.602556  , 0.48707104, 0.        , 0.        ],\n",
       "       [0.17604527, 0.        , 0.        , 0.        , 0.        ,\n",
       "        0.        , 0.        , 0.84334254, 0.8945855 , 0.72915745],\n",
       "       [0.        , 0.        , 0.        , 0.        , 0.23293144,\n",
       "        0.2350415 , 0.78704804, 0.        , 0.        , 0.20438819],\n",
       "       [0.        , 0.        , 0.        , 0.10942628, 0.00130877,\n",
       "        0.        , 0.        , 0.4094274 , 0.01082143, 0.        ],\n",
       "       [0.        , 0.        , 0.        , 0.21641734, 0.        ,\n",
       "        0.31724194, 0.35538766, 0.        , 0.        , 0.46936178],\n",
       "       [0.        , 0.        , 0.        , 0.        , 0.91353625,\n",
       "        0.        , 0.7040352 , 0.52147955, 0.49268502, 0.        ],\n",
       "       [0.        , 0.5996785 , 0.        , 0.5246723 , 0.        ,\n",
       "        0.        , 0.        , 0.9170164 , 0.47608244, 0.        ],\n",
       "       [0.        , 0.41769058, 0.        , 0.        , 0.92990875,\n",
       "        0.        , 0.22981252, 0.        , 0.        , 0.23540662],\n",
       "       [0.        , 0.22088505, 0.        , 0.        , 0.        ,\n",
       "        0.8154559 , 0.        , 0.23452929, 0.        , 0.88327533],\n",
       "       [0.42811713, 0.        , 0.94115525, 0.        , 0.34584206,\n",
       "        0.        , 0.        , 0.        , 0.1731275 , 0.        ],\n",
       "       [0.11871076, 0.64951146, 0.19040094, 0.        , 0.        ,\n",
       "        0.        , 0.        , 0.        , 0.        , 0.26224414],\n",
       "       [0.        , 0.        , 0.19905205, 0.        , 0.66453385,\n",
       "        0.9441609 , 0.17658035, 0.        , 0.        , 0.        ],\n",
       "       [0.        , 0.8829375 , 0.89167756, 0.        , 0.        ,\n",
       "        0.34762165, 0.        , 0.        , 0.02995267, 0.        ],\n",
       "       [0.        , 0.5526871 , 0.        , 0.70496935, 0.        ,\n",
       "        0.        , 0.6193049 , 0.        , 0.04075215, 0.        ],\n",
       "       [0.6127449 , 0.        , 0.01054911, 0.        , 0.72773826,\n",
       "        0.4128602 , 0.        , 0.        , 0.        , 0.        ],\n",
       "       [0.41137826, 0.45999953, 0.71848863, 0.        , 0.        ,\n",
       "        0.29980114, 0.        , 0.        , 0.        , 0.        ],\n",
       "       [0.82947165, 0.20491129, 0.        , 0.        , 0.47647813,\n",
       "        0.        , 0.39832172, 0.        , 0.        , 0.        ],\n",
       "       [0.04573116, 0.        , 0.67741925, 0.        , 0.        ,\n",
       "        0.        , 0.46088123, 0.        , 0.        , 0.39439395],\n",
       "       [0.        , 0.03375057, 0.934714  , 0.        , 0.5239845 ,\n",
       "        0.        , 0.9214213 , 0.        , 0.        , 0.        ],\n",
       "       [0.        , 0.        , 0.9567172 , 0.31415144, 0.        ,\n",
       "        0.40333778, 0.1583537 , 0.        , 0.        , 0.        ],\n",
       "       [0.04850706, 0.        , 0.8573981 , 0.        , 0.        ,\n",
       "        0.        , 0.23557614, 0.44495046, 0.        , 0.        ],\n",
       "       [0.        , 0.        , 0.        , 0.7757434 , 0.29974842,\n",
       "        0.47304207, 0.        , 0.        , 0.        , 0.97353226],\n",
       "       [0.        , 0.        , 0.04344931, 0.08597016, 0.        ,\n",
       "        0.        , 0.660472  , 0.9784147 , 0.        , 0.        ],\n",
       "       [0.        , 0.45209226, 0.7110872 , 0.        , 0.87557894,\n",
       "        0.        , 0.75961554, 0.        , 0.        , 0.        ],\n",
       "       [0.        , 0.09342512, 0.        , 0.        , 0.22442254,\n",
       "        0.01690201, 0.        , 0.        , 0.        , 0.8055896 ],\n",
       "       [0.        , 0.        , 0.09824695, 0.24463587, 0.        ,\n",
       "        0.        , 0.        , 0.32749644, 0.        , 0.45531607],\n",
       "       [0.6346003 , 0.        , 0.        , 0.00316491, 0.5720998 ,\n",
       "        0.        , 0.87135255, 0.        , 0.        , 0.        ],\n",
       "       [0.        , 0.14726698, 0.        , 0.        , 0.        ,\n",
       "        0.2944593 , 0.28086743, 0.        , 0.25112677, 0.        ],\n",
       "       [0.        , 0.        , 0.        , 0.58537555, 0.12253232,\n",
       "        0.8452076 , 0.        , 0.        , 0.        , 0.54433316],\n",
       "       [0.69351566, 0.        , 0.        , 0.50371623, 0.        ,\n",
       "        0.        , 0.9726071 , 0.7246852 , 0.        , 0.        ],\n",
       "       [0.9864582 , 0.        , 0.        , 0.        , 0.        ,\n",
       "        0.1762971 , 0.55006534, 0.        , 0.7705533 , 0.        ],\n",
       "       [0.        , 0.        , 0.09063595, 0.8334261 , 0.        ,\n",
       "        0.        , 0.        , 0.26001835, 0.        , 0.27716133],\n",
       "       [0.        , 0.        , 0.89167565, 0.05737644, 0.        ,\n",
       "        0.1275051 , 0.        , 0.        , 0.        , 0.4685573 ],\n",
       "       [0.        , 0.        , 0.        , 0.39566204, 0.        ,\n",
       "        0.        , 0.62646705, 0.12898347, 0.02942246, 0.        ],\n",
       "       [0.        , 0.84200877, 0.26646206, 0.        , 0.        ,\n",
       "        0.        , 0.23111221, 0.        , 0.        , 0.09374874],\n",
       "       [0.        , 0.        , 0.        , 0.5096388 , 0.694407  ,\n",
       "        0.        , 0.        , 0.9894679 , 0.        , 0.67805064],\n",
       "       [0.        , 0.5960935 , 0.3876133 , 0.68256104, 0.        ,\n",
       "        0.        , 0.        , 0.22186916, 0.        , 0.        ],\n",
       "       [0.        , 0.14635102, 0.        , 0.23753619, 0.        ,\n",
       "        0.        , 0.4664514 , 0.        , 0.        , 0.6143749 ],\n",
       "       [0.2653583 , 0.        , 0.        , 0.25248948, 0.        ,\n",
       "        0.        , 0.06576658, 0.9888273 , 0.        , 0.        ],\n",
       "       [0.        , 0.        , 0.        , 0.4100118 , 0.5066825 ,\n",
       "        0.9791499 , 0.        , 0.9839119 , 0.        , 0.        ],\n",
       "       [0.2264393 , 0.95835906, 0.        , 0.8496141 , 0.        ,\n",
       "        0.        , 0.        , 0.6683453 , 0.        , 0.        ],\n",
       "       [0.10093832, 0.        , 0.        , 0.        , 0.6630357 ,\n",
       "        0.19981535, 0.        , 0.        , 0.        , 0.60982734],\n",
       "       [0.        , 0.65042835, 0.        , 0.        , 0.29258844,\n",
       "        0.        , 0.        , 0.7358039 , 0.        , 0.17556284],\n",
       "       [0.        , 0.        , 0.17079917, 0.13851656, 0.9781894 ,\n",
       "        0.0680179 , 0.        , 0.        , 0.        , 0.        ],\n",
       "       [0.        , 0.        , 0.        , 0.        , 0.3358856 ,\n",
       "        0.79898566, 0.48625088, 0.        , 0.        , 0.5448863 ]],\n",
       "      dtype=float32)"
      ]
     },
     "execution_count": 43,
     "metadata": {},
     "output_type": "execute_result"
    }
   ],
   "source": [
    "b"
   ]
  },
  {
   "cell_type": "code",
   "execution_count": 44,
   "id": "33d8a584",
   "metadata": {},
   "outputs": [
    {
     "data": {
      "text/plain": [
       "<pyopencl._cl.Buffer at 0x7ff1541fd770>"
      ]
     },
     "execution_count": 44,
     "metadata": {},
     "output_type": "execute_result"
    }
   ],
   "source": [
    "res_buf"
   ]
  },
  {
   "cell_type": "code",
   "execution_count": 45,
   "id": "99faec15",
   "metadata": {},
   "outputs": [
    {
     "data": {
      "text/plain": [
       "array([[2.0588999 , 1.8681664 , 4.811817  , 2.2529387 , 2.1096544 ,\n",
       "        1.3379606 , 2.9000037 , 2.0491414 , 2.5897803 , 1.5031604 ],\n",
       "       [2.732146  , 2.5565495 , 3.714852  , 1.967403  , 2.7812793 ,\n",
       "        3.9070148 , 3.2777538 , 2.2969038 , 1.9229925 , 2.6556396 ],\n",
       "       [1.928745  , 3.1600957 , 2.6502829 , 1.8178726 , 3.2470448 ,\n",
       "        2.285428  , 2.6365926 , 2.5166864 , 1.070901  , 2.0605705 ],\n",
       "       [1.063185  , 4.1737986 , 2.2277255 , 1.2515675 , 4.1827664 ,\n",
       "        1.2915825 , 1.3805095 , 3.4198837 , 1.0256768 , 2.7755067 ],\n",
       "       [1.1833991 , 1.8557596 , 3.0534244 , 1.0722461 , 3.4905617 ,\n",
       "        1.643646  , 3.453313  , 3.808668  , 0.65044206, 2.0563726 ],\n",
       "       [1.0461621 , 3.5566838 , 3.2101297 , 1.572406  , 2.2809083 ,\n",
       "        1.8500901 , 1.3386623 , 4.39698   , 1.5621432 , 1.7725785 ],\n",
       "       [1.5166444 , 2.5048141 , 1.3417709 , 3.5234869 , 2.7652483 ,\n",
       "        1.1395355 , 2.25748   , 4.705172  , 2.2430854 , 1.8194562 ],\n",
       "       [1.6907904 , 2.3283677 , 1.7894993 , 2.1847265 , 2.8551002 ,\n",
       "        0.79378396, 1.7964936 , 3.5471232 , 1.9625643 , 1.3657154 ],\n",
       "       [1.2141374 , 2.9877534 , 3.1018186 , 3.629979  , 3.6487942 ,\n",
       "        1.808532  , 2.6615262 , 3.3801854 , 2.1941547 , 2.0062847 ],\n",
       "       [2.0491679 , 3.8442254 , 5.2590375 , 2.6086452 , 2.5204127 ,\n",
       "        2.845815  , 2.089722  , 2.0366    , 1.8493687 , 2.002032  ],\n",
       "       [1.4538853 , 3.52397   , 3.426971  , 0.94891644, 3.4088016 ,\n",
       "        1.826241  , 2.6029367 , 2.0418024 , 2.1847632 , 0.74823964],\n",
       "       [2.1386282 , 2.708146  , 1.742439  , 2.366699  , 2.55557   ,\n",
       "        1.021245  , 2.8354404 , 3.1261184 , 1.642767  , 1.4917253 ],\n",
       "       [2.2865992 , 3.9609175 , 3.3584628 , 2.9336588 , 2.459155  ,\n",
       "        2.2523775 , 2.647436  , 0.89587307, 2.0110953 , 2.1063092 ],\n",
       "       [1.9966788 , 2.9262302 , 4.8778872 , 1.2208712 , 3.4192896 ,\n",
       "        2.3487628 , 2.9560015 , 1.5107096 , 1.5358572 , 1.5315988 ],\n",
       "       [0.48399195, 2.1673245 , 2.2968588 , 2.7774973 , 2.5966098 ,\n",
       "        3.4832177 , 2.690391  , 4.0917354 , 0.23865944, 2.9819653 ],\n",
       "       [2.0954764 , 2.4307942 , 3.4558418 , 2.9896178 , 1.5231056 ,\n",
       "        3.422842  , 3.3150718 , 3.5051725 , 2.1653447 , 3.1134186 ],\n",
       "       [1.5846765 , 2.661023  , 2.4769669 , 3.470964  , 1.4431835 ,\n",
       "        2.3999262 , 3.9011345 , 3.248538  , 1.4247626 , 1.2602935 ],\n",
       "       [0.49207467, 2.325397  , 2.2815886 , 2.2696066 , 3.3333156 ,\n",
       "        2.4349878 , 2.0514407 , 3.2246497 , 1.6171042 , 1.6073767 ],\n",
       "       [2.5375338 , 2.4817715 , 2.6368468 , 2.0569093 , 4.3929462 ,\n",
       "        1.4862403 , 3.4939742 , 2.2332757 , 1.7737362 , 1.7618244 ],\n",
       "       [2.0678236 , 1.8836694 , 1.3364539 , 1.7425246 , 2.3898618 ,\n",
       "        1.1566195 , 2.628559  , 3.6502156 , 2.121294  , 1.3199686 ],\n",
       "       [1.8444016 , 2.2461612 , 3.215194  , 3.8432117 , 2.2398164 ,\n",
       "        1.8269355 , 4.414732  , 3.723146  , 0.50411344, 2.1435022 ],\n",
       "       [2.6537714 , 1.1732535 , 3.0079815 , 2.5904036 , 3.0474715 ,\n",
       "        1.8404907 , 2.6261342 , 1.1304994 , 1.8776394 , 0.85143405],\n",
       "       [0.6337883 , 3.3086834 , 1.4530784 , 2.515975  , 3.5047786 ,\n",
       "        1.1553439 , 2.8253915 , 3.52668   , 1.043268  , 2.3298826 ],\n",
       "       [1.3287122 , 2.5962925 , 1.9194646 , 1.8967655 , 5.310211  ,\n",
       "        2.868525  , 3.0769377 , 1.7588413 , 0.40501967, 2.9207122 ],\n",
       "       [0.8400132 , 2.0994346 , 2.1460192 , 1.5991999 , 2.2363923 ,\n",
       "        1.5488654 , 3.2248628 , 1.790886  , 0.7113455 , 2.6308084 ],\n",
       "       [0.95923513, 2.4799027 , 2.5939333 , 3.6836724 , 2.6314456 ,\n",
       "        2.4646401 , 3.5725472 , 3.2010999 , 1.1519556 , 1.662165  ],\n",
       "       [0.8192116 , 1.8272312 , 1.7956812 , 1.8296846 , 2.9964643 ,\n",
       "        2.2758195 , 2.3479476 , 2.8243024 , 1.1362125 , 2.8853436 ],\n",
       "       [3.6204023 , 1.9968115 , 1.7490085 , 2.9469259 , 3.12177   ,\n",
       "        2.235736  , 5.2850986 , 1.5726625 , 1.4582067 , 1.2513807 ],\n",
       "       [1.0327702 , 2.8972733 , 2.6707854 , 1.6554503 , 3.8221254 ,\n",
       "        2.0219557 , 2.4419677 , 3.9295774 , 1.2823715 , 1.2512529 ],\n",
       "       [1.928727  , 1.5045325 , 3.3143744 , 3.7100651 , 3.0415392 ,\n",
       "        1.8443445 , 2.0636263 , 2.327687  , 1.2617    , 1.081305  ],\n",
       "       [1.5923332 , 3.816273  , 3.0520546 , 0.9159544 , 4.5526114 ,\n",
       "        1.9873203 , 2.4606779 , 2.2672033 , 0.9068908 , 1.9620786 ],\n",
       "       [1.0044551 , 3.294622  , 1.9445477 , 3.2131855 , 3.7743635 ,\n",
       "        2.9366598 , 3.0328484 , 2.7435503 , 1.2155869 , 0.9583244 ]],\n",
       "      dtype=float32)"
      ]
     },
     "execution_count": 45,
     "metadata": {},
     "output_type": "execute_result"
    }
   ],
   "source": [
    "res_np"
   ]
  },
  {
   "cell_type": "code",
   "execution_count": 46,
   "id": "4da1c066",
   "metadata": {},
   "outputs": [
    {
     "data": {
      "text/plain": [
       "array([[2.0588999 , 1.8681664 , 4.811817  , 2.2529387 , 2.1096544 ,\n",
       "        1.3379606 , 2.9000037 , 2.0491414 , 2.5897803 , 1.5031604 ],\n",
       "       [2.732146  , 2.5565495 , 3.714852  , 1.967403  , 2.7812793 ,\n",
       "        3.9070148 , 3.2777538 , 2.2969038 , 1.9229925 , 2.6556396 ],\n",
       "       [1.928745  , 3.1600957 , 2.6502829 , 1.8178726 , 3.2470448 ,\n",
       "        2.285428  , 2.6365926 , 2.5166864 , 1.070901  , 2.0605705 ],\n",
       "       [1.063185  , 4.1737986 , 2.2277255 , 1.2515675 , 4.1827664 ,\n",
       "        1.2915825 , 1.3805095 , 3.4198837 , 1.0256768 , 2.7755067 ],\n",
       "       [1.1833991 , 1.8557596 , 3.0534244 , 1.0722461 , 3.4905617 ,\n",
       "        1.643646  , 3.453313  , 3.808668  , 0.65044206, 2.0563726 ],\n",
       "       [1.0461621 , 3.5566838 , 3.2101297 , 1.572406  , 2.2809083 ,\n",
       "        1.8500901 , 1.3386623 , 4.39698   , 1.5621432 , 1.7725785 ],\n",
       "       [1.5166444 , 2.5048141 , 1.3417709 , 3.5234869 , 2.7652483 ,\n",
       "        1.1395355 , 2.25748   , 4.705172  , 2.2430854 , 1.8194562 ],\n",
       "       [1.6907904 , 2.3283677 , 1.7894993 , 2.1847265 , 2.8551002 ,\n",
       "        0.79378396, 1.7964936 , 3.5471232 , 1.9625643 , 1.3657154 ],\n",
       "       [1.2141374 , 2.9877534 , 3.1018186 , 3.629979  , 3.6487942 ,\n",
       "        1.808532  , 2.6615262 , 3.3801854 , 2.1941547 , 2.0062847 ],\n",
       "       [2.0491679 , 3.8442254 , 5.2590375 , 2.6086452 , 2.5204127 ,\n",
       "        2.845815  , 2.089722  , 2.0366    , 1.8493687 , 2.002032  ],\n",
       "       [1.4538853 , 3.52397   , 3.426971  , 0.94891644, 3.4088016 ,\n",
       "        1.826241  , 2.6029367 , 2.0418024 , 2.1847632 , 0.74823964],\n",
       "       [2.1386282 , 2.708146  , 1.742439  , 2.366699  , 2.55557   ,\n",
       "        1.021245  , 2.8354404 , 3.1261184 , 1.642767  , 1.4917253 ],\n",
       "       [2.2865992 , 3.9609175 , 3.3584628 , 2.9336588 , 2.459155  ,\n",
       "        2.2523775 , 2.647436  , 0.89587307, 2.0110953 , 2.1063092 ],\n",
       "       [1.9966788 , 2.9262302 , 4.8778872 , 1.2208712 , 3.4192896 ,\n",
       "        2.3487628 , 2.9560015 , 1.5107096 , 1.5358572 , 1.5315988 ],\n",
       "       [0.48399195, 2.1673245 , 2.2968588 , 2.7774973 , 2.5966098 ,\n",
       "        3.4832177 , 2.690391  , 4.0917354 , 0.23865944, 2.9819653 ],\n",
       "       [2.0954764 , 2.4307942 , 3.4558418 , 2.9896178 , 1.5231056 ,\n",
       "        3.422842  , 3.3150718 , 3.5051725 , 2.1653447 , 3.1134186 ],\n",
       "       [1.5846765 , 2.661023  , 2.4769669 , 3.470964  , 1.4431835 ,\n",
       "        2.3999262 , 3.9011345 , 3.248538  , 1.4247626 , 1.2602935 ],\n",
       "       [0.49207467, 2.325397  , 2.2815886 , 2.2696066 , 3.3333156 ,\n",
       "        2.4349878 , 2.0514407 , 3.2246497 , 1.6171042 , 1.6073767 ],\n",
       "       [2.5375338 , 2.4817715 , 2.6368468 , 2.0569093 , 4.3929462 ,\n",
       "        1.4862403 , 3.4939742 , 2.2332757 , 1.7737362 , 1.7618244 ],\n",
       "       [2.0678236 , 1.8836694 , 1.3364539 , 1.7425246 , 2.3898618 ,\n",
       "        1.1566195 , 2.628559  , 3.6502156 , 2.121294  , 1.3199686 ],\n",
       "       [1.8444016 , 2.2461612 , 3.215194  , 3.8432117 , 2.2398164 ,\n",
       "        1.8269355 , 4.414732  , 3.723146  , 0.50411344, 2.1435022 ],\n",
       "       [2.6537714 , 1.1732535 , 3.0079815 , 2.5904036 , 3.0474715 ,\n",
       "        1.8404907 , 2.6261342 , 1.1304994 , 1.8776394 , 0.85143405],\n",
       "       [0.6337883 , 3.3086834 , 1.4530784 , 2.515975  , 3.5047786 ,\n",
       "        1.1553439 , 2.8253915 , 3.52668   , 1.043268  , 2.3298826 ],\n",
       "       [1.3287122 , 2.5962925 , 1.9194646 , 1.8967655 , 5.310211  ,\n",
       "        2.868525  , 3.0769377 , 1.7588413 , 0.40501967, 2.9207122 ],\n",
       "       [0.84001315, 2.0994346 , 2.1460192 , 1.5992    , 2.236392  ,\n",
       "        1.5488653 , 3.224863  , 1.7908863 , 0.7113455 , 2.6308084 ],\n",
       "       [0.9592351 , 2.4799027 , 2.593933  , 3.6836722 , 2.6314456 ,\n",
       "        2.4646401 , 3.572547  , 3.2011003 , 1.1519556 , 1.662165  ],\n",
       "       [0.8192115 , 1.8272312 , 1.7956815 , 1.8296847 , 2.9964643 ,\n",
       "        2.2758198 , 2.3479474 , 2.8243022 , 1.1362125 , 2.8853436 ],\n",
       "       [3.6204023 , 1.9968116 , 1.7490085 , 2.9469256 , 3.12177   ,\n",
       "        2.235736  , 5.2850986 , 1.5726624 , 1.4582067 , 1.2513807 ],\n",
       "       [1.0327702 , 2.8972735 , 2.6707854 , 1.6554506 , 3.8221254 ,\n",
       "        2.0219557 , 2.4419675 , 3.9295774 , 1.2823715 , 1.2512529 ],\n",
       "       [1.9287269 , 1.5045323 , 3.3143744 , 3.7100654 , 3.0415392 ,\n",
       "        1.8443446 , 2.0636263 , 2.3276868 , 1.2617    , 1.081305  ],\n",
       "       [1.5923332 , 3.8162732 , 3.0520544 , 0.9159544 , 4.5526114 ,\n",
       "        1.9873202 , 2.4606779 , 2.2672033 , 0.9068908 , 1.9620786 ],\n",
       "       [1.0044551 , 3.2946215 , 1.9445477 , 3.2131855 , 3.7743635 ,\n",
       "        2.93666   , 3.0328484 , 2.7435503 , 1.2155869 , 0.9583244 ]],\n",
       "      dtype=float32)"
      ]
     },
     "execution_count": 46,
     "metadata": {},
     "output_type": "execute_result"
    }
   ],
   "source": [
    "mult"
   ]
  },
  {
   "cell_type": "code",
   "execution_count": 47,
   "id": "0ca8d088",
   "metadata": {},
   "outputs": [
    {
     "data": {
      "text/plain": [
       "array([[ True,  True,  True,  True,  True,  True,  True,  True,  True,\n",
       "         True],\n",
       "       [ True,  True,  True,  True,  True,  True,  True,  True,  True,\n",
       "         True],\n",
       "       [ True,  True,  True,  True,  True,  True,  True,  True,  True,\n",
       "         True],\n",
       "       [ True,  True,  True,  True,  True,  True,  True,  True,  True,\n",
       "         True],\n",
       "       [ True,  True,  True,  True,  True,  True,  True,  True,  True,\n",
       "         True],\n",
       "       [ True,  True,  True,  True,  True,  True,  True,  True,  True,\n",
       "         True],\n",
       "       [ True,  True,  True,  True,  True,  True,  True,  True,  True,\n",
       "         True],\n",
       "       [ True,  True,  True,  True,  True,  True,  True,  True,  True,\n",
       "         True],\n",
       "       [ True,  True,  True,  True,  True,  True,  True,  True,  True,\n",
       "         True],\n",
       "       [ True,  True,  True,  True,  True,  True,  True,  True,  True,\n",
       "         True],\n",
       "       [ True,  True,  True,  True,  True,  True,  True,  True,  True,\n",
       "         True],\n",
       "       [ True,  True,  True,  True,  True,  True,  True,  True,  True,\n",
       "         True],\n",
       "       [ True,  True,  True,  True,  True,  True,  True,  True,  True,\n",
       "         True],\n",
       "       [ True,  True,  True,  True,  True,  True,  True,  True,  True,\n",
       "         True],\n",
       "       [ True,  True,  True,  True,  True,  True,  True,  True,  True,\n",
       "         True],\n",
       "       [ True,  True,  True,  True,  True,  True,  True,  True,  True,\n",
       "         True],\n",
       "       [ True,  True,  True,  True,  True,  True,  True,  True,  True,\n",
       "         True],\n",
       "       [ True,  True,  True,  True,  True,  True,  True,  True,  True,\n",
       "         True],\n",
       "       [ True,  True,  True,  True,  True,  True,  True,  True,  True,\n",
       "         True],\n",
       "       [ True,  True,  True,  True,  True,  True,  True,  True,  True,\n",
       "         True],\n",
       "       [ True,  True,  True,  True,  True,  True,  True,  True,  True,\n",
       "         True],\n",
       "       [ True,  True,  True,  True,  True,  True,  True,  True,  True,\n",
       "         True],\n",
       "       [ True,  True,  True,  True,  True,  True,  True,  True,  True,\n",
       "         True],\n",
       "       [ True,  True,  True,  True,  True,  True,  True,  True,  True,\n",
       "         True],\n",
       "       [False,  True,  True, False, False, False, False, False,  True,\n",
       "         True],\n",
       "       [False,  True, False, False,  True,  True, False, False,  True,\n",
       "         True],\n",
       "       [False,  True, False, False,  True, False, False, False,  True,\n",
       "         True],\n",
       "       [ True, False,  True, False,  True,  True,  True, False,  True,\n",
       "         True],\n",
       "       [ True, False,  True, False,  True,  True, False,  True,  True,\n",
       "         True],\n",
       "       [False, False,  True, False,  True, False,  True, False,  True,\n",
       "         True],\n",
       "       [ True, False, False,  True,  True, False,  True,  True,  True,\n",
       "         True],\n",
       "       [ True, False,  True,  True,  True, False,  True,  True,  True,\n",
       "         True]])"
      ]
     },
     "execution_count": 47,
     "metadata": {},
     "output_type": "execute_result"
    }
   ],
   "source": [
    "res_np==mult"
   ]
  },
  {
   "cell_type": "code",
   "execution_count": 48,
   "id": "c197fea2",
   "metadata": {},
   "outputs": [
    {
     "data": {
      "text/plain": [
       "(32, 10)"
      ]
     },
     "execution_count": 48,
     "metadata": {},
     "output_type": "execute_result"
    }
   ],
   "source": [
    "res_np.shape"
   ]
  },
  {
   "cell_type": "code",
   "execution_count": 49,
   "id": "b20b9da3",
   "metadata": {},
   "outputs": [
    {
     "data": {
      "text/plain": [
       "(32, 10)"
      ]
     },
     "execution_count": 49,
     "metadata": {},
     "output_type": "execute_result"
    }
   ],
   "source": [
    "mult.shape"
   ]
  },
  {
   "cell_type": "markdown",
   "id": "020471e7",
   "metadata": {},
   "source": [
    "## MatMul (dense * sparse)"
   ]
  },
  {
   "cell_type": "code",
   "execution_count": 50,
   "id": "dc619c6d",
   "metadata": {},
   "outputs": [],
   "source": [
    "bdata_buf = cl.Buffer(ctx, mf.READ_WRITE | mf.COPY_HOST_PTR, hostbuf=bdata)\n",
    "bcols_buf = cl.Buffer(ctx, mf.READ_WRITE | mf.COPY_HOST_PTR, hostbuf=bcols)\n",
    "bnnzs_buf = cl.Buffer(ctx, mf.READ_WRITE | mf.COPY_HOST_PTR, hostbuf=bnnz)\n",
    "bdatat_buf = cl.Buffer(ctx, mf.READ_WRITE | mf.COPY_HOST_PTR, hostbuf=bdatat)\n",
    "bcolst_buf = cl.Buffer(ctx, mf.READ_WRITE | mf.COPY_HOST_PTR, hostbuf=bcolst)\n",
    "bnnzst_buf = cl.Buffer(ctx, mf.READ_WRITE | mf.COPY_HOST_PTR, hostbuf=bnnzt)\n",
    "a_buf = cl.Buffer(ctx, mf.READ_WRITE | mf.COPY_HOST_PTR, hostbuf=a)\n",
    "\n",
    "prg = cl.Program(ctx, \"\"\"\n",
    "    // DENSE x SPARSE\n",
    "    __kernel void matmul(__global  float* matData,     // INPUT MATRIX DATA\n",
    "                            __global  uint*  colIdx,\n",
    "                            __global  uint*  rowNnz,\n",
    "                            uint   ellwidth,\n",
    "                            uint   mwidth,\n",
    "                            uint   ncols,\n",
    "                            __global  float* vector_x,    // INPUT\n",
    "                            __global  float* vector_y    // OUTPUT\n",
    "                            ) { // LOCAL SHARED BUFFER\n",
    "      uint gid = get_global_id(0);\n",
    "      uint nrows = get_global_size(0);\n",
    "\n",
    "      for (uint gid2 = 0; gid2 < ncols; gid2++) {\n",
    "        uint nnz = rowNnz[gid2];\n",
    "        float sum = 0;\n",
    "        for (uint i = 0; i < nnz; i++) {\n",
    "          uint index   = (gid2 * ellwidth) + i;\n",
    "          uint col     = colIdx[index];\n",
    "          float aval  = matData[index];\n",
    "          float xval  = vector_x[gid*mwidth+col];\n",
    "          sum  += aval * xval;\n",
    "          if (gid==0 && gid2==0)\n",
    "            printf(\"aval, xval: %.2f,%.2f - %.2f: (%i,%i) \\\\n\", aval, xval, sum, col, index);\n",
    "        }\n",
    "        //printf(\"SUM/NNZ: %.2f %i \\\\n\", sum, nnz);\n",
    "        vector_y[gid*ncols+gid2] = sum;\n",
    "      }\n",
    "    }\"\"\").build()"
   ]
  },
  {
   "cell_type": "code",
   "execution_count": 51,
   "id": "65b33635",
   "metadata": {},
   "outputs": [
    {
     "data": {
      "text/plain": [
       "((32, 64), (64, 10))"
      ]
     },
     "execution_count": 51,
     "metadata": {},
     "output_type": "execute_result"
    }
   ],
   "source": [
    "a.shape, b.shape"
   ]
  },
  {
   "cell_type": "code",
   "execution_count": 52,
   "id": "1133e820",
   "metadata": {},
   "outputs": [],
   "source": [
    "res = np.zeros(a.shape[0]).astype(np.float32)\n",
    "#res"
   ]
  },
  {
   "cell_type": "code",
   "execution_count": 53,
   "id": "c5fb4354",
   "metadata": {},
   "outputs": [],
   "source": [
    "rows = a.shape[0]"
   ]
  },
  {
   "cell_type": "code",
   "execution_count": 54,
   "id": "c687e0e1",
   "metadata": {},
   "outputs": [
    {
     "data": {
      "text/plain": [
       "((32, 64), (64, 10))"
      ]
     },
     "execution_count": 54,
     "metadata": {},
     "output_type": "execute_result"
    }
   ],
   "source": [
    "a.shape, b.shape"
   ]
  },
  {
   "cell_type": "code",
   "execution_count": 55,
   "id": "2d2074e5",
   "metadata": {},
   "outputs": [],
   "source": [
    "mult = a.dot(b)\n",
    "mult = mult.astype(np.float32)"
   ]
  },
  {
   "cell_type": "code",
   "execution_count": 56,
   "id": "62207659",
   "metadata": {},
   "outputs": [
    {
     "data": {
      "text/plain": [
       "array([32, 10])"
      ]
     },
     "execution_count": 56,
     "metadata": {},
     "output_type": "execute_result"
    }
   ],
   "source": [
    "outshape = np.array([a.shape[0], b.shape[1]])\n",
    "outshape"
   ]
  },
  {
   "cell_type": "code",
   "execution_count": 57,
   "id": "48bda7d1",
   "metadata": {},
   "outputs": [
    {
     "data": {
      "text/plain": [
       "array([[0.9414536 , 0.        , 0.        , 0.        , 0.        ,\n",
       "        0.        , 0.        , 0.31479523, 0.11005293, 0.06780045,\n",
       "        0.        , 0.16214237, 0.        , 0.6445239 , 0.50232446,\n",
       "        0.        , 0.        , 0.        , 0.        , 0.        ,\n",
       "        0.17604527, 0.        , 0.        , 0.        , 0.        ,\n",
       "        0.        , 0.        , 0.        , 0.42811713, 0.11871076,\n",
       "        0.        , 0.        , 0.        , 0.6127449 , 0.41137826,\n",
       "        0.82947165, 0.04573116, 0.        , 0.        , 0.04850706,\n",
       "        0.        , 0.        , 0.        , 0.        , 0.        ,\n",
       "        0.6346003 , 0.        , 0.        , 0.69351566, 0.9864582 ,\n",
       "        0.        , 0.        , 0.        , 0.        , 0.        ,\n",
       "        0.        , 0.        , 0.2653583 , 0.        , 0.2264393 ,\n",
       "        0.10093832, 0.        , 0.        , 0.        ],\n",
       "       [0.        , 0.        , 0.03283854, 0.        , 0.01996238,\n",
       "        0.        , 0.2878976 , 0.40940058, 0.5290864 , 0.03890254,\n",
       "        0.7218774 , 0.        , 0.6727114 , 0.8689898 , 0.        ,\n",
       "        0.3043906 , 0.6158326 , 0.        , 0.17614561, 0.        ,\n",
       "        0.        , 0.        , 0.        , 0.        , 0.        ,\n",
       "        0.5996785 , 0.41769058, 0.22088505, 0.        , 0.64951146,\n",
       "        0.        , 0.8829375 , 0.5526871 , 0.        , 0.45999953,\n",
       "        0.20491129, 0.        , 0.03375057, 0.        , 0.        ,\n",
       "        0.        , 0.        , 0.45209226, 0.09342512, 0.        ,\n",
       "        0.        , 0.14726698, 0.        , 0.        , 0.        ,\n",
       "        0.        , 0.        , 0.        , 0.84200877, 0.        ,\n",
       "        0.5960935 , 0.14635102, 0.        , 0.        , 0.95835906,\n",
       "        0.        , 0.65042835, 0.        , 0.        ],\n",
       "       [0.        , 0.14630048, 0.27791733, 0.33419287, 0.9816661 ,\n",
       "        0.        , 0.        , 0.        , 0.        , 0.        ,\n",
       "        0.40662676, 0.5265734 , 0.01572542, 0.78785294, 0.        ,\n",
       "        0.        , 0.        , 0.        , 0.4101668 , 0.        ,\n",
       "        0.        , 0.        , 0.        , 0.        , 0.        ,\n",
       "        0.        , 0.        , 0.        , 0.94115525, 0.19040094,\n",
       "        0.19905205, 0.89167756, 0.        , 0.01054911, 0.71848863,\n",
       "        0.        , 0.67741925, 0.934714  , 0.9567172 , 0.8573981 ,\n",
       "        0.        , 0.04344931, 0.7110872 , 0.        , 0.09824695,\n",
       "        0.        , 0.        , 0.        , 0.        , 0.        ,\n",
       "        0.09063595, 0.89167565, 0.        , 0.26646206, 0.        ,\n",
       "        0.3876133 , 0.        , 0.        , 0.        , 0.        ,\n",
       "        0.        , 0.        , 0.17079917, 0.        ],\n",
       "       [0.90892494, 0.24825948, 0.8543185 , 0.19840643, 0.        ,\n",
       "        0.        , 0.        , 0.        , 0.31983745, 0.        ,\n",
       "        0.18507701, 0.23904228, 0.        , 0.        , 0.        ,\n",
       "        0.        , 0.        , 0.        , 0.        , 0.9880747 ,\n",
       "        0.        , 0.        , 0.10942628, 0.21641734, 0.        ,\n",
       "        0.5246723 , 0.        , 0.        , 0.        , 0.        ,\n",
       "        0.        , 0.        , 0.70496935, 0.        , 0.        ,\n",
       "        0.        , 0.        , 0.        , 0.31415144, 0.        ,\n",
       "        0.7757434 , 0.08597016, 0.        , 0.        , 0.24463587,\n",
       "        0.00316491, 0.        , 0.58537555, 0.50371623, 0.        ,\n",
       "        0.8334261 , 0.05737644, 0.39566204, 0.        , 0.5096388 ,\n",
       "        0.68256104, 0.23753619, 0.25248948, 0.4100118 , 0.8496141 ,\n",
       "        0.        , 0.        , 0.13851656, 0.        ],\n",
       "       [0.        , 0.        , 0.        , 0.        , 0.        ,\n",
       "        0.49159616, 0.7058473 , 0.        , 0.        , 0.98146695,\n",
       "        0.        , 0.        , 0.44648495, 0.        , 0.        ,\n",
       "        0.2855941 , 0.        , 0.75643075, 0.        , 0.        ,\n",
       "        0.        , 0.23293144, 0.00130877, 0.        , 0.91353625,\n",
       "        0.        , 0.92990875, 0.        , 0.34584206, 0.        ,\n",
       "        0.66453385, 0.        , 0.        , 0.72773826, 0.        ,\n",
       "        0.47647813, 0.        , 0.5239845 , 0.        , 0.        ,\n",
       "        0.29974842, 0.        , 0.87557894, 0.22442254, 0.        ,\n",
       "        0.5720998 , 0.        , 0.12253232, 0.        , 0.        ,\n",
       "        0.        , 0.        , 0.        , 0.        , 0.694407  ,\n",
       "        0.        , 0.        , 0.        , 0.5066825 , 0.        ,\n",
       "        0.6630357 , 0.29258844, 0.9781894 , 0.3358856 ],\n",
       "       [0.        , 0.        , 0.        , 0.3856511 , 0.        ,\n",
       "        0.0810385 , 0.        , 0.        , 0.        , 0.8737231 ,\n",
       "        0.        , 0.        , 0.22174914, 0.        , 0.47040063,\n",
       "        0.        , 0.55754304, 0.        , 0.        , 0.7065452 ,\n",
       "        0.        , 0.2350415 , 0.        , 0.31724194, 0.        ,\n",
       "        0.        , 0.        , 0.8154559 , 0.        , 0.        ,\n",
       "        0.9441609 , 0.34762165, 0.        , 0.4128602 , 0.29980114,\n",
       "        0.        , 0.        , 0.        , 0.40333778, 0.        ,\n",
       "        0.47304207, 0.        , 0.        , 0.01690201, 0.        ,\n",
       "        0.        , 0.2944593 , 0.8452076 , 0.        , 0.1762971 ,\n",
       "        0.        , 0.1275051 , 0.        , 0.        , 0.        ,\n",
       "        0.        , 0.        , 0.        , 0.9791499 , 0.        ,\n",
       "        0.19981535, 0.        , 0.0680179 , 0.79898566],\n",
       "       [0.05297933, 0.        , 0.8433972 , 0.23348303, 0.        ,\n",
       "        0.64290637, 0.41645932, 0.49991104, 0.        , 0.        ,\n",
       "        0.        , 0.        , 0.        , 0.        , 0.        ,\n",
       "        0.45246527, 0.        , 0.        , 0.20147614, 0.602556  ,\n",
       "        0.        , 0.78704804, 0.        , 0.35538766, 0.7040352 ,\n",
       "        0.        , 0.22981252, 0.        , 0.        , 0.        ,\n",
       "        0.17658035, 0.        , 0.6193049 , 0.        , 0.        ,\n",
       "        0.39832172, 0.46088123, 0.9214213 , 0.1583537 , 0.23557614,\n",
       "        0.        , 0.660472  , 0.75961554, 0.        , 0.        ,\n",
       "        0.87135255, 0.28086743, 0.        , 0.9726071 , 0.55006534,\n",
       "        0.        , 0.        , 0.62646705, 0.23111221, 0.        ,\n",
       "        0.        , 0.4664514 , 0.06576658, 0.        , 0.        ,\n",
       "        0.        , 0.        , 0.        , 0.48625088],\n",
       "       [0.        , 0.7792777 , 0.        , 0.        , 0.5056456 ,\n",
       "        0.16045028, 0.44598925, 0.        , 0.57631195, 0.        ,\n",
       "        0.        , 0.        , 0.        , 0.        , 0.        ,\n",
       "        0.03966095, 0.8633621 , 0.42180747, 0.10142381, 0.48707104,\n",
       "        0.84334254, 0.        , 0.4094274 , 0.        , 0.52147955,\n",
       "        0.9170164 , 0.        , 0.23452929, 0.        , 0.        ,\n",
       "        0.        , 0.        , 0.        , 0.        , 0.        ,\n",
       "        0.        , 0.        , 0.        , 0.        , 0.44495046,\n",
       "        0.        , 0.9784147 , 0.        , 0.        , 0.32749644,\n",
       "        0.        , 0.        , 0.        , 0.7246852 , 0.        ,\n",
       "        0.26001835, 0.        , 0.12898347, 0.        , 0.9894679 ,\n",
       "        0.22186916, 0.        , 0.9888273 , 0.9839119 , 0.6683453 ,\n",
       "        0.        , 0.7358039 , 0.        , 0.        ],\n",
       "       [0.7021168 , 0.31232256, 0.        , 0.        , 0.        ,\n",
       "        0.        , 0.        , 0.79827386, 0.        , 0.        ,\n",
       "        0.05563454, 0.11824279, 0.        , 0.6352877 , 0.46875456,\n",
       "        0.        , 0.        , 0.95542496, 0.        , 0.        ,\n",
       "        0.8945855 , 0.        , 0.01082143, 0.        , 0.49268502,\n",
       "        0.47608244, 0.        , 0.        , 0.1731275 , 0.        ,\n",
       "        0.        , 0.02995267, 0.04075215, 0.        , 0.        ,\n",
       "        0.        , 0.        , 0.        , 0.        , 0.        ,\n",
       "        0.        , 0.        , 0.        , 0.        , 0.        ,\n",
       "        0.        , 0.25112677, 0.        , 0.        , 0.7705533 ,\n",
       "        0.        , 0.        , 0.02942246, 0.        , 0.        ,\n",
       "        0.        , 0.        , 0.        , 0.        , 0.        ,\n",
       "        0.        , 0.        , 0.        , 0.        ],\n",
       "       [0.        , 0.        , 0.        , 0.        , 0.01917347,\n",
       "        0.        , 0.        , 0.        , 0.        , 0.        ,\n",
       "        0.        , 0.        , 0.        , 0.        , 0.5505951 ,\n",
       "        0.        , 0.01719917, 0.1022128 , 0.        , 0.        ,\n",
       "        0.72915745, 0.20438819, 0.        , 0.46936178, 0.        ,\n",
       "        0.        , 0.23540662, 0.88327533, 0.        , 0.26224414,\n",
       "        0.        , 0.        , 0.        , 0.        , 0.        ,\n",
       "        0.        , 0.39439395, 0.        , 0.        , 0.        ,\n",
       "        0.97353226, 0.        , 0.        , 0.8055896 , 0.45531607,\n",
       "        0.        , 0.        , 0.54433316, 0.        , 0.        ,\n",
       "        0.27716133, 0.4685573 , 0.        , 0.09374874, 0.67805064,\n",
       "        0.        , 0.6143749 , 0.        , 0.        , 0.        ,\n",
       "        0.60982734, 0.17556284, 0.        , 0.5448863 ]], dtype=float32)"
      ]
     },
     "execution_count": 57,
     "metadata": {},
     "output_type": "execute_result"
    }
   ],
   "source": [
    "b.T"
   ]
  },
  {
   "cell_type": "code",
   "execution_count": 58,
   "id": "e81754e5",
   "metadata": {},
   "outputs": [
    {
     "data": {
      "text/plain": [
       "array([[0.82272685, 0.57626116, 0.        , ..., 0.8716895 , 0.        ,\n",
       "        0.        ],\n",
       "       [0.        , 0.2289813 , 0.48130327, ..., 0.10489579, 0.        ,\n",
       "        0.6832084 ],\n",
       "       [0.        , 0.16428949, 0.        , ..., 0.        , 0.        ,\n",
       "        0.9385753 ],\n",
       "       ...,\n",
       "       [0.22595333, 0.27008578, 0.        , ..., 0.        , 0.5132175 ,\n",
       "        0.02876937],\n",
       "       [0.        , 0.        , 0.12290299, ..., 0.39542586, 0.9358725 ,\n",
       "        0.        ],\n",
       "       [0.        , 0.9652075 , 0.        , ..., 0.        , 0.37984058,\n",
       "        0.        ]], dtype=float32)"
      ]
     },
     "execution_count": 58,
     "metadata": {},
     "output_type": "execute_result"
    }
   ],
   "source": [
    "a.T"
   ]
  },
  {
   "cell_type": "code",
   "execution_count": 59,
   "id": "a4aa52cb",
   "metadata": {},
   "outputs": [
    {
     "data": {
      "text/plain": [
       "array([32, 10])"
      ]
     },
     "execution_count": 59,
     "metadata": {},
     "output_type": "execute_result"
    }
   ],
   "source": [
    "outshape.T"
   ]
  },
  {
   "cell_type": "code",
   "execution_count": 60,
   "id": "cda5d20b",
   "metadata": {},
   "outputs": [
    {
     "data": {
      "text/plain": [
       "((64, 10), array([32, 10]))"
      ]
     },
     "execution_count": 60,
     "metadata": {},
     "output_type": "execute_result"
    }
   ],
   "source": [
    "b.shape, outshape"
   ]
  },
  {
   "cell_type": "code",
   "execution_count": 61,
   "id": "35754fb9",
   "metadata": {},
   "outputs": [
    {
     "data": {
      "text/plain": [
       "<pyopencl._cl.NannyEvent at 0x7ff1543393b0>"
      ]
     },
     "execution_count": 61,
     "metadata": {},
     "output_type": "execute_result"
    },
    {
     "name": "stdout",
     "output_type": "stream",
     "text": [
      "aval, xval: 0.94,0.82 - 0.77: (0,0) \n",
      "aval, xval: 0.31,0.88 - 1.05: (7,1) \n",
      "aval, xval: 0.11,0.00 - 1.05: (8,2) \n",
      "aval, xval: 0.07,0.00 - 1.05: (9,3) \n",
      "aval, xval: 0.16,0.87 - 1.19: (11,4) \n",
      "aval, xval: 0.64,0.00 - 1.19: (13,5) \n",
      "aval, xval: 0.50,0.26 - 1.32: (14,6) \n",
      "aval, xval: 0.18,0.62 - 1.43: (20,7) \n",
      "aval, xval: 0.43,0.22 - 1.53: (28,8) \n",
      "aval, xval: 0.12,0.59 - 1.60: (29,9) \n",
      "aval, xval: 0.61,0.69 - 2.02: (33,10) \n",
      "aval, xval: 0.41,0.00 - 2.02: (34,11) \n",
      "aval, xval: 0.83,0.00 - 2.02: (35,12) \n",
      "aval, xval: 0.05,0.38 - 2.04: (36,13) \n",
      "aval, xval: 0.05,0.45 - 2.06: (39,14) \n",
      "aval, xval: 0.63,0.00 - 2.06: (45,15) \n",
      "aval, xval: 0.69,0.00 - 2.06: (48,16) \n",
      "aval, xval: 0.99,0.00 - 2.06: (49,17) \n",
      "aval, xval: 0.27,0.00 - 2.06: (57,18) \n",
      "aval, xval: 0.23,0.00 - 2.06: (59,19) \n",
      "aval, xval: 0.10,0.00 - 2.06: (60,20) \n"
     ]
    }
   ],
   "source": [
    "res_buf = cl.Buffer(ctx, mf.READ_WRITE, np.prod(outshape)*4)\n",
    "knl = prg.matmul  # Use this Kernel object for repeated calls\n",
    "knl(queue, [outshape.T[0]], None, bdatat_buf, bcolst_buf, bnnzst_buf, np.uint32(ellwbt), np.uint32(b.shape[0]), np.uint32(outshape.T[1]), a_buf, res_buf)\n",
    "\n",
    "res_np = np.zeros(outshape).astype(np.float32)\n",
    "cl.enqueue_copy(queue, res_np, res_buf)"
   ]
  },
  {
   "cell_type": "code",
   "execution_count": 62,
   "id": "23cf552a",
   "metadata": {},
   "outputs": [
    {
     "data": {
      "text/plain": [
       "5.9604645e-07"
      ]
     },
     "execution_count": 62,
     "metadata": {},
     "output_type": "execute_result"
    }
   ],
   "source": [
    "(res_np-mult).sum()"
   ]
  },
  {
   "cell_type": "code",
   "execution_count": 63,
   "id": "99d10b20",
   "metadata": {},
   "outputs": [
    {
     "data": {
      "text/plain": [
       "array([[0.82272685, 0.        , 0.        , ..., 0.22595333, 0.        ,\n",
       "        0.        ],\n",
       "       [0.57626116, 0.2289813 , 0.16428949, ..., 0.27008578, 0.        ,\n",
       "        0.9652075 ],\n",
       "       [0.        , 0.48130327, 0.        , ..., 0.        , 0.12290299,\n",
       "        0.        ],\n",
       "       ...,\n",
       "       [0.8716895 , 0.10489579, 0.        , ..., 0.        , 0.39542586,\n",
       "        0.        ],\n",
       "       [0.        , 0.        , 0.        , ..., 0.5132175 , 0.9358725 ,\n",
       "        0.37984058],\n",
       "       [0.        , 0.6832084 , 0.9385753 , ..., 0.02876937, 0.        ,\n",
       "        0.        ]], dtype=float32)"
      ]
     },
     "execution_count": 63,
     "metadata": {},
     "output_type": "execute_result"
    }
   ],
   "source": [
    "a"
   ]
  },
  {
   "cell_type": "code",
   "execution_count": 64,
   "id": "85fb2a81",
   "metadata": {},
   "outputs": [
    {
     "data": {
      "text/plain": [
       "array([[0.9414536 , 0.        , 0.        , 0.90892494, 0.        ,\n",
       "        0.        , 0.05297933, 0.        , 0.7021168 , 0.        ],\n",
       "       [0.        , 0.        , 0.14630048, 0.24825948, 0.        ,\n",
       "        0.        , 0.        , 0.7792777 , 0.31232256, 0.        ],\n",
       "       [0.        , 0.03283854, 0.27791733, 0.8543185 , 0.        ,\n",
       "        0.        , 0.8433972 , 0.        , 0.        , 0.        ],\n",
       "       [0.        , 0.        , 0.33419287, 0.19840643, 0.        ,\n",
       "        0.3856511 , 0.23348303, 0.        , 0.        , 0.        ],\n",
       "       [0.        , 0.01996238, 0.9816661 , 0.        , 0.        ,\n",
       "        0.        , 0.        , 0.5056456 , 0.        , 0.01917347],\n",
       "       [0.        , 0.        , 0.        , 0.        , 0.49159616,\n",
       "        0.0810385 , 0.64290637, 0.16045028, 0.        , 0.        ],\n",
       "       [0.        , 0.2878976 , 0.        , 0.        , 0.7058473 ,\n",
       "        0.        , 0.41645932, 0.44598925, 0.        , 0.        ],\n",
       "       [0.31479523, 0.40940058, 0.        , 0.        , 0.        ,\n",
       "        0.        , 0.49991104, 0.        , 0.79827386, 0.        ],\n",
       "       [0.11005293, 0.5290864 , 0.        , 0.31983745, 0.        ,\n",
       "        0.        , 0.        , 0.57631195, 0.        , 0.        ],\n",
       "       [0.06780045, 0.03890254, 0.        , 0.        , 0.98146695,\n",
       "        0.8737231 , 0.        , 0.        , 0.        , 0.        ],\n",
       "       [0.        , 0.7218774 , 0.40662676, 0.18507701, 0.        ,\n",
       "        0.        , 0.        , 0.        , 0.05563454, 0.        ],\n",
       "       [0.16214237, 0.        , 0.5265734 , 0.23904228, 0.        ,\n",
       "        0.        , 0.        , 0.        , 0.11824279, 0.        ],\n",
       "       [0.        , 0.6727114 , 0.01572542, 0.        , 0.44648495,\n",
       "        0.22174914, 0.        , 0.        , 0.        , 0.        ],\n",
       "       [0.6445239 , 0.8689898 , 0.78785294, 0.        , 0.        ,\n",
       "        0.        , 0.        , 0.        , 0.6352877 , 0.        ],\n",
       "       [0.50232446, 0.        , 0.        , 0.        , 0.        ,\n",
       "        0.47040063, 0.        , 0.        , 0.46875456, 0.5505951 ],\n",
       "       [0.        , 0.3043906 , 0.        , 0.        , 0.2855941 ,\n",
       "        0.        , 0.45246527, 0.03966095, 0.        , 0.        ],\n",
       "       [0.        , 0.6158326 , 0.        , 0.        , 0.        ,\n",
       "        0.55754304, 0.        , 0.8633621 , 0.        , 0.01719917],\n",
       "       [0.        , 0.        , 0.        , 0.        , 0.75643075,\n",
       "        0.        , 0.        , 0.42180747, 0.95542496, 0.1022128 ],\n",
       "       [0.        , 0.17614561, 0.4101668 , 0.        , 0.        ,\n",
       "        0.        , 0.20147614, 0.10142381, 0.        , 0.        ],\n",
       "       [0.        , 0.        , 0.        , 0.9880747 , 0.        ,\n",
       "        0.7065452 , 0.602556  , 0.48707104, 0.        , 0.        ],\n",
       "       [0.17604527, 0.        , 0.        , 0.        , 0.        ,\n",
       "        0.        , 0.        , 0.84334254, 0.8945855 , 0.72915745],\n",
       "       [0.        , 0.        , 0.        , 0.        , 0.23293144,\n",
       "        0.2350415 , 0.78704804, 0.        , 0.        , 0.20438819],\n",
       "       [0.        , 0.        , 0.        , 0.10942628, 0.00130877,\n",
       "        0.        , 0.        , 0.4094274 , 0.01082143, 0.        ],\n",
       "       [0.        , 0.        , 0.        , 0.21641734, 0.        ,\n",
       "        0.31724194, 0.35538766, 0.        , 0.        , 0.46936178],\n",
       "       [0.        , 0.        , 0.        , 0.        , 0.91353625,\n",
       "        0.        , 0.7040352 , 0.52147955, 0.49268502, 0.        ],\n",
       "       [0.        , 0.5996785 , 0.        , 0.5246723 , 0.        ,\n",
       "        0.        , 0.        , 0.9170164 , 0.47608244, 0.        ],\n",
       "       [0.        , 0.41769058, 0.        , 0.        , 0.92990875,\n",
       "        0.        , 0.22981252, 0.        , 0.        , 0.23540662],\n",
       "       [0.        , 0.22088505, 0.        , 0.        , 0.        ,\n",
       "        0.8154559 , 0.        , 0.23452929, 0.        , 0.88327533],\n",
       "       [0.42811713, 0.        , 0.94115525, 0.        , 0.34584206,\n",
       "        0.        , 0.        , 0.        , 0.1731275 , 0.        ],\n",
       "       [0.11871076, 0.64951146, 0.19040094, 0.        , 0.        ,\n",
       "        0.        , 0.        , 0.        , 0.        , 0.26224414],\n",
       "       [0.        , 0.        , 0.19905205, 0.        , 0.66453385,\n",
       "        0.9441609 , 0.17658035, 0.        , 0.        , 0.        ],\n",
       "       [0.        , 0.8829375 , 0.89167756, 0.        , 0.        ,\n",
       "        0.34762165, 0.        , 0.        , 0.02995267, 0.        ],\n",
       "       [0.        , 0.5526871 , 0.        , 0.70496935, 0.        ,\n",
       "        0.        , 0.6193049 , 0.        , 0.04075215, 0.        ],\n",
       "       [0.6127449 , 0.        , 0.01054911, 0.        , 0.72773826,\n",
       "        0.4128602 , 0.        , 0.        , 0.        , 0.        ],\n",
       "       [0.41137826, 0.45999953, 0.71848863, 0.        , 0.        ,\n",
       "        0.29980114, 0.        , 0.        , 0.        , 0.        ],\n",
       "       [0.82947165, 0.20491129, 0.        , 0.        , 0.47647813,\n",
       "        0.        , 0.39832172, 0.        , 0.        , 0.        ],\n",
       "       [0.04573116, 0.        , 0.67741925, 0.        , 0.        ,\n",
       "        0.        , 0.46088123, 0.        , 0.        , 0.39439395],\n",
       "       [0.        , 0.03375057, 0.934714  , 0.        , 0.5239845 ,\n",
       "        0.        , 0.9214213 , 0.        , 0.        , 0.        ],\n",
       "       [0.        , 0.        , 0.9567172 , 0.31415144, 0.        ,\n",
       "        0.40333778, 0.1583537 , 0.        , 0.        , 0.        ],\n",
       "       [0.04850706, 0.        , 0.8573981 , 0.        , 0.        ,\n",
       "        0.        , 0.23557614, 0.44495046, 0.        , 0.        ],\n",
       "       [0.        , 0.        , 0.        , 0.7757434 , 0.29974842,\n",
       "        0.47304207, 0.        , 0.        , 0.        , 0.97353226],\n",
       "       [0.        , 0.        , 0.04344931, 0.08597016, 0.        ,\n",
       "        0.        , 0.660472  , 0.9784147 , 0.        , 0.        ],\n",
       "       [0.        , 0.45209226, 0.7110872 , 0.        , 0.87557894,\n",
       "        0.        , 0.75961554, 0.        , 0.        , 0.        ],\n",
       "       [0.        , 0.09342512, 0.        , 0.        , 0.22442254,\n",
       "        0.01690201, 0.        , 0.        , 0.        , 0.8055896 ],\n",
       "       [0.        , 0.        , 0.09824695, 0.24463587, 0.        ,\n",
       "        0.        , 0.        , 0.32749644, 0.        , 0.45531607],\n",
       "       [0.6346003 , 0.        , 0.        , 0.00316491, 0.5720998 ,\n",
       "        0.        , 0.87135255, 0.        , 0.        , 0.        ],\n",
       "       [0.        , 0.14726698, 0.        , 0.        , 0.        ,\n",
       "        0.2944593 , 0.28086743, 0.        , 0.25112677, 0.        ],\n",
       "       [0.        , 0.        , 0.        , 0.58537555, 0.12253232,\n",
       "        0.8452076 , 0.        , 0.        , 0.        , 0.54433316],\n",
       "       [0.69351566, 0.        , 0.        , 0.50371623, 0.        ,\n",
       "        0.        , 0.9726071 , 0.7246852 , 0.        , 0.        ],\n",
       "       [0.9864582 , 0.        , 0.        , 0.        , 0.        ,\n",
       "        0.1762971 , 0.55006534, 0.        , 0.7705533 , 0.        ],\n",
       "       [0.        , 0.        , 0.09063595, 0.8334261 , 0.        ,\n",
       "        0.        , 0.        , 0.26001835, 0.        , 0.27716133],\n",
       "       [0.        , 0.        , 0.89167565, 0.05737644, 0.        ,\n",
       "        0.1275051 , 0.        , 0.        , 0.        , 0.4685573 ],\n",
       "       [0.        , 0.        , 0.        , 0.39566204, 0.        ,\n",
       "        0.        , 0.62646705, 0.12898347, 0.02942246, 0.        ],\n",
       "       [0.        , 0.84200877, 0.26646206, 0.        , 0.        ,\n",
       "        0.        , 0.23111221, 0.        , 0.        , 0.09374874],\n",
       "       [0.        , 0.        , 0.        , 0.5096388 , 0.694407  ,\n",
       "        0.        , 0.        , 0.9894679 , 0.        , 0.67805064],\n",
       "       [0.        , 0.5960935 , 0.3876133 , 0.68256104, 0.        ,\n",
       "        0.        , 0.        , 0.22186916, 0.        , 0.        ],\n",
       "       [0.        , 0.14635102, 0.        , 0.23753619, 0.        ,\n",
       "        0.        , 0.4664514 , 0.        , 0.        , 0.6143749 ],\n",
       "       [0.2653583 , 0.        , 0.        , 0.25248948, 0.        ,\n",
       "        0.        , 0.06576658, 0.9888273 , 0.        , 0.        ],\n",
       "       [0.        , 0.        , 0.        , 0.4100118 , 0.5066825 ,\n",
       "        0.9791499 , 0.        , 0.9839119 , 0.        , 0.        ],\n",
       "       [0.2264393 , 0.95835906, 0.        , 0.8496141 , 0.        ,\n",
       "        0.        , 0.        , 0.6683453 , 0.        , 0.        ],\n",
       "       [0.10093832, 0.        , 0.        , 0.        , 0.6630357 ,\n",
       "        0.19981535, 0.        , 0.        , 0.        , 0.60982734],\n",
       "       [0.        , 0.65042835, 0.        , 0.        , 0.29258844,\n",
       "        0.        , 0.        , 0.7358039 , 0.        , 0.17556284],\n",
       "       [0.        , 0.        , 0.17079917, 0.13851656, 0.9781894 ,\n",
       "        0.0680179 , 0.        , 0.        , 0.        , 0.        ],\n",
       "       [0.        , 0.        , 0.        , 0.        , 0.3358856 ,\n",
       "        0.79898566, 0.48625088, 0.        , 0.        , 0.5448863 ]],\n",
       "      dtype=float32)"
      ]
     },
     "execution_count": 64,
     "metadata": {},
     "output_type": "execute_result"
    }
   ],
   "source": [
    "b"
   ]
  },
  {
   "cell_type": "code",
   "execution_count": 65,
   "id": "ee65b3de",
   "metadata": {},
   "outputs": [
    {
     "data": {
      "text/plain": [
       "<pyopencl._cl.Buffer at 0x7ff15433f0e0>"
      ]
     },
     "execution_count": 65,
     "metadata": {},
     "output_type": "execute_result"
    }
   ],
   "source": [
    "res_buf"
   ]
  },
  {
   "cell_type": "code",
   "execution_count": 66,
   "id": "15e6ab60",
   "metadata": {},
   "outputs": [
    {
     "data": {
      "text/plain": [
       "array([[2.0588999 , 1.8681664 , 4.811817  , 2.2529387 , 2.1096544 ,\n",
       "        1.3379606 , 2.9000037 , 2.0491414 , 2.5897803 , 1.5031604 ],\n",
       "       [2.732146  , 2.5565495 , 3.714852  , 1.967403  , 2.7812793 ,\n",
       "        3.9070148 , 3.2777538 , 2.2969038 , 1.9229925 , 2.6556396 ],\n",
       "       [1.928745  , 3.1600957 , 2.6502829 , 1.8178726 , 3.2470448 ,\n",
       "        2.285428  , 2.6365926 , 2.5166864 , 1.070901  , 2.0605705 ],\n",
       "       [1.063185  , 4.1737986 , 2.2277255 , 1.2515675 , 4.1827664 ,\n",
       "        1.2915825 , 1.3805095 , 3.4198837 , 1.0256768 , 2.7755067 ],\n",
       "       [1.1833991 , 1.8557596 , 3.0534244 , 1.0722461 , 3.4905617 ,\n",
       "        1.643646  , 3.453313  , 3.808668  , 0.65044206, 2.0563726 ],\n",
       "       [1.0461621 , 3.5566838 , 3.2101297 , 1.572406  , 2.2809083 ,\n",
       "        1.8500901 , 1.3386623 , 4.39698   , 1.5621432 , 1.7725785 ],\n",
       "       [1.5166444 , 2.5048141 , 1.3417709 , 3.5234869 , 2.7652483 ,\n",
       "        1.1395355 , 2.25748   , 4.705172  , 2.2430854 , 1.8194562 ],\n",
       "       [1.6907904 , 2.3283677 , 1.7894993 , 2.1847265 , 2.8551002 ,\n",
       "        0.79378396, 1.7964936 , 3.5471232 , 1.9625643 , 1.3657154 ],\n",
       "       [1.2141374 , 2.9877534 , 3.1018186 , 3.629979  , 3.6487942 ,\n",
       "        1.808532  , 2.6615262 , 3.3801854 , 2.1941547 , 2.0062847 ],\n",
       "       [2.0491679 , 3.8442254 , 5.2590375 , 2.6086452 , 2.5204127 ,\n",
       "        2.845815  , 2.089722  , 2.0366    , 1.8493687 , 2.002032  ],\n",
       "       [1.4538853 , 3.52397   , 3.426971  , 0.94891644, 3.4088016 ,\n",
       "        1.826241  , 2.6029367 , 2.0418024 , 2.1847632 , 0.74823964],\n",
       "       [2.1386282 , 2.708146  , 1.742439  , 2.366699  , 2.55557   ,\n",
       "        1.021245  , 2.8354404 , 3.1261184 , 1.642767  , 1.4917253 ],\n",
       "       [2.2865992 , 3.9609175 , 3.3584628 , 2.9336588 , 2.459155  ,\n",
       "        2.2523775 , 2.647436  , 0.89587307, 2.0110953 , 2.1063092 ],\n",
       "       [1.9966788 , 2.9262302 , 4.8778872 , 1.2208712 , 3.4192896 ,\n",
       "        2.3487628 , 2.9560015 , 1.5107096 , 1.5358572 , 1.5315988 ],\n",
       "       [0.48399195, 2.1673245 , 2.2968588 , 2.7774973 , 2.5966098 ,\n",
       "        3.4832177 , 2.690391  , 4.0917354 , 0.23865944, 2.9819653 ],\n",
       "       [2.0954764 , 2.4307942 , 3.4558418 , 2.9896178 , 1.5231056 ,\n",
       "        3.422842  , 3.3150718 , 3.5051725 , 2.1653447 , 3.1134186 ],\n",
       "       [1.5846765 , 2.661023  , 2.4769669 , 3.470964  , 1.4431835 ,\n",
       "        2.3999262 , 3.9011345 , 3.248538  , 1.4247626 , 1.2602935 ],\n",
       "       [0.49207467, 2.325397  , 2.2815886 , 2.2696066 , 3.3333156 ,\n",
       "        2.4349878 , 2.0514407 , 3.2246497 , 1.6171042 , 1.6073767 ],\n",
       "       [2.5375338 , 2.4817715 , 2.6368468 , 2.0569093 , 4.3929462 ,\n",
       "        1.4862403 , 3.4939742 , 2.2332757 , 1.7737362 , 1.7618244 ],\n",
       "       [2.0678236 , 1.8836694 , 1.3364539 , 1.7425246 , 2.3898618 ,\n",
       "        1.1566195 , 2.628559  , 3.6502156 , 2.121294  , 1.3199686 ],\n",
       "       [1.8444016 , 2.2461612 , 3.215194  , 3.8432117 , 2.2398164 ,\n",
       "        1.8269355 , 4.414732  , 3.723146  , 0.50411344, 2.1435022 ],\n",
       "       [2.6537714 , 1.1732535 , 3.0079815 , 2.5904036 , 3.0474715 ,\n",
       "        1.8404907 , 2.6261342 , 1.1304994 , 1.8776394 , 0.85143405],\n",
       "       [0.6337883 , 3.3086834 , 1.4530784 , 2.515975  , 3.5047786 ,\n",
       "        1.1553439 , 2.8253915 , 3.52668   , 1.043268  , 2.3298826 ],\n",
       "       [1.3287122 , 2.5962925 , 1.9194646 , 1.8967655 , 5.310211  ,\n",
       "        2.868525  , 3.0769377 , 1.7588413 , 0.40501967, 2.9207122 ],\n",
       "       [0.8400132 , 2.0994346 , 2.1460192 , 1.5991999 , 2.2363923 ,\n",
       "        1.5488654 , 3.2248628 , 1.790886  , 0.7113455 , 2.6308084 ],\n",
       "       [0.95923513, 2.4799027 , 2.5939333 , 3.6836724 , 2.6314456 ,\n",
       "        2.4646401 , 3.5725472 , 3.2010999 , 1.1519556 , 1.662165  ],\n",
       "       [0.8192116 , 1.8272312 , 1.7956812 , 1.8296846 , 2.9964643 ,\n",
       "        2.2758195 , 2.3479476 , 2.8243024 , 1.1362125 , 2.8853436 ],\n",
       "       [3.6204023 , 1.9968115 , 1.7490085 , 2.9469259 , 3.12177   ,\n",
       "        2.235736  , 5.2850986 , 1.5726625 , 1.4582067 , 1.2513807 ],\n",
       "       [1.0327702 , 2.8972733 , 2.6707854 , 1.6554503 , 3.8221254 ,\n",
       "        2.0219557 , 2.4419677 , 3.9295774 , 1.2823715 , 1.2512529 ],\n",
       "       [1.928727  , 1.5045325 , 3.3143744 , 3.7100651 , 3.0415392 ,\n",
       "        1.8443445 , 2.0636263 , 2.327687  , 1.2617    , 1.081305  ],\n",
       "       [1.5923332 , 3.816273  , 3.0520546 , 0.9159544 , 4.5526114 ,\n",
       "        1.9873203 , 2.4606779 , 2.2672033 , 0.9068908 , 1.9620786 ],\n",
       "       [1.0044551 , 3.294622  , 1.9445477 , 3.2131855 , 3.7743635 ,\n",
       "        2.9366598 , 3.0328484 , 2.7435503 , 1.2155869 , 0.9583244 ]],\n",
       "      dtype=float32)"
      ]
     },
     "execution_count": 66,
     "metadata": {},
     "output_type": "execute_result"
    }
   ],
   "source": [
    "res_np"
   ]
  },
  {
   "cell_type": "code",
   "execution_count": 67,
   "id": "ea2ac480",
   "metadata": {},
   "outputs": [
    {
     "data": {
      "text/plain": [
       "array([[2.0588999 , 1.8681664 , 4.811817  , 2.2529387 , 2.1096544 ,\n",
       "        1.3379606 , 2.9000037 , 2.0491414 , 2.5897803 , 1.5031604 ],\n",
       "       [2.732146  , 2.5565495 , 3.714852  , 1.967403  , 2.7812793 ,\n",
       "        3.9070148 , 3.2777538 , 2.2969038 , 1.9229925 , 2.6556396 ],\n",
       "       [1.928745  , 3.1600957 , 2.6502829 , 1.8178726 , 3.2470448 ,\n",
       "        2.285428  , 2.6365926 , 2.5166864 , 1.070901  , 2.0605705 ],\n",
       "       [1.063185  , 4.1737986 , 2.2277255 , 1.2515675 , 4.1827664 ,\n",
       "        1.2915825 , 1.3805095 , 3.4198837 , 1.0256768 , 2.7755067 ],\n",
       "       [1.1833991 , 1.8557596 , 3.0534244 , 1.0722461 , 3.4905617 ,\n",
       "        1.643646  , 3.453313  , 3.808668  , 0.65044206, 2.0563726 ],\n",
       "       [1.0461621 , 3.5566838 , 3.2101297 , 1.572406  , 2.2809083 ,\n",
       "        1.8500901 , 1.3386623 , 4.39698   , 1.5621432 , 1.7725785 ],\n",
       "       [1.5166444 , 2.5048141 , 1.3417709 , 3.5234869 , 2.7652483 ,\n",
       "        1.1395355 , 2.25748   , 4.705172  , 2.2430854 , 1.8194562 ],\n",
       "       [1.6907904 , 2.3283677 , 1.7894993 , 2.1847265 , 2.8551002 ,\n",
       "        0.79378396, 1.7964936 , 3.5471232 , 1.9625643 , 1.3657154 ],\n",
       "       [1.2141374 , 2.9877534 , 3.1018186 , 3.629979  , 3.6487942 ,\n",
       "        1.808532  , 2.6615262 , 3.3801854 , 2.1941547 , 2.0062847 ],\n",
       "       [2.0491679 , 3.8442254 , 5.2590375 , 2.6086452 , 2.5204127 ,\n",
       "        2.845815  , 2.089722  , 2.0366    , 1.8493687 , 2.002032  ],\n",
       "       [1.4538853 , 3.52397   , 3.426971  , 0.94891644, 3.4088016 ,\n",
       "        1.826241  , 2.6029367 , 2.0418024 , 2.1847632 , 0.74823964],\n",
       "       [2.1386282 , 2.708146  , 1.742439  , 2.366699  , 2.55557   ,\n",
       "        1.021245  , 2.8354404 , 3.1261184 , 1.642767  , 1.4917253 ],\n",
       "       [2.2865992 , 3.9609175 , 3.3584628 , 2.9336588 , 2.459155  ,\n",
       "        2.2523775 , 2.647436  , 0.89587307, 2.0110953 , 2.1063092 ],\n",
       "       [1.9966788 , 2.9262302 , 4.8778872 , 1.2208712 , 3.4192896 ,\n",
       "        2.3487628 , 2.9560015 , 1.5107096 , 1.5358572 , 1.5315988 ],\n",
       "       [0.48399195, 2.1673245 , 2.2968588 , 2.7774973 , 2.5966098 ,\n",
       "        3.4832177 , 2.690391  , 4.0917354 , 0.23865944, 2.9819653 ],\n",
       "       [2.0954764 , 2.4307942 , 3.4558418 , 2.9896178 , 1.5231056 ,\n",
       "        3.422842  , 3.3150718 , 3.5051725 , 2.1653447 , 3.1134186 ],\n",
       "       [1.5846765 , 2.661023  , 2.4769669 , 3.470964  , 1.4431835 ,\n",
       "        2.3999262 , 3.9011345 , 3.248538  , 1.4247626 , 1.2602935 ],\n",
       "       [0.49207467, 2.325397  , 2.2815886 , 2.2696066 , 3.3333156 ,\n",
       "        2.4349878 , 2.0514407 , 3.2246497 , 1.6171042 , 1.6073767 ],\n",
       "       [2.5375338 , 2.4817715 , 2.6368468 , 2.0569093 , 4.3929462 ,\n",
       "        1.4862403 , 3.4939742 , 2.2332757 , 1.7737362 , 1.7618244 ],\n",
       "       [2.0678236 , 1.8836694 , 1.3364539 , 1.7425246 , 2.3898618 ,\n",
       "        1.1566195 , 2.628559  , 3.6502156 , 2.121294  , 1.3199686 ],\n",
       "       [1.8444016 , 2.2461612 , 3.215194  , 3.8432117 , 2.2398164 ,\n",
       "        1.8269355 , 4.414732  , 3.723146  , 0.50411344, 2.1435022 ],\n",
       "       [2.6537714 , 1.1732535 , 3.0079815 , 2.5904036 , 3.0474715 ,\n",
       "        1.8404907 , 2.6261342 , 1.1304994 , 1.8776394 , 0.85143405],\n",
       "       [0.6337883 , 3.3086834 , 1.4530784 , 2.515975  , 3.5047786 ,\n",
       "        1.1553439 , 2.8253915 , 3.52668   , 1.043268  , 2.3298826 ],\n",
       "       [1.3287122 , 2.5962925 , 1.9194646 , 1.8967655 , 5.310211  ,\n",
       "        2.868525  , 3.0769377 , 1.7588413 , 0.40501967, 2.9207122 ],\n",
       "       [0.84001315, 2.0994346 , 2.1460192 , 1.5992    , 2.236392  ,\n",
       "        1.5488653 , 3.224863  , 1.7908863 , 0.7113455 , 2.6308084 ],\n",
       "       [0.9592351 , 2.4799027 , 2.593933  , 3.6836722 , 2.6314456 ,\n",
       "        2.4646401 , 3.572547  , 3.2011003 , 1.1519556 , 1.662165  ],\n",
       "       [0.8192115 , 1.8272312 , 1.7956815 , 1.8296847 , 2.9964643 ,\n",
       "        2.2758198 , 2.3479474 , 2.8243022 , 1.1362125 , 2.8853436 ],\n",
       "       [3.6204023 , 1.9968116 , 1.7490085 , 2.9469256 , 3.12177   ,\n",
       "        2.235736  , 5.2850986 , 1.5726624 , 1.4582067 , 1.2513807 ],\n",
       "       [1.0327702 , 2.8972735 , 2.6707854 , 1.6554506 , 3.8221254 ,\n",
       "        2.0219557 , 2.4419675 , 3.9295774 , 1.2823715 , 1.2512529 ],\n",
       "       [1.9287269 , 1.5045323 , 3.3143744 , 3.7100654 , 3.0415392 ,\n",
       "        1.8443446 , 2.0636263 , 2.3276868 , 1.2617    , 1.081305  ],\n",
       "       [1.5923332 , 3.8162732 , 3.0520544 , 0.9159544 , 4.5526114 ,\n",
       "        1.9873202 , 2.4606779 , 2.2672033 , 0.9068908 , 1.9620786 ],\n",
       "       [1.0044551 , 3.2946215 , 1.9445477 , 3.2131855 , 3.7743635 ,\n",
       "        2.93666   , 3.0328484 , 2.7435503 , 1.2155869 , 0.9583244 ]],\n",
       "      dtype=float32)"
      ]
     },
     "execution_count": 67,
     "metadata": {},
     "output_type": "execute_result"
    }
   ],
   "source": [
    "mult"
   ]
  },
  {
   "cell_type": "code",
   "execution_count": 68,
   "id": "232d2e9c",
   "metadata": {},
   "outputs": [
    {
     "data": {
      "text/plain": [
       "array([[ True,  True,  True,  True,  True,  True,  True,  True,  True,\n",
       "         True],\n",
       "       [ True,  True,  True,  True,  True,  True,  True,  True,  True,\n",
       "         True],\n",
       "       [ True,  True,  True,  True,  True,  True,  True,  True,  True,\n",
       "         True],\n",
       "       [ True,  True,  True,  True,  True,  True,  True,  True,  True,\n",
       "         True],\n",
       "       [ True,  True,  True,  True,  True,  True,  True,  True,  True,\n",
       "         True],\n",
       "       [ True,  True,  True,  True,  True,  True,  True,  True,  True,\n",
       "         True],\n",
       "       [ True,  True,  True,  True,  True,  True,  True,  True,  True,\n",
       "         True],\n",
       "       [ True,  True,  True,  True,  True,  True,  True,  True,  True,\n",
       "         True],\n",
       "       [ True,  True,  True,  True,  True,  True,  True,  True,  True,\n",
       "         True],\n",
       "       [ True,  True,  True,  True,  True,  True,  True,  True,  True,\n",
       "         True],\n",
       "       [ True,  True,  True,  True,  True,  True,  True,  True,  True,\n",
       "         True],\n",
       "       [ True,  True,  True,  True,  True,  True,  True,  True,  True,\n",
       "         True],\n",
       "       [ True,  True,  True,  True,  True,  True,  True,  True,  True,\n",
       "         True],\n",
       "       [ True,  True,  True,  True,  True,  True,  True,  True,  True,\n",
       "         True],\n",
       "       [ True,  True,  True,  True,  True,  True,  True,  True,  True,\n",
       "         True],\n",
       "       [ True,  True,  True,  True,  True,  True,  True,  True,  True,\n",
       "         True],\n",
       "       [ True,  True,  True,  True,  True,  True,  True,  True,  True,\n",
       "         True],\n",
       "       [ True,  True,  True,  True,  True,  True,  True,  True,  True,\n",
       "         True],\n",
       "       [ True,  True,  True,  True,  True,  True,  True,  True,  True,\n",
       "         True],\n",
       "       [ True,  True,  True,  True,  True,  True,  True,  True,  True,\n",
       "         True],\n",
       "       [ True,  True,  True,  True,  True,  True,  True,  True,  True,\n",
       "         True],\n",
       "       [ True,  True,  True,  True,  True,  True,  True,  True,  True,\n",
       "         True],\n",
       "       [ True,  True,  True,  True,  True,  True,  True,  True,  True,\n",
       "         True],\n",
       "       [ True,  True,  True,  True,  True,  True,  True,  True,  True,\n",
       "         True],\n",
       "       [False,  True,  True, False, False, False, False, False,  True,\n",
       "         True],\n",
       "       [False,  True, False, False,  True,  True, False, False,  True,\n",
       "         True],\n",
       "       [False,  True, False, False,  True, False, False, False,  True,\n",
       "         True],\n",
       "       [ True, False,  True, False,  True,  True,  True, False,  True,\n",
       "         True],\n",
       "       [ True, False,  True, False,  True,  True, False,  True,  True,\n",
       "         True],\n",
       "       [False, False,  True, False,  True, False,  True, False,  True,\n",
       "         True],\n",
       "       [ True, False, False,  True,  True, False,  True,  True,  True,\n",
       "         True],\n",
       "       [ True, False,  True,  True,  True, False,  True,  True,  True,\n",
       "         True]])"
      ]
     },
     "execution_count": 68,
     "metadata": {},
     "output_type": "execute_result"
    }
   ],
   "source": [
    "res_np==mult"
   ]
  },
  {
   "cell_type": "code",
   "execution_count": 69,
   "id": "315f252f",
   "metadata": {},
   "outputs": [
    {
     "data": {
      "text/plain": [
       "array([[ 0.0000000e+00,  0.0000000e+00,  0.0000000e+00,  0.0000000e+00,\n",
       "         0.0000000e+00,  0.0000000e+00,  0.0000000e+00,  0.0000000e+00,\n",
       "         0.0000000e+00,  0.0000000e+00],\n",
       "       [ 0.0000000e+00,  0.0000000e+00,  0.0000000e+00,  0.0000000e+00,\n",
       "         0.0000000e+00,  0.0000000e+00,  0.0000000e+00,  0.0000000e+00,\n",
       "         0.0000000e+00,  0.0000000e+00],\n",
       "       [ 0.0000000e+00,  0.0000000e+00,  0.0000000e+00,  0.0000000e+00,\n",
       "         0.0000000e+00,  0.0000000e+00,  0.0000000e+00,  0.0000000e+00,\n",
       "         0.0000000e+00,  0.0000000e+00],\n",
       "       [ 0.0000000e+00,  0.0000000e+00,  0.0000000e+00,  0.0000000e+00,\n",
       "         0.0000000e+00,  0.0000000e+00,  0.0000000e+00,  0.0000000e+00,\n",
       "         0.0000000e+00,  0.0000000e+00],\n",
       "       [ 0.0000000e+00,  0.0000000e+00,  0.0000000e+00,  0.0000000e+00,\n",
       "         0.0000000e+00,  0.0000000e+00,  0.0000000e+00,  0.0000000e+00,\n",
       "         0.0000000e+00,  0.0000000e+00],\n",
       "       [ 0.0000000e+00,  0.0000000e+00,  0.0000000e+00,  0.0000000e+00,\n",
       "         0.0000000e+00,  0.0000000e+00,  0.0000000e+00,  0.0000000e+00,\n",
       "         0.0000000e+00,  0.0000000e+00],\n",
       "       [ 0.0000000e+00,  0.0000000e+00,  0.0000000e+00,  0.0000000e+00,\n",
       "         0.0000000e+00,  0.0000000e+00,  0.0000000e+00,  0.0000000e+00,\n",
       "         0.0000000e+00,  0.0000000e+00],\n",
       "       [ 0.0000000e+00,  0.0000000e+00,  0.0000000e+00,  0.0000000e+00,\n",
       "         0.0000000e+00,  0.0000000e+00,  0.0000000e+00,  0.0000000e+00,\n",
       "         0.0000000e+00,  0.0000000e+00],\n",
       "       [ 0.0000000e+00,  0.0000000e+00,  0.0000000e+00,  0.0000000e+00,\n",
       "         0.0000000e+00,  0.0000000e+00,  0.0000000e+00,  0.0000000e+00,\n",
       "         0.0000000e+00,  0.0000000e+00],\n",
       "       [ 0.0000000e+00,  0.0000000e+00,  0.0000000e+00,  0.0000000e+00,\n",
       "         0.0000000e+00,  0.0000000e+00,  0.0000000e+00,  0.0000000e+00,\n",
       "         0.0000000e+00,  0.0000000e+00],\n",
       "       [ 0.0000000e+00,  0.0000000e+00,  0.0000000e+00,  0.0000000e+00,\n",
       "         0.0000000e+00,  0.0000000e+00,  0.0000000e+00,  0.0000000e+00,\n",
       "         0.0000000e+00,  0.0000000e+00],\n",
       "       [ 0.0000000e+00,  0.0000000e+00,  0.0000000e+00,  0.0000000e+00,\n",
       "         0.0000000e+00,  0.0000000e+00,  0.0000000e+00,  0.0000000e+00,\n",
       "         0.0000000e+00,  0.0000000e+00],\n",
       "       [ 0.0000000e+00,  0.0000000e+00,  0.0000000e+00,  0.0000000e+00,\n",
       "         0.0000000e+00,  0.0000000e+00,  0.0000000e+00,  0.0000000e+00,\n",
       "         0.0000000e+00,  0.0000000e+00],\n",
       "       [ 0.0000000e+00,  0.0000000e+00,  0.0000000e+00,  0.0000000e+00,\n",
       "         0.0000000e+00,  0.0000000e+00,  0.0000000e+00,  0.0000000e+00,\n",
       "         0.0000000e+00,  0.0000000e+00],\n",
       "       [ 0.0000000e+00,  0.0000000e+00,  0.0000000e+00,  0.0000000e+00,\n",
       "         0.0000000e+00,  0.0000000e+00,  0.0000000e+00,  0.0000000e+00,\n",
       "         0.0000000e+00,  0.0000000e+00],\n",
       "       [ 0.0000000e+00,  0.0000000e+00,  0.0000000e+00,  0.0000000e+00,\n",
       "         0.0000000e+00,  0.0000000e+00,  0.0000000e+00,  0.0000000e+00,\n",
       "         0.0000000e+00,  0.0000000e+00],\n",
       "       [ 0.0000000e+00,  0.0000000e+00,  0.0000000e+00,  0.0000000e+00,\n",
       "         0.0000000e+00,  0.0000000e+00,  0.0000000e+00,  0.0000000e+00,\n",
       "         0.0000000e+00,  0.0000000e+00],\n",
       "       [ 0.0000000e+00,  0.0000000e+00,  0.0000000e+00,  0.0000000e+00,\n",
       "         0.0000000e+00,  0.0000000e+00,  0.0000000e+00,  0.0000000e+00,\n",
       "         0.0000000e+00,  0.0000000e+00],\n",
       "       [ 0.0000000e+00,  0.0000000e+00,  0.0000000e+00,  0.0000000e+00,\n",
       "         0.0000000e+00,  0.0000000e+00,  0.0000000e+00,  0.0000000e+00,\n",
       "         0.0000000e+00,  0.0000000e+00],\n",
       "       [ 0.0000000e+00,  0.0000000e+00,  0.0000000e+00,  0.0000000e+00,\n",
       "         0.0000000e+00,  0.0000000e+00,  0.0000000e+00,  0.0000000e+00,\n",
       "         0.0000000e+00,  0.0000000e+00],\n",
       "       [ 0.0000000e+00,  0.0000000e+00,  0.0000000e+00,  0.0000000e+00,\n",
       "         0.0000000e+00,  0.0000000e+00,  0.0000000e+00,  0.0000000e+00,\n",
       "         0.0000000e+00,  0.0000000e+00],\n",
       "       [ 0.0000000e+00,  0.0000000e+00,  0.0000000e+00,  0.0000000e+00,\n",
       "         0.0000000e+00,  0.0000000e+00,  0.0000000e+00,  0.0000000e+00,\n",
       "         0.0000000e+00,  0.0000000e+00],\n",
       "       [ 0.0000000e+00,  0.0000000e+00,  0.0000000e+00,  0.0000000e+00,\n",
       "         0.0000000e+00,  0.0000000e+00,  0.0000000e+00,  0.0000000e+00,\n",
       "         0.0000000e+00,  0.0000000e+00],\n",
       "       [ 0.0000000e+00,  0.0000000e+00,  0.0000000e+00,  0.0000000e+00,\n",
       "         0.0000000e+00,  0.0000000e+00,  0.0000000e+00,  0.0000000e+00,\n",
       "         0.0000000e+00,  0.0000000e+00],\n",
       "       [ 5.9604645e-08,  0.0000000e+00,  0.0000000e+00, -1.1920929e-07,\n",
       "         2.3841858e-07,  1.1920929e-07, -2.3841858e-07, -2.3841858e-07,\n",
       "         0.0000000e+00,  0.0000000e+00],\n",
       "       [ 5.9604645e-08,  0.0000000e+00,  2.3841858e-07,  2.3841858e-07,\n",
       "         0.0000000e+00,  0.0000000e+00,  2.3841858e-07, -4.7683716e-07,\n",
       "         0.0000000e+00,  0.0000000e+00],\n",
       "       [ 1.1920929e-07,  0.0000000e+00, -2.3841858e-07, -1.1920929e-07,\n",
       "         0.0000000e+00, -2.3841858e-07,  2.3841858e-07,  2.3841858e-07,\n",
       "         0.0000000e+00,  0.0000000e+00],\n",
       "       [ 0.0000000e+00, -1.1920929e-07,  0.0000000e+00,  2.3841858e-07,\n",
       "         0.0000000e+00,  0.0000000e+00,  0.0000000e+00,  1.1920929e-07,\n",
       "         0.0000000e+00,  0.0000000e+00],\n",
       "       [ 0.0000000e+00, -2.3841858e-07,  0.0000000e+00, -2.3841858e-07,\n",
       "         0.0000000e+00,  0.0000000e+00,  2.3841858e-07,  0.0000000e+00,\n",
       "         0.0000000e+00,  0.0000000e+00],\n",
       "       [ 1.1920929e-07,  1.1920929e-07,  0.0000000e+00, -2.3841858e-07,\n",
       "         0.0000000e+00, -1.1920929e-07,  0.0000000e+00,  2.3841858e-07,\n",
       "         0.0000000e+00,  0.0000000e+00],\n",
       "       [ 0.0000000e+00, -2.3841858e-07,  2.3841858e-07,  0.0000000e+00,\n",
       "         0.0000000e+00,  1.1920929e-07,  0.0000000e+00,  0.0000000e+00,\n",
       "         0.0000000e+00,  0.0000000e+00],\n",
       "       [ 0.0000000e+00,  4.7683716e-07,  0.0000000e+00,  0.0000000e+00,\n",
       "         0.0000000e+00, -2.3841858e-07,  0.0000000e+00,  0.0000000e+00,\n",
       "         0.0000000e+00,  0.0000000e+00]], dtype=float32)"
      ]
     },
     "execution_count": 69,
     "metadata": {},
     "output_type": "execute_result"
    }
   ],
   "source": [
    "res_np-mult"
   ]
  },
  {
   "cell_type": "code",
   "execution_count": 70,
   "id": "3cc1c589",
   "metadata": {},
   "outputs": [
    {
     "data": {
      "text/plain": [
       "(32, 10)"
      ]
     },
     "execution_count": 70,
     "metadata": {},
     "output_type": "execute_result"
    }
   ],
   "source": [
    "res_np.shape"
   ]
  },
  {
   "cell_type": "code",
   "execution_count": 71,
   "id": "7c621598",
   "metadata": {},
   "outputs": [
    {
     "data": {
      "text/plain": [
       "(32, 10)"
      ]
     },
     "execution_count": 71,
     "metadata": {},
     "output_type": "execute_result"
    }
   ],
   "source": [
    "mult.shape"
   ]
  },
  {
   "cell_type": "markdown",
   "id": "2432487e",
   "metadata": {},
   "source": [
    "## MatMul2 (dense * sparse)"
   ]
  },
  {
   "cell_type": "markdown",
   "id": "ffdca101",
   "metadata": {},
   "source": [
    "wdata_buf = cl.Buffer(ctx, mf.READ_WRITE | mf.COPY_HOST_PTR, hostbuf=wdata)\n",
    "wcols_buf = cl.Buffer(ctx, mf.READ_WRITE | mf.COPY_HOST_PTR, hostbuf=wcols)\n",
    "wnnzs_buf = cl.Buffer(ctx, mf.READ_WRITE | mf.COPY_HOST_PTR, hostbuf=wnnz)\n",
    "wdatat_buf = cl.Buffer(ctx, mf.READ_WRITE | mf.COPY_HOST_PTR, hostbuf=wdatat)\n",
    "wcolst_buf = cl.Buffer(ctx, mf.READ_WRITE | mf.COPY_HOST_PTR, hostbuf=wcolst)\n",
    "wnnzst_buf = cl.Buffer(ctx, mf.READ_WRITE | mf.COPY_HOST_PTR, hostbuf=wnnzt)\n",
    "x_buf = cl.Buffer(ctx, mf.READ_WRITE | mf.COPY_HOST_PTR, hostbuf=x_init)\n",
    "\n",
    "prg = cl.Program(ctx, \"\"\"\n",
    "    // DENSE x SPARSE-T\n",
    "    __kernel void matmul2(__global  float* matData,     // INPUT MATRIX DATA\n",
    "                            __global  uint*  colIdx,\n",
    "                            __global  uint*  rowNnz,\n",
    "                            uint   ellwidth,\n",
    "                            uint   mwidth,\n",
    "                            uint   ncols,\n",
    "                            __global  float* vector_x,    // INPUT\n",
    "                            __global  float* vector_y    // OUTPUT\n",
    "                            ) { // LOCAL SHARED BUFFER\n",
    "      uint gid = get_global_id(0);\n",
    "      uint nrows = get_global_size(0);\n",
    "      uint nnz = rowNnz[gid];\n",
    "\n",
    "      for (uint gid2 = 0; gid2 < ncols; gid2++) {\n",
    "        float sum = 0;\n",
    "        for (uint i = 0; i < nnz; i++) {\n",
    "          uint index   = (gid * ellwidth) + i;\n",
    "          uint col     = colIdx[index];\n",
    "          float aval  = matData[index];\n",
    "          float xval  = vector_x[gid2*ncols+col];\n",
    "          sum  += aval * xval;\n",
    "          if (gid==0 && gid2==1)\n",
    "            printf(\"aval, xval: %.2f,%.2f - %.2f: (%i,%i) \\\\n\", aval, xval, sum, col, index);\n",
    "        }\n",
    "        //printf(\"SUM/NNZ: %.2f %i \\\\n\", sum, nnz);\n",
    "        vector_y[gid2*ncols+gid] = sum;\n",
    "      }\n",
    "    }\"\"\").build()"
   ]
  },
  {
   "cell_type": "code",
   "execution_count": 72,
   "id": "622ee80e",
   "metadata": {},
   "outputs": [],
   "source": [
    "wdata_buf = cl.Buffer(ctx, mf.READ_WRITE | mf.COPY_HOST_PTR, hostbuf=wdata)\n",
    "wcols_buf = cl.Buffer(ctx, mf.READ_WRITE | mf.COPY_HOST_PTR, hostbuf=wcols)\n",
    "wnnzs_buf = cl.Buffer(ctx, mf.READ_WRITE | mf.COPY_HOST_PTR, hostbuf=wnnz)\n",
    "wdatat_buf = cl.Buffer(ctx, mf.READ_WRITE | mf.COPY_HOST_PTR, hostbuf=wdatat)\n",
    "wcolst_buf = cl.Buffer(ctx, mf.READ_WRITE | mf.COPY_HOST_PTR, hostbuf=wcolst)\n",
    "wnnzst_buf = cl.Buffer(ctx, mf.READ_WRITE | mf.COPY_HOST_PTR, hostbuf=wnnzt)\n",
    "x_buf = cl.Buffer(ctx, mf.READ_WRITE | mf.COPY_HOST_PTR, hostbuf=x_init)\n",
    "\n",
    "prg = cl.Program(ctx, \"\"\"\n",
    "    // DENSE x SPARSE-T\n",
    "    __kernel void matmul2(__global  float* matData,     // INPUT MATRIX DATA\n",
    "                            __global  uint*  colIdx,\n",
    "                            __global  uint*  rowNnz,\n",
    "                            uint   ellwidth,\n",
    "                            uint   mwidth,\n",
    "                            uint   ncols0,\n",
    "                            __global  float* vector_x,    // INPUT\n",
    "                            __global  float* vector_y    // OUTPUT\n",
    "                            ) { // LOCAL SHARED BUFFER\n",
    "      uint gid = get_global_id(0);\n",
    "      uint nrows = get_global_size(0);\n",
    "      uint nnz = rowNnz[gid];\n",
    "      uint gid2 = get_global_id(1);\n",
    "      uint ncols = get_global_size(1);\n",
    "\n",
    "      float sum = 0;\n",
    "      for (uint i = 0; i < nnz; i++) {\n",
    "        uint index   = (gid2 * ellwidth) + i;\n",
    "        uint col     = colIdx[index];\n",
    "        float aval  = matData[index];\n",
    "        float xval  = vector_x[gid*mwidth+col];\n",
    "        sum  += aval * xval;\n",
    "        if (gid==1 && gid2==0) {\n",
    "          printf(\"aval, xval: %.2f,%.2f - %.2f: (%i,%i) \\\\n\", aval, xval, sum, col, index);\n",
    "        }\n",
    "      }\n",
    "      //printf(\"SUM/NNZ: %.2f %i \\\\n\", sum, nnz);\n",
    "      vector_y[gid*ncols+gid2] = sum;\n",
    "    }\"\"\").build()"
   ]
  },
  {
   "cell_type": "code",
   "execution_count": 73,
   "id": "61a52e82",
   "metadata": {},
   "outputs": [
    {
     "data": {
      "text/plain": [
       "array([32, 10])"
      ]
     },
     "execution_count": 73,
     "metadata": {},
     "output_type": "execute_result"
    }
   ],
   "source": [
    "outshape"
   ]
  },
  {
   "cell_type": "code",
   "execution_count": 74,
   "id": "5158a87f",
   "metadata": {},
   "outputs": [],
   "source": [
    "w_init.shape, x_init.shape\n",
    "w = w_init\n",
    "x = x_init"
   ]
  },
  {
   "cell_type": "code",
   "execution_count": 75,
   "id": "3f4f6639",
   "metadata": {},
   "outputs": [],
   "source": [
    "res = np.zeros(w.shape[0]).astype(np.float32)\n",
    "#res"
   ]
  },
  {
   "cell_type": "code",
   "execution_count": 76,
   "id": "25f573a1",
   "metadata": {},
   "outputs": [],
   "source": [
    "rows = w.shape[0]"
   ]
  },
  {
   "cell_type": "code",
   "execution_count": 77,
   "id": "a9a22c41",
   "metadata": {},
   "outputs": [],
   "source": [
    "mult = mult.astype(np.float32)"
   ]
  },
  {
   "cell_type": "code",
   "execution_count": 78,
   "id": "016a02ac",
   "metadata": {},
   "outputs": [
    {
     "data": {
      "text/plain": [
       "array([32, 64])"
      ]
     },
     "execution_count": 78,
     "metadata": {},
     "output_type": "execute_result"
    }
   ],
   "source": [
    "outshape = np.array([x.shape[0], w.shape[0]])\n",
    "outshape"
   ]
  },
  {
   "cell_type": "code",
   "execution_count": 79,
   "id": "9802f037",
   "metadata": {},
   "outputs": [
    {
     "name": "stdout",
     "output_type": "stream",
     "text": [
      "aval, xval: 0.37,0.64 - 0.23: (0,0) \n",
      "aval, xval: -0.03,1.74 - 0.17: (1,1) \n",
      "aval, xval: 0.08,0.30 - 0.20: (2,2) \n",
      "aval, xval: -0.21,0.71 - 0.05: (3,3) \n",
      "aval, xval: -0.50,1.82 - -0.86: (4,4) \n",
      "aval, xval: 0.30,0.43 - -0.73: (5,5) \n",
      "aval, xval: -0.18,1.54 - -1.01: (6,6) \n",
      "aval, xval: -1.70,-0.90 - 0.53: (7,7) \n",
      "aval, xval: -0.55,-0.14 - 0.60: (8,8) \n",
      "aval, xval: 0.30,1.30 - 0.99: (9,9) \n"
     ]
    },
    {
     "data": {
      "text/plain": [
       "<pyopencl._cl.NannyEvent at 0x7ff1542db1d0>"
      ]
     },
     "execution_count": 79,
     "metadata": {},
     "output_type": "execute_result"
    }
   ],
   "source": [
    "res_buf = cl.Buffer(ctx, mf.READ_WRITE, np.prod(outshape)*4)\n",
    "knl = prg.matmul2  # Use this Kernel object for repeated calls\n",
    "knl(queue, outshape, None, wdata_buf, wcols_buf, wnnzs_buf, np.uint32(ellww), np.uint32(w.shape[1]), np.uint32(x.shape[1]), x_buf, res_buf)\n",
    "\n",
    "res_np = np.zeros(outshape).astype(np.float32)\n",
    "cl.enqueue_copy(queue, res_np, res_buf)"
   ]
  },
  {
   "cell_type": "code",
   "execution_count": 80,
   "id": "75ddcdec",
   "metadata": {},
   "outputs": [
    {
     "data": {
      "text/plain": [
       "(32, 64)"
      ]
     },
     "execution_count": 80,
     "metadata": {},
     "output_type": "execute_result"
    }
   ],
   "source": [
    "mult = x.dot(w_init.T)\n",
    "mult.shape"
   ]
  },
  {
   "cell_type": "code",
   "execution_count": 81,
   "id": "87893c32",
   "metadata": {},
   "outputs": [
    {
     "data": {
      "text/plain": [
       "array([[ 1.0198762 , -2.8557298 , -0.7232425 , ..., -3.2115216 ,\n",
       "         2.913457  , -2.3689373 ],\n",
       "       [ 0.9885826 ,  5.6755376 , -3.0078568 , ...,  4.609541  ,\n",
       "        -4.1741986 ,  5.5915403 ],\n",
       "       [-1.0711612 ,  3.290888  ,  1.636742  , ..., -0.17965953,\n",
       "         2.1418145 , -2.2195456 ],\n",
       "       ...,\n",
       "       [-1.1189016 , -5.7348213 ,  0.99644226, ..., -1.9031762 ,\n",
       "        -0.62815833, -0.45603287],\n",
       "       [-1.8187716 ,  1.9929719 ,  0.54578674, ...,  6.7044945 ,\n",
       "        -5.146358  ,  0.7609284 ],\n",
       "       [ 1.6192342 , -0.93305635, -3.1302233 , ...,  3.6590157 ,\n",
       "         3.3437638 , -4.381602  ]], dtype=float32)"
      ]
     },
     "execution_count": 81,
     "metadata": {},
     "output_type": "execute_result"
    }
   ],
   "source": [
    "mult"
   ]
  },
  {
   "cell_type": "code",
   "execution_count": 82,
   "id": "aca22565",
   "metadata": {},
   "outputs": [
    {
     "data": {
      "text/plain": [
       "array([[ 1.0198761 , -2.8557298 , -0.7232425 , ..., -3.2115214 ,\n",
       "         2.913457  , -2.3689373 ],\n",
       "       [ 0.9885827 ,  5.6755376 , -3.0078568 , ...,  4.609541  ,\n",
       "        -4.174198  ,  5.5915403 ],\n",
       "       [-1.0711612 ,  3.290888  ,  1.636742  , ..., -0.17965946,\n",
       "         2.1418145 , -2.2195456 ],\n",
       "       ...,\n",
       "       [-1.1189016 , -5.734821  ,  0.99644226, ..., -1.9031763 ,\n",
       "        -0.62815833, -0.456033  ],\n",
       "       [-1.8187717 ,  1.992972  ,  0.54578674, ...,  6.704494  ,\n",
       "        -5.146358  ,  0.76092845],\n",
       "       [ 1.6192341 , -0.93305606, -3.130223  , ...,  3.6590157 ,\n",
       "         3.3437638 , -4.3816023 ]], dtype=float32)"
      ]
     },
     "execution_count": 82,
     "metadata": {},
     "output_type": "execute_result"
    }
   ],
   "source": [
    "res_np"
   ]
  },
  {
   "cell_type": "code",
   "execution_count": 83,
   "id": "b1b01085",
   "metadata": {},
   "outputs": [
    {
     "data": {
      "text/plain": [
       "array([[ 1.10855466e-03, -2.89544076e-01, -1.11606634e+00,\n",
       "        -1.28827570e-02, -3.78361464e-01, -4.81135368e-01,\n",
       "        -1.51733112e+00, -4.90871996e-01, -2.40680575e-01,\n",
       "        -6.47947431e-01],\n",
       "       [ 6.35891080e-01,  1.74011731e+00,  2.96682209e-01,\n",
       "         7.07503676e-01,  1.82281578e+00,  4.30769026e-01,\n",
       "         1.54272962e+00, -9.00721192e-01, -1.37125015e-01,\n",
       "         1.29757905e+00],\n",
       "       [ 6.75271153e-01,  3.19581181e-02,  9.18145895e-01,\n",
       "         3.80509466e-01,  5.16367495e-01, -3.55239451e-01,\n",
       "         2.08776996e-01,  3.28411072e-01, -4.98224765e-01,\n",
       "        -2.09177685e+00],\n",
       "       [-8.25877413e-02,  2.45518255e+00, -2.67211008e+00,\n",
       "        -9.13279295e-01, -2.27314353e-01,  2.69315392e-01,\n",
       "         1.13046122e+00,  1.04239750e+00,  1.30381048e+00,\n",
       "         1.38940072e+00],\n",
       "       [-6.56452596e-01, -5.62572964e-02, -4.99902606e-01,\n",
       "         4.36419368e-01, -3.75813037e-01, -9.23061609e-01,\n",
       "         1.91725028e+00, -1.50302842e-01, -6.38729751e-01,\n",
       "         8.24770331e-01],\n",
       "       [-1.21083879e+00, -5.03405392e-01, -7.01915681e-01,\n",
       "        -1.97427106e+00, -2.65573215e+00, -5.76822497e-02,\n",
       "        -6.56186581e-01, -6.61706686e-01,  7.69348443e-01,\n",
       "        -8.99004877e-01],\n",
       "       [ 1.69363797e+00, -1.69733524e+00, -2.79337025e+00,\n",
       "        -2.26150647e-01,  3.97428840e-01,  1.65970361e+00,\n",
       "        -4.93746817e-01, -3.76097679e-01, -1.69739768e-01,\n",
       "         2.41710639e+00],\n",
       "       [-1.80884051e+00,  3.39751154e-01, -2.27297600e-02,\n",
       "        -9.59997058e-01, -3.83114427e-01,  1.09529994e-01,\n",
       "        -8.55162859e-01,  2.21606664e-04,  6.63855076e-01,\n",
       "         7.49480963e-01],\n",
       "       [-4.65818375e-01, -2.77439266e-01,  3.54995355e-02,\n",
       "         8.48221183e-01,  1.62998557e-01,  1.20862365e+00,\n",
       "         5.02520800e-01, -1.58382213e+00,  1.02303350e+00,\n",
       "        -6.53017402e-01],\n",
       "       [ 5.37045121e-01, -7.97706190e-03,  9.24784184e-01,\n",
       "         4.66083325e-02,  1.42019868e-01, -1.65366137e+00,\n",
       "         1.36799216e+00,  2.51062457e-02, -3.95482242e-01,\n",
       "         1.28438759e+00],\n",
       "       [ 5.61277032e-01,  2.39725500e-01,  4.79899108e-01,\n",
       "         6.17529526e-02, -1.07051229e+00, -1.27321005e+00,\n",
       "         9.20076132e-01,  1.05491853e+00,  5.40288031e-01,\n",
       "         3.09063524e-01],\n",
       "       [ 9.70861197e-01,  1.15472412e+00,  4.22608823e-01,\n",
       "         9.99208927e-01,  8.83520246e-01, -5.30199170e-01,\n",
       "         8.14134836e-01, -1.01988423e+00, -2.25823689e+00,\n",
       "         6.79954886e-01],\n",
       "       [-4.01764750e-01,  1.94032061e+00, -1.24440467e+00,\n",
       "         9.39309895e-01, -2.40807906e-01,  2.70807236e-01,\n",
       "        -1.09553957e+00,  2.40134287e+00, -2.79909730e-01,\n",
       "         2.03080082e+00],\n",
       "       [-8.19394663e-02, -1.21862638e+00, -8.06870520e-01,\n",
       "         1.31804192e+00, -5.78638673e-01,  8.20524991e-02,\n",
       "         1.39591050e+00,  1.08187962e+00, -1.01656091e+00,\n",
       "        -2.91998297e-01],\n",
       "       [ 1.55935824e+00, -5.46300173e-01,  9.60590720e-01,\n",
       "         2.11210519e-01, -1.24537146e+00,  3.04545105e-01,\n",
       "        -5.98380446e-01,  1.23065859e-01, -7.90836990e-01,\n",
       "         6.43894196e-01],\n",
       "       [-5.96503913e-02,  9.13246572e-01, -1.09057748e+00,\n",
       "        -1.74850717e-01,  1.06527913e+00,  1.23723018e+00,\n",
       "         1.01979601e+00,  8.60687315e-01, -7.32433856e-01,\n",
       "         4.40224826e-01],\n",
       "       [ 6.46064103e-01,  2.61912912e-01,  7.07215369e-01,\n",
       "        -4.36652064e-01,  7.93819189e-01, -2.60553092e-01,\n",
       "        -8.39660525e-01, -1.47970736e+00,  1.10739493e+00,\n",
       "        -1.19675398e+00],\n",
       "       [-1.02723074e+00, -1.57112896e+00,  2.04297590e+00,\n",
       "         1.88998473e+00, -7.98661590e-01, -1.82478702e+00,\n",
       "        -7.76053369e-01, -6.47596061e-01, -4.87334609e-01,\n",
       "         3.75263870e-01],\n",
       "       [-1.03600633e+00, -1.33923978e-01,  3.84878904e-01,\n",
       "         3.54396909e-01,  3.42637628e-01, -5.97300828e-01,\n",
       "        -1.88548222e-01,  7.00324953e-01, -1.32562339e+00,\n",
       "         9.37028468e-01],\n",
       "       [-4.50689703e-01,  9.31129158e-01, -1.80543125e+00,\n",
       "         4.30398762e-01, -5.67293942e-01,  1.06995571e+00,\n",
       "        -1.21009581e-01, -1.03280473e+00,  8.35280836e-01,\n",
       "        -8.51920307e-01],\n",
       "       [-1.18494153e+00, -1.03075194e+00, -9.14885223e-01,\n",
       "        -8.24207723e-01, -7.37330377e-01,  8.57564032e-01,\n",
       "         9.47187245e-01,  1.19697189e+00,  1.89808404e+00,\n",
       "         5.24789631e-01],\n",
       "       [-1.40579477e-01, -1.29148221e+00, -4.74517375e-01,\n",
       "        -6.06574258e-03,  1.30819821e+00, -6.51560247e-01,\n",
       "         1.60263014e+00,  1.56452775e+00, -2.58063972e-01,\n",
       "        -3.59221190e-01],\n",
       "       [ 9.79303662e-03, -7.89930761e-01, -1.10380089e+00,\n",
       "        -5.63769400e-01,  4.81348455e-01, -2.28405190e+00,\n",
       "         6.93268299e-01,  1.62451327e+00,  1.23023248e+00,\n",
       "         1.64910483e+00],\n",
       "       [-1.48593295e+00, -1.07689226e+00,  1.58458030e+00,\n",
       "         3.88060540e-01,  1.27547348e+00,  2.10970446e-01,\n",
       "         6.19835734e-01, -1.00229597e+00, -5.32611072e-01,\n",
       "         9.36027586e-01],\n",
       "       [ 1.79254413e-01, -3.70080955e-02,  8.42660010e-01,\n",
       "        -8.13275397e-01, -1.67293811e+00, -8.50551844e-01,\n",
       "        -2.81715333e-01,  1.51993144e+00, -9.59193945e-01,\n",
       "         7.25390613e-01],\n",
       "       [ 5.55428624e-01,  8.29749882e-01,  1.46885812e+00,\n",
       "        -3.82227916e-03,  1.05748689e+00, -9.83664930e-01,\n",
       "         1.08536077e+00,  3.65864962e-01, -1.09298754e+00,\n",
       "        -2.23647165e+00],\n",
       "       [-1.23488873e-01, -1.78298995e-01,  2.21642065e+00,\n",
       "         2.25298142e+00, -1.00637436e+00,  1.00387263e+00,\n",
       "        -1.24200754e-01, -1.52468145e-01, -1.30110967e+00,\n",
       "        -2.74245888e-01],\n",
       "       [ 3.71210426e-01, -6.21145010e-01,  6.68889344e-01,\n",
       "         1.21554688e-01,  1.75451386e+00,  7.96282351e-01,\n",
       "         4.70908046e-01,  1.58530787e-01, -3.75213981e-01,\n",
       "         9.62947607e-01],\n",
       "       [-5.59353411e-01,  7.54695177e-01, -3.50024030e-02,\n",
       "         1.69773266e-01,  2.01707053e+00,  7.43194342e-01,\n",
       "         7.74970591e-01, -3.89381826e-01,  2.90097538e-02,\n",
       "         2.04417467e-01],\n",
       "       [-7.29299128e-01, -9.43909526e-01,  2.48252302e-01,\n",
       "         1.29413235e+00, -1.17155445e+00,  1.41722366e-01,\n",
       "        -6.88227952e-01,  4.81370270e-01,  3.48110497e-01,\n",
       "        -1.26629829e+00],\n",
       "       [-1.19335198e+00,  4.58342373e-01,  1.63545802e-01,\n",
       "         3.41953486e-01,  5.98936915e-01,  6.43653572e-01,\n",
       "         2.26111007e+00,  3.99902940e-01,  5.21601327e-02,\n",
       "        -3.02392393e-01],\n",
       "       [ 1.60009634e+00,  1.04643083e+00, -6.27053976e-01,\n",
       "        -1.03705060e+00, -1.05841577e+00,  9.01866615e-01,\n",
       "         1.03235424e+00,  2.01668903e-01, -1.88896644e+00,\n",
       "        -1.34297967e+00]], dtype=float32)"
      ]
     },
     "execution_count": 83,
     "metadata": {},
     "output_type": "execute_result"
    }
   ],
   "source": [
    "x"
   ]
  },
  {
   "cell_type": "code",
   "execution_count": 84,
   "id": "7a2bc717",
   "metadata": {},
   "outputs": [
    {
     "data": {
      "text/plain": [
       "array([[ 0.36527893, -0.03430624,  0.07568537, -0.20548421, -0.49928266,\n",
       "         0.29659814, -0.17751434, -1.7038512 , -0.5477791 ,  0.29694587],\n",
       "       [-0.3838112 ,  0.6774855 ,  1.7037388 , -1.3552694 ,  3.2101295 ,\n",
       "        -0.47412255, -0.1520954 ,  0.5938055 , -1.3909731 ,  0.09679974],\n",
       "       [ 0.02328284, -0.52373195,  0.2959063 , -0.6676638 ,  0.04768714,\n",
       "        -1.580838  ,  0.5743469 ,  0.93183094,  1.7980465 , -0.7189207 ],\n",
       "       [ 0.61396384, -0.26823863,  0.93568426, -1.5383533 , -0.6345008 ,\n",
       "        -0.0785874 ,  1.5962073 , -1.6852865 ,  0.72588986, -0.04414608],\n",
       "       [ 0.3679531 , -0.54433686, -1.5003314 ,  1.275841  , -1.0670458 ,\n",
       "         0.15271302, -1.042708  ,  0.26798233,  1.182636  ,  0.3193706 ],\n",
       "       [-0.62229687, -0.12888767,  0.35747743, -1.4602345 ,  0.5396376 ,\n",
       "         0.1378612 , -0.30455658,  0.5800385 ,  0.5298659 ,  0.02696081],\n",
       "       [-0.19980964, -0.5811444 ,  0.41489   ,  1.6072612 ,  0.5776702 ,\n",
       "         0.74300027, -1.2662393 , -1.53522   ,  0.66175264, -0.58485454],\n",
       "       [ 1.1617996 , -0.21754059, -0.14996772,  0.42454538, -0.37336013,\n",
       "        -2.2628205 ,  1.3428568 , -0.31357557,  0.43798348, -0.6010528 ],\n",
       "       [-0.37047783, -0.12267966,  0.6963559 ,  0.4371055 , -1.5656843 ,\n",
       "         0.6293518 ,  0.15021688, -0.06748997,  0.92560256, -2.0155241 ],\n",
       "       [ 0.2533893 , -0.05470356,  0.78173214,  0.49264076,  0.934189  ,\n",
       "        -1.1228242 ,  0.98254204, -1.3344718 , -0.09998425, -0.42278692],\n",
       "       [ 0.61272424, -0.18571931,  0.45843747,  0.55066484, -0.28167158,\n",
       "         0.89663976,  0.23555328, -1.8773314 , -1.0119591 , -0.8243209 ],\n",
       "       [-0.1780321 , -0.5321569 ,  0.46745723, -0.6170974 ,  0.83015585,\n",
       "         0.40888157, -1.6227294 , -0.13736378, -0.70519906,  0.5929574 ],\n",
       "       [ 1.5043448 , -1.4351016 , -0.3048956 ,  2.2614243 , -1.2093897 ,\n",
       "         0.5707195 , -1.9788734 , -0.20337594, -0.41079378, -1.3129374 ],\n",
       "       [-1.2208155 ,  0.8533091 , -0.14408295,  1.3994025 , -0.8273463 ,\n",
       "        -0.42053118,  1.408898  ,  1.9365189 ,  0.8308608 ,  0.43941823],\n",
       "       [ 0.64341754, -0.05586036,  2.2305298 ,  1.0484574 , -0.71871   ,\n",
       "         1.3739007 , -0.3195557 ,  0.05774439,  0.44524163, -0.9374809 ],\n",
       "       [ 0.5769221 ,  2.1800492 , -0.94013107, -1.6083227 , -0.30096486,\n",
       "        -0.46595448,  1.1863713 , -1.0974054 ,  1.9413787 , -1.1048511 ],\n",
       "       [ 0.4238569 ,  2.115121  ,  1.4256759 ,  1.0058094 , -0.02196956,\n",
       "         0.3018239 , -0.76737297,  1.7582461 , -0.45092726, -0.36242443],\n",
       "       [-0.11843145, -0.17508389, -0.6152251 , -0.11684743, -0.32937658,\n",
       "         0.62942135,  0.71097916, -0.16688876, -0.23950669, -2.5175529 ],\n",
       "       [ 0.01237159, -0.76088125, -1.0106083 ,  0.97519016, -0.70631135,\n",
       "        -0.06231729,  1.571403  ,  0.7939509 , -0.02022647, -0.43337446],\n",
       "       [-0.04369861, -2.8436456 ,  0.7606228 , -0.01640377,  1.3438951 ,\n",
       "         0.82776546,  0.5912017 ,  2.5111184 ,  0.40296352,  0.38512322],\n",
       "       [ 0.43403873,  2.546796  ,  0.37389988, -2.5980194 , -0.02696802,\n",
       "        -0.05136467,  0.704236  , -0.01048319, -0.81958455, -1.1140318 ],\n",
       "       [-0.16828121,  0.45552638,  1.5219029 ,  1.5672227 , -0.4245887 ,\n",
       "        -0.4839546 ,  0.01988443, -2.5985236 ,  1.2200269 , -1.1979891 ],\n",
       "       [ 0.03341636, -1.310132  , -0.01381677,  0.1883078 , -0.835011  ,\n",
       "         0.48562235, -0.17882076,  0.75489163, -0.8473543 , -0.18584386],\n",
       "       [ 0.1856065 , -0.7024648 , -2.0845594 ,  0.54640335, -0.06086949,\n",
       "         0.49179128, -1.0864048 ,  0.7660783 ,  0.7261139 ,  0.00566147],\n",
       "       [ 1.0023233 , -2.3201644 , -1.0339904 , -1.190833  , -1.4511627 ,\n",
       "        -0.6394927 ,  0.04786107,  1.5569292 ,  0.10345808,  0.61769813],\n",
       "       [-0.2955368 ,  1.7843239 , -0.85363394, -1.1008695 ,  0.20106564,\n",
       "         1.8750523 , -0.36223727, -0.23149337,  1.4955399 , -1.1599185 ],\n",
       "       [-0.9461492 , -1.783786  , -2.5174568 , -1.2406579 , -1.8457693 ,\n",
       "        -1.2175353 ,  1.4083995 , -0.9690655 , -0.7756244 ,  1.2118965 ],\n",
       "       [-0.00891776,  1.5391396 ,  0.81595075, -0.09400899,  1.9830667 ,\n",
       "         0.6990086 , -0.6722561 , -1.1959015 ,  2.3445945 , -0.5763622 ],\n",
       "       [ 0.71416765,  0.48528367,  0.84830546,  1.5376738 , -2.611537  ,\n",
       "        -0.45675263, -0.09888832,  1.5090077 , -0.53903735, -0.7144933 ],\n",
       "       [ 0.7028365 , -0.5743064 ,  0.726161  ,  1.5564063 ,  1.4995377 ,\n",
       "        -0.86546   , -2.023211  ,  0.522984  , -0.17679289,  1.7865366 ],\n",
       "       [-1.6301335 ,  0.64023143, -0.6871421 ,  0.2472147 ,  0.9182248 ,\n",
       "         0.35389543,  0.21930714,  0.8760328 ,  0.09993859, -0.10335019],\n",
       "       [ 1.5219165 , -2.1722999 ,  0.75266075,  1.7626799 ,  0.5029135 ,\n",
       "         0.97984123,  1.3619437 ,  1.5707567 , -1.0184529 ,  0.7227452 ],\n",
       "       [ 2.4353216 , -1.0283586 ,  0.03695803, -0.5187933 , -0.7203181 ,\n",
       "         0.13486333, -0.5452232 , -1.1618956 , -1.4898382 ,  1.1818786 ],\n",
       "       [ 2.0366604 ,  1.9378434 , -0.92878556, -1.4114913 , -0.28812385,\n",
       "         0.7568164 , -0.24814141,  1.5273795 ,  1.0391908 ,  0.3226635 ],\n",
       "       [-0.90725493, -0.38456067,  1.6598189 , -0.4761864 , -0.31662548,\n",
       "        -1.1965357 ,  1.0757532 , -0.09190041,  0.16712008, -1.7299796 ],\n",
       "       [-0.5341394 , -1.2399179 ,  0.16164243,  1.6648362 , -1.206697  ,\n",
       "        -1.706122  ,  0.08645869,  0.7138598 , -0.5587304 , -0.42867407],\n",
       "       [ 0.22707295, -0.13703185,  0.32882962, -1.0478071 , -0.9844779 ,\n",
       "        -0.03527997,  0.87650067,  0.5358904 , -0.251002  ,  0.36055443],\n",
       "       [-0.773016  , -0.19927861, -1.5824643 , -1.436822  , -2.9086444 ,\n",
       "         1.4757305 ,  0.59496933,  0.6968142 ,  0.60319877,  0.28490967],\n",
       "       [ 0.0922358 , -0.51152927,  0.5004225 , -0.05485058, -0.297855  ,\n",
       "        -0.39821032, -0.83777165, -0.050969  , -1.3379613 , -1.0193142 ],\n",
       "       [ 0.22548433,  1.5085019 ,  0.07378934, -0.21838343,  0.5635007 ,\n",
       "         0.96042717,  1.4584576 ,  0.06864319,  1.2512714 , -0.45866776],\n",
       "       [-1.8062141 ,  1.5830097 ,  0.69768786, -0.18858875,  0.08296799,\n",
       "         1.1289655 ,  0.3013287 , -1.725711  ,  0.9837239 ,  1.5170652 ],\n",
       "       [ 1.383646  ,  0.56153816,  0.7723325 , -0.56524897,  0.55440766,\n",
       "        -0.27116528, -1.1621313 , -0.7974797 , -0.36795184,  0.26271698],\n",
       "       [ 0.14140798,  1.6151273 , -0.9020152 ,  1.8642122 ,  0.7669435 ,\n",
       "        -0.20873037, -1.305783  ,  0.8445428 , -1.316912  ,  1.6696999 ],\n",
       "       [-1.0478508 ,  0.93324137, -0.46408382,  1.8988639 , -1.313466  ,\n",
       "         0.20593733, -1.1129467 ,  0.9731864 ,  1.166138  ,  1.2324251 ],\n",
       "       [-0.9158936 ,  0.24361715,  0.03095185,  0.5443048 ,  0.9888742 ,\n",
       "         1.6139642 , -1.7588757 ,  0.12695344,  1.5600812 ,  0.80199206],\n",
       "       [ 1.4516317 , -0.9002045 ,  0.41497764, -0.728766  ,  0.6179588 ,\n",
       "        -0.46204603,  0.6866289 ,  0.33704096,  0.09762031, -0.801347  ],\n",
       "       [-0.5659484 , -0.60656065, -0.40893814, -0.25529605,  0.38582313,\n",
       "        -0.606193  ,  1.0204203 ,  0.21386108,  0.03760251, -0.4278045 ],\n",
       "       [ 0.43416837,  1.2442057 ,  0.80968934,  0.62100965, -0.07865934,\n",
       "        -0.7122718 , -0.20038393, -1.8970768 ,  0.36020657,  1.496298  ],\n",
       "       [ 1.5019404 , -0.86790353,  0.98974687,  0.25046796, -0.18987921,\n",
       "        -1.2810054 , -1.5261316 ,  1.1415159 , -0.71549153,  0.13791282],\n",
       "       [-0.05894269, -0.9362544 ,  0.34162235,  0.02913631,  1.2496543 ,\n",
       "         1.1014423 ,  0.33758196,  1.3368615 ,  0.43002057,  1.3878003 ],\n",
       "       [-1.3988382 , -0.58331275, -0.87900776,  0.24597041, -0.66601306,\n",
       "         1.254038  ,  0.4835771 ,  0.7557985 ,  1.114029  , -0.6633891 ],\n",
       "       [-0.5072284 ,  2.2408614 ,  2.1527624 , -1.7026223 , -1.4612343 ,\n",
       "        -0.46713328,  1.7063963 , -1.4119523 , -1.0325899 , -1.4278866 ],\n",
       "       [ 0.18800114,  0.64938766,  0.2889354 , -0.49746704,  0.52291596,\n",
       "         0.8992093 , -0.58913577, -1.0816705 ,  0.05678635, -0.9230425 ],\n",
       "       [ 1.6489258 , -0.21601038,  1.9228582 , -1.4281017 , -0.69006455,\n",
       "        -0.643851  , -0.06632369, -0.26855284, -0.12165649,  0.6696252 ],\n",
       "       [ 0.20809329,  0.7183024 , -0.32988554, -1.0349495 , -0.73749304,\n",
       "        -0.283301  ,  0.3610077 , -0.83257556, -1.4665072 ,  0.08001225],\n",
       "       [-0.02833502, -0.26189762,  1.1036242 ,  0.11483782, -0.44824985,\n",
       "         0.62329996,  0.06129851,  0.5077994 ,  0.39442196,  0.09903395],\n",
       "       [ 1.0034614 ,  0.4727806 , -0.57055223,  0.7022092 , -0.59809196,\n",
       "        -0.95049036, -1.1982037 , -0.12565723, -0.47292545, -1.1064588 ],\n",
       "       [ 1.1033813 ,  1.4121324 ,  1.2723556 , -0.5750803 , -1.4894582 ,\n",
       "         1.9345264 ,  0.99553835,  1.040587  , -0.58985794,  0.38162637],\n",
       "       [-2.8801425 ,  0.16853818,  0.07868322, -1.365972  , -0.22706257,\n",
       "         1.6887338 , -0.9010653 ,  2.0773878 ,  0.6092838 , -0.8632822 ],\n",
       "       [ 0.01150176,  1.543401  ,  0.75234467,  0.5746582 ,  0.54235935,\n",
       "         0.37275568, -2.39715   ,  0.22541338, -0.19625984, -0.8548995 ],\n",
       "       [ 1.756368  ,  0.14447132, -0.6510074 , -1.7961725 , -0.17665398,\n",
       "        -1.8977357 , -0.8614731 , -1.0587124 ,  0.337486  ,  0.15888184],\n",
       "       [ 0.23640148, -0.5419451 , -1.2822055 ,  0.16714416,  0.55890846,\n",
       "         1.1453153 ,  2.7920227 , -0.19842893,  0.20286787, -0.2358118 ],\n",
       "       [ 0.5639174 ,  0.24069457,  0.943432  , -1.8358376 , -0.84676707,\n",
       "        -0.9766044 , -1.2164853 , -1.2321633 , -0.5527253 , -0.9844424 ],\n",
       "       [ 0.22660075,  0.68860227,  0.7048108 ,  1.5749323 ,  0.36262453,\n",
       "         0.88586795, -0.08846617, -0.38807693,  0.93873614,  1.3863319 ]],\n",
       "      dtype=float32)"
      ]
     },
     "execution_count": 84,
     "metadata": {},
     "output_type": "execute_result"
    }
   ],
   "source": [
    "w"
   ]
  },
  {
   "cell_type": "code",
   "execution_count": 85,
   "id": "25bff0bb",
   "metadata": {},
   "outputs": [
    {
     "data": {
      "text/plain": [
       "-4.2980537e-06"
      ]
     },
     "execution_count": 85,
     "metadata": {},
     "output_type": "execute_result"
    }
   ],
   "source": [
    "(res_np-mult).sum()"
   ]
  },
  {
   "cell_type": "code",
   "execution_count": 86,
   "id": "4b476526",
   "metadata": {},
   "outputs": [
    {
     "data": {
      "text/plain": [
       "array([[ 1.0198762 , -2.8557298 , -0.7232425 , ..., -3.2115216 ,\n",
       "         2.913457  , -2.3689373 ],\n",
       "       [ 0.9885826 ,  5.6755376 , -3.0078568 , ...,  4.609541  ,\n",
       "        -4.1741986 ,  5.5915403 ],\n",
       "       [-1.0711612 ,  3.290888  ,  1.636742  , ..., -0.17965953,\n",
       "         2.1418145 , -2.2195456 ],\n",
       "       ...,\n",
       "       [-1.1189016 , -5.7348213 ,  0.99644226, ..., -1.9031762 ,\n",
       "        -0.62815833, -0.45603287],\n",
       "       [-1.8187716 ,  1.9929719 ,  0.54578674, ...,  6.7044945 ,\n",
       "        -5.146358  ,  0.7609284 ],\n",
       "       [ 1.6192342 , -0.93305635, -3.1302233 , ...,  3.6590157 ,\n",
       "         3.3437638 , -4.381602  ]], dtype=float32)"
      ]
     },
     "execution_count": 86,
     "metadata": {},
     "output_type": "execute_result"
    }
   ],
   "source": [
    "mult"
   ]
  },
  {
   "cell_type": "code",
   "execution_count": 87,
   "id": "7c27301f",
   "metadata": {},
   "outputs": [
    {
     "data": {
      "text/plain": [
       "array([[False,  True,  True, ..., False,  True,  True],\n",
       "       [False,  True,  True, ...,  True, False,  True],\n",
       "       [ True,  True,  True, ..., False,  True,  True],\n",
       "       ...,\n",
       "       [ True, False,  True, ..., False,  True, False],\n",
       "       [False, False,  True, ..., False,  True, False],\n",
       "       [False, False, False, ...,  True,  True, False]])"
      ]
     },
     "execution_count": 87,
     "metadata": {},
     "output_type": "execute_result"
    }
   ],
   "source": [
    "res_np==mult"
   ]
  },
  {
   "cell_type": "code",
   "execution_count": 88,
   "id": "2895fd1c",
   "metadata": {},
   "outputs": [
    {
     "data": {
      "text/plain": [
       "array([[-1.1920929e-07,  0.0000000e+00,  0.0000000e+00, ...,\n",
       "         2.3841858e-07,  0.0000000e+00,  0.0000000e+00],\n",
       "       [ 5.9604645e-08,  0.0000000e+00,  0.0000000e+00, ...,\n",
       "         0.0000000e+00,  4.7683716e-07,  0.0000000e+00],\n",
       "       [ 0.0000000e+00,  0.0000000e+00,  0.0000000e+00, ...,\n",
       "         7.4505806e-08,  0.0000000e+00,  0.0000000e+00],\n",
       "       ...,\n",
       "       [ 0.0000000e+00,  4.7683716e-07,  0.0000000e+00, ...,\n",
       "        -1.1920929e-07,  0.0000000e+00, -1.1920929e-07],\n",
       "       [-1.1920929e-07,  1.1920929e-07,  0.0000000e+00, ...,\n",
       "        -4.7683716e-07,  0.0000000e+00,  5.9604645e-08],\n",
       "       [-1.1920929e-07,  2.9802322e-07,  2.3841858e-07, ...,\n",
       "         0.0000000e+00,  0.0000000e+00, -4.7683716e-07]], dtype=float32)"
      ]
     },
     "execution_count": 88,
     "metadata": {},
     "output_type": "execute_result"
    }
   ],
   "source": [
    "res_np-mult"
   ]
  },
  {
   "cell_type": "code",
   "execution_count": 89,
   "id": "85267e65",
   "metadata": {},
   "outputs": [
    {
     "data": {
      "text/plain": [
       "(32, 64)"
      ]
     },
     "execution_count": 89,
     "metadata": {},
     "output_type": "execute_result"
    }
   ],
   "source": [
    "res_np.shape"
   ]
  },
  {
   "cell_type": "code",
   "execution_count": 90,
   "id": "1985612f",
   "metadata": {},
   "outputs": [
    {
     "data": {
      "text/plain": [
       "(32, 64)"
      ]
     },
     "execution_count": 90,
     "metadata": {},
     "output_type": "execute_result"
    }
   ],
   "source": [
    "mult.shape"
   ]
  },
  {
   "cell_type": "code",
   "execution_count": 91,
   "id": "78de1ed7",
   "metadata": {},
   "outputs": [
    {
     "ename": "NameError",
     "evalue": "name 'asdf' is not defined",
     "output_type": "error",
     "traceback": [
      "\u001b[0;31m---------------------------------------------------------------------------\u001b[0m",
      "\u001b[0;31mNameError\u001b[0m                                 Traceback (most recent call last)",
      "\u001b[0;32m/tmp/ipykernel_25977/2827374946.py\u001b[0m in \u001b[0;36m<module>\u001b[0;34m\u001b[0m\n\u001b[0;32m----> 1\u001b[0;31m \u001b[0masdf\u001b[0m\u001b[0;34m\u001b[0m\u001b[0;34m\u001b[0m\u001b[0m\n\u001b[0m",
      "\u001b[0;31mNameError\u001b[0m: name 'asdf' is not defined"
     ]
    }
   ],
   "source": [
    "asdf"
   ]
  },
  {
   "cell_type": "markdown",
   "id": "7aad6088",
   "metadata": {},
   "source": [
    "## MatMul (dense * sparse) NEW"
   ]
  },
  {
   "cell_type": "markdown",
   "id": "f44a4c7a",
   "metadata": {},
   "source": [
    "bdata_buf = cl.Buffer(ctx, mf.READ_WRITE | mf.COPY_HOST_PTR, hostbuf=bdata)\n",
    "bcols_buf = cl.Buffer(ctx, mf.READ_WRITE | mf.COPY_HOST_PTR, hostbuf=bcols)\n",
    "bnnzs_buf = cl.Buffer(ctx, mf.READ_WRITE | mf.COPY_HOST_PTR, hostbuf=bnnz)\n",
    "bdatat_buf = cl.Buffer(ctx, mf.READ_WRITE | mf.COPY_HOST_PTR, hostbuf=bdatat)\n",
    "bcolst_buf = cl.Buffer(ctx, mf.READ_WRITE | mf.COPY_HOST_PTR, hostbuf=bcolst)\n",
    "bnnzst_buf = cl.Buffer(ctx, mf.READ_WRITE | mf.COPY_HOST_PTR, hostbuf=bnnzt)\n",
    "a_buf = cl.Buffer(ctx, mf.READ_WRITE | mf.COPY_HOST_PTR, hostbuf=a)\n",
    "\n",
    "prg = cl.Program(ctx, \"\"\"\n",
    "    // DENSE x SPARSE\n",
    "    __kernel void matmulnew(__global  float* matData,     // INPUT MATRIX DATA\n",
    "                            __global  uint*  colIdx,\n",
    "                            __global  uint*  rowNnz,\n",
    "                            uint   ellwidth,\n",
    "                            uint   mwidth,\n",
    "                            __global  float* vector_x,    // INPUT\n",
    "                            __global  float* vector_y    // OUTPUT\n",
    "                            ) { // LOCAL SHARED BUFFER\n",
    "      uint gid = get_global_id(0);\n",
    "      uint nrows = get_global_size(0);\n",
    "      uint gid2 = get_global_id(1);\n",
    "      uint ncols = get_global_size(1);\n",
    "      uint nnz = rowNnz[gid2];\n",
    "      float sum = 0;\n",
    "      for (uint i = 0; i < nnz; i++) {\n",
    "        uint index   = (gid2 * ellwidth) + i;\n",
    "        uint col     = colIdx[index];\n",
    "        float aval  = matData[index];\n",
    "        float xval  = vector_x[gid*mwidth+col];\n",
    "        vector_y[gid2*nrows+gid] += aval * xval;\n",
    "        if (gid==0 && gid2==0)\n",
    "          printf(\"aval, xval: %.2f,%.2f - %.2f: (%i,%i) \\\\n\", aval, xval, sum, col, index);\n",
    "        //printf(\"SUM/NNZ: %.2f %i \\\\n\", sum, nnz);\n",
    "        \n",
    "      }\n",
    "      \n",
    "    }\"\"\").build()"
   ]
  },
  {
   "cell_type": "code",
   "execution_count": null,
   "id": "d87d5988",
   "metadata": {},
   "outputs": [],
   "source": [
    "mult = a.dot(b)\n",
    "mult"
   ]
  },
  {
   "cell_type": "code",
   "execution_count": null,
   "id": "4aa4d149",
   "metadata": {},
   "outputs": [],
   "source": [
    "bdata_buf = cl.Buffer(ctx, mf.READ_WRITE | mf.COPY_HOST_PTR, hostbuf=data)\n",
    "bcols_buf = cl.Buffer(ctx, mf.READ_WRITE | mf.COPY_HOST_PTR, hostbuf=bcols)\n",
    "bnnzs_buf = cl.Buffer(ctx, mf.READ_WRITE | mf.COPY_HOST_PTR, hostbuf=bnnz)\n",
    "bdatat_buf = cl.Buffer(ctx, mf.READ_WRITE | mf.COPY_HOST_PTR, hostbuf=bdatat)\n",
    "bcolst_buf = cl.Buffer(ctx, mf.READ_WRITE | mf.COPY_HOST_PTR, hostbuf=bcolst)\n",
    "bnnzst_buf = cl.Buffer(ctx, mf.READ_WRITE | mf.COPY_HOST_PTR, hostbuf=bnnzt)\n",
    "a_buf = cl.Buffer(ctx, mf.READ_WRITE | mf.COPY_HOST_PTR, hostbuf=a)\n",
    "\n",
    "prg = cl.Program(ctx, \"\"\"\n",
    "    // DENSE x SPARSE\n",
    "    __kernel void matmulnew(__global  float* matData,     // INPUT MATRIX DATA\n",
    "                            __global  uint*  colIdx,\n",
    "                            __global  uint*  rowNnz,\n",
    "                            uint   ellwidth,\n",
    "                            uint   mwidth,\n",
    "                            __global  float* vector_x,    // INPUT\n",
    "                            __global  float* vector_y    // OUTPUT\n",
    "                            ) { // LOCAL SHARED BUFFER\n",
    "      uint gid = get_global_id(0);\n",
    "      uint nrows = get_global_size(0);\n",
    "      uint gid2 = get_global_id(1);\n",
    "      uint ncols = get_global_size(1);\n",
    "      uint nnz = rowNnz[gid2];\n",
    "      float sum = 0;\n",
    "      for (uint i = 0; i < nnz; i++) {\n",
    "        uint index   = (gid2 * ellwidth) + i;\n",
    "        uint col     = colIdx[index];\n",
    "        float aval  = matData[index];\n",
    "        float xval  = vector_x[gid*mwidth+col];\n",
    "        sum  += aval * xval;\n",
    "        if (gid==1 && gid2==0)\n",
    "          printf(\"aval, xval: %.2f,%.2f - %.2f: (%i,%i) \\\\n\", aval, xval, sum, col, index);\n",
    "        //printf(\"SUM/NNZ: %.2f %i \\\\n\", sum, nnz);\n",
    "      }\n",
    "      vector_y[gid2*ncols+gid] = sum;\n",
    "    }\"\"\").build()"
   ]
  },
  {
   "cell_type": "code",
   "execution_count": null,
   "id": "e547428c",
   "metadata": {},
   "outputs": [],
   "source": [
    "a.shape, b.shape"
   ]
  },
  {
   "cell_type": "code",
   "execution_count": 92,
   "id": "b5220c53",
   "metadata": {},
   "outputs": [],
   "source": [
    "res = np.zeros(a.shape[0]).astype(np.float32)\n",
    "#res"
   ]
  },
  {
   "cell_type": "code",
   "execution_count": 93,
   "id": "fb743cc5",
   "metadata": {},
   "outputs": [],
   "source": [
    "rows = a.shape[0]"
   ]
  },
  {
   "cell_type": "code",
   "execution_count": 94,
   "id": "86b29c18",
   "metadata": {},
   "outputs": [],
   "source": [
    "mult = mult.astype(np.float32)"
   ]
  },
  {
   "cell_type": "code",
   "execution_count": 95,
   "id": "815716c7",
   "metadata": {},
   "outputs": [
    {
     "data": {
      "text/plain": [
       "array([32, 10])"
      ]
     },
     "execution_count": 95,
     "metadata": {},
     "output_type": "execute_result"
    }
   ],
   "source": [
    "outshape = np.array([a.shape[0], b.shape[1]])\n",
    "outshape"
   ]
  },
  {
   "cell_type": "code",
   "execution_count": 96,
   "id": "ab35e1f0",
   "metadata": {},
   "outputs": [
    {
     "data": {
      "text/plain": [
       "array([[0.9414536 , 0.        , 0.        , 0.        , 0.        ,\n",
       "        0.        , 0.        , 0.31479523, 0.11005293, 0.06780045,\n",
       "        0.        , 0.16214237, 0.        , 0.6445239 , 0.50232446,\n",
       "        0.        , 0.        , 0.        , 0.        , 0.        ,\n",
       "        0.17604527, 0.        , 0.        , 0.        , 0.        ,\n",
       "        0.        , 0.        , 0.        , 0.42811713, 0.11871076,\n",
       "        0.        , 0.        , 0.        , 0.6127449 , 0.41137826,\n",
       "        0.82947165, 0.04573116, 0.        , 0.        , 0.04850706,\n",
       "        0.        , 0.        , 0.        , 0.        , 0.        ,\n",
       "        0.6346003 , 0.        , 0.        , 0.69351566, 0.9864582 ,\n",
       "        0.        , 0.        , 0.        , 0.        , 0.        ,\n",
       "        0.        , 0.        , 0.2653583 , 0.        , 0.2264393 ,\n",
       "        0.10093832, 0.        , 0.        , 0.        ],\n",
       "       [0.        , 0.        , 0.03283854, 0.        , 0.01996238,\n",
       "        0.        , 0.2878976 , 0.40940058, 0.5290864 , 0.03890254,\n",
       "        0.7218774 , 0.        , 0.6727114 , 0.8689898 , 0.        ,\n",
       "        0.3043906 , 0.6158326 , 0.        , 0.17614561, 0.        ,\n",
       "        0.        , 0.        , 0.        , 0.        , 0.        ,\n",
       "        0.5996785 , 0.41769058, 0.22088505, 0.        , 0.64951146,\n",
       "        0.        , 0.8829375 , 0.5526871 , 0.        , 0.45999953,\n",
       "        0.20491129, 0.        , 0.03375057, 0.        , 0.        ,\n",
       "        0.        , 0.        , 0.45209226, 0.09342512, 0.        ,\n",
       "        0.        , 0.14726698, 0.        , 0.        , 0.        ,\n",
       "        0.        , 0.        , 0.        , 0.84200877, 0.        ,\n",
       "        0.5960935 , 0.14635102, 0.        , 0.        , 0.95835906,\n",
       "        0.        , 0.65042835, 0.        , 0.        ],\n",
       "       [0.        , 0.14630048, 0.27791733, 0.33419287, 0.9816661 ,\n",
       "        0.        , 0.        , 0.        , 0.        , 0.        ,\n",
       "        0.40662676, 0.5265734 , 0.01572542, 0.78785294, 0.        ,\n",
       "        0.        , 0.        , 0.        , 0.4101668 , 0.        ,\n",
       "        0.        , 0.        , 0.        , 0.        , 0.        ,\n",
       "        0.        , 0.        , 0.        , 0.94115525, 0.19040094,\n",
       "        0.19905205, 0.89167756, 0.        , 0.01054911, 0.71848863,\n",
       "        0.        , 0.67741925, 0.934714  , 0.9567172 , 0.8573981 ,\n",
       "        0.        , 0.04344931, 0.7110872 , 0.        , 0.09824695,\n",
       "        0.        , 0.        , 0.        , 0.        , 0.        ,\n",
       "        0.09063595, 0.89167565, 0.        , 0.26646206, 0.        ,\n",
       "        0.3876133 , 0.        , 0.        , 0.        , 0.        ,\n",
       "        0.        , 0.        , 0.17079917, 0.        ],\n",
       "       [0.90892494, 0.24825948, 0.8543185 , 0.19840643, 0.        ,\n",
       "        0.        , 0.        , 0.        , 0.31983745, 0.        ,\n",
       "        0.18507701, 0.23904228, 0.        , 0.        , 0.        ,\n",
       "        0.        , 0.        , 0.        , 0.        , 0.9880747 ,\n",
       "        0.        , 0.        , 0.10942628, 0.21641734, 0.        ,\n",
       "        0.5246723 , 0.        , 0.        , 0.        , 0.        ,\n",
       "        0.        , 0.        , 0.70496935, 0.        , 0.        ,\n",
       "        0.        , 0.        , 0.        , 0.31415144, 0.        ,\n",
       "        0.7757434 , 0.08597016, 0.        , 0.        , 0.24463587,\n",
       "        0.00316491, 0.        , 0.58537555, 0.50371623, 0.        ,\n",
       "        0.8334261 , 0.05737644, 0.39566204, 0.        , 0.5096388 ,\n",
       "        0.68256104, 0.23753619, 0.25248948, 0.4100118 , 0.8496141 ,\n",
       "        0.        , 0.        , 0.13851656, 0.        ],\n",
       "       [0.        , 0.        , 0.        , 0.        , 0.        ,\n",
       "        0.49159616, 0.7058473 , 0.        , 0.        , 0.98146695,\n",
       "        0.        , 0.        , 0.44648495, 0.        , 0.        ,\n",
       "        0.2855941 , 0.        , 0.75643075, 0.        , 0.        ,\n",
       "        0.        , 0.23293144, 0.00130877, 0.        , 0.91353625,\n",
       "        0.        , 0.92990875, 0.        , 0.34584206, 0.        ,\n",
       "        0.66453385, 0.        , 0.        , 0.72773826, 0.        ,\n",
       "        0.47647813, 0.        , 0.5239845 , 0.        , 0.        ,\n",
       "        0.29974842, 0.        , 0.87557894, 0.22442254, 0.        ,\n",
       "        0.5720998 , 0.        , 0.12253232, 0.        , 0.        ,\n",
       "        0.        , 0.        , 0.        , 0.        , 0.694407  ,\n",
       "        0.        , 0.        , 0.        , 0.5066825 , 0.        ,\n",
       "        0.6630357 , 0.29258844, 0.9781894 , 0.3358856 ],\n",
       "       [0.        , 0.        , 0.        , 0.3856511 , 0.        ,\n",
       "        0.0810385 , 0.        , 0.        , 0.        , 0.8737231 ,\n",
       "        0.        , 0.        , 0.22174914, 0.        , 0.47040063,\n",
       "        0.        , 0.55754304, 0.        , 0.        , 0.7065452 ,\n",
       "        0.        , 0.2350415 , 0.        , 0.31724194, 0.        ,\n",
       "        0.        , 0.        , 0.8154559 , 0.        , 0.        ,\n",
       "        0.9441609 , 0.34762165, 0.        , 0.4128602 , 0.29980114,\n",
       "        0.        , 0.        , 0.        , 0.40333778, 0.        ,\n",
       "        0.47304207, 0.        , 0.        , 0.01690201, 0.        ,\n",
       "        0.        , 0.2944593 , 0.8452076 , 0.        , 0.1762971 ,\n",
       "        0.        , 0.1275051 , 0.        , 0.        , 0.        ,\n",
       "        0.        , 0.        , 0.        , 0.9791499 , 0.        ,\n",
       "        0.19981535, 0.        , 0.0680179 , 0.79898566],\n",
       "       [0.05297933, 0.        , 0.8433972 , 0.23348303, 0.        ,\n",
       "        0.64290637, 0.41645932, 0.49991104, 0.        , 0.        ,\n",
       "        0.        , 0.        , 0.        , 0.        , 0.        ,\n",
       "        0.45246527, 0.        , 0.        , 0.20147614, 0.602556  ,\n",
       "        0.        , 0.78704804, 0.        , 0.35538766, 0.7040352 ,\n",
       "        0.        , 0.22981252, 0.        , 0.        , 0.        ,\n",
       "        0.17658035, 0.        , 0.6193049 , 0.        , 0.        ,\n",
       "        0.39832172, 0.46088123, 0.9214213 , 0.1583537 , 0.23557614,\n",
       "        0.        , 0.660472  , 0.75961554, 0.        , 0.        ,\n",
       "        0.87135255, 0.28086743, 0.        , 0.9726071 , 0.55006534,\n",
       "        0.        , 0.        , 0.62646705, 0.23111221, 0.        ,\n",
       "        0.        , 0.4664514 , 0.06576658, 0.        , 0.        ,\n",
       "        0.        , 0.        , 0.        , 0.48625088],\n",
       "       [0.        , 0.7792777 , 0.        , 0.        , 0.5056456 ,\n",
       "        0.16045028, 0.44598925, 0.        , 0.57631195, 0.        ,\n",
       "        0.        , 0.        , 0.        , 0.        , 0.        ,\n",
       "        0.03966095, 0.8633621 , 0.42180747, 0.10142381, 0.48707104,\n",
       "        0.84334254, 0.        , 0.4094274 , 0.        , 0.52147955,\n",
       "        0.9170164 , 0.        , 0.23452929, 0.        , 0.        ,\n",
       "        0.        , 0.        , 0.        , 0.        , 0.        ,\n",
       "        0.        , 0.        , 0.        , 0.        , 0.44495046,\n",
       "        0.        , 0.9784147 , 0.        , 0.        , 0.32749644,\n",
       "        0.        , 0.        , 0.        , 0.7246852 , 0.        ,\n",
       "        0.26001835, 0.        , 0.12898347, 0.        , 0.9894679 ,\n",
       "        0.22186916, 0.        , 0.9888273 , 0.9839119 , 0.6683453 ,\n",
       "        0.        , 0.7358039 , 0.        , 0.        ],\n",
       "       [0.7021168 , 0.31232256, 0.        , 0.        , 0.        ,\n",
       "        0.        , 0.        , 0.79827386, 0.        , 0.        ,\n",
       "        0.05563454, 0.11824279, 0.        , 0.6352877 , 0.46875456,\n",
       "        0.        , 0.        , 0.95542496, 0.        , 0.        ,\n",
       "        0.8945855 , 0.        , 0.01082143, 0.        , 0.49268502,\n",
       "        0.47608244, 0.        , 0.        , 0.1731275 , 0.        ,\n",
       "        0.        , 0.02995267, 0.04075215, 0.        , 0.        ,\n",
       "        0.        , 0.        , 0.        , 0.        , 0.        ,\n",
       "        0.        , 0.        , 0.        , 0.        , 0.        ,\n",
       "        0.        , 0.25112677, 0.        , 0.        , 0.7705533 ,\n",
       "        0.        , 0.        , 0.02942246, 0.        , 0.        ,\n",
       "        0.        , 0.        , 0.        , 0.        , 0.        ,\n",
       "        0.        , 0.        , 0.        , 0.        ],\n",
       "       [0.        , 0.        , 0.        , 0.        , 0.01917347,\n",
       "        0.        , 0.        , 0.        , 0.        , 0.        ,\n",
       "        0.        , 0.        , 0.        , 0.        , 0.5505951 ,\n",
       "        0.        , 0.01719917, 0.1022128 , 0.        , 0.        ,\n",
       "        0.72915745, 0.20438819, 0.        , 0.46936178, 0.        ,\n",
       "        0.        , 0.23540662, 0.88327533, 0.        , 0.26224414,\n",
       "        0.        , 0.        , 0.        , 0.        , 0.        ,\n",
       "        0.        , 0.39439395, 0.        , 0.        , 0.        ,\n",
       "        0.97353226, 0.        , 0.        , 0.8055896 , 0.45531607,\n",
       "        0.        , 0.        , 0.54433316, 0.        , 0.        ,\n",
       "        0.27716133, 0.4685573 , 0.        , 0.09374874, 0.67805064,\n",
       "        0.        , 0.6143749 , 0.        , 0.        , 0.        ,\n",
       "        0.60982734, 0.17556284, 0.        , 0.5448863 ]], dtype=float32)"
      ]
     },
     "execution_count": 96,
     "metadata": {},
     "output_type": "execute_result"
    }
   ],
   "source": [
    "b.T"
   ]
  },
  {
   "cell_type": "code",
   "execution_count": 97,
   "id": "e362c04c",
   "metadata": {},
   "outputs": [
    {
     "data": {
      "text/plain": [
       "array([[0.82272685, 0.        , 0.        , ..., 0.22595333, 0.        ,\n",
       "        0.        ],\n",
       "       [0.57626116, 0.2289813 , 0.16428949, ..., 0.27008578, 0.        ,\n",
       "        0.9652075 ],\n",
       "       [0.        , 0.48130327, 0.        , ..., 0.        , 0.12290299,\n",
       "        0.        ],\n",
       "       ...,\n",
       "       [0.8716895 , 0.10489579, 0.        , ..., 0.        , 0.39542586,\n",
       "        0.        ],\n",
       "       [0.        , 0.        , 0.        , ..., 0.5132175 , 0.9358725 ,\n",
       "        0.37984058],\n",
       "       [0.        , 0.6832084 , 0.9385753 , ..., 0.02876937, 0.        ,\n",
       "        0.        ]], dtype=float32)"
      ]
     },
     "execution_count": 97,
     "metadata": {},
     "output_type": "execute_result"
    }
   ],
   "source": [
    "a"
   ]
  },
  {
   "cell_type": "code",
   "execution_count": 98,
   "id": "e7ab9a76",
   "metadata": {},
   "outputs": [
    {
     "ename": "AttributeError",
     "evalue": "'matmulnew' was not found as a program info attribute or as a kernel name",
     "output_type": "error",
     "traceback": [
      "\u001b[0;31m---------------------------------------------------------------------------\u001b[0m",
      "\u001b[0;31mLogicError\u001b[0m                                Traceback (most recent call last)",
      "\u001b[0;32m~/.conda/envs/tinygrad/lib/python3.8/site-packages/pyopencl/__init__.py\u001b[0m in \u001b[0;36m__getattr__\u001b[0;34m(self, attr)\u001b[0m\n\u001b[1;32m    460\u001b[0m         \u001b[0;32mtry\u001b[0m\u001b[0;34m:\u001b[0m\u001b[0;34m\u001b[0m\u001b[0;34m\u001b[0m\u001b[0m\n\u001b[0;32m--> 461\u001b[0;31m             \u001b[0mknl\u001b[0m \u001b[0;34m=\u001b[0m \u001b[0mKernel\u001b[0m\u001b[0;34m(\u001b[0m\u001b[0mself\u001b[0m\u001b[0;34m,\u001b[0m \u001b[0mattr\u001b[0m\u001b[0;34m)\u001b[0m\u001b[0;34m\u001b[0m\u001b[0;34m\u001b[0m\u001b[0m\n\u001b[0m\u001b[1;32m    462\u001b[0m             \u001b[0;31m# Nvidia does not raise errors even for invalid names,\u001b[0m\u001b[0;34m\u001b[0m\u001b[0;34m\u001b[0m\u001b[0;34m\u001b[0m\u001b[0m\n",
      "\u001b[0;32m~/.conda/envs/tinygrad/lib/python3.8/site-packages/pyopencl/__init__.py\u001b[0m in \u001b[0;36mkernel_init\u001b[0;34m(self, prg, name)\u001b[0m\n\u001b[1;32m    813\u001b[0m \u001b[0;34m\u001b[0m\u001b[0m\n\u001b[0;32m--> 814\u001b[0;31m         \u001b[0mkernel_old_init\u001b[0m\u001b[0;34m(\u001b[0m\u001b[0mself\u001b[0m\u001b[0;34m,\u001b[0m \u001b[0mprg\u001b[0m\u001b[0;34m,\u001b[0m \u001b[0mname\u001b[0m\u001b[0;34m)\u001b[0m\u001b[0;34m\u001b[0m\u001b[0;34m\u001b[0m\u001b[0m\n\u001b[0m\u001b[1;32m    815\u001b[0m \u001b[0;34m\u001b[0m\u001b[0m\n",
      "\u001b[0;31mLogicError\u001b[0m: clCreateKernel failed: INVALID_KERNEL_NAME",
      "\nDuring handling of the above exception, another exception occurred:\n",
      "\u001b[0;31mAttributeError\u001b[0m                            Traceback (most recent call last)",
      "\u001b[0;32m/tmp/ipykernel_25977/7068646.py\u001b[0m in \u001b[0;36m<module>\u001b[0;34m\u001b[0m\n\u001b[1;32m      1\u001b[0m \u001b[0mres_buf\u001b[0m \u001b[0;34m=\u001b[0m \u001b[0mcl\u001b[0m\u001b[0;34m.\u001b[0m\u001b[0mBuffer\u001b[0m\u001b[0;34m(\u001b[0m\u001b[0mctx\u001b[0m\u001b[0;34m,\u001b[0m \u001b[0mmf\u001b[0m\u001b[0;34m.\u001b[0m\u001b[0mREAD_WRITE\u001b[0m\u001b[0;34m,\u001b[0m \u001b[0mnp\u001b[0m\u001b[0;34m.\u001b[0m\u001b[0mprod\u001b[0m\u001b[0;34m(\u001b[0m\u001b[0moutshape\u001b[0m\u001b[0;34m)\u001b[0m\u001b[0;34m*\u001b[0m\u001b[0;36m4\u001b[0m\u001b[0;34m)\u001b[0m\u001b[0;34m\u001b[0m\u001b[0;34m\u001b[0m\u001b[0m\n\u001b[0;32m----> 2\u001b[0;31m \u001b[0mknl\u001b[0m \u001b[0;34m=\u001b[0m \u001b[0mprg\u001b[0m\u001b[0;34m.\u001b[0m\u001b[0mmatmulnew\u001b[0m  \u001b[0;31m# Use this Kernel object for repeated calls\u001b[0m\u001b[0;34m\u001b[0m\u001b[0;34m\u001b[0m\u001b[0m\n\u001b[0m\u001b[1;32m      3\u001b[0m \u001b[0mknl\u001b[0m\u001b[0;34m(\u001b[0m\u001b[0mqueue\u001b[0m\u001b[0;34m,\u001b[0m \u001b[0moutshape\u001b[0m\u001b[0;34m,\u001b[0m \u001b[0;32mNone\u001b[0m\u001b[0;34m,\u001b[0m \u001b[0mbdatat_buf\u001b[0m\u001b[0;34m,\u001b[0m \u001b[0mbcolst_buf\u001b[0m\u001b[0;34m,\u001b[0m \u001b[0mbnnzst_buf\u001b[0m\u001b[0;34m,\u001b[0m \u001b[0mnp\u001b[0m\u001b[0;34m.\u001b[0m\u001b[0muint32\u001b[0m\u001b[0;34m(\u001b[0m\u001b[0mellwbt\u001b[0m\u001b[0;34m)\u001b[0m\u001b[0;34m,\u001b[0m \u001b[0mnp\u001b[0m\u001b[0;34m.\u001b[0m\u001b[0muint32\u001b[0m\u001b[0;34m(\u001b[0m\u001b[0mb\u001b[0m\u001b[0;34m.\u001b[0m\u001b[0mshape\u001b[0m\u001b[0;34m[\u001b[0m\u001b[0;36m0\u001b[0m\u001b[0;34m]\u001b[0m\u001b[0;34m)\u001b[0m\u001b[0;34m,\u001b[0m \u001b[0ma_buf\u001b[0m\u001b[0;34m,\u001b[0m \u001b[0mres_buf\u001b[0m\u001b[0;34m)\u001b[0m\u001b[0;34m\u001b[0m\u001b[0;34m\u001b[0m\u001b[0m\n\u001b[1;32m      4\u001b[0m \u001b[0;34m\u001b[0m\u001b[0m\n\u001b[1;32m      5\u001b[0m \u001b[0mres_np\u001b[0m \u001b[0;34m=\u001b[0m \u001b[0mnp\u001b[0m\u001b[0;34m.\u001b[0m\u001b[0mzeros\u001b[0m\u001b[0;34m(\u001b[0m\u001b[0;34m(\u001b[0m\u001b[0moutshape\u001b[0m\u001b[0;34m[\u001b[0m\u001b[0;36m0\u001b[0m\u001b[0;34m]\u001b[0m\u001b[0;34m,\u001b[0m\u001b[0;34m)\u001b[0m\u001b[0;34m)\u001b[0m\u001b[0;34m.\u001b[0m\u001b[0mastype\u001b[0m\u001b[0;34m(\u001b[0m\u001b[0mnp\u001b[0m\u001b[0;34m.\u001b[0m\u001b[0mfloat32\u001b[0m\u001b[0;34m)\u001b[0m\u001b[0;34m\u001b[0m\u001b[0;34m\u001b[0m\u001b[0m\n",
      "\u001b[0;32m~/.conda/envs/tinygrad/lib/python3.8/site-packages/pyopencl/__init__.py\u001b[0m in \u001b[0;36m__getattr__\u001b[0;34m(self, attr)\u001b[0m\n\u001b[1;32m    473\u001b[0m             \u001b[0;32mreturn\u001b[0m \u001b[0mknl\u001b[0m\u001b[0;34m\u001b[0m\u001b[0;34m\u001b[0m\u001b[0m\n\u001b[1;32m    474\u001b[0m         \u001b[0;32mexcept\u001b[0m \u001b[0mLogicError\u001b[0m\u001b[0;34m:\u001b[0m\u001b[0;34m\u001b[0m\u001b[0;34m\u001b[0m\u001b[0m\n\u001b[0;32m--> 475\u001b[0;31m             raise AttributeError(\"'%s' was not found as a program \"\n\u001b[0m\u001b[1;32m    476\u001b[0m                     \"info attribute or as a kernel name\" % attr)\n\u001b[1;32m    477\u001b[0m \u001b[0;34m\u001b[0m\u001b[0m\n",
      "\u001b[0;31mAttributeError\u001b[0m: 'matmulnew' was not found as a program info attribute or as a kernel name"
     ]
    }
   ],
   "source": [
    "res_buf = cl.Buffer(ctx, mf.READ_WRITE, np.prod(outshape)*4)\n",
    "knl = prg.matmulnew  # Use this Kernel object for repeated calls\n",
    "knl(queue, outshape, None, bdatat_buf, bcolst_buf, bnnzst_buf, np.uint32(ellwbt), np.uint32(b.shape[0]), a_buf, res_buf)\n",
    "\n",
    "res_np = np.zeros((outshape[0],)).astype(np.float32)\n",
    "print(res_np.shape)\n",
    "cl.enqueue_copy(queue, res_np, res_buf)"
   ]
  },
  {
   "cell_type": "code",
   "execution_count": 99,
   "id": "67eeff65",
   "metadata": {},
   "outputs": [
    {
     "ename": "ValueError",
     "evalue": "operands could not be broadcast together with shapes (32,64) (64,32) ",
     "output_type": "error",
     "traceback": [
      "\u001b[0;31m---------------------------------------------------------------------------\u001b[0m",
      "\u001b[0;31mValueError\u001b[0m                                Traceback (most recent call last)",
      "\u001b[0;32m/tmp/ipykernel_25977/740844068.py\u001b[0m in \u001b[0;36m<module>\u001b[0;34m\u001b[0m\n\u001b[0;32m----> 1\u001b[0;31m \u001b[0;34m(\u001b[0m\u001b[0mres_np\u001b[0m\u001b[0;34m-\u001b[0m\u001b[0mmult\u001b[0m\u001b[0;34m.\u001b[0m\u001b[0mT\u001b[0m\u001b[0;34m)\u001b[0m\u001b[0;34m.\u001b[0m\u001b[0msum\u001b[0m\u001b[0;34m(\u001b[0m\u001b[0;34m)\u001b[0m\u001b[0;34m\u001b[0m\u001b[0;34m\u001b[0m\u001b[0m\n\u001b[0m",
      "\u001b[0;31mValueError\u001b[0m: operands could not be broadcast together with shapes (32,64) (64,32) "
     ]
    }
   ],
   "source": [
    "(res_np-mult.T).sum()"
   ]
  },
  {
   "cell_type": "code",
   "execution_count": 100,
   "id": "437bc46f",
   "metadata": {},
   "outputs": [
    {
     "data": {
      "text/plain": [
       "<pyopencl._cl.Buffer at 0x7ff154347630>"
      ]
     },
     "execution_count": 100,
     "metadata": {},
     "output_type": "execute_result"
    }
   ],
   "source": [
    "res_buf"
   ]
  },
  {
   "cell_type": "code",
   "execution_count": 101,
   "id": "9035b6b3",
   "metadata": {},
   "outputs": [
    {
     "data": {
      "text/plain": [
       "array([[ 1.0198761 ,  0.9885827 , -1.0711612 , ..., -1.1189016 ,\n",
       "        -1.8187717 ,  1.6192341 ],\n",
       "       [-2.8557298 ,  5.6755376 ,  3.290888  , ..., -5.734821  ,\n",
       "         1.992972  , -0.93305606],\n",
       "       [-0.7232425 , -3.0078568 ,  1.636742  , ...,  0.99644226,\n",
       "         0.54578674, -3.130223  ],\n",
       "       ...,\n",
       "       [-3.2115214 ,  4.609541  , -0.17965946, ..., -1.9031763 ,\n",
       "         6.704494  ,  3.6590157 ],\n",
       "       [ 2.913457  , -4.174198  ,  2.1418145 , ..., -0.62815833,\n",
       "        -5.146358  ,  3.3437638 ],\n",
       "       [-2.3689373 ,  5.5915403 , -2.2195456 , ..., -0.456033  ,\n",
       "         0.76092845, -4.3816023 ]], dtype=float32)"
      ]
     },
     "execution_count": 101,
     "metadata": {},
     "output_type": "execute_result"
    }
   ],
   "source": [
    "res_np.T"
   ]
  },
  {
   "cell_type": "code",
   "execution_count": 102,
   "id": "75f2d1d4",
   "metadata": {},
   "outputs": [
    {
     "data": {
      "text/plain": [
       "array([[ 1.0198762 , -2.8557298 , -0.7232425 , ..., -3.2115216 ,\n",
       "         2.913457  , -2.3689373 ],\n",
       "       [ 0.9885826 ,  5.6755376 , -3.0078568 , ...,  4.609541  ,\n",
       "        -4.1741986 ,  5.5915403 ],\n",
       "       [-1.0711612 ,  3.290888  ,  1.636742  , ..., -0.17965953,\n",
       "         2.1418145 , -2.2195456 ],\n",
       "       ...,\n",
       "       [-1.1189016 , -5.7348213 ,  0.99644226, ..., -1.9031762 ,\n",
       "        -0.62815833, -0.45603287],\n",
       "       [-1.8187716 ,  1.9929719 ,  0.54578674, ...,  6.7044945 ,\n",
       "        -5.146358  ,  0.7609284 ],\n",
       "       [ 1.6192342 , -0.93305635, -3.1302233 , ...,  3.6590157 ,\n",
       "         3.3437638 , -4.381602  ]], dtype=float32)"
      ]
     },
     "execution_count": 102,
     "metadata": {},
     "output_type": "execute_result"
    }
   ],
   "source": [
    "mult"
   ]
  },
  {
   "cell_type": "code",
   "execution_count": 103,
   "id": "aa862e0f",
   "metadata": {},
   "outputs": [
    {
     "ename": "ValueError",
     "evalue": "operands could not be broadcast together with shapes (32,64) (64,32) ",
     "output_type": "error",
     "traceback": [
      "\u001b[0;31m---------------------------------------------------------------------------\u001b[0m",
      "\u001b[0;31mValueError\u001b[0m                                Traceback (most recent call last)",
      "\u001b[0;32m/tmp/ipykernel_25977/1781301891.py\u001b[0m in \u001b[0;36m<module>\u001b[0;34m\u001b[0m\n\u001b[0;32m----> 1\u001b[0;31m \u001b[0mres_np\u001b[0m\u001b[0;34m-\u001b[0m\u001b[0mmult\u001b[0m\u001b[0;34m.\u001b[0m\u001b[0mT\u001b[0m\u001b[0;34m\u001b[0m\u001b[0;34m\u001b[0m\u001b[0m\n\u001b[0m",
      "\u001b[0;31mValueError\u001b[0m: operands could not be broadcast together with shapes (32,64) (64,32) "
     ]
    }
   ],
   "source": [
    "res_np-mult.T"
   ]
  },
  {
   "cell_type": "code",
   "execution_count": 104,
   "id": "25d376fc",
   "metadata": {},
   "outputs": [
    {
     "data": {
      "text/plain": [
       "(32, 64)"
      ]
     },
     "execution_count": 104,
     "metadata": {},
     "output_type": "execute_result"
    }
   ],
   "source": [
    "res_np.shape"
   ]
  },
  {
   "cell_type": "code",
   "execution_count": 105,
   "id": "fa077d86",
   "metadata": {},
   "outputs": [
    {
     "data": {
      "text/plain": [
       "(32, 64)"
      ]
     },
     "execution_count": 105,
     "metadata": {},
     "output_type": "execute_result"
    }
   ],
   "source": [
    "mult.shape"
   ]
  },
  {
   "cell_type": "code",
   "execution_count": 106,
   "id": "e68ad518",
   "metadata": {},
   "outputs": [
    {
     "ename": "NameError",
     "evalue": "name 'asdf' is not defined",
     "output_type": "error",
     "traceback": [
      "\u001b[0;31m---------------------------------------------------------------------------\u001b[0m",
      "\u001b[0;31mNameError\u001b[0m                                 Traceback (most recent call last)",
      "\u001b[0;32m/tmp/ipykernel_25977/2827374946.py\u001b[0m in \u001b[0;36m<module>\u001b[0;34m\u001b[0m\n\u001b[0;32m----> 1\u001b[0;31m \u001b[0masdf\u001b[0m\u001b[0;34m\u001b[0m\u001b[0;34m\u001b[0m\u001b[0m\n\u001b[0m",
      "\u001b[0;31mNameError\u001b[0m: name 'asdf' is not defined"
     ]
    }
   ],
   "source": [
    "asdf"
   ]
  },
  {
   "cell_type": "markdown",
   "id": "cdc9f0be",
   "metadata": {},
   "source": [
    "# Matmult Dense Dense"
   ]
  },
  {
   "cell_type": "code",
   "execution_count": 107,
   "id": "d3eeacb6",
   "metadata": {},
   "outputs": [],
   "source": [
    "b_buf2 = cl.Buffer(ctx, mf.READ_WRITE | mf.COPY_HOST_PTR, hostbuf=b)\n",
    "a_buf = cl.Buffer(ctx, mf.READ_WRITE | mf.COPY_HOST_PTR, hostbuf=a)\n",
    "\n",
    "prg = cl.Program(ctx, \"\"\"\n",
    "    // multilplies x by y WITH Y TRANSPOSED INDEXING\n",
    "    __kernel void matmul0(__global  float* x,     // INPUT MATRIX DATA\n",
    "                          __global  float* y,    // INPUT\n",
    "                          __global  float* res,    // INPUT\n",
    "                          uint msize\n",
    "                          ) { // LOCAL SHARED BUFFER\n",
    "      uint isize = get_global_size(0);\n",
    "      uint osize = get_global_size(1);\n",
    "      int gidx = get_global_id(0); // row\n",
    "      int gidy = get_global_id(1); // col\n",
    "\n",
    "      float ret = 0.0;\n",
    "      for (int i = 0; i < msize; i++) {\n",
    "        uint xidx = gidx*msize+i; \n",
    "        float xval = x[xidx];\n",
    "        uint yidx = osize*i+gidy;\n",
    "        float yval = y[yidx];\n",
    "        ret += xval*yval;\n",
    "        if (gidx==0 && gidy==0)\n",
    "          printf(\"\\\\nmult: %.2f x %.2f - %.2f  -- %i/%i\", xval, yval, res, xidx, yidx);\n",
    "      }\n",
    "\n",
    "      //if (gidx==0&&gidy==0)\n",
    "      //  printf(\"\\\\nsum:%.2f\", ret);\n",
    "      res[gidx * osize + gidy] = ret;\n",
    "    }\"\"\").build()"
   ]
  },
  {
   "cell_type": "code",
   "execution_count": 108,
   "id": "ee0aabda",
   "metadata": {},
   "outputs": [
    {
     "data": {
      "text/plain": [
       "((32, 64), (64, 10))"
      ]
     },
     "execution_count": 108,
     "metadata": {},
     "output_type": "execute_result"
    }
   ],
   "source": [
    "a.shape, b.shape"
   ]
  },
  {
   "cell_type": "code",
   "execution_count": 109,
   "id": "938f25f9",
   "metadata": {},
   "outputs": [],
   "source": [
    "rows = a.shape[0]"
   ]
  },
  {
   "cell_type": "code",
   "execution_count": 110,
   "id": "d19122ca",
   "metadata": {},
   "outputs": [],
   "source": [
    "mult = mult.astype(np.float32)"
   ]
  },
  {
   "cell_type": "code",
   "execution_count": 111,
   "id": "17176ece",
   "metadata": {},
   "outputs": [
    {
     "name": "stdout",
     "output_type": "stream",
     "text": [
      "\n",
      "mult: 0.82 x 0.94 - 0.00  -- 0/0\n",
      "mult: 0.00 x 0.00 - 0.00  -- 1/10\n",
      "mult: 0.00 x 0.00 - 0.00  -- 2/20\n",
      "mult: 0.48 x 0.00 - 0.00  -- 3/30\n",
      "mult: 0.91 x 0.00 - 0.00  -- 4/40\n",
      "mult: 0.00 x 0.00 - 0.00  -- 5/50\n",
      "mult: 0.00 x 0.00 - 0.00  -- 6/60\n",
      "mult: 0.88 x 0.31 - 0.00  -- 7/70\n",
      "mult: 0.00 x 0.11 - 0.00  -- 8/80\n",
      "mult: 0.00 x 0.07 - 0.00  -- 9/90\n",
      "mult: 0.00 x 0.00 - 0.00  -- 10/100\n",
      "mult: 0.87 x 0.16 - 0.00  -- 11/110\n",
      "mult: 0.00 x 0.00 - 0.00  -- 12/120\n",
      "mult: 0.00 x 0.64 - 0.00  -- 13/130\n",
      "mult: 0.26 x 0.50 - 0.00  -- 14/140\n",
      "mult: 0.36 x 0.00 - 0.00  -- 15/150\n",
      "mult: 0.00 x 0.00 - 0.00  -- 16/160\n",
      "mult: 0.41 x 0.00 - 0.00  -- 17/170\n",
      "mult: 0.00 x 0.00 - 0.00  -- 18/180\n",
      "mult: 0.00 x 0.00 - 0.00  -- 19/190\n",
      "mult: 0.62 x 0.18 - 0.00  -- 20/200\n",
      "mult: 0.47 x 0.00 - 0.00  -- 21/210\n",
      "mult: 0.00 x 0.00 - 0.00  -- 22/220\n",
      "mult: 0.00 x 0.00 - 0.00  -- 23/230\n",
      "mult: 0.00 x 0.00 - 0.00  -- 24/240\n",
      "mult: 0.00 x 0.00 - 0.00  -- 25/250\n",
      "mult: 0.00 x 0.00 - 0.00  -- 26/260\n",
      "mult: 0.00 x 0.00 - 0.00  -- 27/270\n",
      "mult: 0.22 x"
     ]
    },
    {
     "data": {
      "text/plain": [
       "<pyopencl._cl.NannyEvent at 0x7ff15428a9f0>"
      ]
     },
     "execution_count": 111,
     "metadata": {},
     "output_type": "execute_result"
    },
    {
     "name": "stdout",
     "output_type": "stream",
     "text": [
      " 0.43 - 0.00  -- 28/280\n",
      "mult: 0.59 x 0.12 - 0.00  -- 29/290\n",
      "mult: 0.00 x 0.00 - 0.00  -- 30/300\n",
      "mult: 0.44 x 0.00 - 0.00  -- 31/310\n",
      "mult: 0.47 x 0.00 - 0.00  -- 32/320\n",
      "mult: 0.69 x 0.61 - 0.00  -- 33/330\n",
      "mult: 0.00 x 0.41 - 0.00  -- 34/340\n",
      "mult: 0.00 x 0.83 - 0.00  -- 35/350\n",
      "mult: 0.38 x 0.05 - 0.00  -- 36/360\n",
      "mult: 0.81 x 0.00 - 0.00  -- 37/370\n",
      "mult: 0.98 x 0.00 - 0.00  -- 38/380\n",
      "mult: 0.45 x 0.05 - 0.00  -- 39/390\n",
      "mult: 0.00 x 0.00 - 0.00  -- 40/400\n",
      "mult: 0.00 x 0.00 - 0.00  -- 41/410\n",
      "mult: 0.29 x 0.00 - 0.00  -- 42/420\n",
      "mult: 0.00 x 0.00 - 0.00  -- 43/430\n",
      "mult: 0.04 x 0.00 - 0.00  -- 44/440\n",
      "mult: 0.00 x 0.63 - 0.00  -- 45/450\n",
      "mult: 0.28 x 0.00 - 0.00  -- 46/460\n",
      "mult: 0.00 x 0.00 - 0.00  -- 47/470\n",
      "mult: 0.00 x 0.69 - 0.00  -- 48/480\n",
      "mult: 0.00 x 0.99 - 0.00  -- 49/490\n",
      "mult: 0.42 x 0.00 - 0.00  -- 50/500\n",
      "mult: 0.00 x 0.00 - 0.00  -- 51/510\n",
      "mult: 0.00 x 0.00 - 0.00  -- 52/520\n",
      "mult: 0.00 x 0.00 - 0.00  -- 53/530\n",
      "mult: 0.39 x 0.00 - 0.00  -- 54/540\n",
      "mult: 0.00 x 0.00 - 0.00  -- 55/550\n",
      "mult: 0.00 x 0.00 - 0.00  -- 56/560\n",
      "mult: 0.00 x 0.27 - 0.00  -- 57/570\n",
      "mult: 0.00 x 0.00 - 0.00  -- 58/580\n",
      "mult: 0.00 x 0.23 - 0.00  -- 59/590\n",
      "mult: 0.00 x 0.10 - 0.00  -- 60/600\n",
      "mult: 0.23 x 0.00 - 0.00  -- 61/610\n",
      "mult: 0.00 x 0.00 - 0.00  -- 62/620\n",
      "mult: 0.00 x 0.00 - 0.00  -- 63/630"
     ]
    }
   ],
   "source": [
    "res_buf = cl.Buffer(ctx, mf.READ_WRITE, np.prod([rows,b.shape[1]])*4)\n",
    "knl = prg.matmul0  # Use this Kernel object for repeated calls\n",
    "knl(queue, [rows,b.shape[1]], None, a_buf, b_buf2, res_buf, np.uint32(a.shape[1]))\n",
    "\n",
    "res_np = np.zeros([rows,b.shape[1]]).astype(np.float32)\n",
    "cl.enqueue_copy(queue, res_np, res_buf)"
   ]
  },
  {
   "cell_type": "code",
   "execution_count": 112,
   "id": "2e20ef7a",
   "metadata": {},
   "outputs": [
    {
     "ename": "ValueError",
     "evalue": "operands could not be broadcast together with shapes (32,10) (64,32) ",
     "output_type": "error",
     "traceback": [
      "\u001b[0;31m---------------------------------------------------------------------------\u001b[0m",
      "\u001b[0;31mValueError\u001b[0m                                Traceback (most recent call last)",
      "\u001b[0;32m/tmp/ipykernel_25977/740844068.py\u001b[0m in \u001b[0;36m<module>\u001b[0;34m\u001b[0m\n\u001b[0;32m----> 1\u001b[0;31m \u001b[0;34m(\u001b[0m\u001b[0mres_np\u001b[0m\u001b[0;34m-\u001b[0m\u001b[0mmult\u001b[0m\u001b[0;34m.\u001b[0m\u001b[0mT\u001b[0m\u001b[0;34m)\u001b[0m\u001b[0;34m.\u001b[0m\u001b[0msum\u001b[0m\u001b[0;34m(\u001b[0m\u001b[0;34m)\u001b[0m\u001b[0;34m\u001b[0m\u001b[0;34m\u001b[0m\u001b[0m\n\u001b[0m",
      "\u001b[0;31mValueError\u001b[0m: operands could not be broadcast together with shapes (32,10) (64,32) "
     ]
    }
   ],
   "source": [
    "(res_np-mult.T).sum()"
   ]
  },
  {
   "cell_type": "code",
   "execution_count": 113,
   "id": "13304b53",
   "metadata": {},
   "outputs": [
    {
     "data": {
      "text/plain": [
       "array([[0.82272685, 0.        , 0.        , ..., 0.22595333, 0.        ,\n",
       "        0.        ],\n",
       "       [0.57626116, 0.2289813 , 0.16428949, ..., 0.27008578, 0.        ,\n",
       "        0.9652075 ],\n",
       "       [0.        , 0.48130327, 0.        , ..., 0.        , 0.12290299,\n",
       "        0.        ],\n",
       "       ...,\n",
       "       [0.8716895 , 0.10489579, 0.        , ..., 0.        , 0.39542586,\n",
       "        0.        ],\n",
       "       [0.        , 0.        , 0.        , ..., 0.5132175 , 0.9358725 ,\n",
       "        0.37984058],\n",
       "       [0.        , 0.6832084 , 0.9385753 , ..., 0.02876937, 0.        ,\n",
       "        0.        ]], dtype=float32)"
      ]
     },
     "execution_count": 113,
     "metadata": {},
     "output_type": "execute_result"
    }
   ],
   "source": [
    "a"
   ]
  },
  {
   "cell_type": "code",
   "execution_count": 114,
   "id": "1678d389",
   "metadata": {},
   "outputs": [
    {
     "data": {
      "text/plain": [
       "array([[0.9414536 , 0.        , 0.        , 0.90892494, 0.        ,\n",
       "        0.        , 0.05297933, 0.        , 0.7021168 , 0.        ],\n",
       "       [0.        , 0.        , 0.14630048, 0.24825948, 0.        ,\n",
       "        0.        , 0.        , 0.7792777 , 0.31232256, 0.        ],\n",
       "       [0.        , 0.03283854, 0.27791733, 0.8543185 , 0.        ,\n",
       "        0.        , 0.8433972 , 0.        , 0.        , 0.        ],\n",
       "       [0.        , 0.        , 0.33419287, 0.19840643, 0.        ,\n",
       "        0.3856511 , 0.23348303, 0.        , 0.        , 0.        ],\n",
       "       [0.        , 0.01996238, 0.9816661 , 0.        , 0.        ,\n",
       "        0.        , 0.        , 0.5056456 , 0.        , 0.01917347],\n",
       "       [0.        , 0.        , 0.        , 0.        , 0.49159616,\n",
       "        0.0810385 , 0.64290637, 0.16045028, 0.        , 0.        ],\n",
       "       [0.        , 0.2878976 , 0.        , 0.        , 0.7058473 ,\n",
       "        0.        , 0.41645932, 0.44598925, 0.        , 0.        ],\n",
       "       [0.31479523, 0.40940058, 0.        , 0.        , 0.        ,\n",
       "        0.        , 0.49991104, 0.        , 0.79827386, 0.        ],\n",
       "       [0.11005293, 0.5290864 , 0.        , 0.31983745, 0.        ,\n",
       "        0.        , 0.        , 0.57631195, 0.        , 0.        ],\n",
       "       [0.06780045, 0.03890254, 0.        , 0.        , 0.98146695,\n",
       "        0.8737231 , 0.        , 0.        , 0.        , 0.        ],\n",
       "       [0.        , 0.7218774 , 0.40662676, 0.18507701, 0.        ,\n",
       "        0.        , 0.        , 0.        , 0.05563454, 0.        ],\n",
       "       [0.16214237, 0.        , 0.5265734 , 0.23904228, 0.        ,\n",
       "        0.        , 0.        , 0.        , 0.11824279, 0.        ],\n",
       "       [0.        , 0.6727114 , 0.01572542, 0.        , 0.44648495,\n",
       "        0.22174914, 0.        , 0.        , 0.        , 0.        ],\n",
       "       [0.6445239 , 0.8689898 , 0.78785294, 0.        , 0.        ,\n",
       "        0.        , 0.        , 0.        , 0.6352877 , 0.        ],\n",
       "       [0.50232446, 0.        , 0.        , 0.        , 0.        ,\n",
       "        0.47040063, 0.        , 0.        , 0.46875456, 0.5505951 ],\n",
       "       [0.        , 0.3043906 , 0.        , 0.        , 0.2855941 ,\n",
       "        0.        , 0.45246527, 0.03966095, 0.        , 0.        ],\n",
       "       [0.        , 0.6158326 , 0.        , 0.        , 0.        ,\n",
       "        0.55754304, 0.        , 0.8633621 , 0.        , 0.01719917],\n",
       "       [0.        , 0.        , 0.        , 0.        , 0.75643075,\n",
       "        0.        , 0.        , 0.42180747, 0.95542496, 0.1022128 ],\n",
       "       [0.        , 0.17614561, 0.4101668 , 0.        , 0.        ,\n",
       "        0.        , 0.20147614, 0.10142381, 0.        , 0.        ],\n",
       "       [0.        , 0.        , 0.        , 0.9880747 , 0.        ,\n",
       "        0.7065452 , 0.602556  , 0.48707104, 0.        , 0.        ],\n",
       "       [0.17604527, 0.        , 0.        , 0.        , 0.        ,\n",
       "        0.        , 0.        , 0.84334254, 0.8945855 , 0.72915745],\n",
       "       [0.        , 0.        , 0.        , 0.        , 0.23293144,\n",
       "        0.2350415 , 0.78704804, 0.        , 0.        , 0.20438819],\n",
       "       [0.        , 0.        , 0.        , 0.10942628, 0.00130877,\n",
       "        0.        , 0.        , 0.4094274 , 0.01082143, 0.        ],\n",
       "       [0.        , 0.        , 0.        , 0.21641734, 0.        ,\n",
       "        0.31724194, 0.35538766, 0.        , 0.        , 0.46936178],\n",
       "       [0.        , 0.        , 0.        , 0.        , 0.91353625,\n",
       "        0.        , 0.7040352 , 0.52147955, 0.49268502, 0.        ],\n",
       "       [0.        , 0.5996785 , 0.        , 0.5246723 , 0.        ,\n",
       "        0.        , 0.        , 0.9170164 , 0.47608244, 0.        ],\n",
       "       [0.        , 0.41769058, 0.        , 0.        , 0.92990875,\n",
       "        0.        , 0.22981252, 0.        , 0.        , 0.23540662],\n",
       "       [0.        , 0.22088505, 0.        , 0.        , 0.        ,\n",
       "        0.8154559 , 0.        , 0.23452929, 0.        , 0.88327533],\n",
       "       [0.42811713, 0.        , 0.94115525, 0.        , 0.34584206,\n",
       "        0.        , 0.        , 0.        , 0.1731275 , 0.        ],\n",
       "       [0.11871076, 0.64951146, 0.19040094, 0.        , 0.        ,\n",
       "        0.        , 0.        , 0.        , 0.        , 0.26224414],\n",
       "       [0.        , 0.        , 0.19905205, 0.        , 0.66453385,\n",
       "        0.9441609 , 0.17658035, 0.        , 0.        , 0.        ],\n",
       "       [0.        , 0.8829375 , 0.89167756, 0.        , 0.        ,\n",
       "        0.34762165, 0.        , 0.        , 0.02995267, 0.        ],\n",
       "       [0.        , 0.5526871 , 0.        , 0.70496935, 0.        ,\n",
       "        0.        , 0.6193049 , 0.        , 0.04075215, 0.        ],\n",
       "       [0.6127449 , 0.        , 0.01054911, 0.        , 0.72773826,\n",
       "        0.4128602 , 0.        , 0.        , 0.        , 0.        ],\n",
       "       [0.41137826, 0.45999953, 0.71848863, 0.        , 0.        ,\n",
       "        0.29980114, 0.        , 0.        , 0.        , 0.        ],\n",
       "       [0.82947165, 0.20491129, 0.        , 0.        , 0.47647813,\n",
       "        0.        , 0.39832172, 0.        , 0.        , 0.        ],\n",
       "       [0.04573116, 0.        , 0.67741925, 0.        , 0.        ,\n",
       "        0.        , 0.46088123, 0.        , 0.        , 0.39439395],\n",
       "       [0.        , 0.03375057, 0.934714  , 0.        , 0.5239845 ,\n",
       "        0.        , 0.9214213 , 0.        , 0.        , 0.        ],\n",
       "       [0.        , 0.        , 0.9567172 , 0.31415144, 0.        ,\n",
       "        0.40333778, 0.1583537 , 0.        , 0.        , 0.        ],\n",
       "       [0.04850706, 0.        , 0.8573981 , 0.        , 0.        ,\n",
       "        0.        , 0.23557614, 0.44495046, 0.        , 0.        ],\n",
       "       [0.        , 0.        , 0.        , 0.7757434 , 0.29974842,\n",
       "        0.47304207, 0.        , 0.        , 0.        , 0.97353226],\n",
       "       [0.        , 0.        , 0.04344931, 0.08597016, 0.        ,\n",
       "        0.        , 0.660472  , 0.9784147 , 0.        , 0.        ],\n",
       "       [0.        , 0.45209226, 0.7110872 , 0.        , 0.87557894,\n",
       "        0.        , 0.75961554, 0.        , 0.        , 0.        ],\n",
       "       [0.        , 0.09342512, 0.        , 0.        , 0.22442254,\n",
       "        0.01690201, 0.        , 0.        , 0.        , 0.8055896 ],\n",
       "       [0.        , 0.        , 0.09824695, 0.24463587, 0.        ,\n",
       "        0.        , 0.        , 0.32749644, 0.        , 0.45531607],\n",
       "       [0.6346003 , 0.        , 0.        , 0.00316491, 0.5720998 ,\n",
       "        0.        , 0.87135255, 0.        , 0.        , 0.        ],\n",
       "       [0.        , 0.14726698, 0.        , 0.        , 0.        ,\n",
       "        0.2944593 , 0.28086743, 0.        , 0.25112677, 0.        ],\n",
       "       [0.        , 0.        , 0.        , 0.58537555, 0.12253232,\n",
       "        0.8452076 , 0.        , 0.        , 0.        , 0.54433316],\n",
       "       [0.69351566, 0.        , 0.        , 0.50371623, 0.        ,\n",
       "        0.        , 0.9726071 , 0.7246852 , 0.        , 0.        ],\n",
       "       [0.9864582 , 0.        , 0.        , 0.        , 0.        ,\n",
       "        0.1762971 , 0.55006534, 0.        , 0.7705533 , 0.        ],\n",
       "       [0.        , 0.        , 0.09063595, 0.8334261 , 0.        ,\n",
       "        0.        , 0.        , 0.26001835, 0.        , 0.27716133],\n",
       "       [0.        , 0.        , 0.89167565, 0.05737644, 0.        ,\n",
       "        0.1275051 , 0.        , 0.        , 0.        , 0.4685573 ],\n",
       "       [0.        , 0.        , 0.        , 0.39566204, 0.        ,\n",
       "        0.        , 0.62646705, 0.12898347, 0.02942246, 0.        ],\n",
       "       [0.        , 0.84200877, 0.26646206, 0.        , 0.        ,\n",
       "        0.        , 0.23111221, 0.        , 0.        , 0.09374874],\n",
       "       [0.        , 0.        , 0.        , 0.5096388 , 0.694407  ,\n",
       "        0.        , 0.        , 0.9894679 , 0.        , 0.67805064],\n",
       "       [0.        , 0.5960935 , 0.3876133 , 0.68256104, 0.        ,\n",
       "        0.        , 0.        , 0.22186916, 0.        , 0.        ],\n",
       "       [0.        , 0.14635102, 0.        , 0.23753619, 0.        ,\n",
       "        0.        , 0.4664514 , 0.        , 0.        , 0.6143749 ],\n",
       "       [0.2653583 , 0.        , 0.        , 0.25248948, 0.        ,\n",
       "        0.        , 0.06576658, 0.9888273 , 0.        , 0.        ],\n",
       "       [0.        , 0.        , 0.        , 0.4100118 , 0.5066825 ,\n",
       "        0.9791499 , 0.        , 0.9839119 , 0.        , 0.        ],\n",
       "       [0.2264393 , 0.95835906, 0.        , 0.8496141 , 0.        ,\n",
       "        0.        , 0.        , 0.6683453 , 0.        , 0.        ],\n",
       "       [0.10093832, 0.        , 0.        , 0.        , 0.6630357 ,\n",
       "        0.19981535, 0.        , 0.        , 0.        , 0.60982734],\n",
       "       [0.        , 0.65042835, 0.        , 0.        , 0.29258844,\n",
       "        0.        , 0.        , 0.7358039 , 0.        , 0.17556284],\n",
       "       [0.        , 0.        , 0.17079917, 0.13851656, 0.9781894 ,\n",
       "        0.0680179 , 0.        , 0.        , 0.        , 0.        ],\n",
       "       [0.        , 0.        , 0.        , 0.        , 0.3358856 ,\n",
       "        0.79898566, 0.48625088, 0.        , 0.        , 0.5448863 ]],\n",
       "      dtype=float32)"
      ]
     },
     "execution_count": 114,
     "metadata": {},
     "output_type": "execute_result"
    }
   ],
   "source": [
    "b"
   ]
  },
  {
   "cell_type": "code",
   "execution_count": 115,
   "id": "6afa1b35",
   "metadata": {},
   "outputs": [
    {
     "data": {
      "text/plain": [
       "array([[2.0588999 , 1.8681664 , 4.811817  , 2.2529387 , 2.1096544 ,\n",
       "        1.3379606 , 2.9000037 , 2.0491414 , 2.5897803 , 1.5031604 ],\n",
       "       [2.732146  , 2.5565495 , 3.714852  , 1.967403  , 2.7812793 ,\n",
       "        3.9070148 , 3.2777538 , 2.2969038 , 1.9229925 , 2.6556396 ],\n",
       "       [1.928745  , 3.1600957 , 2.6502829 , 1.8178726 , 3.2470448 ,\n",
       "        2.285428  , 2.6365926 , 2.5166864 , 1.070901  , 2.0605705 ],\n",
       "       [1.063185  , 4.1737986 , 2.2277255 , 1.2515675 , 4.1827664 ,\n",
       "        1.2915825 , 1.3805095 , 3.4198837 , 1.0256768 , 2.7755067 ],\n",
       "       [1.1833991 , 1.8557596 , 3.0534244 , 1.0722461 , 3.4905617 ,\n",
       "        1.643646  , 3.453313  , 3.808668  , 0.65044206, 2.0563726 ],\n",
       "       [1.0461621 , 3.5566838 , 3.2101297 , 1.572406  , 2.2809083 ,\n",
       "        1.8500901 , 1.3386623 , 4.39698   , 1.5621432 , 1.7725785 ],\n",
       "       [1.5166444 , 2.5048141 , 1.3417709 , 3.5234869 , 2.7652483 ,\n",
       "        1.1395355 , 2.25748   , 4.705172  , 2.2430854 , 1.8194562 ],\n",
       "       [1.6907904 , 2.3283677 , 1.7894993 , 2.1847265 , 2.8551002 ,\n",
       "        0.79378396, 1.7964936 , 3.5471232 , 1.9625643 , 1.3657154 ],\n",
       "       [1.2141374 , 2.9877534 , 3.1018186 , 3.629979  , 3.6487942 ,\n",
       "        1.808532  , 2.6615262 , 3.3801854 , 2.1941547 , 2.0062847 ],\n",
       "       [2.0491679 , 3.8442254 , 5.2590375 , 2.6086452 , 2.5204127 ,\n",
       "        2.845815  , 2.089722  , 2.0366    , 1.8493687 , 2.002032  ],\n",
       "       [1.4538853 , 3.52397   , 3.426971  , 0.94891644, 3.4088016 ,\n",
       "        1.826241  , 2.6029367 , 2.0418024 , 2.1847632 , 0.74823964],\n",
       "       [2.1386282 , 2.708146  , 1.742439  , 2.366699  , 2.55557   ,\n",
       "        1.021245  , 2.8354404 , 3.1261184 , 1.642767  , 1.4917253 ],\n",
       "       [2.2865992 , 3.9609175 , 3.3584628 , 2.9336588 , 2.459155  ,\n",
       "        2.2523775 , 2.647436  , 0.89587307, 2.0110953 , 2.1063092 ],\n",
       "       [1.9966788 , 2.9262302 , 4.8778872 , 1.2208712 , 3.4192896 ,\n",
       "        2.3487628 , 2.9560015 , 1.5107096 , 1.5358572 , 1.5315988 ],\n",
       "       [0.48399195, 2.1673245 , 2.2968588 , 2.7774973 , 2.5966098 ,\n",
       "        3.4832177 , 2.690391  , 4.0917354 , 0.23865944, 2.9819653 ],\n",
       "       [2.0954764 , 2.4307942 , 3.4558418 , 2.9896178 , 1.5231056 ,\n",
       "        3.422842  , 3.3150718 , 3.5051725 , 2.1653447 , 3.1134186 ],\n",
       "       [1.5846765 , 2.661023  , 2.4769669 , 3.470964  , 1.4431835 ,\n",
       "        2.3999262 , 3.9011345 , 3.248538  , 1.4247626 , 1.2602935 ],\n",
       "       [0.49207467, 2.325397  , 2.2815886 , 2.2696066 , 3.3333156 ,\n",
       "        2.4349878 , 2.0514407 , 3.2246497 , 1.6171042 , 1.6073767 ],\n",
       "       [2.5375338 , 2.4817715 , 2.6368468 , 2.0569093 , 4.3929462 ,\n",
       "        1.4862403 , 3.4939742 , 2.2332757 , 1.7737362 , 1.7618244 ],\n",
       "       [2.0678236 , 1.8836694 , 1.3364539 , 1.7425246 , 2.3898618 ,\n",
       "        1.1566195 , 2.628559  , 3.6502156 , 2.121294  , 1.3199686 ],\n",
       "       [1.8444016 , 2.2461612 , 3.215194  , 3.8432117 , 2.2398164 ,\n",
       "        1.8269355 , 4.414732  , 3.723146  , 0.50411344, 2.1435022 ],\n",
       "       [2.6537714 , 1.1732535 , 3.0079815 , 2.5904036 , 3.0474715 ,\n",
       "        1.8404907 , 2.6261342 , 1.1304994 , 1.8776394 , 0.85143405],\n",
       "       [0.6337883 , 3.3086834 , 1.4530784 , 2.515975  , 3.5047786 ,\n",
       "        1.1553439 , 2.8253915 , 3.52668   , 1.043268  , 2.3298826 ],\n",
       "       [1.3287122 , 2.5962925 , 1.9194646 , 1.8967655 , 5.310211  ,\n",
       "        2.868525  , 3.0769377 , 1.7588413 , 0.40501967, 2.9207122 ],\n",
       "       [0.8400132 , 2.0994346 , 2.1460192 , 1.5991999 , 2.2363923 ,\n",
       "        1.5488654 , 3.2248628 , 1.790886  , 0.7113455 , 2.6308084 ],\n",
       "       [0.95923513, 2.4799027 , 2.5939333 , 3.6836724 , 2.6314456 ,\n",
       "        2.4646401 , 3.5725472 , 3.2010999 , 1.1519556 , 1.662165  ],\n",
       "       [0.8192116 , 1.8272312 , 1.7956812 , 1.8296846 , 2.9964643 ,\n",
       "        2.2758195 , 2.3479476 , 2.8243024 , 1.1362125 , 2.8853436 ],\n",
       "       [3.6204023 , 1.9968115 , 1.7490085 , 2.9469259 , 3.12177   ,\n",
       "        2.235736  , 5.2850986 , 1.5726625 , 1.4582067 , 1.2513807 ],\n",
       "       [1.0327702 , 2.8972733 , 2.6707854 , 1.6554503 , 3.8221254 ,\n",
       "        2.0219557 , 2.4419677 , 3.9295774 , 1.2823715 , 1.2512529 ],\n",
       "       [1.928727  , 1.5045325 , 3.3143744 , 3.7100651 , 3.0415392 ,\n",
       "        1.8443445 , 2.0636263 , 2.327687  , 1.2617    , 1.081305  ],\n",
       "       [1.5923332 , 3.816273  , 3.0520546 , 0.9159544 , 4.5526114 ,\n",
       "        1.9873203 , 2.4606779 , 2.2672033 , 0.9068908 , 1.9620786 ],\n",
       "       [1.0044551 , 3.294622  , 1.9445477 , 3.2131855 , 3.7743635 ,\n",
       "        2.9366598 , 3.0328484 , 2.7435503 , 1.2155869 , 0.9583244 ]],\n",
       "      dtype=float32)"
      ]
     },
     "execution_count": 115,
     "metadata": {},
     "output_type": "execute_result"
    }
   ],
   "source": [
    "res_np"
   ]
  },
  {
   "cell_type": "code",
   "execution_count": 116,
   "id": "16178e90",
   "metadata": {},
   "outputs": [
    {
     "data": {
      "text/plain": [
       "array([[2.0588999 , 1.8681664 , 4.811817  , 2.2529387 , 2.1096544 ,\n",
       "        1.3379606 , 2.9000037 , 2.0491414 , 2.5897803 , 1.5031604 ],\n",
       "       [2.732146  , 2.5565495 , 3.714852  , 1.967403  , 2.7812793 ,\n",
       "        3.9070148 , 3.2777538 , 2.2969038 , 1.9229925 , 2.6556396 ],\n",
       "       [1.928745  , 3.1600957 , 2.6502829 , 1.8178726 , 3.2470448 ,\n",
       "        2.285428  , 2.6365926 , 2.5166864 , 1.070901  , 2.0605705 ],\n",
       "       [1.063185  , 4.1737986 , 2.2277255 , 1.2515675 , 4.1827664 ,\n",
       "        1.2915825 , 1.3805095 , 3.4198837 , 1.0256768 , 2.7755067 ],\n",
       "       [1.1833991 , 1.8557596 , 3.0534244 , 1.0722461 , 3.4905617 ,\n",
       "        1.643646  , 3.453313  , 3.808668  , 0.65044206, 2.0563726 ],\n",
       "       [1.0461621 , 3.5566838 , 3.2101297 , 1.572406  , 2.2809083 ,\n",
       "        1.8500901 , 1.3386623 , 4.39698   , 1.5621432 , 1.7725785 ],\n",
       "       [1.5166444 , 2.5048141 , 1.3417709 , 3.5234869 , 2.7652483 ,\n",
       "        1.1395355 , 2.25748   , 4.705172  , 2.2430854 , 1.8194562 ],\n",
       "       [1.6907904 , 2.3283677 , 1.7894993 , 2.1847265 , 2.8551002 ,\n",
       "        0.79378396, 1.7964936 , 3.5471232 , 1.9625643 , 1.3657154 ],\n",
       "       [1.2141374 , 2.9877534 , 3.1018186 , 3.629979  , 3.6487942 ,\n",
       "        1.808532  , 2.6615262 , 3.3801854 , 2.1941547 , 2.0062847 ],\n",
       "       [2.0491679 , 3.8442254 , 5.2590375 , 2.6086452 , 2.5204127 ,\n",
       "        2.845815  , 2.089722  , 2.0366    , 1.8493687 , 2.002032  ],\n",
       "       [1.4538853 , 3.52397   , 3.426971  , 0.94891644, 3.4088016 ,\n",
       "        1.826241  , 2.6029367 , 2.0418024 , 2.1847632 , 0.74823964],\n",
       "       [2.1386282 , 2.708146  , 1.742439  , 2.366699  , 2.55557   ,\n",
       "        1.021245  , 2.8354404 , 3.1261184 , 1.642767  , 1.4917253 ],\n",
       "       [2.2865992 , 3.9609175 , 3.3584628 , 2.9336588 , 2.459155  ,\n",
       "        2.2523775 , 2.647436  , 0.89587307, 2.0110953 , 2.1063092 ],\n",
       "       [1.9966788 , 2.9262302 , 4.8778872 , 1.2208712 , 3.4192896 ,\n",
       "        2.3487628 , 2.9560015 , 1.5107096 , 1.5358572 , 1.5315988 ],\n",
       "       [0.48399195, 2.1673245 , 2.2968588 , 2.7774973 , 2.5966098 ,\n",
       "        3.4832177 , 2.690391  , 4.0917354 , 0.23865944, 2.9819653 ],\n",
       "       [2.0954764 , 2.4307942 , 3.4558418 , 2.9896178 , 1.5231056 ,\n",
       "        3.422842  , 3.3150718 , 3.5051725 , 2.1653447 , 3.1134186 ],\n",
       "       [1.5846765 , 2.661023  , 2.4769669 , 3.470964  , 1.4431835 ,\n",
       "        2.3999262 , 3.9011345 , 3.248538  , 1.4247626 , 1.2602935 ],\n",
       "       [0.49207467, 2.325397  , 2.2815886 , 2.2696066 , 3.3333156 ,\n",
       "        2.4349878 , 2.0514407 , 3.2246497 , 1.6171042 , 1.6073767 ],\n",
       "       [2.5375338 , 2.4817715 , 2.6368468 , 2.0569093 , 4.3929462 ,\n",
       "        1.4862403 , 3.4939742 , 2.2332757 , 1.7737362 , 1.7618244 ],\n",
       "       [2.0678236 , 1.8836694 , 1.3364539 , 1.7425246 , 2.3898618 ,\n",
       "        1.1566195 , 2.628559  , 3.6502156 , 2.121294  , 1.3199686 ],\n",
       "       [1.8444016 , 2.2461612 , 3.215194  , 3.8432117 , 2.2398164 ,\n",
       "        1.8269355 , 4.414732  , 3.723146  , 0.50411344, 2.1435022 ],\n",
       "       [2.6537714 , 1.1732535 , 3.0079815 , 2.5904036 , 3.0474715 ,\n",
       "        1.8404907 , 2.6261342 , 1.1304994 , 1.8776394 , 0.85143405],\n",
       "       [0.6337883 , 3.3086834 , 1.4530784 , 2.515975  , 3.5047786 ,\n",
       "        1.1553439 , 2.8253915 , 3.52668   , 1.043268  , 2.3298826 ],\n",
       "       [1.3287122 , 2.5962925 , 1.9194646 , 1.8967655 , 5.310211  ,\n",
       "        2.868525  , 3.0769377 , 1.7588413 , 0.40501967, 2.9207122 ],\n",
       "       [0.84001315, 2.0994346 , 2.1460192 , 1.5992    , 2.236392  ,\n",
       "        1.5488653 , 3.224863  , 1.7908863 , 0.7113455 , 2.6308084 ],\n",
       "       [0.9592351 , 2.4799027 , 2.593933  , 3.6836722 , 2.6314456 ,\n",
       "        2.4646401 , 3.572547  , 3.2011003 , 1.1519556 , 1.662165  ],\n",
       "       [0.8192115 , 1.8272312 , 1.7956815 , 1.8296847 , 2.9964643 ,\n",
       "        2.2758198 , 2.3479474 , 2.8243022 , 1.1362125 , 2.8853436 ],\n",
       "       [3.6204023 , 1.9968116 , 1.7490085 , 2.9469256 , 3.12177   ,\n",
       "        2.235736  , 5.2850986 , 1.5726624 , 1.4582067 , 1.2513807 ],\n",
       "       [1.0327702 , 2.8972735 , 2.6707854 , 1.6554506 , 3.8221254 ,\n",
       "        2.0219557 , 2.4419675 , 3.9295774 , 1.2823715 , 1.2512529 ],\n",
       "       [1.9287269 , 1.5045323 , 3.3143744 , 3.7100654 , 3.0415392 ,\n",
       "        1.8443446 , 2.0636263 , 2.3276868 , 1.2617    , 1.081305  ],\n",
       "       [1.5923332 , 3.8162732 , 3.0520544 , 0.9159544 , 4.5526114 ,\n",
       "        1.9873202 , 2.4606779 , 2.2672033 , 0.9068908 , 1.9620786 ],\n",
       "       [1.0044551 , 3.2946215 , 1.9445477 , 3.2131855 , 3.7743635 ,\n",
       "        2.93666   , 3.0328484 , 2.7435503 , 1.2155869 , 0.9583244 ]],\n",
       "      dtype=float32)"
      ]
     },
     "execution_count": 116,
     "metadata": {},
     "output_type": "execute_result"
    }
   ],
   "source": [
    "a.dot(b)"
   ]
  },
  {
   "cell_type": "code",
   "execution_count": 117,
   "id": "4a9cd845",
   "metadata": {},
   "outputs": [
    {
     "name": "stderr",
     "output_type": "stream",
     "text": [
      "/tmp/ipykernel_25977/288550039.py:1: DeprecationWarning: elementwise comparison failed; this will raise an error in the future.\n",
      "  res_np==mult\n"
     ]
    },
    {
     "data": {
      "text/plain": [
       "False"
      ]
     },
     "execution_count": 117,
     "metadata": {},
     "output_type": "execute_result"
    }
   ],
   "source": [
    "res_np==mult"
   ]
  },
  {
   "cell_type": "code",
   "execution_count": 118,
   "id": "202bd173",
   "metadata": {},
   "outputs": [
    {
     "data": {
      "text/plain": [
       "(32, 10)"
      ]
     },
     "execution_count": 118,
     "metadata": {},
     "output_type": "execute_result"
    }
   ],
   "source": [
    "res_np.shape"
   ]
  },
  {
   "cell_type": "code",
   "execution_count": 119,
   "id": "31d97059",
   "metadata": {},
   "outputs": [
    {
     "data": {
      "text/plain": [
       "(32, 64)"
      ]
     },
     "execution_count": 119,
     "metadata": {},
     "output_type": "execute_result"
    }
   ],
   "source": [
    "mult.shape"
   ]
  },
  {
   "cell_type": "markdown",
   "id": "740ba01c",
   "metadata": {},
   "source": [
    "# Matmult Dense Transposed"
   ]
  },
  {
   "cell_type": "code",
   "execution_count": 120,
   "id": "62bd6037",
   "metadata": {},
   "outputs": [
    {
     "data": {
      "text/plain": [
       "array([[0.9414536 , 0.        , 0.        , 0.90892494, 0.        ,\n",
       "        0.        , 0.05297933, 0.        , 0.7021168 , 0.        ],\n",
       "       [0.        , 0.        , 0.14630048, 0.24825948, 0.        ,\n",
       "        0.        , 0.        , 0.7792777 , 0.31232256, 0.        ],\n",
       "       [0.        , 0.03283854, 0.27791733, 0.8543185 , 0.        ,\n",
       "        0.        , 0.8433972 , 0.        , 0.        , 0.        ],\n",
       "       [0.        , 0.        , 0.33419287, 0.19840643, 0.        ,\n",
       "        0.3856511 , 0.23348303, 0.        , 0.        , 0.        ],\n",
       "       [0.        , 0.01996238, 0.9816661 , 0.        , 0.        ,\n",
       "        0.        , 0.        , 0.5056456 , 0.        , 0.01917347],\n",
       "       [0.        , 0.        , 0.        , 0.        , 0.49159616,\n",
       "        0.0810385 , 0.64290637, 0.16045028, 0.        , 0.        ],\n",
       "       [0.        , 0.2878976 , 0.        , 0.        , 0.7058473 ,\n",
       "        0.        , 0.41645932, 0.44598925, 0.        , 0.        ],\n",
       "       [0.31479523, 0.40940058, 0.        , 0.        , 0.        ,\n",
       "        0.        , 0.49991104, 0.        , 0.79827386, 0.        ],\n",
       "       [0.11005293, 0.5290864 , 0.        , 0.31983745, 0.        ,\n",
       "        0.        , 0.        , 0.57631195, 0.        , 0.        ],\n",
       "       [0.06780045, 0.03890254, 0.        , 0.        , 0.98146695,\n",
       "        0.8737231 , 0.        , 0.        , 0.        , 0.        ],\n",
       "       [0.        , 0.7218774 , 0.40662676, 0.18507701, 0.        ,\n",
       "        0.        , 0.        , 0.        , 0.05563454, 0.        ],\n",
       "       [0.16214237, 0.        , 0.5265734 , 0.23904228, 0.        ,\n",
       "        0.        , 0.        , 0.        , 0.11824279, 0.        ],\n",
       "       [0.        , 0.6727114 , 0.01572542, 0.        , 0.44648495,\n",
       "        0.22174914, 0.        , 0.        , 0.        , 0.        ],\n",
       "       [0.6445239 , 0.8689898 , 0.78785294, 0.        , 0.        ,\n",
       "        0.        , 0.        , 0.        , 0.6352877 , 0.        ],\n",
       "       [0.50232446, 0.        , 0.        , 0.        , 0.        ,\n",
       "        0.47040063, 0.        , 0.        , 0.46875456, 0.5505951 ],\n",
       "       [0.        , 0.3043906 , 0.        , 0.        , 0.2855941 ,\n",
       "        0.        , 0.45246527, 0.03966095, 0.        , 0.        ],\n",
       "       [0.        , 0.6158326 , 0.        , 0.        , 0.        ,\n",
       "        0.55754304, 0.        , 0.8633621 , 0.        , 0.01719917],\n",
       "       [0.        , 0.        , 0.        , 0.        , 0.75643075,\n",
       "        0.        , 0.        , 0.42180747, 0.95542496, 0.1022128 ],\n",
       "       [0.        , 0.17614561, 0.4101668 , 0.        , 0.        ,\n",
       "        0.        , 0.20147614, 0.10142381, 0.        , 0.        ],\n",
       "       [0.        , 0.        , 0.        , 0.9880747 , 0.        ,\n",
       "        0.7065452 , 0.602556  , 0.48707104, 0.        , 0.        ],\n",
       "       [0.17604527, 0.        , 0.        , 0.        , 0.        ,\n",
       "        0.        , 0.        , 0.84334254, 0.8945855 , 0.72915745],\n",
       "       [0.        , 0.        , 0.        , 0.        , 0.23293144,\n",
       "        0.2350415 , 0.78704804, 0.        , 0.        , 0.20438819],\n",
       "       [0.        , 0.        , 0.        , 0.10942628, 0.00130877,\n",
       "        0.        , 0.        , 0.4094274 , 0.01082143, 0.        ],\n",
       "       [0.        , 0.        , 0.        , 0.21641734, 0.        ,\n",
       "        0.31724194, 0.35538766, 0.        , 0.        , 0.46936178],\n",
       "       [0.        , 0.        , 0.        , 0.        , 0.91353625,\n",
       "        0.        , 0.7040352 , 0.52147955, 0.49268502, 0.        ],\n",
       "       [0.        , 0.5996785 , 0.        , 0.5246723 , 0.        ,\n",
       "        0.        , 0.        , 0.9170164 , 0.47608244, 0.        ],\n",
       "       [0.        , 0.41769058, 0.        , 0.        , 0.92990875,\n",
       "        0.        , 0.22981252, 0.        , 0.        , 0.23540662],\n",
       "       [0.        , 0.22088505, 0.        , 0.        , 0.        ,\n",
       "        0.8154559 , 0.        , 0.23452929, 0.        , 0.88327533],\n",
       "       [0.42811713, 0.        , 0.94115525, 0.        , 0.34584206,\n",
       "        0.        , 0.        , 0.        , 0.1731275 , 0.        ],\n",
       "       [0.11871076, 0.64951146, 0.19040094, 0.        , 0.        ,\n",
       "        0.        , 0.        , 0.        , 0.        , 0.26224414],\n",
       "       [0.        , 0.        , 0.19905205, 0.        , 0.66453385,\n",
       "        0.9441609 , 0.17658035, 0.        , 0.        , 0.        ],\n",
       "       [0.        , 0.8829375 , 0.89167756, 0.        , 0.        ,\n",
       "        0.34762165, 0.        , 0.        , 0.02995267, 0.        ],\n",
       "       [0.        , 0.5526871 , 0.        , 0.70496935, 0.        ,\n",
       "        0.        , 0.6193049 , 0.        , 0.04075215, 0.        ],\n",
       "       [0.6127449 , 0.        , 0.01054911, 0.        , 0.72773826,\n",
       "        0.4128602 , 0.        , 0.        , 0.        , 0.        ],\n",
       "       [0.41137826, 0.45999953, 0.71848863, 0.        , 0.        ,\n",
       "        0.29980114, 0.        , 0.        , 0.        , 0.        ],\n",
       "       [0.82947165, 0.20491129, 0.        , 0.        , 0.47647813,\n",
       "        0.        , 0.39832172, 0.        , 0.        , 0.        ],\n",
       "       [0.04573116, 0.        , 0.67741925, 0.        , 0.        ,\n",
       "        0.        , 0.46088123, 0.        , 0.        , 0.39439395],\n",
       "       [0.        , 0.03375057, 0.934714  , 0.        , 0.5239845 ,\n",
       "        0.        , 0.9214213 , 0.        , 0.        , 0.        ],\n",
       "       [0.        , 0.        , 0.9567172 , 0.31415144, 0.        ,\n",
       "        0.40333778, 0.1583537 , 0.        , 0.        , 0.        ],\n",
       "       [0.04850706, 0.        , 0.8573981 , 0.        , 0.        ,\n",
       "        0.        , 0.23557614, 0.44495046, 0.        , 0.        ],\n",
       "       [0.        , 0.        , 0.        , 0.7757434 , 0.29974842,\n",
       "        0.47304207, 0.        , 0.        , 0.        , 0.97353226],\n",
       "       [0.        , 0.        , 0.04344931, 0.08597016, 0.        ,\n",
       "        0.        , 0.660472  , 0.9784147 , 0.        , 0.        ],\n",
       "       [0.        , 0.45209226, 0.7110872 , 0.        , 0.87557894,\n",
       "        0.        , 0.75961554, 0.        , 0.        , 0.        ],\n",
       "       [0.        , 0.09342512, 0.        , 0.        , 0.22442254,\n",
       "        0.01690201, 0.        , 0.        , 0.        , 0.8055896 ],\n",
       "       [0.        , 0.        , 0.09824695, 0.24463587, 0.        ,\n",
       "        0.        , 0.        , 0.32749644, 0.        , 0.45531607],\n",
       "       [0.6346003 , 0.        , 0.        , 0.00316491, 0.5720998 ,\n",
       "        0.        , 0.87135255, 0.        , 0.        , 0.        ],\n",
       "       [0.        , 0.14726698, 0.        , 0.        , 0.        ,\n",
       "        0.2944593 , 0.28086743, 0.        , 0.25112677, 0.        ],\n",
       "       [0.        , 0.        , 0.        , 0.58537555, 0.12253232,\n",
       "        0.8452076 , 0.        , 0.        , 0.        , 0.54433316],\n",
       "       [0.69351566, 0.        , 0.        , 0.50371623, 0.        ,\n",
       "        0.        , 0.9726071 , 0.7246852 , 0.        , 0.        ],\n",
       "       [0.9864582 , 0.        , 0.        , 0.        , 0.        ,\n",
       "        0.1762971 , 0.55006534, 0.        , 0.7705533 , 0.        ],\n",
       "       [0.        , 0.        , 0.09063595, 0.8334261 , 0.        ,\n",
       "        0.        , 0.        , 0.26001835, 0.        , 0.27716133],\n",
       "       [0.        , 0.        , 0.89167565, 0.05737644, 0.        ,\n",
       "        0.1275051 , 0.        , 0.        , 0.        , 0.4685573 ],\n",
       "       [0.        , 0.        , 0.        , 0.39566204, 0.        ,\n",
       "        0.        , 0.62646705, 0.12898347, 0.02942246, 0.        ],\n",
       "       [0.        , 0.84200877, 0.26646206, 0.        , 0.        ,\n",
       "        0.        , 0.23111221, 0.        , 0.        , 0.09374874],\n",
       "       [0.        , 0.        , 0.        , 0.5096388 , 0.694407  ,\n",
       "        0.        , 0.        , 0.9894679 , 0.        , 0.67805064],\n",
       "       [0.        , 0.5960935 , 0.3876133 , 0.68256104, 0.        ,\n",
       "        0.        , 0.        , 0.22186916, 0.        , 0.        ],\n",
       "       [0.        , 0.14635102, 0.        , 0.23753619, 0.        ,\n",
       "        0.        , 0.4664514 , 0.        , 0.        , 0.6143749 ],\n",
       "       [0.2653583 , 0.        , 0.        , 0.25248948, 0.        ,\n",
       "        0.        , 0.06576658, 0.9888273 , 0.        , 0.        ],\n",
       "       [0.        , 0.        , 0.        , 0.4100118 , 0.5066825 ,\n",
       "        0.9791499 , 0.        , 0.9839119 , 0.        , 0.        ],\n",
       "       [0.2264393 , 0.95835906, 0.        , 0.8496141 , 0.        ,\n",
       "        0.        , 0.        , 0.6683453 , 0.        , 0.        ],\n",
       "       [0.10093832, 0.        , 0.        , 0.        , 0.6630357 ,\n",
       "        0.19981535, 0.        , 0.        , 0.        , 0.60982734],\n",
       "       [0.        , 0.65042835, 0.        , 0.        , 0.29258844,\n",
       "        0.        , 0.        , 0.7358039 , 0.        , 0.17556284],\n",
       "       [0.        , 0.        , 0.17079917, 0.13851656, 0.9781894 ,\n",
       "        0.0680179 , 0.        , 0.        , 0.        , 0.        ],\n",
       "       [0.        , 0.        , 0.        , 0.        , 0.3358856 ,\n",
       "        0.79898566, 0.48625088, 0.        , 0.        , 0.5448863 ]],\n",
       "      dtype=float32)"
      ]
     },
     "execution_count": 120,
     "metadata": {},
     "output_type": "execute_result"
    }
   ],
   "source": [
    "b"
   ]
  },
  {
   "cell_type": "code",
   "execution_count": 121,
   "id": "dc2ef4a9",
   "metadata": {},
   "outputs": [],
   "source": [
    "c=np.zeros(b.T.shape)\n",
    "bt = b.T\n",
    "for row in range(bt.shape[0]):\n",
    "    for col in range(bt.shape[1]):\n",
    "        c[row][col] = bt[row][col]"
   ]
  },
  {
   "cell_type": "code",
   "execution_count": 122,
   "id": "ca967ffe",
   "metadata": {},
   "outputs": [],
   "source": [
    "b_buf2 = cl.Buffer(ctx, mf.READ_WRITE | mf.COPY_HOST_PTR, hostbuf=c.astype(np.float32))\n",
    "a_buf = cl.Buffer(ctx, mf.READ_WRITE | mf.COPY_HOST_PTR, hostbuf=a)\n",
    "\n",
    "prg = cl.Program(ctx, \"\"\"\n",
    "    // multilplies x by y WITH Y TRANSPOSED INDEXING\n",
    "    __kernel void matmul0(__global  float* x,     // INPUT MATRIX DATA\n",
    "                          __global  float* y,    // INPUT\n",
    "                          __global  float* res,    // INPUT\n",
    "                          uint msize\n",
    "                          ) { // LOCAL SHARED BUFFER\n",
    "      uint isize = get_global_size(0);\n",
    "      uint osize = get_global_size(1);\n",
    "      int gidx = get_global_id(0); // row\n",
    "      int gidy = get_global_id(1); // col\n",
    "\n",
    "      float ret = 0.0;\n",
    "      for (int i = 0; i < msize; i++) {\n",
    "        uint xidx = gidx*msize+i;\n",
    "        float xval = x[xidx];\n",
    "        uint yidx = msize*gidy+i;\n",
    "        float yval = y[yidx];\n",
    "        ret += xval*yval;\n",
    "        if (gidx==0 && gidy==0)\n",
    "          printf(\"\\\\nmult: %.2f x %.2f - %.2f  -- %i/%i\", xval, yval, res, xidx, yidx);\n",
    "      }\n",
    "\n",
    "      //if (gidx==0&&gidy==0)\n",
    "      //  printf(\"\\\\nsum:%.2f\", ret);\n",
    "      res[gidx * osize + gidy] = ret;\n",
    "    }\"\"\").build()"
   ]
  },
  {
   "cell_type": "code",
   "execution_count": 123,
   "id": "a43dbb5d",
   "metadata": {},
   "outputs": [
    {
     "data": {
      "text/plain": [
       "((32, 64), (10, 64))"
      ]
     },
     "execution_count": 123,
     "metadata": {},
     "output_type": "execute_result"
    }
   ],
   "source": [
    "a.shape, b.T.shape"
   ]
  },
  {
   "cell_type": "code",
   "execution_count": 124,
   "id": "fde0973e",
   "metadata": {},
   "outputs": [],
   "source": [
    "rows = a.shape[0]"
   ]
  },
  {
   "cell_type": "code",
   "execution_count": 125,
   "id": "56c661f2",
   "metadata": {},
   "outputs": [],
   "source": [
    "mult = mult.astype(np.float32)"
   ]
  },
  {
   "cell_type": "code",
   "execution_count": 126,
   "id": "10b1d468",
   "metadata": {},
   "outputs": [
    {
     "data": {
      "text/plain": [
       "<pyopencl._cl.NannyEvent at 0x7ff15428a770>"
      ]
     },
     "execution_count": 126,
     "metadata": {},
     "output_type": "execute_result"
    },
    {
     "name": "stdout",
     "output_type": "stream",
     "text": [
      "\n",
      "mult: 0.82 x 0.94 - 0.00  -- 0/0\n",
      "mult: 0.00 x 0.00 - 0.00  -- 1/1\n",
      "mult: 0.00 x 0.00 - 0.00  -- 2/2\n",
      "mult: 0.48 x 0.00 - 0.00  -- 3/3\n",
      "mult: 0.91 x 0.00 - 0.00  -- 4/4\n",
      "mult: 0.00 x 0.00 - 0.00  -- 5/5\n",
      "mult: 0.00 x 0.00 - 0.00  -- 6/6\n",
      "mult: 0.88 x 0.31 - 0.00  -- 7/7\n",
      "mult: 0.00 x 0.11 - 0.00  -- 8/8\n",
      "mult: 0.00 x 0.07 - 0.00  -- 9/9\n",
      "mult: 0.00 x 0.00 - 0.00  -- 10/10\n",
      "mult: 0.87 x 0.16 - 0.00  -- 11/11\n",
      "mult: 0.00 x 0.00 - 0.00  -- 12/12\n",
      "mult: 0.00 x 0.64 - 0.00  -- 13/13\n",
      "mult: 0.26 x 0.50 - 0.00  -- 14/14\n",
      "mult: 0.36 x 0.00 - 0.00  -- 15/15\n",
      "mult: 0.00 x 0.00 - 0.00  -- 16/16\n",
      "mult: 0.41 x 0.00 - 0.00  -- 17/17\n",
      "mult: 0.00 x 0.00 - 0.00  -- 18/18\n",
      "mult: 0.00 x 0.00 - 0.00  -- 19/19\n",
      "mult: 0.62 x 0.18 - 0.00  -- 20/20\n",
      "mult: 0.47 x 0.00 - 0.00  -- 21/21\n",
      "mult: 0.00 x 0.00 - 0.00  -- 22/22\n",
      "mult: 0.00 x 0.00 - 0.00  -- 23/23\n",
      "mult: 0.00 x 0.00 - 0.00  -- 24/24\n",
      "mult: 0.00 x 0.00 - 0.00  -- 25/25\n",
      "mult: 0.00 x 0.00 - 0.00  -- 26/26\n",
      "mult: 0.00 x 0.00 - 0.00  -- 27/27\n",
      "mult: 0.22 x 0.43 - 0.00  -- 28/28\n",
      "mult: 0.59 x 0.12 - 0.00  -- 29/29\n",
      "mult: 0.00 x 0.00 - 0.00  -- 30/30\n",
      "mult: 0.44 x 0.00 - 0.00  -- 31/31\n",
      "mult: 0.47 x 0.00 - 0.00  -- 32/32\n",
      "mult: 0.69 x 0.61 - 0.00  -- 33/33\n",
      "mult: 0.00 x 0.41 - 0.00  -- 34/34\n",
      "mult: 0.00 x 0.83 - 0.00  -- 35/35\n",
      "mult: 0.38 x 0.05 - 0.00  -- 36/36\n",
      "mult: 0.81 x 0.00 - 0.00  -- 37/37\n",
      "mult: 0.98 x 0.00 - 0.00  -- 38/38\n",
      "mult: 0.45 x 0.05 - 0.00  -- 39/39\n",
      "mult: 0.00 x 0.00 - 0.00  -- 40/40\n",
      "mult: 0.00 x 0.00 - 0.00  -- 41/41\n",
      "mult: 0.29 x 0.00 - 0.00  -- 42/42\n",
      "mult: 0.00 x 0.00 - 0.00  -- 43/43\n",
      "mult: 0.04 x 0.00 - 0.00  -- 44/44\n",
      "mult: 0.00 x 0.63 - 0.00  -- 45/45\n",
      "mult: 0.28 x 0.00 - 0.00  -- 46/46\n",
      "mult: 0.00 x 0.00 - 0.00  -- 47/47\n",
      "mult: 0.00 x 0.69 - 0.00  -- 48/48\n",
      "mult: 0.00 x 0.99 - 0.00  -- 49/49\n",
      "mult: 0.42 x 0.00 - 0.00  -- 50/50\n",
      "mult: 0.00 x 0.00 - 0.00  -- 51/51\n",
      "mult: 0.00 x 0.00 - 0.00  -- 52/52\n",
      "mult: 0.00 x 0.00 - 0.00  -- 53/53\n",
      "mult: 0.39 x 0.00 - 0.00  -- 54/54\n",
      "mult: 0.00 x 0.00 - 0.00  -- 55/55\n",
      "mult: 0.00 x 0.00 - 0.00  -- 56/56\n",
      "mult: 0.00 x 0.27 - 0.00  -- 57/57\n",
      "mult: 0.00 x 0.00 - 0.00  -- 58/58\n",
      "mult: 0.00 x 0.23 - 0.00  -- 59/59\n",
      "mult: 0.00 x 0.10 - 0.00  -- 60/60\n",
      "mult: 0.23 x 0.00 - 0.00  -- 61/61\n",
      "mult: 0.00 x 0.00 - 0.00  -- 62/62\n",
      "mult: 0.00 x 0.00 - 0.00  -- 63/63"
     ]
    }
   ],
   "source": [
    "res_buf = cl.Buffer(ctx, mf.READ_WRITE, np.prod([rows,b.shape[1]])*4)\n",
    "knl = prg.matmul0  # Use this Kernel object for repeated calls\n",
    "knl(queue, [rows,b.shape[1]], None, a_buf, b_buf2, res_buf, np.uint32(a.shape[1]))\n",
    "\n",
    "res_np = np.zeros([rows,b.shape[1]]).astype(np.float32)\n",
    "cl.enqueue_copy(queue, res_np, res_buf)"
   ]
  },
  {
   "cell_type": "code",
   "execution_count": 127,
   "id": "3791c36d",
   "metadata": {},
   "outputs": [
    {
     "ename": "ValueError",
     "evalue": "operands could not be broadcast together with shapes (32,10) (32,64) ",
     "output_type": "error",
     "traceback": [
      "\u001b[0;31m---------------------------------------------------------------------------\u001b[0m",
      "\u001b[0;31mValueError\u001b[0m                                Traceback (most recent call last)",
      "\u001b[0;32m/tmp/ipykernel_25977/862617426.py\u001b[0m in \u001b[0;36m<module>\u001b[0;34m\u001b[0m\n\u001b[0;32m----> 1\u001b[0;31m \u001b[0;34m(\u001b[0m\u001b[0mres_np\u001b[0m\u001b[0;34m-\u001b[0m\u001b[0mmult\u001b[0m\u001b[0;34m)\u001b[0m\u001b[0;34m.\u001b[0m\u001b[0msum\u001b[0m\u001b[0;34m(\u001b[0m\u001b[0;34m)\u001b[0m\u001b[0;34m\u001b[0m\u001b[0;34m\u001b[0m\u001b[0m\n\u001b[0m",
      "\u001b[0;31mValueError\u001b[0m: operands could not be broadcast together with shapes (32,10) (32,64) "
     ]
    }
   ],
   "source": [
    "(res_np-mult).sum()"
   ]
  },
  {
   "cell_type": "code",
   "execution_count": 128,
   "id": "be02b18f",
   "metadata": {},
   "outputs": [
    {
     "data": {
      "text/plain": [
       "array([[0.82272685, 0.        , 0.        , ..., 0.22595333, 0.        ,\n",
       "        0.        ],\n",
       "       [0.57626116, 0.2289813 , 0.16428949, ..., 0.27008578, 0.        ,\n",
       "        0.9652075 ],\n",
       "       [0.        , 0.48130327, 0.        , ..., 0.        , 0.12290299,\n",
       "        0.        ],\n",
       "       ...,\n",
       "       [0.8716895 , 0.10489579, 0.        , ..., 0.        , 0.39542586,\n",
       "        0.        ],\n",
       "       [0.        , 0.        , 0.        , ..., 0.5132175 , 0.9358725 ,\n",
       "        0.37984058],\n",
       "       [0.        , 0.6832084 , 0.9385753 , ..., 0.02876937, 0.        ,\n",
       "        0.        ]], dtype=float32)"
      ]
     },
     "execution_count": 128,
     "metadata": {},
     "output_type": "execute_result"
    }
   ],
   "source": [
    "a"
   ]
  },
  {
   "cell_type": "code",
   "execution_count": 129,
   "id": "7a112967",
   "metadata": {},
   "outputs": [
    {
     "data": {
      "text/plain": [
       "array([[0.9414536 , 0.        , 0.        , 0.90892494, 0.        ,\n",
       "        0.        , 0.05297933, 0.        , 0.7021168 , 0.        ],\n",
       "       [0.        , 0.        , 0.14630048, 0.24825948, 0.        ,\n",
       "        0.        , 0.        , 0.7792777 , 0.31232256, 0.        ],\n",
       "       [0.        , 0.03283854, 0.27791733, 0.8543185 , 0.        ,\n",
       "        0.        , 0.8433972 , 0.        , 0.        , 0.        ],\n",
       "       [0.        , 0.        , 0.33419287, 0.19840643, 0.        ,\n",
       "        0.3856511 , 0.23348303, 0.        , 0.        , 0.        ],\n",
       "       [0.        , 0.01996238, 0.9816661 , 0.        , 0.        ,\n",
       "        0.        , 0.        , 0.5056456 , 0.        , 0.01917347],\n",
       "       [0.        , 0.        , 0.        , 0.        , 0.49159616,\n",
       "        0.0810385 , 0.64290637, 0.16045028, 0.        , 0.        ],\n",
       "       [0.        , 0.2878976 , 0.        , 0.        , 0.7058473 ,\n",
       "        0.        , 0.41645932, 0.44598925, 0.        , 0.        ],\n",
       "       [0.31479523, 0.40940058, 0.        , 0.        , 0.        ,\n",
       "        0.        , 0.49991104, 0.        , 0.79827386, 0.        ],\n",
       "       [0.11005293, 0.5290864 , 0.        , 0.31983745, 0.        ,\n",
       "        0.        , 0.        , 0.57631195, 0.        , 0.        ],\n",
       "       [0.06780045, 0.03890254, 0.        , 0.        , 0.98146695,\n",
       "        0.8737231 , 0.        , 0.        , 0.        , 0.        ],\n",
       "       [0.        , 0.7218774 , 0.40662676, 0.18507701, 0.        ,\n",
       "        0.        , 0.        , 0.        , 0.05563454, 0.        ],\n",
       "       [0.16214237, 0.        , 0.5265734 , 0.23904228, 0.        ,\n",
       "        0.        , 0.        , 0.        , 0.11824279, 0.        ],\n",
       "       [0.        , 0.6727114 , 0.01572542, 0.        , 0.44648495,\n",
       "        0.22174914, 0.        , 0.        , 0.        , 0.        ],\n",
       "       [0.6445239 , 0.8689898 , 0.78785294, 0.        , 0.        ,\n",
       "        0.        , 0.        , 0.        , 0.6352877 , 0.        ],\n",
       "       [0.50232446, 0.        , 0.        , 0.        , 0.        ,\n",
       "        0.47040063, 0.        , 0.        , 0.46875456, 0.5505951 ],\n",
       "       [0.        , 0.3043906 , 0.        , 0.        , 0.2855941 ,\n",
       "        0.        , 0.45246527, 0.03966095, 0.        , 0.        ],\n",
       "       [0.        , 0.6158326 , 0.        , 0.        , 0.        ,\n",
       "        0.55754304, 0.        , 0.8633621 , 0.        , 0.01719917],\n",
       "       [0.        , 0.        , 0.        , 0.        , 0.75643075,\n",
       "        0.        , 0.        , 0.42180747, 0.95542496, 0.1022128 ],\n",
       "       [0.        , 0.17614561, 0.4101668 , 0.        , 0.        ,\n",
       "        0.        , 0.20147614, 0.10142381, 0.        , 0.        ],\n",
       "       [0.        , 0.        , 0.        , 0.9880747 , 0.        ,\n",
       "        0.7065452 , 0.602556  , 0.48707104, 0.        , 0.        ],\n",
       "       [0.17604527, 0.        , 0.        , 0.        , 0.        ,\n",
       "        0.        , 0.        , 0.84334254, 0.8945855 , 0.72915745],\n",
       "       [0.        , 0.        , 0.        , 0.        , 0.23293144,\n",
       "        0.2350415 , 0.78704804, 0.        , 0.        , 0.20438819],\n",
       "       [0.        , 0.        , 0.        , 0.10942628, 0.00130877,\n",
       "        0.        , 0.        , 0.4094274 , 0.01082143, 0.        ],\n",
       "       [0.        , 0.        , 0.        , 0.21641734, 0.        ,\n",
       "        0.31724194, 0.35538766, 0.        , 0.        , 0.46936178],\n",
       "       [0.        , 0.        , 0.        , 0.        , 0.91353625,\n",
       "        0.        , 0.7040352 , 0.52147955, 0.49268502, 0.        ],\n",
       "       [0.        , 0.5996785 , 0.        , 0.5246723 , 0.        ,\n",
       "        0.        , 0.        , 0.9170164 , 0.47608244, 0.        ],\n",
       "       [0.        , 0.41769058, 0.        , 0.        , 0.92990875,\n",
       "        0.        , 0.22981252, 0.        , 0.        , 0.23540662],\n",
       "       [0.        , 0.22088505, 0.        , 0.        , 0.        ,\n",
       "        0.8154559 , 0.        , 0.23452929, 0.        , 0.88327533],\n",
       "       [0.42811713, 0.        , 0.94115525, 0.        , 0.34584206,\n",
       "        0.        , 0.        , 0.        , 0.1731275 , 0.        ],\n",
       "       [0.11871076, 0.64951146, 0.19040094, 0.        , 0.        ,\n",
       "        0.        , 0.        , 0.        , 0.        , 0.26224414],\n",
       "       [0.        , 0.        , 0.19905205, 0.        , 0.66453385,\n",
       "        0.9441609 , 0.17658035, 0.        , 0.        , 0.        ],\n",
       "       [0.        , 0.8829375 , 0.89167756, 0.        , 0.        ,\n",
       "        0.34762165, 0.        , 0.        , 0.02995267, 0.        ],\n",
       "       [0.        , 0.5526871 , 0.        , 0.70496935, 0.        ,\n",
       "        0.        , 0.6193049 , 0.        , 0.04075215, 0.        ],\n",
       "       [0.6127449 , 0.        , 0.01054911, 0.        , 0.72773826,\n",
       "        0.4128602 , 0.        , 0.        , 0.        , 0.        ],\n",
       "       [0.41137826, 0.45999953, 0.71848863, 0.        , 0.        ,\n",
       "        0.29980114, 0.        , 0.        , 0.        , 0.        ],\n",
       "       [0.82947165, 0.20491129, 0.        , 0.        , 0.47647813,\n",
       "        0.        , 0.39832172, 0.        , 0.        , 0.        ],\n",
       "       [0.04573116, 0.        , 0.67741925, 0.        , 0.        ,\n",
       "        0.        , 0.46088123, 0.        , 0.        , 0.39439395],\n",
       "       [0.        , 0.03375057, 0.934714  , 0.        , 0.5239845 ,\n",
       "        0.        , 0.9214213 , 0.        , 0.        , 0.        ],\n",
       "       [0.        , 0.        , 0.9567172 , 0.31415144, 0.        ,\n",
       "        0.40333778, 0.1583537 , 0.        , 0.        , 0.        ],\n",
       "       [0.04850706, 0.        , 0.8573981 , 0.        , 0.        ,\n",
       "        0.        , 0.23557614, 0.44495046, 0.        , 0.        ],\n",
       "       [0.        , 0.        , 0.        , 0.7757434 , 0.29974842,\n",
       "        0.47304207, 0.        , 0.        , 0.        , 0.97353226],\n",
       "       [0.        , 0.        , 0.04344931, 0.08597016, 0.        ,\n",
       "        0.        , 0.660472  , 0.9784147 , 0.        , 0.        ],\n",
       "       [0.        , 0.45209226, 0.7110872 , 0.        , 0.87557894,\n",
       "        0.        , 0.75961554, 0.        , 0.        , 0.        ],\n",
       "       [0.        , 0.09342512, 0.        , 0.        , 0.22442254,\n",
       "        0.01690201, 0.        , 0.        , 0.        , 0.8055896 ],\n",
       "       [0.        , 0.        , 0.09824695, 0.24463587, 0.        ,\n",
       "        0.        , 0.        , 0.32749644, 0.        , 0.45531607],\n",
       "       [0.6346003 , 0.        , 0.        , 0.00316491, 0.5720998 ,\n",
       "        0.        , 0.87135255, 0.        , 0.        , 0.        ],\n",
       "       [0.        , 0.14726698, 0.        , 0.        , 0.        ,\n",
       "        0.2944593 , 0.28086743, 0.        , 0.25112677, 0.        ],\n",
       "       [0.        , 0.        , 0.        , 0.58537555, 0.12253232,\n",
       "        0.8452076 , 0.        , 0.        , 0.        , 0.54433316],\n",
       "       [0.69351566, 0.        , 0.        , 0.50371623, 0.        ,\n",
       "        0.        , 0.9726071 , 0.7246852 , 0.        , 0.        ],\n",
       "       [0.9864582 , 0.        , 0.        , 0.        , 0.        ,\n",
       "        0.1762971 , 0.55006534, 0.        , 0.7705533 , 0.        ],\n",
       "       [0.        , 0.        , 0.09063595, 0.8334261 , 0.        ,\n",
       "        0.        , 0.        , 0.26001835, 0.        , 0.27716133],\n",
       "       [0.        , 0.        , 0.89167565, 0.05737644, 0.        ,\n",
       "        0.1275051 , 0.        , 0.        , 0.        , 0.4685573 ],\n",
       "       [0.        , 0.        , 0.        , 0.39566204, 0.        ,\n",
       "        0.        , 0.62646705, 0.12898347, 0.02942246, 0.        ],\n",
       "       [0.        , 0.84200877, 0.26646206, 0.        , 0.        ,\n",
       "        0.        , 0.23111221, 0.        , 0.        , 0.09374874],\n",
       "       [0.        , 0.        , 0.        , 0.5096388 , 0.694407  ,\n",
       "        0.        , 0.        , 0.9894679 , 0.        , 0.67805064],\n",
       "       [0.        , 0.5960935 , 0.3876133 , 0.68256104, 0.        ,\n",
       "        0.        , 0.        , 0.22186916, 0.        , 0.        ],\n",
       "       [0.        , 0.14635102, 0.        , 0.23753619, 0.        ,\n",
       "        0.        , 0.4664514 , 0.        , 0.        , 0.6143749 ],\n",
       "       [0.2653583 , 0.        , 0.        , 0.25248948, 0.        ,\n",
       "        0.        , 0.06576658, 0.9888273 , 0.        , 0.        ],\n",
       "       [0.        , 0.        , 0.        , 0.4100118 , 0.5066825 ,\n",
       "        0.9791499 , 0.        , 0.9839119 , 0.        , 0.        ],\n",
       "       [0.2264393 , 0.95835906, 0.        , 0.8496141 , 0.        ,\n",
       "        0.        , 0.        , 0.6683453 , 0.        , 0.        ],\n",
       "       [0.10093832, 0.        , 0.        , 0.        , 0.6630357 ,\n",
       "        0.19981535, 0.        , 0.        , 0.        , 0.60982734],\n",
       "       [0.        , 0.65042835, 0.        , 0.        , 0.29258844,\n",
       "        0.        , 0.        , 0.7358039 , 0.        , 0.17556284],\n",
       "       [0.        , 0.        , 0.17079917, 0.13851656, 0.9781894 ,\n",
       "        0.0680179 , 0.        , 0.        , 0.        , 0.        ],\n",
       "       [0.        , 0.        , 0.        , 0.        , 0.3358856 ,\n",
       "        0.79898566, 0.48625088, 0.        , 0.        , 0.5448863 ]],\n",
       "      dtype=float32)"
      ]
     },
     "execution_count": 129,
     "metadata": {},
     "output_type": "execute_result"
    }
   ],
   "source": [
    "b"
   ]
  },
  {
   "cell_type": "code",
   "execution_count": 130,
   "id": "0bdbf257",
   "metadata": {},
   "outputs": [
    {
     "data": {
      "text/plain": [
       "array([[2.0588999 , 1.8681664 , 4.811817  , 2.2529387 , 2.1096544 ,\n",
       "        1.3379606 , 2.9000037 , 2.0491414 , 2.5897803 , 1.5031604 ],\n",
       "       [2.732146  , 2.5565495 , 3.714852  , 1.967403  , 2.7812793 ,\n",
       "        3.9070148 , 3.2777538 , 2.2969038 , 1.9229925 , 2.6556396 ],\n",
       "       [1.928745  , 3.1600957 , 2.6502829 , 1.8178726 , 3.2470448 ,\n",
       "        2.285428  , 2.6365926 , 2.5166864 , 1.070901  , 2.0605705 ],\n",
       "       [1.063185  , 4.1737986 , 2.2277255 , 1.2515675 , 4.1827664 ,\n",
       "        1.2915825 , 1.3805095 , 3.4198837 , 1.0256768 , 2.7755067 ],\n",
       "       [1.1833991 , 1.8557596 , 3.0534244 , 1.0722461 , 3.4905617 ,\n",
       "        1.643646  , 3.453313  , 3.808668  , 0.65044206, 2.0563726 ],\n",
       "       [1.0461621 , 3.5566838 , 3.2101297 , 1.572406  , 2.2809083 ,\n",
       "        1.8500901 , 1.3386623 , 4.39698   , 1.5621432 , 1.7725785 ],\n",
       "       [1.5166444 , 2.5048141 , 1.3417709 , 3.5234869 , 2.7652483 ,\n",
       "        1.1395355 , 2.25748   , 4.705172  , 2.2430854 , 1.8194562 ],\n",
       "       [1.6907904 , 2.3283677 , 1.7894993 , 2.1847265 , 2.8551002 ,\n",
       "        0.79378396, 1.7964936 , 3.5471232 , 1.9625643 , 1.3657154 ],\n",
       "       [1.2141374 , 2.9877534 , 3.1018186 , 3.629979  , 3.6487942 ,\n",
       "        1.808532  , 2.6615262 , 3.3801854 , 2.1941547 , 2.0062847 ],\n",
       "       [2.0491679 , 3.8442254 , 5.2590375 , 2.6086452 , 2.5204127 ,\n",
       "        2.845815  , 2.089722  , 2.0366    , 1.8493687 , 2.002032  ],\n",
       "       [1.4538853 , 3.52397   , 3.426971  , 0.94891644, 3.4088016 ,\n",
       "        1.826241  , 2.6029367 , 2.0418024 , 2.1847632 , 0.74823964],\n",
       "       [2.1386282 , 2.708146  , 1.742439  , 2.366699  , 2.55557   ,\n",
       "        1.021245  , 2.8354404 , 3.1261184 , 1.642767  , 1.4917253 ],\n",
       "       [2.2865992 , 3.9609175 , 3.3584628 , 2.9336588 , 2.459155  ,\n",
       "        2.2523775 , 2.647436  , 0.89587307, 2.0110953 , 2.1063092 ],\n",
       "       [1.9966788 , 2.9262302 , 4.8778872 , 1.2208712 , 3.4192896 ,\n",
       "        2.3487628 , 2.9560015 , 1.5107096 , 1.5358572 , 1.5315988 ],\n",
       "       [0.48399195, 2.1673245 , 2.2968588 , 2.7774973 , 2.5966098 ,\n",
       "        3.4832177 , 2.690391  , 4.0917354 , 0.23865944, 2.9819653 ],\n",
       "       [2.0954764 , 2.4307942 , 3.4558418 , 2.9896178 , 1.5231056 ,\n",
       "        3.422842  , 3.3150718 , 3.5051725 , 2.1653447 , 3.1134186 ],\n",
       "       [1.5846765 , 2.661023  , 2.4769669 , 3.470964  , 1.4431835 ,\n",
       "        2.3999262 , 3.9011345 , 3.248538  , 1.4247626 , 1.2602935 ],\n",
       "       [0.49207467, 2.325397  , 2.2815886 , 2.2696066 , 3.3333156 ,\n",
       "        2.4349878 , 2.0514407 , 3.2246497 , 1.6171042 , 1.6073767 ],\n",
       "       [2.5375338 , 2.4817715 , 2.6368468 , 2.0569093 , 4.3929462 ,\n",
       "        1.4862403 , 3.4939742 , 2.2332757 , 1.7737362 , 1.7618244 ],\n",
       "       [2.0678236 , 1.8836694 , 1.3364539 , 1.7425246 , 2.3898618 ,\n",
       "        1.1566195 , 2.628559  , 3.6502156 , 2.121294  , 1.3199686 ],\n",
       "       [1.8444016 , 2.2461612 , 3.215194  , 3.8432117 , 2.2398164 ,\n",
       "        1.8269355 , 4.414732  , 3.723146  , 0.50411344, 2.1435022 ],\n",
       "       [2.6537714 , 1.1732535 , 3.0079815 , 2.5904036 , 3.0474715 ,\n",
       "        1.8404907 , 2.6261342 , 1.1304994 , 1.8776394 , 0.85143405],\n",
       "       [0.6337883 , 3.3086834 , 1.4530784 , 2.515975  , 3.5047786 ,\n",
       "        1.1553439 , 2.8253915 , 3.52668   , 1.043268  , 2.3298826 ],\n",
       "       [1.3287122 , 2.5962925 , 1.9194646 , 1.8967655 , 5.310211  ,\n",
       "        2.868525  , 3.0769377 , 1.7588413 , 0.40501967, 2.9207122 ],\n",
       "       [0.8400132 , 2.0994346 , 2.1460192 , 1.5991999 , 2.2363923 ,\n",
       "        1.5488654 , 3.2248628 , 1.790886  , 0.7113455 , 2.6308084 ],\n",
       "       [0.95923513, 2.4799027 , 2.5939333 , 3.6836724 , 2.6314456 ,\n",
       "        2.4646401 , 3.5725472 , 3.2010999 , 1.1519556 , 1.662165  ],\n",
       "       [0.8192116 , 1.8272312 , 1.7956812 , 1.8296846 , 2.9964643 ,\n",
       "        2.2758195 , 2.3479476 , 2.8243024 , 1.1362125 , 2.8853436 ],\n",
       "       [3.6204023 , 1.9968115 , 1.7490085 , 2.9469259 , 3.12177   ,\n",
       "        2.235736  , 5.2850986 , 1.5726625 , 1.4582067 , 1.2513807 ],\n",
       "       [1.0327702 , 2.8972733 , 2.6707854 , 1.6554503 , 3.8221254 ,\n",
       "        2.0219557 , 2.4419677 , 3.9295774 , 1.2823715 , 1.2512529 ],\n",
       "       [1.928727  , 1.5045325 , 3.3143744 , 3.7100651 , 3.0415392 ,\n",
       "        1.8443445 , 2.0636263 , 2.327687  , 1.2617    , 1.081305  ],\n",
       "       [1.5923332 , 3.816273  , 3.0520546 , 0.9159544 , 4.5526114 ,\n",
       "        1.9873203 , 2.4606779 , 2.2672033 , 0.9068908 , 1.9620786 ],\n",
       "       [1.0044551 , 3.294622  , 1.9445477 , 3.2131855 , 3.7743635 ,\n",
       "        2.9366598 , 3.0328484 , 2.7435503 , 1.2155869 , 0.9583244 ]],\n",
       "      dtype=float32)"
      ]
     },
     "execution_count": 130,
     "metadata": {},
     "output_type": "execute_result"
    }
   ],
   "source": [
    "res_np"
   ]
  },
  {
   "cell_type": "code",
   "execution_count": 131,
   "id": "4e43e4c3",
   "metadata": {},
   "outputs": [
    {
     "data": {
      "text/plain": [
       "array([[2.0588999 , 1.8681664 , 4.811817  , 2.2529387 , 2.1096544 ,\n",
       "        1.3379606 , 2.9000037 , 2.0491414 , 2.5897803 , 1.5031604 ],\n",
       "       [2.732146  , 2.5565495 , 3.714852  , 1.967403  , 2.7812793 ,\n",
       "        3.9070148 , 3.2777538 , 2.2969038 , 1.9229925 , 2.6556396 ],\n",
       "       [1.928745  , 3.1600957 , 2.6502829 , 1.8178726 , 3.2470448 ,\n",
       "        2.285428  , 2.6365926 , 2.5166864 , 1.070901  , 2.0605705 ],\n",
       "       [1.063185  , 4.1737986 , 2.2277255 , 1.2515675 , 4.1827664 ,\n",
       "        1.2915825 , 1.3805095 , 3.4198837 , 1.0256768 , 2.7755067 ],\n",
       "       [1.1833991 , 1.8557596 , 3.0534244 , 1.0722461 , 3.4905617 ,\n",
       "        1.643646  , 3.453313  , 3.808668  , 0.65044206, 2.0563726 ],\n",
       "       [1.0461621 , 3.5566838 , 3.2101297 , 1.572406  , 2.2809083 ,\n",
       "        1.8500901 , 1.3386623 , 4.39698   , 1.5621432 , 1.7725785 ],\n",
       "       [1.5166444 , 2.5048141 , 1.3417709 , 3.5234869 , 2.7652483 ,\n",
       "        1.1395355 , 2.25748   , 4.705172  , 2.2430854 , 1.8194562 ],\n",
       "       [1.6907904 , 2.3283677 , 1.7894993 , 2.1847265 , 2.8551002 ,\n",
       "        0.79378396, 1.7964936 , 3.5471232 , 1.9625643 , 1.3657154 ],\n",
       "       [1.2141374 , 2.9877534 , 3.1018186 , 3.629979  , 3.6487942 ,\n",
       "        1.808532  , 2.6615262 , 3.3801854 , 2.1941547 , 2.0062847 ],\n",
       "       [2.0491679 , 3.8442254 , 5.2590375 , 2.6086452 , 2.5204127 ,\n",
       "        2.845815  , 2.089722  , 2.0366    , 1.8493687 , 2.002032  ],\n",
       "       [1.4538853 , 3.52397   , 3.426971  , 0.94891644, 3.4088016 ,\n",
       "        1.826241  , 2.6029367 , 2.0418024 , 2.1847632 , 0.74823964],\n",
       "       [2.1386282 , 2.708146  , 1.742439  , 2.366699  , 2.55557   ,\n",
       "        1.021245  , 2.8354404 , 3.1261184 , 1.642767  , 1.4917253 ],\n",
       "       [2.2865992 , 3.9609175 , 3.3584628 , 2.9336588 , 2.459155  ,\n",
       "        2.2523775 , 2.647436  , 0.89587307, 2.0110953 , 2.1063092 ],\n",
       "       [1.9966788 , 2.9262302 , 4.8778872 , 1.2208712 , 3.4192896 ,\n",
       "        2.3487628 , 2.9560015 , 1.5107096 , 1.5358572 , 1.5315988 ],\n",
       "       [0.48399195, 2.1673245 , 2.2968588 , 2.7774973 , 2.5966098 ,\n",
       "        3.4832177 , 2.690391  , 4.0917354 , 0.23865944, 2.9819653 ],\n",
       "       [2.0954764 , 2.4307942 , 3.4558418 , 2.9896178 , 1.5231056 ,\n",
       "        3.422842  , 3.3150718 , 3.5051725 , 2.1653447 , 3.1134186 ],\n",
       "       [1.5846765 , 2.661023  , 2.4769669 , 3.470964  , 1.4431835 ,\n",
       "        2.3999262 , 3.9011345 , 3.248538  , 1.4247626 , 1.2602935 ],\n",
       "       [0.49207467, 2.325397  , 2.2815886 , 2.2696066 , 3.3333156 ,\n",
       "        2.4349878 , 2.0514407 , 3.2246497 , 1.6171042 , 1.6073767 ],\n",
       "       [2.5375338 , 2.4817715 , 2.6368468 , 2.0569093 , 4.3929462 ,\n",
       "        1.4862403 , 3.4939742 , 2.2332757 , 1.7737362 , 1.7618244 ],\n",
       "       [2.0678236 , 1.8836694 , 1.3364539 , 1.7425246 , 2.3898618 ,\n",
       "        1.1566195 , 2.628559  , 3.6502156 , 2.121294  , 1.3199686 ],\n",
       "       [1.8444016 , 2.2461612 , 3.215194  , 3.8432117 , 2.2398164 ,\n",
       "        1.8269355 , 4.414732  , 3.723146  , 0.50411344, 2.1435022 ],\n",
       "       [2.6537714 , 1.1732535 , 3.0079815 , 2.5904036 , 3.0474715 ,\n",
       "        1.8404907 , 2.6261342 , 1.1304994 , 1.8776394 , 0.85143405],\n",
       "       [0.6337883 , 3.3086834 , 1.4530784 , 2.515975  , 3.5047786 ,\n",
       "        1.1553439 , 2.8253915 , 3.52668   , 1.043268  , 2.3298826 ],\n",
       "       [1.3287122 , 2.5962925 , 1.9194646 , 1.8967655 , 5.310211  ,\n",
       "        2.868525  , 3.0769377 , 1.7588413 , 0.40501967, 2.9207122 ],\n",
       "       [0.84001315, 2.0994346 , 2.1460192 , 1.5992    , 2.236392  ,\n",
       "        1.5488653 , 3.224863  , 1.7908863 , 0.7113455 , 2.6308084 ],\n",
       "       [0.9592351 , 2.4799027 , 2.593933  , 3.6836722 , 2.6314456 ,\n",
       "        2.4646401 , 3.572547  , 3.2011003 , 1.1519556 , 1.662165  ],\n",
       "       [0.8192115 , 1.8272312 , 1.7956815 , 1.8296847 , 2.9964643 ,\n",
       "        2.2758198 , 2.3479474 , 2.8243022 , 1.1362125 , 2.8853436 ],\n",
       "       [3.6204023 , 1.9968116 , 1.7490085 , 2.9469256 , 3.12177   ,\n",
       "        2.235736  , 5.2850986 , 1.5726624 , 1.4582067 , 1.2513807 ],\n",
       "       [1.0327702 , 2.8972735 , 2.6707854 , 1.6554506 , 3.8221254 ,\n",
       "        2.0219557 , 2.4419675 , 3.9295774 , 1.2823715 , 1.2512529 ],\n",
       "       [1.9287269 , 1.5045323 , 3.3143744 , 3.7100654 , 3.0415392 ,\n",
       "        1.8443446 , 2.0636263 , 2.3276868 , 1.2617    , 1.081305  ],\n",
       "       [1.5923332 , 3.8162732 , 3.0520544 , 0.9159544 , 4.5526114 ,\n",
       "        1.9873202 , 2.4606779 , 2.2672033 , 0.9068908 , 1.9620786 ],\n",
       "       [1.0044551 , 3.2946215 , 1.9445477 , 3.2131855 , 3.7743635 ,\n",
       "        2.93666   , 3.0328484 , 2.7435503 , 1.2155869 , 0.9583244 ]],\n",
       "      dtype=float32)"
      ]
     },
     "execution_count": 131,
     "metadata": {},
     "output_type": "execute_result"
    }
   ],
   "source": [
    "a.dot(b)"
   ]
  },
  {
   "cell_type": "code",
   "execution_count": 132,
   "id": "fbe02272",
   "metadata": {},
   "outputs": [
    {
     "name": "stderr",
     "output_type": "stream",
     "text": [
      "/tmp/ipykernel_25977/288550039.py:1: DeprecationWarning: elementwise comparison failed; this will raise an error in the future.\n",
      "  res_np==mult\n"
     ]
    },
    {
     "data": {
      "text/plain": [
       "False"
      ]
     },
     "execution_count": 132,
     "metadata": {},
     "output_type": "execute_result"
    }
   ],
   "source": [
    "res_np==mult"
   ]
  },
  {
   "cell_type": "code",
   "execution_count": 133,
   "id": "bb6187da",
   "metadata": {},
   "outputs": [
    {
     "data": {
      "text/plain": [
       "(32, 10)"
      ]
     },
     "execution_count": 133,
     "metadata": {},
     "output_type": "execute_result"
    }
   ],
   "source": [
    "res_np.shape"
   ]
  },
  {
   "cell_type": "code",
   "execution_count": 134,
   "id": "af9e3da1",
   "metadata": {},
   "outputs": [
    {
     "data": {
      "text/plain": [
       "(32, 64)"
      ]
     },
     "execution_count": 134,
     "metadata": {},
     "output_type": "execute_result"
    }
   ],
   "source": [
    "mult.shape"
   ]
  },
  {
   "cell_type": "markdown",
   "id": "726b7e0f",
   "metadata": {},
   "source": [
    "# Matmult Transposed Dense"
   ]
  },
  {
   "cell_type": "code",
   "execution_count": 135,
   "id": "d62e82bc",
   "metadata": {},
   "outputs": [],
   "source": [
    "mult = a.dot(b)"
   ]
  },
  {
   "cell_type": "code",
   "execution_count": 136,
   "id": "f9d3c30b",
   "metadata": {},
   "outputs": [],
   "source": [
    "c=np.zeros(a.T.shape)\n",
    "at = a.T\n",
    "for row in range(at.shape[0]):\n",
    "    for col in range(at.shape[1]):\n",
    "        c[row][col] = at[row][col]"
   ]
  },
  {
   "cell_type": "code",
   "execution_count": 137,
   "id": "ca096192",
   "metadata": {},
   "outputs": [],
   "source": [
    "a_buf = cl.Buffer(ctx, mf.READ_WRITE | mf.COPY_HOST_PTR, hostbuf=c.astype(np.float32))\n",
    "b_buf = cl.Buffer(ctx, mf.READ_WRITE | mf.COPY_HOST_PTR, hostbuf=b)\n",
    "\n",
    "prg = cl.Program(ctx, \"\"\"\n",
    "    // multilplies x TRANSPOSED by y (dense-dense)\n",
    "    __kernel void matmul0(__global  float* x,     // INPUT MATRIX DATA\n",
    "                          __global  float* y,    // INPUT\n",
    "                          __global  float* res,    // INPUT\n",
    "                          uint msize,\n",
    "                          uint isize\n",
    "                          ) { // LOCAL SHARED BUFFER\n",
    "      uint osize = get_global_size(0);\n",
    "      int gidy = get_global_id(0); // row\n",
    "      \n",
    "      for (uint gidx = 0; gidx < isize; gidx++) {\n",
    "        float ret = 0.0;\n",
    "        for (uint i = 0; i < msize; i++) {\n",
    "          uint xidx = i*isize+gidx;\n",
    "          float xval = x[xidx];\n",
    "          uint yidx = osize*i+gidy;\n",
    "          float yval = y[yidx];\n",
    "          ret += xval*yval;\n",
    "          if (gidx==0 && gidy==0)\n",
    "            printf(\"\\\\nmult: %.2f x %.2f - %.2f  -- %i/%i\", xval, yval, ret, xidx, yidx);\n",
    "        }\n",
    "        //if (gidx==0&&gidy==0)\n",
    "        //  printf(\"\\\\nsum:%.2f\", ret);\n",
    "        res[gidx * osize + gidy] = ret;\n",
    "      }\n",
    "    }\"\"\").build()"
   ]
  },
  {
   "cell_type": "code",
   "execution_count": 138,
   "id": "6bcc4256",
   "metadata": {},
   "outputs": [
    {
     "data": {
      "text/plain": [
       "((32, 64), (64, 10))"
      ]
     },
     "execution_count": 138,
     "metadata": {},
     "output_type": "execute_result"
    }
   ],
   "source": [
    "a.shape, b.shape"
   ]
  },
  {
   "cell_type": "code",
   "execution_count": 139,
   "id": "81be729b",
   "metadata": {},
   "outputs": [],
   "source": [
    "rows = a.shape[0]"
   ]
  },
  {
   "cell_type": "code",
   "execution_count": 140,
   "id": "e17d0d40",
   "metadata": {},
   "outputs": [
    {
     "data": {
      "text/plain": [
       "(32, 10)"
      ]
     },
     "execution_count": 140,
     "metadata": {},
     "output_type": "execute_result"
    }
   ],
   "source": [
    "mult = mult.astype(np.float32)\n",
    "mult.shape"
   ]
  },
  {
   "cell_type": "code",
   "execution_count": 141,
   "id": "5d469907",
   "metadata": {},
   "outputs": [
    {
     "data": {
      "text/plain": [
       "<pyopencl._cl.NannyEvent at 0x7ff1542894f0>"
      ]
     },
     "execution_count": 141,
     "metadata": {},
     "output_type": "execute_result"
    },
    {
     "name": "stdout",
     "output_type": "stream",
     "text": [
      "\n",
      "mult: 0.82 x 0.94 - 0.77  -- 0/0\n",
      "mult: 0.00 x 0.00 - 0.77  -- 32/10\n",
      "mult: 0.00 x 0.00 - 0.77  -- 64/20\n",
      "mult: 0.48 x 0.00 - 0.77  -- 96/30\n",
      "mult: 0.91 x 0.00 - 0.77  -- 128/40\n",
      "mult: 0.00 x 0.00 - 0.77  -- 160/50\n",
      "mult: 0.00 x 0.00 - 0.77  -- 192/60\n",
      "mult: 0.88 x 0.31 - 1.05  -- 224/70\n",
      "mult: 0.00 x 0.11 - 1.05  -- 256/80\n",
      "mult: 0.00 x 0.07 - 1.05  -- 288/90\n",
      "mult: 0.00 x 0.00 - 1.05  -- 320/100\n",
      "mult: 0.87 x 0.16 - 1.19  -- 352/110\n",
      "mult: 0.00 x 0.00 - 1.19  -- 384/120\n",
      "mult: 0.00 x 0.64 - 1.19  -- 416/130\n",
      "mult: 0.26 x 0.50 - 1.32  -- 448/140\n",
      "mult: 0.36 x 0.00 - 1.32  -- 480/150\n",
      "mult: 0.00 x 0.00 - 1.32  -- 512/160\n",
      "mult: 0.41 x 0.00 - 1.32  -- 544/170\n",
      "mult: 0.00 x 0.00 - 1.32  -- 576/180\n",
      "mult: 0.00 x 0.00 - 1.32  -- 608/190\n",
      "mult: 0.62 x 0.18 - 1.43  -- 640/200\n",
      "mult: 0.47 x 0.00 - 1.43  -- 672/210\n",
      "mult: 0.00 x 0.00 - 1.43  -- 704/220\n",
      "mult: 0.00 x 0.00 - 1.43  -- 736/230\n",
      "mult: 0.00 x 0.00 - 1.43  -- 768/240\n",
      "mult: 0.00 x 0.00 - 1.43  -- 800/250\n",
      "mult: 0.00 x 0.00 - 1.43  -- 832/260\n",
      "mult: 0.00 x 0.00 - 1.43  -- 864/270\n",
      "mult: 0.22 x 0.43 - 1.53  -- 896/280\n",
      "mult: 0.59 x 0.12 - 1.60  -- 928/290\n",
      "mult: 0.00 x 0.00 - 1.60  -- 960/300\n",
      "mult: 0.44 x 0.00 - 1.60  -- 992/310\n",
      "mult: 0.47 x 0.00 - 1.60  -- 1024/320\n",
      "mult: 0.69 x 0.61 - 2.02  -- 1056/330\n",
      "mult: 0.00 x 0.41 - 2.02  -- 1088/340\n",
      "mult: 0.00 x 0.83 - 2.02  -- 1120/350\n",
      "mult: 0.38 x 0.05 - 2.04  -- 1152/360\n",
      "mult: 0.81 x 0.00 - 2.04  -- 1184/370\n",
      "mult: 0.98 x 0.00 - 2.04  -- 1216/380\n",
      "mult: 0.45 x 0.05 - 2.06  -- 1248/390\n",
      "mult: 0.00 x 0.00 - 2.06  -- 1280/400\n",
      "mult: 0.00 x 0.00 - 2.06  -- 1312/410\n",
      "mult: 0.29 x 0.00 - 2.06  -- 1344/420\n",
      "mult: 0.00 x 0.00 - 2.06  -- 1376/430\n",
      "mult: 0.04 x 0.00 - 2.06  -- 1408/440\n",
      "mult: 0.00 x 0.63 - 2.06  -- 1440/450\n",
      "mult: 0.28 x 0.00 - 2.06  -- 1472/460\n",
      "mult: 0.00 x 0.00 - 2.06  -- 1504/470\n",
      "mult: 0.00 x 0.69 - 2.06  -- 1536/480\n",
      "mult: 0.00 x 0.99 - 2.06  -- 1568/490\n",
      "mult: 0.42 x 0.00 - 2.06  -- 1600/500\n",
      "mult: 0.00 x 0.00 - 2.06  -- 1632/510\n",
      "mult: 0.00 x 0.00 - 2.06  -- 1664/520\n",
      "mult: 0.00 x 0.00 - 2.06  -- 1696/530\n",
      "mult: 0.39 x 0.00 - 2.06  -- 1728/540\n",
      "mult: 0.00 x 0.00 - 2.06  -- 1760/550\n",
      "mult: 0.00 x 0.00 - 2.06  -- 1792/560\n",
      "mult: 0.00 x 0.27 - 2.06  -- 1824/570\n",
      "mult: 0.00 x 0.00 - 2.06  -- 1856/580\n",
      "mult: 0.00 x 0.23 - 2.06  -- 1888/590\n",
      "mult: 0.00 x 0.10 - 2.06  -- 1920/600\n",
      "mult: 0.23 x 0.00 - 2.06  -- 1952/610\n",
      "mult: 0.00 x 0.00 - 2.06  -- 1984/620\n",
      "mult: 0.00 x 0.00 - 2.06  -- 2016/630"
     ]
    }
   ],
   "source": [
    "res_buf = cl.Buffer(ctx, mf.READ_WRITE, np.prod([rows,b.shape[1]])*4)\n",
    "knl = prg.matmul0  # Use this Kernel object for repeated calls\n",
    "knl(queue, [b.shape[1]], None, a_buf, b_buf, res_buf, np.uint32(a.shape[1]), np.uint32(rows))\n",
    "\n",
    "res_np = np.zeros([rows,b.shape[1]]).astype(np.float32)\n",
    "cl.enqueue_copy(queue, res_np, res_buf)"
   ]
  },
  {
   "cell_type": "code",
   "execution_count": 142,
   "id": "c7ca806a",
   "metadata": {},
   "outputs": [
    {
     "data": {
      "text/plain": [
       "5.9604645e-07"
      ]
     },
     "execution_count": 142,
     "metadata": {},
     "output_type": "execute_result"
    }
   ],
   "source": [
    "(res_np-mult).sum()"
   ]
  },
  {
   "cell_type": "code",
   "execution_count": 143,
   "id": "067cf8fc",
   "metadata": {},
   "outputs": [
    {
     "data": {
      "text/plain": [
       "array([[0.82272685, 0.        , 0.        , ..., 0.22595333, 0.        ,\n",
       "        0.        ],\n",
       "       [0.57626116, 0.2289813 , 0.16428949, ..., 0.27008578, 0.        ,\n",
       "        0.9652075 ],\n",
       "       [0.        , 0.48130327, 0.        , ..., 0.        , 0.12290299,\n",
       "        0.        ],\n",
       "       ...,\n",
       "       [0.8716895 , 0.10489579, 0.        , ..., 0.        , 0.39542586,\n",
       "        0.        ],\n",
       "       [0.        , 0.        , 0.        , ..., 0.5132175 , 0.9358725 ,\n",
       "        0.37984058],\n",
       "       [0.        , 0.6832084 , 0.9385753 , ..., 0.02876937, 0.        ,\n",
       "        0.        ]], dtype=float32)"
      ]
     },
     "execution_count": 143,
     "metadata": {},
     "output_type": "execute_result"
    }
   ],
   "source": [
    "a"
   ]
  },
  {
   "cell_type": "code",
   "execution_count": 144,
   "id": "0fd446e8",
   "metadata": {},
   "outputs": [
    {
     "data": {
      "text/plain": [
       "array([[0.9414536 , 0.        , 0.        , 0.90892494, 0.        ,\n",
       "        0.        , 0.05297933, 0.        , 0.7021168 , 0.        ],\n",
       "       [0.        , 0.        , 0.14630048, 0.24825948, 0.        ,\n",
       "        0.        , 0.        , 0.7792777 , 0.31232256, 0.        ],\n",
       "       [0.        , 0.03283854, 0.27791733, 0.8543185 , 0.        ,\n",
       "        0.        , 0.8433972 , 0.        , 0.        , 0.        ],\n",
       "       [0.        , 0.        , 0.33419287, 0.19840643, 0.        ,\n",
       "        0.3856511 , 0.23348303, 0.        , 0.        , 0.        ],\n",
       "       [0.        , 0.01996238, 0.9816661 , 0.        , 0.        ,\n",
       "        0.        , 0.        , 0.5056456 , 0.        , 0.01917347],\n",
       "       [0.        , 0.        , 0.        , 0.        , 0.49159616,\n",
       "        0.0810385 , 0.64290637, 0.16045028, 0.        , 0.        ],\n",
       "       [0.        , 0.2878976 , 0.        , 0.        , 0.7058473 ,\n",
       "        0.        , 0.41645932, 0.44598925, 0.        , 0.        ],\n",
       "       [0.31479523, 0.40940058, 0.        , 0.        , 0.        ,\n",
       "        0.        , 0.49991104, 0.        , 0.79827386, 0.        ],\n",
       "       [0.11005293, 0.5290864 , 0.        , 0.31983745, 0.        ,\n",
       "        0.        , 0.        , 0.57631195, 0.        , 0.        ],\n",
       "       [0.06780045, 0.03890254, 0.        , 0.        , 0.98146695,\n",
       "        0.8737231 , 0.        , 0.        , 0.        , 0.        ],\n",
       "       [0.        , 0.7218774 , 0.40662676, 0.18507701, 0.        ,\n",
       "        0.        , 0.        , 0.        , 0.05563454, 0.        ],\n",
       "       [0.16214237, 0.        , 0.5265734 , 0.23904228, 0.        ,\n",
       "        0.        , 0.        , 0.        , 0.11824279, 0.        ],\n",
       "       [0.        , 0.6727114 , 0.01572542, 0.        , 0.44648495,\n",
       "        0.22174914, 0.        , 0.        , 0.        , 0.        ],\n",
       "       [0.6445239 , 0.8689898 , 0.78785294, 0.        , 0.        ,\n",
       "        0.        , 0.        , 0.        , 0.6352877 , 0.        ],\n",
       "       [0.50232446, 0.        , 0.        , 0.        , 0.        ,\n",
       "        0.47040063, 0.        , 0.        , 0.46875456, 0.5505951 ],\n",
       "       [0.        , 0.3043906 , 0.        , 0.        , 0.2855941 ,\n",
       "        0.        , 0.45246527, 0.03966095, 0.        , 0.        ],\n",
       "       [0.        , 0.6158326 , 0.        , 0.        , 0.        ,\n",
       "        0.55754304, 0.        , 0.8633621 , 0.        , 0.01719917],\n",
       "       [0.        , 0.        , 0.        , 0.        , 0.75643075,\n",
       "        0.        , 0.        , 0.42180747, 0.95542496, 0.1022128 ],\n",
       "       [0.        , 0.17614561, 0.4101668 , 0.        , 0.        ,\n",
       "        0.        , 0.20147614, 0.10142381, 0.        , 0.        ],\n",
       "       [0.        , 0.        , 0.        , 0.9880747 , 0.        ,\n",
       "        0.7065452 , 0.602556  , 0.48707104, 0.        , 0.        ],\n",
       "       [0.17604527, 0.        , 0.        , 0.        , 0.        ,\n",
       "        0.        , 0.        , 0.84334254, 0.8945855 , 0.72915745],\n",
       "       [0.        , 0.        , 0.        , 0.        , 0.23293144,\n",
       "        0.2350415 , 0.78704804, 0.        , 0.        , 0.20438819],\n",
       "       [0.        , 0.        , 0.        , 0.10942628, 0.00130877,\n",
       "        0.        , 0.        , 0.4094274 , 0.01082143, 0.        ],\n",
       "       [0.        , 0.        , 0.        , 0.21641734, 0.        ,\n",
       "        0.31724194, 0.35538766, 0.        , 0.        , 0.46936178],\n",
       "       [0.        , 0.        , 0.        , 0.        , 0.91353625,\n",
       "        0.        , 0.7040352 , 0.52147955, 0.49268502, 0.        ],\n",
       "       [0.        , 0.5996785 , 0.        , 0.5246723 , 0.        ,\n",
       "        0.        , 0.        , 0.9170164 , 0.47608244, 0.        ],\n",
       "       [0.        , 0.41769058, 0.        , 0.        , 0.92990875,\n",
       "        0.        , 0.22981252, 0.        , 0.        , 0.23540662],\n",
       "       [0.        , 0.22088505, 0.        , 0.        , 0.        ,\n",
       "        0.8154559 , 0.        , 0.23452929, 0.        , 0.88327533],\n",
       "       [0.42811713, 0.        , 0.94115525, 0.        , 0.34584206,\n",
       "        0.        , 0.        , 0.        , 0.1731275 , 0.        ],\n",
       "       [0.11871076, 0.64951146, 0.19040094, 0.        , 0.        ,\n",
       "        0.        , 0.        , 0.        , 0.        , 0.26224414],\n",
       "       [0.        , 0.        , 0.19905205, 0.        , 0.66453385,\n",
       "        0.9441609 , 0.17658035, 0.        , 0.        , 0.        ],\n",
       "       [0.        , 0.8829375 , 0.89167756, 0.        , 0.        ,\n",
       "        0.34762165, 0.        , 0.        , 0.02995267, 0.        ],\n",
       "       [0.        , 0.5526871 , 0.        , 0.70496935, 0.        ,\n",
       "        0.        , 0.6193049 , 0.        , 0.04075215, 0.        ],\n",
       "       [0.6127449 , 0.        , 0.01054911, 0.        , 0.72773826,\n",
       "        0.4128602 , 0.        , 0.        , 0.        , 0.        ],\n",
       "       [0.41137826, 0.45999953, 0.71848863, 0.        , 0.        ,\n",
       "        0.29980114, 0.        , 0.        , 0.        , 0.        ],\n",
       "       [0.82947165, 0.20491129, 0.        , 0.        , 0.47647813,\n",
       "        0.        , 0.39832172, 0.        , 0.        , 0.        ],\n",
       "       [0.04573116, 0.        , 0.67741925, 0.        , 0.        ,\n",
       "        0.        , 0.46088123, 0.        , 0.        , 0.39439395],\n",
       "       [0.        , 0.03375057, 0.934714  , 0.        , 0.5239845 ,\n",
       "        0.        , 0.9214213 , 0.        , 0.        , 0.        ],\n",
       "       [0.        , 0.        , 0.9567172 , 0.31415144, 0.        ,\n",
       "        0.40333778, 0.1583537 , 0.        , 0.        , 0.        ],\n",
       "       [0.04850706, 0.        , 0.8573981 , 0.        , 0.        ,\n",
       "        0.        , 0.23557614, 0.44495046, 0.        , 0.        ],\n",
       "       [0.        , 0.        , 0.        , 0.7757434 , 0.29974842,\n",
       "        0.47304207, 0.        , 0.        , 0.        , 0.97353226],\n",
       "       [0.        , 0.        , 0.04344931, 0.08597016, 0.        ,\n",
       "        0.        , 0.660472  , 0.9784147 , 0.        , 0.        ],\n",
       "       [0.        , 0.45209226, 0.7110872 , 0.        , 0.87557894,\n",
       "        0.        , 0.75961554, 0.        , 0.        , 0.        ],\n",
       "       [0.        , 0.09342512, 0.        , 0.        , 0.22442254,\n",
       "        0.01690201, 0.        , 0.        , 0.        , 0.8055896 ],\n",
       "       [0.        , 0.        , 0.09824695, 0.24463587, 0.        ,\n",
       "        0.        , 0.        , 0.32749644, 0.        , 0.45531607],\n",
       "       [0.6346003 , 0.        , 0.        , 0.00316491, 0.5720998 ,\n",
       "        0.        , 0.87135255, 0.        , 0.        , 0.        ],\n",
       "       [0.        , 0.14726698, 0.        , 0.        , 0.        ,\n",
       "        0.2944593 , 0.28086743, 0.        , 0.25112677, 0.        ],\n",
       "       [0.        , 0.        , 0.        , 0.58537555, 0.12253232,\n",
       "        0.8452076 , 0.        , 0.        , 0.        , 0.54433316],\n",
       "       [0.69351566, 0.        , 0.        , 0.50371623, 0.        ,\n",
       "        0.        , 0.9726071 , 0.7246852 , 0.        , 0.        ],\n",
       "       [0.9864582 , 0.        , 0.        , 0.        , 0.        ,\n",
       "        0.1762971 , 0.55006534, 0.        , 0.7705533 , 0.        ],\n",
       "       [0.        , 0.        , 0.09063595, 0.8334261 , 0.        ,\n",
       "        0.        , 0.        , 0.26001835, 0.        , 0.27716133],\n",
       "       [0.        , 0.        , 0.89167565, 0.05737644, 0.        ,\n",
       "        0.1275051 , 0.        , 0.        , 0.        , 0.4685573 ],\n",
       "       [0.        , 0.        , 0.        , 0.39566204, 0.        ,\n",
       "        0.        , 0.62646705, 0.12898347, 0.02942246, 0.        ],\n",
       "       [0.        , 0.84200877, 0.26646206, 0.        , 0.        ,\n",
       "        0.        , 0.23111221, 0.        , 0.        , 0.09374874],\n",
       "       [0.        , 0.        , 0.        , 0.5096388 , 0.694407  ,\n",
       "        0.        , 0.        , 0.9894679 , 0.        , 0.67805064],\n",
       "       [0.        , 0.5960935 , 0.3876133 , 0.68256104, 0.        ,\n",
       "        0.        , 0.        , 0.22186916, 0.        , 0.        ],\n",
       "       [0.        , 0.14635102, 0.        , 0.23753619, 0.        ,\n",
       "        0.        , 0.4664514 , 0.        , 0.        , 0.6143749 ],\n",
       "       [0.2653583 , 0.        , 0.        , 0.25248948, 0.        ,\n",
       "        0.        , 0.06576658, 0.9888273 , 0.        , 0.        ],\n",
       "       [0.        , 0.        , 0.        , 0.4100118 , 0.5066825 ,\n",
       "        0.9791499 , 0.        , 0.9839119 , 0.        , 0.        ],\n",
       "       [0.2264393 , 0.95835906, 0.        , 0.8496141 , 0.        ,\n",
       "        0.        , 0.        , 0.6683453 , 0.        , 0.        ],\n",
       "       [0.10093832, 0.        , 0.        , 0.        , 0.6630357 ,\n",
       "        0.19981535, 0.        , 0.        , 0.        , 0.60982734],\n",
       "       [0.        , 0.65042835, 0.        , 0.        , 0.29258844,\n",
       "        0.        , 0.        , 0.7358039 , 0.        , 0.17556284],\n",
       "       [0.        , 0.        , 0.17079917, 0.13851656, 0.9781894 ,\n",
       "        0.0680179 , 0.        , 0.        , 0.        , 0.        ],\n",
       "       [0.        , 0.        , 0.        , 0.        , 0.3358856 ,\n",
       "        0.79898566, 0.48625088, 0.        , 0.        , 0.5448863 ]],\n",
       "      dtype=float32)"
      ]
     },
     "execution_count": 144,
     "metadata": {},
     "output_type": "execute_result"
    }
   ],
   "source": [
    "b"
   ]
  },
  {
   "cell_type": "code",
   "execution_count": 145,
   "id": "334f65af",
   "metadata": {},
   "outputs": [
    {
     "data": {
      "text/plain": [
       "array([[2.0588999 , 1.8681664 , 4.811817  , 2.2529387 , 2.1096544 ,\n",
       "        1.3379606 , 2.9000037 , 2.0491414 , 2.5897803 , 1.5031604 ],\n",
       "       [2.732146  , 2.5565495 , 3.714852  , 1.967403  , 2.7812793 ,\n",
       "        3.9070148 , 3.2777538 , 2.2969038 , 1.9229925 , 2.6556396 ],\n",
       "       [1.928745  , 3.1600957 , 2.6502829 , 1.8178726 , 3.2470448 ,\n",
       "        2.285428  , 2.6365926 , 2.5166864 , 1.070901  , 2.0605705 ],\n",
       "       [1.063185  , 4.1737986 , 2.2277255 , 1.2515675 , 4.1827664 ,\n",
       "        1.2915825 , 1.3805095 , 3.4198837 , 1.0256768 , 2.7755067 ],\n",
       "       [1.1833991 , 1.8557596 , 3.0534244 , 1.0722461 , 3.4905617 ,\n",
       "        1.643646  , 3.453313  , 3.808668  , 0.65044206, 2.0563726 ],\n",
       "       [1.0461621 , 3.5566838 , 3.2101297 , 1.572406  , 2.2809083 ,\n",
       "        1.8500901 , 1.3386623 , 4.39698   , 1.5621432 , 1.7725785 ],\n",
       "       [1.5166444 , 2.5048141 , 1.3417709 , 3.5234869 , 2.7652483 ,\n",
       "        1.1395355 , 2.25748   , 4.705172  , 2.2430854 , 1.8194562 ],\n",
       "       [1.6907904 , 2.3283677 , 1.7894993 , 2.1847265 , 2.8551002 ,\n",
       "        0.79378396, 1.7964936 , 3.5471232 , 1.9625643 , 1.3657154 ],\n",
       "       [1.2141374 , 2.9877534 , 3.1018186 , 3.629979  , 3.6487942 ,\n",
       "        1.808532  , 2.6615262 , 3.3801854 , 2.1941547 , 2.0062847 ],\n",
       "       [2.0491679 , 3.8442254 , 5.2590375 , 2.6086452 , 2.5204127 ,\n",
       "        2.845815  , 2.089722  , 2.0366    , 1.8493687 , 2.002032  ],\n",
       "       [1.4538853 , 3.52397   , 3.426971  , 0.94891644, 3.4088016 ,\n",
       "        1.826241  , 2.6029367 , 2.0418024 , 2.1847632 , 0.74823964],\n",
       "       [2.1386282 , 2.708146  , 1.742439  , 2.366699  , 2.55557   ,\n",
       "        1.021245  , 2.8354404 , 3.1261184 , 1.642767  , 1.4917253 ],\n",
       "       [2.2865992 , 3.9609175 , 3.3584628 , 2.9336588 , 2.459155  ,\n",
       "        2.2523775 , 2.647436  , 0.89587307, 2.0110953 , 2.1063092 ],\n",
       "       [1.9966788 , 2.9262302 , 4.8778872 , 1.2208712 , 3.4192896 ,\n",
       "        2.3487628 , 2.9560015 , 1.5107096 , 1.5358572 , 1.5315988 ],\n",
       "       [0.48399195, 2.1673245 , 2.2968588 , 2.7774973 , 2.5966098 ,\n",
       "        3.4832177 , 2.690391  , 4.0917354 , 0.23865944, 2.9819653 ],\n",
       "       [2.0954764 , 2.4307942 , 3.4558418 , 2.9896178 , 1.5231056 ,\n",
       "        3.422842  , 3.3150718 , 3.5051725 , 2.1653447 , 3.1134186 ],\n",
       "       [1.5846765 , 2.661023  , 2.4769669 , 3.470964  , 1.4431835 ,\n",
       "        2.3999262 , 3.9011345 , 3.248538  , 1.4247626 , 1.2602935 ],\n",
       "       [0.49207467, 2.325397  , 2.2815886 , 2.2696066 , 3.3333156 ,\n",
       "        2.4349878 , 2.0514407 , 3.2246497 , 1.6171042 , 1.6073767 ],\n",
       "       [2.5375338 , 2.4817715 , 2.6368468 , 2.0569093 , 4.3929462 ,\n",
       "        1.4862403 , 3.4939742 , 2.2332757 , 1.7737362 , 1.7618244 ],\n",
       "       [2.0678236 , 1.8836694 , 1.3364539 , 1.7425246 , 2.3898618 ,\n",
       "        1.1566195 , 2.628559  , 3.6502156 , 2.121294  , 1.3199686 ],\n",
       "       [1.8444016 , 2.2461612 , 3.215194  , 3.8432117 , 2.2398164 ,\n",
       "        1.8269355 , 4.414732  , 3.723146  , 0.50411344, 2.1435022 ],\n",
       "       [2.6537714 , 1.1732535 , 3.0079815 , 2.5904036 , 3.0474715 ,\n",
       "        1.8404907 , 2.6261342 , 1.1304994 , 1.8776394 , 0.85143405],\n",
       "       [0.6337883 , 3.3086834 , 1.4530784 , 2.515975  , 3.5047786 ,\n",
       "        1.1553439 , 2.8253915 , 3.52668   , 1.043268  , 2.3298826 ],\n",
       "       [1.3287122 , 2.5962925 , 1.9194646 , 1.8967655 , 5.310211  ,\n",
       "        2.868525  , 3.0769377 , 1.7588413 , 0.40501967, 2.9207122 ],\n",
       "       [0.8400132 , 2.0994346 , 2.1460192 , 1.5991999 , 2.2363923 ,\n",
       "        1.5488654 , 3.2248628 , 1.790886  , 0.7113455 , 2.6308084 ],\n",
       "       [0.95923513, 2.4799027 , 2.5939333 , 3.6836724 , 2.6314456 ,\n",
       "        2.4646401 , 3.5725472 , 3.2010999 , 1.1519556 , 1.662165  ],\n",
       "       [0.8192116 , 1.8272312 , 1.7956812 , 1.8296846 , 2.9964643 ,\n",
       "        2.2758195 , 2.3479476 , 2.8243024 , 1.1362125 , 2.8853436 ],\n",
       "       [3.6204023 , 1.9968115 , 1.7490085 , 2.9469259 , 3.12177   ,\n",
       "        2.235736  , 5.2850986 , 1.5726625 , 1.4582067 , 1.2513807 ],\n",
       "       [1.0327702 , 2.8972733 , 2.6707854 , 1.6554503 , 3.8221254 ,\n",
       "        2.0219557 , 2.4419677 , 3.9295774 , 1.2823715 , 1.2512529 ],\n",
       "       [1.928727  , 1.5045325 , 3.3143744 , 3.7100651 , 3.0415392 ,\n",
       "        1.8443445 , 2.0636263 , 2.327687  , 1.2617    , 1.081305  ],\n",
       "       [1.5923332 , 3.816273  , 3.0520546 , 0.9159544 , 4.5526114 ,\n",
       "        1.9873203 , 2.4606779 , 2.2672033 , 0.9068908 , 1.9620786 ],\n",
       "       [1.0044551 , 3.294622  , 1.9445477 , 3.2131855 , 3.7743635 ,\n",
       "        2.9366598 , 3.0328484 , 2.7435503 , 1.2155869 , 0.9583244 ]],\n",
       "      dtype=float32)"
      ]
     },
     "execution_count": 145,
     "metadata": {},
     "output_type": "execute_result"
    }
   ],
   "source": [
    "res_np"
   ]
  },
  {
   "cell_type": "code",
   "execution_count": 146,
   "id": "c588082c",
   "metadata": {},
   "outputs": [
    {
     "data": {
      "text/plain": [
       "array([[2.0588999 , 1.8681664 , 4.811817  , 2.2529387 , 2.1096544 ,\n",
       "        1.3379606 , 2.9000037 , 2.0491414 , 2.5897803 , 1.5031604 ],\n",
       "       [2.732146  , 2.5565495 , 3.714852  , 1.967403  , 2.7812793 ,\n",
       "        3.9070148 , 3.2777538 , 2.2969038 , 1.9229925 , 2.6556396 ],\n",
       "       [1.928745  , 3.1600957 , 2.6502829 , 1.8178726 , 3.2470448 ,\n",
       "        2.285428  , 2.6365926 , 2.5166864 , 1.070901  , 2.0605705 ],\n",
       "       [1.063185  , 4.1737986 , 2.2277255 , 1.2515675 , 4.1827664 ,\n",
       "        1.2915825 , 1.3805095 , 3.4198837 , 1.0256768 , 2.7755067 ],\n",
       "       [1.1833991 , 1.8557596 , 3.0534244 , 1.0722461 , 3.4905617 ,\n",
       "        1.643646  , 3.453313  , 3.808668  , 0.65044206, 2.0563726 ],\n",
       "       [1.0461621 , 3.5566838 , 3.2101297 , 1.572406  , 2.2809083 ,\n",
       "        1.8500901 , 1.3386623 , 4.39698   , 1.5621432 , 1.7725785 ],\n",
       "       [1.5166444 , 2.5048141 , 1.3417709 , 3.5234869 , 2.7652483 ,\n",
       "        1.1395355 , 2.25748   , 4.705172  , 2.2430854 , 1.8194562 ],\n",
       "       [1.6907904 , 2.3283677 , 1.7894993 , 2.1847265 , 2.8551002 ,\n",
       "        0.79378396, 1.7964936 , 3.5471232 , 1.9625643 , 1.3657154 ],\n",
       "       [1.2141374 , 2.9877534 , 3.1018186 , 3.629979  , 3.6487942 ,\n",
       "        1.808532  , 2.6615262 , 3.3801854 , 2.1941547 , 2.0062847 ],\n",
       "       [2.0491679 , 3.8442254 , 5.2590375 , 2.6086452 , 2.5204127 ,\n",
       "        2.845815  , 2.089722  , 2.0366    , 1.8493687 , 2.002032  ],\n",
       "       [1.4538853 , 3.52397   , 3.426971  , 0.94891644, 3.4088016 ,\n",
       "        1.826241  , 2.6029367 , 2.0418024 , 2.1847632 , 0.74823964],\n",
       "       [2.1386282 , 2.708146  , 1.742439  , 2.366699  , 2.55557   ,\n",
       "        1.021245  , 2.8354404 , 3.1261184 , 1.642767  , 1.4917253 ],\n",
       "       [2.2865992 , 3.9609175 , 3.3584628 , 2.9336588 , 2.459155  ,\n",
       "        2.2523775 , 2.647436  , 0.89587307, 2.0110953 , 2.1063092 ],\n",
       "       [1.9966788 , 2.9262302 , 4.8778872 , 1.2208712 , 3.4192896 ,\n",
       "        2.3487628 , 2.9560015 , 1.5107096 , 1.5358572 , 1.5315988 ],\n",
       "       [0.48399195, 2.1673245 , 2.2968588 , 2.7774973 , 2.5966098 ,\n",
       "        3.4832177 , 2.690391  , 4.0917354 , 0.23865944, 2.9819653 ],\n",
       "       [2.0954764 , 2.4307942 , 3.4558418 , 2.9896178 , 1.5231056 ,\n",
       "        3.422842  , 3.3150718 , 3.5051725 , 2.1653447 , 3.1134186 ],\n",
       "       [1.5846765 , 2.661023  , 2.4769669 , 3.470964  , 1.4431835 ,\n",
       "        2.3999262 , 3.9011345 , 3.248538  , 1.4247626 , 1.2602935 ],\n",
       "       [0.49207467, 2.325397  , 2.2815886 , 2.2696066 , 3.3333156 ,\n",
       "        2.4349878 , 2.0514407 , 3.2246497 , 1.6171042 , 1.6073767 ],\n",
       "       [2.5375338 , 2.4817715 , 2.6368468 , 2.0569093 , 4.3929462 ,\n",
       "        1.4862403 , 3.4939742 , 2.2332757 , 1.7737362 , 1.7618244 ],\n",
       "       [2.0678236 , 1.8836694 , 1.3364539 , 1.7425246 , 2.3898618 ,\n",
       "        1.1566195 , 2.628559  , 3.6502156 , 2.121294  , 1.3199686 ],\n",
       "       [1.8444016 , 2.2461612 , 3.215194  , 3.8432117 , 2.2398164 ,\n",
       "        1.8269355 , 4.414732  , 3.723146  , 0.50411344, 2.1435022 ],\n",
       "       [2.6537714 , 1.1732535 , 3.0079815 , 2.5904036 , 3.0474715 ,\n",
       "        1.8404907 , 2.6261342 , 1.1304994 , 1.8776394 , 0.85143405],\n",
       "       [0.6337883 , 3.3086834 , 1.4530784 , 2.515975  , 3.5047786 ,\n",
       "        1.1553439 , 2.8253915 , 3.52668   , 1.043268  , 2.3298826 ],\n",
       "       [1.3287122 , 2.5962925 , 1.9194646 , 1.8967655 , 5.310211  ,\n",
       "        2.868525  , 3.0769377 , 1.7588413 , 0.40501967, 2.9207122 ],\n",
       "       [0.84001315, 2.0994346 , 2.1460192 , 1.5992    , 2.236392  ,\n",
       "        1.5488653 , 3.224863  , 1.7908863 , 0.7113455 , 2.6308084 ],\n",
       "       [0.9592351 , 2.4799027 , 2.593933  , 3.6836722 , 2.6314456 ,\n",
       "        2.4646401 , 3.572547  , 3.2011003 , 1.1519556 , 1.662165  ],\n",
       "       [0.8192115 , 1.8272312 , 1.7956815 , 1.8296847 , 2.9964643 ,\n",
       "        2.2758198 , 2.3479474 , 2.8243022 , 1.1362125 , 2.8853436 ],\n",
       "       [3.6204023 , 1.9968116 , 1.7490085 , 2.9469256 , 3.12177   ,\n",
       "        2.235736  , 5.2850986 , 1.5726624 , 1.4582067 , 1.2513807 ],\n",
       "       [1.0327702 , 2.8972735 , 2.6707854 , 1.6554506 , 3.8221254 ,\n",
       "        2.0219557 , 2.4419675 , 3.9295774 , 1.2823715 , 1.2512529 ],\n",
       "       [1.9287269 , 1.5045323 , 3.3143744 , 3.7100654 , 3.0415392 ,\n",
       "        1.8443446 , 2.0636263 , 2.3276868 , 1.2617    , 1.081305  ],\n",
       "       [1.5923332 , 3.8162732 , 3.0520544 , 0.9159544 , 4.5526114 ,\n",
       "        1.9873202 , 2.4606779 , 2.2672033 , 0.9068908 , 1.9620786 ],\n",
       "       [1.0044551 , 3.2946215 , 1.9445477 , 3.2131855 , 3.7743635 ,\n",
       "        2.93666   , 3.0328484 , 2.7435503 , 1.2155869 , 0.9583244 ]],\n",
       "      dtype=float32)"
      ]
     },
     "execution_count": 146,
     "metadata": {},
     "output_type": "execute_result"
    }
   ],
   "source": [
    "a.dot(b)"
   ]
  },
  {
   "cell_type": "code",
   "execution_count": 147,
   "id": "e6187e1f",
   "metadata": {},
   "outputs": [
    {
     "data": {
      "text/plain": [
       "array([[ True,  True,  True,  True,  True,  True,  True,  True,  True,\n",
       "         True],\n",
       "       [ True,  True,  True,  True,  True,  True,  True,  True,  True,\n",
       "         True],\n",
       "       [ True,  True,  True,  True,  True,  True,  True,  True,  True,\n",
       "         True],\n",
       "       [ True,  True,  True,  True,  True,  True,  True,  True,  True,\n",
       "         True],\n",
       "       [ True,  True,  True,  True,  True,  True,  True,  True,  True,\n",
       "         True],\n",
       "       [ True,  True,  True,  True,  True,  True,  True,  True,  True,\n",
       "         True],\n",
       "       [ True,  True,  True,  True,  True,  True,  True,  True,  True,\n",
       "         True],\n",
       "       [ True,  True,  True,  True,  True,  True,  True,  True,  True,\n",
       "         True],\n",
       "       [ True,  True,  True,  True,  True,  True,  True,  True,  True,\n",
       "         True],\n",
       "       [ True,  True,  True,  True,  True,  True,  True,  True,  True,\n",
       "         True],\n",
       "       [ True,  True,  True,  True,  True,  True,  True,  True,  True,\n",
       "         True],\n",
       "       [ True,  True,  True,  True,  True,  True,  True,  True,  True,\n",
       "         True],\n",
       "       [ True,  True,  True,  True,  True,  True,  True,  True,  True,\n",
       "         True],\n",
       "       [ True,  True,  True,  True,  True,  True,  True,  True,  True,\n",
       "         True],\n",
       "       [ True,  True,  True,  True,  True,  True,  True,  True,  True,\n",
       "         True],\n",
       "       [ True,  True,  True,  True,  True,  True,  True,  True,  True,\n",
       "         True],\n",
       "       [ True,  True,  True,  True,  True,  True,  True,  True,  True,\n",
       "         True],\n",
       "       [ True,  True,  True,  True,  True,  True,  True,  True,  True,\n",
       "         True],\n",
       "       [ True,  True,  True,  True,  True,  True,  True,  True,  True,\n",
       "         True],\n",
       "       [ True,  True,  True,  True,  True,  True,  True,  True,  True,\n",
       "         True],\n",
       "       [ True,  True,  True,  True,  True,  True,  True,  True,  True,\n",
       "         True],\n",
       "       [ True,  True,  True,  True,  True,  True,  True,  True,  True,\n",
       "         True],\n",
       "       [ True,  True,  True,  True,  True,  True,  True,  True,  True,\n",
       "         True],\n",
       "       [ True,  True,  True,  True,  True,  True,  True,  True,  True,\n",
       "         True],\n",
       "       [False,  True,  True, False, False, False, False, False,  True,\n",
       "         True],\n",
       "       [False,  True, False, False,  True,  True, False, False,  True,\n",
       "         True],\n",
       "       [False,  True, False, False,  True, False, False, False,  True,\n",
       "         True],\n",
       "       [ True, False,  True, False,  True,  True,  True, False,  True,\n",
       "         True],\n",
       "       [ True, False,  True, False,  True,  True, False,  True,  True,\n",
       "         True],\n",
       "       [False, False,  True, False,  True, False,  True, False,  True,\n",
       "         True],\n",
       "       [ True, False, False,  True,  True, False,  True,  True,  True,\n",
       "         True],\n",
       "       [ True, False,  True,  True,  True, False,  True,  True,  True,\n",
       "         True]])"
      ]
     },
     "execution_count": 147,
     "metadata": {},
     "output_type": "execute_result"
    }
   ],
   "source": [
    "res_np==mult"
   ]
  },
  {
   "cell_type": "code",
   "execution_count": 148,
   "id": "eb36e476",
   "metadata": {},
   "outputs": [
    {
     "data": {
      "text/plain": [
       "(32, 10)"
      ]
     },
     "execution_count": 148,
     "metadata": {},
     "output_type": "execute_result"
    }
   ],
   "source": [
    "res_np.shape"
   ]
  },
  {
   "cell_type": "code",
   "execution_count": 149,
   "id": "7e406268",
   "metadata": {},
   "outputs": [
    {
     "data": {
      "text/plain": [
       "(32, 10)"
      ]
     },
     "execution_count": 149,
     "metadata": {},
     "output_type": "execute_result"
    }
   ],
   "source": [
    "mult.shape"
   ]
  },
  {
   "cell_type": "markdown",
   "id": "aaf87da3",
   "metadata": {},
   "source": [
    "# Matmult Transposed Dense (SPR) - Get Topk - NEW"
   ]
  },
  {
   "cell_type": "code",
   "execution_count": 789,
   "id": "2700c186",
   "metadata": {},
   "outputs": [],
   "source": [
    "topkx = 10\n",
    "topky = 784"
   ]
  },
  {
   "cell_type": "code",
   "execution_count": 790,
   "id": "95531697",
   "metadata": {},
   "outputs": [
    {
     "data": {
      "text/plain": [
       "(784, 10)"
      ]
     },
     "execution_count": 790,
     "metadata": {},
     "output_type": "execute_result"
    }
   ],
   "source": [
    "mult.shape"
   ]
  },
  {
   "cell_type": "code",
   "execution_count": 822,
   "id": "d47fdf32",
   "metadata": {},
   "outputs": [],
   "source": [
    "a_buf = cl.Buffer(ctx, mf.READ_WRITE | mf.COPY_HOST_PTR, hostbuf=c.astype(np.float32))\n",
    "b_buf = cl.Buffer(ctx, mf.READ_WRITE | mf.COPY_HOST_PTR, hostbuf=b)\n",
    "x_sum_buf = cl.Buffer(ctx, mf.WRITE_ONLY, a.shape[0]*4)\n",
    "y_sum_buf = cl.Buffer(ctx, mf.WRITE_ONLY, b.shape[1]*4)\n",
    "xs_idx_buf = cl.Buffer(ctx, mf.WRITE_ONLY, topkx*4)\n",
    "ys_idx_buf = cl.Buffer(ctx, mf.WRITE_ONLY, topky*4)\n",
    "x_idx_buf = cl.Buffer(ctx, mf.WRITE_ONLY, topkx*4)\n",
    "y_idx_buf = cl.Buffer(ctx, mf.WRITE_ONLY, topky*4)\n",
    "\n",
    "prg0 = cl.Program(ctx, \"\"\"\n",
    "    // multilplies x TRANSPOSED by y (dense-dense)\n",
    "    __kernel void gettopkx(__global  float* x,      // INPUT MATRIX DATA\n",
    "                          __global  float* xsum,    // INPUT\n",
    "                          __global  uint*  youtidx, // OUT\n",
    "                          uint topky,\n",
    "                          uint msize\n",
    "                          ) { // LOCAL SHARED BUFFER\n",
    "      uint isize = get_global_size(0);\n",
    "      int gidx = get_global_id(0); // row\n",
    "      \n",
    "      // get topk\n",
    "      xsum[gidx] = 0;\n",
    "      for (uint i=0; i<msize; i++) {\n",
    "        float val = x[i*isize+gidx];\n",
    "        //if (gid == 0) {\n",
    "        //  printf(\"\\\\nADD VALx: %.2f - %i\", val, i*msize+gid);\n",
    "        //}\n",
    "        xsum[gidx] += val;\n",
    "      }\n",
    "      \n",
    "      float valx = xsum[gidx];\n",
    "      uint posx = 0;\n",
    "      for (uint i = 0; i < isize; i++) {\n",
    "        float tempval = fabs(xsum[i]);\n",
    "        bool larger = (tempval > fabs(valx)) || (fabs(tempval) == fabs(valx) && i < gidx);\n",
    "        posx += (larger)?1:0;\n",
    "      }\n",
    "      if (posx < topky) {\n",
    "        youtidx[posx] = gidx;\n",
    "      }\n",
    "    }\"\"\").build()\n",
    "\n",
    "prg = cl.Program(ctx, \"\"\"\n",
    "    // multilplies x TRANSPOSED by y (dense-dense)\n",
    "    __kernel void gettopky(__global  float* y,      // INPUT\n",
    "                          __global  float* ysum,    // INPUT\n",
    "                          __global  uint*  xoutidx, // OUT\n",
    "                          uint topkx,\n",
    "                          uint msize\n",
    "                          ) { // LOCAL SHARED BUFFER\n",
    "      uint osize = get_global_size(0);\n",
    "      int gidy = get_global_id(0); // row\n",
    "      \n",
    "      ysum[gidy] = 0;\n",
    "      for (uint i=0; i<msize; i++) {\n",
    "        float val = y[i*osize+gidy];\n",
    "        ysum[gidy] += val;\n",
    "      }\n",
    "      //barrier(CLK_GLOBAL_MEM_FENCE);\n",
    "      float valy = ysum[gidy];\n",
    "      uint posy = 0;\n",
    "      for (uint i = 0; i < osize; i++) {\n",
    "        float tempval = fabs(ysum[i]);\n",
    "        bool larger = (tempval > fabs(valy)) || (fabs(tempval) == fabs(valy) && i < gidy);\n",
    "        posy += (larger)?1:0;\n",
    "      }\n",
    "      if (posy < topkx) {\n",
    "        xoutidx[posy] = gidy;\n",
    "      }\n",
    "    }\"\"\").build()"
   ]
  },
  {
   "cell_type": "code",
   "execution_count": 823,
   "id": "04a7c5ad",
   "metadata": {},
   "outputs": [],
   "source": [
    "prg2 = cl.Program(ctx, \"\"\"\n",
    "    // multilplies x TRANSPOSED by y (dense-dense)\n",
    "    __kernel void sortuints(__global  uint* x,      // INPUT MATRIX DATA\n",
    "                            __global  uint* xs      // INPUT\n",
    "                            ) { // LOCAL SHARED BUFFER\n",
    "      uint isize = get_global_size(0);\n",
    "      int gidx = get_global_id(0); // row\n",
    "      \n",
    "      uint val = x[gidx];\n",
    "      uint posx = 0;\n",
    "      for (uint i = 0; i < isize; i++) {\n",
    "        uint tempval = x[i];\n",
    "        bool smaller = (tempval < val) || (tempval == val && i < gidx);\n",
    "        posx += (smaller)?1:0;\n",
    "      }\n",
    "      xs[posx] = x[gidx];\n",
    "    }\"\"\").build()"
   ]
  },
  {
   "cell_type": "code",
   "execution_count": 824,
   "id": "2983078a",
   "metadata": {},
   "outputs": [
    {
     "data": {
      "text/plain": [
       "(10, 784)"
      ]
     },
     "execution_count": 824,
     "metadata": {},
     "output_type": "execute_result"
    }
   ],
   "source": [
    "topkx, topky"
   ]
  },
  {
   "cell_type": "code",
   "execution_count": 825,
   "id": "56f85d62",
   "metadata": {},
   "outputs": [
    {
     "data": {
      "text/plain": [
       "(784, 10)"
      ]
     },
     "execution_count": 825,
     "metadata": {},
     "output_type": "execute_result"
    }
   ],
   "source": [
    "rows = a.shape[0]\n",
    "cols = b.shape[1]\n",
    "rows, cols"
   ]
  },
  {
   "cell_type": "code",
   "execution_count": 826,
   "id": "cb757597",
   "metadata": {},
   "outputs": [
    {
     "data": {
      "text/plain": [
       "(784, 10)"
      ]
     },
     "execution_count": 826,
     "metadata": {},
     "output_type": "execute_result"
    }
   ],
   "source": [
    "mult = mult.astype(np.float32)\n",
    "mult.shape"
   ]
  },
  {
   "cell_type": "code",
   "execution_count": 827,
   "id": "c6d723dd",
   "metadata": {},
   "outputs": [],
   "source": [
    "knlx = prg0.gettopkx  # Use this Kernel object for repeated calls\n",
    "knly = prg.gettopky  # Use this Kernel object for repeated calls\n",
    "sort = prg2.sortuints  # Use this Kernel object for repeated calls\n",
    "knlx(queue, [rows], None, a_buf, x_sum_buf, y_idx_buf, np.uint32(topky), np.uint32(a.shape[1]))\n",
    "knly(queue, [cols], None, b_buf, y_sum_buf, x_idx_buf, np.uint32(topkx), np.uint32(a.shape[1]))\n",
    "sort(queue, [topkx], None, x_idx_buf, xs_idx_buf)\n",
    "sort(queue, [topky], None, y_idx_buf, ys_idx_buf)\n",
    "\n",
    "xsum = np.zeros(a.shape[0]).astype(np.float32)\n",
    "ysum = np.zeros(b.shape[1]).astype(np.float32)\n",
    "xidxcols = np.zeros(topkx).astype(np.uint32)\n",
    "yidxcols = np.zeros(topky).astype(np.uint32)"
   ]
  },
  {
   "cell_type": "code",
   "execution_count": 828,
   "id": "36c566e2",
   "metadata": {},
   "outputs": [
    {
     "data": {
      "text/plain": [
       "<pyopencl._cl.NannyEvent at 0x7ff154140860>"
      ]
     },
     "execution_count": 828,
     "metadata": {},
     "output_type": "execute_result"
    }
   ],
   "source": [
    "cl.enqueue_copy(queue, xsum, x_sum_buf)\n",
    "cl.enqueue_copy(queue, ysum, y_sum_buf)\n",
    "cl.enqueue_copy(queue, xidxcols, xs_idx_buf)\n",
    "cl.enqueue_copy(queue, yidxcols, ys_idx_buf)"
   ]
  },
  {
   "cell_type": "code",
   "execution_count": 829,
   "id": "3bc43a7a",
   "metadata": {},
   "outputs": [
    {
     "data": {
      "text/plain": [
       "array([  0,   1,   2,   3,   4,   5,   6,   7,   8,   9,  10,  11,  12,\n",
       "        13,  14,  15,  16,  17,  18,  19,  20,  21,  22,  23,  24,  25,\n",
       "        26,  27,  28,  29,  30,  31,  32,  33,  34,  35,  36,  37,  38,\n",
       "        39,  40,  41,  42,  43,  44,  45,  46,  47,  48,  49,  50,  51,\n",
       "        52,  53,  54,  55,  56,  57,  58,  59,  60,  61,  62,  63,  64,\n",
       "        65,  66,  67,  68,  69,  70,  71,  72,  73,  74,  75,  76,  77,\n",
       "        78,  79,  80,  81,  82,  83,  84,  85,  86,  87,  88,  89,  90,\n",
       "        91,  92,  93,  94,  95,  96,  97,  98,  99, 100, 101, 102, 103,\n",
       "       104, 105, 106, 107, 108, 109, 110, 111, 112, 113, 114, 115, 116,\n",
       "       117, 118, 119, 120, 121, 122, 123, 124, 125, 126, 127, 128, 129,\n",
       "       130, 131, 132, 133, 134, 135, 136, 137, 138, 139, 140, 141, 142,\n",
       "       143, 144, 145, 146, 147, 148, 149, 150, 151, 152, 153, 154, 155,\n",
       "       156, 157, 158, 159, 160, 161, 162, 163, 164, 165, 166, 167, 168,\n",
       "       169, 170, 171, 172, 173, 174, 175, 176, 177, 178, 179, 180, 181,\n",
       "       182, 183, 184, 185, 186, 187, 188, 189, 190, 191, 192, 193, 194,\n",
       "       195, 196, 197, 198, 199, 200, 201, 202, 203, 204, 205, 206, 207,\n",
       "       208, 209, 210, 211, 212, 213, 214, 215, 216, 217, 218, 219, 220,\n",
       "       221, 222, 223, 224, 225, 226, 227, 228, 229, 230, 231, 232, 233,\n",
       "       234, 235, 236, 237, 238, 239, 240, 241, 242, 243, 244, 245, 246,\n",
       "       247, 248, 249, 250, 251, 252, 253, 254, 255, 256, 257, 258, 259,\n",
       "       260, 261, 262, 263, 264, 265, 266, 267, 268, 269, 270, 271, 272,\n",
       "       273, 274, 275, 276, 277, 278, 279, 280, 281, 282, 283, 284, 285,\n",
       "       286, 287, 288, 289, 290, 291, 292, 293, 294, 295, 296, 297, 298,\n",
       "       299, 300, 301, 302, 303, 304, 305, 306, 307, 308, 309, 310, 311,\n",
       "       312, 313, 314, 315, 316, 317, 318, 319, 320, 321, 322, 323, 324,\n",
       "       325, 326, 327, 328, 329, 330, 331, 332, 333, 334, 335, 336, 337,\n",
       "       338, 339, 340, 341, 342, 343, 344, 345, 346, 347, 348, 349, 350,\n",
       "       351, 352, 353, 354, 355, 356, 357, 358, 359, 360, 361, 362, 363,\n",
       "       364, 365, 366, 367, 368, 369, 370, 371, 372, 373, 374, 375, 376,\n",
       "       377, 378, 379, 380, 381, 382, 383, 384, 385, 386, 387, 388, 389,\n",
       "       390, 391, 392, 393, 394, 395, 396, 397, 398, 399, 400, 401, 402,\n",
       "       403, 404, 405, 406, 407, 408, 409, 410, 411, 412, 413, 414, 415,\n",
       "       416, 417, 418, 419, 420, 421, 422, 423, 424, 425, 426, 427, 428,\n",
       "       429, 430, 431, 432, 433, 434, 435, 436, 437, 438, 439, 440, 441,\n",
       "       442, 443, 444, 445, 446, 447, 448, 449, 450, 451, 452, 453, 454,\n",
       "       455, 456, 457, 458, 459, 460, 461, 462, 463, 464, 465, 466, 467,\n",
       "       468, 469, 470, 471, 472, 473, 474, 475, 476, 477, 478, 479, 480,\n",
       "       481, 482, 483, 484, 485, 486, 487, 488, 489, 490, 491, 492, 493,\n",
       "       494, 495, 496, 497, 498, 499, 500, 501, 502, 503, 504, 505, 506,\n",
       "       507, 508, 509, 510, 511, 512, 513, 514, 515, 516, 517, 518, 519,\n",
       "       520, 521, 522, 523, 524, 525, 526, 527, 528, 529, 530, 531, 532,\n",
       "       533, 534, 535, 536, 537, 538, 539, 540, 541, 542, 543, 544, 545,\n",
       "       546, 547, 548, 549, 550, 551, 552, 553, 554, 555, 556, 557, 558,\n",
       "       559, 560, 561, 562, 563, 564, 565, 566, 567, 568, 569, 570, 571,\n",
       "       572, 573, 574, 575, 576, 577, 578, 579, 580, 581, 582, 583, 584,\n",
       "       585, 586, 587, 588, 589, 590, 591, 592, 593, 594, 595, 596, 597,\n",
       "       598, 599, 600, 601, 602, 603, 604, 605, 606, 607, 608, 609, 610,\n",
       "       611, 612, 613, 614, 615, 616, 617, 618, 619, 620, 621, 622, 623,\n",
       "       624, 625, 626, 627, 628, 629, 630, 631, 632, 633, 634, 635, 636,\n",
       "       637, 638, 639, 640, 641, 642, 643, 644, 645, 646, 647, 648, 649,\n",
       "       650, 651, 652, 653, 654, 655, 656, 657, 658, 659, 660, 661, 662,\n",
       "       663, 664, 665, 666, 667, 668, 669, 670, 671, 672, 673, 674, 675,\n",
       "       676, 677, 678, 679, 680, 681, 682, 683, 684, 685, 686, 687, 688,\n",
       "       689, 690, 691, 692, 693, 694, 695, 696, 697, 698, 699, 700, 701,\n",
       "       702, 703, 704, 705, 706, 707, 708, 709, 710, 711, 712, 713, 714,\n",
       "       715, 716, 717, 718, 719, 720, 721, 722, 723, 724, 725, 726, 727,\n",
       "       728, 729, 730, 731, 732, 733, 734, 735, 736, 737, 738, 739, 740,\n",
       "       741, 742, 743, 744, 745, 746, 747, 748, 749, 750, 751, 752, 753,\n",
       "       754, 755, 756, 757, 758, 759, 760, 761, 762, 763, 764, 765, 766,\n",
       "       767, 768, 769, 770, 771, 772, 773, 774, 775, 776, 777, 778, 779,\n",
       "       780, 781, 782, 783], dtype=uint32)"
      ]
     },
     "execution_count": 829,
     "metadata": {},
     "output_type": "execute_result"
    }
   ],
   "source": [
    "yidxcols"
   ]
  },
  {
   "cell_type": "code",
   "execution_count": 830,
   "id": "83ebb775",
   "metadata": {},
   "outputs": [
    {
     "data": {
      "text/plain": [
       "array([0.90138686, 0.92866236, 1.8153857 , 0.49910665, 1.9698949 ,\n",
       "       2.1719928 , 1.364083  , 1.6108192 , 1.4910023 , 1.3507786 ,\n",
       "       1.3591615 , 1.7076448 , 1.7041619 , 1.4870937 , 1.5615715 ,\n",
       "       1.369683  , 2.2404904 , 1.5142088 , 1.2764547 , 1.6087517 ,\n",
       "       0.63693   , 2.4837143 , 1.5524993 , 1.1814958 , 2.0415869 ,\n",
       "       1.7602775 , 1.5345978 , 0.927653  , 1.6702607 , 1.6856377 ,\n",
       "       1.880811  , 1.8519274 , 1.7408102 , 0.6228417 , 2.0433335 ,\n",
       "       1.3911488 , 2.015398  , 2.6073415 , 2.7258937 , 1.7534881 ,\n",
       "       2.402585  , 1.5583308 , 1.8388636 , 1.2620342 , 2.0273886 ,\n",
       "       2.1319015 , 1.9676442 , 0.8557663 , 1.541347  , 1.7683222 ,\n",
       "       1.0179391 , 2.2274227 , 1.0678444 , 1.8316495 , 1.9448184 ,\n",
       "       2.5434635 , 0.7626756 , 0.77479506, 1.7022212 , 1.1181333 ,\n",
       "       1.0256431 , 2.6158853 , 2.0894628 , 1.9667482 , 2.1732457 ,\n",
       "       1.7323526 , 1.9612563 , 1.561662  , 1.4636836 , 1.4231989 ,\n",
       "       1.5639279 , 1.2725452 , 1.4059178 , 1.5115663 , 1.1027983 ,\n",
       "       1.4835553 , 1.552606  , 1.1134006 , 1.8023252 , 0.64993685,\n",
       "       1.4224367 , 1.1322699 , 1.7530386 , 2.3692179 , 0.9349195 ,\n",
       "       0.5782699 , 1.1799984 , 1.5735213 , 1.6723235 , 1.6853579 ,\n",
       "       0.59584486, 2.1303582 , 1.2678342 , 1.778655  , 1.0175846 ,\n",
       "       1.1244729 , 1.318822  , 2.4000363 , 1.2358654 , 2.131883  ,\n",
       "       1.9623232 , 1.0270406 , 1.5987958 , 1.2584603 , 1.7273812 ,\n",
       "       1.794231  , 1.5213242 , 2.1162152 , 1.4059355 , 0.3163907 ,\n",
       "       1.4965281 , 1.4862865 , 1.6352966 , 0.90108204, 1.9846009 ,\n",
       "       1.4466238 , 1.5175736 , 1.9267071 , 1.3700455 , 1.5947369 ,\n",
       "       1.5357476 , 2.3772416 , 1.4487579 , 2.3486497 , 0.87870425,\n",
       "       1.7674155 , 1.5498035 , 1.8314896 , 1.4494414 , 1.1332284 ,\n",
       "       1.9374115 , 1.0093257 , 1.2170726 , 1.265277  , 1.1292384 ,\n",
       "       0.8749303 , 1.3292015 , 2.0713193 , 1.4691148 , 0.9749453 ,\n",
       "       1.6837587 , 1.7778234 , 0.5010572 , 1.2017212 , 1.4442314 ,\n",
       "       1.46573   , 1.9155154 , 1.2284069 , 1.4403663 , 0.80399776,\n",
       "       1.9152712 , 1.9576352 , 1.7731766 , 2.1515408 , 1.1780088 ,\n",
       "       0.82875353, 1.1590009 , 1.6118059 , 1.5537798 , 0.52864945,\n",
       "       0.95892334, 1.6582853 , 2.1083002 , 1.5225493 , 2.1354706 ,\n",
       "       1.1297387 , 0.94339216, 1.4212754 , 0.9783762 , 0.9711561 ,\n",
       "       0.7131379 , 0.80368507, 1.8455247 , 0.89590263, 1.1901952 ,\n",
       "       1.1385071 , 1.3502815 , 1.1468138 , 2.01999   , 0.94584006,\n",
       "       1.7182353 , 1.1819367 , 1.7855462 , 1.8744472 , 2.6493604 ,\n",
       "       2.0834153 , 1.6285584 , 1.6825573 , 0.96999115, 1.0278591 ,\n",
       "       0.76623714, 1.4465882 , 1.3180151 , 1.4962026 , 1.1835358 ,\n",
       "       2.4091842 , 1.5554011 , 0.59260654, 1.0361997 , 1.5975089 ,\n",
       "       1.7335044 , 2.0602472 , 1.4164529 , 2.2698407 , 2.6912394 ,\n",
       "       1.5751629 , 1.250577  , 1.3749294 , 0.896605  , 0.91118526,\n",
       "       1.7289371 , 0.9342667 , 2.302959  , 1.1404982 , 1.4024253 ,\n",
       "       1.3639522 , 1.3997262 , 1.6426016 , 1.1738482 , 1.457634  ,\n",
       "       1.628377  , 1.0701412 , 0.7549968 , 1.974067  , 1.1414204 ,\n",
       "       1.4239101 , 0.8157081 , 1.9851193 , 1.0425434 , 1.9342024 ,\n",
       "       0.81753135, 0.45369312, 0.9654537 , 1.2941083 , 1.2634044 ,\n",
       "       1.9898341 , 1.4806228 , 1.6041067 , 1.2065219 , 1.085293  ,\n",
       "       1.8819801 , 1.4511166 , 2.0774114 , 1.6258688 , 1.8949878 ,\n",
       "       2.0869365 , 2.005872  , 1.7314959 , 0.7743726 , 2.1717937 ,\n",
       "       0.910453  , 0.7651531 , 0.8053565 , 1.3391409 , 0.7975602 ,\n",
       "       1.4007472 , 2.7879508 , 0.73909557, 1.6205151 , 1.0789764 ,\n",
       "       2.0982692 , 0.730457  , 1.6375952 , 1.9379715 , 1.3818139 ,\n",
       "       2.1430254 , 2.5029993 , 1.5559705 , 1.5614991 , 2.4808388 ,\n",
       "       1.1712949 , 1.8223205 , 1.6073481 , 2.0916045 , 1.4299126 ,\n",
       "       1.8229393 , 0.9450413 , 1.929749  , 1.6310472 , 1.7548008 ,\n",
       "       1.594725  , 0.9454469 , 0.91699547, 0.92077744, 1.1257447 ,\n",
       "       1.8291712 , 1.2438174 , 1.4703605 , 0.9217536 , 0.7667838 ,\n",
       "       1.4018372 , 1.1591133 , 0.96618646, 0.9077954 , 1.4758544 ,\n",
       "       1.4252334 , 1.9949706 , 0.98014957, 1.1407061 , 1.3006017 ,\n",
       "       1.6936114 , 0.72653687, 0.7926426 , 1.4283946 , 2.1082475 ,\n",
       "       2.381515  , 1.2531362 , 0.8435526 , 2.7012973 , 0.9956211 ,\n",
       "       1.3301141 , 1.718035  , 0.8842263 , 1.7592245 , 1.4150991 ,\n",
       "       2.1164587 , 1.313491  , 2.0739403 , 1.9655297 , 1.9997015 ,\n",
       "       0.88874227, 1.9854367 , 1.2404456 , 1.6845208 , 2.544867  ,\n",
       "       0.9934169 , 1.3695445 , 0.81409174, 0.7892599 , 0.9969038 ,\n",
       "       0.55698055, 1.4607283 , 0.96498144, 2.526375  , 1.0835688 ,\n",
       "       1.276972  , 2.200362  , 1.3586802 , 1.8032609 , 1.1987786 ,\n",
       "       1.1933533 , 1.0278909 , 2.5847368 , 1.1715118 , 1.2015014 ,\n",
       "       2.2949924 , 2.2418904 , 0.52905136, 1.7660073 , 0.52085733,\n",
       "       2.3713832 , 2.0310245 , 1.4051826 , 1.6051652 , 1.907632  ,\n",
       "       1.766495  , 2.6543903 , 0.74808306, 0.75497097, 2.2145174 ,\n",
       "       1.0635104 , 0.56808615, 2.3727462 , 1.0954185 , 1.1523287 ,\n",
       "       2.3611867 , 1.7147682 , 0.97371626, 1.7439249 , 1.6636052 ,\n",
       "       1.1048073 , 1.2746444 , 1.8914022 , 2.0280805 , 1.3093687 ,\n",
       "       1.796392  , 1.6586432 , 1.3498478 , 2.271838  , 1.3305343 ,\n",
       "       1.4315276 , 1.0382932 , 1.9498613 , 1.372503  , 1.5156373 ,\n",
       "       1.0210775 , 1.264968  , 2.2757957 , 1.4235013 , 1.1172935 ,\n",
       "       1.1033689 , 0.8109633 , 1.9417539 , 1.5668505 , 1.5577984 ,\n",
       "       2.48392   , 1.8823551 , 1.5472661 , 1.9387212 , 1.5078931 ,\n",
       "       1.9257362 , 1.5572704 , 1.3086724 , 2.4429483 , 1.9257168 ,\n",
       "       0.6306125 , 1.6454774 , 1.5058658 , 1.477697  , 0.9583873 ,\n",
       "       1.0460814 , 2.2692575 , 1.9427221 , 1.7942061 , 1.2159553 ,\n",
       "       1.6181446 , 1.1997278 , 2.2634745 , 1.7803528 , 2.0009112 ,\n",
       "       1.7722623 , 0.884659  , 1.4651656 , 1.2436469 , 1.3240527 ,\n",
       "       1.5441284 , 1.4462562 , 1.3693962 , 0.3232035 , 1.0415236 ,\n",
       "       1.2149265 , 1.323587  , 1.2797838 , 2.5358253 , 1.7976052 ,\n",
       "       0.4137842 , 1.5326362 , 1.4539664 , 1.4289602 , 1.3426504 ,\n",
       "       2.6852796 , 1.7085468 , 1.8082314 , 0.7833875 , 1.2207825 ,\n",
       "       1.4244868 , 2.3887744 , 1.0267006 , 1.8351877 , 0.81466246,\n",
       "       1.7433841 , 1.4281815 , 1.757999  , 1.6066196 , 1.9731394 ,\n",
       "       1.0754888 , 1.9548683 , 1.6885395 , 1.2884314 , 2.2029412 ,\n",
       "       2.1590407 , 0.53130597, 1.9696901 , 1.901787  , 1.6244093 ,\n",
       "       1.5433204 , 0.9495685 , 1.7655747 , 1.536913  , 2.1913493 ,\n",
       "       0.8285755 , 1.407323  , 1.7677331 , 1.3873005 , 1.4973899 ,\n",
       "       1.3218137 , 1.8258226 , 1.5911257 , 1.07622   , 1.069572  ,\n",
       "       1.7150726 , 1.6409296 , 2.0172203 , 1.8172607 , 1.8222013 ,\n",
       "       1.0086193 , 2.687927  , 1.743511  , 1.430079  , 2.6174872 ,\n",
       "       1.0731875 , 1.6632804 , 0.5189563 , 1.6916938 , 0.9726627 ,\n",
       "       1.680501  , 1.9382131 , 0.2417995 , 1.2008502 , 1.2372682 ,\n",
       "       1.0908506 , 2.8788676 , 1.9558668 , 2.4208126 , 1.0492332 ,\n",
       "       1.5620058 , 2.3401926 , 2.216503  , 1.5667162 , 2.4510555 ,\n",
       "       1.7225196 , 2.114172  , 1.2580051 , 1.8408066 , 0.94077307,\n",
       "       1.3891118 , 2.2273648 , 1.6685337 , 1.6837827 , 2.377088  ,\n",
       "       2.0755715 , 0.863999  , 1.2625185 , 1.2516148 , 1.1778204 ,\n",
       "       0.9657804 , 2.2655687 , 0.8528204 , 1.6612837 , 1.18093   ,\n",
       "       0.6592981 , 1.4047439 , 0.9128917 , 2.4725158 , 1.3117719 ,\n",
       "       1.8308047 , 1.1043408 , 2.0281353 , 1.6538124 , 1.5530454 ,\n",
       "       1.0659198 , 0.48465127, 2.3396878 , 1.2221603 , 1.9465289 ,\n",
       "       2.4035783 , 0.40514523, 1.5811832 , 2.1710982 , 1.6433979 ,\n",
       "       1.6944342 , 1.3004738 , 1.1415496 , 1.1717063 , 0.6592941 ,\n",
       "       1.1122658 , 0.63681453, 2.0020204 , 0.61087877, 2.3176508 ,\n",
       "       1.2275536 , 1.4362562 , 2.1658304 , 1.4239166 , 2.0150106 ,\n",
       "       1.6153593 , 1.589281  , 0.20020705, 1.8597561 , 1.773167  ,\n",
       "       1.7761736 , 1.323146  , 1.3146195 , 1.1522392 , 1.5524789 ,\n",
       "       2.0028017 , 1.8808722 , 1.232167  , 2.1325054 , 2.1842945 ,\n",
       "       1.9225457 , 0.92892015, 0.7943648 , 1.7635851 , 1.1572309 ,\n",
       "       0.49286374, 2.150781  , 1.1690795 , 1.7762141 , 0.958702  ,\n",
       "       1.7821194 , 1.8986193 , 1.6368146 , 2.159205  , 1.4461079 ,\n",
       "       2.2655725 , 1.708709  , 2.2090628 , 1.1741352 , 1.3958791 ,\n",
       "       1.6762773 , 1.133414  , 1.8370451 , 1.1057329 , 1.5643961 ,\n",
       "       1.4601543 , 0.53962064, 0.8325497 , 1.0910021 , 1.0386057 ,\n",
       "       2.0941188 , 2.0312161 , 1.7084038 , 2.0769343 , 1.2412633 ,\n",
       "       0.72597766, 0.89547753, 1.8197205 , 2.3611407 , 1.7981094 ,\n",
       "       1.6311238 , 2.0780735 , 1.435023  , 0.9241397 , 0.39879084,\n",
       "       1.6604925 , 1.5282242 , 1.904142  , 1.3699588 , 1.9656433 ,\n",
       "       1.7861179 , 1.8009037 , 1.4937928 , 1.4960543 , 0.9378246 ,\n",
       "       1.1481043 , 1.4160633 , 1.2119595 , 0.5974193 , 0.3801913 ,\n",
       "       1.8453897 , 1.179898  , 1.9042369 , 1.6037952 , 1.4414451 ,\n",
       "       1.232248  , 0.9551347 , 0.9489454 , 1.7588918 , 0.7330805 ,\n",
       "       0.8486653 , 1.295911  , 0.7980119 , 1.6399763 , 1.3193994 ,\n",
       "       2.1893249 , 1.4209139 , 1.6845821 , 1.7890917 , 0.92268306,\n",
       "       0.8702414 , 1.7773411 , 1.6847107 , 1.5148144 , 2.0286942 ,\n",
       "       1.6073551 , 0.62129706, 1.0720148 , 1.6310391 , 0.3825581 ,\n",
       "       1.4348925 , 1.6842875 , 1.5959213 , 1.6484886 , 1.316485  ,\n",
       "       1.6463977 , 0.46832782, 1.0173365 , 1.6471529 , 2.5255694 ,\n",
       "       1.4821539 , 0.7781398 , 1.7652892 , 2.034811  , 1.7562056 ,\n",
       "       1.2062626 , 1.5730066 , 0.83302885, 1.724673  , 1.1658627 ,\n",
       "       2.0670378 , 1.1757371 , 1.405299  , 2.218985  , 2.283909  ,\n",
       "       1.1389816 , 1.3457432 , 1.8007119 , 1.1487963 , 1.937793  ,\n",
       "       1.1413774 , 1.0456119 , 2.3398402 , 1.379502  , 1.2849563 ,\n",
       "       1.2674581 , 1.9866662 , 2.1347392 , 1.250623  , 1.5409751 ,\n",
       "       2.0916429 , 0.94759333, 1.4674797 , 0.90824974, 1.9902973 ,\n",
       "       1.1730859 , 1.904371  , 1.5565159 , 2.3941112 , 2.0645728 ,\n",
       "       1.6944613 , 2.3984542 , 1.5579035 , 0.9232982 , 0.51032895,\n",
       "       1.500712  , 2.1455276 , 0.87978137, 0.96238637, 0.73279136,\n",
       "       1.3824735 , 1.8693165 , 1.3864509 , 2.2404969 , 1.4870287 ,\n",
       "       0.911445  , 0.7333044 , 1.7257526 , 1.3893422 , 2.0188007 ,\n",
       "       1.1590052 , 1.7875378 , 1.4895128 , 0.84091103, 0.9320689 ,\n",
       "       0.6109512 , 1.1940042 , 1.7175741 , 1.8885003 , 1.9285038 ,\n",
       "       1.6318514 , 1.059683  , 0.9658685 , 1.760334  , 0.75514376,\n",
       "       1.6158249 , 1.3653015 , 2.2754457 , 1.9944472 , 1.3651097 ,\n",
       "       1.4209628 , 1.6856234 , 1.0393487 , 2.3187323 , 1.2004354 ,\n",
       "       1.3088846 , 2.4884243 , 0.9390849 , 1.63308   , 1.8911269 ,\n",
       "       1.6472399 , 2.3975217 , 1.9054861 , 0.93667984, 1.6062133 ,\n",
       "       1.8339524 , 0.6983494 , 1.10137   , 1.5386548 , 1.7702754 ,\n",
       "       2.1565032 , 1.3340821 , 1.728357  , 1.181795  ], dtype=float32)"
      ]
     },
     "execution_count": 830,
     "metadata": {},
     "output_type": "execute_result"
    }
   ],
   "source": [
    "a.sum(axis=1)"
   ]
  },
  {
   "cell_type": "code",
   "execution_count": 831,
   "id": "5876eb53",
   "metadata": {},
   "outputs": [
    {
     "data": {
      "text/plain": [
       "array([1.7687612 , 3.8299246 , 1.3313504 , 0.        , 0.4014198 ,\n",
       "       1.3125952 , 1.0801463 , 1.5092187 , 0.        , 1.3219044 ,\n",
       "       0.40355822, 1.4326475 , 2.549487  , 0.38626537, 1.6578603 ,\n",
       "       1.138812  , 0.8584388 , 0.13806182, 0.61311436, 0.81969976,\n",
       "       0.        , 2.3148003 , 0.78477144, 0.31231064, 1.1314069 ,\n",
       "       0.8360748 , 0.2960138 , 1.6086118 , 0.        , 2.3569152 ,\n",
       "       0.65107363, 0.6576212 , 1.2227106 , 0.56125623, 0.90429944,\n",
       "       0.21665967, 0.3985087 , 0.        , 2.6146166 , 1.6308575 ,\n",
       "       0.        , 0.9734551 , 0.107081  , 0.0804159 , 0.20392291,\n",
       "       0.69010115, 0.39016965, 1.4641045 , 0.87043756, 0.        ,\n",
       "       1.2277867 , 1.6929588 , 1.7205766 , 2.6219375 , 0.        ,\n",
       "       1.7949355 , 1.0819263 , 0.36141634, 0.6526225 , 1.3092796 ,\n",
       "       0.9797343 , 2.3917086 , 1.6724448 , 0.6832084 , 0.38345355,\n",
       "       1.9219778 , 0.9254752 , 0.6608299 , 1.6344087 , 1.1944346 ,\n",
       "       1.6143335 , 0.76337427, 2.9167967 , 0.4967291 , 0.6812584 ,\n",
       "       1.8470297 , 0.94637007, 3.19696   , 1.4711796 , 1.6107934 ,\n",
       "       1.4574261 , 1.4558764 , 2.181374  , 0.        , 0.16655831,\n",
       "       0.41832525, 0.9196809 , 1.1539433 , 0.41681105, 2.7268274 ,\n",
       "       0.8121924 , 1.1497471 , 0.9712031 , 0.        , 2.0376868 ,\n",
       "       1.7082841 , 1.8216271 , 1.9350166 , 0.        , 1.3749118 ,\n",
       "       0.4751769 , 0.        , 0.        , 1.7838976 , 0.9948045 ,\n",
       "       1.8209434 , 3.7133007 , 0.35657653, 1.0186086 , 0.45021445,\n",
       "       0.81277704, 2.1466005 , 1.7918304 , 1.4427419 , 1.2670871 ,\n",
       "       2.288797  , 1.4774939 , 0.7506318 , 1.2654316 , 0.37329698,\n",
       "       1.793057  , 2.452675  , 1.9445671 , 2.285666  , 1.2475446 ,\n",
       "       0.81167805, 0.15546972, 1.227773  , 2.0714705 , 0.23586425,\n",
       "       1.6838338 , 1.4295944 , 0.55467516, 2.8574543 , 0.97745323,\n",
       "       0.39448056, 0.85399103, 1.9741588 , 1.1045748 , 0.        ,\n",
       "       2.2027726 , 0.67025095, 1.4196365 , 0.24961957, 0.98877347,\n",
       "       2.537178  , 1.0831    , 0.92664826, 1.7165853 , 1.2867281 ,\n",
       "       0.35879406, 0.        , 1.3016336 , 0.89462614, 0.18501875,\n",
       "       0.9385859 , 1.4737409 , 1.7765824 , 0.76670665, 1.0916976 ,\n",
       "       1.1165602 , 0.5605704 , 1.1303201 , 2.0752103 , 0.84162396,\n",
       "       1.1051042 , 1.2717178 , 1.2466294 , 0.84698755, 0.918663  ,\n",
       "       1.4170377 , 0.50090784, 0.        , 0.8772679 , 2.5681534 ,\n",
       "       0.        , 1.5516216 , 2.2542067 , 1.2872288 , 0.80932784,\n",
       "       1.2228061 , 0.        , 2.278854  , 0.84096277, 1.6438258 ,\n",
       "       0.7025212 , 1.4097099 , 0.56008977, 1.1885167 , 0.5790128 ,\n",
       "       0.7109282 , 0.9660772 , 0.04437213, 0.6891782 , 1.502803  ,\n",
       "       0.45696896, 0.718758  , 0.9388833 , 1.0189447 , 0.9575952 ,\n",
       "       1.2860717 , 0.52540976, 0.93013704, 1.7375898 , 0.6575124 ,\n",
       "       2.0520186 , 0.        , 2.4203312 , 2.2045329 , 0.62197053,\n",
       "       2.482308  , 1.4605101 , 1.6528641 , 0.48939657, 2.9495037 ,\n",
       "       1.0585226 , 0.        , 1.2041943 , 1.1512711 , 1.4954882 ,\n",
       "       1.8022546 , 1.3825517 , 0.        , 0.8948303 , 1.6386144 ,\n",
       "       1.3747232 , 0.        , 2.0287764 , 1.5060375 , 0.41257742,\n",
       "       0.7172301 , 0.33995926, 0.82545674, 0.5341726 , 1.1897848 ,\n",
       "       0.90646607, 1.761281  , 0.        , 3.2294278 , 1.187014  ,\n",
       "       0.8783453 , 0.        , 1.4037501 , 0.8529776 , 1.0155141 ,\n",
       "       0.6119887 , 1.1897184 , 1.2785281 , 1.3469915 , 1.6907889 ,\n",
       "       0.8807122 , 0.        , 1.0319161 , 0.25122106, 0.89671826,\n",
       "       0.4909712 , 0.53560907, 1.9824853 , 1.2874768 , 1.1558368 ,\n",
       "       1.3544308 , 1.2000957 , 0.9819145 , 0.9421179 , 0.83585924,\n",
       "       0.83070105, 1.7274466 , 0.4347701 , 1.3476961 , 0.2325246 ,\n",
       "       0.17390491, 1.2414899 , 0.9261222 , 1.3053719 , 0.        ,\n",
       "       0.7441646 , 1.7824762 , 1.2164903 , 1.8767833 , 1.2427127 ,\n",
       "       0.6078244 , 0.6938672 , 2.8575087 , 1.2018398 , 0.08390809,\n",
       "       1.8149416 , 1.5030088 , 1.4282494 , 0.        , 0.8573485 ,\n",
       "       0.74920565, 2.3170383 , 1.2065339 , 0.85067624, 0.04794654,\n",
       "       0.73626286, 0.7015426 , 1.200649  , 0.7297068 , 1.7831423 ,\n",
       "       2.748649  , 1.3822322 , 2.0184765 , 0.82404035, 1.4872532 ,\n",
       "       1.9746268 , 0.4312245 , 0.        , 1.0975068 , 1.1824    ,\n",
       "       0.910878  , 2.0340617 , 0.8166781 , 1.7893331 , 0.94939053,\n",
       "       0.63913345, 0.92247087, 0.31420803, 2.1226473 , 1.1400027 ,\n",
       "       0.55581987, 0.5851011 , 0.0525182 , 1.0414107 , 1.3814694 ,\n",
       "       0.99057186, 0.10764808, 0.8076242 , 1.981935  , 2.842866  ,\n",
       "       0.31378058, 1.1310949 , 0.41642523, 2.0906973 , 0.7598434 ,\n",
       "       1.5720577 , 1.2999803 , 0.6319988 , 0.42299616, 1.5984627 ,\n",
       "       0.3985087 , 0.78811055, 1.213219  , 2.637958  , 0.5982269 ,\n",
       "       0.7792967 , 0.107081  , 0.0804159 , 0.21731997, 0.772733  ,\n",
       "       0.50937474, 1.761698  , 0.87043756, 0.63221395, 2.1557755 ,\n",
       "       0.        , 1.311605  , 1.7030888 , 0.32220063, 1.9530069 ,\n",
       "       2.2198532 , 0.36141634, 0.        , 1.86054   , 1.1493896 ,\n",
       "       0.70703864, 1.7279974 , 0.        , 0.85841453, 0.85534114,\n",
       "       0.08194434, 0.47239178, 1.1315055 , 2.1095383 , 0.8233188 ,\n",
       "       1.9497012 , 0.45916632, 0.05845372, 0.5861807 , 1.5576103 ,\n",
       "       0.18356183, 3.4128547 , 0.7447736 , 2.805256  , 1.6180186 ,\n",
       "       0.6691026 , 2.6005373 , 0.94992584, 1.9824922 , 1.3132701 ,\n",
       "       2.3027444 , 1.7513771 , 1.245337  , 1.696948  , 1.6424294 ,\n",
       "       1.1497471 , 0.87332463, 0.29366076, 1.6451533 , 0.22967154,\n",
       "       2.2197428 , 2.4010644 , 1.6206445 , 1.3749118 , 1.6605216 ,\n",
       "       0.70629305, 0.66253424, 1.022903  , 0.92528176, 2.5635035 ,\n",
       "       1.3009629 , 0.97760576, 1.0186086 , 0.45021445, 0.81277704,\n",
       "       2.088775  , 0.59099054, 0.4980269 , 0.31013513, 1.3783673 ,\n",
       "       0.8248852 , 0.98919654, 0.20630613, 0.37329698, 1.793057  ,\n",
       "       3.0562673 , 1.8653107 , 1.4313356 , 1.695287  , 0.81167805,\n",
       "       0.7550674 , 1.6969824 , 1.1607049 , 0.        , 1.6466241 ,\n",
       "       0.14265434, 0.50535595, 1.0773952 , 0.7462707 , 0.6052138 ,\n",
       "       0.        , 0.8475957 , 0.17183101, 0.        , 1.3657156 ,\n",
       "       0.87875396, 1.5138524 , 0.9841506 , 0.26380414, 1.7250166 ,\n",
       "       1.1141865 , 0.08141613, 0.94008124, 0.8182827 , 0.18696249,\n",
       "       0.56732154, 1.081562  , 0.89462614, 0.7184935 , 0.94854534,\n",
       "       1.03382   , 1.4350976 , 0.16192317, 1.9729233 , 1.4209754 ,\n",
       "       0.10554084, 1.2710525 , 1.3753909 , 1.7451696 , 0.0490422 ,\n",
       "       1.052279  , 1.7325488 , 0.6896679 , 1.2787955 , 0.42800778,\n",
       "       1.5246953 , 0.        , 1.7921181 , 1.0329255 , 0.        ,\n",
       "       1.5516216 , 0.57626116, 0.30579776, 0.27344254, 0.08827949,\n",
       "       0.        , 1.7747475 , 0.3640371 , 0.4908161 , 0.7025212 ,\n",
       "       0.        , 0.56008977, 0.7295089 , 0.        , 0.7109282 ,\n",
       "       0.        , 0.04437213, 0.34119782, 0.43755272, 0.29384995,\n",
       "       0.03007166, 0.9388833 , 0.66863734, 0.00891604, 0.5831559 ,\n",
       "       0.        , 0.36411822, 1.7375898 , 0.04892104, 0.8716895 ,\n",
       "       0.        , 0.59155864, 0.8014938 , 0.3150596 , 0.4874928 ,\n",
       "       0.9981161 , 0.7543043 , 0.48939657, 2.4213943 , 0.63261956,\n",
       "       0.        , 0.48593825, 0.38700104, 0.7036243 , 0.34008157,\n",
       "       0.53847885, 0.        , 0.8948303 , 0.3746082 , 0.33300978,\n",
       "       0.        , 2.0287764 , 1.0335141 , 0.89723074, 0.7172301 ,\n",
       "       0.33995926, 0.        , 0.        , 1.0699742 , 1.0114303 ,\n",
       "       1.647346  , 0.76002854, 1.8757586 , 1.0776253 , 0.40566143,\n",
       "       0.16428949, 1.3900251 , 1.5138075 , 0.8920828 , 0.        ,\n",
       "       2.3842206 , 1.1624095 , 2.8373127 , 0.        , 0.8807122 ,\n",
       "       1.0958416 , 0.94637007, 0.76071674, 0.748374  , 0.4909712 ,\n",
       "       1.0786915 , 1.0150597 , 1.4037781 , 0.91602457, 0.14842218,\n",
       "       0.4758343 , 0.24200515, 0.7336751 , 0.        , 0.7903445 ,\n",
       "       1.4674045 , 0.01610967, 0.8488301 , 0.        , 0.4847508 ,\n",
       "       1.8651288 , 0.47684366, 1.3053719 , 0.        , 0.        ,\n",
       "       0.76249486, 0.9498047 , 1.345998  , 0.62582403, 0.        ,\n",
       "       0.4432557 , 1.7629282 , 0.7675869 , 0.        , 0.6182484 ,\n",
       "       0.89638364, 1.7599103 , 0.80996305, 0.9447149 , 0.956952  ,\n",
       "       2.6126242 , 1.5434766 , 0.        , 0.5728072 , 0.73626286,\n",
       "       0.        , 1.5263176 , 0.5258435 , 1.680819  , 1.7847743 ,\n",
       "       0.11506821, 0.8002474 , 0.29988235, 1.4519844 , 0.        ,\n",
       "       0.6343414 , 0.5127753 , 0.8336857 , 1.6982043 , 1.3441197 ,\n",
       "       1.2398905 , 1.5039415 , 1.6278776 , 1.6426897 , 0.47140625,\n",
       "       0.8370571 , 0.4038386 , 1.4528589 , 0.82560194, 1.2807891 ,\n",
       "       1.400431  , 0.3818109 , 1.2674744 , 1.6910126 , 1.0155464 ,\n",
       "       0.        , 0.        , 0.6954564 , 1.3439392 , 0.49879932,\n",
       "       1.4567463 , 0.8674022 , 1.2695851 , 0.71355325, 1.3534654 ,\n",
       "       1.2999803 , 0.8408317 , 0.        , 1.8183191 , 0.84162396,\n",
       "       1.2814163 , 0.13164397, 1.6397201 , 0.9561446 , 0.7792967 ,\n",
       "       0.89568913, 0.        , 0.14728414, 0.6211107 , 0.99794805,\n",
       "       0.23213786, 0.        , 1.5913996 , 1.2307503 , 0.5358853 ,\n",
       "       1.2169788 , 0.        , 0.32220063, 0.47692567, 1.321537  ,\n",
       "       0.        , 0.5335601 , 0.20414029, 0.9930101 , 0.08802278,\n",
       "       0.3079814 , 0.18426198, 0.474961  , 0.3479804 , 0.6017383 ,\n",
       "       0.6355108 , 0.6886863 , 1.2325767 , 0.96250725, 1.8302746 ,\n",
       "       0.7029158 , 0.5838635 , 0.11386349, 0.8975741 , 0.18356183,\n",
       "       1.8662202 , 0.44476113, 1.9372597 , 0.7268311 , 0.        ,\n",
       "       1.9362031 , 0.13616185, 1.4368012 , 0.3454358 , 0.8184482 ,\n",
       "       0.42590305, 1.0359969 , 0.6170207 , 1.594507  , 0.        ,\n",
       "       1.6291952 , 1.1377337 , 0.894881  , 0.        , 2.1389654 ,\n",
       "       0.9465612 , 1.6206445 , 0.        , 1.1853447 , 0.7934701 ,\n",
       "       0.66253424, 0.        , 0.7488327 , 1.2767327 , 0.6779713 ,\n",
       "       0.97760576, 0.8573548 , 0.        , 0.943481  , 1.6411278 ,\n",
       "       0.815758  , 0.        , 0.93920016, 0.18760695, 0.        ,\n",
       "       0.82490873, 0.20630613, 0.6920337 , 0.20792812, 3.2054832 ,\n",
       "       0.44658712, 0.        , 1.5198897 , 0.25122106, 1.6517856 ,\n",
       "       0.76909184, 0.2491095 , 1.5192335 , 1.3883226 , 0.3701123 ,\n",
       "       0.4686419 , 1.3631991 , 0.9419685 , 0.73932666, 0.83585924,\n",
       "       0.83070105, 0.43187302, 0.41866043, 0.49886596, 0.49887437,\n",
       "       0.09421591, 1.8391242 , 0.9261222 , 0.21460573, 0.36037928,\n",
       "       0.48642942, 0.75592303, 0.6687128 , 0.7177477 , 1.1889318 ,\n",
       "       1.324857  , 0.25061154, 1.2546017 , 1.3827982 , 0.51138943,\n",
       "       1.3640915 , 0.6066252 , 1.8949498 , 0.69647306, 0.        ,\n",
       "       1.0658848 , 1.3210005 , 2.0608356 , 0.        , 0.6532771 ,\n",
       "       0.48591945, 0.67272484, 1.2959864 , 0.7297068 , 2.2500138 ,\n",
       "       0.60224533, 2.1820142 , 0.44137374, 0.30437368], dtype=float32)"
      ]
     },
     "execution_count": 831,
     "metadata": {},
     "output_type": "execute_result"
    }
   ],
   "source": [
    "xsum"
   ]
  },
  {
   "cell_type": "code",
   "execution_count": 832,
   "id": "7569e907",
   "metadata": {},
   "outputs": [
    {
     "data": {
      "text/plain": [
       "array([2.5932004 , 1.8013453 , 1.6908714 , 2.372854  , 3.1637416 ,\n",
       "       1.6946486 , 1.0513332 , 2.1355958 , 0.94673526, 0.19298612],\n",
       "      dtype=float32)"
      ]
     },
     "execution_count": 832,
     "metadata": {},
     "output_type": "execute_result"
    }
   ],
   "source": [
    "ysum"
   ]
  },
  {
   "cell_type": "code",
   "execution_count": 833,
   "id": "a26f4e09",
   "metadata": {},
   "outputs": [
    {
     "data": {
      "text/plain": [
       "array([0, 1, 2, 3, 4, 5, 6, 7, 8, 9], dtype=uint32)"
      ]
     },
     "execution_count": 833,
     "metadata": {},
     "output_type": "execute_result"
    }
   ],
   "source": [
    "xidxcols"
   ]
  },
  {
   "cell_type": "code",
   "execution_count": 834,
   "id": "1d4470a9",
   "metadata": {},
   "outputs": [
    {
     "data": {
      "text/plain": [
       "array([  0,   1,   2,   3,   4,   5,   6,   7,   8,   9,  10,  11,  12,\n",
       "        13,  14,  15,  16,  17,  18,  19,  20,  21,  22,  23,  24,  25,\n",
       "        26,  27,  28,  29,  30,  31,  32,  33,  34,  35,  36,  37,  38,\n",
       "        39,  40,  41,  42,  43,  44,  45,  46,  47,  48,  49,  50,  51,\n",
       "        52,  53,  54,  55,  56,  57,  58,  59,  60,  61,  62,  63,  64,\n",
       "        65,  66,  67,  68,  69,  70,  71,  72,  73,  74,  75,  76,  77,\n",
       "        78,  79,  80,  81,  82,  83,  84,  85,  86,  87,  88,  89,  90,\n",
       "        91,  92,  93,  94,  95,  96,  97,  98,  99, 100, 101, 102, 103,\n",
       "       104, 105, 106, 107, 108, 109, 110, 111, 112, 113, 114, 115, 116,\n",
       "       117, 118, 119, 120, 121, 122, 123, 124, 125, 126, 127, 128, 129,\n",
       "       130, 131, 132, 133, 134, 135, 136, 137, 138, 139, 140, 141, 142,\n",
       "       143, 144, 145, 146, 147, 148, 149, 150, 151, 152, 153, 154, 155,\n",
       "       156, 157, 158, 159, 160, 161, 162, 163, 164, 165, 166, 167, 168,\n",
       "       169, 170, 171, 172, 173, 174, 175, 176, 177, 178, 179, 180, 181,\n",
       "       182, 183, 184, 185, 186, 187, 188, 189, 190, 191, 192, 193, 194,\n",
       "       195, 196, 197, 198, 199, 200, 201, 202, 203, 204, 205, 206, 207,\n",
       "       208, 209, 210, 211, 212, 213, 214, 215, 216, 217, 218, 219, 220,\n",
       "       221, 222, 223, 224, 225, 226, 227, 228, 229, 230, 231, 232, 233,\n",
       "       234, 235, 236, 237, 238, 239, 240, 241, 242, 243, 244, 245, 246,\n",
       "       247, 248, 249, 250, 251, 252, 253, 254, 255, 256, 257, 258, 259,\n",
       "       260, 261, 262, 263, 264, 265, 266, 267, 268, 269, 270, 271, 272,\n",
       "       273, 274, 275, 276, 277, 278, 279, 280, 281, 282, 283, 284, 285,\n",
       "       286, 287, 288, 289, 290, 291, 292, 293, 294, 295, 296, 297, 298,\n",
       "       299, 300, 301, 302, 303, 304, 305, 306, 307, 308, 309, 310, 311,\n",
       "       312, 313, 314, 315, 316, 317, 318, 319, 320, 321, 322, 323, 324,\n",
       "       325, 326, 327, 328, 329, 330, 331, 332, 333, 334, 335, 336, 337,\n",
       "       338, 339, 340, 341, 342, 343, 344, 345, 346, 347, 348, 349, 350,\n",
       "       351, 352, 353, 354, 355, 356, 357, 358, 359, 360, 361, 362, 363,\n",
       "       364, 365, 366, 367, 368, 369, 370, 371, 372, 373, 374, 375, 376,\n",
       "       377, 378, 379, 380, 381, 382, 383, 384, 385, 386, 387, 388, 389,\n",
       "       390, 391, 392, 393, 394, 395, 396, 397, 398, 399, 400, 401, 402,\n",
       "       403, 404, 405, 406, 407, 408, 409, 410, 411, 412, 413, 414, 415,\n",
       "       416, 417, 418, 419, 420, 421, 422, 423, 424, 425, 426, 427, 428,\n",
       "       429, 430, 431, 432, 433, 434, 435, 436, 437, 438, 439, 440, 441,\n",
       "       442, 443, 444, 445, 446, 447, 448, 449, 450, 451, 452, 453, 454,\n",
       "       455, 456, 457, 458, 459, 460, 461, 462, 463, 464, 465, 466, 467,\n",
       "       468, 469, 470, 471, 472, 473, 474, 475, 476, 477, 478, 479, 480,\n",
       "       481, 482, 483, 484, 485, 486, 487, 488, 489, 490, 491, 492, 493,\n",
       "       494, 495, 496, 497, 498, 499, 500, 501, 502, 503, 504, 505, 506,\n",
       "       507, 508, 509, 510, 511, 512, 513, 514, 515, 516, 517, 518, 519,\n",
       "       520, 521, 522, 523, 524, 525, 526, 527, 528, 529, 530, 531, 532,\n",
       "       533, 534, 535, 536, 537, 538, 539, 540, 541, 542, 543, 544, 545,\n",
       "       546, 547, 548, 549, 550, 551, 552, 553, 554, 555, 556, 557, 558,\n",
       "       559, 560, 561, 562, 563, 564, 565, 566, 567, 568, 569, 570, 571,\n",
       "       572, 573, 574, 575, 576, 577, 578, 579, 580, 581, 582, 583, 584,\n",
       "       585, 586, 587, 588, 589, 590, 591, 592, 593, 594, 595, 596, 597,\n",
       "       598, 599, 600, 601, 602, 603, 604, 605, 606, 607, 608, 609, 610,\n",
       "       611, 612, 613, 614, 615, 616, 617, 618, 619, 620, 621, 622, 623,\n",
       "       624, 625, 626, 627, 628, 629, 630, 631, 632, 633, 634, 635, 636,\n",
       "       637, 638, 639, 640, 641, 642, 643, 644, 645, 646, 647, 648, 649,\n",
       "       650, 651, 652, 653, 654, 655, 656, 657, 658, 659, 660, 661, 662,\n",
       "       663, 664, 665, 666, 667, 668, 669, 670, 671, 672, 673, 674, 675,\n",
       "       676, 677, 678, 679, 680, 681, 682, 683, 684, 685, 686, 687, 688,\n",
       "       689, 690, 691, 692, 693, 694, 695, 696, 697, 698, 699, 700, 701,\n",
       "       702, 703, 704, 705, 706, 707, 708, 709, 710, 711, 712, 713, 714,\n",
       "       715, 716, 717, 718, 719, 720, 721, 722, 723, 724, 725, 726, 727,\n",
       "       728, 729, 730, 731, 732, 733, 734, 735, 736, 737, 738, 739, 740,\n",
       "       741, 742, 743, 744, 745, 746, 747, 748, 749, 750, 751, 752, 753,\n",
       "       754, 755, 756, 757, 758, 759, 760, 761, 762, 763, 764, 765, 766,\n",
       "       767, 768, 769, 770, 771, 772, 773, 774, 775, 776, 777, 778, 779,\n",
       "       780, 781, 782, 783], dtype=uint32)"
      ]
     },
     "execution_count": 834,
     "metadata": {},
     "output_type": "execute_result"
    }
   ],
   "source": [
    "yidxcols"
   ]
  },
  {
   "cell_type": "markdown",
   "id": "9084c48c",
   "metadata": {},
   "source": [
    "# Matmult Transposed Dense (SPRNEW)"
   ]
  },
  {
   "cell_type": "code",
   "execution_count": 562,
   "id": "38f41d01",
   "metadata": {},
   "outputs": [],
   "source": [
    "c=np.zeros(a.T.shape)\n",
    "at = a.T\n",
    "for row in range(at.shape[0]):\n",
    "    for col in range(at.shape[1]):\n",
    "        c[row][col] = at[row][col]"
   ]
  },
  {
   "cell_type": "code",
   "execution_count": 563,
   "id": "a54c3298",
   "metadata": {},
   "outputs": [],
   "source": [
    "a_buf = cl.Buffer(ctx, mf.READ_WRITE | mf.COPY_HOST_PTR, hostbuf=c.astype(np.float32))\n",
    "b_buf = cl.Buffer(ctx, mf.READ_WRITE | mf.COPY_HOST_PTR, hostbuf=b)\n",
    "\n",
    "prg = cl.Program(ctx, \"\"\"\n",
    "    // multilplies x TRANSPOSED by y (dense-dense)\n",
    "    __kernel void matmul0(__global  float* x,      // INPUT MATRIX DATA\n",
    "                          __global  float* y,      // INPUT\n",
    "                          __global  uint* xidx,   // INPUT YIDX\n",
    "                          __global  uint* yidx,   // INPUT YIDX\n",
    "                          __global  float* resdata,// OUT\n",
    "                          __global  uint*  rescols,\n",
    "                          __global  uint*  resnnzs,\n",
    "                          uint topkx,\n",
    "                          uint ellw,\n",
    "                          uint isize,\n",
    "                          uint msize,\n",
    "                          uint osize\n",
    "                          ) { // LOCAL SHARED BUFFER  \n",
    "                          \n",
    "      uint topky = get_global_size(0);\n",
    "      uint gidx = yidx[get_global_id(0)]; // row\n",
    "      \n",
    "      for (uint gidy0 = 0; gidy0 < topkx; gidy0++) {\n",
    "        uint gidy = xidx[gidy0];\n",
    "        float ret = 0.0;\n",
    "        uint i;\n",
    "        for (i = 0; i < msize; i++) {\n",
    "          uint xidx = i*isize+gidx;\n",
    "          float xval = x[xidx];\n",
    "          uint yidx = osize*i+gidy;\n",
    "          float yval = y[yidx];\n",
    "          ret += xval*yval;\n",
    "          //if (gidx==0 && gidy==0)\n",
    "          //  printf(\"\\\\nmult: %.2f x %.2f - %.2f  -- %i/%i\", xval, yval, ret, xidx, yidx);\n",
    "        }\n",
    "        //if (gidx==0&&gidy==0)\n",
    "        //  printf(\"\\\\nsum:%.2f\", ret);\n",
    "        \n",
    "        // add for \n",
    "        uint nnz = resnnzs[gidx];\n",
    "        for (i = 0; i < nnz; i++) {\n",
    "          if (rescols[i] >= gidy) {\n",
    "            break;\n",
    "          }\n",
    "          for (uint j = nnz; j >= i; j--) {\n",
    "            //resdata[j+1] = resdata[j];\n",
    "          }\n",
    "        }\n",
    "        resdata[gidx * ellw + gidy0] = ret;\n",
    "        rescols[gidx * ellw + gidy0] = gidy;\n",
    "        resnnzs[gidx] += 1;\n",
    "      }\n",
    "    }\"\"\").build()"
   ]
  },
  {
   "cell_type": "code",
   "execution_count": 564,
   "id": "39bfb52f",
   "metadata": {},
   "outputs": [
    {
     "data": {
      "text/plain": [
       "((32, 64), (64, 10))"
      ]
     },
     "execution_count": 564,
     "metadata": {},
     "output_type": "execute_result"
    }
   ],
   "source": [
    "a.shape, b.shape"
   ]
  },
  {
   "cell_type": "code",
   "execution_count": 565,
   "id": "60eadd57",
   "metadata": {},
   "outputs": [],
   "source": [
    "rows = a.shape[0]"
   ]
  },
  {
   "cell_type": "code",
   "execution_count": 566,
   "id": "786148ea",
   "metadata": {},
   "outputs": [
    {
     "data": {
      "text/plain": [
       "(32, 10)"
      ]
     },
     "execution_count": 566,
     "metadata": {},
     "output_type": "execute_result"
    }
   ],
   "source": [
    "mult = mult.astype(np.float32)\n",
    "mult.shape"
   ]
  },
  {
   "cell_type": "code",
   "execution_count": 567,
   "id": "0693c089",
   "metadata": {},
   "outputs": [
    {
     "data": {
      "text/plain": [
       "(32, 10)"
      ]
     },
     "execution_count": 567,
     "metadata": {},
     "output_type": "execute_result"
    }
   ],
   "source": [
    "topky, topkx"
   ]
  },
  {
   "cell_type": "code",
   "execution_count": 568,
   "id": "520e60bc",
   "metadata": {},
   "outputs": [
    {
     "data": {
      "text/plain": [
       "<pyopencl._cl.NannyEvent at 0x7ff1540fe450>"
      ]
     },
     "execution_count": 568,
     "metadata": {},
     "output_type": "execute_result"
    }
   ],
   "source": [
    "resdata_buf = cl.Buffer(ctx, mf.READ_WRITE, np.prod([rows,topkx])*4)\n",
    "rescols_buf = cl.Buffer(ctx, mf.READ_WRITE, np.prod([rows,topkx])*4)\n",
    "resnnzs_buf = cl.Buffer(ctx, mf.READ_WRITE | mf.COPY_HOST_PTR, hostbuf=np.zeros(rows))\n",
    "\n",
    "knl = prg.matmul0  # Use this Kernel object for repeated calls\n",
    "knl(queue, [topky], None, a_buf, b_buf, xs_idx_buf, ys_idx_buf, resdata_buf, rescols_buf, resnnzs_buf, np.uint32(topkx), np.uint32(topkx), np.uint32(a.shape[0]), np.uint32(a.shape[1]), np.uint32(b.shape[1]))\n",
    "\n",
    "resdata = np.zeros(a.shape[0]*topkx).astype(np.float32)\n",
    "rescols = np.zeros(a.shape[0]*topkx).astype(np.uint32)\n",
    "resnnzs = np.zeros(a.shape[0]).astype(np.uint32)\n",
    "cl.enqueue_copy(queue, resdata, resdata_buf)\n",
    "cl.enqueue_copy(queue, rescols, rescols_buf)\n",
    "cl.enqueue_copy(queue, resnnzs, resnnzs_buf)"
   ]
  },
  {
   "cell_type": "code",
   "execution_count": 569,
   "id": "c13e0adb",
   "metadata": {},
   "outputs": [
    {
     "data": {
      "text/plain": [
       "array([2.0588999 , 1.8681664 , 4.811817  , 2.2529387 , 2.1096544 ,\n",
       "       1.3379606 , 2.9000037 , 2.0491414 , 2.5897803 , 1.5031604 ,\n",
       "       2.732146  , 2.5565495 , 3.714852  , 1.967403  , 2.7812793 ,\n",
       "       3.9070148 , 3.2777538 , 2.2969038 , 1.9229925 , 2.6556396 ,\n",
       "       1.928745  , 3.1600957 , 2.6502829 , 1.8178726 , 3.2470448 ,\n",
       "       2.285428  , 2.6365926 , 2.5166864 , 1.070901  , 2.0605705 ,\n",
       "       1.063185  , 4.1737986 , 2.2277255 , 1.2515675 , 4.1827664 ,\n",
       "       1.2915825 , 1.3805095 , 3.4198837 , 1.0256768 , 2.7755067 ,\n",
       "       1.1833991 , 1.8557596 , 3.0534244 , 1.0722461 , 3.4905617 ,\n",
       "       1.643646  , 3.453313  , 3.808668  , 0.65044206, 2.0563726 ,\n",
       "       1.0461621 , 3.5566838 , 3.2101297 , 1.572406  , 2.2809083 ,\n",
       "       1.8500901 , 1.3386623 , 4.39698   , 1.5621432 , 1.7725785 ,\n",
       "       1.5166444 , 2.5048141 , 1.3417709 , 3.5234869 , 2.7652483 ,\n",
       "       1.1395355 , 2.25748   , 4.705172  , 2.2430854 , 1.8194562 ,\n",
       "       1.6907904 , 2.3283677 , 1.7894993 , 2.1847265 , 2.8551002 ,\n",
       "       0.79378396, 1.7964936 , 3.5471232 , 1.9625643 , 1.3657154 ,\n",
       "       1.2141374 , 2.9877534 , 3.1018186 , 3.629979  , 3.6487942 ,\n",
       "       1.808532  , 2.6615262 , 3.3801854 , 2.1941547 , 2.0062847 ,\n",
       "       2.0491679 , 3.8442254 , 5.2590375 , 2.6086452 , 2.5204127 ,\n",
       "       2.845815  , 2.089722  , 2.0366    , 1.8493687 , 2.002032  ,\n",
       "       1.4538853 , 3.52397   , 3.426971  , 0.94891644, 3.4088016 ,\n",
       "       1.826241  , 2.6029367 , 2.0418024 , 2.1847632 , 0.74823964,\n",
       "       2.1386282 , 2.708146  , 1.742439  , 2.366699  , 2.55557   ,\n",
       "       1.021245  , 2.8354404 , 3.1261184 , 1.642767  , 1.4917253 ,\n",
       "       2.2865992 , 3.9609175 , 3.3584628 , 2.9336588 , 2.459155  ,\n",
       "       2.2523775 , 2.647436  , 0.89587307, 2.0110953 , 2.1063092 ,\n",
       "       1.9966788 , 2.9262302 , 4.8778872 , 1.2208712 , 3.4192896 ,\n",
       "       2.3487628 , 2.9560015 , 1.5107096 , 1.5358572 , 1.5315988 ,\n",
       "       0.48399195, 2.1673245 , 2.2968588 , 2.7774973 , 2.5966098 ,\n",
       "       3.4832177 , 2.690391  , 4.0917354 , 0.23865944, 2.9819653 ,\n",
       "       2.0954764 , 2.4307942 , 3.4558418 , 2.9896178 , 1.5231056 ,\n",
       "       3.422842  , 3.3150718 , 3.5051725 , 2.1653447 , 3.1134186 ,\n",
       "       1.5846765 , 2.661023  , 2.4769669 , 3.470964  , 1.4431835 ,\n",
       "       2.3999262 , 3.9011345 , 3.248538  , 1.4247626 , 1.2602935 ,\n",
       "       0.49207467, 2.325397  , 2.2815886 , 2.2696066 , 3.3333156 ,\n",
       "       2.4349878 , 2.0514407 , 3.2246497 , 1.6171042 , 1.6073767 ,\n",
       "       2.5375338 , 2.4817715 , 2.6368468 , 2.0569093 , 4.3929462 ,\n",
       "       1.4862403 , 3.4939742 , 2.2332757 , 1.7737362 , 1.7618244 ,\n",
       "       2.0678236 , 1.8836694 , 1.3364539 , 1.7425246 , 2.3898618 ,\n",
       "       1.1566195 , 2.628559  , 3.6502156 , 2.121294  , 1.3199686 ,\n",
       "       1.8444016 , 2.2461612 , 3.215194  , 3.8432117 , 2.2398164 ,\n",
       "       1.8269355 , 4.414732  , 3.723146  , 0.50411344, 2.1435022 ,\n",
       "       2.6537714 , 1.1732535 , 3.0079815 , 2.5904036 , 3.0474715 ,\n",
       "       1.8404907 , 2.6261342 , 1.1304994 , 1.8776394 , 0.85143405,\n",
       "       0.6337883 , 3.3086834 , 1.4530784 , 2.515975  , 3.5047786 ,\n",
       "       1.1553439 , 2.8253915 , 3.52668   , 1.043268  , 2.3298826 ,\n",
       "       1.3287122 , 2.5962925 , 1.9194646 , 1.8967655 , 5.310211  ,\n",
       "       2.868525  , 3.0769377 , 1.7588413 , 0.40501967, 2.9207122 ,\n",
       "       0.8400132 , 2.0994346 , 2.1460192 , 1.5991999 , 2.2363923 ,\n",
       "       1.5488654 , 3.2248628 , 1.790886  , 0.7113455 , 2.6308084 ,\n",
       "       0.95923513, 2.4799027 , 2.5939333 , 3.6836724 , 2.6314456 ,\n",
       "       2.4646401 , 3.5725472 , 3.2010999 , 1.1519556 , 1.662165  ,\n",
       "       0.8192116 , 1.8272312 , 1.7956812 , 1.8296846 , 2.9964643 ,\n",
       "       2.2758195 , 2.3479476 , 2.8243024 , 1.1362125 , 2.8853436 ,\n",
       "       3.6204023 , 1.9968115 , 1.7490085 , 2.9469259 , 3.12177   ,\n",
       "       2.235736  , 5.2850986 , 1.5726625 , 1.4582067 , 1.2513807 ,\n",
       "       1.0327702 , 2.8972733 , 2.6707854 , 1.6554503 , 3.8221254 ,\n",
       "       2.0219557 , 2.4419677 , 3.9295774 , 1.2823715 , 1.2512529 ,\n",
       "       1.928727  , 1.5045325 , 3.3143744 , 3.7100651 , 3.0415392 ,\n",
       "       1.8443445 , 2.0636263 , 2.327687  , 1.2617    , 1.081305  ,\n",
       "       1.5923332 , 3.816273  , 3.0520546 , 0.9159544 , 4.5526114 ,\n",
       "       1.9873203 , 2.4606779 , 2.2672033 , 0.9068908 , 1.9620786 ,\n",
       "       1.0044551 , 3.294622  , 1.9445477 , 3.2131855 , 3.7743635 ,\n",
       "       2.9366598 , 3.0328484 , 2.7435503 , 1.2155869 , 0.9583244 ],\n",
       "      dtype=float32)"
      ]
     },
     "execution_count": 569,
     "metadata": {},
     "output_type": "execute_result"
    }
   ],
   "source": [
    "resdata"
   ]
  },
  {
   "cell_type": "code",
   "execution_count": 570,
   "id": "557e2040",
   "metadata": {},
   "outputs": [
    {
     "data": {
      "text/plain": [
       "array([0, 1, 2, 3, 4, 5, 6, 7, 8, 9, 0, 1, 2, 3, 4, 5, 6, 7, 8, 9, 0, 1,\n",
       "       2, 3, 4, 5, 6, 7, 8, 9, 0, 1, 2, 3, 4, 5, 6, 7, 8, 9, 0, 1, 2, 3,\n",
       "       4, 5, 6, 7, 8, 9, 0, 1, 2, 3, 4, 5, 6, 7, 8, 9, 0, 1, 2, 3, 4, 5,\n",
       "       6, 7, 8, 9, 0, 1, 2, 3, 4, 5, 6, 7, 8, 9, 0, 1, 2, 3, 4, 5, 6, 7,\n",
       "       8, 9, 0, 1, 2, 3, 4, 5, 6, 7, 8, 9, 0, 1, 2, 3, 4, 5, 6, 7, 8, 9,\n",
       "       0, 1, 2, 3, 4, 5, 6, 7, 8, 9, 0, 1, 2, 3, 4, 5, 6, 7, 8, 9, 0, 1,\n",
       "       2, 3, 4, 5, 6, 7, 8, 9, 0, 1, 2, 3, 4, 5, 6, 7, 8, 9, 0, 1, 2, 3,\n",
       "       4, 5, 6, 7, 8, 9, 0, 1, 2, 3, 4, 5, 6, 7, 8, 9, 0, 1, 2, 3, 4, 5,\n",
       "       6, 7, 8, 9, 0, 1, 2, 3, 4, 5, 6, 7, 8, 9, 0, 1, 2, 3, 4, 5, 6, 7,\n",
       "       8, 9, 0, 1, 2, 3, 4, 5, 6, 7, 8, 9, 0, 1, 2, 3, 4, 5, 6, 7, 8, 9,\n",
       "       0, 1, 2, 3, 4, 5, 6, 7, 8, 9, 0, 1, 2, 3, 4, 5, 6, 7, 8, 9, 0, 1,\n",
       "       2, 3, 4, 5, 6, 7, 8, 9, 0, 1, 2, 3, 4, 5, 6, 7, 8, 9, 0, 1, 2, 3,\n",
       "       4, 5, 6, 7, 8, 9, 0, 1, 2, 3, 4, 5, 6, 7, 8, 9, 0, 1, 2, 3, 4, 5,\n",
       "       6, 7, 8, 9, 0, 1, 2, 3, 4, 5, 6, 7, 8, 9, 0, 1, 2, 3, 4, 5, 6, 7,\n",
       "       8, 9, 0, 1, 2, 3, 4, 5, 6, 7, 8, 9], dtype=uint32)"
      ]
     },
     "execution_count": 570,
     "metadata": {},
     "output_type": "execute_result"
    }
   ],
   "source": [
    "rescols"
   ]
  },
  {
   "cell_type": "code",
   "execution_count": 571,
   "id": "6654506e",
   "metadata": {},
   "outputs": [
    {
     "data": {
      "text/plain": [
       "array([10, 10, 10, 10, 10, 10, 10, 10, 10, 10, 10, 10, 10, 10, 10, 10, 10,\n",
       "       10, 10, 10, 10, 10, 10, 10, 10, 10, 10, 10, 10, 10, 10, 10],\n",
       "      dtype=uint32)"
      ]
     },
     "execution_count": 571,
     "metadata": {},
     "output_type": "execute_result"
    }
   ],
   "source": [
    "resnnzs"
   ]
  },
  {
   "cell_type": "code",
   "execution_count": 572,
   "id": "3d66afdd",
   "metadata": {},
   "outputs": [],
   "source": [
    "res_np = to_dense(resdata, rescols, resnnzs, topkx, mult.shape)"
   ]
  },
  {
   "cell_type": "code",
   "execution_count": 573,
   "id": "3b293f50",
   "metadata": {},
   "outputs": [
    {
     "data": {
      "text/plain": [
       "5.960464477539062e-07"
      ]
     },
     "execution_count": 573,
     "metadata": {},
     "output_type": "execute_result"
    }
   ],
   "source": [
    "(res_np-mult).sum()"
   ]
  },
  {
   "cell_type": "code",
   "execution_count": 574,
   "id": "7725bde2",
   "metadata": {},
   "outputs": [
    {
     "data": {
      "text/plain": [
       "array([[0.82272685, 0.        , 0.        , ..., 0.22595333, 0.        ,\n",
       "        0.        ],\n",
       "       [0.57626116, 0.2289813 , 0.16428949, ..., 0.27008578, 0.        ,\n",
       "        0.9652075 ],\n",
       "       [0.        , 0.48130327, 0.        , ..., 0.        , 0.12290299,\n",
       "        0.        ],\n",
       "       ...,\n",
       "       [0.8716895 , 0.10489579, 0.        , ..., 0.        , 0.39542586,\n",
       "        0.        ],\n",
       "       [0.        , 0.        , 0.        , ..., 0.5132175 , 0.9358725 ,\n",
       "        0.37984058],\n",
       "       [0.        , 0.6832084 , 0.9385753 , ..., 0.02876937, 0.        ,\n",
       "        0.        ]], dtype=float32)"
      ]
     },
     "execution_count": 574,
     "metadata": {},
     "output_type": "execute_result"
    }
   ],
   "source": [
    "a"
   ]
  },
  {
   "cell_type": "code",
   "execution_count": 575,
   "id": "74b816d8",
   "metadata": {},
   "outputs": [
    {
     "data": {
      "text/plain": [
       "array([[0.9414536 , 0.        , 0.        , 0.90892494, 0.        ,\n",
       "        0.        , 0.05297933, 0.        , 0.7021168 , 0.        ],\n",
       "       [0.        , 0.        , 0.14630048, 0.24825948, 0.        ,\n",
       "        0.        , 0.        , 0.7792777 , 0.31232256, 0.        ],\n",
       "       [0.        , 0.03283854, 0.27791733, 0.8543185 , 0.        ,\n",
       "        0.        , 0.8433972 , 0.        , 0.        , 0.        ],\n",
       "       [0.        , 0.        , 0.33419287, 0.19840643, 0.        ,\n",
       "        0.3856511 , 0.23348303, 0.        , 0.        , 0.        ],\n",
       "       [0.        , 0.01996238, 0.9816661 , 0.        , 0.        ,\n",
       "        0.        , 0.        , 0.5056456 , 0.        , 0.01917347],\n",
       "       [0.        , 0.        , 0.        , 0.        , 0.49159616,\n",
       "        0.0810385 , 0.64290637, 0.16045028, 0.        , 0.        ],\n",
       "       [0.        , 0.2878976 , 0.        , 0.        , 0.7058473 ,\n",
       "        0.        , 0.41645932, 0.44598925, 0.        , 0.        ],\n",
       "       [0.31479523, 0.40940058, 0.        , 0.        , 0.        ,\n",
       "        0.        , 0.49991104, 0.        , 0.79827386, 0.        ],\n",
       "       [0.11005293, 0.5290864 , 0.        , 0.31983745, 0.        ,\n",
       "        0.        , 0.        , 0.57631195, 0.        , 0.        ],\n",
       "       [0.06780045, 0.03890254, 0.        , 0.        , 0.98146695,\n",
       "        0.8737231 , 0.        , 0.        , 0.        , 0.        ],\n",
       "       [0.        , 0.7218774 , 0.40662676, 0.18507701, 0.        ,\n",
       "        0.        , 0.        , 0.        , 0.05563454, 0.        ],\n",
       "       [0.16214237, 0.        , 0.5265734 , 0.23904228, 0.        ,\n",
       "        0.        , 0.        , 0.        , 0.11824279, 0.        ],\n",
       "       [0.        , 0.6727114 , 0.01572542, 0.        , 0.44648495,\n",
       "        0.22174914, 0.        , 0.        , 0.        , 0.        ],\n",
       "       [0.6445239 , 0.8689898 , 0.78785294, 0.        , 0.        ,\n",
       "        0.        , 0.        , 0.        , 0.6352877 , 0.        ],\n",
       "       [0.50232446, 0.        , 0.        , 0.        , 0.        ,\n",
       "        0.47040063, 0.        , 0.        , 0.46875456, 0.5505951 ],\n",
       "       [0.        , 0.3043906 , 0.        , 0.        , 0.2855941 ,\n",
       "        0.        , 0.45246527, 0.03966095, 0.        , 0.        ],\n",
       "       [0.        , 0.6158326 , 0.        , 0.        , 0.        ,\n",
       "        0.55754304, 0.        , 0.8633621 , 0.        , 0.01719917],\n",
       "       [0.        , 0.        , 0.        , 0.        , 0.75643075,\n",
       "        0.        , 0.        , 0.42180747, 0.95542496, 0.1022128 ],\n",
       "       [0.        , 0.17614561, 0.4101668 , 0.        , 0.        ,\n",
       "        0.        , 0.20147614, 0.10142381, 0.        , 0.        ],\n",
       "       [0.        , 0.        , 0.        , 0.9880747 , 0.        ,\n",
       "        0.7065452 , 0.602556  , 0.48707104, 0.        , 0.        ],\n",
       "       [0.17604527, 0.        , 0.        , 0.        , 0.        ,\n",
       "        0.        , 0.        , 0.84334254, 0.8945855 , 0.72915745],\n",
       "       [0.        , 0.        , 0.        , 0.        , 0.23293144,\n",
       "        0.2350415 , 0.78704804, 0.        , 0.        , 0.20438819],\n",
       "       [0.        , 0.        , 0.        , 0.10942628, 0.00130877,\n",
       "        0.        , 0.        , 0.4094274 , 0.01082143, 0.        ],\n",
       "       [0.        , 0.        , 0.        , 0.21641734, 0.        ,\n",
       "        0.31724194, 0.35538766, 0.        , 0.        , 0.46936178],\n",
       "       [0.        , 0.        , 0.        , 0.        , 0.91353625,\n",
       "        0.        , 0.7040352 , 0.52147955, 0.49268502, 0.        ],\n",
       "       [0.        , 0.5996785 , 0.        , 0.5246723 , 0.        ,\n",
       "        0.        , 0.        , 0.9170164 , 0.47608244, 0.        ],\n",
       "       [0.        , 0.41769058, 0.        , 0.        , 0.92990875,\n",
       "        0.        , 0.22981252, 0.        , 0.        , 0.23540662],\n",
       "       [0.        , 0.22088505, 0.        , 0.        , 0.        ,\n",
       "        0.8154559 , 0.        , 0.23452929, 0.        , 0.88327533],\n",
       "       [0.42811713, 0.        , 0.94115525, 0.        , 0.34584206,\n",
       "        0.        , 0.        , 0.        , 0.1731275 , 0.        ],\n",
       "       [0.11871076, 0.64951146, 0.19040094, 0.        , 0.        ,\n",
       "        0.        , 0.        , 0.        , 0.        , 0.26224414],\n",
       "       [0.        , 0.        , 0.19905205, 0.        , 0.66453385,\n",
       "        0.9441609 , 0.17658035, 0.        , 0.        , 0.        ],\n",
       "       [0.        , 0.8829375 , 0.89167756, 0.        , 0.        ,\n",
       "        0.34762165, 0.        , 0.        , 0.02995267, 0.        ],\n",
       "       [0.        , 0.5526871 , 0.        , 0.70496935, 0.        ,\n",
       "        0.        , 0.6193049 , 0.        , 0.04075215, 0.        ],\n",
       "       [0.6127449 , 0.        , 0.01054911, 0.        , 0.72773826,\n",
       "        0.4128602 , 0.        , 0.        , 0.        , 0.        ],\n",
       "       [0.41137826, 0.45999953, 0.71848863, 0.        , 0.        ,\n",
       "        0.29980114, 0.        , 0.        , 0.        , 0.        ],\n",
       "       [0.82947165, 0.20491129, 0.        , 0.        , 0.47647813,\n",
       "        0.        , 0.39832172, 0.        , 0.        , 0.        ],\n",
       "       [0.04573116, 0.        , 0.67741925, 0.        , 0.        ,\n",
       "        0.        , 0.46088123, 0.        , 0.        , 0.39439395],\n",
       "       [0.        , 0.03375057, 0.934714  , 0.        , 0.5239845 ,\n",
       "        0.        , 0.9214213 , 0.        , 0.        , 0.        ],\n",
       "       [0.        , 0.        , 0.9567172 , 0.31415144, 0.        ,\n",
       "        0.40333778, 0.1583537 , 0.        , 0.        , 0.        ],\n",
       "       [0.04850706, 0.        , 0.8573981 , 0.        , 0.        ,\n",
       "        0.        , 0.23557614, 0.44495046, 0.        , 0.        ],\n",
       "       [0.        , 0.        , 0.        , 0.7757434 , 0.29974842,\n",
       "        0.47304207, 0.        , 0.        , 0.        , 0.97353226],\n",
       "       [0.        , 0.        , 0.04344931, 0.08597016, 0.        ,\n",
       "        0.        , 0.660472  , 0.9784147 , 0.        , 0.        ],\n",
       "       [0.        , 0.45209226, 0.7110872 , 0.        , 0.87557894,\n",
       "        0.        , 0.75961554, 0.        , 0.        , 0.        ],\n",
       "       [0.        , 0.09342512, 0.        , 0.        , 0.22442254,\n",
       "        0.01690201, 0.        , 0.        , 0.        , 0.8055896 ],\n",
       "       [0.        , 0.        , 0.09824695, 0.24463587, 0.        ,\n",
       "        0.        , 0.        , 0.32749644, 0.        , 0.45531607],\n",
       "       [0.6346003 , 0.        , 0.        , 0.00316491, 0.5720998 ,\n",
       "        0.        , 0.87135255, 0.        , 0.        , 0.        ],\n",
       "       [0.        , 0.14726698, 0.        , 0.        , 0.        ,\n",
       "        0.2944593 , 0.28086743, 0.        , 0.25112677, 0.        ],\n",
       "       [0.        , 0.        , 0.        , 0.58537555, 0.12253232,\n",
       "        0.8452076 , 0.        , 0.        , 0.        , 0.54433316],\n",
       "       [0.69351566, 0.        , 0.        , 0.50371623, 0.        ,\n",
       "        0.        , 0.9726071 , 0.7246852 , 0.        , 0.        ],\n",
       "       [0.9864582 , 0.        , 0.        , 0.        , 0.        ,\n",
       "        0.1762971 , 0.55006534, 0.        , 0.7705533 , 0.        ],\n",
       "       [0.        , 0.        , 0.09063595, 0.8334261 , 0.        ,\n",
       "        0.        , 0.        , 0.26001835, 0.        , 0.27716133],\n",
       "       [0.        , 0.        , 0.89167565, 0.05737644, 0.        ,\n",
       "        0.1275051 , 0.        , 0.        , 0.        , 0.4685573 ],\n",
       "       [0.        , 0.        , 0.        , 0.39566204, 0.        ,\n",
       "        0.        , 0.62646705, 0.12898347, 0.02942246, 0.        ],\n",
       "       [0.        , 0.84200877, 0.26646206, 0.        , 0.        ,\n",
       "        0.        , 0.23111221, 0.        , 0.        , 0.09374874],\n",
       "       [0.        , 0.        , 0.        , 0.5096388 , 0.694407  ,\n",
       "        0.        , 0.        , 0.9894679 , 0.        , 0.67805064],\n",
       "       [0.        , 0.5960935 , 0.3876133 , 0.68256104, 0.        ,\n",
       "        0.        , 0.        , 0.22186916, 0.        , 0.        ],\n",
       "       [0.        , 0.14635102, 0.        , 0.23753619, 0.        ,\n",
       "        0.        , 0.4664514 , 0.        , 0.        , 0.6143749 ],\n",
       "       [0.2653583 , 0.        , 0.        , 0.25248948, 0.        ,\n",
       "        0.        , 0.06576658, 0.9888273 , 0.        , 0.        ],\n",
       "       [0.        , 0.        , 0.        , 0.4100118 , 0.5066825 ,\n",
       "        0.9791499 , 0.        , 0.9839119 , 0.        , 0.        ],\n",
       "       [0.2264393 , 0.95835906, 0.        , 0.8496141 , 0.        ,\n",
       "        0.        , 0.        , 0.6683453 , 0.        , 0.        ],\n",
       "       [0.10093832, 0.        , 0.        , 0.        , 0.6630357 ,\n",
       "        0.19981535, 0.        , 0.        , 0.        , 0.60982734],\n",
       "       [0.        , 0.65042835, 0.        , 0.        , 0.29258844,\n",
       "        0.        , 0.        , 0.7358039 , 0.        , 0.17556284],\n",
       "       [0.        , 0.        , 0.17079917, 0.13851656, 0.9781894 ,\n",
       "        0.0680179 , 0.        , 0.        , 0.        , 0.        ],\n",
       "       [0.        , 0.        , 0.        , 0.        , 0.3358856 ,\n",
       "        0.79898566, 0.48625088, 0.        , 0.        , 0.5448863 ]],\n",
       "      dtype=float32)"
      ]
     },
     "execution_count": 575,
     "metadata": {},
     "output_type": "execute_result"
    }
   ],
   "source": [
    "b"
   ]
  },
  {
   "cell_type": "code",
   "execution_count": 576,
   "id": "41f27983",
   "metadata": {},
   "outputs": [
    {
     "data": {
      "text/plain": [
       "array([[2.05889988, 1.86816645, 4.81181717, 2.25293875, 2.10965443,\n",
       "        1.3379606 , 2.90000367, 2.04914141, 2.58978033, 1.50316036],\n",
       "       [2.73214602, 2.55654955, 3.71485209, 1.96740305, 2.78127933,\n",
       "        3.90701485, 3.27775383, 2.29690385, 1.92299247, 2.65563965],\n",
       "       [1.92874503, 3.16009569, 2.65028286, 1.81787264, 3.2470448 ,\n",
       "        2.28542805, 2.63659263, 2.51668644, 1.07090104, 2.06057048],\n",
       "       [1.06318498, 4.17379856, 2.22772551, 1.25156748, 4.18276644,\n",
       "        1.29158247, 1.3805095 , 3.41988373, 1.02567685, 2.77550673],\n",
       "       [1.18339908, 1.85575962, 3.05342436, 1.07224607, 3.49056172,\n",
       "        1.643646  , 3.45331311, 3.8086679 , 0.65044206, 2.05637264],\n",
       "       [1.04616213, 3.55668378, 3.21012974, 1.57240605, 2.28090835,\n",
       "        1.85009015, 1.33866227, 4.39697981, 1.56214321, 1.77257848],\n",
       "       [1.51664436, 2.50481415, 1.34177089, 3.52348685, 2.7652483 ,\n",
       "        1.13953555, 2.25747991, 4.70517206, 2.24308538, 1.81945622],\n",
       "       [1.69079041, 2.32836771, 1.78949928, 2.18472648, 2.85510015,\n",
       "        0.79378396, 1.79649365, 3.54712319, 1.96256435, 1.36571538],\n",
       "       [1.21413743, 2.98775339, 3.10181856, 3.6299789 , 3.64879417,\n",
       "        1.808532  , 2.6615262 , 3.38018537, 2.19415474, 2.00628471],\n",
       "       [2.04916787, 3.84422541, 5.25903749, 2.6086452 , 2.52041268,\n",
       "        2.84581494, 2.08972192, 2.03660011, 1.84936869, 2.00203204],\n",
       "       [1.45388532, 3.52396989, 3.42697096, 0.94891644, 3.40880156,\n",
       "        1.82624102, 2.60293674, 2.04180241, 2.18476319, 0.74823964],\n",
       "       [2.13862824, 2.7081461 , 1.74243903, 2.36669898, 2.55556989,\n",
       "        1.021245  , 2.8354404 , 3.12611842, 1.64276695, 1.49172533],\n",
       "       [2.28659916, 3.96091747, 3.35846281, 2.93365884, 2.45915508,\n",
       "        2.25237751, 2.6474359 , 0.89587307, 2.01109529, 2.10630918],\n",
       "       [1.99667883, 2.92623019, 4.87788725, 1.22087121, 3.41928959,\n",
       "        2.34876275, 2.95600152, 1.51070964, 1.5358572 , 1.53159881],\n",
       "       [0.48399195, 2.16732454, 2.29685879, 2.77749729, 2.59660983,\n",
       "        3.48321772, 2.69039106, 4.09173536, 0.23865944, 2.9819653 ],\n",
       "       [2.09547639, 2.43079424, 3.45584178, 2.98961782, 1.52310562,\n",
       "        3.42284203, 3.31507182, 3.50517249, 2.16534472, 3.11341858],\n",
       "       [1.5846765 , 2.6610229 , 2.47696686, 3.47096395, 1.44318354,\n",
       "        2.39992619, 3.90113449, 3.24853802, 1.42476261, 1.26029348],\n",
       "       [0.49207467, 2.32539701, 2.28158855, 2.26960659, 3.33331561,\n",
       "        2.43498778, 2.05144072, 3.22464967, 1.61710417, 1.60737669],\n",
       "       [2.53753376, 2.48177147, 2.63684678, 2.05690932, 4.39294624,\n",
       "        1.48624027, 3.49397421, 2.23327565, 1.77373624, 1.76182437],\n",
       "       [2.06782365, 1.88366938, 1.33645391, 1.74252462, 2.38986182,\n",
       "        1.15661955, 2.62855911, 3.65021563, 2.12129402, 1.31996858],\n",
       "       [1.8444016 , 2.24616122, 3.21519399, 3.84321165, 2.23981643,\n",
       "        1.82693553, 4.41473198, 3.72314596, 0.50411344, 2.14350224],\n",
       "       [2.6537714 , 1.17325354, 3.00798154, 2.59040356, 3.04747152,\n",
       "        1.8404907 , 2.62613416, 1.13049936, 1.87763941, 0.85143405],\n",
       "       [0.63378829, 3.3086834 , 1.45307839, 2.515975  , 3.50477862,\n",
       "        1.15534389, 2.82539153, 3.52667999, 1.04326797, 2.32988262],\n",
       "       [1.32871222, 2.5962925 , 1.91946459, 1.89676547, 5.31021118,\n",
       "        2.86852503, 3.07693768, 1.75884128, 0.40501967, 2.92071223],\n",
       "       [0.84001321, 2.09943461, 2.14601922, 1.59919989, 2.23639226,\n",
       "        1.54886544, 3.22486281, 1.79088604, 0.71134549, 2.63080835],\n",
       "       [0.95923513, 2.47990274, 2.59393334, 3.68367243, 2.63144565,\n",
       "        2.46464014, 3.5725472 , 3.20109987, 1.1519556 , 1.66216505],\n",
       "       [0.8192116 , 1.82723117, 1.79568124, 1.82968462, 2.99646425,\n",
       "        2.27581954, 2.3479476 , 2.82430243, 1.13621247, 2.88534355],\n",
       "       [3.62040234, 1.99681151, 1.74900854, 2.94692588, 3.12176991,\n",
       "        2.23573589, 5.28509855, 1.57266247, 1.45820665, 1.25138068],\n",
       "       [1.03277016, 2.8972733 , 2.67078543, 1.65545034, 3.82212543,\n",
       "        2.02195573, 2.44196773, 3.92957735, 1.28237152, 1.25125289],\n",
       "       [1.92872703, 1.50453246, 3.31437445, 3.71006513, 3.04153919,\n",
       "        1.8443445 , 2.06362629, 2.32768703, 1.26170003, 1.08130503],\n",
       "       [1.5923332 , 3.81627297, 3.05205464, 0.91595441, 4.55261135,\n",
       "        1.9873203 , 2.46067786, 2.26720333, 0.90689081, 1.96207857],\n",
       "       [1.00445509, 3.29462194, 1.94454765, 3.21318555, 3.77436352,\n",
       "        2.93665981, 3.03284836, 2.7435503 , 1.2155869 , 0.95832437]])"
      ]
     },
     "execution_count": 576,
     "metadata": {},
     "output_type": "execute_result"
    }
   ],
   "source": [
    "res_np"
   ]
  },
  {
   "cell_type": "code",
   "execution_count": 577,
   "id": "c380f684",
   "metadata": {},
   "outputs": [
    {
     "data": {
      "text/plain": [
       "array([[2.0588999 , 1.8681664 , 4.811817  , 2.2529387 , 2.1096544 ,\n",
       "        1.3379606 , 2.9000037 , 2.0491414 , 2.5897803 , 1.5031604 ],\n",
       "       [2.732146  , 2.5565495 , 3.714852  , 1.967403  , 2.7812793 ,\n",
       "        3.9070148 , 3.2777538 , 2.2969038 , 1.9229925 , 2.6556396 ],\n",
       "       [1.928745  , 3.1600957 , 2.6502829 , 1.8178726 , 3.2470448 ,\n",
       "        2.285428  , 2.6365926 , 2.5166864 , 1.070901  , 2.0605705 ],\n",
       "       [1.063185  , 4.1737986 , 2.2277255 , 1.2515675 , 4.1827664 ,\n",
       "        1.2915825 , 1.3805095 , 3.4198837 , 1.0256768 , 2.7755067 ],\n",
       "       [1.1833991 , 1.8557596 , 3.0534244 , 1.0722461 , 3.4905617 ,\n",
       "        1.643646  , 3.453313  , 3.808668  , 0.65044206, 2.0563726 ],\n",
       "       [1.0461621 , 3.5566838 , 3.2101297 , 1.572406  , 2.2809083 ,\n",
       "        1.8500901 , 1.3386623 , 4.39698   , 1.5621432 , 1.7725785 ],\n",
       "       [1.5166444 , 2.5048141 , 1.3417709 , 3.5234869 , 2.7652483 ,\n",
       "        1.1395355 , 2.25748   , 4.705172  , 2.2430854 , 1.8194562 ],\n",
       "       [1.6907904 , 2.3283677 , 1.7894993 , 2.1847265 , 2.8551002 ,\n",
       "        0.79378396, 1.7964936 , 3.5471232 , 1.9625643 , 1.3657154 ],\n",
       "       [1.2141374 , 2.9877534 , 3.1018186 , 3.629979  , 3.6487942 ,\n",
       "        1.808532  , 2.6615262 , 3.3801854 , 2.1941547 , 2.0062847 ],\n",
       "       [2.0491679 , 3.8442254 , 5.2590375 , 2.6086452 , 2.5204127 ,\n",
       "        2.845815  , 2.089722  , 2.0366    , 1.8493687 , 2.002032  ],\n",
       "       [1.4538853 , 3.52397   , 3.426971  , 0.94891644, 3.4088016 ,\n",
       "        1.826241  , 2.6029367 , 2.0418024 , 2.1847632 , 0.74823964],\n",
       "       [2.1386282 , 2.708146  , 1.742439  , 2.366699  , 2.55557   ,\n",
       "        1.021245  , 2.8354404 , 3.1261184 , 1.642767  , 1.4917253 ],\n",
       "       [2.2865992 , 3.9609175 , 3.3584628 , 2.9336588 , 2.459155  ,\n",
       "        2.2523775 , 2.647436  , 0.89587307, 2.0110953 , 2.1063092 ],\n",
       "       [1.9966788 , 2.9262302 , 4.8778872 , 1.2208712 , 3.4192896 ,\n",
       "        2.3487628 , 2.9560015 , 1.5107096 , 1.5358572 , 1.5315988 ],\n",
       "       [0.48399195, 2.1673245 , 2.2968588 , 2.7774973 , 2.5966098 ,\n",
       "        3.4832177 , 2.690391  , 4.0917354 , 0.23865944, 2.9819653 ],\n",
       "       [2.0954764 , 2.4307942 , 3.4558418 , 2.9896178 , 1.5231056 ,\n",
       "        3.422842  , 3.3150718 , 3.5051725 , 2.1653447 , 3.1134186 ],\n",
       "       [1.5846765 , 2.661023  , 2.4769669 , 3.470964  , 1.4431835 ,\n",
       "        2.3999262 , 3.9011345 , 3.248538  , 1.4247626 , 1.2602935 ],\n",
       "       [0.49207467, 2.325397  , 2.2815886 , 2.2696066 , 3.3333156 ,\n",
       "        2.4349878 , 2.0514407 , 3.2246497 , 1.6171042 , 1.6073767 ],\n",
       "       [2.5375338 , 2.4817715 , 2.6368468 , 2.0569093 , 4.3929462 ,\n",
       "        1.4862403 , 3.4939742 , 2.2332757 , 1.7737362 , 1.7618244 ],\n",
       "       [2.0678236 , 1.8836694 , 1.3364539 , 1.7425246 , 2.3898618 ,\n",
       "        1.1566195 , 2.628559  , 3.6502156 , 2.121294  , 1.3199686 ],\n",
       "       [1.8444016 , 2.2461612 , 3.215194  , 3.8432117 , 2.2398164 ,\n",
       "        1.8269355 , 4.414732  , 3.723146  , 0.50411344, 2.1435022 ],\n",
       "       [2.6537714 , 1.1732535 , 3.0079815 , 2.5904036 , 3.0474715 ,\n",
       "        1.8404907 , 2.6261342 , 1.1304994 , 1.8776394 , 0.85143405],\n",
       "       [0.6337883 , 3.3086834 , 1.4530784 , 2.515975  , 3.5047786 ,\n",
       "        1.1553439 , 2.8253915 , 3.52668   , 1.043268  , 2.3298826 ],\n",
       "       [1.3287122 , 2.5962925 , 1.9194646 , 1.8967655 , 5.310211  ,\n",
       "        2.868525  , 3.0769377 , 1.7588413 , 0.40501967, 2.9207122 ],\n",
       "       [0.84001315, 2.0994346 , 2.1460192 , 1.5992    , 2.236392  ,\n",
       "        1.5488653 , 3.224863  , 1.7908863 , 0.7113455 , 2.6308084 ],\n",
       "       [0.9592351 , 2.4799027 , 2.593933  , 3.6836722 , 2.6314456 ,\n",
       "        2.4646401 , 3.572547  , 3.2011003 , 1.1519556 , 1.662165  ],\n",
       "       [0.8192115 , 1.8272312 , 1.7956815 , 1.8296847 , 2.9964643 ,\n",
       "        2.2758198 , 2.3479474 , 2.8243022 , 1.1362125 , 2.8853436 ],\n",
       "       [3.6204023 , 1.9968116 , 1.7490085 , 2.9469256 , 3.12177   ,\n",
       "        2.235736  , 5.2850986 , 1.5726624 , 1.4582067 , 1.2513807 ],\n",
       "       [1.0327702 , 2.8972735 , 2.6707854 , 1.6554506 , 3.8221254 ,\n",
       "        2.0219557 , 2.4419675 , 3.9295774 , 1.2823715 , 1.2512529 ],\n",
       "       [1.9287269 , 1.5045323 , 3.3143744 , 3.7100654 , 3.0415392 ,\n",
       "        1.8443446 , 2.0636263 , 2.3276868 , 1.2617    , 1.081305  ],\n",
       "       [1.5923332 , 3.8162732 , 3.0520544 , 0.9159544 , 4.5526114 ,\n",
       "        1.9873202 , 2.4606779 , 2.2672033 , 0.9068908 , 1.9620786 ],\n",
       "       [1.0044551 , 3.2946215 , 1.9445477 , 3.2131855 , 3.7743635 ,\n",
       "        2.93666   , 3.0328484 , 2.7435503 , 1.2155869 , 0.9583244 ]],\n",
       "      dtype=float32)"
      ]
     },
     "execution_count": 577,
     "metadata": {},
     "output_type": "execute_result"
    }
   ],
   "source": [
    "a.dot(b)"
   ]
  },
  {
   "cell_type": "code",
   "execution_count": 578,
   "id": "78f07b53",
   "metadata": {},
   "outputs": [
    {
     "data": {
      "text/plain": [
       "array([[ True,  True,  True,  True,  True,  True,  True,  True,  True,\n",
       "         True],\n",
       "       [ True,  True,  True,  True,  True,  True,  True,  True,  True,\n",
       "         True],\n",
       "       [ True,  True,  True,  True,  True,  True,  True,  True,  True,\n",
       "         True],\n",
       "       [ True,  True,  True,  True,  True,  True,  True,  True,  True,\n",
       "         True],\n",
       "       [ True,  True,  True,  True,  True,  True,  True,  True,  True,\n",
       "         True],\n",
       "       [ True,  True,  True,  True,  True,  True,  True,  True,  True,\n",
       "         True],\n",
       "       [ True,  True,  True,  True,  True,  True,  True,  True,  True,\n",
       "         True],\n",
       "       [ True,  True,  True,  True,  True,  True,  True,  True,  True,\n",
       "         True],\n",
       "       [ True,  True,  True,  True,  True,  True,  True,  True,  True,\n",
       "         True],\n",
       "       [ True,  True,  True,  True,  True,  True,  True,  True,  True,\n",
       "         True],\n",
       "       [ True,  True,  True,  True,  True,  True,  True,  True,  True,\n",
       "         True],\n",
       "       [ True,  True,  True,  True,  True,  True,  True,  True,  True,\n",
       "         True],\n",
       "       [ True,  True,  True,  True,  True,  True,  True,  True,  True,\n",
       "         True],\n",
       "       [ True,  True,  True,  True,  True,  True,  True,  True,  True,\n",
       "         True],\n",
       "       [ True,  True,  True,  True,  True,  True,  True,  True,  True,\n",
       "         True],\n",
       "       [ True,  True,  True,  True,  True,  True,  True,  True,  True,\n",
       "         True],\n",
       "       [ True,  True,  True,  True,  True,  True,  True,  True,  True,\n",
       "         True],\n",
       "       [ True,  True,  True,  True,  True,  True,  True,  True,  True,\n",
       "         True],\n",
       "       [ True,  True,  True,  True,  True,  True,  True,  True,  True,\n",
       "         True],\n",
       "       [ True,  True,  True,  True,  True,  True,  True,  True,  True,\n",
       "         True],\n",
       "       [ True,  True,  True,  True,  True,  True,  True,  True,  True,\n",
       "         True],\n",
       "       [ True,  True,  True,  True,  True,  True,  True,  True,  True,\n",
       "         True],\n",
       "       [ True,  True,  True,  True,  True,  True,  True,  True,  True,\n",
       "         True],\n",
       "       [ True,  True,  True,  True,  True,  True,  True,  True,  True,\n",
       "         True],\n",
       "       [False,  True,  True, False, False, False, False, False,  True,\n",
       "         True],\n",
       "       [False,  True, False, False,  True,  True, False, False,  True,\n",
       "         True],\n",
       "       [False,  True, False, False,  True, False, False, False,  True,\n",
       "         True],\n",
       "       [ True, False,  True, False,  True,  True,  True, False,  True,\n",
       "         True],\n",
       "       [ True, False,  True, False,  True,  True, False,  True,  True,\n",
       "         True],\n",
       "       [False, False,  True, False,  True, False,  True, False,  True,\n",
       "         True],\n",
       "       [ True, False, False,  True,  True, False,  True,  True,  True,\n",
       "         True],\n",
       "       [ True, False,  True,  True,  True, False,  True,  True,  True,\n",
       "         True]])"
      ]
     },
     "execution_count": 578,
     "metadata": {},
     "output_type": "execute_result"
    }
   ],
   "source": [
    "res_np==mult"
   ]
  },
  {
   "cell_type": "code",
   "execution_count": 579,
   "id": "d6edb30d",
   "metadata": {},
   "outputs": [
    {
     "data": {
      "text/plain": [
       "(32, 10)"
      ]
     },
     "execution_count": 579,
     "metadata": {},
     "output_type": "execute_result"
    }
   ],
   "source": [
    "res_np.shape"
   ]
  },
  {
   "cell_type": "code",
   "execution_count": 580,
   "id": "191666bc",
   "metadata": {},
   "outputs": [
    {
     "data": {
      "text/plain": [
       "(32, 10)"
      ]
     },
     "execution_count": 580,
     "metadata": {},
     "output_type": "execute_result"
    }
   ],
   "source": [
    "mult.shape"
   ]
  },
  {
   "cell_type": "markdown",
   "id": "c441f4d4",
   "metadata": {},
   "source": [
    "# Matmult Transposed Dense (SPR-T OUT NEW)"
   ]
  },
  {
   "cell_type": "code",
   "execution_count": 581,
   "id": "d7d9fb8b",
   "metadata": {},
   "outputs": [],
   "source": [
    "c=np.zeros(a.T.shape)\n",
    "at = a.T\n",
    "for row in range(at.shape[0]):\n",
    "    for col in range(at.shape[1]):\n",
    "        c[row][col] = at[row][col]"
   ]
  },
  {
   "cell_type": "code",
   "execution_count": 582,
   "id": "1bc9284f",
   "metadata": {},
   "outputs": [],
   "source": [
    "a_buf = cl.Buffer(ctx, mf.READ_WRITE | mf.COPY_HOST_PTR, hostbuf=c.astype(np.float32))\n",
    "b_buf = cl.Buffer(ctx, mf.READ_WRITE | mf.COPY_HOST_PTR, hostbuf=b)\n",
    "\n",
    "prg = cl.Program(ctx, \"\"\"\n",
    "    // multilplies x TRANSPOSED by y (dense-dense)\n",
    "    __kernel void matmul0t(__global  float* x,      // INPUT MATRIX DATA\n",
    "                          __global  float* y,      // INPUT\n",
    "                          __global  uint* xidx,   // INPUT YIDX\n",
    "                          __global  uint* yidx,   // INPUT YIDX\n",
    "                          __global  float* resdata,// OUT\n",
    "                          __global  uint*  rescols,\n",
    "                          __global  uint*  resnnzs,\n",
    "                          uint topky,\n",
    "                          uint ellw,\n",
    "                          uint isize,\n",
    "                          uint msize,\n",
    "                          uint osize\n",
    "                          ) { // LOCAL SHARED BUFFER\n",
    "      uint topkx = get_global_size(0);\n",
    "      uint gidy = xidx[get_global_id(0)]; // row\n",
    "      \n",
    "      for (uint gidx0 = 0; gidx0 < topky; gidx0++) {\n",
    "        uint gidx = yidx[gidx0];\n",
    "        float ret = 0.0;\n",
    "        uint i;\n",
    "        for (i = 0; i < msize; i++) {\n",
    "          uint xidx = i*isize+gidx;\n",
    "          float xval = x[xidx];\n",
    "          uint yidx = osize*i+gidy;\n",
    "          float yval = y[yidx];\n",
    "          ret += xval*yval;\n",
    "          if (gidx==0 && gidy==0)\n",
    "            printf(\"\\\\nmult: %.2f x %.2f - %.2f  -- %i/%i\", xval, yval, ret, gidx, gidy,i);\n",
    "        }\n",
    "        //if (gidx==0&&gidy==0)\n",
    "        //  printf(\"\\\\nsum:%.2f\", ret);\n",
    "        \n",
    "        // add for \n",
    "        uint nnz = resnnzs[gidx];\n",
    "        for (i = 0; i < nnz; i++) {\n",
    "          if (rescols[i] >= gidy) {\n",
    "            break;\n",
    "          }\n",
    "          for (uint j = nnz; j >= i; j--) {\n",
    "            //resdata[j+1] = resdata[j];\n",
    "          }\n",
    "        }\n",
    "        resdata[gidy * ellw + gidx0] = ret;\n",
    "        rescols[gidy * ellw + gidx0] = gidx;\n",
    "        resnnzs[gidy] += 1;\n",
    "      }\n",
    "    }\"\"\").build()"
   ]
  },
  {
   "cell_type": "code",
   "execution_count": 583,
   "id": "b06030bd",
   "metadata": {},
   "outputs": [
    {
     "data": {
      "text/plain": [
       "((32, 64), (64, 10))"
      ]
     },
     "execution_count": 583,
     "metadata": {},
     "output_type": "execute_result"
    }
   ],
   "source": [
    "a.shape, b.shape"
   ]
  },
  {
   "cell_type": "code",
   "execution_count": 584,
   "id": "657566ee",
   "metadata": {},
   "outputs": [],
   "source": [
    "rows = a.shape[0]\n",
    "cols = b.shape[1]"
   ]
  },
  {
   "cell_type": "code",
   "execution_count": 585,
   "id": "73cbeb9f",
   "metadata": {},
   "outputs": [
    {
     "data": {
      "text/plain": [
       "(32, 10)"
      ]
     },
     "execution_count": 585,
     "metadata": {},
     "output_type": "execute_result"
    }
   ],
   "source": [
    "mult = mult.astype(np.float32)\n",
    "mult.shape"
   ]
  },
  {
   "cell_type": "code",
   "execution_count": 586,
   "id": "84c055d6",
   "metadata": {},
   "outputs": [
    {
     "data": {
      "text/plain": [
       "<pyopencl._cl.NannyEvent at 0x7ff154110d10>"
      ]
     },
     "execution_count": 586,
     "metadata": {},
     "output_type": "execute_result"
    },
    {
     "name": "stdout",
     "output_type": "stream",
     "text": [
      "\n",
      "mult: 0.82 x 0.94 - 0.77  -- 0/0\n",
      "mult: 0.00 x 0.00 - 0.77  -- 0/0\n",
      "mult: 0.00 x 0.00 - 0.77  -- 0/0\n",
      "mult: 0.48 x 0.00 - 0.77  -- 0/0\n",
      "mult: 0.91 x 0.00 - 0.77  -- 0/0\n",
      "mult: 0.00 x 0.00 - 0.77  -- 0/0\n",
      "mult: 0.00 x 0.00 - 0.77  -- 0/0\n",
      "mult: 0.88 x 0.31 - 1.05  -- 0/0\n",
      "mult: 0.00 x 0.11 - 1.05  -- 0/0\n",
      "mult: 0.00 x 0.07 - 1.05  -- 0/0\n",
      "mult: 0.00 x 0.00 - 1.05  -- 0/0\n",
      "mult: 0.87 x 0.16 - 1.19  -- 0/0\n",
      "mult: 0.00 x 0.00 - 1.19  -- 0/0\n",
      "mult: 0.00 x 0.64 - 1.19  -- 0/0\n",
      "mult: 0.26 x 0.50 - 1.32  -- 0/0\n",
      "mult: 0.36 x 0.00 - 1.32  -- 0/0\n",
      "mult: 0.00 x 0.00 - 1.32  -- 0/0\n",
      "mult: 0.41 x 0.00 - 1.32  -- 0/0\n",
      "mult: 0.00 x 0.00 - 1.32  -- 0/0\n",
      "mult: 0.00 x 0.00 - 1.32  -- 0/0\n",
      "mult: 0.62 x 0.18 - 1.43  -- 0/0\n",
      "mult: 0.47 x 0.00 - 1.43  -- 0/0\n",
      "mult: 0.00 x 0.00 - 1.43  -- 0/0\n",
      "mult: 0.00 x 0.00 - 1.43  -- 0/0\n",
      "mult: 0.00 x 0.00 - 1.43  -- 0/0\n",
      "mult: 0.00 x 0.00 - 1.43  -- 0/0\n",
      "mult: 0.00 x 0.00 - 1.43  -- 0/0\n",
      "mult: 0.00 x 0.00 - 1.43  -- 0/0\n",
      "mult: 0.22 x 0.43 - 1.53  -- 0/0\n",
      "mult: 0.59 x 0.12 - 1.60  -- 0/0\n",
      "mult: 0.00 x 0.00 - 1.60  -- 0/0\n",
      "mult: 0.44 x 0.00 - 1.60  -- 0/0\n",
      "mult: 0.47 x 0.00 - 1.60  -- 0/0\n",
      "mult: 0.69 x 0.61 - 2.02  -- 0/0\n",
      "mult: 0.00 x 0.41 - 2.02  -- 0/0\n",
      "mult: 0.00 x 0.83 - 2.02  -- 0/0\n",
      "mult: 0.38 x 0.05 - 2.04  -- 0/0\n",
      "mult: 0.81 x 0.00 - 2.04  -- 0/0\n",
      "mult: 0.98 x 0.00 - 2.04  -- 0/0\n",
      "mult: 0.45 x 0.05 - 2.06  -- 0/0\n",
      "mult: 0.00 x 0.00 - 2.06  -- 0/0\n",
      "mult: 0.00 x 0.00 - 2.06  -- 0/0\n",
      "mult: 0.29 x 0.00 - 2.06  -- 0/0\n",
      "mult: 0.00 x 0.00 - 2.06  -- 0/0\n",
      "mult: 0.04 x 0.00 - 2.06  -- 0/0\n",
      "mult: 0.00 x 0.63 - 2.06  -- 0/0\n",
      "mult: 0.28 x 0.00 - 2.06  -- 0/0\n",
      "mult: 0.00 x 0.00 - 2.06  -- 0/0\n",
      "mult: 0.00 x 0.69 - 2.06  -- 0/0\n",
      "mult: 0.00 x 0.99 - 2.06  -- 0/0\n",
      "mult: 0.42 x 0.00 - 2.06  -- 0/0\n",
      "mult: 0.00 x 0.00 - 2.06  -- 0/0\n",
      "mult: 0.00 x 0.00 - 2.06  -- 0/0\n",
      "mult: 0.00 x 0.00 - 2.06  -- 0/0\n",
      "mult: 0.39 x 0.00 - 2.06  -- 0/0\n",
      "mult: 0.00 x 0.00 - 2.06  -- 0/0\n",
      "mult: 0.00 x 0.00 - 2.06  -- 0/0\n",
      "mult: 0.00 x 0.27 - 2.06  -- 0/0\n",
      "mult: 0.00 x 0.00 - 2.06  -- 0/0\n",
      "mult: 0.00 x 0.23 - 2.06  -- 0/0\n",
      "mult: 0.00 x 0.10 - 2.06  -- 0/0\n",
      "mult: 0.23 x 0.00 - 2.06  -- 0/0\n",
      "mult: 0.00 x 0.00 - 2.06  -- 0/0\n",
      "mult: 0.00 x 0.00 - 2.06  -- 0/0"
     ]
    }
   ],
   "source": [
    "resdatat_buf = cl.Buffer(ctx, mf.READ_WRITE, np.prod([cols,topky])*4)\n",
    "rescolst_buf = cl.Buffer(ctx, mf.READ_WRITE, np.prod([cols,topky])*4)\n",
    "resnnzst_buf = cl.Buffer(ctx, mf.READ_WRITE | mf.COPY_HOST_PTR, hostbuf=np.zeros(cols))\n",
    "\n",
    "knl = prg.matmul0t  # Use this Kernel object for repeated calls\n",
    "knl(queue, [topkx], None, a_buf, b_buf, xs_idx_buf, ys_idx_buf, resdatat_buf, rescolst_buf, resnnzst_buf, np.uint32(topky), np.uint32(topky), np.uint32(a.shape[0]), np.uint32(a.shape[1]), np.uint32(b.shape[1]))\n",
    "\n",
    "resdatat = np.zeros(cols*topky).astype(np.float32)\n",
    "rescolst = np.zeros(cols*topky).astype(np.uint32)\n",
    "resnnzst = np.zeros(cols).astype(np.uint32)\n",
    "cl.enqueue_copy(queue, resdatat, resdatat_buf)\n",
    "cl.enqueue_copy(queue, rescolst, rescolst_buf)\n",
    "cl.enqueue_copy(queue, resnnzst, resnnzst_buf)"
   ]
  },
  {
   "cell_type": "code",
   "execution_count": 587,
   "id": "90bb239f",
   "metadata": {},
   "outputs": [
    {
     "data": {
      "text/plain": [
       "array([[0.82272685, 0.        , 0.        , ..., 0.22595333, 0.        ,\n",
       "        0.        ],\n",
       "       [0.57626116, 0.2289813 , 0.16428949, ..., 0.27008578, 0.        ,\n",
       "        0.9652075 ],\n",
       "       [0.        , 0.48130327, 0.        , ..., 0.        , 0.12290299,\n",
       "        0.        ],\n",
       "       ...,\n",
       "       [0.8716895 , 0.10489579, 0.        , ..., 0.        , 0.39542586,\n",
       "        0.        ],\n",
       "       [0.        , 0.        , 0.        , ..., 0.5132175 , 0.9358725 ,\n",
       "        0.37984058],\n",
       "       [0.        , 0.6832084 , 0.9385753 , ..., 0.02876937, 0.        ,\n",
       "        0.        ]], dtype=float32)"
      ]
     },
     "execution_count": 587,
     "metadata": {},
     "output_type": "execute_result"
    }
   ],
   "source": [
    "a"
   ]
  },
  {
   "cell_type": "code",
   "execution_count": 588,
   "id": "2537e007",
   "metadata": {},
   "outputs": [
    {
     "data": {
      "text/plain": [
       "array([[0.9414536 , 0.        , 0.        , 0.        , 0.        ,\n",
       "        0.        , 0.        , 0.31479523, 0.11005293, 0.06780045,\n",
       "        0.        , 0.16214237, 0.        , 0.6445239 , 0.50232446,\n",
       "        0.        , 0.        , 0.        , 0.        , 0.        ,\n",
       "        0.17604527, 0.        , 0.        , 0.        , 0.        ,\n",
       "        0.        , 0.        , 0.        , 0.42811713, 0.11871076,\n",
       "        0.        , 0.        , 0.        , 0.6127449 , 0.41137826,\n",
       "        0.82947165, 0.04573116, 0.        , 0.        , 0.04850706,\n",
       "        0.        , 0.        , 0.        , 0.        , 0.        ,\n",
       "        0.6346003 , 0.        , 0.        , 0.69351566, 0.9864582 ,\n",
       "        0.        , 0.        , 0.        , 0.        , 0.        ,\n",
       "        0.        , 0.        , 0.2653583 , 0.        , 0.2264393 ,\n",
       "        0.10093832, 0.        , 0.        , 0.        ],\n",
       "       [0.        , 0.        , 0.03283854, 0.        , 0.01996238,\n",
       "        0.        , 0.2878976 , 0.40940058, 0.5290864 , 0.03890254,\n",
       "        0.7218774 , 0.        , 0.6727114 , 0.8689898 , 0.        ,\n",
       "        0.3043906 , 0.6158326 , 0.        , 0.17614561, 0.        ,\n",
       "        0.        , 0.        , 0.        , 0.        , 0.        ,\n",
       "        0.5996785 , 0.41769058, 0.22088505, 0.        , 0.64951146,\n",
       "        0.        , 0.8829375 , 0.5526871 , 0.        , 0.45999953,\n",
       "        0.20491129, 0.        , 0.03375057, 0.        , 0.        ,\n",
       "        0.        , 0.        , 0.45209226, 0.09342512, 0.        ,\n",
       "        0.        , 0.14726698, 0.        , 0.        , 0.        ,\n",
       "        0.        , 0.        , 0.        , 0.84200877, 0.        ,\n",
       "        0.5960935 , 0.14635102, 0.        , 0.        , 0.95835906,\n",
       "        0.        , 0.65042835, 0.        , 0.        ],\n",
       "       [0.        , 0.14630048, 0.27791733, 0.33419287, 0.9816661 ,\n",
       "        0.        , 0.        , 0.        , 0.        , 0.        ,\n",
       "        0.40662676, 0.5265734 , 0.01572542, 0.78785294, 0.        ,\n",
       "        0.        , 0.        , 0.        , 0.4101668 , 0.        ,\n",
       "        0.        , 0.        , 0.        , 0.        , 0.        ,\n",
       "        0.        , 0.        , 0.        , 0.94115525, 0.19040094,\n",
       "        0.19905205, 0.89167756, 0.        , 0.01054911, 0.71848863,\n",
       "        0.        , 0.67741925, 0.934714  , 0.9567172 , 0.8573981 ,\n",
       "        0.        , 0.04344931, 0.7110872 , 0.        , 0.09824695,\n",
       "        0.        , 0.        , 0.        , 0.        , 0.        ,\n",
       "        0.09063595, 0.89167565, 0.        , 0.26646206, 0.        ,\n",
       "        0.3876133 , 0.        , 0.        , 0.        , 0.        ,\n",
       "        0.        , 0.        , 0.17079917, 0.        ],\n",
       "       [0.90892494, 0.24825948, 0.8543185 , 0.19840643, 0.        ,\n",
       "        0.        , 0.        , 0.        , 0.31983745, 0.        ,\n",
       "        0.18507701, 0.23904228, 0.        , 0.        , 0.        ,\n",
       "        0.        , 0.        , 0.        , 0.        , 0.9880747 ,\n",
       "        0.        , 0.        , 0.10942628, 0.21641734, 0.        ,\n",
       "        0.5246723 , 0.        , 0.        , 0.        , 0.        ,\n",
       "        0.        , 0.        , 0.70496935, 0.        , 0.        ,\n",
       "        0.        , 0.        , 0.        , 0.31415144, 0.        ,\n",
       "        0.7757434 , 0.08597016, 0.        , 0.        , 0.24463587,\n",
       "        0.00316491, 0.        , 0.58537555, 0.50371623, 0.        ,\n",
       "        0.8334261 , 0.05737644, 0.39566204, 0.        , 0.5096388 ,\n",
       "        0.68256104, 0.23753619, 0.25248948, 0.4100118 , 0.8496141 ,\n",
       "        0.        , 0.        , 0.13851656, 0.        ],\n",
       "       [0.        , 0.        , 0.        , 0.        , 0.        ,\n",
       "        0.49159616, 0.7058473 , 0.        , 0.        , 0.98146695,\n",
       "        0.        , 0.        , 0.44648495, 0.        , 0.        ,\n",
       "        0.2855941 , 0.        , 0.75643075, 0.        , 0.        ,\n",
       "        0.        , 0.23293144, 0.00130877, 0.        , 0.91353625,\n",
       "        0.        , 0.92990875, 0.        , 0.34584206, 0.        ,\n",
       "        0.66453385, 0.        , 0.        , 0.72773826, 0.        ,\n",
       "        0.47647813, 0.        , 0.5239845 , 0.        , 0.        ,\n",
       "        0.29974842, 0.        , 0.87557894, 0.22442254, 0.        ,\n",
       "        0.5720998 , 0.        , 0.12253232, 0.        , 0.        ,\n",
       "        0.        , 0.        , 0.        , 0.        , 0.694407  ,\n",
       "        0.        , 0.        , 0.        , 0.5066825 , 0.        ,\n",
       "        0.6630357 , 0.29258844, 0.9781894 , 0.3358856 ],\n",
       "       [0.        , 0.        , 0.        , 0.3856511 , 0.        ,\n",
       "        0.0810385 , 0.        , 0.        , 0.        , 0.8737231 ,\n",
       "        0.        , 0.        , 0.22174914, 0.        , 0.47040063,\n",
       "        0.        , 0.55754304, 0.        , 0.        , 0.7065452 ,\n",
       "        0.        , 0.2350415 , 0.        , 0.31724194, 0.        ,\n",
       "        0.        , 0.        , 0.8154559 , 0.        , 0.        ,\n",
       "        0.9441609 , 0.34762165, 0.        , 0.4128602 , 0.29980114,\n",
       "        0.        , 0.        , 0.        , 0.40333778, 0.        ,\n",
       "        0.47304207, 0.        , 0.        , 0.01690201, 0.        ,\n",
       "        0.        , 0.2944593 , 0.8452076 , 0.        , 0.1762971 ,\n",
       "        0.        , 0.1275051 , 0.        , 0.        , 0.        ,\n",
       "        0.        , 0.        , 0.        , 0.9791499 , 0.        ,\n",
       "        0.19981535, 0.        , 0.0680179 , 0.79898566],\n",
       "       [0.05297933, 0.        , 0.8433972 , 0.23348303, 0.        ,\n",
       "        0.64290637, 0.41645932, 0.49991104, 0.        , 0.        ,\n",
       "        0.        , 0.        , 0.        , 0.        , 0.        ,\n",
       "        0.45246527, 0.        , 0.        , 0.20147614, 0.602556  ,\n",
       "        0.        , 0.78704804, 0.        , 0.35538766, 0.7040352 ,\n",
       "        0.        , 0.22981252, 0.        , 0.        , 0.        ,\n",
       "        0.17658035, 0.        , 0.6193049 , 0.        , 0.        ,\n",
       "        0.39832172, 0.46088123, 0.9214213 , 0.1583537 , 0.23557614,\n",
       "        0.        , 0.660472  , 0.75961554, 0.        , 0.        ,\n",
       "        0.87135255, 0.28086743, 0.        , 0.9726071 , 0.55006534,\n",
       "        0.        , 0.        , 0.62646705, 0.23111221, 0.        ,\n",
       "        0.        , 0.4664514 , 0.06576658, 0.        , 0.        ,\n",
       "        0.        , 0.        , 0.        , 0.48625088],\n",
       "       [0.        , 0.7792777 , 0.        , 0.        , 0.5056456 ,\n",
       "        0.16045028, 0.44598925, 0.        , 0.57631195, 0.        ,\n",
       "        0.        , 0.        , 0.        , 0.        , 0.        ,\n",
       "        0.03966095, 0.8633621 , 0.42180747, 0.10142381, 0.48707104,\n",
       "        0.84334254, 0.        , 0.4094274 , 0.        , 0.52147955,\n",
       "        0.9170164 , 0.        , 0.23452929, 0.        , 0.        ,\n",
       "        0.        , 0.        , 0.        , 0.        , 0.        ,\n",
       "        0.        , 0.        , 0.        , 0.        , 0.44495046,\n",
       "        0.        , 0.9784147 , 0.        , 0.        , 0.32749644,\n",
       "        0.        , 0.        , 0.        , 0.7246852 , 0.        ,\n",
       "        0.26001835, 0.        , 0.12898347, 0.        , 0.9894679 ,\n",
       "        0.22186916, 0.        , 0.9888273 , 0.9839119 , 0.6683453 ,\n",
       "        0.        , 0.7358039 , 0.        , 0.        ],\n",
       "       [0.7021168 , 0.31232256, 0.        , 0.        , 0.        ,\n",
       "        0.        , 0.        , 0.79827386, 0.        , 0.        ,\n",
       "        0.05563454, 0.11824279, 0.        , 0.6352877 , 0.46875456,\n",
       "        0.        , 0.        , 0.95542496, 0.        , 0.        ,\n",
       "        0.8945855 , 0.        , 0.01082143, 0.        , 0.49268502,\n",
       "        0.47608244, 0.        , 0.        , 0.1731275 , 0.        ,\n",
       "        0.        , 0.02995267, 0.04075215, 0.        , 0.        ,\n",
       "        0.        , 0.        , 0.        , 0.        , 0.        ,\n",
       "        0.        , 0.        , 0.        , 0.        , 0.        ,\n",
       "        0.        , 0.25112677, 0.        , 0.        , 0.7705533 ,\n",
       "        0.        , 0.        , 0.02942246, 0.        , 0.        ,\n",
       "        0.        , 0.        , 0.        , 0.        , 0.        ,\n",
       "        0.        , 0.        , 0.        , 0.        ],\n",
       "       [0.        , 0.        , 0.        , 0.        , 0.01917347,\n",
       "        0.        , 0.        , 0.        , 0.        , 0.        ,\n",
       "        0.        , 0.        , 0.        , 0.        , 0.5505951 ,\n",
       "        0.        , 0.01719917, 0.1022128 , 0.        , 0.        ,\n",
       "        0.72915745, 0.20438819, 0.        , 0.46936178, 0.        ,\n",
       "        0.        , 0.23540662, 0.88327533, 0.        , 0.26224414,\n",
       "        0.        , 0.        , 0.        , 0.        , 0.        ,\n",
       "        0.        , 0.39439395, 0.        , 0.        , 0.        ,\n",
       "        0.97353226, 0.        , 0.        , 0.8055896 , 0.45531607,\n",
       "        0.        , 0.        , 0.54433316, 0.        , 0.        ,\n",
       "        0.27716133, 0.4685573 , 0.        , 0.09374874, 0.67805064,\n",
       "        0.        , 0.6143749 , 0.        , 0.        , 0.        ,\n",
       "        0.60982734, 0.17556284, 0.        , 0.5448863 ]], dtype=float32)"
      ]
     },
     "execution_count": 588,
     "metadata": {},
     "output_type": "execute_result"
    }
   ],
   "source": [
    "b.T"
   ]
  },
  {
   "cell_type": "code",
   "execution_count": 589,
   "id": "e4379bec",
   "metadata": {},
   "outputs": [
    {
     "data": {
      "text/plain": [
       "array([2.0588999 , 2.732146  , 1.928745  , 1.063185  , 1.1833991 ,\n",
       "       1.0461621 , 1.5166444 , 1.6907904 , 1.2141374 , 2.0491679 ,\n",
       "       1.4538853 , 2.1386282 , 2.2865992 , 1.9966788 , 0.48399195,\n",
       "       2.0954764 , 1.5846765 , 0.49207467, 2.5375338 , 2.0678236 ,\n",
       "       1.8444016 , 2.6537714 , 0.6337883 , 1.3287122 , 0.8400132 ,\n",
       "       0.95923513, 0.8192116 , 3.6204023 , 1.0327702 , 1.928727  ,\n",
       "       1.5923332 , 1.0044551 , 1.8681664 , 2.5565495 , 3.1600957 ,\n",
       "       4.1737986 , 1.8557596 , 3.5566838 , 2.5048141 , 2.3283677 ,\n",
       "       2.9877534 , 3.8442254 , 3.52397   , 2.708146  , 3.9609175 ,\n",
       "       2.9262302 , 2.1673245 , 2.4307942 , 2.661023  , 2.325397  ,\n",
       "       2.4817715 , 1.8836694 , 2.2461612 , 1.1732535 , 3.3086834 ,\n",
       "       2.5962925 , 2.0994346 , 2.4799027 , 1.8272312 , 1.9968115 ,\n",
       "       2.8972733 , 1.5045325 , 3.816273  , 3.294622  , 4.811817  ,\n",
       "       3.714852  , 2.6502829 , 2.2277255 , 3.0534244 , 3.2101297 ,\n",
       "       1.3417709 , 1.7894993 , 3.1018186 , 5.2590375 , 3.426971  ,\n",
       "       1.742439  , 3.3584628 , 4.8778872 , 2.2968588 , 3.4558418 ,\n",
       "       2.4769669 , 2.2815886 , 2.6368468 , 1.3364539 , 3.215194  ,\n",
       "       3.0079815 , 1.4530784 , 1.9194646 , 2.1460192 , 2.5939333 ,\n",
       "       1.7956812 , 1.7490085 , 2.6707854 , 3.3143744 , 3.0520546 ,\n",
       "       1.9445477 , 2.2529387 , 1.967403  , 1.8178726 , 1.2515675 ,\n",
       "       1.0722461 , 1.572406  , 3.5234869 , 2.1847265 , 3.629979  ,\n",
       "       2.6086452 , 0.94891644, 2.366699  , 2.9336588 , 1.2208712 ,\n",
       "       2.7774973 , 2.9896178 , 3.470964  , 2.2696066 , 2.0569093 ,\n",
       "       1.7425246 , 3.8432117 , 2.5904036 , 2.515975  , 1.8967655 ,\n",
       "       1.5991999 , 3.6836724 , 1.8296846 , 2.9469259 , 1.6554503 ,\n",
       "       3.7100651 , 0.9159544 , 3.2131855 , 2.1096544 , 2.7812793 ,\n",
       "       3.2470448 , 4.1827664 , 3.4905617 , 2.2809083 , 2.7652483 ,\n",
       "       2.8551002 , 3.6487942 , 2.5204127 , 3.4088016 , 2.55557   ,\n",
       "       2.459155  , 3.4192896 , 2.5966098 , 1.5231056 , 1.4431835 ,\n",
       "       3.3333156 , 4.3929462 , 2.3898618 , 2.2398164 , 3.0474715 ,\n",
       "       3.5047786 , 5.310211  , 2.2363923 , 2.6314456 , 2.9964643 ,\n",
       "       3.12177   , 3.8221254 , 3.0415392 , 4.5526114 , 3.7743635 ,\n",
       "       1.3379606 , 3.9070148 , 2.285428  , 1.2915825 , 1.643646  ,\n",
       "       1.8500901 , 1.1395355 , 0.79378396, 1.808532  , 2.845815  ,\n",
       "       1.826241  , 1.021245  , 2.2523775 , 2.3487628 , 3.4832177 ,\n",
       "       3.422842  , 2.3999262 , 2.4349878 , 1.4862403 , 1.1566195 ,\n",
       "       1.8269355 , 1.8404907 , 1.1553439 , 2.868525  , 1.5488654 ,\n",
       "       2.4646401 , 2.2758195 , 2.235736  , 2.0219557 , 1.8443445 ,\n",
       "       1.9873203 , 2.9366598 , 2.9000037 , 3.2777538 , 2.6365926 ,\n",
       "       1.3805095 , 3.453313  , 1.3386623 , 2.25748   , 1.7964936 ,\n",
       "       2.6615262 , 2.089722  , 2.6029367 , 2.8354404 , 2.647436  ,\n",
       "       2.9560015 , 2.690391  , 3.3150718 , 3.9011345 , 2.0514407 ,\n",
       "       3.4939742 , 2.628559  , 4.414732  , 2.6261342 , 2.8253915 ,\n",
       "       3.0769377 , 3.2248628 , 3.5725472 , 2.3479476 , 5.2850986 ,\n",
       "       2.4419677 , 2.0636263 , 2.4606779 , 3.0328484 , 2.0491414 ,\n",
       "       2.2969038 , 2.5166864 , 3.4198837 , 3.808668  , 4.39698   ,\n",
       "       4.705172  , 3.5471232 , 3.3801854 , 2.0366    , 2.0418024 ,\n",
       "       3.1261184 , 0.89587307, 1.5107096 , 4.0917354 , 3.5051725 ,\n",
       "       3.248538  , 3.2246497 , 2.2332757 , 3.6502156 , 3.723146  ,\n",
       "       1.1304994 , 3.52668   , 1.7588413 , 1.790886  , 3.2010999 ,\n",
       "       2.8243024 , 1.5726625 , 3.9295774 , 2.327687  , 2.2672033 ,\n",
       "       2.7435503 , 2.5897803 , 1.9229925 , 1.070901  , 1.0256768 ,\n",
       "       0.65044206, 1.5621432 , 2.2430854 , 1.9625643 , 2.1941547 ,\n",
       "       1.8493687 , 2.1847632 , 1.642767  , 2.0110953 , 1.5358572 ,\n",
       "       0.23865944, 2.1653447 , 1.4247626 , 1.6171042 , 1.7737362 ,\n",
       "       2.121294  , 0.50411344, 1.8776394 , 1.043268  , 0.40501967,\n",
       "       0.7113455 , 1.1519556 , 1.1362125 , 1.4582067 , 1.2823715 ,\n",
       "       1.2617    , 0.9068908 , 1.2155869 , 1.5031604 , 2.6556396 ,\n",
       "       2.0605705 , 2.7755067 , 2.0563726 , 1.7725785 , 1.8194562 ,\n",
       "       1.3657154 , 2.0062847 , 2.002032  , 0.74823964, 1.4917253 ,\n",
       "       2.1063092 , 1.5315988 , 2.9819653 , 3.1134186 , 1.2602935 ,\n",
       "       1.6073767 , 1.7618244 , 1.3199686 , 2.1435022 , 0.85143405,\n",
       "       2.3298826 , 2.9207122 , 2.6308084 , 1.662165  , 2.8853436 ,\n",
       "       1.2513807 , 1.2512529 , 1.081305  , 1.9620786 , 0.9583244 ],\n",
       "      dtype=float32)"
      ]
     },
     "execution_count": 589,
     "metadata": {},
     "output_type": "execute_result"
    }
   ],
   "source": [
    "resdatat"
   ]
  },
  {
   "cell_type": "code",
   "execution_count": 590,
   "id": "ade7d2b7",
   "metadata": {},
   "outputs": [
    {
     "data": {
      "text/plain": [
       "array([ 0,  1,  2,  3,  4,  5,  6,  7,  8,  9, 10, 11, 12, 13, 14, 15, 16,\n",
       "       17, 18, 19, 20, 21, 22, 23, 24, 25, 26, 27, 28, 29, 30, 31,  0,  1,\n",
       "        2,  3,  4,  5,  6,  7,  8,  9, 10, 11, 12, 13, 14, 15, 16, 17, 18,\n",
       "       19, 20, 21, 22, 23, 24, 25, 26, 27, 28, 29, 30, 31,  0,  1,  2,  3,\n",
       "        4,  5,  6,  7,  8,  9, 10, 11, 12, 13, 14, 15, 16, 17, 18, 19, 20,\n",
       "       21, 22, 23, 24, 25, 26, 27, 28, 29, 30, 31,  0,  1,  2,  3,  4,  5,\n",
       "        6,  7,  8,  9, 10, 11, 12, 13, 14, 15, 16, 17, 18, 19, 20, 21, 22,\n",
       "       23, 24, 25, 26, 27, 28, 29, 30, 31,  0,  1,  2,  3,  4,  5,  6,  7,\n",
       "        8,  9, 10, 11, 12, 13, 14, 15, 16, 17, 18, 19, 20, 21, 22, 23, 24,\n",
       "       25, 26, 27, 28, 29, 30, 31,  0,  1,  2,  3,  4,  5,  6,  7,  8,  9,\n",
       "       10, 11, 12, 13, 14, 15, 16, 17, 18, 19, 20, 21, 22, 23, 24, 25, 26,\n",
       "       27, 28, 29, 30, 31,  0,  1,  2,  3,  4,  5,  6,  7,  8,  9, 10, 11,\n",
       "       12, 13, 14, 15, 16, 17, 18, 19, 20, 21, 22, 23, 24, 25, 26, 27, 28,\n",
       "       29, 30, 31,  0,  1,  2,  3,  4,  5,  6,  7,  8,  9, 10, 11, 12, 13,\n",
       "       14, 15, 16, 17, 18, 19, 20, 21, 22, 23, 24, 25, 26, 27, 28, 29, 30,\n",
       "       31,  0,  1,  2,  3,  4,  5,  6,  7,  8,  9, 10, 11, 12, 13, 14, 15,\n",
       "       16, 17, 18, 19, 20, 21, 22, 23, 24, 25, 26, 27, 28, 29, 30, 31,  0,\n",
       "        1,  2,  3,  4,  5,  6,  7,  8,  9, 10, 11, 12, 13, 14, 15, 16, 17,\n",
       "       18, 19, 20, 21, 22, 23, 24, 25, 26, 27, 28, 29, 30, 31],\n",
       "      dtype=uint32)"
      ]
     },
     "execution_count": 590,
     "metadata": {},
     "output_type": "execute_result"
    }
   ],
   "source": [
    "rescolst"
   ]
  },
  {
   "cell_type": "code",
   "execution_count": 591,
   "id": "f8f4415e",
   "metadata": {},
   "outputs": [
    {
     "data": {
      "text/plain": [
       "array([32, 32, 32, 32, 32, 32, 32, 32, 32, 32], dtype=uint32)"
      ]
     },
     "execution_count": 591,
     "metadata": {},
     "output_type": "execute_result"
    }
   ],
   "source": [
    "resnnzst"
   ]
  },
  {
   "cell_type": "code",
   "execution_count": 592,
   "id": "afd994d1",
   "metadata": {},
   "outputs": [
    {
     "data": {
      "text/plain": [
       "array([[2.05889988, 1.86816645, 4.81181717, 2.25293875, 2.10965443,\n",
       "        1.3379606 , 2.90000367, 2.04914141, 2.58978033, 1.50316036],\n",
       "       [2.73214602, 2.55654955, 3.71485209, 1.96740305, 2.78127933,\n",
       "        3.90701485, 3.27775383, 2.29690385, 1.92299247, 2.65563965],\n",
       "       [1.92874503, 3.16009569, 2.65028286, 1.81787264, 3.2470448 ,\n",
       "        2.28542805, 2.63659263, 2.51668644, 1.07090104, 2.06057048],\n",
       "       [1.06318498, 4.17379856, 2.22772551, 1.25156748, 4.18276644,\n",
       "        1.29158247, 1.3805095 , 3.41988373, 1.02567685, 2.77550673],\n",
       "       [1.18339908, 1.85575962, 3.05342436, 1.07224607, 3.49056172,\n",
       "        1.643646  , 3.45331311, 3.8086679 , 0.65044206, 2.05637264],\n",
       "       [1.04616213, 3.55668378, 3.21012974, 1.57240605, 2.28090835,\n",
       "        1.85009015, 1.33866227, 4.39697981, 1.56214321, 1.77257848],\n",
       "       [1.51664436, 2.50481415, 1.34177089, 3.52348685, 2.7652483 ,\n",
       "        1.13953555, 2.25747991, 4.70517206, 2.24308538, 1.81945622],\n",
       "       [1.69079041, 2.32836771, 1.78949928, 2.18472648, 2.85510015,\n",
       "        0.79378396, 1.79649365, 3.54712319, 1.96256435, 1.36571538],\n",
       "       [1.21413743, 2.98775339, 3.10181856, 3.6299789 , 3.64879417,\n",
       "        1.808532  , 2.6615262 , 3.38018537, 2.19415474, 2.00628471],\n",
       "       [2.04916787, 3.84422541, 5.25903749, 2.6086452 , 2.52041268,\n",
       "        2.84581494, 2.08972192, 2.03660011, 1.84936869, 2.00203204],\n",
       "       [1.45388532, 3.52396989, 3.42697096, 0.94891644, 3.40880156,\n",
       "        1.82624102, 2.60293674, 2.04180241, 2.18476319, 0.74823964],\n",
       "       [2.13862824, 2.7081461 , 1.74243903, 2.36669898, 2.55556989,\n",
       "        1.021245  , 2.8354404 , 3.12611842, 1.64276695, 1.49172533],\n",
       "       [2.28659916, 3.96091747, 3.35846281, 2.93365884, 2.45915508,\n",
       "        2.25237751, 2.6474359 , 0.89587307, 2.01109529, 2.10630918],\n",
       "       [1.99667883, 2.92623019, 4.87788725, 1.22087121, 3.41928959,\n",
       "        2.34876275, 2.95600152, 1.51070964, 1.5358572 , 1.53159881],\n",
       "       [0.48399195, 2.16732454, 2.29685879, 2.77749729, 2.59660983,\n",
       "        3.48321772, 2.69039106, 4.09173536, 0.23865944, 2.9819653 ],\n",
       "       [2.09547639, 2.43079424, 3.45584178, 2.98961782, 1.52310562,\n",
       "        3.42284203, 3.31507182, 3.50517249, 2.16534472, 3.11341858],\n",
       "       [1.5846765 , 2.6610229 , 2.47696686, 3.47096395, 1.44318354,\n",
       "        2.39992619, 3.90113449, 3.24853802, 1.42476261, 1.26029348],\n",
       "       [0.49207467, 2.32539701, 2.28158855, 2.26960659, 3.33331561,\n",
       "        2.43498778, 2.05144072, 3.22464967, 1.61710417, 1.60737669],\n",
       "       [2.53753376, 2.48177147, 2.63684678, 2.05690932, 4.39294624,\n",
       "        1.48624027, 3.49397421, 2.23327565, 1.77373624, 1.76182437],\n",
       "       [2.06782365, 1.88366938, 1.33645391, 1.74252462, 2.38986182,\n",
       "        1.15661955, 2.62855911, 3.65021563, 2.12129402, 1.31996858],\n",
       "       [1.8444016 , 2.24616122, 3.21519399, 3.84321165, 2.23981643,\n",
       "        1.82693553, 4.41473198, 3.72314596, 0.50411344, 2.14350224],\n",
       "       [2.6537714 , 1.17325354, 3.00798154, 2.59040356, 3.04747152,\n",
       "        1.8404907 , 2.62613416, 1.13049936, 1.87763941, 0.85143405],\n",
       "       [0.63378829, 3.3086834 , 1.45307839, 2.515975  , 3.50477862,\n",
       "        1.15534389, 2.82539153, 3.52667999, 1.04326797, 2.32988262],\n",
       "       [1.32871222, 2.5962925 , 1.91946459, 1.89676547, 5.31021118,\n",
       "        2.86852503, 3.07693768, 1.75884128, 0.40501967, 2.92071223],\n",
       "       [0.84001321, 2.09943461, 2.14601922, 1.59919989, 2.23639226,\n",
       "        1.54886544, 3.22486281, 1.79088604, 0.71134549, 2.63080835],\n",
       "       [0.95923513, 2.47990274, 2.59393334, 3.68367243, 2.63144565,\n",
       "        2.46464014, 3.5725472 , 3.20109987, 1.1519556 , 1.66216505],\n",
       "       [0.8192116 , 1.82723117, 1.79568124, 1.82968462, 2.99646425,\n",
       "        2.27581954, 2.3479476 , 2.82430243, 1.13621247, 2.88534355],\n",
       "       [3.62040234, 1.99681151, 1.74900854, 2.94692588, 3.12176991,\n",
       "        2.23573589, 5.28509855, 1.57266247, 1.45820665, 1.25138068],\n",
       "       [1.03277016, 2.8972733 , 2.67078543, 1.65545034, 3.82212543,\n",
       "        2.02195573, 2.44196773, 3.92957735, 1.28237152, 1.25125289],\n",
       "       [1.92872703, 1.50453246, 3.31437445, 3.71006513, 3.04153919,\n",
       "        1.8443445 , 2.06362629, 2.32768703, 1.26170003, 1.08130503],\n",
       "       [1.5923332 , 3.81627297, 3.05205464, 0.91595441, 4.55261135,\n",
       "        1.9873203 , 2.46067786, 2.26720333, 0.90689081, 1.96207857],\n",
       "       [1.00445509, 3.29462194, 1.94454765, 3.21318555, 3.77436352,\n",
       "        2.93665981, 3.03284836, 2.7435503 , 1.2155869 , 0.95832437]])"
      ]
     },
     "execution_count": 592,
     "metadata": {},
     "output_type": "execute_result"
    }
   ],
   "source": [
    "res_np = to_dense(resdatat, rescolst, resnnzst, topky, mult.T.shape)\n",
    "res_np.T"
   ]
  },
  {
   "cell_type": "code",
   "execution_count": 593,
   "id": "36d7db44",
   "metadata": {},
   "outputs": [
    {
     "data": {
      "text/plain": [
       "5.960464477539062e-07"
      ]
     },
     "execution_count": 593,
     "metadata": {},
     "output_type": "execute_result"
    }
   ],
   "source": [
    "(res_np.T-mult).sum()"
   ]
  },
  {
   "cell_type": "code",
   "execution_count": 366,
   "id": "41d58c94",
   "metadata": {},
   "outputs": [
    {
     "data": {
      "text/plain": [
       "(10, 32)"
      ]
     },
     "execution_count": 366,
     "metadata": {},
     "output_type": "execute_result"
    }
   ],
   "source": [
    "res_np.shape"
   ]
  },
  {
   "cell_type": "code",
   "execution_count": 367,
   "id": "45e8f7c8",
   "metadata": {},
   "outputs": [
    {
     "data": {
      "text/plain": [
       "array([[2.0588999 , 1.8681664 , 4.811817  , 2.2529387 , 2.1096544 ,\n",
       "        1.3379606 , 2.9000037 , 2.0491414 , 2.5897803 , 1.5031604 ],\n",
       "       [2.732146  , 2.5565495 , 3.714852  , 1.967403  , 2.7812793 ,\n",
       "        3.9070148 , 3.2777538 , 2.2969038 , 1.9229925 , 2.6556396 ],\n",
       "       [1.928745  , 3.1600957 , 2.6502829 , 1.8178726 , 3.2470448 ,\n",
       "        2.285428  , 2.6365926 , 2.5166864 , 1.070901  , 2.0605705 ],\n",
       "       [1.063185  , 4.1737986 , 2.2277255 , 1.2515675 , 4.1827664 ,\n",
       "        1.2915825 , 1.3805095 , 3.4198837 , 1.0256768 , 2.7755067 ],\n",
       "       [1.1833991 , 1.8557596 , 3.0534244 , 1.0722461 , 3.4905617 ,\n",
       "        1.643646  , 3.453313  , 3.808668  , 0.65044206, 2.0563726 ],\n",
       "       [1.0461621 , 3.5566838 , 3.2101297 , 1.572406  , 2.2809083 ,\n",
       "        1.8500901 , 1.3386623 , 4.39698   , 1.5621432 , 1.7725785 ],\n",
       "       [1.5166444 , 2.5048141 , 1.3417709 , 3.5234869 , 2.7652483 ,\n",
       "        1.1395355 , 2.25748   , 4.705172  , 2.2430854 , 1.8194562 ],\n",
       "       [1.6907904 , 2.3283677 , 1.7894993 , 2.1847265 , 2.8551002 ,\n",
       "        0.79378396, 1.7964936 , 3.5471232 , 1.9625643 , 1.3657154 ],\n",
       "       [1.2141374 , 2.9877534 , 3.1018186 , 3.629979  , 3.6487942 ,\n",
       "        1.808532  , 2.6615262 , 3.3801854 , 2.1941547 , 2.0062847 ],\n",
       "       [2.0491679 , 3.8442254 , 5.2590375 , 2.6086452 , 2.5204127 ,\n",
       "        2.845815  , 2.089722  , 2.0366    , 1.8493687 , 2.002032  ],\n",
       "       [1.4538853 , 3.52397   , 3.426971  , 0.94891644, 3.4088016 ,\n",
       "        1.826241  , 2.6029367 , 2.0418024 , 2.1847632 , 0.74823964],\n",
       "       [2.1386282 , 2.708146  , 1.742439  , 2.366699  , 2.55557   ,\n",
       "        1.021245  , 2.8354404 , 3.1261184 , 1.642767  , 1.4917253 ],\n",
       "       [2.2865992 , 3.9609175 , 3.3584628 , 2.9336588 , 2.459155  ,\n",
       "        2.2523775 , 2.647436  , 0.89587307, 2.0110953 , 2.1063092 ],\n",
       "       [1.9966788 , 2.9262302 , 4.8778872 , 1.2208712 , 3.4192896 ,\n",
       "        2.3487628 , 2.9560015 , 1.5107096 , 1.5358572 , 1.5315988 ],\n",
       "       [0.48399195, 2.1673245 , 2.2968588 , 2.7774973 , 2.5966098 ,\n",
       "        3.4832177 , 2.690391  , 4.0917354 , 0.23865944, 2.9819653 ],\n",
       "       [2.0954764 , 2.4307942 , 3.4558418 , 2.9896178 , 1.5231056 ,\n",
       "        3.422842  , 3.3150718 , 3.5051725 , 2.1653447 , 3.1134186 ],\n",
       "       [1.5846765 , 2.661023  , 2.4769669 , 3.470964  , 1.4431835 ,\n",
       "        2.3999262 , 3.9011345 , 3.248538  , 1.4247626 , 1.2602935 ],\n",
       "       [0.49207467, 2.325397  , 2.2815886 , 2.2696066 , 3.3333156 ,\n",
       "        2.4349878 , 2.0514407 , 3.2246497 , 1.6171042 , 1.6073767 ],\n",
       "       [2.5375338 , 2.4817715 , 2.6368468 , 2.0569093 , 4.3929462 ,\n",
       "        1.4862403 , 3.4939742 , 2.2332757 , 1.7737362 , 1.7618244 ],\n",
       "       [2.0678236 , 1.8836694 , 1.3364539 , 1.7425246 , 2.3898618 ,\n",
       "        1.1566195 , 2.628559  , 3.6502156 , 2.121294  , 1.3199686 ],\n",
       "       [1.8444016 , 2.2461612 , 3.215194  , 3.8432117 , 2.2398164 ,\n",
       "        1.8269355 , 4.414732  , 3.723146  , 0.50411344, 2.1435022 ],\n",
       "       [2.6537714 , 1.1732535 , 3.0079815 , 2.5904036 , 3.0474715 ,\n",
       "        1.8404907 , 2.6261342 , 1.1304994 , 1.8776394 , 0.85143405],\n",
       "       [0.6337883 , 3.3086834 , 1.4530784 , 2.515975  , 3.5047786 ,\n",
       "        1.1553439 , 2.8253915 , 3.52668   , 1.043268  , 2.3298826 ],\n",
       "       [1.3287122 , 2.5962925 , 1.9194646 , 1.8967655 , 5.310211  ,\n",
       "        2.868525  , 3.0769377 , 1.7588413 , 0.40501967, 2.9207122 ],\n",
       "       [0.84001315, 2.0994346 , 2.1460192 , 1.5992    , 2.236392  ,\n",
       "        1.5488653 , 3.224863  , 1.7908863 , 0.7113455 , 2.6308084 ],\n",
       "       [0.9592351 , 2.4799027 , 2.593933  , 3.6836722 , 2.6314456 ,\n",
       "        2.4646401 , 3.572547  , 3.2011003 , 1.1519556 , 1.662165  ],\n",
       "       [0.8192115 , 1.8272312 , 1.7956815 , 1.8296847 , 2.9964643 ,\n",
       "        2.2758198 , 2.3479474 , 2.8243022 , 1.1362125 , 2.8853436 ],\n",
       "       [3.6204023 , 1.9968116 , 1.7490085 , 2.9469256 , 3.12177   ,\n",
       "        2.235736  , 5.2850986 , 1.5726624 , 1.4582067 , 1.2513807 ],\n",
       "       [1.0327702 , 2.8972735 , 2.6707854 , 1.6554506 , 3.8221254 ,\n",
       "        2.0219557 , 2.4419675 , 3.9295774 , 1.2823715 , 1.2512529 ],\n",
       "       [1.9287269 , 1.5045323 , 3.3143744 , 3.7100654 , 3.0415392 ,\n",
       "        1.8443446 , 2.0636263 , 2.3276868 , 1.2617    , 1.081305  ],\n",
       "       [1.5923332 , 3.8162732 , 3.0520544 , 0.9159544 , 4.5526114 ,\n",
       "        1.9873202 , 2.4606779 , 2.2672033 , 0.9068908 , 1.9620786 ],\n",
       "       [1.0044551 , 3.2946215 , 1.9445477 , 3.2131855 , 3.7743635 ,\n",
       "        2.93666   , 3.0328484 , 2.7435503 , 1.2155869 , 0.9583244 ]],\n",
       "      dtype=float32)"
      ]
     },
     "execution_count": 367,
     "metadata": {},
     "output_type": "execute_result"
    }
   ],
   "source": [
    "a.dot(b)"
   ]
  },
  {
   "cell_type": "code",
   "execution_count": 368,
   "id": "44d96b78",
   "metadata": {},
   "outputs": [
    {
     "data": {
      "text/plain": [
       "array([[ 0.00000000e+00,  0.00000000e+00,  0.00000000e+00,\n",
       "         0.00000000e+00,  0.00000000e+00,  0.00000000e+00,\n",
       "         0.00000000e+00,  0.00000000e+00,  0.00000000e+00,\n",
       "         0.00000000e+00],\n",
       "       [ 0.00000000e+00,  0.00000000e+00,  0.00000000e+00,\n",
       "         0.00000000e+00,  0.00000000e+00,  0.00000000e+00,\n",
       "         0.00000000e+00,  0.00000000e+00,  0.00000000e+00,\n",
       "         0.00000000e+00],\n",
       "       [ 0.00000000e+00,  0.00000000e+00,  0.00000000e+00,\n",
       "         0.00000000e+00,  0.00000000e+00,  0.00000000e+00,\n",
       "         0.00000000e+00,  0.00000000e+00,  0.00000000e+00,\n",
       "         0.00000000e+00],\n",
       "       [ 0.00000000e+00,  0.00000000e+00,  0.00000000e+00,\n",
       "         0.00000000e+00,  0.00000000e+00,  0.00000000e+00,\n",
       "         0.00000000e+00,  0.00000000e+00,  0.00000000e+00,\n",
       "         0.00000000e+00],\n",
       "       [ 0.00000000e+00,  0.00000000e+00,  0.00000000e+00,\n",
       "         0.00000000e+00,  0.00000000e+00,  0.00000000e+00,\n",
       "         0.00000000e+00,  0.00000000e+00,  0.00000000e+00,\n",
       "         0.00000000e+00],\n",
       "       [ 0.00000000e+00,  0.00000000e+00,  0.00000000e+00,\n",
       "         0.00000000e+00,  0.00000000e+00,  0.00000000e+00,\n",
       "         0.00000000e+00,  0.00000000e+00,  0.00000000e+00,\n",
       "         0.00000000e+00],\n",
       "       [ 0.00000000e+00,  0.00000000e+00,  0.00000000e+00,\n",
       "         0.00000000e+00,  0.00000000e+00,  0.00000000e+00,\n",
       "         0.00000000e+00,  0.00000000e+00,  0.00000000e+00,\n",
       "         0.00000000e+00],\n",
       "       [ 0.00000000e+00,  0.00000000e+00,  0.00000000e+00,\n",
       "         0.00000000e+00,  0.00000000e+00,  0.00000000e+00,\n",
       "         0.00000000e+00,  0.00000000e+00,  0.00000000e+00,\n",
       "         0.00000000e+00],\n",
       "       [ 0.00000000e+00,  0.00000000e+00,  0.00000000e+00,\n",
       "         0.00000000e+00,  0.00000000e+00,  0.00000000e+00,\n",
       "         0.00000000e+00,  0.00000000e+00,  0.00000000e+00,\n",
       "         0.00000000e+00],\n",
       "       [ 0.00000000e+00,  0.00000000e+00,  0.00000000e+00,\n",
       "         0.00000000e+00,  0.00000000e+00,  0.00000000e+00,\n",
       "         0.00000000e+00,  0.00000000e+00,  0.00000000e+00,\n",
       "         0.00000000e+00],\n",
       "       [ 0.00000000e+00,  0.00000000e+00,  0.00000000e+00,\n",
       "         0.00000000e+00,  0.00000000e+00,  0.00000000e+00,\n",
       "         0.00000000e+00,  0.00000000e+00,  0.00000000e+00,\n",
       "         0.00000000e+00],\n",
       "       [ 0.00000000e+00,  0.00000000e+00,  0.00000000e+00,\n",
       "         0.00000000e+00,  0.00000000e+00,  0.00000000e+00,\n",
       "         0.00000000e+00,  0.00000000e+00,  0.00000000e+00,\n",
       "         0.00000000e+00],\n",
       "       [ 0.00000000e+00,  0.00000000e+00,  0.00000000e+00,\n",
       "         0.00000000e+00,  0.00000000e+00,  0.00000000e+00,\n",
       "         0.00000000e+00,  0.00000000e+00,  0.00000000e+00,\n",
       "         0.00000000e+00],\n",
       "       [ 0.00000000e+00,  0.00000000e+00,  0.00000000e+00,\n",
       "         0.00000000e+00,  0.00000000e+00,  0.00000000e+00,\n",
       "         0.00000000e+00,  0.00000000e+00,  0.00000000e+00,\n",
       "         0.00000000e+00],\n",
       "       [ 0.00000000e+00,  0.00000000e+00,  0.00000000e+00,\n",
       "         0.00000000e+00,  0.00000000e+00,  0.00000000e+00,\n",
       "         0.00000000e+00,  0.00000000e+00,  0.00000000e+00,\n",
       "         0.00000000e+00],\n",
       "       [ 0.00000000e+00,  0.00000000e+00,  0.00000000e+00,\n",
       "         0.00000000e+00,  0.00000000e+00,  0.00000000e+00,\n",
       "         0.00000000e+00,  0.00000000e+00,  0.00000000e+00,\n",
       "         0.00000000e+00],\n",
       "       [ 0.00000000e+00,  0.00000000e+00,  0.00000000e+00,\n",
       "         0.00000000e+00,  0.00000000e+00,  0.00000000e+00,\n",
       "         0.00000000e+00,  0.00000000e+00,  0.00000000e+00,\n",
       "         0.00000000e+00],\n",
       "       [ 0.00000000e+00,  0.00000000e+00,  0.00000000e+00,\n",
       "         0.00000000e+00,  0.00000000e+00,  0.00000000e+00,\n",
       "         0.00000000e+00,  0.00000000e+00,  0.00000000e+00,\n",
       "         0.00000000e+00],\n",
       "       [ 0.00000000e+00,  0.00000000e+00,  0.00000000e+00,\n",
       "         0.00000000e+00,  0.00000000e+00,  0.00000000e+00,\n",
       "         0.00000000e+00,  0.00000000e+00,  0.00000000e+00,\n",
       "         0.00000000e+00],\n",
       "       [ 0.00000000e+00,  0.00000000e+00,  0.00000000e+00,\n",
       "         0.00000000e+00,  0.00000000e+00,  0.00000000e+00,\n",
       "         0.00000000e+00,  0.00000000e+00,  0.00000000e+00,\n",
       "         0.00000000e+00],\n",
       "       [ 0.00000000e+00,  0.00000000e+00,  0.00000000e+00,\n",
       "         0.00000000e+00,  0.00000000e+00,  0.00000000e+00,\n",
       "         0.00000000e+00,  0.00000000e+00,  0.00000000e+00,\n",
       "         0.00000000e+00],\n",
       "       [ 0.00000000e+00,  0.00000000e+00,  0.00000000e+00,\n",
       "         0.00000000e+00,  0.00000000e+00,  0.00000000e+00,\n",
       "         0.00000000e+00,  0.00000000e+00,  0.00000000e+00,\n",
       "         0.00000000e+00],\n",
       "       [ 0.00000000e+00,  0.00000000e+00,  0.00000000e+00,\n",
       "         0.00000000e+00,  0.00000000e+00,  0.00000000e+00,\n",
       "         0.00000000e+00,  0.00000000e+00,  0.00000000e+00,\n",
       "         0.00000000e+00],\n",
       "       [ 0.00000000e+00,  0.00000000e+00,  0.00000000e+00,\n",
       "         0.00000000e+00,  0.00000000e+00,  0.00000000e+00,\n",
       "         0.00000000e+00,  0.00000000e+00,  0.00000000e+00,\n",
       "         0.00000000e+00],\n",
       "       [-5.96046448e-08,  0.00000000e+00,  0.00000000e+00,\n",
       "         1.19209290e-07, -2.38418579e-07, -1.19209290e-07,\n",
       "         2.38418579e-07,  2.38418579e-07,  0.00000000e+00,\n",
       "         0.00000000e+00],\n",
       "       [-5.96046448e-08,  0.00000000e+00, -2.38418579e-07,\n",
       "        -2.38418579e-07,  0.00000000e+00,  0.00000000e+00,\n",
       "        -2.38418579e-07,  4.76837158e-07,  0.00000000e+00,\n",
       "         0.00000000e+00],\n",
       "       [-1.19209290e-07,  0.00000000e+00,  2.38418579e-07,\n",
       "         1.19209290e-07,  0.00000000e+00,  2.38418579e-07,\n",
       "        -2.38418579e-07, -2.38418579e-07,  0.00000000e+00,\n",
       "         0.00000000e+00],\n",
       "       [ 0.00000000e+00,  1.19209290e-07,  0.00000000e+00,\n",
       "        -2.38418579e-07,  0.00000000e+00,  0.00000000e+00,\n",
       "         0.00000000e+00, -1.19209290e-07,  0.00000000e+00,\n",
       "         0.00000000e+00],\n",
       "       [ 0.00000000e+00,  2.38418579e-07,  0.00000000e+00,\n",
       "         2.38418579e-07,  0.00000000e+00,  0.00000000e+00,\n",
       "        -2.38418579e-07,  0.00000000e+00,  0.00000000e+00,\n",
       "         0.00000000e+00],\n",
       "       [-1.19209290e-07, -1.19209290e-07,  0.00000000e+00,\n",
       "         2.38418579e-07,  0.00000000e+00,  1.19209290e-07,\n",
       "         0.00000000e+00, -2.38418579e-07,  0.00000000e+00,\n",
       "         0.00000000e+00],\n",
       "       [ 0.00000000e+00,  2.38418579e-07, -2.38418579e-07,\n",
       "         0.00000000e+00,  0.00000000e+00, -1.19209290e-07,\n",
       "         0.00000000e+00,  0.00000000e+00,  0.00000000e+00,\n",
       "         0.00000000e+00],\n",
       "       [ 0.00000000e+00, -4.76837158e-07,  0.00000000e+00,\n",
       "         0.00000000e+00,  0.00000000e+00,  2.38418579e-07,\n",
       "         0.00000000e+00,  0.00000000e+00,  0.00000000e+00,\n",
       "         0.00000000e+00]])"
      ]
     },
     "execution_count": 368,
     "metadata": {},
     "output_type": "execute_result"
    }
   ],
   "source": [
    "mult - res_np.T"
   ]
  },
  {
   "cell_type": "code",
   "execution_count": 369,
   "id": "51c2beda",
   "metadata": {},
   "outputs": [
    {
     "data": {
      "text/plain": [
       "array([[ True,  True,  True,  True,  True,  True,  True,  True,  True,\n",
       "         True],\n",
       "       [ True,  True,  True,  True,  True,  True,  True,  True,  True,\n",
       "         True],\n",
       "       [ True,  True,  True,  True,  True,  True,  True,  True,  True,\n",
       "         True],\n",
       "       [ True,  True,  True,  True,  True,  True,  True,  True,  True,\n",
       "         True],\n",
       "       [ True,  True,  True,  True,  True,  True,  True,  True,  True,\n",
       "         True],\n",
       "       [ True,  True,  True,  True,  True,  True,  True,  True,  True,\n",
       "         True],\n",
       "       [ True,  True,  True,  True,  True,  True,  True,  True,  True,\n",
       "         True],\n",
       "       [ True,  True,  True,  True,  True,  True,  True,  True,  True,\n",
       "         True],\n",
       "       [ True,  True,  True,  True,  True,  True,  True,  True,  True,\n",
       "         True],\n",
       "       [ True,  True,  True,  True,  True,  True,  True,  True,  True,\n",
       "         True],\n",
       "       [ True,  True,  True,  True,  True,  True,  True,  True,  True,\n",
       "         True],\n",
       "       [ True,  True,  True,  True,  True,  True,  True,  True,  True,\n",
       "         True],\n",
       "       [ True,  True,  True,  True,  True,  True,  True,  True,  True,\n",
       "         True],\n",
       "       [ True,  True,  True,  True,  True,  True,  True,  True,  True,\n",
       "         True],\n",
       "       [ True,  True,  True,  True,  True,  True,  True,  True,  True,\n",
       "         True],\n",
       "       [ True,  True,  True,  True,  True,  True,  True,  True,  True,\n",
       "         True],\n",
       "       [ True,  True,  True,  True,  True,  True,  True,  True,  True,\n",
       "         True],\n",
       "       [ True,  True,  True,  True,  True,  True,  True,  True,  True,\n",
       "         True],\n",
       "       [ True,  True,  True,  True,  True,  True,  True,  True,  True,\n",
       "         True],\n",
       "       [ True,  True,  True,  True,  True,  True,  True,  True,  True,\n",
       "         True],\n",
       "       [ True,  True,  True,  True,  True,  True,  True,  True,  True,\n",
       "         True],\n",
       "       [ True,  True,  True,  True,  True,  True,  True,  True,  True,\n",
       "         True],\n",
       "       [ True,  True,  True,  True,  True,  True,  True,  True,  True,\n",
       "         True],\n",
       "       [ True,  True,  True,  True,  True,  True,  True,  True,  True,\n",
       "         True],\n",
       "       [False,  True,  True, False, False, False, False, False,  True,\n",
       "         True],\n",
       "       [False,  True, False, False,  True,  True, False, False,  True,\n",
       "         True],\n",
       "       [False,  True, False, False,  True, False, False, False,  True,\n",
       "         True],\n",
       "       [ True, False,  True, False,  True,  True,  True, False,  True,\n",
       "         True],\n",
       "       [ True, False,  True, False,  True,  True, False,  True,  True,\n",
       "         True],\n",
       "       [False, False,  True, False,  True, False,  True, False,  True,\n",
       "         True],\n",
       "       [ True, False, False,  True,  True, False,  True,  True,  True,\n",
       "         True],\n",
       "       [ True, False,  True,  True,  True, False,  True,  True,  True,\n",
       "         True]])"
      ]
     },
     "execution_count": 369,
     "metadata": {},
     "output_type": "execute_result"
    }
   ],
   "source": [
    "res_np.T==mult"
   ]
  },
  {
   "cell_type": "code",
   "execution_count": 199,
   "id": "602468e8",
   "metadata": {},
   "outputs": [
    {
     "data": {
      "text/plain": [
       "array([[0.        , 0.        , 0.        , 0.        , 0.        ,\n",
       "        0.        , 0.        , 0.        , 0.        , 0.        ],\n",
       "       [0.        , 2.55654955, 3.71485209, 0.        , 2.78127933,\n",
       "        0.        , 3.27775383, 2.29690385, 0.        , 0.        ],\n",
       "       [0.        , 0.        , 0.        , 0.        , 0.        ,\n",
       "        0.        , 0.        , 0.        , 0.        , 0.        ],\n",
       "       [0.        , 0.        , 0.        , 0.        , 0.        ,\n",
       "        0.        , 0.        , 0.        , 0.        , 0.        ],\n",
       "       [0.        , 0.        , 0.        , 0.        , 0.        ,\n",
       "        0.        , 0.        , 0.        , 0.        , 0.        ],\n",
       "       [0.        , 0.        , 0.        , 0.        , 0.        ,\n",
       "        0.        , 0.        , 0.        , 0.        , 0.        ],\n",
       "       [0.        , 0.        , 0.        , 0.        , 0.        ,\n",
       "        0.        , 0.        , 0.        , 0.        , 0.        ],\n",
       "       [0.        , 0.        , 0.        , 0.        , 0.        ,\n",
       "        0.        , 0.        , 0.        , 0.        , 0.        ],\n",
       "       [0.        , 2.98775339, 3.10181856, 0.        , 3.64879417,\n",
       "        0.        , 2.6615262 , 3.38018537, 0.        , 0.        ],\n",
       "       [0.        , 3.84422541, 5.25903749, 0.        , 2.52041268,\n",
       "        0.        , 2.08972192, 2.03660011, 0.        , 0.        ],\n",
       "       [0.        , 0.        , 0.        , 0.        , 0.        ,\n",
       "        0.        , 0.        , 0.        , 0.        , 0.        ],\n",
       "       [0.        , 0.        , 0.        , 0.        , 0.        ,\n",
       "        0.        , 0.        , 0.        , 0.        , 0.        ],\n",
       "       [0.        , 0.        , 0.        , 0.        , 0.        ,\n",
       "        0.        , 0.        , 0.        , 0.        , 0.        ],\n",
       "       [0.        , 0.        , 0.        , 0.        , 0.        ,\n",
       "        0.        , 0.        , 0.        , 0.        , 0.        ],\n",
       "       [0.        , 0.        , 0.        , 0.        , 0.        ,\n",
       "        0.        , 0.        , 0.        , 0.        , 0.        ],\n",
       "       [0.        , 2.43079424, 3.45584178, 0.        , 1.52310562,\n",
       "        0.        , 3.31507182, 3.50517249, 0.        , 0.        ],\n",
       "       [0.        , 0.        , 0.        , 0.        , 0.        ,\n",
       "        0.        , 0.        , 0.        , 0.        , 0.        ],\n",
       "       [0.        , 0.        , 0.        , 0.        , 0.        ,\n",
       "        0.        , 0.        , 0.        , 0.        , 0.        ],\n",
       "       [0.        , 0.        , 0.        , 0.        , 0.        ,\n",
       "        0.        , 0.        , 0.        , 0.        , 0.        ],\n",
       "       [0.        , 0.        , 0.        , 0.        , 0.        ,\n",
       "        0.        , 0.        , 0.        , 0.        , 0.        ],\n",
       "       [0.        , 2.24616122, 3.21519399, 0.        , 2.23981643,\n",
       "        0.        , 4.41473198, 3.72314596, 0.        , 0.        ],\n",
       "       [0.        , 0.        , 0.        , 0.        , 0.        ,\n",
       "        0.        , 0.        , 0.        , 0.        , 0.        ],\n",
       "       [0.        , 0.        , 0.        , 0.        , 0.        ,\n",
       "        0.        , 0.        , 0.        , 0.        , 0.        ],\n",
       "       [0.        , 2.5962925 , 1.91946459, 0.        , 5.31021118,\n",
       "        0.        , 3.07693768, 1.75884128, 0.        , 0.        ],\n",
       "       [0.        , 0.        , 0.        , 0.        , 0.        ,\n",
       "        0.        , 0.        , 0.        , 0.        , 0.        ],\n",
       "       [0.        , 2.47990274, 2.59393334, 0.        , 2.63144565,\n",
       "        0.        , 3.5725472 , 3.20109987, 0.        , 0.        ],\n",
       "       [0.        , 0.        , 0.        , 0.        , 0.        ,\n",
       "        0.        , 0.        , 0.        , 0.        , 0.        ],\n",
       "       [0.        , 0.        , 0.        , 0.        , 0.        ,\n",
       "        0.        , 0.        , 0.        , 0.        , 0.        ],\n",
       "       [0.        , 0.        , 0.        , 0.        , 0.        ,\n",
       "        0.        , 0.        , 0.        , 0.        , 0.        ],\n",
       "       [0.        , 0.        , 0.        , 0.        , 0.        ,\n",
       "        0.        , 0.        , 0.        , 0.        , 0.        ],\n",
       "       [0.        , 3.81627297, 3.05205464, 0.        , 4.55261135,\n",
       "        0.        , 2.46067786, 2.26720333, 0.        , 0.        ],\n",
       "       [0.        , 0.        , 0.        , 0.        , 0.        ,\n",
       "        0.        , 0.        , 0.        , 0.        , 0.        ]])"
      ]
     },
     "execution_count": 199,
     "metadata": {},
     "output_type": "execute_result"
    }
   ],
   "source": [
    "res_np.T"
   ]
  },
  {
   "cell_type": "markdown",
   "id": "a2363b16",
   "metadata": {},
   "source": [
    "# Matmult Transposed Dense (SPR)"
   ]
  },
  {
   "cell_type": "code",
   "execution_count": 200,
   "id": "3a446131",
   "metadata": {},
   "outputs": [],
   "source": [
    "c=np.zeros(a.T.shape)\n",
    "at = a.T\n",
    "for row in range(at.shape[0]):\n",
    "    for col in range(at.shape[1]):\n",
    "        c[row][col] = at[row][col]"
   ]
  },
  {
   "cell_type": "code",
   "execution_count": 201,
   "id": "506f3a80",
   "metadata": {},
   "outputs": [],
   "source": [
    "a_buf = cl.Buffer(ctx, mf.READ_WRITE | mf.COPY_HOST_PTR, hostbuf=c.astype(np.float32))\n",
    "b_buf = cl.Buffer(ctx, mf.READ_WRITE | mf.COPY_HOST_PTR, hostbuf=b)\n",
    "\n",
    "prg = cl.Program(ctx, \"\"\"\n",
    "    // multilplies x TRANSPOSED by y (dense-dense)\n",
    "    __kernel void matmul0(__global  float* x,      // INPUT MATRIX DATA\n",
    "                          __global  float* y,      // INPUT\n",
    "                          __global  float* resdata,// OUT\n",
    "                          __global  uint*  rescols,\n",
    "                          __global  uint*  resnnzs,\n",
    "                          uint ellw,\n",
    "                          uint msize,\n",
    "                          uint osize\n",
    "                          ) { // LOCAL SHARED BUFFER\n",
    "      uint isize = get_global_size(0);\n",
    "      int gidx = get_global_id(0); // row\n",
    "      \n",
    "      resnnzs[gidx] = 0;\n",
    "      \n",
    "      for (uint gidy = 0; gidy < osize; gidy++) {\n",
    "        float ret = 0.0;\n",
    "        uint i;\n",
    "        for (i = 0; i < msize; i++) {\n",
    "          uint xidx = i*isize+gidx;\n",
    "          float xval = x[xidx];\n",
    "          uint yidx = osize*i+gidy;\n",
    "          float yval = y[yidx];\n",
    "          ret += xval*yval;\n",
    "          if (gidx==0 && gidy==0)\n",
    "            printf(\"\\\\nmult: %.2f x %.2f - %.2f  -- %i/%i\", xval, yval, ret, xidx, yidx);\n",
    "        }\n",
    "        //if (gidx==0&&gidy==0)\n",
    "        //  printf(\"\\\\nsum:%.2f\", ret);\n",
    "        \n",
    "        // add for \n",
    "        uint nnz = resnnzs[gidx];\n",
    "        for (i = 0; i < nnz; i++) {\n",
    "          if (rescols[i] >= gidy) {\n",
    "            break;\n",
    "          }\n",
    "          for (uint j = nnz; j >= i; j--) {\n",
    "            //resdata[j+1] = resdata[j];\n",
    "          }\n",
    "        }\n",
    "        resdata[gidx * ellw + i] = ret;\n",
    "        rescols[gidx * ellw + i] = gidy;\n",
    "        resnnzs[gidx] += 1;\n",
    "      }\n",
    "    }\"\"\").build()"
   ]
  },
  {
   "cell_type": "code",
   "execution_count": 202,
   "id": "6a5b85dc",
   "metadata": {},
   "outputs": [
    {
     "data": {
      "text/plain": [
       "((32, 64), (64, 10))"
      ]
     },
     "execution_count": 202,
     "metadata": {},
     "output_type": "execute_result"
    }
   ],
   "source": [
    "a.shape, b.shape"
   ]
  },
  {
   "cell_type": "code",
   "execution_count": 203,
   "id": "3bebe572",
   "metadata": {},
   "outputs": [],
   "source": [
    "rows = a.shape[0]"
   ]
  },
  {
   "cell_type": "code",
   "execution_count": 204,
   "id": "14ddc412",
   "metadata": {},
   "outputs": [
    {
     "data": {
      "text/plain": [
       "(32, 10)"
      ]
     },
     "execution_count": 204,
     "metadata": {},
     "output_type": "execute_result"
    }
   ],
   "source": [
    "mult = mult.astype(np.float32)\n",
    "mult.shape"
   ]
  },
  {
   "cell_type": "code",
   "execution_count": 205,
   "id": "6345461e",
   "metadata": {},
   "outputs": [
    {
     "name": "stdout",
     "output_type": "stream",
     "text": [
      "\n",
      "mult: 0.82 x 0.94 - 0.77  -- 0/0\n",
      "mult: 0.00 x 0.00 - 0.77  -- 32/10\n",
      "mult: 0.00 x 0.00 - 0.77  -- 64/20\n",
      "mult: 0.48 x 0.00 - 0.77  -- 96/30\n",
      "mult: 0.91 x 0.00 - 0.77  -- 128/40\n",
      "mult: 0.00 x 0.00 - 0.77  -- 160/50\n",
      "mult: 0.00 x 0.00 - 0.77  -- 192/60\n",
      "mult: 0.88 x 0.31 - 1.05  -- 224/70\n",
      "mult: 0.00 x 0.11 - 1.05  -- 256/80\n",
      "mult: 0.00 x 0.07 - 1.05  -- 288/90\n",
      "mult: 0.00 x 0.00 - 1.05  -- 320/100\n",
      "mult: 0.87 x 0.16 - 1.19  -- 352/110\n",
      "mult: 0.00 x 0.00 - 1.19  -- 384/120\n",
      "mult: 0.00 x 0.64 - 1.19  -- 416/130\n",
      "mult: 0.26 x 0.50 - 1.32  -- 448/140\n",
      "mult: 0.36 x 0.00 - 1.32  -- 480/150\n",
      "mult: 0.00 x 0.00 - 1.32  -- 512/160\n",
      "mult: 0.41 x 0.00 - 1.32  -- 544/170\n",
      "mult: 0.00 x 0.00 - 1.32  -- 576/180\n",
      "mult: 0.00 x 0.00 - 1.32  -- 608/190\n",
      "mult: 0.62 x 0.18 - 1.43  -- 640/200\n",
      "mult: 0.47 x 0.00 - 1.43  -- 672/210\n",
      "mult: 0.00 x 0.00 - 1.43  -- 704/220\n",
      "mult: 0.00 x 0.00 - 1.43  -- 736/230\n",
      "mult: 0.00 x 0.00 - 1.43  -- 768/240\n",
      "mult: 0.00 x 0.00 - 1.43  -- 800/250\n",
      "mult: 0.00 x 0.00 - 1.43  -- 832/260\n",
      "mult: 0.00 x 0.0"
     ]
    },
    {
     "data": {
      "text/plain": [
       "<pyopencl._cl.NannyEvent at 0x7ff154226f90>"
      ]
     },
     "execution_count": 205,
     "metadata": {},
     "output_type": "execute_result"
    },
    {
     "name": "stdout",
     "output_type": "stream",
     "text": [
      "0 - 1.43  -- 864/270\n",
      "mult: 0.22 x 0.43 - 1.53  -- 896/280\n",
      "mult: 0.59 x 0.12 - 1.60  -- 928/290\n",
      "mult: 0.00 x 0.00 - 1.60  -- 960/300\n",
      "mult: 0.44 x 0.00 - 1.60  -- 992/310\n",
      "mult: 0.47 x 0.00 - 1.60  -- 1024/320\n",
      "mult: 0.69 x 0.61 - 2.02  -- 1056/330\n",
      "mult: 0.00 x 0.41 - 2.02  -- 1088/340\n",
      "mult: 0.00 x 0.83 - 2.02  -- 1120/350\n",
      "mult: 0.38 x 0.05 - 2.04  -- 1152/360\n",
      "mult: 0.81 x 0.00 - 2.04  -- 1184/370\n",
      "mult: 0.98 x 0.00 - 2.04  -- 1216/380\n",
      "mult: 0.45 x 0.05 - 2.06  -- 1248/390\n",
      "mult: 0.00 x 0.00 - 2.06  -- 1280/400\n",
      "mult: 0.00 x 0.00 - 2.06  -- 1312/410\n",
      "mult: 0.29 x 0.00 - 2.06  -- 1344/420\n",
      "mult: 0.00 x 0.00 - 2.06  -- 1376/430\n",
      "mult: 0.04 x 0.00 - 2.06  -- 1408/440\n",
      "mult: 0.00 x 0.63 - 2.06  -- 1440/450\n",
      "mult: 0.28 x 0.00 - 2.06  -- 1472/460\n",
      "mult: 0.00 x 0.00 - 2.06  -- 1504/470\n",
      "mult: 0.00 x 0.69 - 2.06  -- 1536/480\n",
      "mult: 0.00 x 0.99 - 2.06  -- 1568/490\n",
      "mult: 0.42 x 0.00 - 2.06  -- 1600/500\n",
      "mult: 0.00 x 0.00 - 2.06  -- 1632/510\n",
      "mult: 0.00 x 0.00 - 2.06  -- 1664/520\n",
      "mult: 0.00 x 0.00 - 2.06  -- 1696/530\n",
      "mult: 0.39 x 0.00 - 2.06  -- 1728/540\n",
      "mult: 0.00 x 0.00 - 2.06  -- 1760/550\n",
      "mult: 0.00 x 0.00 - 2.06  -- 1792/560\n",
      "mult: 0.00 x 0.27 - 2.06  -- 1824/570\n",
      "mult: 0.00 x 0.00 - 2.06  -- 1856/580\n",
      "mult: 0.00 x 0.23 - 2.06  -- 1888/590\n",
      "mult: 0.00 x 0.10 - 2.06  -- 1920/600\n",
      "mult: 0.23 x 0.00 - 2.06  -- 1952/610\n",
      "mult: 0.00 x 0.00 - 2.06  -- 1984/620\n",
      "mult: 0.00 x 0.00 - 2.06  -- 2016/630"
     ]
    }
   ],
   "source": [
    "resdata_buf = cl.Buffer(ctx, mf.READ_WRITE, np.prod([rows,b.shape[1]])*4)\n",
    "rescols_buf = cl.Buffer(ctx, mf.READ_WRITE, np.prod([rows,b.shape[1]])*4)\n",
    "resnnzs_buf = cl.Buffer(ctx, mf.READ_WRITE, np.prod([rows])*4)\n",
    "\n",
    "knl = prg.matmul0  # Use this Kernel object for repeated calls\n",
    "knl(queue, [rows], None, a_buf, b_buf, resdata_buf, rescols_buf, resnnzs_buf, np.uint32(b.shape[1]), np.uint32(a.shape[1]), np.uint32(b.shape[1]))\n",
    "\n",
    "resdata = np.zeros(a.shape[0]*b.shape[1]).astype(np.float32)\n",
    "rescols = np.zeros(a.shape[0]*b.shape[1]).astype(np.uint32)\n",
    "resnnzs = np.zeros(a.shape[0]).astype(np.uint32)\n",
    "cl.enqueue_copy(queue, resdata, resdata_buf)\n",
    "cl.enqueue_copy(queue, rescols, rescols_buf)\n",
    "cl.enqueue_copy(queue, resnnzs, resnnzs_buf)"
   ]
  },
  {
   "cell_type": "code",
   "execution_count": 206,
   "id": "1fcc8062",
   "metadata": {},
   "outputs": [
    {
     "data": {
      "text/plain": [
       "array([2.0588999 , 1.8681664 , 4.811817  , 2.2529387 , 2.1096544 ,\n",
       "       1.3379606 , 2.9000037 , 2.0491414 , 2.5897803 , 1.5031604 ,\n",
       "       2.732146  , 2.5565495 , 3.714852  , 1.967403  , 2.7812793 ,\n",
       "       3.9070148 , 3.2777538 , 2.2969038 , 1.9229925 , 2.6556396 ,\n",
       "       1.928745  , 3.1600957 , 2.6502829 , 1.8178726 , 3.2470448 ,\n",
       "       2.285428  , 2.6365926 , 2.5166864 , 1.070901  , 2.0605705 ,\n",
       "       1.063185  , 4.1737986 , 2.2277255 , 1.2515675 , 4.1827664 ,\n",
       "       1.2915825 , 1.3805095 , 3.4198837 , 1.0256768 , 2.7755067 ,\n",
       "       1.1833991 , 1.8557596 , 3.0534244 , 1.0722461 , 3.4905617 ,\n",
       "       1.643646  , 3.453313  , 3.808668  , 0.65044206, 2.0563726 ,\n",
       "       1.0461621 , 3.5566838 , 3.2101297 , 1.572406  , 2.2809083 ,\n",
       "       1.8500901 , 1.3386623 , 4.39698   , 1.5621432 , 1.7725785 ,\n",
       "       1.5166444 , 2.5048141 , 1.3417709 , 3.5234869 , 2.7652483 ,\n",
       "       1.1395355 , 2.25748   , 4.705172  , 2.2430854 , 1.8194562 ,\n",
       "       1.6907904 , 2.3283677 , 1.7894993 , 2.1847265 , 2.8551002 ,\n",
       "       0.79378396, 1.7964936 , 3.5471232 , 1.9625643 , 1.3657154 ,\n",
       "       1.2141374 , 2.9877534 , 3.1018186 , 3.629979  , 3.6487942 ,\n",
       "       1.808532  , 2.6615262 , 3.3801854 , 2.1941547 , 2.0062847 ,\n",
       "       2.0491679 , 3.8442254 , 5.2590375 , 2.6086452 , 2.5204127 ,\n",
       "       2.845815  , 2.089722  , 2.0366    , 1.8493687 , 2.002032  ,\n",
       "       1.4538853 , 3.52397   , 3.426971  , 0.94891644, 3.4088016 ,\n",
       "       1.826241  , 2.6029367 , 2.0418024 , 2.1847632 , 0.74823964,\n",
       "       2.1386282 , 2.708146  , 1.742439  , 2.366699  , 2.55557   ,\n",
       "       1.021245  , 2.8354404 , 3.1261184 , 1.642767  , 1.4917253 ,\n",
       "       2.2865992 , 3.9609175 , 3.3584628 , 2.9336588 , 2.459155  ,\n",
       "       2.2523775 , 2.647436  , 0.89587307, 2.0110953 , 2.1063092 ,\n",
       "       1.9966788 , 2.9262302 , 4.8778872 , 1.2208712 , 3.4192896 ,\n",
       "       2.3487628 , 2.9560015 , 1.5107096 , 1.5358572 , 1.5315988 ,\n",
       "       0.48399195, 2.1673245 , 2.2968588 , 2.7774973 , 2.5966098 ,\n",
       "       3.4832177 , 2.690391  , 4.0917354 , 0.23865944, 2.9819653 ,\n",
       "       2.0954764 , 2.4307942 , 3.4558418 , 2.9896178 , 1.5231056 ,\n",
       "       3.422842  , 3.3150718 , 3.5051725 , 2.1653447 , 3.1134186 ,\n",
       "       1.5846765 , 2.661023  , 2.4769669 , 3.470964  , 1.4431835 ,\n",
       "       2.3999262 , 3.9011345 , 3.248538  , 1.4247626 , 1.2602935 ,\n",
       "       0.49207467, 2.325397  , 2.2815886 , 2.2696066 , 3.3333156 ,\n",
       "       2.4349878 , 2.0514407 , 3.2246497 , 1.6171042 , 1.6073767 ,\n",
       "       2.5375338 , 2.4817715 , 2.6368468 , 2.0569093 , 4.3929462 ,\n",
       "       1.4862403 , 3.4939742 , 2.2332757 , 1.7737362 , 1.7618244 ,\n",
       "       2.0678236 , 1.8836694 , 1.3364539 , 1.7425246 , 2.3898618 ,\n",
       "       1.1566195 , 2.628559  , 3.6502156 , 2.121294  , 1.3199686 ,\n",
       "       1.8444016 , 2.2461612 , 3.215194  , 3.8432117 , 2.2398164 ,\n",
       "       1.8269355 , 4.414732  , 3.723146  , 0.50411344, 2.1435022 ,\n",
       "       2.6537714 , 1.1732535 , 3.0079815 , 2.5904036 , 3.0474715 ,\n",
       "       1.8404907 , 2.6261342 , 1.1304994 , 1.8776394 , 0.85143405,\n",
       "       0.6337883 , 3.3086834 , 1.4530784 , 2.515975  , 3.5047786 ,\n",
       "       1.1553439 , 2.8253915 , 3.52668   , 1.043268  , 2.3298826 ,\n",
       "       1.3287122 , 2.5962925 , 1.9194646 , 1.8967655 , 5.310211  ,\n",
       "       2.868525  , 3.0769377 , 1.7588413 , 0.40501967, 2.9207122 ,\n",
       "       0.8400132 , 2.0994346 , 2.1460192 , 1.5991999 , 2.2363923 ,\n",
       "       1.5488654 , 3.2248628 , 1.790886  , 0.7113455 , 2.6308084 ,\n",
       "       0.95923513, 2.4799027 , 2.5939333 , 3.6836724 , 2.6314456 ,\n",
       "       2.4646401 , 3.5725472 , 3.2010999 , 1.1519556 , 1.662165  ,\n",
       "       0.8192116 , 1.8272312 , 1.7956812 , 1.8296846 , 2.9964643 ,\n",
       "       2.2758195 , 2.3479476 , 2.8243024 , 1.1362125 , 2.8853436 ,\n",
       "       3.6204023 , 1.9968115 , 1.7490085 , 2.9469259 , 3.12177   ,\n",
       "       2.235736  , 5.2850986 , 1.5726625 , 1.4582067 , 1.2513807 ,\n",
       "       1.0327702 , 2.8972733 , 2.6707854 , 1.6554503 , 3.8221254 ,\n",
       "       2.0219557 , 2.4419677 , 3.9295774 , 1.2823715 , 1.2512529 ,\n",
       "       1.928727  , 1.5045325 , 3.3143744 , 3.7100651 , 3.0415392 ,\n",
       "       1.8443445 , 2.0636263 , 2.327687  , 1.2617    , 1.081305  ,\n",
       "       1.5923332 , 3.816273  , 3.0520546 , 0.9159544 , 4.5526114 ,\n",
       "       1.9873203 , 2.4606779 , 2.2672033 , 0.9068908 , 1.9620786 ,\n",
       "       1.0044551 , 3.294622  , 1.9445477 , 3.2131855 , 3.7743635 ,\n",
       "       2.9366598 , 3.0328484 , 2.7435503 , 1.2155869 , 0.9583244 ],\n",
       "      dtype=float32)"
      ]
     },
     "execution_count": 206,
     "metadata": {},
     "output_type": "execute_result"
    }
   ],
   "source": [
    "resdata"
   ]
  },
  {
   "cell_type": "code",
   "execution_count": 207,
   "id": "7e356eb9",
   "metadata": {},
   "outputs": [
    {
     "data": {
      "text/plain": [
       "array([0, 1, 2, 3, 4, 5, 6, 7, 8, 9, 0, 1, 2, 3, 4, 5, 6, 7, 8, 9, 0, 1,\n",
       "       2, 3, 4, 5, 6, 7, 8, 9, 0, 1, 2, 3, 4, 5, 6, 7, 8, 9, 0, 1, 2, 3,\n",
       "       4, 5, 6, 7, 8, 9, 0, 1, 2, 3, 4, 5, 6, 7, 8, 9, 0, 1, 2, 3, 4, 5,\n",
       "       6, 7, 8, 9, 0, 1, 2, 3, 4, 5, 6, 7, 8, 9, 0, 1, 2, 3, 4, 5, 6, 7,\n",
       "       8, 9, 0, 1, 2, 3, 4, 5, 6, 7, 8, 9, 0, 1, 2, 3, 4, 5, 6, 7, 8, 9,\n",
       "       0, 1, 2, 3, 4, 5, 6, 7, 8, 9, 0, 1, 2, 3, 4, 5, 6, 7, 8, 9, 0, 1,\n",
       "       2, 3, 4, 5, 6, 7, 8, 9, 0, 1, 2, 3, 4, 5, 6, 7, 8, 9, 0, 1, 2, 3,\n",
       "       4, 5, 6, 7, 8, 9, 0, 1, 2, 3, 4, 5, 6, 7, 8, 9, 0, 1, 2, 3, 4, 5,\n",
       "       6, 7, 8, 9, 0, 1, 2, 3, 4, 5, 6, 7, 8, 9, 0, 1, 2, 3, 4, 5, 6, 7,\n",
       "       8, 9, 0, 1, 2, 3, 4, 5, 6, 7, 8, 9, 0, 1, 2, 3, 4, 5, 6, 7, 8, 9,\n",
       "       0, 1, 2, 3, 4, 5, 6, 7, 8, 9, 0, 1, 2, 3, 4, 5, 6, 7, 8, 9, 0, 1,\n",
       "       2, 3, 4, 5, 6, 7, 8, 9, 0, 1, 2, 3, 4, 5, 6, 7, 8, 9, 0, 1, 2, 3,\n",
       "       4, 5, 6, 7, 8, 9, 0, 1, 2, 3, 4, 5, 6, 7, 8, 9, 0, 1, 2, 3, 4, 5,\n",
       "       6, 7, 8, 9, 0, 1, 2, 3, 4, 5, 6, 7, 8, 9, 0, 1, 2, 3, 4, 5, 6, 7,\n",
       "       8, 9, 0, 1, 2, 3, 4, 5, 6, 7, 8, 9], dtype=uint32)"
      ]
     },
     "execution_count": 207,
     "metadata": {},
     "output_type": "execute_result"
    }
   ],
   "source": [
    "rescols"
   ]
  },
  {
   "cell_type": "code",
   "execution_count": 208,
   "id": "07f7fcd9",
   "metadata": {},
   "outputs": [
    {
     "data": {
      "text/plain": [
       "array([10, 10, 10, 10, 10, 10, 10, 10, 10, 10, 10, 10, 10, 10, 10, 10, 10,\n",
       "       10, 10, 10, 10, 10, 10, 10, 10, 10, 10, 10, 10, 10, 10, 10],\n",
       "      dtype=uint32)"
      ]
     },
     "execution_count": 208,
     "metadata": {},
     "output_type": "execute_result"
    }
   ],
   "source": [
    "resnnzs"
   ]
  },
  {
   "cell_type": "code",
   "execution_count": 209,
   "id": "7347b1c5",
   "metadata": {},
   "outputs": [],
   "source": [
    "res_np = to_dense(resdata, rescols, resnnzs, b.shape[1], mult.shape)"
   ]
  },
  {
   "cell_type": "code",
   "execution_count": 210,
   "id": "ee5c8483",
   "metadata": {},
   "outputs": [
    {
     "data": {
      "text/plain": [
       "5.960464477539062e-07"
      ]
     },
     "execution_count": 210,
     "metadata": {},
     "output_type": "execute_result"
    }
   ],
   "source": [
    "(res_np-mult).sum()"
   ]
  },
  {
   "cell_type": "code",
   "execution_count": 211,
   "id": "9f81e101",
   "metadata": {},
   "outputs": [
    {
     "data": {
      "text/plain": [
       "array([[0.82272685, 0.        , 0.        , ..., 0.22595333, 0.        ,\n",
       "        0.        ],\n",
       "       [0.57626116, 0.2289813 , 0.16428949, ..., 0.27008578, 0.        ,\n",
       "        0.9652075 ],\n",
       "       [0.        , 0.48130327, 0.        , ..., 0.        , 0.12290299,\n",
       "        0.        ],\n",
       "       ...,\n",
       "       [0.8716895 , 0.10489579, 0.        , ..., 0.        , 0.39542586,\n",
       "        0.        ],\n",
       "       [0.        , 0.        , 0.        , ..., 0.5132175 , 0.9358725 ,\n",
       "        0.37984058],\n",
       "       [0.        , 0.6832084 , 0.9385753 , ..., 0.02876937, 0.        ,\n",
       "        0.        ]], dtype=float32)"
      ]
     },
     "execution_count": 211,
     "metadata": {},
     "output_type": "execute_result"
    }
   ],
   "source": [
    "a"
   ]
  },
  {
   "cell_type": "code",
   "execution_count": 212,
   "id": "e78adfc3",
   "metadata": {},
   "outputs": [
    {
     "data": {
      "text/plain": [
       "array([[0.9414536 , 0.        , 0.        , 0.90892494, 0.        ,\n",
       "        0.        , 0.05297933, 0.        , 0.7021168 , 0.        ],\n",
       "       [0.        , 0.        , 0.14630048, 0.24825948, 0.        ,\n",
       "        0.        , 0.        , 0.7792777 , 0.31232256, 0.        ],\n",
       "       [0.        , 0.03283854, 0.27791733, 0.8543185 , 0.        ,\n",
       "        0.        , 0.8433972 , 0.        , 0.        , 0.        ],\n",
       "       [0.        , 0.        , 0.33419287, 0.19840643, 0.        ,\n",
       "        0.3856511 , 0.23348303, 0.        , 0.        , 0.        ],\n",
       "       [0.        , 0.01996238, 0.9816661 , 0.        , 0.        ,\n",
       "        0.        , 0.        , 0.5056456 , 0.        , 0.01917347],\n",
       "       [0.        , 0.        , 0.        , 0.        , 0.49159616,\n",
       "        0.0810385 , 0.64290637, 0.16045028, 0.        , 0.        ],\n",
       "       [0.        , 0.2878976 , 0.        , 0.        , 0.7058473 ,\n",
       "        0.        , 0.41645932, 0.44598925, 0.        , 0.        ],\n",
       "       [0.31479523, 0.40940058, 0.        , 0.        , 0.        ,\n",
       "        0.        , 0.49991104, 0.        , 0.79827386, 0.        ],\n",
       "       [0.11005293, 0.5290864 , 0.        , 0.31983745, 0.        ,\n",
       "        0.        , 0.        , 0.57631195, 0.        , 0.        ],\n",
       "       [0.06780045, 0.03890254, 0.        , 0.        , 0.98146695,\n",
       "        0.8737231 , 0.        , 0.        , 0.        , 0.        ],\n",
       "       [0.        , 0.7218774 , 0.40662676, 0.18507701, 0.        ,\n",
       "        0.        , 0.        , 0.        , 0.05563454, 0.        ],\n",
       "       [0.16214237, 0.        , 0.5265734 , 0.23904228, 0.        ,\n",
       "        0.        , 0.        , 0.        , 0.11824279, 0.        ],\n",
       "       [0.        , 0.6727114 , 0.01572542, 0.        , 0.44648495,\n",
       "        0.22174914, 0.        , 0.        , 0.        , 0.        ],\n",
       "       [0.6445239 , 0.8689898 , 0.78785294, 0.        , 0.        ,\n",
       "        0.        , 0.        , 0.        , 0.6352877 , 0.        ],\n",
       "       [0.50232446, 0.        , 0.        , 0.        , 0.        ,\n",
       "        0.47040063, 0.        , 0.        , 0.46875456, 0.5505951 ],\n",
       "       [0.        , 0.3043906 , 0.        , 0.        , 0.2855941 ,\n",
       "        0.        , 0.45246527, 0.03966095, 0.        , 0.        ],\n",
       "       [0.        , 0.6158326 , 0.        , 0.        , 0.        ,\n",
       "        0.55754304, 0.        , 0.8633621 , 0.        , 0.01719917],\n",
       "       [0.        , 0.        , 0.        , 0.        , 0.75643075,\n",
       "        0.        , 0.        , 0.42180747, 0.95542496, 0.1022128 ],\n",
       "       [0.        , 0.17614561, 0.4101668 , 0.        , 0.        ,\n",
       "        0.        , 0.20147614, 0.10142381, 0.        , 0.        ],\n",
       "       [0.        , 0.        , 0.        , 0.9880747 , 0.        ,\n",
       "        0.7065452 , 0.602556  , 0.48707104, 0.        , 0.        ],\n",
       "       [0.17604527, 0.        , 0.        , 0.        , 0.        ,\n",
       "        0.        , 0.        , 0.84334254, 0.8945855 , 0.72915745],\n",
       "       [0.        , 0.        , 0.        , 0.        , 0.23293144,\n",
       "        0.2350415 , 0.78704804, 0.        , 0.        , 0.20438819],\n",
       "       [0.        , 0.        , 0.        , 0.10942628, 0.00130877,\n",
       "        0.        , 0.        , 0.4094274 , 0.01082143, 0.        ],\n",
       "       [0.        , 0.        , 0.        , 0.21641734, 0.        ,\n",
       "        0.31724194, 0.35538766, 0.        , 0.        , 0.46936178],\n",
       "       [0.        , 0.        , 0.        , 0.        , 0.91353625,\n",
       "        0.        , 0.7040352 , 0.52147955, 0.49268502, 0.        ],\n",
       "       [0.        , 0.5996785 , 0.        , 0.5246723 , 0.        ,\n",
       "        0.        , 0.        , 0.9170164 , 0.47608244, 0.        ],\n",
       "       [0.        , 0.41769058, 0.        , 0.        , 0.92990875,\n",
       "        0.        , 0.22981252, 0.        , 0.        , 0.23540662],\n",
       "       [0.        , 0.22088505, 0.        , 0.        , 0.        ,\n",
       "        0.8154559 , 0.        , 0.23452929, 0.        , 0.88327533],\n",
       "       [0.42811713, 0.        , 0.94115525, 0.        , 0.34584206,\n",
       "        0.        , 0.        , 0.        , 0.1731275 , 0.        ],\n",
       "       [0.11871076, 0.64951146, 0.19040094, 0.        , 0.        ,\n",
       "        0.        , 0.        , 0.        , 0.        , 0.26224414],\n",
       "       [0.        , 0.        , 0.19905205, 0.        , 0.66453385,\n",
       "        0.9441609 , 0.17658035, 0.        , 0.        , 0.        ],\n",
       "       [0.        , 0.8829375 , 0.89167756, 0.        , 0.        ,\n",
       "        0.34762165, 0.        , 0.        , 0.02995267, 0.        ],\n",
       "       [0.        , 0.5526871 , 0.        , 0.70496935, 0.        ,\n",
       "        0.        , 0.6193049 , 0.        , 0.04075215, 0.        ],\n",
       "       [0.6127449 , 0.        , 0.01054911, 0.        , 0.72773826,\n",
       "        0.4128602 , 0.        , 0.        , 0.        , 0.        ],\n",
       "       [0.41137826, 0.45999953, 0.71848863, 0.        , 0.        ,\n",
       "        0.29980114, 0.        , 0.        , 0.        , 0.        ],\n",
       "       [0.82947165, 0.20491129, 0.        , 0.        , 0.47647813,\n",
       "        0.        , 0.39832172, 0.        , 0.        , 0.        ],\n",
       "       [0.04573116, 0.        , 0.67741925, 0.        , 0.        ,\n",
       "        0.        , 0.46088123, 0.        , 0.        , 0.39439395],\n",
       "       [0.        , 0.03375057, 0.934714  , 0.        , 0.5239845 ,\n",
       "        0.        , 0.9214213 , 0.        , 0.        , 0.        ],\n",
       "       [0.        , 0.        , 0.9567172 , 0.31415144, 0.        ,\n",
       "        0.40333778, 0.1583537 , 0.        , 0.        , 0.        ],\n",
       "       [0.04850706, 0.        , 0.8573981 , 0.        , 0.        ,\n",
       "        0.        , 0.23557614, 0.44495046, 0.        , 0.        ],\n",
       "       [0.        , 0.        , 0.        , 0.7757434 , 0.29974842,\n",
       "        0.47304207, 0.        , 0.        , 0.        , 0.97353226],\n",
       "       [0.        , 0.        , 0.04344931, 0.08597016, 0.        ,\n",
       "        0.        , 0.660472  , 0.9784147 , 0.        , 0.        ],\n",
       "       [0.        , 0.45209226, 0.7110872 , 0.        , 0.87557894,\n",
       "        0.        , 0.75961554, 0.        , 0.        , 0.        ],\n",
       "       [0.        , 0.09342512, 0.        , 0.        , 0.22442254,\n",
       "        0.01690201, 0.        , 0.        , 0.        , 0.8055896 ],\n",
       "       [0.        , 0.        , 0.09824695, 0.24463587, 0.        ,\n",
       "        0.        , 0.        , 0.32749644, 0.        , 0.45531607],\n",
       "       [0.6346003 , 0.        , 0.        , 0.00316491, 0.5720998 ,\n",
       "        0.        , 0.87135255, 0.        , 0.        , 0.        ],\n",
       "       [0.        , 0.14726698, 0.        , 0.        , 0.        ,\n",
       "        0.2944593 , 0.28086743, 0.        , 0.25112677, 0.        ],\n",
       "       [0.        , 0.        , 0.        , 0.58537555, 0.12253232,\n",
       "        0.8452076 , 0.        , 0.        , 0.        , 0.54433316],\n",
       "       [0.69351566, 0.        , 0.        , 0.50371623, 0.        ,\n",
       "        0.        , 0.9726071 , 0.7246852 , 0.        , 0.        ],\n",
       "       [0.9864582 , 0.        , 0.        , 0.        , 0.        ,\n",
       "        0.1762971 , 0.55006534, 0.        , 0.7705533 , 0.        ],\n",
       "       [0.        , 0.        , 0.09063595, 0.8334261 , 0.        ,\n",
       "        0.        , 0.        , 0.26001835, 0.        , 0.27716133],\n",
       "       [0.        , 0.        , 0.89167565, 0.05737644, 0.        ,\n",
       "        0.1275051 , 0.        , 0.        , 0.        , 0.4685573 ],\n",
       "       [0.        , 0.        , 0.        , 0.39566204, 0.        ,\n",
       "        0.        , 0.62646705, 0.12898347, 0.02942246, 0.        ],\n",
       "       [0.        , 0.84200877, 0.26646206, 0.        , 0.        ,\n",
       "        0.        , 0.23111221, 0.        , 0.        , 0.09374874],\n",
       "       [0.        , 0.        , 0.        , 0.5096388 , 0.694407  ,\n",
       "        0.        , 0.        , 0.9894679 , 0.        , 0.67805064],\n",
       "       [0.        , 0.5960935 , 0.3876133 , 0.68256104, 0.        ,\n",
       "        0.        , 0.        , 0.22186916, 0.        , 0.        ],\n",
       "       [0.        , 0.14635102, 0.        , 0.23753619, 0.        ,\n",
       "        0.        , 0.4664514 , 0.        , 0.        , 0.6143749 ],\n",
       "       [0.2653583 , 0.        , 0.        , 0.25248948, 0.        ,\n",
       "        0.        , 0.06576658, 0.9888273 , 0.        , 0.        ],\n",
       "       [0.        , 0.        , 0.        , 0.4100118 , 0.5066825 ,\n",
       "        0.9791499 , 0.        , 0.9839119 , 0.        , 0.        ],\n",
       "       [0.2264393 , 0.95835906, 0.        , 0.8496141 , 0.        ,\n",
       "        0.        , 0.        , 0.6683453 , 0.        , 0.        ],\n",
       "       [0.10093832, 0.        , 0.        , 0.        , 0.6630357 ,\n",
       "        0.19981535, 0.        , 0.        , 0.        , 0.60982734],\n",
       "       [0.        , 0.65042835, 0.        , 0.        , 0.29258844,\n",
       "        0.        , 0.        , 0.7358039 , 0.        , 0.17556284],\n",
       "       [0.        , 0.        , 0.17079917, 0.13851656, 0.9781894 ,\n",
       "        0.0680179 , 0.        , 0.        , 0.        , 0.        ],\n",
       "       [0.        , 0.        , 0.        , 0.        , 0.3358856 ,\n",
       "        0.79898566, 0.48625088, 0.        , 0.        , 0.5448863 ]],\n",
       "      dtype=float32)"
      ]
     },
     "execution_count": 212,
     "metadata": {},
     "output_type": "execute_result"
    }
   ],
   "source": [
    "b"
   ]
  },
  {
   "cell_type": "code",
   "execution_count": 213,
   "id": "6e158c9b",
   "metadata": {},
   "outputs": [
    {
     "data": {
      "text/plain": [
       "array([[2.05889988, 1.86816645, 4.81181717, 2.25293875, 2.10965443,\n",
       "        1.3379606 , 2.90000367, 2.04914141, 2.58978033, 1.50316036],\n",
       "       [2.73214602, 2.55654955, 3.71485209, 1.96740305, 2.78127933,\n",
       "        3.90701485, 3.27775383, 2.29690385, 1.92299247, 2.65563965],\n",
       "       [1.92874503, 3.16009569, 2.65028286, 1.81787264, 3.2470448 ,\n",
       "        2.28542805, 2.63659263, 2.51668644, 1.07090104, 2.06057048],\n",
       "       [1.06318498, 4.17379856, 2.22772551, 1.25156748, 4.18276644,\n",
       "        1.29158247, 1.3805095 , 3.41988373, 1.02567685, 2.77550673],\n",
       "       [1.18339908, 1.85575962, 3.05342436, 1.07224607, 3.49056172,\n",
       "        1.643646  , 3.45331311, 3.8086679 , 0.65044206, 2.05637264],\n",
       "       [1.04616213, 3.55668378, 3.21012974, 1.57240605, 2.28090835,\n",
       "        1.85009015, 1.33866227, 4.39697981, 1.56214321, 1.77257848],\n",
       "       [1.51664436, 2.50481415, 1.34177089, 3.52348685, 2.7652483 ,\n",
       "        1.13953555, 2.25747991, 4.70517206, 2.24308538, 1.81945622],\n",
       "       [1.69079041, 2.32836771, 1.78949928, 2.18472648, 2.85510015,\n",
       "        0.79378396, 1.79649365, 3.54712319, 1.96256435, 1.36571538],\n",
       "       [1.21413743, 2.98775339, 3.10181856, 3.6299789 , 3.64879417,\n",
       "        1.808532  , 2.6615262 , 3.38018537, 2.19415474, 2.00628471],\n",
       "       [2.04916787, 3.84422541, 5.25903749, 2.6086452 , 2.52041268,\n",
       "        2.84581494, 2.08972192, 2.03660011, 1.84936869, 2.00203204],\n",
       "       [1.45388532, 3.52396989, 3.42697096, 0.94891644, 3.40880156,\n",
       "        1.82624102, 2.60293674, 2.04180241, 2.18476319, 0.74823964],\n",
       "       [2.13862824, 2.7081461 , 1.74243903, 2.36669898, 2.55556989,\n",
       "        1.021245  , 2.8354404 , 3.12611842, 1.64276695, 1.49172533],\n",
       "       [2.28659916, 3.96091747, 3.35846281, 2.93365884, 2.45915508,\n",
       "        2.25237751, 2.6474359 , 0.89587307, 2.01109529, 2.10630918],\n",
       "       [1.99667883, 2.92623019, 4.87788725, 1.22087121, 3.41928959,\n",
       "        2.34876275, 2.95600152, 1.51070964, 1.5358572 , 1.53159881],\n",
       "       [0.48399195, 2.16732454, 2.29685879, 2.77749729, 2.59660983,\n",
       "        3.48321772, 2.69039106, 4.09173536, 0.23865944, 2.9819653 ],\n",
       "       [2.09547639, 2.43079424, 3.45584178, 2.98961782, 1.52310562,\n",
       "        3.42284203, 3.31507182, 3.50517249, 2.16534472, 3.11341858],\n",
       "       [1.5846765 , 2.6610229 , 2.47696686, 3.47096395, 1.44318354,\n",
       "        2.39992619, 3.90113449, 3.24853802, 1.42476261, 1.26029348],\n",
       "       [0.49207467, 2.32539701, 2.28158855, 2.26960659, 3.33331561,\n",
       "        2.43498778, 2.05144072, 3.22464967, 1.61710417, 1.60737669],\n",
       "       [2.53753376, 2.48177147, 2.63684678, 2.05690932, 4.39294624,\n",
       "        1.48624027, 3.49397421, 2.23327565, 1.77373624, 1.76182437],\n",
       "       [2.06782365, 1.88366938, 1.33645391, 1.74252462, 2.38986182,\n",
       "        1.15661955, 2.62855911, 3.65021563, 2.12129402, 1.31996858],\n",
       "       [1.8444016 , 2.24616122, 3.21519399, 3.84321165, 2.23981643,\n",
       "        1.82693553, 4.41473198, 3.72314596, 0.50411344, 2.14350224],\n",
       "       [2.6537714 , 1.17325354, 3.00798154, 2.59040356, 3.04747152,\n",
       "        1.8404907 , 2.62613416, 1.13049936, 1.87763941, 0.85143405],\n",
       "       [0.63378829, 3.3086834 , 1.45307839, 2.515975  , 3.50477862,\n",
       "        1.15534389, 2.82539153, 3.52667999, 1.04326797, 2.32988262],\n",
       "       [1.32871222, 2.5962925 , 1.91946459, 1.89676547, 5.31021118,\n",
       "        2.86852503, 3.07693768, 1.75884128, 0.40501967, 2.92071223],\n",
       "       [0.84001321, 2.09943461, 2.14601922, 1.59919989, 2.23639226,\n",
       "        1.54886544, 3.22486281, 1.79088604, 0.71134549, 2.63080835],\n",
       "       [0.95923513, 2.47990274, 2.59393334, 3.68367243, 2.63144565,\n",
       "        2.46464014, 3.5725472 , 3.20109987, 1.1519556 , 1.66216505],\n",
       "       [0.8192116 , 1.82723117, 1.79568124, 1.82968462, 2.99646425,\n",
       "        2.27581954, 2.3479476 , 2.82430243, 1.13621247, 2.88534355],\n",
       "       [3.62040234, 1.99681151, 1.74900854, 2.94692588, 3.12176991,\n",
       "        2.23573589, 5.28509855, 1.57266247, 1.45820665, 1.25138068],\n",
       "       [1.03277016, 2.8972733 , 2.67078543, 1.65545034, 3.82212543,\n",
       "        2.02195573, 2.44196773, 3.92957735, 1.28237152, 1.25125289],\n",
       "       [1.92872703, 1.50453246, 3.31437445, 3.71006513, 3.04153919,\n",
       "        1.8443445 , 2.06362629, 2.32768703, 1.26170003, 1.08130503],\n",
       "       [1.5923332 , 3.81627297, 3.05205464, 0.91595441, 4.55261135,\n",
       "        1.9873203 , 2.46067786, 2.26720333, 0.90689081, 1.96207857],\n",
       "       [1.00445509, 3.29462194, 1.94454765, 3.21318555, 3.77436352,\n",
       "        2.93665981, 3.03284836, 2.7435503 , 1.2155869 , 0.95832437]])"
      ]
     },
     "execution_count": 213,
     "metadata": {},
     "output_type": "execute_result"
    }
   ],
   "source": [
    "res_np"
   ]
  },
  {
   "cell_type": "code",
   "execution_count": 214,
   "id": "bedc851e",
   "metadata": {},
   "outputs": [
    {
     "data": {
      "text/plain": [
       "array([[2.0588999 , 1.8681664 , 4.811817  , 2.2529387 , 2.1096544 ,\n",
       "        1.3379606 , 2.9000037 , 2.0491414 , 2.5897803 , 1.5031604 ],\n",
       "       [2.732146  , 2.5565495 , 3.714852  , 1.967403  , 2.7812793 ,\n",
       "        3.9070148 , 3.2777538 , 2.2969038 , 1.9229925 , 2.6556396 ],\n",
       "       [1.928745  , 3.1600957 , 2.6502829 , 1.8178726 , 3.2470448 ,\n",
       "        2.285428  , 2.6365926 , 2.5166864 , 1.070901  , 2.0605705 ],\n",
       "       [1.063185  , 4.1737986 , 2.2277255 , 1.2515675 , 4.1827664 ,\n",
       "        1.2915825 , 1.3805095 , 3.4198837 , 1.0256768 , 2.7755067 ],\n",
       "       [1.1833991 , 1.8557596 , 3.0534244 , 1.0722461 , 3.4905617 ,\n",
       "        1.643646  , 3.453313  , 3.808668  , 0.65044206, 2.0563726 ],\n",
       "       [1.0461621 , 3.5566838 , 3.2101297 , 1.572406  , 2.2809083 ,\n",
       "        1.8500901 , 1.3386623 , 4.39698   , 1.5621432 , 1.7725785 ],\n",
       "       [1.5166444 , 2.5048141 , 1.3417709 , 3.5234869 , 2.7652483 ,\n",
       "        1.1395355 , 2.25748   , 4.705172  , 2.2430854 , 1.8194562 ],\n",
       "       [1.6907904 , 2.3283677 , 1.7894993 , 2.1847265 , 2.8551002 ,\n",
       "        0.79378396, 1.7964936 , 3.5471232 , 1.9625643 , 1.3657154 ],\n",
       "       [1.2141374 , 2.9877534 , 3.1018186 , 3.629979  , 3.6487942 ,\n",
       "        1.808532  , 2.6615262 , 3.3801854 , 2.1941547 , 2.0062847 ],\n",
       "       [2.0491679 , 3.8442254 , 5.2590375 , 2.6086452 , 2.5204127 ,\n",
       "        2.845815  , 2.089722  , 2.0366    , 1.8493687 , 2.002032  ],\n",
       "       [1.4538853 , 3.52397   , 3.426971  , 0.94891644, 3.4088016 ,\n",
       "        1.826241  , 2.6029367 , 2.0418024 , 2.1847632 , 0.74823964],\n",
       "       [2.1386282 , 2.708146  , 1.742439  , 2.366699  , 2.55557   ,\n",
       "        1.021245  , 2.8354404 , 3.1261184 , 1.642767  , 1.4917253 ],\n",
       "       [2.2865992 , 3.9609175 , 3.3584628 , 2.9336588 , 2.459155  ,\n",
       "        2.2523775 , 2.647436  , 0.89587307, 2.0110953 , 2.1063092 ],\n",
       "       [1.9966788 , 2.9262302 , 4.8778872 , 1.2208712 , 3.4192896 ,\n",
       "        2.3487628 , 2.9560015 , 1.5107096 , 1.5358572 , 1.5315988 ],\n",
       "       [0.48399195, 2.1673245 , 2.2968588 , 2.7774973 , 2.5966098 ,\n",
       "        3.4832177 , 2.690391  , 4.0917354 , 0.23865944, 2.9819653 ],\n",
       "       [2.0954764 , 2.4307942 , 3.4558418 , 2.9896178 , 1.5231056 ,\n",
       "        3.422842  , 3.3150718 , 3.5051725 , 2.1653447 , 3.1134186 ],\n",
       "       [1.5846765 , 2.661023  , 2.4769669 , 3.470964  , 1.4431835 ,\n",
       "        2.3999262 , 3.9011345 , 3.248538  , 1.4247626 , 1.2602935 ],\n",
       "       [0.49207467, 2.325397  , 2.2815886 , 2.2696066 , 3.3333156 ,\n",
       "        2.4349878 , 2.0514407 , 3.2246497 , 1.6171042 , 1.6073767 ],\n",
       "       [2.5375338 , 2.4817715 , 2.6368468 , 2.0569093 , 4.3929462 ,\n",
       "        1.4862403 , 3.4939742 , 2.2332757 , 1.7737362 , 1.7618244 ],\n",
       "       [2.0678236 , 1.8836694 , 1.3364539 , 1.7425246 , 2.3898618 ,\n",
       "        1.1566195 , 2.628559  , 3.6502156 , 2.121294  , 1.3199686 ],\n",
       "       [1.8444016 , 2.2461612 , 3.215194  , 3.8432117 , 2.2398164 ,\n",
       "        1.8269355 , 4.414732  , 3.723146  , 0.50411344, 2.1435022 ],\n",
       "       [2.6537714 , 1.1732535 , 3.0079815 , 2.5904036 , 3.0474715 ,\n",
       "        1.8404907 , 2.6261342 , 1.1304994 , 1.8776394 , 0.85143405],\n",
       "       [0.6337883 , 3.3086834 , 1.4530784 , 2.515975  , 3.5047786 ,\n",
       "        1.1553439 , 2.8253915 , 3.52668   , 1.043268  , 2.3298826 ],\n",
       "       [1.3287122 , 2.5962925 , 1.9194646 , 1.8967655 , 5.310211  ,\n",
       "        2.868525  , 3.0769377 , 1.7588413 , 0.40501967, 2.9207122 ],\n",
       "       [0.84001315, 2.0994346 , 2.1460192 , 1.5992    , 2.236392  ,\n",
       "        1.5488653 , 3.224863  , 1.7908863 , 0.7113455 , 2.6308084 ],\n",
       "       [0.9592351 , 2.4799027 , 2.593933  , 3.6836722 , 2.6314456 ,\n",
       "        2.4646401 , 3.572547  , 3.2011003 , 1.1519556 , 1.662165  ],\n",
       "       [0.8192115 , 1.8272312 , 1.7956815 , 1.8296847 , 2.9964643 ,\n",
       "        2.2758198 , 2.3479474 , 2.8243022 , 1.1362125 , 2.8853436 ],\n",
       "       [3.6204023 , 1.9968116 , 1.7490085 , 2.9469256 , 3.12177   ,\n",
       "        2.235736  , 5.2850986 , 1.5726624 , 1.4582067 , 1.2513807 ],\n",
       "       [1.0327702 , 2.8972735 , 2.6707854 , 1.6554506 , 3.8221254 ,\n",
       "        2.0219557 , 2.4419675 , 3.9295774 , 1.2823715 , 1.2512529 ],\n",
       "       [1.9287269 , 1.5045323 , 3.3143744 , 3.7100654 , 3.0415392 ,\n",
       "        1.8443446 , 2.0636263 , 2.3276868 , 1.2617    , 1.081305  ],\n",
       "       [1.5923332 , 3.8162732 , 3.0520544 , 0.9159544 , 4.5526114 ,\n",
       "        1.9873202 , 2.4606779 , 2.2672033 , 0.9068908 , 1.9620786 ],\n",
       "       [1.0044551 , 3.2946215 , 1.9445477 , 3.2131855 , 3.7743635 ,\n",
       "        2.93666   , 3.0328484 , 2.7435503 , 1.2155869 , 0.9583244 ]],\n",
       "      dtype=float32)"
      ]
     },
     "execution_count": 214,
     "metadata": {},
     "output_type": "execute_result"
    }
   ],
   "source": [
    "a.dot(b)"
   ]
  },
  {
   "cell_type": "code",
   "execution_count": 215,
   "id": "76320bef",
   "metadata": {},
   "outputs": [
    {
     "data": {
      "text/plain": [
       "array([[ True,  True,  True,  True,  True,  True,  True,  True,  True,\n",
       "         True],\n",
       "       [ True,  True,  True,  True,  True,  True,  True,  True,  True,\n",
       "         True],\n",
       "       [ True,  True,  True,  True,  True,  True,  True,  True,  True,\n",
       "         True],\n",
       "       [ True,  True,  True,  True,  True,  True,  True,  True,  True,\n",
       "         True],\n",
       "       [ True,  True,  True,  True,  True,  True,  True,  True,  True,\n",
       "         True],\n",
       "       [ True,  True,  True,  True,  True,  True,  True,  True,  True,\n",
       "         True],\n",
       "       [ True,  True,  True,  True,  True,  True,  True,  True,  True,\n",
       "         True],\n",
       "       [ True,  True,  True,  True,  True,  True,  True,  True,  True,\n",
       "         True],\n",
       "       [ True,  True,  True,  True,  True,  True,  True,  True,  True,\n",
       "         True],\n",
       "       [ True,  True,  True,  True,  True,  True,  True,  True,  True,\n",
       "         True],\n",
       "       [ True,  True,  True,  True,  True,  True,  True,  True,  True,\n",
       "         True],\n",
       "       [ True,  True,  True,  True,  True,  True,  True,  True,  True,\n",
       "         True],\n",
       "       [ True,  True,  True,  True,  True,  True,  True,  True,  True,\n",
       "         True],\n",
       "       [ True,  True,  True,  True,  True,  True,  True,  True,  True,\n",
       "         True],\n",
       "       [ True,  True,  True,  True,  True,  True,  True,  True,  True,\n",
       "         True],\n",
       "       [ True,  True,  True,  True,  True,  True,  True,  True,  True,\n",
       "         True],\n",
       "       [ True,  True,  True,  True,  True,  True,  True,  True,  True,\n",
       "         True],\n",
       "       [ True,  True,  True,  True,  True,  True,  True,  True,  True,\n",
       "         True],\n",
       "       [ True,  True,  True,  True,  True,  True,  True,  True,  True,\n",
       "         True],\n",
       "       [ True,  True,  True,  True,  True,  True,  True,  True,  True,\n",
       "         True],\n",
       "       [ True,  True,  True,  True,  True,  True,  True,  True,  True,\n",
       "         True],\n",
       "       [ True,  True,  True,  True,  True,  True,  True,  True,  True,\n",
       "         True],\n",
       "       [ True,  True,  True,  True,  True,  True,  True,  True,  True,\n",
       "         True],\n",
       "       [ True,  True,  True,  True,  True,  True,  True,  True,  True,\n",
       "         True],\n",
       "       [False,  True,  True, False, False, False, False, False,  True,\n",
       "         True],\n",
       "       [False,  True, False, False,  True,  True, False, False,  True,\n",
       "         True],\n",
       "       [False,  True, False, False,  True, False, False, False,  True,\n",
       "         True],\n",
       "       [ True, False,  True, False,  True,  True,  True, False,  True,\n",
       "         True],\n",
       "       [ True, False,  True, False,  True,  True, False,  True,  True,\n",
       "         True],\n",
       "       [False, False,  True, False,  True, False,  True, False,  True,\n",
       "         True],\n",
       "       [ True, False, False,  True,  True, False,  True,  True,  True,\n",
       "         True],\n",
       "       [ True, False,  True,  True,  True, False,  True,  True,  True,\n",
       "         True]])"
      ]
     },
     "execution_count": 215,
     "metadata": {},
     "output_type": "execute_result"
    }
   ],
   "source": [
    "res_np==mult"
   ]
  },
  {
   "cell_type": "code",
   "execution_count": 216,
   "id": "ad10d1e5",
   "metadata": {},
   "outputs": [
    {
     "data": {
      "text/plain": [
       "(32, 10)"
      ]
     },
     "execution_count": 216,
     "metadata": {},
     "output_type": "execute_result"
    }
   ],
   "source": [
    "res_np.shape"
   ]
  },
  {
   "cell_type": "code",
   "execution_count": 217,
   "id": "491e11ff",
   "metadata": {},
   "outputs": [
    {
     "data": {
      "text/plain": [
       "(32, 10)"
      ]
     },
     "execution_count": 217,
     "metadata": {},
     "output_type": "execute_result"
    }
   ],
   "source": [
    "mult.shape"
   ]
  },
  {
   "cell_type": "markdown",
   "id": "5111a600",
   "metadata": {},
   "source": [
    "# Matmult Transposed Dense (SPR-T OUT)"
   ]
  },
  {
   "cell_type": "code",
   "execution_count": 218,
   "id": "7be62159",
   "metadata": {},
   "outputs": [],
   "source": [
    "c=np.zeros(a.T.shape)\n",
    "at = a.T\n",
    "for row in range(at.shape[0]):\n",
    "    for col in range(at.shape[1]):\n",
    "        c[row][col] = at[row][col]"
   ]
  },
  {
   "cell_type": "code",
   "execution_count": 219,
   "id": "5ffc7d0f",
   "metadata": {},
   "outputs": [],
   "source": [
    "a_buf = cl.Buffer(ctx, mf.READ_WRITE | mf.COPY_HOST_PTR, hostbuf=c.astype(np.float32))\n",
    "b_buf = cl.Buffer(ctx, mf.READ_WRITE | mf.COPY_HOST_PTR, hostbuf=b)\n",
    "\n",
    "prg = cl.Program(ctx, \"\"\"\n",
    "    // multilplies x TRANSPOSED by y (dense-dense)\n",
    "    __kernel void matmul0t(__global  float* x,      // INPUT MATRIX DATA\n",
    "                          __global  float* y,      // INPUT\n",
    "                          __global  float* resdata,// OUT\n",
    "                          __global  uint*  rescols,\n",
    "                          __global  uint*  resnnzs,\n",
    "                          uint ellw,\n",
    "                          uint msize,\n",
    "                          uint isize\n",
    "                          ) { // LOCAL SHARED BUFFER\n",
    "      uint osize = get_global_size(0);\n",
    "      int gidy = get_global_id(0); // row\n",
    "      \n",
    "      resnnzs[gidy] = 0;\n",
    "      for (uint gidx = 0; gidx < isize; gidx++) {\n",
    "        float ret = 0.0;\n",
    "        uint i;\n",
    "        for (i = 0; i < msize; i++) {\n",
    "          uint xidx = i*isize+gidx;\n",
    "          float xval = x[xidx];\n",
    "          uint yidx = osize*i+gidy;\n",
    "          float yval = y[yidx];\n",
    "          ret += xval*yval;\n",
    "          if (gidx==0 && gidy==0)\n",
    "            printf(\"\\\\nmult: %.2f x %.2f - %.2f  -- %i/%i\", xval, yval, ret, xidx, yidx);\n",
    "        }\n",
    "        //if (gidx==0&&gidy==0)\n",
    "        //  printf(\"\\\\nsum:%.2f\", ret);\n",
    "        \n",
    "        // add for \n",
    "        uint nnz = resnnzs[gidy];\n",
    "        for (i = 0; i < nnz; i++) {\n",
    "          if (rescols[i] >= gidx) {\n",
    "            break;\n",
    "          }\n",
    "          for (uint j = nnz; j >= i; j--) {\n",
    "            //resdata[j+1] = resdata[j];\n",
    "          }\n",
    "        }\n",
    "        resdata[gidy * ellw + i] = ret;\n",
    "        rescols[gidy * ellw + i] = gidx;\n",
    "        resnnzs[gidy] += 1;\n",
    "      }\n",
    "    }\"\"\").build()"
   ]
  },
  {
   "cell_type": "code",
   "execution_count": 220,
   "id": "24d94900",
   "metadata": {},
   "outputs": [
    {
     "data": {
      "text/plain": [
       "((32, 64), (64, 10))"
      ]
     },
     "execution_count": 220,
     "metadata": {},
     "output_type": "execute_result"
    }
   ],
   "source": [
    "a.shape, b.shape"
   ]
  },
  {
   "cell_type": "code",
   "execution_count": 221,
   "id": "4341404d",
   "metadata": {},
   "outputs": [],
   "source": [
    "rows = a.shape[0]\n",
    "cols = b.shape[1]"
   ]
  },
  {
   "cell_type": "code",
   "execution_count": 222,
   "id": "53512f5a",
   "metadata": {},
   "outputs": [
    {
     "data": {
      "text/plain": [
       "(32, 10)"
      ]
     },
     "execution_count": 222,
     "metadata": {},
     "output_type": "execute_result"
    }
   ],
   "source": [
    "mult = mult.astype(np.float32)\n",
    "mult.shape"
   ]
  },
  {
   "cell_type": "code",
   "execution_count": 223,
   "id": "2990b97f",
   "metadata": {},
   "outputs": [
    {
     "name": "stdout",
     "output_type": "stream",
     "text": [
      "\n",
      "mult: 0.82 x 0.94 - 0.77  -- 0/0\n",
      "mult: 0.00 x 0.00 - 0.77  -- 32/10\n",
      "mult: 0.00 x 0.00 - 0.77  -- 64/20\n",
      "mult: 0.48 x 0.00 - 0.77  -- 96/30\n",
      "mult: 0.91 x 0.00 - 0.77  -- 128/40\n",
      "mult: 0.00 x 0.00 - 0.77  -- 160/50\n",
      "mult: 0.00 x 0.00 - 0.77  -- 192/60\n",
      "mult: 0.88 x 0.31 - 1.05  -- 224/70\n",
      "mult: 0.00 x 0.11 - 1.05  -- 256/80\n",
      "mult: 0.00 x 0.07 - 1.05  -- 288/90\n",
      "mult: 0.00 x 0.00 - 1.05  -- 320/100\n",
      "mult: 0.87 x 0.16 - 1.19  -- 352/110\n",
      "mult: 0.00 x 0.00 - 1.19  -- 384/120\n",
      "mult: 0.00 x 0.64 - 1.19  -- 416/130\n",
      "mult: 0.26 x 0.50 - 1.32  -- 448/140\n",
      "mult: 0.36 x 0.00 - 1.32  -- 480/150\n",
      "mult: 0.00 x 0.00 - 1.32  -- 512/160\n",
      "mult: 0.41 x 0.00 - 1.32  -- 544/170\n",
      "mult: 0.00 x 0.00 - 1.32  -- 576/180\n",
      "mult: 0.00 x 0.00 - 1.32  -- 608/190\n",
      "mult: 0.62 x 0.18 - 1.43  -- 640/200\n",
      "mult: 0.47 x 0.00 - 1.43  -- 672/210\n",
      "mult: 0.00 x 0.00 - 1.43  -- 704/220\n",
      "mult: 0.00 x 0.00 - 1.43  -- 736/230\n",
      "mult: 0.00 x 0.00 - 1.43  -- 768/240\n",
      "mult: 0.00 x 0.00 - 1.43  -- 800/250\n",
      "mult: 0.00 x 0.00 - 1.43  -- 832/260\n",
      "mult: 0.00 x 0.0"
     ]
    },
    {
     "data": {
      "text/plain": [
       "<pyopencl._cl.NannyEvent at 0x7ff1542101d0>"
      ]
     },
     "execution_count": 223,
     "metadata": {},
     "output_type": "execute_result"
    },
    {
     "name": "stdout",
     "output_type": "stream",
     "text": [
      "0 - 1.43  -- 864/270\n",
      "mult: 0.22 x 0.43 - 1.53  -- 896/280\n",
      "mult: 0.59 x 0.12 - 1.60  -- 928/290\n",
      "mult: 0.00 x 0.00 - 1.60  -- 960/300\n",
      "mult: 0.44 x 0.00 - 1.60  -- 992/310\n",
      "mult: 0.47 x 0.00 - 1.60  -- 1024/320\n",
      "mult: 0.69 x 0.61 - 2.02  -- 1056/330\n",
      "mult: 0.00 x 0.41 - 2.02  -- 1088/340\n",
      "mult: 0.00 x 0.83 - 2.02  -- 1120/350\n",
      "mult: 0.38 x 0.05 - 2.04  -- 1152/360\n",
      "mult: 0.81 x 0.00 - 2.04  -- 1184/370\n",
      "mult: 0.98 x 0.00 - 2.04  -- 1216/380\n",
      "mult: 0.45 x 0.05 - 2.06  -- 1248/390\n",
      "mult: 0.00 x 0.00 - 2.06  -- 1280/400\n",
      "mult: 0.00 x 0.00 - 2.06  -- 1312/410\n",
      "mult: 0.29 x 0.00 - 2.06  -- 1344/420\n",
      "mult: 0.00 x 0.00 - 2.06  -- 1376/430\n",
      "mult: 0.04 x 0.00 - 2.06  -- 1408/440\n",
      "mult: 0.00 x 0.63 - 2.06  -- 1440/450\n",
      "mult: 0.28 x 0.00 - 2.06  -- 1472/460\n",
      "mult: 0.00 x 0.00 - 2.06  -- 1504/470\n",
      "mult: 0.00 x 0.69 - 2.06  -- 1536/480\n",
      "mult: 0.00 x 0.99 - 2.06  -- 1568/490\n",
      "mult: 0.42 x 0.00 - 2.06  -- 1600/500\n",
      "mult: 0.00 x 0.00 - 2.06  -- 1632/510\n",
      "mult: 0.00 x 0.00 - 2.06  -- 1664/520\n",
      "mult: 0.00 x 0.00 - 2.06  -- 1696/530\n",
      "mult: 0.39 x 0.00 - 2.06  -- 1728/540\n",
      "mult: 0.00 x 0.00 - 2.06  -- 1760/550\n",
      "mult: 0.00 x 0.00 - 2.06  -- 1792/560\n",
      "mult: 0.00 x 0.27 - 2.06  -- 1824/570\n",
      "mult: 0.00 x 0.00 - 2.06  -- 1856/580\n",
      "mult: 0.00 x 0.23 - 2.06  -- 1888/590\n",
      "mult: 0.00 x 0.10 - 2.06  -- 1920/600\n",
      "mult: 0.23 x 0.00 - 2.06  -- 1952/610\n",
      "mult: 0.00 x 0.00 - 2.06  -- 1984/620\n",
      "mult: 0.00 x 0.00 - 2.06  -- 2016/630"
     ]
    }
   ],
   "source": [
    "resdatat_buf = cl.Buffer(ctx, mf.READ_WRITE, np.prod([cols,rows])*4)\n",
    "rescolst_buf = cl.Buffer(ctx, mf.READ_WRITE, np.prod([cols,rows])*4)\n",
    "resnnzst_buf = cl.Buffer(ctx, mf.READ_WRITE, cols*4)\n",
    "\n",
    "knl = prg.matmul0t  # Use this Kernel object for repeated calls\n",
    "knl(queue, [cols], None, a_buf, b_buf, resdatat_buf, rescolst_buf, resnnzst_buf, np.uint32(rows), np.uint32(a.shape[1]), np.uint32(rows))\n",
    "\n",
    "resdatat = np.zeros(cols*rows).astype(np.float32)\n",
    "rescolst = np.zeros(cols*rows).astype(np.uint32)\n",
    "resnnzst = np.zeros(cols).astype(np.uint32)\n",
    "cl.enqueue_copy(queue, resdatat, resdatat_buf)\n",
    "cl.enqueue_copy(queue, rescolst, rescolst_buf)\n",
    "cl.enqueue_copy(queue, resnnzst, resnnzst_buf)"
   ]
  },
  {
   "cell_type": "code",
   "execution_count": 224,
   "id": "3e4ccefe",
   "metadata": {},
   "outputs": [
    {
     "data": {
      "text/plain": [
       "array([2.0588999 , 2.732146  , 1.928745  , 1.063185  , 1.1833991 ,\n",
       "       1.0461621 , 1.5166444 , 1.6907904 , 1.2141374 , 2.0491679 ,\n",
       "       1.4538853 , 2.1386282 , 2.2865992 , 1.9966788 , 0.48399195,\n",
       "       2.0954764 , 1.5846765 , 0.49207467, 2.5375338 , 2.0678236 ,\n",
       "       1.8444016 , 2.6537714 , 0.6337883 , 1.3287122 , 0.8400132 ,\n",
       "       0.95923513, 0.8192116 , 3.6204023 , 1.0327702 , 1.928727  ,\n",
       "       1.5923332 , 1.0044551 , 1.8681664 , 2.5565495 , 3.1600957 ,\n",
       "       4.1737986 , 1.8557596 , 3.5566838 , 2.5048141 , 2.3283677 ,\n",
       "       2.9877534 , 3.8442254 , 3.52397   , 2.708146  , 3.9609175 ,\n",
       "       2.9262302 , 2.1673245 , 2.4307942 , 2.661023  , 2.325397  ,\n",
       "       2.4817715 , 1.8836694 , 2.2461612 , 1.1732535 , 3.3086834 ,\n",
       "       2.5962925 , 2.0994346 , 2.4799027 , 1.8272312 , 1.9968115 ,\n",
       "       2.8972733 , 1.5045325 , 3.816273  , 3.294622  , 4.811817  ,\n",
       "       3.714852  , 2.6502829 , 2.2277255 , 3.0534244 , 3.2101297 ,\n",
       "       1.3417709 , 1.7894993 , 3.1018186 , 5.2590375 , 3.426971  ,\n",
       "       1.742439  , 3.3584628 , 4.8778872 , 2.2968588 , 3.4558418 ,\n",
       "       2.4769669 , 2.2815886 , 2.6368468 , 1.3364539 , 3.215194  ,\n",
       "       3.0079815 , 1.4530784 , 1.9194646 , 2.1460192 , 2.5939333 ,\n",
       "       1.7956812 , 1.7490085 , 2.6707854 , 3.3143744 , 3.0520546 ,\n",
       "       1.9445477 , 2.2529387 , 1.967403  , 1.8178726 , 1.2515675 ,\n",
       "       1.0722461 , 1.572406  , 3.5234869 , 2.1847265 , 3.629979  ,\n",
       "       2.6086452 , 0.94891644, 2.366699  , 2.9336588 , 1.2208712 ,\n",
       "       2.7774973 , 2.9896178 , 3.470964  , 2.2696066 , 2.0569093 ,\n",
       "       1.7425246 , 3.8432117 , 2.5904036 , 2.515975  , 1.8967655 ,\n",
       "       1.5991999 , 3.6836724 , 1.8296846 , 2.9469259 , 1.6554503 ,\n",
       "       3.7100651 , 0.9159544 , 3.2131855 , 2.1096544 , 2.7812793 ,\n",
       "       3.2470448 , 4.1827664 , 3.4905617 , 2.2809083 , 2.7652483 ,\n",
       "       2.8551002 , 3.6487942 , 2.5204127 , 3.4088016 , 2.55557   ,\n",
       "       2.459155  , 3.4192896 , 2.5966098 , 1.5231056 , 1.4431835 ,\n",
       "       3.3333156 , 4.3929462 , 2.3898618 , 2.2398164 , 3.0474715 ,\n",
       "       3.5047786 , 5.310211  , 2.2363923 , 2.6314456 , 2.9964643 ,\n",
       "       3.12177   , 3.8221254 , 3.0415392 , 4.5526114 , 3.7743635 ,\n",
       "       1.3379606 , 3.9070148 , 2.285428  , 1.2915825 , 1.643646  ,\n",
       "       1.8500901 , 1.1395355 , 0.79378396, 1.808532  , 2.845815  ,\n",
       "       1.826241  , 1.021245  , 2.2523775 , 2.3487628 , 3.4832177 ,\n",
       "       3.422842  , 2.3999262 , 2.4349878 , 1.4862403 , 1.1566195 ,\n",
       "       1.8269355 , 1.8404907 , 1.1553439 , 2.868525  , 1.5488654 ,\n",
       "       2.4646401 , 2.2758195 , 2.235736  , 2.0219557 , 1.8443445 ,\n",
       "       1.9873203 , 2.9366598 , 2.9000037 , 3.2777538 , 2.6365926 ,\n",
       "       1.3805095 , 3.453313  , 1.3386623 , 2.25748   , 1.7964936 ,\n",
       "       2.6615262 , 2.089722  , 2.6029367 , 2.8354404 , 2.647436  ,\n",
       "       2.9560015 , 2.690391  , 3.3150718 , 3.9011345 , 2.0514407 ,\n",
       "       3.4939742 , 2.628559  , 4.414732  , 2.6261342 , 2.8253915 ,\n",
       "       3.0769377 , 3.2248628 , 3.5725472 , 2.3479476 , 5.2850986 ,\n",
       "       2.4419677 , 2.0636263 , 2.4606779 , 3.0328484 , 2.0491414 ,\n",
       "       2.2969038 , 2.5166864 , 3.4198837 , 3.808668  , 4.39698   ,\n",
       "       4.705172  , 3.5471232 , 3.3801854 , 2.0366    , 2.0418024 ,\n",
       "       3.1261184 , 0.89587307, 1.5107096 , 4.0917354 , 3.5051725 ,\n",
       "       3.248538  , 3.2246497 , 2.2332757 , 3.6502156 , 3.723146  ,\n",
       "       1.1304994 , 3.52668   , 1.7588413 , 1.790886  , 3.2010999 ,\n",
       "       2.8243024 , 1.5726625 , 3.9295774 , 2.327687  , 2.2672033 ,\n",
       "       2.7435503 , 2.5897803 , 1.9229925 , 1.070901  , 1.0256768 ,\n",
       "       0.65044206, 1.5621432 , 2.2430854 , 1.9625643 , 2.1941547 ,\n",
       "       1.8493687 , 2.1847632 , 1.642767  , 2.0110953 , 1.5358572 ,\n",
       "       0.23865944, 2.1653447 , 1.4247626 , 1.6171042 , 1.7737362 ,\n",
       "       2.121294  , 0.50411344, 1.8776394 , 1.043268  , 0.40501967,\n",
       "       0.7113455 , 1.1519556 , 1.1362125 , 1.4582067 , 1.2823715 ,\n",
       "       1.2617    , 0.9068908 , 1.2155869 , 1.5031604 , 2.6556396 ,\n",
       "       2.0605705 , 2.7755067 , 2.0563726 , 1.7725785 , 1.8194562 ,\n",
       "       1.3657154 , 2.0062847 , 2.002032  , 0.74823964, 1.4917253 ,\n",
       "       2.1063092 , 1.5315988 , 2.9819653 , 3.1134186 , 1.2602935 ,\n",
       "       1.6073767 , 1.7618244 , 1.3199686 , 2.1435022 , 0.85143405,\n",
       "       2.3298826 , 2.9207122 , 2.6308084 , 1.662165  , 2.8853436 ,\n",
       "       1.2513807 , 1.2512529 , 1.081305  , 1.9620786 , 0.9583244 ],\n",
       "      dtype=float32)"
      ]
     },
     "execution_count": 224,
     "metadata": {},
     "output_type": "execute_result"
    }
   ],
   "source": [
    "resdatat"
   ]
  },
  {
   "cell_type": "code",
   "execution_count": 225,
   "id": "c55c96b9",
   "metadata": {},
   "outputs": [
    {
     "data": {
      "text/plain": [
       "array([ 0,  1,  2,  3,  4,  5,  6,  7,  8,  9, 10, 11, 12, 13, 14, 15, 16,\n",
       "       17, 18, 19, 20, 21, 22, 23, 24, 25, 26, 27, 28, 29, 30, 31,  0,  1,\n",
       "        2,  3,  4,  5,  6,  7,  8,  9, 10, 11, 12, 13, 14, 15, 16, 17, 18,\n",
       "       19, 20, 21, 22, 23, 24, 25, 26, 27, 28, 29, 30, 31,  0,  1,  2,  3,\n",
       "        4,  5,  6,  7,  8,  9, 10, 11, 12, 13, 14, 15, 16, 17, 18, 19, 20,\n",
       "       21, 22, 23, 24, 25, 26, 27, 28, 29, 30, 31,  0,  1,  2,  3,  4,  5,\n",
       "        6,  7,  8,  9, 10, 11, 12, 13, 14, 15, 16, 17, 18, 19, 20, 21, 22,\n",
       "       23, 24, 25, 26, 27, 28, 29, 30, 31,  0,  1,  2,  3,  4,  5,  6,  7,\n",
       "        8,  9, 10, 11, 12, 13, 14, 15, 16, 17, 18, 19, 20, 21, 22, 23, 24,\n",
       "       25, 26, 27, 28, 29, 30, 31,  0,  1,  2,  3,  4,  5,  6,  7,  8,  9,\n",
       "       10, 11, 12, 13, 14, 15, 16, 17, 18, 19, 20, 21, 22, 23, 24, 25, 26,\n",
       "       27, 28, 29, 30, 31,  0,  1,  2,  3,  4,  5,  6,  7,  8,  9, 10, 11,\n",
       "       12, 13, 14, 15, 16, 17, 18, 19, 20, 21, 22, 23, 24, 25, 26, 27, 28,\n",
       "       29, 30, 31,  0,  1,  2,  3,  4,  5,  6,  7,  8,  9, 10, 11, 12, 13,\n",
       "       14, 15, 16, 17, 18, 19, 20, 21, 22, 23, 24, 25, 26, 27, 28, 29, 30,\n",
       "       31,  0,  1,  2,  3,  4,  5,  6,  7,  8,  9, 10, 11, 12, 13, 14, 15,\n",
       "       16, 17, 18, 19, 20, 21, 22, 23, 24, 25, 26, 27, 28, 29, 30, 31,  0,\n",
       "        1,  2,  3,  4,  5,  6,  7,  8,  9, 10, 11, 12, 13, 14, 15, 16, 17,\n",
       "       18, 19, 20, 21, 22, 23, 24, 25, 26, 27, 28, 29, 30, 31],\n",
       "      dtype=uint32)"
      ]
     },
     "execution_count": 225,
     "metadata": {},
     "output_type": "execute_result"
    }
   ],
   "source": [
    "rescolst"
   ]
  },
  {
   "cell_type": "code",
   "execution_count": 226,
   "id": "1601e32e",
   "metadata": {},
   "outputs": [
    {
     "data": {
      "text/plain": [
       "array([32, 32, 32, 32, 32, 32, 32, 32, 32, 32], dtype=uint32)"
      ]
     },
     "execution_count": 226,
     "metadata": {},
     "output_type": "execute_result"
    }
   ],
   "source": [
    "resnnzst"
   ]
  },
  {
   "cell_type": "code",
   "execution_count": 227,
   "id": "2b571bfd",
   "metadata": {},
   "outputs": [
    {
     "data": {
      "text/plain": [
       "array([[2.05889988, 1.86816645, 4.81181717, 2.25293875, 2.10965443,\n",
       "        1.3379606 , 2.90000367, 2.04914141, 2.58978033, 1.50316036],\n",
       "       [2.73214602, 2.55654955, 3.71485209, 1.96740305, 2.78127933,\n",
       "        3.90701485, 3.27775383, 2.29690385, 1.92299247, 2.65563965],\n",
       "       [1.92874503, 3.16009569, 2.65028286, 1.81787264, 3.2470448 ,\n",
       "        2.28542805, 2.63659263, 2.51668644, 1.07090104, 2.06057048],\n",
       "       [1.06318498, 4.17379856, 2.22772551, 1.25156748, 4.18276644,\n",
       "        1.29158247, 1.3805095 , 3.41988373, 1.02567685, 2.77550673],\n",
       "       [1.18339908, 1.85575962, 3.05342436, 1.07224607, 3.49056172,\n",
       "        1.643646  , 3.45331311, 3.8086679 , 0.65044206, 2.05637264],\n",
       "       [1.04616213, 3.55668378, 3.21012974, 1.57240605, 2.28090835,\n",
       "        1.85009015, 1.33866227, 4.39697981, 1.56214321, 1.77257848],\n",
       "       [1.51664436, 2.50481415, 1.34177089, 3.52348685, 2.7652483 ,\n",
       "        1.13953555, 2.25747991, 4.70517206, 2.24308538, 1.81945622],\n",
       "       [1.69079041, 2.32836771, 1.78949928, 2.18472648, 2.85510015,\n",
       "        0.79378396, 1.79649365, 3.54712319, 1.96256435, 1.36571538],\n",
       "       [1.21413743, 2.98775339, 3.10181856, 3.6299789 , 3.64879417,\n",
       "        1.808532  , 2.6615262 , 3.38018537, 2.19415474, 2.00628471],\n",
       "       [2.04916787, 3.84422541, 5.25903749, 2.6086452 , 2.52041268,\n",
       "        2.84581494, 2.08972192, 2.03660011, 1.84936869, 2.00203204],\n",
       "       [1.45388532, 3.52396989, 3.42697096, 0.94891644, 3.40880156,\n",
       "        1.82624102, 2.60293674, 2.04180241, 2.18476319, 0.74823964],\n",
       "       [2.13862824, 2.7081461 , 1.74243903, 2.36669898, 2.55556989,\n",
       "        1.021245  , 2.8354404 , 3.12611842, 1.64276695, 1.49172533],\n",
       "       [2.28659916, 3.96091747, 3.35846281, 2.93365884, 2.45915508,\n",
       "        2.25237751, 2.6474359 , 0.89587307, 2.01109529, 2.10630918],\n",
       "       [1.99667883, 2.92623019, 4.87788725, 1.22087121, 3.41928959,\n",
       "        2.34876275, 2.95600152, 1.51070964, 1.5358572 , 1.53159881],\n",
       "       [0.48399195, 2.16732454, 2.29685879, 2.77749729, 2.59660983,\n",
       "        3.48321772, 2.69039106, 4.09173536, 0.23865944, 2.9819653 ],\n",
       "       [2.09547639, 2.43079424, 3.45584178, 2.98961782, 1.52310562,\n",
       "        3.42284203, 3.31507182, 3.50517249, 2.16534472, 3.11341858],\n",
       "       [1.5846765 , 2.6610229 , 2.47696686, 3.47096395, 1.44318354,\n",
       "        2.39992619, 3.90113449, 3.24853802, 1.42476261, 1.26029348],\n",
       "       [0.49207467, 2.32539701, 2.28158855, 2.26960659, 3.33331561,\n",
       "        2.43498778, 2.05144072, 3.22464967, 1.61710417, 1.60737669],\n",
       "       [2.53753376, 2.48177147, 2.63684678, 2.05690932, 4.39294624,\n",
       "        1.48624027, 3.49397421, 2.23327565, 1.77373624, 1.76182437],\n",
       "       [2.06782365, 1.88366938, 1.33645391, 1.74252462, 2.38986182,\n",
       "        1.15661955, 2.62855911, 3.65021563, 2.12129402, 1.31996858],\n",
       "       [1.8444016 , 2.24616122, 3.21519399, 3.84321165, 2.23981643,\n",
       "        1.82693553, 4.41473198, 3.72314596, 0.50411344, 2.14350224],\n",
       "       [2.6537714 , 1.17325354, 3.00798154, 2.59040356, 3.04747152,\n",
       "        1.8404907 , 2.62613416, 1.13049936, 1.87763941, 0.85143405],\n",
       "       [0.63378829, 3.3086834 , 1.45307839, 2.515975  , 3.50477862,\n",
       "        1.15534389, 2.82539153, 3.52667999, 1.04326797, 2.32988262],\n",
       "       [1.32871222, 2.5962925 , 1.91946459, 1.89676547, 5.31021118,\n",
       "        2.86852503, 3.07693768, 1.75884128, 0.40501967, 2.92071223],\n",
       "       [0.84001321, 2.09943461, 2.14601922, 1.59919989, 2.23639226,\n",
       "        1.54886544, 3.22486281, 1.79088604, 0.71134549, 2.63080835],\n",
       "       [0.95923513, 2.47990274, 2.59393334, 3.68367243, 2.63144565,\n",
       "        2.46464014, 3.5725472 , 3.20109987, 1.1519556 , 1.66216505],\n",
       "       [0.8192116 , 1.82723117, 1.79568124, 1.82968462, 2.99646425,\n",
       "        2.27581954, 2.3479476 , 2.82430243, 1.13621247, 2.88534355],\n",
       "       [3.62040234, 1.99681151, 1.74900854, 2.94692588, 3.12176991,\n",
       "        2.23573589, 5.28509855, 1.57266247, 1.45820665, 1.25138068],\n",
       "       [1.03277016, 2.8972733 , 2.67078543, 1.65545034, 3.82212543,\n",
       "        2.02195573, 2.44196773, 3.92957735, 1.28237152, 1.25125289],\n",
       "       [1.92872703, 1.50453246, 3.31437445, 3.71006513, 3.04153919,\n",
       "        1.8443445 , 2.06362629, 2.32768703, 1.26170003, 1.08130503],\n",
       "       [1.5923332 , 3.81627297, 3.05205464, 0.91595441, 4.55261135,\n",
       "        1.9873203 , 2.46067786, 2.26720333, 0.90689081, 1.96207857],\n",
       "       [1.00445509, 3.29462194, 1.94454765, 3.21318555, 3.77436352,\n",
       "        2.93665981, 3.03284836, 2.7435503 , 1.2155869 , 0.95832437]])"
      ]
     },
     "execution_count": 227,
     "metadata": {},
     "output_type": "execute_result"
    }
   ],
   "source": [
    "res_np = to_dense(resdatat, rescolst, resnnzst, a.shape[0], mult.T.shape)\n",
    "res_np.T"
   ]
  },
  {
   "cell_type": "code",
   "execution_count": 228,
   "id": "66b02aa1",
   "metadata": {},
   "outputs": [
    {
     "data": {
      "text/plain": [
       "5.960464477539062e-07"
      ]
     },
     "execution_count": 228,
     "metadata": {},
     "output_type": "execute_result"
    }
   ],
   "source": [
    "(res_np.T-mult).sum()"
   ]
  },
  {
   "cell_type": "code",
   "execution_count": 229,
   "id": "4700fe09",
   "metadata": {},
   "outputs": [
    {
     "data": {
      "text/plain": [
       "(10, 32)"
      ]
     },
     "execution_count": 229,
     "metadata": {},
     "output_type": "execute_result"
    }
   ],
   "source": [
    "res_np.shape"
   ]
  },
  {
   "cell_type": "code",
   "execution_count": 230,
   "id": "b806ca14",
   "metadata": {},
   "outputs": [
    {
     "data": {
      "text/plain": [
       "array([[2.0588999 , 1.8681664 , 4.811817  , 2.2529387 , 2.1096544 ,\n",
       "        1.3379606 , 2.9000037 , 2.0491414 , 2.5897803 , 1.5031604 ],\n",
       "       [2.732146  , 2.5565495 , 3.714852  , 1.967403  , 2.7812793 ,\n",
       "        3.9070148 , 3.2777538 , 2.2969038 , 1.9229925 , 2.6556396 ],\n",
       "       [1.928745  , 3.1600957 , 2.6502829 , 1.8178726 , 3.2470448 ,\n",
       "        2.285428  , 2.6365926 , 2.5166864 , 1.070901  , 2.0605705 ],\n",
       "       [1.063185  , 4.1737986 , 2.2277255 , 1.2515675 , 4.1827664 ,\n",
       "        1.2915825 , 1.3805095 , 3.4198837 , 1.0256768 , 2.7755067 ],\n",
       "       [1.1833991 , 1.8557596 , 3.0534244 , 1.0722461 , 3.4905617 ,\n",
       "        1.643646  , 3.453313  , 3.808668  , 0.65044206, 2.0563726 ],\n",
       "       [1.0461621 , 3.5566838 , 3.2101297 , 1.572406  , 2.2809083 ,\n",
       "        1.8500901 , 1.3386623 , 4.39698   , 1.5621432 , 1.7725785 ],\n",
       "       [1.5166444 , 2.5048141 , 1.3417709 , 3.5234869 , 2.7652483 ,\n",
       "        1.1395355 , 2.25748   , 4.705172  , 2.2430854 , 1.8194562 ],\n",
       "       [1.6907904 , 2.3283677 , 1.7894993 , 2.1847265 , 2.8551002 ,\n",
       "        0.79378396, 1.7964936 , 3.5471232 , 1.9625643 , 1.3657154 ],\n",
       "       [1.2141374 , 2.9877534 , 3.1018186 , 3.629979  , 3.6487942 ,\n",
       "        1.808532  , 2.6615262 , 3.3801854 , 2.1941547 , 2.0062847 ],\n",
       "       [2.0491679 , 3.8442254 , 5.2590375 , 2.6086452 , 2.5204127 ,\n",
       "        2.845815  , 2.089722  , 2.0366    , 1.8493687 , 2.002032  ],\n",
       "       [1.4538853 , 3.52397   , 3.426971  , 0.94891644, 3.4088016 ,\n",
       "        1.826241  , 2.6029367 , 2.0418024 , 2.1847632 , 0.74823964],\n",
       "       [2.1386282 , 2.708146  , 1.742439  , 2.366699  , 2.55557   ,\n",
       "        1.021245  , 2.8354404 , 3.1261184 , 1.642767  , 1.4917253 ],\n",
       "       [2.2865992 , 3.9609175 , 3.3584628 , 2.9336588 , 2.459155  ,\n",
       "        2.2523775 , 2.647436  , 0.89587307, 2.0110953 , 2.1063092 ],\n",
       "       [1.9966788 , 2.9262302 , 4.8778872 , 1.2208712 , 3.4192896 ,\n",
       "        2.3487628 , 2.9560015 , 1.5107096 , 1.5358572 , 1.5315988 ],\n",
       "       [0.48399195, 2.1673245 , 2.2968588 , 2.7774973 , 2.5966098 ,\n",
       "        3.4832177 , 2.690391  , 4.0917354 , 0.23865944, 2.9819653 ],\n",
       "       [2.0954764 , 2.4307942 , 3.4558418 , 2.9896178 , 1.5231056 ,\n",
       "        3.422842  , 3.3150718 , 3.5051725 , 2.1653447 , 3.1134186 ],\n",
       "       [1.5846765 , 2.661023  , 2.4769669 , 3.470964  , 1.4431835 ,\n",
       "        2.3999262 , 3.9011345 , 3.248538  , 1.4247626 , 1.2602935 ],\n",
       "       [0.49207467, 2.325397  , 2.2815886 , 2.2696066 , 3.3333156 ,\n",
       "        2.4349878 , 2.0514407 , 3.2246497 , 1.6171042 , 1.6073767 ],\n",
       "       [2.5375338 , 2.4817715 , 2.6368468 , 2.0569093 , 4.3929462 ,\n",
       "        1.4862403 , 3.4939742 , 2.2332757 , 1.7737362 , 1.7618244 ],\n",
       "       [2.0678236 , 1.8836694 , 1.3364539 , 1.7425246 , 2.3898618 ,\n",
       "        1.1566195 , 2.628559  , 3.6502156 , 2.121294  , 1.3199686 ],\n",
       "       [1.8444016 , 2.2461612 , 3.215194  , 3.8432117 , 2.2398164 ,\n",
       "        1.8269355 , 4.414732  , 3.723146  , 0.50411344, 2.1435022 ],\n",
       "       [2.6537714 , 1.1732535 , 3.0079815 , 2.5904036 , 3.0474715 ,\n",
       "        1.8404907 , 2.6261342 , 1.1304994 , 1.8776394 , 0.85143405],\n",
       "       [0.6337883 , 3.3086834 , 1.4530784 , 2.515975  , 3.5047786 ,\n",
       "        1.1553439 , 2.8253915 , 3.52668   , 1.043268  , 2.3298826 ],\n",
       "       [1.3287122 , 2.5962925 , 1.9194646 , 1.8967655 , 5.310211  ,\n",
       "        2.868525  , 3.0769377 , 1.7588413 , 0.40501967, 2.9207122 ],\n",
       "       [0.84001315, 2.0994346 , 2.1460192 , 1.5992    , 2.236392  ,\n",
       "        1.5488653 , 3.224863  , 1.7908863 , 0.7113455 , 2.6308084 ],\n",
       "       [0.9592351 , 2.4799027 , 2.593933  , 3.6836722 , 2.6314456 ,\n",
       "        2.4646401 , 3.572547  , 3.2011003 , 1.1519556 , 1.662165  ],\n",
       "       [0.8192115 , 1.8272312 , 1.7956815 , 1.8296847 , 2.9964643 ,\n",
       "        2.2758198 , 2.3479474 , 2.8243022 , 1.1362125 , 2.8853436 ],\n",
       "       [3.6204023 , 1.9968116 , 1.7490085 , 2.9469256 , 3.12177   ,\n",
       "        2.235736  , 5.2850986 , 1.5726624 , 1.4582067 , 1.2513807 ],\n",
       "       [1.0327702 , 2.8972735 , 2.6707854 , 1.6554506 , 3.8221254 ,\n",
       "        2.0219557 , 2.4419675 , 3.9295774 , 1.2823715 , 1.2512529 ],\n",
       "       [1.9287269 , 1.5045323 , 3.3143744 , 3.7100654 , 3.0415392 ,\n",
       "        1.8443446 , 2.0636263 , 2.3276868 , 1.2617    , 1.081305  ],\n",
       "       [1.5923332 , 3.8162732 , 3.0520544 , 0.9159544 , 4.5526114 ,\n",
       "        1.9873202 , 2.4606779 , 2.2672033 , 0.9068908 , 1.9620786 ],\n",
       "       [1.0044551 , 3.2946215 , 1.9445477 , 3.2131855 , 3.7743635 ,\n",
       "        2.93666   , 3.0328484 , 2.7435503 , 1.2155869 , 0.9583244 ]],\n",
       "      dtype=float32)"
      ]
     },
     "execution_count": 230,
     "metadata": {},
     "output_type": "execute_result"
    }
   ],
   "source": [
    "a.dot(b)"
   ]
  },
  {
   "cell_type": "code",
   "execution_count": 231,
   "id": "4538f4fd",
   "metadata": {},
   "outputs": [
    {
     "data": {
      "text/plain": [
       "array([[ 0.00000000e+00,  0.00000000e+00,  0.00000000e+00,\n",
       "         0.00000000e+00,  0.00000000e+00,  0.00000000e+00,\n",
       "         0.00000000e+00,  0.00000000e+00,  0.00000000e+00,\n",
       "         0.00000000e+00],\n",
       "       [ 0.00000000e+00,  0.00000000e+00,  0.00000000e+00,\n",
       "         0.00000000e+00,  0.00000000e+00,  0.00000000e+00,\n",
       "         0.00000000e+00,  0.00000000e+00,  0.00000000e+00,\n",
       "         0.00000000e+00],\n",
       "       [ 0.00000000e+00,  0.00000000e+00,  0.00000000e+00,\n",
       "         0.00000000e+00,  0.00000000e+00,  0.00000000e+00,\n",
       "         0.00000000e+00,  0.00000000e+00,  0.00000000e+00,\n",
       "         0.00000000e+00],\n",
       "       [ 0.00000000e+00,  0.00000000e+00,  0.00000000e+00,\n",
       "         0.00000000e+00,  0.00000000e+00,  0.00000000e+00,\n",
       "         0.00000000e+00,  0.00000000e+00,  0.00000000e+00,\n",
       "         0.00000000e+00],\n",
       "       [ 0.00000000e+00,  0.00000000e+00,  0.00000000e+00,\n",
       "         0.00000000e+00,  0.00000000e+00,  0.00000000e+00,\n",
       "         0.00000000e+00,  0.00000000e+00,  0.00000000e+00,\n",
       "         0.00000000e+00],\n",
       "       [ 0.00000000e+00,  0.00000000e+00,  0.00000000e+00,\n",
       "         0.00000000e+00,  0.00000000e+00,  0.00000000e+00,\n",
       "         0.00000000e+00,  0.00000000e+00,  0.00000000e+00,\n",
       "         0.00000000e+00],\n",
       "       [ 0.00000000e+00,  0.00000000e+00,  0.00000000e+00,\n",
       "         0.00000000e+00,  0.00000000e+00,  0.00000000e+00,\n",
       "         0.00000000e+00,  0.00000000e+00,  0.00000000e+00,\n",
       "         0.00000000e+00],\n",
       "       [ 0.00000000e+00,  0.00000000e+00,  0.00000000e+00,\n",
       "         0.00000000e+00,  0.00000000e+00,  0.00000000e+00,\n",
       "         0.00000000e+00,  0.00000000e+00,  0.00000000e+00,\n",
       "         0.00000000e+00],\n",
       "       [ 0.00000000e+00,  0.00000000e+00,  0.00000000e+00,\n",
       "         0.00000000e+00,  0.00000000e+00,  0.00000000e+00,\n",
       "         0.00000000e+00,  0.00000000e+00,  0.00000000e+00,\n",
       "         0.00000000e+00],\n",
       "       [ 0.00000000e+00,  0.00000000e+00,  0.00000000e+00,\n",
       "         0.00000000e+00,  0.00000000e+00,  0.00000000e+00,\n",
       "         0.00000000e+00,  0.00000000e+00,  0.00000000e+00,\n",
       "         0.00000000e+00],\n",
       "       [ 0.00000000e+00,  0.00000000e+00,  0.00000000e+00,\n",
       "         0.00000000e+00,  0.00000000e+00,  0.00000000e+00,\n",
       "         0.00000000e+00,  0.00000000e+00,  0.00000000e+00,\n",
       "         0.00000000e+00],\n",
       "       [ 0.00000000e+00,  0.00000000e+00,  0.00000000e+00,\n",
       "         0.00000000e+00,  0.00000000e+00,  0.00000000e+00,\n",
       "         0.00000000e+00,  0.00000000e+00,  0.00000000e+00,\n",
       "         0.00000000e+00],\n",
       "       [ 0.00000000e+00,  0.00000000e+00,  0.00000000e+00,\n",
       "         0.00000000e+00,  0.00000000e+00,  0.00000000e+00,\n",
       "         0.00000000e+00,  0.00000000e+00,  0.00000000e+00,\n",
       "         0.00000000e+00],\n",
       "       [ 0.00000000e+00,  0.00000000e+00,  0.00000000e+00,\n",
       "         0.00000000e+00,  0.00000000e+00,  0.00000000e+00,\n",
       "         0.00000000e+00,  0.00000000e+00,  0.00000000e+00,\n",
       "         0.00000000e+00],\n",
       "       [ 0.00000000e+00,  0.00000000e+00,  0.00000000e+00,\n",
       "         0.00000000e+00,  0.00000000e+00,  0.00000000e+00,\n",
       "         0.00000000e+00,  0.00000000e+00,  0.00000000e+00,\n",
       "         0.00000000e+00],\n",
       "       [ 0.00000000e+00,  0.00000000e+00,  0.00000000e+00,\n",
       "         0.00000000e+00,  0.00000000e+00,  0.00000000e+00,\n",
       "         0.00000000e+00,  0.00000000e+00,  0.00000000e+00,\n",
       "         0.00000000e+00],\n",
       "       [ 0.00000000e+00,  0.00000000e+00,  0.00000000e+00,\n",
       "         0.00000000e+00,  0.00000000e+00,  0.00000000e+00,\n",
       "         0.00000000e+00,  0.00000000e+00,  0.00000000e+00,\n",
       "         0.00000000e+00],\n",
       "       [ 0.00000000e+00,  0.00000000e+00,  0.00000000e+00,\n",
       "         0.00000000e+00,  0.00000000e+00,  0.00000000e+00,\n",
       "         0.00000000e+00,  0.00000000e+00,  0.00000000e+00,\n",
       "         0.00000000e+00],\n",
       "       [ 0.00000000e+00,  0.00000000e+00,  0.00000000e+00,\n",
       "         0.00000000e+00,  0.00000000e+00,  0.00000000e+00,\n",
       "         0.00000000e+00,  0.00000000e+00,  0.00000000e+00,\n",
       "         0.00000000e+00],\n",
       "       [ 0.00000000e+00,  0.00000000e+00,  0.00000000e+00,\n",
       "         0.00000000e+00,  0.00000000e+00,  0.00000000e+00,\n",
       "         0.00000000e+00,  0.00000000e+00,  0.00000000e+00,\n",
       "         0.00000000e+00],\n",
       "       [ 0.00000000e+00,  0.00000000e+00,  0.00000000e+00,\n",
       "         0.00000000e+00,  0.00000000e+00,  0.00000000e+00,\n",
       "         0.00000000e+00,  0.00000000e+00,  0.00000000e+00,\n",
       "         0.00000000e+00],\n",
       "       [ 0.00000000e+00,  0.00000000e+00,  0.00000000e+00,\n",
       "         0.00000000e+00,  0.00000000e+00,  0.00000000e+00,\n",
       "         0.00000000e+00,  0.00000000e+00,  0.00000000e+00,\n",
       "         0.00000000e+00],\n",
       "       [ 0.00000000e+00,  0.00000000e+00,  0.00000000e+00,\n",
       "         0.00000000e+00,  0.00000000e+00,  0.00000000e+00,\n",
       "         0.00000000e+00,  0.00000000e+00,  0.00000000e+00,\n",
       "         0.00000000e+00],\n",
       "       [ 0.00000000e+00,  0.00000000e+00,  0.00000000e+00,\n",
       "         0.00000000e+00,  0.00000000e+00,  0.00000000e+00,\n",
       "         0.00000000e+00,  0.00000000e+00,  0.00000000e+00,\n",
       "         0.00000000e+00],\n",
       "       [-5.96046448e-08,  0.00000000e+00,  0.00000000e+00,\n",
       "         1.19209290e-07, -2.38418579e-07, -1.19209290e-07,\n",
       "         2.38418579e-07,  2.38418579e-07,  0.00000000e+00,\n",
       "         0.00000000e+00],\n",
       "       [-5.96046448e-08,  0.00000000e+00, -2.38418579e-07,\n",
       "        -2.38418579e-07,  0.00000000e+00,  0.00000000e+00,\n",
       "        -2.38418579e-07,  4.76837158e-07,  0.00000000e+00,\n",
       "         0.00000000e+00],\n",
       "       [-1.19209290e-07,  0.00000000e+00,  2.38418579e-07,\n",
       "         1.19209290e-07,  0.00000000e+00,  2.38418579e-07,\n",
       "        -2.38418579e-07, -2.38418579e-07,  0.00000000e+00,\n",
       "         0.00000000e+00],\n",
       "       [ 0.00000000e+00,  1.19209290e-07,  0.00000000e+00,\n",
       "        -2.38418579e-07,  0.00000000e+00,  0.00000000e+00,\n",
       "         0.00000000e+00, -1.19209290e-07,  0.00000000e+00,\n",
       "         0.00000000e+00],\n",
       "       [ 0.00000000e+00,  2.38418579e-07,  0.00000000e+00,\n",
       "         2.38418579e-07,  0.00000000e+00,  0.00000000e+00,\n",
       "        -2.38418579e-07,  0.00000000e+00,  0.00000000e+00,\n",
       "         0.00000000e+00],\n",
       "       [-1.19209290e-07, -1.19209290e-07,  0.00000000e+00,\n",
       "         2.38418579e-07,  0.00000000e+00,  1.19209290e-07,\n",
       "         0.00000000e+00, -2.38418579e-07,  0.00000000e+00,\n",
       "         0.00000000e+00],\n",
       "       [ 0.00000000e+00,  2.38418579e-07, -2.38418579e-07,\n",
       "         0.00000000e+00,  0.00000000e+00, -1.19209290e-07,\n",
       "         0.00000000e+00,  0.00000000e+00,  0.00000000e+00,\n",
       "         0.00000000e+00],\n",
       "       [ 0.00000000e+00, -4.76837158e-07,  0.00000000e+00,\n",
       "         0.00000000e+00,  0.00000000e+00,  2.38418579e-07,\n",
       "         0.00000000e+00,  0.00000000e+00,  0.00000000e+00,\n",
       "         0.00000000e+00]])"
      ]
     },
     "execution_count": 231,
     "metadata": {},
     "output_type": "execute_result"
    }
   ],
   "source": [
    "mult - res_np.T"
   ]
  },
  {
   "cell_type": "code",
   "execution_count": 232,
   "id": "65e730d3",
   "metadata": {},
   "outputs": [
    {
     "data": {
      "text/plain": [
       "array([[ True,  True,  True,  True,  True,  True,  True,  True,  True,\n",
       "         True],\n",
       "       [ True,  True,  True,  True,  True,  True,  True,  True,  True,\n",
       "         True],\n",
       "       [ True,  True,  True,  True,  True,  True,  True,  True,  True,\n",
       "         True],\n",
       "       [ True,  True,  True,  True,  True,  True,  True,  True,  True,\n",
       "         True],\n",
       "       [ True,  True,  True,  True,  True,  True,  True,  True,  True,\n",
       "         True],\n",
       "       [ True,  True,  True,  True,  True,  True,  True,  True,  True,\n",
       "         True],\n",
       "       [ True,  True,  True,  True,  True,  True,  True,  True,  True,\n",
       "         True],\n",
       "       [ True,  True,  True,  True,  True,  True,  True,  True,  True,\n",
       "         True],\n",
       "       [ True,  True,  True,  True,  True,  True,  True,  True,  True,\n",
       "         True],\n",
       "       [ True,  True,  True,  True,  True,  True,  True,  True,  True,\n",
       "         True],\n",
       "       [ True,  True,  True,  True,  True,  True,  True,  True,  True,\n",
       "         True],\n",
       "       [ True,  True,  True,  True,  True,  True,  True,  True,  True,\n",
       "         True],\n",
       "       [ True,  True,  True,  True,  True,  True,  True,  True,  True,\n",
       "         True],\n",
       "       [ True,  True,  True,  True,  True,  True,  True,  True,  True,\n",
       "         True],\n",
       "       [ True,  True,  True,  True,  True,  True,  True,  True,  True,\n",
       "         True],\n",
       "       [ True,  True,  True,  True,  True,  True,  True,  True,  True,\n",
       "         True],\n",
       "       [ True,  True,  True,  True,  True,  True,  True,  True,  True,\n",
       "         True],\n",
       "       [ True,  True,  True,  True,  True,  True,  True,  True,  True,\n",
       "         True],\n",
       "       [ True,  True,  True,  True,  True,  True,  True,  True,  True,\n",
       "         True],\n",
       "       [ True,  True,  True,  True,  True,  True,  True,  True,  True,\n",
       "         True],\n",
       "       [ True,  True,  True,  True,  True,  True,  True,  True,  True,\n",
       "         True],\n",
       "       [ True,  True,  True,  True,  True,  True,  True,  True,  True,\n",
       "         True],\n",
       "       [ True,  True,  True,  True,  True,  True,  True,  True,  True,\n",
       "         True],\n",
       "       [ True,  True,  True,  True,  True,  True,  True,  True,  True,\n",
       "         True],\n",
       "       [False,  True,  True, False, False, False, False, False,  True,\n",
       "         True],\n",
       "       [False,  True, False, False,  True,  True, False, False,  True,\n",
       "         True],\n",
       "       [False,  True, False, False,  True, False, False, False,  True,\n",
       "         True],\n",
       "       [ True, False,  True, False,  True,  True,  True, False,  True,\n",
       "         True],\n",
       "       [ True, False,  True, False,  True,  True, False,  True,  True,\n",
       "         True],\n",
       "       [False, False,  True, False,  True, False,  True, False,  True,\n",
       "         True],\n",
       "       [ True, False, False,  True,  True, False,  True,  True,  True,\n",
       "         True],\n",
       "       [ True, False,  True,  True,  True, False,  True,  True,  True,\n",
       "         True]])"
      ]
     },
     "execution_count": 232,
     "metadata": {},
     "output_type": "execute_result"
    }
   ],
   "source": [
    "res_np.T==mult"
   ]
  },
  {
   "cell_type": "markdown",
   "id": "59835b7e",
   "metadata": {},
   "source": [
    "# Matmult Dense Transposed2"
   ]
  },
  {
   "cell_type": "code",
   "execution_count": 233,
   "id": "4a6954ad",
   "metadata": {},
   "outputs": [],
   "source": [
    "b_buf2 = cl.Buffer(ctx, mf.READ_WRITE | mf.COPY_HOST_PTR, hostbuf=b)\n",
    "a_buf = cl.Buffer(ctx, mf.READ_WRITE | mf.COPY_HOST_PTR, hostbuf=a)\n",
    "\n",
    "prg = cl.Program(ctx, \"\"\"\n",
    "    // multilplies x by y WITH Y TRANSPOSED INDEXING\n",
    "    __kernel void matmul0(__global  float* x,     // INPUT MATRIX DATA\n",
    "                          __global  float* y,    // INPUT\n",
    "                          __global  float* res,    // INPUT\n",
    "                          uint msize,\n",
    "                          uint osize\n",
    "                          ) { // LOCAL SHARED BUFFER\n",
    "      uint isize = get_global_size(0);\n",
    "      // osize = get_global_size(1);\n",
    "      int gidx = get_global_id(0); // col\n",
    "      // int gidy = get_global_id(1); // row\n",
    "\n",
    "      for (uint gidy = 0; gidy < osize; gidy++) {\n",
    "        float ret = 0.0;\n",
    "        for (uint i = 0; i < msize; i++) {\n",
    "          ret += x[gidx*msize+i]*y[i*osize+gidy];\n",
    "          if (gidx==0 && gidy==0)\n",
    "            printf(\"\\\\nmult: %.2f x %.2f - %.2f\", x[gidx*msize+i],y[i*msize+gidy], ret);\n",
    "        }\n",
    "\n",
    "        //if (gidx==0&&gidy==0)\n",
    "        //  printf(\"\\\\nsum:%.2f\", ret);\n",
    "        res[gidx * osize + gidy] = ret;\n",
    "      }\n",
    "    }\"\"\").build()"
   ]
  },
  {
   "cell_type": "code",
   "execution_count": 234,
   "id": "c8a9728b",
   "metadata": {},
   "outputs": [
    {
     "data": {
      "text/plain": [
       "((32, 64), (64, 10))"
      ]
     },
     "execution_count": 234,
     "metadata": {},
     "output_type": "execute_result"
    }
   ],
   "source": [
    "a.shape, b.shape"
   ]
  },
  {
   "cell_type": "code",
   "execution_count": 235,
   "id": "af31f5a8",
   "metadata": {},
   "outputs": [],
   "source": [
    "res = np.zeros(a.shape[0]).astype(np.float32)\n",
    "#res"
   ]
  },
  {
   "cell_type": "code",
   "execution_count": 236,
   "id": "bfe05099",
   "metadata": {},
   "outputs": [],
   "source": [
    "rows = a.shape[0]"
   ]
  },
  {
   "cell_type": "code",
   "execution_count": 237,
   "id": "f468303a",
   "metadata": {},
   "outputs": [],
   "source": [
    "mult = mult.astype(np.float32)"
   ]
  },
  {
   "cell_type": "code",
   "execution_count": 238,
   "id": "3be17413",
   "metadata": {},
   "outputs": [
    {
     "name": "stdout",
     "output_type": "stream",
     "text": [
      "\n",
      "mult: 0.82 x 0.94 - 0.77\n",
      "mult: 0.00 x 0.71 - 0.77\n",
      "mult: 0.00 x 0.00 - 0.77\n",
      "mult: 0.48 x 0.00 - 0.77\n",
      "mult: 0.91 x 0.00 - 0.77\n",
      "mult: 0.00 x 0.00 - 0.77\n",
      "mult: 0.00 x 0.00 - 0.77\n",
      "mult: 0.88 x 0.00 - 1.05\n",
      "mult: 0.00 x 0.89 - 1.05\n",
      "mult: 0.00 x 0.07 - 1.05\n",
      "mult: 0.00 x 2.06 - 1.05\n",
      "mult: 0.87 x 2.77 - 1.19\n",
      "mult: 0.00 x 2.01 - 1.19\n",
      "mult: 0.00 x 1.34 - 1.19\n",
      "mult: 0.26 x 3.57 - 1.32\n",
      "mult: 0.36 x -1.38 - 1.32\n",
      "mult: 0.00 x 12.77 - 1.32\n",
      "mult: 0.41 x 0.92 - 1.32\n",
      "mult: 0.00 x 8.32 - 1.32\n",
      "mult: 0.00 x 1.25 - 1.32\n",
      "mult: 0.62 x 0.00 - 1.43\n",
      "mult: 0.47 x -3.80 - 1.43\n",
      "mult: 0.00 x 0.00 - 1.43\n",
      "mult: 0.00 x 1.13 - 1.43\n",
      "mult: 0.00 x 0.00 - 1.43\n",
      "mult: 0.00 x -1.41 - 1.43\n",
      "mult: 0.00 x 0.00 - 1.43\n",
      "mult: 0.00 x -0.32 - 1.43\n",
      "mult: 0.22 x 2.06 - 1.53\n",
      "mult: 0.59 x 2.77 - 1.60\n",
      "mult: 0.00 x 2.01 - 1.60\n",
      "mult: 0.44 x 1.34 - 1.60\n",
      "mult: 0.47 x 3.57 - 1.60\n",
      "mult: 0.69 x 0.00 - 2.02\n",
      "mult: 0.00 x 0.00 - 2.02\n",
      "mult: 0.00 x 0.00 - 2.02\n",
      "mult: 0.38 x 2.06 - 2.04\n",
      "mult: 0.81 x 4.81 - 2.04\n",
      "mult: 0.98 x 2.11 - 2.04\n",
      "mult: 0.45 x 2.90 -"
     ]
    },
    {
     "data": {
      "text/plain": [
       "<pyopencl._cl.NannyEvent at 0x7ff1541a6180>"
      ]
     },
     "execution_count": 238,
     "metadata": {},
     "output_type": "execute_result"
    },
    {
     "name": "stdout",
     "output_type": "stream",
     "text": [
      " 2.06\n",
      "mult: 0.00 x 2.59 - 2.06\n",
      "mult: 0.00 x 0.00 - 2.06\n",
      "mult: 0.29 x 0.00 - 2.06\n",
      "mult: 0.00 x 0.00 - 2.06\n",
      "mult: 0.04 x 0.00 - 2.06\n",
      "mult: 0.00 x 0.00 - 2.06\n",
      "mult: 0.28 x 0.00 - 2.06\n",
      "mult: 0.00 x 0.00 - 2.06\n",
      "mult: 0.00 x 0.00 - 2.06\n",
      "mult: 0.00 x 0.00 - 2.06\n",
      "mult: 0.42 x 0.00 - 2.06\n",
      "mult: 0.00 x 0.00 - 2.06\n",
      "mult: 0.00 x 0.00 - 2.06\n",
      "mult: 0.00 x 0.00 - 2.06\n",
      "mult: 0.39 x 0.00 - 2.06\n",
      "mult: 0.00 x 0.00 - 2.06\n",
      "mult: 0.00 x 0.00 - 2.06\n",
      "mult: 0.00 x 0.00 - 2.06\n",
      "mult: 0.00 x 0.00 - 2.06\n",
      "mult: 0.00 x 0.00 - 2.06\n",
      "mult: 0.00 x 0.00 - 2.06\n",
      "mult: 0.23 x 0.00 - 2.06\n",
      "mult: 0.00 x 0.00 - 2.06\n",
      "mult: 0.00 x 0.00 - 2.06"
     ]
    }
   ],
   "source": [
    "res_buf = cl.Buffer(ctx, mf.READ_WRITE, np.prod([rows,b.shape[1]])*4)\n",
    "knl = prg.matmul0  # Use this Kernel object for repeated calls\n",
    "knl(queue, [rows], None, a_buf, b_buf2, res_buf, np.uint32(a.shape[1]), np.uint32(b.shape[1]))\n",
    "\n",
    "res_np = np.zeros([rows,b.shape[1]]).astype(np.float32)\n",
    "cl.enqueue_copy(queue, res_np, res_buf)"
   ]
  },
  {
   "cell_type": "code",
   "execution_count": 239,
   "id": "49f1bc06",
   "metadata": {},
   "outputs": [
    {
     "data": {
      "text/plain": [
       "5.9604645e-07"
      ]
     },
     "execution_count": 239,
     "metadata": {},
     "output_type": "execute_result"
    }
   ],
   "source": [
    "(res_np-mult).sum()"
   ]
  },
  {
   "cell_type": "code",
   "execution_count": 240,
   "id": "b721089a",
   "metadata": {},
   "outputs": [
    {
     "data": {
      "text/plain": [
       "array([[0.82272685, 0.        , 0.        , ..., 0.22595333, 0.        ,\n",
       "        0.        ],\n",
       "       [0.57626116, 0.2289813 , 0.16428949, ..., 0.27008578, 0.        ,\n",
       "        0.9652075 ],\n",
       "       [0.        , 0.48130327, 0.        , ..., 0.        , 0.12290299,\n",
       "        0.        ],\n",
       "       ...,\n",
       "       [0.8716895 , 0.10489579, 0.        , ..., 0.        , 0.39542586,\n",
       "        0.        ],\n",
       "       [0.        , 0.        , 0.        , ..., 0.5132175 , 0.9358725 ,\n",
       "        0.37984058],\n",
       "       [0.        , 0.6832084 , 0.9385753 , ..., 0.02876937, 0.        ,\n",
       "        0.        ]], dtype=float32)"
      ]
     },
     "execution_count": 240,
     "metadata": {},
     "output_type": "execute_result"
    }
   ],
   "source": [
    "a"
   ]
  },
  {
   "cell_type": "code",
   "execution_count": 241,
   "id": "a03001f2",
   "metadata": {},
   "outputs": [
    {
     "data": {
      "text/plain": [
       "array([[0.9414536 , 0.        , 0.        , 0.        , 0.        ,\n",
       "        0.        , 0.        , 0.31479523, 0.11005293, 0.06780045,\n",
       "        0.        , 0.16214237, 0.        , 0.6445239 , 0.50232446,\n",
       "        0.        , 0.        , 0.        , 0.        , 0.        ,\n",
       "        0.17604527, 0.        , 0.        , 0.        , 0.        ,\n",
       "        0.        , 0.        , 0.        , 0.42811713, 0.11871076,\n",
       "        0.        , 0.        , 0.        , 0.6127449 , 0.41137826,\n",
       "        0.82947165, 0.04573116, 0.        , 0.        , 0.04850706,\n",
       "        0.        , 0.        , 0.        , 0.        , 0.        ,\n",
       "        0.6346003 , 0.        , 0.        , 0.69351566, 0.9864582 ,\n",
       "        0.        , 0.        , 0.        , 0.        , 0.        ,\n",
       "        0.        , 0.        , 0.2653583 , 0.        , 0.2264393 ,\n",
       "        0.10093832, 0.        , 0.        , 0.        ],\n",
       "       [0.        , 0.        , 0.03283854, 0.        , 0.01996238,\n",
       "        0.        , 0.2878976 , 0.40940058, 0.5290864 , 0.03890254,\n",
       "        0.7218774 , 0.        , 0.6727114 , 0.8689898 , 0.        ,\n",
       "        0.3043906 , 0.6158326 , 0.        , 0.17614561, 0.        ,\n",
       "        0.        , 0.        , 0.        , 0.        , 0.        ,\n",
       "        0.5996785 , 0.41769058, 0.22088505, 0.        , 0.64951146,\n",
       "        0.        , 0.8829375 , 0.5526871 , 0.        , 0.45999953,\n",
       "        0.20491129, 0.        , 0.03375057, 0.        , 0.        ,\n",
       "        0.        , 0.        , 0.45209226, 0.09342512, 0.        ,\n",
       "        0.        , 0.14726698, 0.        , 0.        , 0.        ,\n",
       "        0.        , 0.        , 0.        , 0.84200877, 0.        ,\n",
       "        0.5960935 , 0.14635102, 0.        , 0.        , 0.95835906,\n",
       "        0.        , 0.65042835, 0.        , 0.        ],\n",
       "       [0.        , 0.14630048, 0.27791733, 0.33419287, 0.9816661 ,\n",
       "        0.        , 0.        , 0.        , 0.        , 0.        ,\n",
       "        0.40662676, 0.5265734 , 0.01572542, 0.78785294, 0.        ,\n",
       "        0.        , 0.        , 0.        , 0.4101668 , 0.        ,\n",
       "        0.        , 0.        , 0.        , 0.        , 0.        ,\n",
       "        0.        , 0.        , 0.        , 0.94115525, 0.19040094,\n",
       "        0.19905205, 0.89167756, 0.        , 0.01054911, 0.71848863,\n",
       "        0.        , 0.67741925, 0.934714  , 0.9567172 , 0.8573981 ,\n",
       "        0.        , 0.04344931, 0.7110872 , 0.        , 0.09824695,\n",
       "        0.        , 0.        , 0.        , 0.        , 0.        ,\n",
       "        0.09063595, 0.89167565, 0.        , 0.26646206, 0.        ,\n",
       "        0.3876133 , 0.        , 0.        , 0.        , 0.        ,\n",
       "        0.        , 0.        , 0.17079917, 0.        ],\n",
       "       [0.90892494, 0.24825948, 0.8543185 , 0.19840643, 0.        ,\n",
       "        0.        , 0.        , 0.        , 0.31983745, 0.        ,\n",
       "        0.18507701, 0.23904228, 0.        , 0.        , 0.        ,\n",
       "        0.        , 0.        , 0.        , 0.        , 0.9880747 ,\n",
       "        0.        , 0.        , 0.10942628, 0.21641734, 0.        ,\n",
       "        0.5246723 , 0.        , 0.        , 0.        , 0.        ,\n",
       "        0.        , 0.        , 0.70496935, 0.        , 0.        ,\n",
       "        0.        , 0.        , 0.        , 0.31415144, 0.        ,\n",
       "        0.7757434 , 0.08597016, 0.        , 0.        , 0.24463587,\n",
       "        0.00316491, 0.        , 0.58537555, 0.50371623, 0.        ,\n",
       "        0.8334261 , 0.05737644, 0.39566204, 0.        , 0.5096388 ,\n",
       "        0.68256104, 0.23753619, 0.25248948, 0.4100118 , 0.8496141 ,\n",
       "        0.        , 0.        , 0.13851656, 0.        ],\n",
       "       [0.        , 0.        , 0.        , 0.        , 0.        ,\n",
       "        0.49159616, 0.7058473 , 0.        , 0.        , 0.98146695,\n",
       "        0.        , 0.        , 0.44648495, 0.        , 0.        ,\n",
       "        0.2855941 , 0.        , 0.75643075, 0.        , 0.        ,\n",
       "        0.        , 0.23293144, 0.00130877, 0.        , 0.91353625,\n",
       "        0.        , 0.92990875, 0.        , 0.34584206, 0.        ,\n",
       "        0.66453385, 0.        , 0.        , 0.72773826, 0.        ,\n",
       "        0.47647813, 0.        , 0.5239845 , 0.        , 0.        ,\n",
       "        0.29974842, 0.        , 0.87557894, 0.22442254, 0.        ,\n",
       "        0.5720998 , 0.        , 0.12253232, 0.        , 0.        ,\n",
       "        0.        , 0.        , 0.        , 0.        , 0.694407  ,\n",
       "        0.        , 0.        , 0.        , 0.5066825 , 0.        ,\n",
       "        0.6630357 , 0.29258844, 0.9781894 , 0.3358856 ],\n",
       "       [0.        , 0.        , 0.        , 0.3856511 , 0.        ,\n",
       "        0.0810385 , 0.        , 0.        , 0.        , 0.8737231 ,\n",
       "        0.        , 0.        , 0.22174914, 0.        , 0.47040063,\n",
       "        0.        , 0.55754304, 0.        , 0.        , 0.7065452 ,\n",
       "        0.        , 0.2350415 , 0.        , 0.31724194, 0.        ,\n",
       "        0.        , 0.        , 0.8154559 , 0.        , 0.        ,\n",
       "        0.9441609 , 0.34762165, 0.        , 0.4128602 , 0.29980114,\n",
       "        0.        , 0.        , 0.        , 0.40333778, 0.        ,\n",
       "        0.47304207, 0.        , 0.        , 0.01690201, 0.        ,\n",
       "        0.        , 0.2944593 , 0.8452076 , 0.        , 0.1762971 ,\n",
       "        0.        , 0.1275051 , 0.        , 0.        , 0.        ,\n",
       "        0.        , 0.        , 0.        , 0.9791499 , 0.        ,\n",
       "        0.19981535, 0.        , 0.0680179 , 0.79898566],\n",
       "       [0.05297933, 0.        , 0.8433972 , 0.23348303, 0.        ,\n",
       "        0.64290637, 0.41645932, 0.49991104, 0.        , 0.        ,\n",
       "        0.        , 0.        , 0.        , 0.        , 0.        ,\n",
       "        0.45246527, 0.        , 0.        , 0.20147614, 0.602556  ,\n",
       "        0.        , 0.78704804, 0.        , 0.35538766, 0.7040352 ,\n",
       "        0.        , 0.22981252, 0.        , 0.        , 0.        ,\n",
       "        0.17658035, 0.        , 0.6193049 , 0.        , 0.        ,\n",
       "        0.39832172, 0.46088123, 0.9214213 , 0.1583537 , 0.23557614,\n",
       "        0.        , 0.660472  , 0.75961554, 0.        , 0.        ,\n",
       "        0.87135255, 0.28086743, 0.        , 0.9726071 , 0.55006534,\n",
       "        0.        , 0.        , 0.62646705, 0.23111221, 0.        ,\n",
       "        0.        , 0.4664514 , 0.06576658, 0.        , 0.        ,\n",
       "        0.        , 0.        , 0.        , 0.48625088],\n",
       "       [0.        , 0.7792777 , 0.        , 0.        , 0.5056456 ,\n",
       "        0.16045028, 0.44598925, 0.        , 0.57631195, 0.        ,\n",
       "        0.        , 0.        , 0.        , 0.        , 0.        ,\n",
       "        0.03966095, 0.8633621 , 0.42180747, 0.10142381, 0.48707104,\n",
       "        0.84334254, 0.        , 0.4094274 , 0.        , 0.52147955,\n",
       "        0.9170164 , 0.        , 0.23452929, 0.        , 0.        ,\n",
       "        0.        , 0.        , 0.        , 0.        , 0.        ,\n",
       "        0.        , 0.        , 0.        , 0.        , 0.44495046,\n",
       "        0.        , 0.9784147 , 0.        , 0.        , 0.32749644,\n",
       "        0.        , 0.        , 0.        , 0.7246852 , 0.        ,\n",
       "        0.26001835, 0.        , 0.12898347, 0.        , 0.9894679 ,\n",
       "        0.22186916, 0.        , 0.9888273 , 0.9839119 , 0.6683453 ,\n",
       "        0.        , 0.7358039 , 0.        , 0.        ],\n",
       "       [0.7021168 , 0.31232256, 0.        , 0.        , 0.        ,\n",
       "        0.        , 0.        , 0.79827386, 0.        , 0.        ,\n",
       "        0.05563454, 0.11824279, 0.        , 0.6352877 , 0.46875456,\n",
       "        0.        , 0.        , 0.95542496, 0.        , 0.        ,\n",
       "        0.8945855 , 0.        , 0.01082143, 0.        , 0.49268502,\n",
       "        0.47608244, 0.        , 0.        , 0.1731275 , 0.        ,\n",
       "        0.        , 0.02995267, 0.04075215, 0.        , 0.        ,\n",
       "        0.        , 0.        , 0.        , 0.        , 0.        ,\n",
       "        0.        , 0.        , 0.        , 0.        , 0.        ,\n",
       "        0.        , 0.25112677, 0.        , 0.        , 0.7705533 ,\n",
       "        0.        , 0.        , 0.02942246, 0.        , 0.        ,\n",
       "        0.        , 0.        , 0.        , 0.        , 0.        ,\n",
       "        0.        , 0.        , 0.        , 0.        ],\n",
       "       [0.        , 0.        , 0.        , 0.        , 0.01917347,\n",
       "        0.        , 0.        , 0.        , 0.        , 0.        ,\n",
       "        0.        , 0.        , 0.        , 0.        , 0.5505951 ,\n",
       "        0.        , 0.01719917, 0.1022128 , 0.        , 0.        ,\n",
       "        0.72915745, 0.20438819, 0.        , 0.46936178, 0.        ,\n",
       "        0.        , 0.23540662, 0.88327533, 0.        , 0.26224414,\n",
       "        0.        , 0.        , 0.        , 0.        , 0.        ,\n",
       "        0.        , 0.39439395, 0.        , 0.        , 0.        ,\n",
       "        0.97353226, 0.        , 0.        , 0.8055896 , 0.45531607,\n",
       "        0.        , 0.        , 0.54433316, 0.        , 0.        ,\n",
       "        0.27716133, 0.4685573 , 0.        , 0.09374874, 0.67805064,\n",
       "        0.        , 0.6143749 , 0.        , 0.        , 0.        ,\n",
       "        0.60982734, 0.17556284, 0.        , 0.5448863 ]], dtype=float32)"
      ]
     },
     "execution_count": 241,
     "metadata": {},
     "output_type": "execute_result"
    }
   ],
   "source": [
    "b.T"
   ]
  },
  {
   "cell_type": "code",
   "execution_count": 242,
   "id": "7b5dd59e",
   "metadata": {},
   "outputs": [
    {
     "data": {
      "text/plain": [
       "array([0.82272685, 0.        , 0.        , 0.47684366, 0.9107656 ,\n",
       "       0.        , 0.        , 0.87656933, 0.        , 0.        ,\n",
       "       0.        , 0.87043756, 0.        , 0.        , 0.26380414,\n",
       "       0.36056653, 0.        , 0.40566143, 0.        , 0.        ,\n",
       "       0.62320876, 0.474961  , 0.        , 0.        , 0.        ,\n",
       "       0.        , 0.        , 0.        , 0.21526212, 0.5885546 ,\n",
       "       0.        , 0.44464737, 0.47268388, 0.69147617, 0.        ,\n",
       "       0.        , 0.38345355, 0.80597454, 0.97980535, 0.44897598,\n",
       "       0.        , 0.        , 0.28649956, 0.        , 0.04318999,\n",
       "       0.        , 0.2821837 , 0.        , 0.        , 0.        ,\n",
       "       0.4212168 , 0.        , 0.        , 0.        , 0.39205793,\n",
       "       0.        , 0.        , 0.        , 0.        , 0.        ,\n",
       "       0.        , 0.22595333, 0.        , 0.        ], dtype=float32)"
      ]
     },
     "execution_count": 242,
     "metadata": {},
     "output_type": "execute_result"
    }
   ],
   "source": [
    "a[0]"
   ]
  },
  {
   "cell_type": "code",
   "execution_count": 243,
   "id": "d8c0f986",
   "metadata": {},
   "outputs": [
    {
     "data": {
      "text/plain": [
       "array([0.9414536 , 0.        , 0.        , 0.        , 0.        ,\n",
       "       0.        , 0.        , 0.31479523, 0.11005293, 0.06780045,\n",
       "       0.        , 0.16214237, 0.        , 0.6445239 , 0.50232446,\n",
       "       0.        , 0.        , 0.        , 0.        , 0.        ,\n",
       "       0.17604527, 0.        , 0.        , 0.        , 0.        ,\n",
       "       0.        , 0.        , 0.        , 0.42811713, 0.11871076,\n",
       "       0.        , 0.        , 0.        , 0.6127449 , 0.41137826,\n",
       "       0.82947165, 0.04573116, 0.        , 0.        , 0.04850706,\n",
       "       0.        , 0.        , 0.        , 0.        , 0.        ,\n",
       "       0.6346003 , 0.        , 0.        , 0.69351566, 0.9864582 ,\n",
       "       0.        , 0.        , 0.        , 0.        , 0.        ,\n",
       "       0.        , 0.        , 0.2653583 , 0.        , 0.2264393 ,\n",
       "       0.10093832, 0.        , 0.        , 0.        ], dtype=float32)"
      ]
     },
     "execution_count": 243,
     "metadata": {},
     "output_type": "execute_result"
    }
   ],
   "source": [
    "b.T[0]"
   ]
  },
  {
   "cell_type": "code",
   "execution_count": 244,
   "id": "94c47d91",
   "metadata": {},
   "outputs": [
    {
     "data": {
      "text/plain": [
       "<pyopencl._cl.Buffer at 0x7ff1541a3bd0>"
      ]
     },
     "execution_count": 244,
     "metadata": {},
     "output_type": "execute_result"
    }
   ],
   "source": [
    "res_buf"
   ]
  },
  {
   "cell_type": "code",
   "execution_count": 245,
   "id": "8776a0a7",
   "metadata": {},
   "outputs": [
    {
     "data": {
      "text/plain": [
       "array([[2.0588999 , 1.8681664 , 4.811817  , 2.2529387 , 2.1096544 ,\n",
       "        1.3379606 , 2.9000037 , 2.0491414 , 2.5897803 , 1.5031604 ],\n",
       "       [2.732146  , 2.5565495 , 3.714852  , 1.967403  , 2.7812793 ,\n",
       "        3.9070148 , 3.2777538 , 2.2969038 , 1.9229925 , 2.6556396 ],\n",
       "       [1.928745  , 3.1600957 , 2.6502829 , 1.8178726 , 3.2470448 ,\n",
       "        2.285428  , 2.6365926 , 2.5166864 , 1.070901  , 2.0605705 ],\n",
       "       [1.063185  , 4.1737986 , 2.2277255 , 1.2515675 , 4.1827664 ,\n",
       "        1.2915825 , 1.3805095 , 3.4198837 , 1.0256768 , 2.7755067 ],\n",
       "       [1.1833991 , 1.8557596 , 3.0534244 , 1.0722461 , 3.4905617 ,\n",
       "        1.643646  , 3.453313  , 3.808668  , 0.65044206, 2.0563726 ],\n",
       "       [1.0461621 , 3.5566838 , 3.2101297 , 1.572406  , 2.2809083 ,\n",
       "        1.8500901 , 1.3386623 , 4.39698   , 1.5621432 , 1.7725785 ],\n",
       "       [1.5166444 , 2.5048141 , 1.3417709 , 3.5234869 , 2.7652483 ,\n",
       "        1.1395355 , 2.25748   , 4.705172  , 2.2430854 , 1.8194562 ],\n",
       "       [1.6907904 , 2.3283677 , 1.7894993 , 2.1847265 , 2.8551002 ,\n",
       "        0.79378396, 1.7964936 , 3.5471232 , 1.9625643 , 1.3657154 ],\n",
       "       [1.2141374 , 2.9877534 , 3.1018186 , 3.629979  , 3.6487942 ,\n",
       "        1.808532  , 2.6615262 , 3.3801854 , 2.1941547 , 2.0062847 ],\n",
       "       [2.0491679 , 3.8442254 , 5.2590375 , 2.6086452 , 2.5204127 ,\n",
       "        2.845815  , 2.089722  , 2.0366    , 1.8493687 , 2.002032  ],\n",
       "       [1.4538853 , 3.52397   , 3.426971  , 0.94891644, 3.4088016 ,\n",
       "        1.826241  , 2.6029367 , 2.0418024 , 2.1847632 , 0.74823964],\n",
       "       [2.1386282 , 2.708146  , 1.742439  , 2.366699  , 2.55557   ,\n",
       "        1.021245  , 2.8354404 , 3.1261184 , 1.642767  , 1.4917253 ],\n",
       "       [2.2865992 , 3.9609175 , 3.3584628 , 2.9336588 , 2.459155  ,\n",
       "        2.2523775 , 2.647436  , 0.89587307, 2.0110953 , 2.1063092 ],\n",
       "       [1.9966788 , 2.9262302 , 4.8778872 , 1.2208712 , 3.4192896 ,\n",
       "        2.3487628 , 2.9560015 , 1.5107096 , 1.5358572 , 1.5315988 ],\n",
       "       [0.48399195, 2.1673245 , 2.2968588 , 2.7774973 , 2.5966098 ,\n",
       "        3.4832177 , 2.690391  , 4.0917354 , 0.23865944, 2.9819653 ],\n",
       "       [2.0954764 , 2.4307942 , 3.4558418 , 2.9896178 , 1.5231056 ,\n",
       "        3.422842  , 3.3150718 , 3.5051725 , 2.1653447 , 3.1134186 ],\n",
       "       [1.5846765 , 2.661023  , 2.4769669 , 3.470964  , 1.4431835 ,\n",
       "        2.3999262 , 3.9011345 , 3.248538  , 1.4247626 , 1.2602935 ],\n",
       "       [0.49207467, 2.325397  , 2.2815886 , 2.2696066 , 3.3333156 ,\n",
       "        2.4349878 , 2.0514407 , 3.2246497 , 1.6171042 , 1.6073767 ],\n",
       "       [2.5375338 , 2.4817715 , 2.6368468 , 2.0569093 , 4.3929462 ,\n",
       "        1.4862403 , 3.4939742 , 2.2332757 , 1.7737362 , 1.7618244 ],\n",
       "       [2.0678236 , 1.8836694 , 1.3364539 , 1.7425246 , 2.3898618 ,\n",
       "        1.1566195 , 2.628559  , 3.6502156 , 2.121294  , 1.3199686 ],\n",
       "       [1.8444016 , 2.2461612 , 3.215194  , 3.8432117 , 2.2398164 ,\n",
       "        1.8269355 , 4.414732  , 3.723146  , 0.50411344, 2.1435022 ],\n",
       "       [2.6537714 , 1.1732535 , 3.0079815 , 2.5904036 , 3.0474715 ,\n",
       "        1.8404907 , 2.6261342 , 1.1304994 , 1.8776394 , 0.85143405],\n",
       "       [0.6337883 , 3.3086834 , 1.4530784 , 2.515975  , 3.5047786 ,\n",
       "        1.1553439 , 2.8253915 , 3.52668   , 1.043268  , 2.3298826 ],\n",
       "       [1.3287122 , 2.5962925 , 1.9194646 , 1.8967655 , 5.310211  ,\n",
       "        2.868525  , 3.0769377 , 1.7588413 , 0.40501967, 2.9207122 ],\n",
       "       [0.8400132 , 2.0994346 , 2.1460192 , 1.5991999 , 2.2363923 ,\n",
       "        1.5488654 , 3.2248628 , 1.790886  , 0.7113455 , 2.6308084 ],\n",
       "       [0.95923513, 2.4799027 , 2.5939333 , 3.6836724 , 2.6314456 ,\n",
       "        2.4646401 , 3.5725472 , 3.2010999 , 1.1519556 , 1.662165  ],\n",
       "       [0.8192116 , 1.8272312 , 1.7956812 , 1.8296846 , 2.9964643 ,\n",
       "        2.2758195 , 2.3479476 , 2.8243024 , 1.1362125 , 2.8853436 ],\n",
       "       [3.6204023 , 1.9968115 , 1.7490085 , 2.9469259 , 3.12177   ,\n",
       "        2.235736  , 5.2850986 , 1.5726625 , 1.4582067 , 1.2513807 ],\n",
       "       [1.0327702 , 2.8972733 , 2.6707854 , 1.6554503 , 3.8221254 ,\n",
       "        2.0219557 , 2.4419677 , 3.9295774 , 1.2823715 , 1.2512529 ],\n",
       "       [1.928727  , 1.5045325 , 3.3143744 , 3.7100651 , 3.0415392 ,\n",
       "        1.8443445 , 2.0636263 , 2.327687  , 1.2617    , 1.081305  ],\n",
       "       [1.5923332 , 3.816273  , 3.0520546 , 0.9159544 , 4.5526114 ,\n",
       "        1.9873203 , 2.4606779 , 2.2672033 , 0.9068908 , 1.9620786 ],\n",
       "       [1.0044551 , 3.294622  , 1.9445477 , 3.2131855 , 3.7743635 ,\n",
       "        2.9366598 , 3.0328484 , 2.7435503 , 1.2155869 , 0.9583244 ]],\n",
       "      dtype=float32)"
      ]
     },
     "execution_count": 245,
     "metadata": {},
     "output_type": "execute_result"
    }
   ],
   "source": [
    "res_np"
   ]
  },
  {
   "cell_type": "code",
   "execution_count": 246,
   "id": "46dca274",
   "metadata": {},
   "outputs": [
    {
     "data": {
      "text/plain": [
       "array([[2.0588999 , 1.8681664 , 4.811817  , 2.2529387 , 2.1096544 ,\n",
       "        1.3379606 , 2.9000037 , 2.0491414 , 2.5897803 , 1.5031604 ],\n",
       "       [2.732146  , 2.5565495 , 3.714852  , 1.967403  , 2.7812793 ,\n",
       "        3.9070148 , 3.2777538 , 2.2969038 , 1.9229925 , 2.6556396 ],\n",
       "       [1.928745  , 3.1600957 , 2.6502829 , 1.8178726 , 3.2470448 ,\n",
       "        2.285428  , 2.6365926 , 2.5166864 , 1.070901  , 2.0605705 ],\n",
       "       [1.063185  , 4.1737986 , 2.2277255 , 1.2515675 , 4.1827664 ,\n",
       "        1.2915825 , 1.3805095 , 3.4198837 , 1.0256768 , 2.7755067 ],\n",
       "       [1.1833991 , 1.8557596 , 3.0534244 , 1.0722461 , 3.4905617 ,\n",
       "        1.643646  , 3.453313  , 3.808668  , 0.65044206, 2.0563726 ],\n",
       "       [1.0461621 , 3.5566838 , 3.2101297 , 1.572406  , 2.2809083 ,\n",
       "        1.8500901 , 1.3386623 , 4.39698   , 1.5621432 , 1.7725785 ],\n",
       "       [1.5166444 , 2.5048141 , 1.3417709 , 3.5234869 , 2.7652483 ,\n",
       "        1.1395355 , 2.25748   , 4.705172  , 2.2430854 , 1.8194562 ],\n",
       "       [1.6907904 , 2.3283677 , 1.7894993 , 2.1847265 , 2.8551002 ,\n",
       "        0.79378396, 1.7964936 , 3.5471232 , 1.9625643 , 1.3657154 ],\n",
       "       [1.2141374 , 2.9877534 , 3.1018186 , 3.629979  , 3.6487942 ,\n",
       "        1.808532  , 2.6615262 , 3.3801854 , 2.1941547 , 2.0062847 ],\n",
       "       [2.0491679 , 3.8442254 , 5.2590375 , 2.6086452 , 2.5204127 ,\n",
       "        2.845815  , 2.089722  , 2.0366    , 1.8493687 , 2.002032  ],\n",
       "       [1.4538853 , 3.52397   , 3.426971  , 0.94891644, 3.4088016 ,\n",
       "        1.826241  , 2.6029367 , 2.0418024 , 2.1847632 , 0.74823964],\n",
       "       [2.1386282 , 2.708146  , 1.742439  , 2.366699  , 2.55557   ,\n",
       "        1.021245  , 2.8354404 , 3.1261184 , 1.642767  , 1.4917253 ],\n",
       "       [2.2865992 , 3.9609175 , 3.3584628 , 2.9336588 , 2.459155  ,\n",
       "        2.2523775 , 2.647436  , 0.89587307, 2.0110953 , 2.1063092 ],\n",
       "       [1.9966788 , 2.9262302 , 4.8778872 , 1.2208712 , 3.4192896 ,\n",
       "        2.3487628 , 2.9560015 , 1.5107096 , 1.5358572 , 1.5315988 ],\n",
       "       [0.48399195, 2.1673245 , 2.2968588 , 2.7774973 , 2.5966098 ,\n",
       "        3.4832177 , 2.690391  , 4.0917354 , 0.23865944, 2.9819653 ],\n",
       "       [2.0954764 , 2.4307942 , 3.4558418 , 2.9896178 , 1.5231056 ,\n",
       "        3.422842  , 3.3150718 , 3.5051725 , 2.1653447 , 3.1134186 ],\n",
       "       [1.5846765 , 2.661023  , 2.4769669 , 3.470964  , 1.4431835 ,\n",
       "        2.3999262 , 3.9011345 , 3.248538  , 1.4247626 , 1.2602935 ],\n",
       "       [0.49207467, 2.325397  , 2.2815886 , 2.2696066 , 3.3333156 ,\n",
       "        2.4349878 , 2.0514407 , 3.2246497 , 1.6171042 , 1.6073767 ],\n",
       "       [2.5375338 , 2.4817715 , 2.6368468 , 2.0569093 , 4.3929462 ,\n",
       "        1.4862403 , 3.4939742 , 2.2332757 , 1.7737362 , 1.7618244 ],\n",
       "       [2.0678236 , 1.8836694 , 1.3364539 , 1.7425246 , 2.3898618 ,\n",
       "        1.1566195 , 2.628559  , 3.6502156 , 2.121294  , 1.3199686 ],\n",
       "       [1.8444016 , 2.2461612 , 3.215194  , 3.8432117 , 2.2398164 ,\n",
       "        1.8269355 , 4.414732  , 3.723146  , 0.50411344, 2.1435022 ],\n",
       "       [2.6537714 , 1.1732535 , 3.0079815 , 2.5904036 , 3.0474715 ,\n",
       "        1.8404907 , 2.6261342 , 1.1304994 , 1.8776394 , 0.85143405],\n",
       "       [0.6337883 , 3.3086834 , 1.4530784 , 2.515975  , 3.5047786 ,\n",
       "        1.1553439 , 2.8253915 , 3.52668   , 1.043268  , 2.3298826 ],\n",
       "       [1.3287122 , 2.5962925 , 1.9194646 , 1.8967655 , 5.310211  ,\n",
       "        2.868525  , 3.0769377 , 1.7588413 , 0.40501967, 2.9207122 ],\n",
       "       [0.84001315, 2.0994346 , 2.1460192 , 1.5992    , 2.236392  ,\n",
       "        1.5488653 , 3.224863  , 1.7908863 , 0.7113455 , 2.6308084 ],\n",
       "       [0.9592351 , 2.4799027 , 2.593933  , 3.6836722 , 2.6314456 ,\n",
       "        2.4646401 , 3.572547  , 3.2011003 , 1.1519556 , 1.662165  ],\n",
       "       [0.8192115 , 1.8272312 , 1.7956815 , 1.8296847 , 2.9964643 ,\n",
       "        2.2758198 , 2.3479474 , 2.8243022 , 1.1362125 , 2.8853436 ],\n",
       "       [3.6204023 , 1.9968116 , 1.7490085 , 2.9469256 , 3.12177   ,\n",
       "        2.235736  , 5.2850986 , 1.5726624 , 1.4582067 , 1.2513807 ],\n",
       "       [1.0327702 , 2.8972735 , 2.6707854 , 1.6554506 , 3.8221254 ,\n",
       "        2.0219557 , 2.4419675 , 3.9295774 , 1.2823715 , 1.2512529 ],\n",
       "       [1.9287269 , 1.5045323 , 3.3143744 , 3.7100654 , 3.0415392 ,\n",
       "        1.8443446 , 2.0636263 , 2.3276868 , 1.2617    , 1.081305  ],\n",
       "       [1.5923332 , 3.8162732 , 3.0520544 , 0.9159544 , 4.5526114 ,\n",
       "        1.9873202 , 2.4606779 , 2.2672033 , 0.9068908 , 1.9620786 ],\n",
       "       [1.0044551 , 3.2946215 , 1.9445477 , 3.2131855 , 3.7743635 ,\n",
       "        2.93666   , 3.0328484 , 2.7435503 , 1.2155869 , 0.9583244 ]],\n",
       "      dtype=float32)"
      ]
     },
     "execution_count": 246,
     "metadata": {},
     "output_type": "execute_result"
    }
   ],
   "source": [
    "a.dot(b)"
   ]
  },
  {
   "cell_type": "code",
   "execution_count": 247,
   "id": "4641cdcc",
   "metadata": {},
   "outputs": [
    {
     "data": {
      "text/plain": [
       "array([[ True,  True,  True,  True,  True,  True,  True,  True,  True,\n",
       "         True],\n",
       "       [ True,  True,  True,  True,  True,  True,  True,  True,  True,\n",
       "         True],\n",
       "       [ True,  True,  True,  True,  True,  True,  True,  True,  True,\n",
       "         True],\n",
       "       [ True,  True,  True,  True,  True,  True,  True,  True,  True,\n",
       "         True],\n",
       "       [ True,  True,  True,  True,  True,  True,  True,  True,  True,\n",
       "         True],\n",
       "       [ True,  True,  True,  True,  True,  True,  True,  True,  True,\n",
       "         True],\n",
       "       [ True,  True,  True,  True,  True,  True,  True,  True,  True,\n",
       "         True],\n",
       "       [ True,  True,  True,  True,  True,  True,  True,  True,  True,\n",
       "         True],\n",
       "       [ True,  True,  True,  True,  True,  True,  True,  True,  True,\n",
       "         True],\n",
       "       [ True,  True,  True,  True,  True,  True,  True,  True,  True,\n",
       "         True],\n",
       "       [ True,  True,  True,  True,  True,  True,  True,  True,  True,\n",
       "         True],\n",
       "       [ True,  True,  True,  True,  True,  True,  True,  True,  True,\n",
       "         True],\n",
       "       [ True,  True,  True,  True,  True,  True,  True,  True,  True,\n",
       "         True],\n",
       "       [ True,  True,  True,  True,  True,  True,  True,  True,  True,\n",
       "         True],\n",
       "       [ True,  True,  True,  True,  True,  True,  True,  True,  True,\n",
       "         True],\n",
       "       [ True,  True,  True,  True,  True,  True,  True,  True,  True,\n",
       "         True],\n",
       "       [ True,  True,  True,  True,  True,  True,  True,  True,  True,\n",
       "         True],\n",
       "       [ True,  True,  True,  True,  True,  True,  True,  True,  True,\n",
       "         True],\n",
       "       [ True,  True,  True,  True,  True,  True,  True,  True,  True,\n",
       "         True],\n",
       "       [ True,  True,  True,  True,  True,  True,  True,  True,  True,\n",
       "         True],\n",
       "       [ True,  True,  True,  True,  True,  True,  True,  True,  True,\n",
       "         True],\n",
       "       [ True,  True,  True,  True,  True,  True,  True,  True,  True,\n",
       "         True],\n",
       "       [ True,  True,  True,  True,  True,  True,  True,  True,  True,\n",
       "         True],\n",
       "       [ True,  True,  True,  True,  True,  True,  True,  True,  True,\n",
       "         True],\n",
       "       [False,  True,  True, False, False, False, False, False,  True,\n",
       "         True],\n",
       "       [False,  True, False, False,  True,  True, False, False,  True,\n",
       "         True],\n",
       "       [False,  True, False, False,  True, False, False, False,  True,\n",
       "         True],\n",
       "       [ True, False,  True, False,  True,  True,  True, False,  True,\n",
       "         True],\n",
       "       [ True, False,  True, False,  True,  True, False,  True,  True,\n",
       "         True],\n",
       "       [False, False,  True, False,  True, False,  True, False,  True,\n",
       "         True],\n",
       "       [ True, False, False,  True,  True, False,  True,  True,  True,\n",
       "         True],\n",
       "       [ True, False,  True,  True,  True, False,  True,  True,  True,\n",
       "         True]])"
      ]
     },
     "execution_count": 247,
     "metadata": {},
     "output_type": "execute_result"
    }
   ],
   "source": [
    "res_np==mult"
   ]
  },
  {
   "cell_type": "code",
   "execution_count": 248,
   "id": "5b55f104",
   "metadata": {},
   "outputs": [
    {
     "data": {
      "text/plain": [
       "(32, 10)"
      ]
     },
     "execution_count": 248,
     "metadata": {},
     "output_type": "execute_result"
    }
   ],
   "source": [
    "res_np.shape"
   ]
  },
  {
   "cell_type": "code",
   "execution_count": 249,
   "id": "84122d03",
   "metadata": {},
   "outputs": [
    {
     "data": {
      "text/plain": [
       "(32, 10)"
      ]
     },
     "execution_count": 249,
     "metadata": {},
     "output_type": "execute_result"
    }
   ],
   "source": [
    "mult.shape"
   ]
  },
  {
   "cell_type": "markdown",
   "id": "b3ad7225",
   "metadata": {},
   "source": [
    "## Weight update kernel"
   ]
  },
  {
   "cell_type": "code",
   "execution_count": 250,
   "id": "a5138cee",
   "metadata": {},
   "outputs": [],
   "source": [
    "bs = 4"
   ]
  },
  {
   "cell_type": "code",
   "execution_count": 251,
   "id": "ae5eb8aa",
   "metadata": {},
   "outputs": [
    {
     "data": {
      "text/plain": [
       "array([[0.82272685, 0.        , 0.        , ..., 0.22595333, 0.        ,\n",
       "        0.        ],\n",
       "       [0.57626116, 0.2289813 , 0.16428949, ..., 0.27008578, 0.        ,\n",
       "        0.9652075 ],\n",
       "       [0.        , 0.48130327, 0.        , ..., 0.        , 0.12290299,\n",
       "        0.        ],\n",
       "       ...,\n",
       "       [0.8716895 , 0.10489579, 0.        , ..., 0.        , 0.39542586,\n",
       "        0.        ],\n",
       "       [0.        , 0.        , 0.        , ..., 0.5132175 , 0.9358725 ,\n",
       "        0.37984058],\n",
       "       [0.        , 0.6832084 , 0.9385753 , ..., 0.02876937, 0.        ,\n",
       "        0.        ]], dtype=float32)"
      ]
     },
     "execution_count": 251,
     "metadata": {},
     "output_type": "execute_result"
    }
   ],
   "source": [
    "a"
   ]
  },
  {
   "cell_type": "code",
   "execution_count": 252,
   "id": "76e44e2d",
   "metadata": {},
   "outputs": [
    {
     "data": {
      "text/plain": [
       "((4, 8), (4, 8), 5)"
      ]
     },
     "execution_count": 252,
     "metadata": {},
     "output_type": "execute_result"
    }
   ],
   "source": [
    "dim = 8\n",
    "\n",
    "x = np.random.rand(bs,dim).astype(np.float32)\n",
    "y = np.random.rand(bs,dim).astype(np.float32)\n",
    "x.shape,y.shape, topk"
   ]
  },
  {
   "cell_type": "markdown",
   "id": "de5e3e5e",
   "metadata": {},
   "source": [
    "x_buf = cl.Buffer(ctx, mf.READ_ONLY | mf.COPY_HOST_PTR, hostbuf=x)\n",
    "y_buf = cl.Buffer(ctx, mf.READ_ONLY | mf.COPY_HOST_PTR, hostbuf=y)\n",
    "x_cp_buf = cl.Buffer(ctx, mf.WRITE_ONLY, bs*topk*topk*4)\n",
    "x_idx_buf = cl.Buffer(ctx, mf.WRITE_ONLY, bs*topk*4)\n",
    "y_idx_buf = cl.Buffer(ctx, mf.WRITE_ONLY, bs*topk*4)\n",
    "\n",
    "prg = cl.Program(ctx, \"\"\"\n",
    "    // sorts x and y in ascending order and returns sorted indices\n",
    "    __kernel void genwupdate2(__global  float* x,     // INPUT MATRIX DATA\n",
    "                             __global  float* y,    // INPUT\n",
    "                             __global  float* xout,    // INPUT\n",
    "                             uint topk,\n",
    "                             __global  uint* xoutidx,    // INPUT\n",
    "                             __global  uint* youtidx    // INPUT\n",
    "                            ) { // LOCAL SHARED BUFFER\n",
    "      uint gid = get_global_id(0);\n",
    "      uint n = get_global_size(0);\n",
    "      uint bs = get_global_size(1);\n",
    "      uint gid2 = get_global_id(1);\n",
    "\n",
    "      uint idx = n*gid2+gid;\n",
    "\n",
    "      float valx = x[idx];\n",
    "      float valy = y[idx];\n",
    "      uint posx = 0;\n",
    "      uint posy = 0;\n",
    "      for (uint i = 0; i < n; i++) {\n",
    "        uint idx2 = n*gid2+i;\n",
    "        float tempval = x[idx2];\n",
    "        float tempval2 = y[idx2];\n",
    "        bool larger = tempval > valx;\n",
    "        bool larger2 = tempval2 > valy;\n",
    "\n",
    "        barrier(CLK_GLOBAL_MEM_FENCE);\n",
    "        posx += (larger)?1:0;\n",
    "        posy += (larger2)?1:0;\n",
    "        barrier(CLK_GLOBAL_MEM_FENCE);\n",
    "      }\n",
    "      barrier(CLK_GLOBAL_MEM_FENCE);\n",
    "      //printf(\"posx:%i\", posx);\n",
    "      if (posx < topk) {\n",
    "        xoutidx[posx+topk*gid2] = gid;\n",
    "      }\n",
    "      if (posy < topk) {\n",
    "        youtidx[posy+topk*gid2] = gid;\n",
    "      }\n",
    "      barrier(CLK_GLOBAL_MEM_FENCE);\n",
    "      if (gid < topk) {\n",
    "        for (uint j=0; j<topk; j++) {\n",
    "          float res = x[xoutidx[gid+topk*gid2]+gid2*n] * y[youtidx[j+topk*gid2]+gid2*n];\n",
    "          //printf(\"\\\\nJ:%i  gid:%i\", j, gid);\n",
    "          //printf(\"\\\\nRES:%.2f - %i - %i -  %.2f - %.2f\",res, xoutidx[gid+topk*gid2], youtidx[j+topk*gid2], x[xoutidx[gid+topk*gid2]+gid2*n], y[youtidx[j+topk*gid2]+gid2*n]);\n",
    "          barrier(CLK_GLOBAL_MEM_FENCE);\n",
    "          xout[gid2*topk*topk+j*topk+gid] = res;\n",
    "          barrier(CLK_GLOBAL_MEM_FENCE);\n",
    "          \n",
    "        }\n",
    "      }\n",
    "      barrier(CLK_GLOBAL_MEM_FENCE);\n",
    "    }\"\"\").build()"
   ]
  },
  {
   "cell_type": "code",
   "execution_count": 253,
   "id": "88864470",
   "metadata": {},
   "outputs": [],
   "source": [
    "x_buf = cl.Buffer(ctx, mf.READ_ONLY | mf.COPY_HOST_PTR, hostbuf=x)\n",
    "y_buf = cl.Buffer(ctx, mf.READ_ONLY | mf.COPY_HOST_PTR, hostbuf=y)\n",
    "x_cp_buf = cl.Buffer(ctx, mf.WRITE_ONLY, bs*topk*topk*4)\n",
    "x_idx_buf = cl.Buffer(ctx, mf.WRITE_ONLY, bs*topk*4)\n",
    "y_idx_buf = cl.Buffer(ctx, mf.WRITE_ONLY, bs*topk*4)\n",
    "#x_cp_buft = cl.Buffer(ctx, mf.WRITE_ONLY, bs*topk*topk*4)\n",
    "#x_idx_buft = cl.Buffer(ctx, mf.WRITE_ONLY, bs*topk*4)\n",
    "#y_idx_buft = cl.Buffer(ctx, mf.WRITE_ONLY, bs*topk*4)\n",
    "\n",
    "prg = cl.Program(ctx, \"\"\"\n",
    "    // sorts x and y in ascending order and returns sorted indices\n",
    "    __kernel void genwupdate2(__global  float* x,     // INPUT MATRIX DATA\n",
    "                             __global  float* y,    // INPUT\n",
    "                             __global  float* xout,    // INPUT\n",
    "                             uint topk,\n",
    "                             uint bs,\n",
    "                             __global  uint* xoutidx,    // INPUT\n",
    "                             __global  uint* youtidx    // INPUT\n",
    "                            ) { // LOCAL SHARED BUFFER\n",
    "      uint gid = get_global_id(0);\n",
    "      uint n = get_global_size(0);\n",
    "      //uint bs = get_global_size(1);\n",
    "      //uint gid2 = get_global_id(1);\n",
    "\n",
    "      for (uint gid2=0; gid2<bs; gid2++){\n",
    "        uint idx = n*gid2+gid;\n",
    "\n",
    "        float valx = x[idx];\n",
    "        float valy = y[idx];\n",
    "        uint posx = 0;\n",
    "        uint posy = 0;\n",
    "        for (uint i = 0; i < n; i++) {\n",
    "          uint idx2 = n*gid2+i;\n",
    "          float tempval = x[idx2];\n",
    "          float tempval2 = y[idx2];\n",
    "          bool larger = tempval > valx;\n",
    "          bool larger2 = tempval2 > valy;\n",
    "\n",
    "          posx += (larger)?1:0;\n",
    "          posy += (larger2)?1:0;\n",
    "        }\n",
    "        //printf(\"posx:%i\", posx);\n",
    "        if (posx < topk) {\n",
    "        xoutidx[posx+topk*gid2] = gid;\n",
    "        }\n",
    "        if (posy < topk) {\n",
    "          youtidx[posy+topk*gid2] = gid;\n",
    "        }\n",
    "      }\n",
    "      for (uint gid2=0; gid2<bs; gid2++){\n",
    "        if (gid < topk) {\n",
    "          for (uint j=0; j<topk; j++) {\n",
    "            float res = x[xoutidx[gid+topk*gid2]+gid2*n] * y[youtidx[j+topk*gid2]+gid2*n];\n",
    "            //printf(\"\\\\nJ:%i  gid:%i\", j, gid);\n",
    "            //printf(\"\\\\nRES:%.2f - %i - %i -  %.2f - %.2f\",res, xoutidx[gid+topk*gid2], youtidx[j+topk*gid2], x[xoutidx[gid+topk*gid2]+gid2*n], y[youtidx[j+topk*gid2]+gid2*n]);\n",
    "            //barrier(CLK_GLOBAL_MEM_FENCE);\n",
    "            xout[gid2*topk*topk+j*topk+gid] = res;\n",
    "          }\n",
    "        }\n",
    "      }\n",
    "    }\"\"\").build()"
   ]
  },
  {
   "cell_type": "code",
   "execution_count": 254,
   "id": "94682965",
   "metadata": {},
   "outputs": [
    {
     "data": {
      "text/plain": [
       "<pyopencl._cl.NannyEvent at 0x7ff1541bfa90>"
      ]
     },
     "execution_count": 254,
     "metadata": {},
     "output_type": "execute_result"
    }
   ],
   "source": [
    "knl = prg.genwupdate2  # Use this Kernel object for repeated calls\n",
    "evt = knl(queue, [dim], None, x_buf, y_buf, x_cp_buf, np.uint32(topk), np.uint32(bs), x_idx_buf, y_idx_buf)\n",
    "\n",
    "#evt.wait()\n",
    "resx = np.zeros(bs*topk*topk).astype(np.float32)\n",
    "resxidx = np.zeros(bs*topk).astype(np.uint32)\n",
    "resyidx = np.zeros(bs*topk).astype(np.uint32)\n",
    "\n",
    "cl.enqueue_copy(queue, resx, x_cp_buf)\n",
    "cl.enqueue_copy(queue, resxidx, x_idx_buf)\n",
    "cl.enqueue_copy(queue, resyidx, y_idx_buf)"
   ]
  },
  {
   "cell_type": "markdown",
   "id": "771508c3",
   "metadata": {},
   "source": [
    "knl(queue, [dim], None, y_buf, x_buf, x_cp_buft, np.uint32(topk), np.uint32(bs), x_idx_buft, y_idx_buft)\n",
    "\n",
    "#evt.wait()\n",
    "resx = np.zeros(bs*topk*topk).astype(np.float32)\n",
    "resxidx = np.zeros(bs*topk).astype(np.uint32)\n",
    "resyidx = np.zeros(bs*topk).astype(np.uint32)\n",
    "\n",
    "cl.enqueue_copy(queue, resx, x_cp_buf)\n",
    "cl.enqueue_copy(queue, resxidx, x_idx_buf)\n",
    "cl.enqueue_copy(queue, resyidx, y_idx_buf)"
   ]
  },
  {
   "cell_type": "code",
   "execution_count": 255,
   "id": "88725ae2",
   "metadata": {},
   "outputs": [
    {
     "data": {
      "text/plain": [
       "array([[0.9823076 , 0.5675079 , 0.4899438 , 0.42544496, 0.21516374,\n",
       "        0.0106969 , 0.73530084, 0.91274136],\n",
       "       [0.87523365, 0.69470036, 0.227531  , 0.3580261 , 0.07031833,\n",
       "        0.60395014, 0.20008752, 0.15327545],\n",
       "       [0.6115412 , 0.8403613 , 0.06753407, 0.8783888 , 0.57819855,\n",
       "        0.02901758, 0.3717504 , 0.12619837],\n",
       "       [0.11297344, 0.17878655, 0.75727826, 0.9547149 , 0.78555155,\n",
       "        0.08058742, 0.7716587 , 0.20285805]], dtype=float32)"
      ]
     },
     "execution_count": 255,
     "metadata": {},
     "output_type": "execute_result"
    }
   ],
   "source": [
    "x"
   ]
  },
  {
   "cell_type": "code",
   "execution_count": 256,
   "id": "4c150d0f",
   "metadata": {},
   "outputs": [
    {
     "data": {
      "text/plain": [
       "array([[0.600012  , 0.51608175, 0.40237623, 0.6606863 , 0.20992446,\n",
       "        0.47771522, 0.53684914, 0.6093566 ],\n",
       "       [0.9005503 , 0.17203258, 0.48102152, 0.5812099 , 0.6695809 ,\n",
       "        0.19274941, 0.44359848, 0.79617304],\n",
       "       [0.4759505 , 0.08721701, 0.12529917, 0.08470217, 0.64269125,\n",
       "        0.29062477, 0.52881134, 0.22973938],\n",
       "       [0.39131835, 0.75165856, 0.67415816, 0.98627734, 0.688432  ,\n",
       "        0.6221831 , 0.22869836, 0.81559634]], dtype=float32)"
      ]
     },
     "execution_count": 256,
     "metadata": {},
     "output_type": "execute_result"
    }
   ],
   "source": [
    "y"
   ]
  },
  {
   "cell_type": "code",
   "execution_count": 257,
   "id": "990b8af7",
   "metadata": {},
   "outputs": [
    {
     "data": {
      "text/plain": [
       "((4, 8), (4, 8))"
      ]
     },
     "execution_count": 257,
     "metadata": {},
     "output_type": "execute_result"
    }
   ],
   "source": [
    "x.shape, y.shape"
   ]
  },
  {
   "cell_type": "code",
   "execution_count": 258,
   "id": "1c18b7bb",
   "metadata": {},
   "outputs": [
    {
     "data": {
      "text/plain": [
       "array([0.6489972 , 0.60303575, 0.4858032 , 0.37494472, 0.32369918,\n",
       "       0.5985756 , 0.55618495, 0.4480604 , 0.34581468, 0.2985505 ,\n",
       "       0.58939636, 0.54765576, 0.44118932, 0.34051156, 0.29397216,\n",
       "       0.527351  , 0.49000442, 0.39474562, 0.30466613, 0.2630259 ,\n",
       "       0.50695103, 0.47104916, 0.37947536, 0.29288048, 0.25285107,\n",
       "       0.7881919 , 0.6256126 , 0.5438875 , 0.3224205 , 0.20490311,\n",
       "       0.6968374 , 0.5531017 , 0.48084882, 0.28505072, 0.18115404,\n",
       "       0.5860397 , 0.46515808, 0.40439346, 0.23972742, 0.15235041,\n",
       "       0.50869447, 0.40376672, 0.3510218 , 0.20808831, 0.13224328,\n",
       "       0.42100623, 0.3341658 , 0.290513  , 0.17221825, 0.10944731,\n",
       "       0.5645328 , 0.5400929 , 0.3930322 , 0.37160316, 0.23892073,\n",
       "       0.46450198, 0.4443926 , 0.32338992, 0.30575794, 0.19658583,\n",
       "       0.4180696 , 0.39997038, 0.29106334, 0.2751939 , 0.1769348 ,\n",
       "       0.25528154, 0.24422981, 0.17772903, 0.16803882, 0.10803988,\n",
       "       0.20180051, 0.19306408, 0.1404951 , 0.13283499, 0.08540571,\n",
       "       0.9416137 , 0.7747717 , 0.76106954, 0.7468864 , 0.2000743 ,\n",
       "       0.77866197, 0.64069295, 0.62936205, 0.6176334 , 0.16545027,\n",
       "       0.7176196 , 0.59046656, 0.5800239 , 0.5692147 , 0.15247999,\n",
       "       0.65725625, 0.5407988 , 0.53123456, 0.5213346 , 0.13965397,\n",
       "       0.64362884, 0.52958596, 0.52022004, 0.51052535, 0.1367584 ],\n",
       "      dtype=float32)"
      ]
     },
     "execution_count": 258,
     "metadata": {},
     "output_type": "execute_result"
    }
   ],
   "source": [
    "resx"
   ]
  },
  {
   "cell_type": "code",
   "execution_count": 259,
   "id": "58d4154c",
   "metadata": {},
   "outputs": [
    {
     "data": {
      "text/plain": [
       "array([[[0.6489972 , 0.60303575, 0.4858032 , 0.37494472, 0.32369918],\n",
       "        [0.5985756 , 0.55618495, 0.4480604 , 0.34581468, 0.2985505 ],\n",
       "        [0.58939636, 0.54765576, 0.44118932, 0.34051156, 0.29397216],\n",
       "        [0.527351  , 0.49000442, 0.39474562, 0.30466613, 0.2630259 ],\n",
       "        [0.50695103, 0.47104916, 0.37947536, 0.29288048, 0.25285107]],\n",
       "\n",
       "       [[0.7881919 , 0.6256126 , 0.5438875 , 0.3224205 , 0.20490311],\n",
       "        [0.6968374 , 0.5531017 , 0.48084882, 0.28505072, 0.18115404],\n",
       "        [0.5860397 , 0.46515808, 0.40439346, 0.23972742, 0.15235041],\n",
       "        [0.50869447, 0.40376672, 0.3510218 , 0.20808831, 0.13224328],\n",
       "        [0.42100623, 0.3341658 , 0.290513  , 0.17221825, 0.10944731]],\n",
       "\n",
       "       [[0.5645328 , 0.5400929 , 0.3930322 , 0.37160316, 0.23892073],\n",
       "        [0.46450198, 0.4443926 , 0.32338992, 0.30575794, 0.19658583],\n",
       "        [0.4180696 , 0.39997038, 0.29106334, 0.2751939 , 0.1769348 ],\n",
       "        [0.25528154, 0.24422981, 0.17772903, 0.16803882, 0.10803988],\n",
       "        [0.20180051, 0.19306408, 0.1404951 , 0.13283499, 0.08540571]],\n",
       "\n",
       "       [[0.9416137 , 0.7747717 , 0.76106954, 0.7468864 , 0.2000743 ],\n",
       "        [0.77866197, 0.64069295, 0.62936205, 0.6176334 , 0.16545027],\n",
       "        [0.7176196 , 0.59046656, 0.5800239 , 0.5692147 , 0.15247999],\n",
       "        [0.65725625, 0.5407988 , 0.53123456, 0.5213346 , 0.13965397],\n",
       "        [0.64362884, 0.52958596, 0.52022004, 0.51052535, 0.1367584 ]]],\n",
       "      dtype=float32)"
      ]
     },
     "execution_count": 259,
     "metadata": {},
     "output_type": "execute_result"
    }
   ],
   "source": [
    "resx.reshape(bs,topk,topk)"
   ]
  },
  {
   "cell_type": "code",
   "execution_count": 260,
   "id": "5cca2876",
   "metadata": {},
   "outputs": [
    {
     "data": {
      "text/plain": [
       "array([0, 7, 6, 1, 2, 0, 1, 5, 3, 2, 3, 1, 0, 4, 6, 3, 4, 6, 2, 7],\n",
       "      dtype=uint32)"
      ]
     },
     "execution_count": 260,
     "metadata": {},
     "output_type": "execute_result"
    }
   ],
   "source": [
    "resxidx"
   ]
  },
  {
   "cell_type": "code",
   "execution_count": 261,
   "id": "80deeac2",
   "metadata": {},
   "outputs": [
    {
     "data": {
      "text/plain": [
       "array([3, 7, 0, 6, 1, 0, 7, 4, 3, 2, 4, 6, 0, 5, 7, 3, 7, 1, 4, 2],\n",
       "      dtype=uint32)"
      ]
     },
     "execution_count": 261,
     "metadata": {},
     "output_type": "execute_result"
    }
   ],
   "source": [
    "resyidx"
   ]
  },
  {
   "cell_type": "code",
   "execution_count": 262,
   "id": "3020c7d7",
   "metadata": {},
   "outputs": [
    {
     "data": {
      "text/plain": [
       "(8, 8)"
      ]
     },
     "execution_count": 262,
     "metadata": {},
     "output_type": "execute_result"
    }
   ],
   "source": [
    "idx = 1\n",
    "xy0 = x[idx].reshape(dim,1)*y[idx]\n",
    "xy0.shape"
   ]
  },
  {
   "cell_type": "code",
   "execution_count": 263,
   "id": "fc865ccb",
   "metadata": {},
   "outputs": [
    {
     "data": {
      "text/plain": [
       "0.28505072"
      ]
     },
     "execution_count": 263,
     "metadata": {},
     "output_type": "execute_result"
    }
   ],
   "source": [
    "xy0[3][7]"
   ]
  },
  {
   "cell_type": "markdown",
   "id": "1b1742a3",
   "metadata": {},
   "source": [
    "## Weight update kernel new"
   ]
  },
  {
   "cell_type": "code",
   "execution_count": 264,
   "id": "9f4bce2c",
   "metadata": {},
   "outputs": [
    {
     "data": {
      "text/plain": [
       "array([[0.9414536 , 0.        , 0.        , 0.90892494, 0.        ,\n",
       "        0.        , 0.05297933, 0.        , 0.7021168 , 0.        ],\n",
       "       [0.        , 0.        , 0.14630048, 0.24825948, 0.        ,\n",
       "        0.        , 0.        , 0.7792777 , 0.31232256, 0.        ],\n",
       "       [0.        , 0.03283854, 0.27791733, 0.8543185 , 0.        ,\n",
       "        0.        , 0.8433972 , 0.        , 0.        , 0.        ],\n",
       "       [0.        , 0.        , 0.33419287, 0.19840643, 0.        ,\n",
       "        0.3856511 , 0.23348303, 0.        , 0.        , 0.        ],\n",
       "       [0.        , 0.01996238, 0.9816661 , 0.        , 0.        ,\n",
       "        0.        , 0.        , 0.5056456 , 0.        , 0.01917347],\n",
       "       [0.        , 0.        , 0.        , 0.        , 0.49159616,\n",
       "        0.0810385 , 0.64290637, 0.16045028, 0.        , 0.        ],\n",
       "       [0.        , 0.2878976 , 0.        , 0.        , 0.7058473 ,\n",
       "        0.        , 0.41645932, 0.44598925, 0.        , 0.        ],\n",
       "       [0.31479523, 0.40940058, 0.        , 0.        , 0.        ,\n",
       "        0.        , 0.49991104, 0.        , 0.79827386, 0.        ],\n",
       "       [0.11005293, 0.5290864 , 0.        , 0.31983745, 0.        ,\n",
       "        0.        , 0.        , 0.57631195, 0.        , 0.        ],\n",
       "       [0.06780045, 0.03890254, 0.        , 0.        , 0.98146695,\n",
       "        0.8737231 , 0.        , 0.        , 0.        , 0.        ],\n",
       "       [0.        , 0.7218774 , 0.40662676, 0.18507701, 0.        ,\n",
       "        0.        , 0.        , 0.        , 0.05563454, 0.        ],\n",
       "       [0.16214237, 0.        , 0.5265734 , 0.23904228, 0.        ,\n",
       "        0.        , 0.        , 0.        , 0.11824279, 0.        ],\n",
       "       [0.        , 0.6727114 , 0.01572542, 0.        , 0.44648495,\n",
       "        0.22174914, 0.        , 0.        , 0.        , 0.        ],\n",
       "       [0.6445239 , 0.8689898 , 0.78785294, 0.        , 0.        ,\n",
       "        0.        , 0.        , 0.        , 0.6352877 , 0.        ],\n",
       "       [0.50232446, 0.        , 0.        , 0.        , 0.        ,\n",
       "        0.47040063, 0.        , 0.        , 0.46875456, 0.5505951 ],\n",
       "       [0.        , 0.3043906 , 0.        , 0.        , 0.2855941 ,\n",
       "        0.        , 0.45246527, 0.03966095, 0.        , 0.        ],\n",
       "       [0.        , 0.6158326 , 0.        , 0.        , 0.        ,\n",
       "        0.55754304, 0.        , 0.8633621 , 0.        , 0.01719917],\n",
       "       [0.        , 0.        , 0.        , 0.        , 0.75643075,\n",
       "        0.        , 0.        , 0.42180747, 0.95542496, 0.1022128 ],\n",
       "       [0.        , 0.17614561, 0.4101668 , 0.        , 0.        ,\n",
       "        0.        , 0.20147614, 0.10142381, 0.        , 0.        ],\n",
       "       [0.        , 0.        , 0.        , 0.9880747 , 0.        ,\n",
       "        0.7065452 , 0.602556  , 0.48707104, 0.        , 0.        ],\n",
       "       [0.17604527, 0.        , 0.        , 0.        , 0.        ,\n",
       "        0.        , 0.        , 0.84334254, 0.8945855 , 0.72915745],\n",
       "       [0.        , 0.        , 0.        , 0.        , 0.23293144,\n",
       "        0.2350415 , 0.78704804, 0.        , 0.        , 0.20438819],\n",
       "       [0.        , 0.        , 0.        , 0.10942628, 0.00130877,\n",
       "        0.        , 0.        , 0.4094274 , 0.01082143, 0.        ],\n",
       "       [0.        , 0.        , 0.        , 0.21641734, 0.        ,\n",
       "        0.31724194, 0.35538766, 0.        , 0.        , 0.46936178],\n",
       "       [0.        , 0.        , 0.        , 0.        , 0.91353625,\n",
       "        0.        , 0.7040352 , 0.52147955, 0.49268502, 0.        ],\n",
       "       [0.        , 0.5996785 , 0.        , 0.5246723 , 0.        ,\n",
       "        0.        , 0.        , 0.9170164 , 0.47608244, 0.        ],\n",
       "       [0.        , 0.41769058, 0.        , 0.        , 0.92990875,\n",
       "        0.        , 0.22981252, 0.        , 0.        , 0.23540662],\n",
       "       [0.        , 0.22088505, 0.        , 0.        , 0.        ,\n",
       "        0.8154559 , 0.        , 0.23452929, 0.        , 0.88327533],\n",
       "       [0.42811713, 0.        , 0.94115525, 0.        , 0.34584206,\n",
       "        0.        , 0.        , 0.        , 0.1731275 , 0.        ],\n",
       "       [0.11871076, 0.64951146, 0.19040094, 0.        , 0.        ,\n",
       "        0.        , 0.        , 0.        , 0.        , 0.26224414],\n",
       "       [0.        , 0.        , 0.19905205, 0.        , 0.66453385,\n",
       "        0.9441609 , 0.17658035, 0.        , 0.        , 0.        ],\n",
       "       [0.        , 0.8829375 , 0.89167756, 0.        , 0.        ,\n",
       "        0.34762165, 0.        , 0.        , 0.02995267, 0.        ],\n",
       "       [0.        , 0.5526871 , 0.        , 0.70496935, 0.        ,\n",
       "        0.        , 0.6193049 , 0.        , 0.04075215, 0.        ],\n",
       "       [0.6127449 , 0.        , 0.01054911, 0.        , 0.72773826,\n",
       "        0.4128602 , 0.        , 0.        , 0.        , 0.        ],\n",
       "       [0.41137826, 0.45999953, 0.71848863, 0.        , 0.        ,\n",
       "        0.29980114, 0.        , 0.        , 0.        , 0.        ],\n",
       "       [0.82947165, 0.20491129, 0.        , 0.        , 0.47647813,\n",
       "        0.        , 0.39832172, 0.        , 0.        , 0.        ],\n",
       "       [0.04573116, 0.        , 0.67741925, 0.        , 0.        ,\n",
       "        0.        , 0.46088123, 0.        , 0.        , 0.39439395],\n",
       "       [0.        , 0.03375057, 0.934714  , 0.        , 0.5239845 ,\n",
       "        0.        , 0.9214213 , 0.        , 0.        , 0.        ],\n",
       "       [0.        , 0.        , 0.9567172 , 0.31415144, 0.        ,\n",
       "        0.40333778, 0.1583537 , 0.        , 0.        , 0.        ],\n",
       "       [0.04850706, 0.        , 0.8573981 , 0.        , 0.        ,\n",
       "        0.        , 0.23557614, 0.44495046, 0.        , 0.        ],\n",
       "       [0.        , 0.        , 0.        , 0.7757434 , 0.29974842,\n",
       "        0.47304207, 0.        , 0.        , 0.        , 0.97353226],\n",
       "       [0.        , 0.        , 0.04344931, 0.08597016, 0.        ,\n",
       "        0.        , 0.660472  , 0.9784147 , 0.        , 0.        ],\n",
       "       [0.        , 0.45209226, 0.7110872 , 0.        , 0.87557894,\n",
       "        0.        , 0.75961554, 0.        , 0.        , 0.        ],\n",
       "       [0.        , 0.09342512, 0.        , 0.        , 0.22442254,\n",
       "        0.01690201, 0.        , 0.        , 0.        , 0.8055896 ],\n",
       "       [0.        , 0.        , 0.09824695, 0.24463587, 0.        ,\n",
       "        0.        , 0.        , 0.32749644, 0.        , 0.45531607],\n",
       "       [0.6346003 , 0.        , 0.        , 0.00316491, 0.5720998 ,\n",
       "        0.        , 0.87135255, 0.        , 0.        , 0.        ],\n",
       "       [0.        , 0.14726698, 0.        , 0.        , 0.        ,\n",
       "        0.2944593 , 0.28086743, 0.        , 0.25112677, 0.        ],\n",
       "       [0.        , 0.        , 0.        , 0.58537555, 0.12253232,\n",
       "        0.8452076 , 0.        , 0.        , 0.        , 0.54433316],\n",
       "       [0.69351566, 0.        , 0.        , 0.50371623, 0.        ,\n",
       "        0.        , 0.9726071 , 0.7246852 , 0.        , 0.        ],\n",
       "       [0.9864582 , 0.        , 0.        , 0.        , 0.        ,\n",
       "        0.1762971 , 0.55006534, 0.        , 0.7705533 , 0.        ],\n",
       "       [0.        , 0.        , 0.09063595, 0.8334261 , 0.        ,\n",
       "        0.        , 0.        , 0.26001835, 0.        , 0.27716133],\n",
       "       [0.        , 0.        , 0.89167565, 0.05737644, 0.        ,\n",
       "        0.1275051 , 0.        , 0.        , 0.        , 0.4685573 ],\n",
       "       [0.        , 0.        , 0.        , 0.39566204, 0.        ,\n",
       "        0.        , 0.62646705, 0.12898347, 0.02942246, 0.        ],\n",
       "       [0.        , 0.84200877, 0.26646206, 0.        , 0.        ,\n",
       "        0.        , 0.23111221, 0.        , 0.        , 0.09374874],\n",
       "       [0.        , 0.        , 0.        , 0.5096388 , 0.694407  ,\n",
       "        0.        , 0.        , 0.9894679 , 0.        , 0.67805064],\n",
       "       [0.        , 0.5960935 , 0.3876133 , 0.68256104, 0.        ,\n",
       "        0.        , 0.        , 0.22186916, 0.        , 0.        ],\n",
       "       [0.        , 0.14635102, 0.        , 0.23753619, 0.        ,\n",
       "        0.        , 0.4664514 , 0.        , 0.        , 0.6143749 ],\n",
       "       [0.2653583 , 0.        , 0.        , 0.25248948, 0.        ,\n",
       "        0.        , 0.06576658, 0.9888273 , 0.        , 0.        ],\n",
       "       [0.        , 0.        , 0.        , 0.4100118 , 0.5066825 ,\n",
       "        0.9791499 , 0.        , 0.9839119 , 0.        , 0.        ],\n",
       "       [0.2264393 , 0.95835906, 0.        , 0.8496141 , 0.        ,\n",
       "        0.        , 0.        , 0.6683453 , 0.        , 0.        ],\n",
       "       [0.10093832, 0.        , 0.        , 0.        , 0.6630357 ,\n",
       "        0.19981535, 0.        , 0.        , 0.        , 0.60982734],\n",
       "       [0.        , 0.65042835, 0.        , 0.        , 0.29258844,\n",
       "        0.        , 0.        , 0.7358039 , 0.        , 0.17556284],\n",
       "       [0.        , 0.        , 0.17079917, 0.13851656, 0.9781894 ,\n",
       "        0.0680179 , 0.        , 0.        , 0.        , 0.        ],\n",
       "       [0.        , 0.        , 0.        , 0.        , 0.3358856 ,\n",
       "        0.79898566, 0.48625088, 0.        , 0.        , 0.5448863 ]],\n",
       "      dtype=float32)"
      ]
     },
     "execution_count": 264,
     "metadata": {},
     "output_type": "execute_result"
    }
   ],
   "source": [
    "b"
   ]
  },
  {
   "cell_type": "code",
   "execution_count": 265,
   "id": "48d63640",
   "metadata": {},
   "outputs": [],
   "source": [
    "c=np.zeros(a.T.shape)\n",
    "at = a.T\n",
    "for row in range(at.shape[0]):\n",
    "    for col in range(at.shape[1]):\n",
    "        c[row][col] = at[row][col]"
   ]
  },
  {
   "cell_type": "code",
   "execution_count": 266,
   "id": "e9fc7351",
   "metadata": {},
   "outputs": [
    {
     "data": {
      "text/plain": [
       "array([[0.82272685, 0.57626116, 0.        , ..., 0.8716895 , 0.        ,\n",
       "        0.        ],\n",
       "       [0.        , 0.2289813 , 0.48130327, ..., 0.10489579, 0.        ,\n",
       "        0.6832084 ],\n",
       "       [0.        , 0.16428949, 0.        , ..., 0.        , 0.        ,\n",
       "        0.9385753 ],\n",
       "       ...,\n",
       "       [0.22595333, 0.27008578, 0.        , ..., 0.        , 0.5132175 ,\n",
       "        0.02876937],\n",
       "       [0.        , 0.        , 0.12290299, ..., 0.39542586, 0.9358725 ,\n",
       "        0.        ],\n",
       "       [0.        , 0.9652075 , 0.        , ..., 0.        , 0.37984058,\n",
       "        0.        ]], dtype=float32)"
      ]
     },
     "execution_count": 266,
     "metadata": {},
     "output_type": "execute_result"
    }
   ],
   "source": [
    "at"
   ]
  },
  {
   "cell_type": "code",
   "execution_count": 267,
   "id": "4ab3d6d9",
   "metadata": {},
   "outputs": [
    {
     "data": {
      "text/plain": [
       "array([[0.82272685, 0.57626116, 0.        , ..., 0.8716895 , 0.        ,\n",
       "        0.        ],\n",
       "       [0.        , 0.2289813 , 0.48130327, ..., 0.10489579, 0.        ,\n",
       "        0.68320841],\n",
       "       [0.        , 0.16428949, 0.        , ..., 0.        , 0.        ,\n",
       "        0.93857533],\n",
       "       ...,\n",
       "       [0.22595333, 0.27008578, 0.        , ..., 0.        , 0.51321751,\n",
       "        0.02876937],\n",
       "       [0.        , 0.        , 0.12290299, ..., 0.39542586, 0.9358725 ,\n",
       "        0.        ],\n",
       "       [0.        , 0.96520752, 0.        , ..., 0.        , 0.37984058,\n",
       "        0.        ]])"
      ]
     },
     "execution_count": 267,
     "metadata": {},
     "output_type": "execute_result"
    }
   ],
   "source": [
    "c"
   ]
  },
  {
   "cell_type": "markdown",
   "id": "f20ac323",
   "metadata": {},
   "source": [
    "a_buf = cl.Buffer(ctx, mf.READ_WRITE | mf.COPY_HOST_PTR, hostbuf=c.astype(np.float32))\n",
    "b_buf = cl.Buffer(ctx, mf.READ_WRITE | mf.COPY_HOST_PTR, hostbuf=b)\n",
    "x_cp_buf = cl.Buffer(ctx, mf.WRITE_ONLY, topk*topk*4)\n",
    "x_idx_buf = cl.Buffer(ctx, mf.WRITE_ONLY, topk*4)\n",
    "y_idx_buf = cl.Buffer(ctx, mf.WRITE_ONLY, topk*4)\n",
    "\n",
    "prg = cl.Program(ctx, \"\"\"\n",
    "    // sorts x and y in ascending order and returns sorted indices\n",
    "    __kernel void genwupdate3(__global  float* x,     // INPUT MATRIX DATA\n",
    "                             __global  float* y,    // INPUT\n",
    "                             uint topk,\n",
    "                             uint msize,\n",
    "                             __global  float* xout,    // INPUT\n",
    "                             __global  uint* xoutidx,    // INPUT\n",
    "                             __global  uint* youtidx    // INPUT\n",
    "                            ) { // LOCAL SHARED BUFFER\n",
    "      uint gid = get_global_id(0);\n",
    "      uint n = get_global_size(0);\n",
    "      uint bs = get_global_size(1);\n",
    "      uint gid2 = get_global_id(1);\n",
    "\n",
    "\n",
    "\n",
    "      uint idx = n*gid2+gid;\n",
    "      float valx = x[idx];\n",
    "      uint posx = 0;\n",
    "      for (uint i = 0; i < n; i++) {\n",
    "        uint idx2 = n*gid2+i;\n",
    "        float tempval = x[idx2];\n",
    "        bool larger = tempval > valx;\n",
    "        posx += (larger)?1:0;\n",
    "      }\n",
    "      \n",
    "      uint idxy = n*gid2+gid;\n",
    "      float valy = y[idx];\n",
    "      uint posy = 0;\n",
    "      for (uint i = 0; i < n; i++) {\n",
    "        uint idx2 = n*gid2+i;\n",
    "        float tempval2 = y[idx2];\n",
    "        bool larger2 = tempval2 > valy;\n",
    "        posy += (larger2)?1:0;\n",
    "      }\n",
    "      \n",
    "      if (posx < topk) {\n",
    "        xoutidx[posx+topk*gid2] = idx;\n",
    "      }\n",
    "      if (posy < topk) {\n",
    "        youtidx[posy+topk*gid2] = idxy;\n",
    "      }\n",
    "      return;\n",
    "      if (gid < topk) {\n",
    "        for (uint j=0; j<topk; j++) {\n",
    "          float res = x[xoutidx[gid+topk*gid2]+gid2*msize] * y[youtidx[j+topk*gid2]+gid2*msize];\n",
    "          printf(\"\\\\nJ:%i  gid:(%i,%i)\", j, gid, gid2);\n",
    "          printf(\"\\\\nRES:%.2f - %i - %i -  %.2f - %.2f\",res, xoutidx[gid+topk*gid2], youtidx[j+topk*gid2], x[xoutidx[gid+topk*gid2]+gid2*n], y[youtidx[j+topk*gid2]+gid2*n]);\n",
    "          //barrier(CLK_GLOBAL_MEM_FENCE);\n",
    "          xout[gid2*topk*topk+j*topk+gid] = res;\n",
    "        }\n",
    "      }\n",
    "    }\"\"\").build()"
   ]
  },
  {
   "cell_type": "code",
   "execution_count": 268,
   "id": "3eb221f6",
   "metadata": {},
   "outputs": [],
   "source": [
    "a_buf = cl.Buffer(ctx, mf.READ_WRITE | mf.COPY_HOST_PTR, hostbuf=c.astype(np.float32))\n",
    "b_buf = cl.Buffer(ctx, mf.READ_WRITE | mf.COPY_HOST_PTR, hostbuf=b)\n",
    "x_sum_buf = cl.Buffer(ctx, mf.WRITE_ONLY, a.shape[0]*4)\n",
    "y_sum_buf = cl.Buffer(ctx, mf.WRITE_ONLY, b.shape[1]*4)\n",
    "x_cp_buf = cl.Buffer(ctx, mf.WRITE_ONLY, topk*topk*4)\n",
    "x_idx_buf = cl.Buffer(ctx, mf.WRITE_ONLY, topk*4)\n",
    "y_idx_buf = cl.Buffer(ctx, mf.WRITE_ONLY, topk*4)\n",
    "\n",
    "prg = cl.Program(ctx, \"\"\"\n",
    "    // sorts x and y in ascending order and returns sorted indices\n",
    "    __kernel void genwupdate3(__global  float* x,     // INPUT MATRIX DATA\n",
    "                              __global  float* y,    // INPUT\n",
    "                              __global  float* xsum,    // INPUT\n",
    "                              __global  float* ysum,    // INPUT\n",
    "                              uint isize,\n",
    "                              uint msize,\n",
    "                              uint osize,\n",
    "                              uint topk,\n",
    "                              __global  float* xout,\n",
    "                              __global  uint* xoutidx,   \n",
    "                              __global  uint* youtidx    \n",
    "                              ) { \n",
    "      uint gid = get_global_id(0);\n",
    "      \n",
    "      // get for a: sum axis0  b: sum axis1 then get topk\n",
    "      ///////////////////////////////////////////////////\n",
    "      if (gid < isize) {\n",
    "        xsum[gid] = 0;\n",
    "        for (uint i=0; i<msize; i++) {\n",
    "          float val = x[i*isize+gid];\n",
    "          //if (gid == 0) {\n",
    "          //  printf(\"\\\\nADD VALx: %.2f - %i\", val, i*msize+gid);\n",
    "          //}\n",
    "          xsum[gid] += val;\n",
    "        }\n",
    "        \n",
    "        float valx = xsum[gid];\n",
    "        uint posx = 0;\n",
    "        for (uint i = 0; i < isize; i++) {\n",
    "          float tempval = xsum[i];\n",
    "          bool larger = tempval > valx;\n",
    "          posx += (larger)?1:0;\n",
    "        }\n",
    "        if (posx < topk) {\n",
    "          xoutidx[posx] = gid;\n",
    "        }\n",
    "      }\n",
    "      \n",
    "      if (gid < osize) {\n",
    "        ysum[gid] = 0;\n",
    "        for (uint i=0; i<msize; i++) {\n",
    "          float val = y[i*osize+gid];\n",
    "          //if (gid == 0) {\n",
    "          //  printf(\"\\\\nADD VALx: %.2f - %i\", val, gid*osize+i);\n",
    "          //}\n",
    "          ysum[gid] += val;\n",
    "        }\n",
    "        \n",
    "        float valy = ysum[gid];\n",
    "        uint posy = 0;\n",
    "        for (uint i = 0; i < osize; i++) {\n",
    "          float tempval = ysum[i];\n",
    "          bool larger = tempval > valy;\n",
    "          posy += (larger)?1:0;\n",
    "        }\n",
    "      \n",
    "        if (posy < topk) {\n",
    "          youtidx[posy] = gid;\n",
    "        }\n",
    "      }\n",
    "      \n",
    "      if (gid < topk) {\n",
    "        float valx = xoutidx[gid];\n",
    "        uint posx = 0;\n",
    "        for (uint i = 0; i < topk; i++) {\n",
    "          float tempval = xoutidx[i];\n",
    "          bool larger = tempval < valx;\n",
    "          posx += (larger)?1:0;\n",
    "        }\n",
    "        xoutidx[posx] = valx;\n",
    "        \n",
    "        float valy = youtidx[gid];\n",
    "        uint posy = 0;\n",
    "        for (uint i = 0; i < topk; i++) {\n",
    "          float tempval = youtidx[i];\n",
    "          bool larger = tempval < valy;\n",
    "          posy += (larger)?1:0;\n",
    "        }\n",
    "        youtidx[posy] = valy;\n",
    "      }\n",
    "      \n",
    "      // only calc matrix multiplications for used grads\n",
    "      ///////////////////////////////////////////////////\n",
    "      if (gid < topk) {\n",
    "        uint idxx = xoutidx[gid];\n",
    "        for (uint j=0; j<topk; j++) {\n",
    "          uint idxy = youtidx[j];\n",
    "          xout[j*topk+gid] = 0;\n",
    "          for (uint k=0; k<msize; k++) {\n",
    "            uint xidx2 = isize*k+idxx;\n",
    "            uint yidx2 = osize*k+idxy;\n",
    "            xout[j*topk+gid] += x[xidx2] * y[yidx2];\n",
    "            //if (gid == 0 && j == 1)\n",
    "            //  printf(\"\\\\n ADD VAL:%.2f,%.2f - (%i,%i) - (%i,%i,%i)\", x[xidx2], y[yidx2], idxx, idxy, gid, j, k);\n",
    "          }\n",
    "        }\n",
    "      }\n",
    "    }\"\"\").build()"
   ]
  },
  {
   "cell_type": "code",
   "execution_count": 269,
   "id": "5e0667f0",
   "metadata": {},
   "outputs": [
    {
     "data": {
      "text/plain": [
       "((32, 64), (64, 10))"
      ]
     },
     "execution_count": 269,
     "metadata": {},
     "output_type": "execute_result"
    }
   ],
   "source": [
    "a.shape, b.shape"
   ]
  },
  {
   "cell_type": "code",
   "execution_count": 270,
   "id": "75e3ecd7",
   "metadata": {},
   "outputs": [],
   "source": [
    "rows = a.shape[0]\n",
    "msize = a.shape[1]"
   ]
  },
  {
   "cell_type": "code",
   "execution_count": 271,
   "id": "67fede53",
   "metadata": {},
   "outputs": [],
   "source": [
    "cols = b.shape[1]"
   ]
  },
  {
   "cell_type": "code",
   "execution_count": 272,
   "id": "68f4e2f7",
   "metadata": {},
   "outputs": [],
   "source": [
    "mult = a.dot(b)"
   ]
  },
  {
   "cell_type": "code",
   "execution_count": 273,
   "id": "bbcc1bea",
   "metadata": {},
   "outputs": [],
   "source": [
    "mult = mult.astype(np.float32)"
   ]
  },
  {
   "cell_type": "code",
   "execution_count": 274,
   "id": "58a7c0c8",
   "metadata": {},
   "outputs": [
    {
     "data": {
      "text/plain": [
       "<pyopencl._cl.NannyEvent at 0x7ff15428a5e0>"
      ]
     },
     "execution_count": 274,
     "metadata": {},
     "output_type": "execute_result"
    }
   ],
   "source": [
    "res_buf = cl.Buffer(ctx, mf.READ_WRITE, np.prod([rows,b.shape[1]])*4)\n",
    "knl = prg.genwupdate3  # Use this Kernel object for repeated calls\n",
    "evt = knl(queue, [max(rows,cols)], None, a_buf, b_buf, x_sum_buf, y_sum_buf, np.uint32(rows), np.uint32(msize),np.uint32(cols), np.uint32(topk), x_cp_buf, x_idx_buf, y_idx_buf)\n",
    "\n",
    "resxsum = np.zeros(a.shape[0]).astype(np.float32)\n",
    "resysum = np.zeros(b.shape[1]).astype(np.float32)\n",
    "resx = np.zeros(topk*topk).astype(np.float32)\n",
    "resxidx = np.zeros(topk).astype(np.uint32)\n",
    "resyidx = np.zeros(topk).astype(np.uint32)\n",
    "\n",
    "cl.enqueue_copy(queue, resxsum, x_sum_buf)\n",
    "cl.enqueue_copy(queue, resysum, y_sum_buf)\n",
    "cl.enqueue_copy(queue, resx, x_cp_buf)\n",
    "cl.enqueue_copy(queue, resxidx, x_idx_buf)\n",
    "cl.enqueue_copy(queue, resyidx, y_idx_buf)"
   ]
  },
  {
   "cell_type": "code",
   "execution_count": 275,
   "id": "5dab05c7",
   "metadata": {},
   "outputs": [
    {
     "data": {
      "text/plain": [
       "array([[2.5565495, 2.9877534, 3.8442254, 2.4307942, 2.5962925],\n",
       "       [3.714852 , 3.1018186, 5.2590375, 3.4558418, 1.9194646],\n",
       "       [2.7812793, 3.6487942, 2.5204127, 1.5231056, 5.310211 ],\n",
       "       [3.2777538, 2.6615262, 2.089722 , 3.3150718, 3.0769377],\n",
       "       [2.2969038, 3.3801854, 2.0366   , 3.5051725, 1.7588413]],\n",
       "      dtype=float32)"
      ]
     },
     "execution_count": 275,
     "metadata": {},
     "output_type": "execute_result"
    }
   ],
   "source": [
    "resx.reshape(topk,topk)"
   ]
  },
  {
   "cell_type": "code",
   "execution_count": 276,
   "id": "5e267f71",
   "metadata": {},
   "outputs": [
    {
     "data": {
      "text/plain": [
       "array([12.76748 , 14.331857, 12.688714, 12.07191 , 13.300738, 12.708889,\n",
       "       12.793668, 11.246282, 14.091072, 15.491286, 11.640156, 11.718621,\n",
       "       12.305711, 13.083982, 13.09949 , 15.235169, 13.033628, 11.034429,\n",
       "       12.793446, 11.830815, 13.510073, 11.045941, 11.79129 , 14.116871,\n",
       "       11.174588, 13.510384, 12.001365, 13.343121, 12.215005, 11.441105,\n",
       "       13.634347, 12.86991 ], dtype=float32)"
      ]
     },
     "execution_count": 276,
     "metadata": {},
     "output_type": "execute_result"
    }
   ],
   "source": [
    "resxsum"
   ]
  },
  {
   "cell_type": "code",
   "execution_count": 277,
   "id": "e374bd1f",
   "metadata": {},
   "outputs": [
    {
     "data": {
      "text/plain": [
       "array([ 8.32111 , 12.586111, 12.924564, 12.377018, 14.048852, 11.051554,\n",
       "       14.963384, 14.75957 ,  7.215166, 10.108348], dtype=float32)"
      ]
     },
     "execution_count": 277,
     "metadata": {},
     "output_type": "execute_result"
    }
   ],
   "source": [
    "resysum"
   ]
  },
  {
   "cell_type": "code",
   "execution_count": 278,
   "id": "b254f74f",
   "metadata": {},
   "outputs": [
    {
     "data": {
      "text/plain": [
       "array([12.76748  , 14.331858 , 12.688716 , 12.07191  , 13.300737 ,\n",
       "       12.708889 , 12.793668 , 11.246283 , 14.09107  , 15.491286 ,\n",
       "       11.640156 , 11.718621 , 12.30571  , 13.0839815, 13.099489 ,\n",
       "       15.23517  , 13.03363  , 11.0344305, 12.7934475, 11.830814 ,\n",
       "       13.510073 , 11.045944 , 11.791291 , 14.11687  , 11.174588 ,\n",
       "       13.510384 , 12.001363 , 13.343121 , 12.215002 , 11.441103 ,\n",
       "       13.634346 , 12.86991  ], dtype=float32)"
      ]
     },
     "execution_count": 278,
     "metadata": {},
     "output_type": "execute_result"
    }
   ],
   "source": [
    "a.sum(axis=1)"
   ]
  },
  {
   "cell_type": "code",
   "execution_count": 279,
   "id": "e264d60f",
   "metadata": {},
   "outputs": [
    {
     "data": {
      "text/plain": [
       "array([ 8.32111 , 12.586111, 12.924564, 12.377018, 14.048852, 11.051554,\n",
       "       14.963384, 14.75957 ,  7.215166, 10.108348], dtype=float32)"
      ]
     },
     "execution_count": 279,
     "metadata": {},
     "output_type": "execute_result"
    }
   ],
   "source": [
    "b.sum(axis=0)"
   ]
  },
  {
   "cell_type": "code",
   "execution_count": 280,
   "id": "529cc660",
   "metadata": {},
   "outputs": [
    {
     "data": {
      "text/plain": [
       "array([[2.0588999 , 1.8681664 , 4.811817  , 2.2529387 , 2.1096544 ,\n",
       "        1.3379606 , 2.9000037 , 2.0491414 , 2.5897803 , 1.5031604 ],\n",
       "       [2.732146  , 2.5565495 , 3.714852  , 1.967403  , 2.7812793 ,\n",
       "        3.9070148 , 3.2777538 , 2.2969038 , 1.9229925 , 2.6556396 ],\n",
       "       [1.928745  , 3.1600957 , 2.6502829 , 1.8178726 , 3.2470448 ,\n",
       "        2.285428  , 2.6365926 , 2.5166864 , 1.070901  , 2.0605705 ],\n",
       "       [1.063185  , 4.1737986 , 2.2277255 , 1.2515675 , 4.1827664 ,\n",
       "        1.2915825 , 1.3805095 , 3.4198837 , 1.0256768 , 2.7755067 ],\n",
       "       [1.1833991 , 1.8557596 , 3.0534244 , 1.0722461 , 3.4905617 ,\n",
       "        1.643646  , 3.453313  , 3.808668  , 0.65044206, 2.0563726 ],\n",
       "       [1.0461621 , 3.5566838 , 3.2101297 , 1.572406  , 2.2809083 ,\n",
       "        1.8500901 , 1.3386623 , 4.39698   , 1.5621432 , 1.7725785 ],\n",
       "       [1.5166444 , 2.5048141 , 1.3417709 , 3.5234869 , 2.7652483 ,\n",
       "        1.1395355 , 2.25748   , 4.705172  , 2.2430854 , 1.8194562 ],\n",
       "       [1.6907904 , 2.3283677 , 1.7894993 , 2.1847265 , 2.8551002 ,\n",
       "        0.79378396, 1.7964936 , 3.5471232 , 1.9625643 , 1.3657154 ],\n",
       "       [1.2141374 , 2.9877534 , 3.1018186 , 3.629979  , 3.6487942 ,\n",
       "        1.808532  , 2.6615262 , 3.3801854 , 2.1941547 , 2.0062847 ],\n",
       "       [2.0491679 , 3.8442254 , 5.2590375 , 2.6086452 , 2.5204127 ,\n",
       "        2.845815  , 2.089722  , 2.0366    , 1.8493687 , 2.002032  ],\n",
       "       [1.4538853 , 3.52397   , 3.426971  , 0.94891644, 3.4088016 ,\n",
       "        1.826241  , 2.6029367 , 2.0418024 , 2.1847632 , 0.74823964],\n",
       "       [2.1386282 , 2.708146  , 1.742439  , 2.366699  , 2.55557   ,\n",
       "        1.021245  , 2.8354404 , 3.1261184 , 1.642767  , 1.4917253 ],\n",
       "       [2.2865992 , 3.9609175 , 3.3584628 , 2.9336588 , 2.459155  ,\n",
       "        2.2523775 , 2.647436  , 0.89587307, 2.0110953 , 2.1063092 ],\n",
       "       [1.9966788 , 2.9262302 , 4.8778872 , 1.2208712 , 3.4192896 ,\n",
       "        2.3487628 , 2.9560015 , 1.5107096 , 1.5358572 , 1.5315988 ],\n",
       "       [0.48399195, 2.1673245 , 2.2968588 , 2.7774973 , 2.5966098 ,\n",
       "        3.4832177 , 2.690391  , 4.0917354 , 0.23865944, 2.9819653 ],\n",
       "       [2.0954764 , 2.4307942 , 3.4558418 , 2.9896178 , 1.5231056 ,\n",
       "        3.422842  , 3.3150718 , 3.5051725 , 2.1653447 , 3.1134186 ],\n",
       "       [1.5846765 , 2.661023  , 2.4769669 , 3.470964  , 1.4431835 ,\n",
       "        2.3999262 , 3.9011345 , 3.248538  , 1.4247626 , 1.2602935 ],\n",
       "       [0.49207467, 2.325397  , 2.2815886 , 2.2696066 , 3.3333156 ,\n",
       "        2.4349878 , 2.0514407 , 3.2246497 , 1.6171042 , 1.6073767 ],\n",
       "       [2.5375338 , 2.4817715 , 2.6368468 , 2.0569093 , 4.3929462 ,\n",
       "        1.4862403 , 3.4939742 , 2.2332757 , 1.7737362 , 1.7618244 ],\n",
       "       [2.0678236 , 1.8836694 , 1.3364539 , 1.7425246 , 2.3898618 ,\n",
       "        1.1566195 , 2.628559  , 3.6502156 , 2.121294  , 1.3199686 ],\n",
       "       [1.8444016 , 2.2461612 , 3.215194  , 3.8432117 , 2.2398164 ,\n",
       "        1.8269355 , 4.414732  , 3.723146  , 0.50411344, 2.1435022 ],\n",
       "       [2.6537714 , 1.1732535 , 3.0079815 , 2.5904036 , 3.0474715 ,\n",
       "        1.8404907 , 2.6261342 , 1.1304994 , 1.8776394 , 0.85143405],\n",
       "       [0.6337883 , 3.3086834 , 1.4530784 , 2.515975  , 3.5047786 ,\n",
       "        1.1553439 , 2.8253915 , 3.52668   , 1.043268  , 2.3298826 ],\n",
       "       [1.3287122 , 2.5962925 , 1.9194646 , 1.8967655 , 5.310211  ,\n",
       "        2.868525  , 3.0769377 , 1.7588413 , 0.40501967, 2.9207122 ],\n",
       "       [0.84001315, 2.0994346 , 2.1460192 , 1.5992    , 2.236392  ,\n",
       "        1.5488653 , 3.224863  , 1.7908863 , 0.7113455 , 2.6308084 ],\n",
       "       [0.9592351 , 2.4799027 , 2.593933  , 3.6836722 , 2.6314456 ,\n",
       "        2.4646401 , 3.572547  , 3.2011003 , 1.1519556 , 1.662165  ],\n",
       "       [0.8192115 , 1.8272312 , 1.7956815 , 1.8296847 , 2.9964643 ,\n",
       "        2.2758198 , 2.3479474 , 2.8243022 , 1.1362125 , 2.8853436 ],\n",
       "       [3.6204023 , 1.9968116 , 1.7490085 , 2.9469256 , 3.12177   ,\n",
       "        2.235736  , 5.2850986 , 1.5726624 , 1.4582067 , 1.2513807 ],\n",
       "       [1.0327702 , 2.8972735 , 2.6707854 , 1.6554506 , 3.8221254 ,\n",
       "        2.0219557 , 2.4419675 , 3.9295774 , 1.2823715 , 1.2512529 ],\n",
       "       [1.9287269 , 1.5045323 , 3.3143744 , 3.7100654 , 3.0415392 ,\n",
       "        1.8443446 , 2.0636263 , 2.3276868 , 1.2617    , 1.081305  ],\n",
       "       [1.5923332 , 3.8162732 , 3.0520544 , 0.9159544 , 4.5526114 ,\n",
       "        1.9873202 , 2.4606779 , 2.2672033 , 0.9068908 , 1.9620786 ],\n",
       "       [1.0044551 , 3.2946215 , 1.9445477 , 3.2131855 , 3.7743635 ,\n",
       "        2.93666   , 3.0328484 , 2.7435503 , 1.2155869 , 0.9583244 ]],\n",
       "      dtype=float32)"
      ]
     },
     "execution_count": 280,
     "metadata": {},
     "output_type": "execute_result"
    }
   ],
   "source": [
    "mult"
   ]
  },
  {
   "cell_type": "code",
   "execution_count": 281,
   "id": "ee933d58",
   "metadata": {},
   "outputs": [
    {
     "data": {
      "text/plain": [
       "array([ 1,  8,  9, 15, 23], dtype=uint32)"
      ]
     },
     "execution_count": 281,
     "metadata": {},
     "output_type": "execute_result"
    }
   ],
   "source": [
    "resxidx"
   ]
  },
  {
   "cell_type": "code",
   "execution_count": 282,
   "id": "23535acb",
   "metadata": {},
   "outputs": [
    {
     "data": {
      "text/plain": [
       "array([1, 2, 4, 6, 7], dtype=uint32)"
      ]
     },
     "execution_count": 282,
     "metadata": {},
     "output_type": "execute_result"
    }
   ],
   "source": [
    "resyidx"
   ]
  },
  {
   "cell_type": "code",
   "execution_count": 283,
   "id": "475e967a",
   "metadata": {},
   "outputs": [
    {
     "data": {
      "text/plain": [
       "(8, 8)"
      ]
     },
     "execution_count": 283,
     "metadata": {},
     "output_type": "execute_result"
    }
   ],
   "source": [
    "idx = 1\n",
    "xy0 = x[idx].reshape(dim,1)*y[idx]\n",
    "xy0.shape"
   ]
  },
  {
   "cell_type": "code",
   "execution_count": 284,
   "id": "281c094b",
   "metadata": {},
   "outputs": [
    {
     "data": {
      "text/plain": [
       "0.7881919"
      ]
     },
     "execution_count": 284,
     "metadata": {},
     "output_type": "execute_result"
    }
   ],
   "source": [
    "xy0[0][0]"
   ]
  },
  {
   "cell_type": "markdown",
   "id": "510bb101",
   "metadata": {},
   "source": [
    "## Weight update kernel new2 (sparse ouput)"
   ]
  },
  {
   "cell_type": "code",
   "execution_count": 285,
   "id": "9097d4e8",
   "metadata": {},
   "outputs": [],
   "source": [
    "c=np.zeros(a.T.shape)\n",
    "at = a.T\n",
    "for row in range(at.shape[0]):\n",
    "    for col in range(at.shape[1]):\n",
    "        c[row][col] = at[row][col]"
   ]
  },
  {
   "cell_type": "code",
   "execution_count": 286,
   "id": "c6236918",
   "metadata": {},
   "outputs": [],
   "source": [
    "a_buf = cl.Buffer(ctx, mf.READ_WRITE | mf.COPY_HOST_PTR, hostbuf=c.astype(np.float32))\n",
    "b_buf = cl.Buffer(ctx, mf.READ_WRITE | mf.COPY_HOST_PTR, hostbuf=b)\n",
    "x_sum_buf = cl.Buffer(ctx, mf.WRITE_ONLY, a.shape[0]*4)\n",
    "y_sum_buf = cl.Buffer(ctx, mf.WRITE_ONLY, b.shape[1]*4)\n",
    "x_idx_buf = cl.Buffer(ctx, mf.WRITE_ONLY, topkx*4)\n",
    "y_idx_buf = cl.Buffer(ctx, mf.WRITE_ONLY, topky*4)\n",
    "sdata_buf = cl.Buffer(ctx, mf.READ_WRITE, a.shape[0]*topkx*4)\n",
    "sidxs_buf = cl.Buffer(ctx, mf.READ_WRITE, a.shape[0]*topkx*4)\n",
    "snnzs_buf = cl.Buffer(ctx, mf.READ_WRITE, a.shape[0]*4)\n",
    "sdatat_buf = cl.Buffer(ctx, mf.READ_WRITE, b.shape[1]*topky*4)\n",
    "sidxst_buf = cl.Buffer(ctx, mf.READ_WRITE, b.shape[1]*topky*4)\n",
    "snnzst_buf = cl.Buffer(ctx, mf.READ_WRITE, b.shape[1]*4)\n",
    "\n",
    "prg = cl.Program(ctx, \"\"\"\n",
    "    // sorts x and y in ascending order and returns sorted indices\n",
    "    __kernel void genwupdate4(__global  float* x,     // INPUT MATRIX DATA\n",
    "                              __global  float* y,    // INPUT\n",
    "                              __global  float* xsum,    // INPUT\n",
    "                              __global  float* ysum,    // INPUT\n",
    "                              uint isize,\n",
    "                              uint msize,\n",
    "                              uint osize,\n",
    "                              uint topkx,\n",
    "                              uint topky,\n",
    "                              __global  uint*  xoutidx,\n",
    "                              __global  uint*  youtidx,\n",
    "                              __global  float* matData,     // OUTPUT MATRIX DATA\n",
    "                              __global  uint*  colIdx,\n",
    "                              __global  uint*  rowNnz,\n",
    "                              __global  float* matDatat,    // OUTPUT MATRIX DATA\n",
    "                              __global  uint*  colIdxt,\n",
    "                              __global  uint*  rowNnzt\n",
    "                              ) {\n",
    "      uint gid = get_global_id(0);\n",
    "\n",
    "      // get for a: sum axis0  b: sum axis1 then get topk\n",
    "      ///////////////////////////////////////////////////\n",
    "      if (gid < isize) {\n",
    "        xsum[gid] = 0;\n",
    "        for (uint i=0; i<msize; i++) {\n",
    "          float val = x[i*isize+gid];\n",
    "          //if (gid == 0) {\n",
    "          //  printf(\"\\\\nADD VALx: %.2f - %i\", val, i*msize+gid);\n",
    "          //}\n",
    "          xsum[gid] += val;\n",
    "        }\n",
    "\n",
    "        float valx = xsum[gid];\n",
    "        uint posx = 0;\n",
    "        for (uint i = 0; i < isize; i++) {\n",
    "          float tempval = fabs(xsum[i]);\n",
    "          bool larger = tempval > fabs(valx);\n",
    "          posx += (larger)?1:0;\n",
    "        }\n",
    "        if (posx < topky) {\n",
    "          youtidx[posx] = gid;\n",
    "        }\n",
    "      }\n",
    "\n",
    "      if (gid < osize) {\n",
    "        ysum[gid] = 0;\n",
    "        for (uint i=0; i<msize; i++) {\n",
    "          float val = y[i*osize+gid];\n",
    "          //if (gid == 0) {\n",
    "          //  printf(\"\\\\nADD VALx: %.2f - %i\", val, gid*osize+i);\n",
    "          //}\n",
    "          ysum[gid] += val;\n",
    "        }\n",
    "\n",
    "        float valy = ysum[gid];\n",
    "        uint posy = 0;\n",
    "        for (uint i = 0; i < osize; i++) {\n",
    "          float tempval = fabs(ysum[i]);\n",
    "          bool larger = tempval > fabs(valy);\n",
    "          posy += (larger)?1:0;\n",
    "        }\n",
    "\n",
    "        if (posy < topkx) {\n",
    "          xoutidx[posy] = gid;\n",
    "        }\n",
    "      }\n",
    "\n",
    "      if (gid < topkx) {\n",
    "        float valx = xoutidx[gid];\n",
    "        uint posx = 0;\n",
    "        for (uint i = 0; i < topkx; i++) {\n",
    "          float tempval = xoutidx[i];\n",
    "          bool larger = tempval < valx;\n",
    "          posx += (larger)?1:0;\n",
    "        }\n",
    "        xoutidx[gid] = gid;\n",
    "      }\n",
    "\n",
    "      if (gid < topky) {\n",
    "        float valy = youtidx[gid];\n",
    "        uint posy = 0;\n",
    "        for (uint i = 0; i < topky; i++) {\n",
    "          float tempval = youtidx[i];\n",
    "          bool larger = tempval < valy;\n",
    "          posy += (larger)?1:0;\n",
    "        }\n",
    "        youtidx[gid] = gid;\n",
    "      }\n",
    "\n",
    "      // only calc matrix multiplications for used grads\n",
    "      ///////////////////////////////////////////////////\n",
    "      if (gid < isize) {\n",
    "        for (uint i=0; i<topkx; i++) {\n",
    "          matData[gid*topkx+i] = 0;\n",
    "          colIdx[gid*topkx+i] = 0;\n",
    "        }\n",
    "        rowNnz[gid] = 0;\n",
    "      }\n",
    "      if (gid < osize) {\n",
    "        for (uint i=0; i<topky; i++) {\n",
    "          matDatat[gid*topky+i] = 0;\n",
    "          colIdxt[gid*topky+i] = 0;\n",
    "        }\n",
    "        rowNnzt[gid] = 0;\n",
    "      }\n",
    "\n",
    "\n",
    "      if (gid < topkx) {\n",
    "        uint idxx = xoutidx[gid];\n",
    "        for (uint j=0; j<topky; j++) {\n",
    "          uint idxy = youtidx[j];\n",
    "          //printf(\"\\\\nIDXX:%i  IDXY:%i\", idxx, idxy);\n",
    "          for (uint k=0; k<msize; k++) {\n",
    "            uint xidx2 = isize*k+idxy;\n",
    "            uint yidx2 = osize*k+idxx;\n",
    "            uint colidx = idxy;\n",
    "            matDatat[idxx*topky+j] += x[xidx2] * y[yidx2];\n",
    "            colIdxt[idxx*topky+j] = idxy;\n",
    "            if (gid == 0)\n",
    "              printf(\"\\\\n ADD VAL:%.2f,%.2f - (%i,%i) - (%i,%i,%i)\", x[xidx2], y[yidx2], idxx, idxy, gid, j, k);\n",
    "          }\n",
    "          rowNnzt[idxx] += 1;\n",
    "        }\n",
    "      }\n",
    "      if (gid < topky) {\n",
    "        uint idxx = youtidx[gid];\n",
    "        for (uint j=0; j<topkx; j++) {\n",
    "          uint idxy = xoutidx[j];\n",
    "          //printf(\"\\\\nIDXX:%i  IDXY:%i\", idxx, idxy);\n",
    "          for (uint k=0; k<msize; k++) {\n",
    "            uint xidx2 = isize*k+idxx;\n",
    "            uint yidx2 = osize*k+idxy;\n",
    "            uint colidx = idxy;\n",
    "            matData[idxx*topkx+j] += x[xidx2] * y[yidx2];\n",
    "            colIdx[idxx*topkx+j] = idxy;\n",
    "            if (gid == 0)\n",
    "              printf(\"\\\\n ADD VAL:%.2f,%.2f - (%i,%i) - (%i,%i,%i)\", x[xidx2], y[yidx2], idxx, idxy, gid, j, k);\n",
    "          }\n",
    "          rowNnz[idxx] += 1;\n",
    "        }\n",
    "      }\n",
    "    }\"\"\").build()"
   ]
  },
  {
   "cell_type": "code",
   "execution_count": 287,
   "id": "2161871c",
   "metadata": {},
   "outputs": [
    {
     "data": {
      "text/plain": [
       "((32, 64), (64, 10))"
      ]
     },
     "execution_count": 287,
     "metadata": {},
     "output_type": "execute_result"
    }
   ],
   "source": [
    "a.shape, b.shape"
   ]
  },
  {
   "cell_type": "code",
   "execution_count": 288,
   "id": "05f25e30",
   "metadata": {},
   "outputs": [],
   "source": [
    "rows = a.shape[0]\n",
    "msize = a.shape[1]"
   ]
  },
  {
   "cell_type": "code",
   "execution_count": 289,
   "id": "9f83f34b",
   "metadata": {},
   "outputs": [],
   "source": [
    "cols = b.shape[1]"
   ]
  },
  {
   "cell_type": "code",
   "execution_count": 290,
   "id": "95394deb",
   "metadata": {},
   "outputs": [],
   "source": [
    "mult = a.dot(b)"
   ]
  },
  {
   "cell_type": "code",
   "execution_count": 291,
   "id": "8fc22dde",
   "metadata": {},
   "outputs": [],
   "source": [
    "mult = mult.astype(np.float32)"
   ]
  },
  {
   "cell_type": "code",
   "execution_count": 292,
   "id": "b290cb1a",
   "metadata": {},
   "outputs": [
    {
     "name": "stdout",
     "output_type": "stream",
     "text": [
      "\n",
      " ADD VAL:0.82,0.94 - (0,0) - (0,0,0)\n",
      " ADD VAL:0.00,0.00 - (0,0) - (0,0,1)\n",
      " ADD VAL:0.00,0.00 - (0,0) - (0,0,2)\n",
      " ADD VAL:0.48,0.00 - (0,0) - (0,0,3)\n",
      " ADD VAL:0.91,0.00 - (0,0) - (0,0,4)\n",
      " ADD VAL:0.00,0.00 - (0,0) - (0,0,5)\n",
      " ADD VAL:0.00,0.00 - (0,0) - (0,0,6)\n",
      " ADD VAL:0.88,0.31 - (0,0) - (0,0,7)\n",
      " ADD VAL:0.00,0.11 - (0,0) - (0,0,8)\n",
      " ADD VAL:0.00,0.07 - (0,0) - (0,0,9)\n",
      " ADD VAL:0.00,0.00 - (0,0) - (0,0,10)\n",
      " ADD VAL:0.87,0.16 - (0,0) - (0,0,11)\n",
      " ADD VAL:0.00,0.00 - (0,0) - (0,0,12)\n",
      " ADD VAL:0.00,0.64 - (0,0) - (0,0,13)\n",
      " ADD VAL:0.26,0.50 - (0,0) - (0,0,14)\n",
      " ADD VAL:0.36,0.00 - (0,0) - (0,0,15)\n",
      " ADD VAL:0.00,0.00 - (0,0) - (0,0,16)\n",
      " ADD VAL:0.41,0.00 - (0,0) - (0,0,17)\n",
      " ADD VAL:0.00,0.00 - (0,0) - (0,0,18)\n",
      " ADD VAL:0.00,0.00 - (0,0) - (0,0,19)\n",
      " ADD VAL:0.62,0.18 - (0,0) - (0,0,20)\n",
      " ADD VAL:0.47,0.00 - (0,0) - (0,0,21)\n",
      " ADD VAL:0.00,0.00 - (0,0) - (0,0,22)\n",
      " ADD VAL:0.00,0.00 - (0,0) - (0,0,23)\n",
      " ADD VAL:0.00,0.00 - (0,0) - (0,0,24)\n",
      " ADD VAL:0.00,0.00 - (0,0) - (0,0,25)\n",
      " ADD VAL:0.00,0.00 - (0,0) - (0,0,26)\n",
      " ADD VAL:0.00,0.00 - (0,0) - (0,0,27)\n",
      " ADD VAL:0.22,0.43 - (0,0) - (0,0,28)\n",
      " ADD VAL:0.59,0.12 - (0,0) - (0,0,29)\n",
      " ADD VAL:0.00,0.00 - (0,0) - (0,0,30)\n",
      " ADD VAL:0.44,0.00 - (0,0) - (0,0,31)\n",
      " ADD VAL:0.47,0.00 - (0,0) - (0,0,32)\n",
      " ADD VAL:0.69,0.61 - (0,0) - (0,0,33)\n",
      " ADD VAL:0.00,0.41 - (0,0) - (0,0,34)\n",
      " ADD VAL:0.00,0.83 - (0,0) - (0,0,35)\n",
      " ADD VAL:0.38,0.05 - (0,0) - (0,0,36)\n",
      " ADD VAL:0.81,0.00 - (0,0) - (0,0,37)\n",
      " ADD VAL:0.98,0.00 - (0,0) - (0,0,38)\n",
      " ADD VAL:0.45,0.05 - (0,0) - (0,0,39)\n",
      " ADD VAL:0.00,0.00 - (0,0) - (0,0,40)\n",
      " ADD VAL:0.00,0.00 - (0,0) - (0,0,41)\n",
      " ADD VAL:0.29,0.00 - (0,0) - (0,0,42)\n",
      " ADD VAL:0.00,0.00 - (0,0) - (0,0,43)\n",
      " ADD VAL:0.04,0.00 - (0,0) - (0,0,44)\n",
      " ADD VAL:0.00,0.63 - (0,0) - (0,0,45)\n",
      " ADD VAL:0.28,0.00 - (0,0) - (0,0,46)\n",
      " ADD VAL:0.00,0.00 - (0,0) - (0,0,47)\n",
      " ADD VAL:0.00,0.69 - (0,0) - (0,0,48)\n",
      " ADD VAL:0.00,0.99 - (0,0) - (0,0,49)\n",
      " ADD VAL:0.42,0.00 - (0,0) - (0,0,50)\n",
      " ADD VAL:0.00,0.00 - (0,0) - (0,0,51)\n",
      " ADD VAL:0.00,0.00 - (0,0) - (0,0,52)\n",
      " ADD VAL:0.00,0.00 - (0,0) - (0,0,53)\n",
      " ADD VAL:0.39,0.00 - (0,0) - (0,0,54)\n",
      " ADD VAL:0.00,0.00 - (0,0) - (0,0,55)\n",
      " ADD VAL:0.00,0.00 - (0,0) - (0,0,56)\n",
      " ADD VAL:0.00,0.27 - (0,0) - (0,0,57)\n",
      " ADD VAL:0.00,0.00 - (0,0) - (0,0,58)\n",
      " ADD VAL:0.00,0.23 - (0,0) - (0,0,59)\n",
      " ADD VAL:0.00,0.10 - (0,0) - (0,0,60)\n",
      " ADD VAL:0.23,0.00 - (0,0) - (0,0,61)\n",
      " ADD VAL:0.00,0.00 - (0,0) - (0,0,62)\n",
      " ADD VAL:0.00,0.00 - (0,0) - (0,0,63)\n",
      " ADD VAL:0.58,0.94 - (0,1) - (0,1,0)\n",
      " ADD VAL:0.23,0.00 - (0,1) - (0,1,1)\n",
      " ADD VAL:0.16,0.00 - (0,1) - (0,1,2)\n",
      " ADD VAL:0.00,0.00 - (0,1) - (0,1,3)\n",
      " ADD VAL:0.00,0.00 - (0,1) - (0,1,4)\n",
      " ADD VAL:0.00,0.00 - (0,1) - (0,1,5)\n",
      " ADD VAL:0.35,0.00 - (0,1) - (0,1,6)\n",
      " ADD VAL:0.48,0.31 - (0,1) - (0,1,7)\n",
      " ADD VAL:0.84,0.11 - (0,1) - (0,1,8)\n",
      " ADD VAL:0.00,0.07 - (0,1) - (0,1,9)\n",
      " ADD VAL:0.00,0.00 - (0,1) - (0,1,10)\n",
      " ADD VAL:0.00,0.16 - (0,1) - (0,1,11)\n",
      " ADD VAL:0.40,0.00 - (0,1) - (0,1,12)\n",
      " ADD VAL:0.00,0.64 - (0,1) - (0,1,13)\n",
      " ADD VAL:0.55,0.50 - (0,1) - (0,1,14)\n",
      " ADD VAL:0.00,0.00 - (0,1) - (0,1,15)\n",
      " ADD VAL:0.00,0.00 - (0,1) - (0,1,16)\n",
      " ADD VAL:0.00,0.00 - (0,1) - (0,1,17)\n",
      " ADD VAL:0.97,0.00 - (0,1) - (0,1,18)\n",
      " ADD VAL:0.00,0.00 - (0,1) - (0,1,19)\n",
      " ADD VAL:0.00,0.18 - (0,1) - (0,1,20)\n",
      " ADD VAL:0.00,0.00 - (0,1) - (0,1,21)\n",
      " ADD VAL:0.00,0.00 - (0,1) - (0,1,22)\n",
      " ADD VAL:0.00,0.00 - (0,1) - (0,1,23)\n",
      " ADD VAL:0.00,0.00 - (0,1) - (0,1,24)\n",
      " ADD VAL:0.00,0.00 - (0,1) - (0,1,25)\n",
      " ADD VAL:0.00,0.00 - (0,1) - (0,1,26)\n",
      " ADD VAL:0.55,0.00 - (0,1) - (0,1,27)\n",
      " ADD VAL:0.80,0.43 - (0,1) - (0,1,28)\n",
      " ADD VAL:0.66,0.12 - (0,1) - (0,1,29)\n",
      " ADD VAL:0.96,0.00 - (0,1) - (0,1,30)\n",
      " ADD VAL:0.00,0.00 - (0,1) - (0,1,31)\n",
      " ADD VAL:0.00,0.00 - (0,1) - (0,1,32)\n",
      " ADD VAL:0.00,0.61 - (0,1) - (0,1,33)\n",
      " ADD VAL:0.55,0.41 - (0,1) - (0,1,34)\n",
      " ADD VAL:0.00,0.83 - (0,1) - (0,1,35)\n",
      " ADD VAL:0.00,0.05 - (0,1) - (0,1,36)\n",
      " ADD VAL:0.96,0.00 - (0,1) - (0,1,37)\n",
      " ADD VAL:0.00,0.00 - (0,1) - (0,1,38)\n",
      " ADD VAL:0.00,0.05 - (0,1) - (0,1,39)\n",
      " ADD VAL:0.34,0.00 - (0,1) - (0,1,40)\n",
      " ADD VAL:0.00,0.00 - (0,1) - (0,1,41)\n",
      " ADD VAL:0.00,0.00 - (0,1) - (0,1,42)\n",
      " ADD VAL:0.00,0.00 - (0,1) - (0,1,43)\n",
      " ADD VAL:0.00,0.00 - (0,1) - (0,1,44)\n",
      " ADD VAL:0.00,0.63 - (0,1) - (0,1,45)\n",
      " ADD VAL:0.00,0.00 - (0,1) - (0,1,46)\n",
      " ADD VAL:0.00,0.00 - (0,1) - (0,1,47)\n",
      " ADD VAL:0.21,0.69 - (0,1) - (0,1,48)\n",
      " ADD VAL:0.87,0.99 - (0,1) - (0,1,49)\n",
      " ADD VAL:0.00,0.00 - (0,1) - (0,1,50)\n",
      " ADD VAL:0.90,0.00 - (0,1) - (0,1,51)\n",
      " ADD VAL:0.00,0.00 - (0,1) - (0,1,52)\n",
      " ADD VAL:0.24,0.00 - (0,1) - (0,1,53)\n",
      " ADD VAL:0.00,0.00 - (0,1) - (0,1,54)\n",
      " ADD VAL:0.00,0.00 - (0,1) - (0,1,55)\n",
      " ADD VAL:0.56,0.00 - (0,1) - (0,1,56)\n",
      " ADD VAL:0.00,0.27 - (0,1) - (0,1,57)\n",
      " ADD VAL:0.86,0.00 - (0,1) - (0,1,58)\n",
      " ADD VAL:0.08,0.23 - (0,1) - (0,1,59)\n",
      " ADD VAL:0.00,0.10 - (0,1) - (0,1,60)\n",
      " ADD VAL:0.27,0.00 - (0,1) - (0,1,61)\n",
      " ADD VAL:0.00,0.00 - (0,1) - (0,1,62)\n",
      " ADD VAL:0.97,0.00 - (0,1) - (0,1,63)\n",
      " ADD VAL:0.00,0.94 - (0,2) - (0,2,0)\n",
      " ADD VAL:0.48,0.00 - (0,2) - (0,2,1)\n",
      " ADD VAL:0.00,0.00 - (0,2) - (0,2,2)\n",
      " ADD VAL:0.00,0.00 - (0,2) - (0,2,3)\n",
      " ADD VAL:0.00,0.00 - (0,2) - (0,2,4)\n",
      " ADD VAL:0.00,0.00 - (0,2) - (0,2,5)\n",
      " ADD VAL:0.52,0.00 - (0,2) - (0,2,6)\n",
      " ADD VAL:0.00,0.31 - (0,2) - (0,2,7)\n",
      " ADD VAL:0.59,0.11 - (0,2) - (0,2,8)\n",
      " ADD VAL:0.00,0.07 - (0,2) - (0,2,9)\n",
      " ADD VAL:0.00,0.00 - (0,2) - (0,2,10)\n",
      " ADD VAL:0.00,0.16 - (0,2) - (0,2,11)\n",
      " ADD VAL:0.66,0.00 - (0,2) - (0,2,12)\n",
      " ADD VAL:0.19,0.64 - (0,2) - (0,2,13)\n",
      " ADD VAL:0.75,0.50 - (0,2) - (0,2,14)\n",
      " ADD VAL:0.00,0.00 - (0,2) - (0,2,15)\n",
      " ADD VAL:0.00,0.00 - (0,2) - (0,2,16)\n",
      " ADD VAL:0.00,0.00 - (0,2) - (0,2,17)\n",
      " ADD VAL:0.00,0.00 - (0,2) - (0,2,18)\n",
      " ADD VAL:0.00,0.00 - (0,2) - (0,2,19)\n",
      " ADD VAL:0.00,0.18 - (0,2) - (0,2,20)\n",
      " ADD VAL:0.00,0.00 - (0,2) - (0,2,21)\n",
      " ADD VAL:1.00,0.00 - (0,2) - (0,2,22)\n",
      " ADD VAL:0.60,0.00 - (0,2) - (0,2,23)\n",
      " ADD VAL:0.45,0.00 - (0,2) - (0,2,24)\n",
      " ADD VAL:0.00,0.00 - (0,2) - (0,2,25)\n",
      " ADD VAL:0.00,0.00 - (0,2) - (0,2,26)\n",
      " ADD VAL:0.91,0.00 - (0,2) - (0,2,27)\n",
      " ADD VAL:0.96,0.43 - (0,2) - (0,2,28)\n",
      " ADD VAL:0.33,0.12 - (0,2) - (0,2,29)\n",
      " ADD VAL:0.33,0.00 - (0,2) - (0,2,30)\n",
      " ADD VAL:0.55,0.00 - (0,2) - (0,2,31)\n",
      " ADD VAL:0.79,0.00 - (0,2) - (0,2,32)\n",
      " ADD VAL:0.00,0.61 - (0,2) - (0,2,33)\n",
      " ADD VAL:0.43,0.41 - (0,2) - (0,2,34)\n",
      " ADD VAL:0.00,0.83 - (0,2) - (0,2,35)\n",
      " ADD VAL:0.00,0.05 - (0,2) - (0,2,36)\n",
      " ADD VAL:0.00,0.00 - (0,2) - (0,2,37)\n",
      " ADD VAL:0.00,0.00 - (0,2) - (0,2,38)\n",
      " ADD VAL:0.00,0.05 - (0,2) - (0,2,39)\n",
      " ADD VAL:0.00,0.00 - (0,2) - (0,2,40)\n",
      " ADD VAL:0.00,0.00 - (0,2) - (0,2,41)\n",
      " ADD VAL:0.50,0.00 - (0,2) - (0,2,42)\n",
      " ADD VAL:0.00,0.00 - (0,2) - (0,2,43)\n",
      " ADD VAL:0.05,0.00 - (0,2) - (0,2,44)\n",
      " ADD VAL:0.90,0.63 - (0,2) - (0,2,45)\n",
      " ADD VAL:0.00,0.00 - (0,2) - (0,2,46)\n",
      " ADD VAL:0.00,0.00 - (0,2) - (0,2,47)\n",
      " ADD VAL:0.18,0.69 - (0,2) - (0,2,48)\n",
      " ADD VAL:0.00,0.99 - (0,2) - (0,2,49)\n",
      " ADD VAL:0.00,0.00 - (0,2) - (0,2,50)\n",
      " ADD VAL:0.00,0.00 - (0,2) - (0,2,51)\n",
      " ADD VAL:0.00,0.00 - (0,2) - (0,2,52)\n",
      " ADD VAL:0.00,0.00 - (0,2) - (0,2,53)\n",
      " ADD VAL:0.31,0.00 - (0,2) - (0,2,54)\n",
      " ADD VAL:0.55,0.00 - (0,2) - (0,2,55)\n",
      " ADD VAL:0.00,0.00 - (0,2) - (0,2,56)\n",
      " ADD VAL:0.00,0.27 - (0,2) - (0,2,57)\n",
      " ADD VAL:0.14,0.00 - (0,2) - (0,2,58)\n",
      " ADD VAL:0.00,0.23 - (0,2) - (0,2,59)\n",
      " ADD VAL:0.40,0.10 - (0,2) - (0,2,60)\n",
      " ADD VAL:0.00,0.00 - (0,2) - (0,2,61)\n",
      " ADD VAL:0.12,0.00 - (0,2) - (0,2,62)\n",
      " ADD VAL:0.00,0.00 - (0,2) - (0,2,63)\n",
      " ADD VAL:0.00,0.94 - (0,3) - (0,3,0)\n",
      " ADD VAL:0.14,0.00 - (0,3) - (0,3,1)\n",
      " ADD VAL:0.00,0.00 - (0,3) - (0,3,2)\n",
      " ADD VAL:0.00,0.00 - (0,3) - (0,3,3)\n",
      " ADD VAL:0.00,0.00 - (0,3) - (0,3,4)\n",
      " ADD VAL:0.00,0.00 - (0,3) - (0,3,5)\n",
      " ADD VAL:0.16,0.00 - (0,3) - (0,3,6)\n",
      " ADD VAL:0.00,0.31 - (0,3) - (0,3,7)\n",
      " ADD VAL:0.00,0.11 - (0,3) - (0,3,8)\n",
      " ADD VAL:0.80,0.07 - (0,3) - (0,3,9)\n",
      " ADD VAL:0.15,0.00 - (0,3) - (0,3,10)\n",
      " ADD VAL:0.00,0.16 - (0,3) - (0,3,11)\n",
      " ADD VAL:0.00,0.00 - (0,3) - (0,3,12)\n",
      " ADD VAL:0.47,0.64 - (0,3) - (0,3,13)\n",
      " ADD VAL:0.00,0.50 - (0,3) - (0,3,14)\n",
      " ADD VAL:0.27,0.00 - (0,3) - (0,3,15)\n",
      " ADD VAL:0.74,0.00 - (0,3) - (0,3,16)\n",
      " ADD VAL:0.00,0.00 - (0,3) - (0,3,17)\n",
      " ADD VAL:0.00,0.00 - (0,3) - (0,3,18)\n",
      " ADD VAL:0.00,0.00 - (0,3) - (0,3,19)\n",
      " ADD VAL:0.64,0.18 - (0,3) - (0,3,20)\n",
      " ADD VAL:0.09,0.00 - (0,3) - (0,3,21)\n",
      " ADD VAL:0.00,0.00 - (0,3) - (0,3,22)\n",
      " ADD VAL:0.13,0.00 - (0,3) - (0,3,23)\n",
      " ADD VAL:0.00,0.00 - (0,3) - (0,3,24)\n",
      " ADD VAL:0.00,0.00 - (0,3) - (0,3,25)\n",
      " ADD VAL:0.91,0.00 - (0,3) - (0,3,26)\n",
      " ADD VAL:0.00,0.00 - (0,3) - (0,3,27)\n",
      " ADD VAL:0.56,0.43 - (0,3) - (0,3,28)\n",
      " ADD VAL:0.93,0.12 - (0,3) - (0,3,29)\n",
      " ADD VAL:0.00,0.00 - (0,3) - (0,3,30)\n",
      " ADD VAL:0.14,0.00 - (0,3) - (0,3,31)\n",
      " ADD VAL:0.00,0.00 - (0,3) - (0,3,32)\n",
      " ADD VAL:0.00,0.61 - (0,3) - (0,3,33)\n",
      " ADD VAL:0.00,0.41 - (0,3) - (0,3,34)\n",
      " ADD VAL:0.08,0.83 - (0,3) - (0,3,35)\n",
      " ADD VAL:0.00,0.05 - (0,3) - (0,3,36)\n",
      " ADD VAL:0.59,0.00 - (0,3) - (0,3,37)\n",
      " ADD VAL:0.01,0.00 - (0,3) - (0,3,38)\n",
      " ADD VAL:0.00,0.05 - (0,3) - (0,3,39)\n",
      " ADD VAL:0.00,0.00 - (0,3) - (0,3,40)\n",
      " ADD VAL:0.00,0.00 - (0,3) - (0,3,41)\n",
      " ADD VAL:0.00,0.00 - (0,3) - (0,3,42)\n",
      " ADD VAL:0.93,0.00 - (0,3) - (0,3,43)\n",
      " ADD VAL:0.34,0.00 - (0,3) - (0,3,44)\n",
      " ADD VAL:0.00,0.63 - (0,3) - (0,3,45)\n",
      " ADD VAL:0.00,0.00 - (0,3) - (0,3,46)\n",
      " ADD VAL:0.00,0.00 - (0,3) - (0,3,47)\n",
      " ADD VAL:0.08,0.69 - (0,3) - (0,3,48)\n",
      " ADD VAL:0.00,0.99 - (0,3) - (0,3,49)\n",
      " ADD VAL:0.00,0.00 - (0,3) - (0,3,50)\n",
      " ADD VAL:0.00,0.00 - (0,3) - (0,3,51)\n",
      " ADD VAL:0.00,0.00 - (0,3) - (0,3,52)\n",
      " ADD VAL:0.90,0.00 - (0,3) - (0,3,53)\n",
      " ADD VAL:0.92,0.00 - (0,3) - (0,3,54)\n",
      " ADD VAL:0.00,0.00 - (0,3) - (0,3,55)\n",
      " ADD VAL:0.00,0.00 - (0,3) - (0,3,56)\n",
      " ADD VAL:0.00,0.27 - (0,3) - (0,3,57)\n",
      " ADD VAL:0.00,0.00 - (0,3) - (0,3,58)\n",
      " ADD VAL:0.55,0.23 - (0,3) - (0,3,59)\n",
      " ADD VAL:0.00,0.10 - (0,3) - (0,3,60)\n",
      " ADD VAL:0.81,0.00 - (0,3) - (0,3,61)\n",
      " ADD VAL:0.72,0.00 - (0,3) - (0,3,62)\n",
      " ADD VAL:0.00,0.00 - (0,3) - (0,3,63)\n",
      " ADD VAL:0.09,0.94 - (0,4) - (0,4,0)\n",
      " ADD VAL:0.00,0.00 - (0,4) - (0,4,1)\n",
      " ADD VAL:0.00,0.00 - (0,4) - (0,4,2)\n",
      " ADD VAL:0.00,0.00 - (0,4) - (0,4,3)\n",
      " ADD VAL:0.05,0.00 - (0,4) - (0,4,4)\n",
      " ADD VAL:0.84,0.00 - (0,4) - (0,4,5)\n",
      " ADD VAL:0.69,0.00 - (0,4) - (0,4,6)\n",
      " ADD VAL:0.00,0.31 - (0,4) - (0,4,7)\n",
      " ADD VAL:0.00,0.11 - (0,4) - (0,4,8)\n",
      " ADD VAL:0.32,0.07 - (0,4) - (0,4,9)\n",
      " ADD VAL:0.00,0.00 - (0,4) - (0,4,10)\n",
      " ADD VAL:0.00,0.16 - (0,4) - (0,4,11)\n",
      " ADD VAL:0.02,0.00 - (0,4) - (0,4,12)\n",
      " ADD VAL:0.00,0.64 - (0,4) - (0,4,13)\n",
      " ADD VAL:0.00,0.50 - (0,4) - (0,4,14)\n",
      " ADD VAL:0.00,0.00 - (0,4) - (0,4,15)\n",
      " ADD VAL:0.00,0.00 - (0,4) - (0,4,16)\n",
      " ADD VAL:0.00,0.00 - (0,4) - (0,4,17)\n",
      " ADD VAL:0.76,0.00 - (0,4) - (0,4,18)\n",
      " ADD VAL:0.00,0.00 - (0,4) - (0,4,19)\n",
      " ADD VAL:0.00,0.18 - (0,4) - (0,4,20)\n",
      " ADD VAL:0.00,0.00 - (0,4) - (0,4,21)\n",
      " ADD VAL:0.87,0.00 - (0,4) - (0,4,22)\n",
      " ADD VAL:0.00,0.00 - (0,4) - (0,4,23)\n",
      " ADD VAL:0.92,0.00 - (0,4) - (0,4,24)\n",
      " ADD VAL:0.00,0.00 - (0,4) - (0,4,25)\n",
      " ADD VAL:0.00,0.00 - (0,4) - (0,4,26)\n",
      " ADD VAL:0.15,0.00 - (0,4) - (0,4,27)\n",
      " ADD VAL:0.65,0.43 - (0,4) - (0,4,28)\n",
      " ADD VAL:0.00,0.12 - (0,4) - (0,4,29)\n",
      " ADD VAL:0.84,0.00 - (0,4) - (0,4,30)\n",
      " ADD VAL:0.39,0.00 - (0,4) - (0,4,31)\n",
      " ADD VAL:0.00,0.00 - (0,4) - (0,4,32)\n",
      " ADD VAL:0.09,0.61 - (0,4) - (0,4,33)\n",
      " ADD VAL:0.31,0.41 - (0,4) - (0,4,34)\n",
      " ADD VAL:0.00,0.83 - (0,4) - (0,4,35)\n",
      " ADD VAL:0.86,0.05 - (0,4) - (0,4,36)\n",
      " ADD VAL:0.03,0.00 - (0,4) - (0,4,37)\n",
      " ADD VAL:0.00,0.00 - (0,4) - (0,4,38)\n",
      " ADD VAL:0.00,0.05 - (0,4) - (0,4,39)\n",
      " ADD VAL:0.00,0.00 - (0,4) - (0,4,40)\n",
      " ADD VAL:0.84,0.00 - (0,4) - (0,4,41)\n",
      " ADD VAL:0.00,0.00 - (0,4) - (0,4,42)\n",
      " ADD VAL:0.89,0.00 - (0,4) - (0,4,43)\n",
      " ADD VAL:0.00,0.00 - (0,4) - (0,4,44)\n",
      " ADD VAL:0.38,0.63 - (0,4) - (0,4,45)\n",
      " ADD VAL:0.00,0.00 - (0,4) - (0,4,46)\n",
      " ADD VAL:0.00,0.00 - (0,4) - (0,4,47)\n",
      " ADD VAL:0.00,0.69 - (0,4) - (0,4,48)\n",
      " ADD VAL:0.00,0.99 - (0,4) - (0,4,49)\n",
      " ADD VAL:0.00,0.00 - (0,4) - (0,4,50)\n",
      " ADD VAL:0.77,0.00 - (0,4) - (0,4,51)\n",
      " ADD VAL:0.00,0.00 - (0,4) - (0,4,52)\n",
      " ADD VAL:0.00,0.00 - (0,4) - (0,4,53)\n",
      " ADD VAL:0.00,0.00 - (0,4) - (0,4,54)\n",
      " ADD VAL:0.00,0.00 - (0,4) - (0,4,55)\n",
      " ADD VAL:0.67,0.00 - (0,4) - (0,4,56)\n",
      " ADD VAL:0.89,0.27 - (0,4) - (0,4,57)\n",
      " ADD VAL:0.00,0.00 - (0,4) - (0,4,58)\n",
      " ADD VAL:0.47,0.23 - (0,4) - (0,4,59)\n",
      " ADD VAL:0.00,0.10 - (0,4) - (0,4,60)\n",
      " ADD VAL:0.53,0.00 - (0,4) - (0,4,61)\n",
      " ADD VAL:0.00,0.00 - (0,4) - (0,4,62)\n",
      " ADD VAL:0.00,0.00 - (0,4) - (0,4,63)\n",
      " ADD VAL:0.00,0.94 - (0,5) - (0,5,0)\n",
      " ADD VAL:0.00,0.00 - (0,5) - (0,5,1)\n",
      " ADD VAL:0.00,0.00 - (0,5) - (0,5,2)\n",
      " ADD VAL:0.00,0.00 - (0,5) - (0,5,3)\n",
      " ADD VAL:0.86,0.00 - (0,5) - (0,5,4)\n",
      " ADD VAL:0.49,0.00 - (0,5) - (0,5,5)\n",
      " ADD VAL:0.00,0.00 - (0,5) - (0,5,6)\n",
      " ADD VAL:0.09,0.31 - (0,5) - (0,5,7)\n",
      " ADD VAL:0.00,0.11 - (0,5) - (0,5,8)\n",
      " ADD VAL:0.00,0.07 - (0,5) - (0,5,9)\n",
      " ADD VAL:0.84,0.00 - (0,5) - (0,5,10)\n",
      " ADD VAL:0.88,0.16 - (0,5) - (0,5,11)\n",
      " ADD VAL:0.29,0.00 - (0,5) - (0,5,12)\n",
      " ADD VAL:0.59,0.64 - (0,5) - (0,5,13)\n",
      " ADD VAL:0.00,0.50 - (0,5) - (0,5,14)\n",
      " ADD VAL:0.00,0.00 - (0,5) - (0,5,15)\n",
      " ADD VAL:0.49,0.00 - (0,5) - (0,5,16)\n",
      " ADD VAL:0.00,0.00 - (0,5) - (0,5,17)\n",
      " ADD VAL:0.69,0.00 - (0,5) - (0,5,18)\n",
      " ADD VAL:0.00,0.00 - (0,5) - (0,5,19)\n",
      " ADD VAL:0.79,0.18 - (0,5) - (0,5,20)\n",
      " ADD VAL:0.68,0.00 - (0,5) - (0,5,21)\n",
      " ADD VAL:0.71,0.00 - (0,5) - (0,5,22)\n",
      " ADD VAL:0.00,0.00 - (0,5) - (0,5,23)\n",
      " ADD VAL:0.00,0.00 - (0,5) - (0,5,24)\n",
      " ADD VAL:0.54,0.00 - (0,5) - (0,5,25)\n",
      " ADD VAL:0.57,0.00 - (0,5) - (0,5,26)\n",
      " ADD VAL:0.00,0.00 - (0,5) - (0,5,27)\n",
      " ADD VAL:0.00,0.43 - (0,5) - (0,5,28)\n",
      " ADD VAL:0.00,0.12 - (0,5) - (0,5,29)\n",
      " ADD VAL:0.00,0.00 - (0,5) - (0,5,30)\n",
      " ADD VAL:0.00,0.00 - (0,5) - (0,5,31)\n",
      " ADD VAL:0.00,0.00 - (0,5) - (0,5,32)\n",
      " ADD VAL:0.27,0.61 - (0,5) - (0,5,33)\n",
      " ADD VAL:0.43,0.41 - (0,5) - (0,5,34)\n",
      " ADD VAL:0.00,0.83 - (0,5) - (0,5,35)\n",
      " ADD VAL:0.00,0.05 - (0,5) - (0,5,36)\n",
      " ADD VAL:0.00,0.00 - (0,5) - (0,5,37)\n",
      " ADD VAL:0.00,0.00 - (0,5) - (0,5,38)\n",
      " ADD VAL:0.00,0.05 - (0,5) - (0,5,39)\n",
      " ADD VAL:0.00,0.00 - (0,5) - (0,5,40)\n",
      " ADD VAL:0.00,0.00 - (0,5) - (0,5,41)\n",
      " ADD VAL:0.00,0.00 - (0,5) - (0,5,42)\n",
      " ADD VAL:0.00,0.00 - (0,5) - (0,5,43)\n",
      " ADD VAL:0.15,0.00 - (0,5) - (0,5,44)\n",
      " ADD VAL:0.00,0.63 - (0,5) - (0,5,45)\n",
      " ADD VAL:0.00,0.00 - (0,5) - (0,5,46)\n",
      " ADD VAL:0.24,0.00 - (0,5) - (0,5,47)\n",
      " ADD VAL:0.00,0.69 - (0,5) - (0,5,48)\n",
      " ADD VAL:0.00,0.99 - (0,5) - (0,5,49)"
     ]
    }
   ],
   "source": [
    "res_buf = cl.Buffer(ctx, mf.READ_WRITE, np.prod([rows,b.shape[1]])*4)\n",
    "knl = prg.genwupdate4  # Use this Kernel object for repeate/duald calls\n",
    "evt = knl(queue, [max(rows,cols)], None, a_buf, b_buf, x_sum_buf, y_sum_buf, np.uint32(rows), np.uint32(msize),np.uint32(cols), \n",
    "          np.uint32(topkx),np.uint32(topky), x_idx_buf, y_idx_buf, sdata_buf, sidxs_buf, snnzs_buf, sdatat_buf, sidxst_buf, snnzst_buf)"
   ]
  },
  {
   "cell_type": "code",
   "execution_count": 293,
   "id": "be3450f0",
   "metadata": {},
   "outputs": [
    {
     "name": "stdout",
     "output_type": "stream",
     "text": [
      "\n",
      " ADD VAL:0.00,0.00 - (0,5) - (0,5,50)\n",
      " ADD VAL:0.32,0.00 - (0,5) - (0,5,51)\n",
      " ADD VAL:0.00,0.00 - (0,5) - (0,5,52)\n",
      " ADD VAL:0.73,0.00 - (0,5) - (0,5,53)\n",
      " ADD VAL:0.56,0.00 - (0,5) - (0,5,54)\n",
      " ADD VAL:0.00,0.00 - (0,5) - (0,5,55)\n",
      " ADD VAL:0.00,0.00 - (0,5) - (0,5,56)\n",
      " ADD VAL:0.06,0.27 - (0,5) - (0,5,57)\n",
      " ADD VAL:0.85,0.00 - (0,5) - (0,5,58)\n",
      " ADD VAL:0.01,0.23 - (0,5) - (0,5,59)\n",
      " ADD VAL:0.00,0.10 - (0,5) - (0,5,60)\n",
      " ADD VAL:0.60,0.00 - (0,5) - (0,5,61)\n",
      " ADD VAL:0.00,0.00 - (0,5) - (0,5,62)\n",
      " ADD VAL:0.00,0.00 - (0,5) - (0,5,63)\n",
      " ADD VAL:0.98,0.94 - (0,6) - (0,6,0)\n",
      " ADD VAL:0.58,0.00 - (0,6) - (0,6,1)\n",
      " ADD VAL:0.55,0.00 - (0,6) - (0,6,2)\n",
      " ADD VAL:0.00,0.00 - (0,6) - (0,6,3)\n",
      " ADD VAL:0.43,0.00 - (0,6) - (0,6,4)\n",
      " ADD VAL:0.00,0.00 - (0,6) - (0,6,5)\n",
      " ADD VAL:0.28,0.00 - (0,6) - (0,6,6)\n",
      " ADD VAL:0.00,0.31 - (0,6) - (0,6,7)\n",
      " ADD VAL:0.74,0.11 - (0,6) - (0,6,8)\n",
      " ADD VAL:0.00,0.07 - (0,6) - (0,6,9)\n",
      " ADD VAL:0.00,0.00 - (0,6) - (0,6,10)\n",
      " ADD VAL:0.00,0.16 - (0,6) - (0,6,11)\n",
      " ADD VAL:0.92,0.00 - (0,6) - (0,6,12)\n",
      " ADD VAL:0.00,0.64 - (0,6) - (0,6,13)\n",
      " ADD VAL:0.00,0.50 - (0,6) - (0,6,14)\n",
      " ADD VAL:0.80,0.00 - (0,6) - (0,6,15)\n",
      " ADD VAL:0.35,0.00 - (0,6) - (0,6,16)\n",
      " ADD VAL:0.89,0.00 - (0,6) - (0,6,17)\n",
      " ADD VAL:0.53,0.00 - (0,6) - (0,6,18)\n",
      " ADD VAL:0.26,0.00 - (0,6) - (0,6,19)\n",
      " ADD VAL:0.13,0.18 - (0,6) - (0,6,20)\n",
      " ADD VAL:0.61,0.00 - (0,6) - (0,6,21)\n",
      " ADD VAL:0.66,0.00 - (0,6) - (0,6,22)\n",
      " ADD VAL:0.20,0.00 - (0,6) - (0,6,23)\n",
      " ADD VAL:0.00,0.00 - (0,6) - (0,6,24)\n",
      " ADD VAL:0.68,0.00 - (0,6) - (0,6,25)\n",
      " ADD VAL:0.00,0.00 - (0,6) - (0,6,26)\n",
      " ADD VAL:0.00,0.00 - (0,6) - (0,6,27)\n",
      " ADD VAL:0.00,0.43 - (0,6) - (0,6,28)\n",
      " ADD VAL:0.00,0.12 - (0,6) - (0,6,29)\n",
      " ADD VAL:0.00,0.00 - (0,6) - (0,6,30)\n",
      " ADD VAL:0.00,0.00 - (0,6) - (0,6,31)\n",
      " ADD VAL:0.00,0.00 - (0,6) - (0,6,32)\n",
      " ADD VAL:0.00,0.61 - (0,6) - (0,6,33)\n",
      " ADD VAL:0.00,0.41 - (0,6) - (0,6,34)\n",
      " ADD VAL:0.29,0.83 - (0,6) - (0,6,35)\n",
      " ADD VAL:0.00,0.05 - (0,6) - (0,6,36)\n",
      " ADD VAL:0.00,0.00 - (0,6) - (0,6,37)\n",
      " ADD VAL:0.00,0.00 - (0,6) - (0,6,38)\n",
      " ADD VAL:0.40,0.05 - (0,6) - (0,6,39)\n",
      " ADD VAL:0.67,0.00 - (0,6) - (0,6,40)\n",
      " ADD VAL:0.00,0.00 - (0,6) - (0,6,41)\n",
      " ADD VAL:0.00,0.00 - (0,6) - (0,6,42)\n",
      " ADD VAL:0.00,0.00 - (0,6) - (0,6,43)\n",
      " ADD VAL:0.00,0.00 - (0,6) - (0,6,44)\n",
      " ADD VAL:0.00,0.63 - (0,6) - (0,6,45)\n",
      " ADD VAL:0.00,0.00 - (0,6) - (0,6,46)\n",
      " ADD VAL:0.00,0.00 - (0,6) - (0,6,47)\n",
      " ADD VAL:0.19,0.69 - (0,6) - (0,6,48)\n",
      " ADD VAL:0.11,0.99 - (0,6) - (0,6,49)\n",
      " ADD VAL:0.00,0.00 - (0,6) - (0,6,50)\n",
      " ADD VAL:0.12,0.00 - (0,6) - (0,6,51)\n",
      " ADD VAL:0.00,0.00 - (0,6) - (0,6,52)\n",
      " ADD VAL:0.00,0.00 - (0,6) - (0,6,53)\n",
      " ADD VAL:0.87,0.00 - (0,6) - (0,6,54)\n",
      " ADD VAL:0.00,0.00 - (0,6) - (0,6,55)\n",
      " ADD VAL:0.00,0.00 - (0,6) - (0,6,56)\n",
      " ADD VAL:0.00,0.27 - (0,6) - (0,6,57)\n",
      " ADD VAL:0.00,0.00 - (0,6) - (0,6,58)\n",
      " ADD VAL:0.00,0.23 - (0,6) - (0,6,59)\n",
      " ADD VAL:0.00,0.10 - (0,6) - (0,6,60)\n",
      " ADD VAL:0.56,0.00 - (0,6) - (0,6,61)\n",
      " ADD VAL:0.00,0.00 - (0,6) - (0,6,62)\n",
      " ADD VAL:0.00,0.00 - (0,6) - (0,6,63)\n",
      " ADD VAL:0.36,0.94 - (0,7) - (0,7,0)\n",
      " ADD VAL:0.63,0.00 - (0,7) - (0,7,1)\n",
      " ADD VAL:0.00,0.00 - (0,7) - (0,7,2)\n",
      " ADD VAL:0.00,0.00 - (0,7) - (0,7,3)\n",
      " ADD VAL:0.01,0.00 - (0,7) - (0,7,4)\n",
      " ADD VAL:0.00,0.00 - (0,7) - (0,7,5)\n",
      " ADD VAL:0.00,0.00 - (0,7) - (0,7,6)\n",
      " ADD VAL:0.00,0.31 - (0,7) - (0,7,7)\n",
      " ADD VAL:0.13,0.11 - (0,7) - (0,7,8)\n",
      " ADD VAL:0.00,0.07 - (0,7) - (0,7,9)\n",
      " ADD VAL:0.30,0.00 - (0,7) - (0,7,10)\n",
      " ADD VAL:0.42,0.16 - (0,7) - (0,7,11)\n",
      " ADD VAL:0.72,0.00 - (0,7) - (0,7,12)\n",
      " ADD VAL:0.00,0.64 - (0,7) - (0,7,13)\n",
      " ADD VAL:0.00,0.50 - (0,7) - (0,7,14)\n",
      " ADD VAL:0.00,0.00 - (0,7) - (0,7,15)\n",
      " ADD VAL:0.00,0.00 - (0,7) - (0,7,16)\n",
      " ADD VAL:0.59,0.00 - (0,7) - (0,7,17)\n",
      " ADD VAL:0.00,0.00 - (0,7) - (0,7,18)\n",
      " ADD VAL:0.00,0.00 - (0,7) - (0,7,19)\n",
      " ADD VAL:0.66,0.18 - (0,7) - (0,7,20)\n",
      " ADD VAL:0.00,0.00 - (0,7) - (0,7,21)\n",
      " ADD VAL:0.00,0.00 - (0,7) - (0,7,22)\n",
      " ADD VAL:0.00,0.00 - (0,7) - (0,7,23)\n",
      " ADD VAL:0.49,0.00 - (0,7) - (0,7,24)\n",
      " ADD VAL:0.00,0.00 - (0,7) - (0,7,25)\n",
      " ADD VAL:0.00,0.00 - (0,7) - (0,7,26)\n",
      " ADD VAL:0.00,0.00 - (0,7) - (0,7,27)\n",
      " ADD VAL:0.00,0.43 - (0,7) - (0,7,28)\n",
      " ADD VAL:0.00,0.12 - (0,7) - (0,7,29)\n",
      " ADD VAL:0.00,0.00 - (0,7) - (0,7,30)\n",
      " ADD VAL:0.00,0.00 - (0,7) - (0,7,31)\n",
      " ADD VAL:0.69,0.00 - (0,7) - (0,7,32)\n",
      " ADD VAL:0.62,0.61 - (0,7) - (0,7,33)\n",
      " ADD VAL:0.54,0.41 - (0,7) - (0,7,34)\n",
      " ADD VAL:0.01,0.83 - (0,7) - (0,7,35)\n",
      " ADD VAL:0.19,0.05 - (0,7) - (0,7,36)\n",
      " ADD VAL:0.00,0.00 - (0,7) - (0,7,37)\n",
      " ADD VAL:0.00,0.00 - (0,7) - (0,7,38)\n",
      " ADD VAL:0.86,0.05 - (0,7) - (0,7,39)\n",
      " ADD VAL:0.00,0.00 - (0,7) - (0,7,40)\n",
      " ADD VAL:0.00,0.00 - (0,7) - (0,7,41)\n",
      " ADD VAL:0.00,0.00 - (0,7) - (0,7,42)\n",
      " ADD VAL:0.07,0.00 - (0,7) - (0,7,43)\n",
      " ADD VAL:0.00,0.00 - (0,7) - (0,7,44)\n",
      " ADD VAL:0.00,0.63 - (0,7) - (0,7,45)\n",
      " ADD VAL:0.00,0.00 - (0,7) - (0,7,46)\n",
      " ADD VAL:0.00,0.00 - (0,7) - (0,7,47)\n",
      " ADD VAL:0.20,0.69 - (0,7) - (0,7,48)\n",
      " ADD VAL:0.00,0.99 - (0,7) - (0,7,49)\n",
      " ADD VAL:0.00,0.00 - (0,7) - (0,7,50)\n",
      " ADD VAL:0.00,0.00 - (0,7) - (0,7,51)\n",
      " ADD VAL:0.76,0.00 - (0,7) - (0,7,52)\n",
      " ADD VAL:0.04,0.00 - (0,7) - (0,7,53)\n",
      " ADD VAL:0.00,0.00 - (0,7) - (0,7,54)\n",
      " ADD VAL:0.00,0.00 - (0,7) - (0,7,55)\n",
      " ADD VAL:0.00,0.00 - (0,7) - (0,7,56)\n",
      " ADD VAL:0.51,0.27 - (0,7) - (0,7,57)\n",
      " ADD VAL:0.00,0.00 - (0,7) - (0,7,58)\n",
      " ADD VAL:0.50,0.23 - (0,7) - (0,7,59)\n",
      " ADD VAL:0.95,0.10 - (0,7) - (0,7,60)\n",
      " ADD VAL:0.61,0.00 - (0,7) - (0,7,61)\n",
      " ADD VAL:0.37,0.00 - (0,7) - (0,7,62)\n",
      " ADD VAL:0.00,0.00 - (0,7) - (0,7,63)\n",
      " ADD VAL:0.82,0.94 - (0,0) - (0,0,0)\n",
      " ADD VAL:0.00,0.00 - (0,0) - (0,0,1)\n",
      " ADD VAL:0.00,0.00 - (0,0) - (0,0,2)\n",
      " ADD VAL:0.48,0.00 - (0,0) - (0,0,3)\n",
      " ADD VAL:0.91,0.00 - (0,0) - (0,0,4)\n",
      " ADD VAL:0.00,0.00 - (0,0) - (0,0,5)\n",
      " ADD VAL:0.00,0.00 - (0,0) - (0,0,6)\n",
      " ADD VAL:0.88,0.31 - (0,0) - (0,0,7)\n",
      " ADD VAL:0.00,0.11 - (0,0) - (0,0,8)\n",
      " ADD VAL:0.00,0.07 - (0,0) - (0,0,9)\n",
      " ADD VAL:0.00,0.00 - (0,0) - (0,0,10)\n",
      " ADD VAL:0.87,0.16 - (0,0) - (0,0,11)\n",
      " ADD VAL:0.00,0.00 - (0,0) - (0,0,12)\n",
      " ADD VAL:0.00,0.64 - (0,0) - (0,0,13)\n",
      " ADD VAL:0.26,0.50 - (0,0) - (0,0,14)\n",
      " ADD VAL:0.36,0.00 - (0,0) - (0,0,15)\n",
      " ADD VAL:0.00,0.00 - (0,0) - (0,0,16)\n",
      " ADD VAL:0.41,0.00 - (0,0) - (0,0,17)\n",
      " ADD VAL:0.00,0.00 - (0,0) - (0,0,18)\n",
      " ADD VAL:0.00,0.00 - (0,0) - (0,0,19)\n",
      " ADD VAL:0.62,0.18 - (0,0) - (0,0,20)\n",
      " ADD VAL:0.47,0.00 - (0,0) - (0,0,21)\n",
      " ADD VAL:0.00,0.00 - (0,0) - (0,0,22)\n",
      " ADD VAL:0.00,0.00 - (0,0) - (0,0,23)\n",
      " ADD VAL:0.00,0.00 - (0,0) - (0,0,24)\n",
      " ADD VAL:0.00,0.00 - (0,0) - (0,0,25)\n",
      " ADD VAL:0.00,0.00 - (0,0) - (0,0,26)\n",
      " ADD VAL:0.00,0.00 - (0,0) - (0,0,27)\n",
      " ADD VAL:0.22,0.43 - (0,0) - (0,0,28)\n",
      " ADD VAL:0.59,0.12 - (0,0) - (0,0,29)\n",
      " ADD VAL:0.00,0.00 - (0,0) - (0,0,30)\n",
      " ADD VAL:0.44,0.00 - (0,0) - (0,0,31)\n",
      " ADD VAL:0.47,0.00 - (0,0) - (0,0,32)\n",
      " ADD VAL:0.69,0.61 - (0,0) - (0,0,33)\n",
      " ADD VAL:0.00,0.41 - (0,0) - (0,0,34)\n",
      " ADD VAL:0.00,0.83 - (0,0) - (0,0,35)\n",
      " ADD VAL:0.38,0.05 - (0,0) - (0,0,36)\n",
      " ADD VAL:0.81,0.00 - (0,0) - (0,0,37)\n",
      " ADD VAL:0.98,0.00 - (0,0) - (0,0,38)\n",
      " ADD VAL:0.45,0.05 - (0,0) - (0,0,39)\n",
      " ADD VAL:0.00,0.00 - (0,0) - (0,0,40)\n",
      " ADD VAL:0.00,0.00 - (0,0) - (0,0,41)\n",
      " ADD VAL:0.29,0.00 - (0,0) - (0,0,42)\n",
      " ADD VAL:0.00,0.00 - (0,0) - (0,0,43)\n",
      " ADD VAL:0.04,0.00 - (0,0) - (0,0,44)\n",
      " ADD VAL:0.00,0.63 - (0,0) - (0,0,45)\n",
      " ADD VAL:0.28,0.00 - (0,0) - (0,0,46)\n",
      " ADD VAL:0.00,0.00 - (0,0) - (0,0,47)\n",
      " ADD VAL:0.00,0.69 - (0,0) - (0,0,48)\n",
      " ADD VAL:0.00,0.99 - (0,0) - (0,0,49)\n",
      " ADD VAL:0.42,0.00 - (0,0) - (0,0,50)\n",
      " ADD VAL:0.00,0.00 - (0,0) - (0,0,51)\n",
      " ADD VAL:0.00,0.00 - (0,0) - (0,0,52)\n",
      " ADD VAL:0.00,0.00 - (0,0) - (0,0,53)\n",
      " ADD VAL:0.39,0.00 - (0,0) - (0,0,54)\n",
      " ADD VAL:0.00,0.00 - (0,0) - (0,0,55)\n",
      " ADD VAL:0.00,0.00 - (0,0) - (0,0,56)\n",
      " ADD VAL:0.00,0.27 - (0,0) - (0,0,57)\n",
      " ADD VAL:0.00,0.00 - (0,0) - (0,0,58)\n",
      " ADD VAL:0.00,0.23 - (0,0) - (0,0,59)\n",
      " ADD VAL:0.00,0.10 - (0,0) - (0,0,60)\n",
      " ADD VAL:0.23,0.00 - (0,0) - (0,0,61)\n",
      " ADD VAL:0.00,0.00 - (0,0) - (0,0,62)\n",
      " ADD VAL:0.00,0.00 - (0,0) - (0,0,63)\n",
      " ADD VAL:0.82,0.00 - (0,1) - (0,1,0)\n",
      " ADD VAL:0.00,0.00 - (0,1) - (0,1,1)\n",
      " ADD VAL:0.00,0.03 - (0,1) - (0,1,2)\n",
      " ADD VAL:0.48,0.00 - (0,1) - (0,1,3)\n",
      " ADD VAL:0.91,0.02 - (0,1) - (0,1,4)\n",
      " ADD VAL:0.00,0.00 - (0,1) - (0,1,5)\n",
      " ADD VAL:0.00,0.29 - (0,1) - (0,1,6)\n",
      " ADD VAL:0.88,0.41 - (0,1) - (0,1,7)\n",
      " ADD VAL:0.00,0.53 - (0,1) - (0,1,8)\n",
      " ADD VAL:0.00,0.04 - (0,1) - (0,1,9)\n",
      " ADD VAL:0.00,0.72 - (0,1) - (0,1,10)\n",
      " ADD VAL:0.87,0.00 - (0,1) - (0,1,11)\n",
      " ADD VAL:0.00,0.67 - (0,1) - (0,1,12)\n",
      " ADD VAL:0.00,0.87 - (0,1) - (0,1,13)\n",
      " ADD VAL:0.26,0.00 - (0,1) - (0,1,14)\n",
      " ADD VAL:0.36,0.30 - (0,1) - (0,1,15)\n",
      " ADD VAL:0.00,0.62 - (0,1) - (0,1,16)\n",
      " ADD VAL:0.41,0.00 - (0,1) - (0,1,17)\n",
      " ADD VAL:0.00,0.18 - (0,1) - (0,1,18)\n",
      " ADD VAL:0.00,0.00 - (0,1) - (0,1,19)\n",
      " ADD VAL:0.62,0.00 - (0,1) - (0,1,20)\n",
      " ADD VAL:0.47,0.00 - (0,1) - (0,1,21)\n",
      " ADD VAL:0.00,0.00 - (0,1) - (0,1,22)\n",
      " ADD VAL:0.00,0.00 - (0,1) - (0,1,23)\n",
      " ADD VAL:0.00,0.00 - (0,1) - (0,1,24)\n",
      " ADD VAL:0.00,0.60 - (0,1) - (0,1,25)\n",
      " ADD VAL:0.00,0.42 - (0,1) - (0,1,26)\n",
      " ADD VAL:0.00,0.22 - (0,1) - (0,1,27)\n",
      " ADD VAL:0.22,0.00 - (0,1) - (0,1,28)\n",
      " ADD VAL:0.59,0.65 - (0,1) - (0,1,29)\n",
      " ADD VAL:0.00,0.00 - (0,1) - (0,1,30)\n",
      " ADD VAL:0.44,0.88 - (0,1) - (0,1,31)\n",
      " ADD VAL:0.47,0.55 - (0,1) - (0,1,32)\n",
      " ADD VAL:0.69,0.00 - (0,1) - (0,1,33)\n",
      " ADD VAL:0.00,0.46 - (0,1) - (0,1,34)\n",
      " ADD VAL:0.00,0.20 - (0,1) - (0,1,35)\n",
      " ADD VAL:0.38,0.00 - (0,1) - (0,1,36)\n",
      " ADD VAL:0.81,0.03 - (0,1) - (0,1,37)\n",
      " ADD VAL:0.98,0.00 - (0,1) - (0,1,38)\n",
      " ADD VAL:0.45,0.00 - (0,1) - (0,1,39)\n",
      " ADD VAL:0.00,0.00 - (0,1) - (0,1,40)\n",
      " ADD VAL:0.00,0.00 - (0,1) - (0,1,41)\n",
      " ADD VAL:0.29,0.45 - (0,1) - (0,1,42)\n",
      " ADD VAL:0.00,0.09 - (0,1) - (0,1,43)\n",
      " ADD VAL:0.04,0.00 - (0,1) - (0,1,44)\n",
      " ADD VAL:0.00,0.00 - (0,1) - (0,1,45)\n",
      " ADD VAL:0.28,0.15 - (0,1) - (0,1,46)\n",
      " ADD VAL:0.00,0.00 - (0,1) - (0,1,47)\n",
      " ADD VAL:0.00,0.00 - (0,1) - (0,1,48)\n",
      " ADD VAL:0.00,0.00 - (0,1) - (0,1,49)\n",
      " ADD VAL:0.42,0.00 - (0,1) - (0,1,50)\n",
      " ADD VAL:0.00,0.00 - (0,1) - (0,1,51)\n",
      " ADD VAL:0.00,0.00 - (0,1) - (0,1,52)\n",
      " ADD VAL:0.00,0.84 - (0,1) - (0,1,53)\n",
      " ADD VAL:0.39,0.00 - (0,1) - (0,1,54)\n",
      " ADD VAL:0.00,0.60 - (0,1) - (0,1,55)\n",
      " ADD VAL:0.00,0.15 - (0,1) - (0,1,56)\n",
      " ADD VAL:0.00,0.00 - (0,1) - (0,1,57)\n",
      " ADD VAL:0.00,0.00 - (0,1) - (0,1,58)\n",
      " ADD VAL:0.00,0.96 - (0,1) - (0,1,59)\n",
      " ADD VAL:0.00,0.00 - (0,1) - (0,1,60)\n",
      " ADD VAL:0.23,0.65 - (0,1) - (0,1,61)\n",
      " ADD VAL:0.00,0.00 - (0,1) - (0,1,62)\n",
      " ADD VAL:0.00,0.00 - (0,1) - (0,1,63)\n",
      " ADD VAL:0.82,0.00 - (0,2) - (0,2,0)\n",
      " ADD VAL:0.00,0.15 - (0,2) - (0,2,1)\n",
      " ADD VAL:0.00,0.28 - (0,2) - (0,2,2)\n",
      " ADD VAL:0.48,0.33 - (0,2) - (0,2,3)\n",
      " ADD VAL:0.91,0.98 - (0,2) - (0,2,4)\n",
      " ADD VAL:0.00,0.00 - (0,2) - (0,2,5)\n",
      " ADD VAL:0.00,0.00 - (0,2) - (0,2,6)\n",
      " ADD VAL:0.88,0.00 - (0,2) - (0,2,7)\n",
      " ADD VAL:0.00,0.00 - (0,2) - (0,2,8)\n",
      " ADD VAL:0.00,0.00 - (0,2) - (0,2,9)\n",
      " ADD VAL:0.00,0.41 - (0,2) - (0,2,10)\n",
      " ADD VAL:0.87,0.53 - (0,2) - (0,2,11)\n",
      " ADD VAL:0.00,0.02 - (0,2) - (0,2,12)\n",
      " ADD VAL:0.00,0.79 - (0,2) - (0,2,13)\n",
      " ADD VAL:0.26,0.00 - (0,2) - (0,2,14)\n",
      " ADD VAL:0.36,0.00 - (0,2) - (0,2,15)\n",
      " ADD VAL:0.00,0.00 - (0,2) - (0,2,16)\n",
      " ADD VAL:0.41,0.00 - (0,2) - (0,2,17)\n",
      " ADD VAL:0.00,0.41 - (0,2) - (0,2,18)\n",
      " ADD VAL:0.00,0.00 - (0,2) - (0,2,19)\n",
      " ADD VAL:0.62,0.00 - (0,2) - (0,2,20)\n",
      " ADD VAL:0.47,0.00 - (0,2) - (0,2,21)\n",
      " ADD VAL:0.00,0.00 - (0,2) - (0,2,22)\n",
      " ADD VAL:0.00,0.00 - (0,2) - (0,2,23)\n",
      " ADD VAL:0.00,0.00 - (0,2) - (0,2,24)\n",
      " ADD VAL:0.00,0.00 - (0,2) - (0,2,25)\n",
      " ADD VAL:0.00,0.00 - (0,2) - (0,2,26)\n",
      " ADD VAL:0.00,0.00 - (0,2) - (0,2,27)\n",
      " ADD VAL:0.22,0.94 - (0,2) - (0,2,28)\n",
      " ADD VAL:0.59,0.19 - (0,2) - (0,2,29)\n",
      " ADD VAL:0.00,0.20 - (0,2) - (0,2,30)\n",
      " ADD VAL:0.44,0.89 - (0,2) - (0,2,31)\n",
      " ADD VAL:0.47,0.00 - (0,2) - (0,2,32)\n",
      " ADD VAL:0.69,0.01 - (0,2) - (0,2,33)\n",
      " ADD VAL:0.00,0.72 - (0,2) - (0,2,34)\n",
      " ADD VAL:0.00,0.00 - (0,2) - (0,2,35)\n",
      " ADD VAL:0.38,0.68 - (0,2) - (0,2,36)\n",
      " ADD VAL:0.81,0.93 - (0,2) - (0,2,37)\n",
      " ADD VAL:0.98,0.96 - (0,2) - (0,2,38)\n",
      " ADD VAL:0.45,0.86 - (0,2) - (0,2,39)\n",
      " ADD VAL:0.00,0.00 - (0,2) - (0,2,40)\n",
      " ADD VAL:0.00,0.04 - (0,2) - (0,2,41)\n",
      " ADD VAL:0.29,0.71 - (0,2) - (0,2,42)\n",
      " ADD VAL:0.00,0.00 - (0,2) - (0,2,43)\n",
      " ADD VAL:0.04,0.10 - (0,2) - (0,2,44)\n",
      " ADD VAL:0.00,0.00 - (0,2) - (0,2,45)\n",
      " ADD VAL:0.28,0.00 - (0,2) - (0,2,46)\n",
      " ADD VAL:0.00,0.00 - (0,2) - (0,2,47)\n",
      " ADD VAL:0.00,0.00 - (0,2) - (0,2,48)\n",
      " ADD VAL:0.00,0.00 - (0,2) - (0,2,49)\n",
      " ADD VAL:0.42,0.09 - (0,2) - (0,2,50)\n",
      " ADD VAL:0.00,0.89 - (0,2) - (0,2,51)\n",
      " ADD VAL:0.00,0.00 - (0,2) - (0,2,52)\n",
      " ADD VAL:0.00,0.27 - (0,2) - (0,2,53)\n",
      " ADD VAL:0.39,0.00 - (0,2) - (0,2,54)\n",
      " ADD VAL:0.00,0.39 - (0,2) - (0,2,55)\n",
      " ADD VAL:0.00,0.00 - (0,2) - (0,2,56)\n",
      " ADD VAL:0.00,0.00 - (0,2) - (0,2,57)\n",
      " ADD VAL:0.00,0.00 - (0,2) - (0,2,58)\n",
      " ADD VAL:0.00,0.00 - (0,2) - (0,2,59)\n",
      " ADD VAL:0.00,0.00 - (0,2) - (0,2,60)\n",
      " ADD VAL:0.23,0.00 - (0,2) - (0,2,61)\n",
      " ADD VAL:0.00,0.17 - (0,2) - (0,2,62)\n",
      " ADD VAL:0.00,0.00 - (0,2) - (0,2,63)\n",
      " ADD VAL:0.82,0.91 - (0,3) - (0,3,0)\n",
      " ADD VAL:0.00,0.25 - (0,3) - (0,3,1)\n",
      " ADD VAL:0.00,0.85 - (0,3) - (0,3,2)\n",
      " ADD VAL:0.48,0.20 - (0,3) - (0,3,3)\n",
      " ADD VAL:0.91,0.00 - (0,3) - (0,3,4)\n",
      " ADD VAL:0.00,0.00 - (0,3) - (0,3,5)\n",
      " ADD VAL:0.00,0.00 - (0,3) - (0,3,6)\n",
      " ADD VAL:0.88,0.00 - (0,3) - (0,3,7)\n",
      " ADD VAL:0.00,0.32 - (0,3) - (0,3,8)\n",
      " ADD VAL:0.00,0.00 - (0,3) - (0,3,9)\n",
      " ADD VAL:0.00,0.19 - (0,3) - (0,3,10)\n",
      " ADD VAL:0.87,0.24 - (0,3) - (0,3,11)\n",
      " ADD VAL:0.00,0.00 - (0,3) - (0,3,12)\n",
      " ADD VAL:0.00,0.00 - (0,3) - (0,3,13)\n",
      " ADD VAL:0.26,0.00 - (0,3) - (0,3,14)\n",
      " ADD VAL:0.36,0.00 - (0,3) - (0,3,15)\n",
      " ADD VAL:0.00,0.00 - (0,3) - (0,3,16)\n",
      " ADD VAL:0.41,0.00 - (0,3) - (0,3,17)\n",
      " ADD VAL:0.00,0.00 - (0,3) - (0,3,18)\n",
      " ADD VAL:0.00,0.99 - (0,3) - (0,3,19)\n",
      " ADD VAL:0.62,0.00 - (0,3) - (0,3,20)\n",
      " ADD VAL:0.47,0.00 - (0,3) - (0,3,21)\n",
      " ADD VAL:0.00,0.11 - (0,3) - (0,3,22)\n",
      " ADD VAL:0.00,0.22 - (0,3) - (0,3,23)\n",
      " ADD VAL:0.00,0.00 - (0,3) - (0,3,24)\n",
      " ADD VAL:0.00,0.52 - (0,3) - (0,3,25)\n",
      " ADD VAL:0.00,0.00 - (0,3) - (0,3,26)\n",
      " ADD VAL:0.00,0.00 - (0,3) - (0,3,27)\n",
      " ADD VAL:0.22,0.00 - (0,3) - (0,3,28)\n",
      " ADD VAL:0.59,0.00 - (0,3) - (0,3,29)\n",
      " ADD VAL:0.00,0.00 - (0,3) - (0,3,30)\n",
      " ADD VAL:0.44,0.00 - (0,3) - (0,3,31)\n",
      " ADD VAL:0.47,0.70 - (0,3) - (0,3,32)\n",
      " ADD VAL:0.69,0.00 - (0,3) - (0,3,33)\n",
      " ADD VAL:0.00,0.00 - (0,3) - (0,3,34)\n",
      " ADD VAL:0.00,0.00 - (0,3) - (0,3,35)\n",
      " ADD VAL:0.38,0.00 - (0,3) - (0,3,36)\n",
      " ADD VAL:0.81,0.00 - (0,3) - (0,3,37)\n",
      " ADD VAL:0.98,0.31 - (0,3) - (0,3,38)\n",
      " ADD VAL:0.45,0.00 - (0,3) - (0,3,39)\n",
      " ADD VAL:0.00,0.78 - (0,3) - (0,3,40)\n",
      " ADD VAL:0.00,0.09 - (0,3) - (0,3,41)\n",
      " ADD VAL:0.29,0.00 - (0,3) - (0,3,42)\n",
      " ADD VAL:0.00,0.00 - (0,3) - (0,3,43)\n",
      " ADD VAL:0.04,0.24 - (0,3) - (0,3,44)\n",
      " ADD VAL:0.00,0.00 - (0,3) - (0,3,45)\n",
      " ADD VAL:0.28,0.00 - (0,3) - (0,3,46)\n",
      " ADD VAL:0.00,0.59 - (0,3) - (0,3,47)\n",
      " ADD VAL:0.00,0.50 - (0,3) - (0,3,48)\n",
      " ADD VAL:0.00,0.00 - (0,3) - (0,3,49)\n",
      " ADD VAL:0.42,0.83 - (0,3) - (0,3,50)\n",
      " ADD VAL:0.00,0.06 - (0,3) - (0,3,51)\n",
      " ADD VAL:0.00,0.40 - (0,3) - (0,3,52)\n",
      " ADD VAL:0.00,0.00 - (0,3) - (0,3,53)\n",
      " ADD VAL:0.39,0.51 - (0,3) - (0,3,54)\n",
      " ADD VAL:0.00,0.68 - (0,3) - (0,3,55)\n",
      " ADD VAL:0.00,0.24 - (0,3) - (0,3,56)\n",
      " ADD VAL:0.00,0.25 - (0,3) - (0,3,57)\n",
      " ADD VAL:0.00,0.41 - (0,3) - (0,3,58)\n",
      " ADD VAL:0.00,0.85 - (0,3) - (0,3,59)\n",
      " ADD VAL:0.00,0.00 - (0,3) - (0,3,60)\n",
      " ADD VAL:0.23,0.00 - (0,3) - (0,3,61)\n",
      " ADD VAL:0.00,0.14 - (0,3) - (0,3,62)\n",
      " ADD VAL:0.00,0.00 - (0,3) - (0,3,63)\n",
      " ADD VAL:0.82,0.00 - (0,4) - (0,4,0)\n",
      " ADD VAL:0.00,0.00 - (0,4) - (0,4,1)\n",
      " ADD VAL:0.00,0.00 - (0,4) - (0,4,2)\n",
      " ADD VAL:0.48,0.00 - (0,4) - (0,4,3)\n",
      " ADD VAL:0.91,0.00 - (0,4) - (0,4,4)\n",
      " ADD VAL:0.00,0.49 - (0,4) - (0,4,5)\n",
      " ADD VAL:0.00,0.71 - (0,4) - (0,4,6)\n",
      " ADD VAL:0.88,0.00 - (0,4) - (0,4,7)\n",
      " ADD VAL:0.00,0.00 - (0,4) - (0,4,8)\n",
      " ADD VAL:0.00,0.98 - (0,4) - (0,4,9)\n",
      " ADD VAL:0.00,0.00 - (0,4) - (0,4,10)\n",
      " ADD VAL:0.87,0.00 - (0,4) - (0,4,11)\n",
      " ADD VAL:0.00,0.45 - (0,4) - (0,4,12)\n",
      " ADD VAL:0.00,0.00 - (0,4) - (0,4,13)\n",
      " ADD VAL:0.26,0.00 - (0,4) - (0,4,14)\n",
      " ADD VAL:0.36,0.29 - (0,4) - (0,4,15)\n",
      " ADD VAL:0.00,0.00 - (0,4) - (0,4,16)\n",
      " ADD VAL:0.41,0.76 - (0,4) - (0,4,17)\n",
      " ADD VAL:0.00,0.00 - (0,4) - (0,4,18)\n",
      " ADD VAL:0.00,0.00 - (0,4) - (0,4,19)\n",
      " ADD VAL:0.62,0.00 - (0,4) - (0,4,20)\n",
      " ADD VAL:0.47,0.23 - (0,4) - (0,4,21)\n",
      " ADD VAL:0.00,0.00 - (0,4) - (0,4,22)\n",
      " ADD VAL:0.00,0.00 - (0,4) - (0,4,23)\n",
      " ADD VAL:0.00,0.91 - (0,4) - (0,4,24)\n",
      " ADD VAL:0.00,0.00 - (0,4) - (0,4,25)\n",
      " ADD VAL:0.00,0.93 - (0,4) - (0,4,26)\n",
      " ADD VAL:0.00,0.00 - (0,4) - (0,4,27)\n",
      " ADD VAL:0.22,0.35 - (0,4) - (0,4,28)\n",
      " ADD VAL:0.59,0.00 - (0,4) - (0,4,29)\n",
      " ADD VAL:0.00,0.66 - (0,4) - (0,4,30)\n",
      " ADD VAL:0.44,0.00 - (0,4) - (0,4,31)\n",
      " ADD VAL:0.47,0.00 - (0,4) - (0,4,32)\n",
      " ADD VAL:0.69,0.73 - (0,4) - (0,4,33)\n",
      " ADD VAL:0.00,0.00 - (0,4) - (0,4,34)\n",
      " ADD VAL:0.00,0.48 - (0,4) - (0,4,35)\n",
      " ADD VAL:0.38,0.00 - (0,4) - (0,4,36)\n",
      " ADD VAL:0.81,0.52 - (0,4) - (0,4,37)\n",
      " ADD VAL:0.98,0.00 - (0,4) - (0,4,38)\n",
      " ADD VAL:0.45,0.00 - (0,4) - (0,4,39)\n",
      " ADD VAL:0.00,0.30 - (0,4) - (0,4,40)\n",
      " ADD VAL:0.00,0.00 - (0,4) - (0,4,41)\n",
      " ADD VAL:0.29,0.88 - (0,4) - (0,4,42)\n",
      " ADD VAL:0.00,0.22 - (0,4) - (0,4,43)\n",
      " ADD VAL:0.04,0.00 - (0,4) - (0,4,44)\n",
      " ADD VAL:0.00,0.57 - (0,4) - (0,4,45)\n",
      " ADD VAL:0.28,0.00 - (0,4) - (0,4,46)\n",
      " ADD VAL:0.00,0.12 - (0,4) - (0,4,47)\n",
      " ADD VAL:0.00,0.00 - (0,4) - (0,4,48)\n",
      " ADD VAL:0.00,0.00 - (0,4) - (0,4,49)\n",
      " ADD VAL:0.42,0.00 - (0,4) - (0,4,50)\n",
      " ADD VAL:0.00,0.00 - (0,4) - (0,4,51)\n",
      " ADD VAL:0.00,0.00 - (0,4) - (0,4,52)\n",
      " ADD VAL:0.00,0.00 - (0,4) - (0,4,53)\n",
      " ADD VAL:0.39,0.69 - (0,4) - (0,4,54)\n",
      " ADD VAL:0.00,0.00 - (0,4) - (0,4,55)\n",
      " ADD VAL:0.00,0.00 - (0,4) - (0,4,56)\n",
      " ADD VAL:0.00,0.00 - (0,4) - (0,4,57)\n",
      " ADD VAL:0.00,0.51 - (0,4) - (0,4,58)\n",
      " ADD VAL:0.00,0.00 - (0,4) - (0,4,59)\n",
      " ADD VAL:0.00,0.66 - (0,4) - (0,4,60)\n",
      " ADD VAL:0.23,0.29 - (0,4) - (0,4,61)\n",
      " ADD VAL:0.00,0.98 - (0,4) - (0,4,62)\n",
      " ADD VAL:0.00,0.34 - (0,4) - (0,4,63)"
     ]
    },
    {
     "data": {
      "text/plain": [
       "<pyopencl._cl.NannyEvent at 0x7ff154171d10>"
      ]
     },
     "execution_count": 293,
     "metadata": {},
     "output_type": "execute_result"
    }
   ],
   "source": [
    "resxsum = np.zeros(a.shape[0]).astype(np.float32)\n",
    "resysum = np.zeros(b.shape[1]).astype(np.float32)\n",
    "resxidx = np.zeros(topkx).astype(np.uint32)\n",
    "resyidx = np.zeros(topky).astype(np.uint32)\n",
    "resxdat = np.zeros(a.shape[0]*topkx).astype(np.float32)\n",
    "resxcol = np.zeros(a.shape[0]*topkx).astype(np.uint32)\n",
    "resxnnz = np.zeros(a.shape[0]).astype(np.uint32)\n",
    "resxdatt = np.zeros(b.shape[1]*topky).astype(np.float32)\n",
    "resxcolt = np.zeros(b.shape[1]*topky).astype(np.uint32)\n",
    "resxnnzt = np.zeros(b.shape[1]).astype(np.uint32)\n",
    "\n",
    "cl.enqueue_copy(queue, resxsum, x_sum_buf)\n",
    "cl.enqueue_copy(queue, resysum, y_sum_buf)\n",
    "cl.enqueue_copy(queue, resxidx, x_idx_buf)\n",
    "cl.enqueue_copy(queue, resyidx, y_idx_buf)\n",
    "cl.enqueue_copy(queue, resxdat, sdata_buf)\n",
    "cl.enqueue_copy(queue, resxcol, sidxs_buf)\n",
    "cl.enqueue_copy(queue, resxnnz, snnzs_buf)\n",
    "cl.enqueue_copy(queue, resxdatt, sdatat_buf)\n",
    "cl.enqueue_copy(queue, resxcolt, sidxst_buf)\n",
    "cl.enqueue_copy(queue, resxnnzt, snnzst_buf)"
   ]
  },
  {
   "cell_type": "markdown",
   "id": "dea93e80",
   "metadata": {},
   "source": [
    "## results"
   ]
  },
  {
   "cell_type": "code",
   "execution_count": 294,
   "id": "9766b1de",
   "metadata": {},
   "outputs": [
    {
     "data": {
      "text/plain": [
       "(5, 8)"
      ]
     },
     "execution_count": 294,
     "metadata": {},
     "output_type": "execute_result"
    }
   ],
   "source": [
    "topkx, topky"
   ]
  },
  {
   "cell_type": "code",
   "execution_count": 295,
   "id": "0720afd1",
   "metadata": {},
   "outputs": [
    {
     "data": {
      "text/plain": [
       "(32, 10)"
      ]
     },
     "execution_count": 295,
     "metadata": {},
     "output_type": "execute_result"
    }
   ],
   "source": [
    "mult.shape"
   ]
  },
  {
   "cell_type": "code",
   "execution_count": 296,
   "id": "50b4656b",
   "metadata": {},
   "outputs": [
    {
     "data": {
      "text/plain": [
       "array([[2.0588999 , 1.8681664 , 4.811817  , 2.2529387 , 2.1096544 ,\n",
       "        1.3379606 , 2.9000037 , 2.0491414 , 2.5897803 , 1.5031604 ],\n",
       "       [2.732146  , 2.5565495 , 3.714852  , 1.967403  , 2.7812793 ,\n",
       "        3.9070148 , 3.2777538 , 2.2969038 , 1.9229925 , 2.6556396 ],\n",
       "       [1.928745  , 3.1600957 , 2.6502829 , 1.8178726 , 3.2470448 ,\n",
       "        2.285428  , 2.6365926 , 2.5166864 , 1.070901  , 2.0605705 ],\n",
       "       [1.063185  , 4.1737986 , 2.2277255 , 1.2515675 , 4.1827664 ,\n",
       "        1.2915825 , 1.3805095 , 3.4198837 , 1.0256768 , 2.7755067 ],\n",
       "       [1.1833991 , 1.8557596 , 3.0534244 , 1.0722461 , 3.4905617 ,\n",
       "        1.643646  , 3.453313  , 3.808668  , 0.65044206, 2.0563726 ],\n",
       "       [1.0461621 , 3.5566838 , 3.2101297 , 1.572406  , 2.2809083 ,\n",
       "        1.8500901 , 1.3386623 , 4.39698   , 1.5621432 , 1.7725785 ],\n",
       "       [1.5166444 , 2.5048141 , 1.3417709 , 3.5234869 , 2.7652483 ,\n",
       "        1.1395355 , 2.25748   , 4.705172  , 2.2430854 , 1.8194562 ],\n",
       "       [1.6907904 , 2.3283677 , 1.7894993 , 2.1847265 , 2.8551002 ,\n",
       "        0.79378396, 1.7964936 , 3.5471232 , 1.9625643 , 1.3657154 ],\n",
       "       [1.2141374 , 2.9877534 , 3.1018186 , 3.629979  , 3.6487942 ,\n",
       "        1.808532  , 2.6615262 , 3.3801854 , 2.1941547 , 2.0062847 ],\n",
       "       [2.0491679 , 3.8442254 , 5.2590375 , 2.6086452 , 2.5204127 ,\n",
       "        2.845815  , 2.089722  , 2.0366    , 1.8493687 , 2.002032  ],\n",
       "       [1.4538853 , 3.52397   , 3.426971  , 0.94891644, 3.4088016 ,\n",
       "        1.826241  , 2.6029367 , 2.0418024 , 2.1847632 , 0.74823964],\n",
       "       [2.1386282 , 2.708146  , 1.742439  , 2.366699  , 2.55557   ,\n",
       "        1.021245  , 2.8354404 , 3.1261184 , 1.642767  , 1.4917253 ],\n",
       "       [2.2865992 , 3.9609175 , 3.3584628 , 2.9336588 , 2.459155  ,\n",
       "        2.2523775 , 2.647436  , 0.89587307, 2.0110953 , 2.1063092 ],\n",
       "       [1.9966788 , 2.9262302 , 4.8778872 , 1.2208712 , 3.4192896 ,\n",
       "        2.3487628 , 2.9560015 , 1.5107096 , 1.5358572 , 1.5315988 ],\n",
       "       [0.48399195, 2.1673245 , 2.2968588 , 2.7774973 , 2.5966098 ,\n",
       "        3.4832177 , 2.690391  , 4.0917354 , 0.23865944, 2.9819653 ],\n",
       "       [2.0954764 , 2.4307942 , 3.4558418 , 2.9896178 , 1.5231056 ,\n",
       "        3.422842  , 3.3150718 , 3.5051725 , 2.1653447 , 3.1134186 ],\n",
       "       [1.5846765 , 2.661023  , 2.4769669 , 3.470964  , 1.4431835 ,\n",
       "        2.3999262 , 3.9011345 , 3.248538  , 1.4247626 , 1.2602935 ],\n",
       "       [0.49207467, 2.325397  , 2.2815886 , 2.2696066 , 3.3333156 ,\n",
       "        2.4349878 , 2.0514407 , 3.2246497 , 1.6171042 , 1.6073767 ],\n",
       "       [2.5375338 , 2.4817715 , 2.6368468 , 2.0569093 , 4.3929462 ,\n",
       "        1.4862403 , 3.4939742 , 2.2332757 , 1.7737362 , 1.7618244 ],\n",
       "       [2.0678236 , 1.8836694 , 1.3364539 , 1.7425246 , 2.3898618 ,\n",
       "        1.1566195 , 2.628559  , 3.6502156 , 2.121294  , 1.3199686 ],\n",
       "       [1.8444016 , 2.2461612 , 3.215194  , 3.8432117 , 2.2398164 ,\n",
       "        1.8269355 , 4.414732  , 3.723146  , 0.50411344, 2.1435022 ],\n",
       "       [2.6537714 , 1.1732535 , 3.0079815 , 2.5904036 , 3.0474715 ,\n",
       "        1.8404907 , 2.6261342 , 1.1304994 , 1.8776394 , 0.85143405],\n",
       "       [0.6337883 , 3.3086834 , 1.4530784 , 2.515975  , 3.5047786 ,\n",
       "        1.1553439 , 2.8253915 , 3.52668   , 1.043268  , 2.3298826 ],\n",
       "       [1.3287122 , 2.5962925 , 1.9194646 , 1.8967655 , 5.310211  ,\n",
       "        2.868525  , 3.0769377 , 1.7588413 , 0.40501967, 2.9207122 ],\n",
       "       [0.84001315, 2.0994346 , 2.1460192 , 1.5992    , 2.236392  ,\n",
       "        1.5488653 , 3.224863  , 1.7908863 , 0.7113455 , 2.6308084 ],\n",
       "       [0.9592351 , 2.4799027 , 2.593933  , 3.6836722 , 2.6314456 ,\n",
       "        2.4646401 , 3.572547  , 3.2011003 , 1.1519556 , 1.662165  ],\n",
       "       [0.8192115 , 1.8272312 , 1.7956815 , 1.8296847 , 2.9964643 ,\n",
       "        2.2758198 , 2.3479474 , 2.8243022 , 1.1362125 , 2.8853436 ],\n",
       "       [3.6204023 , 1.9968116 , 1.7490085 , 2.9469256 , 3.12177   ,\n",
       "        2.235736  , 5.2850986 , 1.5726624 , 1.4582067 , 1.2513807 ],\n",
       "       [1.0327702 , 2.8972735 , 2.6707854 , 1.6554506 , 3.8221254 ,\n",
       "        2.0219557 , 2.4419675 , 3.9295774 , 1.2823715 , 1.2512529 ],\n",
       "       [1.9287269 , 1.5045323 , 3.3143744 , 3.7100654 , 3.0415392 ,\n",
       "        1.8443446 , 2.0636263 , 2.3276868 , 1.2617    , 1.081305  ],\n",
       "       [1.5923332 , 3.8162732 , 3.0520544 , 0.9159544 , 4.5526114 ,\n",
       "        1.9873202 , 2.4606779 , 2.2672033 , 0.9068908 , 1.9620786 ],\n",
       "       [1.0044551 , 3.2946215 , 1.9445477 , 3.2131855 , 3.7743635 ,\n",
       "        2.93666   , 3.0328484 , 2.7435503 , 1.2155869 , 0.9583244 ]],\n",
       "      dtype=float32)"
      ]
     },
     "execution_count": 296,
     "metadata": {},
     "output_type": "execute_result"
    }
   ],
   "source": [
    "mult"
   ]
  },
  {
   "cell_type": "code",
   "execution_count": 297,
   "id": "2bac1009",
   "metadata": {},
   "outputs": [
    {
     "data": {
      "text/plain": [
       "array([[2.0588999, 1.8681664, 4.811817 , 2.2529387, 2.1096544, 0.       ,\n",
       "        0.       , 0.       , 0.       , 0.       ],\n",
       "       [2.732146 , 2.5565495, 3.714852 , 1.967403 , 2.7812793, 0.       ,\n",
       "        0.       , 0.       , 0.       , 0.       ],\n",
       "       [1.928745 , 3.1600957, 2.6502829, 1.8178726, 3.2470448, 0.       ,\n",
       "        0.       , 0.       , 0.       , 0.       ],\n",
       "       [1.063185 , 4.1737986, 2.2277255, 1.2515675, 4.1827664, 0.       ,\n",
       "        0.       , 0.       , 0.       , 0.       ],\n",
       "       [1.1833991, 1.8557596, 3.0534244, 1.0722461, 3.4905617, 0.       ,\n",
       "        0.       , 0.       , 0.       , 0.       ],\n",
       "       [1.0461621, 3.5566838, 3.2101297, 1.572406 , 2.2809083, 0.       ,\n",
       "        0.       , 0.       , 0.       , 0.       ],\n",
       "       [1.5166444, 2.5048141, 1.3417709, 3.5234869, 2.7652483, 0.       ,\n",
       "        0.       , 0.       , 0.       , 0.       ],\n",
       "       [1.6907904, 2.3283677, 1.7894993, 2.1847265, 2.8551002, 0.       ,\n",
       "        0.       , 0.       , 0.       , 0.       ]], dtype=float32)"
      ]
     },
     "execution_count": 297,
     "metadata": {},
     "output_type": "execute_result"
    }
   ],
   "source": [
    "resxdatt.reshape(b.shape[1],topky).T"
   ]
  },
  {
   "cell_type": "code",
   "execution_count": 298,
   "id": "c654a52b",
   "metadata": {},
   "outputs": [
    {
     "data": {
      "text/plain": [
       "array([[0, 1, 2, 3, 4],\n",
       "       [0, 1, 2, 3, 4],\n",
       "       [0, 1, 2, 3, 4],\n",
       "       [0, 1, 2, 3, 4],\n",
       "       [0, 1, 2, 3, 4],\n",
       "       [0, 1, 2, 3, 4],\n",
       "       [0, 1, 2, 3, 4],\n",
       "       [0, 1, 2, 3, 4],\n",
       "       [0, 0, 0, 0, 0],\n",
       "       [0, 0, 0, 0, 0],\n",
       "       [0, 0, 0, 0, 0],\n",
       "       [0, 0, 0, 0, 0],\n",
       "       [0, 0, 0, 0, 0],\n",
       "       [0, 0, 0, 0, 0],\n",
       "       [0, 0, 0, 0, 0],\n",
       "       [0, 0, 0, 0, 0],\n",
       "       [0, 0, 0, 0, 0],\n",
       "       [0, 0, 0, 0, 0],\n",
       "       [0, 0, 0, 0, 0],\n",
       "       [0, 0, 0, 0, 0],\n",
       "       [0, 0, 0, 0, 0],\n",
       "       [0, 0, 0, 0, 0],\n",
       "       [0, 0, 0, 0, 0],\n",
       "       [0, 0, 0, 0, 0],\n",
       "       [0, 0, 0, 0, 0],\n",
       "       [0, 0, 0, 0, 0],\n",
       "       [0, 0, 0, 0, 0],\n",
       "       [0, 0, 0, 0, 0],\n",
       "       [0, 0, 0, 0, 0],\n",
       "       [0, 0, 0, 0, 0],\n",
       "       [0, 0, 0, 0, 0],\n",
       "       [0, 0, 0, 0, 0]], dtype=uint32)"
      ]
     },
     "execution_count": 298,
     "metadata": {},
     "output_type": "execute_result"
    }
   ],
   "source": [
    "resxcol.reshape(a.shape[0],topkx)"
   ]
  },
  {
   "cell_type": "code",
   "execution_count": 299,
   "id": "25673d3c",
   "metadata": {},
   "outputs": [
    {
     "data": {
      "text/plain": [
       "array([5, 5, 5, 5, 5, 5, 5, 5, 0, 0, 0, 0, 0, 0, 0, 0, 0, 0, 0, 0, 0, 0,\n",
       "       0, 0, 0, 0, 0, 0, 0, 0, 0, 0], dtype=uint32)"
      ]
     },
     "execution_count": 299,
     "metadata": {},
     "output_type": "execute_result"
    }
   ],
   "source": [
    "resxnnz.reshape(a.shape[0])"
   ]
  },
  {
   "cell_type": "code",
   "execution_count": 300,
   "id": "7fb50f87",
   "metadata": {},
   "outputs": [
    {
     "data": {
      "text/plain": [
       "array([[2.0588999, 2.732146 , 1.928745 , 1.063185 , 1.1833991, 1.0461621,\n",
       "        1.5166444, 1.6907904],\n",
       "       [1.8681664, 2.5565495, 3.1600957, 4.1737986, 1.8557596, 3.5566838,\n",
       "        2.5048141, 2.3283677],\n",
       "       [4.811817 , 3.714852 , 2.6502829, 2.2277255, 3.0534244, 3.2101297,\n",
       "        1.3417709, 1.7894993],\n",
       "       [2.2529387, 1.967403 , 1.8178726, 1.2515675, 1.0722461, 1.572406 ,\n",
       "        3.5234869, 2.1847265],\n",
       "       [2.1096544, 2.7812793, 3.2470448, 4.1827664, 3.4905617, 2.2809083,\n",
       "        2.7652483, 2.8551002],\n",
       "       [0.       , 0.       , 0.       , 0.       , 0.       , 0.       ,\n",
       "        0.       , 0.       ],\n",
       "       [0.       , 0.       , 0.       , 0.       , 0.       , 0.       ,\n",
       "        0.       , 0.       ],\n",
       "       [0.       , 0.       , 0.       , 0.       , 0.       , 0.       ,\n",
       "        0.       , 0.       ],\n",
       "       [0.       , 0.       , 0.       , 0.       , 0.       , 0.       ,\n",
       "        0.       , 0.       ],\n",
       "       [0.       , 0.       , 0.       , 0.       , 0.       , 0.       ,\n",
       "        0.       , 0.       ]], dtype=float32)"
      ]
     },
     "execution_count": 300,
     "metadata": {},
     "output_type": "execute_result"
    }
   ],
   "source": [
    "resxdatt.reshape(b.shape[1],topky)"
   ]
  },
  {
   "cell_type": "code",
   "execution_count": 301,
   "id": "e7f50303",
   "metadata": {},
   "outputs": [
    {
     "data": {
      "text/plain": [
       "array([[0, 1, 2, 3, 4, 5, 6, 7],\n",
       "       [0, 1, 2, 3, 4, 5, 6, 7],\n",
       "       [0, 1, 2, 3, 4, 5, 6, 7],\n",
       "       [0, 1, 2, 3, 4, 5, 6, 7],\n",
       "       [0, 1, 2, 3, 4, 5, 6, 7],\n",
       "       [0, 0, 0, 0, 0, 0, 0, 0],\n",
       "       [0, 0, 0, 0, 0, 0, 0, 0],\n",
       "       [0, 0, 0, 0, 0, 0, 0, 0],\n",
       "       [0, 0, 0, 0, 0, 0, 0, 0],\n",
       "       [0, 0, 0, 0, 0, 0, 0, 0]], dtype=uint32)"
      ]
     },
     "execution_count": 301,
     "metadata": {},
     "output_type": "execute_result"
    }
   ],
   "source": [
    "resxcolt.reshape(b.shape[1],topky)"
   ]
  },
  {
   "cell_type": "code",
   "execution_count": 302,
   "id": "8ceb2165",
   "metadata": {},
   "outputs": [
    {
     "data": {
      "text/plain": [
       "array([8, 8, 8, 8, 8, 0, 0, 0, 0, 0], dtype=uint32)"
      ]
     },
     "execution_count": 302,
     "metadata": {},
     "output_type": "execute_result"
    }
   ],
   "source": [
    "resxnnzt.reshape(b.shape[1])"
   ]
  },
  {
   "cell_type": "code",
   "execution_count": 303,
   "id": "504b6134",
   "metadata": {},
   "outputs": [
    {
     "data": {
      "text/plain": [
       "array([[2.05889988, 1.86816645, 4.81181717, 2.25293875, 2.10965443,\n",
       "        0.        , 0.        , 0.        , 0.        , 0.        ],\n",
       "       [2.73214602, 2.55654955, 3.71485209, 1.96740305, 2.78127933,\n",
       "        0.        , 0.        , 0.        , 0.        , 0.        ],\n",
       "       [1.92874503, 3.16009569, 2.65028286, 1.81787264, 3.2470448 ,\n",
       "        0.        , 0.        , 0.        , 0.        , 0.        ],\n",
       "       [1.06318498, 4.17379856, 2.22772551, 1.25156748, 4.18276644,\n",
       "        0.        , 0.        , 0.        , 0.        , 0.        ],\n",
       "       [1.18339908, 1.85575962, 3.05342436, 1.07224607, 3.49056172,\n",
       "        0.        , 0.        , 0.        , 0.        , 0.        ],\n",
       "       [1.04616213, 3.55668378, 3.21012974, 1.57240605, 2.28090835,\n",
       "        0.        , 0.        , 0.        , 0.        , 0.        ],\n",
       "       [1.51664436, 2.50481415, 1.34177089, 3.52348685, 2.7652483 ,\n",
       "        0.        , 0.        , 0.        , 0.        , 0.        ],\n",
       "       [1.69079041, 2.32836771, 1.78949928, 2.18472648, 2.85510015,\n",
       "        0.        , 0.        , 0.        , 0.        , 0.        ],\n",
       "       [0.        , 0.        , 0.        , 0.        , 0.        ,\n",
       "        0.        , 0.        , 0.        , 0.        , 0.        ],\n",
       "       [0.        , 0.        , 0.        , 0.        , 0.        ,\n",
       "        0.        , 0.        , 0.        , 0.        , 0.        ],\n",
       "       [0.        , 0.        , 0.        , 0.        , 0.        ,\n",
       "        0.        , 0.        , 0.        , 0.        , 0.        ],\n",
       "       [0.        , 0.        , 0.        , 0.        , 0.        ,\n",
       "        0.        , 0.        , 0.        , 0.        , 0.        ],\n",
       "       [0.        , 0.        , 0.        , 0.        , 0.        ,\n",
       "        0.        , 0.        , 0.        , 0.        , 0.        ],\n",
       "       [0.        , 0.        , 0.        , 0.        , 0.        ,\n",
       "        0.        , 0.        , 0.        , 0.        , 0.        ],\n",
       "       [0.        , 0.        , 0.        , 0.        , 0.        ,\n",
       "        0.        , 0.        , 0.        , 0.        , 0.        ],\n",
       "       [0.        , 0.        , 0.        , 0.        , 0.        ,\n",
       "        0.        , 0.        , 0.        , 0.        , 0.        ],\n",
       "       [0.        , 0.        , 0.        , 0.        , 0.        ,\n",
       "        0.        , 0.        , 0.        , 0.        , 0.        ],\n",
       "       [0.        , 0.        , 0.        , 0.        , 0.        ,\n",
       "        0.        , 0.        , 0.        , 0.        , 0.        ],\n",
       "       [0.        , 0.        , 0.        , 0.        , 0.        ,\n",
       "        0.        , 0.        , 0.        , 0.        , 0.        ],\n",
       "       [0.        , 0.        , 0.        , 0.        , 0.        ,\n",
       "        0.        , 0.        , 0.        , 0.        , 0.        ],\n",
       "       [0.        , 0.        , 0.        , 0.        , 0.        ,\n",
       "        0.        , 0.        , 0.        , 0.        , 0.        ],\n",
       "       [0.        , 0.        , 0.        , 0.        , 0.        ,\n",
       "        0.        , 0.        , 0.        , 0.        , 0.        ],\n",
       "       [0.        , 0.        , 0.        , 0.        , 0.        ,\n",
       "        0.        , 0.        , 0.        , 0.        , 0.        ],\n",
       "       [0.        , 0.        , 0.        , 0.        , 0.        ,\n",
       "        0.        , 0.        , 0.        , 0.        , 0.        ],\n",
       "       [0.        , 0.        , 0.        , 0.        , 0.        ,\n",
       "        0.        , 0.        , 0.        , 0.        , 0.        ],\n",
       "       [0.        , 0.        , 0.        , 0.        , 0.        ,\n",
       "        0.        , 0.        , 0.        , 0.        , 0.        ],\n",
       "       [0.        , 0.        , 0.        , 0.        , 0.        ,\n",
       "        0.        , 0.        , 0.        , 0.        , 0.        ],\n",
       "       [0.        , 0.        , 0.        , 0.        , 0.        ,\n",
       "        0.        , 0.        , 0.        , 0.        , 0.        ],\n",
       "       [0.        , 0.        , 0.        , 0.        , 0.        ,\n",
       "        0.        , 0.        , 0.        , 0.        , 0.        ],\n",
       "       [0.        , 0.        , 0.        , 0.        , 0.        ,\n",
       "        0.        , 0.        , 0.        , 0.        , 0.        ],\n",
       "       [0.        , 0.        , 0.        , 0.        , 0.        ,\n",
       "        0.        , 0.        , 0.        , 0.        , 0.        ],\n",
       "       [0.        , 0.        , 0.        , 0.        , 0.        ,\n",
       "        0.        , 0.        , 0.        , 0.        , 0.        ]])"
      ]
     },
     "execution_count": 303,
     "metadata": {},
     "output_type": "execute_result"
    }
   ],
   "source": [
    "resdense = to_dense(resxdat, resxcol, resxnnz, topkx, mult.shape)\n",
    "resdense"
   ]
  },
  {
   "cell_type": "code",
   "execution_count": 304,
   "id": "9623d03b",
   "metadata": {},
   "outputs": [
    {
     "data": {
      "text/plain": [
       "array([[2.05889988, 2.73214602, 1.92874503, 1.06318498, 1.18339908,\n",
       "        1.04616213, 1.51664436, 1.69079041, 0.        , 0.        ,\n",
       "        0.        , 0.        , 0.        , 0.        , 0.        ,\n",
       "        0.        , 0.        , 0.        , 0.        , 0.        ,\n",
       "        0.        , 0.        , 0.        , 0.        , 0.        ,\n",
       "        0.        , 0.        , 0.        , 0.        , 0.        ,\n",
       "        0.        , 0.        ],\n",
       "       [1.86816645, 2.55654955, 3.16009569, 4.17379856, 1.85575962,\n",
       "        3.55668378, 2.50481415, 2.32836771, 0.        , 0.        ,\n",
       "        0.        , 0.        , 0.        , 0.        , 0.        ,\n",
       "        0.        , 0.        , 0.        , 0.        , 0.        ,\n",
       "        0.        , 0.        , 0.        , 0.        , 0.        ,\n",
       "        0.        , 0.        , 0.        , 0.        , 0.        ,\n",
       "        0.        , 0.        ],\n",
       "       [4.81181717, 3.71485209, 2.65028286, 2.22772551, 3.05342436,\n",
       "        3.21012974, 1.34177089, 1.78949928, 0.        , 0.        ,\n",
       "        0.        , 0.        , 0.        , 0.        , 0.        ,\n",
       "        0.        , 0.        , 0.        , 0.        , 0.        ,\n",
       "        0.        , 0.        , 0.        , 0.        , 0.        ,\n",
       "        0.        , 0.        , 0.        , 0.        , 0.        ,\n",
       "        0.        , 0.        ],\n",
       "       [2.25293875, 1.96740305, 1.81787264, 1.25156748, 1.07224607,\n",
       "        1.57240605, 3.52348685, 2.18472648, 0.        , 0.        ,\n",
       "        0.        , 0.        , 0.        , 0.        , 0.        ,\n",
       "        0.        , 0.        , 0.        , 0.        , 0.        ,\n",
       "        0.        , 0.        , 0.        , 0.        , 0.        ,\n",
       "        0.        , 0.        , 0.        , 0.        , 0.        ,\n",
       "        0.        , 0.        ],\n",
       "       [2.10965443, 2.78127933, 3.2470448 , 4.18276644, 3.49056172,\n",
       "        2.28090835, 2.7652483 , 2.85510015, 0.        , 0.        ,\n",
       "        0.        , 0.        , 0.        , 0.        , 0.        ,\n",
       "        0.        , 0.        , 0.        , 0.        , 0.        ,\n",
       "        0.        , 0.        , 0.        , 0.        , 0.        ,\n",
       "        0.        , 0.        , 0.        , 0.        , 0.        ,\n",
       "        0.        , 0.        ],\n",
       "       [0.        , 0.        , 0.        , 0.        , 0.        ,\n",
       "        0.        , 0.        , 0.        , 0.        , 0.        ,\n",
       "        0.        , 0.        , 0.        , 0.        , 0.        ,\n",
       "        0.        , 0.        , 0.        , 0.        , 0.        ,\n",
       "        0.        , 0.        , 0.        , 0.        , 0.        ,\n",
       "        0.        , 0.        , 0.        , 0.        , 0.        ,\n",
       "        0.        , 0.        ],\n",
       "       [0.        , 0.        , 0.        , 0.        , 0.        ,\n",
       "        0.        , 0.        , 0.        , 0.        , 0.        ,\n",
       "        0.        , 0.        , 0.        , 0.        , 0.        ,\n",
       "        0.        , 0.        , 0.        , 0.        , 0.        ,\n",
       "        0.        , 0.        , 0.        , 0.        , 0.        ,\n",
       "        0.        , 0.        , 0.        , 0.        , 0.        ,\n",
       "        0.        , 0.        ],\n",
       "       [0.        , 0.        , 0.        , 0.        , 0.        ,\n",
       "        0.        , 0.        , 0.        , 0.        , 0.        ,\n",
       "        0.        , 0.        , 0.        , 0.        , 0.        ,\n",
       "        0.        , 0.        , 0.        , 0.        , 0.        ,\n",
       "        0.        , 0.        , 0.        , 0.        , 0.        ,\n",
       "        0.        , 0.        , 0.        , 0.        , 0.        ,\n",
       "        0.        , 0.        ],\n",
       "       [0.        , 0.        , 0.        , 0.        , 0.        ,\n",
       "        0.        , 0.        , 0.        , 0.        , 0.        ,\n",
       "        0.        , 0.        , 0.        , 0.        , 0.        ,\n",
       "        0.        , 0.        , 0.        , 0.        , 0.        ,\n",
       "        0.        , 0.        , 0.        , 0.        , 0.        ,\n",
       "        0.        , 0.        , 0.        , 0.        , 0.        ,\n",
       "        0.        , 0.        ],\n",
       "       [0.        , 0.        , 0.        , 0.        , 0.        ,\n",
       "        0.        , 0.        , 0.        , 0.        , 0.        ,\n",
       "        0.        , 0.        , 0.        , 0.        , 0.        ,\n",
       "        0.        , 0.        , 0.        , 0.        , 0.        ,\n",
       "        0.        , 0.        , 0.        , 0.        , 0.        ,\n",
       "        0.        , 0.        , 0.        , 0.        , 0.        ,\n",
       "        0.        , 0.        ]])"
      ]
     },
     "execution_count": 304,
     "metadata": {},
     "output_type": "execute_result"
    }
   ],
   "source": [
    "resdenset = to_dense(resxdatt, resxcolt, resxnnzt, topky, mult.T.shape)\n",
    "resdenset"
   ]
  },
  {
   "cell_type": "code",
   "execution_count": 305,
   "id": "df7e3ca8",
   "metadata": {},
   "outputs": [
    {
     "data": {
      "text/plain": [
       "array([[ True,  True,  True,  True,  True,  True,  True,  True,  True,\n",
       "         True],\n",
       "       [ True,  True,  True,  True,  True,  True,  True,  True,  True,\n",
       "         True],\n",
       "       [ True,  True,  True,  True,  True,  True,  True,  True,  True,\n",
       "         True],\n",
       "       [ True,  True,  True,  True,  True,  True,  True,  True,  True,\n",
       "         True],\n",
       "       [ True,  True,  True,  True,  True,  True,  True,  True,  True,\n",
       "         True],\n",
       "       [ True,  True,  True,  True,  True,  True,  True,  True,  True,\n",
       "         True],\n",
       "       [ True,  True,  True,  True,  True,  True,  True,  True,  True,\n",
       "         True],\n",
       "       [ True,  True,  True,  True,  True,  True,  True,  True,  True,\n",
       "         True],\n",
       "       [ True,  True,  True,  True,  True,  True,  True,  True,  True,\n",
       "         True],\n",
       "       [ True,  True,  True,  True,  True,  True,  True,  True,  True,\n",
       "         True],\n",
       "       [ True,  True,  True,  True,  True,  True,  True,  True,  True,\n",
       "         True],\n",
       "       [ True,  True,  True,  True,  True,  True,  True,  True,  True,\n",
       "         True],\n",
       "       [ True,  True,  True,  True,  True,  True,  True,  True,  True,\n",
       "         True],\n",
       "       [ True,  True,  True,  True,  True,  True,  True,  True,  True,\n",
       "         True],\n",
       "       [ True,  True,  True,  True,  True,  True,  True,  True,  True,\n",
       "         True],\n",
       "       [ True,  True,  True,  True,  True,  True,  True,  True,  True,\n",
       "         True],\n",
       "       [ True,  True,  True,  True,  True,  True,  True,  True,  True,\n",
       "         True],\n",
       "       [ True,  True,  True,  True,  True,  True,  True,  True,  True,\n",
       "         True],\n",
       "       [ True,  True,  True,  True,  True,  True,  True,  True,  True,\n",
       "         True],\n",
       "       [ True,  True,  True,  True,  True,  True,  True,  True,  True,\n",
       "         True],\n",
       "       [ True,  True,  True,  True,  True,  True,  True,  True,  True,\n",
       "         True],\n",
       "       [ True,  True,  True,  True,  True,  True,  True,  True,  True,\n",
       "         True],\n",
       "       [ True,  True,  True,  True,  True,  True,  True,  True,  True,\n",
       "         True],\n",
       "       [ True,  True,  True,  True,  True,  True,  True,  True,  True,\n",
       "         True],\n",
       "       [ True,  True,  True,  True,  True,  True,  True,  True,  True,\n",
       "         True],\n",
       "       [ True,  True,  True,  True,  True,  True,  True,  True,  True,\n",
       "         True],\n",
       "       [ True,  True,  True,  True,  True,  True,  True,  True,  True,\n",
       "         True],\n",
       "       [ True,  True,  True,  True,  True,  True,  True,  True,  True,\n",
       "         True],\n",
       "       [ True,  True,  True,  True,  True,  True,  True,  True,  True,\n",
       "         True],\n",
       "       [ True,  True,  True,  True,  True,  True,  True,  True,  True,\n",
       "         True],\n",
       "       [ True,  True,  True,  True,  True,  True,  True,  True,  True,\n",
       "         True],\n",
       "       [ True,  True,  True,  True,  True,  True,  True,  True,  True,\n",
       "         True]])"
      ]
     },
     "execution_count": 305,
     "metadata": {},
     "output_type": "execute_result"
    }
   ],
   "source": [
    "resdense == resdenset.T"
   ]
  },
  {
   "cell_type": "markdown",
   "id": "ea6111fe",
   "metadata": {},
   "source": [
    "## comp"
   ]
  },
  {
   "cell_type": "code",
   "execution_count": 306,
   "id": "e774d6a9",
   "metadata": {},
   "outputs": [
    {
     "data": {
      "text/plain": [
       "array([12.76748 , 14.331857, 12.688714, 12.07191 , 13.300738, 12.708889,\n",
       "       12.793668, 11.246282, 14.091072, 15.491286, 11.640156, 11.718621,\n",
       "       12.305711, 13.083982, 13.09949 , 15.235169, 13.033628, 11.034429,\n",
       "       12.793446, 11.830815, 13.510073, 11.045941, 11.79129 , 14.116871,\n",
       "       11.174588, 13.510384, 12.001365, 13.343121, 12.215005, 11.441105,\n",
       "       13.634347, 12.86991 ], dtype=float32)"
      ]
     },
     "execution_count": 306,
     "metadata": {},
     "output_type": "execute_result"
    }
   ],
   "source": [
    "resxsum"
   ]
  },
  {
   "cell_type": "code",
   "execution_count": 307,
   "id": "0a7a1435",
   "metadata": {},
   "outputs": [
    {
     "data": {
      "text/plain": [
       "array([12.76748  , 14.331858 , 12.688716 , 12.07191  , 13.300737 ,\n",
       "       12.708889 , 12.793668 , 11.246283 , 14.09107  , 15.491286 ,\n",
       "       11.640156 , 11.718621 , 12.30571  , 13.0839815, 13.099489 ,\n",
       "       15.23517  , 13.03363  , 11.0344305, 12.7934475, 11.830814 ,\n",
       "       13.510073 , 11.045944 , 11.791291 , 14.11687  , 11.174588 ,\n",
       "       13.510384 , 12.001363 , 13.343121 , 12.215002 , 11.441103 ,\n",
       "       13.634346 , 12.86991  ], dtype=float32)"
      ]
     },
     "execution_count": 307,
     "metadata": {},
     "output_type": "execute_result"
    }
   ],
   "source": [
    "a.sum(axis=1)"
   ]
  },
  {
   "cell_type": "code",
   "execution_count": 308,
   "id": "eb6d9343",
   "metadata": {},
   "outputs": [
    {
     "data": {
      "text/plain": [
       "array([ 8.32111 , 12.586111, 12.924564, 12.377018, 14.048852, 11.051554,\n",
       "       14.963384, 14.75957 ,  7.215166, 10.108348], dtype=float32)"
      ]
     },
     "execution_count": 308,
     "metadata": {},
     "output_type": "execute_result"
    }
   ],
   "source": [
    "resysum"
   ]
  },
  {
   "cell_type": "code",
   "execution_count": 309,
   "id": "43b77cf4",
   "metadata": {},
   "outputs": [
    {
     "data": {
      "text/plain": [
       "array([ 8.32111 , 12.586111, 12.924564, 12.377018, 14.048852, 11.051554,\n",
       "       14.963384, 14.75957 ,  7.215166, 10.108348], dtype=float32)"
      ]
     },
     "execution_count": 309,
     "metadata": {},
     "output_type": "execute_result"
    }
   ],
   "source": [
    "b.sum(axis=0)"
   ]
  },
  {
   "cell_type": "code",
   "execution_count": 310,
   "id": "c251ffa3",
   "metadata": {},
   "outputs": [
    {
     "data": {
      "text/plain": [
       "array([[2.0588999 , 1.8681664 , 4.811817  , 2.2529387 , 2.1096544 ,\n",
       "        1.3379606 , 2.9000037 , 2.0491414 , 2.5897803 , 1.5031604 ],\n",
       "       [2.732146  , 2.5565495 , 3.714852  , 1.967403  , 2.7812793 ,\n",
       "        3.9070148 , 3.2777538 , 2.2969038 , 1.9229925 , 2.6556396 ],\n",
       "       [1.928745  , 3.1600957 , 2.6502829 , 1.8178726 , 3.2470448 ,\n",
       "        2.285428  , 2.6365926 , 2.5166864 , 1.070901  , 2.0605705 ],\n",
       "       [1.063185  , 4.1737986 , 2.2277255 , 1.2515675 , 4.1827664 ,\n",
       "        1.2915825 , 1.3805095 , 3.4198837 , 1.0256768 , 2.7755067 ],\n",
       "       [1.1833991 , 1.8557596 , 3.0534244 , 1.0722461 , 3.4905617 ,\n",
       "        1.643646  , 3.453313  , 3.808668  , 0.65044206, 2.0563726 ],\n",
       "       [1.0461621 , 3.5566838 , 3.2101297 , 1.572406  , 2.2809083 ,\n",
       "        1.8500901 , 1.3386623 , 4.39698   , 1.5621432 , 1.7725785 ],\n",
       "       [1.5166444 , 2.5048141 , 1.3417709 , 3.5234869 , 2.7652483 ,\n",
       "        1.1395355 , 2.25748   , 4.705172  , 2.2430854 , 1.8194562 ],\n",
       "       [1.6907904 , 2.3283677 , 1.7894993 , 2.1847265 , 2.8551002 ,\n",
       "        0.79378396, 1.7964936 , 3.5471232 , 1.9625643 , 1.3657154 ],\n",
       "       [1.2141374 , 2.9877534 , 3.1018186 , 3.629979  , 3.6487942 ,\n",
       "        1.808532  , 2.6615262 , 3.3801854 , 2.1941547 , 2.0062847 ],\n",
       "       [2.0491679 , 3.8442254 , 5.2590375 , 2.6086452 , 2.5204127 ,\n",
       "        2.845815  , 2.089722  , 2.0366    , 1.8493687 , 2.002032  ],\n",
       "       [1.4538853 , 3.52397   , 3.426971  , 0.94891644, 3.4088016 ,\n",
       "        1.826241  , 2.6029367 , 2.0418024 , 2.1847632 , 0.74823964],\n",
       "       [2.1386282 , 2.708146  , 1.742439  , 2.366699  , 2.55557   ,\n",
       "        1.021245  , 2.8354404 , 3.1261184 , 1.642767  , 1.4917253 ],\n",
       "       [2.2865992 , 3.9609175 , 3.3584628 , 2.9336588 , 2.459155  ,\n",
       "        2.2523775 , 2.647436  , 0.89587307, 2.0110953 , 2.1063092 ],\n",
       "       [1.9966788 , 2.9262302 , 4.8778872 , 1.2208712 , 3.4192896 ,\n",
       "        2.3487628 , 2.9560015 , 1.5107096 , 1.5358572 , 1.5315988 ],\n",
       "       [0.48399195, 2.1673245 , 2.2968588 , 2.7774973 , 2.5966098 ,\n",
       "        3.4832177 , 2.690391  , 4.0917354 , 0.23865944, 2.9819653 ],\n",
       "       [2.0954764 , 2.4307942 , 3.4558418 , 2.9896178 , 1.5231056 ,\n",
       "        3.422842  , 3.3150718 , 3.5051725 , 2.1653447 , 3.1134186 ],\n",
       "       [1.5846765 , 2.661023  , 2.4769669 , 3.470964  , 1.4431835 ,\n",
       "        2.3999262 , 3.9011345 , 3.248538  , 1.4247626 , 1.2602935 ],\n",
       "       [0.49207467, 2.325397  , 2.2815886 , 2.2696066 , 3.3333156 ,\n",
       "        2.4349878 , 2.0514407 , 3.2246497 , 1.6171042 , 1.6073767 ],\n",
       "       [2.5375338 , 2.4817715 , 2.6368468 , 2.0569093 , 4.3929462 ,\n",
       "        1.4862403 , 3.4939742 , 2.2332757 , 1.7737362 , 1.7618244 ],\n",
       "       [2.0678236 , 1.8836694 , 1.3364539 , 1.7425246 , 2.3898618 ,\n",
       "        1.1566195 , 2.628559  , 3.6502156 , 2.121294  , 1.3199686 ],\n",
       "       [1.8444016 , 2.2461612 , 3.215194  , 3.8432117 , 2.2398164 ,\n",
       "        1.8269355 , 4.414732  , 3.723146  , 0.50411344, 2.1435022 ],\n",
       "       [2.6537714 , 1.1732535 , 3.0079815 , 2.5904036 , 3.0474715 ,\n",
       "        1.8404907 , 2.6261342 , 1.1304994 , 1.8776394 , 0.85143405],\n",
       "       [0.6337883 , 3.3086834 , 1.4530784 , 2.515975  , 3.5047786 ,\n",
       "        1.1553439 , 2.8253915 , 3.52668   , 1.043268  , 2.3298826 ],\n",
       "       [1.3287122 , 2.5962925 , 1.9194646 , 1.8967655 , 5.310211  ,\n",
       "        2.868525  , 3.0769377 , 1.7588413 , 0.40501967, 2.9207122 ],\n",
       "       [0.84001315, 2.0994346 , 2.1460192 , 1.5992    , 2.236392  ,\n",
       "        1.5488653 , 3.224863  , 1.7908863 , 0.7113455 , 2.6308084 ],\n",
       "       [0.9592351 , 2.4799027 , 2.593933  , 3.6836722 , 2.6314456 ,\n",
       "        2.4646401 , 3.572547  , 3.2011003 , 1.1519556 , 1.662165  ],\n",
       "       [0.8192115 , 1.8272312 , 1.7956815 , 1.8296847 , 2.9964643 ,\n",
       "        2.2758198 , 2.3479474 , 2.8243022 , 1.1362125 , 2.8853436 ],\n",
       "       [3.6204023 , 1.9968116 , 1.7490085 , 2.9469256 , 3.12177   ,\n",
       "        2.235736  , 5.2850986 , 1.5726624 , 1.4582067 , 1.2513807 ],\n",
       "       [1.0327702 , 2.8972735 , 2.6707854 , 1.6554506 , 3.8221254 ,\n",
       "        2.0219557 , 2.4419675 , 3.9295774 , 1.2823715 , 1.2512529 ],\n",
       "       [1.9287269 , 1.5045323 , 3.3143744 , 3.7100654 , 3.0415392 ,\n",
       "        1.8443446 , 2.0636263 , 2.3276868 , 1.2617    , 1.081305  ],\n",
       "       [1.5923332 , 3.8162732 , 3.0520544 , 0.9159544 , 4.5526114 ,\n",
       "        1.9873202 , 2.4606779 , 2.2672033 , 0.9068908 , 1.9620786 ],\n",
       "       [1.0044551 , 3.2946215 , 1.9445477 , 3.2131855 , 3.7743635 ,\n",
       "        2.93666   , 3.0328484 , 2.7435503 , 1.2155869 , 0.9583244 ]],\n",
       "      dtype=float32)"
      ]
     },
     "execution_count": 310,
     "metadata": {},
     "output_type": "execute_result"
    }
   ],
   "source": [
    "mult"
   ]
  },
  {
   "cell_type": "code",
   "execution_count": 311,
   "id": "fd0e6415",
   "metadata": {},
   "outputs": [
    {
     "data": {
      "text/plain": [
       "array([0, 1, 2, 3, 4], dtype=uint32)"
      ]
     },
     "execution_count": 311,
     "metadata": {},
     "output_type": "execute_result"
    }
   ],
   "source": [
    "resxidx"
   ]
  },
  {
   "cell_type": "code",
   "execution_count": 312,
   "id": "9ebf61ae",
   "metadata": {},
   "outputs": [
    {
     "data": {
      "text/plain": [
       "array([0, 1, 2, 3, 4, 5, 6, 7], dtype=uint32)"
      ]
     },
     "execution_count": 312,
     "metadata": {},
     "output_type": "execute_result"
    }
   ],
   "source": [
    "resyidx"
   ]
  },
  {
   "cell_type": "code",
   "execution_count": 313,
   "id": "32e30a93",
   "metadata": {},
   "outputs": [
    {
     "ename": "NameError",
     "evalue": "name 'asdf' is not defined",
     "output_type": "error",
     "traceback": [
      "\u001b[0;31m---------------------------------------------------------------------------\u001b[0m",
      "\u001b[0;31mNameError\u001b[0m                                 Traceback (most recent call last)",
      "\u001b[0;32m/tmp/ipykernel_25977/2827374946.py\u001b[0m in \u001b[0;36m<module>\u001b[0;34m\u001b[0m\n\u001b[0;32m----> 1\u001b[0;31m \u001b[0masdf\u001b[0m\u001b[0;34m\u001b[0m\u001b[0;34m\u001b[0m\u001b[0m\n\u001b[0m",
      "\u001b[0;31mNameError\u001b[0m: name 'asdf' is not defined"
     ]
    }
   ],
   "source": [
    "asdf"
   ]
  },
  {
   "cell_type": "markdown",
   "id": "dfd015c9",
   "metadata": {},
   "source": [
    "## Weight update kernel new3 (sparse ouput)"
   ]
  },
  {
   "cell_type": "code",
   "execution_count": null,
   "id": "c9a44f85",
   "metadata": {},
   "outputs": [],
   "source": [
    "c=np.zeros(a.T.shape)\n",
    "at = a.T\n",
    "for row in range(at.shape[0]):\n",
    "    for col in range(at.shape[1]):\n",
    "        c[row][col] = at[row][col]"
   ]
  },
  {
   "cell_type": "code",
   "execution_count": null,
   "id": "87bee168",
   "metadata": {},
   "outputs": [],
   "source": [
    "a_buf = cl.Buffer(ctx, mf.READ_WRITE | mf.COPY_HOST_PTR, hostbuf=c.astype(np.float32))\n",
    "b_buf = cl.Buffer(ctx, mf.READ_WRITE | mf.COPY_HOST_PTR, hostbuf=b)\n",
    "x_sum_buf = cl.Buffer(ctx, mf.WRITE_ONLY, a.shape[0]*4)\n",
    "y_sum_buf = cl.Buffer(ctx, mf.WRITE_ONLY, b.shape[1]*4)\n",
    "x_idx_buf = cl.Buffer(ctx, mf.WRITE_ONLY, topkx*4)\n",
    "y_idx_buf = cl.Buffer(ctx, mf.WRITE_ONLY, topky*4)\n",
    "sdata_buf = cl.Buffer(ctx, mf.READ_WRITE, a.shape[0]*topkx*4)\n",
    "sidxs_buf = cl.Buffer(ctx, mf.READ_WRITE, a.shape[0]*topkx*4)\n",
    "snnzs_buf = cl.Buffer(ctx, mf.READ_WRITE, a.shape[0]*4)\n",
    "sdatat_buf = cl.Buffer(ctx, mf.READ_WRITE, b.shape[1]*topky*4)\n",
    "sidxst_buf = cl.Buffer(ctx, mf.READ_WRITE, b.shape[1]*topky*4)\n",
    "snnzst_buf = cl.Buffer(ctx, mf.READ_WRITE, b.shape[1]*4)\n",
    "\n",
    "prg = cl.Program(ctx, \"\"\"\n",
    "    // sorts x and y in ascending order and returns sorted indices\n",
    "    __kernel void genwupdate4(__global  float* x,     // INPUT MATRIX DATA\n",
    "                              __global  float* y,    // INPUT\n",
    "                              __global  float* xsum,    // INPUT\n",
    "                              __global  float* ysum,    // INPUT\n",
    "                              uint isize,\n",
    "                              uint msize,\n",
    "                              uint osize,\n",
    "                              uint topkx,\n",
    "                              uint topky,\n",
    "                              __global  uint*  xoutidx,\n",
    "                              __global  uint*  youtidx,\n",
    "                              __global  float* matData,     // OUTPUT MATRIX DATA\n",
    "                              __global  uint*  colIdx,\n",
    "                              __global  uint*  rowNnz,\n",
    "                              __global  float* matDatat,    // OUTPUT MATRIX DATA\n",
    "                              __global  uint*  colIdxt,\n",
    "                              __global  uint*  rowNnzt\n",
    "                              ) {\n",
    "      uint gid = get_global_id(0);\n",
    "\n",
    "      // get for a: sum axis0  b: sum axis1 then get topk\n",
    "      ///////////////////////////////////////////////////\n",
    "      if (gid < isize) {\n",
    "        xsum[gid] = 0;\n",
    "        for (uint i=0; i<msize; i++) {\n",
    "          float val = x[i*isize+gid];\n",
    "          //if (gid == 0) {\n",
    "          //  printf(\"\\\\nADD VALx: %.2f - %i\", val, i*msize+gid);\n",
    "          //}\n",
    "          xsum[gid] += val;\n",
    "        }\n",
    "\n",
    "        float valx = xsum[gid];\n",
    "        uint posx = 0;\n",
    "        for (uint i = 0; i < isize; i++) {\n",
    "          float tempval = fabs(xsum[i]);\n",
    "          bool larger = tempval > fabs(valx);\n",
    "          posx += (larger)?1:0;\n",
    "        }\n",
    "        if (posx < topky) {\n",
    "          youtidx[posx] = gid;\n",
    "        }\n",
    "      }\n",
    "\n",
    "      if (gid < osize) {\n",
    "        ysum[gid] = 0;\n",
    "        for (uint i=0; i<msize; i++) {\n",
    "          float val = y[i*osize+gid];\n",
    "          //if (gid == 0) {\n",
    "          //  printf(\"\\\\nADD VALx: %.2f - %i\", val, gid*osize+i);\n",
    "          //}\n",
    "          ysum[gid] += val;\n",
    "        }\n",
    "\n",
    "        float valy = ysum[gid];\n",
    "        uint posy = 0;\n",
    "        for (uint i = 0; i < osize; i++) {\n",
    "          float tempval = fabs(ysum[i]);\n",
    "          bool larger = tempval > fabs(valy);\n",
    "          posy += (larger)?1:0;\n",
    "        }\n",
    "\n",
    "        if (posy < topkx) {\n",
    "          xoutidx[posy] = gid;\n",
    "        }\n",
    "      }\n",
    "\n",
    "      if (gid < topkx) {\n",
    "        float valx = xoutidx[gid];\n",
    "        uint posx = 0;\n",
    "        for (uint i = 0; i < topkx; i++) {\n",
    "          float tempval = xoutidx[i];\n",
    "          bool larger = tempval < valx;\n",
    "          posx += (larger)?1:0;\n",
    "        }\n",
    "        xoutidx[gid] = gid;\n",
    "      }\n",
    "\n",
    "      if (gid < topky) {\n",
    "        float valy = youtidx[gid];\n",
    "        uint posy = 0;\n",
    "        for (uint i = 0; i < topky; i++) {\n",
    "          float tempval = youtidx[i];\n",
    "          bool larger = tempval < valy;\n",
    "          posy += (larger)?1:0;\n",
    "        }\n",
    "        youtidx[gid] = gid;\n",
    "      }\n",
    "\n",
    "      // only calc matrix multiplications for used grads\n",
    "      ///////////////////////////////////////////////////\n",
    "      if (gid < isize) {\n",
    "        for (uint i=0; i<topkx; i++) {\n",
    "          matData[gid*topkx+i] = 0;\n",
    "          colIdx[gid*topkx+i] = 0;\n",
    "        }\n",
    "        rowNnz[gid] = 0;\n",
    "      }\n",
    "      if (gid < osize) {\n",
    "        for (uint i=0; i<topky; i++) {\n",
    "          matDatat[gid*topky+i] = 0;\n",
    "          colIdxt[gid*topky+i] = 0;\n",
    "        }\n",
    "        rowNnzt[gid] = 0;\n",
    "      }\n",
    "\n",
    "\n",
    "      if (gid < topkx) {\n",
    "        uint idxx = xoutidx[gid];\n",
    "        for (uint j=0; j<topky; j++) {\n",
    "          uint idxy = youtidx[j];\n",
    "          //printf(\"\\\\nIDXX:%i  IDXY:%i\", idxx, idxy);\n",
    "          for (uint k=0; k<msize; k++) {\n",
    "            uint xidx2 = isize*k+idxy;\n",
    "            uint yidx2 = osize*k+idxx;\n",
    "            uint colidx = idxy;\n",
    "            matDatat[idxx*topky+j] += x[xidx2] * y[yidx2];\n",
    "            colIdxt[idxx*topky+j] = idxy;\n",
    "            if (gid == 0)\n",
    "              printf(\"\\\\n ADD VAL:%.2f,%.2f - (%i,%i) - (%i,%i,%i)\", x[xidx2], y[yidx2], idxx, idxy, gid, j, k);\n",
    "          }\n",
    "          rowNnzt[idxx] += 1;\n",
    "        }\n",
    "      }\n",
    "      if (gid < topky) {\n",
    "        uint idxx = youtidx[gid];\n",
    "        for (uint j=0; j<topkx; j++) {\n",
    "          uint idxy = xoutidx[j];\n",
    "          //printf(\"\\\\nIDXX:%i  IDXY:%i\", idxx, idxy);\n",
    "          for (uint k=0; k<msize; k++) {\n",
    "            uint xidx2 = isize*k+idxx;\n",
    "            uint yidx2 = osize*k+idxy;\n",
    "            uint colidx = idxy;\n",
    "            matData[idxx*topkx+j] += x[xidx2] * y[yidx2];\n",
    "            colIdx[idxx*topkx+j] = idxy;\n",
    "            if (gid == 0)\n",
    "              printf(\"\\\\n ADD VAL:%.2f,%.2f - (%i,%i) - (%i,%i,%i)\", x[xidx2], y[yidx2], idxx, idxy, gid, j, k);\n",
    "          }\n",
    "          rowNnz[idxx] += 1;\n",
    "        }\n",
    "      }\n",
    "    }\"\"\").build()"
   ]
  },
  {
   "cell_type": "code",
   "execution_count": null,
   "id": "9bffe8b9",
   "metadata": {},
   "outputs": [],
   "source": [
    "a.shape, b.shape"
   ]
  },
  {
   "cell_type": "code",
   "execution_count": null,
   "id": "33d54ae2",
   "metadata": {},
   "outputs": [],
   "source": [
    "rows = a.shape[0]\n",
    "msize = a.shape[1]"
   ]
  },
  {
   "cell_type": "code",
   "execution_count": null,
   "id": "e22300e3",
   "metadata": {},
   "outputs": [],
   "source": [
    "cols = b.shape[1]"
   ]
  },
  {
   "cell_type": "code",
   "execution_count": null,
   "id": "b5470c09",
   "metadata": {},
   "outputs": [],
   "source": [
    "mult = a.dot(b)"
   ]
  },
  {
   "cell_type": "code",
   "execution_count": null,
   "id": "1240c6f9",
   "metadata": {},
   "outputs": [],
   "source": [
    "mult = mult.astype(np.float32)"
   ]
  },
  {
   "cell_type": "code",
   "execution_count": null,
   "id": "76db83ec",
   "metadata": {},
   "outputs": [],
   "source": [
    "res_buf = cl.Buffer(ctx, mf.READ_WRITE, np.prod([rows,b.shape[1]])*4)\n",
    "knl = prg.genwupdate4  # Use this Kernel object for repeate/duald calls\n",
    "evt = knl(queue, [max(rows,cols)], None, a_buf, b_buf, x_sum_buf, y_sum_buf, np.uint32(rows), np.uint32(msize),np.uint32(cols), \n",
    "          np.uint32(topkx),np.uint32(topky), x_idx_buf, y_idx_buf, sdata_buf, sidxs_buf, snnzs_buf, sdatat_buf, sidxst_buf, snnzst_buf)"
   ]
  },
  {
   "cell_type": "code",
   "execution_count": null,
   "id": "8a5b0190",
   "metadata": {},
   "outputs": [],
   "source": [
    "resxsum = np.zeros(a.shape[0]).astype(np.float32)\n",
    "resysum = np.zeros(b.shape[1]).astype(np.float32)\n",
    "resxidx = np.zeros(topkx).astype(np.uint32)\n",
    "resyidx = np.zeros(topky).astype(np.uint32)\n",
    "resxdat = np.zeros(a.shape[0]*topkx).astype(np.float32)\n",
    "resxcol = np.zeros(a.shape[0]*topkx).astype(np.uint32)\n",
    "resxnnz = np.zeros(a.shape[0]).astype(np.uint32)\n",
    "resxdatt = np.zeros(b.shape[1]*topky).astype(np.float32)\n",
    "resxcolt = np.zeros(b.shape[1]*topky).astype(np.uint32)\n",
    "resxnnzt = np.zeros(b.shape[1]).astype(np.uint32)\n",
    "\n",
    "cl.enqueue_copy(queue, resxsum, x_sum_buf)\n",
    "cl.enqueue_copy(queue, resysum, y_sum_buf)\n",
    "cl.enqueue_copy(queue, resxidx, x_idx_buf)\n",
    "cl.enqueue_copy(queue, resyidx, y_idx_buf)\n",
    "cl.enqueue_copy(queue, resxdat, sdata_buf)\n",
    "cl.enqueue_copy(queue, resxcol, sidxs_buf)\n",
    "cl.enqueue_copy(queue, resxnnz, snnzs_buf)\n",
    "cl.enqueue_copy(queue, resxdatt, sdatat_buf)\n",
    "cl.enqueue_copy(queue, resxcolt, sidxst_buf)\n",
    "cl.enqueue_copy(queue, resxnnzt, snnzst_buf)"
   ]
  },
  {
   "cell_type": "markdown",
   "id": "311554ce",
   "metadata": {},
   "source": [
    "## results"
   ]
  },
  {
   "cell_type": "code",
   "execution_count": null,
   "id": "12c9240e",
   "metadata": {},
   "outputs": [],
   "source": [
    "topkx, topky"
   ]
  },
  {
   "cell_type": "code",
   "execution_count": null,
   "id": "26724ba7",
   "metadata": {},
   "outputs": [],
   "source": [
    "mult.shape"
   ]
  },
  {
   "cell_type": "code",
   "execution_count": null,
   "id": "3a014679",
   "metadata": {},
   "outputs": [],
   "source": [
    "mult"
   ]
  },
  {
   "cell_type": "code",
   "execution_count": null,
   "id": "c67cfb5b",
   "metadata": {},
   "outputs": [],
   "source": [
    "resxdatt.reshape(b.shape[1],topky).T"
   ]
  },
  {
   "cell_type": "code",
   "execution_count": null,
   "id": "66393a81",
   "metadata": {},
   "outputs": [],
   "source": [
    "resxcol.reshape(a.shape[0],topkx)"
   ]
  },
  {
   "cell_type": "code",
   "execution_count": null,
   "id": "2e261819",
   "metadata": {},
   "outputs": [],
   "source": [
    "resxnnz.reshape(a.shape[0])"
   ]
  },
  {
   "cell_type": "code",
   "execution_count": null,
   "id": "c2069102",
   "metadata": {},
   "outputs": [],
   "source": [
    "resxdatt.reshape(b.shape[1],topky)"
   ]
  },
  {
   "cell_type": "code",
   "execution_count": null,
   "id": "68a78ec7",
   "metadata": {},
   "outputs": [],
   "source": [
    "resxcolt.reshape(b.shape[1],topky)"
   ]
  },
  {
   "cell_type": "code",
   "execution_count": null,
   "id": "4a4a2992",
   "metadata": {},
   "outputs": [],
   "source": [
    "resxnnzt.reshape(b.shape[1])"
   ]
  },
  {
   "cell_type": "code",
   "execution_count": null,
   "id": "5c726539",
   "metadata": {},
   "outputs": [],
   "source": [
    "resdense = to_dense(resxdat, resxcol, resxnnz, topkx, mult.shape)\n",
    "resdense"
   ]
  },
  {
   "cell_type": "code",
   "execution_count": null,
   "id": "2b3c903a",
   "metadata": {},
   "outputs": [],
   "source": [
    "resdenset = to_dense(resxdatt, resxcolt, resxnnzt, topky, mult.T.shape)\n",
    "resdenset"
   ]
  },
  {
   "cell_type": "code",
   "execution_count": null,
   "id": "0d68e123",
   "metadata": {},
   "outputs": [],
   "source": [
    "resdense == resdenset.T"
   ]
  },
  {
   "cell_type": "markdown",
   "id": "39d3ff15",
   "metadata": {},
   "source": [
    "## comp"
   ]
  },
  {
   "cell_type": "code",
   "execution_count": null,
   "id": "c3692a8b",
   "metadata": {},
   "outputs": [],
   "source": [
    "resxsum"
   ]
  },
  {
   "cell_type": "code",
   "execution_count": null,
   "id": "5ec15f9a",
   "metadata": {},
   "outputs": [],
   "source": [
    "a.sum(axis=1)"
   ]
  },
  {
   "cell_type": "code",
   "execution_count": null,
   "id": "31d90b08",
   "metadata": {},
   "outputs": [],
   "source": [
    "resysum"
   ]
  },
  {
   "cell_type": "code",
   "execution_count": null,
   "id": "a8a0a670",
   "metadata": {},
   "outputs": [],
   "source": [
    "b.sum(axis=0)"
   ]
  },
  {
   "cell_type": "code",
   "execution_count": null,
   "id": "474bc927",
   "metadata": {},
   "outputs": [],
   "source": [
    "mult"
   ]
  },
  {
   "cell_type": "code",
   "execution_count": null,
   "id": "c13fc089",
   "metadata": {},
   "outputs": [],
   "source": [
    "resxidx"
   ]
  },
  {
   "cell_type": "code",
   "execution_count": null,
   "id": "50033eb3",
   "metadata": {},
   "outputs": [],
   "source": [
    "resyidx"
   ]
  },
  {
   "cell_type": "code",
   "execution_count": null,
   "id": "0cdfe610",
   "metadata": {},
   "outputs": [],
   "source": [
    "asdf"
   ]
  },
  {
   "cell_type": "markdown",
   "id": "e2863a8c",
   "metadata": {},
   "source": [
    "## Prune Weights"
   ]
  },
  {
   "cell_type": "code",
   "execution_count": null,
   "id": "cc23a54a",
   "metadata": {},
   "outputs": [],
   "source": [
    "adata_buf = cl.Buffer(ctx, mf.READ_WRITE | mf.COPY_HOST_PTR, hostbuf=adata)\n",
    "acols_buf = cl.Buffer(ctx, mf.READ_WRITE | mf.COPY_HOST_PTR, hostbuf=acols)\n",
    "annzs_buf = cl.Buffer(ctx, mf.READ_WRITE | mf.COPY_HOST_PTR, hostbuf=annz)\n",
    "adatat_buf = cl.Buffer(ctx, mf.READ_WRITE | mf.COPY_HOST_PTR, hostbuf=adatat)\n",
    "acolst_buf = cl.Buffer(ctx, mf.READ_WRITE | mf.COPY_HOST_PTR, hostbuf=acolst)\n",
    "annzst_buf = cl.Buffer(ctx, mf.READ_WRITE | mf.COPY_HOST_PTR, hostbuf=annzt)\n",
    "\n",
    "prg = cl.Program(ctx, \"\"\"\n",
    "    // prunes weights smaller than a constant C\n",
    "    __kernel void prune(__global  float* matData,     // INPUT MATRIX DATA\n",
    "                        __global  uint*  colIdx,\n",
    "                        __global  uint*  rowNnz,\n",
    "                        uint ellw,\n",
    "                        float pruneval) { \n",
    "      uint gid = get_global_id(0);\n",
    "      \n",
    "      uint nnzs = rowNnz[gid];\n",
    "      for (uint i=0; i<nnzs; i++) {\n",
    "        uint idx = ellw * gid + i;\n",
    "        float val = matData[idx];\n",
    "        printf(\"\\\\nDATA:%.2f - %.2f\", matData[idx], pruneval);\n",
    "        if(fabs(val)<pruneval) {\n",
    "          printf(\"\\\\nPRUNE(%i): %.2f\", gid, matData[idx]);\n",
    "          for (uint j=i; j<=nnzs-1; j++) {\n",
    "            uint idx2 = ellw * gid + j;\n",
    "            matData[idx2] = matData[idx2+1];\n",
    "            colIdx[idx2] = colIdx[idx2+1];\n",
    "          }\n",
    "          matData[ellw*gid+nnzs] = 0;\n",
    "          colIdx[ellw*gid+nnzs] = 0;\n",
    "          rowNnz[gid] -= 1;\n",
    "          nnzs = rowNnz[gid];\n",
    "        }\n",
    "      }\n",
    "    }\"\"\").build()"
   ]
  },
  {
   "cell_type": "code",
   "execution_count": null,
   "id": "8d60d6ef",
   "metadata": {},
   "outputs": [],
   "source": [
    "a.shape"
   ]
  },
  {
   "cell_type": "code",
   "execution_count": null,
   "id": "ede27450",
   "metadata": {},
   "outputs": [],
   "source": [
    "rows = a.shape[0]\n",
    "cols = a.shape[1]\n",
    "\n",
    "pruneval = .35"
   ]
  },
  {
   "cell_type": "code",
   "execution_count": null,
   "id": "6e259da1",
   "metadata": {},
   "outputs": [],
   "source": [
    "knl = prg.prune  # Use this Kernel object for repeated calls\n",
    "evt = knl(queue, [rows,], None, adata_buf, acols_buf, annzs_buf, np.uint32(ellwa), np.float32(pruneval))"
   ]
  },
  {
   "cell_type": "code",
   "execution_count": null,
   "id": "5dc3c096",
   "metadata": {},
   "outputs": [],
   "source": [
    "resxdat = np.zeros(adata.shape).astype(np.float32)\n",
    "resxcol = np.zeros(acols.shape).astype(np.uint32)\n",
    "resxnnz = np.zeros(annz.shape).astype(np.uint32)\n",
    "\n",
    "cl.enqueue_copy(queue, resxdat, adata_buf)\n",
    "cl.enqueue_copy(queue, resxcol, acols_buf)\n",
    "cl.enqueue_copy(queue, resxnnz, annzs_buf)"
   ]
  },
  {
   "cell_type": "code",
   "execution_count": null,
   "id": "04153941",
   "metadata": {},
   "outputs": [],
   "source": [
    "a"
   ]
  },
  {
   "cell_type": "code",
   "execution_count": null,
   "id": "5d83f2fa",
   "metadata": {},
   "outputs": [],
   "source": [
    "adata.reshape((4,-1))"
   ]
  },
  {
   "cell_type": "code",
   "execution_count": null,
   "id": "8adb34bc",
   "metadata": {},
   "outputs": [],
   "source": [
    "acols.reshape((4,-1))"
   ]
  },
  {
   "cell_type": "code",
   "execution_count": null,
   "id": "ed57cbce",
   "metadata": {},
   "outputs": [],
   "source": [
    "resxdat.reshape((4,-1))"
   ]
  },
  {
   "cell_type": "code",
   "execution_count": null,
   "id": "82b64ba8",
   "metadata": {},
   "outputs": [],
   "source": [
    "resxcol.reshape((4,-1))"
   ]
  },
  {
   "cell_type": "code",
   "execution_count": null,
   "id": "69cc453d",
   "metadata": {},
   "outputs": [],
   "source": [
    "resxnnz"
   ]
  },
  {
   "cell_type": "markdown",
   "id": "f1bd0e85",
   "metadata": {},
   "source": [
    "## results"
   ]
  },
  {
   "cell_type": "code",
   "execution_count": null,
   "id": "4d73d135",
   "metadata": {},
   "outputs": [],
   "source": [
    "mult.T"
   ]
  },
  {
   "cell_type": "code",
   "execution_count": null,
   "id": "23ff0483",
   "metadata": {},
   "outputs": [],
   "source": [
    "resxdat.reshape(a.shape[0],topk)"
   ]
  },
  {
   "cell_type": "code",
   "execution_count": null,
   "id": "e74da606",
   "metadata": {},
   "outputs": [],
   "source": [
    "resxcol.reshape(a.shape[0],topk)"
   ]
  },
  {
   "cell_type": "code",
   "execution_count": null,
   "id": "0d163788",
   "metadata": {},
   "outputs": [],
   "source": [
    "resxnnz.reshape(a.shape[0])"
   ]
  },
  {
   "cell_type": "code",
   "execution_count": null,
   "id": "d1e81731",
   "metadata": {},
   "outputs": [],
   "source": [
    "resxdatt.reshape(b.shape[1],topk)"
   ]
  },
  {
   "cell_type": "code",
   "execution_count": null,
   "id": "eec545c9",
   "metadata": {},
   "outputs": [],
   "source": [
    "resxcolt.reshape(b.shape[1],topk)"
   ]
  },
  {
   "cell_type": "code",
   "execution_count": null,
   "id": "99c0beec",
   "metadata": {},
   "outputs": [],
   "source": [
    "resxnnzt.reshape(b.shape[1])"
   ]
  },
  {
   "cell_type": "markdown",
   "id": "a07aaaf8",
   "metadata": {},
   "source": [
    "### Update Vals (add sparse)"
   ]
  },
  {
   "cell_type": "code",
   "execution_count": null,
   "id": "4a4440eb",
   "metadata": {},
   "outputs": [],
   "source": [
    "b.shape"
   ]
  },
  {
   "cell_type": "code",
   "execution_count": null,
   "id": "dbd85aa7",
   "metadata": {},
   "outputs": [],
   "source": [
    "randadd = np.random.rand(*b.shape)"
   ]
  },
  {
   "cell_type": "code",
   "execution_count": null,
   "id": "4d7cd83c",
   "metadata": {},
   "outputs": [],
   "source": [
    "randdata, randcols, randnnz, randellw = to_data(randadd)\n",
    "bdata_buf = cl.Buffer(ctx, mf.READ_WRITE | mf.COPY_HOST_PTR, hostbuf=bdata)\n",
    "bcols_buf = cl.Buffer(ctx, mf.READ_WRITE | mf.COPY_HOST_PTR, hostbuf=bcols)\n",
    "bnnzs_buf = cl.Buffer(ctx, mf.READ_WRITE | mf.COPY_HOST_PTR, hostbuf=bnnz)\n",
    "randdata_buf = cl.Buffer(ctx, mf.READ_WRITE | mf.COPY_HOST_PTR, hostbuf=randdata)\n",
    "randcols_buf = cl.Buffer(ctx, mf.READ_WRITE | mf.COPY_HOST_PTR, hostbuf=randcols)\n",
    "randnnzs_buf = cl.Buffer(ctx, mf.READ_WRITE | mf.COPY_HOST_PTR, hostbuf=randnnz)\n",
    "\n",
    "\n",
    "prg = cl.Program(ctx, \"\"\"\n",
    "    // Every global_id_0 works on a row\n",
    "    __kernel void adddense(__global  float* matData,     // INPUT MATRIX DATA\n",
    "                            __global  uint*  colIdx,\n",
    "                            __global  uint*  rowNnz,\n",
    "                            float  lr,\n",
    "                            uint   ellwidth,\n",
    "                            __global  float* matDataAdd,     // INPUT MATRIX DATA\n",
    "                            __global  uint*  colIdxAdd,\n",
    "                            __global  uint*  rowNnzAdd,\n",
    "                            uint ellwidthAdd\n",
    "                            ) { // LOCAL SHARED BUFFER\n",
    "      uint gid = get_global_id(0);\n",
    "      uint nrows = get_global_size(0);\n",
    "\n",
    "      uint nnz    = rowNnz[gid];\n",
    "\n",
    "      uint baseidxs = gid*ellwidth;\n",
    "      uint baseidxd = gid*ellwidthAdd;\n",
    "\n",
    "      uint nnzadd = rowNnzAdd[gid];\n",
    "      \n",
    "      uint m = 0;\n",
    "      for (uint i=0; i<nnzadd; i++) {\n",
    "        float addval = matDataAdd[baseidxd+i] * lr;\n",
    "        uint addcol = colIdxAdd[baseidxd+i];\n",
    "        \n",
    "        if (addval == 0.0) {\n",
    "          //printf(\"\\\\nZERO VAL, CONT: %.2f - %i\", addval, gid);\n",
    "          continue;\n",
    "        }\n",
    "\n",
    "        uint refcol = colIdx[baseidxs+i];\n",
    "        m = 0;\n",
    "        while (refcol < addcol && (i+m) < nnz) {\n",
    "          m += 1;\n",
    "          refcol = colIdx[baseidxs+i+m];\n",
    "        }\n",
    "\n",
    "        //if (gid == 0)\n",
    "        //  printf(\"\\\\nADD VAL:%.2f  ADDCOL:%i  ref:(%i)  gid/i/m:(%i/%i%i)\", addval, addcol, refcol, gid,i,m);\n",
    "        \n",
    "        if (addcol == refcol) {\n",
    "          matData[baseidxs+i+m] += addval;\n",
    "          //if (gid == 0)\n",
    "          //  printf(\"\\\\nINCREMENT: %.2f\",addval);\n",
    "          continue;\n",
    "        } else {\n",
    "          //if (gid == 0)\n",
    "          //  printf(\"\\\\nADD: %.2f %i-%i\",addval, addcol, refcol);\n",
    "          if (rowNnz[gid] >= ellwidth) {\n",
    "            break;\n",
    "          }\n",
    "\n",
    "          for (uint j=nnz; j>i+m; j--) {\n",
    "            //printf(\"\\\\nMOVE:%.2f\", matData[baseidx+j-1]);\n",
    "            colIdx[baseidxs+j] = colIdx[baseidxs+j-1];\n",
    "            matData[baseidxs+j] = matData[baseidxs+j-1];\n",
    "          }\n",
    "          rowNnz[gid] += 1;\n",
    "          nnz = rowNnz[gid];\n",
    "        \n",
    "          //if (gid == 0)\n",
    "          //  printf(\"\\\\nSET VAL:%.2f idx:%i/%i  col:%i\", addval, baseidxs+i, baseidxd+i, addcol);\n",
    "          matData[baseidxs+i+m] = addval;\n",
    "          colIdx[baseidxs+i+m] = addcol;\n",
    "        }\n",
    "      }\n",
    "    }\"\"\").build()"
   ]
  },
  {
   "cell_type": "code",
   "execution_count": null,
   "id": "35387816",
   "metadata": {},
   "outputs": [],
   "source": [
    "res = np.zeros(a.shape[0]).astype(np.float32)\n",
    "#res"
   ]
  },
  {
   "cell_type": "code",
   "execution_count": null,
   "id": "a7c249b6",
   "metadata": {},
   "outputs": [],
   "source": [
    "rows = b.shape[0]"
   ]
  },
  {
   "cell_type": "code",
   "execution_count": null,
   "id": "b56fd01d",
   "metadata": {},
   "outputs": [],
   "source": [
    "res_buf = cl.Buffer(ctx, mf.WRITE_ONLY, b.nbytes)\n",
    "knl = prg.adddense  # Use this Kernel object for repeated calls\n",
    "knl(queue, [rows], None, bdata_buf, bcols_buf, bnnzs_buf, np.float32(1), np.uint32(ellwb), \n",
    "    randdata_buf, randcols_buf, randnnzs_buf, np.uint32(randellw))"
   ]
  },
  {
   "cell_type": "code",
   "execution_count": null,
   "id": "6f9789d9",
   "metadata": {},
   "outputs": [],
   "source": [
    "data_res = np.empty_like(bdata)\n",
    "cols_res = np.empty_like(bcols)\n",
    "nnzs_res = np.empty_like(bnnz)\n",
    "cl.enqueue_copy(queue, data_res, bdata_buf, is_blocking=True)\n",
    "cl.enqueue_copy(queue, cols_res, bcols_buf, is_blocking=True)\n",
    "cl.enqueue_copy(queue, nnzs_res, bnnzs_buf, is_blocking=True)"
   ]
  },
  {
   "cell_type": "code",
   "execution_count": null,
   "id": "143ffa2e",
   "metadata": {},
   "outputs": [],
   "source": [
    "b"
   ]
  },
  {
   "cell_type": "code",
   "execution_count": null,
   "id": "93c83411",
   "metadata": {},
   "outputs": [],
   "source": [
    "bcols"
   ]
  },
  {
   "cell_type": "code",
   "execution_count": null,
   "id": "307d1e92",
   "metadata": {},
   "outputs": [],
   "source": [
    "data_res"
   ]
  },
  {
   "cell_type": "code",
   "execution_count": null,
   "id": "e12995e5",
   "metadata": {},
   "outputs": [],
   "source": [
    "cols_res"
   ]
  },
  {
   "cell_type": "code",
   "execution_count": null,
   "id": "4d88bd60",
   "metadata": {},
   "outputs": [],
   "source": [
    "nnzs_res"
   ]
  },
  {
   "cell_type": "code",
   "execution_count": null,
   "id": "e0e7c9cb",
   "metadata": {},
   "outputs": [],
   "source": [
    "randadd"
   ]
  },
  {
   "cell_type": "code",
   "execution_count": null,
   "id": "47150c28",
   "metadata": {},
   "outputs": [],
   "source": [
    "adenseadd = to_dense(data_res, cols_res, nnzs_res, ellwb, b.shape)\n",
    "adenseadd"
   ]
  },
  {
   "cell_type": "code",
   "execution_count": null,
   "id": "5cab2447",
   "metadata": {},
   "outputs": [],
   "source": [
    "baseadd = (b+randadd)\n",
    "baseadd"
   ]
  },
  {
   "cell_type": "code",
   "execution_count": null,
   "id": "e6ef5fd3",
   "metadata": {},
   "outputs": [],
   "source": [
    "adenseadd - baseadd"
   ]
  },
  {
   "cell_type": "code",
   "execution_count": null,
   "id": "3c44cf1f",
   "metadata": {},
   "outputs": [],
   "source": [
    "(adenseadd - baseadd).sum()"
   ]
  },
  {
   "cell_type": "markdown",
   "id": "a0a6446b",
   "metadata": {},
   "source": [
    "### Update Vals (add sparset)"
   ]
  },
  {
   "cell_type": "code",
   "execution_count": null,
   "id": "77a7c524",
   "metadata": {},
   "outputs": [],
   "source": [
    "multt=np.zeros(mult.T.shape)\n",
    "\n",
    "for row in range(multt.shape[0]):\n",
    "    for col in range(multt.shape[1]):\n",
    "        multt[row][col] = mult[col][row]"
   ]
  },
  {
   "cell_type": "code",
   "execution_count": null,
   "id": "24a8cbcf",
   "metadata": {},
   "outputs": [],
   "source": [
    "multdata, multcols, multnnz, multellw = to_data(multt)\n",
    "multdata_buf = cl.Buffer(ctx, mf.READ_WRITE | mf.COPY_HOST_PTR, hostbuf=multdata)\n",
    "multcols_buf = cl.Buffer(ctx, mf.READ_WRITE | mf.COPY_HOST_PTR, hostbuf=multcols)\n",
    "multnnzs_buf = cl.Buffer(ctx, mf.READ_WRITE | mf.COPY_HOST_PTR, hostbuf=multnnz)"
   ]
  },
  {
   "cell_type": "code",
   "execution_count": null,
   "id": "ad7e0c73",
   "metadata": {},
   "outputs": [],
   "source": [
    "a.shape, b.shape"
   ]
  },
  {
   "cell_type": "code",
   "execution_count": null,
   "id": "bf9e5c9e",
   "metadata": {},
   "outputs": [],
   "source": [
    "res = np.zeros(a.shape[0]).astype(np.float32)\n",
    "#res"
   ]
  },
  {
   "cell_type": "code",
   "execution_count": null,
   "id": "940e9ffa",
   "metadata": {},
   "outputs": [],
   "source": [
    "rows = mult.T.shape[0]"
   ]
  },
  {
   "cell_type": "code",
   "execution_count": null,
   "id": "d560f7e9",
   "metadata": {},
   "outputs": [],
   "source": [
    "mult = mult.astype(np.float32)"
   ]
  },
  {
   "cell_type": "code",
   "execution_count": null,
   "id": "78aeaa8c",
   "metadata": {},
   "outputs": [],
   "source": [
    "res_buf = cl.Buffer(ctx, mf.WRITE_ONLY, b.nbytes)\n",
    "knl = prg.adddense  # Use this Kernel object for repeated calls\n",
    "knl(queue, [rows], None, multdata_buf, multcols_buf, multnnzs_buf, np.float32(1), np.uint32(multellw), \n",
    "    sdatat_buf, sidxst_buf, snnzst_buf, np.uint32(topk))"
   ]
  },
  {
   "cell_type": "code",
   "execution_count": null,
   "id": "b0e8ab07",
   "metadata": {},
   "outputs": [],
   "source": [
    "mult.T"
   ]
  },
  {
   "cell_type": "code",
   "execution_count": null,
   "id": "24da004f",
   "metadata": {},
   "outputs": [],
   "source": [
    "data_res = np.empty_like(multdata)\n",
    "cols_res = np.empty_like(multcols)\n",
    "nnzs_res = np.empty_like(multnnz)\n",
    "cl.enqueue_copy(queue, data_res, multdata_buf, is_blocking=True)\n",
    "cl.enqueue_copy(queue, cols_res, multcols_buf, is_blocking=True)\n",
    "cl.enqueue_copy(queue, nnzs_res, multnnzs_buf, is_blocking=True)"
   ]
  },
  {
   "cell_type": "code",
   "execution_count": null,
   "id": "1ea6665b",
   "metadata": {},
   "outputs": [],
   "source": [
    "multt-data_res.reshape(multt.shape)"
   ]
  },
  {
   "cell_type": "code",
   "execution_count": null,
   "id": "29f989c4",
   "metadata": {},
   "outputs": [],
   "source": [
    "nnzs_res"
   ]
  },
  {
   "cell_type": "code",
   "execution_count": null,
   "id": "3dd2b416",
   "metadata": {},
   "outputs": [],
   "source": [
    "adenseaddt = to_dense(data_res, cols_res, nnzs_res, multellw, multt.shape)\n",
    "adenseaddt"
   ]
  },
  {
   "cell_type": "code",
   "execution_count": null,
   "id": "a65f4871",
   "metadata": {},
   "outputs": [],
   "source": [
    "multt-adenseaddt"
   ]
  },
  {
   "cell_type": "code",
   "execution_count": null,
   "id": "c8fa4a42",
   "metadata": {},
   "outputs": [],
   "source": [
    "adenseaddt"
   ]
  },
  {
   "cell_type": "code",
   "execution_count": null,
   "id": "36f4b9a1",
   "metadata": {},
   "outputs": [],
   "source": [
    "adenseadd.T == adenseaddt"
   ]
  },
  {
   "cell_type": "markdown",
   "id": "c0c255da",
   "metadata": {},
   "source": [
    "### Update Vals (add topk to sparse)"
   ]
  },
  {
   "cell_type": "code",
   "execution_count": null,
   "id": "7b96afa2",
   "metadata": {},
   "outputs": [],
   "source": [
    "matadd = np.random.randn(*a.shape).astype(np.float32)\n",
    "matadd"
   ]
  },
  {
   "cell_type": "code",
   "execution_count": null,
   "id": "412cfeec",
   "metadata": {},
   "outputs": [],
   "source": [
    "a"
   ]
  },
  {
   "cell_type": "code",
   "execution_count": null,
   "id": "5db87320",
   "metadata": {},
   "outputs": [],
   "source": [
    "a_added = a + matadd"
   ]
  },
  {
   "cell_type": "code",
   "execution_count": null,
   "id": "d2b7c76e",
   "metadata": {},
   "outputs": [],
   "source": [
    "adata_buf = cl.Buffer(ctx, mf.READ_WRITE | mf.COPY_HOST_PTR, hostbuf=adata)\n",
    "acols_buf = cl.Buffer(ctx, mf.READ_WRITE | mf.COPY_HOST_PTR, hostbuf=acols)\n",
    "annzs_buf = cl.Buffer(ctx, mf.READ_WRITE | mf.COPY_HOST_PTR, hostbuf=annz)\n",
    "adatat_buf = cl.Buffer(ctx, mf.READ_WRITE | mf.COPY_HOST_PTR, hostbuf=adatat)\n",
    "acolst_buf = cl.Buffer(ctx, mf.READ_WRITE | mf.COPY_HOST_PTR, hostbuf=acolst)\n",
    "annzst_buf = cl.Buffer(ctx, mf.READ_WRITE | mf.COPY_HOST_PTR, hostbuf=annzt)\n",
    "add_buf = cl.Buffer(ctx, mf.READ_WRITE | mf.COPY_HOST_PTR, hostbuf=matadd)\n",
    "\n",
    "prg = cl.Program(ctx, \"\"\"\n",
    "    // Every global_id_0 works on a row\n",
    "    __kernel void adddense(__global  float* matData,     // INPUT MATRIX DATA\n",
    "                            __global  uint*  colIdx,\n",
    "                            __global  uint*  rowNnz,\n",
    "                            float  lr,\n",
    "                            uint   ellwidth,\n",
    "                            uint   awidth,\n",
    "                            __global  float* vector_x    // INPUT\n",
    "                            ) { // LOCAL SHARED BUFFER\n",
    "      uint gid = get_global_id(0);\n",
    "      uint nrows = get_global_size(0);\n",
    "\n",
    "      uint nnz    = rowNnz[gid];\n",
    "      uint baseidxs = gid*ellwidth;\n",
    "      uint baseidxd = gid*awidth;\n",
    "      \n",
    "      for (uint i=0; i<awidth; i++) {\n",
    "        float addval = vector_x[baseidxd+i];\n",
    "        //if (gid==1)\n",
    "        //  printf(\"\\\\nADD VAL:%.2f idx:%i/%i  col:%i\", addval, baseidxs+i, baseidxd+i, colIdx[baseidxs+i]);\n",
    "        if (addval == 0) {\n",
    "          continue;\n",
    "        }\n",
    "        if (i == colIdx[baseidxs+i]) {\n",
    "          matData[baseidxs+i] += addval;\n",
    "        } else {\n",
    "          if (rowNnz[gid] >= ellwidth) {\n",
    "            break;\n",
    "          }\n",
    "          if (i > colIdx[baseidxs+i]) {\n",
    "            rowNnz[gid] += 1;\n",
    "            //if (gid==1)\n",
    "            //  printf(\"\\\\nSET VAL:%.2f idx:%i/%i  col:%i\", addval, baseidxs+i, baseidxd+i, colIdx[i]);\n",
    "            matData[baseidxs+i] = addval;\n",
    "            colIdx[baseidxs+i] = i;\n",
    "            continue;\n",
    "          }\n",
    "          for (uint j=nnz; j>i; j--) {\n",
    "            //printf(\"\\\\nMOVE:%.2f\", matData[baseidx+j-1]);\n",
    "            colIdx[baseidxs+j] = colIdx[baseidxs+j-1];\n",
    "            matData[baseidxs+j] = matData[baseidxs+j-1];\n",
    "          }\n",
    "          rowNnz[gid] += 1;\n",
    "          nnz = rowNnz[gid];\n",
    "          //if (gid==1)\n",
    "          //  printf(\"\\\\nSET VAL:%.2f idx:%i/%i  col:%i\", addval, baseidxs+i, baseidxd+i, colIdx[i]);\n",
    "          matData[baseidxs+i] = addval;\n",
    "          colIdx[baseidxs+i] = i;\n",
    "          if (nnz >= ellwidth)\n",
    "            break;\n",
    "        }\n",
    "      }\n",
    "    }\"\"\").build()"
   ]
  },
  {
   "cell_type": "code",
   "execution_count": null,
   "id": "2adf45e7",
   "metadata": {},
   "outputs": [],
   "source": [
    "a.shape, b.shape"
   ]
  },
  {
   "cell_type": "code",
   "execution_count": null,
   "id": "324edd08",
   "metadata": {},
   "outputs": [],
   "source": [
    "res = np.zeros(a.shape[0]).astype(np.float32)\n",
    "#res"
   ]
  },
  {
   "cell_type": "code",
   "execution_count": null,
   "id": "2cf60c63",
   "metadata": {},
   "outputs": [],
   "source": [
    "rows = a.shape[0]"
   ]
  },
  {
   "cell_type": "code",
   "execution_count": null,
   "id": "05c4e97c",
   "metadata": {},
   "outputs": [],
   "source": [
    "mult = mult.astype(np.float32)"
   ]
  },
  {
   "cell_type": "code",
   "execution_count": null,
   "id": "7d3bb3fd",
   "metadata": {},
   "outputs": [],
   "source": [
    "res_buf = cl.Buffer(ctx, mf.WRITE_ONLY, b.nbytes)\n",
    "knl = prg.adddense  # Use this Kernel object for repeated calls\n",
    "knl(queue, [rows], None, adata_buf, acols_buf, annzs_buf, np.float32(1), np.uint32(ellwa),np.uint32(a.shape[1]), add_buf)"
   ]
  },
  {
   "cell_type": "code",
   "execution_count": null,
   "id": "91283016",
   "metadata": {},
   "outputs": [],
   "source": [
    "matadd[0][0]"
   ]
  },
  {
   "cell_type": "code",
   "execution_count": null,
   "id": "f520b590",
   "metadata": {},
   "outputs": [],
   "source": [
    "data_res = np.empty_like(adata)\n",
    "cols_res = np.empty_like(acols)\n",
    "nnzs_res = np.empty_like(annz)\n",
    "cl.enqueue_copy(queue, data_res, adata_buf)\n",
    "cl.enqueue_copy(queue, cols_res, acols_buf)\n",
    "cl.enqueue_copy(queue, nnzs_res, annzs_buf)"
   ]
  },
  {
   "cell_type": "code",
   "execution_count": null,
   "id": "945bad1d",
   "metadata": {},
   "outputs": [],
   "source": [
    "adenseadd = to_dense(data_res, cols_res, nnzs_res, ellwa, a.shape)\n",
    "adenseadd"
   ]
  },
  {
   "cell_type": "code",
   "execution_count": null,
   "id": "9dc5db0f",
   "metadata": {},
   "outputs": [],
   "source": [
    "a"
   ]
  },
  {
   "cell_type": "code",
   "execution_count": null,
   "id": "488daf6b",
   "metadata": {},
   "outputs": [],
   "source": [
    "matadd"
   ]
  },
  {
   "cell_type": "code",
   "execution_count": null,
   "id": "e0e10dd1",
   "metadata": {},
   "outputs": [],
   "source": [
    "a_added"
   ]
  },
  {
   "cell_type": "code",
   "execution_count": null,
   "id": "fb4ef891",
   "metadata": {},
   "outputs": [],
   "source": [
    "adenseadd"
   ]
  },
  {
   "cell_type": "code",
   "execution_count": null,
   "id": "23f0c0c2",
   "metadata": {},
   "outputs": [],
   "source": [
    "adenseadd == a_added"
   ]
  },
  {
   "cell_type": "markdown",
   "id": "2c377b84",
   "metadata": {},
   "source": [
    "### update vals"
   ]
  },
  {
   "cell_type": "code",
   "execution_count": null,
   "id": "f334a950",
   "metadata": {},
   "outputs": [],
   "source": [
    "adatat_buf = cl.Buffer(ctx, mf.READ_WRITE | mf.COPY_HOST_PTR, hostbuf=adatat)\n",
    "acolst_buf = cl.Buffer(ctx, mf.READ_WRITE | mf.COPY_HOST_PTR, hostbuf=acolst)\n",
    "annzst_buf = cl.Buffer(ctx, mf.READ_WRITE | mf.COPY_HOST_PTR, hostbuf=annzt)\n",
    "add_buf = cl.Buffer(ctx, mf.READ_WRITE | mf.COPY_HOST_PTR, hostbuf=matadd)\n",
    "\n",
    "prg = cl.Program(ctx, \"\"\"\n",
    "    // Every global_id_0 works on a row\n",
    "    __kernel void adddenset(__global  float* matData,     // INPUT MATRIX DATA\n",
    "                            __global  uint*  colIdx,\n",
    "                            __global  uint*  rowNnz,\n",
    "                            float  lr,\n",
    "                            uint   ellwidth,\n",
    "                            uint   aheight,\n",
    "                            __global  float* vector_x    // INPUT\n",
    "                            ) { // LOCAL SHARED BUFFER\n",
    "      uint gid = get_global_id(0);\n",
    "      uint ncols = get_global_size(0);\n",
    "\n",
    "      uint nnz    = rowNnz[gid];\n",
    "      uint baseidxs = gid*ellwidth;\n",
    "      \n",
    "      for (uint i=0; i<aheight; i++) {\n",
    "        if (nnz > ellwidth)\n",
    "            break;\n",
    "        uint baseidxd = i*ncols+gid;\n",
    "        float addval = vector_x[baseidxd];\n",
    "        //if (gid==1)\n",
    "        //  printf(\"\\\\nADD VAL:%.2f idx:%i/%i  col:%i\", addval, baseidxs+i, baseidxd+i, colIdx[baseidxs+i]);\n",
    "        if (addval == 0) {\n",
    "          continue;\n",
    "        }\n",
    "        if (i == colIdx[baseidxs+i]) {\n",
    "          printf(\"\\\\nADD VAL:%.2f idx:%i/%i  col:%i\", addval, baseidxs+i, baseidxd+i, colIdx[i]);\n",
    "          matData[baseidxs+i] += addval;\n",
    "        } else {\n",
    "          if (rowNnz[gid] >= ellwidth) {\n",
    "            break;\n",
    "          }\n",
    "          if (i > colIdx[baseidxs+i]) {\n",
    "            rowNnz[gid] += 1;\n",
    "            //if (gid==1)\n",
    "            //  printf(\"\\\\nSET VAL:%.2f idx:%i/%i  col:%i\", addval, baseidxs+i, baseidxd+i, colIdx[i]);\n",
    "            matData[baseidxs+i] = addval;\n",
    "            colIdx[baseidxs+i] = i;\n",
    "            continue;\n",
    "          }\n",
    "          for (uint j=nnz; j>i; j--) {\n",
    "            //printf(\"\\\\nMOVE:%.2f\", matData[baseidx+j-1]);\n",
    "            colIdx[baseidxs+j] = colIdx[baseidxs+j-1];\n",
    "            matData[baseidxs+j] = matData[baseidxs+j-1];\n",
    "          }\n",
    "          rowNnz[gid] += 1;\n",
    "          nnz = rowNnz[gid];\n",
    "          //if (gid==1)\n",
    "          //  printf(\"\\\\nSET VAL:%.2f idx:%i/%i  col:%i\", addval, baseidxs+i, baseidxd+i, colIdx[i]);\n",
    "          matData[baseidxs+i] = addval;\n",
    "          colIdx[baseidxs+i] = i;\n",
    "        }\n",
    "      }\n",
    "    }\"\"\").build()"
   ]
  },
  {
   "cell_type": "code",
   "execution_count": null,
   "id": "3df220e3",
   "metadata": {},
   "outputs": [],
   "source": [
    "a.shape, b.shape"
   ]
  },
  {
   "cell_type": "code",
   "execution_count": null,
   "id": "4a70fde5",
   "metadata": {},
   "outputs": [],
   "source": [
    "res = np.zeros(a.shape[0]).astype(np.float32)\n",
    "#res"
   ]
  },
  {
   "cell_type": "code",
   "execution_count": null,
   "id": "49cee8e5",
   "metadata": {},
   "outputs": [],
   "source": [
    "cols = a.shape[1]"
   ]
  },
  {
   "cell_type": "code",
   "execution_count": null,
   "id": "ce0c1ed9",
   "metadata": {},
   "outputs": [],
   "source": [
    "mult = mult.astype(np.float32)"
   ]
  },
  {
   "cell_type": "code",
   "execution_count": null,
   "id": "bf98ad4e",
   "metadata": {},
   "outputs": [],
   "source": [
    "res_buf = cl.Buffer(ctx, mf.WRITE_ONLY, b.nbytes)\n",
    "knl = prg.adddenset  # Use this Kernel object for repeated calls\n",
    "knl(queue, [cols], None, adatat_buf, acolst_buf, annzst_buf, np.float32(1), np.uint32(ellwat),np.uint32(a.T.shape[1]), add_buf)"
   ]
  },
  {
   "cell_type": "code",
   "execution_count": null,
   "id": "d01027d6",
   "metadata": {},
   "outputs": [],
   "source": [
    "matadd[0][0]"
   ]
  },
  {
   "cell_type": "code",
   "execution_count": null,
   "id": "c8aa298b",
   "metadata": {},
   "outputs": [],
   "source": [
    "datat_res = np.empty_like(adatat)\n",
    "colst_res = np.empty_like(acolst)\n",
    "nnzst_res = np.empty_like(annzt)\n",
    "cl.enqueue_copy(queue, datat_res, adatat_buf)\n",
    "cl.enqueue_copy(queue, colst_res, acolst_buf)\n",
    "cl.enqueue_copy(queue, nnzst_res, annzst_buf)"
   ]
  },
  {
   "cell_type": "code",
   "execution_count": null,
   "id": "1520b090",
   "metadata": {},
   "outputs": [],
   "source": [
    "adenseaddt = to_dense(datat_res, colst_res, nnzst_res, ellwat, a.T.shape).T\n",
    "adenseaddt"
   ]
  },
  {
   "cell_type": "code",
   "execution_count": null,
   "id": "4991edea",
   "metadata": {},
   "outputs": [],
   "source": [
    "a"
   ]
  },
  {
   "cell_type": "code",
   "execution_count": null,
   "id": "a02d1ebb",
   "metadata": {},
   "outputs": [],
   "source": [
    "matadd"
   ]
  },
  {
   "cell_type": "code",
   "execution_count": null,
   "id": "39b90dde",
   "metadata": {},
   "outputs": [],
   "source": [
    "a_added"
   ]
  },
  {
   "cell_type": "code",
   "execution_count": null,
   "id": "03c95777",
   "metadata": {},
   "outputs": [],
   "source": [
    "adenseaddt == a_added"
   ]
  },
  {
   "cell_type": "markdown",
   "id": "f62eb300",
   "metadata": {},
   "source": [
    "### Make Random"
   ]
  },
  {
   "cell_type": "code",
   "execution_count": null,
   "id": "bc590ff4",
   "metadata": {},
   "outputs": [],
   "source": [
    "rand = SparseTensor.uniform(2,4)\n",
    "rand"
   ]
  },
  {
   "cell_type": "code",
   "execution_count": null,
   "id": "186cbd5b",
   "metadata": {},
   "outputs": [],
   "source": [
    "rand.to_numpy()"
   ]
  },
  {
   "cell_type": "code",
   "execution_count": null,
   "id": "86441521",
   "metadata": {},
   "outputs": [],
   "source": [
    "rand.data"
   ]
  },
  {
   "cell_type": "markdown",
   "id": "6644b755",
   "metadata": {},
   "source": [
    "### update vals"
   ]
  },
  {
   "cell_type": "code",
   "execution_count": null,
   "id": "73b60325",
   "metadata": {},
   "outputs": [],
   "source": [
    "adata_buf = cl.Buffer(ctx, mf.READ_WRITE | mf.COPY_HOST_PTR, hostbuf=adata)\n",
    "acols_buf = cl.Buffer(ctx, mf.READ_WRITE | mf.COPY_HOST_PTR, hostbuf=acols)\n",
    "annzs_buf = cl.Buffer(ctx, mf.READ_WRITE | mf.COPY_HOST_PTR, hostbuf=annz)"
   ]
  },
  {
   "cell_type": "code",
   "execution_count": null,
   "id": "7cb03af3",
   "metadata": {},
   "outputs": [],
   "source": [
    "prg = cl.Program(ctx, \"\"\"\n",
    "// Every global_id_0 works on a row\n",
    "    __kernel void addvals(__global  float* matData,     // INPUT MATRIX DATA\n",
    "                         __global  uint*  colIdx,\n",
    "                         __global  uint*  rowNnz,\n",
    "                         float lr,\n",
    "                         uint   ellwidth,\n",
    "                         __global  float* updatevals,    // INPUT\n",
    "                         __global  uint* updatexidx,\n",
    "                         __global  uint* updateyidx\n",
    "                         ) { // LOCAL SHARED BUFFER\n",
    "      uint gid = get_global_id(0);\n",
    "      uint gid2 = get_global_id(1);\n",
    "      uint topk = get_global_size(0);\n",
    "      uint bs = get_global_size(1);\n",
    "      uint baseupdateidx = topk*topk*gid2;\n",
    "      uint baseidxidx = topk*gid2;\n",
    "      uint col = updateyidx[baseidxidx+gid];\n",
    "\n",
    "      for (uint i=0; i<topk; i++) {\n",
    "        float val = updatevals[baseupdateidx+gid*topk+i];\n",
    "        uint row = updatexidx[baseidxidx+i];\n",
    "        for (uint i=0; i<rowNnz[row]; i++) {\n",
    "          uint idx = row*ellwidth+i;\n",
    "          if (colIdx[idx] >= col) {\n",
    "            //printf(\"\\\\nFOUND:%i/%i  - idx:%i\", colIdx[idx], col, idx);\n",
    "            if (colIdx[idx] == col) {\n",
    "              matData[idx] += -val*lr;\n",
    "              printf(\"\\\\nUPDATE[%i,%i]: %f\", row,col, val);\n",
    "              break;\n",
    "            } else {\n",
    "              // insert new column\n",
    "              printf(\"\\\\nINSERT[%i,%i]: %.2f\", row,col, val);\n",
    "              for (uint j=rowNnz[row]+1; j>i; j--) {\n",
    "                uint idx2 = row*ellwidth+j;\n",
    "                matData[idx2] = matData[idx2-1];\n",
    "                colIdx[idx2] = colIdx[idx2-1];\n",
    "              }\n",
    "              matData[idx] = -val*lr;\n",
    "              colIdx[idx] = col;\n",
    "              rowNnz[row] += 1;\n",
    "              break;\n",
    "            }\n",
    "          }\n",
    "        }\n",
    "        if (rowNnz[row] >= ellwidth) {\n",
    "          break;\n",
    "        }\n",
    "      }\n",
    "    }\"\"\").build()"
   ]
  },
  {
   "cell_type": "code",
   "execution_count": null,
   "id": "14b0cd42",
   "metadata": {},
   "outputs": [],
   "source": [
    "prg = cl.Program(ctx, \"\"\"\n",
    "// Every global_id_0 works on a row\n",
    "    __kernel void addvals(__global  float* matData,     // INPUT MATRIX DATA\n",
    "                         __global  uint*  colIdx,\n",
    "                         __global  uint*  rowNnz,\n",
    "                         float lr,\n",
    "                         uint   ellwidth,\n",
    "                         __global  float* updatevals,    // INPUT\n",
    "                         __global  uint* updatexidx,\n",
    "                         __global  uint* updateyidx\n",
    "                         ) { // LOCAL SHARED BUFFER\n",
    "      uint gid = get_global_id(0);\n",
    "      uint topk = get_global_size(0);\n",
    "      uint col = updateyidx[gid];\n",
    "\n",
    "      for (uint i=0; i<topk; i++) {\n",
    "        float val = updatevals[baseupdateidx+gid*topk+i];\n",
    "        uint row = updatexidx[baseidxidx+i];\n",
    "        for (uint i=0; i<rowNnz[row]; i++) {\n",
    "          uint idx = row*ellwidth+i;\n",
    "          if (colIdx[idx] >= col) {\n",
    "            //printf(\"\\\\nFOUND:%i/%i  - idx:%i\", colIdx[idx], col, idx);\n",
    "            if (colIdx[idx] == col) {\n",
    "              matData[idx] += -val*lr;\n",
    "              printf(\"\\\\nUPDATE[%i,%i]: %f\", row,col, val);\n",
    "              break;\n",
    "            } else {\n",
    "              // insert new column\n",
    "              printf(\"\\\\nINSERT[%i,%i]: %.2f\", row,col, val);\n",
    "              for (uint j=rowNnz[row]+1; j>i; j--) {\n",
    "                uint idx2 = row*ellwidth+j;\n",
    "                matData[idx2] = matData[idx2-1];m\n",
    "                colIdx[idx2] = colIdx[idx2-1];\n",
    "              }\n",
    "              matData[idx] = -val*lr;\n",
    "              colIdx[idx] = col;\n",
    "              rowNnz[row] += 1;\n",
    "              break;\n",
    "            }\n",
    "          }\n",
    "        }\n",
    "        if (rowNnz[row] >= ellwidth) {\n",
    "          break;\n",
    "        }\n",
    "      }\n",
    "    }\"\"\").build()"
   ]
  },
  {
   "cell_type": "code",
   "execution_count": null,
   "id": "0aab86e1",
   "metadata": {},
   "outputs": [],
   "source": [
    "knl = prg.addvals  # Use this Kernel object for repeated calls\n",
    "knl(queue, [topk,1], None, adata_buf, acols_buf, annzs_buf, np.float32(1), np.uint32(ellwa), x_cp_buf, x_idx_buf, y_idx_buf)\n",
    "\n",
    "resa = np.empty_like(adata)\n",
    "resaidx = np.zeros(acols.shape).astype(np.uint32)\n",
    "resannz = np.zeros(annz.shape).astype(np.uint32)\n",
    "\n",
    "cl.enqueue_copy(queue, resa, adata_buf)\n",
    "cl.enqueue_copy(queue, resaidx, acols_buf)\n",
    "cl.enqueue_copy(queue, resannz, annzs_buf)"
   ]
  },
  {
   "cell_type": "code",
   "execution_count": null,
   "id": "d2ff91ba",
   "metadata": {},
   "outputs": [],
   "source": [
    "resa.shape, resaidx.shape, resannz.shape, ellwa, a.T.shape"
   ]
  },
  {
   "cell_type": "code",
   "execution_count": null,
   "id": "190b8546",
   "metadata": {},
   "outputs": [],
   "source": [
    "adenseadd = to_dense(resa, resaidx, resannz, ellwa, a.shape)\n",
    "adenseadd"
   ]
  },
  {
   "cell_type": "code",
   "execution_count": null,
   "id": "3211c6e6",
   "metadata": {},
   "outputs": [],
   "source": [
    "adenseadd - adense"
   ]
  },
  {
   "cell_type": "code",
   "execution_count": null,
   "id": "f63c469b",
   "metadata": {},
   "outputs": [],
   "source": [
    "adenseadd == adense"
   ]
  },
  {
   "cell_type": "code",
   "execution_count": null,
   "id": "922fdfb7",
   "metadata": {},
   "outputs": [],
   "source": [
    "ellwa"
   ]
  },
  {
   "cell_type": "code",
   "execution_count": null,
   "id": "9da55fa5",
   "metadata": {},
   "outputs": [],
   "source": [
    "adata2 = adata.reshape(-1, ellwa)\n",
    "adata2"
   ]
  },
  {
   "cell_type": "code",
   "execution_count": null,
   "id": "466c61fb",
   "metadata": {},
   "outputs": [],
   "source": [
    "resa = resa.reshape(-1, ellwa)\n",
    "resa"
   ]
  },
  {
   "cell_type": "code",
   "execution_count": null,
   "id": "30f36719",
   "metadata": {},
   "outputs": [],
   "source": [
    "resa - adata2"
   ]
  },
  {
   "cell_type": "code",
   "execution_count": null,
   "id": "9dd6baf4",
   "metadata": {},
   "outputs": [],
   "source": [
    "acols"
   ]
  },
  {
   "cell_type": "code",
   "execution_count": null,
   "id": "5c526051",
   "metadata": {},
   "outputs": [],
   "source": [
    "resaidx"
   ]
  },
  {
   "cell_type": "code",
   "execution_count": null,
   "id": "f635a14d",
   "metadata": {},
   "outputs": [],
   "source": [
    "resannz"
   ]
  },
  {
   "cell_type": "code",
   "execution_count": null,
   "id": "d99713b6",
   "metadata": {},
   "outputs": [],
   "source": [
    "annz"
   ]
  },
  {
   "cell_type": "markdown",
   "id": "7c703466",
   "metadata": {},
   "source": [
    "### update vals2"
   ]
  },
  {
   "cell_type": "code",
   "execution_count": null,
   "id": "ed7e786b",
   "metadata": {},
   "outputs": [],
   "source": [
    "adatat_buf = cl.Buffer(ctx, mf.READ_WRITE | mf.COPY_HOST_PTR, hostbuf=adatat)\n",
    "acolst_buf = cl.Buffer(ctx, mf.READ_WRITE | mf.COPY_HOST_PTR, hostbuf=acolst)\n",
    "annzst_buf = cl.Buffer(ctx, mf.READ_WRITE | mf.COPY_HOST_PTR, hostbuf=annzt)"
   ]
  },
  {
   "cell_type": "code",
   "execution_count": null,
   "id": "33840479",
   "metadata": {},
   "outputs": [],
   "source": [
    "prg = cl.Program(ctx, \"\"\"\n",
    "// Every global_id_0 works on a row\n",
    "    __kernel void addvals(__global  float* matData,     // INPUT MATRIX DATA\n",
    "                         __global  uint*  colIdx,\n",
    "                         __global  uint*  rowNnz,\n",
    "                         float lr,\n",
    "                         uint   ellwidth,\n",
    "                         __global  float* updatevals,    // INPUT\n",
    "                         __global  uint* updatexidx,\n",
    "                         __global  uint* updateyidx\n",
    "                         ) { // LOCAL SHARED BUFFER\n",
    "      uint gid = get_global_id(0);\n",
    "      uint gid2 = get_global_id(1);\n",
    "      uint topk = get_global_size(0);\n",
    "      uint bs = get_global_size(1);\n",
    "      uint baseupdateidx = topk*topk*gid2;\n",
    "      uint baseidxidx = topk*gid2;\n",
    "      uint row = updateyidx[baseidxidx+gid];\n",
    "\n",
    "      for (uint i=0; i<topk; i++) {\n",
    "        float val = updatevals[baseupdateidx+gid*topk+i];\n",
    "        uint col = updatexidx[baseidxidx+i];\n",
    "        for (uint i=0; i<rowNnz[row]; i++) {\n",
    "          uint idx = row*ellwidth+i;\n",
    "          if (colIdx[idx] >= col) {\n",
    "            //printf(\"\\\\nFOUND:%i/%i  - idx:%i\", colIdx[idx], col, idx);\n",
    "            if (colIdx[idx] == col) {\n",
    "              matData[idx] += -val*lr;\n",
    "              printf(\"\\\\nUPDATE[%i,%i]: %f\", row,col, val);\n",
    "              break;\n",
    "            } else {\n",
    "              // insert new column\n",
    "              printf(\"\\\\nINSERT[%i,%i]: %.2f\", row,col, val);\n",
    "              for (uint j=rowNnz[row]+1; j>i; j--) {\n",
    "                uint idx2 = row*ellwidth+j;\n",
    "                matData[idx2] = matData[idx2-1];\n",
    "                colIdx[idx2] = colIdx[idx2-1];\n",
    "              }\n",
    "              matData[idx] = -val*lr;\n",
    "              colIdx[idx] = col;\n",
    "              rowNnz[row] += 1;\n",
    "              break;\n",
    "            }\n",
    "          }\n",
    "        }\n",
    "        if (rowNnz[row] >= ellwidth) {\n",
    "          break;\n",
    "        }\n",
    "      }\n",
    "    }\"\"\").build()"
   ]
  },
  {
   "cell_type": "code",
   "execution_count": null,
   "id": "0053ed70",
   "metadata": {},
   "outputs": [],
   "source": [
    "knl = prg.addvals  # Use this Kernel object for repeated calls\n",
    "knl(queue, [topk,bs], None, adatat_buf, acolst_buf, annzst_buf, np.float32(1), np.uint32(ellwat), x_cp_buf, x_idx_buf, y_idx_buf)\n",
    "\n",
    "resat = np.empty_like(adatat)\n",
    "resaidxt = np.zeros(acolst.shape).astype(np.uint32)\n",
    "resannzt = np.zeros(annzt.shape).astype(np.uint32)\n",
    "\n",
    "cl.enqueue_copy(queue, resat, adatat_buf)\n",
    "cl.enqueue_copy(queue, resaidxt, acolst_buf)\n",
    "cl.enqueue_copy(queue, resannzt, annzst_buf)"
   ]
  },
  {
   "cell_type": "code",
   "execution_count": null,
   "id": "8f781e72",
   "metadata": {},
   "outputs": [],
   "source": [
    "ellwa"
   ]
  },
  {
   "cell_type": "code",
   "execution_count": null,
   "id": "1864d3ac",
   "metadata": {},
   "outputs": [],
   "source": [
    "resat.shape, resaidxt.shape, resannzt.shape"
   ]
  },
  {
   "cell_type": "code",
   "execution_count": null,
   "id": "6205962b",
   "metadata": {},
   "outputs": [],
   "source": [
    "adenseaddt = to_dense(resat, resaidxt, resannzt, ellwat, a.T.shape)\n",
    "adenseaddt"
   ]
  },
  {
   "cell_type": "code",
   "execution_count": null,
   "id": "c601a02c",
   "metadata": {},
   "outputs": [],
   "source": [
    "adenseadd == adenseaddt.T"
   ]
  },
  {
   "cell_type": "code",
   "execution_count": null,
   "id": "64a4fdb0",
   "metadata": {},
   "outputs": [],
   "source": [
    "adata2t = adatat.reshape(-1, ellwat)\n",
    "adata2t"
   ]
  },
  {
   "cell_type": "code",
   "execution_count": null,
   "id": "3b8f6062",
   "metadata": {},
   "outputs": [],
   "source": [
    "resat = resat.reshape(-1, ellwat)\n",
    "resat"
   ]
  },
  {
   "cell_type": "code",
   "execution_count": null,
   "id": "eb51f891",
   "metadata": {},
   "outputs": [],
   "source": [
    "resat - adata2t"
   ]
  },
  {
   "cell_type": "code",
   "execution_count": null,
   "id": "f7e150fe",
   "metadata": {},
   "outputs": [],
   "source": [
    "acols"
   ]
  },
  {
   "cell_type": "code",
   "execution_count": null,
   "id": "8f1f18f1",
   "metadata": {},
   "outputs": [],
   "source": [
    "resaidx"
   ]
  },
  {
   "cell_type": "code",
   "execution_count": null,
   "id": "bd326e73",
   "metadata": {},
   "outputs": [],
   "source": [
    "resannz"
   ]
  },
  {
   "cell_type": "code",
   "execution_count": null,
   "id": "357413c1",
   "metadata": {},
   "outputs": [],
   "source": [
    "annz"
   ]
  },
  {
   "cell_type": "markdown",
   "id": "7f618bfd",
   "metadata": {},
   "source": [
    "# OTHER"
   ]
  },
  {
   "cell_type": "markdown",
   "id": "28fd6b45",
   "metadata": {},
   "source": [
    "import numpy as np\n",
    "import pyopencl as cl\n",
    "\n",
    "mf = cl.mem_flags"
   ]
  },
  {
   "cell_type": "markdown",
   "id": "ebed13d1",
   "metadata": {},
   "source": [
    "dim = 16\n",
    "topk = 4\n",
    "\n",
    "x = np.random.rand(dim).astype(np.float32)\n",
    "y = np.random.rand(dim).astype(np.float32)\n",
    "x.shape,y.shape"
   ]
  },
  {
   "cell_type": "markdown",
   "id": "444a4a7f",
   "metadata": {},
   "source": [
    "dim1 = 4\n",
    "dim2 = 8\n",
    "dim3 = 1\n",
    "\n",
    "ctx = cl.create_some_context()\n",
    "queue = cl.CommandQueue(ctx,\n",
    "        properties=cl.command_queue_properties.PROFILING_ENABLE)\n",
    "\n",
    "sparsity = 0.2\n",
    "\n",
    "a = np.zeros((dim1,dim2))\n",
    "b = np.random.rand(dim2,dim3).flatten().astype(np.float32)\n",
    "\n",
    "a.shape, b.shape"
   ]
  },
  {
   "cell_type": "code",
   "execution_count": null,
   "id": "e2d4594d",
   "metadata": {},
   "outputs": [],
   "source": [
    "x_buf = cl.Buffer(ctx, mf.READ_ONLY | mf.COPY_HOST_PTR, hostbuf=x)\n",
    "y_buf = cl.Buffer(ctx, mf.READ_ONLY | mf.COPY_HOST_PTR, hostbuf=y)\n",
    "val_out_buf = cl.Buffer(ctx, mf.READ_WRITE, 4*topk*topk)\n",
    "x_idx_buf = cl.Buffer(ctx, mf.READ_WRITE, topk*4)\n",
    "y_idx_buf = cl.Buffer(ctx, mf.READ_WRITE, topk*4)\n",
    "\n",
    "prg = cl.Program(ctx, \"\"\"\n",
    "// Every global_id_0 works on a row\n",
    "__kernel void genwupdate2(__global  float* x,     // INPUT MATRIX DATA\n",
    "                         __global  float* y,    // INPUT\n",
    "                         __global  float* xout,    // INPUT\n",
    "                         uint topk,\n",
    "                         __global  uint* xoutidx,    // INPUT\n",
    "                         __global  uint* youtidx    // INPUT\n",
    "                        ) { // LOCAL SHARED BUFFER\n",
    "  uint gid = get_global_id(0);\n",
    "  uint n = get_global_size(0);\n",
    "  \n",
    "  xout[gid] = x[gid];\n",
    "  xoutidx[gid] = gid;\n",
    "  youtidx[gid] = gid;\n",
    "  \n",
    "  float valx = x[gid];\n",
    "  float valy = y[gid];\n",
    "  uint posx = 0;\n",
    "  uint posy = 0;\n",
    "  for (uint i = 0; i < n; i++) {\n",
    "    float tempval = x[i];\n",
    "    float tempval2 = y[i];\n",
    "    bool larger = tempval > valx;\n",
    "    bool larger2 = tempval2 > valy;\n",
    "      \n",
    "    posx += (larger)?1:0;\n",
    "    posy += (larger2)?1:0;\n",
    "  }\n",
    "  //printf(\"posx:%i\", posx);\n",
    "  if (posx < topk) {\n",
    "    xoutidx[posx] = gid;\n",
    "  }\n",
    "  if (posy < topk) {\n",
    "    youtidx[posy] = gid;\n",
    "  }\n",
    "  if (gid < topk) {\n",
    "    uint i = gid;\n",
    "    for (uint j=0; j<topk; j++) {\n",
    "      xout[gid*topk+j] = x[xoutidx[gid]] * y[youtidx[j]];\n",
    "    }\n",
    "  }\n",
    "}\"\"\").build()"
   ]
  },
  {
   "cell_type": "code",
   "execution_count": null,
   "id": "f45b3b69",
   "metadata": {},
   "outputs": [],
   "source": [
    "knl = prg.genwupdate2  # Use this Kernel object for repeated calls\n",
    "event = knl(queue, [dim,], None, x_buf, y_buf, val_out_buf, np.uint32(topk), x_idx_buf, y_idx_buf)\n",
    "\n",
    "#event.wait()\n",
    "val_out = np.zeros(topk*topk).astype(np.float32)\n",
    "resxidx = np.zeros(topk).astype(np.uint32)\n",
    "resyidx = np.zeros(topk).astype(np.uint32)\n",
    "\n",
    "cl.enqueue_copy(queue, val_out, val_out_buf)\n",
    "cl.enqueue_copy(queue, resxidx, x_idx_buf, wait_for=[event])\n",
    "cl.enqueue_copy(queue, resyidx, y_idx_buf)"
   ]
  },
  {
   "cell_type": "code",
   "execution_count": null,
   "id": "d883394f",
   "metadata": {},
   "outputs": [],
   "source": [
    "val_out"
   ]
  },
  {
   "cell_type": "code",
   "execution_count": null,
   "id": "2335cf69",
   "metadata": {},
   "outputs": [],
   "source": [
    "resxidx"
   ]
  },
  {
   "cell_type": "code",
   "execution_count": null,
   "id": "5e714f2a",
   "metadata": {},
   "outputs": [],
   "source": [
    "resyidx"
   ]
  },
  {
   "cell_type": "code",
   "execution_count": null,
   "id": "f246c208",
   "metadata": {},
   "outputs": [],
   "source": [
    "asdf"
   ]
  },
  {
   "cell_type": "code",
   "execution_count": null,
   "id": "02a5c5dd",
   "metadata": {},
   "outputs": [],
   "source": [
    "from __future__ import division\n",
    "\n",
    "KERNEL_CODE = \"\"\"\n",
    "// Thread block size\n",
    "#define BLOCK_SIZE %(block_size)d\n",
    "// Matrix dimensions\n",
    "// (chosen as multiples of the thread block size for simplicity)\n",
    "#define WA %(w_a)d // Matrix A width\n",
    "#define HA %(h_a)d // Matrix A height\n",
    "#define WB %(w_b)d // Matrix B width\n",
    "#define HB WA  // Matrix B height\n",
    "#define WC WB  // Matrix C width\n",
    "#define HC HA  // Matrix C height\n",
    "/*\n",
    " * Copyright 1993-2009 NVIDIA Corporation.  All rights reserved.\n",
    " *\n",
    " * NVIDIA Corporation and its licensors retain all intellectual property and\n",
    " * proprietary rights in and to this software and related documentation.\n",
    " * Any use, reproduction, disclosure, or distribution of this software\n",
    " * and related documentation without an express license agreement from\n",
    " * NVIDIA Corporation is strictly prohibited.\n",
    " *\n",
    " * Please refer to the applicable NVIDIA end user license agreement (EULA)\n",
    " * associated with this source code for terms and conditions that govern\n",
    " * your use of this NVIDIA software.\n",
    " *\n",
    " */\n",
    "/* Matrix multiplication: C = A * B.\n",
    " * Device code.\n",
    " */\n",
    "#define AS(j, i) As[i + j * BLOCK_SIZE]\n",
    "#define BS(j, i) Bs[i + j * BLOCK_SIZE]\n",
    "////////////////////////////////////////////////////////////////////////////////\n",
    "//! Matrix multiplication on the device: C = A * B\n",
    "//! WA is A's width and WB is B's width\n",
    "////////////////////////////////////////////////////////////////////////////////\n",
    "__kernel __attribute__((reqd_work_group_size(16,16,1))) \n",
    "void\n",
    "matrixMul( __global float* C, __global float* A, __global float* B)\n",
    "{\n",
    "    __local float As[BLOCK_SIZE*BLOCK_SIZE];\n",
    "    __local float Bs[BLOCK_SIZE*BLOCK_SIZE];\n",
    "    // Block index\n",
    "    int bx = get_group_id(0);\n",
    "    int by = get_group_id(1);\n",
    "    // Thread index\n",
    "    int tx = get_local_id(0);\n",
    "    int ty = get_local_id(1);\n",
    "    // Index of the first sub-matrix of A processed by the block\n",
    "    int aBegin = WA * BLOCK_SIZE * by;\n",
    "    // Index of the last sub-matrix of A processed by the block\n",
    "    int aEnd   = aBegin + WA - 1;\n",
    "    // Step size used to iterate through the sub-matrices of A\n",
    "    int aStep  = BLOCK_SIZE;\n",
    "    // Index of the first sub-matrix of B processed by the block\n",
    "    int bBegin = BLOCK_SIZE * bx;\n",
    "    // Step size used to iterate through the sub-matrices of B\n",
    "    int bStep  = BLOCK_SIZE * WB;\n",
    "    // Csub is used to store the element of the block sub-matrix\n",
    "    // that is computed by the thread\n",
    "    float Csub = 0.0f;\n",
    "    // Loop over all the sub-matrices of A and B\n",
    "    // required to compute the block sub-matrix\n",
    "    for (int a = aBegin, b = bBegin;\n",
    "             a <= aEnd;\n",
    "             a += aStep, b += bStep) {\n",
    "        // Load the matrices from device memory\n",
    "        // to shared memory; each thread loads\n",
    "        // one element of each matrix\n",
    "        AS(ty, tx) = A[a + WA * ty + tx];\n",
    "        BS(ty, tx) = B[b + WB * ty + tx];\n",
    "        // Synchronize to make sure the matrices are loaded\n",
    "        barrier(CLK_LOCAL_MEM_FENCE);\n",
    "        // Multiply the two matrices together;\n",
    "        // each thread computes one element\n",
    "        // of the block sub-matrix\n",
    "        for (int k = 0; k < BLOCK_SIZE; ++k)\n",
    "            Csub += AS(ty, k) * BS(k, tx);\n",
    "        // Synchronize to make sure that the preceding\n",
    "        // computation is done before loading two new\n",
    "        // sub-matrices of A and B in the next iteration\n",
    "        barrier(CLK_LOCAL_MEM_FENCE);\n",
    "    }\n",
    "    // Write the block sub-matrix to device memory;\n",
    "    // each thread writes one element\n",
    "    C[get_global_id(1) * get_global_size(0) + get_global_id(0)] = Csub;\n",
    "}\n",
    "\"\"\"\n"
   ]
  },
  {
   "cell_type": "code",
   "execution_count": null,
   "id": "c1eb509e",
   "metadata": {},
   "outputs": [],
   "source": []
  },
  {
   "cell_type": "code",
   "execution_count": null,
   "id": "9a61206e",
   "metadata": {},
   "outputs": [],
   "source": []
  },
  {
   "cell_type": "code",
   "execution_count": 314,
   "id": "77b4a04e",
   "metadata": {},
   "outputs": [],
   "source": [
    "a2 = np.random.rand(4,4)"
   ]
  },
  {
   "cell_type": "code",
   "execution_count": 315,
   "id": "a0521855",
   "metadata": {},
   "outputs": [
    {
     "data": {
      "text/plain": [
       "array([[0.37732439, 0.3744614 , 0.19944962, 0.88976546],\n",
       "       [0.78897049, 0.22014409, 0.80173979, 0.12590939],\n",
       "       [0.95648153, 0.70116229, 0.62388817, 0.76697481],\n",
       "       [0.13811882, 0.434799  , 0.22015705, 0.31398815]])"
      ]
     },
     "execution_count": 315,
     "metadata": {},
     "output_type": "execute_result"
    }
   ],
   "source": [
    "a2"
   ]
  },
  {
   "cell_type": "code",
   "execution_count": 316,
   "id": "455a9049",
   "metadata": {},
   "outputs": [
    {
     "data": {
      "text/plain": [
       "array([1.84100087, 1.93676375, 3.04850681, 1.10706301])"
      ]
     },
     "execution_count": 316,
     "metadata": {},
     "output_type": "execute_result"
    }
   ],
   "source": [
    "a2.sum(axis=1)"
   ]
  },
  {
   "cell_type": "code",
   "execution_count": 317,
   "id": "5a54a3e3",
   "metadata": {},
   "outputs": [],
   "source": [
    "b2 = np.random.rand(4,4)"
   ]
  },
  {
   "cell_type": "code",
   "execution_count": 318,
   "id": "e231268f",
   "metadata": {},
   "outputs": [
    {
     "data": {
      "text/plain": [
       "array([[0.31342742, 0.37951072, 0.37931032, 0.08043915],\n",
       "       [0.41802246, 0.4204377 , 0.05660451, 0.74130855],\n",
       "       [0.90380912, 0.83411823, 0.68734703, 0.8587971 ],\n",
       "       [0.35209215, 0.94245315, 0.63776965, 0.94046972]])"
      ]
     },
     "execution_count": 318,
     "metadata": {},
     "output_type": "execute_result"
    }
   ],
   "source": [
    "b2"
   ]
  },
  {
   "cell_type": "code",
   "execution_count": 319,
   "id": "625b7a07",
   "metadata": {},
   "outputs": [
    {
     "data": {
      "text/plain": [
       "array([1.98735114, 2.5765198 , 1.76103151, 2.62101452])"
      ]
     },
     "execution_count": 319,
     "metadata": {},
     "output_type": "execute_result"
    }
   ],
   "source": [
    "b2.sum(axis=0)"
   ]
  },
  {
   "cell_type": "code",
   "execution_count": 320,
   "id": "5191e569",
   "metadata": {},
   "outputs": [
    {
     "data": {
      "text/plain": [
       "array([[0.7683409 , 1.30556316, 0.86887575, 1.31602731],\n",
       "       [1.1082616 , 1.17938911, 0.94310044, 1.03360458],\n",
       "       [1.42681075, 1.90102439, 1.32047321, 1.8538261 ],\n",
       "       [0.53457868, 0.71477959, 0.42857788, 0.81779695]])"
      ]
     },
     "execution_count": 320,
     "metadata": {},
     "output_type": "execute_result"
    }
   ],
   "source": [
    "matmul = a2.dot(b2)\n",
    "matmul"
   ]
  },
  {
   "cell_type": "code",
   "execution_count": null,
   "id": "b3a24c19",
   "metadata": {},
   "outputs": [],
   "source": []
  },
  {
   "cell_type": "code",
   "execution_count": null,
   "id": "6519eb75",
   "metadata": {},
   "outputs": [],
   "source": []
  },
  {
   "cell_type": "code",
   "execution_count": null,
   "id": "16d754cb",
   "metadata": {},
   "outputs": [],
   "source": []
  },
  {
   "cell_type": "code",
   "execution_count": null,
   "id": "c91d5425",
   "metadata": {},
   "outputs": [],
   "source": []
  },
  {
   "cell_type": "code",
   "execution_count": null,
   "id": "d9f4a6f0",
   "metadata": {},
   "outputs": [],
   "source": []
  },
  {
   "cell_type": "code",
   "execution_count": null,
   "id": "9f708713",
   "metadata": {},
   "outputs": [],
   "source": []
  },
  {
   "cell_type": "code",
   "execution_count": null,
   "id": "e59475d1",
   "metadata": {},
   "outputs": [],
   "source": []
  },
  {
   "cell_type": "code",
   "execution_count": null,
   "id": "3dd6c3a3",
   "metadata": {},
   "outputs": [],
   "source": []
  },
  {
   "cell_type": "code",
   "execution_count": null,
   "id": "7e83b426",
   "metadata": {},
   "outputs": [],
   "source": []
  },
  {
   "cell_type": "code",
   "execution_count": null,
   "id": "af6af470",
   "metadata": {},
   "outputs": [],
   "source": []
  },
  {
   "cell_type": "code",
   "execution_count": null,
   "id": "e2b3a039",
   "metadata": {},
   "outputs": [],
   "source": []
  },
  {
   "cell_type": "code",
   "execution_count": null,
   "id": "2da19095",
   "metadata": {},
   "outputs": [],
   "source": []
  }
 ],
 "metadata": {
  "kernelspec": {
   "display_name": "Python 3",
   "language": "python",
   "name": "python3"
  },
  "language_info": {
   "codemirror_mode": {
    "name": "ipython",
    "version": 3
   },
   "file_extension": ".py",
   "mimetype": "text/x-python",
   "name": "python",
   "nbconvert_exporter": "python",
   "pygments_lexer": "ipython3",
   "version": "3.8.12"
  }
 },
 "nbformat": 4,
 "nbformat_minor": 5
}
